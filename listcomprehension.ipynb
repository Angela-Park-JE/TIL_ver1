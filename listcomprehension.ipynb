{
 "cells": [
  {
   "cell_type": "markdown",
   "metadata": {},
   "source": [
    "## 리스트 컴프리핸션 기초사용법\n",
    "\n",
    "리스트 컴프리핸션을 공부하는게 코드를 최대한 압축하여쓰는 좋은 것이라는 것을 알게된지 어연 일년(?)\n",
    "\n",
    "자유롭게 쓰는것이 목표이긴 하지만, 무엇보다 누군가가 쓴 코드를 이해하는데도 꼭 필요한 것이라 \n",
    "\n",
    "잘 정리해둔 분의 파일을 감사한 마음으로 가져와 연습하기로 했다.\n",
    "\n",
    "_출처 : https://github.com/netsus/python_practice/blob/master/list%20comprehension.ipynb_\n",
    "\n"
   ]
  },
  {
   "cell_type": "markdown",
   "metadata": {},
   "source": [
    "### 리스트 컴프리핸션으로 나타낼 수 있는 것은, for문을 통해서도 나타낼 수 있다."
   ]
  },
  {
   "cell_type": "code",
   "execution_count": 1,
   "metadata": {
    "ExecuteTime": {
     "end_time": "2020-08-20T10:20:11.134917Z",
     "start_time": "2020-08-20T10:20:11.116852Z"
    }
   },
   "outputs": [],
   "source": [
    "# for 문으로 list만들기\n",
    "\n",
    "li=[]\n",
    "for i in range(5):\n",
    "    li.append(i)"
   ]
  },
  {
   "cell_type": "code",
   "execution_count": 2,
   "metadata": {
    "ExecuteTime": {
     "end_time": "2020-08-20T10:20:11.949654Z",
     "start_time": "2020-08-20T10:20:11.929971Z"
    }
   },
   "outputs": [
    {
     "data": {
      "text/plain": [
       "[0, 1, 2, 3, 4]"
      ]
     },
     "execution_count": 2,
     "metadata": {},
     "output_type": "execute_result"
    }
   ],
   "source": [
    "li"
   ]
  },
  {
   "cell_type": "code",
   "execution_count": 3,
   "metadata": {
    "ExecuteTime": {
     "end_time": "2020-08-20T10:20:19.751539Z",
     "start_time": "2020-08-20T10:20:19.724464Z"
    }
   },
   "outputs": [
    {
     "data": {
      "text/plain": [
       "[0, 1, 2, 3, 4]"
      ]
     },
     "execution_count": 3,
     "metadata": {},
     "output_type": "execute_result"
    }
   ],
   "source": [
    "# 리스트 컴프리핸션으로 for문처럼 list 만들기\n",
    "\n",
    "[i for i in range(5)]"
   ]
  },
  {
   "cell_type": "code",
   "execution_count": 4,
   "metadata": {
    "ExecuteTime": {
     "end_time": "2020-08-20T10:45:53.248372Z",
     "start_time": "2020-08-20T10:45:53.242921Z"
    }
   },
   "outputs": [
    {
     "data": {
      "text/plain": [
       "[0, 1, 2, 3, 4]"
      ]
     },
     "execution_count": 4,
     "metadata": {},
     "output_type": "execute_result"
    }
   ],
   "source": [
    "list(range(5))"
   ]
  },
  {
   "cell_type": "markdown",
   "metadata": {},
   "source": [
    "## 수식 적용\n",
    "\n",
    "앞에 선언한 변수에 바로 수식을 적용하여 만들 수도 있다."
   ]
  },
  {
   "cell_type": "code",
   "execution_count": 5,
   "metadata": {
    "ExecuteTime": {
     "end_time": "2020-08-20T10:25:51.202929Z",
     "start_time": "2020-08-20T10:25:51.194777Z"
    }
   },
   "outputs": [
    {
     "data": {
      "text/plain": [
       "[0, 10, 20, 30, 40]"
      ]
     },
     "execution_count": 5,
     "metadata": {},
     "output_type": "execute_result"
    }
   ],
   "source": [
    "[i*10 for i in range(5)]"
   ]
  },
  {
   "cell_type": "markdown",
   "metadata": {},
   "source": [
    "### 수식 뿐만 아니라 함수도 적용가능"
   ]
  },
  {
   "cell_type": "code",
   "execution_count": 7,
   "metadata": {
    "ExecuteTime": {
     "end_time": "2020-08-20T10:26:35.787553Z",
     "start_time": "2020-08-20T10:26:35.781417Z"
    }
   },
   "outputs": [
    {
     "data": {
      "text/plain": [
       "['0ab', '1ab', '2ab', '3ab', '4ab']"
      ]
     },
     "execution_count": 7,
     "metadata": {},
     "output_type": "execute_result"
    }
   ],
   "source": [
    "# 숫자 시퀀스 뒤에 ab를 붙인 것을 반환하는 함수\n",
    "def test(x):\n",
    "    x = str(x)+'ab'\n",
    "    return x\n",
    "\n",
    "# 함수를 넣은 채 놓으면 바로 사용이 가능하다\n",
    "[test(i) for i in range(5)]"
   ]
  },
  {
   "cell_type": "markdown",
   "metadata": {},
   "source": [
    "## 조건문 사용"
   ]
  },
  {
   "cell_type": "markdown",
   "metadata": {},
   "source": [
    "### 오른쪽에 if문 사용\n",
    "- if문만 사용되고, and 조건으로 여러 조건을 줄 수 있다."
   ]
  },
  {
   "cell_type": "code",
   "execution_count": 8,
   "metadata": {
    "ExecuteTime": {
     "end_time": "2020-08-20T10:22:49.347114Z",
     "start_time": "2020-08-20T10:22:49.338003Z"
    }
   },
   "outputs": [
    {
     "data": {
      "text/plain": [
       "[0, 2, 4]"
      ]
     },
     "execution_count": 8,
     "metadata": {},
     "output_type": "execute_result"
    }
   ],
   "source": [
    "# 2로 나눈 나머지가 0인 i 출력\n",
    "\n",
    "[i for i in range(5) if i%2==0]"
   ]
  },
  {
   "cell_type": "code",
   "execution_count": 9,
   "metadata": {
    "ExecuteTime": {
     "end_time": "2020-08-20T10:22:58.317834Z",
     "start_time": "2020-08-20T10:22:58.310641Z"
    }
   },
   "outputs": [
    {
     "data": {
      "text/plain": [
       "[0, 4]"
      ]
     },
     "execution_count": 9,
     "metadata": {},
     "output_type": "execute_result"
    }
   ],
   "source": [
    "# 2로 나눈 나머지가 0이고 4로 나눈 나머지가 0인 i 출력\n",
    "\n",
    "[i for i in range(5) if i%2==0 if i%4==0]"
   ]
  },
  {
   "cell_type": "markdown",
   "metadata": {},
   "source": [
    "### 왼쪽에 if문 사용 (else 같이 사용해야됨)"
   ]
  },
  {
   "cell_type": "code",
   "execution_count": 10,
   "metadata": {
    "ExecuteTime": {
     "end_time": "2020-08-20T11:13:40.692918Z",
     "start_time": "2020-08-20T11:13:40.686708Z"
    }
   },
   "outputs": [
    {
     "data": {
      "text/plain": [
       "[0, 'odd', 2, 'odd', 4]"
      ]
     },
     "execution_count": 10,
     "metadata": {},
     "output_type": "execute_result"
    }
   ],
   "source": [
    "# 짝수는 그대로, 홀수인 경우 'odd'를 출력\n",
    "\n",
    "[i if i%2==0 else 'odd' for i in range(5)]"
   ]
  },
  {
   "cell_type": "markdown",
   "metadata": {},
   "source": [
    "#### if else를 여러개 사용해서 elif 효과주기"
   ]
  },
  {
   "cell_type": "code",
   "execution_count": 11,
   "metadata": {
    "ExecuteTime": {
     "end_time": "2020-08-20T10:28:41.907423Z",
     "start_time": "2020-08-20T10:28:41.896920Z"
    }
   },
   "outputs": [
    {
     "data": {
      "text/plain": [
       "[0, 'odd-1', 2, 'odd-3', 4]"
      ]
     },
     "execution_count": 11,
     "metadata": {},
     "output_type": "execute_result"
    }
   ],
   "source": [
    "# 순서대로 하기 때문에 첫 번째 홀수 1은 'odd-1'을, 2를 넘어 두 번째 홀수 3에서는 'odd-3'을 출력\n",
    "\n",
    "[i if i%2==0 else 'odd-1' if i==1 else 'odd-3'  for i in range(5)]"
   ]
  },
  {
   "cell_type": "markdown",
   "metadata": {},
   "source": [
    "## for문 2개 사용하기"
   ]
  },
  {
   "cell_type": "code",
   "execution_count": 15,
   "metadata": {
    "ExecuteTime": {
     "end_time": "2020-08-20T11:23:49.706625Z",
     "start_time": "2020-08-20T11:23:49.700896Z"
    }
   },
   "outputs": [
    {
     "data": {
      "text/plain": [
       "[(0, 0), (0, 1), (0, 2), (1, 0), (1, 1), (1, 2)]"
      ]
     },
     "execution_count": 15,
     "metadata": {},
     "output_type": "execute_result"
    }
   ],
   "source": [
    "# for문으로 만들었을 경우 이렇게 작성이 가능하다.\n",
    "# j가 2까지 돌면 i가 1씩 올라가는 시퀀스.\n",
    "\n",
    "li=[]\n",
    "for i in range(2):\n",
    "    for j in range(3):\n",
    "        li.append((i,j))\n",
    "li"
   ]
  },
  {
   "cell_type": "code",
   "execution_count": 16,
   "metadata": {
    "ExecuteTime": {
     "end_time": "2020-08-20T10:29:28.464320Z",
     "start_time": "2020-08-20T10:29:28.456818Z"
    }
   },
   "outputs": [
    {
     "data": {
      "text/plain": [
       "[(0, 0), (0, 1), (0, 2), (1, 0), (1, 1), (1, 2)]"
      ]
     },
     "execution_count": 16,
     "metadata": {},
     "output_type": "execute_result"
    }
   ],
   "source": [
    "# i와 j 각각 적용되는 for문은 이렇게 쓸 수 있다.\n",
    "\n",
    "[(i,j) for i in range(2) for j in range(3)]"
   ]
  },
  {
   "cell_type": "markdown",
   "metadata": {},
   "source": [
    "## 집합 컴프리헨션"
   ]
  },
  {
   "cell_type": "code",
   "execution_count": 17,
   "metadata": {
    "ExecuteTime": {
     "end_time": "2020-08-20T11:34:55.085581Z",
     "start_time": "2020-08-20T11:34:55.076838Z"
    }
   },
   "outputs": [
    {
     "data": {
      "text/plain": [
       "{0, 1, 2, 3, 4}"
      ]
     },
     "execution_count": 17,
     "metadata": {},
     "output_type": "execute_result"
    }
   ],
   "source": [
    "# {} 은 이렇게 만들 수 있다.\n",
    "\n",
    "{i for i in range(5)}"
   ]
  },
  {
   "cell_type": "markdown",
   "metadata": {},
   "source": [
    "## 딕셔너리 컴프리헨션"
   ]
  },
  {
   "cell_type": "code",
   "execution_count": 18,
   "metadata": {
    "ExecuteTime": {
     "end_time": "2020-08-20T11:35:01.710202Z",
     "start_time": "2020-08-20T11:35:01.700945Z"
    }
   },
   "outputs": [
    {
     "data": {
      "text/plain": [
       "{0: 0, 1: 1, 2: 2, 3: 3, 4: 4}"
      ]
     },
     "execution_count": 18,
     "metadata": {},
     "output_type": "execute_result"
    }
   ],
   "source": [
    "# 키와 밸류가 각각 i인 딕셔너리 생성.\n",
    "\n",
    "{i:i for i in range(5)}"
   ]
  },
  {
   "cell_type": "code",
   "execution_count": null,
   "metadata": {},
   "outputs": [],
   "source": []
  }
 ],
 "metadata": {
  "kernelspec": {
   "display_name": "Python 3 (ipykernel)",
   "language": "python",
   "name": "python3"
  },
  "language_info": {
   "codemirror_mode": {
    "name": "ipython",
    "version": 3
   },
   "file_extension": ".py",
   "mimetype": "text/x-python",
   "name": "python",
   "nbconvert_exporter": "python",
   "pygments_lexer": "ipython3",
   "version": "3.8.5"
  },
  "toc": {
   "base_numbering": 1,
   "nav_menu": {},
   "number_sections": true,
   "sideBar": true,
   "skip_h1_title": false,
   "title_cell": "Table of Contents",
   "title_sidebar": "Contents",
   "toc_cell": false,
   "toc_position": {},
   "toc_section_display": true,
   "toc_window_display": false
  }
 },
 "nbformat": 4,
 "nbformat_minor": 4
}

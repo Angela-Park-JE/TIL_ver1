{
 "cells": [
  {
   "cell_type": "markdown",
   "id": "749fdded",
   "metadata": {
    "toc": true
   },
   "source": [
    "<h1>Table of Contents<span class=\"tocSkip\"></span></h1>\n",
    "<div class=\"toc\"><ul class=\"toc-item\"><li><span><a href=\"#컬러맵-만들기\" data-toc-modified-id=\"컬러맵-만들기-1\"><span class=\"toc-item-num\">1&nbsp;&nbsp;</span>컬러맵 만들기</a></span><ul class=\"toc-item\"><li><span><a href=\"#색상코드로-만들기\" data-toc-modified-id=\"색상코드로-만들기-1.1\"><span class=\"toc-item-num\">1.1&nbsp;&nbsp;</span>색상코드로 만들기</a></span></li><li><span><a href=\"#rgb로-컬러맵-만들기\" data-toc-modified-id=\"rgb로-컬러맵-만들기-1.2\"><span class=\"toc-item-num\">1.2&nbsp;&nbsp;</span>rgb로 컬러맵 만들기</a></span></li></ul></li><li><span><a href=\"#my-colormap-preset\" data-toc-modified-id=\"my-colormap-preset-2\"><span class=\"toc-item-num\">2&nbsp;&nbsp;</span>my colormap preset</a></span><ul class=\"toc-item\"><li><span><a href=\"#Pastel-Orange-and-Blue\" data-toc-modified-id=\"Pastel-Orange-and-Blue-2.1\"><span class=\"toc-item-num\">2.1&nbsp;&nbsp;</span>Pastel Orange and Blue</a></span></li><li><span><a href=\"#Vintage-leaf-Green-and-Burgundy\" data-toc-modified-id=\"Vintage-leaf-Green-and-Burgundy-2.2\"><span class=\"toc-item-num\">2.2&nbsp;&nbsp;</span>Vintage leaf Green and Burgundy</a></span></li><li><span><a href=\"#Vintage-bright-Blue-and-Yellow\" data-toc-modified-id=\"Vintage-bright-Blue-and-Yellow-2.3\"><span class=\"toc-item-num\">2.3&nbsp;&nbsp;</span>Vintage bright Blue and Yellow</a></span></li></ul></li></ul></div>"
   ]
  },
  {
   "cell_type": "markdown",
   "id": "f45967c8",
   "metadata": {},
   "source": [
    "## 컬러맵 만들기\n",
    "\n",
    "참조: https://seong6496.tistory.com/252\n",
    "\n",
    "나만의 컬러맵 만들수도 있지만 약간 복잡합니다. \n",
    "`matplotlib.colors.LinearSegmentedColormap.from_list`로 컬러맵을 만들 수 있습니다.\n",
    "\n",
    "파라미터는 다음과 같습니다.\n",
    "\n",
    "`name` : 컬러맵의 이름 정하기  \n",
    "`colors` : 컬러 넣기(rgb형식일때는 array 형식으로 넣어야 한다), 색상코드는 리스트형식으로 가능  \n",
    "`N` : rgb 양자화 수준. 디폴트 256  \n",
    "`gamma` : float, 색상의 정도 값이 클수록 확연하게 구분됨  \n",
    "\n",
    "\n",
    "### 색상코드로 만들기\n",
    "adobe 컬러맵 활용: https://color.adobe.com/ko/create/color-wheel\n"
   ]
  },
  {
   "cell_type": "code",
   "execution_count": 1,
   "id": "1ee8f205",
   "metadata": {},
   "outputs": [
    {
     "data": {
      "image/png": "[encoded data removed]",
      "text/html": [
       "<div style=\"vertical-align: middle;\"><strong>my_cmap</strong> </div><div class=\"cmap\"><img alt=\"my_cmap colormap\" title=\"my_cmap\" style=\"border: 1px solid #555;\" src=\"data:image/png;base64,iVBORw0KGgoAAAANSUhEUgAAAgAAAABACAYAAABsv8+/AAAAFnRFWHRUaXRsZQBteV9jbWFwIGNvbG9ybWFw2E+iFQAAABx0RVh0RGVzY3JpcHRpb24AbXlfY21hcCBjb2xvcm1hcH9hE2wAAAAwdEVYdEF1dGhvcgBNYXRwbG90bGliIHYzLjUuMiwgaHR0cHM6Ly9tYXRwbG90bGliLm9yZ8JaeJwAAAAydEVYdFNvZnR3YXJlAE1hdHBsb3RsaWIgdjMuNS4yLCBodHRwczovL21hdHBsb3RsaWIub3Jn7PznuwAAAftJREFUeJzt1klyg0AQRUHs+5+52xsNQbUKkOTdz9zYQE9IDsf7mXPObdu224//d7Zs83yePN/qebvLOr+OO1nnfr18PM28ddx+fPd8lnH982a9WcfP/f26/H3+uDb/6v5zdPNuv4zX6832eT1n2fcxvpk/9uOXddrr/fu048r+z/t133K+Zd3mfrlu16nv2+3Trbc/xu633dXj6z2edza+nbf8+XfnKPt8Of7tdcsLtuuejVv2Ox63dePaz/n1uHWf1+ddp9X79XP58pwfn6/832nO9fxeZnN/XBw/DtcZp+scP3/Mvzxv3Oa9916/GwAQRwAAQCABAACBBAAABBIAABBIAABAIAEAAIEEAAAEEgAAEEgAAEAgAQAAgQQAAAQSAAAQSAAAQCABAACBBAAABBIAABBIAABAIAEAAIEEAAAEEgAAEEgAAEAgAQAAgQQAAAQSAAAQSAAAQCABAACBBAAABBIAABBIAABAIAEAAIEEAAAEEgAAEEgAAEAgAQAAgQQAAAQSAAAQSAAAQCABAACBBAAABBIAABBIAABAIAEAAIEEAAAEEgAAEEgAAEAgAQAAgQQAAAQSAAAQSAAAQCABAACBBAAABBIAABBIAABAIAEAAIEEAAAEEgAAEEgAAEAgAQAAgQQAAAQSAAAQSAAAQCABAACB/gDd2HTraOuszAAAAABJRU5ErkJggg==\"></div><div style=\"vertical-align: middle; max-width: 514px; display: flex; justify-content: space-between;\"><div style=\"float: left;\"><div title=\"#ffffffff\" style=\"display: inline-block; width: 1em; height: 1em; margin: 0; vertical-align: middle; border: 1px solid #555; background-color: #ffffffff;\"></div> under</div><div style=\"margin: 0 auto; display: inline-block;\">bad <div title=\"#00000000\" style=\"display: inline-block; width: 1em; height: 1em; margin: 0; vertical-align: middle; border: 1px solid #555; background-color: #00000000;\"></div></div><div style=\"float: right;\">over <div title=\"#7e508fff\" style=\"display: inline-block; width: 1em; height: 1em; margin: 0; vertical-align: middle; border: 1px solid #555; background-color: #7e508fff;\"></div></div>"
      ],
      "text/plain": [
       "<matplotlib.colors.LinearSegmentedColormap at 0x7f7eb6c544f0>"
      ]
     },
     "execution_count": 1,
     "metadata": {},
     "output_type": "execute_result"
    }
   ],
   "source": [
    "from matplotlib.colors import LinearSegmentedColormap\n",
    "colors = ['#FFFFFF','#CF7CDE','#B472CC','#A468BA','#7E508F']\n",
    "cmap = LinearSegmentedColormap.from_list('my_cmap',colors,gamma=2)\n",
    "cmap"
   ]
  },
  {
   "cell_type": "code",
   "execution_count": 2,
   "id": "81b797b4",
   "metadata": {},
   "outputs": [],
   "source": [
    "# plt.imshow(df,cmap=cmap,interpolation='none')\n",
    "# plt.colorbar()\n",
    "# plt.xticks(range(len(df.columns)),df.columns)\n",
    "# plt.yticks(range(len(df)), df.index)\n",
    "# plt.show()"
   ]
  },
  {
   "cell_type": "markdown",
   "id": "07d2c8f3",
   "metadata": {},
   "source": [
    "### rgb로 컬러맵 만들기\n",
    "rgb로 하면 굉장히 간편하게 할 수 있을것 같지만 from_list에서는 0~1 사이의 값만 허용하므로 굉장히 난감합니다. 또한, heatmap의 사용하려면 색상의 채도만 변하는 게 좋을 수 있는데 rgb로 채도만 바뀐 색상 rgb코드를 알아내는게 굉장히 어렵습니다.  \n",
    "이런 경우는 HSV 색 공간을 사용하면 좋습니다.  \n",
    "HSV 색 공간은 색상(Hue),채도(Saturation), 명도(Value)의 좌표로 색상을 표현한 지표입니다.  \n",
    "\n",
    "이를 이용해 색상을 하나 고르고 채도만 변경하면 그럴듯한 컬러맵이 나옵니다.  \n",
    "HSV를 확인하려면 구글에서 color picker라 칩니다.  \n",
    "맨 위에 색상 선택도구가 나옵니다. 여기서 HSV를 확인할 수 있습니다.  \n",
    "\n"
   ]
  },
  {
   "cell_type": "code",
   "execution_count": 3,
   "id": "0e7d9d0d",
   "metadata": {},
   "outputs": [],
   "source": [
    "# import matplotlib.colors as mcl\n",
    "# h = 4\n",
    "# s = 0.99 #현재 예제에선 필요없음\n",
    "# v = 1\n",
    "# #colors = [white,빨강(채도50%),빨강(채도100%)]\n",
    "# # rgb로 변경 -> mcl.hsv_to_rgb(h,s,v)\n",
    "\n",
    "# colors = [\n",
    "#     mcl.hsv_to_rgb((h/360,0,v)),\n",
    "#     mcl.hsv_to_rgb((h/360,0.5,v)),\n",
    "#     mcl.hsv_to_rgb((h/360,1,v))\n",
    "# ]\n",
    "\n",
    "# cmap = LinearSegmentedColormap.from_list('my_cmap',colors,gamma=2)\n",
    "\n",
    "# cmap"
   ]
  },
  {
   "cell_type": "code",
   "execution_count": 4,
   "id": "9ae7179e",
   "metadata": {},
   "outputs": [],
   "source": [
    "# plt.imshow(df,cmap=cmap,interpolation='none')\n",
    "# plt.colorbar()\n",
    "# plt.xticks(range(len(df.columns)),df.columns)\n",
    "# plt.yticks(range(len(df)), df.index)\n",
    "# plt.show()"
   ]
  },
  {
   "cell_type": "markdown",
   "id": "a5b3c253",
   "metadata": {},
   "source": [
    "## my colormap preset\n",
    "\n",
    "### Pastel Orange and Blue"
   ]
  },
  {
   "cell_type": "code",
   "execution_count": 5,
   "id": "a6b1ccfe",
   "metadata": {},
   "outputs": [
    {
     "data": {
      "image/png": "[encoded data removed]",
      "text/html": [
       "<div style=\"vertical-align: middle;\"><strong>my_cmap</strong> </div><div class=\"cmap\"><img alt=\"my_cmap colormap\" title=\"my_cmap\" style=\"border: 1px solid #555;\" src=\"data:image/png;base64,iVBORw0KGgoAAAANSUhEUgAAAgAAAABACAYAAABsv8+/AAAAFnRFWHRUaXRsZQBteV9jbWFwIGNvbG9ybWFw2E+iFQAAABx0RVh0RGVzY3JpcHRpb24AbXlfY21hcCBjb2xvcm1hcH9hE2wAAAAwdEVYdEF1dGhvcgBNYXRwbG90bGliIHYzLjUuMiwgaHR0cHM6Ly9tYXRwbG90bGliLm9yZ8JaeJwAAAAydEVYdFNvZnR3YXJlAE1hdHBsb3RsaWIgdjMuNS4yLCBodHRwczovL21hdHBsb3RsaWIub3Jn7PznuwAAAcdJREFUeJzt1ktuwjAUQFG3+9+zO+hPNVhJ+hFS7zmDIowTHiRU92nOOccY4+1hvP799P58zs36sjDH5jxz3F8/PP/XAx823815lvkuz7F5vwdfh/1889Txf/05x/L6zXwHxz/qOnx/jnX9bz7naj3+8+lm/9G+zX1zs//guo/NdTk9x2bf+r0ezrH8Hu6/Oi7PezPHcsL1Ptif5/7+43l/OMf95etzHPzf/9i1ecOz9+/ZeX/v/r06x9n79+Icb5436wDAPyYAACBIAABAkAAAgCABAABBAgAAggQAAAQJAAAIEgAAECQAACBIAABAkAAAgCABAABBAgAAggQAAAQJAAAIEgAAECQAACBIAABAkAAAgCABAABBAgAAggQAAAQJAAAIEgAAECQAACBIAABAkAAAgCABAABBAgAAggQAAAQJAAAIEgAAECQAACBIAABAkAAAgCABAABBAgAAggQAAAQJAAAIEgAAECQAACBIAABAkAAAgCABAABBAgAAggQAAAQJAAAIEgAAECQAACBIAABAkAAAgCABAABBAgAAggQAAAQJAAAIEgAAECQAACBIAABAkAAAgCABAABBAgAAggQAAAS9AJTA45zJcegcAAAAAElFTkSuQmCC\"></div><div style=\"vertical-align: middle; max-width: 514px; display: flex; justify-content: space-between;\"><div style=\"float: left;\"><div title=\"#ffffffff\" style=\"display: inline-block; width: 1em; height: 1em; margin: 0; vertical-align: middle; border: 1px solid #555; background-color: #ffffffff;\"></div> under</div><div style=\"margin: 0 auto; display: inline-block;\">bad <div title=\"#00000000\" style=\"display: inline-block; width: 1em; height: 1em; margin: 0; vertical-align: middle; border: 1px solid #555; background-color: #00000000;\"></div></div><div style=\"float: right;\">over <div title=\"#7fc3dbff\" style=\"display: inline-block; width: 1em; height: 1em; margin: 0; vertical-align: middle; border: 1px solid #555; background-color: #7fc3dbff;\"></div></div>"
      ],
      "text/plain": [
       "<matplotlib.colors.LinearSegmentedColormap at 0x7f7eb7afe910>"
      ]
     },
     "execution_count": 5,
     "metadata": {},
     "output_type": "execute_result"
    }
   ],
   "source": [
    "# one-colored (p-value heatmap)\n",
    "colors = ['#FFFFFF','#ACE0F2','#7FC3DB']\n",
    "cmap_one = LinearSegmentedColormap.from_list('my_cmap', colors, gamma=1)\n",
    "cmap_one"
   ]
  },
  {
   "cell_type": "code",
   "execution_count": 6,
   "id": "3159a573",
   "metadata": {},
   "outputs": [
    {
     "data": {
      "image/png": "[encoded data removed]",
      "text/html": [
       "<div style=\"vertical-align: middle;\"><strong>my_cmap</strong> </div><div class=\"cmap\"><img alt=\"my_cmap colormap\" title=\"my_cmap\" style=\"border: 1px solid #555;\" src=\"data:image/png;base64,iVBORw0KGgoAAAANSUhEUgAAAgAAAABACAYAAABsv8+/AAAAFnRFWHRUaXRsZQBteV9jbWFwIGNvbG9ybWFw2E+iFQAAABx0RVh0RGVzY3JpcHRpb24AbXlfY21hcCBjb2xvcm1hcH9hE2wAAAAwdEVYdEF1dGhvcgBNYXRwbG90bGliIHYzLjUuMiwgaHR0cHM6Ly9tYXRwbG90bGliLm9yZ8JaeJwAAAAydEVYdFNvZnR3YXJlAE1hdHBsb3RsaWIgdjMuNS4yLCBodHRwczovL21hdHBsb3RsaWIub3Jn7PznuwAAAfZJREFUeJzt1kFugzAURVHMxru4LqN7qTspJHxiGdLO3jmTqLaBHyJVt318fvXlSds+W1sO623bb4eD9fx+VTn/WG/lumv3Hc4xeH4rg7Ry3+kc0/mO9708x3S+a/cdv9/X97n6u23n1+X1ubWc2/bX4XPr/vHcab0+fzZfee6/zVe/7+n59+4zfg/b+r3vOd6/N9+uf08+++9HWV+O+/W60/k/njuf3/593Zx78rzx+cn8y825J3P1i+fe/33689SP17n/3Q/rvaw/zr23v58a7Zf1ZTDv1f3Lc43eQ7lutn97rnff0825NusCAMQRAAAQSAAAQCABAACBBAAABBIAABBIAABAIAEAAIEEAAAEEgAAEEgAAEAgAQAAgQQAAAQSAAAQSAAAQCABAACBBAAABBIAABBIAABAIAEAAIEEAAAEEgAAEEgAAEAgAQAAgQQAAAQSAAAQSAAAQCABAACBBAAABBIAABBIAABAIAEAAIEEAAAEEgAAEEgAAEAgAQAAgQQAAAQSAAAQSAAAQCABAACBBAAABBIAABBIAABAIAEAAIEEAAAEEgAAEEgAAEAgAQAAgQQAAAQSAAAQSAAAQCABAACBBAAABBIAABBIAABAIAEAAIEEAAAEEgAAEEgAAEAgAQAAgQQAAAQSAAAQSAAAQKAfM3jsXKc91ngAAAAASUVORK5CYII=\"></div><div style=\"vertical-align: middle; max-width: 514px; display: flex; justify-content: space-between;\"><div style=\"float: left;\"><div title=\"#7fc3dbff\" style=\"display: inline-block; width: 1em; height: 1em; margin: 0; vertical-align: middle; border: 1px solid #555; background-color: #7fc3dbff;\"></div> under</div><div style=\"margin: 0 auto; display: inline-block;\">bad <div title=\"#00000000\" style=\"display: inline-block; width: 1em; height: 1em; margin: 0; vertical-align: middle; border: 1px solid #555; background-color: #00000000;\"></div></div><div style=\"float: right;\">over <div title=\"#c29f7cff\" style=\"display: inline-block; width: 1em; height: 1em; margin: 0; vertical-align: middle; border: 1px solid #555; background-color: #c29f7cff;\"></div></div>"
      ],
      "text/plain": [
       "<matplotlib.colors.LinearSegmentedColormap at 0x7f7eb7afeb80>"
      ]
     },
     "execution_count": 6,
     "metadata": {},
     "output_type": "execute_result"
    }
   ],
   "source": [
    "# two-colored (correlation heatmap)\n",
    "colors = ['#7FC3DB', '#ACE0F2', '#FFFDFF', '#F4C18D', '#C29F7C']\n",
    "cmap_two = LinearSegmentedColormap.from_list('my_cmap', colors, gamma=1)\n",
    "cmap_two"
   ]
  },
  {
   "cell_type": "markdown",
   "id": "5fcda940",
   "metadata": {},
   "source": [
    "### Vintage leaf Green and Burgundy"
   ]
  },
  {
   "cell_type": "code",
   "execution_count": 7,
   "id": "3f63f9d0",
   "metadata": {},
   "outputs": [
    {
     "data": {
      "image/png": "[encoded data removed]",
      "text/html": [
       "<div style=\"vertical-align: middle;\"><strong>my_cmap</strong> </div><div class=\"cmap\"><img alt=\"my_cmap colormap\" title=\"my_cmap\" style=\"border: 1px solid #555;\" src=\"data:image/png;base64,iVBORw0KGgoAAAANSUhEUgAAAgAAAABACAYAAABsv8+/AAAAFnRFWHRUaXRsZQBteV9jbWFwIGNvbG9ybWFw2E+iFQAAABx0RVh0RGVzY3JpcHRpb24AbXlfY21hcCBjb2xvcm1hcH9hE2wAAAAwdEVYdEF1dGhvcgBNYXRwbG90bGliIHYzLjUuMiwgaHR0cHM6Ly9tYXRwbG90bGliLm9yZ8JaeJwAAAAydEVYdFNvZnR3YXJlAE1hdHBsb3RsaWIgdjMuNS4yLCBodHRwczovL21hdHBsb3RsaWIub3Jn7PznuwAAAd5JREFUeJzt1sFOGzEUQFG3//9RqD82XZQU4fTJQQnq4p6zIR5M/DRhovvj7dfbtdZa13Wt9efF+8/bcri+Pq9vv7+u4fq4//P6Y/9w/W7/Ps80/zDnGq5Pc67TPNP+fZ7h+sPzTPsP83y8GPYPc679+mHOdZr/0XkOn+fxnGn/v8+5n2s/9z/fp/H5OMx5ej62uff3n9b7cz2t9+fhy+du7/Pouec5tvU2zz7fw/Nu33vTOXf382Xn3k570X0Z/o+ePffpOf4e/+R9Gu/7N38++9+/7PM5rN/9XABAjgAAgCABAABBAgAAggQAAAQJAAAIEgAAECQAACBIAABAkAAAgCABAABBAgAAggQAAAQJAAAIEgAAECQAACBIAABAkAAAgCABAABBAgAAggQAAAQJAAAIEgAAECQAACBIAABAkAAAgCABAABBAgAAggQAAAQJAAAIEgAAECQAACBIAABAkAAAgCABAABBAgAAggQAAAQJAAAIEgAAECQAACBIAABAkAAAgCABAABBAgAAggQAAAQJAAAIEgAAECQAACBIAABAkAAAgCABAABBAgAAggQAAAQJAAAIEgAAECQAACBIAABAkAAAgCABAABBAgAAggQAAAQJAAAIEgAAEPQbY02vI6X80aUAAAAASUVORK5CYII=\"></div><div style=\"vertical-align: middle; max-width: 514px; display: flex; justify-content: space-between;\"><div style=\"float: left;\"><div title=\"#c0c2c0ff\" style=\"display: inline-block; width: 1em; height: 1em; margin: 0; vertical-align: middle; border: 1px solid #555; background-color: #c0c2c0ff;\"></div> under</div><div style=\"margin: 0 auto; display: inline-block;\">bad <div title=\"#00000000\" style=\"display: inline-block; width: 1em; height: 1em; margin: 0; vertical-align: middle; border: 1px solid #555; background-color: #00000000;\"></div></div><div style=\"float: right;\">over <div title=\"#4a1c2fff\" style=\"display: inline-block; width: 1em; height: 1em; margin: 0; vertical-align: middle; border: 1px solid #555; background-color: #4a1c2fff;\"></div></div>"
      ],
      "text/plain": [
       "<matplotlib.colors.LinearSegmentedColormap at 0x7f7eb6c33ca0>"
      ]
     },
     "execution_count": 7,
     "metadata": {},
     "output_type": "execute_result"
    }
   ],
   "source": [
    "# one-colored (p-value heatmap)\n",
    "colors = ['#C0C2C0', '#965771', '#4A1C2F']\n",
    "cmap_one = LinearSegmentedColormap.from_list('my_cmap', colors, gamma=1)\n",
    "cmap_one"
   ]
  },
  {
   "cell_type": "code",
   "execution_count": 8,
   "id": "625887cf",
   "metadata": {},
   "outputs": [
    {
     "data": {
      "image/png": "[encoded data removed]",
      "text/html": [
       "<div style=\"vertical-align: middle;\"><strong>my_cmap</strong> </div><div class=\"cmap\"><img alt=\"my_cmap colormap\" title=\"my_cmap\" style=\"border: 1px solid #555;\" src=\"data:image/png;base64,iVBORw0KGgoAAAANSUhEUgAAAgAAAABACAYAAABsv8+/AAAAFnRFWHRUaXRsZQBteV9jbWFwIGNvbG9ybWFw2E+iFQAAABx0RVh0RGVzY3JpcHRpb24AbXlfY21hcCBjb2xvcm1hcH9hE2wAAAAwdEVYdEF1dGhvcgBNYXRwbG90bGliIHYzLjUuMiwgaHR0cHM6Ly9tYXRwbG90bGliLm9yZ8JaeJwAAAAydEVYdFNvZnR3YXJlAE1hdHBsb3RsaWIgdjMuNS4yLCBodHRwczovL21hdHBsb3RsaWIub3Jn7PznuwAAAbhJREFUeJzt1ttOwkAUQNHR//8o4o/VB9JgeqFcjXGv9YC0c8KUUJv9cfo6TWOMMU3TGGOM8+vl3ep4Olh/dP7W/e+df9n1zmenn8uX4+X6o/PTjZ937/y7rnc1f1nZPM7eP8v95z9/6/7ZmzueX787z2+f391n53s+Pr8avH69L5rfXf/165pPbD/P9p5zR/Oro9V9d7DPwXP2/fPz6vbvdrjP0/OL/ZfnX/Z/uffNzz6vrgIA/5IAAIAgAQAAQQIAAIIEAAAECQAACBIAABAkAAAgSAAAQJAAAIAgAQAAQQIAAIIEAAAECQAACBIAABAkAAAgSAAAQJAAAIAgAQAAQQIAAIIEAAAECQAACBIAABAkAAAgSAAAQJAAAIAgAQAAQQIAAIIEAAAECQAACBIAABAkAAAgSAAAQJAAAIAgAQAAQQIAAIIEAAAECQAACBIAABAkAAAgSAAAQJAAAIAgAQAAQQIAAIIEAAAECQAACBIAABAkAAAgSAAAQJAAAIAgAQAAQQIAAIIEAAAECQAACBIAABAkAAAgSAAAQJAAAIAgAQAAQQIAAIIEAAAECQAACBIAABD0DYDZ/cbjMCsgAAAAAElFTkSuQmCC\"></div><div style=\"vertical-align: middle; max-width: 514px; display: flex; justify-content: space-between;\"><div style=\"float: left;\"><div title=\"#c0c2c0ff\" style=\"display: inline-block; width: 1em; height: 1em; margin: 0; vertical-align: middle; border: 1px solid #555; background-color: #c0c2c0ff;\"></div> under</div><div style=\"margin: 0 auto; display: inline-block;\">bad <div title=\"#00000000\" style=\"display: inline-block; width: 1em; height: 1em; margin: 0; vertical-align: middle; border: 1px solid #555; background-color: #00000000;\"></div></div><div style=\"float: right;\">over <div title=\"#57965aff\" style=\"display: inline-block; width: 1em; height: 1em; margin: 0; vertical-align: middle; border: 1px solid #555; background-color: #57965aff;\"></div></div>"
      ],
      "text/plain": [
       "<matplotlib.colors.LinearSegmentedColormap at 0x7f7eb7996f70>"
      ]
     },
     "execution_count": 8,
     "metadata": {},
     "output_type": "execute_result"
    }
   ],
   "source": [
    "# one-colored (p-value heatmap)\n",
    "colors = ['#C0C2C0','#80AB82','#57965A']\n",
    "cmap_one = LinearSegmentedColormap.from_list('my_cmap', colors, gamma=1)\n",
    "cmap_one"
   ]
  },
  {
   "cell_type": "code",
   "execution_count": 9,
   "id": "87b4edab",
   "metadata": {},
   "outputs": [
    {
     "data": {
      "image/png": "[encoded data removed]",
      "text/html": [
       "<div style=\"vertical-align: middle;\"><strong>my_cmap</strong> </div><div class=\"cmap\"><img alt=\"my_cmap colormap\" title=\"my_cmap\" style=\"border: 1px solid #555;\" src=\"data:image/png;base64,iVBORw0KGgoAAAANSUhEUgAAAgAAAABACAYAAABsv8+/AAAAFnRFWHRUaXRsZQBteV9jbWFwIGNvbG9ybWFw2E+iFQAAABx0RVh0RGVzY3JpcHRpb24AbXlfY21hcCBjb2xvcm1hcH9hE2wAAAAwdEVYdEF1dGhvcgBNYXRwbG90bGliIHYzLjUuMiwgaHR0cHM6Ly9tYXRwbG90bGliLm9yZ8JaeJwAAAAydEVYdFNvZnR3YXJlAE1hdHBsb3RsaWIgdjMuNS4yLCBodHRwczovL21hdHBsb3RsaWIub3Jn7PznuwAAAdFJREFUeJzt1lFq20AUQNFRN1nIwrpcqR9x62oc4VhRaeGe8yP0mMyMbQh3+f7jbRt/WMYydu/LcnJ+3/Ez8/n8+3g5Od/fZ56P6f6P8/19Xp9P79M9n8/39391fvw97M+Z9zk//1v7Xvz3//y88V/d97f1/d/Atq7vz22b5rfnth7Mf61fD+bT+tu6sc3z2/ptPZhP93yYX7X/uX2u/76++ns82ef2vm7796Pnfd368brx2n6nzx8X7/fw3H++9cl5l51/cM7XP8/H53wbAECOAACAIAEAAEECAACCBAAABAkAAAgSAAAQJAAAIEgAAECQAACAIAEAAEECAACCBAAABAkAAAgSAAAQJAAAIEgAAECQAACAIAEAAEECAACCBAAABAkAAAgSAAAQJAAAIEgAAECQAACAIAEAAEECAACCBAAABAkAAAgSAAAQJAAAIEgAAECQAACAIAEAAEECAACCBAAABAkAAAgSAAAQJAAAIEgAAECQAACAIAEAAEECAACCBAAABAkAAAgSAAAQJAAAIEgAAECQAACAIAEAAEECAACCBAAABAkAAAgSAAAQJAAAIEgAAECQAACAIAEAAEECAACCBAAABAkAAAgSAAAQ9BPg6WQjXfsWPgAAAABJRU5ErkJggg==\"></div><div style=\"vertical-align: middle; max-width: 514px; display: flex; justify-content: space-between;\"><div style=\"float: left;\"><div title=\"#57965aff\" style=\"display: inline-block; width: 1em; height: 1em; margin: 0; vertical-align: middle; border: 1px solid #555; background-color: #57965aff;\"></div> under</div><div style=\"margin: 0 auto; display: inline-block;\">bad <div title=\"#00000000\" style=\"display: inline-block; width: 1em; height: 1em; margin: 0; vertical-align: middle; border: 1px solid #555; background-color: #00000000;\"></div></div><div style=\"float: right;\">over <div title=\"#4a1c2fff\" style=\"display: inline-block; width: 1em; height: 1em; margin: 0; vertical-align: middle; border: 1px solid #555; background-color: #4a1c2fff;\"></div></div>"
      ],
      "text/plain": [
       "<matplotlib.colors.LinearSegmentedColormap at 0x7f7eb7afe700>"
      ]
     },
     "execution_count": 9,
     "metadata": {},
     "output_type": "execute_result"
    }
   ],
   "source": [
    "# two-colored (correlation heatmap)\n",
    "colors = ['#57965A', '#80AB82', '#C0C2C0', '#965771', '#4A1C2F']\n",
    "cmap_two = LinearSegmentedColormap.from_list('my_cmap', colors, gamma=1)\n",
    "cmap_two"
   ]
  },
  {
   "cell_type": "markdown",
   "id": "2ceba70f",
   "metadata": {},
   "source": [
    "### Vintage bright Blue and Yellow"
   ]
  },
  {
   "cell_type": "code",
   "execution_count": 10,
   "id": "c67c0623",
   "metadata": {},
   "outputs": [
    {
     "data": {
      "image/png": "[encoded data removed]",
      "text/html": [
       "<div style=\"vertical-align: middle;\"><strong>my_cmap</strong> </div><div class=\"cmap\"><img alt=\"my_cmap colormap\" title=\"my_cmap\" style=\"border: 1px solid #555;\" src=\"data:image/png;base64,iVBORw0KGgoAAAANSUhEUgAAAgAAAABACAYAAABsv8+/AAAAFnRFWHRUaXRsZQBteV9jbWFwIGNvbG9ybWFw2E+iFQAAABx0RVh0RGVzY3JpcHRpb24AbXlfY21hcCBjb2xvcm1hcH9hE2wAAAAwdEVYdEF1dGhvcgBNYXRwbG90bGliIHYzLjUuMiwgaHR0cHM6Ly9tYXRwbG90bGliLm9yZ8JaeJwAAAAydEVYdFNvZnR3YXJlAE1hdHBsb3RsaWIgdjMuNS4yLCBodHRwczovL21hdHBsb3RsaWIub3Jn7PznuwAAAiVJREFUeJzt1kFyozAURVFZ+99cL6K3gTIwuAqJ35CkZ++cCcEWkqCI677+/B2jtda2bWuttTbep23bj2ObzsdWfL6fb+dx8zzr/NvNPP+e7279ar679av7rucp9lmuv03XPXvu63N59tzX+9vXb2+vvh9fx/n7j97P5+X3+xefeabr+nTd4+/3z3txXb3f63314rp6P9fj+nK/87zFvr+9n5v1frmfj/19aON8HJ/Px+W4431r+3u2Xjcdp/e0XndM1z1cdxl/3vdY9nMeV+/7/HvydD/1uv/neT1f93rfrR3/N8f7chz7+fzzf9F/OO74/vr6/t1xvVj/Na1/N25Z53r87bh+cz/LuOI5Feus44p9FutU9zP/DAAAAQQAAAQSAAAQSAAAQCABAACBBAAABBIAABBIAABAIAEAAIEEAAAEEgAAEEgAAEAgAQAAgQQAAAQSAAAQSAAAQCABAACBBAAABBIAABBIAABAIAEAAIEEAAAEEgAAEEgAAEAgAQAAgQQAAAQSAAAQSAAAQCABAACBBAAABBIAABBIAABAIAEAAIEEAAAEEgAAEEgAAEAgAQAAgQQAAAQSAAAQSAAAQCABAACBBAAABBIAABBIAABAIAEAAIEEAAAEEgAAEEgAAEAgAQAAgQQAAAQSAAAQSAAAQCABAACBBAAABBIAABBIAABAIAEAAIEEAAAEEgAAEEgAAEAgAQAAgQQAAAQSAAAQ6Atzn1A2H9hWKwAAAABJRU5ErkJggg==\"></div><div style=\"vertical-align: middle; max-width: 514px; display: flex; justify-content: space-between;\"><div style=\"float: left;\"><div title=\"#d1e5ffff\" style=\"display: inline-block; width: 1em; height: 1em; margin: 0; vertical-align: middle; border: 1px solid #555; background-color: #d1e5ffff;\"></div> under</div><div style=\"margin: 0 auto; display: inline-block;\">bad <div title=\"#00000000\" style=\"display: inline-block; width: 1em; height: 1em; margin: 0; vertical-align: middle; border: 1px solid #555; background-color: #00000000;\"></div></div><div style=\"float: right;\">over <div title=\"#fff4b5ff\" style=\"display: inline-block; width: 1em; height: 1em; margin: 0; vertical-align: middle; border: 1px solid #555; background-color: #fff4b5ff;\"></div></div>"
      ],
      "text/plain": [
       "<matplotlib.colors.LinearSegmentedColormap at 0x7f7eb7b0bc10>"
      ]
     },
     "execution_count": 10,
     "metadata": {},
     "output_type": "execute_result"
    }
   ],
   "source": [
    "# two-colored (correlation heatmap)\n",
    "colors = ['#D1E5FF', '#7691B3', '#C4FFCF', '#B3A65D', '#FFF4B5']\n",
    "cmap_two = LinearSegmentedColormap.from_list('my_cmap', colors, gamma=1)\n",
    "cmap_two"
   ]
  }
 ],
 "metadata": {
  "kernelspec": {
   "display_name": "Python 3 (ipykernel)",
   "language": "python",
   "name": "python3"
  },
  "language_info": {
   "codemirror_mode": {
    "name": "ipython",
    "version": 3
   },
   "file_extension": ".py",
   "mimetype": "text/x-python",
   "name": "python",
   "nbconvert_exporter": "python",
   "pygments_lexer": "ipython3",
   "version": "3.8.5"
  },
  "latex_envs": {
   "LaTeX_envs_menu_present": true,
   "autoclose": true,
   "autocomplete": true,
   "bibliofile": "biblio.bib",
   "cite_by": "apalike",
   "current_citInitial": 1,
   "eqLabelWithNumbers": true,
   "eqNumInitial": 1,
   "hotkeys": {
    "equation": "Ctrl-E",
    "itemize": "Ctrl-I"
   },
   "labels_anchors": false,
   "latex_user_defs": false,
   "report_style_numbering": false,
   "user_envs_cfg": false
  },
  "toc": {
   "base_numbering": 1,
   "nav_menu": {},
   "number_sections": true,
   "sideBar": true,
   "skip_h1_title": false,
   "title_cell": "Table of Contents",
   "title_sidebar": "Contents",
   "toc_cell": true,
   "toc_position": {},
   "toc_section_display": true,
   "toc_window_display": false
  }
 },
 "nbformat": 4,
 "nbformat_minor": 5
}

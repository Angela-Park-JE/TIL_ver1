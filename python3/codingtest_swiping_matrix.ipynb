{
 "cells": [
  {
   "cell_type": "code",
   "execution_count": 2,
   "id": "9401dff0",
   "metadata": {},
   "outputs": [
    {
     "data": {
      "text/plain": [
       "'Hi'"
      ]
     },
     "execution_count": 2,
     "metadata": {},
     "output_type": "execute_result"
    }
   ],
   "source": [
    "\"Hi\""
   ]
  },
  {
   "cell_type": "code",
   "execution_count": 1,
   "id": "e95b3294",
   "metadata": {},
   "outputs": [
    {
     "name": "stdout",
     "output_type": "stream",
     "text": [
      "[[-3, -2, -1], [0, 1, 2], [3, 4, 5], [6, 7, 8]]\n"
     ]
    }
   ],
   "source": [
    "# rows = 4\n",
    "# columns = 3\n",
    "\n",
    "\n",
    "# n = rows\n",
    "# p = columns\n",
    "\n",
    "\n",
    "# X = []\n",
    "\n",
    "# for i in range(0, n):\n",
    "#     row = []\n",
    "#     for j in range(0, p):\n",
    "# #         i = i + 1\n",
    "# #         j = j + 1\n",
    "#         val = (i-1) * columns + j\n",
    "#         row.append(val)\n",
    "#     X.append(row)\n",
    "\n",
    "# print(X)\n"
   ]
  },
  {
   "cell_type": "code",
   "execution_count": 2,
   "id": "3c89fe72",
   "metadata": {},
   "outputs": [
    {
     "name": "stdout",
     "output_type": "stream",
     "text": [
      "[[1, 2, 3], [4, 5, 6], [7, 8, 9], [10, 11, 12]]\n"
     ]
    }
   ],
   "source": [
    "n = rows\n",
    "p = columns\n",
    "\n",
    "\n",
    "X = []\n",
    "\n",
    "for i in range(1, n+1):\n",
    "    row = []\n",
    "    for j in range(1, p+1):\n",
    "        val = (i-1) * columns + j\n",
    "        row.append(val)\n",
    "    X.append(row)\n",
    "\n",
    "print(X)\n",
    "# 돼따아"
   ]
  },
  {
   "cell_type": "code",
   "execution_count": 23,
   "id": "8e5ef902",
   "metadata": {},
   "outputs": [
    {
     "name": "stdout",
     "output_type": "stream",
     "text": [
      "[[1, 2], [4, 5], [7, 8], [10, 11]]\n"
     ]
    }
   ],
   "source": [
    "# r1 = 1\n",
    "# c1 = 2\n",
    "# r2 = 4\n",
    "# c2 = 3\n",
    "\n",
    "\n",
    "# partn = r2 - r1 + 1\n",
    "# partp = c2 - c1 + 1\n",
    "\n",
    "# partX = []\n",
    "\n",
    "# for i in range(0, partn):\n",
    "#     row = []\n",
    "#     for j in range(0, partp):\n",
    "#         val = X[i][j]\n",
    "#         row.append(val)\n",
    "#     partX.append(row)\n",
    "\n",
    "# print(partX)"
   ]
  },
  {
   "cell_type": "code",
   "execution_count": 27,
   "id": "1d8cff46",
   "metadata": {},
   "outputs": [
    {
     "name": "stdout",
     "output_type": "stream",
     "text": [
      "[[2], [5], [8], [11]]\n"
     ]
    }
   ],
   "source": [
    "# r1 = 1\n",
    "# c1 = 2\n",
    "# r2 = 4\n",
    "# c2 = 3\n",
    "\n",
    "# \"\"\"\n",
    "# X[0][1] X[0][2]\n",
    "# ~\n",
    "# x[3][1] X[3][2]\n",
    "# \"\"\"\n",
    "\n",
    "# partn = r2 - r1\n",
    "# partp = c2 - c1\n",
    "\n",
    "# partX = []\n",
    "\n",
    "# for i in range(r1 - 1, r2 - r1 + 1):\n",
    "#     row = []\n",
    "#     for j in range(c1 - 1, c2 - c1 + 1):\n",
    "#         val = X[i][j]\n",
    "#         row.append(val)\n",
    "#     partX.append(row)\n",
    "\n",
    "# print(partX)"
   ]
  },
  {
   "cell_type": "code",
   "execution_count": 3,
   "id": "809cef4c",
   "metadata": {},
   "outputs": [],
   "source": [
    "# d = 1\n",
    "\n",
    "d = 1   # 맨 아래쪽 숫자의 합\n",
    "r1 = 1\n",
    "c1 = 2\n",
    "r2 = 4\n",
    "c2 = 3\n",
    "\n",
    "\"\"\"\n",
    "X[0][1] X[0][2]\n",
    "~\n",
    "x[3][1] X[3][2]\n",
    "\"\"\"\n",
    "\n",
    "partX = []\n",
    "\n",
    "partrow = []\n",
    "for i in range(c1-1, c2):\n",
    "    val = X[r2-1][i]\n",
    "    partrow.append(val)\n",
    "    "
   ]
  },
  {
   "cell_type": "code",
   "execution_count": 4,
   "id": "5bb221f5",
   "metadata": {},
   "outputs": [
    {
     "name": "stdout",
     "output_type": "stream",
     "text": [
      "[11, 12]\n"
     ]
    }
   ],
   "source": [
    "print(partrow)"
   ]
  },
  {
   "cell_type": "code",
   "execution_count": 32,
   "id": "71010224",
   "metadata": {},
   "outputs": [],
   "source": [
    "# 헐 이거다아아아 했는데...."
   ]
  },
  {
   "cell_type": "code",
   "execution_count": 13,
   "id": "bea5d219",
   "metadata": {},
   "outputs": [],
   "source": [
    "# d = 2\n",
    "\n",
    "d = 2   # 맨 위쪽 숫자의 합\n",
    "r1 = 2\n",
    "c1 = 1\n",
    "r2 = 3\n",
    "c2 = 3\n",
    "\n",
    "\"\"\"\n",
    "X[1][0] X[1][2]\n",
    "~\n",
    "x[2][0] X[2][2]\n",
    "\"\"\"\n",
    "\n",
    "partX = []\n",
    "\n",
    "partrow = []\n",
    "for i in range(c1-1, c2):\n",
    "    val = X[r1-1][i]\n",
    "    partrow.append(val)"
   ]
  },
  {
   "cell_type": "code",
   "execution_count": 14,
   "id": "cd081cba",
   "metadata": {},
   "outputs": [
    {
     "name": "stdout",
     "output_type": "stream",
     "text": [
      "[4, 5, 6]\n"
     ]
    }
   ],
   "source": [
    "print(partrow)"
   ]
  },
  {
   "cell_type": "markdown",
   "id": "cf1b30c6",
   "metadata": {},
   "source": [
    "이제 이해했다. 순차적으로 해야한다.\n",
    "\n",
    "## 다시"
   ]
  },
  {
   "cell_type": "code",
   "execution_count": 15,
   "id": "e626eadf",
   "metadata": {},
   "outputs": [
    {
     "name": "stdout",
     "output_type": "stream",
     "text": [
      "[[1, 2, 3], [4, 5, 6], [7, 8, 9], [10, 11, 12]]\n"
     ]
    }
   ],
   "source": [
    "n = rows\n",
    "p = columns\n",
    "\n",
    "\n",
    "X = []\n",
    "\n",
    "for i in range(1, n+1):\n",
    "    row = []\n",
    "    for j in range(1, p+1):\n",
    "        val = (i-1) * columns + j\n",
    "        row.append(val)\n",
    "    X.append(row)\n",
    "\n",
    "print(X)"
   ]
  },
  {
   "cell_type": "markdown",
   "id": "d4b47bb5",
   "metadata": {},
   "source": [
    "부분만 구하면 다음 차례를 구할 수 없다. 아예 그 자리의 값을 바꾸어야 한다."
   ]
  },
  {
   "cell_type": "code",
   "execution_count": null,
   "id": "4151aede",
   "metadata": {},
   "outputs": [],
   "source": [
    "if d == 1:   # 아래로 밀어야 할 경우\n",
    "    if r2 == n: # r2가 본행렬 행의 끝인 경우\n",
    "        if r1 == 1: # r1이 본행렬 행의 시작인 경우\n",
    "            for i in range(c1-1, c2): # 다음과 같다\n",
    "                X[r2-1][i] = X[r1-1][i] #첫줄은 끝줄로 가고\n",
    "                X[r1-1][i] = X[r1][i]\n",
    "        X[r2-2][c2-2] = X[r2-1][c2-1]\n",
    "        \n",
    "        \n",
    "    \n",
    "    \n",
    "    \n",
    "    \n",
    "    \n",
    "    \n",
    "    if r2 == n:\n",
    "        if c2 == p:\n",
    "            for i in range(0, n):\n",
    "                new_rows = []\n",
    "                for i in range(c1-1, c2):\n",
    "                    val = X[][i]\n",
    "                    \n",
    "                    \n",
    "    for i in range(0, n):\n",
    "        new_row = []\n",
    "        for j in range(0, p):\n",
    "            val = X \n",
    "\n",
    " # d = 1\n",
    "\n",
    "d = 1   # 맨 아래쪽 숫자의 합\n",
    "r1 = 1\n",
    "c1 = 2\n",
    "r2 = 4\n",
    "c2 = 3\n",
    "\n",
    "\"\"\"\n",
    "X[0][1] X[0][2]\n",
    "~\n",
    "x[3][1] X[3][2]\n",
    "\"\"\"\n",
    "\n",
    "partX = []\n",
    "\n",
    "partrow = []\n",
    "for i in range(c1-1, c2):\n",
    "    val = X[r2-1][i]\n",
    "    partrow.append(val)"
   ]
  },
  {
   "cell_type": "code",
   "execution_count": 19,
   "id": "6b568096",
   "metadata": {},
   "outputs": [
    {
     "name": "stdout",
     "output_type": "stream",
     "text": [
      "[[1, 2, 3], [4, 5, 6], [7, 8, 9], [10, 11, 12]]\n"
     ]
    }
   ],
   "source": [
    "n = rows\n",
    "p = columns\n",
    "\n",
    "\n",
    "X = []\n",
    "\n",
    "for i in range(1, n+1):\n",
    "    row = []\n",
    "    for j in range(1, p+1):\n",
    "        val = (i-1) * columns + j\n",
    "        row.append(val)\n",
    "    X.append(row)\n",
    "\n",
    "print(X)"
   ]
  },
  {
   "cell_type": "code",
   "execution_count": 33,
   "id": "737122b6",
   "metadata": {},
   "outputs": [
    {
     "name": "stdout",
     "output_type": "stream",
     "text": [
      "[[2, 3], [5, 6], [8, 9], [11, 12]]\n"
     ]
    }
   ],
   "source": [
    "# 다시 ...\n",
    "# 일단 움직이게 되는 행렬을 구하고\n",
    "# 구한 애들을 방향에 맞게 차례로 다시 넣어주자.\n",
    "\n",
    "d = 1   # 맨 아래쪽 숫자의 합\n",
    "r1 = 1\n",
    "c1 = 2\n",
    "r2 = 4\n",
    "c2 = 3\n",
    "\n",
    "partX = []\n",
    "for i in range(r1-1, r2-r1+1):\n",
    "    partrow = []\n",
    "    for j in range(c1-1, c2-c1+2):\n",
    "        val = X[i][j]\n",
    "        partrow.append(val)\n",
    "    partX.append(partrow)\n",
    "\n",
    "print(partX)"
   ]
  },
  {
   "cell_type": "code",
   "execution_count": 41,
   "id": "37a8128f",
   "metadata": {},
   "outputs": [
    {
     "name": "stdout",
     "output_type": "stream",
     "text": [
      "[11]\n"
     ]
    }
   ],
   "source": [
    "post_partX = []\n",
    "if d == 1:\n",
    "    if len(partX) == len(X):      # 행의 개수가 같으면\n",
    "        post_partX.append(listX[(len(partX)-1)]) # 마지막 행은 이렇게 더해진다.\n",
    "    else:\n",
    "        for i in range(0, len(partX)):\n",
    "            listX = partX[i+1]\n",
    "            post_partX.append(listX)\n",
    "\n",
    "\n",
    "        \n",
    "    print(post_partX)"
   ]
  },
  {
   "cell_type": "code",
   "execution_count": 42,
   "id": "ba77ac67",
   "metadata": {},
   "outputs": [
    {
     "data": {
      "text/plain": [
       "[11, 12]"
      ]
     },
     "execution_count": 42,
     "metadata": {},
     "output_type": "execute_result"
    }
   ],
   "source": [
    "partX[3]"
   ]
  },
  {
   "cell_type": "code",
   "execution_count": null,
   "id": "3458f272",
   "metadata": {},
   "outputs": [],
   "source": []
  },
  {
   "cell_type": "code",
   "execution_count": null,
   "id": "8705d345",
   "metadata": {},
   "outputs": [],
   "source": []
  },
  {
   "cell_type": "markdown",
   "id": "08ad97ef",
   "metadata": {},
   "source": []
  },
  {
   "cell_type": "code",
   "execution_count": null,
   "id": "e3cac6b6",
   "metadata": {},
   "outputs": [],
   "source": [
    "# d = 2   # 맨 위쪽 숫자의 합\n",
    "# r1 = 2\n",
    "# c1 = 1\n",
    "# r2 = 3\n",
    "# c2 = 3\n",
    "\n",
    "# \"\"\"\n",
    "# X[1][0] X[1][2]\n",
    "# ~\n",
    "# x[2][0] X[2][2]\n",
    "# \"\"\"\n",
    "\n",
    "# partX = []\n",
    "\n",
    "# partrow = []\n",
    "# for i in range(c1-1, c2):\n",
    "#     val = X[r1-1][i]\n",
    "#     partrow.append(val)"
   ]
  },
  {
   "cell_type": "markdown",
   "id": "6840ff7e",
   "metadata": {},
   "source": [
    "## final"
   ]
  },
  {
   "cell_type": "code",
   "execution_count": 33,
   "id": "7ade4eb1",
   "metadata": {},
   "outputs": [
    {
     "data": {
      "text/plain": [
       "'우선 행렬을 만든다'"
      ]
     },
     "execution_count": 33,
     "metadata": {},
     "output_type": "execute_result"
    }
   ],
   "source": [
    "\"\"\"우선 행렬을 만든다\"\"\"\n",
    "\n",
    "n = rows\n",
    "p = columns\n",
    "\n",
    "\n",
    "X = []\n",
    "\n",
    "for i in range(1, n+1):\n",
    "    row = []\n",
    "    for j in range(1, p+1):\n",
    "        val = (i-1) * columns + j\n",
    "        row.append(val)\n",
    "    X.append(row)\n",
    "\n",
    "print(X)\n",
    "\n",
    "# ---\n",
    "\n",
    "if d == 1:\n",
    "    partX = []\n",
    "    partrow = []\n",
    "    for i in range(c1-1, c2):\n",
    "        val = X[r2-1][i]\n",
    "        partrow.append(val)\n",
    "elif d == 2:\n",
    "    partX = []\n",
    "    partrow = []\n",
    "    for i in range(c1-1, c2):\n",
    "        val = X[r2-1][i]\n",
    "        partrow.append(val)"
   ]
  },
  {
   "cell_type": "code",
   "execution_count": null,
   "id": "b5242432",
   "metadata": {},
   "outputs": [],
   "source": []
  }
 ],
 "metadata": {
  "kernelspec": {
   "display_name": "Python 3 (ipykernel)",
   "language": "python",
   "name": "python3"
  },
  "language_info": {
   "codemirror_mode": {
    "name": "ipython",
    "version": 3
   },
   "file_extension": ".py",
   "mimetype": "text/x-python",
   "name": "python",
   "nbconvert_exporter": "python",
   "pygments_lexer": "ipython3",
   "version": "3.9.7"
  },
  "toc": {
   "base_numbering": 1,
   "nav_menu": {},
   "number_sections": true,
   "sideBar": true,
   "skip_h1_title": false,
   "title_cell": "Table of Contents",
   "title_sidebar": "Contents",
   "toc_cell": false,
   "toc_position": {},
   "toc_section_display": true,
   "toc_window_display": false
  }
 },
 "nbformat": 4,
 "nbformat_minor": 5
}

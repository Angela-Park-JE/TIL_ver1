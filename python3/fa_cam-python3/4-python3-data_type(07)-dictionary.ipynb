{
 "cells": [
  {
   "cell_type": "markdown",
   "metadata": {},
   "source": [
    "Python 7강 - Data Type4(Dictionary)\n",
    "\n",
    "---\n",
    "\n",
    "## 2.3.4 사전(Dictionary) (**)\n",
    "\n",
    "\n",
    "**파이썬에서 리스트와 함께 굉장히 많이 사용되는 구조. 특히 이번 교육과정 중에 많이 사용되니 꼭 마스터하는 것을 추천한다.**\n",
    "\n",
    "파이썬에서 제공하는 데이터 타입중 가장 강력하고 많은 활용 용도를 가지고 있는 데이터 타입이다. 판다스를 쓸 때에도, 데이터베이스를 사용할 때도 분명 도움이 되는 개념.  \n",
    "\n",
    "- 파이썬에서 제공하는 사전 자료형은 key - value 방법을 통해 저장한다.\n",
    "\n",
    "| name | code |\n",
    "| --- | --- |\n",
    "| \"John\" | 0011 |\n",
    "| \"Maria\" | 1234 |\n",
    "\n",
    "\n",
    "- 이런 table concept을 의미하며, 정수 index가 아닌 key값을 통해서 value를 access한다. 이러한 방식을 key-value store 라고 한다. \n",
    "\n",
    "> key-value store 방식으로 저장을 하는 것으로 얻는 이점은?\n",
    "\n",
    "> A. 순서(정수 index)가 아닌 의미가 있는 값을 통해서 데이터 접근이 가능하다. \n",
    "    1대1로 대응이 되는 것으로, code로 name을 찾던가 name으로 code로 찾는 것 방식이다. 정수인덱스에 국한하지 않고, key를 활용해 데이터에 접근하게 된다.  \n",
    "\n",
    "- 같은 말로 Hash Table이라고 불리며 데이터 관리에서 굉장히 중요한 개념이다.\n",
    "\n",
    "\n",
    "- 파이썬에서 사전 자료형은 {}을 이용하여 표현하는데, 집합과의 차이점을 두기 위해 원소에 *반드시* <kbd>:</kbd>가 들어가야 한다.\n",
    "\n",
    "\n",
    "- 사전을 표현할 때는 {key1 : value1, key2 : value2, ... } 형태로 표현한다.\n",
    "\n",
    "e.g. {'a' : 1', \"b\" : 3}"
   ]
  },
  {
   "cell_type": "markdown",
   "metadata": {},
   "source": [
    "### 사전을 만드는 방법"
   ]
  },
  {
   "cell_type": "code",
   "execution_count": 1,
   "metadata": {},
   "outputs": [
    {
     "data": {
      "text/plain": [
       "dict"
      ]
     },
     "execution_count": 1,
     "metadata": {},
     "output_type": "execute_result"
    }
   ],
   "source": [
    "# D = {} 도 된다. set을 만들 떄에는 S = set() 으로 만들어야 한다.\n",
    "D = dict()\n",
    "type(D)"
   ]
  },
  {
   "cell_type": "code",
   "execution_count": 2,
   "metadata": {},
   "outputs": [
    {
     "data": {
      "text/plain": [
       "3"
      ]
     },
     "execution_count": 2,
     "metadata": {},
     "output_type": "execute_result"
    }
   ],
   "source": [
    "# 위에 나온 테이블 예시를 사전으로 만들어봅니다.\n",
    "D = {'Zett':1, 'Pheonix':2, 'Yoru':3, 'Raze':4, 'Reina':5, 'Neon':6, 'Iso':7}\n",
    "D['Yoru']"
   ]
  },
  {
   "cell_type": "markdown",
   "metadata": {},
   "source": [
    "- 원소를 추가하는 경우 자동으로 들어가게 되어있다. \n",
    "\n",
    "리스트에서의 추가는 `L.append('value')` 를 사용하고, 수정을 할 때에는 `L[0] = 'value'`를 했어야 했는데  \n",
    "딕셔너리는 추가와 수정의 코드가 다를 것이 없다."
   ]
  },
  {
   "cell_type": "code",
   "execution_count": 3,
   "metadata": {},
   "outputs": [
    {
     "data": {
      "text/plain": [
       "{'Zett': 1,\n",
       " 'Pheonix': 2,\n",
       " 'Yoru': 3,\n",
       " 'Raze': 4,\n",
       " 'Reina': 5,\n",
       " 'Neon': 6,\n",
       " 'Iso': 7,\n",
       " 'a': 3}"
      ]
     },
     "execution_count": 3,
     "metadata": {},
     "output_type": "execute_result"
    }
   ],
   "source": [
    "# 사전 D에 key가 'a'이고 value가 3인 원소를 추가하자.\n",
    "D['a'] = 3\n",
    "D"
   ]
  },
  {
   "cell_type": "markdown",
   "metadata": {},
   "source": [
    "- 이미 있는 값을 확인 할 때에는 `D[key]`로 확인한다.\n",
    "\n",
    "assignment시에 없으면 생성, 있으면 수정을 한다. "
   ]
  },
  {
   "cell_type": "code",
   "execution_count": 4,
   "metadata": {},
   "outputs": [
    {
     "data": {
      "text/plain": [
       "3"
      ]
     },
     "execution_count": 4,
     "metadata": {},
     "output_type": "execute_result"
    }
   ],
   "source": [
    "D[\"a\"] # key값이 이미 존재하는 경우에는 key값을 통한 indexing이 되며, key값이 존재하지 않을 때는 assignment를 사용하여 원소를 추가한다."
   ]
  },
  {
   "cell_type": "code",
   "execution_count": 5,
   "metadata": {},
   "outputs": [],
   "source": [
    "# D2 = {'a' : 1 , 'a' : 2, 'b': 3} # 무엇이 문제일까?\n",
    "# D2 "
   ]
  },
  {
   "cell_type": "markdown",
   "metadata": {},
   "source": [
    "중복된 key가 있을 경우는 나중에 있는 key의 value로 저장이 되어버린다. key로 찾을 수 있는 값이 하나는 사라지게 되는 것이다. \n",
    "\n",
    "> **TIP** 사전을 만들 때 key는 중복이 있으면 절대 안된다.\n",
    "\n",
    "> 사전에서 key가 될 수 있는 data type은 **immutable**이어야 한다.\n",
    "    - immutable types : int, float, string, tuple, frozen set ...  \n",
    "    - 키 값은 중복이 있으면 안되고 수정이 되어서도 안되기 때문이다.\n"
   ]
  },
  {
   "cell_type": "markdown",
   "metadata": {},
   "source": [
    "### 사전 관련 함수"
   ]
  },
  {
   "cell_type": "markdown",
   "metadata": {},
   "source": [
    "#### keys() : 사전의 모든 key값들 보기 \n",
    "이는 list 객체가 아니다. (리스트처럼 쓸 수는 있다. 그치, list()로 )"
   ]
  },
  {
   "cell_type": "code",
   "execution_count": 6,
   "metadata": {},
   "outputs": [
    {
     "data": {
      "text/plain": [
       "dict_keys(['name', 'phone', 'birth'])"
      ]
     },
     "execution_count": 6,
     "metadata": {},
     "output_type": "execute_result"
    }
   ],
   "source": [
    "D = {'name': 'Yoru', 'phone': '01012345679', 'birth': '1209'}\n",
    "D.keys()"
   ]
  },
  {
   "cell_type": "markdown",
   "metadata": {},
   "source": [
    "#### values() : 사전의 모든 value들 보기"
   ]
  },
  {
   "cell_type": "code",
   "execution_count": 7,
   "metadata": {},
   "outputs": [
    {
     "data": {
      "text/plain": [
       "dict_values(['Yoru', '01012345679', '1209'])"
      ]
     },
     "execution_count": 7,
     "metadata": {},
     "output_type": "execute_result"
    }
   ],
   "source": [
    "D.values()"
   ]
  },
  {
   "cell_type": "markdown",
   "metadata": {},
   "source": [
    "#### items() : 사전의 모든 key, value 쌍 보기"
   ]
  },
  {
   "cell_type": "code",
   "execution_count": 8,
   "metadata": {},
   "outputs": [
    {
     "data": {
      "text/plain": [
       "dict_items([('name', 'Yoru'), ('phone', '01012345679'), ('birth', '1209')])"
      ]
     },
     "execution_count": 8,
     "metadata": {},
     "output_type": "execute_result"
    }
   ],
   "source": [
    "D.items()"
   ]
  },
  {
   "cell_type": "markdown",
   "metadata": {},
   "source": [
    "#### get() : 사전의 원소 가져오기 \n",
    "- `D['name']`과 같은데 쓰는 이유: `D['name']`의 값이 있을 수도 있고, 없을 수도 있기 때문에 사용한다. 존재할 때와 존재하지 않을 때 다른 액션(값)을 줄 수 있다.  \n",
    "  인덱싱 하듯 찾으면 error가 나기 때문에, 만약 값이 없으면 default value를 쓰라는 의미이다. \n",
    "\n",
    "- `D.get(key, XOR_value)`"
   ]
  },
  {
   "cell_type": "code",
   "execution_count": 9,
   "metadata": {},
   "outputs": [
    {
     "data": {
      "text/plain": [
       "'Yoru'"
      ]
     },
     "execution_count": 9,
     "metadata": {},
     "output_type": "execute_result"
    }
   ],
   "source": [
    "# D['name']과 같다.\n",
    "D.get('name')"
   ]
  },
  {
   "cell_type": "code",
   "execution_count": 10,
   "metadata": {},
   "outputs": [
    {
     "data": {
      "text/plain": [
       "'Korea'"
      ]
     },
     "execution_count": 10,
     "metadata": {},
     "output_type": "execute_result"
    }
   ],
   "source": [
    "D.get('country', 'Korea')"
   ]
  },
  {
   "cell_type": "markdown",
   "metadata": {},
   "source": [
    "#### in : 사전에 해당 key값이 존재하는지 확인하기\n",
    "\n",
    "- in이라는 operator는 사전뿐만 아니라 모든 연속형 데이터 타입에 사용할 수 있다.\n",
    "- 어떤 원소가 이 set, string, list, tuple 에 있는지 없는지를 판단할 때 사용한다. \n",
    "<br><br>\n",
    "- Boolean : 사전의 경우에는 key값을 대상으로 하고, 리스트, 튜플, 집합, 문자열에 대해서는 해당 원소가 좆재하는지 찾아서 True / False 를 알려준다."
   ]
  },
  {
   "cell_type": "code",
   "execution_count": 11,
   "metadata": {},
   "outputs": [
    {
     "data": {
      "text/plain": [
       "True"
      ]
     },
     "execution_count": 11,
     "metadata": {},
     "output_type": "execute_result"
    }
   ],
   "source": [
    "\"phone\" in D # D.keys()를 쓴 것과 같다."
   ]
  },
  {
   "cell_type": "code",
   "execution_count": 12,
   "metadata": {},
   "outputs": [
    {
     "data": {
      "text/plain": [
       "False"
      ]
     },
     "execution_count": 12,
     "metadata": {},
     "output_type": "execute_result"
    }
   ],
   "source": [
    "\"country\" in D"
   ]
  },
  {
   "cell_type": "markdown",
   "metadata": {},
   "source": [
    "#### 만약 해당 value값이 존재하는지 확인하고 싶다면?\n"
   ]
  },
  {
   "cell_type": "code",
   "execution_count": 13,
   "metadata": {},
   "outputs": [
    {
     "data": {
      "text/plain": [
       "True"
      ]
     },
     "execution_count": 13,
     "metadata": {},
     "output_type": "execute_result"
    }
   ],
   "source": [
    "'1209' in D.values()"
   ]
  },
  {
   "cell_type": "code",
   "execution_count": 14,
   "metadata": {},
   "outputs": [
    {
     "data": {
      "text/plain": [
       "False"
      ]
     },
     "execution_count": 14,
     "metadata": {},
     "output_type": "execute_result"
    }
   ],
   "source": [
    "'Korea' in D.values()"
   ]
  }
 ],
 "metadata": {
  "kernelspec": {
   "display_name": "Python 3 (ipykernel)",
   "language": "python",
   "name": "python3"
  },
  "language_info": {
   "codemirror_mode": {
    "name": "ipython",
    "version": 3
   },
   "file_extension": ".py",
   "mimetype": "text/x-python",
   "name": "python",
   "nbconvert_exporter": "python",
   "pygments_lexer": "ipython3",
   "version": "3.8.5"
  },
  "latex_envs": {
   "LaTeX_envs_menu_present": true,
   "autoclose": true,
   "autocomplete": true,
   "bibliofile": "biblio.bib",
   "cite_by": "apalike",
   "current_citInitial": 1,
   "eqLabelWithNumbers": true,
   "eqNumInitial": 1,
   "hotkeys": {
    "equation": "Ctrl-E",
    "itemize": "Ctrl-I"
   },
   "labels_anchors": false,
   "latex_user_defs": false,
   "report_style_numbering": false,
   "user_envs_cfg": false
  },
  "toc": {
   "base_numbering": 1,
   "nav_menu": {},
   "number_sections": true,
   "sideBar": true,
   "skip_h1_title": true,
   "title_cell": "Table of Contents",
   "title_sidebar": "Contents",
   "toc_cell": true,
   "toc_position": {},
   "toc_section_display": true,
   "toc_window_display": false
  }
 },
 "nbformat": 4,
 "nbformat_minor": 2
}


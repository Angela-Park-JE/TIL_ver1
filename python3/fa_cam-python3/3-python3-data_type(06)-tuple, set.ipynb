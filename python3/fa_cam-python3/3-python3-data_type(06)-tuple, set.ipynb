{
 "cells": [
  {
   "cell_type": "markdown",
   "metadata": {},
   "source": [
    "Python 6강 - Data Type4(Tuple, Set)\n",
    "\n",
    "---\n",
    "\n",
    "## 2.3.2 튜플(tuple)\n",
    "\n",
    "- tuple은 list과 거의 같다.\n",
    "> indexing, slicing 모두 동일하게 사용 가능하다.\n",
    "> 원소들도 자유롭게 사용 가능하다.\n",
    "\n",
    "- 거의 같으나 다른 점이 2가지 있다.  \n",
    "(데이터 타입마다 목적이 다르다. 여러 데이터 타입이 있는 이유가 각각 다른 이유가 있는 것이다.)\n",
    "\n",
    "\n",
    "**1) 리스트는 []를 사용하고, 튜플은 ()을 사용한다.**\n",
    "\n",
    "**2) 리스트는 생성 후에 변경이 가능하고(mutable) 튜플은 생성 후에 변경이 불가능하다.(immutable)**\n",
    "변경은 assignment로 변경이 가능한지를 뜻한다.\n",
    "\n",
    "> Mutable : 생성된 이후에 변경(assignment)이 자유롭게 가능한 data type.\n",
    "e.g. List, dict, set  \n",
    "> immutable : 생성된 이후에 변경이 불가능한 data type\n",
    "e.g. int, float, string, tuple, frozenset\n",
    "\n",
    "\n",
    "\n",
    "> 1. 성능적인 이슈 -> 변경되지는 않는 그 자체로 장점이 생김. (예를 들어, 데이터 타입에 대해서 신경쓸 필요가 없음)  \n",
    "> 2. 프로그래밍적인 이슈 -> 데이터 수정 자체를 하지 않는 경우 실수를 방지할 수 있다. (예를 들어, 리스트로 데이터를 불러오면 수정이 되기 때문에 그게 문제가 될 수도 있다. 한 번 만들어진 다음에 수정한 필요가 없는 데이터의 경우에는 실수할 수 있으니 튜플로 가져올 수 있는데, 튜플로 가져오면 assignment를 했을 때 에러가 난다. 수정을 아예할 수 없기 때문에. 그러나 리스트로 쓰면 수정이 되더라도 직접 확인하지 않으면 모른다.)  \n",
    "\n"
   ]
  },
  {
   "cell_type": "code",
   "execution_count": 1,
   "metadata": {},
   "outputs": [
    {
     "data": {
      "text/plain": [
       "(1, 2)"
      ]
     },
     "execution_count": 1,
     "metadata": {},
     "output_type": "execute_result"
    }
   ],
   "source": [
    "# 1, 2를 원소로 가지는 tuple을 생성해 봅니다.\n",
    "t = (1, 2)\n",
    "t"
   ]
  },
  {
   "cell_type": "code",
   "execution_count": 2,
   "metadata": {},
   "outputs": [
    {
     "data": {
      "text/plain": [
       "((), tuple)"
      ]
     },
     "execution_count": 2,
     "metadata": {},
     "output_type": "execute_result"
    }
   ],
   "source": [
    "t1 = ()\n",
    "t1, type(t1) # tip: 사실 이 때까지 이렇게 2항에 대해서 출력한 모든 결과는 tuple이었다."
   ]
  },
  {
   "cell_type": "code",
   "execution_count": 3,
   "metadata": {},
   "outputs": [
    {
     "data": {
      "text/plain": [
       "('a', 'b', ('a', 'b'))"
      ]
     },
     "execution_count": 3,
     "metadata": {},
     "output_type": "execute_result"
    }
   ],
   "source": [
    "# 안에 가질 수 있는 데이터 타입은 자유롭다.\n",
    "t2 = ('a', 'b', ('a', 'b'))\n",
    "t2"
   ]
  },
  {
   "cell_type": "code",
   "execution_count": 4,
   "metadata": {},
   "outputs": [
    {
     "data": {
      "text/plain": [
       "1"
      ]
     },
     "execution_count": 4,
     "metadata": {},
     "output_type": "execute_result"
    }
   ],
   "source": [
    "t[0]"
   ]
  },
  {
   "cell_type": "code",
   "execution_count": 5,
   "metadata": {},
   "outputs": [
    {
     "data": {
      "text/plain": [
       "2"
      ]
     },
     "execution_count": 5,
     "metadata": {},
     "output_type": "execute_result"
    }
   ],
   "source": [
    "t[-1]"
   ]
  },
  {
   "cell_type": "markdown",
   "metadata": {},
   "source": [
    "#### assignment operator를 통해서 수정이 불가능하다. "
   ]
  },
  {
   "cell_type": "code",
   "execution_count": 6,
   "metadata": {},
   "outputs": [],
   "source": [
    "# t[0] = 3 # 튜플의 원소를 변경해보자."
   ]
  },
  {
   "cell_type": "markdown",
   "metadata": {},
   "source": [
    "#### 튜플의 연산"
   ]
  },
  {
   "cell_type": "code",
   "execution_count": 7,
   "metadata": {},
   "outputs": [
    {
     "data": {
      "text/plain": [
       "(1, 2, 3, 4)"
      ]
     },
     "execution_count": 7,
     "metadata": {},
     "output_type": "execute_result"
    }
   ],
   "source": [
    "# 그럼 tuple의 더하기, 곱하기는 어떻게 될까?\n",
    "t = (1, 2)\n",
    "t2 = (3, 4)\n",
    "t + t2"
   ]
  },
  {
   "cell_type": "code",
   "execution_count": 8,
   "metadata": {},
   "outputs": [
    {
     "data": {
      "text/plain": [
       "(3, 4, 3, 4, 3, 4)"
      ]
     },
     "execution_count": 8,
     "metadata": {},
     "output_type": "execute_result"
    }
   ],
   "source": [
    "t2 * 3"
   ]
  },
  {
   "cell_type": "code",
   "execution_count": 9,
   "metadata": {},
   "outputs": [
    {
     "data": {
      "text/plain": [
       "6"
      ]
     },
     "execution_count": 9,
     "metadata": {},
     "output_type": "execute_result"
    }
   ],
   "source": [
    "len(t * 3)"
   ]
  },
  {
   "cell_type": "markdown",
   "metadata": {},
   "source": [
    "#### 튜플 인덱싱과 슬라이싱"
   ]
  },
  {
   "cell_type": "code",
   "execution_count": 10,
   "metadata": {},
   "outputs": [
    {
     "data": {
      "text/plain": [
       "('a', 'b')"
      ]
     },
     "execution_count": 10,
     "metadata": {},
     "output_type": "execute_result"
    }
   ],
   "source": [
    "t2 = ('a', 'b', ('a', 'b'))\n",
    "t2[:2]"
   ]
  },
  {
   "cell_type": "code",
   "execution_count": 11,
   "metadata": {},
   "outputs": [
    {
     "data": {
      "text/plain": [
       "'a'"
      ]
     },
     "execution_count": 11,
     "metadata": {},
     "output_type": "execute_result"
    }
   ],
   "source": [
    "t2[2][0]"
   ]
  },
  {
   "cell_type": "markdown",
   "metadata": {},
   "source": [
    "## 2.3.3 집합(Set)\n",
    "\n",
    "\n",
    "- 중복을 허용하지 않다. 종류만 표시를 한다. 집합은 '어떤 것'이 있는지 없는지만 확인하고, 무언가의 개수는 상관하지 않는다.\n",
    "\n",
    "- 집합은 포함관계만을 의미한다. 집합의 몇 번째 원소라는 개념이 없다. 포함관계만 가지고 있기 때문에 모아놓고 끝이다. 몇 번째 원소라는 개념, 즉 순서가 없다. -> 인덱싱과 슬라이싱을 사용할 수 없다. \n",
    "\n",
    "- 인덱싱과 슬라이싱이 굳이 필요하지 않고, 데이터를 모아만 놓으면 되는 경우에는 set도 유용한 자료형이 될 수 있다. \n",
    "\n",
    "---\n",
    "\n",
    "- 집합 자료형은 정말 말그대로 수학에서 배우는 집합 그 자체이다.\n",
    "\n",
    "- 수학에서는 집합을 {}로 표시했지만, 파이썬에서는 안타까운 이유로 {}를 사용하긴 하는데 그냥 사용할 수는 없다. 왜냐면 사전(Dictionary) 자료형도 {}를 사용하기 때문이다. 이에 대해서는 뒤에 자세히 배운다.\n",
    "\n",
    "- **공집합을 생성할 때는 *반드시* set()으로 생성해야 한다. {}로 생성하면 빈 사전이 생성된다.**\n",
    "\n",
    "\n",
    "e.g. {1, 2, 3} : 집합, {'a':1, 'b':2} : 사전\n",
    "\n",
    "\n",
    "- 집합의 연산자인 교집합, 합집합, 차집합을 모두 지원한다.\n",
    "\n",
    "- 집합의 특징이 2가지 있는데, 이 특징이 리스트와의 차이점이라 사용한다. 첫번째 특징이 집합 자료형을 사용하는 주된 이유이다.\n",
    "\n",
    "1) 집합은 원소의 중복을 허용하지 않는다. 즉, **원소의 종류**를 나타내기 좋다.\n",
    "\n",
    "2) 집합은 원소의 순서가 존재하지 않는다. 즉, 원소의 index가 없다."
   ]
  },
  {
   "cell_type": "code",
   "execution_count": 12,
   "metadata": {},
   "outputs": [
    {
     "data": {
      "text/plain": [
       "({1, 2, 3}, set)"
      ]
     },
     "execution_count": 12,
     "metadata": {},
     "output_type": "execute_result"
    }
   ],
   "source": [
    "# 1, 2, 3을 원소로 가지는 집합을 만들어 봅시다.\n",
    "s = {1, 2, 3}\n",
    "s, type(s)"
   ]
  },
  {
   "cell_type": "code",
   "execution_count": 13,
   "metadata": {},
   "outputs": [],
   "source": [
    "# s[1] # 2가 나올것 같지만... 인덱싱 즉 읽는 것을 할 수 없다고 에러가 나온다."
   ]
  },
  {
   "cell_type": "markdown",
   "metadata": {},
   "source": [
    "### 집합의 연산"
   ]
  },
  {
   "cell_type": "code",
   "execution_count": 14,
   "metadata": {},
   "outputs": [],
   "source": [
    "s1 = {1, 2, 3, 4, 5}\n",
    "s2 = {3, 4, 5, 6, 7}"
   ]
  },
  {
   "cell_type": "markdown",
   "metadata": {},
   "source": [
    "#### 교집합"
   ]
  },
  {
   "cell_type": "code",
   "execution_count": 15,
   "metadata": {},
   "outputs": [
    {
     "data": {
      "text/plain": [
       "{3, 4, 5}"
      ]
     },
     "execution_count": 15,
     "metadata": {},
     "output_type": "execute_result"
    }
   ],
   "source": [
    "# s1과 s2의 교집합\n",
    "s1 & s2"
   ]
  },
  {
   "cell_type": "code",
   "execution_count": 16,
   "metadata": {},
   "outputs": [
    {
     "data": {
      "text/plain": [
       "{3, 4, 5}"
      ]
     },
     "execution_count": 16,
     "metadata": {},
     "output_type": "execute_result"
    }
   ],
   "source": [
    "# 교집합을 구하는 메서드\n",
    "s1.intersection(s2) # s1과 s2의 자리를 바꾸어도 당연히 같다."
   ]
  },
  {
   "cell_type": "markdown",
   "metadata": {},
   "source": [
    "#### 합집합"
   ]
  },
  {
   "cell_type": "code",
   "execution_count": 17,
   "metadata": {},
   "outputs": [
    {
     "data": {
      "text/plain": [
       "{1, 2, 3, 4, 5, 6, 7}"
      ]
     },
     "execution_count": 17,
     "metadata": {},
     "output_type": "execute_result"
    }
   ],
   "source": [
    "# s1과 s2의 합집합\n",
    "s1 | s2"
   ]
  },
  {
   "cell_type": "code",
   "execution_count": 18,
   "metadata": {},
   "outputs": [
    {
     "data": {
      "text/plain": [
       "{1, 2, 3, 4, 5, 6, 7}"
      ]
     },
     "execution_count": 18,
     "metadata": {},
     "output_type": "execute_result"
    }
   ],
   "source": [
    "# 합집합을 구하는 메서드\n",
    "s1.union(s2)"
   ]
  },
  {
   "cell_type": "code",
   "execution_count": 19,
   "metadata": {},
   "outputs": [],
   "source": [
    "# 합집합이기 때문에 + 을 쓸것이라 생각하지만\n",
    "# s1 + s2 # 많이 혼동한다."
   ]
  },
  {
   "cell_type": "markdown",
   "metadata": {},
   "source": [
    "#### 차집합\n",
    "\n",
    "교환법칙 성립하지 않기 때문에 연산 대상의 자리를 바꾸면 결과가 다르다. "
   ]
  },
  {
   "cell_type": "code",
   "execution_count": 20,
   "metadata": {},
   "outputs": [
    {
     "data": {
      "text/plain": [
       "{1, 2}"
      ]
     },
     "execution_count": 20,
     "metadata": {},
     "output_type": "execute_result"
    }
   ],
   "source": [
    "# s1과 s2의 차집합\n",
    "s1 - s2"
   ]
  },
  {
   "cell_type": "code",
   "execution_count": 21,
   "metadata": {},
   "outputs": [
    {
     "data": {
      "text/plain": [
       "{6, 7}"
      ]
     },
     "execution_count": 21,
     "metadata": {},
     "output_type": "execute_result"
    }
   ],
   "source": [
    "s2 - s1 # 당연히 다르다."
   ]
  },
  {
   "cell_type": "markdown",
   "metadata": {},
   "source": [
    "### 집합의 원소의 uniqueness를 활용하는 경우. \n",
    "\n",
    "중복된 것을 제거하고 보고 싶을 때 리스트 같은 것을 set으로 바꾸면 unique한 개수만 볼 수 있다. "
   ]
  },
  {
   "cell_type": "code",
   "execution_count": 22,
   "metadata": {},
   "outputs": [
    {
     "data": {
      "text/plain": [
       "{1, 2, 3, 4, 5, 6}"
      ]
     },
     "execution_count": 22,
     "metadata": {},
     "output_type": "execute_result"
    }
   ],
   "source": [
    "L = [1, 2, 3, 2, 3, 1, 4, 5, 6, 1, 2]\n",
    "set(L)"
   ]
  },
  {
   "cell_type": "code",
   "execution_count": 23,
   "metadata": {},
   "outputs": [
    {
     "data": {
      "text/plain": [
       "6"
      ]
     },
     "execution_count": 23,
     "metadata": {},
     "output_type": "execute_result"
    }
   ],
   "source": [
    "t = (1, 2, 3, 2, 3, 1, 4, 5, 6, 1, 2)\n",
    "len(set(t))"
   ]
  },
  {
   "cell_type": "markdown",
   "metadata": {},
   "source": [
    "### 집합 관련 함수"
   ]
  },
  {
   "cell_type": "markdown",
   "metadata": {},
   "source": [
    "#### set.add() : 집합에 원소 하나 추가하기 \n",
    "append와 비슷하다. "
   ]
  },
  {
   "cell_type": "code",
   "execution_count": 24,
   "metadata": {},
   "outputs": [
    {
     "data": {
      "text/plain": [
       "{'a'}"
      ]
     },
     "execution_count": 24,
     "metadata": {},
     "output_type": "execute_result"
    }
   ],
   "source": [
    "s = set()\n",
    "s.add('a')\n",
    "s"
   ]
  },
  {
   "cell_type": "markdown",
   "metadata": {},
   "source": [
    "#### update() : 집합에 여러 원소 추가하기\n",
    "\n",
    "집합 자체에 여러 원소를 더하고 싶을 경우 사용한다.\n",
    "\n",
    "s.union({})과 출력 결과는 동일하게 나온다. 그러나 다르다. \n",
    "\n",
    "주의!  \n",
    "\n",
    "    s.union() 은 추가한 새로운 합집합을 '보여주'는 것이고  \n",
    "    s.update() 은 추가하여 새로운 합집합으로 '업데이트' 하는 것이다."
   ]
  },
  {
   "cell_type": "code",
   "execution_count": 25,
   "metadata": {},
   "outputs": [
    {
     "data": {
      "text/plain": [
       "{1, 2, 3, 4, 5}"
      ]
     },
     "execution_count": 25,
     "metadata": {},
     "output_type": "execute_result"
    }
   ],
   "source": [
    "s = {1, 2, 3}\n",
    "s.update({4, 5}) \n",
    "s"
   ]
  },
  {
   "cell_type": "markdown",
   "metadata": {},
   "source": [
    "#### remove() : 집합에서 원소 제거하기 \n",
    "\n",
    "list의 pop과 비슷하지만 pop은 하나씩 지우는 것이지만 remove는 순서가 없기 때문에 정확히 이 원소를 아예 지우겠다는 것이다. "
   ]
  },
  {
   "cell_type": "code",
   "execution_count": 26,
   "metadata": {},
   "outputs": [
    {
     "data": {
      "text/plain": [
       "{1, 2, 4, 5}"
      ]
     },
     "execution_count": 26,
     "metadata": {},
     "output_type": "execute_result"
    }
   ],
   "source": [
    "s.remove(3)\n",
    "s"
   ]
  },
  {
   "cell_type": "markdown",
   "metadata": {},
   "source": [
    " 복습 겸 생각해보면 리스트도 마찬가지다."
   ]
  },
  {
   "cell_type": "code",
   "execution_count": 27,
   "metadata": {},
   "outputs": [
    {
     "data": {
      "text/plain": [
       "[1, 2, 3, 4, 5, 5]"
      ]
     },
     "execution_count": 27,
     "metadata": {},
     "output_type": "execute_result"
    }
   ],
   "source": [
    "L = [1,2,3,4,5,5,5]\n",
    "L.pop(-2) # 아무것도 쓰지 않으면 자동으로 마지막 것을 꺼내서 버린다.\n",
    "L"
   ]
  },
  {
   "cell_type": "code",
   "execution_count": 28,
   "metadata": {},
   "outputs": [
    {
     "data": {
      "text/plain": [
       "[1, 2, 3, 4, 5, 5]"
      ]
     },
     "execution_count": 28,
     "metadata": {},
     "output_type": "execute_result"
    }
   ],
   "source": [
    "L = [1,2,3,4,5,5,5]\n",
    "L.remove(5) # 5라는 원소를 '한 개'를 지운다.\n",
    "L"
   ]
  },
  {
   "cell_type": "code",
   "execution_count": 29,
   "metadata": {},
   "outputs": [
    {
     "data": {
      "text/plain": [
       "[1, 2, 3, 4, 5, 5]"
      ]
     },
     "execution_count": 29,
     "metadata": {},
     "output_type": "execute_result"
    }
   ],
   "source": [
    "L = [1,2,3,4,5,5,5]\n",
    "del L[-1] # 인덱스를 사용하여 원소를 지운다.\n",
    "L"
   ]
  }
 ],
 "metadata": {
  "kernelspec": {
   "display_name": "Python 3 (ipykernel)",
   "language": "python",
   "name": "python3"
  },
  "language_info": {
   "codemirror_mode": {
    "name": "ipython",
    "version": 3
   },
   "file_extension": ".py",
   "mimetype": "text/x-python",
   "name": "python",
   "nbconvert_exporter": "python",
   "pygments_lexer": "ipython3",
   "version": "3.8.5"
  },
  "latex_envs": {
   "LaTeX_envs_menu_present": true,
   "autoclose": true,
   "autocomplete": true,
   "bibliofile": "biblio.bib",
   "cite_by": "apalike",
   "current_citInitial": 1,
   "eqLabelWithNumbers": true,
   "eqNumInitial": 1,
   "hotkeys": {
    "equation": "Ctrl-E",
    "itemize": "Ctrl-I"
   },
   "labels_anchors": false,
   "latex_user_defs": false,
   "report_style_numbering": false,
   "user_envs_cfg": false
  },
  "toc": {
   "base_numbering": 1,
   "nav_menu": {},
   "number_sections": true,
   "sideBar": true,
   "skip_h1_title": true,
   "title_cell": "Table of Contents",
   "title_sidebar": "Contents",
   "toc_cell": true,
   "toc_position": {},
   "toc_section_display": true,
   "toc_window_display": false
  }
 },
 "nbformat": 4,
 "nbformat_minor": 2
}

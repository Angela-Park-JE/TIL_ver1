{
 "cells": [
  {
   "cell_type": "markdown",
   "metadata": {
    "toc": true
   },
   "source": [
    "<h1>Table of Contents<span class=\"tocSkip\"></span></h1>\n",
    "<div class=\"toc\"><ul class=\"toc-item\"><li><ul class=\"toc-item\"><li><span><a href=\"#Python이란\" data-toc-modified-id=\"Python이란-0.1\"><span class=\"toc-item-num\">0.1&nbsp;&nbsp;</span>Python이란</a></span></li></ul></li><li><span><a href=\"#Data-Type이란?\" data-toc-modified-id=\"Data-Type이란?-1\"><span class=\"toc-item-num\">1&nbsp;&nbsp;</span>Data Type이란?</a></span></li><li><span><a href=\"#변수(Variable)이란?\" data-toc-modified-id=\"변수(Variable)이란?-2\"><span class=\"toc-item-num\">2&nbsp;&nbsp;</span>변수(Variable)이란?</a></span><ul class=\"toc-item\"><li><span><a href=\"#Q.-왜-data-type은-여러가지-일까?\" data-toc-modified-id=\"Q.-왜-data-type은-여러가지-일까?-2.1\"><span class=\"toc-item-num\">2.1&nbsp;&nbsp;</span>Q. 왜 data type은 여러가지 일까?</a></span></li></ul></li><li><span><a href=\"#2.1.-숫자-데이터-(Numeric-Data-Types)\" data-toc-modified-id=\"2.1.-숫자-데이터-(Numeric-Data-Types)-3\"><span class=\"toc-item-num\">3&nbsp;&nbsp;</span>2.1. 숫자 데이터 (Numeric Data Types)</a></span><ul class=\"toc-item\"><li><span><a href=\"#정수형-(Integer)\" data-toc-modified-id=\"정수형-(Integer)-3.1\"><span class=\"toc-item-num\">3.1&nbsp;&nbsp;</span>정수형 (Integer)</a></span></li><li><span><a href=\"#실수형-(Floating-point)\" data-toc-modified-id=\"실수형-(Floating-point)-3.2\"><span class=\"toc-item-num\">3.2&nbsp;&nbsp;</span>실수형 (Floating point)</a></span><ul class=\"toc-item\"><li><ul class=\"toc-item\"><li><span><a href=\"#exponential,-10의-제곱을-표현하는-지수-표현도-가능\" data-toc-modified-id=\"exponential,-10의-제곱을-표현하는-지수-표현도-가능-3.2.0.1\"><span class=\"toc-item-num\">3.2.0.1&nbsp;&nbsp;</span>exponential, 10의 제곱을 표현하는 지수 표현도 가능</a></span></li></ul></li></ul></li><li><span><a href=\"#숫자형-데이터-타입이-제공하는-여러-연산자\" data-toc-modified-id=\"숫자형-데이터-타입이-제공하는-여러-연산자-3.3\"><span class=\"toc-item-num\">3.3&nbsp;&nbsp;</span>숫자형 데이터 타입이 제공하는 여러 연산자</a></span><ul class=\"toc-item\"><li><span><a href=\"#사칙연산\" data-toc-modified-id=\"사칙연산-3.3.1\"><span class=\"toc-item-num\">3.3.1&nbsp;&nbsp;</span>사칙연산</a></span></li><li><span><a href=\"#특수연산\" data-toc-modified-id=\"특수연산-3.3.2\"><span class=\"toc-item-num\">3.3.2&nbsp;&nbsp;</span>특수연산</a></span></li></ul></li></ul></li><li><span><a href=\"#2.2.-문자열(String)\" data-toc-modified-id=\"2.2.-문자열(String)-4\"><span class=\"toc-item-num\">4&nbsp;&nbsp;</span>2.2. 문자열(String)</a></span><ul class=\"toc-item\"><li><span><a href=\"#문자열을-만드는-여러가지-방법\" data-toc-modified-id=\"문자열을-만드는-여러가지-방법-4.1\"><span class=\"toc-item-num\">4.1&nbsp;&nbsp;</span>문자열을 만드는 여러가지 방법</a></span></li><li><span><a href=\"#특수-문자-표현-(escape-code)-익히기\" data-toc-modified-id=\"특수-문자-표현-(escape-code)-익히기-4.2\"><span class=\"toc-item-num\">4.2&nbsp;&nbsp;</span>특수 문자 표현 (escape code) 익히기</a></span></li><li><span><a href=\"#문자열-연산하기\" data-toc-modified-id=\"문자열-연산하기-4.3\"><span class=\"toc-item-num\">4.3&nbsp;&nbsp;</span>문자열 연산하기</a></span></li><li><span><a href=\"#문자열-Formatting\" data-toc-modified-id=\"문자열-Formatting-4.4\"><span class=\"toc-item-num\">4.4&nbsp;&nbsp;</span>문자열 Formatting</a></span></li><li><span><a href=\"#문자열-관련-함수들-(**)\" data-toc-modified-id=\"문자열-관련-함수들-(**)-4.5\"><span class=\"toc-item-num\">4.5&nbsp;&nbsp;</span>문자열 관련 함수들 (**)</a></span><ul class=\"toc-item\"><li><span><a href=\"#(영어)-대소문자-바꾸기-upper(),-lower()\" data-toc-modified-id=\"(영어)-대소문자-바꾸기-upper(),-lower()-4.5.1\"><span class=\"toc-item-num\">4.5.1&nbsp;&nbsp;</span>(영어) 대소문자 바꾸기 upper(), lower()</a></span></li><li><span><a href=\"#문자-공백-지우기-strip()\" data-toc-modified-id=\"문자-공백-지우기-strip()-4.5.2\"><span class=\"toc-item-num\">4.5.2&nbsp;&nbsp;</span>문자 공백 지우기 strip()</a></span></li><li><span><a href=\"#문자열-삽입-join()\" data-toc-modified-id=\"문자열-삽입-join()-4.5.3\"><span class=\"toc-item-num\">4.5.3&nbsp;&nbsp;</span>문자열 삽입 join()</a></span></li><li><span><a href=\"#문자열--나누기-split()\" data-toc-modified-id=\"문자열--나누기-split()-4.5.4\"><span class=\"toc-item-num\">4.5.4&nbsp;&nbsp;</span>문자열  나누기 split()</a></span></li><li><span><a href=\"#문자열-바꾸기-replace()\" data-toc-modified-id=\"문자열-바꾸기-replace()-4.5.5\"><span class=\"toc-item-num\">4.5.5&nbsp;&nbsp;</span>문자열 바꾸기 replace()</a></span></li></ul></li></ul></li><li><span><a href=\"#2-3.-연속형-데이터-(Sequential-Data-Types)\" data-toc-modified-id=\"2-3.-연속형-데이터-(Sequential-Data-Types)-5\"><span class=\"toc-item-num\">5&nbsp;&nbsp;</span>2-3. 연속형 데이터 (Sequential Data Types)</a></span></li><li><span><a href=\"#2.3.1-리스트(List)\" data-toc-modified-id=\"2.3.1-리스트(List)-6\"><span class=\"toc-item-num\">6&nbsp;&nbsp;</span>2.3.1 리스트(List)</a></span><ul class=\"toc-item\"><li><span><a href=\"#리스트를-만드는-방법\" data-toc-modified-id=\"리스트를-만드는-방법-6.1\"><span class=\"toc-item-num\">6.1&nbsp;&nbsp;</span>리스트를 만드는 방법</a></span></li><li><span><a href=\"#Indexing-(***)\" data-toc-modified-id=\"Indexing-(***)-6.2\"><span class=\"toc-item-num\">6.2&nbsp;&nbsp;</span>Indexing (***)</a></span></li><li><span><a href=\"#Slicing-(**)\" data-toc-modified-id=\"Slicing-(**)-6.3\"><span class=\"toc-item-num\">6.3&nbsp;&nbsp;</span>Slicing (**)</a></span></li><li><span><a href=\"#리스트-연산하기\" data-toc-modified-id=\"리스트-연산하기-6.4\"><span class=\"toc-item-num\">6.4&nbsp;&nbsp;</span>리스트 연산하기</a></span><ul class=\"toc-item\"><li><span><a href=\"#리스트-더하기\" data-toc-modified-id=\"리스트-더하기-6.4.1\"><span class=\"toc-item-num\">6.4.1&nbsp;&nbsp;</span>리스트 더하기</a></span></li><li><span><a href=\"#리스트-곱하기\" data-toc-modified-id=\"리스트-곱하기-6.4.2\"><span class=\"toc-item-num\">6.4.2&nbsp;&nbsp;</span>리스트 곱하기</a></span></li><li><span><a href=\"#리스트-수정하기\" data-toc-modified-id=\"리스트-수정하기-6.4.3\"><span class=\"toc-item-num\">6.4.3&nbsp;&nbsp;</span>리스트 수정하기</a></span></li></ul></li><li><span><a href=\"#리스트-관련-함수\" data-toc-modified-id=\"리스트-관련-함수-6.5\"><span class=\"toc-item-num\">6.5&nbsp;&nbsp;</span>리스트 관련 함수</a></span><ul class=\"toc-item\"><li><span><a href=\"#리스트에-원소-추가하기-append()-(***)\" data-toc-modified-id=\"리스트에-원소-추가하기-append()-(***)-6.5.1\"><span class=\"toc-item-num\">6.5.1&nbsp;&nbsp;</span>리스트에 원소 추가하기 append() (***)</a></span></li><li><span><a href=\"#리스트-원소-정렬하기-sort()\" data-toc-modified-id=\"리스트-원소-정렬하기-sort()-6.5.2\"><span class=\"toc-item-num\">6.5.2&nbsp;&nbsp;</span>리스트 원소 정렬하기 sort()</a></span></li><li><span><a href=\"#리스트-뒤집기(정렬-X)-reverse()\" data-toc-modified-id=\"리스트-뒤집기(정렬-X)-reverse()-6.5.3\"><span class=\"toc-item-num\">6.5.3&nbsp;&nbsp;</span>리스트 뒤집기(정렬 X) reverse()</a></span></li><li><span><a href=\"#리스트에서-원소-제거하기-pop()\" data-toc-modified-id=\"리스트에서-원소-제거하기-pop()-6.5.4\"><span class=\"toc-item-num\">6.5.4&nbsp;&nbsp;</span>리스트에서 원소 제거하기 pop()</a></span></li></ul></li></ul></li><li><span><a href=\"#2.3.2-튜플(Tuple)\" data-toc-modified-id=\"2.3.2-튜플(Tuple)-7\"><span class=\"toc-item-num\">7&nbsp;&nbsp;</span>2.3.2 튜플(Tuple)</a></span></li><li><span><a href=\"#2.3.3-집합(Set)\" data-toc-modified-id=\"2.3.3-집합(Set)-8\"><span class=\"toc-item-num\">8&nbsp;&nbsp;</span>2.3.3 집합(Set)</a></span><ul class=\"toc-item\"><li><span><a href=\"#집합의-연산\" data-toc-modified-id=\"집합의-연산-8.1\"><span class=\"toc-item-num\">8.1&nbsp;&nbsp;</span>집합의 연산</a></span><ul class=\"toc-item\"><li><span><a href=\"#교집합\" data-toc-modified-id=\"교집합-8.1.1\"><span class=\"toc-item-num\">8.1.1&nbsp;&nbsp;</span>교집합</a></span></li><li><span><a href=\"#합집합\" data-toc-modified-id=\"합집합-8.1.2\"><span class=\"toc-item-num\">8.1.2&nbsp;&nbsp;</span>합집합</a></span></li><li><span><a href=\"#차집합\" data-toc-modified-id=\"차집합-8.1.3\"><span class=\"toc-item-num\">8.1.3&nbsp;&nbsp;</span>차집합</a></span></li></ul></li><li><span><a href=\"#집합의-원소의-uniqueness를-활용하는-경우.\" data-toc-modified-id=\"집합의-원소의-uniqueness를-활용하는-경우.-8.2\"><span class=\"toc-item-num\">8.2&nbsp;&nbsp;</span>집합의 원소의 uniqueness를 활용하는 경우.</a></span></li><li><span><a href=\"#집합-관련-함수\" data-toc-modified-id=\"집합-관련-함수-8.3\"><span class=\"toc-item-num\">8.3&nbsp;&nbsp;</span>집합 관련 함수</a></span><ul class=\"toc-item\"><li><span><a href=\"#집합에-원소-하나-추가하기-add()\" data-toc-modified-id=\"집합에-원소-하나-추가하기-add()-8.3.1\"><span class=\"toc-item-num\">8.3.1&nbsp;&nbsp;</span>집합에 원소 하나 추가하기 add()</a></span></li><li><span><a href=\"#집합에-여러-원소-추가하기-update()\" data-toc-modified-id=\"집합에-여러-원소-추가하기-update()-8.3.2\"><span class=\"toc-item-num\">8.3.2&nbsp;&nbsp;</span>집합에 여러 원소 추가하기 update()</a></span></li><li><span><a href=\"#집합에서-원소-제거하기-remove()\" data-toc-modified-id=\"집합에서-원소-제거하기-remove()-8.3.3\"><span class=\"toc-item-num\">8.3.3&nbsp;&nbsp;</span>집합에서 원소 제거하기 remove()</a></span></li></ul></li></ul></li><li><span><a href=\"#2.3.4-사전(Dictionary)-(**)\" data-toc-modified-id=\"2.3.4-사전(Dictionary)-(**)-9\"><span class=\"toc-item-num\">9&nbsp;&nbsp;</span>2.3.4 사전(Dictionary) (**)</a></span><ul class=\"toc-item\"><li><span><a href=\"#사전을-만드는-방법\" data-toc-modified-id=\"사전을-만드는-방법-9.1\"><span class=\"toc-item-num\">9.1&nbsp;&nbsp;</span>사전을 만드는 방법</a></span></li><li><span><a href=\"#사전-관련-함수\" data-toc-modified-id=\"사전-관련-함수-9.2\"><span class=\"toc-item-num\">9.2&nbsp;&nbsp;</span>사전 관련 함수</a></span><ul class=\"toc-item\"><li><span><a href=\"#사전의-모든-key값들-보기-keys()\" data-toc-modified-id=\"사전의-모든-key값들-보기-keys()-9.2.1\"><span class=\"toc-item-num\">9.2.1&nbsp;&nbsp;</span>사전의 모든 key값들 보기 keys()</a></span></li><li><span><a href=\"#사전의-모든-value들-보기-values()\" data-toc-modified-id=\"사전의-모든-value들-보기-values()-9.2.2\"><span class=\"toc-item-num\">9.2.2&nbsp;&nbsp;</span>사전의 모든 value들 보기 values()</a></span></li><li><span><a href=\"#사전의-모든-key,-value-쌍-보기-items()\" data-toc-modified-id=\"사전의-모든-key,-value-쌍-보기-items()-9.2.3\"><span class=\"toc-item-num\">9.2.3&nbsp;&nbsp;</span>사전의 모든 key, value 쌍 보기 items()</a></span></li><li><span><a href=\"#사전의-원소-가져오기-get()\" data-toc-modified-id=\"사전의-원소-가져오기-get()-9.2.4\"><span class=\"toc-item-num\">9.2.4&nbsp;&nbsp;</span>사전의 원소 가져오기 get()</a></span></li><li><span><a href=\"#사전에-해당-key값이-존재하는지-확인하기-in\" data-toc-modified-id=\"사전에-해당-key값이-존재하는지-확인하기-in-9.2.5\"><span class=\"toc-item-num\">9.2.5&nbsp;&nbsp;</span>사전에 해당 key값이 존재하는지 확인하기 in</a></span></li></ul></li></ul></li></ul></div>"
   ]
  },
  {
   "cell_type": "markdown",
   "metadata": {},
   "source": [
    "\n",
    "---\n",
    "\n",
    "데이터분석이란 \n",
    "\n",
    "데이터 분석 도구는 목적에 따라 맞는 것을 사용하면 된다. \n",
    "\n",
    "데이터 분석 도구를 고를 떄는 기능도 중요하지만 도구로 뭘 할 것인지에 따라, 어플리케이션을 쓸 것인지 프로그래밍을 할 것인지로 나뉜다. 만들어져있는 도구를 쓸 것인지 내가 도구를 만들 것인지 따라 다른 것과 같다. 엑셀, 구글 빅쿼리등이 전자, 판다스가 후자에 해당.  \n",
    "\n",
    "엑셀은 손쉽게 데이터 분석을 시작할 수 있고, GUI 환경이다 보니 이를 이용하여 그래프, 통계 자료 등을 직관적으로 볼 수 있다. 실제 회사 업무에서 사용하는 유저가 많다. 데이터가 작고 직관적으로 알 수 있는 데이터는 편리할 수 있다.  \n",
    "그러나 대용량 데이터에 취약하다. 10만 로우이상 가면 로딩에 상당히 많은 시간이 걸리고, 메모리를 상당히 많이 먹는다. 대용량 데이터 처리를 위해 개발되어있지 않다. 또한 엑셀이 제공하지 않는 기능(머신러닝, 서버 구성 등)은 사용할 수 없다.  \n",
    "\n",
    "판다스는 대용량 데이터도 손쉽게 다룰 수 있고, 머신러닝, 서버 배포 등 원하는 기능들과 함께 구현할 수 있다.  \n",
    "그러나 학습의 난이도가 엑셀에 비해 높고, GUI 환경이긴 하지만 엑셀만큼 직관적이진 않다. 그리고 코드라는 것 자체가 엑셀의 함수와는 아무래도 많이 다르다.  \n",
    "\n",
    "둘 다 쓸 줄 알거나 직무와 편의에 따라 사용하면 좋을 것이다.  \n",
    "왜 분석을 하고, 어떤 기능이 필요한지에 따라서 쓰는 것이 좋다는 것...\n",
    "\n",
    "IaaS(Infrastructure as a Service)들도 하나의 선택이 될 수 있다. \n",
    "\n",
    "---\n",
    "\n",
    "### Python이란 \n",
    "\n",
    "\n",
    "파이썬은 기본적으로 영어의 의미를 따라간다.  \n",
    "\n",
    "프로그래밍은 컴퓨터에게 명령을 내리는 방법. 명령을 내리는 일련의 과정이다.  \n",
    "\n",
    "---\n",
    "\n",
    "대다수의 컴퓨터 아키텍처는 폰노이만이 고안한 형태를 가지고 있다.  \n",
    "CPU-RAM-Storage  \n",
    "instructions - program - files  \n",
    "instruction : cpu가 메인 메모리에 프로그램(+ 데이터, 해야할 일들)이 올라오면 ram한테 뭔가를 시키는 것.  \n",
    "가용 메모리를 신경써야 하는 부분인 것이다.  \n",
    "\n",
    "프로그래밍이라는 것을 하는 소통 수단이 필요한데 이것이 언어.  \n",
    "프로그래밍 언어도 언어적 특징, 문법과 문법에 따른 의미(syntex, semantics)를 갖추고 있다.  \n",
    "언어마다 목적에 따라 다르게 개발이 되어서 철학도 다르다.  \n",
    "\n",
    "좋은 코드란, 시간이 덜 걸리거나 메모리를 덜 쓰는가 코드가 읽기 쉬운가 3가지! 프로그래밍 개발하는 비용이 줄어드는 것도 다 비용 감소이기 때문이다.\n",
    "\n",
    "###### Why python?\n",
    "\n",
    "- 생산성 - 개발 속도가 빠름 (C++이면 2년 걸리는게 파이썬이면 6개월이면 짠다)\n",
    "- 확장성 - 오픈 소스 라이브러리가 많음 | 누가 이미 개발해둔 많은 코드를 가져다 쓸 수 있음\n",
    "- 가독성 - 읽기 깔끔함 (space와 들여쓰기가 굉장히 중요함)\n",
    "\n",
    "###### Python 특징\n",
    "\n",
    "- Interpreter 언어\n",
    "- 높은 확장성\n",
    "- 동적인 데이터 타입 지원\n",
    "- 다양한 데이터 타입\n",
    "- 간단한 쉬운 문법\n",
    "- 메모리 자동 관리\n",
    "\n",
    "- 띄어쓰기와 들여쓰기를 꼭 지켜야 한다.\n",
    "- 변수의 type을 따로 지정하지 않아도 된다.\n",
    "- line by line으로 차례대로 실행 가능하다. (C, java등의 경우 프로그램(파일단위)으로 실행 가능)"
   ]
  },
  {
   "cell_type": "markdown",
   "metadata": {},
   "source": [
    "\n",
    "주요 라이브러리  \n",
    "- numpy\n",
    "- pandas\n",
    "- opencv\n",
    "- scipy\n",
    "- tensorflow\n",
    "- konlpy\n",
    "- scikit-learn\n",
    "- beautifulsoup4\n",
    "- gensim\n",
    "- matplotlib\n",
    "- pytorch\n",
    "- networkx\n"
   ]
  },
  {
   "cell_type": "markdown",
   "metadata": {},
   "source": [
    "Python 2강 - Data Type0\n",
    "\n",
    "---\n",
    "# 2. Python Data types"
   ]
  },
  {
   "cell_type": "markdown",
   "metadata": {},
   "source": [
    "![data_types](../images/python/Python-data-structure.jpg)\n",
    "intger 입니다...  \n",
    "Source : https://www.geeksforgeeks.org/python-data-types/\n"
   ]
  },
  {
   "cell_type": "markdown",
   "metadata": {},
   "source": [
    "- float와 complex number: 소수와 소수가 아닌 것을 나누어서  \n",
    "- set: 집합\n",
    "- sequence type: strings, list, tuple: 순서를 가지고 있고 순서애 해당하는 데이터에 접근과 수정이 가능하며, 여러개를 한번에 저장이 가능하다.  "
   ]
  },
  {
   "cell_type": "markdown",
   "metadata": {},
   "source": [
    "## Data Type이란?\n",
    "\n",
    "- 모든 프로그래밍 언어가 데이터를 다루기 위해 필요한 약속.\n",
    "> int, float, str, list, tuple, set, dict, ...\n",
    "\n",
    "\n",
    "- 프로그래밍 언어마다 조금씩 다르며, 어떤 프로그래밍 언어에 대해 배울 때 제일 먼저 익혀야 하는 필수 관문.\n",
    "> data type에 대한 이해도가 있어야, 파이썬을 이용한 데이터 분석이 가능하다!\n",
    "\n",
    "\n",
    "- 프로그래밍 언어에서는 변수(Variable)에서 **데이터를 저장/관리** 하며 변수에 대한 개념을 통해 데이터를 사용할 수 있다.\n",
    "> \"변수\" 라는 개념을 통해 데이터를 사용할 수 있다.\n",
    "\n",
    "\n",
    "- data type을 배울 중요한 포인트는 어떤 연산을 사용할 수 있는지와 **연산결과가 어떤 의미인지**를 알아야한다.\n",
    "> \"Hello\" + \"World\" = ?\n",
    "> 문자열과 문자열을 더하면 붙인 문자열을 반환한다.\n",
    "\n",
    "- 이번 강의에선 Integer, Float, String, List, Tuple, Dictionary, Set을 중점적으로 배운다."
   ]
  },
  {
   "cell_type": "markdown",
   "metadata": {},
   "source": [
    "## 변수(Variable)이란?"
   ]
  },
  {
   "cell_type": "markdown",
   "metadata": {},
   "source": [
    "- 변수는 메모리에 데이터를 저장하기 위한 공간을 가리키는 말이며, 컴퓨터와 프로그래밍 언어 사용자간의 약속이다.\n",
    "> a : 컴퓨터와 사용자가 인식하는 특정 데이터를 저장하고 있는 공간이고, 공간의 이름을 a라고 한다.\n",
    "\n",
    "- 변수는 일종의 닉네임으로, 실제 물리적인 메모리 주소공간(memory address, 16진수)을 가리킨다.\n",
    "> 사용자는 변수의 이름으로 데이터를 인식하고, 컴퓨터는 변수의 주소로 데이터를 인식합니다.\n",
    "\n",
    "- 변수에 데이터를 저장(할당)할 때는 <kbd>=</kbd>를 사용한다. 이 때 <kbd>=</kbd>를 **assignment operator**라고 부른다.\n",
    "> a = 10 (a라는 공간에, 10이라는 데이터를 할당해주세요.)\n",
    "\n",
    "\n",
    "\n",
    "\n",
    "<b>(OPTIONAL)</b> a = 10을 예로 들었을 때, =을 기준으로 왼쪽을 lvalue라고 하며 실제 메모리 주소를 의미하고, =을 기준으로 오른쪽을 rvalue고 하며 실제 데이터(또는 값)을 의미한다."
   ]
  },
  {
   "cell_type": "code",
   "execution_count": 1,
   "metadata": {},
   "outputs": [],
   "source": [
    "# 변수 a에 10이라는 정수 데이터를 할당(assign)한다.\n",
    "a = 10"
   ]
  },
  {
   "cell_type": "code",
   "execution_count": 2,
   "metadata": {},
   "outputs": [
    {
     "data": {
      "text/plain": [
       "4470651520"
      ]
     },
     "execution_count": 2,
     "metadata": {},
     "output_type": "execute_result"
    }
   ],
   "source": [
    "# a라는 변수가 실제 메모리에서 저장되어 있는 위치, 함수 id 사용(memory address)\n",
    "id(a)"
   ]
  },
  {
   "cell_type": "markdown",
   "metadata": {},
   "source": [
    "사실 이게 진짜 실제 16진수 주소는 아니다.  그것은 파이썬 인터프리터가 변환해서 내부적으로 사용한다."
   ]
  },
  {
   "cell_type": "markdown",
   "metadata": {},
   "source": [
    "### Q. 왜 data type은 여러가지 일까?\n",
    "\n",
    "- 다음 질문에 대해 생각해보자.\n",
    "\n",
    "리스트, 딕셔너리, 튜플 등 어떤 데이터를 언제 써야 하는지.\n",
    "\n",
    "> Q1. 컴퓨터는 정수와 실수를 어떻게 인식할까? (어떻게 구분할까)\n",
    "> - 소수점의 유무  \n",
    "\n",
    "> Q2. 100개의 숫자를 한꺼번에 다루고 싶을 때 어떻게 해야할까?\n",
    "> - 시퀀스 형태로 저장  \n",
    "\n",
    "> Q3. 컴퓨터는 문자를 어떻게 인식할까?\n",
    "> - string, '' 와 \"\" 로 감싸진 것  \n",
    "\n",
    "> Q4. 많은 데이터를 빠르게 찾아야 할때는 어떻게 찾는가 (어떻게 저장할까)?  \n",
    "> - 인덱스 사용"
   ]
  },
  {
   "cell_type": "markdown",
   "metadata": {},
   "source": [
    "* 위 질문에 대한 대답을 data type을 배우면서 생각해봅시다.\n",
    "---\n",
    "\n",
    "Python 3강 - Data Type1"
   ]
  },
  {
   "cell_type": "markdown",
   "metadata": {},
   "source": [
    "## 2.1. 숫자 데이터 (Numeric Data Types)"
   ]
  },
  {
   "cell_type": "markdown",
   "metadata": {},
   "source": [
    "* 숫자형 데이터란, 정수/실수/복소수/2진수/8진수/16진수를 포함하며 가장 많이 사용하는 데이터 타입중에 하나다.\n",
    "\n",
    "\n",
    "* 파이썬은 숫자의 **표현 범위가 무한대**이다.  \n",
    "(얼마나 공간을 주어야 하는 것이 데이터 타입에도 중요한데, 데이터 타입마다 얼마의 공간을 할당해주는지가 달라지면 얼마나 담을 수 있는지, 얼마나 표현할 수 있는지도 달라지는 것이다. 근데 파이썬은 숫자가 커지면 그만큼 메모리를 크게 할당한다. )\n",
    "\n",
    "\n",
    "* 숫자 데이터는 우리가 알고 있는 대부분의 연산을 그대로 지원한다. 사칙연산, 나머지 구하기, 몫 구하기, 거듭제곱 등"
   ]
  },
  {
   "cell_type": "markdown",
   "metadata": {},
   "source": [
    "### 정수형 (Integer) "
   ]
  },
  {
   "cell_type": "code",
   "execution_count": 3,
   "metadata": {},
   "outputs": [
    {
     "data": {
      "text/plain": [
       "2"
      ]
     },
     "execution_count": 3,
     "metadata": {},
     "output_type": "execute_result"
    }
   ],
   "source": [
    "1+1"
   ]
  },
  {
   "cell_type": "code",
   "execution_count": 4,
   "metadata": {},
   "outputs": [
    {
     "name": "stdout",
     "output_type": "stream",
     "text": [
      "15\n"
     ]
    }
   ],
   "source": [
    "# a에 10, b에 5를 할당하고, a와 b를 더한 결과를 출력합니다.\n",
    "a, b = 10, 5\n",
    "print(a + b)"
   ]
  },
  {
   "cell_type": "code",
   "execution_count": 5,
   "metadata": {},
   "outputs": [
    {
     "data": {
      "text/plain": [
       "5"
      ]
     },
     "execution_count": 5,
     "metadata": {},
     "output_type": "execute_result"
    }
   ],
   "source": [
    "a - b"
   ]
  },
  {
   "cell_type": "markdown",
   "metadata": {},
   "source": [
    "### 실수형 (Floating point)"
   ]
  },
  {
   "cell_type": "code",
   "execution_count": 6,
   "metadata": {},
   "outputs": [
    {
     "data": {
      "text/plain": [
       "3.14"
      ]
     },
     "execution_count": 6,
     "metadata": {},
     "output_type": "execute_result"
    }
   ],
   "source": [
    "c = 3.14\n",
    "c"
   ]
  },
  {
   "cell_type": "code",
   "execution_count": 7,
   "metadata": {},
   "outputs": [
    {
     "data": {
      "text/plain": [
       "6.28"
      ]
     },
     "execution_count": 7,
     "metadata": {},
     "output_type": "execute_result"
    }
   ],
   "source": [
    "c + 3.14"
   ]
  },
  {
   "cell_type": "markdown",
   "metadata": {},
   "source": [
    "> 여기 문제가 있다. **0.86이 나와야 하는데 0.8599999가 나오는 이유?**  \n",
    "    - 같은 숫자가 아니다. 정수와 소수가 따로 있는 이유. 파이썬은 수치 연산에 상당히 약하다. 오류가 많이 난다. 오류를 더 잘 컨트롤 해야하는 상황에는 C나 포트란 등 수치연산을 더 잘 다룰 수 있는 언어들을 썼었다.  \n",
    "    - 이때 수치 관련한 라이브러리를 가져와서 쓰기로 한 것이 Numpy(numeric python)."
   ]
  },
  {
   "cell_type": "code",
   "execution_count": 8,
   "metadata": {},
   "outputs": [
    {
     "name": "stdout",
     "output_type": "stream",
     "text": [
      "-0.8599999999999999\n"
     ]
    }
   ],
   "source": [
    "# d에 4를 할당하고 c에서 d를 뺀 값을 출력합니다.\n",
    "d = 4\n",
    "print(c - d)"
   ]
  },
  {
   "cell_type": "code",
   "execution_count": 9,
   "metadata": {},
   "outputs": [],
   "source": [
    "import numpy as np"
   ]
  },
  {
   "cell_type": "code",
   "execution_count": 10,
   "metadata": {},
   "outputs": [
    {
     "data": {
      "text/plain": [
       "-0.8599999999999999"
      ]
     },
     "execution_count": 10,
     "metadata": {},
     "output_type": "execute_result"
    }
   ],
   "source": [
    "np.add(c, d*(-1))"
   ]
  },
  {
   "cell_type": "markdown",
   "metadata": {},
   "source": [
    "...?\n",
    "\n",
    "##### exponential, 10의 제곱을 표현하는 지수 표현도 가능"
   ]
  },
  {
   "cell_type": "code",
   "execution_count": 11,
   "metadata": {},
   "outputs": [
    {
     "data": {
      "text/plain": [
       "(1340000.0, 0.00134)"
      ]
     },
     "execution_count": 11,
     "metadata": {},
     "output_type": "execute_result"
    }
   ],
   "source": [
    "# 1.34 x 10^6을 의미한다.\n",
    "e = 1.34E6; e2 = 1.34e-3\n",
    "e, e2"
   ]
  },
  {
   "cell_type": "markdown",
   "metadata": {},
   "source": [
    "### 숫자형 데이터 타입이 제공하는 여러 연산자 "
   ]
  },
  {
   "cell_type": "markdown",
   "metadata": {},
   "source": [
    "#### 사칙연산 "
   ]
  },
  {
   "cell_type": "code",
   "execution_count": 12,
   "metadata": {},
   "outputs": [
    {
     "name": "stdout",
     "output_type": "stream",
     "text": [
      "13\n",
      "7\n",
      "30\n",
      "3.3333333333333335\n"
     ]
    }
   ],
   "source": [
    "# a에 10, b에 3을 할당하고 a와 b의 사칙연산 결과를 출력합니다. 이번에는 출력할때 print 함수를 사용합니다.\n",
    "a, b = 10, 3\n",
    "print(a + b)\n",
    "print(a - b)\n",
    "print(a * b)\n",
    "print(a / b)\n",
    "\n",
    "# 파이썬이 실수 표현할 때 맛이 많이 간다는 것을 알 수 있습니다(라고 말씀하신게 너무 웃김 ㅠ)"
   ]
  },
  {
   "cell_type": "code",
   "execution_count": 13,
   "metadata": {},
   "outputs": [
    {
     "name": "stdout",
     "output_type": "stream",
     "text": [
      "8.700000000000001\n",
      "11.9\n",
      "-16.48\n",
      "-6.4375\n"
     ]
    }
   ],
   "source": [
    "# a에 10.3, b에 -1.6을 할당하고 사칙연산 결과를 출력합니다.\n",
    "a, b = 10.3, -1.6\n",
    "print(a + b)\n",
    "print(a - b)\n",
    "print(a * b)\n",
    "print(a / b)"
   ]
  },
  {
   "cell_type": "markdown",
   "metadata": {},
   "source": [
    "파이썬 특성상 깔끔하게 나오지 않는 수들이 있기 때문에, 실수 계산을 할 때 조금 조심해야 한다. 아니면 소수점을 정하는게 필요할 수도 있다.  \n",
    "\n",
    "#### 특수연산 "
   ]
  },
  {
   "cell_type": "code",
   "execution_count": 14,
   "metadata": {},
   "outputs": [
    {
     "name": "stdout",
     "output_type": "stream",
     "text": [
      "25\n",
      "2\n",
      "1\n"
     ]
    }
   ],
   "source": [
    "c = 5\n",
    "d = 2\n",
    "print(c ** d) # c를 d번 곱한 것. c^d\n",
    "print(c // d) # c를 d로 나눈 몫.\n",
    "print(c % d)  # c를 d로 나눈 나머지."
   ]
  },
  {
   "cell_type": "markdown",
   "metadata": {},
   "source": [
    "**Q. 어떤 연도를 N이라고 할 때,  N이 윤년인지 아닌지 알아보는 방법은 무엇일까?**\n",
    "\n",
    "*A. 윤년 규칙. N이 4의 배수이면서, 100의 배수가 아니거나 400의 배수면 윤년이다.*\n",
    "\n",
    " `==` : equal  \n",
    " `!=` : not same  \n",
    " `and` : and  \n",
    " `or` : or  "
   ]
  },
  {
   "cell_type": "code",
   "execution_count": 15,
   "metadata": {},
   "outputs": [
    {
     "name": "stdout",
     "output_type": "stream",
     "text": [
      "평년\n"
     ]
    }
   ],
   "source": [
    "n = 2021\n",
    "if ((n % 4 == 0)and(n % 100 != 0))or(n % 400 == 0):\n",
    "    print('윤년')\n",
    "else:\n",
    "    print('평년')"
   ]
  },
  {
   "cell_type": "markdown",
   "metadata": {},
   "source": [
    "Python 4-1강 - Data Type2(string)\n",
    "\n",
    "---\n",
    "## 2.2. 문자열(String)\n",
    "\n",
    "문자열에 대한 인식과 파이썬이 문자를 어떻게 다루는 지를 알자."
   ]
  },
  {
   "cell_type": "markdown",
   "metadata": {},
   "source": [
    "* 문자열 데이터란, 문자(character)의 나열을 의미한다. e.g. \"Hello world\"\n",
    "> string ; Character Sequence \n",
    "\n",
    "* 파이썬에 다룰 수 있는 문자열의 크기도 제한이 없다.\n",
    "\n",
    "\n",
    "* 파이썬에선 <kbd>'</kbd>와 <kbd>\"</kbd> 두 가지의 기호를 통해 문자열을 나타낸다. 즉 ' 부터 ' 까지 또는 \" 부터 \" 까지 하나의 문자열이다.\n",
    "e.g. 'Hello', \"World\"\n",
    "\n",
    "\n",
    "* 컴퓨터는 문자(character)를 encoding하여 숫자로 표현한다. 알려진 예로 ASCII, utf-8, cp949가 있다.\n",
    "> 컴퓨터는 문자를 숫자로 인식한다. e.g. ASCII 코드로 변환하면 A->65, a->97  \n",
    "문자를 인식할 수 있는 규칙을 정한 것이다. 문자를 일일히 숫자와 맵핑을 시켜둔 것이다. 각 문자를 숫자로 인식한다. 그 규칙을 수행하는 과정이 encoding이다. \n",
    "\n",
    "* 현재 전세계적으로 웹에서 사용되는 국제 표준은 UTF-8(Universal code character set Transformation Format - 8-bit)이다.\n",
    "> 이전에는 ASCII(알파벳)을 사용했지만 지금은 글로벌 언어들을 다 인식하기 위해  **UTF-8**을 많이 쓰며, 한국어의 경우 윈도우에서 한국어를 사용할 때 CP949라는 인코딩 방법을 사용한다(논외).  \n",
    "이를 알고 있어야 어떤 문자를 쓰든, 웹크롤링을 하든 어떻게 숫자로 변환했는지의 기준을 알고 싶을 때 UTF-8을 검색해서 알아볼 수 있다. \n",
    " \n",
    "**(OPTIONAL)** UTF-8에선 a는 1바이트로, '가'는 3바이트로 인식한다. 이를 가변 인코딩 방식이라고 하며, 영어보다 한글이 더 많은 데이터를 필요로 한다."
   ]
  },
  {
   "cell_type": "markdown",
   "metadata": {},
   "source": [
    "### 문자열을 만드는 여러가지 방법"
   ]
  },
  {
   "cell_type": "code",
   "execution_count": 16,
   "metadata": {},
   "outputs": [
    {
     "name": "stdout",
     "output_type": "stream",
     "text": [
      "Hello World!\n"
     ]
    }
   ],
   "source": [
    "s = \"Hello World!\"\n",
    "print(s)"
   ]
  },
  {
   "cell_type": "code",
   "execution_count": 17,
   "metadata": {},
   "outputs": [
    {
     "data": {
      "text/plain": [
       "'Life is too short, you need Python.'"
      ]
     },
     "execution_count": 17,
     "metadata": {},
     "output_type": "execute_result"
    }
   ],
   "source": [
    "s1 = 'Life is too short, you need Python.'\n",
    "s1"
   ]
  },
  {
   "cell_type": "markdown",
   "metadata": {},
   "source": [
    "##### \"\"\" \"\"\" 세 개를 쓸 때 \n",
    "<kbd>'</kbd>와 <kbd>\"</kbd> 어떤거든 세개로 쓴 경우는, 그 사이에 있는 모든것을 인식하고자 할 때 사용한다. 빈칸, enter도 포함한다.  \n",
    "만약 세개를 쓰지 않고 줄바꿈을 할 경우 `EOL(end of line while scanning string literal)` 오류가 난다. 줄 끝까지 봤는데 안 끝난다고 얘기하는 오류. \n",
    "\n",
    "파이썬은 라인바인라인으로 읽기 때문이다. \n",
    "\n",
    "multi line string을 쓰려면 세 개의 따옴표랑 사용해야 한다. "
   ]
  },
  {
   "cell_type": "code",
   "execution_count": 18,
   "metadata": {},
   "outputs": [
    {
     "name": "stdout",
     "output_type": "stream",
     "text": [
      "To Be Great is\n",
      "To Be Misunderstood.\n",
      "- Ralph Waldo Emerson\n",
      "\n"
     ]
    }
   ],
   "source": [
    "s2 =\"\"\"To Be Great is\n",
    "To Be Misunderstood.\n",
    "- Ralph Waldo Emerson\n",
    "\"\"\"\n",
    "print(s2) # 그냥 s2만 쓰면 어떻게 될까?"
   ]
  },
  {
   "cell_type": "code",
   "execution_count": 19,
   "metadata": {},
   "outputs": [
    {
     "data": {
      "text/plain": [
       "'To Be Great is\\nTo Be Misunderstood.\\n- Ralph Waldo Emerson\\n'"
      ]
     },
     "execution_count": 19,
     "metadata": {},
     "output_type": "execute_result"
    }
   ],
   "source": [
    "s2"
   ]
  },
  {
   "cell_type": "markdown",
   "metadata": {},
   "source": [
    "\\n 이친구가 바로 **escape character** 이다! \n",
    "\n",
    "#### '와 \"를 다 사용하는 이유: \n",
    "\n",
    "아래는 </kbd>'</kbd>와 </kbd>\"</kbd> 를 함께 씀으로써 </kbd>'</kbd>나 </kbd>\"</kbd>을 자체로 포함하는 문자열을 만드는데 사용된다."
   ]
  },
  {
   "cell_type": "code",
   "execution_count": 20,
   "metadata": {},
   "outputs": [
    {
     "name": "stdout",
     "output_type": "stream",
     "text": [
      "I'm a boy\n",
      "She said, \"Go home\"\n"
     ]
    }
   ],
   "source": [
    "# 왜 파이썬은 \"\"와 ''를 모두 제공할까요?\n",
    "# 아래 s3와 s4를 문자열로 만들어서 출력해봅시다. \n",
    "s3 = \"I'm a boy\"\n",
    "s4 = 'She said, \"Go home\"'\n",
    "\n",
    "print(s3)\n",
    "print(s4)"
   ]
  },
  {
   "cell_type": "markdown",
   "metadata": {},
   "source": [
    "### 특수 문자 표현 (escape code) 익히기 \n",
    "</kbd> \\ </kbd> 로 시작하는 글자들은 특별한 기능을 갖게 된다.  \n",
    "`print`문을 사용할 때 특수하게 써진다.  "
   ]
  },
  {
   "cell_type": "code",
   "execution_count": 21,
   "metadata": {},
   "outputs": [
    {
     "data": {
      "text/plain": [
       "'Hello\\nWorld'"
      ]
     },
     "execution_count": 21,
     "metadata": {},
     "output_type": "execute_result"
    }
   ],
   "source": [
    "# \\n -> new line\n",
    "\"Hello\\nWorld\""
   ]
  },
  {
   "cell_type": "code",
   "execution_count": 23,
   "metadata": {},
   "outputs": [
    {
     "name": "stdout",
     "output_type": "stream",
     "text": [
      "Hello\n",
      "World\n"
     ]
    }
   ],
   "source": [
    "# \\n -> new line\n",
    "print(\"Hello\\nWorld\")"
   ]
  },
  {
   "cell_type": "code",
   "execution_count": 24,
   "metadata": {},
   "outputs": [
    {
     "name": "stdout",
     "output_type": "stream",
     "text": [
      "Hello\tWorld\n"
     ]
    }
   ],
   "source": [
    "# \\t -> tab\n",
    "print(\"Hello\\tWorld\")"
   ]
  },
  {
   "cell_type": "markdown",
   "metadata": {},
   "source": [
    "### String concatenation: 문자열 연산하기 \n",
    "\n",
    "> 문자열의 사칙연산은 어떻게 정의될까? 숫자에선 당연했지만, 문자열의 더하기, 곱하기는 어떻게 정의되는지 잘 생각해보자.\n",
    "\n",
    "#### 더하기 "
   ]
  },
  {
   "cell_type": "code",
   "execution_count": 30,
   "metadata": {},
   "outputs": [
    {
     "data": {
      "text/plain": [
       "'HelloWorld'"
      ]
     },
     "execution_count": 30,
     "metadata": {},
     "output_type": "execute_result"
    }
   ],
   "source": [
    "s = \"Hello\" \n",
    "s1 = \"World\"\n",
    "# Q. 가운데 빈 칸을 넣고 싶을 땐 어떻게 해야할까?\n",
    "s+s1"
   ]
  },
  {
   "cell_type": "markdown",
   "metadata": {},
   "source": [
    "1. Hello 뒤에 공백을 준다.  \n",
    "2. ' ' 을 사이에 더해준다.  \n"
   ]
  },
  {
   "cell_type": "code",
   "execution_count": 29,
   "metadata": {},
   "outputs": [
    {
     "data": {
      "text/plain": [
       "'Hello World'"
      ]
     },
     "execution_count": 29,
     "metadata": {},
     "output_type": "execute_result"
    }
   ],
   "source": [
    "s + ' ' + s1"
   ]
  },
  {
   "cell_type": "markdown",
   "metadata": {},
   "source": [
    "#### 곱하기"
   ]
  },
  {
   "cell_type": "code",
   "execution_count": 31,
   "metadata": {},
   "outputs": [
    {
     "data": {
      "text/plain": [
       "'meonmeonmeonmeonmeonmeonmeonmeonmeonmeon'"
      ]
     },
     "execution_count": 31,
     "metadata": {},
     "output_type": "execute_result"
    }
   ],
   "source": [
    "s2 = \"meon\"\n",
    "s2 * 10"
   ]
  },
  {
   "cell_type": "markdown",
   "metadata": {},
   "source": [
    "### len(str) : 문자열의 길이\n",
    "\n",
    "문자열의 길이에는 띄어쓰기도 각각 세어 나오게 된다. (period와 space 모두를 포함)"
   ]
  },
  {
   "cell_type": "code",
   "execution_count": 32,
   "metadata": {},
   "outputs": [
    {
     "data": {
      "text/plain": [
       "16"
      ]
     },
     "execution_count": 32,
     "metadata": {},
     "output_type": "execute_result"
    }
   ],
   "source": [
    "s3 = \"Enjoy your life.\"\n",
    "\n",
    "# 문자열의 길이를 출력하는 함수 len() 을 통해 s3의 문자 갯수(문자열 길이)를 알아보자.\n",
    "\n",
    "len(s3)"
   ]
  },
  {
   "cell_type": "markdown",
   "metadata": {},
   "source": [
    "Python 4-2강 - Data Type2(string)\n",
    "\n",
    "---\n",
    "\n",
    "### 문자열 Formatting "
   ]
  },
  {
   "cell_type": "markdown",
   "metadata": {},
   "source": [
    "print을 포맷을 유지하여 출력할 수 있다. 다른 정보를 그대로 가져와서 같은 형식에 다른 데이터를 print로 뽑는, 내용만 다른 것을 formating이라고 한다.  \n",
    "\n",
    "- 문자열을 출력할 때(print 함수를 이용하여) 특정 format을 지정하고 싶은 경우에는 어떻게 해야할까?\n",
    "\n",
    "e.g. OOO님의 주민등록번호는 XXXXXXX-XXXXXXX입니다."
   ]
  },
  {
   "cell_type": "markdown",
   "metadata": {},
   "source": [
    "- 문자열 포맷에는 크게 3가지가 있다. (차이를 알고 기호에 맞게 사용하기)\n",
    "\n",
    "\n",
    "EX) \"사과는 4개있다.\" 를 출력하고자 할 때\n",
    "\n",
    "\n",
    "#### **1) print format 사용**  \n",
    "\n",
    "print 함수에서 제공하는 포맷.  \n",
    "함수 안 문자열 안에 % 을 쓰고 문자열이 끝난 다음 % 을 다시 쓰고,  \n",
    "넣을 것을 괄호로 1:1 mapping 하는 방식.  \n",
    "- `%s` : string\n",
    "- `%d` : decimal (10진수 정수)  \n",
    "\n",
    "> `print(\"%s는 %d개 있다.\" % (\"사과\", 4))`\n",
    "\n",
    "#### **2) str.format 함수 사용**\n",
    "\n",
    "%를 쓰지 않고 변수를 넣을 곳에 중괄호를 넣는다.  \n",
    "그리고 문자열이 끝난뒤 `.format()`을 쓰고, 포맷함수 안에 차례로 넣고자 하는 문자등을 넣는다.  \n",
    "적어둔 문자열의 fotmat을 정해주는 형식이다.  \n",
    "\n",
    "> `print(\"{}는 {}개 있다.\".format(\"사과\", 4))`\n",
    "\n",
    "#### **3) f-string (**)**\n",
    "\n",
    "변수가 정의되어 있어야 한다. 위의 것들은 문자열을 그대로 넣을 수 있으나,.  \n",
    "formatted string이라는 의미로, `f`가 앞에 붙는다.  \n",
    "2번에서 중괄호 썼던 자리에 변수를 직접 넣는다. 따라서 장점은 **어떤 변수가 어떤 위치에 출력되는지 직관적으로 보인다**는 점이다.  \n",
    "\n",
    "\n",
    "> `apple = \"사과\"`, `count = 4`\n",
    "\n",
    "> `print(f\"{apple}는 {count}개 있다.\")`"
   ]
  },
  {
   "cell_type": "code",
   "execution_count": 33,
   "metadata": {},
   "outputs": [],
   "source": [
    "apple = \"사과\"; count = 4"
   ]
  },
  {
   "cell_type": "code",
   "execution_count": 36,
   "metadata": {},
   "outputs": [
    {
     "name": "stdout",
     "output_type": "stream",
     "text": [
      "사과는 4개 있다.\n",
      "사과는 4개 있다.\n"
     ]
    }
   ],
   "source": [
    "# 1) print formatting\n",
    "print(\"%s는 %d개 있다.\" % (\"사과\", 4))\n",
    "print(\"%s는 %d개 있다.\" % (apple, count))"
   ]
  },
  {
   "cell_type": "code",
   "execution_count": 37,
   "metadata": {},
   "outputs": [
    {
     "name": "stdout",
     "output_type": "stream",
     "text": [
      "사과는 4개 있다.\n"
     ]
    }
   ],
   "source": [
    "# 2) str.format\n",
    "print(\"{}는 {}개 있다.\".format(apple, count))"
   ]
  },
  {
   "cell_type": "code",
   "execution_count": 38,
   "metadata": {},
   "outputs": [
    {
     "name": "stdout",
     "output_type": "stream",
     "text": [
      "사과는 4개 있다.\n"
     ]
    }
   ],
   "source": [
    "# 3) f-string\n",
    "print(f\"{apple}는 {count}개 있다.\")"
   ]
  },
  {
   "cell_type": "markdown",
   "metadata": {},
   "source": [
    "**Q. 개인정보를 사용자로부터 입력받아, 주민등록등본을 출력해주는 키오스크(Kiosk)용 프로그램을 제작하려고 한다. 입력받은 이름을 name이라는 변수에, 주민번호 앞자리를 id라는 변수에 입력받았다면, 주민등록등본에 어떻게 출력해야 할까?**"
   ]
  },
  {
   "cell_type": "code",
   "execution_count": 41,
   "metadata": {},
   "outputs": [
    {
     "name": "stdout",
     "output_type": "stream",
     "text": [
      "성명: 박박디라 | 주민등록번호: 901212-XXXXXXX\n"
     ]
    }
   ],
   "source": [
    "# 받는곳\n",
    "name = '박박디라'; Id = '901212'\n",
    "# 출력\n",
    "print(f\"성명: {name} | 주민등록번호: {Id}-XXXXXXX\")"
   ]
  },
  {
   "cell_type": "markdown",
   "metadata": {},
   "source": [
    "### 문자열 관련 함수들 (**) \n",
    "\n",
    "class methods : `내가_사용할_변수.함수()`  "
   ]
  },
  {
   "cell_type": "markdown",
   "metadata": {},
   "source": [
    "#### upper(), lower() : (영어) 대소문자 바꾸기 "
   ]
  },
  {
   "cell_type": "code",
   "execution_count": 42,
   "metadata": {},
   "outputs": [
    {
     "data": {
      "text/plain": [
       "'HI'"
      ]
     },
     "execution_count": 42,
     "metadata": {},
     "output_type": "execute_result"
    }
   ],
   "source": [
    "s = \"hi\"\n",
    "s.upper()"
   ]
  },
  {
   "cell_type": "code",
   "execution_count": 43,
   "metadata": {},
   "outputs": [
    {
     "data": {
      "text/plain": [
       "'hi'"
      ]
     },
     "execution_count": 43,
     "metadata": {},
     "output_type": "execute_result"
    }
   ],
   "source": [
    "s = \"Hi\"\n",
    "s.lower()"
   ]
  },
  {
   "cell_type": "markdown",
   "metadata": {},
   "source": [
    "#### strip() : 문자 좌우 공백 지우기\n",
    "\n",
    "좌우 공백을 벗긴다. 가운데 글자가 있다면 글자의 왼쪽과 오른쪽의 공백만 지운다.  \n",
    "첫 번째 빈칸이 아닌 문자와 마지막 빈칸이 아닌 문자만 인식한다.  "
   ]
  },
  {
   "cell_type": "code",
   "execution_count": 47,
   "metadata": {},
   "outputs": [
    {
     "name": "stdout",
     "output_type": "stream",
     "text": [
      "s p a   ce\n",
      "s p a   ce     \n",
      " s p a   ce\n"
     ]
    }
   ],
   "source": [
    "s = \" s p a   ce     \"\n",
    "print(s.strip())\n",
    "print(s.lstrip())\n",
    "print(s.rstrip())"
   ]
  },
  {
   "cell_type": "markdown",
   "metadata": {},
   "source": [
    "#### join() : 문자열 삽입 \n",
    "제일 많이 쓰는 함수이다.  \n",
    "`str.join(obj)` : obj 사이사이에 str을 넣는 의미.  \n",
    "\n",
    "obj에 문자열이 들어오는 경우 문자열 사이사이에 넣고,  \n",
    "리스트가 들어오는 경우는 리스트 대상 사이사이에 넣는다. "
   ]
  },
  {
   "cell_type": "code",
   "execution_count": 49,
   "metadata": {},
   "outputs": [
    {
     "data": {
      "text/plain": [
       "'c,o,m,m,a'"
      ]
     },
     "execution_count": 49,
     "metadata": {},
     "output_type": "execute_result"
    }
   ],
   "source": [
    "','.join('comma')"
   ]
  },
  {
   "cell_type": "code",
   "execution_count": 53,
   "metadata": {},
   "outputs": [
    {
     "data": {
      "text/plain": [
       "'아이고,되다,라고 말했다.'"
      ]
     },
     "execution_count": 53,
     "metadata": {},
     "output_type": "execute_result"
    }
   ],
   "source": [
    "','.join(['아이고', '되다', '라고 말했다.'])"
   ]
  },
  {
   "cell_type": "markdown",
   "metadata": {},
   "source": [
    "#### split() : 문자열  나누기 \n",
    "\n",
    "원하는 구분자(token이라고 함)를 기준으로 문자열을 자른다.  \n",
    "default는 ' '(공백)이다.  "
   ]
  },
  {
   "cell_type": "code",
   "execution_count": 56,
   "metadata": {},
   "outputs": [
    {
     "data": {
      "text/plain": [
       "['Life', 'is', 'too', 'short.', 'You', 'need', 'python.']"
      ]
     },
     "execution_count": 56,
     "metadata": {},
     "output_type": "execute_result"
    }
   ],
   "source": [
    "s = \"Life is too short. You need python.\"\n",
    "s.split()"
   ]
  },
  {
   "cell_type": "code",
   "execution_count": 57,
   "metadata": {},
   "outputs": [
    {
     "data": {
      "text/plain": [
       "['Life is too short', ' You need python', '']"
      ]
     },
     "execution_count": 57,
     "metadata": {},
     "output_type": "execute_result"
    }
   ],
   "source": [
    "s.split('.')"
   ]
  },
  {
   "cell_type": "markdown",
   "metadata": {},
   "source": [
    "####  c.replace(a, b) : 문자열 바꾸기\n",
    "\n",
    "c에서 a를 b로 치환. \n",
    "\n",
    "**좋은 예시로 빈 칸을 없애기 위해 `replace(\" \", \"\")`를 주로 사용한다.**"
   ]
  },
  {
   "cell_type": "code",
   "execution_count": 58,
   "metadata": {},
   "outputs": [
    {
     "data": {
      "text/plain": [
       "'This pencil is too short.'"
      ]
     },
     "execution_count": 58,
     "metadata": {},
     "output_type": "execute_result"
    }
   ],
   "source": [
    "s = \"Life is too short.\"\n",
    "# Life를 This pencil로 바꿔봅시다.\n",
    "s.replace('Life', 'This pencil')"
   ]
  },
  {
   "cell_type": "code",
   "execution_count": 59,
   "metadata": {},
   "outputs": [
    {
     "data": {
      "text/plain": [
       "'Lifeistooshort.'"
      ]
     },
     "execution_count": 59,
     "metadata": {},
     "output_type": "execute_result"
    }
   ],
   "source": [
    "s.replace(\" \", \"\")"
   ]
  }
 ],
 "metadata": {
  "kernelspec": {
   "display_name": "Python 3 (ipykernel)",
   "language": "python",
   "name": "python3"
  },
  "language_info": {
   "codemirror_mode": {
    "name": "ipython",
    "version": 3
   },
   "file_extension": ".py",
   "mimetype": "text/x-python",
   "name": "python",
   "nbconvert_exporter": "python",
   "pygments_lexer": "ipython3",
   "version": "3.8.5"
  },
  "latex_envs": {
   "LaTeX_envs_menu_present": true,
   "autoclose": true,
   "autocomplete": true,
   "bibliofile": "biblio.bib",
   "cite_by": "apalike",
   "current_citInitial": 1,
   "eqLabelWithNumbers": true,
   "eqNumInitial": 1,
   "hotkeys": {
    "equation": "Ctrl-E",
    "itemize": "Ctrl-I"
   },
   "labels_anchors": false,
   "latex_user_defs": false,
   "report_style_numbering": false,
   "user_envs_cfg": false
  },
  "toc": {
   "base_numbering": 1,
   "nav_menu": {},
   "number_sections": true,
   "sideBar": true,
   "skip_h1_title": true,
   "title_cell": "Table of Contents",
   "title_sidebar": "Contents",
   "toc_cell": true,
   "toc_position": {},
   "toc_section_display": true,
   "toc_window_display": false
  }
 },
 "nbformat": 4,
 "nbformat_minor": 2
}

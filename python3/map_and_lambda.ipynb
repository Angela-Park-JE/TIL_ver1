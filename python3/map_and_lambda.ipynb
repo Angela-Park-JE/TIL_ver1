{
 "cells": [
  {
   "cell_type": "markdown",
   "id": "7069999d",
   "metadata": {},
   "source": [
    "# map 과 lambda\n",
    "\n",
    "map 과 lambda 를 코드에서 굉장히 자주 보게 되는데 이들을 활용하는 작은 실습이 있어서 데려왔다.\n",
    "\n",
    "_출처: https://github.com/netsus/python_practice/blob/master/python_practice_4_map_and_lambda.ipynb_\n",
    "\n",
    "## map 함수 기초 예시\n",
    "\n",
    "mapping을 해준다. 리스트의 있는 것들을 차례로 인수로 넣어 값을 반환하도록 한다."
   ]
  },
  {
   "cell_type": "code",
   "execution_count": 1,
   "id": "6a7f9503",
   "metadata": {},
   "outputs": [
    {
     "data": {
      "text/plain": [
       "[3.141592653589793, 28.274333882308138, 78.53981633974483, 153.93804002589985]"
      ]
     },
     "execution_count": 1,
     "metadata": {},
     "output_type": "execute_result"
    }
   ],
   "source": [
    "import math # math 라이브러리 불러오기\n",
    "\n",
    "radius_li = [1,3,5,7] # 반지름 리스트\n",
    "\n",
    "# 해당 반지름을 가지는 원의 면적을 구하는 함수\n",
    "def area(r):\n",
    "    return math.pi * (r**2) # math.pi는 원주율값을 갖습니다.\n",
    "\n",
    "# area 함수에 raius_li 를 넣어 값들의 결과를 반환한다.\n",
    "list(map(area, radius_li)) \n",
    "#리스트 값: [3.141592653589793, 28.274333882308138, 78.53981633974483, 153.93804002589985]"
   ]
  },
  {
   "cell_type": "markdown",
   "id": "a16e5a9f",
   "metadata": {},
   "source": [
    "## lambda 기초 예시\n",
    "\n",
    "함수를 만들지 않고 list에 있는 값들을 가져와 x라 칭하여, x에 펑션을 적용한 값을 리스트로 반환하도록 한다.\n"
   ]
  },
  {
   "cell_type": "code",
   "execution_count": 3,
   "id": "66e02bc7",
   "metadata": {},
   "outputs": [
    {
     "name": "stdout",
     "output_type": "stream",
     "text": [
      "[3.141592653589793, 28.274333882308138, 78.53981633974483, 153.93804002589985]\n"
     ]
    }
   ],
   "source": [
    "# 위에서 만든 함수 area에 list를 넣은 것\n",
    "a = list(map(area,radius_li)) \n",
    "# 출력 : [3.141592653589793, 28.274333882308138, 78.53981633974483, 153.93804002589985]\n",
    "\n",
    "b = list(map(lambda x: math.pi * (x**2), radius_li))\n",
    "# 출력: [3.141592653589793, 28.274333882308138, 78.53981633974483, 153.93804002589985]\n",
    "\n",
    "print(b)"
   ]
  },
  {
   "cell_type": "markdown",
   "id": "9d2fcadd",
   "metadata": {},
   "source": [
    "## 자주 쓰이는 map 예시\n",
    "\n",
    "띄어쓰기가 임의로 되어있는 문자열의 띄어쓰기를 붙이는 형태이다."
   ]
  },
  {
   "cell_type": "code",
   "execution_count": 5,
   "id": "400d0eaa",
   "metadata": {},
   "outputs": [
    {
     "data": {
      "text/plain": [
       "['apple', 'banana', 'grape']"
      ]
     },
     "execution_count": 5,
     "metadata": {},
     "output_type": "execute_result"
    }
   ],
   "source": [
    "string = ['a pple','ba nana','gr ape']\n",
    "\n",
    "list(map(lambda x: x.replace(' ',''),string)) # ['apple', 'banana', 'grape']"
   ]
  },
  {
   "cell_type": "markdown",
   "id": "4567110d",
   "metadata": {},
   "source": [
    "## if 와 함께 쓰이는 경우\n"
   ]
  },
  {
   "cell_type": "code",
   "execution_count": null,
   "id": "50fc90fa",
   "metadata": {},
   "outputs": [],
   "source": []
  },
  {
   "cell_type": "code",
   "execution_count": null,
   "id": "9e39763e",
   "metadata": {},
   "outputs": [],
   "source": []
  }
 ],
 "metadata": {
  "kernelspec": {
   "display_name": "Python 3 (ipykernel)",
   "language": "python",
   "name": "python3"
  },
  "language_info": {
   "codemirror_mode": {
    "name": "ipython",
    "version": 3
   },
   "file_extension": ".py",
   "mimetype": "text/x-python",
   "name": "python",
   "nbconvert_exporter": "python",
   "pygments_lexer": "ipython3",
   "version": "3.8.5"
  },
  "toc": {
   "base_numbering": 1,
   "nav_menu": {},
   "number_sections": true,
   "sideBar": true,
   "skip_h1_title": false,
   "title_cell": "Table of Contents",
   "title_sidebar": "Contents",
   "toc_cell": false,
   "toc_position": {},
   "toc_section_display": true,
   "toc_window_display": false
  }
 },
 "nbformat": 4,
 "nbformat_minor": 5
}

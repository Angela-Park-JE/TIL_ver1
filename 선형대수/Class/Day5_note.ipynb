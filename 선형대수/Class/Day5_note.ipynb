{
 "cells": [
  {
   "cell_type": "markdown",
   "id": "0d0f2055",
   "metadata": {},
   "source": [
    "# LU 분해"
   ]
  },
  {
   "cell_type": "markdown",
   "id": "81f25acb",
   "metadata": {},
   "source": [
    "## 넘파이 실습"
   ]
  },
  {
   "cell_type": "code",
   "execution_count": 1,
   "id": "3ea65f07",
   "metadata": {},
   "outputs": [],
   "source": [
    "import numpy as np\n",
    "from scipy.linalg import lu # lu분해는 scipy 안에 있음"
   ]
  },
  {
   "cell_type": "code",
   "execution_count": 2,
   "id": "7666dd3f",
   "metadata": {},
   "outputs": [],
   "source": [
    "A = np.array([[2,-2,-2],[0,-2,2],[-1,5,2]])"
   ]
  },
  {
   "cell_type": "code",
   "execution_count": 3,
   "id": "b30d2b44",
   "metadata": {},
   "outputs": [],
   "source": [
    "P, L, U = lu(A)"
   ]
  },
  {
   "cell_type": "code",
   "execution_count": 4,
   "id": "7113206a",
   "metadata": {},
   "outputs": [
    {
     "data": {
      "text/plain": [
       "array([[1., 0., 0.],\n",
       "       [0., 0., 1.],\n",
       "       [0., 1., 0.]])"
      ]
     },
     "execution_count": 4,
     "metadata": {},
     "output_type": "execute_result"
    }
   ],
   "source": [
    "P"
   ]
  },
  {
   "cell_type": "code",
   "execution_count": 5,
   "id": "a61cc6d6",
   "metadata": {},
   "outputs": [
    {
     "data": {
      "text/plain": [
       "array([[ 1. ,  0. ,  0. ],\n",
       "       [-0.5,  1. ,  0. ],\n",
       "       [ 0. , -0.5,  1. ]])"
      ]
     },
     "execution_count": 5,
     "metadata": {},
     "output_type": "execute_result"
    }
   ],
   "source": [
    "L"
   ]
  },
  {
   "cell_type": "code",
   "execution_count": 6,
   "id": "ae064a9c",
   "metadata": {},
   "outputs": [
    {
     "data": {
      "text/plain": [
       "array([[ 2. , -2. , -2. ],\n",
       "       [ 0. ,  4. ,  1. ],\n",
       "       [ 0. ,  0. ,  2.5]])"
      ]
     },
     "execution_count": 6,
     "metadata": {},
     "output_type": "execute_result"
    }
   ],
   "source": [
    "U"
   ]
  },
  {
   "cell_type": "code",
   "execution_count": 7,
   "id": "ebc8a58d",
   "metadata": {},
   "outputs": [
    {
     "data": {
      "text/plain": [
       "array([[ 2., -2., -2.],\n",
       "       [-1.,  5.,  2.],\n",
       "       [ 0., -2.,  2.]])"
      ]
     },
     "execution_count": 7,
     "metadata": {},
     "output_type": "execute_result"
    }
   ],
   "source": [
    "# A = LU 확인\n",
    "\n",
    "L@U"
   ]
  },
  {
   "cell_type": "markdown",
   "id": "bcb4afd9",
   "metadata": {},
   "source": [
    "L@U가 P에 의해서 행의 순서가 바뀐 것이 반영되서 나온다."
   ]
  },
  {
   "cell_type": "markdown",
   "id": "c1e8fa44",
   "metadata": {},
   "source": [
    "# 텐서 실습\n",
    "\n",
    "### 각 원소에 접근하기"
   ]
  },
  {
   "cell_type": "code",
   "execution_count": 10,
   "id": "06c39833",
   "metadata": {},
   "outputs": [],
   "source": [
    "# 벡터 : 리스트 한 겹\n",
    "# 각 원소에 접근할 때 대괄호도 하나\n",
    "x = [1, 2]"
   ]
  },
  {
   "cell_type": "code",
   "execution_count": 11,
   "id": "cb9ea1d6",
   "metadata": {},
   "outputs": [
    {
     "data": {
      "text/plain": [
       "1"
      ]
     },
     "execution_count": 11,
     "metadata": {},
     "output_type": "execute_result"
    }
   ],
   "source": [
    "x[0]"
   ]
  },
  {
   "cell_type": "code",
   "execution_count": 12,
   "id": "dbee61bb",
   "metadata": {},
   "outputs": [
    {
     "data": {
      "text/plain": [
       "2"
      ]
     },
     "execution_count": 12,
     "metadata": {},
     "output_type": "execute_result"
    }
   ],
   "source": [
    "x[1]"
   ]
  },
  {
   "cell_type": "code",
   "execution_count": 8,
   "id": "4150d41d",
   "metadata": {},
   "outputs": [],
   "source": [
    "# 행렬 : 리스트 두 겹\n",
    "# 각 원소에 접근할 때 대괄호가 둘\n",
    "A = [[1, 2], [3, 4]]"
   ]
  },
  {
   "cell_type": "code",
   "execution_count": 13,
   "id": "d8ef27b7",
   "metadata": {},
   "outputs": [
    {
     "data": {
      "text/plain": [
       "1"
      ]
     },
     "execution_count": 13,
     "metadata": {},
     "output_type": "execute_result"
    }
   ],
   "source": [
    "A[0][0]"
   ]
  },
  {
   "cell_type": "code",
   "execution_count": 14,
   "id": "a6c75552",
   "metadata": {},
   "outputs": [
    {
     "data": {
      "text/plain": [
       "2"
      ]
     },
     "execution_count": 14,
     "metadata": {},
     "output_type": "execute_result"
    }
   ],
   "source": [
    "A[0][1]"
   ]
  },
  {
   "cell_type": "code",
   "execution_count": 15,
   "id": "e437bfb0",
   "metadata": {},
   "outputs": [
    {
     "data": {
      "text/plain": [
       "3"
      ]
     },
     "execution_count": 15,
     "metadata": {},
     "output_type": "execute_result"
    }
   ],
   "source": [
    "A[1][0]"
   ]
  },
  {
   "cell_type": "code",
   "execution_count": 16,
   "id": "3f3ef0c7",
   "metadata": {},
   "outputs": [
    {
     "data": {
      "text/plain": [
       "4"
      ]
     },
     "execution_count": 16,
     "metadata": {},
     "output_type": "execute_result"
    }
   ],
   "source": [
    "A[1][1]"
   ]
  },
  {
   "cell_type": "markdown",
   "id": "dd2ce5a2",
   "metadata": {},
   "source": [
    "### 텐서 만들기"
   ]
  },
  {
   "cell_type": "code",
   "execution_count": 19,
   "id": "4dd5c9db",
   "metadata": {},
   "outputs": [],
   "source": [
    "# 텐서 : 리스트가 세 겹\n",
    "T = [[[1, 2],[3, 4]], [[5, 6], [7, 8]]]"
   ]
  },
  {
   "cell_type": "markdown",
   "id": "aab8defd",
   "metadata": {},
   "source": [
    "채널 번수가 맨 앞으로 온다는 것을 기억해야 한다."
   ]
  },
  {
   "cell_type": "code",
   "execution_count": 20,
   "id": "b88dce48",
   "metadata": {},
   "outputs": [
    {
     "data": {
      "text/plain": [
       "1"
      ]
     },
     "execution_count": 20,
     "metadata": {},
     "output_type": "execute_result"
    }
   ],
   "source": [
    "T[0][0][0]"
   ]
  },
  {
   "cell_type": "code",
   "execution_count": 21,
   "id": "8235df04",
   "metadata": {},
   "outputs": [
    {
     "data": {
      "text/plain": [
       "2"
      ]
     },
     "execution_count": 21,
     "metadata": {},
     "output_type": "execute_result"
    }
   ],
   "source": [
    "T[0][0][1]"
   ]
  },
  {
   "cell_type": "code",
   "execution_count": 22,
   "id": "55e5f22a",
   "metadata": {},
   "outputs": [
    {
     "data": {
      "text/plain": [
       "3"
      ]
     },
     "execution_count": 22,
     "metadata": {},
     "output_type": "execute_result"
    }
   ],
   "source": [
    "T[0][1][0]"
   ]
  },
  {
   "cell_type": "code",
   "execution_count": 23,
   "id": "642ca516",
   "metadata": {},
   "outputs": [
    {
     "data": {
      "text/plain": [
       "4"
      ]
     },
     "execution_count": 23,
     "metadata": {},
     "output_type": "execute_result"
    }
   ],
   "source": [
    "T[0][1][1]"
   ]
  },
  {
   "cell_type": "code",
   "execution_count": 24,
   "id": "dc87ea2e",
   "metadata": {},
   "outputs": [
    {
     "data": {
      "text/plain": [
       "5"
      ]
     },
     "execution_count": 24,
     "metadata": {},
     "output_type": "execute_result"
    }
   ],
   "source": [
    "T[1][0][0]"
   ]
  },
  {
   "cell_type": "code",
   "execution_count": 25,
   "id": "fe54528c",
   "metadata": {},
   "outputs": [
    {
     "data": {
      "text/plain": [
       "6"
      ]
     },
     "execution_count": 25,
     "metadata": {},
     "output_type": "execute_result"
    }
   ],
   "source": [
    "T[1][0][1]"
   ]
  },
  {
   "cell_type": "code",
   "execution_count": 26,
   "id": "bb1401ae",
   "metadata": {},
   "outputs": [
    {
     "data": {
      "text/plain": [
       "7"
      ]
     },
     "execution_count": 26,
     "metadata": {},
     "output_type": "execute_result"
    }
   ],
   "source": [
    "T[1][1][0]"
   ]
  },
  {
   "cell_type": "code",
   "execution_count": 27,
   "id": "a7aceabe",
   "metadata": {},
   "outputs": [
    {
     "data": {
      "text/plain": [
       "8"
      ]
     },
     "execution_count": 27,
     "metadata": {},
     "output_type": "execute_result"
    }
   ],
   "source": [
    "T[1][1][1]"
   ]
  },
  {
   "cell_type": "markdown",
   "id": "af9dafb6",
   "metadata": {},
   "source": [
    "## 텐서의 노름 구하기"
   ]
  },
  {
   "cell_type": "code",
   "execution_count": 28,
   "id": "d87a6e4f",
   "metadata": {},
   "outputs": [],
   "source": [
    "A = [ [[1,0,1,0], [2,1,0,1], [3,4,0,2]],\n",
    "      [[3,1,2,0], [1,0,4,2], [0,1,0,2]]  ]"
   ]
  },
  {
   "cell_type": "code",
   "execution_count": 29,
   "id": "240b1e59",
   "metadata": {},
   "outputs": [
    {
     "name": "stdout",
     "output_type": "stream",
     "text": [
      "[[[1, 0, 1, 0], [2, 1, 0, 1], [3, 4, 0, 2]], [[3, 1, 2, 0], [1, 0, 4, 2], [0, 1, 0, 2]]]\n"
     ]
    }
   ],
   "source": [
    "print(A)"
   ]
  },
  {
   "cell_type": "code",
   "execution_count": 32,
   "id": "d0652288",
   "metadata": {},
   "outputs": [],
   "source": [
    "n = len(A[0])    # 열 벡터의 개수\n",
    "p = len(A[0][0]) # 행 벡터의 개수\n",
    "q = len(A)       # 행렬이 몇 개"
   ]
  },
  {
   "cell_type": "code",
   "execution_count": 33,
   "id": "1e0b2484",
   "metadata": {},
   "outputs": [
    {
     "name": "stdout",
     "output_type": "stream",
     "text": [
      "3 4 2\n"
     ]
    }
   ],
   "source": [
    "print(n, p, q)"
   ]
  },
  {
   "cell_type": "code",
   "execution_count": 35,
   "id": "16d7a4ec",
   "metadata": {},
   "outputs": [],
   "source": [
    "norm = 0\n",
    "for i in range(0, n):\n",
    "    for j in range(0, p):\n",
    "        for k in range(0, q):\n",
    "            norm += A[k][i][j]**2\n",
    "\n",
    "norm = norm**0.5"
   ]
  },
  {
   "cell_type": "code",
   "execution_count": 37,
   "id": "1a4ca06d",
   "metadata": {},
   "outputs": [
    {
     "name": "stdout",
     "output_type": "stream",
     "text": [
      "8.774964387392123\n"
     ]
    }
   ],
   "source": [
    "print(norm)"
   ]
  },
  {
   "cell_type": "markdown",
   "id": "015ee91d",
   "metadata": {},
   "source": [
    "## 텐서의 내적 구하기\n",
    "\n",
    "채널번호가 가장 앞에 오는거 까먹지 말기"
   ]
  },
  {
   "cell_type": "markdown",
   "id": "1fe1483f",
   "metadata": {},
   "source": [
    "### 파이썬으로 하기"
   ]
  },
  {
   "cell_type": "code",
   "execution_count": 38,
   "id": "0fd790df",
   "metadata": {},
   "outputs": [],
   "source": [
    "A = [ [[1,0,1,0], [2,1,0,1], [3,4,0,2]],\n",
    "      [[3,1,2,0], [1,0,4,2], [0,1,0,2]]  ]\n",
    "B = [ [[2,1,3,1], [0,2,1,3], [1,0,1,1]],\n",
    "      [[1,2,3,1], [3,1,0,3], [0,2,3,1]]  ]"
   ]
  },
  {
   "cell_type": "code",
   "execution_count": 39,
   "id": "3ad0b132",
   "metadata": {},
   "outputs": [],
   "source": [
    "n = len(A[0])\n",
    "p = len(A[0][0])\n",
    "q = len(A)"
   ]
  },
  {
   "cell_type": "code",
   "execution_count": 41,
   "id": "7a19c32c",
   "metadata": {},
   "outputs": [],
   "source": [
    "inner_product = 0\n",
    "for i in range(0, n):\n",
    "    for j in range(0, p):\n",
    "        for k in range(0, q):\n",
    "            inner_product += A[k][i][j] * B[k][i][j]"
   ]
  },
  {
   "cell_type": "code",
   "execution_count": 42,
   "id": "b8043b6f",
   "metadata": {},
   "outputs": [
    {
     "name": "stdout",
     "output_type": "stream",
     "text": [
      "39\n"
     ]
    }
   ],
   "source": [
    "print(inner_product)"
   ]
  },
  {
   "cell_type": "markdown",
   "id": "3a30782b",
   "metadata": {},
   "source": [
    "### 넘파이로 하기"
   ]
  },
  {
   "cell_type": "code",
   "execution_count": 43,
   "id": "e93f74e9",
   "metadata": {},
   "outputs": [],
   "source": [
    "import numpy as np\n",
    "\n",
    "# 넣는 것 array로 안하고 리스트로 바로 넣어도 값은 같게 나올 수 있다."
   ]
  },
  {
   "cell_type": "code",
   "execution_count": 44,
   "id": "e0bdb76a",
   "metadata": {},
   "outputs": [],
   "source": [
    "A = np.array([ [[1,0,1,0], [2,1,0,1], [3,4,0,2]],\n",
    "               [[3,1,2,0], [1,0,4,2], [0,1,0,2]]  ])\n",
    "B = np.array([ [[2,1,3,1], [0,2,1,3], [1,0,1,1]],\n",
    "               [[1,2,3,1], [3,1,0,3], [0,2,3,1]]  ])"
   ]
  },
  {
   "cell_type": "code",
   "execution_count": 45,
   "id": "57c45863",
   "metadata": {},
   "outputs": [],
   "source": [
    "C = np.multiply(A, B)"
   ]
  },
  {
   "cell_type": "code",
   "execution_count": 46,
   "id": "1639432f",
   "metadata": {},
   "outputs": [
    {
     "name": "stdout",
     "output_type": "stream",
     "text": [
      "[[[2 0 3 0]\n",
      "  [0 2 0 3]\n",
      "  [3 0 0 2]]\n",
      "\n",
      " [[3 2 6 0]\n",
      "  [3 0 0 6]\n",
      "  [0 2 0 2]]]\n"
     ]
    }
   ],
   "source": [
    "print(C)"
   ]
  },
  {
   "cell_type": "code",
   "execution_count": 48,
   "id": "e55c1b40",
   "metadata": {},
   "outputs": [
    {
     "name": "stdout",
     "output_type": "stream",
     "text": [
      "39\n"
     ]
    }
   ],
   "source": [
    "inner_product = np.sum(C)\n",
    "print(inner_product)"
   ]
  }
 ],
 "metadata": {
  "kernelspec": {
   "display_name": "Python 3 (ipykernel)",
   "language": "python",
   "name": "python3"
  },
  "language_info": {
   "codemirror_mode": {
    "name": "ipython",
    "version": 3
   },
   "file_extension": ".py",
   "mimetype": "text/x-python",
   "name": "python",
   "nbconvert_exporter": "python",
   "pygments_lexer": "ipython3",
   "version": "3.8.5"
  },
  "toc": {
   "base_numbering": 1,
   "nav_menu": {},
   "number_sections": true,
   "sideBar": true,
   "skip_h1_title": false,
   "title_cell": "Table of Contents",
   "title_sidebar": "Contents",
   "toc_cell": false,
   "toc_position": {},
   "toc_section_display": true,
   "toc_window_display": false
  }
 },
 "nbformat": 4,
 "nbformat_minor": 5
}

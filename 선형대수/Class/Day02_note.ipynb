{
 "cells": [
  {
   "cell_type": "markdown",
   "id": "e0df0216",
   "metadata": {},
   "source": [
    "## 행렬식 구하기- 넘파이"
   ]
  },
  {
   "cell_type": "code",
   "execution_count": 1,
   "id": "a52758d7",
   "metadata": {},
   "outputs": [],
   "source": [
    "import numpy as np"
   ]
  },
  {
   "cell_type": "code",
   "execution_count": 2,
   "id": "49628fb0",
   "metadata": {},
   "outputs": [],
   "source": [
    "A = np.array([[3,2,0], [-1,-3,6], [2,3,-5]])"
   ]
  },
  {
   "cell_type": "code",
   "execution_count": 5,
   "id": "a53dae25",
   "metadata": {},
   "outputs": [],
   "source": [
    "detA = np.linalg.det(A)"
   ]
  },
  {
   "cell_type": "code",
   "execution_count": 6,
   "id": "e1cec006",
   "metadata": {},
   "outputs": [
    {
     "name": "stdout",
     "output_type": "stream",
     "text": [
      "5.000000000000002\n"
     ]
    }
   ],
   "source": [
    "print(detA)"
   ]
  },
  {
   "cell_type": "markdown",
   "id": "3d01b5bf",
   "metadata": {},
   "source": [
    "5.000000000000002 이건 부동소수점이라 신경안쓰셔도 됩니다."
   ]
  },
  {
   "cell_type": "markdown",
   "id": "1bafbcd2",
   "metadata": {},
   "source": [
    "## 역행렬 구하기"
   ]
  },
  {
   "cell_type": "code",
   "execution_count": 7,
   "id": "39dde0a2",
   "metadata": {},
   "outputs": [],
   "source": [
    "A = np.array([[3,2,0], [-1,-3,6], [2,3,-5]])"
   ]
  },
  {
   "cell_type": "code",
   "execution_count": 8,
   "id": "0f0c470a",
   "metadata": {},
   "outputs": [
    {
     "name": "stdout",
     "output_type": "stream",
     "text": [
      "[[ 3  2  0]\n",
      " [-1 -3  6]\n",
      " [ 2  3 -5]]\n",
      "----\n",
      "[[-0.6  2.   2.4]\n",
      " [ 1.4 -3.  -3.6]\n",
      " [ 0.6 -1.  -1.4]]\n"
     ]
    }
   ],
   "source": [
    "invA = np.linalg.inv(A)\n",
    "print(A)\n",
    "print('----')\n",
    "print(invA)"
   ]
  },
  {
   "cell_type": "markdown",
   "id": "1be256b2",
   "metadata": {},
   "source": [
    "## 선형시스템"
   ]
  },
  {
   "cell_type": "code",
   "execution_count": 9,
   "id": "0915f025",
   "metadata": {},
   "outputs": [],
   "source": [
    "import pandas as pd"
   ]
  },
  {
   "cell_type": "code",
   "execution_count": 12,
   "id": "8cec50f0",
   "metadata": {
    "scrolled": true
   },
   "outputs": [],
   "source": [
    "df = pd.read_csv('./data/netflix_price.csv')"
   ]
  },
  {
   "cell_type": "code",
   "execution_count": 13,
   "id": "dac86742",
   "metadata": {},
   "outputs": [
    {
     "data": {
      "text/html": [
       "<div>\n",
       "<style scoped>\n",
       "    .dataframe tbody tr th:only-of-type {\n",
       "        vertical-align: middle;\n",
       "    }\n",
       "\n",
       "    .dataframe tbody tr th {\n",
       "        vertical-align: top;\n",
       "    }\n",
       "\n",
       "    .dataframe thead th {\n",
       "        text-align: right;\n",
       "    }\n",
       "</style>\n",
       "<table border=\"1\" class=\"dataframe\">\n",
       "  <thead>\n",
       "    <tr style=\"text-align: right;\">\n",
       "      <th></th>\n",
       "      <th>Country</th>\n",
       "      <th>Total Library Size</th>\n",
       "      <th>No. of TV Shows</th>\n",
       "      <th>No. of Movies</th>\n",
       "      <th>Cost Per Month-Basic</th>\n",
       "      <th>Cost Per Month-Standard</th>\n",
       "      <th>Cost Per Month-Premium</th>\n",
       "    </tr>\n",
       "  </thead>\n",
       "  <tbody>\n",
       "    <tr>\n",
       "      <th>0</th>\n",
       "      <td>Argentina</td>\n",
       "      <td>4760</td>\n",
       "      <td>3154</td>\n",
       "      <td>1606</td>\n",
       "      <td>3.74</td>\n",
       "      <td>6.30</td>\n",
       "      <td>9.26</td>\n",
       "    </tr>\n",
       "    <tr>\n",
       "      <th>1</th>\n",
       "      <td>Austria</td>\n",
       "      <td>5640</td>\n",
       "      <td>3779</td>\n",
       "      <td>1861</td>\n",
       "      <td>9.03</td>\n",
       "      <td>14.67</td>\n",
       "      <td>20.32</td>\n",
       "    </tr>\n",
       "    <tr>\n",
       "      <th>2</th>\n",
       "      <td>Bolivia</td>\n",
       "      <td>4991</td>\n",
       "      <td>3155</td>\n",
       "      <td>1836</td>\n",
       "      <td>7.99</td>\n",
       "      <td>10.99</td>\n",
       "      <td>13.99</td>\n",
       "    </tr>\n",
       "    <tr>\n",
       "      <th>3</th>\n",
       "      <td>Bulgaria</td>\n",
       "      <td>6797</td>\n",
       "      <td>4819</td>\n",
       "      <td>1978</td>\n",
       "      <td>9.03</td>\n",
       "      <td>11.29</td>\n",
       "      <td>13.54</td>\n",
       "    </tr>\n",
       "    <tr>\n",
       "      <th>4</th>\n",
       "      <td>Chile</td>\n",
       "      <td>4994</td>\n",
       "      <td>3156</td>\n",
       "      <td>1838</td>\n",
       "      <td>7.07</td>\n",
       "      <td>9.91</td>\n",
       "      <td>12.74</td>\n",
       "    </tr>\n",
       "    <tr>\n",
       "      <th>...</th>\n",
       "      <td>...</td>\n",
       "      <td>...</td>\n",
       "      <td>...</td>\n",
       "      <td>...</td>\n",
       "      <td>...</td>\n",
       "      <td>...</td>\n",
       "      <td>...</td>\n",
       "    </tr>\n",
       "    <tr>\n",
       "      <th>60</th>\n",
       "      <td>Ireland</td>\n",
       "      <td>6486</td>\n",
       "      <td>4515</td>\n",
       "      <td>1971</td>\n",
       "      <td>9.03</td>\n",
       "      <td>14.67</td>\n",
       "      <td>20.32</td>\n",
       "    </tr>\n",
       "    <tr>\n",
       "      <th>61</th>\n",
       "      <td>Switzerland</td>\n",
       "      <td>5506</td>\n",
       "      <td>3654</td>\n",
       "      <td>1852</td>\n",
       "      <td>12.88</td>\n",
       "      <td>20.46</td>\n",
       "      <td>26.96</td>\n",
       "    </tr>\n",
       "    <tr>\n",
       "      <th>62</th>\n",
       "      <td>Australia</td>\n",
       "      <td>6114</td>\n",
       "      <td>4050</td>\n",
       "      <td>2064</td>\n",
       "      <td>7.84</td>\n",
       "      <td>12.12</td>\n",
       "      <td>16.39</td>\n",
       "    </tr>\n",
       "    <tr>\n",
       "      <th>63</th>\n",
       "      <td>Denmark</td>\n",
       "      <td>4558</td>\n",
       "      <td>2978</td>\n",
       "      <td>1580</td>\n",
       "      <td>12.00</td>\n",
       "      <td>15.04</td>\n",
       "      <td>19.60</td>\n",
       "    </tr>\n",
       "    <tr>\n",
       "      <th>64</th>\n",
       "      <td>United States</td>\n",
       "      <td>5818</td>\n",
       "      <td>3826</td>\n",
       "      <td>1992</td>\n",
       "      <td>8.99</td>\n",
       "      <td>13.99</td>\n",
       "      <td>17.99</td>\n",
       "    </tr>\n",
       "  </tbody>\n",
       "</table>\n",
       "<p>65 rows × 7 columns</p>\n",
       "</div>"
      ],
      "text/plain": [
       "          Country  Total Library Size  No. of TV Shows  No. of Movies  \\\n",
       "0       Argentina                4760             3154           1606   \n",
       "1         Austria                5640             3779           1861   \n",
       "2         Bolivia                4991             3155           1836   \n",
       "3        Bulgaria                6797             4819           1978   \n",
       "4           Chile                4994             3156           1838   \n",
       "..            ...                 ...              ...            ...   \n",
       "60        Ireland                6486             4515           1971   \n",
       "61    Switzerland                5506             3654           1852   \n",
       "62      Australia                6114             4050           2064   \n",
       "63        Denmark                4558             2978           1580   \n",
       "64  United States                5818             3826           1992   \n",
       "\n",
       "    Cost Per Month-Basic  Cost Per Month-Standard  Cost Per Month-Premium  \n",
       "0                   3.74                     6.30                    9.26  \n",
       "1                   9.03                    14.67                   20.32  \n",
       "2                   7.99                    10.99                   13.99  \n",
       "3                   9.03                    11.29                   13.54  \n",
       "4                   7.07                     9.91                   12.74  \n",
       "..                   ...                      ...                     ...  \n",
       "60                  9.03                    14.67                   20.32  \n",
       "61                 12.88                    20.46                   26.96  \n",
       "62                  7.84                    12.12                   16.39  \n",
       "63                 12.00                    15.04                   19.60  \n",
       "64                  8.99                    13.99                   17.99  \n",
       "\n",
       "[65 rows x 7 columns]"
      ]
     },
     "execution_count": 13,
     "metadata": {},
     "output_type": "execute_result"
    }
   ],
   "source": [
    "df"
   ]
  },
  {
   "cell_type": "markdown",
   "id": "ac76d20f",
   "metadata": {},
   "source": [
    "불러왔을 때는 항상 행렬의 크기를 보자. (이건 직사각행렬이구나, like this.)"
   ]
  },
  {
   "cell_type": "code",
   "execution_count": 14,
   "id": "bb50f47b",
   "metadata": {},
   "outputs": [],
   "source": [
    "X = df[['Cost Per Month-Basic','Cost Per Month-Standard', 'Cost Per Month-Premium']]\n",
    "y = df['Total Library Size']"
   ]
  },
  {
   "cell_type": "markdown",
   "id": "63f50c8c",
   "metadata": {},
   "source": [
    "X는 행렬이고 y는 벡터\n",
    "\n",
    "_본인이 뭘 하는지 항상 머릿속에 그림이 그려져 있어야 한다._"
   ]
  },
  {
   "cell_type": "code",
   "execution_count": 15,
   "id": "8084cb73",
   "metadata": {},
   "outputs": [
    {
     "data": {
      "text/html": [
       "<div>\n",
       "<style scoped>\n",
       "    .dataframe tbody tr th:only-of-type {\n",
       "        vertical-align: middle;\n",
       "    }\n",
       "\n",
       "    .dataframe tbody tr th {\n",
       "        vertical-align: top;\n",
       "    }\n",
       "\n",
       "    .dataframe thead th {\n",
       "        text-align: right;\n",
       "    }\n",
       "</style>\n",
       "<table border=\"1\" class=\"dataframe\">\n",
       "  <thead>\n",
       "    <tr style=\"text-align: right;\">\n",
       "      <th></th>\n",
       "      <th>Cost Per Month-Basic</th>\n",
       "      <th>Cost Per Month-Standard</th>\n",
       "      <th>Cost Per Month-Premium</th>\n",
       "    </tr>\n",
       "  </thead>\n",
       "  <tbody>\n",
       "    <tr>\n",
       "      <th>0</th>\n",
       "      <td>3.74</td>\n",
       "      <td>6.30</td>\n",
       "      <td>9.26</td>\n",
       "    </tr>\n",
       "    <tr>\n",
       "      <th>1</th>\n",
       "      <td>9.03</td>\n",
       "      <td>14.67</td>\n",
       "      <td>20.32</td>\n",
       "    </tr>\n",
       "    <tr>\n",
       "      <th>2</th>\n",
       "      <td>7.99</td>\n",
       "      <td>10.99</td>\n",
       "      <td>13.99</td>\n",
       "    </tr>\n",
       "    <tr>\n",
       "      <th>3</th>\n",
       "      <td>9.03</td>\n",
       "      <td>11.29</td>\n",
       "      <td>13.54</td>\n",
       "    </tr>\n",
       "    <tr>\n",
       "      <th>4</th>\n",
       "      <td>7.07</td>\n",
       "      <td>9.91</td>\n",
       "      <td>12.74</td>\n",
       "    </tr>\n",
       "    <tr>\n",
       "      <th>...</th>\n",
       "      <td>...</td>\n",
       "      <td>...</td>\n",
       "      <td>...</td>\n",
       "    </tr>\n",
       "    <tr>\n",
       "      <th>60</th>\n",
       "      <td>9.03</td>\n",
       "      <td>14.67</td>\n",
       "      <td>20.32</td>\n",
       "    </tr>\n",
       "    <tr>\n",
       "      <th>61</th>\n",
       "      <td>12.88</td>\n",
       "      <td>20.46</td>\n",
       "      <td>26.96</td>\n",
       "    </tr>\n",
       "    <tr>\n",
       "      <th>62</th>\n",
       "      <td>7.84</td>\n",
       "      <td>12.12</td>\n",
       "      <td>16.39</td>\n",
       "    </tr>\n",
       "    <tr>\n",
       "      <th>63</th>\n",
       "      <td>12.00</td>\n",
       "      <td>15.04</td>\n",
       "      <td>19.60</td>\n",
       "    </tr>\n",
       "    <tr>\n",
       "      <th>64</th>\n",
       "      <td>8.99</td>\n",
       "      <td>13.99</td>\n",
       "      <td>17.99</td>\n",
       "    </tr>\n",
       "  </tbody>\n",
       "</table>\n",
       "<p>65 rows × 3 columns</p>\n",
       "</div>"
      ],
      "text/plain": [
       "    Cost Per Month-Basic  Cost Per Month-Standard  Cost Per Month-Premium\n",
       "0                   3.74                     6.30                    9.26\n",
       "1                   9.03                    14.67                   20.32\n",
       "2                   7.99                    10.99                   13.99\n",
       "3                   9.03                    11.29                   13.54\n",
       "4                   7.07                     9.91                   12.74\n",
       "..                   ...                      ...                     ...\n",
       "60                  9.03                    14.67                   20.32\n",
       "61                 12.88                    20.46                   26.96\n",
       "62                  7.84                    12.12                   16.39\n",
       "63                 12.00                    15.04                   19.60\n",
       "64                  8.99                    13.99                   17.99\n",
       "\n",
       "[65 rows x 3 columns]"
      ]
     },
     "execution_count": 15,
     "metadata": {},
     "output_type": "execute_result"
    }
   ],
   "source": [
    "X"
   ]
  },
  {
   "cell_type": "code",
   "execution_count": null,
   "id": "03a20647",
   "metadata": {},
   "outputs": [],
   "source": []
  },
  {
   "cell_type": "markdown",
   "id": "d97135d0",
   "metadata": {},
   "source": [
    "y는 65by1일 텐데 그러기 위해서는 3by1 행렬을 곱해야한다.\n",
    "\n",
    "3이 바로 피처의 개수. = w\n",
    "\n"
   ]
  },
  {
   "cell_type": "markdown",
   "id": "f3df5e28",
   "metadata": {},
   "source": [
    "w벡터의 추정치는 X전치행렬과 X 곱한것의 역행럴의 Xy"
   ]
  },
  {
   "cell_type": "code",
   "execution_count": 16,
   "id": "953122a3",
   "metadata": {},
   "outputs": [],
   "source": [
    "import numpy as np"
   ]
  },
  {
   "cell_type": "code",
   "execution_count": 17,
   "id": "2f3719df",
   "metadata": {},
   "outputs": [],
   "source": [
    "Xt = np.transpose(X)"
   ]
  },
  {
   "cell_type": "code",
   "execution_count": 18,
   "id": "0681ba2c",
   "metadata": {},
   "outputs": [
    {
     "data": {
      "text/html": [
       "<div>\n",
       "<style scoped>\n",
       "    .dataframe tbody tr th:only-of-type {\n",
       "        vertical-align: middle;\n",
       "    }\n",
       "\n",
       "    .dataframe tbody tr th {\n",
       "        vertical-align: top;\n",
       "    }\n",
       "\n",
       "    .dataframe thead th {\n",
       "        text-align: right;\n",
       "    }\n",
       "</style>\n",
       "<table border=\"1\" class=\"dataframe\">\n",
       "  <thead>\n",
       "    <tr style=\"text-align: right;\">\n",
       "      <th></th>\n",
       "      <th>0</th>\n",
       "      <th>1</th>\n",
       "      <th>2</th>\n",
       "      <th>3</th>\n",
       "      <th>4</th>\n",
       "      <th>5</th>\n",
       "      <th>6</th>\n",
       "      <th>7</th>\n",
       "      <th>8</th>\n",
       "      <th>9</th>\n",
       "      <th>...</th>\n",
       "      <th>55</th>\n",
       "      <th>56</th>\n",
       "      <th>57</th>\n",
       "      <th>58</th>\n",
       "      <th>59</th>\n",
       "      <th>60</th>\n",
       "      <th>61</th>\n",
       "      <th>62</th>\n",
       "      <th>63</th>\n",
       "      <th>64</th>\n",
       "    </tr>\n",
       "  </thead>\n",
       "  <tbody>\n",
       "    <tr>\n",
       "      <th>Cost Per Month-Basic</th>\n",
       "      <td>3.74</td>\n",
       "      <td>9.03</td>\n",
       "      <td>7.99</td>\n",
       "      <td>9.03</td>\n",
       "      <td>7.07</td>\n",
       "      <td>4.31</td>\n",
       "      <td>8.99</td>\n",
       "      <td>9.03</td>\n",
       "      <td>8.83</td>\n",
       "      <td>7.99</td>\n",
       "      <td>...</td>\n",
       "      <td>9.03</td>\n",
       "      <td>9.03</td>\n",
       "      <td>7.91</td>\n",
       "      <td>8.36</td>\n",
       "      <td>4.61</td>\n",
       "      <td>9.03</td>\n",
       "      <td>12.88</td>\n",
       "      <td>7.84</td>\n",
       "      <td>12.00</td>\n",
       "      <td>8.99</td>\n",
       "    </tr>\n",
       "    <tr>\n",
       "      <th>Cost Per Month-Standard</th>\n",
       "      <td>6.30</td>\n",
       "      <td>14.67</td>\n",
       "      <td>10.99</td>\n",
       "      <td>11.29</td>\n",
       "      <td>9.91</td>\n",
       "      <td>6.86</td>\n",
       "      <td>12.99</td>\n",
       "      <td>11.29</td>\n",
       "      <td>11.49</td>\n",
       "      <td>10.99</td>\n",
       "      <td>...</td>\n",
       "      <td>11.29</td>\n",
       "      <td>14.67</td>\n",
       "      <td>13.20</td>\n",
       "      <td>10.66</td>\n",
       "      <td>7.11</td>\n",
       "      <td>14.67</td>\n",
       "      <td>20.46</td>\n",
       "      <td>12.12</td>\n",
       "      <td>15.04</td>\n",
       "      <td>13.99</td>\n",
       "    </tr>\n",
       "    <tr>\n",
       "      <th>Cost Per Month-Premium</th>\n",
       "      <td>9.26</td>\n",
       "      <td>20.32</td>\n",
       "      <td>13.99</td>\n",
       "      <td>13.54</td>\n",
       "      <td>12.74</td>\n",
       "      <td>9.93</td>\n",
       "      <td>15.99</td>\n",
       "      <td>13.54</td>\n",
       "      <td>14.15</td>\n",
       "      <td>13.99</td>\n",
       "      <td>...</td>\n",
       "      <td>13.54</td>\n",
       "      <td>20.32</td>\n",
       "      <td>18.48</td>\n",
       "      <td>12.96</td>\n",
       "      <td>9.96</td>\n",
       "      <td>20.32</td>\n",
       "      <td>26.96</td>\n",
       "      <td>16.39</td>\n",
       "      <td>19.60</td>\n",
       "      <td>17.99</td>\n",
       "    </tr>\n",
       "  </tbody>\n",
       "</table>\n",
       "<p>3 rows × 65 columns</p>\n",
       "</div>"
      ],
      "text/plain": [
       "                           0      1      2      3      4     5      6      7   \\\n",
       "Cost Per Month-Basic     3.74   9.03   7.99   9.03   7.07  4.31   8.99   9.03   \n",
       "Cost Per Month-Standard  6.30  14.67  10.99  11.29   9.91  6.86  12.99  11.29   \n",
       "Cost Per Month-Premium   9.26  20.32  13.99  13.54  12.74  9.93  15.99  13.54   \n",
       "\n",
       "                            8      9   ...     55     56     57     58    59  \\\n",
       "Cost Per Month-Basic      8.83   7.99  ...   9.03   9.03   7.91   8.36  4.61   \n",
       "Cost Per Month-Standard  11.49  10.99  ...  11.29  14.67  13.20  10.66  7.11   \n",
       "Cost Per Month-Premium   14.15  13.99  ...  13.54  20.32  18.48  12.96  9.96   \n",
       "\n",
       "                            60     61     62     63     64  \n",
       "Cost Per Month-Basic      9.03  12.88   7.84  12.00   8.99  \n",
       "Cost Per Month-Standard  14.67  20.46  12.12  15.04  13.99  \n",
       "Cost Per Month-Premium   20.32  26.96  16.39  19.60  17.99  \n",
       "\n",
       "[3 rows x 65 columns]"
      ]
     },
     "execution_count": 18,
     "metadata": {},
     "output_type": "execute_result"
    }
   ],
   "source": [
    "Xt"
   ]
  },
  {
   "cell_type": "code",
   "execution_count": null,
   "id": "8268451f",
   "metadata": {},
   "outputs": [],
   "source": []
  },
  {
   "cell_type": "markdown",
   "id": "4138b1b6",
   "metadata": {},
   "source": [
    "X 트랜스포즈 * X"
   ]
  },
  {
   "cell_type": "code",
   "execution_count": 19,
   "id": "9658e9d0",
   "metadata": {},
   "outputs": [],
   "source": [
    "XtX = Xt.dot(X)"
   ]
  },
  {
   "cell_type": "code",
   "execution_count": 20,
   "id": "b249a4ee",
   "metadata": {},
   "outputs": [
    {
     "data": {
      "text/html": [
       "<div>\n",
       "<style scoped>\n",
       "    .dataframe tbody tr th:only-of-type {\n",
       "        vertical-align: middle;\n",
       "    }\n",
       "\n",
       "    .dataframe tbody tr th {\n",
       "        vertical-align: top;\n",
       "    }\n",
       "\n",
       "    .dataframe thead th {\n",
       "        text-align: right;\n",
       "    }\n",
       "</style>\n",
       "<table border=\"1\" class=\"dataframe\">\n",
       "  <thead>\n",
       "    <tr style=\"text-align: right;\">\n",
       "      <th></th>\n",
       "      <th>Cost Per Month-Basic</th>\n",
       "      <th>Cost Per Month-Standard</th>\n",
       "      <th>Cost Per Month-Premium</th>\n",
       "    </tr>\n",
       "  </thead>\n",
       "  <tbody>\n",
       "    <tr>\n",
       "      <th>Cost Per Month-Basic</th>\n",
       "      <td>4792.3537</td>\n",
       "      <td>6841.1127</td>\n",
       "      <td>8904.0307</td>\n",
       "    </tr>\n",
       "    <tr>\n",
       "      <th>Cost Per Month-Standard</th>\n",
       "      <td>6841.1127</td>\n",
       "      <td>9869.3585</td>\n",
       "      <td>12892.8399</td>\n",
       "    </tr>\n",
       "    <tr>\n",
       "      <th>Cost Per Month-Premium</th>\n",
       "      <td>8904.0307</td>\n",
       "      <td>12892.8399</td>\n",
       "      <td>16889.5490</td>\n",
       "    </tr>\n",
       "  </tbody>\n",
       "</table>\n",
       "</div>"
      ],
      "text/plain": [
       "                         Cost Per Month-Basic  Cost Per Month-Standard  \\\n",
       "Cost Per Month-Basic                4792.3537                6841.1127   \n",
       "Cost Per Month-Standard             6841.1127                9869.3585   \n",
       "Cost Per Month-Premium              8904.0307               12892.8399   \n",
       "\n",
       "                         Cost Per Month-Premium  \n",
       "Cost Per Month-Basic                  8904.0307  \n",
       "Cost Per Month-Standard              12892.8399  \n",
       "Cost Per Month-Premium               16889.5490  "
      ]
     },
     "execution_count": 20,
     "metadata": {},
     "output_type": "execute_result"
    }
   ],
   "source": [
    "XtX"
   ]
  },
  {
   "cell_type": "markdown",
   "id": "4b159397",
   "metadata": {},
   "source": [
    "### 역행렬로 바로 넘어가도 되지만 행렬식을 구해보자."
   ]
  },
  {
   "cell_type": "code",
   "execution_count": 21,
   "id": "a0eefa52",
   "metadata": {},
   "outputs": [
    {
     "data": {
      "text/plain": [
       "12677160.526212221"
      ]
     },
     "execution_count": 21,
     "metadata": {},
     "output_type": "execute_result"
    }
   ],
   "source": [
    "np.linalg.det(XtX)"
   ]
  },
  {
   "cell_type": "code",
   "execution_count": 22,
   "id": "a1c4ae12",
   "metadata": {},
   "outputs": [],
   "source": [
    "XtX_inv = np.linalg.inv(XtX)"
   ]
  },
  {
   "cell_type": "code",
   "execution_count": 23,
   "id": "f45ec60b",
   "metadata": {},
   "outputs": [
    {
     "data": {
      "text/plain": [
       "array([[ 0.03657706, -0.0587723 ,  0.02558142],\n",
       "       [-0.0587723 ,  0.13085974, -0.06890908],\n",
       "       [ 0.02558142, -0.06890908,  0.03917547]])"
      ]
     },
     "execution_count": 23,
     "metadata": {},
     "output_type": "execute_result"
    }
   ],
   "source": [
    "XtX_inv"
   ]
  },
  {
   "cell_type": "markdown",
   "id": "80210ade",
   "metadata": {},
   "source": [
    "뒤는 그냥 곱하면된다.\n",
    "\n",
    "@ 가 행렬 곱을 의미한다."
   ]
  },
  {
   "cell_type": "code",
   "execution_count": 24,
   "id": "fb5c5e7e",
   "metadata": {},
   "outputs": [],
   "source": [
    "w = XtX_inv@Xt@y"
   ]
  },
  {
   "cell_type": "code",
   "execution_count": 25,
   "id": "511fd332",
   "metadata": {},
   "outputs": [
    {
     "data": {
      "text/plain": [
       "0    120.869221\n",
       "1    850.639350\n",
       "2   -394.814007\n",
       "dtype: float64"
      ]
     },
     "execution_count": 25,
     "metadata": {},
     "output_type": "execute_result"
    }
   ],
   "source": [
    "w"
   ]
  },
  {
   "cell_type": "markdown",
   "id": "7a6d9901",
   "metadata": {},
   "source": [
    "머신러닝 하는 라이브러리에서도 결국 이런 전처리를 다 하고 한다는 것이다.\n",
    "\n",
    "근데 그게 값이 이상하게 나올 때(무한대로 나온다던가 0으로 나올 때), 원리를 모르면 왜 이상한지 모르게 된다는 것!"
   ]
  },
  {
   "cell_type": "markdown",
   "id": "f00ddd3a",
   "metadata": {},
   "source": [
    "넘파이가 좋지만 쓸모없는 값을 뱉을 때가 있다. (3*2행렬이 나와야 하는데 3*3으로 나오는 경우도 있는 것....) 세번째것은 무효값이다. 나중에 다시 설명할 것.)"
   ]
  },
  {
   "cell_type": "code",
   "execution_count": 29,
   "id": "250a5f9b",
   "metadata": {},
   "outputs": [],
   "source": [
    "w = np.matrix(w)\n",
    "wt = np.transpose(w)"
   ]
  },
  {
   "cell_type": "code",
   "execution_count": 30,
   "id": "ea9eb7d0",
   "metadata": {},
   "outputs": [],
   "source": [
    "y = np.matrix(y)"
   ]
  },
  {
   "cell_type": "code",
   "execution_count": 31,
   "id": "53cd5233",
   "metadata": {
    "scrolled": true
   },
   "outputs": [
    {
     "data": {
      "text/html": [
       "<div>\n",
       "<style scoped>\n",
       "    .dataframe tbody tr th:only-of-type {\n",
       "        vertical-align: middle;\n",
       "    }\n",
       "\n",
       "    .dataframe tbody tr th {\n",
       "        vertical-align: top;\n",
       "    }\n",
       "\n",
       "    .dataframe thead th {\n",
       "        text-align: right;\n",
       "    }\n",
       "</style>\n",
       "<table border=\"1\" class=\"dataframe\">\n",
       "  <thead>\n",
       "    <tr style=\"text-align: right;\">\n",
       "      <th></th>\n",
       "      <th>0</th>\n",
       "    </tr>\n",
       "  </thead>\n",
       "  <tbody>\n",
       "    <tr>\n",
       "      <th>0</th>\n",
       "      <td>2155.101087</td>\n",
       "    </tr>\n",
       "    <tr>\n",
       "      <th>1</th>\n",
       "      <td>5547.707708</td>\n",
       "    </tr>\n",
       "    <tr>\n",
       "      <th>2</th>\n",
       "      <td>4790.823575</td>\n",
       "    </tr>\n",
       "    <tr>\n",
       "      <th>3</th>\n",
       "      <td>5349.385673</td>\n",
       "    </tr>\n",
       "    <tr>\n",
       "      <th>4</th>\n",
       "      <td>4254.450902</td>\n",
       "    </tr>\n",
       "    <tr>\n",
       "      <th>...</th>\n",
       "      <td>...</td>\n",
       "    </tr>\n",
       "    <tr>\n",
       "      <th>60</th>\n",
       "      <td>5547.707708</td>\n",
       "    </tr>\n",
       "    <tr>\n",
       "      <th>61</th>\n",
       "      <td>8316.691040</td>\n",
       "    </tr>\n",
       "    <tr>\n",
       "      <th>62</th>\n",
       "      <td>4786.362040</td>\n",
       "    </tr>\n",
       "    <tr>\n",
       "      <th>63</th>\n",
       "      <td>6505.691939</td>\n",
       "    </tr>\n",
       "    <tr>\n",
       "      <th>64</th>\n",
       "      <td>5884.354818</td>\n",
       "    </tr>\n",
       "  </tbody>\n",
       "</table>\n",
       "<p>65 rows × 1 columns</p>\n",
       "</div>"
      ],
      "text/plain": [
       "              0\n",
       "0   2155.101087\n",
       "1   5547.707708\n",
       "2   4790.823575\n",
       "3   5349.385673\n",
       "4   4254.450902\n",
       "..          ...\n",
       "60  5547.707708\n",
       "61  8316.691040\n",
       "62  4786.362040\n",
       "63  6505.691939\n",
       "64  5884.354818\n",
       "\n",
       "[65 rows x 1 columns]"
      ]
     },
     "execution_count": 31,
     "metadata": {},
     "output_type": "execute_result"
    }
   ],
   "source": [
    "X.dot(wt)"
   ]
  },
  {
   "cell_type": "markdown",
   "id": "0217bc9e",
   "metadata": {},
   "source": [
    "## 판다스 안쓰고 해보기"
   ]
  },
  {
   "cell_type": "code",
   "execution_count": 32,
   "id": "b53a9f6d",
   "metadata": {},
   "outputs": [],
   "source": [
    "import csv"
   ]
  },
  {
   "cell_type": "code",
   "execution_count": 33,
   "id": "dedd97ab",
   "metadata": {},
   "outputs": [],
   "source": [
    "raw = []\n",
    "with open(\"./data/netflix_price.csv\", 'r', encoding = 'utf8') as f:\n",
    "    rdr  = csv.reader(f)\n",
    "    for line in rdr:\n",
    "        raw.append(line)"
   ]
  },
  {
   "cell_type": "code",
   "execution_count": 34,
   "id": "bf0132d8",
   "metadata": {
    "scrolled": true
   },
   "outputs": [
    {
     "data": {
      "text/plain": [
       "[['Country',\n",
       "  'Total Library Size',\n",
       "  'No. of TV Shows',\n",
       "  'No. of Movies',\n",
       "  'Cost Per Month-Basic',\n",
       "  'Cost Per Month-Standard',\n",
       "  'Cost Per Month-Premium'],\n",
       " ['Argentina', '4760', '3154', '1606', '3.74', '6.3', '9.26'],\n",
       " ['Austria', '5640', '3779', '1861', '9.03', '14.67', '20.32'],\n",
       " ['Bolivia', '4991', '3155', '1836', '7.99', '10.99', '13.99'],\n",
       " ['Bulgaria', '6797', '4819', '1978', '9.03', '11.29', '13.54'],\n",
       " ['Chile', '4994', '3156', '1838', '7.07', '9.91', '12.74'],\n",
       " ['Colombia', '4991', '3156', '1835', '4.31', '6.86', '9.93'],\n",
       " ['Costa Rica', '4988', '3152', '1836', '8.99', '12.99', '15.99'],\n",
       " ['Croatia', '2274', '1675', '599', '9.03', '11.29', '13.54'],\n",
       " ['Czechia', '7325', '5234', '2091', '8.83', '11.49', '14.15'],\n",
       " ['Ecuador', '4992', '3155', '1837', '7.99', '10.99', '13.99'],\n",
       " ['Estonia', '6456', '4486', '1970', '9.03', '11.29', '13.54'],\n",
       " ['France', '5445', '3604', '1841', '10.16', '15.24', '20.32'],\n",
       " ['Germany', '5668', '3814', '1854', '9.03', '14.67', '20.32'],\n",
       " ['Gibraltar', '6167', '4079', '2088', '9.03', '14.67', '20.32'],\n",
       " ['Greece', '4772', '3344', '1428', '9.03', '12.42', '15.8'],\n",
       " ['Guatemala', '4767', '3154', '1613', '7.99', '10.99', '13.99'],\n",
       " ['Honduras', '4989', '3154', '1835', '7.99', '10.99', '13.99'],\n",
       " ['Hong Kong', '4746', '2883', '1863', '8.08', '10', '11.93'],\n",
       " ['Iceland', '6387', '4426', '1961', '9.03', '14.67', '20.32'],\n",
       " ['India', '5843', '3718', '2125', '2.64', '6.61', '8.6'],\n",
       " ['Israel', '5713', '3650', '2063', '10.56', '15.05', '19.54'],\n",
       " ['Italy', '5183', '3545', '1638', '9.03', '14.67', '20.32'],\n",
       " ['Japan', '5475', '3619', '1856', '8.73', '13.13', '17.45'],\n",
       " ['Liechtenstein', '3048', '1712', '1336', '12.88', '20.46', '26.96'],\n",
       " ['Malaysia', '5952', '3565', '2387', '8.29', '10.65', '13.02'],\n",
       " ['Mexico', '4993', '3158', '1835', '6.62', '10.43', '14.24'],\n",
       " ['Moldova', '3937', '2473', '1464', '9.03', '11.29', '13.54'],\n",
       " ['Monaco', '5804', '3806', '1998', '9.03', '13.54', '18.06'],\n",
       " ['Norway', '4528', '2955', '1573', '9.94', '12.17', '17.75'],\n",
       " ['Paraguay', '4797', '3155', '1642', '8.29', '11.49', '14.69'],\n",
       " ['Peru', '4986', '3155', '1831', '6.11', '8.56', '11.01'],\n",
       " ['Philippines', '6362', '4154', '2208', '7.35', '9.14', '10.93'],\n",
       " ['Poland', '5109', '3512', '1597', '7.13', '10.58', '14.76'],\n",
       " ['Romania', '5303', '3832', '1471', '9.03', '11.29', '13.54'],\n",
       " ['Russia', '5711', '3624', '2087', '8.13', '10.84', '13.56'],\n",
       " ['San Marino', '2310', '1937', '373', '9.03', '14.67', '20.32'],\n",
       " ['Slovakia', '7035', '5055', '1980', '9.03', '11.29', '13.54'],\n",
       " ['South Africa', '5736', '3686', '2050', '6.26', '10.05', '12.58'],\n",
       " ['South Korea', '5195', '3334', '1861', '8.07', '11.47', '14.45'],\n",
       " ['Taiwan', '5105', '3134', '1971', '9.74', '11.9', '14.07'],\n",
       " ['Thailand', '4948', '2977', '1971', '8.34', '10.43', '12.52'],\n",
       " ['Turkey', '4639', '2930', '1709', '1.97', '3', '4.02'],\n",
       " ['Ukraine', '5336', '3261', '2075', '5.64', '8.46', '11.29'],\n",
       " ['Uruguay', '4989', '3154', '1835', '8.99', '12.99', '15.99'],\n",
       " ['Venezuela', '4797', '3154', '1643', '7.99', '10.99', '13.99'],\n",
       " ['Belgium', '4990', '3374', '1616', '10.16', '15.24', '20.32'],\n",
       " ['Singapore', '6303', '4109', '2194', '9.51', '12.81', '16.11'],\n",
       " ['Finland', '4045', '2638', '1407', '9.03', '13.54', '18.06'],\n",
       " ['Latvia', '6450', '4479', '1971', '9.03', '11.29', '13.54'],\n",
       " ['New Zealand', '6084', '4003', '2081', '8.8', '12.53', '16.94'],\n",
       " ['Hungary', '6884', '4802', '2082', '7.64', '10.71', '13.78'],\n",
       " ['Portugal', '5047', '3419', '1628', '9.03', '13.54', '18.06'],\n",
       " ['Netherlands', '5376', '3779', '1597', '9.03', '13.54', '18.06'],\n",
       " ['Sweden', '4361', '2973', '1388', '10.9', '14.2', '19.7'],\n",
       " ['Canada', '6239', '4311', '1928', '7.91', '11.87', '15.03'],\n",
       " ['Lithuania', '6462', '4490', '1972', '9.03', '11.29', '13.54'],\n",
       " ['Spain', '5229', '3536', '1693', '9.03', '14.67', '20.32'],\n",
       " ['United Kingdom', '6643', '4551', '2092', '7.91', '13.2', '18.48'],\n",
       " ['Indonesia', '3887', '2449', '1438', '8.36', '10.66', '12.96'],\n",
       " ['Brazil', '4972', '3162', '1810', '4.61', '7.11', '9.96'],\n",
       " ['Ireland', '6486', '4515', '1971', '9.03', '14.67', '20.32'],\n",
       " ['Switzerland', '5506', '3654', '1852', '12.88', '20.46', '26.96'],\n",
       " ['Australia', '6114', '4050', '2064', '7.84', '12.12', '16.39'],\n",
       " ['Denmark', '4558', '2978', '1580', '12', '15.04', '19.6'],\n",
       " ['United States', '5818', '3826', '1992', '8.99', '13.99', '17.99']]"
      ]
     },
     "execution_count": 34,
     "metadata": {},
     "output_type": "execute_result"
    }
   ],
   "source": [
    "raw"
   ]
  },
  {
   "cell_type": "markdown",
   "id": "ac0518e5",
   "metadata": {},
   "source": [
    "list 형태로 나오는데, 숫자가 문자형으로 되어있다. 이를 바꿔주는 작업부터 항상 시작하기."
   ]
  },
  {
   "cell_type": "code",
   "execution_count": 35,
   "id": "798f1ce1",
   "metadata": {},
   "outputs": [],
   "source": [
    "n_row = len(raw)\n",
    "n_col = len(raw[0])"
   ]
  },
  {
   "cell_type": "code",
   "execution_count": 38,
   "id": "2156c1da",
   "metadata": {},
   "outputs": [],
   "source": [
    "data = []\n",
    "for i in range(1,n_row): # 맨 위 첫 행이 이름로 되어있는 것 때문에\n",
    "    row = []\n",
    "    for j in range(1,n_col): # 맨 왼쪽 첫 컬럼이 나라 이름으로 되어있는 것 때문에\n",
    "        val = float(raw[i][j])\n",
    "        row.append(val)\n",
    "    data.append(row)"
   ]
  },
  {
   "cell_type": "code",
   "execution_count": 39,
   "id": "cbf1314c",
   "metadata": {
    "scrolled": true
   },
   "outputs": [
    {
     "data": {
      "text/plain": [
       "[[4760.0, 3154.0, 1606.0, 3.74, 6.3, 9.26],\n",
       " [5640.0, 3779.0, 1861.0, 9.03, 14.67, 20.32],\n",
       " [4991.0, 3155.0, 1836.0, 7.99, 10.99, 13.99],\n",
       " [6797.0, 4819.0, 1978.0, 9.03, 11.29, 13.54],\n",
       " [4994.0, 3156.0, 1838.0, 7.07, 9.91, 12.74],\n",
       " [4991.0, 3156.0, 1835.0, 4.31, 6.86, 9.93],\n",
       " [4988.0, 3152.0, 1836.0, 8.99, 12.99, 15.99],\n",
       " [2274.0, 1675.0, 599.0, 9.03, 11.29, 13.54],\n",
       " [7325.0, 5234.0, 2091.0, 8.83, 11.49, 14.15],\n",
       " [4992.0, 3155.0, 1837.0, 7.99, 10.99, 13.99],\n",
       " [6456.0, 4486.0, 1970.0, 9.03, 11.29, 13.54],\n",
       " [5445.0, 3604.0, 1841.0, 10.16, 15.24, 20.32],\n",
       " [5668.0, 3814.0, 1854.0, 9.03, 14.67, 20.32],\n",
       " [6167.0, 4079.0, 2088.0, 9.03, 14.67, 20.32],\n",
       " [4772.0, 3344.0, 1428.0, 9.03, 12.42, 15.8],\n",
       " [4767.0, 3154.0, 1613.0, 7.99, 10.99, 13.99],\n",
       " [4989.0, 3154.0, 1835.0, 7.99, 10.99, 13.99],\n",
       " [4746.0, 2883.0, 1863.0, 8.08, 10.0, 11.93],\n",
       " [6387.0, 4426.0, 1961.0, 9.03, 14.67, 20.32],\n",
       " [5843.0, 3718.0, 2125.0, 2.64, 6.61, 8.6],\n",
       " [5713.0, 3650.0, 2063.0, 10.56, 15.05, 19.54],\n",
       " [5183.0, 3545.0, 1638.0, 9.03, 14.67, 20.32],\n",
       " [5475.0, 3619.0, 1856.0, 8.73, 13.13, 17.45],\n",
       " [3048.0, 1712.0, 1336.0, 12.88, 20.46, 26.96],\n",
       " [5952.0, 3565.0, 2387.0, 8.29, 10.65, 13.02],\n",
       " [4993.0, 3158.0, 1835.0, 6.62, 10.43, 14.24],\n",
       " [3937.0, 2473.0, 1464.0, 9.03, 11.29, 13.54],\n",
       " [5804.0, 3806.0, 1998.0, 9.03, 13.54, 18.06],\n",
       " [4528.0, 2955.0, 1573.0, 9.94, 12.17, 17.75],\n",
       " [4797.0, 3155.0, 1642.0, 8.29, 11.49, 14.69],\n",
       " [4986.0, 3155.0, 1831.0, 6.11, 8.56, 11.01],\n",
       " [6362.0, 4154.0, 2208.0, 7.35, 9.14, 10.93],\n",
       " [5109.0, 3512.0, 1597.0, 7.13, 10.58, 14.76],\n",
       " [5303.0, 3832.0, 1471.0, 9.03, 11.29, 13.54],\n",
       " [5711.0, 3624.0, 2087.0, 8.13, 10.84, 13.56],\n",
       " [2310.0, 1937.0, 373.0, 9.03, 14.67, 20.32],\n",
       " [7035.0, 5055.0, 1980.0, 9.03, 11.29, 13.54],\n",
       " [5736.0, 3686.0, 2050.0, 6.26, 10.05, 12.58],\n",
       " [5195.0, 3334.0, 1861.0, 8.07, 11.47, 14.45],\n",
       " [5105.0, 3134.0, 1971.0, 9.74, 11.9, 14.07],\n",
       " [4948.0, 2977.0, 1971.0, 8.34, 10.43, 12.52],\n",
       " [4639.0, 2930.0, 1709.0, 1.97, 3.0, 4.02],\n",
       " [5336.0, 3261.0, 2075.0, 5.64, 8.46, 11.29],\n",
       " [4989.0, 3154.0, 1835.0, 8.99, 12.99, 15.99],\n",
       " [4797.0, 3154.0, 1643.0, 7.99, 10.99, 13.99],\n",
       " [4990.0, 3374.0, 1616.0, 10.16, 15.24, 20.32],\n",
       " [6303.0, 4109.0, 2194.0, 9.51, 12.81, 16.11],\n",
       " [4045.0, 2638.0, 1407.0, 9.03, 13.54, 18.06],\n",
       " [6450.0, 4479.0, 1971.0, 9.03, 11.29, 13.54],\n",
       " [6084.0, 4003.0, 2081.0, 8.8, 12.53, 16.94],\n",
       " [6884.0, 4802.0, 2082.0, 7.64, 10.71, 13.78],\n",
       " [5047.0, 3419.0, 1628.0, 9.03, 13.54, 18.06],\n",
       " [5376.0, 3779.0, 1597.0, 9.03, 13.54, 18.06],\n",
       " [4361.0, 2973.0, 1388.0, 10.9, 14.2, 19.7],\n",
       " [6239.0, 4311.0, 1928.0, 7.91, 11.87, 15.03],\n",
       " [6462.0, 4490.0, 1972.0, 9.03, 11.29, 13.54],\n",
       " [5229.0, 3536.0, 1693.0, 9.03, 14.67, 20.32],\n",
       " [6643.0, 4551.0, 2092.0, 7.91, 13.2, 18.48],\n",
       " [3887.0, 2449.0, 1438.0, 8.36, 10.66, 12.96],\n",
       " [4972.0, 3162.0, 1810.0, 4.61, 7.11, 9.96],\n",
       " [6486.0, 4515.0, 1971.0, 9.03, 14.67, 20.32],\n",
       " [5506.0, 3654.0, 1852.0, 12.88, 20.46, 26.96],\n",
       " [6114.0, 4050.0, 2064.0, 7.84, 12.12, 16.39],\n",
       " [4558.0, 2978.0, 1580.0, 12.0, 15.04, 19.6],\n",
       " [5818.0, 3826.0, 1992.0, 8.99, 13.99, 17.99]]"
      ]
     },
     "execution_count": 39,
     "metadata": {},
     "output_type": "execute_result"
    }
   ],
   "source": [
    "data"
   ]
  },
  {
   "cell_type": "markdown",
   "id": "41c56080",
   "metadata": {},
   "source": [
    "첫 행을 날려서 65가 되는 것. 첫 행이 제목이어서. (익숙해지기)"
   ]
  },
  {
   "cell_type": "markdown",
   "id": "303a13f9",
   "metadata": {},
   "source": [
    "### data로"
   ]
  },
  {
   "cell_type": "code",
   "execution_count": 40,
   "id": "c36267fb",
   "metadata": {},
   "outputs": [],
   "source": [
    "X = [] \n",
    "for i in range(0, n_row-1):\n",
    "    row = []\n",
    "    for j in range(3,6):\n",
    "        row.append(data[i][j])\n",
    "    X.append(row)"
   ]
  },
  {
   "cell_type": "code",
   "execution_count": 41,
   "id": "09c06fb0",
   "metadata": {
    "scrolled": true
   },
   "outputs": [
    {
     "data": {
      "text/plain": [
       "[[3.74, 6.3, 9.26],\n",
       " [9.03, 14.67, 20.32],\n",
       " [7.99, 10.99, 13.99],\n",
       " [9.03, 11.29, 13.54],\n",
       " [7.07, 9.91, 12.74],\n",
       " [4.31, 6.86, 9.93],\n",
       " [8.99, 12.99, 15.99],\n",
       " [9.03, 11.29, 13.54],\n",
       " [8.83, 11.49, 14.15],\n",
       " [7.99, 10.99, 13.99],\n",
       " [9.03, 11.29, 13.54],\n",
       " [10.16, 15.24, 20.32],\n",
       " [9.03, 14.67, 20.32],\n",
       " [9.03, 14.67, 20.32],\n",
       " [9.03, 12.42, 15.8],\n",
       " [7.99, 10.99, 13.99],\n",
       " [7.99, 10.99, 13.99],\n",
       " [8.08, 10.0, 11.93],\n",
       " [9.03, 14.67, 20.32],\n",
       " [2.64, 6.61, 8.6],\n",
       " [10.56, 15.05, 19.54],\n",
       " [9.03, 14.67, 20.32],\n",
       " [8.73, 13.13, 17.45],\n",
       " [12.88, 20.46, 26.96],\n",
       " [8.29, 10.65, 13.02],\n",
       " [6.62, 10.43, 14.24],\n",
       " [9.03, 11.29, 13.54],\n",
       " [9.03, 13.54, 18.06],\n",
       " [9.94, 12.17, 17.75],\n",
       " [8.29, 11.49, 14.69],\n",
       " [6.11, 8.56, 11.01],\n",
       " [7.35, 9.14, 10.93],\n",
       " [7.13, 10.58, 14.76],\n",
       " [9.03, 11.29, 13.54],\n",
       " [8.13, 10.84, 13.56],\n",
       " [9.03, 14.67, 20.32],\n",
       " [9.03, 11.29, 13.54],\n",
       " [6.26, 10.05, 12.58],\n",
       " [8.07, 11.47, 14.45],\n",
       " [9.74, 11.9, 14.07],\n",
       " [8.34, 10.43, 12.52],\n",
       " [1.97, 3.0, 4.02],\n",
       " [5.64, 8.46, 11.29],\n",
       " [8.99, 12.99, 15.99],\n",
       " [7.99, 10.99, 13.99],\n",
       " [10.16, 15.24, 20.32],\n",
       " [9.51, 12.81, 16.11],\n",
       " [9.03, 13.54, 18.06],\n",
       " [9.03, 11.29, 13.54],\n",
       " [8.8, 12.53, 16.94],\n",
       " [7.64, 10.71, 13.78],\n",
       " [9.03, 13.54, 18.06],\n",
       " [9.03, 13.54, 18.06],\n",
       " [10.9, 14.2, 19.7],\n",
       " [7.91, 11.87, 15.03],\n",
       " [9.03, 11.29, 13.54],\n",
       " [9.03, 14.67, 20.32],\n",
       " [7.91, 13.2, 18.48],\n",
       " [8.36, 10.66, 12.96],\n",
       " [4.61, 7.11, 9.96],\n",
       " [9.03, 14.67, 20.32],\n",
       " [12.88, 20.46, 26.96],\n",
       " [7.84, 12.12, 16.39],\n",
       " [12.0, 15.04, 19.6],\n",
       " [8.99, 13.99, 17.99]]"
      ]
     },
     "execution_count": 41,
     "metadata": {},
     "output_type": "execute_result"
    }
   ],
   "source": [
    "X"
   ]
  },
  {
   "cell_type": "markdown",
   "id": "f290f657",
   "metadata": {},
   "source": [
    "하나하나 리스트 형태로 들어가 있다."
   ]
  },
  {
   "cell_type": "code",
   "execution_count": 42,
   "id": "62b17719",
   "metadata": {},
   "outputs": [],
   "source": [
    "y = []\n",
    "for i in range(0, n_row-1):\n",
    "    y.append(data[i][0])\n",
    "    # 한 행에 대해서만 값을 뽑으면 되기 때문에"
   ]
  },
  {
   "cell_type": "code",
   "execution_count": 43,
   "id": "14ecd048",
   "metadata": {
    "scrolled": true
   },
   "outputs": [
    {
     "data": {
      "text/plain": [
       "[4760.0,\n",
       " 5640.0,\n",
       " 4991.0,\n",
       " 6797.0,\n",
       " 4994.0,\n",
       " 4991.0,\n",
       " 4988.0,\n",
       " 2274.0,\n",
       " 7325.0,\n",
       " 4992.0,\n",
       " 6456.0,\n",
       " 5445.0,\n",
       " 5668.0,\n",
       " 6167.0,\n",
       " 4772.0,\n",
       " 4767.0,\n",
       " 4989.0,\n",
       " 4746.0,\n",
       " 6387.0,\n",
       " 5843.0,\n",
       " 5713.0,\n",
       " 5183.0,\n",
       " 5475.0,\n",
       " 3048.0,\n",
       " 5952.0,\n",
       " 4993.0,\n",
       " 3937.0,\n",
       " 5804.0,\n",
       " 4528.0,\n",
       " 4797.0,\n",
       " 4986.0,\n",
       " 6362.0,\n",
       " 5109.0,\n",
       " 5303.0,\n",
       " 5711.0,\n",
       " 2310.0,\n",
       " 7035.0,\n",
       " 5736.0,\n",
       " 5195.0,\n",
       " 5105.0,\n",
       " 4948.0,\n",
       " 4639.0,\n",
       " 5336.0,\n",
       " 4989.0,\n",
       " 4797.0,\n",
       " 4990.0,\n",
       " 6303.0,\n",
       " 4045.0,\n",
       " 6450.0,\n",
       " 6084.0,\n",
       " 6884.0,\n",
       " 5047.0,\n",
       " 5376.0,\n",
       " 4361.0,\n",
       " 6239.0,\n",
       " 6462.0,\n",
       " 5229.0,\n",
       " 6643.0,\n",
       " 3887.0,\n",
       " 4972.0,\n",
       " 6486.0,\n",
       " 5506.0,\n",
       " 6114.0,\n",
       " 4558.0,\n",
       " 5818.0]"
      ]
     },
     "execution_count": 43,
     "metadata": {},
     "output_type": "execute_result"
    }
   ],
   "source": [
    "y"
   ]
  },
  {
   "cell_type": "markdown",
   "id": "2185910d",
   "metadata": {},
   "source": [
    "### 선형방정식의 해 구하기"
   ]
  },
  {
   "cell_type": "code",
   "execution_count": 44,
   "id": "e1ac0441",
   "metadata": {},
   "outputs": [],
   "source": [
    "Xt = np.transpose(X)"
   ]
  },
  {
   "cell_type": "code",
   "execution_count": 45,
   "id": "9e15d267",
   "metadata": {},
   "outputs": [],
   "source": [
    "Xt_inv = np.linalg.inv(Xt@X)"
   ]
  },
  {
   "cell_type": "code",
   "execution_count": 46,
   "id": "2666a919",
   "metadata": {},
   "outputs": [
    {
     "data": {
      "text/plain": [
       "array([[ 0.03657706, -0.0587723 ,  0.02558142],\n",
       "       [-0.0587723 ,  0.13085974, -0.06890908],\n",
       "       [ 0.02558142, -0.06890908,  0.03917547]])"
      ]
     },
     "execution_count": 46,
     "metadata": {},
     "output_type": "execute_result"
    }
   ],
   "source": [
    "Xt_inv"
   ]
  },
  {
   "cell_type": "code",
   "execution_count": 47,
   "id": "976628e8",
   "metadata": {},
   "outputs": [],
   "source": [
    "w = Xt_inv@Xt@y"
   ]
  },
  {
   "cell_type": "code",
   "execution_count": 48,
   "id": "d45c781a",
   "metadata": {},
   "outputs": [
    {
     "data": {
      "text/plain": [
       "array([ 120.86922078,  850.63935047, -394.81400721])"
      ]
     },
     "execution_count": 48,
     "metadata": {},
     "output_type": "execute_result"
    }
   ],
   "source": [
    "w"
   ]
  },
  {
   "cell_type": "code",
   "execution_count": 49,
   "id": "a17bbbc6",
   "metadata": {},
   "outputs": [],
   "source": [
    "wt = np.transpose(w)"
   ]
  },
  {
   "cell_type": "code",
   "execution_count": 50,
   "id": "eb6a1916",
   "metadata": {},
   "outputs": [
    {
     "data": {
      "text/plain": [
       "array([2155.10108686, 5547.70770842, 4790.82357474, 5349.38567274,\n",
       "       4254.45090214, 2435.82919414, 5823.34348203, 5349.38567274,\n",
       "       5254.50315428, 4790.82357474, 5349.38567274, 6169.15435766,\n",
       "       5547.70770842, 5547.70770842, 5418.32848247, 4790.82357474,\n",
       "       4790.82357474, 4772.88570251, 5547.70770842, 2546.42038742,\n",
       "       6363.83549501, 5547.70770842, 5334.57854316, 8316.69103973,\n",
       "       4920.83654881, 4050.17120422, 5349.38567274, 5478.76489869,\n",
       "       4545.77232169, 4976.03421116, 3673.08155954, 4347.91533715,\n",
       "       4034.10712563, 5349.38567274, 4849.91938618, 5547.70770842,\n",
       "       5349.38567274, 4338.80658353, 5027.18555731, 5744.84139945,\n",
       "       4937.14635635, 1202.87810734, 3420.66116871, 5823.34348203,\n",
       "       4790.82357474, 6169.15435766, 5685.70271288, 5478.76489869,\n",
       "       5349.38567274, 5034.01092202, 4593.25127086, 5478.76489869,\n",
       "       5478.76489869, 5618.71734102, 5119.11009799, 5349.38567274,\n",
       "       5547.70770842, 4888.35210923, 4961.4926282 , 2672.90537777,\n",
       "       5547.70770842, 8316.69103973, 4786.36204035, 6505.69193899,\n",
       "       5884.35481807])"
      ]
     },
     "execution_count": 50,
     "metadata": {},
     "output_type": "execute_result"
    }
   ],
   "source": [
    "X@wt"
   ]
  },
  {
   "cell_type": "code",
   "execution_count": null,
   "id": "92e09bc6",
   "metadata": {},
   "outputs": [],
   "source": []
  }
 ],
 "metadata": {
  "kernelspec": {
   "display_name": "Python 3 (ipykernel)",
   "language": "python",
   "name": "python3"
  },
  "language_info": {
   "codemirror_mode": {
    "name": "ipython",
    "version": 3
   },
   "file_extension": ".py",
   "mimetype": "text/x-python",
   "name": "python",
   "nbconvert_exporter": "python",
   "pygments_lexer": "ipython3",
   "version": "3.8.5"
  },
  "toc": {
   "base_numbering": 1,
   "nav_menu": {},
   "number_sections": true,
   "sideBar": true,
   "skip_h1_title": false,
   "title_cell": "Table of Contents",
   "title_sidebar": "Contents",
   "toc_cell": false,
   "toc_position": {},
   "toc_section_display": true,
   "toc_window_display": false
  }
 },
 "nbformat": 4,
 "nbformat_minor": 5
}

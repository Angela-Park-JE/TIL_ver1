{
 "cells": [
  {
   "cell_type": "markdown",
   "id": "64abcd3f",
   "metadata": {},
   "source": [
    "# LU 분해"
   ]
  },
  {
   "cell_type": "markdown",
   "id": "04ad5f07",
   "metadata": {},
   "source": [
    "## 넘파이 실습"
   ]
  },
  {
   "cell_type": "code",
   "execution_count": 1,
   "id": "fd833560",
   "metadata": {},
   "outputs": [],
   "source": [
    "import numpy as np\n",
    "from scipy.linalg import lu # lu분해는 scipy 안에 있음"
   ]
  },
  {
   "cell_type": "code",
   "execution_count": 2,
   "id": "5eeb5ad8",
   "metadata": {},
   "outputs": [],
   "source": [
    "A = np.array([[2,-2,-2],[0,-2,2],[-1,5,2]])"
   ]
  },
  {
   "cell_type": "code",
   "execution_count": 3,
   "id": "9757750d",
   "metadata": {},
   "outputs": [],
   "source": [
    "P, L, U = lu(A)"
   ]
  },
  {
   "cell_type": "code",
   "execution_count": 4,
   "id": "189f9016",
   "metadata": {},
   "outputs": [
    {
     "data": {
      "text/plain": [
       "array([[1., 0., 0.],\n",
       "       [0., 0., 1.],\n",
       "       [0., 1., 0.]])"
      ]
     },
     "execution_count": 4,
     "metadata": {},
     "output_type": "execute_result"
    }
   ],
   "source": [
    "P"
   ]
  },
  {
   "cell_type": "code",
   "execution_count": 5,
   "id": "79b3844b",
   "metadata": {},
   "outputs": [
    {
     "data": {
      "text/plain": [
       "array([[ 1. ,  0. ,  0. ],\n",
       "       [-0.5,  1. ,  0. ],\n",
       "       [ 0. , -0.5,  1. ]])"
      ]
     },
     "execution_count": 5,
     "metadata": {},
     "output_type": "execute_result"
    }
   ],
   "source": [
    "L"
   ]
  },
  {
   "cell_type": "code",
   "execution_count": 6,
   "id": "181770cc",
   "metadata": {},
   "outputs": [
    {
     "data": {
      "text/plain": [
       "array([[ 2. , -2. , -2. ],\n",
       "       [ 0. ,  4. ,  1. ],\n",
       "       [ 0. ,  0. ,  2.5]])"
      ]
     },
     "execution_count": 6,
     "metadata": {},
     "output_type": "execute_result"
    }
   ],
   "source": [
    "U"
   ]
  },
  {
   "cell_type": "code",
   "execution_count": 7,
   "id": "576c659c",
   "metadata": {},
   "outputs": [
    {
     "data": {
      "text/plain": [
       "array([[ 2., -2., -2.],\n",
       "       [-1.,  5.,  2.],\n",
       "       [ 0., -2.,  2.]])"
      ]
     },
     "execution_count": 7,
     "metadata": {},
     "output_type": "execute_result"
    }
   ],
   "source": [
    "# A = LU 확인\n",
    "\n",
    "L@U"
   ]
  },
  {
   "cell_type": "markdown",
   "id": "1b23b77e",
   "metadata": {},
   "source": [
    "L@U가 P에 의해서 행의 순서가 바뀐 것이 반영되서 나온다."
   ]
  },
  {
   "cell_type": "markdown",
   "id": "4c24fa74",
   "metadata": {},
   "source": [
    "# 텐서 실습\n",
    "\n",
    "### 각 원소에 접근하기"
   ]
  },
  {
   "cell_type": "code",
   "execution_count": 10,
   "id": "2cc3c908",
   "metadata": {},
   "outputs": [],
   "source": [
    "# 벡터 : 리스트 한 겹\n",
    "# 각 원소에 접근할 때 대괄호도 하나\n",
    "x = [1, 2]"
   ]
  },
  {
   "cell_type": "code",
   "execution_count": 11,
   "id": "6d625915",
   "metadata": {},
   "outputs": [
    {
     "data": {
      "text/plain": [
       "1"
      ]
     },
     "execution_count": 11,
     "metadata": {},
     "output_type": "execute_result"
    }
   ],
   "source": [
    "x[0]"
   ]
  },
  {
   "cell_type": "code",
   "execution_count": 12,
   "id": "51c12ca9",
   "metadata": {},
   "outputs": [
    {
     "data": {
      "text/plain": [
       "2"
      ]
     },
     "execution_count": 12,
     "metadata": {},
     "output_type": "execute_result"
    }
   ],
   "source": [
    "x[1]"
   ]
  },
  {
   "cell_type": "code",
   "execution_count": 8,
   "id": "01df0417",
   "metadata": {},
   "outputs": [],
   "source": [
    "# 행렬 : 리스트 두 겹\n",
    "# 각 원소에 접근할 때 대괄호가 둘\n",
    "A = [[1, 2], [3, 4]]"
   ]
  },
  {
   "cell_type": "code",
   "execution_count": 13,
   "id": "f75ba947",
   "metadata": {},
   "outputs": [
    {
     "data": {
      "text/plain": [
       "1"
      ]
     },
     "execution_count": 13,
     "metadata": {},
     "output_type": "execute_result"
    }
   ],
   "source": [
    "A[0][0]"
   ]
  },
  {
   "cell_type": "code",
   "execution_count": 14,
   "id": "9c9e584d",
   "metadata": {},
   "outputs": [
    {
     "data": {
      "text/plain": [
       "2"
      ]
     },
     "execution_count": 14,
     "metadata": {},
     "output_type": "execute_result"
    }
   ],
   "source": [
    "A[0][1]"
   ]
  },
  {
   "cell_type": "code",
   "execution_count": 15,
   "id": "bf3a08d4",
   "metadata": {},
   "outputs": [
    {
     "data": {
      "text/plain": [
       "3"
      ]
     },
     "execution_count": 15,
     "metadata": {},
     "output_type": "execute_result"
    }
   ],
   "source": [
    "A[1][0]"
   ]
  },
  {
   "cell_type": "code",
   "execution_count": 16,
   "id": "ac10845c",
   "metadata": {},
   "outputs": [
    {
     "data": {
      "text/plain": [
       "4"
      ]
     },
     "execution_count": 16,
     "metadata": {},
     "output_type": "execute_result"
    }
   ],
   "source": [
    "A[1][1]"
   ]
  },
  {
   "cell_type": "markdown",
   "id": "10bc7c95",
   "metadata": {},
   "source": [
    "### 텐서 만들기"
   ]
  },
  {
   "cell_type": "code",
   "execution_count": 19,
   "id": "26b36952",
   "metadata": {},
   "outputs": [],
   "source": [
    "# 텐서 : 리스트가 세 겹\n",
    "T = [[[1, 2],[3, 4]], [[5, 6], [7, 8]]]"
   ]
  },
  {
   "cell_type": "markdown",
   "id": "283aa640",
   "metadata": {},
   "source": [
    "채널 번수가 맨 앞으로 온다는 것을 기억해야 한다."
   ]
  },
  {
   "cell_type": "code",
   "execution_count": 20,
   "id": "5620776c",
   "metadata": {},
   "outputs": [
    {
     "data": {
      "text/plain": [
       "1"
      ]
     },
     "execution_count": 20,
     "metadata": {},
     "output_type": "execute_result"
    }
   ],
   "source": [
    "T[0][0][0]"
   ]
  },
  {
   "cell_type": "code",
   "execution_count": 21,
   "id": "da4d63bf",
   "metadata": {},
   "outputs": [
    {
     "data": {
      "text/plain": [
       "2"
      ]
     },
     "execution_count": 21,
     "metadata": {},
     "output_type": "execute_result"
    }
   ],
   "source": [
    "T[0][0][1]"
   ]
  },
  {
   "cell_type": "code",
   "execution_count": 22,
   "id": "18d65a07",
   "metadata": {},
   "outputs": [
    {
     "data": {
      "text/plain": [
       "3"
      ]
     },
     "execution_count": 22,
     "metadata": {},
     "output_type": "execute_result"
    }
   ],
   "source": [
    "T[0][1][0]"
   ]
  },
  {
   "cell_type": "code",
   "execution_count": 23,
   "id": "f4ec6971",
   "metadata": {},
   "outputs": [
    {
     "data": {
      "text/plain": [
       "4"
      ]
     },
     "execution_count": 23,
     "metadata": {},
     "output_type": "execute_result"
    }
   ],
   "source": [
    "T[0][1][1]"
   ]
  },
  {
   "cell_type": "code",
   "execution_count": 24,
   "id": "89950b04",
   "metadata": {},
   "outputs": [
    {
     "data": {
      "text/plain": [
       "5"
      ]
     },
     "execution_count": 24,
     "metadata": {},
     "output_type": "execute_result"
    }
   ],
   "source": [
    "T[1][0][0]"
   ]
  },
  {
   "cell_type": "code",
   "execution_count": 25,
   "id": "3f4b27f5",
   "metadata": {},
   "outputs": [
    {
     "data": {
      "text/plain": [
       "6"
      ]
     },
     "execution_count": 25,
     "metadata": {},
     "output_type": "execute_result"
    }
   ],
   "source": [
    "T[1][0][1]"
   ]
  },
  {
   "cell_type": "code",
   "execution_count": 26,
   "id": "946fd2c2",
   "metadata": {},
   "outputs": [
    {
     "data": {
      "text/plain": [
       "7"
      ]
     },
     "execution_count": 26,
     "metadata": {},
     "output_type": "execute_result"
    }
   ],
   "source": [
    "T[1][1][0]"
   ]
  },
  {
   "cell_type": "code",
   "execution_count": 27,
   "id": "b78b2c1d",
   "metadata": {},
   "outputs": [
    {
     "data": {
      "text/plain": [
       "8"
      ]
     },
     "execution_count": 27,
     "metadata": {},
     "output_type": "execute_result"
    }
   ],
   "source": [
    "T[1][1][1]"
   ]
  },
  {
   "cell_type": "markdown",
   "id": "de9a9174",
   "metadata": {},
   "source": [
    "## 텐서의 노름 구하기"
   ]
  },
  {
   "cell_type": "code",
   "execution_count": 28,
   "id": "82fd7f24",
   "metadata": {},
   "outputs": [],
   "source": [
    "A = [ [[1,0,1,0], [2,1,0,1], [3,4,0,2]],\n",
    "      [[3,1,2,0], [1,0,4,2], [0,1,0,2]]  ]"
   ]
  },
  {
   "cell_type": "code",
   "execution_count": 29,
   "id": "214cf43d",
   "metadata": {},
   "outputs": [
    {
     "name": "stdout",
     "output_type": "stream",
     "text": [
      "[[[1, 0, 1, 0], [2, 1, 0, 1], [3, 4, 0, 2]], [[3, 1, 2, 0], [1, 0, 4, 2], [0, 1, 0, 2]]]\n"
     ]
    }
   ],
   "source": [
    "print(A)"
   ]
  },
  {
   "cell_type": "code",
   "execution_count": 32,
   "id": "54d60170",
   "metadata": {},
   "outputs": [],
   "source": [
    "n = len(A[0])    # 열 벡터의 개수\n",
    "p = len(A[0][0]) # 행 벡터의 개수\n",
    "q = len(A)       # 행렬이 몇 개"
   ]
  },
  {
   "cell_type": "code",
   "execution_count": 33,
   "id": "93b03ce1",
   "metadata": {},
   "outputs": [
    {
     "name": "stdout",
     "output_type": "stream",
     "text": [
      "3 4 2\n"
     ]
    }
   ],
   "source": [
    "print(n, p, q)"
   ]
  },
  {
   "cell_type": "code",
   "execution_count": 35,
   "id": "ce06070f",
   "metadata": {},
   "outputs": [],
   "source": [
    "norm = 0\n",
    "for i in range(0, n):\n",
    "    for j in range(0, p):\n",
    "        for k in range(0, q):\n",
    "            norm += A[k][i][j]**2\n",
    "\n",
    "norm = norm**0.5"
   ]
  },
  {
   "cell_type": "code",
   "execution_count": 37,
   "id": "952cafa8",
   "metadata": {},
   "outputs": [
    {
     "name": "stdout",
     "output_type": "stream",
     "text": [
      "8.774964387392123\n"
     ]
    }
   ],
   "source": [
    "print(norm)"
   ]
  },
  {
   "cell_type": "markdown",
   "id": "4ea8bca8",
   "metadata": {},
   "source": [
    "## 텐서의 내적 구하기\n",
    "\n",
    "채널번호가 가장 앞에 오는거 까먹지 말기"
   ]
  },
  {
   "cell_type": "markdown",
   "id": "05e5ebae",
   "metadata": {},
   "source": [
    "### 파이썬으로 하기"
   ]
  },
  {
   "cell_type": "code",
   "execution_count": 38,
   "id": "f4469f67",
   "metadata": {},
   "outputs": [],
   "source": [
    "A = [ [[1,0,1,0], [2,1,0,1], [3,4,0,2]],\n",
    "      [[3,1,2,0], [1,0,4,2], [0,1,0,2]]  ]\n",
    "B = [ [[2,1,3,1], [0,2,1,3], [1,0,1,1]],\n",
    "      [[1,2,3,1], [3,1,0,3], [0,2,3,1]]  ]"
   ]
  },
  {
   "cell_type": "code",
   "execution_count": 39,
   "id": "b3f41c24",
   "metadata": {},
   "outputs": [],
   "source": [
    "n = len(A[0])\n",
    "p = len(A[0][0])\n",
    "q = len(A)"
   ]
  },
  {
   "cell_type": "code",
   "execution_count": 41,
   "id": "36a4ebf5",
   "metadata": {},
   "outputs": [],
   "source": [
    "inner_product = 0\n",
    "for i in range(0, n):\n",
    "    for j in range(0, p):\n",
    "        for k in range(0, q):\n",
    "            inner_product += A[k][i][j] * B[k][i][j]"
   ]
  },
  {
   "cell_type": "code",
   "execution_count": 42,
   "id": "38142034",
   "metadata": {},
   "outputs": [
    {
     "name": "stdout",
     "output_type": "stream",
     "text": [
      "39\n"
     ]
    }
   ],
   "source": [
    "print(inner_product)"
   ]
  },
  {
   "cell_type": "markdown",
   "id": "751f7b28",
   "metadata": {},
   "source": [
    "### 넘파이로 하기"
   ]
  },
  {
   "cell_type": "code",
   "execution_count": 43,
   "id": "e7937dd6",
   "metadata": {},
   "outputs": [],
   "source": [
    "import numpy as np\n",
    "\n",
    "# 넣는 것 array로 안하고 리스트로 바로 넣어도 값은 같게 나올 수 있다."
   ]
  },
  {
   "cell_type": "code",
   "execution_count": 44,
   "id": "e65982be",
   "metadata": {},
   "outputs": [],
   "source": [
    "A = np.array([ [[1,0,1,0], [2,1,0,1], [3,4,0,2]],\n",
    "               [[3,1,2,0], [1,0,4,2], [0,1,0,2]]  ])\n",
    "B = np.array([ [[2,1,3,1], [0,2,1,3], [1,0,1,1]],\n",
    "               [[1,2,3,1], [3,1,0,3], [0,2,3,1]]  ])"
   ]
  },
  {
   "cell_type": "code",
   "execution_count": 45,
   "id": "b6ba367f",
   "metadata": {},
   "outputs": [],
   "source": [
    "C = np.multiply(A, B)"
   ]
  },
  {
   "cell_type": "code",
   "execution_count": 46,
   "id": "608762bb",
   "metadata": {},
   "outputs": [
    {
     "name": "stdout",
     "output_type": "stream",
     "text": [
      "[[[2 0 3 0]\n",
      "  [0 2 0 3]\n",
      "  [3 0 0 2]]\n",
      "\n",
      " [[3 2 6 0]\n",
      "  [3 0 0 6]\n",
      "  [0 2 0 2]]]\n"
     ]
    }
   ],
   "source": [
    "print(C)"
   ]
  },
  {
   "cell_type": "code",
   "execution_count": 48,
   "id": "38757028",
   "metadata": {},
   "outputs": [
    {
     "name": "stdout",
     "output_type": "stream",
     "text": [
      "39\n"
     ]
    }
   ],
   "source": [
    "inner_product = np.sum(C)\n",
    "print(inner_product)"
   ]
  },
  {
   "cell_type": "markdown",
   "id": "98fb285f",
   "metadata": {},
   "source": [
    "간단한 행렬을 했지만, 실제 데이터로 하게되면 개념을 모르면 건드리기 힘들어진다."
   ]
  },
  {
   "cell_type": "markdown",
   "id": "1b6aea24",
   "metadata": {},
   "source": [
    "# 유용한 함수 알아보기"
   ]
  },
  {
   "cell_type": "markdown",
   "id": "a0c1dcce",
   "metadata": {},
   "source": [
    "## np.reshape\n",
    "\n",
    "텐서를 자유롭게 변환하는 것이 쉬워져야 한다. 이때 사용하기 좋은 함수이다."
   ]
  },
  {
   "cell_type": "code",
   "execution_count": 76,
   "id": "454d3b3a",
   "metadata": {},
   "outputs": [
    {
     "name": "stdout",
     "output_type": "stream",
     "text": [
      "[1 2 3 4 5 6 7 8]\n"
     ]
    }
   ],
   "source": [
    "import numpy as np\n",
    "\n",
    "A = np.array([1,2,3,4,5,6,7,8])\n",
    "print(A)"
   ]
  },
  {
   "cell_type": "code",
   "execution_count": 51,
   "id": "bc44e97f",
   "metadata": {},
   "outputs": [
    {
     "data": {
      "text/plain": [
       "(8,)"
      ]
     },
     "execution_count": 51,
     "metadata": {},
     "output_type": "execute_result"
    }
   ],
   "source": [
    "A.shape"
   ]
  },
  {
   "cell_type": "code",
   "execution_count": 50,
   "id": "738746a1",
   "metadata": {},
   "outputs": [
    {
     "name": "stdout",
     "output_type": "stream",
     "text": [
      "[[1]\n",
      " [2]\n",
      " [3]\n",
      " [4]\n",
      " [5]\n",
      " [6]\n",
      " [7]\n",
      " [8]]\n"
     ]
    }
   ],
   "source": [
    "A1 = A.reshape(8, 1) # 8행 1열로 만들기\n",
    "print(A1)"
   ]
  },
  {
   "cell_type": "code",
   "execution_count": 52,
   "id": "9ff1cbbe",
   "metadata": {},
   "outputs": [
    {
     "data": {
      "text/plain": [
       "(8, 1)"
      ]
     },
     "execution_count": 52,
     "metadata": {},
     "output_type": "execute_result"
    }
   ],
   "source": [
    "A1.shape"
   ]
  },
  {
   "cell_type": "markdown",
   "id": "6b144cbe",
   "metadata": {},
   "source": [
    "행 벡터는 리스트 하나로 표현되었지만, 열 벡터는 리스트 여러개로 표현되었다.\n",
    "\n",
    "파이썬은 행 기준이다 보니까 1행 8열은 리스트 하나로 표현되지만 8열 1행은 여러 리스트로 될 수 밖에 없다. \n",
    "\n",
    "수행을 하다가 리스트가 여러개로 나올 경우 이런 상황을 떠올리면 된다."
   ]
  },
  {
   "cell_type": "code",
   "execution_count": 53,
   "id": "db65bc3f",
   "metadata": {},
   "outputs": [
    {
     "name": "stdout",
     "output_type": "stream",
     "text": [
      "[[1 2 3 4]\n",
      " [5 6 7 8]]\n"
     ]
    }
   ],
   "source": [
    "# 2행 4열로 만들기 1\n",
    "\n",
    "A2 = A.reshape(2, 4)\n",
    "print(A2)"
   ]
  },
  {
   "cell_type": "code",
   "execution_count": 54,
   "id": "07738b40",
   "metadata": {},
   "outputs": [
    {
     "data": {
      "text/plain": [
       "(2, 4)"
      ]
     },
     "execution_count": 54,
     "metadata": {},
     "output_type": "execute_result"
    }
   ],
   "source": [
    "A2.shape"
   ]
  },
  {
   "cell_type": "code",
   "execution_count": 56,
   "id": "62aeba6f",
   "metadata": {},
   "outputs": [],
   "source": [
    "# 2행 4열로 만들기 2\n",
    "\n",
    "A3 = np.reshape(A, (2,4))"
   ]
  },
  {
   "cell_type": "code",
   "execution_count": 57,
   "id": "defd05d2",
   "metadata": {},
   "outputs": [
    {
     "name": "stdout",
     "output_type": "stream",
     "text": [
      "[[1 2 3 4]\n",
      " [5 6 7 8]]\n"
     ]
    }
   ],
   "source": [
    "print(A3)"
   ]
  },
  {
   "cell_type": "markdown",
   "id": "296bd3e3",
   "metadata": {},
   "source": [
    "### 행이나 열 파라미터에 -1 는 알아서하라는 와일드카드와 비슷하다."
   ]
  },
  {
   "cell_type": "code",
   "execution_count": 78,
   "id": "bd4652e4",
   "metadata": {},
   "outputs": [
    {
     "name": "stdout",
     "output_type": "stream",
     "text": [
      "[[1 2 3 4]\n",
      " [5 6 7 8]]\n"
     ]
    }
   ],
   "source": [
    "A4 = A.reshape(-1, 4)\n",
    "print(A4)"
   ]
  },
  {
   "cell_type": "code",
   "execution_count": 61,
   "id": "ec431a1c",
   "metadata": {},
   "outputs": [
    {
     "name": "stdout",
     "output_type": "stream",
     "text": [
      "[[1 2 3 4]\n",
      " [5 6 7 8]]\n"
     ]
    }
   ],
   "source": [
    "A5 = np.reshape(A, (2, -1))\n",
    "print(A5)"
   ]
  },
  {
   "cell_type": "markdown",
   "id": "c2a9b11a",
   "metadata": {},
   "source": [
    "### 그럼 그냥 -1을 넣어버리면?\n",
    "\n",
    "이렇게 된다. \n",
    "\n",
    "가장 많이 쓰인다. 행과 열 입력값 두개를 넣어야 하는데, -1 하나만 넣을 떄가 있다.\n",
    "\n",
    "행 벡터로, 하나의 행열을 한 줄로 바꿔버리는 것이다."
   ]
  },
  {
   "cell_type": "code",
   "execution_count": 62,
   "id": "f3500d2d",
   "metadata": {},
   "outputs": [
    {
     "name": "stdout",
     "output_type": "stream",
     "text": [
      "[1 2 3 4 5 6 7 8]\n"
     ]
    }
   ],
   "source": [
    "A6 = A5.reshape(-1)\n",
    "print(A6)"
   ]
  },
  {
   "cell_type": "markdown",
   "id": "7b48383c",
   "metadata": {},
   "source": [
    "### "
   ]
  },
  {
   "cell_type": "code",
   "execution_count": 63,
   "id": "cc011ce3",
   "metadata": {},
   "outputs": [
    {
     "name": "stdout",
     "output_type": "stream",
     "text": [
      "[[1 2]\n",
      " [3 4]\n",
      " [5 6]\n",
      " [7 8]]\n"
     ]
    }
   ],
   "source": [
    "A7 = A.reshape(4, 2)\n",
    "print(A7)"
   ]
  },
  {
   "cell_type": "markdown",
   "id": "b97b1ad2",
   "metadata": {},
   "source": [
    "### 행렬을 텐서로 만들려면\n",
    "\n",
    "파라미터 세 개가 되는데, 맨 앞이 채널수가 되고, 다음이 행, 열 개수가 된다."
   ]
  },
  {
   "cell_type": "code",
   "execution_count": 64,
   "id": "9c46a27a",
   "metadata": {},
   "outputs": [],
   "source": [
    "B = np.array([[1, 4, 7, 10], [2, 5, 8, 11], [3, 6, 9, 12], \n",
    "              [13, 16, 19, 22], [14, 17, 20, 23], [15, 18, 21, 24]])"
   ]
  },
  {
   "cell_type": "code",
   "execution_count": 65,
   "id": "2318df99",
   "metadata": {},
   "outputs": [
    {
     "name": "stdout",
     "output_type": "stream",
     "text": [
      "[[ 1  4  7 10]\n",
      " [ 2  5  8 11]\n",
      " [ 3  6  9 12]\n",
      " [13 16 19 22]\n",
      " [14 17 20 23]\n",
      " [15 18 21 24]]\n"
     ]
    }
   ],
   "source": [
    "print(B)"
   ]
  },
  {
   "cell_type": "code",
   "execution_count": 67,
   "id": "55c8fed5",
   "metadata": {},
   "outputs": [
    {
     "name": "stdout",
     "output_type": "stream",
     "text": [
      "[[[ 1  4  7 10]\n",
      "  [ 2  5  8 11]\n",
      "  [ 3  6  9 12]]\n",
      "\n",
      " [[13 16 19 22]\n",
      "  [14 17 20 23]\n",
      "  [15 18 21 24]]]\n"
     ]
    }
   ],
   "source": [
    "# (차원개수, 행 개수, 열 개수)\n",
    "\n",
    "B1 = B.reshape(2, 3, 4)\n",
    "print(B1)"
   ]
  },
  {
   "cell_type": "markdown",
   "id": "d07b576e",
   "metadata": {},
   "source": [
    "### 행렬을 벡터로 만들려면\n",
    "\n",
    "파라미터를 하나만 쓰면 벡터로 만들어진다. \n",
    "\n",
    "근데 행 기준으로 벡터화가 되는데, 이때 order = 'F' 를 넣으면 열 기준으로 벡터화를 시킬 수 있다."
   ]
  },
  {
   "cell_type": "code",
   "execution_count": 68,
   "id": "14dbacdb",
   "metadata": {},
   "outputs": [
    {
     "name": "stdout",
     "output_type": "stream",
     "text": [
      "[ 1  4  7 10  2  5  8 11  3  6  9 12]\n"
     ]
    }
   ],
   "source": [
    "C1 = B1[0].reshape(-1)\n",
    "print(C1)"
   ]
  },
  {
   "cell_type": "code",
   "execution_count": 69,
   "id": "a98e91ab",
   "metadata": {},
   "outputs": [
    {
     "name": "stdout",
     "output_type": "stream",
     "text": [
      "[ 1  2  3  4  5  6  7  8  9 10 11 12]\n"
     ]
    }
   ],
   "source": [
    "C2 = B1[0].reshape(-1, order='F')\n",
    "print(C2)"
   ]
  },
  {
   "cell_type": "markdown",
   "id": "8c8aa4bc",
   "metadata": {},
   "source": [
    "## np.concatenate\n",
    "\n",
    " 행렬을 합치는 경우 사용한다.\n",
    " \n",
    " (A, B) axis = [0: 적 방향, 1: 횡방향, None: 펼쳐서 한 행으로 만듬]"
   ]
  },
  {
   "cell_type": "code",
   "execution_count": 70,
   "id": "76e88825",
   "metadata": {},
   "outputs": [],
   "source": [
    "A = np.array([[1,2], [3,4]])\n",
    "B = np.array([[5,6], [7,8]])"
   ]
  },
  {
   "cell_type": "code",
   "execution_count": 71,
   "id": "914bb001",
   "metadata": {},
   "outputs": [
    {
     "name": "stdout",
     "output_type": "stream",
     "text": [
      "[[1 2]\n",
      " [3 4]]\n"
     ]
    }
   ],
   "source": [
    "print(A)"
   ]
  },
  {
   "cell_type": "code",
   "execution_count": 72,
   "id": "80ab8b7b",
   "metadata": {},
   "outputs": [
    {
     "name": "stdout",
     "output_type": "stream",
     "text": [
      "[[5 6]\n",
      " [7 8]]\n"
     ]
    }
   ],
   "source": [
    "print(B)"
   ]
  },
  {
   "cell_type": "code",
   "execution_count": 73,
   "id": "62644c9d",
   "metadata": {},
   "outputs": [
    {
     "name": "stdout",
     "output_type": "stream",
     "text": [
      "[[1 2]\n",
      " [3 4]\n",
      " [5 6]\n",
      " [7 8]]\n"
     ]
    }
   ],
   "source": [
    "C = np.concatenate((A, B), axis = 0)\n",
    "print(C)"
   ]
  },
  {
   "cell_type": "code",
   "execution_count": 74,
   "id": "c21ee404",
   "metadata": {},
   "outputs": [
    {
     "name": "stdout",
     "output_type": "stream",
     "text": [
      "[[1 2 5 6]\n",
      " [3 4 7 8]]\n"
     ]
    }
   ],
   "source": [
    "D = np.concatenate((A, B), axis = 1)\n",
    "print(D)"
   ]
  },
  {
   "cell_type": "code",
   "execution_count": 75,
   "id": "141a8f9e",
   "metadata": {},
   "outputs": [
    {
     "name": "stdout",
     "output_type": "stream",
     "text": [
      "[1 2 3 4 5 6 7 8]\n"
     ]
    }
   ],
   "source": [
    "E = np.concatenate((A, B), axis = None)\n",
    "print(E)"
   ]
  },
  {
   "cell_type": "markdown",
   "id": "69ad7986",
   "metadata": {},
   "source": [
    "# tensor to matrix"
   ]
  },
  {
   "cell_type": "markdown",
   "id": "8c34f18d",
   "metadata": {},
   "source": [
    "## 파이썬으로 해보기"
   ]
  },
  {
   "cell_type": "code",
   "execution_count": 88,
   "id": "13547160",
   "metadata": {},
   "outputs": [],
   "source": [
    "tensor = np.array([[[1, 4, 7, 10], [2, 5, 8, 11], [3, 6, 9, 12]],\n",
    "                   [[13, 16, 19, 22], [14, 17, 20, 23], [15, 18, 21, 24]]])"
   ]
  },
  {
   "cell_type": "code",
   "execution_count": null,
   "id": "f28ba19f",
   "metadata": {},
   "outputs": [],
   "source": [
    "n = len(tensor[0])\n",
    "p = len(tensor[0][0])\n",
    "q = len(tensor)\n",
    "\n",
    "mode1 = []\n",
    "\n",
    "for i in range(0, n):\n",
    "    row = []\n",
    "    "
   ]
  },
  {
   "cell_type": "markdown",
   "id": "9efcff5d",
   "metadata": {},
   "source": [
    "## 넘파이로 해보기"
   ]
  },
  {
   "cell_type": "code",
   "execution_count": 81,
   "id": "541d55ee",
   "metadata": {},
   "outputs": [],
   "source": [
    "tensor = np.array([[[1, 4, 7, 10], [2, 5, 8, 11], [3, 6, 9, 12]],\n",
    "                   [[13, 16, 19, 22], [14, 17, 20, 23], [15, 18, 21, 24]]])"
   ]
  },
  {
   "cell_type": "markdown",
   "id": "29f697e2",
   "metadata": {},
   "source": [
    "### mode1"
   ]
  },
  {
   "cell_type": "code",
   "execution_count": 82,
   "id": "e75777ca",
   "metadata": {},
   "outputs": [
    {
     "name": "stdout",
     "output_type": "stream",
     "text": [
      "[[ 1  4  7 10 13 16 19 22]\n",
      " [ 2  5  8 11 14 17 20 23]\n",
      " [ 3  6  9 12 15 18 21 24]]\n"
     ]
    }
   ],
   "source": [
    "# 텐서 내의 행렬을 가로로 붙이기\n",
    "\n",
    "mode1 = np.concatenate((tensor[0], tensor[1]), axis = 1)\n",
    "print(mode1)"
   ]
  },
  {
   "cell_type": "code",
   "execution_count": 83,
   "id": "96f785c6",
   "metadata": {},
   "outputs": [
    {
     "name": "stdout",
     "output_type": "stream",
     "text": [
      "[[ 1  4  7 10]\n",
      " [ 2  5  8 11]\n",
      " [ 3  6  9 12]]\n"
     ]
    }
   ],
   "source": [
    "print(tensor[0])"
   ]
  },
  {
   "cell_type": "code",
   "execution_count": 84,
   "id": "e2488aa4",
   "metadata": {},
   "outputs": [
    {
     "name": "stdout",
     "output_type": "stream",
     "text": [
      "[[13 16 19 22]\n",
      " [14 17 20 23]\n",
      " [15 18 21 24]]\n"
     ]
    }
   ],
   "source": [
    "print(tensor[0])"
   ]
  },
  {
   "cell_type": "markdown",
   "id": "4f19c347",
   "metadata": {},
   "source": [
    "### mode2"
   ]
  },
  {
   "cell_type": "code",
   "execution_count": 87,
   "id": "c42fe57d",
   "metadata": {},
   "outputs": [
    {
     "name": "stdout",
     "output_type": "stream",
     "text": [
      "[[ 1  2  3 13 14 15]\n",
      " [ 4  5  6 16 17 18]\n",
      " [ 7  8  9 19 20 21]\n",
      " [10 11 12 22 23 24]]\n"
     ]
    }
   ],
   "source": [
    "# 텐서 내의 행렬을 전치한 후 가로로 붙이기\n",
    "\n",
    "mode2 = np.concatenate((tensor[0].T, tensor[1].T), axis = 1)\n",
    "print(mode2)"
   ]
  },
  {
   "cell_type": "markdown",
   "id": "8b51e1c0",
   "metadata": {},
   "source": [
    "### mode 3"
   ]
  },
  {
   "cell_type": "code",
   "execution_count": 89,
   "id": "e9a3d9db",
   "metadata": {},
   "outputs": [
    {
     "name": "stdout",
     "output_type": "stream",
     "text": [
      "[ 1  2  3  4  5  6  7  8  9 10 11 12]\n"
     ]
    }
   ],
   "source": [
    "# 텐서 내의 행렬을 일렬로 나열한 후(벡터로 만든 후) 열 방향으로 붙이기\n",
    "# 이때 이 행렬의 경우에는 열 순으로 빼야하기 때문에 Transpose 하고 해도 되고\n",
    "# order = 'F' 를 사용해도 된다.\n",
    "\n",
    "ch1 = tensor[0].T.reshape(-1)\n",
    "print(ch1)"
   ]
  },
  {
   "cell_type": "code",
   "execution_count": 90,
   "id": "b698e20e",
   "metadata": {},
   "outputs": [
    {
     "name": "stdout",
     "output_type": "stream",
     "text": [
      "[13 14 15 16 17 18 19 20 21 22 23 24]\n"
     ]
    }
   ],
   "source": [
    "ch2 = tensor[1].T.reshape(-1)\n",
    "print(ch2)"
   ]
  },
  {
   "cell_type": "code",
   "execution_count": 94,
   "id": "9f9b0d65",
   "metadata": {},
   "outputs": [
    {
     "name": "stdout",
     "output_type": "stream",
     "text": [
      "[ 1  2  3  4  5  6  7  8  9 10 11 12 13 14 15 16 17 18 19 20 21 22 23 24]\n"
     ]
    }
   ],
   "source": [
    "mode3_ = np.concatenate((ch1, ch2), axis = 0)\n",
    "print(mode3_)"
   ]
  },
  {
   "cell_type": "code",
   "execution_count": 96,
   "id": "9df5bde6",
   "metadata": {},
   "outputs": [
    {
     "name": "stdout",
     "output_type": "stream",
     "text": [
      "[[ 1  2  3  4  5  6  7  8  9 10 11 12]\n",
      " [13 14 15 16 17 18 19 20 21 22 23 24]]\n"
     ]
    }
   ],
   "source": [
    "mode3 = mode3_.reshape(2, -1) # 2행으로 만들기\n",
    "print(mode3)"
   ]
  },
  {
   "cell_type": "markdown",
   "id": "bfc06523",
   "metadata": {},
   "source": [
    "# 텐서 곱\n",
    "\n",
    "행렬 * 텐서"
   ]
  },
  {
   "cell_type": "markdown",
   "id": "147f7a07",
   "metadata": {},
   "source": [
    "## 파이썬으로 해보기"
   ]
  },
  {
   "cell_type": "code",
   "execution_count": null,
   "id": "52cf25ee",
   "metadata": {},
   "outputs": [],
   "source": []
  },
  {
   "cell_type": "markdown",
   "id": "3260d561",
   "metadata": {},
   "source": [
    "## 넘파이로 해보기"
   ]
  },
  {
   "cell_type": "code",
   "execution_count": 99,
   "id": "b56265b4",
   "metadata": {},
   "outputs": [],
   "source": [
    "U = np.array([[1,3,5], [2,4,6]])\n",
    "\n",
    "A = np.array([[[1, 4, 7, 10], [2, 5, 8, 11], [3, 6, 9, 12]],\n",
    "                   [[13, 16, 19, 22], [14, 17, 20, 23], [15, 18, 21, 24]]])"
   ]
  },
  {
   "cell_type": "code",
   "execution_count": 106,
   "id": "fa4963f9",
   "metadata": {},
   "outputs": [
    {
     "name": "stdout",
     "output_type": "stream",
     "text": [
      "[[ 22  49  76 103]\n",
      " [ 28  64 100 136]]\n"
     ]
    }
   ],
   "source": [
    "UA1 = np.matmul(U, A[0])\n",
    "print(UA1)"
   ]
  },
  {
   "cell_type": "code",
   "execution_count": 109,
   "id": "556a294a",
   "metadata": {},
   "outputs": [
    {
     "name": "stdout",
     "output_type": "stream",
     "text": [
      "[[130 157 184 211]\n",
      " [172 208 244 280]]\n"
     ]
    }
   ],
   "source": [
    "UA2 = np.matmul(U, A[1])\n",
    "print(UA2)"
   ]
  },
  {
   "cell_type": "code",
   "execution_count": 110,
   "id": "864917ff",
   "metadata": {},
   "outputs": [
    {
     "name": "stdout",
     "output_type": "stream",
     "text": [
      "[[ 22  49  76 103]\n",
      " [ 28  64 100 136]\n",
      " [130 157 184 211]\n",
      " [172 208 244 280]]\n"
     ]
    }
   ],
   "source": [
    "# \n",
    "\n",
    "C = np.concatenate((UA1, UA2), axis=0)\n",
    "print(C)"
   ]
  },
  {
   "cell_type": "code",
   "execution_count": 111,
   "id": "3b8f8d5e",
   "metadata": {},
   "outputs": [
    {
     "name": "stdout",
     "output_type": "stream",
     "text": [
      "[[[ 22  49  76 103]\n",
      "  [ 28  64 100 136]]\n",
      "\n",
      " [[130 157 184 211]\n",
      "  [172 208 244 280]]]\n"
     ]
    }
   ],
   "source": [
    "tensor_product = C.reshape(2,2,4)\n",
    "print(tensor_product)"
   ]
  },
  {
   "cell_type": "markdown",
   "id": "c1c6f136",
   "metadata": {},
   "source": [
    "# 데이터 실습 - 판다스\n",
    "\n",
    "텐서 형태로 데이터를 주세요 하면 csv파일 여러개로 줄 수도 있지만, \n",
    "\n",
    "행렬인데, 텐서를 행렬로 바꿨던 것처럼, 완전 붙여놨을 수도 있따는 것이다.\n",
    "\n",
    "fashion-mnist_test 데이터는 이미지 데이터에 대한 것이다.\n",
    "\n",
    "이미지가 10000 장이 있는데, 한 이미지에 여러 픽셀을 일렬로 펼쳐서 한 행으로 만들어버린 것이다."
   ]
  },
  {
   "cell_type": "code",
   "execution_count": 112,
   "id": "c56f78c3",
   "metadata": {},
   "outputs": [],
   "source": [
    "import pandas as pd\n",
    "\n",
    "df = pd.read_csv(\"./data/fashion-mnist_test.csv\")"
   ]
  },
  {
   "cell_type": "code",
   "execution_count": 113,
   "id": "d99eae7d",
   "metadata": {},
   "outputs": [
    {
     "data": {
      "text/html": [
       "<div>\n",
       "<style scoped>\n",
       "    .dataframe tbody tr th:only-of-type {\n",
       "        vertical-align: middle;\n",
       "    }\n",
       "\n",
       "    .dataframe tbody tr th {\n",
       "        vertical-align: top;\n",
       "    }\n",
       "\n",
       "    .dataframe thead th {\n",
       "        text-align: right;\n",
       "    }\n",
       "</style>\n",
       "<table border=\"1\" class=\"dataframe\">\n",
       "  <thead>\n",
       "    <tr style=\"text-align: right;\">\n",
       "      <th></th>\n",
       "      <th>label</th>\n",
       "      <th>pixel1</th>\n",
       "      <th>pixel2</th>\n",
       "      <th>pixel3</th>\n",
       "      <th>pixel4</th>\n",
       "      <th>pixel5</th>\n",
       "      <th>pixel6</th>\n",
       "      <th>pixel7</th>\n",
       "      <th>pixel8</th>\n",
       "      <th>pixel9</th>\n",
       "      <th>...</th>\n",
       "      <th>pixel775</th>\n",
       "      <th>pixel776</th>\n",
       "      <th>pixel777</th>\n",
       "      <th>pixel778</th>\n",
       "      <th>pixel779</th>\n",
       "      <th>pixel780</th>\n",
       "      <th>pixel781</th>\n",
       "      <th>pixel782</th>\n",
       "      <th>pixel783</th>\n",
       "      <th>pixel784</th>\n",
       "    </tr>\n",
       "  </thead>\n",
       "  <tbody>\n",
       "    <tr>\n",
       "      <th>0</th>\n",
       "      <td>0</td>\n",
       "      <td>0</td>\n",
       "      <td>0</td>\n",
       "      <td>0</td>\n",
       "      <td>0</td>\n",
       "      <td>0</td>\n",
       "      <td>0</td>\n",
       "      <td>0</td>\n",
       "      <td>9</td>\n",
       "      <td>8</td>\n",
       "      <td>...</td>\n",
       "      <td>103</td>\n",
       "      <td>87</td>\n",
       "      <td>56</td>\n",
       "      <td>0</td>\n",
       "      <td>0</td>\n",
       "      <td>0</td>\n",
       "      <td>0</td>\n",
       "      <td>0</td>\n",
       "      <td>0</td>\n",
       "      <td>0</td>\n",
       "    </tr>\n",
       "    <tr>\n",
       "      <th>1</th>\n",
       "      <td>1</td>\n",
       "      <td>0</td>\n",
       "      <td>0</td>\n",
       "      <td>0</td>\n",
       "      <td>0</td>\n",
       "      <td>0</td>\n",
       "      <td>0</td>\n",
       "      <td>0</td>\n",
       "      <td>0</td>\n",
       "      <td>0</td>\n",
       "      <td>...</td>\n",
       "      <td>34</td>\n",
       "      <td>0</td>\n",
       "      <td>0</td>\n",
       "      <td>0</td>\n",
       "      <td>0</td>\n",
       "      <td>0</td>\n",
       "      <td>0</td>\n",
       "      <td>0</td>\n",
       "      <td>0</td>\n",
       "      <td>0</td>\n",
       "    </tr>\n",
       "    <tr>\n",
       "      <th>2</th>\n",
       "      <td>2</td>\n",
       "      <td>0</td>\n",
       "      <td>0</td>\n",
       "      <td>0</td>\n",
       "      <td>0</td>\n",
       "      <td>0</td>\n",
       "      <td>0</td>\n",
       "      <td>14</td>\n",
       "      <td>53</td>\n",
       "      <td>99</td>\n",
       "      <td>...</td>\n",
       "      <td>0</td>\n",
       "      <td>0</td>\n",
       "      <td>0</td>\n",
       "      <td>0</td>\n",
       "      <td>63</td>\n",
       "      <td>53</td>\n",
       "      <td>31</td>\n",
       "      <td>0</td>\n",
       "      <td>0</td>\n",
       "      <td>0</td>\n",
       "    </tr>\n",
       "    <tr>\n",
       "      <th>3</th>\n",
       "      <td>2</td>\n",
       "      <td>0</td>\n",
       "      <td>0</td>\n",
       "      <td>0</td>\n",
       "      <td>0</td>\n",
       "      <td>0</td>\n",
       "      <td>0</td>\n",
       "      <td>0</td>\n",
       "      <td>0</td>\n",
       "      <td>0</td>\n",
       "      <td>...</td>\n",
       "      <td>137</td>\n",
       "      <td>126</td>\n",
       "      <td>140</td>\n",
       "      <td>0</td>\n",
       "      <td>133</td>\n",
       "      <td>224</td>\n",
       "      <td>222</td>\n",
       "      <td>56</td>\n",
       "      <td>0</td>\n",
       "      <td>0</td>\n",
       "    </tr>\n",
       "    <tr>\n",
       "      <th>4</th>\n",
       "      <td>3</td>\n",
       "      <td>0</td>\n",
       "      <td>0</td>\n",
       "      <td>0</td>\n",
       "      <td>0</td>\n",
       "      <td>0</td>\n",
       "      <td>0</td>\n",
       "      <td>0</td>\n",
       "      <td>0</td>\n",
       "      <td>0</td>\n",
       "      <td>...</td>\n",
       "      <td>0</td>\n",
       "      <td>0</td>\n",
       "      <td>0</td>\n",
       "      <td>0</td>\n",
       "      <td>0</td>\n",
       "      <td>0</td>\n",
       "      <td>0</td>\n",
       "      <td>0</td>\n",
       "      <td>0</td>\n",
       "      <td>0</td>\n",
       "    </tr>\n",
       "    <tr>\n",
       "      <th>...</th>\n",
       "      <td>...</td>\n",
       "      <td>...</td>\n",
       "      <td>...</td>\n",
       "      <td>...</td>\n",
       "      <td>...</td>\n",
       "      <td>...</td>\n",
       "      <td>...</td>\n",
       "      <td>...</td>\n",
       "      <td>...</td>\n",
       "      <td>...</td>\n",
       "      <td>...</td>\n",
       "      <td>...</td>\n",
       "      <td>...</td>\n",
       "      <td>...</td>\n",
       "      <td>...</td>\n",
       "      <td>...</td>\n",
       "      <td>...</td>\n",
       "      <td>...</td>\n",
       "      <td>...</td>\n",
       "      <td>...</td>\n",
       "      <td>...</td>\n",
       "    </tr>\n",
       "    <tr>\n",
       "      <th>9995</th>\n",
       "      <td>0</td>\n",
       "      <td>0</td>\n",
       "      <td>0</td>\n",
       "      <td>0</td>\n",
       "      <td>0</td>\n",
       "      <td>0</td>\n",
       "      <td>0</td>\n",
       "      <td>0</td>\n",
       "      <td>0</td>\n",
       "      <td>0</td>\n",
       "      <td>...</td>\n",
       "      <td>32</td>\n",
       "      <td>23</td>\n",
       "      <td>14</td>\n",
       "      <td>20</td>\n",
       "      <td>0</td>\n",
       "      <td>0</td>\n",
       "      <td>1</td>\n",
       "      <td>0</td>\n",
       "      <td>0</td>\n",
       "      <td>0</td>\n",
       "    </tr>\n",
       "    <tr>\n",
       "      <th>9996</th>\n",
       "      <td>6</td>\n",
       "      <td>0</td>\n",
       "      <td>0</td>\n",
       "      <td>0</td>\n",
       "      <td>0</td>\n",
       "      <td>0</td>\n",
       "      <td>0</td>\n",
       "      <td>0</td>\n",
       "      <td>0</td>\n",
       "      <td>0</td>\n",
       "      <td>...</td>\n",
       "      <td>0</td>\n",
       "      <td>0</td>\n",
       "      <td>0</td>\n",
       "      <td>2</td>\n",
       "      <td>52</td>\n",
       "      <td>23</td>\n",
       "      <td>28</td>\n",
       "      <td>0</td>\n",
       "      <td>0</td>\n",
       "      <td>0</td>\n",
       "    </tr>\n",
       "    <tr>\n",
       "      <th>9997</th>\n",
       "      <td>8</td>\n",
       "      <td>0</td>\n",
       "      <td>0</td>\n",
       "      <td>0</td>\n",
       "      <td>0</td>\n",
       "      <td>0</td>\n",
       "      <td>0</td>\n",
       "      <td>0</td>\n",
       "      <td>0</td>\n",
       "      <td>0</td>\n",
       "      <td>...</td>\n",
       "      <td>175</td>\n",
       "      <td>172</td>\n",
       "      <td>172</td>\n",
       "      <td>182</td>\n",
       "      <td>199</td>\n",
       "      <td>222</td>\n",
       "      <td>42</td>\n",
       "      <td>0</td>\n",
       "      <td>1</td>\n",
       "      <td>0</td>\n",
       "    </tr>\n",
       "    <tr>\n",
       "      <th>9998</th>\n",
       "      <td>8</td>\n",
       "      <td>0</td>\n",
       "      <td>1</td>\n",
       "      <td>3</td>\n",
       "      <td>0</td>\n",
       "      <td>0</td>\n",
       "      <td>0</td>\n",
       "      <td>0</td>\n",
       "      <td>0</td>\n",
       "      <td>0</td>\n",
       "      <td>...</td>\n",
       "      <td>0</td>\n",
       "      <td>0</td>\n",
       "      <td>0</td>\n",
       "      <td>0</td>\n",
       "      <td>0</td>\n",
       "      <td>1</td>\n",
       "      <td>0</td>\n",
       "      <td>0</td>\n",
       "      <td>0</td>\n",
       "      <td>0</td>\n",
       "    </tr>\n",
       "    <tr>\n",
       "      <th>9999</th>\n",
       "      <td>1</td>\n",
       "      <td>0</td>\n",
       "      <td>0</td>\n",
       "      <td>0</td>\n",
       "      <td>0</td>\n",
       "      <td>0</td>\n",
       "      <td>0</td>\n",
       "      <td>0</td>\n",
       "      <td>140</td>\n",
       "      <td>119</td>\n",
       "      <td>...</td>\n",
       "      <td>111</td>\n",
       "      <td>95</td>\n",
       "      <td>75</td>\n",
       "      <td>44</td>\n",
       "      <td>1</td>\n",
       "      <td>0</td>\n",
       "      <td>0</td>\n",
       "      <td>0</td>\n",
       "      <td>0</td>\n",
       "      <td>0</td>\n",
       "    </tr>\n",
       "  </tbody>\n",
       "</table>\n",
       "<p>10000 rows × 785 columns</p>\n",
       "</div>"
      ],
      "text/plain": [
       "      label  pixel1  pixel2  pixel3  pixel4  pixel5  pixel6  pixel7  pixel8  \\\n",
       "0         0       0       0       0       0       0       0       0       9   \n",
       "1         1       0       0       0       0       0       0       0       0   \n",
       "2         2       0       0       0       0       0       0      14      53   \n",
       "3         2       0       0       0       0       0       0       0       0   \n",
       "4         3       0       0       0       0       0       0       0       0   \n",
       "...     ...     ...     ...     ...     ...     ...     ...     ...     ...   \n",
       "9995      0       0       0       0       0       0       0       0       0   \n",
       "9996      6       0       0       0       0       0       0       0       0   \n",
       "9997      8       0       0       0       0       0       0       0       0   \n",
       "9998      8       0       1       3       0       0       0       0       0   \n",
       "9999      1       0       0       0       0       0       0       0     140   \n",
       "\n",
       "      pixel9  ...  pixel775  pixel776  pixel777  pixel778  pixel779  pixel780  \\\n",
       "0          8  ...       103        87        56         0         0         0   \n",
       "1          0  ...        34         0         0         0         0         0   \n",
       "2         99  ...         0         0         0         0        63        53   \n",
       "3          0  ...       137       126       140         0       133       224   \n",
       "4          0  ...         0         0         0         0         0         0   \n",
       "...      ...  ...       ...       ...       ...       ...       ...       ...   \n",
       "9995       0  ...        32        23        14        20         0         0   \n",
       "9996       0  ...         0         0         0         2        52        23   \n",
       "9997       0  ...       175       172       172       182       199       222   \n",
       "9998       0  ...         0         0         0         0         0         1   \n",
       "9999     119  ...       111        95        75        44         1         0   \n",
       "\n",
       "      pixel781  pixel782  pixel783  pixel784  \n",
       "0            0         0         0         0  \n",
       "1            0         0         0         0  \n",
       "2           31         0         0         0  \n",
       "3          222        56         0         0  \n",
       "4            0         0         0         0  \n",
       "...        ...       ...       ...       ...  \n",
       "9995         1         0         0         0  \n",
       "9996        28         0         0         0  \n",
       "9997        42         0         1         0  \n",
       "9998         0         0         0         0  \n",
       "9999         0         0         0         0  \n",
       "\n",
       "[10000 rows x 785 columns]"
      ]
     },
     "execution_count": 113,
     "metadata": {},
     "output_type": "execute_result"
    }
   ],
   "source": [
    "df"
   ]
  },
  {
   "cell_type": "markdown",
   "id": "72b46e44",
   "metadata": {},
   "source": [
    "맨 위는 lable이다."
   ]
  },
  {
   "cell_type": "code",
   "execution_count": 114,
   "id": "70365f57",
   "metadata": {},
   "outputs": [
    {
     "data": {
      "text/plain": [
       "(10000, 785)"
      ]
     },
     "execution_count": 114,
     "metadata": {},
     "output_type": "execute_result"
    }
   ],
   "source": [
    "df.shape"
   ]
  },
  {
   "cell_type": "code",
   "execution_count": 115,
   "id": "8c40d09d",
   "metadata": {},
   "outputs": [],
   "source": [
    "X = df.iloc[:,1:]\n",
    "y = df.iloc[:,0]"
   ]
  },
  {
   "cell_type": "code",
   "execution_count": 116,
   "id": "186f5f03",
   "metadata": {},
   "outputs": [
    {
     "data": {
      "text/html": [
       "<div>\n",
       "<style scoped>\n",
       "    .dataframe tbody tr th:only-of-type {\n",
       "        vertical-align: middle;\n",
       "    }\n",
       "\n",
       "    .dataframe tbody tr th {\n",
       "        vertical-align: top;\n",
       "    }\n",
       "\n",
       "    .dataframe thead th {\n",
       "        text-align: right;\n",
       "    }\n",
       "</style>\n",
       "<table border=\"1\" class=\"dataframe\">\n",
       "  <thead>\n",
       "    <tr style=\"text-align: right;\">\n",
       "      <th></th>\n",
       "      <th>pixel1</th>\n",
       "      <th>pixel2</th>\n",
       "      <th>pixel3</th>\n",
       "      <th>pixel4</th>\n",
       "      <th>pixel5</th>\n",
       "      <th>pixel6</th>\n",
       "      <th>pixel7</th>\n",
       "      <th>pixel8</th>\n",
       "      <th>pixel9</th>\n",
       "      <th>pixel10</th>\n",
       "      <th>...</th>\n",
       "      <th>pixel775</th>\n",
       "      <th>pixel776</th>\n",
       "      <th>pixel777</th>\n",
       "      <th>pixel778</th>\n",
       "      <th>pixel779</th>\n",
       "      <th>pixel780</th>\n",
       "      <th>pixel781</th>\n",
       "      <th>pixel782</th>\n",
       "      <th>pixel783</th>\n",
       "      <th>pixel784</th>\n",
       "    </tr>\n",
       "  </thead>\n",
       "  <tbody>\n",
       "    <tr>\n",
       "      <th>0</th>\n",
       "      <td>0</td>\n",
       "      <td>0</td>\n",
       "      <td>0</td>\n",
       "      <td>0</td>\n",
       "      <td>0</td>\n",
       "      <td>0</td>\n",
       "      <td>0</td>\n",
       "      <td>9</td>\n",
       "      <td>8</td>\n",
       "      <td>0</td>\n",
       "      <td>...</td>\n",
       "      <td>103</td>\n",
       "      <td>87</td>\n",
       "      <td>56</td>\n",
       "      <td>0</td>\n",
       "      <td>0</td>\n",
       "      <td>0</td>\n",
       "      <td>0</td>\n",
       "      <td>0</td>\n",
       "      <td>0</td>\n",
       "      <td>0</td>\n",
       "    </tr>\n",
       "    <tr>\n",
       "      <th>1</th>\n",
       "      <td>0</td>\n",
       "      <td>0</td>\n",
       "      <td>0</td>\n",
       "      <td>0</td>\n",
       "      <td>0</td>\n",
       "      <td>0</td>\n",
       "      <td>0</td>\n",
       "      <td>0</td>\n",
       "      <td>0</td>\n",
       "      <td>0</td>\n",
       "      <td>...</td>\n",
       "      <td>34</td>\n",
       "      <td>0</td>\n",
       "      <td>0</td>\n",
       "      <td>0</td>\n",
       "      <td>0</td>\n",
       "      <td>0</td>\n",
       "      <td>0</td>\n",
       "      <td>0</td>\n",
       "      <td>0</td>\n",
       "      <td>0</td>\n",
       "    </tr>\n",
       "    <tr>\n",
       "      <th>2</th>\n",
       "      <td>0</td>\n",
       "      <td>0</td>\n",
       "      <td>0</td>\n",
       "      <td>0</td>\n",
       "      <td>0</td>\n",
       "      <td>0</td>\n",
       "      <td>14</td>\n",
       "      <td>53</td>\n",
       "      <td>99</td>\n",
       "      <td>17</td>\n",
       "      <td>...</td>\n",
       "      <td>0</td>\n",
       "      <td>0</td>\n",
       "      <td>0</td>\n",
       "      <td>0</td>\n",
       "      <td>63</td>\n",
       "      <td>53</td>\n",
       "      <td>31</td>\n",
       "      <td>0</td>\n",
       "      <td>0</td>\n",
       "      <td>0</td>\n",
       "    </tr>\n",
       "    <tr>\n",
       "      <th>3</th>\n",
       "      <td>0</td>\n",
       "      <td>0</td>\n",
       "      <td>0</td>\n",
       "      <td>0</td>\n",
       "      <td>0</td>\n",
       "      <td>0</td>\n",
       "      <td>0</td>\n",
       "      <td>0</td>\n",
       "      <td>0</td>\n",
       "      <td>161</td>\n",
       "      <td>...</td>\n",
       "      <td>137</td>\n",
       "      <td>126</td>\n",
       "      <td>140</td>\n",
       "      <td>0</td>\n",
       "      <td>133</td>\n",
       "      <td>224</td>\n",
       "      <td>222</td>\n",
       "      <td>56</td>\n",
       "      <td>0</td>\n",
       "      <td>0</td>\n",
       "    </tr>\n",
       "    <tr>\n",
       "      <th>4</th>\n",
       "      <td>0</td>\n",
       "      <td>0</td>\n",
       "      <td>0</td>\n",
       "      <td>0</td>\n",
       "      <td>0</td>\n",
       "      <td>0</td>\n",
       "      <td>0</td>\n",
       "      <td>0</td>\n",
       "      <td>0</td>\n",
       "      <td>0</td>\n",
       "      <td>...</td>\n",
       "      <td>0</td>\n",
       "      <td>0</td>\n",
       "      <td>0</td>\n",
       "      <td>0</td>\n",
       "      <td>0</td>\n",
       "      <td>0</td>\n",
       "      <td>0</td>\n",
       "      <td>0</td>\n",
       "      <td>0</td>\n",
       "      <td>0</td>\n",
       "    </tr>\n",
       "    <tr>\n",
       "      <th>...</th>\n",
       "      <td>...</td>\n",
       "      <td>...</td>\n",
       "      <td>...</td>\n",
       "      <td>...</td>\n",
       "      <td>...</td>\n",
       "      <td>...</td>\n",
       "      <td>...</td>\n",
       "      <td>...</td>\n",
       "      <td>...</td>\n",
       "      <td>...</td>\n",
       "      <td>...</td>\n",
       "      <td>...</td>\n",
       "      <td>...</td>\n",
       "      <td>...</td>\n",
       "      <td>...</td>\n",
       "      <td>...</td>\n",
       "      <td>...</td>\n",
       "      <td>...</td>\n",
       "      <td>...</td>\n",
       "      <td>...</td>\n",
       "      <td>...</td>\n",
       "    </tr>\n",
       "    <tr>\n",
       "      <th>9995</th>\n",
       "      <td>0</td>\n",
       "      <td>0</td>\n",
       "      <td>0</td>\n",
       "      <td>0</td>\n",
       "      <td>0</td>\n",
       "      <td>0</td>\n",
       "      <td>0</td>\n",
       "      <td>0</td>\n",
       "      <td>0</td>\n",
       "      <td>37</td>\n",
       "      <td>...</td>\n",
       "      <td>32</td>\n",
       "      <td>23</td>\n",
       "      <td>14</td>\n",
       "      <td>20</td>\n",
       "      <td>0</td>\n",
       "      <td>0</td>\n",
       "      <td>1</td>\n",
       "      <td>0</td>\n",
       "      <td>0</td>\n",
       "      <td>0</td>\n",
       "    </tr>\n",
       "    <tr>\n",
       "      <th>9996</th>\n",
       "      <td>0</td>\n",
       "      <td>0</td>\n",
       "      <td>0</td>\n",
       "      <td>0</td>\n",
       "      <td>0</td>\n",
       "      <td>0</td>\n",
       "      <td>0</td>\n",
       "      <td>0</td>\n",
       "      <td>0</td>\n",
       "      <td>0</td>\n",
       "      <td>...</td>\n",
       "      <td>0</td>\n",
       "      <td>0</td>\n",
       "      <td>0</td>\n",
       "      <td>2</td>\n",
       "      <td>52</td>\n",
       "      <td>23</td>\n",
       "      <td>28</td>\n",
       "      <td>0</td>\n",
       "      <td>0</td>\n",
       "      <td>0</td>\n",
       "    </tr>\n",
       "    <tr>\n",
       "      <th>9997</th>\n",
       "      <td>0</td>\n",
       "      <td>0</td>\n",
       "      <td>0</td>\n",
       "      <td>0</td>\n",
       "      <td>0</td>\n",
       "      <td>0</td>\n",
       "      <td>0</td>\n",
       "      <td>0</td>\n",
       "      <td>0</td>\n",
       "      <td>0</td>\n",
       "      <td>...</td>\n",
       "      <td>175</td>\n",
       "      <td>172</td>\n",
       "      <td>172</td>\n",
       "      <td>182</td>\n",
       "      <td>199</td>\n",
       "      <td>222</td>\n",
       "      <td>42</td>\n",
       "      <td>0</td>\n",
       "      <td>1</td>\n",
       "      <td>0</td>\n",
       "    </tr>\n",
       "    <tr>\n",
       "      <th>9998</th>\n",
       "      <td>0</td>\n",
       "      <td>1</td>\n",
       "      <td>3</td>\n",
       "      <td>0</td>\n",
       "      <td>0</td>\n",
       "      <td>0</td>\n",
       "      <td>0</td>\n",
       "      <td>0</td>\n",
       "      <td>0</td>\n",
       "      <td>0</td>\n",
       "      <td>...</td>\n",
       "      <td>0</td>\n",
       "      <td>0</td>\n",
       "      <td>0</td>\n",
       "      <td>0</td>\n",
       "      <td>0</td>\n",
       "      <td>1</td>\n",
       "      <td>0</td>\n",
       "      <td>0</td>\n",
       "      <td>0</td>\n",
       "      <td>0</td>\n",
       "    </tr>\n",
       "    <tr>\n",
       "      <th>9999</th>\n",
       "      <td>0</td>\n",
       "      <td>0</td>\n",
       "      <td>0</td>\n",
       "      <td>0</td>\n",
       "      <td>0</td>\n",
       "      <td>0</td>\n",
       "      <td>0</td>\n",
       "      <td>140</td>\n",
       "      <td>119</td>\n",
       "      <td>103</td>\n",
       "      <td>...</td>\n",
       "      <td>111</td>\n",
       "      <td>95</td>\n",
       "      <td>75</td>\n",
       "      <td>44</td>\n",
       "      <td>1</td>\n",
       "      <td>0</td>\n",
       "      <td>0</td>\n",
       "      <td>0</td>\n",
       "      <td>0</td>\n",
       "      <td>0</td>\n",
       "    </tr>\n",
       "  </tbody>\n",
       "</table>\n",
       "<p>10000 rows × 784 columns</p>\n",
       "</div>"
      ],
      "text/plain": [
       "      pixel1  pixel2  pixel3  pixel4  pixel5  pixel6  pixel7  pixel8  pixel9  \\\n",
       "0          0       0       0       0       0       0       0       9       8   \n",
       "1          0       0       0       0       0       0       0       0       0   \n",
       "2          0       0       0       0       0       0      14      53      99   \n",
       "3          0       0       0       0       0       0       0       0       0   \n",
       "4          0       0       0       0       0       0       0       0       0   \n",
       "...      ...     ...     ...     ...     ...     ...     ...     ...     ...   \n",
       "9995       0       0       0       0       0       0       0       0       0   \n",
       "9996       0       0       0       0       0       0       0       0       0   \n",
       "9997       0       0       0       0       0       0       0       0       0   \n",
       "9998       0       1       3       0       0       0       0       0       0   \n",
       "9999       0       0       0       0       0       0       0     140     119   \n",
       "\n",
       "      pixel10  ...  pixel775  pixel776  pixel777  pixel778  pixel779  \\\n",
       "0           0  ...       103        87        56         0         0   \n",
       "1           0  ...        34         0         0         0         0   \n",
       "2          17  ...         0         0         0         0        63   \n",
       "3         161  ...       137       126       140         0       133   \n",
       "4           0  ...         0         0         0         0         0   \n",
       "...       ...  ...       ...       ...       ...       ...       ...   \n",
       "9995       37  ...        32        23        14        20         0   \n",
       "9996        0  ...         0         0         0         2        52   \n",
       "9997        0  ...       175       172       172       182       199   \n",
       "9998        0  ...         0         0         0         0         0   \n",
       "9999      103  ...       111        95        75        44         1   \n",
       "\n",
       "      pixel780  pixel781  pixel782  pixel783  pixel784  \n",
       "0            0         0         0         0         0  \n",
       "1            0         0         0         0         0  \n",
       "2           53        31         0         0         0  \n",
       "3          224       222        56         0         0  \n",
       "4            0         0         0         0         0  \n",
       "...        ...       ...       ...       ...       ...  \n",
       "9995         0         1         0         0         0  \n",
       "9996        23        28         0         0         0  \n",
       "9997       222        42         0         1         0  \n",
       "9998         1         0         0         0         0  \n",
       "9999         0         0         0         0         0  \n",
       "\n",
       "[10000 rows x 784 columns]"
      ]
     },
     "execution_count": 116,
     "metadata": {},
     "output_type": "execute_result"
    }
   ],
   "source": [
    "X"
   ]
  },
  {
   "cell_type": "code",
   "execution_count": 117,
   "id": "b592a511",
   "metadata": {},
   "outputs": [
    {
     "data": {
      "text/plain": [
       "0       0\n",
       "1       1\n",
       "2       2\n",
       "3       2\n",
       "4       3\n",
       "       ..\n",
       "9995    0\n",
       "9996    6\n",
       "9997    8\n",
       "9998    8\n",
       "9999    1\n",
       "Name: label, Length: 10000, dtype: int64"
      ]
     },
     "execution_count": 117,
     "metadata": {},
     "output_type": "execute_result"
    }
   ],
   "source": [
    "y"
   ]
  },
  {
   "cell_type": "code",
   "execution_count": 118,
   "id": "ef70be41",
   "metadata": {},
   "outputs": [
    {
     "data": {
      "text/plain": [
       "(10000, 784)"
      ]
     },
     "execution_count": 118,
     "metadata": {},
     "output_type": "execute_result"
    }
   ],
   "source": [
    "X.shape"
   ]
  },
  {
   "cell_type": "code",
   "execution_count": 120,
   "id": "27a1157a",
   "metadata": {},
   "outputs": [],
   "source": [
    "nx = int((X.shape[1])**0.5) # 정방형 이미지이기 때문에 루트를 씌웠다."
   ]
  },
  {
   "cell_type": "code",
   "execution_count": 121,
   "id": "b158a0db",
   "metadata": {},
   "outputs": [],
   "source": [
    "X = X.to_numpy()\n",
    "X = X.astype('float32') / 255"
   ]
  },
  {
   "cell_type": "code",
   "execution_count": 122,
   "id": "5a256cb7",
   "metadata": {},
   "outputs": [],
   "source": [
    "import numpy as np\n",
    "X = np.reshape(X, (X.shape[0], nx, nx, 1))"
   ]
  },
  {
   "cell_type": "code",
   "execution_count": null,
   "id": "3db2cb03",
   "metadata": {},
   "outputs": [],
   "source": []
  }
 ],
 "metadata": {
  "kernelspec": {
   "display_name": "Python 3 (ipykernel)",
   "language": "python",
   "name": "python3"
  },
  "language_info": {
   "codemirror_mode": {
    "name": "ipython",
    "version": 3
   },
   "file_extension": ".py",
   "mimetype": "text/x-python",
   "name": "python",
   "nbconvert_exporter": "python",
   "pygments_lexer": "ipython3",
   "version": "3.8.5"
  },
  "toc": {
   "base_numbering": 1,
   "nav_menu": {},
   "number_sections": true,
   "sideBar": true,
   "skip_h1_title": false,
   "title_cell": "Table of Contents",
   "title_sidebar": "Contents",
   "toc_cell": false,
   "toc_position": {},
   "toc_section_display": true,
   "toc_window_display": false
  }
 },
 "nbformat": 4,
 "nbformat_minor": 5
}

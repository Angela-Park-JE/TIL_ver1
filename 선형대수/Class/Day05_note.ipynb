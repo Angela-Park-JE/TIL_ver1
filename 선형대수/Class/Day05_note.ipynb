{
 "cells": [
  {
   "cell_type": "markdown",
   "id": "c9ae8a41",
   "metadata": {},
   "source": [
    "# LU 분해"
   ]
  },
  {
   "cell_type": "markdown",
   "id": "a8fa2a12",
   "metadata": {},
   "source": [
    "## 넘파이 실습"
   ]
  },
  {
   "cell_type": "code",
   "execution_count": 1,
   "id": "c117ca73",
   "metadata": {},
   "outputs": [],
   "source": [
    "import numpy as np\n",
    "from scipy.linalg import lu # lu분해는 scipy 안에 있음"
   ]
  },
  {
   "cell_type": "code",
   "execution_count": 2,
   "id": "4b3f961d",
   "metadata": {},
   "outputs": [],
   "source": [
    "A = np.array([[2,-2,-2],[0,-2,2],[-1,5,2]])"
   ]
  },
  {
   "cell_type": "code",
   "execution_count": 3,
   "id": "68701b76",
   "metadata": {},
   "outputs": [],
   "source": [
    "P, L, U = lu(A)"
   ]
  },
  {
   "cell_type": "code",
   "execution_count": 4,
   "id": "5a80832c",
   "metadata": {},
   "outputs": [
    {
     "data": {
      "text/plain": [
       "array([[1., 0., 0.],\n",
       "       [0., 0., 1.],\n",
       "       [0., 1., 0.]])"
      ]
     },
     "execution_count": 4,
     "metadata": {},
     "output_type": "execute_result"
    }
   ],
   "source": [
    "P"
   ]
  },
  {
   "cell_type": "code",
   "execution_count": 5,
   "id": "b6e30a60",
   "metadata": {},
   "outputs": [
    {
     "data": {
      "text/plain": [
       "array([[ 1. ,  0. ,  0. ],\n",
       "       [-0.5,  1. ,  0. ],\n",
       "       [ 0. , -0.5,  1. ]])"
      ]
     },
     "execution_count": 5,
     "metadata": {},
     "output_type": "execute_result"
    }
   ],
   "source": [
    "L"
   ]
  },
  {
   "cell_type": "code",
   "execution_count": 6,
   "id": "3e2db175",
   "metadata": {},
   "outputs": [
    {
     "data": {
      "text/plain": [
       "array([[ 2. , -2. , -2. ],\n",
       "       [ 0. ,  4. ,  1. ],\n",
       "       [ 0. ,  0. ,  2.5]])"
      ]
     },
     "execution_count": 6,
     "metadata": {},
     "output_type": "execute_result"
    }
   ],
   "source": [
    "U"
   ]
  },
  {
   "cell_type": "code",
   "execution_count": 7,
   "id": "2f58e72a",
   "metadata": {},
   "outputs": [
    {
     "data": {
      "text/plain": [
       "array([[ 2., -2., -2.],\n",
       "       [-1.,  5.,  2.],\n",
       "       [ 0., -2.,  2.]])"
      ]
     },
     "execution_count": 7,
     "metadata": {},
     "output_type": "execute_result"
    }
   ],
   "source": [
    "# A = LU 확인\n",
    "\n",
    "L@U"
   ]
  },
  {
   "cell_type": "markdown",
   "id": "ec66b366",
   "metadata": {},
   "source": [
    "L@U가 P에 의해서 행의 순서가 바뀐 것이 반영되서 나온다."
   ]
  },
  {
   "cell_type": "markdown",
   "id": "97c857b1",
   "metadata": {},
   "source": [
    "# 텐서 실습\n",
    "\n",
    "### 각 원소에 접근하기"
   ]
  },
  {
   "cell_type": "code",
   "execution_count": 10,
   "id": "1ffa3630",
   "metadata": {},
   "outputs": [],
   "source": [
    "# 벡터 : 리스트 한 겹\n",
    "# 각 원소에 접근할 때 대괄호도 하나\n",
    "x = [1, 2]"
   ]
  },
  {
   "cell_type": "code",
   "execution_count": 11,
   "id": "f2277139",
   "metadata": {},
   "outputs": [
    {
     "data": {
      "text/plain": [
       "1"
      ]
     },
     "execution_count": 11,
     "metadata": {},
     "output_type": "execute_result"
    }
   ],
   "source": [
    "x[0]"
   ]
  },
  {
   "cell_type": "code",
   "execution_count": 12,
   "id": "2c0ad131",
   "metadata": {},
   "outputs": [
    {
     "data": {
      "text/plain": [
       "2"
      ]
     },
     "execution_count": 12,
     "metadata": {},
     "output_type": "execute_result"
    }
   ],
   "source": [
    "x[1]"
   ]
  },
  {
   "cell_type": "code",
   "execution_count": 8,
   "id": "49704fb1",
   "metadata": {},
   "outputs": [],
   "source": [
    "# 행렬 : 리스트 두 겹\n",
    "# 각 원소에 접근할 때 대괄호가 둘\n",
    "A = [[1, 2], [3, 4]]"
   ]
  },
  {
   "cell_type": "code",
   "execution_count": 13,
   "id": "d4cc35bc",
   "metadata": {},
   "outputs": [
    {
     "data": {
      "text/plain": [
       "1"
      ]
     },
     "execution_count": 13,
     "metadata": {},
     "output_type": "execute_result"
    }
   ],
   "source": [
    "A[0][0]"
   ]
  },
  {
   "cell_type": "code",
   "execution_count": 14,
   "id": "c21e26a1",
   "metadata": {},
   "outputs": [
    {
     "data": {
      "text/plain": [
       "2"
      ]
     },
     "execution_count": 14,
     "metadata": {},
     "output_type": "execute_result"
    }
   ],
   "source": [
    "A[0][1]"
   ]
  },
  {
   "cell_type": "code",
   "execution_count": 15,
   "id": "7f25c04c",
   "metadata": {},
   "outputs": [
    {
     "data": {
      "text/plain": [
       "3"
      ]
     },
     "execution_count": 15,
     "metadata": {},
     "output_type": "execute_result"
    }
   ],
   "source": [
    "A[1][0]"
   ]
  },
  {
   "cell_type": "code",
   "execution_count": 16,
   "id": "abb1d01c",
   "metadata": {},
   "outputs": [
    {
     "data": {
      "text/plain": [
       "4"
      ]
     },
     "execution_count": 16,
     "metadata": {},
     "output_type": "execute_result"
    }
   ],
   "source": [
    "A[1][1]"
   ]
  },
  {
   "cell_type": "markdown",
   "id": "175034fe",
   "metadata": {},
   "source": [
    "### 텐서 만들기"
   ]
  },
  {
   "cell_type": "code",
   "execution_count": 19,
   "id": "4a7452f0",
   "metadata": {},
   "outputs": [],
   "source": [
    "# 텐서 : 리스트가 세 겹\n",
    "T = [[[1, 2],[3, 4]], [[5, 6], [7, 8]]]"
   ]
  },
  {
   "cell_type": "markdown",
   "id": "9e9970d1",
   "metadata": {},
   "source": [
    "채널 번수가 맨 앞으로 온다는 것을 기억해야 한다."
   ]
  },
  {
   "cell_type": "code",
   "execution_count": 20,
   "id": "74751ddf",
   "metadata": {},
   "outputs": [
    {
     "data": {
      "text/plain": [
       "1"
      ]
     },
     "execution_count": 20,
     "metadata": {},
     "output_type": "execute_result"
    }
   ],
   "source": [
    "T[0][0][0]"
   ]
  },
  {
   "cell_type": "code",
   "execution_count": 21,
   "id": "e6cf4b23",
   "metadata": {},
   "outputs": [
    {
     "data": {
      "text/plain": [
       "2"
      ]
     },
     "execution_count": 21,
     "metadata": {},
     "output_type": "execute_result"
    }
   ],
   "source": [
    "T[0][0][1]"
   ]
  },
  {
   "cell_type": "code",
   "execution_count": 22,
   "id": "4d0aeb9d",
   "metadata": {},
   "outputs": [
    {
     "data": {
      "text/plain": [
       "3"
      ]
     },
     "execution_count": 22,
     "metadata": {},
     "output_type": "execute_result"
    }
   ],
   "source": [
    "T[0][1][0]"
   ]
  },
  {
   "cell_type": "code",
   "execution_count": 23,
   "id": "6420f7d9",
   "metadata": {},
   "outputs": [
    {
     "data": {
      "text/plain": [
       "4"
      ]
     },
     "execution_count": 23,
     "metadata": {},
     "output_type": "execute_result"
    }
   ],
   "source": [
    "T[0][1][1]"
   ]
  },
  {
   "cell_type": "code",
   "execution_count": 24,
   "id": "830a712a",
   "metadata": {},
   "outputs": [
    {
     "data": {
      "text/plain": [
       "5"
      ]
     },
     "execution_count": 24,
     "metadata": {},
     "output_type": "execute_result"
    }
   ],
   "source": [
    "T[1][0][0]"
   ]
  },
  {
   "cell_type": "code",
   "execution_count": 25,
   "id": "e8bfbb40",
   "metadata": {},
   "outputs": [
    {
     "data": {
      "text/plain": [
       "6"
      ]
     },
     "execution_count": 25,
     "metadata": {},
     "output_type": "execute_result"
    }
   ],
   "source": [
    "T[1][0][1]"
   ]
  },
  {
   "cell_type": "code",
   "execution_count": 26,
   "id": "6151f9eb",
   "metadata": {},
   "outputs": [
    {
     "data": {
      "text/plain": [
       "7"
      ]
     },
     "execution_count": 26,
     "metadata": {},
     "output_type": "execute_result"
    }
   ],
   "source": [
    "T[1][1][0]"
   ]
  },
  {
   "cell_type": "code",
   "execution_count": 27,
   "id": "d58d8378",
   "metadata": {},
   "outputs": [
    {
     "data": {
      "text/plain": [
       "8"
      ]
     },
     "execution_count": 27,
     "metadata": {},
     "output_type": "execute_result"
    }
   ],
   "source": [
    "T[1][1][1]"
   ]
  },
  {
   "cell_type": "markdown",
   "id": "08ecb108",
   "metadata": {},
   "source": [
    "## 텐서의 노름 구하기"
   ]
  },
  {
   "cell_type": "code",
   "execution_count": 28,
   "id": "1c4c3510",
   "metadata": {},
   "outputs": [],
   "source": [
    "A = [ [[1,0,1,0], [2,1,0,1], [3,4,0,2]],\n",
    "      [[3,1,2,0], [1,0,4,2], [0,1,0,2]]  ]"
   ]
  },
  {
   "cell_type": "code",
   "execution_count": 29,
   "id": "baa9f8a6",
   "metadata": {},
   "outputs": [
    {
     "name": "stdout",
     "output_type": "stream",
     "text": [
      "[[[1, 0, 1, 0], [2, 1, 0, 1], [3, 4, 0, 2]], [[3, 1, 2, 0], [1, 0, 4, 2], [0, 1, 0, 2]]]\n"
     ]
    }
   ],
   "source": [
    "print(A)"
   ]
  },
  {
   "cell_type": "code",
   "execution_count": 32,
   "id": "64735f45",
   "metadata": {},
   "outputs": [],
   "source": [
    "n = len(A[0])    # 열 벡터의 개수\n",
    "p = len(A[0][0]) # 행 벡터의 개수\n",
    "q = len(A)       # 행렬이 몇 개"
   ]
  },
  {
   "cell_type": "code",
   "execution_count": 33,
   "id": "eba02f45",
   "metadata": {},
   "outputs": [
    {
     "name": "stdout",
     "output_type": "stream",
     "text": [
      "3 4 2\n"
     ]
    }
   ],
   "source": [
    "print(n, p, q)"
   ]
  },
  {
   "cell_type": "code",
   "execution_count": 35,
   "id": "a547059d",
   "metadata": {},
   "outputs": [],
   "source": [
    "norm = 0\n",
    "for i in range(0, n):\n",
    "    for j in range(0, p):\n",
    "        for k in range(0, q):\n",
    "            norm += A[k][i][j]**2\n",
    "\n",
    "norm = norm**0.5"
   ]
  },
  {
   "cell_type": "code",
   "execution_count": 37,
   "id": "46754811",
   "metadata": {},
   "outputs": [
    {
     "name": "stdout",
     "output_type": "stream",
     "text": [
      "8.774964387392123\n"
     ]
    }
   ],
   "source": [
    "print(norm)"
   ]
  },
  {
   "cell_type": "markdown",
   "id": "76889ea2",
   "metadata": {},
   "source": [
    "## 텐서의 내적 구하기\n",
    "\n",
    "채널번호가 가장 앞에 오는거 까먹지 말기"
   ]
  },
  {
   "cell_type": "markdown",
   "id": "447e05e1",
   "metadata": {},
   "source": [
    "### 파이썬으로 하기"
   ]
  },
  {
   "cell_type": "code",
   "execution_count": 38,
   "id": "b3ee8fdc",
   "metadata": {},
   "outputs": [],
   "source": [
    "A = [ [[1,0,1,0], [2,1,0,1], [3,4,0,2]],\n",
    "      [[3,1,2,0], [1,0,4,2], [0,1,0,2]]  ]\n",
    "B = [ [[2,1,3,1], [0,2,1,3], [1,0,1,1]],\n",
    "      [[1,2,3,1], [3,1,0,3], [0,2,3,1]]  ]"
   ]
  },
  {
   "cell_type": "code",
   "execution_count": 39,
   "id": "045c0b62",
   "metadata": {},
   "outputs": [],
   "source": [
    "n = len(A[0])\n",
    "p = len(A[0][0])\n",
    "q = len(A)"
   ]
  },
  {
   "cell_type": "code",
   "execution_count": 41,
   "id": "9677e123",
   "metadata": {},
   "outputs": [],
   "source": [
    "inner_product = 0\n",
    "for i in range(0, n):\n",
    "    for j in range(0, p):\n",
    "        for k in range(0, q):\n",
    "            inner_product += A[k][i][j] * B[k][i][j]"
   ]
  },
  {
   "cell_type": "code",
   "execution_count": 42,
   "id": "2e434ac3",
   "metadata": {},
   "outputs": [
    {
     "name": "stdout",
     "output_type": "stream",
     "text": [
      "39\n"
     ]
    }
   ],
   "source": [
    "print(inner_product)"
   ]
  },
  {
   "cell_type": "markdown",
   "id": "4e3f625c",
   "metadata": {},
   "source": [
    "### 넘파이로 하기"
   ]
  },
  {
   "cell_type": "code",
   "execution_count": 43,
   "id": "3cfa5f84",
   "metadata": {},
   "outputs": [],
   "source": [
    "import numpy as np\n",
    "\n",
    "# 넣는 것 array로 안하고 리스트로 바로 넣어도 값은 같게 나올 수 있다."
   ]
  },
  {
   "cell_type": "code",
   "execution_count": 44,
   "id": "a40a6a7f",
   "metadata": {},
   "outputs": [],
   "source": [
    "A = np.array([ [[1,0,1,0], [2,1,0,1], [3,4,0,2]],\n",
    "               [[3,1,2,0], [1,0,4,2], [0,1,0,2]]  ])\n",
    "B = np.array([ [[2,1,3,1], [0,2,1,3], [1,0,1,1]],\n",
    "               [[1,2,3,1], [3,1,0,3], [0,2,3,1]]  ])"
   ]
  },
  {
   "cell_type": "code",
   "execution_count": 45,
   "id": "ef98dc92",
   "metadata": {},
   "outputs": [],
   "source": [
    "C = np.multiply(A, B)"
   ]
  },
  {
   "cell_type": "code",
   "execution_count": 46,
   "id": "d3e59295",
   "metadata": {},
   "outputs": [
    {
     "name": "stdout",
     "output_type": "stream",
     "text": [
      "[[[2 0 3 0]\n",
      "  [0 2 0 3]\n",
      "  [3 0 0 2]]\n",
      "\n",
      " [[3 2 6 0]\n",
      "  [3 0 0 6]\n",
      "  [0 2 0 2]]]\n"
     ]
    }
   ],
   "source": [
    "print(C)"
   ]
  },
  {
   "cell_type": "code",
   "execution_count": 48,
   "id": "eef9bf00",
   "metadata": {},
   "outputs": [
    {
     "name": "stdout",
     "output_type": "stream",
     "text": [
      "39\n"
     ]
    }
   ],
   "source": [
    "inner_product = np.sum(C)\n",
    "print(inner_product)"
   ]
  },
  {
   "cell_type": "markdown",
   "id": "7bd04f86",
   "metadata": {},
   "source": [
    "간단한 행렬을 했지만, 실제 데이터로 하게되면 개념을 모르면 건드리기 힘들어진다."
   ]
  },
  {
   "cell_type": "markdown",
   "id": "235f6e47",
   "metadata": {},
   "source": [
    "# 유용한 함수 알아보기"
   ]
  },
  {
   "cell_type": "markdown",
   "id": "f350cd22",
   "metadata": {},
   "source": [
    "## np.reshape\n",
    "\n",
    "텐서를 자유롭게 변환하는 것이 쉬워져야 한다. 이때 사용하기 좋은 함수이다."
   ]
  },
  {
   "cell_type": "code",
   "execution_count": 49,
   "id": "a1450766",
   "metadata": {},
   "outputs": [
    {
     "name": "stdout",
     "output_type": "stream",
     "text": [
      "[1 2 3 4 5 6 7 8]\n"
     ]
    }
   ],
   "source": [
    "import numpy as np\n",
    "\n",
    "A = np.array([1,2,3,4,5,6,7,8])\n",
    "print(A)"
   ]
  },
  {
   "cell_type": "code",
   "execution_count": 51,
   "id": "28566e82",
   "metadata": {},
   "outputs": [
    {
     "data": {
      "text/plain": [
       "(8,)"
      ]
     },
     "execution_count": 51,
     "metadata": {},
     "output_type": "execute_result"
    }
   ],
   "source": [
    "A.shape"
   ]
  },
  {
   "cell_type": "code",
   "execution_count": 50,
   "id": "3d927afc",
   "metadata": {},
   "outputs": [
    {
     "name": "stdout",
     "output_type": "stream",
     "text": [
      "[[1]\n",
      " [2]\n",
      " [3]\n",
      " [4]\n",
      " [5]\n",
      " [6]\n",
      " [7]\n",
      " [8]]\n"
     ]
    }
   ],
   "source": [
    "A1 = A.reshape(8, 1) # 8행 1열로 만들기\n",
    "print(A1)"
   ]
  },
  {
   "cell_type": "code",
   "execution_count": 52,
   "id": "9341c64e",
   "metadata": {},
   "outputs": [
    {
     "data": {
      "text/plain": [
       "(8, 1)"
      ]
     },
     "execution_count": 52,
     "metadata": {},
     "output_type": "execute_result"
    }
   ],
   "source": [
    "A1.shape"
   ]
  },
  {
   "cell_type": "markdown",
   "id": "799276e3",
   "metadata": {},
   "source": [
    "행 벡터는 리스트 하나로 표현되었지만, 열 벡터는 리스트 여러개로 표현되었다.\n",
    "\n",
    "파이썬은 행 기준이다 보니까 1행 8열은 리스트 하나로 표현되지만 8열 1행은 여러 리스트로 될 수 밖에 없다. \n",
    "\n",
    "수행을 하다가 리스트가 여러개로 나올 경우 이런 상황을 떠올리면 된다."
   ]
  },
  {
   "cell_type": "code",
   "execution_count": 53,
   "id": "f3f6a26a",
   "metadata": {},
   "outputs": [
    {
     "name": "stdout",
     "output_type": "stream",
     "text": [
      "[[1 2 3 4]\n",
      " [5 6 7 8]]\n"
     ]
    }
   ],
   "source": [
    "# 2행 4열로 만들기 1\n",
    "\n",
    "A2 = A.reshape(2, 4)\n",
    "print(A2)"
   ]
  },
  {
   "cell_type": "code",
   "execution_count": 54,
   "id": "52c51f0e",
   "metadata": {},
   "outputs": [
    {
     "data": {
      "text/plain": [
       "(2, 4)"
      ]
     },
     "execution_count": 54,
     "metadata": {},
     "output_type": "execute_result"
    }
   ],
   "source": [
    "A2.shape"
   ]
  },
  {
   "cell_type": "code",
   "execution_count": 56,
   "id": "93b60416",
   "metadata": {},
   "outputs": [],
   "source": [
    "# 2행 4열로 만들기 2\n",
    "\n",
    "A3 = np.reshape(A, (2,4))"
   ]
  },
  {
   "cell_type": "code",
   "execution_count": 57,
   "id": "042a2eb1",
   "metadata": {},
   "outputs": [
    {
     "name": "stdout",
     "output_type": "stream",
     "text": [
      "[[1 2 3 4]\n",
      " [5 6 7 8]]\n"
     ]
    }
   ],
   "source": [
    "print(A3)"
   ]
  },
  {
   "cell_type": "markdown",
   "id": "1b4484aa",
   "metadata": {},
   "source": [
    "### 행이나 열 파라미터에 -1 는 알아서하라는 와일드카드와 비슷하다."
   ]
  },
  {
   "cell_type": "code",
   "execution_count": 59,
   "id": "fc6c550f",
   "metadata": {},
   "outputs": [
    {
     "name": "stdout",
     "output_type": "stream",
     "text": [
      "[[1 2 3 4]\n",
      " [5 6 7 8]]\n"
     ]
    }
   ],
   "source": [
    "A4 = A.reshape(-1, 4)\n",
    "print(A4)"
   ]
  },
  {
   "cell_type": "code",
   "execution_count": 61,
   "id": "1433559f",
   "metadata": {},
   "outputs": [
    {
     "name": "stdout",
     "output_type": "stream",
     "text": [
      "[[1 2 3 4]\n",
      " [5 6 7 8]]\n"
     ]
    }
   ],
   "source": [
    "A5 = np.reshape(A, (2, -1))\n",
    "print(A5)"
   ]
  },
  {
   "cell_type": "markdown",
   "id": "811aa936",
   "metadata": {},
   "source": [
    "### 그럼 그냥 -1을 넣어버리면?\n",
    "\n",
    "이렇게 된다. \n",
    "\n",
    "가장 많이 쓰인다. 행과 열 입력값 두개를 넣어야 하는데, -1 하나만 넣을 떄가 있다.\n",
    "\n",
    "행 벡터로, 하나의 행열을 한 줄로 바꿔버리는 것이다."
   ]
  },
  {
   "cell_type": "code",
   "execution_count": 62,
   "id": "9c74971e",
   "metadata": {},
   "outputs": [
    {
     "name": "stdout",
     "output_type": "stream",
     "text": [
      "[1 2 3 4 5 6 7 8]\n"
     ]
    }
   ],
   "source": [
    "A6 = A5.reshape(-1)\n",
    "print(A6)"
   ]
  },
  {
   "cell_type": "markdown",
   "id": "b7208ef6",
   "metadata": {},
   "source": [
    "### "
   ]
  },
  {
   "cell_type": "code",
   "execution_count": 63,
   "id": "0a974142",
   "metadata": {},
   "outputs": [
    {
     "name": "stdout",
     "output_type": "stream",
     "text": [
      "[[1 2]\n",
      " [3 4]\n",
      " [5 6]\n",
      " [7 8]]\n"
     ]
    }
   ],
   "source": [
    "A7 = A.reshape(4, 2)\n",
    "print(A7)"
   ]
  },
  {
   "cell_type": "markdown",
   "id": "48d2de42",
   "metadata": {},
   "source": [
    "### 행렬을 텐서로 만들려면\n",
    "\n",
    "파라미터 세 개가 되는데, 맨 앞이 채널수가 되고, 다음이 행, 열 개수가 된다."
   ]
  },
  {
   "cell_type": "code",
   "execution_count": 64,
   "id": "1eb67e4c",
   "metadata": {},
   "outputs": [],
   "source": [
    "B = np.array([[1, 4, 7, 10], [2, 5, 8, 11], [3, 6, 9, 12], \n",
    "              [13, 16, 19, 22], [14, 17, 20, 23], [15, 18, 21, 24]])"
   ]
  },
  {
   "cell_type": "code",
   "execution_count": 65,
   "id": "2f871c08",
   "metadata": {},
   "outputs": [
    {
     "name": "stdout",
     "output_type": "stream",
     "text": [
      "[[ 1  4  7 10]\n",
      " [ 2  5  8 11]\n",
      " [ 3  6  9 12]\n",
      " [13 16 19 22]\n",
      " [14 17 20 23]\n",
      " [15 18 21 24]]\n"
     ]
    }
   ],
   "source": [
    "print(B)"
   ]
  },
  {
   "cell_type": "code",
   "execution_count": 67,
   "id": "09e8a2be",
   "metadata": {},
   "outputs": [
    {
     "name": "stdout",
     "output_type": "stream",
     "text": [
      "[[[ 1  4  7 10]\n",
      "  [ 2  5  8 11]\n",
      "  [ 3  6  9 12]]\n",
      "\n",
      " [[13 16 19 22]\n",
      "  [14 17 20 23]\n",
      "  [15 18 21 24]]]\n"
     ]
    }
   ],
   "source": [
    "# (차원개수, 행 개수, 열 개수)\n",
    "\n",
    "B1 = B.reshape(2, 3, 4)\n",
    "print(B1)"
   ]
  },
  {
   "cell_type": "code",
   "execution_count": null,
   "id": "f89c8c72",
   "metadata": {},
   "outputs": [],
   "source": []
  }
 ],
 "metadata": {
  "kernelspec": {
   "display_name": "Python 3 (ipykernel)",
   "language": "python",
   "name": "python3"
  },
  "language_info": {
   "codemirror_mode": {
    "name": "ipython",
    "version": 3
   },
   "file_extension": ".py",
   "mimetype": "text/x-python",
   "name": "python",
   "nbconvert_exporter": "python",
   "pygments_lexer": "ipython3",
   "version": "3.8.5"
  },
  "toc": {
   "base_numbering": 1,
   "nav_menu": {},
   "number_sections": true,
   "sideBar": true,
   "skip_h1_title": false,
   "title_cell": "Table of Contents",
   "title_sidebar": "Contents",
   "toc_cell": false,
   "toc_position": {},
   "toc_section_display": true,
   "toc_window_display": false
  }
 },
 "nbformat": 4,
 "nbformat_minor": 5
}

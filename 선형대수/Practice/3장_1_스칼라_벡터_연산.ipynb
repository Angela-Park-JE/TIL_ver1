{
 "cells": [
  {
   "cell_type": "markdown",
   "id": "37d5096e",
   "metadata": {},
   "source": [
    "# 스칼라 연산"
   ]
  },
  {
   "cell_type": "code",
   "execution_count": 1,
   "id": "1490a11e",
   "metadata": {},
   "outputs": [
    {
     "name": "stdout",
     "output_type": "stream",
     "text": [
      "5\n"
     ]
    }
   ],
   "source": [
    "x = 2\n",
    "y = 3\n",
    "\n",
    "z = x + y\n",
    "\n",
    "print(z)"
   ]
  },
  {
   "cell_type": "code",
   "execution_count": 2,
   "id": "ef6399ec",
   "metadata": {},
   "outputs": [
    {
     "name": "stdout",
     "output_type": "stream",
     "text": [
      "4\n"
     ]
    }
   ],
   "source": [
    "x = 5\n",
    "y = 1\n",
    "\n",
    "z = x - y\n",
    "\n",
    "print(z)"
   ]
  },
  {
   "cell_type": "code",
   "execution_count": 3,
   "id": "2c3d5525",
   "metadata": {},
   "outputs": [
    {
     "name": "stdout",
     "output_type": "stream",
     "text": [
      "12\n"
     ]
    }
   ],
   "source": [
    "x = 6\n",
    "y = 2\n",
    "\n",
    "z = x * y\n",
    "\n",
    "print(z)"
   ]
  },
  {
   "cell_type": "code",
   "execution_count": 4,
   "id": "4aa0f0bc",
   "metadata": {},
   "outputs": [
    {
     "name": "stdout",
     "output_type": "stream",
     "text": [
      "3.0\n"
     ]
    }
   ],
   "source": [
    "x = 6\n",
    "y = 2\n",
    "\n",
    "z = x / y\n",
    "\n",
    "print(z)"
   ]
  },
  {
   "cell_type": "markdown",
   "id": "2657fd31",
   "metadata": {},
   "source": [
    "# 벡터의 연산"
   ]
  },
  {
   "cell_type": "markdown",
   "id": "686b0ffc",
   "metadata": {},
   "source": [
    "## 벡터의 덧셈\n",
    "\n",
    "벡터의 덧셈은 더하고자 하는 두 벡터의 크기가 동일할 때만 연산이 가능하다. ()3차원 공간상의 벡터와 4차원 공간상 벡터는 덧셈이 불가하다.)\n",
    "\n",
    "더하고자 하는 벡터를 구성하는 스칼라의 개수가 같아야 한다.\n",
    "\n",
    "벡터의 덧셈은 교환 법칙이 성립한다. \n",
    "\n",
    "벡터의 덧셈 결과는 벡터의 시작 지점으로부터 평행사변형의 대각선을 구성하는 벡터이다."
   ]
  },
  {
   "cell_type": "code",
   "execution_count": 5,
   "id": "dc297197",
   "metadata": {},
   "outputs": [],
   "source": [
    "u = [1, 2, 3]\n",
    "v = [4, 5, 6]\n",
    "\n",
    "n = len(u)\n",
    "w = []\n",
    "\n",
    "for i in range(0,n):\n",
    "    val = u[i] + v[i]\n",
    "    w.append(val)"
   ]
  },
  {
   "cell_type": "code",
   "execution_count": 6,
   "id": "e052eb20",
   "metadata": {},
   "outputs": [
    {
     "name": "stdout",
     "output_type": "stream",
     "text": [
      "[5, 7, 9]\n"
     ]
    }
   ],
   "source": [
    "print(w)"
   ]
  },
  {
   "cell_type": "markdown",
   "id": "b4d75640",
   "metadata": {},
   "source": [
    "함수로 정의하면 이와 같다."
   ]
  },
  {
   "cell_type": "code",
   "execution_count": 7,
   "id": "d70df3b2",
   "metadata": {},
   "outputs": [],
   "source": [
    "def v_add(u, v):\n",
    "    \"\"\"\n",
    "    벡터의 덧셈\n",
    "    입력갑: 더하고자 하는 벡터 u, v\n",
    "    출력값: 벡터 u, v의 덧셈 결과 w\n",
    "    \"\"\"\n",
    "    n = len(u)\n",
    "    w = []\n",
    "\n",
    "    for i in range(0,n):\n",
    "        val = u[i] + v[i]\n",
    "        w.append(val)\n",
    "    \n",
    "    return w"
   ]
  },
  {
   "cell_type": "code",
   "execution_count": 8,
   "id": "eb7eb94f",
   "metadata": {},
   "outputs": [
    {
     "data": {
      "text/plain": [
       "[5, 7, 9]"
      ]
     },
     "execution_count": 8,
     "metadata": {},
     "output_type": "execute_result"
    }
   ],
   "source": [
    "u = [1, 2, 3]\n",
    "v = [4, 5, 6]\n",
    "\n",
    "v_add(u, v)"
   ]
  },
  {
   "cell_type": "markdown",
   "id": "7c4cbd34",
   "metadata": {},
   "source": [
    "이를 넘파이로 수행하면 이와 같다."
   ]
  },
  {
   "cell_type": "code",
   "execution_count": 27,
   "id": "f676d03e",
   "metadata": {},
   "outputs": [],
   "source": [
    "import numpy as np\n",
    "\n",
    "u = np.array([1, 2, 3])\n",
    "v = np.array([4, 5, 6])\n",
    "\n",
    "w = u + v"
   ]
  },
  {
   "cell_type": "code",
   "execution_count": 28,
   "id": "e97f46f2",
   "metadata": {},
   "outputs": [
    {
     "name": "stdout",
     "output_type": "stream",
     "text": [
      "[5 7 9]\n"
     ]
    }
   ],
   "source": [
    "print(w)"
   ]
  },
  {
   "cell_type": "code",
   "execution_count": 29,
   "id": "960a34b2",
   "metadata": {},
   "outputs": [
    {
     "data": {
      "text/plain": [
       "numpy.ndarray"
      ]
     },
     "execution_count": 29,
     "metadata": {},
     "output_type": "execute_result"
    }
   ],
   "source": [
    "# 이때 w의 속성을 확인하면 ?\n",
    "\n",
    "type(w)"
   ]
  },
  {
   "cell_type": "markdown",
   "id": "e266d934",
   "metadata": {},
   "source": [
    "## 벡터의 뺄셈\n",
    "\n",
    "벡터의 뺄셈은 덧셈과 마찬가지로 연산하고자 하는 두 벡터를 구성하는 스칼라의 개수가 동일할 때만 연산이 가능해진다.\n",
    "\n",
    "벡터 a에서 벡터 b를 빼는 것을, -b 벡터를 더한다고 생각할 수도 있다. \n",
    "\n",
    "벡터는 위치에 영향을 받지 않는 다는 점을 이용한다. "
   ]
  },
  {
   "cell_type": "code",
   "execution_count": 10,
   "id": "9e1b1182",
   "metadata": {},
   "outputs": [],
   "source": [
    "u = [7, 3, 9]\n",
    "v = [2, 5, 7]\n",
    "\n",
    "n = len(u)\n",
    "w = []\n",
    "\n",
    "for i in range(0,n):\n",
    "    val = u[i] - v[i]\n",
    "    w.append(val)"
   ]
  },
  {
   "cell_type": "code",
   "execution_count": 11,
   "id": "447716cb",
   "metadata": {},
   "outputs": [
    {
     "name": "stdout",
     "output_type": "stream",
     "text": [
      "[5, -2, 2]\n"
     ]
    }
   ],
   "source": [
    "print(w)"
   ]
  },
  {
   "cell_type": "markdown",
   "id": "e724ee28",
   "metadata": {},
   "source": [
    "이를 함수로 정의하면 이와 같다."
   ]
  },
  {
   "cell_type": "code",
   "execution_count": 12,
   "id": "9ea785af",
   "metadata": {},
   "outputs": [],
   "source": [
    "def v_substract(u, v):\n",
    "    \"\"\"\n",
    "    벡터의 뺄셈\n",
    "    입력값: 빼고자 하는 벡터 리스트 u, v\n",
    "    출력값: 벡터 u, v의 뺄셈 결과 w\n",
    "    \"\"\"\n",
    "    \n",
    "    len(u)\n",
    "    w = []\n",
    "    \n",
    "    for i in range(0, n):\n",
    "        val = u[i] - v[i]\n",
    "        w.append(val)\n",
    "    \n",
    "    return w"
   ]
  },
  {
   "cell_type": "code",
   "execution_count": 13,
   "id": "df4db3ff",
   "metadata": {},
   "outputs": [
    {
     "data": {
      "text/plain": [
       "[5, -2, 2]"
      ]
     },
     "execution_count": 13,
     "metadata": {},
     "output_type": "execute_result"
    }
   ],
   "source": [
    "u = [7, 3, 9]\n",
    "v = [2, 5, 7]\n",
    "v_substract(u, v)"
   ]
  },
  {
   "cell_type": "markdown",
   "id": "121fe0a3",
   "metadata": {},
   "source": [
    "이를 넘파이로 수행하면 이와 같다."
   ]
  },
  {
   "cell_type": "code",
   "execution_count": 30,
   "id": "bba14e4f",
   "metadata": {},
   "outputs": [],
   "source": [
    "import numpy as np\n",
    "\n",
    "u = np.array([7, 3, 9])\n",
    "v = np.array([2, 5, 7])\n",
    "\n",
    "w = u - v"
   ]
  },
  {
   "cell_type": "code",
   "execution_count": 31,
   "id": "f6b4e6d8",
   "metadata": {},
   "outputs": [
    {
     "name": "stdout",
     "output_type": "stream",
     "text": [
      "[ 5 -2  2]\n"
     ]
    }
   ],
   "source": [
    "print(w)"
   ]
  },
  {
   "cell_type": "markdown",
   "id": "e02095ac",
   "metadata": {},
   "source": [
    "## 벡터의 곱셈\n",
    "\n",
    "### 벡터의 스칼라의 곱\n",
    "\n",
    "벡터의 스칼라 곱을 이용하면 벡터의 길이와 방향을 바꿀 수 있다. 벡터의 스칼라 곱은 벡터의 크기와 방향에 영향을 미친다."
   ]
  },
  {
   "cell_type": "code",
   "execution_count": 14,
   "id": "ecbc3a93",
   "metadata": {},
   "outputs": [],
   "source": [
    "u = [2, 4, 3]\n",
    "a = 3\n",
    "\n",
    "n = len(u)\n",
    "w = []\n",
    "\n",
    "for i in range(0, n):\n",
    "    val = a * u[i]\n",
    "    w.append(val)\n"
   ]
  },
  {
   "cell_type": "code",
   "execution_count": 15,
   "id": "2e80cb37",
   "metadata": {},
   "outputs": [
    {
     "name": "stdout",
     "output_type": "stream",
     "text": [
      "[6, 12, 9]\n"
     ]
    }
   ],
   "source": [
    "print(w)"
   ]
  },
  {
   "cell_type": "markdown",
   "id": "0c38de3b",
   "metadata": {},
   "source": [
    "이를 함수로 정의하면 이와 같다."
   ]
  },
  {
   "cell_type": "code",
   "execution_count": 16,
   "id": "1e77d2ac",
   "metadata": {},
   "outputs": [],
   "source": [
    "def scalar_v_mul(a, u):\n",
    "    \"\"\"\n",
    "    벡터의 스칼라 곱\n",
    "    입력값: 스칼라 a, 벡터 리스트 u\n",
    "    출력값: 스칼라 a와 벡터 리스트 u의 곱 결과\n",
    "    \"\"\"\n",
    "    n = len(u)\n",
    "    w = []\n",
    "    \n",
    "    for i in range(0, n):\n",
    "        val = a * u[i]\n",
    "        w.append(val)\n",
    "    \n",
    "    return w"
   ]
  },
  {
   "cell_type": "code",
   "execution_count": 17,
   "id": "7ff4b6d7",
   "metadata": {},
   "outputs": [
    {
     "data": {
      "text/plain": [
       "[6, 12, 9]"
      ]
     },
     "execution_count": 17,
     "metadata": {},
     "output_type": "execute_result"
    }
   ],
   "source": [
    "u = [2, 4, 3]\n",
    "a = 3\n",
    "\n",
    "scalar_v_mul(a, u)"
   ]
  },
  {
   "cell_type": "markdown",
   "id": "199296b5",
   "metadata": {},
   "source": [
    "이를 넘파이로 수행하면 아래와 같다."
   ]
  },
  {
   "cell_type": "code",
   "execution_count": 32,
   "id": "ae8730fc",
   "metadata": {},
   "outputs": [],
   "source": [
    "import numpy as np\n",
    "\n",
    "u = np.array([1, 2, 4])\n",
    "a = 3\n",
    "\n",
    "w = a * u"
   ]
  },
  {
   "cell_type": "code",
   "execution_count": 33,
   "id": "adaa5209",
   "metadata": {},
   "outputs": [
    {
     "name": "stdout",
     "output_type": "stream",
     "text": [
      "[ 3  6 12]\n"
     ]
    }
   ],
   "source": [
    "print(w)"
   ]
  },
  {
   "cell_type": "markdown",
   "id": "2e7f2f82",
   "metadata": {},
   "source": [
    "## 벡터 기본 연산의 성질\n",
    "\n",
    "벡터 u, v, w와 스칼라 a, b 가 존재할 때 벡터의 기본 연산은 다음과 같은 성질이 성립한다."
   ]
  },
  {
   "cell_type": "markdown",
   "id": "2b64f27f",
   "metadata": {},
   "source": [
    "u+v = v+u : 덧셈에는 교환 법칙이 성립한다.\n",
    "\n",
    "(u+v)+w = u+(v+w) : 결합 법칙이 성립한다.\n",
    "\n",
    "u+0 = 0+u = u : 벡터에 0을 더하면 기존 벡터와 동일하다.\n",
    "\n",
    "u+(-u) = 0 : 자기 자신에 -1을 곱한 행렬을 더한 결과는 영 행렬이다.\n",
    "\n",
    "a(bu) = (ab)u : 벡터 u에 스칼라 a, b를 곱할 때 스칼라 b에 먼저 벡터 u를 곱한 후 스칼라 a를 곱하는 것과, a와 b를 곱하고 벡터 u에 곱한 결과는 동일하다.\n",
    "\n",
    "a(u+v) = au+av : 벡터 u와 v의 합에 스칼라 a를 곱한 결과는 각 벡터 u와 v에 스칼라 a 를 곱한 결과의 합과 같다.\n",
    "\n",
    "(a+b)u = au+bu : 스칼라 a와 b의 합에 벡터 u를 곱한 결과는 각 스칼라와 u의 곱한 결과의 합과 같다."
   ]
  },
  {
   "cell_type": "markdown",
   "id": "7c2ed33f",
   "metadata": {},
   "source": [
    "# 벡터의 곱셈\n",
    "\n",
    "여기서 벡터의 원소의 곱은 두 벡터의 동일한 위치의 원소를 곱하는 연산을 의미한다."
   ]
  },
  {
   "cell_type": "code",
   "execution_count": 18,
   "id": "92d9db2d",
   "metadata": {},
   "outputs": [],
   "source": [
    "u = [1, 2, 4]\n",
    "v = [7, 3, 2]\n",
    "\n",
    "n = len(u)\n",
    "w = []\n",
    "\n",
    "for i in range(0, n):\n",
    "    val = u[i] * v[i]\n",
    "    w.append(val)"
   ]
  },
  {
   "cell_type": "code",
   "execution_count": 19,
   "id": "4b2ebfc9",
   "metadata": {},
   "outputs": [
    {
     "name": "stdout",
     "output_type": "stream",
     "text": [
      "[7, 6, 8]\n"
     ]
    }
   ],
   "source": [
    "print(w)"
   ]
  },
  {
   "cell_type": "markdown",
   "id": "fd57ac86",
   "metadata": {},
   "source": [
    "이를 함수로 만들면 다음과 같다."
   ]
  },
  {
   "cell_type": "code",
   "execution_count": 20,
   "id": "86570e80",
   "metadata": {},
   "outputs": [],
   "source": [
    "def v_mul(u, v):\n",
    "    \"\"\"\n",
    "    벡터의 원소 곱\n",
    "    입력값: 원소 곱하고자 하는 벡터 리스트 u, v\n",
    "    출력값: 벡터 u, v의 원소 곱 결과 w\n",
    "    \"\"\"\n",
    "    n = len(u)\n",
    "    w = []\n",
    "    \n",
    "    for i in range(0, n):\n",
    "        val = u[i] * v[i]\n",
    "        w.append(val)\n",
    "    \n",
    "    return w"
   ]
  },
  {
   "cell_type": "code",
   "execution_count": 21,
   "id": "16533428",
   "metadata": {},
   "outputs": [
    {
     "data": {
      "text/plain": [
       "[7, 6, 8]"
      ]
     },
     "execution_count": 21,
     "metadata": {},
     "output_type": "execute_result"
    }
   ],
   "source": [
    "u = [1, 2, 4]\n",
    "v = [7, 3, 2]\n",
    "\n",
    "v_mul(u, v)"
   ]
  },
  {
   "cell_type": "markdown",
   "id": "b0cce65d",
   "metadata": {},
   "source": [
    "이를 넘파이로 수행하면 이와 같다."
   ]
  },
  {
   "cell_type": "code",
   "execution_count": 34,
   "id": "0d9bc647",
   "metadata": {},
   "outputs": [],
   "source": [
    "import numpy as np\n",
    "\n",
    "u = np.array([1, 2, 4])\n",
    "v = np.array([7, 3, 2])\n",
    "\n",
    "w = u * v"
   ]
  },
  {
   "cell_type": "code",
   "execution_count": 35,
   "id": "9b0eff11",
   "metadata": {},
   "outputs": [
    {
     "name": "stdout",
     "output_type": "stream",
     "text": [
      "[7 6 8]\n"
     ]
    }
   ],
   "source": [
    "print(w)"
   ]
  },
  {
   "cell_type": "markdown",
   "id": "b9f0b488",
   "metadata": {},
   "source": [
    "# 벡터의 나눗셈\n",
    "\n",
    "여기서 벡터의 나눗셈은 동일한 위치의 원소끼리 나누는 것을 의미한다."
   ]
  },
  {
   "cell_type": "code",
   "execution_count": 22,
   "id": "08652a7e",
   "metadata": {},
   "outputs": [],
   "source": [
    "u = [6, 5, -9]\n",
    "v = [2, 2, -3]\n",
    "\n",
    "n = len(u)\n",
    "w = []\n",
    "\n",
    "for i in range(0, n):\n",
    "    val = u[i] / v[i]\n",
    "    w.append(val)"
   ]
  },
  {
   "cell_type": "code",
   "execution_count": 23,
   "id": "352eab79",
   "metadata": {},
   "outputs": [
    {
     "name": "stdout",
     "output_type": "stream",
     "text": [
      "[3.0, 2.5, 3.0]\n"
     ]
    }
   ],
   "source": [
    "print(w)"
   ]
  },
  {
   "cell_type": "markdown",
   "id": "3a5a3315",
   "metadata": {},
   "source": [
    "이를 함수로 구현하면 이와 같다."
   ]
  },
  {
   "cell_type": "code",
   "execution_count": 25,
   "id": "15a13fc9",
   "metadata": {},
   "outputs": [],
   "source": [
    "def v_div(u, v):\n",
    "    \"\"\"\n",
    "    벡터의 원소 나눗셈\n",
    "    입력값: 원소 곱하고자 하는 벡터 리스트 u, v\n",
    "    출력값: 벡터 u, v의 원소 나눗셈 결과 w\n",
    "    \"\"\"\n",
    "    n = len(u)\n",
    "    w = []\n",
    "    \n",
    "    for i in range(0, n):\n",
    "        val = u[i] / v[i]\n",
    "        w.append(val)\n",
    "    \n",
    "    return w"
   ]
  },
  {
   "cell_type": "code",
   "execution_count": 26,
   "id": "d037e7a5",
   "metadata": {},
   "outputs": [
    {
     "data": {
      "text/plain": [
       "[3.0, 2.5, 3.0]"
      ]
     },
     "execution_count": 26,
     "metadata": {},
     "output_type": "execute_result"
    }
   ],
   "source": [
    "u = [6, 5, -9]\n",
    "v = [2, 2, -3]\n",
    "\n",
    "v_div(u, v)"
   ]
  },
  {
   "cell_type": "markdown",
   "id": "9a150f9e",
   "metadata": {},
   "source": [
    "이를 넘파이로 구현하면 이와 같다."
   ]
  },
  {
   "cell_type": "code",
   "execution_count": 36,
   "id": "7644d8ca",
   "metadata": {},
   "outputs": [],
   "source": [
    "import numpy as np\n",
    "\n",
    "u = np.array([6, 5, -9])\n",
    "v = np.array([2, 2, -3])\n",
    "\n",
    "w = u / v"
   ]
  },
  {
   "cell_type": "code",
   "execution_count": 37,
   "id": "229f040e",
   "metadata": {},
   "outputs": [
    {
     "name": "stdout",
     "output_type": "stream",
     "text": [
      "[3.  2.5 3. ]\n"
     ]
    }
   ],
   "source": [
    "print(w)"
   ]
  },
  {
   "cell_type": "code",
   "execution_count": null,
   "id": "ea567c41",
   "metadata": {},
   "outputs": [],
   "source": []
  },
  {
   "cell_type": "code",
   "execution_count": null,
   "id": "b1baa96f",
   "metadata": {},
   "outputs": [],
   "source": []
  }
 ],
 "metadata": {
  "kernelspec": {
   "display_name": "Python 3 (ipykernel)",
   "language": "python",
   "name": "python3"
  },
  "language_info": {
   "codemirror_mode": {
    "name": "ipython",
    "version": 3
   },
   "file_extension": ".py",
   "mimetype": "text/x-python",
   "name": "python",
   "nbconvert_exporter": "python",
   "pygments_lexer": "ipython3",
   "version": "3.8.5"
  },
  "toc": {
   "base_numbering": 1,
   "nav_menu": {},
   "number_sections": true,
   "sideBar": true,
   "skip_h1_title": false,
   "title_cell": "Table of Contents",
   "title_sidebar": "Contents",
   "toc_cell": false,
   "toc_position": {},
   "toc_section_display": true,
   "toc_window_display": false
  }
 },
 "nbformat": 4,
 "nbformat_minor": 5
}

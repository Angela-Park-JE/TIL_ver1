
{
 "cells": [
  {
   "cell_type": "markdown",
   "metadata": {},
   "source": [
    "# 파이썬 일부 기능 복습"
   ]
  },
  {
   "cell_type": "markdown",
   "metadata": {},
   "source": [
    "## if문"
   ]
  },
  {
   "cell_type": "code",
   "execution_count": 2,
   "metadata": {},
   "outputs": [
    {
     "name": "stdout",
     "output_type": "stream",
     "text": [
      "[1, 2, 3, 4, 5, 8]\n"
     ]
    }
   ],
   "source": [
    "a = [1, 2, 3, 4, 5]\n",
    "\n",
    "if a[0] == 1:\n",
    "    a.append(8)\n",
    "\n",
    "print(a)"
   ]
  },
  {
   "cell_type": "code",
   "execution_count": 3,
   "metadata": {},
   "outputs": [
    {
     "name": "stdout",
     "output_type": "stream",
     "text": [
      "[1, 2, 3, 4, 5]\n"
     ]
    }
   ],
   "source": [
    "a = [1, 2, 3, 4, 5]\n",
    "\n",
    "if a[0] == 7:\n",
    "    a.append(8)\n",
    "\n",
    "print(a)"
   ]
  },
  {
   "cell_type": "code",
   "execution_count": 4,
   "metadata": {},
   "outputs": [
    {
     "name": "stdout",
     "output_type": "stream",
     "text": [
      "[1, 2, 3, 4, 5, 9]\n"
     ]
    }
   ],
   "source": [
    "a = [1, 2, 3, 4, 5]\n",
    "\n",
    "if a[0] == 7:\n",
    "    a.append(8)\n",
    "else:\n",
    "    a.append(9)\n",
    "\n",
    "print(a)"
   ]
  },
  {
   "cell_type": "code",
   "execution_count": 5,
   "metadata": {},
   "outputs": [
    {
     "name": "stdout",
     "output_type": "stream",
     "text": [
      "[1, 2, 3, 4, 5, 10]\n"
     ]
    }
   ],
   "source": [
    "a = [1, 2, 3, 4, 5]\n",
    "\n",
    "if a[0] == 7:\n",
    "    a.append(8)\n",
    "elif a[0] == 1:\n",
    "    a.append(10)\n",
    "\n",
    "print(a)"
   ]
  },
  {
   "cell_type": "markdown",
   "metadata": {},
   "source": [
    "## 반복문"
   ]
  },
  {
   "cell_type": "code",
   "execution_count": 6,
   "metadata": {},
   "outputs": [
    {
     "name": "stdout",
     "output_type": "stream",
     "text": [
      "0\n",
      "1\n",
      "2\n",
      "3\n",
      "4\n"
     ]
    }
   ],
   "source": [
    "# print 0~ 4 를 반복문을 써서 해보자,\n",
    "\n",
    "for i in range(0,5):\n",
    "    print(i)"
   ]
  },
  {
   "cell_type": "markdown",
   "metadata": {},
   "source": [
    "range의 마지막수는 포함하지 않는 것을 항상 주의하자. "
   ]
  },
  {
   "cell_type": "code",
   "execution_count": 7,
   "metadata": {},
   "outputs": [
    {
     "name": "stdout",
     "output_type": "stream",
     "text": [
      "abc\n",
      "got\n",
      "5\n",
      "a\n",
      "g-class\n",
      "9\n",
      "[1, 2, 3]\n"
     ]
    }
   ],
   "source": [
    "# list 내의 원소들을 출력하도록 하자.\n",
    "\n",
    "a = ['abc', 'got', 5, 'a', 'g-class', 9, [1,2,3]] #내맘대로...\n",
    "\n",
    "for element in a :\n",
    "    print(element)"
   ]
  },
  {
   "cell_type": "markdown",
   "metadata": {},
   "source": [
    "### 반복문으로 리스트 생성하기"
   ]
  },
  {
   "cell_type": "code",
   "execution_count": 8,
   "metadata": {},
   "outputs": [
    {
     "name": "stdout",
     "output_type": "stream",
     "text": [
      "[2, 4, 6, 8, 10]\n"
     ]
    }
   ],
   "source": [
    "b = [1, 2, 3, 4, 5]\n",
    "c = [element*2 for element in b]\n",
    "\n",
    "print(c)"
   ]
  },
  {
   "cell_type": "markdown",
   "metadata": {},
   "source": [
    "## while 문"
   ]
  },
  {
   "cell_type": "code",
   "execution_count": 9,
   "metadata": {},
   "outputs": [
    {
     "name": "stdout",
     "output_type": "stream",
     "text": [
      "0\n",
      "1\n",
      "2\n",
      "3\n",
      "4\n"
     ]
    }
   ],
   "source": [
    "num = 0\n",
    "while num < 5:\n",
    "    print(num)\n",
    "    num = num + 1"
   ]
  },
  {
   "cell_type": "markdown",
   "metadata": {},
   "source": [
    "for는 정해진 범위를 설정하기 때문에 작업 횟수가 미리 정해져 있고, while문은 사전에 작업 횟수를 정하지 않으므로 반복 작업할 조건을 입력한다는 점에서 다르다.\n",
    "\n",
    "---"
   ]
  },
  {
   "cell_type": "markdown",
   "metadata": {},
   "source": [
    "# 함수"
   ]
  },
  {
   "cell_type": "markdown",
   "metadata": {},
   "source": [
    "## 사용자 정의 함수"
   ]
  },
  {
   "cell_type": "code",
   "execution_count": 10,
   "metadata": {},
   "outputs": [],
   "source": [
    "# 더하기\n",
    "def add(a, b):\n",
    "    c = a + b\n",
    "    return c"
   ]
  },
  {
   "cell_type": "code",
   "execution_count": 11,
   "metadata": {},
   "outputs": [
    {
     "name": "stdout",
     "output_type": "stream",
     "text": [
      "2.2\n"
     ]
    }
   ],
   "source": [
    "x = 1.5\n",
    "y = 0.7\n",
    "z = x + y\n",
    "print(z)"
   ]
  },
  {
   "cell_type": "code",
   "execution_count": 12,
   "metadata": {},
   "outputs": [
    {
     "data": {
      "text/plain": [
       "2.2"
      ]
     },
     "execution_count": 12,
     "metadata": {},
     "output_type": "execute_result"
    }
   ],
   "source": [
    "add(x, y)"
   ]
  },
  {
   "cell_type": "markdown",
   "metadata": {},
   "source": [
    "## 재귀함수"
   ]
  },
  {
   "cell_type": "markdown",
   "metadata": {},
   "source": [
    "재귀 함수: 함수의 정의 단계에서 자기 자신을 호출하는 함수를 의미한다."
   ]
  },
  {
   "cell_type": "code",
   "execution_count": 13,
   "metadata": {},
   "outputs": [],
   "source": [
    "def one_to_sum(a):\n",
    "    if a == 0:\n",
    "        return 0\n",
    "    res = a + one_to_sum(a-1)\n",
    "    return res"
   ]
  },
  {
   "cell_type": "code",
   "execution_count": 14,
   "metadata": {},
   "outputs": [
    {
     "data": {
      "text/plain": [
       "15"
      ]
     },
     "execution_count": 14,
     "metadata": {},
     "output_type": "execute_result"
    }
   ],
   "source": [
    "one_to_sum(5)"
   ]
  },
  {
   "cell_type": "markdown",
   "metadata": {},
   "source": [
    "이 함수는 0에서부터 시작이 아니라 주어진 a값에서 부터 시작하여, 함수 자신안에 주어진 값에서 1씩 줄여가면서, a가 0이 될 때까지 res를 a개 만든다. \n",
    "\n",
    "그래서 단계적으로 다 더하여 최초로 등장한 res에 다 더해지는 꼴이었다.\n",
    "\n"
   ]
  },
  {
   "cell_type": "markdown",
   "metadata": {},
   "source": [
    "# 깊은/얕은 복사"
   ]
  },
  {
   "cell_type": "markdown",
   "metadata": {},
   "source": [
    "## mutable / ummutable\n",
    "\n",
    "객체의 복사는 얕은 복사과 깊은 복사로 나누어진다. 그리고 객체의 종류에 따라 객체를 복사하는 방법에 차이가 난다. \n",
    "\n",
    "파이썬 객체는 크게 mutable 객체와 immutable 객체로 나뉘는데, 각각 변경 가능한/불가능한 객체이다. \n",
    "\n",
    "mutable 에는 리스트, immutable 객체에는 숫자, 문자가 있다.\n",
    "\n",
    "(객체는 변수보가 조금 더 포괄적인 개념이라고 생각하면 된다.)"
   ]
  },
  {
   "cell_type": "markdown",
   "metadata": {},
   "source": [
    "### 원소 차원"
   ]
  },
  {
   "cell_type": "code",
   "execution_count": 15,
   "metadata": {},
   "outputs": [],
   "source": [
    "x = 10\n",
    "y = x"
   ]
  },
  {
   "cell_type": "markdown",
   "metadata": {},
   "source": [
    "라고 하면 y라는 객체는 x와 동일한 값을 가진다는 의미이다. \n",
    "\n",
    "메모리 주소를 확인해보자"
   ]
  },
  {
   "cell_type": "code",
   "execution_count": 16,
   "metadata": {},
   "outputs": [
    {
     "name": "stdout",
     "output_type": "stream",
     "text": [
      "4399762048\n",
      "4399762048\n"
     ]
    }
   ],
   "source": [
    "print(id(x))\n",
    "print(id(y))"
   ]
  },
  {
   "cell_type": "markdown",
   "metadata": {},
   "source": [
    "이때 y에 새로운 값을 할당하면 y의 값이 달라진다."
   ]
  },
  {
   "cell_type": "code",
   "execution_count": 17,
   "metadata": {},
   "outputs": [
    {
     "name": "stdout",
     "output_type": "stream",
     "text": [
      "4399761952\n"
     ]
    }
   ],
   "source": [
    "y = 7\n",
    "print(id(y))"
   ]
  },
  {
   "cell_type": "code",
   "execution_count": 18,
   "metadata": {},
   "outputs": [
    {
     "name": "stdout",
     "output_type": "stream",
     "text": [
      "4399762048\n"
     ]
    }
   ],
   "source": [
    "print(id(x))"
   ]
  },
  {
   "cell_type": "markdown",
   "metadata": {},
   "source": [
    "x는 y와 상관없이 그대로이다. y 가 숫자형 자료를 담았으므로 immutable 한 객체이기 때문이다. \n",
    "\n",
    "y에 새로운 값을 할당하고 메모리 주소를 출력해보면 서로 다른 주소였다. \n",
    "\n",
    "---\n",
    "\n",
    "리스트는 다르다."
   ]
  },
  {
   "cell_type": "markdown",
   "metadata": {},
   "source": [
    "### 리스트 차원"
   ]
  },
  {
   "cell_type": "code",
   "execution_count": 19,
   "metadata": {},
   "outputs": [
    {
     "data": {
      "text/plain": [
       "140284838009600"
      ]
     },
     "execution_count": 19,
     "metadata": {},
     "output_type": "execute_result"
    }
   ],
   "source": [
    "a = [1,2,3,4]\n",
    "id(a)"
   ]
  },
  {
   "cell_type": "markdown",
   "metadata": {},
   "source": [
    "리스트는 mutable하다. 각각의 원소는 immutable 했다. 흠. 그럼 각각을 출력해보자."
   ]
  },
  {
   "cell_type": "code",
   "execution_count": 20,
   "metadata": {},
   "outputs": [
    {
     "name": "stdout",
     "output_type": "stream",
     "text": [
      "140284838009600\n",
      "4399761760\n",
      "4399761792\n",
      "4399761824\n",
      "4399761856\n"
     ]
    }
   ],
   "source": [
    "print(id(a))\n",
    "\n",
    "for i in a:\n",
    "    print(id(i))"
   ]
  },
  {
   "cell_type": "markdown",
   "metadata": {},
   "source": [
    "원소의 주소는 각 원소가 서로 다른 주소를 갖고 있는 것이었다.\n",
    "\n",
    "이때 리스트 안의 원소값을 변경해본다."
   ]
  },
  {
   "cell_type": "code",
   "execution_count": 21,
   "metadata": {},
   "outputs": [
    {
     "name": "stdout",
     "output_type": "stream",
     "text": [
      "[5, 2, 3, 4]\n"
     ]
    }
   ],
   "source": [
    "a[0] = 5\n",
    "print(a)"
   ]
  },
  {
   "cell_type": "code",
   "execution_count": 22,
   "metadata": {},
   "outputs": [
    {
     "name": "stdout",
     "output_type": "stream",
     "text": [
      "140284838009600\n",
      "4399761888\n",
      "4399761792\n",
      "4399761824\n",
      "4399761856\n"
     ]
    }
   ],
   "source": [
    "print(id(a))\n",
    "\n",
    "for i in a:\n",
    "    print(id(i))"
   ]
  },
  {
   "cell_type": "markdown",
   "metadata": {},
   "source": [
    "a 라는 리스트 자체의 메모리 주소는 동일한 메모리 주소이지만,\n",
    "\n",
    "변경된 첫번째 원소의 주소는 기존과 달라졌다."
   ]
  },
  {
   "cell_type": "markdown",
   "metadata": {},
   "source": [
    "### 리스트를 할당받은 리스트 차원"
   ]
  },
  {
   "cell_type": "code",
   "execution_count": 23,
   "metadata": {},
   "outputs": [
    {
     "name": "stdout",
     "output_type": "stream",
     "text": [
      "[5, 2, 3, 4]\n"
     ]
    }
   ],
   "source": [
    "b = a\n",
    "print(b)"
   ]
  },
  {
   "cell_type": "code",
   "execution_count": 24,
   "metadata": {},
   "outputs": [
    {
     "name": "stdout",
     "output_type": "stream",
     "text": [
      "140284838009600\n",
      "140284838009600\n"
     ]
    }
   ],
   "source": [
    "print(id(a))\n",
    "print(id(b))"
   ]
  },
  {
   "cell_type": "markdown",
   "metadata": {},
   "source": [
    "리스트 a를 할당 받은 b는 a와 동일한 메모리 주소를 가지고 있다.\n",
    "\n",
    "원소도 각각 그럴 것이다."
   ]
  },
  {
   "cell_type": "code",
   "execution_count": 25,
   "metadata": {},
   "outputs": [
    {
     "name": "stdout",
     "output_type": "stream",
     "text": [
      "4399761888\n",
      "4399761888\n"
     ]
    }
   ],
   "source": [
    "print(id(a[0]))\n",
    "print(id(b[0]))"
   ]
  },
  {
   "cell_type": "markdown",
   "metadata": {},
   "source": [
    "리스트 원소의 메모리 주소도 동일한 메모리 주소를 가지는 것을 확인할 수 있었다.\n",
    "\n",
    "다른 원소를 새로 추가해보자."
   ]
  },
  {
   "cell_type": "code",
   "execution_count": 26,
   "metadata": {},
   "outputs": [
    {
     "data": {
      "text/plain": [
       "140284838009600"
      ]
     },
     "execution_count": 26,
     "metadata": {},
     "output_type": "execute_result"
    }
   ],
   "source": [
    "b.append(7)\n",
    "id(b)"
   ]
  },
  {
   "cell_type": "code",
   "execution_count": 27,
   "metadata": {},
   "outputs": [
    {
     "name": "stdout",
     "output_type": "stream",
     "text": [
      "[5, 2, 3, 4, 7]\n",
      "[5, 2, 3, 4, 7]\n"
     ]
    }
   ],
   "source": [
    "print(b)\n",
    "print(a)"
   ]
  },
  {
   "cell_type": "markdown",
   "metadata": {},
   "source": [
    "append로 b에만 추가해줬을 뿐인데 a도 함께 바뀌었다. \n",
    "\n",
    "이와 같은 현상이 나타나는 이유는 *리스트 자료형은 mutable 한 객체이므로, a를 b에 할당한 후 b를 변경하면 a도 함께 변경된다.*\n",
    "\n",
    "a는 그대로 두고싶었다 하더라도 함께 변경이 되기 때문에, 복사의 개념을 배워두자."
   ]
  },
  {
   "cell_type": "markdown",
   "metadata": {},
   "source": [
    "## 얕은 복사1"
   ]
  },
  {
   "cell_type": "markdown",
   "metadata": {},
   "source": [
    "객체 b의 변경이 객체 a에 영향을 주지 않도록 복사하는 방법"
   ]
  },
  {
   "cell_type": "code",
   "execution_count": 28,
   "metadata": {},
   "outputs": [],
   "source": [
    "a = [1, 2, 3, 4, 5]\n",
    "b = a[:]"
   ]
  },
  {
   "cell_type": "code",
   "execution_count": 29,
   "metadata": {},
   "outputs": [
    {
     "name": "stdout",
     "output_type": "stream",
     "text": [
      "[1, 2, 3, 4, 5]\n",
      "[1, 2, 3, 4, 5]\n"
     ]
    }
   ],
   "source": [
    "print(a)\n",
    "print(b)"
   ]
  },
  {
   "cell_type": "markdown",
   "metadata": {},
   "source": [
    "이때 둘이 동일해 보이지만 주소를 확인해보면 다르다!"
   ]
  },
  {
   "cell_type": "code",
   "execution_count": 30,
   "metadata": {},
   "outputs": [
    {
     "name": "stdout",
     "output_type": "stream",
     "text": [
      "140284838228352\n",
      "140284837981120\n"
     ]
    }
   ],
   "source": [
    "print(id(a))\n",
    "print(id(b))"
   ]
  },
  {
   "cell_type": "code",
   "execution_count": 31,
   "metadata": {},
   "outputs": [
    {
     "name": "stdout",
     "output_type": "stream",
     "text": [
      "1 ( 4399761760 )  VS 1 ( 4399761760 )\n",
      "2 ( 4399761792 )  VS 2 ( 4399761792 )\n",
      "3 ( 4399761824 )  VS 3 ( 4399761824 )\n",
      "4 ( 4399761856 )  VS 4 ( 4399761856 )\n",
      "5 ( 4399761888 )  VS 5 ( 4399761888 )\n"
     ]
    }
   ],
   "source": [
    "# 원소들은 어떨까?!\n",
    "\n",
    "for i in range(len(a)):\n",
    "    print(a[i],\"(\", id(a[i]),\") \", \"VS\" ,b[i], \"(\", id(b[i]),\")\")"
   ]
  },
  {
   "cell_type": "markdown",
   "metadata": {},
   "source": [
    "원소의 주소는 같은 것으로 나타났다. 그러면 리스트 b의 원소를 조금 수정한다면?"
   ]
  },
  {
   "cell_type": "code",
   "execution_count": 32,
   "metadata": {},
   "outputs": [
    {
     "name": "stdout",
     "output_type": "stream",
     "text": [
      "[9, 2, 3, 4, 5]\n",
      "[1, 2, 3, 4, 5]\n"
     ]
    }
   ],
   "source": [
    "b[0] = 9\n",
    "print(b)\n",
    "\n",
    "print(a)"
   ]
  },
  {
   "cell_type": "markdown",
   "metadata": {},
   "source": [
    "얕은 복사를 해왔기 때문에 원소를 변경해도 원래 리스트 a에는 영향을 주지 않는다.\n",
    "\n",
    "*실험: 그럼 같은 숫자로 다른 원소인거면 어떻게 되나...?*\n"
   ]
  },
  {
   "cell_type": "code",
   "execution_count": 33,
   "metadata": {},
   "outputs": [
    {
     "name": "stdout",
     "output_type": "stream",
     "text": [
      "[9, 2, 3, 3, 5]\n",
      "[1, 2, 3, 4, 5]\n"
     ]
    }
   ],
   "source": [
    "b[3] = 3\n",
    "print(b)\n",
    "\n",
    "print(a)"
   ]
  },
  {
   "cell_type": "code",
   "execution_count": 34,
   "metadata": {},
   "outputs": [
    {
     "name": "stdout",
     "output_type": "stream",
     "text": [
      "4399761824 4399761824\n"
     ]
    }
   ],
   "source": [
    "print(id(b[2]), id(b[3]))"
   ]
  },
  {
   "cell_type": "markdown",
   "metadata": {},
   "source": [
    "*같은 숫자면 메모리 주소가 같다... 따로 도는게 아니라 컴퓨터 내에서 도는 것이라 그런것인까....?*"
   ]
  },
  {
   "cell_type": "markdown",
   "metadata": {},
   "source": [
    "대괄호와 콜론을 이용할 수도 있지만 파이썬 라이브러리를 활용할 수도 있다.\n",
    "\n",
    "## 얕은 복사2"
   ]
  },
  {
   "cell_type": "code",
   "execution_count": 35,
   "metadata": {},
   "outputs": [],
   "source": [
    "import copy\n",
    "\n",
    "a = [1, 2, 3, 4, 5]\n",
    "b = copy.copy(a)"
   ]
  },
  {
   "cell_type": "code",
   "execution_count": 36,
   "metadata": {},
   "outputs": [
    {
     "name": "stdout",
     "output_type": "stream",
     "text": [
      "[1, 2, 3, 4, 5]\n",
      "[1, 2, 3, 4, 5]\n"
     ]
    }
   ],
   "source": [
    "print(a)\n",
    "print(b)"
   ]
  },
  {
   "cell_type": "code",
   "execution_count": 37,
   "metadata": {},
   "outputs": [
    {
     "name": "stdout",
     "output_type": "stream",
     "text": [
      "140284837999104\n",
      "140284837920320\n"
     ]
    }
   ],
   "source": [
    "print(id(a))\n",
    "print(id(b))"
   ]
  },
  {
   "cell_type": "markdown",
   "metadata": {},
   "source": [
    "얕은 복사가 잘 되었는지 확인하기 위해 원소를 변경해본다."
   ]
  },
  {
   "cell_type": "code",
   "execution_count": 38,
   "metadata": {},
   "outputs": [
    {
     "name": "stdout",
     "output_type": "stream",
     "text": [
      "[9, 2, 3, 4, 5]\n",
      "[1, 2, 3, 4, 5]\n"
     ]
    }
   ],
   "source": [
    "b[0] = 9\n",
    "print(b)\n",
    "\n",
    "print(a)"
   ]
  },
  {
   "cell_type": "markdown",
   "metadata": {},
   "source": [
    "b변경 후 a는 변경되지 않았다.\n",
    "\n",
    "각각의 메모리 주소도 서로 다른 메모리 주소를 가지고 있다."
   ]
  },
  {
   "cell_type": "code",
   "execution_count": 39,
   "metadata": {},
   "outputs": [
    {
     "name": "stdout",
     "output_type": "stream",
     "text": [
      "4399762016\n",
      "4399761760\n"
     ]
    }
   ],
   "source": [
    "print(id(b[0]))\n",
    "print(id(a[0]))"
   ]
  },
  {
   "cell_type": "markdown",
   "metadata": {},
   "source": [
    "얕은 복사는 변경가능한 객체가 변경 불가능한 객체를 원소로 구성하는 경우에 유용하다. 즉 변경가능한 리스트 객체 내부에, 불가능한 객체인 숫자형 변수가 존재할 때 얕은 변수를 사용할 수 있다. \n",
    "\n",
    "mutable 한 객체 안에 mutable 한 객체가 속하는 경우는?"
   ]
  },
  {
   "cell_type": "markdown",
   "metadata": {},
   "source": [
    "### 리스트 안의 리스트"
   ]
  },
  {
   "cell_type": "code",
   "execution_count": 40,
   "metadata": {},
   "outputs": [],
   "source": [
    "import copy\n",
    "\n",
    "a = [[1,3], [2,4]]\n",
    "b = copy.copy(a)"
   ]
  },
  {
   "cell_type": "markdown",
   "metadata": {},
   "source": [
    "리스트객체 a의 구성원소는 또 다른 리스트인 것을 볼 수 있다."
   ]
  },
  {
   "cell_type": "code",
   "execution_count": 42,
   "metadata": {},
   "outputs": [
    {
     "name": "stdout",
     "output_type": "stream",
     "text": [
      "[[1, 3], [2, 4]]\n",
      "[[1, 3], [2, 4]]\n"
     ]
    }
   ],
   "source": [
    "print(a)\n",
    "print(b)"
   ]
  },
  {
   "cell_type": "markdown",
   "metadata": {},
   "source": [
    "각 객체의 메모리 주소는 다르다."
   ]
  },
  {
   "cell_type": "code",
   "execution_count": 43,
   "metadata": {},
   "outputs": [
    {
     "name": "stdout",
     "output_type": "stream",
     "text": [
      "140284838010240\n",
      "140284837918208\n"
     ]
    }
   ],
   "source": [
    "print(id(a))\n",
    "print(id(b))"
   ]
  },
  {
   "cell_type": "markdown",
   "metadata": {},
   "source": [
    "이 부분이 얕은 복사의 문제점이다. "
   ]
  },
  {
   "cell_type": "code",
   "execution_count": 44,
   "metadata": {},
   "outputs": [
    {
     "name": "stdout",
     "output_type": "stream",
     "text": [
      "140284837991488\n",
      "140284837991488\n"
     ]
    }
   ],
   "source": [
    "print(id(a[0]))\n",
    "print(id(b[0]))"
   ]
  },
  {
   "cell_type": "markdown",
   "metadata": {},
   "source": [
    "원소가 리스트임에도, 그 리스트의 메모리 주소가 같다. 그럼 그 원소 리스트 안의 원소는?"
   ]
  },
  {
   "cell_type": "code",
   "execution_count": 45,
   "metadata": {},
   "outputs": [
    {
     "name": "stdout",
     "output_type": "stream",
     "text": [
      "4399761760\n",
      "4399761760\n"
     ]
    }
   ],
   "source": [
    "print(id(a[0][0]))\n",
    "print(id(b[0][0]))"
   ]
  },
  {
   "cell_type": "markdown",
   "metadata": {},
   "source": [
    "원소 리스트 안의 원소도 주소가 동일하다. 이떄 b의 원소리스트 안의 원소를 변경하면"
   ]
  },
  {
   "cell_type": "code",
   "execution_count": 46,
   "metadata": {},
   "outputs": [
    {
     "name": "stdout",
     "output_type": "stream",
     "text": [
      "[[7, 3], [2, 4]]\n"
     ]
    }
   ],
   "source": [
    "b[0][0] = 7\n",
    "print(b)"
   ]
  },
  {
   "cell_type": "code",
   "execution_count": 47,
   "metadata": {},
   "outputs": [
    {
     "name": "stdout",
     "output_type": "stream",
     "text": [
      "[[7, 3], [2, 4]]\n"
     ]
    }
   ],
   "source": [
    "print(a)"
   ]
  },
  {
   "cell_type": "markdown",
   "metadata": {},
   "source": [
    "원래의 a도 변경되어버렸다.\n",
    "\n",
    "주목: 얕은 복사를 할 경우는 mutable한 객체 내부에 mutable한 객체가 존재할 때, 값이 동시에 변하는 현상을 막을 수 없다."
   ]
  },
  {
   "cell_type": "markdown",
   "metadata": {},
   "source": [
    "## 깊은 복사\n",
    "\n",
    "깊은 복사를 이용하면 리스트를 포함하는 리스트와 같이 mutable 한 객체 속에 mutable 한 객체가 포함되는 경우 서로 다른 객체가 영향을 주지 않게 복사할 수 있다."
   ]
  },
  {
   "cell_type": "markdown",
   "metadata": {},
   "source": [
    "### copy.copy() 대신 copy.deepcopy(()"
   ]
  },
  {
   "cell_type": "code",
   "execution_count": 48,
   "metadata": {},
   "outputs": [],
   "source": [
    "import copy\n",
    "\n",
    "a = [[1, 2], [3, 4]]\n",
    "b = copy.deepcopy(a)"
   ]
  },
  {
   "cell_type": "code",
   "execution_count": 49,
   "metadata": {},
   "outputs": [
    {
     "name": "stdout",
     "output_type": "stream",
     "text": [
      "[[1, 2], [3, 4]]\n",
      "[[1, 2], [3, 4]]\n"
     ]
    }
   ],
   "source": [
    "print(a)\n",
    "print(b)"
   ]
  },
  {
   "cell_type": "code",
   "execution_count": 50,
   "metadata": {},
   "outputs": [
    {
     "name": "stdout",
     "output_type": "stream",
     "text": [
      "140284837684032\n",
      "140284838017536\n"
     ]
    }
   ],
   "source": [
    "print(id(a))\n",
    "print(id(b))"
   ]
  },
  {
   "cell_type": "markdown",
   "metadata": {},
   "source": [
    "deep copy를 했더니, 얕은 복사처럼 리스트 객체 자체의 메모리 주소는 다른건 같지만, (아래처럼) 애초에 원소리스트의 메모리 주소가 다르다."
   ]
  },
  {
   "cell_type": "code",
   "execution_count": 51,
   "metadata": {},
   "outputs": [
    {
     "name": "stdout",
     "output_type": "stream",
     "text": [
      "140284838018944\n",
      "140284838024512\n"
     ]
    }
   ],
   "source": [
    "print(id(a[0]))\n",
    "print(id(b[0]))"
   ]
  },
  {
   "cell_type": "markdown",
   "metadata": {},
   "source": [
    "같은 숫자(객체 안의 객체의 원소)는 아래처럼 같게 나타나지만,"
   ]
  },
  {
   "cell_type": "code",
   "execution_count": 52,
   "metadata": {},
   "outputs": [
    {
     "name": "stdout",
     "output_type": "stream",
     "text": [
      "4399761760\n",
      "4399761760\n"
     ]
    }
   ],
   "source": [
    "print(id(a[0][0]))\n",
    "print(id(b[0][0]))"
   ]
  },
  {
   "cell_type": "markdown",
   "metadata": {},
   "source": [
    "복사를 떠왔던 b의 구성 원소 리스트의 0번째 값을 수정하면, a의 원소에 영향을 미치나? -> 아니!"
   ]
  },
  {
   "cell_type": "code",
   "execution_count": 53,
   "metadata": {},
   "outputs": [
    {
     "name": "stdout",
     "output_type": "stream",
     "text": [
      "[[9, 2], [3, 4]]\n",
      "[[1, 2], [3, 4]]\n"
     ]
    }
   ],
   "source": [
    "b[0][0] = 9\n",
    "print(b)\n",
    "\n",
    "print(a)"
   ]
  },
  {
   "cell_type": "code",
   "execution_count": 54,
   "metadata": {},
   "outputs": [
    {
     "name": "stdout",
     "output_type": "stream",
     "text": [
      "4399761760\n",
      "4399762016\n"
     ]
    }
   ],
   "source": [
    "print(id(a[0][0]))\n",
    "print(id(b[0][0]))"
   ]
  },
  {
   "cell_type": "markdown",
   "metadata": {},
   "source": [
    "얕은 복사의 경우 복사해온 객체의 구성 원소에 변경이 생겼을 경우 원본이었던 리스트도 함께 바뀌었다.\n",
    "\n",
    "그러나 깊은 복사를 사용할 경우에는 복사해온 객체의 구성원소를 변경했다고 하더라도 원본 객체에는 영향을 주지 않는다."
   ]
  },
  {
   "cell_type": "markdown",
   "metadata": {},
   "source": [
    "# 깊은 복사 구현하기\n",
    "\n",
    "라이브러리를 쓰지 않고 깊은 복사 함수를 직접 만들어 보겠습니다. :3"
   ]
  },
  {
   "cell_type": "code",
   "execution_count": 55,
   "metadata": {},
   "outputs": [],
   "source": [
    "def deepcopy(A):\n",
    "    \"\"\"\n",
    "    깊은 복사 (deepcopy) 함수 구현\n",
    "    입력값: 깊은 복사를 하고자 하는 행렬 리스트 A\n",
    "    출력값: 깊은 복사된 결과 행렬 리스트 res\n",
    "    \"\"\"\n",
    "    \n",
    "    if type(A[0]) == list:       # 리스트 A의 첫 원소가 리스트면, 즉 A가 행렬이라면\n",
    "        n = len(A)               # A의 갯수를 세고, 이것이 행의 크기가 된다.\n",
    "        p = len(A[0])            # 첫 원소리스트 안의 갯수를 센다. 이것이 열의 크기가 된다.\n",
    "        res = zero_mat(n,p)      # 입력값 A와 동일한 크기인 영행렬을 생성한다.\n",
    "        for i in range(0, n):\n",
    "            for j in range(0, p):\n",
    "                res[i][j] = A[i][j]  # A의 각 위치를 영행렬 res에 넣는다.\n",
    "        return res\n",
    "    else:\n",
    "        n = len(A)               # A가 행렬이 아닌, 즉 벡터인 경우에는\n",
    "        res = []\n",
    "        for i in range(0,n):     # A 벡터의 각 스칼라를 \n",
    "            res.append(A[i])     # res 라는 리스트에 넣는다.\n",
    "        return res        \n",
    "        "
   ]
  },
  {
   "cell_type": "markdown",
   "metadata": {},
   "source": [
    "## 이때 zero_mat 라는 영행렬 생성 함수는 어떻게 구현하나??"
   ]
  },
  {
   "cell_type": "code",
   "execution_count": null,
   "metadata": {},
   "outputs": [],
   "source": []
  },
  {
   "cell_type": "code",
   "execution_count": null,
   "metadata": {},
   "outputs": [],
   "source": []
  },
  {
   "cell_type": "code",
   "execution_count": null,
   "metadata": {},
   "outputs": [],
   "source": []
  },
  {
   "cell_type": "code",
   "execution_count": null,
   "metadata": {},
   "outputs": [],
   "source": []
  },
  {
   "cell_type": "code",
   "execution_count": null,
   "metadata": {},
   "outputs": [],
   "source": []
  },
  {
   "cell_type": "code",
   "execution_count": null,
   "metadata": {},
   "outputs": [],
   "source": []
  },
  {
   "cell_type": "code",
   "execution_count": null,
   "metadata": {},
   "outputs": [],
   "source": []
  },
  {
   "cell_type": "code",
   "execution_count": null,
   "metadata": {},
   "outputs": [],
   "source": []
  },
  {
   "cell_type": "code",
   "execution_count": null,
   "metadata": {},
   "outputs": [],
   "source": []
  },
  {
   "cell_type": "code",
   "execution_count": null,
   "metadata": {},
   "outputs": [],
   "source": []
  },
  {
   "cell_type": "code",
   "execution_count": null,
   "metadata": {},
   "outputs": [],
   "source": []
  }
 ],
 "metadata": {
  "kernelspec": {
   "display_name": "Python 3 (ipykernel)",
   "language": "python",
   "name": "python3"
  },
  "language_info": {
   "codemirror_mode": {
    "name": "ipython",
    "version": 3
   },
   "file_extension": ".py",
   "mimetype": "text/x-python",
   "name": "python",
   "nbconvert_exporter": "python",
   "pygments_lexer": "ipython3",
   "version": "3.8.5"
  },
  "toc": {
   "base_numbering": 1,
   "nav_menu": {},
   "number_sections": true,
   "sideBar": true,
   "skip_h1_title": false,
   "title_cell": "Table of Contents",
   "title_sidebar": "Contents",
   "toc_cell": false,
   "toc_position": {},
   "toc_section_display": true,
   "toc_window_display": true
  }
 },
 "nbformat": 4,
 "nbformat_minor": 4
}

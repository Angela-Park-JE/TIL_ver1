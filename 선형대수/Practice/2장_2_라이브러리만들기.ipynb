{
 "cells": [
  {
   "cell_type": "markdown",
   "id": "6a53abba",
   "metadata": {},
   "source": [
    "나만의 라이브러리를 만드고 해당 라이브러리에 속하는 함수를 사용하고 싶을 때마다 라이브러리를 불러온다면 편하게 사용할 수 있다."
   ]
  },
  {
   "cell_type": "markdown",
   "id": "053d6187",
   "metadata": {},
   "source": [
    "### 함수 정리"
   ]
  },
  {
   "cell_type": "code",
   "execution_count": 1,
   "id": "9a940daa",
   "metadata": {},
   "outputs": [],
   "source": [
    "def zero_mat(n, p):\n",
    "    \"\"\"\n",
    "    영 행렬 생성\n",
    "    입력값: 생성하고자 하는 영 행렬의 크기 (n행, p열)\n",
    "    출력값: (n x p) 영 행렬 Z\n",
    "    \"\"\"\n",
    "    Z = []\n",
    "    for i in range(0,n):\n",
    "        row = []\n",
    "        for j in range(0,p):\n",
    "            row.append(0)\n",
    "        Z.append(row)\n",
    "    return Z\n",
    "\n",
    "def deepcopy(A):\n",
    "    \"\"\"\n",
    "    깊은 복사 (deepcopy) 함수 구현\n",
    "    입력값: 깊은 복사를 하고자 하는 행렬 리스트 A\n",
    "    출력값: 깊은 복사된 결과 행렬 리스트 res\n",
    "    \"\"\"\n",
    "    \n",
    "    if type(A[0]) == list:\n",
    "        n = len(A)\n",
    "        p = len(A[0])\n",
    "        res = zero_mat(n,p)\n",
    "        for i in range(0, n):\n",
    "            for j in range(0, p):\n",
    "                res[i][j] = A[i][j]\n",
    "        return res\n",
    "    else:\n",
    "        n = len(A)\n",
    "        res = []\n",
    "        for i in range(0,n):\n",
    "            res.append(A[i])\n",
    "        return res"
   ]
  },
  {
   "cell_type": "markdown",
   "id": "369047bf",
   "metadata": {},
   "source": [
    "### 코드를 넣어두고, 라이브러리 이름을 정해준다.\n",
    "\n",
    "- 나는 mydeepcopy라고 하기로 했다.\n",
    "\n",
    "---\n",
    "\n",
    "### 주피터노트북의 이름을 정하고, 해당 파일을 File 메뉴에서 py로 다운로드한다.\n",
    "\n",
    "---\n",
    "\n",
    "### 다운로드 후, 실습 폴더 source_code라는 폴더로 py파일을 이동한다.\n",
    "\n",
    "---\n",
    "\n",
    "### 이동 후 해당 폴더에서 주피터 노트북 파일을 생성하여\n",
    "\n",
    "import mydeepcopy as mdp 이런식으로 불러온다\n",
    "\n",
    "아래처럼 쓸 수 있을 것."
   ]
  },
  {
   "cell_type": "code",
   "execution_count": null,
   "id": "f779c976",
   "metadata": {},
   "outputs": [],
   "source": [
    "import mydeepcopy as mdp\n",
    "\n",
    "A = [[1,2], [3,4]]\n",
    "B = mdp.deepcopy(A)\n",
    "\n",
    "print(B)"
   ]
  }
 ],
 "metadata": {
  "kernelspec": {
   "display_name": "Python 3 (ipykernel)",
   "language": "python",
   "name": "python3"
  },
  "language_info": {
   "codemirror_mode": {
    "name": "ipython",
    "version": 3
   },
   "file_extension": ".py",
   "mimetype": "text/x-python",
   "name": "python",
   "nbconvert_exporter": "python",
   "pygments_lexer": "ipython3",
   "version": "3.8.5"
  },
  "toc": {
   "base_numbering": 1,
   "nav_menu": {},
   "number_sections": true,
   "sideBar": true,
   "skip_h1_title": false,
   "title_cell": "Table of Contents",
   "title_sidebar": "Contents",
   "toc_cell": false,
   "toc_position": {},
   "toc_section_display": true,
   "toc_window_display": false
  }
 },
 "nbformat": 4,
 "nbformat_minor": 5
}

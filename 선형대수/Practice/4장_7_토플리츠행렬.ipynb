{
 "cells": [
  {
   "cell_type": "markdown",
   "id": "540bd52c",
   "metadata": {},
   "source": [
    "#  토플리츠 행렬\n",
    "\n",
    " ## 토플리츠 행렬의 개념\n",
    " \n",
    "*시계열분석에서 많이 쓰이는 정사각 행렬.*\n",
    "\n",
    "*시점에 따라 값이 나열되어있는 시계열 데이터를 행렬 형태로 변환할 때 토플리츠 행렬을 사용한다.*\n",
    "\n",
    "1행의 원소가 2행으로 가면서 한 열씩 오른쪽으로 이동하며, 2행의 원소는 3행으로 가면서 한 열씩 또 이동한다. 대각선 위의 성분들이 서로 같다.\n",
    "\n",
    "생긴 것은 다음과 같다.\n",
    "\n",
    "$ M_{{i,j}}=M_{{i+1,j+1}}\\qquad \\forall i,j $\n",
    "\n",
    " $ {\\displaystyle n\\times n}n\\times n 퇴플리츠 행렬은 다음과 같은 꼴이다.$\n",
    "\n",
    "$ {\\displaystyle M={\\begin{pmatrix}a_{0}&a_{-1}&a_{-2}&\\ldots &\\ldots &a_{-n+1}\\\\a_{1}&a_{0}&a_{-1}&\\ddots &&\\vdots \\\\a_{2}&a_{1}&\\ddots &\\ddots &\\ddots &\\vdots \\\\\\vdots &\\ddots &\\ddots &\\ddots &a_{-1}&a_{-2}\\\\\\vdots &&\\ddots &a_{1}&a_{0}&a_{-1}\\\\a_{n-1}&\\ldots &\\ldots &a_{2}&a_{1}&a_{0}\\end{pmatrix}}} $\n",
    "\n"
   ]
  },
  {
   "cell_type": "markdown",
   "id": "b6b00d46",
   "metadata": {},
   "source": [
    "## 토플리츠 행렬의 성질\n",
    "\n",
    "두 $n\\times n$ 퇴플리츠 행렬 $ M,M'$ 에 대하여, 각종 연산의 계산 복잡도는 다음과 같다.\n",
    "\n",
    "- 덧셈: $ O(n) $\n",
    "- 곱셈: $ O(n^{2}) $\n",
    "- 연립 일차 방정식 $Mx=a$의 해: $ O(n^{2}) $ (레빈슨 재귀 알고리즘)\n",
    "- 행렬식 $\\det M: O(n^{2}) $ (레빈슨 재귀 알고리즘)\n",
    "\n",
    "*참조 : https://ko.wikipedia.org/wiki/%ED%87%B4%ED%94%8C%EB%A6%AC%EC%B8%A0_%ED%96%89%EB%A0%AC*\n"
   ]
  },
  {
   "cell_type": "markdown",
   "id": "6216dfba",
   "metadata": {},
   "source": [
    "## 토플리츠 행렬 만들기"
   ]
  },
  {
   "cell_type": "markdown",
   "id": "fec42b57",
   "metadata": {},
   "source": [
    "### 파이썬으로 구현"
   ]
  },
  {
   "cell_type": "code",
   "execution_count": 1,
   "id": "fbae2474",
   "metadata": {},
   "outputs": [],
   "source": [
    "A = [[1, 2, 3], [4, 5, 6], [7, 8, 9]]"
   ]
  },
  {
   "cell_type": "code",
   "execution_count": 2,
   "id": "abca228a",
   "metadata": {},
   "outputs": [],
   "source": [
    "n = len(A)\n",
    "p = len(A[0])\n",
    "utri = []\n",
    "\n",
    "for i in range(0, n):\n",
    "    row = []\n",
    "    for j in range(0, p):\n",
    "        if i > j:\n",
    "            row.append(0)\n",
    "        else:\n",
    "            row.append(A[i][j])\n",
    "    utri.append(row)"
   ]
  },
  {
   "cell_type": "code",
   "execution_count": 3,
   "id": "607fa22d",
   "metadata": {},
   "outputs": [
    {
     "name": "stdout",
     "output_type": "stream",
     "text": [
      "[[1, 2, 3], [0, 5, 6], [0, 0, 9]]\n"
     ]
    }
   ],
   "source": [
    "print(utri)"
   ]
  },
  {
   "cell_type": "markdown",
   "id": "eb16f0ba",
   "metadata": {},
   "source": [
    "### 함수로 만들기"
   ]
  },
  {
   "cell_type": "code",
   "execution_count": 5,
   "id": "0960f386",
   "metadata": {},
   "outputs": [],
   "source": [
    "def upper_tri(A):\n",
    "    \"\"\"\n",
    "    상 삼각 행렬로 변환\n",
    "    입력값: 변환하려는 행렬 A\n",
    "    출력값: 행렬 A를 상 삼각 행렬로 변환한 행렬 utri\n",
    "    \"\"\"\n",
    "    \n",
    "    n = len(A)\n",
    "    p = len(A[0])\n",
    "    utri = []\n",
    "\n",
    "    for i in range(0, n):\n",
    "        row = []\n",
    "        for j in range(0, p):\n",
    "            if i > j:\n",
    "                row.append(0)\n",
    "            else:\n",
    "                row.append(A[i][j])\n",
    "        utri.append(row)\n",
    "    \n",
    "    return utri"
   ]
  },
  {
   "cell_type": "code",
   "execution_count": 6,
   "id": "e6d9732e",
   "metadata": {},
   "outputs": [
    {
     "data": {
      "text/plain": [
       "[[1, 2, 3], [0, 5, 6], [0, 0, 9]]"
      ]
     },
     "execution_count": 6,
     "metadata": {},
     "output_type": "execute_result"
    }
   ],
   "source": [
    "A = [[1, 2, 3], [4, 5, 6], [7, 8, 9]]\n",
    "upper_tri(A)"
   ]
  },
  {
   "cell_type": "markdown",
   "id": "a5566c1d",
   "metadata": {},
   "source": [
    "### scipy 로 실습"
   ]
  },
  {
   "cell_type": "code",
   "execution_count": null,
   "id": "8b46c36e",
   "metadata": {},
   "outputs": [],
   "source": []
  }
 ],
 "metadata": {
  "kernelspec": {
   "display_name": "Python 3 (ipykernel)",
   "language": "python",
   "name": "python3"
  },
  "language_info": {
   "codemirror_mode": {
    "name": "ipython",
    "version": 3
   },
   "file_extension": ".py",
   "mimetype": "text/x-python",
   "name": "python",
   "nbconvert_exporter": "python",
   "pygments_lexer": "ipython3",
   "version": "3.8.5"
  },
  "toc": {
   "base_numbering": 1,
   "nav_menu": {},
   "number_sections": true,
   "sideBar": true,
   "skip_h1_title": false,
   "title_cell": "Table of Contents",
   "title_sidebar": "Contents",
   "toc_cell": false,
   "toc_position": {},
   "toc_section_display": true,
   "toc_window_display": false
  }
 },
 "nbformat": 4,
 "nbformat_minor": 5
}

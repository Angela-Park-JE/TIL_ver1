{
 "cells": [
  {
   "cell_type": "markdown",
   "id": "540bd52c",
   "metadata": {},
   "source": [
    "#  토플리츠 행렬\n",
    "\n",
    " ## 토플리츠 행렬의 개념\n",
    " \n",
    "*시계열분석에서 많이 쓰이는 행렬.*\n",
    "\n",
    "*시점에 따라 값이 나열되어있는 시계열 데이터를 행렬 형태로 변환할 때 토플리츠 행렬을 사용한다.*\n",
    "\n",
    "1행의 원소가 2행으로 가면서 한 열씩 오른쪽으로 이동하며, 2행의 원소는 3행으로 가면서 한 열씩 또 이동한다. 대각선 위의 성분들이 서로 같다.\n",
    "\n",
    "생긴 것은 다음과 같다.\n",
    "\n",
    "$ M_{{i,j}}=M_{{i+1,j+1}}\\qquad \\forall i,j $\n",
    "\n",
    " $ {\\displaystyle n\\times n}n\\times n 퇴플리츠 행렬은 다음과 같은 꼴이다.$\n",
    "\n",
    "$ {\\displaystyle M={\\begin{pmatrix}a_{0}&a_{-1}&a_{-2}&\\ldots &\\ldots &a_{-n+1}\\\\a_{1}&a_{0}&a_{-1}&\\ddots &&\\vdots \\\\a_{2}&a_{1}&\\ddots &\\ddots &\\ddots &\\vdots \\\\\\vdots &\\ddots &\\ddots &\\ddots &a_{-1}&a_{-2}\\\\\\vdots &&\\ddots &a_{1}&a_{0}&a_{-1}\\\\a_{n-1}&\\ldots &\\ldots &a_{2}&a_{1}&a_{0}\\end{pmatrix}}} $\n",
    "\n"
   ]
  },
  {
   "cell_type": "markdown",
   "id": "b6b00d46",
   "metadata": {},
   "source": [
    "## 토플리츠 행렬의 성질\n",
    "\n",
    "두 $n\\times n$ 퇴플리츠 행렬 $ M,M'$ 에 대하여, 각종 연산의 계산 복잡도는 다음과 같다.\n",
    "\n",
    "- 덧셈: $ O(n) $\n",
    "- 곱셈: $ O(n^{2}) $\n",
    "- 연립 일차 방정식 $Mx=a$의 해: $ O(n^{2}) $ (레빈슨 재귀 알고리즘)\n",
    "- 행렬식 $\\det M: O(n^{2}) $ (레빈슨 재귀 알고리즘)\n",
    "\n",
    "*참조 : https://ko.wikipedia.org/wiki/%ED%87%B4%ED%94%8C%EB%A6%AC%EC%B8%A0_%ED%96%89%EB%A0%AC*\n"
   ]
  },
  {
   "cell_type": "markdown",
   "id": "6216dfba",
   "metadata": {},
   "source": [
    "## 토플리츠 행렬 만들기"
   ]
  },
  {
   "cell_type": "markdown",
   "id": "fec42b57",
   "metadata": {},
   "source": [
    "### 파이썬으로 구현\n",
    "\n",
    "토플리츠 행렬을 구성할 벡터를 먼저 선언한다."
   ]
  },
  {
   "cell_type": "code",
   "execution_count": 2,
   "id": "623627c2",
   "metadata": {},
   "outputs": [],
   "source": [
    "# 1행은 b로 시작하며, 행이 진행될 수록 a가 추가될 것이다.\n",
    "\n",
    "a = [0, 1, 2, -3]\n",
    "b = [4, -5, 6, -7, 8]"
   ]
  },
  {
   "cell_type": "code",
   "execution_count": 3,
   "id": "abca228a",
   "metadata": {},
   "outputs": [],
   "source": [
    "n1 = len(a)\n",
    "n2 = len(b)"
   ]
  },
  {
   "cell_type": "code",
   "execution_count": 5,
   "id": "607fa22d",
   "metadata": {},
   "outputs": [
    {
     "name": "stdout",
     "output_type": "stream",
     "text": [
      "4\n",
      "5\n"
     ]
    }
   ],
   "source": [
    "# 행렬의 크기\n",
    "\n",
    "print(n1)\n",
    "print(n2)"
   ]
  },
  {
   "cell_type": "code",
   "execution_count": 6,
   "id": "0960f386",
   "metadata": {},
   "outputs": [],
   "source": [
    "A = []\n",
    "\n",
    "for i in range(0, n1):\n",
    "    row = []\n",
    "    for j in range(0, n2):\n",
    "        if i > j:\n",
    "            row.append(a[i-j])\n",
    "        else:\n",
    "            row.append(b[j-i])\n",
    "    A.append(row)"
   ]
  },
  {
   "cell_type": "code",
   "execution_count": 7,
   "id": "e6d9732e",
   "metadata": {},
   "outputs": [
    {
     "data": {
      "text/plain": [
       "[[4, -5, 6, -7, 8], [1, 4, -5, 6, -7], [2, 1, 4, -5, 6], [-3, 2, 1, 4, -5]]"
      ]
     },
     "execution_count": 7,
     "metadata": {},
     "output_type": "execute_result"
    }
   ],
   "source": [
    "A"
   ]
  },
  {
   "cell_type": "markdown",
   "id": "eb16f0ba",
   "metadata": {},
   "source": [
    "### 함수로 만들기"
   ]
  },
  {
   "cell_type": "code",
   "execution_count": 8,
   "id": "0347660c",
   "metadata": {},
   "outputs": [],
   "source": [
    "def toeplitz(a, b):\n",
    "    \"\"\"\n",
    "    토플리츠 행렬 변환\n",
    "    b 벡터 요소로 시작하여 a 벡터 요소들을 추가한다.\n",
    "    입력값: 토플리츠 행렬로 변환하고자 하는 리스트 a, b\n",
    "    출력값: 리스트 a, b를 이용해 만든 토플리츠 행렬 A\n",
    "    \"\"\"\n",
    "    \n",
    "    n1 = len(a)\n",
    "    n2 = len(b)\n",
    "    A = []\n",
    "    \n",
    "    for i in range(0, n1):\n",
    "        row = []\n",
    "        for j in range(0, n2):\n",
    "            if i > j:\n",
    "                row.append(a[i-j])\n",
    "            else:\n",
    "                row.append(b[j-i])\n",
    "        A.append(row)\n",
    "    \n",
    "    return A"
   ]
  },
  {
   "cell_type": "code",
   "execution_count": 10,
   "id": "a5c58268",
   "metadata": {},
   "outputs": [
    {
     "data": {
      "text/plain": [
       "[[4, -5, 6, -7, 8], [1, 4, -5, 6, -7], [2, 1, 4, -5, 6], [-3, 2, 1, 4, -5]]"
      ]
     },
     "execution_count": 10,
     "metadata": {},
     "output_type": "execute_result"
    }
   ],
   "source": [
    "a = [0, 1, 2, -3]\n",
    "b = [4, -5, 6, -7, 8]\n",
    "\n",
    "toeplitz(a, b)"
   ]
  },
  {
   "cell_type": "markdown",
   "id": "a5566c1d",
   "metadata": {},
   "source": [
    "### scipy 로 실습\n",
    "\n",
    "넘파이 라이브러리에서는 토플리츠 행렬을 만드는 함수를 제공하고 있지 않다."
   ]
  },
  {
   "cell_type": "code",
   "execution_count": 11,
   "id": "e6531c87",
   "metadata": {},
   "outputs": [],
   "source": [
    "from scipy.linalg import toeplitz"
   ]
  },
  {
   "cell_type": "code",
   "execution_count": 12,
   "id": "c628e109",
   "metadata": {},
   "outputs": [],
   "source": [
    "a = [0, 1, 2, -3]\n",
    "b = [4, -5, 6, -7, 8]"
   ]
  },
  {
   "cell_type": "code",
   "execution_count": 15,
   "id": "2923a9fb",
   "metadata": {},
   "outputs": [
    {
     "data": {
      "text/plain": [
       "array([[ 0, -5,  6, -7,  8],\n",
       "       [ 1,  0, -5,  6, -7],\n",
       "       [ 2,  1,  0, -5,  6],\n",
       "       [-3,  2,  1,  0, -5]])"
      ]
     },
     "execution_count": 15,
     "metadata": {},
     "output_type": "execute_result"
    }
   ],
   "source": [
    "A = toeplitz(a, b)\n",
    "A"
   ]
  }
 ],
 "metadata": {
  "kernelspec": {
   "display_name": "Python 3 (ipykernel)",
   "language": "python",
   "name": "python3"
  },
  "language_info": {
   "codemirror_mode": {
    "name": "ipython",
    "version": 3
   },
   "file_extension": ".py",
   "mimetype": "text/x-python",
   "name": "python",
   "nbconvert_exporter": "python",
   "pygments_lexer": "ipython3",
   "version": "3.8.5"
  },
  "toc": {
   "base_numbering": 1,
   "nav_menu": {},
   "number_sections": true,
   "sideBar": true,
   "skip_h1_title": false,
   "title_cell": "Table of Contents",
   "title_sidebar": "Contents",
   "toc_cell": false,
   "toc_position": {},
   "toc_section_display": true,
   "toc_window_display": false
  }
 },
 "nbformat": 4,
 "nbformat_minor": 5
}

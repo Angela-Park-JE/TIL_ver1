{
 "cells": [
  {
   "attachments": {
    "image-2.png": {
     "image/png": "[encoded data removed]"
    },
    "image.png": {
     "image/png": "[encoded data removed]"
    }
   },
   "cell_type": "markdown",
   "id": "fbb0fa28",
   "metadata": {},
   "source": [
    "# 전치 행렬\n",
    "\n",
    "## 전치 행렬 개념\n",
    "\n",
    "기존 행렬의 행과 열을 바꾼 행렬. 기존 행렬의 행 번호가 열 번호, 열 번호가 행 번호가 되어 원소의 자리가 바뀐 행렬.\n",
    "\n",
    "헹렬의 크기도 기존의 행 크기가 열 크기로, 열 크기가 행 번호로 변환된다.\n",
    "\n",
    "![image.png](attachment:image.png)\n",
    "\n",
    "![image-2.png](attachment:image-2.png)\n",
    "\n",
    "그 역함수 또한 (정의역과 공역이 뒤바뀐) 전치 행렬이다.\n",
    "\n",
    "*이미지와 일부 출처: https://ko.wikipedia.org/wiki/%ED%96%89%EB%A0%AC*"
   ]
  },
  {
   "cell_type": "markdown",
   "id": "959b6ad1",
   "metadata": {},
   "source": [
    "## 전치 행렬의 성질\n",
    "\n",
    "기존 행렬의 행 번호와 열 번호를 바꾼 행렬인데, 이러한 행렬의 특징을 가지고 있다.\n",
    "\n",
    "$ ( A^T ) = A $\n",
    "\n",
    "$ (A + B)^T = A^T + B^T $\n",
    "\n",
    "$ (A - B)^T = A^T - B^T $\n",
    "\n",
    "$ (aA)^T = aA^T $\n",
    "\n",
    "$ (AB)^T = B^T A^T $"
   ]
  },
  {
   "cell_type": "markdown",
   "id": "db71e4fb",
   "metadata": {},
   "source": [
    "## 파이썬 실습"
   ]
  },
  {
   "cell_type": "code",
   "execution_count": 1,
   "id": "eb84640c",
   "metadata": {},
   "outputs": [],
   "source": [
    "A = [[1, 5], [3, 4], [6, 2]]\n",
    "\n",
    "n = len(A)\n",
    "p = len(A[0])\n",
    "\n",
    "At = []\n",
    "for i in range(0, p):\n",
    "    row = []\n",
    "    for j in range(0, n):\n",
    "        val = A[j][i]\n",
    "        row.append(val)\n",
    "    At.append(row)\n"
   ]
  },
  {
   "cell_type": "code",
   "execution_count": 2,
   "id": "ebbe425a",
   "metadata": {},
   "outputs": [
    {
     "name": "stdout",
     "output_type": "stream",
     "text": [
      "[[1, 3, 6], [5, 4, 2]]\n"
     ]
    }
   ],
   "source": [
    "print(At)"
   ]
  },
  {
   "cell_type": "markdown",
   "id": "f5ca2afa",
   "metadata": {},
   "source": [
    "## 함수 구현"
   ]
  },
  {
   "cell_type": "code",
   "execution_count": 5,
   "id": "5030c08d",
   "metadata": {},
   "outputs": [],
   "source": [
    "def transpose(A):\n",
    "    \"\"\"\n",
    "    행렬의 전치 행렬\n",
    "    입력값: 전치 행렬을 구하고자 하는 행렬 A\n",
    "    출력값: 행렬 A의 전치 행렬 At\n",
    "    \"\"\"\n",
    "    \n",
    "    n = len(A)\n",
    "    p = len(A[0])\n",
    "    \n",
    "    At = []\n",
    "    for i in range(0, p):\n",
    "        row = []\n",
    "        for j in range(0, n):\n",
    "            val = A[j][i]\n",
    "            row.append(val)\n",
    "        At.append(row)\n",
    "    \n",
    "    return At"
   ]
  },
  {
   "cell_type": "code",
   "execution_count": 6,
   "id": "4ae77eaa",
   "metadata": {},
   "outputs": [
    {
     "data": {
      "text/plain": [
       "[[1, 3, 6], [5, 4, 2]]"
      ]
     },
     "execution_count": 6,
     "metadata": {},
     "output_type": "execute_result"
    }
   ],
   "source": [
    "A = [[1, 5], [3, 4], [6, 2]]\n",
    "\n",
    "transpose(A)"
   ]
  },
  {
   "cell_type": "markdown",
   "id": "4e99d289",
   "metadata": {},
   "source": [
    "## 넘파이 실습"
   ]
  },
  {
   "cell_type": "code",
   "execution_count": 7,
   "id": "5e1c6572",
   "metadata": {},
   "outputs": [],
   "source": [
    "import numpy as np"
   ]
  },
  {
   "cell_type": "code",
   "execution_count": 8,
   "id": "f656d05e",
   "metadata": {},
   "outputs": [],
   "source": [
    "A = np.array([[1, 5], [3, 4], [6, 2]])\n",
    "At = np.transpose(A)"
   ]
  },
  {
   "cell_type": "code",
   "execution_count": 9,
   "id": "831cf9db",
   "metadata": {},
   "outputs": [
    {
     "name": "stdout",
     "output_type": "stream",
     "text": [
      "[[1 3 6]\n",
      " [5 4 2]]\n"
     ]
    }
   ],
   "source": [
    "print(At)"
   ]
  },
  {
   "cell_type": "markdown",
   "id": "9650e266",
   "metadata": {},
   "source": [
    ".T  메소드를 이용해서 간단히 표현할 수도 있다."
   ]
  },
  {
   "cell_type": "code",
   "execution_count": 10,
   "id": "04c3ae96",
   "metadata": {},
   "outputs": [
    {
     "name": "stdout",
     "output_type": "stream",
     "text": [
      "[[1 3 6]\n",
      " [5 4 2]]\n"
     ]
    }
   ],
   "source": [
    "Xt = A.T\n",
    "print(Xt)"
   ]
  }
 ],
 "metadata": {
  "kernelspec": {
   "display_name": "Python 3 (ipykernel)",
   "language": "python",
   "name": "python3"
  },
  "language_info": {
   "codemirror_mode": {
    "name": "ipython",
    "version": 3
   },
   "file_extension": ".py",
   "mimetype": "text/x-python",
   "name": "python",
   "nbconvert_exporter": "python",
   "pygments_lexer": "ipython3",
   "version": "3.9.7"
  },
  "toc": {
   "base_numbering": 1,
   "nav_menu": {},
   "number_sections": true,
   "sideBar": true,
   "skip_h1_title": false,
   "title_cell": "Table of Contents",
   "title_sidebar": "Contents",
   "toc_cell": false,
   "toc_position": {},
   "toc_section_display": true,
   "toc_window_display": false
  }
 },
 "nbformat": 4,
 "nbformat_minor": 5
}

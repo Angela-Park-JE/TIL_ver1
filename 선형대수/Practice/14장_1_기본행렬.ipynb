{
 "cells": [
  {
   "cell_type": "markdown",
   "id": "d8c38fa8",
   "metadata": {},
   "source": [
    "# 기본 행렬(elementary matrix)\n",
    "\n",
    "LU분해 방법을 알아보기 전에 우선 기본 행렬에 대해 알아본다. 기본 행렬은 LU분해 과정을 이해하기 위해 알아야 하는 행렬이다.\n",
    "\n",
    "앞서 선형 시스템의 해를 구하기 위해 첨가 행렬에 기본 행 연산을 수행하는 과정을 배웠다.\n",
    "\n",
    "## 기본 행렬의 개념\n",
    "\n",
    "기본 행렬은 단위 행렬 I(identity matrix)에서 기본 행 연산을 수행한 행렬을 의미한다."
   ]
  },
  {
   "cell_type": "markdown",
   "id": "118aa599",
   "metadata": {},
   "source": [
    "## 기본 행 연산\n",
    "\n",
    "사실 기본 행렬을 구하는 연산을 기본 행 연산이라고도 한다.\n",
    "\n",
    "----- \n",
    "##### *위키발췌*\n",
    "\n",
    "*:https://ko.wikipedia.org/wiki/%EA%B8%B0%EB%B3%B8%ED%96%89%EB%A0%AC*\n",
    "\n",
    "수학에서, 기본 행렬(elementary matrix, En)은 nxn 크기의 단위행렬(In)에서 기본행연산(elementary row operation)을 한 번 실행하여 얻어지는 행렬이다. 또한 기본행연산의 존재여부에 따라 단위 행렬과 기본행렬로 구분된다.\n",
    "\n",
    "예를 들면 일반적인 연립방정식을 Ax = b 라 했을 때 기본행연산을 하여 양변에 곱하면 EA x = Eb가 된다. 여기에서 E를 기본행렬(elementary matrix)이라 하고 이 E가 기본행연산을 여러번 거쳐서 만들어진 정방행렬이자 가역행렬이면, E는 역행렬이 될 수도 있다(x=A-1*b).\n",
    "\n",
    "기본행렬을 만드는 연산을 기본행연산이라고 한다. 어떤 행렬에 기본행렬을 여러 번 곱하여 단위 행렬로 만들 수 있다면 그 행렬은 가역행렬 또는 역행렬이 존재함을 증명할 수 있고, 기본행연산으로 가역행렬 또는 역행렬을 구할 수 있다. 이후에 전자회로 수치해석에서 어떤 행렬이 역행렬이 존재하고 그 역행렬을 이용하여 전자회로를 디자인하고 해석할 수 있는 것은 아주 중요한 항목이다.\n",
    "\n",
    "##### 기본 행 연산\n",
    "\n",
    "3개의 방법이 있다.\n",
    "\n",
    "- 행 교환법: 두 행을 교환.(Row switching transformations)\n",
    "\n",
    "    두 개의 행의 줄 전체를 아래 위로 교환한다. 이 변형법은 단위행렬 Tij를 행과 행을 교환하거나 열과 열을 교환하는 방법이다. 행렬에서 행과 행을 교환하여나 열과 열을 교환해도 행렬자체의 값에는 변동이 없다.\n",
    "    \n",
    "    ${\\displaystyle R_{i}\\leftrightarrow R_{j}}$ \n",
    "\n",
    "- 한행에 0이 아닌 상수를 곱함(Row-multiplying transformations)\n",
    "\n",
    "    행줄 전체에 0이 아닌 상수를 곱하여 행 전체에 n배를 한다.\n",
    "\n",
    "    ${\\displaystyle kR_{i}\\rightarrow R_{i},\\ {\\mbox{where }}k\\neq 0}$\n",
    "\n",
    "- 행에 상수를 추가하는 법: 한 행의 배수를 다른 행에 더함(Row-addition transformations)\n",
    "\n",
    "    행줄 전체에 n배를 하고 이것을 다시 다른 행에 추가한다.\n",
    "\n",
    "    ${\\displaystyle R_{i}+kR_{j}\\rightarrow R_{i},{\\mbox{where }}i\\neq j}$\n"
   ]
  },
  {
   "cell_type": "markdown",
   "id": "59235586",
   "metadata": {},
   "source": [
    "## 기본 행렬의 역행렬\n",
    "\n",
    "기본 행렬의 역행렬은 일반적인 행렬의 역행렬에 비해 쉽게 구할 수 있다.\n",
    "\n",
    "1. 기본 행렬이 대각 행렬인 경우, \n",
    "\n",
    "    - 행렬 원소의 주 대각 원소만 0이 아닌 대각 행렬의 역행렬은 두 대각 원소의 역수를 대입하면 구할 수 있다.\n",
    "\n",
    "    예)\n",
    "    \n",
    "    $ E = \\begin{pmatrix} 1 \\space\\space 0 \\space\\space 0 \\\\\\\\ 0 \\space\\space 1 \\space\\space 0 \\\\\\\\ 0 \\space\\space 0 \\space\\space 1 \\\\\\\\ \\end{pmatrix} , \n",
    "    E^{-1} = \\begin{pmatrix} 1 \\space\\space 0 \\space\\space 0 \\\\\\\\ 0 \\space\\space 1 \\space\\space 0 \\\\\\\\ 0 \\space\\space 0 \\space\\space 1/2 \\\\\\\\ \\end{pmatrix}  $\n",
    "    \n",
    "2. 기본 행렬이 대각 행렬이 아닌 경우,\n",
    "    \n",
    "    - 주 대각 원소 이외에도 0이 아닌 원소가 존재한다는 의미이므로, 대각 행렬의 역행렬을 구하는 방법은 사용할 수 없다.\n",
    "    \n",
    "    - 주 대각 원소가 아닌 0이 아닌 값에 -를 취하면 구할 수 있다.\n",
    "     \n",
    "     $ E = \\begin{pmatrix} 1 \\space\\space 0 \\space\\space 0 \\\\\\\\ 3 \\space\\space 1 \\space\\space 0 \\\\\\\\ 0 \\space\\space 0 \\space\\space 1 \\\\\\\\ \\end{pmatrix} , \n",
    "    E^{-1} = \\begin{pmatrix} 1 \\space\\space 0 \\space\\space 0 \\\\\\\\ -3 \\space\\space 1 \\space\\space 0 \\\\\\\\ 0 \\space\\space 0 \\space\\space 1/2 \\\\\\\\ \\end{pmatrix}  $   \n",
    "    "
   ]
  },
  {
   "cell_type": "code",
   "execution_count": null,
   "id": "408919b9",
   "metadata": {},
   "outputs": [],
   "source": []
  }
 ],
 "metadata": {
  "kernelspec": {
   "display_name": "Python 3 (ipykernel)",
   "language": "python",
   "name": "python3"
  },
  "language_info": {
   "codemirror_mode": {
    "name": "ipython",
    "version": 3
   },
   "file_extension": ".py",
   "mimetype": "text/x-python",
   "name": "python",
   "nbconvert_exporter": "python",
   "pygments_lexer": "ipython3",
   "version": "3.8.5"
  },
  "toc": {
   "base_numbering": 1,
   "nav_menu": {},
   "number_sections": true,
   "sideBar": true,
   "skip_h1_title": false,
   "title_cell": "Table of Contents",
   "title_sidebar": "Contents",
   "toc_cell": false,
   "toc_position": {},
   "toc_section_display": true,
   "toc_window_display": false
  }
 },
 "nbformat": 4,
 "nbformat_minor": 5
}

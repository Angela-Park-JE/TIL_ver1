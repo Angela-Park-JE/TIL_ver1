{
 "cells": [
  {
   "cell_type": "markdown",
   "id": "540bd52c",
   "metadata": {},
   "source": [
    "#  삼각 행렬\n",
    "\n",
    " ## 삼각 행렬의 개념\n",
    " \n",
    "행렬의 구성 원소가 삼각형 형태로 되어있는 행렬. 정사각 행렬이다.\n",
    "\n",
    "삼각형 형테를 제외한 나머지는 원소가 0이다. \n",
    "\n",
    "삼각행렬은 upper triangular matrix와 lower triangular matrix로, \n",
    "\n",
    "상 삼각 행렬은 주 대각 원소 아래쪽에 있는 모든 원소가 0인 정사각 행렬이고, 하 삼각 행렬은 주 대각 원소 위쪽에 있는 모든 원소가 0인 정사각 행렬이다.\n"
   ]
  },
  {
   "cell_type": "markdown",
   "id": "b6b00d46",
   "metadata": {},
   "source": [
    "## 삼각 행렬의 성질\n",
    "\n",
    "- 같은 상 삼각 행렬 혹은 같은 하 삼각 행렬끼리의 덧셈과 뺄셈의 결과는 같은 상 삼각 행렬 혹은 하 삼각 행렬 형태이다.\n",
    "- 상 삼각 행렬의 전치 행렬은 하 삼각 행렬이며, 하 삼각 행렬의 전치 행렬은 상 삼각 행렬이다.\n",
    "- 삼각 행렬의 역행렬 또한 삼각 행렬이다.\n"
   ]
  },
  {
   "cell_type": "markdown",
   "id": "6216dfba",
   "metadata": {},
   "source": [
    "## 삼각 행렬 만들기"
   ]
  },
  {
   "cell_type": "markdown",
   "id": "99a118b2",
   "metadata": {},
   "source": [
    "### 상 삼각 행렬로 만들기"
   ]
  },
  {
   "cell_type": "code",
   "execution_count": 1,
   "id": "2c097169",
   "metadata": {},
   "outputs": [],
   "source": [
    "A = [[1, 2, 3], [4, 5, 6], [7, 8, 9]]"
   ]
  },
  {
   "cell_type": "code",
   "execution_count": 2,
   "id": "e137584d",
   "metadata": {},
   "outputs": [],
   "source": [
    "n = len(A)\n",
    "p = len(A[0])\n",
    "utri = []\n",
    "\n",
    "for i in range(0, n):\n",
    "    row = []\n",
    "    for j in range(0, p):\n",
    "        if i > j:\n",
    "            row.append(0)\n",
    "        else:\n",
    "            row.append(A[i][j])\n",
    "    utri.append(row)"
   ]
  },
  {
   "cell_type": "code",
   "execution_count": 3,
   "id": "d4533c8c",
   "metadata": {},
   "outputs": [
    {
     "name": "stdout",
     "output_type": "stream",
     "text": [
      "[[1, 2, 3], [0, 5, 6], [0, 0, 9]]\n"
     ]
    }
   ],
   "source": [
    "print(utri)"
   ]
  },
  {
   "cell_type": "markdown",
   "id": "eb16f0ba",
   "metadata": {},
   "source": [
    "### 상 삼각 행렬로 만드는 함수 만들기\n",
    "\n"
   ]
  },
  {
   "cell_type": "code",
   "execution_count": 5,
   "id": "0960f386",
   "metadata": {},
   "outputs": [],
   "source": [
    "def upper_tri(A):\n",
    "    \"\"\"\n",
    "    상 삼각 행렬로 변환\n",
    "    입력값: 변환하려는 행렬 A\n",
    "    출력값: 행렬 A를 상 삼각 행렬로 변환한 행렬 utri\n",
    "    \"\"\"\n",
    "    \n",
    "    n = len(A)\n",
    "    p = len(A[0])\n",
    "    utri = []\n",
    "\n",
    "    for i in range(0, n):\n",
    "        row = []\n",
    "        for j in range(0, p):\n",
    "            if i > j:\n",
    "                row.append(0)\n",
    "            else:\n",
    "                row.append(A[i][j])\n",
    "        utri.append(row)\n",
    "    \n",
    "    return utri"
   ]
  },
  {
   "cell_type": "code",
   "execution_count": 6,
   "id": "97aa36be",
   "metadata": {},
   "outputs": [
    {
     "data": {
      "text/plain": [
       "[[1, 2, 3], [0, 5, 6], [0, 0, 9]]"
      ]
     },
     "execution_count": 6,
     "metadata": {},
     "output_type": "execute_result"
    }
   ],
   "source": [
    "A = [[1, 2, 3], [4, 5, 6], [7, 8, 9]]\n",
    "upper_tri(A)"
   ]
  },
  {
   "cell_type": "markdown",
   "id": "57ae18e0",
   "metadata": {},
   "source": [
    "## 하 삼각 행렬 만들기"
   ]
  },
  {
   "cell_type": "markdown",
   "id": "29e19a41",
   "metadata": {},
   "source": [
    "### 상 삼각 행렬로 만드는 함수 만들기\n",
    "\n"
   ]
  },
  {
   "cell_type": "code",
   "execution_count": 7,
   "id": "bb20809c",
   "metadata": {},
   "outputs": [],
   "source": [
    "def lower_tri(A):\n",
    "    \"\"\"\n",
    "    하 삼각 행렬로 변환\n",
    "    입력값: 변환하려는 행렬 A\n",
    "    출력값: 행렬 A를 하 삼각 행렬로 변환한 행렬 utri\n",
    "    \"\"\"\n",
    "    \n",
    "    n = len(A)\n",
    "    p = len(A[0])\n",
    "    ltri = []\n",
    "\n",
    "    for i in range(0, n):\n",
    "        row = []\n",
    "        for j in range(0, p):\n",
    "            if i < j:\n",
    "                row.append(0)\n",
    "            else:\n",
    "                row.append(A[i][j])\n",
    "        ltri.append(row)\n",
    "    \n",
    "    return ltri"
   ]
  },
  {
   "cell_type": "code",
   "execution_count": 8,
   "id": "5856ffc3",
   "metadata": {},
   "outputs": [
    {
     "data": {
      "text/plain": [
       "[[1, 0, 0], [4, 5, 0], [7, 8, 9]]"
      ]
     },
     "execution_count": 8,
     "metadata": {},
     "output_type": "execute_result"
    }
   ],
   "source": [
    "A = [[1, 2, 3], [4, 5, 6], [7, 8, 9]]\n",
    "lower_tri(A)"
   ]
  },
  {
   "cell_type": "code",
   "execution_count": 3,
   "id": "b2efddb5",
   "metadata": {},
   "outputs": [],
   "source": [
    "import numpy as np"
   ]
  },
  {
   "cell_type": "code",
   "execution_count": 7,
   "id": "914636da",
   "metadata": {},
   "outputs": [
    {
     "name": "stdout",
     "output_type": "stream",
     "text": [
      "[[0. 0. 0. 0. 0.]\n",
      " [0. 0. 0. 0. 0.]\n",
      " [0. 0. 0. 0. 0.]\n",
      " [0. 0. 0. 0. 0.]]\n"
     ]
    }
   ],
   "source": [
    "print(Z)"
   ]
  },
  {
   "cell_type": "code",
   "execution_count": 5,
   "id": "a66f4c77",
   "metadata": {},
   "outputs": [],
   "source": [
    "Z = np.zeros((4, 5))   # (n, p) 자체를 parameter로 넣어야 함"
   ]
  }
 ],
 "metadata": {
  "kernelspec": {
   "display_name": "Python 3 (ipykernel)",
   "language": "python",
   "name": "python3"
  },
  "language_info": {
   "codemirror_mode": {
    "name": "ipython",
    "version": 3
   },
   "file_extension": ".py",
   "mimetype": "text/x-python",
   "name": "python",
   "nbconvert_exporter": "python",
   "pygments_lexer": "ipython3",
   "version": "3.8.5"
  },
  "toc": {
   "base_numbering": 1,
   "nav_menu": {},
   "number_sections": true,
   "sideBar": true,
   "skip_h1_title": false,
   "title_cell": "Table of Contents",
   "title_sidebar": "Contents",
   "toc_cell": false,
   "toc_position": {},
   "toc_section_display": true,
   "toc_window_display": false
  }
 },
 "nbformat": 4,
 "nbformat_minor": 5
}

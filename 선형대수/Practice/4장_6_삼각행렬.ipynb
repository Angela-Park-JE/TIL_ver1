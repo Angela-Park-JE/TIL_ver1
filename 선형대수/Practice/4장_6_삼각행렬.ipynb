{
 "cells": [
  {
   "cell_type": "markdown",
   "id": "540bd52c",
   "metadata": {},
   "source": [
    "#  삼각 행렬\n",
    "\n",
    " ## 삼각 행렬의 개념\n",
    " \n",
    "행렬의 구성 원소가 삼각형 형태로 되어있는 행렬. 정사각 행렬이다.\n",
    "\n",
    "삼각형 형테를 제외한 나머지는 원소가 0이다. \n",
    "\n",
    "삼각행렬은 upper triangular matrix와 lower triangular matrix로, \n",
    "\n",
    "상 삼각 행렬은 주 대각 원소 아래쪽에 있는 모든 원소가 0인 정사각 행렬이고, 하 삼각 행렬은 주 대각 원소 위쪽에 있는 모든 원소가 0인 정사각 행렬이다.\n"
   ]
  },
  {
   "cell_type": "markdown",
   "id": "b6b00d46",
   "metadata": {},
   "source": [
    "## 삼각 행렬의 성질\n",
    "\n",
    "\n"
   ]
  },
  {
   "cell_type": "markdown",
   "id": "6216dfba",
   "metadata": {},
   "source": [
    "## 삼각 행렬 만들기"
   ]
  },
  {
   "cell_type": "markdown",
   "id": "eb16f0ba",
   "metadata": {},
   "source": [
    "### 파이썬 함수 만들어 구현\n",
    "\n"
   ]
  },
  {
   "cell_type": "code",
   "execution_count": 1,
   "id": "0960f386",
   "metadata": {},
   "outputs": [],
   "source": [
    "def zero_mat(n, p):\n",
    "    \"\"\"\n",
    "    영 행렬 생성\n",
    "    입력값: 생성하고자 할 영 행렬의 크기 n행, p열\n",
    "    출력값: nxp 크기의 영 행렬 Z\n",
    "    \"\"\"\n",
    "    \n",
    "    Z = []\n",
    "    for i in range(0, n):\n",
    "        row = []\n",
    "        for j in range(0, p):\n",
    "            val = 0\n",
    "            row.append(val)\n",
    "        Z.append(row)\n",
    "    \n",
    "    return Z\n"
   ]
  },
  {
   "cell_type": "markdown",
   "id": "57ae18e0",
   "metadata": {},
   "source": [
    "### 넘파이로 수행"
   ]
  },
  {
   "cell_type": "code",
   "execution_count": 3,
   "id": "b2efddb5",
   "metadata": {},
   "outputs": [],
   "source": [
    "import numpy as np"
   ]
  }
 ],
 "metadata": {
  "kernelspec": {
   "display_name": "Python 3 (ipykernel)",
   "language": "python",
   "name": "python3"
  },
  "language_info": {
   "codemirror_mode": {
    "name": "ipython",
    "version": 3
   },
   "file_extension": ".py",
   "mimetype": "text/x-python",
   "name": "python",
   "nbconvert_exporter": "python",
   "pygments_lexer": "ipython3",
   "version": "3.8.5"
  },
  "toc": {
   "base_numbering": 1,
   "nav_menu": {},
   "number_sections": true,
   "sideBar": true,
   "skip_h1_title": false,
   "title_cell": "Table of Contents",
   "title_sidebar": "Contents",
   "toc_cell": false,
   "toc_position": {},
   "toc_section_display": true,
   "toc_window_display": false
  }
 },
 "nbformat": 4,
 "nbformat_minor": 5
}

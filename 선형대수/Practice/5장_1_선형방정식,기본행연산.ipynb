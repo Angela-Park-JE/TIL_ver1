{
 "cells": [
  {
   "cell_type": "markdown",
   "id": "d8c38fa8",
   "metadata": {},
   "source": [
    "# 선형방정식\n",
    "\n",
    "방정식이란 변수가 포함된 식에서 해당 변수가 특정 값을 가질 때만 성립하는 등식을 의미한다.\n",
    "\n",
    "## 선형 방정식의 정의\n",
    "\n",
    "$$ a_1 x + a_2 y = b $$ \n",
    "\n",
    "$x$축과 $y$ 축으로 구성된 $xy$평면이 있다고 했을 때, 해당 평면 위의 직선은 위와 같이 표현된다.\n",
    "\n",
    "이런 방정식을 변수$x$, $y$에 대한 1차 방정식, 혹은 '선형 방정식(linear equation)'이라고 부른다.\n",
    "\n",
    "선형 방정식에서 최고차항의 차수는 1이다. 그리고 $x$와 $y$는 변수이다. 그러나 $a_1, a_2, b$는 상수(constant)이다. \n",
    "\n",
    "위 식은 변할 수 있는 존재가 2개이지만 일반적으로 선형 방정식은 여러개의 변수를 가질 수 있다.\n",
    "\n",
    "일반적으로 선형 방정식은 n개의 변수 $a_1 x_1 + a_2 x_2 + \\cdots + a_n x_n = b $ 으로 나타낼 수 있다.\n",
    "\n",
    "1차 방정식의 해(solution)을 구한다는 말은 방정식을 만족시키는 $ x_1, x_2, \\dots, x_n$ 값 쌍을 찾는 것을 의미한다.\n",
    "\n",
    "---\n",
    "\n",
    "*선형 방정식이 주어졌을 때 해당 방정식의 변수가 축에 해당하므로!! 변수가 무엇인지 잘 확인하는 습관을 들이는 것이 좋다.*\n",
    "\n",
    "만약 변수가 3개인 경우는 축이 세개이고, 방정식이 선이 아닌 평면의 형태를 띠게 된다. 이렇게 변수의 개수에 따라 형태가 변할 수 있다.\n",
    "\n",
    "---\n",
    "\n",
    "그러나 변수가 포함된 방정식이라 해서 항상 선형 방정식은 아니다.\n",
    "\n",
    "아닌 예) \n",
    "\n",
    "- 변수가 삼각 함수의 형태일 때: $ y = \\cos x $\n",
    "\n",
    "- 지수 함수와 같은 형태일 때: $ 1 = 7^x + y $\n",
    "\n",
    "- 변수끼리의 곱일 때: $ x + \\sqrt y =2 $\n",
    "\n",
    "- 변수의 제곱근을 포함할 때: $ x + y + 7z - yz = 3 $\n",
    "\n"
   ]
  },
  {
   "cell_type": "markdown",
   "id": "118aa599",
   "metadata": {},
   "source": [
    "## 선형 시스템의 정의\n",
    "\n",
    "선형 방정식이 한 개가 아닌 여러 개일 경우, 즉 선형 방정식의 집합을 연립 1차 방정식(system of linear equation) 혹은 **선형 시스템(linear system)** 이라고 부른다.\n",
    "\n",
    "각각 x, y로 된 두 식이 있다면 두 식이 그리는 두 선이 만나는 지점이 바로 선형 시스템을 만족시키는 해에 해당한다.\n",
    "\n",
    "----- \n",
    "##### 선형 시스템에서의 해가 항상 존재하는 것은 아니다\n",
    "\n",
    "선형 시스템에서 발생 가능한 상황은 다음 세 가지 뿐이다.\n",
    "\n",
    "1. 오직 하나의 해를 가질 때 (한 지점에서 교차)\n",
    "\n",
    "2. 무한개의 해를 가질 때 (직선이 일치)\n",
    "\n",
    "3. 해가 존재하지 않을 때 (직선이 평행)\n",
    "\n",
    "변수가 두개로 이루어진 간단한 경우를 살펴보았으나, 선형 시스템을 일반화 해서 표현하면 p개의 변수로 구성된 n개의 방정식 형태로 나타낼 수 있다.\n",
    "\n",
    "$$ a_{11}x_1 + a_{12}x_2 + \\cdots + a_{1p} x_p = b_1 \\\\\n",
    "a_{21}x_1 + a_{22}x_2 + \\cdots + a_{2p} x_p = b_2 \\\\\n",
    "\\vdots \\\\\n",
    "a_{n1}x_1 + a_{n2}x_2 + \\cdots + a_{np} x_p = b_n $$\n",
    "\n",
    "위와 같은 선형 시스템의 상수 부분만 모아서 행렬 형태로 나타낸 것을 **첨가 행렬(Argumented matrix)** 라고 한다. 덧붙인 행렬(-行列) 또는 확대 행렬(擴大行列) 또는 확장 행렬(擴張行列) 이라고도 한다고 한다.\n",
    "\n",
    "이때 b부분을 구분하기위해 따로 빼어 표현할 수도 있으나 이를 행렬 곱과 혼동하지 말자.\n",
    "\n"
   ]
  },
  {
   "cell_type": "markdown",
   "id": "59235586",
   "metadata": {},
   "source": [
    "## 기본 행 연산\n",
    "\n",
    "첨가 행렬에 기본 행 연산(elementary row operation)을 작용함으로써 선형 시스템의 해를 구할 수 있다.\n",
    "\n",
    "이때 기본 행 연산은 다음과 같은 연산을 의미한다.\n",
    "\n",
    "\n",
    "+ 한 행에 영이 아닌 상수를 모두 곱한다.\n",
    "+ 두 행을 교환한다.\n",
    "+ 한 행의 배수를 다른 행에 더한다."
   ]
  },
  {
   "cell_type": "code",
   "execution_count": null,
   "id": "408919b9",
   "metadata": {},
   "outputs": [],
   "source": []
  }
 ],
 "metadata": {
  "kernelspec": {
   "display_name": "Python 3 (ipykernel)",
   "language": "python",
   "name": "python3"
  },
  "language_info": {
   "codemirror_mode": {
    "name": "ipython",
    "version": 3
   },
   "file_extension": ".py",
   "mimetype": "text/x-python",
   "name": "python",
   "nbconvert_exporter": "python",
   "pygments_lexer": "ipython3",
   "version": "3.8.5"
  },
  "toc": {
   "base_numbering": 1,
   "nav_menu": {},
   "number_sections": true,
   "sideBar": true,
   "skip_h1_title": false,
   "title_cell": "Table of Contents",
   "title_sidebar": "Contents",
   "toc_cell": false,
   "toc_position": {},
   "toc_section_display": true,
   "toc_window_display": false
  }
 },
 "nbformat": 4,
 "nbformat_minor": 5
}

{
 "cells": [
  {
   "cell_type": "markdown",
   "id": "540bd52c",
   "metadata": {},
   "source": [
    "#  하우스홀더 행렬\n",
    " ## householder matrix의 개념\n",
    " \n",
    "어떤 행렬을 다른 형태로 변환할 때 사용하는 행렬 중 하나이다. \n",
    "\n",
    "하우스 홀더 행렬은 정사각 행렬이다.\n",
    "\n",
    "그리고 모든 열이 정규 직교(orthonomal)한다."
   ]
  },
  {
   "cell_type": "markdown",
   "id": "b6b00d46",
   "metadata": {},
   "source": [
    "하우스홀더 행렬은 벡터와 단위행렬을 이용해 구할 수 있다.\n",
    "\n",
    "하우스홀더 행렬을 구하기 위해 필요한 내적, 외적 결과를 같이 구한다.\n"
   ]
  },
  {
   "cell_type": "markdown",
   "id": "6216dfba",
   "metadata": {},
   "source": [
    "## 하우스홀더 행렬 만들기"
   ]
  },
  {
   "cell_type": "markdown",
   "id": "fec42b57",
   "metadata": {},
   "source": [
    "### 함수 만들기\n",
    "\n",
    "벡터 v를 입력값으로 받아서 하우스홀더 행렬 H를 만드는 함수를 만든다."
   ]
  },
  {
   "cell_type": "code",
   "execution_count": 1,
   "id": "0960f386",
   "metadata": {},
   "outputs": [],
   "source": [
    "def householder(v):\n",
    "    \"\"\"\n",
    "    vector의 하우스홀더 행렬을 만든다\n",
    "    입력값: 하우스홀더 행렬을 생성할 리스트v\n",
    "    출력값: 리스트 v를 이용해 생성한 하우스홀더 행렬 H\n",
    "    \"\"\"\n",
    "    \n",
    "    n = len(A)\n",
    "    outer_mat = outer_product(v, v)\n",
    "    inner_val = inner_product(v, v)\n",
    "    V = []\n",
    "    \n",
    "    for i in range(0, n):\n",
    "        row = []\n",
    "        for j in range(0, n):\n",
    "            val = (2/inner_val) * outer_mat[i][j]\n",
    "            row.append(val)\n",
    "        V.append(row)\n",
    "    H = substract(identity(n), V)\n",
    "    \n",
    "    return H"
   ]
  },
  {
   "cell_type": "markdown",
   "id": "768e899b",
   "metadata": {},
   "source": [
    "### 외적을 구하는 함수 만들기"
   ]
  },
  {
   "cell_type": "code",
   "execution_count": 2,
   "id": "c2168bbc",
   "metadata": {},
   "outputs": [],
   "source": [
    "def outer_product(a, b):\n",
    "    \"\"\"\n",
    "    벡터의 외적\n",
    "    입력값: 외적할 벡터 리스트 a, b\n",
    "    출력값: 벡터 a, b의 외적 결과 res (matrix)\n",
    "    \"\"\"\n",
    "    \n",
    "    n1 = len(a)\n",
    "    n2 = len(b)    \n",
    "    res = []\n",
    "    \n",
    "    for i in range(0, n1):\n",
    "        row = []\n",
    "        for j in range(0, n2):\n",
    "            val = a[i] * b[j]\n",
    "            row.append(val)\n",
    "        res.append(row)\n",
    "    \n",
    "    return res"
   ]
  },
  {
   "cell_type": "markdown",
   "id": "2a727e2e",
   "metadata": {},
   "source": [
    "### 내적을 구하는 함수 만들기"
   ]
  },
  {
   "cell_type": "code",
   "execution_count": 3,
   "id": "72c3772b",
   "metadata": {},
   "outputs": [],
   "source": [
    "def inner_product(a, b):\n",
    "    \"\"\"\n",
    "    벡터의 내적\n",
    "    입력값: 내적할 벡터 리스트 a, b\n",
    "    출력값: 벡터 a, b의 내적 결과 res (scalar)\n",
    "    \"\"\"\n",
    "    \n",
    "    n = len(a)\n",
    "    res = 0\n",
    "    \n",
    "    for i in range(0, n):\n",
    "        res += a[i] * b[i]\n",
    "    \n",
    "    return res"
   ]
  },
  {
   "cell_type": "markdown",
   "id": "354e7222",
   "metadata": {},
   "source": [
    "### n차원의 단위행렬 구하는 함수 만들기"
   ]
  },
  {
   "cell_type": "code",
   "execution_count": 4,
   "id": "b1cf8e46",
   "metadata": {},
   "outputs": [],
   "source": [
    "def identity(n):\n",
    "    \"\"\"\n",
    "    단위 행렬 생성\n",
    "    입력값: 단위 행렬의 크기 n\n",
    "    출력값: nxn 단위행렬 I\n",
    "    \"\"\"\n",
    "    \n",
    "    I = []\n",
    "    for i in range(0, n):\n",
    "        row = []\n",
    "        for j in range(0, n):\n",
    "            if i == j:\n",
    "                row.append(1)\n",
    "            else:\n",
    "                row.append(0)\n",
    "        I.append(row)\n",
    "    return I"
   ]
  },
  {
   "cell_type": "markdown",
   "id": "1d213175",
   "metadata": {},
   "source": [
    "### 행렬의 뺄셈구하는 함수 만들기"
   ]
  },
  {
   "cell_type": "code",
   "execution_count": 5,
   "id": "d1dcd730",
   "metadata": {},
   "outputs": [],
   "source": [
    "def substract(A, B):\n",
    "    \"\"\"\n",
    "    행렬의 뺄셈\n",
    "    입력값: 행렬의 뺄셈을 수행할 행렬 A , B\n",
    "    출력값: 행렬 A - 행렬 B 결과인 행렬 res\n",
    "    \"\"\"\n",
    "    \n",
    "    n = len(A)\n",
    "    p = len(A[0])\n",
    "    \n",
    "    res = []\n",
    "    \n",
    "    for i in range(0, n):\n",
    "        row = []\n",
    "        for j in range(0, p):\n",
    "            val = A[i][j] - B[i][j]\n",
    "            row.append(val)\n",
    "        res.append(row)\n",
    "    \n",
    "    return res"
   ]
  },
  {
   "cell_type": "code",
   "execution_count": null,
   "id": "1ea7eb57",
   "metadata": {},
   "outputs": [],
   "source": []
  }
 ],
 "metadata": {
  "kernelspec": {
   "display_name": "Python 3 (ipykernel)",
   "language": "python",
   "name": "python3"
  },
  "language_info": {
   "codemirror_mode": {
    "name": "ipython",
    "version": 3
   },
   "file_extension": ".py",
   "mimetype": "text/x-python",
   "name": "python",
   "nbconvert_exporter": "python",
   "pygments_lexer": "ipython3",
   "version": "3.8.5"
  },
  "toc": {
   "base_numbering": 1,
   "nav_menu": {},
   "number_sections": true,
   "sideBar": true,
   "skip_h1_title": false,
   "title_cell": "Table of Contents",
   "title_sidebar": "Contents",
   "toc_cell": false,
   "toc_position": {},
   "toc_section_display": true,
   "toc_window_display": false
  }
 },
 "nbformat": 4,
 "nbformat_minor": 5
}

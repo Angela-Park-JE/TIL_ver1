{
 "cells": [
  {
   "cell_type": "markdown",
   "id": "540bd52c",
   "metadata": {},
   "source": [
    "#  하우스홀더 행렬\n",
    " ## householder matrix의 개념\n",
    " \n",
    "어떤 행렬을 다른 형태로 변환할 때 사용하는 행렬 중 하나이다. \n",
    "\n",
    "하우스 홀더 행렬은 정사각 행렬이다.\n",
    "\n",
    "그리고 모든 열이 정규 직교(orthonomal)한다."
   ]
  },
  {
   "cell_type": "markdown",
   "id": "b6b00d46",
   "metadata": {},
   "source": [
    "하우스홀더 행렬은 벡터와 단위행렬을 이용해 구할 수 있다.\n",
    "\n",
    "하우스홀더 행렬을 구하기 위해 필요한 내적, 외적 결과를 같이 구한다.\n"
   ]
  },
  {
   "cell_type": "markdown",
   "id": "6216dfba",
   "metadata": {},
   "source": [
    "# 하우스홀더 행렬 만들기\n",
    "## 파이썬 실습"
   ]
  },
  {
   "cell_type": "markdown",
   "id": "fec42b57",
   "metadata": {},
   "source": [
    "### 함수 만들기\n",
    "\n",
    "벡터 v를 입력값으로 받아서 하우스홀더 행렬 H를 만드는 함수를 만든다."
   ]
  },
  {
   "cell_type": "code",
   "execution_count": 1,
   "id": "0960f386",
   "metadata": {},
   "outputs": [],
   "source": [
    "def householder(v):\n",
    "    \"\"\"\n",
    "    vector의 하우스홀더 행렬을 만든다\n",
    "    입력값: 하우스홀더 행렬을 생성할 리스트v\n",
    "    출력값: 리스트 v를 이용해 생성한 하우스홀더 행렬 H\n",
    "    \"\"\"\n",
    "    \n",
    "    n = len(A)\n",
    "    outer_mat = outer_product(v, v)\n",
    "    inner_val = inner_product(v, v)\n",
    "    V = []\n",
    "    \n",
    "    for i in range(0, n):\n",
    "        row = []\n",
    "        for j in range(0, n):\n",
    "            val = (2/inner_val) * outer_mat[i][j]\n",
    "            row.append(val)\n",
    "        V.append(row)\n",
    "    H = substract(identity(n), V)\n",
    "    \n",
    "    return H"
   ]
  },
  {
   "cell_type": "markdown",
   "id": "3055f5c3",
   "metadata": {},
   "source": [
    "### 외적을 구하는 함수 만들기"
   ]
  },
  {
   "cell_type": "code",
   "execution_count": 2,
   "id": "5e8ccd3e",
   "metadata": {},
   "outputs": [],
   "source": [
    "def outer_product(a, b):\n",
    "    \"\"\"\n",
    "    벡터의 외적\n",
    "    입력값: 외적할 벡터 리스트 a, b\n",
    "    출력값: 벡터 a, b의 외적 결과 res (matrix)\n",
    "    \"\"\"\n",
    "    \n",
    "    n1 = len(a)\n",
    "    n2 = len(b)    \n",
    "    res = []\n",
    "    \n",
    "    for i in range(0, n1):\n",
    "        row = []\n",
    "        for j in range(0, n2):\n",
    "            val = a[i] * b[j]\n",
    "            row.append(val)\n",
    "        res.append(row)\n",
    "    \n",
    "    return res"
   ]
  },
  {
   "cell_type": "markdown",
   "id": "4adcc88d",
   "metadata": {},
   "source": [
    "### 내적을 구하는 함수 만들기"
   ]
  },
  {
   "cell_type": "code",
   "execution_count": 3,
   "id": "38908847",
   "metadata": {},
   "outputs": [],
   "source": [
    "def inner_product(a, b):\n",
    "    \"\"\"\n",
    "    벡터의 내적\n",
    "    입력값: 내적할 벡터 리스트 a, b\n",
    "    출력값: 벡터 a, b의 내적 결과 res (scalar)\n",
    "    \"\"\"\n",
    "    \n",
    "    n = len(a)\n",
    "    res = 0\n",
    "    \n",
    "    for i in range(0, n):\n",
    "        res += a[i] * b[i]\n",
    "    \n",
    "    return res"
   ]
  },
  {
   "cell_type": "markdown",
   "id": "e58dad18",
   "metadata": {},
   "source": [
    "### n차원의 단위행렬 구하는 함수 만들기"
   ]
  },
  {
   "cell_type": "code",
   "execution_count": 4,
   "id": "40e58cc7",
   "metadata": {},
   "outputs": [],
   "source": [
    "def identity(n):\n",
    "    \"\"\"\n",
    "    단위 행렬 생성\n",
    "    입력값: 단위 행렬의 크기 n\n",
    "    출력값: nxn 단위행렬 I\n",
    "    \"\"\"\n",
    "    \n",
    "    I = []\n",
    "    for i in range(0, n):\n",
    "        row = []\n",
    "        for j in range(0, n):\n",
    "            if i == j:\n",
    "                row.append(1)\n",
    "            else:\n",
    "                row.append(0)\n",
    "        I.append(row)\n",
    "    return I"
   ]
  },
  {
   "cell_type": "markdown",
   "id": "81fe1e03",
   "metadata": {},
   "source": [
    "### 행렬의 뺄셈구하는 함수 만들기"
   ]
  },
  {
   "cell_type": "code",
   "execution_count": 5,
   "id": "18cc6b2a",
   "metadata": {},
   "outputs": [],
   "source": [
    "def substract(A, B):\n",
    "    \"\"\"\n",
    "    행렬의 뺄셈\n",
    "    입력값: 행렬의 뺄셈을 수행할 행렬 A , B\n",
    "    출력값: 행렬 A - 행렬 B 결과인 행렬 res\n",
    "    \"\"\"\n",
    "    \n",
    "    n = len(A)\n",
    "    p = len(A[0])\n",
    "    \n",
    "    res = []\n",
    "    \n",
    "    for i in range(0, n):\n",
    "        row = []\n",
    "        for j in range(0, p):\n",
    "            val = A[i][j] - B[i][j]\n",
    "            row.append(val)\n",
    "        res.append(row)\n",
    "    \n",
    "    return res"
   ]
  },
  {
   "cell_type": "markdown",
   "id": "e3d0e2d1",
   "metadata": {},
   "source": [
    "### 하우스홀더 행렬을 구하는 전체 함수 코드 without numpy"
   ]
  },
  {
   "cell_type": "code",
   "execution_count": 9,
   "id": "3e1f4845",
   "metadata": {},
   "outputs": [],
   "source": [
    "def inner_product(a, b):\n",
    "    \"\"\"\n",
    "    벡터의 내적\n",
    "    입력값: 내적할 벡터 리스트 a, b\n",
    "    출력값: 벡터 a, b의 내적 결과 res (scalar)\n",
    "    \"\"\"\n",
    "    \n",
    "    n = len(a)\n",
    "    res = 0\n",
    "    \n",
    "    for i in range(0, n):\n",
    "        res += a[i] * b[i]\n",
    "    \n",
    "    return res\n",
    "\n",
    "def outer_product(a, b):\n",
    "    \"\"\"\n",
    "    벡터의 외적\n",
    "    입력값: 외적할 벡터 리스트 a, b\n",
    "    출력값: 벡터 a, b의 외적 결과 res (matrix)\n",
    "    \"\"\"\n",
    "    \n",
    "    n1 = len(a)\n",
    "    n2 = len(b)    \n",
    "    res = []\n",
    "    \n",
    "    for i in range(0, n1):\n",
    "        row = []\n",
    "        for j in range(0, n2):\n",
    "            val = a[i] * b[j]\n",
    "            row.append(val)\n",
    "        res.append(row)\n",
    "    \n",
    "    return res\n",
    "\n",
    "def identity(n):\n",
    "    \"\"\"\n",
    "    단위 행렬 생성\n",
    "    입력값: 단위 행렬의 크기 n\n",
    "    출력값: nxn 단위행렬 I\n",
    "    \"\"\"\n",
    "    \n",
    "    I = []\n",
    "    for i in range(0, n):\n",
    "        row = []\n",
    "        for j in range(0, n):\n",
    "            if i == j:\n",
    "                row.append(1)\n",
    "            else:\n",
    "                row.append(0)\n",
    "        I.append(row)\n",
    "    return I\n",
    "\n",
    "def substract(A, B):\n",
    "    \"\"\"\n",
    "    행렬의 뺄셈\n",
    "    입력값: 행렬의 뺄셈을 수행할 행렬 A , B\n",
    "    출력값: 행렬 A - 행렬 B 결과인 행렬 res\n",
    "    \"\"\"\n",
    "    \n",
    "    n = len(A)\n",
    "    p = len(A[0])\n",
    "    \n",
    "    res = []\n",
    "    \n",
    "    for i in range(0, n):\n",
    "        row = []\n",
    "        for j in range(0, p):\n",
    "            val = A[i][j] - B[i][j]\n",
    "            row.append(val)\n",
    "        res.append(row)\n",
    "    \n",
    "    return res\n",
    "\n",
    "def householder(v):\n",
    "    \"\"\"\n",
    "    vector의 하우스홀더 행렬을 만든다\n",
    "    입력값: 하우스홀더 행렬을 생성할 리스트v\n",
    "    출력값: 리스트 v를 이용해 생성한 하우스홀더 행렬 H\n",
    "    \"\"\"\n",
    "    \n",
    "    n = len(v)\n",
    "    outer_mat = outer_product(v, v)\n",
    "    inner_val = inner_product(v, v)\n",
    "    V = []\n",
    "    \n",
    "    for i in range(0, n):\n",
    "        row = []\n",
    "        for j in range(0, n):\n",
    "            val = (2/inner_val) * outer_mat[i][j]\n",
    "            row.append(val)\n",
    "        V.append(row)\n",
    "    H = substract(identity(n), V)\n",
    "    \n",
    "    return H\n"
   ]
  },
  {
   "cell_type": "markdown",
   "id": "5e611465",
   "metadata": {},
   "source": [
    "구해볼까"
   ]
  },
  {
   "cell_type": "code",
   "execution_count": 10,
   "id": "69eea812",
   "metadata": {},
   "outputs": [],
   "source": [
    "cute_vector = [2,5,9,14,20]"
   ]
  },
  {
   "cell_type": "code",
   "execution_count": 11,
   "id": "cc2918f2",
   "metadata": {},
   "outputs": [
    {
     "data": {
      "text/plain": [
       "[[0.9886685552407932,\n",
       "  -0.028328611898016998,\n",
       "  -0.0509915014164306,\n",
       "  -0.07932011331444759,\n",
       "  -0.11331444759206799],\n",
       " [-0.028328611898016998,\n",
       "  0.9291784702549575,\n",
       "  -0.1274787535410765,\n",
       "  -0.19830028328611898,\n",
       "  -0.28328611898017],\n",
       " [-0.0509915014164306,\n",
       "  -0.1274787535410765,\n",
       "  0.7705382436260624,\n",
       "  -0.3569405099150142,\n",
       "  -0.509915014164306],\n",
       " [-0.07932011331444759,\n",
       "  -0.19830028328611898,\n",
       "  -0.3569405099150142,\n",
       "  0.4447592067988668,\n",
       "  -0.7932011331444759],\n",
       " [-0.11331444759206799,\n",
       "  -0.28328611898017,\n",
       "  -0.509915014164306,\n",
       "  -0.7932011331444759,\n",
       "  -0.1331444759206799]]"
      ]
     },
     "execution_count": 11,
     "metadata": {},
     "output_type": "execute_result"
    }
   ],
   "source": [
    "householder(cute_vector)"
   ]
  },
  {
   "cell_type": "markdown",
   "id": "c656b68f",
   "metadata": {},
   "source": [
    "## 넘파이 수행"
   ]
  },
  {
   "cell_type": "code",
   "execution_count": 12,
   "id": "9fae93b7",
   "metadata": {},
   "outputs": [],
   "source": [
    "import numpy as np"
   ]
  },
  {
   "cell_type": "markdown",
   "id": "27739c56",
   "metadata": {},
   "source": [
    "##### 1. 먼저 벡터를 선언한다."
   ]
  },
  {
   "cell_type": "code",
   "execution_count": 13,
   "id": "646ccedf",
   "metadata": {},
   "outputs": [],
   "source": [
    "v = np.array([2, 5, 9, 14, 20])"
   ]
  },
  {
   "cell_type": "markdown",
   "id": "dfb0be66",
   "metadata": {},
   "source": [
    "##### 2. 벡터의 길이를 구한다."
   ]
  },
  {
   "cell_type": "code",
   "execution_count": 14,
   "id": "21623ada",
   "metadata": {},
   "outputs": [
    {
     "name": "stdout",
     "output_type": "stream",
     "text": [
      "5\n"
     ]
    }
   ],
   "source": [
    "n = len(v)\n",
    "print(n)"
   ]
  },
  {
   "cell_type": "markdown",
   "id": "fc8b04e0",
   "metadata": {},
   "source": [
    "##### 3. 넘파이의 outer 함수를 통해 벡터 v와 자기자신의 외적 행렬을 구한다."
   ]
  },
  {
   "cell_type": "code",
   "execution_count": 15,
   "id": "6ff1916c",
   "metadata": {},
   "outputs": [
    {
     "name": "stdout",
     "output_type": "stream",
     "text": [
      "[[  4  10  18  28  40]\n",
      " [ 10  25  45  70 100]\n",
      " [ 18  45  81 126 180]\n",
      " [ 28  70 126 196 280]\n",
      " [ 40 100 180 280 400]]\n"
     ]
    }
   ],
   "source": [
    "outer_mat = np.outer(v, v)\n",
    "print(outer_mat)"
   ]
  },
  {
   "cell_type": "markdown",
   "id": "0af6df51",
   "metadata": {},
   "source": [
    "##### 4. 넘파이의 inner 함수를 통해 벡터 v와 자기 자신의 내적값을 구한다."
   ]
  },
  {
   "cell_type": "code",
   "execution_count": 16,
   "id": "d1ac02e6",
   "metadata": {},
   "outputs": [
    {
     "name": "stdout",
     "output_type": "stream",
     "text": [
      "706\n"
     ]
    }
   ],
   "source": [
    "inner_val = np.inner(v, v)\n",
    "print(inner_val)"
   ]
  },
  {
   "cell_type": "markdown",
   "id": "29a37562",
   "metadata": {},
   "source": [
    "##### 5. 하우스홀더 행렬을 구하기 위해 필요한 n차원 단위 행렬을 넘파이의 identity 함수를 이용해 구한다."
   ]
  },
  {
   "cell_type": "code",
   "execution_count": 18,
   "id": "c4b3f099",
   "metadata": {},
   "outputs": [
    {
     "name": "stdout",
     "output_type": "stream",
     "text": [
      "[[1. 0. 0. 0. 0.]\n",
      " [0. 1. 0. 0. 0.]\n",
      " [0. 0. 1. 0. 0.]\n",
      " [0. 0. 0. 1. 0.]\n",
      " [0. 0. 0. 0. 1.]]\n"
     ]
    }
   ],
   "source": [
    "I = np.identity(n)\n",
    "print(I)"
   ]
  },
  {
   "cell_type": "markdown",
   "id": "4937310e",
   "metadata": {},
   "source": [
    "##### 6. 마지막으로 하우스 홀더 행렬을 구한다.\n",
    "\n",
    "결과를 보면 약간의 차이가 있는데 올림의 차이로 보인다."
   ]
  },
  {
   "cell_type": "code",
   "execution_count": 19,
   "id": "a5f83cba",
   "metadata": {},
   "outputs": [
    {
     "name": "stdout",
     "output_type": "stream",
     "text": [
      "[[ 0.98866856 -0.02832861 -0.0509915  -0.07932011 -0.11331445]\n",
      " [-0.02832861  0.92917847 -0.12747875 -0.19830028 -0.28328612]\n",
      " [-0.0509915  -0.12747875  0.77053824 -0.35694051 -0.50991501]\n",
      " [-0.07932011 -0.19830028 -0.35694051  0.44475921 -0.79320113]\n",
      " [-0.11331445 -0.28328612 -0.50991501 -0.79320113 -0.13314448]]\n"
     ]
    }
   ],
   "source": [
    "H = I - (2/inner_val) * outer_mat\n",
    "print(H)"
   ]
  },
  {
   "cell_type": "markdown",
   "id": "2fa07819",
   "metadata": {},
   "source": [
    "### 전체 코드 with numpy"
   ]
  },
  {
   "cell_type": "code",
   "execution_count": 20,
   "id": "7707da0a",
   "metadata": {},
   "outputs": [],
   "source": [
    "import numpy as np\n",
    "\n",
    "v = np.array([2,5,9,14,20])\n",
    "\n",
    "n = len(v)\n",
    "outer_mat = np.outer(v, v)\n",
    "inner_val = np.inner(v, v)\n",
    "I = np.identity(n)\n",
    "H = I-(2/inner_val) * outer_mat"
   ]
  },
  {
   "cell_type": "code",
   "execution_count": 21,
   "id": "344ae03d",
   "metadata": {},
   "outputs": [
    {
     "data": {
      "text/plain": [
       "array([[ 0.98866856, -0.02832861, -0.0509915 , -0.07932011, -0.11331445],\n",
       "       [-0.02832861,  0.92917847, -0.12747875, -0.19830028, -0.28328612],\n",
       "       [-0.0509915 , -0.12747875,  0.77053824, -0.35694051, -0.50991501],\n",
       "       [-0.07932011, -0.19830028, -0.35694051,  0.44475921, -0.79320113],\n",
       "       [-0.11331445, -0.28328612, -0.50991501, -0.79320113, -0.13314448]])"
      ]
     },
     "execution_count": 21,
     "metadata": {},
     "output_type": "execute_result"
    }
   ],
   "source": [
    "H"
   ]
  }
 ],
 "metadata": {
  "kernelspec": {
   "display_name": "Python 3 (ipykernel)",
   "language": "python",
   "name": "python3"
  },
  "language_info": {
   "codemirror_mode": {
    "name": "ipython",
    "version": 3
   },
   "file_extension": ".py",
   "mimetype": "text/x-python",
   "name": "python",
   "nbconvert_exporter": "python",
   "pygments_lexer": "ipython3",
   "version": "3.8.5"
  },
  "toc": {
   "base_numbering": 1,
   "nav_menu": {},
   "number_sections": true,
   "sideBar": true,
   "skip_h1_title": false,
   "title_cell": "Table of Contents",
   "title_sidebar": "Contents",
   "toc_cell": false,
   "toc_position": {},
   "toc_section_display": true,
   "toc_window_display": false
  }
 },
 "nbformat": 4,
 "nbformat_minor": 5
}

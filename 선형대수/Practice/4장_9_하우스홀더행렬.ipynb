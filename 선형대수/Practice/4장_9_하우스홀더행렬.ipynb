{
 "cells": [
  {
   "cell_type": "markdown",
   "id": "540bd52c",
   "metadata": {},
   "source": [
    "#  하우스홀더 행렬\n",
    " ## householder matrix의 개념\n",
    " \n",
    "어떤 행렬을 다른 형태로 변환할 때 사용하는 행렬 중 하나이다. \n",
    "\n",
    "하우스 홀더 행렬은 정사각 행렬이다.\n",
    "\n",
    "그리고 모든 열이 정규 직교(orthonomal)한다."
   ]
  },
  {
   "cell_type": "markdown",
   "id": "b6b00d46",
   "metadata": {},
   "source": [
    "하우스홀더 행렬은 벡터와 단위행렬을 이용해 구할 수 있다.\n",
    "\n",
    "하우스홀더 행렬을 구하기 위해 필요한 내적, 외적 결과를 같이 구한다.\n"
   ]
  },
  {
   "cell_type": "markdown",
   "id": "6216dfba",
   "metadata": {},
   "source": [
    "# 하우스홀더 행렬 만들기\n",
    "## 파이썬 실습"
   ]
  },
  {
   "cell_type": "markdown",
   "id": "fec42b57",
   "metadata": {},
   "source": [
    "### 함수 만들기\n",
    "\n",
    "벡터 v를 입력값으로 받아서 하우스홀더 행렬 H를 만드는 함수를 만든다."
   ]
  },
  {
   "cell_type": "code",
   "execution_count": 1,
   "id": "0960f386",
   "metadata": {},
   "outputs": [],
   "source": [
    "def householder(v):\n",
    "    \"\"\"\n",
    "    vector의 하우스홀더 행렬을 만든다\n",
    "    입력값: 하우스홀더 행렬을 생성할 리스트v\n",
    "    출력값: 리스트 v를 이용해 생성한 하우스홀더 행렬 H\n",
    "    \"\"\"\n",
    "    \n",
    "    n = len(A)\n",
    "    outer_mat = outer_product(v, v)\n",
    "    inner_val = inner_product(v, v)\n",
    "    V = []\n",
    "    \n",
    "    for i in range(0, n):\n",
    "        row = []\n",
    "        for j in range(0, n):\n",
    "            val = (2/inner_val) * outer_mat[i][j]\n",
    "            row.append(val)\n",
    "        V.append(row)\n",
    "    H = substract(identity(n), V)\n",
    "    \n",
    "    return H"
   ]
  },
  {
   "cell_type": "markdown",
   "id": "cfbf5ce0",
   "metadata": {},
   "source": [
    "### 외적을 구하는 함수 만들기"
   ]
  },
  {
   "cell_type": "code",
   "execution_count": 2,
   "id": "47e7d455",
   "metadata": {},
   "outputs": [],
   "source": [
    "def outer_product(a, b):\n",
    "    \"\"\"\n",
    "    벡터의 외적\n",
    "    입력값: 외적할 벡터 리스트 a, b\n",
    "    출력값: 벡터 a, b의 외적 결과 res (matrix)\n",
    "    \"\"\"\n",
    "    \n",
    "    n1 = len(a)\n",
    "    n2 = len(b)    \n",
    "    res = []\n",
    "    \n",
    "    for i in range(0, n1):\n",
    "        row = []\n",
    "        for j in range(0, n2):\n",
    "            val = a[i] * b[j]\n",
    "            row.append(val)\n",
    "        res.append(row)\n",
    "    \n",
    "    return res"
   ]
  },
  {
   "cell_type": "markdown",
   "id": "3d1ee127",
   "metadata": {},
   "source": [
    "### 내적을 구하는 함수 만들기"
   ]
  },
  {
   "cell_type": "code",
   "execution_count": 3,
   "id": "c080c31c",
   "metadata": {},
   "outputs": [],
   "source": [
    "def inner_product(a, b):\n",
    "    \"\"\"\n",
    "    벡터의 내적\n",
    "    입력값: 내적할 벡터 리스트 a, b\n",
    "    출력값: 벡터 a, b의 내적 결과 res (scalar)\n",
    "    \"\"\"\n",
    "    \n",
    "    n = len(a)\n",
    "    res = 0\n",
    "    \n",
    "    for i in range(0, n):\n",
    "        res += a[i] * b[i]\n",
    "    \n",
    "    return res"
   ]
  },
  {
   "cell_type": "markdown",
   "id": "f7e3ba1d",
   "metadata": {},
   "source": [
    "### n차원의 단위행렬 구하는 함수 만들기"
   ]
  },
  {
   "cell_type": "code",
   "execution_count": 4,
   "id": "abb1cace",
   "metadata": {},
   "outputs": [],
   "source": [
    "def identity(n):\n",
    "    \"\"\"\n",
    "    단위 행렬 생성\n",
    "    입력값: 단위 행렬의 크기 n\n",
    "    출력값: nxn 단위행렬 I\n",
    "    \"\"\"\n",
    "    \n",
    "    I = []\n",
    "    for i in range(0, n):\n",
    "        row = []\n",
    "        for j in range(0, n):\n",
    "            if i == j:\n",
    "                row.append(1)\n",
    "            else:\n",
    "                row.append(0)\n",
    "        I.append(row)\n",
    "    return I"
   ]
  },
  {
   "cell_type": "markdown",
   "id": "e722a669",
   "metadata": {},
   "source": [
    "### 행렬의 뺄셈구하는 함수 만들기"
   ]
  },
  {
   "cell_type": "code",
   "execution_count": 5,
   "id": "8c4bdad9",
   "metadata": {},
   "outputs": [],
   "source": [
    "def substract(A, B):\n",
    "    \"\"\"\n",
    "    행렬의 뺄셈\n",
    "    입력값: 행렬의 뺄셈을 수행할 행렬 A , B\n",
    "    출력값: 행렬 A - 행렬 B 결과인 행렬 res\n",
    "    \"\"\"\n",
    "    \n",
    "    n = len(A)\n",
    "    p = len(A[0])\n",
    "    \n",
    "    res = []\n",
    "    \n",
    "    for i in range(0, n):\n",
    "        row = []\n",
    "        for j in range(0, p):\n",
    "            val = A[i][j] - B[i][j]\n",
    "            row.append(val)\n",
    "        res.append(row)\n",
    "    \n",
    "    return res"
   ]
  },
  {
   "cell_type": "markdown",
   "id": "ffc92bbb",
   "metadata": {},
   "source": [
    "### 하우스홀더 행렬을 구하는 전체 함수"
   ]
  },
  {
   "cell_type": "code",
   "execution_count": 9,
   "id": "a2d8317c",
   "metadata": {},
   "outputs": [],
   "source": [
    "def inner_product(a, b):\n",
    "    \"\"\"\n",
    "    벡터의 내적\n",
    "    입력값: 내적할 벡터 리스트 a, b\n",
    "    출력값: 벡터 a, b의 내적 결과 res (scalar)\n",
    "    \"\"\"\n",
    "    \n",
    "    n = len(a)\n",
    "    res = 0\n",
    "    \n",
    "    for i in range(0, n):\n",
    "        res += a[i] * b[i]\n",
    "    \n",
    "    return res\n",
    "\n",
    "def outer_product(a, b):\n",
    "    \"\"\"\n",
    "    벡터의 외적\n",
    "    입력값: 외적할 벡터 리스트 a, b\n",
    "    출력값: 벡터 a, b의 외적 결과 res (matrix)\n",
    "    \"\"\"\n",
    "    \n",
    "    n1 = len(a)\n",
    "    n2 = len(b)    \n",
    "    res = []\n",
    "    \n",
    "    for i in range(0, n1):\n",
    "        row = []\n",
    "        for j in range(0, n2):\n",
    "            val = a[i] * b[j]\n",
    "            row.append(val)\n",
    "        res.append(row)\n",
    "    \n",
    "    return res\n",
    "\n",
    "def identity(n):\n",
    "    \"\"\"\n",
    "    단위 행렬 생성\n",
    "    입력값: 단위 행렬의 크기 n\n",
    "    출력값: nxn 단위행렬 I\n",
    "    \"\"\"\n",
    "    \n",
    "    I = []\n",
    "    for i in range(0, n):\n",
    "        row = []\n",
    "        for j in range(0, n):\n",
    "            if i == j:\n",
    "                row.append(1)\n",
    "            else:\n",
    "                row.append(0)\n",
    "        I.append(row)\n",
    "    return I\n",
    "\n",
    "def substract(A, B):\n",
    "    \"\"\"\n",
    "    행렬의 뺄셈\n",
    "    입력값: 행렬의 뺄셈을 수행할 행렬 A , B\n",
    "    출력값: 행렬 A - 행렬 B 결과인 행렬 res\n",
    "    \"\"\"\n",
    "    \n",
    "    n = len(A)\n",
    "    p = len(A[0])\n",
    "    \n",
    "    res = []\n",
    "    \n",
    "    for i in range(0, n):\n",
    "        row = []\n",
    "        for j in range(0, p):\n",
    "            val = A[i][j] - B[i][j]\n",
    "            row.append(val)\n",
    "        res.append(row)\n",
    "    \n",
    "    return res\n",
    "\n",
    "def householder(v):\n",
    "    \"\"\"\n",
    "    vector의 하우스홀더 행렬을 만든다\n",
    "    입력값: 하우스홀더 행렬을 생성할 리스트v\n",
    "    출력값: 리스트 v를 이용해 생성한 하우스홀더 행렬 H\n",
    "    \"\"\"\n",
    "    \n",
    "    n = len(v)\n",
    "    outer_mat = outer_product(v, v)\n",
    "    inner_val = inner_product(v, v)\n",
    "    V = []\n",
    "    \n",
    "    for i in range(0, n):\n",
    "        row = []\n",
    "        for j in range(0, n):\n",
    "            val = (2/inner_val) * outer_mat[i][j]\n",
    "            row.append(val)\n",
    "        V.append(row)\n",
    "    H = substract(identity(n), V)\n",
    "    \n",
    "    return H\n"
   ]
  },
  {
   "cell_type": "markdown",
   "id": "873ce8f6",
   "metadata": {},
   "source": [
    "구해볼까"
   ]
  },
  {
   "cell_type": "code",
   "execution_count": 10,
   "id": "ffb81453",
   "metadata": {},
   "outputs": [],
   "source": [
    "cute_vector = [2,5,9,14,20]"
   ]
  },
  {
   "cell_type": "code",
   "execution_count": 11,
   "id": "d38bb14e",
   "metadata": {},
   "outputs": [
    {
     "data": {
      "text/plain": [
       "[[0.9886685552407932,\n",
       "  -0.028328611898016998,\n",
       "  -0.0509915014164306,\n",
       "  -0.07932011331444759,\n",
       "  -0.11331444759206799],\n",
       " [-0.028328611898016998,\n",
       "  0.9291784702549575,\n",
       "  -0.1274787535410765,\n",
       "  -0.19830028328611898,\n",
       "  -0.28328611898017],\n",
       " [-0.0509915014164306,\n",
       "  -0.1274787535410765,\n",
       "  0.7705382436260624,\n",
       "  -0.3569405099150142,\n",
       "  -0.509915014164306],\n",
       " [-0.07932011331444759,\n",
       "  -0.19830028328611898,\n",
       "  -0.3569405099150142,\n",
       "  0.4447592067988668,\n",
       "  -0.7932011331444759],\n",
       " [-0.11331444759206799,\n",
       "  -0.28328611898017,\n",
       "  -0.509915014164306,\n",
       "  -0.7932011331444759,\n",
       "  -0.1331444759206799]]"
      ]
     },
     "execution_count": 11,
     "metadata": {},
     "output_type": "execute_result"
    }
   ],
   "source": [
    "householder(cute_vector)"
   ]
  },
  {
   "cell_type": "markdown",
   "id": "520f3e93",
   "metadata": {},
   "source": [
    "## 넘파이 수행"
   ]
  },
  {
   "cell_type": "code",
   "execution_count": null,
   "id": "981bf21b",
   "metadata": {},
   "outputs": [],
   "source": []
  }
 ],
 "metadata": {
  "kernelspec": {
   "display_name": "Python 3 (ipykernel)",
   "language": "python",
   "name": "python3"
  },
  "language_info": {
   "codemirror_mode": {
    "name": "ipython",
    "version": 3
   },
   "file_extension": ".py",
   "mimetype": "text/x-python",
   "name": "python",
   "nbconvert_exporter": "python",
   "pygments_lexer": "ipython3",
   "version": "3.8.5"
  },
  "toc": {
   "base_numbering": 1,
   "nav_menu": {},
   "number_sections": true,
   "sideBar": true,
   "skip_h1_title": false,
   "title_cell": "Table of Contents",
   "title_sidebar": "Contents",
   "toc_cell": false,
   "toc_position": {},
   "toc_section_display": true,
   "toc_window_display": false
  }
 },
 "nbformat": 4,
 "nbformat_minor": 5
}

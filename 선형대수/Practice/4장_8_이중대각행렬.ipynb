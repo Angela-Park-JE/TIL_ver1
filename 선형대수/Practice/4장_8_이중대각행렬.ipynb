{
 "cells": [
  {
   "cell_type": "markdown",
   "id": "540bd52c",
   "metadata": {},
   "source": [
    "#  이중 대각 행렬\n",
    "\n",
    " ## 이중 대각 행렬의 개념\n",
    " \n",
    "기존의 대각 행렬은 대각 원소를 제외한 나머지 행렬 원소가 모두 0이었다.\n",
    "\n",
    "이중 대각 행렬은 대각 원소 뿐만 아니라 대각 원소의 바로 위쪽 혹은 아래쪽 원소가 0이 아닌 행렬이다.\n",
    "\n",
    "삼각 행렬처럼 방향에 따라 upper bidiagonal matrix와 lower bidiagonal matrix로 나뉜다."
   ]
  },
  {
   "cell_type": "markdown",
   "id": "b6b00d46",
   "metadata": {},
   "source": [
    "## 더하기공부 - 띠행렬\n",
    "\n",
    "모든 0이 아닌 성분이 주대각선 주변에 집중된 희소 행렬(대부분의 원소가 0인 행렬)이다.\n",
    "\n",
    "1행 1열을 중심으로 상 대역폭과 하 대역폭을 가지고 있으며, 상 대역폭이 1인 경우가 상 이중 대각 행렬과 같아지고, 하 대역폭이 1인 경우가 하 이중 대각 행렬과 같아진다!\n",
    "\n",
    "이때 상 대역폭 = 1, 하 대역폭 = 1 일 때는 삼중 대각 행렬이 되고 \n",
    "\n",
    "$ m \\times n$ 행렬에서 상 대역폭 = 0, 하 대역폭 = n-1 일때 상 삼각 행렬이 된다.\n",
    "\n",
    "마찬가지로 상 대역폭 = m-1, 하 대역폭 = 0 일때 하 삼각 행렬이 된다.\n",
    "\n",
    "*참조 : https://ko.wikipedia.org/wiki/%EB%9D%A0%ED%96%89%EB%A0%AC*\n"
   ]
  },
  {
   "cell_type": "markdown",
   "id": "6216dfba",
   "metadata": {},
   "source": [
    "# 이중 대각 행렬 만들기"
   ]
  },
  {
   "cell_type": "markdown",
   "id": "fec42b57",
   "metadata": {},
   "source": [
    "## upper bidiagonal matrix \n",
    "### 파이썬으로 구현\n",
    "\n",
    "이중 대각 행렬을 구성할 행렬을 선언한다."
   ]
  },
  {
   "cell_type": "code",
   "execution_count": 1,
   "id": "623627c2",
   "metadata": {},
   "outputs": [],
   "source": [
    "# upper bidiagonal matrix\n",
    "\n",
    "A = [[1, 2, 1, 4], [3, 6, 5, 7], [8, 10, 11, 9], [13, 14, 12, 15]]"
   ]
  },
  {
   "cell_type": "markdown",
   "id": "70ee8d62",
   "metadata": {},
   "source": [
    "이 행렬의 대각 원소와 대각 원소 바로 위쪽에 위치한 원소는 0이 아니도록 만들었다."
   ]
  },
  {
   "cell_type": "code",
   "execution_count": 2,
   "id": "abca228a",
   "metadata": {},
   "outputs": [],
   "source": [
    "n = len(A)\n",
    "p = len(A[0])\n",
    "\n",
    "res = []\n",
    "for i in range(0, n):\n",
    "    row = []\n",
    "    for j in range(0, p):\n",
    "        if i > j or j - i >1:    # 행 번호가 열 번호보다 크거나(대각원소 아래), 열 번호- 행 번호의 차이가 1보다 큰 곳(대각원소의 대각선 윗 윗 방향 원소)\n",
    "            row.append(0)\n",
    "        else:\n",
    "            row.append(A[i][j])\n",
    "    res.append(row)"
   ]
  },
  {
   "cell_type": "code",
   "execution_count": 3,
   "id": "607fa22d",
   "metadata": {},
   "outputs": [
    {
     "data": {
      "text/plain": [
       "[[1, 2, 0, 0], [0, 6, 5, 0], [0, 0, 11, 9], [0, 0, 0, 15]]"
      ]
     },
     "execution_count": 3,
     "metadata": {},
     "output_type": "execute_result"
    }
   ],
   "source": [
    "res"
   ]
  },
  {
   "cell_type": "markdown",
   "id": "ed765c2f",
   "metadata": {},
   "source": [
    "### 함수 만들기"
   ]
  },
  {
   "cell_type": "code",
   "execution_count": 4,
   "id": "0960f386",
   "metadata": {},
   "outputs": [],
   "source": [
    "def upper_bidi(A):\n",
    "    \"\"\"\n",
    "    upper bidiagonal 행렬 만들기\n",
    "    입력값: 상 이중 대각 행렬 만드려는 행렬 A\n",
    "    출력값: 행렬 A의 상 이중 대각 행렬 res\n",
    "    \"\"\"\n",
    "    \n",
    "    n = len(A)\n",
    "    p = len(A[0])\n",
    "\n",
    "    res = []\n",
    "    for i in range(0, n):\n",
    "        row = []\n",
    "        for j in range(0, p):\n",
    "            if i > j or j - i >1:\n",
    "                row.append(0)\n",
    "            else:\n",
    "                row.append(A[i][j])\n",
    "        res.append(row)\n",
    "    \n",
    "    return res"
   ]
  },
  {
   "cell_type": "code",
   "execution_count": 5,
   "id": "53bcbcb7",
   "metadata": {},
   "outputs": [],
   "source": [
    "A = [[1, 2, 1, 4], [3, 6, 5, 7], [8, 10, 11, 9], [13, 14, 12, 15]]"
   ]
  },
  {
   "cell_type": "code",
   "execution_count": 6,
   "id": "67d96a25",
   "metadata": {},
   "outputs": [
    {
     "data": {
      "text/plain": [
       "[[1, 2, 0, 0], [0, 6, 5, 0], [0, 0, 11, 9], [0, 0, 0, 15]]"
      ]
     },
     "execution_count": 6,
     "metadata": {},
     "output_type": "execute_result"
    }
   ],
   "source": [
    "upper_bidi(A)"
   ]
  },
  {
   "cell_type": "markdown",
   "id": "34da0cdf",
   "metadata": {},
   "source": [
    "### 넘파이 실습"
   ]
  },
  {
   "cell_type": "code",
   "execution_count": 7,
   "id": "cadcd3ad",
   "metadata": {},
   "outputs": [],
   "source": [
    "import numpy as np"
   ]
  },
  {
   "cell_type": "code",
   "execution_count": 8,
   "id": "620d590d",
   "metadata": {},
   "outputs": [
    {
     "name": "stdout",
     "output_type": "stream",
     "text": [
      "[[ 1  2  1  4]\n",
      " [ 3  6  5  7]\n",
      " [ 8 10 11  9]\n",
      " [13 14 12 15]]\n"
     ]
    }
   ],
   "source": [
    "A = np.array([[1, 2, 1, 4], [3, 6, 5, 7], [8, 10, 11, 9], [13, 14, 12, 15]])\n",
    "print(A)"
   ]
  },
  {
   "cell_type": "markdown",
   "id": "c9973d8f",
   "metadata": {},
   "source": [
    "1. diagonal 원소를 구한다."
   ]
  },
  {
   "cell_type": "code",
   "execution_count": 9,
   "id": "7298aa9d",
   "metadata": {},
   "outputs": [
    {
     "name": "stdout",
     "output_type": "stream",
     "text": [
      "[ 1  6 11 15]\n"
     ]
    }
   ],
   "source": [
    "diag_ele = np.diag(A)\n",
    "print(diag_ele)"
   ]
  },
  {
   "cell_type": "markdown",
   "id": "2b9aecc8",
   "metadata": {},
   "source": [
    "2. 다시 diag 하면 해당 원소로 n by n의 대각 행렬을 만든다."
   ]
  },
  {
   "cell_type": "code",
   "execution_count": 10,
   "id": "ff70effb",
   "metadata": {},
   "outputs": [
    {
     "name": "stdout",
     "output_type": "stream",
     "text": [
      "[[ 1  0  0  0]\n",
      " [ 0  6  0  0]\n",
      " [ 0  0 11  0]\n",
      " [ 0  0  0 15]]\n"
     ]
    }
   ],
   "source": [
    "diag_mat = np.diag(diag_ele)\n",
    "print(diag_mat)"
   ]
  },
  {
   "cell_type": "markdown",
   "id": "c969691c",
   "metadata": {},
   "source": [
    "3. 대각 원소 바로 위쪽에 존재하는 원소를 추출한다.\n",
    "\n",
    "이때 diag 함수의 옵션에서 k 값을 조정하면 된다. 양수는 upper, 음수는 lower 원소를 찾으며,\n",
    "\n",
    "k = 1은 대각 원소 위쪽으로 1번 쨰 위치한 원소를 추출한다는 의미이다."
   ]
  },
  {
   "cell_type": "code",
   "execution_count": 11,
   "id": "6058948e",
   "metadata": {},
   "outputs": [
    {
     "name": "stdout",
     "output_type": "stream",
     "text": [
      "[2 5 9]\n"
     ]
    }
   ],
   "source": [
    "u1_diag_ele = np.diag(A, k = 1)\n",
    "print(u1_diag_ele)"
   ]
  },
  {
   "cell_type": "code",
   "execution_count": 12,
   "id": "f3de8cac",
   "metadata": {},
   "outputs": [
    {
     "name": "stdout",
     "output_type": "stream",
     "text": [
      "[[0 2 0 0]\n",
      " [0 0 5 0]\n",
      " [0 0 0 9]\n",
      " [0 0 0 0]]\n"
     ]
    }
   ],
   "source": [
    "u1_mat = np.diag(u1_diag_ele, k = 1)\n",
    "print(u1_mat)"
   ]
  },
  {
   "cell_type": "markdown",
   "id": "1d6472aa",
   "metadata": {},
   "source": [
    "4. 이 두 행렬을 더하면 완성!"
   ]
  },
  {
   "cell_type": "code",
   "execution_count": 13,
   "id": "7c5e00b7",
   "metadata": {},
   "outputs": [
    {
     "name": "stdout",
     "output_type": "stream",
     "text": [
      "[[ 1  2  0  0]\n",
      " [ 0  6  5  0]\n",
      " [ 0  0 11  9]\n",
      " [ 0  0  0 15]]\n"
     ]
    }
   ],
   "source": [
    "upper_bidi = diag_mat + u1_mat\n",
    "print(upper_bidi)"
   ]
  },
  {
   "cell_type": "markdown",
   "id": "4af52cb1",
   "metadata": {},
   "source": [
    "## lower bidiagonal matrix"
   ]
  },
  {
   "cell_type": "markdown",
   "id": "02969ffb",
   "metadata": {},
   "source": [
    "### 파이썬으로 구현"
   ]
  },
  {
   "cell_type": "code",
   "execution_count": 14,
   "id": "653d63ef",
   "metadata": {},
   "outputs": [],
   "source": [
    "A = [[1, 2, 1, 4], [3, 6, 5, 7], [8, 10, 11, 9], [13, 14, 12, 15]]"
   ]
  },
  {
   "cell_type": "code",
   "execution_count": 15,
   "id": "f939c3f8",
   "metadata": {},
   "outputs": [],
   "source": [
    "n = len(A)\n",
    "p = len(A[0])\n",
    "\n",
    "res = []\n",
    "for i in range(0, n):\n",
    "    row = []\n",
    "    for j in range(0, p):\n",
    "        if i < j or i - j >1:    # 행 번호가 열 번호보다 크거나(대각원소 아래), 열 번호- 행 번호의 차이가 1보다 큰 곳(대각원소의 대각선 윗 윗 방향 원소)\n",
    "            row.append(0)\n",
    "        else:\n",
    "            row.append(A[i][j])\n",
    "    res.append(row)"
   ]
  },
  {
   "cell_type": "code",
   "execution_count": 16,
   "id": "0a54f820",
   "metadata": {},
   "outputs": [
    {
     "data": {
      "text/plain": [
       "[[1, 0, 0, 0], [3, 6, 0, 0], [0, 10, 11, 0], [0, 0, 12, 15]]"
      ]
     },
     "execution_count": 16,
     "metadata": {},
     "output_type": "execute_result"
    }
   ],
   "source": [
    "res"
   ]
  },
  {
   "cell_type": "markdown",
   "id": "856df8d3",
   "metadata": {},
   "source": [
    "### 함수 만들기"
   ]
  },
  {
   "cell_type": "code",
   "execution_count": 18,
   "id": "35488b5f",
   "metadata": {},
   "outputs": [],
   "source": [
    "def lower_bidi(A):\n",
    "    \"\"\"\n",
    "    lower bidiagonal 행렬\n",
    "    입력값: 행렬 A\n",
    "    출력값: 행렬 A의 lower bidiagonal 행렬 res\n",
    "    \"\"\"\n",
    "    n = len(A)\n",
    "    p = len(A[0])\n",
    "    \n",
    "    res = []\n",
    "    \n",
    "    for i in range(0, n):\n",
    "        row = []\n",
    "        for j in range(0, p):\n",
    "            if i < j or i - j > 1:\n",
    "                row.append(0)\n",
    "            else:\n",
    "                row.append(A[i][j])\n",
    "        res.append(row)\n",
    "    \n",
    "    return res"
   ]
  },
  {
   "cell_type": "code",
   "execution_count": 19,
   "id": "55d5a177",
   "metadata": {},
   "outputs": [
    {
     "data": {
      "text/plain": [
       "[[1, 0, 0, 0], [3, 6, 0, 0], [0, 10, 11, 0], [0, 0, 12, 15]]"
      ]
     },
     "execution_count": 19,
     "metadata": {},
     "output_type": "execute_result"
    }
   ],
   "source": [
    "lower_bidi(A)"
   ]
  },
  {
   "cell_type": "markdown",
   "id": "d156a196",
   "metadata": {},
   "source": [
    "### 넘파이 실습"
   ]
  },
  {
   "cell_type": "code",
   "execution_count": 20,
   "id": "fdb249c2",
   "metadata": {},
   "outputs": [],
   "source": [
    "import numpy as np"
   ]
  },
  {
   "cell_type": "code",
   "execution_count": null,
   "id": "b6bc5f20",
   "metadata": {},
   "outputs": [],
   "source": []
  }
 ],
 "metadata": {
  "kernelspec": {
   "display_name": "Python 3 (ipykernel)",
   "language": "python",
   "name": "python3"
  },
  "language_info": {
   "codemirror_mode": {
    "name": "ipython",
    "version": 3
   },
   "file_extension": ".py",
   "mimetype": "text/x-python",
   "name": "python",
   "nbconvert_exporter": "python",
   "pygments_lexer": "ipython3",
   "version": "3.8.5"
  },
  "toc": {
   "base_numbering": 1,
   "nav_menu": {},
   "number_sections": true,
   "sideBar": true,
   "skip_h1_title": false,
   "title_cell": "Table of Contents",
   "title_sidebar": "Contents",
   "toc_cell": false,
   "toc_position": {},
   "toc_section_display": true,
   "toc_window_display": false
  }
 },
 "nbformat": 4,
 "nbformat_minor": 5
}

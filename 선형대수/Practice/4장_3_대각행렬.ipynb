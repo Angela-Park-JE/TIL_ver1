{
 "cells": [
  {
   "cell_type": "markdown",
   "id": "540bd52c",
   "metadata": {},
   "source": [
    "#  대각 행렬\n",
    "\n",
    " ## 대각 행렬의 개념\n",
    " \n",
    " 대각 행렬은 행렬의 주 대각 원소가 아닌 원소가 0인 정사각 행렬이다.\n",
    " \n",
    " 헹렬 내에 행 번호와 열 번호가 동일한 원소를 주 대각 원소라고 부른다. 주 대각 원소를 제외한 다른 원소가 0일 때 행렬  $$ D $$ 를 대각 행렬이라고 한다.\n",
    " \n",
    " 주로 D 로 표현하는데, 이는 diagonal matrix 의 약자이다.\n",
    " \n",
    " 대각 행렬  D 의 역행렬은 대각 행렬 D^{-1}의 주 대각 원소들의 역수로 구성되어 있다.\n",
    " \n",
    " \n",
    " \n",
    " "
   ]
  },
  {
   "cell_type": "markdown",
   "id": "e7a15ec2",
   "metadata": {},
   "source": [
    "## 대각 행렬의 성질\n"
   ]
  },
  {
   "cell_type": "markdown",
   "id": "d6ee92ad",
   "metadata": {},
   "source": [
    "## 대각 행렬 구하기"
   ]
  },
  {
   "cell_type": "markdown",
   "id": "51d2a08c",
   "metadata": {},
   "source": [
    "### 파이썬 구현"
   ]
  },
  {
   "cell_type": "code",
   "execution_count": 1,
   "id": "64f88544",
   "metadata": {},
   "outputs": [],
   "source": [
    "A = [[1, 2, 3], [4, 5, 6], [7, 8, 9]]\n",
    "\n",
    "# 이 행렬을 대각 행렬로 만드는, 즉 대각 원소를 제외한 나머지 원소를 0으로 바꾸는 것."
   ]
  },
  {
   "cell_type": "code",
   "execution_count": 2,
   "id": "f54f0183",
   "metadata": {},
   "outputs": [],
   "source": [
    "n = len(A)\n",
    "D = []\n",
    "\n",
    "for i in range(0, n):\n",
    "    row = []\n",
    "    for j in range(0, n):\n",
    "        if i == j:\n",
    "            row.append(A[i][j])\n",
    "        else:\n",
    "            row.append(0)\n",
    "    D.append(row)\n",
    "    "
   ]
  },
  {
   "cell_type": "code",
   "execution_count": 3,
   "id": "dfc6bde5",
   "metadata": {},
   "outputs": [
    {
     "name": "stdout",
     "output_type": "stream",
     "text": [
      "[[1, 0, 0], [0, 5, 0], [0, 0, 9]]\n"
     ]
    }
   ],
   "source": [
    "print(D)"
   ]
  },
  {
   "cell_type": "markdown",
   "id": "ec12b764",
   "metadata": {},
   "source": [
    "### 함수 만들기\n"
   ]
  },
  {
   "cell_type": "code",
   "execution_count": 4,
   "id": "66362540",
   "metadata": {},
   "outputs": [],
   "source": [
    "def diag(A):\n",
    "    \"\"\"\n",
    "    행렬의 대각 행렬\n",
    "    입력값: 대각 행렬을 구하고자 하는 행렬  A\n",
    "    출력값: 행렬 A의 대각 행렬 D\n",
    "    \"\"\"\n",
    "    \n",
    "    n = len(A)\n",
    "    D = []\n",
    "\n",
    "    for i in range(0, n):\n",
    "        row = []\n",
    "        for j in range(0, n):\n",
    "            if i == j:\n",
    "                row.append(A[i][j])\n",
    "            else:\n",
    "                row.append(0)\n",
    "        D.append(row)\n",
    "        \n",
    "    return D"
   ]
  },
  {
   "cell_type": "code",
   "execution_count": 5,
   "id": "49fb4417",
   "metadata": {},
   "outputs": [
    {
     "data": {
      "text/plain": [
       "[[1, 0, 0], [0, 5, 0], [0, 0, 9]]"
      ]
     },
     "execution_count": 5,
     "metadata": {},
     "output_type": "execute_result"
    }
   ],
   "source": [
    "A = [[1, 2, 3], [4, 5, 6], [7, 8, 9]]\n",
    "\n",
    "diag(A)"
   ]
  },
  {
   "cell_type": "markdown",
   "id": "cc321f62",
   "metadata": {},
   "source": [
    "### 넘파이 수행"
   ]
  },
  {
   "cell_type": "code",
   "execution_count": 6,
   "id": "951f3918",
   "metadata": {},
   "outputs": [],
   "source": [
    "import numpy as np"
   ]
  },
  {
   "cell_type": "code",
   "execution_count": 7,
   "id": "fb9a53c3",
   "metadata": {},
   "outputs": [
    {
     "name": "stdout",
     "output_type": "stream",
     "text": [
      "[1 5 9]\n"
     ]
    }
   ],
   "source": [
    "A = np.array([[1, 2, 3], [4, 5, 6], [7, 8, 9]])\n",
    "D = np.diag(A)\n",
    "\n",
    "print(D)"
   ]
  },
  {
   "cell_type": "markdown",
   "id": "de1f6fde",
   "metadata": {},
   "source": [
    "먼저 행렬을 diag 한 다음, 그 결과를 diag를 하면 된다."
   ]
  },
  {
   "cell_type": "code",
   "execution_count": 8,
   "id": "a2c9adfc",
   "metadata": {},
   "outputs": [
    {
     "data": {
      "text/plain": [
       "array([[1, 0, 0],\n",
       "       [0, 5, 0],\n",
       "       [0, 0, 9]])"
      ]
     },
     "execution_count": 8,
     "metadata": {},
     "output_type": "execute_result"
    }
   ],
   "source": [
    "np.diag(D)"
   ]
  },
  {
   "cell_type": "markdown",
   "id": "f5623b39",
   "metadata": {},
   "source": [
    "## 대각 원소 구하기"
   ]
  },
  {
   "cell_type": "markdown",
   "id": "f7ff7ae0",
   "metadata": {},
   "source": [
    "### 파이썬 함수로 구현"
   ]
  },
  {
   "cell_type": "code",
   "execution_count": 9,
   "id": "407138b6",
   "metadata": {},
   "outputs": [],
   "source": [
    "A = [[1, 2, 3], [4, 5, 6], [7, 8, 9]]"
   ]
  },
  {
   "cell_type": "code",
   "execution_count": 12,
   "id": "78bbded5",
   "metadata": {},
   "outputs": [],
   "source": [
    "def diag_ele(A):\n",
    "    \"\"\"\n",
    "    행렬의 대각 원소 구하기\n",
    "    입력값: 대각 원소를 구하고자 하는 행렬  A\n",
    "    출력값: 행렬 A의 대각 원소 리스트 d\n",
    "    \"\"\"\n",
    "    \n",
    "    n = len(A)\n",
    "    d = []\n",
    "\n",
    "    for i in range(0, n):\n",
    "        d.append(A[i][i])\n",
    "        \n",
    "    return d"
   ]
  },
  {
   "cell_type": "code",
   "execution_count": 13,
   "id": "6a9488a6",
   "metadata": {},
   "outputs": [
    {
     "data": {
      "text/plain": [
       "[1, 5, 9]"
      ]
     },
     "execution_count": 13,
     "metadata": {},
     "output_type": "execute_result"
    }
   ],
   "source": [
    "A = [[1, 2, 3], [4, 5, 6], [7, 8, 9]]\n",
    "\n",
    "diag_ele(A)"
   ]
  },
  {
   "cell_type": "markdown",
   "id": "f5cdb3fa",
   "metadata": {},
   "source": [
    "### 넘파이 수행"
   ]
  },
  {
   "cell_type": "code",
   "execution_count": 14,
   "id": "87257ec6",
   "metadata": {},
   "outputs": [
    {
     "name": "stdout",
     "output_type": "stream",
     "text": [
      "[1 5 9]\n"
     ]
    }
   ],
   "source": [
    "A = np.array([[1, 2, 3], [4, 5, 6], [7, 8, 9]])\n",
    "d = np.diag(A)\n",
    "\n",
    "print(d)"
   ]
  },
  {
   "cell_type": "markdown",
   "id": "e02ee52d",
   "metadata": {},
   "source": [
    "## 대각 원소가 주어졌을 때, 대각 행렬로 변환"
   ]
  },
  {
   "cell_type": "markdown",
   "id": "753e44bc",
   "metadata": {},
   "source": [
    "### 파이썬 함수로 구현"
   ]
  },
  {
   "cell_type": "code",
   "execution_count": 15,
   "id": "f19b9fae",
   "metadata": {},
   "outputs": [],
   "source": [
    "a = [1, 9, 5]"
   ]
  },
  {
   "cell_type": "code",
   "execution_count": 16,
   "id": "3a527c94",
   "metadata": {},
   "outputs": [],
   "source": [
    "def ele2diag(a):\n",
    "    \"\"\"\n",
    "    대각원소 -> 대각 행렬 반환\n",
    "    입력값: 대각 원소 리스트 a\n",
    "    출력값: 대각 원소 a를 이용해 생성한 nxn 대각 행렬 D\n",
    "    n: 대각 원소 리스트 a의 길이\n",
    "    \"\"\"\n",
    "    \n",
    "    n = len(A)\n",
    "    D = []\n",
    "    for i in range(0, n):\n",
    "        row = []\n",
    "        for j in range(0, n):\n",
    "            if i==j:\n",
    "                row.append(a[i])\n",
    "            else:\n",
    "                row.append(0)\n",
    "        D.append(row)\n",
    "    \n",
    "    return D"
   ]
  },
  {
   "cell_type": "code",
   "execution_count": 17,
   "id": "a5fe7b34",
   "metadata": {},
   "outputs": [
    {
     "data": {
      "text/plain": [
       "[[1, 0, 0], [0, 9, 0], [0, 0, 5]]"
      ]
     },
     "execution_count": 17,
     "metadata": {},
     "output_type": "execute_result"
    }
   ],
   "source": [
    "ele2diag(a)"
   ]
  },
  {
   "cell_type": "markdown",
   "id": "d15c8c26",
   "metadata": {},
   "source": [
    "### 넘파이 수행"
   ]
  },
  {
   "cell_type": "code",
   "execution_count": 18,
   "id": "34f88fb2",
   "metadata": {},
   "outputs": [],
   "source": [
    "# 대각 원소 리스트 a\n",
    "a = [1, 9, 5]"
   ]
  },
  {
   "cell_type": "code",
   "execution_count": 19,
   "id": "c78f06b2",
   "metadata": {},
   "outputs": [
    {
     "name": "stdout",
     "output_type": "stream",
     "text": [
      "[[1 0 0]\n",
      " [0 9 0]\n",
      " [0 0 5]]\n"
     ]
    }
   ],
   "source": [
    "D = np.diag(a)\n",
    "\n",
    "print(D)"
   ]
  },
  {
   "cell_type": "markdown",
   "id": "c244b1cb",
   "metadata": {},
   "source": [
    "## 일반 행렬에 대각 행렬을 곱했을 때"
   ]
  },
  {
   "cell_type": "markdown",
   "id": "4ae38ba7",
   "metadata": {},
   "source": [
    "### 파이썬 실습\n"
   ]
  },
  {
   "cell_type": "code",
   "execution_count": 22,
   "id": "64205419",
   "metadata": {},
   "outputs": [],
   "source": [
    "# 행렬 곱을 할 것이기에 이전 함수를 가져온다.\n",
    "\n",
    "def matmul(A, B):\n",
    "    \"\"\"\n",
    "    행렬의 행렬 곱\n",
    "    입력값: 행렬 곱을 수행할 행렬 A, B\n",
    "    출력값: 행렬 A와 B의 행렬 곱 결과인 행렬 res\n",
    "    \"\"\"\n",
    "    \n",
    "    n = len(A)\n",
    "    p1 = len(A[0])\n",
    "    p2 = len(B[0])\n",
    "\n",
    "    res = []\n",
    "    for i in range(0, n):\n",
    "        row = []\n",
    "        for j in range(0, p2):\n",
    "            val = 0\n",
    "            for k in range(0, p1):\n",
    "                val += A[i][k] * B[k][j]\n",
    "            row.append(val)\n",
    "        res.append(row)\n",
    "    \n",
    "    return res"
   ]
  },
  {
   "cell_type": "code",
   "execution_count": 20,
   "id": "4809a296",
   "metadata": {
    "scrolled": true
   },
   "outputs": [
    {
     "name": "stdout",
     "output_type": "stream",
     "text": [
      "[[1, 2, 3], [4, 5, 6], [7, 8, 9]]\n",
      "[[2, 0, 0], [0, 1, 0], [0, 0, 1]]\n"
     ]
    }
   ],
   "source": [
    "A = [[1, 2, 3], [4, 5, 6], [7, 8, 9]]\n",
    "D = ele2diag([2, 1, 1])\n",
    "\n",
    "print(A)\n",
    "print(D)"
   ]
  },
  {
   "cell_type": "code",
   "execution_count": 23,
   "id": "20a4e0be",
   "metadata": {},
   "outputs": [
    {
     "name": "stdout",
     "output_type": "stream",
     "text": [
      "[[2, 2, 3], [8, 5, 6], [14, 8, 9]]\n"
     ]
    }
   ],
   "source": [
    "# 파이썬의 리스트 자료구조를 이용해 행렬 A와 D를 선언하고 각각 A와 D라고 이름 짓는다.\n",
    "\n",
    "AD = matmul(A, D)\n",
    "print(AD)"
   ]
  },
  {
   "cell_type": "markdown",
   "id": "12187bc3",
   "metadata": {},
   "source": [
    "결과를 확인하면 \"행렬 A의 1열에만\" 2가 곱해진 모습을 볼 수 있다.\n",
    "\n",
    "반대로 곱하는 순서를 바꾸어 대각 행렬을 앞에다 곱하는 경우를 구해본다."
   ]
  },
  {
   "cell_type": "code",
   "execution_count": 24,
   "id": "d2d95f95",
   "metadata": {},
   "outputs": [
    {
     "name": "stdout",
     "output_type": "stream",
     "text": [
      "[[2, 4, 6], [4, 5, 6], [7, 8, 9]]\n"
     ]
    }
   ],
   "source": [
    "DA = matmul(D, A)\n",
    "print(DA)"
   ]
  },
  {
   "cell_type": "markdown",
   "id": "cd197a45",
   "metadata": {},
   "source": [
    "결과를 확인하면 \"행렬 A의 1행에만\" 2가 곱해진 모습을 볼 수 있다.\n",
    "\n",
    "만약 2행 2열의 값이 3일 경우에는 어떻게 될까?"
   ]
  },
  {
   "cell_type": "code",
   "execution_count": 25,
   "id": "dc4ec4f2",
   "metadata": {},
   "outputs": [],
   "source": [
    "A = [[1, 2, 3], [4, 5, 6], [7, 8, 9]]\n",
    "D_2 = ele2diag([1, 3, 1])"
   ]
  },
  {
   "cell_type": "code",
   "execution_count": 27,
   "id": "64703a9d",
   "metadata": {},
   "outputs": [
    {
     "name": "stdout",
     "output_type": "stream",
     "text": [
      "[[1, 6, 3], [4, 15, 6], [7, 24, 9]]\n"
     ]
    }
   ],
   "source": [
    "AD_2 = matmul(A, D_2)\n",
    "print(AD_2)"
   ]
  },
  {
   "cell_type": "code",
   "execution_count": 28,
   "id": "ddef4945",
   "metadata": {},
   "outputs": [
    {
     "name": "stdout",
     "output_type": "stream",
     "text": [
      "[[1, 2, 3], [12, 15, 18], [7, 8, 9]]\n"
     ]
    }
   ],
   "source": [
    "D_2A = matmul(D_2, A)\n",
    "print(D_2A)"
   ]
  },
  {
   "cell_type": "markdown",
   "id": "2568ac26",
   "metadata": {},
   "source": [
    "각각 2열에만 3이 곱해지거나, 2행에만 3이 곱해진 것을 알 수 있다.\n",
    "\n",
    "이제 이를 활용해서 1이아닌 다른 숫자들이 들어간 대각 행렬을 곱해본다."
   ]
  },
  {
   "cell_type": "code",
   "execution_count": 29,
   "id": "3487c3da",
   "metadata": {},
   "outputs": [],
   "source": [
    "A = [[1, 2, 3], [4, 5, 6], [7, 8, 9]]\n",
    "D_3 = ele2diag([4, 3, 2])"
   ]
  },
  {
   "cell_type": "code",
   "execution_count": 30,
   "id": "1027cfe5",
   "metadata": {},
   "outputs": [
    {
     "name": "stdout",
     "output_type": "stream",
     "text": [
      "[[4, 6, 6], [16, 15, 12], [28, 24, 18]]\n"
     ]
    }
   ],
   "source": [
    "AD_3 = matmul(A, D_3)\n",
    "print(AD_3)"
   ]
  },
  {
   "cell_type": "code",
   "execution_count": 31,
   "id": "98df6f25",
   "metadata": {},
   "outputs": [
    {
     "name": "stdout",
     "output_type": "stream",
     "text": [
      "[[4, 8, 12], [12, 15, 18], [14, 16, 18]]\n"
     ]
    }
   ],
   "source": [
    "D_3A = matmul(D_3, A)\n",
    "print(D_3A)"
   ]
  },
  {
   "cell_type": "markdown",
   "id": "4c946ef1",
   "metadata": {},
   "source": [
    "앞에 곱하면 열에 곱해지고, 뒤에 곱하면 행에 곱해진 것을 알 수 있다."
   ]
  },
  {
   "cell_type": "code",
   "execution_count": null,
   "id": "a42e7ff5",
   "metadata": {},
   "outputs": [],
   "source": []
  }
 ],
 "metadata": {
  "kernelspec": {
   "display_name": "Python 3",
   "language": "python",
   "name": "python3"
  },
  "language_info": {
   "codemirror_mode": {
    "name": "ipython",
    "version": 3
   },
   "file_extension": ".py",
   "mimetype": "text/x-python",
   "name": "python",
   "nbconvert_exporter": "python",
   "pygments_lexer": "ipython3",
   "version": "3.8.8"
  },
  "toc": {
   "base_numbering": 1,
   "nav_menu": {},
   "number_sections": true,
   "sideBar": true,
   "skip_h1_title": false,
   "title_cell": "Table of Contents",
   "title_sidebar": "Contents",
   "toc_cell": false,
   "toc_position": {},
   "toc_section_display": true,
   "toc_window_display": false
  }
 },
 "nbformat": 4,
 "nbformat_minor": 5
}

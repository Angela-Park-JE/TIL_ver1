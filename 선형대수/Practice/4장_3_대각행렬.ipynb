{
 "cells": [
  {
   "cell_type": "markdown",
   "id": "540bd52c",
   "metadata": {},
   "source": [
    "#  대각 행렬\n",
    "\n",
    " ## 대각 행렬의 개념\n",
    " \n",
    " 대각 행렬은 행렬의 주 대각 원소가 아닌 원소가 0인 정사각 행렬이다.\n",
    " \n",
    " 헹렬 내에 행 번호와 열 번호가 동일한 원소를 주 대각 원소라고 부른다. 주 대각 원소를 제외한 다른 원소가 0일 때 행렬  $$ D $$ 를 대각 행렬이라고 한다.\n",
    " \n",
    " 주로 D 로 표현하는데, 이는 diagonal matrix 의 약자이다.\n",
    " \n",
    " 대각 행렬  D 의 역행렬은 대각 행렬 D^{-1}의 주 대각 원소들의 역수로 구성되어 있다.\n",
    " \n",
    " \n",
    " \n",
    " "
   ]
  },
  {
   "cell_type": "markdown",
   "id": "f6a4f50e",
   "metadata": {},
   "source": [
    "## 대각 행렬의 성질\n"
   ]
  },
  {
   "cell_type": "markdown",
   "id": "d46fada8",
   "metadata": {},
   "source": [
    "## 파이썬 구현"
   ]
  },
  {
   "cell_type": "code",
   "execution_count": 1,
   "id": "6ccd01a2",
   "metadata": {},
   "outputs": [],
   "source": [
    "A = [[1, 2, 3], [4, 5, 6], [7, 8, 9]]\n",
    "\n",
    "# 이 행렬을 대각 행렬로 만드는, 즉 대각 원소를 제외한 나머지 원소를 0으로 바꾸는 것."
   ]
  },
  {
   "cell_type": "code",
   "execution_count": 2,
   "id": "9c5bf65d",
   "metadata": {},
   "outputs": [],
   "source": [
    "n = len(A)\n",
    "D = []\n",
    "\n",
    "for i in range(0, n):\n",
    "    row = []\n",
    "    for j in range(0, n):\n",
    "        if i == j:\n",
    "            row.append(A[i][j])\n",
    "        else:\n",
    "            row.append(0)\n",
    "    D.append(row)\n",
    "    "
   ]
  },
  {
   "cell_type": "code",
   "execution_count": 3,
   "id": "e8c2048e",
   "metadata": {},
   "outputs": [
    {
     "name": "stdout",
     "output_type": "stream",
     "text": [
      "[[1, 0, 0], [0, 5, 0], [0, 0, 9]]\n"
     ]
    }
   ],
   "source": [
    "print(D)"
   ]
  },
  {
   "cell_type": "markdown",
   "id": "31da630e",
   "metadata": {},
   "source": [
    "## 함수 만들기\n"
   ]
  },
  {
   "cell_type": "code",
   "execution_count": null,
   "id": "b5d59581",
   "metadata": {},
   "outputs": [],
   "source": []
  },
  {
   "cell_type": "code",
   "execution_count": null,
   "id": "ea2ef3f6",
   "metadata": {},
   "outputs": [],
   "source": []
  },
  {
   "cell_type": "markdown",
   "id": "18d1a931",
   "metadata": {},
   "source": [
    "## 넘파이 수행"
   ]
  },
  {
   "cell_type": "code",
   "execution_count": null,
   "id": "b4150f29",
   "metadata": {},
   "outputs": [],
   "source": []
  }
 ],
 "metadata": {
  "kernelspec": {
   "display_name": "Python 3",
   "language": "python",
   "name": "python3"
  },
  "language_info": {
   "codemirror_mode": {
    "name": "ipython",
    "version": 3
   },
   "file_extension": ".py",
   "mimetype": "text/x-python",
   "name": "python",
   "nbconvert_exporter": "python",
   "pygments_lexer": "ipython3",
   "version": "3.8.8"
  },
  "toc": {
   "base_numbering": 1,
   "nav_menu": {},
   "number_sections": true,
   "sideBar": true,
   "skip_h1_title": false,
   "title_cell": "Table of Contents",
   "title_sidebar": "Contents",
   "toc_cell": false,
   "toc_position": {},
   "toc_section_display": true,
   "toc_window_display": false
  }
 },
 "nbformat": 4,
 "nbformat_minor": 5
}

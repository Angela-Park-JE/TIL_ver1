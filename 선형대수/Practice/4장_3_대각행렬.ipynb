{
 "cells": [
  {
   "cell_type": "markdown",
   "id": "540bd52c",
   "metadata": {},
   "source": [
    "#  대각 행렬\n",
    "\n",
    " ## 대각 행렬의 개념\n",
    " \n",
    " 대각 행렬은 행렬의 주 대각 원소가 아닌 원소가 0인 정사각 행렬이다.\n",
    " \n",
    " 헹렬 내에 행 번호와 열 번호가 동일한 원소를 주 대각 원소라고 부른다. 주 대각 원소를 제외한 다른 원소가 0일 때 행렬  $$ D $$ 를 대각 행렬이라고 한다.\n",
    " \n",
    " 주로 D 로 표현하는데, 이는 diagonal matrix 의 약자이다.\n",
    " \n",
    " 대각 행렬  D 의 역행렬은 대각 행렬 D^{-1}의 주 대각 원소들의 역수로 구성되어 있다.\n",
    " \n",
    " \n",
    " \n",
    " "
   ]
  },
  {
   "cell_type": "markdown",
   "id": "001e0ac0",
   "metadata": {},
   "source": [
    "## 대각 행렬의 성질\n"
   ]
  },
  {
   "cell_type": "markdown",
   "id": "94fdcb2f",
   "metadata": {},
   "source": [
    "## 대각 행렬 구하기"
   ]
  },
  {
   "cell_type": "markdown",
   "id": "969ee3bb",
   "metadata": {},
   "source": [
    "### 파이썬 구현"
   ]
  },
  {
   "cell_type": "code",
   "execution_count": 1,
   "id": "d5772849",
   "metadata": {},
   "outputs": [],
   "source": [
    "A = [[1, 2, 3], [4, 5, 6], [7, 8, 9]]\n",
    "\n",
    "# 이 행렬을 대각 행렬로 만드는, 즉 대각 원소를 제외한 나머지 원소를 0으로 바꾸는 것."
   ]
  },
  {
   "cell_type": "code",
   "execution_count": 2,
   "id": "e8baa412",
   "metadata": {},
   "outputs": [],
   "source": [
    "n = len(A)\n",
    "D = []\n",
    "\n",
    "for i in range(0, n):\n",
    "    row = []\n",
    "    for j in range(0, n):\n",
    "        if i == j:\n",
    "            row.append(A[i][j])\n",
    "        else:\n",
    "            row.append(0)\n",
    "    D.append(row)\n",
    "    "
   ]
  },
  {
   "cell_type": "code",
   "execution_count": 3,
   "id": "a5109bf7",
   "metadata": {},
   "outputs": [
    {
     "name": "stdout",
     "output_type": "stream",
     "text": [
      "[[1, 0, 0], [0, 5, 0], [0, 0, 9]]\n"
     ]
    }
   ],
   "source": [
    "print(D)"
   ]
  },
  {
   "cell_type": "markdown",
   "id": "f68f4af1",
   "metadata": {},
   "source": [
    "### 함수 만들기\n"
   ]
  },
  {
   "cell_type": "code",
   "execution_count": 4,
   "id": "f8177405",
   "metadata": {},
   "outputs": [],
   "source": [
    "def diag(A):\n",
    "    \"\"\"\n",
    "    행렬의 대각 행렬\n",
    "    입력값: 대각 행렬을 구하고자 하는 행렬  A\n",
    "    출력값: 행렬 A의 대각 행렬 D\n",
    "    \"\"\"\n",
    "    \n",
    "    n = len(A)\n",
    "    D = []\n",
    "\n",
    "    for i in range(0, n):\n",
    "        row = []\n",
    "        for j in range(0, n):\n",
    "            if i == j:\n",
    "                row.append(A[i][j])\n",
    "            else:\n",
    "                row.append(0)\n",
    "        D.append(row)\n",
    "        \n",
    "    return D"
   ]
  },
  {
   "cell_type": "code",
   "execution_count": 5,
   "id": "f9af8e65",
   "metadata": {},
   "outputs": [
    {
     "data": {
      "text/plain": [
       "[[1, 0, 0], [0, 5, 0], [0, 0, 9]]"
      ]
     },
     "execution_count": 5,
     "metadata": {},
     "output_type": "execute_result"
    }
   ],
   "source": [
    "A = [[1, 2, 3], [4, 5, 6], [7, 8, 9]]\n",
    "\n",
    "diag(A)"
   ]
  },
  {
   "cell_type": "markdown",
   "id": "93b5b1f9",
   "metadata": {},
   "source": [
    "### 넘파이 수행"
   ]
  },
  {
   "cell_type": "code",
   "execution_count": 6,
   "id": "dd3b9c00",
   "metadata": {},
   "outputs": [],
   "source": [
    "import numpy as np"
   ]
  },
  {
   "cell_type": "code",
   "execution_count": 7,
   "id": "ac46645f",
   "metadata": {},
   "outputs": [
    {
     "name": "stdout",
     "output_type": "stream",
     "text": [
      "[1 5 9]\n"
     ]
    }
   ],
   "source": [
    "A = np.array([[1, 2, 3], [4, 5, 6], [7, 8, 9]])\n",
    "D = np.diag(A)\n",
    "\n",
    "print(D)"
   ]
  },
  {
   "cell_type": "markdown",
   "id": "42be20ab",
   "metadata": {},
   "source": [
    "먼저 행렬을 diag 한 다음, 그 결과를 diag를 하면 된다."
   ]
  },
  {
   "cell_type": "code",
   "execution_count": 8,
   "id": "62dc0ad3",
   "metadata": {},
   "outputs": [
    {
     "data": {
      "text/plain": [
       "array([[1, 0, 0],\n",
       "       [0, 5, 0],\n",
       "       [0, 0, 9]])"
      ]
     },
     "execution_count": 8,
     "metadata": {},
     "output_type": "execute_result"
    }
   ],
   "source": [
    "np.diag(D)"
   ]
  },
  {
   "cell_type": "markdown",
   "id": "a7fcb657",
   "metadata": {},
   "source": [
    "## 대각 원소 구하기"
   ]
  },
  {
   "cell_type": "markdown",
   "id": "47d121fd",
   "metadata": {},
   "source": [
    "### 파이썬 함수로 구현"
   ]
  },
  {
   "cell_type": "code",
   "execution_count": 9,
   "id": "78128633",
   "metadata": {},
   "outputs": [],
   "source": [
    "A = [[1, 2, 3], [4, 5, 6], [7, 8, 9]]"
   ]
  },
  {
   "cell_type": "code",
   "execution_count": 12,
   "id": "a1f73570",
   "metadata": {},
   "outputs": [],
   "source": [
    "def diag_ele(A):\n",
    "    \"\"\"\n",
    "    행렬의 대각 원소 구하기\n",
    "    입력값: 대각 원소를 구하고자 하는 행렬  A\n",
    "    출력값: 행렬 A의 대각 원소 리스트 d\n",
    "    \"\"\"\n",
    "    \n",
    "    n = len(A)\n",
    "    d = []\n",
    "\n",
    "    for i in range(0, n):\n",
    "        d.append(A[i][i])\n",
    "        \n",
    "    return d"
   ]
  },
  {
   "cell_type": "code",
   "execution_count": 13,
   "id": "683c1040",
   "metadata": {},
   "outputs": [
    {
     "data": {
      "text/plain": [
       "[1, 5, 9]"
      ]
     },
     "execution_count": 13,
     "metadata": {},
     "output_type": "execute_result"
    }
   ],
   "source": [
    "A = [[1, 2, 3], [4, 5, 6], [7, 8, 9]]\n",
    "\n",
    "diag_ele(A)"
   ]
  },
  {
   "cell_type": "markdown",
   "id": "4d547de2",
   "metadata": {},
   "source": [
    "### 넘파이 수행"
   ]
  },
  {
   "cell_type": "code",
   "execution_count": 14,
   "id": "85e14e96",
   "metadata": {},
   "outputs": [
    {
     "name": "stdout",
     "output_type": "stream",
     "text": [
      "[1 5 9]\n"
     ]
    }
   ],
   "source": [
    "A = np.array([[1, 2, 3], [4, 5, 6], [7, 8, 9]])\n",
    "d = np.diag(A)\n",
    "\n",
    "print(d)"
   ]
  },
  {
   "cell_type": "code",
   "execution_count": null,
   "id": "9d15cd55",
   "metadata": {},
   "outputs": [],
   "source": []
  }
 ],
 "metadata": {
  "kernelspec": {
   "display_name": "Python 3",
   "language": "python",
   "name": "python3"
  },
  "language_info": {
   "codemirror_mode": {
    "name": "ipython",
    "version": 3
   },
   "file_extension": ".py",
   "mimetype": "text/x-python",
   "name": "python",
   "nbconvert_exporter": "python",
   "pygments_lexer": "ipython3",
   "version": "3.8.8"
  },
  "toc": {
   "base_numbering": 1,
   "nav_menu": {},
   "number_sections": true,
   "sideBar": true,
   "skip_h1_title": false,
   "title_cell": "Table of Contents",
   "title_sidebar": "Contents",
   "toc_cell": false,
   "toc_position": {},
   "toc_section_display": true,
   "toc_window_display": false
  }
 },
 "nbformat": 4,
 "nbformat_minor": 5
}

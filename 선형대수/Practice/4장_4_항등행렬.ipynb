 
{
 "cells": [
  {
   "cell_type": "markdown",
   "id": "540bd52c",
   "metadata": {},
   "source": [
    "#  항등 행렬\n",
    "\n",
    " ## 항등 행렬의 개념\n",
    " \n"
   ]
  },
  {
   "cell_type": "markdown",
   "id": "b6b00d46",
   "metadata": {},
   "source": [
    "## 항등 행렬의 성질\n"
   ]
  },
  {
   "cell_type": "markdown",
   "id": "6216dfba",
   "metadata": {},
   "source": [
    "## 항등 행렬 구하기"
   ]
  },
  {
   "cell_type": "markdown",
   "id": "eb16f0ba",
   "metadata": {},
   "source": [
    "### 파이썬 구현"
   ]
  },
  {
   "cell_type": "code",
   "execution_count": 1,
   "id": "702ceb2a",
   "metadata": {},
   "outputs": [],
   "source": []
  },
  {
   "cell_type": "code",
   "execution_count": 2,
   "id": "ce0557fe",
   "metadata": {},
   "outputs": [],
   "source": []
  },
  {
   "cell_type": "markdown",
   "id": "460b21b0",
   "metadata": {},
   "source": [
    "### 함수 만들기\n"
   ]
  },
  {
   "cell_type": "code",
   "execution_count": null,
   "id": "83a6b980",
   "metadata": {},
   "outputs": [],
   "source": []
  },
  {
   "cell_type": "markdown",
   "id": "590f851c",
   "metadata": {},
   "source": [
    "### 넘파이 수행"
   ]
  },
  {
   "cell_type": "code",
   "execution_count": 6,
   "id": "12cb5584",
   "metadata": {},
   "outputs": [],
   "source": [
    "import numpy as np"
   ]
  }
 ],
 "metadata": {
  "kernelspec": {
   "display_name": "Python 3",
   "language": "python",
   "name": "python3"
  },
  "language_info": {
   "codemirror_mode": {
    "name": "ipython",
    "version": 3
   },
   "file_extension": ".py",
   "mimetype": "text/x-python",
   "name": "python",
   "nbconvert_exporter": "python",
   "pygments_lexer": "ipython3",
   "version": "3.8.8"
  },
  "toc": {
   "base_numbering": 1,
   "nav_menu": {},
   "number_sections": true,
   "sideBar": true,
   "skip_h1_title": false,
   "title_cell": "Table of Contents",
   "title_sidebar": "Contents",
   "toc_cell": false,
   "toc_position": {},
   "toc_section_display": true,
   "toc_window_display": false
  }
 },
 "nbformat": 4,
 "nbformat_minor": 5
}

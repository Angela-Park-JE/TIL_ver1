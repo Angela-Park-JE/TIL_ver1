{
 "cells": [
  {
   "cell_type": "markdown",
   "id": "540bd52c",
   "metadata": {},
   "source": [
    "#  항등 행렬\n",
    "\n",
    " ## 항등 행렬(단위 행렬)의 개념\n",
    " \n",
    "단위 행렬(identity matrix) 는 주 대각 원소가 1 이고, 그 밖의 나머지 원소는 모두 0인 대각 행렬을 의미한다. 단위 행렬은 I 로 표기한다.\n",
    "\n",
    "항등 행렬이라고도 부른다.\n"
   ]
  },
  {
   "cell_type": "markdown",
   "id": "b6b00d46",
   "metadata": {},
   "source": [
    "## 항등 행렬의 성질\n",
    "\n",
    "항등 행렬은 곱 위치와 상관 없이 기존 행렬에 단위 행렬을 곱한 경과는 기존 행렬과 동일하다.\n",
    "\n",
    "$ AI = IA = A $\n",
    "\n",
    "계산의 편의성을 위해 행렬 A가 주어졌을 때 AI로 바꾸어 표현하기도 한다."
   ]
  },
  {
   "cell_type": "markdown",
   "id": "6216dfba",
   "metadata": {},
   "source": [
    "## 항등 행렬 구하기"
   ]
  },
  {
   "cell_type": "markdown",
   "id": "eb16f0ba",
   "metadata": {},
   "source": [
    "### 파이썬 함수 만들어 구현\n",
    "\n",
    "$ n \\times n $ 단위 행렬을 생성하는 함수를 구현한다."
   ]
  },
  {
   "cell_type": "code",
   "execution_count": 1,
   "id": "702ceb2a",
   "metadata": {},
   "outputs": [],
   "source": [
    "def identity(n):\n",
    "    \"\"\"\n",
    "    단위 행렬 생성\n",
    "    입력값: 단위 행렬의 크기 n\n",
    "    출력값: nxn 단위 행렬 I\n",
    "    \"\"\"\n",
    "    \n",
    "    I = []\n",
    "    \n",
    "    for i in range(0, n):\n",
    "        row = []\n",
    "        for j in range(0, n):\n",
    "            if i == j:\n",
    "                row.append(1)\n",
    "            else:\n",
    "                row.append(0)\n",
    "        I.append(row)\n",
    "    \n",
    "    return I"
   ]
  },
  {
   "cell_type": "code",
   "execution_count": 2,
   "id": "ce0557fe",
   "metadata": {},
   "outputs": [],
   "source": [
    "# 5x5 항등 행렬을 만든다."
   ]
  },
  {
   "cell_type": "code",
   "execution_count": 3,
   "id": "f8b76192",
   "metadata": {},
   "outputs": [
    {
     "data": {
      "text/plain": [
       "[[1, 0, 0, 0, 0],\n",
       " [0, 1, 0, 0, 0],\n",
       " [0, 0, 1, 0, 0],\n",
       " [0, 0, 0, 1, 0],\n",
       " [0, 0, 0, 0, 1]]"
      ]
     },
     "execution_count": 3,
     "metadata": {},
     "output_type": "execute_result"
    }
   ],
   "source": [
    "identity(5)"
   ]
  },
  {
   "cell_type": "markdown",
   "id": "3311efaf",
   "metadata": {},
   "source": [
    "### $  AI = IA = A $ ?"
   ]
  },
  {
   "cell_type": "code",
   "execution_count": 5,
   "id": "d45c9c0d",
   "metadata": {},
   "outputs": [],
   "source": [
    "A = [[0,1,2], [3,4,5], [6,7,8]]\n",
    "I3 = identity(3)"
   ]
  },
  {
   "cell_type": "code",
   "execution_count": 6,
   "id": "21f2e1dd",
   "metadata": {},
   "outputs": [
    {
     "ename": "NameError",
     "evalue": "name 'AI3' is not defined",
     "output_type": "error",
     "traceback": [
      "\u001b[0;31m---------------------------------------------------------------------------\u001b[0m",
      "\u001b[0;31mNameError\u001b[0m                                 Traceback (most recent call last)",
      "Input \u001b[0;32mIn [6]\u001b[0m, in \u001b[0;36m<cell line: 1>\u001b[0;34m()\u001b[0m\n\u001b[0;32m----> 1\u001b[0m \u001b[38;5;28mprint\u001b[39m(\u001b[43mAI3\u001b[49m)\n",
      "\u001b[0;31mNameError\u001b[0m: name 'AI3' is not defined"
     ]
    }
   ],
   "source": [
    "print(AI3)"
   ]
  },
  {
   "cell_type": "code",
   "execution_count": null,
   "id": "0bc749c1",
   "metadata": {},
   "outputs": [],
   "source": []
  },
  {
   "cell_type": "code",
   "execution_count": null,
   "id": "cc28fdcf",
   "metadata": {},
   "outputs": [],
   "source": []
  },
  {
   "cell_type": "markdown",
   "id": "460b21b0",
   "metadata": {},
   "source": [
    "### 함수 만들기\n"
   ]
  },
  {
   "cell_type": "code",
   "execution_count": null,
   "id": "83a6b980",
   "metadata": {},
   "outputs": [],
   "source": []
  },
  {
   "cell_type": "markdown",
   "id": "590f851c",
   "metadata": {},
   "source": [
    "### 넘파이 수행"
   ]
  },
  {
   "cell_type": "code",
   "execution_count": 6,
   "id": "12cb5584",
   "metadata": {},
   "outputs": [],
   "source": [
    "import numpy as np"
   ]
  }
 ],
 "metadata": {
  "kernelspec": {
   "display_name": "Python 3 (ipykernel)",
   "language": "python",
   "name": "python3"
  },
  "language_info": {
   "codemirror_mode": {
    "name": "ipython",
    "version": 3
   },
   "file_extension": ".py",
   "mimetype": "text/x-python",
   "name": "python",
   "nbconvert_exporter": "python",
   "pygments_lexer": "ipython3",
   "version": "3.8.5"
  },
  "toc": {
   "base_numbering": 1,
   "nav_menu": {},
   "number_sections": true,
   "sideBar": true,
   "skip_h1_title": false,
   "title_cell": "Table of Contents",
   "title_sidebar": "Contents",
   "toc_cell": false,
   "toc_position": {},
   "toc_section_display": true,
   "toc_window_display": false
  }
 },
 "nbformat": 4,
 "nbformat_minor": 5
}

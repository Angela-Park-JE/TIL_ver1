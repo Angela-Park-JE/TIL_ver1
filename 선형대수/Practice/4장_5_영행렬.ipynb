{
 "cells": [
  {
   "cell_type": "markdown",
   "id": "540bd52c",
   "metadata": {},
   "source": [
    "#  영 행렬\n",
    "\n",
    " ## 영 행렬의 개념\n",
    " \n",
    "행렬의 구성 원소가 모두 0일때, 해당 행렬을 영 행렬(zero matrix)라고 부른다.\n",
    "\n",
    "영행렬은 주로 $ 0 $ 으로 표현한다.\n"
   ]
  },
  {
   "cell_type": "markdown",
   "id": "b6b00d46",
   "metadata": {},
   "source": [
    "## 영 행렬의 성질\n",
    "\n",
    "영 행렬은 정사각 직사각에 상관이 없음.\n",
    "\n",
    "영 행렬의 구성 원소는 모두 0이므로 임의의 행렬에 영 행렬을 더하거나 뺸 결과는 기존 행렬과 동일하다. \n",
    "\n",
    "$ A + 0 = A, A - 0 = A $\n",
    "\n",
    "$ 0 - A = -A, A - A = 0 $\n",
    "\n",
    "기존 행렬에 영 행렬을 곱하면 결과는 영 행렬이 된다.\n",
    "\n",
    "$ 0A = 0, A0 = 0 $\n"
   ]
  },
  {
   "cell_type": "markdown",
   "id": "6216dfba",
   "metadata": {},
   "source": [
    "## 영 행렬 구하기"
   ]
  },
  {
   "cell_type": "markdown",
   "id": "eb16f0ba",
   "metadata": {},
   "source": [
    "### 파이썬 함수 만들어 구현\n",
    "\n"
   ]
  }
 ],
 "metadata": {
  "kernelspec": {
   "display_name": "Python 3 (ipykernel)",
   "language": "python",
   "name": "python3"
  },
  "language_info": {
   "codemirror_mode": {
    "name": "ipython",
    "version": 3
   },
   "file_extension": ".py",
   "mimetype": "text/x-python",
   "name": "python",
   "nbconvert_exporter": "python",
   "pygments_lexer": "ipython3",
   "version": "3.8.5"
  },
  "toc": {
   "base_numbering": 1,
   "nav_menu": {},
   "number_sections": true,
   "sideBar": true,
   "skip_h1_title": false,
   "title_cell": "Table of Contents",
   "title_sidebar": "Contents",
   "toc_cell": false,
   "toc_position": {},
   "toc_section_display": true,
   "toc_window_display": false
  }
 },
 "nbformat": 4,
 "nbformat_minor": 5
}

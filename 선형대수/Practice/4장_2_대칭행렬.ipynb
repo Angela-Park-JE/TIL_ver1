{
 "cells": [
  {
   "cell_type": "markdown",
   "id": "b71b95b2",
   "metadata": {},
   "source": [
    "# 대칭 행렬\n",
    "\n",
    "## 대칭 행렬의 개념\n",
    "\n",
    "대칭행렬(symmetric matrix)은 기존 행렬과 전치 행렬이 동일한 정사각 행렬을 의미한다.\n",
    "\n",
    "행렬 A가 다음을 만족하면 대칭 행렬이라고 할 수 있다.\n",
    "\n",
    "$ A = A^T $ 즉, $ A_{ij} = A_{ji} $\n",
    "\n",
    "대칭 행렬은 기존 행렬의 전치 행렬을 구해도 기존 행렬과 동일한 것을 의미한다.\n",
    "\n",
    "우선 전치 행렬과 같다는 말은 i = j 라는 말이다. 행렬의 행의 크기와 열의 크기가 같을 것.\n",
    "\n",
    "성질: 유한 차원 벡터 공간의 대칭 쌍선형 형식은 대칭 행렬의 개념과 일치한다. *(출처: https://ko.wikipedia.org/wiki/%EB%8C%80%EC%B9%AD%ED%96%89%EB%A0%AC)*\n",
    "\n"
   ]
  },
  {
   "cell_type": "markdown",
   "id": "e07b41b2",
   "metadata": {},
   "source": [
    "## 대칭 행렬의 성질\n",
    "\n",
    "1. 대칭 행렬 간의 덧셈이나 뺼셈 또한 대칭 행렬이다.\n",
    "\n",
    "2. 대칭 행렬끼리 곱한 결과는 대칭 행렬이 아니다. \n",
    "\n",
    "3. 행렬 $ A $ 가 대칭 행렬일 때 대칭 행렬 A의 거듭 제곱 형태인 $ A^n $ 또한 대칭 행렬이다.\n",
    "\n",
    "4. 행렬 $ A $ 가 대칭 행렬이 아니더라도, $ A A^T $ 와 $ A^T A $ 는 대칭 행렬이다. (중요)"
   ]
  },
  {
   "cell_type": "markdown",
   "id": "d8b9f168",
   "metadata": {},
   "source": [
    "## 파이썬 실습\n",
    "\n",
    "대칭 행렬의 성질을 확인할 것인데, 여기에는 전치 행렬을 만드는 함수와 행렬 곱을 수행하는 함수가 필요하다."
   ]
  },
  {
   "cell_type": "code",
   "execution_count": 1,
   "id": "a7d02d84",
   "metadata": {},
   "outputs": [],
   "source": [
    "# 행렬의 전치 행렬\n",
    "\n",
    "def transpose(A):\n",
    "    \"\"\"\n",
    "    행렬의 전치 행렬\n",
    "    입력값: 전치 행렬을 구하고자 하는 행렬 A\n",
    "    출력값: 행렬 A의 전치 행렬 At\n",
    "    \"\"\"\n",
    "    \n",
    "    n = len(A)\n",
    "    p = len(A[0])\n",
    "    \n",
    "    At = []\n",
    "    for i in range(0, p):\n",
    "        row = []\n",
    "        for j in range(0, n):\n",
    "            val = A[j][i]\n",
    "            row.append(val)\n",
    "        At.append(row)\n",
    "    \n",
    "    return At\n"
   ]
  },
  {
   "cell_type": "code",
   "execution_count": 2,
   "id": "8aeab2f3",
   "metadata": {},
   "outputs": [],
   "source": [
    "# 행렬 A 와 B의 행렬 곱\n",
    "\n",
    "def matmul(A, B):\n",
    "    \"\"\"\n",
    "    행렬의 행렬 곱\n",
    "    입력값: 행렬 곱을 수행할 행렬 A, B\n",
    "    출력값: 행렬 A와 B의 행렬 곱 결과인 행렬 res\n",
    "    \"\"\"\n",
    "    \n",
    "    n = len(A)\n",
    "    p1 = len(A[0])\n",
    "    p2 = len(B[0])\n",
    "\n",
    "    res = []\n",
    "    for i in range(0, n):\n",
    "        row = []\n",
    "        for j in range(0, p2):\n",
    "            val = 0\n",
    "            for k in range(0, p1):\n",
    "                val += A[i][k] * B[k][j]\n",
    "            row.append(val)\n",
    "        res.append(row)\n",
    "    \n",
    "    return res\n"
   ]
  },
  {
   "cell_type": "markdown",
   "id": "f883b956",
   "metadata": {},
   "source": [
    "### 실험 1. 대칭 행렬 $ A $의 전치 행렬 $ A^T $ 는 기존 $ A $와 동일한가?"
   ]
  },
  {
   "cell_type": "code",
   "execution_count": 3,
   "id": "e34944b1",
   "metadata": {},
   "outputs": [],
   "source": [
    "A = [[1, 0, 2], [0, 2, 1], [2, 1, 1]]"
   ]
  },
  {
   "cell_type": "code",
   "execution_count": 4,
   "id": "6f9e19a6",
   "metadata": {},
   "outputs": [
    {
     "name": "stdout",
     "output_type": "stream",
     "text": [
      "[[1, 0, 2], [0, 2, 1], [2, 1, 1]]\n"
     ]
    }
   ],
   "source": [
    "At = transpose(A)\n",
    "print(At)"
   ]
  },
  {
   "cell_type": "code",
   "execution_count": 5,
   "id": "ffeed548",
   "metadata": {},
   "outputs": [
    {
     "data": {
      "text/plain": [
       "True"
      ]
     },
     "execution_count": 5,
     "metadata": {},
     "output_type": "execute_result"
    }
   ],
   "source": [
    "A == At "
   ]
  },
  {
   "cell_type": "markdown",
   "id": "45d7a43d",
   "metadata": {},
   "source": [
    "### 실험2. 대칭 행렬 $ A $ 의 거듭 제곱도 대칭 행렬인가?"
   ]
  },
  {
   "cell_type": "code",
   "execution_count": 6,
   "id": "5ca43a3b",
   "metadata": {},
   "outputs": [
    {
     "name": "stdout",
     "output_type": "stream",
     "text": [
      "행렬 A의 2 제곱은 [[5, 2, 4], [2, 5, 3], [4, 3, 6]]\n",
      "행렬 A의 3 제곱은 [[13, 8, 16], [8, 13, 12], [16, 12, 17]]\n",
      "행렬 A의 4 제곱은 [[45, 32, 50], [32, 38, 41], [50, 41, 61]]\n",
      "행렬 A의 5 제곱은 [[145, 114, 172], [114, 117, 143], [172, 143, 202]]\n",
      "행렬 A의 6 제곱은 [[489, 400, 576], [400, 377, 488], [576, 488, 689]]\n",
      "행렬 A의 7 제곱은 [[1641, 1376, 1954], [1376, 1242, 1665], [1954, 1665, 2329]]\n",
      "행렬 A의 8 제곱은 [[5549, 4706, 6612], [4706, 4149, 5659], [6612, 5659, 7902]]\n",
      "행렬 A의 9 제곱은 [[18773, 16024, 22416], [16024, 13957, 19220], [22416, 19220, 26785]]\n",
      "행렬 A의 10 제곱은 [[63605, 54464, 75986], [54464, 47134, 65225], [75986, 65225, 90837]]\n"
     ]
    }
   ],
   "source": [
    "AA = A\n",
    "\n",
    "for i in range(0, 9):\n",
    "    AA = matmul(AA, A)\n",
    "    print('행렬 A의', i + 2, '제곱은', AA)"
   ]
  },
  {
   "cell_type": "markdown",
   "id": "81308ed9",
   "metadata": {},
   "source": [
    "10 제곱 까지 살펴본 결과 모두 대칭 행렬이다."
   ]
  },
  {
   "cell_type": "markdown",
   "id": "2864674d",
   "metadata": {},
   "source": [
    "### 실험3. 행렬 $A$와 그의 전치 행렬 $A^T$의 곱이 대칭 행렬인가?"
   ]
  },
  {
   "cell_type": "code",
   "execution_count": 13,
   "id": "0955fa5f",
   "metadata": {},
   "outputs": [
    {
     "name": "stdout",
     "output_type": "stream",
     "text": [
      "[[1, 0, 3], [2, 1, 4], [5, 1, 0]] || [[1, 2, 5], [0, 1, 1], [3, 4, 0]]\n"
     ]
    }
   ],
   "source": [
    "# 대칭행렬이 아닌 A 와 A^T\n",
    "\n",
    "A = [[1, 0, 3], [2, 1, 4], [5, 1, 0]]\n",
    "At = transpose(A)\n",
    "print(A,'||',  At)"
   ]
  },
  {
   "cell_type": "code",
   "execution_count": 14,
   "id": "76641e96",
   "metadata": {},
   "outputs": [
    {
     "data": {
      "text/plain": [
       "[[10, 14, 5], [14, 21, 11], [5, 11, 26]]"
      ]
     },
     "execution_count": 14,
     "metadata": {},
     "output_type": "execute_result"
    }
   ],
   "source": [
    "# 둘의 곱 A * A^T\n",
    "\n",
    "matmul(A, At)"
   ]
  },
  {
   "cell_type": "code",
   "execution_count": 15,
   "id": "026c88bd",
   "metadata": {},
   "outputs": [
    {
     "data": {
      "text/plain": [
       "[[30, 7, 11], [7, 2, 4], [11, 4, 25]]"
      ]
     },
     "execution_count": 15,
     "metadata": {},
     "output_type": "execute_result"
    }
   ],
   "source": [
    "# 둘의 곱 A^T * A\n",
    "\n",
    "matmul(At, A)"
   ]
  },
  {
   "cell_type": "markdown",
   "id": "e059d60c",
   "metadata": {},
   "source": [
    "대칭행렬이 나왔다."
   ]
  },
  {
   "cell_type": "markdown",
   "id": "09eeda2e",
   "metadata": {},
   "source": [
    "## 넘파이 실습"
   ]
  },
  {
   "cell_type": "code",
   "execution_count": 16,
   "id": "f4607e6d",
   "metadata": {},
   "outputs": [],
   "source": [
    "import numpy as np"
   ]
  },
  {
   "cell_type": "markdown",
   "id": "f67e61c2",
   "metadata": {},
   "source": [
    "### 실험 1. 대칭 행렬 $ A $의 전치 행렬 $ A^T $ 는 $ A $와 동일한가?"
   ]
  },
  {
   "cell_type": "code",
   "execution_count": 17,
   "id": "6634fc70",
   "metadata": {},
   "outputs": [
    {
     "name": "stdout",
     "output_type": "stream",
     "text": [
      "[[1 0 2]\n",
      " [0 2 1]\n",
      " [2 1 1]]\n"
     ]
    }
   ],
   "source": [
    "A = np.array([[1, 0, 2], [0, 2, 1], [2, 1, 1]])\n",
    "print(A)"
   ]
  },
  {
   "cell_type": "code",
   "execution_count": 19,
   "id": "e2cddbe4",
   "metadata": {},
   "outputs": [
    {
     "name": "stdout",
     "output_type": "stream",
     "text": [
      "[[1 0 2]\n",
      " [0 2 1]\n",
      " [2 1 1]]\n"
     ]
    }
   ],
   "source": [
    "At = np.transpose(A)\n",
    "print(At)"
   ]
  },
  {
   "cell_type": "code",
   "execution_count": 20,
   "id": "0e053ce0",
   "metadata": {},
   "outputs": [
    {
     "data": {
      "text/plain": [
       "array([[ True,  True,  True],\n",
       "       [ True,  True,  True],\n",
       "       [ True,  True,  True]])"
      ]
     },
     "execution_count": 20,
     "metadata": {},
     "output_type": "execute_result"
    }
   ],
   "source": [
    "A == At"
   ]
  },
  {
   "cell_type": "markdown",
   "id": "79073576",
   "metadata": {},
   "source": [
    "### 실험 2. 대칭 행렬 A의 거듭 제곱도 대칭 행렬인가?"
   ]
  },
  {
   "cell_type": "code",
   "execution_count": 21,
   "id": "1e46ce98",
   "metadata": {},
   "outputs": [
    {
     "name": "stdout",
     "output_type": "stream",
     "text": [
      "행렬 A의 2 제곱은\n",
      "[[5 2 4]\n",
      " [2 5 3]\n",
      " [4 3 6]]\n",
      "--------------------\n",
      "행렬 A의 3 제곱은\n",
      "[[13  8 16]\n",
      " [ 8 13 12]\n",
      " [16 12 17]]\n",
      "--------------------\n",
      "행렬 A의 4 제곱은\n",
      "[[45 32 50]\n",
      " [32 38 41]\n",
      " [50 41 61]]\n",
      "--------------------\n",
      "행렬 A의 5 제곱은\n",
      "[[145 114 172]\n",
      " [114 117 143]\n",
      " [172 143 202]]\n",
      "--------------------\n",
      "행렬 A의 6 제곱은\n",
      "[[489 400 576]\n",
      " [400 377 488]\n",
      " [576 488 689]]\n",
      "--------------------\n",
      "행렬 A의 7 제곱은\n",
      "[[1641 1376 1954]\n",
      " [1376 1242 1665]\n",
      " [1954 1665 2329]]\n",
      "--------------------\n",
      "행렬 A의 8 제곱은\n",
      "[[5549 4706 6612]\n",
      " [4706 4149 5659]\n",
      " [6612 5659 7902]]\n",
      "--------------------\n",
      "행렬 A의 9 제곱은\n",
      "[[18773 16024 22416]\n",
      " [16024 13957 19220]\n",
      " [22416 19220 26785]]\n",
      "--------------------\n",
      "행렬 A의 10 제곱은\n",
      "[[63605 54464 75986]\n",
      " [54464 47134 65225]\n",
      " [75986 65225 90837]]\n",
      "--------------------\n"
     ]
    }
   ],
   "source": [
    "AA = A\n",
    "for i in range(0, 9):\n",
    "    AA = np.matmul(AA, A)\n",
    "    print('행렬 A의', i+2, '제곱은')\n",
    "    print(AA)\n",
    "    print('--------------------')"
   ]
  },
  {
   "cell_type": "markdown",
   "id": "be605a30",
   "metadata": {},
   "source": [
    "### 실험3. 행렬 $A$와 그의 전치 행렬 $A^T$의 곱이 대칭 행렬인가?"
   ]
  },
  {
   "cell_type": "code",
   "execution_count": null,
   "id": "a5fd6675",
   "metadata": {},
   "outputs": [],
   "source": []
  }
 ],
 "metadata": {
  "kernelspec": {
   "display_name": "Python 3 (ipykernel)",
   "language": "python",
   "name": "python3"
  },
  "language_info": {
   "codemirror_mode": {
    "name": "ipython",
    "version": 3
   },
   "file_extension": ".py",
   "mimetype": "text/x-python",
   "name": "python",
   "nbconvert_exporter": "python",
   "pygments_lexer": "ipython3",
   "version": "3.8.5"
  },
  "toc": {
   "base_numbering": 1,
   "nav_menu": {},
   "number_sections": true,
   "sideBar": true,
   "skip_h1_title": false,
   "title_cell": "Table of Contents",
   "title_sidebar": "Contents",
   "toc_cell": false,
   "toc_position": {},
   "toc_section_display": true,
   "toc_window_display": false
  }
 },
 "nbformat": 4,
 "nbformat_minor": 5
}

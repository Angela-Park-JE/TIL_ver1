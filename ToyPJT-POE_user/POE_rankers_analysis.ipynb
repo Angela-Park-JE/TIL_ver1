{
 "cells": [
  {
   "cell_type": "markdown",
   "id": "910e7ffb",
   "metadata": {},
   "source": [
    "# POE user analyzing project\n",
    "###### **Data reference and questions are here: https://www.kaggle.com/datasets/gagazet/path-of-exile-league-statistic**\n",
    "\n",
    "---\n",
    "\n",
    "Hi, I'm Angela. 😊 I'm a junior in data analysis. I'm interested in the multi-player games and culture, contents industry. I hope to become a data scientist with anomaly detection and anti-cheating. I hope that my analysis will have a positive impact on the world at least a little bit.\n",
    "\n",
    "---\n",
    "\n",
    "I played(?) with this data almost a month or more. Finally, I can close the analysis joyfully.\n",
    "\n",
    "\n",
    "\n",
    "**Questions for participants**\n",
    "\n",
    "    A total number of players in each division, usage of each class in descending order.\n",
    "    Some of the players streaming their game (twitch colum). Do they play better than people, who does not?\n",
    "    Predict chance to be at top 30 in each division, if we are Necromancer. With and without stream.\n",
    "    Average number of finished challanges for each division, show division with highest and lowest average challanges.\n",
    "    Show dependency between level and class of died characters. Only for HC divisions."
   ]
  },
  {
   "cell_type": "code",
   "execution_count": null,
   "id": "09e749fa",
   "metadata": {},
   "outputs": [],
   "source": []
  }
 ],
 "metadata": {
  "kernelspec": {
   "display_name": "Python 3 (ipykernel)",
   "language": "python",
   "name": "python3"
  },
  "language_info": {
   "codemirror_mode": {
    "name": "ipython",
    "version": 3
   },
   "file_extension": ".py",
   "mimetype": "text/x-python",
   "name": "python",
   "nbconvert_exporter": "python",
   "pygments_lexer": "ipython3",
   "version": "3.8.5"
  },
  "toc": {
   "base_numbering": 1,
   "nav_menu": {},
   "number_sections": true,
   "sideBar": true,
   "skip_h1_title": false,
   "title_cell": "Table of Contents",
   "title_sidebar": "Contents",
   "toc_cell": false,
   "toc_position": {},
   "toc_section_display": true,
   "toc_window_display": false
  }
 },
 "nbformat": 4,
 "nbformat_minor": 5
}

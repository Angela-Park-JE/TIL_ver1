{
 "cells": [
  {
   "cell_type": "markdown",
   "id": "f618f4ba",
   "metadata": {},
   "source": [
    "# POE user analyzing project\n",
    "###### **Data reference and questions are here: https://www.kaggle.com/datasets/gagazet/path-of-exile-league-statistic**\n",
    "\n",
    "---\n",
    "Hi, I'm Angela. 😊 I'm a novice in data analysis.  I'm a novice in data analysis. I'm interested in the video games, mobility, culture, and content industry. I hope to become a data scientist with anomaly detection and anti-cheating. I hope that my analysis will have a positive impact on the world at least a little bit.  \n",
    "\n",
    "This is my first Kaggle-data analyzing project on my own. I played(?) with this data for almost a month or more freely, and I finish it to start to answer these questions partially. Finally, I can close the analysis joyfully.\n",
    "I analyzed this data set with my thoughts and what I learned (as if I were a game analyst 😆).  \n",
    "_ps. English may seem a little awkward because it is not my first language. I'm sorry. And I used the word 'average' more than the word 'mean' because I wanted to communicate more clearly in my hectic writing. 'mean' is so mean to 'average', 'mean' means 'mean' and... just joking._ 🤪\n",
    "\n",
    "---\n",
    "##### **Questions for participants**\n",
    "\n",
    "1. A total number of players in each division, usage of each class in descending order.\n",
    "2. Some of the players streaming their game (twitch column). Do they play better than people, who does not?\n",
    "3. Predict chance to be at top 30 in each division, if we are Necromancer. With and without stream.\n",
    "4. Average number of finished challanges for each division, show division with highest and lowest average challanges.\n",
    "5. Show dependency between level and class of died characters. Only for HC divisions.\n"
   ]
  },
  {
   "cell_type": "markdown",
   "id": "3d9e85c0",
   "metadata": {},
   "source": [
    "## Importin Data and Libraries\n",
    "---"
   ]
  },
  {
   "cell_type": "code",
   "execution_count": 1,
   "id": "df97704a",
   "metadata": {},
   "outputs": [
    {
     "name": "stdout",
     "output_type": "stream",
     "text": [
      "0.11.2\n",
      "1.4.1\n",
      "1.22.4\n",
      "2.9.1\n",
      "2.9.0\n"
     ]
    }
   ],
   "source": [
    "import pandas as pd\n",
    "import numpy as np\n",
    "\n",
    "import time as time\n",
    "import matplotlib.pyplot as plt\n",
    "import seaborn as sns\n",
    "\n",
    "import tensorflow as tf\n",
    "import keras\n",
    "\n",
    "np.random.seed(0)\n",
    "tf.random.set_seed(0)\n",
    "\n",
    "# version check\n",
    "print(sns.__version__)\n",
    "print(pd.__version__)\n",
    "print(np.__version__)\n",
    "print(tf.__version__)\n",
    "print(keras.__version__)\n",
    "\n",
    "data = pd.read_csv(\"poe_stats.csv\")"
   ]
  },
  {
   "cell_type": "code",
   "execution_count": 2,
   "id": "fec8b198",
   "metadata": {},
   "outputs": [
    {
     "data": {
      "text/html": [
       "<div>\n",
       "<style scoped>\n",
       "    .dataframe tbody tr th:only-of-type {\n",
       "        vertical-align: middle;\n",
       "    }\n",
       "\n",
       "    .dataframe tbody tr th {\n",
       "        vertical-align: top;\n",
       "    }\n",
       "\n",
       "    .dataframe thead th {\n",
       "        text-align: right;\n",
       "    }\n",
       "</style>\n",
       "<table border=\"1\" class=\"dataframe\">\n",
       "  <thead>\n",
       "    <tr style=\"text-align: right;\">\n",
       "      <th></th>\n",
       "      <th>rank</th>\n",
       "      <th>dead</th>\n",
       "      <th>online</th>\n",
       "      <th>name</th>\n",
       "      <th>level</th>\n",
       "      <th>class</th>\n",
       "      <th>id</th>\n",
       "      <th>experience</th>\n",
       "      <th>account</th>\n",
       "      <th>challenges</th>\n",
       "      <th>twitch</th>\n",
       "      <th>ladder</th>\n",
       "    </tr>\n",
       "  </thead>\n",
       "  <tbody>\n",
       "    <tr>\n",
       "      <th>0</th>\n",
       "      <td>1</td>\n",
       "      <td>False</td>\n",
       "      <td>False</td>\n",
       "      <td>Tzn_NecroIsFineNow</td>\n",
       "      <td>100</td>\n",
       "      <td>Necromancer</td>\n",
       "      <td>3dcddd59f5088893f734f39686350990dae168cc4f4b00...</td>\n",
       "      <td>4250334444</td>\n",
       "      <td>TheTzn</td>\n",
       "      <td>40</td>\n",
       "      <td>thetzn</td>\n",
       "      <td>Harbinger</td>\n",
       "    </tr>\n",
       "    <tr>\n",
       "      <th>1</th>\n",
       "      <td>1</td>\n",
       "      <td>False</td>\n",
       "      <td>False</td>\n",
       "      <td>RaizNeverFirstQT</td>\n",
       "      <td>100</td>\n",
       "      <td>Necromancer</td>\n",
       "      <td>8f3216db5ac9106c287a834731aafc83c387138f28fc45...</td>\n",
       "      <td>4250334444</td>\n",
       "      <td>RaizQT</td>\n",
       "      <td>22</td>\n",
       "      <td>raizqt</td>\n",
       "      <td>SSF Harbinger HC</td>\n",
       "    </tr>\n",
       "    <tr>\n",
       "      <th>2</th>\n",
       "      <td>1</td>\n",
       "      <td>False</td>\n",
       "      <td>False</td>\n",
       "      <td>GucciStreamerAdvantage</td>\n",
       "      <td>100</td>\n",
       "      <td>Necromancer</td>\n",
       "      <td>c6ec2dae3855c551e0597c06ef2da06fbb5512487ded7f...</td>\n",
       "      <td>4250334444</td>\n",
       "      <td>GucciPradas</td>\n",
       "      <td>35</td>\n",
       "      <td>guccipradas</td>\n",
       "      <td>Hardcore Harbinger</td>\n",
       "    </tr>\n",
       "    <tr>\n",
       "      <th>3</th>\n",
       "      <td>1</td>\n",
       "      <td>False</td>\n",
       "      <td>False</td>\n",
       "      <td>ChiroxPrime</td>\n",
       "      <td>100</td>\n",
       "      <td>Slayer</td>\n",
       "      <td>c861372da792be0b22c45bf437ccd58437c52e9455e0bf...</td>\n",
       "      <td>4250334444</td>\n",
       "      <td>Chiroxun</td>\n",
       "      <td>26</td>\n",
       "      <td>NaN</td>\n",
       "      <td>SSF Harbinger</td>\n",
       "    </tr>\n",
       "    <tr>\n",
       "      <th>4</th>\n",
       "      <td>2</td>\n",
       "      <td>False</td>\n",
       "      <td>False</td>\n",
       "      <td>Cool_NecroIsFineNow</td>\n",
       "      <td>100</td>\n",
       "      <td>Deadeye</td>\n",
       "      <td>24ae924ceed7989ef3d3d6772612832bb467a6094352c7...</td>\n",
       "      <td>4250334444</td>\n",
       "      <td>cooltail</td>\n",
       "      <td>22</td>\n",
       "      <td>NaN</td>\n",
       "      <td>Harbinger</td>\n",
       "    </tr>\n",
       "    <tr>\n",
       "      <th>5</th>\n",
       "      <td>2</td>\n",
       "      <td>False</td>\n",
       "      <td>False</td>\n",
       "      <td>SteelStreamerAdvantage</td>\n",
       "      <td>100</td>\n",
       "      <td>Deadeye</td>\n",
       "      <td>51acb8e6fac3cfaa7ff848151dad01b0a6f350e7525543...</td>\n",
       "      <td>4250334444</td>\n",
       "      <td>Steelmage</td>\n",
       "      <td>37</td>\n",
       "      <td>steelmage202</td>\n",
       "      <td>Hardcore Harbinger</td>\n",
       "    </tr>\n",
       "    <tr>\n",
       "      <th>6</th>\n",
       "      <td>2</td>\n",
       "      <td>False</td>\n",
       "      <td>False</td>\n",
       "      <td>Grom_WhyGodThreeCmWhy</td>\n",
       "      <td>100</td>\n",
       "      <td>Gladiator</td>\n",
       "      <td>5d8b80b2bdd30f3dba1036a6791187562758935e8d4723...</td>\n",
       "      <td>4250334444</td>\n",
       "      <td>rocklegend</td>\n",
       "      <td>22</td>\n",
       "      <td>gromick</td>\n",
       "      <td>SSF Harbinger HC</td>\n",
       "    </tr>\n",
       "    <tr>\n",
       "      <th>7</th>\n",
       "      <td>2</td>\n",
       "      <td>False</td>\n",
       "      <td>False</td>\n",
       "      <td>beobio_capitan</td>\n",
       "      <td>100</td>\n",
       "      <td>Inquisitor</td>\n",
       "      <td>65c58f9b186e1fbe9f927484f3f178cdb9ee0dc2427289...</td>\n",
       "      <td>4250334444</td>\n",
       "      <td>TishaVosemsot</td>\n",
       "      <td>40</td>\n",
       "      <td>beobio</td>\n",
       "      <td>SSF Harbinger</td>\n",
       "    </tr>\n",
       "    <tr>\n",
       "      <th>8</th>\n",
       "      <td>3</td>\n",
       "      <td>False</td>\n",
       "      <td>False</td>\n",
       "      <td>Rami_The_Negromaniac</td>\n",
       "      <td>100</td>\n",
       "      <td>Necromancer</td>\n",
       "      <td>00c0030fc548cc4c0d804564f8fb356610044b7e6d484f...</td>\n",
       "      <td>4250334444</td>\n",
       "      <td>rami1337</td>\n",
       "      <td>40</td>\n",
       "      <td>rami1337</td>\n",
       "      <td>Harbinger</td>\n",
       "    </tr>\n",
       "    <tr>\n",
       "      <th>9</th>\n",
       "      <td>3</td>\n",
       "      <td>False</td>\n",
       "      <td>False</td>\n",
       "      <td>FutonBlewAway</td>\n",
       "      <td>100</td>\n",
       "      <td>Raider</td>\n",
       "      <td>46e56572ff6e403f45fac597240e13e9af225f06ca4e52...</td>\n",
       "      <td>4250334444</td>\n",
       "      <td>pleaGRC</td>\n",
       "      <td>40</td>\n",
       "      <td>NaN</td>\n",
       "      <td>SSF Harbinger</td>\n",
       "    </tr>\n",
       "  </tbody>\n",
       "</table>\n",
       "</div>"
      ],
      "text/plain": [
       "   rank   dead  online                    name  level        class  \\\n",
       "0     1  False   False      Tzn_NecroIsFineNow    100  Necromancer   \n",
       "1     1  False   False        RaizNeverFirstQT    100  Necromancer   \n",
       "2     1  False   False  GucciStreamerAdvantage    100  Necromancer   \n",
       "3     1  False   False             ChiroxPrime    100       Slayer   \n",
       "4     2  False   False     Cool_NecroIsFineNow    100      Deadeye   \n",
       "5     2  False   False  SteelStreamerAdvantage    100      Deadeye   \n",
       "6     2  False   False   Grom_WhyGodThreeCmWhy    100    Gladiator   \n",
       "7     2  False   False          beobio_capitan    100   Inquisitor   \n",
       "8     3  False   False    Rami_The_Negromaniac    100  Necromancer   \n",
       "9     3  False   False           FutonBlewAway    100       Raider   \n",
       "\n",
       "                                                  id  experience  \\\n",
       "0  3dcddd59f5088893f734f39686350990dae168cc4f4b00...  4250334444   \n",
       "1  8f3216db5ac9106c287a834731aafc83c387138f28fc45...  4250334444   \n",
       "2  c6ec2dae3855c551e0597c06ef2da06fbb5512487ded7f...  4250334444   \n",
       "3  c861372da792be0b22c45bf437ccd58437c52e9455e0bf...  4250334444   \n",
       "4  24ae924ceed7989ef3d3d6772612832bb467a6094352c7...  4250334444   \n",
       "5  51acb8e6fac3cfaa7ff848151dad01b0a6f350e7525543...  4250334444   \n",
       "6  5d8b80b2bdd30f3dba1036a6791187562758935e8d4723...  4250334444   \n",
       "7  65c58f9b186e1fbe9f927484f3f178cdb9ee0dc2427289...  4250334444   \n",
       "8  00c0030fc548cc4c0d804564f8fb356610044b7e6d484f...  4250334444   \n",
       "9  46e56572ff6e403f45fac597240e13e9af225f06ca4e52...  4250334444   \n",
       "\n",
       "         account  challenges        twitch              ladder  \n",
       "0         TheTzn          40        thetzn           Harbinger  \n",
       "1         RaizQT          22        raizqt    SSF Harbinger HC  \n",
       "2    GucciPradas          35   guccipradas  Hardcore Harbinger  \n",
       "3       Chiroxun          26           NaN       SSF Harbinger  \n",
       "4       cooltail          22           NaN           Harbinger  \n",
       "5      Steelmage          37  steelmage202  Hardcore Harbinger  \n",
       "6     rocklegend          22       gromick    SSF Harbinger HC  \n",
       "7  TishaVosemsot          40        beobio       SSF Harbinger  \n",
       "8       rami1337          40      rami1337           Harbinger  \n",
       "9        pleaGRC          40           NaN       SSF Harbinger  "
      ]
     },
     "execution_count": 2,
     "metadata": {},
     "output_type": "execute_result"
    }
   ],
   "source": [
    "df = data\n",
    "df.head(10)"
   ]
  },
  {
   "cell_type": "markdown",
   "id": "a7434e74",
   "metadata": {},
   "source": [
    "## Data summary"
   ]
  },
  {
   "cell_type": "code",
   "execution_count": 3,
   "id": "dc4a2c6c",
   "metadata": {},
   "outputs": [
    {
     "data": {
      "text/html": [
       "<div>\n",
       "<style scoped>\n",
       "    .dataframe tbody tr th:only-of-type {\n",
       "        vertical-align: middle;\n",
       "    }\n",
       "\n",
       "    .dataframe tbody tr th {\n",
       "        vertical-align: top;\n",
       "    }\n",
       "\n",
       "    .dataframe thead th {\n",
       "        text-align: right;\n",
       "    }\n",
       "</style>\n",
       "<table border=\"1\" class=\"dataframe\">\n",
       "  <thead>\n",
       "    <tr style=\"text-align: right;\">\n",
       "      <th></th>\n",
       "      <th>rank</th>\n",
       "      <th>level</th>\n",
       "      <th>experience</th>\n",
       "      <th>challenges</th>\n",
       "    </tr>\n",
       "  </thead>\n",
       "  <tbody>\n",
       "    <tr>\n",
       "      <th>count</th>\n",
       "      <td>59,776.00</td>\n",
       "      <td>59,776.00</td>\n",
       "      <td>59,776.00</td>\n",
       "      <td>59,776.00</td>\n",
       "    </tr>\n",
       "    <tr>\n",
       "      <th>mean</th>\n",
       "      <td>7,495.37</td>\n",
       "      <td>85.42</td>\n",
       "      <td>1,825,786,027.36</td>\n",
       "      <td>25.76</td>\n",
       "    </tr>\n",
       "    <tr>\n",
       "      <th>std</th>\n",
       "      <td>4,330.18</td>\n",
       "      <td>11.29</td>\n",
       "      <td>1,094,747,934.61</td>\n",
       "      <td>8.44</td>\n",
       "    </tr>\n",
       "    <tr>\n",
       "      <th>min</th>\n",
       "      <td>1.00</td>\n",
       "      <td>53.00</td>\n",
       "      <td>77,909,816.00</td>\n",
       "      <td>4.00</td>\n",
       "    </tr>\n",
       "    <tr>\n",
       "      <th>25%</th>\n",
       "      <td>3,745.00</td>\n",
       "      <td>78.00</td>\n",
       "      <td>777,469,746.25</td>\n",
       "      <td>19.00</td>\n",
       "    </tr>\n",
       "    <tr>\n",
       "      <th>50%</th>\n",
       "      <td>7,492.00</td>\n",
       "      <td>90.00</td>\n",
       "      <td>1,934,009,687.00</td>\n",
       "      <td>25.00</td>\n",
       "    </tr>\n",
       "    <tr>\n",
       "      <th>75%</th>\n",
       "      <td>11,247.00</td>\n",
       "      <td>95.00</td>\n",
       "      <td>2,876,116,901.00</td>\n",
       "      <td>33.00</td>\n",
       "    </tr>\n",
       "    <tr>\n",
       "      <th>max</th>\n",
       "      <td>15,000.00</td>\n",
       "      <td>100.00</td>\n",
       "      <td>4,250,334,444.00</td>\n",
       "      <td>40.00</td>\n",
       "    </tr>\n",
       "  </tbody>\n",
       "</table>\n",
       "</div>"
      ],
      "text/plain": [
       "           rank     level       experience  challenges\n",
       "count 59,776.00 59,776.00        59,776.00   59,776.00\n",
       "mean   7,495.37     85.42 1,825,786,027.36       25.76\n",
       "std    4,330.18     11.29 1,094,747,934.61        8.44\n",
       "min        1.00     53.00    77,909,816.00        4.00\n",
       "25%    3,745.00     78.00   777,469,746.25       19.00\n",
       "50%    7,492.00     90.00 1,934,009,687.00       25.00\n",
       "75%   11,247.00     95.00 2,876,116,901.00       33.00\n",
       "max   15,000.00    100.00 4,250,334,444.00       40.00"
      ]
     },
     "execution_count": 3,
     "metadata": {},
     "output_type": "execute_result"
    }
   ],
   "source": [
    "# options about float\n",
    "\n",
    "pd.options.display.float_format = '{:,.2f}'.format\n",
    "df.describe()"
   ]
  },
  {
   "cell_type": "code",
   "execution_count": 4,
   "id": "7cd4a73b",
   "metadata": {},
   "outputs": [
    {
     "data": {
      "text/html": [
       "<div>\n",
       "<style scoped>\n",
       "    .dataframe tbody tr th:only-of-type {\n",
       "        vertical-align: middle;\n",
       "    }\n",
       "\n",
       "    .dataframe tbody tr th {\n",
       "        vertical-align: top;\n",
       "    }\n",
       "\n",
       "    .dataframe thead th {\n",
       "        text-align: right;\n",
       "    }\n",
       "</style>\n",
       "<table border=\"1\" class=\"dataframe\">\n",
       "  <thead>\n",
       "    <tr style=\"text-align: right;\">\n",
       "      <th></th>\n",
       "      <th>name</th>\n",
       "      <th>class</th>\n",
       "      <th>id</th>\n",
       "      <th>account</th>\n",
       "      <th>twitch</th>\n",
       "      <th>ladder</th>\n",
       "    </tr>\n",
       "  </thead>\n",
       "  <tbody>\n",
       "    <tr>\n",
       "      <th>count</th>\n",
       "      <td>59776</td>\n",
       "      <td>59776</td>\n",
       "      <td>59776</td>\n",
       "      <td>59776</td>\n",
       "      <td>16300</td>\n",
       "      <td>59776</td>\n",
       "    </tr>\n",
       "    <tr>\n",
       "      <th>unique</th>\n",
       "      <td>58286</td>\n",
       "      <td>26</td>\n",
       "      <td>59776</td>\n",
       "      <td>37123</td>\n",
       "      <td>9613</td>\n",
       "      <td>4</td>\n",
       "    </tr>\n",
       "    <tr>\n",
       "      <th>top</th>\n",
       "      <td>_Flic_</td>\n",
       "      <td>Berserker</td>\n",
       "      <td>3dcddd59f5088893f734f39686350990dae168cc4f4b00...</td>\n",
       "      <td>chuz101</td>\n",
       "      <td>thespunkylobster</td>\n",
       "      <td>SSF Harbinger</td>\n",
       "    </tr>\n",
       "    <tr>\n",
       "      <th>freq</th>\n",
       "      <td>14</td>\n",
       "      <td>8711</td>\n",
       "      <td>1</td>\n",
       "      <td>30</td>\n",
       "      <td>18</td>\n",
       "      <td>14981</td>\n",
       "    </tr>\n",
       "  </tbody>\n",
       "</table>\n",
       "</div>"
      ],
      "text/plain": [
       "          name      class                                                 id  \\\n",
       "count    59776      59776                                              59776   \n",
       "unique   58286         26                                              59776   \n",
       "top     _Flic_  Berserker  3dcddd59f5088893f734f39686350990dae168cc4f4b00...   \n",
       "freq        14       8711                                                  1   \n",
       "\n",
       "        account            twitch         ladder  \n",
       "count     59776             16300          59776  \n",
       "unique    37123              9613              4  \n",
       "top     chuz101  thespunkylobster  SSF Harbinger  \n",
       "freq         30                18          14981  "
      ]
     },
     "execution_count": 4,
     "metadata": {},
     "output_type": "execute_result"
    }
   ],
   "source": [
    "df.describe(include = 'object')"
   ]
  },
  {
   "cell_type": "code",
   "execution_count": 5,
   "id": "e6ffafc5",
   "metadata": {},
   "outputs": [
    {
     "name": "stdout",
     "output_type": "stream",
     "text": [
      "<class 'pandas.core.frame.DataFrame'>\n",
      "RangeIndex: 59776 entries, 0 to 59775\n",
      "Data columns (total 12 columns):\n",
      " #   Column      Non-Null Count  Dtype \n",
      "---  ------      --------------  ----- \n",
      " 0   rank        59776 non-null  int64 \n",
      " 1   dead        59776 non-null  bool  \n",
      " 2   online      59776 non-null  bool  \n",
      " 3   name        59776 non-null  object\n",
      " 4   level       59776 non-null  int64 \n",
      " 5   class       59776 non-null  object\n",
      " 6   id          59776 non-null  object\n",
      " 7   experience  59776 non-null  int64 \n",
      " 8   account     59776 non-null  object\n",
      " 9   challenges  59776 non-null  int64 \n",
      " 10  twitch      16300 non-null  object\n",
      " 11  ladder      59776 non-null  object\n",
      "dtypes: bool(2), int64(4), object(6)\n",
      "memory usage: 4.7+ MB\n"
     ]
    }
   ],
   "source": [
    "df.info()"
   ]
  },
  {
   "cell_type": "markdown",
   "id": "6ef79755",
   "metadata": {},
   "source": [
    "# 1. rankers by ladder\n",
    "---\n",
    "##### Q1. A total number of players in each division, usage of each class in descending order.\n",
    "\n",
    "First I understood that question and wanted to know about each class ratio in each ladder. And it is true maybe.  \n",
    "(But... I think this question has to be more clear about 'players'. Because there're quite many users who have multiple characters which are on ranked.)  \n",
    "\n",
    "So I categorized the meaning of 'players' as characters and users. "
   ]
  },
  {
   "cell_type": "markdown",
   "id": "58ad23c6",
   "metadata": {},
   "source": [
    "## 1-1. id(character) and users in each ladder"
   ]
  },
  {
   "cell_type": "code",
   "execution_count": 6,
   "id": "960b48a3",
   "metadata": {},
   "outputs": [
    {
     "name": "stdout",
     "output_type": "stream",
     "text": [
      "ladder: Harbinger\n",
      "number of unique id: 14918\n",
      "number of unique rank: 14918\n",
      "number of unique account: 13160\n",
      "max value of the rank: 15000\n",
      "---------------------------------\n",
      "ladder: Hardcore Harbinger\n",
      "number of unique id: 14905\n",
      "number of unique rank: 14905\n",
      "number of unique account: 9020\n",
      "max value of the rank: 15000\n",
      "---------------------------------\n",
      "ladder: SSF Harbinger\n",
      "number of unique id: 14981\n",
      "number of unique rank: 14981\n",
      "number of unique account: 10214\n",
      "max value of the rank: 15000\n",
      "---------------------------------\n",
      "ladder: SSF Harbinger HC\n",
      "number of unique id: 14972\n",
      "number of unique rank: 14972\n",
      "number of unique account: 6374\n",
      "max value of the rank: 15000\n",
      "---------------------------------\n"
     ]
    }
   ],
   "source": [
    "# id, rank, account unique numbers\n",
    "\n",
    "modes = ['Harbinger', 'Hardcore Harbinger', 'SSF Harbinger', 'SSF Harbinger HC']\n",
    "\n",
    "for i in modes:\n",
    "    print(\"ladder:\", i)\n",
    "    print(\"number of unique id:\", df[df['ladder'] == i]['id'].nunique())\n",
    "    print(\"number of unique rank:\", df[df['ladder'] == i]['rank'].nunique())\n",
    "    print(\"number of unique account:\", df[df['ladder'] == i]['account'].nunique())\n",
    "    print(\"max value of the rank:\", df[df['ladder'] == i]['rank'].max())\n",
    "    print('---------------------------------')"
   ]
  },
  {
   "cell_type": "markdown",
   "id": "41894d7d",
   "metadata": {},
   "source": [
    "## 1-2. Answer: characters number of each class in each ladder\n",
    "\n",
    "We can all class and ladder mode put together in one data frame for analysis, and also make them separately to see more comfortable.  \n",
    "First, we can compare the number of specific classes with other ladders easily.  \n",
    "In the second method, we can compare the number of the specific ladder with other classes."
   ]
  },
  {
   "cell_type": "code",
   "execution_count": 7,
   "id": "f804bfa2",
   "metadata": {
    "scrolled": true
   },
   "outputs": [
    {
     "data": {
      "text/html": [
       "<div>\n",
       "<style scoped>\n",
       "    .dataframe tbody tr th:only-of-type {\n",
       "        vertical-align: middle;\n",
       "    }\n",
       "\n",
       "    .dataframe tbody tr th {\n",
       "        vertical-align: top;\n",
       "    }\n",
       "\n",
       "    .dataframe thead th {\n",
       "        text-align: right;\n",
       "    }\n",
       "</style>\n",
       "<table border=\"1\" class=\"dataframe\">\n",
       "  <thead>\n",
       "    <tr style=\"text-align: right;\">\n",
       "      <th>ladder</th>\n",
       "      <th>class</th>\n",
       "      <th>total</th>\n",
       "      <th>SSF Harbinger HC</th>\n",
       "      <th>SSF Harbinger</th>\n",
       "      <th>Hardcore Harbinger</th>\n",
       "      <th>Harbinger</th>\n",
       "    </tr>\n",
       "  </thead>\n",
       "  <tbody>\n",
       "    <tr>\n",
       "      <th>0</th>\n",
       "      <td>Ascendant</td>\n",
       "      <td>3754</td>\n",
       "      <td>865</td>\n",
       "      <td>1000</td>\n",
       "      <td>1149</td>\n",
       "      <td>740</td>\n",
       "    </tr>\n",
       "    <tr>\n",
       "      <th>1</th>\n",
       "      <td>Assassin</td>\n",
       "      <td>679</td>\n",
       "      <td>225</td>\n",
       "      <td>274</td>\n",
       "      <td>72</td>\n",
       "      <td>108</td>\n",
       "    </tr>\n",
       "    <tr>\n",
       "      <th>2</th>\n",
       "      <td>Berserker</td>\n",
       "      <td>8711</td>\n",
       "      <td>1644</td>\n",
       "      <td>2290</td>\n",
       "      <td>2064</td>\n",
       "      <td>2713</td>\n",
       "    </tr>\n",
       "    <tr>\n",
       "      <th>3</th>\n",
       "      <td>Champion</td>\n",
       "      <td>1216</td>\n",
       "      <td>338</td>\n",
       "      <td>262</td>\n",
       "      <td>490</td>\n",
       "      <td>126</td>\n",
       "    </tr>\n",
       "    <tr>\n",
       "      <th>4</th>\n",
       "      <td>Chieftain</td>\n",
       "      <td>2130</td>\n",
       "      <td>693</td>\n",
       "      <td>456</td>\n",
       "      <td>690</td>\n",
       "      <td>291</td>\n",
       "    </tr>\n",
       "    <tr>\n",
       "      <th>5</th>\n",
       "      <td>Deadeye</td>\n",
       "      <td>719</td>\n",
       "      <td>193</td>\n",
       "      <td>280</td>\n",
       "      <td>167</td>\n",
       "      <td>79</td>\n",
       "    </tr>\n",
       "    <tr>\n",
       "      <th>6</th>\n",
       "      <td>Duelist</td>\n",
       "      <td>65</td>\n",
       "      <td>55</td>\n",
       "      <td>10</td>\n",
       "      <td>0</td>\n",
       "      <td>0</td>\n",
       "    </tr>\n",
       "    <tr>\n",
       "      <th>7</th>\n",
       "      <td>Elementalist</td>\n",
       "      <td>1326</td>\n",
       "      <td>432</td>\n",
       "      <td>541</td>\n",
       "      <td>160</td>\n",
       "      <td>193</td>\n",
       "    </tr>\n",
       "    <tr>\n",
       "      <th>8</th>\n",
       "      <td>Gladiator</td>\n",
       "      <td>4900</td>\n",
       "      <td>1576</td>\n",
       "      <td>1320</td>\n",
       "      <td>1356</td>\n",
       "      <td>648</td>\n",
       "    </tr>\n",
       "    <tr>\n",
       "      <th>9</th>\n",
       "      <td>Guardian</td>\n",
       "      <td>1177</td>\n",
       "      <td>101</td>\n",
       "      <td>66</td>\n",
       "      <td>661</td>\n",
       "      <td>349</td>\n",
       "    </tr>\n",
       "    <tr>\n",
       "      <th>10</th>\n",
       "      <td>Hierophant</td>\n",
       "      <td>1725</td>\n",
       "      <td>668</td>\n",
       "      <td>557</td>\n",
       "      <td>398</td>\n",
       "      <td>102</td>\n",
       "    </tr>\n",
       "    <tr>\n",
       "      <th>11</th>\n",
       "      <td>Inquisitor</td>\n",
       "      <td>3391</td>\n",
       "      <td>1052</td>\n",
       "      <td>952</td>\n",
       "      <td>828</td>\n",
       "      <td>559</td>\n",
       "    </tr>\n",
       "    <tr>\n",
       "      <th>12</th>\n",
       "      <td>Juggernaut</td>\n",
       "      <td>2030</td>\n",
       "      <td>734</td>\n",
       "      <td>437</td>\n",
       "      <td>672</td>\n",
       "      <td>187</td>\n",
       "    </tr>\n",
       "    <tr>\n",
       "      <th>13</th>\n",
       "      <td>Marauder</td>\n",
       "      <td>95</td>\n",
       "      <td>84</td>\n",
       "      <td>10</td>\n",
       "      <td>1</td>\n",
       "      <td>0</td>\n",
       "    </tr>\n",
       "    <tr>\n",
       "      <th>14</th>\n",
       "      <td>Necromancer</td>\n",
       "      <td>7077</td>\n",
       "      <td>2055</td>\n",
       "      <td>1716</td>\n",
       "      <td>2099</td>\n",
       "      <td>1207</td>\n",
       "    </tr>\n",
       "    <tr>\n",
       "      <th>15</th>\n",
       "      <td>Occultist</td>\n",
       "      <td>1232</td>\n",
       "      <td>413</td>\n",
       "      <td>367</td>\n",
       "      <td>301</td>\n",
       "      <td>151</td>\n",
       "    </tr>\n",
       "    <tr>\n",
       "      <th>16</th>\n",
       "      <td>Pathfinder</td>\n",
       "      <td>4239</td>\n",
       "      <td>159</td>\n",
       "      <td>236</td>\n",
       "      <td>416</td>\n",
       "      <td>3428</td>\n",
       "    </tr>\n",
       "    <tr>\n",
       "      <th>17</th>\n",
       "      <td>Raider</td>\n",
       "      <td>5150</td>\n",
       "      <td>826</td>\n",
       "      <td>1486</td>\n",
       "      <td>895</td>\n",
       "      <td>1943</td>\n",
       "    </tr>\n",
       "    <tr>\n",
       "      <th>18</th>\n",
       "      <td>Ranger</td>\n",
       "      <td>48</td>\n",
       "      <td>31</td>\n",
       "      <td>13</td>\n",
       "      <td>4</td>\n",
       "      <td>0</td>\n",
       "    </tr>\n",
       "    <tr>\n",
       "      <th>19</th>\n",
       "      <td>Saboteur</td>\n",
       "      <td>1281</td>\n",
       "      <td>393</td>\n",
       "      <td>407</td>\n",
       "      <td>304</td>\n",
       "      <td>177</td>\n",
       "    </tr>\n",
       "    <tr>\n",
       "      <th>20</th>\n",
       "      <td>Scion</td>\n",
       "      <td>52</td>\n",
       "      <td>43</td>\n",
       "      <td>8</td>\n",
       "      <td>1</td>\n",
       "      <td>0</td>\n",
       "    </tr>\n",
       "    <tr>\n",
       "      <th>21</th>\n",
       "      <td>Shadow</td>\n",
       "      <td>46</td>\n",
       "      <td>36</td>\n",
       "      <td>10</td>\n",
       "      <td>0</td>\n",
       "      <td>0</td>\n",
       "    </tr>\n",
       "    <tr>\n",
       "      <th>22</th>\n",
       "      <td>Slayer</td>\n",
       "      <td>5485</td>\n",
       "      <td>1135</td>\n",
       "      <td>1301</td>\n",
       "      <td>1343</td>\n",
       "      <td>1706</td>\n",
       "    </tr>\n",
       "    <tr>\n",
       "      <th>23</th>\n",
       "      <td>Templar</td>\n",
       "      <td>71</td>\n",
       "      <td>65</td>\n",
       "      <td>6</td>\n",
       "      <td>0</td>\n",
       "      <td>0</td>\n",
       "    </tr>\n",
       "    <tr>\n",
       "      <th>24</th>\n",
       "      <td>Trickster</td>\n",
       "      <td>3058</td>\n",
       "      <td>1058</td>\n",
       "      <td>955</td>\n",
       "      <td>834</td>\n",
       "      <td>211</td>\n",
       "    </tr>\n",
       "    <tr>\n",
       "      <th>25</th>\n",
       "      <td>Witch</td>\n",
       "      <td>119</td>\n",
       "      <td>98</td>\n",
       "      <td>21</td>\n",
       "      <td>0</td>\n",
       "      <td>0</td>\n",
       "    </tr>\n",
       "  </tbody>\n",
       "</table>\n",
       "</div>"
      ],
      "text/plain": [
       "ladder         class  total  SSF Harbinger HC  SSF Harbinger  \\\n",
       "0          Ascendant   3754               865           1000   \n",
       "1           Assassin    679               225            274   \n",
       "2          Berserker   8711              1644           2290   \n",
       "3           Champion   1216               338            262   \n",
       "4          Chieftain   2130               693            456   \n",
       "5            Deadeye    719               193            280   \n",
       "6            Duelist     65                55             10   \n",
       "7       Elementalist   1326               432            541   \n",
       "8          Gladiator   4900              1576           1320   \n",
       "9           Guardian   1177               101             66   \n",
       "10        Hierophant   1725               668            557   \n",
       "11        Inquisitor   3391              1052            952   \n",
       "12        Juggernaut   2030               734            437   \n",
       "13          Marauder     95                84             10   \n",
       "14       Necromancer   7077              2055           1716   \n",
       "15         Occultist   1232               413            367   \n",
       "16        Pathfinder   4239               159            236   \n",
       "17            Raider   5150               826           1486   \n",
       "18            Ranger     48                31             13   \n",
       "19          Saboteur   1281               393            407   \n",
       "20             Scion     52                43              8   \n",
       "21            Shadow     46                36             10   \n",
       "22            Slayer   5485              1135           1301   \n",
       "23           Templar     71                65              6   \n",
       "24         Trickster   3058              1058            955   \n",
       "25             Witch    119                98             21   \n",
       "\n",
       "ladder  Hardcore Harbinger  Harbinger  \n",
       "0                     1149        740  \n",
       "1                       72        108  \n",
       "2                     2064       2713  \n",
       "3                      490        126  \n",
       "4                      690        291  \n",
       "5                      167         79  \n",
       "6                        0          0  \n",
       "7                      160        193  \n",
       "8                     1356        648  \n",
       "9                      661        349  \n",
       "10                     398        102  \n",
       "11                     828        559  \n",
       "12                     672        187  \n",
       "13                       1          0  \n",
       "14                    2099       1207  \n",
       "15                     301        151  \n",
       "16                     416       3428  \n",
       "17                     895       1943  \n",
       "18                       4          0  \n",
       "19                     304        177  \n",
       "20                       1          0  \n",
       "21                       0          0  \n",
       "22                    1343       1706  \n",
       "23                       0          0  \n",
       "24                     834        211  \n",
       "25                       0          0  "
      ]
     },
     "execution_count": 7,
     "metadata": {},
     "output_type": "execute_result"
    }
   ],
   "source": [
    "# pivot by class and ladder to one Data frame\n",
    "\n",
    "df_cha_bylad = df.pivot_table(values = 'account', index = 'ladder', columns = 'class', aggfunc = 'count', margins=True, margins_name=\"total\", fill_value = 0)\n",
    "\n",
    "# transpose to make class as row\n",
    "df_cha_bylad = df_cha_bylad.sort_values(ascending = False, by = 'ladder').transpose()\n",
    "df_cha_bylad.reset_index(drop = False, inplace = True)\n",
    "\n",
    "# drop 'index = 26 'total' row '\n",
    "df_cha_bylad.drop(index = 26, inplace = True)\n",
    "df_cha_bylad"
   ]
  },
  {
   "cell_type": "code",
   "execution_count": 8,
   "id": "f1aa1716",
   "metadata": {},
   "outputs": [],
   "source": [
    "# pd.crosstab(values = df['id'], columns = df['ladder'], index = df['class'], \n",
    "#                aggfunc = 'count', margins=True, margins_name=\"total\", )"
   ]
  },
  {
   "cell_type": "code",
   "execution_count": 9,
   "id": "ca66db3e",
   "metadata": {
    "scrolled": true
   },
   "outputs": [
    {
     "data": {
      "text/plain": [
       "class\n",
       "Pathfinder      3428\n",
       "Berserker       2713\n",
       "Raider          1943\n",
       "Slayer          1706\n",
       "Necromancer     1207\n",
       "Ascendant        740\n",
       "Gladiator        648\n",
       "Inquisitor       559\n",
       "Guardian         349\n",
       "Chieftain        291\n",
       "Trickster        211\n",
       "Elementalist     193\n",
       "Juggernaut       187\n",
       "Saboteur         177\n",
       "Occultist        151\n",
       "Champion         126\n",
       "Assassin         108\n",
       "Hierophant       102\n",
       "Deadeye           79\n",
       "Name: id, dtype: int64"
      ]
     },
     "execution_count": 9,
     "metadata": {},
     "output_type": "execute_result"
    }
   ],
   "source": [
    "# if you want to see it seperated by ladder\n",
    "\n",
    "# Harbinger\n",
    "df[df['ladder'] == 'Harbinger'].groupby(by = 'class').count()['id'].sort_values(ascending = False)"
   ]
  },
  {
   "cell_type": "code",
   "execution_count": 10,
   "id": "f8a0c0e8",
   "metadata": {
    "scrolled": true
   },
   "outputs": [
    {
     "data": {
      "text/plain": [
       "class\n",
       "Necromancer     2099\n",
       "Berserker       2064\n",
       "Gladiator       1356\n",
       "Slayer          1343\n",
       "Ascendant       1149\n",
       "Raider           895\n",
       "Trickster        834\n",
       "Inquisitor       828\n",
       "Chieftain        690\n",
       "Juggernaut       672\n",
       "Guardian         661\n",
       "Champion         490\n",
       "Pathfinder       416\n",
       "Hierophant       398\n",
       "Saboteur         304\n",
       "Occultist        301\n",
       "Deadeye          167\n",
       "Elementalist     160\n",
       "Assassin          72\n",
       "Ranger             4\n",
       "Marauder           1\n",
       "Scion              1\n",
       "Name: id, dtype: int64"
      ]
     },
     "execution_count": 10,
     "metadata": {},
     "output_type": "execute_result"
    }
   ],
   "source": [
    "# Harbinger HC\n",
    "\n",
    "df[df['ladder'] == 'Hardcore Harbinger'].groupby(by = 'class').count()['id'].sort_values(ascending = False)"
   ]
  },
  {
   "cell_type": "code",
   "execution_count": 11,
   "id": "03079614",
   "metadata": {
    "scrolled": true
   },
   "outputs": [
    {
     "data": {
      "text/plain": [
       "class\n",
       "Berserker       2290\n",
       "Necromancer     1716\n",
       "Raider          1486\n",
       "Gladiator       1320\n",
       "Slayer          1301\n",
       "Ascendant       1000\n",
       "Trickster        955\n",
       "Inquisitor       952\n",
       "Hierophant       557\n",
       "Elementalist     541\n",
       "Chieftain        456\n",
       "Juggernaut       437\n",
       "Saboteur         407\n",
       "Occultist        367\n",
       "Deadeye          280\n",
       "Assassin         274\n",
       "Champion         262\n",
       "Pathfinder       236\n",
       "Guardian          66\n",
       "Witch             21\n",
       "Ranger            13\n",
       "Shadow            10\n",
       "Duelist           10\n",
       "Marauder          10\n",
       "Scion              8\n",
       "Templar            6\n",
       "Name: id, dtype: int64"
      ]
     },
     "execution_count": 11,
     "metadata": {},
     "output_type": "execute_result"
    }
   ],
   "source": [
    "# SSF Harbinger \n",
    "\n",
    "df[df['ladder'] == 'SSF Harbinger'].groupby(by = 'class').count()['id'].sort_values(ascending = False)"
   ]
  },
  {
   "cell_type": "code",
   "execution_count": 12,
   "id": "1763cdf9",
   "metadata": {
    "scrolled": true
   },
   "outputs": [
    {
     "data": {
      "text/plain": [
       "class\n",
       "Necromancer     2055\n",
       "Berserker       1644\n",
       "Gladiator       1576\n",
       "Slayer          1135\n",
       "Trickster       1058\n",
       "Inquisitor      1052\n",
       "Ascendant        865\n",
       "Raider           826\n",
       "Juggernaut       734\n",
       "Chieftain        693\n",
       "Hierophant       668\n",
       "Elementalist     432\n",
       "Occultist        413\n",
       "Saboteur         393\n",
       "Champion         338\n",
       "Assassin         225\n",
       "Deadeye          193\n",
       "Pathfinder       159\n",
       "Guardian         101\n",
       "Witch             98\n",
       "Marauder          84\n",
       "Templar           65\n",
       "Duelist           55\n",
       "Scion             43\n",
       "Shadow            36\n",
       "Ranger            31\n",
       "Name: id, dtype: int64"
      ]
     },
     "execution_count": 12,
     "metadata": {},
     "output_type": "execute_result"
    }
   ],
   "source": [
    "# SSF Harbinger HC\n",
    "\n",
    "df[df['ladder'] == 'SSF Harbinger HC'].groupby(by = 'class').count()['id'].sort_values(ascending = False)"
   ]
  },
  {
   "cell_type": "markdown",
   "id": "a981ec42",
   "metadata": {},
   "source": [
    "## 1-3. (plus) characters ratio of each class in each ladder (descending order)"
   ]
  },
  {
   "cell_type": "code",
   "execution_count": 13,
   "id": "1f15c91b",
   "metadata": {},
   "outputs": [
    {
     "data": {
      "text/plain": [
       "class\n",
       "Pathfinder     22.98\n",
       "Berserker      18.19\n",
       "Raider         13.02\n",
       "Slayer         11.44\n",
       "Necromancer     8.09\n",
       "Ascendant       4.96\n",
       "Gladiator       4.34\n",
       "Inquisitor      3.75\n",
       "Guardian        2.34\n",
       "Chieftain       1.95\n",
       "Trickster       1.41\n",
       "Elementalist    1.29\n",
       "Juggernaut      1.25\n",
       "Saboteur        1.19\n",
       "Occultist       1.01\n",
       "Champion        0.84\n",
       "Assassin        0.72\n",
       "Hierophant      0.68\n",
       "Deadeye         0.53\n",
       "Name: id, dtype: float64"
      ]
     },
     "execution_count": 13,
     "metadata": {},
     "output_type": "execute_result"
    }
   ],
   "source": [
    "# Harbinger\n",
    "df[df['ladder'] == 'Harbinger'].groupby(by = 'class').count()['id'].sort_values(ascending = False)  / df[df['ladder'] == 'Harbinger'].shape[0] * 100"
   ]
  },
  {
   "cell_type": "code",
   "execution_count": 14,
   "id": "1624704d",
   "metadata": {
    "scrolled": true
   },
   "outputs": [
    {
     "data": {
      "text/plain": [
       "class\n",
       "Necromancer    14.08\n",
       "Berserker      13.85\n",
       "Gladiator       9.10\n",
       "Slayer          9.01\n",
       "Ascendant       7.71\n",
       "Raider          6.00\n",
       "Trickster       5.60\n",
       "Inquisitor      5.56\n",
       "Chieftain       4.63\n",
       "Juggernaut      4.51\n",
       "Guardian        4.43\n",
       "Champion        3.29\n",
       "Pathfinder      2.79\n",
       "Hierophant      2.67\n",
       "Saboteur        2.04\n",
       "Occultist       2.02\n",
       "Deadeye         1.12\n",
       "Elementalist    1.07\n",
       "Assassin        0.48\n",
       "Ranger          0.03\n",
       "Marauder        0.01\n",
       "Scion           0.01\n",
       "Name: id, dtype: float64"
      ]
     },
     "execution_count": 14,
     "metadata": {},
     "output_type": "execute_result"
    }
   ],
   "source": [
    "# HC Harbinger\n",
    "df[df['ladder'] == 'Hardcore Harbinger'].groupby(by = 'class').count()['id'].sort_values(ascending = False) / df[df['ladder'] == 'Hardcore Harbinger'].shape[0] * 100"
   ]
  },
  {
   "cell_type": "code",
   "execution_count": 15,
   "id": "2a238dd6",
   "metadata": {
    "scrolled": true
   },
   "outputs": [
    {
     "data": {
      "text/plain": [
       "class\n",
       "Berserker      15.29\n",
       "Necromancer    11.45\n",
       "Raider          9.92\n",
       "Gladiator       8.81\n",
       "Slayer          8.68\n",
       "Ascendant       6.68\n",
       "Trickster       6.37\n",
       "Inquisitor      6.35\n",
       "Hierophant      3.72\n",
       "Elementalist    3.61\n",
       "Chieftain       3.04\n",
       "Juggernaut      2.92\n",
       "Saboteur        2.72\n",
       "Occultist       2.45\n",
       "Deadeye         1.87\n",
       "Assassin        1.83\n",
       "Champion        1.75\n",
       "Pathfinder      1.58\n",
       "Guardian        0.44\n",
       "Witch           0.14\n",
       "Ranger          0.09\n",
       "Shadow          0.07\n",
       "Duelist         0.07\n",
       "Marauder        0.07\n",
       "Scion           0.05\n",
       "Templar         0.04\n",
       "Name: id, dtype: float64"
      ]
     },
     "execution_count": 15,
     "metadata": {},
     "output_type": "execute_result"
    }
   ],
   "source": [
    "# SSF Harbinger\n",
    "df[df['ladder'] == 'SSF Harbinger'].groupby(by = 'class').count()['id'].sort_values(ascending = False) / df[df['ladder'] == 'SSF Harbinger'].shape[0] * 100"
   ]
  },
  {
   "cell_type": "code",
   "execution_count": 16,
   "id": "796f72ca",
   "metadata": {
    "scrolled": true
   },
   "outputs": [
    {
     "data": {
      "text/plain": [
       "class\n",
       "Necromancer    13.73\n",
       "Berserker      10.98\n",
       "Gladiator      10.53\n",
       "Slayer          7.58\n",
       "Trickster       7.07\n",
       "Inquisitor      7.03\n",
       "Ascendant       5.78\n",
       "Raider          5.52\n",
       "Juggernaut      4.90\n",
       "Chieftain       4.63\n",
       "Hierophant      4.46\n",
       "Elementalist    2.89\n",
       "Occultist       2.76\n",
       "Saboteur        2.62\n",
       "Champion        2.26\n",
       "Assassin        1.50\n",
       "Deadeye         1.29\n",
       "Pathfinder      1.06\n",
       "Guardian        0.67\n",
       "Witch           0.65\n",
       "Marauder        0.56\n",
       "Templar         0.43\n",
       "Duelist         0.37\n",
       "Scion           0.29\n",
       "Shadow          0.24\n",
       "Ranger          0.21\n",
       "Name: id, dtype: float64"
      ]
     },
     "execution_count": 16,
     "metadata": {},
     "output_type": "execute_result"
    }
   ],
   "source": [
    "# SSF Harbinger HC\n",
    "df[df['ladder'] == 'SSF Harbinger HC'].groupby(by = 'class').count()['id'].sort_values(ascending = False) / df[df['ladder'] == 'SSF Harbinger HC'].shape[0] * 100"
   ]
  },
  {
   "cell_type": "markdown",
   "id": "d588be4b",
   "metadata": {},
   "source": [
    "## 1-4. Visualization"
   ]
  },
  {
   "cell_type": "code",
   "execution_count": 17,
   "id": "599fd736",
   "metadata": {
    "scrolled": false
   },
   "outputs": [
    {
     "data": {
      "image/png": "[encoded data removed]",
      "text/plain": [
       "<Figure size 720x432 with 1 Axes>"
      ]
     },
     "metadata": {
      "needs_background": "light"
     },
     "output_type": "display_data"
    }
   ],
   "source": [
    "# if you want to see as seperated by ladder (case when 'Harbinger')\n",
    "\n",
    "plt.subplots(figsize = (10, 6))\n",
    "\n",
    "plt.xlabel('Class name')\n",
    "plt.ylabel('Number of id')\n",
    "plt.ylim(bottom = 0, top = 4000)\n",
    "plt.xticks(rotation=45, fontsize=10)\n",
    "\n",
    "sns.barplot(x = 'class', y = 'Harbinger', data = df_cha_bylad)\n",
    "plt.tight_layout()\n",
    "plt.show()"
   ]
  },
  {
   "cell_type": "code",
   "execution_count": 18,
   "id": "660bced7",
   "metadata": {},
   "outputs": [
    {
     "data": {
      "image/png": "[encoded data removed]",
      "text/plain": [
       "<Figure size 1152x432 with 1 Axes>"
      ]
     },
     "metadata": {
      "needs_background": "light"
     },
     "output_type": "display_data"
    }
   ],
   "source": [
    "# if you want to see all of them\n",
    "\n",
    "plt.rcParams[\"figure.figsize\"] = (16, 6)\n",
    "plt.xlabel('Class name')\n",
    "plt.ylabel('Number of id')\n",
    "plt.ylim(bottom = 0, top = 4000)\n",
    "plt.xticks(rotation=45, fontsize=10)\n",
    "sns.set_style('whitegrid')\n",
    "ax = sns.countplot(data = df, x = 'class',\n",
    "              palette=\"rocket\", edgecolor=sns.color_palette(\"dark\", 1), hue = 'ladder') "
   ]
  },
  {
   "attachments": {
    "image.png": {
     "image/png": "[encoded data removed]"
    }
   },
   "cell_type": "markdown",
   "id": "4bea7993",
   "metadata": {},
   "source": [
    "## 1-5. Result\n",
    "\n",
    "There are some preferred classes in each ladder.  \n",
    "In Harbinger, the most common mode, Pathfinder is the most one. And Necromancer is the most preferred in Harbinger hardcore mode. (Berserk was on the same level.)  \n",
    "In SSF Harbinger, the solo mode, the most picked one is Berserker and Necromancer is also preferred too.  \n",
    "In SSF Harbinger hardcore, the most one is Necromancer and Berserker is also preferred.  \n",
    "\n",
    "\n",
    "I want to add this, this is a result of the preference for class division in each ladder.  \n",
    "X category means pre-class, like 'witch', 'Duelist', 'Templar' etc.  \n",
    "![image.png](attachment:image.png)\n",
    "\n",
    "Necromancer or Berserker are preferred in other modes, but Pathfinder is the most preferred class, especially Harbinger.  \n",
    "We may have to consider that all of them(Necromancer and Berserker and Pathfinder) are one-stat classes.  \n",
    "And Each class is among the Intelligence, Strength, Dexterity stat.  "
   ]
  },
  {
   "cell_type": "markdown",
   "id": "336701c4",
   "metadata": {},
   "source": [
    "# 2. Are streamers better or not?\n",
    "---\n",
    "##### Q2. Some of the players streaming their games (twitch column). Do they play better than people who do not stream?\n",
    "\n",
    "1. We have to set the standard of 'play better' means, so I treat the rank of characters to the 'better play'. Maybe there are more criteria like ranking of 'exp' or 'level', 'challenge' contrasts.\n",
    "But I just used the **rank** because they are ranked players, they are already skilled enough to base their rankings on the number of challenges or levels. In addition, it is because many variables affect classes, parties, items, and skill trees to compare them on other criteria other than game modes, and we cannot know everything in detail.\n",
    "\n",
    "2. And there are some cases where one twitch streamer has multiple accounts or characters. And also, one user has multiple characters on a rank chart. (I discovered it when I analyze the dataset before this project.) So I assumed that one account or one twitch id means one user(one twitch includes multiple accounts).\n",
    "\n",
    "3. And there're some missing rank values in each ladder. When I analyzed the data personally, I substituted the missing data by updating it to rank only the data we have. But, anyway, I used the original rank in this analysis.\n",
    "\n",
    "4. Plus, does rank have meaning only when they exist in an integer? My words mean, I wonder which is more accurate the average of one user's rank and the median of one user's rank. I expect it's better when the number of the data in one user's rank is above 30 or more. But the reality was not, so I used both of them in this analysis.  \n",
    "\n",
    "5. sequence\n",
    "    1. normally get the average from all dataframe\n",
    "    2. get the average from each player(user)'s average rank\n",
    "    3. get the average from each player(user)'s median rank\n",
    "    4. statistical significance test"
   ]
  },
  {
   "cell_type": "code",
   "execution_count": 19,
   "id": "72a6938e",
   "metadata": {},
   "outputs": [
    {
     "data": {
      "text/plain": [
       "count                16300\n",
       "unique                9613\n",
       "top       thespunkylobster\n",
       "freq                    18\n",
       "Name: twitch, dtype: object"
      ]
     },
     "execution_count": 19,
     "metadata": {},
     "output_type": "execute_result"
    }
   ],
   "source": [
    "df['twitch'].describe()"
   ]
  },
  {
   "cell_type": "code",
   "execution_count": 20,
   "id": "e175b8fd",
   "metadata": {},
   "outputs": [
    {
     "data": {
      "text/html": [
       "<div>\n",
       "<style scoped>\n",
       "    .dataframe tbody tr th:only-of-type {\n",
       "        vertical-align: middle;\n",
       "    }\n",
       "\n",
       "    .dataframe tbody tr th {\n",
       "        vertical-align: top;\n",
       "    }\n",
       "\n",
       "    .dataframe thead th {\n",
       "        text-align: right;\n",
       "    }\n",
       "</style>\n",
       "<table border=\"1\" class=\"dataframe\">\n",
       "  <thead>\n",
       "    <tr style=\"text-align: right;\">\n",
       "      <th></th>\n",
       "      <th>name</th>\n",
       "      <th>class</th>\n",
       "      <th>id</th>\n",
       "      <th>account</th>\n",
       "      <th>twitch</th>\n",
       "      <th>ladder</th>\n",
       "    </tr>\n",
       "  </thead>\n",
       "  <tbody>\n",
       "    <tr>\n",
       "      <th>count</th>\n",
       "      <td>43476</td>\n",
       "      <td>43476</td>\n",
       "      <td>43476</td>\n",
       "      <td>43476</td>\n",
       "      <td>0</td>\n",
       "      <td>43476</td>\n",
       "    </tr>\n",
       "    <tr>\n",
       "      <th>unique</th>\n",
       "      <td>42342</td>\n",
       "      <td>26</td>\n",
       "      <td>43476</td>\n",
       "      <td>27505</td>\n",
       "      <td>0</td>\n",
       "      <td>4</td>\n",
       "    </tr>\n",
       "    <tr>\n",
       "      <th>top</th>\n",
       "      <td>_Flic_</td>\n",
       "      <td>Berserker</td>\n",
       "      <td>c861372da792be0b22c45bf437ccd58437c52e9455e0bf...</td>\n",
       "      <td>chuz101</td>\n",
       "      <td>NaN</td>\n",
       "      <td>SSF Harbinger</td>\n",
       "    </tr>\n",
       "    <tr>\n",
       "      <th>freq</th>\n",
       "      <td>14</td>\n",
       "      <td>6372</td>\n",
       "      <td>1</td>\n",
       "      <td>30</td>\n",
       "      <td>NaN</td>\n",
       "      <td>12320</td>\n",
       "    </tr>\n",
       "  </tbody>\n",
       "</table>\n",
       "</div>"
      ],
      "text/plain": [
       "          name      class                                                 id  \\\n",
       "count    43476      43476                                              43476   \n",
       "unique   42342         26                                              43476   \n",
       "top     _Flic_  Berserker  c861372da792be0b22c45bf437ccd58437c52e9455e0bf...   \n",
       "freq        14       6372                                                  1   \n",
       "\n",
       "        account twitch         ladder  \n",
       "count     43476      0          43476  \n",
       "unique    27505      0              4  \n",
       "top     chuz101    NaN  SSF Harbinger  \n",
       "freq         30    NaN          12320  "
      ]
     },
     "execution_count": 20,
     "metadata": {},
     "output_type": "execute_result"
    }
   ],
   "source": [
    "# Twitch streaming users\n",
    "df[df['twitch'].isna() == True].describe(include = 'object')"
   ]
  },
  {
   "cell_type": "code",
   "execution_count": 21,
   "id": "e06cf92f",
   "metadata": {
    "scrolled": true
   },
   "outputs": [
    {
     "data": {
      "text/html": [
       "<div>\n",
       "<style scoped>\n",
       "    .dataframe tbody tr th:only-of-type {\n",
       "        vertical-align: middle;\n",
       "    }\n",
       "\n",
       "    .dataframe tbody tr th {\n",
       "        vertical-align: top;\n",
       "    }\n",
       "\n",
       "    .dataframe thead th {\n",
       "        text-align: right;\n",
       "    }\n",
       "</style>\n",
       "<table border=\"1\" class=\"dataframe\">\n",
       "  <thead>\n",
       "    <tr style=\"text-align: right;\">\n",
       "      <th></th>\n",
       "      <th>name</th>\n",
       "      <th>class</th>\n",
       "      <th>id</th>\n",
       "      <th>account</th>\n",
       "      <th>twitch</th>\n",
       "      <th>ladder</th>\n",
       "    </tr>\n",
       "  </thead>\n",
       "  <tbody>\n",
       "    <tr>\n",
       "      <th>count</th>\n",
       "      <td>16300</td>\n",
       "      <td>16300</td>\n",
       "      <td>16300</td>\n",
       "      <td>16300</td>\n",
       "      <td>16300</td>\n",
       "      <td>16300</td>\n",
       "    </tr>\n",
       "    <tr>\n",
       "      <th>unique</th>\n",
       "      <td>15946</td>\n",
       "      <td>26</td>\n",
       "      <td>16300</td>\n",
       "      <td>9618</td>\n",
       "      <td>9613</td>\n",
       "      <td>4</td>\n",
       "    </tr>\n",
       "    <tr>\n",
       "      <th>top</th>\n",
       "      <td>Cya</td>\n",
       "      <td>Berserker</td>\n",
       "      <td>3dcddd59f5088893f734f39686350990dae168cc4f4b00...</td>\n",
       "      <td>TheSpunkyLobster</td>\n",
       "      <td>thespunkylobster</td>\n",
       "      <td>Hardcore Harbinger</td>\n",
       "    </tr>\n",
       "    <tr>\n",
       "      <th>freq</th>\n",
       "      <td>8</td>\n",
       "      <td>2339</td>\n",
       "      <td>1</td>\n",
       "      <td>18</td>\n",
       "      <td>18</td>\n",
       "      <td>5452</td>\n",
       "    </tr>\n",
       "  </tbody>\n",
       "</table>\n",
       "</div>"
      ],
      "text/plain": [
       "         name      class                                                 id  \\\n",
       "count   16300      16300                                              16300   \n",
       "unique  15946         26                                              16300   \n",
       "top       Cya  Berserker  3dcddd59f5088893f734f39686350990dae168cc4f4b00...   \n",
       "freq        8       2339                                                  1   \n",
       "\n",
       "                 account            twitch              ladder  \n",
       "count              16300             16300               16300  \n",
       "unique              9618              9613                   4  \n",
       "top     TheSpunkyLobster  thespunkylobster  Hardcore Harbinger  \n",
       "freq                  18                18                5452  "
      ]
     },
     "execution_count": 21,
     "metadata": {},
     "output_type": "execute_result"
    }
   ],
   "source": [
    "# Not streaming users\n",
    "df[df['twitch'].isna() == False].describe(include = 'object')"
   ]
  },
  {
   "cell_type": "code",
   "execution_count": 22,
   "id": "5bf36c42",
   "metadata": {},
   "outputs": [
    {
     "name": "stdout",
     "output_type": "stream",
     "text": [
      "14918\n",
      "14905\n",
      "14981\n",
      "14972\n"
     ]
    }
   ],
   "source": [
    "# you can see how much missing values in rank are there by ladder\n",
    "\n",
    "print(df[df['ladder'] == 'Harbinger']['rank'].nunique())\n",
    "print(df[df['ladder'] == 'Hardcore Harbinger']['rank'].nunique())\n",
    "print(df[df['ladder'] == 'SSF Harbinger']['rank'].nunique())\n",
    "print(df[df['ladder'] == 'SSF Harbinger HC']['rank'].nunique())"
   ]
  },
  {
   "cell_type": "markdown",
   "id": "11261ea2",
   "metadata": {},
   "source": [
    "## 2-1. dividing data\n",
    "\n",
    "Let's divide the dataset as whether 'twitch' user or not.  \n",
    "And divide them by person(twitch unique value is first in the twitch column)'s average.  \n"
   ]
  },
  {
   "cell_type": "code",
   "execution_count": 23,
   "id": "4b5bc73b",
   "metadata": {},
   "outputs": [],
   "source": [
    "# each id's rank\n",
    "df_twt = df[df['twitch'].isna() == False]\n",
    "df_twt_non = df[df['twitch'].isna() == True]"
   ]
  },
  {
   "cell_type": "code",
   "execution_count": 24,
   "id": "ae57f476",
   "metadata": {},
   "outputs": [],
   "source": [
    "# each user's mean rank\n",
    "# grouping by player and get the 'average' rank of each player streaming on twitch or not\n",
    "df_twt_mean = df_twt.pivot_table(index = 'twitch', values = 'rank', aggfunc = 'mean')\n",
    "df_twt_non_mean = df_twt.pivot_table(index = 'account', values = 'rank', aggfunc = 'mean')"
   ]
  },
  {
   "cell_type": "code",
   "execution_count": 25,
   "id": "e97e0992",
   "metadata": {},
   "outputs": [],
   "source": [
    "# each user's median rank\n",
    "# grouping by player and get the 'median' rank of each player streaming on twitch or not\n",
    "df_twt_med = df_twt.pivot_table(index = 'twitch', values = 'rank', aggfunc = 'median')\n",
    "df_twt_non_med = df_twt.pivot_table(index = 'account', values = 'rank', aggfunc = 'median')"
   ]
  },
  {
   "cell_type": "markdown",
   "id": "2f61f0db",
   "metadata": {},
   "source": [
    "## 2-2. comparing average by cases\n",
    "### 2-2-1. normal average of rank simply\n",
    "\n",
    "normally get the average from all dataframe"
   ]
  },
  {
   "cell_type": "code",
   "execution_count": 26,
   "id": "9dc0454b",
   "metadata": {},
   "outputs": [
    {
     "name": "stdout",
     "output_type": "stream",
     "text": [
      "7101.554355828221\n",
      "7643.018308952065\n"
     ]
    }
   ],
   "source": [
    "# twtich streamers and not streaming users's rank average of each 'id'\n",
    "print(df_twt['rank'].mean())\n",
    "print(df_twt_non['rank'].mean())"
   ]
  },
  {
   "cell_type": "code",
   "execution_count": 27,
   "id": "54df799b",
   "metadata": {},
   "outputs": [
    {
     "name": "stdout",
     "output_type": "stream",
     "text": [
      "6960.5\n",
      "7684.0\n"
     ]
    }
   ],
   "source": [
    "print(df_twt['rank'].median())\n",
    "print(df_twt_non['rank'].median())"
   ]
  },
  {
   "cell_type": "markdown",
   "id": "68ec1686",
   "metadata": {},
   "source": [
    "### 2-2-2. average rank by account and get average\n",
    "\n",
    "get the average from each player(user)'s average rank"
   ]
  },
  {
   "cell_type": "code",
   "execution_count": 28,
   "id": "a86726e3",
   "metadata": {},
   "outputs": [
    {
     "name": "stdout",
     "output_type": "stream",
     "text": [
      "7479.202758592788\n",
      "7479.1660218046945\n"
     ]
    }
   ],
   "source": [
    "# get the average rank of each player's average rank\n",
    "print(np.average(df_twt_mean))\n",
    "print(np.average(df_twt_non_mean))"
   ]
  },
  {
   "cell_type": "code",
   "execution_count": 29,
   "id": "1a434d98",
   "metadata": {
    "scrolled": true
   },
   "outputs": [
    {
     "name": "stdout",
     "output_type": "stream",
     "text": [
      "7425.0\n",
      "7425.5\n"
     ]
    }
   ],
   "source": [
    "# check the median rank of each player's average rank\n",
    "print(np.median(df_twt_mean))\n",
    "print(np.median(df_twt_non_mean))"
   ]
  },
  {
   "cell_type": "markdown",
   "id": "6c983471",
   "metadata": {},
   "source": [
    "### 2-2-3. median rank of each player and get average\n",
    "\n",
    "get the average from each player(user)'s median rank"
   ]
  },
  {
   "cell_type": "code",
   "execution_count": 30,
   "id": "a3ca7f45",
   "metadata": {},
   "outputs": [
    {
     "name": "stdout",
     "output_type": "stream",
     "text": [
      "7435.413606574431\n",
      "7435.166874610106\n"
     ]
    }
   ],
   "source": [
    "# get the average rank of each player's median rank\n",
    "print(np.average(df_twt_med))\n",
    "print(np.average(df_twt_non_med))"
   ]
  },
  {
   "cell_type": "code",
   "execution_count": 31,
   "id": "cb3e7a6c",
   "metadata": {},
   "outputs": [
    {
     "name": "stdout",
     "output_type": "stream",
     "text": [
      "7395.5\n",
      "7396.25\n"
     ]
    }
   ],
   "source": [
    "# get the median rank of each player's median rank\n",
    "print(np.median(df_twt_med))\n",
    "print(np.median(df_twt_non_med))"
   ]
  },
  {
   "cell_type": "markdown",
   "id": "4b7ad9ab",
   "metadata": {},
   "source": [
    "## 2-4. Visualizing each value"
   ]
  },
  {
   "cell_type": "code",
   "execution_count": 32,
   "id": "bdbb49cb",
   "metadata": {},
   "outputs": [],
   "source": [
    "x = ['Arithmetic mean - Twitch_user', 'Arithmetic mean - normal_user', \n",
    "     'Mean of rank mean - Twitch_user', 'Mean of rank mean - normal_user', \n",
    "     'Mean of rank median - Twitch_user', 'Mean of rank median - normal_user']"
   ]
  },
  {
   "cell_type": "code",
   "execution_count": 33,
   "id": "1ed909a6",
   "metadata": {},
   "outputs": [],
   "source": [
    "y = [df_twt['rank'].mean(),\n",
    "df_twt_non['rank'].mean(),\n",
    "df_twt_mean['rank'].mean(),\n",
    "df_twt_non_mean['rank'].mean(),\n",
    "df_twt_med['rank'].mean(),\n",
    "df_twt_non_med['rank'].mean()]"
   ]
  },
  {
   "cell_type": "code",
   "execution_count": 34,
   "id": "05da9056",
   "metadata": {},
   "outputs": [
    {
     "data": {
      "text/plain": [
       "0            1\n",
       "1            1\n",
       "2            1\n",
       "5            2\n",
       "6            2\n",
       "         ...  \n",
       "59761    14997\n",
       "59764    14998\n",
       "59768    14999\n",
       "59771    14999\n",
       "59774    15000\n",
       "Name: rank, Length: 16300, dtype: int64"
      ]
     },
     "execution_count": 34,
     "metadata": {},
     "output_type": "execute_result"
    }
   ],
   "source": [
    "df_twt['rank']"
   ]
  },
  {
   "cell_type": "code",
   "execution_count": 35,
   "id": "590f8053",
   "metadata": {},
   "outputs": [
    {
     "data": {
      "text/plain": [
       "[7101.554355828221,\n",
       " 7643.018308952065,\n",
       " 7479.202758592788,\n",
       " 7479.1660218046945,\n",
       " 7435.413606574431,\n",
       " 7435.166874610106]"
      ]
     },
     "execution_count": 35,
     "metadata": {},
     "output_type": "execute_result"
    }
   ],
   "source": [
    "y"
   ]
  },
  {
   "cell_type": "code",
   "execution_count": 36,
   "id": "d85da412",
   "metadata": {},
   "outputs": [
    {
     "data": {
      "image/png": "[encoded data removed]",
      "text/plain": [
       "<Figure size 432x288 with 1 Axes>"
      ]
     },
     "metadata": {
      "needs_background": "light"
     },
     "output_type": "display_data"
    }
   ],
   "source": [
    "%matplotlib inline\n",
    "from matplotlib import pyplot as plt\n",
    "plt.rcParams[\"font.family\"] = 'AppleGothic'\n",
    "plt.rcParams[\"font.size\"] = 10\n",
    "plt.rcParams[\"figure.figsize\"] = (6, 4)\n",
    "plt.boxplot([df_twt['rank'], df_twt_non['rank'], \n",
    "             df_twt_mean['rank'], df_twt_non_mean['rank'],\n",
    "            df_twt_med['rank'], df_twt_non_med['rank']])  \n",
    "plt.xticks(range(1,7), x, rotation = 90)\n",
    "plt.show()"
   ]
  },
  {
   "cell_type": "markdown",
   "id": "c6da5a03",
   "metadata": {},
   "source": [
    "## 2-5. Independent sample t-test: Statistical significance\n",
    "\n",
    "The T-test is a test about a statistical comparison of the means of two independent samples, as you know.  \n",
    "_I don't think the statistical significance is not significant for this, especially with little size data. The data size is so little so we can't discuss Gaussian distribution or etc. But I think it's meaningful just to check even if it's not used somewhere._\n",
    "\n",
    "\"This test assumes that the populations have identical variances by default.\". If they have a significant difference in group average, the values tell us. \n",
    "\n",
    "What I was wondering about was which one I have to use among these, df_twt, avg_twt, med_twt.  \n",
    "First, I think the df_twt and df_twt_non have a critical problem in that there are multiple characters a single user has. It can't be a real answer to the question of meaning(intention).\n",
    "Second, the average of each player(not single character single user) rank has problems also. It can't convince that itself represents the user. \n",
    "Third, I think the median is not bad but there is a tendency to add or subtract the existence of other details.\n",
    "\n",
    "I used the second one(average of each player) but, I would be grateful if I can get advice about this. 😚\n",
    "\n",
    "### 2-5-1. variances checking"
   ]
  },
  {
   "cell_type": "code",
   "execution_count": 37,
   "id": "3e876636",
   "metadata": {},
   "outputs": [],
   "source": [
    "# The numpy float print setting is dead X-(\n",
    "import numpy as np\n",
    "np.set_printoptions(precision=5, floatmode = 'fixed')"
   ]
  },
  {
   "cell_type": "code",
   "execution_count": 38,
   "id": "29570b10",
   "metadata": {},
   "outputs": [
    {
     "name": "stdout",
     "output_type": "stream",
     "text": [
      "variances in whole dataframe: 19303429.56974483, 18462760.2480317\n",
      "variances in the rank mean by account: rank   15,190,904.77\n",
      "dtype: float64, rank   15,195,802.16\n",
      "dtype: float64\n",
      "variances in the rank median by account: rank   15,972,641.27\n",
      "dtype: float64, rank   15,974,673.08\n",
      "dtype: float64\n"
     ]
    }
   ],
   "source": [
    "# variance checking\n",
    "\n",
    "print(\"variances in whole dataframe: {}, {}\".format(np.var(df_twt['rank']), np.var(df_twt_non['rank'])))\n",
    "print(\"variances in the rank mean by account: {}, {}\".format(np.var(df_twt_mean), np.var(df_twt_non_mean)))\n",
    "print(\"variances in the rank median by account: {}, {}\".format(np.var(df_twt_med), np.var(df_twt_non_med)))"
   ]
  },
  {
   "cell_type": "markdown",
   "id": "168453c4",
   "metadata": {},
   "source": [
    "### 2-5-2. normality test: KS test \n"
   ]
  },
  {
   "cell_type": "code",
   "execution_count": 39,
   "id": "ffb2ee02",
   "metadata": {},
   "outputs": [
    {
     "name": "stdout",
     "output_type": "stream",
     "text": [
      "KstestResult(statistic=0.9994775312121547, pvalue=0.0)\n",
      "KstestResult(statistic=0.9998763239739181, pvalue=0.0)\n",
      "\n",
      "KstestResult(statistic=0.9998959742003222, pvalue=0.0)\n",
      "KstestResult(statistic=0.9998960282790279, pvalue=0.0)\n",
      "\n",
      "KstestResult(statistic=0.9998959742003222, pvalue=0.0)\n",
      "KstestResult(statistic=0.9998960282790279, pvalue=0.0)\n"
     ]
    }
   ],
   "source": [
    "from scipy.stats import *\n",
    "print(kstest(df_twt['rank'], 'norm'))\n",
    "print(kstest(df_twt_non['rank'], 'norm'))\n",
    "print('')\n",
    "print(kstest(df_twt_mean['rank'], 'norm'))\n",
    "print(kstest(df_twt_non_mean['rank'], 'norm'))\n",
    "print('')\n",
    "print(kstest(df_twt_med['rank'], 'norm'))\n",
    "print(kstest(df_twt_non_med['rank'], 'norm'))"
   ]
  },
  {
   "cell_type": "markdown",
   "id": "bb701c7d",
   "metadata": {},
   "source": [
    "### 2-5-3. Considering Homogeneity of Variance Test"
   ]
  },
  {
   "cell_type": "code",
   "execution_count": 40,
   "id": "bc68a30f",
   "metadata": {},
   "outputs": [
    {
     "name": "stdout",
     "output_type": "stream",
     "text": [
      "LeveneResult(statistic=22.271981900489976, pvalue=2.3716901628493167e-06)\n",
      "BartlettResult(statistic=11.850947768416344, pvalue=0.0005763200659926761)\n",
      "\n",
      "LeveneResult(statistic=0.00040361652506501846, pvalue=0.983971618548424)\n",
      "BartlettResult(statistic=0.00024964374952357447, pvalue=0.9873938537758158)\n",
      "\n",
      "LeveneResult(statistic=0.0002992858445764835, pvalue=0.9861975608831015)\n",
      "BartlettResult(statistic=3.885386317155406e-05, pvalue=0.9950265889794934)\n"
     ]
    }
   ],
   "source": [
    "print(levene(df_twt['rank'], df_twt_non['rank']))\n",
    "print(bartlett(df_twt['rank'], df_twt_non['rank']))\n",
    "print('')\n",
    "print(levene(df_twt_mean['rank'], df_twt_non_mean['rank']))\n",
    "print(bartlett(df_twt_mean['rank'], df_twt_non_mean['rank']))\n",
    "print('')\n",
    "print(levene(df_twt_med['rank'], df_twt_non_med['rank']))\n",
    "print(bartlett(df_twt_med['rank'], df_twt_non_med['rank']))"
   ]
  },
  {
   "cell_type": "markdown",
   "id": "42b7dff4",
   "metadata": {},
   "source": [
    "```\n",
    "#p-value가 유의수준 0.05보다 크기 때문에 귀무가설을 기각하지 않는다\n",
    "#따라서 두 집단의 데이터는 등분산성을 만족한다고 볼 수 있음. \n",
    "#등분산성을 만족하지 못하는 2개의 그룹에 대한 ttest_ind()에는 equal_var=False 옵션을 추가.\n",
    "```\n",
    "\n",
    "The p-value is not under 0.05(except in the case of all id's rank at Bartlett's test), so we can say that they have homogeneity of variance.  \n",
    "And I checked the case of all id's rank by setting the parameter `'equal_variance'` to `True` and `False` both.\n",
    "\n",
    "### 2-5-4.  t-test_indepedance()\n",
    "\n",
    "Do t-test with Twitch streamers and not streaming players. "
   ]
  },
  {
   "cell_type": "code",
   "execution_count": 41,
   "id": "e7917451",
   "metadata": {},
   "outputs": [
    {
     "name": "stdout",
     "output_type": "stream",
     "text": [
      "# Just simply comparing the rank average\n",
      "Ttest_indResult(statistic=-13.636081539111808, pvalue=2.8271000933615483e-42)\n",
      "Ttest_indResult(statistic=-13.498655643209066, pvalue=2.1307871650784414e-41)\n",
      "# If we compare the rank average= by account(player)\n",
      "Ttest_indResult(statistic=0.0006534655435172884, pvalue=0.9994786167475699)\n",
      "# If we compare the rank =medium= by account(player)\n",
      "Ttest_indResult(statistic=0.004280274013197037, pvalue=0.996584890278238)\n"
     ]
    }
   ],
   "source": [
    "print('# Just simply comparing the rank average')\n",
    "print(ttest_ind(df_twt['rank'], df_twt_non['rank'], equal_var = True))\n",
    "print(ttest_ind(df_twt['rank'], df_twt_non['rank'], equal_var = False))\n",
    "print('# If we compare the rank average= by account(player)')\n",
    "print(ttest_ind(df_twt_mean['rank'], df_twt_non_mean['rank'], equal_var = True))\n",
    "print('# If we compare the rank =medium= by account(player)')\n",
    "print(ttest_ind(df_twt_med['rank'], df_twt_non_med['rank'], equal_var = True))"
   ]
  },
  {
   "cell_type": "markdown",
   "id": "8c32889a",
   "metadata": {},
   "source": [
    "The null hypothesis is selected because the p-value is greater than 0.05.  \n",
    "That is, statistically, the difference between the two groups is meaningless.  "
   ]
  },
  {
   "cell_type": "markdown",
   "id": "7388bcd8",
   "metadata": {},
   "source": [
    "##### Confidence interval \n",
    "\n",
    "_code reference: https://jae-eun-ai.tistory.com/48_"
   ]
  },
  {
   "cell_type": "code",
   "execution_count": 42,
   "id": "10f7bc22",
   "metadata": {},
   "outputs": [
    {
     "data": {
      "text/plain": [
       "(7101.554355828221, 7034.098896993528, 7169.009814662913)"
      ]
     },
     "execution_count": 42,
     "metadata": {},
     "output_type": "execute_result"
    }
   ],
   "source": [
    "from numpy import array, mean\n",
    "from scipy.stats import sem, t\n",
    "def mean_confidence_interval(data, confidence=.95):\n",
    "    a = 1.0 * array(data)\n",
    "    n = len(a)\n",
    "    m,se = mean(a),sem(a)\n",
    "    h = se*t._ppf((1 + confidence) / 2, n-1)\n",
    "    return m, m-h, m+h\n",
    "\n",
    "mean_confidence_interval(df_twt['rank'])"
   ]
  },
  {
   "cell_type": "code",
   "execution_count": 43,
   "id": "24df023a",
   "metadata": {},
   "outputs": [
    {
     "data": {
      "text/plain": [
       "(7643.018308952065, 7602.626927978956, 7683.4096899251745)"
      ]
     },
     "execution_count": 43,
     "metadata": {},
     "output_type": "execute_result"
    }
   ],
   "source": [
    "mean_confidence_interval(df_twt_non['rank'])"
   ]
  },
  {
   "cell_type": "markdown",
   "id": "b7bd7b2b",
   "metadata": {},
   "source": [
    "## Result: Answer is \"Well...No...\"\n",
    "\n",
    "_I don't know how to make it better. I think it would be better if I could improve my ability to name 'variables'. XD_\n",
    "\n",
    "We can see their average rank of them by various methods. There's a difference in numbers obviously between the Twitch streamers and the non-streaming players.  \n",
    "\n",
    "But I'd like to say 'no'. It's not about the p-value. It must need bigger or more detailed data if we discuss this, I think. "
   ]
  },
  {
   "cell_type": "markdown",
   "id": "059bd914",
   "metadata": {},
   "source": [
    "# 3. A case when we were Necromancer\n",
    "---\n",
    "##### Q3. Predict the chance to be in the top 30 in each division, if we are Necromancer. With and without stream.\n",
    "\n",
    "Actually, I don't know exactly what 'stream' means, but I think it would be twitch streaming. So, I define it as all Necromancer characters and Necromancer characters with twitch streaming.  \n",
    "In this case, we can think of the question like this:  \n",
    "    1. simply get the percentage of Necromancer in the top 30 by ladder \n",
    "    2. get the percentage of Necromancers in the top 30 among the same classes by ladder\n",
    "    2. make a model with 'rank', 'class', 'ladder', 'twitch' columns and predict.\n",
    " \n",
    "\n",
    "##### Before the analysis, I should clarify this thing, meaning of each analysis (get numbers). This is very important I think.\n",
    "I thought about these things partially, what we can do with data, how, and the meaning of it, and the flaws.  \n",
    "I used the word 'hypothesis', which means when we use specific methods(values) for solving the problem correctly.  \n",
    "\n",
    "> In `3-1`, I got a percentage between classes in the top 30 characters.  \n",
    "This is just the percentage of classes in the top 30.  \n",
    "It means, we can answer what classes are in the top 30.  \n",
    "When we use this one, we need a hypothesis; we're so good that we can compete with the top 30 characters and out of the top 30 characters are no match for us. It's like a setting of a **competition between classes in the top 30**.  \n",
    "And I think when we use this, it's necessary for comparing the percentage of classes, in the top 30 ranks and around all ranks.  \n",
    "\n",
    "> I think top30 means pilots' league who is really good playing.  \n",
    "So in `3-2-1`, I got a percentage of the top 30 Necromancers among 'all Necromancers'.  \n",
    "This is divided top 30 Necromancers numbers by all Necromancers numbers.  \n",
    "It means, we can answer how many characters are playing best among all Necromancers.  \n",
    "In other words, when the number of characters in each job is the same, you can see how many top rankers there are in each job.\n",
    "And in other classes, I got the same ratio (`3-2-3`).  \n",
    "Because of the reason that each class has a different number of rankers so we can't simply compare like `3-1`. In the case of the question, I think we should compare the case of 'choice of class', rather than just the top 30.  \n",
    "The problem is, that this case needs a hypothesis; **all the classes have the same performance** and all of the pilots are almost equal in ability. (I was sure that everyone felt that this question assumed that all pilots are almost equally good at it.)   \n",
    "Furthermore, it is seriously affected by character numbers who are out of the rank 30.  \n",
    "I thought this method is most appropriate for the question and the probability can be drawn by comparing each percentage of classes.  \n",
    "Thus this method isn't perfect also, for solving the problem.  \n",
    "\n",
    "> In `3-2-2`, I got the percentage of the top 30 Necromancers among 'all characters'.  \n",
    "This is divided top 30 Necromancers numbers by all Necromancers numbers.  \n",
    "It means, we can answer how much Necromancer characters are playing best in all characters.  \n",
    "It seems worth it. But this method allows us to know **the best Necromancer percentages** except for comparison problems.  \n",
    "I think it's not appropriate to solve a problem on the assumption that 'if' we are a necromancer.  \n",
    "It needs a hypothesis; \n",
    " \n",
    " \n",
    "##### Before the steps, check the 'rank' column whether it includes null or not in 30. "
   ]
  },
  {
   "cell_type": "code",
   "execution_count": 44,
   "id": "751669c4",
   "metadata": {},
   "outputs": [
    {
     "data": {
      "text/plain": [
       "ladder\n",
       "Harbinger             30\n",
       "Hardcore Harbinger    30\n",
       "SSF Harbinger         30\n",
       "SSF Harbinger HC      30\n",
       "Name: rank, dtype: int64"
      ]
     },
     "execution_count": 44,
     "metadata": {},
     "output_type": "execute_result"
    }
   ],
   "source": [
    "# check the rank number in each ladder whether there is a null or not. \n",
    "\n",
    "df[df['rank']<=30].groupby('ladder')['rank'].nunique()"
   ]
  },
  {
   "cell_type": "markdown",
   "id": "c78cc3b2",
   "metadata": {},
   "source": [
    "## 3-1. Let's see what classes in top 30 and thier rate."
   ]
  },
  {
   "cell_type": "code",
   "execution_count": 45,
   "id": "ae1b418f",
   "metadata": {
    "scrolled": true
   },
   "outputs": [
    {
     "data": {
      "text/html": [
       "<div>\n",
       "<style scoped>\n",
       "    .dataframe tbody tr th:only-of-type {\n",
       "        vertical-align: middle;\n",
       "    }\n",
       "\n",
       "    .dataframe tbody tr th {\n",
       "        vertical-align: top;\n",
       "    }\n",
       "\n",
       "    .dataframe thead th {\n",
       "        text-align: right;\n",
       "    }\n",
       "</style>\n",
       "<table border=\"1\" class=\"dataframe\">\n",
       "  <thead>\n",
       "    <tr style=\"text-align: right;\">\n",
       "      <th>ladder</th>\n",
       "      <th>Harbinger</th>\n",
       "      <th>Hardcore Harbinger</th>\n",
       "      <th>SSF Harbinger</th>\n",
       "      <th>SSF Harbinger HC</th>\n",
       "    </tr>\n",
       "    <tr>\n",
       "      <th>class</th>\n",
       "      <th></th>\n",
       "      <th></th>\n",
       "      <th></th>\n",
       "      <th></th>\n",
       "    </tr>\n",
       "  </thead>\n",
       "  <tbody>\n",
       "    <tr>\n",
       "      <th>Ascendant</th>\n",
       "      <td>0</td>\n",
       "      <td>2</td>\n",
       "      <td>2</td>\n",
       "      <td>0</td>\n",
       "    </tr>\n",
       "    <tr>\n",
       "      <th>Berserker</th>\n",
       "      <td>2</td>\n",
       "      <td>1</td>\n",
       "      <td>3</td>\n",
       "      <td>0</td>\n",
       "    </tr>\n",
       "    <tr>\n",
       "      <th>Champion</th>\n",
       "      <td>1</td>\n",
       "      <td>2</td>\n",
       "      <td>0</td>\n",
       "      <td>2</td>\n",
       "    </tr>\n",
       "    <tr>\n",
       "      <th>Chieftain</th>\n",
       "      <td>0</td>\n",
       "      <td>1</td>\n",
       "      <td>1</td>\n",
       "      <td>1</td>\n",
       "    </tr>\n",
       "    <tr>\n",
       "      <th>Deadeye</th>\n",
       "      <td>1</td>\n",
       "      <td>2</td>\n",
       "      <td>0</td>\n",
       "      <td>0</td>\n",
       "    </tr>\n",
       "    <tr>\n",
       "      <th>Elementalist</th>\n",
       "      <td>1</td>\n",
       "      <td>0</td>\n",
       "      <td>1</td>\n",
       "      <td>0</td>\n",
       "    </tr>\n",
       "    <tr>\n",
       "      <th>Gladiator</th>\n",
       "      <td>1</td>\n",
       "      <td>4</td>\n",
       "      <td>3</td>\n",
       "      <td>3</td>\n",
       "    </tr>\n",
       "    <tr>\n",
       "      <th>Guardian</th>\n",
       "      <td>2</td>\n",
       "      <td>1</td>\n",
       "      <td>0</td>\n",
       "      <td>0</td>\n",
       "    </tr>\n",
       "    <tr>\n",
       "      <th>Hierophant</th>\n",
       "      <td>0</td>\n",
       "      <td>0</td>\n",
       "      <td>1</td>\n",
       "      <td>0</td>\n",
       "    </tr>\n",
       "    <tr>\n",
       "      <th>Inquisitor</th>\n",
       "      <td>4</td>\n",
       "      <td>3</td>\n",
       "      <td>1</td>\n",
       "      <td>2</td>\n",
       "    </tr>\n",
       "    <tr>\n",
       "      <th>Juggernaut</th>\n",
       "      <td>0</td>\n",
       "      <td>0</td>\n",
       "      <td>1</td>\n",
       "      <td>0</td>\n",
       "    </tr>\n",
       "    <tr>\n",
       "      <th>Necromancer</th>\n",
       "      <td>6</td>\n",
       "      <td>6</td>\n",
       "      <td>6</td>\n",
       "      <td>11</td>\n",
       "    </tr>\n",
       "    <tr>\n",
       "      <th>Occultist</th>\n",
       "      <td>2</td>\n",
       "      <td>2</td>\n",
       "      <td>0</td>\n",
       "      <td>0</td>\n",
       "    </tr>\n",
       "    <tr>\n",
       "      <th>Pathfinder</th>\n",
       "      <td>7</td>\n",
       "      <td>2</td>\n",
       "      <td>3</td>\n",
       "      <td>0</td>\n",
       "    </tr>\n",
       "    <tr>\n",
       "      <th>Raider</th>\n",
       "      <td>2</td>\n",
       "      <td>0</td>\n",
       "      <td>3</td>\n",
       "      <td>3</td>\n",
       "    </tr>\n",
       "    <tr>\n",
       "      <th>Saboteur</th>\n",
       "      <td>0</td>\n",
       "      <td>2</td>\n",
       "      <td>0</td>\n",
       "      <td>0</td>\n",
       "    </tr>\n",
       "    <tr>\n",
       "      <th>Slayer</th>\n",
       "      <td>1</td>\n",
       "      <td>2</td>\n",
       "      <td>3</td>\n",
       "      <td>6</td>\n",
       "    </tr>\n",
       "    <tr>\n",
       "      <th>Trickster</th>\n",
       "      <td>0</td>\n",
       "      <td>0</td>\n",
       "      <td>2</td>\n",
       "      <td>2</td>\n",
       "    </tr>\n",
       "  </tbody>\n",
       "</table>\n",
       "</div>"
      ],
      "text/plain": [
       "ladder        Harbinger  Hardcore Harbinger  SSF Harbinger  SSF Harbinger HC\n",
       "class                                                                       \n",
       "Ascendant             0                   2              2                 0\n",
       "Berserker             2                   1              3                 0\n",
       "Champion              1                   2              0                 2\n",
       "Chieftain             0                   1              1                 1\n",
       "Deadeye               1                   2              0                 0\n",
       "Elementalist          1                   0              1                 0\n",
       "Gladiator             1                   4              3                 3\n",
       "Guardian              2                   1              0                 0\n",
       "Hierophant            0                   0              1                 0\n",
       "Inquisitor            4                   3              1                 2\n",
       "Juggernaut            0                   0              1                 0\n",
       "Necromancer           6                   6              6                11\n",
       "Occultist             2                   2              0                 0\n",
       "Pathfinder            7                   2              3                 0\n",
       "Raider                2                   0              3                 3\n",
       "Saboteur              0                   2              0                 0\n",
       "Slayer                1                   2              3                 6\n",
       "Trickster             0                   0              2                 2"
      ]
     },
     "execution_count": 45,
     "metadata": {},
     "output_type": "execute_result"
    }
   ],
   "source": [
    "# in top 30 classes number \n",
    "\n",
    "df[df['rank'] <=30].pivot_table(columns = 'ladder', index = 'class',\n",
    "                                aggfunc = 'count', fill_value = 0)['id']"
   ]
  },
  {
   "cell_type": "markdown",
   "id": "439d17d8",
   "metadata": {},
   "source": [
    "### Percentage between classes in the top 30 characters"
   ]
  },
  {
   "cell_type": "code",
   "execution_count": 46,
   "id": "254976ab",
   "metadata": {
    "scrolled": true
   },
   "outputs": [
    {
     "data": {
      "text/html": [
       "<div>\n",
       "<style scoped>\n",
       "    .dataframe tbody tr th:only-of-type {\n",
       "        vertical-align: middle;\n",
       "    }\n",
       "\n",
       "    .dataframe tbody tr th {\n",
       "        vertical-align: top;\n",
       "    }\n",
       "\n",
       "    .dataframe thead th {\n",
       "        text-align: right;\n",
       "    }\n",
       "</style>\n",
       "<table border=\"1\" class=\"dataframe\">\n",
       "  <thead>\n",
       "    <tr style=\"text-align: right;\">\n",
       "      <th>ladder</th>\n",
       "      <th>Harbinger</th>\n",
       "      <th>Hardcore Harbinger</th>\n",
       "      <th>SSF Harbinger</th>\n",
       "      <th>SSF Harbinger HC</th>\n",
       "    </tr>\n",
       "    <tr>\n",
       "      <th>class</th>\n",
       "      <th></th>\n",
       "      <th></th>\n",
       "      <th></th>\n",
       "      <th></th>\n",
       "    </tr>\n",
       "  </thead>\n",
       "  <tbody>\n",
       "    <tr>\n",
       "      <th>Ascendant</th>\n",
       "      <td>0.00</td>\n",
       "      <td>6.67</td>\n",
       "      <td>6.67</td>\n",
       "      <td>0.00</td>\n",
       "    </tr>\n",
       "    <tr>\n",
       "      <th>Berserker</th>\n",
       "      <td>6.67</td>\n",
       "      <td>3.33</td>\n",
       "      <td>10.00</td>\n",
       "      <td>0.00</td>\n",
       "    </tr>\n",
       "    <tr>\n",
       "      <th>Champion</th>\n",
       "      <td>3.33</td>\n",
       "      <td>6.67</td>\n",
       "      <td>0.00</td>\n",
       "      <td>6.67</td>\n",
       "    </tr>\n",
       "    <tr>\n",
       "      <th>Chieftain</th>\n",
       "      <td>0.00</td>\n",
       "      <td>3.33</td>\n",
       "      <td>3.33</td>\n",
       "      <td>3.33</td>\n",
       "    </tr>\n",
       "    <tr>\n",
       "      <th>Deadeye</th>\n",
       "      <td>3.33</td>\n",
       "      <td>6.67</td>\n",
       "      <td>0.00</td>\n",
       "      <td>0.00</td>\n",
       "    </tr>\n",
       "    <tr>\n",
       "      <th>Elementalist</th>\n",
       "      <td>3.33</td>\n",
       "      <td>0.00</td>\n",
       "      <td>3.33</td>\n",
       "      <td>0.00</td>\n",
       "    </tr>\n",
       "    <tr>\n",
       "      <th>Gladiator</th>\n",
       "      <td>3.33</td>\n",
       "      <td>13.33</td>\n",
       "      <td>10.00</td>\n",
       "      <td>10.00</td>\n",
       "    </tr>\n",
       "    <tr>\n",
       "      <th>Guardian</th>\n",
       "      <td>6.67</td>\n",
       "      <td>3.33</td>\n",
       "      <td>0.00</td>\n",
       "      <td>0.00</td>\n",
       "    </tr>\n",
       "    <tr>\n",
       "      <th>Hierophant</th>\n",
       "      <td>0.00</td>\n",
       "      <td>0.00</td>\n",
       "      <td>3.33</td>\n",
       "      <td>0.00</td>\n",
       "    </tr>\n",
       "    <tr>\n",
       "      <th>Inquisitor</th>\n",
       "      <td>13.33</td>\n",
       "      <td>10.00</td>\n",
       "      <td>3.33</td>\n",
       "      <td>6.67</td>\n",
       "    </tr>\n",
       "    <tr>\n",
       "      <th>Juggernaut</th>\n",
       "      <td>0.00</td>\n",
       "      <td>0.00</td>\n",
       "      <td>3.33</td>\n",
       "      <td>0.00</td>\n",
       "    </tr>\n",
       "    <tr>\n",
       "      <th>Necromancer</th>\n",
       "      <td>20.00</td>\n",
       "      <td>20.00</td>\n",
       "      <td>20.00</td>\n",
       "      <td>36.67</td>\n",
       "    </tr>\n",
       "    <tr>\n",
       "      <th>Occultist</th>\n",
       "      <td>6.67</td>\n",
       "      <td>6.67</td>\n",
       "      <td>0.00</td>\n",
       "      <td>0.00</td>\n",
       "    </tr>\n",
       "    <tr>\n",
       "      <th>Pathfinder</th>\n",
       "      <td>23.33</td>\n",
       "      <td>6.67</td>\n",
       "      <td>10.00</td>\n",
       "      <td>0.00</td>\n",
       "    </tr>\n",
       "    <tr>\n",
       "      <th>Raider</th>\n",
       "      <td>6.67</td>\n",
       "      <td>0.00</td>\n",
       "      <td>10.00</td>\n",
       "      <td>10.00</td>\n",
       "    </tr>\n",
       "    <tr>\n",
       "      <th>Saboteur</th>\n",
       "      <td>0.00</td>\n",
       "      <td>6.67</td>\n",
       "      <td>0.00</td>\n",
       "      <td>0.00</td>\n",
       "    </tr>\n",
       "    <tr>\n",
       "      <th>Slayer</th>\n",
       "      <td>3.33</td>\n",
       "      <td>6.67</td>\n",
       "      <td>10.00</td>\n",
       "      <td>20.00</td>\n",
       "    </tr>\n",
       "    <tr>\n",
       "      <th>Trickster</th>\n",
       "      <td>0.00</td>\n",
       "      <td>0.00</td>\n",
       "      <td>6.67</td>\n",
       "      <td>6.67</td>\n",
       "    </tr>\n",
       "  </tbody>\n",
       "</table>\n",
       "</div>"
      ],
      "text/plain": [
       "ladder        Harbinger  Hardcore Harbinger  SSF Harbinger  SSF Harbinger HC\n",
       "class                                                                       \n",
       "Ascendant          0.00                6.67           6.67              0.00\n",
       "Berserker          6.67                3.33          10.00              0.00\n",
       "Champion           3.33                6.67           0.00              6.67\n",
       "Chieftain          0.00                3.33           3.33              3.33\n",
       "Deadeye            3.33                6.67           0.00              0.00\n",
       "Elementalist       3.33                0.00           3.33              0.00\n",
       "Gladiator          3.33               13.33          10.00             10.00\n",
       "Guardian           6.67                3.33           0.00              0.00\n",
       "Hierophant         0.00                0.00           3.33              0.00\n",
       "Inquisitor        13.33               10.00           3.33              6.67\n",
       "Juggernaut         0.00                0.00           3.33              0.00\n",
       "Necromancer       20.00               20.00          20.00             36.67\n",
       "Occultist          6.67                6.67           0.00              0.00\n",
       "Pathfinder        23.33                6.67          10.00              0.00\n",
       "Raider             6.67                0.00          10.00             10.00\n",
       "Saboteur           0.00                6.67           0.00              0.00\n",
       "Slayer             3.33                6.67          10.00             20.00\n",
       "Trickster          0.00                0.00           6.67              6.67"
      ]
     },
     "execution_count": 46,
     "metadata": {},
     "output_type": "execute_result"
    }
   ],
   "source": [
    "# in top 30 classes ratio \n",
    "\n",
    "df[df['rank'] <=30].pivot_table(columns = 'ladder', index = 'class',\n",
    "                                aggfunc = 'count', fill_value = 0)['id'] / 30*100"
   ]
  },
  {
   "cell_type": "markdown",
   "id": "ccfb4cb1",
   "metadata": {},
   "source": [
    "### visualization to pie chart (graph 3-1)"
   ]
  },
  {
   "cell_type": "code",
   "execution_count": 47,
   "id": "fffe1a63",
   "metadata": {
    "scrolled": true
   },
   "outputs": [
    {
     "data": {
      "image/png": "[encoded data removed]",
      "text/plain": [
       "<Figure size 864x864 with 4 Axes>"
      ]
     },
     "metadata": {},
     "output_type": "display_data"
    }
   ],
   "source": [
    "# make for repeatation for visualization\n",
    "df_30pi = df[df['rank'] <=30].pivot_table(columns = 'ladder', index = 'class',\n",
    "                                aggfunc = 'count', fill_value = 0)['id'] / 30*100\n",
    "# ratio list making : each ladder\n",
    "ratio_list = []\n",
    "for i in list(df_30pi.columns):\n",
    "    ratio = df_30pi[i]\n",
    "    ratio_list.append(ratio)\n",
    "\n",
    "# use ratio and labels to plt code\n",
    "labels = df_30pi.index\n",
    "wedgeprops={'width': 0.7, 'edgecolor': 'w', 'linewidth': 5}\n",
    "fig, ax = plt.subplots(2, 2, squeeze=True, figsize = (12, 12))\n",
    "plt.subplot(2,2,1)\n",
    "plt.pie(ratio_list[0], labels=labels, autopct='%.2f%%', startangle=90, counterclock=False, wedgeprops=wedgeprops, pctdistance=0.9)\n",
    "plt.subplot(2,2,2)\n",
    "plt.pie(ratio_list[1], labels=labels, autopct='%.2f%%', startangle=90, counterclock=False, wedgeprops=wedgeprops, pctdistance=0.9)\n",
    "plt.subplot(2,2,3)\n",
    "plt.pie(ratio_list[2], labels=labels, autopct='%.2f%%', startangle=90, counterclock=False, wedgeprops=wedgeprops, pctdistance=0.9)\n",
    "plt.subplot(2,2,4)\n",
    "plt.pie(ratio_list[3], labels=labels, autopct='%.2f%%', startangle=90, counterclock=False, wedgeprops=wedgeprops, pctdistance=0.9)\n",
    "\n",
    "# set the each pie chart title\n",
    "ax[0, 0].set_title(\"{} mode\".format(list(df_30pi.columns)[0]))\n",
    "ax[0, 1].set_title(\"{} mode\".format(list(df_30pi.columns)[1]))\n",
    "ax[1, 0].set_title(\"{} mode\".format(list(df_30pi.columns)[2]))\n",
    "ax[1, 1].set_title(\"{} mode\".format(list(df_30pi.columns)[3]))\n",
    "fig.tight_layout()\n",
    "plt.axis('equal')\n",
    "plt.show()"
   ]
  },
  {
   "cell_type": "markdown",
   "id": "0efeb73b",
   "metadata": {},
   "source": [
    "This poor chart took a quite long time. I wanted to delete the 0% (don't need information) classes but...\n",
    "\n",
    "Necromancers take 20% in the top 30 except SSF Harbinger HC mode.  \n",
    "In SSF Harbinger HC mode, Necromancers take 36.67% in the top 30. \n"
   ]
  },
  {
   "cell_type": "markdown",
   "id": "80f95c68",
   "metadata": {},
   "source": [
    "## 3-2. not care of stream \n",
    "---\n",
    "\n",
    "### the Necromancers (graph 3-2)"
   ]
  },
  {
   "cell_type": "code",
   "execution_count": 48,
   "id": "66eab479",
   "metadata": {},
   "outputs": [],
   "source": [
    "# define\n",
    "\n",
    "df_Nec = df[(df['class'] == 'Necromancer')]\n",
    "df_Nec30 = df_Nec[df_Nec['rank']<=30]"
   ]
  },
  {
   "cell_type": "code",
   "execution_count": 49,
   "id": "6b92f0e8",
   "metadata": {},
   "outputs": [
    {
     "data": {
      "image/png": "[encoded data removed]",
      "text/plain": [
       "<Figure size 288x432 with 1 Axes>"
      ]
     },
     "metadata": {
      "needs_background": "light"
     },
     "output_type": "display_data"
    }
   ],
   "source": [
    "# Necromancers rank boxplot by ladder \n",
    "\n",
    "plt.figure(figsize=(4,6))\n",
    "plt.xticks(rotation=45, fontsize=10)\n",
    "sns.boxplot(data = df_Nec, x = 'ladder', y = 'rank')\n",
    "plt.show()"
   ]
  },
  {
   "cell_type": "code",
   "execution_count": 50,
   "id": "7182feea",
   "metadata": {},
   "outputs": [
    {
     "data": {
      "text/plain": [
       "ladder\n",
       "Harbinger             1207\n",
       "Hardcore Harbinger    2099\n",
       "SSF Harbinger         1716\n",
       "SSF Harbinger HC      2055\n",
       "Name: id, dtype: int64"
      ]
     },
     "execution_count": 50,
     "metadata": {},
     "output_type": "execute_result"
    }
   ],
   "source": [
    "# All Necromancers number by ladder\n",
    "\n",
    "df_Nec.groupby('ladder')['id'].count()"
   ]
  },
  {
   "cell_type": "code",
   "execution_count": 51,
   "id": "eb4545a9",
   "metadata": {},
   "outputs": [
    {
     "data": {
      "text/plain": [
       "ladder\n",
       "Harbinger              6\n",
       "Hardcore Harbinger     6\n",
       "SSF Harbinger          6\n",
       "SSF Harbinger HC      11\n",
       "Name: id, dtype: int64"
      ]
     },
     "execution_count": 51,
     "metadata": {},
     "output_type": "execute_result"
    }
   ],
   "source": [
    "# Necromancers number Who are in top 30 by ladder\n",
    "\n",
    "df_Nec30.groupby('ladder')['id'].count()"
   ]
  },
  {
   "cell_type": "markdown",
   "id": "c4c34b18",
   "metadata": {},
   "source": [
    "And make sure there is no problem with `df_Nec30`."
   ]
  },
  {
   "cell_type": "code",
   "execution_count": 52,
   "id": "8d3659d0",
   "metadata": {},
   "outputs": [
    {
     "data": {
      "text/html": [
       "<div>\n",
       "<style scoped>\n",
       "    .dataframe tbody tr th:only-of-type {\n",
       "        vertical-align: middle;\n",
       "    }\n",
       "\n",
       "    .dataframe tbody tr th {\n",
       "        vertical-align: top;\n",
       "    }\n",
       "\n",
       "    .dataframe thead th {\n",
       "        text-align: right;\n",
       "    }\n",
       "</style>\n",
       "<table border=\"1\" class=\"dataframe\">\n",
       "  <thead>\n",
       "    <tr style=\"text-align: right;\">\n",
       "      <th></th>\n",
       "      <th>rank</th>\n",
       "      <th>dead</th>\n",
       "      <th>online</th>\n",
       "      <th>name</th>\n",
       "      <th>level</th>\n",
       "      <th>class</th>\n",
       "      <th>id</th>\n",
       "      <th>experience</th>\n",
       "      <th>account</th>\n",
       "      <th>challenges</th>\n",
       "      <th>twitch</th>\n",
       "    </tr>\n",
       "    <tr>\n",
       "      <th>ladder</th>\n",
       "      <th></th>\n",
       "      <th></th>\n",
       "      <th></th>\n",
       "      <th></th>\n",
       "      <th></th>\n",
       "      <th></th>\n",
       "      <th></th>\n",
       "      <th></th>\n",
       "      <th></th>\n",
       "      <th></th>\n",
       "      <th></th>\n",
       "    </tr>\n",
       "  </thead>\n",
       "  <tbody>\n",
       "    <tr>\n",
       "      <th>Harbinger</th>\n",
       "      <td>6</td>\n",
       "      <td>1</td>\n",
       "      <td>1</td>\n",
       "      <td>6</td>\n",
       "      <td>1</td>\n",
       "      <td>1</td>\n",
       "      <td>6</td>\n",
       "      <td>1</td>\n",
       "      <td>6</td>\n",
       "      <td>4</td>\n",
       "      <td>6</td>\n",
       "    </tr>\n",
       "    <tr>\n",
       "      <th>Hardcore Harbinger</th>\n",
       "      <td>6</td>\n",
       "      <td>1</td>\n",
       "      <td>1</td>\n",
       "      <td>6</td>\n",
       "      <td>1</td>\n",
       "      <td>1</td>\n",
       "      <td>6</td>\n",
       "      <td>1</td>\n",
       "      <td>6</td>\n",
       "      <td>6</td>\n",
       "      <td>5</td>\n",
       "    </tr>\n",
       "    <tr>\n",
       "      <th>SSF Harbinger</th>\n",
       "      <td>6</td>\n",
       "      <td>1</td>\n",
       "      <td>1</td>\n",
       "      <td>6</td>\n",
       "      <td>3</td>\n",
       "      <td>1</td>\n",
       "      <td>6</td>\n",
       "      <td>4</td>\n",
       "      <td>6</td>\n",
       "      <td>5</td>\n",
       "      <td>2</td>\n",
       "    </tr>\n",
       "    <tr>\n",
       "      <th>SSF Harbinger HC</th>\n",
       "      <td>11</td>\n",
       "      <td>2</td>\n",
       "      <td>2</td>\n",
       "      <td>11</td>\n",
       "      <td>3</td>\n",
       "      <td>1</td>\n",
       "      <td>11</td>\n",
       "      <td>6</td>\n",
       "      <td>11</td>\n",
       "      <td>9</td>\n",
       "      <td>7</td>\n",
       "    </tr>\n",
       "  </tbody>\n",
       "</table>\n",
       "</div>"
      ],
      "text/plain": [
       "                    rank  dead  online  name  level  class  id  experience  \\\n",
       "ladder                                                                       \n",
       "Harbinger              6     1       1     6      1      1   6           1   \n",
       "Hardcore Harbinger     6     1       1     6      1      1   6           1   \n",
       "SSF Harbinger          6     1       1     6      3      1   6           4   \n",
       "SSF Harbinger HC      11     2       2    11      3      1  11           6   \n",
       "\n",
       "                    account  challenges  twitch  \n",
       "ladder                                           \n",
       "Harbinger                 6           4       6  \n",
       "Hardcore Harbinger        6           6       5  \n",
       "SSF Harbinger             6           5       2  \n",
       "SSF Harbinger HC         11           9       7  "
      ]
     },
     "execution_count": 52,
     "metadata": {},
     "output_type": "execute_result"
    }
   ],
   "source": [
    "# Necromancers Who are in top 30 by ladder unique values\n",
    "\n",
    "df_Nec30.groupby(by = 'ladder').nunique()"
   ]
  },
  {
   "cell_type": "markdown",
   "id": "4030b2a5",
   "metadata": {},
   "source": [
    "### 3-2-1. percentage of the top 30 Necromancer among 'the all Necromancers'"
   ]
  },
  {
   "cell_type": "code",
   "execution_count": 53,
   "id": "2ce8bde0",
   "metadata": {},
   "outputs": [
    {
     "data": {
      "text/plain": [
       "ladder\n",
       "Harbinger            0.50\n",
       "Hardcore Harbinger   0.29\n",
       "SSF Harbinger        0.35\n",
       "SSF Harbinger HC     0.54\n",
       "Name: id, dtype: float64"
      ]
     },
     "execution_count": 53,
     "metadata": {},
     "output_type": "execute_result"
    }
   ],
   "source": [
    "# Necromancers Who are in top 30 among all Necromancers by ladder\n",
    "\n",
    "df_Nec30.groupby('ladder')['id'].count() / df_Nec.groupby('ladder')['id'].count() * 100"
   ]
  },
  {
   "cell_type": "markdown",
   "id": "90f9256e",
   "metadata": {},
   "source": [
    "### 3-2-2. percentage of the top 30 Necromancer among 'the all characters'"
   ]
  },
  {
   "cell_type": "code",
   "execution_count": 54,
   "id": "97751478",
   "metadata": {},
   "outputs": [
    {
     "data": {
      "text/plain": [
       "ladder\n",
       "Harbinger            0.04\n",
       "Hardcore Harbinger   0.04\n",
       "SSF Harbinger        0.04\n",
       "SSF Harbinger HC     0.07\n",
       "Name: id, dtype: float64"
      ]
     },
     "execution_count": 54,
     "metadata": {},
     "output_type": "execute_result"
    }
   ],
   "source": [
    "# Necromancers who are in top 30 among all characters by ladder\n",
    "\n",
    "df_Nec30.groupby('ladder')['id'].count() / df.groupby('ladder')['id'].count() * 100"
   ]
  },
  {
   "cell_type": "code",
   "execution_count": 55,
   "id": "d16906b7",
   "metadata": {},
   "outputs": [
    {
     "data": {
      "text/plain": [
       "pandas.core.series.Series"
      ]
     },
     "execution_count": 55,
     "metadata": {},
     "output_type": "execute_result"
    }
   ],
   "source": [
    "type(df_Nec30.groupby('ladder')['id'].count() / df.groupby('ladder')['id'].count() * 100)"
   ]
  },
  {
   "cell_type": "markdown",
   "id": "cdfe6f29",
   "metadata": {},
   "source": [
    "### 3-2-3 percentage of each class's top 30 characters among each class (graph 3-3)\n",
    "\" classes who are in top 30 among all class-itself by ladder \"\n",
    "\n",
    "If you select a particular class, what is the probability that the particular class will be in the top 30?  \n",
    "I want to get the number of 'the class' in the top 30 and the number of all 'the classes'. (like 3-2-1.)"
   ]
  },
  {
   "cell_type": "code",
   "execution_count": 56,
   "id": "2bec473b",
   "metadata": {},
   "outputs": [
    {
     "name": "stdout",
     "output_type": "stream",
     "text": [
      "# Necromancer : top 30 ratio(%) in each class by ladder\n",
      "ladder\n",
      "Harbinger            0.50\n",
      "Hardcore Harbinger   0.29\n",
      "SSF Harbinger        0.35\n",
      "SSF Harbinger HC     0.54\n",
      "Name: id, dtype: float64\n",
      "==========================================\n",
      "# Slayer : top 30 ratio(%) in each class by ladder\n",
      "ladder\n",
      "Harbinger            0.06\n",
      "Hardcore Harbinger   0.15\n",
      "SSF Harbinger        0.23\n",
      "SSF Harbinger HC     0.53\n",
      "Name: id, dtype: float64\n",
      "==========================================\n",
      "# Deadeye : top 30 ratio(%) in each class by ladder\n",
      "ladder\n",
      "Harbinger            1.27\n",
      "Hardcore Harbinger   1.20\n",
      "SSF Harbinger         NaN\n",
      "SSF Harbinger HC      NaN\n",
      "Name: id, dtype: float64\n",
      "==========================================\n",
      "# Gladiator : top 30 ratio(%) in each class by ladder\n",
      "ladder\n",
      "Harbinger            0.15\n",
      "Hardcore Harbinger   0.29\n",
      "SSF Harbinger        0.23\n",
      "SSF Harbinger HC     0.19\n",
      "Name: id, dtype: float64\n",
      "==========================================\n",
      "# Inquisitor : top 30 ratio(%) in each class by ladder\n",
      "ladder\n",
      "Harbinger            0.72\n",
      "Hardcore Harbinger   0.36\n",
      "SSF Harbinger        0.11\n",
      "SSF Harbinger HC     0.19\n",
      "Name: id, dtype: float64\n",
      "==========================================\n",
      "# Raider : top 30 ratio(%) in each class by ladder\n",
      "ladder\n",
      "Harbinger            0.10\n",
      "Hardcore Harbinger    NaN\n",
      "SSF Harbinger        0.20\n",
      "SSF Harbinger HC     0.36\n",
      "Name: id, dtype: float64\n",
      "==========================================\n",
      "# Champion : top 30 ratio(%) in each class by ladder\n",
      "ladder\n",
      "Harbinger            0.79\n",
      "Hardcore Harbinger   0.41\n",
      "SSF Harbinger         NaN\n",
      "SSF Harbinger HC     0.59\n",
      "Name: id, dtype: float64\n",
      "==========================================\n",
      "# Occultist : top 30 ratio(%) in each class by ladder\n",
      "ladder\n",
      "Harbinger            1.32\n",
      "Hardcore Harbinger   0.66\n",
      "SSF Harbinger         NaN\n",
      "SSF Harbinger HC      NaN\n",
      "Name: id, dtype: float64\n",
      "==========================================\n",
      "# Pathfinder : top 30 ratio(%) in each class by ladder\n",
      "ladder\n",
      "Harbinger            0.20\n",
      "Hardcore Harbinger   0.48\n",
      "SSF Harbinger        1.27\n",
      "SSF Harbinger HC      NaN\n",
      "Name: id, dtype: float64\n",
      "==========================================\n",
      "# Elementalist : top 30 ratio(%) in each class by ladder\n",
      "ladder\n",
      "Harbinger            0.52\n",
      "Hardcore Harbinger    NaN\n",
      "SSF Harbinger        0.18\n",
      "SSF Harbinger HC      NaN\n",
      "Name: id, dtype: float64\n",
      "==========================================\n",
      "# Chieftain : top 30 ratio(%) in each class by ladder\n",
      "ladder\n",
      "Harbinger             NaN\n",
      "Hardcore Harbinger   0.14\n",
      "SSF Harbinger        0.22\n",
      "SSF Harbinger HC     0.14\n",
      "Name: id, dtype: float64\n",
      "==========================================\n",
      "# Hierophant : top 30 ratio(%) in each class by ladder\n",
      "ladder\n",
      "Harbinger             NaN\n",
      "Hardcore Harbinger    NaN\n",
      "SSF Harbinger        0.18\n",
      "SSF Harbinger HC      NaN\n",
      "Name: id, dtype: float64\n",
      "==========================================\n",
      "# Ascendant : top 30 ratio(%) in each class by ladder\n",
      "ladder\n",
      "Harbinger             NaN\n",
      "Hardcore Harbinger   0.17\n",
      "SSF Harbinger        0.20\n",
      "SSF Harbinger HC      NaN\n",
      "Name: id, dtype: float64\n",
      "==========================================\n",
      "# Trickster : top 30 ratio(%) in each class by ladder\n",
      "ladder\n",
      "Harbinger             NaN\n",
      "Hardcore Harbinger    NaN\n",
      "SSF Harbinger        0.21\n",
      "SSF Harbinger HC     0.19\n",
      "Name: id, dtype: float64\n",
      "==========================================\n",
      "# Guardian : top 30 ratio(%) in each class by ladder\n",
      "ladder\n",
      "Harbinger            0.57\n",
      "Hardcore Harbinger   0.15\n",
      "SSF Harbinger         NaN\n",
      "SSF Harbinger HC      NaN\n",
      "Name: id, dtype: float64\n",
      "==========================================\n",
      "# Berserker : top 30 ratio(%) in each class by ladder\n",
      "ladder\n",
      "Harbinger            0.07\n",
      "Hardcore Harbinger   0.05\n",
      "SSF Harbinger        0.13\n",
      "SSF Harbinger HC      NaN\n",
      "Name: id, dtype: float64\n",
      "==========================================\n",
      "# Juggernaut : top 30 ratio(%) in each class by ladder\n",
      "ladder\n",
      "Harbinger             NaN\n",
      "Hardcore Harbinger    NaN\n",
      "SSF Harbinger        0.23\n",
      "SSF Harbinger HC      NaN\n",
      "Name: id, dtype: float64\n",
      "==========================================\n",
      "# Saboteur : top 30 ratio(%) in each class by ladder\n",
      "ladder\n",
      "Harbinger             NaN\n",
      "Hardcore Harbinger   0.66\n",
      "SSF Harbinger         NaN\n",
      "SSF Harbinger HC      NaN\n",
      "Name: id, dtype: float64\n",
      "==========================================\n"
     ]
    }
   ],
   "source": [
    "# classes who are in top 30 among each classes by ladder\n",
    "# we exceptd the classes what is not in top30\n",
    "\n",
    "classes = list(df[df['rank'] <= 30]['class'].unique())\n",
    "\n",
    "for i in classes:\n",
    "    df_bin = df[df['class'] == i]\n",
    "    df_bin30 = df_bin[df_bin['rank']<=30]\n",
    "    ser = df_bin30.groupby('ladder')['id'].count() / df_bin.groupby('ladder')['id'].count() * 100\n",
    "    print(\"# {} : top 30 ratio(%) in each class by ladder\".format(i))\n",
    "    print(ser)\n",
    "    print(\"==========================================\")\n",
    "    if i == classes[0]:\n",
    "        ser1 = ser\n",
    "    elif i == classes[1]:\n",
    "        ser2 = ser\n",
    "        concatingdf = pd.concat([ser1, ser2], axis=1, ignore_index=True)\n",
    "    else:\n",
    "        ser2 = ser\n",
    "        concatingdf = pd.concat([concatingdf, ser2], axis=1, ignore_index=True)"
   ]
  },
  {
   "cell_type": "code",
   "execution_count": 57,
   "id": "62f2c9e8",
   "metadata": {
    "scrolled": true
   },
   "outputs": [
    {
     "data": {
      "text/plain": [
       "RangeIndex(start=0, stop=18, step=1)"
      ]
     },
     "execution_count": 57,
     "metadata": {},
     "output_type": "execute_result"
    }
   ],
   "source": [
    "concatingdf.columns"
   ]
  },
  {
   "cell_type": "markdown",
   "id": "3350b9b5",
   "metadata": {},
   "source": [
    "And the `concatingdf`, which was made during running the 'for'repeatation, has each class ratio, so we unbox this to a normal data frame.\n",
    "\n",
    "Then, rename the columns by listing` classes`.   \n",
    "\n",
    "_Of course, there is a more simple solution with rename, I know, but I made the code for `dictionary`.  \n",
    "I have to practice repeating comprehension and usage for later._\n"
   ]
  },
  {
   "cell_type": "code",
   "execution_count": 58,
   "id": "d5f4f867",
   "metadata": {},
   "outputs": [
    {
     "data": {
      "text/html": [
       "<div>\n",
       "<style scoped>\n",
       "    .dataframe tbody tr th:only-of-type {\n",
       "        vertical-align: middle;\n",
       "    }\n",
       "\n",
       "    .dataframe tbody tr th {\n",
       "        vertical-align: top;\n",
       "    }\n",
       "\n",
       "    .dataframe thead th {\n",
       "        text-align: right;\n",
       "    }\n",
       "</style>\n",
       "<table border=\"1\" class=\"dataframe\">\n",
       "  <thead>\n",
       "    <tr style=\"text-align: right;\">\n",
       "      <th></th>\n",
       "      <th>ladder</th>\n",
       "      <th>Necromancer</th>\n",
       "      <th>Slayer</th>\n",
       "      <th>Deadeye</th>\n",
       "      <th>Gladiator</th>\n",
       "      <th>Inquisitor</th>\n",
       "      <th>Raider</th>\n",
       "      <th>Champion</th>\n",
       "      <th>Occultist</th>\n",
       "      <th>Pathfinder</th>\n",
       "      <th>Elementalist</th>\n",
       "      <th>Chieftain</th>\n",
       "      <th>Hierophant</th>\n",
       "      <th>Ascendant</th>\n",
       "      <th>Trickster</th>\n",
       "      <th>Guardian</th>\n",
       "      <th>Berserker</th>\n",
       "      <th>Juggernaut</th>\n",
       "      <th>Saboteur</th>\n",
       "    </tr>\n",
       "  </thead>\n",
       "  <tbody>\n",
       "    <tr>\n",
       "      <th>0</th>\n",
       "      <td>Harbinger</td>\n",
       "      <td>0.50</td>\n",
       "      <td>0.06</td>\n",
       "      <td>1.27</td>\n",
       "      <td>0.15</td>\n",
       "      <td>0.72</td>\n",
       "      <td>0.10</td>\n",
       "      <td>0.79</td>\n",
       "      <td>1.32</td>\n",
       "      <td>0.20</td>\n",
       "      <td>0.52</td>\n",
       "      <td>NaN</td>\n",
       "      <td>NaN</td>\n",
       "      <td>NaN</td>\n",
       "      <td>NaN</td>\n",
       "      <td>0.57</td>\n",
       "      <td>0.07</td>\n",
       "      <td>NaN</td>\n",
       "      <td>NaN</td>\n",
       "    </tr>\n",
       "    <tr>\n",
       "      <th>1</th>\n",
       "      <td>Hardcore Harbinger</td>\n",
       "      <td>0.29</td>\n",
       "      <td>0.15</td>\n",
       "      <td>1.20</td>\n",
       "      <td>0.29</td>\n",
       "      <td>0.36</td>\n",
       "      <td>NaN</td>\n",
       "      <td>0.41</td>\n",
       "      <td>0.66</td>\n",
       "      <td>0.48</td>\n",
       "      <td>NaN</td>\n",
       "      <td>0.14</td>\n",
       "      <td>NaN</td>\n",
       "      <td>0.17</td>\n",
       "      <td>NaN</td>\n",
       "      <td>0.15</td>\n",
       "      <td>0.05</td>\n",
       "      <td>NaN</td>\n",
       "      <td>0.66</td>\n",
       "    </tr>\n",
       "    <tr>\n",
       "      <th>2</th>\n",
       "      <td>SSF Harbinger</td>\n",
       "      <td>0.35</td>\n",
       "      <td>0.23</td>\n",
       "      <td>NaN</td>\n",
       "      <td>0.23</td>\n",
       "      <td>0.11</td>\n",
       "      <td>0.20</td>\n",
       "      <td>NaN</td>\n",
       "      <td>NaN</td>\n",
       "      <td>1.27</td>\n",
       "      <td>0.18</td>\n",
       "      <td>0.22</td>\n",
       "      <td>0.18</td>\n",
       "      <td>0.20</td>\n",
       "      <td>0.21</td>\n",
       "      <td>NaN</td>\n",
       "      <td>0.13</td>\n",
       "      <td>0.23</td>\n",
       "      <td>NaN</td>\n",
       "    </tr>\n",
       "    <tr>\n",
       "      <th>3</th>\n",
       "      <td>SSF Harbinger HC</td>\n",
       "      <td>0.54</td>\n",
       "      <td>0.53</td>\n",
       "      <td>NaN</td>\n",
       "      <td>0.19</td>\n",
       "      <td>0.19</td>\n",
       "      <td>0.36</td>\n",
       "      <td>0.59</td>\n",
       "      <td>NaN</td>\n",
       "      <td>NaN</td>\n",
       "      <td>NaN</td>\n",
       "      <td>0.14</td>\n",
       "      <td>NaN</td>\n",
       "      <td>NaN</td>\n",
       "      <td>0.19</td>\n",
       "      <td>NaN</td>\n",
       "      <td>NaN</td>\n",
       "      <td>NaN</td>\n",
       "      <td>NaN</td>\n",
       "    </tr>\n",
       "  </tbody>\n",
       "</table>\n",
       "</div>"
      ],
      "text/plain": [
       "               ladder  Necromancer  Slayer  Deadeye  Gladiator  Inquisitor  \\\n",
       "0           Harbinger         0.50    0.06     1.27       0.15        0.72   \n",
       "1  Hardcore Harbinger         0.29    0.15     1.20       0.29        0.36   \n",
       "2       SSF Harbinger         0.35    0.23      NaN       0.23        0.11   \n",
       "3    SSF Harbinger HC         0.54    0.53      NaN       0.19        0.19   \n",
       "\n",
       "   Raider  Champion  Occultist  Pathfinder  Elementalist  Chieftain  \\\n",
       "0    0.10      0.79       1.32        0.20          0.52        NaN   \n",
       "1     NaN      0.41       0.66        0.48           NaN       0.14   \n",
       "2    0.20       NaN        NaN        1.27          0.18       0.22   \n",
       "3    0.36      0.59        NaN         NaN           NaN       0.14   \n",
       "\n",
       "   Hierophant  Ascendant  Trickster  Guardian  Berserker  Juggernaut  Saboteur  \n",
       "0         NaN        NaN        NaN      0.57       0.07         NaN       NaN  \n",
       "1         NaN       0.17        NaN      0.15       0.05         NaN      0.66  \n",
       "2        0.18       0.20       0.21       NaN       0.13        0.23       NaN  \n",
       "3         NaN        NaN       0.19       NaN        NaN         NaN       NaN  "
      ]
     },
     "execution_count": 58,
     "metadata": {},
     "output_type": "execute_result"
    }
   ],
   "source": [
    "# reset index and rename with a dictionary what we made\n",
    "concatingdf.reset_index(drop = False, inplace = True)\n",
    "\n",
    "dictionary = dict()\n",
    "for i in range(0, 18):\n",
    "    dictionary[i] = classes[i]\n",
    "\n",
    "concatingdf.rename(columns = dictionary, inplace = True)\n",
    "concatingdf"
   ]
  },
  {
   "cell_type": "code",
   "execution_count": 59,
   "id": "0887bd63",
   "metadata": {},
   "outputs": [
    {
     "data": {
      "text/html": [
       "<div>\n",
       "<style scoped>\n",
       "    .dataframe tbody tr th:only-of-type {\n",
       "        vertical-align: middle;\n",
       "    }\n",
       "\n",
       "    .dataframe tbody tr th {\n",
       "        vertical-align: top;\n",
       "    }\n",
       "\n",
       "    .dataframe thead th {\n",
       "        text-align: right;\n",
       "    }\n",
       "</style>\n",
       "<table border=\"1\" class=\"dataframe\">\n",
       "  <thead>\n",
       "    <tr style=\"text-align: right;\">\n",
       "      <th></th>\n",
       "      <th>class</th>\n",
       "      <th>Harbinger</th>\n",
       "      <th>Hardcore Harbinger</th>\n",
       "      <th>SSF Harbinger</th>\n",
       "      <th>SSF Harbinger HC</th>\n",
       "    </tr>\n",
       "  </thead>\n",
       "  <tbody>\n",
       "    <tr>\n",
       "      <th>0</th>\n",
       "      <td>Necromancer</td>\n",
       "      <td>0.50</td>\n",
       "      <td>0.29</td>\n",
       "      <td>0.35</td>\n",
       "      <td>0.54</td>\n",
       "    </tr>\n",
       "    <tr>\n",
       "      <th>1</th>\n",
       "      <td>Slayer</td>\n",
       "      <td>0.06</td>\n",
       "      <td>0.15</td>\n",
       "      <td>0.23</td>\n",
       "      <td>0.53</td>\n",
       "    </tr>\n",
       "    <tr>\n",
       "      <th>2</th>\n",
       "      <td>Deadeye</td>\n",
       "      <td>1.27</td>\n",
       "      <td>1.20</td>\n",
       "      <td>NaN</td>\n",
       "      <td>NaN</td>\n",
       "    </tr>\n",
       "    <tr>\n",
       "      <th>3</th>\n",
       "      <td>Gladiator</td>\n",
       "      <td>0.15</td>\n",
       "      <td>0.29</td>\n",
       "      <td>0.23</td>\n",
       "      <td>0.19</td>\n",
       "    </tr>\n",
       "    <tr>\n",
       "      <th>4</th>\n",
       "      <td>Inquisitor</td>\n",
       "      <td>0.72</td>\n",
       "      <td>0.36</td>\n",
       "      <td>0.11</td>\n",
       "      <td>0.19</td>\n",
       "    </tr>\n",
       "    <tr>\n",
       "      <th>5</th>\n",
       "      <td>Raider</td>\n",
       "      <td>0.10</td>\n",
       "      <td>NaN</td>\n",
       "      <td>0.20</td>\n",
       "      <td>0.36</td>\n",
       "    </tr>\n",
       "    <tr>\n",
       "      <th>6</th>\n",
       "      <td>Champion</td>\n",
       "      <td>0.79</td>\n",
       "      <td>0.41</td>\n",
       "      <td>NaN</td>\n",
       "      <td>0.59</td>\n",
       "    </tr>\n",
       "    <tr>\n",
       "      <th>7</th>\n",
       "      <td>Occultist</td>\n",
       "      <td>1.32</td>\n",
       "      <td>0.66</td>\n",
       "      <td>NaN</td>\n",
       "      <td>NaN</td>\n",
       "    </tr>\n",
       "    <tr>\n",
       "      <th>8</th>\n",
       "      <td>Pathfinder</td>\n",
       "      <td>0.20</td>\n",
       "      <td>0.48</td>\n",
       "      <td>1.27</td>\n",
       "      <td>NaN</td>\n",
       "    </tr>\n",
       "    <tr>\n",
       "      <th>9</th>\n",
       "      <td>Elementalist</td>\n",
       "      <td>0.52</td>\n",
       "      <td>NaN</td>\n",
       "      <td>0.18</td>\n",
       "      <td>NaN</td>\n",
       "    </tr>\n",
       "    <tr>\n",
       "      <th>10</th>\n",
       "      <td>Chieftain</td>\n",
       "      <td>NaN</td>\n",
       "      <td>0.14</td>\n",
       "      <td>0.22</td>\n",
       "      <td>0.14</td>\n",
       "    </tr>\n",
       "    <tr>\n",
       "      <th>11</th>\n",
       "      <td>Hierophant</td>\n",
       "      <td>NaN</td>\n",
       "      <td>NaN</td>\n",
       "      <td>0.18</td>\n",
       "      <td>NaN</td>\n",
       "    </tr>\n",
       "    <tr>\n",
       "      <th>12</th>\n",
       "      <td>Ascendant</td>\n",
       "      <td>NaN</td>\n",
       "      <td>0.17</td>\n",
       "      <td>0.20</td>\n",
       "      <td>NaN</td>\n",
       "    </tr>\n",
       "    <tr>\n",
       "      <th>13</th>\n",
       "      <td>Trickster</td>\n",
       "      <td>NaN</td>\n",
       "      <td>NaN</td>\n",
       "      <td>0.21</td>\n",
       "      <td>0.19</td>\n",
       "    </tr>\n",
       "    <tr>\n",
       "      <th>14</th>\n",
       "      <td>Guardian</td>\n",
       "      <td>0.57</td>\n",
       "      <td>0.15</td>\n",
       "      <td>NaN</td>\n",
       "      <td>NaN</td>\n",
       "    </tr>\n",
       "    <tr>\n",
       "      <th>15</th>\n",
       "      <td>Berserker</td>\n",
       "      <td>0.07</td>\n",
       "      <td>0.05</td>\n",
       "      <td>0.13</td>\n",
       "      <td>NaN</td>\n",
       "    </tr>\n",
       "    <tr>\n",
       "      <th>16</th>\n",
       "      <td>Juggernaut</td>\n",
       "      <td>NaN</td>\n",
       "      <td>NaN</td>\n",
       "      <td>0.23</td>\n",
       "      <td>NaN</td>\n",
       "    </tr>\n",
       "    <tr>\n",
       "      <th>17</th>\n",
       "      <td>Saboteur</td>\n",
       "      <td>NaN</td>\n",
       "      <td>0.66</td>\n",
       "      <td>NaN</td>\n",
       "      <td>NaN</td>\n",
       "    </tr>\n",
       "  </tbody>\n",
       "</table>\n",
       "</div>"
      ],
      "text/plain": [
       "           class Harbinger Hardcore Harbinger SSF Harbinger SSF Harbinger HC\n",
       "0    Necromancer      0.50               0.29          0.35             0.54\n",
       "1         Slayer      0.06               0.15          0.23             0.53\n",
       "2        Deadeye      1.27               1.20           NaN              NaN\n",
       "3      Gladiator      0.15               0.29          0.23             0.19\n",
       "4     Inquisitor      0.72               0.36          0.11             0.19\n",
       "5         Raider      0.10                NaN          0.20             0.36\n",
       "6       Champion      0.79               0.41           NaN             0.59\n",
       "7      Occultist      1.32               0.66           NaN              NaN\n",
       "8     Pathfinder      0.20               0.48          1.27              NaN\n",
       "9   Elementalist      0.52                NaN          0.18              NaN\n",
       "10     Chieftain       NaN               0.14          0.22             0.14\n",
       "11    Hierophant       NaN                NaN          0.18              NaN\n",
       "12     Ascendant       NaN               0.17          0.20              NaN\n",
       "13     Trickster       NaN                NaN          0.21             0.19\n",
       "14      Guardian      0.57               0.15           NaN              NaN\n",
       "15     Berserker      0.07               0.05          0.13              NaN\n",
       "16    Juggernaut       NaN                NaN          0.23              NaN\n",
       "17      Saboteur       NaN               0.66           NaN              NaN"
      ]
     },
     "execution_count": 59,
     "metadata": {},
     "output_type": "execute_result"
    }
   ],
   "source": [
    "# and transpose the dataframe to look good.\n",
    "\n",
    "top30cla = concatingdf.transpose()\n",
    "top30cla.reset_index(drop = False, inplace = True)\n",
    "top30cla.rename(columns = top30cla.iloc[0], inplace = True)\n",
    "top30cla = top30cla.drop(top30cla.index[0])\n",
    "top30cla.reset_index(drop = True, inplace = True)\n",
    "top30cla.rename(columns = {'ladder':'class'}, inplace = True)\n",
    "top30cla"
   ]
  },
  {
   "cell_type": "code",
   "execution_count": 60,
   "id": "fcb26ccb",
   "metadata": {},
   "outputs": [
    {
     "data": {
      "image/png": "[encoded data removed]",
      "text/plain": [
       "<Figure size 864x864 with 4 Axes>"
      ]
     },
     "metadata": {},
     "output_type": "display_data"
    }
   ],
   "source": [
    "# visualization (graph 3-3)\n",
    "# There's some null so I had to each ladder partialy\n",
    "\n",
    "# percentage list making : each ladde\n",
    "Har_top30 = top30cla[top30cla['Harbinger'].isna() == False][['class', 'Harbinger']]\n",
    "HarHC_top30 = top30cla[top30cla['Hardcore Harbinger'].isna() == False][['class', 'Hardcore Harbinger']]\n",
    "SSFHar_top30 = top30cla[top30cla['SSF Harbinger'].isna() == False][['class', 'SSF Harbinger']]\n",
    "SSFHarHC_top30 = top30cla[top30cla['SSF Harbinger HC'].isna() == False][['class', 'SSF Harbinger HC']]\n",
    "\n",
    "# use percentages and labels to plt code\n",
    "# labels = top30cla.index\n",
    "wedgeprops = {'width': 0.7, 'edgecolor': 'w', 'linewidth': 5}\n",
    "fig, ax = plt.subplots(2, 2, squeeze=True, figsize = (12, 12))\n",
    "plt.subplot(2,2,1)\n",
    "plt.pie(Har_top30['Harbinger'], labels=Har_top30['class'], autopct='%.2f%%', startangle=90, counterclock=False, wedgeprops=wedgeprops, pctdistance=0.9)\n",
    "plt.subplot(2,2,2)\n",
    "plt.pie(HarHC_top30['Hardcore Harbinger'], labels=HarHC_top30['class'], autopct='%.2f%%', startangle=90, counterclock=False, wedgeprops=wedgeprops, pctdistance=0.9)\n",
    "plt.subplot(2,2,3)\n",
    "plt.pie(SSFHar_top30['SSF Harbinger'], labels=SSFHar_top30['class'], autopct='%.2f%%', startangle=90, counterclock=False, wedgeprops=wedgeprops, pctdistance=0.9)\n",
    "plt.subplot(2,2,4)\n",
    "plt.pie(SSFHarHC_top30['SSF Harbinger HC'], labels=SSFHarHC_top30['class'], autopct='%.2f%%', startangle=90, counterclock=False, wedgeprops=wedgeprops, pctdistance=0.9)\n",
    "\n",
    "# set the each pie chart title\n",
    "ax[0, 0].set_title(\"{} mode\".format(Har_top30.columns[1]))\n",
    "ax[0, 1].set_title(\"{} mode\".format(HarHC_top30.columns[1]))\n",
    "ax[1, 0].set_title(\"{} mode\".format(SSFHar_top30.columns[1]))\n",
    "ax[1, 1].set_title(\"{} mode\".format(SSFHarHC_top30.columns[1]))\n",
    "fig.tight_layout()\n",
    "plt.axis('equal')\n",
    "plt.show()"
   ]
  },
  {
   "cell_type": "markdown",
   "id": "56d1747a",
   "metadata": {},
   "source": [
    "I thought, then, this can be used for setting values to predict with machine learning."
   ]
  },
  {
   "cell_type": "markdown",
   "id": "a686c8b0",
   "metadata": {},
   "source": [
    "## 3-3. care of stream\n",
    "---\n",
    "### distribution of streaming\n",
    "\n",
    "How much is streaming involved in the rank? We have to think about the relationship between columns. \n",
    "\n",
    "I think we should be noted that broadcasting itself does not affect the rank.  \n",
    "Just because he's on the streaming doesn't mean he's doing better.  \n",
    "In other words, some people just stream, and many people don't broadcast games and just play them.\n",
    "\n",
    "But the questioner wanna know regarding 'streaming' meaning.   \n",
    "Since it is not expected to be directly related to the rank, I will check it with the correlation coefficient.  "
   ]
  },
  {
   "cell_type": "code",
   "execution_count": 61,
   "id": "676805ca",
   "metadata": {},
   "outputs": [],
   "source": [
    "# make a twitch column with streaming.\n",
    "\n",
    "df['stream'] = np.where(df['twitch'].isna(), 0, 1)"
   ]
  },
  {
   "cell_type": "code",
   "execution_count": 62,
   "id": "424b86ef",
   "metadata": {},
   "outputs": [
    {
     "data": {
      "text/html": [
       "<div>\n",
       "<style scoped>\n",
       "    .dataframe tbody tr th:only-of-type {\n",
       "        vertical-align: middle;\n",
       "    }\n",
       "\n",
       "    .dataframe tbody tr th {\n",
       "        vertical-align: top;\n",
       "    }\n",
       "\n",
       "    .dataframe thead th {\n",
       "        text-align: right;\n",
       "    }\n",
       "</style>\n",
       "<table border=\"1\" class=\"dataframe\">\n",
       "  <thead>\n",
       "    <tr style=\"text-align: right;\">\n",
       "      <th></th>\n",
       "      <th>rank</th>\n",
       "      <th>dead</th>\n",
       "      <th>online</th>\n",
       "      <th>level</th>\n",
       "      <th>experience</th>\n",
       "      <th>challenges</th>\n",
       "      <th>stream</th>\n",
       "    </tr>\n",
       "  </thead>\n",
       "  <tbody>\n",
       "    <tr>\n",
       "      <th>rank</th>\n",
       "      <td>1.00</td>\n",
       "      <td>0.04</td>\n",
       "      <td>-0.04</td>\n",
       "      <td>-0.45</td>\n",
       "      <td>-0.43</td>\n",
       "      <td>-0.26</td>\n",
       "      <td>-0.06</td>\n",
       "    </tr>\n",
       "    <tr>\n",
       "      <th>dead</th>\n",
       "      <td>0.04</td>\n",
       "      <td>1.00</td>\n",
       "      <td>-0.09</td>\n",
       "      <td>-0.33</td>\n",
       "      <td>-0.31</td>\n",
       "      <td>-0.21</td>\n",
       "      <td>0.03</td>\n",
       "    </tr>\n",
       "    <tr>\n",
       "      <th>online</th>\n",
       "      <td>-0.04</td>\n",
       "      <td>-0.09</td>\n",
       "      <td>1.00</td>\n",
       "      <td>0.08</td>\n",
       "      <td>0.11</td>\n",
       "      <td>0.06</td>\n",
       "      <td>-0.01</td>\n",
       "    </tr>\n",
       "    <tr>\n",
       "      <th>level</th>\n",
       "      <td>-0.45</td>\n",
       "      <td>-0.33</td>\n",
       "      <td>0.08</td>\n",
       "      <td>1.00</td>\n",
       "      <td>0.92</td>\n",
       "      <td>0.60</td>\n",
       "      <td>0.10</td>\n",
       "    </tr>\n",
       "    <tr>\n",
       "      <th>experience</th>\n",
       "      <td>-0.43</td>\n",
       "      <td>-0.31</td>\n",
       "      <td>0.11</td>\n",
       "      <td>0.92</td>\n",
       "      <td>1.00</td>\n",
       "      <td>0.66</td>\n",
       "      <td>0.11</td>\n",
       "    </tr>\n",
       "    <tr>\n",
       "      <th>challenges</th>\n",
       "      <td>-0.26</td>\n",
       "      <td>-0.21</td>\n",
       "      <td>0.06</td>\n",
       "      <td>0.60</td>\n",
       "      <td>0.66</td>\n",
       "      <td>1.00</td>\n",
       "      <td>0.19</td>\n",
       "    </tr>\n",
       "    <tr>\n",
       "      <th>stream</th>\n",
       "      <td>-0.06</td>\n",
       "      <td>0.03</td>\n",
       "      <td>-0.01</td>\n",
       "      <td>0.10</td>\n",
       "      <td>0.11</td>\n",
       "      <td>0.19</td>\n",
       "      <td>1.00</td>\n",
       "    </tr>\n",
       "  </tbody>\n",
       "</table>\n",
       "</div>"
      ],
      "text/plain": [
       "            rank  dead  online  level  experience  challenges  stream\n",
       "rank        1.00  0.04   -0.04  -0.45       -0.43       -0.26   -0.06\n",
       "dead        0.04  1.00   -0.09  -0.33       -0.31       -0.21    0.03\n",
       "online     -0.04 -0.09    1.00   0.08        0.11        0.06   -0.01\n",
       "level      -0.45 -0.33    0.08   1.00        0.92        0.60    0.10\n",
       "experience -0.43 -0.31    0.11   0.92        1.00        0.66    0.11\n",
       "challenges -0.26 -0.21    0.06   0.60        0.66        1.00    0.19\n",
       "stream     -0.06  0.03   -0.01   0.10        0.11        0.19    1.00"
      ]
     },
     "execution_count": 62,
     "metadata": {},
     "output_type": "execute_result"
    }
   ],
   "source": [
    "# get the correlation\n",
    "\n",
    "df.corr()"
   ]
  },
  {
   "cell_type": "code",
   "execution_count": 63,
   "id": "c4619145",
   "metadata": {},
   "outputs": [
    {
     "name": "stderr",
     "output_type": "stream",
     "text": [
      "/Users/Angela/opt/anaconda3/envs/py3_8_5/lib/python3.8/site-packages/seaborn/utils.py:95: UserWarning: Glyph 8722 (\\N{MINUS SIGN}) missing from current font.\n",
      "  fig.canvas.draw()\n",
      "/Users/Angela/opt/anaconda3/envs/py3_8_5/lib/python3.8/site-packages/IPython/core/pylabtools.py:151: UserWarning: Glyph 8722 (\\N{MINUS SIGN}) missing from current font.\n",
      "  fig.canvas.print_figure(bytes_io, **kw)\n"
     ]
    },
    {
     "data": {
      "image/png": "[encoded data removed]",
      "text/plain": [
       "<Figure size 432x288 with 2 Axes>"
      ]
     },
     "metadata": {
      "needs_background": "light"
     },
     "output_type": "display_data"
    }
   ],
   "source": [
    "plt.rcParams[\"figure.figsize\"] = (6, 4)\n",
    "sns.heatmap(df.corr(), annot = True, cmap = \"YlGnBu\", square = True)\n",
    "plt.show()"
   ]
  },
  {
   "cell_type": "markdown",
   "id": "1d66acba",
   "metadata": {},
   "source": [
    "It doesn't seem to have many relationships with it.  \n",
    "\n",
    "So I get the numbers for the Necromancers, just like the above methods."
   ]
  },
  {
   "cell_type": "markdown",
   "id": "54f190d3",
   "metadata": {},
   "source": [
    "### the Necromancers who is streaming"
   ]
  },
  {
   "cell_type": "code",
   "execution_count": 64,
   "id": "6cc2331f",
   "metadata": {},
   "outputs": [],
   "source": [
    "# set dataframes of Necromancers who's twitch column is not null.\n",
    "\n",
    "df_NecTw = df_Nec[df_Nec['twitch'].isnull()==False]\n",
    "df_NecTw30 = df_NecTw[df_NecTw['rank']<=30]"
   ]
  },
  {
   "cell_type": "code",
   "execution_count": 65,
   "id": "6cbcd93e",
   "metadata": {},
   "outputs": [
    {
     "data": {
      "image/png": "[encoded data removed]",
      "text/plain": [
       "<Figure size 288x432 with 1 Axes>"
      ]
     },
     "metadata": {
      "needs_background": "light"
     },
     "output_type": "display_data"
    }
   ],
   "source": [
    "# Necromancers with stream rank boxplot by ladder\n",
    "\n",
    "plt.figure(figsize=(4,6))\n",
    "plt.xticks(rotation=45, fontsize=10)\n",
    "sns.boxplot(data = df_NecTw, x = 'ladder', y = 'rank')\n",
    "plt.show()"
   ]
  },
  {
   "cell_type": "code",
   "execution_count": 66,
   "id": "e2559ce4",
   "metadata": {},
   "outputs": [
    {
     "data": {
      "text/plain": [
       "ladder\n",
       "Harbinger             374\n",
       "Hardcore Harbinger    765\n",
       "SSF Harbinger         307\n",
       "SSF Harbinger HC      556\n",
       "Name: id, dtype: int64"
      ]
     },
     "execution_count": 66,
     "metadata": {},
     "output_type": "execute_result"
    }
   ],
   "source": [
    "# All Necromancers by ladder - with stream\n",
    "\n",
    "df_NecTw.groupby('ladder')['id'].count()"
   ]
  },
  {
   "cell_type": "code",
   "execution_count": 67,
   "id": "354f811d",
   "metadata": {},
   "outputs": [
    {
     "data": {
      "text/plain": [
       "ladder\n",
       "Harbinger             6\n",
       "Hardcore Harbinger    5\n",
       "SSF Harbinger         2\n",
       "SSF Harbinger HC      7\n",
       "Name: id, dtype: int64"
      ]
     },
     "execution_count": 67,
     "metadata": {},
     "output_type": "execute_result"
    }
   ],
   "source": [
    "# Necromancers Who are in top 30 by ladder - with stream\n",
    "\n",
    "df_NecTw30.groupby('ladder')['id'].count()"
   ]
  },
  {
   "cell_type": "markdown",
   "id": "f789ee33",
   "metadata": {},
   "source": [
    "### 3-3-1. ratio the top 30 Necromancer(streaming) among 'the all Necromancers'"
   ]
  },
  {
   "cell_type": "code",
   "execution_count": 68,
   "id": "057b3720",
   "metadata": {},
   "outputs": [
    {
     "data": {
      "text/plain": [
       "ladder\n",
       "Harbinger            0.50\n",
       "Hardcore Harbinger   0.24\n",
       "SSF Harbinger        0.12\n",
       "SSF Harbinger HC     0.34\n",
       "Name: id, dtype: float64"
      ]
     },
     "execution_count": 68,
     "metadata": {},
     "output_type": "execute_result"
    }
   ],
   "source": [
    "# Streaming Necromancers Who are in top 30 among all Necromancers by ladder\n",
    "\n",
    "df_NecTw30.groupby('ladder')['id'].count() / df_Nec.groupby('ladder')['id'].count() * 100"
   ]
  },
  {
   "cell_type": "markdown",
   "id": "639ed6cd",
   "metadata": {},
   "source": [
    "### 3-3-2. ratio the top 30 Necromancer(streaming) among 'the all Necromancers(streaming)'"
   ]
  },
  {
   "cell_type": "code",
   "execution_count": 69,
   "id": "b5659cb4",
   "metadata": {},
   "outputs": [
    {
     "data": {
      "text/plain": [
       "ladder\n",
       "Harbinger            1.60\n",
       "Hardcore Harbinger   0.65\n",
       "SSF Harbinger        0.65\n",
       "SSF Harbinger HC     1.26\n",
       "Name: id, dtype: float64"
      ]
     },
     "execution_count": 69,
     "metadata": {},
     "output_type": "execute_result"
    }
   ],
   "source": [
    "# Streaming Necromancers who are in top 30 among all streaming Necromancers by ladder\n",
    "\n",
    "df_NecTw30.groupby('ladder')['id'].count() / df_NecTw.groupby('ladder')['id'].count() * 100"
   ]
  },
  {
   "cell_type": "markdown",
   "id": "2eebff23",
   "metadata": {},
   "source": [
    "### 3-3-3. ratio the top 30 Necromancer(streaming) among 'the all characters'"
   ]
  },
  {
   "cell_type": "code",
   "execution_count": 70,
   "id": "be826471",
   "metadata": {},
   "outputs": [
    {
     "data": {
      "text/plain": [
       "ladder\n",
       "Harbinger            0.04\n",
       "Hardcore Harbinger   0.03\n",
       "SSF Harbinger        0.01\n",
       "SSF Harbinger HC     0.05\n",
       "Name: id, dtype: float64"
      ]
     },
     "execution_count": 70,
     "metadata": {},
     "output_type": "execute_result"
    }
   ],
   "source": [
    "# Streaming Necromancers who are in top 30 among all characters by ladder\n",
    "\n",
    "df_NecTw30.groupby('ladder')['id'].count() / df.groupby('ladder')['id'].count() * 100"
   ]
  },
  {
   "cell_type": "markdown",
   "id": "dfaade00",
   "metadata": {},
   "source": [
    "### 3-3-4. ratio the top 30 Necromancers(streaming) among 'the all characters(streaming)'"
   ]
  },
  {
   "cell_type": "code",
   "execution_count": 71,
   "id": "bc552f63",
   "metadata": {},
   "outputs": [
    {
     "data": {
      "text/plain": [
       "ladder\n",
       "Harbinger            0.06\n",
       "Hardcore Harbinger   0.05\n",
       "SSF Harbinger        0.02\n",
       "SSF Harbinger HC     0.06\n",
       "Name: id, dtype: float64"
      ]
     },
     "execution_count": 71,
     "metadata": {},
     "output_type": "execute_result"
    }
   ],
   "source": [
    "# Streaming Necromancers who are in top 30 among all streaming characters by ladder\n",
    "\n",
    "df_NecTw30.groupby('ladder')['id'].count() / df[df['twitch'].isna() != False].groupby('ladder')['id'].count() * 100"
   ]
  },
  {
   "cell_type": "markdown",
   "id": "9bfc50bd",
   "metadata": {},
   "source": [
    "세 가지로 나누어 총 8가지로 보려고 한다. 물론 이 여부를 더미 변수 처리 해서 머신러닝을 돌릴 수도 있을 것 같긴 하다.\n",
    "\n",
    "1. Tw 하는 혹은 안하는  \n",
    "2. 전체 혹은 전체 NEC 중  \n",
    "3. Tw 하는 혹은 안하는 (top 30인 NEC)\n",
    "\n",
    "나눌 것."
   ]
  },
  {
   "cell_type": "markdown",
   "id": "65180847",
   "metadata": {},
   "source": [
    "### 3-3-5 ratio the top 30 of each streaming class among each class \n",
    "\" streaming classes who are in top 30 among all class-itself by ladder \"\n"
   ]
  },
  {
   "cell_type": "markdown",
   "id": "c17ec58c",
   "metadata": {},
   "source": [
    "# 4. The average number of \"finished\" challenges \n",
    "---\n",
    "##### Q4. The average number of finished challenges for each division shows the division with the highest and lowest average challenges.\n",
    "\n",
    "This question is really clear, thankfully.  \n",
    "I'll separate the division and calculate the average challenges.  \n"
   ]
  },
  {
   "cell_type": "code",
   "execution_count": 77,
   "id": "b705ad67",
   "metadata": {},
   "outputs": [
    {
     "data": {
      "text/html": [
       "<div>\n",
       "<style scoped>\n",
       "    .dataframe tbody tr th:only-of-type {\n",
       "        vertical-align: middle;\n",
       "    }\n",
       "\n",
       "    .dataframe tbody tr th {\n",
       "        vertical-align: top;\n",
       "    }\n",
       "\n",
       "    .dataframe thead tr th {\n",
       "        text-align: left;\n",
       "    }\n",
       "\n",
       "    .dataframe thead tr:last-of-type th {\n",
       "        text-align: right;\n",
       "    }\n",
       "</style>\n",
       "<table border=\"1\" class=\"dataframe\">\n",
       "  <thead>\n",
       "    <tr>\n",
       "      <th></th>\n",
       "      <th colspan=\"2\" halign=\"left\">challenges</th>\n",
       "    </tr>\n",
       "    <tr>\n",
       "      <th></th>\n",
       "      <th>max</th>\n",
       "      <th>min</th>\n",
       "    </tr>\n",
       "    <tr>\n",
       "      <th>ladder</th>\n",
       "      <th></th>\n",
       "      <th></th>\n",
       "    </tr>\n",
       "  </thead>\n",
       "  <tbody>\n",
       "    <tr>\n",
       "      <th>Harbinger</th>\n",
       "      <td>40</td>\n",
       "      <td>13</td>\n",
       "    </tr>\n",
       "    <tr>\n",
       "      <th>Hardcore Harbinger</th>\n",
       "      <td>40</td>\n",
       "      <td>8</td>\n",
       "    </tr>\n",
       "    <tr>\n",
       "      <th>SSF Harbinger</th>\n",
       "      <td>40</td>\n",
       "      <td>9</td>\n",
       "    </tr>\n",
       "    <tr>\n",
       "      <th>SSF Harbinger HC</th>\n",
       "      <td>40</td>\n",
       "      <td>4</td>\n",
       "    </tr>\n",
       "  </tbody>\n",
       "</table>\n",
       "</div>"
      ],
      "text/plain": [
       "                   challenges    \n",
       "                          max min\n",
       "ladder                           \n",
       "Harbinger                  40  13\n",
       "Hardcore Harbinger         40   8\n",
       "SSF Harbinger              40   9\n",
       "SSF Harbinger HC           40   4"
      ]
     },
     "execution_count": 77,
     "metadata": {},
     "output_type": "execute_result"
    }
   ],
   "source": [
    "# simple max and min\n",
    "df.groupby(by = 'ladder')[['challenges']].agg(['max', 'min'])"
   ]
  },
  {
   "cell_type": "code",
   "execution_count": 82,
   "id": "9de1a41f",
   "metadata": {},
   "outputs": [
    {
     "data": {
      "text/html": [
       "<div>\n",
       "<style scoped>\n",
       "    .dataframe tbody tr th:only-of-type {\n",
       "        vertical-align: middle;\n",
       "    }\n",
       "\n",
       "    .dataframe tbody tr th {\n",
       "        vertical-align: top;\n",
       "    }\n",
       "\n",
       "    .dataframe thead th {\n",
       "        text-align: right;\n",
       "    }\n",
       "</style>\n",
       "<table border=\"1\" class=\"dataframe\">\n",
       "  <thead>\n",
       "    <tr style=\"text-align: right;\">\n",
       "      <th></th>\n",
       "      <th>challenges</th>\n",
       "    </tr>\n",
       "    <tr>\n",
       "      <th>ladder</th>\n",
       "      <th></th>\n",
       "    </tr>\n",
       "  </thead>\n",
       "  <tbody>\n",
       "    <tr>\n",
       "      <th>Harbinger</th>\n",
       "      <td>33.47</td>\n",
       "    </tr>\n",
       "    <tr>\n",
       "      <th>Hardcore Harbinger</th>\n",
       "      <td>27.17</td>\n",
       "    </tr>\n",
       "    <tr>\n",
       "      <th>SSF Harbinger</th>\n",
       "      <td>22.15</td>\n",
       "    </tr>\n",
       "    <tr>\n",
       "      <th>SSF Harbinger HC</th>\n",
       "      <td>20.29</td>\n",
       "    </tr>\n",
       "  </tbody>\n",
       "</table>\n",
       "</div>"
      ],
      "text/plain": [
       "                    challenges\n",
       "ladder                        \n",
       "Harbinger                33.47\n",
       "Hardcore Harbinger       27.17\n",
       "SSF Harbinger            22.15\n",
       "SSF Harbinger HC         20.29"
      ]
     },
     "execution_count": 82,
     "metadata": {},
     "output_type": "execute_result"
    }
   ],
   "source": [
    "# average challenges by each ladder\n",
    "df.groupby(by = 'ladder')[['challenges']].mean()"
   ]
  },
  {
   "cell_type": "markdown",
   "id": "5e3b6653",
   "metadata": {},
   "source": [
    "# 5. Is the class of the dead characters related to level?\n",
    "---\n",
    "##### Q5. Show dependency between level and class of dead characters. Only for HC divisions.\n",
    "\n",
    "The dead column has a mean in only hardcore modes.  \n",
    "That means the goal of the hardcore mode is survival with the best playing, and maybe alive characters can restart or continue the game.  \n",
    "\n",
    "I understood the question as the relation between the dead characters' class and the level.  \n",
    "Because we can think that the death is related just level(user's ability) or maybe the class is the problem.\n",
    "\n",
    "If there is a dependency between level and class, we can treat that some particular class is **prefered** because of the difficulty or something like that,  \n",
    "or \n",
    "\n",
    "The methods which can get the dependency,  \n",
    "    1. correlation between level and class.  \n",
    "    2. ANOVA analysis with each class.  \n"
   ]
  },
  {
   "cell_type": "markdown",
   "id": "05919f49",
   "metadata": {},
   "source": [
    "## ratio of dead characters"
   ]
  },
  {
   "cell_type": "code",
   "execution_count": 91,
   "id": "dc32fab0",
   "metadata": {
    "scrolled": true
   },
   "outputs": [],
   "source": [
    "df_hc = df.loc[df['ladder'].isin(['SSF Harbinger HC', 'Hardcore Harbinger'])]"
   ]
  },
  {
   "cell_type": "code",
   "execution_count": 92,
   "id": "612b261d",
   "metadata": {},
   "outputs": [
    {
     "data": {
      "text/html": [
       "<div>\n",
       "<style scoped>\n",
       "    .dataframe tbody tr th:only-of-type {\n",
       "        vertical-align: middle;\n",
       "    }\n",
       "\n",
       "    .dataframe tbody tr th {\n",
       "        vertical-align: top;\n",
       "    }\n",
       "\n",
       "    .dataframe thead th {\n",
       "        text-align: right;\n",
       "    }\n",
       "</style>\n",
       "<table border=\"1\" class=\"dataframe\">\n",
       "  <thead>\n",
       "    <tr style=\"text-align: right;\">\n",
       "      <th></th>\n",
       "      <th>dead</th>\n",
       "    </tr>\n",
       "    <tr>\n",
       "      <th>ladder</th>\n",
       "      <th></th>\n",
       "    </tr>\n",
       "  </thead>\n",
       "  <tbody>\n",
       "    <tr>\n",
       "      <th>Hardcore Harbinger</th>\n",
       "      <td>0.63</td>\n",
       "    </tr>\n",
       "    <tr>\n",
       "      <th>SSF Harbinger HC</th>\n",
       "      <td>0.74</td>\n",
       "    </tr>\n",
       "  </tbody>\n",
       "</table>\n",
       "</div>"
      ],
      "text/plain": [
       "                    dead\n",
       "ladder                  \n",
       "Hardcore Harbinger  0.63\n",
       "SSF Harbinger HC    0.74"
      ]
     },
     "execution_count": 92,
     "metadata": {},
     "output_type": "execute_result"
    }
   ],
   "source": [
    "df_hc.pivot_table(index = 'ladder', values = 'dead')"
   ]
  },
  {
   "cell_type": "code",
   "execution_count": null,
   "id": "3096a0e4",
   "metadata": {},
   "outputs": [],
   "source": [
    "# dead\n",
    "df_hc.loc[df['dead']]"
   ]
  }
 ],
 "metadata": {
  "kernelspec": {
   "display_name": "Python 3 (ipykernel)",
   "language": "python",
   "name": "python3"
  },
  "language_info": {
   "codemirror_mode": {
    "name": "ipython",
    "version": 3
   },
   "file_extension": ".py",
   "mimetype": "text/x-python",
   "name": "python",
   "nbconvert_exporter": "python",
   "pygments_lexer": "ipython3",
   "version": "3.8.5"
  },
  "toc": {
   "base_numbering": 1,
   "nav_menu": {},
   "number_sections": true,
   "sideBar": true,
   "skip_h1_title": false,
   "title_cell": "Table of Contents",
   "title_sidebar": "Contents",
   "toc_cell": false,
   "toc_position": {
    "height": "746.25px",
    "left": "22px",
    "top": "271.092px",
    "width": "360px"
   },
   "toc_section_display": true,
   "toc_window_display": true
  }
 },
 "nbformat": 4,
 "nbformat_minor": 5
}

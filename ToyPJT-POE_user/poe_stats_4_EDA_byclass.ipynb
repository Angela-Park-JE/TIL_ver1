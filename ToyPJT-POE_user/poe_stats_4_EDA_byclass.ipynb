{
 "cells": [
  {
   "cell_type": "markdown",
   "id": "536f7e71",
   "metadata": {},
   "source": [
    "# Path of Exile game stats data eda\n",
    "\n",
    "dates: 2022.04.30 ~ \n",
    "\n",
    "This file contains an analysis processing of the game 'Path of Exile' data.\n",
    "\n",
    "###### Origins of datas from here: \n",
    "poe_stats : https://www.kaggle.com/datasets/gagazet/path-of-exile-league-statistic\n",
    "\n",
    "Data contains stats of 59000 players, from 4th August of 2017 and before now.\n",
    "\n",
    "---\n",
    "\n",
    "This file made for EDA after altering the original data. (about class and rank)\n",
    "\n",
    "본격적인 EDA로 첫 EDA 주제는 ladder(game mode)에 따라 분석을 진행하였고,\n",
    "\n",
    "이번 파일에서는 다음 분석으로 '클래스별'로 나누어 볼 예정입니다.\n"
   ]
  },
  {
   "cell_type": "markdown",
   "id": "50b8d002",
   "metadata": {},
   "source": [
    "# Dataset and libraries \n",
    "\n",
    "## data and libraries import"
   ]
  },
  {
   "cell_type": "code",
   "execution_count": 1,
   "id": "1a5233bb",
   "metadata": {
    "scrolled": true
   },
   "outputs": [],
   "source": [
    "import pandas as pd\n",
    "import numpy as np\n",
    "import matplotlib.pyplot as plt\n",
    "import seaborn as sns\n",
    "from pathlib import Path\n",
    "import wquantiles\n",
    "\n",
    "from sklearn.utils import resample\n",
    "from scipy import stats\n",
    "from scipy.stats import trim_mean\n",
    "from statsmodels import robust\n",
    "import statsmodels.api as sm\n",
    "import statsmodels.formula.api as smf\n",
    "from statsmodels.stats import power\n",
    "\n",
    "df = pd.read_csv('poe_stats_2revisedrank.csv')"
   ]
  },
  {
   "cell_type": "code",
   "execution_count": 2,
   "id": "eb1b44fc",
   "metadata": {
    "scrolled": true
   },
   "outputs": [
    {
     "data": {
      "text/html": [
       "<div>\n",
       "<style scoped>\n",
       "    .dataframe tbody tr th:only-of-type {\n",
       "        vertical-align: middle;\n",
       "    }\n",
       "\n",
       "    .dataframe tbody tr th {\n",
       "        vertical-align: top;\n",
       "    }\n",
       "\n",
       "    .dataframe thead th {\n",
       "        text-align: right;\n",
       "    }\n",
       "</style>\n",
       "<table border=\"1\" class=\"dataframe\">\n",
       "  <thead>\n",
       "    <tr style=\"text-align: right;\">\n",
       "      <th></th>\n",
       "      <th>rank</th>\n",
       "      <th>dead</th>\n",
       "      <th>online</th>\n",
       "      <th>name</th>\n",
       "      <th>level</th>\n",
       "      <th>class</th>\n",
       "      <th>id</th>\n",
       "      <th>experience</th>\n",
       "      <th>account</th>\n",
       "      <th>challenges</th>\n",
       "      <th>twitch</th>\n",
       "      <th>ladder</th>\n",
       "      <th>special_class</th>\n",
       "      <th>stat_Str</th>\n",
       "      <th>stat_Int</th>\n",
       "      <th>stat_Dex</th>\n",
       "      <th>stats_num</th>\n",
       "    </tr>\n",
       "  </thead>\n",
       "  <tbody>\n",
       "    <tr>\n",
       "      <th>0</th>\n",
       "      <td>1</td>\n",
       "      <td>False</td>\n",
       "      <td>False</td>\n",
       "      <td>Tzn_NecroIsFineNow</td>\n",
       "      <td>100</td>\n",
       "      <td>Necromancer</td>\n",
       "      <td>3dcddd59f5088893f734f39686350990dae168cc4f4b00...</td>\n",
       "      <td>4250334444</td>\n",
       "      <td>TheTzn</td>\n",
       "      <td>40</td>\n",
       "      <td>thetzn</td>\n",
       "      <td>Harbinger</td>\n",
       "      <td>1</td>\n",
       "      <td>0</td>\n",
       "      <td>1</td>\n",
       "      <td>0</td>\n",
       "      <td>1</td>\n",
       "    </tr>\n",
       "    <tr>\n",
       "      <th>1</th>\n",
       "      <td>1</td>\n",
       "      <td>False</td>\n",
       "      <td>False</td>\n",
       "      <td>RaizNeverFirstQT</td>\n",
       "      <td>100</td>\n",
       "      <td>Necromancer</td>\n",
       "      <td>8f3216db5ac9106c287a834731aafc83c387138f28fc45...</td>\n",
       "      <td>4250334444</td>\n",
       "      <td>RaizQT</td>\n",
       "      <td>22</td>\n",
       "      <td>raizqt</td>\n",
       "      <td>SSF Harbinger HC</td>\n",
       "      <td>1</td>\n",
       "      <td>0</td>\n",
       "      <td>1</td>\n",
       "      <td>0</td>\n",
       "      <td>1</td>\n",
       "    </tr>\n",
       "    <tr>\n",
       "      <th>2</th>\n",
       "      <td>1</td>\n",
       "      <td>False</td>\n",
       "      <td>False</td>\n",
       "      <td>GucciStreamerAdvantage</td>\n",
       "      <td>100</td>\n",
       "      <td>Necromancer</td>\n",
       "      <td>c6ec2dae3855c551e0597c06ef2da06fbb5512487ded7f...</td>\n",
       "      <td>4250334444</td>\n",
       "      <td>GucciPradas</td>\n",
       "      <td>35</td>\n",
       "      <td>guccipradas</td>\n",
       "      <td>Hardcore Harbinger</td>\n",
       "      <td>1</td>\n",
       "      <td>0</td>\n",
       "      <td>1</td>\n",
       "      <td>0</td>\n",
       "      <td>1</td>\n",
       "    </tr>\n",
       "    <tr>\n",
       "      <th>3</th>\n",
       "      <td>1</td>\n",
       "      <td>False</td>\n",
       "      <td>False</td>\n",
       "      <td>ChiroxPrime</td>\n",
       "      <td>100</td>\n",
       "      <td>Slayer</td>\n",
       "      <td>c861372da792be0b22c45bf437ccd58437c52e9455e0bf...</td>\n",
       "      <td>4250334444</td>\n",
       "      <td>Chiroxun</td>\n",
       "      <td>26</td>\n",
       "      <td>NaN</td>\n",
       "      <td>SSF Harbinger</td>\n",
       "      <td>1</td>\n",
       "      <td>1</td>\n",
       "      <td>0</td>\n",
       "      <td>1</td>\n",
       "      <td>2</td>\n",
       "    </tr>\n",
       "    <tr>\n",
       "      <th>4</th>\n",
       "      <td>2</td>\n",
       "      <td>False</td>\n",
       "      <td>False</td>\n",
       "      <td>Cool_NecroIsFineNow</td>\n",
       "      <td>100</td>\n",
       "      <td>Deadeye</td>\n",
       "      <td>24ae924ceed7989ef3d3d6772612832bb467a6094352c7...</td>\n",
       "      <td>4250334444</td>\n",
       "      <td>cooltail</td>\n",
       "      <td>22</td>\n",
       "      <td>NaN</td>\n",
       "      <td>Harbinger</td>\n",
       "      <td>1</td>\n",
       "      <td>0</td>\n",
       "      <td>0</td>\n",
       "      <td>1</td>\n",
       "      <td>1</td>\n",
       "    </tr>\n",
       "  </tbody>\n",
       "</table>\n",
       "</div>"
      ],
      "text/plain": [
       "   rank   dead  online                    name  level        class  \\\n",
       "0     1  False   False      Tzn_NecroIsFineNow    100  Necromancer   \n",
       "1     1  False   False        RaizNeverFirstQT    100  Necromancer   \n",
       "2     1  False   False  GucciStreamerAdvantage    100  Necromancer   \n",
       "3     1  False   False             ChiroxPrime    100       Slayer   \n",
       "4     2  False   False     Cool_NecroIsFineNow    100      Deadeye   \n",
       "\n",
       "                                                  id  experience      account  \\\n",
       "0  3dcddd59f5088893f734f39686350990dae168cc4f4b00...  4250334444       TheTzn   \n",
       "1  8f3216db5ac9106c287a834731aafc83c387138f28fc45...  4250334444       RaizQT   \n",
       "2  c6ec2dae3855c551e0597c06ef2da06fbb5512487ded7f...  4250334444  GucciPradas   \n",
       "3  c861372da792be0b22c45bf437ccd58437c52e9455e0bf...  4250334444     Chiroxun   \n",
       "4  24ae924ceed7989ef3d3d6772612832bb467a6094352c7...  4250334444     cooltail   \n",
       "\n",
       "   challenges       twitch              ladder  special_class  stat_Str  \\\n",
       "0          40       thetzn           Harbinger              1         0   \n",
       "1          22       raizqt    SSF Harbinger HC              1         0   \n",
       "2          35  guccipradas  Hardcore Harbinger              1         0   \n",
       "3          26          NaN       SSF Harbinger              1         1   \n",
       "4          22          NaN           Harbinger              1         0   \n",
       "\n",
       "   stat_Int  stat_Dex  stats_num  \n",
       "0         1         0          1  \n",
       "1         1         0          1  \n",
       "2         1         0          1  \n",
       "3         0         1          2  \n",
       "4         0         1          1  "
      ]
     },
     "execution_count": 2,
     "metadata": {},
     "output_type": "execute_result"
    }
   ],
   "source": [
    "df.head()"
   ]
  },
  {
   "cell_type": "code",
   "execution_count": 3,
   "id": "5ad5cb76",
   "metadata": {},
   "outputs": [
    {
     "data": {
      "text/plain": [
       "(59776, 17)"
      ]
     },
     "execution_count": 3,
     "metadata": {},
     "output_type": "execute_result"
    }
   ],
   "source": [
    "df.shape"
   ]
  },
  {
   "cell_type": "markdown",
   "id": "09343a54",
   "metadata": {},
   "source": [
    "## data describes\n",
    "\n",
    "이루어진 컬럼들, 그리고 간단한 통계량 결과 내어놓기"
   ]
  },
  {
   "cell_type": "code",
   "execution_count": 4,
   "id": "a8231954",
   "metadata": {},
   "outputs": [
    {
     "data": {
      "text/plain": [
       "Index(['rank', 'dead', 'online', 'name', 'level', 'class', 'id', 'experience',\n",
       "       'account', 'challenges', 'twitch', 'ladder', 'special_class',\n",
       "       'stat_Str', 'stat_Int', 'stat_Dex', 'stats_num'],\n",
       "      dtype='object')"
      ]
     },
     "execution_count": 4,
     "metadata": {},
     "output_type": "execute_result"
    }
   ],
   "source": [
    "# columns name\n",
    "\n",
    "df.columns"
   ]
  },
  {
   "cell_type": "code",
   "execution_count": 5,
   "id": "c0fc1329",
   "metadata": {},
   "outputs": [
    {
     "data": {
      "text/html": [
       "<div>\n",
       "<style scoped>\n",
       "    .dataframe tbody tr th:only-of-type {\n",
       "        vertical-align: middle;\n",
       "    }\n",
       "\n",
       "    .dataframe tbody tr th {\n",
       "        vertical-align: top;\n",
       "    }\n",
       "\n",
       "    .dataframe thead th {\n",
       "        text-align: right;\n",
       "    }\n",
       "</style>\n",
       "<table border=\"1\" class=\"dataframe\">\n",
       "  <thead>\n",
       "    <tr style=\"text-align: right;\">\n",
       "      <th></th>\n",
       "      <th>rank</th>\n",
       "      <th>level</th>\n",
       "      <th>experience</th>\n",
       "      <th>challenges</th>\n",
       "      <th>special_class</th>\n",
       "      <th>stat_Str</th>\n",
       "      <th>stat_Int</th>\n",
       "      <th>stat_Dex</th>\n",
       "      <th>stats_num</th>\n",
       "    </tr>\n",
       "  </thead>\n",
       "  <tbody>\n",
       "    <tr>\n",
       "      <th>count</th>\n",
       "      <td>59776.000000</td>\n",
       "      <td>59776.000000</td>\n",
       "      <td>5.977600e+04</td>\n",
       "      <td>59776.000000</td>\n",
       "      <td>59776.000000</td>\n",
       "      <td>59776.000000</td>\n",
       "      <td>59776.000000</td>\n",
       "      <td>59776.000000</td>\n",
       "      <td>59776.000000</td>\n",
       "    </tr>\n",
       "    <tr>\n",
       "      <th>mean</th>\n",
       "      <td>7472.536386</td>\n",
       "      <td>85.422578</td>\n",
       "      <td>1.825786e+09</td>\n",
       "      <td>25.759569</td>\n",
       "      <td>0.991702</td>\n",
       "      <td>0.582207</td>\n",
       "      <td>0.418027</td>\n",
       "      <td>0.513450</td>\n",
       "      <td>1.513684</td>\n",
       "    </tr>\n",
       "    <tr>\n",
       "      <th>std</th>\n",
       "      <td>4314.060306</td>\n",
       "      <td>11.288017</td>\n",
       "      <td>1.094748e+09</td>\n",
       "      <td>8.440888</td>\n",
       "      <td>0.090713</td>\n",
       "      <td>0.493200</td>\n",
       "      <td>0.493239</td>\n",
       "      <td>0.499823</td>\n",
       "      <td>0.614134</td>\n",
       "    </tr>\n",
       "    <tr>\n",
       "      <th>min</th>\n",
       "      <td>1.000000</td>\n",
       "      <td>53.000000</td>\n",
       "      <td>7.790982e+07</td>\n",
       "      <td>4.000000</td>\n",
       "      <td>0.000000</td>\n",
       "      <td>0.000000</td>\n",
       "      <td>0.000000</td>\n",
       "      <td>0.000000</td>\n",
       "      <td>1.000000</td>\n",
       "    </tr>\n",
       "    <tr>\n",
       "      <th>25%</th>\n",
       "      <td>3736.750000</td>\n",
       "      <td>78.000000</td>\n",
       "      <td>7.774697e+08</td>\n",
       "      <td>19.000000</td>\n",
       "      <td>1.000000</td>\n",
       "      <td>0.000000</td>\n",
       "      <td>0.000000</td>\n",
       "      <td>0.000000</td>\n",
       "      <td>1.000000</td>\n",
       "    </tr>\n",
       "    <tr>\n",
       "      <th>50%</th>\n",
       "      <td>7472.500000</td>\n",
       "      <td>90.000000</td>\n",
       "      <td>1.934010e+09</td>\n",
       "      <td>25.000000</td>\n",
       "      <td>1.000000</td>\n",
       "      <td>1.000000</td>\n",
       "      <td>0.000000</td>\n",
       "      <td>1.000000</td>\n",
       "      <td>1.000000</td>\n",
       "    </tr>\n",
       "    <tr>\n",
       "      <th>75%</th>\n",
       "      <td>11208.250000</td>\n",
       "      <td>95.000000</td>\n",
       "      <td>2.876117e+09</td>\n",
       "      <td>33.000000</td>\n",
       "      <td>1.000000</td>\n",
       "      <td>1.000000</td>\n",
       "      <td>1.000000</td>\n",
       "      <td>1.000000</td>\n",
       "      <td>2.000000</td>\n",
       "    </tr>\n",
       "    <tr>\n",
       "      <th>max</th>\n",
       "      <td>14981.000000</td>\n",
       "      <td>100.000000</td>\n",
       "      <td>4.250334e+09</td>\n",
       "      <td>40.000000</td>\n",
       "      <td>1.000000</td>\n",
       "      <td>1.000000</td>\n",
       "      <td>1.000000</td>\n",
       "      <td>1.000000</td>\n",
       "      <td>3.000000</td>\n",
       "    </tr>\n",
       "  </tbody>\n",
       "</table>\n",
       "</div>"
      ],
      "text/plain": [
       "               rank         level    experience    challenges  special_class  \\\n",
       "count  59776.000000  59776.000000  5.977600e+04  59776.000000   59776.000000   \n",
       "mean    7472.536386     85.422578  1.825786e+09     25.759569       0.991702   \n",
       "std     4314.060306     11.288017  1.094748e+09      8.440888       0.090713   \n",
       "min        1.000000     53.000000  7.790982e+07      4.000000       0.000000   \n",
       "25%     3736.750000     78.000000  7.774697e+08     19.000000       1.000000   \n",
       "50%     7472.500000     90.000000  1.934010e+09     25.000000       1.000000   \n",
       "75%    11208.250000     95.000000  2.876117e+09     33.000000       1.000000   \n",
       "max    14981.000000    100.000000  4.250334e+09     40.000000       1.000000   \n",
       "\n",
       "           stat_Str      stat_Int      stat_Dex     stats_num  \n",
       "count  59776.000000  59776.000000  59776.000000  59776.000000  \n",
       "mean       0.582207      0.418027      0.513450      1.513684  \n",
       "std        0.493200      0.493239      0.499823      0.614134  \n",
       "min        0.000000      0.000000      0.000000      1.000000  \n",
       "25%        0.000000      0.000000      0.000000      1.000000  \n",
       "50%        1.000000      0.000000      1.000000      1.000000  \n",
       "75%        1.000000      1.000000      1.000000      2.000000  \n",
       "max        1.000000      1.000000      1.000000      3.000000  "
      ]
     },
     "execution_count": 5,
     "metadata": {},
     "output_type": "execute_result"
    }
   ],
   "source": [
    "df.describe()"
   ]
  },
  {
   "cell_type": "code",
   "execution_count": 6,
   "id": "d5b6dd1e",
   "metadata": {},
   "outputs": [
    {
     "data": {
      "text/html": [
       "<div>\n",
       "<style scoped>\n",
       "    .dataframe tbody tr th:only-of-type {\n",
       "        vertical-align: middle;\n",
       "    }\n",
       "\n",
       "    .dataframe tbody tr th {\n",
       "        vertical-align: top;\n",
       "    }\n",
       "\n",
       "    .dataframe thead th {\n",
       "        text-align: right;\n",
       "    }\n",
       "</style>\n",
       "<table border=\"1\" class=\"dataframe\">\n",
       "  <thead>\n",
       "    <tr style=\"text-align: right;\">\n",
       "      <th></th>\n",
       "      <th>name</th>\n",
       "      <th>class</th>\n",
       "      <th>id</th>\n",
       "      <th>account</th>\n",
       "      <th>twitch</th>\n",
       "      <th>ladder</th>\n",
       "    </tr>\n",
       "  </thead>\n",
       "  <tbody>\n",
       "    <tr>\n",
       "      <th>count</th>\n",
       "      <td>59776</td>\n",
       "      <td>59776</td>\n",
       "      <td>59776</td>\n",
       "      <td>59776</td>\n",
       "      <td>16300</td>\n",
       "      <td>59776</td>\n",
       "    </tr>\n",
       "    <tr>\n",
       "      <th>unique</th>\n",
       "      <td>58286</td>\n",
       "      <td>26</td>\n",
       "      <td>59776</td>\n",
       "      <td>37123</td>\n",
       "      <td>9613</td>\n",
       "      <td>4</td>\n",
       "    </tr>\n",
       "    <tr>\n",
       "      <th>top</th>\n",
       "      <td>_Flic_</td>\n",
       "      <td>Berserker</td>\n",
       "      <td>3dcddd59f5088893f734f39686350990dae168cc4f4b00...</td>\n",
       "      <td>chuz101</td>\n",
       "      <td>thespunkylobster</td>\n",
       "      <td>SSF Harbinger</td>\n",
       "    </tr>\n",
       "    <tr>\n",
       "      <th>freq</th>\n",
       "      <td>14</td>\n",
       "      <td>8711</td>\n",
       "      <td>1</td>\n",
       "      <td>30</td>\n",
       "      <td>18</td>\n",
       "      <td>14981</td>\n",
       "    </tr>\n",
       "  </tbody>\n",
       "</table>\n",
       "</div>"
      ],
      "text/plain": [
       "          name      class                                                 id  \\\n",
       "count    59776      59776                                              59776   \n",
       "unique   58286         26                                              59776   \n",
       "top     _Flic_  Berserker  3dcddd59f5088893f734f39686350990dae168cc4f4b00...   \n",
       "freq        14       8711                                                  1   \n",
       "\n",
       "        account            twitch         ladder  \n",
       "count     59776             16300          59776  \n",
       "unique    37123              9613              4  \n",
       "top     chuz101  thespunkylobster  SSF Harbinger  \n",
       "freq         30                18          14981  "
      ]
     },
     "execution_count": 6,
     "metadata": {},
     "output_type": "execute_result"
    }
   ],
   "source": [
    "df.describe(include='object')"
   ]
  },
  {
   "cell_type": "markdown",
   "id": "c27fa59a",
   "metadata": {},
   "source": [
    "## describe result understanding (same with previous file)\n",
    "\n",
    "##### 1. rank\n",
    "rank가 이루어진 순위는 15000이나 50%에 7472로 있는 것을 볼 수 있다. \n",
    "\n",
    "rank의 빈 곳을 일부 채워 넣었기 때문이며, rank max 값 또한 15000이었으나 14981로 수정되어있다.\n",
    "\n",
    "##### 2. level\n",
    "이들의 평균 level 은 85이다. 최대 level이 100이지만 대부분 숙련자라는 뜻이며, 이들 중 50%에 해당하는 랭커들이 90레벨 이상이다. 또한 그들 중 25%에 해당하는 사람들이 95레벨 이상이었다. \n",
    "\n",
    "*(레벨은 경험이 많은 유저일 수록 레벨이 높고, 그들이 상위 랭크에 올라가있을 확률또한 높으며, 게임이 오래될 수록 신규 유저의 유입은 줄어들어서 전체 유저들의 평균 레벨 자체가 올라가기 때문에 크게 의미를 두지 않을 생각이다.)*\n",
    "\n",
    "##### 3. exp\n",
    "경험치는 레벨 자체와 비슷하게 여길 수 있으나 평균이 1.825786e+09, 50%가 1.934010e+09, max값이 4.250334e+09 이다.\n",
    "\n",
    "그러나 표준편차가 1.094748e+09이다. 가장 작은 값은 7.790982e+07 인데 이와 비교해보기만 해도 상당히 큰 표준편차인 것을 확인할 수 있다.\n",
    "\n",
    "최소 레벨이 53임을 함께 견주어 볼때, 일반적인 RPG가 그렇듯 레벨이 올라갈 수록 경험치를 더 많이 쌓아야 레벨을 올릴 수 있음을 예상해 볼 수 있는 부분이다. \n",
    "\n",
    "##### 4. challenges\n",
    "도전 횟수로 생각이 된다. 해당 게임 모드를 몇 번을 수행을 했는지에 대한 것으로 생각된다. 적은 사람은 4번이지만 많은 사람은 40번이며,\n",
    "\n",
    "이 15000등 안에 드는 사람들은 평균적으로 25회 정도 시도한 사람들이었다는 것을 확인할 수 있다.\n",
    "\n",
    "##### 5. 'special_class', 'stat_Str', 'stat_Int', 'stat_Dex', 'stats_num'\n",
    "이 부분은 임의로 내가 넣은 부분으로, 클래스를 스탯으로 나누어 쉽게 구분할 수 있도록 만들었다. \n",
    "\n",
    "직업 자체도 직업 자체지만, 해당 스킬을 찍기 위해 스탯을 올린다던지, 그렇게 올린 스탯을 더 잘 활용하기 위해 직업을 선택했을 수 있는 부분이 보였기 때문이다.\n",
    "\n",
    "##### 6. name\n",
    "비슷한 이름을 쓰는 경우가 많은 가보다. '_Flic_' 이라는 이름이 등장한 것은, 인기있는 이름이었거나 혹은 동일 유저가 많은 계정을 썼을 수도 있다.\n",
    "\n",
    "확실한 건 이 게임은 같은 닉네임을 허용하는 게임인 것이라는 점이다.\n",
    "\n",
    "##### 7. class\n",
    "19개 의 전직 클래스와 7개의 전직 이전 클래스 총 26개가 보인다.\n",
    "\n",
    "가장 많이 등장한 직업은 스탯 중 힘만 찍는 Marauder 계열의 'Berserker'이고 총 8711 번 등장한다고 한다.\n",
    "\n",
    "##### 8. id and account\n",
    "id는 unique 하다. 게임 내에서 캐릭터가 구분되어야 하기 때문일 것이다. 하지만 한 계정이 최대 30번 등장한다. 계정당 만들 수 있는 캐릭터가 제한이 없...나? (게임마다 캐릭터 슬롯을 확장하는 데에 현금을 요구하기도 하기 때문에 이해하지만 30개라니. 다양한 스탯으로 다양한 직업을 할 수 있는 점에서 수긍은 가는 부분.)\n",
    "\n",
    "30개를 만든 사람은 바로 'chuz101'이라는 유저이다.\n",
    "\n",
    "재미있는 부분은 6만 여개에 이르는 랭커 순위에서, 사실 unique account, 즉 실제 유저 자체는 6만 여명이 아니라 37123명인 점이다. \n",
    "\n",
    "그리고 이 또한 같은 사람이 여러 account를 쓸 가능성도 있기 때문에 실제 랭커는 더욱 줄어들 수 있다. (twitch 아이디로 찾아보면 나오겠지...?)\n",
    "\n",
    "##### 9. twitch\n",
    "유일하게 null 값이 있었던 컬럼이다. 실시간 스트리밍을 했는지 안했는지는 모르지만 해당 유저가 자신의 트위치 아이디를 등록을 했는지 안했는지에 따라 나오는 것으로 보인다. \n",
    "\n",
    "정확한 사실을 알면 더 좋겠지만, 이 컬럼 자체로 이 사람이 스밍을 하는 트위치 유저였는지 아니면 입력하래서 가지고 있는 트위치 계정을 입력했을 뿐인지는 큰 차이이기 때문에 동일 유저를 판별하는 부분에서만 사용할 수 있을 것으로 생각된다.\n",
    "\n",
    "위에 계정 개수를 생각했을 때 유니크값이 9613개인 것을 보면 랭커 4명중 1명은 트위치 계정을 갖고있다.\n",
    "\n",
    "그리고 총 16300 레코드가 기록되어 있으므로 같은 유저의 다 계정이 확실시 되는 부분이다.\n",
    "\n",
    "'thespunkylobster' 라고 성급한 바닷가재라는 사람이 총 18번 등장했다고 한다.\n",
    "\n",
    "##### 10. ladder\n",
    "이전에 자세히 다루었던 부분이지만, 이 데이터를 크게 구분짓는 줄기라고 생각된다. 왜냐하면 게임모드이고, 게임모드의 난이도나 파티플레이 가능 여부는 게임 플레이에서 큰 영향을 끼친다.\n",
    "\n",
    "숙련되지 않은 사람을 버스태울(!)수도 있고, 클래스별로 분포도 갈릴 것이다. 이후 자세히 볼 예정이다.\n",
    "\n",
    "---\n",
    "\n",
    "*분석의 목적을 정확히 정하고 싶지만 이 게임에서 랭킹에 드는 기준조차 제대로 모르기 때문에, 랭커들의 직업이나 특성들을 찾아보는 것을 주 목적으로 하되, 데이터로 게임(맥락)을 이해할 수 있을지 궁금한 부분도 있어서 최대한 많은 생각을 하면서 분석을 진행하려 한다.*"
   ]
  },
  {
   "cell_type": "code",
   "execution_count": 7,
   "id": "1511e496",
   "metadata": {
    "scrolled": true
   },
   "outputs": [
    {
     "data": {
      "text/plain": [
       "rank             14981\n",
       "dead                 2\n",
       "online               2\n",
       "name             58286\n",
       "level               48\n",
       "class               26\n",
       "id               59776\n",
       "experience       54124\n",
       "account          37123\n",
       "challenges          37\n",
       "twitch            9613\n",
       "ladder               4\n",
       "special_class        2\n",
       "stat_Str             2\n",
       "stat_Int             2\n",
       "stat_Dex             2\n",
       "stats_num            3\n",
       "dtype: int64"
      ]
     },
     "execution_count": 7,
     "metadata": {},
     "output_type": "execute_result"
    }
   ],
   "source": [
    "df.nunique()"
   ]
  },
  {
   "cell_type": "code",
   "execution_count": 8,
   "id": "f894c720",
   "metadata": {
    "scrolled": true
   },
   "outputs": [
    {
     "data": {
      "text/plain": [
       "rank                 0\n",
       "dead                 0\n",
       "online               0\n",
       "name                 0\n",
       "level                0\n",
       "class                0\n",
       "id                   0\n",
       "experience           0\n",
       "account              0\n",
       "challenges           0\n",
       "twitch           43476\n",
       "ladder               0\n",
       "special_class        0\n",
       "stat_Str             0\n",
       "stat_Int             0\n",
       "stat_Dex             0\n",
       "stats_num            0\n",
       "dtype: int64"
      ]
     },
     "execution_count": 8,
     "metadata": {},
     "output_type": "execute_result"
    }
   ],
   "source": [
    "df.isnull().sum()"
   ]
  },
  {
   "cell_type": "markdown",
   "id": "fe62e35a",
   "metadata": {},
   "source": [
    "## 전처리1: Drop columns\n",
    "\n",
    "본 파일에서는 클래스를 중심으로 레벨, 경험치, 죽음이나, 시도 횟수 등을 볼 것이기 때문에 name과 account, twitch는 제거하도록 할 것이다. \n",
    "\n",
    "유저와 관련한 상세한 데이터분석은 다른 파일에서 진행할 것!\n",
    "\n",
    "다른 것들은 겹칠 수 있어서 고유 값이 필요하므로 id는 남겨두기로 한다."
   ]
  },
  {
   "cell_type": "code",
   "execution_count": 9,
   "id": "c9262ad7",
   "metadata": {},
   "outputs": [],
   "source": [
    "df.drop(columns = ['name', 'account', 'twitch'], inplace = True)"
   ]
  },
  {
   "cell_type": "markdown",
   "id": "5a4b3731",
   "metadata": {},
   "source": [
    "# Division with 'class' in this file"
   ]
  },
  {
   "cell_type": "markdown",
   "id": "c36830e6",
   "metadata": {},
   "source": [
    "## class divising conditions\n",
    "\n",
    "```\n",
    "각 클래스 나누기 (전직하지 않은 사람들도 있기 때문에 각 전직 이전 직업도 넣어준다.)\n",
    "\n",
    "# 한 개인 직업\n",
    "Marauder = ['Marauder', 'Juggernaut', 'Berserker', 'Chieftain'] # Strength\n",
    "Witch = ['Witch', 'Necromancer', 'Elementalist', 'Occultist'] # Intelligence\n",
    "Ranger = ['Ranger', 'Raider', 'Deadeye', 'Pathfinder'] # Dexterity\n",
    "\n",
    "# 두 개인 직업\n",
    "Duelist = ['Duelist', 'Slayer', 'Gladiator', 'Champion'] # Strength, Dexterity\n",
    "Shadow = ['Shadow', 'Assassin', 'Saboteur', 'Trickster'] # Dexterity, Intelligence\n",
    "Templar = ['Templar', 'Inquisitor', 'Hierophant', 'Guardian'] # Intelligence, Strength\n",
    "\n",
    "# 세 개인 직업\n",
    "Scion = ['Scion', 'Ascendant'] # Strength, Dexterity, Intelligence\n",
    "```"
   ]
  },
  {
   "cell_type": "code",
   "execution_count": 10,
   "id": "8e44879e",
   "metadata": {},
   "outputs": [],
   "source": [
    "\"\"\"\n",
    "이후 데이터를 조금 쉽게 활용하기 위해 나누었던 컬럼을 사용할 부분을 적어둔다.\n",
    "\"\"\"\n",
    "\n",
    "# 전직을 선택하지 않은 직업\n",
    "con_pre_classes = df['special_class'] == 0\n",
    "\n",
    "# 각 스탯을 찍은 상태\n",
    "con_str = df['stat_Str'] == 1\n",
    "con_int = df['stat_Int'] == 1\n",
    "con_dex = df['stat_Dex'] == 1"
   ]
  },
  {
   "cell_type": "code",
   "execution_count": 11,
   "id": "d06cc22d",
   "metadata": {},
   "outputs": [
    {
     "data": {
      "text/plain": [
       "array(['Chieftain', 'Berserker', 'Juggernaut', 'Marauder'], dtype=object)"
      ]
     },
     "execution_count": 11,
     "metadata": {},
     "output_type": "execute_result"
    }
   ],
   "source": [
    "# condition 확인용 Marauder\n",
    "\n",
    "df[con_str & ~con_int & ~con_dex]['class'].unique()"
   ]
  },
  {
   "cell_type": "markdown",
   "id": "062d31be",
   "metadata": {},
   "source": [
    "# how much is each stats about "
   ]
  },
  {
   "cell_type": "markdown",
   "id": "f4d92e38",
   "metadata": {},
   "source": [
    "## Only one stats\n",
    "\n",
    "고유한 id는 지웠으나 rank는 "
   ]
  },
  {
   "cell_type": "code",
   "execution_count": 12,
   "id": "71dae50b",
   "metadata": {},
   "outputs": [
    {
     "name": "stdout",
     "output_type": "stream",
     "text": [
      "Marauders(Only Strenth characters) rate :\n",
      "21.69097965738758\n"
     ]
    }
   ],
   "source": [
    "# 힘에 올인한 랭커유저는 전체랭커 중 얼마나 될까?\n",
    "\n",
    "print(\"Marauders(Only Strenth characters) rate :\")\n",
    "print(df[con_str & ~con_int & ~con_dex]['id'].count()/df['id'].count() * 100)"
   ]
  },
  {
   "cell_type": "code",
   "execution_count": 13,
   "id": "a998c380",
   "metadata": {},
   "outputs": [
    {
     "name": "stdout",
     "output_type": "stream",
     "text": [
      "Rangers(Only Dexterity characters) rate :\n",
      "16.99009635974304\n"
     ]
    }
   ],
   "source": [
    "# 민첩에 올인한 랭커유저는 전체랭커 중 얼마나 될까?\n",
    "\n",
    "print(\"Rangers(Only Dexterity characters) rate :\")\n",
    "print(df[~con_str & ~con_int & con_dex]['id'].count()/df['id'].count() * 100)"
   ]
  },
  {
   "cell_type": "code",
   "execution_count": 14,
   "id": "cc41c699",
   "metadata": {
    "scrolled": true
   },
   "outputs": [
    {
     "name": "stdout",
     "output_type": "stream",
     "text": [
      "Witches(Only Intellegence characters) rate :\n",
      "16.317585653104924\n"
     ]
    }
   ],
   "source": [
    "# 지능에 올인한 랭커유저는 전체랭커 중 얼마나 될까?\n",
    "\n",
    "print(\"Witches(Only Intellegence characters) rate :\")\n",
    "print(df[~con_str & con_int & ~con_dex]['id'].count()/df['id'].count() * 100)"
   ]
  },
  {
   "cell_type": "markdown",
   "id": "859f6a48",
   "metadata": {},
   "source": [
    "## Two stats"
   ]
  },
  {
   "cell_type": "code",
   "execution_count": 15,
   "id": "0556d501",
   "metadata": {},
   "outputs": [
    {
     "name": "stdout",
     "output_type": "stream",
     "text": [
      "Duelists(Strenth and Dexterity stats characters) rate :\n",
      "19.516193790149895\n"
     ]
    }
   ],
   "source": [
    "# 힘과 민첩을 올린 랭커유저는 전체랭커 중 얼마나 될까?\n",
    "\n",
    "print(\"Duelists(Strenth and Dexterity stats characters) rate :\")\n",
    "print(df[con_str & ~con_int & con_dex]['id'].count()/df['id'].count() * 100)"
   ]
  },
  {
   "cell_type": "code",
   "execution_count": 16,
   "id": "b93b1ced",
   "metadata": {},
   "outputs": [
    {
     "name": "stdout",
     "output_type": "stream",
     "text": [
      "Shadows(Dexterity and Intellegence stats characters) rate :\n",
      "8.471627408993577\n"
     ]
    }
   ],
   "source": [
    "# 민첩과 지능을 올린 랭커유저는 전체랭커 중 얼마나 될까?\n",
    "\n",
    "print(\"Shadows(Dexterity and Intellegence stats characters) rate :\")\n",
    "print(df[~con_str & con_int & con_dex]['id'].count()/df['id'].count() * 100)"
   ]
  },
  {
   "cell_type": "code",
   "execution_count": 17,
   "id": "fc7bde4e",
   "metadata": {
    "scrolled": true
   },
   "outputs": [
    {
     "name": "stdout",
     "output_type": "stream",
     "text": [
      "Templars(Intellegence and Strenth stats characters) rate :\n",
      "10.646413276231263\n"
     ]
    }
   ],
   "source": [
    "# 지능과 힘을 올린 랭커유저는 전체랭커 중 얼마나 될까?\n",
    "\n",
    "print(\"Templars(Intellegence and Strenth stats characters) rate :\")\n",
    "print(df[con_str & con_int & ~con_dex]['id'].count()/df['id'].count() * 100)"
   ]
  },
  {
   "cell_type": "markdown",
   "id": "a3d8a07d",
   "metadata": {},
   "source": [
    "## Thre stats - Scions"
   ]
  },
  {
   "cell_type": "code",
   "execution_count": 18,
   "id": "ad3596ba",
   "metadata": {},
   "outputs": [
    {
     "name": "stdout",
     "output_type": "stream",
     "text": [
      "Scions(all three stats characters) rate :\n",
      "6.367103854389722\n"
     ]
    }
   ],
   "source": [
    "# 세 스탯을 골고루 하길 원한 랭커유저는 전체랭커 중 얼마나 될까?\n",
    "\n",
    "print(\"Scions(all three stats characters) rate :\")\n",
    "print(df[df['stats_num'] == 3]['id'].count()/df['id'].count() * 100)"
   ]
  },
  {
   "cell_type": "markdown",
   "id": "e1f3d469",
   "metadata": {},
   "source": [
    "## 전처리2: 분석의 편의상 라벨링을 해야할 필요성을 느껴서 진행"
   ]
  },
  {
   "cell_type": "code",
   "execution_count": 19,
   "id": "659c891f",
   "metadata": {},
   "outputs": [],
   "source": [
    "# 분석상 편의를 위해 직업군 라벨링을 해야하는 상황이 와서 컬럼을 만들기로 했다.\n",
    "\n",
    "# 한 개인 직업\n",
    "Marauder = ['Marauder', 'Juggernaut', 'Berserker', 'Chieftain'] # Strength\n",
    "Witch = ['Witch', 'Necromancer', 'Elementalist', 'Occultist'] # Intelligence\n",
    "Ranger = ['Ranger', 'Raider', 'Deadeye', 'Pathfinder'] # Dexterity\n",
    "\n",
    "# 두 개인 직업\n",
    "Duelist = ['Duelist', 'Slayer', 'Gladiator', 'Champion'] # Strength, Dexterity\n",
    "Shadow = ['Shadow', 'Assassin', 'Saboteur', 'Trickster'] # Dexterity, Intelligence\n",
    "Templar = ['Templar', 'Inquisitor', 'Hierophant', 'Guardian'] # Intelligence, Strength\n",
    "\n",
    "# 세 개인 직업\n",
    "Scion = ['Scion', 'Ascendant'] # Strength, Dexterity, Intelligence"
   ]
  },
  {
   "cell_type": "code",
   "execution_count": 20,
   "id": "009a03aa",
   "metadata": {
    "scrolled": true
   },
   "outputs": [],
   "source": [
    "df['pre_class'] = '1'\n",
    "conditionlist = [\n",
    "    (con_str & ~con_int & ~con_dex),\n",
    "    (~con_str & con_int & ~con_dex),\n",
    "    (~con_str & ~con_int & con_dex),\n",
    "    (con_str & ~con_int & con_dex),\n",
    "    (~con_str & con_int & con_dex),\n",
    "    (con_str & con_int & ~con_dex),\n",
    "    (con_str & con_int & con_dex)]\n",
    "choicelist = ['M', 'W', 'R', 'D', 'S', 'T', 'Sc']\n",
    "df['pre_class'] = np.select(conditionlist, choicelist, default='Not Specified')"
   ]
  },
  {
   "cell_type": "code",
   "execution_count": 21,
   "id": "2bc4e09f",
   "metadata": {},
   "outputs": [
    {
     "data": {
      "text/plain": [
       "array(['W', 'D', 'R', 'T', 'M', 'Sc', 'S'], dtype=object)"
      ]
     },
     "execution_count": 21,
     "metadata": {},
     "output_type": "execute_result"
    }
   ],
   "source": [
    "df['pre_class'].unique()"
   ]
  },
  {
   "cell_type": "code",
   "execution_count": 22,
   "id": "f7853e66",
   "metadata": {},
   "outputs": [
    {
     "data": {
      "text/html": [
       "<div>\n",
       "<style scoped>\n",
       "    .dataframe tbody tr th:only-of-type {\n",
       "        vertical-align: middle;\n",
       "    }\n",
       "\n",
       "    .dataframe tbody tr th {\n",
       "        vertical-align: top;\n",
       "    }\n",
       "\n",
       "    .dataframe thead th {\n",
       "        text-align: right;\n",
       "    }\n",
       "</style>\n",
       "<table border=\"1\" class=\"dataframe\">\n",
       "  <thead>\n",
       "    <tr style=\"text-align: right;\">\n",
       "      <th></th>\n",
       "      <th>rank</th>\n",
       "      <th>dead</th>\n",
       "      <th>online</th>\n",
       "      <th>level</th>\n",
       "      <th>class</th>\n",
       "      <th>id</th>\n",
       "      <th>experience</th>\n",
       "      <th>challenges</th>\n",
       "      <th>ladder</th>\n",
       "      <th>special_class</th>\n",
       "      <th>stat_Str</th>\n",
       "      <th>stat_Int</th>\n",
       "      <th>stat_Dex</th>\n",
       "      <th>stats_num</th>\n",
       "      <th>pre_class</th>\n",
       "    </tr>\n",
       "  </thead>\n",
       "  <tbody>\n",
       "    <tr>\n",
       "      <th>36209</th>\n",
       "      <td>9035</td>\n",
       "      <td>False</td>\n",
       "      <td>False</td>\n",
       "      <td>95</td>\n",
       "      <td>Pathfinder</td>\n",
       "      <td>5574f05452333a0b4d7aa91bad9acb7c7eee40978c89b4...</td>\n",
       "      <td>2886280624</td>\n",
       "      <td>29</td>\n",
       "      <td>Harbinger</td>\n",
       "      <td>1</td>\n",
       "      <td>0</td>\n",
       "      <td>0</td>\n",
       "      <td>1</td>\n",
       "      <td>1</td>\n",
       "      <td>R</td>\n",
       "    </tr>\n",
       "    <tr>\n",
       "      <th>40881</th>\n",
       "      <td>10203</td>\n",
       "      <td>False</td>\n",
       "      <td>False</td>\n",
       "      <td>95</td>\n",
       "      <td>Berserker</td>\n",
       "      <td>35636fb85402fb984ba81cd209ee71c8ed48a23fdb99c0...</td>\n",
       "      <td>2879510721</td>\n",
       "      <td>40</td>\n",
       "      <td>Harbinger</td>\n",
       "      <td>1</td>\n",
       "      <td>1</td>\n",
       "      <td>0</td>\n",
       "      <td>0</td>\n",
       "      <td>1</td>\n",
       "      <td>M</td>\n",
       "    </tr>\n",
       "    <tr>\n",
       "      <th>38645</th>\n",
       "      <td>9681</td>\n",
       "      <td>False</td>\n",
       "      <td>False</td>\n",
       "      <td>67</td>\n",
       "      <td>Pathfinder</td>\n",
       "      <td>713c8c25aa6baa10a3c6f0d0809c8e77c96b1d2890e17d...</td>\n",
       "      <td>294210784</td>\n",
       "      <td>24</td>\n",
       "      <td>SSF Harbinger HC</td>\n",
       "      <td>1</td>\n",
       "      <td>0</td>\n",
       "      <td>0</td>\n",
       "      <td>1</td>\n",
       "      <td>1</td>\n",
       "      <td>R</td>\n",
       "    </tr>\n",
       "    <tr>\n",
       "      <th>13921</th>\n",
       "      <td>3473</td>\n",
       "      <td>False</td>\n",
       "      <td>False</td>\n",
       "      <td>97</td>\n",
       "      <td>Ascendant</td>\n",
       "      <td>8939ec56f7f0a15215cf802347aed2897e83d6bc59d93c...</td>\n",
       "      <td>3364841113</td>\n",
       "      <td>36</td>\n",
       "      <td>Harbinger</td>\n",
       "      <td>1</td>\n",
       "      <td>1</td>\n",
       "      <td>1</td>\n",
       "      <td>1</td>\n",
       "      <td>3</td>\n",
       "      <td>Sc</td>\n",
       "    </tr>\n",
       "    <tr>\n",
       "      <th>4434</th>\n",
       "      <td>1108</td>\n",
       "      <td>False</td>\n",
       "      <td>False</td>\n",
       "      <td>99</td>\n",
       "      <td>Slayer</td>\n",
       "      <td>874d9bb15eed63e4875a2ae59c1ec722d2ad524c40833c...</td>\n",
       "      <td>4078961491</td>\n",
       "      <td>35</td>\n",
       "      <td>Harbinger</td>\n",
       "      <td>1</td>\n",
       "      <td>1</td>\n",
       "      <td>0</td>\n",
       "      <td>1</td>\n",
       "      <td>2</td>\n",
       "      <td>D</td>\n",
       "    </tr>\n",
       "  </tbody>\n",
       "</table>\n",
       "</div>"
      ],
      "text/plain": [
       "        rank   dead  online  level       class  \\\n",
       "36209   9035  False   False     95  Pathfinder   \n",
       "40881  10203  False   False     95   Berserker   \n",
       "38645   9681  False   False     67  Pathfinder   \n",
       "13921   3473  False   False     97   Ascendant   \n",
       "4434    1108  False   False     99      Slayer   \n",
       "\n",
       "                                                      id  experience  \\\n",
       "36209  5574f05452333a0b4d7aa91bad9acb7c7eee40978c89b4...  2886280624   \n",
       "40881  35636fb85402fb984ba81cd209ee71c8ed48a23fdb99c0...  2879510721   \n",
       "38645  713c8c25aa6baa10a3c6f0d0809c8e77c96b1d2890e17d...   294210784   \n",
       "13921  8939ec56f7f0a15215cf802347aed2897e83d6bc59d93c...  3364841113   \n",
       "4434   874d9bb15eed63e4875a2ae59c1ec722d2ad524c40833c...  4078961491   \n",
       "\n",
       "       challenges            ladder  special_class  stat_Str  stat_Int  \\\n",
       "36209          29         Harbinger              1         0         0   \n",
       "40881          40         Harbinger              1         1         0   \n",
       "38645          24  SSF Harbinger HC              1         0         0   \n",
       "13921          36         Harbinger              1         1         1   \n",
       "4434           35         Harbinger              1         1         0   \n",
       "\n",
       "       stat_Dex  stats_num pre_class  \n",
       "36209         1          1         R  \n",
       "40881         0          1         M  \n",
       "38645         1          1         R  \n",
       "13921         1          3        Sc  \n",
       "4434          1          2         D  "
      ]
     },
     "execution_count": 22,
     "metadata": {},
     "output_type": "execute_result"
    }
   ],
   "source": [
    "df.sample(5)"
   ]
  },
  {
   "cell_type": "markdown",
   "id": "d5334aa3",
   "metadata": {},
   "source": [
    "# preference of stats - 시각화\n",
    "\n",
    "> 전체적으로 세 스텟 중 가장 선호되는 능력은?"
   ]
  },
  {
   "cell_type": "code",
   "execution_count": 23,
   "id": "4aa82f34",
   "metadata": {},
   "outputs": [],
   "source": [
    "# 각 스캣을 그대로 카운트 하기 위해 데려옴\n",
    "\n",
    "df_stats = df[['stat_Str','stat_Dex', 'stat_Int']]"
   ]
  },
  {
   "cell_type": "code",
   "execution_count": 24,
   "id": "f805b60b",
   "metadata": {},
   "outputs": [
    {
     "data": {
      "text/plain": [
       "<AxesSubplot:>"
      ]
     },
     "execution_count": 24,
     "metadata": {},
     "output_type": "execute_result"
    },
    {
     "data": {
      "image/png": "[encoded data removed]",
      "text/plain": [
       "<Figure size 432x288 with 1 Axes>"
      ]
     },
     "metadata": {
      "needs_background": "light"
     },
     "output_type": "display_data"
    }
   ],
   "source": [
    "sns.barplot(data= df_stats)"
   ]
  },
  {
   "cell_type": "markdown",
   "id": "16c93575",
   "metadata": {},
   "source": [
    "힘인 것으로 나타났다."
   ]
  },
  {
   "cell_type": "markdown",
   "id": "44145f86",
   "metadata": {},
   "source": [
    "## preference of classes by pre_class, by stats_num 시각화\n",
    "\n",
    "그렇다면 직업별 선호도는 어떻게 될까?"
   ]
  },
  {
   "cell_type": "code",
   "execution_count": 25,
   "id": "f93031a1",
   "metadata": {},
   "outputs": [
    {
     "data": {
      "text/plain": [
       "<AxesSubplot:xlabel='pre_class', ylabel='Count'>"
      ]
     },
     "execution_count": 25,
     "metadata": {},
     "output_type": "execute_result"
    },
    {
     "data": {
      "image/png": "[encoded data removed]",
      "text/plain": [
       "<Figure size 432x288 with 1 Axes>"
      ]
     },
     "metadata": {
      "needs_background": "light"
     },
     "output_type": "display_data"
    }
   ],
   "source": [
    "sns.histplot(data=df, x = 'pre_class')"
   ]
  },
  {
   "cell_type": "markdown",
   "id": "6dae1faa",
   "metadata": {},
   "source": [
    "## preference of stats number 시각화\n",
    "\n",
    "직업자체보다 몇 가지를 찍는 것에 대해 더 중요하게 생각하는 경우는 이런 그래프를 그릴 수 있을 것이다."
   ]
  },
  {
   "cell_type": "code",
   "execution_count": 26,
   "id": "11044848",
   "metadata": {},
   "outputs": [
    {
     "data": {
      "text/plain": [
       "<AxesSubplot:xlabel='stats_num', ylabel='Count'>"
      ]
     },
     "execution_count": 26,
     "metadata": {},
     "output_type": "execute_result"
    },
    {
     "data": {
      "image/png": "[encoded data removed]",
      "text/plain": [
       "<Figure size 432x288 with 1 Axes>"
      ]
     },
     "metadata": {
      "needs_background": "light"
     },
     "output_type": "display_data"
    }
   ],
   "source": [
    "sns.histplot(data = df, x = 'stats_num', fill = True, discrete = True) \n",
    "\n",
    "# discrete = True/ False 옵션은 이산형인지를 따지는 것으로, 딱 이런 경우에 필요한 옵션이다."
   ]
  },
  {
   "cell_type": "markdown",
   "id": "ad23285a",
   "metadata": {},
   "source": [
    "## Commentary\n",
    "\n",
    "1. 전체적으로 스탯을 살펴보았을 때, 힘을 찍은 캐릭터들이 가장 많았다.\n",
    "\n",
    "2. 전체 직업별 캐릭터수를 본다면 Marauder가 가장 많은 수를 기록했고 그 다음은 Duelist, Ranger 순이었다. Scion과 Shadow가 차례로 가장 적은 수를 보였다.\n",
    "\n",
    "3. 또한 스탯 조합을 한 가지 스탯만 찍은 사람이 가장 적었다.\n",
    "\n",
    "전체 게임 모드에서 직업별 %는 다음과 같다. (:.2f)\n",
    "\n",
    "```\n",
    "Marauders(Only Strenth characters) rate : 21.69\n",
    "Rangers(Only Dexterity characters) rate : 16.99\n",
    "Witches(Only Intellegence characters) rate : 16.32\n",
    "Duelists(Strenth and Dexterity stats characters) rate : 19.52\n",
    "Shadows(Dexterity and Intellegence stats characters) rate : 8.47\n",
    "Templars(Intellegence and Strenth stats characters) rate : 10.65\n",
    "Scions(all three stats characters) rate : 6.37\n",
    "```"
   ]
  },
  {
   "cell_type": "markdown",
   "id": "e9ffa5c3",
   "metadata": {},
   "source": [
    "# level, rank"
   ]
  },
  {
   "cell_type": "markdown",
   "id": "a7cb1c12",
   "metadata": {},
   "source": [
    "## means of rank and level\n",
    "\n",
    "> 이미 이들은 충분히 상위 랭크이지만, 그 중에서도 직업에 따라 더 높은 랭크가 있지않을까?\n",
    "\n",
    "> 직업군에 따라 그들의 레벨도 차이가 있지 않을까?\n",
    "\n",
    "순위이기 때문에 중간값 자체를 평균을 대체할 수 있는 값으로 생각하여 함께 넣었다."
   ]
  },
  {
   "cell_type": "code",
   "execution_count": 27,
   "id": "2260ae79",
   "metadata": {},
   "outputs": [
    {
     "data": {
      "text/html": [
       "<div>\n",
       "<style scoped>\n",
       "    .dataframe tbody tr th:only-of-type {\n",
       "        vertical-align: middle;\n",
       "    }\n",
       "\n",
       "    .dataframe tbody tr th {\n",
       "        vertical-align: top;\n",
       "    }\n",
       "\n",
       "    .dataframe thead th {\n",
       "        text-align: right;\n",
       "    }\n",
       "</style>\n",
       "<table border=\"1\" class=\"dataframe\">\n",
       "  <thead>\n",
       "    <tr style=\"text-align: right;\">\n",
       "      <th></th>\n",
       "      <th></th>\n",
       "      <th></th>\n",
       "      <th>challenges</th>\n",
       "      <th>dead</th>\n",
       "      <th>experience</th>\n",
       "      <th>level</th>\n",
       "      <th>online</th>\n",
       "      <th>rank</th>\n",
       "      <th>special_class</th>\n",
       "      <th>stats_num</th>\n",
       "    </tr>\n",
       "    <tr>\n",
       "      <th>stat_Str</th>\n",
       "      <th>stat_Dex</th>\n",
       "      <th>stat_Int</th>\n",
       "      <th></th>\n",
       "      <th></th>\n",
       "      <th></th>\n",
       "      <th></th>\n",
       "      <th></th>\n",
       "      <th></th>\n",
       "      <th></th>\n",
       "      <th></th>\n",
       "    </tr>\n",
       "  </thead>\n",
       "  <tbody>\n",
       "    <tr>\n",
       "      <th rowspan=\"3\" valign=\"top\">0</th>\n",
       "      <th>0</th>\n",
       "      <th>1</th>\n",
       "      <td>24</td>\n",
       "      <td>0.0</td>\n",
       "      <td>1.692471e+09</td>\n",
       "      <td>88</td>\n",
       "      <td>0.0</td>\n",
       "      <td>7397.5</td>\n",
       "      <td>1</td>\n",
       "      <td>1</td>\n",
       "    </tr>\n",
       "    <tr>\n",
       "      <th rowspan=\"2\" valign=\"top\">1</th>\n",
       "      <th>0</th>\n",
       "      <td>29</td>\n",
       "      <td>0.0</td>\n",
       "      <td>2.853477e+09</td>\n",
       "      <td>94</td>\n",
       "      <td>0.0</td>\n",
       "      <td>7355.0</td>\n",
       "      <td>1</td>\n",
       "      <td>1</td>\n",
       "    </tr>\n",
       "    <tr>\n",
       "      <th>1</th>\n",
       "      <td>24</td>\n",
       "      <td>0.0</td>\n",
       "      <td>1.400795e+09</td>\n",
       "      <td>86</td>\n",
       "      <td>0.0</td>\n",
       "      <td>7836.5</td>\n",
       "      <td>1</td>\n",
       "      <td>2</td>\n",
       "    </tr>\n",
       "    <tr>\n",
       "      <th rowspan=\"4\" valign=\"top\">1</th>\n",
       "      <th rowspan=\"2\" valign=\"top\">0</th>\n",
       "      <th>0</th>\n",
       "      <td>25</td>\n",
       "      <td>0.0</td>\n",
       "      <td>1.934010e+09</td>\n",
       "      <td>90</td>\n",
       "      <td>0.0</td>\n",
       "      <td>7551.0</td>\n",
       "      <td>1</td>\n",
       "      <td>1</td>\n",
       "    </tr>\n",
       "    <tr>\n",
       "      <th>1</th>\n",
       "      <td>24</td>\n",
       "      <td>0.0</td>\n",
       "      <td>1.799050e+09</td>\n",
       "      <td>89</td>\n",
       "      <td>0.0</td>\n",
       "      <td>7771.0</td>\n",
       "      <td>1</td>\n",
       "      <td>2</td>\n",
       "    </tr>\n",
       "    <tr>\n",
       "      <th rowspan=\"2\" valign=\"top\">1</th>\n",
       "      <th>0</th>\n",
       "      <td>25</td>\n",
       "      <td>0.0</td>\n",
       "      <td>1.927951e+09</td>\n",
       "      <td>89</td>\n",
       "      <td>0.0</td>\n",
       "      <td>7160.5</td>\n",
       "      <td>1</td>\n",
       "      <td>2</td>\n",
       "    </tr>\n",
       "    <tr>\n",
       "      <th>1</th>\n",
       "      <td>25</td>\n",
       "      <td>0.0</td>\n",
       "      <td>1.905394e+09</td>\n",
       "      <td>89</td>\n",
       "      <td>0.0</td>\n",
       "      <td>7707.5</td>\n",
       "      <td>1</td>\n",
       "      <td>3</td>\n",
       "    </tr>\n",
       "  </tbody>\n",
       "</table>\n",
       "</div>"
      ],
      "text/plain": [
       "                            challenges  dead    experience  level  online  \\\n",
       "stat_Str stat_Dex stat_Int                                                  \n",
       "0        0        1                 24   0.0  1.692471e+09     88     0.0   \n",
       "         1        0                 29   0.0  2.853477e+09     94     0.0   \n",
       "                  1                 24   0.0  1.400795e+09     86     0.0   \n",
       "1        0        0                 25   0.0  1.934010e+09     90     0.0   \n",
       "                  1                 24   0.0  1.799050e+09     89     0.0   \n",
       "         1        0                 25   0.0  1.927951e+09     89     0.0   \n",
       "                  1                 25   0.0  1.905394e+09     89     0.0   \n",
       "\n",
       "                              rank  special_class  stats_num  \n",
       "stat_Str stat_Dex stat_Int                                    \n",
       "0        0        1         7397.5              1          1  \n",
       "         1        0         7355.0              1          1  \n",
       "                  1         7836.5              1          2  \n",
       "1        0        0         7551.0              1          1  \n",
       "                  1         7771.0              1          2  \n",
       "         1        0         7160.5              1          2  \n",
       "                  1         7707.5              1          3  "
      ]
     },
     "execution_count": 27,
     "metadata": {},
     "output_type": "execute_result"
    }
   ],
   "source": [
    "# 중간값\n",
    "\n",
    "df.pivot_table(index = ['stat_Str','stat_Dex', 'stat_Int'], aggfunc = 'median')"
   ]
  },
  {
   "cell_type": "code",
   "execution_count": 28,
   "id": "4adf64e6",
   "metadata": {},
   "outputs": [
    {
     "data": {
      "text/html": [
       "<div>\n",
       "<style scoped>\n",
       "    .dataframe tbody tr th:only-of-type {\n",
       "        vertical-align: middle;\n",
       "    }\n",
       "\n",
       "    .dataframe tbody tr th {\n",
       "        vertical-align: top;\n",
       "    }\n",
       "\n",
       "    .dataframe thead th {\n",
       "        text-align: right;\n",
       "    }\n",
       "</style>\n",
       "<table border=\"1\" class=\"dataframe\">\n",
       "  <thead>\n",
       "    <tr style=\"text-align: right;\">\n",
       "      <th></th>\n",
       "      <th></th>\n",
       "      <th></th>\n",
       "      <th>challenges</th>\n",
       "      <th>dead</th>\n",
       "      <th>experience</th>\n",
       "      <th>level</th>\n",
       "      <th>online</th>\n",
       "      <th>rank</th>\n",
       "      <th>special_class</th>\n",
       "      <th>stats_num</th>\n",
       "    </tr>\n",
       "    <tr>\n",
       "      <th>stat_Str</th>\n",
       "      <th>stat_Dex</th>\n",
       "      <th>stat_Int</th>\n",
       "      <th></th>\n",
       "      <th></th>\n",
       "      <th></th>\n",
       "      <th></th>\n",
       "      <th></th>\n",
       "      <th></th>\n",
       "      <th></th>\n",
       "      <th></th>\n",
       "    </tr>\n",
       "  </thead>\n",
       "  <tbody>\n",
       "    <tr>\n",
       "      <th rowspan=\"3\" valign=\"top\">0</th>\n",
       "      <th>0</th>\n",
       "      <th>1</th>\n",
       "      <td>24.463092</td>\n",
       "      <td>0.384970</td>\n",
       "      <td>1.635681e+09</td>\n",
       "      <td>83.540086</td>\n",
       "      <td>0.013328</td>\n",
       "      <td>7445.416650</td>\n",
       "      <td>0.987800</td>\n",
       "      <td>1</td>\n",
       "    </tr>\n",
       "    <tr>\n",
       "      <th rowspan=\"2\" valign=\"top\">1</th>\n",
       "      <th>0</th>\n",
       "      <td>29.120618</td>\n",
       "      <td>0.185112</td>\n",
       "      <td>2.348853e+09</td>\n",
       "      <td>89.500492</td>\n",
       "      <td>0.030032</td>\n",
       "      <td>7382.341375</td>\n",
       "      <td>0.995274</td>\n",
       "      <td>1</td>\n",
       "    </tr>\n",
       "    <tr>\n",
       "      <th>1</th>\n",
       "      <td>24.036335</td>\n",
       "      <td>0.398499</td>\n",
       "      <td>1.452039e+09</td>\n",
       "      <td>82.181280</td>\n",
       "      <td>0.007504</td>\n",
       "      <td>7686.580964</td>\n",
       "      <td>0.990916</td>\n",
       "      <td>2</td>\n",
       "    </tr>\n",
       "    <tr>\n",
       "      <th rowspan=\"4\" valign=\"top\">1</th>\n",
       "      <th rowspan=\"2\" valign=\"top\">0</th>\n",
       "      <th>0</th>\n",
       "      <td>25.627025</td>\n",
       "      <td>0.345133</td>\n",
       "      <td>1.828874e+09</td>\n",
       "      <td>85.758445</td>\n",
       "      <td>0.012109</td>\n",
       "      <td>7549.249807</td>\n",
       "      <td>0.992673</td>\n",
       "      <td>1</td>\n",
       "    </tr>\n",
       "    <tr>\n",
       "      <th>1</th>\n",
       "      <td>24.641263</td>\n",
       "      <td>0.402420</td>\n",
       "      <td>1.648498e+09</td>\n",
       "      <td>83.678190</td>\n",
       "      <td>0.008014</td>\n",
       "      <td>7627.751571</td>\n",
       "      <td>0.988843</td>\n",
       "      <td>2</td>\n",
       "    </tr>\n",
       "    <tr>\n",
       "      <th rowspan=\"2\" valign=\"top\">1</th>\n",
       "      <th>0</th>\n",
       "      <td>25.348191</td>\n",
       "      <td>0.384022</td>\n",
       "      <td>1.804477e+09</td>\n",
       "      <td>85.561203</td>\n",
       "      <td>0.012001</td>\n",
       "      <td>7276.447968</td>\n",
       "      <td>0.994428</td>\n",
       "      <td>2</td>\n",
       "    </tr>\n",
       "    <tr>\n",
       "      <th>1</th>\n",
       "      <td>25.988702</td>\n",
       "      <td>0.370993</td>\n",
       "      <td>1.765743e+09</td>\n",
       "      <td>85.025749</td>\n",
       "      <td>0.013137</td>\n",
       "      <td>7578.089858</td>\n",
       "      <td>0.986337</td>\n",
       "      <td>3</td>\n",
       "    </tr>\n",
       "  </tbody>\n",
       "</table>\n",
       "</div>"
      ],
      "text/plain": [
       "                            challenges      dead    experience      level  \\\n",
       "stat_Str stat_Dex stat_Int                                                  \n",
       "0        0        1          24.463092  0.384970  1.635681e+09  83.540086   \n",
       "         1        0          29.120618  0.185112  2.348853e+09  89.500492   \n",
       "                  1          24.036335  0.398499  1.452039e+09  82.181280   \n",
       "1        0        0          25.627025  0.345133  1.828874e+09  85.758445   \n",
       "                  1          24.641263  0.402420  1.648498e+09  83.678190   \n",
       "         1        0          25.348191  0.384022  1.804477e+09  85.561203   \n",
       "                  1          25.988702  0.370993  1.765743e+09  85.025749   \n",
       "\n",
       "                              online         rank  special_class  stats_num  \n",
       "stat_Str stat_Dex stat_Int                                                   \n",
       "0        0        1         0.013328  7445.416650       0.987800          1  \n",
       "         1        0         0.030032  7382.341375       0.995274          1  \n",
       "                  1         0.007504  7686.580964       0.990916          2  \n",
       "1        0        0         0.012109  7549.249807       0.992673          1  \n",
       "                  1         0.008014  7627.751571       0.988843          2  \n",
       "         1        0         0.012001  7276.447968       0.994428          2  \n",
       "                  1         0.013137  7578.089858       0.986337          3  "
      ]
     },
     "execution_count": 28,
     "metadata": {},
     "output_type": "execute_result"
    }
   ],
   "source": [
    "# 평균\n",
    "\n",
    "df.pivot_table(index = ['stat_Str','stat_Dex', 'stat_Int'], aggfunc = 'mean')"
   ]
  },
  {
   "cell_type": "markdown",
   "id": "6359104c",
   "metadata": {},
   "source": [
    "### Commentary\n",
    "\n",
    "*랭크는 낮을수록, 레벨은 높을 수록!*\n",
    "\n",
    "이미 이들은 충분히 상위 랭크이지만, 그 중에서도 더 높은 랭크가 있지않을까?\n",
    "\n",
    "> 랭크는 순위개념이라 중간값을 보았을 때, 상대적으로 랭크가 조금더 높은 사람들은 Str+Dex조합(듀얼리스트)이나 Dex만 찍은 직업군(레인저)인 경우가 많았다.\n",
    "\n",
    "> 물론 직업군간의 인원 차이도 고려를 하고 계산을 해본다면 비슷해질 수도 있을 것 같다는 생각이다.\n",
    "\n",
    "직업군에 따라 그들의 레벨도 차이가 있지 않을까?\n",
    "\n",
    "> 직업군에 따라 레벨차이는 많이 나지는 않았으나 상대적으로 Dex만 찍은 직업군이 평균 레벨이 높은 편이었고,\n",
    "\n",
    "> Dex+Int 조합이나 Int만, 혹은 Str+Int 조합이 평균 레벨이 상대적으로 낮았다.\n",
    "\n",
    "---\n",
    "\n",
    "또한 아래처럼 pre_class를 구한 것으로 볼수도 있다. \n",
    "\n",
    "### medians of rank and level with class name"
   ]
  },
  {
   "cell_type": "code",
   "execution_count": 29,
   "id": "199e2d1a",
   "metadata": {},
   "outputs": [
    {
     "data": {
      "text/html": [
       "<div>\n",
       "<style scoped>\n",
       "    .dataframe tbody tr th:only-of-type {\n",
       "        vertical-align: middle;\n",
       "    }\n",
       "\n",
       "    .dataframe tbody tr th {\n",
       "        vertical-align: top;\n",
       "    }\n",
       "\n",
       "    .dataframe thead th {\n",
       "        text-align: right;\n",
       "    }\n",
       "</style>\n",
       "<table border=\"1\" class=\"dataframe\">\n",
       "  <thead>\n",
       "    <tr style=\"text-align: right;\">\n",
       "      <th></th>\n",
       "      <th>challenges</th>\n",
       "      <th>dead</th>\n",
       "      <th>experience</th>\n",
       "      <th>level</th>\n",
       "      <th>online</th>\n",
       "      <th>rank</th>\n",
       "      <th>special_class</th>\n",
       "      <th>stat_Dex</th>\n",
       "      <th>stat_Int</th>\n",
       "      <th>stat_Str</th>\n",
       "      <th>stats_num</th>\n",
       "    </tr>\n",
       "    <tr>\n",
       "      <th>pre_class</th>\n",
       "      <th></th>\n",
       "      <th></th>\n",
       "      <th></th>\n",
       "      <th></th>\n",
       "      <th></th>\n",
       "      <th></th>\n",
       "      <th></th>\n",
       "      <th></th>\n",
       "      <th></th>\n",
       "      <th></th>\n",
       "      <th></th>\n",
       "    </tr>\n",
       "  </thead>\n",
       "  <tbody>\n",
       "    <tr>\n",
       "      <th>D</th>\n",
       "      <td>25</td>\n",
       "      <td>0.0</td>\n",
       "      <td>1.927951e+09</td>\n",
       "      <td>89</td>\n",
       "      <td>0.0</td>\n",
       "      <td>7160.5</td>\n",
       "      <td>1</td>\n",
       "      <td>1</td>\n",
       "      <td>0</td>\n",
       "      <td>1</td>\n",
       "      <td>2</td>\n",
       "    </tr>\n",
       "    <tr>\n",
       "      <th>M</th>\n",
       "      <td>25</td>\n",
       "      <td>0.0</td>\n",
       "      <td>1.934010e+09</td>\n",
       "      <td>90</td>\n",
       "      <td>0.0</td>\n",
       "      <td>7551.0</td>\n",
       "      <td>1</td>\n",
       "      <td>0</td>\n",
       "      <td>0</td>\n",
       "      <td>1</td>\n",
       "      <td>1</td>\n",
       "    </tr>\n",
       "    <tr>\n",
       "      <th>R</th>\n",
       "      <td>29</td>\n",
       "      <td>0.0</td>\n",
       "      <td>2.853477e+09</td>\n",
       "      <td>94</td>\n",
       "      <td>0.0</td>\n",
       "      <td>7355.0</td>\n",
       "      <td>1</td>\n",
       "      <td>1</td>\n",
       "      <td>0</td>\n",
       "      <td>0</td>\n",
       "      <td>1</td>\n",
       "    </tr>\n",
       "    <tr>\n",
       "      <th>S</th>\n",
       "      <td>24</td>\n",
       "      <td>0.0</td>\n",
       "      <td>1.400795e+09</td>\n",
       "      <td>86</td>\n",
       "      <td>0.0</td>\n",
       "      <td>7836.5</td>\n",
       "      <td>1</td>\n",
       "      <td>1</td>\n",
       "      <td>1</td>\n",
       "      <td>0</td>\n",
       "      <td>2</td>\n",
       "    </tr>\n",
       "    <tr>\n",
       "      <th>Sc</th>\n",
       "      <td>25</td>\n",
       "      <td>0.0</td>\n",
       "      <td>1.905394e+09</td>\n",
       "      <td>89</td>\n",
       "      <td>0.0</td>\n",
       "      <td>7707.5</td>\n",
       "      <td>1</td>\n",
       "      <td>1</td>\n",
       "      <td>1</td>\n",
       "      <td>1</td>\n",
       "      <td>3</td>\n",
       "    </tr>\n",
       "    <tr>\n",
       "      <th>T</th>\n",
       "      <td>24</td>\n",
       "      <td>0.0</td>\n",
       "      <td>1.799050e+09</td>\n",
       "      <td>89</td>\n",
       "      <td>0.0</td>\n",
       "      <td>7771.0</td>\n",
       "      <td>1</td>\n",
       "      <td>0</td>\n",
       "      <td>1</td>\n",
       "      <td>1</td>\n",
       "      <td>2</td>\n",
       "    </tr>\n",
       "    <tr>\n",
       "      <th>W</th>\n",
       "      <td>24</td>\n",
       "      <td>0.0</td>\n",
       "      <td>1.692471e+09</td>\n",
       "      <td>88</td>\n",
       "      <td>0.0</td>\n",
       "      <td>7397.5</td>\n",
       "      <td>1</td>\n",
       "      <td>0</td>\n",
       "      <td>1</td>\n",
       "      <td>0</td>\n",
       "      <td>1</td>\n",
       "    </tr>\n",
       "  </tbody>\n",
       "</table>\n",
       "</div>"
      ],
      "text/plain": [
       "           challenges  dead    experience  level  online    rank  \\\n",
       "pre_class                                                          \n",
       "D                  25   0.0  1.927951e+09     89     0.0  7160.5   \n",
       "M                  25   0.0  1.934010e+09     90     0.0  7551.0   \n",
       "R                  29   0.0  2.853477e+09     94     0.0  7355.0   \n",
       "S                  24   0.0  1.400795e+09     86     0.0  7836.5   \n",
       "Sc                 25   0.0  1.905394e+09     89     0.0  7707.5   \n",
       "T                  24   0.0  1.799050e+09     89     0.0  7771.0   \n",
       "W                  24   0.0  1.692471e+09     88     0.0  7397.5   \n",
       "\n",
       "           special_class  stat_Dex  stat_Int  stat_Str  stats_num  \n",
       "pre_class                                                          \n",
       "D                      1         1         0         1          2  \n",
       "M                      1         0         0         1          1  \n",
       "R                      1         1         0         0          1  \n",
       "S                      1         1         1         0          2  \n",
       "Sc                     1         1         1         1          3  \n",
       "T                      1         0         1         1          2  \n",
       "W                      1         0         1         0          1  "
      ]
     },
     "execution_count": 29,
     "metadata": {},
     "output_type": "execute_result"
    }
   ],
   "source": [
    "df.pivot_table(index = 'pre_class', aggfunc = 'median')"
   ]
  },
  {
   "cell_type": "markdown",
   "id": "9f609d04",
   "metadata": {},
   "source": [
    "## Level distribution - violinplot\n",
    "\n",
    "각각 유저들의 수가 차이가 나기 때문에 이렇게 보도록 한다."
   ]
  },
  {
   "cell_type": "code",
   "execution_count": 30,
   "id": "d2a674c1",
   "metadata": {
    "scrolled": true
   },
   "outputs": [
    {
     "data": {
      "text/plain": [
       "<AxesSubplot:xlabel='pre_class', ylabel='level'>"
      ]
     },
     "execution_count": 30,
     "metadata": {},
     "output_type": "execute_result"
    },
    {
     "data": {
      "image/png": "[encoded data removed]",
      "text/plain": [
       "<Figure size 576x360 with 1 Axes>"
      ]
     },
     "metadata": {
      "needs_background": "light"
     },
     "output_type": "display_data"
    }
   ],
   "source": [
    "# 전체 직업 함께 비교\n",
    "\n",
    "plt.rcParams[\"figure.figsize\"] = (8, 5)\n",
    "sns.violinplot(data = df, x = 'pre_class', y = 'level', order = ['M', 'R', 'W', 'D', 'S', 'T', 'Sc'])"
   ]
  },
  {
   "cell_type": "code",
   "execution_count": 31,
   "id": "559fcc5b",
   "metadata": {},
   "outputs": [
    {
     "data": {
      "text/plain": [
       "<AxesSubplot:xlabel='pre_class', ylabel='level'>"
      ]
     },
     "execution_count": 31,
     "metadata": {},
     "output_type": "execute_result"
    },
    {
     "data": {
      "image/png": "[encoded data removed]",
      "text/plain": [
       "<Figure size 576x360 with 1 Axes>"
      ]
     },
     "metadata": {
      "needs_background": "light"
     },
     "output_type": "display_data"
    }
   ],
   "source": [
    "# 힘을 찍은 직업군의 비교\n",
    "\n",
    "# plt.rcParams[\"figure.figsize\"] = (8, 5)\n",
    "sns.violinplot(data = df[df['stat_Str'] == 1], x = 'pre_class', y = 'level')"
   ]
  },
  {
   "cell_type": "code",
   "execution_count": 32,
   "id": "b02b8be2",
   "metadata": {},
   "outputs": [
    {
     "data": {
      "text/plain": [
       "<AxesSubplot:xlabel='pre_class', ylabel='level'>"
      ]
     },
     "execution_count": 32,
     "metadata": {},
     "output_type": "execute_result"
    },
    {
     "data": {
      "image/png": "[encoded data removed]",
      "text/plain": [
       "<Figure size 576x360 with 1 Axes>"
      ]
     },
     "metadata": {
      "needs_background": "light"
     },
     "output_type": "display_data"
    }
   ],
   "source": [
    "# 민첩을 찍은 직업군의 비교\n",
    "\n",
    "# plt.rcParams[\"figure.figsize\"] = (8, 5)\n",
    "sns.violinplot(data = df[df['stat_Dex'] == 1], x = 'pre_class', y = 'level')"
   ]
  },
  {
   "cell_type": "code",
   "execution_count": 33,
   "id": "0ab6a85a",
   "metadata": {},
   "outputs": [
    {
     "data": {
      "text/plain": [
       "<AxesSubplot:xlabel='pre_class', ylabel='level'>"
      ]
     },
     "execution_count": 33,
     "metadata": {},
     "output_type": "execute_result"
    },
    {
     "data": {
      "image/png": "[encoded data removed]",
      "text/plain": [
       "<Figure size 576x360 with 1 Axes>"
      ]
     },
     "metadata": {
      "needs_background": "light"
     },
     "output_type": "display_data"
    }
   ],
   "source": [
    "# 지능을 찍은 직업군의 비교\n",
    "\n",
    "# plt.rcParams[\"figure.figsize\"] = (8, 5)\n",
    "sns.violinplot(data = df[df['stat_Int'] == 1], x = 'pre_class', y = 'level')"
   ]
  },
  {
   "attachments": {
    "image-2.png": {
     "image/png": "[encoded data removed]"
    },
    "image-3.png": {
     "image/png": "[encoded data removed]"
    }
   },
   "cell_type": "markdown",
   "id": "c3c52895",
   "metadata": {},
   "source": [
    "### Commentary\n",
    "\n",
    "레벨별 분포를 보면 우선 전부 50레벨 이상인것을 알아야 한다. 이들은 충분한 숙련도가 있는 사람들이라는 전제가 있다.\n",
    "\n",
    "![image-2.png](attachment:image-2.png)\n",
    "\n",
    "이것을 보면 유독 Ranger(민첩만 찍은) 직업군이 좀더 높은 레벨에서 많은 수를 보이고 있다는 것을 알 수 있다.\n",
    "\n",
    "실제로 민첩을 찍은 다른 직업군들과도 비교가 되는데, ranger의 많은 유저가 95레벨 정도의 고레벨에 많이 분포하는 것으로 나타났다.\n",
    "\n",
    "![image-3.png](attachment:image-3.png)"
   ]
  },
  {
   "cell_type": "markdown",
   "id": "b79550d7",
   "metadata": {},
   "source": [
    "## Rank distribution "
   ]
  },
  {
   "cell_type": "code",
   "execution_count": 34,
   "id": "42de3175",
   "metadata": {},
   "outputs": [
    {
     "data": {
      "text/plain": [
       "<AxesSubplot:xlabel='pre_class', ylabel='rank'>"
      ]
     },
     "execution_count": 34,
     "metadata": {},
     "output_type": "execute_result"
    },
    {
     "data": {
      "image/png": "[encoded data removed]",
      "text/plain": [
       "<Figure size 576x360 with 1 Axes>"
      ]
     },
     "metadata": {
      "needs_background": "light"
     },
     "output_type": "display_data"
    }
   ],
   "source": [
    "# 우선 바이을린 플롯을 그려본다.\n",
    "# 전체 직업 함께 비교\n",
    "\n",
    "# plt.rcParams[\"figure.figsize\"] = (8, 5)\n",
    "sns.violinplot(data = df, x = 'pre_class', y = 'rank', order = ['M', 'R', 'W', 'D', 'S', 'T', 'Sc'])"
   ]
  },
  {
   "cell_type": "markdown",
   "id": "188075c7",
   "metadata": {},
   "source": [
    "*그럴줄알았어....*\n",
    "\n",
    "바이올린 플롯은 해당 분포를 적절하게 보여줄 수 있는 그래프가 아니며, 보여줄 수 있는 그래프가 무엇이 있을까 고민해보았지만 아직 내 실력에는 없었다고 한다.\n",
    "\n",
    "라인플롯도 무쓸모(?) 이고 결국 사용한건 바플롯이었다."
   ]
  },
  {
   "cell_type": "code",
   "execution_count": 35,
   "id": "7c2a7cfd",
   "metadata": {
    "scrolled": true
   },
   "outputs": [
    {
     "data": {
      "image/png": "[encoded data removed]",
      "text/plain": [
       "<Figure size 576x360 with 1 Axes>"
      ]
     },
     "metadata": {
      "needs_background": "light"
     },
     "output_type": "display_data"
    }
   ],
   "source": [
    "# 평균 랭크 \n",
    "\n",
    "plt.subplots(figsize = (8, 5))\n",
    "\n",
    "plt.xlabel('Class name')\n",
    "plt.ylabel('Means of Rank')\n",
    "plt.ylim(bottom = 6000, top = 9000)\n",
    "\n",
    "sns.barplot(x = 'pre_class', y = 'rank', data = df, order = ['M', 'R', 'W', 'D', 'S', 'T', 'Sc'])\n",
    "\n",
    "plt.tight_layout()\n",
    "plt.show()"
   ]
  },
  {
   "cell_type": "markdown",
   "id": "3b0e3819",
   "metadata": {},
   "source": [
    "왜째서 label은 출력이 안되세요?\n",
    "### Comentary\n",
    "전체적으로 보았을 때 평균 랭크는 비슷비슷했다. Duelist 가 가장 높은 Shadow보다 대략 500위 정도 더 높아보인다."
   ]
  },
  {
   "cell_type": "markdown",
   "id": "ce79fd4d",
   "metadata": {},
   "source": [
    "## level 과 rank에 선형관계가 있는가?"
   ]
  },
  {
   "cell_type": "code",
   "execution_count": 36,
   "id": "808f2e75",
   "metadata": {},
   "outputs": [
    {
     "data": {
      "image/png": "[encoded data removed]",
      "text/plain": [
       "<Figure size 630.25x576 with 1 Axes>"
      ]
     },
     "metadata": {
      "needs_background": "light"
     },
     "output_type": "display_data"
    }
   ],
   "source": [
    "# 선형관계를 보기위한 lmplot\n",
    "\n",
    "sns.lmplot(x = 'level', y = 'rank', hue = 'pre_class', height = 8, data = df)\n",
    "plt.show()"
   ]
  },
  {
   "cell_type": "code",
   "execution_count": 37,
   "id": "29e96a64",
   "metadata": {},
   "outputs": [
    {
     "data": {
      "image/png": "[encoded data removed]",
      "text/plain": [
       "<Figure size 576x576 with 3 Axes>"
      ]
     },
     "metadata": {
      "needs_background": "light"
     },
     "output_type": "display_data"
    }
   ],
   "source": [
    "# 산점도와 히스토그램을 동시에 본다.\n",
    "\n",
    "sns.jointplot(x = 'level', y = 'rank', hue = 'pre_class' ,height = 8, data = df)\n",
    "plt.show()"
   ]
  },
  {
   "cell_type": "markdown",
   "id": "83e6db7a",
   "metadata": {},
   "source": [
    "*뭐지 이 괴랄한 그림들은*\n",
    "\n",
    "## Commentary\n",
    "\n",
    "하지만 대체적으로 음의 상관관계를 보여줬다. 랭크는 낮을 수록 좋은 것이므로,\n",
    "\n",
    "간단히 해석하자면 약 6만개의 캐릭터 안에서도 상위 랭킹의 캐릭들은 실제로 레벨도 높은 편이라는 것을 알 수 있다.\n",
    "\n",
    "게임 모드를 나누면 조금더 정확히 나올 것이다. (랭크를 고유한 값을 가질 것이므로)\n"
   ]
  },
  {
   "cell_type": "markdown",
   "id": "41839ac0",
   "metadata": {},
   "source": [
    "### level과 rank와 음의 선형관계를 ladder 별로 세분화."
   ]
  },
  {
   "cell_type": "code",
   "execution_count": 38,
   "id": "395aff2f",
   "metadata": {},
   "outputs": [
    {
     "data": {
      "image/png": "[encoded data removed]",
      "text/plain": [
       "<Figure size 630.25x576 with 1 Axes>"
      ]
     },
     "metadata": {
      "needs_background": "light"
     },
     "output_type": "display_data"
    }
   ],
   "source": [
    "# 선형관계를 보기위한 lmplot\n",
    "\n",
    "sns.lmplot(x = 'level', y = 'rank', hue = 'pre_class', height = 8, data = df[df['ladder'] == 'Harbinger'])\n",
    "plt.show()"
   ]
  },
  {
   "cell_type": "code",
   "execution_count": 39,
   "id": "bf515e88",
   "metadata": {},
   "outputs": [
    {
     "data": {
      "image/png": "[encoded data removed]",
      "text/plain": [
       "<Figure size 576x576 with 3 Axes>"
      ]
     },
     "metadata": {
      "needs_background": "light"
     },
     "output_type": "display_data"
    }
   ],
   "source": [
    "# 산점도와 히스토그램을 동시에 본다.\n",
    "\n",
    "sns.jointplot(x = 'level', y = 'rank', hue = 'pre_class' ,height = 8, data = df[df['ladder'] == 'Harbinger'])\n",
    "plt.show()"
   ]
  },
  {
   "cell_type": "code",
   "execution_count": 40,
   "id": "54c2ecf2",
   "metadata": {},
   "outputs": [
    {
     "data": {
      "image/png": "[encoded data removed]",
      "text/plain": [
       "<Figure size 576x576 with 3 Axes>"
      ]
     },
     "metadata": {
      "needs_background": "light"
     },
     "output_type": "display_data"
    }
   ],
   "source": [
    "# 직업 분리를 제거하고 보겠다.\n",
    "\n",
    "sns.jointplot(x = 'level', y = 'rank' , height = 8, data = df[df['ladder'] == 'Harbinger'])\n",
    "plt.show()"
   ]
  },
  {
   "cell_type": "markdown",
   "id": "6a2ae8bb",
   "metadata": {},
   "source": [
    "### Comentary\n",
    "\n",
    "아무래도 이부분은 클래스를 좀더 나누어보는게 낫다는 생각.\n",
    "\n",
    "으로 아래 테스트. (하지만 나누어 보아도 이해는 쉽지 않겠다는 생각. 잘 표현되지 않는다.)"
   ]
  },
  {
   "cell_type": "code",
   "execution_count": 41,
   "id": "3b9ea9d4",
   "metadata": {},
   "outputs": [
    {
     "data": {
      "text/plain": [
       "<AxesSubplot:xlabel='level', ylabel='rank'>"
      ]
     },
     "execution_count": 41,
     "metadata": {},
     "output_type": "execute_result"
    },
    {
     "data": {
      "image/png": "[encoded data removed]",
      "text/plain": [
       "<Figure size 576x360 with 1 Axes>"
      ]
     },
     "metadata": {
      "needs_background": "light"
     },
     "output_type": "display_data"
    }
   ],
   "source": [
    "sns.scatterplot(x = 'level', y = 'rank', data = df[(df['ladder'] == 'Harbinger')&(df['pre_class'] == 'M')])"
   ]
  },
  {
   "cell_type": "markdown",
   "id": "5f11f51a",
   "metadata": {},
   "source": [
    "# ladder\n",
    "---\n",
    "클래스별로 특정 래더에서 더 좋은 성능을 낼 수도 있지 않을까?\n",
    "\n",
    "그럼 클래스별로 어느 래더에 더 분포되어있는지 볼 수 있을 것이다."
   ]
  },
  {
   "cell_type": "markdown",
   "id": "9f387c16",
   "metadata": {},
   "source": [
    "## class-ladder"
   ]
  },
  {
   "cell_type": "code",
   "execution_count": 42,
   "id": "7afe8dda",
   "metadata": {},
   "outputs": [
    {
     "data": {
      "text/plain": [
       "<AxesSubplot:xlabel='pre_class', ylabel='Count'>"
      ]
     },
     "execution_count": 42,
     "metadata": {},
     "output_type": "execute_result"
    },
    {
     "data": {
      "image/png": "[encoded data removed]",
      "text/plain": [
       "<Figure size 576x360 with 1 Axes>"
      ]
     },
     "metadata": {
      "needs_background": "light"
     },
     "output_type": "display_data"
    }
   ],
   "source": [
    "sns.histplot( x = 'pre_class', hue = 'ladder', data = df)"
   ]
  },
  {
   "cell_type": "markdown",
   "id": "ade5d864",
   "metadata": {},
   "source": [
    "재미있는 결과가 나왔다. 전체적으로는 Marauder가 많은 수를 차지하고 있긴 했지만, Ranger 직업군이 Harbinger 기본모드에 많이 분포되어있는 것으로 나타났다. \n",
    "\n",
    "그러나 그래프가 내가 보기원하는 것을 잘 보여주는 것 같지는 않아서 다시 그려보기로 했다."
   ]
  },
  {
   "cell_type": "code",
   "execution_count": 43,
   "id": "8bfb07dc",
   "metadata": {},
   "outputs": [
    {
     "data": {
      "text/plain": [
       "<AxesSubplot:xlabel='pre_class', ylabel='Count'>"
      ]
     },
     "execution_count": 43,
     "metadata": {},
     "output_type": "execute_result"
    },
    {
     "data": {
      "image/png": "[encoded data removed]",
      "text/plain": [
       "<Figure size 576x360 with 1 Axes>"
      ]
     },
     "metadata": {
      "needs_background": "light"
     },
     "output_type": "display_data"
    }
   ],
   "source": [
    "sns.histplot(x = 'pre_class', hue = 'ladder', data = df, multiple = 'stack')"
   ]
  },
  {
   "cell_type": "markdown",
   "id": "84f93cb3",
   "metadata": {},
   "source": [
    "총 직업군 숫자에 맞게 잘 나온 것 같다. 클래스 별로 어떤 모드에서 더 많이 사용되는 것이 있을 텐데, 전체적으로는 Marauder 가 선호되는 편이지만\n",
    "\n",
    "각 모드에서 Marauder 더 선호되는 클래스가 분명 있을 것이기 때문이다. 그를 보기위해 보는 모드를 달리해본다."
   ]
  },
  {
   "cell_type": "code",
   "execution_count": 44,
   "id": "eea8908d",
   "metadata": {},
   "outputs": [
    {
     "data": {
      "text/plain": [
       "<AxesSubplot:xlabel='pre_class', ylabel='Count'>"
      ]
     },
     "execution_count": 44,
     "metadata": {},
     "output_type": "execute_result"
    },
    {
     "data": {
      "image/png": "[encoded data removed]",
      "text/plain": [
       "<Figure size 576x360 with 1 Axes>"
      ]
     },
     "metadata": {
      "needs_background": "light"
     },
     "output_type": "display_data"
    }
   ],
   "source": [
    "sns.histplot(x = 'pre_class', hue = 'ladder', data = df, multiple = 'dodge')"
   ]
  },
  {
   "cell_type": "markdown",
   "id": "0c8ecca5",
   "metadata": {},
   "source": [
    "좀 띄워줄래?"
   ]
  },
  {
   "cell_type": "code",
   "execution_count": 45,
   "id": "26a34c93",
   "metadata": {},
   "outputs": [
    {
     "data": {
      "text/plain": [
       "<AxesSubplot:xlabel='pre_class', ylabel='count'>"
      ]
     },
     "execution_count": 45,
     "metadata": {},
     "output_type": "execute_result"
    },
    {
     "data": {
      "image/png": "[encoded data removed]",
      "text/plain": [
       "<Figure size 576x360 with 1 Axes>"
      ]
     },
     "metadata": {
      "needs_background": "light"
     },
     "output_type": "display_data"
    }
   ],
   "source": [
    "sns.countplot(x = 'pre_class', hue = 'ladder', data = df, hue_order = ['Harbinger', 'SSF Harbinger', 'Hardcore Harbinger', 'SSF Harbinger HC'])"
   ]
  },
  {
   "cell_type": "markdown",
   "id": "ffc93093",
   "metadata": {},
   "source": [
    "## one stat class 만 모아본다면"
   ]
  },
  {
   "cell_type": "code",
   "execution_count": 46,
   "id": "edca1bd9",
   "metadata": {},
   "outputs": [
    {
     "data": {
      "text/plain": [
       "<AxesSubplot:xlabel='pre_class', ylabel='count'>"
      ]
     },
     "execution_count": 46,
     "metadata": {},
     "output_type": "execute_result"
    },
    {
     "data": {
      "image/png": "[encoded data removed]",
      "text/plain": [
       "<Figure size 576x360 with 1 Axes>"
      ]
     },
     "metadata": {
      "needs_background": "light"
     },
     "output_type": "display_data"
    }
   ],
   "source": [
    "sns.countplot(data = df[df['stats_num'] == 1], x = 'pre_class', hue = 'ladder', hue_order = ['Harbinger', 'SSF Harbinger', 'Hardcore Harbinger', 'SSF Harbinger HC'])"
   ]
  },
  {
   "cell_type": "markdown",
   "id": "912b3631",
   "metadata": {},
   "source": [
    "### class-ladder Commentary\n",
    "\n",
    "특정 모드별로 선호되는 클래스 즉, 클래스별로 어떤 모드에서 더 선호될 수도 있겠다는 생각을 했는데, \n",
    "\n",
    "**실제로 Ranger 직업군이 Harbinger에서 눈에띄게 선호됨을 볼 수 있다.**\n",
    "\n",
    "전체적으로 했을 때는 Marauder가 가장 선호되었지만, Harbinger 모드에서 유독 Ranger가 선호되었다. \n",
    "\n",
    "##### 해석해보자면,\n",
    "\n",
    "Harbinger모드는 솔로모드가 아니기 때문에 Ranger가 가지지 않은 다른 스킬들을 다른 사람이 채워줄 수 있다. \n",
    "\n",
    "한 가지 주목할 점은 Ranger는 민첩만 찍는 직업군으로, 그렇다면 어느 스탯이나 똑같이 채워주는 사람이 있다는 전제하에 좋은 성능을 보여주는 직업군으로 생각해 볼 수 있다.\n",
    "\n",
    "다시 말해, 똑같이 한 스탯에 point를 올인을 한다고 했을 때 그 스탯의 장점을 잘 살려서 좋은 성능을 보여주는 것은 민첩이 아닐까 생각이 된다.\n",
    "\n",
    "반대로 말하면 일정 수준 이상 많은 집중을 하지 않으면 성능이 덜 나올 수도 있거나, 누군가 보조해주지 않으면 성능을 받쳐주기 어렵다는 생각도 해볼 수 있다. \n",
    "\n",
    "왜냐면, 똑같이 한 스탯(힘)에 집중하는 Marauder 는 약 15000명을 모아둔 각 모드에서 비슷한 분포를 가지고 있었기 때문이다.\n",
    "\n",
    "또한 Witch도 지능 한 스탯에 집중하는 직업군인데, 파티모드보다 다른 모드에서 더 많이 쓰였으며, 똑같이 HC가 아닌 솔로 Harbinger모드에서는 거의 1.7배에 가까운 캐릭터가 존재하고 있었다. \n",
    "\n",
    "그리고 Templar 같은 직업은 SSF아닌 모드에서 전체적으로 선호되지 않을까 했지만 그 예상또한 빗나갔다.\n",
    "\n",
    "한 스탯만 찍은 캐릭터들, 이 셋만 두고 비교를 해본다면?"
   ]
  },
  {
   "cell_type": "markdown",
   "id": "6282ca94",
   "metadata": {},
   "source": [
    "# Number of stat\n",
    "\n",
    "---"
   ]
  },
  {
   "cell_type": "markdown",
   "id": "48ab4261",
   "metadata": {},
   "source": [
    "# one stat class\n",
    "\n",
    "스탯 개수별로 분석을 시작해보자. \n",
    "\n",
    "우선 한 스탯만 찍은 캐릭터들이다."
   ]
  },
  {
   "cell_type": "code",
   "execution_count": 47,
   "id": "96d86d3d",
   "metadata": {},
   "outputs": [
    {
     "data": {
      "text/html": [
       "<div>\n",
       "<style scoped>\n",
       "    .dataframe tbody tr th:only-of-type {\n",
       "        vertical-align: middle;\n",
       "    }\n",
       "\n",
       "    .dataframe tbody tr th {\n",
       "        vertical-align: top;\n",
       "    }\n",
       "\n",
       "    .dataframe thead th {\n",
       "        text-align: right;\n",
       "    }\n",
       "</style>\n",
       "<table border=\"1\" class=\"dataframe\">\n",
       "  <thead>\n",
       "    <tr style=\"text-align: right;\">\n",
       "      <th></th>\n",
       "      <th>rank</th>\n",
       "      <th>level</th>\n",
       "      <th>experience</th>\n",
       "      <th>challenges</th>\n",
       "      <th>special_class</th>\n",
       "      <th>stat_Str</th>\n",
       "      <th>stat_Int</th>\n",
       "      <th>stat_Dex</th>\n",
       "      <th>stats_num</th>\n",
       "    </tr>\n",
       "  </thead>\n",
       "  <tbody>\n",
       "    <tr>\n",
       "      <th>count</th>\n",
       "      <td>32876.000000</td>\n",
       "      <td>32876.000000</td>\n",
       "      <td>3.287600e+04</td>\n",
       "      <td>32876.000000</td>\n",
       "      <td>32876.000000</td>\n",
       "      <td>32876.000000</td>\n",
       "      <td>32876.000000</td>\n",
       "      <td>32876.000000</td>\n",
       "      <td>32876.0</td>\n",
       "    </tr>\n",
       "    <tr>\n",
       "      <th>mean</th>\n",
       "      <td>7466.882407</td>\n",
       "      <td>86.256266</td>\n",
       "      <td>1.932187e+09</td>\n",
       "      <td>26.360932</td>\n",
       "      <td>0.992031</td>\n",
       "      <td>0.394391</td>\n",
       "      <td>0.296691</td>\n",
       "      <td>0.308918</td>\n",
       "      <td>1.0</td>\n",
       "    </tr>\n",
       "    <tr>\n",
       "      <th>std</th>\n",
       "      <td>4329.881821</td>\n",
       "      <td>11.205555</td>\n",
       "      <td>1.120851e+09</td>\n",
       "      <td>8.576560</td>\n",
       "      <td>0.088916</td>\n",
       "      <td>0.488727</td>\n",
       "      <td>0.456806</td>\n",
       "      <td>0.462054</td>\n",
       "      <td>0.0</td>\n",
       "    </tr>\n",
       "    <tr>\n",
       "      <th>min</th>\n",
       "      <td>1.000000</td>\n",
       "      <td>53.000000</td>\n",
       "      <td>7.790982e+07</td>\n",
       "      <td>4.000000</td>\n",
       "      <td>0.000000</td>\n",
       "      <td>0.000000</td>\n",
       "      <td>0.000000</td>\n",
       "      <td>0.000000</td>\n",
       "      <td>1.0</td>\n",
       "    </tr>\n",
       "    <tr>\n",
       "      <th>25%</th>\n",
       "      <td>3705.750000</td>\n",
       "      <td>80.000000</td>\n",
       "      <td>8.594550e+08</td>\n",
       "      <td>20.000000</td>\n",
       "      <td>1.000000</td>\n",
       "      <td>0.000000</td>\n",
       "      <td>0.000000</td>\n",
       "      <td>0.000000</td>\n",
       "      <td>1.0</td>\n",
       "    </tr>\n",
       "    <tr>\n",
       "      <th>50%</th>\n",
       "      <td>7448.500000</td>\n",
       "      <td>90.000000</td>\n",
       "      <td>1.983722e+09</td>\n",
       "      <td>26.000000</td>\n",
       "      <td>1.000000</td>\n",
       "      <td>0.000000</td>\n",
       "      <td>0.000000</td>\n",
       "      <td>0.000000</td>\n",
       "      <td>1.0</td>\n",
       "    </tr>\n",
       "    <tr>\n",
       "      <th>75%</th>\n",
       "      <td>11250.250000</td>\n",
       "      <td>95.000000</td>\n",
       "      <td>2.878193e+09</td>\n",
       "      <td>35.000000</td>\n",
       "      <td>1.000000</td>\n",
       "      <td>1.000000</td>\n",
       "      <td>1.000000</td>\n",
       "      <td>1.000000</td>\n",
       "      <td>1.0</td>\n",
       "    </tr>\n",
       "    <tr>\n",
       "      <th>max</th>\n",
       "      <td>14978.000000</td>\n",
       "      <td>100.000000</td>\n",
       "      <td>4.250334e+09</td>\n",
       "      <td>40.000000</td>\n",
       "      <td>1.000000</td>\n",
       "      <td>1.000000</td>\n",
       "      <td>1.000000</td>\n",
       "      <td>1.000000</td>\n",
       "      <td>1.0</td>\n",
       "    </tr>\n",
       "  </tbody>\n",
       "</table>\n",
       "</div>"
      ],
      "text/plain": [
       "               rank         level    experience    challenges  special_class  \\\n",
       "count  32876.000000  32876.000000  3.287600e+04  32876.000000   32876.000000   \n",
       "mean    7466.882407     86.256266  1.932187e+09     26.360932       0.992031   \n",
       "std     4329.881821     11.205555  1.120851e+09      8.576560       0.088916   \n",
       "min        1.000000     53.000000  7.790982e+07      4.000000       0.000000   \n",
       "25%     3705.750000     80.000000  8.594550e+08     20.000000       1.000000   \n",
       "50%     7448.500000     90.000000  1.983722e+09     26.000000       1.000000   \n",
       "75%    11250.250000     95.000000  2.878193e+09     35.000000       1.000000   \n",
       "max    14978.000000    100.000000  4.250334e+09     40.000000       1.000000   \n",
       "\n",
       "           stat_Str      stat_Int      stat_Dex  stats_num  \n",
       "count  32876.000000  32876.000000  32876.000000    32876.0  \n",
       "mean       0.394391      0.296691      0.308918        1.0  \n",
       "std        0.488727      0.456806      0.462054        0.0  \n",
       "min        0.000000      0.000000      0.000000        1.0  \n",
       "25%        0.000000      0.000000      0.000000        1.0  \n",
       "50%        0.000000      0.000000      0.000000        1.0  \n",
       "75%        1.000000      1.000000      1.000000        1.0  \n",
       "max        1.000000      1.000000      1.000000        1.0  "
      ]
     },
     "execution_count": 47,
     "metadata": {},
     "output_type": "execute_result"
    }
   ],
   "source": [
    "df[df['stats_num'] == 1].describe()"
   ]
  },
  {
   "cell_type": "code",
   "execution_count": 48,
   "id": "9f367364",
   "metadata": {},
   "outputs": [
    {
     "data": {
      "text/plain": [
       "M    21.690980\n",
       "R    16.990096\n",
       "W    16.317586\n",
       "Name: pre_class, dtype: float64"
      ]
     },
     "execution_count": 48,
     "metadata": {},
     "output_type": "execute_result"
    }
   ],
   "source": [
    "# 전체 중 스탯 하나만 찍은 캐릭터들\n",
    "\n",
    "df[df['stats_num'] == 1]['pre_class'].value_counts() / df.shape[0] * 100"
   ]
  },
  {
   "cell_type": "code",
   "execution_count": 49,
   "id": "2babeef5",
   "metadata": {},
   "outputs": [
    {
     "data": {
      "text/plain": [
       "M    39.439105\n",
       "R    30.891836\n",
       "W    29.669059\n",
       "Name: pre_class, dtype: float64"
      ]
     },
     "execution_count": 49,
     "metadata": {},
     "output_type": "execute_result"
    }
   ],
   "source": [
    "# 스탯 하나만 찍은 캐릭터들 끼리의 비중\n",
    "\n",
    "df[df['stats_num'] == 1]['pre_class'].value_counts() / df[df['stats_num'] == 1].shape[0] * 100"
   ]
  },
  {
   "cell_type": "markdown",
   "id": "daf60cdc",
   "metadata": {},
   "source": [
    "그 안에서 각 직업별로 분포는 이러하다. \n",
    "\n",
    "### Commentary\n",
    "\n",
    "- 게임모드를 나누기 전, 스탯 하나만 찍은 사람은 절반을 조금 넘는 수준이다.\n",
    "\n",
    "- 스탯을 하나만 찍은 직업군 자체에서 가장 많은 수는 힘을 선택한 사람들이다. 하지만 최대 10% 포인트 정도 차이이다.\n",
    "\n",
    "\n",
    "## one stat classes by ladder\n",
    "> 그렇다면 게임 모드별로 이 수는 어떻게 변하는가?\n",
    "\n",
    "### Harbinger \n",
    "\n"
   ]
  },
  {
   "cell_type": "code",
   "execution_count": 50,
   "id": "e4e740df",
   "metadata": {},
   "outputs": [
    {
     "data": {
      "text/plain": [
       "(10192, 15)"
      ]
     },
     "execution_count": 50,
     "metadata": {},
     "output_type": "execute_result"
    }
   ],
   "source": [
    "# Harbinger\n",
    "\n",
    "df[(df['stats_num'] == 1)&(df['ladder'] == 'Harbinger')].shape"
   ]
  },
  {
   "cell_type": "code",
   "execution_count": 51,
   "id": "950056d6",
   "metadata": {},
   "outputs": [
    {
     "data": {
      "text/plain": [
       "68.32015015417616"
      ]
     },
     "execution_count": 51,
     "metadata": {},
     "output_type": "execute_result"
    }
   ],
   "source": [
    "# 이 모드에서 하나만 선택한 캐릭터들의 비율\n",
    "\n",
    "df[(df['stats_num'] == 1)&(df['ladder'] == 'Harbinger')].shape[0] / df[(df['ladder'] == 'Harbinger')].shape[0] * 100"
   ]
  },
  {
   "cell_type": "code",
   "execution_count": 52,
   "id": "df749051",
   "metadata": {},
   "outputs": [
    {
     "data": {
      "text/plain": [
       "R    136.728550\n",
       "M     80.055193\n",
       "W     38.911189\n",
       "Name: pre_class, dtype: float64"
      ]
     },
     "execution_count": 52,
     "metadata": {},
     "output_type": "execute_result"
    }
   ],
   "source": [
    "# 하나만 선택한 캐릭터들 중 직업별 비율\n",
    "\n",
    "df[(df['stats_num'] == 1)&(df['ladder'] == 'Harbinger')]['pre_class'].value_counts() / df[(df['stats_num'] == 2)&(df['ladder'] == 'Harbinger')].shape[0] * 100"
   ]
  },
  {
   "cell_type": "code",
   "execution_count": 53,
   "id": "a6d20724",
   "metadata": {},
   "outputs": [
    {
     "data": {
      "text/plain": [
       "<AxesSubplot:xlabel='pre_class', ylabel='count'>"
      ]
     },
     "execution_count": 53,
     "metadata": {},
     "output_type": "execute_result"
    },
    {
     "data": {
      "image/png": "[encoded data removed]",
      "text/plain": [
       "<Figure size 216x360 with 1 Axes>"
      ]
     },
     "metadata": {
      "needs_background": "light"
     },
     "output_type": "display_data"
    }
   ],
   "source": [
    "# 시각화\n",
    "\n",
    "plt.rcParams[\"figure.figsize\"] = (3, 5)\n",
    "sns.countplot(x = 'pre_class', data = df[(df['stats_num'] == 1)&(df['ladder'] == 'Harbinger')], order = ['M','R','W'])"
   ]
  },
  {
   "cell_type": "markdown",
   "id": "175815a2",
   "metadata": {},
   "source": [
    "### SSF Harbinger "
   ]
  },
  {
   "cell_type": "code",
   "execution_count": 54,
   "id": "b8d77e83",
   "metadata": {},
   "outputs": [
    {
     "data": {
      "text/plain": [
       "(7853, 15)"
      ]
     },
     "execution_count": 54,
     "metadata": {},
     "output_type": "execute_result"
    }
   ],
   "source": [
    "# SSF arbinger\n",
    "\n",
    "df[(df['stats_num'] == 1)&(df['ladder'] == 'SSF Harbinger')].shape"
   ]
  },
  {
   "cell_type": "code",
   "execution_count": 55,
   "id": "90300370",
   "metadata": {},
   "outputs": [
    {
     "data": {
      "text/plain": [
       "52.4197316601028"
      ]
     },
     "execution_count": 55,
     "metadata": {},
     "output_type": "execute_result"
    }
   ],
   "source": [
    "# 이 모드에서 하나만 선택한 캐릭터들의 비율\n",
    "\n",
    "df[(df['stats_num'] == 1)&(df['ladder'] == 'SSF Harbinger')].shape[0] / df[(df['ladder'] == 'SSF Harbinger')].shape[0] * 100"
   ]
  },
  {
   "cell_type": "code",
   "execution_count": 56,
   "id": "8b4fdee4",
   "metadata": {},
   "outputs": [
    {
     "data": {
      "text/plain": [
       "M    40.659621\n",
       "W    33.681396\n",
       "R    25.658984\n",
       "Name: pre_class, dtype: float64"
      ]
     },
     "execution_count": 56,
     "metadata": {},
     "output_type": "execute_result"
    }
   ],
   "source": [
    "# 하나만 선택한 캐릭터들 중 직업별 비율\n",
    "\n",
    "df[(df['stats_num'] == 1)&(df['ladder'] == 'SSF Harbinger')]['pre_class'].value_counts() / df[(df['stats_num'] == 1)&(df['ladder'] == 'SSF Harbinger')].shape[0] * 100"
   ]
  },
  {
   "cell_type": "code",
   "execution_count": 57,
   "id": "63f01dfb",
   "metadata": {},
   "outputs": [
    {
     "data": {
      "text/plain": [
       "<AxesSubplot:xlabel='pre_class', ylabel='count'>"
      ]
     },
     "execution_count": 57,
     "metadata": {},
     "output_type": "execute_result"
    },
    {
     "data": {
      "image/png": "[encoded data removed]",
      "text/plain": [
       "<Figure size 216x360 with 1 Axes>"
      ]
     },
     "metadata": {
      "needs_background": "light"
     },
     "output_type": "display_data"
    }
   ],
   "source": [
    "# 시각화\n",
    "\n",
    "sns.countplot(x = 'pre_class', data = df[(df['stats_num'] == 1)&(df['ladder'] == 'SSF Harbinger')], order = ['M','R','W'])"
   ]
  },
  {
   "cell_type": "markdown",
   "id": "3bc2e3b5",
   "metadata": {},
   "source": [
    "### Hardcore Harbinger"
   ]
  },
  {
   "cell_type": "code",
   "execution_count": 58,
   "id": "e2c26dfc",
   "metadata": {},
   "outputs": [
    {
     "data": {
      "text/plain": [
       "(7469, 15)"
      ]
     },
     "execution_count": 58,
     "metadata": {},
     "output_type": "execute_result"
    }
   ],
   "source": [
    "# Hardcore Harbinger\n",
    "\n",
    "df[(df['stats_num'] == 1)&(df['ladder'] == 'Hardcore Harbinger')].shape"
   ]
  },
  {
   "cell_type": "code",
   "execution_count": 59,
   "id": "2fb027a1",
   "metadata": {},
   "outputs": [
    {
     "data": {
      "text/plain": [
       "50.11070110701107"
      ]
     },
     "execution_count": 59,
     "metadata": {},
     "output_type": "execute_result"
    }
   ],
   "source": [
    "# 이 모드에서 하나만 선택한 캐릭터들의 비율\n",
    "\n",
    "df[(df['stats_num'] == 1)&(df['ladder'] == 'Hardcore Harbinger')].shape[0] / df[(df['ladder'] == 'Hardcore Harbinger')].shape[0] * 100"
   ]
  },
  {
   "cell_type": "code",
   "execution_count": 60,
   "id": "a5afaff9",
   "metadata": {},
   "outputs": [
    {
     "data": {
      "text/plain": [
       "M    45.882983\n",
       "W    34.275003\n",
       "R    19.842014\n",
       "Name: pre_class, dtype: float64"
      ]
     },
     "execution_count": 60,
     "metadata": {},
     "output_type": "execute_result"
    }
   ],
   "source": [
    "# 하나만 선택한 캐릭터들 중 직업별 비율\n",
    "\n",
    "df[(df['stats_num'] == 1)&(df['ladder'] == 'Hardcore Harbinger')]['pre_class'].value_counts() / df[(df['stats_num'] == 1)&(df['ladder'] == 'Hardcore Harbinger')].shape[0] * 100"
   ]
  },
  {
   "cell_type": "code",
   "execution_count": 61,
   "id": "c5072051",
   "metadata": {},
   "outputs": [
    {
     "data": {
      "text/plain": [
       "<AxesSubplot:xlabel='pre_class', ylabel='count'>"
      ]
     },
     "execution_count": 61,
     "metadata": {},
     "output_type": "execute_result"
    },
    {
     "data": {
      "image/png": "[encoded data removed]",
      "text/plain": [
       "<Figure size 216x360 with 1 Axes>"
      ]
     },
     "metadata": {
      "needs_background": "light"
     },
     "output_type": "display_data"
    }
   ],
   "source": [
    "# 시각화\n",
    "\n",
    "sns.countplot(x = 'pre_class', data = df[(df['stats_num'] == 1)&(df['ladder'] == 'Hardcore Harbinger')], order = ['M','R','W'])"
   ]
  },
  {
   "cell_type": "markdown",
   "id": "2998bba6",
   "metadata": {},
   "source": [
    "### SSF Harbinger HC"
   ]
  },
  {
   "cell_type": "code",
   "execution_count": 62,
   "id": "40d9a727",
   "metadata": {},
   "outputs": [
    {
     "data": {
      "text/plain": [
       "(7362, 15)"
      ]
     },
     "execution_count": 62,
     "metadata": {},
     "output_type": "execute_result"
    }
   ],
   "source": [
    "# SSF Harbinger Hardcore\n",
    "\n",
    "df[(df['stats_num'] == 1)&(df['ladder'] == 'SSF Harbinger HC')].shape"
   ]
  },
  {
   "cell_type": "code",
   "execution_count": 63,
   "id": "6db7f672",
   "metadata": {},
   "outputs": [
    {
     "data": {
      "text/plain": [
       "49.171787336361206"
      ]
     },
     "execution_count": 63,
     "metadata": {},
     "output_type": "execute_result"
    }
   ],
   "source": [
    "# 이 모드에서 하나만 선택한 캐릭터들의 비율\n",
    "\n",
    "df[(df['stats_num'] == 1)&(df['ladder'] == 'SSF Harbinger HC')].shape[0] / df[(df['ladder'] == 'SSF Harbinger HC')].shape[0] * 100"
   ]
  },
  {
   "cell_type": "code",
   "execution_count": 64,
   "id": "5b551922",
   "metadata": {},
   "outputs": [
    {
     "data": {
      "text/plain": [
       "M    42.855202\n",
       "W    40.722630\n",
       "R    16.422168\n",
       "Name: pre_class, dtype: float64"
      ]
     },
     "execution_count": 64,
     "metadata": {},
     "output_type": "execute_result"
    }
   ],
   "source": [
    "# 하나만 선택한 캐릭터들 중 직업별 비율\n",
    "\n",
    "df[(df['stats_num'] == 1)&(df['ladder'] == 'SSF Harbinger HC')]['pre_class'].value_counts() / df[(df['stats_num'] == 1)&(df['ladder'] == 'SSF Harbinger HC')].shape[0] * 100"
   ]
  },
  {
   "cell_type": "code",
   "execution_count": 65,
   "id": "0649d2d5",
   "metadata": {
    "scrolled": true
   },
   "outputs": [
    {
     "data": {
      "text/plain": [
       "<AxesSubplot:xlabel='pre_class', ylabel='count'>"
      ]
     },
     "execution_count": 65,
     "metadata": {},
     "output_type": "execute_result"
    },
    {
     "data": {
      "image/png": "[encoded data removed]",
      "text/plain": [
       "<Figure size 216x360 with 1 Axes>"
      ]
     },
     "metadata": {
      "needs_background": "light"
     },
     "output_type": "display_data"
    }
   ],
   "source": [
    "# 시각화\n",
    "\n",
    "sns.countplot(x = 'pre_class', data = df[(df['stats_num'] == 1)&(df['ladder'] == 'SSF Harbinger HC')], order = ['M','R','W'])"
   ]
  },
  {
   "cell_type": "markdown",
   "id": "9405e176",
   "metadata": {},
   "source": [
    "## Comentary\n",
    "\n",
    "> 한 가지를 찍은 사람은 적어도 반 정도는 되었고, 유독 Harbinger 모드에서 Ranger의 비율이 높았다.\n",
    "\n",
    "> Harbinger HC에서와 SSF Harbinger에서는 Marauder의 비율이 높다가\n",
    "\n",
    "> SSF Harbinger HC 모드에서는 Witch의 비율이 상당히 많이 올라온다.\n",
    "\n"
   ]
  },
  {
   "cell_type": "markdown",
   "id": "4236d656",
   "metadata": {},
   "source": [
    "# Two stats class and Three stat class\n",
    "---\n",
    "\n",
    "이번엔 두 스탯을 찍는 직업들을 비교해보고자 한다."
   ]
  },
  {
   "cell_type": "code",
   "execution_count": 66,
   "id": "89af9a7e",
   "metadata": {},
   "outputs": [
    {
     "data": {
      "text/html": [
       "<div>\n",
       "<style scoped>\n",
       "    .dataframe tbody tr th:only-of-type {\n",
       "        vertical-align: middle;\n",
       "    }\n",
       "\n",
       "    .dataframe tbody tr th {\n",
       "        vertical-align: top;\n",
       "    }\n",
       "\n",
       "    .dataframe thead th {\n",
       "        text-align: right;\n",
       "    }\n",
       "</style>\n",
       "<table border=\"1\" class=\"dataframe\">\n",
       "  <thead>\n",
       "    <tr style=\"text-align: right;\">\n",
       "      <th></th>\n",
       "      <th>rank</th>\n",
       "      <th>level</th>\n",
       "      <th>experience</th>\n",
       "      <th>challenges</th>\n",
       "      <th>special_class</th>\n",
       "      <th>stat_Str</th>\n",
       "      <th>stat_Int</th>\n",
       "      <th>stat_Dex</th>\n",
       "      <th>stats_num</th>\n",
       "    </tr>\n",
       "  </thead>\n",
       "  <tbody>\n",
       "    <tr>\n",
       "      <th>count</th>\n",
       "      <td>23094.000000</td>\n",
       "      <td>23094.000000</td>\n",
       "      <td>2.309400e+04</td>\n",
       "      <td>23094.000000</td>\n",
       "      <td>23094.000000</td>\n",
       "      <td>23094.000000</td>\n",
       "      <td>23094.000000</td>\n",
       "      <td>23094.000000</td>\n",
       "      <td>23094.0</td>\n",
       "    </tr>\n",
       "    <tr>\n",
       "      <th>mean</th>\n",
       "      <td>7463.189530</td>\n",
       "      <td>84.301160</td>\n",
       "      <td>1.684212e+09</td>\n",
       "      <td>24.865723</td>\n",
       "      <td>0.992119</td>\n",
       "      <td>0.780722</td>\n",
       "      <td>0.494847</td>\n",
       "      <td>0.724431</td>\n",
       "      <td>2.0</td>\n",
       "    </tr>\n",
       "    <tr>\n",
       "      <th>std</th>\n",
       "      <td>4301.343291</td>\n",
       "      <td>11.320677</td>\n",
       "      <td>1.044201e+09</td>\n",
       "      <td>8.182547</td>\n",
       "      <td>0.088425</td>\n",
       "      <td>0.413766</td>\n",
       "      <td>0.499984</td>\n",
       "      <td>0.446810</td>\n",
       "      <td>0.0</td>\n",
       "    </tr>\n",
       "    <tr>\n",
       "      <th>min</th>\n",
       "      <td>1.000000</td>\n",
       "      <td>53.000000</td>\n",
       "      <td>7.793689e+07</td>\n",
       "      <td>5.000000</td>\n",
       "      <td>0.000000</td>\n",
       "      <td>0.000000</td>\n",
       "      <td>0.000000</td>\n",
       "      <td>0.000000</td>\n",
       "      <td>2.0</td>\n",
       "    </tr>\n",
       "    <tr>\n",
       "      <th>25%</th>\n",
       "      <td>3743.000000</td>\n",
       "      <td>77.000000</td>\n",
       "      <td>6.952929e+08</td>\n",
       "      <td>19.000000</td>\n",
       "      <td>1.000000</td>\n",
       "      <td>1.000000</td>\n",
       "      <td>0.000000</td>\n",
       "      <td>0.000000</td>\n",
       "      <td>2.0</td>\n",
       "    </tr>\n",
       "    <tr>\n",
       "      <th>50%</th>\n",
       "      <td>7481.000000</td>\n",
       "      <td>89.000000</td>\n",
       "      <td>1.816992e+09</td>\n",
       "      <td>24.000000</td>\n",
       "      <td>1.000000</td>\n",
       "      <td>1.000000</td>\n",
       "      <td>0.000000</td>\n",
       "      <td>1.000000</td>\n",
       "      <td>2.0</td>\n",
       "    </tr>\n",
       "    <tr>\n",
       "      <th>75%</th>\n",
       "      <td>11149.000000</td>\n",
       "      <td>93.000000</td>\n",
       "      <td>2.488489e+09</td>\n",
       "      <td>30.000000</td>\n",
       "      <td>1.000000</td>\n",
       "      <td>1.000000</td>\n",
       "      <td>1.000000</td>\n",
       "      <td>1.000000</td>\n",
       "      <td>2.0</td>\n",
       "    </tr>\n",
       "    <tr>\n",
       "      <th>max</th>\n",
       "      <td>14981.000000</td>\n",
       "      <td>100.000000</td>\n",
       "      <td>4.250334e+09</td>\n",
       "      <td>40.000000</td>\n",
       "      <td>1.000000</td>\n",
       "      <td>1.000000</td>\n",
       "      <td>1.000000</td>\n",
       "      <td>1.000000</td>\n",
       "      <td>2.0</td>\n",
       "    </tr>\n",
       "  </tbody>\n",
       "</table>\n",
       "</div>"
      ],
      "text/plain": [
       "               rank         level    experience    challenges  special_class  \\\n",
       "count  23094.000000  23094.000000  2.309400e+04  23094.000000   23094.000000   \n",
       "mean    7463.189530     84.301160  1.684212e+09     24.865723       0.992119   \n",
       "std     4301.343291     11.320677  1.044201e+09      8.182547       0.088425   \n",
       "min        1.000000     53.000000  7.793689e+07      5.000000       0.000000   \n",
       "25%     3743.000000     77.000000  6.952929e+08     19.000000       1.000000   \n",
       "50%     7481.000000     89.000000  1.816992e+09     24.000000       1.000000   \n",
       "75%    11149.000000     93.000000  2.488489e+09     30.000000       1.000000   \n",
       "max    14981.000000    100.000000  4.250334e+09     40.000000       1.000000   \n",
       "\n",
       "           stat_Str      stat_Int      stat_Dex  stats_num  \n",
       "count  23094.000000  23094.000000  23094.000000    23094.0  \n",
       "mean       0.780722      0.494847      0.724431        2.0  \n",
       "std        0.413766      0.499984      0.446810        0.0  \n",
       "min        0.000000      0.000000      0.000000        2.0  \n",
       "25%        1.000000      0.000000      0.000000        2.0  \n",
       "50%        1.000000      0.000000      1.000000        2.0  \n",
       "75%        1.000000      1.000000      1.000000        2.0  \n",
       "max        1.000000      1.000000      1.000000        2.0  "
      ]
     },
     "execution_count": 66,
     "metadata": {},
     "output_type": "execute_result"
    }
   ],
   "source": [
    "df[df['stats_num'] == 2].describe()"
   ]
  },
  {
   "cell_type": "code",
   "execution_count": 67,
   "id": "2463afc0",
   "metadata": {},
   "outputs": [
    {
     "data": {
      "text/plain": [
       "38.63423447537473"
      ]
     },
     "execution_count": 67,
     "metadata": {},
     "output_type": "execute_result"
    }
   ],
   "source": [
    "# 전체 중 스탯 둘을 찍은 캐릭터들의 총 비율\n",
    "\n",
    "df[(df['stats_num'] == 2)].shape[0] / df.shape[0] * 100"
   ]
  },
  {
   "cell_type": "code",
   "execution_count": 68,
   "id": "655a2740",
   "metadata": {},
   "outputs": [
    {
     "data": {
      "text/plain": [
       "D    19.516194\n",
       "T    10.646413\n",
       "S     8.471627\n",
       "Name: pre_class, dtype: float64"
      ]
     },
     "execution_count": 68,
     "metadata": {},
     "output_type": "execute_result"
    }
   ],
   "source": [
    "# 전체 중 스탯을 둘 찍은 캐릭터들의 직업별 비율\n",
    "\n",
    "df[df['stats_num'] == 2]['pre_class'].value_counts() / df.shape[0] * 100"
   ]
  },
  {
   "cell_type": "code",
   "execution_count": 69,
   "id": "99fef51c",
   "metadata": {},
   "outputs": [
    {
     "data": {
      "text/plain": [
       "D    50.515285\n",
       "T    27.556941\n",
       "S    21.927773\n",
       "Name: pre_class, dtype: float64"
      ]
     },
     "execution_count": 69,
     "metadata": {},
     "output_type": "execute_result"
    }
   ],
   "source": [
    "# 스탯 둘을 찍은 캐릭터들 사이에서의 비중\n",
    "\n",
    "df[df['stats_num'] == 2]['pre_class'].value_counts() / df[df['stats_num'] == 2].shape[0] * 100"
   ]
  },
  {
   "cell_type": "markdown",
   "id": "4e3ee5d3",
   "metadata": {},
   "source": [
    "## two stat classes by ladder\n",
    "> 그렇다면 게임 모드별로 이 수는 어떻게 변하는가?\n",
    "\n",
    "### Harbinger "
   ]
  },
  {
   "cell_type": "code",
   "execution_count": 70,
   "id": "514fef0c",
   "metadata": {},
   "outputs": [
    {
     "data": {
      "text/plain": [
       "(3986, 15)"
      ]
     },
     "execution_count": 70,
     "metadata": {},
     "output_type": "execute_result"
    }
   ],
   "source": [
    "# Harbinger\n",
    "\n",
    "df[(df['stats_num'] == 2)&(df['ladder'] == 'Harbinger')].shape"
   ]
  },
  {
   "cell_type": "code",
   "execution_count": 71,
   "id": "e759a603",
   "metadata": {},
   "outputs": [
    {
     "data": {
      "text/plain": [
       "26.71939938329535"
      ]
     },
     "execution_count": 71,
     "metadata": {},
     "output_type": "execute_result"
    }
   ],
   "source": [
    "# 이 모드에서 둘 스탯을 찍은 캐릭터들의 비율\n",
    "\n",
    "df[(df['stats_num'] == 2)&(df['ladder'] == 'Harbinger')].shape[0] / df[(df['ladder'] == 'Harbinger')].shape[0] * 100"
   ]
  },
  {
   "cell_type": "code",
   "execution_count": 72,
   "id": "0a93834a",
   "metadata": {},
   "outputs": [
    {
     "data": {
      "text/plain": [
       "D    62.217762\n",
       "T    25.338685\n",
       "S    12.443552\n",
       "Name: pre_class, dtype: float64"
      ]
     },
     "execution_count": 72,
     "metadata": {},
     "output_type": "execute_result"
    }
   ],
   "source": [
    "# 두개를 선택한 캐릭터들 중 직업별 비율\n",
    "\n",
    "df[(df['stats_num'] == 2)&(df['ladder'] == 'Harbinger')]['pre_class'].value_counts() / df[(df['stats_num'] == 2)&(df['ladder'] == 'Harbinger')].shape[0] * 100"
   ]
  },
  {
   "cell_type": "code",
   "execution_count": 73,
   "id": "0a01e4c0",
   "metadata": {},
   "outputs": [
    {
     "data": {
      "text/plain": [
       "<AxesSubplot:xlabel='pre_class', ylabel='count'>"
      ]
     },
     "execution_count": 73,
     "metadata": {},
     "output_type": "execute_result"
    },
    {
     "data": {
      "image/png": "[encoded data removed]",
      "text/plain": [
       "<Figure size 216x360 with 1 Axes>"
      ]
     },
     "metadata": {
      "needs_background": "light"
     },
     "output_type": "display_data"
    }
   ],
   "source": [
    "# 시각화\n",
    "\n",
    "# plt.rcParams[\"figure.figsize\"] = (6, 5)\n",
    "sns.countplot(x = 'pre_class', data = df[(df['stats_num'] == 2)&(df['ladder'] == 'Harbinger')], order = ['D','S','T'])"
   ]
  },
  {
   "cell_type": "markdown",
   "id": "226053b4",
   "metadata": {},
   "source": [
    "### SSF Harbinger "
   ]
  },
  {
   "cell_type": "code",
   "execution_count": 74,
   "id": "b452c0cb",
   "metadata": {},
   "outputs": [
    {
     "data": {
      "text/plain": [
       "(6120, 15)"
      ]
     },
     "execution_count": 74,
     "metadata": {},
     "output_type": "execute_result"
    }
   ],
   "source": [
    "# SSF arbinger\n",
    "\n",
    "df[(df['stats_num'] == 2)&(df['ladder'] == 'SSF Harbinger')].shape"
   ]
  },
  {
   "cell_type": "code",
   "execution_count": 75,
   "id": "dc3f347c",
   "metadata": {},
   "outputs": [
    {
     "data": {
      "text/plain": [
       "40.851745544356184"
      ]
     },
     "execution_count": 75,
     "metadata": {},
     "output_type": "execute_result"
    }
   ],
   "source": [
    "# 이 모드에서 둘 스탯을 찍은 캐릭터들의 비율\n",
    "\n",
    "df[(df['stats_num'] == 2)&(df['ladder'] == 'SSF Harbinger')].shape[0] / df[(df['ladder'] == 'SSF Harbinger')].shape[0] * 100"
   ]
  },
  {
   "cell_type": "code",
   "execution_count": 76,
   "id": "513759d3",
   "metadata": {},
   "outputs": [
    {
     "data": {
      "text/plain": [
       "D    47.271242\n",
       "S    26.895425\n",
       "T    25.833333\n",
       "Name: pre_class, dtype: float64"
      ]
     },
     "execution_count": 76,
     "metadata": {},
     "output_type": "execute_result"
    }
   ],
   "source": [
    "# 두개를 선택한 캐릭터들 중 직업별 비율\n",
    "\n",
    "df[(df['stats_num'] == 2)&(df['ladder'] == 'SSF Harbinger')]['pre_class'].value_counts() / df[(df['stats_num'] == 2)&(df['ladder'] == 'SSF Harbinger')].shape[0] * 100"
   ]
  },
  {
   "cell_type": "code",
   "execution_count": 77,
   "id": "d607dbcc",
   "metadata": {},
   "outputs": [
    {
     "data": {
      "text/plain": [
       "<AxesSubplot:xlabel='pre_class', ylabel='count'>"
      ]
     },
     "execution_count": 77,
     "metadata": {},
     "output_type": "execute_result"
    },
    {
     "data": {
      "image/png": "[encoded data removed]",
      "text/plain": [
       "<Figure size 216x360 with 1 Axes>"
      ]
     },
     "metadata": {
      "needs_background": "light"
     },
     "output_type": "display_data"
    }
   ],
   "source": [
    "# 시각화\n",
    "\n",
    "sns.countplot(x = 'pre_class', data = df[(df['stats_num'] == 2)&(df['ladder'] == 'SSF Harbinger')], order = ['D','S','T'])"
   ]
  },
  {
   "cell_type": "markdown",
   "id": "071ad81b",
   "metadata": {},
   "source": [
    "### Hardcore Harbinger"
   ]
  },
  {
   "cell_type": "code",
   "execution_count": 78,
   "id": "0b414916",
   "metadata": {},
   "outputs": [
    {
     "data": {
      "text/plain": [
       "(6286, 15)"
      ]
     },
     "execution_count": 78,
     "metadata": {},
     "output_type": "execute_result"
    }
   ],
   "source": [
    "# Hardcore Harbinger\n",
    "\n",
    "df[(df['stats_num'] == 2)&(df['ladder'] == 'Hardcore Harbinger')].shape"
   ]
  },
  {
   "cell_type": "code",
   "execution_count": 79,
   "id": "196903aa",
   "metadata": {},
   "outputs": [
    {
     "data": {
      "text/plain": [
       "42.173767192217376"
      ]
     },
     "execution_count": 79,
     "metadata": {},
     "output_type": "execute_result"
    }
   ],
   "source": [
    "# 이 모드에서 둘 스탯을 찍은 캐릭터들의 비율\n",
    "\n",
    "df[(df['stats_num'] == 2)&(df['ladder'] == 'Hardcore Harbinger')].shape[0] / df[(df['ladder'] == 'Hardcore Harbinger')].shape[0] * 100"
   ]
  },
  {
   "cell_type": "code",
   "execution_count": 80,
   "id": "f752771c",
   "metadata": {},
   "outputs": [
    {
     "data": {
      "text/plain": [
       "D    50.731785\n",
       "T    30.019090\n",
       "S    19.249125\n",
       "Name: pre_class, dtype: float64"
      ]
     },
     "execution_count": 80,
     "metadata": {},
     "output_type": "execute_result"
    }
   ],
   "source": [
    "# 두개를 선택한 캐릭터들 중 직업별 비율\n",
    "\n",
    "df[(df['stats_num'] == 2)&(df['ladder'] == 'Hardcore Harbinger')]['pre_class'].value_counts() / df[(df['stats_num'] == 2)&(df['ladder'] == 'Hardcore Harbinger')].shape[0] * 100"
   ]
  },
  {
   "cell_type": "code",
   "execution_count": 81,
   "id": "a3dff42b",
   "metadata": {},
   "outputs": [
    {
     "data": {
      "text/plain": [
       "<AxesSubplot:xlabel='pre_class', ylabel='count'>"
      ]
     },
     "execution_count": 81,
     "metadata": {},
     "output_type": "execute_result"
    },
    {
     "data": {
      "image/png": "[encoded data removed]",
      "text/plain": [
       "<Figure size 216x360 with 1 Axes>"
      ]
     },
     "metadata": {
      "needs_background": "light"
     },
     "output_type": "display_data"
    }
   ],
   "source": [
    "# 시각화\n",
    "\n",
    "sns.countplot(x = 'pre_class', data = df[(df['stats_num'] == 2)&(df['ladder'] == 'Hardcore Harbinger')], order = ['D','S','T'])"
   ]
  },
  {
   "cell_type": "markdown",
   "id": "8847bde8",
   "metadata": {},
   "source": [
    "### SSF Harbinger HC"
   ]
  },
  {
   "cell_type": "code",
   "execution_count": 82,
   "id": "5c689101",
   "metadata": {},
   "outputs": [
    {
     "data": {
      "text/plain": [
       "(6702, 15)"
      ]
     },
     "execution_count": 82,
     "metadata": {},
     "output_type": "execute_result"
    }
   ],
   "source": [
    "# SSF Harbinger Hardcore\n",
    "\n",
    "df[(df['stats_num'] == 2)&(df['ladder'] == 'SSF Harbinger HC')].shape"
   ]
  },
  {
   "cell_type": "code",
   "execution_count": 83,
   "id": "533530be",
   "metadata": {},
   "outputs": [
    {
     "data": {
      "text/plain": [
       "44.76355864279989"
      ]
     },
     "execution_count": 83,
     "metadata": {},
     "output_type": "execute_result"
    }
   ],
   "source": [
    "# 이 모드에서 둘 스탯을 찍은 캐릭터들의 비율\n",
    "\n",
    "df[(df['stats_num'] == 2)&(df['ladder'] == 'SSF Harbinger HC')].shape[0] / df[(df['ladder'] == 'SSF Harbinger HC')].shape[0] * 100"
   ]
  },
  {
   "cell_type": "code",
   "execution_count": 84,
   "id": "2e7eb809",
   "metadata": {},
   "outputs": [
    {
     "data": {
      "text/plain": [
       "D    46.314533\n",
       "T    28.140853\n",
       "S    25.544614\n",
       "Name: pre_class, dtype: float64"
      ]
     },
     "execution_count": 84,
     "metadata": {},
     "output_type": "execute_result"
    }
   ],
   "source": [
    "# 두개를 선택한 캐릭터들 중 직업별 비율\n",
    "\n",
    "df[(df['stats_num'] == 2)&(df['ladder'] == 'SSF Harbinger HC')]['pre_class'].value_counts() / df[(df['stats_num'] == 2)&(df['ladder'] == 'SSF Harbinger HC')].shape[0] * 100"
   ]
  },
  {
   "cell_type": "code",
   "execution_count": 85,
   "id": "b933156c",
   "metadata": {
    "scrolled": true
   },
   "outputs": [
    {
     "data": {
      "text/plain": [
       "<AxesSubplot:xlabel='pre_class', ylabel='count'>"
      ]
     },
     "execution_count": 85,
     "metadata": {},
     "output_type": "execute_result"
    },
    {
     "data": {
      "image/png": "[encoded data removed]",
      "text/plain": [
       "<Figure size 216x360 with 1 Axes>"
      ]
     },
     "metadata": {
      "needs_background": "light"
     },
     "output_type": "display_data"
    }
   ],
   "source": [
    "# 시각화\n",
    "\n",
    "sns.countplot(x = 'pre_class', data = df[(df['stats_num'] == 2)&(df['ladder'] == 'SSF Harbinger HC')], order = ['D','S','T'])"
   ]
  },
  {
   "cell_type": "markdown",
   "id": "a13deedd",
   "metadata": {},
   "source": [
    "### characters by ladder"
   ]
  },
  {
   "cell_type": "code",
   "execution_count": 86,
   "id": "4ab5a27f",
   "metadata": {},
   "outputs": [
    {
     "data": {
      "text/html": [
       "<div>\n",
       "<style scoped>\n",
       "    .dataframe tbody tr th:only-of-type {\n",
       "        vertical-align: middle;\n",
       "    }\n",
       "\n",
       "    .dataframe tbody tr th {\n",
       "        vertical-align: top;\n",
       "    }\n",
       "\n",
       "    .dataframe thead th {\n",
       "        text-align: right;\n",
       "    }\n",
       "</style>\n",
       "<table border=\"1\" class=\"dataframe\">\n",
       "  <thead>\n",
       "    <tr style=\"text-align: right;\">\n",
       "      <th>ladder</th>\n",
       "      <th>Harbinger</th>\n",
       "      <th>Hardcore Harbinger</th>\n",
       "      <th>SSF Harbinger</th>\n",
       "      <th>SSF Harbinger HC</th>\n",
       "    </tr>\n",
       "    <tr>\n",
       "      <th>stats_num</th>\n",
       "      <th></th>\n",
       "      <th></th>\n",
       "      <th></th>\n",
       "      <th></th>\n",
       "    </tr>\n",
       "  </thead>\n",
       "  <tbody>\n",
       "    <tr>\n",
       "      <th>1</th>\n",
       "      <td>10192</td>\n",
       "      <td>7469</td>\n",
       "      <td>7853</td>\n",
       "      <td>7362</td>\n",
       "    </tr>\n",
       "    <tr>\n",
       "      <th>2</th>\n",
       "      <td>3986</td>\n",
       "      <td>6286</td>\n",
       "      <td>6120</td>\n",
       "      <td>6702</td>\n",
       "    </tr>\n",
       "    <tr>\n",
       "      <th>3</th>\n",
       "      <td>740</td>\n",
       "      <td>1150</td>\n",
       "      <td>1008</td>\n",
       "      <td>908</td>\n",
       "    </tr>\n",
       "  </tbody>\n",
       "</table>\n",
       "</div>"
      ],
      "text/plain": [
       "ladder     Harbinger  Hardcore Harbinger  SSF Harbinger  SSF Harbinger HC\n",
       "stats_num                                                                \n",
       "1              10192                7469           7853              7362\n",
       "2               3986                6286           6120              6702\n",
       "3                740                1150           1008               908"
      ]
     },
     "execution_count": 86,
     "metadata": {},
     "output_type": "execute_result"
    }
   ],
   "source": [
    "pd.crosstab(index = df['stats_num'], columns = df['ladder'])"
   ]
  },
  {
   "cell_type": "markdown",
   "id": "ad5b602c",
   "metadata": {},
   "source": [
    "## Commentary\n",
    "\n",
    "- 게임모드를 나누기 전, 스탯 둘을 찍은 캐릭터는 38% 정도이다. \n",
    "\n",
    "- 스탯을 하나만 찍은 직업군 자체에서 가장 많은 수는 힘과 민첩을 선택한 캐릭터들이다. 그들 중 Duelist를 선택한 캐릭터가 전체 두 스탯 캐릭터중 50%에 달한다.\n",
    "\n",
    "- 아무래도 두 스탯을 찍은 사람들이 한 스탯을 찍은 캐릭터들보다 적기는 하지만, 특히 Harbinger 모드에서는 다른 모드에서보다 유독 적은(거의 60%에 미치는) 3986개의 캐릭터가 존재하고 있다. (바로 위의 표 참고)\n",
    "\n",
    "- \n"
   ]
  },
  {
   "cell_type": "markdown",
   "id": "6b1129b5",
   "metadata": {},
   "source": [
    "## Three stat class by ladder"
   ]
  },
  {
   "cell_type": "code",
   "execution_count": 87,
   "id": "2f3c8680",
   "metadata": {},
   "outputs": [
    {
     "data": {
      "text/html": [
       "<div>\n",
       "<style scoped>\n",
       "    .dataframe tbody tr th:only-of-type {\n",
       "        vertical-align: middle;\n",
       "    }\n",
       "\n",
       "    .dataframe tbody tr th {\n",
       "        vertical-align: top;\n",
       "    }\n",
       "\n",
       "    .dataframe thead th {\n",
       "        text-align: right;\n",
       "    }\n",
       "</style>\n",
       "<table border=\"1\" class=\"dataframe\">\n",
       "  <thead>\n",
       "    <tr style=\"text-align: right;\">\n",
       "      <th></th>\n",
       "      <th>rank</th>\n",
       "      <th>level</th>\n",
       "      <th>experience</th>\n",
       "      <th>challenges</th>\n",
       "      <th>special_class</th>\n",
       "      <th>stat_Str</th>\n",
       "      <th>stat_Int</th>\n",
       "      <th>stat_Dex</th>\n",
       "      <th>stats_num</th>\n",
       "    </tr>\n",
       "  </thead>\n",
       "  <tbody>\n",
       "    <tr>\n",
       "      <th>count</th>\n",
       "      <td>3806.000000</td>\n",
       "      <td>3806.000000</td>\n",
       "      <td>3.806000e+03</td>\n",
       "      <td>3806.000000</td>\n",
       "      <td>3806.000000</td>\n",
       "      <td>3806.0</td>\n",
       "      <td>3806.0</td>\n",
       "      <td>3806.0</td>\n",
       "      <td>3806.0</td>\n",
       "    </tr>\n",
       "    <tr>\n",
       "      <th>mean</th>\n",
       "      <td>7578.089858</td>\n",
       "      <td>85.025749</td>\n",
       "      <td>1.765743e+09</td>\n",
       "      <td>25.988702</td>\n",
       "      <td>0.986337</td>\n",
       "      <td>1.0</td>\n",
       "      <td>1.0</td>\n",
       "      <td>1.0</td>\n",
       "      <td>3.0</td>\n",
       "    </tr>\n",
       "    <tr>\n",
       "      <th>std</th>\n",
       "      <td>4253.503566</td>\n",
       "      <td>11.190848</td>\n",
       "      <td>1.064200e+09</td>\n",
       "      <td>8.329207</td>\n",
       "      <td>0.116101</td>\n",
       "      <td>0.0</td>\n",
       "      <td>0.0</td>\n",
       "      <td>0.0</td>\n",
       "      <td>0.0</td>\n",
       "    </tr>\n",
       "    <tr>\n",
       "      <th>min</th>\n",
       "      <td>12.000000</td>\n",
       "      <td>53.000000</td>\n",
       "      <td>7.794179e+07</td>\n",
       "      <td>5.000000</td>\n",
       "      <td>0.000000</td>\n",
       "      <td>1.0</td>\n",
       "      <td>1.0</td>\n",
       "      <td>1.0</td>\n",
       "      <td>3.0</td>\n",
       "    </tr>\n",
       "    <tr>\n",
       "      <th>25%</th>\n",
       "      <td>3988.250000</td>\n",
       "      <td>78.000000</td>\n",
       "      <td>7.375787e+08</td>\n",
       "      <td>20.000000</td>\n",
       "      <td>1.000000</td>\n",
       "      <td>1.0</td>\n",
       "      <td>1.0</td>\n",
       "      <td>1.0</td>\n",
       "      <td>3.0</td>\n",
       "    </tr>\n",
       "    <tr>\n",
       "      <th>50%</th>\n",
       "      <td>7707.500000</td>\n",
       "      <td>89.000000</td>\n",
       "      <td>1.905394e+09</td>\n",
       "      <td>25.000000</td>\n",
       "      <td>1.000000</td>\n",
       "      <td>1.0</td>\n",
       "      <td>1.0</td>\n",
       "      <td>1.0</td>\n",
       "      <td>3.0</td>\n",
       "    </tr>\n",
       "    <tr>\n",
       "      <th>75%</th>\n",
       "      <td>11138.000000</td>\n",
       "      <td>94.000000</td>\n",
       "      <td>2.680416e+09</td>\n",
       "      <td>33.000000</td>\n",
       "      <td>1.000000</td>\n",
       "      <td>1.0</td>\n",
       "      <td>1.0</td>\n",
       "      <td>1.0</td>\n",
       "      <td>3.0</td>\n",
       "    </tr>\n",
       "    <tr>\n",
       "      <th>max</th>\n",
       "      <td>14973.000000</td>\n",
       "      <td>100.000000</td>\n",
       "      <td>4.250334e+09</td>\n",
       "      <td>40.000000</td>\n",
       "      <td>1.000000</td>\n",
       "      <td>1.0</td>\n",
       "      <td>1.0</td>\n",
       "      <td>1.0</td>\n",
       "      <td>3.0</td>\n",
       "    </tr>\n",
       "  </tbody>\n",
       "</table>\n",
       "</div>"
      ],
      "text/plain": [
       "               rank        level    experience   challenges  special_class  \\\n",
       "count   3806.000000  3806.000000  3.806000e+03  3806.000000    3806.000000   \n",
       "mean    7578.089858    85.025749  1.765743e+09    25.988702       0.986337   \n",
       "std     4253.503566    11.190848  1.064200e+09     8.329207       0.116101   \n",
       "min       12.000000    53.000000  7.794179e+07     5.000000       0.000000   \n",
       "25%     3988.250000    78.000000  7.375787e+08    20.000000       1.000000   \n",
       "50%     7707.500000    89.000000  1.905394e+09    25.000000       1.000000   \n",
       "75%    11138.000000    94.000000  2.680416e+09    33.000000       1.000000   \n",
       "max    14973.000000   100.000000  4.250334e+09    40.000000       1.000000   \n",
       "\n",
       "       stat_Str  stat_Int  stat_Dex  stats_num  \n",
       "count    3806.0    3806.0    3806.0     3806.0  \n",
       "mean        1.0       1.0       1.0        3.0  \n",
       "std         0.0       0.0       0.0        0.0  \n",
       "min         1.0       1.0       1.0        3.0  \n",
       "25%         1.0       1.0       1.0        3.0  \n",
       "50%         1.0       1.0       1.0        3.0  \n",
       "75%         1.0       1.0       1.0        3.0  \n",
       "max         1.0       1.0       1.0        3.0  "
      ]
     },
     "execution_count": 87,
     "metadata": {},
     "output_type": "execute_result"
    }
   ],
   "source": [
    "# 3개를 찍은 캐릭터는 Sc를 찾아도 된다.\n",
    "\n",
    "df[df['stats_num'] == 3].describe()"
   ]
  },
  {
   "cell_type": "code",
   "execution_count": 88,
   "id": "b63b5971",
   "metadata": {},
   "outputs": [
    {
     "data": {
      "text/plain": [
       "6.367103854389722"
      ]
     },
     "execution_count": 88,
     "metadata": {},
     "output_type": "execute_result"
    }
   ],
   "source": [
    "# 전체 중 스탯 셋을 찍은, Scion인 캐릭터들의 총 비율\n",
    "\n",
    "df[(df['stats_num'] == 3)].shape[0] / df.shape[0] * 100"
   ]
  },
  {
   "cell_type": "markdown",
   "id": "e808c3dd",
   "metadata": {},
   "source": [
    "Scion의 경우 Scion과 전직 후 Ascendant 이렇게만 두 직업이 있으므로 간단하게 통계량만 보도록 한다."
   ]
  },
  {
   "cell_type": "code",
   "execution_count": 89,
   "id": "46b83056",
   "metadata": {},
   "outputs": [
    {
     "data": {
      "text/plain": [
       "Ascendant    6.280112\n",
       "Scion        0.086991\n",
       "Name: class, dtype: float64"
      ]
     },
     "execution_count": 89,
     "metadata": {},
     "output_type": "execute_result"
    }
   ],
   "source": [
    "# 전체 중 스탯 전부 찍은 캐릭터들의 직업별 비율\n",
    "\n",
    "df[df['stats_num'] == 3]['class'].value_counts() / df.shape[0] * 100"
   ]
  },
  {
   "cell_type": "code",
   "execution_count": 90,
   "id": "0c43eafd",
   "metadata": {},
   "outputs": [
    {
     "data": {
      "text/plain": [
       "Ascendant    98.633736\n",
       "Scion         1.366264\n",
       "Name: class, dtype: float64"
      ]
     },
     "execution_count": 90,
     "metadata": {},
     "output_type": "execute_result"
    }
   ],
   "source": [
    "# 스탯을 전부 찍은 캐릭터들 사이에서의 비중\n",
    "\n",
    "df[df['stats_num'] == 3]['class'].value_counts() / df[df['stats_num'] == 3].shape[0] * 100"
   ]
  },
  {
   "cell_type": "markdown",
   "id": "555034c5",
   "metadata": {},
   "source": [
    "## Three stat classes by ladder\n",
    "> 그렇다면 게임 모드별로 Scion의 수는 어떻게 변하는가?\n",
    "\n",
    "### Harbinger "
   ]
  },
  {
   "cell_type": "code",
   "execution_count": 91,
   "id": "b0221abd",
   "metadata": {},
   "outputs": [
    {
     "data": {
      "text/plain": [
       "(740, 15)"
      ]
     },
     "execution_count": 91,
     "metadata": {},
     "output_type": "execute_result"
    }
   ],
   "source": [
    "# Harbinger\n",
    "\n",
    "df[(df['stats_num'] == 3)&(df['ladder'] == 'Harbinger')].shape"
   ]
  },
  {
   "cell_type": "code",
   "execution_count": 92,
   "id": "98969480",
   "metadata": {},
   "outputs": [
    {
     "data": {
      "text/plain": [
       "4.960450462528489"
      ]
     },
     "execution_count": 92,
     "metadata": {},
     "output_type": "execute_result"
    }
   ],
   "source": [
    "# 이 모드에서 스탯 세개를 찍은 캐릭터들의 비율\n",
    "\n",
    "df[(df['stats_num'] == 3)&(df['ladder'] == 'Harbinger')].shape[0] / df[(df['ladder'] == 'Harbinger')].shape[0] * 100"
   ]
  },
  {
   "cell_type": "code",
   "execution_count": 93,
   "id": "ea7d4a36",
   "metadata": {},
   "outputs": [
    {
     "data": {
      "text/plain": [
       "Ascendant    100.0\n",
       "Name: class, dtype: float64"
      ]
     },
     "execution_count": 93,
     "metadata": {},
     "output_type": "execute_result"
    }
   ],
   "source": [
    "# 세 스탯을 선택한 캐릭터들 중 직업별 비율\n",
    "\n",
    "df[(df['stats_num'] == 3)&(df['ladder'] == 'Harbinger')]['class'].value_counts() / df[(df['stats_num'] == 3)&(df['ladder'] == 'Harbinger')].shape[0] * 100"
   ]
  },
  {
   "cell_type": "markdown",
   "id": "15438968",
   "metadata": {},
   "source": [
    "### SSF Harbinger "
   ]
  },
  {
   "cell_type": "code",
   "execution_count": 94,
   "id": "66877d1e",
   "metadata": {},
   "outputs": [
    {
     "data": {
      "text/plain": [
       "(1008, 15)"
      ]
     },
     "execution_count": 94,
     "metadata": {},
     "output_type": "execute_result"
    }
   ],
   "source": [
    "# SSF arbinger\n",
    "\n",
    "df[(df['stats_num'] == 3)&(df['ladder'] == 'SSF Harbinger')].shape"
   ]
  },
  {
   "cell_type": "code",
   "execution_count": 95,
   "id": "e4004d6c",
   "metadata": {},
   "outputs": [
    {
     "data": {
      "text/plain": [
       "6.728522795541019"
      ]
     },
     "execution_count": 95,
     "metadata": {},
     "output_type": "execute_result"
    }
   ],
   "source": [
    "# 이 모드에서 스탯 셋을 찍은 캐릭터들의 비율\n",
    "\n",
    "df[(df['stats_num'] == 3)&(df['ladder'] == 'SSF Harbinger')].shape[0] / df[(df['ladder'] == 'SSF Harbinger')].shape[0] * 100"
   ]
  },
  {
   "cell_type": "code",
   "execution_count": 96,
   "id": "6eee388b",
   "metadata": {},
   "outputs": [
    {
     "data": {
      "text/plain": [
       "Ascendant    99.206349\n",
       "Scion         0.793651\n",
       "Name: class, dtype: float64"
      ]
     },
     "execution_count": 96,
     "metadata": {},
     "output_type": "execute_result"
    }
   ],
   "source": [
    "# 세 스탯을 선택한 캐릭터들 중 직업별 비율\n",
    "\n",
    "df[(df['stats_num'] == 3)&(df['ladder'] == 'SSF Harbinger')]['class'].value_counts() / df[(df['stats_num'] == 3)&(df['ladder'] == 'SSF Harbinger')].shape[0] * 100"
   ]
  },
  {
   "cell_type": "markdown",
   "id": "6dc6b85c",
   "metadata": {},
   "source": [
    "### Hardcore Harbinger"
   ]
  },
  {
   "cell_type": "code",
   "execution_count": 97,
   "id": "ba44bfa7",
   "metadata": {},
   "outputs": [
    {
     "data": {
      "text/plain": [
       "(1150, 15)"
      ]
     },
     "execution_count": 97,
     "metadata": {},
     "output_type": "execute_result"
    }
   ],
   "source": [
    "# Hardcore Harbinger\n",
    "\n",
    "df[(df['stats_num'] == 3)&(df['ladder'] == 'Hardcore Harbinger')].shape"
   ]
  },
  {
   "cell_type": "code",
   "execution_count": 98,
   "id": "1dc67e6a",
   "metadata": {},
   "outputs": [
    {
     "data": {
      "text/plain": [
       "7.715531700771554"
      ]
     },
     "execution_count": 98,
     "metadata": {},
     "output_type": "execute_result"
    }
   ],
   "source": [
    "# 이 모드에서 스탯 셋을 찍은 캐릭터들의 비율\n",
    "\n",
    "df[(df['stats_num'] == 3)&(df['ladder'] == 'Hardcore Harbinger')].shape[0] / df[(df['ladder'] == 'Hardcore Harbinger')].shape[0] * 100"
   ]
  },
  {
   "cell_type": "code",
   "execution_count": 99,
   "id": "4b8d7aa4",
   "metadata": {},
   "outputs": [
    {
     "data": {
      "text/plain": [
       "Ascendant    99.913043\n",
       "Scion         0.086957\n",
       "Name: class, dtype: float64"
      ]
     },
     "execution_count": 99,
     "metadata": {},
     "output_type": "execute_result"
    }
   ],
   "source": [
    "# 세 스탯을 선택한 캐릭터들 중 직업별 비율\n",
    "\n",
    "df[(df['stats_num'] == 3)&(df['ladder'] == 'Hardcore Harbinger')]['class'].value_counts() / df[(df['stats_num'] == 3)&(df['ladder'] == 'Hardcore Harbinger')].shape[0] * 100"
   ]
  },
  {
   "cell_type": "markdown",
   "id": "3f132b9f",
   "metadata": {},
   "source": [
    "### SSF Harbinger HC"
   ]
  },
  {
   "cell_type": "code",
   "execution_count": 100,
   "id": "564a6163",
   "metadata": {},
   "outputs": [
    {
     "data": {
      "text/plain": [
       "(908, 15)"
      ]
     },
     "execution_count": 100,
     "metadata": {},
     "output_type": "execute_result"
    }
   ],
   "source": [
    "# SSF Harbinger Hardcore\n",
    "\n",
    "df[(df['stats_num'] == 3)&(df['ladder'] == 'SSF Harbinger HC')].shape"
   ]
  },
  {
   "cell_type": "code",
   "execution_count": 101,
   "id": "23c8ed29",
   "metadata": {},
   "outputs": [
    {
     "data": {
      "text/plain": [
       "6.0646540208388995"
      ]
     },
     "execution_count": 101,
     "metadata": {},
     "output_type": "execute_result"
    }
   ],
   "source": [
    "# 이 모드에서 스탯 셋을 찍은 캐릭터들의 비율\n",
    "\n",
    "df[(df['stats_num'] == 3)&(df['ladder'] == 'SSF Harbinger HC')].shape[0] / df[(df['ladder'] == 'SSF Harbinger HC')].shape[0] * 100"
   ]
  },
  {
   "cell_type": "code",
   "execution_count": 102,
   "id": "b3dc48cc",
   "metadata": {},
   "outputs": [
    {
     "data": {
      "text/plain": [
       "Ascendant    95.264317\n",
       "Scion         4.735683\n",
       "Name: class, dtype: float64"
      ]
     },
     "execution_count": 102,
     "metadata": {},
     "output_type": "execute_result"
    }
   ],
   "source": [
    "# 세 스탯을 선택한 캐릭터들 중 직업별 비율\n",
    "\n",
    "df[(df['stats_num'] == 3)&(df['ladder'] == 'SSF Harbinger HC')]['class'].value_counts() / df[(df['stats_num'] == 3)&(df['ladder'] == 'SSF Harbinger HC')].shape[0] * 100"
   ]
  },
  {
   "cell_type": "markdown",
   "id": "f25420aa",
   "metadata": {},
   "source": [
    "## Scions(Three stat classes) number by ladder"
   ]
  },
  {
   "cell_type": "code",
   "execution_count": 103,
   "id": "71edf987",
   "metadata": {
    "scrolled": true
   },
   "outputs": [
    {
     "data": {
      "text/plain": [
       "<AxesSubplot:xlabel='ladder', ylabel='count'>"
      ]
     },
     "execution_count": 103,
     "metadata": {},
     "output_type": "execute_result"
    },
    {
     "data": {
      "image/png": "[encoded data removed]",
      "text/plain": [
       "<Figure size 216x360 with 1 Axes>"
      ]
     },
     "metadata": {
      "needs_background": "light"
     },
     "output_type": "display_data"
    }
   ],
   "source": [
    "# 시각화\n",
    "\n",
    "sns.countplot(x = 'ladder', data = df[(df['stats_num'] == 3)], order = ['Harbinger','SSF Harbinger', 'Hardcore Harbinger','SSF Harbinger HC'])"
   ]
  },
  {
   "cell_type": "markdown",
   "id": "03862618",
   "metadata": {},
   "source": [
    "## Comentary\n",
    "\n",
    "Scion은 수가 적고, 눈에 띄는 무언가를 보여주지는 않았다. Hardcore Harbinger 모드에서 좀 더 선호되었다는 정도이다."
   ]
  },
  {
   "cell_type": "markdown",
   "id": "97b4fdb3",
   "metadata": {},
   "source": [
    "# Classes number by ladder\n",
    "\n",
    "지금까지는 클래스에 따라 선호되는 클래스가 어떤 직업군일지 스탯의 개수에 따라보았다.\n",
    "\n",
    "지금부터는 관점을 바꾸어서 해당 클래스가 모드를 선택한다는 관점에서 한 클래스별로 모드별로 변화하는 양을 보고자 한다. \n",
    "\n",
    "한 클래스를 하더라도 모드에 따라 선호되는게 다를 수 있다.\n",
    "\n",
    "ladder에 따라, 클래스별로 다른 수들을 시각화해본다."
   ]
  },
  {
   "cell_type": "markdown",
   "id": "cbac4e7c",
   "metadata": {},
   "source": [
    "```# df[(df['pre_class'] == 'M')]['ladder'].hist(grid = False, figsize = (4, 6)) # 예쁘지 않아서 취소```"
   ]
  },
  {
   "cell_type": "code",
   "execution_count": 106,
   "id": "cc7b919c",
   "metadata": {},
   "outputs": [
    {
     "data": {
      "text/plain": [
       "<AxesSubplot:xlabel='ladder', ylabel='Count'>"
      ]
     },
     "execution_count": 106,
     "metadata": {},
     "output_type": "execute_result"
    },
    {
     "data": {
      "image/png": "[encoded data removed]",
      "text/plain": [
       "<Figure size 288x360 with 1 Axes>"
      ]
     },
     "metadata": {
      "needs_background": "light"
     },
     "output_type": "display_data"
    }
   ],
   "source": [
    "# Marauder\n",
    "\n",
    "plt.rcParams[\"figure.figsize\"] = (4, 5)\n",
    "sns.histplot(data = df[(df['pre_class'] == 'M')], x = 'ladder')"
   ]
  },
  {
   "cell_type": "code",
   "execution_count": null,
   "id": "79e56f3c",
   "metadata": {},
   "outputs": [],
   "source": [
    "# Duelist\n",
    "\n",
    "plt.rcParams[\"figure.figsize\"] = (4, 5)\n",
    "sns.histplot(data = df[(df['pre_class'] == 'D')], x = 'ladder')"
   ]
  },
  {
   "cell_type": "code",
   "execution_count": null,
   "id": "0169c242",
   "metadata": {},
   "outputs": [],
   "source": [
    "# Templar\n",
    "\n",
    "plt.rcParams[\"figure.figsize\"] = (4, 5)\n",
    "sns.histplot(data = df[(df['pre_class'] == 'T')], x = 'ladder')"
   ]
  },
  {
   "cell_type": "code",
   "execution_count": null,
   "id": "c08bdd22",
   "metadata": {},
   "outputs": [],
   "source": [
    "# Ranger\n",
    "\n",
    "plt.rcParams[\"figure.figsize\"] = (4, 5)\n",
    "sns.histplot(data = df[(df['pre_class'] == 'M')], x = 'ladder')"
   ]
  },
  {
   "cell_type": "code",
   "execution_count": null,
   "id": "fd1c3b4b",
   "metadata": {},
   "outputs": [],
   "source": [
    "# Shadow\n",
    "\n",
    "plt.rcParams[\"figure.figsize\"] = (4, 5)\n",
    "sns.histplot(data = df[(df['pre_class'] == 'M')], x = 'ladder')"
   ]
  }
 ],
 "metadata": {
  "kernelspec": {
   "display_name": "Python 3 (ipykernel)",
   "language": "python",
   "name": "python3"
  },
  "language_info": {
   "codemirror_mode": {
    "name": "ipython",
    "version": 3
   },
   "file_extension": ".py",
   "mimetype": "text/x-python",
   "name": "python",
   "nbconvert_exporter": "python",
   "pygments_lexer": "ipython3",
   "version": "3.8.5"
  },
  "toc": {
   "base_numbering": 1,
   "nav_menu": {},
   "number_sections": true,
   "sideBar": true,
   "skip_h1_title": false,
   "title_cell": "Table of Contents",
   "title_sidebar": "Contents",
   "toc_cell": false,
   "toc_position": {
    "height": "calc(100% - 180px)",
    "left": "10px",
    "top": "150px",
    "width": "360px"
   },
   "toc_section_display": true,
   "toc_window_display": true
  }
 },
 "nbformat": 4,
 "nbformat_minor": 5
}

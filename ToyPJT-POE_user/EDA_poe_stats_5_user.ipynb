{
 "cells": [
  {
   "cell_type": "markdown",
   "id": "bd018e1a",
   "metadata": {},
   "source": [
    "# Path of Exile game stats data eda\n",
    "\n",
    "dates: 2022.05.17 ~ \n",
    "\n",
    "This file contains an analysis processing of the game 'Path of Exile' data.\n",
    "\n",
    "###### Origins of datas from here: \n",
    "poe_stats : https://www.kaggle.com/datasets/gagazet/path-of-exile-league-statistic\n",
    "\n",
    "Data contains stats of 59000 players, from 4th August of 2017 and before now.\n",
    "\n",
    "---\n",
    "\n",
    "특정 유저들을 골라내는 위주로 분석을 진행할 노트북입니다. 이름을 이용하거나, 트위치 아이디를 이용하는 방식입니다.\n",
    "\n"
   ]
  },
  {
   "cell_type": "markdown",
   "id": "f96e47df",
   "metadata": {},
   "source": [
    "# Dataset and libraries \n",
    "\n",
    "## data and libraries import"
   ]
  },
  {
   "cell_type": "code",
   "execution_count": 1,
   "id": "7d2ad90c",
   "metadata": {},
   "outputs": [],
   "source": [
    "import pandas as pd\n",
    "import numpy as np\n",
    "import matplotlib.pyplot as plt\n",
    "import seaborn as sns\n",
    "from pathlib import Path\n",
    "# import wquantiles\n",
    "\n",
    "# from sklearn.utils import resample\n",
    "# from scipy import stats\n",
    "# from scipy.stats import trim_mean\n",
    "# from statsmodels import robust\n",
    "# import statsmodels.api as sm\n",
    "# import statsmodels.formula.api as smf\n",
    "# from statsmodels.stats import power\n",
    "\n",
    "df = pd.read_csv('poe_stats_2revisedrank.csv')"
   ]
  },
  {
   "cell_type": "code",
   "execution_count": 2,
   "id": "a6718138",
   "metadata": {
    "scrolled": true
   },
   "outputs": [
    {
     "data": {
      "text/html": [
       "<div>\n",
       "<style scoped>\n",
       "    .dataframe tbody tr th:only-of-type {\n",
       "        vertical-align: middle;\n",
       "    }\n",
       "\n",
       "    .dataframe tbody tr th {\n",
       "        vertical-align: top;\n",
       "    }\n",
       "\n",
       "    .dataframe thead th {\n",
       "        text-align: right;\n",
       "    }\n",
       "</style>\n",
       "<table border=\"1\" class=\"dataframe\">\n",
       "  <thead>\n",
       "    <tr style=\"text-align: right;\">\n",
       "      <th></th>\n",
       "      <th>rank</th>\n",
       "      <th>dead</th>\n",
       "      <th>online</th>\n",
       "      <th>name</th>\n",
       "      <th>level</th>\n",
       "      <th>class</th>\n",
       "      <th>id</th>\n",
       "      <th>experience</th>\n",
       "      <th>account</th>\n",
       "      <th>challenges</th>\n",
       "      <th>twitch</th>\n",
       "      <th>ladder</th>\n",
       "      <th>special_class</th>\n",
       "      <th>stat_Str</th>\n",
       "      <th>stat_Int</th>\n",
       "      <th>stat_Dex</th>\n",
       "      <th>stats_num</th>\n",
       "    </tr>\n",
       "  </thead>\n",
       "  <tbody>\n",
       "    <tr>\n",
       "      <th>0</th>\n",
       "      <td>1</td>\n",
       "      <td>False</td>\n",
       "      <td>False</td>\n",
       "      <td>Tzn_NecroIsFineNow</td>\n",
       "      <td>100</td>\n",
       "      <td>Necromancer</td>\n",
       "      <td>3dcddd59f5088893f734f39686350990dae168cc4f4b00...</td>\n",
       "      <td>4250334444</td>\n",
       "      <td>TheTzn</td>\n",
       "      <td>40</td>\n",
       "      <td>thetzn</td>\n",
       "      <td>Harbinger</td>\n",
       "      <td>1</td>\n",
       "      <td>0</td>\n",
       "      <td>1</td>\n",
       "      <td>0</td>\n",
       "      <td>1</td>\n",
       "    </tr>\n",
       "    <tr>\n",
       "      <th>1</th>\n",
       "      <td>1</td>\n",
       "      <td>False</td>\n",
       "      <td>False</td>\n",
       "      <td>RaizNeverFirstQT</td>\n",
       "      <td>100</td>\n",
       "      <td>Necromancer</td>\n",
       "      <td>8f3216db5ac9106c287a834731aafc83c387138f28fc45...</td>\n",
       "      <td>4250334444</td>\n",
       "      <td>RaizQT</td>\n",
       "      <td>22</td>\n",
       "      <td>raizqt</td>\n",
       "      <td>SSF Harbinger HC</td>\n",
       "      <td>1</td>\n",
       "      <td>0</td>\n",
       "      <td>1</td>\n",
       "      <td>0</td>\n",
       "      <td>1</td>\n",
       "    </tr>\n",
       "    <tr>\n",
       "      <th>2</th>\n",
       "      <td>1</td>\n",
       "      <td>False</td>\n",
       "      <td>False</td>\n",
       "      <td>GucciStreamerAdvantage</td>\n",
       "      <td>100</td>\n",
       "      <td>Necromancer</td>\n",
       "      <td>c6ec2dae3855c551e0597c06ef2da06fbb5512487ded7f...</td>\n",
       "      <td>4250334444</td>\n",
       "      <td>GucciPradas</td>\n",
       "      <td>35</td>\n",
       "      <td>guccipradas</td>\n",
       "      <td>Hardcore Harbinger</td>\n",
       "      <td>1</td>\n",
       "      <td>0</td>\n",
       "      <td>1</td>\n",
       "      <td>0</td>\n",
       "      <td>1</td>\n",
       "    </tr>\n",
       "    <tr>\n",
       "      <th>3</th>\n",
       "      <td>1</td>\n",
       "      <td>False</td>\n",
       "      <td>False</td>\n",
       "      <td>ChiroxPrime</td>\n",
       "      <td>100</td>\n",
       "      <td>Slayer</td>\n",
       "      <td>c861372da792be0b22c45bf437ccd58437c52e9455e0bf...</td>\n",
       "      <td>4250334444</td>\n",
       "      <td>Chiroxun</td>\n",
       "      <td>26</td>\n",
       "      <td>NaN</td>\n",
       "      <td>SSF Harbinger</td>\n",
       "      <td>1</td>\n",
       "      <td>1</td>\n",
       "      <td>0</td>\n",
       "      <td>1</td>\n",
       "      <td>2</td>\n",
       "    </tr>\n",
       "    <tr>\n",
       "      <th>4</th>\n",
       "      <td>2</td>\n",
       "      <td>False</td>\n",
       "      <td>False</td>\n",
       "      <td>Cool_NecroIsFineNow</td>\n",
       "      <td>100</td>\n",
       "      <td>Deadeye</td>\n",
       "      <td>24ae924ceed7989ef3d3d6772612832bb467a6094352c7...</td>\n",
       "      <td>4250334444</td>\n",
       "      <td>cooltail</td>\n",
       "      <td>22</td>\n",
       "      <td>NaN</td>\n",
       "      <td>Harbinger</td>\n",
       "      <td>1</td>\n",
       "      <td>0</td>\n",
       "      <td>0</td>\n",
       "      <td>1</td>\n",
       "      <td>1</td>\n",
       "    </tr>\n",
       "    <tr>\n",
       "      <th>5</th>\n",
       "      <td>2</td>\n",
       "      <td>False</td>\n",
       "      <td>False</td>\n",
       "      <td>SteelStreamerAdvantage</td>\n",
       "      <td>100</td>\n",
       "      <td>Deadeye</td>\n",
       "      <td>51acb8e6fac3cfaa7ff848151dad01b0a6f350e7525543...</td>\n",
       "      <td>4250334444</td>\n",
       "      <td>Steelmage</td>\n",
       "      <td>37</td>\n",
       "      <td>steelmage202</td>\n",
       "      <td>Hardcore Harbinger</td>\n",
       "      <td>1</td>\n",
       "      <td>0</td>\n",
       "      <td>0</td>\n",
       "      <td>1</td>\n",
       "      <td>1</td>\n",
       "    </tr>\n",
       "    <tr>\n",
       "      <th>6</th>\n",
       "      <td>2</td>\n",
       "      <td>False</td>\n",
       "      <td>False</td>\n",
       "      <td>Grom_WhyGodThreeCmWhy</td>\n",
       "      <td>100</td>\n",
       "      <td>Gladiator</td>\n",
       "      <td>5d8b80b2bdd30f3dba1036a6791187562758935e8d4723...</td>\n",
       "      <td>4250334444</td>\n",
       "      <td>rocklegend</td>\n",
       "      <td>22</td>\n",
       "      <td>gromick</td>\n",
       "      <td>SSF Harbinger HC</td>\n",
       "      <td>1</td>\n",
       "      <td>1</td>\n",
       "      <td>0</td>\n",
       "      <td>1</td>\n",
       "      <td>2</td>\n",
       "    </tr>\n",
       "    <tr>\n",
       "      <th>7</th>\n",
       "      <td>2</td>\n",
       "      <td>False</td>\n",
       "      <td>False</td>\n",
       "      <td>beobio_capitan</td>\n",
       "      <td>100</td>\n",
       "      <td>Inquisitor</td>\n",
       "      <td>65c58f9b186e1fbe9f927484f3f178cdb9ee0dc2427289...</td>\n",
       "      <td>4250334444</td>\n",
       "      <td>TishaVosemsot</td>\n",
       "      <td>40</td>\n",
       "      <td>beobio</td>\n",
       "      <td>SSF Harbinger</td>\n",
       "      <td>1</td>\n",
       "      <td>1</td>\n",
       "      <td>1</td>\n",
       "      <td>0</td>\n",
       "      <td>2</td>\n",
       "    </tr>\n",
       "    <tr>\n",
       "      <th>8</th>\n",
       "      <td>3</td>\n",
       "      <td>False</td>\n",
       "      <td>False</td>\n",
       "      <td>Rami_The_Negromaniac</td>\n",
       "      <td>100</td>\n",
       "      <td>Necromancer</td>\n",
       "      <td>00c0030fc548cc4c0d804564f8fb356610044b7e6d484f...</td>\n",
       "      <td>4250334444</td>\n",
       "      <td>rami1337</td>\n",
       "      <td>40</td>\n",
       "      <td>rami1337</td>\n",
       "      <td>Harbinger</td>\n",
       "      <td>1</td>\n",
       "      <td>0</td>\n",
       "      <td>1</td>\n",
       "      <td>0</td>\n",
       "      <td>1</td>\n",
       "    </tr>\n",
       "    <tr>\n",
       "      <th>9</th>\n",
       "      <td>3</td>\n",
       "      <td>False</td>\n",
       "      <td>False</td>\n",
       "      <td>FutonBlewAway</td>\n",
       "      <td>100</td>\n",
       "      <td>Raider</td>\n",
       "      <td>46e56572ff6e403f45fac597240e13e9af225f06ca4e52...</td>\n",
       "      <td>4250334444</td>\n",
       "      <td>pleaGRC</td>\n",
       "      <td>40</td>\n",
       "      <td>NaN</td>\n",
       "      <td>SSF Harbinger</td>\n",
       "      <td>1</td>\n",
       "      <td>0</td>\n",
       "      <td>0</td>\n",
       "      <td>1</td>\n",
       "      <td>1</td>\n",
       "    </tr>\n",
       "  </tbody>\n",
       "</table>\n",
       "</div>"
      ],
      "text/plain": [
       "   rank   dead  online                    name  level        class  \\\n",
       "0     1  False   False      Tzn_NecroIsFineNow    100  Necromancer   \n",
       "1     1  False   False        RaizNeverFirstQT    100  Necromancer   \n",
       "2     1  False   False  GucciStreamerAdvantage    100  Necromancer   \n",
       "3     1  False   False             ChiroxPrime    100       Slayer   \n",
       "4     2  False   False     Cool_NecroIsFineNow    100      Deadeye   \n",
       "5     2  False   False  SteelStreamerAdvantage    100      Deadeye   \n",
       "6     2  False   False   Grom_WhyGodThreeCmWhy    100    Gladiator   \n",
       "7     2  False   False          beobio_capitan    100   Inquisitor   \n",
       "8     3  False   False    Rami_The_Negromaniac    100  Necromancer   \n",
       "9     3  False   False           FutonBlewAway    100       Raider   \n",
       "\n",
       "                                                  id  experience  \\\n",
       "0  3dcddd59f5088893f734f39686350990dae168cc4f4b00...  4250334444   \n",
       "1  8f3216db5ac9106c287a834731aafc83c387138f28fc45...  4250334444   \n",
       "2  c6ec2dae3855c551e0597c06ef2da06fbb5512487ded7f...  4250334444   \n",
       "3  c861372da792be0b22c45bf437ccd58437c52e9455e0bf...  4250334444   \n",
       "4  24ae924ceed7989ef3d3d6772612832bb467a6094352c7...  4250334444   \n",
       "5  51acb8e6fac3cfaa7ff848151dad01b0a6f350e7525543...  4250334444   \n",
       "6  5d8b80b2bdd30f3dba1036a6791187562758935e8d4723...  4250334444   \n",
       "7  65c58f9b186e1fbe9f927484f3f178cdb9ee0dc2427289...  4250334444   \n",
       "8  00c0030fc548cc4c0d804564f8fb356610044b7e6d484f...  4250334444   \n",
       "9  46e56572ff6e403f45fac597240e13e9af225f06ca4e52...  4250334444   \n",
       "\n",
       "         account  challenges        twitch              ladder  special_class  \\\n",
       "0         TheTzn          40        thetzn           Harbinger              1   \n",
       "1         RaizQT          22        raizqt    SSF Harbinger HC              1   \n",
       "2    GucciPradas          35   guccipradas  Hardcore Harbinger              1   \n",
       "3       Chiroxun          26           NaN       SSF Harbinger              1   \n",
       "4       cooltail          22           NaN           Harbinger              1   \n",
       "5      Steelmage          37  steelmage202  Hardcore Harbinger              1   \n",
       "6     rocklegend          22       gromick    SSF Harbinger HC              1   \n",
       "7  TishaVosemsot          40        beobio       SSF Harbinger              1   \n",
       "8       rami1337          40      rami1337           Harbinger              1   \n",
       "9        pleaGRC          40           NaN       SSF Harbinger              1   \n",
       "\n",
       "   stat_Str  stat_Int  stat_Dex  stats_num  \n",
       "0         0         1         0          1  \n",
       "1         0         1         0          1  \n",
       "2         0         1         0          1  \n",
       "3         1         0         1          2  \n",
       "4         0         0         1          1  \n",
       "5         0         0         1          1  \n",
       "6         1         0         1          2  \n",
       "7         1         1         0          2  \n",
       "8         0         1         0          1  \n",
       "9         0         0         1          1  "
      ]
     },
     "execution_count": 2,
     "metadata": {},
     "output_type": "execute_result"
    }
   ],
   "source": [
    "df.head(10)"
   ]
  },
  {
   "cell_type": "code",
   "execution_count": 3,
   "id": "df76862d",
   "metadata": {},
   "outputs": [
    {
     "data": {
      "text/plain": [
       "(59776, 17)"
      ]
     },
     "execution_count": 3,
     "metadata": {},
     "output_type": "execute_result"
    }
   ],
   "source": [
    "df.shape"
   ]
  },
  {
   "cell_type": "markdown",
   "id": "2e73fab7",
   "metadata": {},
   "source": [
    "# Let's unique user analyzing!\n",
    "\n",
    "주로 이용할 컬럼은 account, id, name, twitch이다.\n",
    "\n",
    "이전에 데이터셋을 탐색하며 보았듯, account는 유저의 계정 자체를 의미하며, id는 캐릭터 자체 고유아이디. name은 해당 캐릭터의 이름이며, twitch는 유저가 선택적으로 입력하는 자신의 twitch아이디이다. twitch 컬럼은 유일하게 Nan 값이 있었던 컬럼이기도 하다."
   ]
  },
  {
   "cell_type": "code",
   "execution_count": 5,
   "id": "de94e617",
   "metadata": {},
   "outputs": [
    {
     "data": {
      "text/html": [
       "<div>\n",
       "<style scoped>\n",
       "    .dataframe tbody tr th:only-of-type {\n",
       "        vertical-align: middle;\n",
       "    }\n",
       "\n",
       "    .dataframe tbody tr th {\n",
       "        vertical-align: top;\n",
       "    }\n",
       "\n",
       "    .dataframe thead th {\n",
       "        text-align: right;\n",
       "    }\n",
       "</style>\n",
       "<table border=\"1\" class=\"dataframe\">\n",
       "  <thead>\n",
       "    <tr style=\"text-align: right;\">\n",
       "      <th></th>\n",
       "      <th>account</th>\n",
       "      <th>name</th>\n",
       "      <th>id</th>\n",
       "      <th>twitch</th>\n",
       "    </tr>\n",
       "  </thead>\n",
       "  <tbody>\n",
       "    <tr>\n",
       "      <th>count</th>\n",
       "      <td>59776</td>\n",
       "      <td>59776</td>\n",
       "      <td>59776</td>\n",
       "      <td>16300</td>\n",
       "    </tr>\n",
       "    <tr>\n",
       "      <th>unique</th>\n",
       "      <td>37123</td>\n",
       "      <td>58286</td>\n",
       "      <td>59776</td>\n",
       "      <td>9613</td>\n",
       "    </tr>\n",
       "    <tr>\n",
       "      <th>top</th>\n",
       "      <td>chuz101</td>\n",
       "      <td>_Flic_</td>\n",
       "      <td>3dcddd59f5088893f734f39686350990dae168cc4f4b00...</td>\n",
       "      <td>thespunkylobster</td>\n",
       "    </tr>\n",
       "    <tr>\n",
       "      <th>freq</th>\n",
       "      <td>30</td>\n",
       "      <td>14</td>\n",
       "      <td>1</td>\n",
       "      <td>18</td>\n",
       "    </tr>\n",
       "  </tbody>\n",
       "</table>\n",
       "</div>"
      ],
      "text/plain": [
       "        account    name                                                 id  \\\n",
       "count     59776   59776                                              59776   \n",
       "unique    37123   58286                                              59776   \n",
       "top     chuz101  _Flic_  3dcddd59f5088893f734f39686350990dae168cc4f4b00...   \n",
       "freq         30      14                                                  1   \n",
       "\n",
       "                  twitch  \n",
       "count              16300  \n",
       "unique              9613  \n",
       "top     thespunkylobster  \n",
       "freq                  18  "
      ]
     },
     "execution_count": 5,
     "metadata": {},
     "output_type": "execute_result"
    }
   ],
   "source": [
    "df[['account', 'name', 'id', 'twitch']].describe()"
   ]
  },
  {
   "cell_type": "code",
   "execution_count": 4,
   "id": "a2c48493",
   "metadata": {},
   "outputs": [
    {
     "data": {
      "text/plain": [
       "rank             14981\n",
       "dead                 2\n",
       "online               2\n",
       "name             58286\n",
       "level               48\n",
       "class               26\n",
       "id               59776\n",
       "experience       54124\n",
       "account          37123\n",
       "challenges          37\n",
       "twitch            9613\n",
       "ladder               4\n",
       "special_class        2\n",
       "stat_Str             2\n",
       "stat_Int             2\n",
       "stat_Dex             2\n",
       "stats_num            3\n",
       "dtype: int64"
      ]
     },
     "execution_count": 4,
     "metadata": {},
     "output_type": "execute_result"
    }
   ],
   "source": [
    "# 전체\n",
    "\n",
    "df.nunique()"
   ]
  },
  {
   "cell_type": "code",
   "execution_count": 11,
   "id": "e15549b2",
   "metadata": {},
   "outputs": [
    {
     "name": "stdout",
     "output_type": "stream",
     "text": [
      "37123\n",
      "58286\n",
      "59776\n",
      "9613\n"
     ]
    }
   ],
   "source": [
    "# 정리\n",
    "\n",
    "print('Account: ', df['account'].nunique())\n",
    "print(df['name'].nunique())\n",
    "print(df['id'].nunique())\n",
    "print(df['twitch'].nunique())"
   ]
  },
  {
   "cell_type": "markdown",
   "id": "0550f8fd",
   "metadata": {},
   "source": [
    "# About 'id'\n",
    "---\n"
   ]
  },
  {
   "cell_type": "code",
   "execution_count": null,
   "id": "ef304124",
   "metadata": {},
   "outputs": [],
   "source": [
    "# 고유값 확인\n",
    "\n",
    "print(df.shape)\n",
    "print(df['id'].nunique())"
   ]
  },
  {
   "cell_type": "markdown",
   "id": "26c12a86",
   "metadata": {},
   "source": [
    "# About 'name'\n",
    "---\n",
    "\n",
    "id는 고유하지만 name은 겹치는 것들이 분명 있었습니다. 캐릭터 name을 정하는데에 있어서 제한이 있는 것으로는 보이지 않습니다.\n",
    "\n",
    "\n"
   ]
  },
  {
   "cell_type": "code",
   "execution_count": null,
   "id": "3c4b92df",
   "metadata": {},
   "outputs": [],
   "source": [
    "# 고유값 확인\n",
    "\n",
    "df['name'].nunique()"
   ]
  },
  {
   "cell_type": "code",
   "execution_count": null,
   "id": "120ea865",
   "metadata": {},
   "outputs": [],
   "source": [
    "df['name'].sample(5)"
   ]
  },
  {
   "cell_type": "markdown",
   "id": "28c88ff7",
   "metadata": {},
   "source": [
    "이름에서 겹치는 것들은 무엇이 있지?\n",
    "\n",
    "아이디를 지을 수 있는 규칙은?\n",
    "\n",
    "겹치면서 트위치 아이디가 같은 사람들도 있나 ? 그러면 같은 사람으로 유추할 수 있지 않을까?\n",
    "\n",
    "비슷한 아이디가 또 있지 않을까? 비슷한 아이디는 어떻게?\n",
    "\n",
    "한 사람이 다계정을 가지고 있지는 않을까?\n"
   ]
  },
  {
   "cell_type": "markdown",
   "id": "20d5dde7",
   "metadata": {},
   "source": [
    "##### 가장 확실한 실마리는  'account'이다."
   ]
  },
  {
   "cell_type": "code",
   "execution_count": null,
   "id": "28a6914a",
   "metadata": {},
   "outputs": [],
   "source": [
    "df['account'].value_counts().sort_values(ascending=False)"
   ]
  },
  {
   "cell_type": "markdown",
   "id": "03914d27",
   "metadata": {},
   "source": [
    "## same name, different id\n"
   ]
  },
  {
   "cell_type": "code",
   "execution_count": null,
   "id": "9b4eddf0",
   "metadata": {},
   "outputs": [],
   "source": [
    "df[['account','name', 'id', 'twitch']].describe()"
   ]
  },
  {
   "cell_type": "markdown",
   "id": "a1c96434",
   "metadata": {},
   "source": [
    "같은 유저가 다른 id를 만들어서 운영중이기도 할까?"
   ]
  },
  {
   "cell_type": "code",
   "execution_count": null,
   "id": "88c314d7",
   "metadata": {},
   "outputs": [],
   "source": [
    "df[['account','name', 'id', 'twitch']].groupby(by = 'name').count()"
   ]
  },
  {
   "cell_type": "code",
   "execution_count": null,
   "id": "7cc3b6e6",
   "metadata": {
    "scrolled": true
   },
   "outputs": [],
   "source": [
    "df[['name', 'id']].groupby(['name'])['id'].count().sort_values(ascending=False).head(30)"
   ]
  },
  {
   "cell_type": "code",
   "execution_count": null,
   "id": "dea2b190",
   "metadata": {
    "scrolled": true
   },
   "outputs": [],
   "source": [
    "# name = '_Flic_' are 14.\n",
    "\n",
    "df[df['name'] == '_Flic_']"
   ]
  },
  {
   "cell_type": "code",
   "execution_count": null,
   "id": "afb1971d",
   "metadata": {},
   "outputs": [],
   "source": [
    "df[df['name'] == '_Flic_'].nunique()"
   ]
  },
  {
   "cell_type": "markdown",
   "id": "b1b9580b",
   "metadata": {},
   "source": [
    "### Commentary\n",
    "\n",
    "이 Flic이라는 아이디를 쓰는 유저는 한 사람이다. twitch 아이디는 적혀있지 않지만 account가 한개이다. \n",
    "\n",
    "우연으로 겹친 아이디도 분명 있을 수도 있다. \n",
    "\n",
    "그런 유저들이 있는지, 같은 아이디이지만 다른 트위치 아이디를 가진 유저들을 찾아보자."
   ]
  },
  {
   "cell_type": "code",
   "execution_count": null,
   "id": "85c0be5a",
   "metadata": {
    "scrolled": true
   },
   "outputs": [],
   "source": [
    "df['name'].value_counts().sort_values(ascending=False)"
   ]
  },
  {
   "cell_type": "code",
   "execution_count": null,
   "id": "70018777",
   "metadata": {},
   "outputs": [],
   "source": [
    "df['twitch'].value_counts().sort_values(ascending=False)"
   ]
  },
  {
   "cell_type": "markdown",
   "id": "a75f2fc9",
   "metadata": {},
   "source": [
    "한 twitch 아이디 안에 있는 여러 이름과 아이디들을 보자.\n",
    "\n",
    "가장 많은 수를 기록했던 thespunkylobster 를 보도록 해보자."
   ]
  },
  {
   "cell_type": "code",
   "execution_count": null,
   "id": "36a8dab3",
   "metadata": {
    "scrolled": true
   },
   "outputs": [],
   "source": [
    "# twitch = thespunkylobster\n",
    "\n",
    "df[df['twitch'] == 'thespunkylobster']"
   ]
  },
  {
   "cell_type": "code",
   "execution_count": null,
   "id": "f29faa96",
   "metadata": {},
   "outputs": [],
   "source": [
    "df[df['twitch'] == 'thespunkylobster'].nunique()"
   ]
  },
  {
   "cell_type": "code",
   "execution_count": null,
   "id": "c153b97a",
   "metadata": {},
   "outputs": [],
   "source": [
    "df[df['twitch'] == 'thespunkylobster'].nunique()"
   ]
  },
  {
   "cell_type": "markdown",
   "id": "a9c2f5ca",
   "metadata": {},
   "source": [
    "### Commentary\n",
    "\n",
    "name 을 보면 약간의 규칙이 있다. Skooma, Skomma, Lobster(s), Khajiit 등의 표현을 넣고 있으며, 그런 표현은 한 번만 등장하지 않는다. \n",
    "\n",
    "이를 보아서는 한 고수 유저가 최대 18개의 아이디를 관리하며 랭킹에 이름을 올렸을 가능성이 있다. 신기한 것은 이 유저는 SSF Harbinger HC 즉 혼자 하는 Hardcore 모드에만 등장한다는 점이다."
   ]
  },
  {
   "cell_type": "code",
   "execution_count": null,
   "id": "15cab25d",
   "metadata": {},
   "outputs": [],
   "source": []
  }
 ],
 "metadata": {
  "kernelspec": {
   "display_name": "Python 3 (ipykernel)",
   "language": "python",
   "name": "python3"
  },
  "language_info": {
   "codemirror_mode": {
    "name": "ipython",
    "version": 3
   },
   "file_extension": ".py",
   "mimetype": "text/x-python",
   "name": "python",
   "nbconvert_exporter": "python",
   "pygments_lexer": "ipython3",
   "version": "3.8.5"
  },
  "toc": {
   "base_numbering": 1,
   "nav_menu": {},
   "number_sections": true,
   "sideBar": true,
   "skip_h1_title": false,
   "title_cell": "Table of Contents",
   "title_sidebar": "Contents",
   "toc_cell": false,
   "toc_position": {},
   "toc_section_display": true,
   "toc_window_display": false
  }
 },
 "nbformat": 4,
 "nbformat_minor": 5
}

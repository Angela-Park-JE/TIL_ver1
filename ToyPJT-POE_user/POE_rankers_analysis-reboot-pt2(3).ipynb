{
 "cells": [
  {
   "cell_type": "markdown",
   "id": "f618f4ba",
   "metadata": {},
   "source": [
    "# POE user analyzing project\n",
    "###### **Data reference and questions are here: https://www.kaggle.com/datasets/gagazet/path-of-exile-league-statistic**\n",
    "\n",
    "---\n",
    "Hi, I'm Angela. 😊 I'm a novice in data analysis.  I'm a novice in data analysis. I'm interested in the video games, mobility, culture, and content industry. I hope to become a data scientist with anomaly detection and anti-cheating. I hope that my analysis will have a positive impact on the world at least a little bit.  \n",
    "\n",
    "This is my first Kaggle-data analyzing project on my own. I played(?) with this data for almost a month or more freely, and I finish it to start to answer these questions partially. Finally, I can close the analysis joyfully.\n",
    "I analyzed this data set with my thoughts and what I learned (as if I were a game analyst 😆).  \n",
    "_ps. English may seem a little awkward because it is not my first language. I'm sorry. And I used the word 'average' more than the word 'mean' because I wanted to communicate more clearly in my hectic writing. 'mean' is so mean to 'average', 'mean' means 'mean' and... just joking._ 🤪\n",
    "\n",
    "---\n",
    "##### **Questions for participants**\n",
    "\n",
    "1. A total number of players in each division, usage of each class in descending order.\n",
    "2. Some of the players streaming their game (twitch column). Do they play better than people, who does not?\n",
    "3. Predict chance to be at top 30 in each division, if we are Necromancer. With and without stream.\n",
    "4. Average number of finished challanges for each division, show division with highest and lowest average challanges.\n",
    "5. Show dependency between level and class of died characters. Only for HC divisions.\n"
   ]
  },
  {
   "cell_type": "markdown",
   "id": "3d9e85c0",
   "metadata": {},
   "source": [
    "## Importing Data and Libraries\n",
    "---"
   ]
  },
  {
   "cell_type": "code",
   "execution_count": 1,
   "id": "df97704a",
   "metadata": {
    "ExecuteTime": {
     "end_time": "2024-03-18T10:28:56.169003Z",
     "start_time": "2024-03-18T10:28:51.962770Z"
    }
   },
   "outputs": [
    {
     "name": "stdout",
     "output_type": "stream",
     "text": [
      "0.11.2\n",
      "1.5.3\n",
      "1.22.4\n"
     ]
    }
   ],
   "source": [
    "import pandas as pd\n",
    "import numpy as np\n",
    "\n",
    "import time as time\n",
    "import matplotlib.pyplot as plt\n",
    "import seaborn as sns\n",
    "\n",
    "# import sklearn as sk\n",
    "# import tensorflow as tf\n",
    "# import keras\n",
    "\n",
    "np.random.seed(0)\n",
    "# tf.random.set_seed(0)\n",
    "\n",
    "# version check\n",
    "print(sns.__version__)\n",
    "print(pd.__version__)\n",
    "print(np.__version__)\n",
    "# print(sk.__version__)\n",
    "# print(tf.__version__)\n",
    "# print(keras.__version__)\n",
    "\n",
    "data = pd.read_csv(\"poe_stats.csv\")"
   ]
  },
  {
   "cell_type": "code",
   "execution_count": 2,
   "id": "fec8b198",
   "metadata": {
    "ExecuteTime": {
     "end_time": "2024-03-18T10:28:56.260359Z",
     "start_time": "2024-03-18T10:28:56.177597Z"
    }
   },
   "outputs": [
    {
     "data": {
      "text/html": [
       "<div>\n",
       "<style scoped>\n",
       "    .dataframe tbody tr th:only-of-type {\n",
       "        vertical-align: middle;\n",
       "    }\n",
       "\n",
       "    .dataframe tbody tr th {\n",
       "        vertical-align: top;\n",
       "    }\n",
       "\n",
       "    .dataframe thead th {\n",
       "        text-align: right;\n",
       "    }\n",
       "</style>\n",
       "<table border=\"1\" class=\"dataframe\">\n",
       "  <thead>\n",
       "    <tr style=\"text-align: right;\">\n",
       "      <th></th>\n",
       "      <th>rank</th>\n",
       "      <th>dead</th>\n",
       "      <th>online</th>\n",
       "      <th>name</th>\n",
       "      <th>level</th>\n",
       "      <th>class</th>\n",
       "      <th>id</th>\n",
       "      <th>experience</th>\n",
       "      <th>account</th>\n",
       "      <th>challenges</th>\n",
       "      <th>twitch</th>\n",
       "      <th>ladder</th>\n",
       "    </tr>\n",
       "  </thead>\n",
       "  <tbody>\n",
       "    <tr>\n",
       "      <th>0</th>\n",
       "      <td>1</td>\n",
       "      <td>False</td>\n",
       "      <td>False</td>\n",
       "      <td>Tzn_NecroIsFineNow</td>\n",
       "      <td>100</td>\n",
       "      <td>Necromancer</td>\n",
       "      <td>3dcddd59f5088893f734f39686350990dae168cc4f4b00...</td>\n",
       "      <td>4250334444</td>\n",
       "      <td>TheTzn</td>\n",
       "      <td>40</td>\n",
       "      <td>thetzn</td>\n",
       "      <td>Harbinger</td>\n",
       "    </tr>\n",
       "    <tr>\n",
       "      <th>1</th>\n",
       "      <td>1</td>\n",
       "      <td>False</td>\n",
       "      <td>False</td>\n",
       "      <td>RaizNeverFirstQT</td>\n",
       "      <td>100</td>\n",
       "      <td>Necromancer</td>\n",
       "      <td>8f3216db5ac9106c287a834731aafc83c387138f28fc45...</td>\n",
       "      <td>4250334444</td>\n",
       "      <td>RaizQT</td>\n",
       "      <td>22</td>\n",
       "      <td>raizqt</td>\n",
       "      <td>SSF Harbinger HC</td>\n",
       "    </tr>\n",
       "    <tr>\n",
       "      <th>2</th>\n",
       "      <td>1</td>\n",
       "      <td>False</td>\n",
       "      <td>False</td>\n",
       "      <td>GucciStreamerAdvantage</td>\n",
       "      <td>100</td>\n",
       "      <td>Necromancer</td>\n",
       "      <td>c6ec2dae3855c551e0597c06ef2da06fbb5512487ded7f...</td>\n",
       "      <td>4250334444</td>\n",
       "      <td>GucciPradas</td>\n",
       "      <td>35</td>\n",
       "      <td>guccipradas</td>\n",
       "      <td>Hardcore Harbinger</td>\n",
       "    </tr>\n",
       "    <tr>\n",
       "      <th>3</th>\n",
       "      <td>1</td>\n",
       "      <td>False</td>\n",
       "      <td>False</td>\n",
       "      <td>ChiroxPrime</td>\n",
       "      <td>100</td>\n",
       "      <td>Slayer</td>\n",
       "      <td>c861372da792be0b22c45bf437ccd58437c52e9455e0bf...</td>\n",
       "      <td>4250334444</td>\n",
       "      <td>Chiroxun</td>\n",
       "      <td>26</td>\n",
       "      <td>NaN</td>\n",
       "      <td>SSF Harbinger</td>\n",
       "    </tr>\n",
       "    <tr>\n",
       "      <th>4</th>\n",
       "      <td>2</td>\n",
       "      <td>False</td>\n",
       "      <td>False</td>\n",
       "      <td>Cool_NecroIsFineNow</td>\n",
       "      <td>100</td>\n",
       "      <td>Deadeye</td>\n",
       "      <td>24ae924ceed7989ef3d3d6772612832bb467a6094352c7...</td>\n",
       "      <td>4250334444</td>\n",
       "      <td>cooltail</td>\n",
       "      <td>22</td>\n",
       "      <td>NaN</td>\n",
       "      <td>Harbinger</td>\n",
       "    </tr>\n",
       "    <tr>\n",
       "      <th>5</th>\n",
       "      <td>2</td>\n",
       "      <td>False</td>\n",
       "      <td>False</td>\n",
       "      <td>SteelStreamerAdvantage</td>\n",
       "      <td>100</td>\n",
       "      <td>Deadeye</td>\n",
       "      <td>51acb8e6fac3cfaa7ff848151dad01b0a6f350e7525543...</td>\n",
       "      <td>4250334444</td>\n",
       "      <td>Steelmage</td>\n",
       "      <td>37</td>\n",
       "      <td>steelmage202</td>\n",
       "      <td>Hardcore Harbinger</td>\n",
       "    </tr>\n",
       "    <tr>\n",
       "      <th>6</th>\n",
       "      <td>2</td>\n",
       "      <td>False</td>\n",
       "      <td>False</td>\n",
       "      <td>Grom_WhyGodThreeCmWhy</td>\n",
       "      <td>100</td>\n",
       "      <td>Gladiator</td>\n",
       "      <td>5d8b80b2bdd30f3dba1036a6791187562758935e8d4723...</td>\n",
       "      <td>4250334444</td>\n",
       "      <td>rocklegend</td>\n",
       "      <td>22</td>\n",
       "      <td>gromick</td>\n",
       "      <td>SSF Harbinger HC</td>\n",
       "    </tr>\n",
       "    <tr>\n",
       "      <th>7</th>\n",
       "      <td>2</td>\n",
       "      <td>False</td>\n",
       "      <td>False</td>\n",
       "      <td>beobio_capitan</td>\n",
       "      <td>100</td>\n",
       "      <td>Inquisitor</td>\n",
       "      <td>65c58f9b186e1fbe9f927484f3f178cdb9ee0dc2427289...</td>\n",
       "      <td>4250334444</td>\n",
       "      <td>TishaVosemsot</td>\n",
       "      <td>40</td>\n",
       "      <td>beobio</td>\n",
       "      <td>SSF Harbinger</td>\n",
       "    </tr>\n",
       "    <tr>\n",
       "      <th>8</th>\n",
       "      <td>3</td>\n",
       "      <td>False</td>\n",
       "      <td>False</td>\n",
       "      <td>Rami_The_Negromaniac</td>\n",
       "      <td>100</td>\n",
       "      <td>Necromancer</td>\n",
       "      <td>00c0030fc548cc4c0d804564f8fb356610044b7e6d484f...</td>\n",
       "      <td>4250334444</td>\n",
       "      <td>rami1337</td>\n",
       "      <td>40</td>\n",
       "      <td>rami1337</td>\n",
       "      <td>Harbinger</td>\n",
       "    </tr>\n",
       "    <tr>\n",
       "      <th>9</th>\n",
       "      <td>3</td>\n",
       "      <td>False</td>\n",
       "      <td>False</td>\n",
       "      <td>FutonBlewAway</td>\n",
       "      <td>100</td>\n",
       "      <td>Raider</td>\n",
       "      <td>46e56572ff6e403f45fac597240e13e9af225f06ca4e52...</td>\n",
       "      <td>4250334444</td>\n",
       "      <td>pleaGRC</td>\n",
       "      <td>40</td>\n",
       "      <td>NaN</td>\n",
       "      <td>SSF Harbinger</td>\n",
       "    </tr>\n",
       "  </tbody>\n",
       "</table>\n",
       "</div>"
      ],
      "text/plain": [
       "   rank   dead  online                    name  level        class  \\\n",
       "0     1  False   False      Tzn_NecroIsFineNow    100  Necromancer   \n",
       "1     1  False   False        RaizNeverFirstQT    100  Necromancer   \n",
       "2     1  False   False  GucciStreamerAdvantage    100  Necromancer   \n",
       "3     1  False   False             ChiroxPrime    100       Slayer   \n",
       "4     2  False   False     Cool_NecroIsFineNow    100      Deadeye   \n",
       "5     2  False   False  SteelStreamerAdvantage    100      Deadeye   \n",
       "6     2  False   False   Grom_WhyGodThreeCmWhy    100    Gladiator   \n",
       "7     2  False   False          beobio_capitan    100   Inquisitor   \n",
       "8     3  False   False    Rami_The_Negromaniac    100  Necromancer   \n",
       "9     3  False   False           FutonBlewAway    100       Raider   \n",
       "\n",
       "                                                  id  experience  \\\n",
       "0  3dcddd59f5088893f734f39686350990dae168cc4f4b00...  4250334444   \n",
       "1  8f3216db5ac9106c287a834731aafc83c387138f28fc45...  4250334444   \n",
       "2  c6ec2dae3855c551e0597c06ef2da06fbb5512487ded7f...  4250334444   \n",
       "3  c861372da792be0b22c45bf437ccd58437c52e9455e0bf...  4250334444   \n",
       "4  24ae924ceed7989ef3d3d6772612832bb467a6094352c7...  4250334444   \n",
       "5  51acb8e6fac3cfaa7ff848151dad01b0a6f350e7525543...  4250334444   \n",
       "6  5d8b80b2bdd30f3dba1036a6791187562758935e8d4723...  4250334444   \n",
       "7  65c58f9b186e1fbe9f927484f3f178cdb9ee0dc2427289...  4250334444   \n",
       "8  00c0030fc548cc4c0d804564f8fb356610044b7e6d484f...  4250334444   \n",
       "9  46e56572ff6e403f45fac597240e13e9af225f06ca4e52...  4250334444   \n",
       "\n",
       "         account  challenges        twitch              ladder  \n",
       "0         TheTzn          40        thetzn           Harbinger  \n",
       "1         RaizQT          22        raizqt    SSF Harbinger HC  \n",
       "2    GucciPradas          35   guccipradas  Hardcore Harbinger  \n",
       "3       Chiroxun          26           NaN       SSF Harbinger  \n",
       "4       cooltail          22           NaN           Harbinger  \n",
       "5      Steelmage          37  steelmage202  Hardcore Harbinger  \n",
       "6     rocklegend          22       gromick    SSF Harbinger HC  \n",
       "7  TishaVosemsot          40        beobio       SSF Harbinger  \n",
       "8       rami1337          40      rami1337           Harbinger  \n",
       "9        pleaGRC          40           NaN       SSF Harbinger  "
      ]
     },
     "execution_count": 2,
     "metadata": {},
     "output_type": "execute_result"
    }
   ],
   "source": [
    "df = data\n",
    "df.head(10)"
   ]
  },
  {
   "cell_type": "markdown",
   "id": "a7434e74",
   "metadata": {},
   "source": [
    "## Data summary"
   ]
  },
  {
   "cell_type": "code",
   "execution_count": 3,
   "id": "dc4a2c6c",
   "metadata": {
    "ExecuteTime": {
     "end_time": "2024-03-18T10:28:56.373489Z",
     "start_time": "2024-03-18T10:28:56.266985Z"
    }
   },
   "outputs": [
    {
     "data": {
      "text/html": [
       "<div>\n",
       "<style scoped>\n",
       "    .dataframe tbody tr th:only-of-type {\n",
       "        vertical-align: middle;\n",
       "    }\n",
       "\n",
       "    .dataframe tbody tr th {\n",
       "        vertical-align: top;\n",
       "    }\n",
       "\n",
       "    .dataframe thead th {\n",
       "        text-align: right;\n",
       "    }\n",
       "</style>\n",
       "<table border=\"1\" class=\"dataframe\">\n",
       "  <thead>\n",
       "    <tr style=\"text-align: right;\">\n",
       "      <th></th>\n",
       "      <th>rank</th>\n",
       "      <th>level</th>\n",
       "      <th>experience</th>\n",
       "      <th>challenges</th>\n",
       "    </tr>\n",
       "  </thead>\n",
       "  <tbody>\n",
       "    <tr>\n",
       "      <th>count</th>\n",
       "      <td>59,776.00</td>\n",
       "      <td>59,776.00</td>\n",
       "      <td>59,776.00</td>\n",
       "      <td>59,776.00</td>\n",
       "    </tr>\n",
       "    <tr>\n",
       "      <th>mean</th>\n",
       "      <td>7,495.37</td>\n",
       "      <td>85.42</td>\n",
       "      <td>1,825,786,027.36</td>\n",
       "      <td>25.76</td>\n",
       "    </tr>\n",
       "    <tr>\n",
       "      <th>std</th>\n",
       "      <td>4,330.18</td>\n",
       "      <td>11.29</td>\n",
       "      <td>1,094,747,934.61</td>\n",
       "      <td>8.44</td>\n",
       "    </tr>\n",
       "    <tr>\n",
       "      <th>min</th>\n",
       "      <td>1.00</td>\n",
       "      <td>53.00</td>\n",
       "      <td>77,909,816.00</td>\n",
       "      <td>4.00</td>\n",
       "    </tr>\n",
       "    <tr>\n",
       "      <th>25%</th>\n",
       "      <td>3,745.00</td>\n",
       "      <td>78.00</td>\n",
       "      <td>777,469,746.25</td>\n",
       "      <td>19.00</td>\n",
       "    </tr>\n",
       "    <tr>\n",
       "      <th>50%</th>\n",
       "      <td>7,492.00</td>\n",
       "      <td>90.00</td>\n",
       "      <td>1,934,009,687.00</td>\n",
       "      <td>25.00</td>\n",
       "    </tr>\n",
       "    <tr>\n",
       "      <th>75%</th>\n",
       "      <td>11,247.00</td>\n",
       "      <td>95.00</td>\n",
       "      <td>2,876,116,901.00</td>\n",
       "      <td>33.00</td>\n",
       "    </tr>\n",
       "    <tr>\n",
       "      <th>max</th>\n",
       "      <td>15,000.00</td>\n",
       "      <td>100.00</td>\n",
       "      <td>4,250,334,444.00</td>\n",
       "      <td>40.00</td>\n",
       "    </tr>\n",
       "  </tbody>\n",
       "</table>\n",
       "</div>"
      ],
      "text/plain": [
       "           rank     level       experience  challenges\n",
       "count 59,776.00 59,776.00        59,776.00   59,776.00\n",
       "mean   7,495.37     85.42 1,825,786,027.36       25.76\n",
       "std    4,330.18     11.29 1,094,747,934.61        8.44\n",
       "min        1.00     53.00    77,909,816.00        4.00\n",
       "25%    3,745.00     78.00   777,469,746.25       19.00\n",
       "50%    7,492.00     90.00 1,934,009,687.00       25.00\n",
       "75%   11,247.00     95.00 2,876,116,901.00       33.00\n",
       "max   15,000.00    100.00 4,250,334,444.00       40.00"
      ]
     },
     "execution_count": 3,
     "metadata": {},
     "output_type": "execute_result"
    }
   ],
   "source": [
    "# options about float\n",
    "\n",
    "pd.options.display.float_format = '{:,.2f}'.format\n",
    "df.describe()"
   ]
  },
  {
   "cell_type": "code",
   "execution_count": 4,
   "id": "7cd4a73b",
   "metadata": {
    "ExecuteTime": {
     "end_time": "2024-03-18T10:28:56.809876Z",
     "start_time": "2024-03-18T10:28:56.381261Z"
    }
   },
   "outputs": [
    {
     "data": {
      "text/html": [
       "<div>\n",
       "<style scoped>\n",
       "    .dataframe tbody tr th:only-of-type {\n",
       "        vertical-align: middle;\n",
       "    }\n",
       "\n",
       "    .dataframe tbody tr th {\n",
       "        vertical-align: top;\n",
       "    }\n",
       "\n",
       "    .dataframe thead th {\n",
       "        text-align: right;\n",
       "    }\n",
       "</style>\n",
       "<table border=\"1\" class=\"dataframe\">\n",
       "  <thead>\n",
       "    <tr style=\"text-align: right;\">\n",
       "      <th></th>\n",
       "      <th>name</th>\n",
       "      <th>class</th>\n",
       "      <th>id</th>\n",
       "      <th>account</th>\n",
       "      <th>twitch</th>\n",
       "      <th>ladder</th>\n",
       "    </tr>\n",
       "  </thead>\n",
       "  <tbody>\n",
       "    <tr>\n",
       "      <th>count</th>\n",
       "      <td>59776</td>\n",
       "      <td>59776</td>\n",
       "      <td>59776</td>\n",
       "      <td>59776</td>\n",
       "      <td>16300</td>\n",
       "      <td>59776</td>\n",
       "    </tr>\n",
       "    <tr>\n",
       "      <th>unique</th>\n",
       "      <td>58286</td>\n",
       "      <td>26</td>\n",
       "      <td>59776</td>\n",
       "      <td>37123</td>\n",
       "      <td>9613</td>\n",
       "      <td>4</td>\n",
       "    </tr>\n",
       "    <tr>\n",
       "      <th>top</th>\n",
       "      <td>_Flic_</td>\n",
       "      <td>Berserker</td>\n",
       "      <td>3dcddd59f5088893f734f39686350990dae168cc4f4b00...</td>\n",
       "      <td>chuz101</td>\n",
       "      <td>thespunkylobster</td>\n",
       "      <td>SSF Harbinger</td>\n",
       "    </tr>\n",
       "    <tr>\n",
       "      <th>freq</th>\n",
       "      <td>14</td>\n",
       "      <td>8711</td>\n",
       "      <td>1</td>\n",
       "      <td>30</td>\n",
       "      <td>18</td>\n",
       "      <td>14981</td>\n",
       "    </tr>\n",
       "  </tbody>\n",
       "</table>\n",
       "</div>"
      ],
      "text/plain": [
       "          name      class                                                 id  \\\n",
       "count    59776      59776                                              59776   \n",
       "unique   58286         26                                              59776   \n",
       "top     _Flic_  Berserker  3dcddd59f5088893f734f39686350990dae168cc4f4b00...   \n",
       "freq        14       8711                                                  1   \n",
       "\n",
       "        account            twitch         ladder  \n",
       "count     59776             16300          59776  \n",
       "unique    37123              9613              4  \n",
       "top     chuz101  thespunkylobster  SSF Harbinger  \n",
       "freq         30                18          14981  "
      ]
     },
     "execution_count": 4,
     "metadata": {},
     "output_type": "execute_result"
    }
   ],
   "source": [
    "df.describe(include = 'object')"
   ]
  },
  {
   "cell_type": "code",
   "execution_count": 5,
   "id": "e6ffafc5",
   "metadata": {
    "ExecuteTime": {
     "end_time": "2024-03-18T10:28:57.035548Z",
     "start_time": "2024-03-18T10:28:56.907339Z"
    }
   },
   "outputs": [
    {
     "name": "stdout",
     "output_type": "stream",
     "text": [
      "<class 'pandas.core.frame.DataFrame'>\n",
      "RangeIndex: 59776 entries, 0 to 59775\n",
      "Data columns (total 12 columns):\n",
      " #   Column      Non-Null Count  Dtype \n",
      "---  ------      --------------  ----- \n",
      " 0   rank        59776 non-null  int64 \n",
      " 1   dead        59776 non-null  bool  \n",
      " 2   online      59776 non-null  bool  \n",
      " 3   name        59776 non-null  object\n",
      " 4   level       59776 non-null  int64 \n",
      " 5   class       59776 non-null  object\n",
      " 6   id          59776 non-null  object\n",
      " 7   experience  59776 non-null  int64 \n",
      " 8   account     59776 non-null  object\n",
      " 9   challenges  59776 non-null  int64 \n",
      " 10  twitch      16300 non-null  object\n",
      " 11  ladder      59776 non-null  object\n",
      "dtypes: bool(2), int64(4), object(6)\n",
      "memory usage: 4.7+ MB\n"
     ]
    }
   ],
   "source": [
    "df.info()"
   ]
  },
  {
   "cell_type": "markdown",
   "id": "059bd914",
   "metadata": {},
   "source": [
    "# 3. A case when we were Necromancer\n",
    "---\n",
    "##### Q3. Predict the chance to be in the top 30 in each division, if we are Necromancer. With and without stream.\n",
    "\n",
    "I don't know exactly what 'stream' means, but I think it would be twitch streaming. So, I define it as all Necromancer characters and Necromancer characters with twitch streaming.\n",
    "In this case, I could think of the question like these... 🤔\n",
    "\n",
    "> 1. simply get a percentage of Necromancer in the top 30 by ladder (And multiply the probability of getting in the top 30 ranks)  \n",
    "2. get a percentage of Necromancer IDs in the top 30 among all Necromancers (And divide it by the sum of the percentage of each class)\n",
    "3. Bayesian probability: ($Hypothesis = Necromancer, d(evidence) = Top 30$ )\n",
    "4. make a model with 'rank', 'class', 'ladder', 'twitch' columns, and predict.\n",
    "> \n",
    "\n",
    "---\n",
    "\n",
    "What do you think? Did you notice? Yes, right. Actually, **method 2 is the same as method 3.**  \n",
    "This's what you can think. It's the difference between 'choosing a class' or 'viewing the top 30 as a conditional probability after the class is selected'. I think there will be quite a difference in probability, but depending on the person looking at this problem, it will also change what you think is right.\n",
    "\n",
    "Method 1 is 3-1-1, method 2 and 3 are 3-1-2. Follow me."
   ]
  },
  {
   "cell_type": "markdown",
   "id": "bab44ce6",
   "metadata": {},
   "source": [
    "#####  Before the analysis(and getting numbers), I should clarify this thing, the meaning of each analysis. This is very important I think.\n",
    "\n",
    "I thought about these methods partially. Things like what we can do with data, how, and the meaning of it, and the flaws.\n",
    "I used the word 'hypothesis' sometimes, which means when we use specific methods(values) for solving the problem correctly.\n",
    "And the critical problem(supposition) is here, we are extremely good at playing POE (especially Necromancer class🤣).\n",
    "\n",
    "> ##### 3-1-1: **”(number of Necromancers in the top 30 $\\div$ number of All classes in the top 30) $\\times$ (probability when we are in the top 30 among 15000 ranks)”**  \n",
    "= **”(number of Necromancers in the top 30** $\\div$ **number of all characters)”**  \n",
    "<br>\n",
    "In 3-1-1, I got the ratio between classes in the top 30.\n",
    "This is simply the top 30 class percentage. We can answer what classes are in the top 30. It's very extreme.  \n",
    "<br>And then, I thought about whether I should multiply the probability of being in the top 30. If you're good enough and you're in the top 15,000, assuming that the ranking is somewhat determined by luck, you might be able to solve it with 30/15000. It's like, we have enough skills to make it to the top 30, so we assume that out of 15,000 characters, the top 30 ranks is decided by luck. (Of course, I think some people think that this number can be multiplied or not multiplied enough to show the probability.)  \n",
    "<br>That's why the biggest problem with this method is that it presupposes that **the population of POE consists of only 15,000 players**. However, it's not just 15,000 people competing; it's about gathering data from individuals ranked on  the top 15,000, implying a much larger pool of competitors. Ultimately, we must assume that  a considerable level of skill among the players.  \n",
    "<br>There is another problem with this method: this method allows us to know the best Necromancer percentages except for comparison problems. We're also Necromancer, but Necromancer outside the top 30 is ignored. Numbers outside the top 30 are ignored no matter how many necromancers are out there or other hot classes (Pathfinder, Gladiator, Slayer).\n",
    ">\n",
    "\n",
    "> ##### 3-1-2: “(number of Necromancers in the top 30 $\\div$ number of All Necromancers)”  = Bayesian Probability  \n",
    "In 3-1-4, I will try to apply the concept of Bayesian probability. First, we need to recognize that there is a slight difference in nuance. The assumption that we are a Necromancer is not our choice but rather a dimension of interpreting indicators of results that can be obtained from data. This considers numerical differences from other classes. \n",
    "<br>Each class has a different number of characters so we can't simply compare like 3-1-1. In this method, it will be considered the 'class selection' problem rather than ‘being in the top 30’.\n",
    "<br>When we use this one, we need a precondition again; we're so good that we can compete with the top 30 characters, and none of them(all characters) which are not in the top 30 are a match for us. (It means, we can answer how many characters are playing best among all Necromancers.)\n",
    "<br>The formulas to calculate $P(Top30)$ and $P(out of 30)$ are $30/150000$ and $14970/15000$ (of course $\\times 4$ is omitted), respectively. (It was sad yet interesting to attempt such calculations despite the fact that the probability of being in the Top 30 as Necromancer depends on our ability.)  \n",
    "    $$\n",
    "    P(H|E) = \\frac {P(E|H)P(H)} {P(E)}\n",
    "    $$\n",
    "Using this, $H$ represents the hypothesis that Top30 occurred, and $E$ represents the information that we are Necromancer. $P(H)$ is the prior probability, which is the confidence in the probability of being in the top 30, and $P(H|E)$ is the posterior probability, which is the confidence in the probability of being in the top 30 when we are Necromancer. (Although Bayesian probability, unlike empirical probability, refers to 'confidence in a claim, I can refer to it like a traditional probability, so please keep that in mind...)   \n",
    "    - The formula is as follows:  \n",
    "    $$\n",
    "    P(Top30|Nec) = \\frac {P(Nec | Top30)\\times P(Top30)} {P(Nec)}\n",
    "    $$  \n",
    "    - To recapitulate this using this, $P(A|B) = \\frac {P(A\\bigcap B)} {P(B)}$,  \n",
    "    $$\n",
    "    P(Top30|Nec) = \\frac {P(Nec | Top30)\\times P(Top30)} {P(Nec|Top30)\\times P(Top30) + \n",
    "    P(Nec|out\\space of\\space 30)\\times P(out\\space of\\space 30) }\n",
    "    $$  \n",
    "    - Then we got a probability of some other classes, and we saw if the odds were high or not.  \n"
   ]
  },
  {
   "cell_type": "markdown",
   "id": "36b7ec1f",
   "metadata": {},
   "source": [
    "##### Before the steps\n",
    "- check the 'rank' column whether it includes null or not in 30.  \n",
    "- make a 'stream' dummy column for analysis depending on whether or not.  \n",
    "- set some conditions for code writing comfort.  "
   ]
  },
  {
   "cell_type": "code",
   "execution_count": 6,
   "id": "751669c4",
   "metadata": {
    "ExecuteTime": {
     "end_time": "2024-03-18T10:28:57.058176Z",
     "start_time": "2024-03-18T10:28:57.041134Z"
    }
   },
   "outputs": [
    {
     "data": {
      "text/plain": [
       "ladder\n",
       "Harbinger             30\n",
       "Hardcore Harbinger    30\n",
       "SSF Harbinger         30\n",
       "SSF Harbinger HC      30\n",
       "Name: rank, dtype: int64"
      ]
     },
     "execution_count": 6,
     "metadata": {},
     "output_type": "execute_result"
    }
   ],
   "source": [
    "# check the rank number in each ladder whether there is a null or not. \n",
    "df[df['rank']<=30].groupby('ladder')['rank'].nunique()"
   ]
  },
  {
   "cell_type": "code",
   "execution_count": 7,
   "id": "6ba8dde5",
   "metadata": {
    "ExecuteTime": {
     "end_time": "2024-03-18T10:28:57.084910Z",
     "start_time": "2024-03-18T10:28:57.066193Z"
    }
   },
   "outputs": [],
   "source": [
    "# make a twitch column dummy with streaming.\n",
    "df['stream'] = np.where(df['twitch'].isna(), 0, 1)"
   ]
  },
  {
   "cell_type": "code",
   "execution_count": 8,
   "id": "d6c25cce",
   "metadata": {
    "ExecuteTime": {
     "end_time": "2024-03-18T10:28:57.104596Z",
     "start_time": "2024-03-18T10:28:57.088723Z"
    },
    "scrolled": true
   },
   "outputs": [],
   "source": [
    "# condition list\n",
    "cond_Nec = (df['class']=='Necromancer')\n",
    "cond_30 = (df['rank']<=30)\n",
    "cond_tw = (df['stream']==1)"
   ]
  },
  {
   "cell_type": "markdown",
   "id": "c78cc3b2",
   "metadata": {},
   "source": [
    "## 3-1. not caring of stream \n",
    "---\n",
    "\n",
    "\n",
    "### 3-1-1. The Necromancer ratio of Among the top 30 * probability when we are in the top 30\n",
    "\n",
    "**”(number of Necromancers in the top 30 $\\div$ number of All classes in the top 30) $\\times$ (probability when we are in the top 30 among 15000 ranks)”** \n",
    "\n",
    "This means' the rate of the top 30 Necromancer among 'all characters'.', so it be summarized like this:   \n",
    "\n",
    "**= ”(number of Necromancers in the top 30 $\\div$ number of all characters)”**\n",
    "\n",
    "\n",
    "Let's see what classes in top 30 and thier rate.\n",
    "\n",
    "And get the percentage between classes in the top 30 characters."
   ]
  },
  {
   "cell_type": "markdown",
   "id": "fcb26ce0",
   "metadata": {},
   "source": [
    "#### (1) each class ratios in top 30, by ladder"
   ]
  },
  {
   "cell_type": "code",
   "execution_count": 9,
   "id": "76fbe4bb",
   "metadata": {
    "ExecuteTime": {
     "end_time": "2024-03-18T10:28:57.185979Z",
     "start_time": "2024-03-18T10:28:57.108710Z"
    },
    "scrolled": true
   },
   "outputs": [
    {
     "data": {
      "text/html": [
       "<div>\n",
       "<style scoped>\n",
       "    .dataframe tbody tr th:only-of-type {\n",
       "        vertical-align: middle;\n",
       "    }\n",
       "\n",
       "    .dataframe tbody tr th {\n",
       "        vertical-align: top;\n",
       "    }\n",
       "\n",
       "    .dataframe thead th {\n",
       "        text-align: right;\n",
       "    }\n",
       "</style>\n",
       "<table border=\"1\" class=\"dataframe\">\n",
       "  <thead>\n",
       "    <tr style=\"text-align: right;\">\n",
       "      <th>ladder</th>\n",
       "      <th>Harbinger</th>\n",
       "      <th>Hardcore Harbinger</th>\n",
       "      <th>SSF Harbinger</th>\n",
       "      <th>SSF Harbinger HC</th>\n",
       "    </tr>\n",
       "    <tr>\n",
       "      <th>class</th>\n",
       "      <th></th>\n",
       "      <th></th>\n",
       "      <th></th>\n",
       "      <th></th>\n",
       "    </tr>\n",
       "  </thead>\n",
       "  <tbody>\n",
       "    <tr>\n",
       "      <th>Ascendant</th>\n",
       "      <td>0</td>\n",
       "      <td>2</td>\n",
       "      <td>2</td>\n",
       "      <td>0</td>\n",
       "    </tr>\n",
       "    <tr>\n",
       "      <th>Berserker</th>\n",
       "      <td>2</td>\n",
       "      <td>1</td>\n",
       "      <td>3</td>\n",
       "      <td>0</td>\n",
       "    </tr>\n",
       "    <tr>\n",
       "      <th>Champion</th>\n",
       "      <td>1</td>\n",
       "      <td>2</td>\n",
       "      <td>0</td>\n",
       "      <td>2</td>\n",
       "    </tr>\n",
       "    <tr>\n",
       "      <th>Chieftain</th>\n",
       "      <td>0</td>\n",
       "      <td>1</td>\n",
       "      <td>1</td>\n",
       "      <td>1</td>\n",
       "    </tr>\n",
       "    <tr>\n",
       "      <th>Deadeye</th>\n",
       "      <td>1</td>\n",
       "      <td>2</td>\n",
       "      <td>0</td>\n",
       "      <td>0</td>\n",
       "    </tr>\n",
       "    <tr>\n",
       "      <th>Elementalist</th>\n",
       "      <td>1</td>\n",
       "      <td>0</td>\n",
       "      <td>1</td>\n",
       "      <td>0</td>\n",
       "    </tr>\n",
       "    <tr>\n",
       "      <th>Gladiator</th>\n",
       "      <td>1</td>\n",
       "      <td>4</td>\n",
       "      <td>3</td>\n",
       "      <td>3</td>\n",
       "    </tr>\n",
       "    <tr>\n",
       "      <th>Guardian</th>\n",
       "      <td>2</td>\n",
       "      <td>1</td>\n",
       "      <td>0</td>\n",
       "      <td>0</td>\n",
       "    </tr>\n",
       "    <tr>\n",
       "      <th>Hierophant</th>\n",
       "      <td>0</td>\n",
       "      <td>0</td>\n",
       "      <td>1</td>\n",
       "      <td>0</td>\n",
       "    </tr>\n",
       "    <tr>\n",
       "      <th>Inquisitor</th>\n",
       "      <td>4</td>\n",
       "      <td>3</td>\n",
       "      <td>1</td>\n",
       "      <td>2</td>\n",
       "    </tr>\n",
       "    <tr>\n",
       "      <th>Juggernaut</th>\n",
       "      <td>0</td>\n",
       "      <td>0</td>\n",
       "      <td>1</td>\n",
       "      <td>0</td>\n",
       "    </tr>\n",
       "    <tr>\n",
       "      <th>Necromancer</th>\n",
       "      <td>6</td>\n",
       "      <td>6</td>\n",
       "      <td>6</td>\n",
       "      <td>11</td>\n",
       "    </tr>\n",
       "    <tr>\n",
       "      <th>Occultist</th>\n",
       "      <td>2</td>\n",
       "      <td>2</td>\n",
       "      <td>0</td>\n",
       "      <td>0</td>\n",
       "    </tr>\n",
       "    <tr>\n",
       "      <th>Pathfinder</th>\n",
       "      <td>7</td>\n",
       "      <td>2</td>\n",
       "      <td>3</td>\n",
       "      <td>0</td>\n",
       "    </tr>\n",
       "    <tr>\n",
       "      <th>Raider</th>\n",
       "      <td>2</td>\n",
       "      <td>0</td>\n",
       "      <td>3</td>\n",
       "      <td>3</td>\n",
       "    </tr>\n",
       "    <tr>\n",
       "      <th>Saboteur</th>\n",
       "      <td>0</td>\n",
       "      <td>2</td>\n",
       "      <td>0</td>\n",
       "      <td>0</td>\n",
       "    </tr>\n",
       "    <tr>\n",
       "      <th>Slayer</th>\n",
       "      <td>1</td>\n",
       "      <td>2</td>\n",
       "      <td>3</td>\n",
       "      <td>6</td>\n",
       "    </tr>\n",
       "    <tr>\n",
       "      <th>Trickster</th>\n",
       "      <td>0</td>\n",
       "      <td>0</td>\n",
       "      <td>2</td>\n",
       "      <td>2</td>\n",
       "    </tr>\n",
       "  </tbody>\n",
       "</table>\n",
       "</div>"
      ],
      "text/plain": [
       "ladder        Harbinger  Hardcore Harbinger  SSF Harbinger  SSF Harbinger HC\n",
       "class                                                                       \n",
       "Ascendant             0                   2              2                 0\n",
       "Berserker             2                   1              3                 0\n",
       "Champion              1                   2              0                 2\n",
       "Chieftain             0                   1              1                 1\n",
       "Deadeye               1                   2              0                 0\n",
       "Elementalist          1                   0              1                 0\n",
       "Gladiator             1                   4              3                 3\n",
       "Guardian              2                   1              0                 0\n",
       "Hierophant            0                   0              1                 0\n",
       "Inquisitor            4                   3              1                 2\n",
       "Juggernaut            0                   0              1                 0\n",
       "Necromancer           6                   6              6                11\n",
       "Occultist             2                   2              0                 0\n",
       "Pathfinder            7                   2              3                 0\n",
       "Raider                2                   0              3                 3\n",
       "Saboteur              0                   2              0                 0\n",
       "Slayer                1                   2              3                 6\n",
       "Trickster             0                   0              2                 2"
      ]
     },
     "execution_count": 9,
     "metadata": {},
     "output_type": "execute_result"
    }
   ],
   "source": [
    "# number in top 30 classes\n",
    "df[cond_30].pivot_table(columns = 'ladder', index = 'class',\n",
    "                                aggfunc = 'count', fill_value = 0)['id']"
   ]
  },
  {
   "cell_type": "code",
   "execution_count": 10,
   "id": "254976ab",
   "metadata": {
    "ExecuteTime": {
     "end_time": "2024-03-18T10:28:57.299674Z",
     "start_time": "2024-03-18T10:28:57.193861Z"
    },
    "scrolled": true
   },
   "outputs": [
    {
     "data": {
      "text/html": [
       "<div>\n",
       "<style scoped>\n",
       "    .dataframe tbody tr th:only-of-type {\n",
       "        vertical-align: middle;\n",
       "    }\n",
       "\n",
       "    .dataframe tbody tr th {\n",
       "        vertical-align: top;\n",
       "    }\n",
       "\n",
       "    .dataframe thead th {\n",
       "        text-align: right;\n",
       "    }\n",
       "</style>\n",
       "<table border=\"1\" class=\"dataframe\">\n",
       "  <thead>\n",
       "    <tr style=\"text-align: right;\">\n",
       "      <th>ladder</th>\n",
       "      <th>Harbinger</th>\n",
       "      <th>Hardcore Harbinger</th>\n",
       "      <th>SSF Harbinger</th>\n",
       "      <th>SSF Harbinger HC</th>\n",
       "    </tr>\n",
       "    <tr>\n",
       "      <th>class</th>\n",
       "      <th></th>\n",
       "      <th></th>\n",
       "      <th></th>\n",
       "      <th></th>\n",
       "    </tr>\n",
       "  </thead>\n",
       "  <tbody>\n",
       "    <tr>\n",
       "      <th>Ascendant</th>\n",
       "      <td>0.00</td>\n",
       "      <td>6.67</td>\n",
       "      <td>6.67</td>\n",
       "      <td>0.00</td>\n",
       "    </tr>\n",
       "    <tr>\n",
       "      <th>Berserker</th>\n",
       "      <td>6.67</td>\n",
       "      <td>3.33</td>\n",
       "      <td>10.00</td>\n",
       "      <td>0.00</td>\n",
       "    </tr>\n",
       "    <tr>\n",
       "      <th>Champion</th>\n",
       "      <td>3.33</td>\n",
       "      <td>6.67</td>\n",
       "      <td>0.00</td>\n",
       "      <td>6.67</td>\n",
       "    </tr>\n",
       "    <tr>\n",
       "      <th>Chieftain</th>\n",
       "      <td>0.00</td>\n",
       "      <td>3.33</td>\n",
       "      <td>3.33</td>\n",
       "      <td>3.33</td>\n",
       "    </tr>\n",
       "    <tr>\n",
       "      <th>Deadeye</th>\n",
       "      <td>3.33</td>\n",
       "      <td>6.67</td>\n",
       "      <td>0.00</td>\n",
       "      <td>0.00</td>\n",
       "    </tr>\n",
       "    <tr>\n",
       "      <th>Elementalist</th>\n",
       "      <td>3.33</td>\n",
       "      <td>0.00</td>\n",
       "      <td>3.33</td>\n",
       "      <td>0.00</td>\n",
       "    </tr>\n",
       "    <tr>\n",
       "      <th>Gladiator</th>\n",
       "      <td>3.33</td>\n",
       "      <td>13.33</td>\n",
       "      <td>10.00</td>\n",
       "      <td>10.00</td>\n",
       "    </tr>\n",
       "    <tr>\n",
       "      <th>Guardian</th>\n",
       "      <td>6.67</td>\n",
       "      <td>3.33</td>\n",
       "      <td>0.00</td>\n",
       "      <td>0.00</td>\n",
       "    </tr>\n",
       "    <tr>\n",
       "      <th>Hierophant</th>\n",
       "      <td>0.00</td>\n",
       "      <td>0.00</td>\n",
       "      <td>3.33</td>\n",
       "      <td>0.00</td>\n",
       "    </tr>\n",
       "    <tr>\n",
       "      <th>Inquisitor</th>\n",
       "      <td>13.33</td>\n",
       "      <td>10.00</td>\n",
       "      <td>3.33</td>\n",
       "      <td>6.67</td>\n",
       "    </tr>\n",
       "    <tr>\n",
       "      <th>Juggernaut</th>\n",
       "      <td>0.00</td>\n",
       "      <td>0.00</td>\n",
       "      <td>3.33</td>\n",
       "      <td>0.00</td>\n",
       "    </tr>\n",
       "    <tr>\n",
       "      <th>Necromancer</th>\n",
       "      <td>20.00</td>\n",
       "      <td>20.00</td>\n",
       "      <td>20.00</td>\n",
       "      <td>36.67</td>\n",
       "    </tr>\n",
       "    <tr>\n",
       "      <th>Occultist</th>\n",
       "      <td>6.67</td>\n",
       "      <td>6.67</td>\n",
       "      <td>0.00</td>\n",
       "      <td>0.00</td>\n",
       "    </tr>\n",
       "    <tr>\n",
       "      <th>Pathfinder</th>\n",
       "      <td>23.33</td>\n",
       "      <td>6.67</td>\n",
       "      <td>10.00</td>\n",
       "      <td>0.00</td>\n",
       "    </tr>\n",
       "    <tr>\n",
       "      <th>Raider</th>\n",
       "      <td>6.67</td>\n",
       "      <td>0.00</td>\n",
       "      <td>10.00</td>\n",
       "      <td>10.00</td>\n",
       "    </tr>\n",
       "    <tr>\n",
       "      <th>Saboteur</th>\n",
       "      <td>0.00</td>\n",
       "      <td>6.67</td>\n",
       "      <td>0.00</td>\n",
       "      <td>0.00</td>\n",
       "    </tr>\n",
       "    <tr>\n",
       "      <th>Slayer</th>\n",
       "      <td>3.33</td>\n",
       "      <td>6.67</td>\n",
       "      <td>10.00</td>\n",
       "      <td>20.00</td>\n",
       "    </tr>\n",
       "    <tr>\n",
       "      <th>Trickster</th>\n",
       "      <td>0.00</td>\n",
       "      <td>0.00</td>\n",
       "      <td>6.67</td>\n",
       "      <td>6.67</td>\n",
       "    </tr>\n",
       "  </tbody>\n",
       "</table>\n",
       "</div>"
      ],
      "text/plain": [
       "ladder        Harbinger  Hardcore Harbinger  SSF Harbinger  SSF Harbinger HC\n",
       "class                                                                       \n",
       "Ascendant          0.00                6.67           6.67              0.00\n",
       "Berserker          6.67                3.33          10.00              0.00\n",
       "Champion           3.33                6.67           0.00              6.67\n",
       "Chieftain          0.00                3.33           3.33              3.33\n",
       "Deadeye            3.33                6.67           0.00              0.00\n",
       "Elementalist       3.33                0.00           3.33              0.00\n",
       "Gladiator          3.33               13.33          10.00             10.00\n",
       "Guardian           6.67                3.33           0.00              0.00\n",
       "Hierophant         0.00                0.00           3.33              0.00\n",
       "Inquisitor        13.33               10.00           3.33              6.67\n",
       "Juggernaut         0.00                0.00           3.33              0.00\n",
       "Necromancer       20.00               20.00          20.00             36.67\n",
       "Occultist          6.67                6.67           0.00              0.00\n",
       "Pathfinder        23.33                6.67          10.00              0.00\n",
       "Raider             6.67                0.00          10.00             10.00\n",
       "Saboteur           0.00                6.67           0.00              0.00\n",
       "Slayer             3.33                6.67          10.00             20.00\n",
       "Trickster          0.00                0.00           6.67              6.67"
      ]
     },
     "execution_count": 10,
     "metadata": {},
     "output_type": "execute_result"
    }
   ],
   "source": [
    "# classes ratio in top 30 \n",
    "df[cond_30].pivot_table(columns = 'ladder', index = 'class',\n",
    "                                aggfunc = 'count', fill_value = 0)['id'] / 30*100"
   ]
  },
  {
   "cell_type": "markdown",
   "id": "ccfb4cb1",
   "metadata": {},
   "source": [
    "#### [graph 3-1] visualization to pie chart: class ratios by ladder in the top 30"
   ]
  },
  {
   "cell_type": "code",
   "execution_count": 11,
   "id": "95bf8538",
   "metadata": {
    "ExecuteTime": {
     "end_time": "2024-03-18T10:29:00.421198Z",
     "start_time": "2024-03-18T10:28:57.305071Z"
    },
    "code_folding": [],
    "scrolled": true
   },
   "outputs": [
    {
     "data": {
      "image/png": "[encoded data removed]",
      "text/plain": [
       "<Figure size 720x720 with 4 Axes>"
      ]
     },
     "metadata": {},
     "output_type": "display_data"
    }
   ],
   "source": [
    "# preparing the data for iteration\n",
    "df_30pi = df[cond_30].pivot_table(columns='ladder', index='class', aggfunc='count', fill_value=0)['id'] / 30 * 100\n",
    "df_30pi.reset_index(inplace=True)\n",
    "\n",
    "# percentage data list making : each ladder\n",
    "# get values by each column(ladder) which is not a missing value.\n",
    "modes_data = {\n",
    "    'Harbinger': df_30pi[df_30pi['Harbinger'] != 0][['class', 'Harbinger']].sort_values('Harbinger', ascending=False),\n",
    "    'Hardcore Harbinger': df_30pi[df_30pi['Hardcore Harbinger'] != 0][['class', 'Hardcore Harbinger']].sort_values('Hardcore Harbinger', ascending=False),\n",
    "    'SSF Harbinger': df_30pi[df_30pi['SSF Harbinger'] != 0][['class', 'SSF Harbinger']].sort_values('SSF Harbinger', ascending=False),\n",
    "    'SSF Harbinger HC': df_30pi[df_30pi['SSF Harbinger HC'] != 0][['class', 'SSF Harbinger HC']].sort_values('SSF Harbinger HC', ascending=False)\n",
    "    }\n",
    "\n",
    "# plot parameters\n",
    "colors = ['#3A558C', '#3B74BF', '#77ACF2'] + ['#ACB9D6', '#A2C5F2'] * 12\n",
    "wedgeprops = {'width': 0.7, 'edgecolor': 'w', 'linewidth': 3}\n",
    "\n",
    "# setting subplot\n",
    "fig, axes = plt.subplots(2, 2, figsize=(10, 10), squeeze=True)\n",
    "# use labels(key) and ratio(values) dictionary to draw plt\n",
    "for i, (mode_title, mode_data) in enumerate(modes_data.items()):\n",
    "    ax = axes[i // 2, i % 2] # subplot position\n",
    "    ax.pie(mode_data[mode_title], labels=mode_data['class'], autopct='%.1f%%', startangle=180, \n",
    "           counterclock=False, wedgeprops=wedgeprops, pctdistance=0.85, colors=colors)\n",
    "    ax.set_title(\"{} mode\".format(mode_title), fontsize=14, color='navy')\n",
    "    ax.axis('equal')\n",
    "\n",
    "# setting layout and showing them!\n",
    "fig.tight_layout()\n",
    "plt.show()"
   ]
  },
  {
   "cell_type": "markdown",
   "id": "0efeb73b",
   "metadata": {},
   "source": [
    "Necromancers take 20% in the top 30 except SSF Harbinger HC mode.  \n",
    "In SSF Harbinger HC mode, Necromancers take 36.67% in the top 30. \n"
   ]
  },
  {
   "cell_type": "markdown",
   "id": "63774697",
   "metadata": {},
   "source": [
    "#### [graph 3-2] Necromancers rank boxplot by each ladder\n",
    "\n",
    "Draw a boxplot of the rank of each ladder's Necromancer. It is true that the plot is not appropriate because it is ranked data, but I draw it because it is easy to see which data points have extreme ranks or how much is median.\n"
   ]
  },
  {
   "cell_type": "code",
   "execution_count": 12,
   "id": "021ef68a",
   "metadata": {
    "ExecuteTime": {
     "end_time": "2024-03-18T10:29:00.889308Z",
     "start_time": "2024-03-18T10:29:00.428871Z"
    }
   },
   "outputs": [
    {
     "data": {
      "image/png": "[encoded data removed]",
      "text/plain": [
       "<Figure size 216x360 with 1 Axes>"
      ]
     },
     "metadata": {
      "needs_background": "light"
     },
     "output_type": "display_data"
    }
   ],
   "source": [
    "# Necromancers rank boxplot by ladder \n",
    "df_Nec = df[cond_Nec]\n",
    "\n",
    "plt.figure(figsize=(3,5))\n",
    "plt.xticks(rotation=45, fontsize=10)\n",
    "sns.boxplot(data = df_Nec.sort_values(by = 'ladder'), x = 'ladder', y = 'rank', \n",
    "            palette = colors, notch = True, medianprops = ({'color' : 'Navy'})).invert_yaxis()\n",
    "plt.show()"
   ]
  },
  {
   "cell_type": "markdown",
   "id": "5713134a",
   "metadata": {},
   "source": [
    "#### (2) getting the probability by method 1 \n",
    "\n",
    "Get the probablity by multiplying the probability to be in the top 30 and the ratio of Necromancers who are in the top 30.(that's why I didn't do 30/15000)  \n",
    "As you know, each ladder doesn't have an exact number of 15000 IDs. "
   ]
  },
  {
   "cell_type": "code",
   "execution_count": 13,
   "id": "971b342a",
   "metadata": {
    "ExecuteTime": {
     "end_time": "2024-03-18T10:29:00.935713Z",
     "start_time": "2024-03-18T10:29:00.895586Z"
    }
   },
   "outputs": [
    {
     "name": "stdout",
     "output_type": "stream",
     "text": [
      "ladder\n",
      "Harbinger             0.002011\n",
      "Hardcore Harbinger    0.002013\n",
      "SSF Harbinger         0.002003\n",
      "SSF Harbinger HC      0.002004\n",
      "Name: id, dtype: float64 \n",
      "\n",
      "ladder\n",
      "Harbinger             0.200000\n",
      "Hardcore Harbinger    0.200000\n",
      "SSF Harbinger         0.200000\n",
      "SSF Harbinger HC      0.366667\n",
      "Name: id, dtype: float64\n"
     ]
    }
   ],
   "source": [
    "# the probability when we go in the top 30 by using broadcasting\n",
    "each30prob = df[cond_30].groupby(by = 'ladder')['id'].count() \\\n",
    "            / df.groupby(by = 'ladder')['id'].count()\n",
    "\n",
    "# the ratio of Necromancers who are in the top 30.\n",
    "eachNec30ratio = df[(cond_30)&(cond_Nec)].groupby(by = 'ladder')['id'].count() \\\n",
    "                / df[cond_30].groupby(by = 'ladder')['id'].count()\n",
    "\n",
    "pd.set_option('display.float_format', None)\n",
    "print(each30prob, '\\n')\n",
    "print(eachNec30ratio)"
   ]
  },
  {
   "cell_type": "code",
   "execution_count": 14,
   "id": "55114240",
   "metadata": {
    "ExecuteTime": {
     "end_time": "2024-03-18T10:29:00.946284Z",
     "start_time": "2024-03-18T10:29:00.939665Z"
    }
   },
   "outputs": [
    {
     "name": "stdout",
     "output_type": "stream",
     "text": [
      "ladder\n",
      "Harbinger             0.040220\n",
      "Hardcore Harbinger    0.040255\n",
      "SSF Harbinger         0.040051\n",
      "SSF Harbinger HC      0.073470\n",
      "Name: id, dtype: float64\n"
     ]
    }
   ],
   "source": [
    "# multiplying\n",
    "# this is show the probability in percentage(%).\n",
    "print(each30prob * eachNec30ratio * 100)"
   ]
  },
  {
   "cell_type": "markdown",
   "id": "f1cf9eca",
   "metadata": {},
   "source": [
    "(additional) If we disregard the ladder divisions, it's easy to obtain."
   ]
  },
  {
   "cell_type": "code",
   "execution_count": 15,
   "id": "d011ea6e",
   "metadata": {
    "ExecuteTime": {
     "end_time": "2024-03-18T10:29:00.967770Z",
     "start_time": "2024-03-18T10:29:00.952819Z"
    }
   },
   "outputs": [
    {
     "name": "stdout",
     "output_type": "stream",
     "text": [
      "0.0485144539614561\n"
     ]
    }
   ],
   "source": [
    "# the probability when we go in the top 30 by using broadcasting\n",
    "total30prob = df[cond_30]['id'].count() / df['id'].count()\n",
    "\n",
    "# the ratio of the Necromancers, who are in the top 30 among all Necromancers\n",
    "Nec30ratio = df[(cond_30)&(cond_Nec)]['id'].count() / 120\n",
    "\n",
    "# print(total30prob)\n",
    "# print(Nec30ratio)\n",
    "\n",
    "### multiplying: the probability values by 100 to represent them as percentages.\n",
    "print(total30prob * Nec30ratio * 100)"
   ]
  },
  {
   "cell_type": "markdown",
   "id": "ec7ffa49",
   "metadata": {},
   "source": [
    "<!-- #### (3) [Answer] method 1 result:  -->\n",
    "### [Answer with method1: When not considering streaming]\n",
    "As expected, the numbers are quite low. '0.07 per' is the highest observed.  \n",
    "\n",
    "    - by ladder\n",
    "    Harbinger             0.040220\n",
    "    Hardcore Harbinger    0.040255\n",
    "    SSF Harbinger         0.040051\n",
    "    SSF Harbinger HC      0.073470\n",
    "\n",
    "    - not considered ladder\n",
    "                          0.048514"
   ]
  },
  {
   "cell_type": "markdown",
   "id": "80f95c68",
   "metadata": {},
   "source": [
    "### 3-1-2. Rate Among the Necromancers (Bayesian probability)\n",
    "This logic is based on **Bayesian Probabiltiy**. I expressed it in the formula.\n",
    "\n",
    "The calculation method is:  \n",
    "$ P(Top30|Nec) = \\frac {P(Nec | Top30)\\times P(Top30)} {P(Nec|Top30)\\times P(Top30) + \n",
    "P(Nec|out\\space of\\space 30)\\times P(out\\space of\\space 30) } $\n",
    "\n",
    "- $P(Nec|Top30)$ = Necromancers ratio in top30 (3-1-1.)  \n",
    "\n",
    "- $P(Top30)$ = 30/15000  \n",
    "  $P(Out of 30)$ = 14970/15000"
   ]
  },
  {
   "cell_type": "markdown",
   "id": "25c6276b",
   "metadata": {},
   "source": [
    "#### (1) define datasets with the Necromancers \n",
    "Set the necromancer dataset for easy use.\n",
    "\n",
    "And see the number of Necromancers and top 30 Necromancers by each ladder."
   ]
  },
  {
   "cell_type": "code",
   "execution_count": 16,
   "id": "66eab479",
   "metadata": {
    "ExecuteTime": {
     "end_time": "2024-03-18T10:29:00.982987Z",
     "start_time": "2024-03-18T10:29:00.971370Z"
    }
   },
   "outputs": [],
   "source": [
    "# Don't forget condition list!\n",
    "# cond_Nec = (df['class']=='Necromancer')\n",
    "# cond_tw = (df['stream']==1)\n",
    "# cond_30 = (df['rank']<=30)\n",
    "\n",
    "# Let's define it separately.\n",
    "df_Nec = df[cond_Nec]\n",
    "df_Nec30 = df_Nec[df_Nec['rank']<=30]"
   ]
  },
  {
   "cell_type": "code",
   "execution_count": 17,
   "id": "7182feea",
   "metadata": {
    "ExecuteTime": {
     "end_time": "2024-03-18T10:29:00.999258Z",
     "start_time": "2024-03-18T10:29:00.986152Z"
    }
   },
   "outputs": [
    {
     "name": "stdout",
     "output_type": "stream",
     "text": [
      "ladder\n",
      "Harbinger             1207\n",
      "Hardcore Harbinger    2099\n",
      "SSF Harbinger         1716\n",
      "SSF Harbinger HC      2055\n",
      "Name: id, dtype: int64 \n",
      "\n",
      "ladder\n",
      "Harbinger              6\n",
      "Hardcore Harbinger     6\n",
      "SSF Harbinger          6\n",
      "SSF Harbinger HC      11\n",
      "Name: id, dtype: int64\n"
     ]
    }
   ],
   "source": [
    "# All Necromancers number by ladder\n",
    "print(df_Nec.groupby('ladder')['id'].count(),\"\\n\")\n",
    "\n",
    "# Necromancers number Who are in top 30 by ladder\n",
    "print(df_Nec30.groupby('ladder')['id'].count())"
   ]
  },
  {
   "cell_type": "markdown",
   "id": "8bfc8c24",
   "metadata": {},
   "source": [
    "And check the number of `df_Nec30`. "
   ]
  },
  {
   "cell_type": "code",
   "execution_count": 18,
   "id": "8d3659d0",
   "metadata": {
    "ExecuteTime": {
     "end_time": "2024-03-18T10:29:01.047629Z",
     "start_time": "2024-03-18T10:29:01.008201Z"
    }
   },
   "outputs": [
    {
     "data": {
      "text/html": [
       "<div>\n",
       "<style scoped>\n",
       "    .dataframe tbody tr th:only-of-type {\n",
       "        vertical-align: middle;\n",
       "    }\n",
       "\n",
       "    .dataframe tbody tr th {\n",
       "        vertical-align: top;\n",
       "    }\n",
       "\n",
       "    .dataframe thead th {\n",
       "        text-align: right;\n",
       "    }\n",
       "</style>\n",
       "<table border=\"1\" class=\"dataframe\">\n",
       "  <thead>\n",
       "    <tr style=\"text-align: right;\">\n",
       "      <th></th>\n",
       "      <th>id</th>\n",
       "      <th>rank</th>\n",
       "    </tr>\n",
       "    <tr>\n",
       "      <th>ladder</th>\n",
       "      <th></th>\n",
       "      <th></th>\n",
       "    </tr>\n",
       "  </thead>\n",
       "  <tbody>\n",
       "    <tr>\n",
       "      <th>Harbinger</th>\n",
       "      <td>6</td>\n",
       "      <td>6</td>\n",
       "    </tr>\n",
       "    <tr>\n",
       "      <th>Hardcore Harbinger</th>\n",
       "      <td>6</td>\n",
       "      <td>6</td>\n",
       "    </tr>\n",
       "    <tr>\n",
       "      <th>SSF Harbinger</th>\n",
       "      <td>6</td>\n",
       "      <td>6</td>\n",
       "    </tr>\n",
       "    <tr>\n",
       "      <th>SSF Harbinger HC</th>\n",
       "      <td>11</td>\n",
       "      <td>11</td>\n",
       "    </tr>\n",
       "  </tbody>\n",
       "</table>\n",
       "</div>"
      ],
      "text/plain": [
       "                    id  rank\n",
       "ladder                      \n",
       "Harbinger            6     6\n",
       "Hardcore Harbinger   6     6\n",
       "SSF Harbinger        6     6\n",
       "SSF Harbinger HC    11    11"
      ]
     },
     "execution_count": 18,
     "metadata": {},
     "output_type": "execute_result"
    }
   ],
   "source": [
    "# Necromancers Who are in top 30 by ladder, unique users\n",
    "df_Nec30.groupby(by = 'ladder')[['id', 'rank']].nunique()"
   ]
  },
  {
   "cell_type": "markdown",
   "id": "4030b2a5",
   "metadata": {},
   "source": [
    "#### (2) getting the probability by method 2: percentage of the top 30 Necromancer among 'the all Necromancers'\n",
    "\n",
    "Let's get the percentage of the top 30 Necromancers mong the all Necromancers."
   ]
  },
  {
   "cell_type": "code",
   "execution_count": 19,
   "id": "2ce8bde0",
   "metadata": {
    "ExecuteTime": {
     "end_time": "2024-03-18T10:29:01.074169Z",
     "start_time": "2024-03-18T10:29:01.056810Z"
    }
   },
   "outputs": [
    {
     "data": {
      "text/plain": [
       "ladder\n",
       "Harbinger             0.49710\n",
       "Hardcore Harbinger    0.28585\n",
       "SSF Harbinger         0.34965\n",
       "SSF Harbinger HC      0.53528\n",
       "Name: id, dtype: float64"
      ]
     },
     "execution_count": 19,
     "metadata": {},
     "output_type": "execute_result"
    }
   ],
   "source": [
    "# Necromancers Who are in top 30 among all Necromancers by ladder\n",
    "# *100 for a unit of percentage(%).\n",
    "df_Nec30.groupby('ladder')['id'].count() / df_Nec.groupby('ladder')['id'].count() * 100"
   ]
  },
  {
   "cell_type": "markdown",
   "id": "550897ce",
   "metadata": {},
   "source": [
    "(Additional) If we don’t mind the ladder, it could be this."
   ]
  },
  {
   "cell_type": "code",
   "execution_count": 20,
   "id": "bf5be778",
   "metadata": {
    "ExecuteTime": {
     "end_time": "2024-03-18T10:29:01.091281Z",
     "start_time": "2024-03-18T10:29:01.078530Z"
    }
   },
   "outputs": [
    {
     "data": {
      "text/plain": [
       "0.4097781545852762"
      ]
     },
     "execution_count": 20,
     "metadata": {},
     "output_type": "execute_result"
    }
   ],
   "source": [
    "# All Necromancers Who are in top 30 among all Necromancers\n",
    "# *100 for a unit of percentage(%).\n",
    "df_Nec30['id'].count() / df_Nec['id'].count() * 100"
   ]
  },
  {
   "cell_type": "markdown",
   "id": "b8693c4d",
   "metadata": {},
   "source": [
    "<!-- #### (3) [Answer] method 2 result: -->\n",
    "### [Answer with method2: When not considering streaming]\n",
    "\n",
    "    - by ladder\n",
    "    Harbinger             0.49710\n",
    "    Hardcore Harbinger    0.28585\n",
    "    SSF Harbinger         0.34965\n",
    "    SSF Harbinger HC      0.53528\n",
    "      \n",
    "    - not considered ladder\n",
    "                          0.40977\n",
    "\n",
    "It looks like it a not quite hard to get into the top 30. ~Haha...~"
   ]
  },
  {
   "cell_type": "markdown",
   "id": "58c573e0",
   "metadata": {},
   "source": [
    "#### (Additional1) If we get the values with ‘Bayesian probability formula’\n",
    "I made this code to show the the fomular expression is expanded."
   ]
  },
  {
   "cell_type": "code",
   "execution_count": 21,
   "id": "0cf7bcb3",
   "metadata": {
    "ExecuteTime": {
     "end_time": "2024-03-18T10:29:01.274957Z",
     "start_time": "2024-03-18T10:29:01.094874Z"
    }
   },
   "outputs": [
    {
     "data": {
      "text/plain": [
       "Harbinger             0.49710\n",
       "Hardcore Harbinger    0.28585\n",
       "SSF Harbinger         0.34965\n",
       "SSF Harbinger HC      0.53528\n",
       "Name: probability, dtype: float64"
      ]
     },
     "execution_count": 21,
     "metadata": {},
     "output_type": "execute_result"
    }
   ],
   "source": [
    "ladders = list(df['ladder'].unique()) # ladder list for iterating\n",
    "ladders.sort()\n",
    "\n",
    "prob_TN_byladder = []\n",
    "for i in ladders:\n",
    "    p_NT = df_Nec[(df_Nec['rank']<=30)&\n",
    "                  (df_Nec['ladder']==i)]['id'].count() / 30\n",
    "    p_T = 30 / df[df['ladder']==i]['id'].count()\n",
    "    p_O = 1 - p_T\n",
    "    p_NO = df_Nec[(df_Nec['rank']>30)&\n",
    "                  (df_Nec['ladder']==i)]['id'].count() / (df[df['ladder']==i]['id'].count()-30)\n",
    "    p_TN = p_NT * p_T / (p_NT*p_T + p_NO*p_O)\n",
    "    prob_TN_byladder.append(p_TN)\n",
    "\n",
    "# Make a Series and *100 for a unit of percentage(%).\n",
    "df_prob_TN_byladder = pd.Series(data = prob_TN_byladder, index = ladders, name = 'probability')\n",
    "df_prob_TN_byladder * 100"
   ]
  },
  {
   "cell_type": "markdown",
   "id": "cdfe6f29",
   "metadata": {},
   "source": [
    "It looks like it a not quite hard to get into the top 30. ~~Haha...~~\n",
    "\n",
    "<br>\n",
    "<br>\n",
    "\n",
    "#### (Additional2) Comparing the percentages of each class's top 30 characters among each class\n",
    "Let's compare the probability with other class'. (It's just comparing, so I didn't care about 'in percentages'.)"
   ]
  },
  {
   "cell_type": "code",
   "execution_count": 22,
   "id": "2bec473b",
   "metadata": {
    "ExecuteTime": {
     "end_time": "2024-03-18T10:29:01.629807Z",
     "start_time": "2024-03-18T10:29:01.279136Z"
    }
   },
   "outputs": [],
   "source": [
    "### classes who are in top 30 among each classes by ladder\n",
    "# we exceptd the classes what is not in top30\n",
    "\n",
    "classes = list(df[df['rank'] <= 30]['class'].unique())\n",
    "\n",
    "for i in classes:\n",
    "    df_bin = df[df['class'] == i]\n",
    "    df_bin30 = df_bin[df_bin['rank']<=30]\n",
    "    ser = df_bin30.groupby('ladder')['id'].count() / df_bin.groupby('ladder')['id'].count()\n",
    "    sum_ser = ser.sum()\n",
    "    \n",
    "    if i == classes[0]:\n",
    "        ser1 = ser\n",
    "    elif i == classes[1]:\n",
    "        ser2 = ser\n",
    "        concatingdf = pd.concat([ser1, ser2], axis=1, ignore_index=True)\n",
    "    else:\n",
    "        ser2 = ser\n",
    "        concatingdf = pd.concat([concatingdf, ser2], axis=1, ignore_index=True)\n",
    "        \n",
    "# concatingdf.head()\n",
    "\n",
    "\n",
    "\n",
    "### reset index and rename with a dictionary what we made\n",
    "concatingdf.reset_index(drop = False, inplace = True)\n",
    "\n",
    "dictionary = dict()\n",
    "for i in range(0, 18):\n",
    "    dictionary[i] = classes[i]\n",
    "\n",
    "concatingdf.rename(columns = dictionary, inplace = True)\n",
    "\n",
    "# and transpose the dataframe to look good.\n",
    "top30cla = concatingdf.transpose()\n",
    "top30cla.reset_index(drop = False, inplace = True)\n",
    "top30cla.rename(columns = top30cla.iloc[0], inplace = True)\n",
    "top30cla = top30cla.drop(top30cla.index[0])\n",
    "top30cla.reset_index(drop = True, inplace = True)\n",
    "top30cla.rename(columns = {'ladder':'class'}, inplace = True)\n",
    "# top30cla"
   ]
  },
  {
   "cell_type": "markdown",
   "id": "77fb99ad",
   "metadata": {},
   "source": [
    "And get the probability when we exclude the ladder variation, `prob` is the column.\n",
    "Then I concat the dataframe in one DataFrame.  "
   ]
  },
  {
   "cell_type": "code",
   "execution_count": 23,
   "id": "c091d9dd",
   "metadata": {
    "ExecuteTime": {
     "end_time": "2024-03-18T10:29:02.157037Z",
     "start_time": "2024-03-18T10:29:01.634277Z"
    },
    "scrolled": true
   },
   "outputs": [
    {
     "data": {
      "text/html": [
       "<div>\n",
       "<style scoped>\n",
       "    .dataframe tbody tr th:only-of-type {\n",
       "        vertical-align: middle;\n",
       "    }\n",
       "\n",
       "    .dataframe tbody tr th {\n",
       "        vertical-align: top;\n",
       "    }\n",
       "\n",
       "    .dataframe thead th {\n",
       "        text-align: right;\n",
       "    }\n",
       "</style>\n",
       "<table border=\"1\" class=\"dataframe\">\n",
       "  <thead>\n",
       "    <tr style=\"text-align: right;\">\n",
       "      <th></th>\n",
       "      <th>class</th>\n",
       "      <th>Harbinger</th>\n",
       "      <th>Hardcore Harbinger</th>\n",
       "      <th>SSF Harbinger</th>\n",
       "      <th>SSF Harbinger HC</th>\n",
       "      <th>prob</th>\n",
       "    </tr>\n",
       "  </thead>\n",
       "  <tbody>\n",
       "    <tr>\n",
       "      <th>0</th>\n",
       "      <td>Necromancer</td>\n",
       "      <td>0.004971</td>\n",
       "      <td>0.002859</td>\n",
       "      <td>0.003497</td>\n",
       "      <td>0.005353</td>\n",
       "      <td>0.004098</td>\n",
       "    </tr>\n",
       "    <tr>\n",
       "      <th>1</th>\n",
       "      <td>Slayer</td>\n",
       "      <td>0.000586</td>\n",
       "      <td>0.001489</td>\n",
       "      <td>0.002306</td>\n",
       "      <td>0.005286</td>\n",
       "      <td>0.002188</td>\n",
       "    </tr>\n",
       "    <tr>\n",
       "      <th>2</th>\n",
       "      <td>Deadeye</td>\n",
       "      <td>0.012658</td>\n",
       "      <td>0.011976</td>\n",
       "      <td>NaN</td>\n",
       "      <td>NaN</td>\n",
       "      <td>0.004172</td>\n",
       "    </tr>\n",
       "    <tr>\n",
       "      <th>3</th>\n",
       "      <td>Gladiator</td>\n",
       "      <td>0.001543</td>\n",
       "      <td>0.00295</td>\n",
       "      <td>0.002273</td>\n",
       "      <td>0.001904</td>\n",
       "      <td>0.002245</td>\n",
       "    </tr>\n",
       "    <tr>\n",
       "      <th>4</th>\n",
       "      <td>Inquisitor</td>\n",
       "      <td>0.007156</td>\n",
       "      <td>0.003623</td>\n",
       "      <td>0.00105</td>\n",
       "      <td>0.001901</td>\n",
       "      <td>0.002949</td>\n",
       "    </tr>\n",
       "  </tbody>\n",
       "</table>\n",
       "</div>"
      ],
      "text/plain": [
       "         class Harbinger Hardcore Harbinger SSF Harbinger SSF Harbinger HC  \\\n",
       "0  Necromancer  0.004971           0.002859      0.003497         0.005353   \n",
       "1       Slayer  0.000586           0.001489      0.002306         0.005286   \n",
       "2      Deadeye  0.012658           0.011976           NaN              NaN   \n",
       "3    Gladiator  0.001543            0.00295      0.002273         0.001904   \n",
       "4   Inquisitor  0.007156           0.003623       0.00105         0.001901   \n",
       "\n",
       "       prob  \n",
       "0  0.004098  \n",
       "1  0.002188  \n",
       "2  0.004172  \n",
       "3  0.002245  \n",
       "4  0.002949  "
      ]
     },
     "execution_count": 23,
     "metadata": {},
     "output_type": "execute_result"
    }
   ],
   "source": [
    "# excluding the ladder problem and get the probability. and concat it.\n",
    "classes = list(df[df['rank'] <= 30]['class'].unique())\n",
    "classes_values = []\n",
    "\n",
    "for i in classes:\n",
    "    df_bin = df[df['class'] == i] # the class's df\n",
    "    df_bin30 = df_bin[df_bin['rank']<=30] # the class's top 30 df\n",
    "    ser = df_bin30['id'].count() / df_bin['id'].count()\n",
    "    classes_values.append(ser)\n",
    "\n",
    "concatingdf2 = pd.DataFrame()\n",
    "concatingdf2['class'] = classes\n",
    "concatingdf2['prob'] = classes_values\n",
    "\n",
    "top30cla = pd.concat([top30cla, concatingdf2['prob']], axis = 1, join = 'inner')\n",
    "top30cla.head()"
   ]
  },
  {
   "cell_type": "markdown",
   "id": "9151e77c",
   "metadata": {},
   "source": [
    "#### [graph 3-3] each class's probability into the top 30 among the all itself."
   ]
  },
  {
   "cell_type": "code",
   "execution_count": 33,
   "id": "4986c615",
   "metadata": {
    "ExecuteTime": {
     "end_time": "2024-03-18T10:34:19.221308Z",
     "start_time": "2024-03-18T10:34:18.639109Z"
    },
    "scrolled": true
   },
   "outputs": [
    {
     "data": {
      "image/png": "[encoded data removed]",
      "text/plain": [
       "<Figure size 720x432 with 1 Axes>"
      ]
     },
     "metadata": {
      "needs_background": "light"
     },
     "output_type": "display_data"
    }
   ],
   "source": [
    "plt.figure(figsize=(10, 6))\n",
    "plt.xlabel\n",
    "plt.xticks(rotation = 90)\n",
    "sns.scatterplot(data = top30cla.set_index(keys = 'class'), \n",
    "                palette = 'rocket', \n",
    "                legend = 'full')\n",
    "\n",
    "# Necromancer is the first x value. Highlight it.\n",
    "plt.gca().get_xticklabels()[0].set_color(sns.color_palette(palette = 'rocket')[2])\n",
    "plt.grid(linestyle = '--', linewidth = 0.3, color = 'gray')\n",
    "plt.show()"
   ]
  },
  {
   "cell_type": "markdown",
   "id": "28b47be8",
   "metadata": {},
   "source": [
    "As you see, the probability is almost medium when it's Necromancer.  \n",
    "But this point of view has a problem in that the sample size(each class' character counts) has a big difference.  \n",
    "Even if we raise the volume of the total sample size as much as Necromancers', it might damage the precision of the meaning(rank, the top 30, or not).  "
   ]
  },
  {
   "cell_type": "markdown",
   "id": "a686c8b0",
   "metadata": {},
   "source": [
    "## 3-2. Before \"care of stream\"...\n",
    "---\n",
    "Getting probability methods with 'caring of twitch stream' is the same as above(3-1-1, 3-1-2).  \n",
    "<br>\n",
    "Before solving the problem, I would do several EDA related to Twitch streaming.  \n",
    "<br>\n",
    "##### Caution! : Someone has multiple characters(`id`), but I considered ‘one character = one player’. Because the important thing is a choice, not a player.\n"
   ]
  },
  {
   "cell_type": "markdown",
   "id": "54f190d3",
   "metadata": {},
   "source": [
    "#### Dataset setting"
   ]
  },
  {
   "cell_type": "code",
   "execution_count": 34,
   "id": "6cc2331f",
   "metadata": {
    "ExecuteTime": {
     "end_time": "2024-03-18T10:35:15.151588Z",
     "start_time": "2024-03-18T10:35:15.137506Z"
    }
   },
   "outputs": [],
   "source": [
    "# set dataframes of Necromancers who's twitch column is not null.\n",
    "# Don't forget the condition list!\n",
    "# cond_Nec = (df['class']=='Necromancer')\n",
    "# cond_30 = (df['rank']<=30)\n",
    "# cond_tw = (df['stream']==1)\n",
    "\n",
    "df_Nec = df[cond_Nec]\n",
    "df_NecTw = df[cond_Nec&cond_tw]\n",
    "df_NecTw30 = df[cond_Nec&cond_tw&cond_30]"
   ]
  },
  {
   "cell_type": "markdown",
   "id": "ad4b1fd3",
   "metadata": {},
   "source": [
    "---\n",
    "### 3-2-1. How rates much characters have Twitch IDs?\n",
    "In this issue, I'm going to proceed with the analysis, thinking that \"players Having a Twitch ID = streaming player\" \n",
    "\n",
    "Before that, I was wondering how many characters have Twitch IDs.\n"
   ]
  },
  {
   "cell_type": "code",
   "execution_count": 36,
   "id": "ae1a8330",
   "metadata": {
    "ExecuteTime": {
     "end_time": "2024-03-18T10:40:20.557250Z",
     "start_time": "2024-03-18T10:40:20.499283Z"
    }
   },
   "outputs": [
    {
     "data": {
      "text/html": [
       "<div>\n",
       "<style scoped>\n",
       "    .dataframe tbody tr th:only-of-type {\n",
       "        vertical-align: middle;\n",
       "    }\n",
       "\n",
       "    .dataframe tbody tr th {\n",
       "        vertical-align: top;\n",
       "    }\n",
       "\n",
       "    .dataframe thead th {\n",
       "        text-align: right;\n",
       "    }\n",
       "</style>\n",
       "<table border=\"1\" class=\"dataframe\">\n",
       "  <thead>\n",
       "    <tr style=\"text-align: right;\">\n",
       "      <th></th>\n",
       "      <th>all_rank</th>\n",
       "      <th>top_30</th>\n",
       "      <th>out_30</th>\n",
       "    </tr>\n",
       "  </thead>\n",
       "  <tbody>\n",
       "    <tr>\n",
       "      <th>all_class</th>\n",
       "      <td>0.273</td>\n",
       "      <td>0.625</td>\n",
       "      <td>0.272</td>\n",
       "    </tr>\n",
       "    <tr>\n",
       "      <th>Nec</th>\n",
       "      <td>0.283</td>\n",
       "      <td>0.690</td>\n",
       "      <td>0.281</td>\n",
       "    </tr>\n",
       "    <tr>\n",
       "      <th>except_Nec</th>\n",
       "      <td>0.271</td>\n",
       "      <td>0.604</td>\n",
       "      <td>0.271</td>\n",
       "    </tr>\n",
       "  </tbody>\n",
       "</table>\n",
       "</div>"
      ],
      "text/plain": [
       "            all_rank  top_30  out_30\n",
       "all_class      0.273   0.625   0.272\n",
       "Nec            0.283   0.690   0.281\n",
       "except_Nec     0.271   0.604   0.271"
      ]
     },
     "execution_count": 36,
     "metadata": {},
     "output_type": "execute_result"
    }
   ],
   "source": [
    "tmp = pd.DataFrame(columns = ['all_rank', 'top_30', 'out_30'])\n",
    "\n",
    "tmp['all_rank'] = [df['stream'].mean(), \n",
    "                   df[cond_Nec]['stream'].mean(), \n",
    "                   df[~cond_Nec]['stream'].mean()]\n",
    "\n",
    "tmp['top_30'] = [df[cond_30]['stream'].mean(), \n",
    "                      df[cond_Nec&cond_30]['stream'].mean(),\n",
    "                      df[~cond_Nec&cond_30]['stream'].mean()]\n",
    "\n",
    "tmp['out_30'] = [df[~cond_30]['stream'].mean(), \n",
    "                      df[cond_Nec&~cond_30]['stream'].mean(),\n",
    "                      df[~cond_Nec&~cond_30]['stream'].mean()]\n",
    "\n",
    "tmp.index = ['all_class', 'Nec', 'except_Nec']\n",
    "tmp.round(3)"
   ]
  },
  {
   "cell_type": "markdown",
   "id": "56a00cf1",
   "metadata": {},
   "source": [
    "Roughly speaking, the characters in the top 30 have a high rate of streaming.  \n",
    "And it seems that the rate of streaming in Necromancer is a little higher than others' total rate of streaming."
   ]
  },
  {
   "cell_type": "markdown",
   "id": "4f51445c",
   "metadata": {},
   "source": [
    "### 3-2-2. Correlation with `stream` column\n",
    "\n",
    "How much is streaming involved with the rank? We have to think about the relationship between the columns.  \n",
    "\n",
    "- Before analyzing, I think we should be noted that streaming itself does not affect rank in substance.   \n",
    "    Strictly speaking, there's no causal relationship between the two. Just because he's on the streaming doesn't mean he's doing better. In other words, some people just stream, and many people don't broadcast games and just play them.  \n",
    "\n",
    "- Also, the fact that they have a Twitch ID and that the 'twitch' column is 'not `null`' only indicates that they entered the information, but it does not necessarily mean that they actually stream the game.   \n",
    "    Therefore, to solve a problem with this data, we can only assume that 'having a twitch ID' means that they stream.\n",
    "\n",
    "But! the questioner wanna know regarding 'streaming'.  \n",
    "It is not expected to be related to the rank not that much, I will check it with the correlation coefficient.  \n",
    "\n",
    "#### correlation values "
   ]
  },
  {
   "cell_type": "code",
   "execution_count": 52,
   "id": "424b86ef",
   "metadata": {
    "ExecuteTime": {
     "end_time": "2024-03-18T10:58:55.521722Z",
     "start_time": "2024-03-18T10:58:55.423418Z"
    },
    "scrolled": true
   },
   "outputs": [
    {
     "data": {
      "text/html": [
       "<div>\n",
       "<style scoped>\n",
       "    .dataframe tbody tr th:only-of-type {\n",
       "        vertical-align: middle;\n",
       "    }\n",
       "\n",
       "    .dataframe tbody tr th {\n",
       "        vertical-align: top;\n",
       "    }\n",
       "\n",
       "    .dataframe thead th {\n",
       "        text-align: right;\n",
       "    }\n",
       "</style>\n",
       "<table border=\"1\" class=\"dataframe\">\n",
       "  <thead>\n",
       "    <tr style=\"text-align: right;\">\n",
       "      <th></th>\n",
       "      <th>All</th>\n",
       "      <th>Nec</th>\n",
       "      <th>except_Nec</th>\n",
       "    </tr>\n",
       "  </thead>\n",
       "  <tbody>\n",
       "    <tr>\n",
       "      <th>rank</th>\n",
       "      <td>-0.056</td>\n",
       "      <td>-0.074</td>\n",
       "      <td>-0.053</td>\n",
       "    </tr>\n",
       "    <tr>\n",
       "      <th>dead</th>\n",
       "      <td>0.035</td>\n",
       "      <td>0.041</td>\n",
       "      <td>0.034</td>\n",
       "    </tr>\n",
       "    <tr>\n",
       "      <th>online</th>\n",
       "      <td>-0.011</td>\n",
       "      <td>-0.023</td>\n",
       "      <td>-0.009</td>\n",
       "    </tr>\n",
       "    <tr>\n",
       "      <th>level</th>\n",
       "      <td>0.099</td>\n",
       "      <td>0.097</td>\n",
       "      <td>0.099</td>\n",
       "    </tr>\n",
       "    <tr>\n",
       "      <th>experience</th>\n",
       "      <td>0.113</td>\n",
       "      <td>0.119</td>\n",
       "      <td>0.113</td>\n",
       "    </tr>\n",
       "    <tr>\n",
       "      <th>challenges</th>\n",
       "      <td>0.186</td>\n",
       "      <td>0.208</td>\n",
       "      <td>0.184</td>\n",
       "    </tr>\n",
       "    <tr>\n",
       "      <th>stream</th>\n",
       "      <td>1.000</td>\n",
       "      <td>1.000</td>\n",
       "      <td>1.000</td>\n",
       "    </tr>\n",
       "  </tbody>\n",
       "</table>\n",
       "</div>"
      ],
      "text/plain": [
       "              All    Nec  except_Nec\n",
       "rank       -0.056 -0.074      -0.053\n",
       "dead        0.035  0.041       0.034\n",
       "online     -0.011 -0.023      -0.009\n",
       "level       0.099  0.097       0.099\n",
       "experience  0.113  0.119       0.113\n",
       "challenges  0.186  0.208       0.184\n",
       "stream      1.000  1.000       1.000"
      ]
     },
     "execution_count": 52,
     "metadata": {},
     "output_type": "execute_result"
    }
   ],
   "source": [
    "# We made a twitch column dummy with streaming.\n",
    "# df['stream'] = np.where(df['twitch'].isna(), 0, 1)\n",
    "\n",
    "# get the correlation \n",
    "a = df.corr(numeric_only = True)[['stream']].round(3)            # All classes\n",
    "b = df_Nec.corr(numeric_only = True)[['stream']].round(3)        # Necromancer only\n",
    "c = df[~cond_Nec].corr(numeric_only = True)[['stream']].round(3) # other classes\n",
    "\n",
    "tmp = pd.concat([a, b, c], axis = 1)\n",
    "tmp.columns = ['All', 'Nec', 'except_Nec']\n",
    "tmp"
   ]
  },
  {
   "cell_type": "markdown",
   "id": "13411888",
   "metadata": {},
   "source": [
    "#### [graph 3-4] Correlation heatmap with stream(0, 1) column"
   ]
  },
  {
   "cell_type": "code",
   "execution_count": 53,
   "id": "63ef69fb",
   "metadata": {
    "ExecuteTime": {
     "end_time": "2024-03-18T10:58:57.653290Z",
     "start_time": "2024-03-18T10:58:57.099112Z"
    },
    "scrolled": true
   },
   "outputs": [
    {
     "data": {
      "image/png": "[encoded data removed]",
      "text/plain": [
       "<Figure size 432x360 with 4 Axes>"
      ]
     },
     "metadata": {
      "needs_background": "light"
     },
     "output_type": "display_data"
    }
   ],
   "source": [
    "# dual subplots\n",
    "fig, axes = plt.subplots(1, 3, figsize=(6, 5))\n",
    "\n",
    "# [:-1] : `stream` index is excepted! \n",
    "# firts one\n",
    "sns.heatmap(data=tmp[['All']][:-1], cmap='bwr', square=True, vmin=-1, vmax=1, ax=axes[0], \n",
    "            annot=True, annot_kws={\"size\": 9}, fmt=\".2f\", cbar=False, yticklabels=True)\n",
    "axes[0].set_title('All class', fontsize=11, color='navy')\n",
    "\n",
    "# second one\n",
    "sns.heatmap(data=tmp[['Nec']][:-1], cmap='bwr', square=True, vmin=-1, vmax=1, ax=axes[1], \n",
    "            annot=True, annot_kws={\"size\": 9}, fmt=\".2f\", cbar=False, yticklabels=False)\n",
    "axes[1].set_title('Necromancers', fontsize=11, color='navy')\n",
    "\n",
    "# third one\n",
    "sns.heatmap(data=tmp[['except_Nec']][:-1], cmap='bwr', square=True, vmin=-1, vmax=1, ax=axes[2], \n",
    "            annot=True, annot_kws={\"size\": 9}, fmt=\".2f\", cbar=True, yticklabels=False)\n",
    "axes[2].set_title('Except Necromancers', fontsize=11, color='navy')\n",
    "\n",
    "# layouts\n",
    "plt.suptitle(t = 'Correlation with stream column', fontsize = 14)\n",
    "\n",
    "plt.tight_layout()\n",
    "plt.show()"
   ]
  },
  {
   "cell_type": "markdown",
   "id": "1d66acba",
   "metadata": {},
   "source": [
    "It doesn't seem to have many relationships with `Stream`. (Honestly, the insight of this correlation analyzing is really important with the next step, `'3-3-1'`.) All characters’ is -0.056, and Necromancers’ is -0.074 with `rank`. They have a small negative correlation.\n",
    "\n",
    "So I get the numbers for the Necromancers, just like the above methods."
   ]
  },
  {
   "cell_type": "markdown",
   "id": "35da3a6f",
   "metadata": {},
   "source": [
    "### 3-2-3. Necromancers' rank distribution by stream\n",
    "Let’s see their rank distribution, by ladders. I plotted a box plot first.  "
   ]
  },
  {
   "cell_type": "markdown",
   "id": "c69a6779",
   "metadata": {},
   "source": [
    "#### [graph 3-5] Necromancers rank boxplot by each ladder with `stream` variation\n",
    "It's in the same context with [graph 3-2]. But this is divided by `stream` column."
   ]
  },
  {
   "cell_type": "code",
   "execution_count": 59,
   "id": "f8f2ccbb",
   "metadata": {
    "ExecuteTime": {
     "end_time": "2024-03-18T11:01:12.254543Z",
     "start_time": "2024-03-18T11:01:11.726882Z"
    },
    "scrolled": true
   },
   "outputs": [
    {
     "data": {
      "image/png": "[encoded data removed]",
      "text/plain": [
       "<Figure size 360x360 with 1 Axes>"
      ]
     },
     "metadata": {
      "needs_background": "light"
     },
     "output_type": "display_data"
    }
   ],
   "source": [
    "# Necromancers rank boxplot by ladder, with stream \n",
    "plt.figure(figsize=(5, 5))\n",
    "plt.xticks(rotation = 45, fontsize = 10)\n",
    "\n",
    "greypurple = dict({0:'grey', 1:'#6441a5'}) # stream 0, 1 colordictionary!\n",
    "\n",
    "sns.boxplot(data = df_Nec.sort_values(by = 'ladder'), x = 'ladder', y = 'rank', \n",
    "            hue = 'stream', palette = greypurple, linewidth = 0.5,\n",
    "            notch = True, medianprops = ({'color' : 'white'}), \n",
    "            showmeans = True, meanprops={'marker':'.', 'markerfacecolor':'red', 'markeredgecolor':'red'}).invert_yaxis()\n",
    "plt.grid(linestyle = '--', linewidth = 0.5, color = 'gray', axis = 'y')\n",
    "plt.show()"
   ]
  },
  {
   "cell_type": "markdown",
   "id": "a54e4987",
   "metadata": {},
   "source": [
    "0 means not streaming players, and 1 means streaming players.  \n",
    "It isn't large that much but there are slight differences between Twitch streaming players and non-streaming players.  \n",
    "\n",
    "Follows are the exact figures:\n",
    "\n",
    "#### Necromancers number, mean of rank, standard deviation of rank by ladder and stream"
   ]
  },
  {
   "cell_type": "code",
   "execution_count": 60,
   "id": "b793299f",
   "metadata": {
    "ExecuteTime": {
     "end_time": "2024-03-18T11:02:27.255209Z",
     "start_time": "2024-03-18T11:02:27.149135Z"
    }
   },
   "outputs": [
    {
     "data": {
      "text/html": [
       "<div>\n",
       "<style scoped>\n",
       "    .dataframe tbody tr th:only-of-type {\n",
       "        vertical-align: middle;\n",
       "    }\n",
       "\n",
       "    .dataframe tbody tr th {\n",
       "        vertical-align: top;\n",
       "    }\n",
       "\n",
       "    .dataframe thead tr th {\n",
       "        text-align: left;\n",
       "    }\n",
       "\n",
       "    .dataframe thead tr:last-of-type th {\n",
       "        text-align: right;\n",
       "    }\n",
       "</style>\n",
       "<table border=\"1\" class=\"dataframe\">\n",
       "  <thead>\n",
       "    <tr>\n",
       "      <th></th>\n",
       "      <th colspan=\"2\" halign=\"left\">count</th>\n",
       "      <th colspan=\"2\" halign=\"left\">mean</th>\n",
       "      <th colspan=\"2\" halign=\"left\">std</th>\n",
       "    </tr>\n",
       "    <tr>\n",
       "      <th>stream</th>\n",
       "      <th>0</th>\n",
       "      <th>1</th>\n",
       "      <th>0</th>\n",
       "      <th>1</th>\n",
       "      <th>0</th>\n",
       "      <th>1</th>\n",
       "    </tr>\n",
       "    <tr>\n",
       "      <th>ladder</th>\n",
       "      <th></th>\n",
       "      <th></th>\n",
       "      <th></th>\n",
       "      <th></th>\n",
       "      <th></th>\n",
       "      <th></th>\n",
       "    </tr>\n",
       "  </thead>\n",
       "  <tbody>\n",
       "    <tr>\n",
       "      <th>Harbinger</th>\n",
       "      <td>833</td>\n",
       "      <td>374</td>\n",
       "      <td>7220.38</td>\n",
       "      <td>6826.26</td>\n",
       "      <td>4371.08</td>\n",
       "      <td>4579.35</td>\n",
       "    </tr>\n",
       "    <tr>\n",
       "      <th>Hardcore Harbinger</th>\n",
       "      <td>1334</td>\n",
       "      <td>765</td>\n",
       "      <td>7024.24</td>\n",
       "      <td>6394.28</td>\n",
       "      <td>4262.05</td>\n",
       "      <td>4277.29</td>\n",
       "    </tr>\n",
       "    <tr>\n",
       "      <th>SSF Harbinger</th>\n",
       "      <td>1409</td>\n",
       "      <td>307</td>\n",
       "      <td>7911.71</td>\n",
       "      <td>7089.18</td>\n",
       "      <td>4243.68</td>\n",
       "      <td>4307.04</td>\n",
       "    </tr>\n",
       "    <tr>\n",
       "      <th>SSF Harbinger HC</th>\n",
       "      <td>1499</td>\n",
       "      <td>556</td>\n",
       "      <td>7227.97</td>\n",
       "      <td>6659.03</td>\n",
       "      <td>4301.46</td>\n",
       "      <td>4386.10</td>\n",
       "    </tr>\n",
       "  </tbody>\n",
       "</table>\n",
       "</div>"
      ],
      "text/plain": [
       "                   count          mean               std         \n",
       "stream                 0    1        0        1        0        1\n",
       "ladder                                                           \n",
       "Harbinger            833  374  7220.38  6826.26  4371.08  4579.35\n",
       "Hardcore Harbinger  1334  765  7024.24  6394.28  4262.05  4277.29\n",
       "SSF Harbinger       1409  307  7911.71  7089.18  4243.68  4307.04\n",
       "SSF Harbinger HC    1499  556  7227.97  6659.03  4301.46  4386.10"
      ]
     },
     "execution_count": 60,
     "metadata": {},
     "output_type": "execute_result"
    }
   ],
   "source": [
    "pd.pivot_table(data = df[(cond_Nec)], values = 'rank', index = 'ladder', columns = 'stream',\n",
    "               aggfunc = ['count','mean', 'std']).round(2)"
   ]
  },
  {
   "cell_type": "markdown",
   "id": "330ea625",
   "metadata": {},
   "source": [
    "### 3-2-4. Exploring character distribution across various Pivot tables  \n",
    "The italicized text indicates the overall population of **the table**.  \n",
    "\n",
    "#### (1) Number of Necromancers in the *top 30* by stream and ladder"
   ]
  },
  {
   "cell_type": "code",
   "execution_count": 70,
   "id": "eb61b7de",
   "metadata": {
    "ExecuteTime": {
     "end_time": "2024-03-18T11:10:24.255200Z",
     "start_time": "2024-03-18T11:10:24.222527Z"
    }
   },
   "outputs": [
    {
     "data": {
      "text/html": [
       "<div>\n",
       "<style scoped>\n",
       "    .dataframe tbody tr th:only-of-type {\n",
       "        vertical-align: middle;\n",
       "    }\n",
       "\n",
       "    .dataframe tbody tr th {\n",
       "        vertical-align: top;\n",
       "    }\n",
       "\n",
       "    .dataframe thead th {\n",
       "        text-align: right;\n",
       "    }\n",
       "</style>\n",
       "<table border=\"1\" class=\"dataframe\">\n",
       "  <thead>\n",
       "    <tr style=\"text-align: right;\">\n",
       "      <th></th>\n",
       "      <th>not_streaming_Nec</th>\n",
       "      <th>streaming_Nec</th>\n",
       "      <th>total_top30_Nec</th>\n",
       "      <th>streaming_ratio</th>\n",
       "    </tr>\n",
       "    <tr>\n",
       "      <th>ladder</th>\n",
       "      <th></th>\n",
       "      <th></th>\n",
       "      <th></th>\n",
       "      <th></th>\n",
       "    </tr>\n",
       "  </thead>\n",
       "  <tbody>\n",
       "    <tr>\n",
       "      <th>Harbinger</th>\n",
       "      <td>0</td>\n",
       "      <td>6</td>\n",
       "      <td>6</td>\n",
       "      <td>1.00</td>\n",
       "    </tr>\n",
       "    <tr>\n",
       "      <th>Hardcore Harbinger</th>\n",
       "      <td>1</td>\n",
       "      <td>5</td>\n",
       "      <td>6</td>\n",
       "      <td>0.83</td>\n",
       "    </tr>\n",
       "    <tr>\n",
       "      <th>SSF Harbinger</th>\n",
       "      <td>4</td>\n",
       "      <td>2</td>\n",
       "      <td>6</td>\n",
       "      <td>0.33</td>\n",
       "    </tr>\n",
       "    <tr>\n",
       "      <th>SSF Harbinger HC</th>\n",
       "      <td>4</td>\n",
       "      <td>7</td>\n",
       "      <td>11</td>\n",
       "      <td>0.64</td>\n",
       "    </tr>\n",
       "  </tbody>\n",
       "</table>\n",
       "</div>"
      ],
      "text/plain": [
       "                    not_streaming_Nec  streaming_Nec  total_top30_Nec  \\\n",
       "ladder                                                                  \n",
       "Harbinger                           0              6                6   \n",
       "Hardcore Harbinger                  1              5                6   \n",
       "SSF Harbinger                       4              2                6   \n",
       "SSF Harbinger HC                    4              7               11   \n",
       "\n",
       "                    streaming_ratio  \n",
       "ladder                               \n",
       "Harbinger                      1.00  \n",
       "Hardcore Harbinger             0.83  \n",
       "SSF Harbinger                  0.33  \n",
       "SSF Harbinger HC               0.64  "
      ]
     },
     "execution_count": 70,
     "metadata": {},
     "output_type": "execute_result"
    }
   ],
   "source": [
    "# Number of \"Necromancers in the top 30\" by ladder and stream\n",
    "# \"How many top 30 Necromancers are streaming?\"\n",
    "a = pd.pivot_table(data = df[(cond_Nec)&(cond_30)], values = 'id', \n",
    "               index = 'ladder', columns = 'stream', aggfunc = 'count', fill_value = 0)\n",
    "a.columns = ['not_streaming_Nec', 'streaming_Nec']\n",
    "b = df[(cond_Nec)&(cond_30)].groupby('ladder')[['id']].count()\n",
    "b.columns = ['total_top30_Nec']\n",
    "c = pd.concat([a, b], axis = 1)\n",
    "c['streaming_ratio'] = round(c.iloc[:, 1] / c.iloc[:, 2], 2)\n",
    "c"
   ]
  },
  {
   "cell_type": "markdown",
   "id": "c7bc7575",
   "metadata": {},
   "source": [
    "There are no Necromancers who don't stream in the top 30. "
   ]
  },
  {
   "cell_type": "markdown",
   "id": "9f5f2ffe",
   "metadata": {},
   "source": [
    "#### (2) Number of the top 30 characters which are *streaming Necromancers* by ladder"
   ]
  },
  {
   "cell_type": "code",
   "execution_count": 71,
   "id": "97f836fa",
   "metadata": {
    "ExecuteTime": {
     "end_time": "2024-03-18T11:12:03.718256Z",
     "start_time": "2024-03-18T11:12:03.681444Z"
    }
   },
   "outputs": [
    {
     "data": {
      "text/html": [
       "<div>\n",
       "<style scoped>\n",
       "    .dataframe tbody tr th:only-of-type {\n",
       "        vertical-align: middle;\n",
       "    }\n",
       "\n",
       "    .dataframe tbody tr th {\n",
       "        vertical-align: top;\n",
       "    }\n",
       "\n",
       "    .dataframe thead th {\n",
       "        text-align: right;\n",
       "    }\n",
       "</style>\n",
       "<table border=\"1\" class=\"dataframe\">\n",
       "  <thead>\n",
       "    <tr style=\"text-align: right;\">\n",
       "      <th></th>\n",
       "      <th>top30</th>\n",
       "      <th>out30</th>\n",
       "      <th>total</th>\n",
       "      <th>top30_ratio</th>\n",
       "    </tr>\n",
       "    <tr>\n",
       "      <th>ladder</th>\n",
       "      <th></th>\n",
       "      <th></th>\n",
       "      <th></th>\n",
       "      <th></th>\n",
       "    </tr>\n",
       "  </thead>\n",
       "  <tbody>\n",
       "    <tr>\n",
       "      <th>Harbinger</th>\n",
       "      <td>6</td>\n",
       "      <td>368</td>\n",
       "      <td>374</td>\n",
       "      <td>0.016043</td>\n",
       "    </tr>\n",
       "    <tr>\n",
       "      <th>Hardcore Harbinger</th>\n",
       "      <td>5</td>\n",
       "      <td>760</td>\n",
       "      <td>765</td>\n",
       "      <td>0.006536</td>\n",
       "    </tr>\n",
       "    <tr>\n",
       "      <th>SSF Harbinger</th>\n",
       "      <td>2</td>\n",
       "      <td>305</td>\n",
       "      <td>307</td>\n",
       "      <td>0.006515</td>\n",
       "    </tr>\n",
       "    <tr>\n",
       "      <th>SSF Harbinger HC</th>\n",
       "      <td>7</td>\n",
       "      <td>549</td>\n",
       "      <td>556</td>\n",
       "      <td>0.012590</td>\n",
       "    </tr>\n",
       "  </tbody>\n",
       "</table>\n",
       "</div>"
      ],
      "text/plain": [
       "                    top30  out30  total  top30_ratio\n",
       "ladder                                              \n",
       "Harbinger               6    368    374     0.016043\n",
       "Hardcore Harbinger      5    760    765     0.006536\n",
       "SSF Harbinger           2    305    307     0.006515\n",
       "SSF Harbinger HC        7    549    556     0.012590"
      ]
     },
     "execution_count": 71,
     "metadata": {},
     "output_type": "execute_result"
    }
   ],
   "source": [
    "# All \"streaming Necromancers\" by ladder and rank\n",
    "# \"How many streaming Necromancers are in there?\"\n",
    "a = pd.pivot_table(data = df[(cond_Nec)&(cond_tw)], values = 'id', columns = cond_30,\n",
    "              index = 'ladder', aggfunc = 'count')\n",
    "b = pd.pivot_table(data = df[(cond_Nec)&(cond_tw)], values = 'id',\n",
    "              index = 'ladder', aggfunc = 'count')\n",
    "\n",
    "c = pd.concat([a,b], axis = 1)\n",
    "c.columns = ['out30', 'top30', 'total']\n",
    "c['top30_ratio'] = c['top30']/c['total']\n",
    "c[['top30', 'out30', 'total', 'top30_ratio']] # in a different order"
   ]
  },
  {
   "cell_type": "markdown",
   "id": "a269aa7e",
   "metadata": {},
   "source": [
    "#### (3) Number of *streaming characters* by class(Necromancer or not) and ladder"
   ]
  },
  {
   "cell_type": "code",
   "execution_count": 62,
   "id": "ca97aa6d",
   "metadata": {
    "ExecuteTime": {
     "end_time": "2024-03-18T11:05:53.334037Z",
     "start_time": "2024-03-18T11:05:53.230487Z"
    }
   },
   "outputs": [
    {
     "data": {
      "text/html": [
       "<div>\n",
       "<style scoped>\n",
       "    .dataframe tbody tr th:only-of-type {\n",
       "        vertical-align: middle;\n",
       "    }\n",
       "\n",
       "    .dataframe tbody tr th {\n",
       "        vertical-align: top;\n",
       "    }\n",
       "\n",
       "    .dataframe thead th {\n",
       "        text-align: right;\n",
       "    }\n",
       "</style>\n",
       "<table border=\"1\" class=\"dataframe\">\n",
       "  <thead>\n",
       "    <tr style=\"text-align: right;\">\n",
       "      <th></th>\n",
       "      <th>Nec</th>\n",
       "      <th>others</th>\n",
       "      <th>total</th>\n",
       "      <th>Nec_ratio</th>\n",
       "    </tr>\n",
       "    <tr>\n",
       "      <th>ladder</th>\n",
       "      <th></th>\n",
       "      <th></th>\n",
       "      <th></th>\n",
       "      <th></th>\n",
       "    </tr>\n",
       "  </thead>\n",
       "  <tbody>\n",
       "    <tr>\n",
       "      <th>Harbinger</th>\n",
       "      <td>374</td>\n",
       "      <td>4090</td>\n",
       "      <td>4464</td>\n",
       "      <td>0.083781</td>\n",
       "    </tr>\n",
       "    <tr>\n",
       "      <th>Hardcore Harbinger</th>\n",
       "      <td>765</td>\n",
       "      <td>4687</td>\n",
       "      <td>5452</td>\n",
       "      <td>0.140315</td>\n",
       "    </tr>\n",
       "    <tr>\n",
       "      <th>SSF Harbinger</th>\n",
       "      <td>307</td>\n",
       "      <td>2354</td>\n",
       "      <td>2661</td>\n",
       "      <td>0.115370</td>\n",
       "    </tr>\n",
       "    <tr>\n",
       "      <th>SSF Harbinger HC</th>\n",
       "      <td>556</td>\n",
       "      <td>3167</td>\n",
       "      <td>3723</td>\n",
       "      <td>0.149342</td>\n",
       "    </tr>\n",
       "  </tbody>\n",
       "</table>\n",
       "</div>"
      ],
      "text/plain": [
       "                    Nec  others  total  Nec_ratio\n",
       "ladder                                           \n",
       "Harbinger           374    4090   4464   0.083781\n",
       "Hardcore Harbinger  765    4687   5452   0.140315\n",
       "SSF Harbinger       307    2354   2661   0.115370\n",
       "SSF Harbinger HC    556    3167   3723   0.149342"
      ]
     },
     "execution_count": 62,
     "metadata": {},
     "output_type": "execute_result"
    }
   ],
   "source": [
    "# All \"Streaming characters\" by ladder and class\n",
    "# \"How many streaming characters are Necromancers?\"\n",
    "a = pd.pivot_table(data = df[(cond_tw)], values = 'id', columns = cond_Nec,\n",
    "              index = 'ladder', aggfunc = 'count')\n",
    "b = pd.pivot_table(data = df[(cond_tw)], values = 'id',\n",
    "              index = 'ladder', aggfunc = 'count')\n",
    "\n",
    "c = pd.concat([a,b], axis = 1)\n",
    "c.columns = ['others', 'Nec', 'total']\n",
    "c['Nec_ratio'] = c['Nec']/c['total']\n",
    "c[['Nec', 'others', 'total', 'Nec_ratio']]"
   ]
  },
  {
   "cell_type": "markdown",
   "id": "24b9497b",
   "metadata": {},
   "source": [
    "#### [graph 3-7] Visualizing each classes characters in the top 30 by Twitch column\n",
    "This help us compare the number by class, and twitch columns. (Necromancers are more than others. Maybe the questioner gave us the question about Necromancer 🤓)"
   ]
  },
  {
   "cell_type": "code",
   "execution_count": 96,
   "id": "b4488a31",
   "metadata": {
    "ExecuteTime": {
     "end_time": "2024-03-18T12:26:25.271507Z",
     "start_time": "2024-03-18T12:26:24.879822Z"
    }
   },
   "outputs": [
    {
     "data": {
      "image/png": "[encoded data removed]",
      "text/plain": [
       "<Figure size 576x288 with 1 Axes>"
      ]
     },
     "metadata": {
      "needs_background": "light"
     },
     "output_type": "display_data"
    }
   ],
   "source": [
    "# characters in top 30 who has Twitch id by class\n",
    "df_top30cl = df[cond_30].pivot_table(columns = 'stream', index = 'class',\n",
    "                                aggfunc = 'count', fill_value = 0)['id']\n",
    "greytwitchpurple = ['grey', '#6441a5']\n",
    "\n",
    "# plt.rcParams[\"figure.figsize\"] = (8, 4)\n",
    "# df_top30cl.reset_index().plot(kind = 'bar', x = 'class', color = ['grey', '#6441a5']) # you can write with `color = greypurple`\n",
    "# plt.title('Characters who are in the top 30 by class and stream column')\n",
    "# plt.grid(linestyle = '--', linewidth = 0.3, color = 'gray')\n",
    "# plt.yticks(range(0, 21, 2))\n",
    "# plt.show()\n",
    "\n",
    "# plotting function\n",
    "def plot_character_count(df, title, colors, ranges):\n",
    "    plt.rcParams[\"figure.figsize\"] = (8, 4)\n",
    "    ax = df.plot(kind = 'bar', x = 'class', width = 0.75, color = colors)\n",
    "    plt.grid(linestyle = '--', linewidth = 0.3, color = 'gray', axis = 'y')  # grid only y axis\n",
    "    plt.yticks(ranges)  # y ticks set\n",
    "    plt.title(title)\n",
    "    plt.show()\n",
    "\n",
    "plot_character_count(df_top30cl.reset_index(), 'Characters who are in the top 30 by class and stream column', greytwitchpurple, range(0, 10, 1))"
   ]
  },
  {
   "cell_type": "markdown",
   "id": "bcb8e2ab",
   "metadata": {},
   "source": [
    "#### [graph 3-8] Visualizing each classes characters in the top 30 by Twitch column and ladder\n",
    "How many characters are in the top 30 by Twitch stream, class and ladder? We can compare them.  \n",
    "(There is no class without an id in the top 30.)"
   ]
  },
  {
   "cell_type": "markdown",
   "id": "38d91ede",
   "metadata": {},
   "source": [
    "트위치 스트리밍별, 래더별 30위 안에들은 캐릭터 수들을 클래스 별로 나타낸다.\n",
    "트위치 스트리밍은 바 두 개로, 래더는 컬러로 누적을, 그리고 x축에 클래스를 적는다."
   ]
  },
  {
   "cell_type": "code",
   "execution_count": 92,
   "id": "c32ae37a",
   "metadata": {
    "ExecuteTime": {
     "end_time": "2024-03-18T12:02:22.868245Z",
     "start_time": "2024-03-18T12:02:21.881345Z"
    },
    "scrolled": true
   },
   "outputs": [
    {
     "data": {
      "image/png": "[encoded data removed]",
      "text/plain": [
       "<Figure size 576x288 with 1 Axes>"
      ]
     },
     "metadata": {
      "needs_background": "light"
     },
     "output_type": "display_data"
    },
    {
     "data": {
      "image/png": "[encoded data removed]",
      "text/plain": [
       "<Figure size 576x288 with 1 Axes>"
      ]
     },
     "metadata": {
      "needs_background": "light"
     },
     "output_type": "display_data"
    }
   ],
   "source": [
    "# character number in top 30 who has Twitch id by class\n",
    "df_top30cl_tw = df[cond_30&cond_tw].pivot_table(columns = 'ladder', index = 'class',\n",
    "                                aggfunc = 'count', fill_value = 0)['id']\n",
    "# character number in top 30 who hasn't Twitch id by class\n",
    "df_top30cl_ntw = df[cond_30&(~cond_tw)].pivot_table(columns = 'ladder', index = 'class',\n",
    "                                aggfunc = 'count', fill_value = 0)['id']\n",
    "\n",
    "# palette\n",
    "purplemint = ['#6441a5', '#9681EB', '#45CFDD', '#A7EDE7']\n",
    "brownmint = ['#825959', '#A07676', '#45CFDD', '#A7EDE7']\n",
    "\n",
    "# plotting function\n",
    "def plot_character_count(df, title, colors, ranges):\n",
    "    ax = df.plot(kind = 'bar', x = 'class', width = 0.75, color = colors)\n",
    "    plt.grid(linestyle = '--', linewidth = 0.3, color = 'gray', axis = 'y')  # grid only y axis\n",
    "    plt.yticks(ranges)  # y ticks set\n",
    "    plt.title(title)\n",
    "    plt.show()\n",
    "\n",
    "# Twitch streaming characters\n",
    "plot_character_count(df_top30cl_tw.reset_index(), 'Twitch streaming characters', purplemint, range(0, 10, 1))\n",
    "\n",
    "# Not Twitch streaming characters\n",
    "plot_character_count(df_top30cl_ntw.reset_index(), 'Not Twitch streaming characters', brownmint, range(0, 10, 1))"
   ]
  },
  {
   "cell_type": "markdown",
   "id": "8519f2c1",
   "metadata": {},
   "source": [
    "## 3-3. Care of stream\n",
    "---\n",
    "I'll show Bayesian probability methods and machine learning probabilities in this chapter.\n",
    "\n",
    "- Before them, I quickly show the probability by multiplying (`3-3-1`).  \n",
    "- And the latter one(`3-3-2`) is similar to `3-1-2`. Please enjoy the Bayes logic that presented two variables in different codes and judge about the `3-1-2`.  \n",
    "- And finally, I'll learn a simple model and predict the `proba` from it."
   ]
  },
  {
   "cell_type": "markdown",
   "id": "1aaa54e8",
   "metadata": {},
   "source": [
    "### 3-3-1. The Necromancer ratio of Among the top 30 * \"Stream or not\" ratio * probability when we are in the top 30\n",
    "\n",
    "Let's multiply it by the ratio, as we usually do with empirical probability.  "
   ]
  },
  {
   "cell_type": "code",
   "execution_count": 17,
   "id": "0231c859",
   "metadata": {
    "ExecuteTime": {
     "end_time": "2024-03-15T12:27:20.600324Z",
     "start_time": "2024-03-15T12:27:20.580205Z"
    }
   },
   "outputs": [],
   "source": [
    "# in top 30 classes ratio by using broadcasting\n",
    "total30prob = df[cond_30].groupby(by = 'ladder')['id'].count() / df.groupby(by = 'ladder')['id'].count()\n",
    "# print(total30prob, '\\n')\n",
    "\n",
    "# each ratio of twitch users\n",
    "twratio = df[(cond_30)&(cond_Nec)&(cond_tw)].groupby(by = 'ladder')['id'].count()/30\n",
    "# print(twratio, '\\n')\n",
    "\n",
    "# each ratio of not twitch users\n",
    "ntwratio = df[(cond_30)&(cond_Nec)&(~cond_tw)].groupby(by = 'ladder')['id'].count()/30\n",
    "# print(ntwratio)"
   ]
  },
  {
   "cell_type": "markdown",
   "id": "1ea9ca0d",
   "metadata": {},
   "source": [
    "#### (1) getting the probability by method 1"
   ]
  },
  {
   "cell_type": "code",
   "execution_count": 18,
   "id": "481a8f18",
   "metadata": {
    "ExecuteTime": {
     "end_time": "2024-03-15T12:27:20.616490Z",
     "start_time": "2024-03-15T12:27:20.604266Z"
    }
   },
   "outputs": [
    {
     "name": "stdout",
     "output_type": "stream",
     "text": [
      "* Necromancers, twitch users in top30 ratio X top 30 probability\n",
      "(%) ladder\n",
      "Harbinger             0.040220\n",
      "Hardcore Harbinger    0.033546\n",
      "SSF Harbinger         0.013350\n",
      "SSF Harbinger HC      0.046754\n",
      "Name: id, dtype: float64\n",
      "* Necromancers, not twitch users in top30 ratio X top 30 probability\n",
      "ladder\n",
      "Harbinger                  NaN\n",
      "Hardcore Harbinger    0.006709\n",
      "SSF Harbinger         0.026700\n",
      "SSF Harbinger HC      0.026717\n",
      "Name: id, dtype: float64\n"
     ]
    }
   ],
   "source": [
    "# multiplying and show\n",
    "pd.set_option('display.float_format', None)\n",
    "print(\"* Necromancers, twitch users in top30 ratio X top 30 probability\")\n",
    "print('(%)', total30prob*twratio*100)\n",
    "print(\"* Necromancers, not twitch users in top30 ratio X top 30 probability\")\n",
    "print(total30prob*ntwratio*100)"
   ]
  },
  {
   "cell_type": "code",
   "execution_count": 19,
   "id": "7de7209e",
   "metadata": {
    "ExecuteTime": {
     "end_time": "2024-03-15T12:27:20.632835Z",
     "start_time": "2024-03-15T12:27:20.620415Z"
    }
   },
   "outputs": [
    {
     "data": {
      "text/plain": [
       "1.0"
      ]
     },
     "execution_count": 19,
     "metadata": {},
     "output_type": "execute_result"
    }
   ],
   "source": [
    "# is there no Necromancers in the top 30 who are not streaming?! - Yes.\n",
    "df[(cond_30)&(cond_Nec)&(df['ladder'] == 'Harbinger')]['stream'].mean()"
   ]
  },
  {
   "cell_type": "markdown",
   "id": "50538b80",
   "metadata": {},
   "source": [
    "#### [Answer] method 1 result: \n",
    "As we saw in (2) of Chapter 3-2 above, there are no Necromancers who didn't do twitch streaming in Harbinger Ladder.  \n",
    "And the probability is almost higher when we stream to twitch, but in SSF Harbinger mode isn't.  \n",
    "\n",
    "##### values get from twitch users\n",
    "    ladder\n",
    "    Harbinger             0.040220\n",
    "    Hardcore Harbinger    0.033546\n",
    "    SSF Harbinger         0.013350\n",
    "    SSF Harbinger HC      0.046754\n",
    "##### values get from not twitch users\n",
    "    ladder\n",
    "    Harbinger                  NaN\n",
    "    Hardcore Harbinger    0.006709\n",
    "    SSF Harbinger         0.026700\n",
    "    SSF Harbinger HC      0.026717"
   ]
  },
  {
   "cell_type": "markdown",
   "id": "0be0932f",
   "metadata": {},
   "source": [
    "\n",
    "### 3-3-2. Rate Among the Necromancers and the streamers (Bayesian probability)\n",
    "\n",
    "Is there a relationship between `Class` and `Twitch` streaming? No. We checked it in `3-2-2`.  <br>\n",
    "Even if there's a meaningful correlation value, at least, we must treat them as independent variables. Because there's no duty or coerciveness about __streaming or choosing a class.__  \n",
    "\n",
    "\n",
    "#### (1) getting the probability by method 2 (same as 3-1-2)\n",
    "The values are different depending on streaming or not. So I divided them the twitch users or not.  \n",
    "As you know, each ladder doesn't have an exact number of 15000 IDs.  \n",
    "There's two variables, so I showed the values with a frame, like this.  \n",
    "The value's unit is the percentage.  \n",
    "\n",
    "| ---|Top 30|Out 30|\n",
    "|---|---|---|\n",
    "|Stream|$v1$|$v2$|\n",
    "|Not Stream|$v3$|$v4$|"
   ]
  },
  {
   "cell_type": "code",
   "execution_count": 20,
   "id": "3d29234a",
   "metadata": {
    "ExecuteTime": {
     "end_time": "2024-03-15T12:27:20.714719Z",
     "start_time": "2024-03-15T12:27:20.640974Z"
    },
    "code_folding": []
   },
   "outputs": [
    {
     "ename": "NameError",
     "evalue": "name 'ladders' is not defined",
     "output_type": "error",
     "traceback": [
      "\u001b[0;31m---------------------------------------------------------------------------\u001b[0m",
      "\u001b[0;31mNameError\u001b[0m                                 Traceback (most recent call last)",
      "Input \u001b[0;32mIn [20]\u001b[0m, in \u001b[0;36m<cell line: 13>\u001b[0;34m()\u001b[0m\n\u001b[1;32m     10\u001b[0m prob_TNS_byladder \u001b[38;5;241m=\u001b[39m []\n\u001b[1;32m     11\u001b[0m prob_TNs_byladder \u001b[38;5;241m=\u001b[39m []\n\u001b[0;32m---> 13\u001b[0m \u001b[38;5;28;01mfor\u001b[39;00m i \u001b[38;5;129;01min\u001b[39;00m \u001b[43mladders\u001b[49m:\n\u001b[1;32m     14\u001b[0m     \n\u001b[1;32m     15\u001b[0m     \u001b[38;5;66;03m# prior probability\u001b[39;00m\n\u001b[1;32m     16\u001b[0m     cond_ladder \u001b[38;5;241m=\u001b[39m (df[\u001b[38;5;124m'\u001b[39m\u001b[38;5;124mladder\u001b[39m\u001b[38;5;124m'\u001b[39m]\u001b[38;5;241m==\u001b[39mi)\n\u001b[1;32m     17\u001b[0m     ladderlen \u001b[38;5;241m=\u001b[39m \u001b[38;5;28mlen\u001b[39m(df[(df[\u001b[38;5;124m'\u001b[39m\u001b[38;5;124mladder\u001b[39m\u001b[38;5;124m'\u001b[39m]\u001b[38;5;241m==\u001b[39mi)])\n",
      "\u001b[0;31mNameError\u001b[0m: name 'ladders' is not defined"
     ]
    }
   ],
   "source": [
    "# Don't forget condition list!\n",
    "# cond_Nec = (df['class']=='Necromancer')\n",
    "# cond_tw = (df['stream']==1)\n",
    "# cond_30 = (df['rank']<=30)\n",
    "\n",
    "# ladders = list(df['ladder'].unique()) # ladder list for iterating\n",
    "# ladders.sort()\n",
    "\n",
    "\n",
    "prob_TNS_byladder = []\n",
    "prob_TNs_byladder = []\n",
    "\n",
    "for i in ladders:\n",
    "    \n",
    "    # prior probability\n",
    "    cond_ladder = (df['ladder']==i)\n",
    "    ladderlen = len(df[(df['ladder']==i)])\n",
    "    TOP = 30 / ladderlen\n",
    "    OUT = (ladderlen - 30) / ladderlen\n",
    "    \n",
    "    # the condition about 'Necromancer'\n",
    "    # for convenience, 'Not Necromancer' condition is presented with a lower n.\n",
    "    p_NT = df[cond_Nec&cond_30&cond_ladder]['id'].count() / 30\n",
    "    p_nT = df[~cond_Nec&cond_30&cond_ladder]['id'].count() / 30\n",
    "\n",
    "    p_NO = df[cond_Nec&~cond_30&cond_ladder]['id'].count() / (ladderlen-30)\n",
    "    p_nO = df[~cond_Nec&~cond_30&cond_ladder]['id'].count() / (ladderlen-30)\n",
    "\n",
    "    # the condition about 'Stream'\n",
    "    # for convenience, 'Not Streaming' condition is presented with a lower s.\n",
    "    p_ST = df[cond_tw&cond_30&cond_ladder]['id'].count() / 30\n",
    "    p_sT = df[~cond_tw&cond_30&cond_ladder]['id'].count() / 30\n",
    "\n",
    "    p_SO = df[cond_tw&~cond_30&cond_ladder]['id'].count() / (ladderlen-30)\n",
    "    p_sO = df[~cond_tw&~cond_30&cond_ladder]['id'].count() / (ladderlen-30)\n",
    "\n",
    "    # Top 30 when 'Necromancer' and 'Streaming', and these's sum will be the 'whole space'.\n",
    "    NS_TOP = p_NT*p_ST*TOP\n",
    "    NS_OUT = p_NO*p_SO*OUT\n",
    "    # Make a probability \n",
    "    prob_top = NS_TOP/(NS_TOP+NS_OUT)\n",
    "    prob_out = NS_OUT/(NS_TOP+NS_OUT)\n",
    "    prob_TNS_byladder.append([prob_top, prob_out])\n",
    "    \n",
    "    # Top 30. when 'Necromancer' and Not 'Streaming'\n",
    "    Ns_TOP = p_NT*p_sT*TOP\n",
    "    Ns_OUT = p_NO*p_sO*OUT\n",
    "    # Make a probability \n",
    "    prob_top = Ns_TOP/(Ns_TOP+Ns_OUT)\n",
    "    prob_out = Ns_OUT/(Ns_TOP+Ns_OUT)\n",
    "    prob_TNs_byladder.append([prob_top, prob_out])\n",
    "\n",
    "df_prob_TNS_byladder = pd.DataFrame(data = prob_TNS_byladder, index = ladders, columns = ['Top30', 'Out30'])\n",
    "df_prob_TNs_byladder = pd.DataFrame(data = prob_TNs_byladder, index = ladders, columns = ['Top30', 'Out30'])\n",
    "\n",
    "df_probs_bayesian = pd.concat([df_prob_TNS_byladder, df_prob_TNs_byladder], axis = 0, \n",
    "                              keys = ['Streaming', 'Not Streaming'])\n",
    "df_probs_bayesian*100\n",
    "\n",
    "# if you want to see only Top 30 probability\n",
    "# df_probs_bayesian[['Top30']]*100"
   ]
  },
  {
   "cell_type": "markdown",
   "id": "92f2391b",
   "metadata": {},
   "source": [
    "#### (2) [Answer] method 2 result:\n",
    "If we stream the play of the game when we are Necromancer, the probability is rise.  \n",
    "Can you believe that? _(Of course, I don't 'believe'. I'm not such an excellent player :0 haha.)_\n",
    "```\n",
    "Streaming      Harbinger             1.158262\n",
    "               Hardcore Harbinger    0.702458\n",
    "               SSF Harbinger         0.524533\n",
    "               SSF Harbinger HC      1.356286\n",
    "Not Streaming  Harbinger             0.213172\n",
    "               Hardcore Harbinger    0.045104\n",
    "               SSF Harbinger         0.311843\n",
    "               SSF Harbinger HC      0.261677\n",
    "```\n"
   ]
  },
  {
   "cell_type": "markdown",
   "id": "24946658",
   "metadata": {},
   "source": [
    "### 3-3-3. Get probability with machine learning algorithm\n",
    "\n",
    "When we conduct a classification with machine learning algorithms, we can find the probability that each data point has a classified value of 1 or 0. But it would be good to just move on after noticing that there is a way to do this that I thought. Because there's not enough data to use, and there's a lot of class imbalance.  "
   ]
  },
  {
   "cell_type": "code",
   "execution_count": null,
   "id": "7943bf37",
   "metadata": {
    "ExecuteTime": {
     "end_time": "2024-03-15T12:27:20.719600Z",
     "start_time": "2024-03-15T12:27:20.719575Z"
    }
   },
   "outputs": [],
   "source": [
    "# 러신머닝"
   ]
  },
  {
   "cell_type": "code",
   "execution_count": null,
   "id": "bcfcf3c5",
   "metadata": {},
   "outputs": [],
   "source": []
  },
  {
   "cell_type": "code",
   "execution_count": null,
   "id": "b9885e2d",
   "metadata": {},
   "outputs": [],
   "source": []
  }
 ],
 "metadata": {
  "kernelspec": {
   "display_name": "Python 3 (ipykernel)",
   "language": "python",
   "name": "python3"
  },
  "language_info": {
   "codemirror_mode": {
    "name": "ipython",
    "version": 3
   },
   "file_extension": ".py",
   "mimetype": "text/x-python",
   "name": "python",
   "nbconvert_exporter": "python",
   "pygments_lexer": "ipython3",
   "version": "3.8.5"
  },
  "latex_envs": {
   "LaTeX_envs_menu_present": true,
   "autoclose": true,
   "autocomplete": true,
   "bibliofile": "biblio.bib",
   "cite_by": "apalike",
   "current_citInitial": 1,
   "eqLabelWithNumbers": true,
   "eqNumInitial": 1,
   "hotkeys": {
    "equation": "Ctrl-E",
    "itemize": "Ctrl-I"
   },
   "labels_anchors": false,
   "latex_user_defs": false,
   "report_style_numbering": false,
   "user_envs_cfg": false
  },
  "toc": {
   "base_numbering": 1,
   "nav_menu": {},
   "number_sections": true,
   "sideBar": true,
   "skip_h1_title": false,
   "title_cell": "Table of Contents",
   "title_sidebar": "Contents",
   "toc_cell": false,
   "toc_position": {
    "height": "746.25px",
    "left": "22px",
    "top": "271.092px",
    "width": "360px"
   },
   "toc_section_display": true,
   "toc_window_display": true
  }
 },
 "nbformat": 4,
 "nbformat_minor": 5
}

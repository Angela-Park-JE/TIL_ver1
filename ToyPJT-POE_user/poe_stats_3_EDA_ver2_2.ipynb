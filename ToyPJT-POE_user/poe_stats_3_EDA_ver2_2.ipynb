{
 "cells": [
  {
   "cell_type": "markdown",
   "id": "536f7e71",
   "metadata": {},
   "source": [
    "# Path of Exile game stats data eda2\n",
    "\n",
    "dates: 2022.04.26 ~ \n",
    "\n",
    "This file contains an analysis processing of the game 'Path of Exile' data.\n",
    "\n",
    "###### Origins of datas from here: \n",
    "poe_stats : https://www.kaggle.com/datasets/gagazet/path-of-exile-league-statistic\n",
    "\n",
    "Data contains stats of 59000 players, from 4th August of 2017 and before now.\n",
    "\n",
    "---\n",
    "\n",
    "이 파일은 지난 3 파일에서 하드코어 모드와 일반모드를 나누었던 것에 이어서, 솔로모드와 파티가능모드로 나누어 볼 예정입니다."
   ]
  },
  {
   "cell_type": "markdown",
   "id": "50b8d002",
   "metadata": {},
   "source": [
    "# Dataset and libraries \n",
    "\n",
    "## data and libraries import"
   ]
  },
  {
   "cell_type": "code",
   "execution_count": 1,
   "id": "1a5233bb",
   "metadata": {
    "scrolled": true
   },
   "outputs": [],
   "source": [
    "import pandas as pd\n",
    "import numpy as np\n",
    "import matplotlib.pyplot as plt\n",
    "import seaborn as sns\n",
    "from pathlib import Path\n",
    "\n",
    "from scipy.stats import trim_mean\n",
    "from statsmodels import robust\n",
    "import wquantiles\n",
    "\n",
    "df = pd.read_csv('poe_stats_2revisedrank.csv')\n",
    "\n",
    "pd.options.display.float_format = '{:,.4f}'.format # 수 표현을 일부 바꿈\n"
   ]
  },
  {
   "cell_type": "code",
   "execution_count": 2,
   "id": "1511e496",
   "metadata": {
    "scrolled": true
   },
   "outputs": [
    {
     "data": {
      "text/plain": [
       "rank             14981\n",
       "dead                 2\n",
       "online               2\n",
       "name             58286\n",
       "level               48\n",
       "class               26\n",
       "id               59776\n",
       "experience       54124\n",
       "account          37123\n",
       "challenges          37\n",
       "twitch            9613\n",
       "ladder               4\n",
       "special_class        2\n",
       "stat_Str             2\n",
       "stat_Int             2\n",
       "stat_Dex             2\n",
       "stats_num            3\n",
       "dtype: int64"
      ]
     },
     "execution_count": 2,
     "metadata": {},
     "output_type": "execute_result"
    }
   ],
   "source": [
    "df.nunique()"
   ]
  },
  {
   "cell_type": "code",
   "execution_count": 3,
   "id": "f894c720",
   "metadata": {
    "scrolled": true
   },
   "outputs": [
    {
     "data": {
      "text/plain": [
       "rank                 0\n",
       "dead                 0\n",
       "online               0\n",
       "name                 0\n",
       "level                0\n",
       "class                0\n",
       "id                   0\n",
       "experience           0\n",
       "account              0\n",
       "challenges           0\n",
       "twitch           43476\n",
       "ladder               0\n",
       "special_class        0\n",
       "stat_Str             0\n",
       "stat_Int             0\n",
       "stat_Dex             0\n",
       "stats_num            0\n",
       "dtype: int64"
      ]
     },
     "execution_count": 3,
     "metadata": {},
     "output_type": "execute_result"
    }
   ],
   "source": [
    "df.isnull().sum()"
   ]
  },
  {
   "cell_type": "code",
   "execution_count": 4,
   "id": "40a55f15",
   "metadata": {},
   "outputs": [
    {
     "data": {
      "text/plain": [
       "array(['Harbinger', 'SSF Harbinger HC', 'Hardcore Harbinger',\n",
       "       'SSF Harbinger'], dtype=object)"
      ]
     },
     "execution_count": 4,
     "metadata": {},
     "output_type": "execute_result"
    }
   ],
   "source": [
    "df.ladder.unique()"
   ]
  },
  {
   "cell_type": "code",
   "execution_count": 5,
   "id": "30e17b16",
   "metadata": {},
   "outputs": [
    {
     "data": {
      "text/html": [
       "<div>\n",
       "<style scoped>\n",
       "    .dataframe tbody tr th:only-of-type {\n",
       "        vertical-align: middle;\n",
       "    }\n",
       "\n",
       "    .dataframe tbody tr th {\n",
       "        vertical-align: top;\n",
       "    }\n",
       "\n",
       "    .dataframe thead th {\n",
       "        text-align: right;\n",
       "    }\n",
       "</style>\n",
       "<table border=\"1\" class=\"dataframe\">\n",
       "  <thead>\n",
       "    <tr style=\"text-align: right;\">\n",
       "      <th></th>\n",
       "      <th>rank</th>\n",
       "      <th>level</th>\n",
       "      <th>experience</th>\n",
       "      <th>challenges</th>\n",
       "      <th>special_class</th>\n",
       "      <th>stat_Str</th>\n",
       "      <th>stat_Int</th>\n",
       "      <th>stat_Dex</th>\n",
       "      <th>stats_num</th>\n",
       "    </tr>\n",
       "  </thead>\n",
       "  <tbody>\n",
       "    <tr>\n",
       "      <th>count</th>\n",
       "      <td>59,776.00</td>\n",
       "      <td>59,776.00</td>\n",
       "      <td>59,776.00</td>\n",
       "      <td>59,776.00</td>\n",
       "      <td>59,776.00</td>\n",
       "      <td>59,776.00</td>\n",
       "      <td>59,776.00</td>\n",
       "      <td>59,776.00</td>\n",
       "      <td>59,776.00</td>\n",
       "    </tr>\n",
       "    <tr>\n",
       "      <th>mean</th>\n",
       "      <td>7,472.54</td>\n",
       "      <td>85.42</td>\n",
       "      <td>1,825,786,027.36</td>\n",
       "      <td>25.76</td>\n",
       "      <td>0.99</td>\n",
       "      <td>0.58</td>\n",
       "      <td>0.42</td>\n",
       "      <td>0.51</td>\n",
       "      <td>1.51</td>\n",
       "    </tr>\n",
       "    <tr>\n",
       "      <th>std</th>\n",
       "      <td>4,314.06</td>\n",
       "      <td>11.29</td>\n",
       "      <td>1,094,747,934.61</td>\n",
       "      <td>8.44</td>\n",
       "      <td>0.09</td>\n",
       "      <td>0.49</td>\n",
       "      <td>0.49</td>\n",
       "      <td>0.50</td>\n",
       "      <td>0.61</td>\n",
       "    </tr>\n",
       "    <tr>\n",
       "      <th>min</th>\n",
       "      <td>1.00</td>\n",
       "      <td>53.00</td>\n",
       "      <td>77,909,816.00</td>\n",
       "      <td>4.00</td>\n",
       "      <td>0.00</td>\n",
       "      <td>0.00</td>\n",
       "      <td>0.00</td>\n",
       "      <td>0.00</td>\n",
       "      <td>1.00</td>\n",
       "    </tr>\n",
       "    <tr>\n",
       "      <th>25%</th>\n",
       "      <td>3,736.75</td>\n",
       "      <td>78.00</td>\n",
       "      <td>777,469,746.25</td>\n",
       "      <td>19.00</td>\n",
       "      <td>1.00</td>\n",
       "      <td>0.00</td>\n",
       "      <td>0.00</td>\n",
       "      <td>0.00</td>\n",
       "      <td>1.00</td>\n",
       "    </tr>\n",
       "    <tr>\n",
       "      <th>50%</th>\n",
       "      <td>7,472.50</td>\n",
       "      <td>90.00</td>\n",
       "      <td>1,934,009,687.00</td>\n",
       "      <td>25.00</td>\n",
       "      <td>1.00</td>\n",
       "      <td>1.00</td>\n",
       "      <td>0.00</td>\n",
       "      <td>1.00</td>\n",
       "      <td>1.00</td>\n",
       "    </tr>\n",
       "    <tr>\n",
       "      <th>75%</th>\n",
       "      <td>11,208.25</td>\n",
       "      <td>95.00</td>\n",
       "      <td>2,876,116,901.00</td>\n",
       "      <td>33.00</td>\n",
       "      <td>1.00</td>\n",
       "      <td>1.00</td>\n",
       "      <td>1.00</td>\n",
       "      <td>1.00</td>\n",
       "      <td>2.00</td>\n",
       "    </tr>\n",
       "    <tr>\n",
       "      <th>max</th>\n",
       "      <td>14,981.00</td>\n",
       "      <td>100.00</td>\n",
       "      <td>4,250,334,444.00</td>\n",
       "      <td>40.00</td>\n",
       "      <td>1.00</td>\n",
       "      <td>1.00</td>\n",
       "      <td>1.00</td>\n",
       "      <td>1.00</td>\n",
       "      <td>3.00</td>\n",
       "    </tr>\n",
       "  </tbody>\n",
       "</table>\n",
       "</div>"
      ],
      "text/plain": [
       "           rank     level       experience  challenges  special_class  \\\n",
       "count 59,776.00 59,776.00        59,776.00   59,776.00      59,776.00   \n",
       "mean   7,472.54     85.42 1,825,786,027.36       25.76           0.99   \n",
       "std    4,314.06     11.29 1,094,747,934.61        8.44           0.09   \n",
       "min        1.00     53.00    77,909,816.00        4.00           0.00   \n",
       "25%    3,736.75     78.00   777,469,746.25       19.00           1.00   \n",
       "50%    7,472.50     90.00 1,934,009,687.00       25.00           1.00   \n",
       "75%   11,208.25     95.00 2,876,116,901.00       33.00           1.00   \n",
       "max   14,981.00    100.00 4,250,334,444.00       40.00           1.00   \n",
       "\n",
       "       stat_Str  stat_Int  stat_Dex  stats_num  \n",
       "count 59,776.00 59,776.00 59,776.00  59,776.00  \n",
       "mean       0.58      0.42      0.51       1.51  \n",
       "std        0.49      0.49      0.50       0.61  \n",
       "min        0.00      0.00      0.00       1.00  \n",
       "25%        0.00      0.00      0.00       1.00  \n",
       "50%        1.00      0.00      1.00       1.00  \n",
       "75%        1.00      1.00      1.00       2.00  \n",
       "max        1.00      1.00      1.00       3.00  "
      ]
     },
     "execution_count": 5,
     "metadata": {},
     "output_type": "execute_result"
    }
   ],
   "source": [
    "pd.options.display.float_format = '{:,.2f}'.format\n",
    "df.describe()"
   ]
  },
  {
   "cell_type": "markdown",
   "id": "21b2bf53",
   "metadata": {},
   "source": [
    "# try: with ladder division (SSF or not)\n",
    "---\n",
    "ladder에서 SSF가 달린 모드는 오로지 혼자서만 깨야하는 솔로 플레이 모드이다. 이번에는 그런 SSF 모드와 멀티유저가능 모드를 나누어 보려고 한다."
   ]
  },
  {
   "cell_type": "markdown",
   "id": "86fb1c13",
   "metadata": {},
   "source": [
    "## SSF dataframe"
   ]
  },
  {
   "cell_type": "code",
   "execution_count": 6,
   "id": "8791e1d7",
   "metadata": {},
   "outputs": [],
   "source": [
    "ssf = df[(df['ladder'] == 'SSF Harbinger')|(df['ladder'] == 'SSF Harbinger hc')]"
   ]
  },
  {
   "cell_type": "code",
   "execution_count": 7,
   "id": "5b04912c",
   "metadata": {},
   "outputs": [
    {
     "data": {
      "text/html": [
       "<div>\n",
       "<style scoped>\n",
       "    .dataframe tbody tr th:only-of-type {\n",
       "        vertical-align: middle;\n",
       "    }\n",
       "\n",
       "    .dataframe tbody tr th {\n",
       "        vertical-align: top;\n",
       "    }\n",
       "\n",
       "    .dataframe thead th {\n",
       "        text-align: right;\n",
       "    }\n",
       "</style>\n",
       "<table border=\"1\" class=\"dataframe\">\n",
       "  <thead>\n",
       "    <tr style=\"text-align: right;\">\n",
       "      <th></th>\n",
       "      <th>rank</th>\n",
       "      <th>level</th>\n",
       "      <th>experience</th>\n",
       "      <th>challenges</th>\n",
       "      <th>special_class</th>\n",
       "      <th>stat_Str</th>\n",
       "      <th>stat_Int</th>\n",
       "      <th>stat_Dex</th>\n",
       "      <th>stats_num</th>\n",
       "    </tr>\n",
       "  </thead>\n",
       "  <tbody>\n",
       "    <tr>\n",
       "      <th>count</th>\n",
       "      <td>14,981.00</td>\n",
       "      <td>14,981.00</td>\n",
       "      <td>14,981.00</td>\n",
       "      <td>14,981.00</td>\n",
       "      <td>14,981.00</td>\n",
       "      <td>14,981.00</td>\n",
       "      <td>14,981.00</td>\n",
       "      <td>14,981.00</td>\n",
       "      <td>14,981.00</td>\n",
       "    </tr>\n",
       "    <tr>\n",
       "      <th>mean</th>\n",
       "      <td>7,491.00</td>\n",
       "      <td>82.93</td>\n",
       "      <td>1,248,170,977.66</td>\n",
       "      <td>22.15</td>\n",
       "      <td>0.99</td>\n",
       "      <td>0.58</td>\n",
       "      <td>0.46</td>\n",
       "      <td>0.50</td>\n",
       "      <td>1.54</td>\n",
       "    </tr>\n",
       "    <tr>\n",
       "      <th>std</th>\n",
       "      <td>4,324.79</td>\n",
       "      <td>5.91</td>\n",
       "      <td>598,147,110.11</td>\n",
       "      <td>7.08</td>\n",
       "      <td>0.07</td>\n",
       "      <td>0.49</td>\n",
       "      <td>0.50</td>\n",
       "      <td>0.50</td>\n",
       "      <td>0.62</td>\n",
       "    </tr>\n",
       "    <tr>\n",
       "      <th>min</th>\n",
       "      <td>1.00</td>\n",
       "      <td>73.00</td>\n",
       "      <td>495,034,029.00</td>\n",
       "      <td>9.00</td>\n",
       "      <td>0.00</td>\n",
       "      <td>0.00</td>\n",
       "      <td>0.00</td>\n",
       "      <td>0.00</td>\n",
       "      <td>1.00</td>\n",
       "    </tr>\n",
       "    <tr>\n",
       "      <th>25%</th>\n",
       "      <td>3,746.00</td>\n",
       "      <td>78.00</td>\n",
       "      <td>727,879,491.00</td>\n",
       "      <td>16.00</td>\n",
       "      <td>1.00</td>\n",
       "      <td>0.00</td>\n",
       "      <td>0.00</td>\n",
       "      <td>0.00</td>\n",
       "      <td>1.00</td>\n",
       "    </tr>\n",
       "    <tr>\n",
       "      <th>50%</th>\n",
       "      <td>7,491.00</td>\n",
       "      <td>83.00</td>\n",
       "      <td>1,134,144,651.00</td>\n",
       "      <td>21.00</td>\n",
       "      <td>1.00</td>\n",
       "      <td>1.00</td>\n",
       "      <td>0.00</td>\n",
       "      <td>1.00</td>\n",
       "      <td>1.00</td>\n",
       "    </tr>\n",
       "    <tr>\n",
       "      <th>75%</th>\n",
       "      <td>11,236.00</td>\n",
       "      <td>88.00</td>\n",
       "      <td>1,656,611,029.00</td>\n",
       "      <td>27.00</td>\n",
       "      <td>1.00</td>\n",
       "      <td>1.00</td>\n",
       "      <td>1.00</td>\n",
       "      <td>1.00</td>\n",
       "      <td>2.00</td>\n",
       "    </tr>\n",
       "    <tr>\n",
       "      <th>max</th>\n",
       "      <td>14,981.00</td>\n",
       "      <td>100.00</td>\n",
       "      <td>4,250,334,444.00</td>\n",
       "      <td>40.00</td>\n",
       "      <td>1.00</td>\n",
       "      <td>1.00</td>\n",
       "      <td>1.00</td>\n",
       "      <td>1.00</td>\n",
       "      <td>3.00</td>\n",
       "    </tr>\n",
       "  </tbody>\n",
       "</table>\n",
       "</div>"
      ],
      "text/plain": [
       "           rank     level       experience  challenges  special_class  \\\n",
       "count 14,981.00 14,981.00        14,981.00   14,981.00      14,981.00   \n",
       "mean   7,491.00     82.93 1,248,170,977.66       22.15           0.99   \n",
       "std    4,324.79      5.91   598,147,110.11        7.08           0.07   \n",
       "min        1.00     73.00   495,034,029.00        9.00           0.00   \n",
       "25%    3,746.00     78.00   727,879,491.00       16.00           1.00   \n",
       "50%    7,491.00     83.00 1,134,144,651.00       21.00           1.00   \n",
       "75%   11,236.00     88.00 1,656,611,029.00       27.00           1.00   \n",
       "max   14,981.00    100.00 4,250,334,444.00       40.00           1.00   \n",
       "\n",
       "       stat_Str  stat_Int  stat_Dex  stats_num  \n",
       "count 14,981.00 14,981.00 14,981.00  14,981.00  \n",
       "mean       0.58      0.46      0.50       1.54  \n",
       "std        0.49      0.50      0.50       0.62  \n",
       "min        0.00      0.00      0.00       1.00  \n",
       "25%        0.00      0.00      0.00       1.00  \n",
       "50%        1.00      0.00      1.00       1.00  \n",
       "75%        1.00      1.00      1.00       2.00  \n",
       "max        1.00      1.00      1.00       3.00  "
      ]
     },
     "execution_count": 7,
     "metadata": {},
     "output_type": "execute_result"
    }
   ],
   "source": [
    "ssf.describe()"
   ]
  },
  {
   "cell_type": "code",
   "execution_count": 8,
   "id": "a31732e3",
   "metadata": {},
   "outputs": [
    {
     "data": {
      "text/html": [
       "<div>\n",
       "<style scoped>\n",
       "    .dataframe tbody tr th:only-of-type {\n",
       "        vertical-align: middle;\n",
       "    }\n",
       "\n",
       "    .dataframe tbody tr th {\n",
       "        vertical-align: top;\n",
       "    }\n",
       "\n",
       "    .dataframe thead th {\n",
       "        text-align: right;\n",
       "    }\n",
       "</style>\n",
       "<table border=\"1\" class=\"dataframe\">\n",
       "  <thead>\n",
       "    <tr style=\"text-align: right;\">\n",
       "      <th></th>\n",
       "      <th>name</th>\n",
       "      <th>class</th>\n",
       "      <th>id</th>\n",
       "      <th>account</th>\n",
       "      <th>twitch</th>\n",
       "      <th>ladder</th>\n",
       "    </tr>\n",
       "  </thead>\n",
       "  <tbody>\n",
       "    <tr>\n",
       "      <th>count</th>\n",
       "      <td>14981</td>\n",
       "      <td>14981</td>\n",
       "      <td>14981</td>\n",
       "      <td>14981</td>\n",
       "      <td>2661</td>\n",
       "      <td>14981</td>\n",
       "    </tr>\n",
       "    <tr>\n",
       "      <th>unique</th>\n",
       "      <td>14964</td>\n",
       "      <td>26</td>\n",
       "      <td>14981</td>\n",
       "      <td>10214</td>\n",
       "      <td>1713</td>\n",
       "      <td>1</td>\n",
       "    </tr>\n",
       "    <tr>\n",
       "      <th>top</th>\n",
       "      <td>Rodrick_Harbinger_SSF</td>\n",
       "      <td>Berserker</td>\n",
       "      <td>c861372da792be0b22c45bf437ccd58437c52e9455e0bf...</td>\n",
       "      <td>Hyperized</td>\n",
       "      <td>adjayjay</td>\n",
       "      <td>SSF Harbinger</td>\n",
       "    </tr>\n",
       "    <tr>\n",
       "      <th>freq</th>\n",
       "      <td>4</td>\n",
       "      <td>2290</td>\n",
       "      <td>1</td>\n",
       "      <td>25</td>\n",
       "      <td>9</td>\n",
       "      <td>14981</td>\n",
       "    </tr>\n",
       "  </tbody>\n",
       "</table>\n",
       "</div>"
      ],
      "text/plain": [
       "                         name      class  \\\n",
       "count                   14981      14981   \n",
       "unique                  14964         26   \n",
       "top     Rodrick_Harbinger_SSF  Berserker   \n",
       "freq                        4       2290   \n",
       "\n",
       "                                                       id    account  \\\n",
       "count                                               14981      14981   \n",
       "unique                                              14981      10214   \n",
       "top     c861372da792be0b22c45bf437ccd58437c52e9455e0bf...  Hyperized   \n",
       "freq                                                    1         25   \n",
       "\n",
       "          twitch         ladder  \n",
       "count       2661          14981  \n",
       "unique      1713              1  \n",
       "top     adjayjay  SSF Harbinger  \n",
       "freq           9          14981  "
      ]
     },
     "execution_count": 8,
     "metadata": {},
     "output_type": "execute_result"
    }
   ],
   "source": [
    "ssf.describe(include='object')"
   ]
  },
  {
   "cell_type": "markdown",
   "id": "73bff7a0",
   "metadata": {},
   "source": [
    "## non solo dataframe"
   ]
  },
  {
   "cell_type": "code",
   "execution_count": 9,
   "id": "3554c4cc",
   "metadata": {},
   "outputs": [],
   "source": [
    "non_ssf = df[(df['ladder'] == 'Harbinger')|(df['ladder'] == 'Hardcore Harbinger')]"
   ]
  },
  {
   "cell_type": "code",
   "execution_count": 10,
   "id": "2fe0dc47",
   "metadata": {},
   "outputs": [
    {
     "data": {
      "text/html": [
       "<div>\n",
       "<style scoped>\n",
       "    .dataframe tbody tr th:only-of-type {\n",
       "        vertical-align: middle;\n",
       "    }\n",
       "\n",
       "    .dataframe tbody tr th {\n",
       "        vertical-align: top;\n",
       "    }\n",
       "\n",
       "    .dataframe thead th {\n",
       "        text-align: right;\n",
       "    }\n",
       "</style>\n",
       "<table border=\"1\" class=\"dataframe\">\n",
       "  <thead>\n",
       "    <tr style=\"text-align: right;\">\n",
       "      <th></th>\n",
       "      <th>rank</th>\n",
       "      <th>level</th>\n",
       "      <th>experience</th>\n",
       "      <th>challenges</th>\n",
       "      <th>special_class</th>\n",
       "      <th>stat_Str</th>\n",
       "      <th>stat_Int</th>\n",
       "      <th>stat_Dex</th>\n",
       "      <th>stats_num</th>\n",
       "    </tr>\n",
       "  </thead>\n",
       "  <tbody>\n",
       "    <tr>\n",
       "      <th>count</th>\n",
       "      <td>29,823.00</td>\n",
       "      <td>29,823.00</td>\n",
       "      <td>29,823.00</td>\n",
       "      <td>29,823.00</td>\n",
       "      <td>29,823.00</td>\n",
       "      <td>29,823.00</td>\n",
       "      <td>29,823.00</td>\n",
       "      <td>29,823.00</td>\n",
       "      <td>29,823.00</td>\n",
       "    </tr>\n",
       "    <tr>\n",
       "      <th>mean</th>\n",
       "      <td>7,456.25</td>\n",
       "      <td>93.65</td>\n",
       "      <td>2,707,548,316.85</td>\n",
       "      <td>30.32</td>\n",
       "      <td>1.00</td>\n",
       "      <td>0.57</td>\n",
       "      <td>0.36</td>\n",
       "      <td>0.54</td>\n",
       "      <td>1.47</td>\n",
       "    </tr>\n",
       "    <tr>\n",
       "      <th>std</th>\n",
       "      <td>4,304.65</td>\n",
       "      <td>2.97</td>\n",
       "      <td>620,079,660.81</td>\n",
       "      <td>6.84</td>\n",
       "      <td>0.01</td>\n",
       "      <td>0.49</td>\n",
       "      <td>0.48</td>\n",
       "      <td>0.50</td>\n",
       "      <td>0.61</td>\n",
       "    </tr>\n",
       "    <tr>\n",
       "      <th>min</th>\n",
       "      <td>1.00</td>\n",
       "      <td>89.00</td>\n",
       "      <td>1,786,638,972.00</td>\n",
       "      <td>8.00</td>\n",
       "      <td>0.00</td>\n",
       "      <td>0.00</td>\n",
       "      <td>0.00</td>\n",
       "      <td>0.00</td>\n",
       "      <td>1.00</td>\n",
       "    </tr>\n",
       "    <tr>\n",
       "      <th>25%</th>\n",
       "      <td>3,728.50</td>\n",
       "      <td>91.00</td>\n",
       "      <td>2,129,280,019.50</td>\n",
       "      <td>25.00</td>\n",
       "      <td>1.00</td>\n",
       "      <td>0.00</td>\n",
       "      <td>0.00</td>\n",
       "      <td>0.00</td>\n",
       "      <td>1.00</td>\n",
       "    </tr>\n",
       "    <tr>\n",
       "      <th>50%</th>\n",
       "      <td>7,456.00</td>\n",
       "      <td>94.00</td>\n",
       "      <td>2,835,787,324.00</td>\n",
       "      <td>30.00</td>\n",
       "      <td>1.00</td>\n",
       "      <td>1.00</td>\n",
       "      <td>0.00</td>\n",
       "      <td>1.00</td>\n",
       "      <td>1.00</td>\n",
       "    </tr>\n",
       "    <tr>\n",
       "      <th>75%</th>\n",
       "      <td>11,184.00</td>\n",
       "      <td>95.00</td>\n",
       "      <td>3,031,208,352.50</td>\n",
       "      <td>36.00</td>\n",
       "      <td>1.00</td>\n",
       "      <td>1.00</td>\n",
       "      <td>1.00</td>\n",
       "      <td>1.00</td>\n",
       "      <td>2.00</td>\n",
       "    </tr>\n",
       "    <tr>\n",
       "      <th>max</th>\n",
       "      <td>14,918.00</td>\n",
       "      <td>100.00</td>\n",
       "      <td>4,250,334,444.00</td>\n",
       "      <td>40.00</td>\n",
       "      <td>1.00</td>\n",
       "      <td>1.00</td>\n",
       "      <td>1.00</td>\n",
       "      <td>1.00</td>\n",
       "      <td>3.00</td>\n",
       "    </tr>\n",
       "  </tbody>\n",
       "</table>\n",
       "</div>"
      ],
      "text/plain": [
       "           rank     level       experience  challenges  special_class  \\\n",
       "count 29,823.00 29,823.00        29,823.00   29,823.00      29,823.00   \n",
       "mean   7,456.25     93.65 2,707,548,316.85       30.32           1.00   \n",
       "std    4,304.65      2.97   620,079,660.81        6.84           0.01   \n",
       "min        1.00     89.00 1,786,638,972.00        8.00           0.00   \n",
       "25%    3,728.50     91.00 2,129,280,019.50       25.00           1.00   \n",
       "50%    7,456.00     94.00 2,835,787,324.00       30.00           1.00   \n",
       "75%   11,184.00     95.00 3,031,208,352.50       36.00           1.00   \n",
       "max   14,918.00    100.00 4,250,334,444.00       40.00           1.00   \n",
       "\n",
       "       stat_Str  stat_Int  stat_Dex  stats_num  \n",
       "count 29,823.00 29,823.00 29,823.00  29,823.00  \n",
       "mean       0.57      0.36      0.54       1.47  \n",
       "std        0.49      0.48      0.50       0.61  \n",
       "min        0.00      0.00      0.00       1.00  \n",
       "25%        0.00      0.00      0.00       1.00  \n",
       "50%        1.00      0.00      1.00       1.00  \n",
       "75%        1.00      1.00      1.00       2.00  \n",
       "max        1.00      1.00      1.00       3.00  "
      ]
     },
     "execution_count": 10,
     "metadata": {},
     "output_type": "execute_result"
    }
   ],
   "source": [
    "pd.options.display.float_format = '{:,.2f}'.format\n",
    "non_ssf.describe()"
   ]
  },
  {
   "cell_type": "code",
   "execution_count": 11,
   "id": "dfbc29b2",
   "metadata": {},
   "outputs": [
    {
     "data": {
      "text/html": [
       "<div>\n",
       "<style scoped>\n",
       "    .dataframe tbody tr th:only-of-type {\n",
       "        vertical-align: middle;\n",
       "    }\n",
       "\n",
       "    .dataframe tbody tr th {\n",
       "        vertical-align: top;\n",
       "    }\n",
       "\n",
       "    .dataframe thead th {\n",
       "        text-align: right;\n",
       "    }\n",
       "</style>\n",
       "<table border=\"1\" class=\"dataframe\">\n",
       "  <thead>\n",
       "    <tr style=\"text-align: right;\">\n",
       "      <th></th>\n",
       "      <th>name</th>\n",
       "      <th>class</th>\n",
       "      <th>id</th>\n",
       "      <th>account</th>\n",
       "      <th>twitch</th>\n",
       "      <th>ladder</th>\n",
       "    </tr>\n",
       "  </thead>\n",
       "  <tbody>\n",
       "    <tr>\n",
       "      <th>count</th>\n",
       "      <td>29823</td>\n",
       "      <td>29823</td>\n",
       "      <td>29823</td>\n",
       "      <td>29823</td>\n",
       "      <td>9916</td>\n",
       "      <td>29823</td>\n",
       "    </tr>\n",
       "    <tr>\n",
       "      <th>unique</th>\n",
       "      <td>29652</td>\n",
       "      <td>22</td>\n",
       "      <td>29823</td>\n",
       "      <td>21978</td>\n",
       "      <td>6813</td>\n",
       "      <td>2</td>\n",
       "    </tr>\n",
       "    <tr>\n",
       "      <th>top</th>\n",
       "      <td>Xkuz</td>\n",
       "      <td>Berserker</td>\n",
       "      <td>3dcddd59f5088893f734f39686350990dae168cc4f4b00...</td>\n",
       "      <td>supercellj</td>\n",
       "      <td>zen1703</td>\n",
       "      <td>Harbinger</td>\n",
       "    </tr>\n",
       "    <tr>\n",
       "      <th>freq</th>\n",
       "      <td>4</td>\n",
       "      <td>4777</td>\n",
       "      <td>1</td>\n",
       "      <td>14</td>\n",
       "      <td>12</td>\n",
       "      <td>14918</td>\n",
       "    </tr>\n",
       "  </tbody>\n",
       "</table>\n",
       "</div>"
      ],
      "text/plain": [
       "         name      class                                                 id  \\\n",
       "count   29823      29823                                              29823   \n",
       "unique  29652         22                                              29823   \n",
       "top      Xkuz  Berserker  3dcddd59f5088893f734f39686350990dae168cc4f4b00...   \n",
       "freq        4       4777                                                  1   \n",
       "\n",
       "           account   twitch     ladder  \n",
       "count        29823     9916      29823  \n",
       "unique       21978     6813          2  \n",
       "top     supercellj  zen1703  Harbinger  \n",
       "freq            14       12      14918  "
      ]
     },
     "execution_count": 11,
     "metadata": {},
     "output_type": "execute_result"
    }
   ],
   "source": [
    "non_ssf.describe(include='object')"
   ]
  },
  {
   "cell_type": "markdown",
   "id": "ed144c62",
   "metadata": {},
   "source": [
    "### Commentary\n",
    "\n",
    "전체 데이터에서의 mean을 보자면\n",
    "\n",
    "    ``` sort    rank      level       experience   challenges  special_class  Str    Int   Dex   stats_num ```\n",
    "\n",
    "    ``` mean\t7,472.54\t85.42\t1,825,786,027.36\t25.76\t0.99\t0.58\t0.42\t0.51\t1.51 ```\n",
    "\n",
    "그리고  non_ssf(Harbinger, Harbinger Hardcore) 를 먼저 보자면\n",
    "\n",
    "    ``` mean\t7,456.25\t93.65\t2,707,548,316.85\t30.32\t1.00\t0.57\t0.36\t0.54\t1.47 ```\n",
    "그리고 ssf(SSF Harbinger, SSF Harbinger hc)를 보자면\n",
    "\n",
    "    ``` mean\t7,488.75\t77.23\t947,850,703.36\t21.22\t0.98\t0.59\t0.48\t0.48\t1.56 ```\n",
    "\n",
    "> 전체적인 수치가 많이 차이나진 않지만 , SSF 모드의 랭커들을 레벨이 더 높았다. 하지만 이 부분은 SSF Harbinger hc 모드의 제한 때문인데, 그 모드는 특정 레벨에 분포가 몰려있는 것을 보아 해당 레벨이 넘는 캐릭터만 입장이 가능한 것으로 보였다. 즉, 해당 모드를 플레이하기 위해서 키운 캐릭터들이 랭크에 올려져있는 것으로 볼 수 있다. 그 캐릭터들이 전체 데이터의 레벨 평균을 많이 낮춘 것이다. \n",
    "\n",
    "실제로 ssf 모드의 level 은 전체 평균을 많이 밑도는 것으로 보이고 있다. 혼자 도전하는 모드임에도 불고하고 랭크에 이름을 올린 캐릭터들의 경험치가 많이 적은 것에서도 확인할 수 있는 부분이다.\n",
    "\n",
    "> 다른 부분들을 살펴보자면 challenge는 ssf 모드가 훨씬 적었다. 위와같은 이유에 더해서 플레이 성향도 있을 것으로 보인다. 다른 사람과 함께 플레이할 경우 각자의 조합을 여러가지로 두고 시도할 가능성이 많지만, 혼자는 어느정도 정해져있기 때문이다. \n",
    "\n",
    "심지어 중간값이 30과 20으로 거의 10차이가 나며, 최소 시도로는 8과 4로 두 배 차이가 난다. 15000등 안팎이면 어중간하게 잘하는 사람들은 거의 없을텐데 말이다.\n",
    "\n",
    "> 또한 특정 계정이 29개나 플레이한 것을 여기서 확인할 수 있다. 잘 하는 사람이 여러 캐릭으로 랭크에 아이디를 올리는 일이 어려운 일이 아니기 때문이다.\n",
    "\n",
    "> 추가적으로, class에서 전직하기 전의 클래스가 없는 non_ssf 모드와 달리 ssf 모드는 모든 직업이 존재함을 확인할 수 있다. \n",
    "\n",
    "> 둘 다 모두, Berserker가 가장 많이 존재하는 것으로 보인다.\n"
   ]
  },
  {
   "cell_type": "markdown",
   "id": "1005ca51",
   "metadata": {},
   "source": [
    "## correlation map"
   ]
  },
  {
   "cell_type": "code",
   "execution_count": 12,
   "id": "da8f947c",
   "metadata": {},
   "outputs": [
    {
     "data": {
      "text/plain": [
       "<AxesSubplot:>"
      ]
     },
     "execution_count": 12,
     "metadata": {},
     "output_type": "execute_result"
    },
    {
     "data": {
      "image/png": "[encoded data removed]",
      "text/plain": [
       "<Figure size 864x576 with 2 Axes>"
      ]
     },
     "metadata": {
      "needs_background": "light"
     },
     "output_type": "display_data"
    }
   ],
   "source": [
    "# ssf\n",
    "\n",
    "plt.rcParams[\"figure.figsize\"] = (12, 8)\n",
    "sns.heatmap(ssf.corr(), annot = True, cmap = \"YlGnBu\", square = True)"
   ]
  },
  {
   "cell_type": "code",
   "execution_count": 13,
   "id": "388a9e7c",
   "metadata": {},
   "outputs": [
    {
     "data": {
      "text/plain": [
       "<AxesSubplot:>"
      ]
     },
     "execution_count": 13,
     "metadata": {},
     "output_type": "execute_result"
    },
    {
     "data": {
      "image/png": "[encoded data removed]",
      "text/plain": [
       "<Figure size 864x576 with 2 Axes>"
      ]
     },
     "metadata": {
      "needs_background": "light"
     },
     "output_type": "display_data"
    }
   ],
   "source": [
    "# non_ssf\n",
    "\n",
    "plt.rcParams[\"figure.figsize\"] = (12, 8)\n",
    "sns.heatmap(non_ssf.corr(), annot = True, cmap = \"YlGnBu\", square = True)"
   ]
  },
  {
   "cell_type": "markdown",
   "id": "6ecba3c2",
   "metadata": {},
   "source": [
    "## classes\n",
    "\n",
    "전체 클래스를 대상으로 나누어보는 정도만 진행하며, 상세하게 나누는 (이전에 만든 stat column들을 이용하는 분석)은 다음 파일에서 진행하려 한다."
   ]
  },
  {
   "cell_type": "code",
   "execution_count": 14,
   "id": "aad55046",
   "metadata": {},
   "outputs": [
    {
     "data": {
      "image/png": "[encoded data removed]",
      "text/plain": [
       "<Figure size 1728x648 with 1 Axes>"
      ]
     },
     "metadata": {},
     "output_type": "display_data"
    }
   ],
   "source": [
    "# ssf classes\n",
    "\n",
    "plt.rcParams[\"figure.figsize\"] = (24, 9)\n",
    "sns.set_style('whitegrid')\n",
    "sns.countplot(data = ssf, x = 'class',\n",
    "              palette=\"Set3\", edgecolor=sns.color_palette(\"dark\", 1)) #palette = Accent\n",
    "plt.show()"
   ]
  },
  {
   "cell_type": "code",
   "execution_count": 15,
   "id": "6cf3e687",
   "metadata": {},
   "outputs": [
    {
     "data": {
      "image/png": "[encoded data removed]",
      "text/plain": [
       "<Figure size 1728x648 with 1 Axes>"
      ]
     },
     "metadata": {},
     "output_type": "display_data"
    }
   ],
   "source": [
    "# non_ssf classes\n",
    "\n",
    "plt.rcParams[\"figure.figsize\"] = (24, 9)\n",
    "sns.set_style('whitegrid')\n",
    "sns.countplot(data = non_ssf, x = 'class',\n",
    "              palette=\"Set3\", edgecolor=sns.color_palette(\"dark\", 1)) #palette = Accent\n",
    "plt.show()"
   ]
  },
  {
   "cell_type": "markdown",
   "id": "b1dcccfd",
   "metadata": {},
   "source": [
    "### Commentary\n",
    "\n",
    " 전직전의 직업이 존재하지 않는 non_ssf 모드에서도 Ranger, Marauder, Scion이 존재하는 것으로 보이고 있다."
   ]
  },
  {
   "cell_type": "markdown",
   "id": "1e3ae576",
   "metadata": {},
   "source": [
    "## class-users (클래스별 유저수 number)"
   ]
  },
  {
   "cell_type": "code",
   "execution_count": 16,
   "id": "a21a8a93",
   "metadata": {},
   "outputs": [
    {
     "data": {
      "text/html": [
       "<div>\n",
       "<style scoped>\n",
       "    .dataframe tbody tr th:only-of-type {\n",
       "        vertical-align: middle;\n",
       "    }\n",
       "\n",
       "    .dataframe tbody tr th {\n",
       "        vertical-align: top;\n",
       "    }\n",
       "\n",
       "    .dataframe thead th {\n",
       "        text-align: right;\n",
       "    }\n",
       "</style>\n",
       "<table border=\"1\" class=\"dataframe\">\n",
       "  <thead>\n",
       "    <tr style=\"text-align: right;\">\n",
       "      <th></th>\n",
       "      <th>id</th>\n",
       "    </tr>\n",
       "    <tr>\n",
       "      <th>class</th>\n",
       "      <th></th>\n",
       "    </tr>\n",
       "  </thead>\n",
       "  <tbody>\n",
       "    <tr>\n",
       "      <th>Ascendant</th>\n",
       "      <td>1000</td>\n",
       "    </tr>\n",
       "    <tr>\n",
       "      <th>Assassin</th>\n",
       "      <td>274</td>\n",
       "    </tr>\n",
       "    <tr>\n",
       "      <th>Berserker</th>\n",
       "      <td>2290</td>\n",
       "    </tr>\n",
       "    <tr>\n",
       "      <th>Champion</th>\n",
       "      <td>262</td>\n",
       "    </tr>\n",
       "    <tr>\n",
       "      <th>Chieftain</th>\n",
       "      <td>456</td>\n",
       "    </tr>\n",
       "    <tr>\n",
       "      <th>Deadeye</th>\n",
       "      <td>280</td>\n",
       "    </tr>\n",
       "    <tr>\n",
       "      <th>Duelist</th>\n",
       "      <td>10</td>\n",
       "    </tr>\n",
       "    <tr>\n",
       "      <th>Elementalist</th>\n",
       "      <td>541</td>\n",
       "    </tr>\n",
       "    <tr>\n",
       "      <th>Gladiator</th>\n",
       "      <td>1320</td>\n",
       "    </tr>\n",
       "    <tr>\n",
       "      <th>Guardian</th>\n",
       "      <td>66</td>\n",
       "    </tr>\n",
       "    <tr>\n",
       "      <th>Hierophant</th>\n",
       "      <td>557</td>\n",
       "    </tr>\n",
       "    <tr>\n",
       "      <th>Inquisitor</th>\n",
       "      <td>952</td>\n",
       "    </tr>\n",
       "    <tr>\n",
       "      <th>Juggernaut</th>\n",
       "      <td>437</td>\n",
       "    </tr>\n",
       "    <tr>\n",
       "      <th>Marauder</th>\n",
       "      <td>10</td>\n",
       "    </tr>\n",
       "    <tr>\n",
       "      <th>Necromancer</th>\n",
       "      <td>1716</td>\n",
       "    </tr>\n",
       "    <tr>\n",
       "      <th>Occultist</th>\n",
       "      <td>367</td>\n",
       "    </tr>\n",
       "    <tr>\n",
       "      <th>Pathfinder</th>\n",
       "      <td>236</td>\n",
       "    </tr>\n",
       "    <tr>\n",
       "      <th>Raider</th>\n",
       "      <td>1486</td>\n",
       "    </tr>\n",
       "    <tr>\n",
       "      <th>Ranger</th>\n",
       "      <td>13</td>\n",
       "    </tr>\n",
       "    <tr>\n",
       "      <th>Saboteur</th>\n",
       "      <td>407</td>\n",
       "    </tr>\n",
       "    <tr>\n",
       "      <th>Scion</th>\n",
       "      <td>8</td>\n",
       "    </tr>\n",
       "    <tr>\n",
       "      <th>Shadow</th>\n",
       "      <td>10</td>\n",
       "    </tr>\n",
       "    <tr>\n",
       "      <th>Slayer</th>\n",
       "      <td>1301</td>\n",
       "    </tr>\n",
       "    <tr>\n",
       "      <th>Templar</th>\n",
       "      <td>6</td>\n",
       "    </tr>\n",
       "    <tr>\n",
       "      <th>Trickster</th>\n",
       "      <td>955</td>\n",
       "    </tr>\n",
       "    <tr>\n",
       "      <th>Witch</th>\n",
       "      <td>21</td>\n",
       "    </tr>\n",
       "  </tbody>\n",
       "</table>\n",
       "</div>"
      ],
      "text/plain": [
       "                id\n",
       "class             \n",
       "Ascendant     1000\n",
       "Assassin       274\n",
       "Berserker     2290\n",
       "Champion       262\n",
       "Chieftain      456\n",
       "Deadeye        280\n",
       "Duelist         10\n",
       "Elementalist   541\n",
       "Gladiator     1320\n",
       "Guardian        66\n",
       "Hierophant     557\n",
       "Inquisitor     952\n",
       "Juggernaut     437\n",
       "Marauder        10\n",
       "Necromancer   1716\n",
       "Occultist      367\n",
       "Pathfinder     236\n",
       "Raider        1486\n",
       "Ranger          13\n",
       "Saboteur       407\n",
       "Scion            8\n",
       "Shadow          10\n",
       "Slayer        1301\n",
       "Templar          6\n",
       "Trickster      955\n",
       "Witch           21"
      ]
     },
     "execution_count": 16,
     "metadata": {},
     "output_type": "execute_result"
    }
   ],
   "source": [
    "# SSF 모드의 클래스별 유저 수\n",
    "\n",
    "pivot_countuser_class_ssf = ssf.pivot_table(values = 'id', columns = 'class', aggfunc = 'count')\n",
    "pivot_countuser_class_ssf.transpose()"
   ]
  },
  {
   "cell_type": "code",
   "execution_count": 17,
   "id": "93a004e7",
   "metadata": {
    "scrolled": false
   },
   "outputs": [
    {
     "data": {
      "image/png": "[encoded data removed]",
      "text/plain": [
       "<Figure size 1728x648 with 1 Axes>"
      ]
     },
     "metadata": {},
     "output_type": "display_data"
    }
   ],
   "source": [
    "# 위와 같은 그래프를 그리게 되지만 ...\n",
    "\n",
    "plt.rcParams[\"figure.figsize\"] = (24, 9)\n",
    "sns.barplot(data = pivot_countuser_class_ssf,\n",
    "            edgecolor=sns.color_palette(\"dark\", 1))\n",
    "plt.show()"
   ]
  },
  {
   "cell_type": "code",
   "execution_count": 18,
   "id": "e62f0d47",
   "metadata": {},
   "outputs": [
    {
     "data": {
      "text/html": [
       "<div>\n",
       "<style scoped>\n",
       "    .dataframe tbody tr th:only-of-type {\n",
       "        vertical-align: middle;\n",
       "    }\n",
       "\n",
       "    .dataframe tbody tr th {\n",
       "        vertical-align: top;\n",
       "    }\n",
       "\n",
       "    .dataframe thead th {\n",
       "        text-align: right;\n",
       "    }\n",
       "</style>\n",
       "<table border=\"1\" class=\"dataframe\">\n",
       "  <thead>\n",
       "    <tr style=\"text-align: right;\">\n",
       "      <th></th>\n",
       "      <th>id</th>\n",
       "    </tr>\n",
       "    <tr>\n",
       "      <th>class</th>\n",
       "      <th></th>\n",
       "    </tr>\n",
       "  </thead>\n",
       "  <tbody>\n",
       "    <tr>\n",
       "      <th>Ascendant</th>\n",
       "      <td>1889</td>\n",
       "    </tr>\n",
       "    <tr>\n",
       "      <th>Assassin</th>\n",
       "      <td>180</td>\n",
       "    </tr>\n",
       "    <tr>\n",
       "      <th>Berserker</th>\n",
       "      <td>4777</td>\n",
       "    </tr>\n",
       "    <tr>\n",
       "      <th>Champion</th>\n",
       "      <td>616</td>\n",
       "    </tr>\n",
       "    <tr>\n",
       "      <th>Chieftain</th>\n",
       "      <td>981</td>\n",
       "    </tr>\n",
       "    <tr>\n",
       "      <th>Deadeye</th>\n",
       "      <td>246</td>\n",
       "    </tr>\n",
       "    <tr>\n",
       "      <th>Elementalist</th>\n",
       "      <td>353</td>\n",
       "    </tr>\n",
       "    <tr>\n",
       "      <th>Gladiator</th>\n",
       "      <td>2004</td>\n",
       "    </tr>\n",
       "    <tr>\n",
       "      <th>Guardian</th>\n",
       "      <td>1010</td>\n",
       "    </tr>\n",
       "    <tr>\n",
       "      <th>Hierophant</th>\n",
       "      <td>500</td>\n",
       "    </tr>\n",
       "    <tr>\n",
       "      <th>Inquisitor</th>\n",
       "      <td>1387</td>\n",
       "    </tr>\n",
       "    <tr>\n",
       "      <th>Juggernaut</th>\n",
       "      <td>859</td>\n",
       "    </tr>\n",
       "    <tr>\n",
       "      <th>Marauder</th>\n",
       "      <td>1</td>\n",
       "    </tr>\n",
       "    <tr>\n",
       "      <th>Necromancer</th>\n",
       "      <td>3306</td>\n",
       "    </tr>\n",
       "    <tr>\n",
       "      <th>Occultist</th>\n",
       "      <td>452</td>\n",
       "    </tr>\n",
       "    <tr>\n",
       "      <th>Pathfinder</th>\n",
       "      <td>3844</td>\n",
       "    </tr>\n",
       "    <tr>\n",
       "      <th>Raider</th>\n",
       "      <td>2838</td>\n",
       "    </tr>\n",
       "    <tr>\n",
       "      <th>Ranger</th>\n",
       "      <td>4</td>\n",
       "    </tr>\n",
       "    <tr>\n",
       "      <th>Saboteur</th>\n",
       "      <td>481</td>\n",
       "    </tr>\n",
       "    <tr>\n",
       "      <th>Scion</th>\n",
       "      <td>1</td>\n",
       "    </tr>\n",
       "    <tr>\n",
       "      <th>Slayer</th>\n",
       "      <td>3049</td>\n",
       "    </tr>\n",
       "    <tr>\n",
       "      <th>Trickster</th>\n",
       "      <td>1045</td>\n",
       "    </tr>\n",
       "  </tbody>\n",
       "</table>\n",
       "</div>"
      ],
      "text/plain": [
       "                id\n",
       "class             \n",
       "Ascendant     1889\n",
       "Assassin       180\n",
       "Berserker     4777\n",
       "Champion       616\n",
       "Chieftain      981\n",
       "Deadeye        246\n",
       "Elementalist   353\n",
       "Gladiator     2004\n",
       "Guardian      1010\n",
       "Hierophant     500\n",
       "Inquisitor    1387\n",
       "Juggernaut     859\n",
       "Marauder         1\n",
       "Necromancer   3306\n",
       "Occultist      452\n",
       "Pathfinder    3844\n",
       "Raider        2838\n",
       "Ranger           4\n",
       "Saboteur       481\n",
       "Scion            1\n",
       "Slayer        3049\n",
       "Trickster     1045"
      ]
     },
     "execution_count": 18,
     "metadata": {},
     "output_type": "execute_result"
    }
   ],
   "source": [
    "# SSF가 아닌 모드 클래스별 유저 수\n",
    "\n",
    "pivot_countuser_class_non_ssf = non_ssf.pivot_table(values = 'id', columns = 'class', aggfunc = 'count')\n",
    "pivot_countuser_class_non_ssf.transpose()"
   ]
  },
  {
   "cell_type": "code",
   "execution_count": 19,
   "id": "c239f3cb",
   "metadata": {},
   "outputs": [
    {
     "data": {
      "image/png": "[encoded data removed]",
      "text/plain": [
       "<Figure size 1728x648 with 1 Axes>"
      ]
     },
     "metadata": {},
     "output_type": "display_data"
    }
   ],
   "source": [
    "plt.rcParams[\"figure.figsize\"] = (24, 9)\n",
    "sns.barplot(data = pivot_countuser_class_non_ssf,\n",
    "            edgecolor=sns.color_palette(\"dark\", 1))\n",
    "plt.show()"
   ]
  },
  {
   "cell_type": "markdown",
   "id": "92ef03b9",
   "metadata": {},
   "source": [
    "## class- rank "
   ]
  },
  {
   "cell_type": "markdown",
   "id": "c9b4b79d",
   "metadata": {},
   "source": [
    "### Mean rank"
   ]
  },
  {
   "cell_type": "code",
   "execution_count": null,
   "id": "30d7938b",
   "metadata": {},
   "outputs": [],
   "source": [
    "# 논 하드코어 모드의 클래스별 평균 랭크\n",
    "\n",
    "pivot_meanrank_class_ssf = ssf.pivot_table(values = 'rank', columns = 'class', aggfunc = 'mean')\n",
    "pivot_meanrank_class_ssf.transpose()"
   ]
  },
  {
   "cell_type": "code",
   "execution_count": null,
   "id": "4e5bb781",
   "metadata": {},
   "outputs": [],
   "source": [
    "pivot_meanrank_class_ssf.transpose().mean()"
   ]
  },
  {
   "cell_type": "code",
   "execution_count": null,
   "id": "fcb44d9b",
   "metadata": {
    "scrolled": true
   },
   "outputs": [],
   "source": [
    "plt.rcParams[\"figure.figsize\"] = (24, 9)\n",
    "plt.ylim(5000, 15000)\n",
    "sns.barplot(data = pivot_meanrank_class_ssf,\n",
    "            edgecolor=sns.color_palette(\"dark\", 1))\n",
    "plt.show()"
   ]
  },
  {
   "cell_type": "code",
   "execution_count": null,
   "id": "640334b0",
   "metadata": {},
   "outputs": [],
   "source": [
    "# 하드코어 모드의 클래스별 평균 랭크\n",
    "\n",
    "pivot_meanrank_class_non_ssf = non_ssf.pivot_table(values = 'rank', columns = 'class', aggfunc = 'mean')\n",
    "pivot_meanrank_class_non_ssf.transpose()"
   ]
  },
  {
   "cell_type": "code",
   "execution_count": null,
   "id": "d1c1f7eb",
   "metadata": {},
   "outputs": [],
   "source": [
    "pivot_meanrank_class_non_ssf.transpose().mean()"
   ]
  },
  {
   "cell_type": "code",
   "execution_count": null,
   "id": "939bbaa9",
   "metadata": {
    "scrolled": true
   },
   "outputs": [],
   "source": [
    "plt.rcParams[\"figure.figsize\"] = (24, 9)\n",
    "plt.ylim(5000, 15000)\n",
    "sns.barplot(data = pivot_meanrank_class_non_ssf,\n",
    "            edgecolor=sns.color_palette(\"dark\", 1))\n",
    "plt.show()"
   ]
  },
  {
   "cell_type": "markdown",
   "id": "27943882",
   "metadata": {},
   "source": [
    "### Min rank\n",
    "\n",
    "스케일이 많이 다르기 때문에 그래프로는 비교하기 쉽지 않음을 이해해야 한다. 그대로 표로 보기로 한다."
   ]
  },
  {
   "cell_type": "code",
   "execution_count": null,
   "id": "b20f0a14",
   "metadata": {},
   "outputs": [],
   "source": [
    "# 논 하드코어 모드의 클래스별 최소 랭크 (가장 높은 랭크)\n",
    "\n",
    "pivot_minrank_class_ssf = ssf.pivot_table(values = 'rank', columns = 'class', aggfunc = 'min')\n",
    "pivot_minrank_class_ssf.transpose()"
   ]
  },
  {
   "cell_type": "code",
   "execution_count": null,
   "id": "440eeda6",
   "metadata": {},
   "outputs": [],
   "source": [
    "pivot_minrank_class_ssf.transpose().mean()"
   ]
  },
  {
   "cell_type": "code",
   "execution_count": null,
   "id": "ad41ce3d",
   "metadata": {
    "scrolled": true
   },
   "outputs": [],
   "source": [
    "# 하드코어 모드의 클래스별 최소 랭크 (가장 높은 랭크)\n",
    "\n",
    "pivot_minrank_class_non_ssf = non_ssf.pivot_table(values = 'rank', columns = 'class', aggfunc = 'min')\n",
    "pivot_minrank_class_non_ssf.transpose()"
   ]
  },
  {
   "cell_type": "code",
   "execution_count": null,
   "id": "147ca01d",
   "metadata": {},
   "outputs": [],
   "source": [
    "pivot_minrank_class_non_ssf.transpose().mean()"
   ]
  },
  {
   "cell_type": "markdown",
   "id": "ae3d1558",
   "metadata": {},
   "source": [
    "## class- level\n",
    "\n",
    "### Mean level"
   ]
  },
  {
   "cell_type": "code",
   "execution_count": null,
   "id": "da24546f",
   "metadata": {
    "scrolled": true
   },
   "outputs": [],
   "source": [
    "# 논 하드코어 모드의 클래스별 평균 레벨\n",
    "\n",
    "pivot_meanlevel_class_ssf = ssf.pivot_table(values = 'level', columns = 'class', aggfunc = 'mean')\n",
    "pivot_meanlevel_class_ssf.transpose()"
   ]
  },
  {
   "cell_type": "code",
   "execution_count": null,
   "id": "19b3f46b",
   "metadata": {},
   "outputs": [],
   "source": [
    "pivot_meanlevel_class_ssf.transpose().mean()"
   ]
  },
  {
   "cell_type": "code",
   "execution_count": null,
   "id": "ba14da77",
   "metadata": {
    "scrolled": true
   },
   "outputs": [],
   "source": [
    "plt.rcParams[\"figure.figsize\"] = (24, 9)\n",
    "plt.ylim(50, 100)\n",
    "sns.barplot(data = pivot_meanlevel_class_ssf,\n",
    "            edgecolor=sns.color_palette(\"dark\", 1))\n",
    "plt.show()"
   ]
  },
  {
   "cell_type": "code",
   "execution_count": null,
   "id": "6b7ee85a",
   "metadata": {},
   "outputs": [],
   "source": [
    "# 하드코어 모드의 클래스별 평균 레벨\n",
    "\n",
    "pivot_meanlevel_class_non_ssf = non_ssf.pivot_table(values = 'level', columns = 'class', aggfunc = 'mean')\n",
    "pivot_meanlevel_class_non_ssf.transpose()"
   ]
  },
  {
   "cell_type": "code",
   "execution_count": null,
   "id": "1ac4b493",
   "metadata": {},
   "outputs": [],
   "source": [
    "pivot_meanlevel_class_non_ssf.transpose().mean()"
   ]
  },
  {
   "cell_type": "code",
   "execution_count": null,
   "id": "07f01717",
   "metadata": {
    "scrolled": true
   },
   "outputs": [],
   "source": [
    "plt.rcParams[\"figure.figsize\"] = (24, 9)\n",
    "plt.ylim(50, 100)\n",
    "sns.barplot(data = pivot_meanlevel_class_non_ssf,\n",
    "            edgecolor=sns.color_palette(\"dark\", 1))\n",
    "plt.show()"
   ]
  },
  {
   "cell_type": "markdown",
   "id": "dc4941bd",
   "metadata": {},
   "source": [
    "### Min level"
   ]
  },
  {
   "cell_type": "code",
   "execution_count": null,
   "id": "bf2379bf",
   "metadata": {
    "scrolled": true
   },
   "outputs": [],
   "source": [
    "# 논 하드코어 모드의 클래스별 최소 레벨 \n",
    "\n",
    "pivot_minlevel_class_ssf = ssf.pivot_table(values = 'level', columns = 'class', aggfunc = 'min')\n",
    "pivot_minlevel_class_ssf.transpose()"
   ]
  },
  {
   "cell_type": "code",
   "execution_count": null,
   "id": "7f6b51ac",
   "metadata": {},
   "outputs": [],
   "source": [
    "pivot_minlevel_class_ssf.transpose().mean()"
   ]
  },
  {
   "cell_type": "code",
   "execution_count": null,
   "id": "4c5dd552",
   "metadata": {},
   "outputs": [],
   "source": [
    "# 하드코어 모드의 클래스별 최소 레벨\n",
    "\n",
    "pivot_minlevel_class_non_ssf = non_ssf.pivot_table(values = 'level', columns = 'class', aggfunc = 'min')\n",
    "pivot_minlevel_class_non_ssf.transpose()"
   ]
  },
  {
   "cell_type": "code",
   "execution_count": null,
   "id": "e22822c3",
   "metadata": {},
   "outputs": [],
   "source": [
    "pivot_minlevel_class_non_ssf.transpose().mean()"
   ]
  },
  {
   "cell_type": "markdown",
   "id": "f0d710b9",
   "metadata": {},
   "source": [
    "### Commentary\n",
    "\n",
    "non_ssf모드의 최소레벨이 모든 클래스에서 53 레벨로 나타났다. 이것으로 보아 non_ssf모드에 진입할 수 있는 최소 레벨 제한이 53레벨이 아닐까 하는 추측을 해볼 수 있을 것 같다."
   ]
  },
  {
   "cell_type": "markdown",
   "id": "5dc983ca",
   "metadata": {},
   "source": [
    "## class - challenges"
   ]
  },
  {
   "cell_type": "markdown",
   "id": "d851307f",
   "metadata": {},
   "source": [
    "### Mean challenges"
   ]
  },
  {
   "cell_type": "code",
   "execution_count": null,
   "id": "887f7460",
   "metadata": {
    "scrolled": true
   },
   "outputs": [],
   "source": [
    "# 논 하드코어 모드의 클래스별 평균 트라이 회수\n",
    "\n",
    "pivot_meanchal_class_ssf = ssf.pivot_table(values = 'challenges', columns = 'class', aggfunc = 'mean')\n",
    "pivot_meanchal_class_ssf.transpose()"
   ]
  },
  {
   "cell_type": "code",
   "execution_count": null,
   "id": "c943fc8e",
   "metadata": {},
   "outputs": [],
   "source": [
    "pivot_meanchal_class_ssf.transpose().mean()"
   ]
  },
  {
   "cell_type": "code",
   "execution_count": null,
   "id": "fdc96657",
   "metadata": {
    "scrolled": true
   },
   "outputs": [],
   "source": [
    "plt.rcParams[\"figure.figsize\"] = (24, 9)\n",
    "sns.barplot(data = pivot_meanchal_class_ssf,\n",
    "            edgecolor=sns.color_palette(\"dark\", 1))\n",
    "plt.show()"
   ]
  },
  {
   "cell_type": "code",
   "execution_count": null,
   "id": "c88b60a5",
   "metadata": {
    "scrolled": true
   },
   "outputs": [],
   "source": [
    "# 하드코어 모드의 클래스별 평균 트라이 회수\n",
    "\n",
    "pivot_meanchal_class_non_ssf = non_ssf.pivot_table(values = 'challenges', columns = 'class', aggfunc = 'mean')\n",
    "pivot_meanchal_class_non_ssf.transpose()"
   ]
  },
  {
   "cell_type": "code",
   "execution_count": null,
   "id": "7fb3e0f0",
   "metadata": {},
   "outputs": [],
   "source": [
    "pivot_meanchal_class_non_ssf.transpose().mean()"
   ]
  },
  {
   "cell_type": "code",
   "execution_count": null,
   "id": "4e650f51",
   "metadata": {
    "scrolled": true
   },
   "outputs": [],
   "source": [
    "plt.rcParams[\"figure.figsize\"] = (24, 9)\n",
    "sns.barplot(data = pivot_meanchal_class_non_ssf,\n",
    "            edgecolor=sns.color_palette(\"dark\", 1))\n",
    "plt.show()"
   ]
  },
  {
   "cell_type": "markdown",
   "id": "9e7dfb03",
   "metadata": {},
   "source": [
    "### Min Challenges"
   ]
  },
  {
   "cell_type": "code",
   "execution_count": null,
   "id": "85b1f545",
   "metadata": {
    "scrolled": true
   },
   "outputs": [],
   "source": [
    "# 논 하드코어 모드의 클래스별 최소 트라이 횟수\n",
    "\n",
    "pivot_minchal_class_ssf = ssf.pivot_table(values = 'challenges', columns = 'class', aggfunc = 'min')\n",
    "pivot_minchal_class_ssf.transpose()"
   ]
  },
  {
   "cell_type": "code",
   "execution_count": null,
   "id": "b1ef82ba",
   "metadata": {},
   "outputs": [],
   "source": [
    "pivot_minchal_class_ssf.transpose().mean()"
   ]
  },
  {
   "cell_type": "code",
   "execution_count": null,
   "id": "185488d1",
   "metadata": {
    "scrolled": true
   },
   "outputs": [],
   "source": [
    "plt.rcParams[\"figure.figsize\"] = (24, 9)\n",
    "sns.barplot(data = pivot_minchal_class_ssf,\n",
    "            edgecolor=sns.color_palette(\"dark\", 1))\n",
    "plt.show()"
   ]
  },
  {
   "cell_type": "code",
   "execution_count": null,
   "id": "1edcf540",
   "metadata": {
    "scrolled": true
   },
   "outputs": [],
   "source": [
    "# 하드코어 모드의 클래스별 최소 트라이 횟수\n",
    "\n",
    "pivot_minchal_class_non_ssf = non_ssf.pivot_table(values = 'challenges', columns = 'class', aggfunc = 'min')\n",
    "pivot_minchal_class_non_ssf.transpose()"
   ]
  },
  {
   "cell_type": "code",
   "execution_count": null,
   "id": "515c3737",
   "metadata": {},
   "outputs": [],
   "source": [
    "pivot_minchal_class_non_ssf.transpose().mean()"
   ]
  },
  {
   "cell_type": "code",
   "execution_count": null,
   "id": "1951a350",
   "metadata": {
    "scrolled": true
   },
   "outputs": [],
   "source": [
    "plt.rcParams[\"figure.figsize\"] = (24, 9)\n",
    "sns.barplot(data = pivot_minchal_class_non_ssf,\n",
    "            edgecolor=sns.color_palette(\"dark\", 1))\n",
    "plt.show()"
   ]
  },
  {
   "cell_type": "markdown",
   "id": "58cbf24a",
   "metadata": {},
   "source": [
    "## rank\n",
    "\n",
    "--- \n",
    "\n",
    "여기서부터는 클래스와 떼어서 각각을 보려 한다.\n",
    "\n",
    "### ssf level distribution"
   ]
  },
  {
   "cell_type": "code",
   "execution_count": null,
   "id": "8e499f35",
   "metadata": {},
   "outputs": [],
   "source": [
    "plt.rcParams[\"figure.figsize\"] = (15, 6)\n",
    "sns.set_style('whitegrid')\n",
    "sns.countplot(data = ssf, x = 'level', \n",
    "              palette=\"Blues\", edgecolor=sns.color_palette(\"dark\", 1)) #palette = Accent\n",
    "plt.show()"
   ]
  },
  {
   "cell_type": "markdown",
   "id": "ff540a34",
   "metadata": {},
   "source": [
    "### non_ssf level distribution"
   ]
  },
  {
   "cell_type": "code",
   "execution_count": null,
   "id": "578b9865",
   "metadata": {},
   "outputs": [],
   "source": [
    "plt.rcParams[\"figure.figsize\"] = (15, 6)\n",
    "sns.set_style('whitegrid')\n",
    "sns.countplot(data = non_ssf, x = 'level', \n",
    "              palette=\"Blues\", edgecolor=sns.color_palette(\"dark\", 1)) #palette = Accent\n",
    "plt.show()"
   ]
  },
  {
   "cell_type": "markdown",
   "id": "86d0d99f",
   "metadata": {},
   "source": [
    "## exp\n",
    "\n",
    "경험치는 연속형 변수이기 때문에 구간을 나누어주어서 간단하게 분포를 보려한다. \n",
    "\n",
    "### ssf exp distribution"
   ]
  },
  {
   "cell_type": "code",
   "execution_count": null,
   "id": "71421506",
   "metadata": {
    "scrolled": true
   },
   "outputs": [],
   "source": [
    "ssf.hist(column = 'experience', figsize=(15,6), bins=50)"
   ]
  },
  {
   "cell_type": "markdown",
   "id": "451c88bd",
   "metadata": {},
   "source": [
    "### non_ssf exp distribution"
   ]
  },
  {
   "cell_type": "code",
   "execution_count": null,
   "id": "51613a89",
   "metadata": {},
   "outputs": [],
   "source": [
    "non_ssf.hist(column = 'experience', figsize = (15,6), bins = 50)"
   ]
  },
  {
   "cell_type": "markdown",
   "id": "2515b5db",
   "metadata": {},
   "source": [
    "## online\n",
    "\n",
    "### ssf online or offline"
   ]
  },
  {
   "cell_type": "code",
   "execution_count": null,
   "id": "7caaee46",
   "metadata": {},
   "outputs": [],
   "source": [
    "plt.rcParams[\"figure.figsize\"] = (3, 5)\n",
    "sns.set_style('whitegrid')\n",
    "sns.countplot(data = ssf, x = 'online', \n",
    "              palette=\"Set3\", edgecolor=sns.color_palette(\"dark\", 1))\n",
    "plt.show()"
   ]
  },
  {
   "cell_type": "markdown",
   "id": "172738df",
   "metadata": {},
   "source": [
    "### non_ssf online or offline"
   ]
  },
  {
   "cell_type": "code",
   "execution_count": null,
   "id": "0e4f6444",
   "metadata": {},
   "outputs": [],
   "source": [
    "plt.rcParams[\"figure.figsize\"] = (3, 5)\n",
    "sns.set_style('whitegrid')\n",
    "sns.countplot(data = non_ssf, x = 'online', \n",
    "              palette=\"Set3\", edgecolor=sns.color_palette(\"dark\", 1))\n",
    "plt.show()"
   ]
  },
  {
   "cell_type": "markdown",
   "id": "862a72f5",
   "metadata": {},
   "source": [
    "online 자체의 큰 의미는 있어보이지 않지만, 데이터를 얻었을 당시 랭커들 중에는 접속중이지 않은 사람이 훨씬 많다. 그럼 전체 중 접속률은?"
   ]
  },
  {
   "cell_type": "code",
   "execution_count": null,
   "id": "4491c190",
   "metadata": {},
   "outputs": [],
   "source": [
    "ssf['online'].value_counts()/sum(ssf['online'].value_counts())*100"
   ]
  },
  {
   "cell_type": "code",
   "execution_count": null,
   "id": "10a446f7",
   "metadata": {},
   "outputs": [],
   "source": [
    "non_ssf['online'].value_counts()/sum(non_ssf['online'].value_counts())*100"
   ]
  },
  {
   "cell_type": "markdown",
   "id": "1a8f3fbb",
   "metadata": {},
   "source": [
    "### Commentary\n",
    "\n",
    "ssf mode's rankers online rate = 2.4%\n",
    "\n",
    "non_ssf mode's rankers online rate = 0.4%"
   ]
  },
  {
   "cell_type": "markdown",
   "id": "7df5476f",
   "metadata": {},
   "source": [
    "## 3 stats and thier corr"
   ]
  },
  {
   "cell_type": "markdown",
   "id": "a5e2fd06",
   "metadata": {},
   "source": [
    "### ssf"
   ]
  },
  {
   "cell_type": "code",
   "execution_count": null,
   "id": "43d1bffd",
   "metadata": {},
   "outputs": [],
   "source": [
    "ssf[['class', 'stat_Str', 'stat_Int', 'stat_Dex', 'stats_num']].sample(10)"
   ]
  },
  {
   "cell_type": "code",
   "execution_count": null,
   "id": "c44fd07e",
   "metadata": {},
   "outputs": [],
   "source": [
    "ssf[['class', 'stat_Str', 'stat_Int', 'stat_Dex', 'stats_num']].corr()"
   ]
  },
  {
   "cell_type": "code",
   "execution_count": null,
   "id": "ad843098",
   "metadata": {},
   "outputs": [],
   "source": [
    "plt.rcParams[\"figure.figsize\"] = (4, 4)\n",
    "sns.heatmap(ssf[['stat_Str', 'stat_Int', 'stat_Dex', 'stats_num']].corr(),\n",
    "            annot = True, square=True, cmap = 'PuRd_r')\n",
    "plt.show()"
   ]
  },
  {
   "cell_type": "markdown",
   "id": "5c4ea6b2",
   "metadata": {},
   "source": [
    "### non_ssf"
   ]
  },
  {
   "cell_type": "code",
   "execution_count": null,
   "id": "c035c671",
   "metadata": {},
   "outputs": [],
   "source": [
    "non_ssf[['class', 'stat_Str', 'stat_Dex', 'stat_Int', 'stats_num']].sample(10)"
   ]
  },
  {
   "cell_type": "code",
   "execution_count": null,
   "id": "7d2545c4",
   "metadata": {},
   "outputs": [],
   "source": [
    "non_ssf[['class', 'stat_Str', 'stat_Dex', 'stat_Int', 'stats_num']].corr()"
   ]
  },
  {
   "cell_type": "code",
   "execution_count": null,
   "id": "f13e1d4f",
   "metadata": {},
   "outputs": [],
   "source": [
    "sns.heatmap(data = non_ssf[['class', 'stat_Str', 'stat_Dex', 'stat_Int', 'stats_num']].corr(), \n",
    "           annot = True, cmap = 'PuRd_r', square = True)"
   ]
  },
  {
   "cell_type": "markdown",
   "id": "2647e92c",
   "metadata": {},
   "source": [
    "### Commentary\n",
    "\n",
    "상관관계는 크게 눈에 띄는 것은 없었지만 stats_num 을 보면 ssf는 Str과, non_ssf는 Dex와 상관관계가 높은 것을 볼 수 있었다.\n",
    "\n",
    "이것만 보아도 어떤 스탯이 좀더 많은 선호도를 보이고 있는지 간단히 확인할 수 있다."
   ]
  },
  {
   "cell_type": "markdown",
   "id": "1eee8c3a",
   "metadata": {},
   "source": []
  }
 ],
 "metadata": {
  "kernelspec": {
   "display_name": "Python 3 (ipykernel)",
   "language": "python",
   "name": "python3"
  },
  "language_info": {
   "codemirror_mode": {
    "name": "ipython",
    "version": 3
   },
   "file_extension": ".py",
   "mimetype": "text/x-python",
   "name": "python",
   "nbconvert_exporter": "python",
   "pygments_lexer": "ipython3",
   "version": "3.8.5"
  },
  "toc": {
   "base_numbering": 1,
   "nav_menu": {},
   "number_sections": true,
   "sideBar": true,
   "skip_h1_title": false,
   "title_cell": "Table of Contents",
   "title_sidebar": "Contents",
   "toc_cell": false,
   "toc_position": {
    "height": "calc(100% - 180px)",
    "left": "10px",
    "top": "150px",
    "width": "360px"
   },
   "toc_section_display": true,
   "toc_window_display": true
  }
 },
 "nbformat": 4,
 "nbformat_minor": 5
}

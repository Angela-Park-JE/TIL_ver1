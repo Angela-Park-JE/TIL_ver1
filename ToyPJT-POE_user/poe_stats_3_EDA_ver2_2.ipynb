{
 "cells": [
  {
   "cell_type": "markdown",
   "id": "536f7e71",
   "metadata": {},
   "source": [
    "# Path of Exile game stats data eda2\n",
    "\n",
    "dates: 2022.04.26 ~ \n",
    "\n",
    "This file contains an analysis processing of the game 'Path of Exile' data.\n",
    "\n",
    "###### Origins of datas from here: \n",
    "poe_stats : https://www.kaggle.com/datasets/gagazet/path-of-exile-league-statistic\n",
    "\n",
    "Data contains stats of 59000 players, from 4th August of 2017 and before now.\n",
    "\n",
    "---\n",
    "\n",
    "이 파일은 지난 3 파일에서 하드코어 모드와 일반모드를 나누었던 것에 이어서, 솔로모드와 파티가능모드로 나누어 볼 예정입니다."
   ]
  },
  {
   "cell_type": "markdown",
   "id": "50b8d002",
   "metadata": {},
   "source": [
    "# Dataset and libraries \n",
    "\n",
    "## data and libraries import"
   ]
  },
  {
   "cell_type": "code",
   "execution_count": 1,
   "id": "1a5233bb",
   "metadata": {
    "scrolled": true
   },
   "outputs": [],
   "source": [
    "import pandas as pd\n",
    "import numpy as np\n",
    "import matplotlib.pyplot as plt\n",
    "import seaborn as sns\n",
    "from pathlib import Path\n",
    "\n",
    "from scipy.stats import trim_mean\n",
    "from statsmodels import robust\n",
    "import wquantiles\n",
    "\n",
    "df = pd.read_csv('poe_stats_2revisedrank.csv')\n",
    "\n",
    "pd.options.display.float_format = '{:,.4f}'.format # 수 표현을 일부 바꿈\n"
   ]
  },
  {
   "cell_type": "code",
   "execution_count": 2,
   "id": "1511e496",
   "metadata": {
    "scrolled": true
   },
   "outputs": [
    {
     "data": {
      "text/plain": [
       "rank             14981\n",
       "dead                 2\n",
       "online               2\n",
       "name             58286\n",
       "level               48\n",
       "class               26\n",
       "id               59776\n",
       "experience       54124\n",
       "account          37123\n",
       "challenges          37\n",
       "twitch            9613\n",
       "ladder               4\n",
       "special_class        2\n",
       "stat_Str             2\n",
       "stat_Int             2\n",
       "stat_Dex             2\n",
       "stats_num            3\n",
       "dtype: int64"
      ]
     },
     "execution_count": 2,
     "metadata": {},
     "output_type": "execute_result"
    }
   ],
   "source": [
    "df.nunique()"
   ]
  },
  {
   "cell_type": "code",
   "execution_count": 3,
   "id": "f894c720",
   "metadata": {
    "scrolled": true
   },
   "outputs": [
    {
     "data": {
      "text/plain": [
       "rank                 0\n",
       "dead                 0\n",
       "online               0\n",
       "name                 0\n",
       "level                0\n",
       "class                0\n",
       "id                   0\n",
       "experience           0\n",
       "account              0\n",
       "challenges           0\n",
       "twitch           43476\n",
       "ladder               0\n",
       "special_class        0\n",
       "stat_Str             0\n",
       "stat_Int             0\n",
       "stat_Dex             0\n",
       "stats_num            0\n",
       "dtype: int64"
      ]
     },
     "execution_count": 3,
     "metadata": {},
     "output_type": "execute_result"
    }
   ],
   "source": [
    "df.isnull().sum()"
   ]
  },
  {
   "cell_type": "code",
   "execution_count": 4,
   "id": "40a55f15",
   "metadata": {},
   "outputs": [
    {
     "data": {
      "text/plain": [
       "array(['Harbinger', 'SSF Harbinger non_ssf', 'Hardcore Harbinger',\n",
       "       'SSF Harbinger'], dtype=object)"
      ]
     },
     "execution_count": 4,
     "metadata": {},
     "output_type": "execute_result"
    }
   ],
   "source": [
    "df.ladder.unique()"
   ]
  },
  {
   "cell_type": "code",
   "execution_count": 9,
   "id": "30e17b16",
   "metadata": {},
   "outputs": [
    {
     "data": {
      "text/html": [
       "<div>\n",
       "<style scoped>\n",
       "    .dataframe tbody tr th:only-of-type {\n",
       "        vertical-align: middle;\n",
       "    }\n",
       "\n",
       "    .dataframe tbody tr th {\n",
       "        vertical-align: top;\n",
       "    }\n",
       "\n",
       "    .dataframe thead th {\n",
       "        text-align: right;\n",
       "    }\n",
       "</style>\n",
       "<table border=\"1\" class=\"dataframe\">\n",
       "  <thead>\n",
       "    <tr style=\"text-align: right;\">\n",
       "      <th></th>\n",
       "      <th>rank</th>\n",
       "      <th>level</th>\n",
       "      <th>experience</th>\n",
       "      <th>challenges</th>\n",
       "      <th>special_class</th>\n",
       "      <th>stat_Str</th>\n",
       "      <th>stat_Int</th>\n",
       "      <th>stat_Dex</th>\n",
       "      <th>stats_num</th>\n",
       "    </tr>\n",
       "  </thead>\n",
       "  <tbody>\n",
       "    <tr>\n",
       "      <th>count</th>\n",
       "      <td>59,776.00</td>\n",
       "      <td>59,776.00</td>\n",
       "      <td>59,776.00</td>\n",
       "      <td>59,776.00</td>\n",
       "      <td>59,776.00</td>\n",
       "      <td>59,776.00</td>\n",
       "      <td>59,776.00</td>\n",
       "      <td>59,776.00</td>\n",
       "      <td>59,776.00</td>\n",
       "    </tr>\n",
       "    <tr>\n",
       "      <th>mean</th>\n",
       "      <td>7,472.54</td>\n",
       "      <td>85.42</td>\n",
       "      <td>1,825,786,027.36</td>\n",
       "      <td>25.76</td>\n",
       "      <td>0.99</td>\n",
       "      <td>0.58</td>\n",
       "      <td>0.42</td>\n",
       "      <td>0.51</td>\n",
       "      <td>1.51</td>\n",
       "    </tr>\n",
       "    <tr>\n",
       "      <th>std</th>\n",
       "      <td>4,314.06</td>\n",
       "      <td>11.29</td>\n",
       "      <td>1,094,747,934.61</td>\n",
       "      <td>8.44</td>\n",
       "      <td>0.09</td>\n",
       "      <td>0.49</td>\n",
       "      <td>0.49</td>\n",
       "      <td>0.50</td>\n",
       "      <td>0.61</td>\n",
       "    </tr>\n",
       "    <tr>\n",
       "      <th>min</th>\n",
       "      <td>1.00</td>\n",
       "      <td>53.00</td>\n",
       "      <td>77,909,816.00</td>\n",
       "      <td>4.00</td>\n",
       "      <td>0.00</td>\n",
       "      <td>0.00</td>\n",
       "      <td>0.00</td>\n",
       "      <td>0.00</td>\n",
       "      <td>1.00</td>\n",
       "    </tr>\n",
       "    <tr>\n",
       "      <th>25%</th>\n",
       "      <td>3,736.75</td>\n",
       "      <td>78.00</td>\n",
       "      <td>777,469,746.25</td>\n",
       "      <td>19.00</td>\n",
       "      <td>1.00</td>\n",
       "      <td>0.00</td>\n",
       "      <td>0.00</td>\n",
       "      <td>0.00</td>\n",
       "      <td>1.00</td>\n",
       "    </tr>\n",
       "    <tr>\n",
       "      <th>50%</th>\n",
       "      <td>7,472.50</td>\n",
       "      <td>90.00</td>\n",
       "      <td>1,934,009,687.00</td>\n",
       "      <td>25.00</td>\n",
       "      <td>1.00</td>\n",
       "      <td>1.00</td>\n",
       "      <td>0.00</td>\n",
       "      <td>1.00</td>\n",
       "      <td>1.00</td>\n",
       "    </tr>\n",
       "    <tr>\n",
       "      <th>75%</th>\n",
       "      <td>11,208.25</td>\n",
       "      <td>95.00</td>\n",
       "      <td>2,876,116,901.00</td>\n",
       "      <td>33.00</td>\n",
       "      <td>1.00</td>\n",
       "      <td>1.00</td>\n",
       "      <td>1.00</td>\n",
       "      <td>1.00</td>\n",
       "      <td>2.00</td>\n",
       "    </tr>\n",
       "    <tr>\n",
       "      <th>max</th>\n",
       "      <td>14,981.00</td>\n",
       "      <td>100.00</td>\n",
       "      <td>4,250,334,444.00</td>\n",
       "      <td>40.00</td>\n",
       "      <td>1.00</td>\n",
       "      <td>1.00</td>\n",
       "      <td>1.00</td>\n",
       "      <td>1.00</td>\n",
       "      <td>3.00</td>\n",
       "    </tr>\n",
       "  </tbody>\n",
       "</table>\n",
       "</div>"
      ],
      "text/plain": [
       "           rank     level       experience  challenges  special_class  \\\n",
       "count 59,776.00 59,776.00        59,776.00   59,776.00      59,776.00   \n",
       "mean   7,472.54     85.42 1,825,786,027.36       25.76           0.99   \n",
       "std    4,314.06     11.29 1,094,747,934.61        8.44           0.09   \n",
       "min        1.00     53.00    77,909,816.00        4.00           0.00   \n",
       "25%    3,736.75     78.00   777,469,746.25       19.00           1.00   \n",
       "50%    7,472.50     90.00 1,934,009,687.00       25.00           1.00   \n",
       "75%   11,208.25     95.00 2,876,116,901.00       33.00           1.00   \n",
       "max   14,981.00    100.00 4,250,334,444.00       40.00           1.00   \n",
       "\n",
       "       stat_Str  stat_Int  stat_Dex  stats_num  \n",
       "count 59,776.00 59,776.00 59,776.00  59,776.00  \n",
       "mean       0.58      0.42      0.51       1.51  \n",
       "std        0.49      0.49      0.50       0.61  \n",
       "min        0.00      0.00      0.00       1.00  \n",
       "25%        0.00      0.00      0.00       1.00  \n",
       "50%        1.00      0.00      1.00       1.00  \n",
       "75%        1.00      1.00      1.00       2.00  \n",
       "max        1.00      1.00      1.00       3.00  "
      ]
     },
     "execution_count": 9,
     "metadata": {},
     "output_type": "execute_result"
    }
   ],
   "source": [
    "pd.options.display.float_format = '{:,.2f}'.format\n",
    "df.describe()"
   ]
  },
  {
   "cell_type": "markdown",
   "id": "21b2bf53",
   "metadata": {},
   "source": [
    "# try: with ladder division (SSF or not)\n",
    "---\n",
    "ladder에서 SSF가 달린 모드는 오로지 혼자서만 깨야하는 솔로 플레이 모드이다. 이번에는 그런 SSF 모드와 멀티유저가능 모드를 나누어 보려고 한다."
   ]
  },
  {
   "cell_type": "markdown",
   "id": "86fb1c13",
   "metadata": {},
   "source": [
    "## SSF dataframe"
   ]
  },
  {
   "cell_type": "code",
   "execution_count": 10,
   "id": "8791e1d7",
   "metadata": {},
   "outputs": [],
   "source": [
    "ssf = df[(df['ladder'] == 'SSF Harbinger')|(df['ladder'] == 'SSF Harbinger non_ssf')]"
   ]
  },
  {
   "cell_type": "code",
   "execution_count": 11,
   "id": "5b04912c",
   "metadata": {},
   "outputs": [
    {
     "data": {
      "text/html": [
       "<div>\n",
       "<style scoped>\n",
       "    .dataframe tbody tr th:only-of-type {\n",
       "        vertical-align: middle;\n",
       "    }\n",
       "\n",
       "    .dataframe tbody tr th {\n",
       "        vertical-align: top;\n",
       "    }\n",
       "\n",
       "    .dataframe thead th {\n",
       "        text-align: right;\n",
       "    }\n",
       "</style>\n",
       "<table border=\"1\" class=\"dataframe\">\n",
       "  <thead>\n",
       "    <tr style=\"text-align: right;\">\n",
       "      <th></th>\n",
       "      <th>rank</th>\n",
       "      <th>level</th>\n",
       "      <th>experience</th>\n",
       "      <th>challenges</th>\n",
       "      <th>special_class</th>\n",
       "      <th>stat_Str</th>\n",
       "      <th>stat_Int</th>\n",
       "      <th>stat_Dex</th>\n",
       "      <th>stats_num</th>\n",
       "    </tr>\n",
       "  </thead>\n",
       "  <tbody>\n",
       "    <tr>\n",
       "      <th>count</th>\n",
       "      <td>29,953.00</td>\n",
       "      <td>29,953.00</td>\n",
       "      <td>29,953.00</td>\n",
       "      <td>29,953.00</td>\n",
       "      <td>29,953.00</td>\n",
       "      <td>29,953.00</td>\n",
       "      <td>29,953.00</td>\n",
       "      <td>29,953.00</td>\n",
       "      <td>29,953.00</td>\n",
       "    </tr>\n",
       "    <tr>\n",
       "      <th>mean</th>\n",
       "      <td>7,488.75</td>\n",
       "      <td>77.23</td>\n",
       "      <td>947,850,703.36</td>\n",
       "      <td>21.22</td>\n",
       "      <td>0.98</td>\n",
       "      <td>0.59</td>\n",
       "      <td>0.48</td>\n",
       "      <td>0.48</td>\n",
       "      <td>1.56</td>\n",
       "    </tr>\n",
       "    <tr>\n",
       "      <th>std</th>\n",
       "      <td>4,323.42</td>\n",
       "      <td>10.53</td>\n",
       "      <td>681,177,040.14</td>\n",
       "      <td>7.37</td>\n",
       "      <td>0.13</td>\n",
       "      <td>0.49</td>\n",
       "      <td>0.50</td>\n",
       "      <td>0.50</td>\n",
       "      <td>0.61</td>\n",
       "    </tr>\n",
       "    <tr>\n",
       "      <th>min</th>\n",
       "      <td>1.00</td>\n",
       "      <td>53.00</td>\n",
       "      <td>77,909,816.00</td>\n",
       "      <td>4.00</td>\n",
       "      <td>0.00</td>\n",
       "      <td>0.00</td>\n",
       "      <td>0.00</td>\n",
       "      <td>0.00</td>\n",
       "      <td>1.00</td>\n",
       "    </tr>\n",
       "    <tr>\n",
       "      <th>25%</th>\n",
       "      <td>3,745.00</td>\n",
       "      <td>71.00</td>\n",
       "      <td>408,193,966.00</td>\n",
       "      <td>15.00</td>\n",
       "      <td>1.00</td>\n",
       "      <td>0.00</td>\n",
       "      <td>0.00</td>\n",
       "      <td>0.00</td>\n",
       "      <td>1.00</td>\n",
       "    </tr>\n",
       "    <tr>\n",
       "      <th>50%</th>\n",
       "      <td>7,489.00</td>\n",
       "      <td>78.00</td>\n",
       "      <td>780,717,259.00</td>\n",
       "      <td>20.00</td>\n",
       "      <td>1.00</td>\n",
       "      <td>1.00</td>\n",
       "      <td>0.00</td>\n",
       "      <td>0.00</td>\n",
       "      <td>1.00</td>\n",
       "    </tr>\n",
       "    <tr>\n",
       "      <th>75%</th>\n",
       "      <td>11,233.00</td>\n",
       "      <td>86.00</td>\n",
       "      <td>1,408,591,398.00</td>\n",
       "      <td>26.00</td>\n",
       "      <td>1.00</td>\n",
       "      <td>1.00</td>\n",
       "      <td>1.00</td>\n",
       "      <td>1.00</td>\n",
       "      <td>2.00</td>\n",
       "    </tr>\n",
       "    <tr>\n",
       "      <th>max</th>\n",
       "      <td>14,981.00</td>\n",
       "      <td>100.00</td>\n",
       "      <td>4,250,334,444.00</td>\n",
       "      <td>40.00</td>\n",
       "      <td>1.00</td>\n",
       "      <td>1.00</td>\n",
       "      <td>1.00</td>\n",
       "      <td>1.00</td>\n",
       "      <td>3.00</td>\n",
       "    </tr>\n",
       "  </tbody>\n",
       "</table>\n",
       "</div>"
      ],
      "text/plain": [
       "           rank     level       experience  challenges  special_class  \\\n",
       "count 29,953.00 29,953.00        29,953.00   29,953.00      29,953.00   \n",
       "mean   7,488.75     77.23   947,850,703.36       21.22           0.98   \n",
       "std    4,323.42     10.53   681,177,040.14        7.37           0.13   \n",
       "min        1.00     53.00    77,909,816.00        4.00           0.00   \n",
       "25%    3,745.00     71.00   408,193,966.00       15.00           1.00   \n",
       "50%    7,489.00     78.00   780,717,259.00       20.00           1.00   \n",
       "75%   11,233.00     86.00 1,408,591,398.00       26.00           1.00   \n",
       "max   14,981.00    100.00 4,250,334,444.00       40.00           1.00   \n",
       "\n",
       "       stat_Str  stat_Int  stat_Dex  stats_num  \n",
       "count 29,953.00 29,953.00 29,953.00  29,953.00  \n",
       "mean       0.59      0.48      0.48       1.56  \n",
       "std        0.49      0.50      0.50       0.61  \n",
       "min        0.00      0.00      0.00       1.00  \n",
       "25%        0.00      0.00      0.00       1.00  \n",
       "50%        1.00      0.00      0.00       1.00  \n",
       "75%        1.00      1.00      1.00       2.00  \n",
       "max        1.00      1.00      1.00       3.00  "
      ]
     },
     "execution_count": 11,
     "metadata": {},
     "output_type": "execute_result"
    }
   ],
   "source": [
    "ssf.describe()"
   ]
  },
  {
   "cell_type": "code",
   "execution_count": 12,
   "id": "a31732e3",
   "metadata": {},
   "outputs": [
    {
     "data": {
      "text/html": [
       "<div>\n",
       "<style scoped>\n",
       "    .dataframe tbody tr th:only-of-type {\n",
       "        vertical-align: middle;\n",
       "    }\n",
       "\n",
       "    .dataframe tbody tr th {\n",
       "        vertical-align: top;\n",
       "    }\n",
       "\n",
       "    .dataframe thead th {\n",
       "        text-align: right;\n",
       "    }\n",
       "</style>\n",
       "<table border=\"1\" class=\"dataframe\">\n",
       "  <thead>\n",
       "    <tr style=\"text-align: right;\">\n",
       "      <th></th>\n",
       "      <th>name</th>\n",
       "      <th>class</th>\n",
       "      <th>id</th>\n",
       "      <th>account</th>\n",
       "      <th>twitch</th>\n",
       "      <th>ladder</th>\n",
       "    </tr>\n",
       "  </thead>\n",
       "  <tbody>\n",
       "    <tr>\n",
       "      <th>count</th>\n",
       "      <td>29953</td>\n",
       "      <td>29953</td>\n",
       "      <td>29953</td>\n",
       "      <td>29953</td>\n",
       "      <td>6384</td>\n",
       "      <td>29953</td>\n",
       "    </tr>\n",
       "    <tr>\n",
       "      <th>unique</th>\n",
       "      <td>28668</td>\n",
       "      <td>26</td>\n",
       "      <td>29953</td>\n",
       "      <td>16251</td>\n",
       "      <td>3234</td>\n",
       "      <td>2</td>\n",
       "    </tr>\n",
       "    <tr>\n",
       "      <th>top</th>\n",
       "      <td>_Flic_</td>\n",
       "      <td>Berserker</td>\n",
       "      <td>8f3216db5ac9106c287a834731aafc83c387138f28fc45...</td>\n",
       "      <td>chuz101</td>\n",
       "      <td>thespunkylobster</td>\n",
       "      <td>SSF Harbinger</td>\n",
       "    </tr>\n",
       "    <tr>\n",
       "      <th>freq</th>\n",
       "      <td>14</td>\n",
       "      <td>3934</td>\n",
       "      <td>1</td>\n",
       "      <td>29</td>\n",
       "      <td>18</td>\n",
       "      <td>14981</td>\n",
       "    </tr>\n",
       "  </tbody>\n",
       "</table>\n",
       "</div>"
      ],
      "text/plain": [
       "          name      class                                                 id  \\\n",
       "count    29953      29953                                              29953   \n",
       "unique   28668         26                                              29953   \n",
       "top     _Flic_  Berserker  8f3216db5ac9106c287a834731aafc83c387138f28fc45...   \n",
       "freq        14       3934                                                  1   \n",
       "\n",
       "        account            twitch         ladder  \n",
       "count     29953              6384          29953  \n",
       "unique    16251              3234              2  \n",
       "top     chuz101  thespunkylobster  SSF Harbinger  \n",
       "freq         29                18          14981  "
      ]
     },
     "execution_count": 12,
     "metadata": {},
     "output_type": "execute_result"
    }
   ],
   "source": [
    "ssf.describe(include='object')"
   ]
  },
  {
   "cell_type": "markdown",
   "id": "73bff7a0",
   "metadata": {},
   "source": [
    "## non solo dataframe"
   ]
  },
  {
   "cell_type": "code",
   "execution_count": 6,
   "id": "3554c4cc",
   "metadata": {},
   "outputs": [],
   "source": [
    "non_ssf = df[(df['ladder'] == 'Harbinger')|(df['ladder'] == 'Hardcore Harbinger')]"
   ]
  },
  {
   "cell_type": "code",
   "execution_count": 7,
   "id": "2fe0dc47",
   "metadata": {},
   "outputs": [
    {
     "data": {
      "text/html": [
       "<div>\n",
       "<style scoped>\n",
       "    .dataframe tbody tr th:only-of-type {\n",
       "        vertical-align: middle;\n",
       "    }\n",
       "\n",
       "    .dataframe tbody tr th {\n",
       "        vertical-align: top;\n",
       "    }\n",
       "\n",
       "    .dataframe thead th {\n",
       "        text-align: right;\n",
       "    }\n",
       "</style>\n",
       "<table border=\"1\" class=\"dataframe\">\n",
       "  <thead>\n",
       "    <tr style=\"text-align: right;\">\n",
       "      <th></th>\n",
       "      <th>rank</th>\n",
       "      <th>level</th>\n",
       "      <th>experience</th>\n",
       "      <th>challenges</th>\n",
       "      <th>special_class</th>\n",
       "      <th>stat_Str</th>\n",
       "      <th>stat_Int</th>\n",
       "      <th>stat_Dex</th>\n",
       "      <th>stats_num</th>\n",
       "    </tr>\n",
       "  </thead>\n",
       "  <tbody>\n",
       "    <tr>\n",
       "      <th>count</th>\n",
       "      <td>29,823.00</td>\n",
       "      <td>29,823.00</td>\n",
       "      <td>29,823.00</td>\n",
       "      <td>29,823.00</td>\n",
       "      <td>29,823.00</td>\n",
       "      <td>29,823.00</td>\n",
       "      <td>29,823.00</td>\n",
       "      <td>29,823.00</td>\n",
       "      <td>29,823.00</td>\n",
       "    </tr>\n",
       "    <tr>\n",
       "      <th>mean</th>\n",
       "      <td>7,456.25</td>\n",
       "      <td>93.65</td>\n",
       "      <td>2,707,548,316.85</td>\n",
       "      <td>30.32</td>\n",
       "      <td>1.00</td>\n",
       "      <td>0.57</td>\n",
       "      <td>0.36</td>\n",
       "      <td>0.54</td>\n",
       "      <td>1.47</td>\n",
       "    </tr>\n",
       "    <tr>\n",
       "      <th>std</th>\n",
       "      <td>4,304.65</td>\n",
       "      <td>2.97</td>\n",
       "      <td>620,079,660.81</td>\n",
       "      <td>6.84</td>\n",
       "      <td>0.01</td>\n",
       "      <td>0.49</td>\n",
       "      <td>0.48</td>\n",
       "      <td>0.50</td>\n",
       "      <td>0.61</td>\n",
       "    </tr>\n",
       "    <tr>\n",
       "      <th>min</th>\n",
       "      <td>1.00</td>\n",
       "      <td>89.00</td>\n",
       "      <td>1,786,638,972.00</td>\n",
       "      <td>8.00</td>\n",
       "      <td>0.00</td>\n",
       "      <td>0.00</td>\n",
       "      <td>0.00</td>\n",
       "      <td>0.00</td>\n",
       "      <td>1.00</td>\n",
       "    </tr>\n",
       "    <tr>\n",
       "      <th>25%</th>\n",
       "      <td>3,728.50</td>\n",
       "      <td>91.00</td>\n",
       "      <td>2,129,280,019.50</td>\n",
       "      <td>25.00</td>\n",
       "      <td>1.00</td>\n",
       "      <td>0.00</td>\n",
       "      <td>0.00</td>\n",
       "      <td>0.00</td>\n",
       "      <td>1.00</td>\n",
       "    </tr>\n",
       "    <tr>\n",
       "      <th>50%</th>\n",
       "      <td>7,456.00</td>\n",
       "      <td>94.00</td>\n",
       "      <td>2,835,787,324.00</td>\n",
       "      <td>30.00</td>\n",
       "      <td>1.00</td>\n",
       "      <td>1.00</td>\n",
       "      <td>0.00</td>\n",
       "      <td>1.00</td>\n",
       "      <td>1.00</td>\n",
       "    </tr>\n",
       "    <tr>\n",
       "      <th>75%</th>\n",
       "      <td>11,184.00</td>\n",
       "      <td>95.00</td>\n",
       "      <td>3,031,208,352.50</td>\n",
       "      <td>36.00</td>\n",
       "      <td>1.00</td>\n",
       "      <td>1.00</td>\n",
       "      <td>1.00</td>\n",
       "      <td>1.00</td>\n",
       "      <td>2.00</td>\n",
       "    </tr>\n",
       "    <tr>\n",
       "      <th>max</th>\n",
       "      <td>14,918.00</td>\n",
       "      <td>100.00</td>\n",
       "      <td>4,250,334,444.00</td>\n",
       "      <td>40.00</td>\n",
       "      <td>1.00</td>\n",
       "      <td>1.00</td>\n",
       "      <td>1.00</td>\n",
       "      <td>1.00</td>\n",
       "      <td>3.00</td>\n",
       "    </tr>\n",
       "  </tbody>\n",
       "</table>\n",
       "</div>"
      ],
      "text/plain": [
       "           rank     level       experience  challenges  special_class  \\\n",
       "count 29,823.00 29,823.00        29,823.00   29,823.00      29,823.00   \n",
       "mean   7,456.25     93.65 2,707,548,316.85       30.32           1.00   \n",
       "std    4,304.65      2.97   620,079,660.81        6.84           0.01   \n",
       "min        1.00     89.00 1,786,638,972.00        8.00           0.00   \n",
       "25%    3,728.50     91.00 2,129,280,019.50       25.00           1.00   \n",
       "50%    7,456.00     94.00 2,835,787,324.00       30.00           1.00   \n",
       "75%   11,184.00     95.00 3,031,208,352.50       36.00           1.00   \n",
       "max   14,918.00    100.00 4,250,334,444.00       40.00           1.00   \n",
       "\n",
       "       stat_Str  stat_Int  stat_Dex  stats_num  \n",
       "count 29,823.00 29,823.00 29,823.00  29,823.00  \n",
       "mean       0.57      0.36      0.54       1.47  \n",
       "std        0.49      0.48      0.50       0.61  \n",
       "min        0.00      0.00      0.00       1.00  \n",
       "25%        0.00      0.00      0.00       1.00  \n",
       "50%        1.00      0.00      1.00       1.00  \n",
       "75%        1.00      1.00      1.00       2.00  \n",
       "max        1.00      1.00      1.00       3.00  "
      ]
     },
     "execution_count": 7,
     "metadata": {},
     "output_type": "execute_result"
    }
   ],
   "source": [
    "pd.options.display.float_format = '{:,.2f}'.format\n",
    "non_ssf.describe()"
   ]
  },
  {
   "cell_type": "code",
   "execution_count": 8,
   "id": "dfbc29b2",
   "metadata": {},
   "outputs": [
    {
     "data": {
      "text/html": [
       "<div>\n",
       "<style scoped>\n",
       "    .dataframe tbody tr th:only-of-type {\n",
       "        vertical-align: middle;\n",
       "    }\n",
       "\n",
       "    .dataframe tbody tr th {\n",
       "        vertical-align: top;\n",
       "    }\n",
       "\n",
       "    .dataframe thead th {\n",
       "        text-align: right;\n",
       "    }\n",
       "</style>\n",
       "<table border=\"1\" class=\"dataframe\">\n",
       "  <thead>\n",
       "    <tr style=\"text-align: right;\">\n",
       "      <th></th>\n",
       "      <th>name</th>\n",
       "      <th>class</th>\n",
       "      <th>id</th>\n",
       "      <th>account</th>\n",
       "      <th>twitch</th>\n",
       "      <th>ladder</th>\n",
       "    </tr>\n",
       "  </thead>\n",
       "  <tbody>\n",
       "    <tr>\n",
       "      <th>count</th>\n",
       "      <td>29823</td>\n",
       "      <td>29823</td>\n",
       "      <td>29823</td>\n",
       "      <td>29823</td>\n",
       "      <td>9916</td>\n",
       "      <td>29823</td>\n",
       "    </tr>\n",
       "    <tr>\n",
       "      <th>unique</th>\n",
       "      <td>29652</td>\n",
       "      <td>22</td>\n",
       "      <td>29823</td>\n",
       "      <td>21978</td>\n",
       "      <td>6813</td>\n",
       "      <td>2</td>\n",
       "    </tr>\n",
       "    <tr>\n",
       "      <th>top</th>\n",
       "      <td>Xkuz</td>\n",
       "      <td>Berserker</td>\n",
       "      <td>3dcddd59f5088893f734f39686350990dae168cc4f4b00...</td>\n",
       "      <td>supercellj</td>\n",
       "      <td>zen1703</td>\n",
       "      <td>Harbinger</td>\n",
       "    </tr>\n",
       "    <tr>\n",
       "      <th>freq</th>\n",
       "      <td>4</td>\n",
       "      <td>4777</td>\n",
       "      <td>1</td>\n",
       "      <td>14</td>\n",
       "      <td>12</td>\n",
       "      <td>14918</td>\n",
       "    </tr>\n",
       "  </tbody>\n",
       "</table>\n",
       "</div>"
      ],
      "text/plain": [
       "         name      class                                                 id  \\\n",
       "count   29823      29823                                              29823   \n",
       "unique  29652         22                                              29823   \n",
       "top      Xkuz  Berserker  3dcddd59f5088893f734f39686350990dae168cc4f4b00...   \n",
       "freq        4       4777                                                  1   \n",
       "\n",
       "           account   twitch     ladder  \n",
       "count        29823     9916      29823  \n",
       "unique       21978     6813          2  \n",
       "top     supercellj  zen1703  Harbinger  \n",
       "freq            14       12      14918  "
      ]
     },
     "execution_count": 8,
     "metadata": {},
     "output_type": "execute_result"
    }
   ],
   "source": [
    "non_ssf.describe(include='object')"
   ]
  },
  {
   "cell_type": "markdown",
   "id": "ed144c62",
   "metadata": {},
   "source": [
    "### Commentary\n",
    "\n",
    "전체 데이터에서의 mean을 보자면\n",
    "\n",
    "    ``` sort    rank      level       experience   challenges  special_class  Str    Int   Dex   stats_num ```\n",
    "\n",
    "    ``` mean\t7,472.54\t85.42\t1,825,786,027.36\t25.76\t0.99\t0.58\t0.42\t0.51\t1.51 ```\n",
    "\n",
    "그리고  non_ssf(Harbinger, Harbinger Hardcore) 를 먼저 보자면\n",
    "\n",
    "    ``` mean\t7,456.25\t93.65\t2,707,548,316.85\t30.32\t1.00\t0.57\t0.36\t0.54\t1.47 ```\n",
    "그리고 ssf(SSF Harbinger, SSF Harbinger non_ssf)를 보자면\n",
    "\n",
    "    ``` mean\t7,488.75\t77.23\t947,850,703.36\t21.22\t0.98\t0.59\t0.48\t0.48\t1.56 ```\n",
    "\n",
    "> 전체적인 수치가 많이 차이나진 않지만 , SSF 모드의 랭커들을 레벨이 더 높았다. 하지만 이 부분은 SSF Harbinger non_ssf 모드의 제한 때문인데, 그 모드는 특정 레벨에 분포가 몰려있는 것을 보아 해당 레벨이 넘는 캐릭터만 입장이 가능한 것으로 보였다. 즉, 해당 모드를 플레이하기 위해서 키운 캐릭터들이 랭크에 올려져있는 것으로 볼 수 있다. 그 캐릭터들이 전체 데이터의 레벨 평균을 많이 낮춘 것이다. \n",
    "\n",
    "실제로 ssf 모드의 level 은 전체 평균을 많이 밑도는 것으로 보이고 있다. 혼자 도전하는 모드임에도 불고하고 랭크에 이름을 올린 캐릭터들의 경험치가 많이 적은 것에서도 확인할 수 있는 부분이다.\n",
    "\n",
    "> 다른 부분들을 살펴보자면 challenge는 ssf 모드가 훨씬 적었다. 위와같은 이유에 더해서 플레이 성향도 있을 것으로 보인다. 다른 사람과 함께 플레이할 경우 각자의 조합을 여러가지로 두고 시도할 가능성이 많지만, 혼자는 어느정도 정해져있기 때문이다. \n",
    "\n",
    "심지어 중간값이 30과 20으로 거의 10차이가 나며, 최소 시도로는 8과 4로 두 배 차이가 난다. 15000등 안팎이면 어중간하게 잘하는 사람들은 거의 없을텐데 말이다.\n",
    "\n",
    "> 또한 특정 계정이 29개나 플레이한 것을 여기서 확인할 수 있다. 잘 하는 사람이 여러 캐릭으로 랭크에 아이디를 올리는 일이 어려운 일이 아니기 때문이다.\n",
    "\n",
    "> 추가적으로, class에서 전직하기 전의 클래스가 없는 non_ssf 모드와 달리 ssf 모드는 모든 직업이 존재함을 확인할 수 있다. \n",
    "\n",
    "> 둘 다 모두, Berserker가 가장 많이 존재하는 것으로 보인다.\n"
   ]
  },
  {
   "cell_type": "markdown",
   "id": "1005ca51",
   "metadata": {},
   "source": [
    "## correlation map"
   ]
  },
  {
   "cell_type": "code",
   "execution_count": 13,
   "id": "da8f947c",
   "metadata": {},
   "outputs": [
    {
     "data": {
      "text/plain": [
       "<AxesSubplot:>"
      ]
     },
     "execution_count": 13,
     "metadata": {},
     "output_type": "execute_result"
    },
    {
     "data": {
      "image/png": "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\n",
      "text/plain": [
       "<Figure size 864x576 with 2 Axes>"
      ]
     },
     "metadata": {
      "needs_background": "light"
     },
     "output_type": "display_data"
    }
   ],
   "source": [
    "# ssf\n",
    "\n",
    "plt.rcParams[\"figure.figsize\"] = (12, 8)\n",
    "sns.heatmap(ssf.corr(), annot = True, cmap = \"YlGnBu\", square = True)"
   ]
  },
  {
   "cell_type": "code",
   "execution_count": 14,
   "id": "388a9e7c",
   "metadata": {},
   "outputs": [
    {
     "data": {
      "text/plain": [
       "<AxesSubplot:>"
      ]
     },
     "execution_count": 14,
     "metadata": {},
     "output_type": "execute_result"
    },
    {
     "data": {
      "image/png": "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\n",
      "text/plain": [
       "<Figure size 864x576 with 2 Axes>"
      ]
     },
     "metadata": {
      "needs_background": "light"
     },
     "output_type": "display_data"
    }
   ],
   "source": [
    "# non_ssf\n",
    "\n",
    "plt.rcParams[\"figure.figsize\"] = (12, 8)\n",
    "sns.heatmap(non_ssf.corr(), annot = True, cmap = \"YlGnBu\", square = True)"
   ]
  },
  {
   "cell_type": "markdown",
   "id": "6ecba3c2",
   "metadata": {},
   "source": [
    "## classes\n",
    "\n",
    "전체 클래스를 대상으로 나누어보는 정도만 진행하며, 상세하게 나누는 (이전에 만든 stat column들을 이용하는 분석)은 다음 파일에서 진행하려 한다."
   ]
  },
  {
   "cell_type": "code",
   "execution_count": 19,
   "id": "aad55046",
   "metadata": {},
   "outputs": [
    {
     "data": {
      "image/png": "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\n",
      "text/plain": [
       "<Figure size 1728x648 with 1 Axes>"
      ]
     },
     "metadata": {},
     "output_type": "display_data"
    }
   ],
   "source": [
    "# ssf classes\n",
    "\n",
    "plt.rcParams[\"figure.figsize\"] = (24, 9)\n",
    "sns.set_style('whitegrid')\n",
    "sns.countplot(data = ssf, x = 'class',\n",
    "              palette=\"Set3\", edgecolor=sns.color_palette(\"dark\", 1)) #palette = Accent\n",
    "plt.show()"
   ]
  },
  {
   "cell_type": "code",
   "execution_count": 20,
   "id": "6cf3e687",
   "metadata": {},
   "outputs": [
    {
     "data": {
      "image/png": "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\n",
      "text/plain": [
       "<Figure size 1728x648 with 1 Axes>"
      ]
     },
     "metadata": {},
     "output_type": "display_data"
    }
   ],
   "source": [
    "# non_ssf classes\n",
    "\n",
    "plt.rcParams[\"figure.figsize\"] = (24, 9)\n",
    "sns.set_style('whitegrid')\n",
    "sns.countplot(data = non_ssf, x = 'class',\n",
    "              palette=\"Set3\", edgecolor=sns.color_palette(\"dark\", 1)) #palette = Accent\n",
    "plt.show()"
   ]
  },
  {
   "cell_type": "markdown",
   "id": "b1dcccfd",
   "metadata": {},
   "source": [
    "### Commentary\n",
    "\n",
    " 전직전의 직업이 존재하지 않는 non_ssf 모드에서도 Ranger, Marauder, Scion이 존재하는 것으로 보이고 있다."
   ]
  },
  {
   "cell_type": "markdown",
   "id": "1e3ae576",
   "metadata": {},
   "source": [
    "## class-users (클래스별 유저수 number)"
   ]
  },
  {
   "cell_type": "code",
   "execution_count": null,
   "id": "a21a8a93",
   "metadata": {},
   "outputs": [],
   "source": [
    "# 논 하드코어 모드의 클래스별 유저 수\n",
    "\n",
    "pivot_countuser_class_ssf = ssf.pivot_table(values = 'id', columns = 'class', aggfunc = 'count')\n",
    "pivot_countuser_class_ssf.transpose()"
   ]
  },
  {
   "cell_type": "code",
   "execution_count": null,
   "id": "93a004e7",
   "metadata": {
    "scrolled": false
   },
   "outputs": [],
   "source": [
    "# 위와 같은 그래프를 그리게 되지만 ...\n",
    "\n",
    "plt.rcParams[\"figure.figsize\"] = (24, 9)\n",
    "sns.barplot(data = pivot_countuser_class_ssf,\n",
    "            edgecolor=sns.color_palette(\"dark\", 1))\n",
    "plt.show()"
   ]
  },
  {
   "cell_type": "code",
   "execution_count": null,
   "id": "e62f0d47",
   "metadata": {},
   "outputs": [],
   "source": [
    "# 하드코어 모드의 클래스별 유저 수\n",
    "\n",
    "pivot_countuser_class_non_ssf = non_ssf.pivot_table(values = 'id', columns = 'class', aggfunc = 'count')\n",
    "pivot_countuser_class_non_ssf.transpose()"
   ]
  },
  {
   "cell_type": "code",
   "execution_count": null,
   "id": "c239f3cb",
   "metadata": {},
   "outputs": [],
   "source": [
    "plt.rcParams[\"figure.figsize\"] = (24, 9)\n",
    "sns.barplot(data = pivot_countuser_class_non_ssf,\n",
    "            edgecolor=sns.color_palette(\"dark\", 1))\n",
    "plt.show()"
   ]
  },
  {
   "cell_type": "markdown",
   "id": "92ef03b9",
   "metadata": {},
   "source": [
    "## class- rank "
   ]
  },
  {
   "cell_type": "markdown",
   "id": "c9b4b79d",
   "metadata": {},
   "source": [
    "### Mean rank"
   ]
  },
  {
   "cell_type": "code",
   "execution_count": null,
   "id": "30d7938b",
   "metadata": {},
   "outputs": [],
   "source": [
    "# 논 하드코어 모드의 클래스별 평균 랭크\n",
    "\n",
    "pivot_meanrank_class_ssf = ssf.pivot_table(values = 'rank', columns = 'class', aggfunc = 'mean')\n",
    "pivot_meanrank_class_ssf.transpose()"
   ]
  },
  {
   "cell_type": "code",
   "execution_count": null,
   "id": "4e5bb781",
   "metadata": {},
   "outputs": [],
   "source": [
    "pivot_meanrank_class_ssf.transpose().mean()"
   ]
  },
  {
   "cell_type": "code",
   "execution_count": null,
   "id": "fcb44d9b",
   "metadata": {
    "scrolled": true
   },
   "outputs": [],
   "source": [
    "plt.rcParams[\"figure.figsize\"] = (24, 9)\n",
    "plt.ylim(5000, 15000)\n",
    "sns.barplot(data = pivot_meanrank_class_ssf,\n",
    "            edgecolor=sns.color_palette(\"dark\", 1))\n",
    "plt.show()"
   ]
  },
  {
   "cell_type": "code",
   "execution_count": null,
   "id": "640334b0",
   "metadata": {},
   "outputs": [],
   "source": [
    "# 하드코어 모드의 클래스별 평균 랭크\n",
    "\n",
    "pivot_meanrank_class_non_ssf = non_ssf.pivot_table(values = 'rank', columns = 'class', aggfunc = 'mean')\n",
    "pivot_meanrank_class_non_ssf.transpose()"
   ]
  },
  {
   "cell_type": "code",
   "execution_count": null,
   "id": "d1c1f7eb",
   "metadata": {},
   "outputs": [],
   "source": [
    "pivot_meanrank_class_non_ssf.transpose().mean()"
   ]
  },
  {
   "cell_type": "code",
   "execution_count": null,
   "id": "939bbaa9",
   "metadata": {
    "scrolled": true
   },
   "outputs": [],
   "source": [
    "plt.rcParams[\"figure.figsize\"] = (24, 9)\n",
    "plt.ylim(5000, 15000)\n",
    "sns.barplot(data = pivot_meanrank_class_non_ssf,\n",
    "            edgecolor=sns.color_palette(\"dark\", 1))\n",
    "plt.show()"
   ]
  },
  {
   "cell_type": "markdown",
   "id": "27943882",
   "metadata": {},
   "source": [
    "### Min rank\n",
    "\n",
    "스케일이 많이 다르기 때문에 그래프로는 비교하기 쉽지 않음을 이해해야 한다. 그대로 표로 보기로 한다."
   ]
  },
  {
   "cell_type": "code",
   "execution_count": null,
   "id": "b20f0a14",
   "metadata": {},
   "outputs": [],
   "source": [
    "# 논 하드코어 모드의 클래스별 최소 랭크 (가장 높은 랭크)\n",
    "\n",
    "pivot_minrank_class_ssf = ssf.pivot_table(values = 'rank', columns = 'class', aggfunc = 'min')\n",
    "pivot_minrank_class_ssf.transpose()"
   ]
  },
  {
   "cell_type": "code",
   "execution_count": null,
   "id": "440eeda6",
   "metadata": {},
   "outputs": [],
   "source": [
    "pivot_minrank_class_ssf.transpose().mean()"
   ]
  },
  {
   "cell_type": "code",
   "execution_count": null,
   "id": "ad41ce3d",
   "metadata": {
    "scrolled": true
   },
   "outputs": [],
   "source": [
    "# 하드코어 모드의 클래스별 최소 랭크 (가장 높은 랭크)\n",
    "\n",
    "pivot_minrank_class_non_ssf = non_ssf.pivot_table(values = 'rank', columns = 'class', aggfunc = 'min')\n",
    "pivot_minrank_class_non_ssf.transpose()"
   ]
  },
  {
   "cell_type": "code",
   "execution_count": null,
   "id": "147ca01d",
   "metadata": {},
   "outputs": [],
   "source": [
    "pivot_minrank_class_non_ssf.transpose().mean()"
   ]
  },
  {
   "cell_type": "markdown",
   "id": "ae3d1558",
   "metadata": {},
   "source": [
    "## class- level\n",
    "\n",
    "### Mean level"
   ]
  },
  {
   "cell_type": "code",
   "execution_count": null,
   "id": "da24546f",
   "metadata": {
    "scrolled": true
   },
   "outputs": [],
   "source": [
    "# 논 하드코어 모드의 클래스별 평균 레벨\n",
    "\n",
    "pivot_meanlevel_class_ssf = ssf.pivot_table(values = 'level', columns = 'class', aggfunc = 'mean')\n",
    "pivot_meanlevel_class_ssf.transpose()"
   ]
  },
  {
   "cell_type": "code",
   "execution_count": null,
   "id": "19b3f46b",
   "metadata": {},
   "outputs": [],
   "source": [
    "pivot_meanlevel_class_ssf.transpose().mean()"
   ]
  },
  {
   "cell_type": "code",
   "execution_count": null,
   "id": "ba14da77",
   "metadata": {
    "scrolled": true
   },
   "outputs": [],
   "source": [
    "plt.rcParams[\"figure.figsize\"] = (24, 9)\n",
    "plt.ylim(50, 100)\n",
    "sns.barplot(data = pivot_meanlevel_class_ssf,\n",
    "            edgecolor=sns.color_palette(\"dark\", 1))\n",
    "plt.show()"
   ]
  },
  {
   "cell_type": "code",
   "execution_count": null,
   "id": "6b7ee85a",
   "metadata": {},
   "outputs": [],
   "source": [
    "# 하드코어 모드의 클래스별 평균 레벨\n",
    "\n",
    "pivot_meanlevel_class_non_ssf = non_ssf.pivot_table(values = 'level', columns = 'class', aggfunc = 'mean')\n",
    "pivot_meanlevel_class_non_ssf.transpose()"
   ]
  },
  {
   "cell_type": "code",
   "execution_count": null,
   "id": "1ac4b493",
   "metadata": {},
   "outputs": [],
   "source": [
    "pivot_meanlevel_class_non_ssf.transpose().mean()"
   ]
  },
  {
   "cell_type": "code",
   "execution_count": null,
   "id": "07f01717",
   "metadata": {
    "scrolled": true
   },
   "outputs": [],
   "source": [
    "plt.rcParams[\"figure.figsize\"] = (24, 9)\n",
    "plt.ylim(50, 100)\n",
    "sns.barplot(data = pivot_meanlevel_class_non_ssf,\n",
    "            edgecolor=sns.color_palette(\"dark\", 1))\n",
    "plt.show()"
   ]
  },
  {
   "cell_type": "markdown",
   "id": "dc4941bd",
   "metadata": {},
   "source": [
    "### Min level"
   ]
  },
  {
   "cell_type": "code",
   "execution_count": null,
   "id": "bf2379bf",
   "metadata": {
    "scrolled": true
   },
   "outputs": [],
   "source": [
    "# 논 하드코어 모드의 클래스별 최소 레벨 \n",
    "\n",
    "pivot_minlevel_class_ssf = ssf.pivot_table(values = 'level', columns = 'class', aggfunc = 'min')\n",
    "pivot_minlevel_class_ssf.transpose()"
   ]
  },
  {
   "cell_type": "code",
   "execution_count": null,
   "id": "7f6b51ac",
   "metadata": {},
   "outputs": [],
   "source": [
    "pivot_minlevel_class_ssf.transpose().mean()"
   ]
  },
  {
   "cell_type": "code",
   "execution_count": null,
   "id": "4c5dd552",
   "metadata": {},
   "outputs": [],
   "source": [
    "# 하드코어 모드의 클래스별 최소 레벨\n",
    "\n",
    "pivot_minlevel_class_non_ssf = non_ssf.pivot_table(values = 'level', columns = 'class', aggfunc = 'min')\n",
    "pivot_minlevel_class_non_ssf.transpose()"
   ]
  },
  {
   "cell_type": "code",
   "execution_count": null,
   "id": "e22822c3",
   "metadata": {},
   "outputs": [],
   "source": [
    "pivot_minlevel_class_non_ssf.transpose().mean()"
   ]
  },
  {
   "cell_type": "markdown",
   "id": "f0d710b9",
   "metadata": {},
   "source": [
    "### Commentary\n",
    "\n",
    "non_ssf모드의 최소레벨이 모든 클래스에서 53 레벨로 나타났다. 이것으로 보아 non_ssf모드에 진입할 수 있는 최소 레벨 제한이 53레벨이 아닐까 하는 추측을 해볼 수 있을 것 같다."
   ]
  },
  {
   "cell_type": "markdown",
   "id": "5dc983ca",
   "metadata": {},
   "source": [
    "## class - challenges"
   ]
  },
  {
   "cell_type": "markdown",
   "id": "d851307f",
   "metadata": {},
   "source": [
    "### Mean challenges"
   ]
  },
  {
   "cell_type": "code",
   "execution_count": null,
   "id": "887f7460",
   "metadata": {
    "scrolled": true
   },
   "outputs": [],
   "source": [
    "# 논 하드코어 모드의 클래스별 평균 트라이 회수\n",
    "\n",
    "pivot_meanchal_class_ssf = ssf.pivot_table(values = 'challenges', columns = 'class', aggfunc = 'mean')\n",
    "pivot_meanchal_class_ssf.transpose()"
   ]
  },
  {
   "cell_type": "code",
   "execution_count": null,
   "id": "c943fc8e",
   "metadata": {},
   "outputs": [],
   "source": [
    "pivot_meanchal_class_ssf.transpose().mean()"
   ]
  },
  {
   "cell_type": "code",
   "execution_count": null,
   "id": "fdc96657",
   "metadata": {
    "scrolled": true
   },
   "outputs": [],
   "source": [
    "plt.rcParams[\"figure.figsize\"] = (24, 9)\n",
    "sns.barplot(data = pivot_meanchal_class_ssf,\n",
    "            edgecolor=sns.color_palette(\"dark\", 1))\n",
    "plt.show()"
   ]
  },
  {
   "cell_type": "code",
   "execution_count": null,
   "id": "c88b60a5",
   "metadata": {
    "scrolled": true
   },
   "outputs": [],
   "source": [
    "# 하드코어 모드의 클래스별 평균 트라이 회수\n",
    "\n",
    "pivot_meanchal_class_non_ssf = non_ssf.pivot_table(values = 'challenges', columns = 'class', aggfunc = 'mean')\n",
    "pivot_meanchal_class_non_ssf.transpose()"
   ]
  },
  {
   "cell_type": "code",
   "execution_count": null,
   "id": "7fb3e0f0",
   "metadata": {},
   "outputs": [],
   "source": [
    "pivot_meanchal_class_non_ssf.transpose().mean()"
   ]
  },
  {
   "cell_type": "code",
   "execution_count": null,
   "id": "4e650f51",
   "metadata": {
    "scrolled": true
   },
   "outputs": [],
   "source": [
    "plt.rcParams[\"figure.figsize\"] = (24, 9)\n",
    "sns.barplot(data = pivot_meanchal_class_non_ssf,\n",
    "            edgecolor=sns.color_palette(\"dark\", 1))\n",
    "plt.show()"
   ]
  },
  {
   "cell_type": "markdown",
   "id": "9e7dfb03",
   "metadata": {},
   "source": [
    "### Min Challenges"
   ]
  },
  {
   "cell_type": "code",
   "execution_count": null,
   "id": "85b1f545",
   "metadata": {
    "scrolled": true
   },
   "outputs": [],
   "source": [
    "# 논 하드코어 모드의 클래스별 최소 트라이 횟수\n",
    "\n",
    "pivot_minchal_class_ssf = ssf.pivot_table(values = 'challenges', columns = 'class', aggfunc = 'min')\n",
    "pivot_minchal_class_ssf.transpose()"
   ]
  },
  {
   "cell_type": "code",
   "execution_count": null,
   "id": "b1ef82ba",
   "metadata": {},
   "outputs": [],
   "source": [
    "pivot_minchal_class_ssf.transpose().mean()"
   ]
  },
  {
   "cell_type": "code",
   "execution_count": null,
   "id": "185488d1",
   "metadata": {
    "scrolled": true
   },
   "outputs": [],
   "source": [
    "plt.rcParams[\"figure.figsize\"] = (24, 9)\n",
    "sns.barplot(data = pivot_minchal_class_ssf,\n",
    "            edgecolor=sns.color_palette(\"dark\", 1))\n",
    "plt.show()"
   ]
  },
  {
   "cell_type": "code",
   "execution_count": null,
   "id": "1edcf540",
   "metadata": {
    "scrolled": true
   },
   "outputs": [],
   "source": [
    "# 하드코어 모드의 클래스별 최소 트라이 횟수\n",
    "\n",
    "pivot_minchal_class_non_ssf = non_ssf.pivot_table(values = 'challenges', columns = 'class', aggfunc = 'min')\n",
    "pivot_minchal_class_non_ssf.transpose()"
   ]
  },
  {
   "cell_type": "code",
   "execution_count": null,
   "id": "515c3737",
   "metadata": {},
   "outputs": [],
   "source": [
    "pivot_minchal_class_non_ssf.transpose().mean()"
   ]
  },
  {
   "cell_type": "code",
   "execution_count": null,
   "id": "1951a350",
   "metadata": {
    "scrolled": true
   },
   "outputs": [],
   "source": [
    "plt.rcParams[\"figure.figsize\"] = (24, 9)\n",
    "sns.barplot(data = pivot_minchal_class_non_ssf,\n",
    "            edgecolor=sns.color_palette(\"dark\", 1))\n",
    "plt.show()"
   ]
  },
  {
   "cell_type": "markdown",
   "id": "58cbf24a",
   "metadata": {},
   "source": [
    "## rank\n",
    "\n",
    "--- \n",
    "\n",
    "여기서부터는 클래스와 떼어서 각각을 보려 한다.\n",
    "\n",
    "### ssf level distribution"
   ]
  },
  {
   "cell_type": "code",
   "execution_count": null,
   "id": "8e499f35",
   "metadata": {},
   "outputs": [],
   "source": [
    "plt.rcParams[\"figure.figsize\"] = (15, 6)\n",
    "sns.set_style('whitegrid')\n",
    "sns.countplot(data = ssf, x = 'level', \n",
    "              palette=\"Blues\", edgecolor=sns.color_palette(\"dark\", 1)) #palette = Accent\n",
    "plt.show()"
   ]
  },
  {
   "cell_type": "markdown",
   "id": "ff540a34",
   "metadata": {},
   "source": [
    "### non_ssf level distribution"
   ]
  },
  {
   "cell_type": "code",
   "execution_count": null,
   "id": "578b9865",
   "metadata": {},
   "outputs": [],
   "source": [
    "plt.rcParams[\"figure.figsize\"] = (15, 6)\n",
    "sns.set_style('whitegrid')\n",
    "sns.countplot(data = non_ssf, x = 'level', \n",
    "              palette=\"Blues\", edgecolor=sns.color_palette(\"dark\", 1)) #palette = Accent\n",
    "plt.show()"
   ]
  },
  {
   "cell_type": "markdown",
   "id": "86d0d99f",
   "metadata": {},
   "source": [
    "## exp\n",
    "\n",
    "경험치는 연속형 변수이기 때문에 구간을 나누어주어서 간단하게 분포를 보려한다. \n",
    "\n",
    "### ssf exp distribution"
   ]
  },
  {
   "cell_type": "code",
   "execution_count": null,
   "id": "71421506",
   "metadata": {
    "scrolled": true
   },
   "outputs": [],
   "source": [
    "ssf.hist(column = 'experience', figsize=(15,6), bins=50)"
   ]
  },
  {
   "cell_type": "markdown",
   "id": "451c88bd",
   "metadata": {},
   "source": [
    "### non_ssf exp distribution"
   ]
  },
  {
   "cell_type": "code",
   "execution_count": null,
   "id": "51613a89",
   "metadata": {},
   "outputs": [],
   "source": [
    "non_ssf.hist(column = 'experience', figsize = (15,6), bins = 50)"
   ]
  },
  {
   "cell_type": "markdown",
   "id": "2515b5db",
   "metadata": {},
   "source": [
    "## online\n",
    "\n",
    "### ssf online or offline"
   ]
  },
  {
   "cell_type": "code",
   "execution_count": null,
   "id": "7caaee46",
   "metadata": {},
   "outputs": [],
   "source": [
    "plt.rcParams[\"figure.figsize\"] = (3, 5)\n",
    "sns.set_style('whitegrid')\n",
    "sns.countplot(data = ssf, x = 'online', \n",
    "              palette=\"Set3\", edgecolor=sns.color_palette(\"dark\", 1))\n",
    "plt.show()"
   ]
  },
  {
   "cell_type": "markdown",
   "id": "172738df",
   "metadata": {},
   "source": [
    "### non_ssf online or offline"
   ]
  },
  {
   "cell_type": "code",
   "execution_count": null,
   "id": "0e4f6444",
   "metadata": {},
   "outputs": [],
   "source": [
    "plt.rcParams[\"figure.figsize\"] = (3, 5)\n",
    "sns.set_style('whitegrid')\n",
    "sns.countplot(data = non_ssf, x = 'online', \n",
    "              palette=\"Set3\", edgecolor=sns.color_palette(\"dark\", 1))\n",
    "plt.show()"
   ]
  },
  {
   "cell_type": "markdown",
   "id": "862a72f5",
   "metadata": {},
   "source": [
    "online 자체의 큰 의미는 있어보이지 않지만, 데이터를 얻었을 당시 랭커들 중에는 접속중이지 않은 사람이 훨씬 많다. 그럼 전체 중 접속률은?"
   ]
  },
  {
   "cell_type": "code",
   "execution_count": null,
   "id": "4491c190",
   "metadata": {},
   "outputs": [],
   "source": [
    "ssf['online'].value_counts()/sum(ssf['online'].value_counts())*100"
   ]
  },
  {
   "cell_type": "code",
   "execution_count": null,
   "id": "10a446f7",
   "metadata": {},
   "outputs": [],
   "source": [
    "non_ssf['online'].value_counts()/sum(non_ssf['online'].value_counts())*100"
   ]
  },
  {
   "cell_type": "markdown",
   "id": "1a8f3fbb",
   "metadata": {},
   "source": [
    "### Commentary\n",
    "\n",
    "ssf mode's rankers online rate = 2.4%\n",
    "\n",
    "non_ssf mode's rankers online rate = 0.4%"
   ]
  },
  {
   "cell_type": "markdown",
   "id": "7df5476f",
   "metadata": {},
   "source": [
    "## 3 stats and thier corr"
   ]
  },
  {
   "cell_type": "markdown",
   "id": "a5e2fd06",
   "metadata": {},
   "source": [
    "### ssf"
   ]
  },
  {
   "cell_type": "code",
   "execution_count": null,
   "id": "43d1bffd",
   "metadata": {},
   "outputs": [],
   "source": [
    "ssf[['class', 'stat_Str', 'stat_Int', 'stat_Dex', 'stats_num']].sample(10)"
   ]
  },
  {
   "cell_type": "code",
   "execution_count": null,
   "id": "c44fd07e",
   "metadata": {},
   "outputs": [],
   "source": [
    "ssf[['class', 'stat_Str', 'stat_Int', 'stat_Dex', 'stats_num']].corr()"
   ]
  },
  {
   "cell_type": "code",
   "execution_count": null,
   "id": "ad843098",
   "metadata": {},
   "outputs": [],
   "source": [
    "plt.rcParams[\"figure.figsize\"] = (4, 4)\n",
    "sns.heatmap(ssf[['stat_Str', 'stat_Int', 'stat_Dex', 'stats_num']].corr(),\n",
    "            annot = True, square=True, cmap = 'PuRd_r')\n",
    "plt.show()"
   ]
  },
  {
   "cell_type": "markdown",
   "id": "5c4ea6b2",
   "metadata": {},
   "source": [
    "### non_ssf"
   ]
  },
  {
   "cell_type": "code",
   "execution_count": null,
   "id": "c035c671",
   "metadata": {},
   "outputs": [],
   "source": [
    "non_ssf[['class', 'stat_Str', 'stat_Dex', 'stat_Int', 'stats_num']].sample(10)"
   ]
  },
  {
   "cell_type": "code",
   "execution_count": null,
   "id": "7d2545c4",
   "metadata": {},
   "outputs": [],
   "source": [
    "non_ssf[['class', 'stat_Str', 'stat_Dex', 'stat_Int', 'stats_num']].corr()"
   ]
  },
  {
   "cell_type": "code",
   "execution_count": null,
   "id": "f13e1d4f",
   "metadata": {},
   "outputs": [],
   "source": [
    "sns.heatmap(data = non_ssf[['class', 'stat_Str', 'stat_Dex', 'stat_Int', 'stats_num']].corr(), \n",
    "           annot = True, cmap = 'PuRd_r', square = True)"
   ]
  },
  {
   "cell_type": "markdown",
   "id": "2647e92c",
   "metadata": {},
   "source": [
    "### Commentary\n",
    "\n",
    "상관관계는 크게 눈에 띄는 것은 없었지만 stats_num 을 보면 ssf는 Str과, non_ssf는 Dex와 상관관계가 높은 것을 볼 수 있었다.\n",
    "\n",
    "이것만 보아도 어떤 스탯이 좀더 많은 선호도를 보이고 있는지 간단히 확인할 수 있다."
   ]
  },
  {
   "cell_type": "markdown",
   "id": "1eee8c3a",
   "metadata": {},
   "source": []
  }
 ],
 "metadata": {
  "kernelspec": {
   "display_name": "Python 3 (ipykernel)",
   "language": "python",
   "name": "python3"
  },
  "language_info": {
   "codemirror_mode": {
    "name": "ipython",
    "version": 3
   },
   "file_extension": ".py",
   "mimetype": "text/x-python",
   "name": "python",
   "nbconvert_exporter": "python",
   "pygments_lexer": "ipython3",
   "version": "3.8.5"
  },
  "toc": {
   "base_numbering": 1,
   "nav_menu": {},
   "number_sections": true,
   "sideBar": true,
   "skip_h1_title": false,
   "title_cell": "Table of Contents",
   "title_sidebar": "Contents",
   "toc_cell": false,
   "toc_position": {
    "height": "calc(100% - 180px)",
    "left": "10px",
    "top": "150px",
    "width": "360px"
   },
   "toc_section_display": true,
   "toc_window_display": true
  }
 },
 "nbformat": 4,
 "nbformat_minor": 5
}

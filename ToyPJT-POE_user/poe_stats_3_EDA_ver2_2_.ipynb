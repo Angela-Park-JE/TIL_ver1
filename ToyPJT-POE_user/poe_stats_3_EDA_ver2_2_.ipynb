{
 "cells": [
  {
   "cell_type": "markdown",
   "id": "536f7e71",
   "metadata": {},
   "source": [
    "# Path of Exile game stats data eda2\n",
    "\n",
    "dates: 2022.04.26 ~ \n",
    "\n",
    "This file contains an analysis processing of the game 'Path of Exile' data.\n",
    "\n",
    "###### Origins of datas from here: \n",
    "poe_stats : https://www.kaggle.com/datasets/gagazet/path-of-exile-league-statistic\n",
    "\n",
    "Data contains stats of 59000 players, from 4th August of 2017 and before now.\n",
    "\n",
    "---\n",
    "\n",
    "이 파일은 지난 3 파일에서 하드코어 모드와 일반모드를 나누었던 것에 이어서, 솔로모드와 파티가능모드로 나누어 볼 예정입니다. \n",
    "\n",
    "ladder 에 SSF가 붙은 모드는 솔로만 진행이 가능한 모드고 그렇지 않은 모드는 파티가능 모드입니다(인것으로 알고있습니다...)"
   ]
  },
  {
   "cell_type": "markdown",
   "id": "50b8d002",
   "metadata": {},
   "source": [
    "# Dataset and libraries \n",
    "\n",
    "## data and libraries import"
   ]
  },
  {
   "cell_type": "code",
   "execution_count": 1,
   "id": "1a5233bb",
   "metadata": {
    "scrolled": true
   },
   "outputs": [],
   "source": [
    "import pandas as pd\n",
    "import numpy as np\n",
    "import matplotlib.pyplot as plt\n",
    "import seaborn as sns\n",
    "from pathlib import Path\n",
    "\n",
    "from scipy.stats import trim_mean\n",
    "from statsmodels import robust\n",
    "import wquantiles\n",
    "\n",
    "df = pd.read_csv('poe_stats_2revisedrank.csv')\n",
    "\n",
    "pd.options.display.float_format = '{:,.4f}'.format # 수 표현을 일부 바꿈"
   ]
  },
  {
   "cell_type": "code",
   "execution_count": 2,
   "id": "1511e496",
   "metadata": {
    "scrolled": true
   },
   "outputs": [
    {
     "data": {
      "text/plain": [
       "rank             14981\n",
       "dead                 2\n",
       "online               2\n",
       "name             58286\n",
       "level               48\n",
       "class               26\n",
       "id               59776\n",
       "experience       54124\n",
       "account          37123\n",
       "challenges          37\n",
       "twitch            9613\n",
       "ladder               4\n",
       "special_class        2\n",
       "stat_Str             2\n",
       "stat_Int             2\n",
       "stat_Dex             2\n",
       "stats_num            3\n",
       "dtype: int64"
      ]
     },
     "execution_count": 2,
     "metadata": {},
     "output_type": "execute_result"
    }
   ],
   "source": [
    "df.nunique()"
   ]
  },
  {
   "cell_type": "code",
   "execution_count": 3,
   "id": "f894c720",
   "metadata": {
    "scrolled": true
   },
   "outputs": [
    {
     "data": {
      "text/plain": [
       "rank                 0\n",
       "dead                 0\n",
       "online               0\n",
       "name                 0\n",
       "level                0\n",
       "class                0\n",
       "id                   0\n",
       "experience           0\n",
       "account              0\n",
       "challenges           0\n",
       "twitch           43476\n",
       "ladder               0\n",
       "special_class        0\n",
       "stat_Str             0\n",
       "stat_Int             0\n",
       "stat_Dex             0\n",
       "stats_num            0\n",
       "dtype: int64"
      ]
     },
     "execution_count": 3,
     "metadata": {},
     "output_type": "execute_result"
    }
   ],
   "source": [
    "df.isnull().sum()"
   ]
  },
  {
   "cell_type": "code",
   "execution_count": 4,
   "id": "40a55f15",
   "metadata": {},
   "outputs": [
    {
     "data": {
      "text/plain": [
       "array(['Harbinger', 'SSF Harbinger HC', 'Hardcore Harbinger',\n",
       "       'SSF Harbinger'], dtype=object)"
      ]
     },
     "execution_count": 4,
     "metadata": {},
     "output_type": "execute_result"
    }
   ],
   "source": [
    "df.ladder.unique()"
   ]
  },
  {
   "cell_type": "code",
   "execution_count": 5,
   "id": "30e17b16",
   "metadata": {},
   "outputs": [
    {
     "data": {
      "text/html": [
       "<div>\n",
       "<style scoped>\n",
       "    .dataframe tbody tr th:only-of-type {\n",
       "        vertical-align: middle;\n",
       "    }\n",
       "\n",
       "    .dataframe tbody tr th {\n",
       "        vertical-align: top;\n",
       "    }\n",
       "\n",
       "    .dataframe thead th {\n",
       "        text-align: right;\n",
       "    }\n",
       "</style>\n",
       "<table border=\"1\" class=\"dataframe\">\n",
       "  <thead>\n",
       "    <tr style=\"text-align: right;\">\n",
       "      <th></th>\n",
       "      <th>rank</th>\n",
       "      <th>level</th>\n",
       "      <th>experience</th>\n",
       "      <th>challenges</th>\n",
       "      <th>special_class</th>\n",
       "      <th>stat_Str</th>\n",
       "      <th>stat_Int</th>\n",
       "      <th>stat_Dex</th>\n",
       "      <th>stats_num</th>\n",
       "    </tr>\n",
       "  </thead>\n",
       "  <tbody>\n",
       "    <tr>\n",
       "      <th>count</th>\n",
       "      <td>59,776.00</td>\n",
       "      <td>59,776.00</td>\n",
       "      <td>59,776.00</td>\n",
       "      <td>59,776.00</td>\n",
       "      <td>59,776.00</td>\n",
       "      <td>59,776.00</td>\n",
       "      <td>59,776.00</td>\n",
       "      <td>59,776.00</td>\n",
       "      <td>59,776.00</td>\n",
       "    </tr>\n",
       "    <tr>\n",
       "      <th>mean</th>\n",
       "      <td>7,472.54</td>\n",
       "      <td>85.42</td>\n",
       "      <td>1,825,786,027.36</td>\n",
       "      <td>25.76</td>\n",
       "      <td>0.99</td>\n",
       "      <td>0.58</td>\n",
       "      <td>0.42</td>\n",
       "      <td>0.51</td>\n",
       "      <td>1.51</td>\n",
       "    </tr>\n",
       "    <tr>\n",
       "      <th>std</th>\n",
       "      <td>4,314.06</td>\n",
       "      <td>11.29</td>\n",
       "      <td>1,094,747,934.61</td>\n",
       "      <td>8.44</td>\n",
       "      <td>0.09</td>\n",
       "      <td>0.49</td>\n",
       "      <td>0.49</td>\n",
       "      <td>0.50</td>\n",
       "      <td>0.61</td>\n",
       "    </tr>\n",
       "    <tr>\n",
       "      <th>min</th>\n",
       "      <td>1.00</td>\n",
       "      <td>53.00</td>\n",
       "      <td>77,909,816.00</td>\n",
       "      <td>4.00</td>\n",
       "      <td>0.00</td>\n",
       "      <td>0.00</td>\n",
       "      <td>0.00</td>\n",
       "      <td>0.00</td>\n",
       "      <td>1.00</td>\n",
       "    </tr>\n",
       "    <tr>\n",
       "      <th>25%</th>\n",
       "      <td>3,736.75</td>\n",
       "      <td>78.00</td>\n",
       "      <td>777,469,746.25</td>\n",
       "      <td>19.00</td>\n",
       "      <td>1.00</td>\n",
       "      <td>0.00</td>\n",
       "      <td>0.00</td>\n",
       "      <td>0.00</td>\n",
       "      <td>1.00</td>\n",
       "    </tr>\n",
       "    <tr>\n",
       "      <th>50%</th>\n",
       "      <td>7,472.50</td>\n",
       "      <td>90.00</td>\n",
       "      <td>1,934,009,687.00</td>\n",
       "      <td>25.00</td>\n",
       "      <td>1.00</td>\n",
       "      <td>1.00</td>\n",
       "      <td>0.00</td>\n",
       "      <td>1.00</td>\n",
       "      <td>1.00</td>\n",
       "    </tr>\n",
       "    <tr>\n",
       "      <th>75%</th>\n",
       "      <td>11,208.25</td>\n",
       "      <td>95.00</td>\n",
       "      <td>2,876,116,901.00</td>\n",
       "      <td>33.00</td>\n",
       "      <td>1.00</td>\n",
       "      <td>1.00</td>\n",
       "      <td>1.00</td>\n",
       "      <td>1.00</td>\n",
       "      <td>2.00</td>\n",
       "    </tr>\n",
       "    <tr>\n",
       "      <th>max</th>\n",
       "      <td>14,981.00</td>\n",
       "      <td>100.00</td>\n",
       "      <td>4,250,334,444.00</td>\n",
       "      <td>40.00</td>\n",
       "      <td>1.00</td>\n",
       "      <td>1.00</td>\n",
       "      <td>1.00</td>\n",
       "      <td>1.00</td>\n",
       "      <td>3.00</td>\n",
       "    </tr>\n",
       "  </tbody>\n",
       "</table>\n",
       "</div>"
      ],
      "text/plain": [
       "           rank     level       experience  challenges  special_class  \\\n",
       "count 59,776.00 59,776.00        59,776.00   59,776.00      59,776.00   \n",
       "mean   7,472.54     85.42 1,825,786,027.36       25.76           0.99   \n",
       "std    4,314.06     11.29 1,094,747,934.61        8.44           0.09   \n",
       "min        1.00     53.00    77,909,816.00        4.00           0.00   \n",
       "25%    3,736.75     78.00   777,469,746.25       19.00           1.00   \n",
       "50%    7,472.50     90.00 1,934,009,687.00       25.00           1.00   \n",
       "75%   11,208.25     95.00 2,876,116,901.00       33.00           1.00   \n",
       "max   14,981.00    100.00 4,250,334,444.00       40.00           1.00   \n",
       "\n",
       "       stat_Str  stat_Int  stat_Dex  stats_num  \n",
       "count 59,776.00 59,776.00 59,776.00  59,776.00  \n",
       "mean       0.58      0.42      0.51       1.51  \n",
       "std        0.49      0.49      0.50       0.61  \n",
       "min        0.00      0.00      0.00       1.00  \n",
       "25%        0.00      0.00      0.00       1.00  \n",
       "50%        1.00      0.00      1.00       1.00  \n",
       "75%        1.00      1.00      1.00       2.00  \n",
       "max        1.00      1.00      1.00       3.00  "
      ]
     },
     "execution_count": 5,
     "metadata": {},
     "output_type": "execute_result"
    }
   ],
   "source": [
    "pd.options.display.float_format = '{:,.2f}'.format\n",
    "df.describe()"
   ]
  },
  {
   "cell_type": "code",
   "execution_count": 6,
   "id": "c1904e72",
   "metadata": {},
   "outputs": [
    {
     "data": {
      "text/html": [
       "<div>\n",
       "<style scoped>\n",
       "    .dataframe tbody tr th:only-of-type {\n",
       "        vertical-align: middle;\n",
       "    }\n",
       "\n",
       "    .dataframe tbody tr th {\n",
       "        vertical-align: top;\n",
       "    }\n",
       "\n",
       "    .dataframe thead th {\n",
       "        text-align: right;\n",
       "    }\n",
       "</style>\n",
       "<table border=\"1\" class=\"dataframe\">\n",
       "  <thead>\n",
       "    <tr style=\"text-align: right;\">\n",
       "      <th></th>\n",
       "      <th>name</th>\n",
       "      <th>class</th>\n",
       "      <th>id</th>\n",
       "      <th>account</th>\n",
       "      <th>twitch</th>\n",
       "      <th>ladder</th>\n",
       "    </tr>\n",
       "  </thead>\n",
       "  <tbody>\n",
       "    <tr>\n",
       "      <th>count</th>\n",
       "      <td>59776</td>\n",
       "      <td>59776</td>\n",
       "      <td>59776</td>\n",
       "      <td>59776</td>\n",
       "      <td>16300</td>\n",
       "      <td>59776</td>\n",
       "    </tr>\n",
       "    <tr>\n",
       "      <th>unique</th>\n",
       "      <td>58286</td>\n",
       "      <td>26</td>\n",
       "      <td>59776</td>\n",
       "      <td>37123</td>\n",
       "      <td>9613</td>\n",
       "      <td>4</td>\n",
       "    </tr>\n",
       "    <tr>\n",
       "      <th>top</th>\n",
       "      <td>_Flic_</td>\n",
       "      <td>Berserker</td>\n",
       "      <td>3dcddd59f5088893f734f39686350990dae168cc4f4b00...</td>\n",
       "      <td>chuz101</td>\n",
       "      <td>thespunkylobster</td>\n",
       "      <td>SSF Harbinger</td>\n",
       "    </tr>\n",
       "    <tr>\n",
       "      <th>freq</th>\n",
       "      <td>14</td>\n",
       "      <td>8711</td>\n",
       "      <td>1</td>\n",
       "      <td>30</td>\n",
       "      <td>18</td>\n",
       "      <td>14981</td>\n",
       "    </tr>\n",
       "  </tbody>\n",
       "</table>\n",
       "</div>"
      ],
      "text/plain": [
       "          name      class                                                 id  \\\n",
       "count    59776      59776                                              59776   \n",
       "unique   58286         26                                              59776   \n",
       "top     _Flic_  Berserker  3dcddd59f5088893f734f39686350990dae168cc4f4b00...   \n",
       "freq        14       8711                                                  1   \n",
       "\n",
       "        account            twitch         ladder  \n",
       "count     59776             16300          59776  \n",
       "unique    37123              9613              4  \n",
       "top     chuz101  thespunkylobster  SSF Harbinger  \n",
       "freq         30                18          14981  "
      ]
     },
     "execution_count": 6,
     "metadata": {},
     "output_type": "execute_result"
    }
   ],
   "source": [
    "df.describe(include = 'object')"
   ]
  },
  {
   "cell_type": "markdown",
   "id": "21b2bf53",
   "metadata": {},
   "source": [
    "# try: with ladder division (SSF or not)\n",
    "---\n",
    "ladder에서 SSF가 달린 모드는 오로지 혼자서만 깨야하는 솔로 플레이 모드이다. 이번에는 그런 SSF 모드와 멀티유저가능 모드를 나누어 보려고 한다."
   ]
  },
  {
   "cell_type": "markdown",
   "id": "86fb1c13",
   "metadata": {},
   "source": [
    "## SSF dataframe"
   ]
  },
  {
   "cell_type": "code",
   "execution_count": 7,
   "id": "8791e1d7",
   "metadata": {},
   "outputs": [],
   "source": [
    "ssf = df[(df['ladder'] == 'SSF Harbinger')|(df['ladder'] == 'SSF Harbinger HC')]"
   ]
  },
  {
   "cell_type": "code",
   "execution_count": 8,
   "id": "5b04912c",
   "metadata": {},
   "outputs": [
    {
     "data": {
      "text/html": [
       "<div>\n",
       "<style scoped>\n",
       "    .dataframe tbody tr th:only-of-type {\n",
       "        vertical-align: middle;\n",
       "    }\n",
       "\n",
       "    .dataframe tbody tr th {\n",
       "        vertical-align: top;\n",
       "    }\n",
       "\n",
       "    .dataframe thead th {\n",
       "        text-align: right;\n",
       "    }\n",
       "</style>\n",
       "<table border=\"1\" class=\"dataframe\">\n",
       "  <thead>\n",
       "    <tr style=\"text-align: right;\">\n",
       "      <th></th>\n",
       "      <th>rank</th>\n",
       "      <th>level</th>\n",
       "      <th>experience</th>\n",
       "      <th>challenges</th>\n",
       "      <th>special_class</th>\n",
       "      <th>stat_Str</th>\n",
       "      <th>stat_Int</th>\n",
       "      <th>stat_Dex</th>\n",
       "      <th>stats_num</th>\n",
       "    </tr>\n",
       "  </thead>\n",
       "  <tbody>\n",
       "    <tr>\n",
       "      <th>count</th>\n",
       "      <td>29,953.00</td>\n",
       "      <td>29,953.00</td>\n",
       "      <td>29,953.00</td>\n",
       "      <td>29,953.00</td>\n",
       "      <td>29,953.00</td>\n",
       "      <td>29,953.00</td>\n",
       "      <td>29,953.00</td>\n",
       "      <td>29,953.00</td>\n",
       "      <td>29,953.00</td>\n",
       "    </tr>\n",
       "    <tr>\n",
       "      <th>mean</th>\n",
       "      <td>7,488.75</td>\n",
       "      <td>77.23</td>\n",
       "      <td>947,850,703.36</td>\n",
       "      <td>21.22</td>\n",
       "      <td>0.98</td>\n",
       "      <td>0.59</td>\n",
       "      <td>0.48</td>\n",
       "      <td>0.48</td>\n",
       "      <td>1.56</td>\n",
       "    </tr>\n",
       "    <tr>\n",
       "      <th>std</th>\n",
       "      <td>4,323.42</td>\n",
       "      <td>10.53</td>\n",
       "      <td>681,177,040.14</td>\n",
       "      <td>7.37</td>\n",
       "      <td>0.13</td>\n",
       "      <td>0.49</td>\n",
       "      <td>0.50</td>\n",
       "      <td>0.50</td>\n",
       "      <td>0.61</td>\n",
       "    </tr>\n",
       "    <tr>\n",
       "      <th>min</th>\n",
       "      <td>1.00</td>\n",
       "      <td>53.00</td>\n",
       "      <td>77,909,816.00</td>\n",
       "      <td>4.00</td>\n",
       "      <td>0.00</td>\n",
       "      <td>0.00</td>\n",
       "      <td>0.00</td>\n",
       "      <td>0.00</td>\n",
       "      <td>1.00</td>\n",
       "    </tr>\n",
       "    <tr>\n",
       "      <th>25%</th>\n",
       "      <td>3,745.00</td>\n",
       "      <td>71.00</td>\n",
       "      <td>408,193,966.00</td>\n",
       "      <td>15.00</td>\n",
       "      <td>1.00</td>\n",
       "      <td>0.00</td>\n",
       "      <td>0.00</td>\n",
       "      <td>0.00</td>\n",
       "      <td>1.00</td>\n",
       "    </tr>\n",
       "    <tr>\n",
       "      <th>50%</th>\n",
       "      <td>7,489.00</td>\n",
       "      <td>78.00</td>\n",
       "      <td>780,717,259.00</td>\n",
       "      <td>20.00</td>\n",
       "      <td>1.00</td>\n",
       "      <td>1.00</td>\n",
       "      <td>0.00</td>\n",
       "      <td>0.00</td>\n",
       "      <td>1.00</td>\n",
       "    </tr>\n",
       "    <tr>\n",
       "      <th>75%</th>\n",
       "      <td>11,233.00</td>\n",
       "      <td>86.00</td>\n",
       "      <td>1,408,591,398.00</td>\n",
       "      <td>26.00</td>\n",
       "      <td>1.00</td>\n",
       "      <td>1.00</td>\n",
       "      <td>1.00</td>\n",
       "      <td>1.00</td>\n",
       "      <td>2.00</td>\n",
       "    </tr>\n",
       "    <tr>\n",
       "      <th>max</th>\n",
       "      <td>14,981.00</td>\n",
       "      <td>100.00</td>\n",
       "      <td>4,250,334,444.00</td>\n",
       "      <td>40.00</td>\n",
       "      <td>1.00</td>\n",
       "      <td>1.00</td>\n",
       "      <td>1.00</td>\n",
       "      <td>1.00</td>\n",
       "      <td>3.00</td>\n",
       "    </tr>\n",
       "  </tbody>\n",
       "</table>\n",
       "</div>"
      ],
      "text/plain": [
       "           rank     level       experience  challenges  special_class  \\\n",
       "count 29,953.00 29,953.00        29,953.00   29,953.00      29,953.00   \n",
       "mean   7,488.75     77.23   947,850,703.36       21.22           0.98   \n",
       "std    4,323.42     10.53   681,177,040.14        7.37           0.13   \n",
       "min        1.00     53.00    77,909,816.00        4.00           0.00   \n",
       "25%    3,745.00     71.00   408,193,966.00       15.00           1.00   \n",
       "50%    7,489.00     78.00   780,717,259.00       20.00           1.00   \n",
       "75%   11,233.00     86.00 1,408,591,398.00       26.00           1.00   \n",
       "max   14,981.00    100.00 4,250,334,444.00       40.00           1.00   \n",
       "\n",
       "       stat_Str  stat_Int  stat_Dex  stats_num  \n",
       "count 29,953.00 29,953.00 29,953.00  29,953.00  \n",
       "mean       0.59      0.48      0.48       1.56  \n",
       "std        0.49      0.50      0.50       0.61  \n",
       "min        0.00      0.00      0.00       1.00  \n",
       "25%        0.00      0.00      0.00       1.00  \n",
       "50%        1.00      0.00      0.00       1.00  \n",
       "75%        1.00      1.00      1.00       2.00  \n",
       "max        1.00      1.00      1.00       3.00  "
      ]
     },
     "execution_count": 8,
     "metadata": {},
     "output_type": "execute_result"
    }
   ],
   "source": [
    "ssf.describe()"
   ]
  },
  {
   "cell_type": "code",
   "execution_count": 9,
   "id": "a31732e3",
   "metadata": {},
   "outputs": [
    {
     "data": {
      "text/html": [
       "<div>\n",
       "<style scoped>\n",
       "    .dataframe tbody tr th:only-of-type {\n",
       "        vertical-align: middle;\n",
       "    }\n",
       "\n",
       "    .dataframe tbody tr th {\n",
       "        vertical-align: top;\n",
       "    }\n",
       "\n",
       "    .dataframe thead th {\n",
       "        text-align: right;\n",
       "    }\n",
       "</style>\n",
       "<table border=\"1\" class=\"dataframe\">\n",
       "  <thead>\n",
       "    <tr style=\"text-align: right;\">\n",
       "      <th></th>\n",
       "      <th>name</th>\n",
       "      <th>class</th>\n",
       "      <th>id</th>\n",
       "      <th>account</th>\n",
       "      <th>twitch</th>\n",
       "      <th>ladder</th>\n",
       "    </tr>\n",
       "  </thead>\n",
       "  <tbody>\n",
       "    <tr>\n",
       "      <th>count</th>\n",
       "      <td>29953</td>\n",
       "      <td>29953</td>\n",
       "      <td>29953</td>\n",
       "      <td>29953</td>\n",
       "      <td>6384</td>\n",
       "      <td>29953</td>\n",
       "    </tr>\n",
       "    <tr>\n",
       "      <th>unique</th>\n",
       "      <td>28668</td>\n",
       "      <td>26</td>\n",
       "      <td>29953</td>\n",
       "      <td>16251</td>\n",
       "      <td>3234</td>\n",
       "      <td>2</td>\n",
       "    </tr>\n",
       "    <tr>\n",
       "      <th>top</th>\n",
       "      <td>_Flic_</td>\n",
       "      <td>Berserker</td>\n",
       "      <td>8f3216db5ac9106c287a834731aafc83c387138f28fc45...</td>\n",
       "      <td>chuz101</td>\n",
       "      <td>thespunkylobster</td>\n",
       "      <td>SSF Harbinger</td>\n",
       "    </tr>\n",
       "    <tr>\n",
       "      <th>freq</th>\n",
       "      <td>14</td>\n",
       "      <td>3934</td>\n",
       "      <td>1</td>\n",
       "      <td>29</td>\n",
       "      <td>18</td>\n",
       "      <td>14981</td>\n",
       "    </tr>\n",
       "  </tbody>\n",
       "</table>\n",
       "</div>"
      ],
      "text/plain": [
       "          name      class                                                 id  \\\n",
       "count    29953      29953                                              29953   \n",
       "unique   28668         26                                              29953   \n",
       "top     _Flic_  Berserker  8f3216db5ac9106c287a834731aafc83c387138f28fc45...   \n",
       "freq        14       3934                                                  1   \n",
       "\n",
       "        account            twitch         ladder  \n",
       "count     29953              6384          29953  \n",
       "unique    16251              3234              2  \n",
       "top     chuz101  thespunkylobster  SSF Harbinger  \n",
       "freq         29                18          14981  "
      ]
     },
     "execution_count": 9,
     "metadata": {},
     "output_type": "execute_result"
    }
   ],
   "source": [
    "ssf.describe(include='object')"
   ]
  },
  {
   "cell_type": "markdown",
   "id": "73bff7a0",
   "metadata": {},
   "source": [
    "## non solo dataframe"
   ]
  },
  {
   "cell_type": "code",
   "execution_count": 10,
   "id": "3554c4cc",
   "metadata": {},
   "outputs": [],
   "source": [
    "non_ssf = df[(df['ladder'] == 'Harbinger')|(df['ladder'] == 'Hardcore Harbinger')]"
   ]
  },
  {
   "cell_type": "code",
   "execution_count": 11,
   "id": "2fe0dc47",
   "metadata": {},
   "outputs": [
    {
     "data": {
      "text/html": [
       "<div>\n",
       "<style scoped>\n",
       "    .dataframe tbody tr th:only-of-type {\n",
       "        vertical-align: middle;\n",
       "    }\n",
       "\n",
       "    .dataframe tbody tr th {\n",
       "        vertical-align: top;\n",
       "    }\n",
       "\n",
       "    .dataframe thead th {\n",
       "        text-align: right;\n",
       "    }\n",
       "</style>\n",
       "<table border=\"1\" class=\"dataframe\">\n",
       "  <thead>\n",
       "    <tr style=\"text-align: right;\">\n",
       "      <th></th>\n",
       "      <th>rank</th>\n",
       "      <th>level</th>\n",
       "      <th>experience</th>\n",
       "      <th>challenges</th>\n",
       "      <th>special_class</th>\n",
       "      <th>stat_Str</th>\n",
       "      <th>stat_Int</th>\n",
       "      <th>stat_Dex</th>\n",
       "      <th>stats_num</th>\n",
       "    </tr>\n",
       "  </thead>\n",
       "  <tbody>\n",
       "    <tr>\n",
       "      <th>count</th>\n",
       "      <td>29,823.00</td>\n",
       "      <td>29,823.00</td>\n",
       "      <td>29,823.00</td>\n",
       "      <td>29,823.00</td>\n",
       "      <td>29,823.00</td>\n",
       "      <td>29,823.00</td>\n",
       "      <td>29,823.00</td>\n",
       "      <td>29,823.00</td>\n",
       "      <td>29,823.00</td>\n",
       "    </tr>\n",
       "    <tr>\n",
       "      <th>mean</th>\n",
       "      <td>7,456.25</td>\n",
       "      <td>93.65</td>\n",
       "      <td>2,707,548,316.85</td>\n",
       "      <td>30.32</td>\n",
       "      <td>1.00</td>\n",
       "      <td>0.57</td>\n",
       "      <td>0.36</td>\n",
       "      <td>0.54</td>\n",
       "      <td>1.47</td>\n",
       "    </tr>\n",
       "    <tr>\n",
       "      <th>std</th>\n",
       "      <td>4,304.65</td>\n",
       "      <td>2.97</td>\n",
       "      <td>620,079,660.81</td>\n",
       "      <td>6.84</td>\n",
       "      <td>0.01</td>\n",
       "      <td>0.49</td>\n",
       "      <td>0.48</td>\n",
       "      <td>0.50</td>\n",
       "      <td>0.61</td>\n",
       "    </tr>\n",
       "    <tr>\n",
       "      <th>min</th>\n",
       "      <td>1.00</td>\n",
       "      <td>89.00</td>\n",
       "      <td>1,786,638,972.00</td>\n",
       "      <td>8.00</td>\n",
       "      <td>0.00</td>\n",
       "      <td>0.00</td>\n",
       "      <td>0.00</td>\n",
       "      <td>0.00</td>\n",
       "      <td>1.00</td>\n",
       "    </tr>\n",
       "    <tr>\n",
       "      <th>25%</th>\n",
       "      <td>3,728.50</td>\n",
       "      <td>91.00</td>\n",
       "      <td>2,129,280,019.50</td>\n",
       "      <td>25.00</td>\n",
       "      <td>1.00</td>\n",
       "      <td>0.00</td>\n",
       "      <td>0.00</td>\n",
       "      <td>0.00</td>\n",
       "      <td>1.00</td>\n",
       "    </tr>\n",
       "    <tr>\n",
       "      <th>50%</th>\n",
       "      <td>7,456.00</td>\n",
       "      <td>94.00</td>\n",
       "      <td>2,835,787,324.00</td>\n",
       "      <td>30.00</td>\n",
       "      <td>1.00</td>\n",
       "      <td>1.00</td>\n",
       "      <td>0.00</td>\n",
       "      <td>1.00</td>\n",
       "      <td>1.00</td>\n",
       "    </tr>\n",
       "    <tr>\n",
       "      <th>75%</th>\n",
       "      <td>11,184.00</td>\n",
       "      <td>95.00</td>\n",
       "      <td>3,031,208,352.50</td>\n",
       "      <td>36.00</td>\n",
       "      <td>1.00</td>\n",
       "      <td>1.00</td>\n",
       "      <td>1.00</td>\n",
       "      <td>1.00</td>\n",
       "      <td>2.00</td>\n",
       "    </tr>\n",
       "    <tr>\n",
       "      <th>max</th>\n",
       "      <td>14,918.00</td>\n",
       "      <td>100.00</td>\n",
       "      <td>4,250,334,444.00</td>\n",
       "      <td>40.00</td>\n",
       "      <td>1.00</td>\n",
       "      <td>1.00</td>\n",
       "      <td>1.00</td>\n",
       "      <td>1.00</td>\n",
       "      <td>3.00</td>\n",
       "    </tr>\n",
       "  </tbody>\n",
       "</table>\n",
       "</div>"
      ],
      "text/plain": [
       "           rank     level       experience  challenges  special_class  \\\n",
       "count 29,823.00 29,823.00        29,823.00   29,823.00      29,823.00   \n",
       "mean   7,456.25     93.65 2,707,548,316.85       30.32           1.00   \n",
       "std    4,304.65      2.97   620,079,660.81        6.84           0.01   \n",
       "min        1.00     89.00 1,786,638,972.00        8.00           0.00   \n",
       "25%    3,728.50     91.00 2,129,280,019.50       25.00           1.00   \n",
       "50%    7,456.00     94.00 2,835,787,324.00       30.00           1.00   \n",
       "75%   11,184.00     95.00 3,031,208,352.50       36.00           1.00   \n",
       "max   14,918.00    100.00 4,250,334,444.00       40.00           1.00   \n",
       "\n",
       "       stat_Str  stat_Int  stat_Dex  stats_num  \n",
       "count 29,823.00 29,823.00 29,823.00  29,823.00  \n",
       "mean       0.57      0.36      0.54       1.47  \n",
       "std        0.49      0.48      0.50       0.61  \n",
       "min        0.00      0.00      0.00       1.00  \n",
       "25%        0.00      0.00      0.00       1.00  \n",
       "50%        1.00      0.00      1.00       1.00  \n",
       "75%        1.00      1.00      1.00       2.00  \n",
       "max        1.00      1.00      1.00       3.00  "
      ]
     },
     "execution_count": 11,
     "metadata": {},
     "output_type": "execute_result"
    }
   ],
   "source": [
    "pd.options.display.float_format = '{:,.2f}'.format\n",
    "non_ssf.describe()"
   ]
  },
  {
   "cell_type": "code",
   "execution_count": 12,
   "id": "dfbc29b2",
   "metadata": {},
   "outputs": [
    {
     "data": {
      "text/html": [
       "<div>\n",
       "<style scoped>\n",
       "    .dataframe tbody tr th:only-of-type {\n",
       "        vertical-align: middle;\n",
       "    }\n",
       "\n",
       "    .dataframe tbody tr th {\n",
       "        vertical-align: top;\n",
       "    }\n",
       "\n",
       "    .dataframe thead th {\n",
       "        text-align: right;\n",
       "    }\n",
       "</style>\n",
       "<table border=\"1\" class=\"dataframe\">\n",
       "  <thead>\n",
       "    <tr style=\"text-align: right;\">\n",
       "      <th></th>\n",
       "      <th>name</th>\n",
       "      <th>class</th>\n",
       "      <th>id</th>\n",
       "      <th>account</th>\n",
       "      <th>twitch</th>\n",
       "      <th>ladder</th>\n",
       "    </tr>\n",
       "  </thead>\n",
       "  <tbody>\n",
       "    <tr>\n",
       "      <th>count</th>\n",
       "      <td>29823</td>\n",
       "      <td>29823</td>\n",
       "      <td>29823</td>\n",
       "      <td>29823</td>\n",
       "      <td>9916</td>\n",
       "      <td>29823</td>\n",
       "    </tr>\n",
       "    <tr>\n",
       "      <th>unique</th>\n",
       "      <td>29652</td>\n",
       "      <td>22</td>\n",
       "      <td>29823</td>\n",
       "      <td>21978</td>\n",
       "      <td>6813</td>\n",
       "      <td>2</td>\n",
       "    </tr>\n",
       "    <tr>\n",
       "      <th>top</th>\n",
       "      <td>Xkuz</td>\n",
       "      <td>Berserker</td>\n",
       "      <td>3dcddd59f5088893f734f39686350990dae168cc4f4b00...</td>\n",
       "      <td>supercellj</td>\n",
       "      <td>zen1703</td>\n",
       "      <td>Harbinger</td>\n",
       "    </tr>\n",
       "    <tr>\n",
       "      <th>freq</th>\n",
       "      <td>4</td>\n",
       "      <td>4777</td>\n",
       "      <td>1</td>\n",
       "      <td>14</td>\n",
       "      <td>12</td>\n",
       "      <td>14918</td>\n",
       "    </tr>\n",
       "  </tbody>\n",
       "</table>\n",
       "</div>"
      ],
      "text/plain": [
       "         name      class                                                 id  \\\n",
       "count   29823      29823                                              29823   \n",
       "unique  29652         22                                              29823   \n",
       "top      Xkuz  Berserker  3dcddd59f5088893f734f39686350990dae168cc4f4b00...   \n",
       "freq        4       4777                                                  1   \n",
       "\n",
       "           account   twitch     ladder  \n",
       "count        29823     9916      29823  \n",
       "unique       21978     6813          2  \n",
       "top     supercellj  zen1703  Harbinger  \n",
       "freq            14       12      14918  "
      ]
     },
     "execution_count": 12,
     "metadata": {},
     "output_type": "execute_result"
    }
   ],
   "source": [
    "non_ssf.describe(include='object')"
   ]
  },
  {
   "cell_type": "markdown",
   "id": "ed144c62",
   "metadata": {},
   "source": [
    "### Commentary\n",
    "\n",
    "전체 데이터에서의 mean을 보자면\n",
    "\n",
    "    ``` sort    rank      level       experience   challenges  special_class  Str    Int   Dex   stats_num ```\n",
    "\n",
    "    ``` mean\t7,472.54\t85.42\t1,825,786,027.36\t25.76\t0.99\t0.58\t0.42\t0.51\t1.51 ```\n",
    "\n",
    "그리고  non_ssf(Harbinger, Harbinger Hardcore) 를 먼저 보자면\n",
    "\n",
    "    ``` mean\t7,456.25\t93.65\t2,707,548,316.85\t30.32\t1.00\t0.57\t0.36\t0.54\t1.47 ```\n",
    "그리고 ssf(SSF Harbinger, SSF Harbinger hc)를 보자면\n",
    "\n",
    "    ``` mean\t7,488.75\t77.23\t947,850,703.36\t21.22\t0.98\t0.59\t0.48\t0.48\t1.56 ```\n",
    "\n",
    "> 전체적인 수치가 많이 차이나진 않지만 , SSF 모드의 랭커들을 레벨이 더 높았다. 하지만 이 부분은 SSF Harbinger hc 모드의 제한 때문인데, 그 모드는 특정 레벨에 분포가 몰려있는 것을 보아 해당 레벨이 넘는 캐릭터만 입장이 가능한 것으로 보였다. 즉, 해당 모드를 플레이하기 위해서 키운 캐릭터들이 랭크에 올려져있는 것으로 볼 수 있다. 그 캐릭터들이 전체 데이터의 레벨 평균을 많이 낮춘 것이다. \n",
    "\n",
    "실제로 ssf 모드의 level 은 전체 평균을 많이 밑도는 것으로 보이고 있다. 혼자 도전하는 모드임에도 불고하고 랭크에 이름을 올린 캐릭터들의 경험치가 많이 적은 것에서도 확인할 수 있는 부분이다.\n",
    "\n",
    "> 다른 부분들을 살펴보자면 challenge는 ssf 모드가 훨씬 적었다. 위와같은 이유에 더해서 플레이 성향도 있을 것으로 보인다. 다른 사람과 함께 플레이할 경우 각자의 조합을 여러가지로 두고 시도할 가능성이 많지만, 혼자는 어느정도 정해져있기 때문이다. \n",
    "\n",
    "심지어 중간값이 30과 20으로 거의 10차이가 나며, 최소 시도로는 8과 4로 두 배 차이가 난다. 15000등 안팎이면 어중간하게 잘하는 사람들은 거의 없을텐데 말이다.\n",
    "\n",
    "> 또한 특정 계정이 29개나 플레이한 것을 여기서 확인할 수 있다. 잘 하는 사람이 여러 캐릭으로 랭크에 아이디를 올리는 일이 어려운 일이 아니기 때문이다.\n",
    "\n",
    "> 추가적으로, class에서 전직하기 전의 클래스가 없는 non_ssf 모드와 달리 ssf 모드는 모든 직업이 존재함을 확인할 수 있다. \n",
    "\n",
    "> 둘 다 모두, Berserker가 가장 많이 존재하는 것으로 보인다.\n"
   ]
  },
  {
   "cell_type": "markdown",
   "id": "1005ca51",
   "metadata": {},
   "source": [
    "## correlation map"
   ]
  },
  {
   "cell_type": "code",
   "execution_count": 13,
   "id": "da8f947c",
   "metadata": {},
   "outputs": [
    {
     "data": {
      "text/plain": [
       "<AxesSubplot:>"
      ]
     },
     "execution_count": 13,
     "metadata": {},
     "output_type": "execute_result"
    },
    {
     "data": {
      "image/png": "[encoded data removed]",
      "text/plain": [
       "<Figure size 864x576 with 2 Axes>"
      ]
     },
     "metadata": {
      "needs_background": "light"
     },
     "output_type": "display_data"
    }
   ],
   "source": [
    "# ssf\n",
    "\n",
    "plt.rcParams[\"figure.figsize\"] = (12, 8)\n",
    "sns.heatmap(ssf.corr(), annot = True, cmap = \"YlGnBu\", square = True)"
   ]
  },
  {
   "cell_type": "markdown",
   "id": "bbe97539",
   "metadata": {},
   "source": [
    " ### Commentary\n",
    "  \n",
    " >볼만한 부분은 challenges와 level, experience이다. \n",
    " \n",
    " 약한 양의 상관관계가 있는데 (0.37, 0.42) 다시 생각해본다면 높은 경험치, 높은 레벨이더라도 꼭 시도가 상대적으로 적은 것이 아닐 수 있다는 생각을 할 수 있다. \n",
    " \n",
    " > 또한 랭크와 challenges를 보면 -0.38의 약한 음의 상관관계가 보인다. 다시 말해 랭크가 높은 사람들(낮은 rank수)이라고 해서 시도가 적은 것이 아닐 수 있다는 생각을 할 수 있다. \n",
    " \n",
    " > 그리고 stat의 세 컬럼과 rank를 보면 Str과 Int Dex 중 Int가 유일하게 양수이다. \n",
    " \n",
    " stat 컬럼들은 0과 1로 더미 처리되어있고, 그저 선호도 정도만 알 수 있는 것이지만 ,  rank는 낮을수록 좋은 지표이기 때문에, \n",
    " \n",
    " 즉 이 랭커들 사이에서도 Int를 선택하지 않은 캐릭터들이 좀 더 높은 랭크를 갖고 있다는 것을 알 수 있다. 높은 랭크를 성공의 지표라고 생각한다면 성공한 사람들이 선호하는 직업은 Int가 포함되지 않은 클래스들인 것을 짐작할 수 있다."
   ]
  },
  {
   "cell_type": "code",
   "execution_count": 14,
   "id": "388a9e7c",
   "metadata": {},
   "outputs": [
    {
     "data": {
      "text/plain": [
       "<AxesSubplot:>"
      ]
     },
     "execution_count": 14,
     "metadata": {},
     "output_type": "execute_result"
    },
    {
     "data": {
      "image/png": "[encoded data removed]",
      "text/plain": [
       "<Figure size 864x576 with 2 Axes>"
      ]
     },
     "metadata": {
      "needs_background": "light"
     },
     "output_type": "display_data"
    }
   ],
   "source": [
    "# non_ssf\n",
    "\n",
    "plt.rcParams[\"figure.figsize\"] = (12, 8)\n",
    "sns.heatmap(non_ssf.corr(), annot = True, cmap = \"YlGnBu\", square = True)"
   ]
  },
  {
   "cell_type": "markdown",
   "id": "0972df70",
   "metadata": {},
   "source": [
    " ### Commentary\n",
    " \n",
    "non_ssf 모드(Harbinger, Harbinger Hardcore)에서는 challenge와 레벨/경험치와의 양의 상관관계가 조금 강해져있다. \n",
    "\n",
    "또한 rank와 experience, level은 좀 더 강한 음의 상관관계를 가지고 있다. 레벨/경험치가 상대적으로 적어도 높은 랭크를 딸 실력이 있는 유저들이 있다는 것이고\n",
    "\n",
    "rank와 세 stat을 살펴보자면 이번에는 Str만 양, Int와 Dex는 음의 상관계수를 가지고 있다. 상대적으로 높은 랭크를 가지고 있는 사람들이 Int와 Dex를 찍은 비율이 높을 수 있겠다는 생각을 해볼 수 있다."
   ]
  },
  {
   "cell_type": "markdown",
   "id": "6ecba3c2",
   "metadata": {},
   "source": [
    "## classes\n",
    "\n",
    "전체 클래스를 대상으로 나누어보는 정도만 진행하며, 클래스를 상세하게 보는 (이전에 만든 stat column들을 이용하는 분석)은 다음 파일에서 진행하려 한다."
   ]
  },
  {
   "cell_type": "code",
   "execution_count": 15,
   "id": "f90c8cd7",
   "metadata": {},
   "outputs": [],
   "source": [
    "# class set\n",
    "\n",
    "classes = ['Marauder', 'Juggernaut', 'Berserker', 'Chieftain', 'Witch', 'Necromancer', 'Elementalist', 'Occultist', 'Ranger', 'Raider', 'Deadeye', 'Pathfinder', 'Duelist', 'Slayer', 'Gladiator', 'Champion', 'Shadow', 'Assassin', 'Saboteur', 'Trickster', 'Templar', 'Inquisitor', 'Hierophant', 'Guardian', 'Scion', 'Ascendant']"
   ]
  },
  {
   "cell_type": "code",
   "execution_count": 16,
   "id": "aad55046",
   "metadata": {},
   "outputs": [
    {
     "data": {
      "image/png": "[encoded data removed]",
      "text/plain": [
       "<Figure size 1152x432 with 1 Axes>"
      ]
     },
     "metadata": {
      "needs_background": "light"
     },
     "output_type": "display_data"
    },
    {
     "name": "stderr",
     "output_type": "stream",
     "text": [
      "posx and posy should be finite values\n",
      "posx and posy should be finite values\n",
      "posx and posy should be finite values\n",
      "posx and posy should be finite values\n",
      "posx and posy should be finite values\n",
      "posx and posy should be finite values\n",
      "posx and posy should be finite values\n",
      "posx and posy should be finite values\n"
     ]
    },
    {
     "data": {
      "image/png": "[encoded data removed]",
      "text/plain": [
       "<Figure size 1152x432 with 1 Axes>"
      ]
     },
     "metadata": {},
     "output_type": "display_data"
    }
   ],
   "source": [
    "# ssf classes\n",
    "\n",
    "plt.rcParams[\"figure.figsize\"] = (16, 6)\n",
    "plt.ylim(0, 5000)\n",
    "sns.set_style('whitegrid')\n",
    "ax = sns.countplot(data = ssf, x = 'class', order = classes,\n",
    "              palette=\"rocket\", edgecolor=sns.color_palette(\"dark\", 1)) # palette = Accent, order = 설정한 class 리스트 순서\n",
    "\n",
    "# 상단에 숫자표기하는 for문\n",
    "for p in ax.patches:\n",
    "    height = p.get_height()\n",
    "    ax.text(p.get_x() + p.get_width() / 2., height + 5, height, ha = 'center', size = 9)\n",
    "\n",
    "plt.xticks(rotation=45, fontsize=10)\n",
    "plt.show()\n",
    "\n",
    "# non_ssf classes\n",
    "\n",
    "plt.rcParams[\"figure.figsize\"] = (16, 6)\n",
    "plt.ylim(0, 5000)\n",
    "sns.set_style('whitegrid')\n",
    "ax = sns.countplot(data = non_ssf, x = 'class', order = classes,\n",
    "              palette=\"rocket\", edgecolor=sns.color_palette(\"dark\", 1)) # palette = Accent, order = 설정한 class 리스트 순서\n",
    "\n",
    "# 상단에 숫자표기하는 for문\n",
    "for p in ax.patches:\n",
    "    height = p.get_height()\n",
    "    if height != 'np.nan':\n",
    "        ax.text(p.get_x() + p.get_width() / 2., height + 5, height, ha = 'center', size = 9)\n",
    "    else:\n",
    "        break\n",
    "\n",
    "plt.xticks(rotation=45, fontsize=10)\n",
    "plt.show()"
   ]
  },
  {
   "cell_type": "markdown",
   "id": "b1dcccfd",
   "metadata": {},
   "source": [
    "### Commentary\n",
    "\n",
    "non_ssf 모드의 경우 결측값이 존재해서 그것 때문에 숫자가 소수점과함께 지저분하게 기입되는데다가 오류메세지까지 뜨고 있다. 해결하고싶었지만 하지 못한 중생...\n",
    "\n",
    " > 일단, 전직전의 직업이 존재하지 않는다고 나오던 non_ssf 모드에서도 Ranger, Marauder, Scion이 존재하는 것으로 보이고 있다. \n",
    " \n",
    " 실제로 아래 정확한 수치 표에서 4, 1, 1의 수를 기록하고 있다.\n",
    " \n",
    " > HC와 아닐때를 나누었을 때와는 달리 두 분류 모두 Berserker가 1위로 나왔다. \n",
    " \n",
    " > Inquisitor의 수는 SSF 모드에서 좀더 선호되는 것으로 나온다. \n",
    " \n",
    " > 또한 SSF 모드에서는 선호되지 않던 Pathfinder의 수가 유독 눈에 띈다.\n",
    " \n",
    " > Slayer와 Raider, Shadow직군(?)의 수가 non_ssf 모드에서 좀 더 선호되는 것으로 보인다. 모두 민첩을 찍는 클래스들이다."
   ]
  },
  {
   "cell_type": "markdown",
   "id": "1e3ae576",
   "metadata": {},
   "source": [
    "## class-users (클래스별 유저수 number)"
   ]
  },
  {
   "cell_type": "code",
   "execution_count": 17,
   "id": "a21a8a93",
   "metadata": {
    "scrolled": true
   },
   "outputs": [
    {
     "data": {
      "text/html": [
       "<div>\n",
       "<style scoped>\n",
       "    .dataframe tbody tr th:only-of-type {\n",
       "        vertical-align: middle;\n",
       "    }\n",
       "\n",
       "    .dataframe tbody tr th {\n",
       "        vertical-align: top;\n",
       "    }\n",
       "\n",
       "    .dataframe thead th {\n",
       "        text-align: right;\n",
       "    }\n",
       "</style>\n",
       "<table border=\"1\" class=\"dataframe\">\n",
       "  <thead>\n",
       "    <tr style=\"text-align: right;\">\n",
       "      <th></th>\n",
       "      <th>id</th>\n",
       "    </tr>\n",
       "    <tr>\n",
       "      <th>class</th>\n",
       "      <th></th>\n",
       "    </tr>\n",
       "  </thead>\n",
       "  <tbody>\n",
       "    <tr>\n",
       "      <th>Ascendant</th>\n",
       "      <td>1865</td>\n",
       "    </tr>\n",
       "    <tr>\n",
       "      <th>Assassin</th>\n",
       "      <td>499</td>\n",
       "    </tr>\n",
       "    <tr>\n",
       "      <th>Berserker</th>\n",
       "      <td>3934</td>\n",
       "    </tr>\n",
       "    <tr>\n",
       "      <th>Champion</th>\n",
       "      <td>600</td>\n",
       "    </tr>\n",
       "    <tr>\n",
       "      <th>Chieftain</th>\n",
       "      <td>1149</td>\n",
       "    </tr>\n",
       "    <tr>\n",
       "      <th>Deadeye</th>\n",
       "      <td>473</td>\n",
       "    </tr>\n",
       "    <tr>\n",
       "      <th>Duelist</th>\n",
       "      <td>65</td>\n",
       "    </tr>\n",
       "    <tr>\n",
       "      <th>Elementalist</th>\n",
       "      <td>973</td>\n",
       "    </tr>\n",
       "    <tr>\n",
       "      <th>Gladiator</th>\n",
       "      <td>2896</td>\n",
       "    </tr>\n",
       "    <tr>\n",
       "      <th>Guardian</th>\n",
       "      <td>167</td>\n",
       "    </tr>\n",
       "    <tr>\n",
       "      <th>Hierophant</th>\n",
       "      <td>1225</td>\n",
       "    </tr>\n",
       "    <tr>\n",
       "      <th>Inquisitor</th>\n",
       "      <td>2004</td>\n",
       "    </tr>\n",
       "    <tr>\n",
       "      <th>Juggernaut</th>\n",
       "      <td>1171</td>\n",
       "    </tr>\n",
       "    <tr>\n",
       "      <th>Marauder</th>\n",
       "      <td>94</td>\n",
       "    </tr>\n",
       "    <tr>\n",
       "      <th>Necromancer</th>\n",
       "      <td>3771</td>\n",
       "    </tr>\n",
       "    <tr>\n",
       "      <th>Occultist</th>\n",
       "      <td>780</td>\n",
       "    </tr>\n",
       "    <tr>\n",
       "      <th>Pathfinder</th>\n",
       "      <td>395</td>\n",
       "    </tr>\n",
       "    <tr>\n",
       "      <th>Raider</th>\n",
       "      <td>2312</td>\n",
       "    </tr>\n",
       "    <tr>\n",
       "      <th>Ranger</th>\n",
       "      <td>44</td>\n",
       "    </tr>\n",
       "    <tr>\n",
       "      <th>Saboteur</th>\n",
       "      <td>800</td>\n",
       "    </tr>\n",
       "    <tr>\n",
       "      <th>Scion</th>\n",
       "      <td>51</td>\n",
       "    </tr>\n",
       "    <tr>\n",
       "      <th>Shadow</th>\n",
       "      <td>46</td>\n",
       "    </tr>\n",
       "    <tr>\n",
       "      <th>Slayer</th>\n",
       "      <td>2436</td>\n",
       "    </tr>\n",
       "    <tr>\n",
       "      <th>Templar</th>\n",
       "      <td>71</td>\n",
       "    </tr>\n",
       "    <tr>\n",
       "      <th>Trickster</th>\n",
       "      <td>2013</td>\n",
       "    </tr>\n",
       "    <tr>\n",
       "      <th>Witch</th>\n",
       "      <td>119</td>\n",
       "    </tr>\n",
       "  </tbody>\n",
       "</table>\n",
       "</div>"
      ],
      "text/plain": [
       "                id\n",
       "class             \n",
       "Ascendant     1865\n",
       "Assassin       499\n",
       "Berserker     3934\n",
       "Champion       600\n",
       "Chieftain     1149\n",
       "Deadeye        473\n",
       "Duelist         65\n",
       "Elementalist   973\n",
       "Gladiator     2896\n",
       "Guardian       167\n",
       "Hierophant    1225\n",
       "Inquisitor    2004\n",
       "Juggernaut    1171\n",
       "Marauder        94\n",
       "Necromancer   3771\n",
       "Occultist      780\n",
       "Pathfinder     395\n",
       "Raider        2312\n",
       "Ranger          44\n",
       "Saboteur       800\n",
       "Scion           51\n",
       "Shadow          46\n",
       "Slayer        2436\n",
       "Templar         71\n",
       "Trickster     2013\n",
       "Witch          119"
      ]
     },
     "execution_count": 17,
     "metadata": {},
     "output_type": "execute_result"
    }
   ],
   "source": [
    "# SSF 모드의 클래스별 유저 수\n",
    "\n",
    "pivot_countuser_class_ssf = ssf.pivot_table(values = 'id', columns = 'class', aggfunc = 'count')\n",
    "pivot_countuser_class_ssf.transpose()"
   ]
  },
  {
   "cell_type": "code",
   "execution_count": 18,
   "id": "93a004e7",
   "metadata": {
    "scrolled": false
   },
   "outputs": [
    {
     "data": {
      "image/png": "[encoded data removed]",
      "text/plain": [
       "<Figure size 1152x432 with 1 Axes>"
      ]
     },
     "metadata": {},
     "output_type": "display_data"
    }
   ],
   "source": [
    "# 위와 같은 그래프를 그리게 되지만 ...\n",
    "\n",
    "plt.rcParams[\"figure.figsize\"] = (16, 6)\n",
    "sns.barplot(data = pivot_countuser_class_ssf,\n",
    "            edgecolor=sns.color_palette(\"dark\", 1))\n",
    "plt.xticks(rotation=45, fontsize=12)\n",
    "plt.show()"
   ]
  },
  {
   "cell_type": "code",
   "execution_count": 19,
   "id": "e62f0d47",
   "metadata": {
    "scrolled": true
   },
   "outputs": [
    {
     "data": {
      "text/html": [
       "<div>\n",
       "<style scoped>\n",
       "    .dataframe tbody tr th:only-of-type {\n",
       "        vertical-align: middle;\n",
       "    }\n",
       "\n",
       "    .dataframe tbody tr th {\n",
       "        vertical-align: top;\n",
       "    }\n",
       "\n",
       "    .dataframe thead th {\n",
       "        text-align: right;\n",
       "    }\n",
       "</style>\n",
       "<table border=\"1\" class=\"dataframe\">\n",
       "  <thead>\n",
       "    <tr style=\"text-align: right;\">\n",
       "      <th></th>\n",
       "      <th>id</th>\n",
       "    </tr>\n",
       "    <tr>\n",
       "      <th>class</th>\n",
       "      <th></th>\n",
       "    </tr>\n",
       "  </thead>\n",
       "  <tbody>\n",
       "    <tr>\n",
       "      <th>Ascendant</th>\n",
       "      <td>1889</td>\n",
       "    </tr>\n",
       "    <tr>\n",
       "      <th>Assassin</th>\n",
       "      <td>180</td>\n",
       "    </tr>\n",
       "    <tr>\n",
       "      <th>Berserker</th>\n",
       "      <td>4777</td>\n",
       "    </tr>\n",
       "    <tr>\n",
       "      <th>Champion</th>\n",
       "      <td>616</td>\n",
       "    </tr>\n",
       "    <tr>\n",
       "      <th>Chieftain</th>\n",
       "      <td>981</td>\n",
       "    </tr>\n",
       "    <tr>\n",
       "      <th>Deadeye</th>\n",
       "      <td>246</td>\n",
       "    </tr>\n",
       "    <tr>\n",
       "      <th>Elementalist</th>\n",
       "      <td>353</td>\n",
       "    </tr>\n",
       "    <tr>\n",
       "      <th>Gladiator</th>\n",
       "      <td>2004</td>\n",
       "    </tr>\n",
       "    <tr>\n",
       "      <th>Guardian</th>\n",
       "      <td>1010</td>\n",
       "    </tr>\n",
       "    <tr>\n",
       "      <th>Hierophant</th>\n",
       "      <td>500</td>\n",
       "    </tr>\n",
       "    <tr>\n",
       "      <th>Inquisitor</th>\n",
       "      <td>1387</td>\n",
       "    </tr>\n",
       "    <tr>\n",
       "      <th>Juggernaut</th>\n",
       "      <td>859</td>\n",
       "    </tr>\n",
       "    <tr>\n",
       "      <th>Marauder</th>\n",
       "      <td>1</td>\n",
       "    </tr>\n",
       "    <tr>\n",
       "      <th>Necromancer</th>\n",
       "      <td>3306</td>\n",
       "    </tr>\n",
       "    <tr>\n",
       "      <th>Occultist</th>\n",
       "      <td>452</td>\n",
       "    </tr>\n",
       "    <tr>\n",
       "      <th>Pathfinder</th>\n",
       "      <td>3844</td>\n",
       "    </tr>\n",
       "    <tr>\n",
       "      <th>Raider</th>\n",
       "      <td>2838</td>\n",
       "    </tr>\n",
       "    <tr>\n",
       "      <th>Ranger</th>\n",
       "      <td>4</td>\n",
       "    </tr>\n",
       "    <tr>\n",
       "      <th>Saboteur</th>\n",
       "      <td>481</td>\n",
       "    </tr>\n",
       "    <tr>\n",
       "      <th>Scion</th>\n",
       "      <td>1</td>\n",
       "    </tr>\n",
       "    <tr>\n",
       "      <th>Slayer</th>\n",
       "      <td>3049</td>\n",
       "    </tr>\n",
       "    <tr>\n",
       "      <th>Trickster</th>\n",
       "      <td>1045</td>\n",
       "    </tr>\n",
       "  </tbody>\n",
       "</table>\n",
       "</div>"
      ],
      "text/plain": [
       "                id\n",
       "class             \n",
       "Ascendant     1889\n",
       "Assassin       180\n",
       "Berserker     4777\n",
       "Champion       616\n",
       "Chieftain      981\n",
       "Deadeye        246\n",
       "Elementalist   353\n",
       "Gladiator     2004\n",
       "Guardian      1010\n",
       "Hierophant     500\n",
       "Inquisitor    1387\n",
       "Juggernaut     859\n",
       "Marauder         1\n",
       "Necromancer   3306\n",
       "Occultist      452\n",
       "Pathfinder    3844\n",
       "Raider        2838\n",
       "Ranger           4\n",
       "Saboteur       481\n",
       "Scion            1\n",
       "Slayer        3049\n",
       "Trickster     1045"
      ]
     },
     "execution_count": 19,
     "metadata": {},
     "output_type": "execute_result"
    }
   ],
   "source": [
    "# SSF가 아닌 모드 클래스별 유저 수\n",
    "\n",
    "pivot_countuser_class_non_ssf = non_ssf.pivot_table(values = 'id', columns = 'class', aggfunc = 'count')\n",
    "pivot_countuser_class_non_ssf.transpose()"
   ]
  },
  {
   "cell_type": "code",
   "execution_count": 20,
   "id": "c239f3cb",
   "metadata": {},
   "outputs": [
    {
     "data": {
      "image/png": "[encoded data removed]",
      "text/plain": [
       "<Figure size 1152x432 with 1 Axes>"
      ]
     },
     "metadata": {},
     "output_type": "display_data"
    }
   ],
   "source": [
    "plt.rcParams[\"figure.figsize\"] = (16, 6)\n",
    "sns.barplot(data = pivot_countuser_class_non_ssf,\n",
    "            edgecolor=sns.color_palette(\"dark\", 1))\n",
    "plt.xticks(rotation=45, fontsize=12)\n",
    "plt.show()"
   ]
  },
  {
   "cell_type": "markdown",
   "id": "92ef03b9",
   "metadata": {},
   "source": [
    "## class- rank \n",
    "\n",
    "이번에는 SSF/ nonSSF 모드의 클래스별 랭크를 본다.\n",
    "\n",
    "그래프에서의 order를 같게 하고싶지만 없는 값은 아예 오류가 나는 덕분에(?) 그대로 순서대로 나오도록 두는 중,,,\n"
   ]
  },
  {
   "cell_type": "markdown",
   "id": "c9b4b79d",
   "metadata": {},
   "source": [
    "### Mean rank"
   ]
  },
  {
   "cell_type": "code",
   "execution_count": 21,
   "id": "30d7938b",
   "metadata": {
    "scrolled": true
   },
   "outputs": [
    {
     "data": {
      "text/html": [
       "<div>\n",
       "<style scoped>\n",
       "    .dataframe tbody tr th:only-of-type {\n",
       "        vertical-align: middle;\n",
       "    }\n",
       "\n",
       "    .dataframe tbody tr th {\n",
       "        vertical-align: top;\n",
       "    }\n",
       "\n",
       "    .dataframe thead th {\n",
       "        text-align: right;\n",
       "    }\n",
       "</style>\n",
       "<table border=\"1\" class=\"dataframe\">\n",
       "  <thead>\n",
       "    <tr style=\"text-align: right;\">\n",
       "      <th></th>\n",
       "      <th>rank</th>\n",
       "    </tr>\n",
       "    <tr>\n",
       "      <th>class</th>\n",
       "      <th></th>\n",
       "    </tr>\n",
       "  </thead>\n",
       "  <tbody>\n",
       "    <tr>\n",
       "      <th>Ascendant</th>\n",
       "      <td>7,631.16</td>\n",
       "    </tr>\n",
       "    <tr>\n",
       "      <th>Assassin</th>\n",
       "      <td>8,940.31</td>\n",
       "    </tr>\n",
       "    <tr>\n",
       "      <th>Berserker</th>\n",
       "      <td>7,078.63</td>\n",
       "    </tr>\n",
       "    <tr>\n",
       "      <th>Champion</th>\n",
       "      <td>7,109.38</td>\n",
       "    </tr>\n",
       "    <tr>\n",
       "      <th>Chieftain</th>\n",
       "      <td>7,225.37</td>\n",
       "    </tr>\n",
       "    <tr>\n",
       "      <th>Deadeye</th>\n",
       "      <td>9,010.15</td>\n",
       "    </tr>\n",
       "    <tr>\n",
       "      <th>Duelist</th>\n",
       "      <td>12,318.43</td>\n",
       "    </tr>\n",
       "    <tr>\n",
       "      <th>Elementalist</th>\n",
       "      <td>8,708.19</td>\n",
       "    </tr>\n",
       "    <tr>\n",
       "      <th>Gladiator</th>\n",
       "      <td>6,765.49</td>\n",
       "    </tr>\n",
       "    <tr>\n",
       "      <th>Guardian</th>\n",
       "      <td>8,121.04</td>\n",
       "    </tr>\n",
       "    <tr>\n",
       "      <th>Hierophant</th>\n",
       "      <td>7,912.99</td>\n",
       "    </tr>\n",
       "    <tr>\n",
       "      <th>Inquisitor</th>\n",
       "      <td>7,885.51</td>\n",
       "    </tr>\n",
       "    <tr>\n",
       "      <th>Juggernaut</th>\n",
       "      <td>7,222.00</td>\n",
       "    </tr>\n",
       "    <tr>\n",
       "      <th>Marauder</th>\n",
       "      <td>10,865.32</td>\n",
       "    </tr>\n",
       "    <tr>\n",
       "      <th>Necromancer</th>\n",
       "      <td>7,380.55</td>\n",
       "    </tr>\n",
       "    <tr>\n",
       "      <th>Occultist</th>\n",
       "      <td>7,865.54</td>\n",
       "    </tr>\n",
       "    <tr>\n",
       "      <th>Pathfinder</th>\n",
       "      <td>7,081.02</td>\n",
       "    </tr>\n",
       "    <tr>\n",
       "      <th>Raider</th>\n",
       "      <td>7,793.56</td>\n",
       "    </tr>\n",
       "    <tr>\n",
       "      <th>Ranger</th>\n",
       "      <td>12,067.23</td>\n",
       "    </tr>\n",
       "    <tr>\n",
       "      <th>Saboteur</th>\n",
       "      <td>7,788.00</td>\n",
       "    </tr>\n",
       "    <tr>\n",
       "      <th>Scion</th>\n",
       "      <td>11,871.88</td>\n",
       "    </tr>\n",
       "    <tr>\n",
       "      <th>Shadow</th>\n",
       "      <td>12,309.61</td>\n",
       "    </tr>\n",
       "    <tr>\n",
       "      <th>Slayer</th>\n",
       "      <td>6,695.83</td>\n",
       "    </tr>\n",
       "    <tr>\n",
       "      <th>Templar</th>\n",
       "      <td>12,522.14</td>\n",
       "    </tr>\n",
       "    <tr>\n",
       "      <th>Trickster</th>\n",
       "      <td>7,146.23</td>\n",
       "    </tr>\n",
       "    <tr>\n",
       "      <th>Witch</th>\n",
       "      <td>12,117.55</td>\n",
       "    </tr>\n",
       "  </tbody>\n",
       "</table>\n",
       "</div>"
      ],
      "text/plain": [
       "                  rank\n",
       "class                 \n",
       "Ascendant     7,631.16\n",
       "Assassin      8,940.31\n",
       "Berserker     7,078.63\n",
       "Champion      7,109.38\n",
       "Chieftain     7,225.37\n",
       "Deadeye       9,010.15\n",
       "Duelist      12,318.43\n",
       "Elementalist  8,708.19\n",
       "Gladiator     6,765.49\n",
       "Guardian      8,121.04\n",
       "Hierophant    7,912.99\n",
       "Inquisitor    7,885.51\n",
       "Juggernaut    7,222.00\n",
       "Marauder     10,865.32\n",
       "Necromancer   7,380.55\n",
       "Occultist     7,865.54\n",
       "Pathfinder    7,081.02\n",
       "Raider        7,793.56\n",
       "Ranger       12,067.23\n",
       "Saboteur      7,788.00\n",
       "Scion        11,871.88\n",
       "Shadow       12,309.61\n",
       "Slayer        6,695.83\n",
       "Templar      12,522.14\n",
       "Trickster     7,146.23\n",
       "Witch        12,117.55"
      ]
     },
     "execution_count": 21,
     "metadata": {},
     "output_type": "execute_result"
    }
   ],
   "source": [
    "# SSF 모드의 클래스별 평균 랭크\n",
    "\n",
    "pivot_meanrank_class_ssf = ssf.pivot_table(values = 'rank', columns = 'class', aggfunc = 'mean')\n",
    "pivot_meanrank_class_ssf.transpose()"
   ]
  },
  {
   "cell_type": "code",
   "execution_count": 22,
   "id": "4e5bb781",
   "metadata": {},
   "outputs": [
    {
     "data": {
      "text/plain": [
       "rank   8,824.35\n",
       "dtype: float64"
      ]
     },
     "execution_count": 22,
     "metadata": {},
     "output_type": "execute_result"
    }
   ],
   "source": [
    "pivot_meanrank_class_ssf.transpose().mean()"
   ]
  },
  {
   "cell_type": "code",
   "execution_count": 23,
   "id": "fcb44d9b",
   "metadata": {
    "scrolled": false
   },
   "outputs": [
    {
     "data": {
      "image/png": "[encoded data removed]",
      "text/plain": [
       "<Figure size 1152x432 with 1 Axes>"
      ]
     },
     "metadata": {},
     "output_type": "display_data"
    }
   ],
   "source": [
    "plt.rcParams[\"figure.figsize\"] = (16, 6)\n",
    "plt.ylim(5000, 15000)\n",
    "sns.barplot(data = pivot_meanrank_class_ssf,\n",
    "            edgecolor=sns.color_palette(\"dark\", 1))\n",
    "plt.xticks(rotation=45, fontsize=10)\n",
    "plt.show()"
   ]
  },
  {
   "cell_type": "code",
   "execution_count": 24,
   "id": "640334b0",
   "metadata": {
    "scrolled": true
   },
   "outputs": [
    {
     "data": {
      "text/html": [
       "<div>\n",
       "<style scoped>\n",
       "    .dataframe tbody tr th:only-of-type {\n",
       "        vertical-align: middle;\n",
       "    }\n",
       "\n",
       "    .dataframe tbody tr th {\n",
       "        vertical-align: top;\n",
       "    }\n",
       "\n",
       "    .dataframe thead th {\n",
       "        text-align: right;\n",
       "    }\n",
       "</style>\n",
       "<table border=\"1\" class=\"dataframe\">\n",
       "  <thead>\n",
       "    <tr style=\"text-align: right;\">\n",
       "      <th></th>\n",
       "      <th>rank</th>\n",
       "    </tr>\n",
       "    <tr>\n",
       "      <th>class</th>\n",
       "      <th></th>\n",
       "    </tr>\n",
       "  </thead>\n",
       "  <tbody>\n",
       "    <tr>\n",
       "      <th>Ascendant</th>\n",
       "      <td>7,406.11</td>\n",
       "    </tr>\n",
       "    <tr>\n",
       "      <th>Assassin</th>\n",
       "      <td>8,514.39</td>\n",
       "    </tr>\n",
       "    <tr>\n",
       "      <th>Berserker</th>\n",
       "      <td>7,985.92</td>\n",
       "    </tr>\n",
       "    <tr>\n",
       "      <th>Champion</th>\n",
       "      <td>7,993.75</td>\n",
       "    </tr>\n",
       "    <tr>\n",
       "      <th>Chieftain</th>\n",
       "      <td>7,832.78</td>\n",
       "    </tr>\n",
       "    <tr>\n",
       "      <th>Deadeye</th>\n",
       "      <td>7,635.85</td>\n",
       "    </tr>\n",
       "    <tr>\n",
       "      <th>Elementalist</th>\n",
       "      <td>7,924.82</td>\n",
       "    </tr>\n",
       "    <tr>\n",
       "      <th>Gladiator</th>\n",
       "      <td>7,501.98</td>\n",
       "    </tr>\n",
       "    <tr>\n",
       "      <th>Guardian</th>\n",
       "      <td>5,942.24</td>\n",
       "    </tr>\n",
       "    <tr>\n",
       "      <th>Hierophant</th>\n",
       "      <td>8,267.29</td>\n",
       "    </tr>\n",
       "    <tr>\n",
       "      <th>Inquisitor</th>\n",
       "      <td>7,690.30</td>\n",
       "    </tr>\n",
       "    <tr>\n",
       "      <th>Juggernaut</th>\n",
       "      <td>7,464.69</td>\n",
       "    </tr>\n",
       "    <tr>\n",
       "      <th>Marauder</th>\n",
       "      <td>11,148.00</td>\n",
       "    </tr>\n",
       "    <tr>\n",
       "      <th>Necromancer</th>\n",
       "      <td>6,871.07</td>\n",
       "    </tr>\n",
       "    <tr>\n",
       "      <th>Occultist</th>\n",
       "      <td>7,139.72</td>\n",
       "    </tr>\n",
       "    <tr>\n",
       "      <th>Pathfinder</th>\n",
       "      <td>6,798.53</td>\n",
       "    </tr>\n",
       "    <tr>\n",
       "      <th>Raider</th>\n",
       "      <td>7,520.17</td>\n",
       "    </tr>\n",
       "    <tr>\n",
       "      <th>Ranger</th>\n",
       "      <td>3,097.75</td>\n",
       "    </tr>\n",
       "    <tr>\n",
       "      <th>Saboteur</th>\n",
       "      <td>7,540.44</td>\n",
       "    </tr>\n",
       "    <tr>\n",
       "      <th>Scion</th>\n",
       "      <td>14,489.00</td>\n",
       "    </tr>\n",
       "    <tr>\n",
       "      <th>Slayer</th>\n",
       "      <td>7,857.89</td>\n",
       "    </tr>\n",
       "    <tr>\n",
       "      <th>Trickster</th>\n",
       "      <td>7,772.32</td>\n",
       "    </tr>\n",
       "  </tbody>\n",
       "</table>\n",
       "</div>"
      ],
      "text/plain": [
       "                  rank\n",
       "class                 \n",
       "Ascendant     7,406.11\n",
       "Assassin      8,514.39\n",
       "Berserker     7,985.92\n",
       "Champion      7,993.75\n",
       "Chieftain     7,832.78\n",
       "Deadeye       7,635.85\n",
       "Elementalist  7,924.82\n",
       "Gladiator     7,501.98\n",
       "Guardian      5,942.24\n",
       "Hierophant    8,267.29\n",
       "Inquisitor    7,690.30\n",
       "Juggernaut    7,464.69\n",
       "Marauder     11,148.00\n",
       "Necromancer   6,871.07\n",
       "Occultist     7,139.72\n",
       "Pathfinder    6,798.53\n",
       "Raider        7,520.17\n",
       "Ranger        3,097.75\n",
       "Saboteur      7,540.44\n",
       "Scion        14,489.00\n",
       "Slayer        7,857.89\n",
       "Trickster     7,772.32"
      ]
     },
     "execution_count": 24,
     "metadata": {},
     "output_type": "execute_result"
    }
   ],
   "source": [
    "# SSF가 아닌 모드의 클래스별 평균 랭크\n",
    "\n",
    "pivot_meanrank_class_non_ssf = non_ssf.pivot_table(values = 'rank', columns = 'class', aggfunc = 'mean')\n",
    "pivot_meanrank_class_non_ssf.transpose()"
   ]
  },
  {
   "cell_type": "code",
   "execution_count": 25,
   "id": "d1c1f7eb",
   "metadata": {},
   "outputs": [
    {
     "data": {
      "text/plain": [
       "rank   7,836.14\n",
       "dtype: float64"
      ]
     },
     "execution_count": 25,
     "metadata": {},
     "output_type": "execute_result"
    }
   ],
   "source": [
    "pivot_meanrank_class_non_ssf.transpose().mean()"
   ]
  },
  {
   "cell_type": "code",
   "execution_count": 26,
   "id": "939bbaa9",
   "metadata": {
    "scrolled": false
   },
   "outputs": [
    {
     "data": {
      "image/png": "[encoded data removed]",
      "text/plain": [
       "<Figure size 1152x432 with 1 Axes>"
      ]
     },
     "metadata": {},
     "output_type": "display_data"
    }
   ],
   "source": [
    "plt.rcParams[\"figure.figsize\"] = (16, 6)\n",
    "plt.ylim(5000, 15000)\n",
    "sns.barplot(data = pivot_meanrank_class_non_ssf,\n",
    "            edgecolor=sns.color_palette(\"dark\", 1))\n",
    "plt.xticks(rotation=45, fontsize=10)\n",
    "plt.show()"
   ]
  },
  {
   "cell_type": "markdown",
   "id": "b5865bda",
   "metadata": {},
   "source": [
    "#### Commentary\n",
    "\n",
    "낮은 랭크일 수록 성적이 좋은 것임을 생각해보면 SSF 모드에서는 전체적으로 큰 차이를 보이지 않는데,\n",
    "```\n",
    "Slayer\t6,695.83\n",
    "Gladiator\t6,765.49\n",
    "Berserker\t7,078.63\n",
    "Pathfinder\t7,081.02\n",
    "Champion\t7,109.38\n",
    "```\n",
    "반면 non_SSF 모드에서는 차이가 난다.\n",
    "\n",
    "```\n",
    "Ranger\t3,097.75\n",
    "Guardian\t5,942.24\n",
    "Pathfinder\t6,798.53\n",
    "Necromancer\t6,871.07\n",
    "Occultist\t7,139.72\n",
    "```\n",
    "\n",
    "레인저가 특히 더 좋은 것으로 나타나고 있다.\n",
    "\n",
    "그러나 이 평균은 간단하게 평균을 낸 것이기 때문에 정밀한 분석을 위해서는 가중 평균을 구하는 것이 좋을 것이라는 생각이 든다."
   ]
  },
  {
   "cell_type": "markdown",
   "id": "27943882",
   "metadata": {},
   "source": [
    "### Min rank\n",
    "\n",
    "_스케일이 많이 다르기 때문에 그래프로는 비교하기 쉽지 않음을 이해해야 한다. 그대로 표로 보기로 한다._"
   ]
  },
  {
   "cell_type": "code",
   "execution_count": 27,
   "id": "b20f0a14",
   "metadata": {
    "scrolled": true
   },
   "outputs": [
    {
     "data": {
      "text/html": [
       "<div>\n",
       "<style scoped>\n",
       "    .dataframe tbody tr th:only-of-type {\n",
       "        vertical-align: middle;\n",
       "    }\n",
       "\n",
       "    .dataframe tbody tr th {\n",
       "        vertical-align: top;\n",
       "    }\n",
       "\n",
       "    .dataframe thead th {\n",
       "        text-align: right;\n",
       "    }\n",
       "</style>\n",
       "<table border=\"1\" class=\"dataframe\">\n",
       "  <thead>\n",
       "    <tr style=\"text-align: right;\">\n",
       "      <th></th>\n",
       "      <th>rank</th>\n",
       "    </tr>\n",
       "    <tr>\n",
       "      <th>class</th>\n",
       "      <th></th>\n",
       "    </tr>\n",
       "  </thead>\n",
       "  <tbody>\n",
       "    <tr>\n",
       "      <th>Ascendant</th>\n",
       "      <td>14</td>\n",
       "    </tr>\n",
       "    <tr>\n",
       "      <th>Assassin</th>\n",
       "      <td>82</td>\n",
       "    </tr>\n",
       "    <tr>\n",
       "      <th>Berserker</th>\n",
       "      <td>16</td>\n",
       "    </tr>\n",
       "    <tr>\n",
       "      <th>Champion</th>\n",
       "      <td>16</td>\n",
       "    </tr>\n",
       "    <tr>\n",
       "      <th>Chieftain</th>\n",
       "      <td>9</td>\n",
       "    </tr>\n",
       "    <tr>\n",
       "      <th>Deadeye</th>\n",
       "      <td>210</td>\n",
       "    </tr>\n",
       "    <tr>\n",
       "      <th>Duelist</th>\n",
       "      <td>6042</td>\n",
       "    </tr>\n",
       "    <tr>\n",
       "      <th>Elementalist</th>\n",
       "      <td>9</td>\n",
       "    </tr>\n",
       "    <tr>\n",
       "      <th>Gladiator</th>\n",
       "      <td>2</td>\n",
       "    </tr>\n",
       "    <tr>\n",
       "      <th>Guardian</th>\n",
       "      <td>40</td>\n",
       "    </tr>\n",
       "    <tr>\n",
       "      <th>Hierophant</th>\n",
       "      <td>10</td>\n",
       "    </tr>\n",
       "    <tr>\n",
       "      <th>Inquisitor</th>\n",
       "      <td>2</td>\n",
       "    </tr>\n",
       "    <tr>\n",
       "      <th>Juggernaut</th>\n",
       "      <td>17</td>\n",
       "    </tr>\n",
       "    <tr>\n",
       "      <th>Marauder</th>\n",
       "      <td>1309</td>\n",
       "    </tr>\n",
       "    <tr>\n",
       "      <th>Necromancer</th>\n",
       "      <td>1</td>\n",
       "    </tr>\n",
       "    <tr>\n",
       "      <th>Occultist</th>\n",
       "      <td>45</td>\n",
       "    </tr>\n",
       "    <tr>\n",
       "      <th>Pathfinder</th>\n",
       "      <td>11</td>\n",
       "    </tr>\n",
       "    <tr>\n",
       "      <th>Raider</th>\n",
       "      <td>3</td>\n",
       "    </tr>\n",
       "    <tr>\n",
       "      <th>Ranger</th>\n",
       "      <td>3802</td>\n",
       "    </tr>\n",
       "    <tr>\n",
       "      <th>Saboteur</th>\n",
       "      <td>36</td>\n",
       "    </tr>\n",
       "    <tr>\n",
       "      <th>Scion</th>\n",
       "      <td>5302</td>\n",
       "    </tr>\n",
       "    <tr>\n",
       "      <th>Shadow</th>\n",
       "      <td>6590</td>\n",
       "    </tr>\n",
       "    <tr>\n",
       "      <th>Slayer</th>\n",
       "      <td>1</td>\n",
       "    </tr>\n",
       "    <tr>\n",
       "      <th>Templar</th>\n",
       "      <td>7515</td>\n",
       "    </tr>\n",
       "    <tr>\n",
       "      <th>Trickster</th>\n",
       "      <td>13</td>\n",
       "    </tr>\n",
       "    <tr>\n",
       "      <th>Witch</th>\n",
       "      <td>1122</td>\n",
       "    </tr>\n",
       "  </tbody>\n",
       "</table>\n",
       "</div>"
      ],
      "text/plain": [
       "              rank\n",
       "class             \n",
       "Ascendant       14\n",
       "Assassin        82\n",
       "Berserker       16\n",
       "Champion        16\n",
       "Chieftain        9\n",
       "Deadeye        210\n",
       "Duelist       6042\n",
       "Elementalist     9\n",
       "Gladiator        2\n",
       "Guardian        40\n",
       "Hierophant      10\n",
       "Inquisitor       2\n",
       "Juggernaut      17\n",
       "Marauder      1309\n",
       "Necromancer      1\n",
       "Occultist       45\n",
       "Pathfinder      11\n",
       "Raider           3\n",
       "Ranger        3802\n",
       "Saboteur        36\n",
       "Scion         5302\n",
       "Shadow        6590\n",
       "Slayer           1\n",
       "Templar       7515\n",
       "Trickster       13\n",
       "Witch         1122"
      ]
     },
     "execution_count": 27,
     "metadata": {},
     "output_type": "execute_result"
    }
   ],
   "source": [
    "# SSF 모드의 클래스별 최소 랭크 (가장 높은 랭크)\n",
    "\n",
    "pivot_minrank_class_ssf = ssf.pivot_table(values = 'rank', columns = 'class', aggfunc = 'min')\n",
    "pivot_minrank_class_ssf.transpose()"
   ]
  },
  {
   "cell_type": "code",
   "execution_count": 28,
   "id": "440eeda6",
   "metadata": {},
   "outputs": [
    {
     "data": {
      "text/plain": [
       "rank   1,239.19\n",
       "dtype: float64"
      ]
     },
     "execution_count": 28,
     "metadata": {},
     "output_type": "execute_result"
    }
   ],
   "source": [
    "pivot_minrank_class_ssf.transpose().mean()"
   ]
  },
  {
   "cell_type": "code",
   "execution_count": 29,
   "id": "ad41ce3d",
   "metadata": {
    "scrolled": true
   },
   "outputs": [
    {
     "data": {
      "text/html": [
       "<div>\n",
       "<style scoped>\n",
       "    .dataframe tbody tr th:only-of-type {\n",
       "        vertical-align: middle;\n",
       "    }\n",
       "\n",
       "    .dataframe tbody tr th {\n",
       "        vertical-align: top;\n",
       "    }\n",
       "\n",
       "    .dataframe thead th {\n",
       "        text-align: right;\n",
       "    }\n",
       "</style>\n",
       "<table border=\"1\" class=\"dataframe\">\n",
       "  <thead>\n",
       "    <tr style=\"text-align: right;\">\n",
       "      <th></th>\n",
       "      <th>rank</th>\n",
       "    </tr>\n",
       "    <tr>\n",
       "      <th>class</th>\n",
       "      <th></th>\n",
       "    </tr>\n",
       "  </thead>\n",
       "  <tbody>\n",
       "    <tr>\n",
       "      <th>Ascendant</th>\n",
       "      <td>12</td>\n",
       "    </tr>\n",
       "    <tr>\n",
       "      <th>Assassin</th>\n",
       "      <td>119</td>\n",
       "    </tr>\n",
       "    <tr>\n",
       "      <th>Berserker</th>\n",
       "      <td>28</td>\n",
       "    </tr>\n",
       "    <tr>\n",
       "      <th>Champion</th>\n",
       "      <td>3</td>\n",
       "    </tr>\n",
       "    <tr>\n",
       "      <th>Chieftain</th>\n",
       "      <td>15</td>\n",
       "    </tr>\n",
       "    <tr>\n",
       "      <th>Deadeye</th>\n",
       "      <td>2</td>\n",
       "    </tr>\n",
       "    <tr>\n",
       "      <th>Elementalist</th>\n",
       "      <td>21</td>\n",
       "    </tr>\n",
       "    <tr>\n",
       "      <th>Gladiator</th>\n",
       "      <td>17</td>\n",
       "    </tr>\n",
       "    <tr>\n",
       "      <th>Guardian</th>\n",
       "      <td>15</td>\n",
       "    </tr>\n",
       "    <tr>\n",
       "      <th>Hierophant</th>\n",
       "      <td>53</td>\n",
       "    </tr>\n",
       "    <tr>\n",
       "      <th>Inquisitor</th>\n",
       "      <td>4</td>\n",
       "    </tr>\n",
       "    <tr>\n",
       "      <th>Juggernaut</th>\n",
       "      <td>33</td>\n",
       "    </tr>\n",
       "    <tr>\n",
       "      <th>Marauder</th>\n",
       "      <td>11148</td>\n",
       "    </tr>\n",
       "    <tr>\n",
       "      <th>Necromancer</th>\n",
       "      <td>1</td>\n",
       "    </tr>\n",
       "    <tr>\n",
       "      <th>Occultist</th>\n",
       "      <td>5</td>\n",
       "    </tr>\n",
       "    <tr>\n",
       "      <th>Pathfinder</th>\n",
       "      <td>7</td>\n",
       "    </tr>\n",
       "    <tr>\n",
       "      <th>Raider</th>\n",
       "      <td>4</td>\n",
       "    </tr>\n",
       "    <tr>\n",
       "      <th>Ranger</th>\n",
       "      <td>2302</td>\n",
       "    </tr>\n",
       "    <tr>\n",
       "      <th>Saboteur</th>\n",
       "      <td>26</td>\n",
       "    </tr>\n",
       "    <tr>\n",
       "      <th>Scion</th>\n",
       "      <td>14489</td>\n",
       "    </tr>\n",
       "    <tr>\n",
       "      <th>Slayer</th>\n",
       "      <td>5</td>\n",
       "    </tr>\n",
       "    <tr>\n",
       "      <th>Trickster</th>\n",
       "      <td>35</td>\n",
       "    </tr>\n",
       "  </tbody>\n",
       "</table>\n",
       "</div>"
      ],
      "text/plain": [
       "               rank\n",
       "class              \n",
       "Ascendant        12\n",
       "Assassin        119\n",
       "Berserker        28\n",
       "Champion          3\n",
       "Chieftain        15\n",
       "Deadeye           2\n",
       "Elementalist     21\n",
       "Gladiator        17\n",
       "Guardian         15\n",
       "Hierophant       53\n",
       "Inquisitor        4\n",
       "Juggernaut       33\n",
       "Marauder      11148\n",
       "Necromancer       1\n",
       "Occultist         5\n",
       "Pathfinder        7\n",
       "Raider            4\n",
       "Ranger         2302\n",
       "Saboteur         26\n",
       "Scion         14489\n",
       "Slayer            5\n",
       "Trickster        35"
      ]
     },
     "execution_count": 29,
     "metadata": {},
     "output_type": "execute_result"
    }
   ],
   "source": [
    "# SSF가 아닌 모드의 클래스별 최소 랭크 (가장 높은 랭크)\n",
    "\n",
    "pivot_minrank_class_non_ssf = non_ssf.pivot_table(values = 'rank', columns = 'class', aggfunc = 'min')\n",
    "pivot_minrank_class_non_ssf.transpose()"
   ]
  },
  {
   "cell_type": "code",
   "execution_count": 30,
   "id": "147ca01d",
   "metadata": {},
   "outputs": [
    {
     "data": {
      "text/plain": [
       "rank   1,288.36\n",
       "dtype: float64"
      ]
     },
     "execution_count": 30,
     "metadata": {},
     "output_type": "execute_result"
    }
   ],
   "source": [
    "pivot_minrank_class_non_ssf.transpose().mean()"
   ]
  },
  {
   "cell_type": "markdown",
   "id": "7adf1708",
   "metadata": {},
   "source": [
    "#### Commentary\n",
    "\n",
    "최소랭크 즉 그 중에서도 상위 랭크를 기록한 클래스들을 비교하도록 해본다.\n",
    "\n",
    "10 위 안을 기록한 클래스들을 본다면 이러하다.\n",
    "\n",
    "SSF모드에서는 \n",
    "```\n",
    "Necromancer\t1\n",
    "Slayer\t1\n",
    "Gladiator\t2\n",
    "Inquisitor\t2\n",
    "Raider\t3\n",
    "Chieftain\t9\n",
    "Elementalist\t9\n",
    "Hierophant\t10\n",
    "```\n",
    "\n",
    "non_SSF 모드에서는\n",
    "```\n",
    "Necromancer\t1\n",
    "Deadeye\t2\n",
    "Champion\t3\n",
    "Inquisitor\t4\n",
    "Raider\t4\n",
    "Occultist\t5\n",
    "Slayer\t5\n",
    "Pathfinder\t7\n",
    "```\n",
    "\n",
    "SSF 모드에서는 힘이, non_SSF 모드에서는 민첩이 조금 더 눈에 띈다."
   ]
  },
  {
   "cell_type": "markdown",
   "id": "ae3d1558",
   "metadata": {},
   "source": [
    "## class- level\n",
    "\n",
    "### Mean level"
   ]
  },
  {
   "cell_type": "code",
   "execution_count": 31,
   "id": "da24546f",
   "metadata": {
    "scrolled": true
   },
   "outputs": [
    {
     "data": {
      "text/html": [
       "<div>\n",
       "<style scoped>\n",
       "    .dataframe tbody tr th:only-of-type {\n",
       "        vertical-align: middle;\n",
       "    }\n",
       "\n",
       "    .dataframe tbody tr th {\n",
       "        vertical-align: top;\n",
       "    }\n",
       "\n",
       "    .dataframe thead th {\n",
       "        text-align: right;\n",
       "    }\n",
       "</style>\n",
       "<table border=\"1\" class=\"dataframe\">\n",
       "  <thead>\n",
       "    <tr style=\"text-align: right;\">\n",
       "      <th></th>\n",
       "      <th>level</th>\n",
       "    </tr>\n",
       "    <tr>\n",
       "      <th>class</th>\n",
       "      <th></th>\n",
       "    </tr>\n",
       "  </thead>\n",
       "  <tbody>\n",
       "    <tr>\n",
       "      <th>Ascendant</th>\n",
       "      <td>77.33</td>\n",
       "    </tr>\n",
       "    <tr>\n",
       "      <th>Assassin</th>\n",
       "      <td>75.10</td>\n",
       "    </tr>\n",
       "    <tr>\n",
       "      <th>Berserker</th>\n",
       "      <td>78.82</td>\n",
       "    </tr>\n",
       "    <tr>\n",
       "      <th>Champion</th>\n",
       "      <td>77.72</td>\n",
       "    </tr>\n",
       "    <tr>\n",
       "      <th>Chieftain</th>\n",
       "      <td>76.77</td>\n",
       "    </tr>\n",
       "    <tr>\n",
       "      <th>Deadeye</th>\n",
       "      <td>75.34</td>\n",
       "    </tr>\n",
       "    <tr>\n",
       "      <th>Duelist</th>\n",
       "      <td>61.88</td>\n",
       "    </tr>\n",
       "    <tr>\n",
       "      <th>Elementalist</th>\n",
       "      <td>75.39</td>\n",
       "    </tr>\n",
       "    <tr>\n",
       "      <th>Gladiator</th>\n",
       "      <td>78.17</td>\n",
       "    </tr>\n",
       "    <tr>\n",
       "      <th>Guardian</th>\n",
       "      <td>74.93</td>\n",
       "    </tr>\n",
       "    <tr>\n",
       "      <th>Hierophant</th>\n",
       "      <td>75.86</td>\n",
       "    </tr>\n",
       "    <tr>\n",
       "      <th>Inquisitor</th>\n",
       "      <td>76.28</td>\n",
       "    </tr>\n",
       "    <tr>\n",
       "      <th>Juggernaut</th>\n",
       "      <td>76.50</td>\n",
       "    </tr>\n",
       "    <tr>\n",
       "      <th>Marauder</th>\n",
       "      <td>64.51</td>\n",
       "    </tr>\n",
       "    <tr>\n",
       "      <th>Necromancer</th>\n",
       "      <td>77.17</td>\n",
       "    </tr>\n",
       "    <tr>\n",
       "      <th>Occultist</th>\n",
       "      <td>76.09</td>\n",
       "    </tr>\n",
       "    <tr>\n",
       "      <th>Pathfinder</th>\n",
       "      <td>78.79</td>\n",
       "    </tr>\n",
       "    <tr>\n",
       "      <th>Raider</th>\n",
       "      <td>78.12</td>\n",
       "    </tr>\n",
       "    <tr>\n",
       "      <th>Ranger</th>\n",
       "      <td>64.61</td>\n",
       "    </tr>\n",
       "    <tr>\n",
       "      <th>Saboteur</th>\n",
       "      <td>76.77</td>\n",
       "    </tr>\n",
       "    <tr>\n",
       "      <th>Scion</th>\n",
       "      <td>63.06</td>\n",
       "    </tr>\n",
       "    <tr>\n",
       "      <th>Shadow</th>\n",
       "      <td>62.87</td>\n",
       "    </tr>\n",
       "    <tr>\n",
       "      <th>Slayer</th>\n",
       "      <td>79.07</td>\n",
       "    </tr>\n",
       "    <tr>\n",
       "      <th>Templar</th>\n",
       "      <td>60.37</td>\n",
       "    </tr>\n",
       "    <tr>\n",
       "      <th>Trickster</th>\n",
       "      <td>77.72</td>\n",
       "    </tr>\n",
       "    <tr>\n",
       "      <th>Witch</th>\n",
       "      <td>62.78</td>\n",
       "    </tr>\n",
       "  </tbody>\n",
       "</table>\n",
       "</div>"
      ],
      "text/plain": [
       "              level\n",
       "class              \n",
       "Ascendant     77.33\n",
       "Assassin      75.10\n",
       "Berserker     78.82\n",
       "Champion      77.72\n",
       "Chieftain     76.77\n",
       "Deadeye       75.34\n",
       "Duelist       61.88\n",
       "Elementalist  75.39\n",
       "Gladiator     78.17\n",
       "Guardian      74.93\n",
       "Hierophant    75.86\n",
       "Inquisitor    76.28\n",
       "Juggernaut    76.50\n",
       "Marauder      64.51\n",
       "Necromancer   77.17\n",
       "Occultist     76.09\n",
       "Pathfinder    78.79\n",
       "Raider        78.12\n",
       "Ranger        64.61\n",
       "Saboteur      76.77\n",
       "Scion         63.06\n",
       "Shadow        62.87\n",
       "Slayer        79.07\n",
       "Templar       60.37\n",
       "Trickster     77.72\n",
       "Witch         62.78"
      ]
     },
     "execution_count": 31,
     "metadata": {},
     "output_type": "execute_result"
    }
   ],
   "source": [
    "# SSF 모드의 클래스별 평균 레벨\n",
    "\n",
    "pivot_meanlevel_class_ssf = ssf.pivot_table(values = 'level', columns = 'class', aggfunc = 'mean')\n",
    "pivot_meanlevel_class_ssf.transpose()"
   ]
  },
  {
   "cell_type": "code",
   "execution_count": 32,
   "id": "19b3f46b",
   "metadata": {},
   "outputs": [
    {
     "data": {
      "text/plain": [
       "level   73.15\n",
       "dtype: float64"
      ]
     },
     "execution_count": 32,
     "metadata": {},
     "output_type": "execute_result"
    }
   ],
   "source": [
    "pivot_meanlevel_class_ssf.transpose().mean()"
   ]
  },
  {
   "cell_type": "code",
   "execution_count": 33,
   "id": "ba14da77",
   "metadata": {
    "scrolled": true
   },
   "outputs": [
    {
     "data": {
      "image/png": "[encoded data removed]",
      "text/plain": [
       "<Figure size 1152x432 with 1 Axes>"
      ]
     },
     "metadata": {},
     "output_type": "display_data"
    }
   ],
   "source": [
    "plt.rcParams[\"figure.figsize\"] = (16, 6)\n",
    "plt.ylim(50, 100)\n",
    "sns.barplot(data = pivot_meanlevel_class_ssf,\n",
    "            edgecolor=sns.color_palette(\"dark\", 1))\n",
    "plt.xticks(rotation=45, fontsize=10)\n",
    "plt.show()"
   ]
  },
  {
   "cell_type": "code",
   "execution_count": 34,
   "id": "6b7ee85a",
   "metadata": {
    "scrolled": true
   },
   "outputs": [
    {
     "data": {
      "text/html": [
       "<div>\n",
       "<style scoped>\n",
       "    .dataframe tbody tr th:only-of-type {\n",
       "        vertical-align: middle;\n",
       "    }\n",
       "\n",
       "    .dataframe tbody tr th {\n",
       "        vertical-align: top;\n",
       "    }\n",
       "\n",
       "    .dataframe thead th {\n",
       "        text-align: right;\n",
       "    }\n",
       "</style>\n",
       "<table border=\"1\" class=\"dataframe\">\n",
       "  <thead>\n",
       "    <tr style=\"text-align: right;\">\n",
       "      <th></th>\n",
       "      <th>level</th>\n",
       "    </tr>\n",
       "    <tr>\n",
       "      <th>class</th>\n",
       "      <th></th>\n",
       "    </tr>\n",
       "  </thead>\n",
       "  <tbody>\n",
       "    <tr>\n",
       "      <th>Ascendant</th>\n",
       "      <td>93.22</td>\n",
       "    </tr>\n",
       "    <tr>\n",
       "      <th>Assassin</th>\n",
       "      <td>93.77</td>\n",
       "    </tr>\n",
       "    <tr>\n",
       "      <th>Berserker</th>\n",
       "      <td>93.73</td>\n",
       "    </tr>\n",
       "    <tr>\n",
       "      <th>Champion</th>\n",
       "      <td>92.13</td>\n",
       "    </tr>\n",
       "    <tr>\n",
       "      <th>Chieftain</th>\n",
       "      <td>92.51</td>\n",
       "    </tr>\n",
       "    <tr>\n",
       "      <th>Deadeye</th>\n",
       "      <td>92.90</td>\n",
       "    </tr>\n",
       "    <tr>\n",
       "      <th>Elementalist</th>\n",
       "      <td>93.76</td>\n",
       "    </tr>\n",
       "    <tr>\n",
       "      <th>Gladiator</th>\n",
       "      <td>92.84</td>\n",
       "    </tr>\n",
       "    <tr>\n",
       "      <th>Guardian</th>\n",
       "      <td>93.87</td>\n",
       "    </tr>\n",
       "    <tr>\n",
       "      <th>Hierophant</th>\n",
       "      <td>91.92</td>\n",
       "    </tr>\n",
       "    <tr>\n",
       "      <th>Inquisitor</th>\n",
       "      <td>93.13</td>\n",
       "    </tr>\n",
       "    <tr>\n",
       "      <th>Juggernaut</th>\n",
       "      <td>92.43</td>\n",
       "    </tr>\n",
       "    <tr>\n",
       "      <th>Marauder</th>\n",
       "      <td>90.00</td>\n",
       "    </tr>\n",
       "    <tr>\n",
       "      <th>Necromancer</th>\n",
       "      <td>93.32</td>\n",
       "    </tr>\n",
       "    <tr>\n",
       "      <th>Occultist</th>\n",
       "      <td>93.07</td>\n",
       "    </tr>\n",
       "    <tr>\n",
       "      <th>Pathfinder</th>\n",
       "      <td>95.63</td>\n",
       "    </tr>\n",
       "    <tr>\n",
       "      <th>Raider</th>\n",
       "      <td>94.40</td>\n",
       "    </tr>\n",
       "    <tr>\n",
       "      <th>Ranger</th>\n",
       "      <td>93.00</td>\n",
       "    </tr>\n",
       "    <tr>\n",
       "      <th>Saboteur</th>\n",
       "      <td>93.10</td>\n",
       "    </tr>\n",
       "    <tr>\n",
       "      <th>Scion</th>\n",
       "      <td>89.00</td>\n",
       "    </tr>\n",
       "    <tr>\n",
       "      <th>Slayer</th>\n",
       "      <td>93.70</td>\n",
       "    </tr>\n",
       "    <tr>\n",
       "      <th>Trickster</th>\n",
       "      <td>92.13</td>\n",
       "    </tr>\n",
       "  </tbody>\n",
       "</table>\n",
       "</div>"
      ],
      "text/plain": [
       "              level\n",
       "class              \n",
       "Ascendant     93.22\n",
       "Assassin      93.77\n",
       "Berserker     93.73\n",
       "Champion      92.13\n",
       "Chieftain     92.51\n",
       "Deadeye       92.90\n",
       "Elementalist  93.76\n",
       "Gladiator     92.84\n",
       "Guardian      93.87\n",
       "Hierophant    91.92\n",
       "Inquisitor    93.13\n",
       "Juggernaut    92.43\n",
       "Marauder      90.00\n",
       "Necromancer   93.32\n",
       "Occultist     93.07\n",
       "Pathfinder    95.63\n",
       "Raider        94.40\n",
       "Ranger        93.00\n",
       "Saboteur      93.10\n",
       "Scion         89.00\n",
       "Slayer        93.70\n",
       "Trickster     92.13"
      ]
     },
     "execution_count": 34,
     "metadata": {},
     "output_type": "execute_result"
    }
   ],
   "source": [
    "# SSF가 아닌 모드의 클래스별 평균 레벨\n",
    "\n",
    "pivot_meanlevel_class_non_ssf = non_ssf.pivot_table(values = 'level', columns = 'class', aggfunc = 'mean')\n",
    "pivot_meanlevel_class_non_ssf.transpose()"
   ]
  },
  {
   "cell_type": "code",
   "execution_count": 35,
   "id": "1ac4b493",
   "metadata": {},
   "outputs": [
    {
     "data": {
      "text/plain": [
       "level   92.89\n",
       "dtype: float64"
      ]
     },
     "execution_count": 35,
     "metadata": {},
     "output_type": "execute_result"
    }
   ],
   "source": [
    "pivot_meanlevel_class_non_ssf.transpose().mean()"
   ]
  },
  {
   "cell_type": "code",
   "execution_count": 36,
   "id": "07f01717",
   "metadata": {
    "scrolled": true
   },
   "outputs": [
    {
     "data": {
      "image/png": "[encoded data removed]",
      "text/plain": [
       "<Figure size 1152x432 with 1 Axes>"
      ]
     },
     "metadata": {},
     "output_type": "display_data"
    }
   ],
   "source": [
    "plt.rcParams[\"figure.figsize\"] = (16, 6)\n",
    "plt.ylim(50, 100)\n",
    "sns.barplot(data = pivot_meanlevel_class_non_ssf,\n",
    "            edgecolor=sns.color_palette(\"dark\", 1))\n",
    "plt.xticks(rotation=45, fontsize=10)\n",
    "plt.show()"
   ]
  },
  {
   "cell_type": "markdown",
   "id": "2b873ef8",
   "metadata": {},
   "source": [
    "####  Commentary\n",
    "\n",
    "73.15 < 92.89로, \n",
    " 전체적으로 SSF 모드에서의 평균 레벨이 더 낮은 것으로 나타났다. "
   ]
  },
  {
   "cell_type": "markdown",
   "id": "dc4941bd",
   "metadata": {},
   "source": [
    "### Min level"
   ]
  },
  {
   "cell_type": "code",
   "execution_count": 37,
   "id": "bf2379bf",
   "metadata": {
    "scrolled": true
   },
   "outputs": [
    {
     "data": {
      "text/html": [
       "<div>\n",
       "<style scoped>\n",
       "    .dataframe tbody tr th:only-of-type {\n",
       "        vertical-align: middle;\n",
       "    }\n",
       "\n",
       "    .dataframe tbody tr th {\n",
       "        vertical-align: top;\n",
       "    }\n",
       "\n",
       "    .dataframe thead th {\n",
       "        text-align: right;\n",
       "    }\n",
       "</style>\n",
       "<table border=\"1\" class=\"dataframe\">\n",
       "  <thead>\n",
       "    <tr style=\"text-align: right;\">\n",
       "      <th></th>\n",
       "      <th>level</th>\n",
       "    </tr>\n",
       "    <tr>\n",
       "      <th>class</th>\n",
       "      <th></th>\n",
       "    </tr>\n",
       "  </thead>\n",
       "  <tbody>\n",
       "    <tr>\n",
       "      <th>Ascendant</th>\n",
       "      <td>53</td>\n",
       "    </tr>\n",
       "    <tr>\n",
       "      <th>Assassin</th>\n",
       "      <td>53</td>\n",
       "    </tr>\n",
       "    <tr>\n",
       "      <th>Berserker</th>\n",
       "      <td>53</td>\n",
       "    </tr>\n",
       "    <tr>\n",
       "      <th>Champion</th>\n",
       "      <td>53</td>\n",
       "    </tr>\n",
       "    <tr>\n",
       "      <th>Chieftain</th>\n",
       "      <td>53</td>\n",
       "    </tr>\n",
       "    <tr>\n",
       "      <th>Deadeye</th>\n",
       "      <td>53</td>\n",
       "    </tr>\n",
       "    <tr>\n",
       "      <th>Duelist</th>\n",
       "      <td>53</td>\n",
       "    </tr>\n",
       "    <tr>\n",
       "      <th>Elementalist</th>\n",
       "      <td>53</td>\n",
       "    </tr>\n",
       "    <tr>\n",
       "      <th>Gladiator</th>\n",
       "      <td>53</td>\n",
       "    </tr>\n",
       "    <tr>\n",
       "      <th>Guardian</th>\n",
       "      <td>53</td>\n",
       "    </tr>\n",
       "    <tr>\n",
       "      <th>Hierophant</th>\n",
       "      <td>53</td>\n",
       "    </tr>\n",
       "    <tr>\n",
       "      <th>Inquisitor</th>\n",
       "      <td>53</td>\n",
       "    </tr>\n",
       "    <tr>\n",
       "      <th>Juggernaut</th>\n",
       "      <td>53</td>\n",
       "    </tr>\n",
       "    <tr>\n",
       "      <th>Marauder</th>\n",
       "      <td>53</td>\n",
       "    </tr>\n",
       "    <tr>\n",
       "      <th>Necromancer</th>\n",
       "      <td>53</td>\n",
       "    </tr>\n",
       "    <tr>\n",
       "      <th>Occultist</th>\n",
       "      <td>53</td>\n",
       "    </tr>\n",
       "    <tr>\n",
       "      <th>Pathfinder</th>\n",
       "      <td>53</td>\n",
       "    </tr>\n",
       "    <tr>\n",
       "      <th>Raider</th>\n",
       "      <td>53</td>\n",
       "    </tr>\n",
       "    <tr>\n",
       "      <th>Ranger</th>\n",
       "      <td>53</td>\n",
       "    </tr>\n",
       "    <tr>\n",
       "      <th>Saboteur</th>\n",
       "      <td>53</td>\n",
       "    </tr>\n",
       "    <tr>\n",
       "      <th>Scion</th>\n",
       "      <td>53</td>\n",
       "    </tr>\n",
       "    <tr>\n",
       "      <th>Shadow</th>\n",
       "      <td>53</td>\n",
       "    </tr>\n",
       "    <tr>\n",
       "      <th>Slayer</th>\n",
       "      <td>53</td>\n",
       "    </tr>\n",
       "    <tr>\n",
       "      <th>Templar</th>\n",
       "      <td>53</td>\n",
       "    </tr>\n",
       "    <tr>\n",
       "      <th>Trickster</th>\n",
       "      <td>53</td>\n",
       "    </tr>\n",
       "    <tr>\n",
       "      <th>Witch</th>\n",
       "      <td>53</td>\n",
       "    </tr>\n",
       "  </tbody>\n",
       "</table>\n",
       "</div>"
      ],
      "text/plain": [
       "              level\n",
       "class              \n",
       "Ascendant        53\n",
       "Assassin         53\n",
       "Berserker        53\n",
       "Champion         53\n",
       "Chieftain        53\n",
       "Deadeye          53\n",
       "Duelist          53\n",
       "Elementalist     53\n",
       "Gladiator        53\n",
       "Guardian         53\n",
       "Hierophant       53\n",
       "Inquisitor       53\n",
       "Juggernaut       53\n",
       "Marauder         53\n",
       "Necromancer      53\n",
       "Occultist        53\n",
       "Pathfinder       53\n",
       "Raider           53\n",
       "Ranger           53\n",
       "Saboteur         53\n",
       "Scion            53\n",
       "Shadow           53\n",
       "Slayer           53\n",
       "Templar          53\n",
       "Trickster        53\n",
       "Witch            53"
      ]
     },
     "execution_count": 37,
     "metadata": {},
     "output_type": "execute_result"
    }
   ],
   "source": [
    "# SSF 모드의 클래스별 최소 레벨 \n",
    "\n",
    "pivot_minlevel_class_ssf = ssf.pivot_table(values = 'level', columns = 'class', aggfunc = 'min')\n",
    "pivot_minlevel_class_ssf.transpose()"
   ]
  },
  {
   "cell_type": "code",
   "execution_count": 38,
   "id": "7f6b51ac",
   "metadata": {},
   "outputs": [
    {
     "data": {
      "text/plain": [
       "level   53.00\n",
       "dtype: float64"
      ]
     },
     "execution_count": 38,
     "metadata": {},
     "output_type": "execute_result"
    }
   ],
   "source": [
    "pivot_minlevel_class_ssf.transpose().mean()"
   ]
  },
  {
   "cell_type": "code",
   "execution_count": 39,
   "id": "4c5dd552",
   "metadata": {
    "scrolled": true
   },
   "outputs": [
    {
     "data": {
      "text/html": [
       "<div>\n",
       "<style scoped>\n",
       "    .dataframe tbody tr th:only-of-type {\n",
       "        vertical-align: middle;\n",
       "    }\n",
       "\n",
       "    .dataframe tbody tr th {\n",
       "        vertical-align: top;\n",
       "    }\n",
       "\n",
       "    .dataframe thead th {\n",
       "        text-align: right;\n",
       "    }\n",
       "</style>\n",
       "<table border=\"1\" class=\"dataframe\">\n",
       "  <thead>\n",
       "    <tr style=\"text-align: right;\">\n",
       "      <th></th>\n",
       "      <th>level</th>\n",
       "    </tr>\n",
       "    <tr>\n",
       "      <th>class</th>\n",
       "      <th></th>\n",
       "    </tr>\n",
       "  </thead>\n",
       "  <tbody>\n",
       "    <tr>\n",
       "      <th>Ascendant</th>\n",
       "      <td>89</td>\n",
       "    </tr>\n",
       "    <tr>\n",
       "      <th>Assassin</th>\n",
       "      <td>89</td>\n",
       "    </tr>\n",
       "    <tr>\n",
       "      <th>Berserker</th>\n",
       "      <td>89</td>\n",
       "    </tr>\n",
       "    <tr>\n",
       "      <th>Champion</th>\n",
       "      <td>89</td>\n",
       "    </tr>\n",
       "    <tr>\n",
       "      <th>Chieftain</th>\n",
       "      <td>89</td>\n",
       "    </tr>\n",
       "    <tr>\n",
       "      <th>Deadeye</th>\n",
       "      <td>89</td>\n",
       "    </tr>\n",
       "    <tr>\n",
       "      <th>Elementalist</th>\n",
       "      <td>89</td>\n",
       "    </tr>\n",
       "    <tr>\n",
       "      <th>Gladiator</th>\n",
       "      <td>89</td>\n",
       "    </tr>\n",
       "    <tr>\n",
       "      <th>Guardian</th>\n",
       "      <td>89</td>\n",
       "    </tr>\n",
       "    <tr>\n",
       "      <th>Hierophant</th>\n",
       "      <td>89</td>\n",
       "    </tr>\n",
       "    <tr>\n",
       "      <th>Inquisitor</th>\n",
       "      <td>89</td>\n",
       "    </tr>\n",
       "    <tr>\n",
       "      <th>Juggernaut</th>\n",
       "      <td>89</td>\n",
       "    </tr>\n",
       "    <tr>\n",
       "      <th>Marauder</th>\n",
       "      <td>90</td>\n",
       "    </tr>\n",
       "    <tr>\n",
       "      <th>Necromancer</th>\n",
       "      <td>89</td>\n",
       "    </tr>\n",
       "    <tr>\n",
       "      <th>Occultist</th>\n",
       "      <td>89</td>\n",
       "    </tr>\n",
       "    <tr>\n",
       "      <th>Pathfinder</th>\n",
       "      <td>89</td>\n",
       "    </tr>\n",
       "    <tr>\n",
       "      <th>Raider</th>\n",
       "      <td>89</td>\n",
       "    </tr>\n",
       "    <tr>\n",
       "      <th>Ranger</th>\n",
       "      <td>92</td>\n",
       "    </tr>\n",
       "    <tr>\n",
       "      <th>Saboteur</th>\n",
       "      <td>89</td>\n",
       "    </tr>\n",
       "    <tr>\n",
       "      <th>Scion</th>\n",
       "      <td>89</td>\n",
       "    </tr>\n",
       "    <tr>\n",
       "      <th>Slayer</th>\n",
       "      <td>89</td>\n",
       "    </tr>\n",
       "    <tr>\n",
       "      <th>Trickster</th>\n",
       "      <td>89</td>\n",
       "    </tr>\n",
       "  </tbody>\n",
       "</table>\n",
       "</div>"
      ],
      "text/plain": [
       "              level\n",
       "class              \n",
       "Ascendant        89\n",
       "Assassin         89\n",
       "Berserker        89\n",
       "Champion         89\n",
       "Chieftain        89\n",
       "Deadeye          89\n",
       "Elementalist     89\n",
       "Gladiator        89\n",
       "Guardian         89\n",
       "Hierophant       89\n",
       "Inquisitor       89\n",
       "Juggernaut       89\n",
       "Marauder         90\n",
       "Necromancer      89\n",
       "Occultist        89\n",
       "Pathfinder       89\n",
       "Raider           89\n",
       "Ranger           92\n",
       "Saboteur         89\n",
       "Scion            89\n",
       "Slayer           89\n",
       "Trickster        89"
      ]
     },
     "execution_count": 39,
     "metadata": {},
     "output_type": "execute_result"
    }
   ],
   "source": [
    "# SSF가 아닌 모드의 클래스별 최소 레벨\n",
    "\n",
    "pivot_minlevel_class_non_ssf = non_ssf.pivot_table(values = 'level', columns = 'class', aggfunc = 'min')\n",
    "pivot_minlevel_class_non_ssf.transpose()"
   ]
  },
  {
   "cell_type": "code",
   "execution_count": 40,
   "id": "e22822c3",
   "metadata": {},
   "outputs": [
    {
     "data": {
      "text/plain": [
       "level   89.18\n",
       "dtype: float64"
      ]
     },
     "execution_count": 40,
     "metadata": {},
     "output_type": "execute_result"
    }
   ],
   "source": [
    "pivot_minlevel_class_non_ssf.transpose().mean()"
   ]
  },
  {
   "cell_type": "markdown",
   "id": "4a2d629f",
   "metadata": {},
   "source": [
    " #### Commentary\n",
    " \n",
    " non ssf의 경우 89~92로 다양하지만 SSF 모드는 53으로 일정하다. 이는 SSF Harbinger HC 모드의 입장 선 때문인 것으로 생각한다. 다시 나누어 보면 다음과 같다.\n",
    " \n",
    " "
   ]
  },
  {
   "cell_type": "code",
   "execution_count": 41,
   "id": "82b9a971",
   "metadata": {},
   "outputs": [
    {
     "data": {
      "text/plain": [
       "ladder\n",
       "SSF Harbinger       73\n",
       "SSF Harbinger HC    53\n",
       "Name: level, dtype: int64"
      ]
     },
     "execution_count": 41,
     "metadata": {},
     "output_type": "execute_result"
    }
   ],
   "source": [
    "ssf.groupby(by = 'ladder')['level'].min()"
   ]
  },
  {
   "cell_type": "code",
   "execution_count": 42,
   "id": "ed0d4184",
   "metadata": {},
   "outputs": [
    {
     "data": {
      "text/plain": [
       "ladder\n",
       "Harbinger             94\n",
       "Hardcore Harbinger    89\n",
       "Name: level, dtype: int64"
      ]
     },
     "execution_count": 42,
     "metadata": {},
     "output_type": "execute_result"
    }
   ],
   "source": [
    "non_ssf.groupby(by = 'ladder')['level'].min()"
   ]
  },
  {
   "cell_type": "markdown",
   "id": "5dc983ca",
   "metadata": {},
   "source": [
    "## class - challenges"
   ]
  },
  {
   "cell_type": "markdown",
   "id": "d851307f",
   "metadata": {},
   "source": [
    "### Mean challenges"
   ]
  },
  {
   "cell_type": "code",
   "execution_count": 43,
   "id": "887f7460",
   "metadata": {
    "scrolled": true
   },
   "outputs": [
    {
     "data": {
      "text/html": [
       "<div>\n",
       "<style scoped>\n",
       "    .dataframe tbody tr th:only-of-type {\n",
       "        vertical-align: middle;\n",
       "    }\n",
       "\n",
       "    .dataframe tbody tr th {\n",
       "        vertical-align: top;\n",
       "    }\n",
       "\n",
       "    .dataframe thead th {\n",
       "        text-align: right;\n",
       "    }\n",
       "</style>\n",
       "<table border=\"1\" class=\"dataframe\">\n",
       "  <thead>\n",
       "    <tr style=\"text-align: right;\">\n",
       "      <th></th>\n",
       "      <th>challenges</th>\n",
       "    </tr>\n",
       "    <tr>\n",
       "      <th>class</th>\n",
       "      <th></th>\n",
       "    </tr>\n",
       "  </thead>\n",
       "  <tbody>\n",
       "    <tr>\n",
       "      <th>Ascendant</th>\n",
       "      <td>21.70</td>\n",
       "    </tr>\n",
       "    <tr>\n",
       "      <th>Assassin</th>\n",
       "      <td>20.46</td>\n",
       "    </tr>\n",
       "    <tr>\n",
       "      <th>Berserker</th>\n",
       "      <td>21.86</td>\n",
       "    </tr>\n",
       "    <tr>\n",
       "      <th>Champion</th>\n",
       "      <td>20.10</td>\n",
       "    </tr>\n",
       "    <tr>\n",
       "      <th>Chieftain</th>\n",
       "      <td>20.56</td>\n",
       "    </tr>\n",
       "    <tr>\n",
       "      <th>Deadeye</th>\n",
       "      <td>19.87</td>\n",
       "    </tr>\n",
       "    <tr>\n",
       "      <th>Duelist</th>\n",
       "      <td>15.68</td>\n",
       "    </tr>\n",
       "    <tr>\n",
       "      <th>Elementalist</th>\n",
       "      <td>18.86</td>\n",
       "    </tr>\n",
       "    <tr>\n",
       "      <th>Gladiator</th>\n",
       "      <td>21.22</td>\n",
       "    </tr>\n",
       "    <tr>\n",
       "      <th>Guardian</th>\n",
       "      <td>21.60</td>\n",
       "    </tr>\n",
       "    <tr>\n",
       "      <th>Hierophant</th>\n",
       "      <td>19.78</td>\n",
       "    </tr>\n",
       "    <tr>\n",
       "      <th>Inquisitor</th>\n",
       "      <td>21.08</td>\n",
       "    </tr>\n",
       "    <tr>\n",
       "      <th>Juggernaut</th>\n",
       "      <td>20.09</td>\n",
       "    </tr>\n",
       "    <tr>\n",
       "      <th>Marauder</th>\n",
       "      <td>15.96</td>\n",
       "    </tr>\n",
       "    <tr>\n",
       "      <th>Necromancer</th>\n",
       "      <td>20.93</td>\n",
       "    </tr>\n",
       "    <tr>\n",
       "      <th>Occultist</th>\n",
       "      <td>21.56</td>\n",
       "    </tr>\n",
       "    <tr>\n",
       "      <th>Pathfinder</th>\n",
       "      <td>24.57</td>\n",
       "    </tr>\n",
       "    <tr>\n",
       "      <th>Raider</th>\n",
       "      <td>22.21</td>\n",
       "    </tr>\n",
       "    <tr>\n",
       "      <th>Ranger</th>\n",
       "      <td>17.84</td>\n",
       "    </tr>\n",
       "    <tr>\n",
       "      <th>Saboteur</th>\n",
       "      <td>22.24</td>\n",
       "    </tr>\n",
       "    <tr>\n",
       "      <th>Scion</th>\n",
       "      <td>14.80</td>\n",
       "    </tr>\n",
       "    <tr>\n",
       "      <th>Shadow</th>\n",
       "      <td>14.85</td>\n",
       "    </tr>\n",
       "    <tr>\n",
       "      <th>Slayer</th>\n",
       "      <td>22.54</td>\n",
       "    </tr>\n",
       "    <tr>\n",
       "      <th>Templar</th>\n",
       "      <td>13.14</td>\n",
       "    </tr>\n",
       "    <tr>\n",
       "      <th>Trickster</th>\n",
       "      <td>21.56</td>\n",
       "    </tr>\n",
       "    <tr>\n",
       "      <th>Witch</th>\n",
       "      <td>14.70</td>\n",
       "    </tr>\n",
       "  </tbody>\n",
       "</table>\n",
       "</div>"
      ],
      "text/plain": [
       "              challenges\n",
       "class                   \n",
       "Ascendant          21.70\n",
       "Assassin           20.46\n",
       "Berserker          21.86\n",
       "Champion           20.10\n",
       "Chieftain          20.56\n",
       "Deadeye            19.87\n",
       "Duelist            15.68\n",
       "Elementalist       18.86\n",
       "Gladiator          21.22\n",
       "Guardian           21.60\n",
       "Hierophant         19.78\n",
       "Inquisitor         21.08\n",
       "Juggernaut         20.09\n",
       "Marauder           15.96\n",
       "Necromancer        20.93\n",
       "Occultist          21.56\n",
       "Pathfinder         24.57\n",
       "Raider             22.21\n",
       "Ranger             17.84\n",
       "Saboteur           22.24\n",
       "Scion              14.80\n",
       "Shadow             14.85\n",
       "Slayer             22.54\n",
       "Templar            13.14\n",
       "Trickster          21.56\n",
       "Witch              14.70"
      ]
     },
     "execution_count": 43,
     "metadata": {},
     "output_type": "execute_result"
    }
   ],
   "source": [
    "# SSF 모드의 클래스별 평균 트라이 회수\n",
    "\n",
    "pivot_meanchal_class_ssf = ssf.pivot_table(values = 'challenges', columns = 'class', aggfunc = 'mean')\n",
    "pivot_meanchal_class_ssf.transpose()"
   ]
  },
  {
   "cell_type": "code",
   "execution_count": 44,
   "id": "c943fc8e",
   "metadata": {},
   "outputs": [
    {
     "data": {
      "text/plain": [
       "challenges   19.61\n",
       "dtype: float64"
      ]
     },
     "execution_count": 44,
     "metadata": {},
     "output_type": "execute_result"
    }
   ],
   "source": [
    "pivot_meanchal_class_ssf.transpose().mean()"
   ]
  },
  {
   "cell_type": "code",
   "execution_count": 45,
   "id": "fdc96657",
   "metadata": {
    "scrolled": true
   },
   "outputs": [
    {
     "data": {
      "image/png": "[encoded data removed]",
      "text/plain": [
       "<Figure size 1152x432 with 1 Axes>"
      ]
     },
     "metadata": {},
     "output_type": "display_data"
    }
   ],
   "source": [
    "plt.rcParams[\"figure.figsize\"] = (16, 6)\n",
    "sns.barplot(data = pivot_meanchal_class_ssf,\n",
    "            edgecolor=sns.color_palette(\"dark\", 1))\n",
    "plt.xticks(rotation=45, fontsize=10)\n",
    "plt.show()"
   ]
  },
  {
   "cell_type": "code",
   "execution_count": 46,
   "id": "c88b60a5",
   "metadata": {
    "scrolled": true
   },
   "outputs": [
    {
     "data": {
      "text/html": [
       "<div>\n",
       "<style scoped>\n",
       "    .dataframe tbody tr th:only-of-type {\n",
       "        vertical-align: middle;\n",
       "    }\n",
       "\n",
       "    .dataframe tbody tr th {\n",
       "        vertical-align: top;\n",
       "    }\n",
       "\n",
       "    .dataframe thead th {\n",
       "        text-align: right;\n",
       "    }\n",
       "</style>\n",
       "<table border=\"1\" class=\"dataframe\">\n",
       "  <thead>\n",
       "    <tr style=\"text-align: right;\">\n",
       "      <th></th>\n",
       "      <th>challenges</th>\n",
       "    </tr>\n",
       "    <tr>\n",
       "      <th>class</th>\n",
       "      <th></th>\n",
       "    </tr>\n",
       "  </thead>\n",
       "  <tbody>\n",
       "    <tr>\n",
       "      <th>Ascendant</th>\n",
       "      <td>30.53</td>\n",
       "    </tr>\n",
       "    <tr>\n",
       "      <th>Assassin</th>\n",
       "      <td>30.30</td>\n",
       "    </tr>\n",
       "    <tr>\n",
       "      <th>Berserker</th>\n",
       "      <td>30.29</td>\n",
       "    </tr>\n",
       "    <tr>\n",
       "      <th>Champion</th>\n",
       "      <td>27.98</td>\n",
       "    </tr>\n",
       "    <tr>\n",
       "      <th>Chieftain</th>\n",
       "      <td>28.80</td>\n",
       "    </tr>\n",
       "    <tr>\n",
       "      <th>Deadeye</th>\n",
       "      <td>29.52</td>\n",
       "    </tr>\n",
       "    <tr>\n",
       "      <th>Elementalist</th>\n",
       "      <td>30.90</td>\n",
       "    </tr>\n",
       "    <tr>\n",
       "      <th>Gladiator</th>\n",
       "      <td>27.83</td>\n",
       "    </tr>\n",
       "    <tr>\n",
       "      <th>Guardian</th>\n",
       "      <td>31.57</td>\n",
       "    </tr>\n",
       "    <tr>\n",
       "      <th>Hierophant</th>\n",
       "      <td>26.48</td>\n",
       "    </tr>\n",
       "    <tr>\n",
       "      <th>Inquisitor</th>\n",
       "      <td>29.33</td>\n",
       "    </tr>\n",
       "    <tr>\n",
       "      <th>Juggernaut</th>\n",
       "      <td>28.71</td>\n",
       "    </tr>\n",
       "    <tr>\n",
       "      <th>Marauder</th>\n",
       "      <td>22.00</td>\n",
       "    </tr>\n",
       "    <tr>\n",
       "      <th>Necromancer</th>\n",
       "      <td>29.62</td>\n",
       "    </tr>\n",
       "    <tr>\n",
       "      <th>Occultist</th>\n",
       "      <td>30.80</td>\n",
       "    </tr>\n",
       "    <tr>\n",
       "      <th>Pathfinder</th>\n",
       "      <td>33.31</td>\n",
       "    </tr>\n",
       "    <tr>\n",
       "      <th>Raider</th>\n",
       "      <td>31.40</td>\n",
       "    </tr>\n",
       "    <tr>\n",
       "      <th>Ranger</th>\n",
       "      <td>15.50</td>\n",
       "    </tr>\n",
       "    <tr>\n",
       "      <th>Saboteur</th>\n",
       "      <td>30.25</td>\n",
       "    </tr>\n",
       "    <tr>\n",
       "      <th>Scion</th>\n",
       "      <td>23.00</td>\n",
       "    </tr>\n",
       "    <tr>\n",
       "      <th>Slayer</th>\n",
       "      <td>30.59</td>\n",
       "    </tr>\n",
       "    <tr>\n",
       "      <th>Trickster</th>\n",
       "      <td>28.36</td>\n",
       "    </tr>\n",
       "  </tbody>\n",
       "</table>\n",
       "</div>"
      ],
      "text/plain": [
       "              challenges\n",
       "class                   \n",
       "Ascendant          30.53\n",
       "Assassin           30.30\n",
       "Berserker          30.29\n",
       "Champion           27.98\n",
       "Chieftain          28.80\n",
       "Deadeye            29.52\n",
       "Elementalist       30.90\n",
       "Gladiator          27.83\n",
       "Guardian           31.57\n",
       "Hierophant         26.48\n",
       "Inquisitor         29.33\n",
       "Juggernaut         28.71\n",
       "Marauder           22.00\n",
       "Necromancer        29.62\n",
       "Occultist          30.80\n",
       "Pathfinder         33.31\n",
       "Raider             31.40\n",
       "Ranger             15.50\n",
       "Saboteur           30.25\n",
       "Scion              23.00\n",
       "Slayer             30.59\n",
       "Trickster          28.36"
      ]
     },
     "execution_count": 46,
     "metadata": {},
     "output_type": "execute_result"
    }
   ],
   "source": [
    "# SSF가 아닌 모드의 클래스별 평균 트라이 회수\n",
    "\n",
    "pivot_meanchal_class_non_ssf = non_ssf.pivot_table(values = 'challenges', columns = 'class', aggfunc = 'mean')\n",
    "pivot_meanchal_class_non_ssf.transpose()"
   ]
  },
  {
   "cell_type": "code",
   "execution_count": 47,
   "id": "7fb3e0f0",
   "metadata": {},
   "outputs": [
    {
     "data": {
      "text/plain": [
       "challenges   28.50\n",
       "dtype: float64"
      ]
     },
     "execution_count": 47,
     "metadata": {},
     "output_type": "execute_result"
    }
   ],
   "source": [
    "pivot_meanchal_class_non_ssf.transpose().mean()"
   ]
  },
  {
   "cell_type": "code",
   "execution_count": 48,
   "id": "4e650f51",
   "metadata": {
    "scrolled": true
   },
   "outputs": [
    {
     "data": {
      "image/png": "[encoded data removed]",
      "text/plain": [
       "<Figure size 1152x432 with 1 Axes>"
      ]
     },
     "metadata": {},
     "output_type": "display_data"
    }
   ],
   "source": [
    "plt.rcParams[\"figure.figsize\"] = (16, 6)\n",
    "sns.barplot(data = pivot_meanchal_class_non_ssf,\n",
    "            edgecolor=sns.color_palette(\"dark\", 1))\n",
    "plt.xticks(rotation=45, fontsize=10)\n",
    "plt.show()"
   ]
  },
  {
   "cell_type": "markdown",
   "id": "9e7dfb03",
   "metadata": {},
   "source": [
    "### Min Challenges"
   ]
  },
  {
   "cell_type": "code",
   "execution_count": 49,
   "id": "85b1f545",
   "metadata": {
    "scrolled": true
   },
   "outputs": [
    {
     "data": {
      "text/html": [
       "<div>\n",
       "<style scoped>\n",
       "    .dataframe tbody tr th:only-of-type {\n",
       "        vertical-align: middle;\n",
       "    }\n",
       "\n",
       "    .dataframe tbody tr th {\n",
       "        vertical-align: top;\n",
       "    }\n",
       "\n",
       "    .dataframe thead th {\n",
       "        text-align: right;\n",
       "    }\n",
       "</style>\n",
       "<table border=\"1\" class=\"dataframe\">\n",
       "  <thead>\n",
       "    <tr style=\"text-align: right;\">\n",
       "      <th></th>\n",
       "      <th>challenges</th>\n",
       "    </tr>\n",
       "    <tr>\n",
       "      <th>class</th>\n",
       "      <th></th>\n",
       "    </tr>\n",
       "  </thead>\n",
       "  <tbody>\n",
       "    <tr>\n",
       "      <th>Ascendant</th>\n",
       "      <td>5</td>\n",
       "    </tr>\n",
       "    <tr>\n",
       "      <th>Assassin</th>\n",
       "      <td>7</td>\n",
       "    </tr>\n",
       "    <tr>\n",
       "      <th>Berserker</th>\n",
       "      <td>5</td>\n",
       "    </tr>\n",
       "    <tr>\n",
       "      <th>Champion</th>\n",
       "      <td>6</td>\n",
       "    </tr>\n",
       "    <tr>\n",
       "      <th>Chieftain</th>\n",
       "      <td>7</td>\n",
       "    </tr>\n",
       "    <tr>\n",
       "      <th>Deadeye</th>\n",
       "      <td>7</td>\n",
       "    </tr>\n",
       "    <tr>\n",
       "      <th>Duelist</th>\n",
       "      <td>7</td>\n",
       "    </tr>\n",
       "    <tr>\n",
       "      <th>Elementalist</th>\n",
       "      <td>6</td>\n",
       "    </tr>\n",
       "    <tr>\n",
       "      <th>Gladiator</th>\n",
       "      <td>5</td>\n",
       "    </tr>\n",
       "    <tr>\n",
       "      <th>Guardian</th>\n",
       "      <td>8</td>\n",
       "    </tr>\n",
       "    <tr>\n",
       "      <th>Hierophant</th>\n",
       "      <td>6</td>\n",
       "    </tr>\n",
       "    <tr>\n",
       "      <th>Inquisitor</th>\n",
       "      <td>6</td>\n",
       "    </tr>\n",
       "    <tr>\n",
       "      <th>Juggernaut</th>\n",
       "      <td>7</td>\n",
       "    </tr>\n",
       "    <tr>\n",
       "      <th>Marauder</th>\n",
       "      <td>6</td>\n",
       "    </tr>\n",
       "    <tr>\n",
       "      <th>Necromancer</th>\n",
       "      <td>4</td>\n",
       "    </tr>\n",
       "    <tr>\n",
       "      <th>Occultist</th>\n",
       "      <td>6</td>\n",
       "    </tr>\n",
       "    <tr>\n",
       "      <th>Pathfinder</th>\n",
       "      <td>7</td>\n",
       "    </tr>\n",
       "    <tr>\n",
       "      <th>Raider</th>\n",
       "      <td>7</td>\n",
       "    </tr>\n",
       "    <tr>\n",
       "      <th>Ranger</th>\n",
       "      <td>5</td>\n",
       "    </tr>\n",
       "    <tr>\n",
       "      <th>Saboteur</th>\n",
       "      <td>6</td>\n",
       "    </tr>\n",
       "    <tr>\n",
       "      <th>Scion</th>\n",
       "      <td>6</td>\n",
       "    </tr>\n",
       "    <tr>\n",
       "      <th>Shadow</th>\n",
       "      <td>8</td>\n",
       "    </tr>\n",
       "    <tr>\n",
       "      <th>Slayer</th>\n",
       "      <td>7</td>\n",
       "    </tr>\n",
       "    <tr>\n",
       "      <th>Templar</th>\n",
       "      <td>6</td>\n",
       "    </tr>\n",
       "    <tr>\n",
       "      <th>Trickster</th>\n",
       "      <td>6</td>\n",
       "    </tr>\n",
       "    <tr>\n",
       "      <th>Witch</th>\n",
       "      <td>5</td>\n",
       "    </tr>\n",
       "  </tbody>\n",
       "</table>\n",
       "</div>"
      ],
      "text/plain": [
       "              challenges\n",
       "class                   \n",
       "Ascendant              5\n",
       "Assassin               7\n",
       "Berserker              5\n",
       "Champion               6\n",
       "Chieftain              7\n",
       "Deadeye                7\n",
       "Duelist                7\n",
       "Elementalist           6\n",
       "Gladiator              5\n",
       "Guardian               8\n",
       "Hierophant             6\n",
       "Inquisitor             6\n",
       "Juggernaut             7\n",
       "Marauder               6\n",
       "Necromancer            4\n",
       "Occultist              6\n",
       "Pathfinder             7\n",
       "Raider                 7\n",
       "Ranger                 5\n",
       "Saboteur               6\n",
       "Scion                  6\n",
       "Shadow                 8\n",
       "Slayer                 7\n",
       "Templar                6\n",
       "Trickster              6\n",
       "Witch                  5"
      ]
     },
     "execution_count": 49,
     "metadata": {},
     "output_type": "execute_result"
    }
   ],
   "source": [
    "# SSF 모드의 클래스별 최소 트라이 횟수\n",
    "\n",
    "pivot_minchal_class_ssf = ssf.pivot_table(values = 'challenges', columns = 'class', aggfunc = 'min')\n",
    "pivot_minchal_class_ssf.transpose()"
   ]
  },
  {
   "cell_type": "code",
   "execution_count": 50,
   "id": "b1ef82ba",
   "metadata": {},
   "outputs": [
    {
     "data": {
      "text/plain": [
       "challenges   6.19\n",
       "dtype: float64"
      ]
     },
     "execution_count": 50,
     "metadata": {},
     "output_type": "execute_result"
    }
   ],
   "source": [
    "pivot_minchal_class_ssf.transpose().mean()"
   ]
  },
  {
   "cell_type": "code",
   "execution_count": 51,
   "id": "185488d1",
   "metadata": {
    "scrolled": true
   },
   "outputs": [
    {
     "data": {
      "image/png": "[encoded data removed]",
      "text/plain": [
       "<Figure size 1152x432 with 1 Axes>"
      ]
     },
     "metadata": {},
     "output_type": "display_data"
    }
   ],
   "source": [
    "plt.rcParams[\"figure.figsize\"] = (16, 6)\n",
    "sns.barplot(data = pivot_minchal_class_ssf,\n",
    "            edgecolor=sns.color_palette(\"dark\", 1))\n",
    "plt.xticks(rotation=45, fontsize=10)\n",
    "plt.show()"
   ]
  },
  {
   "cell_type": "code",
   "execution_count": 52,
   "id": "1edcf540",
   "metadata": {
    "scrolled": true
   },
   "outputs": [
    {
     "data": {
      "text/html": [
       "<div>\n",
       "<style scoped>\n",
       "    .dataframe tbody tr th:only-of-type {\n",
       "        vertical-align: middle;\n",
       "    }\n",
       "\n",
       "    .dataframe tbody tr th {\n",
       "        vertical-align: top;\n",
       "    }\n",
       "\n",
       "    .dataframe thead th {\n",
       "        text-align: right;\n",
       "    }\n",
       "</style>\n",
       "<table border=\"1\" class=\"dataframe\">\n",
       "  <thead>\n",
       "    <tr style=\"text-align: right;\">\n",
       "      <th></th>\n",
       "      <th>challenges</th>\n",
       "    </tr>\n",
       "    <tr>\n",
       "      <th>class</th>\n",
       "      <th></th>\n",
       "    </tr>\n",
       "  </thead>\n",
       "  <tbody>\n",
       "    <tr>\n",
       "      <th>Ascendant</th>\n",
       "      <td>14</td>\n",
       "    </tr>\n",
       "    <tr>\n",
       "      <th>Assassin</th>\n",
       "      <td>15</td>\n",
       "    </tr>\n",
       "    <tr>\n",
       "      <th>Berserker</th>\n",
       "      <td>12</td>\n",
       "    </tr>\n",
       "    <tr>\n",
       "      <th>Champion</th>\n",
       "      <td>8</td>\n",
       "    </tr>\n",
       "    <tr>\n",
       "      <th>Chieftain</th>\n",
       "      <td>12</td>\n",
       "    </tr>\n",
       "    <tr>\n",
       "      <th>Deadeye</th>\n",
       "      <td>16</td>\n",
       "    </tr>\n",
       "    <tr>\n",
       "      <th>Elementalist</th>\n",
       "      <td>14</td>\n",
       "    </tr>\n",
       "    <tr>\n",
       "      <th>Gladiator</th>\n",
       "      <td>14</td>\n",
       "    </tr>\n",
       "    <tr>\n",
       "      <th>Guardian</th>\n",
       "      <td>11</td>\n",
       "    </tr>\n",
       "    <tr>\n",
       "      <th>Hierophant</th>\n",
       "      <td>14</td>\n",
       "    </tr>\n",
       "    <tr>\n",
       "      <th>Inquisitor</th>\n",
       "      <td>14</td>\n",
       "    </tr>\n",
       "    <tr>\n",
       "      <th>Juggernaut</th>\n",
       "      <td>14</td>\n",
       "    </tr>\n",
       "    <tr>\n",
       "      <th>Marauder</th>\n",
       "      <td>22</td>\n",
       "    </tr>\n",
       "    <tr>\n",
       "      <th>Necromancer</th>\n",
       "      <td>9</td>\n",
       "    </tr>\n",
       "    <tr>\n",
       "      <th>Occultist</th>\n",
       "      <td>14</td>\n",
       "    </tr>\n",
       "    <tr>\n",
       "      <th>Pathfinder</th>\n",
       "      <td>15</td>\n",
       "    </tr>\n",
       "    <tr>\n",
       "      <th>Raider</th>\n",
       "      <td>13</td>\n",
       "    </tr>\n",
       "    <tr>\n",
       "      <th>Ranger</th>\n",
       "      <td>15</td>\n",
       "    </tr>\n",
       "    <tr>\n",
       "      <th>Saboteur</th>\n",
       "      <td>14</td>\n",
       "    </tr>\n",
       "    <tr>\n",
       "      <th>Scion</th>\n",
       "      <td>23</td>\n",
       "    </tr>\n",
       "    <tr>\n",
       "      <th>Slayer</th>\n",
       "      <td>14</td>\n",
       "    </tr>\n",
       "    <tr>\n",
       "      <th>Trickster</th>\n",
       "      <td>11</td>\n",
       "    </tr>\n",
       "  </tbody>\n",
       "</table>\n",
       "</div>"
      ],
      "text/plain": [
       "              challenges\n",
       "class                   \n",
       "Ascendant             14\n",
       "Assassin              15\n",
       "Berserker             12\n",
       "Champion               8\n",
       "Chieftain             12\n",
       "Deadeye               16\n",
       "Elementalist          14\n",
       "Gladiator             14\n",
       "Guardian              11\n",
       "Hierophant            14\n",
       "Inquisitor            14\n",
       "Juggernaut            14\n",
       "Marauder              22\n",
       "Necromancer            9\n",
       "Occultist             14\n",
       "Pathfinder            15\n",
       "Raider                13\n",
       "Ranger                15\n",
       "Saboteur              14\n",
       "Scion                 23\n",
       "Slayer                14\n",
       "Trickster             11"
      ]
     },
     "execution_count": 52,
     "metadata": {},
     "output_type": "execute_result"
    }
   ],
   "source": [
    "# SSF가 아닌 모드의 클래스별 최소 트라이 횟수\n",
    "\n",
    "pivot_minchal_class_non_ssf = non_ssf.pivot_table(values = 'challenges', columns = 'class', aggfunc = 'min')\n",
    "pivot_minchal_class_non_ssf.transpose()"
   ]
  },
  {
   "cell_type": "code",
   "execution_count": 53,
   "id": "515c3737",
   "metadata": {},
   "outputs": [
    {
     "data": {
      "text/plain": [
       "challenges   14.00\n",
       "dtype: float64"
      ]
     },
     "execution_count": 53,
     "metadata": {},
     "output_type": "execute_result"
    }
   ],
   "source": [
    "pivot_minchal_class_non_ssf.transpose().mean()"
   ]
  },
  {
   "cell_type": "code",
   "execution_count": 54,
   "id": "1951a350",
   "metadata": {
    "scrolled": true
   },
   "outputs": [
    {
     "data": {
      "image/png": "[encoded data removed]",
      "text/plain": [
       "<Figure size 1152x432 with 1 Axes>"
      ]
     },
     "metadata": {},
     "output_type": "display_data"
    }
   ],
   "source": [
    "plt.rcParams[\"figure.figsize\"] = (16, 6)\n",
    "sns.barplot(data = pivot_minchal_class_non_ssf,\n",
    "            edgecolor=sns.color_palette(\"dark\", 1))\n",
    "plt.xticks(rotation=45, fontsize=10)\n",
    "plt.show()"
   ]
  },
  {
   "cell_type": "markdown",
   "id": "92fe4fd7",
   "metadata": {},
   "source": [
    "### Commentary\n",
    "\n",
    "평균적인 챌린지 수는 ssf = 19.61, non_ssf = 28.50 으로 non_ssf 모드가 더 많은 것으로 나타났는데, SSF 그 안에서도 전직하지 않은 상태의 직업이 더 적게 시도를 한 것으로 보이고 있다.\n",
    "\n",
    "최소로 본다면 두 모드 모두 Necromancer가 있으며, 더 뽑는다면 Champion, Berserker 가 있다. 다시 말해 이들은 혼자서든 파티에서든 괜찮은 성능을 내는 것으로 생각해 볼 수 있다.\n",
    "\n",
    "전체적으로 최소 시도의 평균보다 적은 직업을 보면\n",
    "\n",
    "``` \n",
    "# ssf\n",
    "Necromancer\t4\n",
    "Ascendant\t5\n",
    "Berserker\t5\n",
    "Gladiator\t5\n",
    "Ranger\t5\n",
    "Witch\t5\n",
    "Champion\t6\n",
    "Elementalist\t6\n",
    "Hierophant\t6\n",
    "Inquisitor\t6\n",
    "Marauder\t6\n",
    "Occultist\t6\n",
    "Saboteur\t6\n",
    "Scion\t6\n",
    "Templar\t6\n",
    "Trickster\t6\n",
    "```\n",
    "\n",
    "``` \n",
    "# non_ssf\n",
    "Champion\t8\n",
    "Necromancer\t9\n",
    "Guardian\t11\n",
    "Trickster\t11\n",
    "Berserker\t12\n",
    "Chieftain\t12\n",
    "Raider\t13\n",
    "```\n",
    " 로 분포해있다. \n",
    " \n",
    " \n"
   ]
  },
  {
   "cell_type": "markdown",
   "id": "58cbf24a",
   "metadata": {},
   "source": [
    "## rank\n",
    "\n",
    "--- \n",
    "\n",
    "여기서부터는 클래스와 떼어서 각각을 보려 한다.\n",
    "\n",
    "### ssf level distribution"
   ]
  },
  {
   "cell_type": "code",
   "execution_count": 55,
   "id": "8e499f35",
   "metadata": {},
   "outputs": [
    {
     "data": {
      "image/png": "[encoded data removed]",
      "text/plain": [
       "<Figure size 1152x432 with 1 Axes>"
      ]
     },
     "metadata": {},
     "output_type": "display_data"
    }
   ],
   "source": [
    "plt.rcParams[\"figure.figsize\"] = (16, 6)\n",
    "sns.set_style('whitegrid')\n",
    "sns.countplot(data = ssf, x = 'level', \n",
    "              palette=\"Blues\", edgecolor=sns.color_palette(\"dark\", 1)) #palette = Accent\n",
    "plt.show()"
   ]
  },
  {
   "cell_type": "markdown",
   "id": "ff540a34",
   "metadata": {},
   "source": [
    "### non_ssf level distribution"
   ]
  },
  {
   "cell_type": "code",
   "execution_count": 56,
   "id": "578b9865",
   "metadata": {},
   "outputs": [
    {
     "data": {
      "image/png": "[encoded data removed]",
      "text/plain": [
       "<Figure size 1152x432 with 1 Axes>"
      ]
     },
     "metadata": {},
     "output_type": "display_data"
    }
   ],
   "source": [
    "plt.rcParams[\"figure.figsize\"] = (16, 6)\n",
    "sns.set_style('whitegrid')\n",
    "sns.countplot(data = non_ssf, x = 'level', \n",
    "              palette=\"Blues\", edgecolor=sns.color_palette(\"dark\", 1)) #palette = Accent\n",
    "plt.show()"
   ]
  },
  {
   "cell_type": "markdown",
   "id": "64ec5b03",
   "metadata": {},
   "source": [
    " ### commentary\n",
    " \n",
    " 정말 재밌는 결과! 레벨이 유의미하게 나누어지는 것이 SSF와 SSF가 아닌 모드인 것이었다!!!\n",
    " \n",
    " 위에서도 확인했었듯이 non_ssf 모드에서의 랭크 캐릭터들의 최소 레벨이 89부터 시작했던 점을 다시 떠올릴 수 있다.\n",
    " \n",
    " > non_ssf 모드에서는 95레벨이 가장 많은 수를 차지하고 있으며 실제로 그 95레벨 주위의 값이 적지 않다.\n",
    " \n",
    " > 하지만 ssf 모드에서는 73레벨이 가장 높으며, 90레벨은 많았으나 90레벨 이상에서는 급격히 감소한다.\n",
    " \n",
    " 그래프 도합 각각 약 3만 개의 캐릭터임을 감안하면 감소하는 90 레벨이상의 데이터들도 아주 적은 숫자는 아니지만, 상대적으로 SSF모드는 적은 레벨에서부터도 많이 시도하는 것으로 보인다.\n",
    " \n",
    " _현재 y의 스케일이 많이 차이가 나는데, 그래프를 볼 때 주의해야 하는 부분이다._"
   ]
  },
  {
   "cell_type": "markdown",
   "id": "86d0d99f",
   "metadata": {},
   "source": [
    "## exp\n",
    "\n",
    "경험치는 연속형 변수이기 때문에 구간을 나누어주어서 간단하게 분포를 보려한다. \n",
    "\n",
    "### ssf exp distribution"
   ]
  },
  {
   "cell_type": "code",
   "execution_count": 57,
   "id": "71421506",
   "metadata": {
    "scrolled": true
   },
   "outputs": [
    {
     "data": {
      "text/plain": [
       "array([[<AxesSubplot:title={'center':'experience'}>]], dtype=object)"
      ]
     },
     "execution_count": 57,
     "metadata": {},
     "output_type": "execute_result"
    },
    {
     "data": {
      "image/png": "[encoded data removed]",
      "text/plain": [
       "<Figure size 1152x432 with 1 Axes>"
      ]
     },
     "metadata": {},
     "output_type": "display_data"
    }
   ],
   "source": [
    "ssf.hist(column = 'experience', figsize=(16, 6), bins=50)"
   ]
  },
  {
   "cell_type": "markdown",
   "id": "451c88bd",
   "metadata": {},
   "source": [
    "### non_ssf exp distribution"
   ]
  },
  {
   "cell_type": "code",
   "execution_count": 58,
   "id": "51613a89",
   "metadata": {},
   "outputs": [
    {
     "data": {
      "text/plain": [
       "array([[<AxesSubplot:title={'center':'experience'}>]], dtype=object)"
      ]
     },
     "execution_count": 58,
     "metadata": {},
     "output_type": "execute_result"
    },
    {
     "data": {
      "image/png": "[encoded data removed]",
      "text/plain": [
       "<Figure size 1152x432 with 1 Axes>"
      ]
     },
     "metadata": {},
     "output_type": "display_data"
    }
   ],
   "source": [
    "non_ssf.hist(column = 'experience', figsize = (16, 6), bins = 50)"
   ]
  },
  {
   "cell_type": "markdown",
   "id": "2515b5db",
   "metadata": {},
   "source": [
    "## online\n",
    "\n",
    "### ssf - online or offline"
   ]
  },
  {
   "cell_type": "code",
   "execution_count": 59,
   "id": "7caaee46",
   "metadata": {},
   "outputs": [
    {
     "data": {
      "image/png": "[encoded data removed]",
      "text/plain": [
       "<Figure size 144x216 with 1 Axes>"
      ]
     },
     "metadata": {},
     "output_type": "display_data"
    }
   ],
   "source": [
    "plt.rcParams[\"figure.figsize\"] = (2, 3)\n",
    "sns.set_style('whitegrid')\n",
    "sns.countplot(data = ssf, x = 'online', \n",
    "              palette=\"Set3\", edgecolor=sns.color_palette(\"dark\", 1))\n",
    "plt.show()"
   ]
  },
  {
   "cell_type": "markdown",
   "id": "172738df",
   "metadata": {},
   "source": [
    "### non_ssf - online or offline"
   ]
  },
  {
   "cell_type": "code",
   "execution_count": 60,
   "id": "0e4f6444",
   "metadata": {},
   "outputs": [
    {
     "data": {
      "image/png": "[encoded data removed]",
      "text/plain": [
       "<Figure size 144x216 with 1 Axes>"
      ]
     },
     "metadata": {},
     "output_type": "display_data"
    }
   ],
   "source": [
    "plt.rcParams[\"figure.figsize\"] = (2, 3)\n",
    "sns.set_style('whitegrid')\n",
    "sns.countplot(data = non_ssf, x = 'online', \n",
    "              palette=\"Set3\", edgecolor=sns.color_palette(\"dark\", 1))\n",
    "plt.show()"
   ]
  },
  {
   "cell_type": "markdown",
   "id": "862a72f5",
   "metadata": {},
   "source": [
    "그럼 전체 중 접속률은?"
   ]
  },
  {
   "cell_type": "code",
   "execution_count": 61,
   "id": "4491c190",
   "metadata": {},
   "outputs": [
    {
     "data": {
      "text/plain": [
       "False   99.36\n",
       "True     0.64\n",
       "Name: online, dtype: float64"
      ]
     },
     "execution_count": 61,
     "metadata": {},
     "output_type": "execute_result"
    }
   ],
   "source": [
    "ssf['online'].value_counts()/sum(ssf['online'].value_counts())*100"
   ]
  },
  {
   "cell_type": "code",
   "execution_count": 62,
   "id": "10a446f7",
   "metadata": {},
   "outputs": [
    {
     "data": {
      "text/plain": [
       "False   97.73\n",
       "True     2.27\n",
       "Name: online, dtype: float64"
      ]
     },
     "execution_count": 62,
     "metadata": {},
     "output_type": "execute_result"
    }
   ],
   "source": [
    "non_ssf['online'].value_counts()/sum(non_ssf['online'].value_counts())*100"
   ]
  },
  {
   "cell_type": "markdown",
   "id": "1a8f3fbb",
   "metadata": {},
   "source": [
    "### Commentary\n",
    "\n",
    "ssf mode's rankers online rate = 0.9-1.0%\n",
    "\n",
    "non_ssf mode's rankers online rate = 2.2%"
   ]
  },
  {
   "cell_type": "markdown",
   "id": "7df5476f",
   "metadata": {},
   "source": [
    "## 3 stats and thier corr"
   ]
  },
  {
   "cell_type": "markdown",
   "id": "a5e2fd06",
   "metadata": {},
   "source": [
    "### ssf"
   ]
  },
  {
   "cell_type": "code",
   "execution_count": 63,
   "id": "43d1bffd",
   "metadata": {},
   "outputs": [
    {
     "data": {
      "text/html": [
       "<div>\n",
       "<style scoped>\n",
       "    .dataframe tbody tr th:only-of-type {\n",
       "        vertical-align: middle;\n",
       "    }\n",
       "\n",
       "    .dataframe tbody tr th {\n",
       "        vertical-align: top;\n",
       "    }\n",
       "\n",
       "    .dataframe thead th {\n",
       "        text-align: right;\n",
       "    }\n",
       "</style>\n",
       "<table border=\"1\" class=\"dataframe\">\n",
       "  <thead>\n",
       "    <tr style=\"text-align: right;\">\n",
       "      <th></th>\n",
       "      <th>class</th>\n",
       "      <th>stat_Str</th>\n",
       "      <th>stat_Int</th>\n",
       "      <th>stat_Dex</th>\n",
       "      <th>stats_num</th>\n",
       "    </tr>\n",
       "  </thead>\n",
       "  <tbody>\n",
       "    <tr>\n",
       "      <th>58933</th>\n",
       "      <td>Templar</td>\n",
       "      <td>1</td>\n",
       "      <td>1</td>\n",
       "      <td>0</td>\n",
       "      <td>2</td>\n",
       "    </tr>\n",
       "    <tr>\n",
       "      <th>25183</th>\n",
       "      <td>Raider</td>\n",
       "      <td>0</td>\n",
       "      <td>0</td>\n",
       "      <td>1</td>\n",
       "      <td>1</td>\n",
       "    </tr>\n",
       "    <tr>\n",
       "      <th>6540</th>\n",
       "      <td>Inquisitor</td>\n",
       "      <td>1</td>\n",
       "      <td>1</td>\n",
       "      <td>0</td>\n",
       "      <td>2</td>\n",
       "    </tr>\n",
       "    <tr>\n",
       "      <th>38699</th>\n",
       "      <td>Berserker</td>\n",
       "      <td>1</td>\n",
       "      <td>0</td>\n",
       "      <td>0</td>\n",
       "      <td>1</td>\n",
       "    </tr>\n",
       "    <tr>\n",
       "      <th>9370</th>\n",
       "      <td>Berserker</td>\n",
       "      <td>1</td>\n",
       "      <td>0</td>\n",
       "      <td>0</td>\n",
       "      <td>1</td>\n",
       "    </tr>\n",
       "    <tr>\n",
       "      <th>23292</th>\n",
       "      <td>Necromancer</td>\n",
       "      <td>0</td>\n",
       "      <td>1</td>\n",
       "      <td>0</td>\n",
       "      <td>1</td>\n",
       "    </tr>\n",
       "    <tr>\n",
       "      <th>44912</th>\n",
       "      <td>Pathfinder</td>\n",
       "      <td>0</td>\n",
       "      <td>0</td>\n",
       "      <td>1</td>\n",
       "      <td>1</td>\n",
       "    </tr>\n",
       "    <tr>\n",
       "      <th>35069</th>\n",
       "      <td>Raider</td>\n",
       "      <td>0</td>\n",
       "      <td>0</td>\n",
       "      <td>1</td>\n",
       "      <td>1</td>\n",
       "    </tr>\n",
       "    <tr>\n",
       "      <th>11951</th>\n",
       "      <td>Berserker</td>\n",
       "      <td>1</td>\n",
       "      <td>0</td>\n",
       "      <td>0</td>\n",
       "      <td>1</td>\n",
       "    </tr>\n",
       "    <tr>\n",
       "      <th>24398</th>\n",
       "      <td>Juggernaut</td>\n",
       "      <td>1</td>\n",
       "      <td>0</td>\n",
       "      <td>0</td>\n",
       "      <td>1</td>\n",
       "    </tr>\n",
       "  </tbody>\n",
       "</table>\n",
       "</div>"
      ],
      "text/plain": [
       "             class  stat_Str  stat_Int  stat_Dex  stats_num\n",
       "58933      Templar         1         1         0          2\n",
       "25183       Raider         0         0         1          1\n",
       "6540    Inquisitor         1         1         0          2\n",
       "38699    Berserker         1         0         0          1\n",
       "9370     Berserker         1         0         0          1\n",
       "23292  Necromancer         0         1         0          1\n",
       "44912   Pathfinder         0         0         1          1\n",
       "35069       Raider         0         0         1          1\n",
       "11951    Berserker         1         0         0          1\n",
       "24398   Juggernaut         1         0         0          1"
      ]
     },
     "execution_count": 63,
     "metadata": {},
     "output_type": "execute_result"
    }
   ],
   "source": [
    "ssf[['class', 'stat_Str', 'stat_Int', 'stat_Dex', 'stats_num']].sample(10)"
   ]
  },
  {
   "cell_type": "code",
   "execution_count": 64,
   "id": "c44fd07e",
   "metadata": {},
   "outputs": [
    {
     "data": {
      "text/html": [
       "<div>\n",
       "<style scoped>\n",
       "    .dataframe tbody tr th:only-of-type {\n",
       "        vertical-align: middle;\n",
       "    }\n",
       "\n",
       "    .dataframe tbody tr th {\n",
       "        vertical-align: top;\n",
       "    }\n",
       "\n",
       "    .dataframe thead th {\n",
       "        text-align: right;\n",
       "    }\n",
       "</style>\n",
       "<table border=\"1\" class=\"dataframe\">\n",
       "  <thead>\n",
       "    <tr style=\"text-align: right;\">\n",
       "      <th></th>\n",
       "      <th>stat_Str</th>\n",
       "      <th>stat_Int</th>\n",
       "      <th>stat_Dex</th>\n",
       "      <th>stats_num</th>\n",
       "    </tr>\n",
       "  </thead>\n",
       "  <tbody>\n",
       "    <tr>\n",
       "      <th>stat_Str</th>\n",
       "      <td>1.00</td>\n",
       "      <td>-0.43</td>\n",
       "      <td>-0.09</td>\n",
       "      <td>0.38</td>\n",
       "    </tr>\n",
       "    <tr>\n",
       "      <th>stat_Int</th>\n",
       "      <td>-0.43</td>\n",
       "      <td>1.00</td>\n",
       "      <td>-0.23</td>\n",
       "      <td>0.29</td>\n",
       "    </tr>\n",
       "    <tr>\n",
       "      <th>stat_Dex</th>\n",
       "      <td>-0.09</td>\n",
       "      <td>-0.23</td>\n",
       "      <td>1.00</td>\n",
       "      <td>0.56</td>\n",
       "    </tr>\n",
       "    <tr>\n",
       "      <th>stats_num</th>\n",
       "      <td>0.38</td>\n",
       "      <td>0.29</td>\n",
       "      <td>0.56</td>\n",
       "      <td>1.00</td>\n",
       "    </tr>\n",
       "  </tbody>\n",
       "</table>\n",
       "</div>"
      ],
      "text/plain": [
       "           stat_Str  stat_Int  stat_Dex  stats_num\n",
       "stat_Str       1.00     -0.43     -0.09       0.38\n",
       "stat_Int      -0.43      1.00     -0.23       0.29\n",
       "stat_Dex      -0.09     -0.23      1.00       0.56\n",
       "stats_num      0.38      0.29      0.56       1.00"
      ]
     },
     "execution_count": 64,
     "metadata": {},
     "output_type": "execute_result"
    }
   ],
   "source": [
    "ssf[['class', 'stat_Str', 'stat_Int', 'stat_Dex', 'stats_num']].corr()"
   ]
  },
  {
   "cell_type": "code",
   "execution_count": 65,
   "id": "ad843098",
   "metadata": {},
   "outputs": [
    {
     "data": {
      "image/png": "[encoded data removed]",
      "text/plain": [
       "<Figure size 288x288 with 2 Axes>"
      ]
     },
     "metadata": {},
     "output_type": "display_data"
    }
   ],
   "source": [
    "plt.rcParams[\"figure.figsize\"] = (4, 4)\n",
    "sns.heatmap(ssf[['stat_Str', 'stat_Int', 'stat_Dex', 'stats_num']].corr(),\n",
    "            annot = True, square=True, cmap = 'PuRd_r')\n",
    "plt.show()"
   ]
  },
  {
   "cell_type": "markdown",
   "id": "5c4ea6b2",
   "metadata": {},
   "source": [
    "### non_ssf"
   ]
  },
  {
   "cell_type": "code",
   "execution_count": 66,
   "id": "c035c671",
   "metadata": {},
   "outputs": [
    {
     "data": {
      "text/html": [
       "<div>\n",
       "<style scoped>\n",
       "    .dataframe tbody tr th:only-of-type {\n",
       "        vertical-align: middle;\n",
       "    }\n",
       "\n",
       "    .dataframe tbody tr th {\n",
       "        vertical-align: top;\n",
       "    }\n",
       "\n",
       "    .dataframe thead th {\n",
       "        text-align: right;\n",
       "    }\n",
       "</style>\n",
       "<table border=\"1\" class=\"dataframe\">\n",
       "  <thead>\n",
       "    <tr style=\"text-align: right;\">\n",
       "      <th></th>\n",
       "      <th>class</th>\n",
       "      <th>stat_Str</th>\n",
       "      <th>stat_Dex</th>\n",
       "      <th>stat_Int</th>\n",
       "      <th>stats_num</th>\n",
       "    </tr>\n",
       "  </thead>\n",
       "  <tbody>\n",
       "    <tr>\n",
       "      <th>11528</th>\n",
       "      <td>Necromancer</td>\n",
       "      <td>0</td>\n",
       "      <td>0</td>\n",
       "      <td>1</td>\n",
       "      <td>1</td>\n",
       "    </tr>\n",
       "    <tr>\n",
       "      <th>36226</th>\n",
       "      <td>Chieftain</td>\n",
       "      <td>1</td>\n",
       "      <td>0</td>\n",
       "      <td>0</td>\n",
       "      <td>1</td>\n",
       "    </tr>\n",
       "    <tr>\n",
       "      <th>35444</th>\n",
       "      <td>Pathfinder</td>\n",
       "      <td>0</td>\n",
       "      <td>1</td>\n",
       "      <td>0</td>\n",
       "      <td>1</td>\n",
       "    </tr>\n",
       "    <tr>\n",
       "      <th>13388</th>\n",
       "      <td>Pathfinder</td>\n",
       "      <td>0</td>\n",
       "      <td>1</td>\n",
       "      <td>0</td>\n",
       "      <td>1</td>\n",
       "    </tr>\n",
       "    <tr>\n",
       "      <th>47479</th>\n",
       "      <td>Slayer</td>\n",
       "      <td>1</td>\n",
       "      <td>1</td>\n",
       "      <td>0</td>\n",
       "      <td>2</td>\n",
       "    </tr>\n",
       "    <tr>\n",
       "      <th>39190</th>\n",
       "      <td>Berserker</td>\n",
       "      <td>1</td>\n",
       "      <td>0</td>\n",
       "      <td>0</td>\n",
       "      <td>1</td>\n",
       "    </tr>\n",
       "    <tr>\n",
       "      <th>43898</th>\n",
       "      <td>Necromancer</td>\n",
       "      <td>0</td>\n",
       "      <td>0</td>\n",
       "      <td>1</td>\n",
       "      <td>1</td>\n",
       "    </tr>\n",
       "    <tr>\n",
       "      <th>5820</th>\n",
       "      <td>Necromancer</td>\n",
       "      <td>0</td>\n",
       "      <td>0</td>\n",
       "      <td>1</td>\n",
       "      <td>1</td>\n",
       "    </tr>\n",
       "    <tr>\n",
       "      <th>8578</th>\n",
       "      <td>Slayer</td>\n",
       "      <td>1</td>\n",
       "      <td>1</td>\n",
       "      <td>0</td>\n",
       "      <td>2</td>\n",
       "    </tr>\n",
       "    <tr>\n",
       "      <th>6925</th>\n",
       "      <td>Necromancer</td>\n",
       "      <td>0</td>\n",
       "      <td>0</td>\n",
       "      <td>1</td>\n",
       "      <td>1</td>\n",
       "    </tr>\n",
       "  </tbody>\n",
       "</table>\n",
       "</div>"
      ],
      "text/plain": [
       "             class  stat_Str  stat_Dex  stat_Int  stats_num\n",
       "11528  Necromancer         0         0         1          1\n",
       "36226    Chieftain         1         0         0          1\n",
       "35444   Pathfinder         0         1         0          1\n",
       "13388   Pathfinder         0         1         0          1\n",
       "47479       Slayer         1         1         0          2\n",
       "39190    Berserker         1         0         0          1\n",
       "43898  Necromancer         0         0         1          1\n",
       "5820   Necromancer         0         0         1          1\n",
       "8578        Slayer         1         1         0          2\n",
       "6925   Necromancer         0         0         1          1"
      ]
     },
     "execution_count": 66,
     "metadata": {},
     "output_type": "execute_result"
    }
   ],
   "source": [
    "non_ssf[['class', 'stat_Str', 'stat_Dex', 'stat_Int', 'stats_num']].sample(10)"
   ]
  },
  {
   "cell_type": "code",
   "execution_count": 67,
   "id": "7d2545c4",
   "metadata": {},
   "outputs": [
    {
     "data": {
      "text/html": [
       "<div>\n",
       "<style scoped>\n",
       "    .dataframe tbody tr th:only-of-type {\n",
       "        vertical-align: middle;\n",
       "    }\n",
       "\n",
       "    .dataframe tbody tr th {\n",
       "        vertical-align: top;\n",
       "    }\n",
       "\n",
       "    .dataframe thead th {\n",
       "        text-align: right;\n",
       "    }\n",
       "</style>\n",
       "<table border=\"1\" class=\"dataframe\">\n",
       "  <thead>\n",
       "    <tr style=\"text-align: right;\">\n",
       "      <th></th>\n",
       "      <th>stat_Str</th>\n",
       "      <th>stat_Dex</th>\n",
       "      <th>stat_Int</th>\n",
       "      <th>stats_num</th>\n",
       "    </tr>\n",
       "  </thead>\n",
       "  <tbody>\n",
       "    <tr>\n",
       "      <th>stat_Str</th>\n",
       "      <td>1.00</td>\n",
       "      <td>-0.23</td>\n",
       "      <td>-0.18</td>\n",
       "      <td>0.48</td>\n",
       "    </tr>\n",
       "    <tr>\n",
       "      <th>stat_Dex</th>\n",
       "      <td>-0.23</td>\n",
       "      <td>1.00</td>\n",
       "      <td>-0.30</td>\n",
       "      <td>0.39</td>\n",
       "    </tr>\n",
       "    <tr>\n",
       "      <th>stat_Int</th>\n",
       "      <td>-0.18</td>\n",
       "      <td>-0.30</td>\n",
       "      <td>1.00</td>\n",
       "      <td>0.39</td>\n",
       "    </tr>\n",
       "    <tr>\n",
       "      <th>stats_num</th>\n",
       "      <td>0.48</td>\n",
       "      <td>0.39</td>\n",
       "      <td>0.39</td>\n",
       "      <td>1.00</td>\n",
       "    </tr>\n",
       "  </tbody>\n",
       "</table>\n",
       "</div>"
      ],
      "text/plain": [
       "           stat_Str  stat_Dex  stat_Int  stats_num\n",
       "stat_Str       1.00     -0.23     -0.18       0.48\n",
       "stat_Dex      -0.23      1.00     -0.30       0.39\n",
       "stat_Int      -0.18     -0.30      1.00       0.39\n",
       "stats_num      0.48      0.39      0.39       1.00"
      ]
     },
     "execution_count": 67,
     "metadata": {},
     "output_type": "execute_result"
    }
   ],
   "source": [
    "non_ssf[['class', 'stat_Str', 'stat_Dex', 'stat_Int', 'stats_num']].corr()"
   ]
  },
  {
   "cell_type": "code",
   "execution_count": 68,
   "id": "f13e1d4f",
   "metadata": {},
   "outputs": [
    {
     "data": {
      "text/plain": [
       "<AxesSubplot:>"
      ]
     },
     "execution_count": 68,
     "metadata": {},
     "output_type": "execute_result"
    },
    {
     "data": {
      "image/png": "[encoded data removed]",
      "text/plain": [
       "<Figure size 288x288 with 2 Axes>"
      ]
     },
     "metadata": {},
     "output_type": "display_data"
    }
   ],
   "source": [
    "sns.heatmap(data = non_ssf[['class', 'stat_Str', 'stat_Dex', 'stat_Int', 'stats_num']].corr(), \n",
    "           annot = True, cmap = 'PuRd_r', square = True)"
   ]
  },
  {
   "cell_type": "markdown",
   "id": "2647e92c",
   "metadata": {},
   "source": [
    "### Commentary\n",
    "\n",
    "_이게 선호도로 볼것인지 성능으로 볼 것인지는 유저하나하나를 까면서 분석을해도 모자라기 때문에, 이미 이 15000등 안에 들은 유저들은 어느정도 실력이 최고에 도달한 비슷비슷한 고수들이라고 가정하는 것이 편하기 때문에 선호도로 보기로 했다._\n",
    "\n",
    "더미 변수로 변환한 변수에다가, 그들을 더하기만한 변수 stats_num이다. 정말 쓸모없어보일 수 있지만, 이런 부분들은 볼 수 있다.\n",
    "\n",
    "stats_num 과 다른 변수들과의 계수를 보면 SSF 모드에서는 민첩이 0.56, 그리고 힘과 지능이 0.38, 0.29이다. \n",
    "\n",
    "non_SSF 모드에서는 힘이 0.48, 그리고 민첩과 지능이 0.29이다.\n",
    "\n",
    "> 전체적으로 보았을 때, 랭커들은 SSF모드에서는 민첩을 많이 선호하는 경향이 있으며, non_SSF 모드에서 힘을 적지 않게 선호하지만 그 선호도 보다 더 강하게 선호하는 경향이 있다는 것이다.\n",
    "\n",
    "> 또한 각 스탯끼리 음의 상관관계가 강할수록 같이 찍지 않는 경향인 것으로 볼 수 있다.\n",
    "\n"
   ]
  }
 ],
 "metadata": {
  "kernelspec": {
   "display_name": "Python 3 (ipykernel)",
   "language": "python",
   "name": "python3"
  },
  "language_info": {
   "codemirror_mode": {
    "name": "ipython",
    "version": 3
   },
   "file_extension": ".py",
   "mimetype": "text/x-python",
   "name": "python",
   "nbconvert_exporter": "python",
   "pygments_lexer": "ipython3",
   "version": "3.8.5"
  },
  "toc": {
   "base_numbering": 1,
   "nav_menu": {},
   "number_sections": true,
   "sideBar": true,
   "skip_h1_title": false,
   "title_cell": "Table of Contents",
   "title_sidebar": "Contents",
   "toc_cell": false,
   "toc_position": {
    "height": "calc(100% - 180px)",
    "left": "10px",
    "top": "150px",
    "width": "282.998px"
   },
   "toc_section_display": true,
   "toc_window_display": true
  }
 },
 "nbformat": 4,
 "nbformat_minor": 5
}

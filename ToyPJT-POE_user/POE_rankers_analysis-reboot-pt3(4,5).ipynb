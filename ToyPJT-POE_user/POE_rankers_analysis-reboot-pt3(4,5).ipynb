{
 "cells": [
  {
   "cell_type": "markdown",
   "id": "ecae15d4",
   "metadata": {},
   "source": [
    "# POE user analyzing project\n",
    "###### **Data reference and questions are here: https://www.kaggle.com/datasets/gagazet/path-of-exile-league-statistic**\n",
    "\n",
    "---\n",
    "Hi, I'm Angela. 😊 I'm a novice in data analysis.  I'm a novice in data analysis. I'm interested in the video games, mobility, culture, and content industry. I hope to become a data scientist with anomaly detection and anti-cheating. I hope that my analysis will have a positive impact on the world at least a little bit.  \n",
    "\n",
    "This is my first Kaggle-data analyzing project on my own. I played(?) with this data for almost a month or more freely, and I finish it to start to answer these questions partially. Finally, I can close the analysis joyfully.\n",
    "I analyzed this data set with my thoughts and what I learned (as if I were a game analyst 😆).  \n",
    "_ps. English may seem a little awkward because it is not my first language. I'm sorry. And I used the word 'average' more than the word 'mean' because I wanted to communicate more clearly in my hectic writing. 'mean' is so mean to 'average', 'mean' means 'mean' and... just joking._ 🤪\n",
    "\n",
    "---\n",
    "##### **Questions for participants**\n",
    "\n",
    "1. A total number of players in each division, usage of each class in descending order.\n",
    "2. Some of the players streaming their game (twitch column). Do they play better than people, who does not?\n",
    "3. Predict chance to be at top 30 in each division, if we are Necromancer. With and without stream.\n",
    "4. Average number of finished challanges for each division, show division with highest and lowest average challanges.\n",
    "5. Show dependency between level and class of died characters. Only for HC divisions.\n"
   ]
  },
  {
   "cell_type": "markdown",
   "id": "4f961366",
   "metadata": {},
   "source": [
    "## Importing Data and Libraries\n",
    "---"
   ]
  },
  {
   "cell_type": "code",
   "execution_count": 1,
   "id": "2ea65d0c",
   "metadata": {
    "ExecuteTime": {
     "end_time": "2024-03-06T11:54:07.636122Z",
     "start_time": "2024-03-06T11:54:04.720525Z"
    }
   },
   "outputs": [
    {
     "name": "stdout",
     "output_type": "stream",
     "text": [
      "0.11.2\n",
      "1.5.3\n",
      "1.22.4\n"
     ]
    }
   ],
   "source": [
    "import pandas as pd\n",
    "import numpy as np\n",
    "\n",
    "import time as time\n",
    "import matplotlib.pyplot as plt\n",
    "import seaborn as sns\n",
    "\n",
    "# import sklearn as sk\n",
    "# import tensorflow as tf\n",
    "# import keras\n",
    "\n",
    "np.random.seed(0)\n",
    "# tf.random.set_seed(0)\n",
    "\n",
    "# version check\n",
    "print(sns.__version__)\n",
    "print(pd.__version__)\n",
    "print(np.__version__)\n",
    "# print(sk.__version__)\n",
    "# print(tf.__version__)\n",
    "# print(keras.__version__)\n",
    "\n",
    "data = pd.read_csv(\"poe_stats.csv\")"
   ]
  },
  {
   "cell_type": "code",
   "execution_count": 2,
   "id": "3b629d75",
   "metadata": {
    "ExecuteTime": {
     "end_time": "2024-03-06T11:54:07.665951Z",
     "start_time": "2024-03-06T11:54:07.640258Z"
    }
   },
   "outputs": [
    {
     "data": {
      "text/html": [
       "<div>\n",
       "<style scoped>\n",
       "    .dataframe tbody tr th:only-of-type {\n",
       "        vertical-align: middle;\n",
       "    }\n",
       "\n",
       "    .dataframe tbody tr th {\n",
       "        vertical-align: top;\n",
       "    }\n",
       "\n",
       "    .dataframe thead th {\n",
       "        text-align: right;\n",
       "    }\n",
       "</style>\n",
       "<table border=\"1\" class=\"dataframe\">\n",
       "  <thead>\n",
       "    <tr style=\"text-align: right;\">\n",
       "      <th></th>\n",
       "      <th>rank</th>\n",
       "      <th>dead</th>\n",
       "      <th>online</th>\n",
       "      <th>name</th>\n",
       "      <th>level</th>\n",
       "      <th>class</th>\n",
       "      <th>id</th>\n",
       "      <th>experience</th>\n",
       "      <th>account</th>\n",
       "      <th>challenges</th>\n",
       "      <th>twitch</th>\n",
       "      <th>ladder</th>\n",
       "    </tr>\n",
       "  </thead>\n",
       "  <tbody>\n",
       "    <tr>\n",
       "      <th>0</th>\n",
       "      <td>1</td>\n",
       "      <td>False</td>\n",
       "      <td>False</td>\n",
       "      <td>Tzn_NecroIsFineNow</td>\n",
       "      <td>100</td>\n",
       "      <td>Necromancer</td>\n",
       "      <td>3dcddd59f5088893f734f39686350990dae168cc4f4b00...</td>\n",
       "      <td>4250334444</td>\n",
       "      <td>TheTzn</td>\n",
       "      <td>40</td>\n",
       "      <td>thetzn</td>\n",
       "      <td>Harbinger</td>\n",
       "    </tr>\n",
       "    <tr>\n",
       "      <th>1</th>\n",
       "      <td>1</td>\n",
       "      <td>False</td>\n",
       "      <td>False</td>\n",
       "      <td>RaizNeverFirstQT</td>\n",
       "      <td>100</td>\n",
       "      <td>Necromancer</td>\n",
       "      <td>8f3216db5ac9106c287a834731aafc83c387138f28fc45...</td>\n",
       "      <td>4250334444</td>\n",
       "      <td>RaizQT</td>\n",
       "      <td>22</td>\n",
       "      <td>raizqt</td>\n",
       "      <td>SSF Harbinger HC</td>\n",
       "    </tr>\n",
       "    <tr>\n",
       "      <th>2</th>\n",
       "      <td>1</td>\n",
       "      <td>False</td>\n",
       "      <td>False</td>\n",
       "      <td>GucciStreamerAdvantage</td>\n",
       "      <td>100</td>\n",
       "      <td>Necromancer</td>\n",
       "      <td>c6ec2dae3855c551e0597c06ef2da06fbb5512487ded7f...</td>\n",
       "      <td>4250334444</td>\n",
       "      <td>GucciPradas</td>\n",
       "      <td>35</td>\n",
       "      <td>guccipradas</td>\n",
       "      <td>Hardcore Harbinger</td>\n",
       "    </tr>\n",
       "    <tr>\n",
       "      <th>3</th>\n",
       "      <td>1</td>\n",
       "      <td>False</td>\n",
       "      <td>False</td>\n",
       "      <td>ChiroxPrime</td>\n",
       "      <td>100</td>\n",
       "      <td>Slayer</td>\n",
       "      <td>c861372da792be0b22c45bf437ccd58437c52e9455e0bf...</td>\n",
       "      <td>4250334444</td>\n",
       "      <td>Chiroxun</td>\n",
       "      <td>26</td>\n",
       "      <td>NaN</td>\n",
       "      <td>SSF Harbinger</td>\n",
       "    </tr>\n",
       "    <tr>\n",
       "      <th>4</th>\n",
       "      <td>2</td>\n",
       "      <td>False</td>\n",
       "      <td>False</td>\n",
       "      <td>Cool_NecroIsFineNow</td>\n",
       "      <td>100</td>\n",
       "      <td>Deadeye</td>\n",
       "      <td>24ae924ceed7989ef3d3d6772612832bb467a6094352c7...</td>\n",
       "      <td>4250334444</td>\n",
       "      <td>cooltail</td>\n",
       "      <td>22</td>\n",
       "      <td>NaN</td>\n",
       "      <td>Harbinger</td>\n",
       "    </tr>\n",
       "  </tbody>\n",
       "</table>\n",
       "</div>"
      ],
      "text/plain": [
       "   rank   dead  online                    name  level        class  \\\n",
       "0     1  False   False      Tzn_NecroIsFineNow    100  Necromancer   \n",
       "1     1  False   False        RaizNeverFirstQT    100  Necromancer   \n",
       "2     1  False   False  GucciStreamerAdvantage    100  Necromancer   \n",
       "3     1  False   False             ChiroxPrime    100       Slayer   \n",
       "4     2  False   False     Cool_NecroIsFineNow    100      Deadeye   \n",
       "\n",
       "                                                  id  experience      account  \\\n",
       "0  3dcddd59f5088893f734f39686350990dae168cc4f4b00...  4250334444       TheTzn   \n",
       "1  8f3216db5ac9106c287a834731aafc83c387138f28fc45...  4250334444       RaizQT   \n",
       "2  c6ec2dae3855c551e0597c06ef2da06fbb5512487ded7f...  4250334444  GucciPradas   \n",
       "3  c861372da792be0b22c45bf437ccd58437c52e9455e0bf...  4250334444     Chiroxun   \n",
       "4  24ae924ceed7989ef3d3d6772612832bb467a6094352c7...  4250334444     cooltail   \n",
       "\n",
       "   challenges       twitch              ladder  \n",
       "0          40       thetzn           Harbinger  \n",
       "1          22       raizqt    SSF Harbinger HC  \n",
       "2          35  guccipradas  Hardcore Harbinger  \n",
       "3          26          NaN       SSF Harbinger  \n",
       "4          22          NaN           Harbinger  "
      ]
     },
     "execution_count": 2,
     "metadata": {},
     "output_type": "execute_result"
    }
   ],
   "source": [
    "df = data\n",
    "df.head()"
   ]
  },
  {
   "cell_type": "markdown",
   "id": "19d246a8",
   "metadata": {},
   "source": [
    "## Data summary"
   ]
  },
  {
   "cell_type": "code",
   "execution_count": 3,
   "id": "e84a0ea2",
   "metadata": {
    "ExecuteTime": {
     "end_time": "2024-03-06T11:54:07.706787Z",
     "start_time": "2024-03-06T11:54:07.670312Z"
    }
   },
   "outputs": [
    {
     "data": {
      "text/html": [
       "<div>\n",
       "<style scoped>\n",
       "    .dataframe tbody tr th:only-of-type {\n",
       "        vertical-align: middle;\n",
       "    }\n",
       "\n",
       "    .dataframe tbody tr th {\n",
       "        vertical-align: top;\n",
       "    }\n",
       "\n",
       "    .dataframe thead th {\n",
       "        text-align: right;\n",
       "    }\n",
       "</style>\n",
       "<table border=\"1\" class=\"dataframe\">\n",
       "  <thead>\n",
       "    <tr style=\"text-align: right;\">\n",
       "      <th></th>\n",
       "      <th>rank</th>\n",
       "      <th>level</th>\n",
       "      <th>experience</th>\n",
       "      <th>challenges</th>\n",
       "    </tr>\n",
       "  </thead>\n",
       "  <tbody>\n",
       "    <tr>\n",
       "      <th>count</th>\n",
       "      <td>59,776.00</td>\n",
       "      <td>59,776.00</td>\n",
       "      <td>59,776.00</td>\n",
       "      <td>59,776.00</td>\n",
       "    </tr>\n",
       "    <tr>\n",
       "      <th>mean</th>\n",
       "      <td>7,495.37</td>\n",
       "      <td>85.42</td>\n",
       "      <td>1,825,786,027.36</td>\n",
       "      <td>25.76</td>\n",
       "    </tr>\n",
       "    <tr>\n",
       "      <th>std</th>\n",
       "      <td>4,330.18</td>\n",
       "      <td>11.29</td>\n",
       "      <td>1,094,747,934.61</td>\n",
       "      <td>8.44</td>\n",
       "    </tr>\n",
       "    <tr>\n",
       "      <th>min</th>\n",
       "      <td>1.00</td>\n",
       "      <td>53.00</td>\n",
       "      <td>77,909,816.00</td>\n",
       "      <td>4.00</td>\n",
       "    </tr>\n",
       "    <tr>\n",
       "      <th>25%</th>\n",
       "      <td>3,745.00</td>\n",
       "      <td>78.00</td>\n",
       "      <td>777,469,746.25</td>\n",
       "      <td>19.00</td>\n",
       "    </tr>\n",
       "    <tr>\n",
       "      <th>50%</th>\n",
       "      <td>7,492.00</td>\n",
       "      <td>90.00</td>\n",
       "      <td>1,934,009,687.00</td>\n",
       "      <td>25.00</td>\n",
       "    </tr>\n",
       "    <tr>\n",
       "      <th>75%</th>\n",
       "      <td>11,247.00</td>\n",
       "      <td>95.00</td>\n",
       "      <td>2,876,116,901.00</td>\n",
       "      <td>33.00</td>\n",
       "    </tr>\n",
       "    <tr>\n",
       "      <th>max</th>\n",
       "      <td>15,000.00</td>\n",
       "      <td>100.00</td>\n",
       "      <td>4,250,334,444.00</td>\n",
       "      <td>40.00</td>\n",
       "    </tr>\n",
       "  </tbody>\n",
       "</table>\n",
       "</div>"
      ],
      "text/plain": [
       "           rank     level       experience  challenges\n",
       "count 59,776.00 59,776.00        59,776.00   59,776.00\n",
       "mean   7,495.37     85.42 1,825,786,027.36       25.76\n",
       "std    4,330.18     11.29 1,094,747,934.61        8.44\n",
       "min        1.00     53.00    77,909,816.00        4.00\n",
       "25%    3,745.00     78.00   777,469,746.25       19.00\n",
       "50%    7,492.00     90.00 1,934,009,687.00       25.00\n",
       "75%   11,247.00     95.00 2,876,116,901.00       33.00\n",
       "max   15,000.00    100.00 4,250,334,444.00       40.00"
      ]
     },
     "execution_count": 3,
     "metadata": {},
     "output_type": "execute_result"
    }
   ],
   "source": [
    "# options about float\n",
    "\n",
    "pd.options.display.float_format = '{:,.2f}'.format\n",
    "df.describe()"
   ]
  },
  {
   "cell_type": "code",
   "execution_count": 4,
   "id": "dc8a95b3",
   "metadata": {
    "ExecuteTime": {
     "end_time": "2024-03-06T11:54:07.934306Z",
     "start_time": "2024-03-06T11:54:07.711980Z"
    }
   },
   "outputs": [
    {
     "data": {
      "text/html": [
       "<div>\n",
       "<style scoped>\n",
       "    .dataframe tbody tr th:only-of-type {\n",
       "        vertical-align: middle;\n",
       "    }\n",
       "\n",
       "    .dataframe tbody tr th {\n",
       "        vertical-align: top;\n",
       "    }\n",
       "\n",
       "    .dataframe thead th {\n",
       "        text-align: right;\n",
       "    }\n",
       "</style>\n",
       "<table border=\"1\" class=\"dataframe\">\n",
       "  <thead>\n",
       "    <tr style=\"text-align: right;\">\n",
       "      <th></th>\n",
       "      <th>name</th>\n",
       "      <th>class</th>\n",
       "      <th>id</th>\n",
       "      <th>account</th>\n",
       "      <th>twitch</th>\n",
       "      <th>ladder</th>\n",
       "    </tr>\n",
       "  </thead>\n",
       "  <tbody>\n",
       "    <tr>\n",
       "      <th>count</th>\n",
       "      <td>59776</td>\n",
       "      <td>59776</td>\n",
       "      <td>59776</td>\n",
       "      <td>59776</td>\n",
       "      <td>16300</td>\n",
       "      <td>59776</td>\n",
       "    </tr>\n",
       "    <tr>\n",
       "      <th>unique</th>\n",
       "      <td>58286</td>\n",
       "      <td>26</td>\n",
       "      <td>59776</td>\n",
       "      <td>37123</td>\n",
       "      <td>9613</td>\n",
       "      <td>4</td>\n",
       "    </tr>\n",
       "    <tr>\n",
       "      <th>top</th>\n",
       "      <td>_Flic_</td>\n",
       "      <td>Berserker</td>\n",
       "      <td>3dcddd59f5088893f734f39686350990dae168cc4f4b00...</td>\n",
       "      <td>chuz101</td>\n",
       "      <td>thespunkylobster</td>\n",
       "      <td>SSF Harbinger</td>\n",
       "    </tr>\n",
       "    <tr>\n",
       "      <th>freq</th>\n",
       "      <td>14</td>\n",
       "      <td>8711</td>\n",
       "      <td>1</td>\n",
       "      <td>30</td>\n",
       "      <td>18</td>\n",
       "      <td>14981</td>\n",
       "    </tr>\n",
       "  </tbody>\n",
       "</table>\n",
       "</div>"
      ],
      "text/plain": [
       "          name      class                                                 id  \\\n",
       "count    59776      59776                                              59776   \n",
       "unique   58286         26                                              59776   \n",
       "top     _Flic_  Berserker  3dcddd59f5088893f734f39686350990dae168cc4f4b00...   \n",
       "freq        14       8711                                                  1   \n",
       "\n",
       "        account            twitch         ladder  \n",
       "count     59776             16300          59776  \n",
       "unique    37123              9613              4  \n",
       "top     chuz101  thespunkylobster  SSF Harbinger  \n",
       "freq         30                18          14981  "
      ]
     },
     "execution_count": 4,
     "metadata": {},
     "output_type": "execute_result"
    }
   ],
   "source": [
    "df.describe(include = 'object')"
   ]
  },
  {
   "cell_type": "code",
   "execution_count": 5,
   "id": "3182be3a",
   "metadata": {
    "ExecuteTime": {
     "end_time": "2024-03-06T11:54:08.004969Z",
     "start_time": "2024-03-06T11:54:07.937279Z"
    }
   },
   "outputs": [
    {
     "name": "stdout",
     "output_type": "stream",
     "text": [
      "<class 'pandas.core.frame.DataFrame'>\n",
      "RangeIndex: 59776 entries, 0 to 59775\n",
      "Data columns (total 12 columns):\n",
      " #   Column      Non-Null Count  Dtype \n",
      "---  ------      --------------  ----- \n",
      " 0   rank        59776 non-null  int64 \n",
      " 1   dead        59776 non-null  bool  \n",
      " 2   online      59776 non-null  bool  \n",
      " 3   name        59776 non-null  object\n",
      " 4   level       59776 non-null  int64 \n",
      " 5   class       59776 non-null  object\n",
      " 6   id          59776 non-null  object\n",
      " 7   experience  59776 non-null  int64 \n",
      " 8   account     59776 non-null  object\n",
      " 9   challenges  59776 non-null  int64 \n",
      " 10  twitch      16300 non-null  object\n",
      " 11  ladder      59776 non-null  object\n",
      "dtypes: bool(2), int64(4), object(6)\n",
      "memory usage: 4.7+ MB\n"
     ]
    }
   ],
   "source": [
    "df.info()"
   ]
  },
  {
   "cell_type": "markdown",
   "id": "4f6af92b",
   "metadata": {},
   "source": [
    "# 4. The average number of \"finished\" challenges \n",
    "---\n",
    "##### Q4. The average number of finished challenges for each division shows the division with the highest and lowest average challenges.\n",
    "\n",
    "This question is clear, thankfully. I'll separate the division and calculate the average challenges.  \n",
    "But we have to think about the word \"finished\". \"finished\" challenges would mean \"dead\" characters, but there are no dead characters in the modes which are not 'Hardcore' mode.  \n",
    "\n",
    "So I got the values with 'dead' characters in HC modes('Hardcore Harbinger', 'SSF Harbinger HC') and got the values with all characters in other modes. \n",
    "\n",
    "## 4-1. challenges distribution\n",
    "First, let's see the average, maximum and minimum number of challenges."
   ]
  },
  {
   "cell_type": "code",
   "execution_count": 6,
   "id": "25aee142",
   "metadata": {
    "ExecuteTime": {
     "end_time": "2024-03-06T11:54:08.029950Z",
     "start_time": "2024-03-06T11:54:08.008296Z"
    }
   },
   "outputs": [
    {
     "data": {
      "text/html": [
       "<div>\n",
       "<style scoped>\n",
       "    .dataframe tbody tr th:only-of-type {\n",
       "        vertical-align: middle;\n",
       "    }\n",
       "\n",
       "    .dataframe tbody tr th {\n",
       "        vertical-align: top;\n",
       "    }\n",
       "\n",
       "    .dataframe thead tr th {\n",
       "        text-align: left;\n",
       "    }\n",
       "\n",
       "    .dataframe thead tr:last-of-type th {\n",
       "        text-align: right;\n",
       "    }\n",
       "</style>\n",
       "<table border=\"1\" class=\"dataframe\">\n",
       "  <thead>\n",
       "    <tr>\n",
       "      <th></th>\n",
       "      <th colspan=\"3\" halign=\"left\">challenges</th>\n",
       "    </tr>\n",
       "    <tr>\n",
       "      <th></th>\n",
       "      <th>mean</th>\n",
       "      <th>max</th>\n",
       "      <th>min</th>\n",
       "    </tr>\n",
       "    <tr>\n",
       "      <th>ladder</th>\n",
       "      <th></th>\n",
       "      <th></th>\n",
       "      <th></th>\n",
       "    </tr>\n",
       "  </thead>\n",
       "  <tbody>\n",
       "    <tr>\n",
       "      <th>Harbinger</th>\n",
       "      <td>33.47</td>\n",
       "      <td>40</td>\n",
       "      <td>13</td>\n",
       "    </tr>\n",
       "    <tr>\n",
       "      <th>Hardcore Harbinger</th>\n",
       "      <td>27.17</td>\n",
       "      <td>40</td>\n",
       "      <td>8</td>\n",
       "    </tr>\n",
       "    <tr>\n",
       "      <th>SSF Harbinger</th>\n",
       "      <td>22.15</td>\n",
       "      <td>40</td>\n",
       "      <td>9</td>\n",
       "    </tr>\n",
       "    <tr>\n",
       "      <th>SSF Harbinger HC</th>\n",
       "      <td>20.29</td>\n",
       "      <td>40</td>\n",
       "      <td>4</td>\n",
       "    </tr>\n",
       "  </tbody>\n",
       "</table>\n",
       "</div>"
      ],
      "text/plain": [
       "                   challenges        \n",
       "                         mean max min\n",
       "ladder                               \n",
       "Harbinger               33.47  40  13\n",
       "Hardcore Harbinger      27.17  40   8\n",
       "SSF Harbinger           22.15  40   9\n",
       "SSF Harbinger HC        20.29  40   4"
      ]
     },
     "execution_count": 6,
     "metadata": {},
     "output_type": "execute_result"
    }
   ],
   "source": [
    "# simple avg, max and min about all characters\n",
    "df.groupby(by = 'ladder')[['challenges']].agg(['mean', 'max', 'min'])"
   ]
  },
  {
   "cell_type": "markdown",
   "id": "5f5be288",
   "metadata": {},
   "source": [
    "#### [graph 4-1] Violin plot about Challenges by ladder"
   ]
  },
  {
   "cell_type": "code",
   "execution_count": 7,
   "id": "c2cd182a",
   "metadata": {
    "ExecuteTime": {
     "end_time": "2024-03-06T11:54:08.581273Z",
     "start_time": "2024-03-06T11:54:08.032324Z"
    }
   },
   "outputs": [
    {
     "data": {
      "image/png": "[encoded data removed]",
      "text/plain": [
       "<Figure size 432x288 with 1 Axes>"
      ]
     },
     "metadata": {
      "needs_background": "light"
     },
     "output_type": "display_data"
    }
   ],
   "source": [
    "# visualizing the average\n",
    "plt.rcParams[\"figure.figsize\"] = (6, 6)\n",
    "sns.violinplot(data = df.sort_values(by = 'ladder'), x = 'ladder', y = 'challenges', palette = 'Paired')\n",
    "plt.xticks(ticks = [i for i in range(4)], labels = ['Har', 'HC Har', 'SSF Har', 'SSF Har HC'])\n",
    "\n",
    "plt.show()"
   ]
  },
  {
   "cell_type": "code",
   "execution_count": 8,
   "id": "6e85aeb8",
   "metadata": {
    "ExecuteTime": {
     "end_time": "2024-03-06T11:54:08.609617Z",
     "start_time": "2024-03-06T11:54:08.586171Z"
    }
   },
   "outputs": [
    {
     "name": "stdout",
     "output_type": "stream",
     "text": [
      "20581\n",
      "50480\n"
     ]
    }
   ],
   "source": [
    "# data preparing\n",
    "# if not HC mode, commit the dead column\n",
    "\n",
    "df1 = df[['dead', 'ladder', 'challenges']].copy()\n",
    "print(df1['dead'].sum())\n",
    "df1.loc[df1['ladder'] == 'Harbinger', 'dead'] = True\n",
    "df1.loc[df1['ladder'] == 'SSF Harbinger', 'dead'] = True\n",
    "print(df1['dead'].sum())"
   ]
  },
  {
   "cell_type": "markdown",
   "id": "cc08ef5e",
   "metadata": {},
   "source": [
    "## [Answer]: highest and lowest average challenge of finished challenge by division\n",
    "where is highest and lowest average? "
   ]
  },
  {
   "cell_type": "code",
   "execution_count": 9,
   "id": "649eb8d8",
   "metadata": {
    "ExecuteTime": {
     "end_time": "2024-03-06T11:54:08.645260Z",
     "start_time": "2024-03-06T11:54:08.613692Z"
    }
   },
   "outputs": [
    {
     "data": {
      "text/html": [
       "<div>\n",
       "<style scoped>\n",
       "    .dataframe tbody tr th:only-of-type {\n",
       "        vertical-align: middle;\n",
       "    }\n",
       "\n",
       "    .dataframe tbody tr th {\n",
       "        vertical-align: top;\n",
       "    }\n",
       "\n",
       "    .dataframe thead th {\n",
       "        text-align: right;\n",
       "    }\n",
       "</style>\n",
       "<table border=\"1\" class=\"dataframe\">\n",
       "  <thead>\n",
       "    <tr style=\"text-align: right;\">\n",
       "      <th></th>\n",
       "      <th>mean</th>\n",
       "      <th>max</th>\n",
       "      <th>min</th>\n",
       "    </tr>\n",
       "    <tr>\n",
       "      <th>ladder</th>\n",
       "      <th></th>\n",
       "      <th></th>\n",
       "      <th></th>\n",
       "    </tr>\n",
       "  </thead>\n",
       "  <tbody>\n",
       "    <tr>\n",
       "      <th>Harbinger</th>\n",
       "      <td>33.47</td>\n",
       "      <td>40</td>\n",
       "      <td>13</td>\n",
       "    </tr>\n",
       "    <tr>\n",
       "      <th>Hardcore Harbinger</th>\n",
       "      <td>27.23</td>\n",
       "      <td>40</td>\n",
       "      <td>12</td>\n",
       "    </tr>\n",
       "    <tr>\n",
       "      <th>SSF Harbinger</th>\n",
       "      <td>22.15</td>\n",
       "      <td>40</td>\n",
       "      <td>9</td>\n",
       "    </tr>\n",
       "    <tr>\n",
       "      <th>SSF Harbinger HC</th>\n",
       "      <td>19.97</td>\n",
       "      <td>40</td>\n",
       "      <td>4</td>\n",
       "    </tr>\n",
       "  </tbody>\n",
       "</table>\n",
       "</div>"
      ],
      "text/plain": [
       "                    mean  max  min\n",
       "ladder                            \n",
       "Harbinger          33.47   40   13\n",
       "Hardcore Harbinger 27.23   40   12\n",
       "SSF Harbinger      22.15   40    9\n",
       "SSF Harbinger HC   19.97   40    4"
      ]
     },
     "execution_count": 9,
     "metadata": {},
     "output_type": "execute_result"
    }
   ],
   "source": [
    "df1[df1['dead'] == True].groupby('ladder')['challenges']\\\n",
    ".agg(['mean', 'max', 'min']).sort_values(['mean'], ascending = False)"
   ]
  },
  {
   "cell_type": "code",
   "execution_count": 10,
   "id": "e4b40daf",
   "metadata": {
    "ExecuteTime": {
     "end_time": "2024-03-06T11:54:08.700530Z",
     "start_time": "2024-03-06T11:54:08.660018Z"
    }
   },
   "outputs": [
    {
     "name": "stdout",
     "output_type": "stream",
     "text": [
      "Highest average challenges: Harbinger\n",
      "Lowest average challenges: SSF Harbinger HC\n"
     ]
    }
   ],
   "source": [
    "print('Highest average challenges:', \n",
    "      df1[df1['dead'] == True].groupby('ladder')['challenges']\\\n",
    "      .agg(['mean', 'max', 'min']).sort_values(['mean'], ascending = False).index[0])\n",
    "print('Lowest average challenges:', \n",
    "      df1[df1['dead'] == True].groupby('ladder')['challenges']\\\n",
    "      .agg(['mean', 'max', 'min']).sort_values(['mean'], ascending = False).index[-1])"
   ]
  },
  {
   "cell_type": "markdown",
   "id": "50298dea",
   "metadata": {},
   "source": [
    "## 4-2. results:\n",
    "The challenge numbers are lower in Hardcore mode. SSF modes are lower than other modes.  \n",
    "\n",
    "1. Hardcore mode has characters' death. Therefore they must be stopped one day. So they'll do their best carefully and harder each time of challenge. (It means each challenge is burdensome and stressful.)  \n",
    "2. It seems single-player modes are more exhausting than multi-player modes. There are no motivating factors except himself and his results. They fight all by themselves without any allies. Maybe it makes them give up on doing it 'one more time'.  \n",
    "\n",
    "Actually, these are regardless of the numbers above. The insight-able result needs more knowledge of the game. I'm bad to couldn't imagine the gap between one or two times challenges. If you know about this, please write a comment, I'd really appreciate that.  "
   ]
  },
  {
   "cell_type": "markdown",
   "id": "e1f190a0",
   "metadata": {},
   "source": [
    "# 5. Is the class of the dead characters related to level?\n",
    "---\n",
    "##### Q5. Show dependency between level and class of dead characters. Only for HC divisions.\n",
    "**Show dependency between level and class of died characters. Only for HC divisions.**\n",
    "\n",
    "I thought deeply about the question. *Does 'Show dependency ~' this phrase already suppose that the level and class have a dependency on each other before analyzing so far?*\n",
    "So I tried to judge by some statistical methods whether they have a dependency. Then I explained(showed) it using logic about the game and stat results.\n",
    "\n",
    "If I were a game data analyst, after a little more deeply thinking about this question, I would understand this question as the relation between the dead characters' class and the level. And I assumed that the intention of it is searching for some reason why the dead characters are dead. \n",
    "\n",
    "One of the ideas that came up as a thinking might have been a level or class issue. Maybe it was digging into only Hardcore modes to solve a problem in limited data. Because this data is limiting for analyzing the in-game situations(like losing HP or environment) or numerous combinations of skills and equipment.\n",
    "\n",
    "Someone can think that the death is related to just level(user's ability), maybe the class is the problem or both. However, I think this is something to be careful about in the process of asking questions before understanding the analysis properly. It can be a meaningless analysis that gets biased answers or rechecks the predicted results If we rely on predictions without careful planning. Death is just 'the death' and it could be related to just one of them or neither, we have to be beware when analyzing a problem kind of this.\n",
    "For example, even if there's a relation between them, it is possible that the relationship is caused by the difficulty of piloting the class, regardless of the class's performance(It might be the problem between 'class' and 'level' which is discovered in every 'ladder'.).\n",
    "\n",
    "In other words, the analysis of this question is not the end. It can be an insufficient question to make a decision and I think it is a step in the analysis process of big flows. The interpretation of this question and analysis I think is as follows.\n",
    "\n",
    "- If there is a correlation between level and class in dead characters, we can start to look for something that could reveal the end(death) of the characters by analyzing relativeness with level or class.\n",
    "- On the other hand, if there's no or low dependency between level and class, we can only know that the preference by level about the classes in HC mode(especially for dead characters) doesn't exist. (It could be called a 'well-balanced' game which not makes users' resist or favoritism.)\n",
    "\n",
    "Before checking the dependency, I looked at some of the levels and classes statistically for the dead characters.\n",
    "\n",
    "---\n",
    "\n",
    "The methods which can get the dependency,\n",
    "1. getting a correlation between level and class.\n",
    "2. comparing the average level by each class and one-way ANOVA(Kruskall-Wallis test)\n",
    "\n",
    "And I imagined also this: make a machine learning model with class and level, and watch whether the model can predict the class just with level! I'm a little bit sorry for the computer but the computer can't do that."
   ]
  },
  {
   "cell_type": "markdown",
   "id": "6f842503",
   "metadata": {},
   "source": [
    "## 5-1. distribution and data preprocessing\n",
    "### (1) ratio of dead characters\n",
    "\n",
    "I looked at the hardcore mode of the percentage of dead characters. It seems that the proportion of characters who haven't finished the long long battle yet is not small."
   ]
  },
  {
   "cell_type": "code",
   "execution_count": 11,
   "id": "56a93cd5",
   "metadata": {
    "ExecuteTime": {
     "end_time": "2024-03-06T11:54:08.736817Z",
     "start_time": "2024-03-06T11:54:08.705006Z"
    }
   },
   "outputs": [
    {
     "data": {
      "text/html": [
       "<div>\n",
       "<style scoped>\n",
       "    .dataframe tbody tr th:only-of-type {\n",
       "        vertical-align: middle;\n",
       "    }\n",
       "\n",
       "    .dataframe tbody tr th {\n",
       "        vertical-align: top;\n",
       "    }\n",
       "\n",
       "    .dataframe thead th {\n",
       "        text-align: right;\n",
       "    }\n",
       "</style>\n",
       "<table border=\"1\" class=\"dataframe\">\n",
       "  <thead>\n",
       "    <tr style=\"text-align: right;\">\n",
       "      <th></th>\n",
       "      <th>dead</th>\n",
       "    </tr>\n",
       "    <tr>\n",
       "      <th>ladder</th>\n",
       "      <th></th>\n",
       "    </tr>\n",
       "  </thead>\n",
       "  <tbody>\n",
       "    <tr>\n",
       "      <th>Hardcore Harbinger</th>\n",
       "      <td>0.63</td>\n",
       "    </tr>\n",
       "    <tr>\n",
       "      <th>SSF Harbinger HC</th>\n",
       "      <td>0.74</td>\n",
       "    </tr>\n",
       "  </tbody>\n",
       "</table>\n",
       "</div>"
      ],
      "text/plain": [
       "                    dead\n",
       "ladder                  \n",
       "Hardcore Harbinger  0.63\n",
       "SSF Harbinger HC    0.74"
      ]
     },
     "execution_count": 11,
     "metadata": {},
     "output_type": "execute_result"
    }
   ],
   "source": [
    "# dataframe contains only hardcore modes\n",
    "df_hc = df.loc[df['ladder'].isin(['SSF Harbinger HC', 'Hardcore Harbinger'])]\n",
    "\n",
    "# dead characters rate\n",
    "df_hc.pivot_table(index = 'ladder', values = 'dead')"
   ]
  },
  {
   "cell_type": "markdown",
   "id": "318563ec",
   "metadata": {},
   "source": [
    "### (2) all/dead characters’ level distribution in Hardcore mode"
   ]
  },
  {
   "cell_type": "code",
   "execution_count": 12,
   "id": "992b0d33",
   "metadata": {
    "ExecuteTime": {
     "end_time": "2024-03-06T11:54:08.767104Z",
     "start_time": "2024-03-06T11:54:08.742223Z"
    }
   },
   "outputs": [
    {
     "data": {
      "text/html": [
       "<div>\n",
       "<style scoped>\n",
       "    .dataframe tbody tr th:only-of-type {\n",
       "        vertical-align: middle;\n",
       "    }\n",
       "\n",
       "    .dataframe tbody tr th {\n",
       "        vertical-align: top;\n",
       "    }\n",
       "\n",
       "    .dataframe thead th {\n",
       "        text-align: right;\n",
       "    }\n",
       "</style>\n",
       "<table border=\"1\" class=\"dataframe\">\n",
       "  <thead>\n",
       "    <tr style=\"text-align: right;\">\n",
       "      <th></th>\n",
       "      <th>all</th>\n",
       "      <th>dead</th>\n",
       "    </tr>\n",
       "  </thead>\n",
       "  <tbody>\n",
       "    <tr>\n",
       "      <th>count</th>\n",
       "      <td>29,877.00</td>\n",
       "      <td>20,581.00</td>\n",
       "    </tr>\n",
       "    <tr>\n",
       "      <th>mean</th>\n",
       "      <td>81.47</td>\n",
       "      <td>80.23</td>\n",
       "    </tr>\n",
       "    <tr>\n",
       "      <th>std</th>\n",
       "      <td>12.78</td>\n",
       "      <td>13.03</td>\n",
       "    </tr>\n",
       "    <tr>\n",
       "      <th>min</th>\n",
       "      <td>53.00</td>\n",
       "      <td>53.00</td>\n",
       "    </tr>\n",
       "    <tr>\n",
       "      <th>25%</th>\n",
       "      <td>71.00</td>\n",
       "      <td>69.00</td>\n",
       "    </tr>\n",
       "    <tr>\n",
       "      <th>50%</th>\n",
       "      <td>89.00</td>\n",
       "      <td>88.00</td>\n",
       "    </tr>\n",
       "    <tr>\n",
       "      <th>75%</th>\n",
       "      <td>91.00</td>\n",
       "      <td>91.00</td>\n",
       "    </tr>\n",
       "    <tr>\n",
       "      <th>max</th>\n",
       "      <td>100.00</td>\n",
       "      <td>100.00</td>\n",
       "    </tr>\n",
       "  </tbody>\n",
       "</table>\n",
       "</div>"
      ],
      "text/plain": [
       "            all      dead\n",
       "count 29,877.00 20,581.00\n",
       "mean      81.47     80.23\n",
       "std       12.78     13.03\n",
       "min       53.00     53.00\n",
       "25%       71.00     69.00\n",
       "50%       89.00     88.00\n",
       "75%       91.00     91.00\n",
       "max      100.00    100.00"
      ]
     },
     "execution_count": 12,
     "metadata": {},
     "output_type": "execute_result"
    }
   ],
   "source": [
    "a = df_hc['level'].describe().rename('a')\n",
    "d = df_hc[df_hc['dead'] == True]['level'].describe().rename('d')\n",
    "ad = pd.concat([a, d], axis = 1)\n",
    "ad.rename(columns = {'a':'all', 'd':'dead'}, inplace = True)\n",
    "ad"
   ]
  },
  {
   "cell_type": "markdown",
   "id": "ece1d536",
   "metadata": {},
   "source": [
    "We looked at the level distribution of dead characters. 80 is the average, and the median is about 88. As a result of checking with the graph, it is distributed a lot in the high level section.  \n",
    "\n",
    "If you think this game mode itself is a \"challenging place, a place to test limits,\" it is no wonder that most characters have high levels. As you see in the values of ‘all’ characters in the mode, it's not because of the high level, but because there are many high-level characters who are challenging the mode.  "
   ]
  },
  {
   "cell_type": "code",
   "execution_count": 13,
   "id": "a113bbe3",
   "metadata": {
    "ExecuteTime": {
     "end_time": "2024-03-06T11:54:09.258455Z",
     "start_time": "2024-03-06T11:54:08.770736Z"
    }
   },
   "outputs": [
    {
     "data": {
      "image/png": "[encoded data removed]",
      "text/plain": [
       "<Figure size 432x288 with 1 Axes>"
      ]
     },
     "metadata": {},
     "output_type": "display_data"
    }
   ],
   "source": [
    "# dead characters data frame with the level data\n",
    "df_dead = df_hc.loc[df['dead'] == True][['class', 'level']]\n",
    "\n",
    "\n",
    "plt.rcParams[\"font.family\"] = 'AppleGothic'\n",
    "plt.rcParams[\"font.size\"] = 10\n",
    "plt.style.use(\"seaborn-whitegrid\")\n",
    "plt.rcParams['axes.facecolor']='white'\n",
    "\n",
    "plt.figure(figsize = (6, 4))\n",
    "sns.histplot(x = df_dead['level'], palette = 'Paired', kde = True)\n",
    "plt.title(\"level of dead characters in Hardcore mode\")\n",
    "plt.show()"
   ]
  },
  {
   "cell_type": "markdown",
   "id": "54c26a56",
   "metadata": {},
   "source": [
    "Many people already know that **the minimum 'level'** of users in each mode is 53 before reaching this question.\n",
    "\n",
    "<br>\n",
    "\n",
    "### (3) Average level of dead characters by class\n",
    "I visualized the average level of dead characters by class."
   ]
  },
  {
   "cell_type": "code",
   "execution_count": 14,
   "id": "b268a9a9",
   "metadata": {
    "ExecuteTime": {
     "end_time": "2024-03-06T11:54:09.587364Z",
     "start_time": "2024-03-06T11:54:09.263309Z"
    }
   },
   "outputs": [
    {
     "data": {
      "image/png": "[encoded data removed]",
      "text/plain": [
       "<Figure size 432x288 with 1 Axes>"
      ]
     },
     "metadata": {},
     "output_type": "display_data"
    }
   ],
   "source": [
    "plt.figure(figsize = (6, 4))\n",
    "plt.xticks(rotation = 90)\n",
    "plt.ylim(50, 100)\n",
    "df_hc_lev_mean = df_dead.groupby('class')[['level']].mean()\n",
    "sns.barplot(data = df_hc_lev_mean, x = df_hc_lev_mean.index, y = 'level')\n",
    "plt.show()"
   ]
  },
  {
   "cell_type": "markdown",
   "id": "e6762ddc",
   "metadata": {},
   "source": [
    "### (4) **About the average graph, and the important point: Ascendancy Classes and Pre-Ascendancy Classes**\n",
    "\n",
    "##### What we know from the graph: **The average level of Duelist, Marauder, Ranger, Scion, Templar and Witch is markedly small.**  \n",
    "As you know, 'Duelist', 'Marauder', 'Ranger', 'Scion', 'Templar', and 'Witch' are <span style=\"color:limegreen\">*__root classes__*</span>*(I named 'Pre-Ascendancy Classes'. I’ll use this name in this documents.)* of 19 <span style=\"color:hotpink\">*__Ascendancy classes__*</span>.  \n",
    "To add to the explanation, it probably has differences between all of these classes. Perhaps if we do ANOVA with all of these classes, it will be different, and if we do all the post-hoc comparison results, we will see a difference in these classes(especially with root classes).  \n",
    "\n",
    "In other words, some classes' level is indeed lower, strictly speaking, but I don't think that means exactly ‘level’ correlates with ‘class’. The point is, I thought the questioner didn't make the question to ask an easy question.    \n",
    "It just seems each mode had a constraint on the level to enter the mode, and the minimum level for who could play the modes is inferred 53.  \n",
    "\n",
    "<br>\n",
    " As [Path Of Exile Official documents](https://www.pathofexile.com/ascendancy/classes), \"Upon completing the Lord's Labyrinth for the first time, you can pick an Ascendancy class from one of the three available for your class. The first time you complete the Labyrinth on each difficulty, you will receive two Ascendancy Points for its skill tree.\".\n",
    "\n",
    "I tried setting the skill trees for this part on the official homepage, and I found it has high degrees of freedom. In other words, most of them are playing games in a changed class(Ascendancy class) to meet the utility(or performance) they want. \n",
    "\n",
    "<br>\n",
    "Of the approximately 30,000 rank data, it makes sense that the 293 root class characters in this ranking list have a lower average. They just didn't finish the Labyrinth. Their level will be higher than this when they finish the Labyrinth and be the ascendancy classes. Of course, they are indeed excellent at playing POE because they’re ranked with other ascendancy classes.  \n",
    "\n",
    "<br>\n",
    "If we are the game data analyst, we must keep in view whether their level(lv.53) and the class is \"by their will or not\".  \n",
    "The probability of a case that some aces(People with higher skills than the level indicated by numbers) play the game with root classes for fun or desire. And it would be that some aces can play the game without applying the \"Ascendency Point\" they get after completing the maze to play at a difficult level.  \n",
    "\n",
    "_From the perspective of gamers, if we think a little more, we could notice that the case would be there considerably much that already experienced users want to get a high rank with a fresh character for some reason.\n",
    "(And when their class is matched with popular classes in the version(patch) of the game... The possibility that a scenario would be right is high.-for example, specific classes are over-power in the mode-)_\n",
    "\n",
    "---\n",
    "\n",
    "\n",
    "Anyway, because I had to prove whether it was dependent I did an Kruskal-Wallis H test. \\ (^0^\\ ) =33  \n",
    "And you'll see \"Kruskal-Wallis test\" written in some places throughout the notes instead of \"ANOVA\" for the reason that the data did not satisfy the assumptions of normality and equality of variances. Please keep this in mind!"
   ]
  },
  {
   "cell_type": "markdown",
   "id": "17a555e2",
   "metadata": {},
   "source": [
    "### analysis process plan:\n",
    "I set the plan like this above:\n",
    "1. getting a correlation between level and class.\n",
    "2. comparing the average level by each class and ANOVA(Kruskall-Wallis test)\n",
    "\n",
    "But! I noticed the problem with the level diff between Ascendancy classes and root classes. So I decided to divide the plan like this:\n",
    "\n",
    "1. correlation [5-1-(5)]\n",
    "    1. regardless of *root classes*\n",
    "    2. without *root classes*\n",
    "2. Kruskall-Wallis test [5-2, 5-3]\n",
    "    1. regardless of *root classes*\n",
    "    2. without *root classes*\n",
    "3. (additional analysis) grouping all by *root classes* to 7 clusters. [5-4]\n",
    "    1. correlation\n",
    "    2. Kruskall-Wallis test\n",
    "\n",
    "And I'll proceed following the process plan."
   ]
  },
  {
   "cell_type": "code",
   "execution_count": 15,
   "id": "9e237c34",
   "metadata": {
    "ExecuteTime": {
     "end_time": "2024-03-06T11:54:09.871597Z",
     "start_time": "2024-03-06T11:54:09.843925Z"
    },
    "scrolled": true
   },
   "outputs": [
    {
     "data": {
      "text/html": [
       "<div>\n",
       "<style scoped>\n",
       "    .dataframe tbody tr th:only-of-type {\n",
       "        vertical-align: middle;\n",
       "    }\n",
       "\n",
       "    .dataframe tbody tr th {\n",
       "        vertical-align: top;\n",
       "    }\n",
       "\n",
       "    .dataframe thead th {\n",
       "        text-align: right;\n",
       "    }\n",
       "</style>\n",
       "<table border=\"1\" class=\"dataframe\">\n",
       "  <thead>\n",
       "    <tr style=\"text-align: right;\">\n",
       "      <th></th>\n",
       "      <th>root_classes</th>\n",
       "      <th>Ascd_classes</th>\n",
       "      <th>all</th>\n",
       "    </tr>\n",
       "  </thead>\n",
       "  <tbody>\n",
       "    <tr>\n",
       "      <th>count</th>\n",
       "      <td>321.00</td>\n",
       "      <td>20,260.00</td>\n",
       "      <td>20,581.00</td>\n",
       "    </tr>\n",
       "    <tr>\n",
       "      <th>mean</th>\n",
       "      <td>59.79</td>\n",
       "      <td>80.55</td>\n",
       "      <td>80.23</td>\n",
       "    </tr>\n",
       "    <tr>\n",
       "      <th>std</th>\n",
       "      <td>6.44</td>\n",
       "      <td>12.85</td>\n",
       "      <td>13.03</td>\n",
       "    </tr>\n",
       "    <tr>\n",
       "      <th>min</th>\n",
       "      <td>53.00</td>\n",
       "      <td>53.00</td>\n",
       "      <td>53.00</td>\n",
       "    </tr>\n",
       "    <tr>\n",
       "      <th>25%</th>\n",
       "      <td>55.00</td>\n",
       "      <td>70.00</td>\n",
       "      <td>69.00</td>\n",
       "    </tr>\n",
       "    <tr>\n",
       "      <th>50%</th>\n",
       "      <td>58.00</td>\n",
       "      <td>89.00</td>\n",
       "      <td>88.00</td>\n",
       "    </tr>\n",
       "    <tr>\n",
       "      <th>75%</th>\n",
       "      <td>63.00</td>\n",
       "      <td>91.00</td>\n",
       "      <td>91.00</td>\n",
       "    </tr>\n",
       "    <tr>\n",
       "      <th>max</th>\n",
       "      <td>89.00</td>\n",
       "      <td>100.00</td>\n",
       "      <td>100.00</td>\n",
       "    </tr>\n",
       "  </tbody>\n",
       "</table>\n",
       "</div>"
      ],
      "text/plain": [
       "       root_classes  Ascd_classes       all\n",
       "count        321.00     20,260.00 20,581.00\n",
       "mean          59.79         80.55     80.23\n",
       "std            6.44         12.85     13.03\n",
       "min           53.00         53.00     53.00\n",
       "25%           55.00         70.00     69.00\n",
       "50%           58.00         89.00     88.00\n",
       "75%           63.00         91.00     91.00\n",
       "max           89.00        100.00    100.00"
      ]
     },
     "execution_count": 15,
     "metadata": {},
     "output_type": "execute_result"
    }
   ],
   "source": [
    "# we can see the difference between 'Root classes' and 'Ascendancy classes'\n",
    "\n",
    "# 'root classes'\n",
    "rootclasses = ['Duelist', 'Marauder', 'Ranger', 'Scion', 'Shadow', 'Templar', 'Witch']\n",
    "\n",
    "# division01: not 'Ascending Classes' ('root classes')\n",
    "rt = df_dead.loc[df_dead['class'].isin(rootclasses)].describe()\n",
    "\n",
    "# division02: 'Ascending Classes'\n",
    "ac = df_dead.loc[~df_dead['class'].isin(rootclasses)].describe()\n",
    "\n",
    "# concatenating\n",
    "rtac = pd.concat([rt, ac, d], axis = 1)\n",
    "rtac.columns = ['root_classes', 'Ascd_classes', 'all']\n",
    "rtac"
   ]
  },
  {
   "cell_type": "markdown",
   "id": "ddc9c842",
   "metadata": {},
   "source": [
    "### (5) correlation from one-hot encoding data and a heatmap\n",
    "\n",
    "It's an ~~extreme~~ measure when want to see the correlation.\n",
    "\n",
    "I wanna see the results together if there're relations between some classes.\n",
    "\n",
    "---\n",
    "### correlation\n",
    "Get correlation matrix and heatmap with dummied classes columns. And visualizing the heatmap with correlation values.  \n",
    "\n",
    "#### get dummies to all class columns and only Ascendant class columns"
   ]
  },
  {
   "cell_type": "code",
   "execution_count": 16,
   "id": "aa9fd7f8",
   "metadata": {
    "ExecuteTime": {
     "end_time": "2024-03-06T11:54:10.262920Z",
     "start_time": "2024-03-06T11:54:10.223972Z"
    }
   },
   "outputs": [
    {
     "data": {
      "text/html": [
       "<div>\n",
       "<style scoped>\n",
       "    .dataframe tbody tr th:only-of-type {\n",
       "        vertical-align: middle;\n",
       "    }\n",
       "\n",
       "    .dataframe tbody tr th {\n",
       "        vertical-align: top;\n",
       "    }\n",
       "\n",
       "    .dataframe thead th {\n",
       "        text-align: right;\n",
       "    }\n",
       "</style>\n",
       "<table border=\"1\" class=\"dataframe\">\n",
       "  <thead>\n",
       "    <tr style=\"text-align: right;\">\n",
       "      <th></th>\n",
       "      <th>evel</th>\n",
       "      <th>Ascendant</th>\n",
       "      <th>Assassin</th>\n",
       "      <th>Berserker</th>\n",
       "      <th>Champion</th>\n",
       "      <th>Chieftain</th>\n",
       "      <th>Deadeye</th>\n",
       "      <th>Elementalist</th>\n",
       "      <th>Gladiator</th>\n",
       "      <th>Guardian</th>\n",
       "      <th>Hierophant</th>\n",
       "      <th>Inquisitor</th>\n",
       "      <th>Juggernaut</th>\n",
       "      <th>Necromancer</th>\n",
       "      <th>Occultist</th>\n",
       "      <th>Pathfinder</th>\n",
       "      <th>Raider</th>\n",
       "      <th>Saboteur</th>\n",
       "      <th>Slayer</th>\n",
       "      <th>Trickster</th>\n",
       "    </tr>\n",
       "  </thead>\n",
       "  <tbody>\n",
       "    <tr>\n",
       "      <th>15</th>\n",
       "      <td>100</td>\n",
       "      <td>0</td>\n",
       "      <td>0</td>\n",
       "      <td>0</td>\n",
       "      <td>0</td>\n",
       "      <td>0</td>\n",
       "      <td>0</td>\n",
       "      <td>0</td>\n",
       "      <td>0</td>\n",
       "      <td>0</td>\n",
       "      <td>0</td>\n",
       "      <td>0</td>\n",
       "      <td>0</td>\n",
       "      <td>0</td>\n",
       "      <td>0</td>\n",
       "      <td>0</td>\n",
       "      <td>1</td>\n",
       "      <td>0</td>\n",
       "      <td>0</td>\n",
       "      <td>0</td>\n",
       "    </tr>\n",
       "    <tr>\n",
       "      <th>24</th>\n",
       "      <td>100</td>\n",
       "      <td>0</td>\n",
       "      <td>0</td>\n",
       "      <td>0</td>\n",
       "      <td>0</td>\n",
       "      <td>0</td>\n",
       "      <td>0</td>\n",
       "      <td>0</td>\n",
       "      <td>0</td>\n",
       "      <td>0</td>\n",
       "      <td>0</td>\n",
       "      <td>0</td>\n",
       "      <td>0</td>\n",
       "      <td>1</td>\n",
       "      <td>0</td>\n",
       "      <td>0</td>\n",
       "      <td>0</td>\n",
       "      <td>0</td>\n",
       "      <td>0</td>\n",
       "      <td>0</td>\n",
       "    </tr>\n",
       "    <tr>\n",
       "      <th>32</th>\n",
       "      <td>100</td>\n",
       "      <td>0</td>\n",
       "      <td>0</td>\n",
       "      <td>0</td>\n",
       "      <td>0</td>\n",
       "      <td>0</td>\n",
       "      <td>0</td>\n",
       "      <td>0</td>\n",
       "      <td>0</td>\n",
       "      <td>0</td>\n",
       "      <td>0</td>\n",
       "      <td>0</td>\n",
       "      <td>0</td>\n",
       "      <td>0</td>\n",
       "      <td>0</td>\n",
       "      <td>0</td>\n",
       "      <td>0</td>\n",
       "      <td>0</td>\n",
       "      <td>1</td>\n",
       "      <td>0</td>\n",
       "    </tr>\n",
       "    <tr>\n",
       "      <th>48</th>\n",
       "      <td>100</td>\n",
       "      <td>0</td>\n",
       "      <td>0</td>\n",
       "      <td>0</td>\n",
       "      <td>0</td>\n",
       "      <td>0</td>\n",
       "      <td>0</td>\n",
       "      <td>0</td>\n",
       "      <td>0</td>\n",
       "      <td>0</td>\n",
       "      <td>0</td>\n",
       "      <td>0</td>\n",
       "      <td>0</td>\n",
       "      <td>0</td>\n",
       "      <td>1</td>\n",
       "      <td>0</td>\n",
       "      <td>0</td>\n",
       "      <td>0</td>\n",
       "      <td>0</td>\n",
       "      <td>0</td>\n",
       "    </tr>\n",
       "    <tr>\n",
       "      <th>77</th>\n",
       "      <td>99</td>\n",
       "      <td>0</td>\n",
       "      <td>0</td>\n",
       "      <td>0</td>\n",
       "      <td>0</td>\n",
       "      <td>0</td>\n",
       "      <td>0</td>\n",
       "      <td>0</td>\n",
       "      <td>0</td>\n",
       "      <td>0</td>\n",
       "      <td>0</td>\n",
       "      <td>0</td>\n",
       "      <td>0</td>\n",
       "      <td>1</td>\n",
       "      <td>0</td>\n",
       "      <td>0</td>\n",
       "      <td>0</td>\n",
       "      <td>0</td>\n",
       "      <td>0</td>\n",
       "      <td>0</td>\n",
       "    </tr>\n",
       "  </tbody>\n",
       "</table>\n",
       "</div>"
      ],
      "text/plain": [
       "    evel  Ascendant  Assassin  Berserker  Champion  Chieftain  Deadeye  \\\n",
       "15   100          0         0          0         0          0        0   \n",
       "24   100          0         0          0         0          0        0   \n",
       "32   100          0         0          0         0          0        0   \n",
       "48   100          0         0          0         0          0        0   \n",
       "77    99          0         0          0         0          0        0   \n",
       "\n",
       "    Elementalist  Gladiator  Guardian  Hierophant  Inquisitor  Juggernaut  \\\n",
       "15             0          0         0           0           0           0   \n",
       "24             0          0         0           0           0           0   \n",
       "32             0          0         0           0           0           0   \n",
       "48             0          0         0           0           0           0   \n",
       "77             0          0         0           0           0           0   \n",
       "\n",
       "    Necromancer  Occultist  Pathfinder  Raider  Saboteur  Slayer  Trickster  \n",
       "15            0          0           0       1         0       0          0  \n",
       "24            1          0           0       0         0       0          0  \n",
       "32            0          0           0       0         0       1          0  \n",
       "48            0          1           0       0         0       0          0  \n",
       "77            1          0           0       0         0       0          0  "
      ]
     },
     "execution_count": 16,
     "metadata": {},
     "output_type": "execute_result"
    }
   ],
   "source": [
    "df_deads_allonehot22 = pd.get_dummies(df_dead, drop_first = False)\n",
    "\n",
    "df_deads_aconehot22 = pd.get_dummies(df_dead.loc[~df_dead['class'].isin(rootclasses)], drop_first = False)\n",
    "\n",
    "df_deads_aconehot22.columns = df_deads_aconehot22.columns.str.lstrip('class_')\n",
    "\n",
    "df_deads_aconehot22.head(5)"
   ]
  },
  {
   "cell_type": "code",
   "execution_count": 17,
   "id": "34789aeb",
   "metadata": {
    "ExecuteTime": {
     "end_time": "2024-03-06T11:54:10.373507Z",
     "start_time": "2024-03-06T11:54:10.335923Z"
    }
   },
   "outputs": [
    {
     "data": {
      "text/html": [
       "<div>\n",
       "<style scoped>\n",
       "    .dataframe tbody tr th:only-of-type {\n",
       "        vertical-align: middle;\n",
       "    }\n",
       "\n",
       "    .dataframe tbody tr th {\n",
       "        vertical-align: top;\n",
       "    }\n",
       "\n",
       "    .dataframe thead th {\n",
       "        text-align: right;\n",
       "    }\n",
       "</style>\n",
       "<table border=\"1\" class=\"dataframe\">\n",
       "  <thead>\n",
       "    <tr style=\"text-align: right;\">\n",
       "      <th></th>\n",
       "      <th>level</th>\n",
       "      <th>Ascendant</th>\n",
       "      <th>Assassin</th>\n",
       "      <th>Berserker</th>\n",
       "      <th>Champion</th>\n",
       "      <th>Chieftain</th>\n",
       "      <th>Deadeye</th>\n",
       "      <th>Elementalist</th>\n",
       "      <th>Gladiator</th>\n",
       "      <th>Guardian</th>\n",
       "      <th>Hierophant</th>\n",
       "      <th>Inquisitor</th>\n",
       "      <th>Juggernaut</th>\n",
       "      <th>Necromancer</th>\n",
       "      <th>Occultist</th>\n",
       "      <th>Pathfinder</th>\n",
       "      <th>Raider</th>\n",
       "      <th>Saboteur</th>\n",
       "      <th>Slayer</th>\n",
       "      <th>Trickster</th>\n",
       "    </tr>\n",
       "  </thead>\n",
       "  <tbody>\n",
       "    <tr>\n",
       "      <th>15</th>\n",
       "      <td>100</td>\n",
       "      <td>0</td>\n",
       "      <td>0</td>\n",
       "      <td>0</td>\n",
       "      <td>0</td>\n",
       "      <td>0</td>\n",
       "      <td>0</td>\n",
       "      <td>0</td>\n",
       "      <td>0</td>\n",
       "      <td>0</td>\n",
       "      <td>0</td>\n",
       "      <td>0</td>\n",
       "      <td>0</td>\n",
       "      <td>0</td>\n",
       "      <td>0</td>\n",
       "      <td>0</td>\n",
       "      <td>1</td>\n",
       "      <td>0</td>\n",
       "      <td>0</td>\n",
       "      <td>0</td>\n",
       "    </tr>\n",
       "    <tr>\n",
       "      <th>24</th>\n",
       "      <td>100</td>\n",
       "      <td>0</td>\n",
       "      <td>0</td>\n",
       "      <td>0</td>\n",
       "      <td>0</td>\n",
       "      <td>0</td>\n",
       "      <td>0</td>\n",
       "      <td>0</td>\n",
       "      <td>0</td>\n",
       "      <td>0</td>\n",
       "      <td>0</td>\n",
       "      <td>0</td>\n",
       "      <td>0</td>\n",
       "      <td>1</td>\n",
       "      <td>0</td>\n",
       "      <td>0</td>\n",
       "      <td>0</td>\n",
       "      <td>0</td>\n",
       "      <td>0</td>\n",
       "      <td>0</td>\n",
       "    </tr>\n",
       "    <tr>\n",
       "      <th>32</th>\n",
       "      <td>100</td>\n",
       "      <td>0</td>\n",
       "      <td>0</td>\n",
       "      <td>0</td>\n",
       "      <td>0</td>\n",
       "      <td>0</td>\n",
       "      <td>0</td>\n",
       "      <td>0</td>\n",
       "      <td>0</td>\n",
       "      <td>0</td>\n",
       "      <td>0</td>\n",
       "      <td>0</td>\n",
       "      <td>0</td>\n",
       "      <td>0</td>\n",
       "      <td>0</td>\n",
       "      <td>0</td>\n",
       "      <td>0</td>\n",
       "      <td>0</td>\n",
       "      <td>1</td>\n",
       "      <td>0</td>\n",
       "    </tr>\n",
       "    <tr>\n",
       "      <th>48</th>\n",
       "      <td>100</td>\n",
       "      <td>0</td>\n",
       "      <td>0</td>\n",
       "      <td>0</td>\n",
       "      <td>0</td>\n",
       "      <td>0</td>\n",
       "      <td>0</td>\n",
       "      <td>0</td>\n",
       "      <td>0</td>\n",
       "      <td>0</td>\n",
       "      <td>0</td>\n",
       "      <td>0</td>\n",
       "      <td>0</td>\n",
       "      <td>0</td>\n",
       "      <td>1</td>\n",
       "      <td>0</td>\n",
       "      <td>0</td>\n",
       "      <td>0</td>\n",
       "      <td>0</td>\n",
       "      <td>0</td>\n",
       "    </tr>\n",
       "    <tr>\n",
       "      <th>77</th>\n",
       "      <td>99</td>\n",
       "      <td>0</td>\n",
       "      <td>0</td>\n",
       "      <td>0</td>\n",
       "      <td>0</td>\n",
       "      <td>0</td>\n",
       "      <td>0</td>\n",
       "      <td>0</td>\n",
       "      <td>0</td>\n",
       "      <td>0</td>\n",
       "      <td>0</td>\n",
       "      <td>0</td>\n",
       "      <td>0</td>\n",
       "      <td>1</td>\n",
       "      <td>0</td>\n",
       "      <td>0</td>\n",
       "      <td>0</td>\n",
       "      <td>0</td>\n",
       "      <td>0</td>\n",
       "      <td>0</td>\n",
       "    </tr>\n",
       "  </tbody>\n",
       "</table>\n",
       "</div>"
      ],
      "text/plain": [
       "    level  Ascendant  Assassin  Berserker  Champion  Chieftain  Deadeye  \\\n",
       "15    100          0         0          0         0          0        0   \n",
       "24    100          0         0          0         0          0        0   \n",
       "32    100          0         0          0         0          0        0   \n",
       "48    100          0         0          0         0          0        0   \n",
       "77     99          0         0          0         0          0        0   \n",
       "\n",
       "    Elementalist  Gladiator  Guardian  Hierophant  Inquisitor  Juggernaut  \\\n",
       "15             0          0         0           0           0           0   \n",
       "24             0          0         0           0           0           0   \n",
       "32             0          0         0           0           0           0   \n",
       "48             0          0         0           0           0           0   \n",
       "77             0          0         0           0           0           0   \n",
       "\n",
       "    Necromancer  Occultist  Pathfinder  Raider  Saboteur  Slayer  Trickster  \n",
       "15            0          0           0       1         0       0          0  \n",
       "24            1          0           0       0         0       0          0  \n",
       "32            0          0           0       0         0       1          0  \n",
       "48            0          1           0       0         0       0          0  \n",
       "77            1          0           0       0         0       0          0  "
      ]
     },
     "execution_count": 17,
     "metadata": {},
     "output_type": "execute_result"
    }
   ],
   "source": [
    "# all classes\n",
    "df_deads_allonehot = pd.get_dummies(df_dead, drop_first = False)\n",
    "df_deads_allonehot.columns = df_deads_allonehot.columns.str.lstrip('class_')\n",
    "df_deads_allonehot.rename(columns={'evel': 'level'}, inplace = True)    # small error with lstrip...\n",
    "\n",
    "# only Ascendency classes\n",
    "df_deads_aconehot = pd.get_dummies(df_dead.loc[~df_dead['class'].isin(rootclasses)], drop_first = False)\n",
    "df_deads_aconehot.columns = df_deads_aconehot.columns.str.lstrip('class_')\n",
    "df_deads_aconehot.rename(columns={'evel': 'level'}, inplace = True)\n",
    "\n",
    "df_deads_aconehot.head(5)"
   ]
  },
  {
   "cell_type": "code",
   "execution_count": 18,
   "id": "537541a9",
   "metadata": {
    "ExecuteTime": {
     "end_time": "2024-03-06T11:54:10.430455Z",
     "start_time": "2024-03-06T11:54:10.377823Z"
    },
    "scrolled": true
   },
   "outputs": [
    {
     "data": {
      "text/html": [
       "<div>\n",
       "<style scoped>\n",
       "    .dataframe tbody tr th:only-of-type {\n",
       "        vertical-align: middle;\n",
       "    }\n",
       "\n",
       "    .dataframe tbody tr th {\n",
       "        vertical-align: top;\n",
       "    }\n",
       "\n",
       "    .dataframe thead th {\n",
       "        text-align: right;\n",
       "    }\n",
       "</style>\n",
       "<table border=\"1\" class=\"dataframe\">\n",
       "  <thead>\n",
       "    <tr style=\"text-align: right;\">\n",
       "      <th></th>\n",
       "      <th>level</th>\n",
       "    </tr>\n",
       "  </thead>\n",
       "  <tbody>\n",
       "    <tr>\n",
       "      <th>level</th>\n",
       "      <td>1.00</td>\n",
       "    </tr>\n",
       "    <tr>\n",
       "      <th>Guardian</th>\n",
       "      <td>0.10</td>\n",
       "    </tr>\n",
       "    <tr>\n",
       "      <th>Berserker</th>\n",
       "      <td>0.05</td>\n",
       "    </tr>\n",
       "    <tr>\n",
       "      <th>Slayer</th>\n",
       "      <td>0.04</td>\n",
       "    </tr>\n",
       "    <tr>\n",
       "      <th>Pathfinder</th>\n",
       "      <td>0.04</td>\n",
       "    </tr>\n",
       "    <tr>\n",
       "      <th>Champion</th>\n",
       "      <td>0.04</td>\n",
       "    </tr>\n",
       "    <tr>\n",
       "      <th>Ascendant</th>\n",
       "      <td>0.03</td>\n",
       "    </tr>\n",
       "    <tr>\n",
       "      <th>Necromancer</th>\n",
       "      <td>0.02</td>\n",
       "    </tr>\n",
       "    <tr>\n",
       "      <th>Chieftain</th>\n",
       "      <td>0.02</td>\n",
       "    </tr>\n",
       "    <tr>\n",
       "      <th>Juggernaut</th>\n",
       "      <td>0.01</td>\n",
       "    </tr>\n",
       "    <tr>\n",
       "      <th>Gladiator</th>\n",
       "      <td>0.01</td>\n",
       "    </tr>\n",
       "    <tr>\n",
       "      <th>Saboteur</th>\n",
       "      <td>-0.01</td>\n",
       "    </tr>\n",
       "    <tr>\n",
       "      <th>Raider</th>\n",
       "      <td>-0.01</td>\n",
       "    </tr>\n",
       "    <tr>\n",
       "      <th>Trickster</th>\n",
       "      <td>-0.02</td>\n",
       "    </tr>\n",
       "    <tr>\n",
       "      <th>Inquisitor</th>\n",
       "      <td>-0.02</td>\n",
       "    </tr>\n",
       "    <tr>\n",
       "      <th>Deadeye</th>\n",
       "      <td>-0.02</td>\n",
       "    </tr>\n",
       "    <tr>\n",
       "      <th>Occultist</th>\n",
       "      <td>-0.03</td>\n",
       "    </tr>\n",
       "    <tr>\n",
       "      <th>Hierophant</th>\n",
       "      <td>-0.05</td>\n",
       "    </tr>\n",
       "    <tr>\n",
       "      <th>Ranger</th>\n",
       "      <td>-0.05</td>\n",
       "    </tr>\n",
       "    <tr>\n",
       "      <th>Shadow</th>\n",
       "      <td>-0.06</td>\n",
       "    </tr>\n",
       "    <tr>\n",
       "      <th>Scion</th>\n",
       "      <td>-0.06</td>\n",
       "    </tr>\n",
       "    <tr>\n",
       "      <th>Assassin</th>\n",
       "      <td>-0.06</td>\n",
       "    </tr>\n",
       "    <tr>\n",
       "      <th>Marauder</th>\n",
       "      <td>-0.08</td>\n",
       "    </tr>\n",
       "    <tr>\n",
       "      <th>Duelist</th>\n",
       "      <td>-0.08</td>\n",
       "    </tr>\n",
       "    <tr>\n",
       "      <th>Templar</th>\n",
       "      <td>-0.08</td>\n",
       "    </tr>\n",
       "    <tr>\n",
       "      <th>Elementalist</th>\n",
       "      <td>-0.08</td>\n",
       "    </tr>\n",
       "    <tr>\n",
       "      <th>Witch</th>\n",
       "      <td>-0.10</td>\n",
       "    </tr>\n",
       "  </tbody>\n",
       "</table>\n",
       "</div>"
      ],
      "text/plain": [
       "              level\n",
       "level          1.00\n",
       "Guardian       0.10\n",
       "Berserker      0.05\n",
       "Slayer         0.04\n",
       "Pathfinder     0.04\n",
       "Champion       0.04\n",
       "Ascendant      0.03\n",
       "Necromancer    0.02\n",
       "Chieftain      0.02\n",
       "Juggernaut     0.01\n",
       "Gladiator      0.01\n",
       "Saboteur      -0.01\n",
       "Raider        -0.01\n",
       "Trickster     -0.02\n",
       "Inquisitor    -0.02\n",
       "Deadeye       -0.02\n",
       "Occultist     -0.03\n",
       "Hierophant    -0.05\n",
       "Ranger        -0.05\n",
       "Shadow        -0.06\n",
       "Scion         -0.06\n",
       "Assassin      -0.06\n",
       "Marauder      -0.08\n",
       "Duelist       -0.08\n",
       "Templar       -0.08\n",
       "Elementalist  -0.08\n",
       "Witch         -0.10"
      ]
     },
     "execution_count": 18,
     "metadata": {},
     "output_type": "execute_result"
    }
   ],
   "source": [
    "# pd.options.display.float_format = '{:,.4f}'.format\n",
    "\n",
    "df_deads_allonehot.corr().round(4)[['level']].sort_values('level', ascending = False)\n",
    "# df_deads_aconehot.corr().round(4)[['level']]"
   ]
  },
  {
   "cell_type": "markdown",
   "id": "da53450d",
   "metadata": {},
   "source": [
    "#### [graph 5-1] Correlation heatmap: Class and level \n",
    "This is a heatmap for fun. Even though I set the **max and min to 0.5 and -0.5** for better color vision, you can see the feeble colors.  \n",
    "\n",
    "And the reason for looking at the two separately is, as you know, that the values will be different when there are 26 in total and 19 in total. (There is a slight difference.)"
   ]
  },
  {
   "cell_type": "code",
   "execution_count": 19,
   "id": "15c8de82",
   "metadata": {
    "ExecuteTime": {
     "end_time": "2024-03-06T11:54:11.989278Z",
     "start_time": "2024-03-06T11:54:10.681682Z"
    }
   },
   "outputs": [
    {
     "data": {
      "image/png": "[encoded data removed]",
      "text/plain": [
       "<Figure size 720x576 with 4 Axes>"
      ]
     },
     "metadata": {},
     "output_type": "display_data"
    }
   ],
   "source": [
    "# dual subplots\n",
    "fig, axes = plt.subplots(1, 2, figsize=(10, 8))\n",
    "\n",
    "# firts one\n",
    "corr1 = df_deads_allonehot.corr().round(4)[['level']][1:]\n",
    "sns.heatmap(data=corr1, cmap='RdBu', square=True, vmin=-0.5, vmax=0.5, ax=axes[0], annot_kws={\"size\": 10}, annot=True, fmt=\".2f\")\n",
    "axes[0].set_title('All class\\'s level and each class\\'es Correlation')\n",
    "\n",
    "# second one\n",
    "corr2 = df_deads_aconehot.corr().round(4)[['level']][1:]\n",
    "sns.heatmap(data=corr2, cmap='RdBu', square=True, vmin=-0.5, vmax=0.5, ax=axes[1], annot_kws={\"size\": 10}, annot=True, fmt=\".2f\")\n",
    "axes[1].set_title('Ascending class\\'s level and each class\\'es Correlation')\n",
    "\n",
    "# layouts\n",
    "plt.tight_layout()\n",
    "plt.show()"
   ]
  },
  {
   "cell_type": "markdown",
   "id": "f0c3bebc",
   "metadata": {},
   "source": [
    "### result1: \n",
    "There are no significant differences between classes even if calculated only for Ascendancy classes. If there are classes that appear to exhibit a clear correlation with 'level,’ we can say that there’s a dependence. However, as anticipated, the only class with an absolute value exceeding 0.1 is the Guardian.\n",
    "\n",
    "In this approach, categorical data was transformed into sparse data, given the multitude of classes, during the encoding process designed to examine its connection with continuous data. Consequently, this led to extremely small correlation coefficient values. **In other words, though there are variations in each correlation coefficient value, it is challenging to assert their meaningfulness, making it difficult to derive substantial results.**\n",
    "\n",
    "Consequently, I carried out one-way ANOVA(accurately Kruskall-Wallis test and Welch's ANOVA) test as I planned. If the mean of each class shows a substantial difference, we can say that there is dependence. On the flip side, we will need to reconsider _our hypothesis, that ‘class’ has a dependence on ‘level’_."
   ]
  },
  {
   "cell_type": "markdown",
   "id": "e1fc9f41",
   "metadata": {},
   "source": [
    "## 5-2. Kruskall-Wallis H test \n",
    "---\n",
    "\n",
    "As you can see below, I should use the Kruskal-Wallis test since the data doesn't satisfy normality and equality of variances.\n",
    "\n",
    "\n",
    "### 5-2-1. distribution of level, normality test and skewness test, equality of variances test\n",
    "\n",
    "#### (1) distribution of level by classes"
   ]
  },
  {
   "cell_type": "code",
   "execution_count": 20,
   "id": "a15cf3b4",
   "metadata": {
    "ExecuteTime": {
     "end_time": "2024-03-06T11:54:12.124834Z",
     "start_time": "2024-03-06T11:54:11.993548Z"
    },
    "scrolled": true
   },
   "outputs": [
    {
     "data": {
      "text/html": [
       "<div>\n",
       "<style scoped>\n",
       "    .dataframe tbody tr th:only-of-type {\n",
       "        vertical-align: middle;\n",
       "    }\n",
       "\n",
       "    .dataframe tbody tr th {\n",
       "        vertical-align: top;\n",
       "    }\n",
       "\n",
       "    .dataframe thead th {\n",
       "        text-align: right;\n",
       "    }\n",
       "</style>\n",
       "<table border=\"1\" class=\"dataframe\">\n",
       "  <thead>\n",
       "    <tr style=\"text-align: right;\">\n",
       "      <th></th>\n",
       "      <th>count</th>\n",
       "      <th>mean</th>\n",
       "      <th>std</th>\n",
       "      <th>min</th>\n",
       "      <th>25%</th>\n",
       "      <th>50%</th>\n",
       "      <th>75%</th>\n",
       "      <th>max</th>\n",
       "    </tr>\n",
       "    <tr>\n",
       "      <th>class</th>\n",
       "      <th></th>\n",
       "      <th></th>\n",
       "      <th></th>\n",
       "      <th></th>\n",
       "      <th></th>\n",
       "      <th></th>\n",
       "      <th></th>\n",
       "      <th></th>\n",
       "    </tr>\n",
       "  </thead>\n",
       "  <tbody>\n",
       "    <tr>\n",
       "      <th>Guardian</th>\n",
       "      <td>448.00</td>\n",
       "      <td>88.85</td>\n",
       "      <td>9.67</td>\n",
       "      <td>53.00</td>\n",
       "      <td>90.00</td>\n",
       "      <td>91.00</td>\n",
       "      <td>94.00</td>\n",
       "      <td>100.00</td>\n",
       "    </tr>\n",
       "    <tr>\n",
       "      <th>Pathfinder</th>\n",
       "      <td>373.00</td>\n",
       "      <td>84.02</td>\n",
       "      <td>12.91</td>\n",
       "      <td>53.00</td>\n",
       "      <td>76.00</td>\n",
       "      <td>90.00</td>\n",
       "      <td>92.00</td>\n",
       "      <td>98.00</td>\n",
       "    </tr>\n",
       "    <tr>\n",
       "      <th>Champion</th>\n",
       "      <td>509.00</td>\n",
       "      <td>83.22</td>\n",
       "      <td>11.31</td>\n",
       "      <td>53.00</td>\n",
       "      <td>75.00</td>\n",
       "      <td>89.00</td>\n",
       "      <td>91.00</td>\n",
       "      <td>99.00</td>\n",
       "    </tr>\n",
       "    <tr>\n",
       "      <th>Slayer</th>\n",
       "      <td>1,825.00</td>\n",
       "      <td>82.11</td>\n",
       "      <td>11.94</td>\n",
       "      <td>53.00</td>\n",
       "      <td>72.00</td>\n",
       "      <td>89.00</td>\n",
       "      <td>91.00</td>\n",
       "      <td>100.00</td>\n",
       "    </tr>\n",
       "    <tr>\n",
       "      <th>Berserker</th>\n",
       "      <td>2,621.00</td>\n",
       "      <td>81.91</td>\n",
       "      <td>12.15</td>\n",
       "      <td>53.00</td>\n",
       "      <td>72.00</td>\n",
       "      <td>89.00</td>\n",
       "      <td>91.00</td>\n",
       "      <td>100.00</td>\n",
       "    </tr>\n",
       "    <tr>\n",
       "      <th>Ascendant</th>\n",
       "      <td>1,380.00</td>\n",
       "      <td>81.55</td>\n",
       "      <td>12.80</td>\n",
       "      <td>53.00</td>\n",
       "      <td>71.00</td>\n",
       "      <td>89.00</td>\n",
       "      <td>91.00</td>\n",
       "      <td>100.00</td>\n",
       "    </tr>\n",
       "    <tr>\n",
       "      <th>Chieftain</th>\n",
       "      <td>913.00</td>\n",
       "      <td>81.35</td>\n",
       "      <td>12.20</td>\n",
       "      <td>53.00</td>\n",
       "      <td>70.00</td>\n",
       "      <td>89.00</td>\n",
       "      <td>91.00</td>\n",
       "      <td>99.00</td>\n",
       "    </tr>\n",
       "    <tr>\n",
       "      <th>Necromancer</th>\n",
       "      <td>2,712.00</td>\n",
       "      <td>80.91</td>\n",
       "      <td>12.74</td>\n",
       "      <td>53.00</td>\n",
       "      <td>70.00</td>\n",
       "      <td>88.50</td>\n",
       "      <td>91.00</td>\n",
       "      <td>100.00</td>\n",
       "    </tr>\n",
       "    <tr>\n",
       "      <th>Juggernaut</th>\n",
       "      <td>881.00</td>\n",
       "      <td>80.64</td>\n",
       "      <td>12.29</td>\n",
       "      <td>53.00</td>\n",
       "      <td>70.00</td>\n",
       "      <td>86.00</td>\n",
       "      <td>91.00</td>\n",
       "      <td>99.00</td>\n",
       "    </tr>\n",
       "    <tr>\n",
       "      <th>Gladiator</th>\n",
       "      <td>2,097.00</td>\n",
       "      <td>80.44</td>\n",
       "      <td>12.78</td>\n",
       "      <td>53.00</td>\n",
       "      <td>70.00</td>\n",
       "      <td>87.00</td>\n",
       "      <td>91.00</td>\n",
       "      <td>100.00</td>\n",
       "    </tr>\n",
       "    <tr>\n",
       "      <th>Raider</th>\n",
       "      <td>1,216.00</td>\n",
       "      <td>79.54</td>\n",
       "      <td>13.77</td>\n",
       "      <td>53.00</td>\n",
       "      <td>68.00</td>\n",
       "      <td>89.00</td>\n",
       "      <td>91.00</td>\n",
       "      <td>100.00</td>\n",
       "    </tr>\n",
       "    <tr>\n",
       "      <th>Trickster</th>\n",
       "      <td>1,282.00</td>\n",
       "      <td>79.35</td>\n",
       "      <td>12.83</td>\n",
       "      <td>53.00</td>\n",
       "      <td>69.00</td>\n",
       "      <td>84.00</td>\n",
       "      <td>90.00</td>\n",
       "      <td>100.00</td>\n",
       "    </tr>\n",
       "    <tr>\n",
       "      <th>Saboteur</th>\n",
       "      <td>483.00</td>\n",
       "      <td>79.11</td>\n",
       "      <td>13.29</td>\n",
       "      <td>53.00</td>\n",
       "      <td>68.00</td>\n",
       "      <td>84.00</td>\n",
       "      <td>91.00</td>\n",
       "      <td>100.00</td>\n",
       "    </tr>\n",
       "    <tr>\n",
       "      <th>Inquisitor</th>\n",
       "      <td>1,306.00</td>\n",
       "      <td>79.10</td>\n",
       "      <td>12.95</td>\n",
       "      <td>53.00</td>\n",
       "      <td>68.00</td>\n",
       "      <td>84.00</td>\n",
       "      <td>90.00</td>\n",
       "      <td>100.00</td>\n",
       "    </tr>\n",
       "    <tr>\n",
       "      <th>Occultist</th>\n",
       "      <td>523.00</td>\n",
       "      <td>77.80</td>\n",
       "      <td>13.63</td>\n",
       "      <td>53.00</td>\n",
       "      <td>67.00</td>\n",
       "      <td>79.00</td>\n",
       "      <td>90.50</td>\n",
       "      <td>100.00</td>\n",
       "    </tr>\n",
       "    <tr>\n",
       "      <th>Deadeye</th>\n",
       "      <td>269.00</td>\n",
       "      <td>77.47</td>\n",
       "      <td>14.66</td>\n",
       "      <td>53.00</td>\n",
       "      <td>62.00</td>\n",
       "      <td>83.00</td>\n",
       "      <td>90.00</td>\n",
       "      <td>98.00</td>\n",
       "    </tr>\n",
       "    <tr>\n",
       "      <th>Hierophant</th>\n",
       "      <td>755.00</td>\n",
       "      <td>76.89</td>\n",
       "      <td>12.50</td>\n",
       "      <td>53.00</td>\n",
       "      <td>67.00</td>\n",
       "      <td>76.00</td>\n",
       "      <td>89.00</td>\n",
       "      <td>98.00</td>\n",
       "    </tr>\n",
       "    <tr>\n",
       "      <th>Elementalist</th>\n",
       "      <td>442.00</td>\n",
       "      <td>72.78</td>\n",
       "      <td>13.31</td>\n",
       "      <td>53.00</td>\n",
       "      <td>60.00</td>\n",
       "      <td>71.00</td>\n",
       "      <td>89.00</td>\n",
       "      <td>100.00</td>\n",
       "    </tr>\n",
       "    <tr>\n",
       "      <th>Assassin</th>\n",
       "      <td>225.00</td>\n",
       "      <td>72.40</td>\n",
       "      <td>13.38</td>\n",
       "      <td>53.00</td>\n",
       "      <td>59.00</td>\n",
       "      <td>71.00</td>\n",
       "      <td>88.00</td>\n",
       "      <td>94.00</td>\n",
       "    </tr>\n",
       "    <tr>\n",
       "      <th>Marauder</th>\n",
       "      <td>60.00</td>\n",
       "      <td>61.55</td>\n",
       "      <td>7.42</td>\n",
       "      <td>53.00</td>\n",
       "      <td>55.00</td>\n",
       "      <td>60.00</td>\n",
       "      <td>66.50</td>\n",
       "      <td>83.00</td>\n",
       "    </tr>\n",
       "    <tr>\n",
       "      <th>Scion</th>\n",
       "      <td>32.00</td>\n",
       "      <td>60.34</td>\n",
       "      <td>7.82</td>\n",
       "      <td>53.00</td>\n",
       "      <td>55.75</td>\n",
       "      <td>58.00</td>\n",
       "      <td>62.25</td>\n",
       "      <td>89.00</td>\n",
       "    </tr>\n",
       "    <tr>\n",
       "      <th>Witch</th>\n",
       "      <td>78.00</td>\n",
       "      <td>59.92</td>\n",
       "      <td>7.23</td>\n",
       "      <td>53.00</td>\n",
       "      <td>54.00</td>\n",
       "      <td>58.00</td>\n",
       "      <td>63.75</td>\n",
       "      <td>88.00</td>\n",
       "    </tr>\n",
       "    <tr>\n",
       "      <th>Shadow</th>\n",
       "      <td>28.00</td>\n",
       "      <td>59.04</td>\n",
       "      <td>4.98</td>\n",
       "      <td>53.00</td>\n",
       "      <td>55.00</td>\n",
       "      <td>57.50</td>\n",
       "      <td>62.00</td>\n",
       "      <td>73.00</td>\n",
       "    </tr>\n",
       "    <tr>\n",
       "      <th>Duelist</th>\n",
       "      <td>49.00</td>\n",
       "      <td>58.98</td>\n",
       "      <td>5.27</td>\n",
       "      <td>53.00</td>\n",
       "      <td>55.00</td>\n",
       "      <td>57.00</td>\n",
       "      <td>62.00</td>\n",
       "      <td>71.00</td>\n",
       "    </tr>\n",
       "    <tr>\n",
       "      <th>Ranger</th>\n",
       "      <td>22.00</td>\n",
       "      <td>58.91</td>\n",
       "      <td>5.04</td>\n",
       "      <td>53.00</td>\n",
       "      <td>55.25</td>\n",
       "      <td>57.50</td>\n",
       "      <td>60.75</td>\n",
       "      <td>70.00</td>\n",
       "    </tr>\n",
       "    <tr>\n",
       "      <th>Templar</th>\n",
       "      <td>52.00</td>\n",
       "      <td>58.73</td>\n",
       "      <td>4.97</td>\n",
       "      <td>53.00</td>\n",
       "      <td>54.00</td>\n",
       "      <td>58.00</td>\n",
       "      <td>61.25</td>\n",
       "      <td>71.00</td>\n",
       "    </tr>\n",
       "  </tbody>\n",
       "</table>\n",
       "</div>"
      ],
      "text/plain": [
       "                count  mean   std   min   25%   50%   75%    max\n",
       "class                                                           \n",
       "Guardian       448.00 88.85  9.67 53.00 90.00 91.00 94.00 100.00\n",
       "Pathfinder     373.00 84.02 12.91 53.00 76.00 90.00 92.00  98.00\n",
       "Champion       509.00 83.22 11.31 53.00 75.00 89.00 91.00  99.00\n",
       "Slayer       1,825.00 82.11 11.94 53.00 72.00 89.00 91.00 100.00\n",
       "Berserker    2,621.00 81.91 12.15 53.00 72.00 89.00 91.00 100.00\n",
       "Ascendant    1,380.00 81.55 12.80 53.00 71.00 89.00 91.00 100.00\n",
       "Chieftain      913.00 81.35 12.20 53.00 70.00 89.00 91.00  99.00\n",
       "Necromancer  2,712.00 80.91 12.74 53.00 70.00 88.50 91.00 100.00\n",
       "Juggernaut     881.00 80.64 12.29 53.00 70.00 86.00 91.00  99.00\n",
       "Gladiator    2,097.00 80.44 12.78 53.00 70.00 87.00 91.00 100.00\n",
       "Raider       1,216.00 79.54 13.77 53.00 68.00 89.00 91.00 100.00\n",
       "Trickster    1,282.00 79.35 12.83 53.00 69.00 84.00 90.00 100.00\n",
       "Saboteur       483.00 79.11 13.29 53.00 68.00 84.00 91.00 100.00\n",
       "Inquisitor   1,306.00 79.10 12.95 53.00 68.00 84.00 90.00 100.00\n",
       "Occultist      523.00 77.80 13.63 53.00 67.00 79.00 90.50 100.00\n",
       "Deadeye        269.00 77.47 14.66 53.00 62.00 83.00 90.00  98.00\n",
       "Hierophant     755.00 76.89 12.50 53.00 67.00 76.00 89.00  98.00\n",
       "Elementalist   442.00 72.78 13.31 53.00 60.00 71.00 89.00 100.00\n",
       "Assassin       225.00 72.40 13.38 53.00 59.00 71.00 88.00  94.00\n",
       "Marauder        60.00 61.55  7.42 53.00 55.00 60.00 66.50  83.00\n",
       "Scion           32.00 60.34  7.82 53.00 55.75 58.00 62.25  89.00\n",
       "Witch           78.00 59.92  7.23 53.00 54.00 58.00 63.75  88.00\n",
       "Shadow          28.00 59.04  4.98 53.00 55.00 57.50 62.00  73.00\n",
       "Duelist         49.00 58.98  5.27 53.00 55.00 57.00 62.00  71.00\n",
       "Ranger          22.00 58.91  5.04 53.00 55.25 57.50 60.75  70.00\n",
       "Templar         52.00 58.73  4.97 53.00 54.00 58.00 61.25  71.00"
      ]
     },
     "execution_count": 20,
     "metadata": {},
     "output_type": "execute_result"
    }
   ],
   "source": [
    "# sorting by Ascendancy classes - root classes \n",
    "Asce_root_sort = list(df.loc[~df['class'].isin(rootclasses)]['class'].unique()) + rootclasses\n",
    "\n",
    "# setting the format and view the classes' level distribution, descending by 'mean'\n",
    "pd.options.display.float_format = '{:,.2f}'.format\n",
    "df_dead.groupby('class')['level'].describe().reindex(Asce_root_sort).sort_values('mean', ascending = False)"
   ]
  },
  {
   "cell_type": "markdown",
   "id": "9c9e2519",
   "metadata": {},
   "source": [
    "#### (2) Boxplot by class\n",
    "Get a boxplot and compare their average and minimum, maximum.  \n",
    "The pinkish colors <span style=\"color:hotpink\">*__Ascendancy classes__*</span> and the greenery colors mean <span style=\"color:limegreen\">*__root classes__*</span>. "
   ]
  },
  {
   "cell_type": "code",
   "execution_count": 21,
   "id": "fdd17190",
   "metadata": {
    "ExecuteTime": {
     "end_time": "2024-03-06T11:54:12.839316Z",
     "start_time": "2024-03-06T11:54:12.128658Z"
    }
   },
   "outputs": [
    {
     "data": {
      "image/png": "[encoded data removed]",
      "text/plain": [
       "<Figure size 576x432 with 1 Axes>"
      ]
     },
     "metadata": {},
     "output_type": "display_data"
    }
   ],
   "source": [
    "plt.figure(figsize = (8, 6))\n",
    "\n",
    "# set the color order\n",
    "color_palette = ['pink', 'plum'] * 9 + ['pink'] + ['palegreen', 'darkseagreen'] * 3 + ['palegreen']\n",
    "\n",
    "# horizontal box plots with light colors \n",
    "sns.boxplot(x = df_dead['level'], y = df_dead['class'], \n",
    "            order = Asce_root_sort, palette = color_palette, width = 0.5,\n",
    "            boxprops = dict(edgecolor='lightgray'), medianprops = dict(color='black'))\n",
    "plt.tight_layout()\n",
    "plt.show()"
   ]
  },
  {
   "cell_type": "markdown",
   "id": "6007f449",
   "metadata": {},
   "source": [
    "##### Average and Boxplot results:\n",
    "\n",
    "- There are fewer than 100 <span style=\"color:limegreen\">*__root classes__*</span> characters in the rankings. It is noticeable that their highest level is less than 90 degrees. Really, their average level is only over 60 or less.  \n",
    "Nevertheless, they were comparable to the higher level of Ascendancy classes where you could use more detailed, highly utilized skills.   \n",
    "- One box's $Q_1$ is bigger than the other's $Q_3$, it has a difference between them without further discussion.  \n",
    "And it really does, some classes whose average level is lower than others are smaller than others $Q_3$. <span style=\"color:limegreen\">*__root classes__*</span>’ $Q4$ is definitely lower than <span style=\"color:hotpink\">*__Ascendancy classes__*</span>."
   ]
  },
  {
   "cell_type": "markdown",
   "id": "d712119d",
   "metadata": {},
   "source": [
    "#### (3) Normality and skewness test: Shapiro-wilk test\n",
    "\n",
    "Some class has samples under 30(Ranger, Shadow), so I choose the Shapiro-wilk test.  "
   ]
  },
  {
   "cell_type": "code",
   "execution_count": 22,
   "id": "2d837865",
   "metadata": {
    "ExecuteTime": {
     "end_time": "2024-03-06T11:54:12.992679Z",
     "start_time": "2024-03-06T11:54:12.881809Z"
    }
   },
   "outputs": [
    {
     "name": "stdout",
     "output_type": "stream",
     "text": [
      "Guardian - Skewness is over\n",
      "Scion - Skewness is over\n"
     ]
    }
   ],
   "source": [
    "from scipy.stats import *\n",
    "\n",
    "for cl in Asce_root_sort:\n",
    "    # if it doesn't meet the normality then pass this \n",
    "    if shapiro(df_dead[df_dead['class'] == cl]['level'])[1] > 0.05:\n",
    "        print(f'{cl} - Normality satisfied')\n",
    "    # if it has under 2 skewness then pass this\n",
    "    if abs(skew(df_dead[df_dead['class'] == cl]['level'], bias = False)) > 2:\n",
    "        print(f'{cl} - Skewness is over')"
   ]
  },
  {
   "cell_type": "markdown",
   "id": "a893c1e1",
   "metadata": {},
   "source": [
    "##### Average and Boxplot results: \n",
    "There was no class satisfying normality. And any class doesn't follow a normal distribution and **Guardian** and **Scion** has skewed. \n",
    "\n",
    "But many classes have enough samples to assume the central limit theorem, so I kept going with the equal-variance test.  \n",
    "\n",
    "\n",
    "#### (4) Equality of variances test\n",
    "I tested by two test methods, Levene and Fligner-Killeen.\n",
    "\n",
    "- Bartlett test which is a popular method must be normality in data,(so I didn’t use it.)\n",
    "- Levene test is less sensitive to normality.\n",
    "- and Fligner-Killeen test, it is said that some nonparametric tests do not correlate with the size or probability distribution of the sample."
   ]
  },
  {
   "cell_type": "code",
   "execution_count": 23,
   "id": "d1580812",
   "metadata": {
    "ExecuteTime": {
     "end_time": "2024-03-06T11:54:13.309330Z",
     "start_time": "2024-03-06T11:54:13.280777Z"
    }
   },
   "outputs": [
    {
     "name": "stdout",
     "output_type": "stream",
     "text": [
      "Levene test:  18.631784427117147 | 9.597742330362986e-82\n",
      "Fligner test:  535.175634847063 | 3.8612549948345704e-97\n"
     ]
    }
   ],
   "source": [
    "# seperate and save the data by class\n",
    "cl_vl_dict = {}\n",
    "for class_label, class_data in df_dead.groupby('class'):\n",
    "    cl_vl_dict[class_label] = class_data['level']\n",
    "\n",
    "# Levene test\n",
    "statistic, p_value = levene(*cl_vl_dict.values()) # send the values(data) in turn\n",
    "print('Levene test: ', f'{statistic} | {p_value}')\n",
    "# Fligner test\n",
    "statistic, p_value = fligner(*cl_vl_dict.values())\n",
    "print('Fligner test: ', f'{statistic} | {p_value}')"
   ]
  },
  {
   "cell_type": "markdown",
   "id": "02935fdd",
   "metadata": {},
   "source": [
    "#### Equality of variance test results \n",
    "\n",
    "All class data don’t satisfy equal variances.   \n",
    "I planned to conduct an ANOVA test to determine the best approach, with the logic that 'If there are differences in the population means of each class, the dependence lies between class and level.' However, the data did not meet the assumptions of normality and equality of variances. Therefore, I believe the statistical reliability of the answer may be compromised. (Since the levels of the factors do not meet the assumptions of normality and equal variance, it can be inferred that there are already differences in levels between classes.)\n",
    "\n",
    "As a result, I have decided to identify which classes exhibit differences using the Kruskal-Wallis test and Bonferroni corrections. Additionally, I considered employing Welch's ANOVA and Games-Howell test, which are suitable for data that does not meet the assumption of equality of variances."
   ]
  },
  {
   "cell_type": "markdown",
   "id": "b0b0e0d9",
   "metadata": {},
   "source": [
    "### 5-2-2. Kruskal-Wallis H test\n"
   ]
  },
  {
   "cell_type": "code",
   "execution_count": 24,
   "id": "b352931e",
   "metadata": {
    "ExecuteTime": {
     "end_time": "2024-03-06T11:54:14.028604Z",
     "start_time": "2024-03-06T11:54:14.015221Z"
    }
   },
   "outputs": [
    {
     "name": "stdout",
     "output_type": "stream",
     "text": [
      "Kruskal wallis H test:  1376.5361867441661 | 3.928809290642803e-275\n"
     ]
    }
   ],
   "source": [
    "statistic, p_value = kruskal(*cl_vl_dict.values())\n",
    "print('Kruskal wallis H test: ', f'{statistic} | {p_value}')"
   ]
  },
  {
   "cell_type": "markdown",
   "id": "b4100786",
   "metadata": {},
   "source": [
    "#### Kruskal-Wallis H test results:\n",
    "\n",
    "- The p-value is also under 0.05 in this method and it could be said that there're differences between all class levels.\n",
    "\n",
    "(We already know, but) Let's uncover what classes are different from other classes.\n",
    "p-value is very small so it has difference between class\n",
    "\n",
    "#### Dunn's test and the pairs\n",
    "\n"
   ]
  },
  {
   "cell_type": "code",
   "execution_count": 25,
   "id": "4e23d135",
   "metadata": {
    "ExecuteTime": {
     "end_time": "2024-03-06T11:54:14.541327Z",
     "start_time": "2024-03-06T11:54:14.392835Z"
    },
    "scrolled": true
   },
   "outputs": [
    {
     "name": "stdout",
     "output_type": "stream",
     "text": [
      "All pairs number : 325\n",
      "Pairs with p-value < 0.05 (without duplicates) numbers: 269 ( 82.77 % )\n"
     ]
    }
   ],
   "source": [
    "from scikit_posthocs import posthoc_dunn\n",
    "\n",
    "# Dunn's Test \n",
    "allclass_postdunn = posthoc_dunn(df_dead, val_col = 'level', group_col = 'class')\n",
    "\n",
    "# p-value< 0.05 class pairs \n",
    "significant_pairs = set()\n",
    "for row_index, row in allclass_postdunn.iterrows():\n",
    "    for col_index, value in row.items():\n",
    "        if value < 0.05 and row_index != col_index:\n",
    "            pair = tuple(sorted([row_index, col_index]))  # without duplicated pair! by using tuple\n",
    "            significant_pairs.add(pair)\n",
    "\n",
    "\n",
    "# all combination number\n",
    "from itertools import combinations\n",
    "allnumbers = len(list(combinations(list(df_dead['class'].unique()), 2)))\n",
    "# significant_pairs\n",
    "numbers = len(significant_pairs)\n",
    "\n",
    "print(f\"All pairs number : {allnumbers}\")\n",
    "print(f\"Pairs with p-value < 0.05 (without duplicates) numbers: {numbers} ( {round(numbers/allnumbers, 4)*100} % )\")"
   ]
  },
  {
   "cell_type": "markdown",
   "id": "0cf73636",
   "metadata": {},
   "source": [
    "Pairs corresponding to 82.77% have p-values less than the significance threshold.\n",
    "\n",
    "The graph below displays pairs marked with 'O' symbols, indicating p-values below the significance level (0.05). You can observe that the majority of pairs are marked on the graph. In essence, this suggests differences exist among most classes."
   ]
  },
  {
   "cell_type": "code",
   "execution_count": 26,
   "id": "a64ce254",
   "metadata": {
    "ExecuteTime": {
     "end_time": "2024-03-06T11:54:16.692237Z",
     "start_time": "2024-03-06T11:54:14.786047Z"
    }
   },
   "outputs": [
    {
     "data": {
      "image/png": "[encoded data removed]",
      "text/plain": [
       "<Figure size 576x576 with 1 Axes>"
      ]
     },
     "metadata": {},
     "output_type": "display_data"
    }
   ],
   "source": [
    "mask = np.zeros_like(allclass_postdunn)\n",
    "mask[np.triu_indices_from(mask)] = True\n",
    "plt.figure(figsize = (8, 8))\n",
    "sns.heatmap(data = allclass_postdunn, cmap = 'Blues', mask = mask, square = True, vmin =0, vmax =1, cbar = False)\n",
    "plt.title('Correlation matrix')\n",
    "\n",
    "# 'O' mark: checking values which under significance level(0.05)\n",
    "for i in range(allclass_postdunn.shape[1]):\n",
    "    for j in range(allclass_postdunn.shape[0]):\n",
    "        if (allclass_postdunn.iat[i, j] < 0.05) and (i<j) :\n",
    "            plt.text(i+0.5, j+0.5, 'O', ha='center', va='center')\n",
    "\n",
    "plt.show()"
   ]
  },
  {
   "cell_type": "markdown",
   "id": "8ee3203b",
   "metadata": {},
   "source": [
    "## 5-3. Kruskall-Wallis test and Welch's ANOVA test (only Ascendency classes)\n",
    "\n",
    "### 5-3-1. preparing data and Equality of variances test"
   ]
  },
  {
   "cell_type": "code",
   "execution_count": 26,
   "id": "912b38d6",
   "metadata": {
    "ExecuteTime": {
     "end_time": "2024-03-05T12:22:55.360052Z",
     "start_time": "2024-03-05T12:22:55.319845Z"
    },
    "scrolled": true
   },
   "outputs": [
    {
     "name": "stdout",
     "output_type": "stream",
     "text": [
      "Levene test:  19.509339926197843 | 5.140670860355577e-63\n",
      "Fligner test:  426.94068720259634 | 2.1711734879246673e-79\n"
     ]
    }
   ],
   "source": [
    "# data of all class was `df_dead`\n",
    "df_dead_ac = df_dead.loc[~df_dead['class'].isin(rootclasses)]\n",
    "\n",
    "# df_dead_ac.groupby('class')[['level']].describe()\n",
    "\n",
    "# Equality of variances test\n",
    "# seperate and save the data by class\n",
    "cl_vl_dict = {}\n",
    "for class_label, class_data in df_dead_ac.groupby('class'):\n",
    "    cl_vl_dict[class_label] = class_data['level']\n",
    "\n",
    "# Levene test\n",
    "statistic, p_value = levene(*cl_vl_dict.values()) # send the values(data) in turn\n",
    "print('Levene test: ', f'{statistic} | {p_value}')\n",
    "# Fligner test\n",
    "statistic, p_value = fligner(*cl_vl_dict.values())\n",
    "print('Fligner test: ', f'{statistic} | {p_value}')"
   ]
  },
  {
   "cell_type": "markdown",
   "id": "fe2cc0e1",
   "metadata": {},
   "source": [
    "#### Equality of variances test results:\n",
    "There's also no equality of variances so I did the same test with above, Kruskall-Wallis H test.\n",
    "\n",
    "### 5-3-2. Kruskal-Wallis H test"
   ]
  },
  {
   "cell_type": "code",
   "execution_count": 27,
   "id": "6ccccc47",
   "metadata": {
    "ExecuteTime": {
     "end_time": "2024-03-05T12:22:55.663780Z",
     "start_time": "2024-03-05T12:22:55.651873Z"
    },
    "scrolled": true
   },
   "outputs": [
    {
     "name": "stdout",
     "output_type": "stream",
     "text": [
      "Kruskal wallis H test:  785.4197796362981 | 4.020047495113338e-155\n"
     ]
    }
   ],
   "source": [
    "statistic, p_value = kruskal(*cl_vl_dict.values())\n",
    "print('Kruskal wallis H test: ', f'{statistic} | {p_value}')"
   ]
  },
  {
   "cell_type": "markdown",
   "id": "e44bcc7c",
   "metadata": {},
   "source": [
    "#### Kruskal-Wallis H test result:\n",
    "In the case when we compare the all classes, the statistic was `1376.536186` and the p-value was `3.928809290642803e-275`. This is quite big difference with the previous case but this show also meaningful difference with a small p-value.  "
   ]
  },
  {
   "cell_type": "code",
   "execution_count": 28,
   "id": "0a161f54",
   "metadata": {
    "ExecuteTime": {
     "end_time": "2024-03-05T12:22:56.144869Z",
     "start_time": "2024-03-05T12:22:55.981247Z"
    }
   },
   "outputs": [
    {
     "name": "stdout",
     "output_type": "stream",
     "text": [
      "All pairs number : 171\n",
      "Pairs with p-value < 0.05 (without duplicates) numbers: 136 ( 79.53 % )\n"
     ]
    }
   ],
   "source": [
    "from scikit_posthocs import posthoc_dunn\n",
    "\n",
    "# Dunn's Test \n",
    "allclass_postdunn = posthoc_dunn(df_dead_ac, val_col = 'level', group_col = 'class')\n",
    "\n",
    "# p-value< 0.05 class pairs \n",
    "significant_pairs = set()\n",
    "for row_index, row in allclass_postdunn.iterrows():\n",
    "    for col_index, value in row.items():\n",
    "        if value < 0.05 and row_index != col_index:\n",
    "            pair = tuple(sorted([row_index, col_index]))  # without duplicated pair! by using tuple\n",
    "            significant_pairs.add(pair)\n",
    "\n",
    "# all combination number\n",
    "from itertools import combinations\n",
    "allnumbers = len(list(combinations(list(df_dead_ac['class'].unique()), 2)))\n",
    "# significant_pairs\n",
    "numbers = len(significant_pairs)\n",
    "\n",
    "print(f\"All pairs number : {allnumbers}\")\n",
    "print(f\"Pairs with p-value < 0.05 (without duplicates) numbers: {numbers} ( {round(numbers/allnumbers, 4)*100} % )\")"
   ]
  },
  {
   "cell_type": "markdown",
   "id": "91f3f2d2",
   "metadata": {},
   "source": [
    "개수를 보니, 수만 봤을 때는 줄었으나 전체 조합 개수를 고려했을 때는 크게 차이가 나는 것으로 생각되지는 않습니다. 이로써 Ascendency class만을 고려해서 비교를 하더라도 차이가 분명 존재한다고 볼 수도 있겠습니다. "
   ]
  },
  {
   "cell_type": "code",
   "execution_count": null,
   "id": "20302464",
   "metadata": {},
   "outputs": [],
   "source": []
  },
  {
   "cell_type": "code",
   "execution_count": null,
   "id": "7639f1a0",
   "metadata": {},
   "outputs": [],
   "source": []
  },
  {
   "cell_type": "code",
   "execution_count": null,
   "id": "8508ba8e",
   "metadata": {},
   "outputs": [],
   "source": []
  },
  {
   "cell_type": "code",
   "execution_count": null,
   "id": "a18050bf",
   "metadata": {},
   "outputs": [],
   "source": []
  },
  {
   "cell_type": "code",
   "execution_count": null,
   "id": "1359050a",
   "metadata": {},
   "outputs": [],
   "source": []
  },
  {
   "cell_type": "code",
   "execution_count": null,
   "id": "677aab24",
   "metadata": {},
   "outputs": [],
   "source": []
  },
  {
   "cell_type": "code",
   "execution_count": null,
   "id": "e465555f",
   "metadata": {},
   "outputs": [],
   "source": []
  },
  {
   "cell_type": "code",
   "execution_count": null,
   "id": "0f0da29a",
   "metadata": {},
   "outputs": [],
   "source": []
  },
  {
   "cell_type": "code",
   "execution_count": null,
   "id": "38d91126",
   "metadata": {},
   "outputs": [],
   "source": []
  },
  {
   "cell_type": "code",
   "execution_count": null,
   "id": "a75277ab",
   "metadata": {},
   "outputs": [],
   "source": []
  },
  {
   "cell_type": "code",
   "execution_count": null,
   "id": "bc187cc1",
   "metadata": {},
   "outputs": [],
   "source": []
  },
  {
   "cell_type": "code",
   "execution_count": null,
   "id": "ddfb8084",
   "metadata": {},
   "outputs": [],
   "source": []
  },
  {
   "cell_type": "code",
   "execution_count": null,
   "id": "e1d9c1bc",
   "metadata": {},
   "outputs": [],
   "source": []
  },
  {
   "cell_type": "code",
   "execution_count": null,
   "id": "45d9651a",
   "metadata": {},
   "outputs": [],
   "source": []
  },
  {
   "cell_type": "markdown",
   "id": "178b3ca3",
   "metadata": {},
   "source": [
    "---\n",
    "\n",
    "아래는 수정 혹은 지워야 하는 부분 (아주 옛날 부분)"
   ]
  },
  {
   "cell_type": "code",
   "execution_count": 15,
   "id": "1d99c017",
   "metadata": {},
   "outputs": [
    {
     "data": {
      "text/html": [
       "<div>\n",
       "<style scoped>\n",
       "    .dataframe tbody tr th:only-of-type {\n",
       "        vertical-align: middle;\n",
       "    }\n",
       "\n",
       "    .dataframe tbody tr th {\n",
       "        vertical-align: top;\n",
       "    }\n",
       "\n",
       "    .dataframe thead th {\n",
       "        text-align: right;\n",
       "    }\n",
       "</style>\n",
       "<table border=\"1\" class=\"dataframe\">\n",
       "  <thead>\n",
       "    <tr style=\"text-align: right;\">\n",
       "      <th></th>\n",
       "      <th>class</th>\n",
       "      <th>level</th>\n",
       "    </tr>\n",
       "  </thead>\n",
       "  <tbody>\n",
       "    <tr>\n",
       "      <th>15</th>\n",
       "      <td>Raider</td>\n",
       "      <td>100</td>\n",
       "    </tr>\n",
       "    <tr>\n",
       "      <th>24</th>\n",
       "      <td>Necromancer</td>\n",
       "      <td>100</td>\n",
       "    </tr>\n",
       "    <tr>\n",
       "      <th>32</th>\n",
       "      <td>Slayer</td>\n",
       "      <td>100</td>\n",
       "    </tr>\n",
       "    <tr>\n",
       "      <th>48</th>\n",
       "      <td>Occultist</td>\n",
       "      <td>100</td>\n",
       "    </tr>\n",
       "    <tr>\n",
       "      <th>77</th>\n",
       "      <td>Necromancer</td>\n",
       "      <td>99</td>\n",
       "    </tr>\n",
       "    <tr>\n",
       "      <th>...</th>\n",
       "      <td>...</td>\n",
       "      <td>...</td>\n",
       "    </tr>\n",
       "    <tr>\n",
       "      <th>59762</th>\n",
       "      <td>Juggernaut</td>\n",
       "      <td>53</td>\n",
       "    </tr>\n",
       "    <tr>\n",
       "      <th>59763</th>\n",
       "      <td>Slayer</td>\n",
       "      <td>89</td>\n",
       "    </tr>\n",
       "    <tr>\n",
       "      <th>59765</th>\n",
       "      <td>Berserker</td>\n",
       "      <td>53</td>\n",
       "    </tr>\n",
       "    <tr>\n",
       "      <th>59768</th>\n",
       "      <td>Necromancer</td>\n",
       "      <td>53</td>\n",
       "    </tr>\n",
       "    <tr>\n",
       "      <th>59771</th>\n",
       "      <td>Necromancer</td>\n",
       "      <td>89</td>\n",
       "    </tr>\n",
       "  </tbody>\n",
       "</table>\n",
       "<p>20581 rows × 2 columns</p>\n",
       "</div>"
      ],
      "text/plain": [
       "             class  level\n",
       "15          Raider    100\n",
       "24     Necromancer    100\n",
       "32          Slayer    100\n",
       "48       Occultist    100\n",
       "77     Necromancer     99\n",
       "...            ...    ...\n",
       "59762   Juggernaut     53\n",
       "59763       Slayer     89\n",
       "59765    Berserker     53\n",
       "59768  Necromancer     53\n",
       "59771  Necromancer     89\n",
       "\n",
       "[20581 rows x 2 columns]"
      ]
     },
     "execution_count": 15,
     "metadata": {},
     "output_type": "execute_result"
    }
   ],
   "source": [
    "# dead\n",
    "df_dead = df_hc.loc[df['dead'] == True][['class', 'level']]\n",
    "df_dead"
   ]
  },
  {
   "cell_type": "code",
   "execution_count": 16,
   "id": "107eb47b",
   "metadata": {},
   "outputs": [
    {
     "data": {
      "text/html": [
       "<div>\n",
       "<style scoped>\n",
       "    .dataframe tbody tr th:only-of-type {\n",
       "        vertical-align: middle;\n",
       "    }\n",
       "\n",
       "    .dataframe tbody tr th {\n",
       "        vertical-align: top;\n",
       "    }\n",
       "\n",
       "    .dataframe thead th {\n",
       "        text-align: right;\n",
       "    }\n",
       "</style>\n",
       "<table border=\"1\" class=\"dataframe\">\n",
       "  <thead>\n",
       "    <tr style=\"text-align: right;\">\n",
       "      <th></th>\n",
       "      <th>class</th>\n",
       "      <th>level</th>\n",
       "      <th>scaled_level</th>\n",
       "    </tr>\n",
       "  </thead>\n",
       "  <tbody>\n",
       "    <tr>\n",
       "      <th>15</th>\n",
       "      <td>Raider</td>\n",
       "      <td>100</td>\n",
       "      <td>1.00</td>\n",
       "    </tr>\n",
       "    <tr>\n",
       "      <th>24</th>\n",
       "      <td>Necromancer</td>\n",
       "      <td>100</td>\n",
       "      <td>1.00</td>\n",
       "    </tr>\n",
       "    <tr>\n",
       "      <th>32</th>\n",
       "      <td>Slayer</td>\n",
       "      <td>100</td>\n",
       "      <td>1.00</td>\n",
       "    </tr>\n",
       "    <tr>\n",
       "      <th>48</th>\n",
       "      <td>Occultist</td>\n",
       "      <td>100</td>\n",
       "      <td>1.00</td>\n",
       "    </tr>\n",
       "    <tr>\n",
       "      <th>77</th>\n",
       "      <td>Necromancer</td>\n",
       "      <td>99</td>\n",
       "      <td>0.98</td>\n",
       "    </tr>\n",
       "  </tbody>\n",
       "</table>\n",
       "</div>"
      ],
      "text/plain": [
       "          class  level  scaled_level\n",
       "15       Raider    100          1.00\n",
       "24  Necromancer    100          1.00\n",
       "32       Slayer    100          1.00\n",
       "48    Occultist    100          1.00\n",
       "77  Necromancer     99          0.98"
      ]
     },
     "execution_count": 16,
     "metadata": {},
     "output_type": "execute_result"
    }
   ],
   "source": [
    "# Min-Max Scaling\n",
    "Xmin = min(df_dead['level'])\n",
    "Xmax = max(df_dead['level'])\n",
    "scaled = (df_dead['level'] - Xmin) / (Xmax - Xmin)\n",
    "df_dead['scaled_level'] = scaled\n",
    "df_dead.head(5)"
   ]
  },
  {
   "cell_type": "markdown",
   "id": "b0d1cb3a",
   "metadata": {},
   "source": [
    "#### get dummies"
   ]
  },
  {
   "cell_type": "code",
   "execution_count": 17,
   "id": "726ed47a",
   "metadata": {},
   "outputs": [
    {
     "data": {
      "text/html": [
       "<div>\n",
       "<style scoped>\n",
       "    .dataframe tbody tr th:only-of-type {\n",
       "        vertical-align: middle;\n",
       "    }\n",
       "\n",
       "    .dataframe tbody tr th {\n",
       "        vertical-align: top;\n",
       "    }\n",
       "\n",
       "    .dataframe thead th {\n",
       "        text-align: right;\n",
       "    }\n",
       "</style>\n",
       "<table border=\"1\" class=\"dataframe\">\n",
       "  <thead>\n",
       "    <tr style=\"text-align: right;\">\n",
       "      <th></th>\n",
       "      <th>level</th>\n",
       "      <th>scaled_level</th>\n",
       "      <th>class_Ascendant</th>\n",
       "      <th>class_Assassin</th>\n",
       "      <th>class_Berserker</th>\n",
       "      <th>class_Champion</th>\n",
       "      <th>class_Chieftain</th>\n",
       "      <th>class_Deadeye</th>\n",
       "      <th>class_Duelist</th>\n",
       "      <th>class_Elementalist</th>\n",
       "      <th>...</th>\n",
       "      <th>class_Pathfinder</th>\n",
       "      <th>class_Raider</th>\n",
       "      <th>class_Ranger</th>\n",
       "      <th>class_Saboteur</th>\n",
       "      <th>class_Scion</th>\n",
       "      <th>class_Shadow</th>\n",
       "      <th>class_Slayer</th>\n",
       "      <th>class_Templar</th>\n",
       "      <th>class_Trickster</th>\n",
       "      <th>class_Witch</th>\n",
       "    </tr>\n",
       "  </thead>\n",
       "  <tbody>\n",
       "    <tr>\n",
       "      <th>15</th>\n",
       "      <td>100</td>\n",
       "      <td>1.00</td>\n",
       "      <td>0</td>\n",
       "      <td>0</td>\n",
       "      <td>0</td>\n",
       "      <td>0</td>\n",
       "      <td>0</td>\n",
       "      <td>0</td>\n",
       "      <td>0</td>\n",
       "      <td>0</td>\n",
       "      <td>...</td>\n",
       "      <td>0</td>\n",
       "      <td>1</td>\n",
       "      <td>0</td>\n",
       "      <td>0</td>\n",
       "      <td>0</td>\n",
       "      <td>0</td>\n",
       "      <td>0</td>\n",
       "      <td>0</td>\n",
       "      <td>0</td>\n",
       "      <td>0</td>\n",
       "    </tr>\n",
       "    <tr>\n",
       "      <th>24</th>\n",
       "      <td>100</td>\n",
       "      <td>1.00</td>\n",
       "      <td>0</td>\n",
       "      <td>0</td>\n",
       "      <td>0</td>\n",
       "      <td>0</td>\n",
       "      <td>0</td>\n",
       "      <td>0</td>\n",
       "      <td>0</td>\n",
       "      <td>0</td>\n",
       "      <td>...</td>\n",
       "      <td>0</td>\n",
       "      <td>0</td>\n",
       "      <td>0</td>\n",
       "      <td>0</td>\n",
       "      <td>0</td>\n",
       "      <td>0</td>\n",
       "      <td>0</td>\n",
       "      <td>0</td>\n",
       "      <td>0</td>\n",
       "      <td>0</td>\n",
       "    </tr>\n",
       "    <tr>\n",
       "      <th>32</th>\n",
       "      <td>100</td>\n",
       "      <td>1.00</td>\n",
       "      <td>0</td>\n",
       "      <td>0</td>\n",
       "      <td>0</td>\n",
       "      <td>0</td>\n",
       "      <td>0</td>\n",
       "      <td>0</td>\n",
       "      <td>0</td>\n",
       "      <td>0</td>\n",
       "      <td>...</td>\n",
       "      <td>0</td>\n",
       "      <td>0</td>\n",
       "      <td>0</td>\n",
       "      <td>0</td>\n",
       "      <td>0</td>\n",
       "      <td>0</td>\n",
       "      <td>1</td>\n",
       "      <td>0</td>\n",
       "      <td>0</td>\n",
       "      <td>0</td>\n",
       "    </tr>\n",
       "    <tr>\n",
       "      <th>48</th>\n",
       "      <td>100</td>\n",
       "      <td>1.00</td>\n",
       "      <td>0</td>\n",
       "      <td>0</td>\n",
       "      <td>0</td>\n",
       "      <td>0</td>\n",
       "      <td>0</td>\n",
       "      <td>0</td>\n",
       "      <td>0</td>\n",
       "      <td>0</td>\n",
       "      <td>...</td>\n",
       "      <td>0</td>\n",
       "      <td>0</td>\n",
       "      <td>0</td>\n",
       "      <td>0</td>\n",
       "      <td>0</td>\n",
       "      <td>0</td>\n",
       "      <td>0</td>\n",
       "      <td>0</td>\n",
       "      <td>0</td>\n",
       "      <td>0</td>\n",
       "    </tr>\n",
       "    <tr>\n",
       "      <th>77</th>\n",
       "      <td>99</td>\n",
       "      <td>0.98</td>\n",
       "      <td>0</td>\n",
       "      <td>0</td>\n",
       "      <td>0</td>\n",
       "      <td>0</td>\n",
       "      <td>0</td>\n",
       "      <td>0</td>\n",
       "      <td>0</td>\n",
       "      <td>0</td>\n",
       "      <td>...</td>\n",
       "      <td>0</td>\n",
       "      <td>0</td>\n",
       "      <td>0</td>\n",
       "      <td>0</td>\n",
       "      <td>0</td>\n",
       "      <td>0</td>\n",
       "      <td>0</td>\n",
       "      <td>0</td>\n",
       "      <td>0</td>\n",
       "      <td>0</td>\n",
       "    </tr>\n",
       "  </tbody>\n",
       "</table>\n",
       "<p>5 rows × 28 columns</p>\n",
       "</div>"
      ],
      "text/plain": [
       "    level  scaled_level  class_Ascendant  class_Assassin  class_Berserker  \\\n",
       "15    100          1.00                0               0                0   \n",
       "24    100          1.00                0               0                0   \n",
       "32    100          1.00                0               0                0   \n",
       "48    100          1.00                0               0                0   \n",
       "77     99          0.98                0               0                0   \n",
       "\n",
       "    class_Champion  class_Chieftain  class_Deadeye  class_Duelist  \\\n",
       "15               0                0              0              0   \n",
       "24               0                0              0              0   \n",
       "32               0                0              0              0   \n",
       "48               0                0              0              0   \n",
       "77               0                0              0              0   \n",
       "\n",
       "    class_Elementalist  ...  class_Pathfinder  class_Raider  class_Ranger  \\\n",
       "15                   0  ...                 0             1             0   \n",
       "24                   0  ...                 0             0             0   \n",
       "32                   0  ...                 0             0             0   \n",
       "48                   0  ...                 0             0             0   \n",
       "77                   0  ...                 0             0             0   \n",
       "\n",
       "    class_Saboteur  class_Scion  class_Shadow  class_Slayer  class_Templar  \\\n",
       "15               0            0             0             0              0   \n",
       "24               0            0             0             0              0   \n",
       "32               0            0             0             1              0   \n",
       "48               0            0             0             0              0   \n",
       "77               0            0             0             0              0   \n",
       "\n",
       "    class_Trickster  class_Witch  \n",
       "15                0            0  \n",
       "24                0            0  \n",
       "32                0            0  \n",
       "48                0            0  \n",
       "77                0            0  \n",
       "\n",
       "[5 rows x 28 columns]"
      ]
     },
     "execution_count": 17,
     "metadata": {},
     "output_type": "execute_result"
    }
   ],
   "source": [
    "df_deads_onehot = pd.get_dummies(df_dead, drop_first = False)\n",
    "df_deads_onehot.head(5)"
   ]
  },
  {
   "cell_type": "markdown",
   "id": "35dbb4e3",
   "metadata": {},
   "source": [
    "## 5-2. correlation"
   ]
  },
  {
   "cell_type": "code",
   "execution_count": 48,
   "id": "16f7cc09",
   "metadata": {
    "scrolled": true
   },
   "outputs": [
    {
     "data": {
      "text/plain": [
       "level                 1.00\n",
       "scaled_level          1.00\n",
       "class_Ascendant       0.03\n",
       "class_Assassin       -0.06\n",
       "class_Berserker       0.05\n",
       "class_Champion        0.04\n",
       "class_Chieftain       0.02\n",
       "class_Deadeye        -0.02\n",
       "class_Duelist        -0.08\n",
       "class_Elementalist   -0.09\n",
       "class_Gladiator       0.01\n",
       "class_Guardian        0.10\n",
       "class_Hierophant     -0.05\n",
       "class_Inquisitor     -0.02\n",
       "class_Juggernaut      0.01\n",
       "class_Marauder       -0.08\n",
       "class_Necromancer     0.02\n",
       "class_Occultist      -0.03\n",
       "class_Pathfinder      0.04\n",
       "class_Raider         -0.01\n",
       "class_Ranger         -0.05\n",
       "class_Saboteur       -0.01\n",
       "class_Scion          -0.06\n",
       "class_Shadow         -0.06\n",
       "class_Slayer          0.04\n",
       "class_Templar        -0.08\n",
       "class_Trickster      -0.02\n",
       "class_Witch          -0.10\n",
       "Name: level, dtype: float64"
      ]
     },
     "execution_count": 48,
     "metadata": {},
     "output_type": "execute_result"
    }
   ],
   "source": [
    "df_deads_onehot.corr().round(3)['level']"
   ]
  },
  {
   "cell_type": "code",
   "execution_count": 20,
   "id": "508572fa",
   "metadata": {},
   "outputs": [
    {
     "data": {
      "image/png": "[encoded data removed]",
      "text/plain": [
       "<Figure size 720x720 with 2 Axes>"
      ]
     },
     "metadata": {
      "needs_background": "light"
     },
     "output_type": "display_data"
    }
   ],
   "source": [
    "mask = np.zeros_like(df_deads_onehot.corr())\n",
    "mask[np.triu_indices_from(mask)] = True\n",
    "plt.figure(figsize = (10, 10))\n",
    "sns.heatmap(data = df_deads_onehot.corr(), cmap = 'RdBu', mask=mask, square = True, vmin = -0.5, vmax = 0.5)\n",
    "plt.title('Correlation matrix')\n",
    "plt.show()"
   ]
  },
  {
   "cell_type": "markdown",
   "id": "9355d52a",
   "metadata": {},
   "source": [
    "### about correlation result:\n",
    "That seems there's no correlation between the level and the class, but the data indeed became scarce data after getting dummies.  \n",
    "In this case, we can use polyserial correlation analysis.\n",
    "\n",
    "`stats.pointbiserialr` need bools array... 'biserial'... this is nominal..."
   ]
  },
  {
   "cell_type": "code",
   "execution_count": null,
   "id": "67ec57f1",
   "metadata": {},
   "outputs": [],
   "source": [
    "# from scipy.stats import pointbiserialr\n",
    "\n",
    "# pointbiserialr(df_deads_onehot.loc[15, 'class_Ascendant':], df_deads_onehot.loc[15, 'scaled_level'])"
   ]
  },
  {
   "cell_type": "markdown",
   "id": "0c3840da",
   "metadata": {},
   "source": [
    "## 5-3. Average level of each class \n",
    "\n",
    "### 5-3-1. Average level"
   ]
  },
  {
   "cell_type": "code",
   "execution_count": 51,
   "id": "b74b3a97",
   "metadata": {},
   "outputs": [
    {
     "data": {
      "image/png": "[encoded data removed]",
      "text/plain": [
       "<Figure size 720x360 with 1 Axes>"
      ]
     },
     "metadata": {
      "needs_background": "light"
     },
     "output_type": "display_data"
    }
   ],
   "source": [
    "plt.rcParams['figure.figsize'] = (10,5)\n",
    "plt.xticks(rotation = 90)\n",
    "plt.ylim(50, 105)\n",
    "df_hc_lev_mean = df_dead.groupby('class')[['level']].mean()\n",
    "sns.barplot(data = df_hc_lev_mean, x = df_hc_lev_mean.index, y = 'level') # 신뢰구간 표시 못하나 그냥 boxplot그려야 하나\n",
    "plt.show()"
   ]
  },
  {
   "cell_type": "code",
   "execution_count": 52,
   "id": "83e606b8",
   "metadata": {},
   "outputs": [
    {
     "data": {
      "image/png": "[encoded data removed]",
      "text/plain": [
       "<Figure size 720x360 with 1 Axes>"
      ]
     },
     "metadata": {
      "needs_background": "light"
     },
     "output_type": "display_data"
    }
   ],
   "source": [
    "plt.rcParams['figure.figsize'] = (10,5)\n",
    "plt.xticks(rotation = 90)\n",
    "df_hc_lev_mean = df_dead.groupby('class')[['scaled_level']].mean()\n",
    "sns.barplot(data = df_hc_lev_mean, x = df_hc_lev_mean.index, y = 'scaled_level')\n",
    "plt.show()"
   ]
  },
  {
   "cell_type": "markdown",
   "id": "89b1196a",
   "metadata": {},
   "source": [
    "아니 스케일링을 하는 이유가 없어지는데... 그냥 해야겠다. 다 지우고,,,, 그냥 기록만 남기고...\n",
    "\n",
    "그래프를 보고 알 수 있는 것: 듀엘리스트, 머러더, 레인저, 사이온, 셰도우, 템플러, 위치는 평균 레벨이 현저히 낮다.  \n",
    "아마 이 모든 클래스를 데리고 ANOVA를 하면 분명 다르다고 할 것이고, 전부 사후검정을 하게되면 이 클래스들에서 차이가 나타날 것이다.  \n",
    "일부 클래스에서 낮은 것은 사실이나 이것이 꼭 레벨과 관련이 있다고 할 수 있는 것은 아니다.  \n",
    "왜냐하면 이미 언급했듯, 이 모드의 최소 레벨은 53으로, 경험이 풍부한 사람이 부 캐릭터를 53까지 키워서 하드코어 모드에서 기록을 세웠을 가능성이 다분하며, 그 직업들이 하드코어모드에서 충분히 인기있는 클래스들이었다면 더욱더 이 시나리오가 맞을 가능성이 높다.   \n",
    "\n",
    "그리고 해야할 것 \n",
    "- 클래스별 평균 구하기\n",
    "- 평균이 다른지 ANOVA 하기"
   ]
  },
  {
   "cell_type": "code",
   "execution_count": null,
   "id": "5a7355e5",
   "metadata": {},
   "outputs": [],
   "source": []
  }
 ],
 "metadata": {
  "kernelspec": {
   "display_name": "Python 3 (ipykernel)",
   "language": "python",
   "name": "python3"
  },
  "language_info": {
   "codemirror_mode": {
    "name": "ipython",
    "version": 3
   },
   "file_extension": ".py",
   "mimetype": "text/x-python",
   "name": "python",
   "nbconvert_exporter": "python",
   "pygments_lexer": "ipython3",
   "version": "3.8.5"
  },
  "latex_envs": {
   "LaTeX_envs_menu_present": true,
   "autoclose": true,
   "autocomplete": true,
   "bibliofile": "biblio.bib",
   "cite_by": "apalike",
   "current_citInitial": 1,
   "eqLabelWithNumbers": true,
   "eqNumInitial": 1,
   "hotkeys": {
    "equation": "Ctrl-E",
    "itemize": "Ctrl-I"
   },
   "labels_anchors": false,
   "latex_user_defs": false,
   "report_style_numbering": false,
   "user_envs_cfg": false
  },
  "toc": {
   "base_numbering": 1,
   "nav_menu": {},
   "number_sections": true,
   "sideBar": true,
   "skip_h1_title": true,
   "title_cell": "Table of Contents",
   "title_sidebar": "Contents",
   "toc_cell": true,
   "toc_position": {},
   "toc_section_display": true,
   "toc_window_display": true
  }
 },
 "nbformat": 4,
 "nbformat_minor": 5
}

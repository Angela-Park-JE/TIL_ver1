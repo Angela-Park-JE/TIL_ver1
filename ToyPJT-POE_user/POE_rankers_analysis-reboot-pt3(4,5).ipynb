{
 "cells": [
  {
   "cell_type": "markdown",
   "id": "f65fda18",
   "metadata": {
    "toc": true
   },
   "source": [
    "<h1>Table of Contents<span class=\"tocSkip\"></span></h1>\n",
    "<div class=\"toc\"><ul class=\"toc-item\"><li><ul class=\"toc-item\"><li><ul class=\"toc-item\"><li><ul class=\"toc-item\"><li><span><a href=\"#Questions-for-participants\" data-toc-modified-id=\"Questions-for-participants-0.0.0.1\"><span class=\"toc-item-num\">0.0.0.1&nbsp;&nbsp;</span><strong>Questions for participants</strong></a></span></li></ul></li></ul></li></ul></li><li><span><a href=\"#Importing-Data-and-Libraries\" data-toc-modified-id=\"Importing-Data-and-Libraries-1\"><span class=\"toc-item-num\">1&nbsp;&nbsp;</span>Importing Data and Libraries</a></span></li><li><span><a href=\"#Data-summary\" data-toc-modified-id=\"Data-summary-2\"><span class=\"toc-item-num\">2&nbsp;&nbsp;</span>Data summary</a></span><ul class=\"toc-item\"><li><ul class=\"toc-item\"><li><ul class=\"toc-item\"><li><span><a href=\"#Q4.-The-average-number-of-finished-challenges-for-each-division-shows-the-division-with-the-highest-and-lowest-average-challenges.\" data-toc-modified-id=\"Q4.-The-average-number-of-finished-challenges-for-each-division-shows-the-division-with-the-highest-and-lowest-average-challenges.-2.0.0.1\"><span class=\"toc-item-num\">2.0.0.1&nbsp;&nbsp;</span>Q4. The average number of finished challenges for each division shows the division with the highest and lowest average challenges.</a></span></li></ul></li><li><span><a href=\"#[graph-4-1]-Violin-plot-about-Challenges-by-ladder\" data-toc-modified-id=\"[graph-4-1]-Violin-plot-about-Challenges-by-ladder-2.0.1\"><span class=\"toc-item-num\">2.0.1&nbsp;&nbsp;</span>[graph 4-1] Violin plot about Challenges by ladder</a></span><ul class=\"toc-item\"><li><span><a href=\"#Q5.-Show-dependency-between-level-and-class-of-dead-characters.-Only-for-HC-divisions.\" data-toc-modified-id=\"Q5.-Show-dependency-between-level-and-class-of-dead-characters.-Only-for-HC-divisions.-2.0.1.1\"><span class=\"toc-item-num\">2.0.1.1&nbsp;&nbsp;</span>Q5. Show dependency between level and class of dead characters. Only for HC divisions.</a></span></li></ul></li></ul></li></ul></li><li><span><a href=\"#5-1.-describes-and-data-preprocessing\" data-toc-modified-id=\"5-1.-describes-and-data-preprocessing-3\"><span class=\"toc-item-num\">3&nbsp;&nbsp;</span>5-1. describes and data preprocessing</a></span><ul class=\"toc-item\"><li><span><a href=\"#(1)-ratio-of-dead-characters\" data-toc-modified-id=\"(1)-ratio-of-dead-characters-3.1\"><span class=\"toc-item-num\">3.1&nbsp;&nbsp;</span>(1) ratio of dead characters</a></span></li><li><span><a href=\"#(2)-level-distribution\" data-toc-modified-id=\"(2)-level-distribution-3.2\"><span class=\"toc-item-num\">3.2&nbsp;&nbsp;</span>(2) level distribution</a></span></li><li><span><a href=\"#(3)-preprocessing-the-data\" data-toc-modified-id=\"(3)-preprocessing-the-data-3.3\"><span class=\"toc-item-num\">3.3&nbsp;&nbsp;</span>(3) preprocessing the data</a></span><ul class=\"toc-item\"><li><span><a href=\"#get-dummies\" data-toc-modified-id=\"get-dummies-3.3.1\"><span class=\"toc-item-num\">3.3.1&nbsp;&nbsp;</span>get dummies</a></span></li></ul></li></ul></li><li><span><a href=\"#5-1.-correlation\" data-toc-modified-id=\"5-1.-correlation-4\"><span class=\"toc-item-num\">4&nbsp;&nbsp;</span>5-1. correlation</a></span><ul class=\"toc-item\"><li><ul class=\"toc-item\"><li><span><a href=\"#result1:\" data-toc-modified-id=\"result1:-4.0.1\"><span class=\"toc-item-num\">4.0.1&nbsp;&nbsp;</span>result1:</a></span></li></ul></li></ul></li><li><span><a href=\"#5-2.-Average-level-of-each-class\" data-toc-modified-id=\"5-2.-Average-level-of-each-class-5\"><span class=\"toc-item-num\">5&nbsp;&nbsp;</span>5-2. Average level of each class</a></span><ul class=\"toc-item\"><li><span><a href=\"#5-2-1.-Average-level\" data-toc-modified-id=\"5-2-1.-Average-level-5.1\"><span class=\"toc-item-num\">5.1&nbsp;&nbsp;</span>5-2-1. Average level</a></span></li></ul></li></ul></div>"
   ]
  },
  {
   "cell_type": "markdown",
   "id": "ecae15d4",
   "metadata": {},
   "source": [
    "# POE user analyzing project\n",
    "###### **Data reference and questions are here: https://www.kaggle.com/datasets/gagazet/path-of-exile-league-statistic**\n",
    "\n",
    "---\n",
    "Hi, I'm Angela. 😊 I'm a novice in data analysis.  I'm a novice in data analysis. I'm interested in the video games, mobility, culture, and content industry. I hope to become a data scientist with anomaly detection and anti-cheating. I hope that my analysis will have a positive impact on the world at least a little bit.  \n",
    "\n",
    "This is my first Kaggle-data analyzing project on my own. I played(?) with this data for almost a month or more freely, and I finish it to start to answer these questions partially. Finally, I can close the analysis joyfully.\n",
    "I analyzed this data set with my thoughts and what I learned (as if I were a game analyst 😆).  \n",
    "_ps. English may seem a little awkward because it is not my first language. I'm sorry. And I used the word 'average' more than the word 'mean' because I wanted to communicate more clearly in my hectic writing. 'mean' is so mean to 'average', 'mean' means 'mean' and... just joking._ 🤪\n",
    "\n",
    "---\n",
    "##### **Questions for participants**\n",
    "\n",
    "1. A total number of players in each division, usage of each class in descending order.\n",
    "2. Some of the players streaming their game (twitch column). Do they play better than people, who does not?\n",
    "3. Predict chance to be at top 30 in each division, if we are Necromancer. With and without stream.\n",
    "4. Average number of finished challanges for each division, show division with highest and lowest average challanges.\n",
    "5. Show dependency between level and class of died characters. Only for HC divisions.\n"
   ]
  },
  {
   "cell_type": "markdown",
   "id": "4f961366",
   "metadata": {},
   "source": [
    "## Importing Data and Libraries\n",
    "---"
   ]
  },
  {
   "cell_type": "code",
   "execution_count": null,
   "id": "2ea65d0c",
   "metadata": {},
   "outputs": [],
   "source": [
    "import pandas as pd\n",
    "import numpy as np\n",
    "\n",
    "import time as time\n",
    "import matplotlib.pyplot as plt\n",
    "import seaborn as sns\n",
    "\n",
    "# import sklearn as sk\n",
    "# import tensorflow as tf\n",
    "# import keras\n",
    "\n",
    "np.random.seed(0)\n",
    "# tf.random.set_seed(0)\n",
    "\n",
    "# version check\n",
    "print(sns.__version__)\n",
    "print(pd.__version__)\n",
    "print(np.__version__)\n",
    "# print(sk.__version__)\n",
    "# print(tf.__version__)\n",
    "# print(keras.__version__)\n",
    "\n",
    "data = pd.read_csv(\"poe_stats.csv\")"
   ]
  },
  {
   "cell_type": "code",
   "execution_count": null,
   "id": "3b629d75",
   "metadata": {},
   "outputs": [],
   "source": [
    "df = data\n",
    "df.head()"
   ]
  },
  {
   "cell_type": "markdown",
   "id": "19d246a8",
   "metadata": {},
   "source": [
    "## Data summary"
   ]
  },
  {
   "cell_type": "code",
   "execution_count": null,
   "id": "e84a0ea2",
   "metadata": {},
   "outputs": [],
   "source": [
    "# options about float\n",
    "\n",
    "pd.options.display.float_format = '{:,.2f}'.format\n",
    "df.describe()"
   ]
  },
  {
   "cell_type": "code",
   "execution_count": null,
   "id": "dc8a95b3",
   "metadata": {},
   "outputs": [],
   "source": [
    "df.describe(include = 'object')"
   ]
  },
  {
   "cell_type": "code",
   "execution_count": null,
   "id": "3182be3a",
   "metadata": {},
   "outputs": [],
   "source": [
    "df.info()"
   ]
  },
  {
   "cell_type": "markdown",
   "id": "4f6af92b",
   "metadata": {},
   "source": [
    "# 4. The average number of \"finished\" challenges \n",
    "---\n",
    "##### Q4. The average number of finished challenges for each division shows the division with the highest and lowest average challenges.\n",
    "\n",
    "This question is really clear, thankfully.  \n",
    "I'll separate the division and calculate the average challenges.  \n"
   ]
  },
  {
   "cell_type": "code",
   "execution_count": null,
   "id": "25aee142",
   "metadata": {},
   "outputs": [],
   "source": [
    "# simple max and min\n",
    "df.groupby(by = 'ladder')[['challenges']].agg(['max', 'min'])"
   ]
  },
  {
   "cell_type": "code",
   "execution_count": null,
   "id": "3f52870d",
   "metadata": {},
   "outputs": [],
   "source": [
    "# simple max and min\n",
    "df.groupby(by = 'ladder')[['challenges']].agg(['max', 'min'])"
   ]
  },
  {
   "cell_type": "markdown",
   "id": "5f5be288",
   "metadata": {},
   "source": [
    "#### [graph 4-1] Violin plot about Challenges by ladder"
   ]
  },
  {
   "cell_type": "code",
   "execution_count": null,
   "id": "c2cd182a",
   "metadata": {},
   "outputs": [],
   "source": [
    "# visualizing the average\n",
    "plt.rcParams[\"figure.figsize\"] = (6, 6)\n",
    "plt.xticks(rotation = 45)\n",
    "sns.violinplot(data = df.sort_values(by = 'ladder'), x = 'ladder', y = 'challenges', palette = 'Paired')\n",
    "plt.show()"
   ]
  },
  {
   "cell_type": "markdown",
   "id": "e1f190a0",
   "metadata": {},
   "source": [
    "# 5. Is the class of the dead characters related to level?\n",
    "---\n",
    "##### Q5. Show dependency between level and class of dead characters. Only for HC divisions.\n",
    "\n",
    "The dead column has a meaning in only hardcore modes.  \n",
    "That means maybe this: the goal of the hardcore mode is survival with the best playing, and maybe alive characters can restart or continue the game.  \n",
    "\n",
    "I understood this question as the relation between the dead characters' class and the level.   \n",
    "Because we can think that the death is related just level(user's ability) or maybe the class is the problem.  \n",
    "If there is a dependency between level and class in dead characters, we can treat that some particular class is **preferred** because of the difficulty or something like that, regardless of the class's performance(because it's already ended games).\n",
    "\n",
    "The methods which can get the dependency,  \n",
    "    1. get correlation between level and class.  \n",
    "    2. compare the average level by each class (+ t-test)\n",
    "\n",
    "And I imagine also this : make a machine learning model with class and level, and watch whether the model can predict the class just with level! I'm little bit sorry for the computer but the computer can't do that.\n"
   ]
  },
  {
   "cell_type": "markdown",
   "id": "6f842503",
   "metadata": {},
   "source": [
    "## 5-1. describes and data preprocessing\n",
    "### (1) ratio of dead characters"
   ]
  },
  {
   "cell_type": "code",
   "execution_count": null,
   "id": "56a93cd5",
   "metadata": {},
   "outputs": [],
   "source": [
    "# dataframe contains only hardcore modes\n",
    "df_hc = df.loc[df['ladder'].isin(['SSF Harbinger HC', 'Hardcore Harbinger'])]\n",
    "\n",
    "# dead characters rate\n",
    "df_hc.pivot_table(index = 'ladder', values = 'dead')"
   ]
  },
  {
   "cell_type": "markdown",
   "id": "318563ec",
   "metadata": {},
   "source": [
    "### (2) level distribution"
   ]
  },
  {
   "cell_type": "code",
   "execution_count": null,
   "id": "992b0d33",
   "metadata": {},
   "outputs": [],
   "source": [
    "df_hc['level'].describe()"
   ]
  },
  {
   "cell_type": "code",
   "execution_count": null,
   "id": "a113bbe3",
   "metadata": {},
   "outputs": [],
   "source": [
    "plt.figure(figsize = (6, 3))\n",
    "sns.histplot(x = df_hc['level'], palette = 'Paired', kde = True)\n",
    "plt.title(\"level of dead characters in Hardcore mode\")\n",
    "plt.show()"
   ]
  },
  {
   "cell_type": "markdown",
   "id": "54c26a56",
   "metadata": {},
   "source": [
    "Many people already know that **the minimum level of users in Hardcore mode is 53** before reaching this question.  \n",
    "This is quite important because the scale is regarded as big. After all, because it starts at 53.  \n",
    "So I applied **Min-Max scaler** in this case because the minimum and maximum are settled.  "
   ]
  },
  {
   "cell_type": "markdown",
   "id": "c1103f4f",
   "metadata": {},
   "source": [
    "### (3) preprocessing the data"
   ]
  },
  {
   "cell_type": "code",
   "execution_count": null,
   "id": "1d99c017",
   "metadata": {},
   "outputs": [],
   "source": [
    "# dead\n",
    "df_dead = df_hc.loc[df['dead'] == True][['class', 'level']]\n",
    "df_dead"
   ]
  },
  {
   "cell_type": "code",
   "execution_count": null,
   "id": "107eb47b",
   "metadata": {},
   "outputs": [],
   "source": [
    "# Min-Max Scaling\n",
    "Xmin = min(df_dead['level'])\n",
    "Xmax = max(df_dead['level'])\n",
    "scaled = (df_dead['level'] - Xmin) / (Xmax - Xmin)\n",
    "df_dead['scaled_level'] = scaled\n",
    "df_dead.head(5)"
   ]
  },
  {
   "cell_type": "markdown",
   "id": "b0d1cb3a",
   "metadata": {},
   "source": [
    "#### get dummies"
   ]
  },
  {
   "cell_type": "code",
   "execution_count": null,
   "id": "726ed47a",
   "metadata": {},
   "outputs": [],
   "source": [
    "df_deads_onehot = pd.get_dummies(df_dead, drop_first = False)\n",
    "df_deads_onehot.head(5)"
   ]
  },
  {
   "cell_type": "markdown",
   "id": "35dbb4e3",
   "metadata": {},
   "source": [
    "## 5-1. correlation"
   ]
  },
  {
   "cell_type": "code",
   "execution_count": null,
   "id": "16f7cc09",
   "metadata": {},
   "outputs": [],
   "source": [
    "df_deads_onehot.corr().round(3)"
   ]
  },
  {
   "cell_type": "code",
   "execution_count": null,
   "id": "508572fa",
   "metadata": {},
   "outputs": [],
   "source": [
    "mask = np.zeros_like(df_deads_onehot.corr())\n",
    "mask[np.triu_indices_from(mask)] = True\n",
    "plt.figure(figsize = (10, 10))\n",
    "sns.heatmap(data = df_deads_onehot.corr(), cmap = 'RdBu', mask=mask, square = True, vmin = -1, vmax = 1)\n",
    "plt.title('Correlation matrix')\n",
    "plt.show()"
   ]
  },
  {
   "cell_type": "markdown",
   "id": "9355d52a",
   "metadata": {},
   "source": [
    "#### result1:\n",
    "That seems there's no correlation between the level and the class, but the data indeed became scarce data after getting dummies.  \n",
    "In this case, we can use polyserial correlation analysis.\n",
    "\n",
    "`stats.pointbiserialr` need bools array... 'biserial'... this is nominal..."
   ]
  },
  {
   "cell_type": "markdown",
   "id": "0c3840da",
   "metadata": {},
   "source": [
    "## 5-2. Average level of each class \n",
    "\n",
    "### 5-2-1. Average level"
   ]
  },
  {
   "cell_type": "code",
   "execution_count": null,
   "id": "b74b3a97",
   "metadata": {},
   "outputs": [],
   "source": [
    "plt.rcParams['figure.figsize'] = (10,5)\n",
    "plt.xticks(rotation = 90)\n",
    "plt.ylim(50, 105)\n",
    "df_hc_lev_mean = df_dead.groupby('class')[['level']].mean()\n",
    "sns.barplot(data = df_hc_lev_mean, x = df_hc_lev_mean.index, y = 'level') # 신뢰구간 표시 못하나 그냥 boxplot그려야 하나\n",
    "plt.show()"
   ]
  },
  {
   "cell_type": "code",
   "execution_count": null,
   "id": "83e606b8",
   "metadata": {},
   "outputs": [],
   "source": [
    "plt.rcParams['figure.figsize'] = (10,5)\n",
    "plt.xticks(rotation = 90)\n",
    "df_hc_lev_mean = df_dead.groupby('class')[['scaled_level']].mean()\n",
    "sns.barplot(data = df_hc_lev_mean, x = df_hc_lev_mean.index, y = 'scaled_level')\n",
    "plt.show()"
   ]
  },
  {
   "cell_type": "markdown",
   "id": "89b1196a",
   "metadata": {},
   "source": [
    "아니 스케일링을 하는 이유가 없어지는데... 그냥 해야겠다. 다 지우고,,,, 그냥 기록만 남기고...\n",
    "\n",
    "그래프를 보고 알 수 있는 것: 듀엘리스트, 머러더, 레인저, 사이온, 셰도우, 템플러, 위치는 평균 레벨이 현저히 낮다.  \n",
    "아마 이 모든 클래스를 데리고 ANOVA를 하면 분명 다르다고 할 것이고, 전부 사후검정을 하게되면 이 클래스들에서 차이가 나타날 것이다.  \n",
    "일부 클래스에서 낮은 것은 사실이나 이것이 꼭 레벨과 관련이 있다고 할 수 있는 것은 아니다.  \n",
    "왜냐하면 이미 언급했듯, 이 모드의 최소 레벨은 53으로, 경험이 풍부한 사람이 부 캐릭터를 53까지 키워서 하드코어 모드에서 기록을 세웠을 가능성이 다분하며, 그 직업들이 하드코어모드에서 충분히 인기있는 클래스들이었다면 더욱더 이 시나리오가 맞을 가능성이 높다.   \n",
    "\n",
    "그리고 해야할 것 \n",
    "- 클래스별 평균 구하기\n",
    "- 평균이 다른지 ANOVA 하기"
   ]
  },
  {
   "cell_type": "code",
   "execution_count": null,
   "id": "5a7355e5",
   "metadata": {},
   "outputs": [],
   "source": []
  }
 ],
 "metadata": {
  "kernelspec": {
   "display_name": "Python 3 (ipykernel)",
   "language": "python",
   "name": "python3"
  },
  "language_info": {
   "codemirror_mode": {
    "name": "ipython",
    "version": 3
   },
   "file_extension": ".py",
   "mimetype": "text/x-python",
   "name": "python",
   "nbconvert_exporter": "python",
   "pygments_lexer": "ipython3",
   "version": "3.8.5"
  },
  "latex_envs": {
   "LaTeX_envs_menu_present": true,
   "autoclose": true,
   "autocomplete": true,
   "bibliofile": "biblio.bib",
   "cite_by": "apalike",
   "current_citInitial": 1,
   "eqLabelWithNumbers": true,
   "eqNumInitial": 1,
   "hotkeys": {
    "equation": "Ctrl-E",
    "itemize": "Ctrl-I"
   },
   "labels_anchors": false,
   "latex_user_defs": false,
   "report_style_numbering": false,
   "user_envs_cfg": false
  },
  "toc": {
   "base_numbering": 1,
   "nav_menu": {},
   "number_sections": true,
   "sideBar": true,
   "skip_h1_title": true,
   "title_cell": "Table of Contents",
   "title_sidebar": "Contents",
   "toc_cell": true,
   "toc_position": {},
   "toc_section_display": true,
   "toc_window_display": false
  }
 },
 "nbformat": 4,
 "nbformat_minor": 5
}

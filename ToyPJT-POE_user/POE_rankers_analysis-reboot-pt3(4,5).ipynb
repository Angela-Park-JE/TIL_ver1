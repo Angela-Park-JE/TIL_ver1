{
 "cells": [
  {
   "cell_type": "markdown",
   "id": "ecae15d4",
   "metadata": {},
   "source": [
    "# POE user analyzing project\n",
    "###### **Data reference and questions are here: https://www.kaggle.com/datasets/gagazet/path-of-exile-league-statistic**\n",
    "\n",
    "---\n",
    "Hi, I'm Angela. 😊 I'm a novice in data analysis.  I'm a novice in data analysis. I'm interested in the video games, mobility, culture, and content industry. I hope to become a data scientist with anomaly detection and anti-cheating. I hope that my analysis will have a positive impact on the world at least a little bit.  \n",
    "\n",
    "This is my first Kaggle-data analyzing project on my own. I played(?) with this data for almost a month or more freely, and I finish it to start to answer these questions partially. Finally, I can close the analysis joyfully.\n",
    "I analyzed this data set with my thoughts and what I learned (as if I were a game analyst 😆).  \n",
    "_ps. English may seem a little awkward because it is not my first language. I'm sorry. And I used the word 'average' more than the word 'mean' because I wanted to communicate more clearly in my hectic writing. 'mean' is so mean to 'average', 'mean' means 'mean' and... just joking._ 🤪\n",
    "\n",
    "---\n",
    "##### **Questions for participants**\n",
    "\n",
    "1. A total number of players in each division, usage of each class in descending order.\n",
    "2. Some of the players streaming their game (twitch column). Do they play better than people, who does not?\n",
    "3. Predict chance to be at top 30 in each division, if we are Necromancer. With and without stream.\n",
    "4. Average number of finished challanges for each division, show division with highest and lowest average challanges.\n",
    "5. Show dependency between level and class of died characters. Only for HC divisions.\n"
   ]
  },
  {
   "cell_type": "markdown",
   "id": "4f961366",
   "metadata": {},
   "source": [
    "## Importing Data and Libraries\n",
    "---"
   ]
  },
  {
   "cell_type": "code",
   "execution_count": 1,
   "id": "2ea65d0c",
   "metadata": {},
   "outputs": [
    {
     "name": "stdout",
     "output_type": "stream",
     "text": [
      "0.11.2\n",
      "1.5.3\n",
      "1.22.4\n"
     ]
    }
   ],
   "source": [
    "import pandas as pd\n",
    "import numpy as np\n",
    "\n",
    "import time as time\n",
    "import matplotlib.pyplot as plt\n",
    "import seaborn as sns\n",
    "\n",
    "# import sklearn as sk\n",
    "# import tensorflow as tf\n",
    "# import keras\n",
    "\n",
    "np.random.seed(0)\n",
    "# tf.random.set_seed(0)\n",
    "\n",
    "# version check\n",
    "print(sns.__version__)\n",
    "print(pd.__version__)\n",
    "print(np.__version__)\n",
    "# print(sk.__version__)\n",
    "# print(tf.__version__)\n",
    "# print(keras.__version__)\n",
    "\n",
    "data = pd.read_csv(\"poe_stats.csv\")"
   ]
  },
  {
   "cell_type": "code",
   "execution_count": 2,
   "id": "3b629d75",
   "metadata": {},
   "outputs": [
    {
     "data": {
      "text/html": [
       "<div>\n",
       "<style scoped>\n",
       "    .dataframe tbody tr th:only-of-type {\n",
       "        vertical-align: middle;\n",
       "    }\n",
       "\n",
       "    .dataframe tbody tr th {\n",
       "        vertical-align: top;\n",
       "    }\n",
       "\n",
       "    .dataframe thead th {\n",
       "        text-align: right;\n",
       "    }\n",
       "</style>\n",
       "<table border=\"1\" class=\"dataframe\">\n",
       "  <thead>\n",
       "    <tr style=\"text-align: right;\">\n",
       "      <th></th>\n",
       "      <th>rank</th>\n",
       "      <th>dead</th>\n",
       "      <th>online</th>\n",
       "      <th>name</th>\n",
       "      <th>level</th>\n",
       "      <th>class</th>\n",
       "      <th>id</th>\n",
       "      <th>experience</th>\n",
       "      <th>account</th>\n",
       "      <th>challenges</th>\n",
       "      <th>twitch</th>\n",
       "      <th>ladder</th>\n",
       "    </tr>\n",
       "  </thead>\n",
       "  <tbody>\n",
       "    <tr>\n",
       "      <th>0</th>\n",
       "      <td>1</td>\n",
       "      <td>False</td>\n",
       "      <td>False</td>\n",
       "      <td>Tzn_NecroIsFineNow</td>\n",
       "      <td>100</td>\n",
       "      <td>Necromancer</td>\n",
       "      <td>3dcddd59f5088893f734f39686350990dae168cc4f4b00...</td>\n",
       "      <td>4250334444</td>\n",
       "      <td>TheTzn</td>\n",
       "      <td>40</td>\n",
       "      <td>thetzn</td>\n",
       "      <td>Harbinger</td>\n",
       "    </tr>\n",
       "    <tr>\n",
       "      <th>1</th>\n",
       "      <td>1</td>\n",
       "      <td>False</td>\n",
       "      <td>False</td>\n",
       "      <td>RaizNeverFirstQT</td>\n",
       "      <td>100</td>\n",
       "      <td>Necromancer</td>\n",
       "      <td>8f3216db5ac9106c287a834731aafc83c387138f28fc45...</td>\n",
       "      <td>4250334444</td>\n",
       "      <td>RaizQT</td>\n",
       "      <td>22</td>\n",
       "      <td>raizqt</td>\n",
       "      <td>SSF Harbinger HC</td>\n",
       "    </tr>\n",
       "    <tr>\n",
       "      <th>2</th>\n",
       "      <td>1</td>\n",
       "      <td>False</td>\n",
       "      <td>False</td>\n",
       "      <td>GucciStreamerAdvantage</td>\n",
       "      <td>100</td>\n",
       "      <td>Necromancer</td>\n",
       "      <td>c6ec2dae3855c551e0597c06ef2da06fbb5512487ded7f...</td>\n",
       "      <td>4250334444</td>\n",
       "      <td>GucciPradas</td>\n",
       "      <td>35</td>\n",
       "      <td>guccipradas</td>\n",
       "      <td>Hardcore Harbinger</td>\n",
       "    </tr>\n",
       "    <tr>\n",
       "      <th>3</th>\n",
       "      <td>1</td>\n",
       "      <td>False</td>\n",
       "      <td>False</td>\n",
       "      <td>ChiroxPrime</td>\n",
       "      <td>100</td>\n",
       "      <td>Slayer</td>\n",
       "      <td>c861372da792be0b22c45bf437ccd58437c52e9455e0bf...</td>\n",
       "      <td>4250334444</td>\n",
       "      <td>Chiroxun</td>\n",
       "      <td>26</td>\n",
       "      <td>NaN</td>\n",
       "      <td>SSF Harbinger</td>\n",
       "    </tr>\n",
       "    <tr>\n",
       "      <th>4</th>\n",
       "      <td>2</td>\n",
       "      <td>False</td>\n",
       "      <td>False</td>\n",
       "      <td>Cool_NecroIsFineNow</td>\n",
       "      <td>100</td>\n",
       "      <td>Deadeye</td>\n",
       "      <td>24ae924ceed7989ef3d3d6772612832bb467a6094352c7...</td>\n",
       "      <td>4250334444</td>\n",
       "      <td>cooltail</td>\n",
       "      <td>22</td>\n",
       "      <td>NaN</td>\n",
       "      <td>Harbinger</td>\n",
       "    </tr>\n",
       "  </tbody>\n",
       "</table>\n",
       "</div>"
      ],
      "text/plain": [
       "   rank   dead  online                    name  level        class  \\\n",
       "0     1  False   False      Tzn_NecroIsFineNow    100  Necromancer   \n",
       "1     1  False   False        RaizNeverFirstQT    100  Necromancer   \n",
       "2     1  False   False  GucciStreamerAdvantage    100  Necromancer   \n",
       "3     1  False   False             ChiroxPrime    100       Slayer   \n",
       "4     2  False   False     Cool_NecroIsFineNow    100      Deadeye   \n",
       "\n",
       "                                                  id  experience      account  \\\n",
       "0  3dcddd59f5088893f734f39686350990dae168cc4f4b00...  4250334444       TheTzn   \n",
       "1  8f3216db5ac9106c287a834731aafc83c387138f28fc45...  4250334444       RaizQT   \n",
       "2  c6ec2dae3855c551e0597c06ef2da06fbb5512487ded7f...  4250334444  GucciPradas   \n",
       "3  c861372da792be0b22c45bf437ccd58437c52e9455e0bf...  4250334444     Chiroxun   \n",
       "4  24ae924ceed7989ef3d3d6772612832bb467a6094352c7...  4250334444     cooltail   \n",
       "\n",
       "   challenges       twitch              ladder  \n",
       "0          40       thetzn           Harbinger  \n",
       "1          22       raizqt    SSF Harbinger HC  \n",
       "2          35  guccipradas  Hardcore Harbinger  \n",
       "3          26          NaN       SSF Harbinger  \n",
       "4          22          NaN           Harbinger  "
      ]
     },
     "execution_count": 2,
     "metadata": {},
     "output_type": "execute_result"
    }
   ],
   "source": [
    "df = data\n",
    "df.head()"
   ]
  },
  {
   "cell_type": "markdown",
   "id": "19d246a8",
   "metadata": {},
   "source": [
    "## Data summary"
   ]
  },
  {
   "cell_type": "code",
   "execution_count": 3,
   "id": "e84a0ea2",
   "metadata": {},
   "outputs": [
    {
     "data": {
      "text/html": [
       "<div>\n",
       "<style scoped>\n",
       "    .dataframe tbody tr th:only-of-type {\n",
       "        vertical-align: middle;\n",
       "    }\n",
       "\n",
       "    .dataframe tbody tr th {\n",
       "        vertical-align: top;\n",
       "    }\n",
       "\n",
       "    .dataframe thead th {\n",
       "        text-align: right;\n",
       "    }\n",
       "</style>\n",
       "<table border=\"1\" class=\"dataframe\">\n",
       "  <thead>\n",
       "    <tr style=\"text-align: right;\">\n",
       "      <th></th>\n",
       "      <th>rank</th>\n",
       "      <th>level</th>\n",
       "      <th>experience</th>\n",
       "      <th>challenges</th>\n",
       "    </tr>\n",
       "  </thead>\n",
       "  <tbody>\n",
       "    <tr>\n",
       "      <th>count</th>\n",
       "      <td>59,776.00</td>\n",
       "      <td>59,776.00</td>\n",
       "      <td>59,776.00</td>\n",
       "      <td>59,776.00</td>\n",
       "    </tr>\n",
       "    <tr>\n",
       "      <th>mean</th>\n",
       "      <td>7,495.37</td>\n",
       "      <td>85.42</td>\n",
       "      <td>1,825,786,027.36</td>\n",
       "      <td>25.76</td>\n",
       "    </tr>\n",
       "    <tr>\n",
       "      <th>std</th>\n",
       "      <td>4,330.18</td>\n",
       "      <td>11.29</td>\n",
       "      <td>1,094,747,934.61</td>\n",
       "      <td>8.44</td>\n",
       "    </tr>\n",
       "    <tr>\n",
       "      <th>min</th>\n",
       "      <td>1.00</td>\n",
       "      <td>53.00</td>\n",
       "      <td>77,909,816.00</td>\n",
       "      <td>4.00</td>\n",
       "    </tr>\n",
       "    <tr>\n",
       "      <th>25%</th>\n",
       "      <td>3,745.00</td>\n",
       "      <td>78.00</td>\n",
       "      <td>777,469,746.25</td>\n",
       "      <td>19.00</td>\n",
       "    </tr>\n",
       "    <tr>\n",
       "      <th>50%</th>\n",
       "      <td>7,492.00</td>\n",
       "      <td>90.00</td>\n",
       "      <td>1,934,009,687.00</td>\n",
       "      <td>25.00</td>\n",
       "    </tr>\n",
       "    <tr>\n",
       "      <th>75%</th>\n",
       "      <td>11,247.00</td>\n",
       "      <td>95.00</td>\n",
       "      <td>2,876,116,901.00</td>\n",
       "      <td>33.00</td>\n",
       "    </tr>\n",
       "    <tr>\n",
       "      <th>max</th>\n",
       "      <td>15,000.00</td>\n",
       "      <td>100.00</td>\n",
       "      <td>4,250,334,444.00</td>\n",
       "      <td>40.00</td>\n",
       "    </tr>\n",
       "  </tbody>\n",
       "</table>\n",
       "</div>"
      ],
      "text/plain": [
       "           rank     level       experience  challenges\n",
       "count 59,776.00 59,776.00        59,776.00   59,776.00\n",
       "mean   7,495.37     85.42 1,825,786,027.36       25.76\n",
       "std    4,330.18     11.29 1,094,747,934.61        8.44\n",
       "min        1.00     53.00    77,909,816.00        4.00\n",
       "25%    3,745.00     78.00   777,469,746.25       19.00\n",
       "50%    7,492.00     90.00 1,934,009,687.00       25.00\n",
       "75%   11,247.00     95.00 2,876,116,901.00       33.00\n",
       "max   15,000.00    100.00 4,250,334,444.00       40.00"
      ]
     },
     "execution_count": 3,
     "metadata": {},
     "output_type": "execute_result"
    }
   ],
   "source": [
    "# options about float\n",
    "\n",
    "pd.options.display.float_format = '{:,.2f}'.format\n",
    "df.describe()"
   ]
  },
  {
   "cell_type": "code",
   "execution_count": 4,
   "id": "dc8a95b3",
   "metadata": {},
   "outputs": [
    {
     "data": {
      "text/html": [
       "<div>\n",
       "<style scoped>\n",
       "    .dataframe tbody tr th:only-of-type {\n",
       "        vertical-align: middle;\n",
       "    }\n",
       "\n",
       "    .dataframe tbody tr th {\n",
       "        vertical-align: top;\n",
       "    }\n",
       "\n",
       "    .dataframe thead th {\n",
       "        text-align: right;\n",
       "    }\n",
       "</style>\n",
       "<table border=\"1\" class=\"dataframe\">\n",
       "  <thead>\n",
       "    <tr style=\"text-align: right;\">\n",
       "      <th></th>\n",
       "      <th>name</th>\n",
       "      <th>class</th>\n",
       "      <th>id</th>\n",
       "      <th>account</th>\n",
       "      <th>twitch</th>\n",
       "      <th>ladder</th>\n",
       "    </tr>\n",
       "  </thead>\n",
       "  <tbody>\n",
       "    <tr>\n",
       "      <th>count</th>\n",
       "      <td>59776</td>\n",
       "      <td>59776</td>\n",
       "      <td>59776</td>\n",
       "      <td>59776</td>\n",
       "      <td>16300</td>\n",
       "      <td>59776</td>\n",
       "    </tr>\n",
       "    <tr>\n",
       "      <th>unique</th>\n",
       "      <td>58286</td>\n",
       "      <td>26</td>\n",
       "      <td>59776</td>\n",
       "      <td>37123</td>\n",
       "      <td>9613</td>\n",
       "      <td>4</td>\n",
       "    </tr>\n",
       "    <tr>\n",
       "      <th>top</th>\n",
       "      <td>_Flic_</td>\n",
       "      <td>Berserker</td>\n",
       "      <td>3dcddd59f5088893f734f39686350990dae168cc4f4b00...</td>\n",
       "      <td>chuz101</td>\n",
       "      <td>thespunkylobster</td>\n",
       "      <td>SSF Harbinger</td>\n",
       "    </tr>\n",
       "    <tr>\n",
       "      <th>freq</th>\n",
       "      <td>14</td>\n",
       "      <td>8711</td>\n",
       "      <td>1</td>\n",
       "      <td>30</td>\n",
       "      <td>18</td>\n",
       "      <td>14981</td>\n",
       "    </tr>\n",
       "  </tbody>\n",
       "</table>\n",
       "</div>"
      ],
      "text/plain": [
       "          name      class                                                 id  \\\n",
       "count    59776      59776                                              59776   \n",
       "unique   58286         26                                              59776   \n",
       "top     _Flic_  Berserker  3dcddd59f5088893f734f39686350990dae168cc4f4b00...   \n",
       "freq        14       8711                                                  1   \n",
       "\n",
       "        account            twitch         ladder  \n",
       "count     59776             16300          59776  \n",
       "unique    37123              9613              4  \n",
       "top     chuz101  thespunkylobster  SSF Harbinger  \n",
       "freq         30                18          14981  "
      ]
     },
     "execution_count": 4,
     "metadata": {},
     "output_type": "execute_result"
    }
   ],
   "source": [
    "df.describe(include = 'object')"
   ]
  },
  {
   "cell_type": "code",
   "execution_count": 5,
   "id": "3182be3a",
   "metadata": {},
   "outputs": [
    {
     "name": "stdout",
     "output_type": "stream",
     "text": [
      "<class 'pandas.core.frame.DataFrame'>\n",
      "RangeIndex: 59776 entries, 0 to 59775\n",
      "Data columns (total 12 columns):\n",
      " #   Column      Non-Null Count  Dtype \n",
      "---  ------      --------------  ----- \n",
      " 0   rank        59776 non-null  int64 \n",
      " 1   dead        59776 non-null  bool  \n",
      " 2   online      59776 non-null  bool  \n",
      " 3   name        59776 non-null  object\n",
      " 4   level       59776 non-null  int64 \n",
      " 5   class       59776 non-null  object\n",
      " 6   id          59776 non-null  object\n",
      " 7   experience  59776 non-null  int64 \n",
      " 8   account     59776 non-null  object\n",
      " 9   challenges  59776 non-null  int64 \n",
      " 10  twitch      16300 non-null  object\n",
      " 11  ladder      59776 non-null  object\n",
      "dtypes: bool(2), int64(4), object(6)\n",
      "memory usage: 4.7+ MB\n"
     ]
    }
   ],
   "source": [
    "df.info()"
   ]
  },
  {
   "cell_type": "markdown",
   "id": "4f6af92b",
   "metadata": {},
   "source": [
    "# 4. The average number of \"finished\" challenges \n",
    "---\n",
    "##### Q4. The average number of finished challenges for each division shows the division with the highest and lowest average challenges.\n",
    "\n",
    "This question is clear, thankfully. I'll separate the division and calculate the average challenges.  \n",
    "But we have to think about the word \"finished\". \"finished\" challenges would mean \"dead\" characters, but there are no dead characters in the modes which are not 'Hardcore' mode.  \n",
    "\n",
    "So I got the values with 'dead' characters in HC modes('Hardcore Harbinger', 'SSF Harbinger HC') and got the values with all characters in other modes. \n",
    "\n",
    "## 4-1. challenges distribution\n",
    "First, let's see the average, maximum and minimum number of challenges."
   ]
  },
  {
   "cell_type": "code",
   "execution_count": 6,
   "id": "25aee142",
   "metadata": {},
   "outputs": [
    {
     "data": {
      "text/html": [
       "<div>\n",
       "<style scoped>\n",
       "    .dataframe tbody tr th:only-of-type {\n",
       "        vertical-align: middle;\n",
       "    }\n",
       "\n",
       "    .dataframe tbody tr th {\n",
       "        vertical-align: top;\n",
       "    }\n",
       "\n",
       "    .dataframe thead tr th {\n",
       "        text-align: left;\n",
       "    }\n",
       "\n",
       "    .dataframe thead tr:last-of-type th {\n",
       "        text-align: right;\n",
       "    }\n",
       "</style>\n",
       "<table border=\"1\" class=\"dataframe\">\n",
       "  <thead>\n",
       "    <tr>\n",
       "      <th></th>\n",
       "      <th colspan=\"3\" halign=\"left\">challenges</th>\n",
       "    </tr>\n",
       "    <tr>\n",
       "      <th></th>\n",
       "      <th>mean</th>\n",
       "      <th>max</th>\n",
       "      <th>min</th>\n",
       "    </tr>\n",
       "    <tr>\n",
       "      <th>ladder</th>\n",
       "      <th></th>\n",
       "      <th></th>\n",
       "      <th></th>\n",
       "    </tr>\n",
       "  </thead>\n",
       "  <tbody>\n",
       "    <tr>\n",
       "      <th>Harbinger</th>\n",
       "      <td>33.47</td>\n",
       "      <td>40</td>\n",
       "      <td>13</td>\n",
       "    </tr>\n",
       "    <tr>\n",
       "      <th>Hardcore Harbinger</th>\n",
       "      <td>27.17</td>\n",
       "      <td>40</td>\n",
       "      <td>8</td>\n",
       "    </tr>\n",
       "    <tr>\n",
       "      <th>SSF Harbinger</th>\n",
       "      <td>22.15</td>\n",
       "      <td>40</td>\n",
       "      <td>9</td>\n",
       "    </tr>\n",
       "    <tr>\n",
       "      <th>SSF Harbinger HC</th>\n",
       "      <td>20.29</td>\n",
       "      <td>40</td>\n",
       "      <td>4</td>\n",
       "    </tr>\n",
       "  </tbody>\n",
       "</table>\n",
       "</div>"
      ],
      "text/plain": [
       "                   challenges        \n",
       "                         mean max min\n",
       "ladder                               \n",
       "Harbinger               33.47  40  13\n",
       "Hardcore Harbinger      27.17  40   8\n",
       "SSF Harbinger           22.15  40   9\n",
       "SSF Harbinger HC        20.29  40   4"
      ]
     },
     "execution_count": 6,
     "metadata": {},
     "output_type": "execute_result"
    }
   ],
   "source": [
    "# simple avg, max and min about all characters\n",
    "df.groupby(by = 'ladder')[['challenges']].agg(['mean', 'max', 'min'])"
   ]
  },
  {
   "cell_type": "markdown",
   "id": "5f5be288",
   "metadata": {},
   "source": [
    "#### [graph 4-1] Violin plot about Challenges by ladder"
   ]
  },
  {
   "cell_type": "code",
   "execution_count": 8,
   "id": "c2cd182a",
   "metadata": {},
   "outputs": [
    {
     "data": {
      "image/png": "[encoded data removed]",
      "text/plain": [
       "<Figure size 432x432 with 1 Axes>"
      ]
     },
     "metadata": {
      "needs_background": "light"
     },
     "output_type": "display_data"
    }
   ],
   "source": [
    "# visualizing the average\n",
    "plt.rcParams[\"figure.figsize\"] = (6, 6)\n",
    "sns.violinplot(data = df.sort_values(by = 'ladder'), x = 'ladder', y = 'challenges', palette = 'Paired')\n",
    "plt.xticks(ticks = [i for i in range(4)], labels = ['Har', 'HC Har', 'SSF Har', 'SSF Har HC'])\n",
    "\n",
    "plt.show()"
   ]
  },
  {
   "cell_type": "code",
   "execution_count": 9,
   "id": "6e85aeb8",
   "metadata": {},
   "outputs": [
    {
     "name": "stdout",
     "output_type": "stream",
     "text": [
      "20581\n",
      "50480\n"
     ]
    }
   ],
   "source": [
    "# data preparing\n",
    "# if not HC mode, commit the dead column\n",
    "\n",
    "df1 = df[['dead', 'ladder', 'challenges']].copy()\n",
    "print(df1['dead'].sum())\n",
    "df1.loc[df1['ladder'] == 'Harbinger', 'dead'] = True\n",
    "df1.loc[df1['ladder'] == 'SSF Harbinger', 'dead'] = True\n",
    "print(df1['dead'].sum())"
   ]
  },
  {
   "cell_type": "markdown",
   "id": "cc08ef5e",
   "metadata": {},
   "source": [
    "## [Answer]: highest and lowest average challenge of finished challenge by division\n",
    "where is highest and lowest average? "
   ]
  },
  {
   "cell_type": "code",
   "execution_count": 10,
   "id": "649eb8d8",
   "metadata": {},
   "outputs": [
    {
     "data": {
      "text/html": [
       "<div>\n",
       "<style scoped>\n",
       "    .dataframe tbody tr th:only-of-type {\n",
       "        vertical-align: middle;\n",
       "    }\n",
       "\n",
       "    .dataframe tbody tr th {\n",
       "        vertical-align: top;\n",
       "    }\n",
       "\n",
       "    .dataframe thead th {\n",
       "        text-align: right;\n",
       "    }\n",
       "</style>\n",
       "<table border=\"1\" class=\"dataframe\">\n",
       "  <thead>\n",
       "    <tr style=\"text-align: right;\">\n",
       "      <th></th>\n",
       "      <th>mean</th>\n",
       "      <th>max</th>\n",
       "      <th>min</th>\n",
       "    </tr>\n",
       "    <tr>\n",
       "      <th>ladder</th>\n",
       "      <th></th>\n",
       "      <th></th>\n",
       "      <th></th>\n",
       "    </tr>\n",
       "  </thead>\n",
       "  <tbody>\n",
       "    <tr>\n",
       "      <th>Harbinger</th>\n",
       "      <td>33.47</td>\n",
       "      <td>40</td>\n",
       "      <td>13</td>\n",
       "    </tr>\n",
       "    <tr>\n",
       "      <th>Hardcore Harbinger</th>\n",
       "      <td>27.23</td>\n",
       "      <td>40</td>\n",
       "      <td>12</td>\n",
       "    </tr>\n",
       "    <tr>\n",
       "      <th>SSF Harbinger</th>\n",
       "      <td>22.15</td>\n",
       "      <td>40</td>\n",
       "      <td>9</td>\n",
       "    </tr>\n",
       "    <tr>\n",
       "      <th>SSF Harbinger HC</th>\n",
       "      <td>19.97</td>\n",
       "      <td>40</td>\n",
       "      <td>4</td>\n",
       "    </tr>\n",
       "  </tbody>\n",
       "</table>\n",
       "</div>"
      ],
      "text/plain": [
       "                    mean  max  min\n",
       "ladder                            \n",
       "Harbinger          33.47   40   13\n",
       "Hardcore Harbinger 27.23   40   12\n",
       "SSF Harbinger      22.15   40    9\n",
       "SSF Harbinger HC   19.97   40    4"
      ]
     },
     "execution_count": 10,
     "metadata": {},
     "output_type": "execute_result"
    }
   ],
   "source": [
    "df1[df1['dead'] == True].groupby('ladder')['challenges'].agg(['mean', 'max', 'min']).sort_values(['mean'], ascending = False)"
   ]
  },
  {
   "cell_type": "code",
   "execution_count": 11,
   "id": "e4b40daf",
   "metadata": {},
   "outputs": [
    {
     "name": "stdout",
     "output_type": "stream",
     "text": [
      "Highest average challenges: Harbinger\n",
      "Lowest average challenges: SSF Harbinger HC\n"
     ]
    }
   ],
   "source": [
    "print('Highest average challenges:', \n",
    "      df1[df1['dead'] == True].groupby('ladder')['challenges'].agg(['mean', 'max', 'min']).sort_values(['mean'], ascending = False).index[0])\n",
    "print('Lowest average challenges:', \n",
    "      df1[df1['dead'] == True].groupby('ladder')['challenges'].agg(['mean', 'max', 'min']).sort_values(['mean'], ascending = False).index[-1])"
   ]
  },
  {
   "cell_type": "markdown",
   "id": "50298dea",
   "metadata": {},
   "source": [
    "## 4-2. results:\n",
    "The challenge numbers are lower in Hardcore mode. SSF modes are lower than other modes.  \n",
    "\n",
    "1. Hardcore mode has characters' death. Therefore they must be stopped one day. So they'll do their best carefully and harder each time of challenge. (It means each challenge is burdensome and stressful.)  \n",
    "2. It seems single-player modes are more exhausting than multi-player modes. There are no motivating factors except himself and his results. They fight all by themselves without any allies. Maybe it makes them give up on doing it 'one more time'.  \n",
    "\n",
    "Actually, these are regardless of the numbers above. The insight-able result needs more knowledge of the game. I'm bad to couldn't imagine the gap between one or two times challenges. If you know about this, please write a comment, I'd really appreciate that.  "
   ]
  },
  {
   "cell_type": "markdown",
   "id": "e1f190a0",
   "metadata": {},
   "source": [
    "# 5. Is the class of the dead characters related to level?\n",
    "---\n",
    "##### Q5. Show dependency between level and class of dead characters. Only for HC divisions.\n",
    "**Show dependency between level and class of died characters. Only for HC divisions.**\n",
    "\n",
    "I thought deeply about the question. *Does 'Show dependency ~' this phrase already suppose that the level and class have a dependency on each other before analyzing so far?*\n",
    "So I tried to judge by some statistical methods whether they have a dependency. Then I explained(showed) it using logic about the game and stat results.\n",
    "\n",
    "If I were a game data analyst, after a little more deeply thinking about this question, I would understand this question as the relation between the dead characters' class and the level. And I assumed that the intention of it is searching for some reason why the dead characters are dead. \n",
    "\n",
    "One of the ideas that came up as a thinking might have been a level or class issue. Maybe it was digging into only Hardcore modes to solve a problem in limited data. Because this data is limiting for analyzing the in-game situations(like losing HP or environment) or numerous combinations of skills and equipment.\n",
    "\n",
    "Someone can think that the death is related to just level(user's ability), maybe the class is the problem or both. However, I think this is something to be careful about in the process of asking questions before understanding the analysis properly. It can be a meaningless analysis that gets biased answers or rechecks the predicted results If we rely on predictions without careful planning. Death is just 'the death' and it could be related to just one of them or neither, we have to be beware when analyzing a problem kind of this.\n",
    "For example, even if there's a relation between them, it is possible that the relationship is caused by the difficulty of piloting the class, regardless of the class's performance(It might be the problem between 'class' and 'level' which is discovered in every 'ladder'.).\n",
    "\n",
    "In other words, the analysis of this question is not the end. It can be an insufficient question to make a decision and I think it is a step in the analysis process of big flows. The interpretation of this question and analysis I think is as follows.\n",
    "\n",
    "- If there is a correlation between level and class in dead characters, we can start to look for something that could reveal the end(death) of the characters by analyzing relativeness with level or class.\n",
    "- On the other hand, if there's no or low dependency between level and class, we can only know that the preference by level about the classes in HC mode(especially for dead characters) doesn't exist. (It could be called a 'well-balanced' game which not makes users' resist or favoritism.)\n",
    "\n",
    "Before checking the dependency, I looked at some of the levels and classes statistically for the dead characters.\n",
    "\n",
    "---\n",
    "\n",
    "The methods which can get the dependency,\n",
    "1. getting a correlation between level and class.\n",
    "2. comparing the average level by each class and one-way ANOVA\n",
    "\n",
    "And I imagined also this: make a machine learning model with class and level, and watch whether the model can predict the class just with level! I'm a little bit sorry for the computer but the computer can't do that."
   ]
  },
  {
   "cell_type": "markdown",
   "id": "6f842503",
   "metadata": {},
   "source": [
    "## 5-1. distribution and data preprocessing\n",
    "### (1) ratio of dead characters\n",
    "\n",
    "I looked at the hardcore mode of the percentage of dead characters. It seems that the proportion of characters who haven't finished the long long battle yet is not small."
   ]
  },
  {
   "cell_type": "code",
   "execution_count": 64,
   "id": "56a93cd5",
   "metadata": {},
   "outputs": [
    {
     "data": {
      "text/html": [
       "<div>\n",
       "<style scoped>\n",
       "    .dataframe tbody tr th:only-of-type {\n",
       "        vertical-align: middle;\n",
       "    }\n",
       "\n",
       "    .dataframe tbody tr th {\n",
       "        vertical-align: top;\n",
       "    }\n",
       "\n",
       "    .dataframe thead th {\n",
       "        text-align: right;\n",
       "    }\n",
       "</style>\n",
       "<table border=\"1\" class=\"dataframe\">\n",
       "  <thead>\n",
       "    <tr style=\"text-align: right;\">\n",
       "      <th></th>\n",
       "      <th>dead</th>\n",
       "    </tr>\n",
       "    <tr>\n",
       "      <th>ladder</th>\n",
       "      <th></th>\n",
       "    </tr>\n",
       "  </thead>\n",
       "  <tbody>\n",
       "    <tr>\n",
       "      <th>Hardcore Harbinger</th>\n",
       "      <td>0.63</td>\n",
       "    </tr>\n",
       "    <tr>\n",
       "      <th>SSF Harbinger HC</th>\n",
       "      <td>0.74</td>\n",
       "    </tr>\n",
       "  </tbody>\n",
       "</table>\n",
       "</div>"
      ],
      "text/plain": [
       "                    dead\n",
       "ladder                  \n",
       "Hardcore Harbinger  0.63\n",
       "SSF Harbinger HC    0.74"
      ]
     },
     "execution_count": 64,
     "metadata": {},
     "output_type": "execute_result"
    }
   ],
   "source": [
    "# dataframe contains only hardcore modes\n",
    "df_hc = df.loc[df['ladder'].isin(['SSF Harbinger HC', 'Hardcore Harbinger'])]\n",
    "\n",
    "# dead characters rate\n",
    "df_hc.pivot_table(index = 'ladder', values = 'dead')"
   ]
  },
  {
   "cell_type": "markdown",
   "id": "318563ec",
   "metadata": {},
   "source": [
    "### (2) all/dead characters’ level distribution in Hardcore mode"
   ]
  },
  {
   "cell_type": "code",
   "execution_count": 63,
   "id": "992b0d33",
   "metadata": {},
   "outputs": [
    {
     "data": {
      "text/html": [
       "<div>\n",
       "<style scoped>\n",
       "    .dataframe tbody tr th:only-of-type {\n",
       "        vertical-align: middle;\n",
       "    }\n",
       "\n",
       "    .dataframe tbody tr th {\n",
       "        vertical-align: top;\n",
       "    }\n",
       "\n",
       "    .dataframe thead th {\n",
       "        text-align: right;\n",
       "    }\n",
       "</style>\n",
       "<table border=\"1\" class=\"dataframe\">\n",
       "  <thead>\n",
       "    <tr style=\"text-align: right;\">\n",
       "      <th></th>\n",
       "      <th>all</th>\n",
       "      <th>dead</th>\n",
       "    </tr>\n",
       "  </thead>\n",
       "  <tbody>\n",
       "    <tr>\n",
       "      <th>count</th>\n",
       "      <td>29,877.00</td>\n",
       "      <td>20,581.00</td>\n",
       "    </tr>\n",
       "    <tr>\n",
       "      <th>mean</th>\n",
       "      <td>81.47</td>\n",
       "      <td>80.23</td>\n",
       "    </tr>\n",
       "    <tr>\n",
       "      <th>std</th>\n",
       "      <td>12.78</td>\n",
       "      <td>13.03</td>\n",
       "    </tr>\n",
       "    <tr>\n",
       "      <th>min</th>\n",
       "      <td>53.00</td>\n",
       "      <td>53.00</td>\n",
       "    </tr>\n",
       "    <tr>\n",
       "      <th>25%</th>\n",
       "      <td>71.00</td>\n",
       "      <td>69.00</td>\n",
       "    </tr>\n",
       "    <tr>\n",
       "      <th>50%</th>\n",
       "      <td>89.00</td>\n",
       "      <td>88.00</td>\n",
       "    </tr>\n",
       "    <tr>\n",
       "      <th>75%</th>\n",
       "      <td>91.00</td>\n",
       "      <td>91.00</td>\n",
       "    </tr>\n",
       "    <tr>\n",
       "      <th>max</th>\n",
       "      <td>100.00</td>\n",
       "      <td>100.00</td>\n",
       "    </tr>\n",
       "  </tbody>\n",
       "</table>\n",
       "</div>"
      ],
      "text/plain": [
       "            all      dead\n",
       "count 29,877.00 20,581.00\n",
       "mean      81.47     80.23\n",
       "std       12.78     13.03\n",
       "min       53.00     53.00\n",
       "25%       71.00     69.00\n",
       "50%       89.00     88.00\n",
       "75%       91.00     91.00\n",
       "max      100.00    100.00"
      ]
     },
     "execution_count": 63,
     "metadata": {},
     "output_type": "execute_result"
    }
   ],
   "source": [
    "a = df_hc['level'].describe().rename('a')\n",
    "d = df_hc[df_hc['dead'] == True]['level'].describe().rename('d')\n",
    "ad = pd.concat([a, d], axis = 1)\n",
    "ad.rename(columns = {'a':'all', 'd':'dead'}, inplace = True)\n",
    "ad"
   ]
  },
  {
   "cell_type": "markdown",
   "id": "b4378f90",
   "metadata": {},
   "source": [
    "We looked at the level distribution of dead characters. 80 is the average, and the median is about 88. As a result of checking with the graph, it is distributed a lot in the high level section.  \n",
    "\n",
    "If you think this game mode itself is a \"challenging place, a place to test limits,\" it is no wonder that most characters have high levels. As you see in the values of ‘all’ characters in the mode, it's not because of the high level, but because there are many high-level characters who are challenging the mode.  "
   ]
  },
  {
   "cell_type": "code",
   "execution_count": 67,
   "id": "a113bbe3",
   "metadata": {},
   "outputs": [
    {
     "data": {
      "image/png": "[encoded data removed]",
      "text/plain": [
       "<Figure size 432x288 with 1 Axes>"
      ]
     },
     "metadata": {},
     "output_type": "display_data"
    }
   ],
   "source": [
    "# dead characters data frame with the level data\n",
    "df_dead = df_hc.loc[df['dead'] == True][['class', 'level']]\n",
    "\n",
    "\n",
    "plt.rcParams[\"font.family\"] = 'AppleGothic'\n",
    "plt.rcParams[\"font.size\"] = 10\n",
    "plt.style.use(\"seaborn-whitegrid\")\n",
    "plt.rcParams['axes.facecolor']='white'\n",
    "\n",
    "plt.figure(figsize = (6, 4))\n",
    "sns.histplot(x = df_dead['level'], palette = 'Paired', kde = True)\n",
    "plt.title(\"level of dead characters in Hardcore mode\")\n",
    "plt.show()"
   ]
  },
  {
   "cell_type": "markdown",
   "id": "54c26a56",
   "metadata": {},
   "source": [
    "Many people already know that **the minimum level of users in Hardcore mode is 53** before reaching this question.  \n",
    "\n",
    "<br>\n",
    "\n",
    "### (3) Average level of dead characters by class\n",
    "I visualized the average level of dead characters by class."
   ]
  },
  {
   "cell_type": "code",
   "execution_count": 68,
   "id": "b31df244",
   "metadata": {},
   "outputs": [
    {
     "data": {
      "image/png": "[encoded data removed]",
      "text/plain": [
       "<Figure size 432x288 with 1 Axes>"
      ]
     },
     "metadata": {},
     "output_type": "display_data"
    }
   ],
   "source": [
    "plt.figure(figsize = (6, 4))\n",
    "plt.xticks(rotation = 90)\n",
    "plt.ylim(50, 100)\n",
    "df_hc_lev_mean = df_dead.groupby('class')[['level']].mean()\n",
    "sns.barplot(data = df_hc_lev_mean, x = df_hc_lev_mean.index, y = 'level')\n",
    "plt.show()"
   ]
  },
  {
   "cell_type": "code",
   "execution_count": null,
   "id": "daf166a0",
   "metadata": {},
   "outputs": [],
   "source": []
  },
  {
   "cell_type": "code",
   "execution_count": null,
   "id": "91b6cc57",
   "metadata": {},
   "outputs": [],
   "source": []
  },
  {
   "cell_type": "code",
   "execution_count": null,
   "id": "77d1b357",
   "metadata": {},
   "outputs": [],
   "source": []
  },
  {
   "cell_type": "code",
   "execution_count": null,
   "id": "ec33cf45",
   "metadata": {},
   "outputs": [],
   "source": []
  },
  {
   "cell_type": "code",
   "execution_count": null,
   "id": "a7134a60",
   "metadata": {},
   "outputs": [],
   "source": []
  },
  {
   "cell_type": "code",
   "execution_count": null,
   "id": "504a6693",
   "metadata": {},
   "outputs": [],
   "source": []
  },
  {
   "cell_type": "code",
   "execution_count": null,
   "id": "73da521e",
   "metadata": {},
   "outputs": [],
   "source": []
  },
  {
   "cell_type": "code",
   "execution_count": null,
   "id": "4edc82a8",
   "metadata": {},
   "outputs": [],
   "source": []
  },
  {
   "cell_type": "code",
   "execution_count": null,
   "id": "720436bb",
   "metadata": {},
   "outputs": [],
   "source": []
  },
  {
   "cell_type": "code",
   "execution_count": 15,
   "id": "1d99c017",
   "metadata": {},
   "outputs": [
    {
     "data": {
      "text/html": [
       "<div>\n",
       "<style scoped>\n",
       "    .dataframe tbody tr th:only-of-type {\n",
       "        vertical-align: middle;\n",
       "    }\n",
       "\n",
       "    .dataframe tbody tr th {\n",
       "        vertical-align: top;\n",
       "    }\n",
       "\n",
       "    .dataframe thead th {\n",
       "        text-align: right;\n",
       "    }\n",
       "</style>\n",
       "<table border=\"1\" class=\"dataframe\">\n",
       "  <thead>\n",
       "    <tr style=\"text-align: right;\">\n",
       "      <th></th>\n",
       "      <th>class</th>\n",
       "      <th>level</th>\n",
       "    </tr>\n",
       "  </thead>\n",
       "  <tbody>\n",
       "    <tr>\n",
       "      <th>15</th>\n",
       "      <td>Raider</td>\n",
       "      <td>100</td>\n",
       "    </tr>\n",
       "    <tr>\n",
       "      <th>24</th>\n",
       "      <td>Necromancer</td>\n",
       "      <td>100</td>\n",
       "    </tr>\n",
       "    <tr>\n",
       "      <th>32</th>\n",
       "      <td>Slayer</td>\n",
       "      <td>100</td>\n",
       "    </tr>\n",
       "    <tr>\n",
       "      <th>48</th>\n",
       "      <td>Occultist</td>\n",
       "      <td>100</td>\n",
       "    </tr>\n",
       "    <tr>\n",
       "      <th>77</th>\n",
       "      <td>Necromancer</td>\n",
       "      <td>99</td>\n",
       "    </tr>\n",
       "    <tr>\n",
       "      <th>...</th>\n",
       "      <td>...</td>\n",
       "      <td>...</td>\n",
       "    </tr>\n",
       "    <tr>\n",
       "      <th>59762</th>\n",
       "      <td>Juggernaut</td>\n",
       "      <td>53</td>\n",
       "    </tr>\n",
       "    <tr>\n",
       "      <th>59763</th>\n",
       "      <td>Slayer</td>\n",
       "      <td>89</td>\n",
       "    </tr>\n",
       "    <tr>\n",
       "      <th>59765</th>\n",
       "      <td>Berserker</td>\n",
       "      <td>53</td>\n",
       "    </tr>\n",
       "    <tr>\n",
       "      <th>59768</th>\n",
       "      <td>Necromancer</td>\n",
       "      <td>53</td>\n",
       "    </tr>\n",
       "    <tr>\n",
       "      <th>59771</th>\n",
       "      <td>Necromancer</td>\n",
       "      <td>89</td>\n",
       "    </tr>\n",
       "  </tbody>\n",
       "</table>\n",
       "<p>20581 rows × 2 columns</p>\n",
       "</div>"
      ],
      "text/plain": [
       "             class  level\n",
       "15          Raider    100\n",
       "24     Necromancer    100\n",
       "32          Slayer    100\n",
       "48       Occultist    100\n",
       "77     Necromancer     99\n",
       "...            ...    ...\n",
       "59762   Juggernaut     53\n",
       "59763       Slayer     89\n",
       "59765    Berserker     53\n",
       "59768  Necromancer     53\n",
       "59771  Necromancer     89\n",
       "\n",
       "[20581 rows x 2 columns]"
      ]
     },
     "execution_count": 15,
     "metadata": {},
     "output_type": "execute_result"
    }
   ],
   "source": [
    "# dead\n",
    "df_dead = df_hc.loc[df['dead'] == True][['class', 'level']]\n",
    "df_dead"
   ]
  },
  {
   "cell_type": "code",
   "execution_count": 16,
   "id": "107eb47b",
   "metadata": {},
   "outputs": [
    {
     "data": {
      "text/html": [
       "<div>\n",
       "<style scoped>\n",
       "    .dataframe tbody tr th:only-of-type {\n",
       "        vertical-align: middle;\n",
       "    }\n",
       "\n",
       "    .dataframe tbody tr th {\n",
       "        vertical-align: top;\n",
       "    }\n",
       "\n",
       "    .dataframe thead th {\n",
       "        text-align: right;\n",
       "    }\n",
       "</style>\n",
       "<table border=\"1\" class=\"dataframe\">\n",
       "  <thead>\n",
       "    <tr style=\"text-align: right;\">\n",
       "      <th></th>\n",
       "      <th>class</th>\n",
       "      <th>level</th>\n",
       "      <th>scaled_level</th>\n",
       "    </tr>\n",
       "  </thead>\n",
       "  <tbody>\n",
       "    <tr>\n",
       "      <th>15</th>\n",
       "      <td>Raider</td>\n",
       "      <td>100</td>\n",
       "      <td>1.00</td>\n",
       "    </tr>\n",
       "    <tr>\n",
       "      <th>24</th>\n",
       "      <td>Necromancer</td>\n",
       "      <td>100</td>\n",
       "      <td>1.00</td>\n",
       "    </tr>\n",
       "    <tr>\n",
       "      <th>32</th>\n",
       "      <td>Slayer</td>\n",
       "      <td>100</td>\n",
       "      <td>1.00</td>\n",
       "    </tr>\n",
       "    <tr>\n",
       "      <th>48</th>\n",
       "      <td>Occultist</td>\n",
       "      <td>100</td>\n",
       "      <td>1.00</td>\n",
       "    </tr>\n",
       "    <tr>\n",
       "      <th>77</th>\n",
       "      <td>Necromancer</td>\n",
       "      <td>99</td>\n",
       "      <td>0.98</td>\n",
       "    </tr>\n",
       "  </tbody>\n",
       "</table>\n",
       "</div>"
      ],
      "text/plain": [
       "          class  level  scaled_level\n",
       "15       Raider    100          1.00\n",
       "24  Necromancer    100          1.00\n",
       "32       Slayer    100          1.00\n",
       "48    Occultist    100          1.00\n",
       "77  Necromancer     99          0.98"
      ]
     },
     "execution_count": 16,
     "metadata": {},
     "output_type": "execute_result"
    }
   ],
   "source": [
    "# Min-Max Scaling\n",
    "Xmin = min(df_dead['level'])\n",
    "Xmax = max(df_dead['level'])\n",
    "scaled = (df_dead['level'] - Xmin) / (Xmax - Xmin)\n",
    "df_dead['scaled_level'] = scaled\n",
    "df_dead.head(5)"
   ]
  },
  {
   "cell_type": "markdown",
   "id": "b0d1cb3a",
   "metadata": {},
   "source": [
    "#### get dummies"
   ]
  },
  {
   "cell_type": "code",
   "execution_count": 17,
   "id": "726ed47a",
   "metadata": {},
   "outputs": [
    {
     "data": {
      "text/html": [
       "<div>\n",
       "<style scoped>\n",
       "    .dataframe tbody tr th:only-of-type {\n",
       "        vertical-align: middle;\n",
       "    }\n",
       "\n",
       "    .dataframe tbody tr th {\n",
       "        vertical-align: top;\n",
       "    }\n",
       "\n",
       "    .dataframe thead th {\n",
       "        text-align: right;\n",
       "    }\n",
       "</style>\n",
       "<table border=\"1\" class=\"dataframe\">\n",
       "  <thead>\n",
       "    <tr style=\"text-align: right;\">\n",
       "      <th></th>\n",
       "      <th>level</th>\n",
       "      <th>scaled_level</th>\n",
       "      <th>class_Ascendant</th>\n",
       "      <th>class_Assassin</th>\n",
       "      <th>class_Berserker</th>\n",
       "      <th>class_Champion</th>\n",
       "      <th>class_Chieftain</th>\n",
       "      <th>class_Deadeye</th>\n",
       "      <th>class_Duelist</th>\n",
       "      <th>class_Elementalist</th>\n",
       "      <th>...</th>\n",
       "      <th>class_Pathfinder</th>\n",
       "      <th>class_Raider</th>\n",
       "      <th>class_Ranger</th>\n",
       "      <th>class_Saboteur</th>\n",
       "      <th>class_Scion</th>\n",
       "      <th>class_Shadow</th>\n",
       "      <th>class_Slayer</th>\n",
       "      <th>class_Templar</th>\n",
       "      <th>class_Trickster</th>\n",
       "      <th>class_Witch</th>\n",
       "    </tr>\n",
       "  </thead>\n",
       "  <tbody>\n",
       "    <tr>\n",
       "      <th>15</th>\n",
       "      <td>100</td>\n",
       "      <td>1.00</td>\n",
       "      <td>0</td>\n",
       "      <td>0</td>\n",
       "      <td>0</td>\n",
       "      <td>0</td>\n",
       "      <td>0</td>\n",
       "      <td>0</td>\n",
       "      <td>0</td>\n",
       "      <td>0</td>\n",
       "      <td>...</td>\n",
       "      <td>0</td>\n",
       "      <td>1</td>\n",
       "      <td>0</td>\n",
       "      <td>0</td>\n",
       "      <td>0</td>\n",
       "      <td>0</td>\n",
       "      <td>0</td>\n",
       "      <td>0</td>\n",
       "      <td>0</td>\n",
       "      <td>0</td>\n",
       "    </tr>\n",
       "    <tr>\n",
       "      <th>24</th>\n",
       "      <td>100</td>\n",
       "      <td>1.00</td>\n",
       "      <td>0</td>\n",
       "      <td>0</td>\n",
       "      <td>0</td>\n",
       "      <td>0</td>\n",
       "      <td>0</td>\n",
       "      <td>0</td>\n",
       "      <td>0</td>\n",
       "      <td>0</td>\n",
       "      <td>...</td>\n",
       "      <td>0</td>\n",
       "      <td>0</td>\n",
       "      <td>0</td>\n",
       "      <td>0</td>\n",
       "      <td>0</td>\n",
       "      <td>0</td>\n",
       "      <td>0</td>\n",
       "      <td>0</td>\n",
       "      <td>0</td>\n",
       "      <td>0</td>\n",
       "    </tr>\n",
       "    <tr>\n",
       "      <th>32</th>\n",
       "      <td>100</td>\n",
       "      <td>1.00</td>\n",
       "      <td>0</td>\n",
       "      <td>0</td>\n",
       "      <td>0</td>\n",
       "      <td>0</td>\n",
       "      <td>0</td>\n",
       "      <td>0</td>\n",
       "      <td>0</td>\n",
       "      <td>0</td>\n",
       "      <td>...</td>\n",
       "      <td>0</td>\n",
       "      <td>0</td>\n",
       "      <td>0</td>\n",
       "      <td>0</td>\n",
       "      <td>0</td>\n",
       "      <td>0</td>\n",
       "      <td>1</td>\n",
       "      <td>0</td>\n",
       "      <td>0</td>\n",
       "      <td>0</td>\n",
       "    </tr>\n",
       "    <tr>\n",
       "      <th>48</th>\n",
       "      <td>100</td>\n",
       "      <td>1.00</td>\n",
       "      <td>0</td>\n",
       "      <td>0</td>\n",
       "      <td>0</td>\n",
       "      <td>0</td>\n",
       "      <td>0</td>\n",
       "      <td>0</td>\n",
       "      <td>0</td>\n",
       "      <td>0</td>\n",
       "      <td>...</td>\n",
       "      <td>0</td>\n",
       "      <td>0</td>\n",
       "      <td>0</td>\n",
       "      <td>0</td>\n",
       "      <td>0</td>\n",
       "      <td>0</td>\n",
       "      <td>0</td>\n",
       "      <td>0</td>\n",
       "      <td>0</td>\n",
       "      <td>0</td>\n",
       "    </tr>\n",
       "    <tr>\n",
       "      <th>77</th>\n",
       "      <td>99</td>\n",
       "      <td>0.98</td>\n",
       "      <td>0</td>\n",
       "      <td>0</td>\n",
       "      <td>0</td>\n",
       "      <td>0</td>\n",
       "      <td>0</td>\n",
       "      <td>0</td>\n",
       "      <td>0</td>\n",
       "      <td>0</td>\n",
       "      <td>...</td>\n",
       "      <td>0</td>\n",
       "      <td>0</td>\n",
       "      <td>0</td>\n",
       "      <td>0</td>\n",
       "      <td>0</td>\n",
       "      <td>0</td>\n",
       "      <td>0</td>\n",
       "      <td>0</td>\n",
       "      <td>0</td>\n",
       "      <td>0</td>\n",
       "    </tr>\n",
       "  </tbody>\n",
       "</table>\n",
       "<p>5 rows × 28 columns</p>\n",
       "</div>"
      ],
      "text/plain": [
       "    level  scaled_level  class_Ascendant  class_Assassin  class_Berserker  \\\n",
       "15    100          1.00                0               0                0   \n",
       "24    100          1.00                0               0                0   \n",
       "32    100          1.00                0               0                0   \n",
       "48    100          1.00                0               0                0   \n",
       "77     99          0.98                0               0                0   \n",
       "\n",
       "    class_Champion  class_Chieftain  class_Deadeye  class_Duelist  \\\n",
       "15               0                0              0              0   \n",
       "24               0                0              0              0   \n",
       "32               0                0              0              0   \n",
       "48               0                0              0              0   \n",
       "77               0                0              0              0   \n",
       "\n",
       "    class_Elementalist  ...  class_Pathfinder  class_Raider  class_Ranger  \\\n",
       "15                   0  ...                 0             1             0   \n",
       "24                   0  ...                 0             0             0   \n",
       "32                   0  ...                 0             0             0   \n",
       "48                   0  ...                 0             0             0   \n",
       "77                   0  ...                 0             0             0   \n",
       "\n",
       "    class_Saboteur  class_Scion  class_Shadow  class_Slayer  class_Templar  \\\n",
       "15               0            0             0             0              0   \n",
       "24               0            0             0             0              0   \n",
       "32               0            0             0             1              0   \n",
       "48               0            0             0             0              0   \n",
       "77               0            0             0             0              0   \n",
       "\n",
       "    class_Trickster  class_Witch  \n",
       "15                0            0  \n",
       "24                0            0  \n",
       "32                0            0  \n",
       "48                0            0  \n",
       "77                0            0  \n",
       "\n",
       "[5 rows x 28 columns]"
      ]
     },
     "execution_count": 17,
     "metadata": {},
     "output_type": "execute_result"
    }
   ],
   "source": [
    "df_deads_onehot = pd.get_dummies(df_dead, drop_first = False)\n",
    "df_deads_onehot.head(5)"
   ]
  },
  {
   "cell_type": "markdown",
   "id": "35dbb4e3",
   "metadata": {},
   "source": [
    "## 5-2. correlation"
   ]
  },
  {
   "cell_type": "code",
   "execution_count": 48,
   "id": "16f7cc09",
   "metadata": {
    "scrolled": true
   },
   "outputs": [
    {
     "data": {
      "text/plain": [
       "level                 1.00\n",
       "scaled_level          1.00\n",
       "class_Ascendant       0.03\n",
       "class_Assassin       -0.06\n",
       "class_Berserker       0.05\n",
       "class_Champion        0.04\n",
       "class_Chieftain       0.02\n",
       "class_Deadeye        -0.02\n",
       "class_Duelist        -0.08\n",
       "class_Elementalist   -0.09\n",
       "class_Gladiator       0.01\n",
       "class_Guardian        0.10\n",
       "class_Hierophant     -0.05\n",
       "class_Inquisitor     -0.02\n",
       "class_Juggernaut      0.01\n",
       "class_Marauder       -0.08\n",
       "class_Necromancer     0.02\n",
       "class_Occultist      -0.03\n",
       "class_Pathfinder      0.04\n",
       "class_Raider         -0.01\n",
       "class_Ranger         -0.05\n",
       "class_Saboteur       -0.01\n",
       "class_Scion          -0.06\n",
       "class_Shadow         -0.06\n",
       "class_Slayer          0.04\n",
       "class_Templar        -0.08\n",
       "class_Trickster      -0.02\n",
       "class_Witch          -0.10\n",
       "Name: level, dtype: float64"
      ]
     },
     "execution_count": 48,
     "metadata": {},
     "output_type": "execute_result"
    }
   ],
   "source": [
    "df_deads_onehot.corr().round(3)['level']"
   ]
  },
  {
   "cell_type": "code",
   "execution_count": 50,
   "id": "08cbb27a",
   "metadata": {
    "scrolled": true
   },
   "outputs": [
    {
     "data": {
      "text/plain": [
       "level                 1.00\n",
       "scaled_level          1.00\n",
       "class_Ascendant       0.03\n",
       "class_Assassin       -0.06\n",
       "class_Berserker       0.04\n",
       "class_Champion        0.03\n",
       "class_Chieftain       0.01\n",
       "class_Deadeye        -0.02\n",
       "class_Duelist        -0.07\n",
       "class_Elementalist   -0.08\n",
       "class_Gladiator      -0.00\n",
       "class_Guardian        0.12\n",
       "class_Hierophant     -0.06\n",
       "class_Inquisitor     -0.03\n",
       "class_Juggernaut      0.00\n",
       "class_Marauder       -0.07\n",
       "class_Necromancer     0.02\n",
       "class_Occultist      -0.03\n",
       "class_Pathfinder      0.05\n",
       "class_Raider         -0.01\n",
       "class_Ranger         -0.05\n",
       "class_Saboteur       -0.01\n",
       "class_Scion          -0.05\n",
       "class_Shadow         -0.05\n",
       "class_Slayer          0.04\n",
       "class_Templar        -0.07\n",
       "class_Trickster      -0.02\n",
       "class_Witch          -0.08\n",
       "Name: scaled_level, dtype: float64"
      ]
     },
     "execution_count": 50,
     "metadata": {},
     "output_type": "execute_result"
    }
   ],
   "source": [
    "df_deads_onehot.corr(method = 'spearman').round(3)['scaled_level']"
   ]
  },
  {
   "cell_type": "code",
   "execution_count": 20,
   "id": "508572fa",
   "metadata": {},
   "outputs": [
    {
     "data": {
      "image/png": "[encoded data removed]",
      "text/plain": [
       "<Figure size 720x720 with 2 Axes>"
      ]
     },
     "metadata": {
      "needs_background": "light"
     },
     "output_type": "display_data"
    }
   ],
   "source": [
    "mask = np.zeros_like(df_deads_onehot.corr())\n",
    "mask[np.triu_indices_from(mask)] = True\n",
    "plt.figure(figsize = (10, 10))\n",
    "sns.heatmap(data = df_deads_onehot.corr(), cmap = 'RdBu', mask=mask, square = True, vmin = -0.5, vmax = 0.5)\n",
    "plt.title('Correlation matrix')\n",
    "plt.show()"
   ]
  },
  {
   "cell_type": "markdown",
   "id": "9355d52a",
   "metadata": {},
   "source": [
    "### about correlation result:\n",
    "That seems there's no correlation between the level and the class, but the data indeed became scarce data after getting dummies.  \n",
    "In this case, we can use polyserial correlation analysis.\n",
    "\n",
    "`stats.pointbiserialr` need bools array... 'biserial'... this is nominal..."
   ]
  },
  {
   "cell_type": "code",
   "execution_count": null,
   "id": "b8e2eced",
   "metadata": {},
   "outputs": [],
   "source": [
    "# from scipy.stats import pointbiserialr\n",
    "\n",
    "# pointbiserialr(df_deads_onehot.loc[15, 'class_Ascendant':], df_deads_onehot.loc[15, 'scaled_level'])"
   ]
  },
  {
   "cell_type": "markdown",
   "id": "0c3840da",
   "metadata": {},
   "source": [
    "## 5-3. Average level of each class \n",
    "\n",
    "### 5-3-1. Average level"
   ]
  },
  {
   "cell_type": "code",
   "execution_count": 51,
   "id": "b74b3a97",
   "metadata": {},
   "outputs": [
    {
     "data": {
      "image/png": "[encoded data removed]",
      "text/plain": [
       "<Figure size 720x360 with 1 Axes>"
      ]
     },
     "metadata": {
      "needs_background": "light"
     },
     "output_type": "display_data"
    }
   ],
   "source": [
    "plt.rcParams['figure.figsize'] = (10,5)\n",
    "plt.xticks(rotation = 90)\n",
    "plt.ylim(50, 105)\n",
    "df_hc_lev_mean = df_dead.groupby('class')[['level']].mean()\n",
    "sns.barplot(data = df_hc_lev_mean, x = df_hc_lev_mean.index, y = 'level') # 신뢰구간 표시 못하나 그냥 boxplot그려야 하나\n",
    "plt.show()"
   ]
  },
  {
   "cell_type": "code",
   "execution_count": 52,
   "id": "83e606b8",
   "metadata": {},
   "outputs": [
    {
     "data": {
      "image/png": "[encoded data removed]",
      "text/plain": [
       "<Figure size 720x360 with 1 Axes>"
      ]
     },
     "metadata": {
      "needs_background": "light"
     },
     "output_type": "display_data"
    }
   ],
   "source": [
    "plt.rcParams['figure.figsize'] = (10,5)\n",
    "plt.xticks(rotation = 90)\n",
    "df_hc_lev_mean = df_dead.groupby('class')[['scaled_level']].mean()\n",
    "sns.barplot(data = df_hc_lev_mean, x = df_hc_lev_mean.index, y = 'scaled_level')\n",
    "plt.show()"
   ]
  },
  {
   "cell_type": "markdown",
   "id": "89b1196a",
   "metadata": {},
   "source": [
    "아니 스케일링을 하는 이유가 없어지는데... 그냥 해야겠다. 다 지우고,,,, 그냥 기록만 남기고...\n",
    "\n",
    "그래프를 보고 알 수 있는 것: 듀엘리스트, 머러더, 레인저, 사이온, 셰도우, 템플러, 위치는 평균 레벨이 현저히 낮다.  \n",
    "아마 이 모든 클래스를 데리고 ANOVA를 하면 분명 다르다고 할 것이고, 전부 사후검정을 하게되면 이 클래스들에서 차이가 나타날 것이다.  \n",
    "일부 클래스에서 낮은 것은 사실이나 이것이 꼭 레벨과 관련이 있다고 할 수 있는 것은 아니다.  \n",
    "왜냐하면 이미 언급했듯, 이 모드의 최소 레벨은 53으로, 경험이 풍부한 사람이 부 캐릭터를 53까지 키워서 하드코어 모드에서 기록을 세웠을 가능성이 다분하며, 그 직업들이 하드코어모드에서 충분히 인기있는 클래스들이었다면 더욱더 이 시나리오가 맞을 가능성이 높다.   \n",
    "\n",
    "그리고 해야할 것 \n",
    "- 클래스별 평균 구하기\n",
    "- 평균이 다른지 ANOVA 하기"
   ]
  },
  {
   "cell_type": "code",
   "execution_count": null,
   "id": "5a7355e5",
   "metadata": {},
   "outputs": [],
   "source": []
  }
 ],
 "metadata": {
  "kernelspec": {
   "display_name": "Python 3 (ipykernel)",
   "language": "python",
   "name": "python3"
  },
  "language_info": {
   "codemirror_mode": {
    "name": "ipython",
    "version": 3
   },
   "file_extension": ".py",
   "mimetype": "text/x-python",
   "name": "python",
   "nbconvert_exporter": "python",
   "pygments_lexer": "ipython3",
   "version": "3.8.5"
  },
  "latex_envs": {
   "LaTeX_envs_menu_present": true,
   "autoclose": true,
   "autocomplete": true,
   "bibliofile": "biblio.bib",
   "cite_by": "apalike",
   "current_citInitial": 1,
   "eqLabelWithNumbers": true,
   "eqNumInitial": 1,
   "hotkeys": {
    "equation": "Ctrl-E",
    "itemize": "Ctrl-I"
   },
   "labels_anchors": false,
   "latex_user_defs": false,
   "report_style_numbering": false,
   "user_envs_cfg": false
  },
  "toc": {
   "base_numbering": 1,
   "nav_menu": {},
   "number_sections": true,
   "sideBar": true,
   "skip_h1_title": true,
   "title_cell": "Table of Contents",
   "title_sidebar": "Contents",
   "toc_cell": true,
   "toc_position": {},
   "toc_section_display": true,
   "toc_window_display": false
  }
 },
 "nbformat": 4,
 "nbformat_minor": 5
}

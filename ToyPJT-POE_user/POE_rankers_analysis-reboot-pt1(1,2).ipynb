{
 "cells": [
  {
   "cell_type": "markdown",
   "id": "f618f4ba",
   "metadata": {},
   "source": [
    "# POE user analyzing project\n",
    "###### **Data reference and questions are here: https://www.kaggle.com/datasets/gagazet/path-of-exile-league-statistic**\n",
    "\n",
    "---\n",
    "Hi, I'm Angela. 😊 I'm a novice in data analysis.  I'm a novice in data analysis. I'm interested in the video games, mobility, culture, and content industry. I hope to become a data scientist with anomaly detection and anti-cheating. I hope that my analysis will have a positive impact on the world at least a little bit.  \n",
    "\n",
    "This is my first Kaggle-data analyzing project on my own. I played(?) with this data for almost a month or more freely, and I finish it to start to answer these questions partially. Finally, I can close the analysis joyfully.\n",
    "I analyzed this data set with my thoughts and what I learned (as if I were a game analyst 😆).  \n",
    "_ps. English may seem a little awkward because it is not my first language. I'm sorry. And I used the word 'average' more than the word 'mean' because I wanted to communicate more clearly in my hectic writing. 'mean' is so mean to 'average', 'mean' means 'mean' and... just joking._ 🤪\n",
    "\n",
    "---\n",
    "##### **Questions for participants**\n",
    "\n",
    "1. A total number of players in each division, usage of each class in descending order.\n",
    "2. Some of the players streaming their game (twitch column). Do they play better than people, who does not?\n",
    "3. Predict chance to be at top 30 in each division, if we are Necromancer. With and without stream.\n",
    "4. Average number of finished challanges for each division, show division with highest and lowest average challanges.\n",
    "5. Show dependency between level and class of died characters. Only for HC divisions.\n"
   ]
  },
  {
   "cell_type": "markdown",
   "id": "96a7d959",
   "metadata": {},
   "source": [
    "##### **Contents list**\n",
    "---\n",
    "1. data remaking (dummy etc)\n",
    "2. data distribution (all round veiwing)\n",
    "3. questions : result, processing, add commentary(그외 추가 이야기 및 부족한 것 필요한 것 개선 방향)\n",
    "4. what I analized with this dataset(my files)"
   ]
  },
  {
   "cell_type": "markdown",
   "id": "3d9e85c0",
   "metadata": {},
   "source": [
    "## Importing Data and Libraries\n",
    "---"
   ]
  },
  {
   "cell_type": "code",
   "execution_count": 1,
   "id": "df97704a",
   "metadata": {},
   "outputs": [
    {
     "name": "stdout",
     "output_type": "stream",
     "text": [
      "0.11.2\n",
      "1.4.1\n",
      "1.22.4\n"
     ]
    }
   ],
   "source": [
    "import pandas as pd\n",
    "import numpy as np\n",
    "import scipy.stats\n",
    "\n",
    "# import time as time\n",
    "\n",
    "import matplotlib.pyplot as plt\n",
    "import seaborn as sns\n",
    "from joypy import joyplot\n",
    "\n",
    "# visualization setting\n",
    "plt.rcParams['axes.facecolor'] = 'white'\n",
    "\n",
    "# import tensorflow as tf\n",
    "# import keras\n",
    "\n",
    "np.random.seed(0)\n",
    "# tf.random.set_seed(0)\n",
    "\n",
    "# version check\n",
    "print(sns.__version__)\n",
    "print(pd.__version__)\n",
    "print(np.__version__)\n",
    "# print(tf.__version__)\n",
    "# print(keras.__version__)\n",
    "\n",
    "data = pd.read_csv(\"poe_stats.csv\")\n",
    "\n",
    "# if you need\n",
    "# !pip install joypy"
   ]
  },
  {
   "cell_type": "code",
   "execution_count": 2,
   "id": "fec8b198",
   "metadata": {},
   "outputs": [
    {
     "data": {
      "text/html": [
       "<div>\n",
       "<style scoped>\n",
       "    .dataframe tbody tr th:only-of-type {\n",
       "        vertical-align: middle;\n",
       "    }\n",
       "\n",
       "    .dataframe tbody tr th {\n",
       "        vertical-align: top;\n",
       "    }\n",
       "\n",
       "    .dataframe thead th {\n",
       "        text-align: right;\n",
       "    }\n",
       "</style>\n",
       "<table border=\"1\" class=\"dataframe\">\n",
       "  <thead>\n",
       "    <tr style=\"text-align: right;\">\n",
       "      <th></th>\n",
       "      <th>rank</th>\n",
       "      <th>dead</th>\n",
       "      <th>online</th>\n",
       "      <th>name</th>\n",
       "      <th>level</th>\n",
       "      <th>class</th>\n",
       "      <th>id</th>\n",
       "      <th>experience</th>\n",
       "      <th>account</th>\n",
       "      <th>challenges</th>\n",
       "      <th>twitch</th>\n",
       "      <th>ladder</th>\n",
       "    </tr>\n",
       "  </thead>\n",
       "  <tbody>\n",
       "    <tr>\n",
       "      <th>0</th>\n",
       "      <td>1</td>\n",
       "      <td>False</td>\n",
       "      <td>False</td>\n",
       "      <td>Tzn_NecroIsFineNow</td>\n",
       "      <td>100</td>\n",
       "      <td>Necromancer</td>\n",
       "      <td>3dcddd59f5088893f734f39686350990dae168cc4f4b00...</td>\n",
       "      <td>4250334444</td>\n",
       "      <td>TheTzn</td>\n",
       "      <td>40</td>\n",
       "      <td>thetzn</td>\n",
       "      <td>Harbinger</td>\n",
       "    </tr>\n",
       "    <tr>\n",
       "      <th>1</th>\n",
       "      <td>1</td>\n",
       "      <td>False</td>\n",
       "      <td>False</td>\n",
       "      <td>RaizNeverFirstQT</td>\n",
       "      <td>100</td>\n",
       "      <td>Necromancer</td>\n",
       "      <td>8f3216db5ac9106c287a834731aafc83c387138f28fc45...</td>\n",
       "      <td>4250334444</td>\n",
       "      <td>RaizQT</td>\n",
       "      <td>22</td>\n",
       "      <td>raizqt</td>\n",
       "      <td>SSF Harbinger HC</td>\n",
       "    </tr>\n",
       "    <tr>\n",
       "      <th>2</th>\n",
       "      <td>1</td>\n",
       "      <td>False</td>\n",
       "      <td>False</td>\n",
       "      <td>GucciStreamerAdvantage</td>\n",
       "      <td>100</td>\n",
       "      <td>Necromancer</td>\n",
       "      <td>c6ec2dae3855c551e0597c06ef2da06fbb5512487ded7f...</td>\n",
       "      <td>4250334444</td>\n",
       "      <td>GucciPradas</td>\n",
       "      <td>35</td>\n",
       "      <td>guccipradas</td>\n",
       "      <td>Hardcore Harbinger</td>\n",
       "    </tr>\n",
       "    <tr>\n",
       "      <th>3</th>\n",
       "      <td>1</td>\n",
       "      <td>False</td>\n",
       "      <td>False</td>\n",
       "      <td>ChiroxPrime</td>\n",
       "      <td>100</td>\n",
       "      <td>Slayer</td>\n",
       "      <td>c861372da792be0b22c45bf437ccd58437c52e9455e0bf...</td>\n",
       "      <td>4250334444</td>\n",
       "      <td>Chiroxun</td>\n",
       "      <td>26</td>\n",
       "      <td>NaN</td>\n",
       "      <td>SSF Harbinger</td>\n",
       "    </tr>\n",
       "    <tr>\n",
       "      <th>4</th>\n",
       "      <td>2</td>\n",
       "      <td>False</td>\n",
       "      <td>False</td>\n",
       "      <td>Cool_NecroIsFineNow</td>\n",
       "      <td>100</td>\n",
       "      <td>Deadeye</td>\n",
       "      <td>24ae924ceed7989ef3d3d6772612832bb467a6094352c7...</td>\n",
       "      <td>4250334444</td>\n",
       "      <td>cooltail</td>\n",
       "      <td>22</td>\n",
       "      <td>NaN</td>\n",
       "      <td>Harbinger</td>\n",
       "    </tr>\n",
       "    <tr>\n",
       "      <th>5</th>\n",
       "      <td>2</td>\n",
       "      <td>False</td>\n",
       "      <td>False</td>\n",
       "      <td>SteelStreamerAdvantage</td>\n",
       "      <td>100</td>\n",
       "      <td>Deadeye</td>\n",
       "      <td>51acb8e6fac3cfaa7ff848151dad01b0a6f350e7525543...</td>\n",
       "      <td>4250334444</td>\n",
       "      <td>Steelmage</td>\n",
       "      <td>37</td>\n",
       "      <td>steelmage202</td>\n",
       "      <td>Hardcore Harbinger</td>\n",
       "    </tr>\n",
       "    <tr>\n",
       "      <th>6</th>\n",
       "      <td>2</td>\n",
       "      <td>False</td>\n",
       "      <td>False</td>\n",
       "      <td>Grom_WhyGodThreeCmWhy</td>\n",
       "      <td>100</td>\n",
       "      <td>Gladiator</td>\n",
       "      <td>5d8b80b2bdd30f3dba1036a6791187562758935e8d4723...</td>\n",
       "      <td>4250334444</td>\n",
       "      <td>rocklegend</td>\n",
       "      <td>22</td>\n",
       "      <td>gromick</td>\n",
       "      <td>SSF Harbinger HC</td>\n",
       "    </tr>\n",
       "    <tr>\n",
       "      <th>7</th>\n",
       "      <td>2</td>\n",
       "      <td>False</td>\n",
       "      <td>False</td>\n",
       "      <td>beobio_capitan</td>\n",
       "      <td>100</td>\n",
       "      <td>Inquisitor</td>\n",
       "      <td>65c58f9b186e1fbe9f927484f3f178cdb9ee0dc2427289...</td>\n",
       "      <td>4250334444</td>\n",
       "      <td>TishaVosemsot</td>\n",
       "      <td>40</td>\n",
       "      <td>beobio</td>\n",
       "      <td>SSF Harbinger</td>\n",
       "    </tr>\n",
       "    <tr>\n",
       "      <th>8</th>\n",
       "      <td>3</td>\n",
       "      <td>False</td>\n",
       "      <td>False</td>\n",
       "      <td>Rami_The_Negromaniac</td>\n",
       "      <td>100</td>\n",
       "      <td>Necromancer</td>\n",
       "      <td>00c0030fc548cc4c0d804564f8fb356610044b7e6d484f...</td>\n",
       "      <td>4250334444</td>\n",
       "      <td>rami1337</td>\n",
       "      <td>40</td>\n",
       "      <td>rami1337</td>\n",
       "      <td>Harbinger</td>\n",
       "    </tr>\n",
       "    <tr>\n",
       "      <th>9</th>\n",
       "      <td>3</td>\n",
       "      <td>False</td>\n",
       "      <td>False</td>\n",
       "      <td>FutonBlewAway</td>\n",
       "      <td>100</td>\n",
       "      <td>Raider</td>\n",
       "      <td>46e56572ff6e403f45fac597240e13e9af225f06ca4e52...</td>\n",
       "      <td>4250334444</td>\n",
       "      <td>pleaGRC</td>\n",
       "      <td>40</td>\n",
       "      <td>NaN</td>\n",
       "      <td>SSF Harbinger</td>\n",
       "    </tr>\n",
       "  </tbody>\n",
       "</table>\n",
       "</div>"
      ],
      "text/plain": [
       "   rank   dead  online                    name  level        class  \\\n",
       "0     1  False   False      Tzn_NecroIsFineNow    100  Necromancer   \n",
       "1     1  False   False        RaizNeverFirstQT    100  Necromancer   \n",
       "2     1  False   False  GucciStreamerAdvantage    100  Necromancer   \n",
       "3     1  False   False             ChiroxPrime    100       Slayer   \n",
       "4     2  False   False     Cool_NecroIsFineNow    100      Deadeye   \n",
       "5     2  False   False  SteelStreamerAdvantage    100      Deadeye   \n",
       "6     2  False   False   Grom_WhyGodThreeCmWhy    100    Gladiator   \n",
       "7     2  False   False          beobio_capitan    100   Inquisitor   \n",
       "8     3  False   False    Rami_The_Negromaniac    100  Necromancer   \n",
       "9     3  False   False           FutonBlewAway    100       Raider   \n",
       "\n",
       "                                                  id  experience  \\\n",
       "0  3dcddd59f5088893f734f39686350990dae168cc4f4b00...  4250334444   \n",
       "1  8f3216db5ac9106c287a834731aafc83c387138f28fc45...  4250334444   \n",
       "2  c6ec2dae3855c551e0597c06ef2da06fbb5512487ded7f...  4250334444   \n",
       "3  c861372da792be0b22c45bf437ccd58437c52e9455e0bf...  4250334444   \n",
       "4  24ae924ceed7989ef3d3d6772612832bb467a6094352c7...  4250334444   \n",
       "5  51acb8e6fac3cfaa7ff848151dad01b0a6f350e7525543...  4250334444   \n",
       "6  5d8b80b2bdd30f3dba1036a6791187562758935e8d4723...  4250334444   \n",
       "7  65c58f9b186e1fbe9f927484f3f178cdb9ee0dc2427289...  4250334444   \n",
       "8  00c0030fc548cc4c0d804564f8fb356610044b7e6d484f...  4250334444   \n",
       "9  46e56572ff6e403f45fac597240e13e9af225f06ca4e52...  4250334444   \n",
       "\n",
       "         account  challenges        twitch              ladder  \n",
       "0         TheTzn          40        thetzn           Harbinger  \n",
       "1         RaizQT          22        raizqt    SSF Harbinger HC  \n",
       "2    GucciPradas          35   guccipradas  Hardcore Harbinger  \n",
       "3       Chiroxun          26           NaN       SSF Harbinger  \n",
       "4       cooltail          22           NaN           Harbinger  \n",
       "5      Steelmage          37  steelmage202  Hardcore Harbinger  \n",
       "6     rocklegend          22       gromick    SSF Harbinger HC  \n",
       "7  TishaVosemsot          40        beobio       SSF Harbinger  \n",
       "8       rami1337          40      rami1337           Harbinger  \n",
       "9        pleaGRC          40           NaN       SSF Harbinger  "
      ]
     },
     "execution_count": 2,
     "metadata": {},
     "output_type": "execute_result"
    }
   ],
   "source": [
    "df = data\n",
    "df.head(10)"
   ]
  },
  {
   "cell_type": "markdown",
   "id": "a7434e74",
   "metadata": {},
   "source": [
    "## Data summary"
   ]
  },
  {
   "cell_type": "code",
   "execution_count": 3,
   "id": "dc4a2c6c",
   "metadata": {
    "scrolled": true
   },
   "outputs": [
    {
     "data": {
      "text/html": [
       "<div>\n",
       "<style scoped>\n",
       "    .dataframe tbody tr th:only-of-type {\n",
       "        vertical-align: middle;\n",
       "    }\n",
       "\n",
       "    .dataframe tbody tr th {\n",
       "        vertical-align: top;\n",
       "    }\n",
       "\n",
       "    .dataframe thead th {\n",
       "        text-align: right;\n",
       "    }\n",
       "</style>\n",
       "<table border=\"1\" class=\"dataframe\">\n",
       "  <thead>\n",
       "    <tr style=\"text-align: right;\">\n",
       "      <th></th>\n",
       "      <th>rank</th>\n",
       "      <th>level</th>\n",
       "      <th>experience</th>\n",
       "      <th>challenges</th>\n",
       "    </tr>\n",
       "  </thead>\n",
       "  <tbody>\n",
       "    <tr>\n",
       "      <th>count</th>\n",
       "      <td>59,776.00</td>\n",
       "      <td>59,776.00</td>\n",
       "      <td>59,776.00</td>\n",
       "      <td>59,776.00</td>\n",
       "    </tr>\n",
       "    <tr>\n",
       "      <th>mean</th>\n",
       "      <td>7,495.37</td>\n",
       "      <td>85.42</td>\n",
       "      <td>1,825,786,027.36</td>\n",
       "      <td>25.76</td>\n",
       "    </tr>\n",
       "    <tr>\n",
       "      <th>std</th>\n",
       "      <td>4,330.18</td>\n",
       "      <td>11.29</td>\n",
       "      <td>1,094,747,934.61</td>\n",
       "      <td>8.44</td>\n",
       "    </tr>\n",
       "    <tr>\n",
       "      <th>min</th>\n",
       "      <td>1.00</td>\n",
       "      <td>53.00</td>\n",
       "      <td>77,909,816.00</td>\n",
       "      <td>4.00</td>\n",
       "    </tr>\n",
       "    <tr>\n",
       "      <th>25%</th>\n",
       "      <td>3,745.00</td>\n",
       "      <td>78.00</td>\n",
       "      <td>777,469,746.25</td>\n",
       "      <td>19.00</td>\n",
       "    </tr>\n",
       "    <tr>\n",
       "      <th>50%</th>\n",
       "      <td>7,492.00</td>\n",
       "      <td>90.00</td>\n",
       "      <td>1,934,009,687.00</td>\n",
       "      <td>25.00</td>\n",
       "    </tr>\n",
       "    <tr>\n",
       "      <th>75%</th>\n",
       "      <td>11,247.00</td>\n",
       "      <td>95.00</td>\n",
       "      <td>2,876,116,901.00</td>\n",
       "      <td>33.00</td>\n",
       "    </tr>\n",
       "    <tr>\n",
       "      <th>max</th>\n",
       "      <td>15,000.00</td>\n",
       "      <td>100.00</td>\n",
       "      <td>4,250,334,444.00</td>\n",
       "      <td>40.00</td>\n",
       "    </tr>\n",
       "  </tbody>\n",
       "</table>\n",
       "</div>"
      ],
      "text/plain": [
       "           rank     level       experience  challenges\n",
       "count 59,776.00 59,776.00        59,776.00   59,776.00\n",
       "mean   7,495.37     85.42 1,825,786,027.36       25.76\n",
       "std    4,330.18     11.29 1,094,747,934.61        8.44\n",
       "min        1.00     53.00    77,909,816.00        4.00\n",
       "25%    3,745.00     78.00   777,469,746.25       19.00\n",
       "50%    7,492.00     90.00 1,934,009,687.00       25.00\n",
       "75%   11,247.00     95.00 2,876,116,901.00       33.00\n",
       "max   15,000.00    100.00 4,250,334,444.00       40.00"
      ]
     },
     "execution_count": 3,
     "metadata": {},
     "output_type": "execute_result"
    }
   ],
   "source": [
    "# options about float\n",
    "\n",
    "pd.options.display.float_format = '{:,.2f}'.format\n",
    "df.describe()"
   ]
  },
  {
   "cell_type": "code",
   "execution_count": 4,
   "id": "7cd4a73b",
   "metadata": {},
   "outputs": [
    {
     "data": {
      "text/html": [
       "<div>\n",
       "<style scoped>\n",
       "    .dataframe tbody tr th:only-of-type {\n",
       "        vertical-align: middle;\n",
       "    }\n",
       "\n",
       "    .dataframe tbody tr th {\n",
       "        vertical-align: top;\n",
       "    }\n",
       "\n",
       "    .dataframe thead th {\n",
       "        text-align: right;\n",
       "    }\n",
       "</style>\n",
       "<table border=\"1\" class=\"dataframe\">\n",
       "  <thead>\n",
       "    <tr style=\"text-align: right;\">\n",
       "      <th></th>\n",
       "      <th>name</th>\n",
       "      <th>class</th>\n",
       "      <th>id</th>\n",
       "      <th>account</th>\n",
       "      <th>twitch</th>\n",
       "      <th>ladder</th>\n",
       "    </tr>\n",
       "  </thead>\n",
       "  <tbody>\n",
       "    <tr>\n",
       "      <th>count</th>\n",
       "      <td>59776</td>\n",
       "      <td>59776</td>\n",
       "      <td>59776</td>\n",
       "      <td>59776</td>\n",
       "      <td>16300</td>\n",
       "      <td>59776</td>\n",
       "    </tr>\n",
       "    <tr>\n",
       "      <th>unique</th>\n",
       "      <td>58286</td>\n",
       "      <td>26</td>\n",
       "      <td>59776</td>\n",
       "      <td>37123</td>\n",
       "      <td>9613</td>\n",
       "      <td>4</td>\n",
       "    </tr>\n",
       "    <tr>\n",
       "      <th>top</th>\n",
       "      <td>_Flic_</td>\n",
       "      <td>Berserker</td>\n",
       "      <td>3dcddd59f5088893f734f39686350990dae168cc4f4b00...</td>\n",
       "      <td>chuz101</td>\n",
       "      <td>thespunkylobster</td>\n",
       "      <td>SSF Harbinger</td>\n",
       "    </tr>\n",
       "    <tr>\n",
       "      <th>freq</th>\n",
       "      <td>14</td>\n",
       "      <td>8711</td>\n",
       "      <td>1</td>\n",
       "      <td>30</td>\n",
       "      <td>18</td>\n",
       "      <td>14981</td>\n",
       "    </tr>\n",
       "  </tbody>\n",
       "</table>\n",
       "</div>"
      ],
      "text/plain": [
       "          name      class                                                 id  \\\n",
       "count    59776      59776                                              59776   \n",
       "unique   58286         26                                              59776   \n",
       "top     _Flic_  Berserker  3dcddd59f5088893f734f39686350990dae168cc4f4b00...   \n",
       "freq        14       8711                                                  1   \n",
       "\n",
       "        account            twitch         ladder  \n",
       "count     59776             16300          59776  \n",
       "unique    37123              9613              4  \n",
       "top     chuz101  thespunkylobster  SSF Harbinger  \n",
       "freq         30                18          14981  "
      ]
     },
     "execution_count": 4,
     "metadata": {},
     "output_type": "execute_result"
    }
   ],
   "source": [
    "df.describe(include = 'object')"
   ]
  },
  {
   "cell_type": "code",
   "execution_count": 5,
   "id": "e6ffafc5",
   "metadata": {},
   "outputs": [
    {
     "name": "stdout",
     "output_type": "stream",
     "text": [
      "<class 'pandas.core.frame.DataFrame'>\n",
      "RangeIndex: 59776 entries, 0 to 59775\n",
      "Data columns (total 12 columns):\n",
      " #   Column      Non-Null Count  Dtype \n",
      "---  ------      --------------  ----- \n",
      " 0   rank        59776 non-null  int64 \n",
      " 1   dead        59776 non-null  bool  \n",
      " 2   online      59776 non-null  bool  \n",
      " 3   name        59776 non-null  object\n",
      " 4   level       59776 non-null  int64 \n",
      " 5   class       59776 non-null  object\n",
      " 6   id          59776 non-null  object\n",
      " 7   experience  59776 non-null  int64 \n",
      " 8   account     59776 non-null  object\n",
      " 9   challenges  59776 non-null  int64 \n",
      " 10  twitch      16300 non-null  object\n",
      " 11  ladder      59776 non-null  object\n",
      "dtypes: bool(2), int64(4), object(6)\n",
      "memory usage: 4.7+ MB\n"
     ]
    }
   ],
   "source": [
    "df.info()"
   ]
  },
  {
   "cell_type": "markdown",
   "id": "6ef79755",
   "metadata": {},
   "source": [
    "# 1. rankers by ladder\n",
    "---\n",
    "##### Q1. A total number of players in each division, usage of each class in descending order.\n",
    "\n",
    "First I understood that question and wanted to know about each class ratio in each ladder. And it is true maybe.  \n",
    "(But... I think this question has to be more clear about 'players'. Because there're quite many users who have multiple characters which are on ranked.)  \n",
    "\n",
    "So I categorized the meaning of 'players' as characters and users. "
   ]
  },
  {
   "cell_type": "markdown",
   "id": "58ad23c6",
   "metadata": {},
   "source": [
    "## 1-1. ids(characters) and users in each ladder\n",
    "If we set the meaning of ‘players’ to ‘characters’, the number of unique ids would be the answer. Also, if we set the meaning of it to 'users', the number of unique accounts would be the answer.  \n",
    "Each division has different numbers of ids(characters) and accounts, and there are some empty values among the 15000."
   ]
  },
  {
   "cell_type": "code",
   "execution_count": 6,
   "id": "960b48a3",
   "metadata": {},
   "outputs": [
    {
     "name": "stdout",
     "output_type": "stream",
     "text": [
      "* ladder: Harbinger\n",
      "  number of unique id: 14918\n",
      "  number of unique rank: 14918\n",
      "  number of unique account: 13160\n",
      "  max value of the rank: 15000\n",
      "---------------------------------\n",
      "* ladder: Hardcore Harbinger\n",
      "  number of unique id: 14905\n",
      "  number of unique rank: 14905\n",
      "  number of unique account: 9020\n",
      "  max value of the rank: 15000\n",
      "---------------------------------\n",
      "* ladder: SSF Harbinger\n",
      "  number of unique id: 14981\n",
      "  number of unique rank: 14981\n",
      "  number of unique account: 10214\n",
      "  max value of the rank: 15000\n",
      "---------------------------------\n",
      "* ladder: SSF Harbinger HC\n",
      "  number of unique id: 14972\n",
      "  number of unique rank: 14972\n",
      "  number of unique account: 6374\n",
      "  max value of the rank: 15000\n"
     ]
    }
   ],
   "source": [
    "# id, rank, account unique numbers\n",
    "\n",
    "modes = ['Harbinger', 'Hardcore Harbinger', 'SSF Harbinger', 'SSF Harbinger HC']\n",
    "\n",
    "for i in modes:\n",
    "    print(\"* ladder:\", i)\n",
    "    print(\"  number of unique id:\", df[df['ladder'] == i]['id'].nunique())\n",
    "    print(\"  number of unique rank:\", df[df['ladder'] == i]['rank'].nunique())\n",
    "    print(\"  number of unique account:\", df[df['ladder'] == i]['account'].nunique())\n",
    "    print(\"  max value of the rank:\", df[df['ladder'] == i]['rank'].max())\n",
    "    if i != 'SSF Harbinger HC':\n",
    "        print('---------------------------------')"
   ]
  },
  {
   "cell_type": "markdown",
   "id": "41894d7d",
   "metadata": {},
   "source": [
    "## 1-2. characters numbers and ratios of each class in each ladder\n",
    "We can all class and ladder mode put together in one data frame for analysis, and also make them separately to see more comfortably by descending order.  \n",
    "First, we can compare the number of specific classes's `account` with other ladders easily.  "
   ]
  },
  {
   "cell_type": "code",
   "execution_count": 7,
   "id": "f804bfa2",
   "metadata": {},
   "outputs": [
    {
     "data": {
      "text/html": [
       "<div>\n",
       "<style scoped>\n",
       "    .dataframe tbody tr th:only-of-type {\n",
       "        vertical-align: middle;\n",
       "    }\n",
       "\n",
       "    .dataframe tbody tr th {\n",
       "        vertical-align: top;\n",
       "    }\n",
       "\n",
       "    .dataframe thead th {\n",
       "        text-align: right;\n",
       "    }\n",
       "</style>\n",
       "<table border=\"1\" class=\"dataframe\">\n",
       "  <thead>\n",
       "    <tr style=\"text-align: right;\">\n",
       "      <th>ladder</th>\n",
       "      <th>class</th>\n",
       "      <th>total</th>\n",
       "      <th>SSF Harbinger HC</th>\n",
       "      <th>SSF Harbinger</th>\n",
       "      <th>Hardcore Harbinger</th>\n",
       "      <th>Harbinger</th>\n",
       "    </tr>\n",
       "  </thead>\n",
       "  <tbody>\n",
       "    <tr>\n",
       "      <th>0</th>\n",
       "      <td>Ascendant</td>\n",
       "      <td>3278</td>\n",
       "      <td>613</td>\n",
       "      <td>941</td>\n",
       "      <td>1005</td>\n",
       "      <td>733</td>\n",
       "    </tr>\n",
       "    <tr>\n",
       "      <th>1</th>\n",
       "      <td>Assassin</td>\n",
       "      <td>616</td>\n",
       "      <td>170</td>\n",
       "      <td>270</td>\n",
       "      <td>70</td>\n",
       "      <td>108</td>\n",
       "    </tr>\n",
       "    <tr>\n",
       "      <th>2</th>\n",
       "      <td>Berserker</td>\n",
       "      <td>7813</td>\n",
       "      <td>1235</td>\n",
       "      <td>2107</td>\n",
       "      <td>1854</td>\n",
       "      <td>2692</td>\n",
       "    </tr>\n",
       "    <tr>\n",
       "      <th>3</th>\n",
       "      <td>Champion</td>\n",
       "      <td>1127</td>\n",
       "      <td>291</td>\n",
       "      <td>260</td>\n",
       "      <td>458</td>\n",
       "      <td>126</td>\n",
       "    </tr>\n",
       "    <tr>\n",
       "      <th>4</th>\n",
       "      <td>Chieftain</td>\n",
       "      <td>1964</td>\n",
       "      <td>594</td>\n",
       "      <td>449</td>\n",
       "      <td>638</td>\n",
       "      <td>291</td>\n",
       "    </tr>\n",
       "    <tr>\n",
       "      <th>5</th>\n",
       "      <td>Deadeye</td>\n",
       "      <td>658</td>\n",
       "      <td>151</td>\n",
       "      <td>278</td>\n",
       "      <td>155</td>\n",
       "      <td>78</td>\n",
       "    </tr>\n",
       "    <tr>\n",
       "      <th>6</th>\n",
       "      <td>Duelist</td>\n",
       "      <td>60</td>\n",
       "      <td>50</td>\n",
       "      <td>10</td>\n",
       "      <td>0</td>\n",
       "      <td>0</td>\n",
       "    </tr>\n",
       "    <tr>\n",
       "      <th>7</th>\n",
       "      <td>Elementalist</td>\n",
       "      <td>1235</td>\n",
       "      <td>361</td>\n",
       "      <td>532</td>\n",
       "      <td>151</td>\n",
       "      <td>193</td>\n",
       "    </tr>\n",
       "    <tr>\n",
       "      <th>8</th>\n",
       "      <td>Gladiator</td>\n",
       "      <td>4227</td>\n",
       "      <td>1149</td>\n",
       "      <td>1288</td>\n",
       "      <td>1205</td>\n",
       "      <td>648</td>\n",
       "    </tr>\n",
       "    <tr>\n",
       "      <th>9</th>\n",
       "      <td>Guardian</td>\n",
       "      <td>1094</td>\n",
       "      <td>83</td>\n",
       "      <td>66</td>\n",
       "      <td>603</td>\n",
       "      <td>348</td>\n",
       "    </tr>\n",
       "    <tr>\n",
       "      <th>10</th>\n",
       "      <td>Hierophant</td>\n",
       "      <td>1556</td>\n",
       "      <td>532</td>\n",
       "      <td>550</td>\n",
       "      <td>377</td>\n",
       "      <td>101</td>\n",
       "    </tr>\n",
       "    <tr>\n",
       "      <th>11</th>\n",
       "      <td>Inquisitor</td>\n",
       "      <td>3097</td>\n",
       "      <td>871</td>\n",
       "      <td>930</td>\n",
       "      <td>768</td>\n",
       "      <td>555</td>\n",
       "    </tr>\n",
       "    <tr>\n",
       "      <th>12</th>\n",
       "      <td>Juggernaut</td>\n",
       "      <td>1806</td>\n",
       "      <td>578</td>\n",
       "      <td>428</td>\n",
       "      <td>622</td>\n",
       "      <td>187</td>\n",
       "    </tr>\n",
       "    <tr>\n",
       "      <th>13</th>\n",
       "      <td>Marauder</td>\n",
       "      <td>84</td>\n",
       "      <td>73</td>\n",
       "      <td>10</td>\n",
       "      <td>1</td>\n",
       "      <td>0</td>\n",
       "    </tr>\n",
       "    <tr>\n",
       "      <th>14</th>\n",
       "      <td>Necromancer</td>\n",
       "      <td>6138</td>\n",
       "      <td>1561</td>\n",
       "      <td>1680</td>\n",
       "      <td>1798</td>\n",
       "      <td>1195</td>\n",
       "    </tr>\n",
       "    <tr>\n",
       "      <th>15</th>\n",
       "      <td>Occultist</td>\n",
       "      <td>1117</td>\n",
       "      <td>339</td>\n",
       "      <td>363</td>\n",
       "      <td>276</td>\n",
       "      <td>148</td>\n",
       "    </tr>\n",
       "    <tr>\n",
       "      <th>16</th>\n",
       "      <td>Pathfinder</td>\n",
       "      <td>4077</td>\n",
       "      <td>125</td>\n",
       "      <td>231</td>\n",
       "      <td>377</td>\n",
       "      <td>3360</td>\n",
       "    </tr>\n",
       "    <tr>\n",
       "      <th>17</th>\n",
       "      <td>Raider</td>\n",
       "      <td>4713</td>\n",
       "      <td>613</td>\n",
       "      <td>1410</td>\n",
       "      <td>806</td>\n",
       "      <td>1916</td>\n",
       "    </tr>\n",
       "    <tr>\n",
       "      <th>18</th>\n",
       "      <td>Ranger</td>\n",
       "      <td>44</td>\n",
       "      <td>28</td>\n",
       "      <td>12</td>\n",
       "      <td>4</td>\n",
       "      <td>0</td>\n",
       "    </tr>\n",
       "    <tr>\n",
       "      <th>19</th>\n",
       "      <td>Saboteur</td>\n",
       "      <td>1169</td>\n",
       "      <td>321</td>\n",
       "      <td>402</td>\n",
       "      <td>275</td>\n",
       "      <td>177</td>\n",
       "    </tr>\n",
       "    <tr>\n",
       "      <th>20</th>\n",
       "      <td>Scion</td>\n",
       "      <td>48</td>\n",
       "      <td>39</td>\n",
       "      <td>8</td>\n",
       "      <td>1</td>\n",
       "      <td>0</td>\n",
       "    </tr>\n",
       "    <tr>\n",
       "      <th>21</th>\n",
       "      <td>Shadow</td>\n",
       "      <td>42</td>\n",
       "      <td>32</td>\n",
       "      <td>10</td>\n",
       "      <td>0</td>\n",
       "      <td>0</td>\n",
       "    </tr>\n",
       "    <tr>\n",
       "      <th>22</th>\n",
       "      <td>Slayer</td>\n",
       "      <td>4974</td>\n",
       "      <td>849</td>\n",
       "      <td>1271</td>\n",
       "      <td>1200</td>\n",
       "      <td>1700</td>\n",
       "    </tr>\n",
       "    <tr>\n",
       "      <th>23</th>\n",
       "      <td>Templar</td>\n",
       "      <td>68</td>\n",
       "      <td>62</td>\n",
       "      <td>6</td>\n",
       "      <td>0</td>\n",
       "      <td>0</td>\n",
       "    </tr>\n",
       "    <tr>\n",
       "      <th>24</th>\n",
       "      <td>Trickster</td>\n",
       "      <td>2740</td>\n",
       "      <td>841</td>\n",
       "      <td>939</td>\n",
       "      <td>786</td>\n",
       "      <td>209</td>\n",
       "    </tr>\n",
       "    <tr>\n",
       "      <th>25</th>\n",
       "      <td>Witch</td>\n",
       "      <td>106</td>\n",
       "      <td>86</td>\n",
       "      <td>21</td>\n",
       "      <td>0</td>\n",
       "      <td>0</td>\n",
       "    </tr>\n",
       "  </tbody>\n",
       "</table>\n",
       "</div>"
      ],
      "text/plain": [
       "ladder         class  total  SSF Harbinger HC  SSF Harbinger  \\\n",
       "0          Ascendant   3278               613            941   \n",
       "1           Assassin    616               170            270   \n",
       "2          Berserker   7813              1235           2107   \n",
       "3           Champion   1127               291            260   \n",
       "4          Chieftain   1964               594            449   \n",
       "5            Deadeye    658               151            278   \n",
       "6            Duelist     60                50             10   \n",
       "7       Elementalist   1235               361            532   \n",
       "8          Gladiator   4227              1149           1288   \n",
       "9           Guardian   1094                83             66   \n",
       "10        Hierophant   1556               532            550   \n",
       "11        Inquisitor   3097               871            930   \n",
       "12        Juggernaut   1806               578            428   \n",
       "13          Marauder     84                73             10   \n",
       "14       Necromancer   6138              1561           1680   \n",
       "15         Occultist   1117               339            363   \n",
       "16        Pathfinder   4077               125            231   \n",
       "17            Raider   4713               613           1410   \n",
       "18            Ranger     44                28             12   \n",
       "19          Saboteur   1169               321            402   \n",
       "20             Scion     48                39              8   \n",
       "21            Shadow     42                32             10   \n",
       "22            Slayer   4974               849           1271   \n",
       "23           Templar     68                62              6   \n",
       "24         Trickster   2740               841            939   \n",
       "25             Witch    106                86             21   \n",
       "\n",
       "ladder  Hardcore Harbinger  Harbinger  \n",
       "0                     1005        733  \n",
       "1                       70        108  \n",
       "2                     1854       2692  \n",
       "3                      458        126  \n",
       "4                      638        291  \n",
       "5                      155         78  \n",
       "6                        0          0  \n",
       "7                      151        193  \n",
       "8                     1205        648  \n",
       "9                      603        348  \n",
       "10                     377        101  \n",
       "11                     768        555  \n",
       "12                     622        187  \n",
       "13                       1          0  \n",
       "14                    1798       1195  \n",
       "15                     276        148  \n",
       "16                     377       3360  \n",
       "17                     806       1916  \n",
       "18                       4          0  \n",
       "19                     275        177  \n",
       "20                       1          0  \n",
       "21                       0          0  \n",
       "22                    1200       1700  \n",
       "23                       0          0  \n",
       "24                     786        209  \n",
       "25                       0          0  "
      ]
     },
     "execution_count": 7,
     "metadata": {},
     "output_type": "execute_result"
    }
   ],
   "source": [
    "# 1. \n",
    "# pivot by class and ladder to one Data frame\n",
    "\n",
    "df_acc_bylad = df.pivot_table(values = 'account', index = 'ladder', columns = 'class', aggfunc = lambda x: len(x.unique()), margins=True, margins_name=\"total\", fill_value = 0)\n",
    "\n",
    "# transpose to make class as row\n",
    "df_acc_bylad = df_acc_bylad.sort_values(ascending = False, by = 'ladder').transpose()\n",
    "df_acc_bylad.reset_index(drop = False, inplace = True)\n",
    "\n",
    "# drop 'index = 26 'total' row '\n",
    "df_acc_bylad.drop(index = 26, inplace = True)\n",
    "df_acc_bylad"
   ]
  },
  {
   "cell_type": "markdown",
   "id": "3d6e597e",
   "metadata": {},
   "source": [
    "## 1-3. Answer: characters numbers/ratio of each class in each ladder (descending order)\n",
    "In the second method, we can compare the number of specific classes's `id` by ladder."
   ]
  },
  {
   "cell_type": "code",
   "execution_count": 8,
   "id": "ca66db3e",
   "metadata": {
    "scrolled": true
   },
   "outputs": [
    {
     "data": {
      "text/html": [
       "<div>\n",
       "<style scoped>\n",
       "    .dataframe tbody tr th:only-of-type {\n",
       "        vertical-align: middle;\n",
       "    }\n",
       "\n",
       "    .dataframe tbody tr th {\n",
       "        vertical-align: top;\n",
       "    }\n",
       "\n",
       "    .dataframe thead th {\n",
       "        text-align: right;\n",
       "    }\n",
       "</style>\n",
       "<table border=\"1\" class=\"dataframe\">\n",
       "  <thead>\n",
       "    <tr style=\"text-align: right;\">\n",
       "      <th></th>\n",
       "      <th>numbers</th>\n",
       "      <th>ratio</th>\n",
       "    </tr>\n",
       "    <tr>\n",
       "      <th>class</th>\n",
       "      <th></th>\n",
       "      <th></th>\n",
       "    </tr>\n",
       "  </thead>\n",
       "  <tbody>\n",
       "    <tr>\n",
       "      <th>Pathfinder</th>\n",
       "      <td>3428</td>\n",
       "      <td>22.98</td>\n",
       "    </tr>\n",
       "    <tr>\n",
       "      <th>Berserker</th>\n",
       "      <td>2713</td>\n",
       "      <td>18.19</td>\n",
       "    </tr>\n",
       "    <tr>\n",
       "      <th>Raider</th>\n",
       "      <td>1943</td>\n",
       "      <td>13.02</td>\n",
       "    </tr>\n",
       "    <tr>\n",
       "      <th>Slayer</th>\n",
       "      <td>1706</td>\n",
       "      <td>11.44</td>\n",
       "    </tr>\n",
       "    <tr>\n",
       "      <th>Necromancer</th>\n",
       "      <td>1207</td>\n",
       "      <td>8.09</td>\n",
       "    </tr>\n",
       "    <tr>\n",
       "      <th>Ascendant</th>\n",
       "      <td>740</td>\n",
       "      <td>4.96</td>\n",
       "    </tr>\n",
       "    <tr>\n",
       "      <th>Gladiator</th>\n",
       "      <td>648</td>\n",
       "      <td>4.34</td>\n",
       "    </tr>\n",
       "    <tr>\n",
       "      <th>Inquisitor</th>\n",
       "      <td>559</td>\n",
       "      <td>3.75</td>\n",
       "    </tr>\n",
       "    <tr>\n",
       "      <th>Guardian</th>\n",
       "      <td>349</td>\n",
       "      <td>2.34</td>\n",
       "    </tr>\n",
       "    <tr>\n",
       "      <th>Chieftain</th>\n",
       "      <td>291</td>\n",
       "      <td>1.95</td>\n",
       "    </tr>\n",
       "    <tr>\n",
       "      <th>Trickster</th>\n",
       "      <td>211</td>\n",
       "      <td>1.41</td>\n",
       "    </tr>\n",
       "    <tr>\n",
       "      <th>Elementalist</th>\n",
       "      <td>193</td>\n",
       "      <td>1.29</td>\n",
       "    </tr>\n",
       "    <tr>\n",
       "      <th>Juggernaut</th>\n",
       "      <td>187</td>\n",
       "      <td>1.25</td>\n",
       "    </tr>\n",
       "    <tr>\n",
       "      <th>Saboteur</th>\n",
       "      <td>177</td>\n",
       "      <td>1.19</td>\n",
       "    </tr>\n",
       "    <tr>\n",
       "      <th>Occultist</th>\n",
       "      <td>151</td>\n",
       "      <td>1.01</td>\n",
       "    </tr>\n",
       "    <tr>\n",
       "      <th>Champion</th>\n",
       "      <td>126</td>\n",
       "      <td>0.84</td>\n",
       "    </tr>\n",
       "    <tr>\n",
       "      <th>Assassin</th>\n",
       "      <td>108</td>\n",
       "      <td>0.72</td>\n",
       "    </tr>\n",
       "    <tr>\n",
       "      <th>Hierophant</th>\n",
       "      <td>102</td>\n",
       "      <td>0.68</td>\n",
       "    </tr>\n",
       "    <tr>\n",
       "      <th>Deadeye</th>\n",
       "      <td>79</td>\n",
       "      <td>0.53</td>\n",
       "    </tr>\n",
       "  </tbody>\n",
       "</table>\n",
       "</div>"
      ],
      "text/plain": [
       "              numbers  ratio\n",
       "class                       \n",
       "Pathfinder       3428  22.98\n",
       "Berserker        2713  18.19\n",
       "Raider           1943  13.02\n",
       "Slayer           1706  11.44\n",
       "Necromancer      1207   8.09\n",
       "Ascendant         740   4.96\n",
       "Gladiator         648   4.34\n",
       "Inquisitor        559   3.75\n",
       "Guardian          349   2.34\n",
       "Chieftain         291   1.95\n",
       "Trickster         211   1.41\n",
       "Elementalist      193   1.29\n",
       "Juggernaut        187   1.25\n",
       "Saboteur          177   1.19\n",
       "Occultist         151   1.01\n",
       "Champion          126   0.84\n",
       "Assassin          108   0.72\n",
       "Hierophant        102   0.68\n",
       "Deadeye            79   0.53"
      ]
     },
     "execution_count": 8,
     "metadata": {},
     "output_type": "execute_result"
    }
   ],
   "source": [
    "# 2. \n",
    "# if you want to see ids seperated by ladder\n",
    "\n",
    "# Harbinger\n",
    "s1 = df[df['ladder'] == 'Harbinger'].groupby(by = 'class').count()['id'].sort_values(ascending = False)\n",
    "s2 = df[df['ladder'] == 'Harbinger'].groupby(by = 'class').count()['id'].sort_values(ascending = False)  / df[df['ladder'] == 'Harbinger'].shape[0] * 100\n",
    "tmpdf = pd.DataFrame(columns = ['numbers', 'ratio'])\n",
    "tmpdf['numbers'], tmpdf['ratio'] = s1, s2\n",
    "tmpdf"
   ]
  },
  {
   "cell_type": "code",
   "execution_count": 9,
   "id": "f8a0c0e8",
   "metadata": {
    "scrolled": true
   },
   "outputs": [
    {
     "data": {
      "text/html": [
       "<div>\n",
       "<style scoped>\n",
       "    .dataframe tbody tr th:only-of-type {\n",
       "        vertical-align: middle;\n",
       "    }\n",
       "\n",
       "    .dataframe tbody tr th {\n",
       "        vertical-align: top;\n",
       "    }\n",
       "\n",
       "    .dataframe thead th {\n",
       "        text-align: right;\n",
       "    }\n",
       "</style>\n",
       "<table border=\"1\" class=\"dataframe\">\n",
       "  <thead>\n",
       "    <tr style=\"text-align: right;\">\n",
       "      <th></th>\n",
       "      <th>numbers</th>\n",
       "      <th>ratio</th>\n",
       "    </tr>\n",
       "    <tr>\n",
       "      <th>class</th>\n",
       "      <th></th>\n",
       "      <th></th>\n",
       "    </tr>\n",
       "  </thead>\n",
       "  <tbody>\n",
       "    <tr>\n",
       "      <th>Necromancer</th>\n",
       "      <td>2099</td>\n",
       "      <td>14.08</td>\n",
       "    </tr>\n",
       "    <tr>\n",
       "      <th>Berserker</th>\n",
       "      <td>2064</td>\n",
       "      <td>13.85</td>\n",
       "    </tr>\n",
       "    <tr>\n",
       "      <th>Gladiator</th>\n",
       "      <td>1356</td>\n",
       "      <td>9.10</td>\n",
       "    </tr>\n",
       "    <tr>\n",
       "      <th>Slayer</th>\n",
       "      <td>1343</td>\n",
       "      <td>9.01</td>\n",
       "    </tr>\n",
       "    <tr>\n",
       "      <th>Ascendant</th>\n",
       "      <td>1149</td>\n",
       "      <td>7.71</td>\n",
       "    </tr>\n",
       "    <tr>\n",
       "      <th>Raider</th>\n",
       "      <td>895</td>\n",
       "      <td>6.00</td>\n",
       "    </tr>\n",
       "    <tr>\n",
       "      <th>Trickster</th>\n",
       "      <td>834</td>\n",
       "      <td>5.60</td>\n",
       "    </tr>\n",
       "    <tr>\n",
       "      <th>Inquisitor</th>\n",
       "      <td>828</td>\n",
       "      <td>5.56</td>\n",
       "    </tr>\n",
       "    <tr>\n",
       "      <th>Chieftain</th>\n",
       "      <td>690</td>\n",
       "      <td>4.63</td>\n",
       "    </tr>\n",
       "    <tr>\n",
       "      <th>Juggernaut</th>\n",
       "      <td>672</td>\n",
       "      <td>4.51</td>\n",
       "    </tr>\n",
       "    <tr>\n",
       "      <th>Guardian</th>\n",
       "      <td>661</td>\n",
       "      <td>4.43</td>\n",
       "    </tr>\n",
       "    <tr>\n",
       "      <th>Champion</th>\n",
       "      <td>490</td>\n",
       "      <td>3.29</td>\n",
       "    </tr>\n",
       "    <tr>\n",
       "      <th>Pathfinder</th>\n",
       "      <td>416</td>\n",
       "      <td>2.79</td>\n",
       "    </tr>\n",
       "    <tr>\n",
       "      <th>Hierophant</th>\n",
       "      <td>398</td>\n",
       "      <td>2.67</td>\n",
       "    </tr>\n",
       "    <tr>\n",
       "      <th>Saboteur</th>\n",
       "      <td>304</td>\n",
       "      <td>2.04</td>\n",
       "    </tr>\n",
       "    <tr>\n",
       "      <th>Occultist</th>\n",
       "      <td>301</td>\n",
       "      <td>2.02</td>\n",
       "    </tr>\n",
       "    <tr>\n",
       "      <th>Deadeye</th>\n",
       "      <td>167</td>\n",
       "      <td>1.12</td>\n",
       "    </tr>\n",
       "    <tr>\n",
       "      <th>Elementalist</th>\n",
       "      <td>160</td>\n",
       "      <td>1.07</td>\n",
       "    </tr>\n",
       "    <tr>\n",
       "      <th>Assassin</th>\n",
       "      <td>72</td>\n",
       "      <td>0.48</td>\n",
       "    </tr>\n",
       "    <tr>\n",
       "      <th>Ranger</th>\n",
       "      <td>4</td>\n",
       "      <td>0.03</td>\n",
       "    </tr>\n",
       "    <tr>\n",
       "      <th>Marauder</th>\n",
       "      <td>1</td>\n",
       "      <td>0.01</td>\n",
       "    </tr>\n",
       "    <tr>\n",
       "      <th>Scion</th>\n",
       "      <td>1</td>\n",
       "      <td>0.01</td>\n",
       "    </tr>\n",
       "  </tbody>\n",
       "</table>\n",
       "</div>"
      ],
      "text/plain": [
       "              numbers  ratio\n",
       "class                       \n",
       "Necromancer      2099  14.08\n",
       "Berserker        2064  13.85\n",
       "Gladiator        1356   9.10\n",
       "Slayer           1343   9.01\n",
       "Ascendant        1149   7.71\n",
       "Raider            895   6.00\n",
       "Trickster         834   5.60\n",
       "Inquisitor        828   5.56\n",
       "Chieftain         690   4.63\n",
       "Juggernaut        672   4.51\n",
       "Guardian          661   4.43\n",
       "Champion          490   3.29\n",
       "Pathfinder        416   2.79\n",
       "Hierophant        398   2.67\n",
       "Saboteur          304   2.04\n",
       "Occultist         301   2.02\n",
       "Deadeye           167   1.12\n",
       "Elementalist      160   1.07\n",
       "Assassin           72   0.48\n",
       "Ranger              4   0.03\n",
       "Marauder            1   0.01\n",
       "Scion               1   0.01"
      ]
     },
     "execution_count": 9,
     "metadata": {},
     "output_type": "execute_result"
    }
   ],
   "source": [
    "# Harbinger HC\n",
    "\n",
    "s1 = df[df['ladder'] == 'Hardcore Harbinger'].groupby(by = 'class').count()['id'].sort_values(ascending = False)\n",
    "s2 = df[df['ladder'] == 'Hardcore Harbinger'].groupby(by = 'class').count()['id'].sort_values(ascending = False)  / df[df['ladder'] == 'Hardcore Harbinger'].shape[0] * 100\n",
    "tmpdf = pd.DataFrame(columns = ['numbers', 'ratio'])\n",
    "tmpdf['numbers'], tmpdf['ratio'] = s1, s2\n",
    "tmpdf"
   ]
  },
  {
   "cell_type": "code",
   "execution_count": 10,
   "id": "03079614",
   "metadata": {
    "scrolled": true
   },
   "outputs": [
    {
     "data": {
      "text/html": [
       "<div>\n",
       "<style scoped>\n",
       "    .dataframe tbody tr th:only-of-type {\n",
       "        vertical-align: middle;\n",
       "    }\n",
       "\n",
       "    .dataframe tbody tr th {\n",
       "        vertical-align: top;\n",
       "    }\n",
       "\n",
       "    .dataframe thead th {\n",
       "        text-align: right;\n",
       "    }\n",
       "</style>\n",
       "<table border=\"1\" class=\"dataframe\">\n",
       "  <thead>\n",
       "    <tr style=\"text-align: right;\">\n",
       "      <th></th>\n",
       "      <th>numbers</th>\n",
       "      <th>ratio</th>\n",
       "    </tr>\n",
       "    <tr>\n",
       "      <th>class</th>\n",
       "      <th></th>\n",
       "      <th></th>\n",
       "    </tr>\n",
       "  </thead>\n",
       "  <tbody>\n",
       "    <tr>\n",
       "      <th>Berserker</th>\n",
       "      <td>2290</td>\n",
       "      <td>15.29</td>\n",
       "    </tr>\n",
       "    <tr>\n",
       "      <th>Necromancer</th>\n",
       "      <td>1716</td>\n",
       "      <td>11.45</td>\n",
       "    </tr>\n",
       "    <tr>\n",
       "      <th>Raider</th>\n",
       "      <td>1486</td>\n",
       "      <td>9.92</td>\n",
       "    </tr>\n",
       "    <tr>\n",
       "      <th>Gladiator</th>\n",
       "      <td>1320</td>\n",
       "      <td>8.81</td>\n",
       "    </tr>\n",
       "    <tr>\n",
       "      <th>Slayer</th>\n",
       "      <td>1301</td>\n",
       "      <td>8.68</td>\n",
       "    </tr>\n",
       "    <tr>\n",
       "      <th>Ascendant</th>\n",
       "      <td>1000</td>\n",
       "      <td>6.68</td>\n",
       "    </tr>\n",
       "    <tr>\n",
       "      <th>Trickster</th>\n",
       "      <td>955</td>\n",
       "      <td>6.37</td>\n",
       "    </tr>\n",
       "    <tr>\n",
       "      <th>Inquisitor</th>\n",
       "      <td>952</td>\n",
       "      <td>6.35</td>\n",
       "    </tr>\n",
       "    <tr>\n",
       "      <th>Hierophant</th>\n",
       "      <td>557</td>\n",
       "      <td>3.72</td>\n",
       "    </tr>\n",
       "    <tr>\n",
       "      <th>Elementalist</th>\n",
       "      <td>541</td>\n",
       "      <td>3.61</td>\n",
       "    </tr>\n",
       "    <tr>\n",
       "      <th>Chieftain</th>\n",
       "      <td>456</td>\n",
       "      <td>3.04</td>\n",
       "    </tr>\n",
       "    <tr>\n",
       "      <th>Juggernaut</th>\n",
       "      <td>437</td>\n",
       "      <td>2.92</td>\n",
       "    </tr>\n",
       "    <tr>\n",
       "      <th>Saboteur</th>\n",
       "      <td>407</td>\n",
       "      <td>2.72</td>\n",
       "    </tr>\n",
       "    <tr>\n",
       "      <th>Occultist</th>\n",
       "      <td>367</td>\n",
       "      <td>2.45</td>\n",
       "    </tr>\n",
       "    <tr>\n",
       "      <th>Deadeye</th>\n",
       "      <td>280</td>\n",
       "      <td>1.87</td>\n",
       "    </tr>\n",
       "    <tr>\n",
       "      <th>Assassin</th>\n",
       "      <td>274</td>\n",
       "      <td>1.83</td>\n",
       "    </tr>\n",
       "    <tr>\n",
       "      <th>Champion</th>\n",
       "      <td>262</td>\n",
       "      <td>1.75</td>\n",
       "    </tr>\n",
       "    <tr>\n",
       "      <th>Pathfinder</th>\n",
       "      <td>236</td>\n",
       "      <td>1.58</td>\n",
       "    </tr>\n",
       "    <tr>\n",
       "      <th>Guardian</th>\n",
       "      <td>66</td>\n",
       "      <td>0.44</td>\n",
       "    </tr>\n",
       "    <tr>\n",
       "      <th>Witch</th>\n",
       "      <td>21</td>\n",
       "      <td>0.14</td>\n",
       "    </tr>\n",
       "    <tr>\n",
       "      <th>Ranger</th>\n",
       "      <td>13</td>\n",
       "      <td>0.09</td>\n",
       "    </tr>\n",
       "    <tr>\n",
       "      <th>Shadow</th>\n",
       "      <td>10</td>\n",
       "      <td>0.07</td>\n",
       "    </tr>\n",
       "    <tr>\n",
       "      <th>Duelist</th>\n",
       "      <td>10</td>\n",
       "      <td>0.07</td>\n",
       "    </tr>\n",
       "    <tr>\n",
       "      <th>Marauder</th>\n",
       "      <td>10</td>\n",
       "      <td>0.07</td>\n",
       "    </tr>\n",
       "    <tr>\n",
       "      <th>Scion</th>\n",
       "      <td>8</td>\n",
       "      <td>0.05</td>\n",
       "    </tr>\n",
       "    <tr>\n",
       "      <th>Templar</th>\n",
       "      <td>6</td>\n",
       "      <td>0.04</td>\n",
       "    </tr>\n",
       "  </tbody>\n",
       "</table>\n",
       "</div>"
      ],
      "text/plain": [
       "              numbers  ratio\n",
       "class                       \n",
       "Berserker        2290  15.29\n",
       "Necromancer      1716  11.45\n",
       "Raider           1486   9.92\n",
       "Gladiator        1320   8.81\n",
       "Slayer           1301   8.68\n",
       "Ascendant        1000   6.68\n",
       "Trickster         955   6.37\n",
       "Inquisitor        952   6.35\n",
       "Hierophant        557   3.72\n",
       "Elementalist      541   3.61\n",
       "Chieftain         456   3.04\n",
       "Juggernaut        437   2.92\n",
       "Saboteur          407   2.72\n",
       "Occultist         367   2.45\n",
       "Deadeye           280   1.87\n",
       "Assassin          274   1.83\n",
       "Champion          262   1.75\n",
       "Pathfinder        236   1.58\n",
       "Guardian           66   0.44\n",
       "Witch              21   0.14\n",
       "Ranger             13   0.09\n",
       "Shadow             10   0.07\n",
       "Duelist            10   0.07\n",
       "Marauder           10   0.07\n",
       "Scion               8   0.05\n",
       "Templar             6   0.04"
      ]
     },
     "execution_count": 10,
     "metadata": {},
     "output_type": "execute_result"
    }
   ],
   "source": [
    "# SSF Harbinger \n",
    "\n",
    "s1 = df[df['ladder'] == 'SSF Harbinger'].groupby(by = 'class').count()['id'].sort_values(ascending = False)\n",
    "s2 = df[df['ladder'] == 'SSF Harbinger'].groupby(by = 'class').count()['id'].sort_values(ascending = False)  / df[df['ladder'] == 'SSF Harbinger'].shape[0] * 100\n",
    "tmpdf = pd.DataFrame(columns = ['numbers', 'ratio'])\n",
    "tmpdf['numbers'], tmpdf['ratio'] = s1, s2\n",
    "tmpdf"
   ]
  },
  {
   "cell_type": "code",
   "execution_count": 11,
   "id": "1763cdf9",
   "metadata": {
    "scrolled": true
   },
   "outputs": [
    {
     "data": {
      "text/html": [
       "<div>\n",
       "<style scoped>\n",
       "    .dataframe tbody tr th:only-of-type {\n",
       "        vertical-align: middle;\n",
       "    }\n",
       "\n",
       "    .dataframe tbody tr th {\n",
       "        vertical-align: top;\n",
       "    }\n",
       "\n",
       "    .dataframe thead th {\n",
       "        text-align: right;\n",
       "    }\n",
       "</style>\n",
       "<table border=\"1\" class=\"dataframe\">\n",
       "  <thead>\n",
       "    <tr style=\"text-align: right;\">\n",
       "      <th></th>\n",
       "      <th>numbers</th>\n",
       "      <th>ratio</th>\n",
       "    </tr>\n",
       "    <tr>\n",
       "      <th>class</th>\n",
       "      <th></th>\n",
       "      <th></th>\n",
       "    </tr>\n",
       "  </thead>\n",
       "  <tbody>\n",
       "    <tr>\n",
       "      <th>Necromancer</th>\n",
       "      <td>2055</td>\n",
       "      <td>13.73</td>\n",
       "    </tr>\n",
       "    <tr>\n",
       "      <th>Berserker</th>\n",
       "      <td>1644</td>\n",
       "      <td>10.98</td>\n",
       "    </tr>\n",
       "    <tr>\n",
       "      <th>Gladiator</th>\n",
       "      <td>1576</td>\n",
       "      <td>10.53</td>\n",
       "    </tr>\n",
       "    <tr>\n",
       "      <th>Slayer</th>\n",
       "      <td>1135</td>\n",
       "      <td>7.58</td>\n",
       "    </tr>\n",
       "    <tr>\n",
       "      <th>Trickster</th>\n",
       "      <td>1058</td>\n",
       "      <td>7.07</td>\n",
       "    </tr>\n",
       "    <tr>\n",
       "      <th>Inquisitor</th>\n",
       "      <td>1052</td>\n",
       "      <td>7.03</td>\n",
       "    </tr>\n",
       "    <tr>\n",
       "      <th>Ascendant</th>\n",
       "      <td>865</td>\n",
       "      <td>5.78</td>\n",
       "    </tr>\n",
       "    <tr>\n",
       "      <th>Raider</th>\n",
       "      <td>826</td>\n",
       "      <td>5.52</td>\n",
       "    </tr>\n",
       "    <tr>\n",
       "      <th>Juggernaut</th>\n",
       "      <td>734</td>\n",
       "      <td>4.90</td>\n",
       "    </tr>\n",
       "    <tr>\n",
       "      <th>Chieftain</th>\n",
       "      <td>693</td>\n",
       "      <td>4.63</td>\n",
       "    </tr>\n",
       "    <tr>\n",
       "      <th>Hierophant</th>\n",
       "      <td>668</td>\n",
       "      <td>4.46</td>\n",
       "    </tr>\n",
       "    <tr>\n",
       "      <th>Elementalist</th>\n",
       "      <td>432</td>\n",
       "      <td>2.89</td>\n",
       "    </tr>\n",
       "    <tr>\n",
       "      <th>Occultist</th>\n",
       "      <td>413</td>\n",
       "      <td>2.76</td>\n",
       "    </tr>\n",
       "    <tr>\n",
       "      <th>Saboteur</th>\n",
       "      <td>393</td>\n",
       "      <td>2.62</td>\n",
       "    </tr>\n",
       "    <tr>\n",
       "      <th>Champion</th>\n",
       "      <td>338</td>\n",
       "      <td>2.26</td>\n",
       "    </tr>\n",
       "    <tr>\n",
       "      <th>Assassin</th>\n",
       "      <td>225</td>\n",
       "      <td>1.50</td>\n",
       "    </tr>\n",
       "    <tr>\n",
       "      <th>Deadeye</th>\n",
       "      <td>193</td>\n",
       "      <td>1.29</td>\n",
       "    </tr>\n",
       "    <tr>\n",
       "      <th>Pathfinder</th>\n",
       "      <td>159</td>\n",
       "      <td>1.06</td>\n",
       "    </tr>\n",
       "    <tr>\n",
       "      <th>Guardian</th>\n",
       "      <td>101</td>\n",
       "      <td>0.67</td>\n",
       "    </tr>\n",
       "    <tr>\n",
       "      <th>Witch</th>\n",
       "      <td>98</td>\n",
       "      <td>0.65</td>\n",
       "    </tr>\n",
       "    <tr>\n",
       "      <th>Marauder</th>\n",
       "      <td>84</td>\n",
       "      <td>0.56</td>\n",
       "    </tr>\n",
       "    <tr>\n",
       "      <th>Templar</th>\n",
       "      <td>65</td>\n",
       "      <td>0.43</td>\n",
       "    </tr>\n",
       "    <tr>\n",
       "      <th>Duelist</th>\n",
       "      <td>55</td>\n",
       "      <td>0.37</td>\n",
       "    </tr>\n",
       "    <tr>\n",
       "      <th>Scion</th>\n",
       "      <td>43</td>\n",
       "      <td>0.29</td>\n",
       "    </tr>\n",
       "    <tr>\n",
       "      <th>Shadow</th>\n",
       "      <td>36</td>\n",
       "      <td>0.24</td>\n",
       "    </tr>\n",
       "    <tr>\n",
       "      <th>Ranger</th>\n",
       "      <td>31</td>\n",
       "      <td>0.21</td>\n",
       "    </tr>\n",
       "  </tbody>\n",
       "</table>\n",
       "</div>"
      ],
      "text/plain": [
       "              numbers  ratio\n",
       "class                       \n",
       "Necromancer      2055  13.73\n",
       "Berserker        1644  10.98\n",
       "Gladiator        1576  10.53\n",
       "Slayer           1135   7.58\n",
       "Trickster        1058   7.07\n",
       "Inquisitor       1052   7.03\n",
       "Ascendant         865   5.78\n",
       "Raider            826   5.52\n",
       "Juggernaut        734   4.90\n",
       "Chieftain         693   4.63\n",
       "Hierophant        668   4.46\n",
       "Elementalist      432   2.89\n",
       "Occultist         413   2.76\n",
       "Saboteur          393   2.62\n",
       "Champion          338   2.26\n",
       "Assassin          225   1.50\n",
       "Deadeye           193   1.29\n",
       "Pathfinder        159   1.06\n",
       "Guardian          101   0.67\n",
       "Witch              98   0.65\n",
       "Marauder           84   0.56\n",
       "Templar            65   0.43\n",
       "Duelist            55   0.37\n",
       "Scion              43   0.29\n",
       "Shadow             36   0.24\n",
       "Ranger             31   0.21"
      ]
     },
     "execution_count": 11,
     "metadata": {},
     "output_type": "execute_result"
    }
   ],
   "source": [
    "# SSF Harbinger HC\n",
    "\n",
    "s1 = df[df['ladder'] == 'SSF Harbinger HC'].groupby(by = 'class').count()['id'].sort_values(ascending = False)\n",
    "s2 = df[df['ladder'] == 'SSF Harbinger HC'].groupby(by = 'class').count()['id'].sort_values(ascending = False)  / df[df['ladder'] == 'SSF Harbinger HC'].shape[0] * 100\n",
    "tmpdf = pd.DataFrame(columns = ['numbers', 'ratio'])\n",
    "tmpdf['numbers'], tmpdf['ratio'] = s1, s2\n",
    "tmpdf"
   ]
  },
  {
   "cell_type": "markdown",
   "id": "d588be4b",
   "metadata": {},
   "source": [
    "## 1-4. Visualization\n",
    "\n",
    "### 1-4-1. Characters number of each class in each division separately"
   ]
  },
  {
   "cell_type": "code",
   "execution_count": 12,
   "id": "b81d30f0",
   "metadata": {},
   "outputs": [
    {
     "data": {
      "text/html": [
       "<div>\n",
       "<style scoped>\n",
       "    .dataframe tbody tr th:only-of-type {\n",
       "        vertical-align: middle;\n",
       "    }\n",
       "\n",
       "    .dataframe tbody tr th {\n",
       "        vertical-align: top;\n",
       "    }\n",
       "\n",
       "    .dataframe thead th {\n",
       "        text-align: right;\n",
       "    }\n",
       "</style>\n",
       "<table border=\"1\" class=\"dataframe\">\n",
       "  <thead>\n",
       "    <tr style=\"text-align: right;\">\n",
       "      <th>ladder</th>\n",
       "      <th>class</th>\n",
       "      <th>total</th>\n",
       "      <th>SSF Harbinger HC</th>\n",
       "      <th>SSF Harbinger</th>\n",
       "      <th>Hardcore Harbinger</th>\n",
       "      <th>Harbinger</th>\n",
       "    </tr>\n",
       "  </thead>\n",
       "  <tbody>\n",
       "    <tr>\n",
       "      <th>0</th>\n",
       "      <td>Ascendant</td>\n",
       "      <td>3754</td>\n",
       "      <td>865</td>\n",
       "      <td>1000</td>\n",
       "      <td>1149</td>\n",
       "      <td>740</td>\n",
       "    </tr>\n",
       "    <tr>\n",
       "      <th>1</th>\n",
       "      <td>Assassin</td>\n",
       "      <td>679</td>\n",
       "      <td>225</td>\n",
       "      <td>274</td>\n",
       "      <td>72</td>\n",
       "      <td>108</td>\n",
       "    </tr>\n",
       "    <tr>\n",
       "      <th>2</th>\n",
       "      <td>Berserker</td>\n",
       "      <td>8711</td>\n",
       "      <td>1644</td>\n",
       "      <td>2290</td>\n",
       "      <td>2064</td>\n",
       "      <td>2713</td>\n",
       "    </tr>\n",
       "  </tbody>\n",
       "</table>\n",
       "</div>"
      ],
      "text/plain": [
       "ladder      class  total  SSF Harbinger HC  SSF Harbinger  Hardcore Harbinger  \\\n",
       "0       Ascendant   3754               865           1000                1149   \n",
       "1        Assassin    679               225            274                  72   \n",
       "2       Berserker   8711              1644           2290                2064   \n",
       "\n",
       "ladder  Harbinger  \n",
       "0             740  \n",
       "1             108  \n",
       "2            2713  "
      ]
     },
     "execution_count": 12,
     "metadata": {},
     "output_type": "execute_result"
    }
   ],
   "source": [
    "df_cha_bylad = df.pivot_table(values = 'id', index = 'ladder', columns = 'class', aggfunc = 'count', margins=True, margins_name=\"total\", fill_value = 0)\n",
    "\n",
    "# transpose to make class as row\n",
    "df_cha_bylad = df_cha_bylad.sort_values(ascending = False, by = 'ladder').transpose()\n",
    "df_cha_bylad.reset_index(drop = False, inplace = True)\n",
    "\n",
    "# drop 'index = 26 'total' row '\n",
    "df_cha_bylad.drop(index = 26, inplace = True)\n",
    "df_cha_bylad.head(3)"
   ]
  },
  {
   "cell_type": "code",
   "execution_count": 13,
   "id": "599fd736",
   "metadata": {
    "scrolled": false
   },
   "outputs": [
    {
     "data": {
      "image/png": "[encoded data removed]",
      "text/plain": [
       "<Figure size 720x432 with 1 Axes>"
      ]
     },
     "metadata": {
      "needs_background": "light"
     },
     "output_type": "display_data"
    }
   ],
   "source": [
    "# if you want to see 'characters' number as seperated by ladder (case when 'Harbinger')\n",
    "\n",
    "plt.subplots(figsize = (10, 6))\n",
    "\n",
    "plt.xlabel('Class name')\n",
    "plt.ylabel('Number of id')\n",
    "plt.ylim(bottom=0, top=4000)\n",
    "plt.xticks(rotation=45, fontsize=9)\n",
    "\n",
    "ax = sns.barplot(x = 'class', y = 'Harbinger', data = df_cha_bylad, palette = \"rocket\")\n",
    "for p in ax.patches: \n",
    "    ax.annotate(\"%.0f\" % p.get_height(), (p.get_x() + p.get_width()/2., p.get_height() - 30), \n",
    "       ha='center', va='center', fontsize=10, color='black', xytext=(0, 10), \n",
    "       textcoords='offset points') \n",
    "plt.tight_layout()\n",
    "plt.title('Characters in Harbinger division')\n",
    "plt.show()"
   ]
  },
  {
   "cell_type": "code",
   "execution_count": 14,
   "id": "83851e2b",
   "metadata": {
    "scrolled": false
   },
   "outputs": [],
   "source": [
    "# # if you want to see 'characters' number as seperated by ladder, others \n",
    "\n",
    "\n",
    "# # Hardcore Harbinger \n",
    "# plt.subplots(figsize = (10, 6))\n",
    "\n",
    "# plt.xlabel('Class name')\n",
    "# plt.ylabel('Number of id')\n",
    "# plt.ylim(bottom=0, top=4000)\n",
    "# plt.xticks(rotation=45, fontsize=9)\n",
    "\n",
    "# ax = sns.barplot(x = 'class', y = 'Hardcore Harbinger', data = df_cha_bylad, palette = \"rocket\")\n",
    "# for p in ax.patches: \n",
    "#     ax.annotate(\"%.0f\" % p.get_height(), (p.get_x() + p.get_width()/2., p.get_height() - 30), \n",
    "#        ha='center', va='center', fontsize=10, color='black', xytext=(0, 10), \n",
    "#        textcoords='offset points') \n",
    "# plt.tight_layout()\n",
    "# plt.title('Characters in Hardcore Harbinger division')\n",
    "# plt.show()\n",
    "\n",
    "\n",
    "# # SSF Harbinger \n",
    "# plt.subplots(figsize = (10, 6))\n",
    "\n",
    "# plt.xlabel('Class name')\n",
    "# plt.ylabel('Number of id')\n",
    "# plt.ylim(bottom=0, top=4000)\n",
    "# plt.xticks(rotation=45, fontsize=9)\n",
    "\n",
    "# ax = sns.barplot(x = 'class', y = 'SSF Harbinger', data = df_cha_bylad, palette = \"rocket\")\n",
    "# for p in ax.patches: \n",
    "#     ax.annotate(\"%.0f\" % p.get_height(), (p.get_x() + p.get_width()/2., p.get_height() - 30), \n",
    "#        ha='center', va='center', fontsize=10, color='black', xytext=(0, 10), \n",
    "#        textcoords='offset points') \n",
    "# plt.tight_layout()\n",
    "# plt.title('Characters in SSF Harbinger division')\n",
    "# plt.show()\n",
    "\n",
    "\n",
    "# # SSF Hardcore Harbinger \n",
    "# plt.subplots(figsize = (10, 6))\n",
    "\n",
    "# plt.xlabel('Class name')\n",
    "# plt.ylabel('Number of id')\n",
    "# plt.ylim(bottom=0, top=4000)\n",
    "# plt.xticks(rotation=45, fontsize=9)\n",
    "\n",
    "# ax = sns.barplot(x = 'class', y = 'SSF Harbinger HC', data = df_cha_bylad, palette = \"rocket\")\n",
    "# for p in ax.patches: \n",
    "#     ax.annotate(\"%.0f\" % p.get_height(), (p.get_x() + p.get_width()/2., p.get_height() - 30), \n",
    "#        ha='center', va='center', fontsize=10, color='black', xytext=(0, 10), \n",
    "#        textcoords='offset points') \n",
    "# plt.tight_layout()\n",
    "# plt.title('Characters in SSF Hardcore Harbinger division')\n",
    "# plt.show()"
   ]
  },
  {
   "cell_type": "markdown",
   "id": "17ff0b0e",
   "metadata": {},
   "source": [
    "### 1-4-2. Characters number by division and class \n",
    "without number texts."
   ]
  },
  {
   "cell_type": "code",
   "execution_count": 15,
   "id": "660bced7",
   "metadata": {},
   "outputs": [
    {
     "data": {
      "image/png": "[encoded data removed]",
      "text/plain": [
       "<Figure size 576x1152 with 1 Axes>"
      ]
     },
     "metadata": {
      "needs_background": "light"
     },
     "output_type": "display_data"
    }
   ],
   "source": [
    "# if you want to see all of them\n",
    "\n",
    "orderlist = list(df_cha_bylad['class'])\n",
    "\n",
    "plt.rcParams[\"figure.figsize\"] = (8, 16)\n",
    "plt.xlabel('Class name')\n",
    "plt.ylabel('Number of id')\n",
    "plt.ylim(bottom = 0, top = 4000)\n",
    "plt.xticks(rotation=0, fontsize=10)\n",
    "sns.set_style('whitegrid')\n",
    "ax = sns.countplot(data = df, y = 'class',\n",
    "              palette=\"rocket\", edgecolor = sns.color_palette(\"dark\", 1), hue = 'ladder', order = orderlist) \n",
    "plt.tight_layout()\n",
    "plt.title('Characters in each class by divisions')\n",
    "plt.show()"
   ]
  },
  {
   "cell_type": "markdown",
   "id": "4bea7993",
   "metadata": {},
   "source": [
    "## 1-5. Conclusion:\n",
    "We checked the specific number needed. And there are some preferred classes in each ladder.  \n",
    "\n",
    "In Harbinger, the most common mode, Pathfinder is the most one.  \n",
    "And Necromancer is the most preferred in Harbinger hardcore mode. (Berserk was on the same level.)  \n",
    "In SSF Harbinger, the solo mode, the most picked one is Berserker and Necromancer is also preferred too.  \n",
    "In SSF Harbinger hardcore, the most one is Necromancer and Berserker is also preferred.  \n",
    "\n",
    "- Necromancer or Berserker are preferred in some modes, but Pathfinder is the most preferred class, only in Harbinger mode.  \n",
    "- And we may have to consider that all of them(Necromancer and Berserker and Pathfinder) are one-stat classes later. (Each class is among the Intelligence, Strength, and Dexterity stat.)  \n",
    "\n",
    "◎ As a result, you can find the preferred class in each mode and find out 'the imbalance in performance between classes' or 'the advantageous skills in certain modes' to see if there is a problem with game balance."
   ]
  },
  {
   "cell_type": "markdown",
   "id": "336701c4",
   "metadata": {},
   "source": [
    "# 2. Are streamers better or not?\n",
    "---\n",
    "##### Q2. Some of the players streaming their games (twitch column). Do they play better than people who do not stream?\n",
    "\n",
    "**Before analyzing, I gave shape to the question. This was important to solve this question especially because the ‘better play’ meaning is a little ambiguous.**\n",
    "\n",
    "1. We have to set the standard of 'play better' means, so I treat the rank of characters to the 'better play'. Maybe there are more criteria like ranking of 'exp' or 'level', 'challenge' contrasts.  \n",
    "    But I just used the **rank** because they are ranked players, they are already skilled enough to not need to base their rankings on the number of challenges or levels. In addition, there are many variables that affect classes, parties, items, and skill trees to compare the players. And each mode has a different environment. On other criteria other than game modes, we cannot know and use everything in detail.  \n",
    "\n",
    "2. And there are some cases where one twitch streamer has multiple accounts or characters. And also, one user has multiple characters on a rank chart. (I discovered it when I analyze the dataset before this project.) So I assumed that one account or one twitch id means one user(the one twitch ‘player’ has multiple accounts or characters or the one ‘player’ has multiple characters).  \n",
    "\n",
    "3. And there're some missing rank values in each ladder. (When I analyzed the data personally, I substituted the missing data by updating it to rank only the data we have. But,) anyway, I used the original rank in this analysis.  \n",
    "\n",
    "4. Plus, And I decided to use rank, but how should we decide the ability(rank) to represent one user? My words mean, which one is more accurate, the rank average or median of several characters a user has. I thought it would be ideal if the number of data in a user's ranking was more than 30. But the reality wasn't, so we used both for this analysis.  \n",
    "\n",
    "5. sequence\n",
    "    1. normally get the average from all dataframe\n",
    "    2. get the average from each player(user)'s average rank and compare\n",
    "    3. get the average from each player(user)'s median rank and compare\n",
    "    4. statistical significance test (Mann Whitney U test)"
   ]
  },
  {
   "cell_type": "code",
   "execution_count": 16,
   "id": "72a6938e",
   "metadata": {},
   "outputs": [
    {
     "data": {
      "text/plain": [
       "count                16300\n",
       "unique                9613\n",
       "top       thespunkylobster\n",
       "freq                    18\n",
       "Name: twitch, dtype: object"
      ]
     },
     "execution_count": 16,
     "metadata": {},
     "output_type": "execute_result"
    }
   ],
   "source": [
    "df['twitch'].describe()"
   ]
  },
  {
   "cell_type": "code",
   "execution_count": 17,
   "id": "e06cf92f",
   "metadata": {
    "scrolled": true
   },
   "outputs": [
    {
     "data": {
      "text/html": [
       "<div>\n",
       "<style scoped>\n",
       "    .dataframe tbody tr th:only-of-type {\n",
       "        vertical-align: middle;\n",
       "    }\n",
       "\n",
       "    .dataframe tbody tr th {\n",
       "        vertical-align: top;\n",
       "    }\n",
       "\n",
       "    .dataframe thead th {\n",
       "        text-align: right;\n",
       "    }\n",
       "</style>\n",
       "<table border=\"1\" class=\"dataframe\">\n",
       "  <thead>\n",
       "    <tr style=\"text-align: right;\">\n",
       "      <th></th>\n",
       "      <th>name</th>\n",
       "      <th>class</th>\n",
       "      <th>id</th>\n",
       "      <th>account</th>\n",
       "      <th>twitch</th>\n",
       "      <th>ladder</th>\n",
       "    </tr>\n",
       "  </thead>\n",
       "  <tbody>\n",
       "    <tr>\n",
       "      <th>count</th>\n",
       "      <td>43476</td>\n",
       "      <td>43476</td>\n",
       "      <td>43476</td>\n",
       "      <td>43476</td>\n",
       "      <td>0</td>\n",
       "      <td>43476</td>\n",
       "    </tr>\n",
       "    <tr>\n",
       "      <th>unique</th>\n",
       "      <td>42342</td>\n",
       "      <td>26</td>\n",
       "      <td>43476</td>\n",
       "      <td>27505</td>\n",
       "      <td>0</td>\n",
       "      <td>4</td>\n",
       "    </tr>\n",
       "    <tr>\n",
       "      <th>top</th>\n",
       "      <td>_Flic_</td>\n",
       "      <td>Berserker</td>\n",
       "      <td>c861372da792be0b22c45bf437ccd58437c52e9455e0bf...</td>\n",
       "      <td>chuz101</td>\n",
       "      <td>NaN</td>\n",
       "      <td>SSF Harbinger</td>\n",
       "    </tr>\n",
       "    <tr>\n",
       "      <th>freq</th>\n",
       "      <td>14</td>\n",
       "      <td>6372</td>\n",
       "      <td>1</td>\n",
       "      <td>30</td>\n",
       "      <td>NaN</td>\n",
       "      <td>12320</td>\n",
       "    </tr>\n",
       "  </tbody>\n",
       "</table>\n",
       "</div>"
      ],
      "text/plain": [
       "          name      class                                                 id  \\\n",
       "count    43476      43476                                              43476   \n",
       "unique   42342         26                                              43476   \n",
       "top     _Flic_  Berserker  c861372da792be0b22c45bf437ccd58437c52e9455e0bf...   \n",
       "freq        14       6372                                                  1   \n",
       "\n",
       "        account twitch         ladder  \n",
       "count     43476      0          43476  \n",
       "unique    27505      0              4  \n",
       "top     chuz101    NaN  SSF Harbinger  \n",
       "freq         30    NaN          12320  "
      ]
     },
     "execution_count": 17,
     "metadata": {},
     "output_type": "execute_result"
    }
   ],
   "source": [
    "# Not streaming users\n",
    "df[df['twitch'].isna() == True].describe(include = 'object')"
   ]
  },
  {
   "cell_type": "code",
   "execution_count": 18,
   "id": "924fadec",
   "metadata": {},
   "outputs": [
    {
     "data": {
      "text/html": [
       "<div>\n",
       "<style scoped>\n",
       "    .dataframe tbody tr th:only-of-type {\n",
       "        vertical-align: middle;\n",
       "    }\n",
       "\n",
       "    .dataframe tbody tr th {\n",
       "        vertical-align: top;\n",
       "    }\n",
       "\n",
       "    .dataframe thead th {\n",
       "        text-align: right;\n",
       "    }\n",
       "</style>\n",
       "<table border=\"1\" class=\"dataframe\">\n",
       "  <thead>\n",
       "    <tr style=\"text-align: right;\">\n",
       "      <th></th>\n",
       "      <th>name</th>\n",
       "      <th>class</th>\n",
       "      <th>id</th>\n",
       "      <th>account</th>\n",
       "      <th>twitch</th>\n",
       "      <th>ladder</th>\n",
       "    </tr>\n",
       "  </thead>\n",
       "  <tbody>\n",
       "    <tr>\n",
       "      <th>count</th>\n",
       "      <td>16300</td>\n",
       "      <td>16300</td>\n",
       "      <td>16300</td>\n",
       "      <td>16300</td>\n",
       "      <td>16300</td>\n",
       "      <td>16300</td>\n",
       "    </tr>\n",
       "    <tr>\n",
       "      <th>unique</th>\n",
       "      <td>15946</td>\n",
       "      <td>26</td>\n",
       "      <td>16300</td>\n",
       "      <td>9618</td>\n",
       "      <td>9613</td>\n",
       "      <td>4</td>\n",
       "    </tr>\n",
       "    <tr>\n",
       "      <th>top</th>\n",
       "      <td>Cya</td>\n",
       "      <td>Berserker</td>\n",
       "      <td>3dcddd59f5088893f734f39686350990dae168cc4f4b00...</td>\n",
       "      <td>TheSpunkyLobster</td>\n",
       "      <td>thespunkylobster</td>\n",
       "      <td>Hardcore Harbinger</td>\n",
       "    </tr>\n",
       "    <tr>\n",
       "      <th>freq</th>\n",
       "      <td>8</td>\n",
       "      <td>2339</td>\n",
       "      <td>1</td>\n",
       "      <td>18</td>\n",
       "      <td>18</td>\n",
       "      <td>5452</td>\n",
       "    </tr>\n",
       "  </tbody>\n",
       "</table>\n",
       "</div>"
      ],
      "text/plain": [
       "         name      class                                                 id  \\\n",
       "count   16300      16300                                              16300   \n",
       "unique  15946         26                                              16300   \n",
       "top       Cya  Berserker  3dcddd59f5088893f734f39686350990dae168cc4f4b00...   \n",
       "freq        8       2339                                                  1   \n",
       "\n",
       "                 account            twitch              ladder  \n",
       "count              16300             16300               16300  \n",
       "unique              9618              9613                   4  \n",
       "top     TheSpunkyLobster  thespunkylobster  Hardcore Harbinger  \n",
       "freq                  18                18                5452  "
      ]
     },
     "execution_count": 18,
     "metadata": {},
     "output_type": "execute_result"
    }
   ],
   "source": [
    "# Twitch streaming users\n",
    "df[df['twitch'].isna() == False].describe(include = 'object')"
   ]
  },
  {
   "cell_type": "code",
   "execution_count": 19,
   "id": "5bf36c42",
   "metadata": {},
   "outputs": [
    {
     "name": "stdout",
     "output_type": "stream",
     "text": [
      "14918\n",
      "14905\n",
      "14981\n",
      "14972\n"
     ]
    }
   ],
   "source": [
    "# you can see how much missing values in rank are there by ladder\n",
    "\n",
    "print(df[df['ladder'] == 'Harbinger']['rank'].nunique())\n",
    "print(df[df['ladder'] == 'Hardcore Harbinger']['rank'].nunique())\n",
    "print(df[df['ladder'] == 'SSF Harbinger']['rank'].nunique())\n",
    "print(df[df['ladder'] == 'SSF Harbinger HC']['rank'].nunique())"
   ]
  },
  {
   "cell_type": "markdown",
   "id": "3582fdf6",
   "metadata": {},
   "source": [
    "### dividing data\n",
    "\n",
    "Let's divide the dataset as whether 'twitch' user or not.  \n",
    "And divide them by person(twitch unique value is first in the twitch column)'s average.  \n"
   ]
  },
  {
   "cell_type": "code",
   "execution_count": 20,
   "id": "e97e0992",
   "metadata": {},
   "outputs": [],
   "source": [
    "# Let's divide the dataset as whether 'twitch' column is null or not\n",
    "\n",
    "# each id's rank\n",
    "df_twt = df[df['twitch'].isna() == False]\n",
    "df_twt_non = df[df['twitch'].isna() == True]\n",
    "\n",
    "# each user's mean rank\n",
    "# grouping by player and get the 'average' rank of each player streaming on twitch or not\n",
    "df_twt_mean = df_twt.pivot_table(index = 'twitch', values = 'rank', aggfunc = 'mean')\n",
    "df_twt_non_mean = df_twt_non.pivot_table(index = 'account', values = 'rank', aggfunc = 'mean')\n",
    "\n",
    "# each user's median rank\n",
    "# grouping by player and get the 'median' rank of each player streaming on twitch or not\n",
    "df_twt_med = df_twt.pivot_table(index = 'twitch', values = 'rank', aggfunc = 'median')\n",
    "df_twt_non_med = df_twt_non.pivot_table(index = 'account', values = 'rank', aggfunc = 'median')"
   ]
  },
  {
   "cell_type": "markdown",
   "id": "2f61f0db",
   "metadata": {},
   "source": [
    "## 2-1. normal average and median of rank simply\n",
    "\n",
    "normally get the average and median from all dataframe, and checking standard deviation"
   ]
  },
  {
   "cell_type": "code",
   "execution_count": 21,
   "id": "54acf4a4",
   "metadata": {},
   "outputs": [
    {
     "name": "stdout",
     "output_type": "stream",
     "text": [
      "7101.554355828221\n",
      "7643.018308952065\n"
     ]
    }
   ],
   "source": [
    "# twtich streamers and not streaming users's rank 'average' of each 'id'\n",
    "print(df_twt['rank'].mean())\n",
    "print(df_twt_non['rank'].mean())"
   ]
  },
  {
   "cell_type": "code",
   "execution_count": 22,
   "id": "8b90d6b7",
   "metadata": {},
   "outputs": [
    {
     "name": "stdout",
     "output_type": "stream",
     "text": [
      "6960.5\n",
      "7684.0\n"
     ]
    }
   ],
   "source": [
    "# twtich streamers and not streaming users's rank 'median' of each 'id'\n",
    "print(df_twt['rank'].median())\n",
    "print(df_twt_non['rank'].median())"
   ]
  },
  {
   "cell_type": "markdown",
   "id": "647fecdf",
   "metadata": {},
   "source": [
    "It seems that the rank of users who stream is about 500 higher.  \n",
    "Considering the total ranking is 15,000, the difference of 500 is about one-thirty, so it's not a small difference, but it doesn't seem to be a very big difference.  \n",
    "And the median showed a bigger difference. "
   ]
  },
  {
   "cell_type": "code",
   "execution_count": 23,
   "id": "55150fb3",
   "metadata": {},
   "outputs": [
    {
     "name": "stdout",
     "output_type": "stream",
     "text": [
      "All users rank : \n",
      " 4330.179897702609\n",
      "Streaming users rank : \n",
      " 4393.701617302437\n",
      "Not-streaming users rank : \n",
      " 4296.88083653341\n"
     ]
    }
   ],
   "source": [
    "# check the standard deviation\n",
    "\n",
    "print(\"All users rank : \\n\", df['rank'].std())\n",
    "print(\"Streaming users rank : \\n\", df_twt['rank'].std())\n",
    "print(\"Not-streaming users rank : \\n\", df_twt_non['rank'].std())"
   ]
  },
  {
   "cell_type": "markdown",
   "id": "68ec1686",
   "metadata": {},
   "source": [
    "## 2-2. average by account (when we set the average to a representative value)\n",
    "\n",
    "Get the average values from each player(user)'s average rank. And check the average and median of them."
   ]
  },
  {
   "cell_type": "code",
   "execution_count": 24,
   "id": "2d042722",
   "metadata": {},
   "outputs": [
    {
     "data": {
      "text/html": [
       "<div>\n",
       "<style scoped>\n",
       "    .dataframe tbody tr th:only-of-type {\n",
       "        vertical-align: middle;\n",
       "    }\n",
       "\n",
       "    .dataframe tbody tr th {\n",
       "        vertical-align: top;\n",
       "    }\n",
       "\n",
       "    .dataframe thead th {\n",
       "        text-align: right;\n",
       "    }\n",
       "</style>\n",
       "<table border=\"1\" class=\"dataframe\">\n",
       "  <thead>\n",
       "    <tr style=\"text-align: right;\">\n",
       "      <th></th>\n",
       "      <th>rank</th>\n",
       "    </tr>\n",
       "    <tr>\n",
       "      <th>twitch</th>\n",
       "      <th></th>\n",
       "    </tr>\n",
       "  </thead>\n",
       "  <tbody>\n",
       "    <tr>\n",
       "      <th>alaskasworld</th>\n",
       "      <td>8,700.00</td>\n",
       "    </tr>\n",
       "    <tr>\n",
       "      <th>tman0112</th>\n",
       "      <td>14,909.00</td>\n",
       "    </tr>\n",
       "    <tr>\n",
       "      <th>xanity_poe</th>\n",
       "      <td>11,520.00</td>\n",
       "    </tr>\n",
       "    <tr>\n",
       "      <th>icy_veinz</th>\n",
       "      <td>5,704.50</td>\n",
       "    </tr>\n",
       "    <tr>\n",
       "      <th>cengaaver</th>\n",
       "      <td>7,397.00</td>\n",
       "    </tr>\n",
       "  </tbody>\n",
       "</table>\n",
       "</div>"
      ],
      "text/plain": [
       "                  rank\n",
       "twitch                \n",
       "alaskasworld  8,700.00\n",
       "tman0112     14,909.00\n",
       "xanity_poe   11,520.00\n",
       "icy_veinz     5,704.50\n",
       "cengaaver     7,397.00"
      ]
     },
     "execution_count": 24,
     "metadata": {},
     "output_type": "execute_result"
    }
   ],
   "source": [
    "# example of users' rank average.\n",
    "# grouping by twitch and get average 'rank' of each player streaming on twitch\n",
    "df_twt_mean.sample(5)"
   ]
  },
  {
   "cell_type": "code",
   "execution_count": 25,
   "id": "833998ed",
   "metadata": {},
   "outputs": [
    {
     "data": {
      "text/html": [
       "<div>\n",
       "<style scoped>\n",
       "    .dataframe tbody tr th:only-of-type {\n",
       "        vertical-align: middle;\n",
       "    }\n",
       "\n",
       "    .dataframe tbody tr th {\n",
       "        vertical-align: top;\n",
       "    }\n",
       "\n",
       "    .dataframe thead th {\n",
       "        text-align: right;\n",
       "    }\n",
       "</style>\n",
       "<table border=\"1\" class=\"dataframe\">\n",
       "  <thead>\n",
       "    <tr style=\"text-align: right;\">\n",
       "      <th></th>\n",
       "      <th>rank</th>\n",
       "    </tr>\n",
       "    <tr>\n",
       "      <th>twitch</th>\n",
       "      <th></th>\n",
       "    </tr>\n",
       "  </thead>\n",
       "  <tbody>\n",
       "    <tr>\n",
       "      <th>bludstained</th>\n",
       "      <td>11,289.00</td>\n",
       "    </tr>\n",
       "    <tr>\n",
       "      <th>theduocsi</th>\n",
       "      <td>4,838.00</td>\n",
       "    </tr>\n",
       "    <tr>\n",
       "      <th>artymiss</th>\n",
       "      <td>7,664.67</td>\n",
       "    </tr>\n",
       "    <tr>\n",
       "      <th>moscorpion</th>\n",
       "      <td>1,933.00</td>\n",
       "    </tr>\n",
       "    <tr>\n",
       "      <th>sh1nrax</th>\n",
       "      <td>8,921.00</td>\n",
       "    </tr>\n",
       "  </tbody>\n",
       "</table>\n",
       "</div>"
      ],
      "text/plain": [
       "                 rank\n",
       "twitch               \n",
       "bludstained 11,289.00\n",
       "theduocsi    4,838.00\n",
       "artymiss     7,664.67\n",
       "moscorpion   1,933.00\n",
       "sh1nrax      8,921.00"
      ]
     },
     "execution_count": 25,
     "metadata": {},
     "output_type": "execute_result"
    }
   ],
   "source": [
    "# grouping by twitch and get average 'rank' of each non_streaming players\n",
    "df_twt_mean.sample(5)"
   ]
  },
  {
   "cell_type": "code",
   "execution_count": 26,
   "id": "d9e737f6",
   "metadata": {},
   "outputs": [
    {
     "name": "stdout",
     "output_type": "stream",
     "text": [
      "7479.202758592788\n",
      "7966.844983149482\n"
     ]
    }
   ],
   "source": [
    "# get the average of each player's average rank\n",
    "print(df_twt_mean['rank'].mean())\n",
    "print(df_twt_non_mean['rank'].mean())"
   ]
  },
  {
   "cell_type": "code",
   "execution_count": 27,
   "id": "89be8bd6",
   "metadata": {},
   "outputs": [
    {
     "name": "stdout",
     "output_type": "stream",
     "text": [
      "7425.0\n",
      "8037.0\n"
     ]
    }
   ],
   "source": [
    "# get the median of each player's average rank\n",
    "print(df_twt_mean['rank'].median())\n",
    "print(df_twt_non_mean['rank'].median())"
   ]
  },
  {
   "cell_type": "markdown",
   "id": "6c983471",
   "metadata": {},
   "source": [
    "## 2-3. median rank of each player and get average(when we set the median to a representative value)\n",
    "\n",
    "Get the average from each player(user)'s median rank"
   ]
  },
  {
   "cell_type": "code",
   "execution_count": 28,
   "id": "b3cac04c",
   "metadata": {},
   "outputs": [
    {
     "data": {
      "text/html": [
       "<div>\n",
       "<style scoped>\n",
       "    .dataframe tbody tr th:only-of-type {\n",
       "        vertical-align: middle;\n",
       "    }\n",
       "\n",
       "    .dataframe tbody tr th {\n",
       "        vertical-align: top;\n",
       "    }\n",
       "\n",
       "    .dataframe thead th {\n",
       "        text-align: right;\n",
       "    }\n",
       "</style>\n",
       "<table border=\"1\" class=\"dataframe\">\n",
       "  <thead>\n",
       "    <tr style=\"text-align: right;\">\n",
       "      <th></th>\n",
       "      <th>rank</th>\n",
       "    </tr>\n",
       "    <tr>\n",
       "      <th>twitch</th>\n",
       "      <th></th>\n",
       "    </tr>\n",
       "  </thead>\n",
       "  <tbody>\n",
       "    <tr>\n",
       "      <th>twitchaccoutforsmite</th>\n",
       "      <td>12,043.00</td>\n",
       "    </tr>\n",
       "    <tr>\n",
       "      <th>y2k32</th>\n",
       "      <td>4,009.00</td>\n",
       "    </tr>\n",
       "    <tr>\n",
       "      <th>shock268</th>\n",
       "      <td>3,627.00</td>\n",
       "    </tr>\n",
       "    <tr>\n",
       "      <th>lagmastersam</th>\n",
       "      <td>10,121.50</td>\n",
       "    </tr>\n",
       "    <tr>\n",
       "      <th>thorloph</th>\n",
       "      <td>12,150.50</td>\n",
       "    </tr>\n",
       "  </tbody>\n",
       "</table>\n",
       "</div>"
      ],
      "text/plain": [
       "                          rank\n",
       "twitch                        \n",
       "twitchaccoutforsmite 12,043.00\n",
       "y2k32                 4,009.00\n",
       "shock268              3,627.00\n",
       "lagmastersam         10,121.50\n",
       "thorloph             12,150.50"
      ]
     },
     "execution_count": 28,
     "metadata": {},
     "output_type": "execute_result"
    }
   ],
   "source": [
    "# example of users' rank median.\n",
    "# grouping by twitch and get median 'rank' of each player streaming on twitch\n",
    "df_twt_med.sample(5)"
   ]
  },
  {
   "cell_type": "code",
   "execution_count": 29,
   "id": "d0f8b6c7",
   "metadata": {},
   "outputs": [
    {
     "data": {
      "text/html": [
       "<div>\n",
       "<style scoped>\n",
       "    .dataframe tbody tr th:only-of-type {\n",
       "        vertical-align: middle;\n",
       "    }\n",
       "\n",
       "    .dataframe tbody tr th {\n",
       "        vertical-align: top;\n",
       "    }\n",
       "\n",
       "    .dataframe thead th {\n",
       "        text-align: right;\n",
       "    }\n",
       "</style>\n",
       "<table border=\"1\" class=\"dataframe\">\n",
       "  <thead>\n",
       "    <tr style=\"text-align: right;\">\n",
       "      <th></th>\n",
       "      <th>rank</th>\n",
       "    </tr>\n",
       "    <tr>\n",
       "      <th>account</th>\n",
       "      <th></th>\n",
       "    </tr>\n",
       "  </thead>\n",
       "  <tbody>\n",
       "    <tr>\n",
       "      <th>v1rus66</th>\n",
       "      <td>7,237.00</td>\n",
       "    </tr>\n",
       "    <tr>\n",
       "      <th>flieskiller</th>\n",
       "      <td>8,374.00</td>\n",
       "    </tr>\n",
       "    <tr>\n",
       "      <th>Olympus1111</th>\n",
       "      <td>3,269.00</td>\n",
       "    </tr>\n",
       "    <tr>\n",
       "      <th>Sevenzera</th>\n",
       "      <td>11,850.00</td>\n",
       "    </tr>\n",
       "    <tr>\n",
       "      <th>NjNoLoVe_</th>\n",
       "      <td>14,032.00</td>\n",
       "    </tr>\n",
       "  </tbody>\n",
       "</table>\n",
       "</div>"
      ],
      "text/plain": [
       "                 rank\n",
       "account              \n",
       "v1rus66      7,237.00\n",
       "flieskiller  8,374.00\n",
       "Olympus1111  3,269.00\n",
       "Sevenzera   11,850.00\n",
       "NjNoLoVe_   14,032.00"
      ]
     },
     "execution_count": 29,
     "metadata": {},
     "output_type": "execute_result"
    }
   ],
   "source": [
    "# grouping by twitch and get median 'rank' of each non_streaming players\n",
    "df_twt_non_med.sample(5)"
   ]
  },
  {
   "cell_type": "code",
   "execution_count": 30,
   "id": "42f3a706",
   "metadata": {},
   "outputs": [
    {
     "name": "stdout",
     "output_type": "stream",
     "text": [
      "7435.413606574431\n",
      "7939.01946918742\n"
     ]
    }
   ],
   "source": [
    "# get the average of each player's median rank\n",
    "print(df_twt_med['rank'].mean())\n",
    "print(df_twt_non_med['rank'].mean())"
   ]
  },
  {
   "cell_type": "code",
   "execution_count": 31,
   "id": "d79b55f1",
   "metadata": {},
   "outputs": [
    {
     "name": "stdout",
     "output_type": "stream",
     "text": [
      "7395.5\n",
      "8039.5\n"
     ]
    }
   ],
   "source": [
    "# get the median of each player's median rank\n",
    "print(df_twt_med['rank'].median())\n",
    "print(df_twt_non_med['rank'].median())"
   ]
  },
  {
   "cell_type": "markdown",
   "id": "4b7ad9ab",
   "metadata": {},
   "source": [
    "## 2-4. Visualizing each value\n",
    "For convenience, I will call a user who does not stream as a 'normal' user.  \n",
    "\n",
    "(Because we visualize 'rank (sparse information)' not 'count(volume in each level)' so I thought we shouldn't use violin or box plot.)  "
   ]
  },
  {
   "cell_type": "code",
   "execution_count": 32,
   "id": "bdbb49cb",
   "metadata": {},
   "outputs": [
    {
     "name": "stdout",
     "output_type": "stream",
     "text": [
      "[7101.554355828221, 7643.018308952065, 7479.202758592788, 7966.844983149482, 7435.413606574431, 7939.01946918742]\n"
     ]
    }
   ],
   "source": [
    "dset = [df_twt['rank'], df_twt_non['rank'], \n",
    "                   df_twt_mean['rank'], df_twt_non_mean['rank'], \n",
    "                   df_twt_med['rank'], df_twt_non_med['rank']]\n",
    "\n",
    "x = ['Arithmetic mean - All Twitch_user', 'Arithmetic mean - All normal_user', \n",
    "     'Mean of rank average - Twitch_user', 'Mean of rank average - ormal_user', \n",
    "     'Mean of rank median - Twitch_user', 'Mean of rank median - normal_user']\n",
    "\n",
    "y = [x.mean() for x in dset]\n",
    "\n",
    "print(y)"
   ]
  },
  {
   "cell_type": "code",
   "execution_count": 33,
   "id": "a9a5c3fd",
   "metadata": {
    "scrolled": true
   },
   "outputs": [
    {
     "data": {
      "image/png": "[encoded data removed]",
      "text/plain": [
       "<Figure size 288x360 with 1 Axes>"
      ]
     },
     "metadata": {},
     "output_type": "display_data"
    }
   ],
   "source": [
    "# Visualization 1\n",
    "\n",
    "plt.figure(figsize = (4,5))\n",
    "\n",
    "plt.ylabel('Each average value')\n",
    "plt.xlabel('Rank')\n",
    "plt.barh(x, y, height = 0.5, color = 'maroon')\n",
    "plt.xlim(left = 5000, right = 10000)\n",
    "\n",
    "for i, v in enumerate(x):\n",
    "    plt.text(y[i], v, round(y[i],2), fontsize = 12, color = 'saddlebrown',\n",
    "             horizontalalignment = 'left', verticalalignment = 'center')\n",
    "\n",
    "# plt.tight_layout\n",
    "plt.show()"
   ]
  },
  {
   "cell_type": "code",
   "execution_count": 34,
   "id": "72bd2e13",
   "metadata": {},
   "outputs": [
    {
     "data": {
      "image/png": "[encoded data removed]",
      "text/plain": [
       "<Figure size 432x288 with 1 Axes>"
      ]
     },
     "metadata": {},
     "output_type": "display_data"
    }
   ],
   "source": [
    "# Visualization 2\n",
    "\n",
    "# from matplotlib import pyplot as plt\n",
    "# plt.rcParams[\"font.family\"] = 'AppleGothic'\n",
    "# plt.rcParams[\"font.size\"] = 10\n",
    "# plt.rcParams[\"figure.figsize\"] = (6, 4)\n",
    "# plt.rcParams['axes.facecolor'] = 'white'\n",
    "\n",
    "plt.figure(figsize = (6,4))\n",
    "plt.boxplot([df_twt['rank'], df_twt_non['rank'], \n",
    "             df_twt_mean['rank'], df_twt_non_mean['rank'],\n",
    "            df_twt_med['rank'], df_twt_non_med['rank']])  \n",
    "plt.xticks(range(1,7), x, rotation = 90)\n",
    "# plt.rotation(90)\n",
    "plt.show()"
   ]
  },
  {
   "cell_type": "markdown",
   "id": "c6da5a03",
   "metadata": {},
   "source": [
    "## 2-5. Mann Whitney U test: Statistical significance\n",
    "\n",
    "The T-test is a test about a statistical comparison of the means of two independent samples, as you know. But these are rank scales, so it's hard to treat this data as a normal t-test case. (Of course, it's hard to say that the simple process of calculating the mean and median ‘absolutely’ doesn’t have a problem…) So I decided to use Mann Whitney U Test, which is a nonparametric method.\n",
    "\n",
    "*I don't think the statistical significance is not significant for this, especially with little size data. The data size is so little so we can't discuss Gaussian distribution or etc. But I think it's meaningful just to check even if it's not used somewhere.*\n",
    "\n",
    "What I was wondering about was which one I have to use among these to reach a conclusion, `df_twt`, `df_twt_mean`, `df_twt_med`. They have each problem with themselves.\n",
    "\n",
    "1. First, I think the `df_twt` and `df_twt_non` have a critical problem in that there are multiple characters a single user has. It can't be a real answer to the meaning(intention) of question.\n",
    "2. Second, in case of `df_twt_mean`, there is also a problem with the average rank by each player (not one character, but a user). It's also questionable that the average itself represents the user, which makes it easier to conflict with the concept of average because it's a rank, not a score.\n",
    "3. Third, in case of `df_twt_med`, I think the median is not bad because it is ‘real’ value. But there’s also a problem. There is a tendency to add or subtract the existence of other details.\n",
    "\n",
    "After much consideration, I used the second one(**average of each player,** `df_twt_mean`, `df_twt_non_mean`) but, I would be grateful if I can get advice about this. 😚 😚  \n",
    "\n",
    "### 2-5-1. Normality test and equal-variance checking"
   ]
  },
  {
   "cell_type": "code",
   "execution_count": 37,
   "id": "32f038b3",
   "metadata": {},
   "outputs": [
    {
     "name": "stdout",
     "output_type": "stream",
     "text": [
      "=== Normal-test ===\n",
      "NormaltestResult(statistic=15184.917059323941, pvalue=0.0)\n",
      "NormaltestResult(statistic=35616.792932991775, pvalue=0.0)\n",
      "NormaltestResult(statistic=1650.4297634961301, pvalue=0.0)\n",
      "NormaltestResult(statistic=5194.1758451258065, pvalue=0.0)\n",
      "NormaltestResult(statistic=2480.360153393761, pvalue=0.0)\n",
      "NormaltestResult(statistic=6986.082210562436, pvalue=0.0)\n",
      "\n",
      "\n",
      "=== Equal-variance test ===\n",
      "df_twt, df_twt_non :  LeveneResult(statistic=22.271981900489976, pvalue=2.3716901628493167e-06)\n",
      "df_twt_mean, df_twt_non_mean :  LeveneResult(statistic=0.025778844642800065, pvalue=0.8724424761073863)\n",
      "df_twt_med, df_twt_non_med :  LeveneResult(statistic=1.3316344430604279, pvalue=0.24852208704901815)\n"
     ]
    }
   ],
   "source": [
    "dset = [df_twt['rank'], df_twt_non['rank'], \n",
    "       df_twt_mean['rank'], df_twt_non_mean['rank'], \n",
    "       df_twt_med['rank'], df_twt_non_med['rank']]\n",
    "\n",
    "print('=== Normal-test ===')\n",
    "for i in dset:\n",
    "    res1 = scipy.stats.normaltest(i)\n",
    "    print(res1)\n",
    "\n",
    "print('\\n')\n",
    "print('=== Equal-variance test ===')\n",
    "print('df_twt, df_twt_non : ', scipy.stats.levene(dset[0], dset[1]))\n",
    "print('df_twt_mean, df_twt_non_mean : ', scipy.stats.levene(dset[2], dset[3]))\n",
    "print('df_twt_med, df_twt_non_med : ', scipy.stats.levene(dset[4], dset[5]))"
   ]
  },
  {
   "cell_type": "markdown",
   "id": "ef4eed32",
   "metadata": {},
   "source": [
    "### 2-5-2. Mann-Whitney U Test"
   ]
  },
  {
   "cell_type": "code",
   "execution_count": 38,
   "id": "707eedcb",
   "metadata": {},
   "outputs": [
    {
     "data": {
      "text/plain": [
       "MannwhitneyuResult(statistic=328742306.5, pvalue=3.113355095773994e-42)"
      ]
     },
     "execution_count": 38,
     "metadata": {},
     "output_type": "execute_result"
    }
   ],
   "source": [
    "# Just all data divided twitch column\n",
    "scipy.stats.mannwhitneyu(x = dset[0], y = dset[1], alternative = 'two-sided', method = 'auto')"
   ]
  },
  {
   "cell_type": "markdown",
   "id": "d6788bb0",
   "metadata": {},
   "source": [
    "And I addedd the T-test with mean dataset and median dataset, because they are composed by represetative values."
   ]
  },
  {
   "cell_type": "code",
   "execution_count": 39,
   "id": "d6c292c9",
   "metadata": {},
   "outputs": [
    {
     "data": {
      "text/plain": [
       "MannwhitneyuResult(statistic=122721825.5, pvalue=1.0278489248560867e-25)"
      ]
     },
     "execution_count": 39,
     "metadata": {},
     "output_type": "execute_result"
    }
   ],
   "source": [
    "# (when we set the average to a representative value)\n",
    "scipy.stats.mannwhitneyu(x = dset[2], y = dset[3], alternative = 'two-sided', method = 'auto')"
   ]
  },
  {
   "cell_type": "code",
   "execution_count": 40,
   "id": "7b49e734",
   "metadata": {},
   "outputs": [
    {
     "data": {
      "text/plain": [
       "Ttest_indResult(statistic=-10.563785576496528, pvalue=5.294341099747472e-26)"
      ]
     },
     "execution_count": 40,
     "metadata": {},
     "output_type": "execute_result"
    }
   ],
   "source": [
    "scipy.stats.ttest_ind(a = dset[2], b = dset[3], equal_var = False, permutations = 0)"
   ]
  },
  {
   "cell_type": "code",
   "execution_count": 41,
   "id": "a450fc52",
   "metadata": {},
   "outputs": [
    {
     "data": {
      "text/plain": [
       "MannwhitneyuResult(statistic=122663963.5, pvalue=5.213641179682086e-26)"
      ]
     },
     "execution_count": 41,
     "metadata": {},
     "output_type": "execute_result"
    }
   ],
   "source": [
    "# (when we set the median to a representative value)\n",
    "scipy.stats.mannwhitneyu(x = dset[4], y = dset[5], alternative = 'two-sided', method = 'auto')"
   ]
  },
  {
   "cell_type": "code",
   "execution_count": 42,
   "id": "a45820ef",
   "metadata": {},
   "outputs": [
    {
     "data": {
      "text/plain": [
       "Ttest_indResult(statistic=-10.658987259579916, pvalue=1.926325123676089e-26)"
      ]
     },
     "execution_count": 42,
     "metadata": {},
     "output_type": "execute_result"
    }
   ],
   "source": [
    "scipy.stats.ttest_ind(a = dset[4], b = dset[5], equal_var = False, permutations = 0)"
   ]
  },
  {
   "cell_type": "markdown",
   "id": "68846f1e",
   "metadata": {},
   "source": [
    "All p-values are smaller than 0.05, so we can say that 'there's no basis to consider that there are no differences between Twitch streamers and normal players.'.  \n",
    "\n",
    "Interestingly, there is little difference in statistics in each t-test, whether using means or media. I think it is reasonable to say that whatever we use as a representative value is not very effective in this question.  \n"
   ]
  },
  {
   "cell_type": "markdown",
   "id": "7388bcd8",
   "metadata": {},
   "source": [
    "### 2-5-3. Confidence interval \n",
    "I attach the confidence interval together. We can imagine from this, \"What numbers(rank) are mainly distributed in each group\".\n",
    "\n",
    "_code reference: https://jae-eun-ai.tistory.com/48_"
   ]
  },
  {
   "cell_type": "code",
   "execution_count": 43,
   "id": "10f7bc22",
   "metadata": {},
   "outputs": [],
   "source": [
    "from numpy import array, mean\n",
    "from scipy.stats import sem, t\n",
    "def mean_confidence_interval(data, confidence=.95):\n",
    "    a = 1.0 * array(data)\n",
    "    n = len(a)\n",
    "    m,se = mean(a),sem(a)\n",
    "    h = se*t._ppf((1 + confidence) / 2, n-1)\n",
    "    return m, m-h, m+h\n",
    "\n",
    "# dset = [df_twt['rank'], df_twt_non['rank'], \n",
    "#        df_twt_mean['rank'], df_twt_non_mean['rank'], \n",
    "#        df_twt_med['rank'], df_twt_non_med['rank']]\n",
    "\n",
    "llist = []\n",
    "for i in dset:\n",
    "    j = mean_confidence_interval(i)\n",
    "    llist.append(j)"
   ]
  },
  {
   "cell_type": "code",
   "execution_count": 44,
   "id": "631cad47",
   "metadata": {},
   "outputs": [
    {
     "data": {
      "text/html": [
       "<div>\n",
       "<style scoped>\n",
       "    .dataframe tbody tr th:only-of-type {\n",
       "        vertical-align: middle;\n",
       "    }\n",
       "\n",
       "    .dataframe tbody tr th {\n",
       "        vertical-align: top;\n",
       "    }\n",
       "\n",
       "    .dataframe thead th {\n",
       "        text-align: right;\n",
       "    }\n",
       "</style>\n",
       "<table border=\"1\" class=\"dataframe\">\n",
       "  <thead>\n",
       "    <tr style=\"text-align: right;\">\n",
       "      <th></th>\n",
       "      <th>twt</th>\n",
       "      <th>twt_non</th>\n",
       "      <th>twt_mean</th>\n",
       "      <th>twt_non_mean</th>\n",
       "      <th>twt_median</th>\n",
       "      <th>twt_non_median</th>\n",
       "    </tr>\n",
       "  </thead>\n",
       "  <tbody>\n",
       "    <tr>\n",
       "      <th>m</th>\n",
       "      <td>7,101.55</td>\n",
       "      <td>7,643.02</td>\n",
       "      <td>7,479.20</td>\n",
       "      <td>7,966.84</td>\n",
       "      <td>7,435.41</td>\n",
       "      <td>7,939.02</td>\n",
       "    </tr>\n",
       "    <tr>\n",
       "      <th>m-h</th>\n",
       "      <td>7,034.10</td>\n",
       "      <td>7,602.63</td>\n",
       "      <td>7,401.28</td>\n",
       "      <td>7,920.86</td>\n",
       "      <td>7,355.51</td>\n",
       "      <td>7,892.20</td>\n",
       "    </tr>\n",
       "    <tr>\n",
       "      <th>m+h</th>\n",
       "      <td>7,169.01</td>\n",
       "      <td>7,683.41</td>\n",
       "      <td>7,557.13</td>\n",
       "      <td>8,012.83</td>\n",
       "      <td>7,515.32</td>\n",
       "      <td>7,985.84</td>\n",
       "    </tr>\n",
       "  </tbody>\n",
       "</table>\n",
       "</div>"
      ],
      "text/plain": [
       "         twt  twt_non  twt_mean  twt_non_mean  twt_median  twt_non_median\n",
       "m   7,101.55 7,643.02  7,479.20      7,966.84    7,435.41        7,939.02\n",
       "m-h 7,034.10 7,602.63  7,401.28      7,920.86    7,355.51        7,892.20\n",
       "m+h 7,169.01 7,683.41  7,557.13      8,012.83    7,515.32        7,985.84"
      ]
     },
     "execution_count": 44,
     "metadata": {},
     "output_type": "execute_result"
    }
   ],
   "source": [
    "df_ci = pd.DataFrame(data = llist)\n",
    "df_ci = df_ci.T\n",
    "df_ci.columns = ['twt', 'twt_non', 'twt_mean', 'twt_non_mean', 'twt_median', 'twt_non_median']\n",
    "df_ci.index = ['m', 'm-h', 'm+h']\n",
    "df_ci"
   ]
  },
  {
   "cell_type": "code",
   "execution_count": 48,
   "id": "263c987b",
   "metadata": {},
   "outputs": [
    {
     "data": {
      "image/png": "[encoded data removed]",
      "text/plain": [
       "<Figure size 432x288 with 1 Axes>"
      ]
     },
     "metadata": {},
     "output_type": "display_data"
    }
   ],
   "source": [
    "plt.figure(figsize = (6,4))\n",
    "sns.scatterplot(data = df_ci.T, palette = 'rocket')\n",
    "plt.xticks(rotation = 45)\n",
    "plt.gca().invert_yaxis()  # reverse the y axis!\n",
    "plt.show()"
   ]
  },
  {
   "cell_type": "markdown",
   "id": "b7bd7b2b",
   "metadata": {},
   "source": [
    "## 2-6. Conclusion: Answer is \"Well...Yes but...\"\n",
    "\n",
    "*I don't know how to make it better. I think it would be better if I could improve my ability to name 'variables'. XD*\n",
    "\n",
    "The conclusion is 'YES'.\n",
    "We could compare their average rank of them by various methods. There's a difference obviously between the Twitch streamers and the non-streaming players.\n",
    "\n",
    "**But! I want to make sure. If you compare the ability of both streaming and non-streaming ‘rankers’, you can see that the former is a little better, except for the \"ranker\" condition, we will get completely different results. Because it's not a data that can be generalized to the entire user.**\n",
    "\n",
    "So I'd like to say 'no'. Simply say, streaming and skills are not necessary and sufficient conditions. *It's not about the p-value. It must need bigger or more detailed data if we discuss this, I think.)*  \n",
    "\n",
    "### Improvement Direction\n",
    "\n",
    "- (This is the same context we talked about before analyzing this question.) Existing data can define and analyze something new that can index 'ability(or skill)' based on whether `rank` is higher than `challenge` or experience.\n",
    "    \n",
    "    However, since this is ‘character’-specific information, we can discuss at last whether there is a more accurate difference if we find a way to create an indicator with all the accounts they have. (if we do this, we must have identified information with a person and the accounts that he has.)\n",
    "    \n",
    "- Since ‘streaming’ is not necessarily only for users who are good at playing, it would be better to analyze users first by selecting the streamers in the Path Of Exile category within Twitch, for giving an insight to us."
   ]
  },
  {
   "cell_type": "markdown",
   "id": "059bd914",
   "metadata": {},
   "source": [
    "#  X - 3. A case when we were Necromancer\n",
    "---\n",
    "##### Q3. Predict the chance to be in the top 30 in each division, if we are Necromancer. With and without stream.\n",
    "\n",
    "Actually, I don't know exactly what 'stream' means, but I think it would be twitch streaming. So, I define it as all Necromancer characters and Necromancer characters with twitch streaming.  \n",
    "In this case, we can think of the question like this:  \n",
    "    1. simply get the percentage of Necromancer in the top 30 by ladder \n",
    "    2. get the percentage of Necromancers in the top 30 among the same classes by ladder\n",
    "    2. make a model with 'rank', 'class', 'ladder', 'twitch' columns and predict.\n",
    " \n",
    "\n",
    "##### Before the analysis, I should clarify this thing, meaning of each analysis (get numbers). This is very important I think.\n",
    "I thought about these things partially, what we can do with data, how, and the meaning of it, and the flaws.  \n",
    "I used the word 'hypothesis', which means when we use specific methods(values) for solving the problem correctly.  \n",
    "\n",
    "> In `3-1`, I got a percentage between classes in the top 30 characters.  \n",
    "This is just the percentage of classes in the top 30.  \n",
    "It means, we can answer what classes are in the top 30.  \n",
    "When we use this one, we need a hypothesis; we're so good that we can compete with the top 30 characters and out of the top 30 characters are no match for us. It's like a setting of a **competition between classes in the top 30**.  \n",
    "And I think when we use this, it's necessary for comparing the percentage of classes, in the top 30 ranks and around all ranks.  \n",
    "\n",
    "> I think top30 means pilots' league who is really good playing.  \n",
    "So in `3-2-1`, I got a percentage of the top 30 Necromancers among 'all Necromancers'.  \n",
    "This is divided top 30 Necromancers numbers by all Necromancers numbers.  \n",
    "It means, we can answer how many characters are playing best among all Necromancers.  \n",
    "In other words, when the number of characters in each job is the same, you can see how many top rankers there are in each job.\n",
    "And in other classes, I got the same ratio (`3-2-3`).  \n",
    "Because of the reason that each class has a different number of rankers so we can't simply compare like `3-1`. In the case of the question, I think we should compare the case of 'choice of class', rather than just the top 30.  \n",
    "The problem is, that this case needs a hypothesis; **all the classes have the same performance** and all of the pilots are almost equal in ability. (I was sure that everyone felt that this question assumed that all pilots are almost equally good at it.)   \n",
    "Furthermore, it is seriously affected by character numbers who are out of the rank 30.  \n",
    "I thought this method is most appropriate for the question and the probability can be drawn by comparing each percentage of classes.  \n",
    "Thus this method isn't perfect also, for solving the problem.  \n",
    "\n",
    "> In `3-2-2`, I got the percentage of the top 30 Necromancers among 'all characters'.  \n",
    "This is divided top 30 Necromancers numbers by all Necromancers numbers.  \n",
    "It means, we can answer how much Necromancer characters are playing best in all characters.  \n",
    "It seems worth it. But this method allows us to know **the best Necromancer percentages** except for comparison problems.  \n",
    "I think it's not appropriate to solve a problem on the assumption that 'if' we are a necromancer.  \n",
    "It needs a hypothesis; \n",
    " \n",
    " \n",
    "##### Before the steps, check the 'rank' column whether it includes null or not in 30. "
   ]
  },
  {
   "cell_type": "code",
   "execution_count": null,
   "id": "751669c4",
   "metadata": {},
   "outputs": [],
   "source": [
    "# check the rank number in each ladder whether there is a null or not. \n",
    "\n",
    "df[df['rank']<=30].groupby('ladder')['rank'].nunique()"
   ]
  },
  {
   "cell_type": "markdown",
   "id": "c78cc3b2",
   "metadata": {},
   "source": [
    "## 3-1. Let's see what classes in top 30 and thier rate."
   ]
  },
  {
   "cell_type": "code",
   "execution_count": null,
   "id": "ae1b418f",
   "metadata": {
    "scrolled": true
   },
   "outputs": [],
   "source": [
    "# in top 30 classes number \n",
    "\n",
    "df[df['rank'] <=30].pivot_table(columns = 'ladder', index = 'class',\n",
    "                                aggfunc = 'count', fill_value = 0)['id']"
   ]
  },
  {
   "cell_type": "markdown",
   "id": "439d17d8",
   "metadata": {},
   "source": [
    "### Percentage between classes in the top 30 characters"
   ]
  },
  {
   "cell_type": "code",
   "execution_count": null,
   "id": "254976ab",
   "metadata": {
    "scrolled": true
   },
   "outputs": [],
   "source": [
    "# in top 30 classes ratio \n",
    "\n",
    "df[df['rank'] <=30].pivot_table(columns = 'ladder', index = 'class',\n",
    "                                aggfunc = 'count', fill_value = 0)['id'] / 30*100"
   ]
  },
  {
   "cell_type": "markdown",
   "id": "ccfb4cb1",
   "metadata": {},
   "source": [
    "### visualization to pie chart (graph 3-1)"
   ]
  },
  {
   "cell_type": "code",
   "execution_count": null,
   "id": "fffe1a63",
   "metadata": {
    "scrolled": true
   },
   "outputs": [],
   "source": [
    "# make for repeatation for visualization\n",
    "df_30pi = df[df['rank'] <=30].pivot_table(columns = 'ladder', index = 'class',\n",
    "                                aggfunc = 'count', fill_value = 0)['id'] / 30*100\n",
    "# ratio list making : each ladder\n",
    "ratio_list = []\n",
    "for i in list(df_30pi.columns):\n",
    "    ratio = df_30pi[i]\n",
    "    ratio_list.append(ratio)\n",
    "\n",
    "# use ratio and labels to plt code\n",
    "labels = df_30pi.index\n",
    "wedgeprops={'width': 0.7, 'edgecolor': 'w', 'linewidth': 5}\n",
    "fig, ax = plt.subplots(2, 2, squeeze=True, figsize = (12, 12))\n",
    "plt.subplot(2,2,1)\n",
    "plt.pie(ratio_list[0], labels=labels, autopct='%.2f%%', startangle=90, counterclock=False, wedgeprops=wedgeprops, pctdistance=0.9)\n",
    "plt.subplot(2,2,2)\n",
    "plt.pie(ratio_list[1], labels=labels, autopct='%.2f%%', startangle=90, counterclock=False, wedgeprops=wedgeprops, pctdistance=0.9)\n",
    "plt.subplot(2,2,3)\n",
    "plt.pie(ratio_list[2], labels=labels, autopct='%.2f%%', startangle=90, counterclock=False, wedgeprops=wedgeprops, pctdistance=0.9)\n",
    "plt.subplot(2,2,4)\n",
    "plt.pie(ratio_list[3], labels=labels, autopct='%.2f%%', startangle=90, counterclock=False, wedgeprops=wedgeprops, pctdistance=0.9)\n",
    "\n",
    "# set the each pie chart title\n",
    "ax[0, 0].set_title(\"{} mode\".format(list(df_30pi.columns)[0]))\n",
    "ax[0, 1].set_title(\"{} mode\".format(list(df_30pi.columns)[1]))\n",
    "ax[1, 0].set_title(\"{} mode\".format(list(df_30pi.columns)[2]))\n",
    "ax[1, 1].set_title(\"{} mode\".format(list(df_30pi.columns)[3]))\n",
    "fig.tight_layout()\n",
    "plt.axis('equal')\n",
    "plt.show()"
   ]
  },
  {
   "cell_type": "markdown",
   "id": "0efeb73b",
   "metadata": {},
   "source": [
    "This poor chart took a quite long time. I wanted to delete the 0% (don't need information) classes but...\n",
    "\n",
    "Necromancers take 20% in the top 30 except SSF Harbinger HC mode.  \n",
    "In SSF Harbinger HC mode, Necromancers take 36.67% in the top 30. \n"
   ]
  },
  {
   "cell_type": "markdown",
   "id": "80f95c68",
   "metadata": {},
   "source": [
    "## 3-2. not care of stream \n",
    "---\n",
    "\n",
    "### the Necromancers (graph 3-2)"
   ]
  },
  {
   "cell_type": "code",
   "execution_count": null,
   "id": "66eab479",
   "metadata": {},
   "outputs": [],
   "source": [
    "# define\n",
    "\n",
    "df_Nec = df[(df['class'] == 'Necromancer')]\n",
    "df_Nec30 = df_Nec[df_Nec['rank']<=30]"
   ]
  },
  {
   "cell_type": "code",
   "execution_count": null,
   "id": "6b92f0e8",
   "metadata": {},
   "outputs": [],
   "source": [
    "# Necromancers rank boxplot by ladder \n",
    "\n",
    "plt.figure(figsize=(4,6))\n",
    "plt.xticks(rotation=45, fontsize=10)\n",
    "sns.boxplot(data = df_Nec, x = 'ladder', y = 'rank')"
   ]
  },
  {
   "cell_type": "code",
   "execution_count": null,
   "id": "7182feea",
   "metadata": {},
   "outputs": [],
   "source": [
    "# All Necromancers number by ladder\n",
    "\n",
    "df_Nec.groupby('ladder')['id'].count()"
   ]
  },
  {
   "cell_type": "code",
   "execution_count": null,
   "id": "eb4545a9",
   "metadata": {},
   "outputs": [],
   "source": [
    "# Necromancers number Who are in top 30 by ladder\n",
    "\n",
    "df_Nec30.groupby('ladder')['id'].count()"
   ]
  },
  {
   "cell_type": "markdown",
   "id": "c4c34b18",
   "metadata": {},
   "source": [
    "And make sure there is no problem with `df_Nec30`."
   ]
  },
  {
   "cell_type": "code",
   "execution_count": null,
   "id": "8d3659d0",
   "metadata": {},
   "outputs": [],
   "source": [
    "# Necromancers Who are in top 30 by ladder unique values\n",
    "\n",
    "df_Nec30.groupby(by = 'ladder').nunique()"
   ]
  },
  {
   "cell_type": "markdown",
   "id": "4030b2a5",
   "metadata": {},
   "source": [
    "### 3-2-1. percentage of the top 30 Necromancer among 'the all Necromancers'"
   ]
  },
  {
   "cell_type": "code",
   "execution_count": null,
   "id": "2ce8bde0",
   "metadata": {},
   "outputs": [],
   "source": [
    "# Necromancers Who are in top 30 among all Necromancers by ladder\n",
    "\n",
    "df_Nec30.groupby('ladder')['id'].count() / df_Nec.groupby('ladder')['id'].count() * 100"
   ]
  },
  {
   "cell_type": "markdown",
   "id": "90f9256e",
   "metadata": {},
   "source": [
    "### 3-2-2. percentage of the top 30 Necromancer among 'the all characters'"
   ]
  },
  {
   "cell_type": "code",
   "execution_count": null,
   "id": "97751478",
   "metadata": {},
   "outputs": [],
   "source": [
    "# Necromancers who are in top 30 among all characters by ladder\n",
    "\n",
    "df_Nec30.groupby('ladder')['id'].count() / df.groupby('ladder')['id'].count() * 100"
   ]
  },
  {
   "cell_type": "code",
   "execution_count": null,
   "id": "d16906b7",
   "metadata": {},
   "outputs": [],
   "source": [
    "type(df_Nec30.groupby('ladder')['id'].count() / df.groupby('ladder')['id'].count() * 100)"
   ]
  },
  {
   "cell_type": "markdown",
   "id": "cdfe6f29",
   "metadata": {},
   "source": [
    "### 3-2-3 percentage of each class's top 30 characters among each class (graph 3-3)\n",
    "\" classes who are in top 30 among all class-itself by ladder \"\n",
    "\n",
    "If you select a particular class, what is the probability that the particular class will be in the top 30?  \n",
    "I want to get the number of 'the class' in the top 30 and the number of all 'the classes'. (like 3-2-1.)"
   ]
  },
  {
   "cell_type": "code",
   "execution_count": null,
   "id": "2bec473b",
   "metadata": {},
   "outputs": [],
   "source": [
    "# classes who are in top 30 among each classes by ladder\n",
    "# we exceptd the classes what is not in top30\n",
    "\n",
    "classes = list(df[df['rank'] <= 30]['class'].unique())\n",
    "\n",
    "for i in classes:\n",
    "    df_bin = df[df['class'] == i]\n",
    "    df_bin30 = df_bin[df_bin['rank']<=30]\n",
    "    ser = df_bin30.groupby('ladder')['id'].count() / df_bin.groupby('ladder')['id'].count() * 100\n",
    "    print(\"# {} : top 30 ratio(%) in each class by ladder\".format(i))\n",
    "    print(ser)\n",
    "    print(\"==========================================\")\n",
    "    if i == classes[0]:\n",
    "        ser1 = ser\n",
    "    elif i == classes[1]:\n",
    "        ser2 = ser\n",
    "        concatingdf = pd.concat([ser1, ser2], axis=1, ignore_index=True)\n",
    "    else:\n",
    "        ser2 = ser\n",
    "        concatingdf = pd.concat([concatingdf, ser2], axis=1, ignore_index=True)"
   ]
  },
  {
   "cell_type": "code",
   "execution_count": null,
   "id": "62f2c9e8",
   "metadata": {
    "scrolled": true
   },
   "outputs": [],
   "source": [
    "concatingdf.columns"
   ]
  },
  {
   "cell_type": "markdown",
   "id": "3350b9b5",
   "metadata": {},
   "source": [
    "And the `concatingdf`, which was made during running the 'for'repeatation, has each class ratio, so we unbox this to a normal data frame.\n",
    "\n",
    "Then, rename the columns by listing` classes`.   \n",
    "\n",
    "_Of course, there is a more simple solution with rename, I know, but I made the code for `dictionary`.  \n",
    "I have to practice repeating comprehension and usage for later._\n"
   ]
  },
  {
   "cell_type": "code",
   "execution_count": 33,
   "id": "d5f4f867",
   "metadata": {},
   "outputs": [
    {
     "ename": "NameError",
     "evalue": "name 'concatingdf' is not defined",
     "output_type": "error",
     "traceback": [
      "\u001b[0;31m---------------------------------------------------------------------------\u001b[0m",
      "\u001b[0;31mNameError\u001b[0m                                 Traceback (most recent call last)",
      "Input \u001b[0;32mIn [33]\u001b[0m, in \u001b[0;36m<cell line: 2>\u001b[0;34m()\u001b[0m\n\u001b[1;32m      1\u001b[0m \u001b[38;5;66;03m# reset index and rename with a dictionary what we made\u001b[39;00m\n\u001b[0;32m----> 2\u001b[0m \u001b[43mconcatingdf\u001b[49m\u001b[38;5;241m.\u001b[39mreset_index(drop \u001b[38;5;241m=\u001b[39m \u001b[38;5;28;01mFalse\u001b[39;00m, inplace \u001b[38;5;241m=\u001b[39m \u001b[38;5;28;01mTrue\u001b[39;00m)\n\u001b[1;32m      4\u001b[0m dictionary \u001b[38;5;241m=\u001b[39m \u001b[38;5;28mdict\u001b[39m()\n\u001b[1;32m      5\u001b[0m \u001b[38;5;28;01mfor\u001b[39;00m i \u001b[38;5;129;01min\u001b[39;00m \u001b[38;5;28mrange\u001b[39m(\u001b[38;5;241m0\u001b[39m, \u001b[38;5;241m18\u001b[39m):\n",
      "\u001b[0;31mNameError\u001b[0m: name 'concatingdf' is not defined"
     ]
    }
   ],
   "source": [
    "# reset index and rename with a dictionary what we made\n",
    "concatingdf.reset_index(drop = False, inplace = True)\n",
    "\n",
    "dictionary = dict()\n",
    "for i in range(0, 18):\n",
    "    dictionary[i] = classes[i]\n",
    "\n",
    "concatingdf.rename(columns = dictionary, inplace = True)\n",
    "concatingdf"
   ]
  },
  {
   "cell_type": "code",
   "execution_count": null,
   "id": "0887bd63",
   "metadata": {},
   "outputs": [],
   "source": [
    "# and transpose the dataframe to look good.\n",
    "\n",
    "top30cla = concatingdf.transpose()\n",
    "top30cla.reset_index(drop = False, inplace = True)\n",
    "top30cla.rename(columns = top30cla.iloc[0], inplace = True)\n",
    "top30cla = top30cla.drop(top30cla.index[0])\n",
    "top30cla.reset_index(drop = True, inplace = True)\n",
    "top30cla.rename(columns = {'ladder':'class'}, inplace = True)\n",
    "top30cla"
   ]
  },
  {
   "cell_type": "code",
   "execution_count": null,
   "id": "fcb26ccb",
   "metadata": {},
   "outputs": [],
   "source": [
    "# visualization (graph 3-3)\n",
    "# There's some null so I had to each ladder partialy\n",
    "\n",
    "# percentage list making : each ladde\n",
    "Har_top30 = top30cla[top30cla['Harbinger'].isna() == False][['class', 'Harbinger']]\n",
    "HarHC_top30 = top30cla[top30cla['Hardcore Harbinger'].isna() == False][['class', 'Hardcore Harbinger']]\n",
    "SSFHar_top30 = top30cla[top30cla['SSF Harbinger'].isna() == False][['class', 'SSF Harbinger']]\n",
    "SSFHarHC_top30 = top30cla[top30cla['SSF Harbinger HC'].isna() == False][['class', 'SSF Harbinger HC']]\n",
    "\n",
    "# use percentages and labels to plt code\n",
    "# labels = top30cla.index\n",
    "wedgeprops = {'width': 0.7, 'edgecolor': 'w', 'linewidth': 5}\n",
    "fig, ax = plt.subplots(2, 2, squeeze=True, figsize = (12, 12))\n",
    "plt.subplot(2,2,1)\n",
    "plt.pie(Har_top30['Harbinger'], labels=Har_top30['class'], autopct='%.2f%%', startangle=90, counterclock=False, wedgeprops=wedgeprops, pctdistance=0.9)\n",
    "plt.subplot(2,2,2)\n",
    "plt.pie(HarHC_top30['Hardcore Harbinger'], labels=HarHC_top30['class'], autopct='%.2f%%', startangle=90, counterclock=False, wedgeprops=wedgeprops, pctdistance=0.9)\n",
    "plt.subplot(2,2,3)\n",
    "plt.pie(SSFHar_top30['SSF Harbinger'], labels=SSFHar_top30['class'], autopct='%.2f%%', startangle=90, counterclock=False, wedgeprops=wedgeprops, pctdistance=0.9)\n",
    "plt.subplot(2,2,4)\n",
    "plt.pie(SSFHarHC_top30['SSF Harbinger HC'], labels=SSFHarHC_top30['class'], autopct='%.2f%%', startangle=90, counterclock=False, wedgeprops=wedgeprops, pctdistance=0.9)\n",
    "\n",
    "# set the each pie chart title\n",
    "ax[0, 0].set_title(\"{} mode\".format(Har_top30.columns[1]))\n",
    "ax[0, 1].set_title(\"{} mode\".format(HarHC_top30.columns[1]))\n",
    "ax[1, 0].set_title(\"{} mode\".format(SSFHar_top30.columns[1]))\n",
    "ax[1, 1].set_title(\"{} mode\".format(SSFHarHC_top30.columns[1]))\n",
    "fig.tight_layout()\n",
    "plt.axis('equal')\n",
    "plt.show()"
   ]
  },
  {
   "cell_type": "markdown",
   "id": "56d1747a",
   "metadata": {},
   "source": [
    "I thought, then, this can be used for setting values to predict with machine learning."
   ]
  },
  {
   "cell_type": "markdown",
   "id": "a686c8b0",
   "metadata": {},
   "source": [
    "## 3-3. care of stream\n",
    "---\n",
    "### distribution of streaming\n",
    "\n",
    "How much is streaming involved in the rank? We have to think about the relationship between columns. \n",
    "\n",
    "I think we should be noted that broadcasting itself does not affect the rank.  \n",
    "Just because he's on the streaming doesn't mean he's doing better.  \n",
    "In other words, some people just stream, and many people don't broadcast games and just play them.\n",
    "\n",
    "But the questioner wanna know regarding 'streaming' meaning.   \n",
    "Since it is not expected to be directly related to the rank, I will check it with the correlation coefficient.  "
   ]
  },
  {
   "cell_type": "code",
   "execution_count": 34,
   "id": "676805ca",
   "metadata": {},
   "outputs": [],
   "source": [
    "# make a twitch column with streaming.\n",
    "\n",
    "df['stream'] = np.where(df['twitch'].isna(), 0, 1)"
   ]
  },
  {
   "cell_type": "code",
   "execution_count": 35,
   "id": "424b86ef",
   "metadata": {},
   "outputs": [
    {
     "data": {
      "text/html": [
       "<div>\n",
       "<style scoped>\n",
       "    .dataframe tbody tr th:only-of-type {\n",
       "        vertical-align: middle;\n",
       "    }\n",
       "\n",
       "    .dataframe tbody tr th {\n",
       "        vertical-align: top;\n",
       "    }\n",
       "\n",
       "    .dataframe thead th {\n",
       "        text-align: right;\n",
       "    }\n",
       "</style>\n",
       "<table border=\"1\" class=\"dataframe\">\n",
       "  <thead>\n",
       "    <tr style=\"text-align: right;\">\n",
       "      <th></th>\n",
       "      <th>rank</th>\n",
       "      <th>dead</th>\n",
       "      <th>online</th>\n",
       "      <th>level</th>\n",
       "      <th>experience</th>\n",
       "      <th>challenges</th>\n",
       "      <th>stream</th>\n",
       "    </tr>\n",
       "  </thead>\n",
       "  <tbody>\n",
       "    <tr>\n",
       "      <th>rank</th>\n",
       "      <td>1.00</td>\n",
       "      <td>0.04</td>\n",
       "      <td>-0.04</td>\n",
       "      <td>-0.45</td>\n",
       "      <td>-0.43</td>\n",
       "      <td>-0.26</td>\n",
       "      <td>-0.06</td>\n",
       "    </tr>\n",
       "    <tr>\n",
       "      <th>dead</th>\n",
       "      <td>0.04</td>\n",
       "      <td>1.00</td>\n",
       "      <td>-0.09</td>\n",
       "      <td>-0.33</td>\n",
       "      <td>-0.31</td>\n",
       "      <td>-0.21</td>\n",
       "      <td>0.03</td>\n",
       "    </tr>\n",
       "    <tr>\n",
       "      <th>online</th>\n",
       "      <td>-0.04</td>\n",
       "      <td>-0.09</td>\n",
       "      <td>1.00</td>\n",
       "      <td>0.08</td>\n",
       "      <td>0.11</td>\n",
       "      <td>0.06</td>\n",
       "      <td>-0.01</td>\n",
       "    </tr>\n",
       "    <tr>\n",
       "      <th>level</th>\n",
       "      <td>-0.45</td>\n",
       "      <td>-0.33</td>\n",
       "      <td>0.08</td>\n",
       "      <td>1.00</td>\n",
       "      <td>0.92</td>\n",
       "      <td>0.60</td>\n",
       "      <td>0.10</td>\n",
       "    </tr>\n",
       "    <tr>\n",
       "      <th>experience</th>\n",
       "      <td>-0.43</td>\n",
       "      <td>-0.31</td>\n",
       "      <td>0.11</td>\n",
       "      <td>0.92</td>\n",
       "      <td>1.00</td>\n",
       "      <td>0.66</td>\n",
       "      <td>0.11</td>\n",
       "    </tr>\n",
       "    <tr>\n",
       "      <th>challenges</th>\n",
       "      <td>-0.26</td>\n",
       "      <td>-0.21</td>\n",
       "      <td>0.06</td>\n",
       "      <td>0.60</td>\n",
       "      <td>0.66</td>\n",
       "      <td>1.00</td>\n",
       "      <td>0.19</td>\n",
       "    </tr>\n",
       "    <tr>\n",
       "      <th>stream</th>\n",
       "      <td>-0.06</td>\n",
       "      <td>0.03</td>\n",
       "      <td>-0.01</td>\n",
       "      <td>0.10</td>\n",
       "      <td>0.11</td>\n",
       "      <td>0.19</td>\n",
       "      <td>1.00</td>\n",
       "    </tr>\n",
       "  </tbody>\n",
       "</table>\n",
       "</div>"
      ],
      "text/plain": [
       "            rank  dead  online  level  experience  challenges  stream\n",
       "rank        1.00  0.04   -0.04  -0.45       -0.43       -0.26   -0.06\n",
       "dead        0.04  1.00   -0.09  -0.33       -0.31       -0.21    0.03\n",
       "online     -0.04 -0.09    1.00   0.08        0.11        0.06   -0.01\n",
       "level      -0.45 -0.33    0.08   1.00        0.92        0.60    0.10\n",
       "experience -0.43 -0.31    0.11   0.92        1.00        0.66    0.11\n",
       "challenges -0.26 -0.21    0.06   0.60        0.66        1.00    0.19\n",
       "stream     -0.06  0.03   -0.01   0.10        0.11        0.19    1.00"
      ]
     },
     "execution_count": 35,
     "metadata": {},
     "output_type": "execute_result"
    }
   ],
   "source": [
    "# get the correlation\n",
    "\n",
    "df.corr()"
   ]
  },
  {
   "cell_type": "code",
   "execution_count": 36,
   "id": "c4619145",
   "metadata": {},
   "outputs": [
    {
     "data": {
      "text/plain": [
       "<AxesSubplot:>"
      ]
     },
     "execution_count": 36,
     "metadata": {},
     "output_type": "execute_result"
    },
    {
     "data": {
      "image/png": "[encoded data removed]",
      "text/plain": [
       "<Figure size 432x288 with 2 Axes>"
      ]
     },
     "metadata": {},
     "output_type": "display_data"
    }
   ],
   "source": [
    "plt.rcParams[\"figure.figsize\"] = (6, 4)\n",
    "sns.heatmap(df.corr(), annot = True, cmap = \"YlGnBu\", square = True)"
   ]
  },
  {
   "cell_type": "markdown",
   "id": "1d66acba",
   "metadata": {},
   "source": [
    "It doesn't seem to have many relationships with it.  \n",
    "\n",
    "So I get the numbers for the Necromancers, just like the above methods."
   ]
  },
  {
   "cell_type": "markdown",
   "id": "54f190d3",
   "metadata": {},
   "source": [
    "### the Necromancers who is streaming"
   ]
  },
  {
   "cell_type": "code",
   "execution_count": 37,
   "id": "6cc2331f",
   "metadata": {},
   "outputs": [
    {
     "ename": "NameError",
     "evalue": "name 'df_Nec' is not defined",
     "output_type": "error",
     "traceback": [
      "\u001b[0;31m---------------------------------------------------------------------------\u001b[0m",
      "\u001b[0;31mNameError\u001b[0m                                 Traceback (most recent call last)",
      "Input \u001b[0;32mIn [37]\u001b[0m, in \u001b[0;36m<cell line: 3>\u001b[0;34m()\u001b[0m\n\u001b[1;32m      1\u001b[0m \u001b[38;5;66;03m# set dataframes of Necromancers who's twitch column is not null.\u001b[39;00m\n\u001b[0;32m----> 3\u001b[0m df_NecTw \u001b[38;5;241m=\u001b[39m \u001b[43mdf_Nec\u001b[49m[df_Nec[\u001b[38;5;124m'\u001b[39m\u001b[38;5;124mtwitch\u001b[39m\u001b[38;5;124m'\u001b[39m]\u001b[38;5;241m.\u001b[39misnull()\u001b[38;5;241m==\u001b[39m\u001b[38;5;28;01mFalse\u001b[39;00m]\n\u001b[1;32m      4\u001b[0m df_NecTw30 \u001b[38;5;241m=\u001b[39m df_NecTw[df_NecTw[\u001b[38;5;124m'\u001b[39m\u001b[38;5;124mrank\u001b[39m\u001b[38;5;124m'\u001b[39m]\u001b[38;5;241m<\u001b[39m\u001b[38;5;241m=\u001b[39m\u001b[38;5;241m30\u001b[39m]\n",
      "\u001b[0;31mNameError\u001b[0m: name 'df_Nec' is not defined"
     ]
    }
   ],
   "source": [
    "# set dataframes of Necromancers who's twitch column is not null.\n",
    "\n",
    "df_NecTw = df_Nec[df_Nec['twitch'].isnull()==False]\n",
    "df_NecTw30 = df_NecTw[df_NecTw['rank']<=30]"
   ]
  },
  {
   "cell_type": "code",
   "execution_count": null,
   "id": "6cbcd93e",
   "metadata": {},
   "outputs": [],
   "source": [
    "# Necromancers with stream rank boxplot by ladder\n",
    "\n",
    "plt.figure(figsize=(4,6))\n",
    "plt.xticks(rotation=45, fontsize=10)\n",
    "sns.boxplot(data = df_NecTw, x = 'ladder', y = 'rank')"
   ]
  },
  {
   "cell_type": "code",
   "execution_count": null,
   "id": "e2559ce4",
   "metadata": {},
   "outputs": [],
   "source": [
    "# All Necromancers by ladder - with stream\n",
    "\n",
    "df_NecTw.groupby('ladder')['id'].count()"
   ]
  },
  {
   "cell_type": "code",
   "execution_count": null,
   "id": "354f811d",
   "metadata": {},
   "outputs": [],
   "source": [
    "# Necromancers Who are in top 30 by ladder - with stream\n",
    "\n",
    "df_NecTw30.groupby('ladder')['id'].count()"
   ]
  },
  {
   "cell_type": "markdown",
   "id": "f789ee33",
   "metadata": {},
   "source": [
    "### 3-3-1. ratio the top 30 Necromancer(streaming) among 'the all Necromancers'"
   ]
  },
  {
   "cell_type": "code",
   "execution_count": 38,
   "id": "057b3720",
   "metadata": {},
   "outputs": [
    {
     "ename": "NameError",
     "evalue": "name 'df_NecTw30' is not defined",
     "output_type": "error",
     "traceback": [
      "\u001b[0;31m---------------------------------------------------------------------------\u001b[0m",
      "\u001b[0;31mNameError\u001b[0m                                 Traceback (most recent call last)",
      "Input \u001b[0;32mIn [38]\u001b[0m, in \u001b[0;36m<cell line: 3>\u001b[0;34m()\u001b[0m\n\u001b[1;32m      1\u001b[0m \u001b[38;5;66;03m# Streaming Necromancers Who are in top 30 among all Necromancers by ladder\u001b[39;00m\n\u001b[0;32m----> 3\u001b[0m \u001b[43mdf_NecTw30\u001b[49m\u001b[38;5;241m.\u001b[39mgroupby(\u001b[38;5;124m'\u001b[39m\u001b[38;5;124mladder\u001b[39m\u001b[38;5;124m'\u001b[39m)[\u001b[38;5;124m'\u001b[39m\u001b[38;5;124mid\u001b[39m\u001b[38;5;124m'\u001b[39m]\u001b[38;5;241m.\u001b[39mcount() \u001b[38;5;241m/\u001b[39m df_Nec\u001b[38;5;241m.\u001b[39mgroupby(\u001b[38;5;124m'\u001b[39m\u001b[38;5;124mladder\u001b[39m\u001b[38;5;124m'\u001b[39m)[\u001b[38;5;124m'\u001b[39m\u001b[38;5;124mid\u001b[39m\u001b[38;5;124m'\u001b[39m]\u001b[38;5;241m.\u001b[39mcount() \u001b[38;5;241m*\u001b[39m \u001b[38;5;241m100\u001b[39m\n",
      "\u001b[0;31mNameError\u001b[0m: name 'df_NecTw30' is not defined"
     ]
    }
   ],
   "source": [
    "# Streaming Necromancers Who are in top 30 among all Necromancers by ladder\n",
    "\n",
    "df_NecTw30.groupby('ladder')['id'].count() / df_Nec.groupby('ladder')['id'].count() * 100"
   ]
  },
  {
   "cell_type": "markdown",
   "id": "639ed6cd",
   "metadata": {},
   "source": [
    "### 3-3-2. ratio the top 30 Necromancer(streaming) among 'the all Necromancers(streaming)'"
   ]
  },
  {
   "cell_type": "code",
   "execution_count": 39,
   "id": "b5659cb4",
   "metadata": {},
   "outputs": [
    {
     "ename": "NameError",
     "evalue": "name 'df_NecTw30' is not defined",
     "output_type": "error",
     "traceback": [
      "\u001b[0;31m---------------------------------------------------------------------------\u001b[0m",
      "\u001b[0;31mNameError\u001b[0m                                 Traceback (most recent call last)",
      "Input \u001b[0;32mIn [39]\u001b[0m, in \u001b[0;36m<cell line: 3>\u001b[0;34m()\u001b[0m\n\u001b[1;32m      1\u001b[0m \u001b[38;5;66;03m# Streaming Necromancers who are in top 30 among all streaming Necromancers by ladder\u001b[39;00m\n\u001b[0;32m----> 3\u001b[0m \u001b[43mdf_NecTw30\u001b[49m\u001b[38;5;241m.\u001b[39mgroupby(\u001b[38;5;124m'\u001b[39m\u001b[38;5;124mladder\u001b[39m\u001b[38;5;124m'\u001b[39m)[\u001b[38;5;124m'\u001b[39m\u001b[38;5;124mid\u001b[39m\u001b[38;5;124m'\u001b[39m]\u001b[38;5;241m.\u001b[39mcount() \u001b[38;5;241m/\u001b[39m df_NecTw\u001b[38;5;241m.\u001b[39mgroupby(\u001b[38;5;124m'\u001b[39m\u001b[38;5;124mladder\u001b[39m\u001b[38;5;124m'\u001b[39m)[\u001b[38;5;124m'\u001b[39m\u001b[38;5;124mid\u001b[39m\u001b[38;5;124m'\u001b[39m]\u001b[38;5;241m.\u001b[39mcount() \u001b[38;5;241m*\u001b[39m \u001b[38;5;241m100\u001b[39m\n",
      "\u001b[0;31mNameError\u001b[0m: name 'df_NecTw30' is not defined"
     ]
    }
   ],
   "source": [
    "# Streaming Necromancers who are in top 30 among all streaming Necromancers by ladder\n",
    "\n",
    "df_NecTw30.groupby('ladder')['id'].count() / df_NecTw.groupby('ladder')['id'].count() * 100"
   ]
  },
  {
   "cell_type": "markdown",
   "id": "2eebff23",
   "metadata": {},
   "source": [
    "### 3-3-3. ratio the top 30 Necromancer(streaming) among 'the all characters'"
   ]
  },
  {
   "cell_type": "code",
   "execution_count": 40,
   "id": "be826471",
   "metadata": {},
   "outputs": [
    {
     "ename": "NameError",
     "evalue": "name 'df_NecTw30' is not defined",
     "output_type": "error",
     "traceback": [
      "\u001b[0;31m---------------------------------------------------------------------------\u001b[0m",
      "\u001b[0;31mNameError\u001b[0m                                 Traceback (most recent call last)",
      "Input \u001b[0;32mIn [40]\u001b[0m, in \u001b[0;36m<cell line: 3>\u001b[0;34m()\u001b[0m\n\u001b[1;32m      1\u001b[0m \u001b[38;5;66;03m# Streaming Necromancers who are in top 30 among all characters by ladder\u001b[39;00m\n\u001b[0;32m----> 3\u001b[0m \u001b[43mdf_NecTw30\u001b[49m\u001b[38;5;241m.\u001b[39mgroupby(\u001b[38;5;124m'\u001b[39m\u001b[38;5;124mladder\u001b[39m\u001b[38;5;124m'\u001b[39m)[\u001b[38;5;124m'\u001b[39m\u001b[38;5;124mid\u001b[39m\u001b[38;5;124m'\u001b[39m]\u001b[38;5;241m.\u001b[39mcount() \u001b[38;5;241m/\u001b[39m df\u001b[38;5;241m.\u001b[39mgroupby(\u001b[38;5;124m'\u001b[39m\u001b[38;5;124mladder\u001b[39m\u001b[38;5;124m'\u001b[39m)[\u001b[38;5;124m'\u001b[39m\u001b[38;5;124mid\u001b[39m\u001b[38;5;124m'\u001b[39m]\u001b[38;5;241m.\u001b[39mcount() \u001b[38;5;241m*\u001b[39m \u001b[38;5;241m100\u001b[39m\n",
      "\u001b[0;31mNameError\u001b[0m: name 'df_NecTw30' is not defined"
     ]
    }
   ],
   "source": [
    "# Streaming Necromancers who are in top 30 among all characters by ladder\n",
    "\n",
    "df_NecTw30.groupby('ladder')['id'].count() / df.groupby('ladder')['id'].count() * 100"
   ]
  },
  {
   "cell_type": "markdown",
   "id": "dfaade00",
   "metadata": {},
   "source": [
    "### 3-3-4. ratio the top 30 Necromancers(streaming) among 'the all characters(streaming)'"
   ]
  },
  {
   "cell_type": "code",
   "execution_count": 41,
   "id": "bc552f63",
   "metadata": {},
   "outputs": [
    {
     "ename": "NameError",
     "evalue": "name 'df_NecTw30' is not defined",
     "output_type": "error",
     "traceback": [
      "\u001b[0;31m---------------------------------------------------------------------------\u001b[0m",
      "\u001b[0;31mNameError\u001b[0m                                 Traceback (most recent call last)",
      "Input \u001b[0;32mIn [41]\u001b[0m, in \u001b[0;36m<cell line: 3>\u001b[0;34m()\u001b[0m\n\u001b[1;32m      1\u001b[0m \u001b[38;5;66;03m# Streaming Necromancers who are in top 30 among all streaming characters by ladder\u001b[39;00m\n\u001b[0;32m----> 3\u001b[0m \u001b[43mdf_NecTw30\u001b[49m\u001b[38;5;241m.\u001b[39mgroupby(\u001b[38;5;124m'\u001b[39m\u001b[38;5;124mladder\u001b[39m\u001b[38;5;124m'\u001b[39m)[\u001b[38;5;124m'\u001b[39m\u001b[38;5;124mid\u001b[39m\u001b[38;5;124m'\u001b[39m]\u001b[38;5;241m.\u001b[39mcount() \u001b[38;5;241m/\u001b[39m df[df[\u001b[38;5;124m'\u001b[39m\u001b[38;5;124mtwitch\u001b[39m\u001b[38;5;124m'\u001b[39m]\u001b[38;5;241m.\u001b[39misna() \u001b[38;5;241m!=\u001b[39m \u001b[38;5;28;01mFalse\u001b[39;00m]\u001b[38;5;241m.\u001b[39mgroupby(\u001b[38;5;124m'\u001b[39m\u001b[38;5;124mladder\u001b[39m\u001b[38;5;124m'\u001b[39m)[\u001b[38;5;124m'\u001b[39m\u001b[38;5;124mid\u001b[39m\u001b[38;5;124m'\u001b[39m]\u001b[38;5;241m.\u001b[39mcount() \u001b[38;5;241m*\u001b[39m \u001b[38;5;241m100\u001b[39m\n",
      "\u001b[0;31mNameError\u001b[0m: name 'df_NecTw30' is not defined"
     ]
    }
   ],
   "source": [
    "# Streaming Necromancers who are in top 30 among all streaming characters by ladder\n",
    "\n",
    "df_NecTw30.groupby('ladder')['id'].count() / df[df['twitch'].isna() != False].groupby('ladder')['id'].count() * 100"
   ]
  },
  {
   "cell_type": "code",
   "execution_count": null,
   "id": "ae8779fb",
   "metadata": {},
   "outputs": [],
   "source": []
  },
  {
   "cell_type": "code",
   "execution_count": null,
   "id": "1e2bbce2",
   "metadata": {},
   "outputs": [],
   "source": []
  },
  {
   "cell_type": "markdown",
   "id": "9bfc50bd",
   "metadata": {},
   "source": [
    "세 가지로 나누어 총 8가지로 보려고 한다. 물론 이 여부를 더미 변수 처리 해서 머신러닝을 돌릴 수도 있을 것 같긴 하다.\n",
    "\n",
    "1. Tw 하는 혹은 안하는  \n",
    "2. 전체 혹은 전체 NEC 중  \n",
    "3. Tw 하는 혹은 안하는 (top 30인 NEC)\n",
    "\n",
    "나눌 것."
   ]
  },
  {
   "cell_type": "markdown",
   "id": "65180847",
   "metadata": {},
   "source": [
    "### 3-3-5 ratio the top 30 of each streaming class among each class \n",
    "\" streaming classes who are in top 30 among all class-itself by ladder \"\n"
   ]
  },
  {
   "cell_type": "code",
   "execution_count": null,
   "id": "cb952e90",
   "metadata": {},
   "outputs": [],
   "source": []
  },
  {
   "cell_type": "code",
   "execution_count": null,
   "id": "684c3639",
   "metadata": {},
   "outputs": [],
   "source": []
  },
  {
   "cell_type": "code",
   "execution_count": null,
   "id": "797a451d",
   "metadata": {},
   "outputs": [],
   "source": []
  }
 ],
 "metadata": {
  "kernelspec": {
   "display_name": "Python 3 (ipykernel)",
   "language": "python",
   "name": "python3"
  },
  "language_info": {
   "codemirror_mode": {
    "name": "ipython",
    "version": 3
   },
   "file_extension": ".py",
   "mimetype": "text/x-python",
   "name": "python",
   "nbconvert_exporter": "python",
   "pygments_lexer": "ipython3",
   "version": "3.8.5"
  },
  "latex_envs": {
   "LaTeX_envs_menu_present": true,
   "autoclose": true,
   "autocomplete": true,
   "bibliofile": "biblio.bib",
   "cite_by": "apalike",
   "current_citInitial": 1,
   "eqLabelWithNumbers": true,
   "eqNumInitial": 1,
   "hotkeys": {
    "equation": "Ctrl-E",
    "itemize": "Ctrl-I"
   },
   "labels_anchors": false,
   "latex_user_defs": false,
   "report_style_numbering": false,
   "user_envs_cfg": false
  },
  "toc": {
   "base_numbering": 1,
   "nav_menu": {},
   "number_sections": true,
   "sideBar": true,
   "skip_h1_title": false,
   "title_cell": "Table of Contents",
   "title_sidebar": "Contents",
   "toc_cell": false,
   "toc_position": {
    "height": "746.25px",
    "left": "22px",
    "top": "271.092px",
    "width": "360px"
   },
   "toc_section_display": true,
   "toc_window_display": false
  }
 },
 "nbformat": 4,
 "nbformat_minor": 5
}

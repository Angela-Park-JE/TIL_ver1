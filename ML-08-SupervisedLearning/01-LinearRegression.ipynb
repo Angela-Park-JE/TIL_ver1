{
 "cells": [
  {
   "cell_type": "markdown",
   "id": "dee0e18b",
   "metadata": {},
   "source": [
    "# 8.4.5 선형회귀 분석 실습\n",
    "\n",
    "##### 보스턴 집값 데이터 셋을 이용하여 집값을 예측하는 모형을 만들어본다.\n",
    "\n",
    "##### **릿지 회귀 분석**, **라쏘 회귀 분석**, **엘라스틱 넷**을 사용한 결과도 비교한다.\n",
    "---\n",
    "\n"
   ]
  },
  {
   "cell_type": "markdown",
   "id": "29cf1d3d",
   "metadata": {},
   "source": [
    "# Dataset import\n",
    "## 데이터 불러오기"
   ]
  },
  {
   "cell_type": "code",
   "execution_count": 2,
   "id": "1e24e338",
   "metadata": {},
   "outputs": [],
   "source": [
    "import pandas as pd\n",
    "import numpy as np"
   ]
  },
  {
   "cell_type": "code",
   "execution_count": 5,
   "id": "78e3ab2c",
   "metadata": {},
   "outputs": [],
   "source": [
    "# pandas, numpy 불러오지 않고 쓰면 긴 메세지가 뜨는 것을 확인할 수 있었다.\n",
    "\n",
    "from sklearn import datasets\n",
    "raw_boston = datasets.load_boston()"
   ]
  },
  {
   "cell_type": "code",
   "execution_count": 6,
   "id": "1fee972a",
   "metadata": {},
   "outputs": [
    {
     "data": {
      "text/plain": [
       "array(['CRIM', 'ZN', 'INDUS', 'CHAS', 'NOX', 'RM', 'AGE', 'DIS', 'RAD',\n",
       "       'TAX', 'PTRATIO', 'B', 'LSTAT'], dtype='<U7')"
      ]
     },
     "execution_count": 6,
     "metadata": {},
     "output_type": "execute_result"
    }
   ],
   "source": [
    "# 데이터 셋 내 피처 살펴보기\n",
    "raw_boston.feature_names"
   ]
  },
  {
   "cell_type": "markdown",
   "id": "53e0dae9",
   "metadata": {},
   "source": [
    "# 피처, 타깃 데이터 지정"
   ]
  },
  {
   "cell_type": "code",
   "execution_count": 9,
   "id": "e76b530f",
   "metadata": {},
   "outputs": [],
   "source": [
    "X = raw_boston.data\n",
    "y = raw_boston.target"
   ]
  },
  {
   "cell_type": "markdown",
   "id": "edf9b548",
   "metadata": {},
   "source": [
    "## 트레이닝, 테스트 데이터 분할"
   ]
  },
  {
   "cell_type": "code",
   "execution_count": 13,
   "id": "5b5db403",
   "metadata": {},
   "outputs": [],
   "source": [
    "from sklearn.model_selection import train_test_split\n",
    "X_tn, X_te, y_tn, y_te = train_test_split(X, y, random_state = 1)"
   ]
  },
  {
   "cell_type": "markdown",
   "id": "614060f5",
   "metadata": {},
   "source": [
    "## 데이터 표준화"
   ]
  },
  {
   "cell_type": "code",
   "execution_count": 15,
   "id": "226e6810",
   "metadata": {},
   "outputs": [],
   "source": [
    "from sklearn.preprocessing import StandardScaler\n",
    "std_scale = StandardScaler()\n",
    "std_scale.fit(X_tn)                   # X 트레이닝 데이터 기준으로 std scaler fitting\n",
    "X_tn_std = std_scale.transform(X_tn)\n",
    "X_te_std = std_scale.transform(X_te)"
   ]
  },
  {
   "cell_type": "markdown",
   "id": "4ba1dadc",
   "metadata": {},
   "source": [
    "# 선형 회귀 분석 모델\n",
    "\n",
    "먼저 선형 회귀 모델을 만들어 예측해보도록 한다.\n",
    "\n",
    "## 데이터 학습"
   ]
  },
  {
   "cell_type": "code",
   "execution_count": 16,
   "id": "afdb5df3",
   "metadata": {},
   "outputs": [
    {
     "data": {
      "text/plain": [
       "LinearRegression()"
      ]
     },
     "execution_count": 16,
     "metadata": {},
     "output_type": "execute_result"
    }
   ],
   "source": [
    "from sklearn.linear_model import LinearRegression\n",
    "clf_lr = LinearRegression()    # 사용할 모델 이름 classifier _ linear regression\n",
    "clf_lr.fit(X_tn_std, y_tn)     # 피팅"
   ]
  },
  {
   "cell_type": "markdown",
   "id": "0b7370ad",
   "metadata": {},
   "source": [
    "## 선형 회귀 모델의 계수, 상수항 확인\n",
    "\n",
    "선형회귀는 $ y = wx +b $ 형태로 볼 수 있었다!\n",
    "\n",
    "모형 적합 후 coef_ method를 활용하여 추정된 회귀 계수(w)를 확인해 볼 수 있다.\n",
    "\n",
    "또한 intercept_ method를 활용하여 추정된 상수항($b$)을 확인해 볼 수 있다."
   ]
  },
  {
   "cell_type": "code",
   "execution_count": 17,
   "id": "000665fc",
   "metadata": {},
   "outputs": [
    {
     "name": "stdout",
     "output_type": "stream",
     "text": [
      "[-1.07145146  1.34036243  0.26298069  0.66554537 -2.49842551  1.97524314\n",
      "  0.19516605 -3.14274974  2.66736136 -1.80685572 -2.13034748  0.56172933\n",
      " -4.03223518]\n"
     ]
    }
   ],
   "source": [
    "# 회귀 계수 확인\n",
    "\n",
    "print(clf_lr.coef_)"
   ]
  },
  {
   "cell_type": "code",
   "execution_count": 18,
   "id": "3fc2f9d4",
   "metadata": {},
   "outputs": [
    {
     "name": "stdout",
     "output_type": "stream",
     "text": [
      "22.344591029023768\n"
     ]
    }
   ],
   "source": [
    "# 상수항\n",
    "\n",
    "print(clf_lr.intercept_)"
   ]
  },
  {
   "cell_type": "markdown",
   "id": "ce3c40db",
   "metadata": {},
   "source": [
    "# L2제약식을 적용한 릿지 회귀 분석 모델\n",
    "\n",
    "기본 선형 회귀 분석에 L2 제약식을 적용한 **릿지 회귀 분석**을 실습해보자.\n",
    "\n",
    "## 데이터 학습"
   ]
  },
  {
   "cell_type": "code",
   "execution_count": 19,
   "id": "b789d427",
   "metadata": {},
   "outputs": [
    {
     "data": {
      "text/plain": [
       "Ridge(alpha=1)"
      ]
     },
     "execution_count": 19,
     "metadata": {},
     "output_type": "execute_result"
    }
   ],
   "source": [
    "from sklearn.linear_model import Ridge    # Ridge Regression\n",
    "clf_ridge = Ridge(alpha = 1)              # 기본은 1, 반드시 양수여야하고 값이 클 수록 강한 제약식.\n",
    "clf_ridge.fit(X_tn_std, y_tn)"
   ]
  },
  {
   "cell_type": "markdown",
   "id": "da703ac5",
   "metadata": {},
   "source": [
    "## 릿지 회귀 모델의 계수, 상수항 확인"
   ]
  },
  {
   "cell_type": "code",
   "execution_count": 20,
   "id": "534b782b",
   "metadata": {},
   "outputs": [
    {
     "name": "stdout",
     "output_type": "stream",
     "text": [
      "[-1.05933451  1.31050717  0.23022789  0.66955241 -2.45607567  1.99086611\n",
      "  0.18119169 -3.09919804  2.56480813 -1.71116799 -2.12002592  0.56264409\n",
      " -4.00942448]\n"
     ]
    }
   ],
   "source": [
    "# 회귀 계수 확인\n",
    "\n",
    "print(clf_ridge.coef_)"
   ]
  },
  {
   "cell_type": "code",
   "execution_count": 21,
   "id": "9fcd2dd2",
   "metadata": {},
   "outputs": [
    {
     "name": "stdout",
     "output_type": "stream",
     "text": [
      "22.344591029023768\n"
     ]
    }
   ],
   "source": [
    "# 상수항\n",
    "\n",
    "print(clf_ridge.intercept_)"
   ]
  },
  {
   "cell_type": "markdown",
   "id": "08fc1a3d",
   "metadata": {},
   "source": [
    "신기하게도 거의 비슷한따 상수항은 인간 입장에서는 일치한다고 봐도 무방할 정도이다."
   ]
  },
  {
   "cell_type": "markdown",
   "id": "a699bcd8",
   "metadata": {},
   "source": [
    "# L1제약식을 적용한 라쏘 회귀 분석 모델\n",
    "\n",
    "이번엔 기본 선형 회귀 분석에 L1제약식을 적용한 **라쏘 회귀 분석**을 실습해보자.\n",
    "\n",
    "## 데이터 학습"
   ]
  },
  {
   "cell_type": "code",
   "execution_count": 22,
   "id": "daf1dc97",
   "metadata": {},
   "outputs": [
    {
     "data": {
      "text/plain": [
       "Lasso(alpha=0.01)"
      ]
     },
     "execution_count": 22,
     "metadata": {},
     "output_type": "execute_result"
    }
   ],
   "source": [
    "from sklearn.linear_model import Lasso    # Lasso Regression\n",
    "clf_lasso = Lasso(alpha = 0.01)           # 기본은 1, 릿지와 마찬가지로 제약의 정도를 나타냄\n",
    "clf_lasso.fit(X_tn_std, y_tn)"
   ]
  },
  {
   "cell_type": "markdown",
   "id": "cb049b30",
   "metadata": {},
   "source": [
    "## 라쏘 회귀 모델의 계수, 상수항 확인"
   ]
  },
  {
   "cell_type": "code",
   "execution_count": 23,
   "id": "60b83e6b",
   "metadata": {},
   "outputs": [
    {
     "name": "stdout",
     "output_type": "stream",
     "text": [
      "[-1.04326518  1.27752711  0.1674367   0.66758228 -2.41559964  1.99244179\n",
      "  0.14733958 -3.09473711  2.46431135 -1.60552274 -2.11046422  0.55200229\n",
      " -4.00809905]\n"
     ]
    }
   ],
   "source": [
    "# 계수 확인\n",
    "\n",
    "print(clf_lasso.coef_)"
   ]
  },
  {
   "cell_type": "code",
   "execution_count": 25,
   "id": "534c8c4f",
   "metadata": {},
   "outputs": [
    {
     "name": "stdout",
     "output_type": "stream",
     "text": [
      "22.344591029023768\n"
     ]
    }
   ],
   "source": [
    "# 상수항 확인\n",
    "\n",
    "print(clf_lasso.intercept_)"
   ]
  },
  {
   "cell_type": "markdown",
   "id": "c4f58bc9",
   "metadata": {},
   "source": [
    "계수는 조금씩 차이가 나지만 상수항은 같게 나왔다."
   ]
  },
  {
   "cell_type": "markdown",
   "id": "665fc057",
   "metadata": {},
   "source": [
    "# ElasticNet 모델\n",
    "\n",
    "이번에는 엘라스틱 넷을 사용해보도록 한다.\n",
    "\n",
    "## 데이터 학습"
   ]
  },
  {
   "cell_type": "code",
   "execution_count": 30,
   "id": "96d23fc5",
   "metadata": {},
   "outputs": [
    {
     "data": {
      "text/plain": [
       "ElasticNet(alpha=0.01, l1_ratio=0.01)"
      ]
     },
     "execution_count": 30,
     "metadata": {},
     "output_type": "execute_result"
    }
   ],
   "source": [
    "from sklearn.linear_model import ElasticNet\n",
    "clf_elastic = ElasticNet(alpha = 0.01, l1_ratio = 0.01) # alpha는 L1제약식의 크기와 L2제약식의 크기를 합한 전체 제약식의 크기\n",
    "                                                        # l1_ratio는 전체 제약의 크기인 alpha 값에서 L1제약이 차지하는 비율을 의미\n",
    "                                                        # l1_ratio=0이면 L1제약없이 L2제약만 적용되는 릿지 회귀분석을 의미\n",
    "clf_elastic.fit(X_tn_std, y_tn)"
   ]
  },
  {
   "cell_type": "markdown",
   "id": "1ddb5848",
   "metadata": {},
   "source": [
    "## 엘라스틱넷 계수, 상수항 확인"
   ]
  },
  {
   "cell_type": "code",
   "execution_count": 31,
   "id": "074bf9cf",
   "metadata": {},
   "outputs": [
    {
     "name": "stdout",
     "output_type": "stream",
     "text": [
      "[-1.02916603  1.23681955  0.15236504  0.67859622 -2.34646781  2.02965524\n",
      "  0.14575132 -2.98592423  2.32013379 -1.48829485 -2.09271972  0.56506801\n",
      " -3.9495281 ]\n"
     ]
    }
   ],
   "source": [
    "# 계수 확인\n",
    "\n",
    "print(clf_elastic.coef_)"
   ]
  },
  {
   "cell_type": "code",
   "execution_count": 32,
   "id": "1ec0e6fb",
   "metadata": {},
   "outputs": [
    {
     "name": "stdout",
     "output_type": "stream",
     "text": [
      "22.344591029023768\n"
     ]
    }
   ],
   "source": [
    "# 상수항 확인\n",
    "\n",
    "print(clf_elastic.intercept_)"
   ]
  },
  {
   "cell_type": "markdown",
   "id": "8a1933f2",
   "metadata": {},
   "source": [
    "# 데이터 예측\n",
    "만들어본 기본 선형회귀, 릿지 회귀, 라쏘 회귀, 엘라스틱넷 회귀 모델로 데이터 predict를 진행해본다.\n",
    "\n",
    "## 데이터 예측"
   ]
  },
  {
   "cell_type": "code",
   "execution_count": 34,
   "id": "c84e9e5d",
   "metadata": {},
   "outputs": [],
   "source": [
    "pred_lr = clf_lr.predict(X_te_std)\n",
    "pred_ridge = clf_ridge.predict(X_te_std)\n",
    "pred_lasso = clf_lasso.predict(X_te_std)\n",
    "pred_elastic = clf_elastic.predict(X_te_std)"
   ]
  },
  {
   "cell_type": "markdown",
   "id": "55dedd10",
   "metadata": {},
   "source": [
    "## 모형평가 :  R제곱값\n",
    "\n",
    "R제곱값으로 각 모형들을 평가해본다. 0과 1사이값을 가지며, 높을수록 좋은 성능을 의미한다."
   ]
  },
  {
   "cell_type": "code",
   "execution_count": 36,
   "id": "98c627d8",
   "metadata": {},
   "outputs": [
    {
     "name": "stdout",
     "output_type": "stream",
     "text": [
      "Linear regression:  0.7789410172622859\n",
      "Ridge regression:  0.7789704562726603\n",
      "Lasso regression:  0.7787621490259895\n",
      "ElasticNet regression:  0.7787876079239252\n"
     ]
    }
   ],
   "source": [
    "# import library\n",
    "from sklearn.metrics import r2_score as r2\n",
    "\n",
    "# each model test\n",
    "print(\"Linear regression: \", r2(y_te, pred_lr))\n",
    "print(\"Ridge regression: \", r2(y_te, pred_ridge))\n",
    "print(\"Lasso regression: \", r2(y_te, pred_lasso))\n",
    "print(\"ElasticNet regression: \", r2(y_te, pred_elastic))"
   ]
  },
  {
   "cell_type": "markdown",
   "id": "73de5f21",
   "metadata": {},
   "source": [
    "R제곱값에서는 근소한 차이로 릿지 회귀 모형이 좋은 성능을 보인 것으로 나왔으나, 정말 큰 차이가 나지 않는다.\n",
    "\n",
    "## 모형평가 : MSE(mean squared error! 오차 제곱 합의 평균)\n",
    "\n",
    "이번에는 mse로 평가해보도록 한다. **'오차'**의 제곱의 합의 평균이므로 작을 수록 좋은 성능을 의미한다."
   ]
  }
 ],
 "metadata": {
  "kernelspec": {
   "display_name": "Python 3 (ipykernel)",
   "language": "python",
   "name": "python3"
  },
  "language_info": {
   "codemirror_mode": {
    "name": "ipython",
    "version": 3
   },
   "file_extension": ".py",
   "mimetype": "text/x-python",
   "name": "python",
   "nbconvert_exporter": "python",
   "pygments_lexer": "ipython3",
   "version": "3.8.5"
  },
  "toc": {
   "base_numbering": 1,
   "nav_menu": {},
   "number_sections": true,
   "sideBar": true,
   "skip_h1_title": false,
   "title_cell": "Table of Contents",
   "title_sidebar": "Contents",
   "toc_cell": false,
   "toc_position": {
    "height": "calc(100% - 180px)",
    "left": "10px",
    "top": "150px",
    "width": "384px"
   },
   "toc_section_display": true,
   "toc_window_display": true
  }
 },
 "nbformat": 4,
 "nbformat_minor": 5
}

{
 "cells": [
  {
   "cell_type": "markdown",
   "id": "dee0e18b",
   "metadata": {},
   "source": [
    "# 8.4.5 선형회귀 분석 실습\n",
    "\n",
    "##### 보스턴 집값 데이터 셋을 이용하여 집값을 예측하는 모형을 만들어본다.\n",
    "\n",
    "##### **릿지 회귀 분석**, **라쏘 회귀 분석**, **엘라스틱 넷**을 사용한 결과도 비교한다.\n",
    "---\n",
    "\n"
   ]
  },
  {
   "cell_type": "markdown",
   "id": "29cf1d3d",
   "metadata": {},
   "source": [
    "# Dataset import\n",
    "## 데이터 불러오기"
   ]
  },
  {
   "cell_type": "code",
   "execution_count": 2,
   "id": "393ce3e9",
   "metadata": {},
   "outputs": [],
   "source": [
    "import pandas as pd\n",
    "import numpy as np"
   ]
  },
  {
   "cell_type": "code",
   "execution_count": 5,
   "id": "78e3ab2c",
   "metadata": {},
   "outputs": [],
   "source": [
    "# pandas, numpy 불러오지 않고 쓰면 긴 메세지가 뜨는 것을 확인할 수 있었다.\n",
    "\n",
    "from sklearn import datasets\n",
    "raw_boston = datasets.load_boston()"
   ]
  },
  {
   "cell_type": "code",
   "execution_count": 6,
   "id": "1fee972a",
   "metadata": {},
   "outputs": [
    {
     "data": {
      "text/plain": [
       "array(['CRIM', 'ZN', 'INDUS', 'CHAS', 'NOX', 'RM', 'AGE', 'DIS', 'RAD',\n",
       "       'TAX', 'PTRATIO', 'B', 'LSTAT'], dtype='<U7')"
      ]
     },
     "execution_count": 6,
     "metadata": {},
     "output_type": "execute_result"
    }
   ],
   "source": [
    "# 데이터 셋 내 피처 살펴보기\n",
    "raw_boston.feature_names"
   ]
  },
  {
   "cell_type": "markdown",
   "id": "53e0dae9",
   "metadata": {},
   "source": [
    "# 피처, 타깃 데이터 지정"
   ]
  },
  {
   "cell_type": "code",
   "execution_count": 9,
   "id": "e76b530f",
   "metadata": {},
   "outputs": [],
   "source": [
    "X = raw_boston.data\n",
    "y = raw_boston.target"
   ]
  },
  {
   "cell_type": "markdown",
   "id": "65d631e3",
   "metadata": {},
   "source": [
    "## 트레이닝, 테스트 데이터 분할"
   ]
  },
  {
   "cell_type": "code",
   "execution_count": 13,
   "id": "d674bf94",
   "metadata": {},
   "outputs": [],
   "source": [
    "from sklearn.model_selection import train_test_split\n",
    "X_tn, X_te, y_tn, y_te = train_test_split(X, y, random_state = 1)"
   ]
  },
  {
   "cell_type": "markdown",
   "id": "d080bc7a",
   "metadata": {},
   "source": [
    "## 데이터 표준화"
   ]
  },
  {
   "cell_type": "code",
   "execution_count": 15,
   "id": "f9edad99",
   "metadata": {},
   "outputs": [],
   "source": [
    "from sklearn.preprocessing import StandardScaler\n",
    "std_scale = StandardScaler()\n",
    "std_scale.fit(X_tn)                   # X 트레이닝 데이터 기준으로 std scaler fitting\n",
    "X_tn_std = std_scale.transform(X_tn)\n",
    "X_te_std = std_scale.transform(X_te)"
   ]
  },
  {
   "cell_type": "markdown",
   "id": "b601f993",
   "metadata": {},
   "source": [
    "# 선형 회귀 분석 모델\n",
    "\n",
    "먼저 선형 회귀 모델을 만들어 예측해보도록 한다.\n",
    "\n",
    "## 데이터 학습"
   ]
  },
  {
   "cell_type": "code",
   "execution_count": 16,
   "id": "5ab13de7",
   "metadata": {},
   "outputs": [
    {
     "data": {
      "text/plain": [
       "LinearRegression()"
      ]
     },
     "execution_count": 16,
     "metadata": {},
     "output_type": "execute_result"
    }
   ],
   "source": [
    "from sklearn.linear_model import LinearRegression\n",
    "clf_lr = LinearRegression()    # 사용할 모델 이름 classifier _ linear regression\n",
    "clf_lr.fit(X_tn_std, y_tn)     # 피팅"
   ]
  },
  {
   "cell_type": "markdown",
   "id": "2b79e6ee",
   "metadata": {},
   "source": [
    "## 선형 회귀 모델의 계수, 상수항 확인\n",
    "\n",
    "선형회귀는 $ y = wx +b $ 형태로 볼 수 있었다!\n",
    "\n",
    "모형 적합 후 coef_ method를 활용하여 추정된 회귀 계수(w)를 확인해 볼 수 있다.\n",
    "\n",
    "또한 intercept_ method를 활용하여 추정된 상수항($b$)을 확인해 볼 수 있다. (intercept라니 이름 참 잘지은 것 같다.)"
   ]
  },
  {
   "cell_type": "code",
   "execution_count": 17,
   "id": "7b2f6038",
   "metadata": {},
   "outputs": [
    {
     "name": "stdout",
     "output_type": "stream",
     "text": [
      "[-1.07145146  1.34036243  0.26298069  0.66554537 -2.49842551  1.97524314\n",
      "  0.19516605 -3.14274974  2.66736136 -1.80685572 -2.13034748  0.56172933\n",
      " -4.03223518]\n"
     ]
    }
   ],
   "source": [
    "# 회귀 계수 확인\n",
    "\n",
    "print(clf_lr.coef_)"
   ]
  },
  {
   "cell_type": "code",
   "execution_count": 18,
   "id": "43752a1d",
   "metadata": {},
   "outputs": [
    {
     "name": "stdout",
     "output_type": "stream",
     "text": [
      "22.344591029023768\n"
     ]
    }
   ],
   "source": [
    "# 상수항\n",
    "\n",
    "print(clf_lr.intercept_)"
   ]
  },
  {
   "cell_type": "markdown",
   "id": "6fe43cf6",
   "metadata": {},
   "source": [
    "# L2제약식을 적용한 릿지 회귀 분석 모델\n",
    "\n",
    "기본 선형 회귀 분석에 L2 제약식을 적용한 **릿지 회귀 분석**을 실습해보자.\n",
    "\n",
    "## 데이터 학습"
   ]
  },
  {
   "cell_type": "code",
   "execution_count": 19,
   "id": "96c3b49e",
   "metadata": {},
   "outputs": [
    {
     "data": {
      "text/plain": [
       "Ridge(alpha=1)"
      ]
     },
     "execution_count": 19,
     "metadata": {},
     "output_type": "execute_result"
    }
   ],
   "source": [
    "from sklearn.linear_model import Ridge    # Ridge Regression\n",
    "clf_ridge = Ridge(alpha = 1)              # 기본은 1, 반드시 양수여야하고 값이 클 수록 강한 제약식.\n",
    "clf_ridge.fit(X_tn_std, y_tn)"
   ]
  },
  {
   "cell_type": "markdown",
   "id": "47521bc5",
   "metadata": {},
   "source": [
    "## 릿지 회귀 모델의 계수, 상수항 확인"
   ]
  },
  {
   "cell_type": "code",
   "execution_count": 20,
   "id": "926ad46a",
   "metadata": {},
   "outputs": [
    {
     "name": "stdout",
     "output_type": "stream",
     "text": [
      "[-1.05933451  1.31050717  0.23022789  0.66955241 -2.45607567  1.99086611\n",
      "  0.18119169 -3.09919804  2.56480813 -1.71116799 -2.12002592  0.56264409\n",
      " -4.00942448]\n"
     ]
    }
   ],
   "source": [
    "# 회귀 계수 확인\n",
    "\n",
    "print(clf_ridge.coef_)"
   ]
  },
  {
   "cell_type": "code",
   "execution_count": 21,
   "id": "b7bc6bc4",
   "metadata": {},
   "outputs": [
    {
     "name": "stdout",
     "output_type": "stream",
     "text": [
      "22.344591029023768\n"
     ]
    }
   ],
   "source": [
    "# 상수항\n",
    "\n",
    "print(clf_ridge.intercept_)"
   ]
  },
  {
   "cell_type": "markdown",
   "id": "cccae607",
   "metadata": {},
   "source": [
    "신기하게도 거의 비슷한따 상수항은 인간 입장에서는 일치한다고 봐도 무방할 정도이다."
   ]
  },
  {
   "cell_type": "markdown",
   "id": "650a64f8",
   "metadata": {},
   "source": [
    "# L1제약식을 적용한 라쏘 회귀 분석 모델\n",
    "\n",
    "이번엔 기본 선형 회귀 분석에 L1제약식을 적용한 **라쏘 회귀 분석**을 실습해보자.\n",
    "\n",
    "## 데이터 학습"
   ]
  },
  {
   "cell_type": "code",
   "execution_count": 22,
   "id": "900df547",
   "metadata": {},
   "outputs": [
    {
     "data": {
      "text/plain": [
       "Lasso(alpha=0.01)"
      ]
     },
     "execution_count": 22,
     "metadata": {},
     "output_type": "execute_result"
    }
   ],
   "source": [
    "from sklearn.linear_model import Lasso    # Lasso Regression\n",
    "clf_lasso = Lasso(alpha = 0.01)           # 기본은 1, 릿지와 마찬가지로 제약의 정도를 나타냄\n",
    "clf_lasso.fit(X_tn_std, y_tn)"
   ]
  },
  {
   "cell_type": "markdown",
   "id": "4304529d",
   "metadata": {},
   "source": [
    "## 라쏘 회귀 모델의 계수, 상수항 확인"
   ]
  },
  {
   "cell_type": "code",
   "execution_count": 23,
   "id": "5a80b7a6",
   "metadata": {},
   "outputs": [
    {
     "name": "stdout",
     "output_type": "stream",
     "text": [
      "[-1.04326518  1.27752711  0.1674367   0.66758228 -2.41559964  1.99244179\n",
      "  0.14733958 -3.09473711  2.46431135 -1.60552274 -2.11046422  0.55200229\n",
      " -4.00809905]\n"
     ]
    }
   ],
   "source": [
    "# 계수 확인\n",
    "\n",
    "print(clf_lasso.coef_)"
   ]
  },
  {
   "cell_type": "code",
   "execution_count": 25,
   "id": "d7ee6985",
   "metadata": {},
   "outputs": [
    {
     "name": "stdout",
     "output_type": "stream",
     "text": [
      "22.344591029023768\n"
     ]
    }
   ],
   "source": [
    "# 상수항 확인\n",
    "\n",
    "print(clf_lasso.intercept_)"
   ]
  },
  {
   "cell_type": "markdown",
   "id": "99d38a17",
   "metadata": {},
   "source": [
    "계수는 조금씩 차이가 나지만 상수항은 같게 나왔다."
   ]
  },
  {
   "cell_type": "markdown",
   "id": "24b13120",
   "metadata": {},
   "source": [
    "# ElasticNet 모델\n",
    "\n",
    "이번에는 엘라스틱 넷을 사용해보도록 한다.\n",
    "\n",
    "## 데이터 학습"
   ]
  },
  {
   "cell_type": "code",
   "execution_count": 30,
   "id": "27356964",
   "metadata": {},
   "outputs": [
    {
     "data": {
      "text/plain": [
       "ElasticNet(alpha=0.01, l1_ratio=0.01)"
      ]
     },
     "execution_count": 30,
     "metadata": {},
     "output_type": "execute_result"
    }
   ],
   "source": [
    "from sklearn.linear_model import ElasticNet\n",
    "clf_elastic = ElasticNet(alpha = 0.01, l1_ratio = 0.01) # alpha는 L1제약식의 크기와 L2제약식의 크기를 합한 전체 제약식의 크기\n",
    "                                                        # l1_ratio는 전체 제약의 크기인 alpha 값에서 L1제약이 차지하는 비율을 의미\n",
    "                                                        # l1_ratio=0이면 L1제약없이 L2제약만 적용되는 릿지 회귀분석을 의미\n",
    "clf_elastic.fit(X_tn_std, y_tn)"
   ]
  },
  {
   "cell_type": "markdown",
   "id": "4bedd1bd",
   "metadata": {},
   "source": [
    "## 엘라스틱넷 계수, 상수항 확인"
   ]
  },
  {
   "cell_type": "code",
   "execution_count": 31,
   "id": "204d46ba",
   "metadata": {},
   "outputs": [
    {
     "name": "stdout",
     "output_type": "stream",
     "text": [
      "[-1.02916603  1.23681955  0.15236504  0.67859622 -2.34646781  2.02965524\n",
      "  0.14575132 -2.98592423  2.32013379 -1.48829485 -2.09271972  0.56506801\n",
      " -3.9495281 ]\n"
     ]
    }
   ],
   "source": [
    "# 계수 확인\n",
    "\n",
    "print(clf_elastic.coef_)"
   ]
  },
  {
   "cell_type": "code",
   "execution_count": 32,
   "id": "4916af9c",
   "metadata": {},
   "outputs": [
    {
     "name": "stdout",
     "output_type": "stream",
     "text": [
      "22.344591029023768\n"
     ]
    }
   ],
   "source": [
    "# 상수항 확인\n",
    "\n",
    "print(clf_elastic.intercept_)"
   ]
  },
  {
   "cell_type": "markdown",
   "id": "98311257",
   "metadata": {},
   "source": [
    "# 데이터 예측\n",
    "만들어본 기본 선형회귀, 릿지 회귀, 라쏘 회귀, 엘라스틱넷 회귀 모델로 데이터 predict를 진행해본다.\n",
    "\n",
    "## 데이터 예측"
   ]
  },
  {
   "cell_type": "code",
   "execution_count": 34,
   "id": "c7439541",
   "metadata": {},
   "outputs": [],
   "source": [
    "pred_lr = clf_lr.predict(X_te_std)\n",
    "pred_ridge = clf_ridge.predict(X_te_std)\n",
    "pred_lasso = clf_lasso.predict(X_te_std)\n",
    "pred_elastic = clf_elastic.predict(X_te_std)"
   ]
  },
  {
   "cell_type": "markdown",
   "id": "5cbf2998",
   "metadata": {},
   "source": [
    "## 모형평가 :  R제곱값\n",
    "\n",
    "R제곱값으로 각 모형들을 평가해본다. 0과 1사이값을 가지며, 높을수록 좋은 성능을 의미한다."
   ]
  },
  {
   "cell_type": "code",
   "execution_count": 36,
   "id": "f78e1443",
   "metadata": {},
   "outputs": [
    {
     "name": "stdout",
     "output_type": "stream",
     "text": [
      "Linear regression:  0.7789410172622859\n",
      "Ridge regression:  0.7789704562726603\n",
      "Lasso regression:  0.7787621490259895\n",
      "ElasticNet regression:  0.7787876079239252\n"
     ]
    }
   ],
   "source": [
    "# import library\n",
    "from sklearn.metrics import r2_score as r2\n",
    "\n",
    "# each model test\n",
    "print(\"Linear regression: \", r2(y_te, pred_lr))\n",
    "print(\"Ridge regression: \", r2(y_te, pred_ridge))\n",
    "print(\"Lasso regression: \", r2(y_te, pred_lasso))\n",
    "print(\"ElasticNet regression: \", r2(y_te, pred_elastic))"
   ]
  },
  {
   "cell_type": "markdown",
   "id": "434cdf30",
   "metadata": {},
   "source": [
    "R제곱값에서는 근소한 차이로 릿지 회귀 모형이 좋은 성능을 보인 것으로 나왔으나, 정말 큰 차이가 나지 않는다.\n",
    "\n",
    "## 모형평가 : MSE(mean squared error! 오차 제곱 합의 평균)\n",
    "\n",
    "이번에는 mse로 평가해보도록 한다. **'오차'**의 제곱의 합의 평균이므로 작을 수록 좋은 성능을 의미한다."
   ]
  },
  {
   "cell_type": "code",
   "execution_count": 37,
   "id": "0a2c187f",
   "metadata": {},
   "outputs": [
    {
     "name": "stdout",
     "output_type": "stream",
     "text": [
      "Linear regression:  21.897765396049483\n",
      "Ridge regression:  21.894849212618773\n",
      "Lasso regression:  21.915483810504824\n",
      "ElasticNet regression:  21.91296189093687\n"
     ]
    }
   ],
   "source": [
    "# import library\n",
    "from sklearn.metrics import mean_squared_error as mse\n",
    "\n",
    "# each model test\n",
    "print(\"Linear regression: \", mse(y_te, pred_lr))\n",
    "print(\"Ridge regression: \", mse(y_te, pred_ridge))\n",
    "print(\"Lasso regression: \", mse(y_te, pred_lasso))\n",
    "print(\"ElasticNet regression: \", mse(y_te, pred_elastic))"
   ]
  },
  {
   "cell_type": "markdown",
   "id": "4404734d",
   "metadata": {},
   "source": [
    "근소한 차이로 릿지 회귀 모형이 좋은 성능을 보이는 것으로 나왔다. (뭐 물론 어떤 테스트를 하던 테스트 값에 근소하면 근소할 수록 잘 나오는 건 당연하겠지만.)"
   ]
  },
  {
   "cell_type": "markdown",
   "id": "466ada3a",
   "metadata": {},
   "source": [
    "# 궁금해요실험: No Standardization\n",
    "---\n",
    "\n",
    "데이터 표준화를 하지 않고 그냥 했을 때의 결과는 많이 차이가 날까? 궁금해서 진행하는 부분.\n",
    "\n",
    "### 트레이닝/테스트 데이터 분할\n",
    "\n",
    "부터 다시 해볼 것이에요 왜냐하면 바보라서 까먹을 수 있으니 코드를 눈에 박기 위해서에요."
   ]
  },
  {
   "cell_type": "code",
   "execution_count": 38,
   "id": "139edaf1",
   "metadata": {},
   "outputs": [],
   "source": [
    "from sklearn.model_selection import train_test_split                # 데이터 분할을 위한 함수\n",
    "# from sklearn.preprocessing import StandardScaler                  # 데이터 표준화를 위한 함수\n",
    "\n",
    "X_tn, X_te, y_tn, y_te = train_test_split(X, y, random_state = 0) # 데이터 분할\n",
    "\n",
    "# std_scale = StandardScaler()                                      # 표준화 스케일러 선언\n",
    "# std_scale.fit(X_tn)                                               # 트레이닝 피처(데이터)를 기준으로 표준화 스케일러 적합\n",
    "\n",
    "# X_tn_std = std_scale.transform(X_tn)                              # 트레인, 테스트 데이터를 표준화 스케일러 처리\n",
    "# X_te_std = std_scale.transform(X_te)"
   ]
  },
  {
   "cell_type": "markdown",
   "id": "1e9c33e6",
   "metadata": {},
   "source": [
    "## 각 모델에 적합 및 예측"
   ]
  },
  {
   "cell_type": "markdown",
   "id": "da9de511",
   "metadata": {},
   "source": [
    "### 데이터 학습"
   ]
  },
  {
   "cell_type": "code",
   "execution_count": 39,
   "id": "0be35818",
   "metadata": {
    "scrolled": true
   },
   "outputs": [
    {
     "data": {
      "text/plain": [
       "ElasticNet(alpha=0.01, l1_ratio=0.01)"
      ]
     },
     "execution_count": 39,
     "metadata": {},
     "output_type": "execute_result"
    }
   ],
   "source": [
    "# 각 선형 회귀 모형 import\n",
    "from sklearn.linear_model import LinearRegression\n",
    "from sklearn.linear_model import Ridge\n",
    "from sklearn.linear_model import Lasso\n",
    "from sklearn.linear_model import ElasticNet\n",
    "\n",
    "# 모형 선언 (위쪽에서 했었던 옵션 그대로 유지)\n",
    "clf_lr_nstd = LinearRegression()\n",
    "clf_ridge_nstd = Ridge(alpha = 1)\n",
    "clf_lasso_nstd = Lasso(alpha = 0.01)\n",
    "clf_elast_nstd = ElasticNet(alpha = 0.01, l1_ratio = 0.01)\n",
    "\n",
    "# 데이터 적합\n",
    "clf_lr_nstd.fit(X_tn, y_tn)\n",
    "clf_ridge_nstd.fit(X_tn, y_tn)\n",
    "clf_lasso_nstd.fit(X_tn, y_tn)\n",
    "clf_elast_nstd.fit(X_tn, y_tn)"
   ]
  },
  {
   "cell_type": "markdown",
   "id": "ba4c6a6b",
   "metadata": {},
   "source": [
    "### 데이터 예측"
   ]
  },
  {
   "cell_type": "code",
   "execution_count": 41,
   "id": "d82a0b04",
   "metadata": {},
   "outputs": [],
   "source": [
    "pred_lr_nstd = clf_lr_nstd.predict(X_te)\n",
    "pred_ridge_nstd = clf_lasso_nstd.predict(X_te)\n",
    "pred_lasso_nstd = clf_ridge_nstd.predict(X_te)\n",
    "pred_elast_nstd = clf_elast_nstd.predict(X_te)"
   ]
  },
  {
   "cell_type": "markdown",
   "id": "d09dbfa3",
   "metadata": {},
   "source": [
    "### 계수 및 상수항 확인\n",
    "\n",
    "확인을 한다고 해서 크게 뭔가를 알 수 있는 것은 아니지만 전자두뇌가 뱉은 일련의 숫자를 보는 것은 마음이 편안하다.\n",
    "\n",
    "이때는 각각의 예측 방식이 표준화가 된 데이터로 학습했을 때의 모델을 가지고 만든 것을 비교하도록 한다."
   ]
  },
  {
   "cell_type": "code",
   "execution_count": 44,
   "id": "5fc91f1e",
   "metadata": {},
   "outputs": [
    {
     "name": "stdout",
     "output_type": "stream",
     "text": [
      "계수 결과 비교\n",
      "[-1.07145146  1.34036243  0.26298069  0.66554537 -2.49842551  1.97524314\n",
      "  0.19516605 -3.14274974  2.66736136 -1.80685572 -2.13034748  0.56172933\n",
      " -4.03223518]\n",
      "[-1.17735289e-01  4.40174969e-02 -5.76814314e-03  2.39341594e+00\n",
      " -1.55894211e+01  3.76896770e+00 -7.03517828e-03 -1.43495641e+00\n",
      "  2.40081086e-01 -1.12972810e-02 -9.85546732e-01  8.44443453e-03\n",
      " -4.99116797e-01]\n",
      "상수항 결과 비교\n",
      "22.344591029023768\n",
      "36.93325545712031\n"
     ]
    }
   ],
   "source": [
    "# 일반 선형회귀 모델 계수 및 상수항 확인\n",
    "\n",
    "print('계수 결과 비교')\n",
    "print(clf_lr.coef_)\n",
    "print(clf_lr_nstd.coef_)\n",
    "\n",
    "print('상수항 결과 비교')\n",
    "print(clf_lr.intercept_)\n",
    "print(clf_lr_nstd.intercept_)"
   ]
  },
  {
   "cell_type": "markdown",
   "id": "205913b5",
   "metadata": {},
   "source": [
    "벌써 결과가 다르게 나온 부분들을 볼 수 있는게 재미있다. 일단 해당 데이터가 집값이다보니까 데이터 스케일때문인지 계수들이 지저분(?) 한 것을 확인할 수 있었다."
   ]
  },
  {
   "cell_type": "code",
   "execution_count": 45,
   "id": "b109779f",
   "metadata": {},
   "outputs": [
    {
     "name": "stdout",
     "output_type": "stream",
     "text": [
      "계수 결과 비교\n",
      "[-1.05933451  1.31050717  0.23022789  0.66955241 -2.45607567  1.99086611\n",
      "  0.18119169 -3.09919804  2.56480813 -1.71116799 -2.12002592  0.56264409\n",
      " -4.00942448]\n",
      "[-0.11478591  0.04541838 -0.03540308  2.30329133 -8.12744537  3.80634143\n",
      " -0.01428219 -1.33693873  0.21674809 -0.01175498 -0.90393728  0.00881273\n",
      " -0.50742473]\n",
      "상수항 결과 비교\n",
      "22.344591029023768\n",
      "31.849731779351067\n"
     ]
    }
   ],
   "source": [
    "# 릿지 회귀 모델 계수 및 상수항 확인\n",
    "\n",
    "print('계수 결과 비교')\n",
    "print(clf_ridge.coef_)\n",
    "print(clf_ridge_nstd.coef_)\n",
    "\n",
    "print('상수항 결과 비교')\n",
    "print(clf_ridge.intercept_)\n",
    "print(clf_ridge_nstd.intercept_)"
   ]
  },
  {
   "cell_type": "code",
   "execution_count": 47,
   "id": "89eaee4f",
   "metadata": {},
   "outputs": [
    {
     "name": "stdout",
     "output_type": "stream",
     "text": [
      "계수 결과 비교\n",
      "[-1.04326518  1.27752711  0.1674367   0.66758228 -2.41559964  1.99244179\n",
      "  0.14733958 -3.09473711  2.46431135 -1.60552274 -2.11046422  0.55200229\n",
      " -4.00809905]\n",
      "[-1.16104087e-01  4.46248964e-02 -1.83063803e-02  2.23355680e+00\n",
      " -1.20664164e+01  3.77492436e+00 -1.01096425e-02 -1.38336756e+00\n",
      "  2.29616121e-01 -1.15665955e-02 -9.47538722e-01  8.63409535e-03\n",
      " -5.04338626e-01]\n",
      "상수항 결과 비교\n",
      "22.344591029023768\n",
      "34.591050491203546\n"
     ]
    }
   ],
   "source": [
    "# 라쏘 회귀 모델 계수 및 상수항 확인\n",
    "\n",
    "print('계수 결과 비교')\n",
    "print(clf_lasso.coef_)\n",
    "print(clf_lasso_nstd.coef_)\n",
    "\n",
    "print('상수항 결과 비교')\n",
    "print(clf_lasso.intercept_)\n",
    "print(clf_lasso_nstd.intercept_)"
   ]
  },
  {
   "cell_type": "code",
   "execution_count": 48,
   "id": "daa90c24",
   "metadata": {},
   "outputs": [
    {
     "name": "stdout",
     "output_type": "stream",
     "text": [
      "계수 결과 비교\n",
      "[-1.02916603  1.23681955  0.15236504  0.67859622 -2.34646781  2.02965524\n",
      "  0.14575132 -2.98592423  2.32013379 -1.48829485 -2.09271972  0.56506801\n",
      " -3.9495281 ]\n",
      "[-0.11307276  0.04665313 -0.05344769  2.07096238 -3.50564722  3.75042554\n",
      " -0.01808508 -1.27742464  0.20563815 -0.01218142 -0.85806729  0.00903266\n",
      " -0.51843859]\n",
      "상수항 결과 비교\n",
      "22.344591029023768\n",
      "29.35106342597792\n"
     ]
    }
   ],
   "source": [
    "# 엘라스틱넷 회귀 모델 계수 및 상수항 확인\n",
    "\n",
    "print('계수 결과 비교')\n",
    "print(clf_elastic.coef_)\n",
    "print(clf_elast_nstd.coef_)\n",
    "\n",
    "print('상수항 결과 비교')\n",
    "print(clf_elastic.intercept_)\n",
    "print(clf_elast_nstd.intercept_)"
   ]
  },
  {
   "cell_type": "markdown",
   "id": "be75e597",
   "metadata": {},
   "source": [
    "계수들의 모양이 일정하지 않고 모형마다 조금씩 다른데, 그나마 릿지 회귀와 엘라스틱넷 회귀가 모양이 표준화때와 비슷한 것 같다.\n",
    "\n",
    "## 모형 평가\n",
    "\n",
    "위쪽에서 예측은 했으므로 모형을 평가해보도록 한다."
   ]
  },
  {
   "cell_type": "markdown",
   "id": "a078c74f",
   "metadata": {},
   "source": [
    "### 모형평가 :  R제곱값\n",
    "\n",
    "서로를 비교한다기보다 표준화 전과 비교하는 것이 우선이므로 위쪽에 있었던 결과를 그대로 함께 가져와 비교해본다."
   ]
  },
  {
   "cell_type": "code",
   "execution_count": 53,
   "id": "bd38ae4a",
   "metadata": {},
   "outputs": [
    {
     "name": "stdout",
     "output_type": "stream",
     "text": [
      "표준화 후 데이터 셋의 R제곱값\n",
      "Linear regression:  -0.41653241924318585\n",
      "Ridge regression:  -0.4121509210377161\n",
      "Lasso regression:  -0.4092744818108047\n",
      "ElasticNet regression:  -0.4012866165843114\n"
     ]
    }
   ],
   "source": [
    "# import library\n",
    "# from sklearn.metrics import r2_score as r2\n",
    "\n",
    "# each model test\n",
    "print(\"표준화 후 데이터 셋의 R제곱값\")\n",
    "print(\"Linear regression: \", r2(y_te, pred_lr))\n",
    "print(\"Ridge regression: \", r2(y_te, pred_ridge))\n",
    "print(\"Lasso regression: \", r2(y_te, pred_lasso))\n",
    "print(\"ElasticNet regression: \", r2(y_te, pred_elastic))"
   ]
  },
  {
   "cell_type": "code",
   "execution_count": 52,
   "id": "e1aff4bf",
   "metadata": {},
   "outputs": [
    {
     "name": "stdout",
     "output_type": "stream",
     "text": [
      "표준화 전 데이터 셋의 R제곱값\n",
      "Linear regression:  0.635463843320211\n",
      "Ridge regression:  0.6316839365596243\n",
      "Lasso regression:  0.626618220461385\n",
      "ElasticNet regression:  0.6183010891242328\n"
     ]
    }
   ],
   "source": [
    "print(\"표준화 전 데이터 셋의 R제곱값\")\n",
    "print(\"Linear regression: \", r2(y_te, pred_lr_nstd))\n",
    "print(\"Ridge regression: \", r2(y_te, pred_ridge_nstd))\n",
    "print(\"Lasso regression: \", r2(y_te, pred_lasso_nstd))\n",
    "print(\"ElasticNet regression: \", r2(y_te, pred_elast_nstd))"
   ]
  },
  {
   "cell_type": "markdown",
   "id": "f6ed8d1e",
   "metadata": {},
   "source": [
    "큰 값이 더 좋은 것으로 나타난다. 전체적으로 표준화 전 데이터 셋의 R제곱값이 더 작다.\n",
    "\n",
    "### 모형평가 : MSE(mean squared error! 오차 제곱 합의 평균)\n"
   ]
  },
  {
   "cell_type": "code",
   "execution_count": 54,
   "id": "c4f530f6",
   "metadata": {},
   "outputs": [
    {
     "name": "stdout",
     "output_type": "stream",
     "text": [
      "표준화 후 데이터 셋의 MSE\n",
      "Linear regression:  115.72930398822027\n",
      "Ridge regression:  115.37133989868988\n",
      "Lasso regression:  115.13633764588388\n",
      "ElasticNet regression:  114.48373692142769\n"
     ]
    }
   ],
   "source": [
    "# import library\n",
    "# from sklearn.metrics import mean_squared_error as mse\n",
    "\n",
    "# each model test\n",
    "print(\"표준화 후 데이터 셋의 MSE\")\n",
    "print(\"Linear regression: \", mse(y_te, pred_lr))\n",
    "print(\"Ridge regression: \", mse(y_te, pred_ridge))\n",
    "print(\"Lasso regression: \", mse(y_te, pred_lasso))\n",
    "print(\"ElasticNet regression: \", mse(y_te, pred_elastic))"
   ]
  },
  {
   "cell_type": "code",
   "execution_count": 56,
   "id": "0ed05e03",
   "metadata": {},
   "outputs": [
    {
     "name": "stdout",
     "output_type": "stream",
     "text": [
      "표준화 후 데이터 셋의 MSE\n",
      "Linear regression:  29.78224509230252\n",
      "Ridge regression:  30.091059753090008\n",
      "Lasso regression:  30.504923770804737\n",
      "ElasticNet regression:  31.184425212318875\n"
     ]
    }
   ],
   "source": [
    "# import library\n",
    "# from sklearn.metrics import mean_squared_error as mse\n",
    "\n",
    "# each model test\n",
    "print(\"표준화 후 데이터 셋의 MSE\")\n",
    "print(\"Linear regression: \", mse(y_te, pred_lr_nstd))\n",
    "print(\"Ridge regression: \", mse(y_te, pred_ridge_nstd))\n",
    "print(\"Lasso regression: \", mse(y_te, pred_lasso_nstd))\n",
    "print(\"ElasticNet regression: \", mse(y_te, pred_elast_nstd))"
   ]
  },
  {
   "cell_type": "markdown",
   "id": "7f593976",
   "metadata": {},
   "source": [
    "아진짜 왜그러는거야"
   ]
  }
 ],
 "metadata": {
  "kernelspec": {
   "display_name": "Python 3 (ipykernel)",
   "language": "python",
   "name": "python3"
  },
  "language_info": {
   "codemirror_mode": {
    "name": "ipython",
    "version": 3
   },
   "file_extension": ".py",
   "mimetype": "text/x-python",
   "name": "python",
   "nbconvert_exporter": "python",
   "pygments_lexer": "ipython3",
   "version": "3.8.5"
  },
  "toc": {
   "base_numbering": 1,
   "nav_menu": {},
   "number_sections": true,
   "sideBar": true,
   "skip_h1_title": false,
   "title_cell": "Table of Contents",
   "title_sidebar": "Contents",
   "toc_cell": false,
   "toc_position": {
    "height": "calc(100% - 180px)",
    "left": "10px",
    "top": "150px",
    "width": "383.994px"
   },
   "toc_section_display": true,
   "toc_window_display": true
  }
 },
 "nbformat": 4,
 "nbformat_minor": 5
}

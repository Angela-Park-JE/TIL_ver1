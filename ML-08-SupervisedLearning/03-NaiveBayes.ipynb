{
 "cells": [
  {
   "cell_type": "markdown",
   "id": "dee0e18b",
   "metadata": {},
   "source": [
    "# 나이브베이즈 알고리즘 실습\n",
    "\n",
    "##### 서로 조건부 독립인 피처를 가정하고, 베이즈 이론을 기반으로 하는 알고리즘\n",
    "\n",
    "##### \n",
    "---\n",
    "\n",
    "#####  8.6.2 wine 데이터를 활용하여 wine 종류를 구분하는 실습"
   ]
  },
  {
   "cell_type": "markdown",
   "id": "29cf1d3d",
   "metadata": {},
   "source": [
    "# Dataset import\n",
    "## 데이터 불러오기"
   ]
  },
  {
   "cell_type": "code",
   "execution_count": 1,
   "id": "393ce3e9",
   "metadata": {},
   "outputs": [],
   "source": [
    "import pandas as pd\n",
    "import numpy as np"
   ]
  },
  {
   "cell_type": "code",
   "execution_count": 3,
   "id": "78e3ab2c",
   "metadata": {},
   "outputs": [],
   "source": [
    "# pandas, numpy 불러오지 않고 쓰면 긴 메세지가 뜨는 것을 확인할 수 있었다.\n",
    "\n",
    "from sklearn import datasets\n",
    "raw_wine = datasets.load_wine()"
   ]
  },
  {
   "cell_type": "code",
   "execution_count": 4,
   "id": "1fee972a",
   "metadata": {},
   "outputs": [
    {
     "data": {
      "text/plain": [
       "['alcohol',\n",
       " 'malic_acid',\n",
       " 'ash',\n",
       " 'alcalinity_of_ash',\n",
       " 'magnesium',\n",
       " 'total_phenols',\n",
       " 'flavanoids',\n",
       " 'nonflavanoid_phenols',\n",
       " 'proanthocyanins',\n",
       " 'color_intensity',\n",
       " 'hue',\n",
       " 'od280/od315_of_diluted_wines',\n",
       " 'proline']"
      ]
     },
     "execution_count": 4,
     "metadata": {},
     "output_type": "execute_result"
    }
   ],
   "source": [
    "# 데이터 셋 내 피처 살펴보기\n",
    "raw_wine.feature_names"
   ]
  },
  {
   "cell_type": "markdown",
   "id": "53e0dae9",
   "metadata": {},
   "source": [
    "# 피처, 타깃 데이터 지정"
   ]
  },
  {
   "cell_type": "code",
   "execution_count": 5,
   "id": "e76b530f",
   "metadata": {},
   "outputs": [],
   "source": [
    "X = raw_wine.data\n",
    "y = raw_wine.target"
   ]
  },
  {
   "cell_type": "markdown",
   "id": "65d631e3",
   "metadata": {},
   "source": [
    "## 트레이닝, 테스트 데이터 분할"
   ]
  },
  {
   "cell_type": "code",
   "execution_count": 6,
   "id": "d674bf94",
   "metadata": {},
   "outputs": [],
   "source": [
    "from sklearn.model_selection import train_test_split\n",
    "X_tn, X_te, y_tn, y_te = train_test_split(X, y, random_state = 1)"
   ]
  },
  {
   "cell_type": "markdown",
   "id": "d080bc7a",
   "metadata": {},
   "source": [
    "## 데이터 표준화"
   ]
  },
  {
   "cell_type": "code",
   "execution_count": 7,
   "id": "f9edad99",
   "metadata": {},
   "outputs": [],
   "source": [
    "from sklearn.preprocessing import StandardScaler\n",
    "std_scale = StandardScaler()\n",
    "std_scale.fit(X_tn)                               # X 트레이닝 데이터 기준으로 std scaler fitting, Xtn Xte모두.\n",
    "X_tn_std = std_scale.transform(X_tn)\n",
    "X_te_std = std_scale.transform(X_te)"
   ]
  },
  {
   "cell_type": "markdown",
   "id": "b601f993",
   "metadata": {},
   "source": [
    "# 나이브 베이즈 분류모델\n",
    "\n",
    "\n",
    "## 모델링\n",
    "### 데이터 학습"
   ]
  },
  {
   "cell_type": "code",
   "execution_count": 9,
   "id": "5ab13de7",
   "metadata": {},
   "outputs": [
    {
     "data": {
      "text/plain": [
       "GaussianNB()"
      ]
     },
     "execution_count": 9,
     "metadata": {},
     "output_type": "execute_result"
    }
   ],
   "source": [
    "from sklearn.naive_bayes import GaussianNB          # 가우시안 나이브 베이즈 분류기를 import\n",
    "clf_gnb = GaussianNB()              # 2개의 이웃을 기준으로 판별\n",
    "clf_gnb.fit(X_tn_std, y_tn)"
   ]
  },
  {
   "cell_type": "markdown",
   "id": "4bedd1bd",
   "metadata": {},
   "source": [
    "### 데이터 예측"
   ]
  },
  {
   "cell_type": "code",
   "execution_count": 10,
   "id": "c7439541",
   "metadata": {},
   "outputs": [
    {
     "name": "stdout",
     "output_type": "stream",
     "text": [
      "[2 1 0 1 0 2 1 0 2 1 0 0 1 0 1 1 2 0 1 0 0 1 2 1 0 2 0 0 0 2 1 2 2 0 1 1 1\n",
      " 1 1 0 0 1 2 0 0]\n"
     ]
    }
   ],
   "source": [
    "gnb_pred = clf_gnb.predict(X_te_std)\n",
    "print(gnb_pred)"
   ]
  },
  {
   "cell_type": "markdown",
   "id": "5cbf2998",
   "metadata": {},
   "source": [
    "## 정확도 평가\n",
    "\n",
    "리콜 평가를 진행해본다."
   ]
  },
  {
   "cell_type": "code",
   "execution_count": 15,
   "id": "607ce5c8",
   "metadata": {},
   "outputs": [
    {
     "data": {
      "text/plain": [
       "1.0"
      ]
     },
     "execution_count": 15,
     "metadata": {},
     "output_type": "execute_result"
    }
   ],
   "source": [
    "from sklearn.metrics import recall_score\n",
    "\n",
    "recall = recall_score(y_te, gnb_pred, average = 'macro')\n",
    "recall"
   ]
  },
  {
   "cell_type": "code",
   "execution_count": 16,
   "id": "f78e1443",
   "metadata": {},
   "outputs": [
    {
     "data": {
      "text/plain": [
       "1.0"
      ]
     },
     "execution_count": 16,
     "metadata": {},
     "output_type": "execute_result"
    }
   ],
   "source": [
    "from sklearn.metrics import accuracy_score\n",
    "\n",
    "accuracy = accuracy_score(y_te, gnb_pred)\n",
    "accuracy"
   ]
  },
  {
   "cell_type": "markdown",
   "id": "434cdf30",
   "metadata": {},
   "source": [
    "녜?\n",
    "\n",
    "### confusion matrix 확인\n",
    "\n",
    "confusion matrix를 통해 예측값과 실제값의 일치 정도를 확인해본다."
   ]
  },
  {
   "cell_type": "code",
   "execution_count": 17,
   "id": "0a2c187f",
   "metadata": {},
   "outputs": [
    {
     "data": {
      "text/plain": [
       "array([[18,  0,  0],\n",
       "       [ 0, 17,  0],\n",
       "       [ 0,  0, 10]])"
      ]
     },
     "execution_count": 17,
     "metadata": {},
     "output_type": "execute_result"
    }
   ],
   "source": [
    "from sklearn.metrics import confusion_matrix\n",
    "\n",
    "conf_matrix = confusion_matrix(y_te, gnb_pred)\n",
    "conf_matrix"
   ]
  },
  {
   "cell_type": "markdown",
   "id": "4404734d",
   "metadata": {},
   "source": [
    "잘못 분류된 것이 없는 것으로 확인되었다.\n",
    "### 분류 리포트 확인\n"
   ]
  },
  {
   "cell_type": "code",
   "execution_count": 18,
   "id": "f71ee00a",
   "metadata": {},
   "outputs": [
    {
     "name": "stdout",
     "output_type": "stream",
     "text": [
      "              precision    recall  f1-score   support\n",
      "\n",
      "           0       1.00      1.00      1.00        18\n",
      "           1       1.00      1.00      1.00        17\n",
      "           2       1.00      1.00      1.00        10\n",
      "\n",
      "    accuracy                           1.00        45\n",
      "   macro avg       1.00      1.00      1.00        45\n",
      "weighted avg       1.00      1.00      1.00        45\n",
      "\n"
     ]
    }
   ],
   "source": [
    "from sklearn.metrics import classification_report\n",
    "\n",
    "class_rep = classification_report(y_te, gnb_pred)\n",
    "print(class_rep)"
   ]
  },
  {
   "cell_type": "markdown",
   "id": "2dc9bc70",
   "metadata": {},
   "source": [
    "틀린 내용이 없는 것이 조금 불편하다. 교재 실습에서는 이러지 않았는데 말이다. \n",
    "\n",
    "이번에는 표준화 없이 진행해보도록 한다.\n",
    "\n",
    "# 실험1: 데이터 표준화 없이 진행하기\n",
    "---\n",
    "\n",
    "## 모델링\n",
    "### 데이터 학습"
   ]
  },
  {
   "cell_type": "code",
   "execution_count": 20,
   "id": "6f85c10d",
   "metadata": {},
   "outputs": [
    {
     "data": {
      "text/plain": [
       "GaussianNB()"
      ]
     },
     "execution_count": 20,
     "metadata": {},
     "output_type": "execute_result"
    }
   ],
   "source": [
    "from sklearn.naive_bayes import GaussianNB\n",
    "clf_gnb_nstd = GaussianNB()\n",
    "clf_gnb_nstd.fit(X_tn, y_tn)"
   ]
  },
  {
   "cell_type": "markdown",
   "id": "233995fc",
   "metadata": {},
   "source": [
    "### 데이터 예측"
   ]
  },
  {
   "cell_type": "code",
   "execution_count": 21,
   "id": "8d48d579",
   "metadata": {},
   "outputs": [
    {
     "name": "stdout",
     "output_type": "stream",
     "text": [
      "[2 1 0 1 0 2 1 0 2 1 0 0 1 0 1 1 2 0 1 0 0 1 2 1 0 2 0 0 0 2 1 2 2 0 1 1 1\n",
      " 1 1 0 0 1 2 0 0]\n"
     ]
    }
   ],
   "source": [
    "gnb_nstd_pred = clf_gnb_nstd.predict(X_te)\n",
    "print(gnb_nstd_pred)"
   ]
  },
  {
   "cell_type": "markdown",
   "id": "bbbfee1d",
   "metadata": {},
   "source": [
    "## 정확도 평가\n",
    "\n",
    "리콜률과 정확도를 평가해본다."
   ]
  },
  {
   "cell_type": "code",
   "execution_count": 22,
   "id": "5143d719",
   "metadata": {},
   "outputs": [
    {
     "data": {
      "text/plain": [
       "1.0"
      ]
     },
     "execution_count": 22,
     "metadata": {},
     "output_type": "execute_result"
    }
   ],
   "source": [
    "from sklearn.metrics import recall_score\n",
    "\n",
    "recall = recall_score(y_te, gnb_nstd_pred, average = 'macro')\n",
    "recall"
   ]
  },
  {
   "cell_type": "code",
   "execution_count": 23,
   "id": "d85ea745",
   "metadata": {},
   "outputs": [
    {
     "data": {
      "text/plain": [
       "1.0"
      ]
     },
     "execution_count": 23,
     "metadata": {},
     "output_type": "execute_result"
    }
   ],
   "source": [
    "from sklearn.metrics import accuracy_score\n",
    "\n",
    "accuracy_nstd = accuracy_score(y_te, gnb_nstd_pred)\n",
    "accuracy_nstd"
   ]
  },
  {
   "cell_type": "markdown",
   "id": "957c0da0",
   "metadata": {},
   "source": [
    "...\n",
    "### confusion matrix 확인\n",
    "\n",
    "예측값과 실제값의 일치 정도를 확인해본다."
   ]
  },
  {
   "cell_type": "code",
   "execution_count": 24,
   "id": "7452dd95",
   "metadata": {},
   "outputs": [
    {
     "data": {
      "text/plain": [
       "array([[18,  0,  0],\n",
       "       [ 0, 17,  0],\n",
       "       [ 0,  0, 10]])"
      ]
     },
     "execution_count": 24,
     "metadata": {},
     "output_type": "execute_result"
    }
   ],
   "source": [
    "from sklearn.metrics import confusion_matrix\n",
    "\n",
    "conf_matrix = confusion_matrix(y_te, gnb_nstd_pred)\n",
    "conf_matrix"
   ]
  },
  {
   "cell_type": "markdown",
   "id": "04db5cee",
   "metadata": {},
   "source": [
    "### 분류 리포트 확인\n"
   ]
  },
  {
   "cell_type": "code",
   "execution_count": 25,
   "id": "9e3e79c7",
   "metadata": {},
   "outputs": [
    {
     "name": "stdout",
     "output_type": "stream",
     "text": [
      "              precision    recall  f1-score   support\n",
      "\n",
      "           0       1.00      1.00      1.00        18\n",
      "           1       1.00      1.00      1.00        17\n",
      "           2       1.00      1.00      1.00        10\n",
      "\n",
      "    accuracy                           1.00        45\n",
      "   macro avg       1.00      1.00      1.00        45\n",
      "weighted avg       1.00      1.00      1.00        45\n",
      "\n"
     ]
    }
   ],
   "source": [
    "from sklearn.metrics import classification_report\n",
    "\n",
    "class_rep = classification_report(y_te, gnb_nstd_pred)\n",
    "print(class_rep)"
   ]
  },
  {
   "cell_type": "markdown",
   "id": "285f6e2d",
   "metadata": {},
   "source": [
    "### Commentary\n",
    "\n",
    "wine 데이터 역시 데이터셋이 워낙 작은 것도 있고, 데이터 자체가 잘 되어있는 것인지 분류가 확실하게 잘 되었다. \n",
    "\n",
    "그래서 표준화같은 과정을 거치지 않고도 좋은 결과를 보여주었다.\n",
    "\n"
   ]
  }
 ],
 "metadata": {
  "kernelspec": {
   "display_name": "Python 3 (ipykernel)",
   "language": "python",
   "name": "python3"
  },
  "language_info": {
   "codemirror_mode": {
    "name": "ipython",
    "version": 3
   },
   "file_extension": ".py",
   "mimetype": "text/x-python",
   "name": "python",
   "nbconvert_exporter": "python",
   "pygments_lexer": "ipython3",
   "version": "3.8.5"
  },
  "toc": {
   "base_numbering": 1,
   "nav_menu": {},
   "number_sections": true,
   "sideBar": true,
   "skip_h1_title": false,
   "title_cell": "Table of Contents",
   "title_sidebar": "Contents",
   "toc_cell": false,
   "toc_position": {
    "height": "calc(100% - 180px)",
    "left": "10px",
    "top": "150px",
    "width": "383.984px"
   },
   "toc_section_display": true,
   "toc_window_display": true
  }
 },
 "nbformat": 4,
 "nbformat_minor": 5
}

{
 "cells": [
  {
   "cell_type": "markdown",
   "id": "dee0e18b",
   "metadata": {},
   "source": [
    "# 의사결정나무 실습\n",
    "\n",
    "##### \n",
    "---\n",
    "\n",
    "#####  8.7.5 wine 데이터를 활용하여 wine 종류를 구분하는 실습"
   ]
  },
  {
   "cell_type": "markdown",
   "id": "29cf1d3d",
   "metadata": {},
   "source": [
    "# Dataset import\n",
    "## 데이터 불러오기"
   ]
  },
  {
   "cell_type": "code",
   "execution_count": 1,
   "id": "393ce3e9",
   "metadata": {},
   "outputs": [],
   "source": [
    "import pandas as pd\n",
    "import numpy as np\n",
    "\n",
    "from sklearn import datasets\n",
    "raw_wine = datasets.load_wine()"
   ]
  },
  {
   "cell_type": "code",
   "execution_count": 2,
   "id": "1fee972a",
   "metadata": {},
   "outputs": [
    {
     "data": {
      "text/plain": [
       "['alcohol',\n",
       " 'malic_acid',\n",
       " 'ash',\n",
       " 'alcalinity_of_ash',\n",
       " 'magnesium',\n",
       " 'total_phenols',\n",
       " 'flavanoids',\n",
       " 'nonflavanoid_phenols',\n",
       " 'proanthocyanins',\n",
       " 'color_intensity',\n",
       " 'hue',\n",
       " 'od280/od315_of_diluted_wines',\n",
       " 'proline']"
      ]
     },
     "execution_count": 2,
     "metadata": {},
     "output_type": "execute_result"
    }
   ],
   "source": [
    "# 데이터 셋 내 피처 살펴보기\n",
    "raw_wine.feature_names"
   ]
  },
  {
   "cell_type": "code",
   "execution_count": 3,
   "id": "dc8c38b3",
   "metadata": {},
   "outputs": [
    {
     "data": {
      "text/plain": [
       "array([0, 0, 0, 0, 0, 0, 0, 0, 0, 0, 0, 0, 0, 0, 0, 0, 0, 0, 0, 0, 0, 0,\n",
       "       0, 0, 0, 0, 0, 0, 0, 0, 0, 0, 0, 0, 0, 0, 0, 0, 0, 0, 0, 0, 0, 0,\n",
       "       0, 0, 0, 0, 0, 0, 0, 0, 0, 0, 0, 0, 0, 0, 0, 1, 1, 1, 1, 1, 1, 1,\n",
       "       1, 1, 1, 1, 1, 1, 1, 1, 1, 1, 1, 1, 1, 1, 1, 1, 1, 1, 1, 1, 1, 1,\n",
       "       1, 1, 1, 1, 1, 1, 1, 1, 1, 1, 1, 1, 1, 1, 1, 1, 1, 1, 1, 1, 1, 1,\n",
       "       1, 1, 1, 1, 1, 1, 1, 1, 1, 1, 1, 1, 1, 1, 1, 1, 1, 1, 1, 1, 2, 2,\n",
       "       2, 2, 2, 2, 2, 2, 2, 2, 2, 2, 2, 2, 2, 2, 2, 2, 2, 2, 2, 2, 2, 2,\n",
       "       2, 2, 2, 2, 2, 2, 2, 2, 2, 2, 2, 2, 2, 2, 2, 2, 2, 2, 2, 2, 2, 2,\n",
       "       2, 2])"
      ]
     },
     "execution_count": 3,
     "metadata": {},
     "output_type": "execute_result"
    }
   ],
   "source": [
    "raw_wine.target"
   ]
  },
  {
   "cell_type": "markdown",
   "id": "53e0dae9",
   "metadata": {},
   "source": [
    "# 피처, 타깃 데이터 지정"
   ]
  },
  {
   "cell_type": "code",
   "execution_count": 4,
   "id": "e76b530f",
   "metadata": {},
   "outputs": [],
   "source": [
    "X = raw_wine.data\n",
    "y = raw_wine.target"
   ]
  },
  {
   "cell_type": "markdown",
   "id": "65d631e3",
   "metadata": {},
   "source": [
    "## 트레이닝, 테스트 데이터 분할"
   ]
  },
  {
   "cell_type": "code",
   "execution_count": 5,
   "id": "d674bf94",
   "metadata": {},
   "outputs": [],
   "source": [
    "from sklearn.model_selection import train_test_split\n",
    "X_tn, X_te, y_tn, y_te = train_test_split(X, y, random_state = 1)"
   ]
  },
  {
   "cell_type": "markdown",
   "id": "d080bc7a",
   "metadata": {},
   "source": [
    "## 데이터 표준화"
   ]
  },
  {
   "cell_type": "code",
   "execution_count": 6,
   "id": "f9edad99",
   "metadata": {},
   "outputs": [],
   "source": [
    "from sklearn.preprocessing import StandardScaler\n",
    "\n",
    "std_scale = StandardScaler()\n",
    "std_scale.fit(X_tn)                                 # X 트레이닝 데이터 기준으로 std scaler fitting, Xtn Xte모두.\n",
    "X_tn_std = std_scale.transform(X_tn)\n",
    "X_te_std = std_scale.transform(X_te)"
   ]
  },
  {
   "cell_type": "markdown",
   "id": "b601f993",
   "metadata": {},
   "source": [
    "# 의사결정나무 분류모델\n",
    "\n",
    "\n",
    "## 모델링\n",
    "### 데이터 학습"
   ]
  },
  {
   "cell_type": "code",
   "execution_count": 7,
   "id": "5ab13de7",
   "metadata": {},
   "outputs": [
    {
     "data": {
      "text/plain": [
       "DecisionTreeClassifier(random_state=0)"
      ]
     },
     "execution_count": 7,
     "metadata": {},
     "output_type": "execute_result"
    }
   ],
   "source": [
    "from sklearn import tree                            # Tree 모형 import\n",
    "clf_tree = tree.DecisionTreeClassifier(random_state = 0)\n",
    "clf_tree.fit(X_tn_std, y_tn)"
   ]
  },
  {
   "cell_type": "markdown",
   "id": "4bedd1bd",
   "metadata": {},
   "source": [
    "### 데이터 예측"
   ]
  },
  {
   "cell_type": "code",
   "execution_count": 8,
   "id": "c7439541",
   "metadata": {},
   "outputs": [
    {
     "name": "stdout",
     "output_type": "stream",
     "text": [
      "[2 1 0 1 0 2 1 0 2 1 0 0 1 0 1 1 2 0 1 0 0 1 2 1 0 2 0 0 0 2 1 2 2 0 1 1 2\n",
      " 0 1 0 0 1 2 0 0]\n"
     ]
    }
   ],
   "source": [
    "tree_pred = clf_tree.predict(X_te_std)\n",
    "print(tree_pred)"
   ]
  },
  {
   "cell_type": "markdown",
   "id": "5cbf2998",
   "metadata": {},
   "source": [
    "## 정확도 평가\n",
    "\n",
    "f1 스코어를 확인해본다."
   ]
  },
  {
   "cell_type": "code",
   "execution_count": 9,
   "id": "9d0f6673",
   "metadata": {},
   "outputs": [
    {
     "data": {
      "text/plain": [
       "0.9542846417846418"
      ]
     },
     "execution_count": 9,
     "metadata": {},
     "output_type": "execute_result"
    }
   ],
   "source": [
    "from sklearn.metrics import f1_score\n",
    "\n",
    "f1 = f1_score(y_te, tree_pred, average = 'macro')\n",
    "f1"
   ]
  },
  {
   "cell_type": "markdown",
   "id": "4219658e",
   "metadata": {},
   "source": [
    "다른 것들도 확인해볼까."
   ]
  },
  {
   "cell_type": "code",
   "execution_count": 10,
   "id": "607ce5c8",
   "metadata": {},
   "outputs": [
    {
     "data": {
      "text/plain": [
       "0.9607843137254902"
      ]
     },
     "execution_count": 10,
     "metadata": {},
     "output_type": "execute_result"
    }
   ],
   "source": [
    "from sklearn.metrics import recall_score\n",
    "\n",
    "recall = recall_score(y_te, tree_pred, average = 'macro')\n",
    "recall"
   ]
  },
  {
   "cell_type": "code",
   "execution_count": 11,
   "id": "f78e1443",
   "metadata": {},
   "outputs": [
    {
     "data": {
      "text/plain": [
       "0.9555555555555556"
      ]
     },
     "execution_count": 11,
     "metadata": {},
     "output_type": "execute_result"
    }
   ],
   "source": [
    "from sklearn.metrics import accuracy_score\n",
    "\n",
    "accuracy = accuracy_score(y_te, tree_pred)\n",
    "accuracy"
   ]
  },
  {
   "cell_type": "markdown",
   "id": "434cdf30",
   "metadata": {},
   "source": [
    "틀린게 몇가지 있는 것으로 보인다.\n",
    "\n",
    "### confusion matrix 확인\n",
    "\n",
    "confusion matrix를 통해 예측값과 실제값의 일치 정도를 확인해본다."
   ]
  },
  {
   "cell_type": "code",
   "execution_count": 12,
   "id": "0a2c187f",
   "metadata": {},
   "outputs": [
    {
     "data": {
      "text/plain": [
       "array([[18,  0,  0],\n",
       "       [ 1, 15,  1],\n",
       "       [ 0,  0, 10]])"
      ]
     },
     "execution_count": 12,
     "metadata": {},
     "output_type": "execute_result"
    }
   ],
   "source": [
    "from sklearn.metrics import confusion_matrix\n",
    "\n",
    "conf_matrix = confusion_matrix(y_te, tree_pred)\n",
    "conf_matrix"
   ]
  },
  {
   "cell_type": "markdown",
   "id": "4404734d",
   "metadata": {},
   "source": [
    "### 분류 리포트 확인\n"
   ]
  },
  {
   "cell_type": "code",
   "execution_count": 13,
   "id": "f71ee00a",
   "metadata": {},
   "outputs": [
    {
     "name": "stdout",
     "output_type": "stream",
     "text": [
      "              precision    recall  f1-score   support\n",
      "\n",
      "           0       0.95      1.00      0.97        18\n",
      "           1       1.00      0.88      0.94        17\n",
      "           2       0.91      1.00      0.95        10\n",
      "\n",
      "    accuracy                           0.96        45\n",
      "   macro avg       0.95      0.96      0.95        45\n",
      "weighted avg       0.96      0.96      0.95        45\n",
      "\n"
     ]
    }
   ],
   "source": [
    "from sklearn.metrics import classification_report\n",
    "\n",
    "class_rep = classification_report(y_te, tree_pred)\n",
    "print(class_rep)"
   ]
  },
  {
   "cell_type": "markdown",
   "id": "f9a52962",
   "metadata": {},
   "source": [
    "# 맥스뎁스를 정해주고 만든 모형"
   ]
  },
  {
   "cell_type": "code",
   "execution_count": 14,
   "id": "2dd75e47",
   "metadata": {},
   "outputs": [
    {
     "data": {
      "text/plain": [
       "DecisionTreeClassifier(max_depth=5, random_state=0)"
      ]
     },
     "execution_count": 14,
     "metadata": {},
     "output_type": "execute_result"
    }
   ],
   "source": [
    "from sklearn import tree\n",
    "clf_tree_d5 = tree.DecisionTreeClassifier(random_state = 0, max_depth = 5)\n",
    "clf_tree_d5.fit(X_tn_std, y_tn)"
   ]
  },
  {
   "cell_type": "markdown",
   "id": "524c27f7",
   "metadata": {},
   "source": [
    "### 데이터 예측"
   ]
  },
  {
   "cell_type": "code",
   "execution_count": 16,
   "id": "ff98a969",
   "metadata": {},
   "outputs": [
    {
     "name": "stdout",
     "output_type": "stream",
     "text": [
      "[2 1 0 1 0 2 1 0 2 1 0 0 1 0 1 1 2 0 1 0 0 1 2 1 0 2 0 0 0 2 1 2 2 0 1 1 2\n",
      " 0 1 0 0 1 2 0 0]\n"
     ]
    }
   ],
   "source": [
    "tree_d5_pred = clf_tree_d5.predict(X_te_std)\n",
    "print(tree_d5_pred)"
   ]
  },
  {
   "cell_type": "markdown",
   "id": "da8b521f",
   "metadata": {},
   "source": [
    "## 정확도 평가\n",
    "\n",
    "f1 스코어를 확인해본다."
   ]
  },
  {
   "cell_type": "code",
   "execution_count": 17,
   "id": "11a3f6fd",
   "metadata": {},
   "outputs": [
    {
     "data": {
      "text/plain": [
       "0.9542846417846418"
      ]
     },
     "execution_count": 17,
     "metadata": {},
     "output_type": "execute_result"
    }
   ],
   "source": [
    "from sklearn.metrics import f1_score\n",
    "\n",
    "f1 = f1_score(y_te, tree_d5_pred, average = 'macro')\n",
    "f1"
   ]
  },
  {
   "cell_type": "code",
   "execution_count": 18,
   "id": "84578322",
   "metadata": {},
   "outputs": [
    {
     "data": {
      "text/plain": [
       "0.9607843137254902"
      ]
     },
     "execution_count": 18,
     "metadata": {},
     "output_type": "execute_result"
    }
   ],
   "source": [
    "from sklearn.metrics import recall_score\n",
    "\n",
    "recall = recall_score(y_te, tree_d5_pred, average = 'macro')\n",
    "recall"
   ]
  },
  {
   "cell_type": "code",
   "execution_count": 11,
   "id": "ca6de89e",
   "metadata": {},
   "outputs": [
    {
     "data": {
      "text/plain": [
       "0.9555555555555556"
      ]
     },
     "execution_count": 11,
     "metadata": {},
     "output_type": "execute_result"
    }
   ],
   "source": [
    "from sklearn.metrics import accuracy_score\n",
    "\n",
    "accuracy = accuracy_score(y_te, tree_d5_pred)\n",
    "accuracy"
   ]
  },
  {
   "cell_type": "markdown",
   "id": "75167202",
   "metadata": {},
   "source": [
    "정확히 같은 수들이 나오고 있다.\n",
    "\n",
    "### confusion matrix 확인\n",
    "\n",
    "confusion matrix를 통해 예측값과 실제값의 일치 정도를 확인해보지만, 이전것과 완전히 일치한다."
   ]
  },
  {
   "cell_type": "code",
   "execution_count": 19,
   "id": "54a1c96f",
   "metadata": {},
   "outputs": [
    {
     "data": {
      "text/plain": [
       "array([[18,  0,  0],\n",
       "       [ 1, 15,  1],\n",
       "       [ 0,  0, 10]])"
      ]
     },
     "execution_count": 19,
     "metadata": {},
     "output_type": "execute_result"
    }
   ],
   "source": [
    "from sklearn.metrics import confusion_matrix\n",
    "\n",
    "conf_matrix = confusion_matrix(y_te, tree_d5_pred)\n",
    "conf_matrix"
   ]
  },
  {
   "cell_type": "markdown",
   "id": "9152a47f",
   "metadata": {},
   "source": [
    "# criterion = 'gini' 가 아닌 'entropy'로 했을 때"
   ]
  },
  {
   "cell_type": "code",
   "execution_count": null,
   "id": "7ef6ec16",
   "metadata": {},
   "outputs": [],
   "source": []
  }
 ],
 "metadata": {
  "kernelspec": {
   "display_name": "Python 3 (ipykernel)",
   "language": "python",
   "name": "python3"
  },
  "language_info": {
   "codemirror_mode": {
    "name": "ipython",
    "version": 3
   },
   "file_extension": ".py",
   "mimetype": "text/x-python",
   "name": "python",
   "nbconvert_exporter": "python",
   "pygments_lexer": "ipython3",
   "version": "3.8.5"
  },
  "toc": {
   "base_numbering": 1,
   "nav_menu": {},
   "number_sections": true,
   "sideBar": true,
   "skip_h1_title": false,
   "title_cell": "Table of Contents",
   "title_sidebar": "Contents",
   "toc_cell": false,
   "toc_position": {
    "height": "calc(100% - 180px)",
    "left": "10px",
    "top": "150px",
    "width": "383.984px"
   },
   "toc_section_display": true,
   "toc_window_display": true
  }
 },
 "nbformat": 4,
 "nbformat_minor": 5
}

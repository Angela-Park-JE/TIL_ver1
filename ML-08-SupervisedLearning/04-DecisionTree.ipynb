{
 "cells": [
  {
   "cell_type": "markdown",
   "id": "dee0e18b",
   "metadata": {},
   "source": [
    "# 의사결정나무 실습\n",
    "\n",
    "##### \n",
    "---\n",
    "\n",
    "#####  8.7.5 wine 데이터를 활용하여 wine 종류를 구분하는 실습"
   ]
  },
  {
   "cell_type": "markdown",
   "id": "29cf1d3d",
   "metadata": {},
   "source": [
    "# Dataset import\n",
    "## 데이터 불러오기"
   ]
  },
  {
   "cell_type": "code",
   "execution_count": 1,
   "id": "393ce3e9",
   "metadata": {},
   "outputs": [],
   "source": [
    "import pandas as pd\n",
    "import numpy as np\n",
    "\n",
    "from sklearn import datasets\n",
    "raw_wine = datasets.load_wine()"
   ]
  },
  {
   "cell_type": "code",
   "execution_count": 2,
   "id": "1fee972a",
   "metadata": {},
   "outputs": [
    {
     "data": {
      "text/plain": [
       "['alcohol',\n",
       " 'malic_acid',\n",
       " 'ash',\n",
       " 'alcalinity_of_ash',\n",
       " 'magnesium',\n",
       " 'total_phenols',\n",
       " 'flavanoids',\n",
       " 'nonflavanoid_phenols',\n",
       " 'proanthocyanins',\n",
       " 'color_intensity',\n",
       " 'hue',\n",
       " 'od280/od315_of_diluted_wines',\n",
       " 'proline']"
      ]
     },
     "execution_count": 2,
     "metadata": {},
     "output_type": "execute_result"
    }
   ],
   "source": [
    "# 데이터 셋 내 피처 살펴보기\n",
    "raw_wine.feature_names"
   ]
  },
  {
   "cell_type": "code",
   "execution_count": 3,
   "id": "e46e82ab",
   "metadata": {},
   "outputs": [
    {
     "data": {
      "text/plain": [
       "array([0, 0, 0, 0, 0, 0, 0, 0, 0, 0, 0, 0, 0, 0, 0, 0, 0, 0, 0, 0, 0, 0,\n",
       "       0, 0, 0, 0, 0, 0, 0, 0, 0, 0, 0, 0, 0, 0, 0, 0, 0, 0, 0, 0, 0, 0,\n",
       "       0, 0, 0, 0, 0, 0, 0, 0, 0, 0, 0, 0, 0, 0, 0, 1, 1, 1, 1, 1, 1, 1,\n",
       "       1, 1, 1, 1, 1, 1, 1, 1, 1, 1, 1, 1, 1, 1, 1, 1, 1, 1, 1, 1, 1, 1,\n",
       "       1, 1, 1, 1, 1, 1, 1, 1, 1, 1, 1, 1, 1, 1, 1, 1, 1, 1, 1, 1, 1, 1,\n",
       "       1, 1, 1, 1, 1, 1, 1, 1, 1, 1, 1, 1, 1, 1, 1, 1, 1, 1, 1, 1, 2, 2,\n",
       "       2, 2, 2, 2, 2, 2, 2, 2, 2, 2, 2, 2, 2, 2, 2, 2, 2, 2, 2, 2, 2, 2,\n",
       "       2, 2, 2, 2, 2, 2, 2, 2, 2, 2, 2, 2, 2, 2, 2, 2, 2, 2, 2, 2, 2, 2,\n",
       "       2, 2])"
      ]
     },
     "execution_count": 3,
     "metadata": {},
     "output_type": "execute_result"
    }
   ],
   "source": [
    "raw_wine.target"
   ]
  },
  {
   "cell_type": "markdown",
   "id": "53e0dae9",
   "metadata": {},
   "source": [
    "# 피처, 타깃 데이터 지정"
   ]
  },
  {
   "cell_type": "code",
   "execution_count": 4,
   "id": "e76b530f",
   "metadata": {},
   "outputs": [],
   "source": [
    "X = raw_wine.data\n",
    "y = raw_wine.target"
   ]
  },
  {
   "cell_type": "markdown",
   "id": "65d631e3",
   "metadata": {},
   "source": [
    "## 트레이닝, 테스트 데이터 분할"
   ]
  },
  {
   "cell_type": "code",
   "execution_count": 5,
   "id": "d674bf94",
   "metadata": {},
   "outputs": [],
   "source": [
    "from sklearn.model_selection import train_test_split\n",
    "X_tn, X_te, y_tn, y_te = train_test_split(X, y, random_state = 1)"
   ]
  },
  {
   "cell_type": "markdown",
   "id": "d080bc7a",
   "metadata": {},
   "source": [
    "## 데이터 표준화"
   ]
  },
  {
   "cell_type": "code",
   "execution_count": 6,
   "id": "f9edad99",
   "metadata": {},
   "outputs": [],
   "source": [
    "from sklearn.preprocessing import StandardScaler\n",
    "\n",
    "std_scale = StandardScaler()\n",
    "std_scale.fit(X_tn)                                 # X 트레이닝 데이터 기준으로 std scaler fitting, Xtn Xte모두.\n",
    "X_tn_std = std_scale.transform(X_tn)\n",
    "X_te_std = std_scale.transform(X_te)"
   ]
  },
  {
   "cell_type": "markdown",
   "id": "b601f993",
   "metadata": {},
   "source": [
    "# 의사결정나무 분류모델\n",
    "\n",
    "\n",
    "## 모델링\n",
    "### 데이터 학습"
   ]
  },
  {
   "cell_type": "code",
   "execution_count": 7,
   "id": "5ab13de7",
   "metadata": {},
   "outputs": [
    {
     "data": {
      "text/plain": [
       "DecisionTreeClassifier(random_state=0)"
      ]
     },
     "execution_count": 7,
     "metadata": {},
     "output_type": "execute_result"
    }
   ],
   "source": [
    "from sklearn import tree                            # Tree 모형 import\n",
    "clf_tree = tree.DecisionTreeClassifier(random_state = 0)\n",
    "clf_tree.fit(X_tn_std, y_tn)"
   ]
  },
  {
   "cell_type": "markdown",
   "id": "4bedd1bd",
   "metadata": {},
   "source": [
    "### 데이터 예측"
   ]
  },
  {
   "cell_type": "code",
   "execution_count": 8,
   "id": "c7439541",
   "metadata": {},
   "outputs": [
    {
     "name": "stdout",
     "output_type": "stream",
     "text": [
      "[2 1 0 1 0 2 1 0 2 1 0 0 1 0 1 1 2 0 1 0 0 1 2 1 0 2 0 0 0 2 1 2 2 0 1 1 2\n",
      " 0 1 0 0 1 2 0 0]\n"
     ]
    }
   ],
   "source": [
    "tree_pred = clf_tree.predict(X_te_std)\n",
    "print(tree_pred)"
   ]
  },
  {
   "cell_type": "markdown",
   "id": "5cbf2998",
   "metadata": {},
   "source": [
    "## 정확도 평가\n",
    "\n",
    "f1 스코어를 확인해본다."
   ]
  },
  {
   "cell_type": "code",
   "execution_count": 9,
   "id": "9d0f6673",
   "metadata": {},
   "outputs": [
    {
     "data": {
      "text/plain": [
       "0.9542846417846418"
      ]
     },
     "execution_count": 9,
     "metadata": {},
     "output_type": "execute_result"
    }
   ],
   "source": [
    "from sklearn.metrics import f1_score\n",
    "\n",
    "f1 = f1_score(y_te, tree_pred, average = 'macro')\n",
    "f1"
   ]
  },
  {
   "cell_type": "markdown",
   "id": "4219658e",
   "metadata": {},
   "source": [
    "다른 것들도 확인해볼까."
   ]
  },
  {
   "cell_type": "code",
   "execution_count": 10,
   "id": "607ce5c8",
   "metadata": {},
   "outputs": [
    {
     "data": {
      "text/plain": [
       "0.9607843137254902"
      ]
     },
     "execution_count": 10,
     "metadata": {},
     "output_type": "execute_result"
    }
   ],
   "source": [
    "from sklearn.metrics import recall_score\n",
    "\n",
    "recall = recall_score(y_te, tree_pred, average = 'macro')\n",
    "recall"
   ]
  },
  {
   "cell_type": "code",
   "execution_count": 11,
   "id": "f78e1443",
   "metadata": {},
   "outputs": [
    {
     "data": {
      "text/plain": [
       "0.9555555555555556"
      ]
     },
     "execution_count": 11,
     "metadata": {},
     "output_type": "execute_result"
    }
   ],
   "source": [
    "from sklearn.metrics import accuracy_score\n",
    "\n",
    "accuracy = accuracy_score(y_te, tree_pred)\n",
    "accuracy"
   ]
  },
  {
   "cell_type": "markdown",
   "id": "434cdf30",
   "metadata": {},
   "source": [
    "틀린게 몇가지 있는 것으로 보인다.\n",
    "\n",
    "### confusion matrix 확인\n",
    "\n",
    "confusion matrix를 통해 예측값과 실제값의 일치 정도를 확인해본다."
   ]
  },
  {
   "cell_type": "code",
   "execution_count": 12,
   "id": "0a2c187f",
   "metadata": {},
   "outputs": [
    {
     "data": {
      "text/plain": [
       "array([[18,  0,  0],\n",
       "       [ 1, 15,  1],\n",
       "       [ 0,  0, 10]])"
      ]
     },
     "execution_count": 12,
     "metadata": {},
     "output_type": "execute_result"
    }
   ],
   "source": [
    "from sklearn.metrics import confusion_matrix\n",
    "\n",
    "conf_matrix = confusion_matrix(y_te, tree_pred)\n",
    "conf_matrix"
   ]
  },
  {
   "cell_type": "markdown",
   "id": "4404734d",
   "metadata": {},
   "source": [
    "### 분류 리포트 확인\n"
   ]
  },
  {
   "cell_type": "code",
   "execution_count": 13,
   "id": "f71ee00a",
   "metadata": {},
   "outputs": [
    {
     "name": "stdout",
     "output_type": "stream",
     "text": [
      "              precision    recall  f1-score   support\n",
      "\n",
      "           0       0.95      1.00      0.97        18\n",
      "           1       1.00      0.88      0.94        17\n",
      "           2       0.91      1.00      0.95        10\n",
      "\n",
      "    accuracy                           0.96        45\n",
      "   macro avg       0.95      0.96      0.95        45\n",
      "weighted avg       0.96      0.96      0.95        45\n",
      "\n"
     ]
    }
   ],
   "source": [
    "from sklearn.metrics import classification_report\n",
    "\n",
    "class_rep = classification_report(y_te, tree_pred)\n",
    "print(class_rep)"
   ]
  },
  {
   "cell_type": "markdown",
   "id": "e6eb76fa",
   "metadata": {},
   "source": [
    "# 맥스뎁스를 정해주고 만든 모형\n",
    "\n",
    "이번엔 임의로 트리의 맥스 깊이를 정해주고 만들어본다. \n",
    "\n",
    "### 데이터 학습"
   ]
  },
  {
   "cell_type": "code",
   "execution_count": 14,
   "id": "2146ba3b",
   "metadata": {},
   "outputs": [
    {
     "data": {
      "text/plain": [
       "DecisionTreeClassifier(max_depth=5, random_state=0)"
      ]
     },
     "execution_count": 14,
     "metadata": {},
     "output_type": "execute_result"
    }
   ],
   "source": [
    "from sklearn import tree\n",
    "clf_tree_d5 = tree.DecisionTreeClassifier(random_state = 0, max_depth = 5)\n",
    "clf_tree_d5.fit(X_tn_std, y_tn)"
   ]
  },
  {
   "cell_type": "markdown",
   "id": "cf1104b3",
   "metadata": {},
   "source": [
    "### 데이터 예측"
   ]
  },
  {
   "cell_type": "code",
   "execution_count": 16,
   "id": "1cbc2a49",
   "metadata": {},
   "outputs": [
    {
     "name": "stdout",
     "output_type": "stream",
     "text": [
      "[2 1 0 1 0 2 1 0 2 1 0 0 1 0 1 1 2 0 1 0 0 1 2 1 0 2 0 0 0 2 1 2 2 0 1 1 2\n",
      " 0 1 0 0 1 2 0 0]\n"
     ]
    }
   ],
   "source": [
    "tree_d5_pred = clf_tree_d5.predict(X_te_std)\n",
    "print(tree_d5_pred)"
   ]
  },
  {
   "cell_type": "markdown",
   "id": "2605ab30",
   "metadata": {},
   "source": [
    "## 정확도 평가\n",
    "\n",
    "f1 스코어를 확인해본다."
   ]
  },
  {
   "cell_type": "code",
   "execution_count": 17,
   "id": "f5ccde35",
   "metadata": {},
   "outputs": [
    {
     "data": {
      "text/plain": [
       "0.9542846417846418"
      ]
     },
     "execution_count": 17,
     "metadata": {},
     "output_type": "execute_result"
    }
   ],
   "source": [
    "from sklearn.metrics import f1_score\n",
    "\n",
    "f1 = f1_score(y_te, tree_d5_pred, average = 'macro')\n",
    "f1"
   ]
  },
  {
   "cell_type": "code",
   "execution_count": 18,
   "id": "90cb6dcc",
   "metadata": {},
   "outputs": [
    {
     "data": {
      "text/plain": [
       "0.9607843137254902"
      ]
     },
     "execution_count": 18,
     "metadata": {},
     "output_type": "execute_result"
    }
   ],
   "source": [
    "from sklearn.metrics import recall_score\n",
    "\n",
    "recall = recall_score(y_te, tree_d5_pred, average = 'macro')\n",
    "recall"
   ]
  },
  {
   "cell_type": "code",
   "execution_count": 11,
   "id": "e9081210",
   "metadata": {},
   "outputs": [
    {
     "data": {
      "text/plain": [
       "0.9555555555555556"
      ]
     },
     "execution_count": 11,
     "metadata": {},
     "output_type": "execute_result"
    }
   ],
   "source": [
    "from sklearn.metrics import accuracy_score\n",
    "\n",
    "accuracy = accuracy_score(y_te, tree_d5_pred)\n",
    "accuracy"
   ]
  },
  {
   "cell_type": "markdown",
   "id": "32b102e2",
   "metadata": {},
   "source": [
    "정확히 같은 수들이 나오고 있다.\n",
    "\n",
    "### confusion matrix 확인\n",
    "\n",
    "confusion matrix를 통해 예측값과 실제값의 일치 정도를 확인해보지만, 이전것과 완전히 일치한다."
   ]
  },
  {
   "cell_type": "code",
   "execution_count": 19,
   "id": "d49cc902",
   "metadata": {},
   "outputs": [
    {
     "data": {
      "text/plain": [
       "array([[18,  0,  0],\n",
       "       [ 1, 15,  1],\n",
       "       [ 0,  0, 10]])"
      ]
     },
     "execution_count": 19,
     "metadata": {},
     "output_type": "execute_result"
    }
   ],
   "source": [
    "from sklearn.metrics import confusion_matrix\n",
    "\n",
    "conf_matrix = confusion_matrix(y_te, tree_d5_pred)\n",
    "conf_matrix"
   ]
  },
  {
   "cell_type": "markdown",
   "id": "0a41dbc6",
   "metadata": {},
   "source": [
    "# criterion = 'gini' 가 아닌 'entropy'로 했을 때\n",
    "\n",
    "> gini = The gini score is a metric that quantifies the purity of the node/leaf (more about leaves in a bit). A gini score greater than zero implies that samples contained within that node belong to different classes. A gini score of zero means that the node is pure, that within that node only a single class of samples exist. You can find out more about impurity measures here. Notice that we have a gini score greater than zero; therefore, we know that the samples contained within the root node belong to different classes.\n",
    "_출처: https://towardsdatascience.com/scikit-learn-decision-trees-explained-803f3812290d_\n",
    "\n",
    "> 지니와 엔트로피: 6.5 지니 불순도 또는 엔트로피  : \n",
    "기본적으로 지니 불순도가 사용되지만 criterion 매개변수를 entropy로 지정해주면 entropy 불순도를 사용할 수 있습니다. 엔트로피는 분자의 무질서함을 측정하는 것으로 원래 열역학의 개념입니다. 정확히 잘 예측했다면 entropy는 0이 됩니다. 즉 어떤 세트가 한 클래스의 샘플만 담고 있다면 엔트로피가 0이 됩니다. 지니와 엔트로피 중 어느 것을 사용해야 한다 물어본다면 실제로는 큰차이가 없습니다. 일반적으로는 지니가 속도가 더 빠릅니다. 하지만 지니는 일반적으로 한쪽 가지로 고립시키는 경향이 있는 반면에 엔트로피는 조금 더 균형 잡힌 트리를 만듭니다. _출처: https://hoony-gunputer.tistory.com/entry/핸즈온-머신러닝-6강-결정트리-Decision-tree [후니의 컴퓨터]_\n",
    "\n",
    "DecisionTreeClassifier 의 가장 첫번째 하이퍼파라미터는 criterion이다. 이를 바꿔보고싶었다."
   ]
  },
  {
   "cell_type": "code",
   "execution_count": 20,
   "id": "67237a3b",
   "metadata": {},
   "outputs": [
    {
     "data": {
      "text/plain": [
       "DecisionTreeClassifier(criterion='entropy', random_state=0)"
      ]
     },
     "execution_count": 20,
     "metadata": {},
     "output_type": "execute_result"
    }
   ],
   "source": [
    "from sklearn import tree\n",
    "clf_tree_ent = tree.DecisionTreeClassifier(random_state = 0, criterion = 'entropy')\n",
    "clf_tree_ent.fit(X_tn_std, y_tn)"
   ]
  },
  {
   "cell_type": "markdown",
   "id": "d1a6f5aa",
   "metadata": {},
   "source": [
    "### 데이터 예측"
   ]
  },
  {
   "cell_type": "code",
   "execution_count": 21,
   "id": "d3e6fe3d",
   "metadata": {},
   "outputs": [
    {
     "name": "stdout",
     "output_type": "stream",
     "text": [
      "[2 1 0 1 0 2 1 0 2 1 0 1 1 0 1 1 2 0 1 0 0 1 2 0 0 2 0 0 0 2 1 2 2 0 1 1 1\n",
      " 1 1 0 0 1 2 0 0]\n"
     ]
    }
   ],
   "source": [
    "tree_ent_pred = clf_tree_ent.predict(X_te_std)\n",
    "print(tree_ent_pred)"
   ]
  },
  {
   "cell_type": "markdown",
   "id": "b6c441de",
   "metadata": {},
   "source": [
    "## 정확도 평가\n",
    "\n",
    "f1 스코어를 확인해본다."
   ]
  },
  {
   "cell_type": "code",
   "execution_count": 22,
   "id": "3f588ba4",
   "metadata": {},
   "outputs": [
    {
     "data": {
      "text/plain": [
       "0.9618736383442266"
      ]
     },
     "execution_count": 22,
     "metadata": {},
     "output_type": "execute_result"
    }
   ],
   "source": [
    "from sklearn.metrics import f1_score\n",
    "\n",
    "f1 = f1_score(y_te, tree_ent_pred, average = 'macro')\n",
    "f1"
   ]
  },
  {
   "cell_type": "code",
   "execution_count": 23,
   "id": "def3677d",
   "metadata": {},
   "outputs": [
    {
     "data": {
      "text/plain": [
       "0.9618736383442266"
      ]
     },
     "execution_count": 23,
     "metadata": {},
     "output_type": "execute_result"
    }
   ],
   "source": [
    "from sklearn.metrics import recall_score\n",
    "\n",
    "recall = recall_score(y_te, tree_ent_pred, average = 'macro')\n",
    "recall"
   ]
  },
  {
   "cell_type": "code",
   "execution_count": 24,
   "id": "1f0ed530",
   "metadata": {},
   "outputs": [
    {
     "data": {
      "text/plain": [
       "0.9555555555555556"
      ]
     },
     "execution_count": 24,
     "metadata": {},
     "output_type": "execute_result"
    }
   ],
   "source": [
    "from sklearn.metrics import accuracy_score\n",
    "\n",
    "accuracy = accuracy_score(y_te, tree_ent_pred)\n",
    "accuracy"
   ]
  },
  {
   "cell_type": "markdown",
   "id": "488041a7",
   "metadata": {},
   "source": [
    "이 역시 정확히 같은 수들이 나오고 있다. 모델에게 너무 쉬운 데이터셋인가보다.\n",
    "\n",
    "### confusion matrix 확인\n",
    "\n",
    "그러나 컨퓨전 매트릭스를 확인하자 틀렸던 클래스가 다르게 나타난다."
   ]
  },
  {
   "cell_type": "code",
   "execution_count": 25,
   "id": "b417f7ea",
   "metadata": {},
   "outputs": [
    {
     "data": {
      "text/plain": [
       "array([[17,  1,  0],\n",
       "       [ 1, 16,  0],\n",
       "       [ 0,  0, 10]])"
      ]
     },
     "execution_count": 25,
     "metadata": {},
     "output_type": "execute_result"
    }
   ],
   "source": [
    "from sklearn.metrics import confusion_matrix\n",
    "\n",
    "conf_matrix = confusion_matrix(y_te, tree_ent_pred)\n",
    "conf_matrix"
   ]
  },
  {
   "cell_type": "markdown",
   "id": "3261b740",
   "metadata": {},
   "source": [
    "```\n",
    "array([[18,  0,  0],\n",
    "       [ 1, 15,  1],\n",
    "       [ 0,  0, 10]])\n",
    "```\n",
    "으로 나타났던 이전의 트리모형과는 달리 첫번째 클래스를 오분류하는 것이 생겼다. \n",
    "\n",
    "entropy의 경우 gini와 달리 트리의 모형을 좀더 균형잡히게 만들게 되어있다고 했다.\n",
    "\n",
    "지니가 '하지만 지니는 일반적으로 한쪽 가지로 고립시키는 경향이 있는 반면'이라고 했다. \n",
    "\n",
    "gini가 해당 경향 때문에 이전에 두 번째 클래스를 분류하는데에서만 오류가 생기게 분류 방식을 만들었다면, 결과가 조금은 쉽게 이해가 가는 것 같다. \n",
    "\n",
    "말하자면 이전의 분류 오류는 클래스2를 1과 3으로 잘 못 분류를 했다. 즉 세 가지 클래스 모두 사이에서 헷갈렸다는 말이다.\n",
    "\n",
    "그러나 entropy로 설정을 한 경우 똑같이 두번의 오분류가 있었지만 클래스 1과 2사이에서만 일어났다. 두 가지 클래스 사이에서만 헷갈렸다는 말이다. \n",
    "\n",
    "데이터에 따라서 어떤 것을 선택할 지도 달라지겠지만, **후에 디시전 트리 모형을 쓰게 되면 가장 먼저 이 파라미터를 만져보게 될 것 같다.**"
   ]
  }
 ],
 "metadata": {
  "kernelspec": {
   "display_name": "Python 3 (ipykernel)",
   "language": "python",
   "name": "python3"
  },
  "language_info": {
   "codemirror_mode": {
    "name": "ipython",
    "version": 3
   },
   "file_extension": ".py",
   "mimetype": "text/x-python",
   "name": "python",
   "nbconvert_exporter": "python",
   "pygments_lexer": "ipython3",
   "version": "3.8.5"
  },
  "toc": {
   "base_numbering": 1,
   "nav_menu": {},
   "number_sections": true,
   "sideBar": true,
   "skip_h1_title": false,
   "title_cell": "Table of Contents",
   "title_sidebar": "Contents",
   "toc_cell": false,
   "toc_position": {
    "height": "calc(100% - 180px)",
    "left": "10px",
    "top": "150px",
    "width": "383.984px"
   },
   "toc_section_display": true,
   "toc_window_display": true
  }
 },
 "nbformat": 4,
 "nbformat_minor": 5
}

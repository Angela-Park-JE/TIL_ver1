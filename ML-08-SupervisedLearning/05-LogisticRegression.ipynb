{
 "cells": [
  {
   "cell_type": "markdown",
   "id": "dee0e18b",
   "metadata": {},
   "source": [
    "# 로지스틱 회귀실습\n",
    "\n",
    "#####  \n",
    "\n",
    "일반적인 선형 회귀 분석은 예측 문제를 풀기에는 적합하지만 분류 문제를 풀기에는 적합하지 않다. 선형 회귀 분석의 타깃 데이터의 값의 범위에는 제한이 없기 때문이다. \n",
    "\n",
    "0과 1로 분류해야하는 문제에서 결괏 값은 오직 0과 1 사이의 값으로 나와야 할 것이다. 이런 문제점을 해결하기 위해 사용하는 방법이 로지스틱 회귀 분석이다.\n",
    "\n",
    " 선형 회귀 분석 모형: $ z = \\mathbf w^T \\mathbf x + b $\n",
    "\n",
    "이 z 값에는 제한이 없으므로 분류 문제를 푸는 것이 어렵다. 결괏값이 제한된 범위의 값을 가지도록 변형시키는데, 그 결과 이 형태가 된다.\n",
    "\n",
    "$ \\log \\left( \\frac{\\pi (\\mathbf x)} {1 - \\pi (\\mathbf x)} \\right) = \\mathbf w^T \\mathbf x + b  $\n",
    "\n",
    "${\\pi (\\mathbf x)}$ 는 피처 데이터 x 가 주어질 때 y가 1일 확률을 의미한다. \n",
    "\n",
    "가중치 (w)의 부호에 따라 모형의 형태가 달라진다.\n",
    "\n",
    "---\n",
    "\n",
    "#####  8.5.2 유방암을 예측하는 모형을 만들어보기.\n"
   ]
  },
  {
   "cell_type": "markdown",
   "id": "29cf1d3d",
   "metadata": {},
   "source": [
    "# Dataset import\n",
    "## 데이터 불러오기"
   ]
  },
  {
   "cell_type": "code",
   "execution_count": 1,
   "id": "393ce3e9",
   "metadata": {},
   "outputs": [],
   "source": [
    "import pandas as pd\n",
    "import numpy as np\n",
    "\n",
    "from sklearn import datasets\n",
    "raw_cancer = datasets.load_breast_cancer()"
   ]
  },
  {
   "cell_type": "code",
   "execution_count": 2,
   "id": "1fee972a",
   "metadata": {},
   "outputs": [
    {
     "data": {
      "text/plain": [
       "array(['mean radius', 'mean texture', 'mean perimeter', 'mean area',\n",
       "       'mean smoothness', 'mean compactness', 'mean concavity',\n",
       "       'mean concave points', 'mean symmetry', 'mean fractal dimension',\n",
       "       'radius error', 'texture error', 'perimeter error', 'area error',\n",
       "       'smoothness error', 'compactness error', 'concavity error',\n",
       "       'concave points error', 'symmetry error',\n",
       "       'fractal dimension error', 'worst radius', 'worst texture',\n",
       "       'worst perimeter', 'worst area', 'worst smoothness',\n",
       "       'worst compactness', 'worst concavity', 'worst concave points',\n",
       "       'worst symmetry', 'worst fractal dimension'], dtype='<U23')"
      ]
     },
     "execution_count": 2,
     "metadata": {},
     "output_type": "execute_result"
    }
   ],
   "source": [
    "# 데이터 셋 내 피처 살펴보기\n",
    "raw_cancer.feature_names"
   ]
  },
  {
   "cell_type": "code",
   "execution_count": 3,
   "id": "40a7a665",
   "metadata": {
    "scrolled": true
   },
   "outputs": [
    {
     "data": {
      "text/plain": [
       "array([0, 0, 0, 0, 0, 0, 0, 0, 0, 0, 0, 0, 0, 0, 0, 0, 0, 0, 0, 1, 1, 1,\n",
       "       0, 0, 0, 0, 0, 0, 0, 0, 0, 0, 0, 0, 0, 0, 0, 1, 0, 0, 0, 0, 0, 0,\n",
       "       0, 0, 1, 0, 1, 1, 1, 1, 1, 0, 0, 1, 0, 0, 1, 1, 1, 1, 0, 1, 0, 0,\n",
       "       1, 1, 1, 1, 0, 1, 0, 0, 1, 0, 1, 0, 0, 1, 1, 1, 0, 0, 1, 0, 0, 0,\n",
       "       1, 1, 1, 0, 1, 1, 0, 0, 1, 1, 1, 0, 0, 1, 1, 1, 1, 0, 1, 1, 0, 1,\n",
       "       1, 1, 1, 1, 1, 1, 1, 0, 0, 0, 1, 0, 0, 1, 1, 1, 0, 0, 1, 0, 1, 0,\n",
       "       0, 1, 0, 0, 1, 1, 0, 1, 1, 0, 1, 1, 1, 1, 0, 1, 1, 1, 1, 1, 1, 1,\n",
       "       1, 1, 0, 1, 1, 1, 1, 0, 0, 1, 0, 1, 1, 0, 0, 1, 1, 0, 0, 1, 1, 1,\n",
       "       1, 0, 1, 1, 0, 0, 0, 1, 0, 1, 0, 1, 1, 1, 0, 1, 1, 0, 0, 1, 0, 0,\n",
       "       0, 0, 1, 0, 0, 0, 1, 0, 1, 0, 1, 1, 0, 1, 0, 0, 0, 0, 1, 1, 0, 0,\n",
       "       1, 1, 1, 0, 1, 1, 1, 1, 1, 0, 0, 1, 1, 0, 1, 1, 0, 0, 1, 0, 1, 1,\n",
       "       1, 1, 0, 1, 1, 1, 1, 1, 0, 1, 0, 0, 0, 0, 0, 0, 0, 0, 0, 0, 0, 0,\n",
       "       0, 0, 1, 1, 1, 1, 1, 1, 0, 1, 0, 1, 1, 0, 1, 1, 0, 1, 0, 0, 1, 1,\n",
       "       1, 1, 1, 1, 1, 1, 1, 1, 1, 1, 1, 0, 1, 1, 0, 1, 0, 1, 1, 1, 1, 1,\n",
       "       1, 1, 1, 1, 1, 1, 1, 1, 1, 0, 1, 1, 1, 0, 1, 0, 1, 1, 1, 1, 0, 0,\n",
       "       0, 1, 1, 1, 1, 0, 1, 0, 1, 0, 1, 1, 1, 0, 1, 1, 1, 1, 1, 1, 1, 0,\n",
       "       0, 0, 1, 1, 1, 1, 1, 1, 1, 1, 1, 1, 1, 0, 0, 1, 0, 0, 0, 1, 0, 0,\n",
       "       1, 1, 1, 1, 1, 0, 1, 1, 1, 1, 1, 0, 1, 1, 1, 0, 1, 1, 0, 0, 1, 1,\n",
       "       1, 1, 1, 1, 0, 1, 1, 1, 1, 1, 1, 1, 0, 1, 1, 1, 1, 1, 0, 1, 1, 0,\n",
       "       1, 1, 1, 1, 1, 1, 1, 1, 1, 1, 1, 1, 0, 1, 0, 0, 1, 0, 1, 1, 1, 1,\n",
       "       1, 0, 1, 1, 0, 1, 0, 1, 1, 0, 1, 0, 1, 1, 1, 1, 1, 1, 1, 1, 0, 0,\n",
       "       1, 1, 1, 1, 1, 1, 0, 1, 1, 1, 1, 1, 1, 1, 1, 1, 1, 0, 1, 1, 1, 1,\n",
       "       1, 1, 1, 0, 1, 0, 1, 1, 0, 1, 1, 1, 1, 1, 0, 0, 1, 0, 1, 0, 1, 1,\n",
       "       1, 1, 1, 0, 1, 1, 0, 1, 0, 1, 0, 0, 1, 1, 1, 0, 1, 1, 1, 1, 1, 1,\n",
       "       1, 1, 1, 1, 1, 0, 1, 0, 0, 1, 1, 1, 1, 1, 1, 1, 1, 1, 1, 1, 1, 1,\n",
       "       1, 1, 1, 1, 1, 1, 1, 1, 1, 1, 1, 1, 0, 0, 0, 0, 0, 0, 1])"
      ]
     },
     "execution_count": 3,
     "metadata": {},
     "output_type": "execute_result"
    }
   ],
   "source": [
    "raw_cancer.target"
   ]
  },
  {
   "cell_type": "markdown",
   "id": "2aae3ad2",
   "metadata": {},
   "source": [
    "보다시피 타깃 데이터는 1과 0으로 더미 변수 형태로 되어있다."
   ]
  },
  {
   "cell_type": "markdown",
   "id": "53e0dae9",
   "metadata": {},
   "source": [
    "# 피처, 타깃 데이터 지정"
   ]
  },
  {
   "cell_type": "code",
   "execution_count": 4,
   "id": "e76b530f",
   "metadata": {},
   "outputs": [],
   "source": [
    "X = raw_cancer.data\n",
    "y = raw_cancer.target"
   ]
  },
  {
   "cell_type": "markdown",
   "id": "65d631e3",
   "metadata": {},
   "source": [
    "## 트레이닝, 테스트 데이터 분할"
   ]
  },
  {
   "cell_type": "code",
   "execution_count": 6,
   "id": "d674bf94",
   "metadata": {},
   "outputs": [],
   "source": [
    "from sklearn.model_selection import train_test_split\n",
    "X_tn, X_te, y_tn, y_te = train_test_split(X, y, random_state = 1)"
   ]
  },
  {
   "cell_type": "markdown",
   "id": "d080bc7a",
   "metadata": {},
   "source": [
    "## 데이터 표준화"
   ]
  },
  {
   "cell_type": "code",
   "execution_count": 7,
   "id": "f9edad99",
   "metadata": {},
   "outputs": [],
   "source": [
    "from sklearn.preprocessing import StandardScaler\n",
    "\n",
    "# X 트레이닝 데이터 기준으로 Xtn Xte 를 표준화한다.\n",
    "std_scale = StandardScaler()\n",
    "std_scale.fit(X_tn)\n",
    "X_tn_std = std_scale.transform(X_tn)\n",
    "X_te_std = std_scale.transform(X_te)"
   ]
  },
  {
   "cell_type": "markdown",
   "id": "b601f993",
   "metadata": {},
   "source": [
    "# 로지스틱 회귀 분류모델\n",
    "\n",
    "\n",
    "## 모델링\n",
    "### 데이터 학습 (penalty = 'none')"
   ]
  },
  {
   "cell_type": "code",
   "execution_count": 9,
   "id": "5ab13de7",
   "metadata": {},
   "outputs": [
    {
     "name": "stderr",
     "output_type": "stream",
     "text": [
      "/Users/Angela/opt/anaconda3/envs/py3_8_5/lib/python3.8/site-packages/sklearn/linear_model/_logistic.py:814: ConvergenceWarning: lbfgs failed to converge (status=1):\n",
      "STOP: TOTAL NO. of ITERATIONS REACHED LIMIT.\n",
      "\n",
      "Increase the number of iterations (max_iter) or scale the data as shown in:\n",
      "    https://scikit-learn.org/stable/modules/preprocessing.html\n",
      "Please also refer to the documentation for alternative solver options:\n",
      "    https://scikit-learn.org/stable/modules/linear_model.html#logistic-regression\n",
      "  n_iter_i = _check_optimize_result(\n"
     ]
    },
    {
     "data": {
      "text/plain": [
       "LogisticRegression(penalty='none')"
      ]
     },
     "execution_count": 9,
     "metadata": {},
     "output_type": "execute_result"
    }
   ],
   "source": [
    "from sklearn.linear_model import LogisticRegression       # 선형회귀 안에 로지스틱 리그레션이 들어있다.\n",
    "clf_lg = LogisticRegression(penalty = 'none')             # 선형회귀와 마찬가지로 제약식을 적용할 수 있다. penalty = 'none'은 적용하지 않는것.\n",
    "clf_lg.fit(X_tn_std, y_tn)"
   ]
  },
  {
   "cell_type": "markdown",
   "id": "e1da3921",
   "metadata": {},
   "source": [
    "아 오류 `ConvergenceWarning: lbfgs failed to converge (status=1): STOP: TOTAL NO. of ITERATIONS REACHED LIMIT.` \n",
    "\n",
    "왜그러세요 그러지마세요ㅠ아니 그러지말아주세요"
   ]
  },
  {
   "cell_type": "markdown",
   "id": "e219f45c",
   "metadata": {},
   "source": [
    "### 로지스틱 회귀 분석 추정 계수\n",
    "\n",
    "적합시킨 로지스틱 회귀 모형의 추정 계수를 확인해본다.\n"
   ]
  },
  {
   "cell_type": "code",
   "execution_count": 12,
   "id": "e204c03d",
   "metadata": {},
   "outputs": [
    {
     "name": "stdout",
     "output_type": "stream",
     "text": [
      "[[ 591.00640307  178.07226669  268.08733748 -330.93384262 -265.89267754\n",
      "   403.87590255 -440.20567456 -163.13405253  160.24943851   31.05972374\n",
      "  -440.51054671  114.9741787   389.61869589 -916.53513808  -24.85205124\n",
      "   281.38892257  327.14492105 -603.09768047  -26.69362497  300.55349611\n",
      "   222.6810874  -421.96122568 -499.54041443 -930.53290536  331.03484773\n",
      "  -173.78537726 -262.47341882   41.24337521 -183.3975225  -395.41997878]]\n"
     ]
    }
   ],
   "source": [
    "# 추정계수 확인\n",
    "\n",
    "print(clf_lg.coef_)"
   ]
  },
  {
   "cell_type": "code",
   "execution_count": 13,
   "id": "3771ed79",
   "metadata": {},
   "outputs": [
    {
     "name": "stdout",
     "output_type": "stream",
     "text": [
      "[-248.00998108]\n"
     ]
    }
   ],
   "source": [
    "# 상수항 확인\n",
    "\n",
    "print(clf_lg.intercept_)"
   ]
  },
  {
   "cell_type": "markdown",
   "id": "4bedd1bd",
   "metadata": {},
   "source": [
    "### 데이터 예측"
   ]
  },
  {
   "cell_type": "code",
   "execution_count": 15,
   "id": "077fc38e",
   "metadata": {},
   "outputs": [
    {
     "name": "stdout",
     "output_type": "stream",
     "text": [
      "[1 0 1 0 0 0 0 0 1 1 1 0 0 1 1 1 1 1 1 0 1 1 0 1 0 1 1 0 0 0 0 1 0 0 1 1 0\n",
      " 1 0 1 1 1 1 1 1 0 1 1 1 0 0 0 1 1 1 1 1 0 1 1 1 0 1 1 1 1 1 0 1 1 1 1 1 0\n",
      " 1 0 0 1 1 0 1 0 1 0 1 1 0 1 0 1 1 0 1 1 0 0 1 1 1 1 1 1 1 0 1 1 1 1 0 0 0\n",
      " 0 1 1 0 0 1 1 1 1 1 0 0 1 1 0 0 1 0 0 1 1 1 0 1 0 0 1 1 0 0 0 1]\n"
     ]
    }
   ],
   "source": [
    "lg_pred = clf_lg.predict(X_te_std)\n",
    "print(lg_pred)"
   ]
  },
  {
   "cell_type": "markdown",
   "id": "d1e73408",
   "metadata": {},
   "source": [
    "### 클래스 확률로 예측\n",
    "\n",
    "위에서는 클래스로 예측했지만, 메소드를 이용하여 해당 클래스에 속할 확률을 출력할 수 있다."
   ]
  },
  {
   "cell_type": "code",
   "execution_count": 21,
   "id": "bf88ba87",
   "metadata": {},
   "outputs": [
    {
     "name": "stdout",
     "output_type": "stream",
     "text": [
      "[[0.00000000e+000 1.00000000e+000]\n",
      " [1.00000000e+000 0.00000000e+000]\n",
      " [0.00000000e+000 1.00000000e+000]\n",
      " [1.00000000e+000 0.00000000e+000]\n",
      " [1.00000000e+000 4.29084288e-110]\n",
      " [1.00000000e+000 0.00000000e+000]\n",
      " [1.00000000e+000 0.00000000e+000]\n",
      " [1.00000000e+000 7.03261202e-081]\n",
      " [0.00000000e+000 1.00000000e+000]\n",
      " [0.00000000e+000 1.00000000e+000]\n",
      " [0.00000000e+000 1.00000000e+000]\n",
      " [1.00000000e+000 0.00000000e+000]\n",
      " [1.00000000e+000 0.00000000e+000]\n",
      " [0.00000000e+000 1.00000000e+000]\n",
      " [0.00000000e+000 1.00000000e+000]\n",
      " [0.00000000e+000 1.00000000e+000]\n",
      " [0.00000000e+000 1.00000000e+000]\n",
      " [0.00000000e+000 1.00000000e+000]\n",
      " [0.00000000e+000 1.00000000e+000]\n",
      " [1.00000000e+000 0.00000000e+000]\n",
      " [0.00000000e+000 1.00000000e+000]\n",
      " [0.00000000e+000 1.00000000e+000]\n",
      " [1.00000000e+000 0.00000000e+000]\n",
      " [0.00000000e+000 1.00000000e+000]\n",
      " [1.00000000e+000 0.00000000e+000]\n",
      " [0.00000000e+000 1.00000000e+000]\n",
      " [0.00000000e+000 1.00000000e+000]\n",
      " [1.00000000e+000 0.00000000e+000]\n",
      " [1.00000000e+000 0.00000000e+000]\n",
      " [1.00000000e+000 0.00000000e+000]\n",
      " [1.00000000e+000 0.00000000e+000]\n",
      " [0.00000000e+000 1.00000000e+000]\n",
      " [1.00000000e+000 0.00000000e+000]\n",
      " [1.00000000e+000 0.00000000e+000]\n",
      " [0.00000000e+000 1.00000000e+000]\n",
      " [0.00000000e+000 1.00000000e+000]\n",
      " [1.00000000e+000 0.00000000e+000]\n",
      " [0.00000000e+000 1.00000000e+000]\n",
      " [1.00000000e+000 2.82288224e-065]\n",
      " [0.00000000e+000 1.00000000e+000]\n",
      " [0.00000000e+000 1.00000000e+000]\n",
      " [0.00000000e+000 1.00000000e+000]\n",
      " [0.00000000e+000 1.00000000e+000]\n",
      " [0.00000000e+000 1.00000000e+000]\n",
      " [0.00000000e+000 1.00000000e+000]\n",
      " [1.00000000e+000 0.00000000e+000]\n",
      " [0.00000000e+000 1.00000000e+000]\n",
      " [0.00000000e+000 1.00000000e+000]\n",
      " [0.00000000e+000 1.00000000e+000]\n",
      " [1.00000000e+000 0.00000000e+000]\n",
      " [1.00000000e+000 0.00000000e+000]\n",
      " [1.00000000e+000 0.00000000e+000]\n",
      " [0.00000000e+000 1.00000000e+000]\n",
      " [0.00000000e+000 1.00000000e+000]\n",
      " [0.00000000e+000 1.00000000e+000]\n",
      " [0.00000000e+000 1.00000000e+000]\n",
      " [0.00000000e+000 1.00000000e+000]\n",
      " [1.00000000e+000 1.99251569e-216]\n",
      " [0.00000000e+000 1.00000000e+000]\n",
      " [0.00000000e+000 1.00000000e+000]\n",
      " [0.00000000e+000 1.00000000e+000]\n",
      " [1.00000000e+000 0.00000000e+000]\n",
      " [0.00000000e+000 1.00000000e+000]\n",
      " [0.00000000e+000 1.00000000e+000]\n",
      " [0.00000000e+000 1.00000000e+000]\n",
      " [0.00000000e+000 1.00000000e+000]\n",
      " [0.00000000e+000 1.00000000e+000]\n",
      " [1.00000000e+000 0.00000000e+000]\n",
      " [0.00000000e+000 1.00000000e+000]\n",
      " [0.00000000e+000 1.00000000e+000]\n",
      " [0.00000000e+000 1.00000000e+000]\n",
      " [0.00000000e+000 1.00000000e+000]\n",
      " [0.00000000e+000 1.00000000e+000]\n",
      " [1.00000000e+000 0.00000000e+000]\n",
      " [0.00000000e+000 1.00000000e+000]\n",
      " [1.00000000e+000 0.00000000e+000]\n",
      " [1.00000000e+000 0.00000000e+000]\n",
      " [0.00000000e+000 1.00000000e+000]\n",
      " [0.00000000e+000 1.00000000e+000]\n",
      " [1.00000000e+000 0.00000000e+000]\n",
      " [0.00000000e+000 1.00000000e+000]\n",
      " [1.00000000e+000 0.00000000e+000]\n",
      " [0.00000000e+000 1.00000000e+000]\n",
      " [1.00000000e+000 0.00000000e+000]\n",
      " [0.00000000e+000 1.00000000e+000]\n",
      " [0.00000000e+000 1.00000000e+000]\n",
      " [1.00000000e+000 1.08594810e-296]\n",
      " [0.00000000e+000 1.00000000e+000]\n",
      " [1.00000000e+000 0.00000000e+000]\n",
      " [0.00000000e+000 1.00000000e+000]\n",
      " [0.00000000e+000 1.00000000e+000]\n",
      " [1.00000000e+000 0.00000000e+000]\n",
      " [0.00000000e+000 1.00000000e+000]\n",
      " [0.00000000e+000 1.00000000e+000]\n",
      " [1.00000000e+000 0.00000000e+000]\n",
      " [1.00000000e+000 0.00000000e+000]\n",
      " [0.00000000e+000 1.00000000e+000]\n",
      " [0.00000000e+000 1.00000000e+000]\n",
      " [0.00000000e+000 1.00000000e+000]\n",
      " [0.00000000e+000 1.00000000e+000]\n",
      " [0.00000000e+000 1.00000000e+000]\n",
      " [0.00000000e+000 1.00000000e+000]\n",
      " [0.00000000e+000 1.00000000e+000]\n",
      " [1.00000000e+000 1.64649037e-013]\n",
      " [0.00000000e+000 1.00000000e+000]\n",
      " [0.00000000e+000 1.00000000e+000]\n",
      " [0.00000000e+000 1.00000000e+000]\n",
      " [0.00000000e+000 1.00000000e+000]\n",
      " [1.00000000e+000 0.00000000e+000]\n",
      " [1.00000000e+000 0.00000000e+000]\n",
      " [1.00000000e+000 0.00000000e+000]\n",
      " [1.00000000e+000 4.06697010e-085]\n",
      " [7.81836681e-008 9.99999922e-001]\n",
      " [0.00000000e+000 1.00000000e+000]\n",
      " [1.00000000e+000 0.00000000e+000]\n",
      " [1.00000000e+000 0.00000000e+000]\n",
      " [0.00000000e+000 1.00000000e+000]\n",
      " [0.00000000e+000 1.00000000e+000]\n",
      " [0.00000000e+000 1.00000000e+000]\n",
      " [0.00000000e+000 1.00000000e+000]\n",
      " [0.00000000e+000 1.00000000e+000]\n",
      " [1.00000000e+000 0.00000000e+000]\n",
      " [1.00000000e+000 0.00000000e+000]\n",
      " [0.00000000e+000 1.00000000e+000]\n",
      " [0.00000000e+000 1.00000000e+000]\n",
      " [1.00000000e+000 0.00000000e+000]\n",
      " [1.00000000e+000 0.00000000e+000]\n",
      " [0.00000000e+000 1.00000000e+000]\n",
      " [1.00000000e+000 0.00000000e+000]\n",
      " [1.00000000e+000 0.00000000e+000]\n",
      " [0.00000000e+000 1.00000000e+000]\n",
      " [0.00000000e+000 1.00000000e+000]\n",
      " [0.00000000e+000 1.00000000e+000]\n",
      " [1.00000000e+000 0.00000000e+000]\n",
      " [0.00000000e+000 1.00000000e+000]\n",
      " [1.00000000e+000 0.00000000e+000]\n",
      " [1.00000000e+000 0.00000000e+000]\n",
      " [0.00000000e+000 1.00000000e+000]\n",
      " [0.00000000e+000 1.00000000e+000]\n",
      " [1.00000000e+000 3.96564787e-151]\n",
      " [1.00000000e+000 1.21048839e-079]\n",
      " [1.00000000e+000 0.00000000e+000]\n",
      " [0.00000000e+000 1.00000000e+000]]\n"
     ]
    }
   ],
   "source": [
    "pred_probability = clf_lg.predict_proba(X_te_std)\n",
    "print(pred_probability)"
   ]
  },
  {
   "cell_type": "markdown",
   "id": "7deb179b",
   "metadata": {},
   "source": [
    "## 평가\n",
    "\n",
    "### 정밀도 형가\n",
    "\n",
    "precision을 확인해본다."
   ]
  },
  {
   "cell_type": "code",
   "execution_count": 22,
   "id": "1d2bbf0e",
   "metadata": {},
   "outputs": [
    {
     "name": "stdout",
     "output_type": "stream",
     "text": [
      "0.9770114942528736\n"
     ]
    }
   ],
   "source": [
    "from sklearn.metrics import precision_score\n",
    "\n",
    "precision = precision_score(y_te, lg_pred)\n",
    "print(precision)"
   ]
  },
  {
   "cell_type": "markdown",
   "id": "31dcc2d5",
   "metadata": {},
   "source": [
    "약 98%정도의 정확도를 보이고 있다.\n",
    "\n",
    "### confusion matrix 확인"
   ]
  },
  {
   "cell_type": "code",
   "execution_count": 23,
   "id": "13c3e12c",
   "metadata": {},
   "outputs": [
    {
     "name": "stdout",
     "output_type": "stream",
     "text": [
      "[[53  2]\n",
      " [ 3 85]]\n"
     ]
    }
   ],
   "source": [
    "from sklearn.metrics import confusion_matrix\n",
    "\n",
    "conf_mat = confusion_matrix(y_te, lg_pred)\n",
    "print(conf_mat)"
   ]
  },
  {
   "cell_type": "markdown",
   "id": "86661658",
   "metadata": {},
   "source": [
    "### 분류 리포트 확인"
   ]
  },
  {
   "cell_type": "code",
   "execution_count": 24,
   "id": "480fc91f",
   "metadata": {},
   "outputs": [
    {
     "name": "stdout",
     "output_type": "stream",
     "text": [
      "              precision    recall  f1-score   support\n",
      "\n",
      "           0       0.95      0.96      0.95        55\n",
      "           1       0.98      0.97      0.97        88\n",
      "\n",
      "    accuracy                           0.97       143\n",
      "   macro avg       0.96      0.96      0.96       143\n",
      "weighted avg       0.97      0.97      0.97       143\n",
      "\n"
     ]
    }
   ],
   "source": [
    "from sklearn.metrics import classification_report\n",
    "\n",
    "class_report = classification_report(y_te, lg_pred)\n",
    "print(class_report)"
   ]
  },
  {
   "cell_type": "markdown",
   "id": "e491ce84",
   "metadata": {},
   "source": [
    "충분히 좋은 결과가 나온 편이라고 생각한다. 하지만 사실 양성(클래스1)인데 음성으로 잘못 분류하는 경우가 3 경우가 있었던 것으로 보인다.\n",
    "\n",
    "수치적으로는 재현율이나 전반적으로 우수하지만, 이런 부분은 문제가 있을 수 있다.\n",
    "\n",
    "분류를 전체적으로 잘 했는가 자체보다는, 의료 데이터에서는 중요한 부분이 제대로 분류가 되었는지가 가장 중요한 것 같다.\n",
    "\n",
    "릿지나 라쏘, 엘라스틱 넷 등 다른 제약식으로 이용하여 분류를 해보도록 한다."
   ]
  },
  {
   "cell_type": "markdown",
   "id": "6107d31c",
   "metadata": {},
   "source": []
  },
  {
   "cell_type": "markdown",
   "id": "193c4948",
   "metadata": {},
   "source": [
    "# 실험1: 라쏘 제약식(L2) 사용\n",
    "---\n",
    "\n",
    "## 모델링\n",
    "### 데이터 학습 (penalty = ' l2')"
   ]
  },
  {
   "cell_type": "code",
   "execution_count": 25,
   "id": "5434ecfe",
   "metadata": {},
   "outputs": [
    {
     "data": {
      "text/plain": [
       "LogisticRegression()"
      ]
     },
     "execution_count": 25,
     "metadata": {},
     "output_type": "execute_result"
    }
   ],
   "source": [
    "from sklearn.linear_model import LogisticRegression       # 선형회귀 안에 로지스틱 리그레션이 들어있다.\n",
    "clf_lg_l2 = LogisticRegression(penalty = 'l2')            # 선형회귀와 마찬가지로 제약식을 적용할 수 있다. penalty = 'l2'은 L2 제약식 이용.\n",
    "clf_lg_l2.fit(X_tn_std, y_tn)"
   ]
  },
  {
   "cell_type": "markdown",
   "id": "d33f3caf",
   "metadata": {},
   "source": [
    "### L2 제약식 로지스틱 회귀 분석 추정 계수\n",
    "\n",
    "적합시킨 로지스틱 회귀 모형의 추정 계수를 확인해본다.\n"
   ]
  },
  {
   "cell_type": "code",
   "execution_count": 26,
   "id": "5a188ce9",
   "metadata": {},
   "outputs": [
    {
     "name": "stdout",
     "output_type": "stream",
     "text": [
      "[[-0.48143978 -0.41014209 -0.46725987 -0.51392775 -0.09769918  0.3020924\n",
      "  -0.72884664 -0.7890253  -0.01424461  0.39299676 -1.08415325 -0.04728618\n",
      "  -0.5669909  -0.74499028 -0.22229903  0.90896096 -0.05386185 -0.49962018\n",
      "   0.17826258  0.71184481 -1.05809159 -0.95888641 -0.91097127 -0.97646535\n",
      "  -0.41365059 -0.01729729 -0.82465772 -0.93295021 -0.76852329 -0.61983664]]\n"
     ]
    }
   ],
   "source": [
    "# 추정계수 확인\n",
    "\n",
    "print(clf_lg_l2.coef_)"
   ]
  },
  {
   "cell_type": "code",
   "execution_count": 27,
   "id": "674c1e7c",
   "metadata": {},
   "outputs": [
    {
     "name": "stdout",
     "output_type": "stream",
     "text": [
      "[0.36341572]\n"
     ]
    }
   ],
   "source": [
    "# 상수항 확인\n",
    "\n",
    "print(clf_lg_l2.intercept_)"
   ]
  },
  {
   "cell_type": "markdown",
   "id": "d98982f2",
   "metadata": {},
   "source": [
    "### 데이터 예측"
   ]
  },
  {
   "cell_type": "code",
   "execution_count": 28,
   "id": "3e3ffbb9",
   "metadata": {},
   "outputs": [
    {
     "name": "stdout",
     "output_type": "stream",
     "text": [
      "[1 0 1 0 0 0 0 0 1 1 1 0 0 1 1 1 1 1 1 0 1 1 0 1 0 1 1 0 0 0 0 1 0 0 1 1 0\n",
      " 1 0 1 1 1 1 1 1 0 1 1 1 0 0 0 1 1 1 1 1 0 1 1 1 0 1 1 1 1 1 0 1 1 1 1 1 0\n",
      " 1 0 0 1 1 0 1 0 1 0 1 1 0 1 0 1 1 0 1 1 0 0 1 1 1 1 1 1 1 1 1 1 1 1 0 0 0\n",
      " 1 1 1 0 0 1 1 1 1 1 0 0 1 1 0 0 1 0 0 1 1 1 0 1 0 0 1 1 0 0 0 1]\n"
     ]
    }
   ],
   "source": [
    "lg_l2_pred = clf_lg_l2.predict(X_te_std)\n",
    "print(lg_l2_pred)"
   ]
  },
  {
   "cell_type": "markdown",
   "id": "3f6fcdd9",
   "metadata": {},
   "source": [
    "### 클래스 확률로 예측\n",
    "\n",
    "위에서는 클래스로 예측했지만, 메소드를 이용하여 해당 클래스에 속할 확률을 출력할 수 있다."
   ]
  },
  {
   "cell_type": "code",
   "execution_count": 29,
   "id": "6d96c592",
   "metadata": {},
   "outputs": [
    {
     "name": "stdout",
     "output_type": "stream",
     "text": [
      "[[1.49488533e-01 8.50511467e-01]\n",
      " [9.89656817e-01 1.03431830e-02]\n",
      " [9.87187552e-03 9.90128124e-01]\n",
      " [9.94890005e-01 5.10999525e-03]\n",
      " [8.94370796e-01 1.05629204e-01]\n",
      " [9.94653457e-01 5.34654285e-03]\n",
      " [9.99934190e-01 6.58097367e-05]\n",
      " [8.39850104e-01 1.60149896e-01]\n",
      " [6.71620121e-03 9.93283799e-01]\n",
      " [2.48219387e-02 9.75178061e-01]\n",
      " [1.16133334e-03 9.98838667e-01]\n",
      " [9.97966542e-01 2.03345776e-03]\n",
      " [9.81618379e-01 1.83816207e-02]\n",
      " [1.87756245e-03 9.98122438e-01]\n",
      " [3.41727616e-01 6.58272384e-01]\n",
      " [3.22621426e-02 9.67737857e-01]\n",
      " [5.94546271e-04 9.99405454e-01]\n",
      " [8.11730977e-03 9.91882690e-01]\n",
      " [6.99424444e-04 9.99300576e-01]\n",
      " [9.99931832e-01 6.81684178e-05]\n",
      " [2.52926669e-03 9.97470733e-01]\n",
      " [4.58182448e-03 9.95418176e-01]\n",
      " [9.99946728e-01 5.32715029e-05]\n",
      " [1.28963362e-02 9.87103664e-01]\n",
      " [9.92283615e-01 7.71638528e-03]\n",
      " [3.06703381e-02 9.69329662e-01]\n",
      " [2.40952072e-02 9.75904793e-01]\n",
      " [9.99991486e-01 8.51390903e-06]\n",
      " [1.00000000e+00 2.62520146e-13]\n",
      " [9.85741614e-01 1.42583858e-02]\n",
      " [9.99999998e-01 2.06559941e-09]\n",
      " [1.07469867e-03 9.98925301e-01]\n",
      " [9.99985352e-01 1.46482459e-05]\n",
      " [9.66875257e-01 3.31247431e-02]\n",
      " [5.56480737e-04 9.99443519e-01]\n",
      " [8.21128905e-04 9.99178871e-01]\n",
      " [9.95869665e-01 4.13033475e-03]\n",
      " [4.30469825e-02 9.56953017e-01]\n",
      " [5.67194747e-01 4.32805253e-01]\n",
      " [2.71330039e-03 9.97286700e-01]\n",
      " [3.59136216e-04 9.99640864e-01]\n",
      " [1.61453638e-01 8.38546362e-01]\n",
      " [2.75204869e-02 9.72479513e-01]\n",
      " [7.85214916e-04 9.99214785e-01]\n",
      " [9.09942681e-03 9.90900573e-01]\n",
      " [9.99151027e-01 8.48972744e-04]\n",
      " [4.77731742e-05 9.99952227e-01]\n",
      " [9.55929516e-05 9.99904407e-01]\n",
      " [2.65669203e-02 9.73433080e-01]\n",
      " [9.73979508e-01 2.60204922e-02]\n",
      " [9.99812176e-01 1.87824378e-04]\n",
      " [9.99999996e-01 4.20038814e-09]\n",
      " [1.19370297e-02 9.88062970e-01]\n",
      " [8.05669246e-05 9.99919433e-01]\n",
      " [1.56361573e-03 9.98436384e-01]\n",
      " [1.10702616e-03 9.98892974e-01]\n",
      " [1.95181106e-03 9.98048189e-01]\n",
      " [9.76791018e-01 2.32089822e-02]\n",
      " [4.09100128e-03 9.95908999e-01]\n",
      " [4.73479953e-05 9.99952652e-01]\n",
      " [3.91528093e-05 9.99960847e-01]\n",
      " [9.99901220e-01 9.87801474e-05]\n",
      " [1.51116736e-02 9.84888326e-01]\n",
      " [1.38337804e-02 9.86166220e-01]\n",
      " [1.74816370e-03 9.98251836e-01]\n",
      " [1.72193260e-03 9.98278067e-01]\n",
      " [7.93016292e-04 9.99206984e-01]\n",
      " [9.99998155e-01 1.84520868e-06]\n",
      " [1.21864732e-04 9.99878135e-01]\n",
      " [1.26838788e-03 9.98731612e-01]\n",
      " [4.94198548e-05 9.99950580e-01]\n",
      " [7.84616055e-04 9.99215384e-01]\n",
      " [9.65590178e-02 9.03440982e-01]\n",
      " [9.99993548e-01 6.45191497e-06]\n",
      " [2.22013949e-05 9.99977799e-01]\n",
      " [9.99999953e-01 4.70817812e-08]\n",
      " [7.35631862e-01 2.64368138e-01]\n",
      " [1.06909679e-01 8.93090321e-01]\n",
      " [9.87040048e-05 9.99901296e-01]\n",
      " [9.99573998e-01 4.26001814e-04]\n",
      " [8.44698183e-04 9.99155302e-01]\n",
      " [9.99991659e-01 8.34108088e-06]\n",
      " [5.25445484e-05 9.99947455e-01]\n",
      " [9.99980746e-01 1.92542932e-05]\n",
      " [2.06630743e-03 9.97933693e-01]\n",
      " [4.30969065e-04 9.99569031e-01]\n",
      " [9.84542304e-01 1.54576960e-02]\n",
      " [2.31086126e-02 9.76891387e-01]\n",
      " [9.98445190e-01 1.55480995e-03]\n",
      " [1.91596007e-03 9.98084040e-01]\n",
      " [2.32430983e-02 9.76756902e-01]\n",
      " [9.96316516e-01 3.68348375e-03]\n",
      " [3.99928684e-03 9.96000713e-01]\n",
      " [2.36345892e-05 9.99976365e-01]\n",
      " [9.99996573e-01 3.42672109e-06]\n",
      " [9.26254646e-01 7.37453537e-02]\n",
      " [1.00529923e-05 9.99989947e-01]\n",
      " [8.56964564e-02 9.14303544e-01]\n",
      " [7.97632928e-04 9.99202367e-01]\n",
      " [1.12081756e-03 9.98879182e-01]\n",
      " [1.36820143e-02 9.86317986e-01]\n",
      " [8.66993273e-04 9.99133007e-01]\n",
      " [3.60020910e-05 9.99963998e-01]\n",
      " [1.24058080e-01 8.75941920e-01]\n",
      " [1.92483668e-02 9.80751633e-01]\n",
      " [6.47542192e-03 9.93524578e-01]\n",
      " [1.78993272e-05 9.99982101e-01]\n",
      " [3.65119898e-04 9.99634880e-01]\n",
      " [9.98840494e-01 1.15950632e-03]\n",
      " [9.93456387e-01 6.54361309e-03]\n",
      " [9.99394810e-01 6.05190160e-04]\n",
      " [3.17042114e-01 6.82957886e-01]\n",
      " [1.37009863e-01 8.62990137e-01]\n",
      " [1.98796020e-04 9.99801204e-01]\n",
      " [9.99507495e-01 4.92505318e-04]\n",
      " [9.99954929e-01 4.50709365e-05]\n",
      " [1.58600791e-06 9.99998414e-01]\n",
      " [5.39340814e-04 9.99460659e-01]\n",
      " [1.87991660e-04 9.99812008e-01]\n",
      " [8.53804884e-03 9.91461951e-01]\n",
      " [7.42828062e-02 9.25717194e-01]\n",
      " [9.99952182e-01 4.78181074e-05]\n",
      " [9.99999182e-01 8.17667606e-07]\n",
      " [2.25117093e-02 9.77488291e-01]\n",
      " [3.08098546e-02 9.69190145e-01]\n",
      " [1.00000000e+00 2.79394243e-12]\n",
      " [9.99430411e-01 5.69589484e-04]\n",
      " [4.51898914e-01 5.48101086e-01]\n",
      " [9.99999992e-01 7.96176995e-09]\n",
      " [9.99999999e-01 5.23155579e-10]\n",
      " [2.16660825e-02 9.78333918e-01]\n",
      " [1.37525567e-01 8.62474433e-01]\n",
      " [5.46311800e-04 9.99453688e-01]\n",
      " [9.99999945e-01 5.49406138e-08]\n",
      " [7.09871718e-06 9.99992901e-01]\n",
      " [9.97746039e-01 2.25396063e-03]\n",
      " [9.97737725e-01 2.26227454e-03]\n",
      " [2.14655983e-01 7.85344017e-01]\n",
      " [5.14462770e-03 9.94855372e-01]\n",
      " [6.52628591e-01 3.47371409e-01]\n",
      " [5.25794621e-01 4.74205379e-01]\n",
      " [9.99946701e-01 5.32986406e-05]\n",
      " [3.23894123e-03 9.96761059e-01]]\n"
     ]
    }
   ],
   "source": [
    "pred_probability_l2 = clf_lg_l2.predict_proba(X_te_std)\n",
    "print(pred_probability_l2)"
   ]
  },
  {
   "cell_type": "markdown",
   "id": "40979826",
   "metadata": {},
   "source": [
    "## 평가\n",
    "\n",
    "### 정밀도 형가\n",
    "\n",
    "precision을 확인해본다."
   ]
  },
  {
   "cell_type": "code",
   "execution_count": 30,
   "id": "330da12f",
   "metadata": {},
   "outputs": [
    {
     "name": "stdout",
     "output_type": "stream",
     "text": [
      "0.9775280898876404\n"
     ]
    }
   ],
   "source": [
    "from sklearn.metrics import precision_score\n",
    "\n",
    "precision = precision_score(y_te, lg_l2_pred)\n",
    "print(precision)"
   ]
  },
  {
   "cell_type": "markdown",
   "id": "e9da526f",
   "metadata": {},
   "source": [
    "약 98%정도의 정확도를 보이고 있다. 0.9770114942528736 에서 아주 약간 상승했다.\n",
    "\n",
    "### confusion matrix 확인"
   ]
  },
  {
   "cell_type": "code",
   "execution_count": 31,
   "id": "3ea132b2",
   "metadata": {},
   "outputs": [
    {
     "name": "stdout",
     "output_type": "stream",
     "text": [
      "[[53  2]\n",
      " [ 1 87]]\n"
     ]
    }
   ],
   "source": [
    "from sklearn.metrics import confusion_matrix\n",
    "\n",
    "conf_mat = confusion_matrix(y_te, lg_l2_pred)\n",
    "print(conf_mat)"
   ]
  },
  {
   "cell_type": "markdown",
   "id": "871cb7b8",
   "metadata": {},
   "source": [
    "실제로 클래스 0의 분류 오류는 변하지 않았지만 클래스 1 에서 오답이었던 3중 2개를 맞추면서 1개로 줄어들었다."
   ]
  },
  {
   "cell_type": "markdown",
   "id": "513c9905",
   "metadata": {},
   "source": [
    "### 분류 리포트 확인"
   ]
  },
  {
   "cell_type": "code",
   "execution_count": 32,
   "id": "1cedf0fe",
   "metadata": {},
   "outputs": [
    {
     "name": "stdout",
     "output_type": "stream",
     "text": [
      "              precision    recall  f1-score   support\n",
      "\n",
      "           0       0.98      0.96      0.97        55\n",
      "           1       0.98      0.99      0.98        88\n",
      "\n",
      "    accuracy                           0.98       143\n",
      "   macro avg       0.98      0.98      0.98       143\n",
      "weighted avg       0.98      0.98      0.98       143\n",
      "\n"
     ]
    }
   ],
   "source": [
    "from sklearn.metrics import classification_report\n",
    "\n",
    "class_report = classification_report(y_te, lg_l2_pred)\n",
    "print(class_report)"
   ]
  },
  {
   "cell_type": "markdown",
   "id": "29d0ccfa",
   "metadata": {},
   "source": [
    "제약식을 변화시키는 것만으로 특정 클래스의 재현율을 이렇게 끌어올릴 수 있다는 것에서 감탄을 아니할 수 없었다...\n",
    "\n",
    "교재에서 L2제약식을 사용한 코드만 있었던 이유가 있었는지도 모른다는 생각이다.\n",
    "\n",
    "# Commentary\n",
    "---\n",
    "당연하게도 L1제약식도 해보고싶어졌다. 그러나 문제가 있었다."
   ]
  },
  {
   "cell_type": "code",
   "execution_count": 33,
   "id": "2f0c197d",
   "metadata": {
    "scrolled": true
   },
   "outputs": [
    {
     "ename": "ValueError",
     "evalue": "Solver lbfgs supports only 'l2' or 'none' penalties, got l1 penalty.",
     "output_type": "error",
     "traceback": [
      "\u001b[0;31m---------------------------------------------------------------------------\u001b[0m",
      "\u001b[0;31mValueError\u001b[0m                                Traceback (most recent call last)",
      "Input \u001b[0;32mIn [33]\u001b[0m, in \u001b[0;36m<cell line: 3>\u001b[0;34m()\u001b[0m\n\u001b[1;32m      1\u001b[0m \u001b[38;5;28;01mfrom\u001b[39;00m \u001b[38;5;21;01msklearn\u001b[39;00m\u001b[38;5;21;01m.\u001b[39;00m\u001b[38;5;21;01mlinear_model\u001b[39;00m \u001b[38;5;28;01mimport\u001b[39;00m LogisticRegression       \u001b[38;5;66;03m# 선형회귀 안에 로지스틱 리그레션이 들어있다.\u001b[39;00m\n\u001b[1;32m      2\u001b[0m clf_lg_l1 \u001b[38;5;241m=\u001b[39m LogisticRegression(penalty \u001b[38;5;241m=\u001b[39m \u001b[38;5;124m'\u001b[39m\u001b[38;5;124ml1\u001b[39m\u001b[38;5;124m'\u001b[39m)            \u001b[38;5;66;03m# 선형회귀와 마찬가지로 제약식을 적용할 수 있다. penalty = 'l1'은 L1 제약식 사용.\u001b[39;00m\n\u001b[0;32m----> 3\u001b[0m \u001b[43mclf_lg_l1\u001b[49m\u001b[38;5;241;43m.\u001b[39;49m\u001b[43mfit\u001b[49m\u001b[43m(\u001b[49m\u001b[43mX_tn_std\u001b[49m\u001b[43m,\u001b[49m\u001b[43m \u001b[49m\u001b[43my_tn\u001b[49m\u001b[43m)\u001b[49m\n",
      "File \u001b[0;32m~/opt/anaconda3/envs/py3_8_5/lib/python3.8/site-packages/sklearn/linear_model/_logistic.py:1461\u001b[0m, in \u001b[0;36mLogisticRegression.fit\u001b[0;34m(self, X, y, sample_weight)\u001b[0m\n\u001b[1;32m   1432\u001b[0m \u001b[38;5;28;01mdef\u001b[39;00m \u001b[38;5;21mfit\u001b[39m(\u001b[38;5;28mself\u001b[39m, X, y, sample_weight\u001b[38;5;241m=\u001b[39m\u001b[38;5;28;01mNone\u001b[39;00m):\n\u001b[1;32m   1433\u001b[0m     \u001b[38;5;124;03m\"\"\"\u001b[39;00m\n\u001b[1;32m   1434\u001b[0m \u001b[38;5;124;03m    Fit the model according to the given training data.\u001b[39;00m\n\u001b[1;32m   1435\u001b[0m \n\u001b[0;32m   (...)\u001b[0m\n\u001b[1;32m   1459\u001b[0m \u001b[38;5;124;03m    The SAGA solver supports both float64 and float32 bit arrays.\u001b[39;00m\n\u001b[1;32m   1460\u001b[0m \u001b[38;5;124;03m    \"\"\"\u001b[39;00m\n\u001b[0;32m-> 1461\u001b[0m     solver \u001b[38;5;241m=\u001b[39m \u001b[43m_check_solver\u001b[49m\u001b[43m(\u001b[49m\u001b[38;5;28;43mself\u001b[39;49m\u001b[38;5;241;43m.\u001b[39;49m\u001b[43msolver\u001b[49m\u001b[43m,\u001b[49m\u001b[43m \u001b[49m\u001b[38;5;28;43mself\u001b[39;49m\u001b[38;5;241;43m.\u001b[39;49m\u001b[43mpenalty\u001b[49m\u001b[43m,\u001b[49m\u001b[43m \u001b[49m\u001b[38;5;28;43mself\u001b[39;49m\u001b[38;5;241;43m.\u001b[39;49m\u001b[43mdual\u001b[49m\u001b[43m)\u001b[49m\n\u001b[1;32m   1463\u001b[0m     \u001b[38;5;28;01mif\u001b[39;00m \u001b[38;5;129;01mnot\u001b[39;00m \u001b[38;5;28misinstance\u001b[39m(\u001b[38;5;28mself\u001b[39m\u001b[38;5;241m.\u001b[39mC, numbers\u001b[38;5;241m.\u001b[39mNumber) \u001b[38;5;129;01mor\u001b[39;00m \u001b[38;5;28mself\u001b[39m\u001b[38;5;241m.\u001b[39mC \u001b[38;5;241m<\u001b[39m \u001b[38;5;241m0\u001b[39m:\n\u001b[1;32m   1464\u001b[0m         \u001b[38;5;28;01mraise\u001b[39;00m \u001b[38;5;167;01mValueError\u001b[39;00m(\u001b[38;5;124m\"\u001b[39m\u001b[38;5;124mPenalty term must be positive; got (C=\u001b[39m\u001b[38;5;132;01m%r\u001b[39;00m\u001b[38;5;124m)\u001b[39m\u001b[38;5;124m\"\u001b[39m \u001b[38;5;241m%\u001b[39m \u001b[38;5;28mself\u001b[39m\u001b[38;5;241m.\u001b[39mC)\n",
      "File \u001b[0;32m~/opt/anaconda3/envs/py3_8_5/lib/python3.8/site-packages/sklearn/linear_model/_logistic.py:447\u001b[0m, in \u001b[0;36m_check_solver\u001b[0;34m(solver, penalty, dual)\u001b[0m\n\u001b[1;32m    441\u001b[0m     \u001b[38;5;28;01mraise\u001b[39;00m \u001b[38;5;167;01mValueError\u001b[39;00m(\n\u001b[1;32m    442\u001b[0m         \u001b[38;5;124m\"\u001b[39m\u001b[38;5;124mLogistic Regression supports only penalties in \u001b[39m\u001b[38;5;132;01m%s\u001b[39;00m\u001b[38;5;124m, got \u001b[39m\u001b[38;5;132;01m%s\u001b[39;00m\u001b[38;5;124m.\u001b[39m\u001b[38;5;124m\"\u001b[39m\n\u001b[1;32m    443\u001b[0m         \u001b[38;5;241m%\u001b[39m (all_penalties, penalty)\n\u001b[1;32m    444\u001b[0m     )\n\u001b[1;32m    446\u001b[0m \u001b[38;5;28;01mif\u001b[39;00m solver \u001b[38;5;129;01mnot\u001b[39;00m \u001b[38;5;129;01min\u001b[39;00m [\u001b[38;5;124m\"\u001b[39m\u001b[38;5;124mliblinear\u001b[39m\u001b[38;5;124m\"\u001b[39m, \u001b[38;5;124m\"\u001b[39m\u001b[38;5;124msaga\u001b[39m\u001b[38;5;124m\"\u001b[39m] \u001b[38;5;129;01mand\u001b[39;00m penalty \u001b[38;5;129;01mnot\u001b[39;00m \u001b[38;5;129;01min\u001b[39;00m (\u001b[38;5;124m\"\u001b[39m\u001b[38;5;124ml2\u001b[39m\u001b[38;5;124m\"\u001b[39m, \u001b[38;5;124m\"\u001b[39m\u001b[38;5;124mnone\u001b[39m\u001b[38;5;124m\"\u001b[39m):\n\u001b[0;32m--> 447\u001b[0m     \u001b[38;5;28;01mraise\u001b[39;00m \u001b[38;5;167;01mValueError\u001b[39;00m(\n\u001b[1;32m    448\u001b[0m         \u001b[38;5;124m\"\u001b[39m\u001b[38;5;124mSolver \u001b[39m\u001b[38;5;132;01m%s\u001b[39;00m\u001b[38;5;124m supports only \u001b[39m\u001b[38;5;124m'\u001b[39m\u001b[38;5;124ml2\u001b[39m\u001b[38;5;124m'\u001b[39m\u001b[38;5;124m or \u001b[39m\u001b[38;5;124m'\u001b[39m\u001b[38;5;124mnone\u001b[39m\u001b[38;5;124m'\u001b[39m\u001b[38;5;124m penalties, got \u001b[39m\u001b[38;5;132;01m%s\u001b[39;00m\u001b[38;5;124m penalty.\u001b[39m\u001b[38;5;124m\"\u001b[39m\n\u001b[1;32m    449\u001b[0m         \u001b[38;5;241m%\u001b[39m (solver, penalty)\n\u001b[1;32m    450\u001b[0m     )\n\u001b[1;32m    451\u001b[0m \u001b[38;5;28;01mif\u001b[39;00m solver \u001b[38;5;241m!=\u001b[39m \u001b[38;5;124m\"\u001b[39m\u001b[38;5;124mliblinear\u001b[39m\u001b[38;5;124m\"\u001b[39m \u001b[38;5;129;01mand\u001b[39;00m dual:\n\u001b[1;32m    452\u001b[0m     \u001b[38;5;28;01mraise\u001b[39;00m \u001b[38;5;167;01mValueError\u001b[39;00m(\n\u001b[1;32m    453\u001b[0m         \u001b[38;5;124m\"\u001b[39m\u001b[38;5;124mSolver \u001b[39m\u001b[38;5;132;01m%s\u001b[39;00m\u001b[38;5;124m supports only dual=False, got dual=\u001b[39m\u001b[38;5;132;01m%s\u001b[39;00m\u001b[38;5;124m\"\u001b[39m \u001b[38;5;241m%\u001b[39m (solver, dual)\n\u001b[1;32m    454\u001b[0m     )\n",
      "\u001b[0;31mValueError\u001b[0m: Solver lbfgs supports only 'l2' or 'none' penalties, got l1 penalty."
     ]
    }
   ],
   "source": [
    "from sklearn.linear_model import LogisticRegression       # 선형회귀 안에 로지스틱 리그레션이 들어있다.\n",
    "clf_lg_l1 = LogisticRegression(penalty = 'l1')            # 선형회귀와 마찬가지로 제약식을 적용할 수 있다. \n",
    "clf_lg_l1.fit(X_tn_std, y_tn)"
   ]
  },
  {
   "cell_type": "markdown",
   "id": "8f85fd1e",
   "metadata": {},
   "source": [
    "` ValueError: Solver lbfgs supports only 'l2' or 'none' penalties, got l1 penalty. `\n",
    "\n",
    "제약식은 없거나 L2만 이용할 수 있었다.\n",
    "\n",
    "그런 이유가 있는 것인가?\n",
    "\n",
    "```\n",
    "penalty : {'l1', 'l2', 'elasticnet', 'none'}, default='l2'\n",
    "    Specify the norm of the penalty:\n",
    "\n",
    "    - `'none'`: no penalty is added;\n",
    "    - `'l2'`: add a L2 penalty term and it is the default choice;\n",
    "    - `'l1'`: add a L1 penalty term;\n",
    "    - `'elasticnet'`: both L1 and L2 penalty terms are added.\n",
    "\n",
    "    .. warning::\n",
    "       Some penalties may not work with some solvers. See the parameter\n",
    "       `solver` below, to know the compatibility between the penalty and\n",
    "       solver.\n",
    "\n",
    "    .. versionadded:: 0.19\n",
    "       l1 penalty with SAGA solver (allowing 'multinomial' + L1)\n",
    "```\n",
    "\n",
    " 코드 설명을 좀 읽어보기로 했는데, 쓰는 것 자체가 잘못된 것은 아니다. 분명 책에서도 된다고 읽었으나 valueerror가 뜬 것을 보아하니... \n",
    " \n",
    " 데이터가 수식적으로 맞지 않는 경우인지도 모르겠다.\n",
    " \n",
    " 이해하고 싶었지만 지금 당장 이해할 수 있는 머리가 아니라는게 안타깝다. Solver가 L2와 none만 지원한다고 하니, 엘라스틱 넷은 해보나 마나인 것이었다."
   ]
  },
  {
   "cell_type": "code",
   "execution_count": 34,
   "id": "1be27692",
   "metadata": {
    "scrolled": true
   },
   "outputs": [
    {
     "ename": "ValueError",
     "evalue": "Solver lbfgs supports only 'l2' or 'none' penalties, got elasticnet penalty.",
     "output_type": "error",
     "traceback": [
      "\u001b[0;31m---------------------------------------------------------------------------\u001b[0m",
      "\u001b[0;31mValueError\u001b[0m                                Traceback (most recent call last)",
      "Input \u001b[0;32mIn [34]\u001b[0m, in \u001b[0;36m<cell line: 3>\u001b[0;34m()\u001b[0m\n\u001b[1;32m      1\u001b[0m \u001b[38;5;28;01mfrom\u001b[39;00m \u001b[38;5;21;01msklearn\u001b[39;00m\u001b[38;5;21;01m.\u001b[39;00m\u001b[38;5;21;01mlinear_model\u001b[39;00m \u001b[38;5;28;01mimport\u001b[39;00m LogisticRegression       \u001b[38;5;66;03m# 선형회귀 안에 로지스틱 리그레션이 들어있다.\u001b[39;00m\n\u001b[1;32m      2\u001b[0m clf_lg_ela \u001b[38;5;241m=\u001b[39m LogisticRegression(penalty \u001b[38;5;241m=\u001b[39m \u001b[38;5;124m'\u001b[39m\u001b[38;5;124melasticnet\u001b[39m\u001b[38;5;124m'\u001b[39m)            \u001b[38;5;66;03m# 선형회귀와 마찬가지로 제약식을 적용할 수 있다. \u001b[39;00m\n\u001b[0;32m----> 3\u001b[0m \u001b[43mclf_lg_ela\u001b[49m\u001b[38;5;241;43m.\u001b[39;49m\u001b[43mfit\u001b[49m\u001b[43m(\u001b[49m\u001b[43mX_tn_std\u001b[49m\u001b[43m,\u001b[49m\u001b[43m \u001b[49m\u001b[43my_tn\u001b[49m\u001b[43m)\u001b[49m\n",
      "File \u001b[0;32m~/opt/anaconda3/envs/py3_8_5/lib/python3.8/site-packages/sklearn/linear_model/_logistic.py:1461\u001b[0m, in \u001b[0;36mLogisticRegression.fit\u001b[0;34m(self, X, y, sample_weight)\u001b[0m\n\u001b[1;32m   1432\u001b[0m \u001b[38;5;28;01mdef\u001b[39;00m \u001b[38;5;21mfit\u001b[39m(\u001b[38;5;28mself\u001b[39m, X, y, sample_weight\u001b[38;5;241m=\u001b[39m\u001b[38;5;28;01mNone\u001b[39;00m):\n\u001b[1;32m   1433\u001b[0m     \u001b[38;5;124;03m\"\"\"\u001b[39;00m\n\u001b[1;32m   1434\u001b[0m \u001b[38;5;124;03m    Fit the model according to the given training data.\u001b[39;00m\n\u001b[1;32m   1435\u001b[0m \n\u001b[0;32m   (...)\u001b[0m\n\u001b[1;32m   1459\u001b[0m \u001b[38;5;124;03m    The SAGA solver supports both float64 and float32 bit arrays.\u001b[39;00m\n\u001b[1;32m   1460\u001b[0m \u001b[38;5;124;03m    \"\"\"\u001b[39;00m\n\u001b[0;32m-> 1461\u001b[0m     solver \u001b[38;5;241m=\u001b[39m \u001b[43m_check_solver\u001b[49m\u001b[43m(\u001b[49m\u001b[38;5;28;43mself\u001b[39;49m\u001b[38;5;241;43m.\u001b[39;49m\u001b[43msolver\u001b[49m\u001b[43m,\u001b[49m\u001b[43m \u001b[49m\u001b[38;5;28;43mself\u001b[39;49m\u001b[38;5;241;43m.\u001b[39;49m\u001b[43mpenalty\u001b[49m\u001b[43m,\u001b[49m\u001b[43m \u001b[49m\u001b[38;5;28;43mself\u001b[39;49m\u001b[38;5;241;43m.\u001b[39;49m\u001b[43mdual\u001b[49m\u001b[43m)\u001b[49m\n\u001b[1;32m   1463\u001b[0m     \u001b[38;5;28;01mif\u001b[39;00m \u001b[38;5;129;01mnot\u001b[39;00m \u001b[38;5;28misinstance\u001b[39m(\u001b[38;5;28mself\u001b[39m\u001b[38;5;241m.\u001b[39mC, numbers\u001b[38;5;241m.\u001b[39mNumber) \u001b[38;5;129;01mor\u001b[39;00m \u001b[38;5;28mself\u001b[39m\u001b[38;5;241m.\u001b[39mC \u001b[38;5;241m<\u001b[39m \u001b[38;5;241m0\u001b[39m:\n\u001b[1;32m   1464\u001b[0m         \u001b[38;5;28;01mraise\u001b[39;00m \u001b[38;5;167;01mValueError\u001b[39;00m(\u001b[38;5;124m\"\u001b[39m\u001b[38;5;124mPenalty term must be positive; got (C=\u001b[39m\u001b[38;5;132;01m%r\u001b[39;00m\u001b[38;5;124m)\u001b[39m\u001b[38;5;124m\"\u001b[39m \u001b[38;5;241m%\u001b[39m \u001b[38;5;28mself\u001b[39m\u001b[38;5;241m.\u001b[39mC)\n",
      "File \u001b[0;32m~/opt/anaconda3/envs/py3_8_5/lib/python3.8/site-packages/sklearn/linear_model/_logistic.py:447\u001b[0m, in \u001b[0;36m_check_solver\u001b[0;34m(solver, penalty, dual)\u001b[0m\n\u001b[1;32m    441\u001b[0m     \u001b[38;5;28;01mraise\u001b[39;00m \u001b[38;5;167;01mValueError\u001b[39;00m(\n\u001b[1;32m    442\u001b[0m         \u001b[38;5;124m\"\u001b[39m\u001b[38;5;124mLogistic Regression supports only penalties in \u001b[39m\u001b[38;5;132;01m%s\u001b[39;00m\u001b[38;5;124m, got \u001b[39m\u001b[38;5;132;01m%s\u001b[39;00m\u001b[38;5;124m.\u001b[39m\u001b[38;5;124m\"\u001b[39m\n\u001b[1;32m    443\u001b[0m         \u001b[38;5;241m%\u001b[39m (all_penalties, penalty)\n\u001b[1;32m    444\u001b[0m     )\n\u001b[1;32m    446\u001b[0m \u001b[38;5;28;01mif\u001b[39;00m solver \u001b[38;5;129;01mnot\u001b[39;00m \u001b[38;5;129;01min\u001b[39;00m [\u001b[38;5;124m\"\u001b[39m\u001b[38;5;124mliblinear\u001b[39m\u001b[38;5;124m\"\u001b[39m, \u001b[38;5;124m\"\u001b[39m\u001b[38;5;124msaga\u001b[39m\u001b[38;5;124m\"\u001b[39m] \u001b[38;5;129;01mand\u001b[39;00m penalty \u001b[38;5;129;01mnot\u001b[39;00m \u001b[38;5;129;01min\u001b[39;00m (\u001b[38;5;124m\"\u001b[39m\u001b[38;5;124ml2\u001b[39m\u001b[38;5;124m\"\u001b[39m, \u001b[38;5;124m\"\u001b[39m\u001b[38;5;124mnone\u001b[39m\u001b[38;5;124m\"\u001b[39m):\n\u001b[0;32m--> 447\u001b[0m     \u001b[38;5;28;01mraise\u001b[39;00m \u001b[38;5;167;01mValueError\u001b[39;00m(\n\u001b[1;32m    448\u001b[0m         \u001b[38;5;124m\"\u001b[39m\u001b[38;5;124mSolver \u001b[39m\u001b[38;5;132;01m%s\u001b[39;00m\u001b[38;5;124m supports only \u001b[39m\u001b[38;5;124m'\u001b[39m\u001b[38;5;124ml2\u001b[39m\u001b[38;5;124m'\u001b[39m\u001b[38;5;124m or \u001b[39m\u001b[38;5;124m'\u001b[39m\u001b[38;5;124mnone\u001b[39m\u001b[38;5;124m'\u001b[39m\u001b[38;5;124m penalties, got \u001b[39m\u001b[38;5;132;01m%s\u001b[39;00m\u001b[38;5;124m penalty.\u001b[39m\u001b[38;5;124m\"\u001b[39m\n\u001b[1;32m    449\u001b[0m         \u001b[38;5;241m%\u001b[39m (solver, penalty)\n\u001b[1;32m    450\u001b[0m     )\n\u001b[1;32m    451\u001b[0m \u001b[38;5;28;01mif\u001b[39;00m solver \u001b[38;5;241m!=\u001b[39m \u001b[38;5;124m\"\u001b[39m\u001b[38;5;124mliblinear\u001b[39m\u001b[38;5;124m\"\u001b[39m \u001b[38;5;129;01mand\u001b[39;00m dual:\n\u001b[1;32m    452\u001b[0m     \u001b[38;5;28;01mraise\u001b[39;00m \u001b[38;5;167;01mValueError\u001b[39;00m(\n\u001b[1;32m    453\u001b[0m         \u001b[38;5;124m\"\u001b[39m\u001b[38;5;124mSolver \u001b[39m\u001b[38;5;132;01m%s\u001b[39;00m\u001b[38;5;124m supports only dual=False, got dual=\u001b[39m\u001b[38;5;132;01m%s\u001b[39;00m\u001b[38;5;124m\"\u001b[39m \u001b[38;5;241m%\u001b[39m (solver, dual)\n\u001b[1;32m    454\u001b[0m     )\n",
      "\u001b[0;31mValueError\u001b[0m: Solver lbfgs supports only 'l2' or 'none' penalties, got elasticnet penalty."
     ]
    }
   ],
   "source": [
    "from sklearn.linear_model import LogisticRegression       # 선형회귀 안에 로지스틱 리그레션이 들어있다.\n",
    "clf_lg_ela = LogisticRegression(penalty = 'elasticnet')            # 선형회귀와 마찬가지로 제약식을 적용할 수 있다. \n",
    "clf_lg_ela.fit(X_tn_std, y_tn)"
   ]
  },
  {
   "cell_type": "markdown",
   "id": "85582e43",
   "metadata": {},
   "source": [
    "수식적으로 쉽게 이해할 수 있었으면 좋겠으나 선형회귀에 제약식을 만들어 다른 식으로 답을 찾도록 할 수 있다는 것만 알고 있는 상태인 것이 안타깝다.\n",
    "\n",
    "이해할 수 있는 날이 오기를 빌면서 로지스틱 회귀 분석 전체 코드만 정리를 하고 마쳐야 겠다.\n",
    "\n",
    "## 전체 코드"
   ]
  },
  {
   "cell_type": "code",
   "execution_count": null,
   "id": "47d80946",
   "metadata": {},
   "outputs": [],
   "source": [
    "from sklearn import datasets\n",
    "from sklearn.preprocessing import StandardScaler\n",
    "from sklearn.model_selection import train_test_split\n",
    "\n",
    "from sklearn.linear_model import LogisticRegression\n",
    "\n",
    "from sklearn.metrics import precision_score, confusion_matrix, classification_report\n",
    "\n",
    "# Data Load\n",
    "raw_cancer = datasets.load_breast_cancer()\n",
    "\n",
    "# feature, target data select\n",
    "X = raw_cancer.data\n",
    "y = raw_cancer.target\n",
    "\n",
    "# training data, test data division\n",
    "X_tn, X_te, y_tn, y_te = train_test_split(X, y, random_state = 1)\n",
    "\n",
    "# Data standardization for X\n",
    "std_scale = StandardScaler()\n",
    "std_scale.fit(X_tn)\n",
    "X_tn_std = std_scale.transform(X_tn)\n",
    "X_te_std = std_scale.transform(X_te)\n",
    "\n",
    "# Logistic Regression Analyzing (L2)\n",
    "clf_lg_l2 = LogisticRegression(penalty = 'l2') # penalty default is 'l2'\n",
    "clf_lg_l2.fit(X_tn_std, y_tn)\n",
    "\n",
    "# w, b(추정계수, 상수항) 출력\n",
    "print(clf_lg_l2.coef_)\n",
    "print(clf_lg_l2.intercept_)\n",
    "\n",
    "# predict y\n",
    "lg_l2_pred = clf_lg_l2.predict(X_te_std)\n",
    "print(lg_l2_pred)\n",
    "\n",
    "# prediction probability \n",
    "pred_probability_l2 = clf_lg_l2.predict_proba(X_te_std)\n",
    "print(pred_probability_l2)\n",
    "\n",
    "# precision \n",
    "precision = precision_score(y_te, lg_l2_pred)\n",
    "print(precision)\n",
    "\n",
    "# confusion matrix\n",
    "conf_mat = confusion_matrix(y_te, lg_l2_pred)\n",
    "print(conf_mat)\n",
    "\n",
    "# classification report\n",
    "class_report = classification_report(y_te, lg_l2_pred)\n",
    "print(class_report)"
   ]
  }
 ],
 "metadata": {
  "kernelspec": {
   "display_name": "Python 3 (ipykernel)",
   "language": "python",
   "name": "python3"
  },
  "language_info": {
   "codemirror_mode": {
    "name": "ipython",
    "version": 3
   },
   "file_extension": ".py",
   "mimetype": "text/x-python",
   "name": "python",
   "nbconvert_exporter": "python",
   "pygments_lexer": "ipython3",
   "version": "3.8.5"
  },
  "toc": {
   "base_numbering": 1,
   "nav_menu": {},
   "number_sections": true,
   "sideBar": true,
   "skip_h1_title": false,
   "title_cell": "Table of Contents",
   "title_sidebar": "Contents",
   "toc_cell": false,
   "toc_position": {
    "height": "calc(100% - 180px)",
    "left": "10px",
    "top": "150px",
    "width": "383.984px"
   },
   "toc_section_display": true,
   "toc_window_display": true
  }
 },
 "nbformat": 4,
 "nbformat_minor": 5
}

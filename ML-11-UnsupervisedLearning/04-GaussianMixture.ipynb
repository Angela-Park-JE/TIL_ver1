{
 "cells": [
  {
   "cell_type": "markdown",
   "id": "dee0e18b",
   "metadata": {},
   "source": [
    "# 가우시안 혼합 모델 실습\n",
    "\n",
    "\n",
    "\n",
    "> 장점: 다양한 분야에 적용할 수 있음\n",
    "\n",
    "> 단점: n_components(클러스터 개수)정해주어야 함, 지역 최적화(local optimization-국지적 적합) 문제, EM 알고리즘의 로그가능도 함수의 값 수렴속도 느림\n",
    "\n",
    "\n",
    "\n",
    "---\n",
    "\n",
    "평가는 군집 모델 성능 평가에 쓰이는 실루엣 스코어를 사용한다.\n",
    "\n",
    "##### 11.5.3 임의로 데이터를 생성하여 클러스터링 해보는 실습."
   ]
  },
  {
   "cell_type": "markdown",
   "id": "29cf1d3d",
   "metadata": {},
   "source": [
    "# Data generating\n",
    "## 임의 데이터 생성"
   ]
  },
  {
   "cell_type": "code",
   "execution_count": 18,
   "id": "2c5392dd",
   "metadata": {},
   "outputs": [],
   "source": [
    "from sklearn.datasets import make_blobs  # 임의 뭉치 데이터 생성\n",
    "\n",
    "X, y = make_blobs(n_samples = 200,       # 200개, 2개 피처, 2개 센터\n",
    "                  n_features = 2,\n",
    "                  centers = 2, \n",
    "                  random_state = 2)"
   ]
  },
  {
   "cell_type": "markdown",
   "id": "a539338e",
   "metadata": {},
   "source": [
    "## 생성된 데이터 차원 확인"
   ]
  },
  {
   "cell_type": "code",
   "execution_count": 19,
   "id": "ccf2849e",
   "metadata": {},
   "outputs": [
    {
     "name": "stdout",
     "output_type": "stream",
     "text": [
      "(200, 2)\n",
      "(200,)\n"
     ]
    }
   ],
   "source": [
    "print(X.shape)\n",
    "print(y.shape)"
   ]
  },
  {
   "cell_type": "markdown",
   "id": "25374979",
   "metadata": {},
   "source": [
    "피처 데이터는 2차원 데이터 200개가 생성되어있다. 타깃 데이터의 차원은 1차원 데이터가 200개 생성되어있는 상태. (200행 1열)"
   ]
  },
  {
   "cell_type": "markdown",
   "id": "c15709e7",
   "metadata": {},
   "source": [
    "## unlabeled data plot"
   ]
  },
  {
   "cell_type": "code",
   "execution_count": 20,
   "id": "db5b846d",
   "metadata": {},
   "outputs": [
    {
     "data": {
      "image/png": "[encoded data removed]",
      "text/plain": [
       "<Figure size 432x288 with 1 Axes>"
      ]
     },
     "metadata": {
      "needs_background": "light"
     },
     "output_type": "display_data"
    }
   ],
   "source": [
    "import matplotlib.pyplot as plt\n",
    "plt.scatter(X[:,0], X[:,1],       # 피처 1과 2가 각각 x, y축으로 스캐터플롯 그리기\n",
    "           c = 'gray',\n",
    "           edgecolor = 'black',\n",
    "           marker = 'o')\n",
    "plt.show()"
   ]
  },
  {
   "cell_type": "markdown",
   "id": "d44588bc",
   "metadata": {},
   "source": [
    "# Gaussian Mixture\n",
    "## clustering"
   ]
  },
  {
   "cell_type": "code",
   "execution_count": 24,
   "id": "9dbfb5a7",
   "metadata": {},
   "outputs": [],
   "source": [
    "from sklearn.mixture import GaussianMixture\n",
    "\n",
    "gmm = GaussianMixture(n_components = 2, random_state = 0)\n",
    "gmm.fit(X)\n",
    "label_gmm = gmm.predict(X)"
   ]
  },
  {
   "cell_type": "code",
   "execution_count": 25,
   "id": "e2dbc1a6",
   "metadata": {},
   "outputs": [
    {
     "data": {
      "text/plain": [
       "array([1, 0, 1, 1, 0, 1, 0, 0, 1, 0, 1, 0, 0, 1, 0, 1, 1, 1, 1, 1, 1, 0,\n",
       "       1, 1, 1, 1, 0, 1, 1, 0, 0, 0, 1, 0, 0, 1, 0, 1, 1, 0, 1, 0, 1, 1,\n",
       "       0, 0, 0, 0, 0, 1, 0, 1, 0, 0, 1, 1, 1, 0, 1, 0, 1, 0, 1, 0, 0, 1,\n",
       "       0, 0, 1, 1, 1, 0, 0, 1, 0, 1, 1, 1, 1, 0, 1, 0, 0, 0, 0, 1, 1, 0,\n",
       "       1, 1, 0, 0, 0, 0, 1, 0, 1, 1, 1, 0, 0, 1, 0, 0, 1, 0, 0, 0, 1, 0,\n",
       "       0, 1, 1, 1, 1, 0, 1, 1, 1, 1, 1, 1, 0, 0, 0, 1, 0, 0, 1, 1, 1, 0,\n",
       "       0, 1, 0, 0, 0, 0, 1, 1, 0, 1, 1, 0, 0, 0, 0, 1, 1, 0, 1, 0, 1, 1,\n",
       "       0, 0, 1, 1, 0, 0, 1, 1, 1, 0, 0, 1, 1, 0, 0, 1, 1, 0, 0, 0, 0, 0,\n",
       "       1, 1, 0, 1, 0, 1, 0, 1, 1, 0, 0, 1, 0, 0, 1, 1, 0, 1, 1, 0, 0, 0,\n",
       "       1, 0])"
      ]
     },
     "execution_count": 25,
     "metadata": {},
     "output_type": "execute_result"
    }
   ],
   "source": [
    "# 각 데이터 포인트가 어디에 속하게 되었는지 확인\n",
    "\n",
    "label_gmm"
   ]
  },
  {
   "cell_type": "markdown",
   "id": "c4c34429",
   "metadata": {},
   "source": [
    "## to data frame"
   ]
  },
  {
   "cell_type": "code",
   "execution_count": 26,
   "id": "1c50cb85",
   "metadata": {},
   "outputs": [
    {
     "data": {
      "text/html": [
       "<div>\n",
       "<style scoped>\n",
       "    .dataframe tbody tr th:only-of-type {\n",
       "        vertical-align: middle;\n",
       "    }\n",
       "\n",
       "    .dataframe tbody tr th {\n",
       "        vertical-align: top;\n",
       "    }\n",
       "\n",
       "    .dataframe thead th {\n",
       "        text-align: right;\n",
       "    }\n",
       "</style>\n",
       "<table border=\"1\" class=\"dataframe\">\n",
       "  <thead>\n",
       "    <tr style=\"text-align: right;\">\n",
       "      <th></th>\n",
       "      <th>gmm_comp1</th>\n",
       "      <th>gmm_comp2</th>\n",
       "      <th>target</th>\n",
       "      <th>label_gmm</th>\n",
       "    </tr>\n",
       "  </thead>\n",
       "  <tbody>\n",
       "    <tr>\n",
       "      <th>0</th>\n",
       "      <td>0.381155</td>\n",
       "      <td>-1.644815</td>\n",
       "      <td>1</td>\n",
       "      <td>1</td>\n",
       "    </tr>\n",
       "    <tr>\n",
       "      <th>1</th>\n",
       "      <td>-0.583904</td>\n",
       "      <td>-8.784059</td>\n",
       "      <td>0</td>\n",
       "      <td>0</td>\n",
       "    </tr>\n",
       "    <tr>\n",
       "      <th>2</th>\n",
       "      <td>1.830865</td>\n",
       "      <td>-1.425235</td>\n",
       "      <td>1</td>\n",
       "      <td>1</td>\n",
       "    </tr>\n",
       "    <tr>\n",
       "      <th>3</th>\n",
       "      <td>1.813135</td>\n",
       "      <td>-1.924671</td>\n",
       "      <td>1</td>\n",
       "      <td>1</td>\n",
       "    </tr>\n",
       "    <tr>\n",
       "      <th>4</th>\n",
       "      <td>-1.655771</td>\n",
       "      <td>-9.555946</td>\n",
       "      <td>0</td>\n",
       "      <td>0</td>\n",
       "    </tr>\n",
       "  </tbody>\n",
       "</table>\n",
       "</div>"
      ],
      "text/plain": [
       "   gmm_comp1  gmm_comp2  target  label_gmm\n",
       "0   0.381155  -1.644815       1          1\n",
       "1  -0.583904  -8.784059       0          0\n",
       "2   1.830865  -1.425235       1          1\n",
       "3   1.813135  -1.924671       1          1\n",
       "4  -1.655771  -9.555946       0          0"
      ]
     },
     "execution_count": 26,
     "metadata": {},
     "output_type": "execute_result"
    }
   ],
   "source": [
    "# 시각화를 위해 데이터 프레임으로 만들어준다\n",
    "import pandas as pd\n",
    "\n",
    "gmm_columns = ['gmm_comp1', 'gmm_comp2']           # 피처 이름 \n",
    "X_gmm_df = pd.DataFrame(X, columns = gmm_columns)  # 데이터 프레임 생성\n",
    "X_gmm_df['target'] = y                             # 정답에 해당하는 데이터를 새로운 열로 추가\n",
    "X_gmm_df['label_gmm'] = label_gmm                  # 클러스터링하여 정해진 라벨을 열에 추가\n",
    "X_gmm_df.head(5)"
   ]
  },
  {
   "cell_type": "code",
   "execution_count": 28,
   "id": "d3afecaf",
   "metadata": {},
   "outputs": [
    {
     "name": "stdout",
     "output_type": "stream",
     "text": [
      "{0, 1}\n",
      "{0, 1}\n"
     ]
    }
   ],
   "source": [
    "# 타깃 데이터의 이름 checking : 0, 1 \n",
    "# set 함수는 python에서 데이터 리스트에서 유일값만 보여주는 함수 : set이라는 클래스로 출력된다.\n",
    "print(set(X_gmm_df['target']))\n",
    "\n",
    "# dbs 군집의 이름을 확인\n",
    "print(set(X_gmm_df['label_gmm']))"
   ]
  },
  {
   "cell_type": "markdown",
   "id": "8f76a9dc",
   "metadata": {},
   "source": [
    "각각 0과 1로 라벨링이 되어있다. 구분한다는 의미에서는 차이가 없기 때문에 순서나 0,1 수 자체는 상관 없다.\n",
    "\n",
    "## 가우시안 혼합 모형 클러스터링 결과 시각화: 데이터 플롯"
   ]
  },
  {
   "cell_type": "code",
   "execution_count": 30,
   "id": "e52fcef7",
   "metadata": {},
   "outputs": [
    {
     "data": {
      "image/png": "[encoded data removed]",
      "text/plain": [
       "<Figure size 432x288 with 1 Axes>"
      ]
     },
     "metadata": {
      "needs_background": "light"
     },
     "output_type": "display_data"
    }
   ],
   "source": [
    "df = X_gmm_df\n",
    "markers = ['o', 'x']   # marker 리스트!\n",
    "\n",
    "for i, mark in enumerate(markers):    # 2개 클러스터로 2개 마커 각각 대응되도록 정해준다.\n",
    "    df_i = df[df['label_gmm'] == i]   # 라벨이 i인 클러스터 데이터들만 데리고\n",
    "    target_i = i                      # 타깃 이름\n",
    "    X1 = df_i['gmm_comp1']            # 각각 x축과 y축이 될 것\n",
    "    X2 = df_i['gmm_comp2']\n",
    "    plt.scatter(X1, X2, marker = mark, label = target_i) # 위의 정보들로 산점도를 그린다. 라벨은 각 i가 될 것\n",
    "\n",
    "plt.xlabel('gmm_composition1')\n",
    "plt.ylabel('gmm_composition2')\n",
    "plt.legend()\n",
    "plt.show()"
   ]
  },
  {
   "cell_type": "markdown",
   "id": "e94c92f2",
   "metadata": {},
   "source": [
    "## 실제 타깃 플롯\n",
    "\n",
    "실제 타깃 데이터(정답 데이터)를 이용한 플롯을 확인한다."
   ]
  },
  {
   "cell_type": "code",
   "execution_count": 32,
   "id": "b447f9a2",
   "metadata": {},
   "outputs": [
    {
     "data": {
      "image/png": "[encoded data removed]",
      "text/plain": [
       "<Figure size 432x288 with 1 Axes>"
      ]
     },
     "metadata": {
      "needs_background": "light"
     },
     "output_type": "display_data"
    }
   ],
   "source": [
    "df = X_gmm_df\n",
    "markers = ['o', 'x']   # marker 리스트!\n",
    "\n",
    "for i, mark in enumerate(markers):    # 2개 클러스터로 2개 마커 각각 대응되도록 정해준다.\n",
    "    df_i = df[df['target'] == i]      # 라벨이 i인 클러스터 데이터들만 데리고\n",
    "    target_i = i                      # 타깃 이름\n",
    "    X1 = df_i['gmm_comp1']            # 각각 x축과 y축이 될 것\n",
    "    X2 = df_i['gmm_comp2']\n",
    "    plt.scatter(X1, X2, marker = mark, label = target_i) # 위의 정보들로 산점도를 그린다. 라벨은 각 i가 될 것\n",
    "\n",
    "plt.xlabel('gmm_composition1')\n",
    "plt.ylabel('gmm_composition2')\n",
    "plt.legend()\n",
    "plt.show()"
   ]
  },
  {
   "cell_type": "markdown",
   "id": "09940284",
   "metadata": {},
   "source": [
    "\n",
    "# 모형 평가\n",
    "\n",
    "클러스터링 모형 평가는 실루엣 스코어 함수를 사용한다. \n",
    "\n",
    "값은 피처 값과 모형을 통해 만들어진 라벨링 값을 넣어준다."
   ]
  },
  {
   "cell_type": "code",
   "execution_count": 33,
   "id": "617b0253",
   "metadata": {},
   "outputs": [
    {
     "name": "stdout",
     "output_type": "stream",
     "text": [
      "0.7842908753561848\n"
     ]
    }
   ],
   "source": [
    "from sklearn.metrics import silhouette_score\n",
    "\n",
    "sil_score = silhouette_score(X, label_gmm)\n",
    "print(sil_score)"
   ]
  },
  {
   "cell_type": "markdown",
   "id": "a48d78f9",
   "metadata": {},
   "source": [
    "### Commentary\n",
    "\n",
    "꽤 정확한 결과인 것으로 보인다.\n"
   ]
  }
 ],
 "metadata": {
  "kernelspec": {
   "display_name": "Python 3 (ipykernel)",
   "language": "python",
   "name": "python3"
  },
  "language_info": {
   "codemirror_mode": {
    "name": "ipython",
    "version": 3
   },
   "file_extension": ".py",
   "mimetype": "text/x-python",
   "name": "python",
   "nbconvert_exporter": "python",
   "pygments_lexer": "ipython3",
   "version": "3.8.5"
  },
  "toc": {
   "base_numbering": 1,
   "nav_menu": {},
   "number_sections": true,
   "sideBar": true,
   "skip_h1_title": false,
   "title_cell": "Table of Contents",
   "title_sidebar": "Contents",
   "toc_cell": false,
   "toc_position": {
    "height": "calc(100% - 180px)",
    "left": "10px",
    "top": "150px",
    "width": "383.984px"
   },
   "toc_section_display": true,
   "toc_window_display": true
  }
 },
 "nbformat": 4,
 "nbformat_minor": 5
}

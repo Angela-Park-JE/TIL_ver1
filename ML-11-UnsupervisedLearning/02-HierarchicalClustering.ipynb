{
 "cells": [
  {
   "cell_type": "markdown",
   "id": "dee0e18b",
   "metadata": {},
   "source": [
    "# 병합 계층 클러스터링 실습\n",
    "\n",
    "**agglomerative hierarchical clustering**\n",
    "\n",
    "\n",
    "데이터 간 계층을 기반으로 데이터 간 병합 또는 분할을 통해 해당 데이터 포인트가 속할 그룹을 결정한다.\n",
    "\n",
    "병합 계층 클러스터링은 개별 데이터 포인트를 하나의 클러스터로 설정하고 시작하여, 클러스터 간 유사도가 높을 경우에 두 개의 클러스터를 하나의 클러스터로 합치는 과정을 하나의 클러스터링이 될 때까지 반복한다.\n",
    "\n",
    "분할 계층 클러스터링은 전체 데이터 셋을 하나의 클러스터로 놓고 시작하여, 가장 멀리 떨어진 데이터를 다른 클러스터로 분리하는 방법.\n",
    "\n",
    "~~사실 제대로 이해 안가는 부분도 많아서 우선 실습만 하려고 한다. 갈길이 멀어~~\n",
    "\n",
    "##### 장점\n",
    "계층 클러스터링은 덴드로그램을 통해 시각화 할 수 있다.  각 레벨에서 데이터가 어떻게 분리되는지 시각적으로 확인할 수 있다.\n",
    "\n",
    "클러스터 개수를 미리 지정할 필요가 없다는 장점이 있다.\n",
    "\n",
    "##### 알고리즘\n",
    "\n",
    "1. 각 데이터 포인트를 개별 클러스터로 설정하여 데이터 개수만큼 클러스터를 설정해둔다. 그리고 각 데이터 간 거리 행렬 $D_{n \\times n}$을 계산한ㄷ.\n",
    "2. 거리 행렬 $D$에서 가장 가까운 클러스터 쌍을 찾는다. $min_{i,j} \\{ d_{ij} \\} $ 을 찾는다.\n",
    "3. 2에서 찾은 가장 가까운 클러스터 쌍을 하나의 클러스터로 합친다. $u, v$ 라면 새로운 클러스터 $(uv)$ 를 만든다.\n",
    "4. 새로운 클러스터에 대하여 행과 열을 추가하겨 기존의 $u, v$ 에 관한 행과 열은 삭제한다. \n",
    "        (1) 단일 연결: $ d_{(uv)w} = \\min \\{ d_{uw}, d_{vw} \\} $\n",
    "        (2) 완전 연결: $ d_{(uv)w} = \\max \\{ d_{uw}, d_{vw} \\} $\n",
    "5. 클러스터가 1개가 될 때까지 2-4단계를 반복하며, 반복횟수는 $n-1$번이 된다.\n",
    "\n",
    "\n",
    "\n",
    "##### 11.3.5 임의로 데이터를 생성하여 클러스터링 해보는 실습."
   ]
  },
  {
   "cell_type": "markdown",
   "id": "29cf1d3d",
   "metadata": {},
   "source": [
    "# Data generating\n",
    "## 임의 데이터 생성"
   ]
  },
  {
   "cell_type": "code",
   "execution_count": 1,
   "id": "2c5392dd",
   "metadata": {},
   "outputs": [],
   "source": [
    "from sklearn.datasets import make_blobs\n",
    "\n",
    "X, y = make_blobs(n_samples = 10,     # 10개, 피처의 개수는 2\n",
    "                 n_features = 2,\n",
    "                 random_state = 0)"
   ]
  },
  {
   "cell_type": "markdown",
   "id": "a539338e",
   "metadata": {},
   "source": [
    "## 생성된 데이터 차원 확인"
   ]
  },
  {
   "cell_type": "code",
   "execution_count": 2,
   "id": "ccf2849e",
   "metadata": {},
   "outputs": [
    {
     "name": "stdout",
     "output_type": "stream",
     "text": [
      "(10, 2)\n",
      "(10,)\n"
     ]
    }
   ],
   "source": [
    "print(X.shape)\n",
    "print(y.shape)"
   ]
  },
  {
   "cell_type": "markdown",
   "id": "25374979",
   "metadata": {},
   "source": [
    "피처 데이터는 2차원 데이터 10개가 생성되어있다. 타깃 데이터의 차원은 1차원 데이터가 10개 생성되어있는 상태. (10행 1열)"
   ]
  },
  {
   "cell_type": "markdown",
   "id": "b1dd7de7",
   "metadata": {},
   "source": [
    "# 병합 계층 클러스터링\n",
    "\n",
    "병합 계층 클러스터링 알고리즘을 통해 군집화를 진행해보도록 한다.\n",
    "\n",
    "## 하나의 클러스터로 군집\n",
    "\n",
    "    클러스터로 병합하지 않고, 각 데이터 포인트가 하나의 클러스터로 병합되는 것을 보기 위해서 n_clusters = None 으로 설정한다.\n",
    "    이때 n_clusters = None 으로 설정하기 위해서는 distnace_threshold = 0 이라는 옵션이 필요하다.\n",
    "    또한 연결방법은 완전 연결방법인 linkage = 'complete' 로 설정한다.\n",
    "    \n",
    "모형을 적합하고 예측값을 구해야하는데 AgglomerativeClustering은 .predict 함수를 따로 제공하지 않고 fit_predict(적합 후 예측) 를 사용한다."
   ]
  },
  {
   "cell_type": "code",
   "execution_count": 3,
   "id": "9883a6ab",
   "metadata": {},
   "outputs": [
    {
     "name": "stdout",
     "output_type": "stream",
     "text": [
      "[8 9 6 4 5 2 7 3 1 0]\n"
     ]
    }
   ],
   "source": [
    "from sklearn.cluster import AgglomerativeClustering\n",
    "\n",
    "# 하나의 클러스터가 되는 과정을 볼 것\n",
    "aggc = AgglomerativeClustering(n_clusters = None,     # n_clusters = 구하려는 클러스터 개수\n",
    "                              distance_threshold = 0, \n",
    "                              linkage = 'complete')\n",
    "label_aggc = aggc.fit_predict(X)\n",
    "\n",
    "# 데이터 포인트들의 label after aggc \n",
    "print(label_aggc)"
   ]
  },
  {
   "cell_type": "markdown",
   "id": "e2293230",
   "metadata": {},
   "source": [
    "## 두 개의 클러스터로 군집\n",
    "\n",
    "이번에는 두 개의 클러스터로 묶어본다."
   ]
  },
  {
   "cell_type": "code",
   "execution_count": 4,
   "id": "3bd69d25",
   "metadata": {},
   "outputs": [
    {
     "name": "stdout",
     "output_type": "stream",
     "text": [
      "[0 0 0 0 0 0 1 0 0 0]\n"
     ]
    }
   ],
   "source": [
    "# 두 개의 클러스터가 되는 과정을 볼 것\n",
    "aggc2 = AgglomerativeClustering(n_clusters = 2,     # n_clusters = 구하려는 클러스터 개수\n",
    "                              linkage = 'complete')\n",
    "label_aggc2 = aggc2.fit_predict(X)\n",
    "\n",
    "# 데이터 포인트들의 label after aggc2 \n",
    "print(label_aggc2)"
   ]
  },
  {
   "cell_type": "markdown",
   "id": "af0261e1",
   "metadata": {},
   "source": [
    "## 세 개의 클러스터로 군집\n",
    "\n",
    "이번은 세 개의 클러스터로 묶어본다."
   ]
  },
  {
   "cell_type": "code",
   "execution_count": 5,
   "id": "0d892e31",
   "metadata": {},
   "outputs": [
    {
     "name": "stdout",
     "output_type": "stream",
     "text": [
      "[0 0 2 0 0 0 1 2 2 0]\n"
     ]
    }
   ],
   "source": [
    "# 세 개의 클러스터가 되는 과정을 볼 것\n",
    "aggc3 = AgglomerativeClustering(n_clusters = 3,     # n_clusters = 구하려는 클러스터 개수\n",
    "                              linkage = 'complete')\n",
    "label_aggc3 = aggc3.fit_predict(X)\n",
    "\n",
    "# 데이터 포인트들의 label after aggc3\n",
    "print(label_aggc3)"
   ]
  },
  {
   "cell_type": "markdown",
   "id": "036ffbf4",
   "metadata": {},
   "source": [
    "# 덴드로그램 시각화"
   ]
  },
  {
   "cell_type": "code",
   "execution_count": 6,
   "id": "def388ee",
   "metadata": {},
   "outputs": [
    {
     "data": {
      "image/png": "[encoded data removed]",
      "text/plain": [
       "<Figure size 432x288 with 1 Axes>"
      ]
     },
     "metadata": {
      "needs_background": "light"
     },
     "output_type": "display_data"
    }
   ],
   "source": [
    "from scipy.cluster.hierarchy import dendrogram   # sklearn에서 제공하지 않아서 사이파이 사용\n",
    "from scipy.cluster.hierarchy import linkage\n",
    "import matplotlib.pyplot as plt\n",
    "\n",
    "linked = linkage(X, 'complete')                  # linkage 함수로 데이터를 연결, 연결 방법은 완전 연결 \n",
    "labels1 = label_aggc                             # 데이터 라벨\n",
    "\n",
    "dendrogram(linked,                               # 각 데이터 포인트의 라벨은 클러스터 개수를 지정하지 않았던 아이로\n",
    "          orientation = 'top',\n",
    "          labels = labels1,                      # 이 라벨을 기준으로 덴드로그램 그림\n",
    "          show_leaf_counts = True)\n",
    "plt.show()"
   ]
  },
  {
   "cell_type": "markdown",
   "id": "3fff8658",
   "metadata": {},
   "source": [
    "## 두 개로 클러스터링 한 것 시각화\n",
    "\n",
    "실습엔 따로 없지만 진행해본다."
   ]
  },
  {
   "cell_type": "code",
   "execution_count": 7,
   "id": "b912a7f1",
   "metadata": {},
   "outputs": [
    {
     "data": {
      "image/png": "[encoded data removed]",
      "text/plain": [
       "<Figure size 432x288 with 1 Axes>"
      ]
     },
     "metadata": {
      "needs_background": "light"
     },
     "output_type": "display_data"
    }
   ],
   "source": [
    "linked = linkage(X, 'complete')                  # linkage 함수로 데이터를 연결, 연결 방법은 완전 연결 \n",
    "labels2 = label_aggc2                            # 데이터 라벨\n",
    "\n",
    "dendrogram(linked,                               # 각 데이터 포인트의 라벨은 클러스터 개수를 지정하지 않았던 아이로\n",
    "          orientation = 'top',\n",
    "          labels = labels2,                      # 이 라벨을 기준으로 덴드로그램 그림\n",
    "          show_leaf_counts = True)\n",
    "plt.show()"
   ]
  },
  {
   "cell_type": "markdown",
   "id": "58489893",
   "metadata": {},
   "source": [
    "그림은 똑같다. 방식은 같게 되지만 1이 0과는 완전히 따로 분류되어서, 조금씩 묶이는 주황선과 초록선과 달리 분리되어있다.\n",
    "\n",
    "## 세 개로 클러스터링 한 것 시각화"
   ]
  },
  {
   "cell_type": "code",
   "execution_count": 8,
   "id": "33ef6404",
   "metadata": {},
   "outputs": [
    {
     "data": {
      "image/png": "[encoded data removed]",
      "text/plain": [
       "<Figure size 432x288 with 1 Axes>"
      ]
     },
     "metadata": {
      "needs_background": "light"
     },
     "output_type": "display_data"
    }
   ],
   "source": [
    "linked = linkage(X, 'complete')                  # linkage 함수로 데이터를 연결, 연결 방법은 완전 연결 \n",
    "labels3 = label_aggc3                            # 데이터 라벨\n",
    "\n",
    "dendrogram(linked,                               # 각 데이터 포인트의 라벨은 클러스터 개수를 지정하지 않았던 아이로\n",
    "          orientation = 'top',\n",
    "          labels = labels3,                      # 이 라벨을 기준으로 덴드로그램 그림\n",
    "          show_leaf_counts = True)\n",
    "plt.show()"
   ]
  },
  {
   "cell_type": "markdown",
   "id": "e3a0174a",
   "metadata": {},
   "source": [
    "세 개의 라벨이기 때문에 0, 1, 2로 나뉘는데 2가 따로 되어있는 것을 잘 볼 수 있었다!"
   ]
  }
 ],
 "metadata": {
  "kernelspec": {
   "display_name": "Python 3 (ipykernel)",
   "language": "python",
   "name": "python3"
  },
  "language_info": {
   "codemirror_mode": {
    "name": "ipython",
    "version": 3
   },
   "file_extension": ".py",
   "mimetype": "text/x-python",
   "name": "python",
   "nbconvert_exporter": "python",
   "pygments_lexer": "ipython3",
   "version": "3.8.5"
  },
  "toc": {
   "base_numbering": 1,
   "nav_menu": {},
   "number_sections": true,
   "sideBar": true,
   "skip_h1_title": false,
   "title_cell": "Table of Contents",
   "title_sidebar": "Contents",
   "toc_cell": false,
   "toc_position": {
    "height": "calc(100% - 180px)",
    "left": "10px",
    "top": "150px",
    "width": "383.984px"
   },
   "toc_section_display": true,
   "toc_window_display": true
  }
 },
 "nbformat": 4,
 "nbformat_minor": 5
}

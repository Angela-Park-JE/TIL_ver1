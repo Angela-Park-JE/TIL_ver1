{
 "cells": [
  {
   "cell_type": "markdown",
   "id": "dee0e18b",
   "metadata": {},
   "source": [
    "# 병합 계층 클러스터링 실습\n",
    "\n",
    "**agglomerative hierarchical clustering**\n",
    "\n",
    "\n",
    "데이터 간 계층을 기반으로 데이터 간 병합 또는 분할을 통해 해당 데이터 포인트가 속할 그룹을 결정한다.\n",
    "\n",
    "병합 계층 클러스터링은 개별 데이터 포인트를 하나의 클러스터로 설정하고 시작하여, 클러스터 간 유사도가 높을 경우에 두 개의 클러스터를 하나의 클러스터로 합치는 과정을 하나의 클러스터링이 될 때까지 반복한다.\n",
    "\n",
    "분할 계층 클러스터링은 전체 데이터 셋을 하나의 클러스터로 놓고 시작하여, 가장 멀리 떨어진 데이터를 다른 클러스터로 분리하는 방법.\n",
    "\n",
    "\n",
    "##### 장점\n",
    "계층 클러스터링은 덴드로그램을 통해 시각화 할 수 있다.  각 레벨에서 데이터가 어떻게 분리되는지 시각적으로 확인할 수 있다.\n",
    "\n",
    "클러스터 개수를 미리 지정할 필요가 없다는 장점이 있다.\n",
    "\n",
    "##### 알고리즘\n",
    "\n",
    "1. 각 데이터 포인트를 개별 클러스터로 설정하여 데이터 개수만큼 클러스터를 설정해둔다. 그리고 각 데이터 간 거리 행렬 $D_{n \\times n}$을 계산한ㄷ.\n",
    "2. 거리 행렬 $D$에서 가장 가까운 클러스터 쌍을 찾는다. $min_{i,j} \\{ d_{ij} \\} $ 을 찾는다.\n",
    "3. 2에서 찾은 가장 가까운 클러스터 쌍을 하나의 클러스터로 합친다. $u, v$ 라면 새로운 클러스터 $(uv)$ 를 만든다.\n",
    "4. 새로운 클러스터에 대하여 행과 열을 추가하겨 기존의 $u, v$ 에 관한 행과 열은 삭제한다. \n",
    "        (1) 단일 연결: $ d_{(uv)w} = \\min \\{ d_{uw}, d_{vw} \\} $\n",
    "        (2) 완전 연결: $ d_{(uv)w} = \\max \\{ d_{uw}, d_{vw} \\} $\n",
    "5. 클러스터가 1개가 될 때까지 2-4단계를 반복하며, 반복횟수는 $n-1$번이 된다.\n",
    "\n",
    "\n",
    "\n",
    "##### 11.3.5 임의로 데이터를 생성하여 클러스터링 해보는 실습."
   ]
  },
  {
   "cell_type": "markdown",
   "id": "29cf1d3d",
   "metadata": {},
   "source": [
    "# Data generating\n",
    "## 임의 데이터 생성"
   ]
  },
  {
   "cell_type": "code",
   "execution_count": 1,
   "id": "2c5392dd",
   "metadata": {},
   "outputs": [],
   "source": [
    "from sklearn.datasets import make_blobs\n",
    "\n",
    "X, y = make_blobs(n_samples = 10,     # 10개, 피처의 개수는 2\n",
    "                 n_features = 2,\n",
    "                 random_state = 0)"
   ]
  },
  {
   "cell_type": "markdown",
   "id": "a539338e",
   "metadata": {},
   "source": [
    "## 생성된 데이터 차원 확인"
   ]
  },
  {
   "cell_type": "code",
   "execution_count": 2,
   "id": "ccf2849e",
   "metadata": {},
   "outputs": [
    {
     "name": "stdout",
     "output_type": "stream",
     "text": [
      "(10, 2)\n",
      "(10,)\n"
     ]
    }
   ],
   "source": [
    "print(X.shape)\n",
    "print(y.shape)"
   ]
  },
  {
   "cell_type": "markdown",
   "id": "25374979",
   "metadata": {},
   "source": [
    "피처 데이터는 2차원 데이터 10개가 생성되어있다. 타깃 데이터의 차원은 1차원 데이터가 10개 생성되어있는 상태. (10행 1열)"
   ]
  }
 ],
 "metadata": {
  "kernelspec": {
   "display_name": "Python 3 (ipykernel)",
   "language": "python",
   "name": "python3"
  },
  "language_info": {
   "codemirror_mode": {
    "name": "ipython",
    "version": 3
   },
   "file_extension": ".py",
   "mimetype": "text/x-python",
   "name": "python",
   "nbconvert_exporter": "python",
   "pygments_lexer": "ipython3",
   "version": "3.8.5"
  },
  "toc": {
   "base_numbering": 1,
   "nav_menu": {},
   "number_sections": true,
   "sideBar": true,
   "skip_h1_title": false,
   "title_cell": "Table of Contents",
   "title_sidebar": "Contents",
   "toc_cell": false,
   "toc_position": {
    "height": "calc(100% - 180px)",
    "left": "10px",
    "top": "150px",
    "width": "383.984px"
   },
   "toc_section_display": true,
   "toc_window_display": true
  }
 },
 "nbformat": 4,
 "nbformat_minor": 5
}

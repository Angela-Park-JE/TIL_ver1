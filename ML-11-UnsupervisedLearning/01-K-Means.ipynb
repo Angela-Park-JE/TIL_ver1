{
 "cells": [
  {
   "cell_type": "markdown",
   "id": "dee0e18b",
   "metadata": {},
   "source": [
    "# K-means 클러스터링 실습\n",
    "\n",
    "각 데이터 포인트와 각 그룹  평균 사이의 거리(Euclidean distance)를 구한 후 가장 가까운 클러스터로 배정하는 방법\n",
    "\n",
    "##### 알고리즘\n",
    "\n",
    "1. 그룹 평균 초기화: k번쨰 그룹의 평균을 $\\mathbf m ^{(k)}$이라고 한다. 첫 과정은 각 그룹의 평균 $\\mathbf m ^{(k)}$을 초기화 하는 것인데, 가장 기본적인 방법으로 랜덤으로 그룹의 평균을 설정한다.\n",
    "2. 그룹 할당: 각 데이터 포인트와 가장 가까운 그룹 평균에 해당하는 그룹에 데이터 포인트를 할당한다. \n",
    "3. 평균 업데이트: 모든 데이터 포인트가 그룹에 속한 뒤, 각 그룹에 대한 새로운 평균값을 구한다.\n",
    "4. 반복 : 2단계 즉, 기존의 클러스터와 새로 할당된 클러스터가 차이가 없을 때까지 2-3단계를 반복한다. \n",
    "---\n",
    "\n",
    "##### 11.2.2 임의로 데이터를 생성하여 클러스터링 해보는 실습."
   ]
  },
  {
   "cell_type": "markdown",
   "id": "29cf1d3d",
   "metadata": {},
   "source": [
    "# Data generating\n",
    "## 임의 데이터 생성"
   ]
  },
  {
   "cell_type": "code",
   "execution_count": 1,
   "id": "2c5392dd",
   "metadata": {},
   "outputs": [],
   "source": [
    "from sklearn.datasets import make_blobs\n",
    "\n",
    "X, y = make_blobs(n_samples = 100,     # 100개, 피처의 개수는 2, 5개의 그룹을 중심으로 샘플 데이터 생성\n",
    "                 n_features = 2,\n",
    "                 centers = 5,\n",
    "                 random_state = 10)"
   ]
  },
  {
   "cell_type": "markdown",
   "id": "a539338e",
   "metadata": {},
   "source": [
    "## 생성된 데이터 차원 확인"
   ]
  },
  {
   "cell_type": "code",
   "execution_count": 3,
   "id": "ccf2849e",
   "metadata": {},
   "outputs": [
    {
     "name": "stdout",
     "output_type": "stream",
     "text": [
      "(100, 2)\n",
      "(100,)\n"
     ]
    }
   ],
   "source": [
    "print(X.shape)\n",
    "print(y.shape)"
   ]
  },
  {
   "cell_type": "markdown",
   "id": "25374979",
   "metadata": {},
   "source": [
    "피처 데이터는 2차원 데이터 100개가 생성되어있다. 타깃 데이터의 차원은 1차원 데이터가 100개 생성되어있는 상태. (100행 1열)"
   ]
  },
  {
   "cell_type": "markdown",
   "id": "c15709e7",
   "metadata": {},
   "source": [
    "## unlabeled data plot"
   ]
  },
  {
   "cell_type": "code",
   "execution_count": 4,
   "id": "db5b846d",
   "metadata": {},
   "outputs": [
    {
     "data": {
      "image/png": "[encoded data removed]",
      "text/plain": [
       "<Figure size 432x288 with 1 Axes>"
      ]
     },
     "metadata": {
      "needs_background": "light"
     },
     "output_type": "display_data"
    }
   ],
   "source": [
    "import matplotlib.pyplot as plt\n",
    "plt.scatter(X[:,0], X[:,1],       # 피처 1과 2가 각각 x, y축으로 스캐터플롯 그리기\n",
    "           c = 'gray',\n",
    "           edgecolor = 'black',\n",
    "           marker = 'o')\n",
    "plt.show()"
   ]
  },
  {
   "cell_type": "markdown",
   "id": "d44588bc",
   "metadata": {},
   "source": [
    "# K-Means Clustering\n",
    "## clustering"
   ]
  },
  {
   "cell_type": "code",
   "execution_count": 6,
   "id": "9dbfb5a7",
   "metadata": {},
   "outputs": [],
   "source": [
    "from sklearn.cluster import KMeans\n",
    "\n",
    "kmc = KMeans(n_clusters = 5,        # k = 5, init = 첫 번째 평균값을 어떻게 정할지, max_iter = 최대 몇 번 반복할 것인지.\n",
    "            init = 'random',\n",
    "            max_iter = 100,\n",
    "            random_state = 0)\n",
    "kmc.fit(X)\n",
    "label_kmc = kmc.labels_"
   ]
  },
  {
   "cell_type": "code",
   "execution_count": 7,
   "id": "e2dbc1a6",
   "metadata": {},
   "outputs": [
    {
     "data": {
      "text/plain": [
       "array([2, 4, 3, 1, 0, 2, 2, 3, 0, 2, 3, 2, 0, 1, 0, 2, 4, 1, 0, 2, 2, 1,\n",
       "       4, 3, 2, 2, 1, 0, 3, 4, 1, 1, 0, 1, 2, 0, 3, 1, 3, 4, 1, 1, 1, 0,\n",
       "       3, 3, 2, 0, 4, 0, 4, 0, 2, 3, 0, 0, 1, 4, 1, 3, 0, 4, 4, 1, 2, 4,\n",
       "       0, 4, 0, 3, 3, 2, 4, 0, 1, 1, 3, 4, 2, 2, 0, 0, 4, 1, 4, 3, 1, 3,\n",
       "       1, 3, 4, 3, 2, 4, 4, 4, 3, 2, 2, 3], dtype=int32)"
      ]
     },
     "execution_count": 7,
     "metadata": {},
     "output_type": "execute_result"
    }
   ],
   "source": [
    "# 각 데이터 포인트가 어디에 속하게 되었는지 확인\n",
    "\n",
    "label_kmc"
   ]
  },
  {
   "cell_type": "markdown",
   "id": "c4c34429",
   "metadata": {},
   "source": [
    "## to data frame"
   ]
  },
  {
   "cell_type": "code",
   "execution_count": 8,
   "id": "1c50cb85",
   "metadata": {},
   "outputs": [
    {
     "data": {
      "text/html": [
       "<div>\n",
       "<style scoped>\n",
       "    .dataframe tbody tr th:only-of-type {\n",
       "        vertical-align: middle;\n",
       "    }\n",
       "\n",
       "    .dataframe tbody tr th {\n",
       "        vertical-align: top;\n",
       "    }\n",
       "\n",
       "    .dataframe thead th {\n",
       "        text-align: right;\n",
       "    }\n",
       "</style>\n",
       "<table border=\"1\" class=\"dataframe\">\n",
       "  <thead>\n",
       "    <tr style=\"text-align: right;\">\n",
       "      <th></th>\n",
       "      <th>kmc_comp1</th>\n",
       "      <th>kmc_comp2</th>\n",
       "      <th>target</th>\n",
       "      <th>label_kmc</th>\n",
       "    </tr>\n",
       "  </thead>\n",
       "  <tbody>\n",
       "    <tr>\n",
       "      <th>0</th>\n",
       "      <td>-5.577854</td>\n",
       "      <td>5.872988</td>\n",
       "      <td>3</td>\n",
       "      <td>2</td>\n",
       "    </tr>\n",
       "    <tr>\n",
       "      <th>1</th>\n",
       "      <td>1.627832</td>\n",
       "      <td>4.178069</td>\n",
       "      <td>1</td>\n",
       "      <td>4</td>\n",
       "    </tr>\n",
       "    <tr>\n",
       "      <th>2</th>\n",
       "      <td>-6.950884</td>\n",
       "      <td>-9.024594</td>\n",
       "      <td>4</td>\n",
       "      <td>3</td>\n",
       "    </tr>\n",
       "    <tr>\n",
       "      <th>3</th>\n",
       "      <td>-0.952769</td>\n",
       "      <td>-5.034316</td>\n",
       "      <td>2</td>\n",
       "      <td>1</td>\n",
       "    </tr>\n",
       "    <tr>\n",
       "      <th>4</th>\n",
       "      <td>6.550104</td>\n",
       "      <td>-7.912339</td>\n",
       "      <td>0</td>\n",
       "      <td>0</td>\n",
       "    </tr>\n",
       "  </tbody>\n",
       "</table>\n",
       "</div>"
      ],
      "text/plain": [
       "   kmc_comp1  kmc_comp2  target  label_kmc\n",
       "0  -5.577854   5.872988       3          2\n",
       "1   1.627832   4.178069       1          4\n",
       "2  -6.950884  -9.024594       4          3\n",
       "3  -0.952769  -5.034316       2          1\n",
       "4   6.550104  -7.912339       0          0"
      ]
     },
     "execution_count": 8,
     "metadata": {},
     "output_type": "execute_result"
    }
   ],
   "source": [
    "# 시각화를 위해 데이터 프레임으로 만들어준다\n",
    "import pandas as pd\n",
    "\n",
    "kmc_columns = ['kmc_comp1', 'kmc_comp2']           # 피처 이름 \n",
    "X_kmc_df = pd.DataFrame(X, columns = kmc_columns)  # 데이터 프레임 생성\n",
    "X_kmc_df['target'] = y                             # 정답에 해당하는 데이터를 새로운 열로 추가\n",
    "X_kmc_df['label_kmc'] = label_kmc                  # 클러스터링하여 정해진 라벨을 열에 추가\n",
    "X_kmc_df.head(5)"
   ]
  },
  {
   "cell_type": "code",
   "execution_count": 9,
   "id": "d3afecaf",
   "metadata": {},
   "outputs": [
    {
     "name": "stdout",
     "output_type": "stream",
     "text": [
      "{0, 1, 2, 3, 4}\n",
      "{0, 1, 2, 3, 4}\n"
     ]
    }
   ],
   "source": [
    "# 타깃 데이터의 이름 : 0, 1, 2, 3, 4\n",
    "# set 함수는 python에서 데이터 리스트에서 유일값만 보여주는 함수 : set이라는 클래스로 출력된다.\n",
    "print(set(X_kmc_df['target']))\n",
    "\n",
    "# kmc 군집의 이름을 확인\n",
    "print(set(X_kmc_df['label_kmc']))"
   ]
  },
  {
   "cell_type": "code",
   "execution_count": null,
   "id": "fcc7a035",
   "metadata": {},
   "outputs": [],
   "source": []
  },
  {
   "cell_type": "code",
   "execution_count": null,
   "id": "e52fcef7",
   "metadata": {},
   "outputs": [],
   "source": []
  }
 ],
 "metadata": {
  "kernelspec": {
   "display_name": "Python 3 (ipykernel)",
   "language": "python",
   "name": "python3"
  },
  "language_info": {
   "codemirror_mode": {
    "name": "ipython",
    "version": 3
   },
   "file_extension": ".py",
   "mimetype": "text/x-python",
   "name": "python",
   "nbconvert_exporter": "python",
   "pygments_lexer": "ipython3",
   "version": "3.8.5"
  },
  "toc": {
   "base_numbering": 1,
   "nav_menu": {},
   "number_sections": true,
   "sideBar": true,
   "skip_h1_title": false,
   "title_cell": "Table of Contents",
   "title_sidebar": "Contents",
   "toc_cell": false,
   "toc_position": {
    "height": "calc(100% - 180px)",
    "left": "10px",
    "top": "150px",
    "width": "383.984px"
   },
   "toc_section_display": true,
   "toc_window_display": true
  }
 },
 "nbformat": 4,
 "nbformat_minor": 5
}

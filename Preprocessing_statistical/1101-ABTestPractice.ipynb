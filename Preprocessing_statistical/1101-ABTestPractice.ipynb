{
 "cells": [
  {
   "cell_type": "markdown",
   "metadata": {},
   "source": [
    "# Ch13-1 (문제)AB 테스트 - 홈페이지 화면을 어떻게 구성할 것인가\n",
    "\n",
    "## A/B테스트란?\n",
    "\n",
    "##### 임의로 나눈 둘 이상의 집단에 서로 다른 컨텐츠를 제시한 뒤, **통계적 가설 검정을 이용**하여 어느 컨텐츠에 대한 반응이 더 효과적인지를 파악하는 방법\n",
    "\n",
    "\n",
    "## 문제 상황\n",
    "\n",
    "온라인 쇼핑몰 페이지 구성에 따른 다양한 실험 결과를 바탕으로 **전환율이 최대**가 되는 구성을 하고 싶은 것.\n",
    "\n",
    "`실습 관련 데이터: AB테스트 폴더 내 모든 데이터`\n",
    "\n",
    "- 현황 파악\n",
    "- 상품 배치와 상품 구매 금액에 따른 관계 분석\n",
    "- 사이트맵 구성에 따른 체류 시간 차이 분석\n",
    "- 할인 쿠폰의 효과 분석\n",
    "- 체류 시간 구매 금액 간 관계 분석\n",
    "- 구매버튼 배치에 따른 구매율 차이 분석\n",
    "\n",
    "\n",
    "### step1. 현황 파악\n",
    "\n",
    "- 관련 데이터: `일별현황데이터.csv`\n",
    "- 분석 내용: 구매금액이나 구매율과 관련된 모든 요인들을 각각 독립적으로 분석\n",
    "    1. 구매자수, 방문자수, 총 판매 금액에 대한 기술 통계\n",
    "    2. 일자별 방문자수 추이 파악\n",
    "    3. 일자별 구매자수 추이 파악\n",
    "    4. 일자별 총 판매 금액 추이 파악\n",
    "\n",
    "### step2. ‘상품 배치’와 상품 구매 금액에 따른 관계 분석\n",
    "\n",
    "- 관련 데이터: `상품배치_{A, B, C}. csv`\n",
    "- 분석 내용\n",
    "    1. 일원분산분석을 이용한 상품 배치에 따른 상품 구매 금액 평균 차이 분석(상품 구매 금액 0원 미포함)\n",
    "    2. 일원분산분석을 이용한 상품 배치에 따른 상품 구매 금액 평균 차이 분석(상품 구매 금액 0원 포함)\n",
    "    3. 카이제곱 검정을 이용한 구매 여부와 상품 배치 간 독립성 파악(독립적인지 종속적인지)\n",
    "\n",
    "### step3. 사이트맵 구성에 따른 체류 시간 차이 분석\n",
    "\n",
    "- 관련 데이터: `사이트맵_{A, B, C}.csv`\n",
    "- 분석 내용\n",
    "    1. 사이트맵별 체류시간 평균 계산\n",
    "    2. 일원분산분석을 이용한 사이트맵에 따른 체류 시간 평균 차이 분석(박스플롯 그리기 포함)\n",
    "\n",
    "### step4. 할인 쿠폰의 효과 분석\n",
    "\n",
    "- 관련 데이터: `할인쿠폰발행효과.csv`\n",
    "- 분석 내용\n",
    "    1. 발행 후와 전의 구매 횟수 차이에 대한 기술 통계\n",
    "    2. 발행 후와 전의 구매 횟수에 대한 박스플롯 시각화\n",
    "    3. 쌍체 표본 t-검정을 이용한 차이 유의성 검정: 유의하지 않다면 할인 쿠폰 발행할 필요가 적다는 결론 도출 가능\n",
    "\n",
    "### step5. 체류 시간과 구매 금액 간 관계 분석\n",
    "\n",
    "- 관련 데이터: `체류시간_구매금액.csv`\n",
    "- 분석 내용\n",
    "    1. 구매금액과 체류 시간의 산점도 시각화(긴 사람이 더 많이 구매를 하는지)\n",
    "    2. 구매금액과 체류 시간 간 상관관계 분석\n",
    "\n",
    "### step6. 구매 버튼 배치에 따른 구매율 차이 분석\n",
    "\n",
    "- 관련 데이터: `구매버튼_버튼타입_통계.xlsx`\n",
    "- 분석 내용\n",
    "    1. 결측 대체\n",
    "    2. pivot_table을 이용한 교차 테이블 생성\n",
    "    3. 교차 테이블 바탕으로 카이제곱검정을 이용한 독립성 검정"
   ]
  },
  {
   "cell_type": "markdown",
   "metadata": {},
   "source": [
    "# AB테스트 실습"
   ]
  },
  {
   "cell_type": "code",
   "execution_count": 1,
   "metadata": {},
   "outputs": [
    {
     "name": "stdout",
     "output_type": "stream",
     "text": [
      "1.4.1\n",
      "1.22.4\n"
     ]
    }
   ],
   "source": [
    "import pandas as pd\n",
    "import numpy as np\n",
    "from scipy.stats import *\n",
    "\n",
    "import os\n",
    "os.chdir(r\"/Users/Angela/Desktop/과속대학쿠쿠루/2. 탐색적 데이터 분석/데이터/AB테스트\")\n",
    "\n",
    "print(pd.__version__)\n",
    "print(np.__version__)"
   ]
  },
  {
   "cell_type": "markdown",
   "metadata": {},
   "source": [
    "## Step 1. 현황 분석"
   ]
  },
  {
   "cell_type": "code",
   "execution_count": 2,
   "metadata": {},
   "outputs": [
    {
     "data": {
      "text/html": [
       "<div>\n",
       "<style scoped>\n",
       "    .dataframe tbody tr th:only-of-type {\n",
       "        vertical-align: middle;\n",
       "    }\n",
       "\n",
       "    .dataframe tbody tr th {\n",
       "        vertical-align: top;\n",
       "    }\n",
       "\n",
       "    .dataframe thead th {\n",
       "        text-align: right;\n",
       "    }\n",
       "</style>\n",
       "<table border=\"1\" class=\"dataframe\">\n",
       "  <thead>\n",
       "    <tr style=\"text-align: right;\">\n",
       "      <th></th>\n",
       "      <th>구매자수</th>\n",
       "      <th>방문자수</th>\n",
       "      <th>일자</th>\n",
       "      <th>총 판매 금액</th>\n",
       "    </tr>\n",
       "  </thead>\n",
       "  <tbody>\n",
       "    <tr>\n",
       "      <th>0</th>\n",
       "      <td>328</td>\n",
       "      <td>1498</td>\n",
       "      <td>2019-01-01</td>\n",
       "      <td>6454056</td>\n",
       "    </tr>\n",
       "    <tr>\n",
       "      <th>1</th>\n",
       "      <td>301</td>\n",
       "      <td>1514</td>\n",
       "      <td>2019-01-02</td>\n",
       "      <td>5941439</td>\n",
       "    </tr>\n",
       "    <tr>\n",
       "      <th>2</th>\n",
       "      <td>219</td>\n",
       "      <td>1409</td>\n",
       "      <td>2019-01-03</td>\n",
       "      <td>3967404</td>\n",
       "    </tr>\n",
       "    <tr>\n",
       "      <th>3</th>\n",
       "      <td>276</td>\n",
       "      <td>1617</td>\n",
       "      <td>2019-01-04</td>\n",
       "      <td>5073708</td>\n",
       "    </tr>\n",
       "    <tr>\n",
       "      <th>4</th>\n",
       "      <td>311</td>\n",
       "      <td>1482</td>\n",
       "      <td>2019-01-05</td>\n",
       "      <td>6482795</td>\n",
       "    </tr>\n",
       "  </tbody>\n",
       "</table>\n",
       "</div>"
      ],
      "text/plain": [
       "   구매자수  방문자수          일자  총 판매 금액\n",
       "0   328  1498  2019-01-01  6454056\n",
       "1   301  1514  2019-01-02  5941439\n",
       "2   219  1409  2019-01-03  3967404\n",
       "3   276  1617  2019-01-04  5073708\n",
       "4   311  1482  2019-01-05  6482795"
      ]
     },
     "execution_count": 2,
     "metadata": {},
     "output_type": "execute_result"
    }
   ],
   "source": [
    "df = pd.read_csv(\"일별현황데이터.csv\", encoding = \"cp949\")\n",
    "df.head()"
   ]
  },
  {
   "cell_type": "markdown",
   "metadata": {},
   "source": [
    "### 기초통계량"
   ]
  },
  {
   "cell_type": "code",
   "execution_count": 3,
   "metadata": {},
   "outputs": [
    {
     "data": {
      "text/html": [
       "<div>\n",
       "<style scoped>\n",
       "    .dataframe tbody tr th:only-of-type {\n",
       "        vertical-align: middle;\n",
       "    }\n",
       "\n",
       "    .dataframe tbody tr th {\n",
       "        vertical-align: top;\n",
       "    }\n",
       "\n",
       "    .dataframe thead th {\n",
       "        text-align: right;\n",
       "    }\n",
       "</style>\n",
       "<table border=\"1\" class=\"dataframe\">\n",
       "  <thead>\n",
       "    <tr style=\"text-align: right;\">\n",
       "      <th></th>\n",
       "      <th>구매자수</th>\n",
       "      <th>방문자수</th>\n",
       "      <th>총 판매 금액</th>\n",
       "    </tr>\n",
       "  </thead>\n",
       "  <tbody>\n",
       "    <tr>\n",
       "      <th>count</th>\n",
       "      <td>365.000000</td>\n",
       "      <td>365.000000</td>\n",
       "      <td>3.650000e+02</td>\n",
       "    </tr>\n",
       "    <tr>\n",
       "      <th>mean</th>\n",
       "      <td>298.347945</td>\n",
       "      <td>1502.024658</td>\n",
       "      <td>5.983674e+06</td>\n",
       "    </tr>\n",
       "    <tr>\n",
       "      <th>std</th>\n",
       "      <td>54.205014</td>\n",
       "      <td>52.454239</td>\n",
       "      <td>1.129601e+06</td>\n",
       "    </tr>\n",
       "    <tr>\n",
       "      <th>min</th>\n",
       "      <td>108.000000</td>\n",
       "      <td>1370.000000</td>\n",
       "      <td>2.002536e+06</td>\n",
       "    </tr>\n",
       "    <tr>\n",
       "      <th>25%</th>\n",
       "      <td>262.000000</td>\n",
       "      <td>1466.000000</td>\n",
       "      <td>5.222217e+06</td>\n",
       "    </tr>\n",
       "    <tr>\n",
       "      <th>50%</th>\n",
       "      <td>297.000000</td>\n",
       "      <td>1500.000000</td>\n",
       "      <td>5.990007e+06</td>\n",
       "    </tr>\n",
       "    <tr>\n",
       "      <th>75%</th>\n",
       "      <td>337.000000</td>\n",
       "      <td>1537.000000</td>\n",
       "      <td>6.734271e+06</td>\n",
       "    </tr>\n",
       "    <tr>\n",
       "      <th>max</th>\n",
       "      <td>444.000000</td>\n",
       "      <td>1638.000000</td>\n",
       "      <td>9.318244e+06</td>\n",
       "    </tr>\n",
       "  </tbody>\n",
       "</table>\n",
       "</div>"
      ],
      "text/plain": [
       "             구매자수         방문자수       총 판매 금액\n",
       "count  365.000000   365.000000  3.650000e+02\n",
       "mean   298.347945  1502.024658  5.983674e+06\n",
       "std     54.205014    52.454239  1.129601e+06\n",
       "min    108.000000  1370.000000  2.002536e+06\n",
       "25%    262.000000  1466.000000  5.222217e+06\n",
       "50%    297.000000  1500.000000  5.990007e+06\n",
       "75%    337.000000  1537.000000  6.734271e+06\n",
       "max    444.000000  1638.000000  9.318244e+06"
      ]
     },
     "execution_count": 3,
     "metadata": {},
     "output_type": "execute_result"
    }
   ],
   "source": [
    "df.describe()"
   ]
  },
  {
   "cell_type": "markdown",
   "metadata": {},
   "source": [
    "### 통계량 시각화\n",
    "\n",
    "1. daily visitors  \n",
    "    `np.cumsum`을 이용하여 누적합을 구하여 월별 일 수 누적을 통한 매월 1일을 인덱스 정의 (12월 제외)  \n",
    "    12.31 은 빠져있다.   \n",
    "    개인적으로 축이 그려지는 것이 좋아보여서 grid를 추가했다.  \n",
    "    그린 결과 계절성이나 주기성은 보이지 않는 걸로 확인됨.  \n",
    "\n",
    "2. daily consumers  \n",
    "    마찬가지로 계절성이나 주기성이 보이지 않는다.  \n",
    "    \n",
    "3. daily total sales  \n",
    "    많이 줄어들거나 높아지는 포인트가 구매자수와 비슷한 그림을 그리는 것이 눈에 띈다.  \n",
    "\n"
   ]
  },
  {
   "cell_type": "code",
   "execution_count": 4,
   "metadata": {},
   "outputs": [],
   "source": [
    "%matplotlib inline\n",
    "import matplotlib.pyplot as plt\n",
    "plt.rcParams[\"font.family\"] = 'AppleGothic'\n",
    "plt.rcParams[\"font.size\"] = 10\n",
    "plt.rcParams[\"figure.figsize\"] = (15, 3)"
   ]
  },
  {
   "cell_type": "code",
   "execution_count": 5,
   "metadata": {},
   "outputs": [
    {
     "data": {
      "image/png": "[encoded data removed]",
      "text/plain": [
       "<Figure size 1080x216 with 1 Axes>"
      ]
     },
     "metadata": {
      "needs_background": "light"
     },
     "output_type": "display_data"
    }
   ],
   "source": [
    "# daily visitors\n",
    "plt.plot(df['일자'], df['방문자수'])\n",
    "xtick_range = np.cumsum([0, 31, 28, 31, 30, 31, 30, 31, 31, 30, 31, 30]) \n",
    "plt.grid(visible = True, which = 'major', axis = 'x')\n",
    "plt.xticks(ticks = xtick_range, labels = df['일자'].loc[xtick_range], rotation = 45)\n",
    "plt.show()"
   ]
  },
  {
   "cell_type": "code",
   "execution_count": 6,
   "metadata": {},
   "outputs": [
    {
     "data": {
      "image/png": "[encoded data removed]",
      "text/plain": [
       "<Figure size 1080x216 with 1 Axes>"
      ]
     },
     "metadata": {
      "needs_background": "light"
     },
     "output_type": "display_data"
    }
   ],
   "source": [
    "# daily consumers\n",
    "plt.plot(df['일자'], df['구매자수'])\n",
    "xtick_range = np.cumsum([0, 31, 28, 31, 30, 31, 30, 31, 31, 30, 31, 30]) \n",
    "plt.grid(visible = True, which = 'major', axis = 'x')\n",
    "plt.xticks(ticks = xtick_range, labels = df['일자'].loc[xtick_range], rotation = 45)\n",
    "plt.show()"
   ]
  },
  {
   "cell_type": "code",
   "execution_count": 7,
   "metadata": {},
   "outputs": [
    {
     "data": {
      "image/png": "[encoded data removed]",
      "text/plain": [
       "<Figure size 1080x216 with 1 Axes>"
      ]
     },
     "metadata": {
      "needs_background": "light"
     },
     "output_type": "display_data"
    }
   ],
   "source": [
    "# daily total sales\n",
    "plt.plot(df['일자'], df['총 판매 금액'])\n",
    "xtick_range = np.cumsum([0, 31, 28, 31, 30, 31, 30, 31, 31, 30, 31, 30]) \n",
    "plt.grid(visible = True, which = 'major', axis = 'x')\n",
    "plt.xticks(ticks = xtick_range, labels = df['일자'].loc[xtick_range], rotation = 45)\n",
    "plt.show()"
   ]
  },
  {
   "cell_type": "markdown",
   "metadata": {},
   "source": [
    "## Step 2. 상품 배치와 상품 구매 금액에 따른 관계 분석\n",
    "상품 배치는 A, B, C로 구성되어있다. 해당 데이터를 각각을 placement_A,B,C로 불러온다.  \n",
    "\n",
    "고객 ID와 구매금액으로 구성되어있기 때문에 고객 ID를 인덱스로 설정한다.  \n",
    "\n",
    "- 각각 배치마다 고객 ID가 다른 이유는 각각 다른 집단이기 때문이다.  \n",
    "    물론 엄밀한 통계분석을 하기 위해서는 같은 고객군에게 보여주어야 효과를 알 수 있다.  \n",
    "    왜냐하면 각 배치마다 매출이 다르다면, 배치의 문제일 수도 있지만 집단 자체가 달라서 그 특성 때문에 (우연히) 일어난 것일 수도 있기 때문이다.  \n",
    "- 현실적으로 AB 테스트를 진행할 때 같은 고객들에게 여러개를 보여주는 것은 불가능한 경우가 많기 때문에, 이론적으로만 좋다는 것은 알도록 하자.  \n",
    "\n"
   ]
  },
  {
   "cell_type": "code",
   "execution_count": 9,
   "metadata": {},
   "outputs": [
    {
     "data": {
      "text/html": [
       "<div>\n",
       "<style scoped>\n",
       "    .dataframe tbody tr th:only-of-type {\n",
       "        vertical-align: middle;\n",
       "    }\n",
       "\n",
       "    .dataframe tbody tr th {\n",
       "        vertical-align: top;\n",
       "    }\n",
       "\n",
       "    .dataframe thead th {\n",
       "        text-align: right;\n",
       "    }\n",
       "</style>\n",
       "<table border=\"1\" class=\"dataframe\">\n",
       "  <thead>\n",
       "    <tr style=\"text-align: right;\">\n",
       "      <th></th>\n",
       "      <th>구매금액</th>\n",
       "    </tr>\n",
       "    <tr>\n",
       "      <th>고객ID</th>\n",
       "      <th></th>\n",
       "    </tr>\n",
       "  </thead>\n",
       "  <tbody>\n",
       "    <tr>\n",
       "      <th>C-1</th>\n",
       "      <td>20459</td>\n",
       "    </tr>\n",
       "    <tr>\n",
       "      <th>C-2</th>\n",
       "      <td>0</td>\n",
       "    </tr>\n",
       "    <tr>\n",
       "      <th>C-3</th>\n",
       "      <td>19726</td>\n",
       "    </tr>\n",
       "    <tr>\n",
       "      <th>C-4</th>\n",
       "      <td>0</td>\n",
       "    </tr>\n",
       "    <tr>\n",
       "      <th>C-5</th>\n",
       "      <td>19049</td>\n",
       "    </tr>\n",
       "  </tbody>\n",
       "</table>\n",
       "</div>"
      ],
      "text/plain": [
       "       구매금액\n",
       "고객ID       \n",
       "C-1   20459\n",
       "C-2       0\n",
       "C-3   19726\n",
       "C-4       0\n",
       "C-5   19049"
      ]
     },
     "execution_count": 9,
     "metadata": {},
     "output_type": "execute_result"
    }
   ],
   "source": [
    "placement_A = pd.read_csv('상품배치_A.csv', encoding = 'cp949', index_col = '고객ID')\n",
    "placement_A.head()"
   ]
  },
  {
   "cell_type": "code",
   "execution_count": 10,
   "metadata": {},
   "outputs": [
    {
     "data": {
      "text/html": [
       "<div>\n",
       "<style scoped>\n",
       "    .dataframe tbody tr th:only-of-type {\n",
       "        vertical-align: middle;\n",
       "    }\n",
       "\n",
       "    .dataframe tbody tr th {\n",
       "        vertical-align: top;\n",
       "    }\n",
       "\n",
       "    .dataframe thead th {\n",
       "        text-align: right;\n",
       "    }\n",
       "</style>\n",
       "<table border=\"1\" class=\"dataframe\">\n",
       "  <thead>\n",
       "    <tr style=\"text-align: right;\">\n",
       "      <th></th>\n",
       "      <th>구매금액</th>\n",
       "    </tr>\n",
       "    <tr>\n",
       "      <th>고객ID</th>\n",
       "      <th></th>\n",
       "    </tr>\n",
       "  </thead>\n",
       "  <tbody>\n",
       "    <tr>\n",
       "      <th>C-200</th>\n",
       "      <td>0</td>\n",
       "    </tr>\n",
       "    <tr>\n",
       "      <th>C-201</th>\n",
       "      <td>0</td>\n",
       "    </tr>\n",
       "    <tr>\n",
       "      <th>C-202</th>\n",
       "      <td>0</td>\n",
       "    </tr>\n",
       "    <tr>\n",
       "      <th>C-203</th>\n",
       "      <td>19055</td>\n",
       "    </tr>\n",
       "    <tr>\n",
       "      <th>C-204</th>\n",
       "      <td>0</td>\n",
       "    </tr>\n",
       "  </tbody>\n",
       "</table>\n",
       "</div>"
      ],
      "text/plain": [
       "        구매금액\n",
       "고객ID        \n",
       "C-200      0\n",
       "C-201      0\n",
       "C-202      0\n",
       "C-203  19055\n",
       "C-204      0"
      ]
     },
     "execution_count": 10,
     "metadata": {},
     "output_type": "execute_result"
    }
   ],
   "source": [
    "placement_B = pd.read_csv('상품배치_B.csv', encoding = 'cp949', index_col = '고객ID')\n",
    "placement_B.head()"
   ]
  },
  {
   "cell_type": "code",
   "execution_count": 11,
   "metadata": {},
   "outputs": [
    {
     "data": {
      "text/html": [
       "<div>\n",
       "<style scoped>\n",
       "    .dataframe tbody tr th:only-of-type {\n",
       "        vertical-align: middle;\n",
       "    }\n",
       "\n",
       "    .dataframe tbody tr th {\n",
       "        vertical-align: top;\n",
       "    }\n",
       "\n",
       "    .dataframe thead th {\n",
       "        text-align: right;\n",
       "    }\n",
       "</style>\n",
       "<table border=\"1\" class=\"dataframe\">\n",
       "  <thead>\n",
       "    <tr style=\"text-align: right;\">\n",
       "      <th></th>\n",
       "      <th>구매금액</th>\n",
       "    </tr>\n",
       "    <tr>\n",
       "      <th>고객ID</th>\n",
       "      <th></th>\n",
       "    </tr>\n",
       "  </thead>\n",
       "  <tbody>\n",
       "    <tr>\n",
       "      <th>C-360</th>\n",
       "      <td>0</td>\n",
       "    </tr>\n",
       "    <tr>\n",
       "      <th>C-361</th>\n",
       "      <td>19844</td>\n",
       "    </tr>\n",
       "    <tr>\n",
       "      <th>C-362</th>\n",
       "      <td>19085</td>\n",
       "    </tr>\n",
       "    <tr>\n",
       "      <th>C-363</th>\n",
       "      <td>0</td>\n",
       "    </tr>\n",
       "    <tr>\n",
       "      <th>C-364</th>\n",
       "      <td>19671</td>\n",
       "    </tr>\n",
       "  </tbody>\n",
       "</table>\n",
       "</div>"
      ],
      "text/plain": [
       "        구매금액\n",
       "고객ID        \n",
       "C-360      0\n",
       "C-361  19844\n",
       "C-362  19085\n",
       "C-363      0\n",
       "C-364  19671"
      ]
     },
     "execution_count": 11,
     "metadata": {},
     "output_type": "execute_result"
    }
   ],
   "source": [
    "placement_C = pd.read_csv('상품배치_C.csv', encoding = 'cp949', index_col = '고객ID')\n",
    "placement_C.head()"
   ]
  },
  {
   "cell_type": "markdown",
   "metadata": {},
   "source": [
    "### 2-1. 구매 금액 0인 경우 제외: 배치에 따른 구매금액 간의 ANOVA 분석 수행\n",
    "1. 구매금액이 0인 사람 데이터 제외  \n",
    "    구매금액이 0인 사람과 관련된 데이터 필터링하여 데이터 값만 `.values`를 통해 ndarray형태로 저장하여, 이후 `scipy.stats`를 원할이 사용할 수 있게끔 한다.  \n",
    "2. 각 데이터 정규분포 충족 여부 확인  \n",
    "    p-value가 0이기 때문에 0을 제외한 데이터는 정규분포를 따른다. -> 아... 아닌데... 적으면 정규분포를 따르지않을 것이라는 것입니다... 정규분포와 다른 분포일 것이라고요... 물론 정규분포를 따라도 유의한 p값이 나오기도 한다는 것은 맞지만...  \n",
    "    - 그래서 나름의 그래프를 그려보기로 결정\n",
    "3. ANOVA 분석\n",
    "    그룹이 3개 이상이므로 사용.  \n",
    "    일원분산분석 수행: p-value가 거의 0에 수렴 => A, B, C의 평균은 유의한 차이가 존재  \n",
    "    (3.382319770772329e-26 -> 10의 26승* 3.38.... 엄청 작다는 것.)  \n",
    "    즉, 셋 중 하나 이상은 확실히 차이가 있음을 알 수 있다는 것.\n",
    "4. 사후분석\n",
    "    결과적으로 B가 다른 그룹과 다르다는 것을 볼 수 있었음.  \n",
    "    "
   ]
  },
  {
   "cell_type": "code",
   "execution_count": 12,
   "metadata": {},
   "outputs": [],
   "source": [
    "placement_A_without_zero = placement_A.loc[placement_A['구매금액'] != 0]['구매금액'].values\n",
    "placement_B_without_zero = placement_B.loc[placement_B['구매금액'] != 0]['구매금액'].values\n",
    "placement_C_without_zero = placement_C.loc[placement_C['구매금액'] != 0]['구매금액'].values"
   ]
  },
  {
   "cell_type": "code",
   "execution_count": 13,
   "metadata": {},
   "outputs": [
    {
     "name": "stdout",
     "output_type": "stream",
     "text": [
      "KstestResult(statistic=1.0, pvalue=0.0)\n",
      "KstestResult(statistic=1.0, pvalue=0.0)\n",
      "KstestResult(statistic=1.0, pvalue=0.0)\n"
     ]
    }
   ],
   "source": [
    "from scipy.stats import *\n",
    "print(kstest(placement_A_without_zero, 'norm'))\n",
    "print(kstest(placement_B_without_zero, 'norm'))\n",
    "print(kstest(placement_C_without_zero, 'norm'))"
   ]
  },
  {
   "cell_type": "code",
   "execution_count": 15,
   "metadata": {},
   "outputs": [
    {
     "data": {
      "image/png": "[encoded data removed]",
      "text/plain": [
       "<Figure size 216x288 with 1 Axes>"
      ]
     },
     "metadata": {
      "needs_background": "light"
     },
     "output_type": "display_data"
    }
   ],
   "source": [
    "# 정규분포를 따르는게 맞으세요...?\n",
    "plt.figure(figsize = (3,4))\n",
    "plt.hist(placement_A_without_zero, color = 'b')\n",
    "plt.hist(placement_B_without_zero, color = 'g')\n",
    "plt.hist(placement_C_without_zero, color = 'y')\n",
    "plt.grid()\n",
    "plt.show()"
   ]
  },
  {
   "cell_type": "code",
   "execution_count": 16,
   "metadata": {},
   "outputs": [
    {
     "name": "stdout",
     "output_type": "stream",
     "text": [
      "F_onewayResult(statistic=76.88192392994758, pvalue=3.382319770772329e-26)\n"
     ]
    }
   ],
   "source": [
    "print(f_oneway(placement_A_without_zero,\n",
    "               placement_B_without_zero,\n",
    "               placement_C_without_zero))"
   ]
  },
  {
   "cell_type": "code",
   "execution_count": 17,
   "metadata": {},
   "outputs": [
    {
     "name": "stdout",
     "output_type": "stream",
     "text": [
      "    Multiple Comparison of Means - Tukey HSD, FWER=0.05    \n",
      "===========================================================\n",
      "group1 group2  meandiff  p-adj    lower      upper   reject\n",
      "-----------------------------------------------------------\n",
      "     A      B -1883.1765   -0.0 -2276.2519 -1490.101   True\n",
      "     A      C    66.7946 0.9221  -343.8753  477.4645  False\n",
      "     B      C  1949.9711   -0.0  1503.2593 2396.6829   True\n",
      "-----------------------------------------------------------\n"
     ]
    }
   ],
   "source": [
    "# 사후 분석 (이 함수는 데이터와 그룹들을 받음)\n",
    "from statsmodels.stats.multicomp import pairwise_tukeyhsd\n",
    "# 그룹이 정의되어있지 않으니 각 그룹 그 길이에 맞도록 변수를 만듦\n",
    "Group = ['A'] * len(placement_A_without_zero) + ['B'] * len(placement_B_without_zero) + ['C'] * len(placement_C_without_zero)\n",
    "Data = placement_A_without_zero.tolist() + placement_B_without_zero.tolist() + placement_C_without_zero.tolist()\n",
    "\n",
    "print(pairwise_tukeyhsd(Data, Group))\n",
    "\n",
    "# (A, C) ~ B의 관계임을 확인"
   ]
  },
  {
   "cell_type": "markdown",
   "metadata": {},
   "source": [
    "### 2-2. 구매 금액 0인 경우 포함: 배치에 따른 구매금액 간의 ANOVA 분석 수행\n",
    "1. 구매금액이 0인 사람 데이터 포함하여 그대로 사용\n",
    "2. 각 데이터 정규분포 충족 여부 확인  \n",
    "    p-value가 거의 0이기 때문에 0을 포함한 데이터도 정규분포를 따른다. \n",
    "    -> 아... 아닌데... 적으면 정규분포를 따르지않을 것이라는 것입니다... 정규분포와 다른 분포일 것이라고요... 물론 정규분포를 따라도 유의한 p값이 나오기도 한다는 것은 맞지만...  \n",
    "    - 그래서 나름의 그래프를 그려보기로 결정\n",
    "3. ANOVA 분석\n",
    "    그룹이 3개 이상이므로 사용.  \n",
    "    일원분산분석 수행: p-value가 0.05 > => A, B, C의 평균은 유의한 차이가 존재\n",
    "    즉, 셋 중 하나 이상은 확실히 차이가 있음을 알 수 있다는 것.\n",
    "4. 사후분석\n",
    "    A와 B는 다른데, A와 C가 비슷하고 C와 B가 비슷하다고 묶였기 때문에 이럴땐 곤란한 상황이다.  \n",
    "    명확히 하긴 어렵지만, 대략적으로, A와 B,C가 차이가 있다고 볼 수 있다.  \n",
    "    특히 Meandiff를 이용하여 앞의 그룹이 뒤의 그룹과 얼마나 크거나 작은지를 볼 수 있다.  \n",
    "    A ~ (B, C) 관계임을 확인"
   ]
  },
  {
   "cell_type": "code",
   "execution_count": 18,
   "metadata": {},
   "outputs": [
    {
     "name": "stdout",
     "output_type": "stream",
     "text": [
      "KstestResult(statistic=0.5151515151515151, pvalue=2.490817585851874e-49)\n",
      "KstestResult(statistic=0.5, pvalue=1.6346312024307732e-37)\n",
      "KstestResult(statistic=0.5, pvalue=9.71661593795993e-35)\n"
     ]
    }
   ],
   "source": [
    "# 각 데이터가 정규분포를 따름을 확인\n",
    "from scipy.stats import *\n",
    "print(kstest(placement_A['구매금액'], 'norm'))\n",
    "print(kstest(placement_B['구매금액'], 'norm'))\n",
    "print(kstest(placement_C['구매금액'], 'norm'))"
   ]
  },
  {
   "cell_type": "code",
   "execution_count": 19,
   "metadata": {},
   "outputs": [
    {
     "data": {
      "image/png": "[encoded data removed]",
      "text/plain": [
       "<Figure size 216x288 with 1 Axes>"
      ]
     },
     "metadata": {
      "needs_background": "light"
     },
     "output_type": "display_data"
    }
   ],
   "source": [
    "# 정규분포를 따르는게 맞으세요...?\n",
    "plt.figure(figsize = (3,4))\n",
    "plt.hist(placement_A['구매금액'], color = 'b', )\n",
    "plt.hist(placement_B['구매금액'], color = 'g')\n",
    "plt.hist(placement_C['구매금액'], color = 'y')\n",
    "plt.grid()\n",
    "plt.show()"
   ]
  },
  {
   "cell_type": "code",
   "execution_count": 20,
   "metadata": {},
   "outputs": [
    {
     "name": "stdout",
     "output_type": "stream",
     "text": [
      "F_onewayResult(statistic=3.9252421050200677, pvalue=0.020344882530536217)\n"
     ]
    }
   ],
   "source": [
    "print(f_oneway(placement_A['구매금액'],\n",
    "               placement_B['구매금액'],\n",
    "               placement_C['구매금액']))"
   ]
  },
  {
   "cell_type": "code",
   "execution_count": 21,
   "metadata": {},
   "outputs": [
    {
     "name": "stdout",
     "output_type": "stream",
     "text": [
      "    Multiple Comparison of Means - Tukey HSD, FWER=0.05    \n",
      "===========================================================\n",
      "group1 group2  meandiff  p-adj    lower      upper   reject\n",
      "-----------------------------------------------------------\n",
      "     A      B -2602.2773 0.0314 -5020.3131 -184.2414   True\n",
      "     A      C -2302.0043  0.074 -4773.6625  169.6539  False\n",
      "     B      C    300.273   0.96 -2293.8963 2894.4423  False\n",
      "-----------------------------------------------------------\n"
     ]
    }
   ],
   "source": [
    "# 사후 분석\n",
    "from statsmodels.stats.multicomp import pairwise_tukeyhsd\n",
    "Group = ['A'] * len(placement_A) + ['B'] * len(placement_B) + ['C'] * len(placement_C)\n",
    "Data = placement_A['구매금액'].tolist() + placement_B['구매금액'].tolist() + placement_C['구매금액'].tolist()\n",
    "\n",
    "print(pairwise_tukeyhsd(Data, Group))"
   ]
  },
  {
   "cell_type": "markdown",
   "metadata": {},
   "source": [
    "### 2-3. 구매 여부와 상품 배치 간 관계 파악 (카이제곱 검정)\n",
    "\n",
    "1. 범주형변수 관계분석인 카이제곱 검정을 위해, 각각의 상품 배치 컬럼을 만들어 각 구분을 적어둔다.  \n",
    "    그리고 행단위로 각 그룹을 붙여서 인덱스를 유지한다. (인덱스가 겹치지 않고, 고객 아이디가 인덱스이기 때문에 구매 여부라는 특별한 정보와 연결되어 있다. 그래서 무시하지 않고 유지한다.)\n",
    "    구매여부는 구매금액이 0인지 아닌지에 따라서 정할 수 있으므로 구매여부를 1과 0으로 정한다. True면 1로 False면 0이 되도록 `astype(int)`를 사용한다.  \n",
    "\n",
    "2. 배치에 따른 구매여부를 교차테이블로 만든다. \n",
    "\n",
    "3. 카이제곱 검정 수행"
   ]
  },
  {
   "cell_type": "code",
   "execution_count": 22,
   "metadata": {},
   "outputs": [
    {
     "data": {
      "text/html": [
       "<div>\n",
       "<style scoped>\n",
       "    .dataframe tbody tr th:only-of-type {\n",
       "        vertical-align: middle;\n",
       "    }\n",
       "\n",
       "    .dataframe tbody tr th {\n",
       "        vertical-align: top;\n",
       "    }\n",
       "\n",
       "    .dataframe thead th {\n",
       "        text-align: right;\n",
       "    }\n",
       "</style>\n",
       "<table border=\"1\" class=\"dataframe\">\n",
       "  <thead>\n",
       "    <tr style=\"text-align: right;\">\n",
       "      <th></th>\n",
       "      <th>구매금액</th>\n",
       "      <th>상품배치</th>\n",
       "      <th>구매여부</th>\n",
       "    </tr>\n",
       "    <tr>\n",
       "      <th>고객ID</th>\n",
       "      <th></th>\n",
       "      <th></th>\n",
       "      <th></th>\n",
       "    </tr>\n",
       "  </thead>\n",
       "  <tbody>\n",
       "    <tr>\n",
       "      <th>C-1</th>\n",
       "      <td>20459</td>\n",
       "      <td>A</td>\n",
       "      <td>1</td>\n",
       "    </tr>\n",
       "    <tr>\n",
       "      <th>C-2</th>\n",
       "      <td>0</td>\n",
       "      <td>A</td>\n",
       "      <td>0</td>\n",
       "    </tr>\n",
       "    <tr>\n",
       "      <th>C-3</th>\n",
       "      <td>19726</td>\n",
       "      <td>A</td>\n",
       "      <td>1</td>\n",
       "    </tr>\n",
       "    <tr>\n",
       "      <th>C-4</th>\n",
       "      <td>0</td>\n",
       "      <td>A</td>\n",
       "      <td>0</td>\n",
       "    </tr>\n",
       "    <tr>\n",
       "      <th>C-5</th>\n",
       "      <td>19049</td>\n",
       "      <td>A</td>\n",
       "      <td>1</td>\n",
       "    </tr>\n",
       "  </tbody>\n",
       "</table>\n",
       "</div>"
      ],
      "text/plain": [
       "       구매금액 상품배치  구매여부\n",
       "고객ID                  \n",
       "C-1   20459    A     1\n",
       "C-2       0    A     0\n",
       "C-3   19726    A     1\n",
       "C-4       0    A     0\n",
       "C-5   19049    A     1"
      ]
     },
     "execution_count": 22,
     "metadata": {},
     "output_type": "execute_result"
    }
   ],
   "source": [
    "# 데이터 변환\n",
    "placement_A['상품배치'] = 'A'\n",
    "placement_B['상품배치'] = 'B'\n",
    "placement_C['상품배치'] = 'C'\n",
    "\n",
    "placement = pd.concat([placement_A, placement_B, placement_C], axis = 0, ignore_index = False)\n",
    "placement['구매여부'] = (placement['구매금액'] != 0).astype(int)\n",
    "placement.head()"
   ]
  },
  {
   "cell_type": "code",
   "execution_count": 23,
   "metadata": {},
   "outputs": [
    {
     "data": {
      "text/html": [
       "<div>\n",
       "<style scoped>\n",
       "    .dataframe tbody tr th:only-of-type {\n",
       "        vertical-align: middle;\n",
       "    }\n",
       "\n",
       "    .dataframe tbody tr th {\n",
       "        vertical-align: top;\n",
       "    }\n",
       "\n",
       "    .dataframe thead th {\n",
       "        text-align: right;\n",
       "    }\n",
       "</style>\n",
       "<table border=\"1\" class=\"dataframe\">\n",
       "  <thead>\n",
       "    <tr style=\"text-align: right;\">\n",
       "      <th>구매여부</th>\n",
       "      <th>0</th>\n",
       "      <th>1</th>\n",
       "    </tr>\n",
       "    <tr>\n",
       "      <th>상품배치</th>\n",
       "      <th></th>\n",
       "      <th></th>\n",
       "    </tr>\n",
       "  </thead>\n",
       "  <tbody>\n",
       "    <tr>\n",
       "      <th>A</th>\n",
       "      <td>96</td>\n",
       "      <td>102</td>\n",
       "    </tr>\n",
       "    <tr>\n",
       "      <th>B</th>\n",
       "      <td>92</td>\n",
       "      <td>68</td>\n",
       "    </tr>\n",
       "    <tr>\n",
       "      <th>C</th>\n",
       "      <td>89</td>\n",
       "      <td>59</td>\n",
       "    </tr>\n",
       "  </tbody>\n",
       "</table>\n",
       "</div>"
      ],
      "text/plain": [
       "구매여부   0    1\n",
       "상품배치         \n",
       "A     96  102\n",
       "B     92   68\n",
       "C     89   59"
      ]
     },
     "execution_count": 23,
     "metadata": {},
     "output_type": "execute_result"
    }
   ],
   "source": [
    "# 교차 테이블 생성\n",
    "cross_table = pd.crosstab(placement['상품배치'], placement['구매여부'])\n",
    "cross_table"
   ]
  },
  {
   "cell_type": "markdown",
   "metadata": {},
   "source": [
    "위만 보았을 때는 A 배치가 가장 낫다는 것을 판단할 수 있다. 하지만 정확한 검정을 위해 아래와 같은 카이제곱검정을 수행한다.\n",
    "이때 pvalue가 0.06으로 0.05보다 크면서, 구매여부와 상품배치에는 관계가 있다고 보기 힘듦.  \n",
    "\n",
    "    -> 그러나 그 이유는 B와 C의 차이가 크지 않아서 그랬을 뿐, 크로스 테이블을 보면 A가 더 낫다는 것을 확인할 수 있었음.\n",
    "\n",
    "    -> p값이 정석적이므로 p값을 보되, 통계량이나 데이터를 함께 보아야 더 적확한 해석이 가능하다.  "
   ]
  },
  {
   "cell_type": "code",
   "execution_count": 24,
   "metadata": {},
   "outputs": [
    {
     "name": "stdout",
     "output_type": "stream",
     "text": [
      "0.0686402428247769\n"
     ]
    }
   ],
   "source": [
    "obs = cross_table.values\n",
    "statistics, pvalue, dof, expected = chi2_contingency(obs)\n",
    "print(pvalue) "
   ]
  },
  {
   "cell_type": "code",
   "execution_count": 25,
   "metadata": {},
   "outputs": [
    {
     "data": {
      "text/html": [
       "<div>\n",
       "<style scoped>\n",
       "    .dataframe tbody tr th:only-of-type {\n",
       "        vertical-align: middle;\n",
       "    }\n",
       "\n",
       "    .dataframe tbody tr th {\n",
       "        vertical-align: top;\n",
       "    }\n",
       "\n",
       "    .dataframe thead th {\n",
       "        text-align: right;\n",
       "    }\n",
       "</style>\n",
       "<table border=\"1\" class=\"dataframe\">\n",
       "  <thead>\n",
       "    <tr style=\"text-align: right;\">\n",
       "      <th>구매여부</th>\n",
       "      <th>0</th>\n",
       "      <th>1</th>\n",
       "    </tr>\n",
       "    <tr>\n",
       "      <th>상품배치</th>\n",
       "      <th></th>\n",
       "      <th></th>\n",
       "    </tr>\n",
       "  </thead>\n",
       "  <tbody>\n",
       "    <tr>\n",
       "      <th>A</th>\n",
       "      <td>108.391304</td>\n",
       "      <td>89.608696</td>\n",
       "    </tr>\n",
       "    <tr>\n",
       "      <th>B</th>\n",
       "      <td>87.588933</td>\n",
       "      <td>72.411067</td>\n",
       "    </tr>\n",
       "    <tr>\n",
       "      <th>C</th>\n",
       "      <td>81.019763</td>\n",
       "      <td>66.980237</td>\n",
       "    </tr>\n",
       "  </tbody>\n",
       "</table>\n",
       "</div>"
      ],
      "text/plain": [
       "구매여부           0          1\n",
       "상품배치                       \n",
       "A     108.391304  89.608696\n",
       "B      87.588933  72.411067\n",
       "C      81.019763  66.980237"
      ]
     },
     "execution_count": 25,
     "metadata": {},
     "output_type": "execute_result"
    }
   ],
   "source": [
    "# 기대값\n",
    "pd.DataFrame(expected, columns = cross_table.columns, index = cross_table.index)"
   ]
  },
  {
   "cell_type": "markdown",
   "metadata": {},
   "source": [
    "## Step 3. 사이트맵 구성에 따른 체류 시간 차이 분석\n",
    "\n",
    "배치와 비슷하다. 그러나 각 고객 아이디를 인덱스로 설정하진 않는다. \n"
   ]
  },
  {
   "cell_type": "code",
   "execution_count": 29,
   "metadata": {},
   "outputs": [
    {
     "data": {
      "text/html": [
       "<div>\n",
       "<style scoped>\n",
       "    .dataframe tbody tr th:only-of-type {\n",
       "        vertical-align: middle;\n",
       "    }\n",
       "\n",
       "    .dataframe tbody tr th {\n",
       "        vertical-align: top;\n",
       "    }\n",
       "\n",
       "    .dataframe thead th {\n",
       "        text-align: right;\n",
       "    }\n",
       "</style>\n",
       "<table border=\"1\" class=\"dataframe\">\n",
       "  <thead>\n",
       "    <tr style=\"text-align: right;\">\n",
       "      <th></th>\n",
       "      <th>고객ID</th>\n",
       "      <th>체류시간(분)</th>\n",
       "    </tr>\n",
       "  </thead>\n",
       "  <tbody>\n",
       "    <tr>\n",
       "      <th>0</th>\n",
       "      <td>C-508</td>\n",
       "      <td>9</td>\n",
       "    </tr>\n",
       "    <tr>\n",
       "      <th>1</th>\n",
       "      <td>C-509</td>\n",
       "      <td>8</td>\n",
       "    </tr>\n",
       "    <tr>\n",
       "      <th>2</th>\n",
       "      <td>C-510</td>\n",
       "      <td>7</td>\n",
       "    </tr>\n",
       "    <tr>\n",
       "      <th>3</th>\n",
       "      <td>C-511</td>\n",
       "      <td>9</td>\n",
       "    </tr>\n",
       "    <tr>\n",
       "      <th>4</th>\n",
       "      <td>C-512</td>\n",
       "      <td>10</td>\n",
       "    </tr>\n",
       "  </tbody>\n",
       "</table>\n",
       "</div>"
      ],
      "text/plain": [
       "    고객ID  체류시간(분)\n",
       "0  C-508        9\n",
       "1  C-509        8\n",
       "2  C-510        7\n",
       "3  C-511        9\n",
       "4  C-512       10"
      ]
     },
     "execution_count": 29,
     "metadata": {},
     "output_type": "execute_result"
    }
   ],
   "source": [
    "sitemap_A = pd.read_csv('사이트맵_A.csv', encoding = 'cp949')\n",
    "sitemap_A.head()"
   ]
  },
  {
   "cell_type": "code",
   "execution_count": 30,
   "metadata": {},
   "outputs": [
    {
     "data": {
      "text/html": [
       "<div>\n",
       "<style scoped>\n",
       "    .dataframe tbody tr th:only-of-type {\n",
       "        vertical-align: middle;\n",
       "    }\n",
       "\n",
       "    .dataframe tbody tr th {\n",
       "        vertical-align: top;\n",
       "    }\n",
       "\n",
       "    .dataframe thead th {\n",
       "        text-align: right;\n",
       "    }\n",
       "</style>\n",
       "<table border=\"1\" class=\"dataframe\">\n",
       "  <thead>\n",
       "    <tr style=\"text-align: right;\">\n",
       "      <th></th>\n",
       "      <th>고객ID</th>\n",
       "      <th>체류시간(분)</th>\n",
       "    </tr>\n",
       "  </thead>\n",
       "  <tbody>\n",
       "    <tr>\n",
       "      <th>0</th>\n",
       "      <td>C-696</td>\n",
       "      <td>10</td>\n",
       "    </tr>\n",
       "    <tr>\n",
       "      <th>1</th>\n",
       "      <td>C-697</td>\n",
       "      <td>11</td>\n",
       "    </tr>\n",
       "    <tr>\n",
       "      <th>2</th>\n",
       "      <td>C-698</td>\n",
       "      <td>12</td>\n",
       "    </tr>\n",
       "    <tr>\n",
       "      <th>3</th>\n",
       "      <td>C-699</td>\n",
       "      <td>10</td>\n",
       "    </tr>\n",
       "    <tr>\n",
       "      <th>4</th>\n",
       "      <td>C-700</td>\n",
       "      <td>8</td>\n",
       "    </tr>\n",
       "  </tbody>\n",
       "</table>\n",
       "</div>"
      ],
      "text/plain": [
       "    고객ID  체류시간(분)\n",
       "0  C-696       10\n",
       "1  C-697       11\n",
       "2  C-698       12\n",
       "3  C-699       10\n",
       "4  C-700        8"
      ]
     },
     "execution_count": 30,
     "metadata": {},
     "output_type": "execute_result"
    }
   ],
   "source": [
    "sitemap_B = pd.read_csv('사이트맵_B.csv', encoding = 'cp949')\n",
    "sitemap_B.head()"
   ]
  },
  {
   "cell_type": "code",
   "execution_count": 31,
   "metadata": {},
   "outputs": [
    {
     "data": {
      "text/html": [
       "<div>\n",
       "<style scoped>\n",
       "    .dataframe tbody tr th:only-of-type {\n",
       "        vertical-align: middle;\n",
       "    }\n",
       "\n",
       "    .dataframe tbody tr th {\n",
       "        vertical-align: top;\n",
       "    }\n",
       "\n",
       "    .dataframe thead th {\n",
       "        text-align: right;\n",
       "    }\n",
       "</style>\n",
       "<table border=\"1\" class=\"dataframe\">\n",
       "  <thead>\n",
       "    <tr style=\"text-align: right;\">\n",
       "      <th></th>\n",
       "      <th>고객ID</th>\n",
       "      <th>체류시간(분)</th>\n",
       "    </tr>\n",
       "  </thead>\n",
       "  <tbody>\n",
       "    <tr>\n",
       "      <th>0</th>\n",
       "      <td>C-820</td>\n",
       "      <td>8</td>\n",
       "    </tr>\n",
       "    <tr>\n",
       "      <th>1</th>\n",
       "      <td>C-821</td>\n",
       "      <td>11</td>\n",
       "    </tr>\n",
       "    <tr>\n",
       "      <th>2</th>\n",
       "      <td>C-822</td>\n",
       "      <td>10</td>\n",
       "    </tr>\n",
       "    <tr>\n",
       "      <th>3</th>\n",
       "      <td>C-823</td>\n",
       "      <td>11</td>\n",
       "    </tr>\n",
       "    <tr>\n",
       "      <th>4</th>\n",
       "      <td>C-824</td>\n",
       "      <td>9</td>\n",
       "    </tr>\n",
       "  </tbody>\n",
       "</table>\n",
       "</div>"
      ],
      "text/plain": [
       "    고객ID  체류시간(분)\n",
       "0  C-820        8\n",
       "1  C-821       11\n",
       "2  C-822       10\n",
       "3  C-823       11\n",
       "4  C-824        9"
      ]
     },
     "execution_count": 31,
     "metadata": {},
     "output_type": "execute_result"
    }
   ],
   "source": [
    "sitemap_C = pd.read_csv('사이트맵_C.csv', encoding = 'cp949')\n",
    "sitemap_C.head()"
   ]
  },
  {
   "cell_type": "markdown",
   "metadata": {},
   "source": [
    "### 3-1. 그룹별 평균 체류 시간 비교\n",
    "그룹별(사이트맵별)로 각각의 시간을 값으로 하여 데이터를 설정하고 평균을 비교한다."
   ]
  },
  {
   "cell_type": "code",
   "execution_count": 32,
   "metadata": {},
   "outputs": [],
   "source": [
    "sitemap_A_time = sitemap_A['체류시간(분)'].values\n",
    "sitemap_B_time = sitemap_B['체류시간(분)'].values\n",
    "sitemap_C_time = sitemap_C['체류시간(분)'].values"
   ]
  },
  {
   "cell_type": "code",
   "execution_count": 33,
   "metadata": {},
   "outputs": [
    {
     "name": "stdout",
     "output_type": "stream",
     "text": [
      "사이트 맵 A의 체류시간 평균: 9.404\n",
      "사이트 맵 B의 체류시간 평균: 9.831\n",
      "사이트 맵 C의 체류시간 평균: 9.514\n"
     ]
    }
   ],
   "source": [
    "A_mean = sitemap_A_time.mean()\n",
    "B_mean = sitemap_B_time.mean()\n",
    "C_mean = sitemap_C_time.mean()\n",
    "\n",
    "print(\"사이트 맵 A의 체류시간 평균: {}\\n사이트 맵 B의 체류시간 평균: {}\\n사이트 맵 C의 체류시간 평균: {}\".format(round(A_mean, 3), round(B_mean, 3), round(C_mean, 3)))"
   ]
  },
  {
   "cell_type": "markdown",
   "metadata": {},
   "source": [
    "### 3-2. 체류시간 값을 boxplot으로 시각화\n",
    "\n",
    "- boxplot에서 하나의 위치는 각각 정수 1만큼의 차이에 위치하게 된다.  \n",
    "\n",
    "- 평균은 크게 차이나지 않아보이는데, A의 경우 거의 비슷하고, B는 편차가 있고, 그 편차는 C에서 더욱 커진다. \n"
   ]
  },
  {
   "cell_type": "code",
   "execution_count": 34,
   "metadata": {},
   "outputs": [
    {
     "data": {
      "image/png": "[encoded data removed]",
      "text/plain": [
       "<Figure size 1080x216 with 1 Axes>"
      ]
     },
     "metadata": {
      "needs_background": "light"
     },
     "output_type": "display_data"
    }
   ],
   "source": [
    "plt.boxplot([sitemap_A_time, sitemap_B_time, sitemap_C_time])\n",
    "plt.xticks([1, 2, 3], ['사이트맵 A', '사이트맵 B', '사이트맵 C'])\n",
    "plt.ylabel(\"체류시간\")\n",
    "plt.show()"
   ]
  },
  {
   "cell_type": "markdown",
   "metadata": {},
   "source": [
    "### 3-3. 일원분산분석 시행\n",
    "\n",
    "사이트맵 B가 0.4분 정도 더 많은데 이 시간이 유의미 한 것인지 아닌지 확인하도록 해보자. \n",
    "\n",
    "1. 정규분포를 따르는지 검정해보니 0이거나 0에 가까우므로 정규분포를 따른다.  \n",
    "2. 일원분산분석 수행: p-value가 0.05 초과. 대립가설 기각. 우연에 의한 차이일 뿐이다. \n",
    "    => A, B, C의 평균은 유의한 차이가 존재하지 않음을 확인  \n",
    "    => 사이트맵 배치를 어떻게 해도 크게 차이는 없는 것으로 보이지만, 분포를 보고 도메인 지식에 맞게 배치를 고려해도 좋을 것으로 보임.  \n",
    "\n"
   ]
  },
  {
   "cell_type": "code",
   "execution_count": 35,
   "metadata": {},
   "outputs": [
    {
     "name": "stdout",
     "output_type": "stream",
     "text": [
      "KstestResult(statistic=0.9999999990134123, pvalue=0.0)\n",
      "KstestResult(statistic=0.9999997133484281, pvalue=0.0)\n",
      "KstestResult(statistic=0.9891262924445604, pvalue=1.320331854479069e-206)\n"
     ]
    }
   ],
   "source": [
    "from scipy.stats import *\n",
    "print(kstest(sitemap_A_time, 'norm'))\n",
    "print(kstest(sitemap_B_time, 'norm'))\n",
    "print(kstest(sitemap_C_time, 'norm'))"
   ]
  },
  {
   "cell_type": "code",
   "execution_count": 36,
   "metadata": {},
   "outputs": [
    {
     "name": "stdout",
     "output_type": "stream",
     "text": [
      "F_onewayResult(statistic=1.6538817694924581, pvalue=0.19256727851054653)\n"
     ]
    }
   ],
   "source": [
    "print(f_oneway(sitemap_A_time, sitemap_B_time, sitemap_C_time))"
   ]
  },
  {
   "cell_type": "markdown",
   "metadata": {},
   "source": [
    "## Step 4. 할인 쿠폰의 효과 분석\n",
    "\n",
    "쌍체 표본 t-검정을 할 예정이다.  "
   ]
  },
  {
   "cell_type": "code",
   "execution_count": 37,
   "metadata": {},
   "outputs": [
    {
     "data": {
      "text/html": [
       "<div>\n",
       "<style scoped>\n",
       "    .dataframe tbody tr th:only-of-type {\n",
       "        vertical-align: middle;\n",
       "    }\n",
       "\n",
       "    .dataframe tbody tr th {\n",
       "        vertical-align: top;\n",
       "    }\n",
       "\n",
       "    .dataframe thead th {\n",
       "        text-align: right;\n",
       "    }\n",
       "</style>\n",
       "<table border=\"1\" class=\"dataframe\">\n",
       "  <thead>\n",
       "    <tr style=\"text-align: right;\">\n",
       "      <th></th>\n",
       "      <th>고객ID</th>\n",
       "      <th>발행전 구매 횟수</th>\n",
       "      <th>발행후 구매 횟수</th>\n",
       "    </tr>\n",
       "  </thead>\n",
       "  <tbody>\n",
       "    <tr>\n",
       "      <th>0</th>\n",
       "      <td>C-925</td>\n",
       "      <td>3</td>\n",
       "      <td>1</td>\n",
       "    </tr>\n",
       "    <tr>\n",
       "      <th>1</th>\n",
       "      <td>C-926</td>\n",
       "      <td>0</td>\n",
       "      <td>0</td>\n",
       "    </tr>\n",
       "    <tr>\n",
       "      <th>2</th>\n",
       "      <td>C-927</td>\n",
       "      <td>0</td>\n",
       "      <td>3</td>\n",
       "    </tr>\n",
       "    <tr>\n",
       "      <th>3</th>\n",
       "      <td>C-928</td>\n",
       "      <td>0</td>\n",
       "      <td>4</td>\n",
       "    </tr>\n",
       "    <tr>\n",
       "      <th>4</th>\n",
       "      <td>C-929</td>\n",
       "      <td>4</td>\n",
       "      <td>4</td>\n",
       "    </tr>\n",
       "  </tbody>\n",
       "</table>\n",
       "</div>"
      ],
      "text/plain": [
       "    고객ID  발행전 구매 횟수  발행후 구매 횟수\n",
       "0  C-925          3          1\n",
       "1  C-926          0          0\n",
       "2  C-927          0          3\n",
       "3  C-928          0          4\n",
       "4  C-929          4          4"
      ]
     },
     "execution_count": 37,
     "metadata": {},
     "output_type": "execute_result"
    }
   ],
   "source": [
    "df = pd.read_csv(\"할인쿠폰발행효과.csv\", encoding = \"cp949\")\n",
    "df.head()"
   ]
  },
  {
   "cell_type": "markdown",
   "metadata": {},
   "source": [
    "### 4.1 발행 전후 구매 횟수 차이에 대한 통계 분석\n",
    "\n",
    "- 발행 하면 1.25 번 정도 더 사는데, 편차가 큰 편이다. 유의한 평균인지 잘 모른다.  \n",
    "최소값이 -3으로 발행한 후 오히려 안산 경우도 있는 것이다. \n",
    "\n",
    "- 통계량만 보는 것은 기계적으로 단순하게 분석할 가능성이 높기 때문에 그래프를 함께 보도록 한다.  \n",
    "데이터를 이해하기 위해 반드시 수반되어야 하는 과정이다.  \n",
    "\n",
    "- 만약 두 박스플롯이 전 후의 차이가 각각 75% 위치와 25% 위치가 비슷한 높이일 정도로 박스의 높낮이에 차이가 존재하면 굳이 이후 검정을 수행하지 않아도 차이가 유의미한 것으로 생각하고 생략할 수 있다.  "
   ]
  },
  {
   "cell_type": "code",
   "execution_count": 38,
   "metadata": {},
   "outputs": [
    {
     "data": {
      "text/plain": [
       "count    154.000000\n",
       "mean       1.259740\n",
       "std        2.210507\n",
       "min       -3.000000\n",
       "25%        0.000000\n",
       "50%        1.000000\n",
       "75%        3.000000\n",
       "max        6.000000\n",
       "dtype: float64"
      ]
     },
     "execution_count": 38,
     "metadata": {},
     "output_type": "execute_result"
    }
   ],
   "source": [
    "# type: Series\n",
    "(df['발행후 구매 횟수'] - df['발행전 구매 횟수']).describe()"
   ]
  },
  {
   "cell_type": "code",
   "execution_count": 40,
   "metadata": {},
   "outputs": [
    {
     "data": {
      "text/plain": [
       "Text(0, 0.5, '구매 횟수')"
      ]
     },
     "execution_count": 40,
     "metadata": {},
     "output_type": "execute_result"
    },
    {
     "data": {
      "image/png": "[encoded data removed]",
      "text/plain": [
       "<Figure size 216x360 with 1 Axes>"
      ]
     },
     "metadata": {
      "needs_background": "light"
     },
     "output_type": "display_data"
    }
   ],
   "source": [
    "plt.figure(figsize = (3, 5))\n",
    "plt.boxplot([df['발행전 구매 횟수'], df['발행후 구매 횟수']])\n",
    "plt.xticks([1, 2], ['발행전', '발행후'])\n",
    "plt.ylabel(\"구매 횟수\")"
   ]
  },
  {
   "cell_type": "markdown",
   "metadata": {},
   "source": [
    "### 4.2 쌍체 표본 t-검정\n",
    "\n",
    "정규성 검정 대상은 차이에 대한 검정이 필요한다. p-value가 매우 작기 때문에 정규분포를 따르는 것이라 알 수 있다.(?) 아니라고  \n",
    "p-value가 0.05보다 작으므로 두 난수가 같은 분포라는 귀무가설을 기각할 수 있다. 입니다라고요.\n",
    "(*https://hslee09.medium.com/r-%ED%86%B5%EA%B3%84%EB%B6%84%EC%84%9D-%EC%A0%81%ED%95%A9%EB%8F%84-%EA%B2%80%EC%A0%95-caf48dca9de1* ) 아니 왜 다들 같은 이야기를 하는데 왜 여기서만 그러냐고요....\n",
    "\n",
    "쌍체 표본 t-test의 결과의 p값이 0.05 미만이므로 차이는 유의미하다, 우연이 아니라고 할 수 있다. "
   ]
  },
  {
   "cell_type": "code",
   "execution_count": 41,
   "metadata": {},
   "outputs": [
    {
     "data": {
      "text/plain": [
       "KstestResult(statistic=0.4253018161037688, pvalue=8.597340234980609e-26)"
      ]
     },
     "execution_count": 41,
     "metadata": {},
     "output_type": "execute_result"
    }
   ],
   "source": [
    "# 정규성 검정\n",
    "kstest(df['발행후 구매 횟수'] - df['발행전 구매 횟수'], 'norm')"
   ]
  },
  {
   "cell_type": "code",
   "execution_count": 42,
   "metadata": {},
   "outputs": [
    {
     "data": {
      "text/plain": [
       "Ttest_relResult(statistic=7.07211673728211, pvalue=5.104217839308897e-11)"
      ]
     },
     "execution_count": 42,
     "metadata": {},
     "output_type": "execute_result"
    }
   ],
   "source": [
    "ttest_rel(df['발행후 구매 횟수'], df['발행전 구매 횟수'])"
   ]
  },
  {
   "cell_type": "markdown",
   "metadata": {},
   "source": [
    "## Step 5. 체류 시간과 구매 금액 간 관계 분석\n",
    "\n",
    "*체류시간의 단위는 분 단위*\n",
    "\n"
   ]
  },
  {
   "cell_type": "code",
   "execution_count": 43,
   "metadata": {},
   "outputs": [
    {
     "data": {
      "text/html": [
       "<div>\n",
       "<style scoped>\n",
       "    .dataframe tbody tr th:only-of-type {\n",
       "        vertical-align: middle;\n",
       "    }\n",
       "\n",
       "    .dataframe tbody tr th {\n",
       "        vertical-align: top;\n",
       "    }\n",
       "\n",
       "    .dataframe thead th {\n",
       "        text-align: right;\n",
       "    }\n",
       "</style>\n",
       "<table border=\"1\" class=\"dataframe\">\n",
       "  <thead>\n",
       "    <tr style=\"text-align: right;\">\n",
       "      <th></th>\n",
       "      <th>고객ID</th>\n",
       "      <th>구매금액</th>\n",
       "      <th>체류시간</th>\n",
       "    </tr>\n",
       "  </thead>\n",
       "  <tbody>\n",
       "    <tr>\n",
       "      <th>0</th>\n",
       "      <td>C-1079</td>\n",
       "      <td>78625</td>\n",
       "      <td>9</td>\n",
       "    </tr>\n",
       "    <tr>\n",
       "      <th>1</th>\n",
       "      <td>C-1080</td>\n",
       "      <td>0</td>\n",
       "      <td>9</td>\n",
       "    </tr>\n",
       "    <tr>\n",
       "      <th>2</th>\n",
       "      <td>C-1081</td>\n",
       "      <td>105173</td>\n",
       "      <td>12</td>\n",
       "    </tr>\n",
       "    <tr>\n",
       "      <th>3</th>\n",
       "      <td>C-1082</td>\n",
       "      <td>0</td>\n",
       "      <td>14</td>\n",
       "    </tr>\n",
       "    <tr>\n",
       "      <th>4</th>\n",
       "      <td>C-1083</td>\n",
       "      <td>0</td>\n",
       "      <td>10</td>\n",
       "    </tr>\n",
       "  </tbody>\n",
       "</table>\n",
       "</div>"
      ],
      "text/plain": [
       "     고객ID    구매금액  체류시간\n",
       "0  C-1079   78625     9\n",
       "1  C-1080       0     9\n",
       "2  C-1081  105173    12\n",
       "3  C-1082       0    14\n",
       "4  C-1083       0    10"
      ]
     },
     "execution_count": 43,
     "metadata": {},
     "output_type": "execute_result"
    }
   ],
   "source": [
    "df = pd.read_csv(\"체류시간_구매금액.csv\", encoding = \"cp949\")\n",
    "df.head()"
   ]
  },
  {
   "cell_type": "markdown",
   "metadata": {},
   "source": [
    "### 5-1. 산점도로 체류시간과 구매금액 연관성 보기\n",
    "\n",
    "전반적으로 체류시간과 구매금액이 비례하는 경향성을 확인할 수 있다."
   ]
  },
  {
   "cell_type": "code",
   "execution_count": 52,
   "metadata": {},
   "outputs": [
    {
     "data": {
      "text/plain": [
       "<AxesSubplot:xlabel='체류시간', ylabel='구매금액'>"
      ]
     },
     "execution_count": 52,
     "metadata": {},
     "output_type": "execute_result"
    },
    {
     "data": {
      "image/png": "[encoded data removed]",
      "text/plain": [
       "<Figure size 432x432 with 1 Axes>"
      ]
     },
     "metadata": {
      "needs_background": "light"
     },
     "output_type": "display_data"
    }
   ],
   "source": [
    "df.plot(kind = 'scatter', x = '체류시간', y = '구매금액', figsize = (6,6))"
   ]
  },
  {
   "cell_type": "markdown",
   "metadata": {},
   "source": [
    "### 5-2. correlation matrix 확인\n",
    "\n",
    "선형관계가 있는지 확인해본다.\n",
    "\n",
    "구매금액이 0이 아닌 데이터만 따로 선형관계를 확인한다.\n",
    "\n",
    "- 0.3 정도면 약한 선형관계라고 볼 수 있는데, 자연적인 데이터인 것을 감안하면 꽤 높은 수치라고 얘기할 수도 있을 정도이다.  \n",
    "\n",
    "- 스피어만의 경우 순위간의 관계를 생각하여 비교를 하는데, 구매금액이 큰 순위의 애들이 무조건 체류시간도 순위가 높은가에 따라서는 조금 다르다. 선후관계 보다는 적은 관계성이 있다고 볼 수 있다.  \n",
    "\n"
   ]
  },
  {
   "cell_type": "code",
   "execution_count": 53,
   "metadata": {},
   "outputs": [
    {
     "data": {
      "text/html": [
       "<div>\n",
       "<style scoped>\n",
       "    .dataframe tbody tr th:only-of-type {\n",
       "        vertical-align: middle;\n",
       "    }\n",
       "\n",
       "    .dataframe tbody tr th {\n",
       "        vertical-align: top;\n",
       "    }\n",
       "\n",
       "    .dataframe thead th {\n",
       "        text-align: right;\n",
       "    }\n",
       "</style>\n",
       "<table border=\"1\" class=\"dataframe\">\n",
       "  <thead>\n",
       "    <tr style=\"text-align: right;\">\n",
       "      <th></th>\n",
       "      <th>구매금액</th>\n",
       "      <th>체류시간</th>\n",
       "    </tr>\n",
       "  </thead>\n",
       "  <tbody>\n",
       "    <tr>\n",
       "      <th>구매금액</th>\n",
       "      <td>1.000000</td>\n",
       "      <td>0.320852</td>\n",
       "    </tr>\n",
       "    <tr>\n",
       "      <th>체류시간</th>\n",
       "      <td>0.320852</td>\n",
       "      <td>1.000000</td>\n",
       "    </tr>\n",
       "  </tbody>\n",
       "</table>\n",
       "</div>"
      ],
      "text/plain": [
       "          구매금액      체류시간\n",
       "구매금액  1.000000  0.320852\n",
       "체류시간  0.320852  1.000000"
      ]
     },
     "execution_count": 53,
     "metadata": {},
     "output_type": "execute_result"
    }
   ],
   "source": [
    "df.corr(method = 'pearson')"
   ]
  },
  {
   "cell_type": "code",
   "execution_count": 54,
   "metadata": {},
   "outputs": [
    {
     "data": {
      "text/html": [
       "<div>\n",
       "<style scoped>\n",
       "    .dataframe tbody tr th:only-of-type {\n",
       "        vertical-align: middle;\n",
       "    }\n",
       "\n",
       "    .dataframe tbody tr th {\n",
       "        vertical-align: top;\n",
       "    }\n",
       "\n",
       "    .dataframe thead th {\n",
       "        text-align: right;\n",
       "    }\n",
       "</style>\n",
       "<table border=\"1\" class=\"dataframe\">\n",
       "  <thead>\n",
       "    <tr style=\"text-align: right;\">\n",
       "      <th></th>\n",
       "      <th>구매금액</th>\n",
       "      <th>체류시간</th>\n",
       "    </tr>\n",
       "  </thead>\n",
       "  <tbody>\n",
       "    <tr>\n",
       "      <th>구매금액</th>\n",
       "      <td>1.000000</td>\n",
       "      <td>0.229853</td>\n",
       "    </tr>\n",
       "    <tr>\n",
       "      <th>체류시간</th>\n",
       "      <td>0.229853</td>\n",
       "      <td>1.000000</td>\n",
       "    </tr>\n",
       "  </tbody>\n",
       "</table>\n",
       "</div>"
      ],
      "text/plain": [
       "          구매금액      체류시간\n",
       "구매금액  1.000000  0.229853\n",
       "체류시간  0.229853  1.000000"
      ]
     },
     "execution_count": 54,
     "metadata": {},
     "output_type": "execute_result"
    }
   ],
   "source": [
    "df.corr(method = 'spearman')"
   ]
  },
  {
   "cell_type": "code",
   "execution_count": 55,
   "metadata": {},
   "outputs": [
    {
     "data": {
      "text/html": [
       "<div>\n",
       "<style scoped>\n",
       "    .dataframe tbody tr th:only-of-type {\n",
       "        vertical-align: middle;\n",
       "    }\n",
       "\n",
       "    .dataframe tbody tr th {\n",
       "        vertical-align: top;\n",
       "    }\n",
       "\n",
       "    .dataframe thead th {\n",
       "        text-align: right;\n",
       "    }\n",
       "</style>\n",
       "<table border=\"1\" class=\"dataframe\">\n",
       "  <thead>\n",
       "    <tr style=\"text-align: right;\">\n",
       "      <th></th>\n",
       "      <th>구매금액</th>\n",
       "      <th>체류시간</th>\n",
       "    </tr>\n",
       "  </thead>\n",
       "  <tbody>\n",
       "    <tr>\n",
       "      <th>구매금액</th>\n",
       "      <td>1.000000</td>\n",
       "      <td>0.924526</td>\n",
       "    </tr>\n",
       "    <tr>\n",
       "      <th>체류시간</th>\n",
       "      <td>0.924526</td>\n",
       "      <td>1.000000</td>\n",
       "    </tr>\n",
       "  </tbody>\n",
       "</table>\n",
       "</div>"
      ],
      "text/plain": [
       "          구매금액      체류시간\n",
       "구매금액  1.000000  0.924526\n",
       "체류시간  0.924526  1.000000"
      ]
     },
     "execution_count": 55,
     "metadata": {},
     "output_type": "execute_result"
    }
   ],
   "source": [
    "df_without_zero = df.loc[df['구매금액'] != 0]\n",
    "df_without_zero.corr(method = 'pearson')"
   ]
  },
  {
   "cell_type": "code",
   "execution_count": 56,
   "metadata": {},
   "outputs": [
    {
     "data": {
      "text/html": [
       "<div>\n",
       "<style scoped>\n",
       "    .dataframe tbody tr th:only-of-type {\n",
       "        vertical-align: middle;\n",
       "    }\n",
       "\n",
       "    .dataframe tbody tr th {\n",
       "        vertical-align: top;\n",
       "    }\n",
       "\n",
       "    .dataframe thead th {\n",
       "        text-align: right;\n",
       "    }\n",
       "</style>\n",
       "<table border=\"1\" class=\"dataframe\">\n",
       "  <thead>\n",
       "    <tr style=\"text-align: right;\">\n",
       "      <th></th>\n",
       "      <th>구매금액</th>\n",
       "      <th>체류시간</th>\n",
       "    </tr>\n",
       "  </thead>\n",
       "  <tbody>\n",
       "    <tr>\n",
       "      <th>구매금액</th>\n",
       "      <td>1.000000</td>\n",
       "      <td>0.938099</td>\n",
       "    </tr>\n",
       "    <tr>\n",
       "      <th>체류시간</th>\n",
       "      <td>0.938099</td>\n",
       "      <td>1.000000</td>\n",
       "    </tr>\n",
       "  </tbody>\n",
       "</table>\n",
       "</div>"
      ],
      "text/plain": [
       "          구매금액      체류시간\n",
       "구매금액  1.000000  0.938099\n",
       "체류시간  0.938099  1.000000"
      ]
     },
     "execution_count": 56,
     "metadata": {},
     "output_type": "execute_result"
    }
   ],
   "source": [
    "df_without_zero.corr(method = 'spearman')"
   ]
  },
  {
   "cell_type": "markdown",
   "metadata": {},
   "source": [
    "구매금액이 0이 아닌 데이터만 모았을 때는 엄청나게 강한 양의 상관관계를 보여준다.\n",
    "\n",
    "따라서 홈페이지에 오래 잡아두는 장치가 필요할 것으로 보인다고 결론을 내릴 수 있다.  \n",
    "\n",
    "스피어만에서 더 오른 이유는 단순하다. 구매금액이 0인 것들이 순위가 항상 꼴등이기 때문에 분석에 방해가 되었을 것이다. "
   ]
  },
  {
   "cell_type": "markdown",
   "metadata": {},
   "source": [
    "## Step 6. 구매버튼 배치에 따른 구매율 차이 분석\n",
    "\n",
    "1. 데이터 처리\n",
    "    구매여부에 값이 없는 것이 있다. 값이 없는 것을 확인하기 위해 원 데이터를 확인해 본 결과, xlsx의 셀 병합 때문에 결측행이 생긴 것으로 보인다.  \n",
    "    결측 행을 처리하기 위해 fillna를 사용한다.  \n",
    "    방법에 따라 여러 방식으로 결측치를 채우는데 `ffill`이라는 것을 사용하여, 바로 이전의 값들 중 결측이 아닌 값으로 채우는 의미이다.  \n",
    "    "
   ]
  },
  {
   "cell_type": "code",
   "execution_count": 57,
   "metadata": {},
   "outputs": [
    {
     "data": {
      "text/html": [
       "<div>\n",
       "<style scoped>\n",
       "    .dataframe tbody tr th:only-of-type {\n",
       "        vertical-align: middle;\n",
       "    }\n",
       "\n",
       "    .dataframe tbody tr th {\n",
       "        vertical-align: top;\n",
       "    }\n",
       "\n",
       "    .dataframe thead th {\n",
       "        text-align: right;\n",
       "    }\n",
       "</style>\n",
       "<table border=\"1\" class=\"dataframe\">\n",
       "  <thead>\n",
       "    <tr style=\"text-align: right;\">\n",
       "      <th></th>\n",
       "      <th>구매여부</th>\n",
       "      <th>버튼타입</th>\n",
       "      <th>고객 수</th>\n",
       "    </tr>\n",
       "  </thead>\n",
       "  <tbody>\n",
       "    <tr>\n",
       "      <th>0</th>\n",
       "      <td>구매</td>\n",
       "      <td>A</td>\n",
       "      <td>9</td>\n",
       "    </tr>\n",
       "    <tr>\n",
       "      <th>1</th>\n",
       "      <td>NaN</td>\n",
       "      <td>B</td>\n",
       "      <td>9</td>\n",
       "    </tr>\n",
       "    <tr>\n",
       "      <th>2</th>\n",
       "      <td>NaN</td>\n",
       "      <td>C</td>\n",
       "      <td>15</td>\n",
       "    </tr>\n",
       "    <tr>\n",
       "      <th>3</th>\n",
       "      <td>비구매</td>\n",
       "      <td>A</td>\n",
       "      <td>93</td>\n",
       "    </tr>\n",
       "    <tr>\n",
       "      <th>4</th>\n",
       "      <td>NaN</td>\n",
       "      <td>B</td>\n",
       "      <td>85</td>\n",
       "    </tr>\n",
       "  </tbody>\n",
       "</table>\n",
       "</div>"
      ],
      "text/plain": [
       "  구매여부 버튼타입  고객 수\n",
       "0   구매    A     9\n",
       "1  NaN    B     9\n",
       "2  NaN    C    15\n",
       "3  비구매    A    93\n",
       "4  NaN    B    85"
      ]
     },
     "execution_count": 57,
     "metadata": {},
     "output_type": "execute_result"
    }
   ],
   "source": [
    "df = pd.read_excel(\"구매여부_버튼타입_통계.xlsx\")\n",
    "df.head()"
   ]
  },
  {
   "cell_type": "code",
   "execution_count": 58,
   "metadata": {},
   "outputs": [
    {
     "data": {
      "text/html": [
       "<div>\n",
       "<style scoped>\n",
       "    .dataframe tbody tr th:only-of-type {\n",
       "        vertical-align: middle;\n",
       "    }\n",
       "\n",
       "    .dataframe tbody tr th {\n",
       "        vertical-align: top;\n",
       "    }\n",
       "\n",
       "    .dataframe thead th {\n",
       "        text-align: right;\n",
       "    }\n",
       "</style>\n",
       "<table border=\"1\" class=\"dataframe\">\n",
       "  <thead>\n",
       "    <tr style=\"text-align: right;\">\n",
       "      <th></th>\n",
       "      <th>구매여부</th>\n",
       "      <th>버튼타입</th>\n",
       "      <th>고객 수</th>\n",
       "    </tr>\n",
       "  </thead>\n",
       "  <tbody>\n",
       "    <tr>\n",
       "      <th>0</th>\n",
       "      <td>구매</td>\n",
       "      <td>A</td>\n",
       "      <td>9</td>\n",
       "    </tr>\n",
       "    <tr>\n",
       "      <th>1</th>\n",
       "      <td>구매</td>\n",
       "      <td>B</td>\n",
       "      <td>9</td>\n",
       "    </tr>\n",
       "    <tr>\n",
       "      <th>2</th>\n",
       "      <td>구매</td>\n",
       "      <td>C</td>\n",
       "      <td>15</td>\n",
       "    </tr>\n",
       "    <tr>\n",
       "      <th>3</th>\n",
       "      <td>비구매</td>\n",
       "      <td>A</td>\n",
       "      <td>93</td>\n",
       "    </tr>\n",
       "    <tr>\n",
       "      <th>4</th>\n",
       "      <td>비구매</td>\n",
       "      <td>B</td>\n",
       "      <td>85</td>\n",
       "    </tr>\n",
       "  </tbody>\n",
       "</table>\n",
       "</div>"
      ],
      "text/plain": [
       "  구매여부 버튼타입  고객 수\n",
       "0   구매    A     9\n",
       "1   구매    B     9\n",
       "2   구매    C    15\n",
       "3  비구매    A    93\n",
       "4  비구매    B    85"
      ]
     },
     "execution_count": 58,
     "metadata": {},
     "output_type": "execute_result"
    }
   ],
   "source": [
    "df.fillna(method = 'ffill', inplace = True)\n",
    "df.head()"
   ]
  },
  {
   "cell_type": "markdown",
   "metadata": {},
   "source": [
    "### 6-1. 버튼타입과 구매여부에 따른 고객 수 피봇팅\n",
    "\n",
    "크로스테이블과 비슷하기 때문에, 이름을 그렇게 지었다고 하셨음... obs는 observation을 뜻한다고(!)\n",
    "\n",
    "- 데이터 유형에 따라서 크로스탭을 사용할 것인지 피벗테이블을 사용할 것인지 판단을 하는 것도 중요하다.  \n",
    "지금은 수치들이 있었기 때문에(요약이 되어있기 때문에?) 피봇 테이블을 사용하였다고 했다.  \n",
    "\n",
    "- pvalue가 0.38로 구매여부와 버튼타입 간에는 관계가 없음을 확인  \n",
    "안살 사람은 안사는 것으로 수치적으로 확인하였다."
   ]
  },
  {
   "cell_type": "code",
   "execution_count": 59,
   "metadata": {},
   "outputs": [
    {
     "data": {
      "text/html": [
       "<div>\n",
       "<style scoped>\n",
       "    .dataframe tbody tr th:only-of-type {\n",
       "        vertical-align: middle;\n",
       "    }\n",
       "\n",
       "    .dataframe tbody tr th {\n",
       "        vertical-align: top;\n",
       "    }\n",
       "\n",
       "    .dataframe thead th {\n",
       "        text-align: right;\n",
       "    }\n",
       "</style>\n",
       "<table border=\"1\" class=\"dataframe\">\n",
       "  <thead>\n",
       "    <tr style=\"text-align: right;\">\n",
       "      <th>버튼타입</th>\n",
       "      <th>A</th>\n",
       "      <th>B</th>\n",
       "      <th>C</th>\n",
       "    </tr>\n",
       "    <tr>\n",
       "      <th>구매여부</th>\n",
       "      <th></th>\n",
       "      <th></th>\n",
       "      <th></th>\n",
       "    </tr>\n",
       "  </thead>\n",
       "  <tbody>\n",
       "    <tr>\n",
       "      <th>구매</th>\n",
       "      <td>9</td>\n",
       "      <td>9</td>\n",
       "      <td>15</td>\n",
       "    </tr>\n",
       "    <tr>\n",
       "      <th>비구매</th>\n",
       "      <td>93</td>\n",
       "      <td>85</td>\n",
       "      <td>89</td>\n",
       "    </tr>\n",
       "  </tbody>\n",
       "</table>\n",
       "</div>"
      ],
      "text/plain": [
       "버튼타입   A   B   C\n",
       "구매여부            \n",
       "구매     9   9  15\n",
       "비구매   93  85  89"
      ]
     },
     "execution_count": 59,
     "metadata": {},
     "output_type": "execute_result"
    }
   ],
   "source": [
    "cross_button_buy = pd.pivot_table(df, index = '구매여부', columns = '버튼타입', values = '고객 수')\n",
    "cross_button_buy"
   ]
  },
  {
   "cell_type": "code",
   "execution_count": 60,
   "metadata": {},
   "outputs": [
    {
     "name": "stdout",
     "output_type": "stream",
     "text": [
      "0.38033325575735993\n"
     ]
    }
   ],
   "source": [
    "obs = cross_button_buy.values\n",
    "statistics, pvalue, dof, expected = chi2_contingency(obs)\n",
    "print(pvalue)"
   ]
  }
 ],
 "metadata": {
  "kernelspec": {
   "display_name": "Python 3 (ipykernel)",
   "language": "python",
   "name": "python3"
  },
  "language_info": {
   "codemirror_mode": {
    "name": "ipython",
    "version": 3
   },
   "file_extension": ".py",
   "mimetype": "text/x-python",
   "name": "python",
   "nbconvert_exporter": "python",
   "pygments_lexer": "ipython3",
   "version": "3.8.5"
  },
  "toc": {
   "base_numbering": 1,
   "nav_menu": {},
   "number_sections": true,
   "sideBar": true,
   "skip_h1_title": false,
   "title_cell": "Table of Contents",
   "title_sidebar": "Contents",
   "toc_cell": false,
   "toc_position": {},
   "toc_section_display": true,
   "toc_window_display": false
  }
 },
 "nbformat": 4,
 "nbformat_minor": 4
}

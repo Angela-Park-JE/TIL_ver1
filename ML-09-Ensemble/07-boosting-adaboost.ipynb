{
 "cells": [
  {
   "cell_type": "markdown",
   "id": "dee0e18b",
   "metadata": {},
   "source": [
    "# 머신러닝 with Python \n",
    "## 09 앙상블 학습 부스팅(Boosting) 실습- breast_cancer 데이터\n",
    "\n",
    "##### 에이다 부스트 알고리즘을 활용하여 유방암 여부를 예측하는 모형을 만들어본다.\n",
    "\n",
    "책 p.282~ (실습은 Gaussian Naive Bayse 모델로 진행되었지만 LinearRegression 으로 해보기로 한다.)\n",
    "\n",
    "---\n",
    "\n",
    "하단부에서는 \n",
    "\n",
    "> 배운점1: "
   ]
  },
  {
   "cell_type": "markdown",
   "id": "d022679e",
   "metadata": {},
   "source": [
    "### 데이터 불러오기"
   ]
  },
  {
   "cell_type": "code",
   "execution_count": 1,
   "id": "78e3ab2c",
   "metadata": {},
   "outputs": [],
   "source": [
    "from sklearn import datasets"
   ]
  },
  {
   "cell_type": "code",
   "execution_count": 2,
   "id": "baf788f0",
   "metadata": {},
   "outputs": [],
   "source": [
    "# 유방암 데이터 가져오기\n",
    "\n",
    "raw_breast_cancer = datasets.load_breast_cancer()"
   ]
  },
  {
   "cell_type": "code",
   "execution_count": 3,
   "id": "c4be6bef",
   "metadata": {
    "scrolled": true
   },
   "outputs": [
    {
     "data": {
      "text/plain": [
       "{'data': array([[1.799e+01, 1.038e+01, 1.228e+02, ..., 2.654e-01, 4.601e-01,\n",
       "         1.189e-01],\n",
       "        [2.057e+01, 1.777e+01, 1.329e+02, ..., 1.860e-01, 2.750e-01,\n",
       "         8.902e-02],\n",
       "        [1.969e+01, 2.125e+01, 1.300e+02, ..., 2.430e-01, 3.613e-01,\n",
       "         8.758e-02],\n",
       "        ...,\n",
       "        [1.660e+01, 2.808e+01, 1.083e+02, ..., 1.418e-01, 2.218e-01,\n",
       "         7.820e-02],\n",
       "        [2.060e+01, 2.933e+01, 1.401e+02, ..., 2.650e-01, 4.087e-01,\n",
       "         1.240e-01],\n",
       "        [7.760e+00, 2.454e+01, 4.792e+01, ..., 0.000e+00, 2.871e-01,\n",
       "         7.039e-02]]),\n",
       " 'target': array([0, 0, 0, 0, 0, 0, 0, 0, 0, 0, 0, 0, 0, 0, 0, 0, 0, 0, 0, 1, 1, 1,\n",
       "        0, 0, 0, 0, 0, 0, 0, 0, 0, 0, 0, 0, 0, 0, 0, 1, 0, 0, 0, 0, 0, 0,\n",
       "        0, 0, 1, 0, 1, 1, 1, 1, 1, 0, 0, 1, 0, 0, 1, 1, 1, 1, 0, 1, 0, 0,\n",
       "        1, 1, 1, 1, 0, 1, 0, 0, 1, 0, 1, 0, 0, 1, 1, 1, 0, 0, 1, 0, 0, 0,\n",
       "        1, 1, 1, 0, 1, 1, 0, 0, 1, 1, 1, 0, 0, 1, 1, 1, 1, 0, 1, 1, 0, 1,\n",
       "        1, 1, 1, 1, 1, 1, 1, 0, 0, 0, 1, 0, 0, 1, 1, 1, 0, 0, 1, 0, 1, 0,\n",
       "        0, 1, 0, 0, 1, 1, 0, 1, 1, 0, 1, 1, 1, 1, 0, 1, 1, 1, 1, 1, 1, 1,\n",
       "        1, 1, 0, 1, 1, 1, 1, 0, 0, 1, 0, 1, 1, 0, 0, 1, 1, 0, 0, 1, 1, 1,\n",
       "        1, 0, 1, 1, 0, 0, 0, 1, 0, 1, 0, 1, 1, 1, 0, 1, 1, 0, 0, 1, 0, 0,\n",
       "        0, 0, 1, 0, 0, 0, 1, 0, 1, 0, 1, 1, 0, 1, 0, 0, 0, 0, 1, 1, 0, 0,\n",
       "        1, 1, 1, 0, 1, 1, 1, 1, 1, 0, 0, 1, 1, 0, 1, 1, 0, 0, 1, 0, 1, 1,\n",
       "        1, 1, 0, 1, 1, 1, 1, 1, 0, 1, 0, 0, 0, 0, 0, 0, 0, 0, 0, 0, 0, 0,\n",
       "        0, 0, 1, 1, 1, 1, 1, 1, 0, 1, 0, 1, 1, 0, 1, 1, 0, 1, 0, 0, 1, 1,\n",
       "        1, 1, 1, 1, 1, 1, 1, 1, 1, 1, 1, 0, 1, 1, 0, 1, 0, 1, 1, 1, 1, 1,\n",
       "        1, 1, 1, 1, 1, 1, 1, 1, 1, 0, 1, 1, 1, 0, 1, 0, 1, 1, 1, 1, 0, 0,\n",
       "        0, 1, 1, 1, 1, 0, 1, 0, 1, 0, 1, 1, 1, 0, 1, 1, 1, 1, 1, 1, 1, 0,\n",
       "        0, 0, 1, 1, 1, 1, 1, 1, 1, 1, 1, 1, 1, 0, 0, 1, 0, 0, 0, 1, 0, 0,\n",
       "        1, 1, 1, 1, 1, 0, 1, 1, 1, 1, 1, 0, 1, 1, 1, 0, 1, 1, 0, 0, 1, 1,\n",
       "        1, 1, 1, 1, 0, 1, 1, 1, 1, 1, 1, 1, 0, 1, 1, 1, 1, 1, 0, 1, 1, 0,\n",
       "        1, 1, 1, 1, 1, 1, 1, 1, 1, 1, 1, 1, 0, 1, 0, 0, 1, 0, 1, 1, 1, 1,\n",
       "        1, 0, 1, 1, 0, 1, 0, 1, 1, 0, 1, 0, 1, 1, 1, 1, 1, 1, 1, 1, 0, 0,\n",
       "        1, 1, 1, 1, 1, 1, 0, 1, 1, 1, 1, 1, 1, 1, 1, 1, 1, 0, 1, 1, 1, 1,\n",
       "        1, 1, 1, 0, 1, 0, 1, 1, 0, 1, 1, 1, 1, 1, 0, 0, 1, 0, 1, 0, 1, 1,\n",
       "        1, 1, 1, 0, 1, 1, 0, 1, 0, 1, 0, 0, 1, 1, 1, 0, 1, 1, 1, 1, 1, 1,\n",
       "        1, 1, 1, 1, 1, 0, 1, 0, 0, 1, 1, 1, 1, 1, 1, 1, 1, 1, 1, 1, 1, 1,\n",
       "        1, 1, 1, 1, 1, 1, 1, 1, 1, 1, 1, 1, 0, 0, 0, 0, 0, 0, 1]),\n",
       " 'frame': None,\n",
       " 'target_names': array(['malignant', 'benign'], dtype='<U9'),\n",
       " 'DESCR': '.. _breast_cancer_dataset:\\n\\nBreast cancer wisconsin (diagnostic) dataset\\n--------------------------------------------\\n\\n**Data Set Characteristics:**\\n\\n    :Number of Instances: 569\\n\\n    :Number of Attributes: 30 numeric, predictive attributes and the class\\n\\n    :Attribute Information:\\n        - radius (mean of distances from center to points on the perimeter)\\n        - texture (standard deviation of gray-scale values)\\n        - perimeter\\n        - area\\n        - smoothness (local variation in radius lengths)\\n        - compactness (perimeter^2 / area - 1.0)\\n        - concavity (severity of concave portions of the contour)\\n        - concave points (number of concave portions of the contour)\\n        - symmetry\\n        - fractal dimension (\"coastline approximation\" - 1)\\n\\n        The mean, standard error, and \"worst\" or largest (mean of the three\\n        worst/largest values) of these features were computed for each image,\\n        resulting in 30 features.  For instance, field 0 is Mean Radius, field\\n        10 is Radius SE, field 20 is Worst Radius.\\n\\n        - class:\\n                - WDBC-Malignant\\n                - WDBC-Benign\\n\\n    :Summary Statistics:\\n\\n    ===================================== ====== ======\\n                                           Min    Max\\n    ===================================== ====== ======\\n    radius (mean):                        6.981  28.11\\n    texture (mean):                       9.71   39.28\\n    perimeter (mean):                     43.79  188.5\\n    area (mean):                          143.5  2501.0\\n    smoothness (mean):                    0.053  0.163\\n    compactness (mean):                   0.019  0.345\\n    concavity (mean):                     0.0    0.427\\n    concave points (mean):                0.0    0.201\\n    symmetry (mean):                      0.106  0.304\\n    fractal dimension (mean):             0.05   0.097\\n    radius (standard error):              0.112  2.873\\n    texture (standard error):             0.36   4.885\\n    perimeter (standard error):           0.757  21.98\\n    area (standard error):                6.802  542.2\\n    smoothness (standard error):          0.002  0.031\\n    compactness (standard error):         0.002  0.135\\n    concavity (standard error):           0.0    0.396\\n    concave points (standard error):      0.0    0.053\\n    symmetry (standard error):            0.008  0.079\\n    fractal dimension (standard error):   0.001  0.03\\n    radius (worst):                       7.93   36.04\\n    texture (worst):                      12.02  49.54\\n    perimeter (worst):                    50.41  251.2\\n    area (worst):                         185.2  4254.0\\n    smoothness (worst):                   0.071  0.223\\n    compactness (worst):                  0.027  1.058\\n    concavity (worst):                    0.0    1.252\\n    concave points (worst):               0.0    0.291\\n    symmetry (worst):                     0.156  0.664\\n    fractal dimension (worst):            0.055  0.208\\n    ===================================== ====== ======\\n\\n    :Missing Attribute Values: None\\n\\n    :Class Distribution: 212 - Malignant, 357 - Benign\\n\\n    :Creator:  Dr. William H. Wolberg, W. Nick Street, Olvi L. Mangasarian\\n\\n    :Donor: Nick Street\\n\\n    :Date: November, 1995\\n\\nThis is a copy of UCI ML Breast Cancer Wisconsin (Diagnostic) datasets.\\nhttps://goo.gl/U2Uwz2\\n\\nFeatures are computed from a digitized image of a fine needle\\naspirate (FNA) of a breast mass.  They describe\\ncharacteristics of the cell nuclei present in the image.\\n\\nSeparating plane described above was obtained using\\nMultisurface Method-Tree (MSM-T) [K. P. Bennett, \"Decision Tree\\nConstruction Via Linear Programming.\" Proceedings of the 4th\\nMidwest Artificial Intelligence and Cognitive Science Society,\\npp. 97-101, 1992], a classification method which uses linear\\nprogramming to construct a decision tree.  Relevant features\\nwere selected using an exhaustive search in the space of 1-4\\nfeatures and 1-3 separating planes.\\n\\nThe actual linear program used to obtain the separating plane\\nin the 3-dimensional space is that described in:\\n[K. P. Bennett and O. L. Mangasarian: \"Robust Linear\\nProgramming Discrimination of Two Linearly Inseparable Sets\",\\nOptimization Methods and Software 1, 1992, 23-34].\\n\\nThis database is also available through the UW CS ftp server:\\n\\nftp ftp.cs.wisc.edu\\ncd math-prog/cpo-dataset/machine-learn/WDBC/\\n\\n.. topic:: References\\n\\n   - W.N. Street, W.H. Wolberg and O.L. Mangasarian. Nuclear feature extraction \\n     for breast tumor diagnosis. IS&T/SPIE 1993 International Symposium on \\n     Electronic Imaging: Science and Technology, volume 1905, pages 861-870,\\n     San Jose, CA, 1993.\\n   - O.L. Mangasarian, W.N. Street and W.H. Wolberg. Breast cancer diagnosis and \\n     prognosis via linear programming. Operations Research, 43(4), pages 570-577, \\n     July-August 1995.\\n   - W.H. Wolberg, W.N. Street, and O.L. Mangasarian. Machine learning techniques\\n     to diagnose breast cancer from fine-needle aspirates. Cancer Letters 77 (1994) \\n     163-171.',\n",
       " 'feature_names': array(['mean radius', 'mean texture', 'mean perimeter', 'mean area',\n",
       "        'mean smoothness', 'mean compactness', 'mean concavity',\n",
       "        'mean concave points', 'mean symmetry', 'mean fractal dimension',\n",
       "        'radius error', 'texture error', 'perimeter error', 'area error',\n",
       "        'smoothness error', 'compactness error', 'concavity error',\n",
       "        'concave points error', 'symmetry error',\n",
       "        'fractal dimension error', 'worst radius', 'worst texture',\n",
       "        'worst perimeter', 'worst area', 'worst smoothness',\n",
       "        'worst compactness', 'worst concavity', 'worst concave points',\n",
       "        'worst symmetry', 'worst fractal dimension'], dtype='<U23'),\n",
       " 'filename': 'breast_cancer.csv',\n",
       " 'data_module': 'sklearn.datasets.data'}"
      ]
     },
     "execution_count": 3,
     "metadata": {},
     "output_type": "execute_result"
    }
   ],
   "source": [
    "# 데이터 살펴보기\n",
    "\n",
    "raw_breast_cancer"
   ]
  },
  {
   "cell_type": "code",
   "execution_count": 4,
   "id": "1fee972a",
   "metadata": {},
   "outputs": [
    {
     "data": {
      "text/plain": [
       "array(['mean radius', 'mean texture', 'mean perimeter', 'mean area',\n",
       "       'mean smoothness', 'mean compactness', 'mean concavity',\n",
       "       'mean concave points', 'mean symmetry', 'mean fractal dimension',\n",
       "       'radius error', 'texture error', 'perimeter error', 'area error',\n",
       "       'smoothness error', 'compactness error', 'concavity error',\n",
       "       'concave points error', 'symmetry error',\n",
       "       'fractal dimension error', 'worst radius', 'worst texture',\n",
       "       'worst perimeter', 'worst area', 'worst smoothness',\n",
       "       'worst compactness', 'worst concavity', 'worst concave points',\n",
       "       'worst symmetry', 'worst fractal dimension'], dtype='<U23')"
      ]
     },
     "execution_count": 4,
     "metadata": {},
     "output_type": "execute_result"
    }
   ],
   "source": [
    "# 데이터 셋 내 피처 이름들\n",
    "\n",
    "raw_breast_cancer.feature_names"
   ]
  },
  {
   "cell_type": "markdown",
   "id": "53e0dae9",
   "metadata": {},
   "source": [
    "### 피처, 타깃 데이터 지정"
   ]
  },
  {
   "cell_type": "code",
   "execution_count": 5,
   "id": "e76b530f",
   "metadata": {},
   "outputs": [],
   "source": [
    "X = raw_breast_cancer.data\n",
    "y = raw_breast_cancer.target"
   ]
  },
  {
   "cell_type": "markdown",
   "id": "a90ae465",
   "metadata": {},
   "source": [
    "### 트레이닝/테스트 데이터 분할"
   ]
  },
  {
   "cell_type": "code",
   "execution_count": 6,
   "id": "3acca5ae",
   "metadata": {},
   "outputs": [],
   "source": [
    "from sklearn.model_selection import train_test_split                 # 분할을 위해 필요한 함수\n",
    "X_tn, X_te, y_tn, y_te = train_test_split(X, y, random_state = 0)    # 분리. randomstate는 고정"
   ]
  },
  {
   "cell_type": "markdown",
   "id": "7fdc70ec",
   "metadata": {},
   "source": [
    "### 데이터 표준화"
   ]
  },
  {
   "cell_type": "code",
   "execution_count": 7,
   "id": "a771eaa3",
   "metadata": {},
   "outputs": [],
   "source": [
    "from sklearn.preprocessing import StandardScaler         # 데이터 표준화를 위한 함수\n",
    "std_scale = StandardScaler()                             # 표준화 스케일러 지정\n",
    "std_scale.fit(X_tn)                                      # 트레이닝 피처를 기준으로 표준화를 적합 시도\n",
    "\n",
    "X_tn_std = std_scale.transform(X_tn) \n",
    "X_te_std = std_scale.transform(X_te)                     # 트레인, 테스트 데이터 각각 적합시킨 표준화에 맞게 변형"
   ]
  },
  {
   "cell_type": "markdown",
   "id": "da9de511",
   "metadata": {},
   "source": [
    "### 데이터 학습"
   ]
  },
  {
   "cell_type": "code",
   "execution_count": 9,
   "id": "ee6910d1",
   "metadata": {},
   "outputs": [
    {
     "data": {
      "text/plain": [
       "AdaBoostClassifier(random_state=0)"
      ]
     },
     "execution_count": 9,
     "metadata": {},
     "output_type": "execute_result"
    }
   ],
   "source": [
    "from sklearn.ensemble import AdaBoostClassifier          # 에이다부스트분류기 함수. 회귀문제를 풀때는 regressor 호출\n",
    "clf_ada = AdaBoostClassifier(random_state = 0)           # 모형 설정.\n",
    "clf_ada.fit(X_tn_std, y_tn)                              # 적합"
   ]
  },
  {
   "cell_type": "markdown",
   "id": "03fd9156",
   "metadata": {},
   "source": [
    "### 데이터 예측"
   ]
  },
  {
   "cell_type": "code",
   "execution_count": 10,
   "id": "3205bf01",
   "metadata": {},
   "outputs": [
    {
     "name": "stdout",
     "output_type": "stream",
     "text": [
      "[0 1 1 1 1 1 1 1 1 1 0 1 1 1 1 0 1 0 0 0 0 0 1 1 0 1 1 0 1 0 1 0 1 0 1 0 1\n",
      " 0 1 0 0 1 0 1 1 0 1 1 1 0 0 0 0 1 1 1 1 1 1 0 0 0 1 1 0 1 0 0 0 1 1 0 1 0\n",
      " 0 1 1 1 1 1 0 0 0 1 0 1 1 1 0 0 1 1 1 0 1 1 0 1 1 1 1 1 1 1 0 1 0 1 0 0 1\n",
      " 0 0 1 1 1 1 1 1 1 1 1 0 1 0 0 1 1 1 1 0 1 1 1 1 1 1 0 0 1 1 1 0]\n"
     ]
    }
   ],
   "source": [
    "pred_ada = clf_ada.predict(X_te_std)                     # std된 테스트 피처 데이터를 넣고 실행하여 결과 확인 \n",
    "print(pred_ada)"
   ]
  },
  {
   "cell_type": "markdown",
   "id": "5639cdb8",
   "metadata": {},
   "source": [
    "### 정확도 평가"
   ]
  },
  {
   "cell_type": "code",
   "execution_count": 11,
   "id": "901af3e1",
   "metadata": {},
   "outputs": [
    {
     "name": "stdout",
     "output_type": "stream",
     "text": [
      "0.9790209790209791\n"
     ]
    }
   ],
   "source": [
    "from sklearn.metrics import accuracy_score\n",
    "accuracy = accuracy_score(y_te, pred_ada)                # 실제값과 예측값을 넣음\n",
    "print(accuracy)"
   ]
  },
  {
   "cell_type": "markdown",
   "id": "05c5ea91",
   "metadata": {},
   "source": [
    "### confusion matrix 확인"
   ]
  },
  {
   "cell_type": "code",
   "execution_count": 12,
   "id": "4a91b3e7",
   "metadata": {},
   "outputs": [
    {
     "name": "stdout",
     "output_type": "stream",
     "text": [
      "[[52  1]\n",
      " [ 2 88]]\n"
     ]
    }
   ],
   "source": [
    "from sklearn.metrics import confusion_matrix\n",
    "conf_matrix = confusion_matrix(y_te, pred_ada)\n",
    "print(conf_matrix)"
   ]
  },
  {
   "cell_type": "markdown",
   "id": "b7d3fa3c",
   "metadata": {},
   "source": [
    "양성을 음성으로 분류한 것 1개, 음성을 양성으로 분류한 것 2개가 나타났다. 맞나?"
   ]
  },
  {
   "cell_type": "markdown",
   "id": "c1fa8933",
   "metadata": {},
   "source": [
    "### 분류 리포트 확인"
   ]
  },
  {
   "cell_type": "code",
   "execution_count": 13,
   "id": "313190f5",
   "metadata": {},
   "outputs": [
    {
     "name": "stdout",
     "output_type": "stream",
     "text": [
      "              precision    recall  f1-score   support\n",
      "\n",
      "           0       0.96      0.98      0.97        53\n",
      "           1       0.99      0.98      0.98        90\n",
      "\n",
      "    accuracy                           0.98       143\n",
      "   macro avg       0.98      0.98      0.98       143\n",
      "weighted avg       0.98      0.98      0.98       143\n",
      "\n"
     ]
    }
   ],
   "source": [
    "from sklearn.metrics import classification_report\n",
    "class_report = classification_report(y_te, pred_ada)\n",
    "print(class_report)"
   ]
  },
  {
   "cell_type": "markdown",
   "id": "6d758781",
   "metadata": {},
   "source": [
    "### 결과\n",
    "\n",
    "정확도 자체가 딱 봤을 때 0.98이 나쁜 수치는 아니지만, 의학에서는 양성을 음성으로 잘못 판단할 경우 사람이 목숨을 잃을 가능성이 있기 때문에 작은 오차도 허용해서는 안된다.\n",
    "\n",
    "\n",
    "\n",
    "여기서 드는 궁금증. AdaBoostClassifier의 여러 옵션값들이 있는 것 같은데 보니, 여기에도 base_estimtor라는 것이 등장한다.\n",
    "\n",
    "실제로 앞의 배깅이나 보팅을 할 경우 기본 분류기를 이것저것 적어넣어서 만들었던 것으로 기억한다.\n",
    "\n",
    "분류기의 종류를 따로 정하지 않은 상태인것 같은데 이부분이 궁금해지는 부분인 것이다. \n",
    "\n",
    "그리고 n_estimators가 기본 값이 50으로 되어있는데 이 부분도 고치고 싶다.\n",
    "\n",
    "learning_rate야 데이터 양이 적으니 괜찮을 것 같고.\n",
    "\n",
    "---\n",
    "\n",
    "### 아래는 함수 설명 글이다.\n",
    "\n",
    "```\n",
    "Init signature:\n",
    "AdaBoostClassifier(\n",
    "    base_estimator=None,\n",
    "    *,\n",
    "    n_estimators=50,\n",
    "    learning_rate=1.0,\n",
    "    algorithm='SAMME.R',\n",
    "    random_state=None,\n",
    ")\n",
    "\n",
    "\n",
    "Parameters\n",
    "----------\n",
    "base_estimator : object, default=None\n",
    "    The base estimator from which the boosted ensemble is built.\n",
    "    Support for sample weighting is required, as well as proper\n",
    "    ``classes_`` and ``n_classes_`` attributes. If ``None``, then\n",
    "    the base estimator is :class:`~sklearn.tree.DecisionTreeClassifier`\n",
    "    initialized with `max_depth=1`.\n",
    "\n",
    "n_estimators : int, default=50\n",
    "    The maximum number of estimators at which boosting is terminated.\n",
    "    In case of perfect fit, the learning procedure is stopped early.\n",
    "\n",
    "learning_rate : float, default=1.0\n",
    "    Weight applied to each classifier at each boosting iteration. A higher\n",
    "    learning rate increases the contribution of each classifier. There is\n",
    "    a trade-off between the `learning_rate` and `n_estimators` parameters.\n",
    "\n",
    "algorithm : {'SAMME', 'SAMME.R'}, default='SAMME.R'\n",
    "    If 'SAMME.R' then use the SAMME.R real boosting algorithm.\n",
    "    ``base_estimator`` must support calculation of class probabilities.\n",
    "    If 'SAMME' then use the SAMME discrete boosting algorithm.\n",
    "    The SAMME.R algorithm typically converges faster than SAMME,\n",
    "    achieving a lower test error with fewer boosting iterations.\n",
    "\n",
    "random_state : int, RandomState instance or None, default=None\n",
    "    Controls the random seed given at each `base_estimator` at each\n",
    "    boosting iteration.\n",
    "    Thus, it is only used when `base_estimator` exposes a `random_state`.\n",
    "    Pass an int for reproducible output across multiple function calls.\n",
    "    See :term:`Glossary <random_state>`.\n",
    "\n",
    "Attributes\n",
    "----------\n",
    "base_estimator_ : estimator\n",
    "    The base estimator from which the ensemble is grown.\n",
    "\n",
    "estimators_ : list of classifiers\n",
    "    The collection of fitted sub-estimators.\n",
    "\n",
    "classes_ : ndarray of shape (n_classes,)\n",
    "    The classes labels.\n",
    "\n",
    "n_classes_ : int\n",
    "    The number of classes.\n",
    "\n",
    "estimator_weights_ : ndarray of floats\n",
    "    Weights for each estimator in the boosted ensemble.\n",
    "\n",
    "estimator_errors_ : ndarray of floats\n",
    "    Classification error for each estimator in the boosted\n",
    "    ensemble.\n",
    "\n",
    "feature_importances_ : ndarray of shape (n_features,)\n",
    "    The impurity-based feature importances if supported by the\n",
    "    ``base_estimator`` (when based on decision trees).\n",
    "\n",
    "    Warning: impurity-based feature importances can be misleading for\n",
    "    high cardinality features (many unique values). See\n",
    "    :func:`sklearn.inspection.permutation_importance` as an alternative.\n",
    "\n",
    "n_features_in_ : int\n",
    "    Number of features seen during :term:`fit`.\n",
    "\n",
    "    .. versionadded:: 0.24\n",
    "\n",
    "feature_names_in_ : ndarray of shape (`n_features_in_`,)\n",
    "    Names of features seen during :term:`fit`. Defined only when `X`\n",
    "    has feature names that are all strings.\n",
    "\n",
    "    .. versionadded:: 1.0\n",
    "\n",
    "\n",
    "Examples\n",
    "--------\n",
    ">>> from sklearn.ensemble import AdaBoostClassifier\n",
    ">>> from sklearn.datasets import make_classification\n",
    ">>> X, y = make_classification(n_samples=1000, n_features=4,\n",
    "...                            n_informative=2, n_redundant=0,\n",
    "...                            random_state=0, shuffle=False)\n",
    ">>> clf = AdaBoostClassifier(n_estimators=100, random_state=0)\n",
    ">>> clf.fit(X, y)\n",
    "AdaBoostClassifier(n_estimators=100, random_state=0)\n",
    ">>> clf.predict([[0, 0, 0, 0]])\n",
    "array([1])\n",
    ">>> clf.score(X, y)\n",
    "0.983...\n",
    "File:           ~/opt/anaconda3/envs/py3_8_5/lib/python3.8/site-packages/sklearn/ensemble/_weight_boosting.py\n",
    "Type:           ABCMeta\n",
    "Subclasses:     \n",
    "```"
   ]
  },
  {
   "cell_type": "markdown",
   "id": "01aad3a1",
   "metadata": {},
   "source": [
    "# 실험 - base_estimator, n_estimators 변경해보기"
   ]
  },
  {
   "cell_type": "markdown",
   "id": "3bde13c7",
   "metadata": {},
   "source": [
    "## 실험1: LogisticRegression"
   ]
  },
  {
   "cell_type": "code",
   "execution_count": 15,
   "id": "3afd18ad",
   "metadata": {},
   "outputs": [
    {
     "name": "stdout",
     "output_type": "stream",
     "text": [
      "모델 분류기 종류:  <class 'sklearn.linear_model._logistic.LogisticRegression'>\n",
      "모델 정확도:  0.951048951048951\n",
      "모델 분류 리포트\n",
      "              precision    recall  f1-score   support\n",
      "\n",
      "           0       0.93      0.94      0.93        53\n",
      "           1       0.97      0.96      0.96        90\n",
      "\n",
      "    accuracy                           0.95       143\n",
      "   macro avg       0.95      0.95      0.95       143\n",
      "weighted avg       0.95      0.95      0.95       143\n",
      "\n",
      "========================================================\n"
     ]
    }
   ],
   "source": [
    "from sklearn.linear_model import LogisticRegression      # 선형 회귀 분류기\n",
    "from sklearn.svm import SVC                              # svm 분류기\n",
    "from sklearn.naive_bayes import GaussianNB               # 나이브 베이즈 분류기\n",
    "from sklearn.ensemble import AdaBoostClassifier          # 에이다부스트분류기 함수. 회귀문제를 풀때는 regressor 호출\n",
    "from sklearn.metrics import accuracy_score               # 정확도 테스트 함수\n",
    "from sklearn.metrics import classification_report        # 분류 리포트 확인을 위한 함수\n",
    "\n",
    "# 보통 estimators 라고 쓰는데 나는 초보이니 헷갈릴까봐 learner로 쓴다.\n",
    "learners = [LogisticRegression]\n",
    "\n",
    "for i in learners:\n",
    "    # 배깅을 활용한 분류기 생성(모형 설정)\n",
    "    clf_ada = AdaBoostClassifier(base_estimator = i(random_state = 0), random_state = 0) \n",
    "    \n",
    "    # 데이터 학습\n",
    "    clf_ada.fit(X_tn_std, y_tn)\n",
    "    \n",
    "    # 데이터 예측\n",
    "    pred_ada = clf_ada.predict(X_te_std) \n",
    "    \n",
    "    # 데이터 정확도 평가\n",
    "    accuracy = accuracy_score(y_te, pred_ada)\n",
    "    \n",
    "    # 분류 리포트 확인\n",
    "    class_report = classification_report(y_te, pred_ada)\n",
    "    \n",
    "    # 모델 상황 확인\n",
    "    \n",
    "    print(\"모델 분류기 종류: \", i )\n",
    "    print(\"모델 정확도: \", accuracy)\n",
    "    print(\"모델 분류 리포트\")\n",
    "    print(class_report)\n",
    "    print(\"========================================================\")"
   ]
  },
  {
   "cell_type": "markdown",
   "id": "365004ac",
   "metadata": {},
   "source": [
    "### 결과\n",
    "\n",
    "오마이갓... 선형회귀로 했더니 정확도는 약 2퍼센트 포인트 하락했다. 이것은 엄청난 오류인 것이에요.\n",
    "\n",
    "그럼 다른 머신들로도 해보자."
   ]
  },
  {
   "cell_type": "markdown",
   "id": "ccf3b612",
   "metadata": {},
   "source": [
    "## 실험1-1: n_estimator 개수 조정"
   ]
  },
  {
   "cell_type": "code",
   "execution_count": 29,
   "id": "5982599b",
   "metadata": {},
   "outputs": [
    {
     "name": "stdout",
     "output_type": "stream",
     "text": [
      "모델 분류기 종류:  <class 'sklearn.linear_model._logistic.LogisticRegression'>\n",
      "분류기 개수(n_estimator):  10 개\n",
      "모델 정확도:  0.965034965034965\n",
      "모델 분류 리포트\n",
      "              precision    recall  f1-score   support\n",
      "\n",
      "           0       0.96      0.94      0.95        53\n",
      "           1       0.97      0.98      0.97        90\n",
      "\n",
      "    accuracy                           0.97       143\n",
      "   macro avg       0.96      0.96      0.96       143\n",
      "weighted avg       0.96      0.97      0.96       143\n",
      "\n",
      "========================================================\n",
      "모델 분류기 종류:  <class 'sklearn.linear_model._logistic.LogisticRegression'>\n",
      "분류기 개수(n_estimator):  25 개\n",
      "모델 정확도:  0.958041958041958\n",
      "모델 분류 리포트\n",
      "              precision    recall  f1-score   support\n",
      "\n",
      "           0       0.94      0.94      0.94        53\n",
      "           1       0.97      0.97      0.97        90\n",
      "\n",
      "    accuracy                           0.96       143\n",
      "   macro avg       0.96      0.96      0.96       143\n",
      "weighted avg       0.96      0.96      0.96       143\n",
      "\n",
      "========================================================\n",
      "모델 분류기 종류:  <class 'sklearn.linear_model._logistic.LogisticRegression'>\n",
      "분류기 개수(n_estimator):  50 개\n",
      "모델 정확도:  0.951048951048951\n",
      "모델 분류 리포트\n",
      "              precision    recall  f1-score   support\n",
      "\n",
      "           0       0.93      0.94      0.93        53\n",
      "           1       0.97      0.96      0.96        90\n",
      "\n",
      "    accuracy                           0.95       143\n",
      "   macro avg       0.95      0.95      0.95       143\n",
      "weighted avg       0.95      0.95      0.95       143\n",
      "\n",
      "========================================================\n",
      "모델 분류기 종류:  <class 'sklearn.linear_model._logistic.LogisticRegression'>\n",
      "분류기 개수(n_estimator):  60 개\n",
      "모델 정확도:  0.951048951048951\n",
      "모델 분류 리포트\n",
      "              precision    recall  f1-score   support\n",
      "\n",
      "           0       0.93      0.94      0.93        53\n",
      "           1       0.97      0.96      0.96        90\n",
      "\n",
      "    accuracy                           0.95       143\n",
      "   macro avg       0.95      0.95      0.95       143\n",
      "weighted avg       0.95      0.95      0.95       143\n",
      "\n",
      "========================================================\n",
      "모델 분류기 종류:  <class 'sklearn.linear_model._logistic.LogisticRegression'>\n",
      "분류기 개수(n_estimator):  75 개\n",
      "모델 정확도:  0.9440559440559441\n",
      "모델 분류 리포트\n",
      "              precision    recall  f1-score   support\n",
      "\n",
      "           0       0.91      0.94      0.93        53\n",
      "           1       0.97      0.94      0.96        90\n",
      "\n",
      "    accuracy                           0.94       143\n",
      "   macro avg       0.94      0.94      0.94       143\n",
      "weighted avg       0.94      0.94      0.94       143\n",
      "\n",
      "========================================================\n",
      "모델 분류기 종류:  <class 'sklearn.linear_model._logistic.LogisticRegression'>\n",
      "분류기 개수(n_estimator):  90 개\n",
      "모델 정확도:  0.9440559440559441\n",
      "모델 분류 리포트\n",
      "              precision    recall  f1-score   support\n",
      "\n",
      "           0       0.91      0.94      0.93        53\n",
      "           1       0.97      0.94      0.96        90\n",
      "\n",
      "    accuracy                           0.94       143\n",
      "   macro avg       0.94      0.94      0.94       143\n",
      "weighted avg       0.94      0.94      0.94       143\n",
      "\n",
      "========================================================\n",
      "모델 분류기 종류:  <class 'sklearn.linear_model._logistic.LogisticRegression'>\n",
      "분류기 개수(n_estimator):  100 개\n",
      "모델 정확도:  0.9440559440559441\n",
      "모델 분류 리포트\n",
      "              precision    recall  f1-score   support\n",
      "\n",
      "           0       0.91      0.94      0.93        53\n",
      "           1       0.97      0.94      0.96        90\n",
      "\n",
      "    accuracy                           0.94       143\n",
      "   macro avg       0.94      0.94      0.94       143\n",
      "weighted avg       0.94      0.94      0.94       143\n",
      "\n",
      "========================================================\n"
     ]
    }
   ],
   "source": [
    "from sklearn.linear_model import LogisticRegression      # 선형 회귀 분류기\n",
    "from sklearn.svm import SVC                              # svm 분류기\n",
    "from sklearn.naive_bayes import GaussianNB               # 나이브 베이즈 분류기\n",
    "from sklearn.ensemble import AdaBoostClassifier          # 에이다부스트분류기 함수. 회귀문제를 풀때는 regressor 호출\n",
    "from sklearn.metrics import accuracy_score               # 정확도 테스트 함수\n",
    "from sklearn.metrics import classification_report        # 분류 리포트 확인을 위한 함수\n",
    "\n",
    "# 보통 estimators 라고 쓰는데 나는 초보이니 헷갈릴까봐 learner로 쓴다.\n",
    "learners = [LogisticRegression]\n",
    "# 50이 디폴트이지만 함께 비교가 쉽도록 넣어버린다.\n",
    "n_esti = [10, 25, 50, 60, 75, 90, 100]\n",
    "\n",
    "for i in learners:\n",
    "    for j in n_esti:\n",
    "        # 배깅을 활용한 분류기 생성(모형 설정)\n",
    "        clf_ada = AdaBoostClassifier(base_estimator = i(random_state = 0), random_state = 0, n_estimators = j) \n",
    "\n",
    "        # 데이터 학습\n",
    "        clf_ada.fit(X_tn_std, y_tn)\n",
    "\n",
    "        # 데이터 예측\n",
    "        pred_ada = clf_ada.predict(X_te_std) \n",
    "\n",
    "        # 데이터 정확도 평가\n",
    "        accuracy = accuracy_score(y_te, pred_ada)\n",
    "\n",
    "        # 분류 리포트 확인\n",
    "        class_report = classification_report(y_te, pred_ada)\n",
    "\n",
    "        # 모델 상황 확인\n",
    "\n",
    "        print(\"모델 분류기 종류: \", i )\n",
    "        print(\"분류기 개수(n_estimator): \", j, \"개\")\n",
    "        print(\"모델 정확도: \", accuracy)\n",
    "        print(\"모델 분류 리포트\")\n",
    "        print(class_report)\n",
    "        print(\"========================================================\")"
   ]
  },
  {
   "cell_type": "markdown",
   "id": "ee8b47ac",
   "metadata": {},
   "source": [
    "### 결과\n",
    "\n",
    "개수가 일정 수준 이상 되면 정확도가 줄어들다가 더 이상 줄어들지 않는다. 75개에서 나타났는데, 재밌는 결과이다.\n",
    "\n",
    "## 실험1-2: 옵션 수정(multi_class = 'multinomial')"
   ]
  },
  {
   "cell_type": "code",
   "execution_count": 30,
   "id": "c137daed",
   "metadata": {},
   "outputs": [
    {
     "name": "stdout",
     "output_type": "stream",
     "text": [
      "모델 분류기 종류:  <class 'sklearn.linear_model._logistic.LogisticRegression'>\n",
      "분류기 개수(n_estimator):  10 개\n",
      "모델 정확도:  0.958041958041958\n",
      "모델 분류 리포트\n",
      "              precision    recall  f1-score   support\n",
      "\n",
      "           0       0.94      0.94      0.94        53\n",
      "           1       0.97      0.97      0.97        90\n",
      "\n",
      "    accuracy                           0.96       143\n",
      "   macro avg       0.96      0.96      0.96       143\n",
      "weighted avg       0.96      0.96      0.96       143\n",
      "\n",
      "========================================================\n",
      "모델 분류기 종류:  <class 'sklearn.linear_model._logistic.LogisticRegression'>\n",
      "분류기 개수(n_estimator):  25 개\n",
      "모델 정확도:  0.951048951048951\n",
      "모델 분류 리포트\n",
      "              precision    recall  f1-score   support\n",
      "\n",
      "           0       0.93      0.94      0.93        53\n",
      "           1       0.97      0.96      0.96        90\n",
      "\n",
      "    accuracy                           0.95       143\n",
      "   macro avg       0.95      0.95      0.95       143\n",
      "weighted avg       0.95      0.95      0.95       143\n",
      "\n",
      "========================================================\n",
      "모델 분류기 종류:  <class 'sklearn.linear_model._logistic.LogisticRegression'>\n",
      "분류기 개수(n_estimator):  50 개\n",
      "모델 정확도:  0.9440559440559441\n",
      "모델 분류 리포트\n",
      "              precision    recall  f1-score   support\n",
      "\n",
      "           0       0.91      0.94      0.93        53\n",
      "           1       0.97      0.94      0.96        90\n",
      "\n",
      "    accuracy                           0.94       143\n",
      "   macro avg       0.94      0.94      0.94       143\n",
      "weighted avg       0.94      0.94      0.94       143\n",
      "\n",
      "========================================================\n",
      "모델 분류기 종류:  <class 'sklearn.linear_model._logistic.LogisticRegression'>\n",
      "분류기 개수(n_estimator):  60 개\n",
      "모델 정확도:  0.9440559440559441\n",
      "모델 분류 리포트\n",
      "              precision    recall  f1-score   support\n",
      "\n",
      "           0       0.91      0.94      0.93        53\n",
      "           1       0.97      0.94      0.96        90\n",
      "\n",
      "    accuracy                           0.94       143\n",
      "   macro avg       0.94      0.94      0.94       143\n",
      "weighted avg       0.94      0.94      0.94       143\n",
      "\n",
      "========================================================\n",
      "모델 분류기 종류:  <class 'sklearn.linear_model._logistic.LogisticRegression'>\n",
      "분류기 개수(n_estimator):  75 개\n",
      "모델 정확도:  0.9370629370629371\n",
      "모델 분류 리포트\n",
      "              precision    recall  f1-score   support\n",
      "\n",
      "           0       0.91      0.92      0.92        53\n",
      "           1       0.96      0.94      0.95        90\n",
      "\n",
      "    accuracy                           0.94       143\n",
      "   macro avg       0.93      0.93      0.93       143\n",
      "weighted avg       0.94      0.94      0.94       143\n",
      "\n",
      "========================================================\n",
      "모델 분류기 종류:  <class 'sklearn.linear_model._logistic.LogisticRegression'>\n",
      "분류기 개수(n_estimator):  90 개\n",
      "모델 정확도:  0.9440559440559441\n",
      "모델 분류 리포트\n",
      "              precision    recall  f1-score   support\n",
      "\n",
      "           0       0.91      0.94      0.93        53\n",
      "           1       0.97      0.94      0.96        90\n",
      "\n",
      "    accuracy                           0.94       143\n",
      "   macro avg       0.94      0.94      0.94       143\n",
      "weighted avg       0.94      0.94      0.94       143\n",
      "\n",
      "========================================================\n",
      "모델 분류기 종류:  <class 'sklearn.linear_model._logistic.LogisticRegression'>\n",
      "분류기 개수(n_estimator):  100 개\n",
      "모델 정확도:  0.9440559440559441\n",
      "모델 분류 리포트\n",
      "              precision    recall  f1-score   support\n",
      "\n",
      "           0       0.91      0.94      0.93        53\n",
      "           1       0.97      0.94      0.96        90\n",
      "\n",
      "    accuracy                           0.94       143\n",
      "   macro avg       0.94      0.94      0.94       143\n",
      "weighted avg       0.94      0.94      0.94       143\n",
      "\n",
      "========================================================\n"
     ]
    }
   ],
   "source": [
    "from sklearn.linear_model import LogisticRegression      # 선형 회귀 분류기\n",
    "from sklearn.svm import SVC                              # svm 분류기\n",
    "from sklearn.naive_bayes import GaussianNB               # 나이브 베이즈 분류기\n",
    "from sklearn.ensemble import AdaBoostClassifier          # 에이다부스트분류기 함수. 회귀문제를 풀때는 regressor 호출\n",
    "from sklearn.metrics import accuracy_score               # 정확도 테스트 함수\n",
    "from sklearn.metrics import classification_report        # 분류 리포트 확인을 위한 함수\n",
    "\n",
    "# 보통 estimators 라고 쓰는데 나는 초보이니 헷갈릴까봐 learner로 쓴다.\n",
    "learners = [LogisticRegression]\n",
    "# 50이 디폴트이지만 함께 비교가 쉽도록 넣어버린다.\n",
    "n_esti = [10, 25, 50, 60, 75, 90, 100]\n",
    "\n",
    "for i in learners:\n",
    "    for j in n_esti:\n",
    "        # 배깅을 활용한 분류기 생성(모형 설정)\n",
    "        clf_ada = AdaBoostClassifier(base_estimator = i(multi_class = 'multinomial',random_state = 0), random_state = 0, n_estimators = j) \n",
    "\n",
    "        # 데이터 학습\n",
    "        clf_ada.fit(X_tn_std, y_tn)\n",
    "\n",
    "        # 데이터 예측\n",
    "        pred_ada = clf_ada.predict(X_te_std) \n",
    "\n",
    "        # 데이터 정확도 평가\n",
    "        accuracy = accuracy_score(y_te, pred_ada)\n",
    "\n",
    "        # 분류 리포트 확인\n",
    "        class_report = classification_report(y_te, pred_ada)\n",
    "\n",
    "        # 모델 상황 확인\n",
    "\n",
    "        print(\"모델 분류기 종류: \", i )\n",
    "        print(\"분류기 개수(n_estimator): \", j, \"개\")\n",
    "        print(\"모델 정확도: \", accuracy)\n",
    "        print(\"모델 분류 리포트\")\n",
    "        print(class_report)\n",
    "        print(\"========================================================\")"
   ]
  },
  {
   "cell_type": "markdown",
   "id": "3c4ebfea",
   "metadata": {},
   "source": [
    "### 결과\n",
    "\n",
    "정확도가 약간 하향했으며, 재미있는건 50개 이상에서 최종적으로 더이상 떨어지지 않는 정확도가 multi_class 옵션을 수정하기 전과 같은(0.9440559440559441) 것이다!\n",
    "\n",
    "그 수치는 옵션을 수정하기 전에는 75개 때부터 나타났던 수치이다.\n",
    "\n",
    "신기하네. 또 75개일때는 정확도가 더 떨어졌었다. 그 이유가 좀 궁금하다.(0.9370629370629371)\n",
    "\n",
    "뭐라 결론을 내리기 참 어렵다.\n"
   ]
  },
  {
   "cell_type": "markdown",
   "id": "403d7aa4",
   "metadata": {},
   "source": [
    "## 실험2: SVC"
   ]
  },
  {
   "cell_type": "markdown",
   "id": "c0531192",
   "metadata": {},
   "source": [
    "SVC 로 할경우는 알고리즘을 바꿔달라고 했다. 네 한번에 다 함수로 안넣길 잘했네.\n",
    "\n",
    "## 실험2-1: SVC(kernel='rbf)"
   ]
  },
  {
   "cell_type": "code",
   "execution_count": 20,
   "id": "e79b569f",
   "metadata": {
    "scrolled": true
   },
   "outputs": [
    {
     "name": "stdout",
     "output_type": "stream",
     "text": [
      "모델 분류기 종류:  <class 'sklearn.svm._classes.SVC'>\n",
      "모델 정확도:  0.6293706293706294\n",
      "모델 분류 리포트\n",
      "              precision    recall  f1-score   support\n",
      "\n",
      "           0       0.00      0.00      0.00        53\n",
      "           1       0.63      1.00      0.77        90\n",
      "\n",
      "    accuracy                           0.63       143\n",
      "   macro avg       0.31      0.50      0.39       143\n",
      "weighted avg       0.40      0.63      0.49       143\n",
      "\n",
      "========================================================\n"
     ]
    },
    {
     "name": "stderr",
     "output_type": "stream",
     "text": [
      "/Users/Angela/opt/anaconda3/envs/py3_8_5/lib/python3.8/site-packages/sklearn/metrics/_classification.py:1318: UndefinedMetricWarning: Precision and F-score are ill-defined and being set to 0.0 in labels with no predicted samples. Use `zero_division` parameter to control this behavior.\n",
      "  _warn_prf(average, modifier, msg_start, len(result))\n",
      "/Users/Angela/opt/anaconda3/envs/py3_8_5/lib/python3.8/site-packages/sklearn/metrics/_classification.py:1318: UndefinedMetricWarning: Precision and F-score are ill-defined and being set to 0.0 in labels with no predicted samples. Use `zero_division` parameter to control this behavior.\n",
      "  _warn_prf(average, modifier, msg_start, len(result))\n",
      "/Users/Angela/opt/anaconda3/envs/py3_8_5/lib/python3.8/site-packages/sklearn/metrics/_classification.py:1318: UndefinedMetricWarning: Precision and F-score are ill-defined and being set to 0.0 in labels with no predicted samples. Use `zero_division` parameter to control this behavior.\n",
      "  _warn_prf(average, modifier, msg_start, len(result))\n"
     ]
    }
   ],
   "source": [
    "from sklearn.linear_model import LogisticRegression      # 선형 회귀 분류기\n",
    "from sklearn.svm import SVC                              # svm 분류기\n",
    "from sklearn.naive_bayes import GaussianNB               # 나이브 베이즈 분류기\n",
    "from sklearn.ensemble import AdaBoostClassifier          # 에이다부스트분류기 함수. 회귀문제를 풀때는 regressor 호출\n",
    "from sklearn.metrics import accuracy_score               # 정확도 테스트 함수\n",
    "from sklearn.metrics import classification_report        # 분류 리포트 확인을 위한 함수\n",
    "\n",
    "# 보통 estimators 라고 쓰는데 나는 초보이니 헷갈릴까봐 learner로 쓴다.\n",
    "learners = [SVC]\n",
    "\n",
    "for i in learners:\n",
    "    # 배깅을 활용한 분류기 생성(모형 설정)\n",
    "    clf_ada = AdaBoostClassifier(base_estimator = i(random_state = 0), random_state = 0, algorithm = 'SAMME') \n",
    "    \n",
    "    # 데이터 학습\n",
    "    clf_ada.fit(X_tn_std, y_tn)\n",
    "    \n",
    "    # 데이터 예측\n",
    "    pred_ada = clf_ada.predict(X_te_std) \n",
    "    \n",
    "    # 데이터 정확도 평가\n",
    "    accuracy = accuracy_score(y_te, pred_ada)\n",
    "    \n",
    "    # 분류 리포트 확인\n",
    "    class_report = classification_report(y_te, pred_ada)\n",
    "    \n",
    "    # 모델 상황 확인\n",
    "    \n",
    "    print(\"모델 분류기 종류: \", i )\n",
    "    print(\"모델 정확도: \", accuracy)\n",
    "    print(\"모델 분류 리포트\")\n",
    "    print(class_report)\n",
    "    print(\"========================================================\")"
   ]
  },
  {
   "cell_type": "markdown",
   "id": "1e2a5999",
   "metadata": {},
   "source": [
    "### 결과\n",
    "\n",
    "정확도가 왜이러세요?"
   ]
  },
  {
   "cell_type": "markdown",
   "id": "d25d43ea",
   "metadata": {},
   "source": [
    "## 실험2-2: SVC(kernel='linear')"
   ]
  },
  {
   "cell_type": "code",
   "execution_count": 23,
   "id": "a957879a",
   "metadata": {
    "scrolled": true
   },
   "outputs": [
    {
     "name": "stdout",
     "output_type": "stream",
     "text": [
      "모델 분류기 종류:  <class 'sklearn.svm._classes.SVC'>\n",
      "모델 정확도:  0.965034965034965\n",
      "모델 분류 리포트\n",
      "              precision    recall  f1-score   support\n",
      "\n",
      "           0       0.98      0.92      0.95        53\n",
      "           1       0.96      0.99      0.97        90\n",
      "\n",
      "    accuracy                           0.97       143\n",
      "   macro avg       0.97      0.96      0.96       143\n",
      "weighted avg       0.97      0.97      0.96       143\n",
      "\n",
      "========================================================\n"
     ]
    }
   ],
   "source": [
    "from sklearn.linear_model import LogisticRegression      # 선형 회귀 분류기\n",
    "from sklearn.svm import SVC                              # svm 분류기\n",
    "from sklearn.naive_bayes import GaussianNB               # 나이브 베이즈 분류기\n",
    "from sklearn.ensemble import AdaBoostClassifier          # 에이다부스트분류기 함수. 회귀문제를 풀때는 regressor 호출\n",
    "from sklearn.metrics import accuracy_score               # 정확도 테스트 함수\n",
    "from sklearn.metrics import classification_report        # 분류 리포트 확인을 위한 함수\n",
    "\n",
    "# 보통 estimators 라고 쓰는데 나는 초보이니 헷갈릴까봐 learner로 쓴다.\n",
    "learners = [SVC]\n",
    "\n",
    "for i in learners:\n",
    "    # 배깅을 활용한 분류기 생성(모형 설정)\n",
    "    clf_ada = AdaBoostClassifier(base_estimator = i(random_state = 0,kernel = 'linear'), random_state = 0, algorithm = 'SAMME') \n",
    "    \n",
    "    # 데이터 학습\n",
    "    clf_ada.fit(X_tn_std, y_tn)\n",
    "    \n",
    "    # 데이터 예측\n",
    "    pred_ada = clf_ada.predict(X_te_std) \n",
    "    \n",
    "    # 데이터 정확도 평가\n",
    "    accuracy = accuracy_score(y_te, pred_ada)\n",
    "    \n",
    "    # 분류 리포트 확인\n",
    "    class_report = classification_report(y_te, pred_ada)\n",
    "    \n",
    "    # 모델 상황 확인\n",
    "    \n",
    "    print(\"모델 분류기 종류: \", i )\n",
    "    print(\"모델 정확도: \", accuracy)\n",
    "    print(\"모델 분류 리포트\")\n",
    "    print(class_report)\n",
    "    print(\"========================================================\")"
   ]
  },
  {
   "cell_type": "markdown",
   "id": "4a0dc6bd",
   "metadata": {},
   "source": [
    "### 결과\n",
    "\n",
    "처음에 정확도는 0.6 대 까지 하락했다 이정도면 거의 사용이 불가한 수준이 아닐까 생각도 되었는데\n",
    "\n",
    "전에 분류 문제를 풀 때 SVC를 linear 옵션으로 바꾸었던 것으로 생각이 나서 다시 했더니 다시 정확도가 어느정도 회복이 되었다.\n",
    "\n",
    "그러나 처음 기본 adaboos의 상태보다는 안좋은 것은 사실이다.\n",
    "\n",
    "그럼 현재 0.9650이라는 정확도를 어떻게 하면 또 변화시킬 수 있을까, 분류기 개수 조정하기로 했다."
   ]
  },
  {
   "cell_type": "markdown",
   "id": "62c32ffa",
   "metadata": {},
   "source": [
    "## 실험2-3: 위 결과에 n_estimators 조정"
   ]
  },
  {
   "cell_type": "code",
   "execution_count": 31,
   "id": "079ccfb6",
   "metadata": {
    "scrolled": true
   },
   "outputs": [
    {
     "name": "stdout",
     "output_type": "stream",
     "text": [
      "모델 분류기 종류:  <class 'sklearn.svm._classes.SVC'>\n",
      "분류기 개수(n_estimator):  10 개\n",
      "모델 정확도:  0.965034965034965\n",
      "모델 분류 리포트\n",
      "              precision    recall  f1-score   support\n",
      "\n",
      "           0       0.98      0.92      0.95        53\n",
      "           1       0.96      0.99      0.97        90\n",
      "\n",
      "    accuracy                           0.97       143\n",
      "   macro avg       0.97      0.96      0.96       143\n",
      "weighted avg       0.97      0.97      0.96       143\n",
      "\n",
      "========================================================\n",
      "모델 분류기 종류:  <class 'sklearn.svm._classes.SVC'>\n",
      "분류기 개수(n_estimator):  25 개\n",
      "모델 정확도:  0.965034965034965\n",
      "모델 분류 리포트\n",
      "              precision    recall  f1-score   support\n",
      "\n",
      "           0       0.98      0.92      0.95        53\n",
      "           1       0.96      0.99      0.97        90\n",
      "\n",
      "    accuracy                           0.97       143\n",
      "   macro avg       0.97      0.96      0.96       143\n",
      "weighted avg       0.97      0.97      0.96       143\n",
      "\n",
      "========================================================\n",
      "모델 분류기 종류:  <class 'sklearn.svm._classes.SVC'>\n",
      "분류기 개수(n_estimator):  50 개\n",
      "모델 정확도:  0.965034965034965\n",
      "모델 분류 리포트\n",
      "              precision    recall  f1-score   support\n",
      "\n",
      "           0       0.98      0.92      0.95        53\n",
      "           1       0.96      0.99      0.97        90\n",
      "\n",
      "    accuracy                           0.97       143\n",
      "   macro avg       0.97      0.96      0.96       143\n",
      "weighted avg       0.97      0.97      0.96       143\n",
      "\n",
      "========================================================\n",
      "모델 분류기 종류:  <class 'sklearn.svm._classes.SVC'>\n",
      "분류기 개수(n_estimator):  60 개\n",
      "모델 정확도:  0.965034965034965\n",
      "모델 분류 리포트\n",
      "              precision    recall  f1-score   support\n",
      "\n",
      "           0       0.98      0.92      0.95        53\n",
      "           1       0.96      0.99      0.97        90\n",
      "\n",
      "    accuracy                           0.97       143\n",
      "   macro avg       0.97      0.96      0.96       143\n",
      "weighted avg       0.97      0.97      0.96       143\n",
      "\n",
      "========================================================\n",
      "모델 분류기 종류:  <class 'sklearn.svm._classes.SVC'>\n",
      "분류기 개수(n_estimator):  75 개\n",
      "모델 정확도:  0.965034965034965\n",
      "모델 분류 리포트\n",
      "              precision    recall  f1-score   support\n",
      "\n",
      "           0       0.98      0.92      0.95        53\n",
      "           1       0.96      0.99      0.97        90\n",
      "\n",
      "    accuracy                           0.97       143\n",
      "   macro avg       0.97      0.96      0.96       143\n",
      "weighted avg       0.97      0.97      0.96       143\n",
      "\n",
      "========================================================\n",
      "모델 분류기 종류:  <class 'sklearn.svm._classes.SVC'>\n",
      "분류기 개수(n_estimator):  90 개\n",
      "모델 정확도:  0.965034965034965\n",
      "모델 분류 리포트\n",
      "              precision    recall  f1-score   support\n",
      "\n",
      "           0       0.98      0.92      0.95        53\n",
      "           1       0.96      0.99      0.97        90\n",
      "\n",
      "    accuracy                           0.97       143\n",
      "   macro avg       0.97      0.96      0.96       143\n",
      "weighted avg       0.97      0.97      0.96       143\n",
      "\n",
      "========================================================\n",
      "모델 분류기 종류:  <class 'sklearn.svm._classes.SVC'>\n",
      "분류기 개수(n_estimator):  100 개\n",
      "모델 정확도:  0.965034965034965\n",
      "모델 분류 리포트\n",
      "              precision    recall  f1-score   support\n",
      "\n",
      "           0       0.98      0.92      0.95        53\n",
      "           1       0.96      0.99      0.97        90\n",
      "\n",
      "    accuracy                           0.97       143\n",
      "   macro avg       0.97      0.96      0.96       143\n",
      "weighted avg       0.97      0.97      0.96       143\n",
      "\n",
      "========================================================\n"
     ]
    }
   ],
   "source": [
    "from sklearn.linear_model import LogisticRegression      # 선형 회귀 분류기\n",
    "from sklearn.svm import SVC                              # svm 분류기\n",
    "from sklearn.naive_bayes import GaussianNB               # 나이브 베이즈 분류기\n",
    "from sklearn.ensemble import AdaBoostClassifier          # 에이다부스트분류기 함수. 회귀문제를 풀때는 regressor 호출\n",
    "from sklearn.metrics import accuracy_score               # 정확도 테스트 함수\n",
    "from sklearn.metrics import classification_report        # 분류 리포트 확인을 위한 함수\n",
    "\n",
    "# 보통 estimators 라고 쓰는데 나는 초보이니 헷갈릴까봐 learner로 쓴다.\n",
    "learners = [SVC]\n",
    "# 50이 디폴트이지만 함께 비교가 쉽도록 넣어버린다.\n",
    "n_esti = [10, 25, 50, 60, 75, 90, 100]\n",
    "\n",
    "for i in learners:\n",
    "    for j in n_esti:\n",
    "        # 배깅을 활용한 분류기 생성(모형 설정)\n",
    "        clf_ada = AdaBoostClassifier(base_estimator = i(random_state = 0, kernel = 'linear'), random_state = 0, algorithm = 'SAMME', n_estimators = j) \n",
    "\n",
    "        # 데이터 학습\n",
    "        clf_ada.fit(X_tn_std, y_tn)\n",
    "\n",
    "        # 데이터 예측\n",
    "        pred_ada = clf_ada.predict(X_te_std) \n",
    "\n",
    "        # 데이터 정확도 평가\n",
    "        accuracy = accuracy_score(y_te, pred_ada)\n",
    "\n",
    "        # 분류 리포트 확인\n",
    "        class_report = classification_report(y_te, pred_ada)\n",
    "\n",
    "        # 모델 상황 확인\n",
    "\n",
    "        print(\"모델 분류기 종류: \", i )\n",
    "        print(\"분류기 개수(n_estimator): \", j, \"개\")\n",
    "        print(\"모델 정확도: \", accuracy)\n",
    "        print(\"모델 분류 리포트\")\n",
    "        print(class_report)\n",
    "        print(\"========================================================\")"
   ]
  },
  {
   "cell_type": "markdown",
   "id": "c546dceb",
   "metadata": {},
   "source": [
    "### 결과\n",
    "\n",
    "분류기 개수에 영향을 전혀 받지 않았다. 처음부터 분류가 강력했던건지 어떤건지 모르겠다. 클래스별 precision이나 recall을 보아도 눈에띄는 결과가 보이지 않는다.\n",
    "\n",
    "이로서 SVC(kernel='linear')로 부스팅을 할 경우 분류기 개수에 크게 영향을 받지 않는 것을 알 수 있다.\n",
    "\n"
   ]
  },
  {
   "cell_type": "markdown",
   "id": "dcacfac4",
   "metadata": {},
   "source": [
    "## 실험3: Gaussian NB"
   ]
  },
  {
   "cell_type": "code",
   "execution_count": 24,
   "id": "ca3646b1",
   "metadata": {
    "scrolled": true
   },
   "outputs": [
    {
     "name": "stdout",
     "output_type": "stream",
     "text": [
      "모델 분류기 종류:  <class 'sklearn.naive_bayes.GaussianNB'>\n",
      "모델 정확도:  0.8391608391608392\n",
      "모델 분류 리포트\n",
      "              precision    recall  f1-score   support\n",
      "\n",
      "           0       0.71      0.96      0.82        53\n",
      "           1       0.97      0.77      0.86        90\n",
      "\n",
      "    accuracy                           0.84       143\n",
      "   macro avg       0.84      0.86      0.84       143\n",
      "weighted avg       0.87      0.84      0.84       143\n",
      "\n",
      "========================================================\n"
     ]
    }
   ],
   "source": [
    "from sklearn.linear_model import LogisticRegression      # 선형 회귀 분류기\n",
    "from sklearn.svm import SVC                              # svm 분류기\n",
    "from sklearn.naive_bayes import GaussianNB               # 나이브 베이즈 분류기\n",
    "from sklearn.ensemble import AdaBoostClassifier          # 에이다부스트분류기 함수. 회귀문제를 풀때는 regressor 호출\n",
    "from sklearn.metrics import accuracy_score               # 정확도 테스트 함수\n",
    "from sklearn.metrics import classification_report        # 분류 리포트 확인을 위한 함수\n",
    "\n",
    "# 보통 estimators 라고 쓰는데 나는 초보이니 헷갈릴까봐 learner로 쓴다.\n",
    "learners = [GaussianNB]\n",
    "\n",
    "for i in learners:\n",
    "    # 배깅을 활용한 분류기 생성(모형 설정)\n",
    "    clf_ada = AdaBoostClassifier(base_estimator = i(), random_state = 0) \n",
    "    \n",
    "    # 데이터 학습\n",
    "    clf_ada.fit(X_tn_std, y_tn)\n",
    "    \n",
    "    # 데이터 예측\n",
    "    pred_ada = clf_ada.predict(X_te_std) \n",
    "    \n",
    "    # 데이터 정확도 평가\n",
    "    accuracy = accuracy_score(y_te, pred_ada)\n",
    "    \n",
    "    # 분류 리포트 확인\n",
    "    class_report = classification_report(y_te, pred_ada)\n",
    "    \n",
    "    # 모델 상황 확인\n",
    "    \n",
    "    print(\"모델 분류기 종류: \", i )\n",
    "    print(\"모델 정확도: \", accuracy)\n",
    "    print(\"모델 분류 리포트\")\n",
    "    print(class_report)\n",
    "    print(\"========================================================\")"
   ]
  },
  {
   "cell_type": "markdown",
   "id": "091b7201",
   "metadata": {},
   "source": [
    "### 결과\n",
    "\n",
    "이친구 정확도는 또 왜이러세요."
   ]
  }
 ],
 "metadata": {
  "kernelspec": {
   "display_name": "Python 3 (ipykernel)",
   "language": "python",
   "name": "python3"
  },
  "language_info": {
   "codemirror_mode": {
    "name": "ipython",
    "version": 3
   },
   "file_extension": ".py",
   "mimetype": "text/x-python",
   "name": "python",
   "nbconvert_exporter": "python",
   "pygments_lexer": "ipython3",
   "version": "3.8.5"
  },
  "toc": {
   "base_numbering": 1,
   "nav_menu": {},
   "number_sections": true,
   "sideBar": true,
   "skip_h1_title": false,
   "title_cell": "Table of Contents",
   "title_sidebar": "Contents",
   "toc_cell": false,
   "toc_position": {
    "height": "calc(100% - 180px)",
    "left": "10px",
    "top": "150px",
    "width": "384px"
   },
   "toc_section_display": true,
   "toc_window_display": true
  }
 },
 "nbformat": 4,
 "nbformat_minor": 5
}

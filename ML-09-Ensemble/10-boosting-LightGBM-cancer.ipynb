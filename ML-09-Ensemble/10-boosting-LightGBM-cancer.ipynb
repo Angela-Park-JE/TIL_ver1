{
 "cells": [
  {
   "cell_type": "markdown",
   "id": "dee0e18b",
   "metadata": {},
   "source": [
    "# 머신러닝 with Python \n",
    "## 09 앙상블 학습 부스팅-LightGBM 연습- breast_cancer 데이터\n",
    "\n",
    "##### 이번에는 LightGBM를 활용해 유방암 여부를 예측하는 모형을 만들어본다.\n",
    "\n",
    "(책 p.286~ 에서 그래디언트 부스팅을 실습하였었다. -08번 파일)\n",
    "\n",
    "---\n",
    "\n",
    "\n",
    "## LightGBM\n",
    "\n",
    "LightGBM은 마이크로소프트에서 개발한 분산 그래디언트 부스팅 프레임 워크로 무료 오픈 소스.\n",
    "\n",
    "GBM: Gradient Boosting Model 의 약자이다.\n",
    "\n",
    "Boosting하는 방식에 크게 2가지가 있다. \n",
    "```\n",
    "    1. AdaBoost와 같이 중요한 데이터(일반적으로 모델이 틀린 데이터)에 대해 weight를 주는 방식\n",
    "\n",
    "    2. GBDT와 같이 loss function처럼 정답지와 오답지간의 차이를 반복적으로 training하는 방식 \n",
    "\n",
    "       (즉, gradient를 이용해서 모델을 개선하는 방식 (XGBoost와 LightGBM이 해당))\n",
    "```\n",
    "*출처: https://mac-user-guide.tistory.com/79 [🌷나의 선인장🌵]*\n",
    "\n",
    "그러나 XGBoost와 LightGBM에도 큰 차이가 있는데, \n",
    "\n",
    "XGBoost는 **균형 트리 분할 방식(level wise)**을 사용한다. 최대한 균형잡힌 트리를 만들기 떄문에 트리의 깊이를 최소화 할 수 있다. 다만 시간이 더 걸린다. \n",
    "\n",
    "LightGBM은 **리프 중심 트리 분할 방식(leaf Wise)**을 사용한다. 균형 보다는 최대 손실 값(max delta loss)을 가지는 리프 노드를 지속적으로 분할하면서 \n",
    "\n",
    "트리가 깊어지고 비대칭적인 트리를 만들게 된다. 내가 직관적으로 생각했을 때 그래디언트 부스팅 방식에 떠오늘 방식은 이 방식에 더 가깝기도 했다.\n",
    "\n",
    "이러한 방식으로 트리를 계속해서 분할하게 되면 결국 균형 트리 분할 방식보다 예측 오류 손실을 최소화 한다는 방법을 이용한 것이라고 한다.\n",
    "\n",
    "*출처: https://kimdingko-world.tistory.com/184*\n",
    "\n",
    "---\n",
    "\n",
    "하단부에서는 XGBoost와 마찬가지로 max_depth와 분류기 개수를 손보는 실험을 해보았으며, 학습 별 리프 개수 제한도 둬 보았다.\n",
    "\n",
    "> 배운점1: max_depth 가 음수인 경우(기본이 -1인 것과 같이) 맥스 레벨을 두지 않겠다는 의미이다.\n",
    "\n",
    "> 배운점2: 상세한 비교실험을 위해서는 그에 적합한 데이터가 필요하다."
   ]
  },
  {
   "cell_type": "markdown",
   "id": "d022679e",
   "metadata": {},
   "source": [
    "### 데이터 불러오기"
   ]
  },
  {
   "cell_type": "code",
   "execution_count": 1,
   "id": "78e3ab2c",
   "metadata": {},
   "outputs": [],
   "source": [
    "from sklearn import datasets"
   ]
  },
  {
   "cell_type": "code",
   "execution_count": 2,
   "id": "baf788f0",
   "metadata": {},
   "outputs": [],
   "source": [
    "# 유방암 데이터 가져오기\n",
    "\n",
    "raw_breast_cancer = datasets.load_breast_cancer()"
   ]
  },
  {
   "cell_type": "code",
   "execution_count": 3,
   "id": "c4be6bef",
   "metadata": {
    "scrolled": true
   },
   "outputs": [
    {
     "data": {
      "text/plain": [
       "{'data': array([[1.799e+01, 1.038e+01, 1.228e+02, ..., 2.654e-01, 4.601e-01,\n",
       "         1.189e-01],\n",
       "        [2.057e+01, 1.777e+01, 1.329e+02, ..., 1.860e-01, 2.750e-01,\n",
       "         8.902e-02],\n",
       "        [1.969e+01, 2.125e+01, 1.300e+02, ..., 2.430e-01, 3.613e-01,\n",
       "         8.758e-02],\n",
       "        ...,\n",
       "        [1.660e+01, 2.808e+01, 1.083e+02, ..., 1.418e-01, 2.218e-01,\n",
       "         7.820e-02],\n",
       "        [2.060e+01, 2.933e+01, 1.401e+02, ..., 2.650e-01, 4.087e-01,\n",
       "         1.240e-01],\n",
       "        [7.760e+00, 2.454e+01, 4.792e+01, ..., 0.000e+00, 2.871e-01,\n",
       "         7.039e-02]]),\n",
       " 'target': array([0, 0, 0, 0, 0, 0, 0, 0, 0, 0, 0, 0, 0, 0, 0, 0, 0, 0, 0, 1, 1, 1,\n",
       "        0, 0, 0, 0, 0, 0, 0, 0, 0, 0, 0, 0, 0, 0, 0, 1, 0, 0, 0, 0, 0, 0,\n",
       "        0, 0, 1, 0, 1, 1, 1, 1, 1, 0, 0, 1, 0, 0, 1, 1, 1, 1, 0, 1, 0, 0,\n",
       "        1, 1, 1, 1, 0, 1, 0, 0, 1, 0, 1, 0, 0, 1, 1, 1, 0, 0, 1, 0, 0, 0,\n",
       "        1, 1, 1, 0, 1, 1, 0, 0, 1, 1, 1, 0, 0, 1, 1, 1, 1, 0, 1, 1, 0, 1,\n",
       "        1, 1, 1, 1, 1, 1, 1, 0, 0, 0, 1, 0, 0, 1, 1, 1, 0, 0, 1, 0, 1, 0,\n",
       "        0, 1, 0, 0, 1, 1, 0, 1, 1, 0, 1, 1, 1, 1, 0, 1, 1, 1, 1, 1, 1, 1,\n",
       "        1, 1, 0, 1, 1, 1, 1, 0, 0, 1, 0, 1, 1, 0, 0, 1, 1, 0, 0, 1, 1, 1,\n",
       "        1, 0, 1, 1, 0, 0, 0, 1, 0, 1, 0, 1, 1, 1, 0, 1, 1, 0, 0, 1, 0, 0,\n",
       "        0, 0, 1, 0, 0, 0, 1, 0, 1, 0, 1, 1, 0, 1, 0, 0, 0, 0, 1, 1, 0, 0,\n",
       "        1, 1, 1, 0, 1, 1, 1, 1, 1, 0, 0, 1, 1, 0, 1, 1, 0, 0, 1, 0, 1, 1,\n",
       "        1, 1, 0, 1, 1, 1, 1, 1, 0, 1, 0, 0, 0, 0, 0, 0, 0, 0, 0, 0, 0, 0,\n",
       "        0, 0, 1, 1, 1, 1, 1, 1, 0, 1, 0, 1, 1, 0, 1, 1, 0, 1, 0, 0, 1, 1,\n",
       "        1, 1, 1, 1, 1, 1, 1, 1, 1, 1, 1, 0, 1, 1, 0, 1, 0, 1, 1, 1, 1, 1,\n",
       "        1, 1, 1, 1, 1, 1, 1, 1, 1, 0, 1, 1, 1, 0, 1, 0, 1, 1, 1, 1, 0, 0,\n",
       "        0, 1, 1, 1, 1, 0, 1, 0, 1, 0, 1, 1, 1, 0, 1, 1, 1, 1, 1, 1, 1, 0,\n",
       "        0, 0, 1, 1, 1, 1, 1, 1, 1, 1, 1, 1, 1, 0, 0, 1, 0, 0, 0, 1, 0, 0,\n",
       "        1, 1, 1, 1, 1, 0, 1, 1, 1, 1, 1, 0, 1, 1, 1, 0, 1, 1, 0, 0, 1, 1,\n",
       "        1, 1, 1, 1, 0, 1, 1, 1, 1, 1, 1, 1, 0, 1, 1, 1, 1, 1, 0, 1, 1, 0,\n",
       "        1, 1, 1, 1, 1, 1, 1, 1, 1, 1, 1, 1, 0, 1, 0, 0, 1, 0, 1, 1, 1, 1,\n",
       "        1, 0, 1, 1, 0, 1, 0, 1, 1, 0, 1, 0, 1, 1, 1, 1, 1, 1, 1, 1, 0, 0,\n",
       "        1, 1, 1, 1, 1, 1, 0, 1, 1, 1, 1, 1, 1, 1, 1, 1, 1, 0, 1, 1, 1, 1,\n",
       "        1, 1, 1, 0, 1, 0, 1, 1, 0, 1, 1, 1, 1, 1, 0, 0, 1, 0, 1, 0, 1, 1,\n",
       "        1, 1, 1, 0, 1, 1, 0, 1, 0, 1, 0, 0, 1, 1, 1, 0, 1, 1, 1, 1, 1, 1,\n",
       "        1, 1, 1, 1, 1, 0, 1, 0, 0, 1, 1, 1, 1, 1, 1, 1, 1, 1, 1, 1, 1, 1,\n",
       "        1, 1, 1, 1, 1, 1, 1, 1, 1, 1, 1, 1, 0, 0, 0, 0, 0, 0, 1]),\n",
       " 'frame': None,\n",
       " 'target_names': array(['malignant', 'benign'], dtype='<U9'),\n",
       " 'DESCR': '.. _breast_cancer_dataset:\\n\\nBreast cancer wisconsin (diagnostic) dataset\\n--------------------------------------------\\n\\n**Data Set Characteristics:**\\n\\n    :Number of Instances: 569\\n\\n    :Number of Attributes: 30 numeric, predictive attributes and the class\\n\\n    :Attribute Information:\\n        - radius (mean of distances from center to points on the perimeter)\\n        - texture (standard deviation of gray-scale values)\\n        - perimeter\\n        - area\\n        - smoothness (local variation in radius lengths)\\n        - compactness (perimeter^2 / area - 1.0)\\n        - concavity (severity of concave portions of the contour)\\n        - concave points (number of concave portions of the contour)\\n        - symmetry\\n        - fractal dimension (\"coastline approximation\" - 1)\\n\\n        The mean, standard error, and \"worst\" or largest (mean of the three\\n        worst/largest values) of these features were computed for each image,\\n        resulting in 30 features.  For instance, field 0 is Mean Radius, field\\n        10 is Radius SE, field 20 is Worst Radius.\\n\\n        - class:\\n                - WDBC-Malignant\\n                - WDBC-Benign\\n\\n    :Summary Statistics:\\n\\n    ===================================== ====== ======\\n                                           Min    Max\\n    ===================================== ====== ======\\n    radius (mean):                        6.981  28.11\\n    texture (mean):                       9.71   39.28\\n    perimeter (mean):                     43.79  188.5\\n    area (mean):                          143.5  2501.0\\n    smoothness (mean):                    0.053  0.163\\n    compactness (mean):                   0.019  0.345\\n    concavity (mean):                     0.0    0.427\\n    concave points (mean):                0.0    0.201\\n    symmetry (mean):                      0.106  0.304\\n    fractal dimension (mean):             0.05   0.097\\n    radius (standard error):              0.112  2.873\\n    texture (standard error):             0.36   4.885\\n    perimeter (standard error):           0.757  21.98\\n    area (standard error):                6.802  542.2\\n    smoothness (standard error):          0.002  0.031\\n    compactness (standard error):         0.002  0.135\\n    concavity (standard error):           0.0    0.396\\n    concave points (standard error):      0.0    0.053\\n    symmetry (standard error):            0.008  0.079\\n    fractal dimension (standard error):   0.001  0.03\\n    radius (worst):                       7.93   36.04\\n    texture (worst):                      12.02  49.54\\n    perimeter (worst):                    50.41  251.2\\n    area (worst):                         185.2  4254.0\\n    smoothness (worst):                   0.071  0.223\\n    compactness (worst):                  0.027  1.058\\n    concavity (worst):                    0.0    1.252\\n    concave points (worst):               0.0    0.291\\n    symmetry (worst):                     0.156  0.664\\n    fractal dimension (worst):            0.055  0.208\\n    ===================================== ====== ======\\n\\n    :Missing Attribute Values: None\\n\\n    :Class Distribution: 212 - Malignant, 357 - Benign\\n\\n    :Creator:  Dr. William H. Wolberg, W. Nick Street, Olvi L. Mangasarian\\n\\n    :Donor: Nick Street\\n\\n    :Date: November, 1995\\n\\nThis is a copy of UCI ML Breast Cancer Wisconsin (Diagnostic) datasets.\\nhttps://goo.gl/U2Uwz2\\n\\nFeatures are computed from a digitized image of a fine needle\\naspirate (FNA) of a breast mass.  They describe\\ncharacteristics of the cell nuclei present in the image.\\n\\nSeparating plane described above was obtained using\\nMultisurface Method-Tree (MSM-T) [K. P. Bennett, \"Decision Tree\\nConstruction Via Linear Programming.\" Proceedings of the 4th\\nMidwest Artificial Intelligence and Cognitive Science Society,\\npp. 97-101, 1992], a classification method which uses linear\\nprogramming to construct a decision tree.  Relevant features\\nwere selected using an exhaustive search in the space of 1-4\\nfeatures and 1-3 separating planes.\\n\\nThe actual linear program used to obtain the separating plane\\nin the 3-dimensional space is that described in:\\n[K. P. Bennett and O. L. Mangasarian: \"Robust Linear\\nProgramming Discrimination of Two Linearly Inseparable Sets\",\\nOptimization Methods and Software 1, 1992, 23-34].\\n\\nThis database is also available through the UW CS ftp server:\\n\\nftp ftp.cs.wisc.edu\\ncd math-prog/cpo-dataset/machine-learn/WDBC/\\n\\n.. topic:: References\\n\\n   - W.N. Street, W.H. Wolberg and O.L. Mangasarian. Nuclear feature extraction \\n     for breast tumor diagnosis. IS&T/SPIE 1993 International Symposium on \\n     Electronic Imaging: Science and Technology, volume 1905, pages 861-870,\\n     San Jose, CA, 1993.\\n   - O.L. Mangasarian, W.N. Street and W.H. Wolberg. Breast cancer diagnosis and \\n     prognosis via linear programming. Operations Research, 43(4), pages 570-577, \\n     July-August 1995.\\n   - W.H. Wolberg, W.N. Street, and O.L. Mangasarian. Machine learning techniques\\n     to diagnose breast cancer from fine-needle aspirates. Cancer Letters 77 (1994) \\n     163-171.',\n",
       " 'feature_names': array(['mean radius', 'mean texture', 'mean perimeter', 'mean area',\n",
       "        'mean smoothness', 'mean compactness', 'mean concavity',\n",
       "        'mean concave points', 'mean symmetry', 'mean fractal dimension',\n",
       "        'radius error', 'texture error', 'perimeter error', 'area error',\n",
       "        'smoothness error', 'compactness error', 'concavity error',\n",
       "        'concave points error', 'symmetry error',\n",
       "        'fractal dimension error', 'worst radius', 'worst texture',\n",
       "        'worst perimeter', 'worst area', 'worst smoothness',\n",
       "        'worst compactness', 'worst concavity', 'worst concave points',\n",
       "        'worst symmetry', 'worst fractal dimension'], dtype='<U23'),\n",
       " 'filename': 'breast_cancer.csv',\n",
       " 'data_module': 'sklearn.datasets.data'}"
      ]
     },
     "execution_count": 3,
     "metadata": {},
     "output_type": "execute_result"
    }
   ],
   "source": [
    "# 데이터 살펴보기\n",
    "\n",
    "raw_breast_cancer"
   ]
  },
  {
   "cell_type": "code",
   "execution_count": 4,
   "id": "1fee972a",
   "metadata": {},
   "outputs": [
    {
     "data": {
      "text/plain": [
       "array(['mean radius', 'mean texture', 'mean perimeter', 'mean area',\n",
       "       'mean smoothness', 'mean compactness', 'mean concavity',\n",
       "       'mean concave points', 'mean symmetry', 'mean fractal dimension',\n",
       "       'radius error', 'texture error', 'perimeter error', 'area error',\n",
       "       'smoothness error', 'compactness error', 'concavity error',\n",
       "       'concave points error', 'symmetry error',\n",
       "       'fractal dimension error', 'worst radius', 'worst texture',\n",
       "       'worst perimeter', 'worst area', 'worst smoothness',\n",
       "       'worst compactness', 'worst concavity', 'worst concave points',\n",
       "       'worst symmetry', 'worst fractal dimension'], dtype='<U23')"
      ]
     },
     "execution_count": 4,
     "metadata": {},
     "output_type": "execute_result"
    }
   ],
   "source": [
    "# 데이터 셋 내 피처 이름들\n",
    "\n",
    "raw_breast_cancer.feature_names"
   ]
  },
  {
   "cell_type": "markdown",
   "id": "53e0dae9",
   "metadata": {},
   "source": [
    "### 피처, 타깃 데이터 지정"
   ]
  },
  {
   "cell_type": "code",
   "execution_count": 5,
   "id": "e76b530f",
   "metadata": {},
   "outputs": [],
   "source": [
    "X = raw_breast_cancer.data\n",
    "y = raw_breast_cancer.target"
   ]
  },
  {
   "cell_type": "markdown",
   "id": "a90ae465",
   "metadata": {},
   "source": [
    "### 트레이닝/테스트 데이터 분할"
   ]
  },
  {
   "cell_type": "code",
   "execution_count": 6,
   "id": "3acca5ae",
   "metadata": {},
   "outputs": [],
   "source": [
    "from sklearn.model_selection import train_test_split                 # 분할을 위해 필요한 함수\n",
    "X_tn, X_te, y_tn, y_te = train_test_split(X, y, random_state = 0)    # 분리. randomstate는 고정"
   ]
  },
  {
   "cell_type": "markdown",
   "id": "7fdc70ec",
   "metadata": {},
   "source": [
    "### 데이터 표준화"
   ]
  },
  {
   "cell_type": "code",
   "execution_count": 7,
   "id": "a771eaa3",
   "metadata": {},
   "outputs": [],
   "source": [
    "from sklearn.preprocessing import StandardScaler         # 데이터 표준화를 위한 함수\n",
    "std_scale = StandardScaler()                             # 표준화 스케일러 지정\n",
    "std_scale.fit(X_tn)                                      # 트레이닝 피처를 기준으로 표준화를 적합\n",
    "\n",
    "X_tn_std = std_scale.transform(X_tn) \n",
    "X_te_std = std_scale.transform(X_te)                     # 트레인, 테스트 데이터 각각 적합시킨 표준화에 맞게 변형"
   ]
  },
  {
   "cell_type": "markdown",
   "id": "da9de511",
   "metadata": {},
   "source": [
    "### 데이터 학습"
   ]
  },
  {
   "cell_type": "code",
   "execution_count": 8,
   "id": "0be35818",
   "metadata": {
    "scrolled": true
   },
   "outputs": [
    {
     "data": {
      "text/plain": [
       "LGBMClassifier()"
      ]
     },
     "execution_count": 8,
     "metadata": {},
     "output_type": "execute_result"
    }
   ],
   "source": [
    "from lightgbm import LGBMClassifier                                  # LightGBM 함수\n",
    "\n",
    "# 모델 선언\n",
    "clf_lgbm = LGBMClassifier()\n",
    "\n",
    "# 모델 훈련\n",
    "clf_lgbm.fit(X_tn_std, y_tn) "
   ]
  },
  {
   "cell_type": "markdown",
   "id": "03fd9156",
   "metadata": {},
   "source": [
    "### 데이터 예측"
   ]
  },
  {
   "cell_type": "code",
   "execution_count": 9,
   "id": "3205bf01",
   "metadata": {},
   "outputs": [
    {
     "name": "stdout",
     "output_type": "stream",
     "text": [
      "[0 1 1 1 1 1 1 1 1 1 1 1 1 1 1 0 1 0 0 0 0 0 1 1 0 1 1 0 1 0 1 0 1 0 1 0 1\n",
      " 0 1 0 1 1 1 1 1 0 1 1 1 0 0 0 0 1 1 1 1 1 1 0 0 0 1 1 0 1 0 0 0 1 1 0 1 0\n",
      " 0 1 1 1 1 1 0 0 0 1 0 1 1 1 0 0 1 0 1 0 1 1 0 1 1 1 1 1 1 1 0 1 0 1 0 0 1\n",
      " 0 0 1 1 1 0 1 1 1 1 1 0 1 0 1 1 1 1 1 0 1 1 1 1 1 1 0 0 1 1 1 0]\n"
     ]
    }
   ],
   "source": [
    "pred_lgbm = clf_lgbm.predict(X_te_std)\n",
    "print(pred_lgbm)"
   ]
  },
  {
   "cell_type": "markdown",
   "id": "5639cdb8",
   "metadata": {},
   "source": [
    "### 정확도 평가"
   ]
  },
  {
   "cell_type": "code",
   "execution_count": 10,
   "id": "901af3e1",
   "metadata": {},
   "outputs": [
    {
     "name": "stdout",
     "output_type": "stream",
     "text": [
      "0.9790209790209791\n"
     ]
    }
   ],
   "source": [
    "from sklearn.metrics import accuracy_score\n",
    "accuracy = accuracy_score(y_te, pred_lgbm)                # 실제값과 예측값을 넣음\n",
    "print(accuracy)"
   ]
  },
  {
   "cell_type": "markdown",
   "id": "05c5ea91",
   "metadata": {},
   "source": [
    "### confusion matrix 확인"
   ]
  },
  {
   "cell_type": "code",
   "execution_count": 11,
   "id": "4a91b3e7",
   "metadata": {},
   "outputs": [
    {
     "name": "stdout",
     "output_type": "stream",
     "text": [
      "[[51  2]\n",
      " [ 1 89]]\n"
     ]
    }
   ],
   "source": [
    "from sklearn.metrics import confusion_matrix\n",
    "conf_matrix = confusion_matrix(y_te, pred_lgbm)\n",
    "print(conf_matrix)"
   ]
  },
  {
   "cell_type": "markdown",
   "id": "c1fa8933",
   "metadata": {},
   "source": [
    "### 분류 리포트 확인"
   ]
  },
  {
   "cell_type": "code",
   "execution_count": 12,
   "id": "313190f5",
   "metadata": {},
   "outputs": [
    {
     "name": "stdout",
     "output_type": "stream",
     "text": [
      "              precision    recall  f1-score   support\n",
      "\n",
      "           0       0.98      0.96      0.97        53\n",
      "           1       0.98      0.99      0.98        90\n",
      "\n",
      "    accuracy                           0.98       143\n",
      "   macro avg       0.98      0.98      0.98       143\n",
      "weighted avg       0.98      0.98      0.98       143\n",
      "\n"
     ]
    }
   ],
   "source": [
    "from sklearn.metrics import classification_report\n",
    "class_report = classification_report(y_te, pred_lgbm)\n",
    "print(class_report)"
   ]
  },
  {
   "cell_type": "markdown",
   "id": "6d758781",
   "metadata": {},
   "source": [
    "### 결과\n",
    "\n",
    "아무런 옵션도 주지 않은 채 살펴본 결과가 나쁘지 않다. (random_state까지 주지 않았다 왜그랬어;)\n",
    "\n",
    "그러나 한 가지 마음에 걸리는건 LightGBM은 학습하는데 시간이 적게 걸리고, 메모리 사용량이 상대적으로 적으며, 범주형 변수들을 자동으로 변환하고 최적 분할을 시도하며 GPU 학습도 지원하지만\n",
    "\n",
    "**dataset이 작을 사용할 경우 과적합 가능성이 높다**는 단점을 가지고 있다는 것이었다. 지금 있는 데이터 셋이 작디 작은 데이터 셋이라서 다른 데이터 셋으로 실험하는게 더 나을 것 같다는 판단.\n",
    "\n",
    "하지만 -멈출 수 없지- 같은 실험은 해보아야 겠다."
   ]
  },
  {
   "cell_type": "markdown",
   "id": "5d76fa21",
   "metadata": {},
   "source": [
    "# 실험1: max_depth = 1~5\n",
    "\n",
    "LightGBM의 default max_depth는 -1이다. 리프 위주로 뻗어나가는 것은 알겠는데 -1이 뭘까?\n",
    "\n",
    " > ###  max_depth [default=-1]: 0보다 작은 값을 지정하면 깊이에 제한 없음.\n"
   ]
  },
  {
   "cell_type": "code",
   "execution_count": 14,
   "id": "e5703e09",
   "metadata": {
    "scrolled": true
   },
   "outputs": [
    {
     "name": "stdout",
     "output_type": "stream",
     "text": [
      "분류기 개별 max_depth:  -1\n",
      "모델 정확도:  0.9790209790209791\n",
      "모델 분류 리포트\n",
      "              precision    recall  f1-score   support\n",
      "\n",
      "           0       0.98      0.96      0.97        53\n",
      "           1       0.98      0.99      0.98        90\n",
      "\n",
      "    accuracy                           0.98       143\n",
      "   macro avg       0.98      0.98      0.98       143\n",
      "weighted avg       0.98      0.98      0.98       143\n",
      "\n",
      "========================================================\n",
      "분류기 개별 max_depth:  0\n",
      "모델 정확도:  0.9790209790209791\n",
      "모델 분류 리포트\n",
      "              precision    recall  f1-score   support\n",
      "\n",
      "           0       0.98      0.96      0.97        53\n",
      "           1       0.98      0.99      0.98        90\n",
      "\n",
      "    accuracy                           0.98       143\n",
      "   macro avg       0.98      0.98      0.98       143\n",
      "weighted avg       0.98      0.98      0.98       143\n",
      "\n",
      "========================================================\n",
      "분류기 개별 max_depth:  1\n",
      "모델 정확도:  0.9790209790209791\n",
      "모델 분류 리포트\n",
      "              precision    recall  f1-score   support\n",
      "\n",
      "           0       1.00      0.94      0.97        53\n",
      "           1       0.97      1.00      0.98        90\n",
      "\n",
      "    accuracy                           0.98       143\n",
      "   macro avg       0.98      0.97      0.98       143\n",
      "weighted avg       0.98      0.98      0.98       143\n",
      "\n",
      "========================================================\n",
      "분류기 개별 max_depth:  2\n",
      "모델 정확도:  0.965034965034965\n",
      "모델 분류 리포트\n",
      "              precision    recall  f1-score   support\n",
      "\n",
      "           0       0.96      0.94      0.95        53\n",
      "           1       0.97      0.98      0.97        90\n",
      "\n",
      "    accuracy                           0.97       143\n",
      "   macro avg       0.96      0.96      0.96       143\n",
      "weighted avg       0.96      0.97      0.96       143\n",
      "\n",
      "========================================================\n",
      "분류기 개별 max_depth:  3\n",
      "모델 정확도:  0.972027972027972\n",
      "모델 분류 리포트\n",
      "              precision    recall  f1-score   support\n",
      "\n",
      "           0       0.98      0.94      0.96        53\n",
      "           1       0.97      0.99      0.98        90\n",
      "\n",
      "    accuracy                           0.97       143\n",
      "   macro avg       0.97      0.97      0.97       143\n",
      "weighted avg       0.97      0.97      0.97       143\n",
      "\n",
      "========================================================\n",
      "분류기 개별 max_depth:  4\n",
      "모델 정확도:  0.965034965034965\n",
      "모델 분류 리포트\n",
      "              precision    recall  f1-score   support\n",
      "\n",
      "           0       0.96      0.94      0.95        53\n",
      "           1       0.97      0.98      0.97        90\n",
      "\n",
      "    accuracy                           0.97       143\n",
      "   macro avg       0.96      0.96      0.96       143\n",
      "weighted avg       0.96      0.97      0.96       143\n",
      "\n",
      "========================================================\n",
      "분류기 개별 max_depth:  5\n",
      "모델 정확도:  0.986013986013986\n",
      "모델 분류 리포트\n",
      "              precision    recall  f1-score   support\n",
      "\n",
      "           0       1.00      0.96      0.98        53\n",
      "           1       0.98      1.00      0.99        90\n",
      "\n",
      "    accuracy                           0.99       143\n",
      "   macro avg       0.99      0.98      0.98       143\n",
      "weighted avg       0.99      0.99      0.99       143\n",
      "\n",
      "========================================================\n",
      "분류기 개별 max_depth:  6\n",
      "모델 정확도:  0.972027972027972\n",
      "모델 분류 리포트\n",
      "              precision    recall  f1-score   support\n",
      "\n",
      "           0       1.00      0.92      0.96        53\n",
      "           1       0.96      1.00      0.98        90\n",
      "\n",
      "    accuracy                           0.97       143\n",
      "   macro avg       0.98      0.96      0.97       143\n",
      "weighted avg       0.97      0.97      0.97       143\n",
      "\n",
      "========================================================\n"
     ]
    }
   ],
   "source": [
    "from lightgbm import LGBMClassifier                              # XGBoost 함수\n",
    "from sklearn.metrics import accuracy_score\n",
    "from sklearn.metrics import classification_report\n",
    "\n",
    "\n",
    "for i in range(-1,7):\n",
    "\n",
    "    # 모델 선언\n",
    "    clf_lgbm = LGBMClassifier(max_depth = i, random_state = 0) \n",
    "\n",
    "    # 모델 훈련\n",
    "    clf_lgbm.fit(X_tn_std, y_tn) \n",
    "\n",
    "    # 데이터 예측\n",
    "    pred_lgbm = clf_lgbm.predict(X_te_std)\n",
    "\n",
    "    # 정확도 평가\n",
    "    accuracy = accuracy_score(y_te, pred_lgbm)\n",
    "\n",
    "    # 분류 리포트 확인\n",
    "    class_report = classification_report(y_te, pred_lgbm)\n",
    "\n",
    "    # 모델 상태 확인 \n",
    "    print(\"분류기 개별 max_depth: \", i )\n",
    "    print(\"모델 정확도: \", accuracy)\n",
    "    print(\"모델 분류 리포트\")\n",
    "    print(class_report)\n",
    "    print(\"========================================================\")"
   ]
  },
  {
   "cell_type": "markdown",
   "id": "1407a228",
   "metadata": {},
   "source": [
    " ### 결과\n",
    " \n",
    " 이상한 결과를 맞게 되었는데, max_depth = 3 과 5일 때의 성능이 높게 나온 것은 왠지, 단순한 우연일 것 같다는 생각이 든다.\n",
    " \n",
    " 전체적인 경향은 일정하거나, 성능이 오히려 줄어드는 듯한 경향으로 보였는데 조금씩 높게 나오는 것을\n",
    " \n",
    " 이 적은 데이터를 가지고 좋은 성능이 나오는 최적의 뎁스라고 이야기 할 수 없을 것 같고. \n",
    " \n",
    " 주어진 데이터에 맞게 억지로 성능을 높이는 일은 대회나가는 일이 아니면 없어야 할 일일 테니까 말이다.\n",
    " \n",
    " ---\n",
    " \n",
    " 앞서 했었던 부스팅 모델들과 비슷한 실험을 진행해보려고 한다."
   ]
  },
  {
   "cell_type": "markdown",
   "id": "0eb5498c",
   "metadata": {},
   "source": [
    "# 실험2: n_estimators = 10~200 \n",
    "\n",
    "default 값은 100이었다."
   ]
  },
  {
   "cell_type": "code",
   "execution_count": 15,
   "id": "c1d8db10",
   "metadata": {
    "scrolled": true
   },
   "outputs": [
    {
     "name": "stdout",
     "output_type": "stream",
     "text": [
      "분류기 개별 max_depth:  -1\n",
      "분류기 개수:  10\n",
      "모델 정확도:  0.958041958041958\n",
      "모델 분류 리포트\n",
      "              precision    recall  f1-score   support\n",
      "\n",
      "           0       0.96      0.92      0.94        53\n",
      "           1       0.96      0.98      0.97        90\n",
      "\n",
      "    accuracy                           0.96       143\n",
      "   macro avg       0.96      0.95      0.95       143\n",
      "weighted avg       0.96      0.96      0.96       143\n",
      "\n",
      "========================================================\n",
      "분류기 개별 max_depth:  -1\n",
      "분류기 개수:  25\n",
      "모델 정확도:  0.965034965034965\n",
      "모델 분류 리포트\n",
      "              precision    recall  f1-score   support\n",
      "\n",
      "           0       0.94      0.96      0.95        53\n",
      "           1       0.98      0.97      0.97        90\n",
      "\n",
      "    accuracy                           0.97       143\n",
      "   macro avg       0.96      0.96      0.96       143\n",
      "weighted avg       0.97      0.97      0.97       143\n",
      "\n",
      "========================================================\n",
      "분류기 개별 max_depth:  -1\n",
      "분류기 개수:  50\n",
      "모델 정확도:  0.986013986013986\n",
      "모델 분류 리포트\n",
      "              precision    recall  f1-score   support\n",
      "\n",
      "           0       1.00      0.96      0.98        53\n",
      "           1       0.98      1.00      0.99        90\n",
      "\n",
      "    accuracy                           0.99       143\n",
      "   macro avg       0.99      0.98      0.98       143\n",
      "weighted avg       0.99      0.99      0.99       143\n",
      "\n",
      "========================================================\n",
      "분류기 개별 max_depth:  -1\n",
      "분류기 개수:  75\n",
      "모델 정확도:  0.972027972027972\n",
      "모델 분류 리포트\n",
      "              precision    recall  f1-score   support\n",
      "\n",
      "           0       0.98      0.94      0.96        53\n",
      "           1       0.97      0.99      0.98        90\n",
      "\n",
      "    accuracy                           0.97       143\n",
      "   macro avg       0.97      0.97      0.97       143\n",
      "weighted avg       0.97      0.97      0.97       143\n",
      "\n",
      "========================================================\n",
      "분류기 개별 max_depth:  -1\n",
      "분류기 개수:  100\n",
      "모델 정확도:  0.9790209790209791\n",
      "모델 분류 리포트\n",
      "              precision    recall  f1-score   support\n",
      "\n",
      "           0       0.98      0.96      0.97        53\n",
      "           1       0.98      0.99      0.98        90\n",
      "\n",
      "    accuracy                           0.98       143\n",
      "   macro avg       0.98      0.98      0.98       143\n",
      "weighted avg       0.98      0.98      0.98       143\n",
      "\n",
      "========================================================\n",
      "분류기 개별 max_depth:  -1\n",
      "분류기 개수:  125\n",
      "모델 정확도:  0.986013986013986\n",
      "모델 분류 리포트\n",
      "              precision    recall  f1-score   support\n",
      "\n",
      "           0       1.00      0.96      0.98        53\n",
      "           1       0.98      1.00      0.99        90\n",
      "\n",
      "    accuracy                           0.99       143\n",
      "   macro avg       0.99      0.98      0.98       143\n",
      "weighted avg       0.99      0.99      0.99       143\n",
      "\n",
      "========================================================\n",
      "분류기 개별 max_depth:  -1\n",
      "분류기 개수:  150\n",
      "모델 정확도:  0.986013986013986\n",
      "모델 분류 리포트\n",
      "              precision    recall  f1-score   support\n",
      "\n",
      "           0       1.00      0.96      0.98        53\n",
      "           1       0.98      1.00      0.99        90\n",
      "\n",
      "    accuracy                           0.99       143\n",
      "   macro avg       0.99      0.98      0.98       143\n",
      "weighted avg       0.99      0.99      0.99       143\n",
      "\n",
      "========================================================\n",
      "분류기 개별 max_depth:  -1\n",
      "분류기 개수:  175\n",
      "모델 정확도:  0.986013986013986\n",
      "모델 분류 리포트\n",
      "              precision    recall  f1-score   support\n",
      "\n",
      "           0       1.00      0.96      0.98        53\n",
      "           1       0.98      1.00      0.99        90\n",
      "\n",
      "    accuracy                           0.99       143\n",
      "   macro avg       0.99      0.98      0.98       143\n",
      "weighted avg       0.99      0.99      0.99       143\n",
      "\n",
      "========================================================\n",
      "분류기 개별 max_depth:  -1\n",
      "분류기 개수:  200\n",
      "모델 정확도:  0.986013986013986\n",
      "모델 분류 리포트\n",
      "              precision    recall  f1-score   support\n",
      "\n",
      "           0       1.00      0.96      0.98        53\n",
      "           1       0.98      1.00      0.99        90\n",
      "\n",
      "    accuracy                           0.99       143\n",
      "   macro avg       0.99      0.98      0.98       143\n",
      "weighted avg       0.99      0.99      0.99       143\n",
      "\n",
      "========================================================\n"
     ]
    }
   ],
   "source": [
    "from lightgbm import LGBMClassifier                              # XGBoost 함수\n",
    "from sklearn.metrics import accuracy_score\n",
    "from sklearn.metrics import classification_report\n",
    "\n",
    "n_esti = [10, 25, 50, 75, 100, 125, 150, 175, 200]\n",
    "\n",
    "for i in n_esti:\n",
    "\n",
    "    # 모델 선언\n",
    "    clf_lgbm = LGBMClassifier(n_estimators = i, random_state = 0) \n",
    "\n",
    "    # 모델 훈련\n",
    "    clf_lgbm.fit(X_tn_std, y_tn) \n",
    "\n",
    "    # 데이터 예측\n",
    "    pred_lgbm = clf_lgbm.predict(X_te_std)\n",
    "\n",
    "    # 정확도 평가\n",
    "    accuracy = accuracy_score(y_te, pred_lgbm)\n",
    "\n",
    "    # 분류 리포트 확인\n",
    "    class_report = classification_report(y_te, pred_lgbm)\n",
    "\n",
    "    # 모델 상태 확인 \n",
    "    print(\"분류기 개별 max_depth: \", -1 )\n",
    "    print(\"분류기 개수: \", i)\n",
    "    print(\"모델 정확도: \", accuracy)\n",
    "    print(\"모델 분류 리포트\")\n",
    "    print(class_report)\n",
    "    print(\"========================================================\")"
   ]
  },
  {
   "cell_type": "markdown",
   "id": "8ec7454e",
   "metadata": {},
   "source": [
    "### 결과\n",
    "\n",
    "분류기의 개수가 늘어날 수록 전체적으로 성능이 증가했고, 성능에는 상한선이 있었다. \n",
    "\n",
    "아마도 샘플들을 학습한 것만으로는 분류가 어려운 데이터가 존재하는 것 아닌가 생각이 들기도 하면서, 더 이상의 학습이 필요없음을 모델도 아는걸까 싶고.\n",
    "\n",
    "데이터가 더 많아야 우연이 줄어들텐데 하는 생각이다. 작은 실험들이지만 데이터에 대해서도 지식에 대해서도 욕심이 생기는 시간이었다.\n",
    "\n",
    "---\n",
    "\n",
    "다음으로는 분류기 내 최대 리프 개수를 설정하는 것을 만져보려고 한다. \n",
    "\n",
    "이는 제한의 의미가 될 수도 있다는 생각이라 큰 값은 의미가 없을 것이라 기대하고 있다."
   ]
  },
  {
   "cell_type": "markdown",
   "id": "ac3621bd",
   "metadata": {},
   "source": [
    "# 실험3: num_leaves = 10~100\n",
    "\n",
    "default 값은 31이었다."
   ]
  },
  {
   "cell_type": "code",
   "execution_count": 18,
   "id": "852bffa3",
   "metadata": {
    "scrolled": true
   },
   "outputs": [
    {
     "name": "stdout",
     "output_type": "stream",
     "text": [
      "분류기 개별 max_depth:  -1\n",
      "분류기 리프 제한:  10\n",
      "모델 정확도:  0.972027972027972\n",
      "모델 분류 리포트\n",
      "              precision    recall  f1-score   support\n",
      "\n",
      "           0       0.98      0.94      0.96        53\n",
      "           1       0.97      0.99      0.98        90\n",
      "\n",
      "    accuracy                           0.97       143\n",
      "   macro avg       0.97      0.97      0.97       143\n",
      "weighted avg       0.97      0.97      0.97       143\n",
      "\n",
      "========================================================\n",
      "분류기 개별 max_depth:  -1\n",
      "분류기 리프 제한:  25\n",
      "모델 정확도:  0.9790209790209791\n",
      "모델 분류 리포트\n",
      "              precision    recall  f1-score   support\n",
      "\n",
      "           0       0.98      0.96      0.97        53\n",
      "           1       0.98      0.99      0.98        90\n",
      "\n",
      "    accuracy                           0.98       143\n",
      "   macro avg       0.98      0.98      0.98       143\n",
      "weighted avg       0.98      0.98      0.98       143\n",
      "\n",
      "========================================================\n",
      "분류기 개별 max_depth:  -1\n",
      "분류기 리프 제한:  50\n",
      "모델 정확도:  0.9790209790209791\n",
      "모델 분류 리포트\n",
      "              precision    recall  f1-score   support\n",
      "\n",
      "           0       0.98      0.96      0.97        53\n",
      "           1       0.98      0.99      0.98        90\n",
      "\n",
      "    accuracy                           0.98       143\n",
      "   macro avg       0.98      0.98      0.98       143\n",
      "weighted avg       0.98      0.98      0.98       143\n",
      "\n",
      "========================================================\n",
      "분류기 개별 max_depth:  -1\n",
      "분류기 리프 제한:  75\n",
      "모델 정확도:  0.9790209790209791\n",
      "모델 분류 리포트\n",
      "              precision    recall  f1-score   support\n",
      "\n",
      "           0       0.98      0.96      0.97        53\n",
      "           1       0.98      0.99      0.98        90\n",
      "\n",
      "    accuracy                           0.98       143\n",
      "   macro avg       0.98      0.98      0.98       143\n",
      "weighted avg       0.98      0.98      0.98       143\n",
      "\n",
      "========================================================\n",
      "분류기 개별 max_depth:  -1\n",
      "분류기 리프 제한:  100\n",
      "모델 정확도:  0.9790209790209791\n",
      "모델 분류 리포트\n",
      "              precision    recall  f1-score   support\n",
      "\n",
      "           0       0.98      0.96      0.97        53\n",
      "           1       0.98      0.99      0.98        90\n",
      "\n",
      "    accuracy                           0.98       143\n",
      "   macro avg       0.98      0.98      0.98       143\n",
      "weighted avg       0.98      0.98      0.98       143\n",
      "\n",
      "========================================================\n",
      "분류기 개별 max_depth:  -1\n",
      "분류기 리프 제한:  125\n",
      "모델 정확도:  0.9790209790209791\n",
      "모델 분류 리포트\n",
      "              precision    recall  f1-score   support\n",
      "\n",
      "           0       0.98      0.96      0.97        53\n",
      "           1       0.98      0.99      0.98        90\n",
      "\n",
      "    accuracy                           0.98       143\n",
      "   macro avg       0.98      0.98      0.98       143\n",
      "weighted avg       0.98      0.98      0.98       143\n",
      "\n",
      "========================================================\n",
      "분류기 개별 max_depth:  -1\n",
      "분류기 리프 제한:  150\n",
      "모델 정확도:  0.9790209790209791\n",
      "모델 분류 리포트\n",
      "              precision    recall  f1-score   support\n",
      "\n",
      "           0       0.98      0.96      0.97        53\n",
      "           1       0.98      0.99      0.98        90\n",
      "\n",
      "    accuracy                           0.98       143\n",
      "   macro avg       0.98      0.98      0.98       143\n",
      "weighted avg       0.98      0.98      0.98       143\n",
      "\n",
      "========================================================\n",
      "분류기 개별 max_depth:  -1\n",
      "분류기 리프 제한:  175\n",
      "모델 정확도:  0.9790209790209791\n",
      "모델 분류 리포트\n",
      "              precision    recall  f1-score   support\n",
      "\n",
      "           0       0.98      0.96      0.97        53\n",
      "           1       0.98      0.99      0.98        90\n",
      "\n",
      "    accuracy                           0.98       143\n",
      "   macro avg       0.98      0.98      0.98       143\n",
      "weighted avg       0.98      0.98      0.98       143\n",
      "\n",
      "========================================================\n",
      "분류기 개별 max_depth:  -1\n",
      "분류기 리프 제한:  200\n",
      "모델 정확도:  0.9790209790209791\n",
      "모델 분류 리포트\n",
      "              precision    recall  f1-score   support\n",
      "\n",
      "           0       0.98      0.96      0.97        53\n",
      "           1       0.98      0.99      0.98        90\n",
      "\n",
      "    accuracy                           0.98       143\n",
      "   macro avg       0.98      0.98      0.98       143\n",
      "weighted avg       0.98      0.98      0.98       143\n",
      "\n",
      "========================================================\n"
     ]
    }
   ],
   "source": [
    "from lightgbm import LGBMClassifier                              # XGBoost 함수\n",
    "from sklearn.metrics import accuracy_score\n",
    "from sklearn.metrics import classification_report\n",
    "\n",
    "n_esti = [10, 25, 50, 75, 100, 125, 150, 175, 200]\n",
    "\n",
    "for i in n_esti:\n",
    "\n",
    "    # 모델 선언\n",
    "    clf_lgbm = LGBMClassifier(num_leaves = i, random_state = 0) \n",
    "\n",
    "    # 모델 훈련\n",
    "    clf_lgbm.fit(X_tn_std, y_tn) \n",
    "\n",
    "    # 데이터 예측\n",
    "    pred_lgbm = clf_lgbm.predict(X_te_std)\n",
    "\n",
    "    # 정확도 평가\n",
    "    accuracy = accuracy_score(y_te, pred_lgbm)\n",
    "\n",
    "    # 분류 리포트 확인\n",
    "    class_report = classification_report(y_te, pred_lgbm)\n",
    "\n",
    "    # 모델 상태 확인 \n",
    "    print(\"분류기 개별 max_depth: \", -1 )\n",
    "    print(\"분류기 리프 제한: \", i)\n",
    "    print(\"모델 정확도: \", accuracy)\n",
    "    print(\"모델 분류 리포트\")\n",
    "    print(class_report)\n",
    "    print(\"========================================================\")"
   ]
  },
  {
   "cell_type": "markdown",
   "id": "2e223c7a",
   "metadata": {},
   "source": [
    "### 결과\n",
    "\n",
    "아무 의미가 없었다는 것 자체 실험의 결과임을 알 수 있다. 그만큼 복잡한 문제가 아니었기 때문에 한 분류기 안에서 몇 개의 리프가 되는 것은 중요하지 않았는지 모른다.\n",
    "\n",
    "# 전체 코드\n",
    "\n",
    "아래는 조기 중단 기능에 필요한 파라미터라고 한다. 이 경우는 간단한 문제라 사용을 않았는데, 후에 필요할 것 같아서 함께 달아둔다.\n",
    "\n",
    "*출처: https://kimdingko-world.tistory.com/184*"
   ]
  },
  {
   "cell_type": "code",
   "execution_count": null,
   "id": "d42a914e",
   "metadata": {},
   "outputs": [],
   "source": [
    "# 조기 중단 기능에 필요한 파라미터 정의\n",
    "evals = [(X_test, y_test)]\n",
    "lgbm_wrapper.fit(X_train, y_train, early_stopping_rounds=100, eval_metric='logloss', eval_set=evals, verbose=True)\n",
    "\n",
    "preds = lgbm_wrapper.predict(X_test)\n",
    "pred_proba = lgbm_wrapper.predict_proba(X_test)[:,1]"
   ]
  },
  {
   "cell_type": "code",
   "execution_count": null,
   "id": "8366517e",
   "metadata": {},
   "outputs": [],
   "source": [
    "\"\"\"코드 원문\"\"\"\n",
    "\n",
    "\n",
    "# LightGBM 임포트\n",
    "from lightgbm import LGBMClassifier\n",
    "\n",
    "import pandas as pd\n",
    "import numpy as np\n",
    "from sklearn.datasets import load_breast_cancer\n",
    "from sklearn.model_selection import train_test_split\n",
    "\n",
    "# 위스콘신 유방암 데이터 로드\n",
    "dataset = load_breast_cancer()\n",
    "ftr = dataset.data\n",
    "target = dataset.target\n",
    "\n",
    "# LGBM 분류기 객체 생성\n",
    "lgbm_wrapper = LGBMClassifier(n_estimators=400)\n",
    "\n",
    "# 학습, 테스트 데이터 분리\n",
    "X_train, X_test, y_train, y_test = train_test_split(ftr, target, test_size=0.2)\n",
    "\n",
    "# 조기 중단 기능에 필요한 파라미터 정의\n",
    "evals = [(X_test, y_test)]\n",
    "lgbm_wrapper.fit(X_train, y_train, early_stopping_rounds=100, eval_metric='logloss', eval_set=evals, verbose=True)\n",
    "\n",
    "preds = lgbm_wrapper.predict(X_test)\n",
    "pred_proba = lgbm_wrapper.predict_proba(X_test)[:,1]\n",
    "\n",
    "\n",
    "# 다양한 오차 측정 지표를 확인하기 위한 함수 정의\n",
    "\n",
    "from sklearn.metrics import *\n",
    "\n",
    "def get_clf_eval(y_test, pred=None, pred_proba=None): \n",
    "    confusion = confusion_matrix(y_test, pred) \n",
    "    accuracy = accuracy_score(y_test, pred) \n",
    "    precision = precision_score(y_test, pred) \n",
    "    recall = recall_score(y_test, pred) \n",
    "    f1 = f1_score(y_test, pred) \n",
    "    # ROC AUC \n",
    "    roc_auc = roc_auc_score(y_test, pred_proba) \n",
    "    \n",
    "    print('Confusion Matrix') \n",
    "    print(confusion) \n",
    "    print('accuracy: {0:.4f}, precision: {1:.4f}, recall: {2:.4f}, f1: {3:.4f}, roc_auc: {4:.4f}'.format( accuracy, precision, recall, f1, roc_auc))\n",
    "    \n",
    "\n",
    "# get_clf_eval()를 이용해 사키릿런 래퍼 XGBoost로 만들어진 모델 예측 성능 평가\n",
    "get_clf_eval(y_test, preds, pred_proba)"
   ]
  },
  {
   "cell_type": "code",
   "execution_count": null,
   "id": "b314b631",
   "metadata": {},
   "outputs": [],
   "source": [
    "\"\"\"plot_importance() 를 이용한 피처 중요도 시각화\"\"\"\n",
    "\n",
    "from lightgbm import plot_importance\n",
    "import matplotlib.pyplot as plt\n",
    "%matplotlib inline\n",
    "\n",
    "fig, ax = plt.subplots(figsize=(10, 12))\n",
    "plot_importance(lgbm_wrapper, ax=ax)"
   ]
  }
 ],
 "metadata": {
  "kernelspec": {
   "display_name": "Python 3 (ipykernel)",
   "language": "python",
   "name": "python3"
  },
  "language_info": {
   "codemirror_mode": {
    "name": "ipython",
    "version": 3
   },
   "file_extension": ".py",
   "mimetype": "text/x-python",
   "name": "python",
   "nbconvert_exporter": "python",
   "pygments_lexer": "ipython3",
   "version": "3.8.5"
  },
  "toc": {
   "base_numbering": 1,
   "nav_menu": {},
   "number_sections": true,
   "sideBar": true,
   "skip_h1_title": false,
   "title_cell": "Table of Contents",
   "title_sidebar": "Contents",
   "toc_cell": false,
   "toc_position": {
    "height": "calc(100% - 180px)",
    "left": "10px",
    "top": "150px",
    "width": "384px"
   },
   "toc_section_display": true,
   "toc_window_display": true
  }
 },
 "nbformat": 4,
 "nbformat_minor": 5
}

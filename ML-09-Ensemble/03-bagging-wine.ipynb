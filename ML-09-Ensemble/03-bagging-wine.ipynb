{
 "cells": [
  {
   "cell_type": "markdown",
   "id": "dee0e18b",
   "metadata": {},
   "source": [
    "# 머신러닝 with Python \n",
    "## 09 앙상블 학습 배깅(Bootstrap aggregating) 실습- wine data set\n",
    "\n",
    "##### 보팅 알고리즘을 활용해 와인 데이터를 예측하는 모형을 생성해본다.\n",
    "\n",
    "책 p.259~ (원본 데이터 - 붓꽃 분류, 이번 사용 데이터 와인 데이터), 일부는 랜덤포레스트 실습 부분 참조\n",
    "\n",
    "---\n",
    "\n",
    "하단부에서는 세 클래시파이어(로지스틱 회귀분석, 서포트 벡터 머신, 가우시안 나이브 베이즈) 중 하나씩 빼보면서 실험해 보았다.\n",
    "\n",
    "> 배운점1: 세 분류기 합친 모델의 정확도 >= 세 분류기 중 하나가 빠진 모델의 정확도 \n",
    "\n",
    "> 배운점2 : a b 분류기를 함께 보팅으로 사용했을 때의 정확도 >= a 혹은 b 분류기의 정확도 중 **낮은 정확도** "
   ]
  },
  {
   "cell_type": "markdown",
   "id": "d022679e",
   "metadata": {},
   "source": [
    "### 데이터 불러오기"
   ]
  },
  {
   "cell_type": "code",
   "execution_count": null,
   "id": "78e3ab2c",
   "metadata": {},
   "outputs": [],
   "source": [
    "from sklearn import datasets "
   ]
  },
  {
   "cell_type": "code",
   "execution_count": null,
   "id": "baf788f0",
   "metadata": {},
   "outputs": [],
   "source": [
    "raw_wine = datasets.load_wine() # 와인 데이터 가져오기"
   ]
  },
  {
   "cell_type": "code",
   "execution_count": null,
   "id": "c4be6bef",
   "metadata": {
    "scrolled": true
   },
   "outputs": [],
   "source": [
    "# 데이터 살펴보기\n",
    "\n",
    "raw_wine"
   ]
  },
  {
   "cell_type": "markdown",
   "id": "53e0dae9",
   "metadata": {},
   "source": [
    "### 피처, 타깃 데이터 지정\n",
    "\n",
    "보통 train data는 행렬이므로 대문자 X, 예측되어야 할 값은 스칼라로 소문자 y가 된다는 것을 들은게 생각이 나부렀다.}"
   ]
  },
  {
   "cell_type": "code",
   "execution_count": null,
   "id": "e76b530f",
   "metadata": {},
   "outputs": [],
   "source": [
    "X = raw_wine.data\n",
    "y = raw_wine.target"
   ]
  },
  {
   "cell_type": "markdown",
   "id": "a90ae465",
   "metadata": {},
   "source": [
    "### 트레이닝/테스트 데이터 분할"
   ]
  },
  {
   "cell_type": "code",
   "execution_count": null,
   "id": "3acca5ae",
   "metadata": {},
   "outputs": [],
   "source": [
    "from sklearn.model_selection import train_test_split              # 분할을 위해 필요한 함수\n",
    "X_tn, X_te, y_tn, y_te = train_test_split(X, y, random_state = 0) # 분리. randomstate는 고정"
   ]
  },
  {
   "cell_type": "markdown",
   "id": "7fdc70ec",
   "metadata": {},
   "source": [
    "### 데이터 표준화"
   ]
  },
  {
   "cell_type": "code",
   "execution_count": null,
   "id": "a771eaa3",
   "metadata": {},
   "outputs": [],
   "source": [
    "from sklearn.preprocessing import StandardScaler # 데이터 표준화를 위한 함수\n",
    "std_scale = StandardScaler()                     # 표준화 스케일러 지정\n",
    "std_scale.fit(X_tn)                              # 트레이닝 피처를 기준으로 표준화를 적합시키기\n",
    "\n",
    "\n",
    "X_tn_std = std_scale.transform(X_tn) \n",
    "X_te_std = std_scale.transform(X_te)             # 트레인, 테스트 데이터 각각 적합시킨 표준화에 맞게 변형"
   ]
  },
  {
   "cell_type": "markdown",
   "id": "d41a9d9d",
   "metadata": {},
   "source": [
    "### 데이터 학습"
   ]
  },
  {
   "cell_type": "code",
   "execution_count": null,
   "id": "b7f17f2c",
   "metadata": {},
   "outputs": [],
   "source": []
  },
  {
   "cell_type": "markdown",
   "id": "03fd9156",
   "metadata": {},
   "source": [
    "### 데이터 예측"
   ]
  },
  {
   "cell_type": "code",
   "execution_count": null,
   "id": "3205bf01",
   "metadata": {},
   "outputs": [],
   "source": [
    "pred_voting = clf_voting.predict(X_te_std)          # std된 테스트 피처 데이터를 넣고 실행\n",
    "print(pred_voting)"
   ]
  },
  {
   "cell_type": "markdown",
   "id": "5639cdb8",
   "metadata": {},
   "source": [
    "### 정확도 평가"
   ]
  },
  {
   "cell_type": "code",
   "execution_count": null,
   "id": "901af3e1",
   "metadata": {},
   "outputs": [],
   "source": [
    "from sklearn.metrics import accuracy_score\n",
    "accuracy = accuracy_score(y_te, pred_voting)        # 실제값과 예측값을 넣음\n",
    "print(accuracy)"
   ]
  },
  {
   "cell_type": "markdown",
   "id": "05c5ea91",
   "metadata": {},
   "source": [
    "### confusion matrix 확인"
   ]
  },
  {
   "cell_type": "code",
   "execution_count": null,
   "id": "4a91b3e7",
   "metadata": {},
   "outputs": [],
   "source": [
    "from sklearn.metrics import confusion_matrix\n",
    "conf_matrix = confusion_matrix(y_te, pred_voting)\n",
    "print(conf_matrix)"
   ]
  },
  {
   "cell_type": "markdown",
   "id": "c1fa8933",
   "metadata": {},
   "source": [
    "### 분류 리포트 확인"
   ]
  }
 ],
 "metadata": {
  "kernelspec": {
   "display_name": "Python 3 (ipykernel)",
   "language": "python",
   "name": "python3"
  },
  "language_info": {
   "codemirror_mode": {
    "name": "ipython",
    "version": 3
   },
   "file_extension": ".py",
   "mimetype": "text/x-python",
   "name": "python",
   "nbconvert_exporter": "python",
   "pygments_lexer": "ipython3",
   "version": "3.8.5"
  },
  "toc": {
   "base_numbering": 1,
   "nav_menu": {},
   "number_sections": true,
   "sideBar": true,
   "skip_h1_title": false,
   "title_cell": "Table of Contents",
   "title_sidebar": "Contents",
   "toc_cell": false,
   "toc_position": {
    "height": "calc(100% - 180px)",
    "left": "10px",
    "top": "150px",
    "width": "384px"
   },
   "toc_section_display": true,
   "toc_window_display": true
  }
 },
 "nbformat": 4,
 "nbformat_minor": 5
}

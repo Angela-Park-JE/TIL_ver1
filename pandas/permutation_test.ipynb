{
 "cells": [
  {
   "cell_type": "markdown",
   "id": "1c822e45",
   "metadata": {},
   "source": [
    "# 통계적 검정 실습파일\n",
    "\n",
    "# 순열검정 (Permutation_test)\n",
    "\n",
    "재표본추출을 직접 해보고싶어서 만든 페이지입니다.\n",
    "\n",
    "가진 데이터를 활용하여(이 통계 교재 실습을 위해 만들어진 데이터가 아닌) 귀무가설을 기각하는 경우를 보고싶었습니다.\n",
    "\n",
    "이전에 AI 공부를 할 때 함께했던 멜버른 집값 데이터를 데려옵니다."
   ]
  },
  {
   "cell_type": "markdown",
   "id": "b15d84e1",
   "metadata": {},
   "source": [
    "## Data, library import"
   ]
  },
  {
   "cell_type": "code",
   "execution_count": 1,
   "id": "f08f9857",
   "metadata": {},
   "outputs": [],
   "source": [
    "# 라이브러리 불러오기\n",
    "\n",
    "%matplotlib inline\n",
    "\n",
    "from pathlib import Path\n",
    "import random\n",
    "\n",
    "import pandas as pd\n",
    "import numpy as np\n",
    "from scipy.stats import trim_mean\n",
    "from scipy import stats\n",
    "from sklearn.utils import resample\n",
    "import statsmodels.api as sm\n",
    "import statsmodels.formula.api as smf\n",
    "from statsmodels.stats import power\n",
    "\n",
    "import seaborn as sns\n",
    "import matplotlib.pylab as plt\n",
    "\n",
    "import warnings"
   ]
  },
  {
   "cell_type": "code",
   "execution_count": 2,
   "id": "45d7755c",
   "metadata": {},
   "outputs": [],
   "source": [
    "mel_price = pd.read_csv('/Users/Angela/Desktop/Personal/AI_data/melb_data.csv')"
   ]
  },
  {
   "cell_type": "markdown",
   "id": "b65e7a4f",
   "metadata": {},
   "source": [
    "## data info"
   ]
  },
  {
   "cell_type": "code",
   "execution_count": 3,
   "id": "fb7a1e88",
   "metadata": {},
   "outputs": [
    {
     "data": {
      "text/plain": [
       "Suburb             314\n",
       "Address          13378\n",
       "Rooms                9\n",
       "Type                 3\n",
       "Price             2204\n",
       "Method               5\n",
       "SellerG            268\n",
       "Date                58\n",
       "Distance           202\n",
       "Postcode           198\n",
       "Bedroom2            12\n",
       "Bathroom             9\n",
       "Car                 11\n",
       "Landsize          1448\n",
       "BuildingArea       602\n",
       "YearBuilt          144\n",
       "CouncilArea         33\n",
       "Lattitude         6503\n",
       "Longtitude        7063\n",
       "Regionname           8\n",
       "Propertycount      311\n",
       "dtype: int64"
      ]
     },
     "execution_count": 3,
     "metadata": {},
     "output_type": "execute_result"
    }
   ],
   "source": [
    "mel_price.nunique()"
   ]
  },
  {
   "cell_type": "code",
   "execution_count": 4,
   "id": "ec6cb738",
   "metadata": {
    "scrolled": true
   },
   "outputs": [
    {
     "data": {
      "text/html": [
       "<div>\n",
       "<style scoped>\n",
       "    .dataframe tbody tr th:only-of-type {\n",
       "        vertical-align: middle;\n",
       "    }\n",
       "\n",
       "    .dataframe tbody tr th {\n",
       "        vertical-align: top;\n",
       "    }\n",
       "\n",
       "    .dataframe thead th {\n",
       "        text-align: right;\n",
       "    }\n",
       "</style>\n",
       "<table border=\"1\" class=\"dataframe\">\n",
       "  <thead>\n",
       "    <tr style=\"text-align: right;\">\n",
       "      <th></th>\n",
       "      <th>Suburb</th>\n",
       "      <th>Address</th>\n",
       "      <th>Rooms</th>\n",
       "      <th>Type</th>\n",
       "      <th>Price</th>\n",
       "      <th>Method</th>\n",
       "      <th>SellerG</th>\n",
       "      <th>Date</th>\n",
       "      <th>Distance</th>\n",
       "      <th>Postcode</th>\n",
       "      <th>...</th>\n",
       "      <th>Bathroom</th>\n",
       "      <th>Car</th>\n",
       "      <th>Landsize</th>\n",
       "      <th>BuildingArea</th>\n",
       "      <th>YearBuilt</th>\n",
       "      <th>CouncilArea</th>\n",
       "      <th>Lattitude</th>\n",
       "      <th>Longtitude</th>\n",
       "      <th>Regionname</th>\n",
       "      <th>Propertycount</th>\n",
       "    </tr>\n",
       "  </thead>\n",
       "  <tbody>\n",
       "    <tr>\n",
       "      <th>5747</th>\n",
       "      <td>Spotswood</td>\n",
       "      <td>10 Raleigh St</td>\n",
       "      <td>3</td>\n",
       "      <td>h</td>\n",
       "      <td>855000.0</td>\n",
       "      <td>S</td>\n",
       "      <td>RT</td>\n",
       "      <td>6/08/2016</td>\n",
       "      <td>7.7</td>\n",
       "      <td>3015.0</td>\n",
       "      <td>...</td>\n",
       "      <td>1.0</td>\n",
       "      <td>1.0</td>\n",
       "      <td>326.0</td>\n",
       "      <td>112.0</td>\n",
       "      <td>1991.0</td>\n",
       "      <td>Hobsons Bay</td>\n",
       "      <td>-37.8310</td>\n",
       "      <td>144.8884</td>\n",
       "      <td>Western Metropolitan</td>\n",
       "      <td>1223.0</td>\n",
       "    </tr>\n",
       "    <tr>\n",
       "      <th>4195</th>\n",
       "      <td>Moorabbin</td>\n",
       "      <td>24a Franklin St</td>\n",
       "      <td>3</td>\n",
       "      <td>t</td>\n",
       "      <td>800000.0</td>\n",
       "      <td>S</td>\n",
       "      <td>Buxton</td>\n",
       "      <td>28/08/2016</td>\n",
       "      <td>14.6</td>\n",
       "      <td>3189.0</td>\n",
       "      <td>...</td>\n",
       "      <td>2.0</td>\n",
       "      <td>1.0</td>\n",
       "      <td>0.0</td>\n",
       "      <td>NaN</td>\n",
       "      <td>1999.0</td>\n",
       "      <td>Kingston</td>\n",
       "      <td>-37.9374</td>\n",
       "      <td>145.0542</td>\n",
       "      <td>Southern Metropolitan</td>\n",
       "      <td>2555.0</td>\n",
       "    </tr>\n",
       "    <tr>\n",
       "      <th>6570</th>\n",
       "      <td>Windsor</td>\n",
       "      <td>6/213 Dandenong Rd</td>\n",
       "      <td>2</td>\n",
       "      <td>u</td>\n",
       "      <td>600000.0</td>\n",
       "      <td>S</td>\n",
       "      <td>hockingstuart</td>\n",
       "      <td>6/08/2016</td>\n",
       "      <td>5.1</td>\n",
       "      <td>3181.0</td>\n",
       "      <td>...</td>\n",
       "      <td>1.0</td>\n",
       "      <td>1.0</td>\n",
       "      <td>1043.0</td>\n",
       "      <td>NaN</td>\n",
       "      <td>NaN</td>\n",
       "      <td>Stonnington</td>\n",
       "      <td>-37.8581</td>\n",
       "      <td>144.9972</td>\n",
       "      <td>Southern Metropolitan</td>\n",
       "      <td>4380.0</td>\n",
       "    </tr>\n",
       "    <tr>\n",
       "      <th>6019</th>\n",
       "      <td>Sunshine North</td>\n",
       "      <td>2/86 Phoenix St</td>\n",
       "      <td>2</td>\n",
       "      <td>u</td>\n",
       "      <td>315000.0</td>\n",
       "      <td>PI</td>\n",
       "      <td>Douglas</td>\n",
       "      <td>8/10/2016</td>\n",
       "      <td>13.3</td>\n",
       "      <td>3020.0</td>\n",
       "      <td>...</td>\n",
       "      <td>1.0</td>\n",
       "      <td>1.0</td>\n",
       "      <td>14.0</td>\n",
       "      <td>NaN</td>\n",
       "      <td>NaN</td>\n",
       "      <td>Brimbank</td>\n",
       "      <td>-37.7756</td>\n",
       "      <td>144.8345</td>\n",
       "      <td>Western Metropolitan</td>\n",
       "      <td>4217.0</td>\n",
       "    </tr>\n",
       "    <tr>\n",
       "      <th>7963</th>\n",
       "      <td>Hawthorn East</td>\n",
       "      <td>6/4 Wiseman St</td>\n",
       "      <td>1</td>\n",
       "      <td>u</td>\n",
       "      <td>400500.0</td>\n",
       "      <td>S</td>\n",
       "      <td>Bekdon</td>\n",
       "      <td>13/05/2017</td>\n",
       "      <td>7.5</td>\n",
       "      <td>3123.0</td>\n",
       "      <td>...</td>\n",
       "      <td>1.0</td>\n",
       "      <td>1.0</td>\n",
       "      <td>71.0</td>\n",
       "      <td>NaN</td>\n",
       "      <td>NaN</td>\n",
       "      <td>Boroondara</td>\n",
       "      <td>-37.8372</td>\n",
       "      <td>145.0433</td>\n",
       "      <td>Southern Metropolitan</td>\n",
       "      <td>6482.0</td>\n",
       "    </tr>\n",
       "    <tr>\n",
       "      <th>991</th>\n",
       "      <td>Box Hill</td>\n",
       "      <td>2/4 Collins St</td>\n",
       "      <td>3</td>\n",
       "      <td>u</td>\n",
       "      <td>775000.0</td>\n",
       "      <td>S</td>\n",
       "      <td>Fletchers</td>\n",
       "      <td>17/09/2016</td>\n",
       "      <td>13.1</td>\n",
       "      <td>3128.0</td>\n",
       "      <td>...</td>\n",
       "      <td>1.0</td>\n",
       "      <td>1.0</td>\n",
       "      <td>211.0</td>\n",
       "      <td>108.0</td>\n",
       "      <td>1980.0</td>\n",
       "      <td>Whitehorse</td>\n",
       "      <td>-37.8275</td>\n",
       "      <td>145.1232</td>\n",
       "      <td>Eastern Metropolitan</td>\n",
       "      <td>4605.0</td>\n",
       "    </tr>\n",
       "    <tr>\n",
       "      <th>4401</th>\n",
       "      <td>Northcote</td>\n",
       "      <td>16/116 Arthurton Rd</td>\n",
       "      <td>2</td>\n",
       "      <td>u</td>\n",
       "      <td>418000.0</td>\n",
       "      <td>SP</td>\n",
       "      <td>hockingstuart</td>\n",
       "      <td>7/05/2016</td>\n",
       "      <td>5.5</td>\n",
       "      <td>3070.0</td>\n",
       "      <td>...</td>\n",
       "      <td>1.0</td>\n",
       "      <td>1.0</td>\n",
       "      <td>1882.0</td>\n",
       "      <td>NaN</td>\n",
       "      <td>NaN</td>\n",
       "      <td>Darebin</td>\n",
       "      <td>-37.7680</td>\n",
       "      <td>144.9895</td>\n",
       "      <td>Northern Metropolitan</td>\n",
       "      <td>11364.0</td>\n",
       "    </tr>\n",
       "    <tr>\n",
       "      <th>7450</th>\n",
       "      <td>Altona North</td>\n",
       "      <td>269 Blackshaws Rd</td>\n",
       "      <td>3</td>\n",
       "      <td>h</td>\n",
       "      <td>916000.0</td>\n",
       "      <td>SP</td>\n",
       "      <td>Hunter</td>\n",
       "      <td>20/05/2017</td>\n",
       "      <td>11.1</td>\n",
       "      <td>3025.0</td>\n",
       "      <td>...</td>\n",
       "      <td>1.0</td>\n",
       "      <td>2.0</td>\n",
       "      <td>606.0</td>\n",
       "      <td>109.0</td>\n",
       "      <td>1970.0</td>\n",
       "      <td>Hobsons Bay</td>\n",
       "      <td>-37.8326</td>\n",
       "      <td>144.8594</td>\n",
       "      <td>Western Metropolitan</td>\n",
       "      <td>5132.0</td>\n",
       "    </tr>\n",
       "    <tr>\n",
       "      <th>3257</th>\n",
       "      <td>Heidelberg Heights</td>\n",
       "      <td>13 Altona St</td>\n",
       "      <td>4</td>\n",
       "      <td>h</td>\n",
       "      <td>856000.0</td>\n",
       "      <td>S</td>\n",
       "      <td>Miles</td>\n",
       "      <td>22/08/2016</td>\n",
       "      <td>10.5</td>\n",
       "      <td>3081.0</td>\n",
       "      <td>...</td>\n",
       "      <td>1.0</td>\n",
       "      <td>2.0</td>\n",
       "      <td>722.0</td>\n",
       "      <td>208.0</td>\n",
       "      <td>1975.0</td>\n",
       "      <td>Banyule</td>\n",
       "      <td>-37.7477</td>\n",
       "      <td>145.0565</td>\n",
       "      <td>Eastern Metropolitan</td>\n",
       "      <td>2947.0</td>\n",
       "    </tr>\n",
       "    <tr>\n",
       "      <th>1400</th>\n",
       "      <td>Brunswick West</td>\n",
       "      <td>64 Pearson St</td>\n",
       "      <td>3</td>\n",
       "      <td>h</td>\n",
       "      <td>955000.0</td>\n",
       "      <td>S</td>\n",
       "      <td>hockingstuart</td>\n",
       "      <td>7/05/2016</td>\n",
       "      <td>5.9</td>\n",
       "      <td>3055.0</td>\n",
       "      <td>...</td>\n",
       "      <td>1.0</td>\n",
       "      <td>0.0</td>\n",
       "      <td>220.0</td>\n",
       "      <td>93.0</td>\n",
       "      <td>1930.0</td>\n",
       "      <td>Moreland</td>\n",
       "      <td>-37.7659</td>\n",
       "      <td>144.9494</td>\n",
       "      <td>Northern Metropolitan</td>\n",
       "      <td>7082.0</td>\n",
       "    </tr>\n",
       "  </tbody>\n",
       "</table>\n",
       "<p>10 rows × 21 columns</p>\n",
       "</div>"
      ],
      "text/plain": [
       "                  Suburb              Address  Rooms Type     Price Method  \\\n",
       "5747           Spotswood        10 Raleigh St      3    h  855000.0      S   \n",
       "4195           Moorabbin      24a Franklin St      3    t  800000.0      S   \n",
       "6570             Windsor   6/213 Dandenong Rd      2    u  600000.0      S   \n",
       "6019      Sunshine North      2/86 Phoenix St      2    u  315000.0     PI   \n",
       "7963       Hawthorn East       6/4 Wiseman St      1    u  400500.0      S   \n",
       "991             Box Hill       2/4 Collins St      3    u  775000.0      S   \n",
       "4401           Northcote  16/116 Arthurton Rd      2    u  418000.0     SP   \n",
       "7450        Altona North    269 Blackshaws Rd      3    h  916000.0     SP   \n",
       "3257  Heidelberg Heights         13 Altona St      4    h  856000.0      S   \n",
       "1400      Brunswick West        64 Pearson St      3    h  955000.0      S   \n",
       "\n",
       "            SellerG        Date  Distance  Postcode  ...  Bathroom  Car  \\\n",
       "5747             RT   6/08/2016       7.7    3015.0  ...       1.0  1.0   \n",
       "4195         Buxton  28/08/2016      14.6    3189.0  ...       2.0  1.0   \n",
       "6570  hockingstuart   6/08/2016       5.1    3181.0  ...       1.0  1.0   \n",
       "6019        Douglas   8/10/2016      13.3    3020.0  ...       1.0  1.0   \n",
       "7963         Bekdon  13/05/2017       7.5    3123.0  ...       1.0  1.0   \n",
       "991       Fletchers  17/09/2016      13.1    3128.0  ...       1.0  1.0   \n",
       "4401  hockingstuart   7/05/2016       5.5    3070.0  ...       1.0  1.0   \n",
       "7450         Hunter  20/05/2017      11.1    3025.0  ...       1.0  2.0   \n",
       "3257          Miles  22/08/2016      10.5    3081.0  ...       1.0  2.0   \n",
       "1400  hockingstuart   7/05/2016       5.9    3055.0  ...       1.0  0.0   \n",
       "\n",
       "      Landsize  BuildingArea  YearBuilt  CouncilArea Lattitude  Longtitude  \\\n",
       "5747     326.0         112.0     1991.0  Hobsons Bay  -37.8310    144.8884   \n",
       "4195       0.0           NaN     1999.0     Kingston  -37.9374    145.0542   \n",
       "6570    1043.0           NaN        NaN  Stonnington  -37.8581    144.9972   \n",
       "6019      14.0           NaN        NaN     Brimbank  -37.7756    144.8345   \n",
       "7963      71.0           NaN        NaN   Boroondara  -37.8372    145.0433   \n",
       "991      211.0         108.0     1980.0   Whitehorse  -37.8275    145.1232   \n",
       "4401    1882.0           NaN        NaN      Darebin  -37.7680    144.9895   \n",
       "7450     606.0         109.0     1970.0  Hobsons Bay  -37.8326    144.8594   \n",
       "3257     722.0         208.0     1975.0      Banyule  -37.7477    145.0565   \n",
       "1400     220.0          93.0     1930.0     Moreland  -37.7659    144.9494   \n",
       "\n",
       "                 Regionname Propertycount  \n",
       "5747   Western Metropolitan        1223.0  \n",
       "4195  Southern Metropolitan        2555.0  \n",
       "6570  Southern Metropolitan        4380.0  \n",
       "6019   Western Metropolitan        4217.0  \n",
       "7963  Southern Metropolitan        6482.0  \n",
       "991    Eastern Metropolitan        4605.0  \n",
       "4401  Northern Metropolitan       11364.0  \n",
       "7450   Western Metropolitan        5132.0  \n",
       "3257   Eastern Metropolitan        2947.0  \n",
       "1400  Northern Metropolitan        7082.0  \n",
       "\n",
       "[10 rows x 21 columns]"
      ]
     },
     "execution_count": 4,
     "metadata": {},
     "output_type": "execute_result"
    }
   ],
   "source": [
    "mel_price.sample(10)"
   ]
  },
  {
   "cell_type": "code",
   "execution_count": 6,
   "id": "25fa96b4",
   "metadata": {
    "scrolled": true
   },
   "outputs": [],
   "source": [
    "# 필요한 데이터만 사용하기로 합니다.\n",
    "\n",
    "df = mel_price[['Regionname', 'Type', 'Rooms', 'Bathroom', 'Landsize', 'Price']]"
   ]
  },
  {
   "cell_type": "code",
   "execution_count": 7,
   "id": "d3385ae3",
   "metadata": {},
   "outputs": [
    {
     "data": {
      "text/html": [
       "<div>\n",
       "<style scoped>\n",
       "    .dataframe tbody tr th:only-of-type {\n",
       "        vertical-align: middle;\n",
       "    }\n",
       "\n",
       "    .dataframe tbody tr th {\n",
       "        vertical-align: top;\n",
       "    }\n",
       "\n",
       "    .dataframe thead th {\n",
       "        text-align: right;\n",
       "    }\n",
       "</style>\n",
       "<table border=\"1\" class=\"dataframe\">\n",
       "  <thead>\n",
       "    <tr style=\"text-align: right;\">\n",
       "      <th></th>\n",
       "      <th>Regionname</th>\n",
       "      <th>Type</th>\n",
       "      <th>Rooms</th>\n",
       "      <th>Bathroom</th>\n",
       "      <th>Landsize</th>\n",
       "      <th>Price</th>\n",
       "    </tr>\n",
       "  </thead>\n",
       "  <tbody>\n",
       "    <tr>\n",
       "      <th>0</th>\n",
       "      <td>Northern Metropolitan</td>\n",
       "      <td>h</td>\n",
       "      <td>2</td>\n",
       "      <td>1.0</td>\n",
       "      <td>202.0</td>\n",
       "      <td>1480000.0</td>\n",
       "    </tr>\n",
       "    <tr>\n",
       "      <th>1</th>\n",
       "      <td>Northern Metropolitan</td>\n",
       "      <td>h</td>\n",
       "      <td>2</td>\n",
       "      <td>1.0</td>\n",
       "      <td>156.0</td>\n",
       "      <td>1035000.0</td>\n",
       "    </tr>\n",
       "    <tr>\n",
       "      <th>2</th>\n",
       "      <td>Northern Metropolitan</td>\n",
       "      <td>h</td>\n",
       "      <td>3</td>\n",
       "      <td>2.0</td>\n",
       "      <td>134.0</td>\n",
       "      <td>1465000.0</td>\n",
       "    </tr>\n",
       "    <tr>\n",
       "      <th>3</th>\n",
       "      <td>Northern Metropolitan</td>\n",
       "      <td>h</td>\n",
       "      <td>3</td>\n",
       "      <td>2.0</td>\n",
       "      <td>94.0</td>\n",
       "      <td>850000.0</td>\n",
       "    </tr>\n",
       "    <tr>\n",
       "      <th>4</th>\n",
       "      <td>Northern Metropolitan</td>\n",
       "      <td>h</td>\n",
       "      <td>4</td>\n",
       "      <td>1.0</td>\n",
       "      <td>120.0</td>\n",
       "      <td>1600000.0</td>\n",
       "    </tr>\n",
       "  </tbody>\n",
       "</table>\n",
       "</div>"
      ],
      "text/plain": [
       "              Regionname Type  Rooms  Bathroom  Landsize      Price\n",
       "0  Northern Metropolitan    h      2       1.0     202.0  1480000.0\n",
       "1  Northern Metropolitan    h      2       1.0     156.0  1035000.0\n",
       "2  Northern Metropolitan    h      3       2.0     134.0  1465000.0\n",
       "3  Northern Metropolitan    h      3       2.0      94.0   850000.0\n",
       "4  Northern Metropolitan    h      4       1.0     120.0  1600000.0"
      ]
     },
     "execution_count": 7,
     "metadata": {},
     "output_type": "execute_result"
    }
   ],
   "source": [
    "df.head()"
   ]
  },
  {
   "cell_type": "code",
   "execution_count": 8,
   "id": "b5e80de3",
   "metadata": {},
   "outputs": [
    {
     "data": {
      "text/plain": [
       "Regionname       8\n",
       "Type             3\n",
       "Rooms            9\n",
       "Bathroom         9\n",
       "Landsize      1448\n",
       "Price         2204\n",
       "dtype: int64"
      ]
     },
     "execution_count": 8,
     "metadata": {},
     "output_type": "execute_result"
    }
   ],
   "source": [
    "df.nunique()"
   ]
  },
  {
   "cell_type": "markdown",
   "id": "c2e52c8c",
   "metadata": {},
   "source": [
    "# 지역에 따른 집값 차이가 유의미한가?"
   ]
  },
  {
   "cell_type": "code",
   "execution_count": 9,
   "id": "6fbcc77d",
   "metadata": {},
   "outputs": [
    {
     "data": {
      "text/plain": [
       "array(['Northern Metropolitan', 'Western Metropolitan',\n",
       "       'Southern Metropolitan', 'Eastern Metropolitan',\n",
       "       'South-Eastern Metropolitan', 'Eastern Victoria',\n",
       "       'Northern Victoria', 'Western Victoria'], dtype=object)"
      ]
     },
     "execution_count": 9,
     "metadata": {},
     "output_type": "execute_result"
    }
   ],
   "source": [
    "df['Regionname'].unique()"
   ]
  },
  {
   "cell_type": "code",
   "execution_count": 12,
   "id": "2f75426b",
   "metadata": {
    "scrolled": true
   },
   "outputs": [
    {
     "name": "stderr",
     "output_type": "stream",
     "text": [
      "/var/folders/qw/j72d9nwn5dq0vxtqtw2bbtnh0000gp/T/ipykernel_17921/1653118217.py:1: SettingWithCopyWarning: \n",
      "A value is trying to be set on a copy of a slice from a DataFrame.\n",
      "Try using .loc[row_indexer,col_indexer] = value instead\n",
      "\n",
      "See the caveats in the documentation: https://pandas.pydata.org/pandas-docs/stable/user_guide/indexing.html#returning-a-view-versus-a-copy\n",
      "  df[['Direction', 'Region']] = df['Regionname'].str.split(' ', n = 2, expand=True)\n",
      "/var/folders/qw/j72d9nwn5dq0vxtqtw2bbtnh0000gp/T/ipykernel_17921/1653118217.py:1: SettingWithCopyWarning: \n",
      "A value is trying to be set on a copy of a slice from a DataFrame.\n",
      "Try using .loc[row_indexer,col_indexer] = value instead\n",
      "\n",
      "See the caveats in the documentation: https://pandas.pydata.org/pandas-docs/stable/user_guide/indexing.html#returning-a-view-versus-a-copy\n",
      "  df[['Direction', 'Region']] = df['Regionname'].str.split(' ', n = 2, expand=True)\n"
     ]
    },
    {
     "data": {
      "text/html": [
       "<div>\n",
       "<style scoped>\n",
       "    .dataframe tbody tr th:only-of-type {\n",
       "        vertical-align: middle;\n",
       "    }\n",
       "\n",
       "    .dataframe tbody tr th {\n",
       "        vertical-align: top;\n",
       "    }\n",
       "\n",
       "    .dataframe thead th {\n",
       "        text-align: right;\n",
       "    }\n",
       "</style>\n",
       "<table border=\"1\" class=\"dataframe\">\n",
       "  <thead>\n",
       "    <tr style=\"text-align: right;\">\n",
       "      <th></th>\n",
       "      <th>Regionname</th>\n",
       "      <th>Type</th>\n",
       "      <th>Rooms</th>\n",
       "      <th>Bathroom</th>\n",
       "      <th>Landsize</th>\n",
       "      <th>Price</th>\n",
       "      <th>Direction</th>\n",
       "      <th>Region</th>\n",
       "    </tr>\n",
       "  </thead>\n",
       "  <tbody>\n",
       "    <tr>\n",
       "      <th>0</th>\n",
       "      <td>Northern Metropolitan</td>\n",
       "      <td>h</td>\n",
       "      <td>2</td>\n",
       "      <td>1.0</td>\n",
       "      <td>202.0</td>\n",
       "      <td>1480000.0</td>\n",
       "      <td>Northern</td>\n",
       "      <td>Metropolitan</td>\n",
       "    </tr>\n",
       "    <tr>\n",
       "      <th>1</th>\n",
       "      <td>Northern Metropolitan</td>\n",
       "      <td>h</td>\n",
       "      <td>2</td>\n",
       "      <td>1.0</td>\n",
       "      <td>156.0</td>\n",
       "      <td>1035000.0</td>\n",
       "      <td>Northern</td>\n",
       "      <td>Metropolitan</td>\n",
       "    </tr>\n",
       "    <tr>\n",
       "      <th>2</th>\n",
       "      <td>Northern Metropolitan</td>\n",
       "      <td>h</td>\n",
       "      <td>3</td>\n",
       "      <td>2.0</td>\n",
       "      <td>134.0</td>\n",
       "      <td>1465000.0</td>\n",
       "      <td>Northern</td>\n",
       "      <td>Metropolitan</td>\n",
       "    </tr>\n",
       "    <tr>\n",
       "      <th>3</th>\n",
       "      <td>Northern Metropolitan</td>\n",
       "      <td>h</td>\n",
       "      <td>3</td>\n",
       "      <td>2.0</td>\n",
       "      <td>94.0</td>\n",
       "      <td>850000.0</td>\n",
       "      <td>Northern</td>\n",
       "      <td>Metropolitan</td>\n",
       "    </tr>\n",
       "    <tr>\n",
       "      <th>4</th>\n",
       "      <td>Northern Metropolitan</td>\n",
       "      <td>h</td>\n",
       "      <td>4</td>\n",
       "      <td>1.0</td>\n",
       "      <td>120.0</td>\n",
       "      <td>1600000.0</td>\n",
       "      <td>Northern</td>\n",
       "      <td>Metropolitan</td>\n",
       "    </tr>\n",
       "  </tbody>\n",
       "</table>\n",
       "</div>"
      ],
      "text/plain": [
       "              Regionname Type  Rooms  Bathroom  Landsize      Price Direction  \\\n",
       "0  Northern Metropolitan    h      2       1.0     202.0  1480000.0  Northern   \n",
       "1  Northern Metropolitan    h      2       1.0     156.0  1035000.0  Northern   \n",
       "2  Northern Metropolitan    h      3       2.0     134.0  1465000.0  Northern   \n",
       "3  Northern Metropolitan    h      3       2.0      94.0   850000.0  Northern   \n",
       "4  Northern Metropolitan    h      4       1.0     120.0  1600000.0  Northern   \n",
       "\n",
       "         Region  \n",
       "0  Metropolitan  \n",
       "1  Metropolitan  \n",
       "2  Metropolitan  \n",
       "3  Metropolitan  \n",
       "4  Metropolitan  "
      ]
     },
     "execution_count": 12,
     "metadata": {},
     "output_type": "execute_result"
    }
   ],
   "source": [
    "# Metropolitan 과 Victoria 로 나누어본다.\n",
    "\n",
    "df[['Direction', 'Region']] = df['Regionname'].str.split(' ', n = 2, expand=True)\n",
    "df.head()"
   ]
  },
  {
   "cell_type": "code",
   "execution_count": 13,
   "id": "d7cbb875",
   "metadata": {},
   "outputs": [
    {
     "data": {
      "text/plain": [
       "Metropolitan    13454\n",
       "Victoria          126\n",
       "Name: Region, dtype: int64"
      ]
     },
     "execution_count": 13,
     "metadata": {},
     "output_type": "execute_result"
    }
   ],
   "source": [
    "df['Region'].value_counts()"
   ]
  },
  {
   "cell_type": "code",
   "execution_count": 14,
   "id": "305b123f",
   "metadata": {},
   "outputs": [
    {
     "data": {
      "text/plain": [
       "1080242.4607551657"
      ]
     },
     "execution_count": 14,
     "metadata": {},
     "output_type": "execute_result"
    }
   ],
   "source": [
    "df[df['Region'] == 'Metropolitan']['Price'].mean()"
   ]
  },
  {
   "cell_type": "code",
   "execution_count": 15,
   "id": "c1ce92a7",
   "metadata": {},
   "outputs": [
    {
     "data": {
      "text/plain": [
       "588950.253968254"
      ]
     },
     "execution_count": 15,
     "metadata": {},
     "output_type": "execute_result"
    }
   ],
   "source": [
    "df[df['Region'] == 'Victoria']['Price'].mean()"
   ]
  },
  {
   "cell_type": "markdown",
   "id": "1e54847a",
   "metadata": {},
   "source": [
    "차이가 꽤 존재한다. 거의 두 배 차이나는데 데이터 분석가로서, 다른 요인들을 먼저 분석해보려 한다."
   ]
  },
  {
   "cell_type": "code",
   "execution_count": 16,
   "id": "871490fc",
   "metadata": {},
   "outputs": [
    {
     "data": {
      "text/plain": [
       "array(['h', 'u', 't'], dtype=object)"
      ]
     },
     "execution_count": 16,
     "metadata": {},
     "output_type": "execute_result"
    }
   ],
   "source": [
    "df['Type'].unique()"
   ]
  },
  {
   "cell_type": "code",
   "execution_count": 20,
   "id": "8ddf00e2",
   "metadata": {},
   "outputs": [
    {
     "data": {
      "text/plain": [
       "h    9449\n",
       "u    3017\n",
       "t    1114\n",
       "Name: Type, dtype: int64"
      ]
     },
     "execution_count": 20,
     "metadata": {},
     "output_type": "execute_result"
    }
   ],
   "source": [
    "df['Type'].value_counts()"
   ]
  },
  {
   "cell_type": "code",
   "execution_count": 21,
   "id": "4261e0eb",
   "metadata": {},
   "outputs": [
    {
     "data": {
      "text/plain": [
       "1242664.761138745"
      ]
     },
     "execution_count": 21,
     "metadata": {},
     "output_type": "execute_result"
    }
   ],
   "source": [
    "df[df['Type'] == 'h']['Price'].mean()"
   ]
  },
  {
   "cell_type": "code",
   "execution_count": 22,
   "id": "7715c015",
   "metadata": {},
   "outputs": [
    {
     "data": {
      "text/plain": [
       "605127.4845873384"
      ]
     },
     "execution_count": 22,
     "metadata": {},
     "output_type": "execute_result"
    }
   ],
   "source": [
    "df[df['Type'] == 'u']['Price'].mean()"
   ]
  },
  {
   "cell_type": "code",
   "execution_count": 23,
   "id": "d79079e5",
   "metadata": {},
   "outputs": [
    {
     "data": {
      "text/plain": [
       "933735.0538599641"
      ]
     },
     "execution_count": 23,
     "metadata": {},
     "output_type": "execute_result"
    }
   ],
   "source": [
    "df[df['Type'] == 't']['Price'].mean()"
   ]
  },
  {
   "cell_type": "markdown",
   "id": "daecb268",
   "metadata": {},
   "source": [
    "Metropolitan  집값이 훨씬 비싸고, 하우스 타입이 h가 비싼 편인 것으로 나타났다. \n",
    "\n",
    "Metropolitan 에 h 유형이 많은가?"
   ]
  },
  {
   "cell_type": "code",
   "execution_count": 27,
   "id": "a3c3ee82",
   "metadata": {},
   "outputs": [],
   "source": [
    "df_h = df[df['Type'] =='h'][['Region', 'Price']]"
   ]
  },
  {
   "cell_type": "code",
   "execution_count": 30,
   "id": "11d7be78",
   "metadata": {},
   "outputs": [
    {
     "data": {
      "text/plain": [
       "Metropolitan    9326\n",
       "Victoria         123\n",
       "Name: Region, dtype: int64"
      ]
     },
     "execution_count": 30,
     "metadata": {},
     "output_type": "execute_result"
    }
   ],
   "source": [
    "df_h['Region'].value_counts()"
   ]
  },
  {
   "cell_type": "markdown",
   "id": "5b80240f",
   "metadata": {},
   "source": [
    "재미있는건 h타입에 Victoria 지역의 집이 많다.  \n",
    "\n",
    "126개 중 123개가 있다고? 그렇다면 각각의 평균 가격은?"
   ]
  },
  {
   "cell_type": "code",
   "execution_count": 33,
   "id": "708c15f3",
   "metadata": {},
   "outputs": [
    {
     "data": {
      "text/html": [
       "<div>\n",
       "<style scoped>\n",
       "    .dataframe tbody tr th:only-of-type {\n",
       "        vertical-align: middle;\n",
       "    }\n",
       "\n",
       "    .dataframe tbody tr th {\n",
       "        vertical-align: top;\n",
       "    }\n",
       "\n",
       "    .dataframe thead th {\n",
       "        text-align: right;\n",
       "    }\n",
       "</style>\n",
       "<table border=\"1\" class=\"dataframe\">\n",
       "  <thead>\n",
       "    <tr style=\"text-align: right;\">\n",
       "      <th>Type</th>\n",
       "      <th>h</th>\n",
       "      <th>t</th>\n",
       "      <th>u</th>\n",
       "    </tr>\n",
       "    <tr>\n",
       "      <th>Region</th>\n",
       "      <th></th>\n",
       "      <th></th>\n",
       "      <th></th>\n",
       "    </tr>\n",
       "  </thead>\n",
       "  <tbody>\n",
       "    <tr>\n",
       "      <th>Metropolitan</th>\n",
       "      <td>1.251246e+06</td>\n",
       "      <td>933735.05386</td>\n",
       "      <td>605270.610816</td>\n",
       "    </tr>\n",
       "    <tr>\n",
       "      <th>Victoria</th>\n",
       "      <td>5.920629e+05</td>\n",
       "      <td>NaN</td>\n",
       "      <td>461333.333333</td>\n",
       "    </tr>\n",
       "  </tbody>\n",
       "</table>\n",
       "</div>"
      ],
      "text/plain": [
       "Type                     h             t              u\n",
       "Region                                                 \n",
       "Metropolitan  1.251246e+06  933735.05386  605270.610816\n",
       "Victoria      5.920629e+05           NaN  461333.333333"
      ]
     },
     "execution_count": 33,
     "metadata": {},
     "output_type": "execute_result"
    }
   ],
   "source": [
    "pd.crosstab(index = df['Region'], columns = df['Type'], values = df['Price'], aggfunc = 'mean' )"
   ]
  },
  {
   "cell_type": "code",
   "execution_count": 34,
   "id": "27300d16",
   "metadata": {},
   "outputs": [
    {
     "data": {
      "text/html": [
       "<div>\n",
       "<style scoped>\n",
       "    .dataframe tbody tr th:only-of-type {\n",
       "        vertical-align: middle;\n",
       "    }\n",
       "\n",
       "    .dataframe tbody tr th {\n",
       "        vertical-align: top;\n",
       "    }\n",
       "\n",
       "    .dataframe thead th {\n",
       "        text-align: right;\n",
       "    }\n",
       "</style>\n",
       "<table border=\"1\" class=\"dataframe\">\n",
       "  <thead>\n",
       "    <tr style=\"text-align: right;\">\n",
       "      <th>Type</th>\n",
       "      <th>h</th>\n",
       "      <th>t</th>\n",
       "      <th>u</th>\n",
       "    </tr>\n",
       "    <tr>\n",
       "      <th>Region</th>\n",
       "      <th></th>\n",
       "      <th></th>\n",
       "      <th></th>\n",
       "    </tr>\n",
       "  </thead>\n",
       "  <tbody>\n",
       "    <tr>\n",
       "      <th>Metropolitan</th>\n",
       "      <td>1251245.51</td>\n",
       "      <td>933735.05</td>\n",
       "      <td>605270.61</td>\n",
       "    </tr>\n",
       "    <tr>\n",
       "      <th>Victoria</th>\n",
       "      <td>592062.86</td>\n",
       "      <td>NaN</td>\n",
       "      <td>461333.33</td>\n",
       "    </tr>\n",
       "  </tbody>\n",
       "</table>\n",
       "</div>"
      ],
      "text/plain": [
       "Type                  h         t         u\n",
       "Region                                     \n",
       "Metropolitan 1251245.51 933735.05 605270.61\n",
       "Victoria      592062.86       NaN 461333.33"
      ]
     },
     "execution_count": 34,
     "metadata": {},
     "output_type": "execute_result"
    }
   ],
   "source": [
    "pd.options.display.float_format = '{:.2f}'.format\n",
    "pd.crosstab(index = df['Region'], columns = df['Type'], values = df['Price'], aggfunc = 'mean' )"
   ]
  },
  {
   "cell_type": "code",
   "execution_count": null,
   "id": "73c11f46",
   "metadata": {},
   "outputs": [],
   "source": []
  }
 ],
 "metadata": {
  "kernelspec": {
   "display_name": "Python 3 (ipykernel)",
   "language": "python",
   "name": "python3"
  },
  "language_info": {
   "codemirror_mode": {
    "name": "ipython",
    "version": 3
   },
   "file_extension": ".py",
   "mimetype": "text/x-python",
   "name": "python",
   "nbconvert_exporter": "python",
   "pygments_lexer": "ipython3",
   "version": "3.8.5"
  },
  "toc": {
   "base_numbering": 1,
   "nav_menu": {},
   "number_sections": true,
   "sideBar": true,
   "skip_h1_title": false,
   "title_cell": "Table of Contents",
   "title_sidebar": "Contents",
   "toc_cell": false,
   "toc_position": {},
   "toc_section_display": true,
   "toc_window_display": false
  }
 },
 "nbformat": 4,
 "nbformat_minor": 5
}

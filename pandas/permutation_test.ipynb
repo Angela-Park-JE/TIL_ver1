{
 "cells": [
  {
   "cell_type": "markdown",
   "id": "e20dc04c",
   "metadata": {},
   "source": [
    "# 통계적 검정 실습파일\n",
    "\n",
    "# 순열검정 (Permutation_test)\n",
    "\n",
    "재표본추출을 직접 해보고싶어서 만든 페이지입니다.\n",
    "\n",
    "가진 데이터를 활용하여(이 통계 교재 실습을 위해 만들어진 데이터가 아닌) 귀무가설을 기각하는 경우를 보고싶었습니다.\n",
    "\n",
    "이전에 AI 공부를 할 때 함께했던 멜버른 집값 데이터를 데려옵니다."
   ]
  },
  {
   "cell_type": "markdown",
   "id": "05ee4786",
   "metadata": {},
   "source": [
    "## Data, library import"
   ]
  },
  {
   "cell_type": "code",
   "execution_count": 1,
   "id": "1dff19b1",
   "metadata": {},
   "outputs": [],
   "source": [
    "# 라이브러리 불러오기\n",
    "\n",
    "%matplotlib inline\n",
    "\n",
    "from pathlib import Path\n",
    "import random\n",
    "\n",
    "import pandas as pd\n",
    "import numpy as np\n",
    "from scipy.stats import trim_mean\n",
    "from scipy import stats\n",
    "from sklearn.utils import resample\n",
    "import statsmodels.api as sm\n",
    "import statsmodels.formula.api as smf\n",
    "from statsmodels.stats import power\n",
    "\n",
    "import seaborn as sns\n",
    "import matplotlib.pylab as plt\n",
    "\n",
    "import warnings"
   ]
  },
  {
   "cell_type": "code",
   "execution_count": 2,
   "id": "8bd76a7e",
   "metadata": {},
   "outputs": [],
   "source": [
    "mel_price = pd.read_csv('/Users/Angela/Desktop/Personal/AI_data/melb_data.csv')"
   ]
  },
  {
   "cell_type": "markdown",
   "id": "11f219d2",
   "metadata": {},
   "source": [
    "## data info"
   ]
  },
  {
   "cell_type": "code",
   "execution_count": 3,
   "id": "f70105b7",
   "metadata": {},
   "outputs": [
    {
     "data": {
      "text/plain": [
       "Suburb             314\n",
       "Address          13378\n",
       "Rooms                9\n",
       "Type                 3\n",
       "Price             2204\n",
       "Method               5\n",
       "SellerG            268\n",
       "Date                58\n",
       "Distance           202\n",
       "Postcode           198\n",
       "Bedroom2            12\n",
       "Bathroom             9\n",
       "Car                 11\n",
       "Landsize          1448\n",
       "BuildingArea       602\n",
       "YearBuilt          144\n",
       "CouncilArea         33\n",
       "Lattitude         6503\n",
       "Longtitude        7063\n",
       "Regionname           8\n",
       "Propertycount      311\n",
       "dtype: int64"
      ]
     },
     "execution_count": 3,
     "metadata": {},
     "output_type": "execute_result"
    }
   ],
   "source": [
    "mel_price.nunique()"
   ]
  },
  {
   "cell_type": "code",
   "execution_count": 4,
   "id": "30e7d7b3",
   "metadata": {
    "scrolled": true
   },
   "outputs": [
    {
     "data": {
      "text/html": [
       "<div>\n",
       "<style scoped>\n",
       "    .dataframe tbody tr th:only-of-type {\n",
       "        vertical-align: middle;\n",
       "    }\n",
       "\n",
       "    .dataframe tbody tr th {\n",
       "        vertical-align: top;\n",
       "    }\n",
       "\n",
       "    .dataframe thead th {\n",
       "        text-align: right;\n",
       "    }\n",
       "</style>\n",
       "<table border=\"1\" class=\"dataframe\">\n",
       "  <thead>\n",
       "    <tr style=\"text-align: right;\">\n",
       "      <th></th>\n",
       "      <th>Suburb</th>\n",
       "      <th>Address</th>\n",
       "      <th>Rooms</th>\n",
       "      <th>Type</th>\n",
       "      <th>Price</th>\n",
       "      <th>Method</th>\n",
       "      <th>SellerG</th>\n",
       "      <th>Date</th>\n",
       "      <th>Distance</th>\n",
       "      <th>Postcode</th>\n",
       "      <th>...</th>\n",
       "      <th>Bathroom</th>\n",
       "      <th>Car</th>\n",
       "      <th>Landsize</th>\n",
       "      <th>BuildingArea</th>\n",
       "      <th>YearBuilt</th>\n",
       "      <th>CouncilArea</th>\n",
       "      <th>Lattitude</th>\n",
       "      <th>Longtitude</th>\n",
       "      <th>Regionname</th>\n",
       "      <th>Propertycount</th>\n",
       "    </tr>\n",
       "  </thead>\n",
       "  <tbody>\n",
       "    <tr>\n",
       "      <th>2711</th>\n",
       "      <td>Footscray</td>\n",
       "      <td>4/2 Saltriver Pl</td>\n",
       "      <td>3</td>\n",
       "      <td>u</td>\n",
       "      <td>665000.0</td>\n",
       "      <td>S</td>\n",
       "      <td>Greg</td>\n",
       "      <td>18/06/2016</td>\n",
       "      <td>6.4</td>\n",
       "      <td>3011.0</td>\n",
       "      <td>...</td>\n",
       "      <td>2.0</td>\n",
       "      <td>1.0</td>\n",
       "      <td>0.0</td>\n",
       "      <td>NaN</td>\n",
       "      <td>NaN</td>\n",
       "      <td>Maribyrnong</td>\n",
       "      <td>-37.80160</td>\n",
       "      <td>144.90820</td>\n",
       "      <td>Western Metropolitan</td>\n",
       "      <td>7570.0</td>\n",
       "    </tr>\n",
       "    <tr>\n",
       "      <th>1967</th>\n",
       "      <td>Coburg</td>\n",
       "      <td>3 Phillips St</td>\n",
       "      <td>3</td>\n",
       "      <td>h</td>\n",
       "      <td>1030000.0</td>\n",
       "      <td>S</td>\n",
       "      <td>Considine</td>\n",
       "      <td>17/09/2016</td>\n",
       "      <td>7.8</td>\n",
       "      <td>3058.0</td>\n",
       "      <td>...</td>\n",
       "      <td>1.0</td>\n",
       "      <td>1.0</td>\n",
       "      <td>404.0</td>\n",
       "      <td>NaN</td>\n",
       "      <td>NaN</td>\n",
       "      <td>Moreland</td>\n",
       "      <td>-37.75040</td>\n",
       "      <td>144.95370</td>\n",
       "      <td>Northern Metropolitan</td>\n",
       "      <td>11204.0</td>\n",
       "    </tr>\n",
       "    <tr>\n",
       "      <th>10624</th>\n",
       "      <td>Coburg</td>\n",
       "      <td>251 Bell St</td>\n",
       "      <td>2</td>\n",
       "      <td>h</td>\n",
       "      <td>760000.0</td>\n",
       "      <td>S</td>\n",
       "      <td>Nelson</td>\n",
       "      <td>8/07/2017</td>\n",
       "      <td>6.7</td>\n",
       "      <td>3058.0</td>\n",
       "      <td>...</td>\n",
       "      <td>1.0</td>\n",
       "      <td>2.0</td>\n",
       "      <td>378.0</td>\n",
       "      <td>105.0</td>\n",
       "      <td>1920.0</td>\n",
       "      <td>Moreland</td>\n",
       "      <td>-37.74011</td>\n",
       "      <td>144.95267</td>\n",
       "      <td>Northern Metropolitan</td>\n",
       "      <td>11204.0</td>\n",
       "    </tr>\n",
       "    <tr>\n",
       "      <th>11285</th>\n",
       "      <td>Blackburn</td>\n",
       "      <td>17 Hirst St</td>\n",
       "      <td>3</td>\n",
       "      <td>h</td>\n",
       "      <td>1070000.0</td>\n",
       "      <td>S</td>\n",
       "      <td>Jellis</td>\n",
       "      <td>15/07/2017</td>\n",
       "      <td>13.4</td>\n",
       "      <td>3130.0</td>\n",
       "      <td>...</td>\n",
       "      <td>1.0</td>\n",
       "      <td>2.0</td>\n",
       "      <td>448.0</td>\n",
       "      <td>96.0</td>\n",
       "      <td>1950.0</td>\n",
       "      <td>Whitehorse</td>\n",
       "      <td>-37.82956</td>\n",
       "      <td>145.13868</td>\n",
       "      <td>Eastern Metropolitan</td>\n",
       "      <td>5713.0</td>\n",
       "    </tr>\n",
       "    <tr>\n",
       "      <th>6786</th>\n",
       "      <td>Brunswick East</td>\n",
       "      <td>3/37 Brunswick Rd</td>\n",
       "      <td>2</td>\n",
       "      <td>u</td>\n",
       "      <td>665000.0</td>\n",
       "      <td>S</td>\n",
       "      <td>Collins</td>\n",
       "      <td>16/07/2016</td>\n",
       "      <td>4.5</td>\n",
       "      <td>3057.0</td>\n",
       "      <td>...</td>\n",
       "      <td>1.0</td>\n",
       "      <td>1.0</td>\n",
       "      <td>0.0</td>\n",
       "      <td>96.0</td>\n",
       "      <td>1940.0</td>\n",
       "      <td>Moreland</td>\n",
       "      <td>-37.77860</td>\n",
       "      <td>144.97530</td>\n",
       "      <td>Northern Metropolitan</td>\n",
       "      <td>5533.0</td>\n",
       "    </tr>\n",
       "    <tr>\n",
       "      <th>8565</th>\n",
       "      <td>Albion</td>\n",
       "      <td>2/62 Selwyn St</td>\n",
       "      <td>3</td>\n",
       "      <td>u</td>\n",
       "      <td>600000.0</td>\n",
       "      <td>SA</td>\n",
       "      <td>Douglas</td>\n",
       "      <td>20/05/2017</td>\n",
       "      <td>13.9</td>\n",
       "      <td>3020.0</td>\n",
       "      <td>...</td>\n",
       "      <td>1.0</td>\n",
       "      <td>1.0</td>\n",
       "      <td>181.0</td>\n",
       "      <td>129.0</td>\n",
       "      <td>2000.0</td>\n",
       "      <td>Brimbank</td>\n",
       "      <td>-37.78150</td>\n",
       "      <td>144.81280</td>\n",
       "      <td>Western Metropolitan</td>\n",
       "      <td>2185.0</td>\n",
       "    </tr>\n",
       "    <tr>\n",
       "      <th>4636</th>\n",
       "      <td>Pascoe Vale</td>\n",
       "      <td>1/5 Farringdon St</td>\n",
       "      <td>3</td>\n",
       "      <td>t</td>\n",
       "      <td>790000.0</td>\n",
       "      <td>S</td>\n",
       "      <td>Brad</td>\n",
       "      <td>12/11/2016</td>\n",
       "      <td>9.9</td>\n",
       "      <td>3044.0</td>\n",
       "      <td>...</td>\n",
       "      <td>3.0</td>\n",
       "      <td>1.0</td>\n",
       "      <td>291.0</td>\n",
       "      <td>175.0</td>\n",
       "      <td>2009.0</td>\n",
       "      <td>Moreland</td>\n",
       "      <td>-37.72710</td>\n",
       "      <td>144.92610</td>\n",
       "      <td>Northern Metropolitan</td>\n",
       "      <td>7485.0</td>\n",
       "    </tr>\n",
       "    <tr>\n",
       "      <th>5703</th>\n",
       "      <td>South Yarra</td>\n",
       "      <td>366 Toorak Rd</td>\n",
       "      <td>3</td>\n",
       "      <td>h</td>\n",
       "      <td>1700000.0</td>\n",
       "      <td>S</td>\n",
       "      <td>Morrison</td>\n",
       "      <td>27/11/2016</td>\n",
       "      <td>3.3</td>\n",
       "      <td>3141.0</td>\n",
       "      <td>...</td>\n",
       "      <td>1.0</td>\n",
       "      <td>1.0</td>\n",
       "      <td>178.0</td>\n",
       "      <td>172.0</td>\n",
       "      <td>1894.0</td>\n",
       "      <td>Stonnington</td>\n",
       "      <td>-37.84040</td>\n",
       "      <td>145.00220</td>\n",
       "      <td>Southern Metropolitan</td>\n",
       "      <td>14887.0</td>\n",
       "    </tr>\n",
       "    <tr>\n",
       "      <th>11984</th>\n",
       "      <td>Elwood</td>\n",
       "      <td>1/121 Brighton Rd</td>\n",
       "      <td>2</td>\n",
       "      <td>u</td>\n",
       "      <td>720000.0</td>\n",
       "      <td>S</td>\n",
       "      <td>Chisholm</td>\n",
       "      <td>29/07/2017</td>\n",
       "      <td>7.2</td>\n",
       "      <td>3184.0</td>\n",
       "      <td>...</td>\n",
       "      <td>1.0</td>\n",
       "      <td>2.0</td>\n",
       "      <td>797.0</td>\n",
       "      <td>90.0</td>\n",
       "      <td>1920.0</td>\n",
       "      <td>Port Phillip</td>\n",
       "      <td>-37.87449</td>\n",
       "      <td>144.99059</td>\n",
       "      <td>Southern Metropolitan</td>\n",
       "      <td>8989.0</td>\n",
       "    </tr>\n",
       "    <tr>\n",
       "      <th>10382</th>\n",
       "      <td>Maidstone</td>\n",
       "      <td>1 Gilda St</td>\n",
       "      <td>3</td>\n",
       "      <td>h</td>\n",
       "      <td>793000.0</td>\n",
       "      <td>S</td>\n",
       "      <td>hockingstuart</td>\n",
       "      <td>27/05/2017</td>\n",
       "      <td>6.4</td>\n",
       "      <td>3012.0</td>\n",
       "      <td>...</td>\n",
       "      <td>1.0</td>\n",
       "      <td>2.0</td>\n",
       "      <td>417.0</td>\n",
       "      <td>NaN</td>\n",
       "      <td>NaN</td>\n",
       "      <td>Maribyrnong</td>\n",
       "      <td>-37.78867</td>\n",
       "      <td>144.87397</td>\n",
       "      <td>Western Metropolitan</td>\n",
       "      <td>3873.0</td>\n",
       "    </tr>\n",
       "  </tbody>\n",
       "</table>\n",
       "<p>10 rows × 21 columns</p>\n",
       "</div>"
      ],
      "text/plain": [
       "               Suburb            Address  Rooms Type      Price Method  \\\n",
       "2711        Footscray   4/2 Saltriver Pl      3    u   665000.0      S   \n",
       "1967           Coburg      3 Phillips St      3    h  1030000.0      S   \n",
       "10624          Coburg        251 Bell St      2    h   760000.0      S   \n",
       "11285       Blackburn        17 Hirst St      3    h  1070000.0      S   \n",
       "6786   Brunswick East  3/37 Brunswick Rd      2    u   665000.0      S   \n",
       "8565           Albion     2/62 Selwyn St      3    u   600000.0     SA   \n",
       "4636      Pascoe Vale  1/5 Farringdon St      3    t   790000.0      S   \n",
       "5703      South Yarra      366 Toorak Rd      3    h  1700000.0      S   \n",
       "11984          Elwood  1/121 Brighton Rd      2    u   720000.0      S   \n",
       "10382       Maidstone         1 Gilda St      3    h   793000.0      S   \n",
       "\n",
       "             SellerG        Date  Distance  Postcode  ...  Bathroom  Car  \\\n",
       "2711            Greg  18/06/2016       6.4    3011.0  ...       2.0  1.0   \n",
       "1967       Considine  17/09/2016       7.8    3058.0  ...       1.0  1.0   \n",
       "10624         Nelson   8/07/2017       6.7    3058.0  ...       1.0  2.0   \n",
       "11285         Jellis  15/07/2017      13.4    3130.0  ...       1.0  2.0   \n",
       "6786         Collins  16/07/2016       4.5    3057.0  ...       1.0  1.0   \n",
       "8565         Douglas  20/05/2017      13.9    3020.0  ...       1.0  1.0   \n",
       "4636            Brad  12/11/2016       9.9    3044.0  ...       3.0  1.0   \n",
       "5703        Morrison  27/11/2016       3.3    3141.0  ...       1.0  1.0   \n",
       "11984       Chisholm  29/07/2017       7.2    3184.0  ...       1.0  2.0   \n",
       "10382  hockingstuart  27/05/2017       6.4    3012.0  ...       1.0  2.0   \n",
       "\n",
       "       Landsize  BuildingArea  YearBuilt   CouncilArea Lattitude  Longtitude  \\\n",
       "2711        0.0           NaN        NaN   Maribyrnong -37.80160   144.90820   \n",
       "1967      404.0           NaN        NaN      Moreland -37.75040   144.95370   \n",
       "10624     378.0         105.0     1920.0      Moreland -37.74011   144.95267   \n",
       "11285     448.0          96.0     1950.0    Whitehorse -37.82956   145.13868   \n",
       "6786        0.0          96.0     1940.0      Moreland -37.77860   144.97530   \n",
       "8565      181.0         129.0     2000.0      Brimbank -37.78150   144.81280   \n",
       "4636      291.0         175.0     2009.0      Moreland -37.72710   144.92610   \n",
       "5703      178.0         172.0     1894.0   Stonnington -37.84040   145.00220   \n",
       "11984     797.0          90.0     1920.0  Port Phillip -37.87449   144.99059   \n",
       "10382     417.0           NaN        NaN   Maribyrnong -37.78867   144.87397   \n",
       "\n",
       "                  Regionname Propertycount  \n",
       "2711    Western Metropolitan        7570.0  \n",
       "1967   Northern Metropolitan       11204.0  \n",
       "10624  Northern Metropolitan       11204.0  \n",
       "11285   Eastern Metropolitan        5713.0  \n",
       "6786   Northern Metropolitan        5533.0  \n",
       "8565    Western Metropolitan        2185.0  \n",
       "4636   Northern Metropolitan        7485.0  \n",
       "5703   Southern Metropolitan       14887.0  \n",
       "11984  Southern Metropolitan        8989.0  \n",
       "10382   Western Metropolitan        3873.0  \n",
       "\n",
       "[10 rows x 21 columns]"
      ]
     },
     "execution_count": 4,
     "metadata": {},
     "output_type": "execute_result"
    }
   ],
   "source": [
    "mel_price.sample(10)"
   ]
  },
  {
   "cell_type": "code",
   "execution_count": 5,
   "id": "374add7d",
   "metadata": {
    "scrolled": true
   },
   "outputs": [],
   "source": [
    "# 필요한 데이터만 사용하기로 합니다.\n",
    "\n",
    "df = mel_price[['Regionname', 'Type', 'Rooms', 'Bathroom', 'Landsize', 'Price']]"
   ]
  },
  {
   "cell_type": "code",
   "execution_count": 6,
   "id": "866296e8",
   "metadata": {},
   "outputs": [
    {
     "data": {
      "text/html": [
       "<div>\n",
       "<style scoped>\n",
       "    .dataframe tbody tr th:only-of-type {\n",
       "        vertical-align: middle;\n",
       "    }\n",
       "\n",
       "    .dataframe tbody tr th {\n",
       "        vertical-align: top;\n",
       "    }\n",
       "\n",
       "    .dataframe thead th {\n",
       "        text-align: right;\n",
       "    }\n",
       "</style>\n",
       "<table border=\"1\" class=\"dataframe\">\n",
       "  <thead>\n",
       "    <tr style=\"text-align: right;\">\n",
       "      <th></th>\n",
       "      <th>Regionname</th>\n",
       "      <th>Type</th>\n",
       "      <th>Rooms</th>\n",
       "      <th>Bathroom</th>\n",
       "      <th>Landsize</th>\n",
       "      <th>Price</th>\n",
       "    </tr>\n",
       "  </thead>\n",
       "  <tbody>\n",
       "    <tr>\n",
       "      <th>0</th>\n",
       "      <td>Northern Metropolitan</td>\n",
       "      <td>h</td>\n",
       "      <td>2</td>\n",
       "      <td>1.0</td>\n",
       "      <td>202.0</td>\n",
       "      <td>1480000.0</td>\n",
       "    </tr>\n",
       "    <tr>\n",
       "      <th>1</th>\n",
       "      <td>Northern Metropolitan</td>\n",
       "      <td>h</td>\n",
       "      <td>2</td>\n",
       "      <td>1.0</td>\n",
       "      <td>156.0</td>\n",
       "      <td>1035000.0</td>\n",
       "    </tr>\n",
       "    <tr>\n",
       "      <th>2</th>\n",
       "      <td>Northern Metropolitan</td>\n",
       "      <td>h</td>\n",
       "      <td>3</td>\n",
       "      <td>2.0</td>\n",
       "      <td>134.0</td>\n",
       "      <td>1465000.0</td>\n",
       "    </tr>\n",
       "    <tr>\n",
       "      <th>3</th>\n",
       "      <td>Northern Metropolitan</td>\n",
       "      <td>h</td>\n",
       "      <td>3</td>\n",
       "      <td>2.0</td>\n",
       "      <td>94.0</td>\n",
       "      <td>850000.0</td>\n",
       "    </tr>\n",
       "    <tr>\n",
       "      <th>4</th>\n",
       "      <td>Northern Metropolitan</td>\n",
       "      <td>h</td>\n",
       "      <td>4</td>\n",
       "      <td>1.0</td>\n",
       "      <td>120.0</td>\n",
       "      <td>1600000.0</td>\n",
       "    </tr>\n",
       "  </tbody>\n",
       "</table>\n",
       "</div>"
      ],
      "text/plain": [
       "              Regionname Type  Rooms  Bathroom  Landsize      Price\n",
       "0  Northern Metropolitan    h      2       1.0     202.0  1480000.0\n",
       "1  Northern Metropolitan    h      2       1.0     156.0  1035000.0\n",
       "2  Northern Metropolitan    h      3       2.0     134.0  1465000.0\n",
       "3  Northern Metropolitan    h      3       2.0      94.0   850000.0\n",
       "4  Northern Metropolitan    h      4       1.0     120.0  1600000.0"
      ]
     },
     "execution_count": 6,
     "metadata": {},
     "output_type": "execute_result"
    }
   ],
   "source": [
    "df.head()"
   ]
  },
  {
   "cell_type": "code",
   "execution_count": 7,
   "id": "13937205",
   "metadata": {},
   "outputs": [
    {
     "data": {
      "text/plain": [
       "Regionname       8\n",
       "Type             3\n",
       "Rooms            9\n",
       "Bathroom         9\n",
       "Landsize      1448\n",
       "Price         2204\n",
       "dtype: int64"
      ]
     },
     "execution_count": 7,
     "metadata": {},
     "output_type": "execute_result"
    }
   ],
   "source": [
    "df.nunique()"
   ]
  },
  {
   "cell_type": "markdown",
   "id": "d969dbf5",
   "metadata": {},
   "source": [
    "# 지역에 따른 집값 차이가 유의미한가?"
   ]
  },
  {
   "cell_type": "code",
   "execution_count": 8,
   "id": "bfa40c9a",
   "metadata": {},
   "outputs": [
    {
     "data": {
      "text/plain": [
       "array(['Northern Metropolitan', 'Western Metropolitan',\n",
       "       'Southern Metropolitan', 'Eastern Metropolitan',\n",
       "       'South-Eastern Metropolitan', 'Eastern Victoria',\n",
       "       'Northern Victoria', 'Western Victoria'], dtype=object)"
      ]
     },
     "execution_count": 8,
     "metadata": {},
     "output_type": "execute_result"
    }
   ],
   "source": [
    "df['Regionname'].unique()"
   ]
  },
  {
   "cell_type": "code",
   "execution_count": 9,
   "id": "e8ffc81c",
   "metadata": {
    "scrolled": true
   },
   "outputs": [
    {
     "name": "stderr",
     "output_type": "stream",
     "text": [
      "/var/folders/qw/j72d9nwn5dq0vxtqtw2bbtnh0000gp/T/ipykernel_18735/4227768033.py:3: SettingWithCopyWarning: \n",
      "A value is trying to be set on a copy of a slice from a DataFrame.\n",
      "Try using .loc[row_indexer,col_indexer] = value instead\n",
      "\n",
      "See the caveats in the documentation: https://pandas.pydata.org/pandas-docs/stable/user_guide/indexing.html#returning-a-view-versus-a-copy\n",
      "  df[['Direction', 'Region']] = df['Regionname'].str.split(' ', n = 2, expand=True)\n",
      "/var/folders/qw/j72d9nwn5dq0vxtqtw2bbtnh0000gp/T/ipykernel_18735/4227768033.py:3: SettingWithCopyWarning: \n",
      "A value is trying to be set on a copy of a slice from a DataFrame.\n",
      "Try using .loc[row_indexer,col_indexer] = value instead\n",
      "\n",
      "See the caveats in the documentation: https://pandas.pydata.org/pandas-docs/stable/user_guide/indexing.html#returning-a-view-versus-a-copy\n",
      "  df[['Direction', 'Region']] = df['Regionname'].str.split(' ', n = 2, expand=True)\n"
     ]
    },
    {
     "data": {
      "text/html": [
       "<div>\n",
       "<style scoped>\n",
       "    .dataframe tbody tr th:only-of-type {\n",
       "        vertical-align: middle;\n",
       "    }\n",
       "\n",
       "    .dataframe tbody tr th {\n",
       "        vertical-align: top;\n",
       "    }\n",
       "\n",
       "    .dataframe thead th {\n",
       "        text-align: right;\n",
       "    }\n",
       "</style>\n",
       "<table border=\"1\" class=\"dataframe\">\n",
       "  <thead>\n",
       "    <tr style=\"text-align: right;\">\n",
       "      <th></th>\n",
       "      <th>Regionname</th>\n",
       "      <th>Type</th>\n",
       "      <th>Rooms</th>\n",
       "      <th>Bathroom</th>\n",
       "      <th>Landsize</th>\n",
       "      <th>Price</th>\n",
       "      <th>Direction</th>\n",
       "      <th>Region</th>\n",
       "    </tr>\n",
       "  </thead>\n",
       "  <tbody>\n",
       "    <tr>\n",
       "      <th>0</th>\n",
       "      <td>Northern Metropolitan</td>\n",
       "      <td>h</td>\n",
       "      <td>2</td>\n",
       "      <td>1.0</td>\n",
       "      <td>202.0</td>\n",
       "      <td>1480000.0</td>\n",
       "      <td>Northern</td>\n",
       "      <td>Metropolitan</td>\n",
       "    </tr>\n",
       "    <tr>\n",
       "      <th>1</th>\n",
       "      <td>Northern Metropolitan</td>\n",
       "      <td>h</td>\n",
       "      <td>2</td>\n",
       "      <td>1.0</td>\n",
       "      <td>156.0</td>\n",
       "      <td>1035000.0</td>\n",
       "      <td>Northern</td>\n",
       "      <td>Metropolitan</td>\n",
       "    </tr>\n",
       "    <tr>\n",
       "      <th>2</th>\n",
       "      <td>Northern Metropolitan</td>\n",
       "      <td>h</td>\n",
       "      <td>3</td>\n",
       "      <td>2.0</td>\n",
       "      <td>134.0</td>\n",
       "      <td>1465000.0</td>\n",
       "      <td>Northern</td>\n",
       "      <td>Metropolitan</td>\n",
       "    </tr>\n",
       "    <tr>\n",
       "      <th>3</th>\n",
       "      <td>Northern Metropolitan</td>\n",
       "      <td>h</td>\n",
       "      <td>3</td>\n",
       "      <td>2.0</td>\n",
       "      <td>94.0</td>\n",
       "      <td>850000.0</td>\n",
       "      <td>Northern</td>\n",
       "      <td>Metropolitan</td>\n",
       "    </tr>\n",
       "    <tr>\n",
       "      <th>4</th>\n",
       "      <td>Northern Metropolitan</td>\n",
       "      <td>h</td>\n",
       "      <td>4</td>\n",
       "      <td>1.0</td>\n",
       "      <td>120.0</td>\n",
       "      <td>1600000.0</td>\n",
       "      <td>Northern</td>\n",
       "      <td>Metropolitan</td>\n",
       "    </tr>\n",
       "  </tbody>\n",
       "</table>\n",
       "</div>"
      ],
      "text/plain": [
       "              Regionname Type  Rooms  Bathroom  Landsize      Price Direction  \\\n",
       "0  Northern Metropolitan    h      2       1.0     202.0  1480000.0  Northern   \n",
       "1  Northern Metropolitan    h      2       1.0     156.0  1035000.0  Northern   \n",
       "2  Northern Metropolitan    h      3       2.0     134.0  1465000.0  Northern   \n",
       "3  Northern Metropolitan    h      3       2.0      94.0   850000.0  Northern   \n",
       "4  Northern Metropolitan    h      4       1.0     120.0  1600000.0  Northern   \n",
       "\n",
       "         Region  \n",
       "0  Metropolitan  \n",
       "1  Metropolitan  \n",
       "2  Metropolitan  \n",
       "3  Metropolitan  \n",
       "4  Metropolitan  "
      ]
     },
     "execution_count": 9,
     "metadata": {},
     "output_type": "execute_result"
    }
   ],
   "source": [
    "# Metropolitan 과 Victoria 로 나누어본다.\n",
    "\n",
    "df[['Direction', 'Region']] = df['Regionname'].str.split(' ', n = 2, expand=True)\n",
    "df.head()"
   ]
  },
  {
   "cell_type": "code",
   "execution_count": 10,
   "id": "94514b7b",
   "metadata": {},
   "outputs": [
    {
     "data": {
      "text/plain": [
       "Metropolitan    13454\n",
       "Victoria          126\n",
       "Name: Region, dtype: int64"
      ]
     },
     "execution_count": 10,
     "metadata": {},
     "output_type": "execute_result"
    }
   ],
   "source": [
    "df['Region'].value_counts()"
   ]
  },
  {
   "cell_type": "code",
   "execution_count": 11,
   "id": "769e104c",
   "metadata": {},
   "outputs": [
    {
     "data": {
      "text/plain": [
       "1080242.4607551657"
      ]
     },
     "execution_count": 11,
     "metadata": {},
     "output_type": "execute_result"
    }
   ],
   "source": [
    "df[df['Region'] == 'Metropolitan']['Price'].mean()"
   ]
  },
  {
   "cell_type": "code",
   "execution_count": 12,
   "id": "0c9e853b",
   "metadata": {},
   "outputs": [
    {
     "data": {
      "text/plain": [
       "588950.253968254"
      ]
     },
     "execution_count": 12,
     "metadata": {},
     "output_type": "execute_result"
    }
   ],
   "source": [
    "df[df['Region'] == 'Victoria']['Price'].mean()"
   ]
  },
  {
   "cell_type": "markdown",
   "id": "6c34f395",
   "metadata": {},
   "source": [
    "차이가 꽤 존재한다. 거의 두 배 차이나는데 데이터 분석가로서, 다른 요인들을 먼저 분석해보려 한다."
   ]
  },
  {
   "cell_type": "code",
   "execution_count": 13,
   "id": "53feb546",
   "metadata": {},
   "outputs": [
    {
     "data": {
      "text/plain": [
       "array(['h', 'u', 't'], dtype=object)"
      ]
     },
     "execution_count": 13,
     "metadata": {},
     "output_type": "execute_result"
    }
   ],
   "source": [
    "df['Type'].unique()"
   ]
  },
  {
   "cell_type": "code",
   "execution_count": 14,
   "id": "13c3b056",
   "metadata": {},
   "outputs": [
    {
     "data": {
      "text/plain": [
       "h    9449\n",
       "u    3017\n",
       "t    1114\n",
       "Name: Type, dtype: int64"
      ]
     },
     "execution_count": 14,
     "metadata": {},
     "output_type": "execute_result"
    }
   ],
   "source": [
    "df['Type'].value_counts()"
   ]
  },
  {
   "cell_type": "code",
   "execution_count": 15,
   "id": "cd3ade1e",
   "metadata": {},
   "outputs": [
    {
     "data": {
      "text/plain": [
       "1242664.761138745"
      ]
     },
     "execution_count": 15,
     "metadata": {},
     "output_type": "execute_result"
    }
   ],
   "source": [
    "df[df['Type'] == 'h']['Price'].mean()"
   ]
  },
  {
   "cell_type": "code",
   "execution_count": 16,
   "id": "d63d43fc",
   "metadata": {},
   "outputs": [
    {
     "data": {
      "text/plain": [
       "605127.4845873384"
      ]
     },
     "execution_count": 16,
     "metadata": {},
     "output_type": "execute_result"
    }
   ],
   "source": [
    "df[df['Type'] == 'u']['Price'].mean()"
   ]
  },
  {
   "cell_type": "code",
   "execution_count": 17,
   "id": "a76beda2",
   "metadata": {},
   "outputs": [
    {
     "data": {
      "text/plain": [
       "933735.0538599641"
      ]
     },
     "execution_count": 17,
     "metadata": {},
     "output_type": "execute_result"
    }
   ],
   "source": [
    "df[df['Type'] == 't']['Price'].mean()"
   ]
  },
  {
   "cell_type": "markdown",
   "id": "306378d4",
   "metadata": {},
   "source": [
    "Metropolitan  집값이 훨씬 비싸고, 하우스 타입이 h가 비싼 편인 것으로 나타났다. \n",
    "\n",
    "Metropolitan 에 h 유형이 많은가?"
   ]
  },
  {
   "cell_type": "code",
   "execution_count": 18,
   "id": "1644a080",
   "metadata": {},
   "outputs": [],
   "source": [
    "df_h = df[df['Type'] =='h'][['Region', 'Price']]"
   ]
  },
  {
   "cell_type": "code",
   "execution_count": 19,
   "id": "f9cbb93e",
   "metadata": {},
   "outputs": [
    {
     "data": {
      "text/plain": [
       "Metropolitan    9326\n",
       "Victoria         123\n",
       "Name: Region, dtype: int64"
      ]
     },
     "execution_count": 19,
     "metadata": {},
     "output_type": "execute_result"
    }
   ],
   "source": [
    "df_h['Region'].value_counts()"
   ]
  },
  {
   "cell_type": "markdown",
   "id": "5eed8b3e",
   "metadata": {},
   "source": [
    "재미있는건 h타입에 Victoria 지역의 집이 많다.  \n",
    "\n",
    "126개 중 123개가 있다고? 그렇다면 각각의 평균 가격은?"
   ]
  },
  {
   "cell_type": "code",
   "execution_count": 20,
   "id": "5933c496",
   "metadata": {},
   "outputs": [
    {
     "data": {
      "text/html": [
       "<div>\n",
       "<style scoped>\n",
       "    .dataframe tbody tr th:only-of-type {\n",
       "        vertical-align: middle;\n",
       "    }\n",
       "\n",
       "    .dataframe tbody tr th {\n",
       "        vertical-align: top;\n",
       "    }\n",
       "\n",
       "    .dataframe thead th {\n",
       "        text-align: right;\n",
       "    }\n",
       "</style>\n",
       "<table border=\"1\" class=\"dataframe\">\n",
       "  <thead>\n",
       "    <tr style=\"text-align: right;\">\n",
       "      <th>Type</th>\n",
       "      <th>h</th>\n",
       "      <th>t</th>\n",
       "      <th>u</th>\n",
       "    </tr>\n",
       "    <tr>\n",
       "      <th>Region</th>\n",
       "      <th></th>\n",
       "      <th></th>\n",
       "      <th></th>\n",
       "    </tr>\n",
       "  </thead>\n",
       "  <tbody>\n",
       "    <tr>\n",
       "      <th>Metropolitan</th>\n",
       "      <td>1251245.51</td>\n",
       "      <td>933735.05</td>\n",
       "      <td>605270.61</td>\n",
       "    </tr>\n",
       "    <tr>\n",
       "      <th>Victoria</th>\n",
       "      <td>592062.86</td>\n",
       "      <td>NaN</td>\n",
       "      <td>461333.33</td>\n",
       "    </tr>\n",
       "  </tbody>\n",
       "</table>\n",
       "</div>"
      ],
      "text/plain": [
       "Type                  h         t         u\n",
       "Region                                     \n",
       "Metropolitan 1251245.51 933735.05 605270.61\n",
       "Victoria      592062.86       NaN 461333.33"
      ]
     },
     "execution_count": 20,
     "metadata": {},
     "output_type": "execute_result"
    }
   ],
   "source": [
    "# 소수점 아래 2까지만 보이도록 한다\n",
    "\n",
    "pd.options.display.float_format = '{:.2f}'.format\n",
    "pd.crosstab(index = df['Region'], columns = df['Type'], values = df['Price'], aggfunc = 'mean' )"
   ]
  },
  {
   "cell_type": "markdown",
   "id": "954025df",
   "metadata": {},
   "source": [
    "빅토리아에는 t타입이 아예 없는 것으로 나타났다.\n",
    "\n",
    "이렇게만 보면 가격차가 나는 것처럼 보인다. \n",
    "\n",
    "지역 지도 한번 안보고 바로 분석을 시작한다니 좀 억지이긴 하지만, 지금 해보고 싶은건 순열검정이기 때문에, h타입만 가지고 할 것이며,\n",
    "\n",
    "어느 정도 공정한 분석을 위해 집 크기를 고려하여 Victoria 에서의 가장 큰집 이상을 벗어나는 집은 Metropolitan에서 제거하도록 한다."
   ]
  },
  {
   "cell_type": "code",
   "execution_count": 21,
   "id": "ce1051ff",
   "metadata": {},
   "outputs": [
    {
     "data": {
      "text/plain": [
       "<AxesSubplot:xlabel='Region', ylabel='Landsize'>"
      ]
     },
     "execution_count": 21,
     "metadata": {},
     "output_type": "execute_result"
    },
    {
     "data": {
      "image/png": "[encoded data removed]",
      "text/plain": [
       "<Figure size 432x288 with 1 Axes>"
      ]
     },
     "metadata": {
      "needs_background": "light"
     },
     "output_type": "display_data"
    }
   ],
   "source": [
    "# 면적 분포\n",
    "\n",
    "sns.boxplot(data = df, x = 'Region', y = 'Landsize')"
   ]
  },
  {
   "cell_type": "markdown",
   "id": "c7aa2044",
   "metadata": {},
   "source": [
    "이런이런 심각한 아기고양이가 있었네 지웁니다."
   ]
  },
  {
   "cell_type": "code",
   "execution_count": 22,
   "id": "3b1e1795",
   "metadata": {},
   "outputs": [
    {
     "data": {
      "text/html": [
       "<div>\n",
       "<style scoped>\n",
       "    .dataframe tbody tr th:only-of-type {\n",
       "        vertical-align: middle;\n",
       "    }\n",
       "\n",
       "    .dataframe tbody tr th {\n",
       "        vertical-align: top;\n",
       "    }\n",
       "\n",
       "    .dataframe thead th {\n",
       "        text-align: right;\n",
       "    }\n",
       "</style>\n",
       "<table border=\"1\" class=\"dataframe\">\n",
       "  <thead>\n",
       "    <tr style=\"text-align: right;\">\n",
       "      <th></th>\n",
       "      <th>Regionname</th>\n",
       "      <th>Type</th>\n",
       "      <th>Rooms</th>\n",
       "      <th>Bathroom</th>\n",
       "      <th>Landsize</th>\n",
       "      <th>Price</th>\n",
       "      <th>Direction</th>\n",
       "      <th>Region</th>\n",
       "    </tr>\n",
       "  </thead>\n",
       "  <tbody>\n",
       "    <tr>\n",
       "      <th>11020</th>\n",
       "      <td>Northern Metropolitan</td>\n",
       "      <td>h</td>\n",
       "      <td>3</td>\n",
       "      <td>3.00</td>\n",
       "      <td>433014.00</td>\n",
       "      <td>2700000.00</td>\n",
       "      <td>Northern</td>\n",
       "      <td>Metropolitan</td>\n",
       "    </tr>\n",
       "    <tr>\n",
       "      <th>687</th>\n",
       "      <td>Southern Metropolitan</td>\n",
       "      <td>h</td>\n",
       "      <td>3</td>\n",
       "      <td>1.00</td>\n",
       "      <td>75100.00</td>\n",
       "      <td>2000000.00</td>\n",
       "      <td>Southern</td>\n",
       "      <td>Metropolitan</td>\n",
       "    </tr>\n",
       "    <tr>\n",
       "      <th>5194</th>\n",
       "      <td>Northern Metropolitan</td>\n",
       "      <td>h</td>\n",
       "      <td>3</td>\n",
       "      <td>1.00</td>\n",
       "      <td>41400.00</td>\n",
       "      <td>572000.00</td>\n",
       "      <td>Northern</td>\n",
       "      <td>Metropolitan</td>\n",
       "    </tr>\n",
       "    <tr>\n",
       "      <th>9223</th>\n",
       "      <td>Western Metropolitan</td>\n",
       "      <td>u</td>\n",
       "      <td>2</td>\n",
       "      <td>2.00</td>\n",
       "      <td>37000.00</td>\n",
       "      <td>585000.00</td>\n",
       "      <td>Western</td>\n",
       "      <td>Metropolitan</td>\n",
       "    </tr>\n",
       "    <tr>\n",
       "      <th>3942</th>\n",
       "      <td>Western Metropolitan</td>\n",
       "      <td>u</td>\n",
       "      <td>2</td>\n",
       "      <td>2.00</td>\n",
       "      <td>37000.00</td>\n",
       "      <td>495000.00</td>\n",
       "      <td>Western</td>\n",
       "      <td>Metropolitan</td>\n",
       "    </tr>\n",
       "  </tbody>\n",
       "</table>\n",
       "</div>"
      ],
      "text/plain": [
       "                  Regionname Type  Rooms  Bathroom  Landsize      Price  \\\n",
       "11020  Northern Metropolitan    h      3      3.00 433014.00 2700000.00   \n",
       "687    Southern Metropolitan    h      3      1.00  75100.00 2000000.00   \n",
       "5194   Northern Metropolitan    h      3      1.00  41400.00  572000.00   \n",
       "9223    Western Metropolitan    u      2      2.00  37000.00  585000.00   \n",
       "3942    Western Metropolitan    u      2      2.00  37000.00  495000.00   \n",
       "\n",
       "      Direction        Region  \n",
       "11020  Northern  Metropolitan  \n",
       "687    Southern  Metropolitan  \n",
       "5194   Northern  Metropolitan  \n",
       "9223    Western  Metropolitan  \n",
       "3942    Western  Metropolitan  "
      ]
     },
     "execution_count": 22,
     "metadata": {},
     "output_type": "execute_result"
    }
   ],
   "source": [
    "df[df['Region'] == 'Metropolitan'].sort_values(by = 'Landsize', ascending = False).head()"
   ]
  },
  {
   "cell_type": "markdown",
   "id": "af4bce4f",
   "metadata": {},
   "source": [
    "숫자로도 자릿수가 다를 만큼 확연하게 큰 저 값은 지우도록 합니다."
   ]
  },
  {
   "cell_type": "code",
   "execution_count": 23,
   "id": "578c8bdb",
   "metadata": {},
   "outputs": [],
   "source": [
    "df = df.drop(index = 11020, axis=0)"
   ]
  },
  {
   "cell_type": "markdown",
   "id": "45442f5c",
   "metadata": {},
   "source": [
    "마찬가지로 가격을 볼 것이기 때문에 가격도 한 번 더 거르기로 합니다."
   ]
  },
  {
   "cell_type": "code",
   "execution_count": 24,
   "id": "40c0f625",
   "metadata": {},
   "outputs": [
    {
     "data": {
      "text/plain": [
       "<AxesSubplot:xlabel='Region', ylabel='Price'>"
      ]
     },
     "execution_count": 24,
     "metadata": {},
     "output_type": "execute_result"
    },
    {
     "data": {
      "image/png": "[encoded data removed]",
      "text/plain": [
       "<Figure size 432x288 with 1 Axes>"
      ]
     },
     "metadata": {
      "needs_background": "light"
     },
     "output_type": "display_data"
    }
   ],
   "source": [
    "# 가격 분포\n",
    "\n",
    "sns.boxplot(data = df, x = 'Region', y = 'Price')"
   ]
  },
  {
   "cell_type": "markdown",
   "id": "d24f96dd",
   "metadata": {},
   "source": [
    "메트로폴리탄 내에서도 차이가 많이 나는 값들이 있습니다. 지우고 나면 그래도 어느정도 빅토리아와 차이가 덜 할 것으로 보입니다. (빅토리아의 최소값은 메트로폴리탄보다 높음) 이들을 지우도록 하려고 합니다.\n",
    "\n"
   ]
  },
  {
   "cell_type": "code",
   "execution_count": null,
   "id": "cd2b2909",
   "metadata": {},
   "outputs": [],
   "source": []
  }
 ],
 "metadata": {
  "kernelspec": {
   "display_name": "Python 3 (ipykernel)",
   "language": "python",
   "name": "python3"
  },
  "language_info": {
   "codemirror_mode": {
    "name": "ipython",
    "version": 3
   },
   "file_extension": ".py",
   "mimetype": "text/x-python",
   "name": "python",
   "nbconvert_exporter": "python",
   "pygments_lexer": "ipython3",
   "version": "3.8.5"
  },
  "toc": {
   "base_numbering": 1,
   "nav_menu": {},
   "number_sections": true,
   "sideBar": true,
   "skip_h1_title": false,
   "title_cell": "Table of Contents",
   "title_sidebar": "Contents",
   "toc_cell": false,
   "toc_position": {},
   "toc_section_display": true,
   "toc_window_display": false
  }
 },
 "nbformat": 4,
 "nbformat_minor": 5
}

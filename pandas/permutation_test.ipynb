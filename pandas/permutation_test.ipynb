{
 "cells": [
  {
   "cell_type": "markdown",
   "id": "7942f2a6",
   "metadata": {},
   "source": [
    "# 통계적 검정 실습파일\n",
    "\n",
    "# 순열검정 (Permutation_test)\n",
    "\n",
    "재표본추출을 직접 해보고싶어서 만든 페이지입니다.\n",
    "\n",
    "가진 데이터를 활용하여(이 통계 교재 실습을 위해 만들어진 데이터가 아닌) 귀무가설을 기각하는 경우를 보고싶었습니다.\n",
    "\n",
    "이전에 AI 공부를 할 때 함께했던 멜버른 집값 데이터를 데려옵니다."
   ]
  },
  {
   "cell_type": "markdown",
   "id": "fe2944e2",
   "metadata": {},
   "source": [
    "## Data, library import"
   ]
  },
  {
   "cell_type": "code",
   "execution_count": 1,
   "id": "28d17cfe",
   "metadata": {},
   "outputs": [],
   "source": [
    "# 라이브러리 불러오기\n",
    "\n",
    "%matplotlib inline\n",
    "\n",
    "from pathlib import Path\n",
    "import random\n",
    "\n",
    "import pandas as pd\n",
    "import numpy as np\n",
    "from scipy.stats import trim_mean\n",
    "from scipy import stats\n",
    "from sklearn.utils import resample\n",
    "import statsmodels.api as sm\n",
    "import statsmodels.formula.api as smf\n",
    "from statsmodels.stats import power\n",
    "\n",
    "import seaborn as sns\n",
    "import matplotlib.pylab as plt\n",
    "\n",
    "import warnings"
   ]
  },
  {
   "cell_type": "code",
   "execution_count": 2,
   "id": "4c5e7ff4",
   "metadata": {},
   "outputs": [],
   "source": [
    "mel_price = pd.read_csv('/Users/Angela/Desktop/Personal/AI_data/melb_data.csv')"
   ]
  },
  {
   "cell_type": "markdown",
   "id": "aed0eb4e",
   "metadata": {},
   "source": [
    "## data info"
   ]
  },
  {
   "cell_type": "code",
   "execution_count": 3,
   "id": "44f4af57",
   "metadata": {},
   "outputs": [
    {
     "data": {
      "text/plain": [
       "Suburb             314\n",
       "Address          13378\n",
       "Rooms                9\n",
       "Type                 3\n",
       "Price             2204\n",
       "Method               5\n",
       "SellerG            268\n",
       "Date                58\n",
       "Distance           202\n",
       "Postcode           198\n",
       "Bedroom2            12\n",
       "Bathroom             9\n",
       "Car                 11\n",
       "Landsize          1448\n",
       "BuildingArea       602\n",
       "YearBuilt          144\n",
       "CouncilArea         33\n",
       "Lattitude         6503\n",
       "Longtitude        7063\n",
       "Regionname           8\n",
       "Propertycount      311\n",
       "dtype: int64"
      ]
     },
     "execution_count": 3,
     "metadata": {},
     "output_type": "execute_result"
    }
   ],
   "source": [
    "mel_price.nunique()"
   ]
  },
  {
   "cell_type": "code",
   "execution_count": 4,
   "id": "ba28991c",
   "metadata": {
    "scrolled": true
   },
   "outputs": [
    {
     "data": {
      "text/html": [
       "<div>\n",
       "<style scoped>\n",
       "    .dataframe tbody tr th:only-of-type {\n",
       "        vertical-align: middle;\n",
       "    }\n",
       "\n",
       "    .dataframe tbody tr th {\n",
       "        vertical-align: top;\n",
       "    }\n",
       "\n",
       "    .dataframe thead th {\n",
       "        text-align: right;\n",
       "    }\n",
       "</style>\n",
       "<table border=\"1\" class=\"dataframe\">\n",
       "  <thead>\n",
       "    <tr style=\"text-align: right;\">\n",
       "      <th></th>\n",
       "      <th>Suburb</th>\n",
       "      <th>Address</th>\n",
       "      <th>Rooms</th>\n",
       "      <th>Type</th>\n",
       "      <th>Price</th>\n",
       "      <th>Method</th>\n",
       "      <th>SellerG</th>\n",
       "      <th>Date</th>\n",
       "      <th>Distance</th>\n",
       "      <th>Postcode</th>\n",
       "      <th>...</th>\n",
       "      <th>Bathroom</th>\n",
       "      <th>Car</th>\n",
       "      <th>Landsize</th>\n",
       "      <th>BuildingArea</th>\n",
       "      <th>YearBuilt</th>\n",
       "      <th>CouncilArea</th>\n",
       "      <th>Lattitude</th>\n",
       "      <th>Longtitude</th>\n",
       "      <th>Regionname</th>\n",
       "      <th>Propertycount</th>\n",
       "    </tr>\n",
       "  </thead>\n",
       "  <tbody>\n",
       "    <tr>\n",
       "      <th>2711</th>\n",
       "      <td>Footscray</td>\n",
       "      <td>4/2 Saltriver Pl</td>\n",
       "      <td>3</td>\n",
       "      <td>u</td>\n",
       "      <td>665000.0</td>\n",
       "      <td>S</td>\n",
       "      <td>Greg</td>\n",
       "      <td>18/06/2016</td>\n",
       "      <td>6.4</td>\n",
       "      <td>3011.0</td>\n",
       "      <td>...</td>\n",
       "      <td>2.0</td>\n",
       "      <td>1.0</td>\n",
       "      <td>0.0</td>\n",
       "      <td>NaN</td>\n",
       "      <td>NaN</td>\n",
       "      <td>Maribyrnong</td>\n",
       "      <td>-37.80160</td>\n",
       "      <td>144.90820</td>\n",
       "      <td>Western Metropolitan</td>\n",
       "      <td>7570.0</td>\n",
       "    </tr>\n",
       "    <tr>\n",
       "      <th>1967</th>\n",
       "      <td>Coburg</td>\n",
       "      <td>3 Phillips St</td>\n",
       "      <td>3</td>\n",
       "      <td>h</td>\n",
       "      <td>1030000.0</td>\n",
       "      <td>S</td>\n",
       "      <td>Considine</td>\n",
       "      <td>17/09/2016</td>\n",
       "      <td>7.8</td>\n",
       "      <td>3058.0</td>\n",
       "      <td>...</td>\n",
       "      <td>1.0</td>\n",
       "      <td>1.0</td>\n",
       "      <td>404.0</td>\n",
       "      <td>NaN</td>\n",
       "      <td>NaN</td>\n",
       "      <td>Moreland</td>\n",
       "      <td>-37.75040</td>\n",
       "      <td>144.95370</td>\n",
       "      <td>Northern Metropolitan</td>\n",
       "      <td>11204.0</td>\n",
       "    </tr>\n",
       "    <tr>\n",
       "      <th>10624</th>\n",
       "      <td>Coburg</td>\n",
       "      <td>251 Bell St</td>\n",
       "      <td>2</td>\n",
       "      <td>h</td>\n",
       "      <td>760000.0</td>\n",
       "      <td>S</td>\n",
       "      <td>Nelson</td>\n",
       "      <td>8/07/2017</td>\n",
       "      <td>6.7</td>\n",
       "      <td>3058.0</td>\n",
       "      <td>...</td>\n",
       "      <td>1.0</td>\n",
       "      <td>2.0</td>\n",
       "      <td>378.0</td>\n",
       "      <td>105.0</td>\n",
       "      <td>1920.0</td>\n",
       "      <td>Moreland</td>\n",
       "      <td>-37.74011</td>\n",
       "      <td>144.95267</td>\n",
       "      <td>Northern Metropolitan</td>\n",
       "      <td>11204.0</td>\n",
       "    </tr>\n",
       "    <tr>\n",
       "      <th>11285</th>\n",
       "      <td>Blackburn</td>\n",
       "      <td>17 Hirst St</td>\n",
       "      <td>3</td>\n",
       "      <td>h</td>\n",
       "      <td>1070000.0</td>\n",
       "      <td>S</td>\n",
       "      <td>Jellis</td>\n",
       "      <td>15/07/2017</td>\n",
       "      <td>13.4</td>\n",
       "      <td>3130.0</td>\n",
       "      <td>...</td>\n",
       "      <td>1.0</td>\n",
       "      <td>2.0</td>\n",
       "      <td>448.0</td>\n",
       "      <td>96.0</td>\n",
       "      <td>1950.0</td>\n",
       "      <td>Whitehorse</td>\n",
       "      <td>-37.82956</td>\n",
       "      <td>145.13868</td>\n",
       "      <td>Eastern Metropolitan</td>\n",
       "      <td>5713.0</td>\n",
       "    </tr>\n",
       "    <tr>\n",
       "      <th>6786</th>\n",
       "      <td>Brunswick East</td>\n",
       "      <td>3/37 Brunswick Rd</td>\n",
       "      <td>2</td>\n",
       "      <td>u</td>\n",
       "      <td>665000.0</td>\n",
       "      <td>S</td>\n",
       "      <td>Collins</td>\n",
       "      <td>16/07/2016</td>\n",
       "      <td>4.5</td>\n",
       "      <td>3057.0</td>\n",
       "      <td>...</td>\n",
       "      <td>1.0</td>\n",
       "      <td>1.0</td>\n",
       "      <td>0.0</td>\n",
       "      <td>96.0</td>\n",
       "      <td>1940.0</td>\n",
       "      <td>Moreland</td>\n",
       "      <td>-37.77860</td>\n",
       "      <td>144.97530</td>\n",
       "      <td>Northern Metropolitan</td>\n",
       "      <td>5533.0</td>\n",
       "    </tr>\n",
       "    <tr>\n",
       "      <th>8565</th>\n",
       "      <td>Albion</td>\n",
       "      <td>2/62 Selwyn St</td>\n",
       "      <td>3</td>\n",
       "      <td>u</td>\n",
       "      <td>600000.0</td>\n",
       "      <td>SA</td>\n",
       "      <td>Douglas</td>\n",
       "      <td>20/05/2017</td>\n",
       "      <td>13.9</td>\n",
       "      <td>3020.0</td>\n",
       "      <td>...</td>\n",
       "      <td>1.0</td>\n",
       "      <td>1.0</td>\n",
       "      <td>181.0</td>\n",
       "      <td>129.0</td>\n",
       "      <td>2000.0</td>\n",
       "      <td>Brimbank</td>\n",
       "      <td>-37.78150</td>\n",
       "      <td>144.81280</td>\n",
       "      <td>Western Metropolitan</td>\n",
       "      <td>2185.0</td>\n",
       "    </tr>\n",
       "    <tr>\n",
       "      <th>4636</th>\n",
       "      <td>Pascoe Vale</td>\n",
       "      <td>1/5 Farringdon St</td>\n",
       "      <td>3</td>\n",
       "      <td>t</td>\n",
       "      <td>790000.0</td>\n",
       "      <td>S</td>\n",
       "      <td>Brad</td>\n",
       "      <td>12/11/2016</td>\n",
       "      <td>9.9</td>\n",
       "      <td>3044.0</td>\n",
       "      <td>...</td>\n",
       "      <td>3.0</td>\n",
       "      <td>1.0</td>\n",
       "      <td>291.0</td>\n",
       "      <td>175.0</td>\n",
       "      <td>2009.0</td>\n",
       "      <td>Moreland</td>\n",
       "      <td>-37.72710</td>\n",
       "      <td>144.92610</td>\n",
       "      <td>Northern Metropolitan</td>\n",
       "      <td>7485.0</td>\n",
       "    </tr>\n",
       "    <tr>\n",
       "      <th>5703</th>\n",
       "      <td>South Yarra</td>\n",
       "      <td>366 Toorak Rd</td>\n",
       "      <td>3</td>\n",
       "      <td>h</td>\n",
       "      <td>1700000.0</td>\n",
       "      <td>S</td>\n",
       "      <td>Morrison</td>\n",
       "      <td>27/11/2016</td>\n",
       "      <td>3.3</td>\n",
       "      <td>3141.0</td>\n",
       "      <td>...</td>\n",
       "      <td>1.0</td>\n",
       "      <td>1.0</td>\n",
       "      <td>178.0</td>\n",
       "      <td>172.0</td>\n",
       "      <td>1894.0</td>\n",
       "      <td>Stonnington</td>\n",
       "      <td>-37.84040</td>\n",
       "      <td>145.00220</td>\n",
       "      <td>Southern Metropolitan</td>\n",
       "      <td>14887.0</td>\n",
       "    </tr>\n",
       "    <tr>\n",
       "      <th>11984</th>\n",
       "      <td>Elwood</td>\n",
       "      <td>1/121 Brighton Rd</td>\n",
       "      <td>2</td>\n",
       "      <td>u</td>\n",
       "      <td>720000.0</td>\n",
       "      <td>S</td>\n",
       "      <td>Chisholm</td>\n",
       "      <td>29/07/2017</td>\n",
       "      <td>7.2</td>\n",
       "      <td>3184.0</td>\n",
       "      <td>...</td>\n",
       "      <td>1.0</td>\n",
       "      <td>2.0</td>\n",
       "      <td>797.0</td>\n",
       "      <td>90.0</td>\n",
       "      <td>1920.0</td>\n",
       "      <td>Port Phillip</td>\n",
       "      <td>-37.87449</td>\n",
       "      <td>144.99059</td>\n",
       "      <td>Southern Metropolitan</td>\n",
       "      <td>8989.0</td>\n",
       "    </tr>\n",
       "    <tr>\n",
       "      <th>10382</th>\n",
       "      <td>Maidstone</td>\n",
       "      <td>1 Gilda St</td>\n",
       "      <td>3</td>\n",
       "      <td>h</td>\n",
       "      <td>793000.0</td>\n",
       "      <td>S</td>\n",
       "      <td>hockingstuart</td>\n",
       "      <td>27/05/2017</td>\n",
       "      <td>6.4</td>\n",
       "      <td>3012.0</td>\n",
       "      <td>...</td>\n",
       "      <td>1.0</td>\n",
       "      <td>2.0</td>\n",
       "      <td>417.0</td>\n",
       "      <td>NaN</td>\n",
       "      <td>NaN</td>\n",
       "      <td>Maribyrnong</td>\n",
       "      <td>-37.78867</td>\n",
       "      <td>144.87397</td>\n",
       "      <td>Western Metropolitan</td>\n",
       "      <td>3873.0</td>\n",
       "    </tr>\n",
       "  </tbody>\n",
       "</table>\n",
       "<p>10 rows × 21 columns</p>\n",
       "</div>"
      ],
      "text/plain": [
       "               Suburb            Address  Rooms Type      Price Method  \\\n",
       "2711        Footscray   4/2 Saltriver Pl      3    u   665000.0      S   \n",
       "1967           Coburg      3 Phillips St      3    h  1030000.0      S   \n",
       "10624          Coburg        251 Bell St      2    h   760000.0      S   \n",
       "11285       Blackburn        17 Hirst St      3    h  1070000.0      S   \n",
       "6786   Brunswick East  3/37 Brunswick Rd      2    u   665000.0      S   \n",
       "8565           Albion     2/62 Selwyn St      3    u   600000.0     SA   \n",
       "4636      Pascoe Vale  1/5 Farringdon St      3    t   790000.0      S   \n",
       "5703      South Yarra      366 Toorak Rd      3    h  1700000.0      S   \n",
       "11984          Elwood  1/121 Brighton Rd      2    u   720000.0      S   \n",
       "10382       Maidstone         1 Gilda St      3    h   793000.0      S   \n",
       "\n",
       "             SellerG        Date  Distance  Postcode  ...  Bathroom  Car  \\\n",
       "2711            Greg  18/06/2016       6.4    3011.0  ...       2.0  1.0   \n",
       "1967       Considine  17/09/2016       7.8    3058.0  ...       1.0  1.0   \n",
       "10624         Nelson   8/07/2017       6.7    3058.0  ...       1.0  2.0   \n",
       "11285         Jellis  15/07/2017      13.4    3130.0  ...       1.0  2.0   \n",
       "6786         Collins  16/07/2016       4.5    3057.0  ...       1.0  1.0   \n",
       "8565         Douglas  20/05/2017      13.9    3020.0  ...       1.0  1.0   \n",
       "4636            Brad  12/11/2016       9.9    3044.0  ...       3.0  1.0   \n",
       "5703        Morrison  27/11/2016       3.3    3141.0  ...       1.0  1.0   \n",
       "11984       Chisholm  29/07/2017       7.2    3184.0  ...       1.0  2.0   \n",
       "10382  hockingstuart  27/05/2017       6.4    3012.0  ...       1.0  2.0   \n",
       "\n",
       "       Landsize  BuildingArea  YearBuilt   CouncilArea Lattitude  Longtitude  \\\n",
       "2711        0.0           NaN        NaN   Maribyrnong -37.80160   144.90820   \n",
       "1967      404.0           NaN        NaN      Moreland -37.75040   144.95370   \n",
       "10624     378.0         105.0     1920.0      Moreland -37.74011   144.95267   \n",
       "11285     448.0          96.0     1950.0    Whitehorse -37.82956   145.13868   \n",
       "6786        0.0          96.0     1940.0      Moreland -37.77860   144.97530   \n",
       "8565      181.0         129.0     2000.0      Brimbank -37.78150   144.81280   \n",
       "4636      291.0         175.0     2009.0      Moreland -37.72710   144.92610   \n",
       "5703      178.0         172.0     1894.0   Stonnington -37.84040   145.00220   \n",
       "11984     797.0          90.0     1920.0  Port Phillip -37.87449   144.99059   \n",
       "10382     417.0           NaN        NaN   Maribyrnong -37.78867   144.87397   \n",
       "\n",
       "                  Regionname Propertycount  \n",
       "2711    Western Metropolitan        7570.0  \n",
       "1967   Northern Metropolitan       11204.0  \n",
       "10624  Northern Metropolitan       11204.0  \n",
       "11285   Eastern Metropolitan        5713.0  \n",
       "6786   Northern Metropolitan        5533.0  \n",
       "8565    Western Metropolitan        2185.0  \n",
       "4636   Northern Metropolitan        7485.0  \n",
       "5703   Southern Metropolitan       14887.0  \n",
       "11984  Southern Metropolitan        8989.0  \n",
       "10382   Western Metropolitan        3873.0  \n",
       "\n",
       "[10 rows x 21 columns]"
      ]
     },
     "execution_count": 4,
     "metadata": {},
     "output_type": "execute_result"
    }
   ],
   "source": [
    "mel_price.sample(10)"
   ]
  },
  {
   "cell_type": "code",
   "execution_count": 5,
   "id": "016a7cbe",
   "metadata": {
    "scrolled": true
   },
   "outputs": [],
   "source": [
    "# 필요한 데이터만 사용하기로 합니다.\n",
    "\n",
    "df = mel_price[['Regionname', 'Type', 'Rooms', 'Bathroom', 'Landsize', 'Price']]"
   ]
  },
  {
   "cell_type": "code",
   "execution_count": 6,
   "id": "22921ea9",
   "metadata": {},
   "outputs": [
    {
     "data": {
      "text/html": [
       "<div>\n",
       "<style scoped>\n",
       "    .dataframe tbody tr th:only-of-type {\n",
       "        vertical-align: middle;\n",
       "    }\n",
       "\n",
       "    .dataframe tbody tr th {\n",
       "        vertical-align: top;\n",
       "    }\n",
       "\n",
       "    .dataframe thead th {\n",
       "        text-align: right;\n",
       "    }\n",
       "</style>\n",
       "<table border=\"1\" class=\"dataframe\">\n",
       "  <thead>\n",
       "    <tr style=\"text-align: right;\">\n",
       "      <th></th>\n",
       "      <th>Regionname</th>\n",
       "      <th>Type</th>\n",
       "      <th>Rooms</th>\n",
       "      <th>Bathroom</th>\n",
       "      <th>Landsize</th>\n",
       "      <th>Price</th>\n",
       "    </tr>\n",
       "  </thead>\n",
       "  <tbody>\n",
       "    <tr>\n",
       "      <th>0</th>\n",
       "      <td>Northern Metropolitan</td>\n",
       "      <td>h</td>\n",
       "      <td>2</td>\n",
       "      <td>1.0</td>\n",
       "      <td>202.0</td>\n",
       "      <td>1480000.0</td>\n",
       "    </tr>\n",
       "    <tr>\n",
       "      <th>1</th>\n",
       "      <td>Northern Metropolitan</td>\n",
       "      <td>h</td>\n",
       "      <td>2</td>\n",
       "      <td>1.0</td>\n",
       "      <td>156.0</td>\n",
       "      <td>1035000.0</td>\n",
       "    </tr>\n",
       "    <tr>\n",
       "      <th>2</th>\n",
       "      <td>Northern Metropolitan</td>\n",
       "      <td>h</td>\n",
       "      <td>3</td>\n",
       "      <td>2.0</td>\n",
       "      <td>134.0</td>\n",
       "      <td>1465000.0</td>\n",
       "    </tr>\n",
       "    <tr>\n",
       "      <th>3</th>\n",
       "      <td>Northern Metropolitan</td>\n",
       "      <td>h</td>\n",
       "      <td>3</td>\n",
       "      <td>2.0</td>\n",
       "      <td>94.0</td>\n",
       "      <td>850000.0</td>\n",
       "    </tr>\n",
       "    <tr>\n",
       "      <th>4</th>\n",
       "      <td>Northern Metropolitan</td>\n",
       "      <td>h</td>\n",
       "      <td>4</td>\n",
       "      <td>1.0</td>\n",
       "      <td>120.0</td>\n",
       "      <td>1600000.0</td>\n",
       "    </tr>\n",
       "  </tbody>\n",
       "</table>\n",
       "</div>"
      ],
      "text/plain": [
       "              Regionname Type  Rooms  Bathroom  Landsize      Price\n",
       "0  Northern Metropolitan    h      2       1.0     202.0  1480000.0\n",
       "1  Northern Metropolitan    h      2       1.0     156.0  1035000.0\n",
       "2  Northern Metropolitan    h      3       2.0     134.0  1465000.0\n",
       "3  Northern Metropolitan    h      3       2.0      94.0   850000.0\n",
       "4  Northern Metropolitan    h      4       1.0     120.0  1600000.0"
      ]
     },
     "execution_count": 6,
     "metadata": {},
     "output_type": "execute_result"
    }
   ],
   "source": [
    "df.head()"
   ]
  },
  {
   "cell_type": "code",
   "execution_count": 7,
   "id": "9f4610b4",
   "metadata": {},
   "outputs": [
    {
     "data": {
      "text/plain": [
       "Regionname       8\n",
       "Type             3\n",
       "Rooms            9\n",
       "Bathroom         9\n",
       "Landsize      1448\n",
       "Price         2204\n",
       "dtype: int64"
      ]
     },
     "execution_count": 7,
     "metadata": {},
     "output_type": "execute_result"
    }
   ],
   "source": [
    "df.nunique()"
   ]
  },
  {
   "cell_type": "markdown",
   "id": "2201e838",
   "metadata": {},
   "source": [
    "# 지역에 따른 집값 차이가 유의미한가?"
   ]
  },
  {
   "cell_type": "code",
   "execution_count": 8,
   "id": "e652a97b",
   "metadata": {},
   "outputs": [
    {
     "data": {
      "text/plain": [
       "array(['Northern Metropolitan', 'Western Metropolitan',\n",
       "       'Southern Metropolitan', 'Eastern Metropolitan',\n",
       "       'South-Eastern Metropolitan', 'Eastern Victoria',\n",
       "       'Northern Victoria', 'Western Victoria'], dtype=object)"
      ]
     },
     "execution_count": 8,
     "metadata": {},
     "output_type": "execute_result"
    }
   ],
   "source": [
    "df['Regionname'].unique()"
   ]
  },
  {
   "cell_type": "code",
   "execution_count": 9,
   "id": "39561bfb",
   "metadata": {
    "scrolled": true
   },
   "outputs": [
    {
     "name": "stderr",
     "output_type": "stream",
     "text": [
      "/var/folders/qw/j72d9nwn5dq0vxtqtw2bbtnh0000gp/T/ipykernel_18735/4227768033.py:3: SettingWithCopyWarning: \n",
      "A value is trying to be set on a copy of a slice from a DataFrame.\n",
      "Try using .loc[row_indexer,col_indexer] = value instead\n",
      "\n",
      "See the caveats in the documentation: https://pandas.pydata.org/pandas-docs/stable/user_guide/indexing.html#returning-a-view-versus-a-copy\n",
      "  df[['Direction', 'Region']] = df['Regionname'].str.split(' ', n = 2, expand=True)\n",
      "/var/folders/qw/j72d9nwn5dq0vxtqtw2bbtnh0000gp/T/ipykernel_18735/4227768033.py:3: SettingWithCopyWarning: \n",
      "A value is trying to be set on a copy of a slice from a DataFrame.\n",
      "Try using .loc[row_indexer,col_indexer] = value instead\n",
      "\n",
      "See the caveats in the documentation: https://pandas.pydata.org/pandas-docs/stable/user_guide/indexing.html#returning-a-view-versus-a-copy\n",
      "  df[['Direction', 'Region']] = df['Regionname'].str.split(' ', n = 2, expand=True)\n"
     ]
    },
    {
     "data": {
      "text/html": [
       "<div>\n",
       "<style scoped>\n",
       "    .dataframe tbody tr th:only-of-type {\n",
       "        vertical-align: middle;\n",
       "    }\n",
       "\n",
       "    .dataframe tbody tr th {\n",
       "        vertical-align: top;\n",
       "    }\n",
       "\n",
       "    .dataframe thead th {\n",
       "        text-align: right;\n",
       "    }\n",
       "</style>\n",
       "<table border=\"1\" class=\"dataframe\">\n",
       "  <thead>\n",
       "    <tr style=\"text-align: right;\">\n",
       "      <th></th>\n",
       "      <th>Regionname</th>\n",
       "      <th>Type</th>\n",
       "      <th>Rooms</th>\n",
       "      <th>Bathroom</th>\n",
       "      <th>Landsize</th>\n",
       "      <th>Price</th>\n",
       "      <th>Direction</th>\n",
       "      <th>Region</th>\n",
       "    </tr>\n",
       "  </thead>\n",
       "  <tbody>\n",
       "    <tr>\n",
       "      <th>0</th>\n",
       "      <td>Northern Metropolitan</td>\n",
       "      <td>h</td>\n",
       "      <td>2</td>\n",
       "      <td>1.0</td>\n",
       "      <td>202.0</td>\n",
       "      <td>1480000.0</td>\n",
       "      <td>Northern</td>\n",
       "      <td>Metropolitan</td>\n",
       "    </tr>\n",
       "    <tr>\n",
       "      <th>1</th>\n",
       "      <td>Northern Metropolitan</td>\n",
       "      <td>h</td>\n",
       "      <td>2</td>\n",
       "      <td>1.0</td>\n",
       "      <td>156.0</td>\n",
       "      <td>1035000.0</td>\n",
       "      <td>Northern</td>\n",
       "      <td>Metropolitan</td>\n",
       "    </tr>\n",
       "    <tr>\n",
       "      <th>2</th>\n",
       "      <td>Northern Metropolitan</td>\n",
       "      <td>h</td>\n",
       "      <td>3</td>\n",
       "      <td>2.0</td>\n",
       "      <td>134.0</td>\n",
       "      <td>1465000.0</td>\n",
       "      <td>Northern</td>\n",
       "      <td>Metropolitan</td>\n",
       "    </tr>\n",
       "    <tr>\n",
       "      <th>3</th>\n",
       "      <td>Northern Metropolitan</td>\n",
       "      <td>h</td>\n",
       "      <td>3</td>\n",
       "      <td>2.0</td>\n",
       "      <td>94.0</td>\n",
       "      <td>850000.0</td>\n",
       "      <td>Northern</td>\n",
       "      <td>Metropolitan</td>\n",
       "    </tr>\n",
       "    <tr>\n",
       "      <th>4</th>\n",
       "      <td>Northern Metropolitan</td>\n",
       "      <td>h</td>\n",
       "      <td>4</td>\n",
       "      <td>1.0</td>\n",
       "      <td>120.0</td>\n",
       "      <td>1600000.0</td>\n",
       "      <td>Northern</td>\n",
       "      <td>Metropolitan</td>\n",
       "    </tr>\n",
       "  </tbody>\n",
       "</table>\n",
       "</div>"
      ],
      "text/plain": [
       "              Regionname Type  Rooms  Bathroom  Landsize      Price Direction  \\\n",
       "0  Northern Metropolitan    h      2       1.0     202.0  1480000.0  Northern   \n",
       "1  Northern Metropolitan    h      2       1.0     156.0  1035000.0  Northern   \n",
       "2  Northern Metropolitan    h      3       2.0     134.0  1465000.0  Northern   \n",
       "3  Northern Metropolitan    h      3       2.0      94.0   850000.0  Northern   \n",
       "4  Northern Metropolitan    h      4       1.0     120.0  1600000.0  Northern   \n",
       "\n",
       "         Region  \n",
       "0  Metropolitan  \n",
       "1  Metropolitan  \n",
       "2  Metropolitan  \n",
       "3  Metropolitan  \n",
       "4  Metropolitan  "
      ]
     },
     "execution_count": 9,
     "metadata": {},
     "output_type": "execute_result"
    }
   ],
   "source": [
    "# Metropolitan 과 Victoria 로 나누어본다.\n",
    "\n",
    "df[['Direction', 'Region']] = df['Regionname'].str.split(' ', n = 2, expand=True)\n",
    "df.head()"
   ]
  },
  {
   "cell_type": "code",
   "execution_count": 10,
   "id": "44056656",
   "metadata": {},
   "outputs": [
    {
     "data": {
      "text/plain": [
       "Metropolitan    13454\n",
       "Victoria          126\n",
       "Name: Region, dtype: int64"
      ]
     },
     "execution_count": 10,
     "metadata": {},
     "output_type": "execute_result"
    }
   ],
   "source": [
    "df['Region'].value_counts()"
   ]
  },
  {
   "cell_type": "code",
   "execution_count": 11,
   "id": "503877d9",
   "metadata": {},
   "outputs": [
    {
     "data": {
      "text/plain": [
       "1080242.4607551657"
      ]
     },
     "execution_count": 11,
     "metadata": {},
     "output_type": "execute_result"
    }
   ],
   "source": [
    "df[df['Region'] == 'Metropolitan']['Price'].mean()"
   ]
  },
  {
   "cell_type": "code",
   "execution_count": 12,
   "id": "e6a07d5c",
   "metadata": {},
   "outputs": [
    {
     "data": {
      "text/plain": [
       "588950.253968254"
      ]
     },
     "execution_count": 12,
     "metadata": {},
     "output_type": "execute_result"
    }
   ],
   "source": [
    "df[df['Region'] == 'Victoria']['Price'].mean()"
   ]
  },
  {
   "cell_type": "markdown",
   "id": "60cecabb",
   "metadata": {},
   "source": [
    "차이가 꽤 존재한다. 거의 두 배 차이나는데 데이터 분석가로서, 다른 요인들을 먼저 분석해보려 한다."
   ]
  },
  {
   "cell_type": "code",
   "execution_count": 13,
   "id": "351508e2",
   "metadata": {},
   "outputs": [
    {
     "data": {
      "text/plain": [
       "array(['h', 'u', 't'], dtype=object)"
      ]
     },
     "execution_count": 13,
     "metadata": {},
     "output_type": "execute_result"
    }
   ],
   "source": [
    "df['Type'].unique()"
   ]
  },
  {
   "cell_type": "code",
   "execution_count": 14,
   "id": "e54a4586",
   "metadata": {},
   "outputs": [
    {
     "data": {
      "text/plain": [
       "h    9449\n",
       "u    3017\n",
       "t    1114\n",
       "Name: Type, dtype: int64"
      ]
     },
     "execution_count": 14,
     "metadata": {},
     "output_type": "execute_result"
    }
   ],
   "source": [
    "df['Type'].value_counts()"
   ]
  },
  {
   "cell_type": "code",
   "execution_count": 15,
   "id": "b924d505",
   "metadata": {},
   "outputs": [
    {
     "data": {
      "text/plain": [
       "1242664.761138745"
      ]
     },
     "execution_count": 15,
     "metadata": {},
     "output_type": "execute_result"
    }
   ],
   "source": [
    "df[df['Type'] == 'h']['Price'].mean()"
   ]
  },
  {
   "cell_type": "code",
   "execution_count": 16,
   "id": "56cb0871",
   "metadata": {},
   "outputs": [
    {
     "data": {
      "text/plain": [
       "605127.4845873384"
      ]
     },
     "execution_count": 16,
     "metadata": {},
     "output_type": "execute_result"
    }
   ],
   "source": [
    "df[df['Type'] == 'u']['Price'].mean()"
   ]
  },
  {
   "cell_type": "code",
   "execution_count": 17,
   "id": "e5350593",
   "metadata": {},
   "outputs": [
    {
     "data": {
      "text/plain": [
       "933735.0538599641"
      ]
     },
     "execution_count": 17,
     "metadata": {},
     "output_type": "execute_result"
    }
   ],
   "source": [
    "df[df['Type'] == 't']['Price'].mean()"
   ]
  },
  {
   "cell_type": "markdown",
   "id": "5d8fad5b",
   "metadata": {},
   "source": [
    "Metropolitan  집값이 훨씬 비싸고, 하우스 타입이 h가 비싼 편인 것으로 나타났다. \n",
    "\n",
    "Metropolitan 에 h 유형이 많은가?"
   ]
  },
  {
   "cell_type": "code",
   "execution_count": 18,
   "id": "2fa1d418",
   "metadata": {},
   "outputs": [],
   "source": [
    "df_h = df[df['Type'] =='h'][['Region', 'Price']]"
   ]
  },
  {
   "cell_type": "code",
   "execution_count": 19,
   "id": "d133e526",
   "metadata": {},
   "outputs": [
    {
     "data": {
      "text/plain": [
       "Metropolitan    9326\n",
       "Victoria         123\n",
       "Name: Region, dtype: int64"
      ]
     },
     "execution_count": 19,
     "metadata": {},
     "output_type": "execute_result"
    }
   ],
   "source": [
    "df_h['Region'].value_counts()"
   ]
  },
  {
   "cell_type": "markdown",
   "id": "78169a01",
   "metadata": {},
   "source": [
    "재미있는건 h타입에 Victoria 지역의 집이 많다.  \n",
    "\n",
    "126개 중 123개가 있다고? 그렇다면 각각의 평균 가격은?"
   ]
  },
  {
   "cell_type": "code",
   "execution_count": 20,
   "id": "6dd5e8ea",
   "metadata": {},
   "outputs": [
    {
     "data": {
      "text/html": [
       "<div>\n",
       "<style scoped>\n",
       "    .dataframe tbody tr th:only-of-type {\n",
       "        vertical-align: middle;\n",
       "    }\n",
       "\n",
       "    .dataframe tbody tr th {\n",
       "        vertical-align: top;\n",
       "    }\n",
       "\n",
       "    .dataframe thead th {\n",
       "        text-align: right;\n",
       "    }\n",
       "</style>\n",
       "<table border=\"1\" class=\"dataframe\">\n",
       "  <thead>\n",
       "    <tr style=\"text-align: right;\">\n",
       "      <th>Type</th>\n",
       "      <th>h</th>\n",
       "      <th>t</th>\n",
       "      <th>u</th>\n",
       "    </tr>\n",
       "    <tr>\n",
       "      <th>Region</th>\n",
       "      <th></th>\n",
       "      <th></th>\n",
       "      <th></th>\n",
       "    </tr>\n",
       "  </thead>\n",
       "  <tbody>\n",
       "    <tr>\n",
       "      <th>Metropolitan</th>\n",
       "      <td>1251245.51</td>\n",
       "      <td>933735.05</td>\n",
       "      <td>605270.61</td>\n",
       "    </tr>\n",
       "    <tr>\n",
       "      <th>Victoria</th>\n",
       "      <td>592062.86</td>\n",
       "      <td>NaN</td>\n",
       "      <td>461333.33</td>\n",
       "    </tr>\n",
       "  </tbody>\n",
       "</table>\n",
       "</div>"
      ],
      "text/plain": [
       "Type                  h         t         u\n",
       "Region                                     \n",
       "Metropolitan 1251245.51 933735.05 605270.61\n",
       "Victoria      592062.86       NaN 461333.33"
      ]
     },
     "execution_count": 20,
     "metadata": {},
     "output_type": "execute_result"
    }
   ],
   "source": [
    "# 소수점 아래 2까지만 보이도록 한다\n",
    "\n",
    "pd.options.display.float_format = '{:.2f}'.format\n",
    "pd.crosstab(index = df['Region'], columns = df['Type'], values = df['Price'], aggfunc = 'mean' )"
   ]
  },
  {
   "cell_type": "markdown",
   "id": "a8f9553b",
   "metadata": {},
   "source": [
    "빅토리아에는 t타입이 아예 없는 것으로 나타났다.\n",
    "\n",
    "이렇게만 보면 가격차가 나는 것처럼 보인다. \n",
    "\n",
    "지역 지도 한번 안보고 바로 분석을 시작한다니 좀 억지이긴 하지만, 지금 해보고 싶은건 순열검정이기 때문에, h타입만 가지고 할 것이며,\n",
    "\n",
    "어느 정도 공정한 분석을 위해 집 크기를 고려하여 Victoria 에서의 가장 큰집 이상을 벗어나는 집은 Metropolitan에서 제거하도록 한다."
   ]
  },
  {
   "cell_type": "code",
   "execution_count": 21,
   "id": "ca9af9b4",
   "metadata": {},
   "outputs": [
    {
     "data": {
      "text/plain": [
       "<AxesSubplot:xlabel='Region', ylabel='Landsize'>"
      ]
     },
     "execution_count": 21,
     "metadata": {},
     "output_type": "execute_result"
    },
    {
     "data": {
      "image/png": "[encoded data removed]",
      "text/plain": [
       "<Figure size 432x288 with 1 Axes>"
      ]
     },
     "metadata": {
      "needs_background": "light"
     },
     "output_type": "display_data"
    }
   ],
   "source": [
    "# 면적 분포\n",
    "\n",
    "sns.boxplot(data = df, x = 'Region', y = 'Landsize')"
   ]
  },
  {
   "cell_type": "markdown",
   "id": "a06f43cf",
   "metadata": {},
   "source": [
    "이런이런 심각한 아기고양이가 있었네 지웁니다."
   ]
  },
  {
   "cell_type": "code",
   "execution_count": 22,
   "id": "2bf8bcaa",
   "metadata": {},
   "outputs": [
    {
     "data": {
      "text/html": [
       "<div>\n",
       "<style scoped>\n",
       "    .dataframe tbody tr th:only-of-type {\n",
       "        vertical-align: middle;\n",
       "    }\n",
       "\n",
       "    .dataframe tbody tr th {\n",
       "        vertical-align: top;\n",
       "    }\n",
       "\n",
       "    .dataframe thead th {\n",
       "        text-align: right;\n",
       "    }\n",
       "</style>\n",
       "<table border=\"1\" class=\"dataframe\">\n",
       "  <thead>\n",
       "    <tr style=\"text-align: right;\">\n",
       "      <th></th>\n",
       "      <th>Regionname</th>\n",
       "      <th>Type</th>\n",
       "      <th>Rooms</th>\n",
       "      <th>Bathroom</th>\n",
       "      <th>Landsize</th>\n",
       "      <th>Price</th>\n",
       "      <th>Direction</th>\n",
       "      <th>Region</th>\n",
       "    </tr>\n",
       "  </thead>\n",
       "  <tbody>\n",
       "    <tr>\n",
       "      <th>11020</th>\n",
       "      <td>Northern Metropolitan</td>\n",
       "      <td>h</td>\n",
       "      <td>3</td>\n",
       "      <td>3.00</td>\n",
       "      <td>433014.00</td>\n",
       "      <td>2700000.00</td>\n",
       "      <td>Northern</td>\n",
       "      <td>Metropolitan</td>\n",
       "    </tr>\n",
       "    <tr>\n",
       "      <th>687</th>\n",
       "      <td>Southern Metropolitan</td>\n",
       "      <td>h</td>\n",
       "      <td>3</td>\n",
       "      <td>1.00</td>\n",
       "      <td>75100.00</td>\n",
       "      <td>2000000.00</td>\n",
       "      <td>Southern</td>\n",
       "      <td>Metropolitan</td>\n",
       "    </tr>\n",
       "    <tr>\n",
       "      <th>5194</th>\n",
       "      <td>Northern Metropolitan</td>\n",
       "      <td>h</td>\n",
       "      <td>3</td>\n",
       "      <td>1.00</td>\n",
       "      <td>41400.00</td>\n",
       "      <td>572000.00</td>\n",
       "      <td>Northern</td>\n",
       "      <td>Metropolitan</td>\n",
       "    </tr>\n",
       "    <tr>\n",
       "      <th>9223</th>\n",
       "      <td>Western Metropolitan</td>\n",
       "      <td>u</td>\n",
       "      <td>2</td>\n",
       "      <td>2.00</td>\n",
       "      <td>37000.00</td>\n",
       "      <td>585000.00</td>\n",
       "      <td>Western</td>\n",
       "      <td>Metropolitan</td>\n",
       "    </tr>\n",
       "    <tr>\n",
       "      <th>3942</th>\n",
       "      <td>Western Metropolitan</td>\n",
       "      <td>u</td>\n",
       "      <td>2</td>\n",
       "      <td>2.00</td>\n",
       "      <td>37000.00</td>\n",
       "      <td>495000.00</td>\n",
       "      <td>Western</td>\n",
       "      <td>Metropolitan</td>\n",
       "    </tr>\n",
       "  </tbody>\n",
       "</table>\n",
       "</div>"
      ],
      "text/plain": [
       "                  Regionname Type  Rooms  Bathroom  Landsize      Price  \\\n",
       "11020  Northern Metropolitan    h      3      3.00 433014.00 2700000.00   \n",
       "687    Southern Metropolitan    h      3      1.00  75100.00 2000000.00   \n",
       "5194   Northern Metropolitan    h      3      1.00  41400.00  572000.00   \n",
       "9223    Western Metropolitan    u      2      2.00  37000.00  585000.00   \n",
       "3942    Western Metropolitan    u      2      2.00  37000.00  495000.00   \n",
       "\n",
       "      Direction        Region  \n",
       "11020  Northern  Metropolitan  \n",
       "687    Southern  Metropolitan  \n",
       "5194   Northern  Metropolitan  \n",
       "9223    Western  Metropolitan  \n",
       "3942    Western  Metropolitan  "
      ]
     },
     "execution_count": 22,
     "metadata": {},
     "output_type": "execute_result"
    }
   ],
   "source": [
    "df[df['Region'] == 'Metropolitan'].sort_values(by = 'Landsize', ascending = False).head()"
   ]
  },
  {
   "cell_type": "markdown",
   "id": "fb68617d",
   "metadata": {},
   "source": [
    "숫자로도 자릿수가 다를 만큼 확연하게 큰 저 값은 지우도록 합니다."
   ]
  },
  {
   "cell_type": "code",
   "execution_count": 23,
   "id": "a5f4e0d7",
   "metadata": {},
   "outputs": [],
   "source": [
    "df = df.drop(index = 11020, axis=0)"
   ]
  },
  {
   "cell_type": "code",
   "execution_count": 30,
   "id": "ecafeae5",
   "metadata": {},
   "outputs": [
    {
     "data": {
      "text/plain": [
       "<AxesSubplot:xlabel='Region', ylabel='Landsize'>"
      ]
     },
     "execution_count": 30,
     "metadata": {},
     "output_type": "execute_result"
    },
    {
     "data": {
      "image/png": "[encoded data removed]",
      "text/plain": [
       "<Figure size 432x288 with 1 Axes>"
      ]
     },
     "metadata": {
      "needs_background": "light"
     },
     "output_type": "display_data"
    }
   ],
   "source": [
    "# 면적 분포 다시 확인\n",
    "\n",
    "sns.boxplot(data = df, x = 'Region', y = 'Landsize')"
   ]
  },
  {
   "cell_type": "markdown",
   "id": "4eaf2d7d",
   "metadata": {},
   "source": [
    "다시 분포가 달라지긴 했지만, 보려는것은 가격입니다.\n",
    "\n",
    "마찬가지로 가격을 볼 것이기 때문에 가격도 한 번 더 거르기로 합니다."
   ]
  },
  {
   "cell_type": "code",
   "execution_count": 24,
   "id": "0f713961",
   "metadata": {},
   "outputs": [
    {
     "data": {
      "text/plain": [
       "<AxesSubplot:xlabel='Region', ylabel='Price'>"
      ]
     },
     "execution_count": 24,
     "metadata": {},
     "output_type": "execute_result"
    },
    {
     "data": {
      "image/png": "[encoded data removed]",
      "text/plain": [
       "<Figure size 432x288 with 1 Axes>"
      ]
     },
     "metadata": {
      "needs_background": "light"
     },
     "output_type": "display_data"
    }
   ],
   "source": [
    "# 가격 분포\n",
    "\n",
    "sns.boxplot(data = df, x = 'Region', y = 'Price')"
   ]
  },
  {
   "cell_type": "code",
   "execution_count": 27,
   "id": "b28a65a1",
   "metadata": {},
   "outputs": [
    {
     "data": {
      "text/plain": [
       "<AxesSubplot:xlabel='Region', ylabel='Price'>"
      ]
     },
     "execution_count": 27,
     "metadata": {},
     "output_type": "execute_result"
    },
    {
     "data": {
      "image/png": "[encoded data removed]",
      "text/plain": [
       "<Figure size 432x288 with 1 Axes>"
      ]
     },
     "metadata": {
      "needs_background": "light"
     },
     "output_type": "display_data"
    }
   ],
   "source": [
    "sns.boxplot(data = df, x = 'Region', y = 'Price', hue = 'Type')"
   ]
  },
  {
   "cell_type": "markdown",
   "id": "a5c522fc",
   "metadata": {},
   "source": [
    "메트로폴리탄 내에서도 차이가 많이 나는 값들이 있습니다. 지우고 나면 그래도 어느정도 빅토리아와 차이가 덜 할 것으로 보입니다. (빅토리아의 최소값은 메트로폴리탄보다 높음) 이들을 지우도록 하려고 합니다.\n",
    "\n",
    "h타입만 분석을 진행할 것이므로 이들만 데려옵니다."
   ]
  },
  {
   "cell_type": "code",
   "execution_count": 28,
   "id": "0f22d21f",
   "metadata": {},
   "outputs": [],
   "source": [
    "df_h = df[df['Type'] == 'h']"
   ]
  },
  {
   "cell_type": "code",
   "execution_count": 31,
   "id": "071f7d31",
   "metadata": {},
   "outputs": [],
   "source": [
    "Met_price = df_h[df_h['Region'] == 'Metropolitan']['Price']"
   ]
  },
  {
   "cell_type": "code",
   "execution_count": 33,
   "id": "9847a89c",
   "metadata": {},
   "outputs": [
    {
     "data": {
      "text/plain": [
       "2555000.0"
      ]
     },
     "execution_count": 33,
     "metadata": {},
     "output_type": "execute_result"
    }
   ],
   "source": [
    "# 3/4 지점의 값 + 1.5 * 사분위수 범위\n",
    "\n",
    "Metro_price_anormaly = Met_price.quantile(0.75) + (Met_price.quantile(0.75) - Met_price.quantile(0.25)) *1.5\n",
    "Metro_price_anormaly"
   ]
  },
  {
   "cell_type": "markdown",
   "id": "d8ba27ca",
   "metadata": {},
   "source": [
    "2555000 을 기준으로 나머지 메트로폴리탄 값들을 지웁니다."
   ]
  },
  {
   "cell_type": "code",
   "execution_count": 35,
   "id": "035cfe14",
   "metadata": {},
   "outputs": [
    {
     "name": "stderr",
     "output_type": "stream",
     "text": [
      "/var/folders/qw/j72d9nwn5dq0vxtqtw2bbtnh0000gp/T/ipykernel_18735/3388185592.py:1: SettingWithCopyWarning: \n",
      "A value is trying to be set on a copy of a slice from a DataFrame\n",
      "\n",
      "See the caveats in the documentation: https://pandas.pydata.org/pandas-docs/stable/user_guide/indexing.html#returning-a-view-versus-a-copy\n",
      "  df_h.drop(df_h.loc[df['Price'] > Metro_price_anormaly ].index, inplace=True)\n"
     ]
    }
   ],
   "source": [
    "df_h.drop(df_h.loc[df['Price'] > Metro_price_anormaly ].index, inplace=True)"
   ]
  },
  {
   "cell_type": "code",
   "execution_count": 37,
   "id": "aa1aa5f9",
   "metadata": {},
   "outputs": [
    {
     "data": {
      "text/plain": [
       "Metropolitan    8893\n",
       "Victoria         123\n",
       "Name: Region, dtype: int64"
      ]
     },
     "execution_count": 37,
     "metadata": {},
     "output_type": "execute_result"
    }
   ],
   "source": [
    "df_h['Region'].value_counts()"
   ]
  },
  {
   "cell_type": "code",
   "execution_count": 38,
   "id": "b8318f2f",
   "metadata": {},
   "outputs": [],
   "source": [
    "warnings.filterwarnings(action='ignore')"
   ]
  },
  {
   "cell_type": "markdown",
   "id": "62417acb",
   "metadata": {},
   "source": [
    "```\n",
    "Metropolitan    9326\n",
    "Victoria         123\n",
    "```\n",
    "에서\n",
    "```\n",
    "Metropolitan    8893\n",
    "Victoria         123\n",
    "```\n",
    "로 일부 줄어들었다.\n",
    "\n",
    "랜덤하게 Metropolitan에서 Victoria의 열 배 만 뽑아보도록 해보겠다. 갑자기 말투 무엇."
   ]
  },
  {
   "cell_type": "code",
   "execution_count": 41,
   "id": "e99c9ff4",
   "metadata": {
    "scrolled": true
   },
   "outputs": [
    {
     "data": {
      "text/html": [
       "<div>\n",
       "<style scoped>\n",
       "    .dataframe tbody tr th:only-of-type {\n",
       "        vertical-align: middle;\n",
       "    }\n",
       "\n",
       "    .dataframe tbody tr th {\n",
       "        vertical-align: top;\n",
       "    }\n",
       "\n",
       "    .dataframe thead th {\n",
       "        text-align: right;\n",
       "    }\n",
       "</style>\n",
       "<table border=\"1\" class=\"dataframe\">\n",
       "  <thead>\n",
       "    <tr style=\"text-align: right;\">\n",
       "      <th></th>\n",
       "      <th>Regionname</th>\n",
       "      <th>Type</th>\n",
       "      <th>Rooms</th>\n",
       "      <th>Bathroom</th>\n",
       "      <th>Landsize</th>\n",
       "      <th>Price</th>\n",
       "      <th>Direction</th>\n",
       "      <th>Region</th>\n",
       "    </tr>\n",
       "  </thead>\n",
       "  <tbody>\n",
       "    <tr>\n",
       "      <th>1090</th>\n",
       "      <td>Southern Metropolitan</td>\n",
       "      <td>h</td>\n",
       "      <td>2</td>\n",
       "      <td>1.00</td>\n",
       "      <td>318.00</td>\n",
       "      <td>1102000.00</td>\n",
       "      <td>Southern</td>\n",
       "      <td>Metropolitan</td>\n",
       "    </tr>\n",
       "    <tr>\n",
       "      <th>9203</th>\n",
       "      <td>Western Metropolitan</td>\n",
       "      <td>h</td>\n",
       "      <td>3</td>\n",
       "      <td>1.00</td>\n",
       "      <td>647.00</td>\n",
       "      <td>670000.00</td>\n",
       "      <td>Western</td>\n",
       "      <td>Metropolitan</td>\n",
       "    </tr>\n",
       "    <tr>\n",
       "      <th>7238</th>\n",
       "      <td>Western Metropolitan</td>\n",
       "      <td>h</td>\n",
       "      <td>3</td>\n",
       "      <td>1.00</td>\n",
       "      <td>347.00</td>\n",
       "      <td>967000.00</td>\n",
       "      <td>Western</td>\n",
       "      <td>Metropolitan</td>\n",
       "    </tr>\n",
       "    <tr>\n",
       "      <th>727</th>\n",
       "      <td>Southern Metropolitan</td>\n",
       "      <td>h</td>\n",
       "      <td>4</td>\n",
       "      <td>2.00</td>\n",
       "      <td>902.00</td>\n",
       "      <td>1815000.00</td>\n",
       "      <td>Southern</td>\n",
       "      <td>Metropolitan</td>\n",
       "    </tr>\n",
       "    <tr>\n",
       "      <th>4999</th>\n",
       "      <td>Northern Metropolitan</td>\n",
       "      <td>h</td>\n",
       "      <td>2</td>\n",
       "      <td>2.00</td>\n",
       "      <td>415.00</td>\n",
       "      <td>860000.00</td>\n",
       "      <td>Northern</td>\n",
       "      <td>Metropolitan</td>\n",
       "    </tr>\n",
       "  </tbody>\n",
       "</table>\n",
       "</div>"
      ],
      "text/plain": [
       "                 Regionname Type  Rooms  Bathroom  Landsize      Price  \\\n",
       "1090  Southern Metropolitan    h      2      1.00    318.00 1102000.00   \n",
       "9203   Western Metropolitan    h      3      1.00    647.00  670000.00   \n",
       "7238   Western Metropolitan    h      3      1.00    347.00  967000.00   \n",
       "727   Southern Metropolitan    h      4      2.00    902.00 1815000.00   \n",
       "4999  Northern Metropolitan    h      2      2.00    415.00  860000.00   \n",
       "\n",
       "     Direction        Region  \n",
       "1090  Southern  Metropolitan  \n",
       "9203   Western  Metropolitan  \n",
       "7238   Western  Metropolitan  \n",
       "727   Southern  Metropolitan  \n",
       "4999  Northern  Metropolitan  "
      ]
     },
     "execution_count": 41,
     "metadata": {},
     "output_type": "execute_result"
    }
   ],
   "source": [
    "sample_df_M = df_h[df_h['Region'] == 'Metropolitan'].sample(1230)\n",
    "sample_df_M.head()"
   ]
  },
  {
   "cell_type": "code",
   "execution_count": 42,
   "id": "95cd03b8",
   "metadata": {},
   "outputs": [
    {
     "data": {
      "text/html": [
       "<div>\n",
       "<style scoped>\n",
       "    .dataframe tbody tr th:only-of-type {\n",
       "        vertical-align: middle;\n",
       "    }\n",
       "\n",
       "    .dataframe tbody tr th {\n",
       "        vertical-align: top;\n",
       "    }\n",
       "\n",
       "    .dataframe thead th {\n",
       "        text-align: right;\n",
       "    }\n",
       "</style>\n",
       "<table border=\"1\" class=\"dataframe\">\n",
       "  <thead>\n",
       "    <tr style=\"text-align: right;\">\n",
       "      <th></th>\n",
       "      <th>Regionname</th>\n",
       "      <th>Type</th>\n",
       "      <th>Rooms</th>\n",
       "      <th>Bathroom</th>\n",
       "      <th>Landsize</th>\n",
       "      <th>Price</th>\n",
       "      <th>Direction</th>\n",
       "      <th>Region</th>\n",
       "    </tr>\n",
       "  </thead>\n",
       "  <tbody>\n",
       "    <tr>\n",
       "      <th>8741</th>\n",
       "      <td>Eastern Victoria</td>\n",
       "      <td>h</td>\n",
       "      <td>4</td>\n",
       "      <td>2.00</td>\n",
       "      <td>687.00</td>\n",
       "      <td>627500.00</td>\n",
       "      <td>Eastern</td>\n",
       "      <td>Victoria</td>\n",
       "    </tr>\n",
       "    <tr>\n",
       "      <th>8789</th>\n",
       "      <td>Northern Victoria</td>\n",
       "      <td>h</td>\n",
       "      <td>2</td>\n",
       "      <td>1.00</td>\n",
       "      <td>610.00</td>\n",
       "      <td>621000.00</td>\n",
       "      <td>Northern</td>\n",
       "      <td>Victoria</td>\n",
       "    </tr>\n",
       "    <tr>\n",
       "      <th>8794</th>\n",
       "      <td>Northern Victoria</td>\n",
       "      <td>h</td>\n",
       "      <td>3</td>\n",
       "      <td>2.00</td>\n",
       "      <td>400.00</td>\n",
       "      <td>530500.00</td>\n",
       "      <td>Northern</td>\n",
       "      <td>Victoria</td>\n",
       "    </tr>\n",
       "    <tr>\n",
       "      <th>8815</th>\n",
       "      <td>Eastern Victoria</td>\n",
       "      <td>h</td>\n",
       "      <td>3</td>\n",
       "      <td>2.00</td>\n",
       "      <td>691.00</td>\n",
       "      <td>611000.00</td>\n",
       "      <td>Eastern</td>\n",
       "      <td>Victoria</td>\n",
       "    </tr>\n",
       "    <tr>\n",
       "      <th>8817</th>\n",
       "      <td>Northern Victoria</td>\n",
       "      <td>h</td>\n",
       "      <td>4</td>\n",
       "      <td>2.00</td>\n",
       "      <td>978.00</td>\n",
       "      <td>521000.00</td>\n",
       "      <td>Northern</td>\n",
       "      <td>Victoria</td>\n",
       "    </tr>\n",
       "  </tbody>\n",
       "</table>\n",
       "</div>"
      ],
      "text/plain": [
       "             Regionname Type  Rooms  Bathroom  Landsize     Price Direction  \\\n",
       "8741   Eastern Victoria    h      4      2.00    687.00 627500.00   Eastern   \n",
       "8789  Northern Victoria    h      2      1.00    610.00 621000.00  Northern   \n",
       "8794  Northern Victoria    h      3      2.00    400.00 530500.00  Northern   \n",
       "8815   Eastern Victoria    h      3      2.00    691.00 611000.00   Eastern   \n",
       "8817  Northern Victoria    h      4      2.00    978.00 521000.00  Northern   \n",
       "\n",
       "        Region  \n",
       "8741  Victoria  \n",
       "8789  Victoria  \n",
       "8794  Victoria  \n",
       "8815  Victoria  \n",
       "8817  Victoria  "
      ]
     },
     "execution_count": 42,
     "metadata": {},
     "output_type": "execute_result"
    }
   ],
   "source": [
    "sample_df_V = df_h[df_h['Region'] == 'Victoria']\n",
    "sample_df_V.head()"
   ]
  },
  {
   "cell_type": "code",
   "execution_count": 44,
   "id": "033e75f0",
   "metadata": {},
   "outputs": [
    {
     "data": {
      "text/html": [
       "<div>\n",
       "<style scoped>\n",
       "    .dataframe tbody tr th:only-of-type {\n",
       "        vertical-align: middle;\n",
       "    }\n",
       "\n",
       "    .dataframe tbody tr th {\n",
       "        vertical-align: top;\n",
       "    }\n",
       "\n",
       "    .dataframe thead th {\n",
       "        text-align: right;\n",
       "    }\n",
       "</style>\n",
       "<table border=\"1\" class=\"dataframe\">\n",
       "  <thead>\n",
       "    <tr style=\"text-align: right;\">\n",
       "      <th></th>\n",
       "      <th>Regionname</th>\n",
       "      <th>Type</th>\n",
       "      <th>Rooms</th>\n",
       "      <th>Bathroom</th>\n",
       "      <th>Landsize</th>\n",
       "      <th>Price</th>\n",
       "      <th>Direction</th>\n",
       "      <th>Region</th>\n",
       "    </tr>\n",
       "  </thead>\n",
       "  <tbody>\n",
       "    <tr>\n",
       "      <th>1090</th>\n",
       "      <td>Southern Metropolitan</td>\n",
       "      <td>h</td>\n",
       "      <td>2</td>\n",
       "      <td>1.00</td>\n",
       "      <td>318.00</td>\n",
       "      <td>1102000.00</td>\n",
       "      <td>Southern</td>\n",
       "      <td>Metropolitan</td>\n",
       "    </tr>\n",
       "    <tr>\n",
       "      <th>9203</th>\n",
       "      <td>Western Metropolitan</td>\n",
       "      <td>h</td>\n",
       "      <td>3</td>\n",
       "      <td>1.00</td>\n",
       "      <td>647.00</td>\n",
       "      <td>670000.00</td>\n",
       "      <td>Western</td>\n",
       "      <td>Metropolitan</td>\n",
       "    </tr>\n",
       "    <tr>\n",
       "      <th>7238</th>\n",
       "      <td>Western Metropolitan</td>\n",
       "      <td>h</td>\n",
       "      <td>3</td>\n",
       "      <td>1.00</td>\n",
       "      <td>347.00</td>\n",
       "      <td>967000.00</td>\n",
       "      <td>Western</td>\n",
       "      <td>Metropolitan</td>\n",
       "    </tr>\n",
       "    <tr>\n",
       "      <th>727</th>\n",
       "      <td>Southern Metropolitan</td>\n",
       "      <td>h</td>\n",
       "      <td>4</td>\n",
       "      <td>2.00</td>\n",
       "      <td>902.00</td>\n",
       "      <td>1815000.00</td>\n",
       "      <td>Southern</td>\n",
       "      <td>Metropolitan</td>\n",
       "    </tr>\n",
       "    <tr>\n",
       "      <th>4999</th>\n",
       "      <td>Northern Metropolitan</td>\n",
       "      <td>h</td>\n",
       "      <td>2</td>\n",
       "      <td>2.00</td>\n",
       "      <td>415.00</td>\n",
       "      <td>860000.00</td>\n",
       "      <td>Northern</td>\n",
       "      <td>Metropolitan</td>\n",
       "    </tr>\n",
       "  </tbody>\n",
       "</table>\n",
       "</div>"
      ],
      "text/plain": [
       "                 Regionname Type  Rooms  Bathroom  Landsize      Price  \\\n",
       "1090  Southern Metropolitan    h      2      1.00    318.00 1102000.00   \n",
       "9203   Western Metropolitan    h      3      1.00    647.00  670000.00   \n",
       "7238   Western Metropolitan    h      3      1.00    347.00  967000.00   \n",
       "727   Southern Metropolitan    h      4      2.00    902.00 1815000.00   \n",
       "4999  Northern Metropolitan    h      2      2.00    415.00  860000.00   \n",
       "\n",
       "     Direction        Region  \n",
       "1090  Southern  Metropolitan  \n",
       "9203   Western  Metropolitan  \n",
       "7238   Western  Metropolitan  \n",
       "727   Southern  Metropolitan  \n",
       "4999  Northern  Metropolitan  "
      ]
     },
     "execution_count": 44,
     "metadata": {},
     "output_type": "execute_result"
    }
   ],
   "source": [
    "sample_df = pd.concat([sample_df_M, sample_df_V], axis = 0)\n",
    "sample_df.head()"
   ]
  },
  {
   "cell_type": "markdown",
   "id": "a50104e6",
   "metadata": {},
   "source": [
    "이제 sample_df를 가지고 함수를 이용하여 관찰된 차이를 구해보고자 한다.\n",
    "\n"
   ]
  },
  {
   "cell_type": "code",
   "execution_count": 45,
   "id": "cfbc5ab8",
   "metadata": {},
   "outputs": [],
   "source": [
    "def perm_fun(x, nA, nB):\n",
    "    n = nA + nB\n",
    "    idx_B = set(random.sample(range(n), nB))\n",
    "    idx_A = set(range(n)) - idx_B\n",
    "    return x.loc[idx_B].mean() - x.loc[idx_A].mean()"
   ]
  },
  {
   "cell_type": "code",
   "execution_count": 46,
   "id": "f056b227",
   "metadata": {},
   "outputs": [],
   "source": [
    "# 두 지역 개수 구하기\n",
    "\n",
    "nA = sample_df[sample_df['Region'] == 'Metropolitan'].shape[0]\n",
    "nB = sample_df[sample_df['Region'] == 'Victoria'].shape[0]"
   ]
  },
  {
   "cell_type": "code",
   "execution_count": 50,
   "id": "5c19eb6c",
   "metadata": {},
   "outputs": [
    {
     "data": {
      "text/html": [
       "<div>\n",
       "<style scoped>\n",
       "    .dataframe tbody tr th:only-of-type {\n",
       "        vertical-align: middle;\n",
       "    }\n",
       "\n",
       "    .dataframe tbody tr th {\n",
       "        vertical-align: top;\n",
       "    }\n",
       "\n",
       "    .dataframe thead th {\n",
       "        text-align: right;\n",
       "    }\n",
       "</style>\n",
       "<table border=\"1\" class=\"dataframe\">\n",
       "  <thead>\n",
       "    <tr style=\"text-align: right;\">\n",
       "      <th></th>\n",
       "      <th>Regionname</th>\n",
       "      <th>Type</th>\n",
       "      <th>Rooms</th>\n",
       "      <th>Bathroom</th>\n",
       "      <th>Landsize</th>\n",
       "      <th>Price</th>\n",
       "      <th>Direction</th>\n",
       "      <th>Region</th>\n",
       "    </tr>\n",
       "  </thead>\n",
       "  <tbody>\n",
       "    <tr>\n",
       "      <th>0</th>\n",
       "      <td>Southern Metropolitan</td>\n",
       "      <td>h</td>\n",
       "      <td>2</td>\n",
       "      <td>1.00</td>\n",
       "      <td>318.00</td>\n",
       "      <td>1102000.00</td>\n",
       "      <td>Southern</td>\n",
       "      <td>Metropolitan</td>\n",
       "    </tr>\n",
       "    <tr>\n",
       "      <th>1</th>\n",
       "      <td>Western Metropolitan</td>\n",
       "      <td>h</td>\n",
       "      <td>3</td>\n",
       "      <td>1.00</td>\n",
       "      <td>647.00</td>\n",
       "      <td>670000.00</td>\n",
       "      <td>Western</td>\n",
       "      <td>Metropolitan</td>\n",
       "    </tr>\n",
       "    <tr>\n",
       "      <th>2</th>\n",
       "      <td>Western Metropolitan</td>\n",
       "      <td>h</td>\n",
       "      <td>3</td>\n",
       "      <td>1.00</td>\n",
       "      <td>347.00</td>\n",
       "      <td>967000.00</td>\n",
       "      <td>Western</td>\n",
       "      <td>Metropolitan</td>\n",
       "    </tr>\n",
       "    <tr>\n",
       "      <th>3</th>\n",
       "      <td>Southern Metropolitan</td>\n",
       "      <td>h</td>\n",
       "      <td>4</td>\n",
       "      <td>2.00</td>\n",
       "      <td>902.00</td>\n",
       "      <td>1815000.00</td>\n",
       "      <td>Southern</td>\n",
       "      <td>Metropolitan</td>\n",
       "    </tr>\n",
       "    <tr>\n",
       "      <th>4</th>\n",
       "      <td>Northern Metropolitan</td>\n",
       "      <td>h</td>\n",
       "      <td>2</td>\n",
       "      <td>2.00</td>\n",
       "      <td>415.00</td>\n",
       "      <td>860000.00</td>\n",
       "      <td>Northern</td>\n",
       "      <td>Metropolitan</td>\n",
       "    </tr>\n",
       "  </tbody>\n",
       "</table>\n",
       "</div>"
      ],
      "text/plain": [
       "              Regionname Type  Rooms  Bathroom  Landsize      Price Direction  \\\n",
       "0  Southern Metropolitan    h      2      1.00    318.00 1102000.00  Southern   \n",
       "1   Western Metropolitan    h      3      1.00    647.00  670000.00   Western   \n",
       "2   Western Metropolitan    h      3      1.00    347.00  967000.00   Western   \n",
       "3  Southern Metropolitan    h      4      2.00    902.00 1815000.00  Southern   \n",
       "4  Northern Metropolitan    h      2      2.00    415.00  860000.00  Northern   \n",
       "\n",
       "         Region  \n",
       "0  Metropolitan  \n",
       "1  Metropolitan  \n",
       "2  Metropolitan  \n",
       "3  Metropolitan  \n",
       "4  Metropolitan  "
      ]
     },
     "execution_count": 50,
     "metadata": {},
     "output_type": "execute_result"
    }
   ],
   "source": [
    "# 실행 전 index를 활용하는 함수에 맞춰서 리인덱싱 해주기\n",
    "\n",
    "sample_df.reset_index(drop = True, inplace = True)\n",
    "sample_df.head()"
   ]
  },
  {
   "cell_type": "code",
   "execution_count": 53,
   "id": "9da2a427",
   "metadata": {},
   "outputs": [],
   "source": [
    "meanPrice_M = sample_df[sample_df['Region'] == 'Metropolitan'].Price.mean()\n",
    "meanPrice_V = sample_df[sample_df['Region'] == 'Victoria'].Price.mean()"
   ]
  },
  {
   "cell_type": "code",
   "execution_count": 52,
   "id": "2d98da48",
   "metadata": {},
   "outputs": [
    {
     "name": "stdout",
     "output_type": "stream",
     "text": [
      "time : 25.10065484046936\n"
     ]
    }
   ],
   "source": [
    "# 위에서 정의한 함수로 평균의 차이 구하기\n",
    "# 너무 오래 걸릴 수 있음을 방지하여 R = 500 번만 실험해 보기로 한다.\n",
    "# 시간을 함께 계산하기로 한다.\n",
    "\n",
    "import time\n",
    "start = time.time()  # 시작 시간 저장\n",
    " \n",
    "perm_diffs = [perm_fun(sample_df['Price'], nA, nB) for _ in range(500)]\n",
    "\n",
    "\n",
    "print(\"time :\", time.time() - start)  # 현재시각 - 시작시간 = 실행 시간"
   ]
  },
  {
   "cell_type": "code",
   "execution_count": 56,
   "id": "a50a1e30",
   "metadata": {},
   "outputs": [
    {
     "data": {
      "image/png": "[encoded data removed]",
      "text/plain": [
       "<Figure size 360x360 with 1 Axes>"
      ]
     },
     "metadata": {
      "needs_background": "light"
     },
     "output_type": "display_data"
    }
   ],
   "source": [
    "# 위 결과를 시각화한다.\n",
    "\n",
    "fig, ax = plt.subplots(figsize = (5,5))\n",
    "ax.hist(perm_diffs, bins =11, rwidth = 0.9) # 줄 너비 0.9\n",
    "ax.axvline(x = meanPrice_V - meanPrice_M, color = 'black', lw = 2) # 원래 처음 결과(평균에서 평균을 뺀것) 선을 그어줌\n",
    "# ax.text(50, 190, 'Observed \\n difference', bbox = {'facecolor': 'white'}) # 선 설명 텍스트\n",
    "ax.set_xlabel('Price differences mean (Victoria - Metropolitan)')\n",
    "ax.set_ylabel('Frequency')\n",
    "\n",
    "plt.tight_layout()\n",
    "plt.show()"
   ]
  },
  {
   "cell_type": "code",
   "execution_count": 57,
   "id": "b3a55bea",
   "metadata": {},
   "outputs": [
    {
     "data": {
      "text/plain": [
       "1.0"
      ]
     },
     "execution_count": 57,
     "metadata": {},
     "output_type": "execute_result"
    }
   ],
   "source": [
    "np.mean(np.array(perm_diffs) > meanPrice_V - meanPrice_M)"
   ]
  },
  {
   "cell_type": "markdown",
   "id": "f62fc0c2",
   "metadata": {},
   "source": [
    "통계적으로 유의하지 않다는 결론입니다 ^^... \n",
    "\n",
    "이번에는 R=1000으로 높여본다."
   ]
  },
  {
   "cell_type": "code",
   "execution_count": 58,
   "id": "8ca54642",
   "metadata": {},
   "outputs": [
    {
     "name": "stdout",
     "output_type": "stream",
     "text": [
      "time : 53.216230154037476\n"
     ]
    }
   ],
   "source": [
    "# 위에서 정의한 함수로 평균의 차이 구하기\n",
    "# 너무 오래 걸릴 수 있음을 방지하여 R = 500 번만 실험해 보기로 한다.\n",
    "# 시간을 함께 계산하기로 한다.\n",
    "\n",
    "import time\n",
    "start = time.time()  # 시작 시간 저장\n",
    " \n",
    "perm_diffs = [perm_fun(sample_df['Price'], nA, nB) for _ in range(1000)]\n",
    "\n",
    "\n",
    "print(\"time :\", time.time() - start)  # 현재시각 - 시작시간 = 실행 시간"
   ]
  },
  {
   "cell_type": "code",
   "execution_count": 59,
   "id": "2371b15d",
   "metadata": {},
   "outputs": [
    {
     "data": {
      "image/png": "[encoded data removed]",
      "text/plain": [
       "<Figure size 360x360 with 1 Axes>"
      ]
     },
     "metadata": {
      "needs_background": "light"
     },
     "output_type": "display_data"
    }
   ],
   "source": [
    "# 위 결과를 시각화한다.\n",
    "\n",
    "fig, ax = plt.subplots(figsize = (5,5))\n",
    "ax.hist(perm_diffs, bins =11, rwidth = 0.9) # 줄 너비 0.9\n",
    "ax.axvline(x = meanPrice_V - meanPrice_M, color = 'black', lw = 2) # 원래 처음 결과(평균에서 평균을 뺀것) 선을 그어줌\n",
    "# ax.text(50, 190, 'Observed \\n difference', bbox = {'facecolor': 'white'}) # 선 설명 텍스트\n",
    "ax.set_xlabel('Price differences mean (Victoria - Metropolitan)')\n",
    "ax.set_ylabel('Frequency')\n",
    "\n",
    "plt.tight_layout()\n",
    "plt.show()"
   ]
  },
  {
   "cell_type": "code",
   "execution_count": 60,
   "id": "3b5ff2a7",
   "metadata": {},
   "outputs": [
    {
     "data": {
      "text/plain": [
       "1.0"
      ]
     },
     "execution_count": 60,
     "metadata": {},
     "output_type": "execute_result"
    }
   ],
   "source": [
    "np.mean(np.array(perm_diffs) > meanPrice_V - meanPrice_M)"
   ]
  },
  {
   "cell_type": "markdown",
   "id": "46e9d818",
   "metadata": {},
   "source": [
    "결론은 귀무가설을 기각하지 못한 것으로 나타났습니다. 심각하네요. 이런 아무 쓰잘데기 없는 분석을 하다니 조금 슬프니까 나중에 멜버른 집값은 다시 할것입니다."
   ]
  }
 ],
 "metadata": {
  "kernelspec": {
   "display_name": "Python 3 (ipykernel)",
   "language": "python",
   "name": "python3"
  },
  "language_info": {
   "codemirror_mode": {
    "name": "ipython",
    "version": 3
   },
   "file_extension": ".py",
   "mimetype": "text/x-python",
   "name": "python",
   "nbconvert_exporter": "python",
   "pygments_lexer": "ipython3",
   "version": "3.8.5"
  },
  "toc": {
   "base_numbering": 1,
   "nav_menu": {},
   "number_sections": true,
   "sideBar": true,
   "skip_h1_title": false,
   "title_cell": "Table of Contents",
   "title_sidebar": "Contents",
   "toc_cell": false,
   "toc_position": {},
   "toc_section_display": true,
   "toc_window_display": false
  }
 },
 "nbformat": 4,
 "nbformat_minor": 5
}

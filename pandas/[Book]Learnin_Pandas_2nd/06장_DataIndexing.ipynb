{
 "cells": [
  {
   "cell_type": "markdown",
   "metadata": {
    "toc": true
   },
   "source": [
    "<h1>Table of Contents<span class=\"tocSkip\"></span></h1>\n",
    "<div class=\"toc\"><ul class=\"toc-item\"><li><span><a href=\"#Configuring-panadas\" data-toc-modified-id=\"Configuring-panadas-1\"><span class=\"toc-item-num\">1&nbsp;&nbsp;</span>Configuring panadas</a></span></li><li><span><a href=\"#Data-Indexing\" data-toc-modified-id=\"Data-Indexing-2\"><span class=\"toc-item-num\">2&nbsp;&nbsp;</span>Data Indexing</a></span></li><li><span><a href=\"#The-importance-of-indexes\" data-toc-modified-id=\"The-importance-of-indexes-3\"><span class=\"toc-item-num\">3&nbsp;&nbsp;</span>The importance of indexes</a></span></li><li><span><a href=\"#인덱스-유형\" data-toc-modified-id=\"인덱스-유형-4\"><span class=\"toc-item-num\">4&nbsp;&nbsp;</span>인덱스 유형</a></span><ul class=\"toc-item\"><li><span><a href=\"#The-fundamental-index-type:-Index\" data-toc-modified-id=\"The-fundamental-index-type:-Index-4.1\"><span class=\"toc-item-num\">4.1&nbsp;&nbsp;</span>The fundamental index type: Index</a></span></li><li><span><a href=\"#Integer-index-labels-using-Int64Index-and-RangeIndex\" data-toc-modified-id=\"Integer-index-labels-using-Int64Index-and-RangeIndex-4.2\"><span class=\"toc-item-num\">4.2&nbsp;&nbsp;</span>Integer index labels using Int64Index and RangeIndex</a></span></li><li><span><a href=\"#Floating-point-labels-using-Float64Index\" data-toc-modified-id=\"Floating-point-labels-using-Float64Index-4.3\"><span class=\"toc-item-num\">4.3&nbsp;&nbsp;</span>Floating point labels using Float64Index</a></span></li><li><span><a href=\"#Representing-discrete-intervals-using-IntervalIndex\" data-toc-modified-id=\"Representing-discrete-intervals-using-IntervalIndex-4.4\"><span class=\"toc-item-num\">4.4&nbsp;&nbsp;</span>Representing discrete intervals using IntervalIndex</a></span></li><li><span><a href=\"#Categorical-values-as-an-index:-CategoricalIndex\" data-toc-modified-id=\"Categorical-values-as-an-index:-CategoricalIndex-4.5\"><span class=\"toc-item-num\">4.5&nbsp;&nbsp;</span>Categorical values as an index: CategoricalIndex</a></span></li><li><span><a href=\"#Indexing-by-dates-and-times-using-DatetimeIndex\" data-toc-modified-id=\"Indexing-by-dates-and-times-using-DatetimeIndex-4.6\"><span class=\"toc-item-num\">4.6&nbsp;&nbsp;</span>Indexing by dates and times using DatetimeIndex</a></span></li></ul></li><li><span><a href=\"#Indexing-periods-of-time-using-PeriodIndex\" data-toc-modified-id=\"Indexing-periods-of-time-using-PeriodIndex-5\"><span class=\"toc-item-num\">5&nbsp;&nbsp;</span>Indexing periods of time using PeriodIndex</a></span></li><li><span><a href=\"#인덱스로-작업\" data-toc-modified-id=\"인덱스로-작업-6\"><span class=\"toc-item-num\">6&nbsp;&nbsp;</span>인덱스로 작업</a></span><ul class=\"toc-item\"><li><span><a href=\"#Creating-and-using-an-index-with-a-Series-or-DataFrame\" data-toc-modified-id=\"Creating-and-using-an-index-with-a-Series-or-DataFrame-6.1\"><span class=\"toc-item-num\">6.1&nbsp;&nbsp;</span>Creating and using an index with a Series or DataFrame</a></span><ul class=\"toc-item\"><li><span><a href=\"#.index\" data-toc-modified-id=\".index-6.1.1\"><span class=\"toc-item-num\">6.1.1&nbsp;&nbsp;</span><code>.index</code></a></span></li></ul></li><li><span><a href=\"#Selecting-values-using-an-index\" data-toc-modified-id=\"Selecting-values-using-an-index-6.2\"><span class=\"toc-item-num\">6.2&nbsp;&nbsp;</span>Selecting values using an index</a></span><ul class=\"toc-item\"><li><span><a href=\"#Series에서의-.loc는-Series[label]과-같다.\" data-toc-modified-id=\"Series에서의-.loc는-Series[label]과-같다.-6.2.1\"><span class=\"toc-item-num\">6.2.1&nbsp;&nbsp;</span>Series에서의 .loc는 Series[label]과 같다.</a></span></li><li><span><a href=\"#.loc[]\" data-toc-modified-id=\".loc[]-6.2.2\"><span class=\"toc-item-num\">6.2.2&nbsp;&nbsp;</span><code>.loc[]</code></a></span></li><li><span><a href=\"#DataFrame에서의-[]는-로우-대신-칼럼을-가져온다.\" data-toc-modified-id=\"DataFrame에서의-[]는-로우-대신-칼럼을-가져온다.-6.2.3\"><span class=\"toc-item-num\">6.2.3&nbsp;&nbsp;</span>DataFrame에서의 <code>[]</code>는 로우 대신 칼럼을 가져온다.</a></span></li><li><span><a href=\"#속성-인덱서는-슬라이싱에도-이용할-수-있다.\" data-toc-modified-id=\"속성-인덱서는-슬라이싱에도-이용할-수-있다.-6.2.4\"><span class=\"toc-item-num\">6.2.4&nbsp;&nbsp;</span>속성 인덱서는 슬라이싱에도 이용할 수 있다.</a></span></li><li><span><a href=\"#.loc[[list]]\" data-toc-modified-id=\".loc[[list]]-6.2.5\"><span class=\"toc-item-num\">6.2.5&nbsp;&nbsp;</span><code>.loc[[list]]</code></a></span></li></ul></li></ul></li><li><span><a href=\"#Moving-data-to-and-from-the-index\" data-toc-modified-id=\"Moving-data-to-and-from-the-index-7\"><span class=\"toc-item-num\">7&nbsp;&nbsp;</span>Moving data to and from the index</a></span><ul class=\"toc-item\"><li><span><a href=\"#.reset_index()\" data-toc-modified-id=\".reset_index()-7.1\"><span class=\"toc-item-num\">7.1&nbsp;&nbsp;</span><code>.reset_index()</code></a></span></li><li><span><a href=\"#.set_index()\" data-toc-modified-id=\".set_index()-7.2\"><span class=\"toc-item-num\">7.2&nbsp;&nbsp;</span><code>.set_index()</code></a></span></li><li><span><a href=\"#.reindex()\" data-toc-modified-id=\".reindex()-7.3\"><span class=\"toc-item-num\">7.3&nbsp;&nbsp;</span><code>.reindex()</code></a></span></li></ul></li><li><span><a href=\"#Hierarchical-indexing\" data-toc-modified-id=\"Hierarchical-indexing-8\"><span class=\"toc-item-num\">8&nbsp;&nbsp;</span>Hierarchical indexing</a></span></li></ul></div>"
   ]
  },
  {
   "cell_type": "markdown",
   "metadata": {},
   "source": [
    "# Configuring panadas"
   ]
  },
  {
   "cell_type": "code",
   "execution_count": 2,
   "metadata": {},
   "outputs": [
    {
     "name": "stdout",
     "output_type": "stream",
     "text": [
      "1.4.1\n",
      "1.22.4\n",
      "3.8.5 (default, Sep  4 2020, 02:22:02) \n",
      "[Clang 10.0.0 ]\n"
     ]
    }
   ],
   "source": [
    "# import numpy and pandas\n",
    "import numpy as np\n",
    "import pandas as pd\n",
    "\n",
    "# used for dates\n",
    "import datetime\n",
    "from datetime import datetime, date\n",
    "\n",
    "# Set some pandas options controlling output format\n",
    "pd.set_option('display.notebook_repr_html', False)\n",
    "pd.set_option('display.max_columns', 8)\n",
    "pd.set_option('display.max_rows', 10)\n",
    "pd.set_option('display.width', 60)\n",
    "\n",
    "# bring in matplotlib for graphics\n",
    "import matplotlib.pyplot as plt\n",
    "%matplotlib inline\n",
    "\n",
    "# version check\n",
    "print(pd.__version__)\n",
    "print(np.__version__)\n",
    "import sys\n",
    "print(sys.version)\n",
    "\n",
    "# read in the data and print the first five rows\n",
    "# use the Symbol column as the index, and \n",
    "# only read in columns in positions 0, 2, 3, 7\n",
    "sp500 = pd.read_csv(\"/Users/Angela/Desktop/Personal/Learning-Pandas-Second-Edition-master/data/sp500.csv\", \n",
    "                    index_col='Symbol', \n",
    "                    usecols=[0, 2, 3, 7])"
   ]
  },
  {
   "cell_type": "markdown",
   "metadata": {},
   "source": [
    "# Data Indexing\n",
    "\n",
    "데이터 인덱싱\n",
    "\n",
    "인덱스는 시리즈나 데이터 프레임으로부터 값을 검색하기 위한 최적화된 도구로, 관계형 데이터베이스에서의 키와는 다르지만 오히려 더 강력하다. 인덱스는 복수의 데이터셋에 대한 정렬 기능을 제공하며, 서로 다른 빈도의 재표집(resampling)과 같은 다양한 데이터 작업에 의미를 부여하는 역할을 한다.  \n",
    "\n",
    "pandas로 수행하는 모델링의 상당 부분은 인덱스를 어떻게 설정하느냐에 매우 의존적이다. 제대로 구축한 인덱스는 성능 최적화에 도움이 되며, 데이터 분석에 있어서 매우 가치있는 도구가 된다.  \n",
    "\n",
    "- 인덱스의 중요성\n",
    "- pandas의 인덱스 유형 : `RangeIndex, Int64Index, CategoricalIndex, Float64Index, Datetimeindex, PeriodIndex`\n",
    "- 인덱스 설정과 재설정\n",
    "- 계층형 인덱스의 생성\n",
    "- 계층형 인덱스를 사용한 데이터 선택  "
   ]
  },
  {
   "cell_type": "markdown",
   "metadata": {},
   "source": [
    "# The importance of indexes\n",
    "인덱스의 중요성\n",
    "\n",
    "판다스에서 인덱스는 갑스이 효율적인 검색을 가능하게 한다. 인덱스가 없다면 모든 데이터는 선형 검색(linear search, 순차적으로 모두 검색)을 해야한다.  \n",
    "인덱스는 특정 데이터 아이템에 대한 최적화된 단축키며, 순차적인 과정 없이 한 번에 검색을 수행한다.  \n",
    "\n",
    "난수 10,00 개를 만들어 실습을 해보도록 한다. key라는 칼럼은 100부터 1씩 증가하는 정수 range를 입력하도록 했다. "
   ]
  },
  {
   "cell_type": "code",
   "execution_count": 3,
   "metadata": {},
   "outputs": [
    {
     "data": {
      "text/plain": [
       "        foo  key\n",
       "0  0.126970  100\n",
       "1  0.966718  101\n",
       "2  0.260476  102\n",
       "3  0.897237  103\n",
       "4  0.376750  104"
      ]
     },
     "execution_count": 3,
     "metadata": {},
     "output_type": "execute_result"
    }
   ],
   "source": [
    "# create DataFame of random numbers and a key column\n",
    "np.random.seed(123456)\n",
    "df = pd.DataFrame({'foo':np.random.random(10000), 'key':range(100, 10100)})\n",
    "df[:5]"
   ]
  },
  {
   "cell_type": "markdown",
   "metadata": {},
   "source": [
    "key = 10099 인 난수 데이터를 찾으려고 하는데, 이는 DataFrame의 마지막 로우이다. 불리언 선택으로 검색해본다.  \n",
    "간단한 작업이지만 꽤 오래걸림을 증명해볼 수 있다. \n",
    "\n",
    "`%timeit` 구문을 사용해, 반복적으로 검색하는 시뮬레이션을 통해 이 작업의 성능을 테스트 해본다. "
   ]
  },
  {
   "cell_type": "code",
   "execution_count": 4,
   "metadata": {},
   "outputs": [
    {
     "data": {
      "text/plain": [
       "           foo    key\n",
       "9999  0.272283  10099"
      ]
     },
     "execution_count": 4,
     "metadata": {},
     "output_type": "execute_result"
    }
   ],
   "source": [
    "# boolean select where key is 10099\n",
    "df[df.key==10099]"
   ]
  },
  {
   "cell_type": "code",
   "execution_count": 5,
   "metadata": {},
   "outputs": [
    {
     "name": "stdout",
     "output_type": "stream",
     "text": [
      "458 µs ± 94.6 µs per loop (mean ± std. dev. of 7 runs, 1,000 loops each)\n"
     ]
    }
   ],
   "source": [
    "# time the select\n",
    "%timeit df[df.key==10099]"
   ]
  },
  {
   "cell_type": "markdown",
   "metadata": {},
   "source": [
    "1000 번의 루프를 7번 실행했고, 평균적으로 379나노퍼세크 정도 걸린다고 한다.  \n",
    "\n",
    "인덱스를 활용해 직접 값을 검색할 것인데, 우리가 찾으려는 값이 있는 key라는 칼럼을 index로 설정한 DataFrame에서 수행한다. "
   ]
  },
  {
   "cell_type": "code",
   "execution_count": 6,
   "metadata": {},
   "outputs": [
    {
     "data": {
      "text/plain": [
       "          foo\n",
       "key          \n",
       "100  0.126970\n",
       "101  0.966718\n",
       "102  0.260476\n",
       "103  0.897237\n",
       "104  0.376750"
      ]
     },
     "execution_count": 6,
     "metadata": {},
     "output_type": "execute_result"
    }
   ],
   "source": [
    "# move key to the index\n",
    "df_with_index = df.set_index(['key'])\n",
    "df_with_index[:5]"
   ]
  },
  {
   "cell_type": "markdown",
   "metadata": {},
   "source": [
    "`.loc[]`에 우리가 찾으려는 값을 넣어 찾을 수 있다.  \n",
    "이를 시간을 측정해본다. "
   ]
  },
  {
   "cell_type": "code",
   "execution_count": 7,
   "metadata": {},
   "outputs": [
    {
     "data": {
      "text/plain": [
       "foo    0.272283\n",
       "Name: 10099, dtype: float64"
      ]
     },
     "execution_count": 7,
     "metadata": {},
     "output_type": "execute_result"
    }
   ],
   "source": [
    "# now can lookup with the index\n",
    "df_with_index.loc[10099]"
   ]
  },
  {
   "cell_type": "code",
   "execution_count": 8,
   "metadata": {},
   "outputs": [
    {
     "name": "stdout",
     "output_type": "stream",
     "text": [
      "73.3 µs ± 10.9 µs per loop (mean ± std. dev. of 7 runs, 10,000 loops each)\n"
     ]
    }
   ],
   "source": [
    "# and this is a lot faster\n",
    "%timeit df_with_index.loc[10099]"
   ]
  },
  {
   "cell_type": "markdown",
   "metadata": {},
   "source": [
    "$ \\pm $ 까지 계산하면 대략 5배 이상 빠르다. 이러한 성능상의 이유로 가능하다면 인덱스로 검색하는 것이 가장 좋다.  \n",
    "\n",
    "**인덱스를 사용하는 경우의 단점은 인덱스를 구성할 시간이 필요하며, 메모리를 좀 더 사용한다는 점**이다.  \n",
    "\n",
    "대부분의 경우 어떤 것이 인덱스가 돼야 하는지 본능적으로 느낄 수 있을 것이며, 따라서 인덱스를 먼저 만들고 데이터 작업을 시작하면 된다. (중복이 없고 숫자처럼 비트가 작을 수록 좋을 것같다).  \n",
    "그렇지 않을 경우에는 최선의 인덱스를 결정하기 위해 약간의 탐색을 먼저 해봐야 할 것이다. 때로는 충분한 데이터를 갖고 있지 않거나, 인덱스로 만들 적당한 필드가 없을 경우도 있다. 그런 경우 다소 모호한 복수의 결과를 반환하는 **부분적인 인덱스**를 사용할 수도 있는데, 그래도 불리언 선택을 통해 원하는 결과를 볼 수 있다. (중복인 경우 둘 다 반환하는 것을 이전에 확인했음.)  \n",
    "\n",
    "    탐색적 데이터 분석을 수행할 때에는 먼저 데이터를 로딩하고 쿼리와 불리언 선택을 사용해 탐색하는 방법이 권장된다. 그다음, 자연스럽게 인덱스를 지원할 수 있는 데이터이거나 또는 성능 향상이 필요한 경우에 인덱스를 만들면 된다.  "
   ]
  },
  {
   "cell_type": "markdown",
   "metadata": {},
   "source": [
    "# 인덱스 유형\n",
    "---\n",
    "pandas는 다수의 내장 인덱스를 제공하는데, 각 인덱스 유형은 특정 데이터 타입이나 데이터의 패턴에 기초해 최적의 검색을 위해 설계됐다.  \n",
    "\n",
    "## The fundamental index type: Index\n",
    "기본 유형 : `Index`\n",
    "\n",
    "Index는 가장 포괄적인 인덱스이며, 순서가 있고, 슬라이싱이 가능한 값들의 집합이다.  \n",
    "인덱스 자체는 반드시 해싱 가능한(hashable) 파이썬 객체여야 한다. 이는 인덱스가 그 해시를 이용해 값 검색을 효율적으로 하기 때문이다. 해시 검색이 선형 검색보다 선호되는 방식이지만, 더욱 최적화 할 수 있는 다른 인덱스 유형들도 있다고.  \n",
    "\n",
    "보통은 **칼럼 인덱스에 `Index`유형이 사용된다.**  \n",
    "`Index`는 대개 영숫자 칼럼명에 잘 어울리지만, 원한다면 칼럼 인덱스에 다른 유형을 사용하는 일도 있다. "
   ]
  },
  {
   "cell_type": "code",
   "execution_count": 9,
   "metadata": {},
   "outputs": [
    {
     "data": {
      "text/plain": [
       "           City  Temperature\n",
       "0      Missoula           70\n",
       "1  Philadelphia           80"
      ]
     },
     "execution_count": 9,
     "metadata": {},
     "output_type": "execute_result"
    }
   ],
   "source": [
    "# show that the columns are actually an index\n",
    "temps = pd.DataFrame({ \"City\": [\"Missoula\", \"Philadelphia\"],\n",
    "                       \"Temperature\": [70, 80] })\n",
    "temps"
   ]
  },
  {
   "cell_type": "code",
   "execution_count": 10,
   "metadata": {},
   "outputs": [
    {
     "data": {
      "text/plain": [
       "Index(['City', 'Temperature'], dtype='object')"
      ]
     },
     "execution_count": 10,
     "metadata": {},
     "output_type": "execute_result"
    }
   ],
   "source": [
    "# we can see columns is an index\n",
    "temps.columns"
   ]
  },
  {
   "cell_type": "markdown",
   "metadata": {},
   "source": [
    "## Integer index labels using Int64Index and RangeIndex\n",
    "정수 유형: `Int64Index`, `RangeIndex`\n",
    "\n",
    "`Int64Index`는 값과 매핑되는 64비트 정수의 불변 배열(immutable array)을 나타낸다. (얼마 전까지, 인덱스를 명시적으로 지정하지 않았거나 인덱스를 정수로 사용할 때 적용되는 pandas의 기본 인덱스 유형이었다고.) \n",
    "\n",
    "이 인덱스 유형은 연속적인 in-memory 배열을 사용하므로써, DataFrame의 로우 검색에 있어서 높은 성능을 보여준다.  "
   ]
  },
  {
   "cell_type": "code",
   "execution_count": 11,
   "metadata": {},
   "outputs": [
    {
     "data": {
      "text/plain": [
       "    0\n",
       "0  10\n",
       "1  11\n",
       "2  12\n",
       "3  13\n",
       "4  14"
      ]
     },
     "execution_count": 11,
     "metadata": {},
     "output_type": "execute_result"
    }
   ],
   "source": [
    "# explicitly create an Int64Index\n",
    "df_i64 = pd.DataFrame(np.arange(10, 20), index=np.arange(0, 10))\n",
    "df_i64[:5]"
   ]
  },
  {
   "cell_type": "code",
   "execution_count": 12,
   "metadata": {},
   "outputs": [
    {
     "data": {
      "text/plain": [
       "Int64Index([0, 1, 2, 3, 4, 5, 6, 7, 8, 9], dtype='int64')"
      ]
     },
     "execution_count": 12,
     "metadata": {},
     "output_type": "execute_result"
    }
   ],
   "source": [
    "# view the index\n",
    "df_i64.index"
   ]
  },
  {
   "cell_type": "markdown",
   "metadata": {},
   "source": [
    " `RangeIndex`는 `Int64Index`를 더욱 최적화한 버전이다. 시작 값, 마지막 값, 그리고 각 값의 간격을 나타낼 수 있는 정수 기반의 인덱스다.  \n",
    " 시작, 끝, 간격을 이용하는 것은 하위 인덱스 추가를 보장하는 일반적인 패턴이다. 이 세 값을 사용하면 메모리를 절약할 수 있으며, 실행 시간도 `Int64Index`와 동일하다.  \n",
    " \n",
    " `RangeIndex`는 pandas 객체를 위한 기본 인덱스 유형이 됐다. "
   ]
  },
  {
   "cell_type": "code",
   "execution_count": 13,
   "metadata": {},
   "outputs": [
    {
     "data": {
      "text/plain": [
       "    0\n",
       "0  10\n",
       "1  11\n",
       "2  12\n",
       "3  13\n",
       "4  14"
      ]
     },
     "execution_count": 13,
     "metadata": {},
     "output_type": "execute_result"
    }
   ],
   "source": [
    "# by default we are given a RangeIndex\n",
    "df_range = pd.DataFrame(np.arange(10, 15))\n",
    "df_range[:5]"
   ]
  },
  {
   "cell_type": "code",
   "execution_count": 14,
   "metadata": {},
   "outputs": [
    {
     "data": {
      "text/plain": [
       "RangeIndex(start=0, stop=5, step=1)"
      ]
     },
     "execution_count": 14,
     "metadata": {},
     "output_type": "execute_result"
    }
   ],
   "source": [
    "df_range.index"
   ]
  },
  {
   "cell_type": "markdown",
   "metadata": {},
   "source": [
    "## Floating point labels using Float64Index\n",
    "부동소수점 유형 : `Float64Index`\n",
    "\n",
    "부동소수점 수도 `Float64Index`를 통해 인덱스 레이블에 사용될 수 있다. 물론 `.iloc[]`를 사용할 때는 정수를 입력하여 찾아야 한다. "
   ]
  },
  {
   "cell_type": "code",
   "execution_count": 15,
   "metadata": {},
   "outputs": [
    {
     "data": {
      "text/plain": [
       "      0\n",
       "0.0   0\n",
       "0.5   5\n",
       "1.0  10\n",
       "1.5  15\n",
       "2.0  20"
      ]
     },
     "execution_count": 15,
     "metadata": {},
     "output_type": "execute_result"
    }
   ],
   "source": [
    "# indexes using a Float64Index\n",
    "df_f64 = pd.DataFrame(np.arange(0, 1000, 5), \n",
    "                      np.arange(0.0, 100.0, 0.5))\n",
    "df_f64.iloc[:5] # need iloc to slice first five"
   ]
  },
  {
   "cell_type": "code",
   "execution_count": 16,
   "metadata": {},
   "outputs": [
    {
     "data": {
      "text/plain": [
       "Float64Index([ 0.0,  0.5,  1.0,  1.5,  2.0,  2.5,  3.0,\n",
       "               3.5,  4.0,  4.5,\n",
       "              ...\n",
       "              95.0, 95.5, 96.0, 96.5, 97.0, 97.5, 98.0,\n",
       "              98.5, 99.0, 99.5],\n",
       "             dtype='float64', length=200)"
      ]
     },
     "execution_count": 16,
     "metadata": {},
     "output_type": "execute_result"
    }
   ],
   "source": [
    "df_f64.index"
   ]
  },
  {
   "cell_type": "markdown",
   "metadata": {},
   "source": [
    "## Representing discrete intervals using IntervalIndex\n",
    "이산 간격 유형 : `IntervalIndex`\n",
    "\n",
    "명확한 **간격**으로 구분되는 레이블일 경우 `IntervalIndex`를 사용해 나타낼 수 있다.  \n",
    "이산 간격(discrete interval)은 왼쪽이나 오른쪽 끝에 닫혀 있는데, 이는 그 끝에 있는 인덱스가 간격에 포함됨을 의미한다.  \n",
    "\n",
    "다음은 `IntervalIndex`를 인덱스로 사용하는 DataFrame을 만드는 예시이다. "
   ]
  },
  {
   "cell_type": "code",
   "execution_count": 17,
   "metadata": {},
   "outputs": [
    {
     "data": {
      "text/plain": [
       "            A\n",
       "(0.0, 0.5]  1\n",
       "(0.5, 1.0]  2\n",
       "(1.0, 1.5]  3\n",
       "(1.5, 2.0]  4"
      ]
     },
     "execution_count": 17,
     "metadata": {},
     "output_type": "execute_result"
    }
   ],
   "source": [
    "# a DataFrame with an IntervalIndex\n",
    "df_interval = pd.DataFrame({ \"A\": [1, 2, 3, 4]},\n",
    "                    index = pd.IntervalIndex.from_breaks(\n",
    "                        [0, 0.5, 1.0, 1.5, 2.0]))\n",
    "df_interval"
   ]
  },
  {
   "cell_type": "code",
   "execution_count": 18,
   "metadata": {},
   "outputs": [
    {
     "data": {
      "text/plain": [
       "            A\n",
       "(0.0, 0.5]  1\n",
       "(0.5, 1.0]  2"
      ]
     },
     "execution_count": 18,
     "metadata": {},
     "output_type": "execute_result"
    }
   ],
   "source": [
    "df_interval.iloc[:2]"
   ]
  },
  {
   "cell_type": "code",
   "execution_count": 19,
   "metadata": {},
   "outputs": [
    {
     "data": {
      "text/plain": [
       "IntervalIndex([(0.0, 0.5], (0.5, 1.0], (1.0, 1.5], (1.5, 2.0]], dtype='interval[float64, right]')"
      ]
     },
     "execution_count": 19,
     "metadata": {},
     "output_type": "execute_result"
    }
   ],
   "source": [
    "df_interval.index"
   ]
  },
  {
   "cell_type": "markdown",
   "metadata": {
    "collapsed": true
   },
   "source": [
    "## Categorical values as an index: CategoricalIndex\n",
    "범주형 : `CategoricalIndex`\n",
    "\n",
    "`CategoricalIndex`는 범주에 포함되지만 흩어져 있는 인덱스를 나타낸다.  \n",
    "\n",
    "다음은 하나의 칼럼을 범주로 지정하여 DataFrame을 만드는 방식이다. 하지만 버전 문제인지 실행되지 않는다.  \n",
    "'B'에 리스트가 제대로 들어가있는 것으로는 보이는데, `asypte`은 먹지 않는다. `set_index('B')`로 오브젝트 인덱스로만 만든다. "
   ]
  },
  {
   "cell_type": "code",
   "execution_count": 21,
   "metadata": {},
   "outputs": [
    {
     "ename": "TypeError",
     "evalue": "astype() got an unexpected keyword argument 'categories'",
     "output_type": "error",
     "traceback": [
      "\u001b[0;31m---------------------------------------------------------------------------\u001b[0m",
      "\u001b[0;31mTypeError\u001b[0m                                 Traceback (most recent call last)",
      "Input \u001b[0;32mIn [21]\u001b[0m, in \u001b[0;36m<cell line: 4>\u001b[0;34m()\u001b[0m\n\u001b[1;32m      1\u001b[0m \u001b[38;5;66;03m# create a DataFrame with a Categorical coulmn\u001b[39;00m\n\u001b[1;32m      2\u001b[0m df_categorical \u001b[38;5;241m=\u001b[39m pd\u001b[38;5;241m.\u001b[39mDataFrame({\u001b[38;5;124m'\u001b[39m\u001b[38;5;124mA\u001b[39m\u001b[38;5;124m'\u001b[39m: np\u001b[38;5;241m.\u001b[39marange(\u001b[38;5;241m6\u001b[39m),\n\u001b[1;32m      3\u001b[0m                                \u001b[38;5;124m'\u001b[39m\u001b[38;5;124mB\u001b[39m\u001b[38;5;124m'\u001b[39m: \u001b[38;5;28mlist\u001b[39m(\u001b[38;5;124m'\u001b[39m\u001b[38;5;124maabbca\u001b[39m\u001b[38;5;124m'\u001b[39m)})\n\u001b[0;32m----> 4\u001b[0m df_categorical[\u001b[38;5;124m'\u001b[39m\u001b[38;5;124mB\u001b[39m\u001b[38;5;124m'\u001b[39m] \u001b[38;5;241m=\u001b[39m \u001b[43mdf_categorical\u001b[49m\u001b[43m[\u001b[49m\u001b[38;5;124;43m'\u001b[39;49m\u001b[38;5;124;43mB\u001b[39;49m\u001b[38;5;124;43m'\u001b[39;49m\u001b[43m]\u001b[49m\u001b[38;5;241;43m.\u001b[39;49m\u001b[43mastype\u001b[49m\u001b[43m(\u001b[49m\u001b[38;5;124;43m'\u001b[39;49m\u001b[38;5;124;43mcategory\u001b[39;49m\u001b[38;5;124;43m'\u001b[39;49m\u001b[43m,\u001b[49m\u001b[43m \u001b[49m\n\u001b[1;32m      5\u001b[0m \u001b[43m                                          \u001b[49m\u001b[43mcategories\u001b[49m\u001b[38;5;241;43m=\u001b[39;49m\u001b[38;5;28;43mlist\u001b[39;49m\u001b[43m(\u001b[49m\u001b[38;5;124;43m'\u001b[39;49m\u001b[38;5;124;43mcab\u001b[39;49m\u001b[38;5;124;43m'\u001b[39;49m\u001b[43m)\u001b[49m\u001b[43m)\u001b[49m\n\u001b[1;32m      6\u001b[0m df_categorical\n",
      "\u001b[0;31mTypeError\u001b[0m: astype() got an unexpected keyword argument 'categories'"
     ]
    }
   ],
   "source": [
    "# create a DataFrame with a Categorical coulmn\n",
    "df_categorical = pd.DataFrame({'A': np.arange(6),\n",
    "                               'B': list('aabbca')})\n",
    "df_categorical['B'] = df_categorical['B'].astype('category', \n",
    "                                          categories=list('cab'))\n",
    "df_categorical"
   ]
  },
  {
   "cell_type": "code",
   "execution_count": 22,
   "metadata": {},
   "outputs": [
    {
     "data": {
      "text/plain": [
       "Index(['a', 'a', 'b', 'b', 'c', 'a'], dtype='object', name='B')"
      ]
     },
     "execution_count": 22,
     "metadata": {},
     "output_type": "execute_result"
    }
   ],
   "source": [
    "# shift the categorical column to the index\n",
    "df_categorical = df_categorical.set_index('B')\n",
    "df_categorical.index"
   ]
  },
  {
   "cell_type": "markdown",
   "metadata": {},
   "source": [
    "`'a'`라는 인덱스를 가진 모든 데이터를 가져온다. "
   ]
  },
  {
   "cell_type": "code",
   "execution_count": 23,
   "metadata": {},
   "outputs": [
    {
     "data": {
      "text/plain": [
       "   A\n",
       "B   \n",
       "a  0\n",
       "a  1\n",
       "a  5"
      ]
     },
     "execution_count": 23,
     "metadata": {},
     "output_type": "execute_result"
    }
   ],
   "source": [
    "# lookup values in category 'a'\n",
    "df_categorical.loc['a']"
   ]
  },
  {
   "cell_type": "markdown",
   "metadata": {
    "collapsed": true
   },
   "source": [
    "## Indexing by dates and times using DatetimeIndex\n",
    "날짜 및 시간 유형 : `DatetimeIndex`\n",
    "\n",
    "`DatetimeIndex`는 일련의 날짜와 시간을 나타낸다. 이 유형은 특정 시간 인터벌의 표본으로 이루어진 시계열 데이터에 매우 자주 사용된다.  \n",
    "이 유형에 대한 간단한 예제를 보자. 한 시간 주기로 5회에 해당하는 범위를 만들어 시리즈의 인덱스로 사용하는 코드이다.  \n",
    "(말하자면 일정한 주기로 신호나 값이 들어오는 데이터의 경우 이런식으로 인덱스를 만들면 활용하기 좋아보인다.)\n",
    "\n",
    "- `pd.date_range()`를 이용한다. `freq`는 시간인 것으로 보인다. `periods`는 기간으로 몇 개나 만들 수 있는지에 대한 것인거 같다.  \n",
    "\n",
    "datetime의 표현은 64비트 정수를 기반으로 하며, 날짜와 시간 검색을 매우 효율적으로 만든다.  "
   ]
  },
  {
   "cell_type": "code",
   "execution_count": 24,
   "metadata": {},
   "outputs": [
    {
     "data": {
      "text/plain": [
       "2017-05-01 00:00:00    1.239792\n",
       "2017-05-01 01:00:00   -0.400611\n",
       "2017-05-01 02:00:00    0.718247\n",
       "2017-05-01 03:00:00    0.430499\n",
       "2017-05-01 04:00:00    1.155432\n",
       "Freq: H, dtype: float64"
      ]
     },
     "execution_count": 24,
     "metadata": {},
     "output_type": "execute_result"
    }
   ],
   "source": [
    "# create a DatetimeIndex from a date range\n",
    "rng = pd.date_range('5/1/2017', periods=5, freq='H')\n",
    "ts = pd.Series(np.random.randn(len(rng)), index=rng)\n",
    "ts"
   ]
  },
  {
   "cell_type": "code",
   "execution_count": 25,
   "metadata": {},
   "outputs": [
    {
     "data": {
      "text/plain": [
       "DatetimeIndex(['2017-05-01 00:00:00',\n",
       "               '2017-05-01 01:00:00',\n",
       "               '2017-05-01 02:00:00',\n",
       "               '2017-05-01 03:00:00',\n",
       "               '2017-05-01 04:00:00'],\n",
       "              dtype='datetime64[ns]', freq='H')"
      ]
     },
     "execution_count": 25,
     "metadata": {},
     "output_type": "execute_result"
    }
   ],
   "source": [
    "ts.index"
   ]
  },
  {
   "cell_type": "markdown",
   "metadata": {},
   "source": [
    "# Indexing periods of time using PeriodIndex\n",
    "기간 유형 : `PeriodIndex`\n",
    "\n",
    "기간을 년, 월, 일로 표현하는 기능은 매우 중요하다. `PeriodIndex`는 이상 간격과 비슷해 보이지만 기간을 나타내기 위한 인덱스 유형이다.  \n",
    "`PeriodIndex`를 사용하면 주어진 기간에 **특정 빈도**를 지정한 인덱스를 만들 수 있다. \n",
    "\n",
    "아래는 한 달씩 3개월로 이루어진 인덱스를 만드는 예이다. 이 인덱스를 Series나 DataFrame에서 쓸 수 있다. "
   ]
  },
  {
   "cell_type": "code",
   "execution_count": 26,
   "metadata": {},
   "outputs": [
    {
     "data": {
      "text/plain": [
       "PeriodIndex(['2017-01', '2017-02', '2017-03'], dtype='period[M]')"
      ]
     },
     "execution_count": 26,
     "metadata": {},
     "output_type": "execute_result"
    }
   ],
   "source": [
    "# explicily create a PeriodIndex : freq = 'M' is month\n",
    "periods = pd.PeriodIndex(['2017-1', '2017-2', '2017-3'], freq='M')\n",
    "periods"
   ]
  },
  {
   "cell_type": "code",
   "execution_count": 27,
   "metadata": {},
   "outputs": [
    {
     "data": {
      "text/plain": [
       "2017-01   -0.449276\n",
       "2017-02    2.472977\n",
       "2017-03   -0.716023\n",
       "Freq: M, dtype: float64"
      ]
     },
     "execution_count": 27,
     "metadata": {},
     "output_type": "execute_result"
    }
   ],
   "source": [
    "# use the index in a Series\n",
    "period_series = pd.Series(np.random.randn(len(periods)), \n",
    "                          index=periods)\n",
    "period_series"
   ]
  },
  {
   "cell_type": "markdown",
   "metadata": {},
   "source": [
    "# 인덱스로 작업\n",
    "---\n",
    "이런 인덱스 종류들을 이용해 여러 일반적인 패턴으로 작업하는 방법을 알아본다. \n",
    "\n",
    "- Series와 DataFrame에서의 인덱스 생성과 사용\n",
    "- 인덱스로 값 선택\n",
    "- 인덱스 사이의 데이터 이동\n",
    "- pandas 객체의 리인덱싱\n",
    "\n",
    "## Creating and using an index with a Series or DataFrame\n",
    "시리즈와 데이터 프레임에서의 인덱스 생성과 사용\n",
    "\n",
    "인덱스는 명시적으로 만들 수도 있고, pandas로 하여금 암묵적으로 만들게 할 수도 있다.  \n",
    "인덱스를 명시적으로 생성하려면 해당 인덱스 유형의 생성자 메소드에 index 파라미터를 사용해 할당하면 된다.  "
   ]
  },
  {
   "cell_type": "code",
   "execution_count": 28,
   "metadata": {},
   "outputs": [
    {
     "data": {
      "text/plain": [
       "DatetimeIndex(['2017-05-01 00:00:00',\n",
       "               '2017-05-01 01:00:00',\n",
       "               '2017-05-01 02:00:00',\n",
       "               '2017-05-01 03:00:00',\n",
       "               '2017-05-01 04:00:00'],\n",
       "              dtype='datetime64[ns]', freq='H')"
      ]
     },
     "execution_count": 28,
     "metadata": {},
     "output_type": "execute_result"
    }
   ],
   "source": [
    "# create a DatetimeIndex : hour5 \n",
    "date_times = pd.DatetimeIndex(pd.date_range('5/1/2017', \n",
    "                                            periods=5, \n",
    "                                            freq='H'))\n",
    "date_times"
   ]
  },
  {
   "cell_type": "code",
   "execution_count": 30,
   "metadata": {},
   "outputs": [
    {
     "data": {
      "text/plain": [
       "                     0\n",
       "2017-05-01 00:00:00  0\n",
       "2017-05-01 01:00:00  1\n",
       "2017-05-01 02:00:00  2\n",
       "2017-05-01 03:00:00  3\n",
       "2017-05-01 04:00:00  4"
      ]
     },
     "execution_count": 30,
     "metadata": {},
     "output_type": "execute_result"
    }
   ],
   "source": [
    "# create a DataFrame using(setting) the index\n",
    "df_date_times = pd.DataFrame(np.arange(0, len(date_times)), \n",
    "                             index=date_times)\n",
    "df_date_times"
   ]
  },
  {
   "cell_type": "markdown",
   "metadata": {},
   "source": [
    "### `.index` \n",
    "`.index` 애트리뷰트를 사용하면 이미 존재하는 DataFrame이나 Series에 인덱스를 직접 할당할 수 있다.  \n",
    "5월이었던 데이터에서 6월로 바꾼 것이다. "
   ]
  },
  {
   "cell_type": "code",
   "execution_count": 31,
   "metadata": {},
   "outputs": [
    {
     "data": {
      "text/plain": [
       "                     0\n",
       "2017-06-01 00:00:00  0\n",
       "2017-06-01 01:00:00  1\n",
       "2017-06-01 02:00:00  2\n",
       "2017-06-01 03:00:00  3\n",
       "2017-06-01 04:00:00  4"
      ]
     },
     "execution_count": 31,
     "metadata": {},
     "output_type": "execute_result"
    }
   ],
   "source": [
    "# set the index of a DataFrame\n",
    "df_date_times.index = pd.DatetimeIndex(pd.date_range('6/1/2017', \n",
    "                                                     periods=5, \n",
    "                                                     freq='H'))\n",
    "df_date_times"
   ]
  },
  {
   "cell_type": "markdown",
   "metadata": {},
   "source": [
    "## Selecting values using an index\n",
    "인덱스로 값 선택  \n",
    "\n",
    "인덱스로 값을 검색하려면 [] 연산자를 사용하거나 다음과 같은 속성 인덱서(property indexer)들을 사용해야 한다.  \n",
    "\n",
    "- `.loc[]` : 포지션이 아닌 **레이블로** 검색을 수행한다. 그러나 정수로 된 레이블일 경우 전달하는 정수는 무조건 레이블로 취급되므로 포지션과 혼동하지 않게 주의하자.  \n",
    "- `.at[]` : 사용법은 `.loc[]`와 같으나 단일 값만 조회한다.  \n",
    "- `.iloc[]` : 인덱스 레이블이 아닌 **제로베이스 포지션**을 기반으로 조회한다.  \n",
    "- `.ix[]` : 레이블과 포지션 둘 다 가능하다. 정수가 주어진다면 제로베이스의 포지션 검색을 하며, 그 외에는 레이블 기반으로 검색하다. 이 속성은 권장되지 않으므로, 위의 세 가지 속성을 사용하기를 바란다.  \n"
   ]
  },
  {
   "cell_type": "markdown",
   "metadata": {},
   "source": [
    "### Series에서의 .loc는 Series[label]과 같다."
   ]
  },
  {
   "cell_type": "code",
   "execution_count": 32,
   "metadata": {},
   "outputs": [
    {
     "data": {
      "text/plain": [
       "a    0\n",
       "b    1\n",
       "c    2\n",
       "d    3\n",
       "e    4\n",
       "dtype: int64"
      ]
     },
     "execution_count": 32,
     "metadata": {},
     "output_type": "execute_result"
    }
   ],
   "source": [
    "# create a series\n",
    "s = pd.Series(np.arange(0, 5), index=list('abcde'))\n",
    "s"
   ]
  },
  {
   "cell_type": "markdown",
   "metadata": {},
   "source": [
    "### `.loc[]`"
   ]
  },
  {
   "cell_type": "code",
   "execution_count": 33,
   "metadata": {},
   "outputs": [
    {
     "data": {
      "text/plain": [
       "1"
      ]
     },
     "execution_count": 33,
     "metadata": {},
     "output_type": "execute_result"
    }
   ],
   "source": [
    "# lookup by index label\n",
    "s['b']"
   ]
  },
  {
   "cell_type": "code",
   "execution_count": 34,
   "metadata": {},
   "outputs": [
    {
     "data": {
      "text/plain": [
       "1"
      ]
     },
     "execution_count": 34,
     "metadata": {},
     "output_type": "execute_result"
    }
   ],
   "source": [
    "# explicit lookup by label\n",
    "s.loc['b']"
   ]
  },
  {
   "cell_type": "markdown",
   "metadata": {},
   "source": [
    "### DataFrame에서의 `[]`는 로우 대신 칼럼을 가져온다. \n",
    "\n",
    "로우 인덱스로 검색하려면 속성 인덱서 중의 하나를 사용해야 한다."
   ]
  },
  {
   "cell_type": "code",
   "execution_count": 35,
   "metadata": {},
   "outputs": [
    {
     "data": {
      "text/plain": [
       "    a   b\n",
       "v  10  11\n",
       "w  12  13"
      ]
     },
     "execution_count": 35,
     "metadata": {},
     "output_type": "execute_result"
    }
   ],
   "source": [
    "# create a DataFrame with two columns\n",
    "df = pd.DataFrame([ np.arange(10, 12), \n",
    "                    np.arange(12, 14)], \n",
    "                  columns=list('ab'), \n",
    "                  index=list('vw'))\n",
    "df"
   ]
  },
  {
   "cell_type": "code",
   "execution_count": 36,
   "metadata": {},
   "outputs": [
    {
     "data": {
      "text/plain": [
       "v    10\n",
       "w    12\n",
       "Name: a, dtype: int64"
      ]
     },
     "execution_count": 36,
     "metadata": {},
     "output_type": "execute_result"
    }
   ],
   "source": [
    "# this returns the column 'a'\n",
    "df['a']"
   ]
  },
  {
   "cell_type": "code",
   "execution_count": 37,
   "metadata": {},
   "outputs": [
    {
     "data": {
      "text/plain": [
       "a    12\n",
       "b    13\n",
       "Name: w, dtype: int64"
      ]
     },
     "execution_count": 37,
     "metadata": {},
     "output_type": "execute_result"
    }
   ],
   "source": [
    "# return the row 'w' by label\n",
    "df.loc['w']"
   ]
  },
  {
   "cell_type": "markdown",
   "metadata": {},
   "source": [
    "### 속성 인덱서는 슬라이싱에도 이용할 수 있다. "
   ]
  },
  {
   "cell_type": "code",
   "execution_count": 39,
   "metadata": {},
   "outputs": [
    {
     "data": {
      "text/plain": [
       "b    1\n",
       "c    2\n",
       "d    3\n",
       "dtype: int64"
      ]
     },
     "execution_count": 39,
     "metadata": {},
     "output_type": "execute_result"
    }
   ],
   "source": [
    "# slices the Series from index label b to d\n",
    "s['b':'d']"
   ]
  },
  {
   "cell_type": "code",
   "execution_count": 40,
   "metadata": {},
   "outputs": [
    {
     "data": {
      "text/plain": [
       "b    1\n",
       "c    2\n",
       "d    3\n",
       "dtype: int64"
      ]
     },
     "execution_count": 40,
     "metadata": {},
     "output_type": "execute_result"
    }
   ],
   "source": [
    "# this explicitly slices from label b to d\n",
    "s.loc['b':'d']"
   ]
  },
  {
   "cell_type": "markdown",
   "metadata": {},
   "source": [
    "### `.loc[[list]]`\n",
    "값 리스트를 전달할 수도 있다. "
   ]
  },
  {
   "cell_type": "code",
   "execution_count": 41,
   "metadata": {},
   "outputs": [
    {
     "data": {
      "text/plain": [
       "a    0\n",
       "c    2\n",
       "e    4\n",
       "dtype: int64"
      ]
     },
     "execution_count": 41,
     "metadata": {},
     "output_type": "execute_result"
    }
   ],
   "source": [
    "# and this looks up rows by label\n",
    "s.loc[['a', 'c', 'e']]"
   ]
  },
  {
   "cell_type": "markdown",
   "metadata": {},
   "source": [
    "# Moving data to and from the index \n",
    "인덱스 사이의 데이터 이동 \n",
    "\n",
    "## `.reset_index()`\n",
    " `.reset_index()` 를 사용하면 DataFrame 객체의 인덱스를 재설정할 수 있다.  \n",
    "대개 인덱스 재설정을 사용하는 목적은 DataFrame의 인덱스 콘텐츠를 하나 이상의 칼럼으로 이동시키기 위함이다. \n",
    "\n",
    "sp500 데이터의 인덱스인 주식 기호를 칼럼으로 이동시키고, 인덱스를 기본 정수 인덱스로 교체해본다.  "
   ]
  },
  {
   "cell_type": "code",
   "execution_count": 42,
   "metadata": {},
   "outputs": [
    {
     "data": {
      "text/plain": [
       "                        Sector   Price  Book Value\n",
       "Symbol                                            \n",
       "MMM                Industrials  141.14      26.668\n",
       "ABT                Health Care   39.60      15.573\n",
       "ABBV               Health Care   53.95       2.954\n",
       "ACN     Information Technology   79.79       8.326\n",
       "ACE                 Financials  102.91      86.897"
      ]
     },
     "execution_count": 42,
     "metadata": {},
     "output_type": "execute_result"
    }
   ],
   "source": [
    "# examine asome of the sp500 data\n",
    "# 현재 Symbol이 인덱스로 들어가 있는 상황\n",
    "sp500[:5]"
   ]
  },
  {
   "cell_type": "code",
   "execution_count": 43,
   "metadata": {},
   "outputs": [
    {
     "data": {
      "text/plain": [
       "  Symbol                  Sector   Price  Book Value\n",
       "0    MMM             Industrials  141.14      26.668\n",
       "1    ABT             Health Care   39.60      15.573\n",
       "2   ABBV             Health Care   53.95       2.954\n",
       "3    ACN  Information Technology   79.79       8.326\n",
       "4    ACE              Financials  102.91      86.897"
      ]
     },
     "execution_count": 43,
     "metadata": {},
     "output_type": "execute_result"
    }
   ],
   "source": [
    "# reset the index which moves the values in the index to a column\n",
    "# reset_index()를 사용할 경우 inplace 옵션이 주어지지만 복사본을 만들었다.\n",
    "index_moved_to_col = sp500.reset_index()\n",
    "index_moved_to_col[:5]"
   ]
  },
  {
   "cell_type": "markdown",
   "metadata": {},
   "source": [
    "## `.set_index()` \n",
    "`.set_index()` 메서드를 사용하면 데이터 칼럼을 DataFrame 객체의 인덱스로 만들 수 있다.  \n",
    "\n",
    "다음은 Sector 칼럼을 인덱스로 만들어본 것이다. "
   ]
  },
  {
   "cell_type": "code",
   "execution_count": 44,
   "metadata": {},
   "outputs": [
    {
     "data": {
      "text/plain": [
       "                       Symbol   Price  Book Value\n",
       "Sector                                           \n",
       "Industrials               MMM  141.14      26.668\n",
       "Health Care               ABT   39.60      15.573\n",
       "Health Care              ABBV   53.95       2.954\n",
       "Information Technology    ACN   79.79       8.326\n",
       "Financials                ACE  102.91      86.897"
      ]
     },
     "execution_count": 44,
     "metadata": {},
     "output_type": "execute_result"
    }
   ],
   "source": [
    "# and now set the Sector column to be the index\n",
    "# 제로베이스 정수 인덱스가 부여되었던 데이터프레임의 인덱스가 Sector 칼럼으로 덮어졌다. \n",
    "index_moved_to_col.set_index('Sector')[:5]"
   ]
  },
  {
   "cell_type": "markdown",
   "metadata": {},
   "source": [
    "복수의 칼럼을 인덱스로 이동시킴으로써 계층형 다중 인덱스를 만드는 일도 가능하다. 계층형 인덱스는 조금 후에 다룬다.\n",
    "\n",
    "## `.reindex()`\n",
    "`.reindex()` 메서드를 사용하면 DataFrame을 리인덱싱할 수 있다.  \n",
    "리인덱싱은 DataFrame에 새 인덱스를 부여하고 거기에 기존 인덱스의 데이터를 채운다.  \n",
    "기존에 없던 인덱스에는 `NaN`을 할당한다. \n",
    "\n",
    "다음의 예시를 보면 sp500을 3개의 인덱스 레이블로 리인덱싱 하는 예시이다. 이 과정을 통해 지정된 로우를 갖는 새 데이터 프레임이 만들어진다.  \n",
    "기존의 값을 찾을 수 없는 로우의 경우('FOO') 값이 찾을 수 없다는 뜻의 `NaN`이 표시되어있다.  \n",
    "(말하자면 해당 인덱스 레이블을 갖는 데이터 프레임을 만든다고 생각하면 편할 것으로 보인다.)"
   ]
  },
  {
   "cell_type": "code",
   "execution_count": 46,
   "metadata": {},
   "outputs": [
    {
     "data": {
      "text/plain": [
       "             Sector   Price  Book Value\n",
       "Symbol                                 \n",
       "MMM     Industrials  141.14      26.668\n",
       "ABBV    Health Care   53.95       2.954\n",
       "FOO             NaN     NaN         NaN"
      ]
     },
     "execution_count": 46,
     "metadata": {},
     "output_type": "execute_result"
    }
   ],
   "source": [
    "# reindex to have MMM, ABBV, and FOO index labels\n",
    "reindexed = sp500.reindex(index=['MMM', 'ABBV', 'FOO'])\n",
    "# note that ABT and ACN are dropped and FOO has NaN values\n",
    "reindexed"
   ]
  },
  {
   "cell_type": "markdown",
   "metadata": {},
   "source": [
    "리인덱싱은 칼럼에 대해서도 가능한데, 다음은 sp500의 세 칼럼명으로 리인덱싱 한 결과이다.  \n",
    "기존의 값이 존재하지 않는 'NewCol'의 경우 `NaN`으로 표시되었다."
   ]
  },
  {
   "cell_type": "code",
   "execution_count": 47,
   "metadata": {},
   "outputs": [
    {
     "data": {
      "text/plain": [
       "         Price  Book Value  NewCol\n",
       "Symbol                            \n",
       "MMM     141.14      26.668     NaN\n",
       "ABT      39.60      15.573     NaN\n",
       "ABBV     53.95       2.954     NaN\n",
       "ACN      79.79       8.326     NaN\n",
       "ACE     102.91      86.897     NaN"
      ]
     },
     "execution_count": 47,
     "metadata": {},
     "output_type": "execute_result"
    }
   ],
   "source": [
    "# reindex columns, head 5 rows\n",
    "sp500.reindex(columns=['Price', \n",
    "                       'Book Value', \n",
    "                       'NewCol'])[:5]"
   ]
  },
  {
   "cell_type": "markdown",
   "metadata": {},
   "source": [
    "# Hierarchical indexing\n",
    "---\n",
    "계층형 인덱스\n",
    "\n",
    "계층형 인덱스는 하나의 로우에 둘 이상의 인덱스를 조합해 사용할 수 있는 pandas의 기능이다. 계층형 인덱스에서 각 인덱스는 레벨로서 참조된다.  \n",
    "인덱스의 다중 레벨은 각 레벨에서의 서로 다른 값 조합을 통해 데이터의 서로 다른 서브셋을 선택하는 효율적인 방법이다. 기술적으로 이런 계층형 다중 레벨을 갖는 pandas의 인덱스는 `MultiIndex` 객체이다.  \n",
    "\n",
    "다음은 `MultiIndex`를 만들어 sp500 데이터에 접근하는 코드이다.  \n",
    "두 변수 값의 조합을 사용해 효율적인 데이터 탐색을 할 수 있도록 이 데이터를 Sector와 Symbol 기준으로 재구성하고자 한다.  \n",
    "이는 다음 코드(`.set_index([col1, col2])`)와 같이 Sector와 Symbol을 MultiIndex로 지정함으로써 가능하다.  \n"
   ]
  },
  {
   "cell_type": "code",
   "execution_count": 48,
   "metadata": {},
   "outputs": [
    {
     "data": {
      "text/plain": [
       "    Symbol                  Sector   Price  Book Value\n",
       "0      MMM             Industrials  141.14      26.668\n",
       "1      ABT             Health Care   39.60      15.573\n",
       "2     ABBV             Health Care   53.95       2.954\n",
       "3      ACN  Information Technology   79.79       8.326\n",
       "4      ACE              Financials  102.91      86.897\n",
       "..     ...                     ...     ...         ...\n",
       "495   YHOO  Information Technology   35.02      12.768\n",
       "496    YUM  Consumer Discretionary   74.77       5.147\n",
       "497    ZMH             Health Care  101.84      37.181\n",
       "498   ZION              Financials   28.43      30.191\n",
       "499    ZTS             Health Care   30.53       2.150\n",
       "\n",
       "[500 rows x 4 columns]"
      ]
     },
     "execution_count": 48,
     "metadata": {},
     "output_type": "execute_result"
    }
   ],
   "source": [
    "# first, push symbol \"into a column\"\n",
    "reindexed = sp500.reset_index()\n",
    "reindexed"
   ]
  },
  {
   "cell_type": "code",
   "execution_count": 49,
   "metadata": {},
   "outputs": [
    {
     "data": {
      "text/plain": [
       "                                Price  Book Value\n",
       "Sector                 Symbol                    \n",
       "Industrials            MMM     141.14      26.668\n",
       "Health Care            ABT      39.60      15.573\n",
       "                       ABBV     53.95       2.954\n",
       "Information Technology ACN      79.79       8.326\n",
       "Financials             ACE     102.91      86.897"
      ]
     },
     "execution_count": 49,
     "metadata": {},
     "output_type": "execute_result"
    }
   ],
   "source": [
    "# and now, index sp500 by Sector and Symbol\n",
    "multi_fi = reindexed.set_index(['Sector', 'Symbol'])\n",
    "multi_fi[:5]"
   ]
  },
  {
   "cell_type": "markdown",
   "metadata": {},
   "source": [
    "`.index` 속성을 통해 이 인덱스가 멀티인덱스 객체임을 알 수 있다.  \n",
    "`MultiIndex` 객체는 둘 이상의 레벨을 갖는다. 그래서 여기서의 레벨은 2이다. "
   ]
  },
  {
   "cell_type": "code",
   "execution_count": 51,
   "metadata": {},
   "outputs": [
    {
     "data": {
      "text/plain": [
       "pandas.core.indexes.multi.MultiIndex"
      ]
     },
     "execution_count": 51,
     "metadata": {},
     "output_type": "execute_result"
    }
   ],
   "source": [
    "# the index is a MultiIndex\n",
    "type(multi_fi.index)"
   ]
  },
  {
   "cell_type": "code",
   "execution_count": 52,
   "metadata": {},
   "outputs": [
    {
     "data": {
      "text/plain": [
       "2"
      ]
     },
     "execution_count": 52,
     "metadata": {},
     "output_type": "execute_result"
    }
   ],
   "source": [
    "# this has two levels\n",
    "len(multi_fi.index.levels)"
   ]
  },
  {
   "cell_type": "markdown",
   "metadata": {},
   "source": [
    "**각 레벨은 별개의 Index 객체이다.**"
   ]
  },
  {
   "cell_type": "code",
   "execution_count": 53,
   "metadata": {},
   "outputs": [
    {
     "data": {
      "text/plain": [
       "Index(['Consumer Discretionary', 'Consumer Discretionary ',\n",
       "       'Consumer Staples', 'Consumer Staples ', 'Energy',\n",
       "       'Financials', 'Health Care', 'Industrials',\n",
       "       'Industries', 'Information Technology', 'Materials',\n",
       "       'Telecommunications Services', 'Utilities'],\n",
       "      dtype='object', name='Sector')"
      ]
     },
     "execution_count": 53,
     "metadata": {},
     "output_type": "execute_result"
    }
   ],
   "source": [
    "# each index level is an index\n",
    "multi_fi.index.levels[0]"
   ]
  },
  {
   "cell_type": "code",
   "execution_count": 54,
   "metadata": {},
   "outputs": [
    {
     "data": {
      "text/plain": [
       "Index(['A', 'AA', 'AAPL', 'ABBV', 'ABC', 'ABT', 'ACE',\n",
       "       'ACN', 'ACT', 'ADBE',\n",
       "       ...\n",
       "       'XLNX', 'XOM', 'XRAY', 'XRX', 'XYL', 'YHOO', 'YUM',\n",
       "       'ZION', 'ZMH', 'ZTS'],\n",
       "      dtype='object', name='Symbol', length=500)"
      ]
     },
     "execution_count": 54,
     "metadata": {},
     "output_type": "execute_result"
    }
   ],
   "source": [
    "# each index level is an index\n",
    "multi_fi.index.levels[1]"
   ]
  },
  {
   "cell_type": "markdown",
   "metadata": {},
   "source": [
    "특정 레벨에서의 모든 로우에 대한 인덱스 자체를 가져오려면 `get_level_values()` 메서드를 사용하면 된다.  "
   ]
  },
  {
   "cell_type": "code",
   "execution_count": 55,
   "metadata": {},
   "outputs": [
    {
     "data": {
      "text/plain": [
       "Index(['Industrials', 'Health Care', 'Health Care',\n",
       "       'Information Technology', 'Financials',\n",
       "       'Health Care', 'Information Technology',\n",
       "       'Utilities', 'Health Care', 'Financials',\n",
       "       ...\n",
       "       'Utilities', 'Information Technology',\n",
       "       'Information Technology', 'Financials',\n",
       "       'Industrials', 'Information Technology',\n",
       "       'Consumer Discretionary', 'Health Care',\n",
       "       'Financials', 'Health Care'],\n",
       "      dtype='object', name='Sector', length=500)"
      ]
     },
     "execution_count": 55,
     "metadata": {},
     "output_type": "execute_result"
    }
   ],
   "source": [
    "# values of index level 0\n",
    "multi_fi.index.get_level_values(0)"
   ]
  },
  {
   "cell_type": "markdown",
   "metadata": {},
   "source": [
    "계층형 인덱스로 DataFrame의 값에 접근하려면 `.xs()` 메서드를 사용하면 된다.  \n",
    "이 메서드는 `.ix`애트리뷰트와 유사하게 동작하지만, 인덱스의 다차원성을 파라미터로 지정할 수 있다.  \n",
    "말하자면 0레벨인지, 1레벨인지를 정하여 해당 레벨의 인덱스 레이블을 지정해 가져올 수 있다. \n",
    "\n",
    "다음은 0레벨 인덱스 레이블이 'Industrials'인 모든 아이템을 선택하는 코드이다."
   ]
  },
  {
   "cell_type": "code",
   "execution_count": 56,
   "metadata": {},
   "outputs": [
    {
     "data": {
      "text/plain": [
       "         Price  Book Value\n",
       "Symbol                    \n",
       "MMM     141.14      26.668\n",
       "ALLE     52.46       0.000\n",
       "APH      95.71      18.315\n",
       "AVY      48.20      15.616\n",
       "BA      132.41      19.870"
      ]
     },
     "execution_count": 56,
     "metadata": {},
     "output_type": "execute_result"
    }
   ],
   "source": [
    "# get all stocks that are Industrials\n",
    "# note the result drops level 0 of the index\n",
    "multi_fi.xs('Industrials')[:5]"
   ]
  },
  {
   "cell_type": "markdown",
   "metadata": {},
   "source": [
    "결과 DataFrame의 인덱스는 지정하지 않은 레벨의 인덱스로 구성된다. 여기에서는 0레벨로, 지정한 레벨의 인덱스 (Sector)는 결과 구성에서 빠지게 된다.  \n",
    "\n",
    "만약 특정 레벨의 특정 인덱스 값으로 로우를 선택하고 싶다면 `.xs(level=)` 의 level 파라미터를 쓰면 된다.  \n",
    "\n",
    "여기서 Symbol 칼럼의 인덱스가 'ALLE'인 로우를 선택하는 코드이다. "
   ]
  },
  {
   "cell_type": "code",
   "execution_count": 57,
   "metadata": {},
   "outputs": [
    {
     "data": {
      "text/plain": [
       "             Price  Book Value\n",
       "Sector                        \n",
       "Industrials  52.46         0.0"
      ]
     },
     "execution_count": 57,
     "metadata": {},
     "output_type": "execute_result"
    }
   ],
   "source": [
    "# select rows where level 1 (Symbol) is ALLE\n",
    "# note that the Sector level is dropped from the result\n",
    "multi_fi.xs('ALLE', level=1)"
   ]
  }
 ],
 "metadata": {
  "anaconda-cloud": {},
  "kernelspec": {
   "display_name": "Python 3 (ipykernel)",
   "language": "python",
   "name": "python3"
  },
  "language_info": {
   "codemirror_mode": {
    "name": "ipython",
    "version": 3
   },
   "file_extension": ".py",
   "mimetype": "text/x-python",
   "name": "python",
   "nbconvert_exporter": "python",
   "pygments_lexer": "ipython3",
   "version": "3.8.5"
  },
  "latex_envs": {
   "LaTeX_envs_menu_present": true,
   "autoclose": true,
   "autocomplete": true,
   "bibliofile": "biblio.bib",
   "cite_by": "apalike",
   "current_citInitial": 1,
   "eqLabelWithNumbers": true,
   "eqNumInitial": 1,
   "hotkeys": {
    "equation": "Ctrl-E",
    "itemize": "Ctrl-I"
   },
   "labels_anchors": false,
   "latex_user_defs": false,
   "report_style_numbering": false,
   "user_envs_cfg": false
  },
  "toc": {
   "base_numbering": 1,
   "nav_menu": {},
   "number_sections": true,
   "sideBar": true,
   "skip_h1_title": false,
   "title_cell": "Table of Contents",
   "title_sidebar": "Contents",
   "toc_cell": true,
   "toc_position": {},
   "toc_section_display": true,
   "toc_window_display": true
  }
 },
 "nbformat": 4,
 "nbformat_minor": 1
}

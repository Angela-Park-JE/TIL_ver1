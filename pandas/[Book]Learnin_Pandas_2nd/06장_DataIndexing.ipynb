{
 "cells": [
  {
   "cell_type": "markdown",
   "metadata": {
    "toc": true
   },
   "source": [
    "<h1>Table of Contents<span class=\"tocSkip\"></span></h1>\n",
    "<div class=\"toc\"><ul class=\"toc-item\"><li><span><a href=\"#Configuring-panadas\" data-toc-modified-id=\"Configuring-panadas-1\"><span class=\"toc-item-num\">1&nbsp;&nbsp;</span>Configuring panadas</a></span></li><li><span><a href=\"#Data-Indexing\" data-toc-modified-id=\"Data-Indexing-2\"><span class=\"toc-item-num\">2&nbsp;&nbsp;</span>Data Indexing</a></span></li><li><span><a href=\"#The-importance-of-indexes\" data-toc-modified-id=\"The-importance-of-indexes-3\"><span class=\"toc-item-num\">3&nbsp;&nbsp;</span>The importance of indexes</a></span></li><li><span><a href=\"#인덱스-유형\" data-toc-modified-id=\"인덱스-유형-4\"><span class=\"toc-item-num\">4&nbsp;&nbsp;</span>인덱스 유형</a></span><ul class=\"toc-item\"><li><span><a href=\"#The-fundamental-index-type:-Index\" data-toc-modified-id=\"The-fundamental-index-type:-Index-4.1\"><span class=\"toc-item-num\">4.1&nbsp;&nbsp;</span>The fundamental index type: Index</a></span></li><li><span><a href=\"#Integer-index-labels-using-Int64Index-and-RangeIndex\" data-toc-modified-id=\"Integer-index-labels-using-Int64Index-and-RangeIndex-4.2\"><span class=\"toc-item-num\">4.2&nbsp;&nbsp;</span>Integer index labels using Int64Index and RangeIndex</a></span></li><li><span><a href=\"#Floating-point-labels-using-Float64Index\" data-toc-modified-id=\"Floating-point-labels-using-Float64Index-4.3\"><span class=\"toc-item-num\">4.3&nbsp;&nbsp;</span>Floating point labels using Float64Index</a></span></li><li><span><a href=\"#Representing-discrete-intervals-using-IntervalIndex\" data-toc-modified-id=\"Representing-discrete-intervals-using-IntervalIndex-4.4\"><span class=\"toc-item-num\">4.4&nbsp;&nbsp;</span>Representing discrete intervals using IntervalIndex</a></span></li><li><span><a href=\"#Categorical-values-as-an-index:-CategoricalIndex\" data-toc-modified-id=\"Categorical-values-as-an-index:-CategoricalIndex-4.5\"><span class=\"toc-item-num\">4.5&nbsp;&nbsp;</span>Categorical values as an index: CategoricalIndex</a></span></li></ul></li></ul></div>"
   ]
  },
  {
   "cell_type": "markdown",
   "metadata": {},
   "source": [
    "# Configuring panadas\n",
    "라이브러리 임포트, 버전 확인, 파일 업로드"
   ]
  },
  {
   "cell_type": "code",
   "execution_count": 1,
   "metadata": {},
   "outputs": [
    {
     "name": "stdout",
     "output_type": "stream",
     "text": [
      "1.4.1\n",
      "1.22.4\n",
      "3.8.5 (default, Sep  4 2020, 02:22:02) \n",
      "[Clang 10.0.0 ]\n"
     ]
    }
   ],
   "source": [
    "# import numpy and pandas\n",
    "import numpy as np\n",
    "import pandas as pd\n",
    "\n",
    "# used for dates\n",
    "import datetime\n",
    "from datetime import datetime, date\n",
    "\n",
    "# Set some pandas options controlling output format\n",
    "pd.set_option('display.notebook_repr_html', False)\n",
    "pd.set_option('display.max_columns', 8)\n",
    "pd.set_option('display.max_rows', 10)\n",
    "pd.set_option('display.width', 60)\n",
    "\n",
    "# bring in matplotlib for graphics\n",
    "import matplotlib.pyplot as plt\n",
    "%matplotlib inline\n",
    "\n",
    "# version check\n",
    "print(pd.__version__)\n",
    "print(np.__version__)\n",
    "import sys\n",
    "print(sys.version)\n",
    "\n",
    "# read in the data and print the first five rows\n",
    "# use the Symbol column as the index, and \n",
    "# only read in columns in positions 0, 2, 3, 7\n",
    "sp500 = pd.read_csv(\"/Users/Angela/Desktop/Personal/Learning-Pandas-Second-Edition-master/data/sp500.csv\", \n",
    "                    index_col='Symbol', \n",
    "                    usecols=[0, 2, 3, 7])"
   ]
  },
  {
   "cell_type": "markdown",
   "metadata": {},
   "source": [
    "# Data Indexing\n",
    "\n",
    "데이터 인덱싱\n",
    "\n",
    "인덱스는 시리즈나 데이터 프레임으로부터 값을 검색하기 위한 최적화된 도구로, 관계형 데이터베이스에서의 키와는 다르지만 오히려 더 강력하다. 인덱스는 복수의 데이터셋에 대한 정렬 기능을 제공하며, 서로 다른 빈도의 재표집(resampling)과 같은 다양한 데이터 작업에 의미를 부여하는 역할을 한다.  \n",
    "\n",
    "pandas로 수행하는 모델링의 상당 부분은 인덱스를 어떻게 설정하느냐에 매우 의존적이다. 제대로 구축한 인덱스는 성능 최적화에 도움이 되며, 데이터 분석에 있어서 매우 가치있는 도구가 된다.  \n",
    "\n",
    "- 인덱스의 중요성\n",
    "- pandas의 인덱스 유형 : `RangeIndex, Int64Index, CategoricalIndex, Float64Index, Datetimeindex, PeriodIndex`\n",
    "- 인덱스 설정과 재설정\n",
    "- 계층형 인덱스의 생성\n",
    "- 계층형 인덱스를 사용한 데이터 선택  "
   ]
  },
  {
   "cell_type": "markdown",
   "metadata": {},
   "source": [
    "# The importance of indexes\n",
    "인덱스의 중요성\n",
    "\n",
    "판다스에서 인덱스는 갑스이 효율적인 검색을 가능하게 한다. 인덱스가 없다면 모든 데이터는 선형 검색(linear search, 순차적으로 모두 검색)을 해야한다.  \n",
    "인덱스는 특정 데이터 아이템에 대한 최적화된 단축키며, 순차적인 과정 없이 한 번에 검색을 수행한다.  \n",
    "\n",
    "난수 10,00 개를 만들어 실습을 해보도록 한다. key라는 칼럼은 100부터 1씩 증가하는 정수 range를 입력하도록 했다. "
   ]
  },
  {
   "cell_type": "code",
   "execution_count": 2,
   "metadata": {},
   "outputs": [
    {
     "data": {
      "text/plain": [
       "        foo  key\n",
       "0  0.126970  100\n",
       "1  0.966718  101\n",
       "2  0.260476  102\n",
       "3  0.897237  103\n",
       "4  0.376750  104"
      ]
     },
     "execution_count": 2,
     "metadata": {},
     "output_type": "execute_result"
    }
   ],
   "source": [
    "# create DataFame of random numbers and a key column\n",
    "np.random.seed(123456)\n",
    "df = pd.DataFrame({'foo':np.random.random(10000), 'key':range(100, 10100)})\n",
    "df[:5]"
   ]
  },
  {
   "cell_type": "markdown",
   "metadata": {},
   "source": [
    "key = 10099 인 난수 데이터를 찾으려고 하는데, 이는 DataFrame의 마지막 로우이다. 불리언 선택으로 검색해본다.  \n",
    "간단한 작업이지만 꽤 오래걸림을 증명해볼 수 있다. \n",
    "\n",
    "`%timeit` 구문을 사용해, 반복적으로 검색하는 시뮬레이션을 통해 이 작업의 성능을 테스트 해본다. "
   ]
  },
  {
   "cell_type": "code",
   "execution_count": 3,
   "metadata": {},
   "outputs": [
    {
     "data": {
      "text/plain": [
       "           foo    key\n",
       "9999  0.272283  10099"
      ]
     },
     "execution_count": 3,
     "metadata": {},
     "output_type": "execute_result"
    }
   ],
   "source": [
    "# boolean select where key is 10099\n",
    "df[df.key==10099]"
   ]
  },
  {
   "cell_type": "code",
   "execution_count": 4,
   "metadata": {},
   "outputs": [
    {
     "name": "stdout",
     "output_type": "stream",
     "text": [
      "568 µs ± 174 µs per loop (mean ± std. dev. of 7 runs, 1,000 loops each)\n"
     ]
    }
   ],
   "source": [
    "# time the select\n",
    "%timeit df[df.key==10099]"
   ]
  },
  {
   "cell_type": "markdown",
   "metadata": {},
   "source": [
    "1000 번의 루프를 7번 실행했고, 평균적으로 379나노퍼세크 정도 걸린다고 한다.  \n",
    "\n",
    "인덱스를 활용해 직접 값을 검색할 것인데, 우리가 찾으려는 값이 있는 key라는 칼럼을 index로 설정한 DataFrame에서 수행한다. "
   ]
  },
  {
   "cell_type": "code",
   "execution_count": 5,
   "metadata": {},
   "outputs": [
    {
     "data": {
      "text/plain": [
       "          foo\n",
       "key          \n",
       "100  0.126970\n",
       "101  0.966718\n",
       "102  0.260476\n",
       "103  0.897237\n",
       "104  0.376750"
      ]
     },
     "execution_count": 5,
     "metadata": {},
     "output_type": "execute_result"
    }
   ],
   "source": [
    "# move key to the index\n",
    "df_with_index = df.set_index(['key'])\n",
    "df_with_index[:5]"
   ]
  },
  {
   "cell_type": "markdown",
   "metadata": {},
   "source": [
    "`.loc[]`에 우리가 찾으려는 값을 넣어 찾을 수 있다.  \n",
    "이를 시간을 측정해본다. "
   ]
  },
  {
   "cell_type": "code",
   "execution_count": 6,
   "metadata": {},
   "outputs": [
    {
     "data": {
      "text/plain": [
       "foo    0.272283\n",
       "Name: 10099, dtype: float64"
      ]
     },
     "execution_count": 6,
     "metadata": {},
     "output_type": "execute_result"
    }
   ],
   "source": [
    "# now can lookup with the index\n",
    "df_with_index.loc[10099]"
   ]
  },
  {
   "cell_type": "code",
   "execution_count": 7,
   "metadata": {},
   "outputs": [
    {
     "name": "stdout",
     "output_type": "stream",
     "text": [
      "86.3 µs ± 15.8 µs per loop (mean ± std. dev. of 7 runs, 10,000 loops each)\n"
     ]
    }
   ],
   "source": [
    "# and this is a lot faster\n",
    "%timeit df_with_index.loc[10099]"
   ]
  },
  {
   "cell_type": "markdown",
   "metadata": {},
   "source": [
    "$ \\pm $ 까지 계산하면 대략 5배 이상 빠르다. 이러한 성능상의 이유로 가능하다면 인덱스로 검색하는 것이 가장 좋다.  \n",
    "\n",
    "**인덱스를 사용하는 경우의 단점은 인덱스를 구성할 시간이 필요하며, 메모리를 좀 더 사용한다는 점**이다.  \n",
    "\n",
    "대부분의 경우 어떤 것이 인덱스가 돼야 하는지 본능적으로 느낄 수 있을 것이며, 따라서 인덱스를 먼저 만들고 데이터 작업을 시작하면 된다. (중복이 없고 숫자처럼 비트가 작을 수록 좋을 것같다).  \n",
    "그렇지 않을 경우에는 최선의 인덱스를 결정하기 위해 약간의 탐색을 먼저 해봐야 할 것이다. 때로는 충분한 데이터를 갖고 있지 않거나, 인덱스로 만들 적당한 필드가 없을 경우도 있다. 그런 경우 다소 모호한 복수의 결과를 반환하는 **부분적인 인덱스**를 사용할 수도 있는데, 그래도 불리언 선택을 통해 원하는 결과를 볼 수 있다. (중복인 경우 둘 다 반환하는 것을 이전에 확인했음.)  \n",
    "\n",
    "    탐색적 데이터 분석을 수행할 때에는 먼저 데이터를 로딩하고 쿼리와 불리언 선택을 사용해 탐색하는 방법이 권장된다. 그다음, 자연스럽게 인덱스를 지원할 수 있는 데이터이거나 또는 성능 향상이 필요한 경우에 인덱스를 만들면 된다.  "
   ]
  },
  {
   "cell_type": "markdown",
   "metadata": {},
   "source": [
    "# 인덱스 유형\n",
    "---\n",
    "pandas는 다수의 내장 인덱스를 제공하는데, 각 인덱스 유형은 특정 데이터 타입이나 데이터의 패턴에 기초해 최적의 검색을 위해 설계됐다.  \n",
    "\n",
    "## The fundamental index type: Index\n",
    "기본 유형 : `Index`\n",
    "\n",
    "Index는 가장 포괄적인 인덱스이며, 순서가 있고, 슬라이싱이 가능한 값들의 집합이다.  \n",
    "인덱스 자체는 반드시 해싱 가능한(hashable) 파이썬 객체여야 한다. 이는 인덱스가 그 해시를 이용해 값 검색을 효율적으로 하기 때문이다. 해시 검색이 선형 검색보다 선호되는 방식이지만, 더욱 최적화 할 수 있는 다른 인덱스 유형들도 있다고.  \n",
    "\n",
    "보통은 **칼럼 인덱스에 `Index`유형이 사용된다.**  \n",
    "`Index`는 대개 영숫자 칼럼명에 잘 어울리지만, 원한다면 칼럼 인덱스에 다른 유형을 사용하는 일도 있다. "
   ]
  },
  {
   "cell_type": "code",
   "execution_count": 8,
   "metadata": {},
   "outputs": [
    {
     "data": {
      "text/plain": [
       "           City  Temperature\n",
       "0      Missoula           70\n",
       "1  Philadelphia           80"
      ]
     },
     "execution_count": 8,
     "metadata": {},
     "output_type": "execute_result"
    }
   ],
   "source": [
    "# show that the columns are actually an index\n",
    "temps = pd.DataFrame({ \"City\": [\"Missoula\", \"Philadelphia\"],\n",
    "                       \"Temperature\": [70, 80] })\n",
    "temps"
   ]
  },
  {
   "cell_type": "code",
   "execution_count": 9,
   "metadata": {},
   "outputs": [
    {
     "data": {
      "text/plain": [
       "Index(['City', 'Temperature'], dtype='object')"
      ]
     },
     "execution_count": 9,
     "metadata": {},
     "output_type": "execute_result"
    }
   ],
   "source": [
    "# we can see columns is an index\n",
    "temps.columns"
   ]
  },
  {
   "cell_type": "markdown",
   "metadata": {},
   "source": [
    "## Integer index labels using Int64Index and RangeIndex\n",
    "정수 유형: `Int64Index`, `RangeIndex`\n",
    "\n",
    "`Int64Index`는 값과 매핑되는 64비트 정수의 불변 배열(immutable array)을 나타낸다. (얼마 전까지, 인덱스를 명시적으로 지정하지 않았거나 인덱스를 정수로 사용할 때 적용되는 pandas의 기본 인덱스 유형이었다고.) \n",
    "\n",
    "이 인덱스 유형은 연속적인 in-memory 배열을 사용하므로써, DataFrame의 로우 검색에 있어서 높은 성능을 보여준다.  "
   ]
  },
  {
   "cell_type": "code",
   "execution_count": 10,
   "metadata": {},
   "outputs": [
    {
     "data": {
      "text/plain": [
       "    0\n",
       "0  10\n",
       "1  11\n",
       "2  12\n",
       "3  13\n",
       "4  14"
      ]
     },
     "execution_count": 10,
     "metadata": {},
     "output_type": "execute_result"
    }
   ],
   "source": [
    "# explicitly create an Int64Index\n",
    "df_i64 = pd.DataFrame(np.arange(10, 20), index=np.arange(0, 10))\n",
    "df_i64[:5]"
   ]
  },
  {
   "cell_type": "code",
   "execution_count": 11,
   "metadata": {},
   "outputs": [
    {
     "data": {
      "text/plain": [
       "Int64Index([0, 1, 2, 3, 4, 5, 6, 7, 8, 9], dtype='int64')"
      ]
     },
     "execution_count": 11,
     "metadata": {},
     "output_type": "execute_result"
    }
   ],
   "source": [
    "# view the index\n",
    "df_i64.index"
   ]
  },
  {
   "cell_type": "markdown",
   "metadata": {},
   "source": [
    " `RangeIndex`는 `Int64Index`를 더욱 최적화한 버전이다. 시작 값, 마지막 값, 그리고 각 값의 간격을 나타낼 수 있는 정수 기반의 인덱스다.  \n",
    " 시작, 끝, 간격을 이용하는 것은 하위 인덱스 추가를 보장하는 일반적인 패턴이다. 이 세 값을 사용하면 메모리를 절약할 수 있으며, 실행 시간도 `Int64Index`와 동일하다.  \n",
    " \n",
    " `RangeIndex`는 pandas 객체를 위한 기본 인덱스 유형이 됐다. "
   ]
  },
  {
   "cell_type": "code",
   "execution_count": 12,
   "metadata": {},
   "outputs": [
    {
     "data": {
      "text/plain": [
       "    0\n",
       "0  10\n",
       "1  11\n",
       "2  12\n",
       "3  13\n",
       "4  14"
      ]
     },
     "execution_count": 12,
     "metadata": {},
     "output_type": "execute_result"
    }
   ],
   "source": [
    "# by default we are given a RangeIndex\n",
    "df_range = pd.DataFrame(np.arange(10, 15))\n",
    "df_range[:5]"
   ]
  },
  {
   "cell_type": "code",
   "execution_count": 13,
   "metadata": {},
   "outputs": [
    {
     "data": {
      "text/plain": [
       "RangeIndex(start=0, stop=5, step=1)"
      ]
     },
     "execution_count": 13,
     "metadata": {},
     "output_type": "execute_result"
    }
   ],
   "source": [
    "df_range.index"
   ]
  },
  {
   "cell_type": "markdown",
   "metadata": {},
   "source": [
    "## Floating point labels using Float64Index\n",
    "부동소수점 유형 : `Float64Index`\n",
    "\n",
    "부동소수점 수도 `Float64Index`를 통해 인덱스 레이블에 사용될 수 있다. 물론 `.iloc[]`를 사용할 때는 정수를 입력하여 찾아야 한다. "
   ]
  },
  {
   "cell_type": "code",
   "execution_count": 14,
   "metadata": {},
   "outputs": [
    {
     "data": {
      "text/plain": [
       "      0\n",
       "0.0   0\n",
       "0.5   5\n",
       "1.0  10\n",
       "1.5  15\n",
       "2.0  20"
      ]
     },
     "execution_count": 14,
     "metadata": {},
     "output_type": "execute_result"
    }
   ],
   "source": [
    "# indexes using a Float64Index\n",
    "df_f64 = pd.DataFrame(np.arange(0, 1000, 5), \n",
    "                      np.arange(0.0, 100.0, 0.5))\n",
    "df_f64.iloc[:5] # need iloc to slice first five"
   ]
  },
  {
   "cell_type": "code",
   "execution_count": 15,
   "metadata": {},
   "outputs": [
    {
     "data": {
      "text/plain": [
       "Float64Index([ 0.0,  0.5,  1.0,  1.5,  2.0,  2.5,  3.0,\n",
       "               3.5,  4.0,  4.5,\n",
       "              ...\n",
       "              95.0, 95.5, 96.0, 96.5, 97.0, 97.5, 98.0,\n",
       "              98.5, 99.0, 99.5],\n",
       "             dtype='float64', length=200)"
      ]
     },
     "execution_count": 15,
     "metadata": {},
     "output_type": "execute_result"
    }
   ],
   "source": [
    "df_f64.index"
   ]
  },
  {
   "cell_type": "markdown",
   "metadata": {},
   "source": [
    "## Representing discrete intervals using IntervalIndex\n",
    "이산 간격 유형 : `IntervalIndex`\n",
    "\n",
    "명확한 **간격**으로 구분되는 레이블일 경우 `IntervalIndex`를 사용해 나타낼 수 있다.  \n",
    "이산 간격(discrete interval)은 왼쪽이나 오른쪽 끝에 닫혀 있는데, 이는 그 끝에 있는 인덱스가 간격에 포함됨을 의미한다.  \n",
    "\n",
    "다음은 `IntervalIndex`를 인덱스로 사용하는 DataFrame을 만드는 예시이다. "
   ]
  },
  {
   "cell_type": "code",
   "execution_count": 16,
   "metadata": {},
   "outputs": [
    {
     "data": {
      "text/plain": [
       "            A\n",
       "(0.0, 0.5]  1\n",
       "(0.5, 1.0]  2\n",
       "(1.0, 1.5]  3\n",
       "(1.5, 2.0]  4"
      ]
     },
     "execution_count": 16,
     "metadata": {},
     "output_type": "execute_result"
    }
   ],
   "source": [
    "# a DataFrame with an IntervalIndex\n",
    "df_interval = pd.DataFrame({ \"A\": [1, 2, 3, 4]},\n",
    "                    index = pd.IntervalIndex.from_breaks(\n",
    "                        [0, 0.5, 1.0, 1.5, 2.0]))\n",
    "df_interval"
   ]
  },
  {
   "cell_type": "code",
   "execution_count": 17,
   "metadata": {},
   "outputs": [
    {
     "data": {
      "text/plain": [
       "            A\n",
       "(0.0, 0.5]  1\n",
       "(0.5, 1.0]  2"
      ]
     },
     "execution_count": 17,
     "metadata": {},
     "output_type": "execute_result"
    }
   ],
   "source": [
    "df_interval.iloc[:2]"
   ]
  },
  {
   "cell_type": "code",
   "execution_count": 18,
   "metadata": {},
   "outputs": [
    {
     "data": {
      "text/plain": [
       "IntervalIndex([(0.0, 0.5], (0.5, 1.0], (1.0, 1.5], (1.5, 2.0]], dtype='interval[float64, right]')"
      ]
     },
     "execution_count": 18,
     "metadata": {},
     "output_type": "execute_result"
    }
   ],
   "source": [
    "df_interval.index"
   ]
  },
  {
   "cell_type": "markdown",
   "metadata": {
    "collapsed": true
   },
   "source": [
    "## Categorical values as an index: CategoricalIndex\n",
    "범주형 : `CategoricalIndex`\n",
    "\n",
    "`CategoricalIndex`는 범주에 포함되지만 흩어져 있는 인덱스를 나타낸다.  \n",
    "\n",
    "다음은 하나의 칼럼을 범주로 지정하여 DataFrame을 만드는 방식이다. "
   ]
  }
 ],
 "metadata": {
  "anaconda-cloud": {},
  "kernelspec": {
   "display_name": "Python 3 (ipykernel)",
   "language": "python",
   "name": "python3"
  },
  "language_info": {
   "codemirror_mode": {
    "name": "ipython",
    "version": 3
   },
   "file_extension": ".py",
   "mimetype": "text/x-python",
   "name": "python",
   "nbconvert_exporter": "python",
   "pygments_lexer": "ipython3",
   "version": "3.8.5"
  },
  "latex_envs": {
   "LaTeX_envs_menu_present": true,
   "autoclose": true,
   "autocomplete": true,
   "bibliofile": "biblio.bib",
   "cite_by": "apalike",
   "current_citInitial": 1,
   "eqLabelWithNumbers": true,
   "eqNumInitial": 1,
   "hotkeys": {
    "equation": "Ctrl-E",
    "itemize": "Ctrl-I"
   },
   "labels_anchors": false,
   "latex_user_defs": false,
   "report_style_numbering": false,
   "user_envs_cfg": false
  },
  "toc": {
   "base_numbering": 1,
   "nav_menu": {},
   "number_sections": true,
   "sideBar": true,
   "skip_h1_title": false,
   "title_cell": "Table of Contents",
   "title_sidebar": "Contents",
   "toc_cell": true,
   "toc_position": {},
   "toc_section_display": true,
   "toc_window_display": true
  }
 },
 "nbformat": 4,
 "nbformat_minor": 1
}

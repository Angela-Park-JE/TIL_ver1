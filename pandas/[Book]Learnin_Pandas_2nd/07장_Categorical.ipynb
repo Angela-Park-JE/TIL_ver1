{
 "cells": [
  {
   "cell_type": "markdown",
   "metadata": {
    "toc": true
   },
   "source": [
    "<h1>Table of Contents<span class=\"tocSkip\"></span></h1>\n",
    "<div class=\"toc\"><ul class=\"toc-item\"><li><span><a href=\"#Configuring-pandas\" data-toc-modified-id=\"Configuring-pandas-1\"><span class=\"toc-item-num\">1&nbsp;&nbsp;</span>Configuring pandas</a></span></li><li><span><a href=\"#범주형-데이터\" data-toc-modified-id=\"범주형-데이터-2\"><span class=\"toc-item-num\">2&nbsp;&nbsp;</span>범주형 데이터</a></span></li><li><span><a href=\"#Creating-Categoricals\" data-toc-modified-id=\"Creating-Categoricals-3\"><span class=\"toc-item-num\">3&nbsp;&nbsp;</span>Creating Categoricals</a></span><ul class=\"toc-item\"><li><span><a href=\"#리스트로부터-만들기\" data-toc-modified-id=\"리스트로부터-만들기-3.1\"><span class=\"toc-item-num\">3.1&nbsp;&nbsp;</span>리스트로부터 만들기</a></span><ul class=\"toc-item\"><li><span><a href=\"#.categorical-로-범주-확인하기\" data-toc-modified-id=\".categorical-로-범주-확인하기-3.1.1\"><span class=\"toc-item-num\">3.1.1&nbsp;&nbsp;</span><code>.categorical</code> 로 범주 확인하기</a></span></li><li><span><a href=\"#.codes-:-할당된-정수-code-확인\" data-toc-modified-id=\".codes-:-할당된-정수-code-확인-3.1.2\"><span class=\"toc-item-num\">3.1.2&nbsp;&nbsp;</span><code>.codes</code> : 할당된 정수 code 확인</a></span></li><li><span><a href=\"#코드-순서-정하기\" data-toc-modified-id=\"코드-순서-정하기-3.1.3\"><span class=\"toc-item-num\">3.1.3&nbsp;&nbsp;</span>코드 순서 정하기</a></span></li></ul></li><li><span><a href=\"#범주형-시리즈-만들기:-pd.Series(categoryarray,-dtype=&quot;category&quot;)\" data-toc-modified-id=\"범주형-시리즈-만들기:-pd.Series(categoryarray,-dtype=&quot;category&quot;)-3.2\"><span class=\"toc-item-num\">3.2&nbsp;&nbsp;</span>범주형 시리즈 만들기: <code>pd.Series(categoryarray, dtype=\"category\")</code></a></span></li><li><span><a href=\"#범주형-시리즈-만들기-:-.astype('category')\" data-toc-modified-id=\"범주형-시리즈-만들기-:-.astype('category')-3.3\"><span class=\"toc-item-num\">3.3&nbsp;&nbsp;</span>범주형 시리즈 만들기 : <code>.astype('category')</code></a></span><ul class=\"toc-item\"><li><span><a href=\"#.cat-Attribute-:-CategoricalAccessor-를-반환하는-속성\" data-toc-modified-id=\".cat-Attribute-:-CategoricalAccessor-를-반환하는-속성-3.3.1\"><span class=\"toc-item-num\">3.3.1&nbsp;&nbsp;</span><code>.cat</code> Attribute : CategoricalAccessor 를 반환하는 속성</a></span><ul class=\"toc-item\"><li><span><a href=\"#.cat.categories\" data-toc-modified-id=\".cat.categories-3.3.1.1\"><span class=\"toc-item-num\">3.3.1.1&nbsp;&nbsp;</span><code>.cat.categories</code></a></span></li></ul></li></ul></li><li><span><a href=\"#pd.cut()-:-범주형-구간-만들기\" data-toc-modified-id=\"pd.cut()-:-범주형-구간-만들기-3.4\"><span class=\"toc-item-num\">3.4&nbsp;&nbsp;</span><code>pd.cut()</code> : 범주형 구간 만들기</a></span></li><li><span><a href=\"#pd.Categorical(ordered-=-True)-파라미터\" data-toc-modified-id=\"pd.Categorical(ordered-=-True)-파라미터-3.5\"><span class=\"toc-item-num\">3.5&nbsp;&nbsp;</span><code>pd.Categorical(ordered = True)</code> 파라미터</a></span></li><li><span><a href=\"#범주에-속하지-않는-값이-들어왔을-경우\" data-toc-modified-id=\"범주에-속하지-않는-값이-들어왔을-경우-3.6\"><span class=\"toc-item-num\">3.6&nbsp;&nbsp;</span>범주에 속하지 않는 값이 들어왔을 경우</a></span></li></ul></li><li><span><a href=\"#Renaming-Categories\" data-toc-modified-id=\"Renaming-Categories-4\"><span class=\"toc-item-num\">4&nbsp;&nbsp;</span>Renaming Categories</a></span><ul class=\"toc-item\"><li><span><a href=\"#.categories-attribute로-변경하기\" data-toc-modified-id=\".categories-attribute로-변경하기-4.1\"><span class=\"toc-item-num\">4.1&nbsp;&nbsp;</span><code>.categories</code> attribute로 변경하기</a></span></li><li><span><a href=\"#.rename_categories()-method로-변경하기\" data-toc-modified-id=\".rename_categories()-method로-변경하기-4.2\"><span class=\"toc-item-num\">4.2&nbsp;&nbsp;</span><code>.rename_categories()</code> method로 변경하기</a></span></li></ul></li><li><span><a href=\"#.add_categories()-:-Appending-new-categories\" data-toc-modified-id=\".add_categories()-:-Appending-new-categories-5\"><span class=\"toc-item-num\">5&nbsp;&nbsp;</span><code>.add_categories()</code> : Appending new categories</a></span></li><li><span><a href=\"#.remove_categories()-:-Removing-Categories\" data-toc-modified-id=\".remove_categories()-:-Removing-Categories-6\"><span class=\"toc-item-num\">6&nbsp;&nbsp;</span><code>.remove_categories()</code> : Removing Categories</a></span></li><li><span><a href=\"#.remove_unused_categories()-:-Removing-unused-categories\" data-toc-modified-id=\".remove_unused_categories()-:-Removing-unused-categories-7\"><span class=\"toc-item-num\">7&nbsp;&nbsp;</span><code>.remove_unused_categories()</code> : Removing unused categories</a></span></li><li><span><a href=\"#.set_categories()-:-Setting-categories\" data-toc-modified-id=\".set_categories()-:-Setting-categories-8\"><span class=\"toc-item-num\">8&nbsp;&nbsp;</span><code>.set_categories()</code> : Setting categories</a></span></li><li><span><a href=\"#기술-통계-정보-:-Describe()\" data-toc-modified-id=\"기술-통계-정보-:-Describe()-9\"><span class=\"toc-item-num\">9&nbsp;&nbsp;</span>기술 통계 정보 : <code>Describe()</code></a></span><ul class=\"toc-item\"><li><span><a href=\"#Value-counts\" data-toc-modified-id=\"Value-counts-9.1\"><span class=\"toc-item-num\">9.1&nbsp;&nbsp;</span>Value counts</a></span></li><li><span><a href=\"#Minimum,-maximum-and-mode\" data-toc-modified-id=\"Minimum,-maximum-and-mode-9.2\"><span class=\"toc-item-num\">9.2&nbsp;&nbsp;</span>Minimum, maximum and mode</a></span></li></ul></li><li><span><a href=\"#Example:-Munging-school-grades\" data-toc-modified-id=\"Example:-Munging-school-grades-10\"><span class=\"toc-item-num\">10&nbsp;&nbsp;</span>Example: Munging school grades</a></span></li><li><span><a href=\"#my-sample-:\" data-toc-modified-id=\"my-sample-:-11\"><span class=\"toc-item-num\">11&nbsp;&nbsp;</span>my sample :</a></span></li></ul></div>"
   ]
  },
  {
   "cell_type": "markdown",
   "metadata": {},
   "source": [
    "# Configuring pandas"
   ]
  },
  {
   "cell_type": "code",
   "execution_count": 1,
   "metadata": {},
   "outputs": [
    {
     "name": "stdout",
     "output_type": "stream",
     "text": [
      "1.4.1\n",
      "1.22.4\n",
      "3.8.5 (default, Sep  4 2020, 02:22:02) \n",
      "[Clang 10.0.0 ]\n"
     ]
    }
   ],
   "source": [
    "# import numpy and pandas\n",
    "import numpy as np\n",
    "import pandas as pd\n",
    "\n",
    "# used for dates\n",
    "import datetime\n",
    "from datetime import datetime, date\n",
    "\n",
    "# Set some pandas options controlling output format\n",
    "pd.set_option('display.notebook_repr_html', False)\n",
    "pd.set_option('display.max_columns', 8)\n",
    "pd.set_option('display.max_rows', 10)\n",
    "pd.set_option('display.width', 60)\n",
    "\n",
    "# bring in matplotlib for graphics\n",
    "import matplotlib.pyplot as plt\n",
    "%matplotlib inline\n",
    "\n",
    "# version check\n",
    "print(pd.__version__)\n",
    "print(np.__version__)\n",
    "import sys\n",
    "print(sys.version)"
   ]
  },
  {
   "cell_type": "markdown",
   "metadata": {},
   "source": [
    "# 범주형 데이터\n",
    "범주형 변수(categorical variable)는 대개 제한되고 고정된 데이터셋을 표현하는 통계학에서의 변수 유형이다. 범주형 변수는 값을 무한히 표현할 수 있는 연속 변수(continuous variable)와 대비된다. 성별, 혈액형 등이 범주형 변수의 예다.  \n",
    "pandas에서 범주형 변수는 `Categorical`이라는 pandas 객체를 사용해 표현한다. 이 객체는 각 범주를 나타내는 정수 코드의 그룹으로, 데이터를 효율적으로 표현하기 위해 설계됐다. 이로써 pandas는 범주 집합의 효율적인 표현뿐만 아니라 여러 범주형 변수를 정렬하거나 비교하는 능력을 갖추게 됐다. \n",
    "\n",
    "- `Categorical` 생성\n",
    "- 범주 이름 변경\n",
    "- 새 범주 추가\n",
    "- 범주 삭제\n",
    "- 미사용 범주 삭제\n",
    "- 범주 설정\n",
    "- 기술 통계\n",
    "- 값의 수 세기\n",
    "- 최댓값, 최솟값, 최빈값\n",
    "- `Categorical`을 사용해 학생의 숫자 등급에 문자 등급을 할당하는 방법\n"
   ]
  },
  {
   "cell_type": "markdown",
   "metadata": {
    "collapsed": true
   },
   "source": [
    "# Creating Categoricals\n",
    "---\n",
    "`Categorical` 생성\n",
    "\n",
    "pandas의 `Categorical`은 범주형 변수를 표현하기 위해 사용된다. 범주형 변수는 한정된 값의 집합으로 구성되며, 종종 값을 범주에 매핑하거나 각 범주에 있는 값의 개수를 추적할 때 사용된다. \n",
    "\n",
    "또 다른 목적은 연속적인 값들의 구획을 나눠 개별 레이블에 매핑시키기 위해서다. 예를 들면 숫자로 된 등급을 문자로 된 등급에 매핑시키는 일 등이다. 그런 매핑은 뒤쪽에서!\n",
    "\n",
    "pandas의 `Categorical`을 만드는 방법은 다양하다. \n",
    "\n",
    "## 리스트로부터 만들기"
   ]
  },
  {
   "cell_type": "code",
   "execution_count": 2,
   "metadata": {},
   "outputs": [
    {
     "data": {
      "text/plain": [
       "['low', 'high', 'medium', 'medium', 'high']\n",
       "Categories (3, object): ['high', 'low', 'medium']"
      ]
     },
     "execution_count": 2,
     "metadata": {},
     "output_type": "execute_result"
    }
   ],
   "source": [
    "# create a categorical directly from a list.  \n",
    "lmh_values = [\"low\", \"high\", \"medium\", \"medium\", \"high\"]\n",
    "lmh_cat = pd.Categorical(lmh_values)\n",
    "lmh_cat"
   ]
  },
  {
   "cell_type": "markdown",
   "metadata": {},
   "source": [
    "세 가지로 된 값을 가지고, 5개의 문자열 리스트로 이루어져있다.  \n",
    "pandas는 `Categorical`이 생성될 때 리스트에서 유일한 값들을 판별하고 이를 범주로 사용한다.  \n",
    "\n",
    "###  `.categorical` 로 범주 확인하기 \n",
    "만들어진 범주는 `.categorical` 속성을 사용해 확인할 수 있다. 해당 카테고리들로 데이터가 이루어져있음을 알 수 있다. "
   ]
  },
  {
   "cell_type": "code",
   "execution_count": 3,
   "metadata": {},
   "outputs": [
    {
     "data": {
      "text/plain": [
       "Index(['high', 'low', 'medium'], dtype='object')"
      ]
     },
     "execution_count": 3,
     "metadata": {},
     "output_type": "execute_result"
    }
   ],
   "source": [
    "# examine the categories\n",
    "lmh_cat.categories"
   ]
  },
  {
   "cell_type": "markdown",
   "metadata": {},
   "source": [
    " `.get_values()` 로 값 가져오는 것은 버전의 문제로 더 이상 되지 않는다.  \n",
    " "
   ]
  },
  {
   "cell_type": "code",
   "execution_count": null,
   "metadata": {},
   "outputs": [],
   "source": [
    "# retreive the values\n",
    "lmh_cat.get_values()"
   ]
  },
  {
   "cell_type": "markdown",
   "metadata": {},
   "source": [
    "### `.codes` : 할당된 정수 code 확인\n",
    "\n",
    " `Categorical`의 각 범주에는 정수 값이 할당되는데, 이를 코드(code)라고 한다. "
   ]
  },
  {
   "cell_type": "code",
   "execution_count": 5,
   "metadata": {},
   "outputs": [
    {
     "data": {
      "text/plain": [
       "array([1, 0, 2, 2, 0], dtype=int8)"
      ]
     },
     "execution_count": 5,
     "metadata": {},
     "output_type": "execute_result"
    }
   ],
   "source": [
    "# .codes shows the integer mapping for each value of the categorical\n",
    "lmh_cat.codes"
   ]
  },
  {
   "cell_type": "markdown",
   "metadata": {},
   "source": [
    "### 코드 순서 정하기\n",
    "\n",
    "이들 코드는 범주형 인덱스의 포지션을 효과적으로 나타낸다. (여기서는 low = 1, high = 0, medium = 2 인데, 알파벳 순서로 padnas가 문자열을 순차적으로 처리하면서 결정한 것으로 보인다.)  \n",
    "이 순서는 생성할 당시의 `categories` 파라미터를 통해 범주를 지정함으로써 통제할 수 있다. 파라미터에 순서대로 리스트를 주어준다. \n"
   ]
  },
  {
   "cell_type": "code",
   "execution_count": 6,
   "metadata": {},
   "outputs": [
    {
     "data": {
      "text/plain": [
       "['low', 'high', 'medium', 'medium', 'high']\n",
       "Categories (3, object): ['low', 'medium', 'high']"
      ]
     },
     "execution_count": 6,
     "metadata": {},
     "output_type": "execute_result"
    }
   ],
   "source": [
    "# create from list but explicitly state the categories\n",
    "lmh_cat = pd.Categorical(lmh_values,\n",
    "                         categories=[\"low\", \"medium\", \"high\"])\n",
    "lmh_cat"
   ]
  },
  {
   "cell_type": "code",
   "execution_count": 7,
   "metadata": {},
   "outputs": [
    {
     "data": {
      "text/plain": [
       "array([0, 2, 1, 1, 2], dtype=int8)"
      ]
     },
     "execution_count": 7,
     "metadata": {},
     "output_type": "execute_result"
    }
   ],
   "source": [
    "# the codes are...\n",
    "lmh_cat.codes"
   ]
  },
  {
   "cell_type": "markdown",
   "metadata": {},
   "source": [
    "이제 low = 0, medium = 1, high = 2 가 됐다. 각 범주의 의미와 상통하는 순서로 값이 정렬(sorting)됐으므로 유용하게 됐다.  \n",
    "\n",
    "`Categorical`의 정렬은 실제 값이 아닌 코드를 기준으로 수행되기 때문에 더 유용하게 됐다. 정렬해보자. "
   ]
  },
  {
   "cell_type": "code",
   "execution_count": 8,
   "metadata": {},
   "outputs": [
    {
     "data": {
      "text/plain": [
       "['low', 'medium', 'medium', 'high', 'high']\n",
       "Categories (3, object): ['low', 'medium', 'high']"
      ]
     },
     "execution_count": 8,
     "metadata": {},
     "output_type": "execute_result"
    }
   ],
   "source": [
    "# sorting is done using the codes underlying each value\n",
    "lmh_cat.sort_values()"
   ]
  },
  {
   "cell_type": "markdown",
   "metadata": {},
   "source": [
    "## 범주형 시리즈 만들기: `pd.Series(categoryarray, dtype=\"category\")` \n",
    "##### Categorical : Series, dtype = category\n",
    "범주형 변수는 dtype이 category인 하나의 시리즈로 표현될 수 있다.  \n",
    "다음은 범주 배열을 받아서 dtype이 category인 series를 만드는 예시이다. "
   ]
  },
  {
   "cell_type": "code",
   "execution_count": 9,
   "metadata": {},
   "outputs": [
    {
     "data": {
      "text/plain": [
       "0       low\n",
       "1      high\n",
       "2    medium\n",
       "3    medium\n",
       "4      high\n",
       "dtype: category\n",
       "Categories (3, object): ['high', 'low', 'medium']"
      ]
     },
     "execution_count": 9,
     "metadata": {},
     "output_type": "execute_result"
    }
   ],
   "source": [
    "# create a categorical using a Series and dtype\n",
    "cat_series = pd.Series(lmh_values, dtype = 'category')\n",
    "cat_series"
   ]
  },
  {
   "cell_type": "markdown",
   "metadata": {},
   "source": [
    "## 범주형 시리즈 만들기 : `.astype('category')` \n",
    "범주형 Series를 만드는 또 다른 방법은 먼저 Series를 하나 만든 다음, `.astype('category')` 메서드를 사용해 범주형으로 바꿔주는 것이다.  "
   ]
  },
  {
   "cell_type": "code",
   "execution_count": 10,
   "metadata": {},
   "outputs": [
    {
     "data": {
      "text/plain": [
       "0       low\n",
       "1      high\n",
       "2    medium\n",
       "3    medium\n",
       "4      high\n",
       "dtype: category\n",
       "Categories (3, object): ['high', 'low', 'medium']"
      ]
     },
     "execution_count": 10,
     "metadata": {},
     "output_type": "execute_result"
    }
   ],
   "source": [
    "# create a categorical using .astype()\n",
    "s = pd.Series(lmh_values)\n",
    "as_cat_series = s.astype('category')\n",
    "as_cat_series"
   ]
  },
  {
   "cell_type": "markdown",
   "metadata": {},
   "source": [
    "### `.cat` Attribute : CategoricalAccessor 를 반환하는 속성"
   ]
  },
  {
   "cell_type": "code",
   "execution_count": 11,
   "metadata": {},
   "outputs": [
    {
     "data": {
      "text/plain": [
       "<pandas.core.arrays.categorical.CategoricalAccessor object at 0x7f9200a77850>"
      ]
     },
     "execution_count": 11,
     "metadata": {},
     "output_type": "execute_result"
    }
   ],
   "source": [
    "# a categorical has a .cat property that lets you access info\n",
    "cat_series.cat"
   ]
  },
  {
   "cell_type": "markdown",
   "metadata": {},
   "source": [
    "#### `.cat.categories`\n",
    "CategoricalAccessor 는 범주형의 여러 정보에 접근할 수 있게 하는 객체이다. 예를 들어 다음과 같이 범주를 가져올 수 있다. "
   ]
  },
  {
   "cell_type": "code",
   "execution_count": 12,
   "metadata": {},
   "outputs": [
    {
     "data": {
      "text/plain": [
       "Index(['high', 'low', 'medium'], dtype='object')"
      ]
     },
     "execution_count": 12,
     "metadata": {},
     "output_type": "execute_result"
    }
   ],
   "source": [
    "# get the index for the categorical\n",
    "cat_series.cat.categories"
   ]
  },
  {
   "cell_type": "markdown",
   "metadata": {},
   "source": [
    "## `pd.cut()` : 범주형 구간 만들기\n",
    "`Categorical`을 반환해주는 여러 pandas 함수들이 있는데, `pd.cut()`은 특정 범위에 포함되는 객체의 구간(bins)을 만든다.  \n",
    "\n",
    "다음은 0부터 100 사이에 있는 5개의 난수를 정수 10만큼의 크기를 갖는 10개의 범주형 구간으로 분류시킨 예이다. \n",
    "\n",
    "`pd.cut()`함수로 생성된 범주형 변수가 Group 칼럼이고, 각 인덱스 레이블의 값은 특정 범주와 연결된다. "
   ]
  },
  {
   "cell_type": "code",
   "execution_count": 13,
   "metadata": {},
   "outputs": [
    {
     "data": {
      "text/plain": [
       "   Values\n",
       "0      65\n",
       "1      49\n",
       "2      56\n",
       "3      43\n",
       "4      43"
      ]
     },
     "execution_count": 13,
     "metadata": {},
     "output_type": "execute_result"
    }
   ],
   "source": [
    "# create a DataFrame of 100 values : 0~100사이의 랜덤 값을 갖도록 데이터를 만듬\n",
    "np.random.seed(123456)\n",
    "values = np.random.randint(0, 100, 5)\n",
    "bins = pd.DataFrame({\"Values\": values})\n",
    "bins"
   ]
  },
  {
   "cell_type": "code",
   "execution_count": 14,
   "metadata": {},
   "outputs": [
    {
     "data": {
      "text/plain": [
       "   Values     Group\n",
       "0      65  (60, 70]\n",
       "1      49  (40, 50]\n",
       "2      56  (50, 60]\n",
       "3      43  (40, 50]\n",
       "4      43  (40, 50]"
      ]
     },
     "execution_count": 14,
     "metadata": {},
     "output_type": "execute_result"
    }
   ],
   "source": [
    "# cut the values into : cut를 이용해, range로 0부터 100의 범위를 10개로 나눈 것을 그룹에 들어가도록 함\n",
    "bins['Group'] = pd.cut(values, range(0, 101, 10))\n",
    "bins"
   ]
  },
  {
   "cell_type": "markdown",
   "metadata": {},
   "source": [
    "Group 칼럼의 dtype을 찍어보면 category 로 나온다. "
   ]
  },
  {
   "cell_type": "code",
   "execution_count": 15,
   "metadata": {},
   "outputs": [
    {
     "data": {
      "text/plain": [
       "0    (60, 70]\n",
       "1    (40, 50]\n",
       "2    (50, 60]\n",
       "3    (40, 50]\n",
       "4    (40, 50]\n",
       "Name: Group, dtype: category\n",
       "Categories (10, interval[int64, right]): [(0, 10] < (10, 20] < (20, 30] < (30, 40] ... (60, 70] < (70, 80] < (80, 90] < (90, 100]]"
      ]
     },
     "execution_count": 15,
     "metadata": {},
     "output_type": "execute_result"
    }
   ],
   "source": [
    "# examine the categorical that was created\n",
    "bins.Group"
   ]
  },
  {
   "cell_type": "markdown",
   "metadata": {},
   "source": [
    "## `pd.Categorical(ordered = True)` 파라미터\n",
    "`ordered = True`를 사용하면 명시적으로 범주의 순서를 정렬할 수 있다. 이는 범주의 순서가 중요한 의미를 가진다는 점을 나타내며, 범주형 변수의 여러 시리즈 사이의 값 비교를 가능하게 해준다.  \n",
    "\n",
    "다음은 세 종류의 금속을 나타내는 순서를 갖는 `Categorical`을 생성하는 예시인데, 일종의 **엄격한 순서를 갖도록** 하게 된다.  \n",
    "이와 같은 순서는 `Categorical`끼리 정렬하거나 비교하는 용도로 사용될 수 있다. "
   ]
  },
  {
   "cell_type": "code",
   "execution_count": 16,
   "metadata": {},
   "outputs": [
    {
     "data": {
      "text/plain": [
       "['bronze', 'gold', 'silver', 'bronze']\n",
       "Categories (3, object): ['bronze' < 'silver' < 'gold']"
      ]
     },
     "execution_count": 16,
     "metadata": {},
     "output_type": "execute_result"
    }
   ],
   "source": [
    "# create an ordered categorical of precious metals\n",
    "# order is important for determining relative value\n",
    "metal_values = [\"bronze\", \"gold\", \"silver\", \"bronze\"]\n",
    "metal_categories = [\"bronze\", \"silver\", \"gold\"]\n",
    "metals = pd.Categorical(metal_values,\n",
    "                        categories=metal_categories,\n",
    "                        ordered = True)\n",
    "metals"
   ]
  },
  {
   "cell_type": "markdown",
   "metadata": {},
   "source": [
    "시험하기 위해 원래 값을 거꾸로 나열한 `Categorical`을 만들어본다.  \n",
    "\n",
    "    `Categorical`이 `.get_values()`를 사용할 수 없다는 오류 때문에 따로 만들었다. "
   ]
  },
  {
   "cell_type": "code",
   "execution_count": null,
   "metadata": {},
   "outputs": [],
   "source": [
    "\"\"\"\n",
    "원본 코드\n",
    "\n",
    "# reverse the metals\n",
    "metals_reversed_values = pd.Categorical(\n",
    "                                        metals.get_values()[::-1],\n",
    "                                        categories = metals.categories, \n",
    "                                        ordered=True)\n",
    "metals_reversed_values\n",
    "\"\"\""
   ]
  },
  {
   "cell_type": "code",
   "execution_count": 17,
   "metadata": {},
   "outputs": [
    {
     "data": {
      "text/plain": [
       "['bronze', 'silver', 'gold', 'bronze']\n",
       "Categories (3, object): ['bronze' < 'silver' < 'gold']"
      ]
     },
     "execution_count": 17,
     "metadata": {},
     "output_type": "execute_result"
    }
   ],
   "source": [
    "# reverse the metals\n",
    "metals_values2 = [\"bronze\", \"silver\", \"gold\", \"bronze\"]\n",
    "metals_reversed_values = pd.Categorical(metals_values2,\n",
    "                                        categories = metals.categories, # 값의 우열은 위에 만들었던 것과 같음\n",
    "                                        ordered=True)\n",
    "metals_reversed_values"
   ]
  },
  {
   "cell_type": "markdown",
   "metadata": {},
   "source": [
    "이제 두 범주형 변수를 서로 비교할 수 있다. 동일한 인덱스 레이블에 해당하는 금속의 가치를 각각 비교하는 예시이다. \n",
    "\n",
    "pandas는 각 값이 갖는 코드를 일치시킴으로써, 이와 같은 **비교를 수행할 수 있다.**  \n",
    "`.codes`를 통해 각 값이 어느 카테고리에 속하는지 볼 수 있다. 여기에 논리 연산자가 적용돼서 결과를 볼 수 있는 것이다. "
   ]
  },
  {
   "cell_type": "code",
   "execution_count": 18,
   "metadata": {},
   "outputs": [
    {
     "data": {
      "text/plain": [
       "array([ True, False,  True,  True])"
      ]
     },
     "execution_count": 18,
     "metadata": {},
     "output_type": "execute_result"
    }
   ],
   "source": [
    "# compare the two categoricals \n",
    "metals <= metals_reversed_values"
   ]
  },
  {
   "cell_type": "code",
   "execution_count": 19,
   "metadata": {},
   "outputs": [
    {
     "data": {
      "text/plain": [
       "array([0, 2, 1, 0], dtype=int8)"
      ]
     },
     "execution_count": 19,
     "metadata": {},
     "output_type": "execute_result"
    }
   ],
   "source": [
    "# codes are the integer value assocaited with each item\n",
    "metals.codes"
   ]
  },
  {
   "cell_type": "code",
   "execution_count": 20,
   "metadata": {},
   "outputs": [
    {
     "data": {
      "text/plain": [
       "array([0, 1, 2, 0], dtype=int8)"
      ]
     },
     "execution_count": 20,
     "metadata": {},
     "output_type": "execute_result"
    }
   ],
   "source": [
    "# and for metals2\n",
    "metals_reversed_values.codes"
   ]
  },
  {
   "cell_type": "markdown",
   "metadata": {},
   "source": [
    "## 범주에 속하지 않는 값이 들어왔을 경우\n",
    "어떤 범주에도 속하지 않는 값을 지정할 경우, pandas는 그 값을 `NaN`으로 대체한다.  \n",
    "\n",
    "어디에도 속하지 않는 'copper'를 지정한 상황을 보자."
   ]
  },
  {
   "cell_type": "code",
   "execution_count": 21,
   "metadata": {},
   "outputs": [
    {
     "data": {
      "text/plain": [
       "['bronze', NaN]\n",
       "Categories (3, object): ['bronze', 'silver', 'gold']"
      ]
     },
     "execution_count": 21,
     "metadata": {},
     "output_type": "execute_result"
    }
   ],
   "source": [
    "# creating a categorical with a non existent category\n",
    "pd.Categorical([\"bronze\", \"copper\"],\n",
    "               categories = metal_categories)"
   ]
  },
  {
   "cell_type": "code",
   "execution_count": 22,
   "metadata": {},
   "outputs": [
    {
     "data": {
      "text/plain": [
       "['bronze', NaN, NaN, 'gold', 'silver', NaN, NaN, NaN, NaN]\n",
       "Categories (3, object): ['bronze', 'silver', 'gold']"
      ]
     },
     "execution_count": 22,
     "metadata": {},
     "output_type": "execute_result"
    }
   ],
   "source": [
    "# 임의로 리스트를 만들어 지정해보아도 똑같다. 백금과 팔라듐, 티타늄, 로듐, 수은을 넣어버렸다.\n",
    "metal_values3 = ['bronze', 'copper', 'platinum', 'gold', 'silver', 'palladium', 'titanium', 'rhodium', 'hydrargyrum']\n",
    "pd.Categorical(metal_values3,\n",
    "               categories = metal_categories)"
   ]
  },
  {
   "cell_type": "code",
   "execution_count": 23,
   "metadata": {},
   "outputs": [
    {
     "data": {
      "text/plain": [
       "['silver', 'silver', 'silver', 'gold', 'bronze', 'bronze', 'diamond', 'silver', 'bronze', NaN]\n",
       "Categories (9, object): ['iron' < 'bronze' < 'silver' < 'gold' ... 'diamond' < 'master' < 'grandmaster' < 'challenger']"
      ]
     },
     "execution_count": 23,
     "metadata": {},
     "output_type": "execute_result"
    }
   ],
   "source": [
    "# 예시로 LoL의 계급체계를 만들어봅시다. \n",
    "# 언랭은 카테고리로 넣지 않습니다. 실력을 알 수 없기 때문이죠.\n",
    "lol_ranks = ['iron', 'bronze', 'silver', 'gold', 'platinum', 'diamond', 'master', 'grandmaster', 'challenger']\n",
    "user_ranks01 = ['silver', 'silver', 'silver', 'gold', 'bronze', 'bronze', 'diamond', 'silver', 'bronze', 'unknown']\n",
    "\n",
    "match01 = pd.Categorical(user_ranks01, categories = lol_ranks, ordered = True)\n",
    "match01"
   ]
  },
  {
   "cell_type": "code",
   "execution_count": 24,
   "metadata": {},
   "outputs": [
    {
     "data": {
      "text/plain": [
       "array([ 2,  2,  2,  3,  1,  1,  5,  2,  1, -1], dtype=int8)"
      ]
     },
     "execution_count": 24,
     "metadata": {},
     "output_type": "execute_result"
    }
   ],
   "source": [
    "# 코드를 본다면 unknown은 '-1' 로 되어있다. \n",
    "match01.codes"
   ]
  },
  {
   "cell_type": "markdown",
   "metadata": {},
   "source": [
    "# Renaming Categories\n",
    "---\n",
    "범주 이름 변경\n",
    "\n",
    "`Categorical`은 `.categories` 속성이나 `.rename_categories()` 메서드를 통해 범주 이름을 변경할 수 있게 해준다.  \n",
    "\n",
    "## `.categories` attribute로 변경하기\n",
    "\n",
    "category로 지정된 것의 순서에 맞게 지정 변경이 되며, 사용하면 바로 변경이 되기 때문에 되돌릴 수 없다는 것을 주의해야 한다. "
   ]
  },
  {
   "cell_type": "code",
   "execution_count": 25,
   "metadata": {},
   "outputs": [
    {
     "data": {
      "text/plain": [
       "['a', 'b', 'c', 'a']\n",
       "Categories (3, object): ['a', 'b', 'c']"
      ]
     },
     "execution_count": 25,
     "metadata": {},
     "output_type": "execute_result"
    }
   ],
   "source": [
    "# create a categorical with 3 categories\n",
    "cat = pd.Categorical([\"a\",\"b\",\"c\",\"a\"], categories=[\"a\", \"b\", \"c\"])\n",
    "cat"
   ]
  },
  {
   "cell_type": "code",
   "execution_count": 26,
   "metadata": {},
   "outputs": [
    {
     "data": {
      "text/plain": [
       "['bronze', 'silver', 'gold', 'bronze']\n",
       "Categories (3, object): ['bronze', 'silver', 'gold']"
      ]
     },
     "execution_count": 26,
     "metadata": {},
     "output_type": "execute_result"
    }
   ],
   "source": [
    "# renames the categories (and also the values) : 바로 변경이 되어버린다. \n",
    "cat.categories = [\"bronze\", \"silver\", \"gold\"]\n",
    "cat"
   ]
  },
  {
   "cell_type": "markdown",
   "metadata": {},
   "source": [
    "## `.rename_categories()` method로 변경하기\n",
    "즉석 변경을 원하지 않을 경우엔 `.rename_categories()`메서드를 사용하면 된다. \n",
    "\n"
   ]
  },
  {
   "cell_type": "code",
   "execution_count": 27,
   "metadata": {},
   "outputs": [
    {
     "data": {
      "text/plain": [
       "['x', 'y', 'z', 'x']\n",
       "Categories (3, object): ['x', 'y', 'z']"
      ]
     },
     "execution_count": 27,
     "metadata": {},
     "output_type": "execute_result"
    }
   ],
   "source": [
    "# this also renames \n",
    "cat.rename_categories([\"x\", \"y\", \"z\"])"
   ]
  },
  {
   "cell_type": "code",
   "execution_count": 28,
   "metadata": {},
   "outputs": [
    {
     "data": {
      "text/plain": [
       "['bronze', 'silver', 'gold', 'bronze']\n",
       "Categories (3, object): ['bronze', 'silver', 'gold']"
      ]
     },
     "execution_count": 28,
     "metadata": {},
     "output_type": "execute_result"
    }
   ],
   "source": [
    "# the rename is not done in-place : xyz로 넣었으나 inplace=True 옵션을 주지 않아서 변경 전 것이 그대로 유지됨.\n",
    "cat"
   ]
  },
  {
   "cell_type": "markdown",
   "metadata": {},
   "source": [
    "# `.add_categories()` : Appending new categories\n",
    "--- \n",
    "새 범주 추가\n",
    "\n",
    "`.add_categories()` 메서드를 사용해 범주를 추가할 수 있다.\n",
    "\n",
    "metals에 백금을 추가하는 예시이다. 이 또한 `inplace = True` 옵션을 주지 않으면 바로 변경되지는 않는다."
   ]
  },
  {
   "cell_type": "code",
   "execution_count": 29,
   "metadata": {},
   "outputs": [
    {
     "data": {
      "text/plain": [
       "['bronze', 'gold', 'silver', 'bronze']\n",
       "Categories (4, object): ['bronze' < 'silver' < 'gold' < 'platinum']"
      ]
     },
     "execution_count": 29,
     "metadata": {},
     "output_type": "execute_result"
    }
   ],
   "source": [
    "# add a new platimnum category\n",
    "metals_with_platinum = metals.add_categories([\"platinum\"])\n",
    "metals_with_platinum"
   ]
  },
  {
   "cell_type": "code",
   "execution_count": 32,
   "metadata": {},
   "outputs": [
    {
     "data": {
      "text/plain": [
       "Index(['bronze', 'silver', 'gold'], dtype='object')"
      ]
     },
     "execution_count": 32,
     "metadata": {},
     "output_type": "execute_result"
    }
   ],
   "source": [
    "# 추가는 했지만 즉석 변경은 안됨\n",
    "metals.categories"
   ]
  },
  {
   "cell_type": "markdown",
   "metadata": {},
   "source": [
    "# `.remove_categories()` : Removing Categories\n",
    "---\n",
    "범주 삭제 \n",
    "\n",
    "`.remove_categories()` 메서드를 통해 범주를 지정 삭제할 수 있다.  \n",
    "**삭제된 범주는 `np.NaN`으로 처리된다.**  \n",
    "이 또한 즉석 변경은 일어나지 않고, `inplace=True` 옵션을 써야 한다. "
   ]
  },
  {
   "cell_type": "code",
   "execution_count": 33,
   "metadata": {},
   "outputs": [
    {
     "data": {
      "text/plain": [
       "[NaN, 'gold', 'silver', NaN]\n",
       "Categories (2, object): ['silver' < 'gold']"
      ]
     },
     "execution_count": 33,
     "metadata": {},
     "output_type": "execute_result"
    }
   ],
   "source": [
    "# remove bronze category\n",
    "metals_without_bronze = metals.remove_categories([\"bronze\"])\n",
    "metals_without_bronze"
   ]
  },
  {
   "cell_type": "code",
   "execution_count": 34,
   "metadata": {},
   "outputs": [
    {
     "data": {
      "text/plain": [
       "Index(['bronze', 'silver', 'gold'], dtype='object')"
      ]
     },
     "execution_count": 34,
     "metadata": {},
     "output_type": "execute_result"
    }
   ],
   "source": [
    "# 삭제 되었지만 즉석 변경은 안됨\n",
    "metals.categories"
   ]
  },
  {
   "cell_type": "markdown",
   "metadata": {},
   "source": [
    "# `.remove_unused_categories()` : Removing unused categories\n",
    "---\n",
    "미사용 범주 삭제\n",
    "\n",
    "사용되지 않는 범주의 경우 `.remove_unused_categories()`로 삭제할 수 있다. 즉석 변경은 일어나지 않는다.   \n",
    "platinum 이 사용되지 않기 때문에 삭제할 수 있다.  \n",
    "\n",
    "`inplace=True`옵션을 써야만 변경할 수 있다. "
   ]
  },
  {
   "cell_type": "code",
   "execution_count": 35,
   "metadata": {},
   "outputs": [
    {
     "data": {
      "text/plain": [
       "['bronze', 'gold', 'silver', 'bronze']\n",
       "Categories (3, object): ['bronze' < 'silver' < 'gold']"
      ]
     },
     "execution_count": 35,
     "metadata": {},
     "output_type": "execute_result"
    }
   ],
   "source": [
    "# remove any unused categories (in this case, platinum)\n",
    "metals_with_platinum.remove_unused_categories()"
   ]
  },
  {
   "cell_type": "code",
   "execution_count": 36,
   "metadata": {},
   "outputs": [
    {
     "data": {
      "text/plain": [
       "Index(['bronze', 'silver', 'gold', 'platinum'], dtype='object')"
      ]
     },
     "execution_count": 36,
     "metadata": {},
     "output_type": "execute_result"
    }
   ],
   "source": [
    "# 즉석 변경 없기 때문에 유지됨\n",
    "metals_with_platinum.categories"
   ]
  },
  {
   "cell_type": "markdown",
   "metadata": {},
   "source": [
    "# `.set_categories()` : Setting categories\n",
    "---\n",
    "범주 설정\n",
    "\n",
    "`.set_categories()` 메서드를 사용하면 범주를 삭제하고 추가하는 작업을 한 번에 할 수 있다.  \n",
    "처음에 리스트로 주어주고 dtype을 category로 설정하면 카테고리 데이터가 되는데, `.set_categories([범주리스트])`로 넣어주면 해당 범주리스트만 사용하는 데이터로 변형된다.  \n",
    "따라서 넣어준 범주리스트에 없는 값들은 `NaN`으로 대체된다. \n",
    "\n",
    "예시 `Series` s 이다. "
   ]
  },
  {
   "cell_type": "code",
   "execution_count": 37,
   "metadata": {},
   "outputs": [
    {
     "data": {
      "text/plain": [
       "0     one\n",
       "1     two\n",
       "2    four\n",
       "3    five\n",
       "dtype: category\n",
       "Categories (4, object): ['five', 'four', 'one', 'two']"
      ]
     },
     "execution_count": 37,
     "metadata": {},
     "output_type": "execute_result"
    }
   ],
   "source": [
    "# sample Series\n",
    "s = pd.Series([\"one\", \"two\", \"four\", \"five\"], dtype = \"category\")\n",
    "s"
   ]
  },
  {
   "cell_type": "markdown",
   "metadata": {},
   "source": [
    "'one' 과 'four' 만 범주로 설정하면 두 가지는 `NaN`으로 대체된다. "
   ]
  },
  {
   "cell_type": "code",
   "execution_count": 38,
   "metadata": {},
   "outputs": [
    {
     "data": {
      "text/plain": [
       "0     one\n",
       "1     NaN\n",
       "2    four\n",
       "3     NaN\n",
       "dtype: category\n",
       "Categories (2, object): ['one', 'four']"
      ]
     },
     "execution_count": 38,
     "metadata": {},
     "output_type": "execute_result"
    }
   ],
   "source": [
    "# remove the \"two\", \"three\" and \"five\" categories (replaced with NaN)\n",
    "s = s.cat.set_categories([\"one\",\"four\"])\n",
    "s"
   ]
  },
  {
   "cell_type": "markdown",
   "metadata": {},
   "source": [
    "# 기술 통계 정보 : `Describe()`\n",
    "\n",
    "`Categorial`의 `.describe()` 메서드는 `Series`나 `DataFrame`에서와 마찬가지로 기술 통계(descriptive statistics)정보를 출력한다.  \n",
    "\n",
    "이 결과를 통해 각 범주에 해당하는 인스턴스의 수와 도수 분포(frequency distribution)을 알 수 있다.  \n",
    "각 범주에 포함되는 값의 개수는 `.value_counts()`를 통해서도 알 수 있다. "
   ]
  },
  {
   "cell_type": "code",
   "execution_count": 39,
   "metadata": {},
   "outputs": [
    {
     "data": {
      "text/plain": [
       "            counts  freqs\n",
       "categories               \n",
       "bronze           2   0.50\n",
       "silver           1   0.25\n",
       "gold             1   0.25"
      ]
     },
     "execution_count": 39,
     "metadata": {},
     "output_type": "execute_result"
    }
   ],
   "source": [
    "# get descriptive info on the metals categorical\n",
    "metals.describe()"
   ]
  },
  {
   "cell_type": "markdown",
   "metadata": {},
   "source": [
    "## Value counts \n",
    "각 범주에 포함되는 값의 개수는 `.value_counts()`를 통해서도 알 수 있다. "
   ]
  },
  {
   "cell_type": "code",
   "execution_count": 40,
   "metadata": {},
   "outputs": [
    {
     "data": {
      "text/plain": [
       "bronze    2\n",
       "silver    1\n",
       "gold      1\n",
       "dtype: int64"
      ]
     },
     "execution_count": 40,
     "metadata": {},
     "output_type": "execute_result"
    }
   ],
   "source": [
    "# count the values in the categorical\n",
    "metals.value_counts()"
   ]
  },
  {
   "cell_type": "markdown",
   "metadata": {},
   "source": [
    "## Minimum, maximum and mode\n",
    "범주의 최솟값, 최댓값, 최빈값도 같은 이름의 메서드를 통해 알 수 있다. \n",
    "\n",
    "(`Categorical.mode`의 경우  사라질 것이며, `Series.mode`를 사용하라고 한다.)"
   ]
  },
  {
   "cell_type": "code",
   "execution_count": 41,
   "metadata": {},
   "outputs": [
    {
     "name": "stderr",
     "output_type": "stream",
     "text": [
      "/var/folders/qw/j72d9nwn5dq0vxtqtw2bbtnh0000gp/T/ipykernel_5892/265606353.py:2: FutureWarning: Categorical.mode is deprecated and will be removed in a future version. Use Series.mode instead.\n",
      "  (metals.min(), metals.max(), metals.mode())\n"
     ]
    },
    {
     "data": {
      "text/plain": [
       "('bronze',\n",
       " 'gold',\n",
       " ['bronze']\n",
       " Categories (3, object): ['bronze' < 'silver' < 'gold'])"
      ]
     },
     "execution_count": 41,
     "metadata": {},
     "output_type": "execute_result"
    }
   ],
   "source": [
    "# find the min, max and mode of the metals categorical\n",
    "(metals.min(), metals.max(), metals.mode())"
   ]
  },
  {
   "cell_type": "code",
   "execution_count": 42,
   "metadata": {},
   "outputs": [
    {
     "data": {
      "text/plain": [
       "('bronze',\n",
       " 'gold',\n",
       " <bound method Categorical.mode of ['bronze', 'gold', 'silver', 'bronze']\n",
       " Categories (3, object): ['bronze' < 'silver' < 'gold']>)"
      ]
     },
     "execution_count": 42,
     "metadata": {},
     "output_type": "execute_result"
    }
   ],
   "source": [
    "(metals.min(), metals.max(), metals.mode)"
   ]
  },
  {
   "cell_type": "markdown",
   "metadata": {
    "collapsed": true
   },
   "source": [
    "# Example: Munging school grades\n",
    "---\n",
    "성적 데이터 가공 : 숫자 대신 범주를 기반으로 정보를 조직화하기 위해 `Categorical`을 적용해보기 \n",
    "\n",
    "숫자로 된 학생들의 성적에 문자 등급을 할당하기  \n",
    "숫자로 된 이 점수들을 문자 코드로 분류해야 한다. 각 점수에 대한 구간을 정의하고, 구간별로 문자 등급을 연관시킨다. "
   ]
  },
  {
   "cell_type": "code",
   "execution_count": 44,
   "metadata": {},
   "outputs": [
    {
     "data": {
      "text/plain": [
       "     Name  Grade\n",
       "0   Ivana     51\n",
       "1  Norris     92\n",
       "2    Ruth    100\n",
       "3    Lane     99\n",
       "4    Skye     93\n",
       "5     Sol     97\n",
       "6   Dylan     93\n",
       "7  Katina     77\n",
       "8  Alissa     82\n",
       "9    Marc     73"
      ]
     },
     "execution_count": 44,
     "metadata": {},
     "output_type": "execute_result"
    }
   ],
   "source": [
    "# 10 students with random grades \n",
    "np.random.seed(123456)\n",
    "names = ['Ivana', 'Norris', 'Ruth', 'Lane', 'Skye', 'Sol', \n",
    "         'Dylan', 'Katina', 'Alissa', \"Marc\"]\n",
    "grades = np.random.randint(50, 101, len(names))\n",
    "scores = pd.DataFrame({'Name': names, 'Grade': grades})\n",
    "scores"
   ]
  },
  {
   "cell_type": "markdown",
   "metadata": {},
   "source": [
    "성적 구간을 만든다. 0-59] 는 F, 59~62] 까지 D- 이런 식이다. "
   ]
  },
  {
   "cell_type": "code",
   "execution_count": 45,
   "metadata": {},
   "outputs": [],
   "source": [
    "# bins and their mappings to letter grades\n",
    "score_bins =    [ 0,  59,   62,  66,   69,   72,  76,   79,   82,  \n",
    "                 86,   89,   92,  99, 100]\n",
    "letter_grades = ['F', 'D-', 'D', 'D+', 'C-', 'C', 'C+', 'B-', 'B', \n",
    "                 'B+', 'A-', 'A', 'A+']"
   ]
  },
  {
   "cell_type": "markdown",
   "metadata": {},
   "source": [
    "`pd.cut()`을 사용하여 각 점수에 문자 등급을 할당한다. \n",
    "\n",
    "파라미터에 대응한다면,  \n",
    "- x = scores.Grade\n",
    "- bins = score_bins\n",
    "- labels = letter_grades\n",
    "- ordered 는 default 값이 True이다. 위에 먹인 letter_grades는 자동적으로 순위를 갖는 `Categorial`이 되는 것이다!"
   ]
  },
  {
   "cell_type": "code",
   "execution_count": 46,
   "metadata": {},
   "outputs": [
    {
     "data": {
      "text/plain": [
       "     Name  Grade Letter\n",
       "0   Ivana     51      F\n",
       "1  Norris     92     A-\n",
       "2    Ruth    100     A+\n",
       "3    Lane     99      A\n",
       "4    Skye     93      A\n",
       "5     Sol     97      A\n",
       "6   Dylan     93      A\n",
       "7  Katina     77     C+\n",
       "8  Alissa     82     B-\n",
       "9    Marc     73      C"
      ]
     },
     "execution_count": 46,
     "metadata": {},
     "output_type": "execute_result"
    }
   ],
   "source": [
    "# cut based upon the bins and assign the letter grade\n",
    "letter_categories = pd.cut(scores.Grade, score_bins, labels = letter_grades)\n",
    "scores['Letter'] = letter_categories # scores 에 등급 칼럼 넣기\n",
    "scores"
   ]
  },
  {
   "cell_type": "markdown",
   "metadata": {},
   "source": [
    "이  `Categorical`에서 생성된 코드와 그에 연결된 문자 등급을 확인할 수 있다."
   ]
  },
  {
   "cell_type": "code",
   "execution_count": 47,
   "metadata": {},
   "outputs": [
    {
     "data": {
      "text/plain": [
       "0     F\n",
       "1    A-\n",
       "2    A+\n",
       "3     A\n",
       "4     A\n",
       "5     A\n",
       "6     A\n",
       "7    C+\n",
       "8    B-\n",
       "9     C\n",
       "Name: Grade, dtype: category\n",
       "Categories (13, object): ['F' < 'D-' < 'D' < 'D+' ... 'B+' < 'A-' < 'A' < 'A+']"
      ]
     },
     "execution_count": 47,
     "metadata": {},
     "output_type": "execute_result"
    }
   ],
   "source": [
    "# examine the underlying categorical\n",
    "letter_categories"
   ]
  },
  {
   "cell_type": "markdown",
   "metadata": {},
   "source": [
    "각 등급별 학생 수를 알고 싶다면 `.value_counts()`를 사용한다. "
   ]
  },
  {
   "cell_type": "code",
   "execution_count": 48,
   "metadata": {},
   "outputs": [
    {
     "data": {
      "text/plain": [
       "A     4\n",
       "F     1\n",
       "C     1\n",
       "C+    1\n",
       "B-    1\n",
       "     ..\n",
       "D     0\n",
       "D+    0\n",
       "C-    0\n",
       "B     0\n",
       "B+    0\n",
       "Name: Letter, Length: 13, dtype: int64"
      ]
     },
     "execution_count": 48,
     "metadata": {},
     "output_type": "execute_result"
    }
   ],
   "source": [
    "# how many of each grade occurred?\n",
    "scores.Letter.value_counts()"
   ]
  },
  {
   "cell_type": "code",
   "execution_count": 49,
   "metadata": {},
   "outputs": [
    {
     "data": {
      "text/plain": [
       "A     4\n",
       "F     1\n",
       "C     1\n",
       "C+    1\n",
       "B-    1\n",
       "     ..\n",
       "D     0\n",
       "D+    0\n",
       "C-    0\n",
       "B     0\n",
       "B+    0\n",
       "Name: Letter, Length: 13, dtype: int64"
      ]
     },
     "execution_count": 49,
     "metadata": {},
     "output_type": "execute_result"
    }
   ],
   "source": [
    "scores['Letter'].value_counts()"
   ]
  },
  {
   "cell_type": "markdown",
   "metadata": {},
   "source": [
    "문자 등급 `Categorial`에는 논리적인 순서가 있으므로, `Categorial`이 적용된 칼럼을 정렬해 학생들을 성적 순으로 나열시킬 수 있다. "
   ]
  },
  {
   "cell_type": "code",
   "execution_count": 50,
   "metadata": {},
   "outputs": [
    {
     "data": {
      "text/plain": [
       "     Name  Grade Letter\n",
       "2    Ruth    100     A+\n",
       "3    Lane     99      A\n",
       "4    Skye     93      A\n",
       "5     Sol     97      A\n",
       "6   Dylan     93      A\n",
       "1  Norris     92     A-\n",
       "8  Alissa     82     B-\n",
       "7  Katina     77     C+\n",
       "9    Marc     73      C\n",
       "0   Ivana     51      F"
      ]
     },
     "execution_count": 50,
     "metadata": {},
     "output_type": "execute_result"
    }
   ],
   "source": [
    "# and sort by letter grade instead of numeric grade, descending order!\n",
    "scores.sort_values(by = ['Letter'], ascending = False)"
   ]
  },
  {
   "cell_type": "markdown",
   "metadata": {},
   "source": [
    "# my sample : \n",
    "한국 주가 데이터로 등락률을 기준으로(상당히 극단적...) 회사를 나누어보자. 기준은 2022-11-30 이다. \n",
    "출처 : https://data.krx.co.kr/contents/MDC/MDI/mdiLoader/index.cmd?menuId=MDC0201040101"
   ]
  },
  {
   "cell_type": "code",
   "execution_count": 57,
   "metadata": {
    "scrolled": true
   },
   "outputs": [
    {
     "data": {
      "text/plain": [
       "        종목코드      종목명      종가    등락률       거래량  \\\n",
       "1     095570   AJ네트웍스    6110   0.49    110183   \n",
       "2     006840    AK홀딩스   15150   2.02     14692   \n",
       "6     027410      BGF    4365  18.29  11158585   \n",
       "7     282330   BGF리테일  205500   3.27    215574   \n",
       "9     138930  BNK금융지주    7390   1.23   1801684   \n",
       "...      ...      ...     ...    ...       ...   \n",
       "2665  005010      휴스틸    5420  -1.45    439253   \n",
       "2673  000540     흥국화재    3165  -0.94     85333   \n",
       "2674  000547  흥국화재2우B   19300  -0.26        76   \n",
       "2675  000545    흥국화재우    6020   0.67       910   \n",
       "2676  003280     흥아해운    1625  -0.91    426373   \n",
       "\n",
       "             거래대금           시가총액      상장주식수  \n",
       "1       674688330   286084222450   46822295  \n",
       "2       221418900   200700549150   13247561  \n",
       "6     49369104315   417803792715   95716791  \n",
       "7     44268140500  3551842683000   17283906  \n",
       "9     13323873630  2408661467940  325935246  \n",
       "...           ...            ...        ...  \n",
       "2665   2383570150   212399366500   39188075  \n",
       "2673    269593750   203327971425   64242645  \n",
       "2674      1470100     2964480000     153600  \n",
       "2675      5490510     4623360000     768000  \n",
       "2676    691332165   390690460875  240424899  \n",
       "\n",
       "[942 rows x 8 columns]"
      ]
     },
     "execution_count": 57,
     "metadata": {},
     "output_type": "execute_result"
    }
   ],
   "source": [
    "df_ko_221130 = pd.read_csv('/Users/Angela/Desktop/Personal/StockData/krx_20221130.csv', encoding = 'cp949')\n",
    "df = df_ko_221130[df_ko_221130['시장구분'] == 'KOSPI'][['종목코드', '종목명', '종가', '등락률', '거래량', '거래대금', '시가총액', '상장주식수']]\n",
    "df"
   ]
  },
  {
   "cell_type": "code",
   "execution_count": 58,
   "metadata": {},
   "outputs": [],
   "source": [
    "rate_bins = [-30, -20, -10, -5, -2, 0, 2, 5, 10, 20, 30]\n",
    "letter_grades = ['절망', '통곡', '눈물', '불안', '설마', '안심', '미소', '행복', '입틀막', '풀매도']"
   ]
  },
  {
   "cell_type": "code",
   "execution_count": 59,
   "metadata": {},
   "outputs": [
    {
     "data": {
      "text/plain": [
       "        종목코드      종목명      종가    등락률  ...         거래대금  \\\n",
       "1     095570   AJ네트웍스    6110   0.49  ...    674688330   \n",
       "2     006840    AK홀딩스   15150   2.02  ...    221418900   \n",
       "6     027410      BGF    4365  18.29  ...  49369104315   \n",
       "7     282330   BGF리테일  205500   3.27  ...  44268140500   \n",
       "9     138930  BNK금융지주    7390   1.23  ...  13323873630   \n",
       "...      ...      ...     ...    ...  ...          ...   \n",
       "2665  005010      휴스틸    5420  -1.45  ...   2383570150   \n",
       "2673  000540     흥국화재    3165  -0.94  ...    269593750   \n",
       "2674  000547  흥국화재2우B   19300  -0.26  ...      1470100   \n",
       "2675  000545    흥국화재우    6020   0.67  ...      5490510   \n",
       "2676  003280     흥아해운    1625  -0.91  ...    691332165   \n",
       "\n",
       "               시가총액      상장주식수  심리상태  \n",
       "1      286084222450   46822295    안심  \n",
       "2      200700549150   13247561    미소  \n",
       "6      417803792715   95716791   입틀막  \n",
       "7     3551842683000   17283906    미소  \n",
       "9     2408661467940  325935246    안심  \n",
       "...             ...        ...   ...  \n",
       "2665   212399366500   39188075    설마  \n",
       "2673   203327971425   64242645    설마  \n",
       "2674     2964480000     153600    설마  \n",
       "2675     4623360000     768000    안심  \n",
       "2676   390690460875  240424899    설마  \n",
       "\n",
       "[942 rows x 9 columns]"
      ]
     },
     "execution_count": 59,
     "metadata": {},
     "output_type": "execute_result"
    }
   ],
   "source": [
    "cate_rate = pd.cut(x = df.등락률, bins = rate_bins, labels = letter_grades)\n",
    "df['심리상태'] = cate_rate\n",
    "df"
   ]
  },
  {
   "cell_type": "markdown",
   "metadata": {},
   "source": [
    "오늘 사람들이 얼마나 울고 웃었는지 보자. "
   ]
  },
  {
   "cell_type": "code",
   "execution_count": 63,
   "metadata": {},
   "outputs": [
    {
     "data": {
      "text/plain": [
       "안심     426\n",
       "설마     273\n",
       "미소     167\n",
       "불안      34\n",
       "행복      19\n",
       "입틀막      9\n",
       "눈물       8\n",
       "풀매도      5\n",
       "통곡       1\n",
       "절망       0\n",
       "Name: 심리상태, dtype: int64"
      ]
     },
     "execution_count": 63,
     "metadata": {},
     "output_type": "execute_result"
    }
   ],
   "source": [
    "df['심리상태'].value_counts()"
   ]
  },
  {
   "cell_type": "markdown",
   "metadata": {},
   "source": [
    "극단적인 종목을 알아보자. "
   ]
  },
  {
   "cell_type": "code",
   "execution_count": 70,
   "metadata": {},
   "outputs": [
    {
     "data": {
      "text/plain": [
       "            종목명 심리상태\n",
       "1587       영진약품  풀매도\n",
       "2338    포스코스틸리온  풀매도\n",
       "2157    코오롱글로벌우  풀매도\n",
       "358       금호건설우  풀매도\n",
       "603       동부건설우  풀매도\n",
       "1835      이엔플러스  입틀막\n",
       "1099       성문전자  입틀막\n",
       "1972       제주은행  입틀막\n",
       "2101        케이카  입틀막\n",
       "6           BGF  입틀막\n",
       "472     다이나믹디자인  입틀막\n",
       "2234       태영건설  입틀막\n",
       "292      경동도시가스  입틀막\n",
       "2235      태영건설우  입틀막\n",
       "2280    티와이홀딩스우   행복\n",
       "1896       일성건설   행복\n",
       "1875     인천도시가스   행복\n",
       "1861       인디에프   행복\n",
       "2231       태양금속   행복\n",
       "1220    신세계 I&C   행복\n",
       "1788       율촌화학   행복\n",
       "1322    아시아나IDT   행복\n",
       "136    KISCO홀딩스   행복\n",
       "1102       성신양회   행복\n",
       "839   미래에셋글로벌리츠   행복\n",
       "805        명문제약   행복\n",
       "797       메리츠화재   행복\n",
       "602        동부건설   행복\n",
       "357        금호건설   행복\n",
       "279        가온전선   행복\n",
       "253         STX   행복\n",
       "250      SNT중공업   행복\n",
       "2611       현대차우   행복"
      ]
     },
     "execution_count": 70,
     "metadata": {},
     "output_type": "execute_result"
    }
   ],
   "source": [
    "pd.set_option('display.max_rows', 50)\n",
    "df.loc[(df['심리상태'] == '행복')|(df['심리상태'] == '입틀막')|(df['심리상태'] == '풀매도')][['종목명', '심리상태']].sort_values(by = '심리상태', ascending = False)"
   ]
  },
  {
   "cell_type": "code",
   "execution_count": 71,
   "metadata": {},
   "outputs": [
    {
     "data": {
      "text/plain": [
       "           종목명 심리상태\n",
       "242      SK케미칼   눈물\n",
       "293     경동인베스트   눈물\n",
       "346      그린케미칼   눈물\n",
       "1104        성안   눈물\n",
       "1731  유니드비티플러스   눈물\n",
       "2495   한국화장품제조   눈물\n",
       "2548      한진칼우   눈물\n",
       "2645     효성중공업   눈물\n",
       "645       두산밥캣   통곡"
      ]
     },
     "execution_count": 71,
     "metadata": {},
     "output_type": "execute_result"
    }
   ],
   "source": [
    "df.loc[(df['심리상태'] == '절망')|(df['심리상태'] == '통곡')|(df['심리상태'] == '눈물')][['종목명', '심리상태']].sort_values(by = '심리상태', ascending = False)"
   ]
  },
  {
   "cell_type": "markdown",
   "metadata": {},
   "source": [
    "종목 하나는 완전히 난리가 난 것 같다. 나쁜 의미에서...\n",
    "\n",
    "~그만알아보자.~\n"
   ]
  }
 ],
 "metadata": {
  "anaconda-cloud": {},
  "kernelspec": {
   "display_name": "Python 3 (ipykernel)",
   "language": "python",
   "name": "python3"
  },
  "language_info": {
   "codemirror_mode": {
    "name": "ipython",
    "version": 3
   },
   "file_extension": ".py",
   "mimetype": "text/x-python",
   "name": "python",
   "nbconvert_exporter": "python",
   "pygments_lexer": "ipython3",
   "version": "3.8.5"
  },
  "latex_envs": {
   "LaTeX_envs_menu_present": true,
   "autoclose": true,
   "autocomplete": true,
   "bibliofile": "biblio.bib",
   "cite_by": "apalike",
   "current_citInitial": 1,
   "eqLabelWithNumbers": true,
   "eqNumInitial": 1,
   "hotkeys": {
    "equation": "Ctrl-E",
    "itemize": "Ctrl-I"
   },
   "labels_anchors": false,
   "latex_user_defs": false,
   "report_style_numbering": false,
   "user_envs_cfg": false
  },
  "toc": {
   "base_numbering": 1,
   "nav_menu": {},
   "number_sections": true,
   "sideBar": true,
   "skip_h1_title": false,
   "title_cell": "Table of Contents",
   "title_sidebar": "Contents",
   "toc_cell": true,
   "toc_position": {},
   "toc_section_display": true,
   "toc_window_display": true
  }
 },
 "nbformat": 4,
 "nbformat_minor": 1
}

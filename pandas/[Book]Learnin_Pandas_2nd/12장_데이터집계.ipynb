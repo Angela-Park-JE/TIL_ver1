{
 "cells": [
  {
   "cell_type": "markdown",
   "metadata": {
    "toc": true
   },
   "source": [
    "<h1>Table of Contents<span class=\"tocSkip\"></span></h1>\n",
    "<div class=\"toc\"><ul class=\"toc-item\"><li><span><a href=\"#Configuring-pandas\" data-toc-modified-id=\"Configuring-pandas-1\"><span class=\"toc-item-num\">1&nbsp;&nbsp;</span>Configuring pandas</a></span></li><li><span><a href=\"#데이터-집계\" data-toc-modified-id=\"데이터-집계-2\"><span class=\"toc-item-num\">2&nbsp;&nbsp;</span>데이터 집계</a></span></li><li><span><a href=\"#분할-적용-조합(SAC)-패턴\" data-toc-modified-id=\"분할-적용-조합(SAC)-패턴-3\"><span class=\"toc-item-num\">3&nbsp;&nbsp;</span>분할-적용-조합(SAC) 패턴</a></span></li><li><span><a href=\"#Data-for-the-examples\" data-toc-modified-id=\"Data-for-the-examples-4\"><span class=\"toc-item-num\">4&nbsp;&nbsp;</span>Data for the examples</a></span></li><li><span><a href=\"#데이터-분할\" data-toc-modified-id=\"데이터-분할-5\"><span class=\"toc-item-num\">5&nbsp;&nbsp;</span>데이터 분할</a></span><ul class=\"toc-item\"><li><span><a href=\"#.groupby-:-Grouping-by-a-single-column's-values\" data-toc-modified-id=\".groupby-:-Grouping-by-a-single-column's-values-5.1\"><span class=\"toc-item-num\">5.1&nbsp;&nbsp;</span><code>.groupby</code> : Grouping by a single column's values</a></span><ul class=\"toc-item\"><li><span><a href=\"#DataFrameGroupBy-object\" data-toc-modified-id=\"DataFrameGroupBy-object-5.1.1\"><span class=\"toc-item-num\">5.1.1&nbsp;&nbsp;</span><code>DataFrameGroupBy</code> object</a></span></li></ul></li><li><span><a href=\"#DataFrameGroupBy-객체에서의-Accessing-the-results-of-a-grouping\" data-toc-modified-id=\"DataFrameGroupBy-객체에서의-Accessing-the-results-of-a-grouping-5.2\"><span class=\"toc-item-num\">5.2&nbsp;&nbsp;</span>DataFrameGroupBy 객체에서의 Accessing the results of a grouping</a></span><ul class=\"toc-item\"><li><span><a href=\"#.size(),-.count()\" data-toc-modified-id=\".size(),-.count()-5.2.1\"><span class=\"toc-item-num\">5.2.1&nbsp;&nbsp;</span><code>.size()</code>, <code>.count()</code></a></span></li><li><span><a href=\"#.get_group()\" data-toc-modified-id=\".get_group()-5.2.2\"><span class=\"toc-item-num\">5.2.2&nbsp;&nbsp;</span><code>.get_group()</code></a></span></li><li><span><a href=\"#.head(),-.tail(),-.nth()\" data-toc-modified-id=\".head(),-.tail(),-.nth()-5.2.3\"><span class=\"toc-item-num\">5.2.3&nbsp;&nbsp;</span><code>.head()</code>, <code>.tail()</code>, <code>.nth()</code></a></span></li><li><span><a href=\"#.describe()\" data-toc-modified-id=\".describe()-5.2.4\"><span class=\"toc-item-num\">5.2.4&nbsp;&nbsp;</span><code>.describe()</code></a></span></li></ul></li><li><span><a href=\"#.groupby([column1,-column2,-...])-:-Grouping-using-multiple-columns\" data-toc-modified-id=\".groupby([column1,-column2,-...])-:-Grouping-using-multiple-columns-5.3\"><span class=\"toc-item-num\">5.3&nbsp;&nbsp;</span><code>.groupby([column1, column2, ...])</code> : Grouping using multiple columns</a></span></li><li><span><a href=\"#Grouping-using-index-levels\" data-toc-modified-id=\"Grouping-using-index-levels-5.4\"><span class=\"toc-item-num\">5.4&nbsp;&nbsp;</span>Grouping using index levels</a></span></li></ul></li><li><span><a href=\"#집계-함수-적용,-변형,-필터링\" data-toc-modified-id=\"집계-함수-적용,-변형,-필터링-6\"><span class=\"toc-item-num\">6&nbsp;&nbsp;</span>집계 함수 적용, 변형, 필터링</a></span><ul class=\"toc-item\"><li><span><a href=\"#.agg()-:-Applying-aggregation-functions-to-groups\" data-toc-modified-id=\".agg()-:-Applying-aggregation-functions-to-groups-6.1\"><span class=\"toc-item-num\">6.1&nbsp;&nbsp;</span><code>.agg()</code> : Applying aggregation functions to groups</a></span><ul class=\"toc-item\"><li><span><a href=\"#DataFrameGroupBy.agg(np.mean)\" data-toc-modified-id=\"DataFrameGroupBy.agg(np.mean)-6.1.1\"><span class=\"toc-item-num\">6.1.1&nbsp;&nbsp;</span><code>DataFrameGroupBy.agg(np.mean)</code></a></span></li><li><span><a href=\"#.agg([method-lists])-:-복수의-집계함수-적용하기\" data-toc-modified-id=\".agg([method-lists])-:-복수의-집계함수-적용하기-6.1.2\"><span class=\"toc-item-num\">6.1.2&nbsp;&nbsp;</span><code>.agg([method lists])</code> : 복수의 집계함수 적용하기</a></span></li><li><span><a href=\"#.agg({column:method,-column:method})\" data-toc-modified-id=\".agg({column:method,-column:method})-6.1.3\"><span class=\"toc-item-num\">6.1.3&nbsp;&nbsp;</span><code>.agg({column:method, column:method})</code></a></span></li><li><span><a href=\"#DataFrameGroupBy['column].method\" data-toc-modified-id=\"DataFrameGroupBy['column].method-6.1.4\"><span class=\"toc-item-num\">6.1.4&nbsp;&nbsp;</span><code>DataFrameGroupBy['column].method</code></a></span></li></ul></li><li><span><a href=\"#.transform()-:-Transforming-groups-of-data\" data-toc-modified-id=\".transform()-:-Transforming-groups-of-data-6.2\"><span class=\"toc-item-num\">6.2&nbsp;&nbsp;</span><code>.transform()</code> : Transforming groups of data</a></span><ul class=\"toc-item\"><li><span><a href=\"#데이터-변형의-일반적인-과정\" data-toc-modified-id=\"데이터-변형의-일반적인-과정-6.2.1\"><span class=\"toc-item-num\">6.2.1&nbsp;&nbsp;</span>데이터 변형의 일반적인 과정</a></span></li><li><span><a href=\"#🧪-Filling-missing-values-with-the-mean-of-the-group\" data-toc-modified-id=\"🧪-Filling-missing-values-with-the-mean-of-the-group-6.2.2\"><span class=\"toc-item-num\">6.2.2&nbsp;&nbsp;</span>🧪 Filling missing values with the mean of the group</a></span></li></ul></li><li><span><a href=\"#Calculating-z-scores\" data-toc-modified-id=\"Calculating-z-scores-6.3\"><span class=\"toc-item-num\">6.3&nbsp;&nbsp;</span>Calculating z-scores</a></span></li><li><span><a href=\"#🧪-.filter(function)-:-Filtering-groups\" data-toc-modified-id=\"🧪-.filter(function)-:-Filtering-groups-6.4\"><span class=\"toc-item-num\">6.4&nbsp;&nbsp;</span>🧪 <code>.filter(function)</code> : Filtering groups</a></span></li></ul></li></ul></div>"
   ]
  },
  {
   "cell_type": "markdown",
   "metadata": {},
   "source": [
    "# Configuring pandas\n",
    "계층형 인덱스를 보기 편하기 위해 `pd.set_option('display.notebook_repr_html', False)`를 `True`로 바꾸고 시작한다. "
   ]
  },
  {
   "cell_type": "code",
   "execution_count": 1,
   "metadata": {},
   "outputs": [
    {
     "name": "stdout",
     "output_type": "stream",
     "text": [
      "1.4.1\n",
      "1.22.4\n",
      "3.8.5 (default, Sep  4 2020, 02:22:02) \n",
      "[Clang 10.0.0 ]\n"
     ]
    }
   ],
   "source": [
    "# import numpy and pandas\n",
    "import numpy as np\n",
    "import pandas as pd\n",
    "\n",
    "# used for dates\n",
    "import datetime\n",
    "from datetime import datetime, date\n",
    "\n",
    "# Set some pandas options controlling output format\n",
    "pd.set_option('display.notebook_repr_html', True)\n",
    "pd.set_option('display.max_columns', 8)\n",
    "pd.set_option('display.max_rows', 10)\n",
    "pd.set_option('display.width', 60)\n",
    "\n",
    "# bring in matplotlib for graphics\n",
    "import matplotlib.pyplot as plt\n",
    "%matplotlib inline\n",
    "\n",
    "# version check\n",
    "print(pd.__version__)\n",
    "print(np.__version__)\n",
    "import sys\n",
    "print(sys.version)"
   ]
  },
  {
   "cell_type": "markdown",
   "metadata": {},
   "source": [
    "# 데이터 집계\n",
    "---\n",
    "데이터 집계(data aggregation)는 정보의 유의미한 범주를 기준으로 데이터를 그룹화하는 과정이다.  \n",
    "그다음엔 각 그룹에 대해 하나 이상의 **요약 통계를 리포팅**하기 위한 분석이 이루어진다. 그런 맥락에서의 요약은 일반적인 용어라고 할 수 있다. 요약(summarization)이라는 말이 문자 그대로 총합(summation, 총 sales 같은 것)도 의미하지만, 평균이나 표준편차와 같은 통계적 계산도 의미하기 때문이다.  \n",
    "\n",
    "이번엔 pandas로 데이터 집계를 수행하는 방법을 배운다. 여기에는 강력한 분할-적용-조합(split-apply-combine) 패턴을 통한 그룹화, 그룹 단위의 변형과 분석 수행, 각 그룹의 결과를 하나의 요약 객체로 리포팅하는 내용이 포함된다. 또한 그와 같은 프레임워크 안에서 데이터 그룹화, 그룹 단위의 함수 적용, 데이터 필터링과 같은 여러 기법을 시험해본다.  \n",
    "\n",
    "- 데이터 분석을 위한 분할-적용-조합 패턴의 개요\n",
    "- 단일 칼럼의 그룹화\n",
    "- 그룹화된 결과 접근\n",
    "- 복수 칼럼의 그룹화\n",
    "- 인덱스 레벨을 이용한 그룹화\n",
    "- 인덱스 레벨을 이용한 그룹화\n",
    "- 그룹화된 데이터에 집계 함수 적용\n",
    "- 데이터 변형의 개요\n",
    "- 데이터 변형의 실전 예제: 평균과 표준 점수(z-score)\n",
    "- 데이터 그룹의 선택적 제거를 위한 필터링 \n",
    "- 이산화와 구간화(binning)\n"
   ]
  },
  {
   "cell_type": "markdown",
   "metadata": {},
   "source": [
    "# 분할-적용-조합(SAC) 패턴\n",
    "\n",
    "split-apply-combine 패턴은 여러 데이터 분석에 있어서 자주 활용되는 데이터 처리 패턴이다. 이 패턴에는 다음과 같은 데이터 분석의 3단계가 있다.  \n",
    "- 어떤 기준에 따라 데이터 셋을 작은 조각으로 분할한다.\n",
    "- 각 조각에 대해 독립적으로 연산을 수행한다.\n",
    "- 모든 결과를 다시 하나의 단위로 조합한다. \n",
    "\n",
    "예를 들어, 문자 기준의 키(a, b)로 그룹화된 값들의 평균을 구하는 과정에서 a, b로 나누어 평균을 구하여 적용하고, a와 a그룹의 평균, b와 b그룹의 평균을 조합하여 보여주는 식이다.  \n",
    "먼저 인덱스 레이블에 따라 두 그룹으로 분할된다. 그 다음에 그 그룹의 평균이 계산된다. 각 그룹의 결과는 인덱스 레이블과 함께 다시 하나의 pandas 객체로 조합된다.  \n",
    "\n",
    "pandas에서 분할 작업은 `Series`나 `DataFrame`의 `.groupby()` 메서드로 수행할 수 있다.  \n",
    "이 메서드에는 하나 이상의 인덱스 레이블이나 칼럼명을 지정할 수 있으며, 이에 기초해 연관된 값들이 그룹화된다.  \n",
    "\n",
    "데이터가 분할된 다음에는 각 그룹에 대해 다음과 같은 작업들이 가능하다.  \n",
    "- 집계: 각 그룹의 아이템에 대한 평균이나 개수와 같은 요약 평균을 계산한다. \n",
    "- 변형: 그룹이나 아이템에 특정적인 계산을 수행한다.\n",
    "- 필터링: 그룹 단위의 계산에 기초해 불필요한 데이터 그룹을 제거한다. \n",
    "\n",
    "마지막 조합 단계는 pandas에 의해 자동으로 수행되며, 적용 단계의 각 결과를 모아 하나의 통합된 결과를 만들어낸다.  \n",
    "\n",
    "    SAC에 대한 자세한 내용은 <Journal of Statistical Software> 의 '데이터 분석을 위한 SAC 전략(The Split-Apply-Combine Strategy for Data Analysis)' ㄹ는 논문을 참고하기 바란다. R을 사용하는 예제로 SAC 패턴을 설명하고는 있지만, pandas 입장에서도 유용하다.  \n",
    "    다운로드: [http://www.jstatsoft.org/v40/i01/paper]"
   ]
  },
  {
   "cell_type": "markdown",
   "metadata": {},
   "source": [
    "# Data for the examples\n",
    "두 기기의 센서에서 얻은 측정치로 된 데이터셋이다. 여기에는 가속도계와 방향 센서 각각의 X, Y, Z 축 측정 데이터가 포함돼 있다.  "
   ]
  },
  {
   "cell_type": "code",
   "execution_count": 2,
   "metadata": {},
   "outputs": [
    {
     "data": {
      "text/html": [
       "<div>\n",
       "<style scoped>\n",
       "    .dataframe tbody tr th:only-of-type {\n",
       "        vertical-align: middle;\n",
       "    }\n",
       "\n",
       "    .dataframe tbody tr th {\n",
       "        vertical-align: top;\n",
       "    }\n",
       "\n",
       "    .dataframe thead th {\n",
       "        text-align: right;\n",
       "    }\n",
       "</style>\n",
       "<table border=\"1\" class=\"dataframe\">\n",
       "  <thead>\n",
       "    <tr style=\"text-align: right;\">\n",
       "      <th></th>\n",
       "      <th>interval</th>\n",
       "      <th>sensor</th>\n",
       "      <th>axis</th>\n",
       "      <th>reading</th>\n",
       "    </tr>\n",
       "  </thead>\n",
       "  <tbody>\n",
       "    <tr>\n",
       "      <th>0</th>\n",
       "      <td>0</td>\n",
       "      <td>accel</td>\n",
       "      <td>Z</td>\n",
       "      <td>0.0</td>\n",
       "    </tr>\n",
       "    <tr>\n",
       "      <th>1</th>\n",
       "      <td>0</td>\n",
       "      <td>accel</td>\n",
       "      <td>Y</td>\n",
       "      <td>0.5</td>\n",
       "    </tr>\n",
       "    <tr>\n",
       "      <th>2</th>\n",
       "      <td>0</td>\n",
       "      <td>accel</td>\n",
       "      <td>X</td>\n",
       "      <td>1.0</td>\n",
       "    </tr>\n",
       "    <tr>\n",
       "      <th>3</th>\n",
       "      <td>1</td>\n",
       "      <td>accel</td>\n",
       "      <td>Z</td>\n",
       "      <td>0.1</td>\n",
       "    </tr>\n",
       "    <tr>\n",
       "      <th>4</th>\n",
       "      <td>1</td>\n",
       "      <td>accel</td>\n",
       "      <td>Y</td>\n",
       "      <td>0.4</td>\n",
       "    </tr>\n",
       "  </tbody>\n",
       "</table>\n",
       "</div>"
      ],
      "text/plain": [
       "   interval sensor axis  reading\n",
       "0         0  accel    Z      0.0\n",
       "1         0  accel    Y      0.5\n",
       "2         0  accel    X      1.0\n",
       "3         1  accel    Z      0.1\n",
       "4         1  accel    Y      0.4"
      ]
     },
     "execution_count": 2,
     "metadata": {},
     "output_type": "execute_result"
    }
   ],
   "source": [
    "# load the sensors data\n",
    "sensor_data = pd.read_csv(\"/Users/Angela/Desktop/Personal/Learning-Pandas-Second-Edition-master/data/sensors.csv\")\n",
    "sensor_data[:5]"
   ]
  },
  {
   "cell_type": "markdown",
   "metadata": {},
   "source": [
    "# 데이터 분할\n",
    "분할 단계는 몇 가지로 나누어서 실습한다.  \n",
    "\n",
    "(1) 칼럼 기준으로 그룹화를 수행하고  \n",
    "(2) 만들어진 그룹의 몇 가지 속성을 사용한다.  \n",
    "(3) 그룹화된 결과와 속성들에 접근함으로써 만들어진 그룹의 다양한 속성에 대해 공부  \n",
    "(4) 마지막으로 칼럼 대신 인덱스 레이블을 사용하는 그룹화를 수행\n",
    "\n",
    "\n",
    "## `.groupby` : Grouping by a single column's values\n",
    "단일 칼럼의 그룹화\n",
    "\n",
    "이 센서 데이터는 세 개의 범주형 번수(interval, sensor, axis)와 하나의 연속 변수(reading)로 구성되어 있다.  \n",
    "`.groupby()`에 변수 이름을 전달하면 해당 범주형 변수로 그룹화가 가능하다.  \n",
    "\n",
    "다음은 sensor 칼럼의 값으로 센서 데이터를 그룹화 하는 예이다.  \n"
   ]
  },
  {
   "cell_type": "code",
   "execution_count": 3,
   "metadata": {},
   "outputs": [
    {
     "data": {
      "text/plain": [
       "<pandas.core.groupby.generic.DataFrameGroupBy object at 0x7fd9e942b760>"
      ]
     },
     "execution_count": 3,
     "metadata": {},
     "output_type": "execute_result"
    }
   ],
   "source": [
    "# group this data by the sensor column / variable\n",
    "# returns a DataFrameGroupBy object\n",
    "grouped_by_sensor = sensor_data.groupby('sensor')\n",
    "grouped_by_sensor"
   ]
  },
  {
   "cell_type": "markdown",
   "metadata": {},
   "source": [
    "### `DataFrameGroupBy` object \n",
    "\n",
    "`DataFrame`에 대한 `.groupby()`의 결과는 `GroupBy`의 서브클래스로, 결과가 `DataFrame`인 경우에는 `DataFrameGroupBy`이며 `Series`인 경우에는 `SeriesGroupBy`다.  \n",
    "이 객체는 그룹화가 수행되기 전의 임시 객체로, pandas가 데이터와 관련된 그룹화를 미리 검증할 수 있게 해준다.  \n",
    "또한 이는 최적화와 오류 식별에 도움이 되며, 값비싼 계산 작업에 앞서 특정 속성들을 확인해볼 수 있는 지점이 된다.  \n",
    "\n",
    "\n",
    "`DataFrameGroupBy.ngroups` 속성은 **결과를 이루고 있는 그룹의 개수를 반환**한다. "
   ]
  },
  {
   "cell_type": "code",
   "execution_count": 4,
   "metadata": {},
   "outputs": [
    {
     "data": {
      "text/plain": [
       "2"
      ]
     },
     "execution_count": 4,
     "metadata": {},
     "output_type": "execute_result"
    }
   ],
   "source": [
    "# get the number of groups that this will create\n",
    "grouped_by_sensor.ngroups"
   ]
  },
  {
   "cell_type": "markdown",
   "metadata": {},
   "source": [
    "`DataFrameGroupBy.groups` 메서드는 **각 그룹의 이름을 키로 갖는 파이썬 딕셔너리를 반환**하며, 여러 칼럼을 지정한 경우에는 그룹 이름의 튜플을 반환한다.  \n",
    "딕셔너리의 값은 각 그룹에 속하는 인덱스 레이블의 배열이다.  "
   ]
  },
  {
   "cell_type": "code",
   "execution_count": 5,
   "metadata": {},
   "outputs": [
    {
     "data": {
      "text/plain": [
       "{'accel': [0, 1, 2, 3, 4, 5, 6, 7, 8, 9, 10, 11], 'orientation': [12, 13, 14, 15, 16, 17, 18, 19, 20, 21, 22, 23]}"
      ]
     },
     "execution_count": 5,
     "metadata": {},
     "output_type": "execute_result"
    }
   ],
   "source": [
    "# what are the groups that were found?\n",
    "grouped_by_sensor.groups"
   ]
  },
  {
   "cell_type": "markdown",
   "metadata": {},
   "source": [
    "## DataFrameGroupBy 객체에서의 Accessing the results of a grouping\n",
    "그룹화된 결과 접근\n",
    "\n",
    "`grouped_by_sensor` 변수는 명명된 그룹들의 집합이며, 그룹 안의 콘텐츠에 접근하기 위해 사용될 수 있다.  \n",
    "\n",
    "이를 시험하기 위해 다음과 같이 그룹 내용을 출력하는 함수 하나를 정의한다.  \n",
    "이 함수는 루프를 돌면서 각 그룹의 이름과 첫 5개의 로우를 출력한다.  "
   ]
  },
  {
   "cell_type": "code",
   "execution_count": 6,
   "metadata": {},
   "outputs": [],
   "source": [
    "# a helper function to print the contents of the groups\n",
    "def print_groups (group_object):\n",
    "    # loop over all groups, printing the group name \n",
    "    # and group details\n",
    "    for name, group in group_object:\n",
    "        print (name)\n",
    "        print (group[:5])"
   ]
  },
  {
   "cell_type": "code",
   "execution_count": 7,
   "metadata": {},
   "outputs": [
    {
     "name": "stdout",
     "output_type": "stream",
     "text": [
      "accel\n",
      "   interval sensor axis  reading\n",
      "0         0  accel    Z      0.0\n",
      "1         0  accel    Y      0.5\n",
      "2         0  accel    X      1.0\n",
      "3         1  accel    Z      0.1\n",
      "4         1  accel    Y      0.4\n",
      "orientation\n",
      "    interval       sensor axis  reading\n",
      "12         0  orientation    Z      0.0\n",
      "13         0  orientation    Y      0.1\n",
      "14         0  orientation    X      0.0\n",
      "15         1  orientation    Z      0.0\n",
      "16         1  orientation    Y      0.2\n"
     ]
    }
   ],
   "source": [
    "# examine the content of the groups we created\n",
    "print_groups(grouped_by_sensor)"
   ]
  },
  {
   "cell_type": "markdown",
   "metadata": {},
   "source": [
    "그룹이 만들어졌으며, 각 그룹은 그룹명과 일치하는 센서 값(accel의 reading, orientation의 reading)의 로우들로 구성된 `DataFrame`을 **하나씩** 포함하고 있다.  \n",
    "\n",
    "### `.size()`, `.count()`\n",
    "`DataFrameGroupBy.size()` 메서드는 각 그룹의 크기를 요약된 형태로 반환한다.  \n",
    "\n",
    "`DataFrameGroupBy.count()` 메서드는 각 그룹의 각 칼럼별 아이템의 개수를 반환한다.  "
   ]
  },
  {
   "cell_type": "code",
   "execution_count": 8,
   "metadata": {},
   "outputs": [
    {
     "data": {
      "text/plain": [
       "sensor\n",
       "accel          12\n",
       "orientation    12\n",
       "dtype: int64"
      ]
     },
     "execution_count": 8,
     "metadata": {},
     "output_type": "execute_result"
    }
   ],
   "source": [
    "# get how many items are in each group\n",
    "grouped_by_sensor.size()"
   ]
  },
  {
   "cell_type": "code",
   "execution_count": 9,
   "metadata": {},
   "outputs": [
    {
     "data": {
      "text/html": [
       "<div>\n",
       "<style scoped>\n",
       "    .dataframe tbody tr th:only-of-type {\n",
       "        vertical-align: middle;\n",
       "    }\n",
       "\n",
       "    .dataframe tbody tr th {\n",
       "        vertical-align: top;\n",
       "    }\n",
       "\n",
       "    .dataframe thead th {\n",
       "        text-align: right;\n",
       "    }\n",
       "</style>\n",
       "<table border=\"1\" class=\"dataframe\">\n",
       "  <thead>\n",
       "    <tr style=\"text-align: right;\">\n",
       "      <th></th>\n",
       "      <th>interval</th>\n",
       "      <th>axis</th>\n",
       "      <th>reading</th>\n",
       "    </tr>\n",
       "    <tr>\n",
       "      <th>sensor</th>\n",
       "      <th></th>\n",
       "      <th></th>\n",
       "      <th></th>\n",
       "    </tr>\n",
       "  </thead>\n",
       "  <tbody>\n",
       "    <tr>\n",
       "      <th>accel</th>\n",
       "      <td>12</td>\n",
       "      <td>12</td>\n",
       "      <td>12</td>\n",
       "    </tr>\n",
       "    <tr>\n",
       "      <th>orientation</th>\n",
       "      <td>12</td>\n",
       "      <td>12</td>\n",
       "      <td>12</td>\n",
       "    </tr>\n",
       "  </tbody>\n",
       "</table>\n",
       "</div>"
      ],
      "text/plain": [
       "             interval  axis  reading\n",
       "sensor                              \n",
       "accel              12    12       12\n",
       "orientation        12    12       12"
      ]
     },
     "execution_count": 9,
     "metadata": {},
     "output_type": "execute_result"
    }
   ],
   "source": [
    "# get the count of items in each column of each group\n",
    "grouped_by_sensor.count()"
   ]
  },
  {
   "cell_type": "markdown",
   "metadata": {},
   "source": [
    "### `.get_group()` \n",
    "`DataFrameGroupBy.get_group()` 메서드를 사용하면 원하는 특정 그룹만 조회할 수 있다.  \n",
    "다음은 accel 그룹만 조회하는 결과이다. "
   ]
  },
  {
   "cell_type": "code",
   "execution_count": 10,
   "metadata": {},
   "outputs": [
    {
     "data": {
      "text/html": [
       "<div>\n",
       "<style scoped>\n",
       "    .dataframe tbody tr th:only-of-type {\n",
       "        vertical-align: middle;\n",
       "    }\n",
       "\n",
       "    .dataframe tbody tr th {\n",
       "        vertical-align: top;\n",
       "    }\n",
       "\n",
       "    .dataframe thead th {\n",
       "        text-align: right;\n",
       "    }\n",
       "</style>\n",
       "<table border=\"1\" class=\"dataframe\">\n",
       "  <thead>\n",
       "    <tr style=\"text-align: right;\">\n",
       "      <th></th>\n",
       "      <th>interval</th>\n",
       "      <th>sensor</th>\n",
       "      <th>axis</th>\n",
       "      <th>reading</th>\n",
       "    </tr>\n",
       "  </thead>\n",
       "  <tbody>\n",
       "    <tr>\n",
       "      <th>0</th>\n",
       "      <td>0</td>\n",
       "      <td>accel</td>\n",
       "      <td>Z</td>\n",
       "      <td>0.0</td>\n",
       "    </tr>\n",
       "    <tr>\n",
       "      <th>1</th>\n",
       "      <td>0</td>\n",
       "      <td>accel</td>\n",
       "      <td>Y</td>\n",
       "      <td>0.5</td>\n",
       "    </tr>\n",
       "    <tr>\n",
       "      <th>2</th>\n",
       "      <td>0</td>\n",
       "      <td>accel</td>\n",
       "      <td>X</td>\n",
       "      <td>1.0</td>\n",
       "    </tr>\n",
       "    <tr>\n",
       "      <th>3</th>\n",
       "      <td>1</td>\n",
       "      <td>accel</td>\n",
       "      <td>Z</td>\n",
       "      <td>0.1</td>\n",
       "    </tr>\n",
       "    <tr>\n",
       "      <th>4</th>\n",
       "      <td>1</td>\n",
       "      <td>accel</td>\n",
       "      <td>Y</td>\n",
       "      <td>0.4</td>\n",
       "    </tr>\n",
       "  </tbody>\n",
       "</table>\n",
       "</div>"
      ],
      "text/plain": [
       "   interval sensor axis  reading\n",
       "0         0  accel    Z      0.0\n",
       "1         0  accel    Y      0.5\n",
       "2         0  accel    X      1.0\n",
       "3         1  accel    Z      0.1\n",
       "4         1  accel    Y      0.4"
      ]
     },
     "execution_count": 10,
     "metadata": {},
     "output_type": "execute_result"
    }
   ],
   "source": [
    "# get the data in one specific group\n",
    "grouped_by_sensor.get_group('accel')[:5]"
   ]
  },
  {
   "cell_type": "markdown",
   "metadata": {},
   "source": [
    "### `.head()`, `.tail()`, `.nth()`\n",
    "`DataFrameGroupBy.head()`, `DataFrameGroupBy.tail()` 은 각 그룹의 아이템을 지정한 개수만큼 조회한다. 각각 처음, 끝에서.  \n",
    "\n",
    "`DataFrameGroupBy.nth()`메서드는 각 그룹의 n번째 아이템을 반환한다. 제로베이스 인덱스를 사용한다고 생각하면 된다. "
   ]
  },
  {
   "cell_type": "code",
   "execution_count": 11,
   "metadata": {},
   "outputs": [
    {
     "data": {
      "text/html": [
       "<div>\n",
       "<style scoped>\n",
       "    .dataframe tbody tr th:only-of-type {\n",
       "        vertical-align: middle;\n",
       "    }\n",
       "\n",
       "    .dataframe tbody tr th {\n",
       "        vertical-align: top;\n",
       "    }\n",
       "\n",
       "    .dataframe thead th {\n",
       "        text-align: right;\n",
       "    }\n",
       "</style>\n",
       "<table border=\"1\" class=\"dataframe\">\n",
       "  <thead>\n",
       "    <tr style=\"text-align: right;\">\n",
       "      <th></th>\n",
       "      <th>interval</th>\n",
       "      <th>sensor</th>\n",
       "      <th>axis</th>\n",
       "      <th>reading</th>\n",
       "    </tr>\n",
       "  </thead>\n",
       "  <tbody>\n",
       "    <tr>\n",
       "      <th>0</th>\n",
       "      <td>0</td>\n",
       "      <td>accel</td>\n",
       "      <td>Z</td>\n",
       "      <td>0.0</td>\n",
       "    </tr>\n",
       "    <tr>\n",
       "      <th>1</th>\n",
       "      <td>0</td>\n",
       "      <td>accel</td>\n",
       "      <td>Y</td>\n",
       "      <td>0.5</td>\n",
       "    </tr>\n",
       "    <tr>\n",
       "      <th>2</th>\n",
       "      <td>0</td>\n",
       "      <td>accel</td>\n",
       "      <td>X</td>\n",
       "      <td>1.0</td>\n",
       "    </tr>\n",
       "    <tr>\n",
       "      <th>12</th>\n",
       "      <td>0</td>\n",
       "      <td>orientation</td>\n",
       "      <td>Z</td>\n",
       "      <td>0.0</td>\n",
       "    </tr>\n",
       "    <tr>\n",
       "      <th>13</th>\n",
       "      <td>0</td>\n",
       "      <td>orientation</td>\n",
       "      <td>Y</td>\n",
       "      <td>0.1</td>\n",
       "    </tr>\n",
       "    <tr>\n",
       "      <th>14</th>\n",
       "      <td>0</td>\n",
       "      <td>orientation</td>\n",
       "      <td>X</td>\n",
       "      <td>0.0</td>\n",
       "    </tr>\n",
       "  </tbody>\n",
       "</table>\n",
       "</div>"
      ],
      "text/plain": [
       "    interval       sensor axis  reading\n",
       "0          0        accel    Z      0.0\n",
       "1          0        accel    Y      0.5\n",
       "2          0        accel    X      1.0\n",
       "12         0  orientation    Z      0.0\n",
       "13         0  orientation    Y      0.1\n",
       "14         0  orientation    X      0.0"
      ]
     },
     "execution_count": 11,
     "metadata": {},
     "output_type": "execute_result"
    }
   ],
   "source": [
    "# get the first three items in each group\n",
    "grouped_by_sensor.head(3)"
   ]
  },
  {
   "cell_type": "code",
   "execution_count": 12,
   "metadata": {},
   "outputs": [
    {
     "data": {
      "text/html": [
       "<div>\n",
       "<style scoped>\n",
       "    .dataframe tbody tr th:only-of-type {\n",
       "        vertical-align: middle;\n",
       "    }\n",
       "\n",
       "    .dataframe tbody tr th {\n",
       "        vertical-align: top;\n",
       "    }\n",
       "\n",
       "    .dataframe thead th {\n",
       "        text-align: right;\n",
       "    }\n",
       "</style>\n",
       "<table border=\"1\" class=\"dataframe\">\n",
       "  <thead>\n",
       "    <tr style=\"text-align: right;\">\n",
       "      <th></th>\n",
       "      <th>interval</th>\n",
       "      <th>axis</th>\n",
       "      <th>reading</th>\n",
       "    </tr>\n",
       "    <tr>\n",
       "      <th>sensor</th>\n",
       "      <th></th>\n",
       "      <th></th>\n",
       "      <th></th>\n",
       "    </tr>\n",
       "  </thead>\n",
       "  <tbody>\n",
       "    <tr>\n",
       "      <th>accel</th>\n",
       "      <td>0</td>\n",
       "      <td>X</td>\n",
       "      <td>1.0</td>\n",
       "    </tr>\n",
       "    <tr>\n",
       "      <th>orientation</th>\n",
       "      <td>0</td>\n",
       "      <td>X</td>\n",
       "      <td>0.0</td>\n",
       "    </tr>\n",
       "  </tbody>\n",
       "</table>\n",
       "</div>"
      ],
      "text/plain": [
       "             interval axis  reading\n",
       "sensor                             \n",
       "accel               0    X      1.0\n",
       "orientation         0    X      0.0"
      ]
     },
     "execution_count": 12,
     "metadata": {},
     "output_type": "execute_result"
    }
   ],
   "source": [
    "# get the 2nd item in each group\n",
    "grouped_by_sensor.nth(2)"
   ]
  },
  {
   "cell_type": "markdown",
   "metadata": {},
   "source": [
    "### `.describe()` \n",
    "`DataFrameGroupBy.describe()` 메서드는 각 그룹의 약식 기술통계를 계산해 반환한다.  "
   ]
  },
  {
   "cell_type": "code",
   "execution_count": 13,
   "metadata": {},
   "outputs": [
    {
     "data": {
      "text/html": [
       "<div>\n",
       "<style scoped>\n",
       "    .dataframe tbody tr th:only-of-type {\n",
       "        vertical-align: middle;\n",
       "    }\n",
       "\n",
       "    .dataframe tbody tr th {\n",
       "        vertical-align: top;\n",
       "    }\n",
       "\n",
       "    .dataframe thead tr th {\n",
       "        text-align: left;\n",
       "    }\n",
       "\n",
       "    .dataframe thead tr:last-of-type th {\n",
       "        text-align: right;\n",
       "    }\n",
       "</style>\n",
       "<table border=\"1\" class=\"dataframe\">\n",
       "  <thead>\n",
       "    <tr>\n",
       "      <th></th>\n",
       "      <th colspan=\"4\" halign=\"left\">interval</th>\n",
       "      <th>...</th>\n",
       "      <th colspan=\"4\" halign=\"left\">reading</th>\n",
       "    </tr>\n",
       "    <tr>\n",
       "      <th></th>\n",
       "      <th>count</th>\n",
       "      <th>mean</th>\n",
       "      <th>std</th>\n",
       "      <th>min</th>\n",
       "      <th>...</th>\n",
       "      <th>25%</th>\n",
       "      <th>50%</th>\n",
       "      <th>75%</th>\n",
       "      <th>max</th>\n",
       "    </tr>\n",
       "    <tr>\n",
       "      <th>sensor</th>\n",
       "      <th></th>\n",
       "      <th></th>\n",
       "      <th></th>\n",
       "      <th></th>\n",
       "      <th></th>\n",
       "      <th></th>\n",
       "      <th></th>\n",
       "      <th></th>\n",
       "      <th></th>\n",
       "    </tr>\n",
       "  </thead>\n",
       "  <tbody>\n",
       "    <tr>\n",
       "      <th>accel</th>\n",
       "      <td>12.0</td>\n",
       "      <td>1.5</td>\n",
       "      <td>1.167748</td>\n",
       "      <td>0.0</td>\n",
       "      <td>...</td>\n",
       "      <td>0.2</td>\n",
       "      <td>0.35</td>\n",
       "      <td>0.725</td>\n",
       "      <td>1.0</td>\n",
       "    </tr>\n",
       "    <tr>\n",
       "      <th>orientation</th>\n",
       "      <td>12.0</td>\n",
       "      <td>1.5</td>\n",
       "      <td>1.167748</td>\n",
       "      <td>0.0</td>\n",
       "      <td>...</td>\n",
       "      <td>0.0</td>\n",
       "      <td>0.10</td>\n",
       "      <td>0.225</td>\n",
       "      <td>0.4</td>\n",
       "    </tr>\n",
       "  </tbody>\n",
       "</table>\n",
       "<p>2 rows × 16 columns</p>\n",
       "</div>"
      ],
      "text/plain": [
       "            interval                      ... reading  \\\n",
       "               count mean       std  min  ...     25%   \n",
       "sensor                                    ...           \n",
       "accel           12.0  1.5  1.167748  0.0  ...     0.2   \n",
       "orientation     12.0  1.5  1.167748  0.0  ...     0.0   \n",
       "\n",
       "                               \n",
       "              50%    75%  max  \n",
       "sensor                         \n",
       "accel        0.35  0.725  1.0  \n",
       "orientation  0.10  0.225  0.4  \n",
       "\n",
       "[2 rows x 16 columns]"
      ]
     },
     "execution_count": 13,
     "metadata": {},
     "output_type": "execute_result"
    }
   ],
   "source": [
    "# get descriptive statistics for each group\n",
    "grouped_by_sensor.describe()"
   ]
  },
  {
   "cell_type": "markdown",
   "metadata": {},
   "source": [
    "## `.groupby([column1, column2, ...])` : Grouping using multiple columns\n",
    "복수 칼럼의 그룹화\n",
    "\n",
    "`.groupby()` 메서드에 그룹명의 리스트를 전달하면 여러 칼럼에 대해 그룹화를 할 수 있다.  \n",
    "\n",
    "다음은 두 칼럼, sensor와 axis에 대해 그룹화를 하고, `print_groups(DataFrameGroupBy)`로 출력한 결과이다.  \n",
    "**복수의 칼럼을 지정하면 각 컬럼 값의 개별 조합을 나타내는 각 그룹의 이름이 튜플로** 나타난다. 그래서 결과가 다소 복잡하게 나타난다. "
   ]
  },
  {
   "cell_type": "code",
   "execution_count": 14,
   "metadata": {
    "scrolled": true
   },
   "outputs": [
    {
     "name": "stdout",
     "output_type": "stream",
     "text": [
      "('accel', 'X')\n",
      "    interval sensor axis  reading\n",
      "2          0  accel    X      1.0\n",
      "5          1  accel    X      0.9\n",
      "8          2  accel    X      0.8\n",
      "11         3  accel    X      0.7\n",
      "('accel', 'Y')\n",
      "    interval sensor axis  reading\n",
      "1          0  accel    Y      0.5\n",
      "4          1  accel    Y      0.4\n",
      "7          2  accel    Y      0.3\n",
      "10         3  accel    Y      0.2\n",
      "('accel', 'Z')\n",
      "   interval sensor axis  reading\n",
      "0         0  accel    Z      0.0\n",
      "3         1  accel    Z      0.1\n",
      "6         2  accel    Z      0.2\n",
      "9         3  accel    Z      0.3\n",
      "('orientation', 'X')\n",
      "    interval       sensor axis  reading\n",
      "14         0  orientation    X      0.0\n",
      "17         1  orientation    X      0.1\n",
      "20         2  orientation    X      0.2\n",
      "23         3  orientation    X      0.3\n",
      "('orientation', 'Y')\n",
      "    interval       sensor axis  reading\n",
      "13         0  orientation    Y      0.1\n",
      "16         1  orientation    Y      0.2\n",
      "19         2  orientation    Y      0.3\n",
      "22         3  orientation    Y      0.4\n",
      "('orientation', 'Z')\n",
      "    interval       sensor axis  reading\n",
      "12         0  orientation    Z      0.0\n",
      "15         1  orientation    Z      0.0\n",
      "18         2  orientation    Z      0.0\n",
      "21         3  orientation    Z      0.0\n"
     ]
    }
   ],
   "source": [
    "# group by both sensor and axis values\n",
    "grouped_by_multiple = sensor_data.groupby(['sensor', 'axis'])\n",
    "print_groups(grouped_by_multiple)"
   ]
  },
  {
   "cell_type": "markdown",
   "metadata": {},
   "source": [
    "## Grouping using index levels\n",
    "인덱스 레벨을 이용한 그룹화\n",
    "\n",
    "칼럼 대신 **인덱스의 값을 사용해** 그룹화를 할 수 있다.  \n",
    "\n",
    "센서 데이터는 계층형 인덱스로 잘 어울리므로 인덱스를 이용한 그룹화를 실습하기 좋은 대상이다.  \n",
    "\n",
    "다음과 같이 sensor와 axis 칼럼을 포함하는 계층형 인덱스를 갖도록 데이터를 구성하자.  \n",
    "1. `DataFrame.set_index([firstlevel, secondlevel,...])`"
   ]
  },
  {
   "cell_type": "code",
   "execution_count": 15,
   "metadata": {},
   "outputs": [
    {
     "data": {
      "text/html": [
       "<div>\n",
       "<style scoped>\n",
       "    .dataframe tbody tr th:only-of-type {\n",
       "        vertical-align: middle;\n",
       "    }\n",
       "\n",
       "    .dataframe tbody tr th {\n",
       "        vertical-align: top;\n",
       "    }\n",
       "\n",
       "    .dataframe thead th {\n",
       "        text-align: right;\n",
       "    }\n",
       "</style>\n",
       "<table border=\"1\" class=\"dataframe\">\n",
       "  <thead>\n",
       "    <tr style=\"text-align: right;\">\n",
       "      <th></th>\n",
       "      <th></th>\n",
       "      <th>interval</th>\n",
       "      <th>reading</th>\n",
       "    </tr>\n",
       "    <tr>\n",
       "      <th>sensor</th>\n",
       "      <th>axis</th>\n",
       "      <th></th>\n",
       "      <th></th>\n",
       "    </tr>\n",
       "  </thead>\n",
       "  <tbody>\n",
       "    <tr>\n",
       "      <th rowspan=\"5\" valign=\"top\">accel</th>\n",
       "      <th>Z</th>\n",
       "      <td>0</td>\n",
       "      <td>0.0</td>\n",
       "    </tr>\n",
       "    <tr>\n",
       "      <th>Y</th>\n",
       "      <td>0</td>\n",
       "      <td>0.5</td>\n",
       "    </tr>\n",
       "    <tr>\n",
       "      <th>X</th>\n",
       "      <td>0</td>\n",
       "      <td>1.0</td>\n",
       "    </tr>\n",
       "    <tr>\n",
       "      <th>Z</th>\n",
       "      <td>1</td>\n",
       "      <td>0.1</td>\n",
       "    </tr>\n",
       "    <tr>\n",
       "      <th>Y</th>\n",
       "      <td>1</td>\n",
       "      <td>0.4</td>\n",
       "    </tr>\n",
       "    <tr>\n",
       "      <th>...</th>\n",
       "      <th>...</th>\n",
       "      <td>...</td>\n",
       "      <td>...</td>\n",
       "    </tr>\n",
       "    <tr>\n",
       "      <th rowspan=\"5\" valign=\"top\">orientation</th>\n",
       "      <th>Y</th>\n",
       "      <td>2</td>\n",
       "      <td>0.3</td>\n",
       "    </tr>\n",
       "    <tr>\n",
       "      <th>X</th>\n",
       "      <td>2</td>\n",
       "      <td>0.2</td>\n",
       "    </tr>\n",
       "    <tr>\n",
       "      <th>Z</th>\n",
       "      <td>3</td>\n",
       "      <td>0.0</td>\n",
       "    </tr>\n",
       "    <tr>\n",
       "      <th>Y</th>\n",
       "      <td>3</td>\n",
       "      <td>0.4</td>\n",
       "    </tr>\n",
       "    <tr>\n",
       "      <th>X</th>\n",
       "      <td>3</td>\n",
       "      <td>0.3</td>\n",
       "    </tr>\n",
       "  </tbody>\n",
       "</table>\n",
       "<p>24 rows × 2 columns</p>\n",
       "</div>"
      ],
      "text/plain": [
       "                  interval  reading\n",
       "sensor      axis                   \n",
       "accel       Z            0      0.0\n",
       "            Y            0      0.5\n",
       "            X            0      1.0\n",
       "            Z            1      0.1\n",
       "            Y            1      0.4\n",
       "...                    ...      ...\n",
       "orientation Y            2      0.3\n",
       "            X            2      0.2\n",
       "            Z            3      0.0\n",
       "            Y            3      0.4\n",
       "            X            3      0.3\n",
       "\n",
       "[24 rows x 2 columns]"
      ]
     },
     "execution_count": 15,
     "metadata": {},
     "output_type": "execute_result"
    }
   ],
   "source": [
    "# make a copy of the data and reindex the copy\n",
    "grouped_by_multiple = sensor_data.copy()\n",
    "grouped_by_multiple = grouped_by_multiple.set_index(['sensor', 'axis'])\n",
    "grouped_by_multiple"
   ]
  },
  {
   "cell_type": "markdown",
   "metadata": {},
   "source": [
    "2. `DataFrame.groupby(level = nth_level)`  \n",
    "    계층형 인덱스에 대해 원하는 레벨을 사용해 그룹화를 할 수 있다. 첫 번째 레벨인 sensor를 사용해 그룹화를 한 결과이다.  \n",
    "    `level = 0` 으로 적는게 정석임을 잊지 말고..."
   ]
  },
  {
   "cell_type": "code",
   "execution_count": 16,
   "metadata": {},
   "outputs": [
    {
     "name": "stdout",
     "output_type": "stream",
     "text": [
      "accel\n",
      "             interval  reading\n",
      "sensor axis                   \n",
      "accel  Z            0      0.0\n",
      "       Y            0      0.5\n",
      "       X            0      1.0\n",
      "       Z            1      0.1\n",
      "       Y            1      0.4\n",
      "orientation\n",
      "                  interval  reading\n",
      "sensor      axis                   \n",
      "orientation Z            0      0.0\n",
      "            Y            0      0.1\n",
      "            X            0      0.0\n",
      "            Z            1      0.0\n",
      "            Y            1      0.2\n"
     ]
    }
   ],
   "source": [
    "# group by the first level of the index \n",
    "print_groups(grouped_by_multiple.groupby(level = 'sensor'))"
   ]
  },
  {
   "cell_type": "markdown",
   "metadata": {},
   "source": [
    "3. sensor와 axis 인덱스 레벨로 그룹화를 수행한 예시이다.  \n",
    "    레벨을 리스트로 전달하면 복수의 레벨에 대한 그룹화를 수행할 수 있으며, 각 인덱스에 이름이 있다면 숫자 대신 그 이름을 사용할 수 있다.  \n",
    "    아까 \n",
    "    ```\n",
    "    grouped_by_multiple = sensor_data.groupby(['sensor', 'axis'])\n",
    "    print_groups(grouped_by_multiple)\n",
    "    ```\n",
    "    방식으로 보았던 것과 비슷한 결과로 나온다. "
   ]
  },
  {
   "cell_type": "code",
   "execution_count": 17,
   "metadata": {
    "scrolled": true
   },
   "outputs": [
    {
     "name": "stdout",
     "output_type": "stream",
     "text": [
      "('accel', 'X')\n",
      "             interval  reading\n",
      "sensor axis                   \n",
      "accel  X            0      1.0\n",
      "       X            1      0.9\n",
      "       X            2      0.8\n",
      "       X            3      0.7\n",
      "('accel', 'Y')\n",
      "             interval  reading\n",
      "sensor axis                   \n",
      "accel  Y            0      0.5\n",
      "       Y            1      0.4\n",
      "       Y            2      0.3\n",
      "       Y            3      0.2\n",
      "('accel', 'Z')\n",
      "             interval  reading\n",
      "sensor axis                   \n",
      "accel  Z            0      0.0\n",
      "       Z            1      0.1\n",
      "       Z            2      0.2\n",
      "       Z            3      0.3\n",
      "('orientation', 'X')\n",
      "                  interval  reading\n",
      "sensor      axis                   \n",
      "orientation X            0      0.0\n",
      "            X            1      0.1\n",
      "            X            2      0.2\n",
      "            X            3      0.3\n",
      "('orientation', 'Y')\n",
      "                  interval  reading\n",
      "sensor      axis                   \n",
      "orientation Y            0      0.1\n",
      "            Y            1      0.2\n",
      "            Y            2      0.3\n",
      "            Y            3      0.4\n",
      "('orientation', 'Z')\n",
      "                  interval  reading\n",
      "sensor      axis                   \n",
      "orientation Z            0      0.0\n",
      "            Z            1      0.0\n",
      "            Z            2      0.0\n",
      "            Z            3      0.0\n"
     ]
    }
   ],
   "source": [
    "# group by multiple levels of the index\n",
    "print_groups(grouped_by_multiple.groupby(level = ['sensor', 'axis']))"
   ]
  },
  {
   "cell_type": "markdown",
   "metadata": {},
   "source": [
    "사실... 이전에 배웠던 groupby 는 이와 같은 형태로 사용하는 것을 주로 보았다. "
   ]
  },
  {
   "cell_type": "code",
   "execution_count": 18,
   "metadata": {},
   "outputs": [
    {
     "data": {
      "text/plain": [
       "sensor\n",
       "accel          0.450000\n",
       "orientation    0.133333\n",
       "Name: reading, dtype: float64"
      ]
     },
     "execution_count": 18,
     "metadata": {},
     "output_type": "execute_result"
    }
   ],
   "source": [
    "sensor_data.groupby(by = 'sensor')['reading'].mean()"
   ]
  },
  {
   "cell_type": "markdown",
   "metadata": {},
   "source": [
    "# 집계 함수 적용, 변형, 필터링  \n",
    "---\n",
    "적용 단계에서는 각 데이터 그룹에 대해 다음과 같은 별개의 세 가지 작업이 가능하다.  \n",
    "- 집계 함수의 적용\n",
    "- 데이터 변형 수행\n",
    "- 결과로부터 그룹 전체의 필터링\n",
    "\n",
    "## `.agg()` : Applying aggregation functions to groups\n",
    "집계 함수의 적용\n",
    "\n",
    "각 그룹에 대해 집계 함수를 적용하려면 `GroupBy` 객체의 `.aggregate()` 또는 짧은 형태의 `.agg()` 메서드를 사용한다.  \n",
    "`.agg()`에는 각 그룹에 적용할 함수의 참조를 파라미터로 전달하면 된다.  \n",
    "`DataFrame`의 경우 이 함수는 그룹 안의 **각 칼럼 데이터에 적용**된다. \n",
    "\n",
    "`GroupBy` 객체에는 다양한 집계 함수가 내장돼 있는데, 구체적으로는 다음과 같다.  \n",
    "```\n",
    "gb.agg\n",
    "gb.get_group\n",
    "gb.aggregate\n",
    "gb.groups\n",
    "gb.filter\n",
    "gb.ngroups\n",
    "gb.name\n",
    "gb.dtype\n",
    "gb.head\n",
    "gb.tail\n",
    "gb.first\n",
    "gb.last\n",
    "gb.nth\n",
    "gb.resample\n",
    "gb.fillna\n",
    "gb.transform\n",
    "gb.size\n",
    "gb.count\n",
    "gb.gender\n",
    "gb.ohlc\n",
    "gb.apply\n",
    "gb.plot\n",
    "gb.boxplot\n",
    "gb.hist\n",
    "gb.indices\n",
    "gb.height\n",
    "gb.weight\n",
    "gb.describe\n",
    "gb.rank\n",
    "gb.mean\n",
    "gb.max\n",
    "gb.min\n",
    "gb.std\n",
    "gb.var\n",
    "gb.median\n",
    "gb.quantile\n",
    "gb.sum\n",
    "gb.cummax\n",
    "gb.cumsum\n",
    "gb.cummin\n",
    "gb.cumprod\n",
    "```\n",
    "\n",
    "### `DataFrameGroupBy.agg(np.mean)`\n",
    "다음은 sensor와 axis에 대한 각 칼럼 데이터의 **평균**을 계산하는 예다.  \n",
    "`계층형인덱스데이터.groupby(level = )` 에서 각 계층으로 그룹화한 데이터에서, `.agg()`를 사용했다.  "
   ]
  },
  {
   "cell_type": "code",
   "execution_count": 19,
   "metadata": {},
   "outputs": [
    {
     "data": {
      "text/html": [
       "<div>\n",
       "<style scoped>\n",
       "    .dataframe tbody tr th:only-of-type {\n",
       "        vertical-align: middle;\n",
       "    }\n",
       "\n",
       "    .dataframe tbody tr th {\n",
       "        vertical-align: top;\n",
       "    }\n",
       "\n",
       "    .dataframe thead th {\n",
       "        text-align: right;\n",
       "    }\n",
       "</style>\n",
       "<table border=\"1\" class=\"dataframe\">\n",
       "  <thead>\n",
       "    <tr style=\"text-align: right;\">\n",
       "      <th></th>\n",
       "      <th></th>\n",
       "      <th>interval</th>\n",
       "      <th>reading</th>\n",
       "    </tr>\n",
       "    <tr>\n",
       "      <th>sensor</th>\n",
       "      <th>axis</th>\n",
       "      <th></th>\n",
       "      <th></th>\n",
       "    </tr>\n",
       "  </thead>\n",
       "  <tbody>\n",
       "    <tr>\n",
       "      <th rowspan=\"3\" valign=\"top\">accel</th>\n",
       "      <th>X</th>\n",
       "      <td>1.5</td>\n",
       "      <td>0.85</td>\n",
       "    </tr>\n",
       "    <tr>\n",
       "      <th>Y</th>\n",
       "      <td>1.5</td>\n",
       "      <td>0.35</td>\n",
       "    </tr>\n",
       "    <tr>\n",
       "      <th>Z</th>\n",
       "      <td>1.5</td>\n",
       "      <td>0.15</td>\n",
       "    </tr>\n",
       "    <tr>\n",
       "      <th rowspan=\"3\" valign=\"top\">orientation</th>\n",
       "      <th>X</th>\n",
       "      <td>1.5</td>\n",
       "      <td>0.15</td>\n",
       "    </tr>\n",
       "    <tr>\n",
       "      <th>Y</th>\n",
       "      <td>1.5</td>\n",
       "      <td>0.25</td>\n",
       "    </tr>\n",
       "    <tr>\n",
       "      <th>Z</th>\n",
       "      <td>1.5</td>\n",
       "      <td>0.00</td>\n",
       "    </tr>\n",
       "  </tbody>\n",
       "</table>\n",
       "</div>"
      ],
      "text/plain": [
       "                  interval  reading\n",
       "sensor      axis                   \n",
       "accel       X          1.5     0.85\n",
       "            Y          1.5     0.35\n",
       "            Z          1.5     0.15\n",
       "orientation X          1.5     0.15\n",
       "            Y          1.5     0.25\n",
       "            Z          1.5     0.00"
      ]
     },
     "execution_count": 19,
     "metadata": {},
     "output_type": "execute_result"
    }
   ],
   "source": [
    "# calculate the mean for each sensor/axis\n",
    "sensor_axis_grouping = grouped_by_multiple.groupby(level=['sensor', 'axis'])\n",
    "sensor_axis_grouping.agg(np.mean)"
   ]
  },
  {
   "cell_type": "markdown",
   "metadata": {},
   "source": [
    "이 상황에서 interval 칼럼은 필요가 없는데 `.agg()`는 집계 함수를 각 크룹의 모든 칼럼에 적용하기 때문에 같이 나왔다.  \n",
    "집계의 결과는 원래의 데이터에서와 같은 구조화된 인덱스로 되어있다.  \n",
    "그러나 `as_index = False`를 사용하면 숫자 인덱스가 생성되며, 원래의 인덱스 레벨은 칼럼으로 전환된다. (상황에 따라서 훨씬 유용할 것으로 생각된다.)"
   ]
  },
  {
   "cell_type": "code",
   "execution_count": 20,
   "metadata": {},
   "outputs": [
    {
     "data": {
      "text/html": [
       "<div>\n",
       "<style scoped>\n",
       "    .dataframe tbody tr th:only-of-type {\n",
       "        vertical-align: middle;\n",
       "    }\n",
       "\n",
       "    .dataframe tbody tr th {\n",
       "        vertical-align: top;\n",
       "    }\n",
       "\n",
       "    .dataframe thead th {\n",
       "        text-align: right;\n",
       "    }\n",
       "</style>\n",
       "<table border=\"1\" class=\"dataframe\">\n",
       "  <thead>\n",
       "    <tr style=\"text-align: right;\">\n",
       "      <th></th>\n",
       "      <th>sensor</th>\n",
       "      <th>axis</th>\n",
       "      <th>interval</th>\n",
       "      <th>reading</th>\n",
       "    </tr>\n",
       "  </thead>\n",
       "  <tbody>\n",
       "    <tr>\n",
       "      <th>0</th>\n",
       "      <td>accel</td>\n",
       "      <td>X</td>\n",
       "      <td>1.5</td>\n",
       "      <td>0.85</td>\n",
       "    </tr>\n",
       "    <tr>\n",
       "      <th>1</th>\n",
       "      <td>accel</td>\n",
       "      <td>Y</td>\n",
       "      <td>1.5</td>\n",
       "      <td>0.35</td>\n",
       "    </tr>\n",
       "    <tr>\n",
       "      <th>2</th>\n",
       "      <td>accel</td>\n",
       "      <td>Z</td>\n",
       "      <td>1.5</td>\n",
       "      <td>0.15</td>\n",
       "    </tr>\n",
       "    <tr>\n",
       "      <th>3</th>\n",
       "      <td>orientation</td>\n",
       "      <td>X</td>\n",
       "      <td>1.5</td>\n",
       "      <td>0.15</td>\n",
       "    </tr>\n",
       "    <tr>\n",
       "      <th>4</th>\n",
       "      <td>orientation</td>\n",
       "      <td>Y</td>\n",
       "      <td>1.5</td>\n",
       "      <td>0.25</td>\n",
       "    </tr>\n",
       "    <tr>\n",
       "      <th>5</th>\n",
       "      <td>orientation</td>\n",
       "      <td>Z</td>\n",
       "      <td>1.5</td>\n",
       "      <td>0.00</td>\n",
       "    </tr>\n",
       "  </tbody>\n",
       "</table>\n",
       "</div>"
      ],
      "text/plain": [
       "        sensor axis  interval  reading\n",
       "0        accel    X       1.5     0.85\n",
       "1        accel    Y       1.5     0.35\n",
       "2        accel    Z       1.5     0.15\n",
       "3  orientation    X       1.5     0.15\n",
       "4  orientation    Y       1.5     0.25\n",
       "5  orientation    Z       1.5     0.00"
      ]
     },
     "execution_count": 20,
     "metadata": {},
     "output_type": "execute_result"
    }
   ],
   "source": [
    "# do not create an index matching the original object\n",
    "sensor_data.groupby(['sensor', 'axis'], as_index=False).agg(np.mean)"
   ]
  },
  {
   "cell_type": "markdown",
   "metadata": {},
   "source": [
    "sensor와 axis의 조합별로 그룹된(`sensor_axis_grouping = grouped_by_multiple.groupby(level=['sensor', 'axis'])`) 것을 평균을 계산하는 예이다. "
   ]
  },
  {
   "cell_type": "code",
   "execution_count": 21,
   "metadata": {},
   "outputs": [
    {
     "data": {
      "text/html": [
       "<div>\n",
       "<style scoped>\n",
       "    .dataframe tbody tr th:only-of-type {\n",
       "        vertical-align: middle;\n",
       "    }\n",
       "\n",
       "    .dataframe tbody tr th {\n",
       "        vertical-align: top;\n",
       "    }\n",
       "\n",
       "    .dataframe thead th {\n",
       "        text-align: right;\n",
       "    }\n",
       "</style>\n",
       "<table border=\"1\" class=\"dataframe\">\n",
       "  <thead>\n",
       "    <tr style=\"text-align: right;\">\n",
       "      <th></th>\n",
       "      <th></th>\n",
       "      <th>interval</th>\n",
       "      <th>reading</th>\n",
       "    </tr>\n",
       "    <tr>\n",
       "      <th>sensor</th>\n",
       "      <th>axis</th>\n",
       "      <th></th>\n",
       "      <th></th>\n",
       "    </tr>\n",
       "  </thead>\n",
       "  <tbody>\n",
       "    <tr>\n",
       "      <th rowspan=\"3\" valign=\"top\">accel</th>\n",
       "      <th>X</th>\n",
       "      <td>1.5</td>\n",
       "      <td>0.85</td>\n",
       "    </tr>\n",
       "    <tr>\n",
       "      <th>Y</th>\n",
       "      <td>1.5</td>\n",
       "      <td>0.35</td>\n",
       "    </tr>\n",
       "    <tr>\n",
       "      <th>Z</th>\n",
       "      <td>1.5</td>\n",
       "      <td>0.15</td>\n",
       "    </tr>\n",
       "    <tr>\n",
       "      <th rowspan=\"3\" valign=\"top\">orientation</th>\n",
       "      <th>X</th>\n",
       "      <td>1.5</td>\n",
       "      <td>0.15</td>\n",
       "    </tr>\n",
       "    <tr>\n",
       "      <th>Y</th>\n",
       "      <td>1.5</td>\n",
       "      <td>0.25</td>\n",
       "    </tr>\n",
       "    <tr>\n",
       "      <th>Z</th>\n",
       "      <td>1.5</td>\n",
       "      <td>0.00</td>\n",
       "    </tr>\n",
       "  </tbody>\n",
       "</table>\n",
       "</div>"
      ],
      "text/plain": [
       "                  interval  reading\n",
       "sensor      axis                   \n",
       "accel       X          1.5     0.85\n",
       "            Y          1.5     0.35\n",
       "            Z          1.5     0.15\n",
       "orientation X          1.5     0.15\n",
       "            Y          1.5     0.25\n",
       "            Z          1.5     0.00"
      ]
     },
     "execution_count": 21,
     "metadata": {},
     "output_type": "execute_result"
    }
   ],
   "source": [
    "# can simply apply the agg function to the group by object\n",
    "sensor_axis_grouping.mean()"
   ]
  },
  {
   "cell_type": "markdown",
   "metadata": {},
   "source": [
    "### `.agg([method lists])` : 복수의 집계함수 적용하기\n",
    "`.agg()`에 함수의 리스트를 전달하면 복수의 집계 함수를 적용할 수 있다.  "
   ]
  },
  {
   "cell_type": "code",
   "execution_count": 22,
   "metadata": {},
   "outputs": [
    {
     "data": {
      "text/html": [
       "<div>\n",
       "<style scoped>\n",
       "    .dataframe tbody tr th:only-of-type {\n",
       "        vertical-align: middle;\n",
       "    }\n",
       "\n",
       "    .dataframe tbody tr th {\n",
       "        vertical-align: top;\n",
       "    }\n",
       "\n",
       "    .dataframe thead tr th {\n",
       "        text-align: left;\n",
       "    }\n",
       "\n",
       "    .dataframe thead tr:last-of-type th {\n",
       "        text-align: right;\n",
       "    }\n",
       "</style>\n",
       "<table border=\"1\" class=\"dataframe\">\n",
       "  <thead>\n",
       "    <tr>\n",
       "      <th></th>\n",
       "      <th></th>\n",
       "      <th colspan=\"2\" halign=\"left\">interval</th>\n",
       "      <th colspan=\"2\" halign=\"left\">reading</th>\n",
       "    </tr>\n",
       "    <tr>\n",
       "      <th></th>\n",
       "      <th></th>\n",
       "      <th>sum</th>\n",
       "      <th>std</th>\n",
       "      <th>sum</th>\n",
       "      <th>std</th>\n",
       "    </tr>\n",
       "    <tr>\n",
       "      <th>sensor</th>\n",
       "      <th>axis</th>\n",
       "      <th></th>\n",
       "      <th></th>\n",
       "      <th></th>\n",
       "      <th></th>\n",
       "    </tr>\n",
       "  </thead>\n",
       "  <tbody>\n",
       "    <tr>\n",
       "      <th rowspan=\"3\" valign=\"top\">accel</th>\n",
       "      <th>X</th>\n",
       "      <td>6</td>\n",
       "      <td>1.290994</td>\n",
       "      <td>3.4</td>\n",
       "      <td>0.129099</td>\n",
       "    </tr>\n",
       "    <tr>\n",
       "      <th>Y</th>\n",
       "      <td>6</td>\n",
       "      <td>1.290994</td>\n",
       "      <td>1.4</td>\n",
       "      <td>0.129099</td>\n",
       "    </tr>\n",
       "    <tr>\n",
       "      <th>Z</th>\n",
       "      <td>6</td>\n",
       "      <td>1.290994</td>\n",
       "      <td>0.6</td>\n",
       "      <td>0.129099</td>\n",
       "    </tr>\n",
       "    <tr>\n",
       "      <th rowspan=\"3\" valign=\"top\">orientation</th>\n",
       "      <th>X</th>\n",
       "      <td>6</td>\n",
       "      <td>1.290994</td>\n",
       "      <td>0.6</td>\n",
       "      <td>0.129099</td>\n",
       "    </tr>\n",
       "    <tr>\n",
       "      <th>Y</th>\n",
       "      <td>6</td>\n",
       "      <td>1.290994</td>\n",
       "      <td>1.0</td>\n",
       "      <td>0.129099</td>\n",
       "    </tr>\n",
       "    <tr>\n",
       "      <th>Z</th>\n",
       "      <td>6</td>\n",
       "      <td>1.290994</td>\n",
       "      <td>0.0</td>\n",
       "      <td>0.000000</td>\n",
       "    </tr>\n",
       "  </tbody>\n",
       "</table>\n",
       "</div>"
      ],
      "text/plain": [
       "                 interval           reading          \n",
       "                      sum       std     sum       std\n",
       "sensor      axis                                     \n",
       "accel       X           6  1.290994     3.4  0.129099\n",
       "            Y           6  1.290994     1.4  0.129099\n",
       "            Z           6  1.290994     0.6  0.129099\n",
       "orientation X           6  1.290994     0.6  0.129099\n",
       "            Y           6  1.290994     1.0  0.129099\n",
       "            Z           6  1.290994     0.0  0.000000"
      ]
     },
     "execution_count": 22,
     "metadata": {},
     "output_type": "execute_result"
    }
   ],
   "source": [
    "# apply multiple aggregation functions at once\n",
    "sensor_axis_grouping.agg([np.sum, np.std])"
   ]
  },
  {
   "cell_type": "markdown",
   "metadata": {},
   "source": [
    "### `.agg({column:method, column:method})`\n",
    "또한 `.agg()`에 파이썬 딕셔너리를 전달함으로써 각 칼럼에 서로 다른 함수를 적용할 수 있다\\!  \n",
    "**딕셔너리 키에는 적용 대상에 해당하는 칼럼명, 밸류에는 그 칼럼에 적용할 함수**를 적는다.  \n",
    "interval 칼럼의 값 개수, reading 칼럼의 평균을 구한 예시이다. "
   ]
  },
  {
   "cell_type": "code",
   "execution_count": 23,
   "metadata": {},
   "outputs": [
    {
     "data": {
      "text/html": [
       "<div>\n",
       "<style scoped>\n",
       "    .dataframe tbody tr th:only-of-type {\n",
       "        vertical-align: middle;\n",
       "    }\n",
       "\n",
       "    .dataframe tbody tr th {\n",
       "        vertical-align: top;\n",
       "    }\n",
       "\n",
       "    .dataframe thead th {\n",
       "        text-align: right;\n",
       "    }\n",
       "</style>\n",
       "<table border=\"1\" class=\"dataframe\">\n",
       "  <thead>\n",
       "    <tr style=\"text-align: right;\">\n",
       "      <th></th>\n",
       "      <th></th>\n",
       "      <th>interval</th>\n",
       "      <th>reading</th>\n",
       "    </tr>\n",
       "    <tr>\n",
       "      <th>sensor</th>\n",
       "      <th>axis</th>\n",
       "      <th></th>\n",
       "      <th></th>\n",
       "    </tr>\n",
       "  </thead>\n",
       "  <tbody>\n",
       "    <tr>\n",
       "      <th rowspan=\"3\" valign=\"top\">accel</th>\n",
       "      <th>X</th>\n",
       "      <td>4</td>\n",
       "      <td>0.85</td>\n",
       "    </tr>\n",
       "    <tr>\n",
       "      <th>Y</th>\n",
       "      <td>4</td>\n",
       "      <td>0.35</td>\n",
       "    </tr>\n",
       "    <tr>\n",
       "      <th>Z</th>\n",
       "      <td>4</td>\n",
       "      <td>0.15</td>\n",
       "    </tr>\n",
       "    <tr>\n",
       "      <th rowspan=\"3\" valign=\"top\">orientation</th>\n",
       "      <th>X</th>\n",
       "      <td>4</td>\n",
       "      <td>0.15</td>\n",
       "    </tr>\n",
       "    <tr>\n",
       "      <th>Y</th>\n",
       "      <td>4</td>\n",
       "      <td>0.25</td>\n",
       "    </tr>\n",
       "    <tr>\n",
       "      <th>Z</th>\n",
       "      <td>4</td>\n",
       "      <td>0.00</td>\n",
       "    </tr>\n",
       "  </tbody>\n",
       "</table>\n",
       "</div>"
      ],
      "text/plain": [
       "                  interval  reading\n",
       "sensor      axis                   \n",
       "accel       X            4     0.85\n",
       "            Y            4     0.35\n",
       "            Z            4     0.15\n",
       "orientation X            4     0.15\n",
       "            Y            4     0.25\n",
       "            Z            4     0.00"
      ]
     },
     "execution_count": 23,
     "metadata": {},
     "output_type": "execute_result"
    }
   ],
   "source": [
    "# apply a different function to each column\n",
    "sensor_axis_grouping.agg({'interval' : len,\n",
    "                          'reading': np.mean})"
   ]
  },
  {
   "cell_type": "markdown",
   "metadata": {},
   "source": [
    "### `DataFrameGroupBy['column].method`\n",
    "또한 `GroupBy` 객체의 []연산자를 사용하여 특정 칼럼에 대해 집계 연산을 수행하는 방법도 있다.  \n",
    "\n",
    "    원래 배웠던 방식으로, `df.groupby()['column'].method` 하는 형식인 것이다.\n",
    "\n",
    "sensor와 axis 기준으로 그룹화된 데이터프레임그룹바이 객체에서 reading 칼럼에 대해 평균을 구하는 예시이다. "
   ]
  },
  {
   "cell_type": "code",
   "execution_count": 24,
   "metadata": {},
   "outputs": [
    {
     "data": {
      "text/plain": [
       "sensor       axis\n",
       "accel        X       0.85\n",
       "             Y       0.35\n",
       "             Z       0.15\n",
       "orientation  X       0.15\n",
       "             Y       0.25\n",
       "             Z       0.00\n",
       "Name: reading, dtype: float64"
      ]
     },
     "execution_count": 24,
     "metadata": {},
     "output_type": "execute_result"
    }
   ],
   "source": [
    "# calculate the mean of the reading column\n",
    "sensor_axis_grouping['reading'].mean()"
   ]
  },
  {
   "cell_type": "markdown",
   "metadata": {},
   "source": [
    "## `.transform()` : Transforming groups of data\n",
    "데이터 그룹의 변형\n",
    "\n",
    "`GroupBy` 객체는 각 그룹 안에 있는 `DataFrame`의 모든 값에 함수를 적용할 수 있는 `.transform()`이라는 메서드를 제공한다.  \n",
    "\n",
    "일반적인 변형 작업의 과정을 살펴본 다음, 두 개의 실전 예제로 데이터 그룹 변형을 실습한다.  \n",
    "\n",
    "### 데이터 변형의 일반적인 과정\n",
    "\n",
    "`GroupBy` 객체의 `.transform()`메서드는 `DataFrame`의 모든 값에 함수를 적용하며, 다음과 같은 특성을 갖는 새 `DataFrame`을 반환한다. \n",
    "- 모든 그룹의 인덱스가 합쳐진 인덱스를 갖는다.\n",
    "- 로우의 개수는 모든 그룹의 로우 개수의 총합과 같다.\n",
    "- 그룹화 대상이 아닌 칼럼도 함수가 성공적으로 적용된다면 결과에 포함된다(그렇지 않은 칼럼은 삭제될 수 있다). \n",
    "\n",
    "예시 데이터 프레임을 만든다. 라벨이 있고, 값 칼럼이 두 개 있으며, 그외 칼럼이 있고, index는 이상한 형태로(?) 만들어놨다. "
   ]
  },
  {
   "cell_type": "code",
   "execution_count": 25,
   "metadata": {},
   "outputs": [
    {
     "data": {
      "text/html": [
       "<div>\n",
       "<style scoped>\n",
       "    .dataframe tbody tr th:only-of-type {\n",
       "        vertical-align: middle;\n",
       "    }\n",
       "\n",
       "    .dataframe tbody tr th {\n",
       "        vertical-align: top;\n",
       "    }\n",
       "\n",
       "    .dataframe thead th {\n",
       "        text-align: right;\n",
       "    }\n",
       "</style>\n",
       "<table border=\"1\" class=\"dataframe\">\n",
       "  <thead>\n",
       "    <tr style=\"text-align: right;\">\n",
       "      <th></th>\n",
       "      <th>Label</th>\n",
       "      <th>Values</th>\n",
       "      <th>Values2</th>\n",
       "      <th>Other</th>\n",
       "    </tr>\n",
       "  </thead>\n",
       "  <tbody>\n",
       "    <tr>\n",
       "      <th>V</th>\n",
       "      <td>A</td>\n",
       "      <td>0</td>\n",
       "      <td>5</td>\n",
       "      <td>foo</td>\n",
       "    </tr>\n",
       "    <tr>\n",
       "      <th>W</th>\n",
       "      <td>C</td>\n",
       "      <td>1</td>\n",
       "      <td>6</td>\n",
       "      <td>bar</td>\n",
       "    </tr>\n",
       "    <tr>\n",
       "      <th>X</th>\n",
       "      <td>B</td>\n",
       "      <td>2</td>\n",
       "      <td>7</td>\n",
       "      <td>baz</td>\n",
       "    </tr>\n",
       "    <tr>\n",
       "      <th>Y</th>\n",
       "      <td>A</td>\n",
       "      <td>3</td>\n",
       "      <td>8</td>\n",
       "      <td>fiz</td>\n",
       "    </tr>\n",
       "    <tr>\n",
       "      <th>Z</th>\n",
       "      <td>C</td>\n",
       "      <td>4</td>\n",
       "      <td>9</td>\n",
       "      <td>buz</td>\n",
       "    </tr>\n",
       "  </tbody>\n",
       "</table>\n",
       "</div>"
      ],
      "text/plain": [
       "  Label  Values  Values2 Other\n",
       "V     A       0        5   foo\n",
       "W     C       1        6   bar\n",
       "X     B       2        7   baz\n",
       "Y     A       3        8   fiz\n",
       "Z     C       4        9   buz"
      ]
     },
     "execution_count": 25,
     "metadata": {},
     "output_type": "execute_result"
    }
   ],
   "source": [
    "# a DataFrame to use for examples\n",
    "transform_data = pd.DataFrame({ 'Label': ['A', 'C', 'B', 'A', 'C'],\n",
    "                                'Values': [0, 1, 2, 3, 4],\n",
    "                                'Values2': [5, 6, 7, 8, 9],\n",
    "                                'Other': ['foo', 'bar', 'baz', \n",
    "                                          'fiz', 'buz']},\n",
    "                              index = list('VWXYZ'))\n",
    "transform_data"
   ]
  },
  {
   "cell_type": "markdown",
   "metadata": {},
   "source": [
    "1. Label 칼럼으로 그룹화를 한다. "
   ]
  },
  {
   "cell_type": "code",
   "execution_count": 26,
   "metadata": {},
   "outputs": [
    {
     "name": "stdout",
     "output_type": "stream",
     "text": [
      "A\n",
      "  Label  Values  Values2 Other\n",
      "V     A       0        5   foo\n",
      "Y     A       3        8   fiz\n",
      "B\n",
      "  Label  Values  Values2 Other\n",
      "X     B       2        7   baz\n",
      "C\n",
      "  Label  Values  Values2 Other\n",
      "W     C       1        6   bar\n",
      "Z     C       4        9   buz\n"
     ]
    }
   ],
   "source": [
    "# group by label\n",
    "grouped_by_label = transform_data.groupby('Label')\n",
    "print_groups(grouped_by_label)"
   ]
  },
  {
   "cell_type": "markdown",
   "metadata": {},
   "source": [
    "2. 각 값에 10씩 더하는 함수를 적용하여 변형을 수행하는 예시이다.  \n",
    "\n",
    "pandas는 모든 칼럼에 함수 적용을 시도하는데,  \n",
    "(1) Label과 Other 칼럼의 값은 문자열이므로 함수 적용에 실패하면서 **그 두 칼럼은 결과에서 제외**되었다.  \n",
    "(2) 또한 변형된 결과는 그룹화된 구조를 갖지 않으며, 원래 `DataFrame` 객체의 인덱스와 일치하는 인덱스(V, W, X, Y, Z)를 갖게 된다. (말그대로 원래 데이터 프레임에서 계산을 수행한 모습이다.)"
   ]
  },
  {
   "cell_type": "code",
   "execution_count": 27,
   "metadata": {},
   "outputs": [
    {
     "name": "stderr",
     "output_type": "stream",
     "text": [
      "/var/folders/qw/j72d9nwn5dq0vxtqtw2bbtnh0000gp/T/ipykernel_3530/3209528192.py:2: FutureWarning: Dropping invalid columns in DataFrameGroupBy.transform is deprecated. In a future version, a TypeError will be raised. Before calling .transform, select only columns which should be valid for the function.\n",
      "  grouped_by_label.transform(lambda x: x + 10)\n"
     ]
    },
    {
     "data": {
      "text/html": [
       "<div>\n",
       "<style scoped>\n",
       "    .dataframe tbody tr th:only-of-type {\n",
       "        vertical-align: middle;\n",
       "    }\n",
       "\n",
       "    .dataframe tbody tr th {\n",
       "        vertical-align: top;\n",
       "    }\n",
       "\n",
       "    .dataframe thead th {\n",
       "        text-align: right;\n",
       "    }\n",
       "</style>\n",
       "<table border=\"1\" class=\"dataframe\">\n",
       "  <thead>\n",
       "    <tr style=\"text-align: right;\">\n",
       "      <th></th>\n",
       "      <th>Values</th>\n",
       "      <th>Values2</th>\n",
       "    </tr>\n",
       "  </thead>\n",
       "  <tbody>\n",
       "    <tr>\n",
       "      <th>V</th>\n",
       "      <td>10</td>\n",
       "      <td>15</td>\n",
       "    </tr>\n",
       "    <tr>\n",
       "      <th>W</th>\n",
       "      <td>11</td>\n",
       "      <td>16</td>\n",
       "    </tr>\n",
       "    <tr>\n",
       "      <th>X</th>\n",
       "      <td>12</td>\n",
       "      <td>17</td>\n",
       "    </tr>\n",
       "    <tr>\n",
       "      <th>Y</th>\n",
       "      <td>13</td>\n",
       "      <td>18</td>\n",
       "    </tr>\n",
       "    <tr>\n",
       "      <th>Z</th>\n",
       "      <td>14</td>\n",
       "      <td>19</td>\n",
       "    </tr>\n",
       "  </tbody>\n",
       "</table>\n",
       "</div>"
      ],
      "text/plain": [
       "   Values  Values2\n",
       "V      10       15\n",
       "W      11       16\n",
       "X      12       17\n",
       "Y      13       18\n",
       "Z      14       19"
      ]
     },
     "execution_count": 27,
     "metadata": {},
     "output_type": "execute_result"
    }
   ],
   "source": [
    "# add ten to all values in all columns\n",
    "grouped_by_label.transform(lambda x: x + 10)"
   ]
  },
  {
   "cell_type": "markdown",
   "metadata": {},
   "source": [
    "### 🧪 Filling missing values with the mean of the group\n",
    "그룹의 평균으로 결측값 채우기\n",
    "\n",
    "**그룹 데이터의 통계 분석에 있어서 일반적인 변형 작업 중 하나는 결측 데이터를 그룹의 평균값으로 채우는 일이다.**  \n",
    "\n",
    "예시 데이터는 결측을 포함한 값 칼럼과, 두 가지 값만 갖는 Label 칼럼이다.  \n",
    "1. 이 데이터를 Label 칼럼 기준으로 그룹화 한다. \n",
    "2. 이 그룹화된 객체에 `.mean()` 메서드를 적용하여 평균을 계산한다.  "
   ]
  },
  {
   "cell_type": "code",
   "execution_count": 28,
   "metadata": {},
   "outputs": [
    {
     "name": "stdout",
     "output_type": "stream",
     "text": [
      "A\n",
      "  Label  Values\n",
      "0     A    10.0\n",
      "2     A    11.0\n",
      "4     A    12.0\n",
      "B\n",
      "  Label  Values\n",
      "1     B    20.0\n",
      "3     B     NaN\n",
      "5     B    22.0\n"
     ]
    }
   ],
   "source": [
    "# data to demonstrate replacement on NaN\n",
    "df = pd.DataFrame({ 'Label': list(\"ABABAB\"),\n",
    "                    'Values': [10, 20, 11, np.nan, 12, 22]})\n",
    "grouped = df.groupby('Label')\n",
    "print_groups(grouped)"
   ]
  },
  {
   "cell_type": "code",
   "execution_count": 29,
   "metadata": {},
   "outputs": [
    {
     "data": {
      "text/html": [
       "<div>\n",
       "<style scoped>\n",
       "    .dataframe tbody tr th:only-of-type {\n",
       "        vertical-align: middle;\n",
       "    }\n",
       "\n",
       "    .dataframe tbody tr th {\n",
       "        vertical-align: top;\n",
       "    }\n",
       "\n",
       "    .dataframe thead th {\n",
       "        text-align: right;\n",
       "    }\n",
       "</style>\n",
       "<table border=\"1\" class=\"dataframe\">\n",
       "  <thead>\n",
       "    <tr style=\"text-align: right;\">\n",
       "      <th></th>\n",
       "      <th>Values</th>\n",
       "    </tr>\n",
       "    <tr>\n",
       "      <th>Label</th>\n",
       "      <th></th>\n",
       "    </tr>\n",
       "  </thead>\n",
       "  <tbody>\n",
       "    <tr>\n",
       "      <th>A</th>\n",
       "      <td>11.0</td>\n",
       "    </tr>\n",
       "    <tr>\n",
       "      <th>B</th>\n",
       "      <td>21.0</td>\n",
       "    </tr>\n",
       "  </tbody>\n",
       "</table>\n",
       "</div>"
      ],
      "text/plain": [
       "       Values\n",
       "Label        \n",
       "A        11.0\n",
       "B        21.0"
      ]
     },
     "execution_count": 29,
     "metadata": {},
     "output_type": "execute_result"
    }
   ],
   "source": [
    "# calculate the mean of the two groups\n",
    "grouped.mean()"
   ]
  },
  {
   "cell_type": "markdown",
   "metadata": {},
   "source": [
    "3. `NaN`이 있으면 곤란한 상황을 막기 위해 B 그룹의 모든 `NaN`값을 채워야 한다고 생각하자.  \n",
    "    그렇다면 `.transform(lambda x: x.fillna(x.mean()))`를 사용하여 그룹화된 상태에서, 그룹별 평균으로 값을 간단하게 채울 수 있다!  \n"
   ]
  },
  {
   "cell_type": "code",
   "execution_count": 30,
   "metadata": {},
   "outputs": [
    {
     "data": {
      "text/html": [
       "<div>\n",
       "<style scoped>\n",
       "    .dataframe tbody tr th:only-of-type {\n",
       "        vertical-align: middle;\n",
       "    }\n",
       "\n",
       "    .dataframe tbody tr th {\n",
       "        vertical-align: top;\n",
       "    }\n",
       "\n",
       "    .dataframe thead th {\n",
       "        text-align: right;\n",
       "    }\n",
       "</style>\n",
       "<table border=\"1\" class=\"dataframe\">\n",
       "  <thead>\n",
       "    <tr style=\"text-align: right;\">\n",
       "      <th></th>\n",
       "      <th>Values</th>\n",
       "    </tr>\n",
       "  </thead>\n",
       "  <tbody>\n",
       "    <tr>\n",
       "      <th>0</th>\n",
       "      <td>10.0</td>\n",
       "    </tr>\n",
       "    <tr>\n",
       "      <th>1</th>\n",
       "      <td>20.0</td>\n",
       "    </tr>\n",
       "    <tr>\n",
       "      <th>2</th>\n",
       "      <td>11.0</td>\n",
       "    </tr>\n",
       "    <tr>\n",
       "      <th>3</th>\n",
       "      <td>21.0</td>\n",
       "    </tr>\n",
       "    <tr>\n",
       "      <th>4</th>\n",
       "      <td>12.0</td>\n",
       "    </tr>\n",
       "    <tr>\n",
       "      <th>5</th>\n",
       "      <td>22.0</td>\n",
       "    </tr>\n",
       "  </tbody>\n",
       "</table>\n",
       "</div>"
      ],
      "text/plain": [
       "   Values\n",
       "0    10.0\n",
       "1    20.0\n",
       "2    11.0\n",
       "3    21.0\n",
       "4    12.0\n",
       "5    22.0"
      ]
     },
     "execution_count": 30,
     "metadata": {},
     "output_type": "execute_result"
    }
   ],
   "source": [
    "# use transform to fill the NaNs with the mean of the group\n",
    "filled_NaNs = grouped.transform(lambda x: x.fillna(x.mean()))\n",
    "filled_NaNs"
   ]
  },
  {
   "cell_type": "markdown",
   "metadata": {},
   "source": [
    "결과는 DataFrame인데 기존의 Lable은 없이, 원래 있던 인덱스만 남아있다. \n",
    "만약 이 값으로 대체해야 한다면 이렇게 할 수 있을 것이다.  \n",
    "이름이 같게 겹치기 때문에 새롭게 이름을 바꾸는 과정을 추가했다.  "
   ]
  },
  {
   "cell_type": "code",
   "execution_count": 31,
   "metadata": {
    "scrolled": true
   },
   "outputs": [
    {
     "data": {
      "text/html": [
       "<div>\n",
       "<style scoped>\n",
       "    .dataframe tbody tr th:only-of-type {\n",
       "        vertical-align: middle;\n",
       "    }\n",
       "\n",
       "    .dataframe tbody tr th {\n",
       "        vertical-align: top;\n",
       "    }\n",
       "\n",
       "    .dataframe thead th {\n",
       "        text-align: right;\n",
       "    }\n",
       "</style>\n",
       "<table border=\"1\" class=\"dataframe\">\n",
       "  <thead>\n",
       "    <tr style=\"text-align: right;\">\n",
       "      <th></th>\n",
       "      <th>Label</th>\n",
       "      <th>Values</th>\n",
       "      <th>filled_Values</th>\n",
       "    </tr>\n",
       "  </thead>\n",
       "  <tbody>\n",
       "    <tr>\n",
       "      <th>0</th>\n",
       "      <td>A</td>\n",
       "      <td>10.0</td>\n",
       "      <td>10.0</td>\n",
       "    </tr>\n",
       "    <tr>\n",
       "      <th>1</th>\n",
       "      <td>B</td>\n",
       "      <td>20.0</td>\n",
       "      <td>20.0</td>\n",
       "    </tr>\n",
       "    <tr>\n",
       "      <th>2</th>\n",
       "      <td>A</td>\n",
       "      <td>11.0</td>\n",
       "      <td>11.0</td>\n",
       "    </tr>\n",
       "    <tr>\n",
       "      <th>3</th>\n",
       "      <td>B</td>\n",
       "      <td>NaN</td>\n",
       "      <td>21.0</td>\n",
       "    </tr>\n",
       "    <tr>\n",
       "      <th>4</th>\n",
       "      <td>A</td>\n",
       "      <td>12.0</td>\n",
       "      <td>12.0</td>\n",
       "    </tr>\n",
       "    <tr>\n",
       "      <th>5</th>\n",
       "      <td>B</td>\n",
       "      <td>22.0</td>\n",
       "      <td>22.0</td>\n",
       "    </tr>\n",
       "  </tbody>\n",
       "</table>\n",
       "</div>"
      ],
      "text/plain": [
       "  Label  Values  filled_Values\n",
       "0     A    10.0           10.0\n",
       "1     B    20.0           20.0\n",
       "2     A    11.0           11.0\n",
       "3     B     NaN           21.0\n",
       "4     A    12.0           12.0\n",
       "5     B    22.0           22.0"
      ]
     },
     "execution_count": 31,
     "metadata": {},
     "output_type": "execute_result"
    }
   ],
   "source": [
    "filled = df.groupby('Label').transform(lambda x: x.fillna(x.mean()))\n",
    "filled.rename(columns = {'Values':'filled_Values'}, inplace = True)\n",
    "df_filled = pd.concat([df, filled], axis = 1)\n",
    "df_filled"
   ]
  },
  {
   "cell_type": "markdown",
   "metadata": {},
   "source": [
    "## Calculating z-scores\n",
    "정규 표준 점수의 계산\n",
    "\n",
    "데이터 변형의 또 다른 일반적인 예는 데이터 그룹의 정규 표준 점수(normalized z-score)를 생성하는 일이다.  \n",
    "\n",
    "\n",
    "이를 시험하기 위해 평균이 0.5 이고 표준 편차가 2인 정규 분포를 사용하는 무작위 값의 시리즈를 만들것이다. 인덱스는 날짜이고, 3년 치 데이터이다.  \n",
    "\n",
    "1. `.rolling()`  \n",
    "    이동 평균은 100일 짜리 윈도우를 사용하여 계산할 것이다.  \n",
    "    100일짜리 윈도우기 때문에 시작은 1월 1일이지만 rolling 은 4월 10일부터 시작한다.  "
   ]
  },
  {
   "cell_type": "code",
   "execution_count": 32,
   "metadata": {},
   "outputs": [
    {
     "data": {
      "text/plain": [
       "2013-04-10    0.073603\n",
       "2013-04-11    0.057313\n",
       "2013-04-12    0.089255\n",
       "2013-04-13    0.133248\n",
       "2013-04-14    0.175876\n",
       "Freq: D, dtype: float64"
      ]
     },
     "execution_count": 32,
     "metadata": {},
     "output_type": "execute_result"
    }
   ],
   "source": [
    "# generate a rolling mean time series\n",
    "np.random.seed(123456)\n",
    "data = pd.Series(np.random.normal(0.5, 2, 365*3), \n",
    "                 pd.date_range('2013-01-01', periods = 365*3))\n",
    "\n",
    "periods = 100\n",
    "df_rolling = data.rolling(window = periods, min_periods = periods,\n",
    "                       center=False).mean().dropna()\n",
    "df_rolling[:5]"
   ]
  },
  {
   "cell_type": "markdown",
   "metadata": {},
   "source": [
    "2. 이동 평균 모형을 plotting하면 다음과 같다. "
   ]
  },
  {
   "cell_type": "code",
   "execution_count": 33,
   "metadata": {},
   "outputs": [
    {
     "data": {
      "image/png": "[encoded data removed]",
      "text/plain": [
       "<Figure size 432x288 with 1 Axes>"
      ]
     },
     "metadata": {
      "needs_background": "light"
     },
     "output_type": "display_data"
    }
   ],
   "source": [
    "# visualize the series\n",
    "df_rolling.plot();"
   ]
  },
  {
   "cell_type": "markdown",
   "metadata": {},
   "source": [
    "여기서 각 연도의 이동평균을 정규화시키려고 한다고 생각해보자. 그렇게 하기 위해  \n",
    "\n",
    "3. 다음과 같이 연도 기준으로 그룹화하고, 각 그룹의 평균과 표준 편차를 집계할 수 있다.  \n",
    "    group_key라는 이름으로 연도만 추출하는 함수를 만들고, 그를 groupby에 넣었다.  \n",
    "    그리고 그렇게 연도별 이동평균이 그룹화 된 것의 평균과 표준 편차를 집계한다.  "
   ]
  },
  {
   "cell_type": "code",
   "execution_count": 34,
   "metadata": {},
   "outputs": [
    {
     "data": {
      "text/html": [
       "<div>\n",
       "<style scoped>\n",
       "    .dataframe tbody tr th:only-of-type {\n",
       "        vertical-align: middle;\n",
       "    }\n",
       "\n",
       "    .dataframe tbody tr th {\n",
       "        vertical-align: top;\n",
       "    }\n",
       "\n",
       "    .dataframe thead th {\n",
       "        text-align: right;\n",
       "    }\n",
       "</style>\n",
       "<table border=\"1\" class=\"dataframe\">\n",
       "  <thead>\n",
       "    <tr style=\"text-align: right;\">\n",
       "      <th></th>\n",
       "      <th>mean</th>\n",
       "      <th>std</th>\n",
       "    </tr>\n",
       "  </thead>\n",
       "  <tbody>\n",
       "    <tr>\n",
       "      <th>2013</th>\n",
       "      <td>0.454233</td>\n",
       "      <td>0.171988</td>\n",
       "    </tr>\n",
       "    <tr>\n",
       "      <th>2014</th>\n",
       "      <td>0.286502</td>\n",
       "      <td>0.182040</td>\n",
       "    </tr>\n",
       "    <tr>\n",
       "      <th>2015</th>\n",
       "      <td>0.599447</td>\n",
       "      <td>0.275786</td>\n",
       "    </tr>\n",
       "  </tbody>\n",
       "</table>\n",
       "</div>"
      ],
      "text/plain": [
       "          mean       std\n",
       "2013  0.454233  0.171988\n",
       "2014  0.286502  0.182040\n",
       "2015  0.599447  0.275786"
      ]
     },
     "execution_count": 34,
     "metadata": {},
     "output_type": "execute_result"
    }
   ],
   "source": [
    "# calculate mean and std by year\n",
    "group_key = lambda x: x.year\n",
    "df_rolling_y = df_rolling.groupby(group_key)\n",
    "df_rolling_y.agg([np.mean, np.std])"
   ]
  },
  {
   "cell_type": "markdown",
   "metadata": {},
   "source": [
    "4. 정규화를 위해 z-score를 계산하는 함수를 만들어두고, 이를 각 그룹에 적용하여 새로운 평균과 새로운 표준 편차를 구한다.  "
   ]
  },
  {
   "cell_type": "code",
   "execution_count": 35,
   "metadata": {},
   "outputs": [
    {
     "data": {
      "text/html": [
       "<div>\n",
       "<style scoped>\n",
       "    .dataframe tbody tr th:only-of-type {\n",
       "        vertical-align: middle;\n",
       "    }\n",
       "\n",
       "    .dataframe tbody tr th {\n",
       "        vertical-align: top;\n",
       "    }\n",
       "\n",
       "    .dataframe thead th {\n",
       "        text-align: right;\n",
       "    }\n",
       "</style>\n",
       "<table border=\"1\" class=\"dataframe\">\n",
       "  <thead>\n",
       "    <tr style=\"text-align: right;\">\n",
       "      <th></th>\n",
       "      <th>mean</th>\n",
       "      <th>std</th>\n",
       "    </tr>\n",
       "  </thead>\n",
       "  <tbody>\n",
       "    <tr>\n",
       "      <th>2013</th>\n",
       "      <td>2.237141e-16</td>\n",
       "      <td>1.0</td>\n",
       "    </tr>\n",
       "    <tr>\n",
       "      <th>2014</th>\n",
       "      <td>-2.223488e-16</td>\n",
       "      <td>1.0</td>\n",
       "    </tr>\n",
       "    <tr>\n",
       "      <th>2015</th>\n",
       "      <td>3.205959e-16</td>\n",
       "      <td>1.0</td>\n",
       "    </tr>\n",
       "  </tbody>\n",
       "</table>\n",
       "</div>"
      ],
      "text/plain": [
       "              mean  std\n",
       "2013  2.237141e-16  1.0\n",
       "2014 -2.223488e-16  1.0\n",
       "2015  3.205959e-16  1.0"
      ]
     },
     "execution_count": 35,
     "metadata": {},
     "output_type": "execute_result"
    }
   ],
   "source": [
    "# normalize to the z-score\n",
    "z_score = lambda x: (x - x.mean()) / x.std()\n",
    "df_normed = df_rolling.groupby(group_key).transform(z_score)\n",
    "df_normed.groupby(group_key).agg([np.mean, np.std])"
   ]
  },
  {
   "cell_type": "markdown",
   "metadata": {},
   "source": [
    "5. 기존 데이터와 함께 그래프로 비교해볼 수 있다.  \n"
   ]
  },
  {
   "cell_type": "code",
   "execution_count": 36,
   "metadata": {},
   "outputs": [
    {
     "data": {
      "image/png": "[encoded data removed]",
      "text/plain": [
       "<Figure size 432x288 with 1 Axes>"
      ]
     },
     "metadata": {
      "needs_background": "light"
     },
     "output_type": "display_data"
    }
   ],
   "source": [
    "# plot original vs normalize\n",
    "compared = pd.DataFrame({ 'Original': df_rolling,\n",
    "                          'Normed': df_normed })\n",
    "compared.plot();"
   ]
  },
  {
   "cell_type": "markdown",
   "metadata": {},
   "source": [
    "## 🧪 `.filter(function)` : Filtering groups\n",
    "그룹 필터링\n",
    "\n",
    "`.filter()`를 사용하면 데이터 그룹을 선택적으로 삭제할 수 있다.  \n",
    "해당 function에는 말 그대로 그룹화된 데이터가 들어가는 것이다.  \n",
    "이 메서드에는 조합 이후의 결과에 특정 그룹의 포함 여부를 판단하는 함수를 전달한다.  \n",
    "해당 그룹이 결과에 포함되려면 그 함수(function을 적용한 결과)는 True를 반환해야하고, 그렇지 않으면 False를 반환하며 포함되지 않을 것이다.  \n",
    "\n",
    "1. 다음과 같은 세 개의 그룹이 있다. 결측을 포함한다."
   ]
  },
  {
   "cell_type": "code",
   "execution_count": 37,
   "metadata": {},
   "outputs": [
    {
     "data": {
      "text/html": [
       "<div>\n",
       "<style scoped>\n",
       "    .dataframe tbody tr th:only-of-type {\n",
       "        vertical-align: middle;\n",
       "    }\n",
       "\n",
       "    .dataframe tbody tr th {\n",
       "        vertical-align: top;\n",
       "    }\n",
       "\n",
       "    .dataframe thead th {\n",
       "        text-align: right;\n",
       "    }\n",
       "</style>\n",
       "<table border=\"1\" class=\"dataframe\">\n",
       "  <thead>\n",
       "    <tr style=\"text-align: right;\">\n",
       "      <th></th>\n",
       "      <th>Label</th>\n",
       "      <th>Values</th>\n",
       "    </tr>\n",
       "  </thead>\n",
       "  <tbody>\n",
       "    <tr>\n",
       "      <th>0</th>\n",
       "      <td>A</td>\n",
       "      <td>1.0</td>\n",
       "    </tr>\n",
       "    <tr>\n",
       "      <th>1</th>\n",
       "      <td>A</td>\n",
       "      <td>2.0</td>\n",
       "    </tr>\n",
       "    <tr>\n",
       "      <th>2</th>\n",
       "      <td>B</td>\n",
       "      <td>4.0</td>\n",
       "    </tr>\n",
       "    <tr>\n",
       "      <th>3</th>\n",
       "      <td>C</td>\n",
       "      <td>5.0</td>\n",
       "    </tr>\n",
       "    <tr>\n",
       "      <th>4</th>\n",
       "      <td>C</td>\n",
       "      <td>NaN</td>\n",
       "    </tr>\n",
       "    <tr>\n",
       "      <th>5</th>\n",
       "      <td>C</td>\n",
       "      <td>8.0</td>\n",
       "    </tr>\n",
       "  </tbody>\n",
       "</table>\n",
       "</div>"
      ],
      "text/plain": [
       "  Label  Values\n",
       "0     A     1.0\n",
       "1     A     2.0\n",
       "2     B     4.0\n",
       "3     C     5.0\n",
       "4     C     NaN\n",
       "5     C     8.0"
      ]
     },
     "execution_count": 37,
     "metadata": {},
     "output_type": "execute_result"
    }
   ],
   "source": [
    "# data for our examples\n",
    "df = pd.DataFrame({'Label': list('AABCCC'),\n",
    "                   'Values': [1, 2, 4, 5, np.nan, 8]})  # 원래 값은 1, 2, 3, 4, nan, 8 이었다.\n",
    "df"
   ]
  },
  {
   "cell_type": "markdown",
   "metadata": {},
   "source": [
    "2. 다음은 그룹에서 아이템의 개수가 지정한 수(여기는 1개 이상)를 넘지 않는 그룹을 제외하는 예시이다.  \n",
    "    값이 한 개 뿐인 B는 제외되었다. "
   ]
  },
  {
   "cell_type": "code",
   "execution_count": 38,
   "metadata": {},
   "outputs": [
    {
     "data": {
      "text/html": [
       "<div>\n",
       "<style scoped>\n",
       "    .dataframe tbody tr th:only-of-type {\n",
       "        vertical-align: middle;\n",
       "    }\n",
       "\n",
       "    .dataframe tbody tr th {\n",
       "        vertical-align: top;\n",
       "    }\n",
       "\n",
       "    .dataframe thead th {\n",
       "        text-align: right;\n",
       "    }\n",
       "</style>\n",
       "<table border=\"1\" class=\"dataframe\">\n",
       "  <thead>\n",
       "    <tr style=\"text-align: right;\">\n",
       "      <th></th>\n",
       "      <th>Label</th>\n",
       "      <th>Values</th>\n",
       "    </tr>\n",
       "  </thead>\n",
       "  <tbody>\n",
       "    <tr>\n",
       "      <th>0</th>\n",
       "      <td>A</td>\n",
       "      <td>1.0</td>\n",
       "    </tr>\n",
       "    <tr>\n",
       "      <th>1</th>\n",
       "      <td>A</td>\n",
       "      <td>2.0</td>\n",
       "    </tr>\n",
       "    <tr>\n",
       "      <th>3</th>\n",
       "      <td>C</td>\n",
       "      <td>5.0</td>\n",
       "    </tr>\n",
       "    <tr>\n",
       "      <th>4</th>\n",
       "      <td>C</td>\n",
       "      <td>NaN</td>\n",
       "    </tr>\n",
       "    <tr>\n",
       "      <th>5</th>\n",
       "      <td>C</td>\n",
       "      <td>8.0</td>\n",
       "    </tr>\n",
       "  </tbody>\n",
       "</table>\n",
       "</div>"
      ],
      "text/plain": [
       "  Label  Values\n",
       "0     A     1.0\n",
       "1     A     2.0\n",
       "3     C     5.0\n",
       "4     C     NaN\n",
       "5     C     8.0"
      ]
     },
     "execution_count": 38,
     "metadata": {},
     "output_type": "execute_result"
    }
   ],
   "source": [
    "# drop groups with one or fewer non-NaN values\n",
    "filt1 = lambda x: x.Values.count() > 1\n",
    "df.groupby('Label').filter(filt1)"
   ]
  },
  {
   "cell_type": "markdown",
   "metadata": {},
   "source": [
    "3. 다음은 하나라도 결측값이 있다면 제외하도록 함수 식을 써서 적용한 결과이다.  \n",
    "    C그룹은 결측을 포함하기 때문에 제외되었다.  "
   ]
  },
  {
   "cell_type": "code",
   "execution_count": 39,
   "metadata": {},
   "outputs": [
    {
     "data": {
      "text/html": [
       "<div>\n",
       "<style scoped>\n",
       "    .dataframe tbody tr th:only-of-type {\n",
       "        vertical-align: middle;\n",
       "    }\n",
       "\n",
       "    .dataframe tbody tr th {\n",
       "        vertical-align: top;\n",
       "    }\n",
       "\n",
       "    .dataframe thead th {\n",
       "        text-align: right;\n",
       "    }\n",
       "</style>\n",
       "<table border=\"1\" class=\"dataframe\">\n",
       "  <thead>\n",
       "    <tr style=\"text-align: right;\">\n",
       "      <th></th>\n",
       "      <th>Label</th>\n",
       "      <th>Values</th>\n",
       "    </tr>\n",
       "  </thead>\n",
       "  <tbody>\n",
       "    <tr>\n",
       "      <th>0</th>\n",
       "      <td>A</td>\n",
       "      <td>1.0</td>\n",
       "    </tr>\n",
       "    <tr>\n",
       "      <th>1</th>\n",
       "      <td>A</td>\n",
       "      <td>2.0</td>\n",
       "    </tr>\n",
       "    <tr>\n",
       "      <th>2</th>\n",
       "      <td>B</td>\n",
       "      <td>4.0</td>\n",
       "    </tr>\n",
       "  </tbody>\n",
       "</table>\n",
       "</div>"
      ],
      "text/plain": [
       "  Label  Values\n",
       "0     A     1.0\n",
       "1     A     2.0\n",
       "2     B     4.0"
      ]
     },
     "execution_count": 39,
     "metadata": {},
     "output_type": "execute_result"
    }
   ],
   "source": [
    "# drop any groups with NaN values\n",
    "filt2 = lambda x: x.Values.isnull().sum() == 0\n",
    "df.groupby('Label').filter(filt2)"
   ]
  },
  {
   "cell_type": "markdown",
   "metadata": {},
   "source": [
    "4. 만약 결측을 포함한 그룹만 결과에 표시하려면 이렇게 쓸 수 있을 것이다.  \n",
    "    "
   ]
  },
  {
   "cell_type": "code",
   "execution_count": 40,
   "metadata": {
    "scrolled": true
   },
   "outputs": [
    {
     "data": {
      "text/html": [
       "<div>\n",
       "<style scoped>\n",
       "    .dataframe tbody tr th:only-of-type {\n",
       "        vertical-align: middle;\n",
       "    }\n",
       "\n",
       "    .dataframe tbody tr th {\n",
       "        vertical-align: top;\n",
       "    }\n",
       "\n",
       "    .dataframe thead th {\n",
       "        text-align: right;\n",
       "    }\n",
       "</style>\n",
       "<table border=\"1\" class=\"dataframe\">\n",
       "  <thead>\n",
       "    <tr style=\"text-align: right;\">\n",
       "      <th></th>\n",
       "      <th>Label</th>\n",
       "      <th>Values</th>\n",
       "    </tr>\n",
       "  </thead>\n",
       "  <tbody>\n",
       "    <tr>\n",
       "      <th>3</th>\n",
       "      <td>C</td>\n",
       "      <td>5.0</td>\n",
       "    </tr>\n",
       "    <tr>\n",
       "      <th>4</th>\n",
       "      <td>C</td>\n",
       "      <td>NaN</td>\n",
       "    </tr>\n",
       "    <tr>\n",
       "      <th>5</th>\n",
       "      <td>C</td>\n",
       "      <td>8.0</td>\n",
       "    </tr>\n",
       "  </tbody>\n",
       "</table>\n",
       "</div>"
      ],
      "text/plain": [
       "  Label  Values\n",
       "3     C     5.0\n",
       "4     C     NaN\n",
       "5     C     8.0"
      ]
     },
     "execution_count": 40,
     "metadata": {},
     "output_type": "execute_result"
    }
   ],
   "source": [
    "filt3 = lambda x: x.Values.isnull().sum() >= 1\n",
    "df.groupby('Label').filter(filt3)"
   ]
  },
  {
   "cell_type": "markdown",
   "metadata": {},
   "source": [
    "5. 해당 그룹의 평균과 모든 데이터셋 평균과의 차이가 2.0 이 넘는 그룹만 조회하도록 하는 예시이다.  \n",
    "    이는 **전체 데이터에 비해 어느정도 예외적인 데이터를 갖는 그룹을 가려낼 때** 사용하는 기본적인 방법이다.  \n",
    "    그룹화 한 것의 평균의 평균으로 전체 평균을 내고, \n",
    "    함수를 각 그룹에서 전체 그룹평균을 빼어 절댓값을 취한 후, 그 값이 2를 넘는가 아닌 가를 내놓도록 한다.  \n",
    "    \n",
    "    이를 조금 코드를 줄여볼까 했는데 함수에서 `group_mean`을 적기 애매해져서 그냥 그대로 두었다. "
   ]
  },
  {
   "cell_type": "code",
   "execution_count": 41,
   "metadata": {},
   "outputs": [
    {
     "data": {
      "text/html": [
       "<div>\n",
       "<style scoped>\n",
       "    .dataframe tbody tr th:only-of-type {\n",
       "        vertical-align: middle;\n",
       "    }\n",
       "\n",
       "    .dataframe tbody tr th {\n",
       "        vertical-align: top;\n",
       "    }\n",
       "\n",
       "    .dataframe thead th {\n",
       "        text-align: right;\n",
       "    }\n",
       "</style>\n",
       "<table border=\"1\" class=\"dataframe\">\n",
       "  <thead>\n",
       "    <tr style=\"text-align: right;\">\n",
       "      <th></th>\n",
       "      <th>Label</th>\n",
       "      <th>Values</th>\n",
       "    </tr>\n",
       "  </thead>\n",
       "  <tbody>\n",
       "    <tr>\n",
       "      <th>0</th>\n",
       "      <td>A</td>\n",
       "      <td>1.0</td>\n",
       "    </tr>\n",
       "    <tr>\n",
       "      <th>1</th>\n",
       "      <td>A</td>\n",
       "      <td>2.0</td>\n",
       "    </tr>\n",
       "    <tr>\n",
       "      <th>3</th>\n",
       "      <td>C</td>\n",
       "      <td>5.0</td>\n",
       "    </tr>\n",
       "    <tr>\n",
       "      <th>4</th>\n",
       "      <td>C</td>\n",
       "      <td>NaN</td>\n",
       "    </tr>\n",
       "    <tr>\n",
       "      <th>5</th>\n",
       "      <td>C</td>\n",
       "      <td>8.0</td>\n",
       "    </tr>\n",
       "  </tbody>\n",
       "</table>\n",
       "</div>"
      ],
      "text/plain": [
       "  Label  Values\n",
       "0     A     1.0\n",
       "1     A     2.0\n",
       "3     C     5.0\n",
       "4     C     NaN\n",
       "5     C     8.0"
      ]
     },
     "execution_count": 41,
     "metadata": {},
     "output_type": "execute_result"
    }
   ],
   "source": [
    "# select groups with a mean of 2.0 or greater \n",
    "# 이건 너무 길어\n",
    "# grouped = df.groupby('Label')\n",
    "# group_mean = grouped.mean().mean()\n",
    "\n",
    "total_mean = df.groupby('Label').mean().mean()\n",
    "filt4 = lambda x: abs(x.Values.mean() - total_mean) > 2.0\n",
    "df.groupby('Label').filter(filt4)"
   ]
  }
 ],
 "metadata": {
  "kernelspec": {
   "display_name": "Python 3 (ipykernel)",
   "language": "python",
   "name": "python3"
  },
  "language_info": {
   "codemirror_mode": {
    "name": "ipython",
    "version": 3
   },
   "file_extension": ".py",
   "mimetype": "text/x-python",
   "name": "python",
   "nbconvert_exporter": "python",
   "pygments_lexer": "ipython3",
   "version": "3.8.5"
  },
  "latex_envs": {
   "LaTeX_envs_menu_present": true,
   "autoclose": true,
   "autocomplete": true,
   "bibliofile": "biblio.bib",
   "cite_by": "apalike",
   "current_citInitial": 1,
   "eqLabelWithNumbers": true,
   "eqNumInitial": 1,
   "hotkeys": {
    "equation": "Ctrl-E",
    "itemize": "Ctrl-I"
   },
   "labels_anchors": false,
   "latex_user_defs": false,
   "report_style_numbering": false,
   "user_envs_cfg": false
  },
  "toc": {
   "base_numbering": 1,
   "nav_menu": {},
   "number_sections": true,
   "sideBar": true,
   "skip_h1_title": false,
   "title_cell": "Table of Contents",
   "title_sidebar": "Contents",
   "toc_cell": true,
   "toc_position": {},
   "toc_section_display": true,
   "toc_window_display": true
  }
 },
 "nbformat": 4,
 "nbformat_minor": 1
}

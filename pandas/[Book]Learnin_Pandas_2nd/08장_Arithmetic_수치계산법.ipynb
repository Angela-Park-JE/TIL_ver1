{
 "cells": [
  {
   "cell_type": "markdown",
   "metadata": {
    "toc": true
   },
   "source": [
    "<h1>Table of Contents<span class=\"tocSkip\"></span></h1>\n",
    "<div class=\"toc\"><ul class=\"toc-item\"><li><span><a href=\"#Configuring-pandas\" data-toc-modified-id=\"Configuring-pandas-1\"><span class=\"toc-item-num\">1&nbsp;&nbsp;</span>Configuring pandas</a></span></li><li><span><a href=\"#수치-해석과-통계-기법\" data-toc-modified-id=\"수치-해석과-통계-기법-2\"><span class=\"toc-item-num\">2&nbsp;&nbsp;</span>수치 해석과 통계 기법</a></span><ul class=\"toc-item\"><li><span><a href=\"#수치-계산법\" data-toc-modified-id=\"수치-계산법-2.1\"><span class=\"toc-item-num\">2.1&nbsp;&nbsp;</span>수치 계산법</a></span></li><li><span><a href=\"#Performing-arithmetic-on-a-DataFrame-or-Series\" data-toc-modified-id=\"Performing-arithmetic-on-a-DataFrame-or-Series-2.2\"><span class=\"toc-item-num\">2.2&nbsp;&nbsp;</span>Performing arithmetic on a DataFrame or Series</a></span><ul class=\"toc-item\"><li><span><a href=\"#DataFrame에-직접-산술-연산:-전체에-적용\" data-toc-modified-id=\"DataFrame에-직접-산술-연산:-전체에-적용-2.2.1\"><span class=\"toc-item-num\">2.2.1&nbsp;&nbsp;</span><code>DataFrame</code>에 직접 산술 연산: 전체에 적용</a></span></li><li><span><a href=\"#DataFrame과-Series-연산:-Series의-인덱스를-DataFrame칼럼에-정렬,-모든-로우에-적용\" data-toc-modified-id=\"DataFrame과-Series-연산:-Series의-인덱스를-DataFrame칼럼에-정렬,-모든-로우에-적용-2.2.2\"><span class=\"toc-item-num\">2.2.2&nbsp;&nbsp;</span><code>DataFrame</code>과 <code>Series</code> 연산: <code>Series</code>의 인덱스를 <code>DataFrame</code>칼럼에 정렬, 모든 로우에 적용</a></span></li><li><span><a href=\"#Series의-인덱스와-DataFrame의-칼럼이-일치하지-않을-경우-:-NaN\" data-toc-modified-id=\"Series의-인덱스와-DataFrame의-칼럼이-일치하지-않을-경우-:-NaN-2.2.3\"><span class=\"toc-item-num\">2.2.3&nbsp;&nbsp;</span><code>Series</code>의 인덱스와 <code>DataFrame</code>의 칼럼이 일치하지 않을 경우 : <code>NaN</code></a></span></li><li><span><a href=\"#DataFrame간의-연산-:-칼럼과-인덱스-레이블-정렬-후-연산\" data-toc-modified-id=\"DataFrame간의-연산-:-칼럼과-인덱스-레이블-정렬-후-연산-2.2.4\"><span class=\"toc-item-num\">2.2.4&nbsp;&nbsp;</span><code>DataFrame</code>간의 연산 : 칼럼과 인덱스 레이블 정렬 후 연산</a></span></li><li><span><a href=\"#DataFrame.sub()\" data-toc-modified-id=\"DataFrame.sub()-2.2.5\"><span class=\"toc-item-num\">2.2.5&nbsp;&nbsp;</span><code>DataFrame</code>.sub()</a></span></li></ul></li></ul></li><li><span><a href=\"#Counts-of-values\" data-toc-modified-id=\"Counts-of-values-3\"><span class=\"toc-item-num\">3&nbsp;&nbsp;</span>Counts of values</a></span><ul class=\"toc-item\"><li><span><a href=\"#.count()\" data-toc-modified-id=\".count()-3.1\"><span class=\"toc-item-num\">3.1&nbsp;&nbsp;</span><code>.count()</code></a></span></li><li><span><a href=\"#.unique():-Unique-and-number-of-unique-values\" data-toc-modified-id=\".unique():-Unique-and-number-of-unique-values-3.2\"><span class=\"toc-item-num\">3.2&nbsp;&nbsp;</span><code>.unique()</code>: Unique and number of unique values</a></span><ul class=\"toc-item\"><li><span><a href=\"#.value_counts()-:-값-각각의-빈도-구하기\" data-toc-modified-id=\".value_counts()-:-값-각각의-빈도-구하기-3.2.1\"><span class=\"toc-item-num\">3.2.1&nbsp;&nbsp;</span><code>.value_counts()</code> : 값 각각의 빈도 구하기</a></span></li></ul></li></ul></li><li><span><a href=\"#Minimum-and-maximums\" data-toc-modified-id=\"Minimum-and-maximums-4\"><span class=\"toc-item-num\">4&nbsp;&nbsp;</span>Minimum and maximums</a></span><ul class=\"toc-item\"><li><span><a href=\"#.nsmallest(),-.nlargest()-:--Smallest-and-Largest-Values\" data-toc-modified-id=\".nsmallest(),-.nlargest()-:--Smallest-and-Largest-Values-4.1\"><span class=\"toc-item-num\">4.1&nbsp;&nbsp;</span><code>.nsmallest()</code>, <code>.nlargest()</code> :  Smallest and Largest Values</a></span></li></ul></li><li><span><a href=\"#.cumprod(),-.cumsum()-:-Accumulations\" data-toc-modified-id=\".cumprod(),-.cumsum()-:-Accumulations-5\"><span class=\"toc-item-num\">5&nbsp;&nbsp;</span><code>.cumprod()</code>, <code>.cumsum()</code> : Accumulations</a></span></li><li><span><a href=\"#Summary-descriptive-statistics\" data-toc-modified-id=\"Summary-descriptive-statistics-6\"><span class=\"toc-item-num\">6&nbsp;&nbsp;</span>Summary descriptive statistics</a></span></li></ul></div>"
   ]
  },
  {
   "cell_type": "markdown",
   "metadata": {},
   "source": [
    "# Configuring pandas\n",
    "데이터 예제는 s&p500데이터와 월별 주식 데이터도 임포트 한다. "
   ]
  },
  {
   "cell_type": "code",
   "execution_count": 1,
   "metadata": {},
   "outputs": [
    {
     "name": "stdout",
     "output_type": "stream",
     "text": [
      "1.4.1\n",
      "1.22.4\n",
      "3.8.5 (default, Sep  4 2020, 02:22:02) \n",
      "[Clang 10.0.0 ]\n"
     ]
    }
   ],
   "source": [
    "# import numpy and pandas\n",
    "import numpy as np\n",
    "import pandas as pd\n",
    "\n",
    "# used for dates\n",
    "import datetime\n",
    "from datetime import datetime, date\n",
    "\n",
    "# Set some pandas options controlling output format\n",
    "pd.set_option('display.notebook_repr_html', False)\n",
    "pd.set_option('display.max_columns', 8)\n",
    "pd.set_option('display.max_rows', 10)\n",
    "pd.set_option('display.width', 60)\n",
    "\n",
    "# bring in matplotlib for graphics\n",
    "import matplotlib.pyplot as plt\n",
    "%matplotlib inline\n",
    "\n",
    "# version check\n",
    "print(pd.__version__)\n",
    "print(np.__version__)\n",
    "import sys\n",
    "print(sys.version)\n",
    "\n",
    "# read in the data and print the first five rows\n",
    "# use the Symbol column as the index, and \n",
    "# only read in columns in positions 0, 2, 3, 7\n",
    "sp500 = pd.read_csv('/Users/Angela/Desktop/Personal/Learning-Pandas-Second-Edition-master/data/sp500.csv', \n",
    "                    index_col='Symbol', usecols=[0, 2, 3, 7])\n",
    "\n",
    "# one month of stock history data\n",
    "omh = pd.read_csv(\"/Users/Angela/Desktop/Personal/Learning-Pandas-Second-Edition-master/data/omh.csv\")"
   ]
  },
  {
   "cell_type": "markdown",
   "metadata": {},
   "source": [
    "# 수치 해석과 통계 기법\n",
    "pandas는데이터 모델링과 조작에 있어서도 매우 효과적이지만, 수치 해석과 통계 분석을 위한 다양하고 강력한 도구들도 제공한다. 그 도구들은 pandas의 데이터 구조와 밀접하게 연계됨으로써 모델링된 데이터의 복잡한 계산을 간단하게 만들어준다.  \n",
    "8장에서는 여러 객체에 걸친 산술 연산 등의 기본적인 수치 계산과, 최솟값이나 최댓값과 같은 특정 값을 찾는 방법을 알아본다. 그 다음엔 quantile(분위수), ranking(값 순위), 분산, 상관관계 등 다수의 pandas 통계 기능을 살펴본다.  \n",
    "마지막에서는 롤링 윈도우(rolling window)라는 pandas의 매우 강력한 기능을 확인할 것이다. 롤링 윈도우는 여러 데이터 서브셋에 걸친 평균을 계산하는 등 다양한 기법을 수행할 수 있는 수단을 제공한다. 이런 유형의 연산은 시간 변화에 따른 주식 데이터의 특성을 결정하는 작업과 다양한 분석에 있어서 필수적이다. 8장에서는 해당 개념 소개를 하고, 이후 더 자세히 보도록 할 것이당.\n",
    "\n",
    "- pandas 객체에 대한 산술 연산\n",
    "- 값의 개수 세기\n",
    "- 고윳값과 그 개수 판별\n",
    "- 최솟값과 최댓값 찾기\n",
    "- n개 최솟값과 n개 최댓값 찾기\n",
    "- 누적 값 계산\n",
    "- 약식 기술 통계 내용 가져옥\n",
    "- 중심 경향성 측정(평균, 중위수, 최빈수)\n",
    "- 분산, 표준 편차, 공분산, 상관관계 계산\n",
    "- 이산화와 분위수 계산\n",
    "- 각 표본의 변동률 계산\n",
    "- 롤링 윈도우 작업\n",
    "- 무작위 표집\n",
    "\n",
    "## 수치 계산법\n",
    "pandas는 데이터 산술 연산과 여러 수치적 특성을 계산할 수 있는 풍부한 함수를 제공한다. 이 절에서는 위의 순서중 누적 값 계산까지 수행한다.\n"
   ]
  },
  {
   "cell_type": "markdown",
   "metadata": {},
   "source": [
    "## Performing arithmetic on a DataFrame or Series\n",
    "---\n",
    "DataFrame과 Series의 산술 연산\n",
    "\n",
    "`DataFrame`과 `Seires`의 산술 연산에는 $+, -, /, *$ 와 같은 연산자를 사용한다.  \n",
    "이는 당연하게 보일 수 있지만, pandas는 방정식의 좌변 값과 우변 값을 정렬시키는 강력함을 추가했다. 따라서 인덱스가 산술 연산에 있어서 큰 역할을 하며, 그에 따른 결과에 대한 영향을 이해할 필요가 있다. \n",
    "\n",
    "pandas는 표준적인 산술 연산자뿐만 아니라, `.add()`, `.sub()`, `.mul()`, `.div()` 등과 같은 고성능, 유연함을 갖는 다양한 메서드를 제공한다.  \n",
    "스칼라 값의 산술 연산은 `DataFrame`의 어떤 요소에도 적용할 수 있다.  \n",
    "\n",
    "난수로 이루어진 `DataFrame`으로 시작해보자. "
   ]
  },
  {
   "cell_type": "code",
   "execution_count": 2,
   "metadata": {},
   "outputs": [
    {
     "data": {
      "text/plain": [
       "          A         B         C         D\n",
       "0  0.469112 -0.282863 -1.509059 -1.135632\n",
       "1  1.212112 -0.173215  0.119209 -1.044236\n",
       "2 -0.861849 -2.104569 -0.494929  1.071804\n",
       "3  0.721555 -0.706771 -1.039575  0.271860\n",
       "4 -0.424972  0.567020  0.276232 -1.087401"
      ]
     },
     "execution_count": 2,
     "metadata": {},
     "output_type": "execute_result"
    }
   ],
   "source": [
    "# set the seed to allow replicatable results\n",
    "np.random.seed(123456)\n",
    "# create the DataFrame\n",
    "df = pd.DataFrame(np.random.randn(5, 4), \n",
    "                  columns=['A', 'B', 'C', 'D'])\n",
    "df"
   ]
  },
  {
   "cell_type": "markdown",
   "metadata": {},
   "source": [
    "### `DataFrame`에 직접 산술 연산: 전체에 적용\n",
    "기본적으로, 어떤 산술 연산이라도 데이터 프레임의 모든 로우와 칼럼에 걸쳐 적용이 가능하다.  \n",
    "그리고 그 결과로 새 `DataFrame` 객체가 반환되는데, 다시 말해 원래의 데이터 프레임은 변경되지 않는다는 것이다. "
   ]
  },
  {
   "cell_type": "code",
   "execution_count": 3,
   "metadata": {},
   "outputs": [
    {
     "data": {
      "text/plain": [
       "          A         B         C         D\n",
       "0  0.938225 -0.565727 -3.018117 -2.271265\n",
       "1  2.424224 -0.346429  0.238417 -2.088472\n",
       "2 -1.723698 -4.209138 -0.989859  2.143608\n",
       "3  1.443110 -1.413542 -2.079150  0.543720\n",
       "4 -0.849945  1.134041  0.552464 -2.174801"
      ]
     },
     "execution_count": 3,
     "metadata": {},
     "output_type": "execute_result"
    }
   ],
   "source": [
    "# multiply everything by 2\n",
    "df * 2"
   ]
  },
  {
   "cell_type": "markdown",
   "metadata": {},
   "source": [
    "### `DataFrame`과 `Series` 연산: `Series`의 인덱스를 `DataFrame`칼럼에 정렬, 모든 로우에 적용\n",
    "\n",
    "`DataFrame`와 `Series` 사이의 산술 연산에 있어서 pandas는 `Series`의 인덱스를 `DataFrame` 칼럼에 정렬시키며, 이를 **로우 우선 브로드캐스팅(row-wise broadcasting)**이라고 한다. 직관에 어긋나 보일 순 있지만, 이는 각 칼럼의 서로 다른 값을 로우 단위에 적용할 수 있는 매우 강력한 방법이다.  \n",
    "\n",
    "데이터프레임 - 첫 번째 로우(`Series`)를 수행하면 각 로우에 모두 연산이 적용됨을 볼 수 있다. "
   ]
  },
  {
   "cell_type": "code",
   "execution_count": 4,
   "metadata": {},
   "outputs": [
    {
     "data": {
      "text/plain": [
       "          A         B         C         D\n",
       "0  0.000000  0.000000  0.000000  0.000000\n",
       "1  0.743000  0.109649  1.628267  0.091396\n",
       "2 -1.330961 -1.821706  1.014129  2.207436\n",
       "3  0.252443 -0.423908  0.469484  1.407492\n",
       "4 -0.894085  0.849884  1.785291  0.048232"
      ]
     },
     "execution_count": 4,
     "metadata": {},
     "output_type": "execute_result"
    }
   ],
   "source": [
    "# get first row \n",
    "s = df.iloc[0] \n",
    "# subtract first row from every row of the DataFrame\n",
    "diff = df - s \n",
    "diff"
   ]
  },
  {
   "cell_type": "markdown",
   "metadata": {},
   "source": [
    "반대로 `Series`로 부터 `DataFrame`을 뺴는 일도 가능하다. 결과는 데이터 프레임 형태로 나온다. "
   ]
  },
  {
   "cell_type": "code",
   "execution_count": 5,
   "metadata": {},
   "outputs": [
    {
     "data": {
      "text/plain": [
       "          A         B         C         D\n",
       "0  0.000000  0.000000  0.000000  0.000000\n",
       "1 -0.743000 -0.109649 -1.628267 -0.091396\n",
       "2  1.330961  1.821706 -1.014129 -2.207436\n",
       "3 -0.252443  0.423908 -0.469484 -1.407492\n",
       "4  0.894085 -0.849884 -1.785291 -0.048232"
      ]
     },
     "execution_count": 5,
     "metadata": {},
     "output_type": "execute_result"
    }
   ],
   "source": [
    "# subtract DataFrame from Series\n",
    "diff2 = s - df\n",
    "diff2"
   ]
  },
  {
   "cell_type": "markdown",
   "metadata": {},
   "source": [
    "### `Series`의 인덱스와 `DataFrame`의 칼럼이 일치하지 않을 경우 : `NaN`\n",
    "산술 연산은 `Series`의 인덱스 레이블과 `DataFrame`의 칼럼 인덱스를 모두 정렬해 결합(union)한 결과를 반환한다.  \n",
    "결과 칼럼이 `Series`나 `DataFrame`객체에 없는 경우에 그 값은 `NaN`으로 채워진다.  \n",
    "\n",
    "다음은 `DataFrame`의 서브셋 칼럼과 신규 칼럼으로 만든 `Series`의 예다.  \n",
    "B, C는 연산이 되었지만 A, D는 s에 없기 때문에 결측값을, E는 df에 없기 때문에 결측값을 반환했다. "
   ]
  },
  {
   "cell_type": "code",
   "execution_count": 6,
   "metadata": {},
   "outputs": [
    {
     "data": {
      "text/plain": [
       "    A         B         C   D   E\n",
       "0 NaN -0.565727 -3.018117 NaN NaN\n",
       "1 NaN -0.456078 -1.389850 NaN NaN\n",
       "2 NaN -2.387433 -2.003988 NaN NaN\n",
       "3 NaN -0.989634 -2.548633 NaN NaN\n",
       "4 NaN  0.284157 -1.232826 NaN NaN"
      ]
     },
     "execution_count": 6,
     "metadata": {},
     "output_type": "execute_result"
    }
   ],
   "source": [
    "# first row's B, C\n",
    "s2 = s[1:3]\n",
    "# add E\n",
    "s2['E'] = 0\n",
    "# see how alignment is applied in math\n",
    "df + s2"
   ]
  },
  {
   "cell_type": "code",
   "execution_count": 7,
   "metadata": {},
   "outputs": [
    {
     "data": {
      "text/plain": [
       "B   -0.282863\n",
       "C   -1.509059\n",
       "E    0.000000\n",
       "Name: 0, dtype: float64"
      ]
     },
     "execution_count": 7,
     "metadata": {},
     "output_type": "execute_result"
    }
   ],
   "source": [
    "s2"
   ]
  },
  {
   "cell_type": "markdown",
   "metadata": {},
   "source": [
    "### `DataFrame`간의 연산 : 칼럼과 인덱스 레이블 정렬 후 연산\n",
    "두 `DataFrame`객체끼리의 산술 연산에서는 **칼럼과 인덱스 레이블에 대한 정렬이 수행된다.**  \n",
    "\n",
    "다음은 df의 일부분을 추출해 전체 `DataFrame`에서 빼는 과정이다.  \n",
    "정렬되어 각 위치에 있는 값은 마이너스 연산이 잘 이루어 져서 0이지만, 나머지는 알 수 없는 값으로 `NaN`이 할당된 것을 볼 수 있다. "
   ]
  },
  {
   "cell_type": "code",
   "execution_count": 8,
   "metadata": {},
   "outputs": [
    {
     "data": {
      "text/plain": [
       "          B         C\n",
       "1 -0.173215  0.119209\n",
       "2 -2.104569 -0.494929\n",
       "3 -0.706771 -1.039575"
      ]
     },
     "execution_count": 8,
     "metadata": {},
     "output_type": "execute_result"
    }
   ],
   "source": [
    "# get rows 1 through three, and only B, C columns\n",
    "subframe = df[1:4][['B', 'C']]\n",
    "# we have extracted a little square in the middle of df\n",
    "subframe"
   ]
  },
  {
   "cell_type": "code",
   "execution_count": 9,
   "metadata": {},
   "outputs": [
    {
     "data": {
      "text/plain": [
       "    A    B    C   D\n",
       "0 NaN  NaN  NaN NaN\n",
       "1 NaN  0.0  0.0 NaN\n",
       "2 NaN  0.0  0.0 NaN\n",
       "3 NaN  0.0  0.0 NaN\n",
       "4 NaN  NaN  NaN NaN"
      ]
     },
     "execution_count": 9,
     "metadata": {},
     "output_type": "execute_result"
    }
   ],
   "source": [
    "# demonstrate the alignment of the subtraction\n",
    "df - subframe"
   ]
  },
  {
   "cell_type": "markdown",
   "metadata": {},
   "source": [
    "### `DataFrame`.sub()\n",
    "`DataFrame` 객체가 제공하는 메서드를 사용해 특정 축을 기준으로 산술 연산을 수행할 수도 있다.  \n",
    "연산 메서드는 어느 방향으로 할 것인지 `axis = `옵션이 있다. 1일 경우 열(가로) 방향으로, 0일 경우 행(세로) 방향으로 적용된다. \n",
    "\n",
    "다음은 모든 칼럼 값에서 A 칼럼을 빼는 예시이다. "
   ]
  },
  {
   "cell_type": "code",
   "execution_count": 10,
   "metadata": {},
   "outputs": [
    {
     "data": {
      "text/plain": [
       "     A         B         C         D\n",
       "0  0.0 -0.751976 -1.978171 -1.604745\n",
       "1  0.0 -1.385327 -1.092903 -2.256348\n",
       "2  0.0 -1.242720  0.366920  1.933653\n",
       "3  0.0 -1.428326 -1.761130 -0.449695\n",
       "4  0.0  0.991993  0.701204 -0.662428"
      ]
     },
     "execution_count": 10,
     "metadata": {},
     "output_type": "execute_result"
    }
   ],
   "source": [
    "# get the A column\n",
    "a_col = df['A']\n",
    "df.sub(a_col, axis = 0)"
   ]
  },
  {
   "cell_type": "code",
   "execution_count": 11,
   "metadata": {},
   "outputs": [
    {
     "data": {
      "text/plain": [
       "          A         B         C         D\n",
       "0  0.000000  0.000000  0.000000  0.000000\n",
       "1  0.743000  0.109649  1.628267  0.091396\n",
       "2 -1.330961 -1.821706  1.014129  2.207436\n",
       "3  0.252443 -0.423908  0.469484  1.407492\n",
       "4 -0.894085  0.849884  1.785291  0.048232"
      ]
     },
     "execution_count": 11,
     "metadata": {},
     "output_type": "execute_result"
    }
   ],
   "source": [
    "# 만약 행 방향으로 한다면?\n",
    "row0 = df.iloc[0]\n",
    "df.sub(row0, axis = 1)"
   ]
  },
  {
   "cell_type": "code",
   "execution_count": 12,
   "metadata": {},
   "outputs": [
    {
     "data": {
      "text/plain": [
       "A    0.469112\n",
       "B   -0.282863\n",
       "C   -1.509059\n",
       "D   -1.135632\n",
       "Name: 0, dtype: float64"
      ]
     },
     "execution_count": 12,
     "metadata": {},
     "output_type": "execute_result"
    }
   ],
   "source": [
    "row0"
   ]
  },
  {
   "cell_type": "markdown",
   "metadata": {},
   "source": [
    "`a_col` 은 인덱스가 정수 인덱스로 되어있는 A열 전체이기 때문에 각 열에 연산이 수행되었다.  \n",
    "`row0` 은 인덱스가 A, B, C, D로 되어있는 0행 전체이기 때문에 각 행에 연산이 수행되었다. \n",
    "\n",
    "그러나 만약 인덱스가 A, B, C, D로 되어있는 `row0`을 각 열에 연산을 수행하도록 했을 경우, 인덱스가 A, B, C, D, 인 데이터프레임이 아니므로 자동적으로 정렬하여 맞추는데 실패하고만다... 그래서 인덱스에 정수 인덱스와 알파벳 인덱스가 모두 포함되어, 알 수 없음을 뜻하는 `NaN`으로 이루어지는 데이터프레임이 반환되고 만다. \n"
   ]
  },
  {
   "cell_type": "code",
   "execution_count": 13,
   "metadata": {},
   "outputs": [
    {
     "data": {
      "text/plain": [
       "    A   B   C   D\n",
       "0 NaN NaN NaN NaN\n",
       "1 NaN NaN NaN NaN\n",
       "2 NaN NaN NaN NaN\n",
       "3 NaN NaN NaN NaN\n",
       "4 NaN NaN NaN NaN\n",
       "A NaN NaN NaN NaN\n",
       "B NaN NaN NaN NaN\n",
       "C NaN NaN NaN NaN\n",
       "D NaN NaN NaN NaN"
      ]
     },
     "execution_count": 13,
     "metadata": {},
     "output_type": "execute_result"
    }
   ],
   "source": [
    "# 만약 행 방향을 열방향 옵션으로 계산할 수 있을까?\n",
    "row0 = df.iloc[0]\n",
    "df.sub(row0, axis = 0)"
   ]
  },
  {
   "cell_type": "markdown",
   "metadata": {},
   "source": [
    "# Counts of values\n",
    "---\n",
    "값의 개수 세기\n",
    "\n",
    "## `.count()` \n",
    "`.count()`메서드를 사용하면 `Series`에서 `NaN`이 아닌 아이템의 개수를 얻을 수 있다. "
   ]
  },
  {
   "cell_type": "code",
   "execution_count": 14,
   "metadata": {},
   "outputs": [
    {
     "data": {
      "text/plain": [
       "4"
      ]
     },
     "execution_count": 14,
     "metadata": {},
     "output_type": "execute_result"
    }
   ],
   "source": [
    "s = pd.Series(['a', 'a', 'b', 'c', np.NaN])\n",
    "# number of occurrences of each unique value\n",
    "s.count()"
   ]
  },
  {
   "cell_type": "markdown",
   "metadata": {},
   "source": [
    "## `.unique()`: Unique and number of unique values\n",
    "`Series`안의 고유한 값의 목록은 `.unique()`을 사용해 얻을 수 있다.  \n",
    "`.nunique()`의 경우 `NaN`을 제외한 고유 값 개수를 얻을 수 있는데, `dropna=False` 옵션을 주면 `NaN`을 포함하여 세도록 된다."
   ]
  },
  {
   "cell_type": "code",
   "execution_count": 15,
   "metadata": {},
   "outputs": [
    {
     "data": {
      "text/plain": [
       "array(['a', 'b', 'c', nan], dtype=object)"
      ]
     },
     "execution_count": 15,
     "metadata": {},
     "output_type": "execute_result"
    }
   ],
   "source": [
    "# return a list of unique items\n",
    "s.unique()"
   ]
  },
  {
   "cell_type": "code",
   "execution_count": 16,
   "metadata": {},
   "outputs": [
    {
     "data": {
      "text/plain": [
       "3"
      ]
     },
     "execution_count": 16,
     "metadata": {},
     "output_type": "execute_result"
    }
   ],
   "source": [
    "s.nunique()"
   ]
  },
  {
   "cell_type": "code",
   "execution_count": 17,
   "metadata": {},
   "outputs": [
    {
     "data": {
      "text/plain": [
       "4"
      ]
     },
     "execution_count": 17,
     "metadata": {},
     "output_type": "execute_result"
    }
   ],
   "source": [
    "s.nunique(dropna = False)"
   ]
  },
  {
   "cell_type": "markdown",
   "metadata": {},
   "source": [
    "###  `.value_counts()` : 값 각각의 빈도 구하기\n",
    "고유한 값 각각의 개수를 알고 싶다면 `.value_counts()`를 사용할 수 있으며, 이와 같은 과정을 히스토그래밍(histogramming)이라고 한다. "
   ]
  },
  {
   "cell_type": "code",
   "execution_count": 18,
   "metadata": {},
   "outputs": [
    {
     "data": {
      "text/plain": [
       "a      2\n",
       "b      1\n",
       "c      1\n",
       "NaN    1\n",
       "dtype: int64"
      ]
     },
     "execution_count": 18,
     "metadata": {},
     "output_type": "execute_result"
    }
   ],
   "source": [
    "# get summary stats on non-numeric data\n",
    "s.value_counts(dropna = False)"
   ]
  },
  {
   "cell_type": "markdown",
   "metadata": {},
   "source": [
    "# Minimum and maximums\n",
    "---\n",
    "최솟값과 최댓값\n",
    "\n",
    "각각은 `.min()`, `.max()`로 찾을 수 있다.  \n",
    "\n",
    "일부 pandas 통계 메소드는 실제 값이 아닌 간접적으로 관련된 값을 반환한다는 의미에서 간접 통계(indirect statistics)라고 한다.  \n",
    "예를 들어, `.idxmin()`과 `.idxmax()`는 각각 최솟값과 최댓값이 위치하는 인덱스 포지션을 반환한다.  "
   ]
  },
  {
   "cell_type": "code",
   "execution_count": 19,
   "metadata": {},
   "outputs": [
    {
     "data": {
      "text/plain": [
       "          Date   MSFT    AAPL\n",
       "0   2014-12-01  48.62  115.07\n",
       "1   2014-12-02  48.46  114.63\n",
       "2   2014-12-03  48.08  115.93\n",
       "3   2014-12-04  48.84  115.49\n",
       "4   2014-12-05  48.42  115.00\n",
       "..         ...    ...     ...\n",
       "17  2014-12-24  48.14  112.01\n",
       "18  2014-12-26  47.88  113.99\n",
       "19  2014-12-29  47.45  113.91\n",
       "20  2014-12-30  47.02  112.52\n",
       "21  2014-12-31  46.45  110.38\n",
       "\n",
       "[22 rows x 3 columns]"
      ]
     },
     "execution_count": 19,
     "metadata": {},
     "output_type": "execute_result"
    }
   ],
   "source": [
    "# 마이크로소프트사와 애플의 2014-12-01 한달의 주가를 담은 데이터이다. \n",
    "# 컬럼이 Date, MSFT, AAPL 로 이루어져있음을 주의하자. \n",
    "omh"
   ]
  },
  {
   "cell_type": "code",
   "execution_count": 20,
   "metadata": {},
   "outputs": [
    {
     "data": {
      "text/plain": [
       "MSFT     45.16\n",
       "AAPL    106.75\n",
       "dtype: float64"
      ]
     },
     "execution_count": 20,
     "metadata": {},
     "output_type": "execute_result"
    }
   ],
   "source": [
    "# the min price for both stocks : 각 회사(칼럼)에서의 최솟값\n",
    "omh[['MSFT', 'AAPL']].min()"
   ]
  },
  {
   "cell_type": "code",
   "execution_count": 21,
   "metadata": {},
   "outputs": [
    {
     "data": {
      "text/plain": [
       "MSFT     48.84\n",
       "AAPL    115.93\n",
       "dtype: float64"
      ]
     },
     "execution_count": 21,
     "metadata": {},
     "output_type": "execute_result"
    }
   ],
   "source": [
    "# the max price for them : 각 회사(칼럼)에서의 최댓값\n",
    "omh[['MSFT', 'AAPL']].max()"
   ]
  },
  {
   "cell_type": "code",
   "execution_count": 22,
   "metadata": {},
   "outputs": [
    {
     "data": {
      "text/plain": [
       "MSFT    11\n",
       "AAPL    11\n",
       "dtype: int64"
      ]
     },
     "execution_count": 22,
     "metadata": {},
     "output_type": "execute_result"
    }
   ],
   "source": [
    "# location of min price for both stocks\n",
    "omh[['MSFT', 'AAPL']].idxmin()"
   ]
  },
  {
   "cell_type": "code",
   "execution_count": 23,
   "metadata": {},
   "outputs": [
    {
     "data": {
      "text/plain": [
       "MSFT    3\n",
       "AAPL    2\n",
       "dtype: int64"
      ]
     },
     "execution_count": 23,
     "metadata": {},
     "output_type": "execute_result"
    }
   ],
   "source": [
    "# and location of the max\n",
    "omh[['MSFT', 'AAPL']].idxmax()"
   ]
  },
  {
   "cell_type": "code",
   "execution_count": 24,
   "metadata": {},
   "outputs": [
    {
     "data": {
      "text/plain": [
       "          Date   MSFT    AAPL\n",
       "11  2014-12-16  45.16  106.75\n",
       "11  2014-12-16  45.16  106.75"
      ]
     },
     "execution_count": 24,
     "metadata": {},
     "output_type": "execute_result"
    }
   ],
   "source": [
    "# 그렇다면 그 인덱스로 해당 로우를 전부 가져올 수도 있다. \n",
    "omh.loc[omh[['MSFT', 'AAPL']].idxmin()]"
   ]
  },
  {
   "cell_type": "code",
   "execution_count": 25,
   "metadata": {},
   "outputs": [
    {
     "data": {
      "text/plain": [
       "         Date   MSFT    AAPL\n",
       "3  2014-12-04  48.84  115.49\n",
       "2  2014-12-03  48.08  115.93"
      ]
     },
     "execution_count": 25,
     "metadata": {},
     "output_type": "execute_result"
    }
   ],
   "source": [
    "omh.loc[omh[['MSFT', 'AAPL']].idxmax()]"
   ]
  },
  {
   "cell_type": "markdown",
   "metadata": {},
   "source": [
    "## `.nsmallest()`, `.nlargest()` :  Smallest and Largest Values\n",
    "n개 최솟값과 n개 최댓값 찾기\n",
    "\n",
    "때로는 데이터셋에서 n개의 최솟값(가장 작은 값)이나 n개의 최댓값(가장 큰 값)을 알아야 할 경우가 있다.  \n",
    "그런 경우 `.nsmallest()`, `.nlargest()`를 사용한다.  \n",
    "\n",
    "MSFT 에서 가장 작은 값 4개를 조회해본다."
   ]
  },
  {
   "cell_type": "code",
   "execution_count": 26,
   "metadata": {},
   "outputs": [
    {
     "data": {
      "text/plain": [
       "11    45.16\n",
       "12    45.74\n",
       "21    46.45\n",
       "10    46.67\n",
       "Name: MSFT, dtype: float64"
      ]
     },
     "execution_count": 26,
     "metadata": {},
     "output_type": "execute_result"
    }
   ],
   "source": [
    "# get the 4 smallest values : MSFT의 가장 작은 값을 찾아 MSFT칼럼을 표시.\n",
    "# 만약 뒤에 'MSFT' 컬럼을 따로 지정하지 않으면 데이터 프레임 형태로 반환한다. \n",
    "omh.nsmallest(4, ['MSFT'])['MSFT']"
   ]
  },
  {
   "cell_type": "code",
   "execution_count": 27,
   "metadata": {},
   "outputs": [
    {
     "data": {
      "text/plain": [
       "          Date   MSFT    AAPL\n",
       "3   2014-12-04  48.84  115.49\n",
       "0   2014-12-01  48.62  115.07\n",
       "1   2014-12-02  48.46  114.63\n",
       "16  2014-12-23  48.45  112.54"
      ]
     },
     "execution_count": 27,
     "metadata": {},
     "output_type": "execute_result"
    }
   ],
   "source": [
    "# get the 4 largest values\n",
    "omh.nlargest(4, ['MSFT'])"
   ]
  },
  {
   "cell_type": "markdown",
   "metadata": {},
   "source": [
    "만약 시리즈에서 찾을 경우, 지정할 칼럼이 없기 때문에 형태가 약간 다르게 나올 수 있다."
   ]
  },
  {
   "cell_type": "code",
   "execution_count": 28,
   "metadata": {},
   "outputs": [
    {
     "data": {
      "text/plain": [
       "11    45.16\n",
       "12    45.74\n",
       "21    46.45\n",
       "10    46.67\n",
       "Name: MSFT, dtype: float64"
      ]
     },
     "execution_count": 28,
     "metadata": {},
     "output_type": "execute_result"
    }
   ],
   "source": [
    "# nsmallest on a Series\n",
    "omh.MSFT.nsmallest(4)"
   ]
  },
  {
   "cell_type": "markdown",
   "metadata": {},
   "source": [
    "# `.cumprod()`, `.cumsum()` : Accumulations\n",
    "누적 값 계산\n",
    "\n",
    "누적(accumulation)은 `Sereis`의 어떤 값을 그다음 값에 연속으로 적용하는 통계 방식이며, 누적 곱과 누적 합이 대표적인 예시이다.  \n",
    "각 포지션에 누적된 값을 보여주는 `Sereis`가 반환되었다. "
   ]
  },
  {
   "cell_type": "code",
   "execution_count": 29,
   "metadata": {},
   "outputs": [
    {
     "data": {
      "text/plain": [
       "0     1\n",
       "1     2\n",
       "2     6\n",
       "3    24\n",
       "dtype: int64"
      ]
     },
     "execution_count": 29,
     "metadata": {},
     "output_type": "execute_result"
    }
   ],
   "source": [
    "# calculate a cumulative product\n",
    "pd.Series([1, 2, 3, 4]).cumprod()"
   ]
  },
  {
   "cell_type": "code",
   "execution_count": 30,
   "metadata": {},
   "outputs": [
    {
     "data": {
      "text/plain": [
       "0     1\n",
       "1     3\n",
       "2     6\n",
       "3    10\n",
       "dtype: int64"
      ]
     },
     "execution_count": 30,
     "metadata": {},
     "output_type": "execute_result"
    }
   ],
   "source": [
    "# calculate a cumulative sum\n",
    "pd.Series([1, 2, 3, 4]).cumsum()"
   ]
  },
  {
   "cell_type": "markdown",
   "metadata": {},
   "source": [
    "`DataFrame`에서도 가능하다. 한 칼럼만 시리즈로 데려와서 계산할 수도 있고, 연산할 칼럼을 2차원 배열로 가져올 수도 있다.  \n",
    "만약 숫자 칼럼이 아닌 경우, +는 이어 붙이는 것을 의미하기 때문에 괴랄한 결과를 내놓게 될 수도 있다...  \n",
    "\n",
    "당연한 이야기이지만, 숫자 데이터가 아닌 경우 곱은 수행할 수 없기 때문에 오류를 반환한다. "
   ]
  },
  {
   "cell_type": "code",
   "execution_count": 31,
   "metadata": {},
   "outputs": [
    {
     "data": {
      "text/plain": [
       "0     1.150700e+02\n",
       "1     1.319047e+04\n",
       "2     1.529172e+06\n",
       "3     1.766040e+08\n",
       "4     2.030946e+10\n",
       "          ...     \n",
       "17    8.094637e+36\n",
       "18    9.227077e+38\n",
       "19    1.051056e+41\n",
       "20    1.182649e+43\n",
       "21    1.305408e+45\n",
       "Name: AAPL, Length: 22, dtype: float64"
      ]
     },
     "execution_count": 31,
     "metadata": {},
     "output_type": "execute_result"
    }
   ],
   "source": [
    "omh['AAPL'].cumprod()"
   ]
  },
  {
   "cell_type": "code",
   "execution_count": 32,
   "metadata": {},
   "outputs": [
    {
     "data": {
      "text/plain": [
       "       MSFT     AAPL\n",
       "0     48.62   115.07\n",
       "1     97.08   229.70\n",
       "2    145.16   345.63\n",
       "3    194.00   461.12\n",
       "4    242.42   576.12\n",
       "..      ...      ...\n",
       "17   856.05  2022.25\n",
       "18   903.93  2136.24\n",
       "19   951.38  2250.15\n",
       "20   998.40  2362.67\n",
       "21  1044.85  2473.05\n",
       "\n",
       "[22 rows x 2 columns]"
      ]
     },
     "execution_count": 32,
     "metadata": {},
     "output_type": "execute_result"
    }
   ],
   "source": [
    "omh[['MSFT', 'AAPL']].cumsum()"
   ]
  },
  {
   "cell_type": "code",
   "execution_count": 33,
   "metadata": {},
   "outputs": [
    {
     "data": {
      "text/plain": [
       "                                                 Date  \\\n",
       "0                                          2014-12-01   \n",
       "1                                2014-12-012014-12-02   \n",
       "2                      2014-12-012014-12-022014-12-03   \n",
       "3            2014-12-012014-12-022014-12-032014-12-04   \n",
       "4   2014-12-012014-12-022014-12-032014-12-042014-1...   \n",
       "..                                                ...   \n",
       "17  2014-12-012014-12-022014-12-032014-12-042014-1...   \n",
       "18  2014-12-012014-12-022014-12-032014-12-042014-1...   \n",
       "19  2014-12-012014-12-022014-12-032014-12-042014-1...   \n",
       "20  2014-12-012014-12-022014-12-032014-12-042014-1...   \n",
       "21  2014-12-012014-12-022014-12-032014-12-042014-1...   \n",
       "\n",
       "       MSFT     AAPL  \n",
       "0     48.62   115.07  \n",
       "1     97.08   229.70  \n",
       "2    145.16   345.63  \n",
       "3    194.00   461.12  \n",
       "4    242.42   576.12  \n",
       "..      ...      ...  \n",
       "17   856.05  2022.25  \n",
       "18   903.93  2136.24  \n",
       "19   951.38  2250.15  \n",
       "20   998.40  2362.67  \n",
       "21  1044.85  2473.05  \n",
       "\n",
       "[22 rows x 3 columns]"
      ]
     },
     "execution_count": 33,
     "metadata": {},
     "output_type": "execute_result"
    }
   ],
   "source": [
    "omh.cumsum()"
   ]
  },
  {
   "cell_type": "markdown",
   "metadata": {},
   "source": [
    "# Summary descriptive statistics\n",
    "---\n",
    "pandas 객체의 통계 처리는 장을 나누어 진행할 예정이다. \n",
    "\n"
   ]
  }
 ],
 "metadata": {
  "anaconda-cloud": {},
  "kernelspec": {
   "display_name": "Python 3 (ipykernel)",
   "language": "python",
   "name": "python3"
  },
  "language_info": {
   "codemirror_mode": {
    "name": "ipython",
    "version": 3
   },
   "file_extension": ".py",
   "mimetype": "text/x-python",
   "name": "python",
   "nbconvert_exporter": "python",
   "pygments_lexer": "ipython3",
   "version": "3.8.5"
  },
  "latex_envs": {
   "LaTeX_envs_menu_present": true,
   "autoclose": true,
   "autocomplete": true,
   "bibliofile": "biblio.bib",
   "cite_by": "apalike",
   "current_citInitial": 1,
   "eqLabelWithNumbers": true,
   "eqNumInitial": 1,
   "hotkeys": {
    "equation": "Ctrl-E",
    "itemize": "Ctrl-I"
   },
   "labels_anchors": false,
   "latex_user_defs": false,
   "report_style_numbering": false,
   "user_envs_cfg": false
  },
  "toc": {
   "base_numbering": 1,
   "nav_menu": {},
   "number_sections": true,
   "sideBar": true,
   "skip_h1_title": false,
   "title_cell": "Table of Contents",
   "title_sidebar": "Contents",
   "toc_cell": true,
   "toc_position": {},
   "toc_section_display": true,
   "toc_window_display": true
  }
 },
 "nbformat": 4,
 "nbformat_minor": 1
}

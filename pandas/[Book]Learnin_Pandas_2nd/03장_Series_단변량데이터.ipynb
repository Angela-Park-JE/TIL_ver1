{
 "cells": [
  {
   "cell_type": "markdown",
   "metadata": {
    "toc": true
   },
   "source": [
    "<h1>Table of Contents<span class=\"tocSkip\"></span></h1>\n",
    "<div class=\"toc\"><ul class=\"toc-item\"><li><span><a href=\"#3장-Series로-단변량-데이터-표현\" data-toc-modified-id=\"3장-Series로-단변량-데이터-표현-1\"><span class=\"toc-item-num\">1&nbsp;&nbsp;</span>3장 Series로 단변량 데이터 표현</a></span></li><li><span><a href=\"#Configuring-pandas\" data-toc-modified-id=\"Configuring-pandas-2\"><span class=\"toc-item-num\">2&nbsp;&nbsp;</span>Configuring pandas</a></span></li><li><span><a href=\"#Creating-a-Series-using-Python-lists-and-dictionaries\" data-toc-modified-id=\"Creating-a-Series-using-Python-lists-and-dictionaries-3\"><span class=\"toc-item-num\">3&nbsp;&nbsp;</span>Creating a Series using Python lists and dictionaries</a></span><ul class=\"toc-item\"><li><ul class=\"toc-item\"><li><span><a href=\"#데이터-리스트-입력\" data-toc-modified-id=\"데이터-리스트-입력-3.0.1\"><span class=\"toc-item-num\">3.0.1&nbsp;&nbsp;</span>데이터 리스트 입력</a></span></li><li><span><a href=\"#동일한-값을-갖는-연속적인-row생성\" data-toc-modified-id=\"동일한-값을-갖는-연속적인-row생성-3.0.2\"><span class=\"toc-item-num\">3.0.2&nbsp;&nbsp;</span>동일한 값을 갖는 연속적인 row생성</a></span></li><li><span><a href=\"#딕셔너리로-Series를-직접-초기화-하는-방법\" data-toc-modified-id=\"딕셔너리로-Series를-직접-초기화-하는-방법-3.0.3\"><span class=\"toc-item-num\">3.0.3&nbsp;&nbsp;</span>딕셔너리로 Series를 직접 초기화 하는 방법</a></span></li></ul></li></ul></li><li><span><a href=\"#Creation-using-NumPy-functions\" data-toc-modified-id=\"Creation-using-NumPy-functions-4\"><span class=\"toc-item-num\">4&nbsp;&nbsp;</span>Creation using NumPy functions</a></span><ul class=\"toc-item\"><li><ul class=\"toc-item\"><li><span><a href=\"#np.arange()\" data-toc-modified-id=\"np.arange()-4.0.1\"><span class=\"toc-item-num\">4.0.1&nbsp;&nbsp;</span>np.arange()</a></span></li><li><span><a href=\"#np.linspace()\" data-toc-modified-id=\"np.linspace()-4.0.2\"><span class=\"toc-item-num\">4.0.2&nbsp;&nbsp;</span>np.linspace()</a></span></li><li><span><a href=\"#np.random.normal()\" data-toc-modified-id=\"np.random.normal()-4.0.3\"><span class=\"toc-item-num\">4.0.3&nbsp;&nbsp;</span>np.random.normal()</a></span></li></ul></li></ul></li><li><span><a href=\"#Creation-using-a-scalar-value\" data-toc-modified-id=\"Creation-using-a-scalar-value-5\"><span class=\"toc-item-num\">5&nbsp;&nbsp;</span>Creation using a scalar value</a></span></li><li><span><a href=\"#The-.index-and-.values-properties\" data-toc-modified-id=\"The-.index-and-.values-properties-6\"><span class=\"toc-item-num\">6&nbsp;&nbsp;</span>The <code>.index</code> and <code>.values</code> properties</a></span></li><li><span><a href=\"#The-size-and-shape-of-a-Series\" data-toc-modified-id=\"The-size-and-shape-of-a-Series-7\"><span class=\"toc-item-num\">7&nbsp;&nbsp;</span>The size and shape of a Series</a></span><ul class=\"toc-item\"><li><ul class=\"toc-item\"><li><span><a href=\"#파이썬의-len()\" data-toc-modified-id=\"파이썬의-len()-7.0.1\"><span class=\"toc-item-num\">7.0.1&nbsp;&nbsp;</span>파이썬의 <code>len()</code></a></span></li><li><span><a href=\"#.size-method\" data-toc-modified-id=\".size-method-7.0.2\"><span class=\"toc-item-num\">7.0.2&nbsp;&nbsp;</span><code>.size</code> method</a></span></li><li><span><a href=\"#.shape-method\" data-toc-modified-id=\".shape-method-7.0.3\"><span class=\"toc-item-num\">7.0.3&nbsp;&nbsp;</span><code>.shape</code> method</a></span></li></ul></li></ul></li><li><span><a href=\"#Specifying-an-index-at-creation\" data-toc-modified-id=\"Specifying-an-index-at-creation-8\"><span class=\"toc-item-num\">8&nbsp;&nbsp;</span>Specifying an index at creation</a></span></li><li><span><a href=\"#Heads,-tails-and-takes\" data-toc-modified-id=\"Heads,-tails-and-takes-9\"><span class=\"toc-item-num\">9&nbsp;&nbsp;</span>Heads, tails and takes</a></span><ul class=\"toc-item\"><li><ul class=\"toc-item\"><li><span><a href=\"#.head(n=)\" data-toc-modified-id=\".head(n=)-9.0.1\"><span class=\"toc-item-num\">9.0.1&nbsp;&nbsp;</span><code>.head(n=)</code></a></span></li><li><span><a href=\"#.tail()\" data-toc-modified-id=\".tail()-9.0.2\"><span class=\"toc-item-num\">9.0.2&nbsp;&nbsp;</span><code>.tail()</code></a></span></li><li><span><a href=\"#.take()\" data-toc-modified-id=\".take()-9.0.3\"><span class=\"toc-item-num\">9.0.3&nbsp;&nbsp;</span><code>.take()</code></a></span></li></ul></li></ul></li><li><span><a href=\"#Lookup-by-label-using-the-[]-and-.ix[]-operators\" data-toc-modified-id=\"Lookup-by-label-using-the-[]-and-.ix[]-operators-10\"><span class=\"toc-item-num\">10&nbsp;&nbsp;</span>Lookup by label using the [] and .ix[] operators</a></span><ul class=\"toc-item\"><li><ul class=\"toc-item\"><li><span><a href=\"#[]\" data-toc-modified-id=\"[]-10.0.1\"><span class=\"toc-item-num\">10.0.1&nbsp;&nbsp;</span><code>[]</code></a></span></li></ul></li></ul></li><li><span><a href=\"#Explicit-position-lookup-with-.iloc[]\" data-toc-modified-id=\"Explicit-position-lookup-with-.iloc[]-11\"><span class=\"toc-item-num\">11&nbsp;&nbsp;</span>Explicit position lookup with .iloc[]</a></span></li><li><span><a href=\"#Explicit-label-lookup-with-.loc[]\" data-toc-modified-id=\"Explicit-label-lookup-with-.loc[]-12\"><span class=\"toc-item-num\">12&nbsp;&nbsp;</span>Explicit label lookup with .loc[]</a></span></li><li><span><a href=\"#Slicing-a-Series-into-subsets\" data-toc-modified-id=\"Slicing-a-Series-into-subsets-13\"><span class=\"toc-item-num\">13&nbsp;&nbsp;</span>Slicing a Series into subsets</a></span><ul class=\"toc-item\"><li><ul class=\"toc-item\"><li><span><a href=\"#[start:end]\" data-toc-modified-id=\"[start:end]-13.0.1\"><span class=\"toc-item-num\">13.0.1&nbsp;&nbsp;</span><code>[start:end]</code></a></span></li><li><span><a href=\"#[start:end:step]\" data-toc-modified-id=\"[start:end:step]-13.0.2\"><span class=\"toc-item-num\">13.0.2&nbsp;&nbsp;</span><code>[start:end:step]</code></a></span></li><li><span><a href=\"#[:end],-[start:]\" data-toc-modified-id=\"[:end],-[start:]-13.0.3\"><span class=\"toc-item-num\">13.0.3&nbsp;&nbsp;</span><code>[:end]</code>, <code>[start:]</code></a></span></li><li><span><a href=\"#[:end:step],-[start::step]\" data-toc-modified-id=\"[:end:step],-[start::step]-13.0.4\"><span class=\"toc-item-num\">13.0.4&nbsp;&nbsp;</span><code>[:end:step]</code>, <code>[start::step]</code></a></span></li><li><span><a href=\"#descending-select-:-step-=-minus\" data-toc-modified-id=\"descending-select-:-step-=-minus-13.0.5\"><span class=\"toc-item-num\">13.0.5&nbsp;&nbsp;</span>descending select : <code>step</code> = minus</a></span></li><li><span><a href=\"#start-or-end-=-minus\" data-toc-modified-id=\"start-or-end-=-minus-13.0.6\"><span class=\"toc-item-num\">13.0.6&nbsp;&nbsp;</span><code>start</code> or <code>end</code> = minus</a></span></li></ul></li></ul></li><li><span><a href=\"#Alignment-via-index-labels\" data-toc-modified-id=\"Alignment-via-index-labels-14\"><span class=\"toc-item-num\">14&nbsp;&nbsp;</span>Alignment via index labels</a></span><ul class=\"toc-item\"><li><ul class=\"toc-item\"><li><span><a href=\"#시리즈-간의-연산은-간단하게-연산자를-사용할-수-있다.\" data-toc-modified-id=\"시리즈-간의-연산은-간단하게-연산자를-사용할-수-있다.-14.0.1\"><span class=\"toc-item-num\">14.0.1&nbsp;&nbsp;</span>시리즈 간의 연산은 간단하게 연산자를 사용할 수 있다.</a></span></li><li><span><a href=\"#인덱스가-다른-Series-간의-연산은-NaN을-반환\" data-toc-modified-id=\"인덱스가-다른-Series-간의-연산은-NaN을-반환-14.0.2\"><span class=\"toc-item-num\">14.0.2&nbsp;&nbsp;</span>인덱스가 다른 Series 간의 연산은 <code>NaN</code>을 반환</a></span></li><li><span><a href=\"#인덱스가-같은-로우-연산이-데카르트-곱-형태로-나타난다.\" data-toc-modified-id=\"인덱스가-같은-로우-연산이-데카르트-곱-형태로-나타난다.-14.0.3\"><span class=\"toc-item-num\">14.0.3&nbsp;&nbsp;</span>인덱스가 같은 로우 연산이 데카르트 곱 형태로 나타난다.</a></span></li></ul></li></ul></li><li><span><a href=\"#Boolean-selection\" data-toc-modified-id=\"Boolean-selection-15\"><span class=\"toc-item-num\">15&nbsp;&nbsp;</span>Boolean selection</a></span><ul class=\"toc-item\"><li><ul class=\"toc-item\"><li><span><a href=\"#Series에-비교-연산자-직접-적용하기\" data-toc-modified-id=\"Series에-비교-연산자-직접-적용하기-15.0.1\"><span class=\"toc-item-num\">15.0.1&nbsp;&nbsp;</span>Series에 비교 연산자 직접 적용하기</a></span></li><li><span><a href=\"#boolean.all()-and-boolean.any()\" data-toc-modified-id=\"boolean.all()-and-boolean.any()-15.0.2\"><span class=\"toc-item-num\">15.0.2&nbsp;&nbsp;</span><code>boolean.all()</code> and <code>boolean.any()</code></a></span></li><li><span><a href=\"#boolean.sum()\" data-toc-modified-id=\"boolean.sum()-15.0.3\"><span class=\"toc-item-num\">15.0.3&nbsp;&nbsp;</span><code>boolean.sum()</code></a></span></li></ul></li></ul></li><li><span><a href=\"#Reindexing-a-Series\" data-toc-modified-id=\"Reindexing-a-Series-16\"><span class=\"toc-item-num\">16&nbsp;&nbsp;</span>Reindexing a Series</a></span><ul class=\"toc-item\"><li><ul class=\"toc-item\"><li><span><a href=\"#.index-attribute-활용\" data-toc-modified-id=\".index-attribute-활용-16.0.1\"><span class=\"toc-item-num\">16.0.1&nbsp;&nbsp;</span><code>.index</code> attribute 활용</a></span></li><li><span><a href=\"#.reindex()-method의-다양한-활용\" data-toc-modified-id=\".reindex()-method의-다양한-활용-16.0.2\"><span class=\"toc-item-num\">16.0.2&nbsp;&nbsp;</span><code>.reindex()</code> method의 다양한 활용</a></span><ul class=\"toc-item\"><li><span><a href=\"#warning:-.reindex()는-복제된-Series에-새-인덱스-레이블을-적용해-반환함.\" data-toc-modified-id=\"warning:-.reindex()는-복제된-Series에-새-인덱스-레이블을-적용해-반환함.-16.0.2.1\"><span class=\"toc-item-num\">16.0.2.1&nbsp;&nbsp;</span>warning: <code>.reindex()</code>는 복제된 Series에 새 인덱스 레이블을 적용해 반환함.</a></span></li><li><span><a href=\"#없는-인덱스에-값을-넣으며-Series-값을-추가하는-.reindx(fill_value-=-)\" data-toc-modified-id=\"없는-인덱스에-값을-넣으며-Series-값을-추가하는-.reindx(fill_value-=-)-16.0.2.2\"><span class=\"toc-item-num\">16.0.2.2&nbsp;&nbsp;</span>없는 인덱스에 값을 넣으며 Series 값을 추가하는 <code>.reindx(fill_value = )</code></a></span></li><li><span><a href=\"#보간법-:-.reindx(method-=-[ffill-|-bfill])\" data-toc-modified-id=\"보간법-:-.reindx(method-=-[ffill-|-bfill])-16.0.2.3\"><span class=\"toc-item-num\">16.0.2.3&nbsp;&nbsp;</span>보간법 : <code>.reindx(method = [ffill | bfill])</code></a></span></li></ul></li></ul></li></ul></li><li><span><a href=\"#Modifying-a-Series-in-place\" data-toc-modified-id=\"Modifying-a-Series-in-place-17\"><span class=\"toc-item-num\">17&nbsp;&nbsp;</span>Modifying a Series in-place</a></span></li></ul></div>"
   ]
  },
  {
   "cell_type": "markdown",
   "metadata": {},
   "source": [
    "# 3장 Series로 단변량 데이터 표현\n",
    "---\n",
    "Series 는 pandas의 주요 빌딩 블록으로, 마치 1차원 배열처럼 한 가지 데이터 타입인 값들의 집합을 나타낸다.  \n",
    "또한 종종 단일 변수에 대해 0개 혹은 1개 이상의 측정치를 모델링할 때 사용된다. Series는 언뜻 배열처럼 보이지만, 레이블에 근거해 매우 효율적으로 값을 검색할 수 있게 하는 인덱스를 갖는다.  \n",
    "\n",
    "또한 Series는 다른 pandas 객체와 자신 사이에서 데이터 자동 정렬(automatic alignment)을 수행한다.  \n",
    "정렬은 pandas 의 핵심 기능으로, 데이터가 어떤 작업이 실행되기 전에 레이블 값을 통해 맞춰진 복수의 pandas 객체들로 표현된다.  \n",
    "이로써 join을 명시적으로 코딩할 필요없이 작업을 간단하게 만들 수 있다.\n",
    "\n",
    "3장에서는 인덱스를 통해 표본을 검색하는 작업을 포함해 Series를 사용해 변수의 측정치를 모델링하는 방법을 알아본다.\n",
    "(인덱스 레이블링, 데이터 조회와 슬라이싱, 정렬, 데이터 리인덱싱 등 다양한 패턴에 대한 개괄적인 설명도 포함된다.)  \n",
    "\n",
    "##### 3장 개요\n",
    "- 파이썬 리스트, 딕셔너리, Numpy 함수, 스칼라 값 등을 사용하는 Series 만들기\n",
    "- Series의 인덱스와 값 접근\n",
    "- Series 객체의 크기과 형태 판별\n",
    "- Series 생성 시기에 따른 인덱스 지정\n",
    "- head, tail, take를 이용한 값 접근\n",
    "- 인덱스 레이블과 포지션으로 값 검색\n",
    "- 슬라이싱 및 일반적인 슬라이싱 패턴\n",
    "- 인덱스 레이블을 통한 정렬\n",
    "- boolean 선택\n",
    "- Series re-indexing\n",
    "- 값의 즉석 변경 (in-place modification)\n"
   ]
  },
  {
   "cell_type": "markdown",
   "metadata": {},
   "source": [
    "# Configuring pandas\n",
    "\n",
    "판다스 설정"
   ]
  },
  {
   "cell_type": "code",
   "execution_count": 1,
   "metadata": {},
   "outputs": [],
   "source": [
    "# import numpy and pandas\n",
    "import numpy as np\n",
    "import pandas as pd\n",
    "\n",
    "# used for dates\n",
    "import datetime\n",
    "from datetime import datetime, date\n",
    "\n",
    "# Set some pandas options controlling output format\n",
    "pd.set_option('display.notebook_repr_html', False)\n",
    "pd.set_option('display.max_columns', 8)\n",
    "pd.set_option('display.max_rows', 10)\n",
    "pd.set_option('display.width', 80)\n",
    "\n",
    "# bring in matplotlib for graphics\n",
    "import matplotlib.pyplot as plt\n",
    "%matplotlib inline"
   ]
  },
  {
   "cell_type": "markdown",
   "metadata": {},
   "source": [
    "# Creating a Series using Python lists and dictionaries\n",
    "파이썬 리스트와 딕셔너리를 사용한 생성\n",
    "\n",
    "Series는 여러 기법으로 만ㄷ르 수 있지만 세 가지 방법을 알아보도록 하자. \n",
    "\n",
    "### 데이터 리스트 입력\n",
    "첫번째 칼럼의 숫자들은 Series 인덱스의 레이블을 나타낸다.  \n",
    "두 번째 칼럼에는 실제 값들이 있으며, dtype: int64는 각 값들의 데이터 타입이 int64 임을 나타낸다.  "
   ]
  },
  {
   "cell_type": "code",
   "execution_count": 2,
   "metadata": {},
   "outputs": [
    {
     "data": {
      "text/plain": [
       "0    10\n",
       "1    11\n",
       "2    12\n",
       "3    13\n",
       "4    14\n",
       "dtype: int64"
      ]
     },
     "execution_count": 2,
     "metadata": {},
     "output_type": "execute_result"
    }
   ],
   "source": [
    "# create a series of multiple values from a list\n",
    "s = pd.Series([10, 11, 12, 13, 14])\n",
    "s"
   ]
  },
  {
   "cell_type": "markdown",
   "metadata": {},
   "source": [
    "pandas는 기본적으로 0부터 시작하는 연속된 정수로 이뤄진 인덱스를 만든다.  \n",
    "이 때문에 마치 Series가 다른 여러 프로그래밍 언어의 배열처럼 보일 수 있다.  \n",
    "\n",
    "    그러나 이는 어디까지나 레이블 값으로 조회한 것이며, 제로베이스 방식이 아니다. 이와 관련한 자세한 사항은 뒤에서."
   ]
  },
  {
   "cell_type": "code",
   "execution_count": 3,
   "metadata": {},
   "outputs": [
    {
     "data": {
      "text/plain": [
       "13"
      ]
     },
     "execution_count": 3,
     "metadata": {},
     "output_type": "execute_result"
    }
   ],
   "source": [
    "# value stored at index label 3\n",
    "s[3]"
   ]
  },
  {
   "cell_type": "markdown",
   "metadata": {},
   "source": [
    "정수가 아닌 다른 타입의 데이터도 사용할 수 있다.  "
   ]
  },
  {
   "cell_type": "code",
   "execution_count": 4,
   "metadata": {},
   "outputs": [
    {
     "data": {
      "text/plain": [
       "0      Mike\n",
       "1    Marcia\n",
       "2    Mikael\n",
       "3      Bleu\n",
       "dtype: object"
      ]
     },
     "execution_count": 4,
     "metadata": {},
     "output_type": "execute_result"
    }
   ],
   "source": [
    "# create a Series of alphas\n",
    "pd.Series(['Mike', 'Marcia', 'Mikael', 'Bleu'])"
   ]
  },
  {
   "cell_type": "markdown",
   "metadata": {},
   "source": [
    "### 동일한 값을 갖는 연속적인 row생성\n",
    "\n",
    "동일한 값 v를 n 개 만큼 갖는 Series를 만들 때에는 리스트 생성을 위한 파이썬의 단축 표기법인 `[v]*n`을 사용해도 된다.  \n",
    "2라는 값을 5개 갖는 Series 객체를 만들어보자.  "
   ]
  },
  {
   "cell_type": "code",
   "execution_count": 5,
   "metadata": {},
   "outputs": [
    {
     "data": {
      "text/plain": [
       "0    2\n",
       "1    2\n",
       "2    2\n",
       "3    2\n",
       "4    2\n",
       "dtype: int64"
      ]
     },
     "execution_count": 5,
     "metadata": {},
     "output_type": "execute_result"
    }
   ],
   "source": [
    "# a sequence of 5 values, all 2\n",
    "pd.Series([2]*5)"
   ]
  },
  {
   "cell_type": "markdown",
   "metadata": {},
   "source": [
    "각 문자를 리스트 아이템으로 사용하는 방법도 있다. "
   ]
  },
  {
   "cell_type": "code",
   "execution_count": 6,
   "metadata": {},
   "outputs": [
    {
     "data": {
      "text/plain": [
       "0    a\n",
       "1    b\n",
       "2    c\n",
       "3    d\n",
       "4    e\n",
       "dtype: object"
      ]
     },
     "execution_count": 6,
     "metadata": {},
     "output_type": "execute_result"
    }
   ],
   "source": [
    "# use each character as a value\n",
    "pd.Series(list('abcde'))"
   ]
  },
  {
   "cell_type": "markdown",
   "metadata": {},
   "source": [
    "### 딕셔너리로 Series를 직접 초기화 하는 방법\n",
    "\n",
    "이 경우 딕셔너리의 key가 인덱스 레이블이 된다. "
   ]
  },
  {
   "cell_type": "code",
   "execution_count": 7,
   "metadata": {},
   "outputs": [
    {
     "data": {
      "text/plain": [
       "Mike                   Dad\n",
       "Marcia                 Mom\n",
       "Mikael                 Son\n",
       "Bleu      Best doggie ever\n",
       "dtype: object"
      ]
     },
     "execution_count": 7,
     "metadata": {},
     "output_type": "execute_result"
    }
   ],
   "source": [
    "# create Series from dict\n",
    "pd.Series({'Mike': 'Dad', \n",
    "           'Marcia': 'Mom', \n",
    "           'Mikael': 'Son', \n",
    "           'Bleu': 'Best doggie ever' })"
   ]
  },
  {
   "cell_type": "markdown",
   "metadata": {},
   "source": [
    "# Creation using NumPy functions\n",
    "\n",
    "여러가지 Numpy 함수르 Series 객체를 초기화하는 일은 흔한 방법이다.  \n",
    "\n",
    "\n",
    "### np.arange()\n",
    "4~8의 값을 갖는 시리즈를 만들기 위한 방법이다.  "
   ]
  },
  {
   "cell_type": "code",
   "execution_count": 8,
   "metadata": {},
   "outputs": [
    {
     "data": {
      "text/plain": [
       "0    4\n",
       "1    5\n",
       "2    6\n",
       "3    7\n",
       "4    8\n",
       "dtype: int64"
      ]
     },
     "execution_count": 8,
     "metadata": {},
     "output_type": "execute_result"
    }
   ],
   "source": [
    "# 4 through 8\n",
    "pd.Series(np.arange(4, 9))"
   ]
  },
  {
   "cell_type": "markdown",
   "metadata": {},
   "source": [
    "### np.linspace()\n",
    "`np.linspace()`도 비슷한 기능을 하지만, 두 값 사이의 **개수**를 지정해 동일한 간격의 값들을 만들 수 있다. "
   ]
  },
  {
   "cell_type": "code",
   "execution_count": 9,
   "metadata": {},
   "outputs": [
    {
     "data": {
      "text/plain": [
       "0    0.00\n",
       "1    2.25\n",
       "2    4.50\n",
       "3    6.75\n",
       "4    9.00\n",
       "dtype: float64"
      ]
     },
     "execution_count": 9,
     "metadata": {},
     "output_type": "execute_result"
    }
   ],
   "source": [
    "# 0 through 9\n",
    "pd.Series(np.linspace(0, 9, 5))"
   ]
  },
  {
   "cell_type": "markdown",
   "metadata": {},
   "source": [
    "### np.random.normal()\n",
    "\n",
    "정규분포를 따르는 5개의 난수를 생성한다.  \n",
    "랜덤 시드를 고정하면 어느 경우에 코드를 실행하든 같은 숫자를 반환한다.  "
   ]
  },
  {
   "cell_type": "code",
   "execution_count": 10,
   "metadata": {},
   "outputs": [
    {
     "data": {
      "text/plain": [
       "0   -0.204708\n",
       "1    0.478943\n",
       "2   -0.519439\n",
       "3   -0.555730\n",
       "4    1.965781\n",
       "dtype: float64"
      ]
     },
     "execution_count": 10,
     "metadata": {},
     "output_type": "execute_result"
    }
   ],
   "source": [
    "# random numbers\n",
    "np.random.seed(12345) # always generate the same values\n",
    "\n",
    "# 5 normally random numbers\n",
    "pd.Series(np.random.normal(size=5))"
   ]
  },
  {
   "cell_type": "markdown",
   "metadata": {},
   "source": [
    "# Creation using a scalar value\n",
    "\n",
    "스칼라 값으로도 Series 값을 만들 수 있다.  \n",
    "\n",
    "스칼라 하나를 입력했을 때 하나의 row를 갖는 Series 객체가 만들어지는데,"
   ]
  },
  {
   "cell_type": "code",
   "execution_count": 11,
   "metadata": {},
   "outputs": [
    {
     "data": {
      "text/plain": [
       "0    2\n",
       "dtype: int64"
      ]
     },
     "execution_count": 11,
     "metadata": {},
     "output_type": "execute_result"
    }
   ],
   "source": [
    "# create a one item Series\n",
    "s = pd.Series(2)\n",
    "s"
   ]
  },
  {
   "cell_type": "markdown",
   "metadata": {},
   "source": [
    "만약 스칼라 값을 곱하는 경우, 해당 Series 값들에 곱연산이 행해진다.  \n",
    "\n",
    "내부적으로는 pandas는 `s`와 동일한 인덱스를 갖는 Series 하나(2로만 이루어진 동일한 길이의 Series)를 만들어 각 인덱스에 값을 2를 부여한 다음, 두 Series의 값들을 나란히 곱하는 방식이다.  "
   ]
  },
  {
   "cell_type": "code",
   "execution_count": 12,
   "metadata": {},
   "outputs": [
    {
     "name": "stdout",
     "output_type": "stream",
     "text": [
      "0    0\n",
      "1    1\n",
      "2    2\n",
      "3    3\n",
      "4    4\n",
      "dtype: int64\n",
      "0    0\n",
      "1    2\n",
      "2    4\n",
      "3    6\n",
      "4    8\n",
      "dtype: int64\n"
     ]
    }
   ],
   "source": [
    "# create the Series\n",
    "s = pd.Series(np.arange(0, 5))\n",
    "print(s)\n",
    "\n",
    "# multiple all values by 2\n",
    "print(s * 2)"
   ]
  },
  {
   "cell_type": "markdown",
   "metadata": {},
   "source": [
    "# The `.index` and `.values` properties\n",
    "\n",
    "모든 Series 객체는 일련의 인덱스와 값 쌍으로 구성되어 있으며, 각 값은 `.values` method로 접근할 수 있다.  \n",
    "결과는 numpy 배열 객체이다."
   ]
  },
  {
   "cell_type": "code",
   "execution_count": 13,
   "metadata": {},
   "outputs": [
    {
     "data": {
      "text/plain": [
       "array([1, 2, 3])"
      ]
     },
     "execution_count": 13,
     "metadata": {},
     "output_type": "execute_result"
    }
   ],
   "source": [
    "# get the values in the Series\n",
    "s = pd.Series([1, 2, 3])\n",
    "s.values"
   ]
  },
  {
   "cell_type": "code",
   "execution_count": 14,
   "metadata": {},
   "outputs": [
    {
     "data": {
      "text/plain": [
       "numpy.ndarray"
      ]
     },
     "execution_count": 14,
     "metadata": {},
     "output_type": "execute_result"
    }
   ],
   "source": [
    "# show that this is a numpy array\n",
    "type(s.values)"
   ]
  },
  {
   "cell_type": "markdown",
   "metadata": {},
   "source": [
    "_이 책에서는 NumPy 배열을 다루지 않을 것.  \n",
    "원래는 pandas는 내부적으로 NumPy 배열을 사용했었으며, 따라서 과거에는 NumPy 배열이 중요시 됐었으나, 최근의 pandas에서는 NumPy 배열에 대한 의존성이 제거됐다. 실제로 NumPy배열은 아니지만, 교재에서는 편의상 values 속성이 NumPy배열을 반환한다고 표현했다._\n",
    "\n",
    "`.index` 속성을 사용하면 Series의 인덱스를 조회할 수 있다."
   ]
  },
  {
   "cell_type": "code",
   "execution_count": 15,
   "metadata": {},
   "outputs": [
    {
     "data": {
      "text/plain": [
       "RangeIndex(start=0, stop=3, step=1)"
      ]
     },
     "execution_count": 15,
     "metadata": {},
     "output_type": "execute_result"
    }
   ],
   "source": [
    "# get the index of the Series\n",
    "s.index"
   ]
  },
  {
   "cell_type": "markdown",
   "metadata": {},
   "source": [
    "pandas가 생성하는 인덱스의 유형은 `RangeIndex`이다. 이는 책의 이전 버전을 출간한 당시에는 없었던 타입이라고 한다.  \n",
    "이 객체는 start 부터, stop까지, step 만큼의 간격을 갖는 값 범위를 나타낸다.  \n",
    "이는 이전에 사용됐던 Int64Index에 비해 더 효율적이다.  \n",
    "\n",
    "    물론 RangeIndex는 인덱스의 여러 타입 중 하나인 것이다. (부가적인 것은 6장에서)"
   ]
  },
  {
   "cell_type": "markdown",
   "metadata": {},
   "source": [
    "# The size and shape of a Series\n",
    "Series의 크기와 형태  \n",
    "\n",
    "Series 객체의 아이템 개수를 알아낼 수 있는 여러 방법이 있다.\n",
    "\n",
    "###  파이썬의 `len()`"
   ]
  },
  {
   "cell_type": "code",
   "execution_count": 16,
   "metadata": {},
   "outputs": [
    {
     "data": {
      "text/plain": [
       "4"
      ]
     },
     "execution_count": 16,
     "metadata": {},
     "output_type": "execute_result"
    }
   ],
   "source": [
    "# example series\n",
    "s = pd.Series([0, 1, 2, 3])\n",
    "len(s)"
   ]
  },
  {
   "cell_type": "markdown",
   "metadata": {},
   "source": [
    "### `.size` method"
   ]
  },
  {
   "cell_type": "code",
   "execution_count": 17,
   "metadata": {},
   "outputs": [
    {
     "data": {
      "text/plain": [
       "4"
      ]
     },
     "execution_count": 17,
     "metadata": {},
     "output_type": "execute_result"
    }
   ],
   "source": [
    "# .size is also the # of items in the Series\n",
    "s.size"
   ]
  },
  {
   "cell_type": "markdown",
   "metadata": {},
   "source": [
    "### `.shape` method\n",
    "\n",
    "이 메서드는 2개 요소의 tuple을 반환하는데, Series는 인덱스를 제외하고 한 열만 가지고 있으므로 첫 번째 값만 존재한다.  "
   ]
  },
  {
   "cell_type": "code",
   "execution_count": 18,
   "metadata": {},
   "outputs": [
    {
     "data": {
      "text/plain": [
       "(4,)"
      ]
     },
     "execution_count": 18,
     "metadata": {},
     "output_type": "execute_result"
    }
   ],
   "source": [
    "# .shape is a tuple with one value\n",
    "s.shape"
   ]
  },
  {
   "cell_type": "markdown",
   "metadata": {},
   "source": [
    "# Specifying an index at creation\n",
    "생성 시 인덱스 지정  \n",
    "\n",
    "생성자의 `index=` 파라미터를 이용하면 인덱스 레이블을 지정하여 Series를 만들 수 있다.  \n"
   ]
  },
  {
   "cell_type": "code",
   "execution_count": 19,
   "metadata": {},
   "outputs": [
    {
     "data": {
      "text/plain": [
       "Dad      Mike\n",
       "Mom    Marcia\n",
       "Son    Mikael\n",
       "Dog      Bleu\n",
       "dtype: object"
      ]
     },
     "execution_count": 19,
     "metadata": {},
     "output_type": "execute_result"
    }
   ],
   "source": [
    "# explicitly create an index\n",
    "labels = ['Mike', 'Marcia', 'Mikael', 'Bleu']\n",
    "role = ['Dad', 'Mom', 'Son', 'Dog']\n",
    "s = pd.Series(labels, index=role)\n",
    "s"
   ]
  },
  {
   "cell_type": "markdown",
   "metadata": {},
   "source": [
    "`.index` 를 통해 인덱스를 확인할 수 있다.  "
   ]
  },
  {
   "cell_type": "code",
   "execution_count": 20,
   "metadata": {},
   "outputs": [
    {
     "data": {
      "text/plain": [
       "Index(['Dad', 'Mom', 'Son', 'Dog'], dtype='object')"
      ]
     },
     "execution_count": 20,
     "metadata": {},
     "output_type": "execute_result"
    }
   ],
   "source": [
    "# examine the index\n",
    "s.index"
   ]
  },
  {
   "cell_type": "markdown",
   "metadata": {},
   "source": [
    "인덱스를 통해 값을 확인할 수 있다. "
   ]
  },
  {
   "cell_type": "code",
   "execution_count": 21,
   "metadata": {},
   "outputs": [
    {
     "data": {
      "text/plain": [
       "'Mike'"
      ]
     },
     "execution_count": 21,
     "metadata": {},
     "output_type": "execute_result"
    }
   ],
   "source": [
    "# who is the Dad?\n",
    "s['Dad']"
   ]
  },
  {
   "cell_type": "markdown",
   "metadata": {},
   "source": [
    "# Heads, tails and takes\n",
    "\n",
    "Series 안의 처음(head) 몇 개의 로우나, 마지막(tail) 몇 개의 로우를 확인할 수 있다.  \n",
    "디폴트 갯수는 5개로 정해져 있다.  "
   ]
  },
  {
   "cell_type": "code",
   "execution_count": 22,
   "metadata": {},
   "outputs": [],
   "source": [
    "# a ten item Series\n",
    "s = pd.Series(np.arange(1, 10), \n",
    "              index=list('abcdefghi'))"
   ]
  },
  {
   "cell_type": "markdown",
   "metadata": {},
   "source": [
    "### `.head(n=)`"
   ]
  },
  {
   "cell_type": "code",
   "execution_count": 23,
   "metadata": {
    "scrolled": true
   },
   "outputs": [
    {
     "data": {
      "text/plain": [
       "a    1\n",
       "b    2\n",
       "c    3\n",
       "d    4\n",
       "e    5\n",
       "dtype: int64"
      ]
     },
     "execution_count": 23,
     "metadata": {},
     "output_type": "execute_result"
    }
   ],
   "source": [
    "# show the first five\n",
    "s.head()"
   ]
  },
  {
   "cell_type": "markdown",
   "metadata": {},
   "source": [
    "`n=` 파라미터를 지정하면 원하는 개수의 아이템을 가져올 수 있다. "
   ]
  },
  {
   "cell_type": "code",
   "execution_count": 24,
   "metadata": {},
   "outputs": [
    {
     "data": {
      "text/plain": [
       "a    1\n",
       "b    2\n",
       "c    3\n",
       "dtype: int64"
      ]
     },
     "execution_count": 24,
     "metadata": {},
     "output_type": "execute_result"
    }
   ],
   "source": [
    "# the first three\n",
    "s.head(n = 3) # s.head(3) is equivalent"
   ]
  },
  {
   "cell_type": "markdown",
   "metadata": {},
   "source": [
    "### `.tail()`"
   ]
  },
  {
   "cell_type": "code",
   "execution_count": 25,
   "metadata": {},
   "outputs": [
    {
     "data": {
      "text/plain": [
       "e    5\n",
       "f    6\n",
       "g    7\n",
       "h    8\n",
       "i    9\n",
       "dtype: int64"
      ]
     },
     "execution_count": 25,
     "metadata": {},
     "output_type": "execute_result"
    }
   ],
   "source": [
    "# the last five\n",
    "s.tail()"
   ]
  },
  {
   "cell_type": "code",
   "execution_count": 26,
   "metadata": {},
   "outputs": [
    {
     "data": {
      "text/plain": [
       "g    7\n",
       "h    8\n",
       "i    9\n",
       "dtype: int64"
      ]
     },
     "execution_count": 26,
     "metadata": {},
     "output_type": "execute_result"
    }
   ],
   "source": [
    "# the last 3\n",
    "s.tail(n = 3) # equivalent to s.tail(3)"
   ]
  },
  {
   "cell_type": "markdown",
   "metadata": {},
   "source": [
    "### `.take()` \n",
    "\n",
    "지정한 위치의 로우를 반환한다.  \n",
    "\n",
    "`dataframe.iloc([index number list]).columnname` 를 이용하여 가져오기도 했었다.  \n"
   ]
  },
  {
   "cell_type": "code",
   "execution_count": 27,
   "metadata": {},
   "outputs": [
    {
     "data": {
      "text/plain": [
       "b    2\n",
       "f    6\n",
       "i    9\n",
       "dtype: int64"
      ]
     },
     "execution_count": 27,
     "metadata": {},
     "output_type": "execute_result"
    }
   ],
   "source": [
    "# only take specific items by position\n",
    "s.take([1, 5, 8])"
   ]
  },
  {
   "cell_type": "code",
   "execution_count": 28,
   "metadata": {},
   "outputs": [
    {
     "data": {
      "text/plain": [
       "b    2\n",
       "f    6\n",
       "i    9\n",
       "dtype: int64"
      ]
     },
     "execution_count": 28,
     "metadata": {},
     "output_type": "execute_result"
    }
   ],
   "source": [
    "# get the values in the Differences column in tows 1, 5 and 8\n",
    "# using 0-based location\n",
    "s.iloc[[1, 5, 8]]"
   ]
  },
  {
   "cell_type": "markdown",
   "metadata": {},
   "source": [
    "# Lookup by label using the [] and .ix[] operators\n",
    "레이블과 포지션으로 값 가져오기  \n",
    "\n",
    "Series의 값을 가져올 때에는 보통 인덱스 레이블이나 제로베이스 포지션을 이용하는데, pandas는 두 경우 모두에 있어서 다양한 검색 방법을 제공한다.  "
   ]
  },
  {
   "cell_type": "code",
   "execution_count": 29,
   "metadata": {},
   "outputs": [
    {
     "data": {
      "text/plain": [
       "a    10\n",
       "b    11\n",
       "c    12\n",
       "d    13\n",
       "e    14\n",
       "dtype: int64"
      ]
     },
     "execution_count": 29,
     "metadata": {},
     "output_type": "execute_result"
    }
   ],
   "source": [
    "# we will use this series to examine lookups\n",
    "s1 = pd.Series(np.arange(10, 15), index=list('abcde'))\n",
    "s1"
   ]
  },
  {
   "cell_type": "markdown",
   "metadata": {},
   "source": [
    "### `[]`\n",
    "\n",
    "찾고자 하는 인덱스 레이블을 사용하면 하나의 값을 얻을 수 있고,  \n",
    "인덱스 레이블을 나열하면 복수의 아이템을 가져올 수 있다."
   ]
  },
  {
   "cell_type": "code",
   "execution_count": 30,
   "metadata": {},
   "outputs": [
    {
     "data": {
      "text/plain": [
       "10"
      ]
     },
     "execution_count": 30,
     "metadata": {},
     "output_type": "execute_result"
    }
   ],
   "source": [
    "# get the value with label 'a'\n",
    "s1['a']"
   ]
  },
  {
   "cell_type": "code",
   "execution_count": 31,
   "metadata": {},
   "outputs": [
    {
     "data": {
      "text/plain": [
       "d    13\n",
       "b    11\n",
       "dtype: int64"
      ]
     },
     "execution_count": 31,
     "metadata": {},
     "output_type": "execute_result"
    }
   ],
   "source": [
    "# get multiple items\n",
    "s1[['d', 'b']]"
   ]
  },
  {
   "cell_type": "markdown",
   "metadata": {},
   "source": [
    "또한 포지션에 해당하는 숫자를 사용해 검색할 수도 있다.  \n",
    "\n",
    "그러나 이는 인덱스가 정수 레이블을 사용하지 않는 경우에만 해당된다.  \n",
    "인덱스가 정수 값인 상황에서 `[]` 안에 정수를 넣는다면 그와 일치하는 정수 레이블의 해당 값을 찾아줄 것이다. "
   ]
  },
  {
   "cell_type": "code",
   "execution_count": 32,
   "metadata": {},
   "outputs": [
    {
     "data": {
      "text/plain": [
       "d    13\n",
       "b    11\n",
       "dtype: int64"
      ]
     },
     "execution_count": 32,
     "metadata": {},
     "output_type": "execute_result"
    }
   ],
   "source": [
    "# gets values based upon position\n",
    "s1[[3, 1]]"
   ]
  },
  {
   "cell_type": "markdown",
   "metadata": {},
   "source": [
    "아래처럼 인덱스가 정수인 경우에는 포지션이 아닌 레이블 숫자에 해당하는 값을 찾아준다.  "
   ]
  },
  {
   "cell_type": "code",
   "execution_count": 33,
   "metadata": {},
   "outputs": [
    {
     "data": {
      "text/plain": [
       "10    1\n",
       "11    2\n",
       "12    3\n",
       "13    4\n",
       "dtype: int64"
      ]
     },
     "execution_count": 33,
     "metadata": {},
     "output_type": "execute_result"
    }
   ],
   "source": [
    "# to demo lookup by matching labels as integer values\n",
    "s2 = pd.Series([1, 2, 3, 4], index=[10, 11, 12, 13])\n",
    "s2"
   ]
  },
  {
   "cell_type": "code",
   "execution_count": 34,
   "metadata": {},
   "outputs": [
    {
     "data": {
      "text/plain": [
       "13    4\n",
       "10    1\n",
       "dtype: int64"
      ]
     },
     "execution_count": 34,
     "metadata": {},
     "output_type": "execute_result"
    }
   ],
   "source": [
    "# this is by label not position\n",
    "s2[[13, 10]]"
   ]
  },
  {
   "cell_type": "markdown",
   "metadata": {},
   "source": [
    "`[]` 연산자와 동일한 역할을 하는 `.ix[]` 속성은 pandas 0.20.1 부터 지원이 중단됐다.  \n",
    "연산자에 전달되는 정수의 모호성, 그리고 레이블의 타입에 따라 다르게 동작한다는 사실 때문에 혼란이 야기되기 때문이다.  \n",
    "\n",
    "따라서 `[]`, `.ix[]`를 통한 묵시적 검색은 지양하도록! 대신 레이블과 포지션 중 하나만 허용하는 명시적인 속성인 `.loc[]`과 `.iloc[]`를 사용하길 바란다.  "
   ]
  },
  {
   "cell_type": "markdown",
   "metadata": {},
   "source": [
    "# Explicit position lookup with .iloc[]\n",
    "`.iloc[]`를 사용하는 명시적 포지션 검색\n",
    "\n",
    "`.iloc[]`를 사용하면 포지션으로 값을 검색할 수 있다. 다음은 정수 파라미터를 사용한 예시이다.  "
   ]
  },
  {
   "cell_type": "code",
   "execution_count": 35,
   "metadata": {},
   "outputs": [
    {
     "data": {
      "text/plain": [
       "a    10\n",
       "c    12\n",
       "dtype: int64"
      ]
     },
     "execution_count": 35,
     "metadata": {},
     "output_type": "execute_result"
    }
   ],
   "source": [
    "# explicitly  by position\n",
    "s1.iloc[[0, 2]]"
   ]
  },
  {
   "cell_type": "markdown",
   "metadata": {},
   "source": [
    "정수 레이블을 갖는 인덱스가 있는 경우에도 포지션으로 찾는다.  "
   ]
  },
  {
   "cell_type": "code",
   "execution_count": 36,
   "metadata": {},
   "outputs": [
    {
     "data": {
      "text/plain": [
       "13    4\n",
       "12    3\n",
       "dtype: int64"
      ]
     },
     "execution_count": 36,
     "metadata": {},
     "output_type": "execute_result"
    }
   ],
   "source": [
    "# explicitly  by position\n",
    "s2.iloc[[3, 2]]"
   ]
  },
  {
   "cell_type": "markdown",
   "metadata": {},
   "source": [
    "# Explicit label lookup with .loc[]\n",
    "`.loc[]`를 사용하는 명시적 레이블 검색  \n",
    "\n",
    "`.loc[]` 메서드를 사용하면 레이블로 검색할 수 있다.  "
   ]
  },
  {
   "cell_type": "code",
   "execution_count": 37,
   "metadata": {},
   "outputs": [
    {
     "data": {
      "text/plain": [
       "a    10\n",
       "d    13\n",
       "dtype: int64"
      ]
     },
     "execution_count": 37,
     "metadata": {},
     "output_type": "execute_result"
    }
   ],
   "source": [
    "# explicit via labels\n",
    "s1.loc[['a', 'd']]"
   ]
  },
  {
   "cell_type": "markdown",
   "metadata": {},
   "source": [
    "정수 레이블을 사용하는 경우도 문제없다.!"
   ]
  },
  {
   "cell_type": "code",
   "execution_count": 38,
   "metadata": {},
   "outputs": [
    {
     "data": {
      "text/plain": [
       "11    2\n",
       "12    3\n",
       "dtype: int64"
      ]
     },
     "execution_count": 38,
     "metadata": {},
     "output_type": "execute_result"
    }
   ],
   "source": [
    "# get items at position 11 an d12\n",
    "s2.loc[[11, 12]]"
   ]
  },
  {
   "cell_type": "markdown",
   "metadata": {},
   "source": [
    "존재하지 않는 인덱스 레이블을 지정했을 때 `.loc[]`동작은 `.iloc[]`의 경우와 다르게, 오류를 내는 대신 NaN을 반환한다.  \n",
    "\n",
    "라고 적혀있지만, <span style=\"color:darkred\">**버전이 업데이트 되면서 오류를 내는 것으로 바뀐 것으로 확인된다.** </span>\n"
   ]
  },
  {
   "cell_type": "code",
   "execution_count": null,
   "metadata": {
    "scrolled": true
   },
   "outputs": [],
   "source": [
    "# -1 and 15 will be NaN\n",
    "# s1.loc[['a', 'f']]"
   ]
  },
  {
   "cell_type": "markdown",
   "metadata": {},
   "source": [
    "# Slicing a Series into subsets\n",
    "서브셋으로 Series 슬라이싱\n",
    "\n",
    "pandas Series는 슬라이싱 기능을 지원한다.  \n",
    "슬라이싱은 pandas 객체로부터 부분집합, 즉 서브셋(subset)을 추출할 수 있는 강력한 방법이다. 슬라이싱을 사용하면 포지션이나 인덱스 레이블로 선택한 데이터에서 아이템의 순서(ascending or descending)와 간격(모두 또는 하나 건너 뛰어 등)을 제어할 수 있다.  \n",
    "\n",
    "슬라이싱은 평범한 `[]`연산자를 슬라이스 객체(slice object)에도 적용할 수 있게 오버로딩(overloading)한 것이다.  \n",
    "슬라이스 객체는 `start:end:step` 문법을 사용하여 만드는데, 이를 슬라이스 지정자(slice specifier)라고 하며, 각 요소는 순서대로 첫 번째 아이템, 마지막 아이템, 각 아이템의 간격을 의미한다.  \n",
    "\n",
    "슬라이스의 각 요소는 모두 선택 사항으로, 생략한 요소에 따라 전체 로우를 선택할 수 있는 편리한 수단을 제공한다.  "
   ]
  },
  {
   "cell_type": "code",
   "execution_count": null,
   "metadata": {},
   "outputs": [
    {
     "data": {
      "text/plain": [
       "10    100\n",
       "11    101\n",
       "12    102\n",
       "13    103\n",
       "14    104\n",
       "15    105\n",
       "16    106\n",
       "17    107\n",
       "18    108\n",
       "19    109\n",
       "dtype: int64"
      ]
     },
     "execution_count": 86,
     "metadata": {},
     "output_type": "execute_result"
    }
   ],
   "source": [
    "# a Series to use for slicing\n",
    "# using index labels not starting at 0 to demonstrate \n",
    "# position based slicing\n",
    "s = pd.Series(np.arange(100, 110), index=np.arange(10, 20))\n",
    "s"
   ]
  },
  {
   "cell_type": "markdown",
   "metadata": {},
   "source": [
    "### `[start:end]` \n",
    "\n",
    "연속된 아이템을 선택하기 위해서는 `start:end`를 사용한다.  \n",
    "- `step`을 지정하지 않는 경우 기본 값은 1이다.  \n",
    "- `end`에 해당하는 아이템은 결과에 포함되지 않는 점을 주의하기.  "
   ]
  },
  {
   "cell_type": "code",
   "execution_count": null,
   "metadata": {},
   "outputs": [],
   "source": [
    "# slice showing items at position 1 thorugh 5\n",
    "s[1:6]"
   ]
  },
  {
   "cell_type": "markdown",
   "metadata": {},
   "source": [
    "대략 같은 결과를 `iloc[]`로 추출할 수 있다.  \n",
    "\n",
    "    '대략 같다'는 표현인 이유는, `iloc[]`는 원천 데이터의 복사본을 반환하기 때문이다.  \n",
    "    반면 슬라이스는 원천 데이터를 참조한다. 따라서 결과 슬라이스의 콘텐츠를 변경하면 원래의 Series에도 적용된다.\n"
   ]
  },
  {
   "cell_type": "code",
   "execution_count": null,
   "metadata": {},
   "outputs": [],
   "source": [
    "# lookup via list of positions\n",
    "s.iloc[[1, 2, 3, 4, 5]]"
   ]
  },
  {
   "cell_type": "markdown",
   "metadata": {},
   "source": [
    "### `[start:end:step]`\n",
    "\n",
    "간격을 2씩 주면 하나씩 건너뛴 위치의 아이템을 반환하게 된다.  "
   ]
  },
  {
   "cell_type": "code",
   "execution_count": null,
   "metadata": {},
   "outputs": [],
   "source": [
    "# items at position 1, 3, 5\n",
    "s[1:6:2]"
   ]
  },
  {
   "cell_type": "markdown",
   "metadata": {},
   "source": [
    "### `[:end]`, `[start:]`\n",
    "\n",
    "앞서 말했듯 슬라이스 지정자의 각 요소는 선택사항이기 때문에, `start`를 생략 시 첫 번째 아이템부터 시작한다.  \n",
    "다음은 .head()와 동일한 결과를 보게된다.  "
   ]
  },
  {
   "cell_type": "code",
   "execution_count": null,
   "metadata": {},
   "outputs": [],
   "source": [
    "# first five by slicing, same as .head(5)\n",
    "s[:5]"
   ]
  },
  {
   "cell_type": "markdown",
   "metadata": {},
   "source": [
    "start를 지정하고 end를 생략 시, 지정한 포지션부터 끝까지 모든 아이템을 선택할 수 있다.  "
   ]
  },
  {
   "cell_type": "code",
   "execution_count": null,
   "metadata": {},
   "outputs": [],
   "source": [
    "# fourth position to the end\n",
    "s[4:]"
   ]
  },
  {
   "cell_type": "markdown",
   "metadata": {},
   "source": [
    "### `[:end:step]`, `[start::step]`\n",
    "시작을 지정하지 않고, 처음부터 5번째 아이템까지 step = 2로 선택해 볼 수도 있다. "
   ]
  },
  {
   "cell_type": "code",
   "execution_count": null,
   "metadata": {},
   "outputs": [],
   "source": [
    "# every other item in the first five positions\n",
    "s[:5:2]"
   ]
  },
  {
   "cell_type": "markdown",
   "metadata": {},
   "source": [
    "또한 끝을 지정하지 않고 하나씩 건너뛰는 선택도 가능하다. "
   ]
  },
  {
   "cell_type": "code",
   "execution_count": null,
   "metadata": {},
   "outputs": [],
   "source": [
    "# every other item starting at the fourth position\n",
    "s[4::2]"
   ]
  },
  {
   "cell_type": "markdown",
   "metadata": {},
   "source": [
    "### descending select : `step` = minus\n",
    "\n",
    "`step`에 음수를 지정하면 결과가 역순이 된다. "
   ]
  },
  {
   "cell_type": "code",
   "execution_count": null,
   "metadata": {},
   "outputs": [],
   "source": [
    "# reverse the Series\n",
    "s[::-1]"
   ]
  },
  {
   "cell_type": "markdown",
   "metadata": {},
   "source": [
    "4번 포지션부터 역순으로 하나씩 건너뛴 아이템을 반환한다. "
   ]
  },
  {
   "cell_type": "code",
   "execution_count": null,
   "metadata": {},
   "outputs": [],
   "source": [
    "# every other starting at position 4, in reverse\n",
    "s[4::-2]"
   ]
  },
  {
   "cell_type": "markdown",
   "metadata": {},
   "source": [
    "### `start` or `end` = minus \n",
    "- `start`에 -n을 지정하면 마지막 n개의 로우를 보여준다.  \n",
    "- `end`에 -n을 지정하면 마지막 n개의 로우를 뺀 나머지를 보여준다."
   ]
  },
  {
   "cell_type": "code",
   "execution_count": null,
   "metadata": {},
   "outputs": [],
   "source": [
    "# -4:, which means the last 4 rows\n",
    "s[-4:]"
   ]
  },
  {
   "cell_type": "code",
   "execution_count": null,
   "metadata": {},
   "outputs": [],
   "source": [
    "# :-4, all but the last 4\n",
    "s[:-4]"
   ]
  },
  {
   "cell_type": "markdown",
   "metadata": {},
   "source": [
    "음수를 둘 다 사용하는 것도 가능하다.  \n",
    "다음 예시는, start = -4이므로 마지막 -4개의 로우에서, end = -1로 다시 마지막 한 개를 뺀 나머지를 보여주도록 된다.  "
   ]
  },
  {
   "cell_type": "code",
   "execution_count": null,
   "metadata": {},
   "outputs": [],
   "source": [
    "# equivalent to s.tail(4).head(3)\n",
    "s[-4:-1]"
   ]
  },
  {
   "cell_type": "markdown",
   "metadata": {},
   "source": [
    "정수가 아닌 인덱스로도 슬라이싱 할 수 있다. "
   ]
  },
  {
   "cell_type": "code",
   "execution_count": null,
   "metadata": {},
   "outputs": [],
   "source": [
    "# used to demonstrate the next two slices\n",
    "s = pd.Series(np.arange(0, 5), \n",
    "              index=['a', 'b', 'c', 'd', 'e'])\n",
    "s"
   ]
  },
  {
   "cell_type": "markdown",
   "metadata": {},
   "source": [
    "이 Series에 정수 값으로 슬라이싱하면 포지션에 기반을 두고 아이템을 추출한다. "
   ]
  },
  {
   "cell_type": "code",
   "execution_count": null,
   "metadata": {},
   "outputs": [],
   "source": [
    "# slices by position as the index is characters\n",
    "s[1:3]"
   ]
  },
  {
   "cell_type": "markdown",
   "metadata": {},
   "source": [
    "그러나 정수가 아닌 값을 사용할 때 pandas 는 데이터 타입을 이해해 Series로 부터 적합한 아이템을 고르려고 시도한다.  \n",
    "인덱스 'b' 부터 'd' 까지 슬라이싱 하는 예이다. "
   ]
  },
  {
   "cell_type": "code",
   "execution_count": null,
   "metadata": {},
   "outputs": [],
   "source": [
    "# this slices by the strings in the index\n",
    "s['b':'d']"
   ]
  },
  {
   "cell_type": "markdown",
   "metadata": {},
   "source": [
    "# Alignment via index labels\n",
    "인덱스 레이블을 통한 정렬\n",
    "\n",
    "인덱스 레이블을 통한 Series 데이터 정렬(alignment)은 pandas의 기본이면서 가장 강력한 개념 중 하나다.  \n",
    "정렬은 인덱스 레이블에 기초해 복수의 시리즈 객체의 값 사이를 자동으로 연관시켜준다. 이는 보통의 절차적 기법으로 여러 데이터셋을 매칭함에 있어서 오류를 발생시키기 쉬운 많은 수고를 덜어준다.  \n",
    "\n",
    "두 Series 객체의 값을 더하는 예제를 시험함으로서 정렬에 대해 알아본다. "
   ]
  },
  {
   "cell_type": "code",
   "execution_count": null,
   "metadata": {},
   "outputs": [],
   "source": [
    "# First series for alignment\n",
    "s1 = pd.Series([1, 2], index=['a', 'b'])\n",
    "s1"
   ]
  },
  {
   "cell_type": "code",
   "execution_count": null,
   "metadata": {},
   "outputs": [],
   "source": [
    "# Second series for alignment\n",
    "s2 = pd.Series([4, 3], index=['b', 'a'])\n",
    "s2"
   ]
  },
  {
   "cell_type": "markdown",
   "metadata": {},
   "source": [
    "### 시리즈 간의 연산은 간단하게 연산자를 사용할 수 있다. \n",
    "\n",
    "스칼라 값을 Series에 적용하는 것 또한 가능하다. "
   ]
  },
  {
   "cell_type": "code",
   "execution_count": null,
   "metadata": {},
   "outputs": [],
   "source": [
    "# add them\n",
    "s1 + s2"
   ]
  },
  {
   "cell_type": "code",
   "execution_count": null,
   "metadata": {},
   "outputs": [],
   "source": [
    "# multiply all values in s3 by 2\n",
    "s1 * 2"
   ]
  },
  {
   "cell_type": "markdown",
   "metadata": {},
   "source": [
    "스칼라 값으로 Series를 만드는 경우, pandas가 실제로 수행하는 작업은 다음과 같다. "
   ]
  },
  {
   "cell_type": "code",
   "execution_count": null,
   "metadata": {},
   "outputs": [],
   "source": [
    "# scalar series\n",
    "temp = pd.Series(2)\n",
    "print(temp)"
   ]
  },
  {
   "cell_type": "code",
   "execution_count": null,
   "metadata": {},
   "outputs": [],
   "source": [
    "# scalar series using s3's index\n",
    "t = pd.Series(2, s1.index)\n",
    "t"
   ]
  },
  {
   "cell_type": "markdown",
   "metadata": {},
   "source": [
    "두 객체의 인덱스가 동일하므로 그 값을 나란히 곱할 수 있다. \n",
    "우선 스칼라 값을 갖는 Series 하나를 생성하는데, 이때 연산 대상 Series와 동일한 인덱스를 사용한다.  \n",
    "그 다음엔 두 Series 객체의 인덱스(길이)가 동일하므로 그 값을 나란히 곱할 수 있게 된다.  "
   ]
  },
  {
   "cell_type": "code",
   "execution_count": null,
   "metadata": {},
   "outputs": [],
   "source": [
    "# multiply s1 by t\n",
    "s1 * t"
   ]
  },
  {
   "cell_type": "markdown",
   "metadata": {},
   "source": [
    "정렬할 때 인덱스 레이블이 반드시 필요한 것은 아니다.  \n",
    "\n",
    "pandas는 정렬을 할 수 없는 아이템에 대해서는 `NaN`을 반환한다.  \n",
    "### 인덱스가 다른 Series 간의 연산은 `NaN`을 반환"
   ]
  },
  {
   "cell_type": "code",
   "execution_count": null,
   "metadata": {},
   "outputs": [],
   "source": [
    "# we will add this to s1\n",
    "s3 = pd.Series([5, 6], index=['b', 'c'])\n",
    "s3"
   ]
  },
  {
   "cell_type": "code",
   "execution_count": null,
   "metadata": {},
   "outputs": [],
   "source": [
    "# s1 and s3 have different sets of index labels\n",
    "# NaN will result for a and c\n",
    "s1 + s3"
   ]
  },
  {
   "cell_type": "markdown",
   "metadata": {},
   "source": [
    "서로의 인덱스가 맞지 않는 경우 연산이 되지 않는다.  \n",
    "대상 Series와 동일한 인덱스 레이블이 없는 경우 pandas는 기본적으로 `NaN`을 반환한다.  \n",
    "이는 NumPy와 비교하여 pandas가 갖는 중요한 특징이다. (!)  \n",
    "일치하지 않는 레이블이 있다고 오류를 발생시키면 안되는 것이다. 이는 일부 데이터의 유실이 있지만, 그 결과를 수용해도 되는 상황에 대한 배려이다.  \n",
    "작업은 진행하되, `NaN`을 반환함으로써 이슈가 있음을, 그러나 그것이 작업의 진행을 막아버리는 문제는 아닐 수 있음을 알려주는 것이다.  "
   ]
  },
  {
   "cell_type": "markdown",
   "metadata": {},
   "source": [
    "### 인덱스가 같은 로우 연산이 데카르트 곱 형태로 나타난다.\n",
    "pandas에서는 레이블이 유일해야 할 필요가 없다. 정렬 작업은 실제로는 두 Series의 데카르트 곱(artesian product, 곱집합)을 실행하는 일이다.  \n",
    "a라는 레이블이 Series1에는 n개가 있고 Series2에는 m개가 있다면 정렬 결과는 n*m개의 로우가 생성된다. "
   ]
  },
  {
   "cell_type": "code",
   "execution_count": null,
   "metadata": {},
   "outputs": [],
   "source": [
    "# 2 'a' labels\n",
    "s1 = pd.Series([1.0, 2.0, 3.0], index=['a', 'a', 'b'])\n",
    "s1"
   ]
  },
  {
   "cell_type": "code",
   "execution_count": null,
   "metadata": {},
   "outputs": [],
   "source": [
    "# 3 'a' labels\n",
    "s2 = pd.Series([4.0, 5.0, 6.0, 7.0], index=['a', 'a', 'c', 'a'])\n",
    "s2"
   ]
  },
  {
   "cell_type": "markdown",
   "metadata": {},
   "source": [
    "둘을 연산하면 인덱스 레이블 'a'는 6개가 나타나게 된다.  \n",
    "그리고 연산할 수 없는 'b'와 'c'는 `NaN`이 표시된다.  "
   ]
  },
  {
   "cell_type": "code",
   "execution_count": null,
   "metadata": {},
   "outputs": [],
   "source": [
    "# will result in 6 'a' index labels, and NaN for b and c\n",
    "s1 + s2"
   ]
  },
  {
   "cell_type": "markdown",
   "metadata": {},
   "source": [
    "# Boolean selection\n",
    "불리언 선택\n",
    "\n",
    "인덱스는 그 레이블을 통해 Series 내의 값을 검색할 수 있게하는 강력하고 효율적인 수단이지만, 값 자체로 Series의 항목을 검색하고 싶다면 불리언을 이용한다.  \n",
    "\n",
    "Series의 각 값에 논리식을 적용하고, 그 결과를 나타내는 불리언 값들을 갖는 새로운 Series를 반환하게 된다.  \n",
    "그 중 True인 값만 추출하는 등의 작업이 가능하다.  \n",
    "\n",
    "### Series에 비교 연산자 직접 적용하기\n",
    "\n",
    "동일한 인덱스 레이블을 갖는 Series가 만들어지며, 각 레이블의 값에는 수식의 결과가 표현된다.  \n",
    "이 값의 dtype은 bool이다.  "
   ]
  },
  {
   "cell_type": "code",
   "execution_count": null,
   "metadata": {},
   "outputs": [],
   "source": [
    "# which rows have values that are > 3?\n",
    "s = pd.Series(np.arange(0, 5), index=list('abcde'))\n",
    "logical_results = s >= 3\n",
    "logical_results"
   ]
  },
  {
   "cell_type": "markdown",
   "metadata": {},
   "source": [
    "이 bool type의 결과 Series를 이용하여 원래 Series로부터 값을 가져올 수 있다.  \n",
    "이는 불리언 결과를 원래 Series `[]`연산자를 통해 가능하며,  \n",
    "직접  `[]` 연산자 안에 논리식을 직접 넣으면 더욱 간편하게 가능하다."
   ]
  },
  {
   "cell_type": "code",
   "execution_count": null,
   "metadata": {},
   "outputs": [],
   "source": [
    "# select where True\n",
    "s[logical_results]"
   ]
  },
  {
   "cell_type": "code",
   "execution_count": null,
   "metadata": {},
   "outputs": [],
   "source": [
    "# a little shorter version : 5를 넘는 값은 없기 때문에 아무것도 반환되지 않는다.\n",
    "s[s > 5]"
   ]
  },
  {
   "cell_type": "markdown",
   "metadata": {},
   "source": [
    "정상적인 파이썬 문법에서는 다중 논리식을 사용할 수 없다."
   ]
  },
  {
   "cell_type": "code",
   "execution_count": null,
   "metadata": {},
   "outputs": [],
   "source": [
    "# commented as it throws an exception\n",
    "# s[s >= 2 and s < 5]"
   ]
  },
  {
   "cell_type": "markdown",
   "metadata": {},
   "source": [
    "대신 괄호로 묶고 `|`(or) 나 `&`(and) 연산자를 이용한다.  "
   ]
  },
  {
   "cell_type": "code",
   "execution_count": null,
   "metadata": {},
   "outputs": [],
   "source": [
    "# correct syntax\n",
    "s[(s >=2) & (s < 5)]"
   ]
  },
  {
   "cell_type": "markdown",
   "metadata": {},
   "source": [
    "### `boolean.all()` and `boolean.any()`\n",
    "Series의 모든 값이 주어진 조건을 만족하는지 확인하려면 `.all()` 메서드를 사용하면 된다.  \n",
    "반대로 주어진 조건을 만족하는 값이 하나라도 있으면 True를 반환하는 `.any()` 메서들가 있다. "
   ]
  },
  {
   "cell_type": "code",
   "execution_count": null,
   "metadata": {},
   "outputs": [],
   "source": [
    "# are all items >= 0?\n",
    "(s >= 0).all()"
   ]
  },
  {
   "cell_type": "code",
   "execution_count": null,
   "metadata": {},
   "outputs": [],
   "source": [
    "# any items < 2?\n",
    "s[s < 2].any()"
   ]
  },
  {
   "cell_type": "markdown",
   "metadata": {},
   "source": [
    "### `boolean.sum()`\n",
    "`.sum()`을 사용하면 조건을 만족하는 아이템의 개수를 알 수 있다. 불리언 값으로 이루어진 Series에서, True = 1, False = 0으로 취급하기 때문이다.  "
   ]
  },
  {
   "cell_type": "code",
   "execution_count": null,
   "metadata": {},
   "outputs": [],
   "source": [
    "# how many values < 2?\n",
    "(s < 2).sum()"
   ]
  },
  {
   "cell_type": "markdown",
   "metadata": {},
   "source": [
    "# Reindexing a Series\n",
    "pandas에서 리인덱싱은 Series의 데이터가 어떠한 레이블 집합을 따르게 만드는 과정이다. 리인덱싱은 pandas가 수행하는 상당수의 정렬 작업에서 사용되는 핵심 과정이다.  \n",
    "\n",
    "리인덱싱이 하는 일 중 몇 가지는 다음과 같다.  \n",
    "- 어떤 레이블 집합과 일치하게 기존 데이터를 재정렬\n",
    "- 어떤 레이블에 대한 데이터가 없을 경우 `NaN`을 삽입\n",
    "- 어떤 종류의 로직을 통한 결측 데이터 채우기(기본 값은 `NaN`)\n",
    "\n",
    "### `.index` attribute 활용\n",
    "리인덱싱은 Series의 `.index` 어트리뷰트에 새 인덱스를 할당하기만 하면 되는 쉬운 작업이다.  "
   ]
  },
  {
   "cell_type": "code",
   "execution_count": null,
   "metadata": {},
   "outputs": [],
   "source": [
    "# sample series of five items\n",
    "np.random.seed(123456)\n",
    "s = pd.Series(np.random.randn(5))\n",
    "s"
   ]
  },
  {
   "cell_type": "markdown",
   "metadata": {},
   "source": [
    "리스트로 주어주며, 할당하는 인덱스의 수는 로우의 수와 일치해야하며, 불일치 경우 오류가 발생한다.  "
   ]
  },
  {
   "cell_type": "code",
   "execution_count": null,
   "metadata": {},
   "outputs": [],
   "source": [
    "# change the index\n",
    "s.index = ['a', 'b', 'c', 'd', 'e']\n",
    "s"
   ]
  },
  {
   "cell_type": "markdown",
   "metadata": {},
   "source": [
    "### `.reindex()` method의 다양한 활용\n",
    "`.reindex()` 메서드를 사용하면 좀 더 유연한 방법으로 새 인덱스를 만들 수 있다.  \n",
    "\n",
    "랜덤 Series이다. "
   ]
  },
  {
   "cell_type": "code",
   "execution_count": null,
   "metadata": {},
   "outputs": [],
   "source": [
    "# a series that we will reindex\n",
    "np.random.seed(123456)\n",
    "s1 = pd.Series(np.random.randn(4), ['a', 'b', 'c', 'd'])\n",
    "s1"
   ]
  },
  {
   "cell_type": "markdown",
   "metadata": {},
   "source": [
    "예를 들어 값의 개수와 일치하지 않는 수의 레이블로 새 인덱스를 할당하려는 경우,\n",
    "\n",
    "다음은 새 인덱스, 없는 인덱스, 중복된 인덱스를 혼합하여 Series를 리인덱싱한 결과이다.  \n",
    "\n",
    "기존 버전은 `'g'` 에 해당하는 값을 `NaN`으로 반환하지만, 현재 버전의 경우 Traceback을 발생시킨다.  \n",
    "\n",
    "```ValueError: cannot reindex on an axis with duplicate labels```"
   ]
  },
  {
   "cell_type": "code",
   "execution_count": null,
   "metadata": {
    "scrolled": true
   },
   "outputs": [],
   "source": [
    "# reindex with different number of labels\n",
    "# results in dropped rows and/or NaN's\n",
    "s2 = s1.reindex(['a', 'c', 'g'])\n",
    "s2"
   ]
  },
  {
   "cell_type": "markdown",
   "metadata": {},
   "source": [
    "#### warning: `.reindex()`는 복제된 Series에 새 인덱스 레이블을 적용해 반환함. \n",
    "이 메서드는 원래의 Series에 대한 in-place modification이 아니다.  \n",
    "각 레이블에 대한 데이터는 원래의 Series로부터 복사된 것이다. \n",
    "\n",
    "    원래의 Series에 없는 레이블의 경우엔 그 값으로 `NaN`이 할당되었었고, 새 인덱스에 해당되지 않는 기존의 로우는 삭제되는 방식이었다.  \n",
    "\n",
    "리인덱싱은 레이블이 일치하지 않는 두 Series의 값에 대해 작업할 때 유용하다.  \n",
    "\n",
    "보통 두 Series가 하나는 정수 타입의 레이블, 다른 하나는 문자열 타입의 레이블을 갖는 경우인데, 이는 서로 다른 원격지에서 데이터를 가져왔을 때 흔히 있는 일이다.  \n",
    "아래의 경우 인덱스 데이터 타입이 다른 경우이다. 사람에겐 레이블의 의미가 동일하지만 컴퓨터는 다르니까.  \n",
    "이럴 경우 정수 타입을 간단하게 바꿔주는 것으로 문제를 해결할 수 있다.  "
   ]
  },
  {
   "cell_type": "code",
   "execution_count": null,
   "metadata": {},
   "outputs": [],
   "source": [
    "# different types for the same values of labels\n",
    "# causes big trouble\n",
    "s1 = pd.Series([0, 1, 2], index=[0, 1, 2])\n",
    "s2 = pd.Series([3, 4, 5], index=['0', '1', '2'])\n",
    "s1 + s2"
   ]
  },
  {
   "cell_type": "code",
   "execution_count": null,
   "metadata": {},
   "outputs": [],
   "source": [
    "# reindex by casting the label types\n",
    "# and we will get the desired result\n",
    "s2.index = s2.index.values.astype(int)\n",
    "s1 + s2"
   ]
  },
  {
   "cell_type": "markdown",
   "metadata": {},
   "source": [
    "#### 없는 인덱스에 값을 넣으며 Series 값을 추가하는 `.reindx(fill_value = )`\n",
    "`.reindex()`메서드는 Series에서 찾을 수 없는 레이블의 경우 **결측 값(missing value)로 간주하고 `NaN`을 삽입**하는데(현재는 오류를 반환하지만 사라진 기존의 방식), 이는 fill_value 파라미터를 사용해 변경할 수 있다.  \n",
    "기본값이 `NaN`인데 0으로 바꾸어 넣는 것은 다음과 같다. "
   ]
  },
  {
   "cell_type": "code",
   "execution_count": null,
   "metadata": {},
   "outputs": [],
   "source": [
    "# fill with 0 instead of NaN\n",
    "s2 = s.copy()\n",
    "s2.reindex(['a', 'f'], fill_value=0)"
   ]
  },
  {
   "cell_type": "markdown",
   "metadata": {},
   "source": [
    "#### 보간법 : `.reindx(method = [ffill | bfill])`\n",
    "시계열과 같이 순서가 있는 데이터의 경우 리인덱싱을 수행함으로써 보간법(interpolation), 즉 값을 채우는 작업이 가능하다. (10장에서 더 자세히)  "
   ]
  },
  {
   "cell_type": "code",
   "execution_count": null,
   "metadata": {},
   "outputs": [],
   "source": [
    "# create example to demonstrate fills\n",
    "s3 = pd.Series(['red', 'green', 'blue'], index=[0, 3, 5])\n",
    "s3"
   ]
  },
  {
   "cell_type": "markdown",
   "metadata": {},
   "source": [
    "다음은 흔히 마지막 유효 값(last know values)라고 부르는 정방향 채우기(forward filling)의 개념이다.  \n",
    "인덱스에 `np.arange(0,7)`로 연속된 정수 인덱스가 생성되고, 새 인덱스 레이블에는 `NaN`이 아닌 이전의 값이 할당되는 방식이다.  \n",
    "\n",
    "인덱스 레이블 1, 2에는 레이블 0의 값인 red가 할당되고, 4는 3의 값, 6에는 5값이 할당되었다.  "
   ]
  },
  {
   "cell_type": "code",
   "execution_count": null,
   "metadata": {
    "scrolled": true
   },
   "outputs": [],
   "source": [
    "# forward fill example\n",
    "s3.reindex(np.arange(0,7), method='ffill')"
   ]
  },
  {
   "cell_type": "markdown",
   "metadata": {},
   "source": [
    "다음은 역방향 채우기(backward filling)의 개념이다.  \n",
    "\n",
    "여기서 레이블 6은 이전 값(즉 레이블 7의 값, 그러나 레이블 7이 없음)이 없으므로 `NaN`이 할당되었다.  \n",
    "레이블 4에는 5의 값이, 레이블 2와 1에는 3의 값인 green이 할당되었다.  "
   ]
  },
  {
   "cell_type": "code",
   "execution_count": null,
   "metadata": {},
   "outputs": [],
   "source": [
    "# backwards fill example\n",
    "s3.reindex(np.arange(0,7), method='bfill')"
   ]
  },
  {
   "cell_type": "markdown",
   "metadata": {},
   "source": [
    "# Modifying a Series in-place\n",
    "시리즈 즉석 변경\n",
    "\n",
    "Series의 즉석 변경은 조금 논란의 여지가 있는 주제이다.  \n",
    "가급적이면 복제되어 반환된 새 Series에 대해 변경 작업을 수행하는 방법이 선호된다.  \n",
    "\n",
    "그러나 필요하다면 원래 Series에 대해 즉석에서 바로 값을 변경하거나, 로우를 추가/제거하는 일이 가능하다.  \n",
    "Series에 즉석에서 로우를 추가하려면 기존에 없던 새로운 인덱스 레이블에 직접 값을 할당하면 된다. 다음은 Series 객체에 아이템을 추가하는 예이다.  "
   ]
  },
  {
   "cell_type": "code",
   "execution_count": null,
   "metadata": {},
   "outputs": [],
   "source": [
    "# generate a Series to play with\n",
    "np.random.seed(123456)\n",
    "s = pd.Series(np.random.randn(3), index=['a', 'b', 'c'])\n",
    "s"
   ]
  },
  {
   "cell_type": "markdown",
   "metadata": {},
   "source": [
    "즉석에서 값을 변경하거나 추가하려면 직접 할당을 하면 된다. "
   ]
  },
  {
   "cell_type": "code",
   "execution_count": null,
   "metadata": {},
   "outputs": [],
   "source": [
    "# change a value in the Series\n",
    "# this is done in-place\n",
    "# a new Series is not returned that has a modified value\n",
    "s['d'] = 100\n",
    "s"
   ]
  },
  {
   "cell_type": "code",
   "execution_count": null,
   "metadata": {},
   "outputs": [],
   "source": [
    "# modify the value at 'd' in-place\n",
    "s['d'] = -100\n",
    "s"
   ]
  },
  {
   "cell_type": "markdown",
   "metadata": {},
   "source": [
    "Series에서 로우를 제거하려면 `.del()` 함수에 그 인덱스 레이블을 전달하면 된다.  \n",
    "다음은 인덱스 레이블 'a'에 해당하는 로우를 제거하는 방식이다.  "
   ]
  },
  {
   "cell_type": "code",
   "execution_count": null,
   "metadata": {},
   "outputs": [],
   "source": [
    "# remove a row / item\n",
    "del(s['a'])\n",
    "s"
   ]
  },
  {
   "cell_type": "markdown",
   "metadata": {},
   "source": [
    "    원래의 Series에 아이템을 추가하거나 제거할 목적이 아니라면, 불리언 선택을 통해 `pd.concat()`을 사용하면 된다. \n",
    "\n",
    "슬라이싱과 관련해서 (이전에 잠시 알아봤듯) 슬라이스의 결과가 원래의 Series를 바라본다는 것이다.  \n",
    "따라서 슬라이싱 결과에 변경을 가하면 원래의 Series도 변경된다.  "
   ]
  },
  {
   "cell_type": "code",
   "execution_count": null,
   "metadata": {},
   "outputs": [],
   "source": [
    "copy = s.copy() # preserve s\n",
    "\n",
    "slice = copy[:2] # slice with first two rows\n",
    "slice"
   ]
  },
  {
   "cell_type": "code",
   "execution_count": null,
   "metadata": {},
   "outputs": [],
   "source": [
    "# change item with label 10 to 1000\n",
    "slice['b'] = 0\n",
    "# and see it in the source\n",
    "copy"
   ]
  }
 ],
 "metadata": {
  "anaconda-cloud": {},
  "kernelspec": {
   "display_name": "Python 3 (ipykernel)",
   "language": "python",
   "name": "python3"
  },
  "language_info": {
   "codemirror_mode": {
    "name": "ipython",
    "version": 3
   },
   "file_extension": ".py",
   "mimetype": "text/x-python",
   "name": "python",
   "nbconvert_exporter": "python",
   "pygments_lexer": "ipython3",
   "version": "3.8.5"
  },
  "latex_envs": {
   "LaTeX_envs_menu_present": true,
   "autoclose": true,
   "autocomplete": true,
   "bibliofile": "biblio.bib",
   "cite_by": "apalike",
   "current_citInitial": 1,
   "eqLabelWithNumbers": true,
   "eqNumInitial": 1,
   "hotkeys": {
    "equation": "Ctrl-E",
    "itemize": "Ctrl-I"
   },
   "labels_anchors": false,
   "latex_user_defs": false,
   "report_style_numbering": false,
   "user_envs_cfg": false
  },
  "toc": {
   "base_numbering": 1,
   "nav_menu": {},
   "number_sections": true,
   "sideBar": true,
   "skip_h1_title": false,
   "title_cell": "Table of Contents",
   "title_sidebar": "Contents",
   "toc_cell": true,
   "toc_position": {
    "height": "calc(100% - 180px)",
    "left": "10px",
    "top": "150px",
    "width": "320px"
   },
   "toc_section_display": true,
   "toc_window_display": true
  }
 },
 "nbformat": 4,
 "nbformat_minor": 1
}

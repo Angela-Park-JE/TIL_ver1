{
 "cells": [
  {
   "cell_type": "markdown",
   "metadata": {
    "toc": true
   },
   "source": [
    "<h1>Table of Contents<span class=\"tocSkip\"></span></h1>\n",
    "<div class=\"toc\"><ul class=\"toc-item\"><li><span><a href=\"#Configuring-pandas\" data-toc-modified-id=\"Configuring-pandas-1\"><span class=\"toc-item-num\">1&nbsp;&nbsp;</span>Configuring pandas</a></span></li><li><span><a href=\"#데이터-접근\" data-toc-modified-id=\"데이터-접근-2\"><span class=\"toc-item-num\">2&nbsp;&nbsp;</span>데이터 접근</a></span></li><li><span><a href=\"#로컬-파일\" data-toc-modified-id=\"로컬-파일-3\"><span class=\"toc-item-num\">3&nbsp;&nbsp;</span>로컬 파일</a></span><ul class=\"toc-item\"><li><ul class=\"toc-item\"><li><span><a href=\"#CSV-데이터셋-예제:-msft.csv\" data-toc-modified-id=\"CSV-데이터셋-예제:-msft.csv-3.0.1\"><span class=\"toc-item-num\">3.0.1&nbsp;&nbsp;</span>CSV 데이터셋 예제: msft.csv</a></span></li></ul></li><li><span><a href=\"#Reading-a-CSV-into-a-DataFrame\" data-toc-modified-id=\"Reading-a-CSV-into-a-DataFrame-3.1\"><span class=\"toc-item-num\">3.1&nbsp;&nbsp;</span>Reading a CSV into a DataFrame</a></span></li><li><span><a href=\"#Specifying-the-index-column-when-reading-a-CSV-file\" data-toc-modified-id=\"Specifying-the-index-column-when-reading-a-CSV-file-3.2\"><span class=\"toc-item-num\">3.2&nbsp;&nbsp;</span>Specifying the index column when reading a CSV file</a></span></li><li><span><a href=\"#Data-type-inference-and-specification\" data-toc-modified-id=\"Data-type-inference-and-specification-3.3\"><span class=\"toc-item-num\">3.3&nbsp;&nbsp;</span>Data type inference and specification</a></span></li><li><span><a href=\"#Specifying-column-names\" data-toc-modified-id=\"Specifying-column-names-3.4\"><span class=\"toc-item-num\">3.4&nbsp;&nbsp;</span>Specifying column names</a></span></li><li><span><a href=\"#Specifying-specific-columns-to-load\" data-toc-modified-id=\"Specifying-specific-columns-to-load-3.5\"><span class=\"toc-item-num\">3.5&nbsp;&nbsp;</span>Specifying specific columns to load</a></span></li><li><span><a href=\"#Saving-a-DataFrame-to-a-CSV\" data-toc-modified-id=\"Saving-a-DataFrame-to-a-CSV-3.6\"><span class=\"toc-item-num\">3.6&nbsp;&nbsp;</span>Saving a DataFrame to a CSV</a></span></li><li><span><a href=\"#General-field-delimited-data\" data-toc-modified-id=\"General-field-delimited-data-3.7\"><span class=\"toc-item-num\">3.7&nbsp;&nbsp;</span>General field-delimited data</a></span></li><li><span><a href=\"#Handling-variants-of-formats-in-field-delimited-data\" data-toc-modified-id=\"Handling-variants-of-formats-in-field-delimited-data-3.8\"><span class=\"toc-item-num\">3.8&nbsp;&nbsp;</span>Handling variants of formats in field-delimited data</a></span><ul class=\"toc-item\"><li><span><a href=\"#(skiprows-=-[])-:-헤더-지우기\" data-toc-modified-id=\"(skiprows-=-[])-:-헤더-지우기-3.8.1\"><span class=\"toc-item-num\">3.8.1&nbsp;&nbsp;</span><code>(skiprows = [])</code> : 헤더 지우기</a></span></li><li><span><a href=\"#(skipfooter-=-[])-:-푸터-지우기\" data-toc-modified-id=\"(skipfooter-=-[])-:-푸터-지우기-3.8.2\"><span class=\"toc-item-num\">3.8.2&nbsp;&nbsp;</span><code>(skipfooter = [])</code> : 푸터 지우기</a></span></li><li><span><a href=\"#(nrows-=-)-:-처음-몇-개의-로우만-불러오기\" data-toc-modified-id=\"(nrows-=-)-:-처음-몇-개의-로우만-불러오기-3.8.3\"><span class=\"toc-item-num\">3.8.3&nbsp;&nbsp;</span><code>(nrows = )</code> : 처음 몇 개의 로우만 불러오기</a></span></li></ul></li><li><span><a href=\"#Reading-and-writing-data-in-Excel-format\" data-toc-modified-id=\"Reading-and-writing-data-in-Excel-format-3.9\"><span class=\"toc-item-num\">3.9&nbsp;&nbsp;</span>Reading and writing data in Excel format</a></span><ul class=\"toc-item\"><li><span><a href=\"#pd.read_excel()\" data-toc-modified-id=\"pd.read_excel()-3.9.1\"><span class=\"toc-item-num\">3.9.1&nbsp;&nbsp;</span><code>pd.read_excel()</code></a></span></li><li><span><a href=\"#.to_excel(),-to-xls\" data-toc-modified-id=\".to_excel(),-to-xls-3.9.2\"><span class=\"toc-item-num\">3.9.2&nbsp;&nbsp;</span><code>.to_excel()</code>, to xls</a></span></li><li><span><a href=\"#.to_excel(),-to-xlsx\" data-toc-modified-id=\".to_excel(),-to-xlsx-3.9.3\"><span class=\"toc-item-num\">3.9.3&nbsp;&nbsp;</span><code>.to_excel()</code>, to xlsx</a></span></li></ul></li></ul></li><li><span><a href=\"#Reading-and-writing-JSON-files\" data-toc-modified-id=\"Reading-and-writing-JSON-files-4\"><span class=\"toc-item-num\">4&nbsp;&nbsp;</span>Reading and writing JSON files</a></span></li><li><span><a href=\"#HTML\" data-toc-modified-id=\"HTML-5\"><span class=\"toc-item-num\">5&nbsp;&nbsp;</span>HTML</a></span><ul class=\"toc-item\"><li><span><a href=\"#HTML-데이터-읽기\" data-toc-modified-id=\"HTML-데이터-읽기-5.1\"><span class=\"toc-item-num\">5.1&nbsp;&nbsp;</span>HTML 데이터 읽기</a></span></li></ul></li><li><span><a href=\"#HDF5(pytable-설치-문제-해결-후-다시-하기로)\" data-toc-modified-id=\"HDF5(pytable-설치-문제-해결-후-다시-하기로)-6\"><span class=\"toc-item-num\">6&nbsp;&nbsp;</span>HDF5(pytable 설치 문제 해결 후 다시 하기로)</a></span><ul class=\"toc-item\"><li><span><a href=\"#Reading-and-writing-HDF5-format-files\" data-toc-modified-id=\"Reading-and-writing-HDF5-format-files-6.1\"><span class=\"toc-item-num\">6.1&nbsp;&nbsp;</span>Reading and writing HDF5 format files</a></span></li></ul></li><li><span><a href=\"#Reading-and-writing-from/to-SQL-databases\" data-toc-modified-id=\"Reading-and-writing-from/to-SQL-databases-7\"><span class=\"toc-item-num\">7&nbsp;&nbsp;</span>Reading and writing from/to SQL databases</a></span></li><li><span><a href=\"#웹-데이터\" data-toc-modified-id=\"웹-데이터-8\"><span class=\"toc-item-num\">8&nbsp;&nbsp;</span>웹 데이터</a></span><ul class=\"toc-item\"><li><span><a href=\"#Accessing-data-on-the-web-and-in-the-cloud\" data-toc-modified-id=\"Accessing-data-on-the-web-and-in-the-cloud-8.1\"><span class=\"toc-item-num\">8.1&nbsp;&nbsp;</span>Accessing data on the web and in the cloud</a></span><ul class=\"toc-item\"><li><span><a href=\"#try1:\" data-toc-modified-id=\"try1:-8.1.1\"><span class=\"toc-item-num\">8.1.1&nbsp;&nbsp;</span>try1:</a></span></li><li><span><a href=\"#try2:\" data-toc-modified-id=\"try2:-8.1.2\"><span class=\"toc-item-num\">8.1.2&nbsp;&nbsp;</span>try2:</a></span></li></ul></li></ul></li><li><span><a href=\"#원격-데이터-서비스로부터-데이터-읽기\" data-toc-modified-id=\"원격-데이터-서비스로부터-데이터-읽기-9\"><span class=\"toc-item-num\">9&nbsp;&nbsp;</span>원격 데이터 서비스로부터 데이터 읽기</a></span><ul class=\"toc-item\"><li><span><a href=\"#pandas_datareader\" data-toc-modified-id=\"pandas_datareader-9.1\"><span class=\"toc-item-num\">9.1&nbsp;&nbsp;</span><code>pandas_datareader</code></a></span><ul class=\"toc-item\"><li><span><a href=\"#Reading-stock-data-from-Google-Finance\" data-toc-modified-id=\"Reading-stock-data-from-Google-Finance-9.1.1\"><span class=\"toc-item-num\">9.1.1&nbsp;&nbsp;</span>Reading stock data from Google Finance</a></span></li><li><span><a href=\"#라고-하지만-지금은-data_source:-{str,-None}-,--the-data-source-(&quot;iex&quot;,-&quot;fred&quot;,-&quot;ff&quot;)-밖에\" data-toc-modified-id=\"라고-하지만-지금은-data_source:-{str,-None}-,--the-data-source-(&quot;iex&quot;,-&quot;fred&quot;,-&quot;ff&quot;)-밖에-9.1.2\"><span class=\"toc-item-num\">9.1.2&nbsp;&nbsp;</span>라고 하지만 지금은 <code>data_source: {str, None} ,  the data source (\"iex\", \"fred\", \"ff\")</code> 밖에</a></span></li></ul></li><li><span><a href=\"#Retrieving-options-data-from-Google-Finance\" data-toc-modified-id=\"Retrieving-options-data-from-Google-Finance-9.2\"><span class=\"toc-item-num\">9.2&nbsp;&nbsp;</span>Retrieving options data from Google Finance</a></span></li><li><span><a href=\"#Reading-economic-data-from-the-Federal-Reserve-Bank-of-St.-Louis\" data-toc-modified-id=\"Reading-economic-data-from-the-Federal-Reserve-Bank-of-St.-Louis-9.3\"><span class=\"toc-item-num\">9.3&nbsp;&nbsp;</span>Reading economic data from the Federal Reserve Bank of St. Louis</a></span></li><li><span><a href=\"#Accessing-Kenneth-French-data\" data-toc-modified-id=\"Accessing-Kenneth-French-data-9.4\"><span class=\"toc-item-num\">9.4&nbsp;&nbsp;</span>Accessing Kenneth French data</a></span></li><li><span><a href=\"#Reading-from-the-World-Bank\" data-toc-modified-id=\"Reading-from-the-World-Bank-9.5\"><span class=\"toc-item-num\">9.5&nbsp;&nbsp;</span>Reading from the World Bank</a></span><ul class=\"toc-item\"><li><span><a href=\"#wb.get_indicators()\" data-toc-modified-id=\"wb.get_indicators()-9.5.1\"><span class=\"toc-item-num\">9.5.1&nbsp;&nbsp;</span><code>wb.get_indicators()</code></a></span></li><li><span><a href=\"#wb.search(),-wb.get_countries()\" data-toc-modified-id=\"wb.search(),-wb.get_countries()-9.5.2\"><span class=\"toc-item-num\">9.5.2&nbsp;&nbsp;</span><code>wb.search()</code>, <code>wb.get_countries()</code></a></span></li><li><span><a href=\"#wb.download()\" data-toc-modified-id=\"wb.download()-9.5.3\"><span class=\"toc-item-num\">9.5.3&nbsp;&nbsp;</span><code>wb.download()</code></a></span></li><li><span><a href=\"#피봇팅\" data-toc-modified-id=\"피봇팅-9.5.4\"><span class=\"toc-item-num\">9.5.4&nbsp;&nbsp;</span>피봇팅</a></span><ul class=\"toc-item\"><li><span><a href=\"#연도별-평균-수명이-가장-낮은-국가-판별\" data-toc-modified-id=\"연도별-평균-수명이-가장-낮은-국가-판별-9.5.4.1\"><span class=\"toc-item-num\">9.5.4.1&nbsp;&nbsp;</span>연도별 평균 수명이 가장 낮은 국가 판별</a></span></li></ul></li></ul></li></ul></li></ul></div>"
   ]
  },
  {
   "cell_type": "markdown",
   "metadata": {},
   "source": [
    "# 데이터 접근\n",
    "---\n",
    "현실에서의 데이터 분석에 있어서 거의 대부분은 외부로부터의 데이터 로딩이 필요하다. pandas는 파이썬을 기반으로 구현됐으므로, 데이터를 가져오기 위해 파이썬이 제공하는 모든 수단을 이용할 수 있다!!! 또한 엑셀 스프레드시트, 웹사이트, 웹서비스, 데이터베이스, 클라우드 서비스 등 거의 제약 없이 어떤 소스의 데이터라도 접근이 가능하다.  \n",
    "pandas의 `DataFrame` 객체로의 자동 매핑을 통해 다양한 위치와 다양한 포맷을 가진 데이터를 쉽게 이용할 수 있다. 파이썬의 표준 데이터 로딩 함수를 사용하는 경우에는 파이썬 객체를 pandas의 `Series`나 `DataFrame` 객체로 변환하는 작업이 필요하며, 이는 소스코드의 복잡도를 증가시킨다. 그런 복잡함을 경감해주기위해 pandas는 데이터를 곧바로 pandas 객체로 로딩하는 다양한 기능을 제공한다.  \n",
    "\n",
    "로컬 파일  \n",
    "- CSV를 데이터 프레임으로 로딩\n",
    "- CSV 로딩 시 인덱스 칼럼 지정\n",
    "- 데이터 타입의 추론과 지정\n",
    "- 칼럼명 지정\n",
    "- 특정 칼럼의 로딩\n",
    "- 데이터를 CSV로 저장\n",
    "- 필드 구분 데이터로 작업\n",
    "- 필드 구분 데이터의 다양한 형식 다루기\n",
    "- 엑셀 데이터의 읽기와 쓰기  \n",
    "\n",
    "원격 소스의 데이터에 접근하는 방법  \n",
    "- JSON 파일의 읽기와 쓰기\n",
    "- HTML 데이터 읽기\n",
    "- HDF5 파일의 읽기와 쓰기\n",
    "- 웹을 통한 CSV 데이터 접근\n",
    "- 데이터베이스의 읽기와 쓰기\n",
    "- ~야후!와 구글로부터 주식 데이터 읽기~\n",
    "- ~구글파이낸스의 옵션 데이터 가져오기~\n",
    "- 세인트루이스 연방준비은행의 FRED 데이터 가져오기\n",
    "- 케네스 프렌치 데이터에 접근\n",
    "- 세계은행의 데이터 읽기"
   ]
  },
  {
   "cell_type": "markdown",
   "metadata": {},
   "source": [
    "# 웹 데이터\n",
    "---\n",
    "## Accessing data on the web and in the cloud\n",
    "웹을 통한 CSV 데이터 접근\n",
    "\n",
    "인터넷을 통해 웹으로 부터 데이터를 읽어 들이는 일은 매우 흔한 작업이다. pandas는 그 작업을 쉽게 할 수 있게 지원한다.  \n",
    "지금까지 봤던 모든 pandas 함수는 로컬 파일 경로 대신 HTTP URL, FTP 주소, 심지어 Amazon S3 주소까지 가능하다. 또한 모든 작업은 로컬 파일로 작업할 때와 동일하다.  \n",
    "\n",
    "예제에서는 기존 `pd.read_csv()` 함수를 사용하여 HTTP 요청을 만드는 일이 **얼마나 쉬운지** 보여준다. 여기서는 HTTP 쿼리 문자열(query string) 방식으로 Google Finance 웹 서비스로부터 2017년 4월의 마이크로소프트 주식 데이터를 직접 가져오려고 했었다.  \n",
    "하지만 원본 코드(정확히는 적혀있는 주소..?)문제로 수정하였다. 야후 파이낸스에서 마이크로소프트 말고 인텔의 2022-11 한달 주식을 가져오려고 한다. "
   ]
  },
  {
   "cell_type": "code",
   "execution_count": 1,
   "metadata": {},
   "outputs": [
    {
     "name": "stdout",
     "output_type": "stream",
     "text": [
      "1.4.1\n",
      "1.22.4\n",
      "3.8.5 (default, Sep  4 2020, 02:22:02) \n",
      "[Clang 10.0.0 ]\n"
     ]
    }
   ],
   "source": [
    "# import numpy and pandas\n",
    "import numpy as np\n",
    "import pandas as pd\n",
    "\n",
    "# used for dates\n",
    "import datetime\n",
    "from datetime import datetime, date\n",
    "\n",
    "# Set some pandas options controlling output format\n",
    "pd.set_option('display.notebook_repr_html', False)\n",
    "pd.set_option('display.max_columns', 8)\n",
    "pd.set_option('display.max_rows', 10)\n",
    "pd.set_option('display.width', 60)\n",
    "\n",
    "# bring in matplotlib for graphics\n",
    "import matplotlib.pyplot as plt\n",
    "%matplotlib inline\n",
    "\n",
    "# import web crawling libraries\n",
    "import requests\n",
    "from bs4 import BeautifulSoup\n",
    "\n",
    "# version check\n",
    "print(pd.__version__)\n",
    "print(np.__version__)\n",
    "import sys\n",
    "print(sys.version)"
   ]
  },
  {
   "cell_type": "code",
   "execution_count": null,
   "metadata": {
    "scrolled": true
   },
   "outputs": [],
   "source": [
    "# # 원본 코드\n",
    "\n",
    "# # read csv directly from Yahoo! Finance from a URL\n",
    "# msft_hist = pd.read_csv(\n",
    "#     \"http://www.google.com/finance/historical?\" +\n",
    "#     \"q=NASDAQ:MSFT&startdate=Apr+01%2C+2017&\" +\n",
    "#     \"enddate=Apr+30%2C+2017&output=csv\")\n",
    "# msft_hist[:5]"
   ]
  },
  {
   "cell_type": "markdown",
   "metadata": {},
   "source": [
    "### try1: \n",
    "[https://stackoverflow.com/questions/39218742/using-beautifulsoup-to-search-through-yahoo-finance] 이곳을 참고하여 해결해보려 했으나 잘 되지 않았다. "
   ]
  },
  {
   "cell_type": "code",
   "execution_count": 2,
   "metadata": {
    "scrolled": true
   },
   "outputs": [
    {
     "data": {
      "text/plain": [
       "<Response [403]>"
      ]
     },
     "execution_count": 2,
     "metadata": {},
     "output_type": "execute_result"
    }
   ],
   "source": [
    "from bs4 import BeautifulSoup\n",
    "import requests\n",
    "\n",
    "r = requests.get('https://query2.finance.yahoo.com/v8/finance/chart/INTC?formatted=true&crumb=8oF4ERwCRrz&lang=en-US&region=US&includeAdjustedClose=true&interval=1d&period1=1662336000&period2=1670198400&events=capitalGain|div|split&useYfid=true&corsDomain=finance.yahoo.com')\n",
    "r\n",
    "# data = r.json()"
   ]
  },
  {
   "cell_type": "markdown",
   "metadata": {
    "heading_collapsed": true
   },
   "source": [
    "### try2: \n",
    "아래는 [https://www.mattbutton.com/2019/01/24/how-to-scrape-yahoo-finance-and-extract-fundamental-stock-market-data-using-python-lxml-and-pandas/] 을 참고하여 해결하려고 했었던 흔적이다. 잘 되지 않았다. "
   ]
  },
  {
   "cell_type": "code",
   "execution_count": null,
   "metadata": {
    "hidden": true
   },
   "outputs": [],
   "source": [
    "my_url = 'https://finance.yahoo.com/quote/INTC/history?'\n",
    "response = requests.get(my_url)"
   ]
  },
  {
   "cell_type": "code",
   "execution_count": null,
   "metadata": {
    "hidden": true
   },
   "outputs": [],
   "source": [
    "print(\"response.ok : {} , response.status_code : {}\".format(response.ok , response.status_code))"
   ]
  },
  {
   "cell_type": "code",
   "execution_count": null,
   "metadata": {
    "hidden": true
   },
   "outputs": [],
   "source": [
    "print(\"Preview of response.text : \", response.text[:500])"
   ]
  },
  {
   "cell_type": "code",
   "execution_count": null,
   "metadata": {
    "hidden": true
   },
   "outputs": [],
   "source": [
    "def get_page(url):\n",
    "    \"\"\"Download a webpage and return a beautiful soup doc\"\"\"\n",
    "    response = requests.get(url)\n",
    "    if not response.ok:\n",
    "        print('Status code:', response.status_code)\n",
    "        raise Exception('Failed to load page {}'.format(url))\n",
    "    page_content = response.text\n",
    "    doc = BeautifulSoup(page_content, 'html.parser')\n",
    "    return doc"
   ]
  },
  {
   "cell_type": "code",
   "execution_count": null,
   "metadata": {
    "hidden": true,
    "scrolled": false
   },
   "outputs": [],
   "source": [
    "doc = get_page(my_url)\n",
    "print('Type of doc: ',type(doc))"
   ]
  },
  {
   "cell_type": "code",
   "execution_count": null,
   "metadata": {
    "hidden": true
   },
   "outputs": [],
   "source": [
    "from datetime import datetime\n",
    "import lxml\n",
    "from lxml import html\n",
    "import requests\n",
    "import numpy as np\n",
    "import pandas as pd\n",
    "\n",
    "symbol = 'MFT.NZ'\n",
    "\n",
    "url = 'https://finance.yahoo.com/quote/' + symbol + '/balance-sheet?p=' + symbol\n",
    "\n",
    "# Set up the request headers that we're going to use, to simulate\n",
    "# a request by the Chrome browser. Simulating a request from a browser\n",
    "# is generally good practice when building a scraper\n",
    "headers = {\n",
    "    'Accept': 'text/html,application/xhtml+xml,application/xml;q=0.9,image/webp,image/apng,*/*;q=0.8,application/signed-exchange;v=b3',\n",
    "    'Accept-Encoding': 'gzip, deflate, br',\n",
    "    'Accept-Language': 'en-US,en;q=0.9',\n",
    "    'Cache-Control': 'max-age=0',\n",
    "    'Connection': 'close',\n",
    "    'DNT': '1', # Do Not Track Request Header \n",
    "    'Pragma': 'no-cache',\n",
    "    'Referrer': 'https://google.com',\n",
    "    'User-Agent': 'Mozilla/5.0 (Windows NT 10.0; Win64; x64) AppleWebKit/537.36 (KHTML, like Gecko) Chrome/92.0.4515.107 Safari/537.36'\n",
    "}\n",
    "\n",
    "# Fetch the page that we're going to parse, using the request headers\n",
    "# defined above\n",
    "page = requests.get(url, headers=headers)\n",
    "\n",
    "# Parse the page with LXML, so that we can start doing some XPATH queries\n",
    "# to extract the data that we want\n",
    "tree = html.fromstring(page.content)\n",
    "\n",
    "# Smoke test that we fetched the page by fetching and displaying the H1 element\n",
    "tree.xpath(\"//h1/text()\")"
   ]
  },
  {
   "cell_type": "code",
   "execution_count": null,
   "metadata": {
    "hidden": true
   },
   "outputs": [],
   "source": [
    "table_rows = tree.xpath(\"//div[contains(@class, 'D(tbr)')]\")\n",
    "\n",
    "# Ensure that some table rows are found; if none are found, then it's possible\n",
    "# that Yahoo Finance has changed their page layout, or have detected\n",
    "# that you're scraping the page.\n",
    "assert len(table_rows) > 0\n",
    "\n",
    "parsed_rows = []\n",
    "\n",
    "for table_row in table_rows:\n",
    "    parsed_row = []\n",
    "    el = table_row.xpath(\"./div\")\n",
    "    \n",
    "    none_count = 0\n",
    "    \n",
    "    for rs in el:\n",
    "        try:\n",
    "            (text,) = rs.xpath('.//span/text()[1]')\n",
    "            parsed_row.append(text)\n",
    "        except ValueError:\n",
    "            parsed_row.append(np.NaN)\n",
    "            none_count += 1\n",
    "\n",
    "    if (none_count < 4):\n",
    "        parsed_rows.append(parsed_row)\n",
    "\n",
    "df = pd.DataFrame(parsed_rows)\n",
    "df"
   ]
  },
  {
   "cell_type": "code",
   "execution_count": null,
   "metadata": {
    "hidden": true
   },
   "outputs": [],
   "source": [
    "df = pd.DataFrame(parsed_rows)\n",
    "df = df.set_index(0) # Set the index to the first column: 'Period Ending'.\n",
    "df = df.transpose() # Transpose the DataFrame, so that our header contains the account names\n",
    "\n",
    "# Rename the \"Breakdown\" column to \"Date\"\n",
    "cols = list(df.columns)\n",
    "cols[0] = 'Date'\n",
    "df = df.set_axis(cols, axis='columns', inplace=False)\n",
    "\n",
    "df"
   ]
  },
  {
   "cell_type": "code",
   "execution_count": null,
   "metadata": {
    "hidden": true
   },
   "outputs": [],
   "source": [
    "def scrape_table(url):\n",
    "    # Fetch the page that we're going to parse\n",
    "    page = get_page(url);\n",
    "\n",
    "    # Parse the page with LXML, so that we can start doing some XPATH queries\n",
    "    # to extract the data that we want\n",
    "    tree = html.fromstring(page.content)\n",
    "\n",
    "    # Fetch all div elements which have class 'D(tbr)'\n",
    "    table_rows = tree.xpath(\"//div[contains(@class, 'D(tbr)')]\")\n",
    "    \n",
    "    # Ensure that some table rows are found; if none are found, then it's possible\n",
    "    # that Yahoo Finance has changed their page layout, or have detected\n",
    "    # that you're scraping the page.\n",
    "    assert len(table_rows) > 0\n",
    "    \n",
    "    df = parse_rows(table_rows)\n",
    "    df = clean_data(df)\n",
    "        \n",
    "    return df"
   ]
  },
  {
   "cell_type": "code",
   "execution_count": null,
   "metadata": {
    "hidden": true
   },
   "outputs": [],
   "source": [
    "def scrape(symbol):\n",
    "    print('Attempting to scrape data for ' + symbol)\n",
    "\n",
    "    df_balance_sheet = scrape_table('https://finance.yahoo.com/quote/' + symbol + '/balance-sheet?p=' + symbol)\n",
    "    df_balance_sheet = df_balance_sheet.set_index('Date')\n",
    "\n",
    "    df_income_statement = scrape_table('https://finance.yahoo.com/quote/' + symbol + '/financials?p=' + symbol)\n",
    "    df_income_statement = df_income_statement.set_index('Date')\n",
    "    \n",
    "    df_cash_flow = scrape_table('https://finance.yahoo.com/quote/' + symbol + '/cash-flow?p=' + symbol)\n",
    "    df_cash_flow = df_cash_flow.set_index('Date')\n",
    "    \n",
    "    df_joined = df_balance_sheet \\\n",
    "        .join(df_income_statement, on='Date', how='outer', rsuffix=' - Income Statement') \\\n",
    "        .join(df_cash_flow, on='Date', how='outer', rsuffix=' - Cash Flow') \\\n",
    "        .dropna(axis=1, how='all') \\\n",
    "        .reset_index()\n",
    "            \n",
    "    df_joined.insert(1, 'Symbol', symbol)\n",
    "    \n",
    "    return df_joined"
   ]
  },
  {
   "cell_type": "code",
   "execution_count": null,
   "metadata": {
    "hidden": true
   },
   "outputs": [],
   "source": [
    "def scrape_multi(symbols):\n",
    "    return pd.concat([scrape(symbol) for symbol in symbols], sort=False)"
   ]
  },
  {
   "cell_type": "code",
   "execution_count": null,
   "metadata": {
    "hidden": true,
    "scrolled": true
   },
   "outputs": [],
   "source": [
    "symbols = ['MFT.NZ', 'FRE.NZ']\n",
    "df_combined = scrape_multi(symbols)"
   ]
  },
  {
   "cell_type": "markdown",
   "metadata": {},
   "source": [
    "# 원격 데이터 서비스로부터 데이터 읽기\n",
    "과거의 pandas에서는 웹 기반의 다양한 데이터 소스 클래스를 `pandas.io.data`네임 스페이스에서 직접 지원했다. 그러나 버전. 0.19.0부터는 그 부분이 따로 떨어져 나와 `pandas-datareader` 패키지로 리팩토링 되었다고 한다.  \n",
    "\n",
    "이 패키지는 다음과 같은 여러 유용한 데이터 소스로의 접근을 지원한다. \n",
    "\n",
    "- Yahoo! Finance 나 Google Finance 의 일별 주가\n",
    "- Yahoo! Option과 Google 옵션\n",
    "- Enigma 가 제공하는 정형 데이터\n",
    "- 연방준비은행 경제 데이터(FRED, Federal Reserve Economic Data) 라이브러리\n",
    "- Kenneth French 의 데이터 라이브러리\n",
    "- The World Bank\n",
    "- OECD\n",
    "- 유럽 연합 통계청(Eurostat)\n",
    "- 미국증권거래위원회의 에드가 인덱스(EDGAR Index)\n",
    "- 미국 연방퇴직저축투자위원회의 TSP 펀드 데이터\n",
    "- Oanda의 과거 혼율 데이터\n",
    "- Nasdaq 종목 기호\n",
    "\n",
    "    이와 같은 데이터는 외부 소스로부터 가져오므로 수시로 바뀐다. \n",
    "\n",
    "## `pandas_datareader` \n",
    "### Reading stock data from Google Finance\n",
    "불행히도(아니 진작 좀 말씀 해주시지) 이 책을 쓰는 시점에서 Yahoo! API는 변경됐다.  \n",
    "`pandas-datareader`에서 Yahoo! APi를 사용해 구현된 내용은 더 이상 유효하지 않게 됐으므로 여기서는 Google Finance만 이용하게 하겠다고 한다.  \n",
    "\n",
    "웃긴건 지금은 google이아니라 yahoo만 지원한다고 나오다가, 오류를 일으킨다. \n",
    "```\n",
    "data_source='google' is not implemented\n",
    "```\n",
    "\n",
    "어메이징 판다스. 그래서 다들 수작업을 하시나보다. \n",
    "```\n",
    "# read options for MSFT\n",
    "options = pdr.data.Options('MSFT', 'google')\n",
    "///\n",
    "NotImplementedError: currently only yahoo supported\n",
    "```\n",
    "```\n",
    "# read options for MSFT\n",
    "options = pdr.data.Options('MSFT', 'yahoo')\n",
    "///\n",
    "ImmediateDeprecationError: \n",
    "Yahoo Options has been immediately deprecated due to large breaks in the API without the\n",
    "introduction of a stable replacement. Pull Requests to re-enable these data\n",
    "connectors are welcome.\n",
    "\n",
    "See https://github.com/pydata/pandas-datareader/issues\n",
    "\n",
    "\n",
    "```\n",
    "\n",
    "\n",
    "\n",
    "### 라고 하지만 지금은 `data_source: {str, None} ,  the data source (\"iex\", \"fred\", \"ff\")` 밖에 \n",
    "\n",
    "`pandas-datareader`를 사용하기 위해서는 import 해야한다.  \n",
    "그리고 `DataReader` 함수에 종목 기호, 데이터 소스(Google), 시작일, 종료일을 전달해 Google Finance의 주식 데이터를 가져와 데이터 프레임으로 객체화할 수 있다. "
   ]
  },
  {
   "cell_type": "code",
   "execution_count": 3,
   "metadata": {},
   "outputs": [],
   "source": [
    "# import data reader package\n",
    "import pandas_datareader as pdr"
   ]
  },
  {
   "cell_type": "code",
   "execution_count": null,
   "metadata": {},
   "outputs": [],
   "source": [
    "# # read from google and display the head of the data\n",
    "# start = datetime(2017, 4, 1)\n",
    "# end = datetime(2017, 4, 30)\n",
    "# goog = pdr.data.DataReader(\"MSFT\", 'google', start, end)\n",
    "# goog[:5]"
   ]
  },
  {
   "cell_type": "markdown",
   "metadata": {},
   "source": [
    "## Retrieving options data from Google Finance"
   ]
  },
  {
   "cell_type": "code",
   "execution_count": null,
   "metadata": {},
   "outputs": [],
   "source": [
    "# read options for MSFT\n",
    "options = pdr.data.Options('MSFT', 'yahoo')"
   ]
  },
  {
   "cell_type": "code",
   "execution_count": null,
   "metadata": {},
   "outputs": [],
   "source": [
    "options.expiry_dates"
   ]
  },
  {
   "cell_type": "code",
   "execution_count": null,
   "metadata": {},
   "outputs": [],
   "source": [
    "data = options.get_options_data(expiry=options.expiry_dates[0])\n",
    "data.iloc[:5,:3]"
   ]
  },
  {
   "cell_type": "code",
   "execution_count": null,
   "metadata": {},
   "outputs": [],
   "source": [
    "# get all puts at strike price of $30 (first four columns only)\n",
    "data.loc[(30, slice(None), 'put'), :].iloc[0:5, 0:3]"
   ]
  },
  {
   "cell_type": "code",
   "execution_count": null,
   "metadata": {},
   "outputs": [],
   "source": [
    "# put options at strike of $80, between 2017-06-01 and 2017-06-30\n",
    "data.loc[(30, slice('20180119','20180130'), 'put'), :] \\\n",
    "    .iloc[:, 0:3]"
   ]
  },
  {
   "cell_type": "markdown",
   "metadata": {},
   "source": [
    "## Reading economic data from the Federal Reserve Bank of St. Louis\n",
    "세인트루이스 연방준비은행의 FRED 데이터 가져오기\n",
    "\n",
    "세인트루이스 연방준비은행 경제 데이터는 80개 이상의 데이터 소스로부터 50만 개 이상의 미국과 국제 시계열 데이터를 제공하고 있으며, 이는 꾸준히 늘어나고 있다. (https://fred.stlouisfed.org/)  \n",
    "\n",
    "FRED 데이터는 `FredReader`클래스에 원하는 데이터의 태그와 기간을 전달해 가져올 수 있다. 특정기간의 GDP를 가져와보자.  \n",
    "\n",
    "```\n",
    "# load data\n",
    "data = pdr.data.FredReader()\n",
    "# when read it\n",
    "data.read()\n",
    "```\n"
   ]
  },
  {
   "cell_type": "code",
   "execution_count": 6,
   "metadata": {},
   "outputs": [
    {
     "data": {
      "text/plain": [
       "                  GDP\n",
       "DATE                 \n",
       "2012-01-01  16068.824\n",
       "2012-04-01  16207.130\n",
       "2012-07-01  16319.540\n",
       "2012-10-01  16420.386\n",
       "2013-01-01  16629.050"
      ]
     },
     "execution_count": 6,
     "metadata": {},
     "output_type": "execute_result"
    }
   ],
   "source": [
    "# read GDP data from FRED\n",
    "gdp = pdr.data.FredReader(\"GDP\",\n",
    "                     date(2012, 1, 1), \n",
    "                     date(2014, 1, 27))\n",
    "gdp.read()[:5]"
   ]
  },
  {
   "cell_type": "code",
   "execution_count": 7,
   "metadata": {},
   "outputs": [
    {
     "data": {
      "text/plain": [
       "                  GDP\n",
       "DATE                 \n",
       "2018-01-01  20155.486\n",
       "2018-04-01  20470.197\n",
       "2018-07-01  20687.278\n",
       "2018-10-01  20819.269\n",
       "2019-01-01  21013.085"
      ]
     },
     "execution_count": 7,
     "metadata": {},
     "output_type": "execute_result"
    }
   ],
   "source": [
    "# 최근의 데이터도 불러와지는지 보도록 할까\n",
    "gdp2 = pdr.data.FredReader(symbols = 'GDP', start = date(2018, 1, 1), end = date(2022, 10, 1))\n",
    "gdp2.read()[:5]"
   ]
  },
  {
   "cell_type": "markdown",
   "metadata": {},
   "source": [
    "다른 시계열 데이터를 가져오고 싶다면 첫 번째 파라미터에 식별자를 지정하면 된다. FRED 사이트는 각종 시계열 데이터에 대한 편리한 검색과, 사이트에서의 시각화를 제공한다.  \n",
    "예를 들어 '근로자 보수: 임금 및 급여(Compensation of employees: Wages and salaries)' 데이터의 경우 데이터 아이디가 `A576RC1A027NBEA`이다. "
   ]
  },
  {
   "cell_type": "code",
   "execution_count": 8,
   "metadata": {},
   "outputs": [
    {
     "data": {
      "text/plain": [
       "            A576RC1A027NBEA\n",
       "DATE                       \n",
       "1929-01-01             50.5\n",
       "1930-01-01             46.2\n",
       "1931-01-01             39.2\n",
       "1932-01-01             30.5\n",
       "1933-01-01             29.0"
      ]
     },
     "execution_count": 8,
     "metadata": {},
     "output_type": "execute_result"
    }
   ],
   "source": [
    "# Get Compensation of employees: Wages and salaries\n",
    "pdr.data.FredReader(\"A576RC1A027NBEA\", start = date(1929, 1, 1), end = date(2019, 1, 1)).read()[:5]"
   ]
  },
  {
   "cell_type": "markdown",
   "metadata": {},
   "source": [
    "## Accessing Kenneth French data\n",
    "케네스 프렌치 데이터에 접근\n",
    "\n",
    "케네스 프렌치(Kenneth R. French)는 Dartmouth College의 경영대학원(Tuck School of Business)의 교수이며, 파마-프렌치 3요인 모델(Fama-French 3-factor model)을 개발한 장본인이다. 케네스는 방대한 경제 데이터 라이브러리를 구축해 웹을 통해 접근할 수 있게 했는데, (http://mba.tuck.dartmouth.edu/pages/faculty/ken.french/data_library.html) 에서 각종 데이터를 자세한 설명과 함께 다운로드 할 수 있다.  \n",
    "\n",
    "데이터는 ZIP 파일로 되어있는데, 이는 `FmaFrenchReader` 함수에 데이터셋의 파일명(.zip 확장자를 제외한 이름)을 지정해 `DataFrame`으로 직접 로딩할 수 있다.  \n",
    "예를 들어 다음은 Global Factors 데이터를 읽어들이는 경우인데, 해당 데이터가 비어있는 이유로 데이터를 가져올 수 없었다. "
   ]
  },
  {
   "cell_type": "code",
   "execution_count": 9,
   "metadata": {},
   "outputs": [
    {
     "data": {
      "text/plain": [
       "Empty DataFrame\n",
       "Columns: [Mkt-RF, SMB, HML, WML, RF]\n",
       "Index: []"
      ]
     },
     "execution_count": 9,
     "metadata": {},
     "output_type": "execute_result"
    }
   ],
   "source": [
    "# read from Kenneth French fama global factors data set\n",
    "factors = pdr.data.FamaFrenchReader('Global_Factors').read()\n",
    "factors[0][:5]"
   ]
  },
  {
   "cell_type": "code",
   "execution_count": 10,
   "metadata": {
    "scrolled": true
   },
   "outputs": [
    {
     "data": {
      "text/plain": [
       "         Mkt-RF   SMB   HML   RMW   CMA    RF\n",
       "Date                                         \n",
       "2017-12    1.06 -1.07  0.05  0.74  1.66  0.09\n",
       "2018-01    5.57 -3.21 -1.33 -0.72 -1.00  0.12\n",
       "2018-02   -3.65  0.31 -1.07  0.54 -2.39  0.11\n",
       "2018-03   -2.35  3.58 -0.23 -0.46  0.00  0.11\n",
       "2018-04    0.28  0.93  0.54 -2.43  1.27  0.14"
      ]
     },
     "execution_count": 10,
     "metadata": {},
     "output_type": "execute_result"
    }
   ],
   "source": [
    "# another data set (download a file and get the name)\n",
    "factors = pdr.data.FamaFrenchReader('F-F_Research_Data_5_Factors_2x3').read()\n",
    "factors[0][:5]"
   ]
  },
  {
   "cell_type": "markdown",
   "metadata": {},
   "source": [
    "## Reading from the World Bank\n",
    "세계은행의 데이터 읽기\n",
    "\n",
    "The World Bank는 수천 개의 데이터셋을 제공하며, 이를 pandas `DataFrame` 객체로 직접 읽어 들일 수 있다. 세계은행의 데이터 카탈로그는 https://datacatalog.worldbank.org/ 에서 검색할 수 있다.  \n",
    "\n",
    "### `wb.get_indicators()`\n",
    "더월드뱅크의 데이터셋은 지시자(indicator)라고 하는 각 데이터셋을 나타내는 텍스트 코드를 통해 식별된다.  \n",
    "`wb.get_indicators()`함수를 사용하면 인디케이터의 전체 목록을 가져올 수 있다. 이 책을 쓰는 시점에서는 17,000개 가량의 지시자가 존재했다고 한다. \n",
    "\n",
    "다음은 처음 10개의 인디케이터만 가져와보자. "
   ]
  },
  {
   "cell_type": "code",
   "execution_count": 11,
   "metadata": {},
   "outputs": [
    {
     "data": {
      "text/html": [
       "<div>\n",
       "<style scoped>\n",
       "    .dataframe tbody tr th:only-of-type {\n",
       "        vertical-align: middle;\n",
       "    }\n",
       "\n",
       "    .dataframe tbody tr th {\n",
       "        vertical-align: top;\n",
       "    }\n",
       "\n",
       "    .dataframe thead th {\n",
       "        text-align: right;\n",
       "    }\n",
       "</style>\n",
       "<table border=\"1\" class=\"dataframe\">\n",
       "  <thead>\n",
       "    <tr style=\"text-align: right;\">\n",
       "      <th></th>\n",
       "      <th>id</th>\n",
       "      <th>name</th>\n",
       "    </tr>\n",
       "  </thead>\n",
       "  <tbody>\n",
       "    <tr>\n",
       "      <th>0</th>\n",
       "      <td>1.0.HCount.1.90usd</td>\n",
       "      <td>Poverty Headcount ($1.90 a day)</td>\n",
       "    </tr>\n",
       "    <tr>\n",
       "      <th>1</th>\n",
       "      <td>1.0.HCount.2.5usd</td>\n",
       "      <td>Poverty Headcount ($2.50 a day)</td>\n",
       "    </tr>\n",
       "    <tr>\n",
       "      <th>2</th>\n",
       "      <td>1.0.HCount.Mid10to50</td>\n",
       "      <td>Middle Class ($10-50 a day) Headcount</td>\n",
       "    </tr>\n",
       "    <tr>\n",
       "      <th>3</th>\n",
       "      <td>1.0.HCount.Ofcl</td>\n",
       "      <td>Official Moderate Poverty Rate-National</td>\n",
       "    </tr>\n",
       "    <tr>\n",
       "      <th>4</th>\n",
       "      <td>1.0.HCount.Poor4uds</td>\n",
       "      <td>Poverty Headcount ($4 a day)</td>\n",
       "    </tr>\n",
       "    <tr>\n",
       "      <th>5</th>\n",
       "      <td>1.0.HCount.Vul4to10</td>\n",
       "      <td>Vulnerable ($4-10 a day) Headcount</td>\n",
       "    </tr>\n",
       "    <tr>\n",
       "      <th>6</th>\n",
       "      <td>1.0.PGap.1.90usd</td>\n",
       "      <td>Poverty Gap ($1.90 a day)</td>\n",
       "    </tr>\n",
       "    <tr>\n",
       "      <th>7</th>\n",
       "      <td>1.0.PGap.2.5usd</td>\n",
       "      <td>Poverty Gap ($2.50 a day)</td>\n",
       "    </tr>\n",
       "    <tr>\n",
       "      <th>8</th>\n",
       "      <td>1.0.PGap.Poor4uds</td>\n",
       "      <td>Poverty Gap ($4 a day)</td>\n",
       "    </tr>\n",
       "    <tr>\n",
       "      <th>9</th>\n",
       "      <td>1.0.PSev.1.90usd</td>\n",
       "      <td>Poverty Severity ($1.90 a day)</td>\n",
       "    </tr>\n",
       "  </tbody>\n",
       "</table>\n",
       "</div>"
      ],
      "text/plain": [
       "                     id  \\\n",
       "0    1.0.HCount.1.90usd   \n",
       "1     1.0.HCount.2.5usd   \n",
       "2  1.0.HCount.Mid10to50   \n",
       "3       1.0.HCount.Ofcl   \n",
       "4   1.0.HCount.Poor4uds   \n",
       "5   1.0.HCount.Vul4to10   \n",
       "6      1.0.PGap.1.90usd   \n",
       "7       1.0.PGap.2.5usd   \n",
       "8     1.0.PGap.Poor4uds   \n",
       "9      1.0.PSev.1.90usd   \n",
       "\n",
       "                                      name  \n",
       "0          Poverty Headcount ($1.90 a day)  \n",
       "1          Poverty Headcount ($2.50 a day)  \n",
       "2    Middle Class ($10-50 a day) Headcount  \n",
       "3  Official Moderate Poverty Rate-National  \n",
       "4             Poverty Headcount ($4 a day)  \n",
       "5       Vulnerable ($4-10 a day) Headcount  \n",
       "6                Poverty Gap ($1.90 a day)  \n",
       "7                Poverty Gap ($2.50 a day)  \n",
       "8                   Poverty Gap ($4 a day)  \n",
       "9           Poverty Severity ($1.90 a day)  "
      ]
     },
     "execution_count": 11,
     "metadata": {},
     "output_type": "execute_result"
    }
   ],
   "source": [
    "# option\n",
    "pd.set_option('display.notebook_repr_html', True)\n",
    "\n",
    "# get all indicators\n",
    "from pandas_datareader import wb\n",
    "all_indicators = pdr.wb.get_indicators()\n",
    "all_indicators.iloc[:10,:2]"
   ]
  },
  {
   "cell_type": "markdown",
   "metadata": {},
   "source": [
    "### `wb.search()`, `wb.get_countries()`\n",
    "\n",
    "이 인디케이터가 의미하는 바는 더월드뱅크 웹 사이트에서 확인할 수 있지만, 직접 검색을 통해 원하는 인디케이터를 찾아볼 수도 있다.  \n",
    "`wb.search()` 함수를 사용하여 평균 수명(life expectancy)과 관련된 인디케이터들을 검색한 예이다. name에 직접적으로 포함된 여러 인디케이터가 나온다.  \n",
    "\n",
    "또한 각 인디케이터는 국가별로 구분되어있다. 모든 국가 데이터의 목록을 얻고 싶다면 `wb.get_countries()` 함수를 사용하면 된다.  \n",
    "데이터 프레임으로 보니 id에 적혀있는 두 글자 코드가 아마도 국가 코드인 것처럼 보인다. "
   ]
  },
  {
   "cell_type": "code",
   "execution_count": 12,
   "metadata": {},
   "outputs": [
    {
     "data": {
      "text/html": [
       "<div>\n",
       "<style scoped>\n",
       "    .dataframe tbody tr th:only-of-type {\n",
       "        vertical-align: middle;\n",
       "    }\n",
       "\n",
       "    .dataframe tbody tr th {\n",
       "        vertical-align: top;\n",
       "    }\n",
       "\n",
       "    .dataframe thead th {\n",
       "        text-align: right;\n",
       "    }\n",
       "</style>\n",
       "<table border=\"1\" class=\"dataframe\">\n",
       "  <thead>\n",
       "    <tr style=\"text-align: right;\">\n",
       "      <th></th>\n",
       "      <th>id</th>\n",
       "      <th>name</th>\n",
       "      <th>unit</th>\n",
       "      <th>source</th>\n",
       "      <th>sourceNote</th>\n",
       "      <th>sourceOrganization</th>\n",
       "      <th>topics</th>\n",
       "    </tr>\n",
       "  </thead>\n",
       "  <tbody>\n",
       "    <tr>\n",
       "      <th>12214</th>\n",
       "      <td>SE.SCH.LIFE</td>\n",
       "      <td>School life expectancy, primary to tertiary, b...</td>\n",
       "      <td></td>\n",
       "      <td>Education Statistics</td>\n",
       "      <td>Number of years a person of school entrance ag...</td>\n",
       "      <td>b'UNESCO Institute for Statistics'</td>\n",
       "      <td></td>\n",
       "    </tr>\n",
       "    <tr>\n",
       "      <th>12215</th>\n",
       "      <td>SE.SCH.LIFE.FE</td>\n",
       "      <td>School life expectancy, primary to tertiary, f...</td>\n",
       "      <td></td>\n",
       "      <td>Education Statistics</td>\n",
       "      <td>Number of years a person of school entrance ag...</td>\n",
       "      <td>b'UNESCO Institute for Statistics'</td>\n",
       "      <td>Gender</td>\n",
       "    </tr>\n",
       "    <tr>\n",
       "      <th>12216</th>\n",
       "      <td>SE.SCH.LIFE.MA</td>\n",
       "      <td>School life expectancy, primary to tertiary, m...</td>\n",
       "      <td></td>\n",
       "      <td>Education Statistics</td>\n",
       "      <td>Number of years a person of school entrance ag...</td>\n",
       "      <td>b'UNESCO Institute for Statistics'</td>\n",
       "      <td>Gender</td>\n",
       "    </tr>\n",
       "    <tr>\n",
       "      <th>13761</th>\n",
       "      <td>SP.DYN.LE00.FE.IN</td>\n",
       "      <td>Life expectancy at birth, female (years)</td>\n",
       "      <td></td>\n",
       "      <td>World Development Indicators</td>\n",
       "      <td>Life expectancy at birth indicates the number ...</td>\n",
       "      <td>b'(1) United Nations Population Division. Worl...</td>\n",
       "      <td>Health  ; Gender ; Social Development</td>\n",
       "    </tr>\n",
       "    <tr>\n",
       "      <th>13762</th>\n",
       "      <td>SP.DYN.LE00.IN</td>\n",
       "      <td>Life expectancy at birth, total (years)</td>\n",
       "      <td></td>\n",
       "      <td>World Development Indicators</td>\n",
       "      <td>Life expectancy at birth indicates the number ...</td>\n",
       "      <td>b'(1) United Nations Population Division. Worl...</td>\n",
       "      <td>Health</td>\n",
       "    </tr>\n",
       "    <tr>\n",
       "      <th>13763</th>\n",
       "      <td>SP.DYN.LE00.MA.IN</td>\n",
       "      <td>Life expectancy at birth, male (years)</td>\n",
       "      <td></td>\n",
       "      <td>World Development Indicators</td>\n",
       "      <td>Life expectancy at birth indicates the number ...</td>\n",
       "      <td>b'(1) United Nations Population Division. Worl...</td>\n",
       "      <td>Health  ; Gender ; Social Development</td>\n",
       "    </tr>\n",
       "    <tr>\n",
       "      <th>13764</th>\n",
       "      <td>SP.DYN.LE60.FE.IN</td>\n",
       "      <td>Life expectancy at age 60, female (years)</td>\n",
       "      <td></td>\n",
       "      <td>Gender Statistics</td>\n",
       "      <td>Life expectancy at age 60, female is the avera...</td>\n",
       "      <td>b'2019 World Population Prospects, United Nati...</td>\n",
       "      <td>Gender</td>\n",
       "    </tr>\n",
       "    <tr>\n",
       "      <th>13765</th>\n",
       "      <td>SP.DYN.LE60.MA.IN</td>\n",
       "      <td>Life expectancy at age 60, male (years)</td>\n",
       "      <td></td>\n",
       "      <td>Gender Statistics</td>\n",
       "      <td>Life expectancy at age 60, male is the average...</td>\n",
       "      <td>b'2019 World Population Prospects, United Nati...</td>\n",
       "      <td>Gender</td>\n",
       "    </tr>\n",
       "    <tr>\n",
       "      <th>13766</th>\n",
       "      <td>SP.DYN.LIFE.MF</td>\n",
       "      <td>Life Expectancy at Birth(years)</td>\n",
       "      <td></td>\n",
       "      <td>WDI Database Archives</td>\n",
       "      <td></td>\n",
       "      <td>b''</td>\n",
       "      <td></td>\n",
       "    </tr>\n",
       "    <tr>\n",
       "      <th>16377</th>\n",
       "      <td>UIS.SLE.02</td>\n",
       "      <td>School life expectancy, pre-primary, both sexe...</td>\n",
       "      <td></td>\n",
       "      <td>Education Statistics</td>\n",
       "      <td></td>\n",
       "      <td>b''</td>\n",
       "      <td></td>\n",
       "    </tr>\n",
       "  </tbody>\n",
       "</table>\n",
       "</div>"
      ],
      "text/plain": [
       "                      id  \\\n",
       "12214        SE.SCH.LIFE   \n",
       "12215     SE.SCH.LIFE.FE   \n",
       "12216     SE.SCH.LIFE.MA   \n",
       "13761  SP.DYN.LE00.FE.IN   \n",
       "13762     SP.DYN.LE00.IN   \n",
       "13763  SP.DYN.LE00.MA.IN   \n",
       "13764  SP.DYN.LE60.FE.IN   \n",
       "13765  SP.DYN.LE60.MA.IN   \n",
       "13766     SP.DYN.LIFE.MF   \n",
       "16377         UIS.SLE.02   \n",
       "\n",
       "                                                    name  \\\n",
       "12214  School life expectancy, primary to tertiary, b...   \n",
       "12215  School life expectancy, primary to tertiary, f...   \n",
       "12216  School life expectancy, primary to tertiary, m...   \n",
       "13761           Life expectancy at birth, female (years)   \n",
       "13762            Life expectancy at birth, total (years)   \n",
       "13763             Life expectancy at birth, male (years)   \n",
       "13764          Life expectancy at age 60, female (years)   \n",
       "13765            Life expectancy at age 60, male (years)   \n",
       "13766                    Life Expectancy at Birth(years)   \n",
       "16377  School life expectancy, pre-primary, both sexe...   \n",
       "\n",
       "      unit                        source  \\\n",
       "12214               Education Statistics   \n",
       "12215               Education Statistics   \n",
       "12216               Education Statistics   \n",
       "13761       World Development Indicators   \n",
       "13762       World Development Indicators   \n",
       "13763       World Development Indicators   \n",
       "13764                  Gender Statistics   \n",
       "13765                  Gender Statistics   \n",
       "13766              WDI Database Archives   \n",
       "16377               Education Statistics   \n",
       "\n",
       "                                              sourceNote  \\\n",
       "12214  Number of years a person of school entrance ag...   \n",
       "12215  Number of years a person of school entrance ag...   \n",
       "12216  Number of years a person of school entrance ag...   \n",
       "13761  Life expectancy at birth indicates the number ...   \n",
       "13762  Life expectancy at birth indicates the number ...   \n",
       "13763  Life expectancy at birth indicates the number ...   \n",
       "13764  Life expectancy at age 60, female is the avera...   \n",
       "13765  Life expectancy at age 60, male is the average...   \n",
       "13766                                                      \n",
       "16377                                                      \n",
       "\n",
       "                                      sourceOrganization  \\\n",
       "12214                 b'UNESCO Institute for Statistics'   \n",
       "12215                 b'UNESCO Institute for Statistics'   \n",
       "12216                 b'UNESCO Institute for Statistics'   \n",
       "13761  b'(1) United Nations Population Division. Worl...   \n",
       "13762  b'(1) United Nations Population Division. Worl...   \n",
       "13763  b'(1) United Nations Population Division. Worl...   \n",
       "13764  b'2019 World Population Prospects, United Nati...   \n",
       "13765  b'2019 World Population Prospects, United Nati...   \n",
       "13766                                                b''   \n",
       "16377                                                b''   \n",
       "\n",
       "                                       topics  \n",
       "12214                                          \n",
       "12215                                  Gender  \n",
       "12216                                  Gender  \n",
       "13761  Health  ; Gender ; Social Development   \n",
       "13762                                 Health   \n",
       "13763  Health  ; Gender ; Social Development   \n",
       "13764                                  Gender  \n",
       "13765                                  Gender  \n",
       "13766                                          \n",
       "16377                                          "
      ]
     },
     "execution_count": 12,
     "metadata": {},
     "output_type": "execute_result"
    }
   ],
   "source": [
    "# search of life expectancy indicators\n",
    "le_indicators = pdr.wb.search(\"life expectancy\")\n",
    "# report first three rows, first two columns\n",
    "le_indicators.iloc[:10, :]"
   ]
  },
  {
   "cell_type": "code",
   "execution_count": 13,
   "metadata": {},
   "outputs": [
    {
     "data": {
      "text/html": [
       "<div>\n",
       "<style scoped>\n",
       "    .dataframe tbody tr th:only-of-type {\n",
       "        vertical-align: middle;\n",
       "    }\n",
       "\n",
       "    .dataframe tbody tr th {\n",
       "        vertical-align: top;\n",
       "    }\n",
       "\n",
       "    .dataframe thead th {\n",
       "        text-align: right;\n",
       "    }\n",
       "</style>\n",
       "<table border=\"1\" class=\"dataframe\">\n",
       "  <thead>\n",
       "    <tr style=\"text-align: right;\">\n",
       "      <th></th>\n",
       "      <th>name</th>\n",
       "      <th>capitalCity</th>\n",
       "      <th>iso2c</th>\n",
       "    </tr>\n",
       "  </thead>\n",
       "  <tbody>\n",
       "    <tr>\n",
       "      <th>0</th>\n",
       "      <td>Aruba</td>\n",
       "      <td>Oranjestad</td>\n",
       "      <td>AW</td>\n",
       "    </tr>\n",
       "    <tr>\n",
       "      <th>1</th>\n",
       "      <td>Africa Eastern and Southern</td>\n",
       "      <td></td>\n",
       "      <td>ZH</td>\n",
       "    </tr>\n",
       "    <tr>\n",
       "      <th>2</th>\n",
       "      <td>Afghanistan</td>\n",
       "      <td>Kabul</td>\n",
       "      <td>AF</td>\n",
       "    </tr>\n",
       "    <tr>\n",
       "      <th>3</th>\n",
       "      <td>Africa</td>\n",
       "      <td></td>\n",
       "      <td>A9</td>\n",
       "    </tr>\n",
       "    <tr>\n",
       "      <th>4</th>\n",
       "      <td>Africa Western and Central</td>\n",
       "      <td></td>\n",
       "      <td>ZI</td>\n",
       "    </tr>\n",
       "    <tr>\n",
       "      <th>5</th>\n",
       "      <td>Angola</td>\n",
       "      <td>Luanda</td>\n",
       "      <td>AO</td>\n",
       "    </tr>\n",
       "  </tbody>\n",
       "</table>\n",
       "</div>"
      ],
      "text/plain": [
       "                          name capitalCity iso2c\n",
       "0                        Aruba  Oranjestad    AW\n",
       "1  Africa Eastern and Southern                ZH\n",
       "2                  Afghanistan       Kabul    AF\n",
       "3                       Africa                A9\n",
       "4   Africa Western and Central                ZI\n",
       "5                       Angola      Luanda    AO"
      ]
     },
     "execution_count": 13,
     "metadata": {},
     "output_type": "execute_result"
    }
   ],
   "source": [
    "# get countries and show the 3 digit code and name\n",
    "countries = pdr.wb.get_countries()\n",
    "# show a subset of the country data\n",
    "countries.loc[0:5, ['name', 'capitalCity', 'iso2c']]"
   ]
  },
  {
   "cell_type": "markdown",
   "metadata": {},
   "source": [
    "확인해보고 싶어서 id 컬럼의 앞자리가 국가 컬럼이 맞는지 확인해보았다. 정확하진 않다. 어쩌면 실시한 기관이 속한 나라일지도 모른다는 생각.  \n",
    "또한 두글자가 없이 세글자로 되어있는 부분은 국가 코드가 따로 지정되지 않은 것이 아닐까 하는 추측이 든다.  "
   ]
  },
  {
   "cell_type": "code",
   "execution_count": 14,
   "metadata": {},
   "outputs": [
    {
     "data": {
      "text/html": [
       "<div>\n",
       "<style scoped>\n",
       "    .dataframe tbody tr th:only-of-type {\n",
       "        vertical-align: middle;\n",
       "    }\n",
       "\n",
       "    .dataframe tbody tr th {\n",
       "        vertical-align: top;\n",
       "    }\n",
       "\n",
       "    .dataframe thead th {\n",
       "        text-align: right;\n",
       "    }\n",
       "</style>\n",
       "<table border=\"1\" class=\"dataframe\">\n",
       "  <thead>\n",
       "    <tr style=\"text-align: right;\">\n",
       "      <th></th>\n",
       "      <th>0</th>\n",
       "      <th>1</th>\n",
       "      <th>2</th>\n",
       "    </tr>\n",
       "  </thead>\n",
       "  <tbody>\n",
       "    <tr>\n",
       "      <th>12214</th>\n",
       "      <td>SE</td>\n",
       "      <td>SCH</td>\n",
       "      <td>LIFE</td>\n",
       "    </tr>\n",
       "    <tr>\n",
       "      <th>12215</th>\n",
       "      <td>SE</td>\n",
       "      <td>SCH</td>\n",
       "      <td>LIFE.FE</td>\n",
       "    </tr>\n",
       "    <tr>\n",
       "      <th>12216</th>\n",
       "      <td>SE</td>\n",
       "      <td>SCH</td>\n",
       "      <td>LIFE.MA</td>\n",
       "    </tr>\n",
       "    <tr>\n",
       "      <th>13761</th>\n",
       "      <td>SP</td>\n",
       "      <td>DYN</td>\n",
       "      <td>LE00.FE.IN</td>\n",
       "    </tr>\n",
       "    <tr>\n",
       "      <th>13762</th>\n",
       "      <td>SP</td>\n",
       "      <td>DYN</td>\n",
       "      <td>LE00.IN</td>\n",
       "    </tr>\n",
       "    <tr>\n",
       "      <th>...</th>\n",
       "      <td>...</td>\n",
       "      <td>...</td>\n",
       "      <td>...</td>\n",
       "    </tr>\n",
       "    <tr>\n",
       "      <th>16401</th>\n",
       "      <td>UIS</td>\n",
       "      <td>SLE</td>\n",
       "      <td>4.M</td>\n",
       "    </tr>\n",
       "    <tr>\n",
       "      <th>16402</th>\n",
       "      <td>UIS</td>\n",
       "      <td>SLE</td>\n",
       "      <td>56</td>\n",
       "    </tr>\n",
       "    <tr>\n",
       "      <th>16403</th>\n",
       "      <td>UIS</td>\n",
       "      <td>SLE</td>\n",
       "      <td>56.F</td>\n",
       "    </tr>\n",
       "    <tr>\n",
       "      <th>16404</th>\n",
       "      <td>UIS</td>\n",
       "      <td>SLE</td>\n",
       "      <td>56.GPI</td>\n",
       "    </tr>\n",
       "    <tr>\n",
       "      <th>16405</th>\n",
       "      <td>UIS</td>\n",
       "      <td>SLE</td>\n",
       "      <td>56.M</td>\n",
       "    </tr>\n",
       "  </tbody>\n",
       "</table>\n",
       "<p>38 rows × 3 columns</p>\n",
       "</div>"
      ],
      "text/plain": [
       "         0    1           2\n",
       "12214   SE  SCH        LIFE\n",
       "12215   SE  SCH     LIFE.FE\n",
       "12216   SE  SCH     LIFE.MA\n",
       "13761   SP  DYN  LE00.FE.IN\n",
       "13762   SP  DYN     LE00.IN\n",
       "...    ...  ...         ...\n",
       "16401  UIS  SLE         4.M\n",
       "16402  UIS  SLE          56\n",
       "16403  UIS  SLE        56.F\n",
       "16404  UIS  SLE      56.GPI\n",
       "16405  UIS  SLE        56.M\n",
       "\n",
       "[38 rows x 3 columns]"
      ]
     },
     "execution_count": 14,
     "metadata": {},
     "output_type": "execute_result"
    }
   ],
   "source": [
    "# 국가 코드가 맞는지 확인해볼까\n",
    "le = le_indicators['id'].str.split('.', n=2, expand= True)\n",
    "le"
   ]
  },
  {
   "cell_type": "code",
   "execution_count": 15,
   "metadata": {},
   "outputs": [
    {
     "data": {
      "text/html": [
       "<div>\n",
       "<style scoped>\n",
       "    .dataframe tbody tr th:only-of-type {\n",
       "        vertical-align: middle;\n",
       "    }\n",
       "\n",
       "    .dataframe tbody tr th {\n",
       "        vertical-align: top;\n",
       "    }\n",
       "\n",
       "    .dataframe thead th {\n",
       "        text-align: right;\n",
       "    }\n",
       "</style>\n",
       "<table border=\"1\" class=\"dataframe\">\n",
       "  <thead>\n",
       "    <tr style=\"text-align: right;\">\n",
       "      <th></th>\n",
       "      <th>iso3c</th>\n",
       "      <th>iso2c</th>\n",
       "      <th>name</th>\n",
       "      <th>region</th>\n",
       "      <th>...</th>\n",
       "      <th>lendingType</th>\n",
       "      <th>capitalCity</th>\n",
       "      <th>longitude</th>\n",
       "      <th>latitude</th>\n",
       "    </tr>\n",
       "  </thead>\n",
       "  <tbody>\n",
       "    <tr>\n",
       "      <th>253</th>\n",
       "      <td>SWE</td>\n",
       "      <td>SE</td>\n",
       "      <td>Sweden</td>\n",
       "      <td>Europe &amp; Central Asia</td>\n",
       "      <td>...</td>\n",
       "      <td>Not classified</td>\n",
       "      <td>Stockholm</td>\n",
       "      <td>18.0645</td>\n",
       "      <td>59.3327</td>\n",
       "    </tr>\n",
       "  </tbody>\n",
       "</table>\n",
       "<p>1 rows × 10 columns</p>\n",
       "</div>"
      ],
      "text/plain": [
       "    iso3c iso2c    name                 region  ...  \\\n",
       "253   SWE    SE  Sweden  Europe & Central Asia  ...   \n",
       "\n",
       "        lendingType capitalCity longitude latitude  \n",
       "253  Not classified   Stockholm   18.0645  59.3327  \n",
       "\n",
       "[1 rows x 10 columns]"
      ]
     },
     "execution_count": 15,
     "metadata": {},
     "output_type": "execute_result"
    }
   ],
   "source": [
    "countries[ countries['iso2c'] == le.iloc[0][0] ]"
   ]
  },
  {
   "cell_type": "code",
   "execution_count": 16,
   "metadata": {},
   "outputs": [
    {
     "data": {
      "text/html": [
       "<div>\n",
       "<style scoped>\n",
       "    .dataframe tbody tr th:only-of-type {\n",
       "        vertical-align: middle;\n",
       "    }\n",
       "\n",
       "    .dataframe tbody tr th {\n",
       "        vertical-align: top;\n",
       "    }\n",
       "\n",
       "    .dataframe thead th {\n",
       "        text-align: right;\n",
       "    }\n",
       "</style>\n",
       "<table border=\"1\" class=\"dataframe\">\n",
       "  <thead>\n",
       "    <tr style=\"text-align: right;\">\n",
       "      <th></th>\n",
       "      <th>iso3c</th>\n",
       "      <th>iso2c</th>\n",
       "      <th>name</th>\n",
       "      <th>region</th>\n",
       "      <th>...</th>\n",
       "      <th>lendingType</th>\n",
       "      <th>capitalCity</th>\n",
       "      <th>longitude</th>\n",
       "      <th>latitude</th>\n",
       "    </tr>\n",
       "  </thead>\n",
       "  <tbody>\n",
       "  </tbody>\n",
       "</table>\n",
       "<p>0 rows × 10 columns</p>\n",
       "</div>"
      ],
      "text/plain": [
       "Empty DataFrame\n",
       "Columns: [iso3c, iso2c, name, region, adminregion, incomeLevel, lendingType, capitalCity, longitude, latitude]\n",
       "Index: []\n",
       "\n",
       "[0 rows x 10 columns]"
      ]
     },
     "execution_count": 16,
     "metadata": {},
     "output_type": "execute_result"
    }
   ],
   "source": [
    "countries[ countries['iso2c'] == 'UIS' ]"
   ]
  },
  {
   "cell_type": "markdown",
   "metadata": {},
   "source": [
    "### `wb.download()` \n",
    "\n",
    "`wb.download()` 함수에 indicator 파라미터를 전달해 다운로드 할 수 있다.\n",
    "\n",
    "다음은 1980년 부터 2014년 까지의 평균 수명 데이터를 다운로드 하는 예시이다. "
   ]
  },
  {
   "cell_type": "code",
   "execution_count": 17,
   "metadata": {},
   "outputs": [
    {
     "data": {
      "text/html": [
       "<div>\n",
       "<style scoped>\n",
       "    .dataframe tbody tr th:only-of-type {\n",
       "        vertical-align: middle;\n",
       "    }\n",
       "\n",
       "    .dataframe tbody tr th {\n",
       "        vertical-align: top;\n",
       "    }\n",
       "\n",
       "    .dataframe thead th {\n",
       "        text-align: right;\n",
       "    }\n",
       "</style>\n",
       "<table border=\"1\" class=\"dataframe\">\n",
       "  <thead>\n",
       "    <tr style=\"text-align: right;\">\n",
       "      <th></th>\n",
       "      <th></th>\n",
       "      <th>SP.DYN.LE00.IN</th>\n",
       "    </tr>\n",
       "    <tr>\n",
       "      <th>country</th>\n",
       "      <th>year</th>\n",
       "      <th></th>\n",
       "    </tr>\n",
       "  </thead>\n",
       "  <tbody>\n",
       "    <tr>\n",
       "      <th rowspan=\"5\" valign=\"top\">Canada</th>\n",
       "      <th>2014</th>\n",
       "      <td>81.800000</td>\n",
       "    </tr>\n",
       "    <tr>\n",
       "      <th>2013</th>\n",
       "      <td>81.748780</td>\n",
       "    </tr>\n",
       "    <tr>\n",
       "      <th>2012</th>\n",
       "      <td>81.648780</td>\n",
       "    </tr>\n",
       "    <tr>\n",
       "      <th>2011</th>\n",
       "      <td>81.448780</td>\n",
       "    </tr>\n",
       "    <tr>\n",
       "      <th>2010</th>\n",
       "      <td>81.246341</td>\n",
       "    </tr>\n",
       "    <tr>\n",
       "      <th>...</th>\n",
       "      <th>...</th>\n",
       "      <td>...</td>\n",
       "    </tr>\n",
       "    <tr>\n",
       "      <th rowspan=\"5\" valign=\"top\">United States</th>\n",
       "      <th>1984</th>\n",
       "      <td>74.563415</td>\n",
       "    </tr>\n",
       "    <tr>\n",
       "      <th>1983</th>\n",
       "      <td>74.463415</td>\n",
       "    </tr>\n",
       "    <tr>\n",
       "      <th>1982</th>\n",
       "      <td>74.360976</td>\n",
       "    </tr>\n",
       "    <tr>\n",
       "      <th>1981</th>\n",
       "      <td>74.009756</td>\n",
       "    </tr>\n",
       "    <tr>\n",
       "      <th>1980</th>\n",
       "      <td>73.609756</td>\n",
       "    </tr>\n",
       "  </tbody>\n",
       "</table>\n",
       "<p>105 rows × 1 columns</p>\n",
       "</div>"
      ],
      "text/plain": [
       "                    SP.DYN.LE00.IN\n",
       "country       year                \n",
       "Canada        2014       81.800000\n",
       "              2013       81.748780\n",
       "              2012       81.648780\n",
       "              2011       81.448780\n",
       "              2010       81.246341\n",
       "...                            ...\n",
       "United States 1984       74.563415\n",
       "              1983       74.463415\n",
       "              1982       74.360976\n",
       "              1981       74.009756\n",
       "              1980       73.609756\n",
       "\n",
       "[105 rows x 1 columns]"
      ]
     },
     "execution_count": 17,
     "metadata": {},
     "output_type": "execute_result"
    }
   ],
   "source": [
    "# get life expectancy at birth for all countries from 1980 to 2014\n",
    "le_data_all = pdr.wb.download(indicator=\"SP.DYN.LE00.IN\",\n",
    "                              start='1980', end='2014')\n",
    "le_data_all"
   ]
  },
  {
   "cell_type": "code",
   "execution_count": 18,
   "metadata": {},
   "outputs": [
    {
     "data": {
      "text/plain": [
       "Index(['Canada', 'Mexico', 'United States'], dtype='object', name='country')"
      ]
     },
     "execution_count": 18,
     "metadata": {},
     "output_type": "execute_result"
    }
   ],
   "source": [
    "# only US, CAN, and MEX are returned by default\n",
    "le_data_all.index.levels[0]"
   ]
  },
  {
   "cell_type": "markdown",
   "metadata": {},
   "source": [
    "위의 3개구 이외의 국가에 대한 데이터를 얻고싶다면 `country` 파라미터를 사용해야한다.  \n",
    "`country`가 파라미터에 countries의 ['iso2c']로 국가 코드를 전부 받아온다.  "
   ]
  },
  {
   "cell_type": "code",
   "execution_count": 19,
   "metadata": {},
   "outputs": [
    {
     "name": "stderr",
     "output_type": "stream",
     "text": [
      "/Users/Angela/opt/anaconda3/envs/py3_8_5/lib/python3.8/site-packages/pandas_datareader/wb.py:592: UserWarning: Non-standard ISO country codes: 1A, 1W, 4E, 6F, 6N, 6X, 7E, 8S, A4, A5, A9, B1, B2, B3, B4, B6, B7, B8, C4, C5, C6, C7, C8, C9, D2, D3, D4, D5, D6, D7, D8, D9, EU, F1, F6, JG, M1, M2, N6, OE, R6, S1, S2, S3, S4, T2, T3, T4, T5, T6, T7, V1, V2, V3, V4, XC, XD, XE, XF, XG, XH, XI, XJ, XK, XL, XM, XN, XO, XP, XQ, XT, XU, XY, Z4, Z7, ZB, ZF, ZG, ZH, ZI, ZJ, ZQ, ZT\n",
      "  warnings.warn(\n"
     ]
    },
    {
     "data": {
      "text/html": [
       "<div>\n",
       "<style scoped>\n",
       "    .dataframe tbody tr th:only-of-type {\n",
       "        vertical-align: middle;\n",
       "    }\n",
       "\n",
       "    .dataframe tbody tr th {\n",
       "        vertical-align: top;\n",
       "    }\n",
       "\n",
       "    .dataframe thead th {\n",
       "        text-align: right;\n",
       "    }\n",
       "</style>\n",
       "<table border=\"1\" class=\"dataframe\">\n",
       "  <thead>\n",
       "    <tr style=\"text-align: right;\">\n",
       "      <th></th>\n",
       "      <th></th>\n",
       "      <th>SP.DYN.LE00.IN</th>\n",
       "    </tr>\n",
       "    <tr>\n",
       "      <th>country</th>\n",
       "      <th>year</th>\n",
       "      <th></th>\n",
       "    </tr>\n",
       "  </thead>\n",
       "  <tbody>\n",
       "    <tr>\n",
       "      <th rowspan=\"5\" valign=\"top\">Aruba</th>\n",
       "      <th>2012</th>\n",
       "      <td>75.299</td>\n",
       "    </tr>\n",
       "    <tr>\n",
       "      <th>2011</th>\n",
       "      <td>75.158</td>\n",
       "    </tr>\n",
       "    <tr>\n",
       "      <th>2010</th>\n",
       "      <td>75.017</td>\n",
       "    </tr>\n",
       "    <tr>\n",
       "      <th>2009</th>\n",
       "      <td>74.872</td>\n",
       "    </tr>\n",
       "    <tr>\n",
       "      <th>2008</th>\n",
       "      <td>74.725</td>\n",
       "    </tr>\n",
       "    <tr>\n",
       "      <th>...</th>\n",
       "      <th>...</th>\n",
       "      <td>...</td>\n",
       "    </tr>\n",
       "    <tr>\n",
       "      <th rowspan=\"5\" valign=\"top\">Zimbabwe</th>\n",
       "      <th>1984</th>\n",
       "      <td>61.280</td>\n",
       "    </tr>\n",
       "    <tr>\n",
       "      <th>1983</th>\n",
       "      <td>61.025</td>\n",
       "    </tr>\n",
       "    <tr>\n",
       "      <th>1982</th>\n",
       "      <td>60.650</td>\n",
       "    </tr>\n",
       "    <tr>\n",
       "      <th>1981</th>\n",
       "      <td>60.203</td>\n",
       "    </tr>\n",
       "    <tr>\n",
       "      <th>1980</th>\n",
       "      <td>59.731</td>\n",
       "    </tr>\n",
       "  </tbody>\n",
       "</table>\n",
       "<p>8778 rows × 1 columns</p>\n",
       "</div>"
      ],
      "text/plain": [
       "               SP.DYN.LE00.IN\n",
       "country  year                \n",
       "Aruba    2012          75.299\n",
       "         2011          75.158\n",
       "         2010          75.017\n",
       "         2009          74.872\n",
       "         2008          74.725\n",
       "...                       ...\n",
       "Zimbabwe 1984          61.280\n",
       "         1983          61.025\n",
       "         1982          60.650\n",
       "         1981          60.203\n",
       "         1980          59.731\n",
       "\n",
       "[8778 rows x 1 columns]"
      ]
     },
     "execution_count": 19,
     "metadata": {},
     "output_type": "execute_result"
    }
   ],
   "source": [
    "# retrieve life expectancy at birth for all countries \n",
    "# from 1980 to 2014\n",
    "le_data_all = wb.download(indicator=\"SP.DYN.LE00.IN\", \n",
    "                          country = countries['iso2c'],\n",
    "                          start='1980', \n",
    "                          end='2012')\n",
    "le_data_all"
   ]
  },
  {
   "cell_type": "markdown",
   "metadata": {},
   "source": [
    "### 피봇팅\n",
    "\n",
    "이 데이터로 몇가지 활용 예시를 보려고 한다.  \n",
    "\n",
    "#### 연도별 평균 수명이 가장 낮은 국가 판별  \n",
    "하기 위해서는 이 데이터를 피벗하여 국가명을 인덱스로 하고, 연도를 칼럼으로 바꾸어야 한다.  \n",
    "피버팅(pivoting)에 대해서는 나중에 자세히 다룰 예정이므로, 지금은 다음과 같이 국가와 연도를 인덱스와 칼럼으로 재조직 하는 작업만 한다.  \n",
    "(각 국가의 연도별 개별 데이터는 평균 수명을 나타낸다.)\n",
    "\n",
    "1. `reset_index()`를 한 후 index는 country로, columns는 year로 pivoting 한다. "
   ]
  },
  {
   "cell_type": "code",
   "execution_count": 20,
   "metadata": {},
   "outputs": [
    {
     "data": {
      "text/html": [
       "<div>\n",
       "<style scoped>\n",
       "    .dataframe tbody tr th:only-of-type {\n",
       "        vertical-align: middle;\n",
       "    }\n",
       "\n",
       "    .dataframe tbody tr th {\n",
       "        vertical-align: top;\n",
       "    }\n",
       "\n",
       "    .dataframe thead tr th {\n",
       "        text-align: left;\n",
       "    }\n",
       "\n",
       "    .dataframe thead tr:last-of-type th {\n",
       "        text-align: right;\n",
       "    }\n",
       "</style>\n",
       "<table border=\"1\" class=\"dataframe\">\n",
       "  <thead>\n",
       "    <tr>\n",
       "      <th></th>\n",
       "      <th colspan=\"3\" halign=\"left\">SP.DYN.LE00.IN</th>\n",
       "    </tr>\n",
       "    <tr>\n",
       "      <th>year</th>\n",
       "      <th>1980</th>\n",
       "      <th>1981</th>\n",
       "      <th>1982</th>\n",
       "    </tr>\n",
       "    <tr>\n",
       "      <th>country</th>\n",
       "      <th></th>\n",
       "      <th></th>\n",
       "      <th></th>\n",
       "    </tr>\n",
       "  </thead>\n",
       "  <tbody>\n",
       "    <tr>\n",
       "      <th>Afghanistan</th>\n",
       "      <td>43.244000</td>\n",
       "      <td>43.923000</td>\n",
       "      <td>44.617000</td>\n",
       "    </tr>\n",
       "    <tr>\n",
       "      <th>Africa Eastern and Southern</th>\n",
       "      <td>49.870693</td>\n",
       "      <td>50.115886</td>\n",
       "      <td>50.363456</td>\n",
       "    </tr>\n",
       "    <tr>\n",
       "      <th>Africa Western and Central</th>\n",
       "      <td>46.366104</td>\n",
       "      <td>46.798292</td>\n",
       "      <td>47.188618</td>\n",
       "    </tr>\n",
       "    <tr>\n",
       "      <th>Albania</th>\n",
       "      <td>70.208000</td>\n",
       "      <td>70.416000</td>\n",
       "      <td>70.635000</td>\n",
       "    </tr>\n",
       "    <tr>\n",
       "      <th>Algeria</th>\n",
       "      <td>58.198000</td>\n",
       "      <td>59.519000</td>\n",
       "      <td>60.813000</td>\n",
       "    </tr>\n",
       "  </tbody>\n",
       "</table>\n",
       "</div>"
      ],
      "text/plain": [
       "                            SP.DYN.LE00.IN             \\\n",
       "year                                  1980       1981   \n",
       "country                                                 \n",
       "Afghanistan                      43.244000  43.923000   \n",
       "Africa Eastern and Southern      49.870693  50.115886   \n",
       "Africa Western and Central       46.366104  46.798292   \n",
       "Albania                          70.208000  70.416000   \n",
       "Algeria                          58.198000  59.519000   \n",
       "\n",
       "                                        \n",
       "year                              1982  \n",
       "country                                 \n",
       "Afghanistan                  44.617000  \n",
       "Africa Eastern and Southern  50.363456  \n",
       "Africa Western and Central   47.188618  \n",
       "Albania                      70.635000  \n",
       "Algeria                      60.813000  "
      ]
     },
     "execution_count": 20,
     "metadata": {},
     "output_type": "execute_result"
    }
   ],
   "source": [
    "#le_data_all.pivot(index='country', columns='year')\n",
    "le_data = le_data_all.reset_index().pivot(index='country', \n",
    "                                          columns='year')\n",
    "# examine pivoted data\n",
    "le_data.iloc[:5,0:3]"
   ]
  },
  {
   "cell_type": "markdown",
   "metadata": {},
   "source": [
    "2. 이때 `.idxmin(axis = 0)`을 사용해 연도별로 최저 평균 수명을 기록한 국가를 **바로!** 알아낼 수 있다.  \n",
    "idx가 국가명이기 때문에 인덱스를 바로 가져오게 되어있다.  \n",
    "(상당히 신기한 매커니즘이라 더 자주 써봐야 할 것 같다.)"
   ]
  },
  {
   "cell_type": "code",
   "execution_count": 21,
   "metadata": {},
   "outputs": [
    {
     "data": {
      "text/plain": [
       "                year\n",
       "SP.DYN.LE00.IN  1980       Cambodia\n",
       "                1981       Cambodia\n",
       "                1982    Timor-Leste\n",
       "                1983    South Sudan\n",
       "                1984    South Sudan\n",
       "dtype: object"
      ]
     },
     "execution_count": 21,
     "metadata": {},
     "output_type": "execute_result"
    }
   ],
   "source": [
    "# ask what is the name of country for each year\n",
    "# with the least life expectancy\n",
    "country_with_least_expectancy = le_data.idxmin(axis=0)\n",
    "country_with_least_expectancy[:5]"
   ]
  },
  {
   "cell_type": "markdown",
   "metadata": {},
   "source": [
    "3. 연도별 평균 수명의 실제 값은 `.min(axis = 0)`을 사용한다.  \n",
    "아까는 인덱스를 가져온 것이고 이거는 바로 값을 가져오고.  "
   ]
  },
  {
   "cell_type": "code",
   "execution_count": 22,
   "metadata": {},
   "outputs": [
    {
     "data": {
      "text/plain": [
       "                year\n",
       "SP.DYN.LE00.IN  1980    27.536\n",
       "                1981    33.342\n",
       "                1982    38.175\n",
       "                1983    39.671\n",
       "                1984    40.005\n",
       "dtype: float64"
      ]
     },
     "execution_count": 22,
     "metadata": {},
     "output_type": "execute_result"
    }
   ],
   "source": [
    "# and what is the minimum life expectancy for each year\n",
    "expectancy_for_least_country = le_data.min(axis=0)\n",
    "expectancy_for_least_country[:5]"
   ]
  },
  {
   "cell_type": "markdown",
   "metadata": {},
   "source": [
    "4. 이 두 결과를 조합함으로써 각 국가의 연도별 최저 평균 수명과, 그 값을 보여주는 새 `DataFrame`을 만들 수 있다.  \n",
    "\n",
    "data에는 2. 에서 구했던 각 나라 이름과 3. 에서 구한 평균 수명 values를 붙여서,  \n",
    "index에는 계층형 인덱스에 두번째로 사용되었던 years를 가져온다.  "
   ]
  },
  {
   "cell_type": "code",
   "execution_count": 23,
   "metadata": {},
   "outputs": [
    {
     "data": {
      "text/html": [
       "<div>\n",
       "<style scoped>\n",
       "    .dataframe tbody tr th:only-of-type {\n",
       "        vertical-align: middle;\n",
       "    }\n",
       "\n",
       "    .dataframe tbody tr th {\n",
       "        vertical-align: top;\n",
       "    }\n",
       "\n",
       "    .dataframe thead th {\n",
       "        text-align: right;\n",
       "    }\n",
       "</style>\n",
       "<table border=\"1\" class=\"dataframe\">\n",
       "  <thead>\n",
       "    <tr style=\"text-align: right;\">\n",
       "      <th></th>\n",
       "      <th>Country</th>\n",
       "      <th>Expectancy</th>\n",
       "    </tr>\n",
       "    <tr>\n",
       "      <th>year</th>\n",
       "      <th></th>\n",
       "      <th></th>\n",
       "    </tr>\n",
       "  </thead>\n",
       "  <tbody>\n",
       "    <tr>\n",
       "      <th>1980</th>\n",
       "      <td>Cambodia</td>\n",
       "      <td>27.536</td>\n",
       "    </tr>\n",
       "    <tr>\n",
       "      <th>1981</th>\n",
       "      <td>Cambodia</td>\n",
       "      <td>33.342</td>\n",
       "    </tr>\n",
       "    <tr>\n",
       "      <th>1982</th>\n",
       "      <td>Timor-Leste</td>\n",
       "      <td>38.175</td>\n",
       "    </tr>\n",
       "    <tr>\n",
       "      <th>1983</th>\n",
       "      <td>South Sudan</td>\n",
       "      <td>39.671</td>\n",
       "    </tr>\n",
       "    <tr>\n",
       "      <th>1984</th>\n",
       "      <td>South Sudan</td>\n",
       "      <td>40.005</td>\n",
       "    </tr>\n",
       "  </tbody>\n",
       "</table>\n",
       "</div>"
      ],
      "text/plain": [
       "          Country  Expectancy\n",
       "year                         \n",
       "1980     Cambodia      27.536\n",
       "1981     Cambodia      33.342\n",
       "1982  Timor-Leste      38.175\n",
       "1983  South Sudan      39.671\n",
       "1984  South Sudan      40.005"
      ]
     },
     "execution_count": 23,
     "metadata": {},
     "output_type": "execute_result"
    }
   ],
   "source": [
    "# this merges the two frames together and gives us\n",
    "# year, country and expectancy where there minimum exists\n",
    "least = pd.DataFrame(\n",
    "    data = {'Country': country_with_least_expectancy.values,\n",
    "            'Expectancy': expectancy_for_least_country.values},\n",
    "    index = country_with_least_expectancy.index.levels[1])\n",
    "least[:5]"
   ]
  },
  {
   "cell_type": "markdown",
   "metadata": {},
   "source": [
    "데이터의 정제 작업을 수행하는 일이 남았다. 수집한 데이터에 누락된 정보가 있거나 잘못된 형식의 콘텐츠가 포함돼 있는 경우는 흔하기 때문이다.  \n",
    "10 장에서는 그와 같은 이슈를 다루는, 소위 데이터 정돈(data tidying)과정에 초점을 맞춘다. "
   ]
  }
 ],
 "metadata": {
  "anaconda-cloud": {},
  "kernelspec": {
   "display_name": "Python 3 (ipykernel)",
   "language": "python",
   "name": "python3"
  },
  "language_info": {
   "codemirror_mode": {
    "name": "ipython",
    "version": 3
   },
   "file_extension": ".py",
   "mimetype": "text/x-python",
   "name": "python",
   "nbconvert_exporter": "python",
   "pygments_lexer": "ipython3",
   "version": "3.8.5"
  },
  "latex_envs": {
   "LaTeX_envs_menu_present": true,
   "autoclose": true,
   "autocomplete": true,
   "bibliofile": "biblio.bib",
   "cite_by": "apalike",
   "current_citInitial": 1,
   "eqLabelWithNumbers": true,
   "eqNumInitial": 1,
   "hotkeys": {
    "equation": "Ctrl-E",
    "itemize": "Ctrl-I"
   },
   "labels_anchors": false,
   "latex_user_defs": false,
   "report_style_numbering": false,
   "user_envs_cfg": false
  },
  "toc": {
   "base_numbering": 1,
   "nav_menu": {},
   "number_sections": true,
   "sideBar": true,
   "skip_h1_title": false,
   "title_cell": "Table of Contents",
   "title_sidebar": "Contents",
   "toc_cell": true,
   "toc_position": {},
   "toc_section_display": true,
   "toc_window_display": true
  }
 },
 "nbformat": 4,
 "nbformat_minor": 1
}

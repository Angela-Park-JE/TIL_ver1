{
 "cells": [
  {
   "cell_type": "markdown",
   "metadata": {
    "toc": true
   },
   "source": [
    "<h1>Table of Contents<span class=\"tocSkip\"></span></h1>\n",
    "<div class=\"toc\"><ul class=\"toc-item\"><li><span><a href=\"#Configuring-pandas\" data-toc-modified-id=\"Configuring-pandas-1\"><span class=\"toc-item-num\">1&nbsp;&nbsp;</span>Configuring pandas</a></span></li><li><span><a href=\"#데이터의-조합,-연관,-재형성\" data-toc-modified-id=\"데이터의-조합,-연관,-재형성-2\"><span class=\"toc-item-num\">2&nbsp;&nbsp;</span>데이터의 조합, 연관, 재형성</a></span></li><li><span><a href=\"#복수-객체의-데이터-접합\" data-toc-modified-id=\"복수-객체의-데이터-접합-3\"><span class=\"toc-item-num\">3&nbsp;&nbsp;</span>복수 객체의 데이터 접합</a></span><ul class=\"toc-item\"><li><span><a href=\"#Concatenating-data\" data-toc-modified-id=\"Concatenating-data-3.1\"><span class=\"toc-item-num\">3.1&nbsp;&nbsp;</span>Concatenating data</a></span></li><li><span><a href=\"#Series-간의-접합\" data-toc-modified-id=\"Series-간의-접합-3.2\"><span class=\"toc-item-num\">3.2&nbsp;&nbsp;</span><code>Series</code> 간의 접합</a></span></li><li><span><a href=\"#DataFrame간의-접합\" data-toc-modified-id=\"DataFrame간의-접합-3.3\"><span class=\"toc-item-num\">3.3&nbsp;&nbsp;</span><code>DataFrame</code>간의 접합</a></span><ul class=\"toc-item\"><li><span><a href=\"#없는-칼럼에-등장하는-NaN\" data-toc-modified-id=\"없는-칼럼에-등장하는-NaN-3.3.1\"><span class=\"toc-item-num\">3.3.1&nbsp;&nbsp;</span>없는 칼럼에 등장하는 <code>NaN</code></a></span></li><li><span><a href=\"#(keys-=-[])-:-접합된-데이터를-구분하는-계층형-인덱스-생성\" data-toc-modified-id=\"(keys-=-[])-:-접합된-데이터를-구분하는-계층형-인덱스-생성-3.3.2\"><span class=\"toc-item-num\">3.3.2&nbsp;&nbsp;</span><code>(keys = [])</code> : 접합된 데이터를 구분하는 계층형 인덱스 생성</a></span></li><li><span><a href=\"#(axis-=-)-:-정렬-기준의-축의-전환\" data-toc-modified-id=\"(axis-=-)-:-정렬-기준의-축의-전환-3.3.3\"><span class=\"toc-item-num\">3.3.3&nbsp;&nbsp;</span><code>(axis = )</code> : 정렬 기준의 축의 전환</a></span></li></ul></li></ul></li><li><span><a href=\"#An-overview-of-merges\" data-toc-modified-id=\"An-overview-of-merges-4\"><span class=\"toc-item-num\">4&nbsp;&nbsp;</span>An overview of merges</a></span></li><li><span><a href=\"#Specifying-the-join-semantics-of-a-merge-operation\" data-toc-modified-id=\"Specifying-the-join-semantics-of-a-merge-operation-5\"><span class=\"toc-item-num\">5&nbsp;&nbsp;</span>Specifying the join semantics of a merge operation</a></span></li><li><span><a href=\"#Pivoting\" data-toc-modified-id=\"Pivoting-6\"><span class=\"toc-item-num\">6&nbsp;&nbsp;</span>Pivoting</a></span></li><li><span><a href=\"#Stacking-using-non-hierarchical-indexes\" data-toc-modified-id=\"Stacking-using-non-hierarchical-indexes-7\"><span class=\"toc-item-num\">7&nbsp;&nbsp;</span>Stacking using non-hierarchical indexes</a></span></li><li><span><a href=\"#Unstacking-using-hierarchical-indexes\" data-toc-modified-id=\"Unstacking-using-hierarchical-indexes-8\"><span class=\"toc-item-num\">8&nbsp;&nbsp;</span>Unstacking using hierarchical indexes</a></span></li><li><span><a href=\"#Melting\" data-toc-modified-id=\"Melting-9\"><span class=\"toc-item-num\">9&nbsp;&nbsp;</span>Melting</a></span></li><li><span><a href=\"#Performance-benefits-of-stacked-data\" data-toc-modified-id=\"Performance-benefits-of-stacked-data-10\"><span class=\"toc-item-num\">10&nbsp;&nbsp;</span>Performance benefits of stacked data</a></span></li></ul></div>"
   ]
  },
  {
   "cell_type": "markdown",
   "metadata": {},
   "source": [
    "# Configuring pandas"
   ]
  },
  {
   "cell_type": "code",
   "execution_count": 1,
   "metadata": {},
   "outputs": [
    {
     "name": "stdout",
     "output_type": "stream",
     "text": [
      "1.4.1\n",
      "1.22.4\n",
      "3.8.5 (default, Sep  4 2020, 02:22:02) \n",
      "[Clang 10.0.0 ]\n"
     ]
    }
   ],
   "source": [
    "# import numpy and pandas\n",
    "import numpy as np\n",
    "import pandas as pd\n",
    "\n",
    "# used for dates\n",
    "import datetime\n",
    "from datetime import datetime, date\n",
    "\n",
    "# Set some pandas options controlling output format\n",
    "pd.set_option('display.notebook_repr_html', False)\n",
    "pd.set_option('display.max_columns', 8)\n",
    "pd.set_option('display.max_rows', 10)\n",
    "pd.set_option('display.width', 60)\n",
    "\n",
    "# bring in matplotlib for graphics\n",
    "import matplotlib.pyplot as plt\n",
    "%matplotlib inline\n",
    "\n",
    "# version check\n",
    "print(pd.__version__)\n",
    "print(np.__version__)\n",
    "import sys\n",
    "print(sys.version)"
   ]
  },
  {
   "cell_type": "markdown",
   "metadata": {},
   "source": [
    "# 데이터의 조합, 연관, 재형성\n",
    "---\n",
    "데이터는 흔히 이름(속성/변수)으로 참조되는 관련 값들의 논리적 구조인 엔티티(entity)의 집합으로 모델링되며, 여러 로우로 조직화된 다수의 표본이나 인스턴스를 포함한다.  \n",
    "엔티티는 사람이나 사물 인터넷(IoT)에서의 센서 등 실제 세계의 개체를 대변한다. 각 특정 엔티티와 측정치는 하나의 `DataFrame`을 사용해 모델링된다.  \n",
    "\n",
    "보통은 모델 안의 엔티티들에 대한 갖가지 작업이 필요하다. 예를 들어 여러 지역의 여러 고객 엔티티를 조합해 하나의 pandas 객체로 만들어야 할 수 있다. 고객과 주문 엔티티는 배송 주소를 찾기 위해 연결될 수 있다.  \n",
    "또한 하나의 모델에 저장된 데이터를 다른 모델로 재형성시킬 필요도 있는데, 동일한 타입의 엔티티라도 소스가 다르다면 다르게 모델링돼야 하기 때문이다. \n",
    "\n",
    "11장에서는 모델 안에서의 데이터 조합, 연관, 재형성과 관련된 작업을 알아본다.  \n",
    "- 복수 객체의 데이터 접합\n",
    "- 복수 객체의 데이터 병합\n",
    "- 병합 시 조인 유형 지정\n",
    "- 인덱스와 값 사이의 pivoting\n",
    "- 데이터 stacking과 unstacking\n",
    "- 넓은 포맷과 긴 포맷 사이의 데이터 melting\n"
   ]
  },
  {
   "cell_type": "markdown",
   "metadata": {},
   "source": [
    "# 복수 객체의 데이터 접합\n",
    "---\n",
    "pandas에서 접합(concatenation)은 둘 이상의 pandas 객체로부터 가져온 데이터를 연결해 새 객체로 만드는 과정을 말한다.  \n",
    "\n",
    "`Series` 접합의 경우 단순히 두 `Series`의 값이 연결된 새 `Series`가 만들어진다.  \n",
    "\n",
    "`DataFrame` 객체의 접합은 조금 복잡한데, `DataFrame`의 어느 축(행, 열)을 기준으로 하든 접합할 수 있으며, pandas는 그 축에 따라 인덱스 레이블에 **관계형 조인 로직**을 수행한다. 그다음엔 나머지 축을 따라 레이블을 정렬하고 결측 값을 채운다.  \n",
    "\n",
    "접합의 경우 고려해야 할 요소가 많으므로 나누어본다. \n",
    "- 접합의 기본 의미\n",
    "- 정렬을 위한 기준 축 전환\n",
    "- 조인 유형 지정\n",
    "- 데이터 덧붙이기\n",
    "- 인덱스 레이블의 무시\n",
    "\n",
    "\n",
    "## Concatenating data\n",
    "접합의 기본 의미  \n",
    "\n",
    "접합은 pandas의 `pd.concat()`함수를 통해 가능하며, 이 함수에 접합하고자 하는 객체의 리스트를 전달하는 것이 기본적인 문법이다. \n",
    "\n",
    "## `Series` 간의 접합\n",
    "기본적으로 행 방향으로 이어붙여지게 된다.  \n",
    "**정렬 작업이 일어나지 않았으므로 인덱스 레이블이 중복된 결과를 보여준다.**"
   ]
  },
  {
   "cell_type": "code",
   "execution_count": 2,
   "metadata": {},
   "outputs": [
    {
     "data": {
      "text/plain": [
       "0    0\n",
       "1    1\n",
       "2    2\n",
       "dtype: int64"
      ]
     },
     "execution_count": 2,
     "metadata": {},
     "output_type": "execute_result"
    }
   ],
   "source": [
    "# two Series objects to concatenate\n",
    "s1 = pd.Series(np.arange(0, 3))\n",
    "s2 = pd.Series(np.arange(5, 8))\n",
    "s1"
   ]
  },
  {
   "cell_type": "code",
   "execution_count": 3,
   "metadata": {},
   "outputs": [
    {
     "data": {
      "text/plain": [
       "0    5\n",
       "1    6\n",
       "2    7\n",
       "dtype: int64"
      ]
     },
     "execution_count": 3,
     "metadata": {},
     "output_type": "execute_result"
    }
   ],
   "source": [
    "s2"
   ]
  },
  {
   "cell_type": "code",
   "execution_count": 4,
   "metadata": {},
   "outputs": [
    {
     "data": {
      "text/plain": [
       "0    0\n",
       "1    1\n",
       "2    2\n",
       "0    5\n",
       "1    6\n",
       "2    7\n",
       "dtype: int64"
      ]
     },
     "execution_count": 4,
     "metadata": {},
     "output_type": "execute_result"
    }
   ],
   "source": [
    "# concatenate them\n",
    "pd.concat([s1, s2])"
   ]
  },
  {
   "cell_type": "markdown",
   "metadata": {},
   "source": [
    "## `DataFrame`간의 접합\n",
    "0\\~8 수와 9\\~17 수로 이루어진 두 데이터 프레임을 콘캣해본다.  \n",
    "아무 조건 없이 하면 행 방향으로 콘캣이 이루어진다. (기본적으로 로우가 연결되며 인덱스 레이블이 중복됨)  \n",
    "\n",
    "### 없는 칼럼에 등장하는 `NaN`\n",
    "칼럼 레이블은 두 DataFrame 객체의 칼럼 레이블이 통합되는데, 두 개 이상이 될 수 있는 모든 소스 객체에 대해 정렬 작업이 일어나기 때문이다.  \n",
    "pandas는 총합된 결과에 현재 처리하고 있는 `DataFrame`에는 없었던 칼럼이 존재할 경우에는 `NaN`값을 삽입하게 된다.  \n",
    "즉 공통의 칼럼과 그렇지 않은 칼럼이 다 존재할 때는 `NaN`이 존재하게 된다. "
   ]
  },
  {
   "cell_type": "code",
   "execution_count": 6,
   "metadata": {},
   "outputs": [
    {
     "data": {
      "text/plain": [
       "   a  b  c\n",
       "0  0  1  2\n",
       "1  3  4  5\n",
       "2  6  7  8"
      ]
     },
     "execution_count": 6,
     "metadata": {},
     "output_type": "execute_result"
    }
   ],
   "source": [
    "# create two DataFrame objects to concatenate\n",
    "# using the same index labels and column names, \n",
    "# but different values\n",
    "df1 = pd.DataFrame(np.arange(9).reshape(3, 3), \n",
    "                   columns=['a', 'b', 'c'])\n",
    "#df2 has 9 .. 18\n",
    "df2 = pd.DataFrame(np.arange(9, 18).reshape(3, 3), \n",
    "                   columns=['a', 'b', 'c'])\n",
    "df1"
   ]
  },
  {
   "cell_type": "code",
   "execution_count": 7,
   "metadata": {},
   "outputs": [
    {
     "data": {
      "text/plain": [
       "    a   b   c\n",
       "0   9  10  11\n",
       "1  12  13  14\n",
       "2  15  16  17"
      ]
     },
     "execution_count": 7,
     "metadata": {},
     "output_type": "execute_result"
    }
   ],
   "source": [
    "df2"
   ]
  },
  {
   "cell_type": "code",
   "execution_count": 8,
   "metadata": {},
   "outputs": [
    {
     "data": {
      "text/plain": [
       "    a   b   c\n",
       "0   0   1   2\n",
       "1   3   4   5\n",
       "2   6   7   8\n",
       "0   9  10  11\n",
       "1  12  13  14\n",
       "2  15  16  17"
      ]
     },
     "execution_count": 8,
     "metadata": {},
     "output_type": "execute_result"
    }
   ],
   "source": [
    "# do the concat\n",
    "pd.concat([df1, df2])"
   ]
  },
  {
   "cell_type": "markdown",
   "metadata": {},
   "source": [
    "콘캣 시 없는 서로 존재하지 않는 칼럼에 대해 `NaN`이 나타나는 결과이다. "
   ]
  },
  {
   "cell_type": "code",
   "execution_count": 9,
   "metadata": {},
   "outputs": [
    {
     "data": {
      "text/plain": [
       "   a  b  c\n",
       "0  0  1  2\n",
       "1  3  4  5\n",
       "2  6  7  8"
      ]
     },
     "execution_count": 9,
     "metadata": {},
     "output_type": "execute_result"
    }
   ],
   "source": [
    "# demonstrate concatenating two DataFrame objects with\n",
    "# different columns\n",
    "df1 = pd.DataFrame(np.arange(9).reshape(3, 3), \n",
    "                   columns=['a', 'b', 'c'])\n",
    "df2 = pd.DataFrame(np.arange(9, 18).reshape(3, 3), \n",
    "                   columns=['a', 'c', 'd'])\n",
    "df1"
   ]
  },
  {
   "cell_type": "code",
   "execution_count": 10,
   "metadata": {},
   "outputs": [
    {
     "data": {
      "text/plain": [
       "    a   c   d\n",
       "0   9  10  11\n",
       "1  12  13  14\n",
       "2  15  16  17"
      ]
     },
     "execution_count": 10,
     "metadata": {},
     "output_type": "execute_result"
    }
   ],
   "source": [
    "df2"
   ]
  },
  {
   "cell_type": "code",
   "execution_count": 11,
   "metadata": {},
   "outputs": [
    {
     "data": {
      "text/plain": [
       "    a    b   c     d\n",
       "0   0  1.0   2   NaN\n",
       "1   3  4.0   5   NaN\n",
       "2   6  7.0   8   NaN\n",
       "0   9  NaN  10  11.0\n",
       "1  12  NaN  13  14.0\n",
       "2  15  NaN  16  17.0"
      ]
     },
     "execution_count": 11,
     "metadata": {},
     "output_type": "execute_result"
    }
   ],
   "source": [
    "# do the concat, NaN's will be filled in for\n",
    "# the d column for df1 and b column for df2\n",
    "pd.concat([df1, df2])"
   ]
  },
  {
   "cell_type": "markdown",
   "metadata": {},
   "source": [
    "### `(keys = [])` : 접합된 데이터를 구분하는 계층형 인덱스 생성\n",
    "접합된 데이터를 구분할 수 있게 `keys=` 파라미터를 사용하여 각 그룹에 이름을 지정할 수 있다.  \n",
    "이 파라미터는 계층형 인덱스를 생성함으로써 `DataFrame`의 `.loc`속성을 통해 각 데이터 그룹을 개별적으로 참조할 수 있게 해준다.  \n",
    "이는 나중에 결과 `DataFrame`에서 어느 데이터가 어느 소스에서 왔는지를 판별할 수 있게 하는 편리한 방법이다.  \n",
    "\n",
    "다음은 원래의 각 `DataFrame` 객체에 이름을 부여하고, 접합한 다음, df2 객체로부터 유래한 로우만 확인하는 과정이다."
   ]
  },
  {
   "cell_type": "code",
   "execution_count": 12,
   "metadata": {},
   "outputs": [
    {
     "data": {
      "text/plain": [
       "        a    b   c     d\n",
       "df1 0   0  1.0   2   NaN\n",
       "    1   3  4.0   5   NaN\n",
       "    2   6  7.0   8   NaN\n",
       "df2 0   9  NaN  10  11.0\n",
       "    1  12  NaN  13  14.0\n",
       "    2  15  NaN  16  17.0"
      ]
     },
     "execution_count": 12,
     "metadata": {},
     "output_type": "execute_result"
    }
   ],
   "source": [
    "# concat the two objects, but create an index using the\n",
    "# given keys \n",
    "df_concated = pd.concat([df1, df2], keys=['df1', 'df2'])\n",
    "\n",
    "# note in the labeling of the rows in the output\n",
    "df_concated"
   ]
  },
  {
   "cell_type": "markdown",
   "metadata": {},
   "source": [
    "부여했던 키를 사용하여 특정 데이터 서브셋만 조회할 수 있다."
   ]
  },
  {
   "cell_type": "code",
   "execution_count": 13,
   "metadata": {},
   "outputs": [
    {
     "data": {
      "text/plain": [
       "    a   b   c     d\n",
       "0   9 NaN  10  11.0\n",
       "1  12 NaN  13  14.0\n",
       "2  15 NaN  16  17.0"
      ]
     },
     "execution_count": 13,
     "metadata": {},
     "output_type": "execute_result"
    }
   ],
   "source": [
    "# we can extract the data originating from\n",
    "# the first or second source DataFrame\n",
    "df_concated.loc['df2']"
   ]
  },
  {
   "cell_type": "markdown",
   "metadata": {},
   "source": [
    "### `(axis = )` : 정렬 기준의 축의 전환\n",
    "접합 시의 정렬 기준이 되는 축을 지정할 수 있다.  \n",
    "\n",
    "다음은 두 `DataFrame`객체를 칼럼 축을 기준으로 접합시킴으로써 로우 인덱스에 대해 정렬이 되게 만든 예시이다."
   ]
  }
 ],
 "metadata": {
  "anaconda-cloud": {},
  "kernelspec": {
   "display_name": "Python 3 (ipykernel)",
   "language": "python",
   "name": "python3"
  },
  "language_info": {
   "codemirror_mode": {
    "name": "ipython",
    "version": 3
   },
   "file_extension": ".py",
   "mimetype": "text/x-python",
   "name": "python",
   "nbconvert_exporter": "python",
   "pygments_lexer": "ipython3",
   "version": "3.8.5"
  },
  "latex_envs": {
   "LaTeX_envs_menu_present": true,
   "autoclose": true,
   "autocomplete": true,
   "bibliofile": "biblio.bib",
   "cite_by": "apalike",
   "current_citInitial": 1,
   "eqLabelWithNumbers": true,
   "eqNumInitial": 1,
   "hotkeys": {
    "equation": "Ctrl-E",
    "itemize": "Ctrl-I"
   },
   "labels_anchors": false,
   "latex_user_defs": false,
   "report_style_numbering": false,
   "user_envs_cfg": false
  },
  "toc": {
   "base_numbering": 1,
   "nav_menu": {},
   "number_sections": true,
   "sideBar": true,
   "skip_h1_title": false,
   "title_cell": "Table of Contents",
   "title_sidebar": "Contents",
   "toc_cell": true,
   "toc_position": {},
   "toc_section_display": true,
   "toc_window_display": true
  }
 },
 "nbformat": 4,
 "nbformat_minor": 1
}

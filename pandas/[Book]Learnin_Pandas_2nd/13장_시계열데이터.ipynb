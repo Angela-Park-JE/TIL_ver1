{
 "cells": [
  {
   "cell_type": "markdown",
   "metadata": {
    "toc": true
   },
   "source": [
    "<h1>Table of Contents<span class=\"tocSkip\"></span></h1>\n",
    "<div class=\"toc\"><ul class=\"toc-item\"><li><span><a href=\"#Configuring-pandas\" data-toc-modified-id=\"Configuring-pandas-1\"><span class=\"toc-item-num\">1&nbsp;&nbsp;</span>Configuring pandas</a></span></li><li><span><a href=\"#시계열-모델링\" data-toc-modified-id=\"시계열-모델링-2\"><span class=\"toc-item-num\">2&nbsp;&nbsp;</span>시계열 모델링</a></span></li><li><span><a href=\"#날짜,-시간,-인터벌의-표현\" data-toc-modified-id=\"날짜,-시간,-인터벌의-표현-3\"><span class=\"toc-item-num\">3&nbsp;&nbsp;</span>날짜, 시간, 인터벌의 표현</a></span><ul class=\"toc-item\"><li><span><a href=\"#The-datetime,-day,-and-time-objects\" data-toc-modified-id=\"The-datetime,-day,-and-time-objects-3.1\"><span class=\"toc-item-num\">3.1&nbsp;&nbsp;</span>The datetime, day, and time objects</a></span><ul class=\"toc-item\"><li><span><a href=\"#datetime\" data-toc-modified-id=\"datetime-3.1.1\"><span class=\"toc-item-num\">3.1.1&nbsp;&nbsp;</span><code>datetime</code></a></span></li><li><span><a href=\"#datetime.now()\" data-toc-modified-id=\"datetime.now()-3.1.2\"><span class=\"toc-item-num\">3.1.2&nbsp;&nbsp;</span><code>datetime.now()</code></a></span></li><li><span><a href=\"#datetime.date(datetime(y,m,d))\" data-toc-modified-id=\"datetime.date(datetime(y,m,d))-3.1.3\"><span class=\"toc-item-num\">3.1.3&nbsp;&nbsp;</span><code>datetime.date(datetime(y,m,d))</code></a></span></li><li><span><a href=\"#datetime.time(datetime(y,m,d,h,m))\" data-toc-modified-id=\"datetime.time(datetime(y,m,d,h,m))-3.1.4\"><span class=\"toc-item-num\">3.1.4&nbsp;&nbsp;</span><code>datetime.time(datetime(y,m,d,h,m))</code></a></span></li></ul></li><li><span><a href=\"#Timestamp-objects\" data-toc-modified-id=\"Timestamp-objects-3.2\"><span class=\"toc-item-num\">3.2&nbsp;&nbsp;</span><code>Timestamp</code> objects</a></span><ul class=\"toc-item\"><li><span><a href=\"#pd.Timestamp('now')\" data-toc-modified-id=\"pd.Timestamp('now')-3.2.1\"><span class=\"toc-item-num\">3.2.1&nbsp;&nbsp;</span>pd.Timestamp('now')</a></span></li></ul></li><li><span><a href=\"#Timedelta로-인터벌-표현\" data-toc-modified-id=\"Timedelta로-인터벌-표현-3.3\"><span class=\"toc-item-num\">3.3&nbsp;&nbsp;</span><code>Timedelta</code>로 인터벌 표현</a></span><ul class=\"toc-item\"><li><span><a href=\"#날짜-더하기\" data-toc-modified-id=\"날짜-더하기-3.3.1\"><span class=\"toc-item-num\">3.3.1&nbsp;&nbsp;</span>날짜 더하기</a></span></li><li><span><a href=\"#날짜-사이-일-수-구하기\" data-toc-modified-id=\"날짜-사이-일-수-구하기-3.3.2\"><span class=\"toc-item-num\">3.3.2&nbsp;&nbsp;</span>날짜 사이 일 수 구하기</a></span></li></ul></li></ul></li><li><span><a href=\"#시계열-데이터\" data-toc-modified-id=\"시계열-데이터-4\"><span class=\"toc-item-num\">4&nbsp;&nbsp;</span>시계열 데이터</a></span><ul class=\"toc-item\"><li><span><a href=\"#DatetimeIndex-를-사용한-인덱싱\" data-toc-modified-id=\"DatetimeIndex-를-사용한-인덱싱-4.1\"><span class=\"toc-item-num\">4.1&nbsp;&nbsp;</span><code>DatetimeIndex</code> 를 사용한 인덱싱</a></span><ul class=\"toc-item\"><li><span><a href=\"#DatetimeIndex-객체-만들기:-datetime-리스트-사용\" data-toc-modified-id=\"DatetimeIndex-객체-만들기:-datetime-리스트-사용-4.1.1\"><span class=\"toc-item-num\">4.1.1&nbsp;&nbsp;</span><code>DatetimeIndex</code> 객체 만들기: <code>datetime</code> 리스트 사용</a></span></li><li><span><a href=\"#DatetimeIndex-객체-만들기:-날짜나-시간을-가진-문자열-리스트-사용\" data-toc-modified-id=\"DatetimeIndex-객체-만들기:-날짜나-시간을-가진-문자열-리스트-사용-4.1.2\"><span class=\"toc-item-num\">4.1.2&nbsp;&nbsp;</span><code>DatetimeIndex</code> 객체 만들기: 날짜나 시간을 가진 문자열 리스트 사용</a></span></li></ul></li><li><span><a href=\"#pd.to_datetime()로-Timestamp객체-만들기\" data-toc-modified-id=\"pd.to_datetime()로-Timestamp객체-만들기-4.2\"><span class=\"toc-item-num\">4.2&nbsp;&nbsp;</span><code>pd.to_datetime()</code>로 <code>Timestamp</code>객체 만들기</a></span><ul class=\"toc-item\"><li><span><a href=\"#에러-없이-Timestamp로-변환하기\" data-toc-modified-id=\"에러-없이-Timestamp로-변환하기-4.2.1\"><span class=\"toc-item-num\">4.2.1&nbsp;&nbsp;</span>에러 없이 Timestamp로 변환하기</a></span></li></ul></li><li><span><a href=\"#🧪-pd.date_range(periods-=-n)-:-특정-빈도의-시간-범위-만들기\" data-toc-modified-id=\"🧪-pd.date_range(periods-=-n)-:-특정-빈도의-시간-범위-만들기-4.3\"><span class=\"toc-item-num\">4.3&nbsp;&nbsp;</span>🧪 <code>pd.date_range(periods = n)</code> : 특정 빈도의 시간 범위 만들기</a></span></li><li><span><a href=\"#DatetimeIndex에서-슬라이싱\" data-toc-modified-id=\"DatetimeIndex에서-슬라이싱-4.4\"><span class=\"toc-item-num\">4.4&nbsp;&nbsp;</span><code>DatetimeIndex</code>에서 슬라이싱</a></span><ul class=\"toc-item\"><li><span><a href=\"#데이터-자동-정렬\" data-toc-modified-id=\"데이터-자동-정렬-4.4.1\"><span class=\"toc-item-num\">4.4.1&nbsp;&nbsp;</span>데이터 자동 정렬</a></span></li><li><span><a href=\"#🧪-날짜-문자열로-슬라이싱\" data-toc-modified-id=\"🧪-날짜-문자열로-슬라이싱-4.4.2\"><span class=\"toc-item-num\">4.4.2&nbsp;&nbsp;</span>🧪 날짜 문자열로 슬라이싱</a></span></li><li><span><a href=\"#부분-특화:-문자열의-일부분으로-슬라이싱\" data-toc-modified-id=\"부분-특화:-문자열의-일부분으로-슬라이싱-4.4.3\"><span class=\"toc-item-num\">4.4.3&nbsp;&nbsp;</span>부분 특화: 문자열의 일부분으로 슬라이싱</a></span></li></ul></li></ul></li><li><span><a href=\"#🧪-Creating-time-series-data-with-specific-frequencies\" data-toc-modified-id=\"🧪-Creating-time-series-data-with-specific-frequencies-5\"><span class=\"toc-item-num\">5&nbsp;&nbsp;</span>🧪 Creating time-series data with specific frequencies</a></span><ul class=\"toc-item\"><li><ul class=\"toc-item\"><li><span><a href=\"#실제로-사용할-수-있는-빈도의-종류\" data-toc-modified-id=\"실제로-사용할-수-있는-빈도의-종류-5.0.1\"><span class=\"toc-item-num\">5.0.1&nbsp;&nbsp;</span>실제로 사용할 수 있는 빈도의 종류</a></span></li></ul></li><li><span><a href=\"#pd.date_range(freq-=-'T')-:-분-단위-date-range\" data-toc-modified-id=\"pd.date_range(freq-=-'T')-:-분-단위-date-range-5.1\"><span class=\"toc-item-num\">5.1&nbsp;&nbsp;</span>pd.date_range(freq = 'T') : 분 단위 date range</a></span></li><li><span><a href=\"#pd.date_range(freq-=-'B')-:-영업일-단위-date-range\" data-toc-modified-id=\"pd.date_range(freq-=-'B')-:-영업일-단위-date-range-5.2\"><span class=\"toc-item-num\">5.2&nbsp;&nbsp;</span>pd.date_range(freq = 'B') : 영업일 단위 date range</a></span></li><li><span><a href=\"#pd.date_range(freq-=-'S')-:-초-단위-date-range\" data-toc-modified-id=\"pd.date_range(freq-=-'S')-:-초-단위-date-range-5.3\"><span class=\"toc-item-num\">5.3&nbsp;&nbsp;</span>pd.date_range(freq = 'S') : 초 단위 date range</a></span></li></ul></li><li><span><a href=\"#DateOffset:-Date-offsets\" data-toc-modified-id=\"DateOffset:-Date-offsets-6\"><span class=\"toc-item-num\">6&nbsp;&nbsp;</span><code>DateOffset</code>: Date offsets</a></span><ul class=\"toc-item\"><li><span><a href=\"#시간-오프셋으로-인터벌-표현\" data-toc-modified-id=\"시간-오프셋으로-인터벌-표현-6.1\"><span class=\"toc-item-num\">6.1&nbsp;&nbsp;</span>시간 오프셋으로 인터벌 표현</a></span><ul class=\"toc-item\"><li><span><a href=\"#pandas에-내장된-다양한-DateOffset-클래스\" data-toc-modified-id=\"pandas에-내장된-다양한-DateOffset-클래스-6.1.1\"><span class=\"toc-item-num\">6.1.1&nbsp;&nbsp;</span>pandas에 내장된 다양한 <code>DateOffset</code> 클래스</a></span></li><li><span><a href=\"#DateOffset의-사용-시나리오\" data-toc-modified-id=\"DateOffset의-사용-시나리오-6.1.2\"><span class=\"toc-item-num\">6.1.2&nbsp;&nbsp;</span><code>DateOffset</code>의 사용 시나리오</a></span></li><li><span><a href=\"#DateOffset-만들기\" data-toc-modified-id=\"DateOffset-만들기-6.1.3\"><span class=\"toc-item-num\">6.1.3&nbsp;&nbsp;</span><code>DateOffset</code> 만들기</a></span></li><li><span><a href=\"#DateOffset-활용하기\" data-toc-modified-id=\"DateOffset-활용하기-6.1.4\"><span class=\"toc-item-num\">6.1.4&nbsp;&nbsp;</span><code>DateOffset</code> 활용하기</a></span><ul class=\"toc-item\"><li><span><a href=\"#영업일-더하기\" data-toc-modified-id=\"영업일-더하기-6.1.4.1\"><span class=\"toc-item-num\">6.1.4.1&nbsp;&nbsp;</span>영업일 더하기</a></span></li><li><span><a href=\"#오프셋에-연산-사용하기\" data-toc-modified-id=\"오프셋에-연산-사용하기-6.1.4.2\"><span class=\"toc-item-num\">6.1.4.2&nbsp;&nbsp;</span>오프셋에 연산 사용하기</a></span></li><li><span><a href=\"#오프셋으로-마지막-영업일-구하기\" data-toc-modified-id=\"오프셋으로-마지막-영업일-구하기-6.1.4.3\"><span class=\"toc-item-num\">6.1.4.3&nbsp;&nbsp;</span>오프셋으로 마지막 영업일 구하기</a></span></li><li><span><a href=\"#해당-날짜로부터-마지막-영업일-구하기\" data-toc-modified-id=\"해당-날짜로부터-마지막-영업일-구하기-6.1.4.4\"><span class=\"toc-item-num\">6.1.4.4&nbsp;&nbsp;</span>해당 날짜로부터 마지막 영업일 구하기</a></span></li><li><span><a href=\"#주-단위-오프셋으로-특정-주의-요일의-날짜-구하기\" data-toc-modified-id=\"주-단위-오프셋으로-특정-주의-요일의-날짜-구하기-6.1.4.5\"><span class=\"toc-item-num\">6.1.4.5&nbsp;&nbsp;</span>주 단위 오프셋으로 특정 주의 요일의 날짜 구하기</a></span></li></ul></li></ul></li></ul></li><li><span><a href=\"#Anchored-Offsets\" data-toc-modified-id=\"Anchored-Offsets-7\"><span class=\"toc-item-num\">7&nbsp;&nbsp;</span>Anchored Offsets</a></span><ul class=\"toc-item\"><li><ul class=\"toc-item\"><li><span><a href=\"#두-날짜-사이의-모든-특정-요일-날짜로-이루어진-인덱스-받기\" data-toc-modified-id=\"두-날짜-사이의-모든-특정-요일-날짜로-이루어진-인덱스-받기-7.0.1\"><span class=\"toc-item-num\">7.0.1&nbsp;&nbsp;</span>두 날짜 사이의 모든 특정 요일 날짜로 이루어진 인덱스 받기</a></span></li></ul></li></ul></li><li><span><a href=\"#Period로-기간-표현\" data-toc-modified-id=\"Period로-기간-표현-8\"><span class=\"toc-item-num\">8&nbsp;&nbsp;</span>Period로 기간 표현</a></span><ul class=\"toc-item\"><li><span><a href=\"#Period로-시간-인터벌-모델링\" data-toc-modified-id=\"Period로-시간-인터벌-모델링-8.1\"><span class=\"toc-item-num\">8.1&nbsp;&nbsp;</span>Period로 시간 인터벌 모델링</a></span><ul class=\"toc-item\"><li><span><a href=\"#타임스탬프와-기간을-나타내는-빈도로-Period-만들기\" data-toc-modified-id=\"타임스탬프와-기간을-나타내는-빈도로-Period-만들기-8.1.1\"><span class=\"toc-item-num\">8.1.1&nbsp;&nbsp;</span>타임스탬프와 기간을 나타내는 빈도로 Period 만들기</a></span></li><li><span><a href=\"#Period-의-연산\" data-toc-modified-id=\"Period-의-연산-8.1.2\"><span class=\"toc-item-num\">8.1.2&nbsp;&nbsp;</span>Period 의 연산</a></span></li></ul></li><li><span><a href=\"#PeriodIndex를-사용한-연산\" data-toc-modified-id=\"PeriodIndex를-사용한-연산-8.2\"><span class=\"toc-item-num\">8.2&nbsp;&nbsp;</span><code>PeriodIndex</code>를 사용한 연산</a></span><ul class=\"toc-item\"><li><span><a href=\"#Period.start_time|end_time\" data-toc-modified-id=\"Period.start_time|end_time-8.2.1\"><span class=\"toc-item-num\">8.2.1&nbsp;&nbsp;</span><code>Period</code>.start_time|end_time</a></span></li><li><span><a href=\"#PeriodIndex-에서-슬라이싱\" data-toc-modified-id=\"PeriodIndex-에서-슬라이싱-8.2.2\"><span class=\"toc-item-num\">8.2.2&nbsp;&nbsp;</span><code>PeriodIndex</code> 에서 슬라이싱</a></span></li></ul></li></ul></li></ul></div>"
   ]
  },
  {
   "cell_type": "markdown",
   "metadata": {},
   "source": [
    "# Configuring pandas"
   ]
  },
  {
   "cell_type": "code",
   "execution_count": 1,
   "metadata": {},
   "outputs": [],
   "source": [
    "# import numpy and pandas\n",
    "import numpy as np\n",
    "import pandas as pd\n",
    "\n",
    "# used for dates\n",
    "import datetime\n",
    "from datetime import datetime, date\n",
    "\n",
    "# Set formattign options\n",
    "pd.set_option('display.notebook_repr_html', False)\n",
    "pd.set_option('display.max_columns', 7)\n",
    "pd.set_option('display.max_rows', 10)\n",
    "pd.set_option('display.width', 60)\n",
    "\n",
    "# bring in matplotlib for graphics\n",
    "import matplotlib.pyplot as plt\n",
    "%matplotlib inline"
   ]
  },
  {
   "cell_type": "markdown",
   "metadata": {},
   "source": [
    "# 시계열 모델링\n",
    "---\n",
    "시계열은 특정 인터벌로 일정 기간에 걸쳐 측정된 하나 이상의 변수에 대한 데이터다. 일단 시계열 데이터가 획득되면 보통은 시계열 안에서의 패턴을 식별하기 위한 분석, 즉 시간의 흐름에 따라 무슨 일이 벌어지는지에 대한 분석이 수행된다. 금융 정보의 분석이나 웨어러블 디바이스의 사용자 데이터 관리 등 오늘날에 시계열 데이터의 분석은 필수적인 능력이다.  \n",
    "\n",
    "pandas는 시계열 데이터의 모델링을 위한 방대한 기능을 제공한다.  \n",
    "- 날짜, 시간, 인터벌의 표현\n",
    "- Timestamp로 특정 시전 나타내기\n",
    "- Timedelta로 인터벌 표현\n",
    "- DatetimeIndex를 사용한 인덱싱\n",
    "- 특정 빈도의 시계열 생성\n",
    "- 시간 오프셋으로 인터벌 표현\n",
    "- 고정 오프셋으로 특정 날짜 지정\n",
    "- Period로 시간 인터벌 모델링\n",
    "- PeriodIndex를 사용한 인덱싱\n",
    "- 캘린더를 사용한 휴일 다루기\n",
    "- 시간대를 사용한 타임스탬프 정규화\n",
    "- 쉬프팅(shifting)과 래깅(lagging)\n",
    "- 시계열 데이터의 빈도 변환\n",
    "- 업샘플링과 다운샘플링\n",
    "- 시계열 데이터의 롤링 윈도우\n"
   ]
  },
  {
   "cell_type": "markdown",
   "metadata": {},
   "source": [
    "# 날짜, 시간, 인터벌의 표현\n",
    "---\n",
    "\n",
    "시계열 데이터를 이해하기 위해 먼저 알아야 할 것은 pandas가 날짜, 시간, 인터벌을 표현하는 방법이다. 파이썬이나 NumPy가 시계열 데이터를 다루기에 충분할 만큼의 시간 관련 개념을 구현하지 않은 반면 pandas는 그런 개념을 표현할 수 있는 폭넓은 기능을 제공한다.  \n",
    "그런 기능에는 **서로 다른 빈도의 데이터 변형**이나 **재무적 계산을 위해 영업일과 휴일이 반영된 서로 다른 캘린더를 적용**하는 등의 기능이 포함된다.  \n",
    "\n",
    "## The datetime, day, and time objects\n",
    "`datetime`, `date`, `time` 객체\n",
    "\n",
    "`datetime` 객체는 pandas가 아닌 **파이썬 `datetime` 라이브러리의 일부**다.  \n",
    "- 날짜와 시간을 모두 사용해 특정 시점을 나타내거나, \n",
    "- 시간 부분을 빼고 날짜만 나타내거나, \n",
    "- 혹은 날짜 없이 시간만 나타내는 등의 일반적이고 다양한 패턴 표현에 사용된다.  \n",
    "\n",
    "`datetime` 객체는 시계열 데이터에 대한 엄청난 계산을 수행하는, 수학에서 요구되는 만큼의 정확도를 갖고 있지는 않다. 그러나 pandas 객체를 초기화할 때 일반적으로 사용되며, pandas는 내부적으로 `datetime` 객체를 자신의 `Timestamp` 객체로 변환시킨다. 따라서 알아두는 것이 좋다.  \n",
    "\n",
    "### `datetime`\n",
    "`datetime` 객체의 초기화에는 **최소한 년, 월, 일에 해당하는 세 개의 파라미터**가 필요하다.  \n",
    "이때 시간과 분은 기본적으로 0으로 설정된다.  \n",
    "초기화 할 때 시간과 분을 추가로 지정할 수 있다. "
   ]
  },
  {
   "cell_type": "code",
   "execution_count": 2,
   "metadata": {},
   "outputs": [
    {
     "data": {
      "text/plain": [
       "datetime.datetime(2022, 12, 1, 0, 0)"
      ]
     },
     "execution_count": 2,
     "metadata": {},
     "output_type": "execute_result"
    }
   ],
   "source": [
    "# datetime object for Dec 1 2022\n",
    "datetime(2022, 12, 1)"
   ]
  },
  {
   "cell_type": "code",
   "execution_count": 3,
   "metadata": {},
   "outputs": [
    {
     "data": {
      "text/plain": [
       "datetime.datetime(2022, 12, 1, 12, 30)"
      ]
     },
     "execution_count": 3,
     "metadata": {},
     "output_type": "execute_result"
    }
   ],
   "source": [
    "# specific date and also with a time of 12:30 pm\n",
    "datetime(2022, 12, 1, 12, 30)"
   ]
  },
  {
   "cell_type": "markdown",
   "metadata": {},
   "source": [
    "### `datetime.now()`\n",
    "현재의 날짜와 시각을 확인하려면 지역 시간을 가져오는 함수인 `datetime.now()`를 사용한다."
   ]
  },
  {
   "cell_type": "code",
   "execution_count": 4,
   "metadata": {},
   "outputs": [
    {
     "data": {
      "text/plain": [
       "datetime.datetime(2023, 5, 11, 21, 7, 34, 774130)"
      ]
     },
     "execution_count": 4,
     "metadata": {},
     "output_type": "execute_result"
    }
   ],
   "source": [
    "# get the local \"now\" (date and time)\n",
    "# can take a timezone, but that's not demonstrated here\n",
    "datetime.now()"
   ]
  },
  {
   "cell_type": "markdown",
   "metadata": {},
   "source": [
    "### `datetime.date(datetime(y,m,d))`\n",
    "`datetime.date` 객체는 시간 정보 없이 특정 날짜만을 나타낸다.  \n",
    "`date` 객체를 만들려면 `date`의 생성자에 `datetime` 객체를 전달하면 된다. "
   ]
  },
  {
   "cell_type": "code",
   "execution_count": 5,
   "metadata": {},
   "outputs": [
    {
     "data": {
      "text/plain": [
       "datetime.date(2022, 12, 1)"
      ]
     },
     "execution_count": 5,
     "metadata": {},
     "output_type": "execute_result"
    }
   ],
   "source": [
    "# a date without time can be represented\n",
    "# by creating a date using a datetime object\n",
    "datetime.date(datetime(2022, 12, 1))"
   ]
  },
  {
   "cell_type": "markdown",
   "metadata": {},
   "source": [
    "현재의 날짜만 가져온다고 한다면 이렇게 쓸 수 있다."
   ]
  },
  {
   "cell_type": "code",
   "execution_count": 6,
   "metadata": {},
   "outputs": [
    {
     "data": {
      "text/plain": [
       "datetime.date(2023, 5, 11)"
      ]
     },
     "execution_count": 6,
     "metadata": {},
     "output_type": "execute_result"
    }
   ],
   "source": [
    "# get just the current date\n",
    "datetime.now().date()"
   ]
  },
  {
   "cell_type": "markdown",
   "metadata": {},
   "source": [
    "### `datetime.time(datetime(y,m,d,h,m))` \n",
    "날짜 정보 없는 `time` 객체는 `datetime`객체를 `time` 생성자에 전달하여 만들 수 있다.  \n"
   ]
  },
  {
   "cell_type": "code",
   "execution_count": 7,
   "metadata": {},
   "outputs": [
    {
     "data": {
      "text/plain": [
       "datetime.time(12, 30)"
      ]
     },
     "execution_count": 7,
     "metadata": {},
     "output_type": "execute_result"
    }
   ],
   "source": [
    "# get just a time from a datetime\n",
    "datetime.time(datetime(2022, 12, 1, 12, 30))"
   ]
  },
  {
   "cell_type": "markdown",
   "metadata": {},
   "source": [
    "현재의 로컬 타임만 가져온다고 하면 이렇게 쓸 수 있다."
   ]
  },
  {
   "cell_type": "code",
   "execution_count": 8,
   "metadata": {},
   "outputs": [
    {
     "data": {
      "text/plain": [
       "datetime.time(21, 7, 36, 102307)"
      ]
     },
     "execution_count": 8,
     "metadata": {},
     "output_type": "execute_result"
    }
   ],
   "source": [
    "# get the current local time\n",
    "datetime.now().time()"
   ]
  },
  {
   "cell_type": "markdown",
   "metadata": {},
   "source": [
    "## `Timestamp` objects\n",
    "Timestamp로 특정 시점 나타내기\n",
    "\n",
    "날짜와 시간은 `pandas.tslib.Timestamp` 클래스를 사용해서도 표현할 수 있다.  \n",
    "pandas `Timestamp`의 데이터 타입은 datetime64 이며, 파이썬 `datetime` 객체보다 정밀도가 높다.  \n",
    "pandas에서는 `Timestamp`를 `datetime`객체로 자유롭게 바꿀 수 있으므로, `datetime`객체가 필요한 곳에서 일상적으로 사용할 수 있다.  \n",
    "\n",
    "`Timestamp`객체는 `pandas.tslib.Timestamp`의 축약형인, `pd.Timestamp`를 통해 만들 수 있다.  \n",
    "생성 시에 날짜, 시간, 또는 둘 모두 지정 가능하다. "
   ]
  },
  {
   "cell_type": "code",
   "execution_count": 9,
   "metadata": {},
   "outputs": [
    {
     "data": {
      "text/plain": [
       "Timestamp('2022-12-01 00:00:00')"
      ]
     },
     "execution_count": 9,
     "metadata": {},
     "output_type": "execute_result"
    }
   ],
   "source": [
    "# a timestamp representing a specific date\n",
    "pd.Timestamp('2022-12-01')"
   ]
  },
  {
   "cell_type": "code",
   "execution_count": 10,
   "metadata": {},
   "outputs": [
    {
     "data": {
      "text/plain": [
       "Timestamp('2022-12-01 12:30:00')"
      ]
     },
     "execution_count": 10,
     "metadata": {},
     "output_type": "execute_result"
    }
   ],
   "source": [
    "# a timestamp with both date and time\n",
    "pd.Timestamp('2022-12-01 12:30')"
   ]
  },
  {
   "cell_type": "markdown",
   "metadata": {},
   "source": [
    "이때 시간만을 지정해 만든 `Timestamp`에는 기본적으로 현재 날짜가 할당된다.  "
   ]
  },
  {
   "cell_type": "code",
   "execution_count": 11,
   "metadata": {},
   "outputs": [
    {
     "data": {
      "text/plain": [
       "Timestamp('2023-05-11 12:30:00')"
      ]
     },
     "execution_count": 11,
     "metadata": {},
     "output_type": "execute_result"
    }
   ],
   "source": [
    "# timestamp with just a time\n",
    "# which adds in the current local date\n",
    "pd.Timestamp('12:30')"
   ]
  },
  {
   "cell_type": "markdown",
   "metadata": {},
   "source": [
    "###  pd.Timestamp('now')\n",
    "현재 날짜와 시간을 가져올 수 있다."
   ]
  },
  {
   "cell_type": "code",
   "execution_count": 12,
   "metadata": {},
   "outputs": [
    {
     "data": {
      "text/plain": [
       "Timestamp('2023-05-11 21:07:37.452731')"
      ]
     },
     "execution_count": 12,
     "metadata": {},
     "output_type": "execute_result"
    }
   ],
   "source": [
    "# get the current date and time (now)\n",
    "pd.Timestamp('now')"
   ]
  },
  {
   "cell_type": "markdown",
   "metadata": {},
   "source": [
    "## `Timedelta`로 인터벌 표현\n",
    "인터벌(시간 간격)을 표현하고자 할 때에는 pandas의 `Tiemdelta`객체를 사용할 수 있다.  \n",
    "이는 경과된 일수를 파악하거나 특정 인터벌을 계산할 때 일반적으로 사용된다.  \n",
    "\n",
    "### 날짜 더하기\n",
    "`Timedelta`객체를 사용해 특정일로부터 하루가 경과한 날짜를 알아내는 예다.  "
   ]
  },
  {
   "cell_type": "code",
   "execution_count": 13,
   "metadata": {},
   "outputs": [
    {
     "data": {
      "text/plain": [
       "datetime.datetime(2022, 12, 31, 0, 0)"
      ]
     },
     "execution_count": 13,
     "metadata": {},
     "output_type": "execute_result"
    }
   ],
   "source": [
    "# what is one day from 2022-12-30?\n",
    "today = datetime(2022, 12, 30)\n",
    "tomorrow = today + pd.Timedelta(days = 1)\n",
    "tomorrow"
   ]
  },
  {
   "cell_type": "markdown",
   "metadata": {},
   "source": [
    "### 날짜 사이 일 수 구하기\n",
    "객체 사이의 \\- 로 간단하게 구할 수 있다."
   ]
  },
  {
   "cell_type": "code",
   "execution_count": 14,
   "metadata": {},
   "outputs": [
    {
     "data": {
      "text/plain": [
       "datetime.timedelta(days=5)"
      ]
     },
     "execution_count": 14,
     "metadata": {},
     "output_type": "execute_result"
    }
   ],
   "source": [
    "# how many days between these two dates?\n",
    "date1 = datetime(2023, 1, 2)\n",
    "date2 = datetime(2022, 12, 28)\n",
    "date1 - date2"
   ]
  },
  {
   "cell_type": "markdown",
   "metadata": {},
   "source": [
    "반대로 앞선 날짜에서 빼게되면 -가 붙게 된다."
   ]
  },
  {
   "cell_type": "code",
   "execution_count": 15,
   "metadata": {},
   "outputs": [
    {
     "data": {
      "text/plain": [
       "datetime.timedelta(days=-5)"
      ]
     },
     "execution_count": 15,
     "metadata": {},
     "output_type": "execute_result"
    }
   ],
   "source": [
    "date2 - date1"
   ]
  },
  {
   "cell_type": "markdown",
   "metadata": {},
   "source": [
    "# 시계열 데이터\n",
    "---\n",
    "pandas는 시계열 데이터를 다루는 데에 매우 탁월한데, 그도 그럴 것이 pandas의 근원이 금융 정보의 처리에 있기 때문이다.  \n",
    "따라서 시계열 데이터를 조작하는 능력은 이전 버전을 거치면서 꾸준히 개선되어 왔다.\n",
    "\n",
    "## `DatetimeIndex` 를 사용한 인덱싱\n",
    "pandas에서 시계열 관련 기능의 핵심은 하나 이상의 타임스탬프에서의 측정치를 나타내는 특수한 인덱스의 사용을 중심으로 한다. 그 인덱스는 `DatetimeIndex` 객체다.  \n",
    "날짜와 시간을 기반으로 데이터를 자동으로 정렬해준다.  \n",
    "\n",
    "### `DatetimeIndex` 객체 만들기: `datetime` 리스트 사용\n",
    "`DatetimeIndex` 객체를 만드는 방법은 다양하다. 그중에서 다음은 `datetime`리스트를 전달해 `DatetimeIndex`를 만드는 예다.  \n",
    "dates 가 index로 주어지면서 `Series`가 만들어졌다. "
   ]
  },
  {
   "cell_type": "code",
   "execution_count": 16,
   "metadata": {},
   "outputs": [
    {
     "data": {
      "text/plain": [
       "2022-12-01   -1.011010\n",
       "2022-12-02    0.053737\n",
       "dtype: float64"
      ]
     },
     "execution_count": 16,
     "metadata": {},
     "output_type": "execute_result"
    }
   ],
   "source": [
    "# create a very simple time-series with two index labels\n",
    "# and random values\n",
    "dates = [datetime(2022, 12, 1), datetime(2022, 12, 2)]\n",
    "ts = pd.Series(np.random.randn(2), dates)\n",
    "ts"
   ]
  },
  {
   "cell_type": "markdown",
   "metadata": {},
   "source": [
    "`datetime` 객체를 받아 그 날짜 값으로 `DatetimeIndex`를 만든다.  \n",
    "\n",
    "각 인덱스 값 자체는 `Timestamp` 객체다"
   ]
  },
  {
   "cell_type": "code",
   "execution_count": 17,
   "metadata": {},
   "outputs": [
    {
     "data": {
      "text/plain": [
       "pandas.core.indexes.datetimes.DatetimeIndex"
      ]
     },
     "execution_count": 17,
     "metadata": {},
     "output_type": "execute_result"
    }
   ],
   "source": [
    "# what is the type of the index?\n",
    "type(ts.index)"
   ]
  },
  {
   "cell_type": "code",
   "execution_count": 18,
   "metadata": {},
   "outputs": [
    {
     "data": {
      "text/plain": [
       "pandas._libs.tslibs.timestamps.Timestamp"
      ]
     },
     "execution_count": 18,
     "metadata": {},
     "output_type": "execute_result"
    }
   ],
   "source": [
    "# and we can see it is a collection of timestamps\n",
    "type(ts.index[0])"
   ]
  },
  {
   "cell_type": "code",
   "execution_count": 19,
   "metadata": {},
   "outputs": [
    {
     "data": {
      "text/plain": [
       "pandas._libs.tslibs.timestamps.Timestamp"
      ]
     },
     "execution_count": 19,
     "metadata": {},
     "output_type": "execute_result"
    }
   ],
   "source": [
    "type(ts.index[1])"
   ]
  },
  {
   "cell_type": "markdown",
   "metadata": {},
   "source": [
    "### `DatetimeIndex` 객체 만들기: 날짜나 시간을 가진 문자열 리스트 사용\n",
    "시계열 데이터를 만들 때 반드시 `datetime` 객체를 전달해야 하는 것은 아니다. `Series`객체는 날짜와 시간을 나타내는 문자열을 인식해 스스로 변환할 만큼 똑똑하다!  \n",
    "\n",
    "라고 했는데 체크해보니 str 타입 그대로였으며, 제대로 시간이 적용된 것이 아니었다고 한다. 🥺"
   ]
  },
  {
   "cell_type": "code",
   "execution_count": 20,
   "metadata": {},
   "outputs": [
    {
     "data": {
      "text/plain": [
       "2022-12-01    0.469112\n",
       "2022-12-02   -0.282863\n",
       "dtype: float64"
      ]
     },
     "execution_count": 20,
     "metadata": {},
     "output_type": "execute_result"
    }
   ],
   "source": [
    "# create from just a list of dates as strings!\n",
    "np.random.seed(123456)\n",
    "dates = ['2022-12-01', '2022-12-02']\n",
    "ts = pd.Series(np.random.randn(2), dates)\n",
    "ts"
   ]
  },
  {
   "cell_type": "code",
   "execution_count": 21,
   "metadata": {},
   "outputs": [
    {
     "data": {
      "text/plain": [
       "str"
      ]
     },
     "execution_count": 21,
     "metadata": {},
     "output_type": "execute_result"
    }
   ],
   "source": [
    "type(ts.index[0])"
   ]
  },
  {
   "cell_type": "markdown",
   "metadata": {},
   "source": [
    "`datetime` 객체로 주어준다면 이렇게 출력이 된다. (pd.date_range 활용)"
   ]
  },
  {
   "cell_type": "code",
   "execution_count": 22,
   "metadata": {},
   "outputs": [
    {
     "data": {
      "text/plain": [
       "2022-12-01    0.469112\n",
       "2022-12-02   -0.282863\n",
       "Freq: D, dtype: float64"
      ]
     },
     "execution_count": 22,
     "metadata": {},
     "output_type": "execute_result"
    }
   ],
   "source": [
    "# create from just a list of dates as strings!\n",
    "np.random.seed(123456)\n",
    "ts = pd.Series(np.random.randn(2), index = pd.date_range('2022-12-01', '2022-12-02', freq = 'D'))\n",
    "ts"
   ]
  },
  {
   "cell_type": "code",
   "execution_count": 23,
   "metadata": {},
   "outputs": [
    {
     "data": {
      "text/plain": [
       "pandas._libs.tslibs.timestamps.Timestamp"
      ]
     },
     "execution_count": 23,
     "metadata": {},
     "output_type": "execute_result"
    }
   ],
   "source": [
    "type(ts.index[0])"
   ]
  },
  {
   "cell_type": "markdown",
   "metadata": {},
   "source": [
    "아무래도 업데이트를 거듭하면서 알아서 `datetime` 객체로 받아지지 않도록 했나보다. 물론 그게 편한 경우도 있을 것이기 때문이다."
   ]
  },
  {
   "cell_type": "code",
   "execution_count": 24,
   "metadata": {},
   "outputs": [
    {
     "data": {
      "text/plain": [
       "22:30:00    0.469112\n",
       "23:30:00   -0.282863\n",
       "dtype: float64"
      ]
     },
     "execution_count": 24,
     "metadata": {},
     "output_type": "execute_result"
    }
   ],
   "source": [
    "# create from times as strings\n",
    "np.random.seed(123456)\n",
    "times = ['22:30:00', '23:30:00']\n",
    "ts = pd.Series(np.random.randn(2), times)\n",
    "ts"
   ]
  },
  {
   "cell_type": "code",
   "execution_count": 25,
   "metadata": {},
   "outputs": [
    {
     "data": {
      "text/plain": [
       "str"
      ]
     },
     "execution_count": 25,
     "metadata": {},
     "output_type": "execute_result"
    }
   ],
   "source": [
    "type(ts.index[0])"
   ]
  },
  {
   "cell_type": "markdown",
   "metadata": {},
   "source": [
    "## `pd.to_datetime()`로 `Timestamp`객체 만들기\n",
    "pandas는 동일하거나 비슷한 유형의 객체 리스트를 받아 `Timestamp` 객체로 변환하고 `DatetimeIndex`를 적용하는 `pd.to_datetime()` 함수가 있다.  \n",
    "\n",
    "**리스트 중에 결측값이 있으면 \"not-a-time\" 이라는 뜻의 `NaT()`로 대체된다.**  \n",
    "\n",
    "아래에는 다양한 형태의 날짜를 가지고 `Timestamp` 객체로 만들어보는 예시이다."
   ]
  },
  {
   "cell_type": "code",
   "execution_count": 26,
   "metadata": {},
   "outputs": [
    {
     "name": "stdout",
     "output_type": "stream",
     "text": [
      "2022-12-01 00:00:00\n",
      "2022-12-02 00:00:00\n",
      "2022-12-03 00:00:00\n",
      "NaT\n"
     ]
    }
   ],
   "source": [
    "# convert a sequence of objects to a DatetimeIndex\n",
    "# there's different types of dates\n",
    "dti = pd.to_datetime(['Dec 1, 2022', \n",
    "                      '2022-12-02', \n",
    "                      '2022.12.3', \n",
    "                      None])\n",
    "# print each one!\n",
    "for l in dti: print (l)"
   ]
  },
  {
   "cell_type": "markdown",
   "metadata": {},
   "source": [
    "아예 timestamp 변환을 할 수 없는 값이 들어오면 에러가 발생한다.  "
   ]
  },
  {
   "cell_type": "code",
   "execution_count": 27,
   "metadata": {
    "scrolled": true
   },
   "outputs": [],
   "source": [
    "# this is a list of objects, not timestamps...\n",
    "# Throws an error in 0.20.1\n",
    "\n",
    "# I use 1.4.1 version. and this returns an error...\n",
    "# pd.to_datetime(['Dec 1, 2022', 'foo'])"
   ]
  },
  {
   "cell_type": "markdown",
   "metadata": {},
   "source": [
    "### 에러 없이 Timestamp로 변환하기\n",
    "에러를 발생시키지 않고 강제로 변환 작업을 하려면 `to_datetime()`에 `errors = 'coerce'` 파라미터를 셋팅한다.  \n",
    "그러면 변환될 수 없는 인덱스 값에는 `NaT`이 할당된다.  "
   ]
  },
  {
   "cell_type": "code",
   "execution_count": 28,
   "metadata": {},
   "outputs": [
    {
     "data": {
      "text/plain": [
       "DatetimeIndex(['2022-12-01', '2022-12-02', '2022-12-03',\n",
       "               '2022-12-04', '2022-12-05', '2022-12-05',\n",
       "                      'NaT'],\n",
       "              dtype='datetime64[ns]', freq=None)"
      ]
     },
     "execution_count": 28,
     "metadata": {},
     "output_type": "execute_result"
    }
   ],
   "source": [
    "# force the conversion, NaT for items that dont work\n",
    "pd.to_datetime(['Dec 1, 2022', '2022/12/02', '12-03-2022', '12/04 2022', '2022.12.5', 'Dec 5th, 2022', 'foo'], \n",
    "               errors = 'coerce')"
   ]
  },
  {
   "cell_type": "markdown",
   "metadata": {},
   "source": [
    "## 🧪 `pd.date_range(periods = n)` : 특정 빈도의 시간 범위 만들기\n",
    "특정 빈도의 시간 범위는 `pd.date_range()`로 쉽게 만들 수 있다.  \n",
    "\n",
    "연이은 열흘간의 `DatetimeIndex` 로부터 `Series`를 만들어본다. `periods = n`으로 범위 안의 데이터 개수를 정할 수 있다.  "
   ]
  },
  {
   "cell_type": "code",
   "execution_count": 29,
   "metadata": {},
   "outputs": [
    {
     "data": {
      "text/plain": [
       "2022-12-01    0.469112\n",
       "2022-12-02   -0.282863\n",
       "2022-12-03   -1.509059\n",
       "2022-12-04   -1.135632\n",
       "2022-12-05    1.212112\n",
       "2022-12-06   -0.173215\n",
       "2022-12-07    0.119209\n",
       "2022-12-08   -1.044236\n",
       "2022-12-09   -0.861849\n",
       "2022-12-10   -2.104569\n",
       "Freq: D, dtype: float64"
      ]
     },
     "execution_count": 29,
     "metadata": {},
     "output_type": "execute_result"
    }
   ],
   "source": [
    "# create a range of dates starting at a specific date\n",
    "# and for a specific number of days, creating a Series\n",
    "np.random.seed(123456)\n",
    "periods = pd.date_range('Dec/1/2022', periods = 10)\n",
    "date_series = pd.Series(np.random.randn(10), index = periods)\n",
    "date_series"
   ]
  },
  {
   "cell_type": "markdown",
   "metadata": {},
   "source": [
    "`freq = ` 옵션을 아무것도 쓰지 않으면 `D`, day가 기본으로 들어간다.  \n",
    "\n",
    "다음은 2시간 간격으로 12개의 데이터를 만들어 0시부터 22시까지 시간 범위를 만들어 본 것이다."
   ]
  },
  {
   "cell_type": "code",
   "execution_count": 30,
   "metadata": {},
   "outputs": [
    {
     "data": {
      "text/plain": [
       "2022-12-01 00:00:00   -0.494929\n",
       "2022-12-01 02:00:00    1.071804\n",
       "2022-12-01 04:00:00    0.721555\n",
       "2022-12-01 06:00:00   -0.706771\n",
       "2022-12-01 08:00:00   -1.039575\n",
       "                         ...   \n",
       "2022-12-01 14:00:00    0.567020\n",
       "2022-12-01 16:00:00    0.276232\n",
       "2022-12-01 18:00:00   -1.087401\n",
       "2022-12-01 20:00:00   -0.673690\n",
       "2022-12-01 22:00:00    0.113648\n",
       "Freq: 2H, Length: 12, dtype: float64"
      ]
     },
     "execution_count": 30,
     "metadata": {},
     "output_type": "execute_result"
    }
   ],
   "source": [
    "periods2 = pd.date_range('Dec/1/2022', periods = 12, freq = '2H')\n",
    "date_series2 = pd.Series(np.random.randn(12), index = periods2)\n",
    "date_series2"
   ]
  },
  {
   "cell_type": "markdown",
   "metadata": {},
   "source": [
    "## `DatetimeIndex`에서 슬라이싱\n",
    "`DatetimeIndex` 는 데이터 정렬, 선택, 슬라이싱 등과 같은 다양한 인덱스 작업에 사용할 수 있다.  \n",
    "\n",
    "포지션을 기준으로 슬라이싱은 알다시피! 이렇게."
   ]
  },
  {
   "cell_type": "code",
   "execution_count": 31,
   "metadata": {},
   "outputs": [
    {
     "data": {
      "text/plain": [
       "2022-12-04   -1.135632\n",
       "2022-12-05    1.212112\n",
       "2022-12-06   -0.173215\n",
       "2022-12-07    0.119209\n",
       "Freq: D, dtype: float64"
      ]
     },
     "execution_count": 31,
     "metadata": {},
     "output_type": "execute_result"
    }
   ],
   "source": [
    "# slice by location\n",
    "subset = date_series[3:7]\n",
    "subset"
   ]
  },
  {
   "cell_type": "markdown",
   "metadata": {},
   "source": [
    "### 데이터 자동 정렬\n",
    "위의 인덱스를 가지고와서 예시를 만들어본다.  \n",
    "만든 s2와 위의 date_series와 합할 것이다. (데이터가 알아서 정렬되어 더해지는지 볼 것임)  "
   ]
  },
  {
   "cell_type": "code",
   "execution_count": 32,
   "metadata": {},
   "outputs": [
    {
     "data": {
      "text/plain": [
       "2022-12-04       10\n",
       "2022-12-05      100\n",
       "2022-12-06     1000\n",
       "2022-12-07    10000\n",
       "Freq: D, dtype: int64"
      ]
     },
     "execution_count": 32,
     "metadata": {},
     "output_type": "execute_result"
    }
   ],
   "source": [
    "# a Series to demonstrate alignment\n",
    "s2 = pd.Series([10, 100, 1000, 10000], index = subset.index)\n",
    "s2"
   ]
  },
  {
   "cell_type": "markdown",
   "metadata": {},
   "source": [
    "이때! 더했더니 정렬이 일어나면서, 정렬되지 않는 아이템(인덱스가 서로 없는 아이템)에 대해서는 기존의 값이 아닌 `NaN` 이 할당된다.  "
   ]
  },
  {
   "cell_type": "code",
   "execution_count": 33,
   "metadata": {},
   "outputs": [
    {
     "data": {
      "text/plain": [
       "2022-12-01             NaN\n",
       "2022-12-02             NaN\n",
       "2022-12-03             NaN\n",
       "2022-12-04        8.864368\n",
       "2022-12-05      101.212112\n",
       "2022-12-06      999.826785\n",
       "2022-12-07    10000.119209\n",
       "2022-12-08             NaN\n",
       "2022-12-09             NaN\n",
       "2022-12-10             NaN\n",
       "Freq: D, dtype: float64"
      ]
     },
     "execution_count": 33,
     "metadata": {},
     "output_type": "execute_result"
    }
   ],
   "source": [
    "# demonstrate alignment by date on a subset of items\n",
    "date_series + s2"
   ]
  },
  {
   "cell_type": "markdown",
   "metadata": {},
   "source": [
    "### 🧪 날짜 문자열로 슬라이싱\n",
    "\n",
    "`DatetimeIndex`로 된 `Series`에서는 `datetime`객체를 지정하지 않아도 날짜를 표현하는 문자열만으로 데이터를 가져올 수 있다.  \n",
    "\n",
    "아까의 `Series`에서 직접 날짜로 데이터를 가져오거나 슬라이싱이 가능하다. 날짜를 표현하는게 맞다면 어떻게 써도 알아듣는다. "
   ]
  },
  {
   "cell_type": "code",
   "execution_count": 34,
   "metadata": {},
   "outputs": [
    {
     "data": {
      "text/plain": [
       "1.2121120250208506"
      ]
     },
     "execution_count": 34,
     "metadata": {},
     "output_type": "execute_result"
    }
   ],
   "source": [
    "# lookup item by a string representing a date\n",
    "date_series['2022-12-05']"
   ]
  },
  {
   "cell_type": "code",
   "execution_count": 35,
   "metadata": {},
   "outputs": [
    {
     "data": {
      "text/plain": [
       "1.2121120250208506"
      ]
     },
     "execution_count": 35,
     "metadata": {},
     "output_type": "execute_result"
    }
   ],
   "source": [
    "# you can write like this, like any type of dates you want!\n",
    "date_series['5 Dec 2022']"
   ]
  },
  {
   "cell_type": "code",
   "execution_count": 36,
   "metadata": {},
   "outputs": [
    {
     "data": {
      "text/plain": [
       "2022-12-05    1.212112\n",
       "2022-12-06   -0.173215\n",
       "2022-12-07    0.119209\n",
       "Freq: D, dtype: float64"
      ]
     },
     "execution_count": 36,
     "metadata": {},
     "output_type": "execute_result"
    }
   ],
   "source": [
    "# slice between two dates specified by string representing dates\n",
    "date_series['2022-12-05':'2022-12-07']"
   ]
  },
  {
   "cell_type": "markdown",
   "metadata": {},
   "source": [
    "### 부분 특화: 문자열의 일부분으로 슬라이싱\n",
    "pandas가 제공하는 또 다른 편리한 기능으로, `DatetimeIndex`를 부분 특화(partial specification)된 날짜, 즉 날짜 문자열의 일부분을 사용해 슬라이싱할 수 있다는 점이다!!!\n",
    "\n",
    "예를 들어 연이은 2 개년 `Series`가 있을 때 연을 기준으로 아이템을 선택할 수 있다.  \n",
    "\n",
    "    연, 연-월, 연-월-일은 가능하지만, 월만 할 수 있는 건 없었다.  "
   ]
  },
  {
   "cell_type": "code",
   "execution_count": 37,
   "metadata": {},
   "outputs": [
    {
     "data": {
      "text/plain": [
       "2022-01-01    0\n",
       "2022-01-02    0\n",
       "2022-01-03    0\n",
       "2022-01-04    0\n",
       "2022-01-05    0\n",
       "             ..\n",
       "2022-12-27    0\n",
       "2022-12-28    0\n",
       "2022-12-29    0\n",
       "2022-12-30    0\n",
       "2022-12-31    0\n",
       "Freq: D, Length: 365, dtype: int64"
      ]
     },
     "execution_count": 37,
     "metadata": {},
     "output_type": "execute_result"
    }
   ],
   "source": [
    "# a two year range of daily data in a Series (2022~2023)\n",
    "# only select those in 2022\n",
    "s3 = pd.Series(0, pd.date_range('2022-01-01', '2023-12-31'))\n",
    "s3['2022']"
   ]
  },
  {
   "cell_type": "code",
   "execution_count": 38,
   "metadata": {},
   "outputs": [
    {
     "data": {
      "text/plain": [
       "2022-09-01    0\n",
       "2022-09-02    0\n",
       "2022-09-03    0\n",
       "2022-09-04    0\n",
       "2022-09-05    0\n",
       "             ..\n",
       "2022-09-26    0\n",
       "2022-09-27    0\n",
       "2022-09-28    0\n",
       "2022-09-29    0\n",
       "2022-09-30    0\n",
       "Freq: D, Length: 30, dtype: int64"
      ]
     },
     "execution_count": 38,
     "metadata": {},
     "output_type": "execute_result"
    }
   ],
   "source": [
    "# 31 items for September, 2022\n",
    "s3['2022-09'] "
   ]
  },
  {
   "cell_type": "markdown",
   "metadata": {},
   "source": [
    "월로 인덱싱을 할 수도 있다. 이 마저도 사람에 따라 다르게 쓸 수 있는 표현을 알아서 잘 듣는다! "
   ]
  },
  {
   "cell_type": "code",
   "execution_count": 39,
   "metadata": {},
   "outputs": [
    {
     "data": {
      "text/plain": [
       "2022-09-01    0\n",
       "2022-09-02    0\n",
       "2022-09-03    0\n",
       "2022-09-04    0\n",
       "2022-09-05    0\n",
       "             ..\n",
       "2022-10-27    0\n",
       "2022-10-28    0\n",
       "2022-10-29    0\n",
       "2022-10-30    0\n",
       "2022-10-31    0\n",
       "Freq: D, Length: 61, dtype: int64"
      ]
     },
     "execution_count": 39,
     "metadata": {},
     "output_type": "execute_result"
    }
   ],
   "source": [
    "# items between two months\n",
    "s3['2022-09':'2022-10']"
   ]
  },
  {
   "cell_type": "code",
   "execution_count": 40,
   "metadata": {},
   "outputs": [
    {
     "data": {
      "text/plain": [
       "2022-09-01    0\n",
       "2022-09-02    0\n",
       "2022-09-03    0\n",
       "2022-09-04    0\n",
       "2022-09-05    0\n",
       "             ..\n",
       "2022-10-27    0\n",
       "2022-10-28    0\n",
       "2022-10-29    0\n",
       "2022-10-30    0\n",
       "2022-10-31    0\n",
       "Freq: D, Length: 61, dtype: int64"
      ]
     },
     "execution_count": 40,
     "metadata": {},
     "output_type": "execute_result"
    }
   ],
   "source": [
    "s3['2022 Sep':'2022 Oct']"
   ]
  },
  {
   "cell_type": "markdown",
   "metadata": {},
   "source": [
    "# 🧪 Creating time-series data with specific frequencies\n",
    "특정 빈도의 시계열 생성\n",
    "\n",
    "시계열 데이터는 일 단위뿐만 아니라 특정 시간 간격을 기준으로 만들 수도 있다.  \n",
    "`pd.date_range()`에 `freq`파라미터를 사용하면 다양한 빈도를 설정할 수 있다.  \n",
    "\n",
    "이 파라미터의 기본 값은 'D'로, 일 단위를 나타낸다.  \n",
    "설명에 따르면 '5H' 같은 것도 가능하다고 하다. (4-3에서 실행해봤음)  \n",
    "\n",
    "### 실제로 사용할 수 있는 빈도의 종류  \n",
    "|기호|설명|\n",
    "|------|-----|\n",
    "|H | 매시간 |\n",
    "|T | 매분 |\n",
    "|S | 매초 |\n",
    "|L | 밀리초 |\n",
    "|U | 마이크로초 |\n",
    "| | |\n",
    "|B | 매 영업일 |\n",
    "|C | 매 커스텀 영업일 |\n",
    "|D | 매일(기본값) |\n",
    "|W | 매주 |\n",
    "| | |\n",
    "|M | 매월 마지막 날 |\n",
    "|BM | 매월 마지막 영업일 |\n",
    "|CBM | 매월 마지막 커스텀 영업일 |\n",
    "|MS | 매월 첫째 날 |\n",
    "|BMS | 매월 첫째 영업일 |\n",
    "|CBMS | 매월 첫쨰 커스텀 영업일 |\n",
    "| | |\n",
    "|Q | 매 분기 마지막 날 |\n",
    "|BQ | 매 분기 마지막 영업일 |\n",
    "|QS | 매 분기 첫쨰 날 |\n",
    "| | |\n",
    "|A | 매년 마지막 날 |\n",
    "|BA | 매년 마지막 영업일 |\n",
    "|AS | 매년 첫째 날 |\n",
    "|BAS | 매년 첫 영업일 |\n",
    "\n",
    "## pd.date_range(freq = 'T') : 분 단위 date range\n",
    "다음은 `freq = 'T'`를 지정함으로써 분 단위의 `DatetimeIndex`를 만드는 예다. "
   ]
  },
  {
   "cell_type": "code",
   "execution_count": 41,
   "metadata": {
    "scrolled": true
   },
   "outputs": [
    {
     "data": {
      "text/plain": [
       "2022-10-03 00:00:00    0.469112\n",
       "2022-10-03 00:01:00   -0.282863\n",
       "2022-10-03 00:02:00   -1.509059\n",
       "2022-10-03 00:03:00   -1.135632\n",
       "2022-10-03 00:04:00    1.212112\n",
       "Freq: T, dtype: float64"
      ]
     },
     "execution_count": 41,
     "metadata": {},
     "output_type": "execute_result"
    }
   ],
   "source": [
    "# generate a Series at one minute intervals, with 3 months.\n",
    "np.random.seed(123456)\n",
    "bymin = pd.Series(np.random.randn(24*60*90), \n",
    "                  pd.date_range('2022-10-03', \n",
    "                                '2022-12-31 23:59',\n",
    "                                freq='T'))\n",
    "bymin[:5]"
   ]
  },
  {
   "cell_type": "markdown",
   "metadata": {},
   "source": [
    "이와 같은 시계열 데이터는 좀 더 세밀한 해상도로 슬라이싱 할 수 있다!  \n",
    "\n",
    "다음은 분 단위로 슬라이싱 하는 예이다. "
   ]
  },
  {
   "cell_type": "code",
   "execution_count": 42,
   "metadata": {},
   "outputs": [
    {
     "data": {
      "text/plain": [
       "2022-12-01 00:02:00    0.272569\n",
       "2022-12-01 00:03:00    1.511490\n",
       "2022-12-01 00:04:00   -0.740423\n",
       "2022-12-01 00:05:00   -0.104419\n",
       "2022-12-01 00:06:00    1.853364\n",
       "Freq: T, dtype: float64"
      ]
     },
     "execution_count": 42,
     "metadata": {},
     "output_type": "execute_result"
    }
   ],
   "source": [
    "# slice down to the minute\n",
    "bymin['2022-12-01 00:02':'2022-12-01 00:06']"
   ]
  },
  {
   "cell_type": "markdown",
   "metadata": {},
   "source": [
    "## pd.date_range(freq = 'B') : 영업일 단위 date range\n",
    "\n",
    "`'B'` 빈도를 사용하면 오직 영업일 단위의 시계열 데이터를 만들 수 있다.  \n",
    "주말 이틀은 건너뛰어있게 된다.  "
   ]
  },
  {
   "cell_type": "code",
   "execution_count": 43,
   "metadata": {},
   "outputs": [
    {
     "data": {
      "text/plain": [
       "DatetimeIndex(['2022-11-03', '2022-11-04', '2022-11-07',\n",
       "               '2022-11-08', '2022-11-09', '2022-11-10',\n",
       "               '2022-11-11', '2022-11-14', '2022-11-15',\n",
       "               '2022-11-16', '2022-11-17', '2022-11-18',\n",
       "               '2022-11-21', '2022-11-22', '2022-11-23',\n",
       "               '2022-11-24', '2022-11-25', '2022-11-28',\n",
       "               '2022-11-29', '2022-11-30', '2022-12-01',\n",
       "               '2022-12-02', '2022-12-05', '2022-12-06',\n",
       "               '2022-12-07', '2022-12-08', '2022-12-09',\n",
       "               '2022-12-12', '2022-12-13', '2022-12-14',\n",
       "               '2022-12-15', '2022-12-16', '2022-12-19',\n",
       "               '2022-12-20', '2022-12-21', '2022-12-22',\n",
       "               '2022-12-23', '2022-12-26', '2022-12-27',\n",
       "               '2022-12-28', '2022-12-29', '2022-12-30'],\n",
       "              dtype='datetime64[ns]', freq='B')"
      ]
     },
     "execution_count": 43,
     "metadata": {},
     "output_type": "execute_result"
    }
   ],
   "source": [
    "# generate a series based upon business days\n",
    "days = pd.date_range('2022-11-03', '2022-12-31', freq='B')\n",
    "days"
   ]
  },
  {
   "cell_type": "markdown",
   "metadata": {},
   "source": [
    "## pd.date_range(freq = 'S') : 초 단위 date range\n",
    "\n",
    "위에서는 생성할 특정 기간을 정해주었지만, 특정 시각부터 특정 빈도로도, 특정 기간(periods 파라미터)의 날짜 범위를 만들 수 있다.  \n",
    "\n",
    "예를 들어, 지금으로부터 초 단위로 10만큼의 시계열을 만든다면 이렇게 만들 수 있다. (오늘로부터라면 `datetime.now().date()`)\n",
    "\n",
    "결과를 보니 datetime의 초단위에서 숫자 10이 1초인 것 같다.\n"
   ]
  },
  {
   "cell_type": "code",
   "execution_count": 44,
   "metadata": {},
   "outputs": [
    {
     "data": {
      "text/plain": [
       "DatetimeIndex(['2023-05-11 21:07:49.094686',\n",
       "               '2023-05-11 21:07:50.094686',\n",
       "               '2023-05-11 21:07:51.094686',\n",
       "               '2023-05-11 21:07:52.094686',\n",
       "               '2023-05-11 21:07:53.094686',\n",
       "               '2023-05-11 21:07:54.094686',\n",
       "               '2023-05-11 21:07:55.094686',\n",
       "               '2023-05-11 21:07:56.094686',\n",
       "               '2023-05-11 21:07:57.094686',\n",
       "               '2023-05-11 21:07:58.094686'],\n",
       "              dtype='datetime64[ns]', freq='S')"
      ]
     },
     "execution_count": 44,
     "metadata": {},
     "output_type": "execute_result"
    }
   ],
   "source": [
    "# periods will use the frequency as the increment\n",
    "pd.date_range(datetime.now(), freq='S', periods=10)"
   ]
  },
  {
   "cell_type": "markdown",
   "metadata": {},
   "source": [
    "# `DateOffset`: Date offsets\n",
    "---\n",
    "오프셋을 사용한 날짜 계산\n",
    "\n",
    "pandas에서 빈도수는 시간 offset을 사용해 표현할 수 있다. 그와 같은 개념은 앞서 `Timedelta` 객체를 설명할 때 살짝 다뤘었다.  \n",
    "\n",
    "pandas는 `DateOffset`을 사용해 그 기능을 더욱 확장시켰다. `DateOffset` 객체는 `DatetimeIndex`객체와는 달리 시간 오프셋과 빈도를 어떻게 결합하는지를 보여준다.  \n",
    "<br>\n",
    "## 시간 오프셋으로 인터벌 표현\n",
    "\n",
    "`DatetimeIndex` 객체는 `pd.date_range()`의 `freq` 파라미터에 'B', 'T' 와 같은 문자열로 빈도를 설정할 수 있게 만들어졌다.  \n",
    "그런데 내부적으로는 그런 문자열이 pandas의 `DateOffset` 객체의 인스턴스로 번역된다.  \n",
    "\n",
    "`DateOffset`은 정기적인 빈도의 증가를 표현한다. 월, 영업일, 시간과 같은 특정 시간 오프셋 로직은 `DateOffset`의 다양한 서브클래스에 의해 표현된다.  \n",
    "`DateOffset`은 pandas가 날짜와 시간에 대한 특정 인터벌의 계산 방법을 결정하게 함으로써 더욱 지능적으로 만들어준다.  \n",
    "따라서 pandas 사용자는 날짜/시간 오프셋 표현에 있어서 단순히 고정된 숫자 인터벌을 사용할 때보다 훨씬 큰 유연성을 갖게 된다.  \n",
    "<br>\n",
    "유용하면서도 실전에서 사용할 수 있는 대표적인 예는 **다음 영업일을 계산**하는 것이다.  \n",
    "이건 단순히 +1 날짜로는 해결할 수 있는 것이 아니다. 금요일 다음은 토요일이 아니라 월요일이니까! 그리고 월요일이 휴일인 경우도 있으므로, 그런 경우 다음 영업일은 화요일이 된다. pandas는 그런 까다로운 종류의 시나리오를 다룰 때 필요한 모든 도구를 제공한다. (거짓말이기만 해봐)\n",
    "\n",
    "빈도가 'B'  일때의 날짜 범위 데이터 셋으로 시작한다. \n"
   ]
  },
  {
   "cell_type": "code",
   "execution_count": 45,
   "metadata": {},
   "outputs": [
    {
     "data": {
      "text/plain": [
       "array(['2023-05-01T00:00:00.000000000', '2023-05-02T00:00:00.000000000',\n",
       "       '2023-05-03T00:00:00.000000000', '2023-05-04T00:00:00.000000000',\n",
       "       '2023-05-05T00:00:00.000000000', '2023-05-08T00:00:00.000000000',\n",
       "       '2023-05-09T00:00:00.000000000', '2023-05-10T00:00:00.000000000',\n",
       "       '2023-05-11T00:00:00.000000000', '2023-05-12T00:00:00.000000000',\n",
       "       '2023-05-15T00:00:00.000000000', '2023-05-16T00:00:00.000000000',\n",
       "       '2023-05-17T00:00:00.000000000', '2023-05-18T00:00:00.000000000',\n",
       "       '2023-05-19T00:00:00.000000000'], dtype='datetime64[ns]')"
      ]
     },
     "execution_count": 45,
     "metadata": {},
     "output_type": "execute_result"
    }
   ],
   "source": [
    "# get all business days between and inclusive of these two dates\n",
    "dti = pd.date_range('2023-04-30', '2023-5-20', freq='B')\n",
    "dti.values"
   ]
  },
  {
   "cell_type": "markdown",
   "metadata": {},
   "source": [
    "토요일과 일요일은 영업일이 아니므로 4/30, 5/6, 7, 13, 14, 20일은 포함되어 있지 않다.  \n",
    "<br>\n",
    "##### `DatetimeIndex`에는 해당 데이트 인덱스의 빈도 종류를 보여주는 `.freq` 속성이 있다.  \n"
   ]
  },
  {
   "cell_type": "code",
   "execution_count": 46,
   "metadata": {},
   "outputs": [
    {
     "data": {
      "text/plain": [
       "<BusinessDay>"
      ]
     },
     "execution_count": 46,
     "metadata": {},
     "output_type": "execute_result"
    }
   ],
   "source": [
    "# check the frequency is BusinessDay\n",
    "dti.freq"
   ]
  },
  {
   "cell_type": "markdown",
   "metadata": {},
   "source": [
    "pandas는 이렇게 인덱스의 날짜 오프셋을 표현하기 위해 `BusinessDay`라는 클래스의 인스턴스를 만들었다.  \n",
    "앞서 설명했듯 pandas는 여러 종류의 시간 오프셋을 `DateOffset`의 서브클래스로 표현하기 때문이다.  \n",
    "<br>\n",
    "\n",
    "### pandas에 내장된 다양한 `DateOffset` 클래스  \n",
    "\n",
    "|클래스|설명|\n",
    "|------|------|\n",
    "|`DateOffset`|기본 오프셋(하루)|\n",
    "|`BDay`|영업일|\n",
    "|`CDay`|일주일(추가로 요일을 나타내는 고정 값이 존재함)|\n",
    "|`Week`|일주일(추가로 요일을 나타내는 고정 값이 존재함)|\n",
    "|`WeekOfMonth`|y번째 주(week)의 x요일(weekday) 형식|\n",
    "|`LastWeekOfMonth`|마지막 주의 x요일(weekday)|\n",
    "| | |\n",
    "|`MonthEnd`|해당 월의 마지막 날|\n",
    "|`MonthBegin`|해당 월의 첫째 날|\n",
    "|`BMonthEnd`|해당 월의 마지막 영업일|\n",
    "|`BMonthBegin`|해당 월의 첫번째 영업일|\n",
    "|`CBMonthEnd`|해당 월의 마지막 커스텀 영업일|\n",
    "|`CBMonthBegin`|해당 월의 첫번째 커스텀 영업일|\n",
    "| | |\n",
    "|`QuarterEnd`|해당 분기의 마지막 날|\n",
    "|`QuarterBegin`|해당 분기의 첫째 날|\n",
    "|`BQuarterEnd`|해당 분기의 마지막 영업일|\n",
    "|`BQuarterBegin`|해당 분기의 첫째 영업일|\n",
    "|`FY5253Quarter`|리테일 회계연도(52-53주) 기준의 분기|\n",
    "| | |\n",
    "|`YearEnd`|해당 연도의 마지막 날|\n",
    "|`YearBegin`|해당 연도의 첫째 날|\n",
    "|`BYearEnd`|해당 연도의 마지막 영업일|\n",
    "|`BYearBegin`|해당 연도의 첫째 영업일|\n",
    "|`FY5253`|리테일 회계연도(52-53주) 기준의 연도|\n",
    "| | |\n",
    "|`Hour`|1시간|\n",
    "|`Minute`|1분|\n",
    "|`Second`|1초|\n",
    "|`Milli`|1밀리초|\n",
    "|`Micro`|1마이크로초|\n",
    "\n",
    "<br>\n",
    "\n",
    "### `DateOffset`의 사용 시나리오\n",
    "pandas는 `DateOffset`과 그 특징을 사용하는 전략으로 다음 날을 계산하는 로직을 코드화한다. 이는 강력하면서도 매우 유연한 방법이다.  \n",
    "`DateOffset`객체는 다음과 같은 시나리오에서 사용될 수 있다.  \n",
    "\n",
    "- shift된 날짜를 얻기 위해 `DateOffset`을 더하거나 뺼 수 있다.\n",
    "- `DateOffset`에 양수나 음수를 곱함으로써 곱한 수만큼 증감이 계산되게 할 수 있다.\n",
    "- 이전이나 다음 오프셋 날짜로 이동시킬 수 있는 `rollforward`와 `rollback`이라는 메서드를 제공한다.  "
   ]
  },
  {
   "cell_type": "markdown",
   "metadata": {},
   "source": [
    "### `DateOffset` 만들기\n",
    "**`DateOffset` 객체**는 고정된 기간을 나타내는 `datetime`객체에 전달되거나, 또는 몇가지 키워드 인자를 사용해 만들 수 있다.  \n",
    "\n",
    "키워드 인자는 두 가지 범주로 나뉘는데,  \n",
    "- 하나는 절대 시간을 표현하는 키워드의 범주이며,  \n",
    "- 하나는 양수나 음수일 수 있는 상대 기간을 표현하는 범주다.  \n",
    "\n",
    "여기서 절대 시간이나 상대 기간에는 연, 월, 일, 시간, 분, 초, 밀리초 단위가 사용된다.  \n",
    "\n",
    "하루짜리 offset을 만들어서 `datetime`에 더해보자. 다음날인 Timestamp가 출력된다."
   ]
  },
  {
   "cell_type": "code",
   "execution_count": 47,
   "metadata": {},
   "outputs": [
    {
     "data": {
      "text/plain": [
       "Timestamp('2023-04-30 00:00:00')"
      ]
     },
     "execution_count": 47,
     "metadata": {},
     "output_type": "execute_result"
    }
   ],
   "source": [
    "# calculate a one day offset from 2023-04-29\n",
    "d = datetime(2023, 4, 29)\n",
    "do = pd.DateOffset(days = 1) # offset object\n",
    "d + do"
   ]
  },
  {
   "cell_type": "markdown",
   "metadata": {},
   "source": [
    "### `DateOffset` 활용하기\n",
    "\n",
    "주어진 날짜의 다음 영업일을 계산하는 방식은 이렇다.  \n",
    "\n",
    "#### 영업일 더하기 \n",
    "\n",
    "4월 29일 이후로 영업일은 5월 1일이 되기 때문에 5월 1일이 출력된다. "
   ]
  },
  {
   "cell_type": "code",
   "execution_count": 48,
   "metadata": {},
   "outputs": [
    {
     "data": {
      "text/plain": [
       "Timestamp('2023-05-01 00:00:00')"
      ]
     },
     "execution_count": 48,
     "metadata": {},
     "output_type": "execute_result"
    }
   ],
   "source": [
    "# import the data offset types\n",
    "from pandas.tseries.offsets import *\n",
    "# calculate one business day from 2023-04-29\n",
    "d + BusinessDay()"
   ]
  },
  {
   "cell_type": "markdown",
   "metadata": {},
   "source": [
    "#### 오프셋에 연산 사용하기 \n",
    "\n",
    "곱하기를 하여서 특정 `DateOffset`의 배수 단위를 이용할 수도 있다.  \n",
    "하루짜리 영업일 오프셋을 만들었기 때문에, \\*2 하면 영업일 이틀이 된다. "
   ]
  },
  {
   "cell_type": "code",
   "execution_count": 49,
   "metadata": {},
   "outputs": [
    {
     "data": {
      "text/plain": [
       "Timestamp('2023-05-02 00:00:00')"
      ]
     },
     "execution_count": 49,
     "metadata": {},
     "output_type": "execute_result"
    }
   ],
   "source": [
    "# determine 2 business days from 2023-04-29\n",
    "d + 2 * BusinessDay()"
   ]
  },
  {
   "cell_type": "markdown",
   "metadata": {},
   "source": [
    "#### 오프셋으로 마지막 영업일 구하기\n",
    "`BMonthEnd`객체를 사용하여 주어진 날짜의 해당 월에서 가장 마지막 영업일을 구할 수 있다.  \n",
    "\\+ 를 이용하면 해당 월로 부터 계산한다."
   ]
  },
  {
   "cell_type": "code",
   "execution_count": 50,
   "metadata": {},
   "outputs": [
    {
     "data": {
      "text/plain": [
       "Timestamp('2023-05-31 00:00:00')"
      ]
     },
     "execution_count": 50,
     "metadata": {},
     "output_type": "execute_result"
    }
   ],
   "source": [
    "# what is the next business month end\n",
    "# from a specific date?\n",
    "d + BMonthEnd()"
   ]
  },
  {
   "cell_type": "markdown",
   "metadata": {},
   "source": [
    "#### 해당 날짜로부터 마지막 영업일 구하기 \n",
    "`BMonthEnd`의 `.rollforward()` 메서드를 사용해 **다음 차례의 월 마지막 영업일**을 계산하는 예시이다.  \n",
    "다음 월의 마지막 영업일이 아니라, 해당 날짜로 부터 셌을 때 '월 마지막 영업일'이 언제인지를 계산한다.  \n",
    "<br>\n",
    "4월 29일이 토요일이라 계산하면 해당 날짜로 부터 월 마지막 영업일이므로 29일로 **영업일이 이미 끝나있는 상태라서** 5월로 넘어간다."
   ]
  },
  {
   "cell_type": "code",
   "execution_count": 51,
   "metadata": {},
   "outputs": [
    {
     "data": {
      "text/plain": [
       "Timestamp('2023-04-28 00:00:00')"
      ]
     },
     "execution_count": 51,
     "metadata": {},
     "output_type": "execute_result"
    }
   ],
   "source": [
    "# calculate the next month-end by\n",
    "# rolling forward from a specific date\n",
    "\n",
    "# 20th is not the last business date\n",
    "BMonthEnd().rollforward(datetime(2023,4,20))"
   ]
  },
  {
   "cell_type": "code",
   "execution_count": 52,
   "metadata": {},
   "outputs": [
    {
     "data": {
      "text/plain": [
       "Timestamp('2023-05-31 00:00:00')"
      ]
     },
     "execution_count": 52,
     "metadata": {},
     "output_type": "execute_result"
    }
   ],
   "source": [
    "# 29th is the last business date of the month!\n",
    "BMonthEnd().rollforward(datetime(2023,4,29))"
   ]
  },
  {
   "cell_type": "code",
   "execution_count": 53,
   "metadata": {},
   "outputs": [
    {
     "data": {
      "text/plain": [
       "Timestamp('2023-05-31 00:00:00')"
      ]
     },
     "execution_count": 53,
     "metadata": {},
     "output_type": "execute_result"
    }
   ],
   "source": [
    "# `datetime` type의 날짜는 자연스럽게 들어갈 수 있다. (d = datetime(2023, 4, 29))\n",
    "BMonthEnd().rollforward(d)"
   ]
  },
  {
   "cell_type": "markdown",
   "metadata": {},
   "source": [
    "#### 주 단위 오프셋으로 특정 주의 요일의 날짜 구하기 \n",
    "\n",
    "대다수의 오프셋 클래스는 오프셋 동작의 세밀한 제어를 위한 파라미터를 받을 수 있다.  \n",
    "\n",
    "예를 들어, `weekday = ` 파라미터로 직전 금요일을 찾아보자. 일요일이 0부터 세어지는 형식이다.  "
   ]
  },
  {
   "cell_type": "code",
   "execution_count": 54,
   "metadata": {},
   "outputs": [
    {
     "data": {
      "text/plain": [
       "Timestamp('2023-04-22 00:00:00')"
      ]
     },
     "execution_count": 54,
     "metadata": {},
     "output_type": "execute_result"
    }
   ],
   "source": [
    "# calculate the date of the Friday previous \n",
    "# to a specified date \n",
    "d - Week(weekday = 5)"
   ]
  },
  {
   "cell_type": "code",
   "execution_count": 55,
   "metadata": {},
   "outputs": [
    {
     "data": {
      "text/plain": [
       "Timestamp('2023-05-13 00:00:00')"
      ]
     },
     "execution_count": 55,
     "metadata": {},
     "output_type": "execute_result"
    }
   ],
   "source": [
    "# 다다음주의 금요일\n",
    "d + 2 * Week(weekday = 5)"
   ]
  },
  {
   "cell_type": "markdown",
   "metadata": {},
   "source": [
    "# Anchored Offsets\n",
    "고정 오프셋\n",
    "\n",
    "anchored offset은 특정 날짜를 기준으로 하는 빈도를 나타내며, 정해진 약어(준말)를 사용하는 명명법을 가진다.  \n",
    "다음은 한 주의 특정 요일을 나타내는 약어들이다.  \n",
    "\n",
    "|약어|설명|\n",
    "|-----|-----|\n",
    "|W-SUN|매주 일요일('W' 기본과 동일)|\n",
    "|W-MON|매주 월요일|\n",
    "|W-TUE|매주 화요일|\n",
    "|W-WED|매주 수요일|\n",
    "|W-THU|매주 목요일|\n",
    "|W-FRI|매주 금요일|\n",
    "|W-SAT|매주 토요일|\n",
    "\n",
    "### 두 날짜 사이의 모든 특정 요일 날짜로 이루어진 인덱스 받기\n",
    "두 날짜를 적은 후, `freq = `설정으로 받을 수 있다."
   ]
  },
  {
   "cell_type": "code",
   "execution_count": 56,
   "metadata": {},
   "outputs": [
    {
     "data": {
      "text/plain": [
       "array(['2022-04-20T00:00:00.000000000', '2022-04-27T00:00:00.000000000',\n",
       "       '2022-05-04T00:00:00.000000000', '2022-05-11T00:00:00.000000000',\n",
       "       '2022-05-18T00:00:00.000000000'], dtype='datetime64[ns]')"
      ]
     },
     "execution_count": 56,
     "metadata": {},
     "output_type": "execute_result"
    }
   ],
   "source": [
    "# calculate all Wednesdays between 2023-04-20\n",
    "# and 2023-05-20\n",
    "wednesdays = pd.date_range('2022-04-20', \n",
    "                           '2022-05-20', freq=\"W-WED\")\n",
    "wednesdays.values"
   ]
  },
  {
   "cell_type": "markdown",
   "metadata": {},
   "source": [
    "고정 오프셋은 연도별, 분기별 빈도를 사용해 만들 수도 있다.  \n",
    "\n",
    "빈도의 형태는 `[B][A|Q][S]-[MON]` 이다.  \n",
    "여기서 `B`(영업일), `S`(시작일)는 선택사항이고, `A`, `Q`는 각각 연도별, 분기별을 뜻하며 `MON`은 각 달 이름을 나타내는 세 자리 약어를 사용한다. \n",
    "\n",
    "이런 시나리오도 가능하다. 특정 개월을 고정하고, 분기별 첫 영업일로 인덱스를 만들 수 있다.  \n",
    "<br>\n",
    "다음은 지정한 월로 부터 분기를 나누었을 때, 2023년의 분기별 첫 영업일로 인덱스(array)를 만드는 예시이다.  \n",
    "보다시피 MAR, SEP, DEC와 같다. 그 이유는 분기별 첫 영업일을 6월로 잡았기 때문에 3개월 단위로 영업일이 나오는 것으로 보인다. "
   ]
  },
  {
   "cell_type": "code",
   "execution_count": 57,
   "metadata": {},
   "outputs": [
    {
     "data": {
      "text/plain": [
       "array(['2023-03-01T00:00:00.000000000', '2023-06-01T00:00:00.000000000',\n",
       "       '2023-09-01T00:00:00.000000000', '2023-12-01T00:00:00.000000000'],\n",
       "      dtype='datetime64[ns]')"
      ]
     },
     "execution_count": 57,
     "metadata": {},
     "output_type": "execute_result"
    }
   ],
   "source": [
    "# what are all of the business quarterly end\n",
    "# dates in 2023?\n",
    "# starts with JUN\n",
    "qends = pd.date_range('2023-01-01', '2023-12-31', \n",
    "                      freq='BQS-JUN')\n",
    "qends.values"
   ]
  },
  {
   "cell_type": "code",
   "execution_count": 58,
   "metadata": {},
   "outputs": [
    {
     "data": {
      "text/plain": [
       "array(['2023-03-01T00:00:00.000000000', '2023-06-01T00:00:00.000000000',\n",
       "       '2023-09-01T00:00:00.000000000', '2023-12-01T00:00:00.000000000'],\n",
       "      dtype='datetime64[ns]')"
      ]
     },
     "execution_count": 58,
     "metadata": {},
     "output_type": "execute_result"
    }
   ],
   "source": [
    "qends = pd.date_range('2023-01-01', '2023-12-31', \n",
    "                      freq='BQS-MAR')\n",
    "qends.values"
   ]
  },
  {
   "cell_type": "code",
   "execution_count": 59,
   "metadata": {},
   "outputs": [
    {
     "data": {
      "text/plain": [
       "array(['2023-03-01T00:00:00.000000000', '2023-06-01T00:00:00.000000000',\n",
       "       '2023-09-01T00:00:00.000000000', '2023-12-01T00:00:00.000000000'],\n",
       "      dtype='datetime64[ns]')"
      ]
     },
     "execution_count": 59,
     "metadata": {},
     "output_type": "execute_result"
    }
   ],
   "source": [
    "qends = pd.date_range('2023-01-01', '2023-12-31', \n",
    "                      freq='BQS-SEP')\n",
    "qends.values"
   ]
  },
  {
   "cell_type": "markdown",
   "metadata": {},
   "source": [
    "만약 시작일 `S`를 주어주지 않으면 마지막 날(예시에서는 마지막 영업일)을 출력하게 된다."
   ]
  },
  {
   "cell_type": "code",
   "execution_count": 60,
   "metadata": {},
   "outputs": [
    {
     "data": {
      "text/plain": [
       "array(['2023-03-31T00:00:00.000000000', '2023-06-30T00:00:00.000000000',\n",
       "       '2023-09-29T00:00:00.000000000', '2023-12-29T00:00:00.000000000'],\n",
       "      dtype='datetime64[ns]')"
      ]
     },
     "execution_count": 60,
     "metadata": {},
     "output_type": "execute_result"
    }
   ],
   "source": [
    "qends = pd.date_range('2023-01-01', '2023-12-31', \n",
    "                      freq='BQ-DEC')\n",
    "qends.values"
   ]
  },
  {
   "cell_type": "markdown",
   "metadata": {},
   "source": [
    "만약 시작을 위처럼 6, 3, 9, 12월이 아닌 4월(1월, 7월, 10월)로 잡으면 우리가 아는 분기와 비슷해진다. "
   ]
  },
  {
   "cell_type": "code",
   "execution_count": 61,
   "metadata": {},
   "outputs": [
    {
     "data": {
      "text/plain": [
       "array(['2023-01-02T00:00:00.000000000', '2023-04-03T00:00:00.000000000',\n",
       "       '2023-07-03T00:00:00.000000000', '2023-10-02T00:00:00.000000000'],\n",
       "      dtype='datetime64[ns]')"
      ]
     },
     "execution_count": 61,
     "metadata": {},
     "output_type": "execute_result"
    }
   ],
   "source": [
    "qends = pd.date_range('2023-01-01', '2023-12-31', \n",
    "                      freq='BQS-APR')\n",
    "qends.values"
   ]
  },
  {
   "cell_type": "markdown",
   "metadata": {},
   "source": [
    "# Period로 기간 표현\n",
    "---\n",
    "The Period object\n",
    "\n",
    "시계열 데이터에 대한 유용한 분석 작업에는 대개 특정 시간 인터벌에 속하는 이벤트의 분석이 필요하다. 간단한 예로 특정 기간 동안 발생한 금융거래 건수를 파악하는 일 등이 그렇다.\n",
    "\n",
    "그런 종류의 분석은 `Timestamp`와 `DateOffset`을 사용해 수행할 수 있다.  \n",
    "먼저 범위를 게산하고 그 범위에 기초해 아이템을 필터링해야 한다.  \n",
    "그러나 복수의 기간으로 그룹화 되어야 하는 이벤트를 다룰 때 힘들어질 것이다. `Timestamp`와 `DateOffset` 객체 집합을 전부 관리해야 하기 때문이다.  \n",
    "<br>\n",
    "pandas는   \n",
    "- **`Period`라는 클래스를 통해 정형화된 시간 인터벌을 제공함**으로써 그런 종류의 데이터 조직화와 계산을 용이하게 해준다.   \n",
    "- 또한 `PeriodIndex`를 사용해 `Period`의 `Series`도 정형화해준다.  \n",
    "\n",
    "`PeriodIndex`는 `Period` 객체와 연결된 인덱스에 기초해 데이터 아이템을 정렬하는 기능을 제공한다.  \n",
    "<br>\n",
    "## Period로 시간 인터벌 모델링\n",
    "\n",
    "pandas 는 `Period`객체를 사용해 시간 인터벌의 개념을 공식화한다.  \n",
    "`Period`는 매일, 매주, 매월, 매년, 매 분기 등 지정한 빈도를 기준으로 기간을 만들며, 시작 시간과 종료 시간을 나타내는 `Timestamp`를 제공한다. \n",
    "\n",
    "<br>\n",
    "\n",
    "### 타임스탬프와 기간을 나타내는 빈도로 Period 만들기  \n",
    "\n",
    "`Period`는 기준 시점에 해당하는 타임 스탬프와 기간을 나타내는 빈도를 사용하여 만들 수 있다.  \n",
    "\n",
    "예를들어 특정 월을 기준으로 한 달에 해당하는 기간을 만든다면,"
   ]
  },
  {
   "cell_type": "code",
   "execution_count": 62,
   "metadata": {},
   "outputs": [
    {
     "data": {
      "text/plain": [
       "Period('2022-12', 'M')"
      ]
     },
     "execution_count": 62,
     "metadata": {},
     "output_type": "execute_result"
    }
   ],
   "source": [
    "# create a period representing a month of time\n",
    "# starting in December 2022\n",
    "\n",
    "dec2022 = pd.Period('2022-12', freq='M')\n",
    "dec2022"
   ]
  },
  {
   "cell_type": "markdown",
   "metadata": {},
   "source": [
    "`Period`에는 시작 시간과 종료 시간을 보여주는 `start_time`과 `end_time`이라는 속성이 있다. \n",
    "\n",
    "pandas는 2022-12와 한 달이라는 빈도에 근거하여 기준날짜를 정한 다음 한 달을 더해 종료 시간을 산정한 것이다."
   ]
  },
  {
   "cell_type": "code",
   "execution_count": 63,
   "metadata": {},
   "outputs": [
    {
     "data": {
      "text/plain": [
       "(Timestamp('2022-12-01 00:00:00'), Timestamp('2022-12-31 23:59:59.999999999'))"
      ]
     },
     "execution_count": 63,
     "metadata": {},
     "output_type": "execute_result"
    }
   ],
   "source": [
    "# examine the start and end times of this period\n",
    "dec2022.start_time, dec2022.end_time"
   ]
  },
  {
   "cell_type": "markdown",
   "metadata": {},
   "source": [
    "### Period 의 연산\n",
    "\n",
    "그럼 이렇게 만들어서 어디다 쓰는가! \n",
    "\n",
    "`Period`의 수학 연산은 또 다른 `Period`를 계산할 수 있도록 되어 있어서, 지정한 빈도 단위에 따라 그 만큼을 shift(이동)시킨다.  \n",
    "단순히 숫자를 더하거나 뺴는 것으로 빈도 단위 * 수 만큼 이동시킬 수 있다.\n",
    "\n",
    "그렇게 새 `Period`를 만든다면 다음과 같다.\n"
   ]
  },
  {
   "cell_type": "code",
   "execution_count": 64,
   "metadata": {},
   "outputs": [
    {
     "data": {
      "text/plain": [
       "Period('2023-05', 'M')"
      ]
     },
     "execution_count": 64,
     "metadata": {},
     "output_type": "execute_result"
    }
   ],
   "source": [
    "may2023 = dec2022 + 5\n",
    "may2023"
   ]
  },
  {
   "cell_type": "code",
   "execution_count": 65,
   "metadata": {},
   "outputs": [
    {
     "data": {
      "text/plain": [
       "(Timestamp('2023-05-01 00:00:00'), Timestamp('2023-05-31 23:59:59.999999999'))"
      ]
     },
     "execution_count": 65,
     "metadata": {},
     "output_type": "execute_result"
    }
   ],
   "source": [
    "may2023.start_time, may2023.end_time"
   ]
  },
  {
   "cell_type": "markdown",
   "metadata": {},
   "source": [
    "확인해보면 시작 시간과 종료 시간이 2023년 5월 전체 날짜를 제대로 가지고 있음을 알 수 있다!  \n",
    "\n",
    "심지어 5월은 31일까지 있단 것을 잘 계산하고 있다. `Period`의 강력함이다!\n",
    "\n",
    "\n",
    "## `PeriodIndex`를 사용한 연산\n",
    "\n",
    "일련의 `Period` 객체를 조합해 `PeriodIndex`라는 특별한 형태의 pandas 인덱스를 만들 수 있다.  \n",
    "`PeriodIndex`는 데이터를 특정 인터벌에 연결시키고, 각 인터벌에서의 이벤트 분석을 수행하는 경우에 유용하다.\n",
    "\n",
    "다음은 2023년 월별 인터벌을 갖는 `PeriodIndex`를 만드는 예이다."
   ]
  },
  {
   "cell_type": "code",
   "execution_count": 66,
   "metadata": {},
   "outputs": [
    {
     "data": {
      "text/plain": [
       "PeriodIndex(['2023-01', '2023-02', '2023-03', '2023-04',\n",
       "             '2023-05', '2023-06', '2023-07', '2023-08',\n",
       "             '2023-09', '2023-10', '2023-11', '2023-12'],\n",
       "            dtype='period[M]')"
      ]
     },
     "execution_count": 66,
     "metadata": {},
     "output_type": "execute_result"
    }
   ],
   "source": [
    "# create a period index representing all monthly boundaries in 2023\n",
    "\n",
    "mp2023 = pd.period_range('1 1 2023', '2023-12-31-', freq = 'M')\n",
    "mp2023"
   ]
  },
  {
   "cell_type": "markdown",
   "metadata": {},
   "source": [
    "`PeriodIndex`는 인덱스 레이블이 `Period`라는 점이 `DatetimeIndex`와 다르다. \n",
    "\n",
    "### `Period`.start_time|end_time\n",
    "\n",
    "모든 `Period` 객체에 대한 시작 시간과 종료 시간을 보여주는 예시는 다음과 같다. "
   ]
  },
  {
   "cell_type": "code",
   "execution_count": 67,
   "metadata": {},
   "outputs": [
    {
     "name": "stdout",
     "output_type": "stream",
     "text": [
      "2023-01-01 00:00:00 2023-01-31 23:59:59.999999999\n",
      "2023-02-01 00:00:00 2023-02-28 23:59:59.999999999\n",
      "2023-03-01 00:00:00 2023-03-31 23:59:59.999999999\n",
      "2023-04-01 00:00:00 2023-04-30 23:59:59.999999999\n",
      "2023-05-01 00:00:00 2023-05-31 23:59:59.999999999\n",
      "2023-06-01 00:00:00 2023-06-30 23:59:59.999999999\n",
      "2023-07-01 00:00:00 2023-07-31 23:59:59.999999999\n",
      "2023-08-01 00:00:00 2023-08-31 23:59:59.999999999\n",
      "2023-09-01 00:00:00 2023-09-30 23:59:59.999999999\n",
      "2023-10-01 00:00:00 2023-10-31 23:59:59.999999999\n",
      "2023-11-01 00:00:00 2023-11-30 23:59:59.999999999\n",
      "2023-12-01 00:00:00 2023-12-31 23:59:59.999999999\n"
     ]
    }
   ],
   "source": [
    "# loop through all period objects in the index\n",
    "# printing start and end time for each\n",
    "for p in mp2023:\n",
    "    print('{0} {1}'.format(p.start_time, p.end_time))"
   ]
  },
  {
   "cell_type": "markdown",
   "metadata": {},
   "source": [
    "pandas는 각 달이 며칠인지 너무나 잘 알고 있다! \n",
    "\n",
    "다음은 `PeriodIndex`를 인덱스로 사용하면서, 각 `Period`에 값을 연결한 `Series`객체를 만드는 예시이다.\n"
   ]
  },
  {
   "cell_type": "code",
   "execution_count": 68,
   "metadata": {},
   "outputs": [
    {
     "data": {
      "text/plain": [
       "2023-01    0.469112\n",
       "2023-02   -0.282863\n",
       "2023-03   -1.509059\n",
       "2023-04   -1.135632\n",
       "2023-05    1.212112\n",
       "Freq: M, dtype: float64"
      ]
     },
     "execution_count": 68,
     "metadata": {},
     "output_type": "execute_result"
    }
   ],
   "source": [
    "# create a Series with a PeriodIndex\n",
    "np.random.seed(123456)\n",
    "ps = pd.Series(np.random.randn(12), mp2023)\n",
    "ps[:5]"
   ]
  },
  {
   "cell_type": "markdown",
   "metadata": {},
   "source": [
    "(그래서 어떻게 쓰는데)\n",
    "\n",
    "이렇게 특정 기간에 걸친 측정치를 나타내는 시계열 데이터를 만들어봤다.  \n",
    "특정 시점의 증권 가격이 아닌 월별 평균 증권 가격을 나타내는 데이터 등이 이에 속한다. 서로 다른 빈도로 시계열 데이터를 재표집(resampling)할 때 매우 유용하다.  \n",
    "\n",
    "### `PeriodIndex` 에서 슬라이싱\n",
    "\n",
    "`DatetimeIndex`와 마찬가지로 `PeriodIndex` 역시 기간(또는 특정 기간)을 나타내는 문자열이나 인덱스 값으로 `Period`를 사용할 수 있다. \n",
    "\n",
    "- 이때 31-12-2023 같은 형식으로 주었더니 같은 문제가 발생. 웬만하면 평범하게 적도록 하자.\n",
    "    ```\n",
    "    UserWarning: Parsing '31-12-2023' in DD/MM/YYYY format. Provide format or specify infer_datetime_format=True for consistent parsing.\n",
    "    ```\n",
    "- 또한 연도는 정확히 적어주는 것이 좋다. (22 X -> 2022 O)"
   ]
  },
  {
   "cell_type": "code",
   "execution_count": 69,
   "metadata": {},
   "outputs": [
    {
     "data": {
      "text/plain": [
       "2022-01    0.469112\n",
       "2022-02   -0.282863\n",
       "2022-03   -1.509059\n",
       "2022-04   -1.135632\n",
       "2022-05    1.212112\n",
       "             ...   \n",
       "2023-08   -1.087401\n",
       "2023-09   -0.673690\n",
       "2023-10    0.113648\n",
       "2023-11   -1.478427\n",
       "2023-12    0.524988\n",
       "Freq: M, Length: 24, dtype: float64"
      ]
     },
     "execution_count": 69,
     "metadata": {},
     "output_type": "execute_result"
    }
   ],
   "source": [
    "# create a Series with a PeriodIndex and which\n",
    "# represents all calendar month periods in 2022 ~ 2023\n",
    "\n",
    "np.random.seed(123456)\n",
    "ps = pd.Series(np.random.randn(24), pd.period_range('2022 1 1', 'Dec/31/2023', freq = 'M'))\n",
    "ps"
   ]
  },
  {
   "cell_type": "markdown",
   "metadata": {},
   "source": [
    "문자열이나 `Period` 객체를 사용해 특정 인덱스 레이블의 개별 값을 선택할 수 있다.  \n",
    "\n",
    "`DatetimeIndex`에서처럼 연, 연-월 은 가능했지만 월만 가져오는 것은 되지 않았다.\n"
   ]
  },
  {
   "cell_type": "code",
   "execution_count": 70,
   "metadata": {},
   "outputs": [
    {
     "name": "stdout",
     "output_type": "stream",
     "text": [
      "-0.17321464905330858 0.11920871129693428 -1.0442359662799567 -0.8618489633477999 -2.1045692188948086\n"
     ]
    }
   ],
   "source": [
    "# get values for period represented with 2022-06 and etc\n",
    "print(ps['2022-06'], ps['2022 July'], ps['08 2022'], ps['2022 SEP'], ps['2022/Oct'])"
   ]
  },
  {
   "cell_type": "code",
   "execution_count": 71,
   "metadata": {},
   "outputs": [
    {
     "data": {
      "text/plain": [
       "2023-01    0.721555\n",
       "2023-02   -0.706771\n",
       "2023-03   -1.039575\n",
       "2023-04    0.271860\n",
       "2023-05   -0.424972\n",
       "             ...   \n",
       "2023-08   -1.087401\n",
       "2023-09   -0.673690\n",
       "2023-10    0.113648\n",
       "2023-11   -1.478427\n",
       "2023-12    0.524988\n",
       "Freq: M, Length: 12, dtype: float64"
      ]
     },
     "execution_count": 71,
     "metadata": {},
     "output_type": "execute_result"
    }
   ],
   "source": [
    "# get values for 2023\n",
    "ps['2023']"
   ]
  },
  {
   "cell_type": "code",
   "execution_count": 72,
   "metadata": {},
   "outputs": [
    {
     "data": {
      "text/plain": [
       "2022-01    0.469112\n",
       "2022-02   -0.282863\n",
       "2022-03   -1.509059\n",
       "Freq: M, dtype: float64"
      ]
     },
     "execution_count": 72,
     "metadata": {},
     "output_type": "execute_result"
    }
   ],
   "source": [
    "# all values between (and including) January and March 2022\n",
    "# maybe this get the 1st qurter\n",
    "ps['2022 1': 'Mar 2022']"
   ]
  },
  {
   "cell_type": "code",
   "execution_count": 73,
   "metadata": {},
   "outputs": [
    {
     "ename": "AttributeError",
     "evalue": "'numpy.float64' object has no attribute 'index'",
     "output_type": "error",
     "traceback": [
      "\u001b[0;31m---------------------------------------------------------------------------\u001b[0m",
      "\u001b[0;31mAttributeError\u001b[0m                            Traceback (most recent call last)",
      "Input \u001b[0;32mIn [73]\u001b[0m, in \u001b[0;36m<cell line: 2>\u001b[0;34m()\u001b[0m\n\u001b[1;32m      1\u001b[0m \u001b[38;5;66;03m# if you want to get 'Dec'\u001b[39;00m\n\u001b[1;32m      2\u001b[0m \u001b[38;5;28;01mfor\u001b[39;00m m \u001b[38;5;129;01min\u001b[39;00m \u001b[38;5;28mrange\u001b[39m(\u001b[38;5;28mlen\u001b[39m(ps)):\n\u001b[0;32m----> 3\u001b[0m     \u001b[38;5;28;01mif\u001b[39;00m \u001b[43mps\u001b[49m\u001b[43m[\u001b[49m\u001b[43mm\u001b[49m\u001b[43m]\u001b[49m\u001b[38;5;241;43m.\u001b[39;49m\u001b[43mindex\u001b[49m\u001b[38;5;241m.\u001b[39mmonth \u001b[38;5;241m==\u001b[39m \u001b[38;5;241m12\u001b[39m:\n\u001b[1;32m      4\u001b[0m         \u001b[38;5;28mprint\u001b[39m(\u001b[38;5;241m1\u001b[39m)\n",
      "\u001b[0;31mAttributeError\u001b[0m: 'numpy.float64' object has no attribute 'index'"
     ]
    }
   ],
   "source": [
    "# if you want to get 'Dec'\n",
    "for m in range(len(ps)):\n",
    "    if ps[m].index.month == 12:\n",
    "        print(1)"
   ]
  },
  {
   "cell_type": "code",
   "execution_count": 74,
   "metadata": {},
   "outputs": [
    {
     "data": {
      "text/plain": [
       "PeriodIndex(['2022-01', '2022-02', '2022-03', '2022-04',\n",
       "             '2022-05', '2022-06', '2022-07', '2022-08',\n",
       "             '2022-09', '2022-10', '2022-11', '2022-12',\n",
       "             '2023-01', '2023-02', '2023-03', '2023-04',\n",
       "             '2023-05', '2023-06', '2023-07', '2023-08',\n",
       "             '2023-09', '2023-10', '2023-11', '2023-12'],\n",
       "            dtype='period[M]')"
      ]
     },
     "execution_count": 74,
     "metadata": {},
     "output_type": "execute_result"
    }
   ],
   "source": [
    "ps.index"
   ]
  },
  {
   "cell_type": "code",
   "execution_count": null,
   "metadata": {},
   "outputs": [],
   "source": []
  }
 ],
 "metadata": {
  "anaconda-cloud": {},
  "kernelspec": {
   "display_name": "Python 3 (ipykernel)",
   "language": "python",
   "name": "python3"
  },
  "language_info": {
   "codemirror_mode": {
    "name": "ipython",
    "version": 3
   },
   "file_extension": ".py",
   "mimetype": "text/x-python",
   "name": "python",
   "nbconvert_exporter": "python",
   "pygments_lexer": "ipython3",
   "version": "3.8.5"
  },
  "latex_envs": {
   "LaTeX_envs_menu_present": true,
   "autoclose": true,
   "autocomplete": true,
   "bibliofile": "biblio.bib",
   "cite_by": "apalike",
   "current_citInitial": 1,
   "eqLabelWithNumbers": true,
   "eqNumInitial": 1,
   "hotkeys": {
    "equation": "Ctrl-E",
    "itemize": "Ctrl-I"
   },
   "labels_anchors": false,
   "latex_user_defs": false,
   "report_style_numbering": false,
   "user_envs_cfg": false
  },
  "toc": {
   "base_numbering": 1,
   "nav_menu": {},
   "number_sections": true,
   "sideBar": true,
   "skip_h1_title": false,
   "title_cell": "Table of Contents",
   "title_sidebar": "Contents",
   "toc_cell": true,
   "toc_position": {},
   "toc_section_display": true,
   "toc_window_display": true
  }
 },
 "nbformat": 4,
 "nbformat_minor": 1
}

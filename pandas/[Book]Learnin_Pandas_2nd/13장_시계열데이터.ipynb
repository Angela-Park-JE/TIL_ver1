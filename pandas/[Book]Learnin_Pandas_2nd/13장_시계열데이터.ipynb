{
 "cells": [
  {
   "cell_type": "markdown",
   "metadata": {
    "toc": true
   },
   "source": [
    "<h1>Table of Contents<span class=\"tocSkip\"></span></h1>\n",
    "<div class=\"toc\"><ul class=\"toc-item\"><li><span><a href=\"#Configuring-pandas\" data-toc-modified-id=\"Configuring-pandas-1\"><span class=\"toc-item-num\">1&nbsp;&nbsp;</span>Configuring pandas</a></span></li><li><span><a href=\"#시계열-모델링\" data-toc-modified-id=\"시계열-모델링-2\"><span class=\"toc-item-num\">2&nbsp;&nbsp;</span>시계열 모델링</a></span></li><li><span><a href=\"#날짜,-시간,-인터벌의-표현\" data-toc-modified-id=\"날짜,-시간,-인터벌의-표현-3\"><span class=\"toc-item-num\">3&nbsp;&nbsp;</span>날짜, 시간, 인터벌의 표현</a></span><ul class=\"toc-item\"><li><span><a href=\"#The-datetime,-day,-and-time-objects\" data-toc-modified-id=\"The-datetime,-day,-and-time-objects-3.1\"><span class=\"toc-item-num\">3.1&nbsp;&nbsp;</span>The datetime, day, and time objects</a></span><ul class=\"toc-item\"><li><span><a href=\"#datetime\" data-toc-modified-id=\"datetime-3.1.1\"><span class=\"toc-item-num\">3.1.1&nbsp;&nbsp;</span><code>datetime</code></a></span></li><li><span><a href=\"#datetime.now()\" data-toc-modified-id=\"datetime.now()-3.1.2\"><span class=\"toc-item-num\">3.1.2&nbsp;&nbsp;</span><code>datetime.now()</code></a></span></li><li><span><a href=\"#datetime.date(datetime(y,m,d))\" data-toc-modified-id=\"datetime.date(datetime(y,m,d))-3.1.3\"><span class=\"toc-item-num\">3.1.3&nbsp;&nbsp;</span><code>datetime.date(datetime(y,m,d))</code></a></span></li><li><span><a href=\"#datetime.time(datetime(y,m,d,h,m))\" data-toc-modified-id=\"datetime.time(datetime(y,m,d,h,m))-3.1.4\"><span class=\"toc-item-num\">3.1.4&nbsp;&nbsp;</span><code>datetime.time(datetime(y,m,d,h,m))</code></a></span></li></ul></li><li><span><a href=\"#Timestamp-objects\" data-toc-modified-id=\"Timestamp-objects-3.2\"><span class=\"toc-item-num\">3.2&nbsp;&nbsp;</span><code>Timestamp</code> objects</a></span><ul class=\"toc-item\"><li><span><a href=\"#pd.Timestamp('now')\" data-toc-modified-id=\"pd.Timestamp('now')-3.2.1\"><span class=\"toc-item-num\">3.2.1&nbsp;&nbsp;</span>pd.Timestamp('now')</a></span></li></ul></li><li><span><a href=\"#Timedelta로-인터벌-표현\" data-toc-modified-id=\"Timedelta로-인터벌-표현-3.3\"><span class=\"toc-item-num\">3.3&nbsp;&nbsp;</span><code>Timedelta</code>로 인터벌 표현</a></span><ul class=\"toc-item\"><li><span><a href=\"#날짜-더하기\" data-toc-modified-id=\"날짜-더하기-3.3.1\"><span class=\"toc-item-num\">3.3.1&nbsp;&nbsp;</span>날짜 더하기</a></span></li><li><span><a href=\"#날짜-사이-일-수-구하기\" data-toc-modified-id=\"날짜-사이-일-수-구하기-3.3.2\"><span class=\"toc-item-num\">3.3.2&nbsp;&nbsp;</span>날짜 사이 일 수 구하기</a></span></li></ul></li></ul></li><li><span><a href=\"#시계열-데이터\" data-toc-modified-id=\"시계열-데이터-4\"><span class=\"toc-item-num\">4&nbsp;&nbsp;</span>시계열 데이터</a></span><ul class=\"toc-item\"><li><span><a href=\"#DatetimeIndex-를-사용한-인덱싱\" data-toc-modified-id=\"DatetimeIndex-를-사용한-인덱싱-4.1\"><span class=\"toc-item-num\">4.1&nbsp;&nbsp;</span><code>DatetimeIndex</code> 를 사용한 인덱싱</a></span><ul class=\"toc-item\"><li><span><a href=\"#DatetimeIndex-객체-만들기:-datetime-리스트-사용\" data-toc-modified-id=\"DatetimeIndex-객체-만들기:-datetime-리스트-사용-4.1.1\"><span class=\"toc-item-num\">4.1.1&nbsp;&nbsp;</span><code>DatetimeIndex</code> 객체 만들기: <code>datetime</code> 리스트 사용</a></span></li><li><span><a href=\"#DatetimeIndex-객체-만들기:-날짜나-시간을-가진-문자열-리스트-사용\" data-toc-modified-id=\"DatetimeIndex-객체-만들기:-날짜나-시간을-가진-문자열-리스트-사용-4.1.2\"><span class=\"toc-item-num\">4.1.2&nbsp;&nbsp;</span><code>DatetimeIndex</code> 객체 만들기: 날짜나 시간을 가진 문자열 리스트 사용</a></span></li></ul></li><li><span><a href=\"#pd.to_datetime()로-Timestamp객체-만들기\" data-toc-modified-id=\"pd.to_datetime()로-Timestamp객체-만들기-4.2\"><span class=\"toc-item-num\">4.2&nbsp;&nbsp;</span><code>pd.to_datetime()</code>로 <code>Timestamp</code>객체 만들기</a></span><ul class=\"toc-item\"><li><ul class=\"toc-item\"><li><span><a href=\"#에러-없이-Timestamp로-변환하기\" data-toc-modified-id=\"에러-없이-Timestamp로-변환하기-4.2.0.1\"><span class=\"toc-item-num\">4.2.0.1&nbsp;&nbsp;</span>에러 없이 Timestamp로 변환하기</a></span></li></ul></li></ul></li><li><span><a href=\"#pd.date_range()-:-특정-빈도의-시간-범위-만들기\" data-toc-modified-id=\"pd.date_range()-:-특정-빈도의-시간-범위-만들기-4.3\"><span class=\"toc-item-num\">4.3&nbsp;&nbsp;</span><code>pd.date_range()</code> : 특정 빈도의 시간 범위 만들기</a></span></li><li><span><a href=\"#DatetimeIndex에서-슬라이싱\" data-toc-modified-id=\"DatetimeIndex에서-슬라이싱-4.4\"><span class=\"toc-item-num\">4.4&nbsp;&nbsp;</span><code>DatetimeIndex</code>에서 슬라이싱</a></span><ul class=\"toc-item\"><li><span><a href=\"#데이터-자동-정렬\" data-toc-modified-id=\"데이터-자동-정렬-4.4.1\"><span class=\"toc-item-num\">4.4.1&nbsp;&nbsp;</span>데이터 자동 정렬</a></span></li><li><span><a href=\"#날짜-문자열로-슬라이싱\" data-toc-modified-id=\"날짜-문자열로-슬라이싱-4.4.2\"><span class=\"toc-item-num\">4.4.2&nbsp;&nbsp;</span>날짜 문자열로 슬라이싱</a></span></li><li><span><a href=\"#부분-특화:\" data-toc-modified-id=\"부분-특화:-4.4.3\"><span class=\"toc-item-num\">4.4.3&nbsp;&nbsp;</span>부분 특화:</a></span></li></ul></li></ul></li><li><span><a href=\"#Creating-time-series-data-with-specific-frequencies\" data-toc-modified-id=\"Creating-time-series-data-with-specific-frequencies-5\"><span class=\"toc-item-num\">5&nbsp;&nbsp;</span>Creating time-series data with specific frequencies</a></span></li><li><span><a href=\"#Date-offsets\" data-toc-modified-id=\"Date-offsets-6\"><span class=\"toc-item-num\">6&nbsp;&nbsp;</span>Date offsets</a></span></li><li><span><a href=\"#Anchored-Offsets\" data-toc-modified-id=\"Anchored-Offsets-7\"><span class=\"toc-item-num\">7&nbsp;&nbsp;</span>Anchored Offsets</a></span></li><li><span><a href=\"#The-Period-object\" data-toc-modified-id=\"The-Period-object-8\"><span class=\"toc-item-num\">8&nbsp;&nbsp;</span>The Period object</a></span></li><li><span><a href=\"#The-PeriodIndex\" data-toc-modified-id=\"The-PeriodIndex-9\"><span class=\"toc-item-num\">9&nbsp;&nbsp;</span>The PeriodIndex</a></span></li><li><span><a href=\"#Handling-holidays-using-calendars\" data-toc-modified-id=\"Handling-holidays-using-calendars-10\"><span class=\"toc-item-num\">10&nbsp;&nbsp;</span>Handling holidays using calendars</a></span></li><li><span><a href=\"#Normalizing-timestamps-using-time-zones\" data-toc-modified-id=\"Normalizing-timestamps-using-time-zones-11\"><span class=\"toc-item-num\">11&nbsp;&nbsp;</span>Normalizing timestamps using time zones</a></span></li><li><span><a href=\"#Shifting-and-lagging\" data-toc-modified-id=\"Shifting-and-lagging-12\"><span class=\"toc-item-num\">12&nbsp;&nbsp;</span>Shifting and lagging</a></span></li><li><span><a href=\"#Frequency-Conversion\" data-toc-modified-id=\"Frequency-Conversion-13\"><span class=\"toc-item-num\">13&nbsp;&nbsp;</span>Frequency Conversion</a></span></li><li><span><a href=\"#Up-and-down-resampling\" data-toc-modified-id=\"Up-and-down-resampling-14\"><span class=\"toc-item-num\">14&nbsp;&nbsp;</span>Up and down resampling</a></span></li><li><span><a href=\"#Time-series-moving-window-operations\" data-toc-modified-id=\"Time-series-moving-window-operations-15\"><span class=\"toc-item-num\">15&nbsp;&nbsp;</span>Time series moving window operations</a></span></li></ul></div>"
   ]
  },
  {
   "cell_type": "markdown",
   "metadata": {},
   "source": [
    "# Configuring pandas"
   ]
  },
  {
   "cell_type": "code",
   "execution_count": 89,
   "metadata": {},
   "outputs": [],
   "source": [
    "# import numpy and pandas\n",
    "import numpy as np\n",
    "import pandas as pd\n",
    "\n",
    "# used for dates\n",
    "import datetime\n",
    "from datetime import datetime, date\n",
    "\n",
    "# Set formattign options\n",
    "pd.set_option('display.notebook_repr_html', False)\n",
    "pd.set_option('display.max_columns', 7)\n",
    "pd.set_option('display.max_rows', 10)\n",
    "pd.set_option('display.width', 60)\n",
    "\n",
    "# bring in matplotlib for graphics\n",
    "import matplotlib.pyplot as plt\n",
    "%matplotlib inline"
   ]
  },
  {
   "cell_type": "markdown",
   "metadata": {},
   "source": [
    "# 시계열 모델링\n",
    "---\n",
    "시계열은 특정 인터벌로 일정 기간에 걸쳐 측정된 하나 이상의 변수에 대한 데이터다. 일단 시계열 데이터가 획득되면 보통은 시계열 안에서의 패턴을 식별하기 위한 분석, 즉 시간의 흐름에 따라 무슨 일이 벌어지는지에 대한 분석이 수행된다. 금융 정보의 분석이나 웨어러블 디바이스의 사용자 데이터 관리 등 오늘날에 시계열 데이터의 분석은 필수적인 능력이다.  \n",
    "\n",
    "pandas는 시계열 데이터의 모델링을 위한 방대한 기능을 제공한다.  \n",
    "- 날짜, 시간, 인터벌의 표현\n",
    "- Timestamp로 특정 시전 나타내기\n",
    "- Timedelta로 인터벌 표현\n",
    "- DatetimeIndex를 사용한 인덱싱\n",
    "- 특정 빈도의 시계열 생성\n",
    "- 시간 오프셋으로 인터벌 표현\n",
    "- 고정 오프셋으로 특정 날짜 지정\n",
    "- Period로 시간 인터벌 모델링\n",
    "- PeriodIndex를 사용한 인덱싱\n",
    "- 캘린더를 사용한 휴일 다루기\n",
    "- 시간대를 사용한 타임스탬프 정규화\n",
    "- 쉬프팅(shifting)과 래깅(lagging)\n",
    "- 시계열 데이터의 빈도 변환\n",
    "- 업샘플링과 다운샘플링\n",
    "- 시계열 데이터의 롤링 윈도우\n"
   ]
  },
  {
   "cell_type": "markdown",
   "metadata": {},
   "source": [
    "# 날짜, 시간, 인터벌의 표현\n",
    "---\n",
    "\n",
    "시계열 데이터를 이해하기 위해 먼저 알아야 할 것은 pandas가 날짜, 시간, 인터벌을 표현하는 방법이다. 파이썬이나 NumPy가 시계열 데이터를 다루기에 충분할 만큼의 시간 관련 개념을 구현하지 않은 반면 pandas는 그런 개념을 표현할 수 있는 폭넓은 기능을 제공한다.  \n",
    "그런 기능에는 **서로 다른 빈도의 데이터 변형**이나 **재무적 계산을 위해 영업일과 휴일이 반영된 서로 다른 캘린더를 적용**하는 등의 기능이 포함된다.  \n",
    "\n",
    "## The datetime, day, and time objects\n",
    "`datetime`, `date`, `time` 객체\n",
    "\n",
    "`datetime` 객체는 pandas가 아닌 파이썬 `datetime` 라이브러리의 일부다.  \n",
    "- 날짜와 시간을 모두 사용해 특정 시점을 나타내거나, \n",
    "- 시간 부분을 빼고 날짜만 나타내거나, \n",
    "- 혹은 날짜 없이 시간만 나타내는 등의 일반적이고 다양한 패턴 표현에 사용된다.  \n",
    "\n",
    "`datetime` 객체는 시계열 데이터에 대한 엄청난 계산을 수행하는, 수학에서 요구되는 만큼의 정확도를 갖고 있지는 않다. 그러나 pandas 객체를 초기화할 때 일반적으로 사용되며, pandas는 내부적으로 `datetime` 객체를 자신의 `Timestamp` 객체로 변환시킨다. 따라서 알아두는 것이 좋다.  \n",
    "\n",
    "### `datetime`\n",
    "`datetime` 객체의 초기화에는 **최소한 년, 월, 일에 해당하는 세 개의 파라미터**가 필요하다.  \n",
    "이때 시간과 분은 기본적으로 0으로 설정된다.  \n",
    "초기화 할 때 시간과 분을 추가로 지정할 수 있다. "
   ]
  },
  {
   "cell_type": "code",
   "execution_count": 90,
   "metadata": {},
   "outputs": [
    {
     "data": {
      "text/plain": [
       "datetime.datetime(2022, 12, 1, 0, 0)"
      ]
     },
     "execution_count": 90,
     "metadata": {},
     "output_type": "execute_result"
    }
   ],
   "source": [
    "# datetime object for Dec 1 2022\n",
    "datetime(2022, 12, 1)"
   ]
  },
  {
   "cell_type": "code",
   "execution_count": 91,
   "metadata": {},
   "outputs": [
    {
     "data": {
      "text/plain": [
       "datetime.datetime(2022, 12, 1, 12, 30)"
      ]
     },
     "execution_count": 91,
     "metadata": {},
     "output_type": "execute_result"
    }
   ],
   "source": [
    "# specific date and also with a time of 12:30 pm\n",
    "datetime(2022, 12, 1, 12, 30)"
   ]
  },
  {
   "cell_type": "markdown",
   "metadata": {},
   "source": [
    "### `datetime.now()`\n",
    "현재의 날짜와 시각을 확인하려면 지역 시간을 가져오는 함수인 `datetime.now()`를 사용한다."
   ]
  },
  {
   "cell_type": "code",
   "execution_count": 92,
   "metadata": {},
   "outputs": [
    {
     "data": {
      "text/plain": [
       "datetime.datetime(2022, 12, 18, 19, 58, 6, 835359)"
      ]
     },
     "execution_count": 92,
     "metadata": {},
     "output_type": "execute_result"
    }
   ],
   "source": [
    "# get the local \"now\" (date and time)\n",
    "# can take a timezone, but that's not demonstrated here\n",
    "datetime.now()"
   ]
  },
  {
   "cell_type": "markdown",
   "metadata": {},
   "source": [
    "### `datetime.date(datetime(y,m,d))`\n",
    "`datetime.date` 객체는 시간 정보 없이 특정 날짜만을 나타낸다.  \n",
    "`date` 객체를 만들려면 `date`의 생성자에 `datetime` 객체를 전달하면 된다. "
   ]
  },
  {
   "cell_type": "code",
   "execution_count": 93,
   "metadata": {},
   "outputs": [
    {
     "data": {
      "text/plain": [
       "datetime.date(2022, 12, 1)"
      ]
     },
     "execution_count": 93,
     "metadata": {},
     "output_type": "execute_result"
    }
   ],
   "source": [
    "# a date without time can be represented\n",
    "# by creating a date using a datetime object\n",
    "datetime.date(datetime(2022, 12, 1))"
   ]
  },
  {
   "cell_type": "markdown",
   "metadata": {},
   "source": [
    "현재의 날짜만 가져온다고 한다면 이렇게 쓸 수 있다."
   ]
  },
  {
   "cell_type": "code",
   "execution_count": 94,
   "metadata": {},
   "outputs": [
    {
     "data": {
      "text/plain": [
       "datetime.date(2022, 12, 18)"
      ]
     },
     "execution_count": 94,
     "metadata": {},
     "output_type": "execute_result"
    }
   ],
   "source": [
    "# get just the current date\n",
    "datetime.now().date()"
   ]
  },
  {
   "cell_type": "markdown",
   "metadata": {},
   "source": [
    "### `datetime.time(datetime(y,m,d,h,m))` \n",
    "날짜 정보 없는 `time` 객체는 `datetime`객체를 `time` 생성자에 전달하여 만들 수 있다.  \n"
   ]
  },
  {
   "cell_type": "code",
   "execution_count": 95,
   "metadata": {},
   "outputs": [
    {
     "data": {
      "text/plain": [
       "datetime.time(12, 30)"
      ]
     },
     "execution_count": 95,
     "metadata": {},
     "output_type": "execute_result"
    }
   ],
   "source": [
    "# get just a time from a datetime\n",
    "datetime.time(datetime(2022, 12, 1, 12, 30))"
   ]
  },
  {
   "cell_type": "markdown",
   "metadata": {},
   "source": [
    "현재의 로컬 타임만 가져온다고 하면 이렇게 쓸 수 있다."
   ]
  },
  {
   "cell_type": "code",
   "execution_count": 96,
   "metadata": {},
   "outputs": [
    {
     "data": {
      "text/plain": [
       "datetime.time(19, 58, 8, 87576)"
      ]
     },
     "execution_count": 96,
     "metadata": {},
     "output_type": "execute_result"
    }
   ],
   "source": [
    "# get the current local time\n",
    "datetime.now().time()"
   ]
  },
  {
   "cell_type": "markdown",
   "metadata": {},
   "source": [
    "## `Timestamp` objects\n",
    "Timestamp로 특정 시점 나타내기\n",
    "\n",
    "날짜와 시간은 `pandas.tslib.Timestamp` 클래스를 사용해서도 표현할 수 있다.  \n",
    "pandas `Timestamp`의 데이터 타입은 datetime64 이며, 파이썬 `datetime` 객체보다 정밀도가 높다.  \n",
    "pandas에서는 `Timestamp`를 `datetime`객체로 자유롭게 바꿀 수 있으므로, `datetime`객체가 필요한 곳에서 일상적으로 사용할 수 있다.  \n",
    "\n",
    "`Timestamp`객체는 `pandas.tslib.Timestamp`의 축약형인, `pd.Timestamp`를 통해 만들 수 있다.  \n",
    "생성 시에 날짜, 시간, 또는 둘 모두 지정 가능하다. \n",
    "\n",
    "이때 시간만을 지정해 만든 `Timestamp`에는 기본적으로 현재 날짜가 할당된다.  "
   ]
  },
  {
   "cell_type": "code",
   "execution_count": 97,
   "metadata": {},
   "outputs": [
    {
     "data": {
      "text/plain": [
       "Timestamp('2022-12-01 00:00:00')"
      ]
     },
     "execution_count": 97,
     "metadata": {},
     "output_type": "execute_result"
    }
   ],
   "source": [
    "# a timestamp representing a specific date\n",
    "pd.Timestamp('2022-12-01')"
   ]
  },
  {
   "cell_type": "code",
   "execution_count": 98,
   "metadata": {},
   "outputs": [
    {
     "data": {
      "text/plain": [
       "Timestamp('2022-12-01 12:30:00')"
      ]
     },
     "execution_count": 98,
     "metadata": {},
     "output_type": "execute_result"
    }
   ],
   "source": [
    "# a timestamp with both date and time\n",
    "pd.Timestamp('2022-12-01 12:30')"
   ]
  },
  {
   "cell_type": "code",
   "execution_count": 99,
   "metadata": {},
   "outputs": [
    {
     "data": {
      "text/plain": [
       "Timestamp('2022-12-18 12:30:00')"
      ]
     },
     "execution_count": 99,
     "metadata": {},
     "output_type": "execute_result"
    }
   ],
   "source": [
    "# timestamp with just a time\n",
    "# which adds in the current local date\n",
    "pd.Timestamp('12:30')"
   ]
  },
  {
   "cell_type": "markdown",
   "metadata": {},
   "source": [
    "###  pd.Timestamp('now')\n",
    "현재 날짜와 시간을 가져올 수 있다."
   ]
  },
  {
   "cell_type": "code",
   "execution_count": 100,
   "metadata": {},
   "outputs": [
    {
     "data": {
      "text/plain": [
       "Timestamp('2022-12-18 19:58:08.621070')"
      ]
     },
     "execution_count": 100,
     "metadata": {},
     "output_type": "execute_result"
    }
   ],
   "source": [
    "# get the current date and time (now)\n",
    "pd.Timestamp('now')"
   ]
  },
  {
   "cell_type": "markdown",
   "metadata": {},
   "source": [
    "## `Timedelta`로 인터벌 표현\n",
    "인터벌(시간 간격)을 표현하고자 할 때에는 pandas의 `Tiemdelta`객체를 사용할 수 있다.  \n",
    "이는 경과된 일수를 파악하거나 특정 인터벌을 계산할 때 일반적으로 사용된다.  \n",
    "\n",
    "### 날짜 더하기\n",
    "`Timedelta`객체를 사용해 특정일로부터 하루가 경과한 날짜를 알아내는 예다.  "
   ]
  },
  {
   "cell_type": "code",
   "execution_count": 101,
   "metadata": {},
   "outputs": [
    {
     "data": {
      "text/plain": [
       "datetime.datetime(2022, 12, 1, 0, 0)"
      ]
     },
     "execution_count": 101,
     "metadata": {},
     "output_type": "execute_result"
    }
   ],
   "source": [
    "# what is one day from 2022-11-30?\n",
    "today = datetime(2022, 11, 30)\n",
    "tomorrow = today + pd.Timedelta(days = 1)\n",
    "tomorrow"
   ]
  },
  {
   "cell_type": "markdown",
   "metadata": {},
   "source": [
    "### 날짜 사이 일 수 구하기\n",
    "객체 사이의 \\- 로 간단하게 구할 수 있다."
   ]
  },
  {
   "cell_type": "code",
   "execution_count": 102,
   "metadata": {},
   "outputs": [
    {
     "data": {
      "text/plain": [
       "datetime.timedelta(days=4)"
      ]
     },
     "execution_count": 102,
     "metadata": {},
     "output_type": "execute_result"
    }
   ],
   "source": [
    "# how many days between these two dates?\n",
    "date1 = datetime(2022, 12, 2)\n",
    "date2 = datetime(2022, 11, 28)\n",
    "date1 - date2"
   ]
  },
  {
   "cell_type": "markdown",
   "metadata": {},
   "source": [
    "# 시계열 데이터\n",
    "---\n",
    "pandas는 시계열 데이터를 다루는 데에 매우 탁월한데, 그도 그럴 것이 pandas의 근원이 금융 정보의 처리에 있기 때문이다.  \n",
    "따라서 시계열 데이터를 조작하는 능력은 이전 버전을 거치면서 꾸준히 개선되어 왔다.\n",
    "\n",
    "## `DatetimeIndex` 를 사용한 인덱싱\n",
    "pandas에서 시계열 관련 기능의 핵심은 하나 이상의 타임스탬프에서의 측정치를 나타내는 특수한 인덱스의 사용을 중심으로 한다. 그 인덱스는 `DatetimeIndex` 객체다.  \n",
    "날짜와 시간을 기반으로 데이터를 자동으로 정렬해준다.  \n",
    "\n",
    "### `DatetimeIndex` 객체 만들기: `datetime` 리스트 사용\n",
    "`DatetimeIndex` 객체를 만드는 방법은 다양하다. 그중에서 다음은 `datetime`리스트를 전달해 `DatetimeIndex`를 만드는 예다."
   ]
  },
  {
   "cell_type": "code",
   "execution_count": 103,
   "metadata": {},
   "outputs": [
    {
     "data": {
      "text/plain": [
       "2022-12-01    0.043441\n",
       "2022-12-02   -1.880009\n",
       "dtype: float64"
      ]
     },
     "execution_count": 103,
     "metadata": {},
     "output_type": "execute_result"
    }
   ],
   "source": [
    "# create a very simple time-series with two index labels\n",
    "# and random values\n",
    "dates = [datetime(2022, 12, 1), datetime(2022, 12, 2)]\n",
    "ts = pd.Series(np.random.randn(2), dates)\n",
    "ts"
   ]
  },
  {
   "cell_type": "markdown",
   "metadata": {},
   "source": [
    "`datetime` 객체를 받아 그 날짜 값으로 `DatetimeIndex`를 만든다. 각 인덱스 값 자체는 `Timestamp` 객체다"
   ]
  },
  {
   "cell_type": "code",
   "execution_count": 104,
   "metadata": {},
   "outputs": [
    {
     "data": {
      "text/plain": [
       "pandas.core.indexes.datetimes.DatetimeIndex"
      ]
     },
     "execution_count": 104,
     "metadata": {},
     "output_type": "execute_result"
    }
   ],
   "source": [
    "# what is the type of the index?\n",
    "type(ts.index)"
   ]
  },
  {
   "cell_type": "code",
   "execution_count": 105,
   "metadata": {},
   "outputs": [
    {
     "data": {
      "text/plain": [
       "pandas._libs.tslibs.timestamps.Timestamp"
      ]
     },
     "execution_count": 105,
     "metadata": {},
     "output_type": "execute_result"
    }
   ],
   "source": [
    "# and we can see it is a collection of timestamps\n",
    "type(ts.index[0])"
   ]
  },
  {
   "cell_type": "markdown",
   "metadata": {},
   "source": [
    "### `DatetimeIndex` 객체 만들기: 날짜나 시간을 가진 문자열 리스트 사용\n",
    "시계열 데이터를 만들 때 반드시 `datetime` 객체를 전달해야 하는 것은 아니다. `Series`객체는 날짜와 시간을 나타내는 문자열을 인식해 스스로 변환할 만큼 똑똑하다!  \n",
    "\n",
    "라고 했는데 체크해보니 str 타입 그대로였으며, 제대로 시간이 적용된 것이 아니었다고 한다. 🥺"
   ]
  },
  {
   "cell_type": "code",
   "execution_count": 106,
   "metadata": {},
   "outputs": [
    {
     "data": {
      "text/plain": [
       "2022-12-01    0.469112\n",
       "2022-12-02   -0.282863\n",
       "dtype: float64"
      ]
     },
     "execution_count": 106,
     "metadata": {},
     "output_type": "execute_result"
    }
   ],
   "source": [
    "# create from just a list of dates as strings!\n",
    "np.random.seed(123456)\n",
    "dates = ['2022-12-01', '2022-12-02']\n",
    "ts = pd.Series(np.random.randn(2), dates)\n",
    "ts"
   ]
  },
  {
   "cell_type": "code",
   "execution_count": 107,
   "metadata": {},
   "outputs": [
    {
     "data": {
      "text/plain": [
       "str"
      ]
     },
     "execution_count": 107,
     "metadata": {},
     "output_type": "execute_result"
    }
   ],
   "source": [
    "type(ts.index[0])"
   ]
  },
  {
   "cell_type": "code",
   "execution_count": 108,
   "metadata": {},
   "outputs": [
    {
     "data": {
      "text/plain": [
       "22:30:00    0.469112\n",
       "23:30:00   -0.282863\n",
       "dtype: float64"
      ]
     },
     "execution_count": 108,
     "metadata": {},
     "output_type": "execute_result"
    }
   ],
   "source": [
    "# create from times as strings\n",
    "np.random.seed(123456)\n",
    "times = ['22:30:00', '23:30:00']\n",
    "ts = pd.Series(np.random.randn(2), times)\n",
    "ts"
   ]
  },
  {
   "cell_type": "code",
   "execution_count": 109,
   "metadata": {},
   "outputs": [
    {
     "data": {
      "text/plain": [
       "str"
      ]
     },
     "execution_count": 109,
     "metadata": {},
     "output_type": "execute_result"
    }
   ],
   "source": [
    "type(ts.index[0])"
   ]
  },
  {
   "cell_type": "markdown",
   "metadata": {},
   "source": [
    "## `pd.to_datetime()`로 `Timestamp`객체 만들기\n",
    "pandas는 동일하거나 비슷한 유형의 객체 리스트를 받아 `Timestamp` 객체로 변환하고 `DatetimeIndex`를 적용하는 `pd.to_datetime()` 함수가 있다.  \n",
    "\n",
    "리스트 중에 결측값이 있으면 \"not-a-time\" 이라는 뜻의 `NaT()`로 대체된다.  \n",
    "\n",
    "아래에는 다양한 형태의 날짜를 가지고 `Timestamp` 객체로 만들어보는 예시이다."
   ]
  },
  {
   "cell_type": "code",
   "execution_count": 110,
   "metadata": {},
   "outputs": [
    {
     "name": "stdout",
     "output_type": "stream",
     "text": [
      "2022-12-01 00:00:00\n",
      "2022-12-02 00:00:00\n",
      "2022-12-03 00:00:00\n",
      "NaT\n"
     ]
    }
   ],
   "source": [
    "# convert a sequence of objects to a DatetimeIndex\n",
    "dti = pd.to_datetime(['Dec 1, 2022', \n",
    "                      '2022-12-02', \n",
    "                      '2022.12.3', \n",
    "                      None])\n",
    "# print each one!\n",
    "for l in dti: print (l)"
   ]
  },
  {
   "cell_type": "markdown",
   "metadata": {},
   "source": [
    "timestamp 변환을 할 수 없는 값이 들어오면 에러가 발생한다.  "
   ]
  },
  {
   "cell_type": "code",
   "execution_count": null,
   "metadata": {
    "scrolled": true
   },
   "outputs": [],
   "source": [
    "# this is a list of objects, not timestamps...\n",
    "# Throws an error in 0.20.1\n",
    "# pd.to_datetime(['Dec 1, 2022', 'foo'])"
   ]
  },
  {
   "cell_type": "markdown",
   "metadata": {},
   "source": [
    "#### 에러 없이 Timestamp로 변환하기\n",
    "에러를 발생시키지 않고 강제로 변환 작업을 하려면 `errors = 'coerce'` 파라미터를 셋팅한다.  \n",
    "그러면 변환될 수 없는 인덱스 값에는 `NaT`이 할당된다.  "
   ]
  },
  {
   "cell_type": "code",
   "execution_count": 112,
   "metadata": {},
   "outputs": [
    {
     "data": {
      "text/plain": [
       "DatetimeIndex(['2022-12-01', '2022-12-02', '2022-12-03',\n",
       "               '2022-12-04', '2022-12-05', '2022-12-05',\n",
       "                      'NaT'],\n",
       "              dtype='datetime64[ns]', freq=None)"
      ]
     },
     "execution_count": 112,
     "metadata": {},
     "output_type": "execute_result"
    }
   ],
   "source": [
    "# force the conversion, NaT for items that dont work\n",
    "pd.to_datetime(['Dec 1, 2022', '2022/12/02', '12-03-2022', '12/04 2022', '2022.12.5', 'Dec 5th, 2022', 'foo'], errors = 'coerce')"
   ]
  },
  {
   "cell_type": "markdown",
   "metadata": {},
   "source": [
    "## `pd.date_range()` : 특정 빈도의 시간 범위 만들기\n",
    "특정 빈도의 시간 범위는 `pd.date_range()`로 쉽게 만들 수 있다.  \n",
    "\n",
    "연이은 열흘간의 `DatetimeIndex` 로부터 `Series`를 만들어본다. `periods = n`으로 범위 안의 데이터 개수를 정할 수 있다.  "
   ]
  },
  {
   "cell_type": "code",
   "execution_count": 113,
   "metadata": {},
   "outputs": [
    {
     "data": {
      "text/plain": [
       "2022-12-01    0.469112\n",
       "2022-12-02   -0.282863\n",
       "2022-12-03   -1.509059\n",
       "2022-12-04   -1.135632\n",
       "2022-12-05    1.212112\n",
       "2022-12-06   -0.173215\n",
       "2022-12-07    0.119209\n",
       "2022-12-08   -1.044236\n",
       "2022-12-09   -0.861849\n",
       "2022-12-10   -2.104569\n",
       "Freq: D, dtype: float64"
      ]
     },
     "execution_count": 113,
     "metadata": {},
     "output_type": "execute_result"
    }
   ],
   "source": [
    "# create a range of dates starting at a specific date\n",
    "# and for a specific number of days, creating a Series\n",
    "np.random.seed(123456)\n",
    "periods = pd.date_range('Dec/1/2022', periods = 10)\n",
    "date_series = pd.Series(np.random.randn(10), index = periods)\n",
    "date_series"
   ]
  },
  {
   "cell_type": "markdown",
   "metadata": {},
   "source": [
    "## `DatetimeIndex`에서 슬라이싱\n",
    "`DatetimeIndex` 는 데이터 정렬, 선택, 슬라이싱 등과 같은 다양한 인덱스 작업에 사용할 수 있다.  \n",
    "포지션을 기준으로 슬라이싱은 이렇게 한다. "
   ]
  },
  {
   "cell_type": "code",
   "execution_count": 114,
   "metadata": {},
   "outputs": [
    {
     "data": {
      "text/plain": [
       "2022-12-04   -1.135632\n",
       "2022-12-05    1.212112\n",
       "2022-12-06   -0.173215\n",
       "2022-12-07    0.119209\n",
       "Freq: D, dtype: float64"
      ]
     },
     "execution_count": 114,
     "metadata": {},
     "output_type": "execute_result"
    }
   ],
   "source": [
    "# slice by location\n",
    "subset = date_series[3:7]\n",
    "subset"
   ]
  },
  {
   "cell_type": "markdown",
   "metadata": {},
   "source": [
    "### 데이터 자동 정렬\n",
    "위의 인덱스를 가지고 예시를 만들어본다. 만든 s2와 위의 date_series 를 합할 것이다. (데이터가 알아서 정렬되어 더해지는지 볼 것임)  \n",
    "\n",
    "정렬이 일어나면서, 정렬되지 않는 아이템(인덱스가 서로 없는 아이템)에 대해서는 `NaN` 이 할당된다.  "
   ]
  },
  {
   "cell_type": "code",
   "execution_count": 115,
   "metadata": {},
   "outputs": [
    {
     "data": {
      "text/plain": [
       "2022-12-04       10\n",
       "2022-12-05      100\n",
       "2022-12-06     1000\n",
       "2022-12-07    10000\n",
       "Freq: D, dtype: int64"
      ]
     },
     "execution_count": 115,
     "metadata": {},
     "output_type": "execute_result"
    }
   ],
   "source": [
    "# a Series to demonstrate alignment\n",
    "s2 = pd.Series([10, 100, 1000, 10000], subset.index)\n",
    "s2"
   ]
  },
  {
   "cell_type": "code",
   "execution_count": 116,
   "metadata": {},
   "outputs": [
    {
     "data": {
      "text/plain": [
       "2022-12-01             NaN\n",
       "2022-12-02             NaN\n",
       "2022-12-03             NaN\n",
       "2022-12-04        8.864368\n",
       "2022-12-05      101.212112\n",
       "2022-12-06      999.826785\n",
       "2022-12-07    10000.119209\n",
       "2022-12-08             NaN\n",
       "2022-12-09             NaN\n",
       "2022-12-10             NaN\n",
       "Freq: D, dtype: float64"
      ]
     },
     "execution_count": 116,
     "metadata": {},
     "output_type": "execute_result"
    }
   ],
   "source": [
    "# demonstrate alignment by date on a subset of items\n",
    "date_series + s2"
   ]
  },
  {
   "cell_type": "markdown",
   "metadata": {},
   "source": [
    "### 날짜 문자열로 슬라이싱\n",
    "\n",
    "`DatetimeIndex`로 된 `Series`에서는 `datetime`객체를 지정하지 않아도 날짜를 표현하는 문자열만으로 데이터를 가져올 수 있다.  \n",
    "\n",
    "아까의 `Series`에서 직접 날짜로 데이터를 가져오거나 슬라이싱이 가능하다.  "
   ]
  },
  {
   "cell_type": "code",
   "execution_count": 117,
   "metadata": {},
   "outputs": [
    {
     "data": {
      "text/plain": [
       "1.2121120250208506"
      ]
     },
     "execution_count": 117,
     "metadata": {},
     "output_type": "execute_result"
    }
   ],
   "source": [
    "# lookup item by a string representing a date\n",
    "date_series['2022-12-05']"
   ]
  },
  {
   "cell_type": "code",
   "execution_count": 118,
   "metadata": {},
   "outputs": [
    {
     "data": {
      "text/plain": [
       "2022-12-05    1.212112\n",
       "2022-12-06   -0.173215\n",
       "2022-12-07    0.119209\n",
       "Freq: D, dtype: float64"
      ]
     },
     "execution_count": 118,
     "metadata": {},
     "output_type": "execute_result"
    }
   ],
   "source": [
    "# slice between two dates specified by string representing dates\n",
    "date_series['2022-12-05':'2022-12-07']"
   ]
  },
  {
   "cell_type": "markdown",
   "metadata": {},
   "source": [
    "### 부분 특화: \n",
    "pandas가 제공하는 또 다른 편리한 기능으로, `DatetimeIndex`를 부분 특화(partial specification)된 날짜, 즉 날짜 문자열의 일부분을 사용해 슬라이싱할 수 있다는 점이다!!!\n",
    "\n",
    "예를 들어 연이은 2 개년 `Series`가 있을 때 연을 기준으로 아이템을 선택할 수 있다.  "
   ]
  },
  {
   "cell_type": "code",
   "execution_count": 119,
   "metadata": {},
   "outputs": [
    {
     "data": {
      "text/plain": [
       "2021-01-01    0\n",
       "2021-01-02    0\n",
       "2021-01-03    0\n",
       "2021-01-04    0\n",
       "2021-01-05    0\n",
       "             ..\n",
       "2021-12-27    0\n",
       "2021-12-28    0\n",
       "2021-12-29    0\n",
       "2021-12-30    0\n",
       "2021-12-31    0\n",
       "Freq: D, Length: 365, dtype: int64"
      ]
     },
     "execution_count": 119,
     "metadata": {},
     "output_type": "execute_result"
    }
   ],
   "source": [
    "# a two year range of daily data in a Series\n",
    "# only select those in 2021\n",
    "s3 = pd.Series(0, pd.date_range('2021-01-01', '2022-12-31'))\n",
    "s3['2021']"
   ]
  },
  {
   "cell_type": "code",
   "execution_count": 120,
   "metadata": {},
   "outputs": [
    {
     "data": {
      "text/plain": [
       "2021-09-01    0\n",
       "2021-09-02    0\n",
       "2021-09-03    0\n",
       "2021-09-04    0\n",
       "2021-09-05    0\n",
       "             ..\n",
       "2021-09-26    0\n",
       "2021-09-27    0\n",
       "2021-09-28    0\n",
       "2021-09-29    0\n",
       "2021-09-30    0\n",
       "Freq: D, Length: 30, dtype: int64"
      ]
     },
     "execution_count": 120,
     "metadata": {},
     "output_type": "execute_result"
    }
   ],
   "source": [
    "# 31 items for September, 2021\n",
    "s3['2021-09'] "
   ]
  },
  {
   "cell_type": "code",
   "execution_count": 121,
   "metadata": {},
   "outputs": [
    {
     "data": {
      "text/plain": [
       "2021-09-01    0\n",
       "2021-09-02    0\n",
       "2021-09-03    0\n",
       "2021-09-04    0\n",
       "2021-09-05    0\n",
       "             ..\n",
       "2021-10-27    0\n",
       "2021-10-28    0\n",
       "2021-10-29    0\n",
       "2021-10-30    0\n",
       "2021-10-31    0\n",
       "Freq: D, Length: 61, dtype: int64"
      ]
     },
     "execution_count": 121,
     "metadata": {},
     "output_type": "execute_result"
    }
   ],
   "source": [
    "# items between two months\n",
    "s3['2021-09':'2021-10']"
   ]
  }
 ],
 "metadata": {
  "anaconda-cloud": {},
  "kernelspec": {
   "display_name": "Python 3 (ipykernel)",
   "language": "python",
   "name": "python3"
  },
  "language_info": {
   "codemirror_mode": {
    "name": "ipython",
    "version": 3
   },
   "file_extension": ".py",
   "mimetype": "text/x-python",
   "name": "python",
   "nbconvert_exporter": "python",
   "pygments_lexer": "ipython3",
   "version": "3.8.5"
  },
  "latex_envs": {
   "LaTeX_envs_menu_present": true,
   "autoclose": true,
   "autocomplete": true,
   "bibliofile": "biblio.bib",
   "cite_by": "apalike",
   "current_citInitial": 1,
   "eqLabelWithNumbers": true,
   "eqNumInitial": 1,
   "hotkeys": {
    "equation": "Ctrl-E",
    "itemize": "Ctrl-I"
   },
   "labels_anchors": false,
   "latex_user_defs": false,
   "report_style_numbering": false,
   "user_envs_cfg": false
  },
  "toc": {
   "base_numbering": 1,
   "nav_menu": {},
   "number_sections": true,
   "sideBar": true,
   "skip_h1_title": false,
   "title_cell": "Table of Contents",
   "title_sidebar": "Contents",
   "toc_cell": true,
   "toc_position": {},
   "toc_section_display": true,
   "toc_window_display": true
  }
 },
 "nbformat": 4,
 "nbformat_minor": 1
}

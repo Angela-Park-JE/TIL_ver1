{
 "cells": [
  {
   "cell_type": "markdown",
   "metadata": {
    "toc": true
   },
   "source": [
    "<h1>Table of Contents<span class=\"tocSkip\"></span></h1>\n",
    "<div class=\"toc\"><ul class=\"toc-item\"><li><span><a href=\"#Configuring-pandas\" data-toc-modified-id=\"Configuring-pandas-1\"><span class=\"toc-item-num\">1&nbsp;&nbsp;</span>Configuring pandas</a></span></li><li><span><a href=\"#수치-해석과-통계-기법\" data-toc-modified-id=\"수치-해석과-통계-기법-2\"><span class=\"toc-item-num\">2&nbsp;&nbsp;</span>수치 해석과 통계 기법</a></span></li><li><span><a href=\"#Summary-descriptive-statistics\" data-toc-modified-id=\"Summary-descriptive-statistics-3\"><span class=\"toc-item-num\">3&nbsp;&nbsp;</span>Summary descriptive statistics</a></span><ul class=\"toc-item\"><li><span><a href=\"#.describe():약식-기술-통계\" data-toc-modified-id=\".describe():약식-기술-통계-3.1\"><span class=\"toc-item-num\">3.1&nbsp;&nbsp;</span><code>.describe()</code>:약식 기술 통계</a></span></li></ul></li><li><span><a href=\"#중심-경향성(central-tendency)-측정-:-평균,-중위수,-최빈수\" data-toc-modified-id=\"중심-경향성(central-tendency)-측정-:-평균,-중위수,-최빈수-4\"><span class=\"toc-item-num\">4&nbsp;&nbsp;</span>중심 경향성(central tendency) 측정 : 평균, 중위수, 최빈수</a></span><ul class=\"toc-item\"><li><span><a href=\"#.mean()-:-Mean\" data-toc-modified-id=\".mean()-:-Mean-4.1\"><span class=\"toc-item-num\">4.1&nbsp;&nbsp;</span><code>.mean()</code> : Mean</a></span></li><li><span><a href=\"#.median()-:-Median\" data-toc-modified-id=\".median()-:-Median-4.2\"><span class=\"toc-item-num\">4.2&nbsp;&nbsp;</span><code>.median()</code> : Median</a></span></li><li><span><a href=\"#.mode()-:-Mode\" data-toc-modified-id=\".mode()-:-Mode-4.3\"><span class=\"toc-item-num\">4.3&nbsp;&nbsp;</span><code>.mode()</code> : Mode</a></span></li></ul></li><li><span><a href=\"#분산과-표준-편차-계산\" data-toc-modified-id=\"분산과-표준-편차-계산-5\"><span class=\"toc-item-num\">5&nbsp;&nbsp;</span>분산과 표준 편차 계산</a></span><ul class=\"toc-item\"><li><span><a href=\"#var()-:-Variance\" data-toc-modified-id=\"var()-:-Variance-5.1\"><span class=\"toc-item-num\">5.1&nbsp;&nbsp;</span><code>var()</code> : Variance</a></span></li><li><span><a href=\"#.std()-:-Standard-Deviation\" data-toc-modified-id=\".std()-:-Standard-Deviation-5.2\"><span class=\"toc-item-num\">5.2&nbsp;&nbsp;</span><code>.std()</code> : Standard Deviation</a></span></li></ul></li><li><span><a href=\"#공분산과-상관관계\" data-toc-modified-id=\"공분산과-상관관계-6\"><span class=\"toc-item-num\">6&nbsp;&nbsp;</span>공분산과 상관관계</a></span><ul class=\"toc-item\"><li><span><a href=\"#Series1.cov(Series2):-Covariance\" data-toc-modified-id=\"Series1.cov(Series2):-Covariance-6.1\"><span class=\"toc-item-num\">6.1&nbsp;&nbsp;</span><code>Series1.cov(Series2)</code>: Covariance</a></span></li><li><span><a href=\"#.corr()-:-Correlation\" data-toc-modified-id=\".corr()-:-Correlation-6.2\"><span class=\"toc-item-num\">6.2&nbsp;&nbsp;</span><code>.corr()</code> : Correlation</a></span></li></ul></li><li><span><a href=\"#이산화와-분위수\" data-toc-modified-id=\"이산화와-분위수-7\"><span class=\"toc-item-num\">7&nbsp;&nbsp;</span>이산화와 분위수</a></span><ul class=\"toc-item\"><li><span><a href=\"#Discretization-and-quantiling\" data-toc-modified-id=\"Discretization-and-quantiling-7.1\"><span class=\"toc-item-num\">7.1&nbsp;&nbsp;</span>Discretization and quantiling</a></span><ul class=\"toc-item\"><li><span><a href=\"#pd.cut()-:-동일한-크기로-구간화\" data-toc-modified-id=\"pd.cut()-:-동일한-크기로-구간화-7.1.1\"><span class=\"toc-item-num\">7.1.1&nbsp;&nbsp;</span><code>pd.cut()</code> : 동일한 크기로 구간화</a></span></li><li><span><a href=\"#pd.cut():-범위-지정-구간화\" data-toc-modified-id=\"pd.cut():-범위-지정-구간화-7.1.2\"><span class=\"toc-item-num\">7.1.2&nbsp;&nbsp;</span><code>pd.cut()</code>: 범위 지정 구간화</a></span></li><li><span><a href=\"#pd.qcut()-:-분위수-구간화\" data-toc-modified-id=\"pd.qcut()-:-분위수-구간화-7.1.3\"><span class=\"toc-item-num\">7.1.3&nbsp;&nbsp;</span><code>pd.qcut()</code> : 분위수 구간화</a></span></li><li><span><a href=\"#pd.qcut()-:-분위수-범위-지정-구간화\" data-toc-modified-id=\"pd.qcut()-:-분위수-범위-지정-구간화-7.1.4\"><span class=\"toc-item-num\">7.1.4&nbsp;&nbsp;</span><code>pd.qcut()</code> : 분위수 범위 지정 구간화</a></span></li></ul></li></ul></li><li><span><a href=\"#.rank()-:-Ranking\" data-toc-modified-id=\".rank()-:-Ranking-8\"><span class=\"toc-item-num\">8&nbsp;&nbsp;</span><code>.rank()</code> : Ranking</a></span></li><li><span><a href=\"#.pct_change():-Percent-change\" data-toc-modified-id=\".pct_change():-Percent-change-9\"><span class=\"toc-item-num\">9&nbsp;&nbsp;</span><code>.pct_change()</code>: Percent change</a></span></li><li><span><a href=\"#.rolling(window-=-n):-Moving-window-operations\" data-toc-modified-id=\".rolling(window-=-n):-Moving-window-operations-10\"><span class=\"toc-item-num\">10&nbsp;&nbsp;</span><code>.rolling(window = n)</code>: Moving window operations</a></span></li><li><span><a href=\"#.sample():-Random-sampling\" data-toc-modified-id=\".sample():-Random-sampling-11\"><span class=\"toc-item-num\">11&nbsp;&nbsp;</span><code>.sample()</code>: Random sampling</a></span></li></ul></div>"
   ]
  },
  {
   "cell_type": "markdown",
   "metadata": {},
   "source": [
    "# Configuring pandas\n",
    "데이터 예제는 s&p500데이터와 월별 주식 데이터도 임포트 한다. "
   ]
  },
  {
   "cell_type": "code",
   "execution_count": 1,
   "metadata": {},
   "outputs": [
    {
     "name": "stdout",
     "output_type": "stream",
     "text": [
      "1.4.1\n",
      "1.22.4\n",
      "3.8.5 (default, Sep  4 2020, 02:22:02) \n",
      "[Clang 10.0.0 ]\n"
     ]
    }
   ],
   "source": [
    "# import numpy and pandas\n",
    "import numpy as np\n",
    "import pandas as pd\n",
    "\n",
    "# used for dates\n",
    "import datetime\n",
    "from datetime import datetime, date\n",
    "\n",
    "# Set some pandas options controlling output format\n",
    "pd.set_option('display.notebook_repr_html', False)\n",
    "pd.set_option('display.max_columns', 8)\n",
    "pd.set_option('display.max_rows', 10)\n",
    "pd.set_option('display.width', 60)\n",
    "\n",
    "# bring in matplotlib for graphics\n",
    "import matplotlib.pyplot as plt\n",
    "%matplotlib inline\n",
    "\n",
    "# version check\n",
    "print(pd.__version__)\n",
    "print(np.__version__)\n",
    "import sys\n",
    "print(sys.version)\n",
    "\n",
    "# read in the data and print the first five rows\n",
    "# use the Symbol column as the index, and \n",
    "# only read in columns in positions 0, 2, 3, 7\n",
    "sp500 = pd.read_csv('/Users/Angela/Desktop/Personal/Learning-Pandas-Second-Edition-master/data/sp500.csv', \n",
    "                    index_col='Symbol', usecols=[0, 2, 3, 7])\n",
    "\n",
    "# one month of stock history data\n",
    "omh = pd.read_csv(\"/Users/Angela/Desktop/Personal/Learning-Pandas-Second-Edition-master/data/omh.csv\")"
   ]
  },
  {
   "cell_type": "markdown",
   "metadata": {},
   "source": [
    "# 수치 해석과 통계 기법\n",
    "pandas는데이터 모델링과 조작에 있어서도 매우 효과적이지만, 수치 해석과 통계 분석을 위한 다양하고 강력한 도구들도 제공한다. 그 도구들은 pandas의 데이터 구조와 밀접하게 연계됨으로써 모델링된 데이터의 복잡한 계산을 간단하게 만들어준다.  \n",
    "8장에서는 여러 객체에 걸친 산술 연산 등의 기본적인 수치 계산과, 최솟값이나 최댓값과 같은 특정 값을 찾는 방법을 알아본다. 그 다음엔 quantile(분위수), ranking(값 순위), 분산, 상관관계 등 다수의 pandas 통계 기능을 살펴본다.  \n",
    "마지막에서는 롤링 윈도우(rolling window)라는 pandas의 매우 강력한 기능을 확인할 것이다. 롤링 윈도우는 여러 데이터 서브셋에 걸친 평균을 계산하는 등 다양한 기법을 수행할 수 있는 수단을 제공한다. 이런 유형의 연산은 시간 변화에 따른 주식 데이터의 특성을 결정하는 작업과 다양한 분석에 있어서 필수적이다. 8장에서는 해당 개념 소개를 하고, 이후 더 자세히 보도록 할 것이당.\n",
    "\n",
    "- pandas 객체에 대한 산술 연산\n",
    "- 값의 개수 세기\n",
    "- 고윳값과 그 개수 판별\n",
    "- 최솟값과 최댓값 찾기\n",
    "- n개 최솟값과 n개 최댓값 찾기\n",
    "- 누적 값 계산\n",
    "- 약식 기술 통계 내용 가져옥\n",
    "- 중심 경향성 측정(평균, 중위수, 최빈수)\n",
    "- 분산, 표준 편차, 공분산, 상관관계 계산\n",
    "- 이산화와 분위수 계산\n",
    "- 각 표본의 변동률 계산\n",
    "- 롤링 윈도우 작업\n",
    "- 무작위 표집\n",
    "\n",
    "    pandas 객체의 수치 계산법은 이전 장.(이번 노트에서는 위의 순서중 누적 값 계산 이후부터 수행한다.)\n"
   ]
  },
  {
   "cell_type": "markdown",
   "metadata": {},
   "source": [
    "# Summary descriptive statistics\n",
    "---\n",
    "pandas 객체의 통계 처리\n",
    "\n",
    "기술통게는 기초 데이터의 구체적인 특성을 설명해주는 다양한 데이터 측정치를 연구하는 분야다.  \n",
    "pandas에는 `Series`나 `DataFrame`에 적용할 수 있는 그런 기술 통계 작업을 위한 다수의 클래스가 내장돼 있다.  \n",
    "\n",
    "이제 다음과 같이 pandas가 제공하는 통계 분석과 기법의 여러 측면을 살펴보도록 하쟝.  \n",
    "- 약식 기술 통계\n",
    "- 중심 경향성 측정: 평균, 중위수, 최빈수\n",
    "- 분산과 표준편차"
   ]
  },
  {
   "cell_type": "markdown",
   "metadata": {},
   "source": [
    "## `.describe()`:약식 기술 통계\n",
    "pandas 객체는 데이터의 약식 통계(summary statstics)를 반환하는 `.describe()`메서드를 제공한다.  \n",
    "이를 `DataFrame`이나 `Series`에 사용하면 각 칼럼의 통계 요약을 볼 수 있다.  \n",
    "- 데이터 개수\n",
    "- 평균\n",
    "- 표준편차\n",
    "- 최솟값\n",
    "- 제 1사분위수\n",
    "- 중앙값(제 50백분위수)\n",
    "- 제 3사분위수\n",
    "- 최댓값"
   ]
  },
  {
   "cell_type": "code",
   "execution_count": 2,
   "metadata": {},
   "outputs": [
    {
     "data": {
      "text/plain": [
       "            MSFT        AAPL\n",
       "count  22.000000   22.000000\n",
       "mean   47.493182  112.411364\n",
       "std     0.933077    2.388772\n",
       "min    45.160000  106.750000\n",
       "25%    46.967500  111.660000\n",
       "50%    47.625000  112.530000\n",
       "75%    48.125000  114.087500\n",
       "max    48.840000  115.930000"
      ]
     },
     "execution_count": 2,
     "metadata": {},
     "output_type": "execute_result"
    }
   ],
   "source": [
    "# get summary statistics for the stock data\n",
    "omh.describe()"
   ]
  },
  {
   "cell_type": "code",
   "execution_count": 3,
   "metadata": {},
   "outputs": [
    {
     "data": {
      "text/plain": [
       "count    22.000000\n",
       "mean     47.493182\n",
       "std       0.933077\n",
       "min      45.160000\n",
       "25%      46.967500\n",
       "50%      47.625000\n",
       "75%      48.125000\n",
       "max      48.840000\n",
       "Name: MSFT, dtype: float64"
      ]
     },
     "execution_count": 3,
     "metadata": {},
     "output_type": "execute_result"
    }
   ],
   "source": [
    "# just the stats for MSFT\n",
    "omh.MSFT.describe()"
   ]
  },
  {
   "cell_type": "markdown",
   "metadata": {},
   "source": [
    "만약 평균만 보고싶다면 `['mean']` 식으로 하여 볼 수 있다. 그러나 이는 `DataFrame`전체에는 하지 못한다. "
   ]
  },
  {
   "cell_type": "code",
   "execution_count": 4,
   "metadata": {},
   "outputs": [
    {
     "data": {
      "text/plain": [
       "47.493181818181824"
      ]
     },
     "execution_count": 4,
     "metadata": {},
     "output_type": "execute_result"
    }
   ],
   "source": [
    "# only the mean for MSFT\n",
    "omh.MSFT.describe()['mean']"
   ]
  },
  {
   "cell_type": "markdown",
   "metadata": {},
   "source": [
    "숫자가 아닌 데이터의 경우 약식 통계의 결과가 다르다.  \n",
    "이 경우, 다음처럼 총 개수, 고유한 값 개수, 최빈값과 그 빈도수로 이루어진다."
   ]
  },
  {
   "cell_type": "code",
   "execution_count": 5,
   "metadata": {},
   "outputs": [
    {
     "data": {
      "text/plain": [
       "count     4\n",
       "unique    3\n",
       "top       a\n",
       "freq      2\n",
       "dtype: object"
      ]
     },
     "execution_count": 5,
     "metadata": {},
     "output_type": "execute_result"
    }
   ],
   "source": [
    "# get summary stats on non-numeric data\n",
    "s = pd.Series(['a', 'a', 'b', 'c', np.NaN])\n",
    "s.describe()"
   ]
  },
  {
   "cell_type": "markdown",
   "metadata": {},
   "source": [
    "# 중심 경향성(central tendency) 측정 : 평균, 중위수, 최빈수\n",
    "---\n",
    "평균, 중위수, 최빈수는 데이터의 분포와 분포 모양을 이해할 수 있게 하는 다양하고 유용한 측정치를 보여준다.  \n",
    "skewness(왜도)를 생각해보자. 평균과 중위수, 최빈수가 다 같은 곳에 위치하면 대칭 분포(Symmetirical Distribution)를 이루는데,  \n",
    "만약 최빈수-중위수-평균 순으로 존재하면 양의 왜도(Positive skew), 만약 평균-중위수-최빈수 순으로 존재하면 음의 왜도(Negative skew)를 의미한다. \n",
    "\n",
    "## `.mean()` : Mean\n",
    "일반적으로 average라고도 부르는 평균은 중심 경향성의 측정 방법 중 하나이다.  \n",
    "평균은 모든 측정치를 더한 다음 측정치의 개수로 나눔으로써 계산된다.  \n",
    "\n",
    "pandas에서는 `.mean()`을 사용해 평균을 계산할 수 있다.  \n",
    "\n",
    "각 칼럼의 평균을 개별적으로 계산해 칼럼명을 인덱스로 하는 하나의 `Series`를 반환한다.  \n",
    "`.mean()` 메서드의 기본 값은 `axis = 0`인데, 이는 각 칼럼의 평균을 계산한다는 의미이다.  \n",
    "축을 전환하여 모든 주가의 일별 평균을 계산할 수도 있다.  \n",
    "\n",
    "    버전의 문제로 내 버전에는 `FutureWarning`이 뜬다. 아마도 omh 데이터프레임 안에 숫자가 아닌 데이터 타입이 들어가 있는데, 통째로 구하려 하니 오류가 나는 것으로 보인다. "
   ]
  },
  {
   "cell_type": "code",
   "execution_count": 6,
   "metadata": {},
   "outputs": [
    {
     "name": "stderr",
     "output_type": "stream",
     "text": [
      "/var/folders/qw/j72d9nwn5dq0vxtqtw2bbtnh0000gp/T/ipykernel_17254/3707045407.py:2: FutureWarning: Dropping of nuisance columns in DataFrame reductions (with 'numeric_only=None') is deprecated; in a future version this will raise TypeError.  Select only valid columns before calling the reduction.\n",
      "  omh.mean()\n"
     ]
    },
    {
     "data": {
      "text/plain": [
       "MSFT     47.493182\n",
       "AAPL    112.411364\n",
       "dtype: float64"
      ]
     },
     "execution_count": 6,
     "metadata": {},
     "output_type": "execute_result"
    }
   ],
   "source": [
    "# the mean of all the columns in omh\n",
    "omh.mean()"
   ]
  },
  {
   "cell_type": "code",
   "execution_count": 7,
   "metadata": {},
   "outputs": [
    {
     "name": "stderr",
     "output_type": "stream",
     "text": [
      "/var/folders/qw/j72d9nwn5dq0vxtqtw2bbtnh0000gp/T/ipykernel_17254/423407416.py:2: FutureWarning: Dropping of nuisance columns in DataFrame reductions (with 'numeric_only=None') is deprecated; in a future version this will raise TypeError.  Select only valid columns before calling the reduction.\n",
      "  omh.mean(axis=1)[:5]\n"
     ]
    },
    {
     "data": {
      "text/plain": [
       "0    81.845\n",
       "1    81.545\n",
       "2    82.005\n",
       "3    82.165\n",
       "4    81.710\n",
       "dtype: float64"
      ]
     },
     "execution_count": 7,
     "metadata": {},
     "output_type": "execute_result"
    }
   ],
   "source": [
    "# calc the mean of the values in each row\n",
    "omh.mean(axis=1)[:5]"
   ]
  },
  {
   "cell_type": "code",
   "execution_count": 8,
   "metadata": {},
   "outputs": [
    {
     "data": {
      "text/plain": [
       "112.41136363636362"
      ]
     },
     "execution_count": 8,
     "metadata": {},
     "output_type": "execute_result"
    }
   ],
   "source": [
    "omh['AAPL'].mean()"
   ]
  },
  {
   "cell_type": "markdown",
   "metadata": {},
   "source": [
    "## `.median()` : Median\n",
    "중위수(중앙값, 중간값)는 일련의 값들에서 중앙에 위치한 값을 말하는데, 정의상으로는 큰 값의 개수와 작은 값의 개수를 일치시키는 위치에 있는 값을 말한다.  \n",
    "중위수는 평균에 비해 이상치(outlier)나 비대칭 데이터에 대한 영향을 적게 받는 것에 의미가 있다.  "
   ]
  },
  {
   "cell_type": "code",
   "execution_count": 9,
   "metadata": {},
   "outputs": [
    {
     "name": "stderr",
     "output_type": "stream",
     "text": [
      "/var/folders/qw/j72d9nwn5dq0vxtqtw2bbtnh0000gp/T/ipykernel_17254/496044587.py:2: FutureWarning: Dropping of nuisance columns in DataFrame reductions (with 'numeric_only=None') is deprecated; in a future version this will raise TypeError.  Select only valid columns before calling the reduction.\n",
      "  omh.median()\n"
     ]
    },
    {
     "data": {
      "text/plain": [
       "MSFT     47.625\n",
       "AAPL    112.530\n",
       "dtype: float64"
      ]
     },
     "execution_count": 9,
     "metadata": {},
     "output_type": "execute_result"
    }
   ],
   "source": [
    "# calc the median of the values in each column\n",
    "omh.median()"
   ]
  },
  {
   "cell_type": "markdown",
   "metadata": {},
   "source": [
    "## `.mode()` : Mode\n",
    "최빈수는 `Series` 안에 가장 많이 존재하는 값을 말한다.  \n",
    "최빈수를 나타내는 스칼라 값이 아닌 `Series`가 반환된다. 그 이유는 최빈수가 하나가 아닐 수도 있기 때문이다.  \n"
   ]
  },
  {
   "cell_type": "code",
   "execution_count": 10,
   "metadata": {},
   "outputs": [
    {
     "data": {
      "text/plain": [
       "0    3\n",
       "dtype: int64"
      ]
     },
     "execution_count": 10,
     "metadata": {},
     "output_type": "execute_result"
    }
   ],
   "source": [
    "# find the mode of this Series\n",
    "s = pd.Series([1, 2, 3, 3, 5])\n",
    "s.mode()"
   ]
  },
  {
   "cell_type": "code",
   "execution_count": 11,
   "metadata": {},
   "outputs": [
    {
     "data": {
      "text/plain": [
       "0    1\n",
       "1    3\n",
       "dtype: int64"
      ]
     },
     "execution_count": 11,
     "metadata": {},
     "output_type": "execute_result"
    }
   ],
   "source": [
    "# there can be more than one mode\n",
    "s = pd.Series([1, 2, 3, 3, 5, 1])\n",
    "s.mode()"
   ]
  },
  {
   "attachments": {},
   "cell_type": "markdown",
   "metadata": {},
   "source": [
    "# 분산과 표준 편차 계산\n",
    "---\n",
    "확률론과 통계학에 있어서 분산과 표준 편차는 데이터가 평균으로부터 얼마나 퍼져있는지를 알게 해준다. \n",
    "\n",
    "## `var()` : Variance\n",
    "분산 계산  \n",
    "\n",
    "분산은 모든 값이 평균으로부터 떨어져 있는 정도를 측정한다.  \n",
    "\n",
    "$$ s^{2}={\\frac  {\\Sigma (y-\\overline {y})^{2}}{n-1}}={\\frac  {SS}{df}} $$  \n",
    "$${\\displaystyle \\operatorname {Var} (X)={\\frac {1}{n}}\\sum _{i=1}^{n}(x_{i}-\\mu )^{2}=\\left({\\frac {1}{n}}\\sum _{i=1}^{n}x_{i}^{2}\\right)-\\mu ^{2}}$$  \n",
    "이는 근본적으로 각 값과 평균과의 차이를 측정한 것이다. 다만 그 차이가 음수일 수도 있으므로 제곱을 함으로써 음수의 누적 효과도 결과에 반영되도록 한다.  \n",
    "이를 모두 합하고 측정치의 개수에서 1을 뺸 수로 나누면 각 차이의 대략적인 평균에 도달하게 된다.  \n"
   ]
  },
  {
   "cell_type": "code",
   "execution_count": 12,
   "metadata": {},
   "outputs": [
    {
     "name": "stderr",
     "output_type": "stream",
     "text": [
      "/var/folders/qw/j72d9nwn5dq0vxtqtw2bbtnh0000gp/T/ipykernel_17254/728291630.py:2: FutureWarning: Dropping of nuisance columns in DataFrame reductions (with 'numeric_only=None') is deprecated; in a future version this will raise TypeError.  Select only valid columns before calling the reduction.\n",
      "  omh.var()\n"
     ]
    },
    {
     "data": {
      "text/plain": [
       "MSFT    0.870632\n",
       "AAPL    5.706231\n",
       "dtype: float64"
      ]
     },
     "execution_count": 12,
     "metadata": {},
     "output_type": "execute_result"
    }
   ],
   "source": [
    "# calc the variance of the values in each column\n",
    "omh.var()"
   ]
  },
  {
   "cell_type": "markdown",
   "metadata": {},
   "source": [
    "## `.std()` : Standard Deviation\n",
    "표준 편차 계산  \n",
    "\n",
    "표준 편차는 분산과 동일한 의미를 가지며, 다만 분산의 제곱근을 계산한 것이다.  \n",
    "$$ s = \\sqrt{\\frac{1}{N-1} \\Sigma^{N}_{i=1}{(x_i - \\bar{x} )^2} } $$\n",
    "분산에서는 개별 값과 평균의 차이를 모두 제곱했었다. 따라서 분산은 실제 값과 그 규모가 다르다.  \n",
    "표준 편차는 분산에 제곱근을 함으로써 원래 데이터셋의 값과 동일한 규모로 조정된 결과이다. "
   ]
  },
  {
   "cell_type": "code",
   "execution_count": 13,
   "metadata": {},
   "outputs": [
    {
     "name": "stderr",
     "output_type": "stream",
     "text": [
      "/var/folders/qw/j72d9nwn5dq0vxtqtw2bbtnh0000gp/T/ipykernel_17254/1843298150.py:2: FutureWarning: Dropping of nuisance columns in DataFrame reductions (with 'numeric_only=None') is deprecated; in a future version this will raise TypeError.  Select only valid columns before calling the reduction.\n",
      "  omh.std()\n"
     ]
    },
    {
     "data": {
      "text/plain": [
       "MSFT    0.933077\n",
       "AAPL    2.388772\n",
       "dtype: float64"
      ]
     },
     "execution_count": 13,
     "metadata": {},
     "output_type": "execute_result"
    }
   ],
   "source": [
    "# standard deviation\n",
    "omh.std()"
   ]
  },
  {
   "cell_type": "markdown",
   "metadata": {},
   "source": [
    "# 공분산과 상관관계\n",
    "---\n",
    "공분산과 상관관계는 두 개의 변수가 어떤 관계인지 설명한다. 그 관계는 둘 중 하나일 것이다.  \n",
    "- 두 변수가 같은 방향으로 움직인다. 양의 관계를 가진다.  \n",
    "- 두 변수가 반대 방향으로 움직인다. 음의 관계를 가진다.  \n",
    "\n",
    "    물론 한 가지 더. 정말 관계를 찾기 어려울 정도로 없을 수도 있다.  \n",
    "\n",
    "공분산과 상관관계는 모두 두 변수의 관계가 양인지 음인지를 나타낸다. 또한 상관관계는 두 변수가 함께 움직이는 경향의 정도까지 보여준다.  \n",
    "    \n",
    "## `Series1.cov(Series2)`: Covariance\n",
    "공분산 계산  \n",
    "\n",
    "공분산은 두 변수의 관계를 나타낸다. 공분산의 값이 양수이면 두 변수는 양의 관계이며, 공분산의 값이 음수이면 두 변수는 음의 관계다.  \n",
    "\n",
    "$$ cov_{x, y} = \\frac {\\Sigma^N_{i=1} (x_i - \\bar{x})(y_i - \\bar{y})} {N-1}$$"
   ]
  },
  {
   "cell_type": "code",
   "execution_count": 14,
   "metadata": {},
   "outputs": [
    {
     "data": {
      "text/plain": [
       "1.9261240259740264"
      ]
     },
     "execution_count": 14,
     "metadata": {},
     "output_type": "execute_result"
    }
   ],
   "source": [
    "# covariance of MSFT vs AAPL\n",
    "omh.MSFT.cov(omh.AAPL)"
   ]
  },
  {
   "cell_type": "markdown",
   "metadata": {},
   "source": [
    "## `.corr()` : Correlation\n",
    "공분산은 두 변수가 어떤 관계인지는 알려주지만, 그 관계의 크기에 대해서는 설명하지 못한다. **두 변수가 함께 움직이는 정도를 측정하려면 상관관계를 알아야** 한다.  \n",
    "상관관계는 공분산을 두 표준 편차의 곱으로 나눔으로써 계산할 수 있다.  \n",
    "$$ r(x, y) = \\frac {cov_{x, y}}{s_x s_y} $$  \n",
    "\n",
    "상관관계는 두 변수의 상호의존성 측정을 표준화해 결과적으로 두 변수가 얼마나 가깝게 움직이는지를 알려준다. 상관관계의 측정치를 **상관계수(correlation coefficient)**라고 하며, 그 값은 항상 -1과 1을 포함한 그 사이에 존재한다. 상관계수는 다음과 같이 해석할 수 있다.  \n",
    "\n",
    "- 상관계수 = 1.0 : 완전한 양의 상관관계  \n",
    "    이는 한 변수가 특정 크기로 움직일 때 나머지 변수도 같은 비율의 크기와 같은 방향으로 움직인다는 의미이다.  \n",
    "    상관계수가 0.0보다 크고 1.0보다 작은 경우를 불완전한 양의 상관관계라고 하며, 1.0에 가까울수록 상관관계의 크기는 커진다. \n",
    "- 상관계수 = 0.0 : 두 변수 사이의 상관관계가 없음  \n",
    "    즉, 한 변수가 움직일 때 나머지 변수의 움직임을 예측할 수는 없다는 의미다.  \n",
    "- 상관계수 =  -1.0 : 완전한 음의 상관관계(또는 *역상관관계*)  \n",
    "    이는 한 변수가 움직일 때 나머지 변수는 같은 비율의 크기로, 그러나 반대 방향으로 움직인다는 의미이다.  \n",
    "    상관계수가 -1.0보다 크고 0.0보다 작은 경우를 불완전한 음의 상관관계라고 하며, -1.0에 가까울수록 상관관계의 크기는 커진다. "
   ]
  },
  {
   "cell_type": "code",
   "execution_count": 15,
   "metadata": {},
   "outputs": [
    {
     "data": {
      "text/plain": [
       "0.8641560684381171"
      ]
     },
     "execution_count": 15,
     "metadata": {},
     "output_type": "execute_result"
    }
   ],
   "source": [
    "# correlation of MSFT relative to AAPL\n",
    "omh.MSFT.corr(omh.AAPL)"
   ]
  },
  {
   "cell_type": "markdown",
   "metadata": {},
   "source": [
    "이 결과는 주어진 기간 동안 MSFT와 AAPL이 높은 양의 상관관계를 가진다고 볼 수 있다.  \n",
    "주의할 것은, **한 주가가 다른 주가에 영향을 주는 인과관계가 있다는 의미가 아니며**, 해당 분야의 시장 상황 등과 같이 두 주가에 동일한 영향을 주는 어떤 요소가 있음을 짐작할 수 있다.  "
   ]
  },
  {
   "cell_type": "markdown",
   "metadata": {},
   "source": [
    "# 이산화와 분위수\n",
    "---\n",
    "\n",
    "## Discretization and quantiling\n",
    "이산화(discretization)는 연속적인 데이터를 일련의 구간(bin)으로 분할하는 방법이다.  \n",
    "각 구간에 속한 값 개수의 분포는 서로 다른 구간에 걸친 데이터의 상대 분포를 이해하는데 사용된다.  \n",
    "\n",
    "우선 난수 데이터 만 개를 생성한다. "
   ]
  },
  {
   "cell_type": "code",
   "execution_count": 16,
   "metadata": {},
   "outputs": [
    {
     "data": {
      "text/plain": [
       "array([ 0.4691123 , -0.28286334, -1.5090585 , ...,  0.26296448,\n",
       "       -0.83377412, -0.10418135])"
      ]
     },
     "execution_count": 16,
     "metadata": {},
     "output_type": "execute_result"
    }
   ],
   "source": [
    "# generate 10000 normal random #'s\n",
    "np.random.seed(123456)\n",
    "dist = np.random.normal(size = 10000)\n",
    "dist"
   ]
  },
  {
   "cell_type": "markdown",
   "metadata": {},
   "source": [
    "난수 데이터의 평균과 표준 편차는 다음과 같다. 정규분포를 따르는 데이터셋이므로 그 크기가 클 수록 평균은 0, 표준편차는 1에 가까워진다.  "
   ]
  },
  {
   "cell_type": "code",
   "execution_count": 17,
   "metadata": {},
   "outputs": [
    {
     "data": {
      "text/plain": [
       "(-0.002863324040906651, 1.008716203199891)"
      ]
     },
     "execution_count": 17,
     "metadata": {},
     "output_type": "execute_result"
    }
   ],
   "source": [
    "# show the mean and std\n",
    "(dist.mean(), dist.std())"
   ]
  },
  {
   "cell_type": "markdown",
   "metadata": {},
   "source": [
    "### `pd.cut()` : 동일한 크기로 구간화\n",
    "\n",
    "5개의 구간을 만들고 각 구간에 값을 할당한다. `bins`는 구간이라는 pandas의 `Categorial`이다. 데이터 자체는 아니다.  \n",
    "단지 우리가 만든 데이터 dist에 맞게 적합된 상태로 보는 것이 맞다. 데이터가 어떻게 쪼개졌는지를 보여주는 레이블과 인덱스로 구성된다.  "
   ]
  },
  {
   "cell_type": "code",
   "execution_count": 18,
   "metadata": {},
   "outputs": [
    {
     "data": {
      "text/plain": [
       "[(-0.633, 0.81], (-0.633, 0.81], (-2.077, -0.633], (-2.077, -0.633], (0.81, 2.254], ..., (-2.077, -0.633], (-0.633, 0.81], (-0.633, 0.81], (-2.077, -0.633], (-0.633, 0.81]]\n",
       "Length: 10000\n",
       "Categories (5, interval[float64, right]): [(-3.528, -2.077] < (-2.077, -0.633] < (-0.633, 0.81] < (0.81, 2.254] < (2.254, 3.698]]"
      ]
     },
     "execution_count": 18,
     "metadata": {},
     "output_type": "execute_result"
    }
   ],
   "source": [
    "# cut into 5 equally sized bins\n",
    "bins = pd.cut(dist, 5)\n",
    "bins"
   ]
  },
  {
   "cell_type": "markdown",
   "metadata": {},
   "source": [
    "이렇게 생성된 구간에 `.categories` 애트리뷰트는 인덱스를 반환하는데, 주어진 값의 범위와 구간의 개수를 감안해 pandas가 결정한 구간 크기를 보여준다. "
   ]
  },
  {
   "cell_type": "code",
   "execution_count": 19,
   "metadata": {},
   "outputs": [
    {
     "data": {
      "text/plain": [
       "IntervalIndex([(-3.528, -2.077], (-2.077, -0.633], (-0.633, 0.81], (0.81, 2.254], (2.254, 3.698]], dtype='interval[float64, right]')"
      ]
     },
     "execution_count": 19,
     "metadata": {},
     "output_type": "execute_result"
    }
   ],
   "source": [
    "# just the categories \n",
    "bins.categories"
   ]
  },
  {
   "cell_type": "markdown",
   "metadata": {},
   "source": [
    "`.codes` 애트리뷰트는 적합시켰던 데이터의 각 아이템이 어느 구간에 속하는지 보여주는 배열을 반환한다. "
   ]
  },
  {
   "cell_type": "code",
   "execution_count": 20,
   "metadata": {},
   "outputs": [
    {
     "data": {
      "text/plain": [
       "array([2, 2, 1, ..., 2, 1, 2], dtype=int8)"
      ]
     },
     "execution_count": 20,
     "metadata": {},
     "output_type": "execute_result"
    }
   ],
   "source": [
    "# codes tells us which bin each item is in\n",
    "bins.codes"
   ]
  },
  {
   "cell_type": "markdown",
   "metadata": {},
   "source": [
    "구간의 표현은 수학에서의 표준 구간 표기법을 따른다. 즉, 괄호는 열린구간(open interval)을 나타내며, 대괄호는 닫힌구간(closed interval)을 나타낸다. 닫힌구간의 경우 그 끝의 값이 구간에 포함된다.  \n",
    "pandas는 우측 닫힌구간을 기본으로 하지만, **`pd.cut(right = False)`** 옵션을 사용하면 좌측 닫힌 구간으로 바꿀 수 있다. (기본은 True)"
   ]
  },
  {
   "cell_type": "code",
   "execution_count": 21,
   "metadata": {},
   "outputs": [
    {
     "data": {
      "text/plain": [
       "IntervalIndex([[-3.521, -2.077), [-2.077, -0.633), [-0.633, 0.81), [0.81, 2.254), [2.254, 3.705)], dtype='interval[float64, left]')"
      ]
     },
     "execution_count": 21,
     "metadata": {},
     "output_type": "execute_result"
    }
   ],
   "source": [
    "# move the closed side of the interval to the left\n",
    "pd.cut(dist, 5, right=False).categories"
   ]
  },
  {
   "cell_type": "markdown",
   "metadata": {},
   "source": [
    "### `pd.cut()`: 범위 지정 구간화\n",
    "구간의 개수를 지정하는 대신 구간의 범위를 지정할 수도 있다. 흔한 예로 특정 연령 범위 안에 나이를 매핑시키는 경우가 있다.  \n",
    "6세~ 45세 사이의 나이 50개를 생성해본다.  "
   ]
  },
  {
   "cell_type": "code",
   "execution_count": 22,
   "metadata": {},
   "outputs": [
    {
     "data": {
      "text/plain": [
       "array([ 7, 33, 38, 29, 42, 14, 16, 16, 18, 17, 26, 28, 44, 40, 20, 12,  8,\n",
       "       10, 36, 29, 26, 26, 11, 29, 42, 17, 41, 35, 22, 40, 24, 21, 38, 33,\n",
       "       26, 23, 16, 34, 26, 20, 18, 42, 27, 13, 37, 37, 10,  7, 10, 23])"
      ]
     },
     "execution_count": 22,
     "metadata": {},
     "output_type": "execute_result"
    }
   ],
   "source": [
    "# generate 50 ages between 6 and 45\n",
    "np.random.seed(123456)\n",
    "ages = np.random.randint(6, 45, 50)\n",
    "ages"
   ]
  },
  {
   "cell_type": "markdown",
   "metadata": {},
   "source": [
    "구간의 범위를 각 구간의 **경계에 해당하는 값의 배열**로 지정할 수 있다.  \n",
    "지정한 4개의 구간으로 데이터를 분류한 후 연령 분포를 확인하는 과정이다.  \n",
    "\n",
    "만약 수학적으로 표현된 것을 각 구간에 이름을 붙일때 `labels = ` 파라미터를 사용한다.  "
   ]
  },
  {
   "cell_type": "code",
   "execution_count": 23,
   "metadata": {},
   "outputs": [
    {
     "data": {
      "text/plain": [
       "            counts  freqs\n",
       "categories               \n",
       "(6, 12]          8   0.16\n",
       "(12, 18]         9   0.18\n",
       "(18, 35]        21   0.42\n",
       "(35, 50]        12   0.24"
      ]
     },
     "execution_count": 23,
     "metadata": {},
     "output_type": "execute_result"
    }
   ],
   "source": [
    "# cut into ranges and then get descriptive stats\n",
    "ranges = [6, 12, 18, 35, 50]\n",
    "agebins = pd.cut(ages, ranges)\n",
    "agebins.describe()"
   ]
  },
  {
   "cell_type": "code",
   "execution_count": 24,
   "metadata": {},
   "outputs": [
    {
     "data": {
      "text/plain": [
       "             counts  freqs\n",
       "categories                \n",
       "Youth             8   0.16\n",
       "Young Adult       9   0.18\n",
       "Adult            21   0.42\n",
       "Middle Aged      12   0.24"
      ]
     },
     "execution_count": 24,
     "metadata": {},
     "output_type": "execute_result"
    }
   ],
   "source": [
    "# add names for the bins\n",
    "ranges = [6, 12, 18, 35, 50]\n",
    "labels = ['Youth', 'Young Adult', 'Adult', 'Middle Aged']\n",
    "agebins = pd.cut(ages, ranges, labels=labels)\n",
    "agebins.describe()"
   ]
  },
  {
   "cell_type": "markdown",
   "metadata": {},
   "source": [
    "### `pd.qcut()` : 분위수 구간화\n",
    "\n",
    "`pd.qcut()`을 사용하면 특정 분위수 구간에 맞게 데이터를 분할할 수 있다. 이 함수는 아이템의 개수가 동일하게 구간을 나눠 값을 할당한다.  \n",
    "이로서 값들이 균등하게 분포된 상태에서 각 구간의 범위를 알아낼 수 있다.  \n",
    "\n",
    "다음은 위에서 사용했던 정규분포를 따르는 난수 데이터를 5분위수로 나눈 구간으로 분류하는 예시이다. "
   ]
  },
  {
   "cell_type": "code",
   "execution_count": 25,
   "metadata": {},
   "outputs": [
    {
     "data": {
      "text/plain": [
       "                  counts  freqs\n",
       "categories                     \n",
       "(-3.522, -0.861]    2000    0.2\n",
       "(-0.861, -0.241]    2000    0.2\n",
       "(-0.241, 0.261]     2000    0.2\n",
       "(0.261, 0.866]      2000    0.2\n",
       "(0.866, 3.698]      2000    0.2"
      ]
     },
     "execution_count": 25,
     "metadata": {},
     "output_type": "execute_result"
    }
   ],
   "source": [
    "# cut into quantiles\n",
    "# 5 bins with an equal quantity of items : 5분위수로 나누도록함\n",
    "qbin = pd.qcut(dist, 5)\n",
    "# this will tell us the range of values in each quantile : 분류된 데이터의 통계정보\n",
    "qbin.describe()"
   ]
  },
  {
   "cell_type": "markdown",
   "metadata": {},
   "source": [
    "### `pd.qcut()` : 분위수 범위 지정 구간화\n",
    "구간의 개수를 지정하는 대신 분위수의 범위를 지정하는 일도 가능하다.  \n",
    "\n",
    "다음은 +/- 3, 2, 1  표준 편차를 기준으로 구간을 나눈 예시이다.  \n",
    "이 데이터는 정규 분포를 따르므로 평균을 기준으로 양쪽으로 0.1%, 2.1%, 13.6%, 34.1%에 해당하는 값들이 할당될 것으로 예상할 수 있다. "
   ]
  },
  {
   "cell_type": "code",
   "execution_count": 26,
   "metadata": {},
   "outputs": [],
   "source": [
    "# make the quantiles at the +/- 3, 2 and 1 std deviations\n",
    "quantiles = [0,\n",
    "             0.001, \n",
    "             0.021,\n",
    "             0.5-0.341,\n",
    "             0.5,\n",
    "             0.5+0.341,\n",
    "             1.0-0.021,\n",
    "             1.0-0.001,\n",
    "             1.0]\n",
    "qbin = pd.qcut(dist, quantiles)"
   ]
  },
  {
   "cell_type": "code",
   "execution_count": 27,
   "metadata": {},
   "outputs": [
    {
     "data": {
      "text/plain": [
       "                    counts  freqs\n",
       "categories                       \n",
       "(-3.522, -3.131]        10  0.001\n",
       "(-3.131, -2.056]       200  0.020\n",
       "(-2.056, -1.033]      1380  0.138\n",
       "(-1.033, -0.00363]    3410  0.341\n",
       "(-0.00363, 1.011]     3410  0.341\n",
       "(1.011, 2.043]        1380  0.138\n",
       "(2.043, 3.062]         200  0.020\n",
       "(3.062, 3.698]          10  0.001"
      ]
     },
     "execution_count": 27,
     "metadata": {},
     "output_type": "execute_result"
    }
   ],
   "source": [
    "# this data should be a perfect normal distribution\n",
    "qbin.describe()"
   ]
  },
  {
   "cell_type": "markdown",
   "metadata": {},
   "source": [
    "# `.rank()` : Ranking\n",
    "값 순위 계산\n",
    "\n",
    "순위(ranking)는 두 아이템 중 하나가 다른 아이템보다 순서가 앞인지 또는 뒤인지를 결정하게 해준다. 순위는 복잡한 기준을 쉽게 평가할 수 있게 측정치를 일련의 순서 번호로 바꿔준다.  "
   ]
  },
  {
   "cell_type": "code",
   "execution_count": 28,
   "metadata": {},
   "outputs": [
    {
     "data": {
      "text/plain": [
       "a   -0.204708\n",
       "b    0.478943\n",
       "c   -0.519439\n",
       "d   -0.555730\n",
       "e    1.965781\n",
       "dtype: float64"
      ]
     },
     "execution_count": 28,
     "metadata": {},
     "output_type": "execute_result"
    }
   ],
   "source": [
    "# random data\n",
    "np.random.seed(12345)\n",
    "s = pd.Series(np.random.randn(5), index=list('abcde'))\n",
    "s"
   ]
  },
  {
   "cell_type": "markdown",
   "metadata": {},
   "source": [
    "이런 `Series`가 있을 때, 작은 값부터 큰값 순으로 순위를 매겨 보여준다. 각 인덱스의 값이 몇 등인지를 보여주게 된다.  \n",
    "**기본 옵션은 가장 작은 값이 1등**이 된다.  \n",
    "`.rank()`에는 사용할 수 있는 다양한 옵션이 있다. "
   ]
  },
  {
   "cell_type": "code",
   "execution_count": 29,
   "metadata": {},
   "outputs": [
    {
     "data": {
      "text/plain": [
       "a    3.0\n",
       "b    4.0\n",
       "c    2.0\n",
       "d    1.0\n",
       "e    5.0\n",
       "dtype: float64"
      ]
     },
     "execution_count": 29,
     "metadata": {},
     "output_type": "execute_result"
    }
   ],
   "source": [
    "# rank the values\n",
    "s.rank()"
   ]
  },
  {
   "cell_type": "code",
   "execution_count": 30,
   "metadata": {},
   "outputs": [
    {
     "data": {
      "text/plain": [
       "a    3.0\n",
       "b    2.0\n",
       "c    4.0\n",
       "d    5.0\n",
       "e    1.0\n",
       "dtype: float64"
      ]
     },
     "execution_count": 30,
     "metadata": {},
     "output_type": "execute_result"
    }
   ],
   "source": [
    "s.rank(ascending = False)"
   ]
  },
  {
   "cell_type": "markdown",
   "metadata": {},
   "source": [
    "# `.pct_change()`: Percent change\n",
    "---\n",
    "각 표본의 변동률 계산\n",
    "\n",
    "주어진 기간의 백분율 변화량은 `.pct_change()`메서드로 계산할 수 있다.  \n",
    "백분율 변화량의 대표적인 예로 주가 변동률이 있다. 바로 이전 데이터와 비교했을 때의 증감률을 볼 수 있다. "
   ]
  },
  {
   "cell_type": "code",
   "execution_count": 31,
   "metadata": {},
   "outputs": [
    {
     "data": {
      "text/plain": [
       "        MSFT\n",
       "0        NaN\n",
       "1  -0.003291\n",
       "2  -0.007842\n",
       "3   0.015807\n",
       "4  -0.008600\n",
       "..       ...\n",
       "17 -0.006398\n",
       "18 -0.005401\n",
       "19 -0.008981\n",
       "20 -0.009062\n",
       "21 -0.012123\n",
       "\n",
       "[22 rows x 1 columns]"
      ]
     },
     "execution_count": 31,
     "metadata": {},
     "output_type": "execute_result"
    }
   ],
   "source": [
    "# calculate % change on MSFT\n",
    "omh[['MSFT']].pct_change()"
   ]
  },
  {
   "cell_type": "markdown",
   "metadata": {},
   "source": [
    "# `.rolling(window = n)`: Moving window operations\n",
    "---\n",
    "롤링 윈도우 작업\n",
    "\n",
    "pandas는 이동(moving 또는 rolling) 통계량을 계산하는 여러 함수를 제공한다.  \n",
    "롤링 윈도우는 주어진 데이터 구간에서의 특정 통계량을 계산한다.  \n",
    "그다음엔 윈도우가 데이터를 따라 지정한 간격으로 움직이며 다시 계산을 수행한다. 이는 윈도우가 데이터 셋 전체를 이동할 때까지 계속된다.  \n",
    "\n",
    "이를 시험하기 위해 다음과 같이 1,000개의 난수를 만들어, 누적합을 해 랜덤워크(random walk)가 형성되는 `Series`하나를 만든다. \n",
    "처음 100개를 시각화 해보면, 데이터의 이동선을 볼 수 있다. "
   ]
  },
  {
   "cell_type": "code",
   "execution_count": 32,
   "metadata": {},
   "outputs": [
    {
     "data": {
      "text/plain": [
       "0    0.469112\n",
       "1    0.186249\n",
       "2   -1.322810\n",
       "3   -2.458442\n",
       "4   -1.246330\n",
       "dtype: float64"
      ]
     },
     "execution_count": 32,
     "metadata": {},
     "output_type": "execute_result"
    }
   ],
   "source": [
    "# create a random walk\n",
    "np.random.seed(123456)\n",
    "s = pd.Series(np.random.randn(1000)).cumsum()\n",
    "s[:5]"
   ]
  },
  {
   "cell_type": "code",
   "execution_count": 33,
   "metadata": {},
   "outputs": [
    {
     "data": {
      "image/png": "[encoded data removed]",
      "text/plain": [
       "<Figure size 432x288 with 1 Axes>"
      ]
     },
     "metadata": {
      "needs_background": "light"
     },
     "output_type": "display_data"
    }
   ],
   "source": [
    "s[0:100].plot();"
   ]
  },
  {
   "cell_type": "markdown",
   "metadata": {},
   "source": [
    "롤링 윈도우를 만들기 위해 `.rolling()` 메서드에 윈도우 크기를 적어 `Rolling` 객체 하나를 생성한다.  \n",
    "\n",
    "이 롤링 객체는 윈도우의 크기는 지정하지만 이 자체로 계산을 수행하지는 않는다.  \n",
    "롤링 객체가 제공하는 다양한 메서드를 활용하면 된다. "
   ]
  },
  {
   "cell_type": "code",
   "execution_count": 34,
   "metadata": {},
   "outputs": [
    {
     "data": {
      "text/plain": [
       "Rolling [window=3,center=False,axis=0,method=single]"
      ]
     },
     "execution_count": 34,
     "metadata": {},
     "output_type": "execute_result"
    }
   ],
   "source": [
    "# calculate rolling window of three days\n",
    "r = s.rolling(window = 3)\n",
    "r"
   ]
  },
  {
   "cell_type": "markdown",
   "metadata": {},
   "source": [
    "`.mean()`으로 이동 평균을 계산한 예시이다.  \n",
    "윈도우 크기가 3이므로, 인덱스 레이블 2에 가장 처음의 평균값이 나타난다.  \n",
    "실제 데이터에서 처음 3개의 값으로 평균을 내서 검증할 수 있다. "
   ]
  },
  {
   "cell_type": "code",
   "execution_count": 35,
   "metadata": {},
   "outputs": [
    {
     "data": {
      "text/plain": [
       "0         NaN\n",
       "1         NaN\n",
       "2   -0.222483\n",
       "3   -1.198334\n",
       "4   -1.675860\n",
       "5   -1.708105\n",
       "6   -1.322070\n",
       "dtype: float64"
      ]
     },
     "execution_count": 35,
     "metadata": {},
     "output_type": "execute_result"
    }
   ],
   "source": [
    "# the rolling mean at three days\n",
    "s_means = r.mean()\n",
    "s_means[:7]"
   ]
  },
  {
   "cell_type": "code",
   "execution_count": 36,
   "metadata": {},
   "outputs": [
    {
     "data": {
      "text/plain": [
       "-0.22248276403642672"
      ]
     },
     "execution_count": 36,
     "metadata": {},
     "output_type": "execute_result"
    }
   ],
   "source": [
    "# check the mean of the first 3 numbers\n",
    "s[0:3].mean()"
   ]
  },
  {
   "cell_type": "code",
   "execution_count": 37,
   "metadata": {},
   "outputs": [
    {
     "data": {
      "text/plain": [
       "-1.1983341702095498"
      ]
     },
     "execution_count": 37,
     "metadata": {},
     "output_type": "execute_result"
    }
   ],
   "source": [
    "# check the mean of 1 through 3\n",
    "s[1:4].mean()"
   ]
  },
  {
   "cell_type": "markdown",
   "metadata": {},
   "source": [
    "처음 100개의 이동 평균을 plotting 한 결과는 다음과 같다.  \n",
    "**rolling mean을 통해 이전의 플롯에 비해 데이터가 매끄럽게(평활화, smoothing) 됐음**을 알 수 있다.  "
   ]
  },
  {
   "cell_type": "code",
   "execution_count": 38,
   "metadata": {},
   "outputs": [
    {
     "data": {
      "image/png": "[encoded data removed]",
      "text/plain": [
       "<Figure size 432x288 with 1 Axes>"
      ]
     },
     "metadata": {
      "needs_background": "light"
     },
     "output_type": "display_data"
    }
   ],
   "source": [
    "# plot the 3 day rolling mean\n",
    "s_means[0:100].plot();"
   ]
  },
  {
   "cell_type": "markdown",
   "metadata": {},
   "source": [
    "# `.sample()`: Random sampling\n",
    "---\n",
    "무작위 표집(random sampling)\n",
    "\n",
    "랜덤 샘플링이란 무작위의 위치에 있는 표본으로부터 값을 선택하는 과정을 말한다.  \n",
    "\n",
    "    pandas 버전 0.19.2부터 시리즈와 데이터 프레임에 무작위 표집 기능이 추가됐으며, 그 전까지는 직접 코딩이 필요했었다. \n",
    "\n",
    "난수로 이루어진 50개의 로우와 4개의 칼럼 DataFrame을 만든다.  \n",
    "\n",
    "무작위 표본을 얻으려면 `.sample()` 메서드에 표본의 개수를 전달하면 된다. "
   ]
  },
  {
   "cell_type": "code",
   "execution_count": 39,
   "metadata": {},
   "outputs": [
    {
     "data": {
      "text/plain": [
       "          0         1         2         3\n",
       "0  0.469112 -0.282863 -1.509059 -1.135632\n",
       "1  1.212112 -0.173215  0.119209 -1.044236\n",
       "2 -0.861849 -2.104569 -0.494929  1.071804\n",
       "3  0.721555 -0.706771 -1.039575  0.271860\n",
       "4 -0.424972  0.567020  0.276232 -1.087401"
      ]
     },
     "execution_count": 39,
     "metadata": {},
     "output_type": "execute_result"
    }
   ],
   "source": [
    "# create a random sample of four columns of 50 items\n",
    "np.random.seed(123456)\n",
    "df = pd.DataFrame(np.random.randn(50, 4))\n",
    "df[:5]"
   ]
  },
  {
   "cell_type": "code",
   "execution_count": 40,
   "metadata": {},
   "outputs": [
    {
     "data": {
      "text/plain": [
       "           0         1         2         3\n",
       "15 -0.076467 -1.187678  1.130127 -1.436737\n",
       "28 -2.182937  0.380396  0.084844  0.432390\n",
       "48 -0.693921  1.613616  0.464000  0.227371"
      ]
     },
     "execution_count": 40,
     "metadata": {},
     "output_type": "execute_result"
    }
   ],
   "source": [
    "# sample three random rows (n=3)으로 적어도 무방하다. \n",
    "df.sample(3)"
   ]
  },
  {
   "cell_type": "markdown",
   "metadata": {},
   "source": [
    "개수 대신 무작위 표집을 할 비율을 지정하는 방법도 있다.  \n",
    "`frac = `으로 몇 퍼센트를 표집할지 정할 수 있다.  "
   ]
  },
  {
   "cell_type": "code",
   "execution_count": 41,
   "metadata": {},
   "outputs": [
    {
     "data": {
      "text/plain": [
       "           0         1         2         3\n",
       "37  1.126203 -0.977349  1.474071 -0.064034\n",
       "10 -1.294524  0.413738  0.276662 -0.472035\n",
       "4  -0.424972  0.567020  0.276232 -1.087401\n",
       "14  0.410835  0.813850  0.132003 -0.827317\n",
       "48 -0.693921  1.613616  0.464000  0.227371"
      ]
     },
     "execution_count": 41,
     "metadata": {},
     "output_type": "execute_result"
    }
   ],
   "source": [
    "# sample 10% of the rows\n",
    "df.sample(frac=0.1)"
   ]
  },
  {
   "cell_type": "markdown",
   "metadata": {},
   "source": [
    "pandas에서의 표집은 기본적으로 비복원(without replacement) 추출, 즉 선택된 표본은 다시 선택하지 않는 방식이다.  \n",
    "\n",
    "이를 복원(with replacement) 추출로 바꾸려 한다면, `replace = True` 파라미터를 사용하면 된다.  "
   ]
  },
  {
   "cell_type": "code",
   "execution_count": 42,
   "metadata": {},
   "outputs": [
    {
     "data": {
      "text/plain": [
       "           0         1         2         3\n",
       "27 -1.236269  0.896171 -0.487602 -0.082240\n",
       "9   0.357021 -0.674600 -1.776904 -0.968914\n",
       "27 -1.236269  0.896171 -0.487602 -0.082240\n",
       "15 -0.076467 -1.187678  1.130127 -1.436737\n",
       "9   0.357021 -0.674600 -1.776904 -0.968914"
      ]
     },
     "execution_count": 42,
     "metadata": {},
     "output_type": "execute_result"
    }
   ],
   "source": [
    "# 10% with replacement\n",
    "df.sample(frac=0.1, replace=True)"
   ]
  }
 ],
 "metadata": {
  "anaconda-cloud": {},
  "kernelspec": {
   "display_name": "Python 3 (ipykernel)",
   "language": "python",
   "name": "python3"
  },
  "language_info": {
   "codemirror_mode": {
    "name": "ipython",
    "version": 3
   },
   "file_extension": ".py",
   "mimetype": "text/x-python",
   "name": "python",
   "nbconvert_exporter": "python",
   "pygments_lexer": "ipython3",
   "version": "3.8.5"
  },
  "latex_envs": {
   "LaTeX_envs_menu_present": true,
   "autoclose": true,
   "autocomplete": true,
   "bibliofile": "biblio.bib",
   "cite_by": "apalike",
   "current_citInitial": 1,
   "eqLabelWithNumbers": true,
   "eqNumInitial": 1,
   "hotkeys": {
    "equation": "Ctrl-E",
    "itemize": "Ctrl-I"
   },
   "labels_anchors": false,
   "latex_user_defs": false,
   "report_style_numbering": false,
   "user_envs_cfg": false
  },
  "toc": {
   "base_numbering": 1,
   "nav_menu": {},
   "number_sections": true,
   "sideBar": true,
   "skip_h1_title": false,
   "title_cell": "Table of Contents",
   "title_sidebar": "Contents",
   "toc_cell": true,
   "toc_position": {},
   "toc_section_display": true,
   "toc_window_display": true
  }
 },
 "nbformat": 4,
 "nbformat_minor": 1
}

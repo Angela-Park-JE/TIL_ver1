{
 "cells": [
  {
   "cell_type": "markdown",
   "metadata": {
    "toc": true
   },
   "source": [
    "<h1>Table of Contents<span class=\"tocSkip\"></span></h1>\n",
    "<div class=\"toc\"><ul class=\"toc-item\"><li><span><a href=\"#Configuring-pandas\" data-toc-modified-id=\"Configuring-pandas-1\"><span class=\"toc-item-num\">1&nbsp;&nbsp;</span>Configuring pandas</a></span></li><li><span><a href=\"#The-pandas-Series\" data-toc-modified-id=\"The-pandas-Series-2\"><span class=\"toc-item-num\">2&nbsp;&nbsp;</span>The pandas Series</a></span><ul class=\"toc-item\"><li><ul class=\"toc-item\"><li><span><a href=\"#인덱스-지정\" data-toc-modified-id=\"인덱스-지정-2.0.1\"><span class=\"toc-item-num\">2.0.1&nbsp;&nbsp;</span>인덱스 지정</a></span></li><li><span><a href=\"#인덱스-확인\" data-toc-modified-id=\"인덱스-확인-2.0.2\"><span class=\"toc-item-num\">2.0.2&nbsp;&nbsp;</span>인덱스 확인</a></span></li><li><span><a href=\"#날짜-범위-만들고-Series-만들기\" data-toc-modified-id=\"날짜-범위-만들고-Series-만들기-2.0.3\"><span class=\"toc-item-num\">2.0.3&nbsp;&nbsp;</span>날짜 범위 만들고 Series 만들기</a></span></li><li><span><a href=\"#Series-간의-연산\" data-toc-modified-id=\"Series-간의-연산-2.0.4\"><span class=\"toc-item-num\">2.0.4&nbsp;&nbsp;</span>Series 간의 연산</a></span></li></ul></li></ul></li><li><span><a href=\"#The-pandas-DataFrame\" data-toc-modified-id=\"The-pandas-DataFrame-3\"><span class=\"toc-item-num\">3&nbsp;&nbsp;</span>The pandas DataFrame</a></span><ul class=\"toc-item\"><li><ul class=\"toc-item\"><li><span><a href=\"#데이터프레임-연산\" data-toc-modified-id=\"데이터프레임-연산-3.0.1\"><span class=\"toc-item-num\">3.0.1&nbsp;&nbsp;</span>데이터프레임 연산</a></span></li><li><span><a href=\"#데이터프레임에-새-칼럼-추가\" data-toc-modified-id=\"데이터프레임에-새-칼럼-추가-3.0.2\"><span class=\"toc-item-num\">3.0.2&nbsp;&nbsp;</span>데이터프레임에 새 칼럼 추가</a></span></li><li><span><a href=\"#.columns:-모든-칼럼명-보기\" data-toc-modified-id=\".columns:-모든-칼럼명-보기-3.0.3\"><span class=\"toc-item-num\">3.0.3&nbsp;&nbsp;</span><code>.columns</code>: 모든 칼럼명 보기</a></span></li><li><span><a href=\"#특정-로우-확인하기\" data-toc-modified-id=\"특정-로우-확인하기-3.0.4\"><span class=\"toc-item-num\">3.0.4&nbsp;&nbsp;</span>특정 로우 확인하기</a></span></li><li><span><a href=\"#.iloc-와-.loc\" data-toc-modified-id=\".iloc-와-.loc-3.0.5\"><span class=\"toc-item-num\">3.0.5&nbsp;&nbsp;</span><code>.iloc</code> 와 <code>.loc</code></a></span><ul class=\"toc-item\"><li><span><a href=\"#.iloc\" data-toc-modified-id=\".iloc-3.0.5.1\"><span class=\"toc-item-num\">3.0.5.1&nbsp;&nbsp;</span><code>.iloc</code></a></span></li><li><span><a href=\"#.loc\" data-toc-modified-id=\".loc-3.0.5.2\"><span class=\"toc-item-num\">3.0.5.2&nbsp;&nbsp;</span><code>.loc</code></a></span></li><li><span><a href=\"#.iloc를-활용하여-정수-목록으로-특정-로우-가져오기\" data-toc-modified-id=\".iloc를-활용하여-정수-목록으로-특정-로우-가져오기-3.0.5.3\"><span class=\"toc-item-num\">3.0.5.3&nbsp;&nbsp;</span><code>.iloc</code>를 활용하여 정수 목록으로 특정 로우 가져오기</a></span></li></ul></li><li><span><a href=\"#bool-타입을-이용한-검색\" data-toc-modified-id=\"bool-타입을-이용한-검색-3.0.6\"><span class=\"toc-item-num\">3.0.6&nbsp;&nbsp;</span>bool 타입을 이용한 검색</a></span></li></ul></li></ul></li><li><span><a href=\"#Loading-data-from-a-CSV-file-into-a-DataFrame\" data-toc-modified-id=\"Loading-data-from-a-CSV-file-into-a-DataFrame-4\"><span class=\"toc-item-num\">4&nbsp;&nbsp;</span>Loading data from a CSV file into a DataFrame</a></span><ul class=\"toc-item\"><li><ul class=\"toc-item\"><li><span><a href=\"#pd.read_csv()-함수를-사용해-DataFrame으로-import-하기\" data-toc-modified-id=\"pd.read_csv()-함수를-사용해-DataFrame으로-import-하기-4.0.1\"><span class=\"toc-item-num\">4.0.1&nbsp;&nbsp;</span>pd.read_csv() 함수를 사용해 DataFrame으로 import 하기</a></span></li><li><span><a href=\"#pd.read_csv(parse_date-=-)\" data-toc-modified-id=\"pd.read_csv(parse_date-=-)-4.0.2\"><span class=\"toc-item-num\">4.0.2&nbsp;&nbsp;</span>pd.read_csv(parse_date = )</a></span></li><li><span><a href=\"#pd.read_csv(index_col-=-)\" data-toc-modified-id=\"pd.read_csv(index_col-=-)-4.0.3\"><span class=\"toc-item-num\">4.0.3&nbsp;&nbsp;</span>pd.read_csv(index_col = )</a></span></li></ul></li></ul></li><li><span><a href=\"#Visualization\" data-toc-modified-id=\"Visualization-5\"><span class=\"toc-item-num\">5&nbsp;&nbsp;</span>Visualization</a></span></li></ul></div>"
   ]
  },
  {
   "cell_type": "markdown",
   "metadata": {},
   "source": [
    "# Configuring pandas"
   ]
  },
  {
   "cell_type": "code",
   "execution_count": 1,
   "metadata": {},
   "outputs": [],
   "source": [
    "# import numpy and pandas\n",
    "import numpy as np\n",
    "import pandas as pd\n",
    "\n",
    "# used for dates(time seriese data)\n",
    "import datetime\n",
    "from datetime import datetime, date\n",
    "\n",
    "# Set some pandas options controlling output format\n",
    "pd.set_option('display.notebook_repr_html', False)  # print in text, not HTML\n",
    "pd.set_option('display.max_columns', 8)\n",
    "pd.set_option('display.max_rows', 10)\n",
    "pd.set_option('display.width', 80)\n",
    "\n",
    "# bring in matplotlib for graphics\n",
    "import matplotlib.pyplot as plt\n",
    "%matplotlib inline"
   ]
  },
  {
   "cell_type": "markdown",
   "metadata": {},
   "source": [
    "# The pandas Series"
   ]
  },
  {
   "cell_type": "code",
   "execution_count": 2,
   "metadata": {},
   "outputs": [
    {
     "data": {
      "text/plain": [
       "0    1\n",
       "1    2\n",
       "2    3\n",
       "3    4\n",
       "dtype: int64"
      ]
     },
     "execution_count": 2,
     "metadata": {},
     "output_type": "execute_result"
    }
   ],
   "source": [
    "# create a four item Series\n",
    "s = pd.Series([1, 2, 3, 4])\n",
    "s"
   ]
  },
  {
   "cell_type": "markdown",
   "metadata": {},
   "source": [
    "출력 결과 두개의 칼럼에서 첫 번째는 인덱스, 두 번째는 Series안의 데이터.  \n",
    "각 로우는 인덱스 레이블과 그에 연결된 값을 차례로 보여준다.  \n",
    "인덱스를 따로 지정하지 않았으므로 pandas가 각 데이터 아이템을 위해 0부터 시작해 1씩 증가하는 정수형 인덱스를 자동으로 만든 것이다.  \n",
    "0부터 시작한다 하여 제로베이스 방법이라고 한다.  \n",
    "\n",
    "또한 사용자 지정 인덱스는 반드시 0부터 시작하지 않아도 되며, 1씩 증가하지 않아도 된다.  \n",
    "정수가 아닌 다른 데이터 타입도 사용할 수 있으며, 이런 유연한 인덱스 방식이 pandas의 막강한 능력중 하나."
   ]
  },
  {
   "cell_type": "code",
   "execution_count": 3,
   "metadata": {},
   "outputs": [
    {
     "data": {
      "text/plain": [
       "2"
      ]
     },
     "execution_count": 3,
     "metadata": {},
     "output_type": "execute_result"
    }
   ],
   "source": [
    "# get value at label 1\n",
    "s[1]"
   ]
  },
  {
   "cell_type": "markdown",
   "metadata": {},
   "source": [
    "아래처럼 여러 레이블을 지정해 복수의 아이템을 가져올 수 있다."
   ]
  },
  {
   "cell_type": "code",
   "execution_count": 4,
   "metadata": {},
   "outputs": [
    {
     "data": {
      "text/plain": [
       "1    2\n",
       "3    4\n",
       "dtype: int64"
      ]
     },
     "execution_count": 4,
     "metadata": {},
     "output_type": "execute_result"
    }
   ],
   "source": [
    "# return a Series with the row with labels 1 and 3\n",
    "s[[1, 3]]"
   ]
  },
  {
   "cell_type": "markdown",
   "metadata": {},
   "source": [
    "### 인덱스 지정\n",
    "index 파라미터를 사용해 인덱스 레이블을 지정함으로써, 사용자 정의 인덱스를 만들 수 있다. "
   ]
  },
  {
   "cell_type": "code",
   "execution_count": 5,
   "metadata": {},
   "outputs": [
    {
     "data": {
      "text/plain": [
       "a    1\n",
       "b    2\n",
       "c    3\n",
       "d    4\n",
       "dtype: int64"
      ]
     },
     "execution_count": 5,
     "metadata": {},
     "output_type": "execute_result"
    }
   ],
   "source": [
    "# create a series using an explicit index\n",
    "s = pd.Series([1, 2, 3, 4], \n",
    "             index = ['a', 'b', 'c', 'd'])\n",
    "s"
   ]
  },
  {
   "cell_type": "markdown",
   "metadata": {},
   "source": [
    "영숫자 인덱스 레이블로 객체 접근."
   ]
  },
  {
   "cell_type": "code",
   "execution_count": 6,
   "metadata": {},
   "outputs": [
    {
     "data": {
      "text/plain": [
       "a    1\n",
       "d    4\n",
       "dtype: int64"
      ]
     },
     "execution_count": 6,
     "metadata": {},
     "output_type": "execute_result"
    }
   ],
   "source": [
    "# look up items the series having index 'a' and 'd'\n",
    "s[['a', 'd']]"
   ]
  },
  {
   "cell_type": "markdown",
   "metadata": {},
   "source": [
    "그러나 미지정시 주어졌던 방식의 정수를 이용하는 방법(제로베이스)도 여전히 가능하다.  "
   ]
  },
  {
   "cell_type": "code",
   "execution_count": 7,
   "metadata": {},
   "outputs": [
    {
     "data": {
      "text/plain": [
       "b    2\n",
       "c    3\n",
       "dtype: int64"
      ]
     },
     "execution_count": 7,
     "metadata": {},
     "output_type": "execute_result"
    }
   ],
   "source": [
    "# passing a list of integers to a Series that has\n",
    "# non-integer index labels will look up based upon\n",
    "# 0-based index like an array\n",
    "s[[1, 2]]"
   ]
  },
  {
   "cell_type": "markdown",
   "metadata": {},
   "source": [
    "### 인덱스 확인"
   ]
  },
  {
   "cell_type": "code",
   "execution_count": 8,
   "metadata": {},
   "outputs": [
    {
     "data": {
      "text/plain": [
       "Index(['a', 'b', 'c', 'd'], dtype='object')"
      ]
     },
     "execution_count": 8,
     "metadata": {},
     "output_type": "execute_result"
    }
   ],
   "source": [
    "# get only the index of the Series\n",
    "s.index"
   ]
  },
  {
   "cell_type": "markdown",
   "metadata": {},
   "source": [
    "인덱스 자체도 하나의 pandas 객체이다. 따라서 인덱스의 값과 데이터 유형을 볼 수 있다.  \n",
    "여기서는 인덱스의 데이터 유형이 문자열이 아니라, `dtype`으로 참조되는 객체라는 사실에 주목하기 바란다.  "
   ]
  },
  {
   "cell_type": "markdown",
   "metadata": {},
   "source": [
    "### 날짜 범위 만들고 Series 만들기\n",
    "\n",
    "`pd.date_range()` 함수를 사용하면 날짜 범위를 만들 수 있다."
   ]
  },
  {
   "cell_type": "code",
   "execution_count": 9,
   "metadata": {},
   "outputs": [
    {
     "data": {
      "text/plain": [
       "DatetimeIndex(['2016-04-01', '2016-04-02', '2016-04-03', '2016-04-04',\n",
       "               '2016-04-05', '2016-04-06'],\n",
       "              dtype='datetime64[ns]', freq='D')"
      ]
     },
     "execution_count": 9,
     "metadata": {},
     "output_type": "execute_result"
    }
   ],
   "source": [
    "# create a Series who's index is a series of dates\n",
    "# between the two specified dates (inclusive)\n",
    "dates = pd.date_range('2016-04-01', '2016-04-06')\n",
    "dates"
   ]
  },
  {
   "cell_type": "markdown",
   "metadata": {},
   "source": [
    "만든 날짜 범위를 index로 갖는 시리즈를 만든다.  \n",
    "데이터는 일별 최고 기온이다."
   ]
  },
  {
   "cell_type": "code",
   "execution_count": 10,
   "metadata": {},
   "outputs": [
    {
     "data": {
      "text/plain": [
       "2016-04-01    80\n",
       "2016-04-02    82\n",
       "2016-04-03    85\n",
       "2016-04-04    90\n",
       "2016-04-05    83\n",
       "2016-04-06    87\n",
       "Freq: D, dtype: int64"
      ]
     },
     "execution_count": 10,
     "metadata": {},
     "output_type": "execute_result"
    }
   ],
   "source": [
    "# create a Series with values (representing temperatures)\n",
    "# for each date in the index\n",
    "temps1 = pd.Series([80, 82, 85, 90, 83, 87], \n",
    "                   index = dates)\n",
    "temps1"
   ]
  },
  {
   "cell_type": "markdown",
   "metadata": {},
   "source": [
    "이렇게 DatetimeIndex를 갖는 유형의 시리즈를 시계열이라고 한다."
   ]
  },
  {
   "cell_type": "code",
   "execution_count": 11,
   "metadata": {},
   "outputs": [
    {
     "data": {
      "text/plain": [
       "90"
      ]
     },
     "execution_count": 11,
     "metadata": {},
     "output_type": "execute_result"
    }
   ],
   "source": [
    "# what's the temperation for 2016-4-4?\n",
    "temps1['2016-04-04']"
   ]
  },
  {
   "cell_type": "markdown",
   "metadata": {},
   "source": [
    "### Series 간의 연산\n",
    "두 개의 시리즈 객체에 산술 연산을 적용할 수 있다.  \n",
    "스칼라가 아닌(non-scalar) 값을 갖는 두 Series 객체에 대한 산술 연산`(+, -, /, *, ...)`은 그 결과로 또 하나의 Series 객체를 반환한다.  \n",
    "\n",
    "다른 기온 데이터를 만들어 두 객체의 기온 차이를 구한 것이다.  "
   ]
  },
  {
   "cell_type": "code",
   "execution_count": 12,
   "metadata": {},
   "outputs": [
    {
     "data": {
      "text/plain": [
       "2016-04-01    10\n",
       "2016-04-02     7\n",
       "2016-04-03    16\n",
       "2016-04-04     7\n",
       "2016-04-05     4\n",
       "2016-04-06    10\n",
       "Freq: D, dtype: int64"
      ]
     },
     "execution_count": 12,
     "metadata": {},
     "output_type": "execute_result"
    }
   ],
   "source": [
    "# create a second series of values using the same index\n",
    "temps2 = pd.Series([70, 75, 69, 83, 79, 77], \n",
    "                   index = dates)\n",
    "\n",
    "# the following aligns the two by their index values\n",
    "# and calculates the difference at those matching labels\n",
    "temp_diffs = temps1 - temps2\n",
    "temp_diffs"
   ]
  },
  {
   "cell_type": "markdown",
   "metadata": {},
   "source": [
    "마찬가지로 제로베이스 방법으로 값을 찾을 수 있다."
   ]
  },
  {
   "cell_type": "code",
   "execution_count": 13,
   "metadata": {},
   "outputs": [
    {
     "data": {
      "text/plain": [
       "16"
      ]
     },
     "execution_count": 13,
     "metadata": {},
     "output_type": "execute_result"
    }
   ],
   "source": [
    "# and also possible by integer position as if the \n",
    "# series was an array\n",
    "temp_diffs[2]"
   ]
  },
  {
   "cell_type": "markdown",
   "metadata": {},
   "source": [
    "pandas는 다양한 기술 통계 method를 제공한다.  \n",
    "다음은 기온 차의 평균을 낸 것이다."
   ]
  },
  {
   "cell_type": "code",
   "execution_count": 14,
   "metadata": {},
   "outputs": [
    {
     "data": {
      "text/plain": [
       "9.0"
      ]
     },
     "execution_count": 14,
     "metadata": {},
     "output_type": "execute_result"
    }
   ],
   "source": [
    "# calculate the mean of the values in the Series\n",
    "temp_diffs.mean()"
   ]
  },
  {
   "cell_type": "markdown",
   "metadata": {
    "collapsed": true
   },
   "source": [
    "# The pandas DataFrame\n",
    "\n",
    "pandas의 Series는 각 인덱스 레이블 당 하나의 값만 가질 수 있다. 그러나 데이터 프레임을 사용하면 인덱스 레이블당 복수의 값을 가질 수 있다.  \n",
    "데이터 프레임은 인덱스 레이블을 기준으로 배열된 하나 이상의 Series를 나타낸다. 각 Series는 데이터 프레임의 칼럼이며, 각 칼럼은 자신만의 이름을 갖는다.  \n",
    "\n",
    "서로 다른 유형의 데이터 칼럼을 하나 이상 갖는다는 점(그러나 한 칼럼의 모든 데이터는 동일한 유형이라는 점)에서 보면 데이터 프레임은 관계형 DB 테이블과 유사하다.  \n",
    "\n",
    "\n",
    "다음은 두 개의 칼럼을 갖는 DataFrame 객체를 만드는 방법이다. 각 칼럼은 기온을 나타내는 이전의 Series 객체이다.  "
   ]
  },
  {
   "cell_type": "code",
   "execution_count": 15,
   "metadata": {},
   "outputs": [
    {
     "data": {
      "text/plain": [
       "            Missoula  Philadelphia\n",
       "2016-04-01        80            70\n",
       "2016-04-02        82            75\n",
       "2016-04-03        85            69\n",
       "2016-04-04        90            83\n",
       "2016-04-05        83            79\n",
       "2016-04-06        87            77"
      ]
     },
     "execution_count": 15,
     "metadata": {},
     "output_type": "execute_result"
    }
   ],
   "source": [
    "# create a DataFrame from the two series objects temp1 and temp2\n",
    "# and give them column names, 키-밸류 형태로.\n",
    "temps_df = pd.DataFrame(\n",
    "            {'Missoula': temps1, \n",
    "             'Philadelphia': temps2})\n",
    "temps_df"
   ]
  },
  {
   "cell_type": "markdown",
   "metadata": {},
   "source": [
    "결과는 각각 두 이름을 갖는 칼럼이 있다. 이들 칼럼은 데이터 프레임 안에서의 새로운 Series 객체이며, 이전 객체로부터 복제된 값을 가진 것.  \n",
    "\n",
    "하나의 칼럼명이나 칼럼명들의 목록을 `[]` 연산자에 사용하면 원하는 DataFrame객체의 칼럼에 접근할 수 있다. "
   ]
  },
  {
   "cell_type": "code",
   "execution_count": 16,
   "metadata": {},
   "outputs": [
    {
     "data": {
      "text/plain": [
       "2016-04-01    80\n",
       "2016-04-02    82\n",
       "2016-04-03    85\n",
       "2016-04-04    90\n",
       "2016-04-05    83\n",
       "2016-04-06    87\n",
       "Freq: D, Name: Missoula, dtype: int64"
      ]
     },
     "execution_count": 16,
     "metadata": {},
     "output_type": "execute_result"
    }
   ],
   "source": [
    "# get the column with the name Missoula\n",
    "temps_df['Missoula']"
   ]
  },
  {
   "cell_type": "code",
   "execution_count": 17,
   "metadata": {},
   "outputs": [
    {
     "data": {
      "text/plain": [
       "2016-04-01    70\n",
       "2016-04-02    75\n",
       "2016-04-03    69\n",
       "2016-04-04    83\n",
       "2016-04-05    79\n",
       "2016-04-06    77\n",
       "Freq: D, Name: Philadelphia, dtype: int64"
      ]
     },
     "execution_count": 17,
     "metadata": {},
     "output_type": "execute_result"
    }
   ],
   "source": [
    "# likewise we can get just the Philadelphia column\n",
    "temps_df['Philadelphia']"
   ]
  },
  {
   "cell_type": "markdown",
   "metadata": {},
   "source": [
    "복수로 가져올 때에는 여러 칼럼명을 파이썬 리스트로 지정하면 복수의 칼럼을 조회할 수 있다.\n",
    "\n",
    "    DataFrame 객체와 Series 객체 사이에는 차이가 있다.  \n",
    "    DataFrame의 `[]`연산자에 이름 목록을 전달하면 복수의 **칼럼**을 가져오지만,  \n",
    "    Series의 `[]`연산자에 적어 전달하면 복수의 **로우**를 반환한다.  "
   ]
  },
  {
   "cell_type": "code",
   "execution_count": 18,
   "metadata": {},
   "outputs": [
    {
     "data": {
      "text/plain": [
       "            Philadelphia  Missoula\n",
       "2016-04-01            70        80\n",
       "2016-04-02            75        82\n",
       "2016-04-03            69        85\n",
       "2016-04-04            83        90\n",
       "2016-04-05            79        83\n",
       "2016-04-06            77        87"
      ]
     },
     "execution_count": 18,
     "metadata": {},
     "output_type": "execute_result"
    }
   ],
   "source": [
    "# return both columns in a different order\n",
    "temps_df[['Philadelphia', 'Missoula']]"
   ]
  },
  {
   "cell_type": "markdown",
   "metadata": {},
   "source": [
    "칼럼명에 공백문자가 없다면, 다음과 같이 속성의 경우 속성 표기법을 사용하듯이 할 수 있다.  "
   ]
  },
  {
   "cell_type": "code",
   "execution_count": 19,
   "metadata": {},
   "outputs": [
    {
     "data": {
      "text/plain": [
       "2016-04-01    80\n",
       "2016-04-02    82\n",
       "2016-04-03    85\n",
       "2016-04-04    90\n",
       "2016-04-05    83\n",
       "2016-04-06    87\n",
       "Freq: D, Name: Missoula, dtype: int64"
      ]
     },
     "execution_count": 19,
     "metadata": {},
     "output_type": "execute_result"
    }
   ],
   "source": [
    "# retrieve the Missoula column through property syntax\n",
    "temps_df.Missoula"
   ]
  },
  {
   "cell_type": "markdown",
   "metadata": {},
   "source": [
    "### 데이터프레임 연산\n",
    "\n",
    "데이터 프레임 안의 두 칼럼 간의 산술 연산은 Series 의 경우와 같다. 다음은 속성 표기법을 사용해 두 칼럼 사이의 기온 차를 계산하는 코드이다. "
   ]
  },
  {
   "cell_type": "code",
   "execution_count": 20,
   "metadata": {},
   "outputs": [
    {
     "data": {
      "text/plain": [
       "2016-04-01    10\n",
       "2016-04-02     7\n",
       "2016-04-03    16\n",
       "2016-04-04     7\n",
       "2016-04-05     4\n",
       "2016-04-06    10\n",
       "Freq: D, dtype: int64"
      ]
     },
     "execution_count": 20,
     "metadata": {},
     "output_type": "execute_result"
    }
   ],
   "source": [
    "# calculate the temperature difference between the two cities\n",
    "temps_df.Missoula - temps_df.Philadelphia"
   ]
  },
  {
   "cell_type": "markdown",
   "metadata": {},
   "source": [
    "### 데이터프레임에 새 칼럼 추가\n",
    "\n",
    "`[]`를 이용하여 Series 하나를 할당하면 된다."
   ]
  },
  {
   "cell_type": "code",
   "execution_count": 21,
   "metadata": {},
   "outputs": [
    {
     "data": {
      "text/plain": [
       "            Missoula  Philadelphia  Difference\n",
       "2016-04-01        80            70          10\n",
       "2016-04-02        82            75           7\n",
       "2016-04-03        85            69          16\n",
       "2016-04-04        90            83           7\n",
       "2016-04-05        83            79           4\n",
       "2016-04-06        87            77          10"
      ]
     },
     "execution_count": 21,
     "metadata": {},
     "output_type": "execute_result"
    }
   ],
   "source": [
    "# add a column to temp_df which contains the difference in temps\n",
    "temps_df['Difference'] = temp_diffs\n",
    "temps_df"
   ]
  },
  {
   "cell_type": "markdown",
   "metadata": {},
   "source": [
    "### `.columns`: 모든 칼럼명 보기"
   ]
  },
  {
   "cell_type": "code",
   "execution_count": 22,
   "metadata": {},
   "outputs": [
    {
     "data": {
      "text/plain": [
       "Index(['Missoula', 'Philadelphia', 'Difference'], dtype='object')"
      ]
     },
     "execution_count": 22,
     "metadata": {},
     "output_type": "execute_result"
    }
   ],
   "source": [
    "# get the columns, which is also an Index object\n",
    "temps_df.columns"
   ]
  },
  {
   "cell_type": "markdown",
   "metadata": {},
   "source": [
    "### 특정 로우 확인하기\n",
    "\n",
    "특정 로우만 보기 위해 DataFrame이나 Series 객체를 오려내는 일도 가능하다.  "
   ]
  },
  {
   "cell_type": "code",
   "execution_count": 23,
   "metadata": {},
   "outputs": [
    {
     "data": {
      "text/plain": [
       "2016-04-02     7\n",
       "2016-04-03    16\n",
       "2016-04-04     7\n",
       "Freq: D, Name: Difference, dtype: int64"
      ]
     },
     "execution_count": 23,
     "metadata": {},
     "output_type": "execute_result"
    }
   ],
   "source": [
    "# slice the temp differences column for the rows at \n",
    "# location 1 through 4 (as though it is an array)\n",
    "temps_df.Difference[1:4]"
   ]
  },
  {
   "cell_type": "markdown",
   "metadata": {},
   "source": [
    "### `.iloc` 와 `.loc`\n",
    "\n",
    "전체 칼럼에 있어서 특정 로우 데이터를 보고 싶다면 `.iloc` 나 `.loc`속성을 사용하면 된다.  \n",
    "`.loc`은 인덱스 레이블을 사용해 검색하며, `.iloc`은 제로베이스 위치를 사용하여 검색한다.  \n",
    "\n",
    "#### `.iloc`"
   ]
  },
  {
   "cell_type": "code",
   "execution_count": 24,
   "metadata": {},
   "outputs": [
    {
     "data": {
      "text/plain": [
       "Missoula        82\n",
       "Philadelphia    75\n",
       "Difference       7\n",
       "Name: 2016-04-02 00:00:00, dtype: int64"
      ]
     },
     "execution_count": 24,
     "metadata": {},
     "output_type": "execute_result"
    }
   ],
   "source": [
    "# get the row at array position 1\n",
    "temps_df.iloc[1]"
   ]
  },
  {
   "cell_type": "markdown",
   "metadata": {},
   "source": [
    "데이터 프레임의 각 컬럼명이 인덱스 레이블로 피벗pivot(회전)돼, 결과적으로 로우가 하나의 Series 객체로 변환됐다.  \n",
    "다음과 같이 인덱스로 확인해 볼 수 있다.  "
   ]
  },
  {
   "cell_type": "code",
   "execution_count": 25,
   "metadata": {},
   "outputs": [
    {
     "data": {
      "text/plain": [
       "Index(['Missoula', 'Philadelphia', 'Difference'], dtype='object')"
      ]
     },
     "execution_count": 25,
     "metadata": {},
     "output_type": "execute_result"
    }
   ],
   "source": [
    "# the names of the columns have become the index\n",
    "# they have been 'pivoted'\n",
    "temps_df.iloc[1].index"
   ]
  },
  {
   "cell_type": "markdown",
   "metadata": {},
   "source": [
    "#### `.loc` \n",
    "\n",
    "명시적으로 로우에 접근할 수 있다. 인덱스 레이블로 로우를 가져온다.  \n"
   ]
  },
  {
   "cell_type": "code",
   "execution_count": 26,
   "metadata": {},
   "outputs": [
    {
     "data": {
      "text/plain": [
       "Missoula        83\n",
       "Philadelphia    79\n",
       "Difference       4\n",
       "Name: 2016-04-05 00:00:00, dtype: int64"
      ]
     },
     "execution_count": 26,
     "metadata": {},
     "output_type": "execute_result"
    }
   ],
   "source": [
    "# retrieve row by index label using .loc\n",
    "temps_df.loc['2016-04-05']"
   ]
  },
  {
   "cell_type": "markdown",
   "metadata": {},
   "source": [
    "#### `.iloc`를 활용하여 정수 목록으로 특정 로우 가져오기\n",
    "\n",
    "정수로 된 위치 목록을 사용하면 DataFrame객체에서 복수의 특정 로우를 가져올 수 있다.  "
   ]
  },
  {
   "cell_type": "code",
   "execution_count": 27,
   "metadata": {},
   "outputs": [
    {
     "data": {
      "text/plain": [
       "2016-04-02     7\n",
       "2016-04-04     7\n",
       "2016-04-06    10\n",
       "Freq: 2D, Name: Difference, dtype: int64"
      ]
     },
     "execution_count": 27,
     "metadata": {},
     "output_type": "execute_result"
    }
   ],
   "source": [
    "# get the values in the Differences column in tows 1, 3 and 5\n",
    "# using 0-based location\n",
    "temps_df.iloc[[1, 3, 5]].Difference"
   ]
  },
  {
   "cell_type": "markdown",
   "metadata": {},
   "source": [
    "### bool 타입을 이용한 검색\n",
    "\n",
    "각 로우의 데이터에 적용할 수 있는 논리식에 기초해 로우 데이터를 선택할 수도 있다.  \n",
    "특정 컬럼에 조건을 적용하면 boolean 결과가 반환된다."
   ]
  },
  {
   "cell_type": "code",
   "execution_count": 28,
   "metadata": {},
   "outputs": [
    {
     "data": {
      "text/plain": [
       "2016-04-01    False\n",
       "2016-04-02    False\n",
       "2016-04-03     True\n",
       "2016-04-04     True\n",
       "2016-04-05     True\n",
       "2016-04-06     True\n",
       "Freq: D, Name: Missoula, dtype: bool"
      ]
     },
     "execution_count": 28,
     "metadata": {},
     "output_type": "execute_result"
    }
   ],
   "source": [
    "# which values in the Missoula column are > 82?\n",
    "temps_df.Missoula > 82"
   ]
  },
  {
   "cell_type": "markdown",
   "metadata": {},
   "source": [
    "이를 `[]`에 이용하면 논리식의 결과가 True인 로우만 호출된다. "
   ]
  },
  {
   "cell_type": "code",
   "execution_count": 29,
   "metadata": {},
   "outputs": [
    {
     "data": {
      "text/plain": [
       "            Missoula  Philadelphia  Difference\n",
       "2016-04-03        85            69          16\n",
       "2016-04-04        90            83           7\n",
       "2016-04-05        83            79           4\n",
       "2016-04-06        87            77          10"
      ]
     },
     "execution_count": 29,
     "metadata": {},
     "output_type": "execute_result"
    }
   ],
   "source": [
    "# return the rows where the temps for Missoula > 82\n",
    "temps_df[temps_df.Missoula > 82]"
   ]
  },
  {
   "cell_type": "markdown",
   "metadata": {},
   "source": [
    "# Loading data from a CSV file into a DataFrame\n",
    "\n",
    "pandas 라이브러리는 다양한 데이터 소스로부터의 데이터를 pandas 객체로서 쉽게 가져올 수 있는 여러 기능을 제공한다.  \n",
    "여기서는 간단한 예로 csv 포맷의 데이터를 로딩하는 방법을 알아본다.  \n",
    "\n",
    "- 이 예제는 이 책에서 제공하는 data/goog.csv 파일을 사용할 것이며, 파일의 내용은 알파벳 주식회사(Alphabet Inc.)의 시계열 주가 정보다.\n",
    "\n",
    "아래 코드는 주피터노트북이나 아이파이썬으로 파일의 콘텐츠를 그대로 보는 명령이며, 사용하는 운영체제에 따라 명령어가 다르다.\n",
    "\n",
    "`!head` 뒤에 data/goog.csv 만 있어서, 필요한 경우 자신의 디렉토리에 들어가 정확한 위치를 가져오는 것이 필요할 수 있을 것..."
   ]
  },
  {
   "cell_type": "code",
   "execution_count": 30,
   "metadata": {},
   "outputs": [
    {
     "name": "stdout",
     "output_type": "stream",
     "text": [
      "Date,Open,High,Low,Close,Volume\r\n",
      "12/19/2016,790.219971,797.659973,786.27002,794.200012,1225900\r\n",
      "12/20/2016,796.76001,798.650024,793.27002,796.419983,925100\r\n",
      "12/21/2016,795.840027,796.676025,787.099976,794.559998,1208700\r\n",
      "12/22/2016,792.359985,793.320007,788.580017,791.26001,969100\r\n",
      "12/23/2016,790.900024,792.73999,787.280029,789.909973,623400\r\n",
      "12/27/2016,790.679993,797.859985,787.656982,791.549988,789100\r\n",
      "12/28/2016,793.700012,794.22998,783.200012,785.049988,1132700\r\n",
      "12/29/2016,783.330017,785.929993,778.919983,782.789978,742200\r\n",
      "12/30/2016,782.75,782.780029,770.409973,771.820007,1760200\r\n"
     ]
    }
   ],
   "source": [
    "# display the contents of test1.csv\n",
    "# which command to use depends on your OS\n",
    "!head /Users/Angela/Desktop/Personal/Learning-Pandas-Second-Edition-master/data/goog.csv # on non-windows systems\n",
    "#!type data/test1.csv # on windows systems, all lines"
   ]
  },
  {
   "cell_type": "markdown",
   "metadata": {},
   "source": [
    "### pd.read_csv() 함수를 사용해 DataFrame으로 import 하기"
   ]
  },
  {
   "cell_type": "code",
   "execution_count": 31,
   "metadata": {},
   "outputs": [
    {
     "data": {
      "text/plain": [
       "          Date        Open        High         Low       Close   Volume\n",
       "0   12/19/2016  790.219971  797.659973  786.270020  794.200012  1225900\n",
       "1   12/20/2016  796.760010  798.650024  793.270020  796.419983   925100\n",
       "2   12/21/2016  795.840027  796.676025  787.099976  794.559998  1208700\n",
       "3   12/22/2016  792.359985  793.320007  788.580017  791.260010   969100\n",
       "4   12/23/2016  790.900024  792.739990  787.280029  789.909973   623400\n",
       "..         ...         ...         ...         ...         ...      ...\n",
       "56   3/13/2017  844.000000  848.684998  843.250000  845.539978  1149500\n",
       "57   3/14/2017  843.640015  847.239990  840.799988  845.619995   779900\n",
       "58   3/15/2017  847.590027  848.630005  840.770020  847.200012  1379600\n",
       "59   3/16/2017  849.030029  850.849976  846.130005  848.780029   970400\n",
       "60   3/17/2017  851.609985  853.400024  847.109985  852.119995  1712300\n",
       "\n",
       "[61 rows x 6 columns]"
      ]
     },
     "execution_count": 31,
     "metadata": {},
     "output_type": "execute_result"
    }
   ],
   "source": [
    "# read the contents of the file into a DataFrame\n",
    "df = pd.read_csv('/Users/Angela/Desktop/Personal/Learning-Pandas-Second-Edition-master/data/goog.csv')\n",
    "df"
   ]
  },
  {
   "cell_type": "markdown",
   "metadata": {},
   "source": [
    "pandas는 데이터의 첫번째 칼럼이 날짜이고, 그 데이터 유형이 문자열인지 알지 못한다.  \n",
    "\n",
    "따라서 다음과 같은 과정을 통해 Date 칼럼의 유형이 문자열인지 확인할 수 있다.  "
   ]
  },
  {
   "cell_type": "code",
   "execution_count": 32,
   "metadata": {},
   "outputs": [
    {
     "data": {
      "text/plain": [
       "0     12/19/2016\n",
       "1     12/20/2016\n",
       "2     12/21/2016\n",
       "3     12/22/2016\n",
       "4     12/23/2016\n",
       "         ...    \n",
       "56     3/13/2017\n",
       "57     3/14/2017\n",
       "58     3/15/2017\n",
       "59     3/16/2017\n",
       "60     3/17/2017\n",
       "Name: Date, Length: 61, dtype: object"
      ]
     },
     "execution_count": 32,
     "metadata": {},
     "output_type": "execute_result"
    }
   ],
   "source": [
    "# the contents of the date column\n",
    "df.Date"
   ]
  },
  {
   "cell_type": "code",
   "execution_count": 33,
   "metadata": {},
   "outputs": [
    {
     "data": {
      "text/plain": [
       "'12/19/2016'"
      ]
     },
     "execution_count": 33,
     "metadata": {},
     "output_type": "execute_result"
    }
   ],
   "source": [
    "# we can get the first value in the date column\n",
    "df.Date[0]"
   ]
  },
  {
   "cell_type": "code",
   "execution_count": 34,
   "metadata": {},
   "outputs": [
    {
     "data": {
      "text/plain": [
       "str"
      ]
     },
     "execution_count": 34,
     "metadata": {},
     "output_type": "execute_result"
    }
   ],
   "source": [
    "# it is a string\n",
    "type(df.Date[0])"
   ]
  },
  {
   "cell_type": "markdown",
   "metadata": {},
   "source": [
    "### pd.read_csv(parse_date = )\n",
    "\n",
    "`pd.read_csv()` 함수의 `parse_date` 파라미터를 사용하면 데이터를 pandas의 날짜 객체로 직접 변환하게 할 수 있다.  \n",
    "다음은 Date 칼럼을 TimeStamp객체로 변환하는 방법이다. "
   ]
  },
  {
   "cell_type": "code",
   "execution_count": 35,
   "metadata": {},
   "outputs": [
    {
     "data": {
      "text/plain": [
       "         Date        Open        High         Low       Close   Volume\n",
       "0  2016-12-19  790.219971  797.659973  786.270020  794.200012  1225900\n",
       "1  2016-12-20  796.760010  798.650024  793.270020  796.419983   925100\n",
       "2  2016-12-21  795.840027  796.676025  787.099976  794.559998  1208700\n",
       "3  2016-12-22  792.359985  793.320007  788.580017  791.260010   969100\n",
       "4  2016-12-23  790.900024  792.739990  787.280029  789.909973   623400\n",
       "..        ...         ...         ...         ...         ...      ...\n",
       "56 2017-03-13  844.000000  848.684998  843.250000  845.539978  1149500\n",
       "57 2017-03-14  843.640015  847.239990  840.799988  845.619995   779900\n",
       "58 2017-03-15  847.590027  848.630005  840.770020  847.200012  1379600\n",
       "59 2017-03-16  849.030029  850.849976  846.130005  848.780029   970400\n",
       "60 2017-03-17  851.609985  853.400024  847.109985  852.119995  1712300\n",
       "\n",
       "[61 rows x 6 columns]"
      ]
     },
     "execution_count": 35,
     "metadata": {},
     "output_type": "execute_result"
    }
   ],
   "source": [
    "# read the data and tell pandas the date column should be \n",
    "# a date in the resulting DataFrame\n",
    "df = pd.read_csv('/Users/Angela/Desktop/Personal/Learning-Pandas-Second-Edition-master/data/goog.csv', \n",
    "                 parse_dates=['Date'])\n",
    "df"
   ]
  },
  {
   "cell_type": "markdown",
   "metadata": {},
   "source": [
    "제대로 되었는지 다음과 같이 확인해보면 Timestamp 객체로 되었음을 알 수 있다."
   ]
  },
  {
   "cell_type": "code",
   "execution_count": 36,
   "metadata": {},
   "outputs": [
    {
     "data": {
      "text/plain": [
       "pandas._libs.tslibs.timestamps.Timestamp"
      ]
     },
     "execution_count": 36,
     "metadata": {},
     "output_type": "execute_result"
    }
   ],
   "source": [
    "# verify the type now is date\n",
    "# in pandas, this is actually a Timestamp\n",
    "type(df.Date[0])"
   ]
  },
  {
   "cell_type": "markdown",
   "metadata": {},
   "source": [
    "### pd.read_csv(index_col = )\n",
    "\n",
    "불행하게도 이 날짜 필드는 데이터 프레임의 인덱스로 사용할 수 없다. (!...)  \n",
    "대신 제로베이스 인덱스 레이블을 사용해야 한다. \n",
    "\n",
    "    지금은 RangeIndex이지만, 예전 pandas에서는 그냥 정수 인덱스였다고 한다. 그 차이점에 대해서는 뒤에서 확인해볼 것."
   ]
  },
  {
   "cell_type": "code",
   "execution_count": 37,
   "metadata": {},
   "outputs": [
    {
     "data": {
      "text/plain": [
       "RangeIndex(start=0, stop=61, step=1)"
      ]
     },
     "execution_count": 37,
     "metadata": {},
     "output_type": "execute_result"
    }
   ],
   "source": [
    "# unfortunately the index is numeric which makes\n",
    "# accessing data by date more complicated\n",
    "df.index"
   ]
  },
  {
   "cell_type": "markdown",
   "metadata": {},
   "source": [
    "이를 해결하려면 `pd.read_csv()` 함수의 `index_col` 파라미터를 사용하여 인덱스로 쓸 칼럼을 지정하면 된다. "
   ]
  },
  {
   "cell_type": "code",
   "execution_count": 38,
   "metadata": {},
   "outputs": [
    {
     "data": {
      "text/plain": [
       "                  Open        High         Low       Close   Volume\n",
       "Date                                                               \n",
       "2016-12-19  790.219971  797.659973  786.270020  794.200012  1225900\n",
       "2016-12-20  796.760010  798.650024  793.270020  796.419983   925100\n",
       "2016-12-21  795.840027  796.676025  787.099976  794.559998  1208700\n",
       "2016-12-22  792.359985  793.320007  788.580017  791.260010   969100\n",
       "2016-12-23  790.900024  792.739990  787.280029  789.909973   623400\n",
       "...                ...         ...         ...         ...      ...\n",
       "2017-03-13  844.000000  848.684998  843.250000  845.539978  1149500\n",
       "2017-03-14  843.640015  847.239990  840.799988  845.619995   779900\n",
       "2017-03-15  847.590027  848.630005  840.770020  847.200012  1379600\n",
       "2017-03-16  849.030029  850.849976  846.130005  848.780029   970400\n",
       "2017-03-17  851.609985  853.400024  847.109985  852.119995  1712300\n",
       "\n",
       "[61 rows x 5 columns]"
      ]
     },
     "execution_count": 38,
     "metadata": {},
     "output_type": "execute_result"
    }
   ],
   "source": [
    "# read in again, now specity the data column as being the \n",
    "# index of the resulting DataFrame\n",
    "df = pd.read_csv('/Users/Angela/Desktop/Personal/Learning-Pandas-Second-Edition-master/data/goog.csv', \n",
    "                 parse_dates=['Date'], \n",
    "                 index_col='Date')\n",
    "df"
   ]
  },
  {
   "cell_type": "markdown",
   "metadata": {},
   "source": [
    "이제 DatetimeIndex 유형을 인덱스로 사용할 수 있게 됐다. (!)"
   ]
  },
  {
   "cell_type": "code",
   "execution_count": 39,
   "metadata": {},
   "outputs": [
    {
     "data": {
      "text/plain": [
       "DatetimeIndex(['2016-12-19', '2016-12-20', '2016-12-21', '2016-12-22',\n",
       "               '2016-12-23', '2016-12-27', '2016-12-28', '2016-12-29',\n",
       "               '2016-12-30', '2017-01-03', '2017-01-04', '2017-01-05',\n",
       "               '2017-01-06', '2017-01-09', '2017-01-10', '2017-01-11',\n",
       "               '2017-01-12', '2017-01-13', '2017-01-17', '2017-01-18',\n",
       "               '2017-01-19', '2017-01-20', '2017-01-23', '2017-01-24',\n",
       "               '2017-01-25', '2017-01-26', '2017-01-27', '2017-01-30',\n",
       "               '2017-01-31', '2017-02-01', '2017-02-02', '2017-02-03',\n",
       "               '2017-02-06', '2017-02-07', '2017-02-08', '2017-02-09',\n",
       "               '2017-02-10', '2017-02-13', '2017-02-14', '2017-02-15',\n",
       "               '2017-02-16', '2017-02-17', '2017-02-21', '2017-02-22',\n",
       "               '2017-02-23', '2017-02-24', '2017-02-27', '2017-02-28',\n",
       "               '2017-03-01', '2017-03-02', '2017-03-03', '2017-03-06',\n",
       "               '2017-03-07', '2017-03-08', '2017-03-09', '2017-03-10',\n",
       "               '2017-03-13', '2017-03-14', '2017-03-15', '2017-03-16',\n",
       "               '2017-03-17'],\n",
       "              dtype='datetime64[ns]', name='Date', freq=None)"
      ]
     },
     "execution_count": 39,
     "metadata": {},
     "output_type": "execute_result"
    }
   ],
   "source": [
    "# and the index is now a DatetimeIndex\n",
    "df.index"
   ]
  },
  {
   "cell_type": "markdown",
   "metadata": {},
   "source": [
    "# Visualization\n",
    "\n",
    "_시각화는 14장에서 자세히 다룰 예정이나, 그 전에도 종종 빠르게 시각화를 해볼 것._\n",
    "\n",
    "pandas 에서는 시각화를 아주 쉽게 할 수 있는데, 단지 `.plot()` 메소드를 호출하는 게 전부다. 다음은 주식의 종가에 해당하는 Close 칼럼의 값을 꺾은선 그래프로 표현한 예이다. \n"
   ]
  },
  {
   "cell_type": "code",
   "execution_count": 40,
   "metadata": {},
   "outputs": [
    {
     "data": {
      "image/png": "[encoded data removed]",
      "text/plain": [
       "<Figure size 432x288 with 1 Axes>"
      ]
     },
     "metadata": {
      "needs_background": "light"
     },
     "output_type": "display_data"
    }
   ],
   "source": [
    "# plots the values in the Close column\n",
    "df.Close.plot();"
   ]
  }
 ],
 "metadata": {
  "anaconda-cloud": {},
  "kernelspec": {
   "display_name": "Python 3 (ipykernel)",
   "language": "python",
   "name": "python3"
  },
  "language_info": {
   "codemirror_mode": {
    "name": "ipython",
    "version": 3
   },
   "file_extension": ".py",
   "mimetype": "text/x-python",
   "name": "python",
   "nbconvert_exporter": "python",
   "pygments_lexer": "ipython3",
   "version": "3.8.5"
  },
  "latex_envs": {
   "LaTeX_envs_menu_present": true,
   "autoclose": true,
   "autocomplete": true,
   "bibliofile": "biblio.bib",
   "cite_by": "apalike",
   "current_citInitial": 1,
   "eqLabelWithNumbers": true,
   "eqNumInitial": 1,
   "hotkeys": {
    "equation": "Ctrl-E",
    "itemize": "Ctrl-I"
   },
   "labels_anchors": false,
   "latex_user_defs": false,
   "report_style_numbering": false,
   "user_envs_cfg": false
  },
  "toc": {
   "base_numbering": 1,
   "nav_menu": {},
   "number_sections": true,
   "sideBar": true,
   "skip_h1_title": false,
   "title_cell": "Table of Contents",
   "title_sidebar": "Contents",
   "toc_cell": true,
   "toc_position": {},
   "toc_section_display": true,
   "toc_window_display": false
  }
 },
 "nbformat": 4,
 "nbformat_minor": 1
}

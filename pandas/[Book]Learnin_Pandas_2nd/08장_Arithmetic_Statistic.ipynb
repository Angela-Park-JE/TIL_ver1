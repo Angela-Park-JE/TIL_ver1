{
 "cells": [
  {
   "cell_type": "markdown",
   "metadata": {
    "toc": true
   },
   "source": [
    "<h1>Table of Contents<span class=\"tocSkip\"></span></h1>\n",
    "<div class=\"toc\"><ul class=\"toc-item\"><li><span><a href=\"#Configuring-pandas\" data-toc-modified-id=\"Configuring-pandas-1\"><span class=\"toc-item-num\">1&nbsp;&nbsp;</span>Configuring pandas</a></span></li><li><span><a href=\"#수치-해석과-통계-기법\" data-toc-modified-id=\"수치-해석과-통계-기법-2\"><span class=\"toc-item-num\">2&nbsp;&nbsp;</span>수치 해석과 통계 기법</a></span><ul class=\"toc-item\"><li><span><a href=\"#수치-계산법\" data-toc-modified-id=\"수치-계산법-2.1\"><span class=\"toc-item-num\">2.1&nbsp;&nbsp;</span>수치 계산법</a></span></li></ul></li><li><span><a href=\"#Performing-arithmetic-on-a-DataFrame-or-Series\" data-toc-modified-id=\"Performing-arithmetic-on-a-DataFrame-or-Series-3\"><span class=\"toc-item-num\">3&nbsp;&nbsp;</span>Performing arithmetic on a DataFrame or Series</a></span></li><li><span><a href=\"#Counts-of-values\" data-toc-modified-id=\"Counts-of-values-4\"><span class=\"toc-item-num\">4&nbsp;&nbsp;</span>Counts of values</a></span></li><li><span><a href=\"#Unique-and-number-of-unique-values\" data-toc-modified-id=\"Unique-and-number-of-unique-values-5\"><span class=\"toc-item-num\">5&nbsp;&nbsp;</span>Unique and number of unique values</a></span></li><li><span><a href=\"#Minimum-and-maximums\" data-toc-modified-id=\"Minimum-and-maximums-6\"><span class=\"toc-item-num\">6&nbsp;&nbsp;</span>Minimum and maximums</a></span></li><li><span><a href=\"#Smallest-and-Largest-Values\" data-toc-modified-id=\"Smallest-and-Largest-Values-7\"><span class=\"toc-item-num\">7&nbsp;&nbsp;</span>Smallest and Largest Values</a></span></li><li><span><a href=\"#Accumulations\" data-toc-modified-id=\"Accumulations-8\"><span class=\"toc-item-num\">8&nbsp;&nbsp;</span>Accumulations</a></span></li><li><span><a href=\"#Summary-descriptive-statistics\" data-toc-modified-id=\"Summary-descriptive-statistics-9\"><span class=\"toc-item-num\">9&nbsp;&nbsp;</span>Summary descriptive statistics</a></span></li><li><span><a href=\"#Mean\" data-toc-modified-id=\"Mean-10\"><span class=\"toc-item-num\">10&nbsp;&nbsp;</span>Mean</a></span></li><li><span><a href=\"#Median\" data-toc-modified-id=\"Median-11\"><span class=\"toc-item-num\">11&nbsp;&nbsp;</span>Median</a></span></li><li><span><a href=\"#Mode\" data-toc-modified-id=\"Mode-12\"><span class=\"toc-item-num\">12&nbsp;&nbsp;</span>Mode</a></span></li><li><span><a href=\"#Variance\" data-toc-modified-id=\"Variance-13\"><span class=\"toc-item-num\">13&nbsp;&nbsp;</span>Variance</a></span></li><li><span><a href=\"#Standard-Deviation\" data-toc-modified-id=\"Standard-Deviation-14\"><span class=\"toc-item-num\">14&nbsp;&nbsp;</span>Standard Deviation</a></span></li><li><span><a href=\"#Covariance\" data-toc-modified-id=\"Covariance-15\"><span class=\"toc-item-num\">15&nbsp;&nbsp;</span>Covariance</a></span></li><li><span><a href=\"#Correlation\" data-toc-modified-id=\"Correlation-16\"><span class=\"toc-item-num\">16&nbsp;&nbsp;</span>Correlation</a></span></li><li><span><a href=\"#Discretization-and-quantiling\" data-toc-modified-id=\"Discretization-and-quantiling-17\"><span class=\"toc-item-num\">17&nbsp;&nbsp;</span>Discretization and quantiling</a></span></li><li><span><a href=\"#Ranking\" data-toc-modified-id=\"Ranking-18\"><span class=\"toc-item-num\">18&nbsp;&nbsp;</span>Ranking</a></span></li><li><span><a href=\"#Percent-change\" data-toc-modified-id=\"Percent-change-19\"><span class=\"toc-item-num\">19&nbsp;&nbsp;</span>Percent change</a></span></li><li><span><a href=\"#Moving-window-operations\" data-toc-modified-id=\"Moving-window-operations-20\"><span class=\"toc-item-num\">20&nbsp;&nbsp;</span>Moving window operations</a></span></li><li><span><a href=\"#Random-sampling\" data-toc-modified-id=\"Random-sampling-21\"><span class=\"toc-item-num\">21&nbsp;&nbsp;</span>Random sampling</a></span></li></ul></div>"
   ]
  },
  {
   "cell_type": "markdown",
   "metadata": {},
   "source": [
    "# Configuring pandas\n",
    "데이터 예제는 s&p500데이터와 월별 주식 데이터도 임포트 한다. "
   ]
  },
  {
   "cell_type": "code",
   "execution_count": 1,
   "metadata": {},
   "outputs": [
    {
     "name": "stdout",
     "output_type": "stream",
     "text": [
      "1.4.1\n",
      "1.22.4\n",
      "3.8.5 (default, Sep  4 2020, 02:22:02) \n",
      "[Clang 10.0.0 ]\n"
     ]
    }
   ],
   "source": [
    "# import numpy and pandas\n",
    "import numpy as np\n",
    "import pandas as pd\n",
    "\n",
    "# used for dates\n",
    "import datetime\n",
    "from datetime import datetime, date\n",
    "\n",
    "# Set some pandas options controlling output format\n",
    "pd.set_option('display.notebook_repr_html', False)\n",
    "pd.set_option('display.max_columns', 8)\n",
    "pd.set_option('display.max_rows', 10)\n",
    "pd.set_option('display.width', 60)\n",
    "\n",
    "# bring in matplotlib for graphics\n",
    "import matplotlib.pyplot as plt\n",
    "%matplotlib inline\n",
    "\n",
    "# version check\n",
    "print(pd.__version__)\n",
    "print(np.__version__)\n",
    "import sys\n",
    "print(sys.version)\n",
    "\n",
    "# read in the data and print the first five rows\n",
    "# use the Symbol column as the index, and \n",
    "# only read in columns in positions 0, 2, 3, 7\n",
    "sp500 = pd.read_csv('/Users/Angela/Desktop/Personal/Learning-Pandas-Second-Edition-master/data/sp500.csv', \n",
    "                    index_col='Symbol', usecols=[0, 2, 3, 7])\n",
    "\n",
    "# one month of stock history data\n",
    "omh = pd.read_csv(\"/Users/Angela/Desktop/Personal/Learning-Pandas-Second-Edition-master/data/omh.csv\")"
   ]
  },
  {
   "cell_type": "markdown",
   "metadata": {},
   "source": [
    "# 수치 해석과 통계 기법\n",
    "pandas는데이터 모델링과 조작에 있어서도 매우 효과적이지만, 수치 해석과 통계 분석을 위한 다양하고 강력한 도구들도 제공한다. 그 도구들은 pandas의 데이터 구조와 밀접하게 연계됨으로써 모델링된 데이터의 복잡한 계산을 간단하게 만들어준다.  \n",
    "8장에서는 여러 객체에 걸친 산술 연산 등의 기본적인 수치 계산과, 최솟값이나 최댓값과 같은 특정 값을 찾는 방법을 알아본다. 그 다음엔 quantile(분위수), ranking(값 순위), 분산, 상관관계 등 다수의 pandas 통계 기능을 살펴본다.  \n",
    "마지막에서는 롤링 윈도우(rolling window)라는 pandas의 매우 강력한 기능을 확인할 것이다. 롤링 윈도우는 여러 데이터 서브셋에 걸친 평균을 계산하는 등 다양한 기법을 수행할 수 있는 수단을 제공한다. 이런 유형의 연산은 시간 변화에 따른 주식 데이터의 특성을 결정하는 작업과 다양한 분석에 있어서 필수적이다. 8장에서는 해당 개념 소개를 하고, 이후 더 자세히 보도록 할 것이당.\n",
    "\n",
    "- pandas 객체에 대한 산술 연산\n",
    "- 값의 개수 세기\n",
    "- 고윳값과 그 개수 판별\n",
    "- 최솟값과 최댓값 찾기\n",
    "- n개 최솟값과 n개 최댓값 찾기\n",
    "- 누적 값 계산\n",
    "- 약식 기술 통계 내용 가져옥\n",
    "- 중심 경향성 측정(평균, 중위수, 최빈수)\n",
    "- 분산, 표준 편차, 공분산, 상관관계 계산\n",
    "- 이산화와 분위수 계산\n",
    "- 각 표본의 변동률 계산\n",
    "- 롤링 윈도우 작업\n",
    "- 무작위 표집\n",
    "\n",
    "## 수치 계산법\n",
    "pandas는 데이터 산술 연산과 여러 수치적 특성을 계산할 수 있는 풍부한 함수를 제공한다. 이 절에서는 위의 순서중 누적 값 계산까지 수행한다.\n"
   ]
  },
  {
   "cell_type": "markdown",
   "metadata": {},
   "source": [
    "# Performing arithmetic on a DataFrame or Series\n",
    "---\n",
    "DataFrame과 Series의 산술 연산\n",
    "\n",
    "`DataFrame`과 `Seires`의 산술 연산에는 $+, -, /, *$ 와 같은 연산자를 사용한다.  \n",
    "이는 당연하게 보일 수 있지만, pandas는 방정식의 좌변 값과 우변 값을 정렬시키는 강력함을 추가했다. 따라서 인덱스가 산술 연산에 있어서 큰 역할을 하며, 그에 따른 결과에 대한 영향을 이해할 필요가 있다. \n",
    "\n",
    "pandas는 표준적인 산술 연산자뿐만 아니라, `.add()`, `.sub()`, `.mul()`, `.div()` 등과 같은 고성능, 유연함을 갖는 다양한 메서드를 제공한다.  \n",
    "스칼라 값의 산술 연산은 `DataFrame`의 어떤 요소에도 적용할 수 있다.  \n",
    "\n",
    "난수로 이루어진 `DataFrame`으로 시작해보자. "
   ]
  },
  {
   "cell_type": "code",
   "execution_count": 2,
   "metadata": {},
   "outputs": [
    {
     "data": {
      "text/plain": [
       "          A         B         C         D\n",
       "0  0.469112 -0.282863 -1.509059 -1.135632\n",
       "1  1.212112 -0.173215  0.119209 -1.044236\n",
       "2 -0.861849 -2.104569 -0.494929  1.071804\n",
       "3  0.721555 -0.706771 -1.039575  0.271860\n",
       "4 -0.424972  0.567020  0.276232 -1.087401"
      ]
     },
     "execution_count": 2,
     "metadata": {},
     "output_type": "execute_result"
    }
   ],
   "source": [
    "# set the seed to allow replicatable results\n",
    "np.random.seed(123456)\n",
    "# create the DataFrame\n",
    "df = pd.DataFrame(np.random.randn(5, 4), \n",
    "                  columns=['A', 'B', 'C', 'D'])\n",
    "df"
   ]
  },
  {
   "cell_type": "markdown",
   "metadata": {},
   "source": [
    "기본적으로, 어떤 산술 연산이라도 데이터 프레임의 모든 로우와 칼럼에 걸쳐 적용이 가능하다. 그리고 그 결과로 새 `DataFrame` 객체가 반환되는데, 다시 말해 원래의 데이터 프레임은 변경되지 않는다는 것이다. "
   ]
  },
  {
   "cell_type": "code",
   "execution_count": 3,
   "metadata": {},
   "outputs": [
    {
     "data": {
      "text/plain": [
       "          A         B         C         D\n",
       "0  0.938225 -0.565727 -3.018117 -2.271265\n",
       "1  2.424224 -0.346429  0.238417 -2.088472\n",
       "2 -1.723698 -4.209138 -0.989859  2.143608\n",
       "3  1.443110 -1.413542 -2.079150  0.543720\n",
       "4 -0.849945  1.134041  0.552464 -2.174801"
      ]
     },
     "execution_count": 3,
     "metadata": {},
     "output_type": "execute_result"
    }
   ],
   "source": [
    "# multiply everything by 2\n",
    "df * 2"
   ]
  },
  {
   "cell_type": "markdown",
   "metadata": {},
   "source": [
    "`DataFrame`와 `Series` 사이의 산술 연산에 있어서 pandas는 `Series`의 인덱스를 `DataFrame` 칼럼에 정렬시키며, 이를 로우 우선 브로드캐스팅(row-wise broadcasting)이라고 한다. 직관에 어긋나 보일 순 있지만, 이는 각 칼럼의 서로 다른 값을 로우 단위에 적용할 수 있는 매우 강력한 방법이다.  \n",
    "\n",
    "데이터프레임 - 첫 번째 로우(`Series`)를 수행하면 각 로우에 모두 연산이 적용됨을 볼 수 있다. "
   ]
  },
  {
   "cell_type": "code",
   "execution_count": 4,
   "metadata": {},
   "outputs": [
    {
     "data": {
      "text/plain": [
       "          A         B         C         D\n",
       "0  0.000000  0.000000  0.000000  0.000000\n",
       "1  0.743000  0.109649  1.628267  0.091396\n",
       "2 -1.330961 -1.821706  1.014129  2.207436\n",
       "3  0.252443 -0.423908  0.469484  1.407492\n",
       "4 -0.894085  0.849884  1.785291  0.048232"
      ]
     },
     "execution_count": 4,
     "metadata": {},
     "output_type": "execute_result"
    }
   ],
   "source": [
    "# get first row \n",
    "s = df.iloc[0] \n",
    "# subtract first row from every row of the DataFrame\n",
    "diff = df - s \n",
    "diff"
   ]
  },
  {
   "cell_type": "markdown",
   "metadata": {},
   "source": [
    "반대로 `Series`로 부터 `DataFrame`을 뺴는 일도 가능하다. 결과는 데이터 프레임 형태로 나온다. "
   ]
  },
  {
   "cell_type": "code",
   "execution_count": 5,
   "metadata": {},
   "outputs": [
    {
     "data": {
      "text/plain": [
       "          A         B         C         D\n",
       "0  0.000000  0.000000  0.000000  0.000000\n",
       "1 -0.743000 -0.109649 -1.628267 -0.091396\n",
       "2  1.330961  1.821706 -1.014129 -2.207436\n",
       "3 -0.252443  0.423908 -0.469484 -1.407492\n",
       "4  0.894085 -0.849884 -1.785291 -0.048232"
      ]
     },
     "execution_count": 5,
     "metadata": {},
     "output_type": "execute_result"
    }
   ],
   "source": [
    "# subtract DataFrame from Series\n",
    "diff2 = s - df\n",
    "diff2"
   ]
  },
  {
   "cell_type": "markdown",
   "metadata": {},
   "source": [
    "산술 연산은 `Series`의 인덱스 레이블과 `DataFrame`의 칼럼 인덱스를 모두 정렬해 결합(union)한 결과를 반환한다.  \n",
    "결과 칼럼이 `Series`나 `DataFrame`객체에 없는 경우에 그 값은 `NaN`으로 채워진다.  \n",
    "\n",
    "다음은 `DataFrame`의 서브셋 칼럼과 신규 칼럼으로 만든 `Series`의 예다.  \n",
    "B, C는 연산이 되었지만 A, D는 s에 없기 때문에 결측값을, E는 df에 없기 때문에 결측값을 반환했다. "
   ]
  },
  {
   "cell_type": "code",
   "execution_count": 6,
   "metadata": {},
   "outputs": [
    {
     "data": {
      "text/plain": [
       "    A         B         C   D   E\n",
       "0 NaN -0.565727 -3.018117 NaN NaN\n",
       "1 NaN -0.456078 -1.389850 NaN NaN\n",
       "2 NaN -2.387433 -2.003988 NaN NaN\n",
       "3 NaN -0.989634 -2.548633 NaN NaN\n",
       "4 NaN  0.284157 -1.232826 NaN NaN"
      ]
     },
     "execution_count": 6,
     "metadata": {},
     "output_type": "execute_result"
    }
   ],
   "source": [
    "# first row's B, C\n",
    "s2 = s[1:3]\n",
    "# add E\n",
    "s2['E'] = 0\n",
    "# see how alignment is applied in math\n",
    "df + s2"
   ]
  },
  {
   "cell_type": "markdown",
   "metadata": {},
   "source": [
    "두 `DataFrame`객체끼리의 산술 연산에서는 칼럼과 인덱스 레이블에 대한 정렬이 수행된다.  \n",
    "\n",
    "다음은 df의 일부분을 추출해 전체 `DataFrame`에서 빼는 과정이다.  \n",
    "정렬되어 각 위치에 있는 값은 마이너스 연산이 잘 이루어 져서 0이지만, 나머지는 알 수 없는 값으로 `NaN`이 할당된 것을 볼 수 있다. "
   ]
  },
  {
   "cell_type": "code",
   "execution_count": 9,
   "metadata": {},
   "outputs": [
    {
     "data": {
      "text/plain": [
       "          B         C\n",
       "1 -0.173215  0.119209\n",
       "2 -2.104569 -0.494929\n",
       "3 -0.706771 -1.039575"
      ]
     },
     "execution_count": 9,
     "metadata": {},
     "output_type": "execute_result"
    }
   ],
   "source": [
    "# get rows 1 through three, and only B, C columns\n",
    "subframe = df[1:4][['B', 'C']]\n",
    "# we have extracted a little square in the middle of df\n",
    "subframe"
   ]
  },
  {
   "cell_type": "code",
   "execution_count": 10,
   "metadata": {},
   "outputs": [
    {
     "data": {
      "text/plain": [
       "    A    B    C   D\n",
       "0 NaN  NaN  NaN NaN\n",
       "1 NaN  0.0  0.0 NaN\n",
       "2 NaN  0.0  0.0 NaN\n",
       "3 NaN  0.0  0.0 NaN\n",
       "4 NaN  NaN  NaN NaN"
      ]
     },
     "execution_count": 10,
     "metadata": {},
     "output_type": "execute_result"
    }
   ],
   "source": [
    "# demonstrate the alignment of the subtraction\n",
    "df - subframe"
   ]
  },
  {
   "cell_type": "markdown",
   "metadata": {},
   "source": [
    "`DataFrame` 객체가 제공하는 메서드를 사용해 특정 축을 기준으로 산술 연산을 수행할 수도 있다.  \n",
    "\n",
    "다음은 모든 칼럼 값에서 A 칼럼을 빼는 예시이다. "
   ]
  },
  {
   "cell_type": "code",
   "execution_count": 11,
   "metadata": {},
   "outputs": [
    {
     "data": {
      "text/plain": [
       "     A         B         C         D\n",
       "0  0.0 -0.751976 -1.978171 -1.604745\n",
       "1  0.0 -1.385327 -1.092903 -2.256348\n",
       "2  0.0 -1.242720  0.366920  1.933653\n",
       "3  0.0 -1.428326 -1.761130 -0.449695\n",
       "4  0.0  0.991993  0.701204 -0.662428"
      ]
     },
     "execution_count": 11,
     "metadata": {},
     "output_type": "execute_result"
    }
   ],
   "source": [
    "# get the A column\n",
    "a_col = df['A']\n",
    "df.sub(a_col, axis=0)"
   ]
  },
  {
   "cell_type": "code",
   "execution_count": 12,
   "metadata": {},
   "outputs": [
    {
     "data": {
      "text/plain": [
       "          A         B         C         D\n",
       "0  0.000000  0.000000  0.000000  0.000000\n",
       "1  0.743000  0.109649  1.628267  0.091396\n",
       "2 -1.330961 -1.821706  1.014129  2.207436\n",
       "3  0.252443 -0.423908  0.469484  1.407492\n",
       "4 -0.894085  0.849884  1.785291  0.048232"
      ]
     },
     "execution_count": 12,
     "metadata": {},
     "output_type": "execute_result"
    }
   ],
   "source": [
    "# 만약 행 방향으로 한다면?\n",
    "row0 = df.iloc[0]\n",
    "df.sub(row0, axis = 1)"
   ]
  }
 ],
 "metadata": {
  "anaconda-cloud": {},
  "kernelspec": {
   "display_name": "Python 3 (ipykernel)",
   "language": "python",
   "name": "python3"
  },
  "language_info": {
   "codemirror_mode": {
    "name": "ipython",
    "version": 3
   },
   "file_extension": ".py",
   "mimetype": "text/x-python",
   "name": "python",
   "nbconvert_exporter": "python",
   "pygments_lexer": "ipython3",
   "version": "3.8.5"
  },
  "latex_envs": {
   "LaTeX_envs_menu_present": true,
   "autoclose": true,
   "autocomplete": true,
   "bibliofile": "biblio.bib",
   "cite_by": "apalike",
   "current_citInitial": 1,
   "eqLabelWithNumbers": true,
   "eqNumInitial": 1,
   "hotkeys": {
    "equation": "Ctrl-E",
    "itemize": "Ctrl-I"
   },
   "labels_anchors": false,
   "latex_user_defs": false,
   "report_style_numbering": false,
   "user_envs_cfg": false
  },
  "toc": {
   "base_numbering": 1,
   "nav_menu": {},
   "number_sections": true,
   "sideBar": true,
   "skip_h1_title": false,
   "title_cell": "Table of Contents",
   "title_sidebar": "Contents",
   "toc_cell": true,
   "toc_position": {},
   "toc_section_display": true,
   "toc_window_display": true
  }
 },
 "nbformat": 4,
 "nbformat_minor": 1
}

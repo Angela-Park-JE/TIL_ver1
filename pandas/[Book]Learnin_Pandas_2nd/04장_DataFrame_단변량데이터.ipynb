{
 "cells": [
  {
   "cell_type": "markdown",
   "metadata": {
    "toc": true
   },
   "source": [
    "<h1>Table of Contents<span class=\"tocSkip\"></span></h1>\n",
    "<div class=\"toc\"><ul class=\"toc-item\"><li><span><a href=\"#Configuring-pandas\" data-toc-modified-id=\"Configuring-pandas-1\"><span class=\"toc-item-num\">1&nbsp;&nbsp;</span>Configuring pandas</a></span></li><li><span><a href=\"#DataFrame으로-단변량-데이터-표현\" data-toc-modified-id=\"DataFrame으로-단변량-데이터-표현-2\"><span class=\"toc-item-num\">2&nbsp;&nbsp;</span>DataFrame으로 단변량 데이터 표현</a></span></li><li><span><a href=\"#Creating-a-DataFrame\" data-toc-modified-id=\"Creating-a-DataFrame-3\"><span class=\"toc-item-num\">3&nbsp;&nbsp;</span>Creating a DataFrame</a></span><ul class=\"toc-item\"><li><span><a href=\"#using-NumPy-function-results\" data-toc-modified-id=\"using-NumPy-function-results-3.1\"><span class=\"toc-item-num\">3.1&nbsp;&nbsp;</span>using NumPy function results</a></span></li><li><span><a href=\"#칼럼-확인-및-지정하기\" data-toc-modified-id=\"칼럼-확인-및-지정하기-3.2\"><span class=\"toc-item-num\">3.2&nbsp;&nbsp;</span>칼럼 확인 및 지정하기</a></span><ul class=\"toc-item\"><li><span><a href=\"#DataFrame.columns\" data-toc-modified-id=\"DataFrame.columns-3.2.1\"><span class=\"toc-item-num\">3.2.1&nbsp;&nbsp;</span><code>DataFrame.columns</code></a></span></li><li><span><a href=\"#pd.DataFrame(columns-=-'list')\" data-toc-modified-id=\"pd.DataFrame(columns-=-'list')-3.2.2\"><span class=\"toc-item-num\">3.2.2&nbsp;&nbsp;</span><code>pd.DataFrame(columns = 'list')</code></a></span></li></ul></li><li><span><a href=\"#로우-확인\" data-toc-modified-id=\"로우-확인-3.3\"><span class=\"toc-item-num\">3.3&nbsp;&nbsp;</span>로우 확인</a></span><ul class=\"toc-item\"><li><span><a href=\"#row-length-:-len(df)\" data-toc-modified-id=\"row-length-:-len(df)-3.3.1\"><span class=\"toc-item-num\">3.3.1&nbsp;&nbsp;</span>row length : <code>len(df)</code></a></span></li></ul></li><li><span><a href=\"#차원-확인\" data-toc-modified-id=\"차원-확인-3.4\"><span class=\"toc-item-num\">3.4&nbsp;&nbsp;</span>차원 확인</a></span><ul class=\"toc-item\"><li><span><a href=\"#dimension-:-df.shape\" data-toc-modified-id=\"dimension-:-df.shape-3.4.1\"><span class=\"toc-item-num\">3.4.1&nbsp;&nbsp;</span>dimension : <code>df.shape</code></a></span></li></ul></li><li><span><a href=\"#using-a-Python-dictionary-and-pandas-Series-objects\" data-toc-modified-id=\"using-a-Python-dictionary-and-pandas-Series-objects-3.5\"><span class=\"toc-item-num\">3.5&nbsp;&nbsp;</span>using a Python dictionary and pandas Series objects</a></span><ul class=\"toc-item\"><li><span><a href=\"#Dictionary\" data-toc-modified-id=\"Dictionary-3.5.1\"><span class=\"toc-item-num\">3.5.1&nbsp;&nbsp;</span>Dictionary</a></span></li><li><span><a href=\"#pandas-Series\" data-toc-modified-id=\"pandas-Series-3.5.2\"><span class=\"toc-item-num\">3.5.2&nbsp;&nbsp;</span>pandas Series</a></span></li><li><span><a href=\"#Series를-이용할-때-컬럼-설정\" data-toc-modified-id=\"Series를-이용할-때-컬럼-설정-3.5.3\"><span class=\"toc-item-num\">3.5.3&nbsp;&nbsp;</span>Series를 이용할 때 컬럼 설정</a></span></li></ul></li><li><span><a href=\"#Creating-a-DataFrame-from-a-CSV-file\" data-toc-modified-id=\"Creating-a-DataFrame-from-a-CSV-file-3.6\"><span class=\"toc-item-num\">3.6&nbsp;&nbsp;</span>Creating a DataFrame from a CSV file</a></span><ul class=\"toc-item\"><li><span><a href=\"#.head()로-구조와-콘텐츠-확인\" data-toc-modified-id=\".head()로-구조와-콘텐츠-확인-3.6.1\"><span class=\"toc-item-num\">3.6.1&nbsp;&nbsp;</span><code>.head()</code>로 구조와 콘텐츠 확인</a></span></li><li><span><a href=\"#len()-,-.shape-,-.size\" data-toc-modified-id=\"len()-,-.shape-,-.size-3.6.2\"><span class=\"toc-item-num\">3.6.2&nbsp;&nbsp;</span><code>len()</code> , <code>.shape</code> , <code>.size</code></a></span></li><li><span><a href=\"#.index-,-.columns\" data-toc-modified-id=\".index-,-.columns-3.6.3\"><span class=\"toc-item-num\">3.6.3&nbsp;&nbsp;</span><code>.index</code> , <code>.columns</code></a></span></li></ul></li></ul></li><li><span><a href=\"#DataFrame-안의-데이터-접근\" data-toc-modified-id=\"DataFrame-안의-데이터-접근-4\"><span class=\"toc-item-num\">4&nbsp;&nbsp;</span>DataFrame 안의 데이터 접근</a></span><ul class=\"toc-item\"><li><span><a href=\"#Selecting-columns-of-a-DataFrame\" data-toc-modified-id=\"Selecting-columns-of-a-DataFrame-4.1\"><span class=\"toc-item-num\">4.1&nbsp;&nbsp;</span>Selecting columns of a DataFrame</a></span><ul class=\"toc-item\"><li><span><a href=\"#[column_name]\" data-toc-modified-id=\"[column_name]-4.1.1\"><span class=\"toc-item-num\">4.1.1&nbsp;&nbsp;</span><code>[column_name]</code></a></span></li><li><span><a href=\"#attribute-접근법\" data-toc-modified-id=\"attribute-접근법-4.1.2\"><span class=\"toc-item-num\">4.1.2&nbsp;&nbsp;</span>attribute 접근법</a></span></li></ul></li><li><span><a href=\"#Selecting-rows-of-a-DataFrame\" data-toc-modified-id=\"Selecting-rows-of-a-DataFrame-4.2\"><span class=\"toc-item-num\">4.2&nbsp;&nbsp;</span>Selecting rows of a DataFrame</a></span><ul class=\"toc-item\"><li><span><a href=\"#.loc[]\" data-toc-modified-id=\".loc[]-4.2.1\"><span class=\"toc-item-num\">4.2.1&nbsp;&nbsp;</span><code>.loc[]</code></a></span></li><li><span><a href=\"#.iloc[]\" data-toc-modified-id=\".iloc[]-4.2.2\"><span class=\"toc-item-num\">4.2.2&nbsp;&nbsp;</span><code>.iloc[]</code></a></span></li></ul></li><li><span><a href=\"#Scalar-lookup-by-label-or-location-using-.at[]-and-.iat[]\" data-toc-modified-id=\"Scalar-lookup-by-label-or-location-using-.at[]-and-.iat[]-4.3\"><span class=\"toc-item-num\">4.3&nbsp;&nbsp;</span>Scalar lookup by label or location using <code>.at[]</code> and <code>.iat[]</code></a></span></li><li><span><a href=\"#Slicing-using-the-[]-operator\" data-toc-modified-id=\"Slicing-using-the-[]-operator-4.4\"><span class=\"toc-item-num\">4.4&nbsp;&nbsp;</span>Slicing using the <code>[]</code> operator</a></span></li></ul></li><li><span><a href=\"#Selecting-rows-using-Boolean-selection\" data-toc-modified-id=\"Selecting-rows-using-Boolean-selection-5\"><span class=\"toc-item-num\">5&nbsp;&nbsp;</span>Selecting rows using Boolean selection</a></span></li><li><span><a href=\"#Selecting-across-both-rows-and-columns\" data-toc-modified-id=\"Selecting-across-both-rows-and-columns-6\"><span class=\"toc-item-num\">6&nbsp;&nbsp;</span>Selecting across both rows and columns</a></span></li></ul></div>"
   ]
  },
  {
   "cell_type": "markdown",
   "metadata": {},
   "source": [
    "# Configuring pandas"
   ]
  },
  {
   "cell_type": "code",
   "execution_count": 1,
   "metadata": {},
   "outputs": [
    {
     "name": "stdout",
     "output_type": "stream",
     "text": [
      "1.4.1\n",
      "1.22.4\n",
      "3.8.5 (default, Sep  4 2020, 02:22:02) \n",
      "[Clang 10.0.0 ]\n"
     ]
    }
   ],
   "source": [
    "# import numpy and pandas\n",
    "import numpy as np\n",
    "import pandas as pd\n",
    "\n",
    "# used for dates\n",
    "import datetime\n",
    "from datetime import datetime, date\n",
    "\n",
    "# Set some pandas options controlling output format\n",
    "pd.set_option('display.notebook_repr_html', False)\n",
    "pd.set_option('display.max_columns', 8)\n",
    "pd.set_option('display.max_rows', 10)\n",
    "pd.set_option('display.width', 80)\n",
    "\n",
    "# version check\n",
    "print(pd.__version__)\n",
    "print(np.__version__)\n",
    "import sys\n",
    "print(sys.version)\n",
    "\n",
    "# bring in matplotlib for graphics\n",
    "import matplotlib.pyplot as plt\n",
    "%matplotlib inline"
   ]
  },
  {
   "cell_type": "markdown",
   "metadata": {},
   "source": [
    "# DataFrame으로 단변량 데이터 표현\n",
    "\n",
    "DataFrame 객체는 Series 객체를 2차원으로 확장한 것으로, DataFrame의 각 로우는 하나가 아닌 여러 개의 값을 가질 수 있으며, 각 값은 칼럼으로 표현된다. 따라서 데이터 프레임의 각 로우는 관찰 대상의 여러 속성이 모델링된 것이며(표현된 것이며), 각 칼럼은 서로 다른 데이터 타입으로 표현될 수 있다.  \n",
    "\n",
    "데이터 프레임의 각 칼럼은 pandas의 Series이며, DataFrame 자체는 스프레드시트나 데이터베이스 테이블과 같은 형태를 갖는다.  \n",
    "그러나 **데이터프레임은 Series 객체의 각 칼럼에 해당하는 데이터의 자동 정렬 등 pandas에 특화된 매우 차별화된 기능을 제공**하는 점에서 차별화된다. \n",
    "\n",
    "데이터 프레임의 자동 정렬은 탐색적 데이터 분석(Exploratory Data Anlysis)에 있어서 스프레드시트나 데이터베이스보다 훨씬 탁월한 능력을 보여주며, 로우와 칼럼의 동시 슬라이싱 기능과 함께 사용되면 원하는 정보를 찾는 데 있어서 데이터와의 상호작용과 탐색 능력이 매우 효과적이 된다.  \n",
    "이 장에선 DataFrame에 대해 자세히 알아본다. \n",
    "\n",
    "- 파이썬 객체, NumPy 함수, 파이썬 딕셔너리, pandas Series 객체, CSV 파일로 DataFrame 만들기\n",
    "- 데이터 프레임의 차원 판별\n",
    "- 데이터 프레임의 칼럼명 지정과 조작\n",
    "- 데이터 프레임 생성 시의 로우 정렬\n",
    "- 데이터 프레임의 특정 칼럼과 로우 선택\n",
    "- 데이터 프레임 슬라이싱\n",
    "- 위치와 레이블을 이용한 데이터 프레임의 칼럼과 로우 선택\n",
    "- 스칼라 값 검색\n",
    "- 데이터 프레임에서의 불리언 선택\n"
   ]
  },
  {
   "cell_type": "markdown",
   "metadata": {},
   "source": [
    "# Creating a DataFrame \n",
    "데이터 프레임 객체 생성\n",
    "\n",
    "데이터 프레임을 만드는 방법은 다양하며, 일차원 또는 다차원 데이터셋으로부터 생성할 수 있다.  \n",
    "- NumPy 함수의 결과 이용\n",
    "- 리스트를 포함하는 파이썬 딕셔너리나 pandas Series 객체의 데이터 이용\n",
    "- CSV 파일의 데이터 이용\n",
    "\n",
    "\\+ 칼럼명 지정, 초기화 시에 정렬을 수행하는 방법, 데이터 프레임의 차원 확인 방법 등\n",
    "\n",
    "## using NumPy function results\n",
    "NumPy 함수로 DataFrame 만들기\n",
    "\n",
    "1차원과 2차원 NumPy 배열로부터 만드는 방식이다.  \n",
    "\n",
    "첫 번째 칼럼에서는 생성된 인덱스 레이블을 보여준다.  \n",
    "데이터 프레임 생성 시에 인덱스를 지정하지 않았으므로, pandas는 RangeIndex에 기초하여 0부터 시작하는 레이블을 부여한다.  \n",
    "\n",
    "데이터는 두 번째 칼럼부터 있으며, 데이터 상단에 보이는 0이 칼럼명이다.  \n",
    "데이터 프레임 생성 시에 컬럼을 지정하지 않으면, 0부터 시작하는 정수를 부여한다.  "
   ]
  },
  {
   "cell_type": "code",
   "execution_count": 2,
   "metadata": {},
   "outputs": [
    {
     "data": {
      "text/plain": [
       "   0\n",
       "0  1\n",
       "1  2\n",
       "2  3\n",
       "3  4\n",
       "4  5"
      ]
     },
     "execution_count": 2,
     "metadata": {},
     "output_type": "execute_result"
    }
   ],
   "source": [
    "# From a 1-d array\n",
    "pd.DataFrame(np.arange(1, 6))"
   ]
  },
  {
   "cell_type": "code",
   "execution_count": 3,
   "metadata": {},
   "outputs": [
    {
     "data": {
      "text/plain": [
       "    0   1\n",
       "0  10  11\n",
       "1  20  21"
      ]
     },
     "execution_count": 3,
     "metadata": {},
     "output_type": "execute_result"
    }
   ],
   "source": [
    "# create a DataFrame from a 2-d ndarray\n",
    "df = pd.DataFrame(np.array([[10, 11], [20, 21]]))\n",
    "df"
   ]
  },
  {
   "cell_type": "markdown",
   "metadata": {},
   "source": [
    "## 칼럼 확인 및 지정하기 \n",
    "\n",
    "### `DataFrame.columns` \n",
    "\n",
    "컬럼명을 지정하지 않으면 pandas가 RangeIndex에 기초해 칼럼을 만든다는 사실을 볼 수 있다.  "
   ]
  },
  {
   "cell_type": "code",
   "execution_count": 4,
   "metadata": {},
   "outputs": [
    {
     "data": {
      "text/plain": [
       "RangeIndex(start=0, stop=2, step=1)"
      ]
     },
     "execution_count": 4,
     "metadata": {},
     "output_type": "execute_result"
    }
   ],
   "source": [
    "# retrieve the columns index\n",
    "df.columns"
   ]
  },
  {
   "cell_type": "markdown",
   "metadata": {},
   "source": [
    "### `pd.DataFrame(columns = 'list')`\n",
    "\n",
    "`columns = `파라미터를 사용하여 칼럼을 지정할 수 있다. "
   ]
  },
  {
   "cell_type": "code",
   "execution_count": 5,
   "metadata": {},
   "outputs": [
    {
     "data": {
      "text/plain": [
       "   Missoula  Philadelphia\n",
       "0        70            71\n",
       "1        90            91"
      ]
     },
     "execution_count": 5,
     "metadata": {},
     "output_type": "execute_result"
    }
   ],
   "source": [
    "# specify column names\n",
    "df = pd.DataFrame(np.array([[70, 71], [90, 91]]),\n",
    "                  columns=['Missoula', 'Philadelphia'])\n",
    "df"
   ]
  },
  {
   "cell_type": "markdown",
   "metadata": {},
   "source": [
    "## 로우 확인\n",
    "\n",
    "### row length : `len(df)`\n"
   ]
  },
  {
   "cell_type": "code",
   "execution_count": 7,
   "metadata": {},
   "outputs": [
    {
     "data": {
      "text/plain": [
       "2"
      ]
     },
     "execution_count": 7,
     "metadata": {},
     "output_type": "execute_result"
    }
   ],
   "source": [
    "# how many rows?\n",
    "len(df)"
   ]
  },
  {
   "cell_type": "markdown",
   "metadata": {},
   "source": [
    "## 차원 확인\n",
    "### dimension : `df.shape`"
   ]
  },
  {
   "cell_type": "code",
   "execution_count": 8,
   "metadata": {},
   "outputs": [
    {
     "data": {
      "text/plain": [
       "(2, 2)"
      ]
     },
     "execution_count": 8,
     "metadata": {},
     "output_type": "execute_result"
    }
   ],
   "source": [
    "# what is the dimensionality\n",
    "df.shape"
   ]
  },
  {
   "cell_type": "markdown",
   "metadata": {},
   "source": [
    "## using a Python dictionary and pandas Series objects\n",
    "파이썬 딕셔너리와 pandas Series로 DataFrame 만들기\n",
    "\n",
    "### Dictionary\n",
    "파이썬 딕셔너리로부터 DataFrame을 초기화해 만들 수 있다.  \n",
    "pandas는 **딕셔너리의 키와 값을 각각 컬럼명과 데이터로 사용**한다."
   ]
  },
  {
   "cell_type": "code",
   "execution_count": 8,
   "metadata": {},
   "outputs": [
    {
     "data": {
      "text/plain": [
       "   Missoula  Philadelphia\n",
       "0        70            90\n",
       "1        71            91"
      ]
     },
     "execution_count": 8,
     "metadata": {},
     "output_type": "execute_result"
    }
   ],
   "source": [
    "# initialization using a python dictionary\n",
    "temps_missoula = [70, 71]\n",
    "temps_philly = [90, 91]\n",
    "temperatures = {'Missoula': temps_missoula,\n",
    "                'Philadelphia': temps_philly}\n",
    "pd.DataFrame(temperatures)"
   ]
  },
  {
   "cell_type": "markdown",
   "metadata": {},
   "source": [
    "### pandas Series\n",
    "Serie로 만드는 방식은 객체 list를 이용하여 DataFrame을 만들 수 있다.  \n",
    "만약 컬럼을 지정한다면 `columns = ` 파라미터를 사용하려 할 수 있지만, 이는 결측을 반환하게 되어있다.  "
   ]
  },
  {
   "cell_type": "code",
   "execution_count": 9,
   "metadata": {},
   "outputs": [
    {
     "data": {
      "text/plain": [
       "    0   1\n",
       "0  70  90\n",
       "1  71  91"
      ]
     },
     "execution_count": 9,
     "metadata": {},
     "output_type": "execute_result"
    }
   ],
   "source": [
    "# create a DataFrame for a list of Series objects\n",
    "temps_at_time0 = pd.Series([70, 90])\n",
    "temps_at_time1 = pd.Series([71, 91])\n",
    "df = pd.DataFrame([temps_at_time0, temps_at_time1])\n",
    "df"
   ]
  },
  {
   "cell_type": "code",
   "execution_count": 10,
   "metadata": {},
   "outputs": [
    {
     "data": {
      "text/plain": [
       "   Missoula  Philadelphia\n",
       "0       NaN           NaN\n",
       "1       NaN           NaN"
      ]
     },
     "execution_count": 10,
     "metadata": {},
     "output_type": "execute_result"
    }
   ],
   "source": [
    "# try to specify column names\n",
    "df = pd.DataFrame([temps_at_time0, temps_at_time1],\n",
    "                  columns=['Missoula', 'Philadelphia'])\n",
    "df"
   ]
  },
  {
   "cell_type": "markdown",
   "metadata": {},
   "source": [
    "### Series를 이용할 때 컬럼 설정\n",
    "방법1: 데이터 프레임 생성 후 `df.columns = []`를 이용하여 지정한다."
   ]
  },
  {
   "cell_type": "code",
   "execution_count": 11,
   "metadata": {},
   "outputs": [
    {
     "data": {
      "text/plain": [
       "   Missoula  Philadelphia\n",
       "0        70            90\n",
       "1        71            91"
      ]
     },
     "execution_count": 11,
     "metadata": {},
     "output_type": "execute_result"
    }
   ],
   "source": [
    "# 1\n",
    "# specify names of columns after creation\n",
    "df = pd.DataFrame([temps_at_time0, temps_at_time1])\n",
    "df.columns = ['Missoula', 'Philadelphia']\n",
    "df"
   ]
  },
  {
   "cell_type": "markdown",
   "metadata": {},
   "source": [
    "방법2: 각 Series를 컬럼명과 함께 Dictionary 형태로 지정한다. "
   ]
  },
  {
   "cell_type": "code",
   "execution_count": 13,
   "metadata": {},
   "outputs": [
    {
     "data": {
      "text/plain": [
       "   Missoula  Philadelphia\n",
       "0        70            71\n",
       "1        90            91"
      ]
     },
     "execution_count": 13,
     "metadata": {},
     "output_type": "execute_result"
    }
   ],
   "source": [
    "# \n",
    "# construct using a dict of Series objects\n",
    "temps_mso_series = pd.Series(temps_at_time0)\n",
    "temps_phl_series = pd.Series(temps_at_time1)\n",
    "df = pd.DataFrame({'Missoula': temps_mso_series,\n",
    "                   'Philadelphia': temps_phl_series})\n",
    "df"
   ]
  },
  {
   "cell_type": "markdown",
   "metadata": {},
   "source": [
    "DataFrame이 구성될 때에는 주어진 Series들에 대해 정렬 작업이 일어난다는 점을 주의하기.  \n",
    "즉, **기존에 없는 인덱스를 추가하게 될 경우 빈 곳은 `NaN`으로 나타나게 된다.** "
   ]
  },
  {
   "cell_type": "code",
   "execution_count": 14,
   "metadata": {},
   "outputs": [
    {
     "data": {
      "text/plain": [
       "   Missoula  Philadelphia  New York\n",
       "0      70.0          71.0       NaN\n",
       "1      90.0          91.0      85.0\n",
       "2       NaN           NaN      87.0"
      ]
     },
     "execution_count": 14,
     "metadata": {},
     "output_type": "execute_result"
    }
   ],
   "source": [
    "# alignment occurs during creation\n",
    "temps_nyc_series = pd.Series([85, 87], index=[1, 2])\n",
    "df = pd.DataFrame({'Missoula': temps_mso_series,\n",
    "                   'Philadelphia': temps_phl_series,\n",
    "                   'New York': temps_nyc_series})\n",
    "df"
   ]
  },
  {
   "cell_type": "markdown",
   "metadata": {},
   "source": [
    "## Creating a DataFrame from a CSV file\n",
    "CSV로 DataFrame 만들기\n",
    "\n",
    "`pd.read_csv()` 함수를 이용하면 CSV 파일의 데이터로부터 데이터 프레임을 만들 수 있다.  \n",
    "\n",
    "첫 라인은 칼럼명이며, 나머지 500개 라인은 서로 다른 500개 주식의 가치를 나타내는 데이터이다.  \n",
    "\n",
    "인덱스로 사용할 칼럼을 지정('Symbol')했으며, 특정 칼럼 4개 (0, 2, 3, 7) 만 사용하도록 하였다. \n"
   ]
  },
  {
   "cell_type": "code",
   "execution_count": 15,
   "metadata": {},
   "outputs": [],
   "source": [
    "# read in the data and print the first five rows\n",
    "# use the Symbol column as the index, and \n",
    "# only read in columns in positions 0, 2, 3, 7\n",
    "sp500 = pd.read_csv(\"/Users/Angela/Desktop/Personal/Learning-Pandas-Second-Edition-master/data/sp500.csv\", \n",
    "                    index_col='Symbol', \n",
    "                    usecols=[0, 2, 3, 7])"
   ]
  },
  {
   "cell_type": "markdown",
   "metadata": {},
   "source": [
    "### `.head()`로 구조와 콘텐츠 확인"
   ]
  },
  {
   "cell_type": "code",
   "execution_count": 16,
   "metadata": {},
   "outputs": [
    {
     "data": {
      "text/plain": [
       "                        Sector   Price  Book Value\n",
       "Symbol                                            \n",
       "MMM                Industrials  141.14      26.668\n",
       "ABT                Health Care   39.60      15.573\n",
       "ABBV               Health Care   53.95       2.954\n",
       "ACN     Information Technology   79.79       8.326\n",
       "ACE                 Financials  102.91      86.897"
      ]
     },
     "execution_count": 16,
     "metadata": {},
     "output_type": "execute_result"
    }
   ],
   "source": [
    "# peek at the first 5 rows of the data using .head()\n",
    "sp500.head()"
   ]
  },
  {
   "cell_type": "markdown",
   "metadata": {},
   "source": [
    "### `len()` , `.shape` , `.size` \n",
    "\n",
    "로우 개수 즉 데이터 프레임의 길이를 확인하고, 구성된 차원을 확인하고, 데이터 프레임의 크기를 확인한다.  \n",
    "\n",
    "`.size`는 데이터 값의 총 개수를 반환하기 때문에 500\\*3 = 1500 개를 반환한다. "
   ]
  },
  {
   "cell_type": "code",
   "execution_count": 17,
   "metadata": {},
   "outputs": [
    {
     "data": {
      "text/plain": [
       "500"
      ]
     },
     "execution_count": 17,
     "metadata": {},
     "output_type": "execute_result"
    }
   ],
   "source": [
    "# how many rows of data?  Should be 500\n",
    "len(sp500)"
   ]
  },
  {
   "cell_type": "code",
   "execution_count": 18,
   "metadata": {},
   "outputs": [
    {
     "data": {
      "text/plain": [
       "(500, 3)"
      ]
     },
     "execution_count": 18,
     "metadata": {},
     "output_type": "execute_result"
    }
   ],
   "source": [
    "# what is the shape?\n",
    "sp500.shape"
   ]
  },
  {
   "cell_type": "code",
   "execution_count": 19,
   "metadata": {},
   "outputs": [
    {
     "data": {
      "text/plain": [
       "1500"
      ]
     },
     "execution_count": 19,
     "metadata": {},
     "output_type": "execute_result"
    }
   ],
   "source": [
    "# what is the size?\n",
    "sp500.size"
   ]
  },
  {
   "cell_type": "markdown",
   "metadata": {},
   "source": [
    "### `.index` , `.columns`\n",
    "\n",
    "인덱스와 칼럼을 확인할 수 있다.  \n",
    "총 4개의 칼럼을 사용하려 했으나 3개만 보인다. 한 개는 Index로 사용되었기 때문이다.  "
   ]
  },
  {
   "cell_type": "code",
   "execution_count": 20,
   "metadata": {},
   "outputs": [
    {
     "data": {
      "text/plain": [
       "Index(['MMM', 'ABT', 'ABBV', 'ACN', 'ACE', 'ACT', 'ADBE', 'AES', 'AET', 'AFL',\n",
       "       ...\n",
       "       'XEL', 'XRX', 'XLNX', 'XL', 'XYL', 'YHOO', 'YUM', 'ZMH', 'ZION', 'ZTS'],\n",
       "      dtype='object', name='Symbol', length=500)"
      ]
     },
     "execution_count": 20,
     "metadata": {},
     "output_type": "execute_result"
    }
   ],
   "source": [
    "# examine the index\n",
    "sp500.index"
   ]
  },
  {
   "cell_type": "code",
   "execution_count": 21,
   "metadata": {},
   "outputs": [
    {
     "data": {
      "text/plain": [
       "Index(['Sector', 'Price', 'Book Value'], dtype='object')"
      ]
     },
     "execution_count": 21,
     "metadata": {},
     "output_type": "execute_result"
    }
   ],
   "source": [
    "# get the columns\n",
    "sp500.columns"
   ]
  },
  {
   "cell_type": "markdown",
   "metadata": {},
   "source": [
    "# DataFrame 안의 데이터 접근 \n",
    "\n",
    "데이터 프레임은 로우와 칼럼으로 구성되어, 특정 로우와 칼럼에 있는 데이터를 선택하는 구조를 갖고 있다.  \n",
    "선택 작업에는 `[]`, `.loc[]` , `.iloc[]` 등을 포함하여 Series와 동일하다.  \n",
    "그러나 데이터프레임은 **다차원 구조**이므로 데이터 선택 프로세스는 약간 다르다.  \n",
    "\n",
    "## Selecting columns of a DataFrame\n",
    "\n",
    "### `[column_name]`\n",
    "특정 칼럼을 선택하기 위해서 `[]`을 사용한다.  \n",
    "Series에서는 로우를 지정했었다는 점에서 다르며, `[]`연산자에는 가져올 칼럼을 나타내는 단일 객체나 객체 리스트를 전달할 수 있다.  "
   ]
  },
  {
   "cell_type": "code",
   "execution_count": 22,
   "metadata": {},
   "outputs": [
    {
     "data": {
      "text/plain": [
       "Symbol\n",
       "MMM                Industrials\n",
       "ABT                Health Care\n",
       "ABBV               Health Care\n",
       "ACN     Information Technology\n",
       "ACE                 Financials\n",
       "Name: Sector, dtype: object"
      ]
     },
     "execution_count": 22,
     "metadata": {},
     "output_type": "execute_result"
    }
   ],
   "source": [
    "# retrieve the Sector column\n",
    "sp500['Sector'].head()"
   ]
  },
  {
   "cell_type": "markdown",
   "metadata": {},
   "source": [
    "DataFrame으로부터 하나의 칼럼을 가져오는 경우라면, 그 결과는 하나의 Series이다. "
   ]
  },
  {
   "cell_type": "code",
   "execution_count": 23,
   "metadata": {},
   "outputs": [
    {
     "data": {
      "text/plain": [
       "pandas.core.series.Series"
      ]
     },
     "execution_count": 23,
     "metadata": {},
     "output_type": "execute_result"
    }
   ],
   "source": [
    "type(sp500['Sector'])"
   ]
  },
  {
   "cell_type": "markdown",
   "metadata": {},
   "source": [
    "여러개를 지정할 때는 리스트로."
   ]
  },
  {
   "cell_type": "code",
   "execution_count": 24,
   "metadata": {},
   "outputs": [
    {
     "data": {
      "text/plain": [
       "         Price  Book Value\n",
       "Symbol                    \n",
       "MMM     141.14      26.668\n",
       "ABT      39.60      15.573\n",
       "ABBV     53.95       2.954\n",
       "ACN      79.79       8.326\n",
       "ACE     102.91      86.897"
      ]
     },
     "execution_count": 24,
     "metadata": {},
     "output_type": "execute_result"
    }
   ],
   "source": [
    "# retrieve the Price and Book Value columns\n",
    "sp500[['Price', 'Book Value']].head()"
   ]
  },
  {
   "cell_type": "markdown",
   "metadata": {},
   "source": [
    "DataFrame으로부터 복수의 칼럼을 가져오는 경우, 그 결과는 DataFrame이다. "
   ]
  },
  {
   "cell_type": "code",
   "execution_count": 26,
   "metadata": {},
   "outputs": [
    {
     "data": {
      "text/plain": [
       "pandas.core.frame.DataFrame"
      ]
     },
     "execution_count": 26,
     "metadata": {},
     "output_type": "execute_result"
    }
   ],
   "source": [
    "# show that this is a DataFrame\n",
    "type(sp500[['Price', 'Book Value']])"
   ]
  },
  {
   "cell_type": "markdown",
   "metadata": {},
   "source": [
    "### attribute 접근법\n",
    "DataFrame에는 공백이 포함돼있지만 않다면 각 칼럼명과 동일한 이름의 속성이 포함된다. 다음은 속성 접근 방식으로 'Price' 칼럼을 가져오는 예시이다.  \n",
    "그러나 'Book Value' 칼럼은 가져올 수 없다. 공백이 포함되어 있기 때문이다.  "
   ]
  },
  {
   "cell_type": "code",
   "execution_count": 27,
   "metadata": {},
   "outputs": [
    {
     "data": {
      "text/plain": [
       "Symbol\n",
       "MMM     141.14\n",
       "ABT      39.60\n",
       "ABBV     53.95\n",
       "ACN      79.79\n",
       "ACE     102.91\n",
       "         ...  \n",
       "YHOO     35.02\n",
       "YUM      74.77\n",
       "ZMH     101.84\n",
       "ZION     28.43\n",
       "ZTS      30.53\n",
       "Name: Price, Length: 500, dtype: float64"
      ]
     },
     "execution_count": 27,
     "metadata": {},
     "output_type": "execute_result"
    }
   ],
   "source": [
    "# attribute access of column by name\n",
    "sp500.Price"
   ]
  },
  {
   "cell_type": "markdown",
   "metadata": {},
   "source": [
    "## Selecting rows of a DataFrame\n",
    "데이터 프레임의 로우 선택\n",
    "\n",
    "### `.loc[]` \n",
    "`.loc[]` 를 사용하여 인덱스 레이블로 로우를 가져올 수 있다.  \n",
    "또한 레이블 리스트를 사용하여 여러 개의 로우를 가져올 수 있다. "
   ]
  },
  {
   "cell_type": "code",
   "execution_count": 29,
   "metadata": {},
   "outputs": [
    {
     "data": {
      "text/plain": [
       "Sector        Industrials\n",
       "Price              141.14\n",
       "Book Value         26.668\n",
       "Name: MMM, dtype: object"
      ]
     },
     "execution_count": 29,
     "metadata": {},
     "output_type": "execute_result"
    }
   ],
   "source": [
    "# get row with label 'MMM'\n",
    "# returned as a Series\n",
    "sp500.loc['MMM']"
   ]
  },
  {
   "cell_type": "code",
   "execution_count": 30,
   "metadata": {},
   "outputs": [
    {
     "data": {
      "text/plain": [
       "                        Sector   Price  Book Value\n",
       "Symbol                                            \n",
       "MMM                Industrials  141.14      26.668\n",
       "MSFT    Information Technology   40.12      10.584"
      ]
     },
     "execution_count": 30,
     "metadata": {},
     "output_type": "execute_result"
    }
   ],
   "source": [
    "# rows with label 'MMM' and 'MSFT'\n",
    "# this is a DataFrame result\n",
    "sp500.loc[['MMM', 'MSFT']]"
   ]
  },
  {
   "cell_type": "markdown",
   "metadata": {},
   "source": [
    "### `.iloc[]` \n",
    "`.iloc[]`를 사용하여 포지션으로 로우를 가져올 수 있다.  \n",
    "특정 인덱스 레이블로 위치를 먼저 알아낸 다음, 그 포지션으로 로우를 가져오는 일도 가능하다. "
   ]
  },
  {
   "cell_type": "code",
   "execution_count": 31,
   "metadata": {},
   "outputs": [
    {
     "data": {
      "text/plain": [
       "             Sector   Price  Book Value\n",
       "Symbol                                 \n",
       "MMM     Industrials  141.14      26.668\n",
       "ABBV    Health Care   53.95       2.954"
      ]
     },
     "execution_count": 31,
     "metadata": {},
     "output_type": "execute_result"
    }
   ],
   "source": [
    "# get rows in location 0 and 2\n",
    "sp500.iloc[[0, 2]]"
   ]
  },
  {
   "cell_type": "code",
   "execution_count": 32,
   "metadata": {},
   "outputs": [
    {
     "data": {
      "text/plain": [
       "(0, 10)"
      ]
     },
     "execution_count": 32,
     "metadata": {},
     "output_type": "execute_result"
    }
   ],
   "source": [
    "# get the location of 'MMM' and A in the index\n",
    "i1 = sp500.index.get_loc('MMM')\n",
    "i2 = sp500.index.get_loc('A')\n",
    "(i1, i2)"
   ]
  },
  {
   "cell_type": "code",
   "execution_count": 33,
   "metadata": {},
   "outputs": [
    {
     "data": {
      "text/plain": [
       "             Sector   Price  Book Value\n",
       "Symbol                                 \n",
       "MMM     Industrials  141.14      26.668\n",
       "A       Health Care   56.18      16.928"
      ]
     },
     "execution_count": 33,
     "metadata": {},
     "output_type": "execute_result"
    }
   ],
   "source": [
    "# and get the rows\n",
    "sp500.iloc[[i1, i2]]"
   ]
  },
  {
   "cell_type": "markdown",
   "metadata": {},
   "source": [
    "## Scalar lookup by label or location using `.at[]` and `.iat[]`\n",
    "`.at[index_label, column_name]` 이나 `.iat[index_position, column_position]` 을 사용해 레이블이나 위치로 스칼라 검색\n",
    "\n",
    "개별 스칼라 값은 `.at[]`에 로우 레이블과 칼럼명을 넣어 검색할 수 있다.  \n",
    "또한 `.iat[]`에는 로우와 칼럼의 포지션을 넣어 검색할 수 있으며, 이는 단일 값에 접근하고자 할 때 선호되는 고성능의 방법이다.  \n"
   ]
  },
  {
   "cell_type": "code",
   "execution_count": 34,
   "metadata": {},
   "outputs": [
    {
     "data": {
      "text/plain": [
       "141.14"
      ]
     },
     "execution_count": 34,
     "metadata": {},
     "output_type": "execute_result"
    }
   ],
   "source": [
    "# by label in both the index and column\n",
    "sp500.at['MMM', 'Price']"
   ]
  },
  {
   "cell_type": "code",
   "execution_count": 35,
   "metadata": {},
   "outputs": [
    {
     "data": {
      "text/plain": [
       "141.14"
      ]
     },
     "execution_count": 35,
     "metadata": {},
     "output_type": "execute_result"
    }
   ],
   "source": [
    "# by location.  Row 0, column 1\n",
    "sp500.iat[0, 1]"
   ]
  },
  {
   "cell_type": "markdown",
   "metadata": {},
   "source": [
    "## Slicing using the `[]` operator\n",
    "`[]` 연산자를 사용한 슬라이싱\n",
    "\n",
    "DataFrame을 '인덱스 기준'으로 슬라이싱하는 방법은 Series일 때와 문법적으로 동일하나, DataFrame에서만 적용할 수 있는 몇 가지가 있다.  \n",
    "또한 DataFrame의 슬라이싱 역시 `.iloc[]`과 `.loc[]`를 사용할 수 있으며, 이 속성(attribute)들을 사용하는 것이 가장 바람직하다.  \n",
    "\n",
    "1. 처음 5 로우 선택"
   ]
  },
  {
   "cell_type": "code",
   "execution_count": 36,
   "metadata": {},
   "outputs": [
    {
     "data": {
      "text/plain": [
       "                        Sector   Price  Book Value\n",
       "Symbol                                            \n",
       "MMM                Industrials  141.14      26.668\n",
       "ABT                Health Care   39.60      15.573\n",
       "ABBV               Health Care   53.95       2.954\n",
       "ACN     Information Technology   79.79       8.326\n",
       "ACE                 Financials  102.91      86.897"
      ]
     },
     "execution_count": 36,
     "metadata": {},
     "output_type": "execute_result"
    }
   ],
   "source": [
    "# first five rows\n",
    "sp500[:5]"
   ]
  },
  {
   "cell_type": "markdown",
   "metadata": {},
   "source": [
    "2. 레이블 'ABT' 부터 레이블 'ACN' 까지 선택"
   ]
  },
  {
   "cell_type": "code",
   "execution_count": 38,
   "metadata": {},
   "outputs": [
    {
     "data": {
      "text/plain": [
       "                        Sector  Price  Book Value\n",
       "Symbol                                           \n",
       "ABT                Health Care  39.60      15.573\n",
       "ABBV               Health Care  53.95       2.954\n",
       "ACN     Information Technology  79.79       8.326"
      ]
     },
     "execution_count": 38,
     "metadata": {},
     "output_type": "execute_result"
    }
   ],
   "source": [
    "# 'ABT' through 'ACN' labels\n",
    "sp500['ABT':'ACN']"
   ]
  },
  {
   "cell_type": "markdown",
   "metadata": {},
   "source": [
    "\\+ `loc[]`와 `iloc[]`를 사용하는 방법"
   ]
  },
  {
   "cell_type": "code",
   "execution_count": 47,
   "metadata": {},
   "outputs": [
    {
     "data": {
      "text/plain": [
       "                        Sector  Price\n",
       "Symbol                               \n",
       "ABT                Health Care  39.60\n",
       "ABBV               Health Care  53.95\n",
       "ACN     Information Technology  79.79"
      ]
     },
     "execution_count": 47,
     "metadata": {},
     "output_type": "execute_result"
    }
   ],
   "source": [
    "sp500.loc['ABT':'ACN', :'Price']"
   ]
  },
  {
   "cell_type": "code",
   "execution_count": 49,
   "metadata": {},
   "outputs": [
    {
     "data": {
      "text/plain": [
       "                        Sector  Price\n",
       "Symbol                               \n",
       "ABBV               Health Care  53.95\n",
       "ACN     Information Technology  79.79"
      ]
     },
     "execution_count": 49,
     "metadata": {},
     "output_type": "execute_result"
    }
   ],
   "source": [
    "sp500.iloc[2:4, :2]"
   ]
  },
  {
   "cell_type": "markdown",
   "metadata": {},
   "source": [
    "# Selecting rows using Boolean selection"
   ]
  },
  {
   "cell_type": "code",
   "execution_count": 35,
   "metadata": {},
   "outputs": [
    {
     "data": {
      "text/plain": [
       "Symbol\n",
       "MMM     False\n",
       "ABT      True\n",
       "ABBV     True\n",
       "ACN      True\n",
       "ACE     False\n",
       "        ...  \n",
       "YHOO     True\n",
       "YUM      True\n",
       "ZMH     False\n",
       "ZION     True\n",
       "ZTS      True\n",
       "Name: Price, Length: 500, dtype: bool"
      ]
     },
     "execution_count": 35,
     "metadata": {},
     "output_type": "execute_result"
    }
   ],
   "source": [
    "# what rows have a price < 100?\n",
    "sp500.Price < 100"
   ]
  },
  {
   "cell_type": "code",
   "execution_count": 36,
   "metadata": {},
   "outputs": [
    {
     "data": {
      "text/plain": [
       "                        Sector  Price  Book Value\n",
       "Symbol                                           \n",
       "ABT                Health Care  39.60      15.573\n",
       "ABBV               Health Care  53.95       2.954\n",
       "ACN     Information Technology  79.79       8.326\n",
       "ADBE    Information Technology  64.30      13.262\n",
       "AES                  Utilities  13.61       5.781\n",
       "...                        ...    ...         ...\n",
       "XYL                Industrials  38.42      12.127\n",
       "YHOO    Information Technology  35.02      12.768\n",
       "YUM     Consumer Discretionary  74.77       5.147\n",
       "ZION                Financials  28.43      30.191\n",
       "ZTS                Health Care  30.53       2.150\n",
       "\n",
       "[407 rows x 3 columns]"
      ]
     },
     "execution_count": 36,
     "metadata": {},
     "output_type": "execute_result"
    }
   ],
   "source": [
    "# now get the rows with Price < 100\n",
    "sp500[sp500.Price < 100]"
   ]
  },
  {
   "cell_type": "code",
   "execution_count": 37,
   "metadata": {},
   "outputs": [
    {
     "data": {
      "text/plain": [
       "Symbol\n",
       "HCBK    9.80\n",
       "HBAN    9.10\n",
       "SLM     8.82\n",
       "WIN     9.38\n",
       "Name: Price, dtype: float64"
      ]
     },
     "execution_count": 37,
     "metadata": {},
     "output_type": "execute_result"
    }
   ],
   "source": [
    "# get only the Price where Price is < 10 and > 0\n",
    "r = sp500[(sp500.Price < 10) & \n",
    "          (sp500.Price > 6)] ['Price']\n",
    "r"
   ]
  },
  {
   "cell_type": "code",
   "execution_count": 38,
   "metadata": {},
   "outputs": [
    {
     "data": {
      "text/plain": [
       "         Price       Sector\n",
       "Symbol                     \n",
       "ACT     213.77  Health Care\n",
       "ALXN    162.30  Health Care\n",
       "AGN     166.92  Health Care\n",
       "AMGN    114.33  Health Care\n",
       "BCR     146.62  Health Care\n",
       "...        ...          ...\n",
       "REGN    297.77  Health Care\n",
       "TMO     115.74  Health Care\n",
       "WAT     100.54  Health Care\n",
       "WLP     108.82  Health Care\n",
       "ZMH     101.84  Health Care\n",
       "\n",
       "[19 rows x 2 columns]"
      ]
     },
     "execution_count": 38,
     "metadata": {},
     "output_type": "execute_result"
    }
   ],
   "source": [
    "# price > 100 and in the Health Care Sector\n",
    "r = sp500[(sp500.Sector == 'Health Care') & \n",
    "          (sp500.Price > 100.00)] [['Price', 'Sector']]\n",
    "r"
   ]
  },
  {
   "cell_type": "markdown",
   "metadata": {},
   "source": [
    "# Selecting across both rows and columns"
   ]
  },
  {
   "cell_type": "code",
   "execution_count": 39,
   "metadata": {},
   "outputs": [
    {
     "data": {
      "text/plain": [
       "             Sector  Price\n",
       "Symbol                    \n",
       "ABT     Health Care  39.60\n",
       "ZTS     Health Care  30.53"
      ]
     },
     "execution_count": 39,
     "metadata": {},
     "output_type": "execute_result"
    }
   ],
   "source": [
    "# select the price and sector columns for ABT and ZTS\n",
    "sp500.loc[['ABT', 'ZTS']][['Sector', 'Price']]"
   ]
  },
  {
   "cell_type": "code",
   "execution_count": null,
   "metadata": {
    "collapsed": true
   },
   "outputs": [],
   "source": []
  }
 ],
 "metadata": {
  "anaconda-cloud": {},
  "kernelspec": {
   "display_name": "Python 3 (ipykernel)",
   "language": "python",
   "name": "python3"
  },
  "language_info": {
   "codemirror_mode": {
    "name": "ipython",
    "version": 3
   },
   "file_extension": ".py",
   "mimetype": "text/x-python",
   "name": "python",
   "nbconvert_exporter": "python",
   "pygments_lexer": "ipython3",
   "version": "3.8.5"
  },
  "latex_envs": {
   "LaTeX_envs_menu_present": true,
   "autoclose": true,
   "autocomplete": true,
   "bibliofile": "biblio.bib",
   "cite_by": "apalike",
   "current_citInitial": 1,
   "eqLabelWithNumbers": true,
   "eqNumInitial": 1,
   "hotkeys": {
    "equation": "Ctrl-E",
    "itemize": "Ctrl-I"
   },
   "labels_anchors": false,
   "latex_user_defs": false,
   "report_style_numbering": false,
   "user_envs_cfg": false
  },
  "toc": {
   "base_numbering": 1,
   "nav_menu": {},
   "number_sections": true,
   "sideBar": true,
   "skip_h1_title": false,
   "title_cell": "Table of Contents",
   "title_sidebar": "Contents",
   "toc_cell": true,
   "toc_position": {},
   "toc_section_display": true,
   "toc_window_display": true
  }
 },
 "nbformat": 4,
 "nbformat_minor": 1
}

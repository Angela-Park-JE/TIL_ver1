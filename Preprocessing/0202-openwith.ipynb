{
 "cells": [
  {
   "cell_type": "markdown",
   "metadata": {},
   "source": [
    "# Chapter 3 -02. open을 사용한 파일 입출력\n",
    "\n",
    "txt, csv, tsv 파일을 불러오는 방법을 알아보자.  \n",
    "\n",
    "---\n",
    "\n",
    "## open 함수 이용하기\n",
    "파이썬의 내장 함수인 open 함수를 사용하면 파일을 손쉽게 불러올 수 있다.  \n",
    "`파일객체 = open(파일 경로 및 이름, 모드)`  \n",
    "\n",
    "정제되지 않은 형태의 데이터를 불러오는 경우에 주로 사용한다.  \n",
    "\n",
    "모드에는 크게 r(default), w, a가 있다.  \n",
    "> r: 읽기 (기존 파일을 읽어옴)  \n",
    "w : 쓰기 (새로운 파일을 생성하여 씀. 같은 파일이 있으면 새로운 내용으로 덮어씀.)  \n",
    "a : 추가하기 (기존 파일에 새로운 내용을 씀)  \n",
    "\n",
    "파일 객체는 사용 후에 close 함수를 사용하여 닫아줘야 함 (참고: with 구문)  \n",
    "\n",
    "\n",
    "\n",
    "\n",
    "## read 와 readline을 이용하여 데이터 불러오기\n",
    "\n",
    "`f.read()` : 특정 파일에 있는 모든 내용을 불러온다.  \n",
    "(f는 읽어오는 것이기 때문에 반드시 'r', 'rb'(b = binary, binary 타입의 파일을 불러올 때.) 둘 중 하나로 불러와야 함)  \n",
    "\n",
    "`f.readline()` : 파일 f에 있는 한 줄(엔터 즉 \\n 기준 및 포함)을 불러온다.  \n",
    "(f는 반드시 'r', 'rb'로 불러와야 한다.)  \n",
    "\n",
    "read(), readline()의 결과물은 string type이기 때문에 문자열 관련 함수를 숙지해야 한다.  \n",
    "> str.split(sep) : str 을 sep 기준으로 분할하여 리스트로 변환한다.  \n",
    "(`'a-b-c'.split('-')` = ['a', 'b', 'c']). \n",
    "map(함수, L) : literable 한 객체 L체 함수를 일괄 적용한다.  \n",
    "\n",
    "\n",
    "\n",
    "\n",
    "## open\n",
    "\n",
    "### os.chdir 로 경로 설정하기"
   ]
  },
  {
   "cell_type": "code",
   "execution_count": 1,
   "metadata": {},
   "outputs": [],
   "source": [
    "import os\n",
    "os.chdir(r\"/Users/Angela/Desktop/과속대학쿠쿠루/1. 데이터 핸들링/데이터\")"
   ]
  },
  {
   "cell_type": "markdown",
   "metadata": {},
   "source": [
    "### read()를 이용한 데이터 불러오기\n",
    "\n",
    "불러온 뒤에는 쓸모가 없으므로 반드시 닫아준다.  \n",
    "\n",
    "`\n",
    "f = open(\"data_reading.csv\", \"r\")\n",
    "data = f.read() \n",
    "f.close()\n",
    "data[:1000]\n",
    "`"
   ]
  },
  {
   "cell_type": "code",
   "execution_count": 2,
   "metadata": {},
   "outputs": [],
   "source": [
    "# data 불러오기\n",
    "f = open('data_reading.csv', 'r')"
   ]
  },
  {
   "cell_type": "code",
   "execution_count": 4,
   "metadata": {},
   "outputs": [],
   "source": [
    "# data 읽기\n",
    "data = f.read()"
   ]
  },
  {
   "cell_type": "code",
   "execution_count": 5,
   "metadata": {},
   "outputs": [],
   "source": [
    "# data 불러온것 닫기\n",
    "f.close()"
   ]
  },
  {
   "cell_type": "code",
   "execution_count": 6,
   "metadata": {},
   "outputs": [
    {
     "data": {
      "text/plain": [
       "'Col1,Col2,Col3,Col4,Col5\\n0.18888809146420238,0.16105292892696288,0.1504127702525998,0.8247702147554103,0.11183287230275862\\n0.8277194258724868,0.16136254345104883,0.400331159000502,0.3981961133865768,0.7706960076672201\\n0.844660181886513,0.10099782620549302,0.995176205519609,0.6155252896856449,0.8783894199796791\\n0.9138952685419564,0.036168779255092876,0.2378403402407797,0.18762834416630736,0.5343081969025114\\n0.32244342400394976,0.9550099806308116,0.3407646382285975,0.6493109172840262,0.35453974816238576\\n0.3306251110157733,0.6720388851049659,0.10938064887311616,0.07568233209352304,0.9169313724492655\\n0.24768623373487852,0.6864049104199853,0.7279423564551321,0.07051655013435276,0.5932367728578449\\n0.5457259900662517,0.8259997208239563,0.222939569582428,0.5272524587280554,0.9494463062496303\\n0.45737316471560596,0.6199415331357327,0.9979776426734485,0.3682306861093537,0.41162690950241676\\n0.8637387893511083,0.685755037957085,0.7069687998728162,0.7456995967962297,0.2888004054518888\\n0.673202517826'"
      ]
     },
     "execution_count": 6,
     "metadata": {},
     "output_type": "execute_result"
    }
   ],
   "source": [
    "# data 출력 - 1000개글자\n",
    "data[:1000]"
   ]
  },
  {
   "cell_type": "markdown",
   "metadata": {},
   "source": [
    "## list comprehension을 이용한 데이터 정제\n",
    "\n",
    "이용 가능한 sheet형태로 바꾸기 위해서 리스트 컴프리헨션을 사용한다.  \n",
    "\n",
    "숫자로 바꿀 수 있는 것은 바꾸기 위한 함수 (첫 줄에는 문자이므로)\n",
    "```\n",
    "def make_float(x):\n",
    "    try:\n",
    "        return float(x)\n",
    "    except:\n",
    "        return x\n",
    "\n",
    "data = [[make_float(value) for value in line.split(',')] for line in data.split('\\n')]\n",
    "data\n",
    "```\n",
    "\n",
    "##### 위와 같은 함수는 for 문으로 이렇게 작성이 가능하다\n",
    "\n",
    "```\n",
    "new_data = []\n",
    "for line in data.split('\\n'):\n",
    "    new_line = []\n",
    "    for value in line.split('.'):\n",
    "        new_line.append(make_float(value))\n",
    "    new_data.append(new_line)\n",
    "```"
   ]
  },
  {
   "cell_type": "code",
   "execution_count": 10,
   "metadata": {},
   "outputs": [],
   "source": [
    "# 실수로 바꿀 수 있는 것은 바꿀 수 있도록 함수 정의\n",
    "def make_float(x):\n",
    "    try:\n",
    "        return float(x)\n",
    "    except:\n",
    "        return x"
   ]
  },
  {
   "cell_type": "code",
   "execution_count": 11,
   "metadata": {},
   "outputs": [],
   "source": [
    "# 불러온 데이터를 줄바꿈 하고, 잘라서, float으로 바꾸는 과정\n",
    "data = [[make_float(value) for value in line.split(',')] for line in data.split('\\n')]"
   ]
  },
  {
   "cell_type": "code",
   "execution_count": 13,
   "metadata": {
    "scrolled": true
   },
   "outputs": [
    {
     "data": {
      "text/plain": [
       "[['Col1', 'Col2', 'Col3', 'Col4', 'Col5'],\n",
       " [0.18888809146420238,\n",
       "  0.16105292892696288,\n",
       "  0.1504127702525998,\n",
       "  0.8247702147554103,\n",
       "  0.11183287230275862],\n",
       " [0.8277194258724868,\n",
       "  0.16136254345104883,\n",
       "  0.400331159000502,\n",
       "  0.3981961133865768,\n",
       "  0.7706960076672201],\n",
       " [0.844660181886513,\n",
       "  0.10099782620549302,\n",
       "  0.995176205519609,\n",
       "  0.6155252896856449,\n",
       "  0.8783894199796791],\n",
       " [0.9138952685419564,\n",
       "  0.036168779255092876,\n",
       "  0.2378403402407797,\n",
       "  0.18762834416630736,\n",
       "  0.5343081969025114],\n",
       " [0.32244342400394976,\n",
       "  0.9550099806308116,\n",
       "  0.3407646382285975,\n",
       "  0.6493109172840262,\n",
       "  0.35453974816238576],\n",
       " [0.3306251110157733,\n",
       "  0.6720388851049659,\n",
       "  0.10938064887311616,\n",
       "  0.07568233209352304,\n",
       "  0.9169313724492655],\n",
       " [0.24768623373487852,\n",
       "  0.6864049104199853,\n",
       "  0.7279423564551321,\n",
       "  0.07051655013435276,\n",
       "  0.5932367728578449],\n",
       " [0.5457259900662517,\n",
       "  0.8259997208239563,\n",
       "  0.222939569582428,\n",
       "  0.5272524587280554,\n",
       "  0.9494463062496303],\n",
       " [0.45737316471560596,\n",
       "  0.6199415331357327,\n",
       "  0.9979776426734485,\n",
       "  0.3682306861093537,\n",
       "  0.41162690950241676]]"
      ]
     },
     "execution_count": 13,
     "metadata": {},
     "output_type": "execute_result"
    }
   ],
   "source": [
    "data[:10]"
   ]
  },
  {
   "cell_type": "code",
   "execution_count": null,
   "metadata": {},
   "outputs": [],
   "source": [
    "# 같은 동작의 함수\n",
    "\n",
    "# new_data = []\n",
    "# for line in data.split('\\n'):\n",
    "#     lines = []\n",
    "#     for value in line.split(','):\n",
    "#         new_line.append(make_float(value))\n",
    "#     new_data.append(lines)"
   ]
  },
  {
   "cell_type": "markdown",
   "metadata": {},
   "source": [
    "## readline을 이용한 데이터 불러오기\n",
    "\n",
    "참고!!!  \n",
    "`realine()` 을 한 번 썼을 때, 그 다음 `readline()`을 쓰면 다음 줄을 읽어오게 된다.  \n",
    "엔터 기준으로 자르는 것은 맞지만, 엔터를 포함시켜 가져오는 것을 잊으면 안된다.  \n",
    "\n",
    "file이 어떻게 구성되어있는지 알고 있을 때 쓰면 편리한 것으로 보인다.(첫 줄이 구분이 되어있고, 다음 데이터에서는 줄바꿈으로 구분되어있지 않다는 것을 알고있어야 하는 부분)  \n",
    "\n",
    "실습 코드  \n",
    "```\n",
    "f = open(\"data_reading.csv\", \"r\")\n",
    "header = f.readline() # 첫 번째 row를 읽어옴\n",
    "data = []\n",
    "\n",
    "line = f.readline() # 두 번째 row를 읽음\n",
    "while line: # line이 빈 문자열이 될 때까지\n",
    "    data.append(list(map(float, line.split(',')))) \n",
    "                        # float 함수 때문에 엔터가 삭제됨\n",
    "    line = f.readline()\n",
    "f.close()\n",
    "```"
   ]
  },
  {
   "cell_type": "code",
   "execution_count": 15,
   "metadata": {},
   "outputs": [],
   "source": [
    "f = open('data_reading.csv', 'r')\n",
    "header = f.readline()        # 첫 줄을 따로 읽어옴"
   ]
  },
  {
   "cell_type": "code",
   "execution_count": 16,
   "metadata": {},
   "outputs": [
    {
     "data": {
      "text/plain": [
       "'Col1,Col2,Col3,Col4,Col5\\n'"
      ]
     },
     "execution_count": 16,
     "metadata": {},
     "output_type": "execute_result"
    }
   ],
   "source": [
    "header"
   ]
  },
  {
   "cell_type": "code",
   "execution_count": 17,
   "metadata": {},
   "outputs": [],
   "source": [
    "data = []\n",
    "line = f.readline()          # 두 번째 줄을 읽어옴, 여기서는 \n",
    "while line:\n",
    "    data.append(list(map(float, line.split(','))))\n",
    "    line = f.readline()      # 루프 종료 즉 불러온 것이 line이 아닐때, 모두 불렀을 때\n",
    "f.close()"
   ]
  },
  {
   "cell_type": "code",
   "execution_count": 20,
   "metadata": {
    "scrolled": true
   },
   "outputs": [
    {
     "data": {
      "text/plain": [
       "[[0.18888809146420238,\n",
       "  0.16105292892696288,\n",
       "  0.1504127702525998,\n",
       "  0.8247702147554103,\n",
       "  0.11183287230275862],\n",
       " [0.8277194258724868,\n",
       "  0.16136254345104883,\n",
       "  0.400331159000502,\n",
       "  0.3981961133865768,\n",
       "  0.7706960076672201],\n",
       " [0.844660181886513,\n",
       "  0.10099782620549302,\n",
       "  0.995176205519609,\n",
       "  0.6155252896856449,\n",
       "  0.8783894199796791],\n",
       " [0.9138952685419564,\n",
       "  0.036168779255092876,\n",
       "  0.2378403402407797,\n",
       "  0.18762834416630736,\n",
       "  0.5343081969025114],\n",
       " [0.32244342400394976,\n",
       "  0.9550099806308116,\n",
       "  0.3407646382285975,\n",
       "  0.6493109172840262,\n",
       "  0.35453974816238576],\n",
       " [0.3306251110157733,\n",
       "  0.6720388851049659,\n",
       "  0.10938064887311616,\n",
       "  0.07568233209352304,\n",
       "  0.9169313724492655],\n",
       " [0.24768623373487852,\n",
       "  0.6864049104199853,\n",
       "  0.7279423564551321,\n",
       "  0.07051655013435276,\n",
       "  0.5932367728578449],\n",
       " [0.5457259900662517,\n",
       "  0.8259997208239563,\n",
       "  0.222939569582428,\n",
       "  0.5272524587280554,\n",
       "  0.9494463062496303],\n",
       " [0.45737316471560596,\n",
       "  0.6199415331357327,\n",
       "  0.9979776426734485,\n",
       "  0.3682306861093537,\n",
       "  0.41162690950241676],\n",
       " [0.8637387893511083,\n",
       "  0.685755037957085,\n",
       "  0.7069687998728162,\n",
       "  0.7456995967962297,\n",
       "  0.2888004054518888]]"
      ]
     },
     "execution_count": 20,
     "metadata": {},
     "output_type": "execute_result"
    }
   ],
   "source": [
    "data[:10]"
   ]
  },
  {
   "cell_type": "markdown",
   "metadata": {},
   "source": [
    "\n",
    "## write를 이용한 데이터 쓰기\n",
    "\n",
    "f.write(str) : string을 파일 f에 쓴다. 숫자나 리스트와 같은 자료형은 writing 을 할 수 없다.  \n",
    "(f는 반드시 'w', 'a'로 불러와야 함)  \n",
    "\n",
    "리스트 등을 string으로 변환하는 join 함수를 활용하면 효율적으로 파일을 쓸 수 있다.  \n",
    "> `sep.join(list)`:  list의 문자열 요소들을 구분자 sep으로 연결  \n",
    " 예시: `'-'.join(['a', 'b', 'c']) ` = 'a-b-c' \n"
   ]
  },
  {
   "cell_type": "markdown",
   "metadata": {},
   "source": [
    "들여쓰기가 유지되는 부분 까지만 f를 불러놓는 상황을 만드는 것을 with open!  \n",
    "\n",
    "잠시 불러와서 필요한 작업을 하고 닫는 작업을 할 때 자주 쓴다.  \n",
    "\n",
    "즉 with open 한 줄이 open과 close를 다 한 것과 같다. \n",
    "```\n",
    "#f = open(\"written_data.csv\", \"w\")\n",
    "\n",
    "with open(\"written_data.csv\", \"w\") as f:\n",
    "    f.write(header)\n",
    "    for line in data:\n",
    "        f.write(','.join(list(map(str, line))))\n",
    "        f.write('\\n')\n",
    "\n",
    "#f.close()\n",
    "```"
   ]
  },
  {
   "cell_type": "code",
   "execution_count": 21,
   "metadata": {},
   "outputs": [
    {
     "data": {
      "text/plain": [
       "[0.844660181886513,\n",
       " 0.10099782620549302,\n",
       " 0.995176205519609,\n",
       " 0.6155252896856449,\n",
       " 0.8783894199796791]"
      ]
     },
     "execution_count": 21,
     "metadata": {},
     "output_type": "execute_result"
    }
   ],
   "source": [
    "data[2]"
   ]
  },
  {
   "cell_type": "code",
   "execution_count": 23,
   "metadata": {},
   "outputs": [
    {
     "data": {
      "text/plain": [
       "['0.844660181886513',\n",
       " '0.10099782620549302',\n",
       " '0.995176205519609',\n",
       " '0.6155252896856449',\n",
       " '0.8783894199796791']"
      ]
     },
     "execution_count": 23,
     "metadata": {},
     "output_type": "execute_result"
    }
   ],
   "source": [
    "list(map(str, data[2]))"
   ]
  },
  {
   "cell_type": "code",
   "execution_count": 24,
   "metadata": {},
   "outputs": [
    {
     "data": {
      "text/plain": [
       "'0.844660181886513,0.10099782620549302,0.995176205519609,0.6155252896856449,0.8783894199796791'"
      ]
     },
     "execution_count": 24,
     "metadata": {},
     "output_type": "execute_result"
    }
   ],
   "source": [
    "example = ','.join(list(map(str, data[2])))\n",
    "example"
   ]
  },
  {
   "cell_type": "code",
   "execution_count": 25,
   "metadata": {},
   "outputs": [],
   "source": [
    "with open('written_data.csv', 'w') as f:\n",
    "    f.write(header)    # 보통 header를 쓰고 줄바꿈 기호를 넣는다. \n",
    "                       # 우리는 이미 있는 상황이라 따로 쓰지 않는다.\n",
    "    for line in data:  # data 가 각각 다 리스트이므로,\n",
    "        f.write(','.join(list(map(str, line)))) \n",
    "                       # 모두 실수로 바꿨었기에 다시 str으로 바꾼 후 이어붙임\n",
    "        f.write('\\n')"
   ]
  }
 ],
 "metadata": {
  "kernelspec": {
   "display_name": "Python 3 (ipykernel)",
   "language": "python",
   "name": "python3"
  },
  "language_info": {
   "codemirror_mode": {
    "name": "ipython",
    "version": 3
   },
   "file_extension": ".py",
   "mimetype": "text/x-python",
   "name": "python",
   "nbconvert_exporter": "python",
   "pygments_lexer": "ipython3",
   "version": "3.8.5"
  },
  "toc": {
   "base_numbering": 1,
   "nav_menu": {},
   "number_sections": true,
   "sideBar": true,
   "skip_h1_title": false,
   "title_cell": "Table of Contents",
   "title_sidebar": "Contents",
   "toc_cell": false,
   "toc_position": {},
   "toc_section_display": true,
   "toc_window_display": false
  }
 },
 "nbformat": 4,
 "nbformat_minor": 2
}

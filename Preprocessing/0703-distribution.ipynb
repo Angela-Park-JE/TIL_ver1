{
 "cells": [
  {
   "cell_type": "markdown",
   "metadata": {},
   "source": [
    "# Ch 9-4. 분포 통계량\n",
    "\n",
    "## 백분위수와 사분위수\n",
    "백분위수(percentile) : 데이터를 크기 순서대로 오름차순 정렬했을 때, 뱁ㄱ분율로 나타낸 특정 위치의 값을 의미  \n",
    "\n",
    "사분위수(quantile) : 데이터를 크기 순서대로 오름차순 정렬했을 때, 4등분한 위치의 값을 의미  \n",
    "엄밀히 따지면 사분위수가 백분위수 안에 포함되지만, 일반적으로 사분위수를 더 많이 본다. \n",
    "\n",
    "## 파이썬을 이용한 백분위수와 사분위수 계산\n",
    "\n",
    "```\n",
    "numpy.percentile(values, q)\n",
    "numpy.quantile(values, q)\n",
    "# q = 위치 (0~100, 0~1.0)\n",
    "```"
   ]
  },
  {
   "cell_type": "code",
   "execution_count": 1,
   "metadata": {},
   "outputs": [],
   "source": [
    "import numpy as np\n",
    "from scipy.stats import *\n",
    "import pandas as pd"
   ]
  },
  {
   "cell_type": "code",
   "execution_count": 2,
   "metadata": {},
   "outputs": [
    {
     "name": "stdout",
     "output_type": "stream",
     "text": [
      "[ 1  2  3  4  5  6  7  8  9 10 11]\n"
     ]
    }
   ],
   "source": [
    "x = np.arange(1, 12, 1)\n",
    "print(x)"
   ]
  },
  {
   "cell_type": "markdown",
   "metadata": {},
   "source": [
    "### 백분위수와 사분위수\n",
    "\n",
    "같은 위치를 정하면 사실상 같다. \n",
    "\n",
    "또한 특정 위치에 데이터 값이 없으면 근접한 데이터 포인트의 중간값을 주기 때문에 실제 그 값이 없을 수도 있다는 점 유의하자."
   ]
  },
  {
   "cell_type": "code",
   "execution_count": 3,
   "metadata": {},
   "outputs": [
    {
     "name": "stdout",
     "output_type": "stream",
     "text": [
      "2.0\n",
      "2.0\n"
     ]
    }
   ],
   "source": [
    "print(np.percentile(x, 10))\n",
    "print(np.quantile(x, 0.1))"
   ]
  },
  {
   "cell_type": "code",
   "execution_count": 4,
   "metadata": {},
   "outputs": [
    {
     "name": "stdout",
     "output_type": "stream",
     "text": [
      "3.5\n",
      "3.5\n"
     ]
    }
   ],
   "source": [
    "print(np.percentile(x, 25))\n",
    "print(np.quantile(x, 0.25))"
   ]
  },
  {
   "cell_type": "markdown",
   "metadata": {},
   "source": [
    "# 왜도와 첨도\n",
    "\n",
    "왜도(skewness) : 분포의 비대칭도를 나타내는 통계량.  \n",
    "왜도가 음수면 오른쪽으로 치우친 것을 의미하며, 양수면 왼쪽으로 치우침을 의미한다.  \n",
    "0이면 정규분포의 형태를 띠며, 절대값이 1.5 이상이면 치우친 것으로 본다.  \n",
    "\n",
    "첨도(kurtosis) : 데이터 분포가 얼마나 뾰족한지를 의미함.  \n",
    "즉 첨도가 높을 수록 이 변수가 좁은 범위에 많은 값들이 몰려 있다고 할 수 있다.  \n",
    "3이면 정규분포, 그 이상이면 뾰족하고 이하면 덜 뾰족한 것으로 본다.  \n",
    "\n",
    "\n",
    "## 파이썬을 활용한 왜도, 첨도 계산\n",
    "\n",
    "```\n",
    "# skewness\n",
    "scipy.stats.skew(values)\n",
    "Series(values).skew()\n",
    "\n",
    "# kurtosis\n",
    "scipy.stats.kurtosis(values)\n",
    "Series(values).kurtosis()\n",
    "```"
   ]
  },
  {
   "cell_type": "code",
   "execution_count": 5,
   "metadata": {},
   "outputs": [],
   "source": [
    "# 그래프를 그리기위한 matplotlib import\n",
    "%matplotlib inline\n",
    "from matplotlib import pyplot as plt\n",
    "\n",
    "# 값 지정\n",
    "x1 = [1] * 30 + [2] * 20 + [3] * 20 + [4] * 15 + [5] * 15 # 좌측으로 치우침\n",
    "x2 = [1] * 15 + [2] * 20 + [3] * 30 + [4] * 20 + [5] * 15 # 치우치지 않음\n",
    "x3 = [1] * 15 + [2] * 15 + [3] * 20 + [4] * 20 + [5] * 30 # 우측으로 치우침"
   ]
  },
  {
   "cell_type": "code",
   "execution_count": 6,
   "metadata": {},
   "outputs": [
    {
     "data": {
      "text/plain": [
       "1    30\n",
       "2    20\n",
       "3    20\n",
       "4    15\n",
       "5    15\n",
       "dtype: int64"
      ]
     },
     "execution_count": 6,
     "metadata": {},
     "output_type": "execute_result"
    }
   ],
   "source": [
    "# 값 확인\n",
    "pd.Series(x1).value_counts(sort = False)"
   ]
  },
  {
   "cell_type": "markdown",
   "metadata": {},
   "source": [
    "### 왜도 시각화\n",
    "\n",
    "`sort = False` 를 해야하는 이유는, 설정하지 않으면 빈도에 따른 정리가 되기 때문이다. 그 전에 원래 데이터 포인트 값별로 순서대로 나올 수 있도록 설정한다.  "
   ]
  },
  {
   "cell_type": "code",
   "execution_count": 7,
   "metadata": {},
   "outputs": [
    {
     "data": {
      "text/plain": [
       "<AxesSubplot:>"
      ]
     },
     "execution_count": 7,
     "metadata": {},
     "output_type": "execute_result"
    },
    {
     "data": {
      "image/png": "[encoded data removed]",
      "text/plain": [
       "<Figure size 432x288 with 1 Axes>"
      ]
     },
     "metadata": {
      "needs_background": "light"
     },
     "output_type": "display_data"
    }
   ],
   "source": [
    "pd.Series(x1).value_counts(sort = False).plot(kind = 'bar')"
   ]
  },
  {
   "cell_type": "code",
   "execution_count": 8,
   "metadata": {},
   "outputs": [
    {
     "data": {
      "text/plain": [
       "<AxesSubplot:>"
      ]
     },
     "execution_count": 8,
     "metadata": {},
     "output_type": "execute_result"
    },
    {
     "data": {
      "image/png": "[encoded data removed]",
      "text/plain": [
       "<Figure size 432x288 with 1 Axes>"
      ]
     },
     "metadata": {
      "needs_background": "light"
     },
     "output_type": "display_data"
    }
   ],
   "source": [
    "pd.Series(x2).value_counts(sort = False).plot(kind = 'bar')"
   ]
  },
  {
   "cell_type": "code",
   "execution_count": 10,
   "metadata": {},
   "outputs": [
    {
     "data": {
      "text/plain": [
       "<AxesSubplot:>"
      ]
     },
     "execution_count": 10,
     "metadata": {},
     "output_type": "execute_result"
    },
    {
     "data": {
      "image/png": "[encoded data removed]",
      "text/plain": [
       "<Figure size 432x288 with 1 Axes>"
      ]
     },
     "metadata": {
      "needs_background": "light"
     },
     "output_type": "display_data"
    }
   ],
   "source": [
    "pd.Series(x3).value_counts(sort = False).plot(kind = 'line')"
   ]
  },
  {
   "cell_type": "markdown",
   "metadata": {},
   "source": [
    "### 왜도 계산\n",
    "\n",
    "셋다 1.5를 넘지 않기 때문에 많이 치우친 것으로 보지는 않는다. "
   ]
  },
  {
   "cell_type": "code",
   "execution_count": 11,
   "metadata": {},
   "outputs": [
    {
     "name": "stdout",
     "output_type": "stream",
     "text": [
      "좌로 치우쳤을 때 왜도: 0.3192801008486361\n",
      "치우치지 않았을 때 왜도: 0.0\n",
      "우로 치우친 왜도: -0.31928010084863606\n"
     ]
    }
   ],
   "source": [
    "print(\"좌로 치우쳤을 때 왜도:\", skew(x1))\n",
    "print(\"치우치지 않았을 때 왜도:\", skew(x2))\n",
    "print(\"우로 치우친 왜도:\", skew(x3))"
   ]
  },
  {
   "cell_type": "markdown",
   "metadata": {},
   "source": [
    "### 첨도 시각화\n",
    "\n",
    "여기서의 `x1`처럼 평평한 분포를 uniform 분포라고 부른다.  "
   ]
  },
  {
   "cell_type": "code",
   "execution_count": 12,
   "metadata": {},
   "outputs": [],
   "source": [
    "x1 = [1] * 20 + [2] * 20 + [3] * 20 + [4] * 20 + [5] * 20 # 전혀 뾰족하지 않음\n",
    "x2 = [1] * 10 + [2] * 20 + [3] * 40 + [4] * 20 + [5] * 10 # 조금 뾰족\n",
    "x3 = [1] * 5 + [2] * 15 + [3] * 60 + [4] * 15 + [5] * 5   # 매우 뾰족"
   ]
  },
  {
   "cell_type": "code",
   "execution_count": 13,
   "metadata": {},
   "outputs": [
    {
     "data": {
      "text/plain": [
       "<AxesSubplot:>"
      ]
     },
     "execution_count": 13,
     "metadata": {},
     "output_type": "execute_result"
    },
    {
     "data": {
      "image/png": "[encoded data removed]",
      "text/plain": [
       "<Figure size 432x288 with 1 Axes>"
      ]
     },
     "metadata": {
      "needs_background": "light"
     },
     "output_type": "display_data"
    }
   ],
   "source": [
    "pd.Series(x1).value_counts(sort = False).plot(kind = 'bar')"
   ]
  },
  {
   "cell_type": "code",
   "execution_count": 14,
   "metadata": {},
   "outputs": [
    {
     "data": {
      "text/plain": [
       "<AxesSubplot:>"
      ]
     },
     "execution_count": 14,
     "metadata": {},
     "output_type": "execute_result"
    },
    {
     "data": {
      "image/png": "[encoded data removed]",
      "text/plain": [
       "<Figure size 432x288 with 1 Axes>"
      ]
     },
     "metadata": {
      "needs_background": "light"
     },
     "output_type": "display_data"
    }
   ],
   "source": [
    "pd.Series(x2).value_counts(sort = False).plot(kind = 'bar')"
   ]
  },
  {
   "cell_type": "code",
   "execution_count": 15,
   "metadata": {},
   "outputs": [
    {
     "data": {
      "text/plain": [
       "<AxesSubplot:>"
      ]
     },
     "execution_count": 15,
     "metadata": {},
     "output_type": "execute_result"
    },
    {
     "data": {
      "image/png": "[encoded data removed]",
      "text/plain": [
       "<Figure size 432x288 with 1 Axes>"
      ]
     },
     "metadata": {
      "needs_background": "light"
     },
     "output_type": "display_data"
    }
   ],
   "source": [
    "pd.Series(x3).value_counts(sort = False).plot(kind = 'bar')"
   ]
  },
  {
   "cell_type": "markdown",
   "metadata": {},
   "source": [
    "### 첨도 계산\n",
    "\n",
    "뾰족해질 수록 첨도가 높아진다. \n",
    "\n",
    "데이터가 범주형이었기 때문에 정규분포인 3에 미치지 못하는 것으로 보이지만. 3이 대부분 기준이 된다."
   ]
  },
  {
   "cell_type": "code",
   "execution_count": 16,
   "metadata": {},
   "outputs": [
    {
     "name": "stdout",
     "output_type": "stream",
     "text": [
      "전혀 뾰족하지 않을 때 (평평할 때) 첨도: -1.3\n",
      "조금 뾰족할 때 첨도: -0.5\n",
      "매우 뾰족할 때 첨도: 0.8775510204081636\n"
     ]
    }
   ],
   "source": [
    "print(\"전혀 뾰족하지 않을 때 (평평할 때) 첨도:\", kurtosis(x1))\n",
    "print(\"조금 뾰족할 때 첨도:\", kurtosis(x2))\n",
    "print(\"매우 뾰족할 때 첨도:\", kurtosis(x3))"
   ]
  }
 ],
 "metadata": {
  "kernelspec": {
   "display_name": "Python 3 (ipykernel)",
   "language": "python",
   "name": "python3"
  },
  "language_info": {
   "codemirror_mode": {
    "name": "ipython",
    "version": 3
   },
   "file_extension": ".py",
   "mimetype": "text/x-python",
   "name": "python",
   "nbconvert_exporter": "python",
   "pygments_lexer": "ipython3",
   "version": "3.8.5"
  },
  "toc": {
   "base_numbering": 1,
   "nav_menu": {},
   "number_sections": true,
   "sideBar": true,
   "skip_h1_title": false,
   "title_cell": "Table of Contents",
   "title_sidebar": "Contents",
   "toc_cell": false,
   "toc_position": {},
   "toc_section_display": true,
   "toc_window_display": false
  }
 },
 "nbformat": 4,
 "nbformat_minor": 2
}

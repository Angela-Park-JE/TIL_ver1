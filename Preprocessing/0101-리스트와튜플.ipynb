{
 "cells": [
  {
   "cell_type": "markdown",
   "metadata": {},
   "source": [
    "# 리스트와 튜플 다루기 함수\n",
    "\n",
    "#### 개요"
   ]
  },
  {
   "cell_type": "code",
   "execution_count": 1,
   "metadata": {},
   "outputs": [
    {
     "name": "stdout",
     "output_type": "stream",
     "text": [
      "[1, 2, 3, 4, 5] ['a', 'b', 'c', 1, 2] [1, 2, [3, 4]]\n"
     ]
    }
   ],
   "source": [
    "# 리스트의 정의\n",
    "\n",
    "L1 = [1, 2, 3, 4, 5]\n",
    "L2 = ['a', 'b', 'c', 1, 2]\n",
    "L3 = [1, 2, [3, 4]]\n",
    "print(L1, L2, L3)"
   ]
  },
  {
   "cell_type": "code",
   "execution_count": 2,
   "metadata": {},
   "outputs": [
    {
     "data": {
      "text/plain": [
       "list"
      ]
     },
     "execution_count": 2,
     "metadata": {},
     "output_type": "execute_result"
    }
   ],
   "source": [
    "type(L1)"
   ]
  },
  {
   "cell_type": "code",
   "execution_count": 3,
   "metadata": {},
   "outputs": [
    {
     "name": "stdout",
     "output_type": "stream",
     "text": [
      "(1, 2, 3, 4, 5) ('a', 'b', 'c', 1, 2) (1, 2, (3, 4))\n"
     ]
    }
   ],
   "source": [
    "# 튜플의 정의\n",
    "\n",
    "T1 = (1, 2, 3, 4, 5)\n",
    "T2 = ('a', 'b', 'c', 1, 2)\n",
    "T3 = (1, 2, (3, 4))\n",
    "print(T1, T2, T3)"
   ]
  },
  {
   "cell_type": "code",
   "execution_count": 4,
   "metadata": {},
   "outputs": [
    {
     "data": {
      "text/plain": [
       "tuple"
      ]
     },
     "execution_count": 4,
     "metadata": {},
     "output_type": "execute_result"
    }
   ],
   "source": [
    "type(T1)"
   ]
  },
  {
   "cell_type": "code",
   "execution_count": 5,
   "metadata": {},
   "outputs": [
    {
     "data": {
      "text/plain": [
       "(1, 2, 3)"
      ]
     },
     "execution_count": 5,
     "metadata": {},
     "output_type": "execute_result"
    }
   ],
   "source": [
    "# 그냥 콤마로 구분하여 쓰면 자동적으로 튜플로 만들어진다.\n",
    "\n",
    "1, 2, 3"
   ]
  },
  {
   "cell_type": "markdown",
   "metadata": {},
   "source": [
    "## 리스트와 튜플의 공통점\n",
    "\n",
    "값의 위치를 가져오는데 인덱스를 쓴다.\n",
    "\n",
    "0 부터 시작하며 뒤에서부터 시작할 때에는 -1 부터 음수로 시작한다."
   ]
  },
  {
   "cell_type": "markdown",
   "metadata": {},
   "source": [
    "### 리스트의 인덱싱과 슬라이싱 .format() 이용하여 표현"
   ]
  },
  {
   "cell_type": "code",
   "execution_count": 6,
   "metadata": {
    "scrolled": true
   },
   "outputs": [
    {
     "name": "stdout",
     "output_type": "stream",
     "text": [
      "L[2] = 1\n",
      "L[4] = 10\n",
      "L[-1] = 6\n",
      "L[0:3] = [4, 5, 1]\n",
      "L[:3] = [4, 5, 1]\n",
      "L[2:] = [1, 2, 10, 6]\n",
      "L[0:4:2] = [4, 1]\n",
      "~~~~2, 4\n"
     ]
    }
   ],
   "source": [
    "# 인덱싱과 슬라이싱\n",
    "# {} 안에 다음 format 이 들어가게 된다.\n",
    "\n",
    "L = [4, 5, 1, 2, 10, 6]\n",
    "\n",
    "print(\"L[2] = {}\".format(L[2]))\n",
    "print(\"L[4] = {}\".format(L[4]))\n",
    "print(\"L[-1] = {}\".format(L[-1]))\n",
    "\n",
    "# 첫번째~3번째 것까지\n",
    "print(\"L[0:3] = {}\".format(L[0:3]))\n",
    "# 자동적으로 첫번째~3번째 것까지\n",
    "print(\"L[:3] = {}\".format(L[:3])) \n",
    "# 자동적으로 두번째~마지막 것까지\n",
    "print(\"L[2:] = {}\".format(L[2:]))\n",
    "# 첫번째~4번째 것까지 한개씩 건너뛰어서\n",
    "print(\"L[0:4:2] = {}\".format(L[0:4:2]))\n",
    "\n",
    "# format 이용하기\n",
    "print(\"~~~~{}, {}\".format(2, 4))"
   ]
  },
  {
   "cell_type": "markdown",
   "metadata": {},
   "source": [
    "### 리스트의 인덱싱과 슬라이싱 for문으로"
   ]
  },
  {
   "cell_type": "code",
   "execution_count": 7,
   "metadata": {},
   "outputs": [
    {
     "name": "stdout",
     "output_type": "stream",
     "text": [
      "List 순회\n",
      "1\n",
      "4\n",
      "9\n",
      "16\n",
      "25\n",
      "Tuple 순회\n",
      "1\n",
      "4\n",
      "9\n",
      "16\n",
      "25\n"
     ]
    }
   ],
   "source": [
    "# for문을 이용한 순회\n",
    "# 각 값들의 제곲값을 출력하기 \n",
    "\n",
    "L = [1, 2, 3, 4, 5]\n",
    "T = (1, 2, 3, 4, 5)\n",
    "\n",
    "print(\"List 순회\")\n",
    "for val in L:\n",
    "    print(val ** 2)\n",
    "\n",
    "print(\"Tuple 순회\")\n",
    "for val in T:\n",
    "    print(val ** 2)"
   ]
  },
  {
   "cell_type": "markdown",
   "metadata": {},
   "source": [
    "## 리스트와 튜플의 차이점\n",
    "\n",
    "리스트는 간단하게 인덱싱을 사용하여 값을 바꿀 수 있다.\n",
    "\n",
    "그러나 튜플은 안의 요소 값을 변경할 수 없다."
   ]
  },
  {
   "cell_type": "code",
   "execution_count": 8,
   "metadata": {},
   "outputs": [
    {
     "name": "stdout",
     "output_type": "stream",
     "text": [
      "[1, 2, 3, 4, 5]\n",
      "[10, 2, 3, 4, 5]\n"
     ]
    }
   ],
   "source": [
    "# 리스트의 요소 변경\n",
    "\n",
    "L = [1, 2, 3, 4, 5]\n",
    "print(L)\n",
    "L[0] = 10\n",
    "print(L)"
   ]
  },
  {
   "cell_type": "code",
   "execution_count": 9,
   "metadata": {},
   "outputs": [
    {
     "ename": "TypeError",
     "evalue": "'tuple' object does not support item assignment",
     "output_type": "error",
     "traceback": [
      "\u001b[0;31m---------------------------------------------------------------------------\u001b[0m",
      "\u001b[0;31mTypeError\u001b[0m                                 Traceback (most recent call last)",
      "Input \u001b[0;32mIn [9]\u001b[0m, in \u001b[0;36m<cell line: 2>\u001b[0;34m()\u001b[0m\n\u001b[1;32m      1\u001b[0m T \u001b[38;5;241m=\u001b[39m (\u001b[38;5;241m1\u001b[39m, \u001b[38;5;241m2\u001b[39m, \u001b[38;5;241m3\u001b[39m, \u001b[38;5;241m4\u001b[39m, \u001b[38;5;241m5\u001b[39m)\n\u001b[0;32m----> 2\u001b[0m T[\u001b[38;5;241m0\u001b[39m] \u001b[38;5;241m=\u001b[39m \u001b[38;5;241m10\u001b[39m\n",
      "\u001b[0;31mTypeError\u001b[0m: 'tuple' object does not support item assignment"
     ]
    }
   ],
   "source": [
    "T = (1, 2, 3, 4, 5)\n",
    "T[0] = 10"
   ]
  },
  {
   "cell_type": "markdown",
   "metadata": {},
   "source": [
    "## 리스트와 튜플 속도 비교하기\n",
    "\n",
    "똑같은 요소들로 이루어진 리스트와 튜플을 비교했지만 거의 2배 차이가 난다."
   ]
  },
  {
   "cell_type": "code",
   "execution_count": 10,
   "metadata": {},
   "outputs": [],
   "source": [
    "# 순회 속도 비교하기\n",
    "# 리스트와 튜플을 임의로 만들어준다.\n",
    "large_L = list(range(100000))\n",
    "large_T = tuple(range(100000))"
   ]
  },
  {
   "cell_type": "code",
   "execution_count": 11,
   "metadata": {},
   "outputs": [
    {
     "data": {
      "text/plain": [
       "1653650909.928996"
      ]
     },
     "execution_count": 11,
     "metadata": {},
     "output_type": "execute_result"
    }
   ],
   "source": [
    "# 현재 시간 출력\n",
    "\n",
    "import time\n",
    "time.time()"
   ]
  },
  {
   "cell_type": "code",
   "execution_count": 14,
   "metadata": {},
   "outputs": [
    {
     "name": "stdout",
     "output_type": "stream",
     "text": [
      "0.006218910217285156\n"
     ]
    }
   ],
   "source": [
    "# 리스트 순회 속도 측정\n",
    "# 한 리스트 속 요소를 다 훑는데에만 걸리는 속도를 비교한다.\n",
    "\n",
    "import time\n",
    "start_time = time.time()\n",
    "\n",
    "for val1 in large_L:\n",
    "    pass\n",
    "end_time = time.time()\n",
    "print(end_time - start_time)"
   ]
  },
  {
   "cell_type": "code",
   "execution_count": 15,
   "metadata": {},
   "outputs": [
    {
     "name": "stdout",
     "output_type": "stream",
     "text": [
      "0.003068208694458008\n"
     ]
    }
   ],
   "source": [
    "# 튜플 순회 속도 측정\n",
    "\n",
    "start_time = time.time()\n",
    "\n",
    "for val2 in large_T:\n",
    "    pass\n",
    "end_time = time.time()\n",
    "print(end_time - start_time)    "
   ]
  },
  {
   "cell_type": "markdown",
   "metadata": {},
   "source": [
    "# 리스트 관련 함수"
   ]
  },
  {
   "cell_type": "code",
   "execution_count": 16,
   "metadata": {},
   "outputs": [
    {
     "name": "stdout",
     "output_type": "stream",
     "text": [
      "[4, 5, 1, 2, 10, 15]\n"
     ]
    }
   ],
   "source": [
    "# 요소 추가 함수: append()\n",
    "\n",
    "L1 = [4, 5, 1, 2, 10]\n",
    "L1.append(15)\n",
    "print(L1)"
   ]
  },
  {
   "cell_type": "code",
   "execution_count": 18,
   "metadata": {},
   "outputs": [
    {
     "name": "stdout",
     "output_type": "stream",
     "text": [
      "[4, 7, 5, 1, 2, 10]\n"
     ]
    }
   ],
   "source": [
    "# 요소 추가 함수: insert()\n",
    "\n",
    "L2 = [4, 5, 1, 2, 10]\n",
    "L2.insert(1, 7)\n",
    "print(L2)"
   ]
  },
  {
   "cell_type": "code",
   "execution_count": 19,
   "metadata": {},
   "outputs": [
    {
     "name": "stdout",
     "output_type": "stream",
     "text": [
      "[3, 2, 1, 4]\n"
     ]
    }
   ],
   "source": [
    "# 요소 제거 함수: remove()\n",
    "\n",
    "L3 = [1, 3, 2, 1, 4]\n",
    "L3.remove(1)\n",
    "print(L3)"
   ]
  },
  {
   "cell_type": "code",
   "execution_count": 20,
   "metadata": {},
   "outputs": [
    {
     "ename": "ValueError",
     "evalue": "list.remove(x): x not in list",
     "output_type": "error",
     "traceback": [
      "\u001b[0;31m---------------------------------------------------------------------------\u001b[0m",
      "\u001b[0;31mValueError\u001b[0m                                Traceback (most recent call last)",
      "Input \u001b[0;32mIn [20]\u001b[0m, in \u001b[0;36m<cell line: 3>\u001b[0;34m()\u001b[0m\n\u001b[1;32m      1\u001b[0m \u001b[38;5;66;03m# 없는 것을 지웠을 때\u001b[39;00m\n\u001b[0;32m----> 3\u001b[0m \u001b[43mL3\u001b[49m\u001b[38;5;241;43m.\u001b[39;49m\u001b[43mremove\u001b[49m\u001b[43m(\u001b[49m\u001b[38;5;124;43m'\u001b[39;49m\u001b[38;5;124;43ma\u001b[39;49m\u001b[38;5;124;43m'\u001b[39;49m\u001b[43m)\u001b[49m\n",
      "\u001b[0;31mValueError\u001b[0m: list.remove(x): x not in list"
     ]
    }
   ],
   "source": [
    "# 없는 것을 지웠을 때\n",
    "\n",
    "L3.remove('a')"
   ]
  },
  {
   "cell_type": "code",
   "execution_count": 21,
   "metadata": {},
   "outputs": [
    {
     "name": "stdout",
     "output_type": "stream",
     "text": [
      "10\n",
      "[4, 5, 1, 2]\n"
     ]
    }
   ],
   "source": [
    "# 요소 제거 함수: pop()\n",
    "\n",
    "L4 = [4, 5, 1, 2, 10]\n",
    "print(L4.pop())\n",
    "print(L4)"
   ]
  },
  {
   "cell_type": "code",
   "execution_count": 22,
   "metadata": {},
   "outputs": [
    {
     "name": "stdout",
     "output_type": "stream",
     "text": [
      "1의 위치:0\n",
      "3의 위치:1\n"
     ]
    },
    {
     "ename": "ValueError",
     "evalue": "5 is not in list",
     "output_type": "error",
     "traceback": [
      "\u001b[0;31m---------------------------------------------------------------------------\u001b[0m",
      "\u001b[0;31mValueError\u001b[0m                                Traceback (most recent call last)",
      "Input \u001b[0;32mIn [22]\u001b[0m, in \u001b[0;36m<cell line: 8>\u001b[0;34m()\u001b[0m\n\u001b[1;32m      5\u001b[0m \u001b[38;5;28mprint\u001b[39m(\u001b[38;5;124m\"\u001b[39m\u001b[38;5;124m1의 위치:\u001b[39m\u001b[38;5;132;01m{}\u001b[39;00m\u001b[38;5;124m\"\u001b[39m\u001b[38;5;241m.\u001b[39mformat(L5\u001b[38;5;241m.\u001b[39mindex(\u001b[38;5;241m1\u001b[39m)))\n\u001b[1;32m      6\u001b[0m \u001b[38;5;28mprint\u001b[39m(\u001b[38;5;124m\"\u001b[39m\u001b[38;5;124m3의 위치:\u001b[39m\u001b[38;5;132;01m{}\u001b[39;00m\u001b[38;5;124m\"\u001b[39m\u001b[38;5;241m.\u001b[39mformat(L5\u001b[38;5;241m.\u001b[39mindex(\u001b[38;5;241m3\u001b[39m)))\n\u001b[0;32m----> 8\u001b[0m \u001b[43mL5\u001b[49m\u001b[38;5;241;43m.\u001b[39;49m\u001b[43mindex\u001b[49m\u001b[43m(\u001b[49m\u001b[38;5;241;43m5\u001b[39;49m\u001b[43m)\u001b[49m\n",
      "\u001b[0;31mValueError\u001b[0m: 5 is not in list"
     ]
    }
   ],
   "source": [
    "# 위치 찾기 함수: index()\n",
    "# 해당 값의 인덱스를 반환한다.\n",
    "\n",
    "L5 = [1, 3, 2, 1, 4]\n",
    "print(\"1의 위치:{}\".format(L5.index(1)))\n",
    "print(\"3의 위치:{}\".format(L5.index(3)))\n",
    "\n",
    "L5.index(5) # 5의 위치: 없으므로 Error 발생 (5 is not in list)"
   ]
  },
  {
   "cell_type": "markdown",
   "metadata": {},
   "source": [
    "# 합치기: 리스트와 튜플"
   ]
  },
  {
   "cell_type": "code",
   "execution_count": 23,
   "metadata": {},
   "outputs": [
    {
     "name": "stdout",
     "output_type": "stream",
     "text": [
      "[1, 2, 3, 4, 5, 6]\n"
     ]
    }
   ],
   "source": [
    "# 리스트\n",
    "\n",
    "L1 = [1, 2, 3]\n",
    "L2 = [4, 5, 6]\n",
    "print(L1 + L2)"
   ]
  },
  {
   "cell_type": "code",
   "execution_count": 24,
   "metadata": {},
   "outputs": [
    {
     "name": "stdout",
     "output_type": "stream",
     "text": [
      "(1, 2, 3, 4, 5, 6)\n"
     ]
    }
   ],
   "source": [
    "# 튜플 \n",
    "\n",
    "T1 = (1, 2, 3)\n",
    "T2 = (4, 5, 6)\n",
    "print(T1 + T2)"
   ]
  },
  {
   "cell_type": "markdown",
   "metadata": {},
   "source": [
    "# 튜플 관련 함수\n",
    "\n",
    "튜플을 만들 떄에, 원소가 하나인 튜플은 반드시 원소 뒤에 쉼표를 붙여야 한다."
   ]
  },
  {
   "cell_type": "code",
   "execution_count": 25,
   "metadata": {},
   "outputs": [
    {
     "name": "stdout",
     "output_type": "stream",
     "text": [
      "(1, 2, 3, 4)\n"
     ]
    }
   ],
   "source": [
    "# 소괄호없이 튜플 만들기\n",
    "\n",
    "T = 1, 2, 3, 4\n",
    "print(T)"
   ]
  },
  {
   "cell_type": "code",
   "execution_count": 26,
   "metadata": {},
   "outputs": [
    {
     "name": "stdout",
     "output_type": "stream",
     "text": [
      "<class 'tuple'>\n"
     ]
    }
   ],
   "source": [
    "# 원소가 하나인 튜플은 반드시 원소 뒤에 쉼표를 붙여야 함\n",
    "\n",
    "T = 1, \n",
    "print(type(T))"
   ]
  },
  {
   "cell_type": "code",
   "execution_count": 27,
   "metadata": {},
   "outputs": [
    {
     "data": {
      "text/plain": [
       "(1,)"
      ]
     },
     "execution_count": 27,
     "metadata": {},
     "output_type": "execute_result"
    }
   ],
   "source": [
    "T"
   ]
  },
  {
   "cell_type": "code",
   "execution_count": 28,
   "metadata": {},
   "outputs": [
    {
     "name": "stdout",
     "output_type": "stream",
     "text": [
      "(1,)\n"
     ]
    }
   ],
   "source": [
    "print(T)"
   ]
  },
  {
   "cell_type": "markdown",
   "metadata": {},
   "source": [
    "## 변수로서 튜플 이용하기"
   ]
  },
  {
   "cell_type": "code",
   "execution_count": 29,
   "metadata": {},
   "outputs": [
    {
     "name": "stdout",
     "output_type": "stream",
     "text": [
      "1 2\n",
      "2 1\n"
     ]
    }
   ],
   "source": [
    "# 튜플을 이용한 여러 값 동시에 입력받기 및 Swap\n",
    "\n",
    "# 각 변수에 바로 값을 할당한다.\n",
    "a, b = 1, 2 # a = 1; b = 2\n",
    "print(a, b)\n",
    "\n",
    "# 각 변수의 서로 값을 바꾼다.\n",
    "b, a = a, b # Swap\n",
    "print(a, b)"
   ]
  },
  {
   "cell_type": "code",
   "execution_count": 30,
   "metadata": {},
   "outputs": [
    {
     "name": "stdout",
     "output_type": "stream",
     "text": [
      "입력된 데이터의 타입:<class 'tuple'>\n",
      "15 120\n"
     ]
    }
   ],
   "source": [
    "# 함수의 가변 인자로 사용\n",
    "\n",
    "def f(*x): # *: 인자수가 정해지지 않았음을 의미\n",
    "    print(\"입력된 데이터의 타입:{}\".format(type(x)))\n",
    "    sum_x = 0\n",
    "    product_x = 1\n",
    "    for val in x: # x 안에서\n",
    "        sum_x += val # x 요소들을 차례로 더한다\n",
    "        product_x *= val # x 요소들을 차례로 곱한다\n",
    "    return sum_x, product_x # 전체 합, 전체 곱을 반환한다.\n",
    "\n",
    "\n",
    "# 콤마로 숫자를 입력하면서, 튜플로 입력을 한 형태가 된다. \n",
    "# 앞에 S, P로 놓으면서 두 개의 출력 값이 튜플로 반환되는데, 그들을 각각 \n",
    "S, P = f(1, 2, 3, 4, 5) # 출력을 각각 S와 P로 받음\n",
    "print(S, P)"
   ]
  },
  {
   "cell_type": "code",
   "execution_count": null,
   "metadata": {},
   "outputs": [],
   "source": []
  }
 ],
 "metadata": {
  "kernelspec": {
   "display_name": "Python 3 (ipykernel)",
   "language": "python",
   "name": "python3"
  },
  "language_info": {
   "codemirror_mode": {
    "name": "ipython",
    "version": 3
   },
   "file_extension": ".py",
   "mimetype": "text/x-python",
   "name": "python",
   "nbconvert_exporter": "python",
   "pygments_lexer": "ipython3",
   "version": "3.8.5"
  },
  "toc": {
   "base_numbering": 1,
   "nav_menu": {},
   "number_sections": true,
   "sideBar": true,
   "skip_h1_title": false,
   "title_cell": "Table of Contents",
   "title_sidebar": "Contents",
   "toc_cell": false,
   "toc_position": {},
   "toc_section_display": true,
   "toc_window_display": false
  }
 },
 "nbformat": 4,
 "nbformat_minor": 2
}

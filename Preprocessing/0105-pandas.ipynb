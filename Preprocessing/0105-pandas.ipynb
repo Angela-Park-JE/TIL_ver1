{
 "cells": [
  {
   "cell_type": "markdown",
   "metadata": {},
   "source": [
    "# Pandas\n"
   ]
  },
  {
   "cell_type": "code",
   "execution_count": 1,
   "metadata": {},
   "outputs": [],
   "source": [
    "import pandas as pd"
   ]
  },
  {
   "cell_type": "markdown",
   "metadata": {},
   "source": [
    "# Series\n",
    "\n",
    "1차원 배열 자료형으로, **인덱스와 값의 쌍**으로 구성되어있다.  \n",
    "\n",
    "> 정의 방식: 딕셔너리를 이용하거나, 리스트를 이용한 후 인덱스를 부여한다.  \n",
    "  인덱스를 정의하는 경우보다는 리스트를 이용하는 경우가 더 많다.  \n",
    "`\n",
    "pd.Series({\"a\": 1, \"b\": 2, \"c\":3, \"d\":4})\n",
    "pd.Series([1, 2, 3, 4], index = ['a', 'b', 'c', 'd'])\n",
    "`\n",
    "\n",
    "여기의 데이터는 ndarray로, Series는 ndarray에 인덱스가 부여된 형태의 데이터이다.  \n",
    "Series에도 유니버설 함수와 브로드캐스팅 등이 적용된다.  \n",
    "\n",
    "\n",
    "## Series \n",
    "\n",
    "### 시리즈 만들기"
   ]
  },
  {
   "cell_type": "code",
   "execution_count": 2,
   "metadata": {},
   "outputs": [
    {
     "data": {
      "text/plain": [
       "a    1\n",
       "b    2\n",
       "c    3\n",
       "d    4\n",
       "dtype: int64"
      ]
     },
     "execution_count": 2,
     "metadata": {},
     "output_type": "execute_result"
    }
   ],
   "source": [
    "# 딕셔너리 구조 이용 \n",
    "\n",
    "S = pd.Series({\"a\": 1, \"b\": 2, \"c\":3, \"d\":4})\n",
    "S"
   ]
  },
  {
   "cell_type": "code",
   "execution_count": 3,
   "metadata": {},
   "outputs": [
    {
     "data": {
      "text/plain": [
       "a    1\n",
       "b    2\n",
       "c    3\n",
       "d    4\n",
       "dtype: int64"
      ]
     },
     "execution_count": 3,
     "metadata": {},
     "output_type": "execute_result"
    }
   ],
   "source": [
    "# 리스트와 인덱스 리스트 이용\n",
    "\n",
    "S = pd.Series([1, 2, 3, 4], index = ['a', 'b', 'c', 'd'])\n",
    "S"
   ]
  },
  {
   "cell_type": "code",
   "execution_count": 4,
   "metadata": {},
   "outputs": [
    {
     "data": {
      "text/plain": [
       "0    1\n",
       "1    2\n",
       "2    3\n",
       "3    4\n",
       "dtype: int64"
      ]
     },
     "execution_count": 4,
     "metadata": {},
     "output_type": "execute_result"
    }
   ],
   "source": [
    "# 리스트를 이용하면 위치인덱스를 이용하여 자동적으로 0부터 인덱스가 부여됨\n",
    "\n",
    "S2 = pd.Series([1, 2, 3, 4])\n",
    "S2"
   ]
  },
  {
   "cell_type": "markdown",
   "metadata": {},
   "source": [
    "### Series.values\n",
    "\n",
    "Series에는 `values`라는 어트리뷰트가 있다.  \n",
    "S라는 Series에 포함된 데이터(ndarray)를 볼 수 있다.  \n"
   ]
  },
  {
   "cell_type": "code",
   "execution_count": 5,
   "metadata": {},
   "outputs": [
    {
     "data": {
      "text/plain": [
       "array([1, 2, 3, 4])"
      ]
     },
     "execution_count": 5,
     "metadata": {},
     "output_type": "execute_result"
    }
   ],
   "source": [
    "S2.values"
   ]
  },
  {
   "cell_type": "code",
   "execution_count": 6,
   "metadata": {
    "scrolled": true
   },
   "outputs": [
    {
     "data": {
      "text/plain": [
       "numpy.ndarray"
      ]
     },
     "execution_count": 6,
     "metadata": {},
     "output_type": "execute_result"
    }
   ],
   "source": [
    "type(S2.values)"
   ]
  },
  {
   "cell_type": "markdown",
   "metadata": {},
   "source": [
    "### Series.index\n",
    "\n",
    "인덱스를 확인할 수 있다."
   ]
  },
  {
   "cell_type": "code",
   "execution_count": 7,
   "metadata": {},
   "outputs": [
    {
     "data": {
      "text/plain": [
       "Index(['a', 'b', 'c', 'd'], dtype='object')"
      ]
     },
     "execution_count": 7,
     "metadata": {},
     "output_type": "execute_result"
    }
   ],
   "source": [
    "S = pd.Series([1, 2, 3, 4], index = ['a', 'b', 'c', 'd'])\n",
    "S.index"
   ]
  },
  {
   "cell_type": "markdown",
   "metadata": {},
   "source": [
    "### Series에 유니버설 함수와 브로드캐스팅\n",
    "\n",
    "`S`는 시리즈여서 제곱이라는 개념이 적용이 되지 않을 것 같지만 유니버설 함수가 적용된다"
   ]
  },
  {
   "cell_type": "code",
   "execution_count": 8,
   "metadata": {},
   "outputs": [
    {
     "data": {
      "text/plain": [
       "a     1\n",
       "b     4\n",
       "c     9\n",
       "d    16\n",
       "dtype: int64"
      ]
     },
     "execution_count": 8,
     "metadata": {},
     "output_type": "execute_result"
    }
   ],
   "source": [
    "S ** 2 # 유니버설 함수와 브로드캐스팅이 적용됨"
   ]
  },
  {
   "cell_type": "markdown",
   "metadata": {},
   "source": [
    "# DataFrame\n",
    "\n",
    "데이터프레임은 2차원 배열 자료형으로 값, 행 인덱스, 열 인덱스로 구성되어 있다.\n",
    "\n",
    "> 정의: 딕셔너리를 이용하거나, 데이터-컬럼-인덱스를 따로 정의함.\n",
    "`\n",
    "pd.DataFrame({\"col1\": [1, 2, 3, 4],\n",
    "                  \"col2\": [5, 6, 7, 8]}, \n",
    "                  index = ['a', 'b', 'c', 'd'])\n",
    "pd.DataFrame([[1, 5], [2, 6], [3, 7], [4, 8]],\n",
    "            columns = ['Col1', 'Col2'],\n",
    "            index = ['a', 'b', 'c', 'd'])\n",
    "`\n",
    "\n",
    "기존에 있는 데이터를 그대로 가져와서 쓰기위해 쓰는 경우가 더 많기 때문에, 딕셔너리를 이용하는 경우가 더 많다.\n",
    "\n",
    "DataFrame은 ndarray에 행과 열 인덱스가 부여된 형태의 데이터이다.  \n",
    "즉, DataFrame은 하나 이상의 Series의 집합이라고 볼 수 있다.  \n",
    "\n",
    "\n",
    "## DataFrame 만들기"
   ]
  },
  {
   "cell_type": "code",
   "execution_count": 9,
   "metadata": {},
   "outputs": [
    {
     "data": {
      "text/html": [
       "<div>\n",
       "<style scoped>\n",
       "    .dataframe tbody tr th:only-of-type {\n",
       "        vertical-align: middle;\n",
       "    }\n",
       "\n",
       "    .dataframe tbody tr th {\n",
       "        vertical-align: top;\n",
       "    }\n",
       "\n",
       "    .dataframe thead th {\n",
       "        text-align: right;\n",
       "    }\n",
       "</style>\n",
       "<table border=\"1\" class=\"dataframe\">\n",
       "  <thead>\n",
       "    <tr style=\"text-align: right;\">\n",
       "      <th></th>\n",
       "      <th>col1</th>\n",
       "      <th>col2</th>\n",
       "    </tr>\n",
       "  </thead>\n",
       "  <tbody>\n",
       "    <tr>\n",
       "      <th>a</th>\n",
       "      <td>1</td>\n",
       "      <td>5</td>\n",
       "    </tr>\n",
       "    <tr>\n",
       "      <th>b</th>\n",
       "      <td>2</td>\n",
       "      <td>6</td>\n",
       "    </tr>\n",
       "    <tr>\n",
       "      <th>c</th>\n",
       "      <td>3</td>\n",
       "      <td>7</td>\n",
       "    </tr>\n",
       "    <tr>\n",
       "      <th>d</th>\n",
       "      <td>4</td>\n",
       "      <td>8</td>\n",
       "    </tr>\n",
       "  </tbody>\n",
       "</table>\n",
       "</div>"
      ],
      "text/plain": [
       "   col1  col2\n",
       "a     1     5\n",
       "b     2     6\n",
       "c     3     7\n",
       "d     4     8"
      ]
     },
     "execution_count": 9,
     "metadata": {},
     "output_type": "execute_result"
    }
   ],
   "source": [
    "df = pd.DataFrame({\"col1\": [1, 2, 3, 4],\n",
    "                  \"col2\": [5, 6, 7, 8]}, \n",
    "                  index = ['a', 'b', 'c', 'd'])\n",
    "df"
   ]
  },
  {
   "cell_type": "code",
   "execution_count": 10,
   "metadata": {},
   "outputs": [
    {
     "data": {
      "text/html": [
       "<div>\n",
       "<style scoped>\n",
       "    .dataframe tbody tr th:only-of-type {\n",
       "        vertical-align: middle;\n",
       "    }\n",
       "\n",
       "    .dataframe tbody tr th {\n",
       "        vertical-align: top;\n",
       "    }\n",
       "\n",
       "    .dataframe thead th {\n",
       "        text-align: right;\n",
       "    }\n",
       "</style>\n",
       "<table border=\"1\" class=\"dataframe\">\n",
       "  <thead>\n",
       "    <tr style=\"text-align: right;\">\n",
       "      <th></th>\n",
       "      <th>Col1</th>\n",
       "      <th>Col2</th>\n",
       "    </tr>\n",
       "  </thead>\n",
       "  <tbody>\n",
       "    <tr>\n",
       "      <th>a</th>\n",
       "      <td>1</td>\n",
       "      <td>5</td>\n",
       "    </tr>\n",
       "    <tr>\n",
       "      <th>b</th>\n",
       "      <td>2</td>\n",
       "      <td>6</td>\n",
       "    </tr>\n",
       "    <tr>\n",
       "      <th>c</th>\n",
       "      <td>3</td>\n",
       "      <td>7</td>\n",
       "    </tr>\n",
       "    <tr>\n",
       "      <th>d</th>\n",
       "      <td>4</td>\n",
       "      <td>8</td>\n",
       "    </tr>\n",
       "  </tbody>\n",
       "</table>\n",
       "</div>"
      ],
      "text/plain": [
       "   Col1  Col2\n",
       "a     1     5\n",
       "b     2     6\n",
       "c     3     7\n",
       "d     4     8"
      ]
     },
     "execution_count": 10,
     "metadata": {},
     "output_type": "execute_result"
    }
   ],
   "source": [
    "df = pd.DataFrame([[1, 5], [2, 6], [3, 7], [4, 8]],\n",
    "            columns = ['Col1', 'Col2'],\n",
    "            index = ['a', 'b', 'c', 'd'])\n",
    "df"
   ]
  },
  {
   "cell_type": "markdown",
   "metadata": {},
   "source": [
    "## DataFrame.values\n",
    "값에 접근하기\n",
    "\n",
    "한 행의 값들이 리스트로 묶이고, 여러 행이 리스트로 묶여 array가 된다. "
   ]
  },
  {
   "cell_type": "code",
   "execution_count": 11,
   "metadata": {},
   "outputs": [
    {
     "data": {
      "text/plain": [
       "array([[1, 5],\n",
       "       [2, 6],\n",
       "       [3, 7],\n",
       "       [4, 8]])"
      ]
     },
     "execution_count": 11,
     "metadata": {},
     "output_type": "execute_result"
    }
   ],
   "source": [
    "df.values"
   ]
  },
  {
   "cell_type": "code",
   "execution_count": 12,
   "metadata": {},
   "outputs": [
    {
     "data": {
      "text/plain": [
       "numpy.ndarray"
      ]
     },
     "execution_count": 12,
     "metadata": {},
     "output_type": "execute_result"
    }
   ],
   "source": [
    "type(df.values)"
   ]
  },
  {
   "cell_type": "markdown",
   "metadata": {},
   "source": [
    "## index, columns\n"
   ]
  },
  {
   "cell_type": "code",
   "execution_count": 13,
   "metadata": {},
   "outputs": [
    {
     "data": {
      "text/plain": [
       "Index(['a', 'b', 'c', 'd'], dtype='object')"
      ]
     },
     "execution_count": 13,
     "metadata": {},
     "output_type": "execute_result"
    }
   ],
   "source": [
    "# 행 인덱스 출력\n",
    "\n",
    "df.index"
   ]
  },
  {
   "cell_type": "code",
   "execution_count": 14,
   "metadata": {},
   "outputs": [
    {
     "data": {
      "text/plain": [
       "Index(['Col1', 'Col2'], dtype='object')"
      ]
     },
     "execution_count": 14,
     "metadata": {},
     "output_type": "execute_result"
    }
   ],
   "source": [
    "# 열 인덱스(컬럼들) 출력: 자주 쓰임\n",
    "\n",
    "df.columns"
   ]
  },
  {
   "cell_type": "code",
   "execution_count": 15,
   "metadata": {},
   "outputs": [
    {
     "data": {
      "text/plain": [
       "pandas.core.series.Series"
      ]
     },
     "execution_count": 15,
     "metadata": {},
     "output_type": "execute_result"
    }
   ],
   "source": [
    "# 한 열의 타입: 판다스 시리즈\n",
    "\n",
    "type(df['Col1'])"
   ]
  },
  {
   "cell_type": "markdown",
   "metadata": {},
   "source": [
    "### 인덱싱과 슬라이싱\n",
    "\n",
    "판다스의 객체는 암묵적인 인덱스(위치 인덱스)와 명시적 인덱스라는 두 종류의 인덱스가 있다.  \n",
    "명시적 인덱스 : 우리가 실제로 사용하는 것, loc 인덱서 사용  \n",
    "암묵적 인덱스 : 컴퓨터가 보는 것, iloc 인덱서 사용  \n",
    "\n",
    "위치를 위해 암묵적 인덱스를 사용하는 경우가 더 많다.  \n",
    "\n",
    "> 차이점\n",
    "loc를 이용한 슬라이싱에서는 맨 뒤 값을 포함 O  \n",
    "`df.loc['a':'c'] = [1,2,3]`  \n",
    "iloc를 이용한 슬라이싱에서는 맨 뒤 값을 포함 X  \n",
    "`df.iloc[1:3] = [2, 3]`  \n",
    "\n",
    "데이터 프레임의 컬럼을 선택하기 위해서는  \n",
    "`df[col_name]`  \n",
    "`df[col_name_list]`  \n",
    "를 사용한다. ndarray에서 열을 선택하는 것과 같다."
   ]
  },
  {
   "cell_type": "code",
   "execution_count": 16,
   "metadata": {},
   "outputs": [
    {
     "data": {
      "text/plain": [
       "a    1\n",
       "b    2\n",
       "c    3\n",
       "d    4\n",
       "dtype: int64"
      ]
     },
     "execution_count": 16,
     "metadata": {},
     "output_type": "execute_result"
    }
   ],
   "source": [
    "S"
   ]
  },
  {
   "cell_type": "code",
   "execution_count": 17,
   "metadata": {},
   "outputs": [
    {
     "data": {
      "text/plain": [
       "1"
      ]
     },
     "execution_count": 17,
     "metadata": {},
     "output_type": "execute_result"
    }
   ],
   "source": [
    "# 명시적 인덱스 사용\n",
    "# 사전에서 키를 가지고 값을 찾는 것과 완벽히 동일\n",
    "\n",
    "S.loc['a']"
   ]
  },
  {
   "cell_type": "code",
   "execution_count": 18,
   "metadata": {},
   "outputs": [
    {
     "data": {
      "text/plain": [
       "3"
      ]
     },
     "execution_count": 18,
     "metadata": {},
     "output_type": "execute_result"
    }
   ],
   "source": [
    "# 암묵적 인덱스 사용\n",
    "\n",
    "S.iloc[2]"
   ]
  },
  {
   "cell_type": "markdown",
   "metadata": {},
   "source": [
    "#### 범위로 인덱스를 찾을 떄"
   ]
  },
  {
   "cell_type": "code",
   "execution_count": 19,
   "metadata": {},
   "outputs": [
    {
     "data": {
      "text/plain": [
       "a    1\n",
       "b    2\n",
       "c    3\n",
       "dtype: int64"
      ]
     },
     "execution_count": 19,
     "metadata": {},
     "output_type": "execute_result"
    }
   ],
   "source": [
    "S.loc['a':'c']"
   ]
  },
  {
   "cell_type": "code",
   "execution_count": 20,
   "metadata": {},
   "outputs": [
    {
     "data": {
      "text/plain": [
       "b    2\n",
       "c    3\n",
       "dtype: int64"
      ]
     },
     "execution_count": 20,
     "metadata": {},
     "output_type": "execute_result"
    }
   ],
   "source": [
    "# 사실상 0,1,2,3 에서 1~3 인데 3이 출력되지 않는 것\n",
    "\n",
    "S.iloc[1:3]"
   ]
  },
  {
   "cell_type": "markdown",
   "metadata": {},
   "source": [
    "#### 데이터 프레임에서 리스트로 컬럼 불러오기\n",
    "\n",
    "주의할 것! 단일 컬럼을 불러올때 컬럼이름을 리스트로 감싸서 넣으면 데이터 프레임 형태로 나오지만, 감싸지 않고 그냥 호출할 경우 시리즈 형태로 나온다.  "
   ]
  },
  {
   "cell_type": "code",
   "execution_count": 21,
   "metadata": {},
   "outputs": [
    {
     "data": {
      "text/html": [
       "<div>\n",
       "<style scoped>\n",
       "    .dataframe tbody tr th:only-of-type {\n",
       "        vertical-align: middle;\n",
       "    }\n",
       "\n",
       "    .dataframe tbody tr th {\n",
       "        vertical-align: top;\n",
       "    }\n",
       "\n",
       "    .dataframe thead th {\n",
       "        text-align: right;\n",
       "    }\n",
       "</style>\n",
       "<table border=\"1\" class=\"dataframe\">\n",
       "  <thead>\n",
       "    <tr style=\"text-align: right;\">\n",
       "      <th></th>\n",
       "      <th>Col1</th>\n",
       "      <th>Col2</th>\n",
       "    </tr>\n",
       "  </thead>\n",
       "  <tbody>\n",
       "    <tr>\n",
       "      <th>a</th>\n",
       "      <td>1</td>\n",
       "      <td>5</td>\n",
       "    </tr>\n",
       "    <tr>\n",
       "      <th>b</th>\n",
       "      <td>2</td>\n",
       "      <td>6</td>\n",
       "    </tr>\n",
       "    <tr>\n",
       "      <th>c</th>\n",
       "      <td>3</td>\n",
       "      <td>7</td>\n",
       "    </tr>\n",
       "    <tr>\n",
       "      <th>d</th>\n",
       "      <td>4</td>\n",
       "      <td>8</td>\n",
       "    </tr>\n",
       "  </tbody>\n",
       "</table>\n",
       "</div>"
      ],
      "text/plain": [
       "   Col1  Col2\n",
       "a     1     5\n",
       "b     2     6\n",
       "c     3     7\n",
       "d     4     8"
      ]
     },
     "execution_count": 21,
     "metadata": {},
     "output_type": "execute_result"
    }
   ],
   "source": [
    "df"
   ]
  },
  {
   "cell_type": "code",
   "execution_count": 22,
   "metadata": {},
   "outputs": [
    {
     "data": {
      "text/html": [
       "<div>\n",
       "<style scoped>\n",
       "    .dataframe tbody tr th:only-of-type {\n",
       "        vertical-align: middle;\n",
       "    }\n",
       "\n",
       "    .dataframe tbody tr th {\n",
       "        vertical-align: top;\n",
       "    }\n",
       "\n",
       "    .dataframe thead th {\n",
       "        text-align: right;\n",
       "    }\n",
       "</style>\n",
       "<table border=\"1\" class=\"dataframe\">\n",
       "  <thead>\n",
       "    <tr style=\"text-align: right;\">\n",
       "      <th></th>\n",
       "      <th>Col1</th>\n",
       "      <th>Col2</th>\n",
       "    </tr>\n",
       "  </thead>\n",
       "  <tbody>\n",
       "    <tr>\n",
       "      <th>a</th>\n",
       "      <td>1</td>\n",
       "      <td>5</td>\n",
       "    </tr>\n",
       "    <tr>\n",
       "      <th>b</th>\n",
       "      <td>2</td>\n",
       "      <td>6</td>\n",
       "    </tr>\n",
       "    <tr>\n",
       "      <th>c</th>\n",
       "      <td>3</td>\n",
       "      <td>7</td>\n",
       "    </tr>\n",
       "    <tr>\n",
       "      <th>d</th>\n",
       "      <td>4</td>\n",
       "      <td>8</td>\n",
       "    </tr>\n",
       "  </tbody>\n",
       "</table>\n",
       "</div>"
      ],
      "text/plain": [
       "   Col1  Col2\n",
       "a     1     5\n",
       "b     2     6\n",
       "c     3     7\n",
       "d     4     8"
      ]
     },
     "execution_count": 22,
     "metadata": {},
     "output_type": "execute_result"
    }
   ],
   "source": [
    "df[['Col1', 'Col2']]"
   ]
  },
  {
   "cell_type": "code",
   "execution_count": 23,
   "metadata": {},
   "outputs": [
    {
     "data": {
      "text/plain": [
       "a    1\n",
       "b    2\n",
       "c    3\n",
       "d    4\n",
       "Name: Col1, dtype: int64"
      ]
     },
     "execution_count": 23,
     "metadata": {},
     "output_type": "execute_result"
    }
   ],
   "source": [
    "df['Col1'] # column name => Series"
   ]
  },
  {
   "cell_type": "code",
   "execution_count": 24,
   "metadata": {},
   "outputs": [
    {
     "data": {
      "text/html": [
       "<div>\n",
       "<style scoped>\n",
       "    .dataframe tbody tr th:only-of-type {\n",
       "        vertical-align: middle;\n",
       "    }\n",
       "\n",
       "    .dataframe tbody tr th {\n",
       "        vertical-align: top;\n",
       "    }\n",
       "\n",
       "    .dataframe thead th {\n",
       "        text-align: right;\n",
       "    }\n",
       "</style>\n",
       "<table border=\"1\" class=\"dataframe\">\n",
       "  <thead>\n",
       "    <tr style=\"text-align: right;\">\n",
       "      <th></th>\n",
       "      <th>Col1</th>\n",
       "    </tr>\n",
       "  </thead>\n",
       "  <tbody>\n",
       "    <tr>\n",
       "      <th>a</th>\n",
       "      <td>1</td>\n",
       "    </tr>\n",
       "    <tr>\n",
       "      <th>b</th>\n",
       "      <td>2</td>\n",
       "    </tr>\n",
       "    <tr>\n",
       "      <th>c</th>\n",
       "      <td>3</td>\n",
       "    </tr>\n",
       "    <tr>\n",
       "      <th>d</th>\n",
       "      <td>4</td>\n",
       "    </tr>\n",
       "  </tbody>\n",
       "</table>\n",
       "</div>"
      ],
      "text/plain": [
       "   Col1\n",
       "a     1\n",
       "b     2\n",
       "c     3\n",
       "d     4"
      ]
     },
     "execution_count": 24,
     "metadata": {},
     "output_type": "execute_result"
    }
   ],
   "source": [
    "df[['Col1']] # column name list => Data Frame"
   ]
  },
  {
   "cell_type": "markdown",
   "metadata": {},
   "source": [
    "#### 행과 열을 지정해서 조회할 때\n",
    "\n",
    "컬럼 또한 암묵적 인덱스 넘벌로 데려올 수 있다."
   ]
  },
  {
   "cell_type": "code",
   "execution_count": 25,
   "metadata": {},
   "outputs": [
    {
     "data": {
      "text/plain": [
       "5"
      ]
     },
     "execution_count": 25,
     "metadata": {},
     "output_type": "execute_result"
    }
   ],
   "source": [
    "df.loc['a', 'Col2']"
   ]
  },
  {
   "cell_type": "code",
   "execution_count": 26,
   "metadata": {},
   "outputs": [
    {
     "data": {
      "text/plain": [
       "a    1\n",
       "b    2\n",
       "c    3\n",
       "Name: Col1, dtype: int64"
      ]
     },
     "execution_count": 26,
     "metadata": {},
     "output_type": "execute_result"
    }
   ],
   "source": [
    "df.loc['a':'c', 'Col1']"
   ]
  },
  {
   "cell_type": "code",
   "execution_count": 27,
   "metadata": {},
   "outputs": [
    {
     "data": {
      "text/plain": [
       "b    6\n",
       "c    7\n",
       "Name: Col2, dtype: int64"
      ]
     },
     "execution_count": 27,
     "metadata": {},
     "output_type": "execute_result"
    }
   ],
   "source": [
    "df.iloc[1:3, 1]"
   ]
  },
  {
   "cell_type": "markdown",
   "metadata": {},
   "source": [
    "## 값 조회하기\n",
    "\n",
    "주피터 환경에서는 데이터프레임 혹은 시리즈 자료를 갖는 변수를 출력할 수 있다.\n",
    "\n",
    "`pd.set_option('display.max_rows', None)` :  \n",
    "모든 행을 보이게 함. None 대신 정수를 넣어 출력 행 개수 조절 가능.  \n",
    "`pd.set_option('display.max_columns', None)` :  \n",
    "모든 열을 보이게 함.  \n",
    "\n"
   ]
  },
  {
   "cell_type": "code",
   "execution_count": 28,
   "metadata": {},
   "outputs": [
    {
     "data": {
      "text/html": [
       "<div>\n",
       "<style scoped>\n",
       "    .dataframe tbody tr th:only-of-type {\n",
       "        vertical-align: middle;\n",
       "    }\n",
       "\n",
       "    .dataframe tbody tr th {\n",
       "        vertical-align: top;\n",
       "    }\n",
       "\n",
       "    .dataframe thead th {\n",
       "        text-align: right;\n",
       "    }\n",
       "</style>\n",
       "<table border=\"1\" class=\"dataframe\">\n",
       "  <thead>\n",
       "    <tr style=\"text-align: right;\">\n",
       "      <th></th>\n",
       "      <th>X1</th>\n",
       "      <th>X2</th>\n",
       "      <th>X3</th>\n",
       "      <th>X4</th>\n",
       "      <th>X5</th>\n",
       "    </tr>\n",
       "  </thead>\n",
       "  <tbody>\n",
       "    <tr>\n",
       "      <th>0</th>\n",
       "      <td>0.584760</td>\n",
       "      <td>0.009866</td>\n",
       "      <td>0.037065</td>\n",
       "      <td>0.461825</td>\n",
       "      <td>0.692858</td>\n",
       "    </tr>\n",
       "    <tr>\n",
       "      <th>1</th>\n",
       "      <td>0.464179</td>\n",
       "      <td>0.959529</td>\n",
       "      <td>0.445726</td>\n",
       "      <td>0.731612</td>\n",
       "      <td>0.360587</td>\n",
       "    </tr>\n",
       "    <tr>\n",
       "      <th>2</th>\n",
       "      <td>0.269258</td>\n",
       "      <td>0.650423</td>\n",
       "      <td>0.248126</td>\n",
       "      <td>0.518477</td>\n",
       "      <td>0.477514</td>\n",
       "    </tr>\n",
       "    <tr>\n",
       "      <th>3</th>\n",
       "      <td>0.940628</td>\n",
       "      <td>0.593691</td>\n",
       "      <td>0.371789</td>\n",
       "      <td>0.368715</td>\n",
       "      <td>0.155352</td>\n",
       "    </tr>\n",
       "    <tr>\n",
       "      <th>4</th>\n",
       "      <td>0.931325</td>\n",
       "      <td>0.332575</td>\n",
       "      <td>0.492448</td>\n",
       "      <td>0.992181</td>\n",
       "      <td>0.648721</td>\n",
       "    </tr>\n",
       "    <tr>\n",
       "      <th>...</th>\n",
       "      <td>...</td>\n",
       "      <td>...</td>\n",
       "      <td>...</td>\n",
       "      <td>...</td>\n",
       "      <td>...</td>\n",
       "    </tr>\n",
       "    <tr>\n",
       "      <th>495</th>\n",
       "      <td>0.780325</td>\n",
       "      <td>0.092680</td>\n",
       "      <td>0.490714</td>\n",
       "      <td>0.980075</td>\n",
       "      <td>0.336522</td>\n",
       "    </tr>\n",
       "    <tr>\n",
       "      <th>496</th>\n",
       "      <td>0.346386</td>\n",
       "      <td>0.800054</td>\n",
       "      <td>0.509790</td>\n",
       "      <td>0.491396</td>\n",
       "      <td>0.486495</td>\n",
       "    </tr>\n",
       "    <tr>\n",
       "      <th>497</th>\n",
       "      <td>0.457983</td>\n",
       "      <td>0.601666</td>\n",
       "      <td>0.065915</td>\n",
       "      <td>0.448387</td>\n",
       "      <td>0.160671</td>\n",
       "    </tr>\n",
       "    <tr>\n",
       "      <th>498</th>\n",
       "      <td>0.850296</td>\n",
       "      <td>0.353489</td>\n",
       "      <td>0.229653</td>\n",
       "      <td>0.865237</td>\n",
       "      <td>0.115055</td>\n",
       "    </tr>\n",
       "    <tr>\n",
       "      <th>499</th>\n",
       "      <td>0.353395</td>\n",
       "      <td>0.705860</td>\n",
       "      <td>0.961016</td>\n",
       "      <td>0.140172</td>\n",
       "      <td>0.364809</td>\n",
       "    </tr>\n",
       "  </tbody>\n",
       "</table>\n",
       "<p>500 rows × 5 columns</p>\n",
       "</div>"
      ],
      "text/plain": [
       "           X1        X2        X3        X4        X5\n",
       "0    0.584760  0.009866  0.037065  0.461825  0.692858\n",
       "1    0.464179  0.959529  0.445726  0.731612  0.360587\n",
       "2    0.269258  0.650423  0.248126  0.518477  0.477514\n",
       "3    0.940628  0.593691  0.371789  0.368715  0.155352\n",
       "4    0.931325  0.332575  0.492448  0.992181  0.648721\n",
       "..        ...       ...       ...       ...       ...\n",
       "495  0.780325  0.092680  0.490714  0.980075  0.336522\n",
       "496  0.346386  0.800054  0.509790  0.491396  0.486495\n",
       "497  0.457983  0.601666  0.065915  0.448387  0.160671\n",
       "498  0.850296  0.353489  0.229653  0.865237  0.115055\n",
       "499  0.353395  0.705860  0.961016  0.140172  0.364809\n",
       "\n",
       "[500 rows x 5 columns]"
      ]
     },
     "execution_count": 28,
     "metadata": {},
     "output_type": "execute_result"
    }
   ],
   "source": [
    "# 임의의 데이터 프레임 생성\n",
    "\n",
    "import numpy as np\n",
    "df_bin = pd.DataFrame(np.random.random(size = (500, 5)),\n",
    "                 columns = ['X1', 'X2', 'X3', 'X4', 'X5'])\n",
    "df_bin"
   ]
  },
  {
   "cell_type": "code",
   "execution_count": 29,
   "metadata": {},
   "outputs": [],
   "source": [
    "# 모든 행, 열 출력 \n",
    "\n",
    "pd.set_option('display.max_rows', None)\n",
    "pd.set_option('display.max_columns', None)"
   ]
  },
  {
   "cell_type": "code",
   "execution_count": null,
   "metadata": {},
   "outputs": [],
   "source": [
    "# 500개의 행이 출력될 것\n",
    "\n",
    "df_bin"
   ]
  },
  {
   "cell_type": "markdown",
   "metadata": {},
   "source": [
    "### 값 일부 조회하기\n",
    "\n",
    "데이터 크기 때문에 데이터의 일부만 확인하거나 요약 정보를 확인한다.\n",
    "\n",
    ">`df.head()` : 맨 앞 n개 확인  \n",
    "`df.tail()` : 맨 앞 n개 확인  \n",
    "`df.columns` : 구성하는 컬럼명 집합 조회  \n",
    "`df.dtypes` : 구성하는 컬럼별 데이터 타입 확인  \n"
   ]
  },
  {
   "cell_type": "code",
   "execution_count": 32,
   "metadata": {},
   "outputs": [
    {
     "data": {
      "text/html": [
       "<div>\n",
       "<style scoped>\n",
       "    .dataframe tbody tr th:only-of-type {\n",
       "        vertical-align: middle;\n",
       "    }\n",
       "\n",
       "    .dataframe tbody tr th {\n",
       "        vertical-align: top;\n",
       "    }\n",
       "\n",
       "    .dataframe thead th {\n",
       "        text-align: right;\n",
       "    }\n",
       "</style>\n",
       "<table border=\"1\" class=\"dataframe\">\n",
       "  <thead>\n",
       "    <tr style=\"text-align: right;\">\n",
       "      <th></th>\n",
       "      <th>X1</th>\n",
       "      <th>X2</th>\n",
       "      <th>X3</th>\n",
       "      <th>X4</th>\n",
       "      <th>X5</th>\n",
       "    </tr>\n",
       "  </thead>\n",
       "  <tbody>\n",
       "    <tr>\n",
       "      <th>0</th>\n",
       "      <td>0.584760</td>\n",
       "      <td>0.009866</td>\n",
       "      <td>0.037065</td>\n",
       "      <td>0.461825</td>\n",
       "      <td>0.692858</td>\n",
       "    </tr>\n",
       "    <tr>\n",
       "      <th>1</th>\n",
       "      <td>0.464179</td>\n",
       "      <td>0.959529</td>\n",
       "      <td>0.445726</td>\n",
       "      <td>0.731612</td>\n",
       "      <td>0.360587</td>\n",
       "    </tr>\n",
       "    <tr>\n",
       "      <th>2</th>\n",
       "      <td>0.269258</td>\n",
       "      <td>0.650423</td>\n",
       "      <td>0.248126</td>\n",
       "      <td>0.518477</td>\n",
       "      <td>0.477514</td>\n",
       "    </tr>\n",
       "    <tr>\n",
       "      <th>3</th>\n",
       "      <td>0.940628</td>\n",
       "      <td>0.593691</td>\n",
       "      <td>0.371789</td>\n",
       "      <td>0.368715</td>\n",
       "      <td>0.155352</td>\n",
       "    </tr>\n",
       "    <tr>\n",
       "      <th>4</th>\n",
       "      <td>0.931325</td>\n",
       "      <td>0.332575</td>\n",
       "      <td>0.492448</td>\n",
       "      <td>0.992181</td>\n",
       "      <td>0.648721</td>\n",
       "    </tr>\n",
       "  </tbody>\n",
       "</table>\n",
       "</div>"
      ],
      "text/plain": [
       "         X1        X2        X3        X4        X5\n",
       "0  0.584760  0.009866  0.037065  0.461825  0.692858\n",
       "1  0.464179  0.959529  0.445726  0.731612  0.360587\n",
       "2  0.269258  0.650423  0.248126  0.518477  0.477514\n",
       "3  0.940628  0.593691  0.371789  0.368715  0.155352\n",
       "4  0.931325  0.332575  0.492448  0.992181  0.648721"
      ]
     },
     "execution_count": 32,
     "metadata": {},
     "output_type": "execute_result"
    }
   ],
   "source": [
    "df_bin.head()"
   ]
  },
  {
   "cell_type": "code",
   "execution_count": 33,
   "metadata": {},
   "outputs": [
    {
     "data": {
      "text/html": [
       "<div>\n",
       "<style scoped>\n",
       "    .dataframe tbody tr th:only-of-type {\n",
       "        vertical-align: middle;\n",
       "    }\n",
       "\n",
       "    .dataframe tbody tr th {\n",
       "        vertical-align: top;\n",
       "    }\n",
       "\n",
       "    .dataframe thead th {\n",
       "        text-align: right;\n",
       "    }\n",
       "</style>\n",
       "<table border=\"1\" class=\"dataframe\">\n",
       "  <thead>\n",
       "    <tr style=\"text-align: right;\">\n",
       "      <th></th>\n",
       "      <th>X1</th>\n",
       "      <th>X2</th>\n",
       "      <th>X3</th>\n",
       "      <th>X4</th>\n",
       "      <th>X5</th>\n",
       "    </tr>\n",
       "  </thead>\n",
       "  <tbody>\n",
       "    <tr>\n",
       "      <th>0</th>\n",
       "      <td>0.584760</td>\n",
       "      <td>0.009866</td>\n",
       "      <td>0.037065</td>\n",
       "      <td>0.461825</td>\n",
       "      <td>0.692858</td>\n",
       "    </tr>\n",
       "    <tr>\n",
       "      <th>1</th>\n",
       "      <td>0.464179</td>\n",
       "      <td>0.959529</td>\n",
       "      <td>0.445726</td>\n",
       "      <td>0.731612</td>\n",
       "      <td>0.360587</td>\n",
       "    </tr>\n",
       "    <tr>\n",
       "      <th>2</th>\n",
       "      <td>0.269258</td>\n",
       "      <td>0.650423</td>\n",
       "      <td>0.248126</td>\n",
       "      <td>0.518477</td>\n",
       "      <td>0.477514</td>\n",
       "    </tr>\n",
       "    <tr>\n",
       "      <th>3</th>\n",
       "      <td>0.940628</td>\n",
       "      <td>0.593691</td>\n",
       "      <td>0.371789</td>\n",
       "      <td>0.368715</td>\n",
       "      <td>0.155352</td>\n",
       "    </tr>\n",
       "    <tr>\n",
       "      <th>4</th>\n",
       "      <td>0.931325</td>\n",
       "      <td>0.332575</td>\n",
       "      <td>0.492448</td>\n",
       "      <td>0.992181</td>\n",
       "      <td>0.648721</td>\n",
       "    </tr>\n",
       "    <tr>\n",
       "      <th>5</th>\n",
       "      <td>0.355951</td>\n",
       "      <td>0.739965</td>\n",
       "      <td>0.945188</td>\n",
       "      <td>0.541521</td>\n",
       "      <td>0.892852</td>\n",
       "    </tr>\n",
       "    <tr>\n",
       "      <th>6</th>\n",
       "      <td>0.534834</td>\n",
       "      <td>0.230703</td>\n",
       "      <td>0.404806</td>\n",
       "      <td>0.591894</td>\n",
       "      <td>0.350331</td>\n",
       "    </tr>\n",
       "    <tr>\n",
       "      <th>7</th>\n",
       "      <td>0.122461</td>\n",
       "      <td>0.459473</td>\n",
       "      <td>0.908535</td>\n",
       "      <td>0.621292</td>\n",
       "      <td>0.640007</td>\n",
       "    </tr>\n",
       "    <tr>\n",
       "      <th>8</th>\n",
       "      <td>0.312037</td>\n",
       "      <td>0.149533</td>\n",
       "      <td>0.929139</td>\n",
       "      <td>0.934819</td>\n",
       "      <td>0.948872</td>\n",
       "    </tr>\n",
       "    <tr>\n",
       "      <th>9</th>\n",
       "      <td>0.903036</td>\n",
       "      <td>0.627302</td>\n",
       "      <td>0.695083</td>\n",
       "      <td>0.867990</td>\n",
       "      <td>0.978239</td>\n",
       "    </tr>\n",
       "  </tbody>\n",
       "</table>\n",
       "</div>"
      ],
      "text/plain": [
       "         X1        X2        X3        X4        X5\n",
       "0  0.584760  0.009866  0.037065  0.461825  0.692858\n",
       "1  0.464179  0.959529  0.445726  0.731612  0.360587\n",
       "2  0.269258  0.650423  0.248126  0.518477  0.477514\n",
       "3  0.940628  0.593691  0.371789  0.368715  0.155352\n",
       "4  0.931325  0.332575  0.492448  0.992181  0.648721\n",
       "5  0.355951  0.739965  0.945188  0.541521  0.892852\n",
       "6  0.534834  0.230703  0.404806  0.591894  0.350331\n",
       "7  0.122461  0.459473  0.908535  0.621292  0.640007\n",
       "8  0.312037  0.149533  0.929139  0.934819  0.948872\n",
       "9  0.903036  0.627302  0.695083  0.867990  0.978239"
      ]
     },
     "execution_count": 33,
     "metadata": {},
     "output_type": "execute_result"
    }
   ],
   "source": [
    "df_bin.head(10)"
   ]
  },
  {
   "cell_type": "code",
   "execution_count": 34,
   "metadata": {
    "scrolled": false
   },
   "outputs": [
    {
     "data": {
      "text/html": [
       "<div>\n",
       "<style scoped>\n",
       "    .dataframe tbody tr th:only-of-type {\n",
       "        vertical-align: middle;\n",
       "    }\n",
       "\n",
       "    .dataframe tbody tr th {\n",
       "        vertical-align: top;\n",
       "    }\n",
       "\n",
       "    .dataframe thead th {\n",
       "        text-align: right;\n",
       "    }\n",
       "</style>\n",
       "<table border=\"1\" class=\"dataframe\">\n",
       "  <thead>\n",
       "    <tr style=\"text-align: right;\">\n",
       "      <th></th>\n",
       "      <th>X1</th>\n",
       "      <th>X2</th>\n",
       "      <th>X3</th>\n",
       "      <th>X4</th>\n",
       "      <th>X5</th>\n",
       "    </tr>\n",
       "  </thead>\n",
       "  <tbody>\n",
       "    <tr>\n",
       "      <th>495</th>\n",
       "      <td>0.780325</td>\n",
       "      <td>0.092680</td>\n",
       "      <td>0.490714</td>\n",
       "      <td>0.980075</td>\n",
       "      <td>0.336522</td>\n",
       "    </tr>\n",
       "    <tr>\n",
       "      <th>496</th>\n",
       "      <td>0.346386</td>\n",
       "      <td>0.800054</td>\n",
       "      <td>0.509790</td>\n",
       "      <td>0.491396</td>\n",
       "      <td>0.486495</td>\n",
       "    </tr>\n",
       "    <tr>\n",
       "      <th>497</th>\n",
       "      <td>0.457983</td>\n",
       "      <td>0.601666</td>\n",
       "      <td>0.065915</td>\n",
       "      <td>0.448387</td>\n",
       "      <td>0.160671</td>\n",
       "    </tr>\n",
       "    <tr>\n",
       "      <th>498</th>\n",
       "      <td>0.850296</td>\n",
       "      <td>0.353489</td>\n",
       "      <td>0.229653</td>\n",
       "      <td>0.865237</td>\n",
       "      <td>0.115055</td>\n",
       "    </tr>\n",
       "    <tr>\n",
       "      <th>499</th>\n",
       "      <td>0.353395</td>\n",
       "      <td>0.705860</td>\n",
       "      <td>0.961016</td>\n",
       "      <td>0.140172</td>\n",
       "      <td>0.364809</td>\n",
       "    </tr>\n",
       "  </tbody>\n",
       "</table>\n",
       "</div>"
      ],
      "text/plain": [
       "           X1        X2        X3        X4        X5\n",
       "495  0.780325  0.092680  0.490714  0.980075  0.336522\n",
       "496  0.346386  0.800054  0.509790  0.491396  0.486495\n",
       "497  0.457983  0.601666  0.065915  0.448387  0.160671\n",
       "498  0.850296  0.353489  0.229653  0.865237  0.115055\n",
       "499  0.353395  0.705860  0.961016  0.140172  0.364809"
      ]
     },
     "execution_count": 34,
     "metadata": {},
     "output_type": "execute_result"
    }
   ],
   "source": [
    "df_bin.tail()"
   ]
  },
  {
   "cell_type": "code",
   "execution_count": 35,
   "metadata": {
    "scrolled": true
   },
   "outputs": [
    {
     "data": {
      "text/plain": [
       "Index(['X1', 'X2', 'X3', 'X4', 'X5'], dtype='object')"
      ]
     },
     "execution_count": 35,
     "metadata": {},
     "output_type": "execute_result"
    }
   ],
   "source": [
    "df_bin.columns"
   ]
  },
  {
   "cell_type": "code",
   "execution_count": 36,
   "metadata": {},
   "outputs": [
    {
     "data": {
      "text/plain": [
       "X1    float64\n",
       "X2    float64\n",
       "X3    float64\n",
       "X4    float64\n",
       "X5    float64\n",
       "dtype: object"
      ]
     },
     "execution_count": 36,
     "metadata": {},
     "output_type": "execute_result"
    }
   ],
   "source": [
    "df_bin.dtypes"
   ]
  },
  {
   "cell_type": "markdown",
   "metadata": {},
   "source": [
    "float64일때 64라는 숫자는 크면 클 수록 자료형의 크기가 크다고 알면 됨.  \n",
    "\n",
    "## 값 변경하기\n",
    "\n",
    "인덱서를 사용하여 접근하여, 조회한 값을 직접 변경할 수 있다. (가장 좋은 방법).  "
   ]
  },
  {
   "cell_type": "code",
   "execution_count": 37,
   "metadata": {},
   "outputs": [
    {
     "data": {
      "text/html": [
       "<div>\n",
       "<style scoped>\n",
       "    .dataframe tbody tr th:only-of-type {\n",
       "        vertical-align: middle;\n",
       "    }\n",
       "\n",
       "    .dataframe tbody tr th {\n",
       "        vertical-align: top;\n",
       "    }\n",
       "\n",
       "    .dataframe thead th {\n",
       "        text-align: right;\n",
       "    }\n",
       "</style>\n",
       "<table border=\"1\" class=\"dataframe\">\n",
       "  <thead>\n",
       "    <tr style=\"text-align: right;\">\n",
       "      <th></th>\n",
       "      <th>X1</th>\n",
       "      <th>X2</th>\n",
       "      <th>X3</th>\n",
       "      <th>X4</th>\n",
       "      <th>X5</th>\n",
       "    </tr>\n",
       "  </thead>\n",
       "  <tbody>\n",
       "    <tr>\n",
       "      <th>0</th>\n",
       "      <td>0.584760</td>\n",
       "      <td>0.009866</td>\n",
       "      <td>0.037065</td>\n",
       "      <td>0.461825</td>\n",
       "      <td>0.692858</td>\n",
       "    </tr>\n",
       "    <tr>\n",
       "      <th>1</th>\n",
       "      <td>0.464179</td>\n",
       "      <td>0.959529</td>\n",
       "      <td>0.445726</td>\n",
       "      <td>0.731612</td>\n",
       "      <td>0.360587</td>\n",
       "    </tr>\n",
       "    <tr>\n",
       "      <th>2</th>\n",
       "      <td>0.269258</td>\n",
       "      <td>0.650423</td>\n",
       "      <td>0.248126</td>\n",
       "      <td>0.518477</td>\n",
       "      <td>0.477514</td>\n",
       "    </tr>\n",
       "    <tr>\n",
       "      <th>3</th>\n",
       "      <td>0.940628</td>\n",
       "      <td>0.593691</td>\n",
       "      <td>0.371789</td>\n",
       "      <td>0.368715</td>\n",
       "      <td>Changed</td>\n",
       "    </tr>\n",
       "    <tr>\n",
       "      <th>4</th>\n",
       "      <td>0.931325</td>\n",
       "      <td>0.332575</td>\n",
       "      <td>0.492448</td>\n",
       "      <td>0.992181</td>\n",
       "      <td>0.648721</td>\n",
       "    </tr>\n",
       "  </tbody>\n",
       "</table>\n",
       "</div>"
      ],
      "text/plain": [
       "         X1        X2        X3        X4        X5\n",
       "0  0.584760  0.009866  0.037065  0.461825  0.692858\n",
       "1  0.464179  0.959529  0.445726  0.731612  0.360587\n",
       "2  0.269258  0.650423  0.248126  0.518477  0.477514\n",
       "3  0.940628  0.593691  0.371789  0.368715   Changed\n",
       "4  0.931325  0.332575  0.492448  0.992181  0.648721"
      ]
     },
     "execution_count": 37,
     "metadata": {},
     "output_type": "execute_result"
    }
   ],
   "source": [
    "df_bin.iloc[3, 4] = 'Changed'\n",
    "df_bin.head()"
   ]
  },
  {
   "cell_type": "markdown",
   "metadata": {},
   "source": [
    "바꾸고 나면 object로 바뀐다. Changed라는 값이 문자열이기 때문에, 시리즈는 ndarray의 성격을 그대로 가져가기 때문에, 상위자료형인 오브젝트로 통합된다.  "
   ]
  },
  {
   "cell_type": "code",
   "execution_count": 42,
   "metadata": {},
   "outputs": [
    {
     "data": {
      "text/plain": [
       "dtype('O')"
      ]
     },
     "execution_count": 42,
     "metadata": {},
     "output_type": "execute_result"
    }
   ],
   "source": [
    "df_bin['X5'].dtypes"
   ]
  },
  {
   "cell_type": "code",
   "execution_count": 41,
   "metadata": {},
   "outputs": [
    {
     "data": {
      "text/html": [
       "<div>\n",
       "<style scoped>\n",
       "    .dataframe tbody tr th:only-of-type {\n",
       "        vertical-align: middle;\n",
       "    }\n",
       "\n",
       "    .dataframe tbody tr th {\n",
       "        vertical-align: top;\n",
       "    }\n",
       "\n",
       "    .dataframe thead th {\n",
       "        text-align: right;\n",
       "    }\n",
       "</style>\n",
       "<table border=\"1\" class=\"dataframe\">\n",
       "  <thead>\n",
       "    <tr style=\"text-align: right;\">\n",
       "      <th></th>\n",
       "      <th>X1</th>\n",
       "      <th>X2</th>\n",
       "      <th>X3</th>\n",
       "      <th>X4</th>\n",
       "      <th>X5</th>\n",
       "    </tr>\n",
       "  </thead>\n",
       "  <tbody>\n",
       "    <tr>\n",
       "      <th>0</th>\n",
       "      <td>0.584760</td>\n",
       "      <td>0.009866</td>\n",
       "      <td>0.037065</td>\n",
       "      <td>0.461825</td>\n",
       "      <td>0.692858</td>\n",
       "    </tr>\n",
       "    <tr>\n",
       "      <th>1</th>\n",
       "      <td>0.464179</td>\n",
       "      <td>0.959529</td>\n",
       "      <td>0.445726</td>\n",
       "      <td>0.731612</td>\n",
       "      <td>0.360587</td>\n",
       "    </tr>\n",
       "    <tr>\n",
       "      <th>2</th>\n",
       "      <td>0.269258</td>\n",
       "      <td>0.650423</td>\n",
       "      <td>0.248126</td>\n",
       "      <td>0.518477</td>\n",
       "      <td>0.477514</td>\n",
       "    </tr>\n",
       "    <tr>\n",
       "      <th>3</th>\n",
       "      <td>0.940628</td>\n",
       "      <td>0.593691</td>\n",
       "      <td>Changed2</td>\n",
       "      <td>Changed2</td>\n",
       "      <td>Changed</td>\n",
       "    </tr>\n",
       "    <tr>\n",
       "      <th>4</th>\n",
       "      <td>0.931325</td>\n",
       "      <td>0.332575</td>\n",
       "      <td>Changed2</td>\n",
       "      <td>Changed2</td>\n",
       "      <td>0.648721</td>\n",
       "    </tr>\n",
       "    <tr>\n",
       "      <th>5</th>\n",
       "      <td>0.355951</td>\n",
       "      <td>0.739965</td>\n",
       "      <td>Changed2</td>\n",
       "      <td>Changed2</td>\n",
       "      <td>0.892852</td>\n",
       "    </tr>\n",
       "    <tr>\n",
       "      <th>6</th>\n",
       "      <td>0.534834</td>\n",
       "      <td>0.230703</td>\n",
       "      <td>Changed2</td>\n",
       "      <td>Changed2</td>\n",
       "      <td>0.350331</td>\n",
       "    </tr>\n",
       "    <tr>\n",
       "      <th>7</th>\n",
       "      <td>0.122461</td>\n",
       "      <td>0.459473</td>\n",
       "      <td>Changed2</td>\n",
       "      <td>Changed2</td>\n",
       "      <td>0.640007</td>\n",
       "    </tr>\n",
       "    <tr>\n",
       "      <th>8</th>\n",
       "      <td>0.312037</td>\n",
       "      <td>0.149533</td>\n",
       "      <td>Changed2</td>\n",
       "      <td>Changed2</td>\n",
       "      <td>0.948872</td>\n",
       "    </tr>\n",
       "    <tr>\n",
       "      <th>9</th>\n",
       "      <td>0.903036</td>\n",
       "      <td>0.627302</td>\n",
       "      <td>Changed2</td>\n",
       "      <td>Changed2</td>\n",
       "      <td>0.978239</td>\n",
       "    </tr>\n",
       "    <tr>\n",
       "      <th>10</th>\n",
       "      <td>0.905637</td>\n",
       "      <td>0.193271</td>\n",
       "      <td>Changed2</td>\n",
       "      <td>Changed2</td>\n",
       "      <td>0.827439</td>\n",
       "    </tr>\n",
       "    <tr>\n",
       "      <th>11</th>\n",
       "      <td>0.830552</td>\n",
       "      <td>0.134808</td>\n",
       "      <td>Changed2</td>\n",
       "      <td>Changed2</td>\n",
       "      <td>0.599315</td>\n",
       "    </tr>\n",
       "    <tr>\n",
       "      <th>12</th>\n",
       "      <td>0.696126</td>\n",
       "      <td>0.102678</td>\n",
       "      <td>Changed2</td>\n",
       "      <td>Changed2</td>\n",
       "      <td>0.017141</td>\n",
       "    </tr>\n",
       "    <tr>\n",
       "      <th>13</th>\n",
       "      <td>0.870215</td>\n",
       "      <td>0.143421</td>\n",
       "      <td>Changed2</td>\n",
       "      <td>Changed2</td>\n",
       "      <td>0.988222</td>\n",
       "    </tr>\n",
       "    <tr>\n",
       "      <th>14</th>\n",
       "      <td>0.351196</td>\n",
       "      <td>0.351367</td>\n",
       "      <td>Changed2</td>\n",
       "      <td>Changed2</td>\n",
       "      <td>0.289648</td>\n",
       "    </tr>\n",
       "    <tr>\n",
       "      <th>15</th>\n",
       "      <td>0.960234</td>\n",
       "      <td>0.722813</td>\n",
       "      <td>Changed2</td>\n",
       "      <td>Changed2</td>\n",
       "      <td>0.36654</td>\n",
       "    </tr>\n",
       "    <tr>\n",
       "      <th>16</th>\n",
       "      <td>0.734696</td>\n",
       "      <td>0.940735</td>\n",
       "      <td>Changed2</td>\n",
       "      <td>Changed2</td>\n",
       "      <td>0.862463</td>\n",
       "    </tr>\n",
       "    <tr>\n",
       "      <th>17</th>\n",
       "      <td>0.477145</td>\n",
       "      <td>0.747400</td>\n",
       "      <td>Changed2</td>\n",
       "      <td>Changed2</td>\n",
       "      <td>0.950907</td>\n",
       "    </tr>\n",
       "    <tr>\n",
       "      <th>18</th>\n",
       "      <td>0.147981</td>\n",
       "      <td>0.417660</td>\n",
       "      <td>Changed2</td>\n",
       "      <td>Changed2</td>\n",
       "      <td>0.425029</td>\n",
       "    </tr>\n",
       "    <tr>\n",
       "      <th>19</th>\n",
       "      <td>0.435612</td>\n",
       "      <td>0.749195</td>\n",
       "      <td>Changed2</td>\n",
       "      <td>Changed2</td>\n",
       "      <td>0.087554</td>\n",
       "    </tr>\n",
       "    <tr>\n",
       "      <th>20</th>\n",
       "      <td>0.101158</td>\n",
       "      <td>0.384480</td>\n",
       "      <td>0.406424</td>\n",
       "      <td>0.393372</td>\n",
       "      <td>0.076086</td>\n",
       "    </tr>\n",
       "    <tr>\n",
       "      <th>21</th>\n",
       "      <td>0.235189</td>\n",
       "      <td>0.900966</td>\n",
       "      <td>0.540923</td>\n",
       "      <td>0.926359</td>\n",
       "      <td>0.49334</td>\n",
       "    </tr>\n",
       "    <tr>\n",
       "      <th>22</th>\n",
       "      <td>0.503400</td>\n",
       "      <td>0.014648</td>\n",
       "      <td>0.158743</td>\n",
       "      <td>0.866528</td>\n",
       "      <td>0.876497</td>\n",
       "    </tr>\n",
       "    <tr>\n",
       "      <th>23</th>\n",
       "      <td>0.459236</td>\n",
       "      <td>0.569666</td>\n",
       "      <td>0.55718</td>\n",
       "      <td>0.093613</td>\n",
       "      <td>0.892103</td>\n",
       "    </tr>\n",
       "    <tr>\n",
       "      <th>24</th>\n",
       "      <td>0.000399</td>\n",
       "      <td>0.645992</td>\n",
       "      <td>0.071993</td>\n",
       "      <td>0.95991</td>\n",
       "      <td>0.722639</td>\n",
       "    </tr>\n",
       "  </tbody>\n",
       "</table>\n",
       "</div>"
      ],
      "text/plain": [
       "          X1        X2        X3        X4        X5\n",
       "0   0.584760  0.009866  0.037065  0.461825  0.692858\n",
       "1   0.464179  0.959529  0.445726  0.731612  0.360587\n",
       "2   0.269258  0.650423  0.248126  0.518477  0.477514\n",
       "3   0.940628  0.593691  Changed2  Changed2   Changed\n",
       "4   0.931325  0.332575  Changed2  Changed2  0.648721\n",
       "5   0.355951  0.739965  Changed2  Changed2  0.892852\n",
       "6   0.534834  0.230703  Changed2  Changed2  0.350331\n",
       "7   0.122461  0.459473  Changed2  Changed2  0.640007\n",
       "8   0.312037  0.149533  Changed2  Changed2  0.948872\n",
       "9   0.903036  0.627302  Changed2  Changed2  0.978239\n",
       "10  0.905637  0.193271  Changed2  Changed2  0.827439\n",
       "11  0.830552  0.134808  Changed2  Changed2  0.599315\n",
       "12  0.696126  0.102678  Changed2  Changed2  0.017141\n",
       "13  0.870215  0.143421  Changed2  Changed2  0.988222\n",
       "14  0.351196  0.351367  Changed2  Changed2  0.289648\n",
       "15  0.960234  0.722813  Changed2  Changed2   0.36654\n",
       "16  0.734696  0.940735  Changed2  Changed2  0.862463\n",
       "17  0.477145  0.747400  Changed2  Changed2  0.950907\n",
       "18  0.147981  0.417660  Changed2  Changed2  0.425029\n",
       "19  0.435612  0.749195  Changed2  Changed2  0.087554\n",
       "20  0.101158  0.384480  0.406424  0.393372  0.076086\n",
       "21  0.235189  0.900966  0.540923  0.926359   0.49334\n",
       "22  0.503400  0.014648  0.158743  0.866528  0.876497\n",
       "23  0.459236  0.569666   0.55718  0.093613  0.892103\n",
       "24  0.000399  0.645992  0.071993   0.95991  0.722639"
      ]
     },
     "execution_count": 41,
     "metadata": {},
     "output_type": "execute_result"
    }
   ],
   "source": [
    "df_bin.iloc[3:20, 2:4] = 'Changed2'\n",
    "df_bin.iloc[:25]"
   ]
  }
 ],
 "metadata": {
  "kernelspec": {
   "display_name": "Python 3 (ipykernel)",
   "language": "python",
   "name": "python3"
  },
  "language_info": {
   "codemirror_mode": {
    "name": "ipython",
    "version": 3
   },
   "file_extension": ".py",
   "mimetype": "text/x-python",
   "name": "python",
   "nbconvert_exporter": "python",
   "pygments_lexer": "ipython3",
   "version": "3.8.5"
  },
  "toc": {
   "base_numbering": 1,
   "nav_menu": {},
   "number_sections": true,
   "sideBar": true,
   "skip_h1_title": false,
   "title_cell": "Table of Contents",
   "title_sidebar": "Contents",
   "toc_cell": false,
   "toc_position": {},
   "toc_section_display": true,
   "toc_window_display": false
  }
 },
 "nbformat": 4,
 "nbformat_minor": 2
}

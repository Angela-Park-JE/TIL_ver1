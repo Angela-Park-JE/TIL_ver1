{
 "cells": [
  {
   "cell_type": "markdown",
   "metadata": {},
   "source": [
    "# 딕셔너리\n",
    "\n",
    "사전은 키와 값의 쌍으로 이루어진 해시 테이블이다. 해시(Hash) 구조: 입력이 있고 그것과 연결된 출력이 있는 구조를 말한다.\n",
    "\n",
    "순서는 언제든 바뀔 수 있다.\n",
    "\n",
    "...\n",
    "\n",
    "요소에 접근하는 방법 : `dict[key]` value를 출력함\n",
    "\n",
    "변경하는 법 : ` dict[key] = new_value`\n",
    "\n",
    "삭제 : `del(dict[key])` \n",
    "\n",
    "\n",
    "딕셔너리 다루기 추가 공부\n",
    "--- \n",
    "\n",
    "일부 다른 글들을 참고하여 추가적으로 정리하였다\n",
    "\n",
    "_참조: https://bio-info.tistory.com/40_\n",
    "\n",
    "\n"
   ]
  },
  {
   "cell_type": "markdown",
   "metadata": {},
   "source": [
    "## dictionary 생성"
   ]
  },
  {
   "cell_type": "code",
   "execution_count": 61,
   "metadata": {},
   "outputs": [
    {
     "name": "stdout",
     "output_type": "stream",
     "text": [
      "{1: 1, 2: 4, 3: 9, 4: 16}\n"
     ]
    }
   ],
   "source": [
    "# 딕셔너리 생성하기1\n",
    "\n",
    "dic1 = {1:1, 2:4, 3:9, 4:16}\n",
    "print(dic1) # 사전 요소 접근하기"
   ]
  },
  {
   "cell_type": "code",
   "execution_count": 62,
   "metadata": {},
   "outputs": [
    {
     "name": "stdout",
     "output_type": "stream",
     "text": [
      "1\n"
     ]
    }
   ],
   "source": [
    "print(dic1[1])"
   ]
  },
  {
   "cell_type": "code",
   "execution_count": 63,
   "metadata": {},
   "outputs": [
    {
     "name": "stdout",
     "output_type": "stream",
     "text": [
      "{'a': 1, 'b': 2, 'c': 3}\n"
     ]
    }
   ],
   "source": [
    "# 딕셔너리 생성하기 2\n",
    "\n",
    "dic2 = dict(a=1, b=2, c=3)\n",
    "\n",
    "print(dic2)\n",
    "# {'a'= 1, 'b'= 2, 'c'= 3}"
   ]
  },
  {
   "cell_type": "code",
   "execution_count": 64,
   "metadata": {},
   "outputs": [
    {
     "name": "stdout",
     "output_type": "stream",
     "text": [
      "1\n"
     ]
    }
   ],
   "source": [
    "print(dic2['a'])"
   ]
  },
  {
   "cell_type": "markdown",
   "metadata": {},
   "source": [
    "딕셔너리 생성할땐 중괄호 안에 key와 value를 콜론( : )으로 쌍을 만들어 직접 정의하는 방법이 있습니다. \n",
    "\n",
    "만약 길이가 같은 이터레이터(iterator) 형태의 key 배열과 value 배열이 있다면 zip함수를 이용해 쉽게 dictionary를 생성할 수 있습니다. \n",
    "\n",
    "> 이터레이터(iterator) : 반복이 가능한 객체. 쉽게 말해, 반복문을 활용해 데이터 순회가 가능한 자료형을 의미합니다. 예를 들어 List, Dictionary, Set, Tuple, String 등이 있습니다."
   ]
  },
  {
   "cell_type": "code",
   "execution_count": 98,
   "metadata": {},
   "outputs": [
    {
     "name": "stdout",
     "output_type": "stream",
     "text": [
      "{'가': 0, '나': 1, '다': 2, '라': 3}\n"
     ]
    }
   ],
   "source": [
    "# 딕셔너리 생성하기 3\n",
    "\n",
    "dic3 = dict(zip('가나다라',range(4))) # zip 함수를 사용해 dict 생성: zip(key list, value list)\n",
    "print(dic3)"
   ]
  },
  {
   "cell_type": "markdown",
   "metadata": {},
   "source": [
    "## 합치기\n",
    "리스트는 +기호를 이용해서 2개의 리스틀 합칠 수 있다. 하지만, 딕셔너리에서는 조금 다른 방법을 써야 한다. 2가지 방법이 있는데, 하나는 update함수를 이용하는 것이고 다른 하나는 dict함수를 이용하는 방법이다."
   ]
  },
  {
   "cell_type": "code",
   "execution_count": 65,
   "metadata": {},
   "outputs": [],
   "source": [
    "d1 = {'spade': 1, 'heart': 2}\n",
    "d2 = {'clover': 3, 'diamond': 4}"
   ]
  },
  {
   "cell_type": "code",
   "execution_count": 66,
   "metadata": {},
   "outputs": [
    {
     "data": {
      "text/plain": [
       "{'spade': 1, 'heart': 2, 'clover': 3, 'diamond': 4}"
      ]
     },
     "execution_count": 66,
     "metadata": {},
     "output_type": "execute_result"
    }
   ],
   "source": [
    "# 방법1: update()\n",
    "\n",
    "d1.update(d2)\n",
    "d1"
   ]
  },
  {
   "cell_type": "code",
   "execution_count": 67,
   "metadata": {},
   "outputs": [],
   "source": [
    "# 키가 중복될 경우 값은 가장 나중에 넣은 것으로 교체된다.\n",
    "\n",
    "d3 = {'spade': 1, 'heart': 2}\n",
    "d4 = {'clover': 3, 'diamond': 4}"
   ]
  },
  {
   "cell_type": "code",
   "execution_count": 68,
   "metadata": {},
   "outputs": [
    {
     "data": {
      "text/plain": [
       "{'clover': 3, 'diamond': 4, 'spade': 1, 'heart': 2}"
      ]
     },
     "execution_count": 68,
     "metadata": {},
     "output_type": "execute_result"
    }
   ],
   "source": [
    "# 방법2: dict 함수 이용. d2에 d3를 더한 꼴이 되었다. \n",
    "\n",
    "d3 = dict(spade = 1, heart = 2)\n",
    "d4 = dict(d2, **d3)\n",
    "\n",
    "d4"
   ]
  },
  {
   "cell_type": "code",
   "execution_count": 69,
   "metadata": {},
   "outputs": [
    {
     "name": "stdout",
     "output_type": "stream",
     "text": [
      "{'spade': 1, 'heart': 2, 'clover': 3, 'diamond': 4} {'clover': 3, 'diamond': 4, 'spade': 1, 'heart': 2}\n"
     ]
    }
   ],
   "source": [
    "# 여기까지 실행했을 때 d1 과 d4는 결과적으로 같게 된다.\n",
    "\n",
    "print(d1, d4)"
   ]
  },
  {
   "cell_type": "markdown",
   "metadata": {},
   "source": [
    "## 특정값 \n",
    "\n",
    "인덱스 대신 키를 이용한다."
   ]
  },
  {
   "cell_type": "code",
   "execution_count": 70,
   "metadata": {},
   "outputs": [
    {
     "data": {
      "text/plain": [
       "2"
      ]
     },
     "execution_count": 70,
     "metadata": {},
     "output_type": "execute_result"
    }
   ],
   "source": [
    "d1['heart']"
   ]
  },
  {
   "cell_type": "code",
   "execution_count": 71,
   "metadata": {},
   "outputs": [
    {
     "data": {
      "text/plain": [
       "7"
      ]
     },
     "execution_count": 71,
     "metadata": {},
     "output_type": "execute_result"
    }
   ],
   "source": [
    "d1['clover'] + d1['diamond']"
   ]
  },
  {
   "cell_type": "markdown",
   "metadata": {},
   "source": [
    "## 값 추가\n",
    "\n",
    "새로운 키, 값을 같이 할당하면 된다."
   ]
  },
  {
   "cell_type": "code",
   "execution_count": 72,
   "metadata": {},
   "outputs": [
    {
     "data": {
      "text/plain": [
       "{1: 1, 2: 4, 3: 9, 4: 16}"
      ]
     },
     "execution_count": 72,
     "metadata": {},
     "output_type": "execute_result"
    }
   ],
   "source": [
    "dic1"
   ]
  },
  {
   "cell_type": "code",
   "execution_count": 73,
   "metadata": {},
   "outputs": [
    {
     "name": "stdout",
     "output_type": "stream",
     "text": [
      "20\n"
     ]
    }
   ],
   "source": [
    "# 새로운 요소 추가\n",
    "\n",
    "dic1[5] = 20 \n",
    "print(dic1[5])"
   ]
  },
  {
   "cell_type": "code",
   "execution_count": 74,
   "metadata": {},
   "outputs": [
    {
     "data": {
      "text/plain": [
       "{'a': 1, 'b': 2, 'c': 3}"
      ]
     },
     "execution_count": 74,
     "metadata": {},
     "output_type": "execute_result"
    }
   ],
   "source": [
    "dic2"
   ]
  },
  {
   "cell_type": "code",
   "execution_count": 75,
   "metadata": {},
   "outputs": [
    {
     "name": "stdout",
     "output_type": "stream",
     "text": [
      "4\n"
     ]
    }
   ],
   "source": [
    "# 새 요소 추가\n",
    "\n",
    "dic2['d'] = 4\n",
    "print(dic2['d'])"
   ]
  },
  {
   "cell_type": "markdown",
   "metadata": {},
   "source": [
    "## 값 삭제 : del"
   ]
  },
  {
   "cell_type": "code",
   "execution_count": 84,
   "metadata": {},
   "outputs": [
    {
     "data": {
      "text/plain": [
       "{1: 1, 2: 4, 3: 9, 4: 16, 5: 21}"
      ]
     },
     "execution_count": 84,
     "metadata": {},
     "output_type": "execute_result"
    }
   ],
   "source": [
    "dic1"
   ]
  },
  {
   "cell_type": "code",
   "execution_count": 85,
   "metadata": {},
   "outputs": [
    {
     "name": "stdout",
     "output_type": "stream",
     "text": [
      "{1: 1, 2: 4, 3: 9, 4: 16}\n"
     ]
    }
   ],
   "source": [
    "del dic1[5]\n",
    "print(dic1)"
   ]
  },
  {
   "cell_type": "markdown",
   "metadata": {},
   "source": [
    "## 키-값 전체 삭제 : .clear()"
   ]
  },
  {
   "cell_type": "code",
   "execution_count": 86,
   "metadata": {},
   "outputs": [
    {
     "data": {
      "text/plain": [
       "{'a': 0, 'b': 1, 'c': 2, 'd': 3}"
      ]
     },
     "execution_count": 86,
     "metadata": {},
     "output_type": "execute_result"
    }
   ],
   "source": [
    "dic2"
   ]
  },
  {
   "cell_type": "code",
   "execution_count": 87,
   "metadata": {},
   "outputs": [
    {
     "name": "stdout",
     "output_type": "stream",
     "text": [
      "{}\n"
     ]
    }
   ],
   "source": [
    "dic2.clear()\n",
    "print(dic2)"
   ]
  },
  {
   "cell_type": "markdown",
   "metadata": {},
   "source": [
    "## 값 변경\n",
    "\n",
    "해당 키를 적고 새 값을 넣어주면 끝!"
   ]
  },
  {
   "cell_type": "code",
   "execution_count": 76,
   "metadata": {},
   "outputs": [
    {
     "data": {
      "text/plain": [
       "{1: 1, 2: 4, 3: 9, 4: 16, 5: 20}"
      ]
     },
     "execution_count": 76,
     "metadata": {},
     "output_type": "execute_result"
    }
   ],
   "source": [
    "dic1"
   ]
  },
  {
   "cell_type": "code",
   "execution_count": 77,
   "metadata": {},
   "outputs": [
    {
     "name": "stdout",
     "output_type": "stream",
     "text": [
      "{1: 1, 2: 4, 3: 9, 4: 16, 5: 21}\n"
     ]
    }
   ],
   "source": [
    "dic1[5] = 21\n",
    "print(dic1)"
   ]
  },
  {
   "cell_type": "code",
   "execution_count": 78,
   "metadata": {},
   "outputs": [
    {
     "data": {
      "text/plain": [
       "{'a': 1, 'b': 2, 'c': 3, 'd': 4}"
      ]
     },
     "execution_count": 78,
     "metadata": {},
     "output_type": "execute_result"
    }
   ],
   "source": [
    "dic2"
   ]
  },
  {
   "cell_type": "code",
   "execution_count": 79,
   "metadata": {},
   "outputs": [
    {
     "name": "stdout",
     "output_type": "stream",
     "text": [
      "{'a': 0, 'b': 1, 'c': 2, 'd': 3}\n"
     ]
    }
   ],
   "source": [
    "dic2['a'], dic2['b'], dic2['c'], dic2['d'] = 0, 1, 2, 3\n",
    "print(dic2)"
   ]
  },
  {
   "cell_type": "markdown",
   "metadata": {},
   "source": [
    "# 각종 함수\n",
    "\n",
    "dict_keys, dict_values 같은 형태로 출력된다. 이를 풀기 위해서는 이것을 list로 만들어주면 쉽게 활용이 가능하다.\n",
    "\n",
    "## 키 혹은 값만 가져오기"
   ]
  },
  {
   "cell_type": "code",
   "execution_count": 81,
   "metadata": {},
   "outputs": [
    {
     "data": {
      "text/plain": [
       "dict_keys(['spade', 'heart', 'clover', 'diamond'])"
      ]
     },
     "execution_count": 81,
     "metadata": {},
     "output_type": "execute_result"
    }
   ],
   "source": [
    "d1.keys()"
   ]
  },
  {
   "cell_type": "code",
   "execution_count": 82,
   "metadata": {},
   "outputs": [
    {
     "data": {
      "text/plain": [
       "dict_values([1, 2, 3, 4])"
      ]
     },
     "execution_count": 82,
     "metadata": {},
     "output_type": "execute_result"
    }
   ],
   "source": [
    "d1.values()"
   ]
  },
  {
   "cell_type": "markdown",
   "metadata": {},
   "source": [
    "## 튜플로 묶어서 반환하기\n",
    "\n",
    "튜플은 수정이 불가한 읽기만 가능한 자료형이다. 불변한 대신 읽기 속도가 빠르다."
   ]
  },
  {
   "cell_type": "code",
   "execution_count": 83,
   "metadata": {},
   "outputs": [
    {
     "data": {
      "text/plain": [
       "dict_items([('spade', 1), ('heart', 2), ('clover', 3), ('diamond', 4)])"
      ]
     },
     "execution_count": 83,
     "metadata": {},
     "output_type": "execute_result"
    }
   ],
   "source": [
    "d1.items()"
   ]
  },
  {
   "cell_type": "markdown",
   "metadata": {},
   "source": [
    "순서가 항상 그대로 기억되는 것은 아니기 때문에 순서를 제대로 순회하기 위해서는 items를 주로 사용한다.\n",
    "\n",
    "## 순회와 값 변경\n",
    "\n",
    "함수들을 이용해서 순회와 값변경을 해본다."
   ]
  },
  {
   "cell_type": "code",
   "execution_count": 89,
   "metadata": {},
   "outputs": [
    {
     "data": {
      "text/plain": [
       "{'spade': 1, 'heart': 2, 'clover': 3, 'diamond': 4}"
      ]
     },
     "execution_count": 89,
     "metadata": {},
     "output_type": "execute_result"
    }
   ],
   "source": [
    "d1"
   ]
  },
  {
   "cell_type": "code",
   "execution_count": 88,
   "metadata": {},
   "outputs": [
    {
     "name": "stdout",
     "output_type": "stream",
     "text": [
      "spade 1\n",
      "heart 2\n",
      "clover 3\n",
      "diamond 4\n"
     ]
    }
   ],
   "source": [
    "# 순회 예시\n",
    "\n",
    "for key, val in d1.items():\n",
    "    print(key, val)"
   ]
  },
  {
   "cell_type": "code",
   "execution_count": 92,
   "metadata": {},
   "outputs": [
    {
     "data": {
      "text/plain": [
       "{'clover': 3, 'diamond': 4, 'spade': 1, 'heart': 2}"
      ]
     },
     "execution_count": 92,
     "metadata": {},
     "output_type": "execute_result"
    }
   ],
   "source": [
    "d4"
   ]
  },
  {
   "cell_type": "code",
   "execution_count": 94,
   "metadata": {},
   "outputs": [
    {
     "name": "stdout",
     "output_type": "stream",
     "text": [
      "{'clover': 12, 'diamond': 16, 'spade': 4, 'heart': 8}\n"
     ]
    }
   ],
   "source": [
    "# 값 변경 예시\n",
    "# key만 돌면서 바꾸면서 저장되도록 해본다.\n",
    "\n",
    "for key in d4.keys():\n",
    "    d4[key] = d4[key] * 2\n",
    "\n",
    "print(d4)"
   ]
  },
  {
   "cell_type": "markdown",
   "metadata": {},
   "source": [
    "# 응용\n",
    "\n",
    "블로그를 참고하였다. 진짜 꿀팁! \n",
    "\n",
    "---\n",
    "\n",
    "## 최대 value에 대한 key 찾기\n",
    "\n",
    "max(di)를 하면 di의 key값 중 최댓값이 출력됩니다. \n",
    "\n",
    "key=di.get을 사용했는데, di.get은 일반적으로 di.get(key)와 같이 쓰여 해당 key에 대한 value를 출력해주는 함수입니다. \n",
    "\n",
    "max의 key로 di.get함수를 사용했는데 key를 입력으로 value를 출력하기 때문에 value의 최댓값을 기준으로 하여 di의 key를 출력해주게 됩니다.\n"
   ]
  },
  {
   "cell_type": "code",
   "execution_count": 104,
   "metadata": {},
   "outputs": [
    {
     "data": {
      "text/plain": [
       "{'clover': 12, 'diamond': 16, 'spade': 4, 'heart': 8}"
      ]
     },
     "execution_count": 104,
     "metadata": {},
     "output_type": "execute_result"
    }
   ],
   "source": [
    "d4"
   ]
  },
  {
   "cell_type": "code",
   "execution_count": 107,
   "metadata": {},
   "outputs": [
    {
     "data": {
      "text/plain": [
       "'spade'"
      ]
     },
     "execution_count": 107,
     "metadata": {},
     "output_type": "execute_result"
    }
   ],
   "source": [
    "# key 의 최대 값, 알파벳 순이라 spade가 출력된다.\n",
    "\n",
    "max(d4)"
   ]
  },
  {
   "cell_type": "code",
   "execution_count": 110,
   "metadata": {},
   "outputs": [
    {
     "data": {
      "text/plain": [
       "8"
      ]
     },
     "execution_count": 110,
     "metadata": {},
     "output_type": "execute_result"
    }
   ],
   "source": [
    "d4.get(key)"
   ]
  },
  {
   "cell_type": "code",
   "execution_count": 112,
   "metadata": {},
   "outputs": [
    {
     "data": {
      "text/plain": [
       "'diamond'"
      ]
     },
     "execution_count": 112,
     "metadata": {},
     "output_type": "execute_result"
    }
   ],
   "source": [
    "# key를 입력으로 value를 출력하기 때문에 value의 최댓값을 기준으로 하여 di의 key를 출력한 결과\n",
    "\n",
    "max(d4, key = d4.get)"
   ]
  },
  {
   "cell_type": "markdown",
   "metadata": {},
   "source": [
    "다음으로 사용한 것은 리스트 컴프리핸션입니다. \n",
    "\n",
    "max(di.values())를 하게 되면 딕셔너리의 value 중에 최댓값을 출력해주며 \n",
    "\n",
    "di.items()에서 **k에 key값이 v에 value값이 반복되며** **v가 value중 최대값을 때만** k를 출력하게 하는 것입니다."
   ]
  },
  {
   "cell_type": "code",
   "execution_count": 114,
   "metadata": {},
   "outputs": [
    {
     "data": {
      "text/plain": [
       "['diamond']"
      ]
     },
     "execution_count": 114,
     "metadata": {},
     "output_type": "execute_result"
    }
   ],
   "source": [
    "# 리스트 컴프리헨션을 이용하면 이렇게 된다\n",
    "\n",
    "[k for k, v in d4.items() if max(d4.values()) == v]"
   ]
  },
  {
   "cell_type": "markdown",
   "metadata": {},
   "source": [
    "### 최대값이 여러개일 경우\n",
    "\n",
    "max 함수를 이용한 경우 최댓값 value 중 순서상 가장 앞에 있는 key 하나만 출력하지만,\n",
    "\n",
    "리스트 컴프리핸션을 이용하면 최대 values 중 모든 key를 출력한다.\n",
    "\n",
    "최댓값이 1개인 게 확실하면 max함수를 사용하는 편이 간단하지만\n",
    "\n",
    "여러개일 경우에는 리스트 컴프리핸션을 사용하는 편이 낫다."
   ]
  },
  {
   "cell_type": "code",
   "execution_count": 115,
   "metadata": {},
   "outputs": [
    {
     "data": {
      "text/plain": [
       "{'clover': 12, 'diamond': 16, 'spade': 4, 'heart': 8}"
      ]
     },
     "execution_count": 115,
     "metadata": {},
     "output_type": "execute_result"
    }
   ],
   "source": [
    "d4"
   ]
  },
  {
   "cell_type": "code",
   "execution_count": 117,
   "metadata": {},
   "outputs": [
    {
     "name": "stdout",
     "output_type": "stream",
     "text": [
      "{'clover': 12, 'diamond': 16, 'spade': 4, 'heart': 8, 'queen': 16}\n"
     ]
    }
   ],
   "source": [
    "d4['queen'] = 16\n",
    "print(d4)"
   ]
  },
  {
   "cell_type": "code",
   "execution_count": 119,
   "metadata": {},
   "outputs": [
    {
     "data": {
      "text/plain": [
       "'diamond'"
      ]
     },
     "execution_count": 119,
     "metadata": {},
     "output_type": "execute_result"
    }
   ],
   "source": [
    "# max 의 경우\n",
    "\n",
    "max(d4, key = d4.get)"
   ]
  },
  {
   "cell_type": "code",
   "execution_count": 121,
   "metadata": {},
   "outputs": [
    {
     "data": {
      "text/plain": [
       "['diamond', 'queen']"
      ]
     },
     "execution_count": 121,
     "metadata": {},
     "output_type": "execute_result"
    }
   ],
   "source": [
    "# list comprehension 일 경우\n",
    "\n",
    "[k for k, v in d4.items() if max(d4.values()) == v]"
   ]
  },
  {
   "cell_type": "code",
   "execution_count": null,
   "metadata": {},
   "outputs": [],
   "source": []
  }
 ],
 "metadata": {
  "kernelspec": {
   "display_name": "Python 3 (ipykernel)",
   "language": "python",
   "name": "python3"
  },
  "language_info": {
   "codemirror_mode": {
    "name": "ipython",
    "version": 3
   },
   "file_extension": ".py",
   "mimetype": "text/x-python",
   "name": "python",
   "nbconvert_exporter": "python",
   "pygments_lexer": "ipython3",
   "version": "3.8.5"
  },
  "toc": {
   "base_numbering": 1,
   "nav_menu": {},
   "number_sections": true,
   "sideBar": true,
   "skip_h1_title": false,
   "title_cell": "Table of Contents",
   "title_sidebar": "Contents",
   "toc_cell": false,
   "toc_position": {},
   "toc_section_display": true,
   "toc_window_display": false
  }
 },
 "nbformat": 4,
 "nbformat_minor": 2
}

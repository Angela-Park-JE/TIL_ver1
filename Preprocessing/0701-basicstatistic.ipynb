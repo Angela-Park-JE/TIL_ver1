{
 "cells": [
  {
   "attachments": {},
   "cell_type": "markdown",
   "metadata": {},
   "source": [
    "# Ch9-1. 기초 통계 분석을 해야하는 이유\n",
    "\n",
    "### 확률 분포의 확인 방법\n",
    "\n",
    "우리가 아는 건 확률이지만 그의 정확한 분포는 알 수 없다. 정말 특정한 경우를 제외하면 말이다. \n",
    "\n",
    "근데 우리는 어떤 함수를 알든, 확률을 알고 있다고 하자. 그럼 다음과 같다. \n",
    "\n",
    "- 한 변수가 따르는 확률 분포를 확인했을 때의 효과\n",
    "    - 현재 수집한 데이터가 어떻게 생겼는지 알 수 있음\n",
    "    - 새로 데이터가 들어오면 어떻게 들어올 것인지 예상할 수 있음\n",
    "- 그러나 가지고 있는 데이터는 샘플 데이터이므로 **절대로 정확히 한 변수가 따르는 확률 분포를 알 수 없음.**\n",
    "우리가 가지고 있는건 절대로 ‘전체'가 될 수 없다. 그저 관측일 뿐. 우리는 확률 분포를 알 수 없음.\n",
    "- 그렇기에 그래프를 이용하여 확인하거나 적합성 검정을 사용하여 확률 분포를 확인해야 하는데, 이 작업은 굉장히 많은 노력이 필요함 (제대로 하려면 통계쪽 전문가가 해야함)\n",
    "\n",
    "### 통계 분석 라이브러리 import\n",
    "\n",
    "`mean()`은 대부분 scipy에서 가져온 함수들이라고 한다.  "
   ]
  },
  {
   "cell_type": "code",
   "execution_count": 1,
   "metadata": {},
   "outputs": [],
   "source": [
    "import numpy as np\n",
    "from scipy.stats import *\n",
    "import pandas as pd"
   ]
  },
  {
   "cell_type": "markdown",
   "metadata": {},
   "source": [
    "# Ch9-2. 대표 통계량\n",
    "\n",
    "## 평균\n",
    "\n",
    "### 산술 평균 (arithmetic mean) 계산\n",
    "다른 관측치에 비해, 매우 크거나 작은 값에 크게 영향을 받음. = 이상치에 민감함.\n"
   ]
  },
  {
   "cell_type": "code",
   "execution_count": 2,
   "metadata": {},
   "outputs": [
    {
     "name": "stdout",
     "output_type": "stream",
     "text": [
      "3.0\n",
      "3.0\n",
      "3.0\n"
     ]
    }
   ],
   "source": [
    "x = [1, 2, 3, 4, 5]\n",
    "print(np.mean(x))\n",
    "print(np.array(x).mean())\n",
    "print(pd.Series(x).mean())"
   ]
  },
  {
   "cell_type": "code",
   "execution_count": 3,
   "metadata": {},
   "outputs": [
    {
     "name": "stdout",
     "output_type": "stream",
     "text": [
      "0.4\n"
     ]
    }
   ],
   "source": [
    "# 이진 변수에 대한 평균 : 1의 비율과 같음\n",
    "\n",
    "x = [1, 0, 0, 0, 1]\n",
    "print(np.mean(x))"
   ]
  },
  {
   "attachments": {
    "image.png": {
     "image/png": "[encoded data removed]"
    }
   },
   "cell_type": "markdown",
   "metadata": {},
   "source": [
    "## 조화 평균 (harmonic mean)\n",
    "\n",
    "비율 및 변화율 등에 대한 평균을 계산할 때 사용. (데이터의 역수의 산술평균 역수)  \n",
    " 조화 평균 H는 ![image.png](attachment:image.png)\n",
    "*출처 : https://ko.wikipedia.org/wiki/%EC%A1%B0%ED%99%94_%ED%8F%89%EA%B7%A0*\n",
    "\n",
    "F score 구할 때 정밀도를 구할 때 사용한다. "
   ]
  },
  {
   "cell_type": "code",
   "execution_count": 4,
   "metadata": {},
   "outputs": [
    {
     "name": "stdout",
     "output_type": "stream",
     "text": [
      "0.21897810218978103\n",
      "0.21897810218978103\n"
     ]
    }
   ],
   "source": [
    "# 산술 평균은 0.3\n",
    "x = np.array([0.1, 0.2, 0.3, 0.4, 0.5])\n",
    "print(len(x) / np.sum(1/x))\n",
    "print(hmean(x))"
   ]
  },
  {
   "cell_type": "markdown",
   "metadata": {},
   "source": [
    "## 절사 평균 (truncated mean)\n",
    "\n",
    "데이터의 범위를 제한하여 해당 범위에 속하는 데이터에 대해서만 평균을 낸 것이다.  \n",
    "그 값들이 너무 크거나 작아서 평균에 영향을 끼칠 수 있기 떄문이다.  \n",
    "좀더 안정적인 대표값을 얻을 수 있다. 안정적이지만, 범위($\\alpha 에서 1-\\alpha$)를 어떻게 설정할 것인지 문제가 있다. \n",
    "\n",
    "10% 절사 평균이란 자료의 총 수에서 상위 10%, 하위 10% 에 위치한 상위/하위 값까지 삭제한 뒤 산술 평균을 구한다. \n",
    "\n",
    "### 절사 평균이 필요한 이유\n",
    "평균이 2백만원이고 표준편차가 50만원인 정규 분포를 따르는 소득을 갖는 100명 난수 생성 후,  \n",
    "소득이 10억원인 사람의 등장한 뒤, 100명의 소득이 200만원에 가까운데 한 명 때문에 대표값인 평균이 1200만원에 달함  \n",
    "\n",
    "대부분 국가별 소득을 너무 높다고 생각할 수 있는 부분이 바로 일반적인 평균을 썼기 때문인 것이라고..."
   ]
  },
  {
   "cell_type": "code",
   "execution_count": 5,
   "metadata": {},
   "outputs": [
    {
     "name": "stdout",
     "output_type": "stream",
     "text": [
      "2129337.227354372\n"
     ]
    }
   ],
   "source": [
    "income = np.random.normal(2000000, 500000, 100) \n",
    "print(np.mean(income))"
   ]
  },
  {
   "cell_type": "code",
   "execution_count": 6,
   "metadata": {},
   "outputs": [
    {
     "name": "stdout",
     "output_type": "stream",
     "text": [
      "12009244.779558783\n"
     ]
    }
   ],
   "source": [
    "income = np.append(income, 10**9) \n",
    "print(np.mean(income)) "
   ]
  },
  {
   "cell_type": "markdown",
   "metadata": {},
   "source": [
    "### 절사 평균 계산 \n",
    "\n",
    "trim_mean을 사용하여 상위, 하위에서 각각 일정부분 자른다. 0.2 = [20% ~ 80%]  \n",
    "\n",
    "물론 0.2는 엄청 크기 때문에 함부로 써서는 안되는 양이긴 함."
   ]
  },
  {
   "cell_type": "code",
   "execution_count": 7,
   "metadata": {},
   "outputs": [
    {
     "data": {
      "text/plain": [
       "2133521.1022396074"
      ]
     },
     "execution_count": 7,
     "metadata": {},
     "output_type": "execute_result"
    }
   ],
   "source": [
    "trim_mean(income, 0.2) "
   ]
  },
  {
   "cell_type": "markdown",
   "metadata": {},
   "source": [
    "## 최빈값\n",
    "\n",
    "A, B, C라는 요소로 구성하여 천 번을 추출하도록 한다. "
   ]
  },
  {
   "cell_type": "code",
   "execution_count": 8,
   "metadata": {},
   "outputs": [
    {
     "data": {
      "text/plain": [
       "array(['C', 'A', 'B', 'A', 'B', 'B', 'B', 'C', 'C', 'B'], dtype='<U1')"
      ]
     },
     "execution_count": 8,
     "metadata": {},
     "output_type": "execute_result"
    }
   ],
   "source": [
    "x = np.random.choice(['A', 'B', 'C'], 1000) \n",
    "x[:10]"
   ]
  },
  {
   "cell_type": "code",
   "execution_count": 9,
   "metadata": {},
   "outputs": [
    {
     "data": {
      "text/plain": [
       "ModeResult(mode=array(['C'], dtype='<U1'), count=array([356]))"
      ]
     },
     "execution_count": 9,
     "metadata": {},
     "output_type": "execute_result"
    }
   ],
   "source": [
    "# [0]: 최빈값, [1]: 빈도\n",
    "mode(x) "
   ]
  },
  {
   "cell_type": "code",
   "execution_count": 10,
   "metadata": {},
   "outputs": [
    {
     "data": {
      "text/plain": [
       "'C'"
      ]
     },
     "execution_count": 10,
     "metadata": {},
     "output_type": "execute_result"
    }
   ],
   "source": [
    "# 맨 앞에 있는 것이 최빈 값\n",
    "pd.Series(x).value_counts().index[0] "
   ]
  },
  {
   "cell_type": "markdown",
   "metadata": {},
   "source": [
    "# 별건 아니고...\n",
    "\n",
    "## 기하 평균 (geometric mean)\n",
    "추가로 해두고 싶어서 해두는 기하 평균. (참조:https://wikidocs.net/23088)  \n",
    "\n",
    "산술평균은 합의 평균이고, 기하평균은 곱의 평균이다. 예를 들어 다음 문제를 보자.\n",
    "\n",
    "두 수 a, b의 기하 평균은 \n",
    "$$ {\\sqrt {a \\bullet b}} $$\n",
    "\n",
    "곱의 평균을 기하 평균이라고 부르는 이유는, 기하의 비례식에서 유래하였기 때문인데, 예를 들어, 반원에서 직각 삼각형의 닮음식은 \n",
    "$$ a : p = p : b $$\n",
    "\n",
    "변의 길이가 $a$와 $b$인 직사각형과 넓이가 같은 정사각형의 한변의 길이는 $ \\sqrt {ab} $ 이다.\n",
    "\n"
   ]
  },
  {
   "cell_type": "code",
   "execution_count": 12,
   "metadata": {},
   "outputs": [
    {
     "name": "stdout",
     "output_type": "stream",
     "text": [
      "arithmetic mean : 3.0\n",
      "geometric mean : 10.954451150103322\n"
     ]
    }
   ],
   "source": [
    "# 산술 평균과 기하 평균\n",
    "X = [1, 2, 3, 4, 5]\n",
    "print(\"arithmetic mean :\",np.mean(X))\n",
    "\n",
    "gm = 1\n",
    "for i in X:\n",
    "    gm = gm*i\n",
    "print(\"geometric mean :\", np.sqrt(gm))"
   ]
  }
 ],
 "metadata": {
  "kernelspec": {
   "display_name": "Python 3 (ipykernel)",
   "language": "python",
   "name": "python3"
  },
  "language_info": {
   "codemirror_mode": {
    "name": "ipython",
    "version": 3
   },
   "file_extension": ".py",
   "mimetype": "text/x-python",
   "name": "python",
   "nbconvert_exporter": "python",
   "pygments_lexer": "ipython3",
   "version": "3.8.5"
  },
  "toc": {
   "base_numbering": 1,
   "nav_menu": {},
   "number_sections": true,
   "sideBar": true,
   "skip_h1_title": false,
   "title_cell": "Table of Contents",
   "title_sidebar": "Contents",
   "toc_cell": false,
   "toc_position": {},
   "toc_section_display": true,
   "toc_window_display": false
  }
 },
 "nbformat": 4,
 "nbformat_minor": 2
}

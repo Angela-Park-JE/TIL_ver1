{
 "cells": [
  {
   "cell_type": "markdown",
   "metadata": {},
   "source": [
    "# 반복문 기초\n",
    "\n",
    "for element in iterator:\n",
    "iterator 순회가능한 자료형 리스트, 튜플, string 등\n",
    "\n",
    "break:\n",
    "반복문을 중지시키며 보통 if 문과 함께 쓰인다."
   ]
  },
  {
   "cell_type": "markdown",
   "metadata": {},
   "source": [
    "## for문 기초 예제"
   ]
  },
  {
   "cell_type": "code",
   "execution_count": 1,
   "metadata": {},
   "outputs": [
    {
     "name": "stdout",
     "output_type": "stream",
     "text": [
      "1\n",
      "2\n",
      "3\n"
     ]
    }
   ],
   "source": [
    "L = [1, 2, 3, 4, 5]\n",
    "for l in L:\n",
    "    print(l)\n",
    "    if l == 3:\n",
    "        break # 속한 단계만 순회, 속한 단계가 속한 더큰 단계는 걸리지 않음"
   ]
  },
  {
   "cell_type": "markdown",
   "metadata": {},
   "source": [
    "## iterator 객체 행성 함수\n",
    "\n",
    "값을 차례대로 꺼낼 수 있는 객체를 iterator라고 하는데, \n",
    "\n",
    "range나 itertools 모듈에 있는 주요 함수들을 통해 생성할 수 있다. \n",
    "\n",
    "단, 이들은 리스트아 튜플 자체가 아닌, 순회만 가능한 객체이다.\n",
    "\n",
    "---\n",
    "\n",
    "> range(start, end, step)\n",
    "\n",
    "start 인덱스부터 end 인덱스까지 step으로 건너 뀐 부분만 이터레이터 객체를 반환\n",
    "\n",
    "값을 하나만 넣으면 end로 인식됨\n",
    "\n",
    "두 개로 넣으면 start, end로 인식.\n",
    "\n",
    "안에는 정수만 들어가게 된다.\n"
   ]
  },
  {
   "cell_type": "code",
   "execution_count": 3,
   "metadata": {},
   "outputs": [
    {
     "data": {
      "text/plain": [
       "[1, 3]"
      ]
     },
     "execution_count": 3,
     "metadata": {},
     "output_type": "execute_result"
    }
   ],
   "source": [
    "# 1 부터 5까지 2씩 건너뛰며, 값들을 확인하기 위해 list를 만듬\n",
    "# 인덱스이기 때문에 5는 포함이 되지 않는다.\n",
    "list(range(1, 5, 2))"
   ]
  },
  {
   "cell_type": "code",
   "execution_count": 4,
   "metadata": {},
   "outputs": [
    {
     "name": "stdout",
     "output_type": "stream",
     "text": [
      "1\n",
      "3\n"
     ]
    }
   ],
   "source": [
    "for x in range(1, 5, 2):\n",
    "    print(x)"
   ]
  },
  {
   "cell_type": "code",
   "execution_count": 6,
   "metadata": {},
   "outputs": [
    {
     "name": "stdout",
     "output_type": "stream",
     "text": [
      "2*1=2\n",
      "2*2=4\n",
      "2*3=6\n",
      "2*4=8\n",
      "2*5=10\n",
      "2*6=12\n",
      "2*7=14\n",
      "2*8=16\n",
      "2*9=18\n",
      "\n",
      "\n",
      "3*1=3\n",
      "3*2=6\n",
      "3*3=9\n",
      "3*4=12\n",
      "3*5=15\n",
      "3*6=18\n",
      "3*7=21\n",
      "3*8=24\n",
      "3*9=27\n",
      "\n",
      "\n",
      "4*1=4\n",
      "4*2=8\n",
      "4*3=12\n",
      "4*4=16\n",
      "4*5=20\n",
      "4*6=24\n",
      "4*7=28\n",
      "4*8=32\n",
      "4*9=36\n",
      "\n",
      "\n",
      "5*1=5\n",
      "5*2=10\n",
      "5*3=15\n",
      "5*4=20\n",
      "5*5=25\n",
      "5*6=30\n",
      "5*7=35\n",
      "5*8=40\n",
      "5*9=45\n",
      "\n",
      "\n",
      "6*1=6\n",
      "6*2=12\n",
      "6*3=18\n",
      "6*4=24\n",
      "6*5=30\n",
      "6*6=36\n",
      "6*7=42\n",
      "6*8=48\n",
      "6*9=54\n",
      "\n",
      "\n",
      "7*1=7\n",
      "7*2=14\n",
      "7*3=21\n",
      "7*4=28\n",
      "7*5=35\n",
      "7*6=42\n",
      "7*7=49\n",
      "7*8=56\n",
      "7*9=63\n",
      "\n",
      "\n",
      "8*1=8\n",
      "8*2=16\n",
      "8*3=24\n",
      "8*4=32\n",
      "8*5=40\n",
      "8*6=48\n",
      "8*7=56\n",
      "8*8=64\n",
      "8*9=72\n",
      "\n",
      "\n",
      "9*1=9\n",
      "9*2=18\n",
      "9*3=27\n",
      "9*4=36\n",
      "9*5=45\n",
      "9*6=54\n",
      "9*7=63\n",
      "9*8=72\n",
      "9*9=81\n",
      "\n",
      "\n"
     ]
    }
   ],
   "source": [
    "# range 함수를 사용한 구구단 \n",
    "# nested for문 (for문 안에 for문)\n",
    "\n",
    "for i in range(2, 10):\n",
    "    for j in range(1, 10):\n",
    "        print(\"{}*{}={}\".format(i, j, i*j))\n",
    "    print('\\n') # 빈 줄 출력"
   ]
  },
  {
   "cell_type": "markdown",
   "metadata": {},
   "source": [
    "# itertools 모듈 함수\n",
    "\n",
    "다양한 종류의 이터레이터 객체를 생성하는 함수로 구성되어있다.\n",
    "\n",
    "> itertools.product(*L)\n",
    "    \n",
    "순회 가능한 여러개의 객체를 순서대로 순회하는 이터레이터를 생성한다.\n",
    "zip 함수와는 다르다.\n",
    "\n",
    "nested for문의 층이 깊을때 주로 쓰인다.\n",
    "\n",
    "for v1, v2, v3 in itertools.product(L1, L2, L3):\n",
    "는 다음과 같다.\n",
    "```\n",
    "for v1 in L1:\n",
    "    for v2 in L2:\n",
    "        for v3 in L3:\n",
    "```\n",
    "\n",
    "> itertools.combinations(p,r)\n",
    "\n",
    "이터레이터 객체 p에서 크기 r의 가능한 모든 조합을 갖는 이터레이터를 생성한다.\n",
    "\n",
    "r은 p의 크기보다 커서는 안된다. \n",
    "\n",
    "> itertools.permutations(p,r)\n",
    "\n",
    "이터레이터 객체 p에서 크기 r의 가능한 모든 순열을 갖는 이터레이터를 생성한다.\n",
    "\n"
   ]
  },
  {
   "cell_type": "markdown",
   "metadata": {},
   "source": [
    "## itertools.product(*L)"
   ]
  },
  {
   "cell_type": "code",
   "execution_count": 7,
   "metadata": {},
   "outputs": [],
   "source": [
    "# 모듈 import\n",
    "\n",
    "import itertools"
   ]
  },
  {
   "cell_type": "code",
   "execution_count": 9,
   "metadata": {},
   "outputs": [
    {
     "name": "stdout",
     "output_type": "stream",
     "text": [
      "0 0 0\n",
      "0 0 1\n",
      "0 0 2\n",
      "0 0 3\n",
      "0 0 4\n",
      "0 1 0\n",
      "0 1 1\n",
      "0 1 2\n",
      "0 1 3\n",
      "0 1 4\n",
      "0 2 0\n",
      "0 2 1\n",
      "0 2 2\n",
      "0 2 3\n",
      "0 2 4\n",
      "0 3 0\n",
      "0 3 1\n",
      "0 3 2\n",
      "0 3 3\n",
      "0 3 4\n",
      "0 4 0\n",
      "0 4 1\n",
      "0 4 2\n",
      "0 4 3\n",
      "0 4 4\n",
      "1 0 0\n",
      "1 0 1\n",
      "1 0 2\n",
      "1 0 3\n",
      "1 0 4\n",
      "1 1 0\n",
      "1 1 1\n",
      "1 1 2\n",
      "1 1 3\n",
      "1 1 4\n",
      "1 2 0\n",
      "1 2 1\n",
      "1 2 2\n",
      "1 2 3\n",
      "1 2 4\n",
      "1 3 0\n",
      "1 3 1\n",
      "1 3 2\n",
      "1 3 3\n",
      "1 3 4\n",
      "1 4 0\n",
      "1 4 1\n",
      "1 4 2\n",
      "1 4 3\n",
      "1 4 4\n",
      "2 0 0\n",
      "2 0 1\n",
      "2 0 2\n",
      "2 0 3\n",
      "2 0 4\n",
      "2 1 0\n",
      "2 1 1\n",
      "2 1 2\n",
      "2 1 3\n",
      "2 1 4\n",
      "2 2 0\n",
      "2 2 1\n",
      "2 2 2\n",
      "2 2 3\n",
      "2 2 4\n",
      "2 3 0\n",
      "2 3 1\n",
      "2 3 2\n",
      "2 3 3\n",
      "2 3 4\n",
      "2 4 0\n",
      "2 4 1\n",
      "2 4 2\n",
      "2 4 3\n",
      "2 4 4\n",
      "3 0 0\n",
      "3 0 1\n",
      "3 0 2\n",
      "3 0 3\n",
      "3 0 4\n",
      "3 1 0\n",
      "3 1 1\n",
      "3 1 2\n",
      "3 1 3\n",
      "3 1 4\n",
      "3 2 0\n",
      "3 2 1\n",
      "3 2 2\n",
      "3 2 3\n",
      "3 2 4\n",
      "3 3 0\n",
      "3 3 1\n",
      "3 3 2\n",
      "3 3 3\n",
      "3 3 4\n",
      "3 4 0\n",
      "3 4 1\n",
      "3 4 2\n",
      "3 4 3\n",
      "3 4 4\n",
      "4 0 0\n",
      "4 0 1\n",
      "4 0 2\n",
      "4 0 3\n",
      "4 0 4\n",
      "4 1 0\n",
      "4 1 1\n",
      "4 1 2\n",
      "4 1 3\n",
      "4 1 4\n",
      "4 2 0\n",
      "4 2 1\n",
      "4 2 2\n",
      "4 2 3\n",
      "4 2 4\n",
      "4 3 0\n",
      "4 3 1\n",
      "4 3 2\n",
      "4 3 3\n",
      "4 3 4\n",
      "4 4 0\n",
      "4 4 1\n",
      "4 4 2\n",
      "4 4 3\n",
      "4 4 4\n"
     ]
    }
   ],
   "source": [
    "# itertools.product 예제\n",
    "# 3중 for문과 같다.\n",
    "for a, b, c in itertools.product(range(5), range(5), range(5)):\n",
    "    print(a, b, c)"
   ]
  },
  {
   "cell_type": "code",
   "execution_count": 7,
   "metadata": {},
   "outputs": [
    {
     "name": "stdout",
     "output_type": "stream",
     "text": [
      "0 0 0\n",
      "0 0 1\n",
      "0 0 2\n",
      "0 0 3\n",
      "0 0 4\n",
      "0 1 0\n",
      "0 1 1\n",
      "0 1 2\n",
      "0 1 3\n",
      "0 1 4\n",
      "0 2 0\n",
      "0 2 1\n",
      "0 2 2\n",
      "0 2 3\n",
      "0 2 4\n",
      "0 3 0\n",
      "0 3 1\n",
      "0 3 2\n",
      "0 3 3\n",
      "0 3 4\n",
      "0 4 0\n",
      "0 4 1\n",
      "0 4 2\n",
      "0 4 3\n",
      "0 4 4\n",
      "1 0 0\n",
      "1 0 1\n",
      "1 0 2\n",
      "1 0 3\n",
      "1 0 4\n",
      "1 1 0\n",
      "1 1 1\n",
      "1 1 2\n",
      "1 1 3\n",
      "1 1 4\n",
      "1 2 0\n",
      "1 2 1\n",
      "1 2 2\n",
      "1 2 3\n",
      "1 2 4\n",
      "1 3 0\n",
      "1 3 1\n",
      "1 3 2\n",
      "1 3 3\n",
      "1 3 4\n",
      "1 4 0\n",
      "1 4 1\n",
      "1 4 2\n",
      "1 4 3\n",
      "1 4 4\n",
      "2 0 0\n",
      "2 0 1\n",
      "2 0 2\n",
      "2 0 3\n",
      "2 0 4\n",
      "2 1 0\n",
      "2 1 1\n",
      "2 1 2\n",
      "2 1 3\n",
      "2 1 4\n",
      "2 2 0\n",
      "2 2 1\n",
      "2 2 2\n",
      "2 2 3\n",
      "2 2 4\n",
      "2 3 0\n",
      "2 3 1\n",
      "2 3 2\n",
      "2 3 3\n",
      "2 3 4\n",
      "2 4 0\n",
      "2 4 1\n",
      "2 4 2\n",
      "2 4 3\n",
      "2 4 4\n",
      "3 0 0\n",
      "3 0 1\n",
      "3 0 2\n",
      "3 0 3\n",
      "3 0 4\n",
      "3 1 0\n",
      "3 1 1\n",
      "3 1 2\n",
      "3 1 3\n",
      "3 1 4\n",
      "3 2 0\n",
      "3 2 1\n",
      "3 2 2\n",
      "3 2 3\n",
      "3 2 4\n",
      "3 3 0\n",
      "3 3 1\n",
      "3 3 2\n",
      "3 3 3\n",
      "3 3 4\n",
      "3 4 0\n",
      "3 4 1\n",
      "3 4 2\n",
      "3 4 3\n",
      "3 4 4\n",
      "4 0 0\n",
      "4 0 1\n",
      "4 0 2\n",
      "4 0 3\n",
      "4 0 4\n",
      "4 1 0\n",
      "4 1 1\n",
      "4 1 2\n",
      "4 1 3\n",
      "4 1 4\n",
      "4 2 0\n",
      "4 2 1\n",
      "4 2 2\n",
      "4 2 3\n",
      "4 2 4\n",
      "4 3 0\n",
      "4 3 1\n",
      "4 3 2\n",
      "4 3 3\n",
      "4 3 4\n",
      "4 4 0\n",
      "4 4 1\n",
      "4 4 2\n",
      "4 4 3\n",
      "4 4 4\n"
     ]
    }
   ],
   "source": [
    "# 위 코드와 같은 방식으로 동작하는 코드\n",
    "\n",
    "for a in range(5):\n",
    "    for b in range(5):\n",
    "        for c in range(5):\n",
    "            print(a, b, c)"
   ]
  },
  {
   "cell_type": "markdown",
   "metadata": {},
   "source": [
    "### zip 함수와 다른점.\n",
    "\n",
    "안에 있는 요소가 대등하게 순회한다. 즉 계층대로 순서를 지켜서 도는 것이 아니라, 한 회에 각각을 다 동시에 돈다는 점이다."
   ]
  },
  {
   "cell_type": "code",
   "execution_count": 11,
   "metadata": {},
   "outputs": [
    {
     "name": "stdout",
     "output_type": "stream",
     "text": [
      "0 0 0\n",
      "1 1 1\n",
      "2 2 2\n",
      "3 3 3\n",
      "4 4 4\n"
     ]
    }
   ],
   "source": [
    "for a, b, c in zip(range(5), range(5), range(5)):\n",
    "    print(a, b, c)"
   ]
  },
  {
   "cell_type": "code",
   "execution_count": 10,
   "metadata": {},
   "outputs": [
    {
     "name": "stdout",
     "output_type": "stream",
     "text": [
      "55\n"
     ]
    }
   ],
   "source": [
    "# a, b, c 중 a가 최대일 때마다 count에 1씩 더한다\n",
    "# 횟수 카운트할 때주로 사용\n",
    "count = 0\n",
    "for a, b, c in itertools.product(range(5),range(5),range(5)):\n",
    "    if max(a, b, c) == a:\n",
    "        count += 1\n",
    "\n",
    "print(count)"
   ]
  },
  {
   "cell_type": "markdown",
   "metadata": {},
   "source": [
    "## itertools.combinations(p, r)"
   ]
  },
  {
   "cell_type": "code",
   "execution_count": 12,
   "metadata": {},
   "outputs": [
    {
     "name": "stdout",
     "output_type": "stream",
     "text": [
      "('a', 'b')\n",
      "('a', 'c')\n",
      "('a', 'd')\n",
      "('b', 'c')\n",
      "('b', 'd')\n",
      "('c', 'd')\n"
     ]
    }
   ],
   "source": [
    "# itertools.combination 예제\n",
    "# L에서 '2개'로 이뤄진 가능한 모든 '조합' 뽑기\n",
    "\n",
    "L = ['a', 'b', 'c', 'd']\n",
    "for comb in itertools.combinations(L, 2):\n",
    "    print(comb)"
   ]
  },
  {
   "cell_type": "markdown",
   "metadata": {},
   "source": [
    "2개가 아니라 모든 경우의 수를 다 뽑는다고 하면 for문으로 r의 길이를 만들어준다."
   ]
  },
  {
   "cell_type": "code",
   "execution_count": 11,
   "metadata": {},
   "outputs": [
    {
     "name": "stdout",
     "output_type": "stream",
     "text": [
      "('a',)\n",
      "('b',)\n",
      "('c',)\n",
      "('d',)\n",
      "('a', 'b')\n",
      "('a', 'c')\n",
      "('a', 'd')\n",
      "('b', 'c')\n",
      "('b', 'd')\n",
      "('c', 'd')\n",
      "('a', 'b', 'c')\n",
      "('a', 'b', 'd')\n",
      "('a', 'c', 'd')\n",
      "('b', 'c', 'd')\n",
      "('a', 'b', 'c', 'd')\n"
     ]
    }
   ],
   "source": [
    "# L에서 가능한 모든 조합 뽑기를 for문으로 작성하면 이렇게 된다.\n",
    "\n",
    "for r in range(1, len(L) + 1):\n",
    "    for comb in itertools.combinations(L, r):\n",
    "        print(comb)"
   ]
  },
  {
   "cell_type": "markdown",
   "metadata": {},
   "source": [
    "## itertools.permutations(p, r)\n",
    "\n",
    "순서를 고려하는 '순열' 이기 때문에 a, b와 b, a는 다른 객체로 뽑힌다."
   ]
  },
  {
   "cell_type": "code",
   "execution_count": 13,
   "metadata": {},
   "outputs": [
    {
     "name": "stdout",
     "output_type": "stream",
     "text": [
      "('a', 'b')\n",
      "('a', 'c')\n",
      "('a', 'd')\n",
      "('b', 'a')\n",
      "('b', 'c')\n",
      "('b', 'd')\n",
      "('c', 'a')\n",
      "('c', 'b')\n",
      "('c', 'd')\n",
      "('d', 'a')\n",
      "('d', 'b')\n",
      "('d', 'c')\n"
     ]
    }
   ],
   "source": [
    "# itertools.permutations 예제\n",
    "# L에서 '2개'로 이뤄진 가능한 모든 '순열' 뽑기\n",
    "\n",
    "L = ['a', 'b', 'c', 'd']\n",
    "for comb in itertools.permutations(L, 2):\n",
    "    print(comb)"
   ]
  },
  {
   "cell_type": "code",
   "execution_count": 14,
   "metadata": {
    "scrolled": true
   },
   "outputs": [
    {
     "name": "stdout",
     "output_type": "stream",
     "text": [
      "('a',)\n",
      "('b',)\n",
      "('c',)\n",
      "('d',)\n",
      "('a', 'b')\n",
      "('a', 'c')\n",
      "('a', 'd')\n",
      "('b', 'a')\n",
      "('b', 'c')\n",
      "('b', 'd')\n",
      "('c', 'a')\n",
      "('c', 'b')\n",
      "('c', 'd')\n",
      "('d', 'a')\n",
      "('d', 'b')\n",
      "('d', 'c')\n",
      "('a', 'b', 'c')\n",
      "('a', 'b', 'd')\n",
      "('a', 'c', 'b')\n",
      "('a', 'c', 'd')\n",
      "('a', 'd', 'b')\n",
      "('a', 'd', 'c')\n",
      "('b', 'a', 'c')\n",
      "('b', 'a', 'd')\n",
      "('b', 'c', 'a')\n",
      "('b', 'c', 'd')\n",
      "('b', 'd', 'a')\n",
      "('b', 'd', 'c')\n",
      "('c', 'a', 'b')\n",
      "('c', 'a', 'd')\n",
      "('c', 'b', 'a')\n",
      "('c', 'b', 'd')\n",
      "('c', 'd', 'a')\n",
      "('c', 'd', 'b')\n",
      "('d', 'a', 'b')\n",
      "('d', 'a', 'c')\n",
      "('d', 'b', 'a')\n",
      "('d', 'b', 'c')\n",
      "('d', 'c', 'a')\n",
      "('d', 'c', 'b')\n"
     ]
    }
   ],
   "source": [
    "# L에서 가능한 모든 순열 뽑기\n",
    "\n",
    "for r in range(1, len(L)):\n",
    "    for comb in itertools.permutations(L, r):\n",
    "        print(comb)"
   ]
  },
  {
   "cell_type": "markdown",
   "metadata": {},
   "source": [
    "# List comprehension\n",
    "\n",
    "for 문을 사용하여 한 줄로 리스트를 효과적으로 생성하는 방법\n",
    "\n",
    "`[output for element in iterator if 조건]`\n",
    "\n",
    "조건문은 생략이 가능하다. \n",
    "\n",
    "실제로 많이 쓰이고, 라인 자체도 줄어들고 소요시간도 줄어들기 때문에 반드시 익숙해지는 것이 좋다."
   ]
  },
  {
   "cell_type": "code",
   "execution_count": 16,
   "metadata": {},
   "outputs": [
    {
     "data": {
      "text/plain": [
       "[0, 1, 2, 3, 4, 5, 6, 7, 8, 9]"
      ]
     },
     "execution_count": 16,
     "metadata": {},
     "output_type": "execute_result"
    }
   ],
   "source": [
    "# 리스트 컴프리핸션을 이용한 리스트 만들기\n",
    "\n",
    "L1 = [x for x in range(10)]\n",
    "L1"
   ]
  },
  {
   "cell_type": "code",
   "execution_count": 17,
   "metadata": {},
   "outputs": [
    {
     "data": {
      "text/plain": [
       "[0, 1, 2, 3, 4, 5, 6, 7, 8, 9]"
      ]
     },
     "execution_count": 17,
     "metadata": {},
     "output_type": "execute_result"
    }
   ],
   "source": [
    "# 위와 같은 형태를 for문으로 만들때\n",
    "\n",
    "L1 = []\n",
    "for x in range(10):\n",
    "    L1.append(x)\n",
    "L1"
   ]
  },
  {
   "cell_type": "code",
   "execution_count": 18,
   "metadata": {},
   "outputs": [
    {
     "data": {
      "text/plain": [
       "[0, 1, 4, 9, 16, 25, 36, 49, 64, 81]"
      ]
     },
     "execution_count": 18,
     "metadata": {},
     "output_type": "execute_result"
    }
   ],
   "source": [
    "# 리스트 컴프리핸션을 이용한 리스트 만들기2\n",
    "# 출력은 x의 제곱이 들어가도록 한다\n",
    "\n",
    "L2 = [x**2 for x in range(10)]\n",
    "L2"
   ]
  },
  {
   "cell_type": "code",
   "execution_count": 19,
   "metadata": {},
   "outputs": [
    {
     "data": {
      "text/plain": [
       "[0, 4, 16, 36, 64]"
      ]
     },
     "execution_count": 19,
     "metadata": {},
     "output_type": "execute_result"
    }
   ],
   "source": [
    "# 리스트 컴프리핸션을 이용한 리스트 만들기3\n",
    "# 짝수들만, x의 제곱으로 리스트를 만든다\n",
    "\n",
    "L3 = [x**2 for x in range(10) if x%2 == 0]\n",
    "L3"
   ]
  },
  {
   "cell_type": "code",
   "execution_count": 20,
   "metadata": {},
   "outputs": [
    {
     "data": {
      "text/plain": [
       "[0, 4, 16, 36, 64]"
      ]
     },
     "execution_count": 20,
     "metadata": {},
     "output_type": "execute_result"
    }
   ],
   "source": [
    "# 방금 위와 같은 코드를 만들기 위해 for문을 썼을 때\n",
    "\n",
    "L3 = []\n",
    "for x in range(10):\n",
    "    if x%2 == 0:\n",
    "        L3.append(x**2)\n",
    "L3"
   ]
  },
  {
   "cell_type": "markdown",
   "metadata": {},
   "source": [
    "## 리스트에서와 딕셔너리에서 많이 쓰이는 comprehension"
   ]
  },
  {
   "cell_type": "code",
   "execution_count": 21,
   "metadata": {},
   "outputs": [
    {
     "data": {
      "text/plain": [
       "[4, 2, 3, 5, 5, 3, 4, 6, 6, 4, 5, 7]"
      ]
     },
     "execution_count": 21,
     "metadata": {},
     "output_type": "execute_result"
    }
   ],
   "source": [
    "X = [1, 2, 3, 'a', 'b']\n",
    "Y = [3, 1, 2, 'c', 4]\n",
    "\n",
    "\n",
    "# x, y가 모두 정수일 때에 실행되도록하는 형태\n",
    "# itertools.product(X, Y)로 둘다 각각 리스트를 돈다\n",
    "L4 = [x + y for x, y in itertools.product(X, Y) if type(x) == type(y) == int]\n",
    "L4"
   ]
  },
  {
   "cell_type": "markdown",
   "metadata": {},
   "source": [
    "## dictionary comprehension\n",
    "\n",
    "{key: value for key, val in iterator if 조건}\n",
    "\n",
    "한 줄로 딕셔너리를 효과적으로 만들 수 있다."
   ]
  },
  {
   "cell_type": "code",
   "execution_count": 50,
   "metadata": {},
   "outputs": [
    {
     "data": {
      "text/plain": [
       "{0: 0, 1: 1, 2: 2, 3: 3, 4: 4, 5: 5, 6: 6, 7: 7, 8: 8, 9: 9}"
      ]
     },
     "execution_count": 50,
     "metadata": {},
     "output_type": "execute_result"
    }
   ],
   "source": [
    "# 각각 x, y가 순서대로 0~9를 돌도록 하면서 딕셔너리 생성\n",
    "\n",
    "dic1 = {x:y for x, y in zip(range(10), range(10))}\n",
    "dic1"
   ]
  },
  {
   "cell_type": "code",
   "execution_count": 24,
   "metadata": {},
   "outputs": [
    {
     "data": {
      "text/plain": [
       "{0: 0, 2: 4, 4: 16, 6: 36, 8: 64}"
      ]
     },
     "execution_count": 24,
     "metadata": {},
     "output_type": "execute_result"
    }
   ],
   "source": [
    "# 각각 x, y가 순서대로 돌면서 x가 짝수일 경우에만, y제곱을 값으로 갖도록 딕셔너리 생성\n",
    "\n",
    "dic20 = {x:y**2 for x, y in zip(range(10), range(10)) if x%2 == 0}\n",
    "dic20"
   ]
  },
  {
   "cell_type": "code",
   "execution_count": 25,
   "metadata": {},
   "outputs": [
    {
     "data": {
      "text/plain": [
       "{0: 0, 2: 4, 4: 16, 6: 36, 8: 64}"
      ]
     },
     "execution_count": 25,
     "metadata": {},
     "output_type": "execute_result"
    }
   ],
   "source": [
    "# 위를 for문으로 만들면 이와 같다.\n",
    "\n",
    "dic21 = dict()\n",
    "for x, y in zip(range(10), range(10)):\n",
    "    if x%2 == 0:\n",
    "        dic21[x] = y**2\n",
    "\n",
    "dic21"
   ]
  },
  {
   "cell_type": "code",
   "execution_count": 27,
   "metadata": {},
   "outputs": [
    {
     "data": {
      "text/plain": [
       "{2: 2, 3: 4}"
      ]
     },
     "execution_count": 27,
     "metadata": {},
     "output_type": "execute_result"
    }
   ],
   "source": [
    "# 특정 값이 '아닐' 경우 실행되도록 하는 경우\n",
    "# 값을 변경을 하고 싶을 때 이렇게 할 수 있다.\n",
    "# items를 사용하여 값을 지울 수도 있지만 딕셔너리 comprehension으로 필터링도 가능\n",
    "\n",
    "# dic30을 순회하는데 밸류가 결측이 아닐 경우, 새 딕셔너리 dic31이 되도록 하는 코드\n",
    "\n",
    "dic30 = {1:'NaN', 2:2, 3:4, 4:'NaN'}\n",
    "dic31 = {x:y for x, y in dic30.items() if y != 'NaN'}\n",
    "dic31"
   ]
  },
  {
   "cell_type": "code",
   "execution_count": 28,
   "metadata": {},
   "outputs": [],
   "source": [
    "# for문으로 할 때\n",
    "\n",
    "dic32 = dict()  # 빈 딕셔너리\n",
    "for x, y in dic30.items():\n",
    "    if y != 'NaN':\n",
    "        dic32[x] = y"
   ]
  },
  {
   "cell_type": "code",
   "execution_count": 29,
   "metadata": {},
   "outputs": [
    {
     "data": {
      "text/plain": [
       "{2: 2, 3: 4}"
      ]
     },
     "execution_count": 29,
     "metadata": {},
     "output_type": "execute_result"
    }
   ],
   "source": [
    "dic32"
   ]
  },
  {
   "cell_type": "code",
   "execution_count": null,
   "metadata": {},
   "outputs": [],
   "source": []
  }
 ],
 "metadata": {
  "kernelspec": {
   "display_name": "Python 3 (ipykernel)",
   "language": "python",
   "name": "python3"
  },
  "language_info": {
   "codemirror_mode": {
    "name": "ipython",
    "version": 3
   },
   "file_extension": ".py",
   "mimetype": "text/x-python",
   "name": "python",
   "nbconvert_exporter": "python",
   "pygments_lexer": "ipython3",
   "version": "3.8.5"
  },
  "toc": {
   "base_numbering": 1,
   "nav_menu": {},
   "number_sections": true,
   "sideBar": true,
   "skip_h1_title": false,
   "title_cell": "Table of Contents",
   "title_sidebar": "Contents",
   "toc_cell": false,
   "toc_position": {},
   "toc_section_display": true,
   "toc_window_display": false
  }
 },
 "nbformat": 4,
 "nbformat_minor": 2
}

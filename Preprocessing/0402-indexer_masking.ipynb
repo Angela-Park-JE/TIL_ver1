{
 "cells": [
  {
   "cell_type": "markdown",
   "metadata": {},
   "source": [
    "# Ch5 - 2. 인덱서를 활용한 인덱싱(복습)\n",
    "\n",
    "자주 사용되는 만큼 기억해야 하는 내용!  \n",
    "\n",
    "판다스의 객체는 암묵적인 인덱스(위치 인덱스)와 명시적인 인덱스라는 두 종류의 인덱스가 있어, 명시적인 인덱스를 참조하는 loc인덱서와 암묵적인 인덱스를 참조하는 iloc 인덱서가 존재한다.  \n",
    "\n",
    ">암묵적 인덱스(iloc) : 0부터 시작하는 정수로서의 인덱스, 자동적으로 부여됨. 슬라이싱에서는 맨 뒤 값을 포함하지 않음.  \n",
    "명시적 인덱스(loc) : 직접 정의해놓은 인덱스 역할의 컬럼, **슬라이싱에서는 맨 뒤 값을 포함**. 따로 지정해주지 않으면 명시적 인덱스 = 암묵적 인덱스인 경우가 많음.   \n",
    "\n",
    "데이터프레임의 컬럼 선택 : `df[col_name] or df[col_name_list]`  \n",
    "\n",
    "## 인덱서로 값 변경하기 \n",
    "인덱서를 사용하여 조회한 값을 직접 변경할 수 있다.  \n",
    "시리즈나 데이터프레임안의 값을 바꿀 때에는 반드시 인덱서를 사용해야 한다. 사용하지 않을 수도 있지만, 오류를 만들 가능성이 크기 때문에 반드시 인덱서를 사용하는 것이 좋다.  \n",
    "\n",
    "`df.iloc[2,1] = 10` , `df.loc['c', 'Col2'] = 10` 식으로 변경. \n",
    "\n",
    "## 인덱서를 사용해야 하는 이유\n",
    "\n",
    "DataFrame의 값을 바꾸는 경우 가장 흔이 보는 경고로 SettingWithCopyWarning이 있다.  \n",
    "\n",
    "`df['A']`는 view를 반환하고 `df.loc['A']`는 copy를 반환한다.  \n",
    "view를 반환한 결과를 바꾸는 경우에는 원본 자체도 변경이 일어날 수 있음 - 이후에 치명적 오류가 생길 가능성이 있음  \n",
    "copy를 반환한 결과를 바꾸더라도 원본에는 변경이 없음  \n",
    "\n",
    "따라서 view를 반환하지 않도록 가능하면 인덱서를 사용해야만, 사용자의 의도대로 데이터프레임을 변경할 수 있다.  \n"
   ]
  },
  {
   "cell_type": "markdown",
   "metadata": {},
   "source": [
    "# Ch5 - 3. 마스킹 검색\n",
    "\n"
   ]
  }
 ],
 "metadata": {
  "kernelspec": {
   "display_name": "Python 3 (ipykernel)",
   "language": "python",
   "name": "python3"
  },
  "language_info": {
   "codemirror_mode": {
    "name": "ipython",
    "version": 3
   },
   "file_extension": ".py",
   "mimetype": "text/x-python",
   "name": "python",
   "nbconvert_exporter": "python",
   "pygments_lexer": "ipython3",
   "version": "3.8.5"
  },
  "toc": {
   "base_numbering": 1,
   "nav_menu": {},
   "number_sections": true,
   "sideBar": true,
   "skip_h1_title": false,
   "title_cell": "Table of Contents",
   "title_sidebar": "Contents",
   "toc_cell": false,
   "toc_position": {},
   "toc_section_display": true,
   "toc_window_display": false
  }
 },
 "nbformat": 4,
 "nbformat_minor": 2
}

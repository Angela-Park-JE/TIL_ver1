{
 "cells": [
  {
   "cell_type": "markdown",
   "metadata": {},
   "source": [
    "# Ch3 -3. read_csv and to_csv\n",
    "\n",
    "open 함수보다 더 많이 쓰이는 함수. 판다스의 내장함수로, csv파일 같은 테이블 형태의 데이터를 불러오는 데 효과적이다.  \n",
    "이전에는 read_table 같은 함수도 있었다고 한다.\n",
    "\n",
    "```\n",
    "pd.read_csv(filepath, sep, header, index_col, usecols, parse_dates, nrows)\n",
    "```  \n",
    "filepath : 파일 경로 및 이름  \n",
    "sep : 구분자 (default: ',')  \n",
    "header :  헤더의 위치. None을 입력하면 컬럼명이 0, 1, 2 등으로 자동 부여된다. (default: 'infer' ; 맨 위의 행)  \n",
    "index_col : 인덱스 위치 (default: None)  \n",
    "usecols : 사용할 컬럼 목록 및 위치 목록(데이터가 큰 경우, 각 컬럼별로 처리가 필요할 때에 주로 사용)  \n",
    "nrows : 불러올 행의 개수(데이터가 큰 경우에 주로 사용)  \n",
    "\n",
    "\n",
    "## 경로 설정"
   ]
  },
  {
   "cell_type": "code",
   "execution_count": 1,
   "metadata": {},
   "outputs": [],
   "source": [
    "import os\n",
    "import pandas as pd\n",
    "os.chdir(r\"/Users/Angela/Desktop/과속대학쿠쿠루/1. 데이터 핸들링/데이터\")"
   ]
  },
  {
   "cell_type": "markdown",
   "metadata": {},
   "source": [
    "## 데이터 불러오기\n",
    "\n",
    "### csv 데이터 불러오기"
   ]
  },
  {
   "cell_type": "code",
   "execution_count": 2,
   "metadata": {},
   "outputs": [
    {
     "data": {
      "text/html": [
       "<div>\n",
       "<style scoped>\n",
       "    .dataframe tbody tr th:only-of-type {\n",
       "        vertical-align: middle;\n",
       "    }\n",
       "\n",
       "    .dataframe tbody tr th {\n",
       "        vertical-align: top;\n",
       "    }\n",
       "\n",
       "    .dataframe thead th {\n",
       "        text-align: right;\n",
       "    }\n",
       "</style>\n",
       "<table border=\"1\" class=\"dataframe\">\n",
       "  <thead>\n",
       "    <tr style=\"text-align: right;\">\n",
       "      <th></th>\n",
       "      <th>Col1</th>\n",
       "      <th>Col2</th>\n",
       "      <th>Col3</th>\n",
       "      <th>Col4</th>\n",
       "      <th>Col5</th>\n",
       "    </tr>\n",
       "  </thead>\n",
       "  <tbody>\n",
       "    <tr>\n",
       "      <th>0</th>\n",
       "      <td>0.188888</td>\n",
       "      <td>0.161053</td>\n",
       "      <td>0.150413</td>\n",
       "      <td>0.824770</td>\n",
       "      <td>0.111833</td>\n",
       "    </tr>\n",
       "    <tr>\n",
       "      <th>1</th>\n",
       "      <td>0.827719</td>\n",
       "      <td>0.161363</td>\n",
       "      <td>0.400331</td>\n",
       "      <td>0.398196</td>\n",
       "      <td>0.770696</td>\n",
       "    </tr>\n",
       "    <tr>\n",
       "      <th>2</th>\n",
       "      <td>0.844660</td>\n",
       "      <td>0.100998</td>\n",
       "      <td>0.995176</td>\n",
       "      <td>0.615525</td>\n",
       "      <td>0.878389</td>\n",
       "    </tr>\n",
       "    <tr>\n",
       "      <th>3</th>\n",
       "      <td>0.913895</td>\n",
       "      <td>0.036169</td>\n",
       "      <td>0.237840</td>\n",
       "      <td>0.187628</td>\n",
       "      <td>0.534308</td>\n",
       "    </tr>\n",
       "    <tr>\n",
       "      <th>4</th>\n",
       "      <td>0.322443</td>\n",
       "      <td>0.955010</td>\n",
       "      <td>0.340765</td>\n",
       "      <td>0.649311</td>\n",
       "      <td>0.354540</td>\n",
       "    </tr>\n",
       "  </tbody>\n",
       "</table>\n",
       "</div>"
      ],
      "text/plain": [
       "       Col1      Col2      Col3      Col4      Col5\n",
       "0  0.188888  0.161053  0.150413  0.824770  0.111833\n",
       "1  0.827719  0.161363  0.400331  0.398196  0.770696\n",
       "2  0.844660  0.100998  0.995176  0.615525  0.878389\n",
       "3  0.913895  0.036169  0.237840  0.187628  0.534308\n",
       "4  0.322443  0.955010  0.340765  0.649311  0.354540"
      ]
     },
     "execution_count": 2,
     "metadata": {},
     "output_type": "execute_result"
    }
   ],
   "source": [
    "df = pd.read_csv(\"data_reading.csv\")\n",
    "df.head()"
   ]
  },
  {
   "cell_type": "markdown",
   "metadata": {},
   "source": [
    "### tsv 데이터 불러오기\n",
    "\n",
    "자료구조가 txt처럼 다르다 하더라도, 구분자를 안다면 데려올 수 있다.  \n",
    "\n",
    "구분자가 tab인 경우 \\t를 구분자로 쓴다.  "
   ]
  },
  {
   "cell_type": "code",
   "execution_count": 3,
   "metadata": {
    "scrolled": true
   },
   "outputs": [
    {
     "data": {
      "text/html": [
       "<div>\n",
       "<style scoped>\n",
       "    .dataframe tbody tr th:only-of-type {\n",
       "        vertical-align: middle;\n",
       "    }\n",
       "\n",
       "    .dataframe tbody tr th {\n",
       "        vertical-align: top;\n",
       "    }\n",
       "\n",
       "    .dataframe thead th {\n",
       "        text-align: right;\n",
       "    }\n",
       "</style>\n",
       "<table border=\"1\" class=\"dataframe\">\n",
       "  <thead>\n",
       "    <tr style=\"text-align: right;\">\n",
       "      <th></th>\n",
       "      <th>Col1</th>\n",
       "      <th>Col2</th>\n",
       "      <th>Col3</th>\n",
       "      <th>Col4</th>\n",
       "      <th>Col5</th>\n",
       "    </tr>\n",
       "  </thead>\n",
       "  <tbody>\n",
       "    <tr>\n",
       "      <th>0</th>\n",
       "      <td>0.188888</td>\n",
       "      <td>0.161053</td>\n",
       "      <td>0.150413</td>\n",
       "      <td>0.824770</td>\n",
       "      <td>0.111833</td>\n",
       "    </tr>\n",
       "    <tr>\n",
       "      <th>1</th>\n",
       "      <td>0.827719</td>\n",
       "      <td>0.161363</td>\n",
       "      <td>0.400331</td>\n",
       "      <td>0.398196</td>\n",
       "      <td>0.770696</td>\n",
       "    </tr>\n",
       "    <tr>\n",
       "      <th>2</th>\n",
       "      <td>0.844660</td>\n",
       "      <td>0.100998</td>\n",
       "      <td>0.995176</td>\n",
       "      <td>0.615525</td>\n",
       "      <td>0.878389</td>\n",
       "    </tr>\n",
       "    <tr>\n",
       "      <th>3</th>\n",
       "      <td>0.913895</td>\n",
       "      <td>0.036169</td>\n",
       "      <td>0.237840</td>\n",
       "      <td>0.187628</td>\n",
       "      <td>0.534308</td>\n",
       "    </tr>\n",
       "    <tr>\n",
       "      <th>4</th>\n",
       "      <td>0.322443</td>\n",
       "      <td>0.955010</td>\n",
       "      <td>0.340765</td>\n",
       "      <td>0.649311</td>\n",
       "      <td>0.354540</td>\n",
       "    </tr>\n",
       "  </tbody>\n",
       "</table>\n",
       "</div>"
      ],
      "text/plain": [
       "       Col1      Col2      Col3      Col4      Col5\n",
       "0  0.188888  0.161053  0.150413  0.824770  0.111833\n",
       "1  0.827719  0.161363  0.400331  0.398196  0.770696\n",
       "2  0.844660  0.100998  0.995176  0.615525  0.878389\n",
       "3  0.913895  0.036169  0.237840  0.187628  0.534308\n",
       "4  0.322443  0.955010  0.340765  0.649311  0.354540"
      ]
     },
     "execution_count": 3,
     "metadata": {},
     "output_type": "execute_result"
    }
   ],
   "source": [
    "df = pd.read_csv(\"data_reading_tap.txt\", sep = \"\\t\")\n",
    "df.head()"
   ]
  },
  {
   "cell_type": "markdown",
   "metadata": {},
   "source": [
    "### 헤더가 없는 데이터 불러오기\n",
    "\n",
    "헤더가 없는 경우 첫 번째 행이 자연스럽게 헤더로 설정이 된다. 이때 헤더가 없다고 얘기하여 None으로 설정하여 불러올 수 있다.  \n"
   ]
  },
  {
   "cell_type": "code",
   "execution_count": 4,
   "metadata": {},
   "outputs": [
    {
     "data": {
      "text/html": [
       "<div>\n",
       "<style scoped>\n",
       "    .dataframe tbody tr th:only-of-type {\n",
       "        vertical-align: middle;\n",
       "    }\n",
       "\n",
       "    .dataframe tbody tr th {\n",
       "        vertical-align: top;\n",
       "    }\n",
       "\n",
       "    .dataframe thead th {\n",
       "        text-align: right;\n",
       "    }\n",
       "</style>\n",
       "<table border=\"1\" class=\"dataframe\">\n",
       "  <thead>\n",
       "    <tr style=\"text-align: right;\">\n",
       "      <th></th>\n",
       "      <th>0.188888091</th>\n",
       "      <th>0.161052929</th>\n",
       "      <th>0.15041277</th>\n",
       "      <th>0.824770215</th>\n",
       "      <th>0.111832872</th>\n",
       "    </tr>\n",
       "  </thead>\n",
       "  <tbody>\n",
       "    <tr>\n",
       "      <th>0</th>\n",
       "      <td>0.827719</td>\n",
       "      <td>0.161363</td>\n",
       "      <td>0.400331</td>\n",
       "      <td>0.398196</td>\n",
       "      <td>0.770696</td>\n",
       "    </tr>\n",
       "    <tr>\n",
       "      <th>1</th>\n",
       "      <td>0.844660</td>\n",
       "      <td>0.100998</td>\n",
       "      <td>0.995176</td>\n",
       "      <td>0.615525</td>\n",
       "      <td>0.878389</td>\n",
       "    </tr>\n",
       "    <tr>\n",
       "      <th>2</th>\n",
       "      <td>0.913895</td>\n",
       "      <td>0.036169</td>\n",
       "      <td>0.237840</td>\n",
       "      <td>0.187628</td>\n",
       "      <td>0.534308</td>\n",
       "    </tr>\n",
       "    <tr>\n",
       "      <th>3</th>\n",
       "      <td>0.322443</td>\n",
       "      <td>0.955010</td>\n",
       "      <td>0.340765</td>\n",
       "      <td>0.649311</td>\n",
       "      <td>0.354540</td>\n",
       "    </tr>\n",
       "    <tr>\n",
       "      <th>4</th>\n",
       "      <td>0.330625</td>\n",
       "      <td>0.672039</td>\n",
       "      <td>0.109381</td>\n",
       "      <td>0.075682</td>\n",
       "      <td>0.916931</td>\n",
       "    </tr>\n",
       "  </tbody>\n",
       "</table>\n",
       "</div>"
      ],
      "text/plain": [
       "   0.188888091  0.161052929  0.15041277  0.824770215  0.111832872\n",
       "0     0.827719     0.161363    0.400331     0.398196     0.770696\n",
       "1     0.844660     0.100998    0.995176     0.615525     0.878389\n",
       "2     0.913895     0.036169    0.237840     0.187628     0.534308\n",
       "3     0.322443     0.955010    0.340765     0.649311     0.354540\n",
       "4     0.330625     0.672039    0.109381     0.075682     0.916931"
      ]
     },
     "execution_count": 4,
     "metadata": {},
     "output_type": "execute_result"
    }
   ],
   "source": [
    "# header를 설정하지 않은 경우 \n",
    "\n",
    "df = pd.read_csv(\"data_reading_without_header.csv\")\n",
    "df.head()"
   ]
  },
  {
   "cell_type": "code",
   "execution_count": 5,
   "metadata": {},
   "outputs": [
    {
     "data": {
      "text/html": [
       "<div>\n",
       "<style scoped>\n",
       "    .dataframe tbody tr th:only-of-type {\n",
       "        vertical-align: middle;\n",
       "    }\n",
       "\n",
       "    .dataframe tbody tr th {\n",
       "        vertical-align: top;\n",
       "    }\n",
       "\n",
       "    .dataframe thead th {\n",
       "        text-align: right;\n",
       "    }\n",
       "</style>\n",
       "<table border=\"1\" class=\"dataframe\">\n",
       "  <thead>\n",
       "    <tr style=\"text-align: right;\">\n",
       "      <th></th>\n",
       "      <th>0</th>\n",
       "      <th>1</th>\n",
       "      <th>2</th>\n",
       "      <th>3</th>\n",
       "      <th>4</th>\n",
       "    </tr>\n",
       "  </thead>\n",
       "  <tbody>\n",
       "    <tr>\n",
       "      <th>0</th>\n",
       "      <td>0.188888</td>\n",
       "      <td>0.161053</td>\n",
       "      <td>0.150413</td>\n",
       "      <td>0.824770</td>\n",
       "      <td>0.111833</td>\n",
       "    </tr>\n",
       "    <tr>\n",
       "      <th>1</th>\n",
       "      <td>0.827719</td>\n",
       "      <td>0.161363</td>\n",
       "      <td>0.400331</td>\n",
       "      <td>0.398196</td>\n",
       "      <td>0.770696</td>\n",
       "    </tr>\n",
       "    <tr>\n",
       "      <th>2</th>\n",
       "      <td>0.844660</td>\n",
       "      <td>0.100998</td>\n",
       "      <td>0.995176</td>\n",
       "      <td>0.615525</td>\n",
       "      <td>0.878389</td>\n",
       "    </tr>\n",
       "    <tr>\n",
       "      <th>3</th>\n",
       "      <td>0.913895</td>\n",
       "      <td>0.036169</td>\n",
       "      <td>0.237840</td>\n",
       "      <td>0.187628</td>\n",
       "      <td>0.534308</td>\n",
       "    </tr>\n",
       "    <tr>\n",
       "      <th>4</th>\n",
       "      <td>0.322443</td>\n",
       "      <td>0.955010</td>\n",
       "      <td>0.340765</td>\n",
       "      <td>0.649311</td>\n",
       "      <td>0.354540</td>\n",
       "    </tr>\n",
       "  </tbody>\n",
       "</table>\n",
       "</div>"
      ],
      "text/plain": [
       "          0         1         2         3         4\n",
       "0  0.188888  0.161053  0.150413  0.824770  0.111833\n",
       "1  0.827719  0.161363  0.400331  0.398196  0.770696\n",
       "2  0.844660  0.100998  0.995176  0.615525  0.878389\n",
       "3  0.913895  0.036169  0.237840  0.187628  0.534308\n",
       "4  0.322443  0.955010  0.340765  0.649311  0.354540"
      ]
     },
     "execution_count": 5,
     "metadata": {},
     "output_type": "execute_result"
    }
   ],
   "source": [
    "df = pd.read_csv(\"data_reading_without_header.csv\", header = None)\n",
    "df.head()"
   ]
  },
  {
   "cell_type": "markdown",
   "metadata": {},
   "source": [
    "## df.columns = [] : 컬럼명 변경하기"
   ]
  },
  {
   "cell_type": "code",
   "execution_count": 7,
   "metadata": {},
   "outputs": [
    {
     "data": {
      "text/html": [
       "<div>\n",
       "<style scoped>\n",
       "    .dataframe tbody tr th:only-of-type {\n",
       "        vertical-align: middle;\n",
       "    }\n",
       "\n",
       "    .dataframe tbody tr th {\n",
       "        vertical-align: top;\n",
       "    }\n",
       "\n",
       "    .dataframe thead th {\n",
       "        text-align: right;\n",
       "    }\n",
       "</style>\n",
       "<table border=\"1\" class=\"dataframe\">\n",
       "  <thead>\n",
       "    <tr style=\"text-align: right;\">\n",
       "      <th></th>\n",
       "      <th>X1</th>\n",
       "      <th>X2</th>\n",
       "      <th>X3</th>\n",
       "      <th>X4</th>\n",
       "      <th>X5</th>\n",
       "    </tr>\n",
       "  </thead>\n",
       "  <tbody>\n",
       "    <tr>\n",
       "      <th>0</th>\n",
       "      <td>0.188888</td>\n",
       "      <td>0.161053</td>\n",
       "      <td>0.150413</td>\n",
       "      <td>0.824770</td>\n",
       "      <td>0.111833</td>\n",
       "    </tr>\n",
       "    <tr>\n",
       "      <th>1</th>\n",
       "      <td>0.827719</td>\n",
       "      <td>0.161363</td>\n",
       "      <td>0.400331</td>\n",
       "      <td>0.398196</td>\n",
       "      <td>0.770696</td>\n",
       "    </tr>\n",
       "    <tr>\n",
       "      <th>2</th>\n",
       "      <td>0.844660</td>\n",
       "      <td>0.100998</td>\n",
       "      <td>0.995176</td>\n",
       "      <td>0.615525</td>\n",
       "      <td>0.878389</td>\n",
       "    </tr>\n",
       "    <tr>\n",
       "      <th>3</th>\n",
       "      <td>0.913895</td>\n",
       "      <td>0.036169</td>\n",
       "      <td>0.237840</td>\n",
       "      <td>0.187628</td>\n",
       "      <td>0.534308</td>\n",
       "    </tr>\n",
       "    <tr>\n",
       "      <th>4</th>\n",
       "      <td>0.322443</td>\n",
       "      <td>0.955010</td>\n",
       "      <td>0.340765</td>\n",
       "      <td>0.649311</td>\n",
       "      <td>0.354540</td>\n",
       "    </tr>\n",
       "  </tbody>\n",
       "</table>\n",
       "</div>"
      ],
      "text/plain": [
       "         X1        X2        X3        X4        X5\n",
       "0  0.188888  0.161053  0.150413  0.824770  0.111833\n",
       "1  0.827719  0.161363  0.400331  0.398196  0.770696\n",
       "2  0.844660  0.100998  0.995176  0.615525  0.878389\n",
       "3  0.913895  0.036169  0.237840  0.187628  0.534308\n",
       "4  0.322443  0.955010  0.340765  0.649311  0.354540"
      ]
     },
     "execution_count": 7,
     "metadata": {},
     "output_type": "execute_result"
    }
   ],
   "source": [
    "df.columns = ['X1', 'X2', 'X3', 'X4', 'X5']\n",
    "df.head() # 컬럼명 바꾸기"
   ]
  },
  {
   "cell_type": "markdown",
   "metadata": {},
   "source": [
    "## 큰 규모의 데이터 불러오기\n",
    "\n",
    "센서데이터나 로그데이터 같은 시계열 데이터를 불러올 때 자주 사용한다.  \n",
    "\n",
    "usecols 로 해당 위치(순서)에 있는 컬럼만 불러오도록 한다.  \n",
    "index_col 로 인덱스를 미리 정해준다. 대신 해당 컬럼을 사용할 때 usecols에 반드시 포함되어 있어야 한다.  \n",
    "nrows 로 1000개 데이터만 확인해 보도록 한다. \n"
   ]
  },
  {
   "cell_type": "code",
   "execution_count": 6,
   "metadata": {},
   "outputs": [
    {
     "data": {
      "text/html": [
       "<div>\n",
       "<style scoped>\n",
       "    .dataframe tbody tr th:only-of-type {\n",
       "        vertical-align: middle;\n",
       "    }\n",
       "\n",
       "    .dataframe tbody tr th {\n",
       "        vertical-align: top;\n",
       "    }\n",
       "\n",
       "    .dataframe thead th {\n",
       "        text-align: right;\n",
       "    }\n",
       "</style>\n",
       "<table border=\"1\" class=\"dataframe\">\n",
       "  <thead>\n",
       "    <tr style=\"text-align: right;\">\n",
       "      <th></th>\n",
       "      <th>X1</th>\n",
       "      <th>X5</th>\n",
       "      <th>X10</th>\n",
       "    </tr>\n",
       "    <tr>\n",
       "      <th>ID</th>\n",
       "      <th></th>\n",
       "      <th></th>\n",
       "      <th></th>\n",
       "    </tr>\n",
       "  </thead>\n",
       "  <tbody>\n",
       "    <tr>\n",
       "      <th>ID1</th>\n",
       "      <td>21</td>\n",
       "      <td>3</td>\n",
       "      <td>60</td>\n",
       "    </tr>\n",
       "    <tr>\n",
       "      <th>ID2</th>\n",
       "      <td>0</td>\n",
       "      <td>69</td>\n",
       "      <td>98</td>\n",
       "    </tr>\n",
       "    <tr>\n",
       "      <th>ID3</th>\n",
       "      <td>75</td>\n",
       "      <td>69</td>\n",
       "      <td>49</td>\n",
       "    </tr>\n",
       "    <tr>\n",
       "      <th>ID4</th>\n",
       "      <td>66</td>\n",
       "      <td>86</td>\n",
       "      <td>22</td>\n",
       "    </tr>\n",
       "    <tr>\n",
       "      <th>ID5</th>\n",
       "      <td>33</td>\n",
       "      <td>57</td>\n",
       "      <td>59</td>\n",
       "    </tr>\n",
       "  </tbody>\n",
       "</table>\n",
       "</div>"
      ],
      "text/plain": [
       "     X1  X5  X10\n",
       "ID              \n",
       "ID1  21   3   60\n",
       "ID2   0  69   98\n",
       "ID3  75  69   49\n",
       "ID4  66  86   22\n",
       "ID5  33  57   59"
      ]
     },
     "execution_count": 6,
     "metadata": {},
     "output_type": "execute_result"
    }
   ],
   "source": [
    "df = pd.read_csv(\"large_data_with_ID.csv\", \n",
    "                 usecols = [0, 1, 5, 10], # ['ID', 'X1', 'X5', 'X10']으로 불러와도 무방\n",
    "                 index_col = 'ID', # usecols을 사용하는 경우, index_col을 반드시 포함시켜야 함\n",
    "                 nrows = 1000)\n",
    "\n",
    "df.head()"
   ]
  },
  {
   "cell_type": "markdown",
   "metadata": {},
   "source": [
    "세 개의 컬럼처럼 보이지만 실제로 불러온 것은 네 개의 컬럼인 것이다."
   ]
  },
  {
   "cell_type": "code",
   "execution_count": 7,
   "metadata": {},
   "outputs": [
    {
     "data": {
      "text/plain": [
       "(1000, 3)"
      ]
     },
     "execution_count": 7,
     "metadata": {},
     "output_type": "execute_result"
    }
   ],
   "source": [
    "df.shape"
   ]
  },
  {
   "cell_type": "markdown",
   "metadata": {},
   "source": [
    "# to_csv를 이용한 데이터 저장하기\n",
    "\n",
    "판다스의 to_csv는 테이블 형태의 데이터를 저장하는 데 효과적인 함수이다.  \n",
    "\n",
    "확장자는 어떤 것이든 상관없이 잘 저장이 된다.  \n",
    "\n",
    "```\n",
    "df.to_csv(filepath, sep, index)\n",
    "```  \n",
    "filepath : 파일 경로 및 이름  \n",
    "sep : 구분자 (default: ',')  \n",
    "index : 인덱스를 파일에 저장할 지 여부 (bool)  "
   ]
  },
  {
   "cell_type": "code",
   "execution_count": 8,
   "metadata": {},
   "outputs": [
    {
     "data": {
      "text/html": [
       "<div>\n",
       "<style scoped>\n",
       "    .dataframe tbody tr th:only-of-type {\n",
       "        vertical-align: middle;\n",
       "    }\n",
       "\n",
       "    .dataframe tbody tr th {\n",
       "        vertical-align: top;\n",
       "    }\n",
       "\n",
       "    .dataframe thead th {\n",
       "        text-align: right;\n",
       "    }\n",
       "</style>\n",
       "<table border=\"1\" class=\"dataframe\">\n",
       "  <thead>\n",
       "    <tr style=\"text-align: right;\">\n",
       "      <th></th>\n",
       "      <th>A</th>\n",
       "      <th>B</th>\n",
       "    </tr>\n",
       "  </thead>\n",
       "  <tbody>\n",
       "    <tr>\n",
       "      <th>a</th>\n",
       "      <td>1</td>\n",
       "      <td>4</td>\n",
       "    </tr>\n",
       "    <tr>\n",
       "      <th>b</th>\n",
       "      <td>2</td>\n",
       "      <td>5</td>\n",
       "    </tr>\n",
       "    <tr>\n",
       "      <th>c</th>\n",
       "      <td>3</td>\n",
       "      <td>6</td>\n",
       "    </tr>\n",
       "  </tbody>\n",
       "</table>\n",
       "</div>"
      ],
      "text/plain": [
       "   A  B\n",
       "a  1  4\n",
       "b  2  5\n",
       "c  3  6"
      ]
     },
     "execution_count": 8,
     "metadata": {},
     "output_type": "execute_result"
    }
   ],
   "source": [
    "df = pd.DataFrame({\"A\":[1,2,3], \"B\":[4,5,6]}, \n",
    "                  index = ['a', 'b', 'c'])\n",
    "\n",
    "df"
   ]
  },
  {
   "cell_type": "code",
   "execution_count": null,
   "metadata": {},
   "outputs": [],
   "source": [
    "# df.to_csv(\"to_csv를 이용한 데이터 저장_인덱스미포함.csv\", sep = \",\", index = False)"
   ]
  },
  {
   "cell_type": "code",
   "execution_count": null,
   "metadata": {},
   "outputs": [],
   "source": [
    "# df.to_csv(\"to_csv를 이용한 데이터 저장_인덱스포함.csv\", sep = \",\", index = True)"
   ]
  }
 ],
 "metadata": {
  "kernelspec": {
   "display_name": "Python 3 (ipykernel)",
   "language": "python",
   "name": "python3"
  },
  "language_info": {
   "codemirror_mode": {
    "name": "ipython",
    "version": 3
   },
   "file_extension": ".py",
   "mimetype": "text/x-python",
   "name": "python",
   "nbconvert_exporter": "python",
   "pygments_lexer": "ipython3",
   "version": "3.8.5"
  },
  "toc": {
   "base_numbering": 1,
   "nav_menu": {},
   "number_sections": true,
   "sideBar": true,
   "skip_h1_title": false,
   "title_cell": "Table of Contents",
   "title_sidebar": "Contents",
   "toc_cell": false,
   "toc_position": {},
   "toc_section_display": true,
   "toc_window_display": false
  }
 },
 "nbformat": 4,
 "nbformat_minor": 2
}

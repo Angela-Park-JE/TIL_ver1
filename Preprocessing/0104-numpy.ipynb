{
 "cells": [
  {
   "cell_type": "markdown",
   "metadata": {},
   "source": [
    "# 넘파이의 데이터 구조 및 함수"
   ]
  },
  {
   "cell_type": "markdown",
   "metadata": {},
   "source": [
    "넘파이의 자료형은 ndarray. 효율적인 배열 연산을 위해 개발되었고, 리스트와 ndarray는 유연성과 효율성을 기준으로 비교할 수 있다.\n",
    "\n",
    "List는 유연성 면에서 서로 다른 데이터 타입을 담을 수 있지만 ndarray는 서로 다른 데이터 타입의 요소를 담을 수 없다.  \n",
    "ndarray는 효율성 면에서 모든 요소 정보를 한 번에 저장할 수 있고, C로 구현된 내부 반복문을 사용하기 때문에 속도가 매우 빠르다. 그러나 List는 각 요소 정보를 따로 저장하고, 반복문 사용이 필수적이다.  \n",
    "\n",
    "## 배열 만들기\n",
    "\n",
    "### 리스트에서 배열 만들기"
   ]
  },
  {
   "cell_type": "code",
   "execution_count": 1,
   "metadata": {},
   "outputs": [
    {
     "name": "stdout",
     "output_type": "stream",
     "text": [
      "[1 4 2 5 3] [3.14 4.   2.   3.  ] [1. 2. 3. 4.]\n"
     ]
    }
   ],
   "source": [
    "import numpy as np\n",
    "\n",
    "a = np.array([1, 4, 2, 5, 3])\n",
    "b = np.array([3.14, 4, 2, 3])\n",
    "c = np.array([1, 2, 3, 4], dtype = float)\n",
    "\n",
    "print(a, b, c)"
   ]
  },
  {
   "cell_type": "code",
   "execution_count": 2,
   "metadata": {},
   "outputs": [
    {
     "data": {
      "text/plain": [
       "array([1, 4, 2, 5, 3])"
      ]
     },
     "execution_count": 2,
     "metadata": {},
     "output_type": "execute_result"
    }
   ],
   "source": [
    "# 떼어서 출력하면 다른점이 보인다.\n",
    "a"
   ]
  },
  {
   "cell_type": "code",
   "execution_count": 3,
   "metadata": {},
   "outputs": [
    {
     "data": {
      "text/plain": [
       "array([3.14, 4.  , 2.  , 3.  ])"
      ]
     },
     "execution_count": 3,
     "metadata": {},
     "output_type": "execute_result"
    }
   ],
   "source": [
    "b"
   ]
  },
  {
   "cell_type": "code",
   "execution_count": 4,
   "metadata": {},
   "outputs": [
    {
     "data": {
      "text/plain": [
       "array([1., 2., 3., 4.])"
      ]
     },
     "execution_count": 4,
     "metadata": {},
     "output_type": "execute_result"
    }
   ],
   "source": [
    "c"
   ]
  },
  {
   "cell_type": "markdown",
   "metadata": {},
   "source": [
    "a는 int, b는 float인 것이 보인다. 또한 c는 float으로 지정해주었기 때문에 float으로 보인다."
   ]
  },
  {
   "cell_type": "markdown",
   "metadata": {},
   "source": [
    "### numpy로 배열 만들기\n",
    "\n",
    "> `np.zeros(shape)`  \n",
    "shape(튜플) 모양을 갖는 영벡터/영행렬 생성.  \n",
    "`np.zeros((10,2))`: (10,2) 크기의 영행렬 생성.  \n",
    "\n",
    "> `np.ones(shape)`  \n",
    "shape(튜플) 모양을 갖는 1로 채운 배열 생성.  \n",
    "`np.zeros((10,2))`: 원소가 1인 (10,2) 크기의 행렬 생성.  \n",
    "\n",
    "> `np.full((n, m), i)`  \n",
    "$i$로 채운 $n\\times m$ 크기의 배열 생성.  \n",
    "\n",
    "> `np.arange(start, stop, step)`  \n",
    "start부터 stop까지 step만큼 건너뛰는 1차원 ndarray를 반환한다. start와 step은 생략 가능하다.  \n",
    "\n",
    "> `np.linspace(start, stop, num)`  \n",
    "start부터 stop 까지 num 개수의 요소를 가지는 등간격의 1차원 배열을 반환한다.   \n",
    "\n",
    "> `np.eye(i)`  \n",
    "크기 $i$의 단위 행렬 만들기  "
   ]
  },
  {
   "cell_type": "markdown",
   "metadata": {},
   "source": [
    "#### np.random 에 있는 메서드\n",
    "\n",
    "> `np.random.random((n, m))`  \n",
    "$n\\times m$ 크기의 0~1의 난수 배열 생성\n",
    "\n",
    "> `np.random.normal(i, j, (n, m))`  \n",
    "평균이 $i$이고 분산이 $j$인 정규분포를 이루는 $n\\times m$ 크기의 난수 배열 생성  \n",
    "\n",
    "> `np.random.randint(i, j, (n, m))`  \n",
    "$i$와 $j$ 구간 사이의 임의의 정수로 $n\\times m$ 크기의 난수 배열 생성  \n"
   ]
  },
  {
   "cell_type": "code",
   "execution_count": 5,
   "metadata": {},
   "outputs": [
    {
     "data": {
      "text/plain": [
       "array([0., 0., 0., 0., 0.])"
      ]
     },
     "execution_count": 5,
     "metadata": {},
     "output_type": "execute_result"
    }
   ],
   "source": [
    "np.zeros(5)"
   ]
  },
  {
   "cell_type": "code",
   "execution_count": 6,
   "metadata": {},
   "outputs": [
    {
     "data": {
      "text/plain": [
       "array([1., 1., 1., 1., 1.])"
      ]
     },
     "execution_count": 6,
     "metadata": {},
     "output_type": "execute_result"
    }
   ],
   "source": [
    "np.ones(5)"
   ]
  },
  {
   "cell_type": "code",
   "execution_count": 7,
   "metadata": {},
   "outputs": [
    {
     "data": {
      "text/plain": [
       "array([[5, 5, 5],\n",
       "       [5, 5, 5]])"
      ]
     },
     "execution_count": 7,
     "metadata": {},
     "output_type": "execute_result"
    }
   ],
   "source": [
    "np.full((2, 3), 5)"
   ]
  },
  {
   "cell_type": "code",
   "execution_count": 8,
   "metadata": {},
   "outputs": [
    {
     "data": {
      "text/plain": [
       "array([2. , 2.1, 2.2, 2.3, 2.4, 2.5, 2.6, 2.7, 2.8, 2.9])"
      ]
     },
     "execution_count": 8,
     "metadata": {},
     "output_type": "execute_result"
    }
   ],
   "source": [
    "np.arange(2, 3, 0.1)"
   ]
  },
  {
   "cell_type": "code",
   "execution_count": 9,
   "metadata": {},
   "outputs": [
    {
     "data": {
      "text/plain": [
       "array([2.  , 2.25, 2.5 , 2.75, 3.  ])"
      ]
     },
     "execution_count": 9,
     "metadata": {},
     "output_type": "execute_result"
    }
   ],
   "source": [
    "np.linspace(2, 3, 5)"
   ]
  },
  {
   "cell_type": "code",
   "execution_count": 10,
   "metadata": {},
   "outputs": [
    {
     "data": {
      "text/plain": [
       "array([[1., 0., 0.],\n",
       "       [0., 1., 0.],\n",
       "       [0., 0., 1.]])"
      ]
     },
     "execution_count": 10,
     "metadata": {},
     "output_type": "execute_result"
    }
   ],
   "source": [
    "np.eye(3)"
   ]
  },
  {
   "cell_type": "code",
   "execution_count": 11,
   "metadata": {},
   "outputs": [
    {
     "data": {
      "text/plain": [
       "array([[0.50548618, 0.10568935, 0.85105735],\n",
       "       [0.31336955, 0.21785014, 0.74524851]])"
      ]
     },
     "execution_count": 11,
     "metadata": {},
     "output_type": "execute_result"
    }
   ],
   "source": [
    "np.random.random((2, 3))"
   ]
  },
  {
   "cell_type": "code",
   "execution_count": 12,
   "metadata": {},
   "outputs": [
    {
     "data": {
      "text/plain": [
       "array([[ 0.03742326,  1.55827518, -0.18631996],\n",
       "       [ 4.09744223,  5.76451821,  0.47549868]])"
      ]
     },
     "execution_count": 12,
     "metadata": {},
     "output_type": "execute_result"
    }
   ],
   "source": [
    "np.random.normal(0, 3, (2, 3))"
   ]
  },
  {
   "cell_type": "code",
   "execution_count": 13,
   "metadata": {},
   "outputs": [
    {
     "data": {
      "text/plain": [
       "array([[8, 6, 2],\n",
       "       [6, 0, 2]])"
      ]
     },
     "execution_count": 13,
     "metadata": {},
     "output_type": "execute_result"
    }
   ],
   "source": [
    "np.random.randint(0, 10, (2, 3))"
   ]
  },
  {
   "cell_type": "code",
   "execution_count": null,
   "metadata": {},
   "outputs": [],
   "source": [
    "# 강의에서의 배열 예시\n",
    "\n",
    "# 함수를 이용하여 배열 만들기\n",
    "a = np.zeros(10, dtype = int) # 0으로 채운 배열 생성\n",
    "b = np.ones((3, 5), dtype = float) #1로 채운 배열 생성\n",
    "c = np.full((3,5), 3.14) # 3.14로 채운 배열 만들기 \n",
    "d = np.arange(0, 20, 2) # 0에서 시작해 2씩 더해 20까지 채우는 배열 생성\n",
    "e = np.linspace(0, 1, 5) # 0과 1 사이에 일정한 간격을 가진 다섯 개의 값으로 채운 배열 만들기\n",
    "f = np.random.random((3,3)) # 3*3 크기의 난수 배열 생성\n",
    "g = np.random.normal(0, 1, (3, 3)) # 평균 0, 표준 편차 1의 정규 분포를 따르는 3*3 난수 배열\n",
    "h = np.random.randint(0, 10, (3, 3)) # [0, 10) 구간의 임의로 정수로 채운 3*3 배열 만들기\n",
    "i = np.eye(3) # 크기 3의 단위 행렬 만들기\n",
    "\n",
    "print(\"np.zeros(10, dtype = int):\\n\", a)\n",
    "print(\"\\nnp.ones((3, 5), dtype = float):\\n\", b)\n",
    "print(\"\\nnp.full((3,5), 3.14):\\n\", c)\n",
    "print(\"\\nnp.arange(0, 20, 2):\\n\", d)\n",
    "print(\"\\nnp.linspace(0, 1, 5):\\n\", e)\n",
    "print(\"\\nnp.random.random((3,3)):\\n\", f)\n",
    "print(\"\\nnp.random.normal(0, 1, (3, 3)):\\n\", g)\n",
    "print(\"\\nnp.random.randint(0, 10, (3, 3)):\\n\", h)\n",
    "print(\"\\nnp.eye(3):\\n\", i)"
   ]
  },
  {
   "cell_type": "markdown",
   "metadata": {},
   "source": [
    "## 인덱싱과 슬라이싱\n",
    "\n",
    "기본적인 인덱싱과 슬라이싱은 리스트 자료형과 완전히 동일하다.  \n",
    "X가 2차원 배열인 경우 X[i, j]는 i행 j열에 있는 요소를 뜻함.  \n",
    "X가 리스트의 경우 X[i][j]로 접근하지만 ndarray는 콤마를 통해 바로 접근 가능.  \n",
    "\n",
    "Boolian 리스트도 인덱스로 사용가능하며, True인 요소와 대응되는 요소만 가져오게 된다. B가 불 리스트의 경우, X[B]식으로 넣으면 True값인 인덱스로 X의 값을 가져오게 된다. \n",
    "\n",
    "\n",
    "여러 개의 인덱스를 리스트 형태로 입력받을 수도 있다. 인덱스 리스트를 넣음. X[[1,3,4]]  \n",
    "\n"
   ]
  },
  {
   "cell_type": "code",
   "execution_count": 14,
   "metadata": {},
   "outputs": [],
   "source": [
    "X1 = np.array([1, 3, 5, 7, 9, 11, 13])"
   ]
  },
  {
   "cell_type": "code",
   "execution_count": 17,
   "metadata": {},
   "outputs": [
    {
     "name": "stdout",
     "output_type": "stream",
     "text": [
      "X1[0]: 1\n",
      "X1[3]: 7\n",
      "X1[-1]: 13\n",
      "X1[-2]: 11\n",
      "X1[1:4]: [3 5 7]\n"
     ]
    }
   ],
   "source": [
    "print(\"X1[0]:\", X1[0])     # 양수 인덱스 (맨 앞 요소)\n",
    "print(\"X1[3]:\", X1[3])     # 세 번째 요소 \n",
    "print(\"X1[-1]:\", X1[-1])   # 음수 인덱스 (맨 뒤 요소)\n",
    "print(\"X1[-2]:\", X1[-2])   # 뒤에서 네 번째 요소 \n",
    "print(\"X1[1:4]:\", X1[1:4]) # 두 번째부터 4번째 요소"
   ]
  },
  {
   "cell_type": "code",
   "execution_count": 19,
   "metadata": {},
   "outputs": [
    {
     "data": {
      "text/plain": [
       "array([[5, 3, 7, 4, 9],\n",
       "       [4, 3, 8, 8, 2],\n",
       "       [0, 5, 1, 5, 6],\n",
       "       [4, 3, 0, 8, 9],\n",
       "       [3, 9, 4, 4, 6]])"
      ]
     },
     "execution_count": 19,
     "metadata": {},
     "output_type": "execute_result"
    }
   ],
   "source": [
    "X2 = np.random.randint(0, 10, (5, 5))\n",
    "X2"
   ]
  },
  {
   "cell_type": "code",
   "execution_count": 21,
   "metadata": {},
   "outputs": [
    {
     "name": "stdout",
     "output_type": "stream",
     "text": [
      "X2[0, 1]: 3\n",
      "X2[1:4, 2]: \n",
      " [8 1 0]\n",
      "X2[0, 2:4]: \n",
      " [7 4]\n",
      "X2[0:3, 2:4]: \n",
      " [[7 4]\n",
      " [8 8]\n",
      " [1 5]]\n"
     ]
    }
   ],
   "source": [
    "print(\"X2[0, 1]:\", X2[0, 1])\n",
    "print(\"X2[1:4, 2]: \\n\", X2[1:4, 2])     # 행은 1:4, 열은 2만\n",
    "print(\"X2[0, 2:4]: \\n\", X2[0, 2:4])\n",
    "print(\"X2[0:3, 2:4]: \\n\", X2[0:3, 2:4])"
   ]
  },
  {
   "cell_type": "code",
   "execution_count": null,
   "metadata": {},
   "outputs": [],
   "source": [
    "# 강의 예시\n",
    "\n",
    "# 기본적인 인덱싱과 슬라이싱\n",
    "x1 = np.array([1, 3, 5, 7, 9])\n",
    "\n",
    "print(\"x1[0]:\", x1[0]) # 양수 인덱스 (맨 앞 요소)\n",
    "print(\"x1[3]:\", x1[3]) # 세 번째 요소 \n",
    "print(\"x1[-1]:\", x1[-1]) # 음수 인덱스 (맨 뒤 요소)\n",
    "print(\"x1[-2]:\", x1[-2]) # 뒤에서 네 번째 요소 \n",
    "\n",
    "print(\"x1[1:3]:\", x1[1:3]) # 1번째 요소부터 3번째 요소까지 슬라이싱"
   ]
  },
  {
   "cell_type": "code",
   "execution_count": null,
   "metadata": {},
   "outputs": [],
   "source": [
    "# 강의 예시\n",
    "\n",
    "# 2차원 배열의 인덱싱 및 슬라이싱\n",
    "x2 = np.random.random(size = (10, 5))\n",
    "\n",
    "print(\"x2[0, 1]\", x2[0, 1])\n",
    "print(\"x2[1:4, 2]\\n\", x2[1:4, 2])\n",
    "print(\"x2[0, 2:4]\\n\", x2[0, 2:4])\n",
    "print(\"x2[0:3, 2:4]\\n\", x2[0:3, 2:4])"
   ]
  },
  {
   "cell_type": "markdown",
   "metadata": {},
   "source": [
    "## 유니버설 함수\n",
    "\n",
    "ndarray의 개별 요소에 반복된 연산을 빠르게 수행하는 것을 주 목적으로 하는 함수.  \n",
    "단순 반복문에 비해 매우 빠르다.  \n",
    "\n",
    "ndarray의 x, y 에 대해 가감승제 등 다양한 배열 간 이항 연산을 지원한다.  \n",
    "> x ** y 을 써서 제곱도 가능하며, 뒤에 오는 y가 지수로 올라간다.  \n",
    "\n",
    "\n"
   ]
  },
  {
   "cell_type": "code",
   "execution_count": 22,
   "metadata": {},
   "outputs": [],
   "source": [
    "X = np.array([3, 5, 7, 9])\n",
    "Y = np.array([1, 2, 3, 4])"
   ]
  },
  {
   "cell_type": "code",
   "execution_count": 24,
   "metadata": {},
   "outputs": [
    {
     "name": "stdout",
     "output_type": "stream",
     "text": [
      "X + Y =  [ 4  7 10 13]\n",
      "X - Y =  [2 3 4 5]\n",
      "X * Y =  [ 3 10 21 36]\n",
      "X / Y =  [3.         2.5        2.33333333 2.25      ]\n",
      "log X =  [1.09861229 1.60943791 1.94591015 2.19722458]\n"
     ]
    }
   ],
   "source": [
    "print(\"X + Y = \", X + Y)\n",
    "print(\"X - Y = \", X - Y)\n",
    "print(\"X * Y = \", X * Y)\n",
    "print(\"X / Y = \", X / Y)\n",
    "print(\"log X = \", np.log(X))"
   ]
  },
  {
   "cell_type": "markdown",
   "metadata": {},
   "source": [
    "### 속도 비교\n",
    "반복문을 사용하는 것과 유니버설 함수를 사용했을 때와 속도를 비교해본다."
   ]
  },
  {
   "cell_type": "code",
   "execution_count": 25,
   "metadata": {},
   "outputs": [
    {
     "name": "stdout",
     "output_type": "stream",
     "text": [
      "using loop: 37.4678\n",
      "using universal function: 6.2933\n"
     ]
    }
   ],
   "source": [
    "# 1억개의 난수 생성으로 연산 속도 비교\n",
    "\n",
    "arr_1 = np.random.randint(1, 10, size = 10**8)\n",
    "arr_2 = np.random.randint(1, 10, size = 10**8)\n",
    "\n",
    "import time\n",
    "t1 = time.time()\n",
    "output = []\n",
    "for val1, val2 in zip(arr_1, arr_2):\n",
    "    output.append(val1 + val2)\n",
    "t2 = time.time()\n",
    "print(\"using loop: {}\".format(round(t2-t1, 4)))\n",
    "\n",
    "t1 = time.time()\n",
    "output = arr_1 + arr_2\n",
    "t2 = time.time()\n",
    "print(\"using universal function: {}\".format((round(t2-t1, 4))))"
   ]
  },
  {
   "cell_type": "markdown",
   "metadata": {},
   "source": [
    "거의 6배 이상 차이가 난다.  \n",
    "\n",
    "### 브로드캐스팅\n",
    "\n",
    "다른 크기의 배열에 유니버설 함수를 적용하는 규칙 집합, 큰 차원의 배열에 맞게 작은 배열이 확장된다.  \n",
    "\n",
    "다시 말해, 벡터와 스칼라의 합의 경우 스칼라가 벡터의 길이 만큼 확장되어 합을 하게 하고, 행렬과 벡터의 합의 경우 벡터가 행렬의 크기 만큼 확장되어 합을 하게 하는 방식이라는 뜻이다.  \n",
    "만약 $1 \\times p$ 크기의 행렬과 $p \\times 1$의 합의 경우에는 각각을 $p \\times p$크기로 확장시켜 합을 하도록 한다.  \n",
    "\n"
   ]
  },
  {
   "cell_type": "code",
   "execution_count": 26,
   "metadata": {},
   "outputs": [
    {
     "data": {
      "text/plain": [
       "array([5, 6, 7])"
      ]
     },
     "execution_count": 26,
     "metadata": {},
     "output_type": "execute_result"
    }
   ],
   "source": [
    "# 브로드캐스팅 확인하기\n",
    "\n",
    "# 벡터 + 스칼라\n",
    "np.arange(3) + 5 "
   ]
  },
  {
   "cell_type": "code",
   "execution_count": 28,
   "metadata": {},
   "outputs": [
    {
     "data": {
      "text/plain": [
       "array([[0., 1., 2.],\n",
       "       [0., 1., 2.],\n",
       "       [0., 1., 2.]])"
      ]
     },
     "execution_count": 28,
     "metadata": {},
     "output_type": "execute_result"
    }
   ],
   "source": [
    "# 행렬 + 벡터\n",
    "\n",
    "np.zeros((3, 3)) + np.arange(3)"
   ]
  },
  {
   "cell_type": "code",
   "execution_count": 29,
   "metadata": {},
   "outputs": [
    {
     "data": {
      "text/plain": [
       "array([[2., 2., 2.],\n",
       "       [2., 2., 2.],\n",
       "       [2., 2., 2.]])"
      ]
     },
     "execution_count": 29,
     "metadata": {},
     "output_type": "execute_result"
    }
   ],
   "source": [
    "# 행과 열, 열과 행 크기가 같은 벡터간의 합\n",
    "\n",
    "np.ones((1,3)) + np.ones((3,1))"
   ]
  },
  {
   "cell_type": "code",
   "execution_count": 30,
   "metadata": {},
   "outputs": [
    {
     "data": {
      "text/plain": [
       "array([[0, 1, 2],\n",
       "       [1, 2, 3],\n",
       "       [2, 3, 4]])"
      ]
     },
     "execution_count": 30,
     "metadata": {},
     "output_type": "execute_result"
    }
   ],
   "source": [
    "np.arange(3).reshape(3, 1) + np.arange(3) "
   ]
  },
  {
   "cell_type": "markdown",
   "metadata": {},
   "source": [
    "##### 현실적인 예시\n",
    "\n",
    "변수간의 스케일이 다를때 z-normalization을 사용하게 된다. 그런 과정을 브로드캐스팅으로 어떻게 구현할까?  \n",
    "\n",
    "`X` 는 10행 3열의 매트릭스 형태이다.  \n",
    "이를 열 별 평균, 표준편차를 내면 (1, 3)이 될 것이다.  \n",
    "이때 `X - Xmean`은 (10, 3) - (1, 3)이 되는 것이지만 유니버설 함수로 인해 자연스럽게 (10, 3) 의 아웃풋이 나오게 되며, `/Xstd` 도 마찬가지 방식으로 (10, 3)의 아웃풋이 나오게 된다.  "
   ]
  },
  {
   "cell_type": "code",
   "execution_count": 31,
   "metadata": {},
   "outputs": [
    {
     "name": "stdout",
     "output_type": "stream",
     "text": [
      "X: [[0.56613063 0.04326175 0.9487302 ]\n",
      " [0.33610078 0.40615307 0.47088941]\n",
      " [0.64618434 0.80569889 0.16558495]\n",
      " [0.75654049 0.57939045 0.6495903 ]\n",
      " [0.70811015 0.31733069 0.40680925]\n",
      " [0.88366068 0.39231068 0.06633242]\n",
      " [0.20007028 0.24482388 0.69688378]\n",
      " [0.7654519  0.54894275 0.1385496 ]\n",
      " [0.51903204 0.58725821 0.65012678]\n",
      " [0.53097771 0.11818734 0.8626975 ]]\n",
      "\n",
      "Xmean:\n",
      " [0.5912259  0.40433577 0.50561942]\n",
      "\n",
      "Xstd:\n",
      " [0.19683678 0.22170374 0.29263465]\n",
      "\n",
      "Z:\n",
      " [[-0.12749277 -1.62863294  1.51421162]\n",
      " [-1.29612522  0.00819699 -0.11868043]\n",
      " [ 0.27920817  1.81035787 -1.16197613]\n",
      " [ 0.83985621  0.78958831  0.49198165]\n",
      " [ 0.59381305 -0.39243849 -0.33765711]\n",
      " [ 1.4856714  -0.05423948 -1.50114489]\n",
      " [-1.98720798 -0.71948217  0.6535944 ]\n",
      " [ 0.88512927  0.65225322 -1.25436214]\n",
      " [-0.36677015  0.825076    0.49381496]\n",
      " [-0.30608197 -1.29067931  1.22021806]]\n"
     ]
    }
   ],
   "source": [
    "X = np.random.random((10, 3))\n",
    "Xmean = X.mean(axis = 0)       # 열 별 평균\n",
    "Xstd = X.std(axis = 0)         # 열 별 표준편차\n",
    "Z = (X-Xmean) / Xstd           # 표준정규화\n",
    "\n",
    "print(\"X:\", X)\n",
    "print(\"\\nXmean:\\n\", Xmean)\n",
    "print(\"\\nXstd:\\n\", Xstd)\n",
    "print(\"\\nZ:\\n\", Z)"
   ]
  },
  {
   "cell_type": "markdown",
   "metadata": {},
   "source": [
    "참고로 axis = 0 의 경우 보통 행을 의미하지만, 여기서는 열별 평균을 내게 되었다. 주의하기.  \n",
    "\n",
    "## 비교 연산자\n",
    "\n",
    "비교 연산자의 결과는 항상 Bool 타입의 배열이 된다.  \n",
    "\n",
    "`\n",
    "ints = [1, 2, 3, 4, 5]\n",
    "\n",
    "ints >= 3 라면 [True, True, True, False, False]\n",
    "`\n"
   ]
  },
  {
   "cell_type": "code",
   "execution_count": 33,
   "metadata": {},
   "outputs": [
    {
     "data": {
      "text/plain": [
       "array([3, 4, 5])"
      ]
     },
     "execution_count": 33,
     "metadata": {},
     "output_type": "execute_result"
    }
   ],
   "source": [
    "L = np.array([1, 2, 3, 4, 5])\n",
    "cond = L>=3\n",
    "L[cond]            # 조건을 만족하는 요소만 반환"
   ]
  },
  {
   "cell_type": "code",
   "execution_count": 35,
   "metadata": {},
   "outputs": [
    {
     "data": {
      "text/plain": [
       "array([ 7,  9, 11])"
      ]
     },
     "execution_count": 35,
     "metadata": {},
     "output_type": "execute_result"
    }
   ],
   "source": [
    "M = np.array([3, 5, 7, 9, 11])\n",
    "M[cond]"
   ]
  },
  {
   "cell_type": "code",
   "execution_count": 36,
   "metadata": {},
   "outputs": [
    {
     "data": {
      "text/plain": [
       "3"
      ]
     },
     "execution_count": 36,
     "metadata": {},
     "output_type": "execute_result"
    }
   ],
   "source": [
    "sum(cond)          # 조건을 만족하는 요소의 개수"
   ]
  },
  {
   "cell_type": "markdown",
   "metadata": {},
   "source": [
    "`cond` 는 조건의 리스트이다.  \n",
    "\n",
    "판다스에서도 무언가를 찾을때 자주 썼던것이다.  "
   ]
  },
  {
   "cell_type": "code",
   "execution_count": 37,
   "metadata": {},
   "outputs": [
    {
     "data": {
      "text/plain": [
       "array([False, False,  True,  True,  True])"
      ]
     },
     "execution_count": 37,
     "metadata": {},
     "output_type": "execute_result"
    }
   ],
   "source": [
    "cond"
   ]
  },
  {
   "cell_type": "markdown",
   "metadata": {},
   "source": [
    "# 강의 코드"
   ]
  },
  {
   "cell_type": "code",
   "execution_count": null,
   "metadata": {},
   "outputs": [],
   "source": [
    "# 강의 예시\n",
    "\n",
    "# 사용 기초\n",
    "x = np.array([1, 2, 3, 4])\n",
    "y = np.array([4, 3, 2, 1])\n",
    "\n",
    "print(\"x + y = \", x + y)\n",
    "print(\"x - y = \", x - y)\n",
    "print(\"x * y = \", x * y)\n",
    "print(\"x / y = \", x / y)\n",
    "print(\"log x = \", np.log(x))"
   ]
  },
  {
   "cell_type": "code",
   "execution_count": null,
   "metadata": {},
   "outputs": [],
   "source": [
    "# 강의 예시 \n",
    "\n",
    "# 루프와 유니버설 함수의 속도 비교\n",
    "arr_1 = np.random.randint(1, 10, size = 10 ** 8)\n",
    "arr_2 = np.random.randint(1, 10, size = 10 ** 8)\n",
    "import time\n",
    "### 리스트를 사용하여 벡터의 덧셈 구현\n",
    "t1 = time.time()\n",
    "output = []\n",
    "for val1, val2 in zip(arr_1, arr_2):\n",
    "    output.append(val1 + val2)\n",
    "t2 = time.time()\n",
    "print(\"반복문을 사용한 경우:\", round(t2 - t1, 4))\n",
    "\n",
    "### 유니버설 함수를 사용하여 벡터의 덧셈 구현\n",
    "t1 = time.time()\n",
    "output = arr_1 + arr_2\n",
    "t2 = time.time()\n",
    "print(\"유니버설 함수를 사용한 경우:\", round(t2 - t1, 4))"
   ]
  },
  {
   "cell_type": "code",
   "execution_count": null,
   "metadata": {},
   "outputs": [],
   "source": [
    "# 강의 예시\n",
    "\n",
    "# 브로드캐스팅\n",
    "print(\"np.arange(3) + 5:\", \n",
    "      np.arange(3) + 5, '\\n')\n",
    "\n",
    "print(\"np.ones((3, 3)) + np.arange(3)\\n\",\n",
    "      np.ones((3, 3)) + np.arange(3), '\\n')\n",
    "\n",
    "print(\"np.arange(3).reshape(3, 1) + np.arange(3)\\n\",\n",
    "      np.arange(3).reshape(3, 1) + np.arange(3))"
   ]
  },
  {
   "cell_type": "code",
   "execution_count": null,
   "metadata": {},
   "outputs": [],
   "source": [
    "# 강의 예시 \n",
    "\n",
    "# 브로드캐스팅 예시: z - normalization\n",
    "X = np.random.random((10, 3))\n",
    "Xmean = X.mean(axis = 0) # 열별 평균 크기: (1, 3)\n",
    "Xstd = X.std(axis = 0) # 열별 표준편차 크기: (1, 3)\n",
    "\n",
    "Z = (X - Xmean) / Xstd\n",
    "\n",
    "print(\"X:\", X)\n",
    "print(\"\\nXmean:\\n\", Xmean)\n",
    "print(\"\\nXstd:\\n\", Xstd)\n",
    "print(\"\\nZ:\\n\", Z)"
   ]
  }
 ],
 "metadata": {
  "kernelspec": {
   "display_name": "Python 3 (ipykernel)",
   "language": "python",
   "name": "python3"
  },
  "language_info": {
   "codemirror_mode": {
    "name": "ipython",
    "version": 3
   },
   "file_extension": ".py",
   "mimetype": "text/x-python",
   "name": "python",
   "nbconvert_exporter": "python",
   "pygments_lexer": "ipython3",
   "version": "3.8.5"
  },
  "toc": {
   "base_numbering": 1,
   "nav_menu": {},
   "number_sections": true,
   "sideBar": true,
   "skip_h1_title": false,
   "title_cell": "Table of Contents",
   "title_sidebar": "Contents",
   "toc_cell": false,
   "toc_position": {},
   "toc_section_display": true,
   "toc_window_display": false
  }
 },
 "nbformat": 4,
 "nbformat_minor": 2
}

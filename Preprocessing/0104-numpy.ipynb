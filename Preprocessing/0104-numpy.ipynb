{
 "cells": [
  {
   "cell_type": "markdown",
   "metadata": {},
   "source": [
    "# 넘파이의 데이터 구조"
   ]
  },
  {
   "cell_type": "markdown",
   "metadata": {},
   "source": [
    "넘파이의 자료형은 ndarray. 효율적인 배열 연산을 위해 개발되었고, 리스트와 ndarray는 유연성과 효율성을 기준으로 비교할 수 있다.\n",
    "\n",
    "List는 유연성 면에서 서로 다른 데이터 타입을 담을 수 있지만 ndarray는 서로 다른 데이터 타입의 요소를 담을 수 없다.  \n",
    "ndarray는 효율성 면에서 모든 요소 정보를 한 번에 저장할 수 있고, C로 구현된 내부 반복문을 사용하기 때문에 속도가 매우 빠르다. 그러나 List는 각 요소 정보를 따로 저장하고, 반복문 사용이 필수적이다.  \n",
    "\n",
    "## 배열 만들기\n",
    "\n",
    "### 리스트에서 배열 만들기"
   ]
  },
  {
   "cell_type": "code",
   "execution_count": 2,
   "metadata": {},
   "outputs": [
    {
     "name": "stdout",
     "output_type": "stream",
     "text": [
      "[1 4 2 5 3] [3.14 4.   2.   3.  ] [1. 2. 3. 4.]\n"
     ]
    }
   ],
   "source": [
    "import numpy as np\n",
    "\n",
    "a = np.array([1, 4, 2, 5, 3])\n",
    "b = np.array([3.14, 4, 2, 3])\n",
    "c = np.array([1, 2, 3, 4], dtype = float)\n",
    "\n",
    "print(a, b, c)"
   ]
  },
  {
   "cell_type": "code",
   "execution_count": 3,
   "metadata": {},
   "outputs": [
    {
     "data": {
      "text/plain": [
       "array([1, 4, 2, 5, 3])"
      ]
     },
     "execution_count": 3,
     "metadata": {},
     "output_type": "execute_result"
    }
   ],
   "source": [
    "# 떼어서 출력하면 다른점이 보인다.\n",
    "a"
   ]
  },
  {
   "cell_type": "code",
   "execution_count": 4,
   "metadata": {},
   "outputs": [
    {
     "data": {
      "text/plain": [
       "array([3.14, 4.  , 2.  , 3.  ])"
      ]
     },
     "execution_count": 4,
     "metadata": {},
     "output_type": "execute_result"
    }
   ],
   "source": [
    "b"
   ]
  },
  {
   "cell_type": "code",
   "execution_count": 5,
   "metadata": {},
   "outputs": [
    {
     "data": {
      "text/plain": [
       "array([1., 2., 3., 4.])"
      ]
     },
     "execution_count": 5,
     "metadata": {},
     "output_type": "execute_result"
    }
   ],
   "source": [
    "c"
   ]
  },
  {
   "cell_type": "markdown",
   "metadata": {},
   "source": [
    "a는 int, b는 float인 것이 보인다. 또한 c는 float으로 지정해주었기 때문에 float으로 보인다."
   ]
  },
  {
   "cell_type": "markdown",
   "metadata": {},
   "source": [
    "### numpy로 배열 만들기\n",
    "\n",
    "> `np.zeros(shape)`  \n",
    "shape(튜플) 모양을 갖는 영벡터/영행렬 생성.  \n",
    "`np.zeros((10,2))`: (10,2) 크기의 영행렬 생성.  \n",
    "\n",
    "> `np.ones(shape)`  \n",
    "shape(튜플) 모양을 갖는 1로 채운 배열 생성.  \n",
    "`np.zeros((10,2))`: 원소가 1인 (10,2) 크기의 행렬 생성.  \n",
    "\n",
    "> `np.full((n, m), i)`  \n",
    "$i$로 채운 $n\\times m$ 크기의 배열 생성.  \n",
    "\n",
    "> `np.arange(start, stop, step)`  \n",
    "start부터 stop까지 step만큼 건너뛰는 1차원 ndarray를 반환한다. start와 step은 생략 가능하다.  \n",
    "\n",
    "> `np.linspace(start, stop, num)`  \n",
    "start부터 stop 까지 num 개수의 요소를 가지는 등간격의 1차원 배열을 반환한다.   \n",
    "\n",
    "> `np.eye(i)`  \n",
    "크기 $i$의 단위 행렬 만들기  "
   ]
  },
  {
   "cell_type": "markdown",
   "metadata": {},
   "source": [
    "#### np.random 에 있는 메서드\n",
    "\n",
    "> `np.random.random((n, m))`  \n",
    "$n\\times m$ 크기의 난수 배열 생성\n",
    "\n",
    "> `np.random.noraml(i, j, (n, m))`  \n",
    "평균이 $i$이고 분산이 $j$인 정규분포를 이루는 $n\\times m$ 크기의 난수 배열 생성  \n",
    "\n",
    "> `np.random.randint(i, j, (n, m))`. \n",
    "$i$와 $j$ 구간 사이의 임의의 정수로 $n\\times m$ 크기의 난수 배열 생성  \n"
   ]
  },
  {
   "cell_type": "code",
   "execution_count": 6,
   "metadata": {},
   "outputs": [
    {
     "data": {
      "text/plain": [
       "array([0., 0., 0., 0., 0.])"
      ]
     },
     "execution_count": 6,
     "metadata": {},
     "output_type": "execute_result"
    }
   ],
   "source": [
    "np.zeros(5)"
   ]
  },
  {
   "cell_type": "code",
   "execution_count": 7,
   "metadata": {},
   "outputs": [
    {
     "data": {
      "text/plain": [
       "array([2. , 2.1, 2.2, 2.3, 2.4, 2.5, 2.6, 2.7, 2.8, 2.9])"
      ]
     },
     "execution_count": 7,
     "metadata": {},
     "output_type": "execute_result"
    }
   ],
   "source": [
    "np.arange(2, 3, 0.1)"
   ]
  },
  {
   "cell_type": "code",
   "execution_count": 12,
   "metadata": {},
   "outputs": [
    {
     "data": {
      "text/plain": [
       "array([2.  , 2.25, 2.5 , 2.75, 3.  ])"
      ]
     },
     "execution_count": 12,
     "metadata": {},
     "output_type": "execute_result"
    }
   ],
   "source": [
    "np.linspace(2, 3, 5)"
   ]
  },
  {
   "cell_type": "code",
   "execution_count": null,
   "metadata": {},
   "outputs": [],
   "source": []
  },
  {
   "cell_type": "code",
   "execution_count": null,
   "metadata": {},
   "outputs": [],
   "source": []
  }
 ],
 "metadata": {
  "kernelspec": {
   "display_name": "Python 3 (ipykernel)",
   "language": "python",
   "name": "python3"
  },
  "language_info": {
   "codemirror_mode": {
    "name": "ipython",
    "version": 3
   },
   "file_extension": ".py",
   "mimetype": "text/x-python",
   "name": "python",
   "nbconvert_exporter": "python",
   "pygments_lexer": "ipython3",
   "version": "3.8.5"
  },
  "toc": {
   "base_numbering": 1,
   "nav_menu": {},
   "number_sections": true,
   "sideBar": true,
   "skip_h1_title": false,
   "title_cell": "Table of Contents",
   "title_sidebar": "Contents",
   "toc_cell": false,
   "toc_position": {},
   "toc_section_display": true,
   "toc_window_display": false
  }
 },
 "nbformat": 4,
 "nbformat_minor": 2
}

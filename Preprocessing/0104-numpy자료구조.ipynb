{
 "cells": [
  {
   "cell_type": "markdown",
   "metadata": {},
   "source": [
    "# 넘파이의 데이터 구조"
   ]
  },
  {
   "cell_type": "markdown",
   "metadata": {},
   "source": [
    "넘파이의 자료형은 ndarray. 효율적인 배열 연산을 위해 개발되었고, 리스트와 ndarray는 유연성과 효율성을 기준으로 비교할 수 있다.\n",
    "\n",
    "List는 유연성 면에서 서로 다른 데이터 타입을 담을 수 있지만 ndarray는 서로 다른 데이터 타입의 요소를 담을 수 없다.  \n",
    "ndarray는 효율성 면에서 모든 요소 정보를 한 번에 저장할 수 있고, C로 구현된 내부 반복문을 사용하기 때문에 속도가 매우 빠르다. 그러나 List는 각 요소 정보를 따로 저장하고, 반복문 사용이 필수적이다.  \n",
    "\n",
    "## 배열 만들기\n",
    "\n",
    "### 리스트에서 배열 만들기"
   ]
  },
  {
   "cell_type": "code",
   "execution_count": 1,
   "metadata": {},
   "outputs": [
    {
     "name": "stdout",
     "output_type": "stream",
     "text": [
      "[1 4 2 5 3] [3.14 4.   2.   3.  ] [1. 2. 3. 4.]\n"
     ]
    }
   ],
   "source": [
    "import numpy as np\n",
    "\n",
    "a = np.array([1, 4, 2, 5, 3])\n",
    "b = np.array([3.14, 4, 2, 3])\n",
    "c = np.array([1, 2, 3, 4], dtype = float)\n",
    "\n",
    "print(a, b, c)"
   ]
  },
  {
   "cell_type": "code",
   "execution_count": 2,
   "metadata": {},
   "outputs": [
    {
     "data": {
      "text/plain": [
       "array([1, 4, 2, 5, 3])"
      ]
     },
     "execution_count": 2,
     "metadata": {},
     "output_type": "execute_result"
    }
   ],
   "source": [
    "# 떼어서 출력하면 다른점이 보인다.\n",
    "a"
   ]
  },
  {
   "cell_type": "code",
   "execution_count": 3,
   "metadata": {},
   "outputs": [
    {
     "data": {
      "text/plain": [
       "array([3.14, 4.  , 2.  , 3.  ])"
      ]
     },
     "execution_count": 3,
     "metadata": {},
     "output_type": "execute_result"
    }
   ],
   "source": [
    "b"
   ]
  },
  {
   "cell_type": "code",
   "execution_count": 4,
   "metadata": {},
   "outputs": [
    {
     "data": {
      "text/plain": [
       "array([1., 2., 3., 4.])"
      ]
     },
     "execution_count": 4,
     "metadata": {},
     "output_type": "execute_result"
    }
   ],
   "source": [
    "c"
   ]
  },
  {
   "cell_type": "markdown",
   "metadata": {},
   "source": [
    "a는 int, b는 float인 것이 보인다. 또한 c는 float으로 지정해주었기 때문에 float으로 보인다."
   ]
  },
  {
   "cell_type": "code",
   "execution_count": null,
   "metadata": {
    "scrolled": true
   },
   "outputs": [],
   "source": [
    "# 함수를 이용하여 배열 만들기\n",
    "a = np.zeros(10, dtype = int) # 0으로 채운 배열 생성\n",
    "b = np.ones((3, 5), dtype = float) #1로 채운 배열 생성\n",
    "c = np.full((3,5), 3.14) # 3.14로 채운 배열 만들기 \n",
    "d = np.arange(0, 20, 2) # 0에서 시작해 2씩 더해 20까지 채우는 배열 생성\n",
    "e = np.linspace(0, 1, 5) # 0과 1 사이에 일정한 간격을 가진 다섯 개의 값으로 채운 배열 만들기\n",
    "f = np.random.random((3,3)) # 3*3 크기의 난수 배열 생성\n",
    "g = np.random.normal(0, 1, (3, 3)) # 평균 0, 표준 편차 1의 정규 분포를 따르는 3*3 난수 배열\n",
    "h = np.random.randint(0, 10, (3, 3)) # [0, 10) 구간의 임의로 정수로 채운 3*3 배열 만들기\n",
    "i = np.eye(3) # 크기 3의 단위 행렬 만들기\n",
    "\n",
    "print(\"np.zeros(10, dtype = int):\\n\", a)\n",
    "print(\"\\nnp.ones((3, 5), dtype = float):\\n\", b)\n",
    "print(\"\\nnp.full((3,5), 3.14):\\n\", c)\n",
    "print(\"\\nnp.arange(0, 20, 2):\\n\", d)\n",
    "print(\"\\nnp.linspace(0, 1, 5):\\n\", e)\n",
    "print(\"\\nnp.random.random((3,3)):\\n\", f)\n",
    "print(\"\\nnp.random.normal(0, 1, (3, 3)):\\n\", g)\n",
    "print(\"\\nnp.random.randint(0, 10, (3, 3)):\\n\", h)\n",
    "print(\"\\nnp.eye(3):\\n\", i)"
   ]
  },
  {
   "cell_type": "markdown",
   "metadata": {},
   "source": [
    "#### 인덱싱과 슬라이싱"
   ]
  },
  {
   "cell_type": "code",
   "execution_count": null,
   "metadata": {},
   "outputs": [],
   "source": [
    "# 기본적인 인덱싱과 슬라이싱\n",
    "x1 = np.array([1, 3, 5, 7, 9])\n",
    "\n",
    "print(\"x1[0]:\", x1[0]) # 양수 인덱스 (맨 앞 요소)\n",
    "print(\"x1[3]:\", x1[3]) # 세 번째 요소 \n",
    "print(\"x1[-1]:\", x1[-1]) # 음수 인덱스 (맨 뒤 요소)\n",
    "print(\"x1[-2]:\", x1[-2]) # 뒤에서 네 번째 요소 \n",
    "\n",
    "print(\"x1[1:3]:\", x1[1:3]) # 1번째 요소부터 3번째 요소까지 슬라이싱"
   ]
  },
  {
   "cell_type": "code",
   "execution_count": null,
   "metadata": {},
   "outputs": [],
   "source": [
    "x2"
   ]
  },
  {
   "cell_type": "code",
   "execution_count": null,
   "metadata": {},
   "outputs": [],
   "source": [
    "# 2차원 배열의 인덱싱 및 슬라이싱\n",
    "x2 = np.random.random(size = (10, 5))\n",
    "\n",
    "print(\"x2[0, 1]\", x2[0, 1])\n",
    "print(\"x2[1:4, 2]\\n\", x2[1:4, 2])\n",
    "print(\"x2[0, 2:4]\\n\", x2[0, 2:4])\n",
    "print(\"x2[0:3, 2:4]\\n\", x2[0:3, 2:4])"
   ]
  },
  {
   "cell_type": "markdown",
   "metadata": {},
   "source": [
    "#### 유니버설 함수"
   ]
  },
  {
   "cell_type": "code",
   "execution_count": null,
   "metadata": {},
   "outputs": [],
   "source": [
    "# 사용 기초\n",
    "x = np.array([1, 2, 3, 4])\n",
    "y = np.array([4, 3, 2, 1])\n",
    "\n",
    "print(\"x + y = \", x + y)\n",
    "print(\"x - y = \", x - y)\n",
    "print(\"x * y = \", x * y)\n",
    "print(\"x / y = \", x / y)\n",
    "print(\"log x = \", np.log(x))"
   ]
  },
  {
   "cell_type": "code",
   "execution_count": null,
   "metadata": {},
   "outputs": [],
   "source": [
    "# 루프와 유니버설 함수의 속도 비교\n",
    "arr_1 = np.random.randint(1, 10, size = 10 ** 8)\n",
    "arr_2 = np.random.randint(1, 10, size = 10 ** 8)\n",
    "import time\n",
    "### 리스트를 사용하여 벡터의 덧셈 구현\n",
    "t1 = time.time()\n",
    "output = []\n",
    "for val1, val2 in zip(arr_1, arr_2):\n",
    "    output.append(val1 + val2)\n",
    "t2 = time.time()\n",
    "print(\"반복문을 사용한 경우:\", round(t2 - t1, 4))\n",
    "\n",
    "### 유니버설 함수를 사용하여 벡터의 덧셈 구현\n",
    "t1 = time.time()\n",
    "output = arr_1 + arr_2\n",
    "t2 = time.time()\n",
    "print(\"유니버설 함수를 사용한 경우:\", round(t2 - t1, 4))"
   ]
  },
  {
   "cell_type": "code",
   "execution_count": null,
   "metadata": {},
   "outputs": [],
   "source": [
    "# 브로드캐스팅\n",
    "print(\"np.arange(3) + 5:\", \n",
    "      np.arange(3) + 5, '\\n')\n",
    "\n",
    "print(\"np.ones((3, 3)) + np.arange(3)\\n\",\n",
    "      np.ones((3, 3)) + np.arange(3), '\\n')\n",
    "\n",
    "print(\"np.arange(3).reshape(3, 1) + np.arange(3)\\n\",\n",
    "      np.arange(3).reshape(3, 1) + np.arange(3))"
   ]
  },
  {
   "cell_type": "code",
   "execution_count": null,
   "metadata": {},
   "outputs": [],
   "source": [
    "# 브로드캐스팅 예시: z - normalization\n",
    "X = np.random.random((10, 3))\n",
    "Xmean = X.mean(axis = 0) # 열별 평균 크기: (1, 3)\n",
    "Xstd = X.std(axis = 0) # 열별 표준편차 크기: (1, 3)\n",
    "\n",
    "Z = (X - Xmean) / Xstd\n",
    "\n",
    "print(\"X:\", X)\n",
    "print(\"\\nXmean:\\n\", Xmean)\n",
    "print(\"\\nXstd:\\n\", Xstd)\n",
    "print(\"\\nZ:\\n\", Z)"
   ]
  },
  {
   "cell_type": "markdown",
   "metadata": {},
   "source": [
    "#### 비교 연산자"
   ]
  },
  {
   "cell_type": "code",
   "execution_count": null,
   "metadata": {},
   "outputs": [],
   "source": [
    "L = np.array([1, 2, 3, 4, 5])\n",
    "L >= 3"
   ]
  },
  {
   "cell_type": "code",
   "execution_count": null,
   "metadata": {},
   "outputs": [],
   "source": [
    "# 비교 연산자\n",
    "L = np.array([1, 2, 3, 4, 5])\n",
    "cond = L >= 3\n",
    "sum(cond) # 조건을 만족하는 요소의 개수"
   ]
  },
  {
   "cell_type": "code",
   "execution_count": null,
   "metadata": {},
   "outputs": [],
   "source": [
    "L[cond] # 조건을 만족하는 요소만 반환"
   ]
  }
 ],
 "metadata": {
  "kernelspec": {
   "display_name": "Python 3 (ipykernel)",
   "language": "python",
   "name": "python3"
  },
  "language_info": {
   "codemirror_mode": {
    "name": "ipython",
    "version": 3
   },
   "file_extension": ".py",
   "mimetype": "text/x-python",
   "name": "python",
   "nbconvert_exporter": "python",
   "pygments_lexer": "ipython3",
   "version": "3.8.5"
  },
  "toc": {
   "base_numbering": 1,
   "nav_menu": {},
   "number_sections": true,
   "sideBar": true,
   "skip_h1_title": false,
   "title_cell": "Table of Contents",
   "title_sidebar": "Contents",
   "toc_cell": false,
   "toc_position": {},
   "toc_section_display": true,
   "toc_window_display": false
  }
 },
 "nbformat": 4,
 "nbformat_minor": 2
}

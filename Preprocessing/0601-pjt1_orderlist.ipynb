{
 "cells": [
  {
   "cell_type": "markdown",
   "metadata": {},
   "source": [
    "# 프로젝트1 : 주문서 정리 \n",
    "\n",
    "월별로 시트가 구분되어 있는 매출 데이터를 요약하여 정리한다.  \n",
    "\n",
    "데이터 병합 > 포맷 통일 및 변수 추가 > 월별 매출 추이 파악 > 조건에 따른 판매 통계 분석 > 충성 고객 파악  \n"
   ]
  },
  {
   "cell_type": "code",
   "execution_count": 1,
   "metadata": {},
   "outputs": [],
   "source": [
    "import pandas as pd\n",
    "import os\n",
    "os.chdir(r\"/Users/Angela/Desktop/과속대학쿠쿠루/1. 데이터 핸들링/데이터\")"
   ]
  },
  {
   "cell_type": "markdown",
   "metadata": {},
   "source": [
    "## Step 1. 데이터 병합하기\n",
    "\n",
    "하나의 데이터가 12개의 시트로 구분되어 있어, 효과적인 분석을 위해 통합해야 한다. 또한, 분석에 불필요한 부분(셀)이 있어 이를 제거해야 한다.  \n",
    "\n",
    "### 1. 시트명을 정의하여 각 시트명을 바탕으로 데이터를 불러오도록 한다.  \n"
   ]
  },
  {
   "cell_type": "code",
   "execution_count": 2,
   "metadata": {},
   "outputs": [
    {
     "data": {
      "text/plain": [
       "['1월', '2월', '3월', '4월', '5월', '6월', '7월', '8월', '9월', '10월', '11월', '12월']"
      ]
     },
     "execution_count": 2,
     "metadata": {},
     "output_type": "execute_result"
    }
   ],
   "source": [
    "# 시트명\n",
    "\n",
    "sheet_names = [str(i+1) + '월' for i in range(12)]\n",
    "sheet_names"
   ]
  },
  {
   "cell_type": "markdown",
   "metadata": {},
   "source": [
    "### 2. 데이터를 시트별로 불러와서 한 데이터 프레임에 모은다"
   ]
  },
  {
   "cell_type": "code",
   "execution_count": 3,
   "metadata": {},
   "outputs": [
    {
     "data": {
      "text/plain": [
       "0          2018.1.1\n",
       "1          2018.1.1\n",
       "2          2018.1.1\n",
       "3          2018.1.1\n",
       "4          2018.1.1\n",
       "            ...    \n",
       "18224    2018-12-31\n",
       "18225    2018-12-31\n",
       "18226    2018-12-31\n",
       "18227    2018-12-31\n",
       "18228    2018-12-31\n",
       "Name: 일자, Length: 18229, dtype: object"
      ]
     },
     "execution_count": 3,
     "metadata": {},
     "output_type": "execute_result"
    }
   ],
   "source": [
    "# concat 이용\n",
    "merged_df = pd.DataFrame()\n",
    "for sn in sheet_names:\n",
    "    df = pd.read_excel('월별매출데이터.xlsx', sheet_name = sn, \n",
    "                       skiprows = range(6)).iloc[:, 1:]\n",
    "    merged_df = pd.concat([merged_df, df], axis = 0, ignore_index = True)\n",
    "\n",
    "merged_df['일자']"
   ]
  },
  {
   "cell_type": "code",
   "execution_count": 4,
   "metadata": {},
   "outputs": [
    {
     "data": {
      "text/html": [
       "<div>\n",
       "<style scoped>\n",
       "    .dataframe tbody tr th:only-of-type {\n",
       "        vertical-align: middle;\n",
       "    }\n",
       "\n",
       "    .dataframe tbody tr th {\n",
       "        vertical-align: top;\n",
       "    }\n",
       "\n",
       "    .dataframe thead th {\n",
       "        text-align: right;\n",
       "    }\n",
       "</style>\n",
       "<table border=\"1\" class=\"dataframe\">\n",
       "  <thead>\n",
       "    <tr style=\"text-align: right;\">\n",
       "      <th></th>\n",
       "      <th>일자</th>\n",
       "      <th>지점</th>\n",
       "      <th>품명</th>\n",
       "      <th>수량</th>\n",
       "      <th>주문인 ID</th>\n",
       "      <th>수령 주소</th>\n",
       "      <th>주문 상태</th>\n",
       "      <th>결제 수단</th>\n",
       "    </tr>\n",
       "  </thead>\n",
       "  <tbody>\n",
       "    <tr>\n",
       "      <th>0</th>\n",
       "      <td>2018.1.1</td>\n",
       "      <td>지점1</td>\n",
       "      <td>제품B</td>\n",
       "      <td>3</td>\n",
       "      <td>C-168</td>\n",
       "      <td>서울특별시 동작구 흑석동</td>\n",
       "      <td>주문완료</td>\n",
       "      <td>인터넷뱅킹</td>\n",
       "    </tr>\n",
       "    <tr>\n",
       "      <th>1</th>\n",
       "      <td>2018.1.1</td>\n",
       "      <td>지점2</td>\n",
       "      <td>제품F</td>\n",
       "      <td>8</td>\n",
       "      <td>C-87</td>\n",
       "      <td>서울특별시 서대문구 신촌동</td>\n",
       "      <td>배송완료</td>\n",
       "      <td>신용카드</td>\n",
       "    </tr>\n",
       "    <tr>\n",
       "      <th>2</th>\n",
       "      <td>2018.1.1</td>\n",
       "      <td>지점4</td>\n",
       "      <td>제품B</td>\n",
       "      <td>2</td>\n",
       "      <td>C-158</td>\n",
       "      <td>서울특별시 종로구 종로5가</td>\n",
       "      <td>배송완료</td>\n",
       "      <td>휴대폰결제</td>\n",
       "    </tr>\n",
       "    <tr>\n",
       "      <th>3</th>\n",
       "      <td>2018.1.1</td>\n",
       "      <td>지점3</td>\n",
       "      <td>제품D</td>\n",
       "      <td>7</td>\n",
       "      <td>C-307</td>\n",
       "      <td>서울특별시 서대문구 냉천동</td>\n",
       "      <td>주문완료</td>\n",
       "      <td>휴대폰결제</td>\n",
       "    </tr>\n",
       "    <tr>\n",
       "      <th>4</th>\n",
       "      <td>2018.1.1</td>\n",
       "      <td>지점2</td>\n",
       "      <td>제품E</td>\n",
       "      <td>9</td>\n",
       "      <td>C-342</td>\n",
       "      <td>서울특별시 종로구 묘동</td>\n",
       "      <td>배송완료</td>\n",
       "      <td>인터넷뱅킹</td>\n",
       "    </tr>\n",
       "  </tbody>\n",
       "</table>\n",
       "</div>"
      ],
      "text/plain": [
       "         일자   지점   품명  수량 주문인 ID           수령 주소 주문 상태  결제 수단\n",
       "0  2018.1.1  지점1  제품B   3  C-168   서울특별시 동작구 흑석동  주문완료  인터넷뱅킹\n",
       "1  2018.1.1  지점2  제품F   8   C-87  서울특별시 서대문구 신촌동  배송완료   신용카드\n",
       "2  2018.1.1  지점4  제품B   2  C-158  서울특별시 종로구 종로5가  배송완료  휴대폰결제\n",
       "3  2018.1.1  지점3  제품D   7  C-307  서울특별시 서대문구 냉천동  주문완료  휴대폰결제\n",
       "4  2018.1.1  지점2  제품E   9  C-342    서울특별시 종로구 묘동  배송완료  인터넷뱅킹"
      ]
     },
     "execution_count": 4,
     "metadata": {},
     "output_type": "execute_result"
    }
   ],
   "source": [
    "merged_df.head()"
   ]
  },
  {
   "cell_type": "markdown",
   "metadata": {},
   "source": [
    "## Step 2. 포맷 통일 및 변수 추가\n",
    "\n",
    "\n",
    "\n",
    "### 문자열 검색을 통해 날짜변수 포맷 통일\n",
    "일자 컬럼이 .과 - 가 섞여있는 상태로 통일해야 한다.  \n",
    "연도가 같으니 월 일만 추출할 수도 있다.  \n",
    "\n",
    "- str.replace를 사용하여 '.'을 '-'로 변경 : 문자열 검색  \n",
    "\n",
    " \n",
    "```FutureWarning: The default value of regex will change from True to False in a future version. In addition, single character regular expressions will *not* be treated as literal strings when regex=True.```"
   ]
  },
  {
   "cell_type": "code",
   "execution_count": 6,
   "metadata": {},
   "outputs": [
    {
     "name": "stderr",
     "output_type": "stream",
     "text": [
      "/var/folders/qw/j72d9nwn5dq0vxtqtw2bbtnh0000gp/T/ipykernel_20351/1296823592.py:1: FutureWarning: The default value of regex will change from True to False in a future version. In addition, single character regular expressions will *not* be treated as literal strings when regex=True.\n",
      "  merged_df['일자'] = merged_df['일자'].str.replace('.', '-')\n"
     ]
    },
    {
     "data": {
      "text/plain": [
       "0          2018-1-1\n",
       "1          2018-1-1\n",
       "2          2018-1-1\n",
       "3          2018-1-1\n",
       "4          2018-1-1\n",
       "            ...    \n",
       "18224    2018-12-31\n",
       "18225    2018-12-31\n",
       "18226    2018-12-31\n",
       "18227    2018-12-31\n",
       "18228    2018-12-31\n",
       "Name: 일자, Length: 18229, dtype: object"
      ]
     },
     "execution_count": 6,
     "metadata": {},
     "output_type": "execute_result"
    }
   ],
   "source": [
    "merged_df['일자'] = merged_df['일자'].str.replace('.', '-')\n",
    "merged_df['일자']"
   ]
  },
  {
   "cell_type": "markdown",
   "metadata": {},
   "source": [
    "### 제품별 가격정보 불러오기\n",
    "\n",
    "원래 데이터프레임에는 제품 이름만 있고 가격이 없다.  \n",
    "$주문금액 = 수량 \\times 가격 \\times 1.1 (부가세)$\n",
    "\n",
    "매출을 살피기위해 제품별 가격정보를 불러와서, 원래 데이터프레임이 이를 참조하도록 한다.  \n",
    "\n",
    "제품에 따른 가격 정보는 제품별_가격정보.xlsx에 정의되어있다.\n",
    "\n",
    "---\n",
    "\n",
    "#### 새로운 문법(중요)\n",
    "\n",
    "- `Series.to_dict()` : Series의 index를 key로, data를 value로 갖는 사전으로 변환. `_list`, `_values` 도 있다.  \n",
    "- `Series.replace(dict)` : Series에 있는 값 가운데 dict의 key의 값이 있으면 대응되는 value로 변환.  \n",
    "replace는 딕셔너리를 입력받기 때문에 to_dict를 사용하며, 있는 시리즈를 기반으로 무언가 값을 바꾸거나 입력하기 위해서 사용한다.  \n",
    "- `DataFrame.T` : 전치행렬 반환  \n",
    "- `DataFrame['new_col'] = values`(연산결과): 새로운 컬럼 추가  \n"
   ]
  },
  {
   "cell_type": "code",
   "execution_count": 14,
   "metadata": {},
   "outputs": [
    {
     "data": {
      "text/html": [
       "<div>\n",
       "<style scoped>\n",
       "    .dataframe tbody tr th:only-of-type {\n",
       "        vertical-align: middle;\n",
       "    }\n",
       "\n",
       "    .dataframe tbody tr th {\n",
       "        vertical-align: top;\n",
       "    }\n",
       "\n",
       "    .dataframe thead th {\n",
       "        text-align: right;\n",
       "    }\n",
       "</style>\n",
       "<table border=\"1\" class=\"dataframe\">\n",
       "  <thead>\n",
       "    <tr style=\"text-align: right;\">\n",
       "      <th></th>\n",
       "      <th>제품</th>\n",
       "      <th>제품A</th>\n",
       "      <th>제품B</th>\n",
       "      <th>제품C</th>\n",
       "      <th>제품D</th>\n",
       "      <th>제품E</th>\n",
       "      <th>제품F</th>\n",
       "    </tr>\n",
       "  </thead>\n",
       "  <tbody>\n",
       "    <tr>\n",
       "      <th>0</th>\n",
       "      <td>가격</td>\n",
       "      <td>20000</td>\n",
       "      <td>5000</td>\n",
       "      <td>10000</td>\n",
       "      <td>8000</td>\n",
       "      <td>30000</td>\n",
       "      <td>15000</td>\n",
       "    </tr>\n",
       "  </tbody>\n",
       "</table>\n",
       "</div>"
      ],
      "text/plain": [
       "   제품    제품A   제품B    제품C   제품D    제품E    제품F\n",
       "0  가격  20000  5000  10000  8000  30000  15000"
      ]
     },
     "execution_count": 14,
     "metadata": {},
     "output_type": "execute_result"
    }
   ],
   "source": [
    "price_df = pd.read_excel('제품별_가격정보.xlsx')\n",
    "price_df"
   ]
  },
  {
   "cell_type": "code",
   "execution_count": 17,
   "metadata": {},
   "outputs": [
    {
     "data": {
      "text/html": [
       "<div>\n",
       "<style scoped>\n",
       "    .dataframe tbody tr th:only-of-type {\n",
       "        vertical-align: middle;\n",
       "    }\n",
       "\n",
       "    .dataframe tbody tr th {\n",
       "        vertical-align: top;\n",
       "    }\n",
       "\n",
       "    .dataframe thead th {\n",
       "        text-align: right;\n",
       "    }\n",
       "</style>\n",
       "<table border=\"1\" class=\"dataframe\">\n",
       "  <thead>\n",
       "    <tr style=\"text-align: right;\">\n",
       "      <th></th>\n",
       "      <th>0</th>\n",
       "    </tr>\n",
       "  </thead>\n",
       "  <tbody>\n",
       "    <tr>\n",
       "      <th>제품</th>\n",
       "      <td>가격</td>\n",
       "    </tr>\n",
       "    <tr>\n",
       "      <th>제품A</th>\n",
       "      <td>20000</td>\n",
       "    </tr>\n",
       "    <tr>\n",
       "      <th>제품B</th>\n",
       "      <td>5000</td>\n",
       "    </tr>\n",
       "    <tr>\n",
       "      <th>제품C</th>\n",
       "      <td>10000</td>\n",
       "    </tr>\n",
       "    <tr>\n",
       "      <th>제품D</th>\n",
       "      <td>8000</td>\n",
       "    </tr>\n",
       "    <tr>\n",
       "      <th>제품E</th>\n",
       "      <td>30000</td>\n",
       "    </tr>\n",
       "    <tr>\n",
       "      <th>제품F</th>\n",
       "      <td>15000</td>\n",
       "    </tr>\n",
       "  </tbody>\n",
       "</table>\n",
       "</div>"
      ],
      "text/plain": [
       "         0\n",
       "제품      가격\n",
       "제품A  20000\n",
       "제품B   5000\n",
       "제품C  10000\n",
       "제품D   8000\n",
       "제품E  30000\n",
       "제품F  15000"
      ]
     },
     "execution_count": 17,
     "metadata": {},
     "output_type": "execute_result"
    }
   ],
   "source": [
    "# 제품의 이름이 인덱스로 오도록 행렬 전치\n",
    "# index: 제품, 0: 가격\n",
    "price_df = price_df.T\n",
    "price_df"
   ]
  },
  {
   "cell_type": "markdown",
   "metadata": {},
   "source": [
    "인덱스로 되어있는 제품 이름을 통해 필요한 부분만 잘라내고 그를 딕셔너리로 만들어준다.  \n",
    "\n",
    "새로운 데이터프레임의 컬럼명이 0임"
   ]
  },
  {
   "cell_type": "code",
   "execution_count": 18,
   "metadata": {},
   "outputs": [
    {
     "data": {
      "text/plain": [
       "제품A    20000\n",
       "제품B     5000\n",
       "제품C    10000\n",
       "제품D     8000\n",
       "제품E    30000\n",
       "제품F    15000\n",
       "Name: 0, dtype: object"
      ]
     },
     "execution_count": 18,
     "metadata": {},
     "output_type": "execute_result"
    }
   ],
   "source": [
    "price_df.loc['제품A':'제품F', 0]"
   ]
  },
  {
   "cell_type": "code",
   "execution_count": 19,
   "metadata": {},
   "outputs": [
    {
     "data": {
      "text/plain": [
       "{'제품A': 20000,\n",
       " '제품B': 5000,\n",
       " '제품C': 10000,\n",
       " '제품D': 8000,\n",
       " '제품E': 30000,\n",
       " '제품F': 15000}"
      ]
     },
     "execution_count": 19,
     "metadata": {},
     "output_type": "execute_result"
    }
   ],
   "source": [
    "price_dict = price_df.loc['제품A':'제품F', 0].to_dict()\n",
    "price_dict"
   ]
  },
  {
   "cell_type": "markdown",
   "metadata": {},
   "source": [
    "### 주문금액 컬럼 만들기\n",
    "\n",
    "위에서 만든 딕셔너리로 제품 자체의 가격 컬럼과 주문금액 컬럼을 만든다.  \n",
    "가격변수가 필요한 상황이 아니라면 가격변수 정의할 계산 자체를 주문금액 컬럼 만드는데 써도 좋다.  "
   ]
  },
  {
   "cell_type": "code",
   "execution_count": 20,
   "metadata": {},
   "outputs": [
    {
     "data": {
      "text/plain": [
       "array(['제품B', '제품F', '제품D', '제품E', '제품C', '제품A'], dtype=object)"
      ]
     },
     "execution_count": 20,
     "metadata": {},
     "output_type": "execute_result"
    }
   ],
   "source": [
    "merged_df['품명'].unique()"
   ]
  },
  {
   "cell_type": "code",
   "execution_count": 21,
   "metadata": {},
   "outputs": [
    {
     "data": {
      "text/html": [
       "<div>\n",
       "<style scoped>\n",
       "    .dataframe tbody tr th:only-of-type {\n",
       "        vertical-align: middle;\n",
       "    }\n",
       "\n",
       "    .dataframe tbody tr th {\n",
       "        vertical-align: top;\n",
       "    }\n",
       "\n",
       "    .dataframe thead th {\n",
       "        text-align: right;\n",
       "    }\n",
       "</style>\n",
       "<table border=\"1\" class=\"dataframe\">\n",
       "  <thead>\n",
       "    <tr style=\"text-align: right;\">\n",
       "      <th></th>\n",
       "      <th>품명</th>\n",
       "      <th>가격</th>\n",
       "    </tr>\n",
       "  </thead>\n",
       "  <tbody>\n",
       "    <tr>\n",
       "      <th>0</th>\n",
       "      <td>제품B</td>\n",
       "      <td>5000</td>\n",
       "    </tr>\n",
       "    <tr>\n",
       "      <th>1</th>\n",
       "      <td>제품F</td>\n",
       "      <td>15000</td>\n",
       "    </tr>\n",
       "    <tr>\n",
       "      <th>2</th>\n",
       "      <td>제품B</td>\n",
       "      <td>5000</td>\n",
       "    </tr>\n",
       "    <tr>\n",
       "      <th>3</th>\n",
       "      <td>제품D</td>\n",
       "      <td>8000</td>\n",
       "    </tr>\n",
       "    <tr>\n",
       "      <th>4</th>\n",
       "      <td>제품E</td>\n",
       "      <td>30000</td>\n",
       "    </tr>\n",
       "    <tr>\n",
       "      <th>...</th>\n",
       "      <td>...</td>\n",
       "      <td>...</td>\n",
       "    </tr>\n",
       "    <tr>\n",
       "      <th>18224</th>\n",
       "      <td>제품F</td>\n",
       "      <td>15000</td>\n",
       "    </tr>\n",
       "    <tr>\n",
       "      <th>18225</th>\n",
       "      <td>제품D</td>\n",
       "      <td>8000</td>\n",
       "    </tr>\n",
       "    <tr>\n",
       "      <th>18226</th>\n",
       "      <td>제품D</td>\n",
       "      <td>8000</td>\n",
       "    </tr>\n",
       "    <tr>\n",
       "      <th>18227</th>\n",
       "      <td>제품B</td>\n",
       "      <td>5000</td>\n",
       "    </tr>\n",
       "    <tr>\n",
       "      <th>18228</th>\n",
       "      <td>제품D</td>\n",
       "      <td>8000</td>\n",
       "    </tr>\n",
       "  </tbody>\n",
       "</table>\n",
       "<p>18229 rows × 2 columns</p>\n",
       "</div>"
      ],
      "text/plain": [
       "        품명     가격\n",
       "0      제품B   5000\n",
       "1      제품F  15000\n",
       "2      제품B   5000\n",
       "3      제품D   8000\n",
       "4      제품E  30000\n",
       "...    ...    ...\n",
       "18224  제품F  15000\n",
       "18225  제품D   8000\n",
       "18226  제품D   8000\n",
       "18227  제품B   5000\n",
       "18228  제품D   8000\n",
       "\n",
       "[18229 rows x 2 columns]"
      ]
     },
     "execution_count": 21,
     "metadata": {},
     "output_type": "execute_result"
    }
   ],
   "source": [
    "merged_df['가격'] = merged_df['품명'].replace(price_dict)\n",
    "merged_df[['품명', '가격']]"
   ]
  },
  {
   "cell_type": "code",
   "execution_count": 22,
   "metadata": {},
   "outputs": [],
   "source": [
    "# ndarray 브로드캐스팅 + 유니버설 함수\n",
    "merged_df['주문 금액'] = merged_df['수량'] * merged_df['가격'] * 1.1 "
   ]
  },
  {
   "cell_type": "code",
   "execution_count": 23,
   "metadata": {},
   "outputs": [
    {
     "data": {
      "text/html": [
       "<div>\n",
       "<style scoped>\n",
       "    .dataframe tbody tr th:only-of-type {\n",
       "        vertical-align: middle;\n",
       "    }\n",
       "\n",
       "    .dataframe tbody tr th {\n",
       "        vertical-align: top;\n",
       "    }\n",
       "\n",
       "    .dataframe thead th {\n",
       "        text-align: right;\n",
       "    }\n",
       "</style>\n",
       "<table border=\"1\" class=\"dataframe\">\n",
       "  <thead>\n",
       "    <tr style=\"text-align: right;\">\n",
       "      <th></th>\n",
       "      <th>일자</th>\n",
       "      <th>지점</th>\n",
       "      <th>품명</th>\n",
       "      <th>수량</th>\n",
       "      <th>주문인 ID</th>\n",
       "      <th>수령 주소</th>\n",
       "      <th>주문 상태</th>\n",
       "      <th>결제 수단</th>\n",
       "      <th>가격</th>\n",
       "      <th>주문 금액</th>\n",
       "    </tr>\n",
       "  </thead>\n",
       "  <tbody>\n",
       "    <tr>\n",
       "      <th>0</th>\n",
       "      <td>2018-1-1</td>\n",
       "      <td>지점1</td>\n",
       "      <td>제품B</td>\n",
       "      <td>3</td>\n",
       "      <td>C-168</td>\n",
       "      <td>서울특별시 동작구 흑석동</td>\n",
       "      <td>주문완료</td>\n",
       "      <td>인터넷뱅킹</td>\n",
       "      <td>5000</td>\n",
       "      <td>16500.0</td>\n",
       "    </tr>\n",
       "    <tr>\n",
       "      <th>1</th>\n",
       "      <td>2018-1-1</td>\n",
       "      <td>지점2</td>\n",
       "      <td>제품F</td>\n",
       "      <td>8</td>\n",
       "      <td>C-87</td>\n",
       "      <td>서울특별시 서대문구 신촌동</td>\n",
       "      <td>배송완료</td>\n",
       "      <td>신용카드</td>\n",
       "      <td>15000</td>\n",
       "      <td>132000.0</td>\n",
       "    </tr>\n",
       "    <tr>\n",
       "      <th>2</th>\n",
       "      <td>2018-1-1</td>\n",
       "      <td>지점4</td>\n",
       "      <td>제품B</td>\n",
       "      <td>2</td>\n",
       "      <td>C-158</td>\n",
       "      <td>서울특별시 종로구 종로5가</td>\n",
       "      <td>배송완료</td>\n",
       "      <td>휴대폰결제</td>\n",
       "      <td>5000</td>\n",
       "      <td>11000.0</td>\n",
       "    </tr>\n",
       "    <tr>\n",
       "      <th>3</th>\n",
       "      <td>2018-1-1</td>\n",
       "      <td>지점3</td>\n",
       "      <td>제품D</td>\n",
       "      <td>7</td>\n",
       "      <td>C-307</td>\n",
       "      <td>서울특별시 서대문구 냉천동</td>\n",
       "      <td>주문완료</td>\n",
       "      <td>휴대폰결제</td>\n",
       "      <td>8000</td>\n",
       "      <td>61600.0</td>\n",
       "    </tr>\n",
       "    <tr>\n",
       "      <th>4</th>\n",
       "      <td>2018-1-1</td>\n",
       "      <td>지점2</td>\n",
       "      <td>제품E</td>\n",
       "      <td>9</td>\n",
       "      <td>C-342</td>\n",
       "      <td>서울특별시 종로구 묘동</td>\n",
       "      <td>배송완료</td>\n",
       "      <td>인터넷뱅킹</td>\n",
       "      <td>30000</td>\n",
       "      <td>297000.0</td>\n",
       "    </tr>\n",
       "  </tbody>\n",
       "</table>\n",
       "</div>"
      ],
      "text/plain": [
       "         일자   지점   품명  수량 주문인 ID           수령 주소 주문 상태  결제 수단     가격     주문 금액\n",
       "0  2018-1-1  지점1  제품B   3  C-168   서울특별시 동작구 흑석동  주문완료  인터넷뱅킹   5000   16500.0\n",
       "1  2018-1-1  지점2  제품F   8   C-87  서울특별시 서대문구 신촌동  배송완료   신용카드  15000  132000.0\n",
       "2  2018-1-1  지점4  제품B   2  C-158  서울특별시 종로구 종로5가  배송완료  휴대폰결제   5000   11000.0\n",
       "3  2018-1-1  지점3  제품D   7  C-307  서울특별시 서대문구 냉천동  주문완료  휴대폰결제   8000   61600.0\n",
       "4  2018-1-1  지점2  제품E   9  C-342    서울특별시 종로구 묘동  배송완료  인터넷뱅킹  30000  297000.0"
      ]
     },
     "execution_count": 23,
     "metadata": {},
     "output_type": "execute_result"
    }
   ],
   "source": [
    "merged_df.head()"
   ]
  },
  {
   "cell_type": "markdown",
   "metadata": {},
   "source": [
    "## Step 3. 월별 매출 추이 파악\n"
   ]
  }
 ],
 "metadata": {
  "kernelspec": {
   "display_name": "Python 3 (ipykernel)",
   "language": "python",
   "name": "python3"
  },
  "language_info": {
   "codemirror_mode": {
    "name": "ipython",
    "version": 3
   },
   "file_extension": ".py",
   "mimetype": "text/x-python",
   "name": "python",
   "nbconvert_exporter": "python",
   "pygments_lexer": "ipython3",
   "version": "3.8.5"
  },
  "toc": {
   "base_numbering": 1,
   "nav_menu": {},
   "number_sections": true,
   "sideBar": true,
   "skip_h1_title": false,
   "title_cell": "Table of Contents",
   "title_sidebar": "Contents",
   "toc_cell": false,
   "toc_position": {},
   "toc_section_display": true,
   "toc_window_display": false
  }
 },
 "nbformat": 4,
 "nbformat_minor": 2
}

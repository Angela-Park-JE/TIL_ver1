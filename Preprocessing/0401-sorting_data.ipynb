{
 "cells": [
  {
   "cell_type": "markdown",
   "metadata": {},
   "source": [
    "# Ch5 - 1. 데이터 정렬\n",
    "\n",
    "# 리스트와 튜플의 정렬\n",
    "\n",
    "## sort \n",
    ":  리스트 및 튜플 자체를 정렬(return 값이 없음)  \n",
    "`reverse` : 내림차순(True)으로 정렬할 것인지 여부를 결정하는 매개변수  \n",
    "판다스에서 `inplace = True` 로 설정한 것과 같음  \n",
    "\n",
    "## sorted\n",
    ": 정렬된 리스트 및 튜플을 반환  \n",
    "`reverse` : 내림차순으로 정렬할 것인지 여부를 결정하는 매개변수  \n",
    "`key` : 정렬 기준 함수 (주로 `lambda` 함수를 사용) \n",
    "\n",
    "\n",
    "\n"
   ]
  },
  {
   "cell_type": "markdown",
   "metadata": {},
   "source": [
    "## sort 함수 사용\n",
    "\n",
    "원본 수정이 된다. 정렬이 그대로 저장된다. "
   ]
  },
  {
   "cell_type": "code",
   "execution_count": 1,
   "metadata": {},
   "outputs": [],
   "source": [
    "L = [1, 4, 3, 5, 2, 5]\n",
    "L.sort() # 출력이 None이고 L자체가 수정됨"
   ]
  },
  {
   "cell_type": "code",
   "execution_count": 2,
   "metadata": {},
   "outputs": [
    {
     "data": {
      "text/plain": [
       "[1, 2, 3, 4, 5, 5]"
      ]
     },
     "execution_count": 2,
     "metadata": {},
     "output_type": "execute_result"
    }
   ],
   "source": [
    "L"
   ]
  },
  {
   "cell_type": "code",
   "execution_count": 3,
   "metadata": {},
   "outputs": [
    {
     "data": {
      "text/plain": [
       "[5, 5, 4, 3, 2, 1]"
      ]
     },
     "execution_count": 3,
     "metadata": {},
     "output_type": "execute_result"
    }
   ],
   "source": [
    "L = [1, 4, 3, 5, 2, 5]\n",
    "L.sort(reverse = True) # 내림차순\n",
    "L"
   ]
  },
  {
   "cell_type": "markdown",
   "metadata": {},
   "source": [
    "## sorted 함수 사용\n",
    "\n",
    "람다함수를 이용하여 정렬을 정한다.  \n",
    "\n",
    "`lambda x:x[1]` 은 튜플의 요소의 [1]번째 요소를 기준으로 정렬하도록 한다는 의미.  \n",
    "`lambda x:abs(x-3)` 은 리스트의 해당 요소-3의 절대값 기준으로 정렬하도록 한 것이다. 3에 가까울 수록 앞쪽에 정렬될 것이다.  \n",
    "`lambda x:len(x)` 은 리스트의 해당 요소 길이를 기준으로 정렬한다. \n"
   ]
  },
  {
   "cell_type": "code",
   "execution_count": 4,
   "metadata": {},
   "outputs": [
    {
     "data": {
      "text/plain": [
       "[(3, 1), (1, 2), (10, 4), (4, 5)]"
      ]
     },
     "execution_count": 4,
     "metadata": {},
     "output_type": "execute_result"
    }
   ],
   "source": [
    "T = [(1, 2), (3, 1), (4, 5), (10, 4)]\n",
    "sorted(T, key = lambda x:x[1]) "
   ]
  },
  {
   "cell_type": "code",
   "execution_count": 6,
   "metadata": {},
   "outputs": [
    {
     "data": {
      "text/plain": [
       "[3, 4, 2, 1, 5, 5]"
      ]
     },
     "execution_count": 6,
     "metadata": {},
     "output_type": "execute_result"
    }
   ],
   "source": [
    "L = [1, 4, 3, 5, 2, 5]\n",
    "sorted(L, key = lambda x:abs(x-3)) # |x-3|을 기준으로 정렬"
   ]
  },
  {
   "cell_type": "code",
   "execution_count": 9,
   "metadata": {},
   "outputs": [
    {
     "data": {
      "text/plain": [
       "[(1, 2), (10, 4), (3, 1), (4, 5)]"
      ]
     },
     "execution_count": 9,
     "metadata": {},
     "output_type": "execute_result"
    }
   ],
   "source": [
    "# 섞어보기 \n",
    "T = [(1, 2), (3, 1), (4, 5), (10, 4)]\n",
    "sorted(T, key = lambda x:abs(x[1]-3)) "
   ]
  },
  {
   "cell_type": "code",
   "execution_count": 11,
   "metadata": {},
   "outputs": [
    {
     "data": {
      "text/plain": [
       "['Data Preprocessing', 'Python', 'Use', 'For', 'We']"
      ]
     },
     "execution_count": 11,
     "metadata": {},
     "output_type": "execute_result"
    }
   ],
   "source": [
    "L = ['We', 'Use', 'Python', 'For', 'Data Preprocessing']\n",
    "sorted(L, key = lambda x:len(x), reverse = True) # 긴 순서로 정렬"
   ]
  },
  {
   "cell_type": "markdown",
   "metadata": {},
   "source": [
    "# Series 정렬\n",
    "\n",
    "## sort_values \n",
    "ascending : 오름차순 여부 (default = True, False면 내림차순)  \n",
    "key : 정렬 기준 함수 (주로 lambda 함수를 사용)  \n",
    "na_position : 결측이 있을 경우 어디에 배치할것인지 (first, last)  \n",
    "\n"
   ]
  },
  {
   "cell_type": "code",
   "execution_count": 12,
   "metadata": {},
   "outputs": [
    {
     "data": {
      "text/plain": [
       "0    2.0\n",
       "1    5.0\n",
       "2    6.0\n",
       "3    NaN\n",
       "4    NaN\n",
       "5    NaN\n",
       "6    9.0\n",
       "7    4.0\n",
       "8    7.0\n",
       "9    5.0\n",
       "dtype: float64"
      ]
     },
     "execution_count": 12,
     "metadata": {},
     "output_type": "execute_result"
    }
   ],
   "source": [
    "import pandas as pd\n",
    "import numpy as np\n",
    "S = pd.Series(np.random.randint(1, 10, 100)) # 랜덤 정수 생성\n",
    "S.iloc[3:6] = np.nan # 결측으로 일부 수정\n",
    "\n",
    "S.head(10)"
   ]
  },
  {
   "cell_type": "code",
   "execution_count": 13,
   "metadata": {},
   "outputs": [
    {
     "data": {
      "text/plain": [
       "40    1.0\n",
       "45    1.0\n",
       "41    1.0\n",
       "88    1.0\n",
       "37    1.0\n",
       "     ... \n",
       "53    9.0\n",
       "89    9.0\n",
       "3     NaN\n",
       "4     NaN\n",
       "5     NaN\n",
       "Length: 100, dtype: float64"
      ]
     },
     "execution_count": 13,
     "metadata": {},
     "output_type": "execute_result"
    }
   ],
   "source": [
    "# default: ascending = True, key = None, na_position = last \n",
    "S.sort_values()"
   ]
  },
  {
   "cell_type": "code",
   "execution_count": 15,
   "metadata": {},
   "outputs": [
    {
     "data": {
      "text/plain": [
       "15    9.0\n",
       "58    9.0\n",
       "96    9.0\n",
       "6     9.0\n",
       "93    9.0\n",
       "     ... \n",
       "26    1.0\n",
       "77    1.0\n",
       "3     NaN\n",
       "4     NaN\n",
       "5     NaN\n",
       "Length: 100, dtype: float64"
      ]
     },
     "execution_count": 15,
     "metadata": {},
     "output_type": "execute_result"
    }
   ],
   "source": [
    "S.sort_values(ascending = False, na_position = 'last')"
   ]
  },
  {
   "cell_type": "markdown",
   "metadata": {},
   "source": [
    "### Series 요약 함수"
   ]
  }
 ],
 "metadata": {
  "kernelspec": {
   "display_name": "Python 3 (ipykernel)",
   "language": "python",
   "name": "python3"
  },
  "language_info": {
   "codemirror_mode": {
    "name": "ipython",
    "version": 3
   },
   "file_extension": ".py",
   "mimetype": "text/x-python",
   "name": "python",
   "nbconvert_exporter": "python",
   "pygments_lexer": "ipython3",
   "version": "3.8.5"
  },
  "toc": {
   "base_numbering": 1,
   "nav_menu": {},
   "number_sections": true,
   "sideBar": true,
   "skip_h1_title": false,
   "title_cell": "Table of Contents",
   "title_sidebar": "Contents",
   "toc_cell": false,
   "toc_position": {},
   "toc_section_display": true,
   "toc_window_display": false
  }
 },
 "nbformat": 4,
 "nbformat_minor": 2
}

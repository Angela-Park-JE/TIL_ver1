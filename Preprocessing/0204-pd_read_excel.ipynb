{
 "cells": [
  {
   "cell_type": "markdown",
   "metadata": {},
   "source": [
    "# Ch3 - 4 excel 데이터 불러오기 및 내보내기  \n",
    "\n",
    "read_csv와 유사하다. 다만 시트라는 개념때문에 다른 점이 있다.  \n",
    "\n",
    "**.xlsx 포맷의 데이터**를 불러오는데 효과적인 함수이다.  \n",
    "```\n",
    "pd.read_excel(filepath, sheet_name, header, index_col, usecols, parse_dates, nrows, skiprows)\n",
    "```  \n",
    "filepath : 파일 경로 및 이름  \n",
    "sheet_name : 불러오고자 하는 시트 이름 및 위치, 지정하지 않으면 맨 앞의 시트만 불러오게 된다.  \n",
    "header : 헤더의 위치로 None을 입력하면 컬럼명이 0, 1, 2 로 자동 부여된다. (default: 'infer')  \n",
    "index_col : 인덱스의 위치  \n",
    "usecols : 사용할 컬럼 목록 및 위치 목록  \n",
    "parse_dates :   \n",
    "nrows : 불러올 행의 개수\n",
    "skiprows : 불러오지 않을 행의 위치(리스트) - 엑셀데이터는 데이터 자체를 불러오는 것보다 가공한 결과를 저장하는 경우가 더 많다. 그래서 일부 디자인을 위해 들어가는 행이 존재한다. 그래서 우리가 원하는 위치부터 데이터를 불러올 수 있도록 하는 파라미터.  \n",
    "\n",
    "\n",
    "## 경로 설정하기"
   ]
  },
  {
   "cell_type": "code",
   "execution_count": 1,
   "metadata": {},
   "outputs": [],
   "source": [
    "import os\n",
    "import pandas as pd\n",
    "os.chdir(r\"/Users/Angela/Desktop/과속대학쿠쿠루/1. 데이터 핸들링/데이터\")"
   ]
  },
  {
   "cell_type": "markdown",
   "metadata": {},
   "source": [
    "## read_excel을 사용한 데이터 불러오기 \n",
    "\n",
    "많은 엑셀 파일은 맨 처음 시트는 뒤의 시트들의 요약정보를 가지고 있는 경우가 많기 때문에 잊지 말고 지정할 필요가 있다.  \n",
    "\n"
   ]
  },
  {
   "cell_type": "code",
   "execution_count": 2,
   "metadata": {},
   "outputs": [
    {
     "data": {
      "text/html": [
       "<div>\n",
       "<style scoped>\n",
       "    .dataframe tbody tr th:only-of-type {\n",
       "        vertical-align: middle;\n",
       "    }\n",
       "\n",
       "    .dataframe tbody tr th {\n",
       "        vertical-align: top;\n",
       "    }\n",
       "\n",
       "    .dataframe thead th {\n",
       "        text-align: right;\n",
       "    }\n",
       "</style>\n",
       "<table border=\"1\" class=\"dataframe\">\n",
       "  <thead>\n",
       "    <tr style=\"text-align: right;\">\n",
       "      <th></th>\n",
       "      <th>첫번째 시트</th>\n",
       "      <th>값없음</th>\n",
       "    </tr>\n",
       "  </thead>\n",
       "  <tbody>\n",
       "    <tr>\n",
       "      <th>0</th>\n",
       "      <td>첫번째 시트</td>\n",
       "      <td>값없음</td>\n",
       "    </tr>\n",
       "  </tbody>\n",
       "</table>\n",
       "</div>"
      ],
      "text/plain": [
       "   첫번째 시트  값없음\n",
       "0  첫번째 시트  값없음"
      ]
     },
     "execution_count": 2,
     "metadata": {},
     "output_type": "execute_result"
    }
   ],
   "source": [
    "# 시트를 정의하지 않으면, 첫 번째 시트만 지정됨 \n",
    "df = pd.read_excel(\"data_reading.xlsx\")\n",
    "df"
   ]
  },
  {
   "cell_type": "code",
   "execution_count": 3,
   "metadata": {},
   "outputs": [
    {
     "data": {
      "text/html": [
       "<div>\n",
       "<style scoped>\n",
       "    .dataframe tbody tr th:only-of-type {\n",
       "        vertical-align: middle;\n",
       "    }\n",
       "\n",
       "    .dataframe tbody tr th {\n",
       "        vertical-align: top;\n",
       "    }\n",
       "\n",
       "    .dataframe thead th {\n",
       "        text-align: right;\n",
       "    }\n",
       "</style>\n",
       "<table border=\"1\" class=\"dataframe\">\n",
       "  <thead>\n",
       "    <tr style=\"text-align: right;\">\n",
       "      <th></th>\n",
       "      <th>Col1</th>\n",
       "      <th>Col2</th>\n",
       "      <th>Col3</th>\n",
       "      <th>Col4</th>\n",
       "      <th>Col5</th>\n",
       "    </tr>\n",
       "  </thead>\n",
       "  <tbody>\n",
       "    <tr>\n",
       "      <th>0</th>\n",
       "      <td>0.188888</td>\n",
       "      <td>0.161053</td>\n",
       "      <td>0.150413</td>\n",
       "      <td>0.824770</td>\n",
       "      <td>0.111833</td>\n",
       "    </tr>\n",
       "    <tr>\n",
       "      <th>1</th>\n",
       "      <td>0.827719</td>\n",
       "      <td>0.161363</td>\n",
       "      <td>0.400331</td>\n",
       "      <td>0.398196</td>\n",
       "      <td>0.770696</td>\n",
       "    </tr>\n",
       "    <tr>\n",
       "      <th>2</th>\n",
       "      <td>0.844660</td>\n",
       "      <td>0.100998</td>\n",
       "      <td>0.995176</td>\n",
       "      <td>0.615525</td>\n",
       "      <td>0.878389</td>\n",
       "    </tr>\n",
       "    <tr>\n",
       "      <th>3</th>\n",
       "      <td>0.913895</td>\n",
       "      <td>0.036169</td>\n",
       "      <td>0.237840</td>\n",
       "      <td>0.187628</td>\n",
       "      <td>0.534308</td>\n",
       "    </tr>\n",
       "    <tr>\n",
       "      <th>4</th>\n",
       "      <td>0.322443</td>\n",
       "      <td>0.955010</td>\n",
       "      <td>0.340765</td>\n",
       "      <td>0.649311</td>\n",
       "      <td>0.354540</td>\n",
       "    </tr>\n",
       "  </tbody>\n",
       "</table>\n",
       "</div>"
      ],
      "text/plain": [
       "       Col1      Col2      Col3      Col4      Col5\n",
       "0  0.188888  0.161053  0.150413  0.824770  0.111833\n",
       "1  0.827719  0.161363  0.400331  0.398196  0.770696\n",
       "2  0.844660  0.100998  0.995176  0.615525  0.878389\n",
       "3  0.913895  0.036169  0.237840  0.187628  0.534308\n",
       "4  0.322443  0.955010  0.340765  0.649311  0.354540"
      ]
     },
     "execution_count": 3,
     "metadata": {},
     "output_type": "execute_result"
    }
   ],
   "source": [
    "# 시트를 지정하면 해당 시트를 가져옴\n",
    "df = pd.read_excel(\"data_reading.xlsx\", sheet_name = 'target_sheet')\n",
    "df.head()"
   ]
  },
  {
   "cell_type": "markdown",
   "metadata": {},
   "source": [
    "## 필요한 부분의 데이터 불러오기 (중요)"
   ]
  },
  {
   "attachments": {
    "image.png": {
     "image/png": "[encoded data removed]"
    }
   },
   "cell_type": "markdown",
   "metadata": {},
   "source": [
    "![image.png](attachment:image.png)"
   ]
  },
  {
   "cell_type": "code",
   "execution_count": 6,
   "metadata": {},
   "outputs": [
    {
     "data": {
      "text/html": [
       "<div>\n",
       "<style scoped>\n",
       "    .dataframe tbody tr th:only-of-type {\n",
       "        vertical-align: middle;\n",
       "    }\n",
       "\n",
       "    .dataframe tbody tr th {\n",
       "        vertical-align: top;\n",
       "    }\n",
       "\n",
       "    .dataframe thead th {\n",
       "        text-align: right;\n",
       "    }\n",
       "</style>\n",
       "<table border=\"1\" class=\"dataframe\">\n",
       "  <thead>\n",
       "    <tr style=\"text-align: right;\">\n",
       "      <th></th>\n",
       "      <th>일자</th>\n",
       "      <th>지점</th>\n",
       "      <th>품명</th>\n",
       "      <th>수량</th>\n",
       "      <th>주문인 ID</th>\n",
       "      <th>수령 주소</th>\n",
       "      <th>주문 상태</th>\n",
       "      <th>결제 수단</th>\n",
       "    </tr>\n",
       "  </thead>\n",
       "  <tbody>\n",
       "    <tr>\n",
       "      <th>0</th>\n",
       "      <td>2018.6.1</td>\n",
       "      <td>지점1</td>\n",
       "      <td>제품C</td>\n",
       "      <td>8</td>\n",
       "      <td>C-228</td>\n",
       "      <td>서울특별시 서대문구 홍제동</td>\n",
       "      <td>주문완료</td>\n",
       "      <td>인터넷뱅킹</td>\n",
       "    </tr>\n",
       "    <tr>\n",
       "      <th>1</th>\n",
       "      <td>2018.6.1</td>\n",
       "      <td>지점4</td>\n",
       "      <td>제품F</td>\n",
       "      <td>8</td>\n",
       "      <td>C-243</td>\n",
       "      <td>서울특별시 송파구 마천동</td>\n",
       "      <td>주문완료</td>\n",
       "      <td>인터넷뱅킹</td>\n",
       "    </tr>\n",
       "    <tr>\n",
       "      <th>2</th>\n",
       "      <td>2018.6.1</td>\n",
       "      <td>지점4</td>\n",
       "      <td>제품D</td>\n",
       "      <td>3</td>\n",
       "      <td>C-191</td>\n",
       "      <td>서울특별시 노원구 월계동</td>\n",
       "      <td>배송중</td>\n",
       "      <td>신용카드</td>\n",
       "    </tr>\n",
       "    <tr>\n",
       "      <th>3</th>\n",
       "      <td>2018.6.1</td>\n",
       "      <td>지점2</td>\n",
       "      <td>제품D</td>\n",
       "      <td>0</td>\n",
       "      <td>C-271</td>\n",
       "      <td>서울특별시 중구 회현동3가</td>\n",
       "      <td>배송완료</td>\n",
       "      <td>휴대폰결제</td>\n",
       "    </tr>\n",
       "    <tr>\n",
       "      <th>4</th>\n",
       "      <td>2018.6.1</td>\n",
       "      <td>지점4</td>\n",
       "      <td>제품D</td>\n",
       "      <td>8</td>\n",
       "      <td>C-244</td>\n",
       "      <td>서울특별시 중구 서소문동</td>\n",
       "      <td>배송완료</td>\n",
       "      <td>인터넷뱅킹</td>\n",
       "    </tr>\n",
       "  </tbody>\n",
       "</table>\n",
       "</div>"
      ],
      "text/plain": [
       "         일자   지점   품명  수량 주문인 ID           수령 주소 주문 상태  결제 수단\n",
       "0  2018.6.1  지점1  제품C   8  C-228  서울특별시 서대문구 홍제동  주문완료  인터넷뱅킹\n",
       "1  2018.6.1  지점4  제품F   8  C-243   서울특별시 송파구 마천동  주문완료  인터넷뱅킹\n",
       "2  2018.6.1  지점4  제품D   3  C-191   서울특별시 노원구 월계동   배송중   신용카드\n",
       "3  2018.6.1  지점2  제품D   0  C-271  서울특별시 중구 회현동3가  배송완료  휴대폰결제\n",
       "4  2018.6.1  지점4  제품D   8  C-244   서울특별시 중구 서소문동  배송완료  인터넷뱅킹"
      ]
     },
     "execution_count": 6,
     "metadata": {},
     "output_type": "execute_result"
    }
   ],
   "source": [
    "# 1~6 즉 0~5를 데려오지 않는다.\n",
    "df = pd.read_excel('월별매출데이터.xlsx', sheet_name = '6월', skiprows = range(6))\n",
    "# 값이 없는 첫 번째 열을 제거. 물론 usecol을사용해서 B~I만 가져올 수도 있다.\n",
    "df = df.iloc[:, 1:] \n",
    "\n",
    "df.head()"
   ]
  },
  {
   "cell_type": "markdown",
   "metadata": {},
   "source": [
    "# 데이터 저장하기\n",
    "\n",
    "판다스의 to_excel 함수는 테이블 형태의 데이터를 저장하는데 효과적인 함수이다.  \n",
    "시트가 여러가지 있을 수 있다는 점이 csv와 다른 점임을 기억하기.  \n",
    "\n",
    "\n",
    "```\n",
    "df.to_excel(filepath, index, sheet_name, mode)\n",
    "```  \n",
    "filepath : 파일 경로 및 이름  \n",
    "index : 인덱스를 저장할지 여부  \n",
    "sheet_name : 시트명  \n",
    "\n",
    "여러 데이터 프레임이 있고, 한 파일에 여러 시트를 생성해야 하는 경우에는 **ExcelWriter**를 사용한다.  \n",
    "```\n",
    "writer = pd.ExcelWriter(xlsx file)\n",
    "df1.to_excel(writer, sheet_name = \"sheet1\")\n",
    "df2.to_excel(writer, sheet_name = \"sheet2\")\n",
    "```  \n",
    "    xlsx file는 존재하는 파일이어도 되고, 아니어도 된다. 존재하는 파일이면 시트가 추가되는 방식으로 저장된다.\n",
    "\n",
    "\n",
    "## to_excel을 사용한 데이터 저장"
   ]
  },
  {
   "cell_type": "code",
   "execution_count": 7,
   "metadata": {},
   "outputs": [],
   "source": [
    "df1 = pd.DataFrame({\"A\":[1,2,3,4], \"B\":[5,6,7,8]})\n",
    "df2 = pd.DataFrame({\"A\":[9,10,11,12], \"B\":[13,14,15,16]})"
   ]
  },
  {
   "cell_type": "code",
   "execution_count": 8,
   "metadata": {},
   "outputs": [],
   "source": [
    "with pd.ExcelWriter('written_excel.xlsx') as writer:\n",
    "    df1.to_excel(writer, sheet_name = 'First')\n",
    "    df2.to_excel(writer, sheet_name = 'Second')"
   ]
  }
 ],
 "metadata": {
  "kernelspec": {
   "display_name": "Python 3 (ipykernel)",
   "language": "python",
   "name": "python3"
  },
  "language_info": {
   "codemirror_mode": {
    "name": "ipython",
    "version": 3
   },
   "file_extension": ".py",
   "mimetype": "text/x-python",
   "name": "python",
   "nbconvert_exporter": "python",
   "pygments_lexer": "ipython3",
   "version": "3.8.5"
  },
  "toc": {
   "base_numbering": 1,
   "nav_menu": {},
   "number_sections": true,
   "sideBar": true,
   "skip_h1_title": false,
   "title_cell": "Table of Contents",
   "title_sidebar": "Contents",
   "toc_cell": false,
   "toc_position": {},
   "toc_section_display": true,
   "toc_window_display": false
  }
 },
 "nbformat": 4,
 "nbformat_minor": 2
}

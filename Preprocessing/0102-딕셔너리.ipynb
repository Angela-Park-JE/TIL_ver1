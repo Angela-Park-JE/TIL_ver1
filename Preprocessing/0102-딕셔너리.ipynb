{
 "cells": [
  {
   "cell_type": "markdown",
   "metadata": {},
   "source": [
    "# 딕셔너리\n",
    "\n",
    "사전은 키와 값의 쌍으로 이루어진 해시 테이블이다.\n",
    "\n",
    "해시(Hash) 구조: 입력이 있고 그것과 연결된 출력이 있는 구조를 말한다.\n",
    "\n",
    "key는 불변의 값을 사용해야한다. value는 불변 가변 상관이 없다.\n",
    "\n",
    "dic = {key1:val1, key2:val2, ...} 식으로 이루어져있는데 순서는 상관이 없다. 순서가 정의되어있지 않다. 언제든 뒤바뀔 수 있다.\n",
    "\n",
    "순서가 중요하다면 올른느틱? 이라는 다른 사전 자료구조를 사용해야한다.\n",
    "\n",
    "리스트는 가변하기 때문에 딕셔너리의 key로 사용할 수 없지만, 튜플은 불변하기 때문에 사용할 수 있다는 차이점이 있다.\n",
    "\n",
    "조건 등을 입력하여 해당 조건에 대응하는 값들을 출력함으로서 하는 사전 구축은 의외로 많은 데이터 전처리에서 사용된다.\n",
    "\n",
    "---\n",
    "\n",
    "요소에 접근하는 방법 : `dict[key]` value를 출력함\n",
    "\n",
    "변경하는 법 : ` dict[key] = new_value`\n",
    "\n",
    "삭제 : `del(dict[key])` \n",
    "\n"
   ]
  },
  {
   "cell_type": "code",
   "execution_count": 1,
   "metadata": {},
   "outputs": [
    {
     "name": "stdout",
     "output_type": "stream",
     "text": [
      "1\n"
     ]
    }
   ],
   "source": [
    "# 사전 생성하기\n",
    "\n",
    "dic = {1:1, 2:4, 3:9, 4:16}\n",
    "print(dic[1]) # 사전 요소 접근하기"
   ]
  },
  {
   "cell_type": "code",
   "execution_count": 2,
   "metadata": {},
   "outputs": [
    {
     "name": "stdout",
     "output_type": "stream",
     "text": [
      "20\n"
     ]
    }
   ],
   "source": [
    "# 새로운 요소 추가\n",
    "\n",
    "dic[5] = 20 \n",
    "print(dic[5])"
   ]
  },
  {
   "cell_type": "code",
   "execution_count": 3,
   "metadata": {},
   "outputs": [
    {
     "data": {
      "text/plain": [
       "{1: 1, 2: 4, 3: 9, 4: 16, 5: 20}"
      ]
     },
     "execution_count": 3,
     "metadata": {},
     "output_type": "execute_result"
    }
   ],
   "source": [
    "dic"
   ]
  },
  {
   "cell_type": "code",
   "execution_count": 4,
   "metadata": {},
   "outputs": [
    {
     "name": "stdout",
     "output_type": "stream",
     "text": [
      "25\n"
     ]
    }
   ],
   "source": [
    "# 요소 변경: 해당 키에 새로 할당만 해주면됨\n",
    "\n",
    "dic[5] = 25 \n",
    "print(dic[5])"
   ]
  },
  {
   "cell_type": "code",
   "execution_count": 5,
   "metadata": {},
   "outputs": [
    {
     "data": {
      "text/plain": [
       "{1: 1, 2: 4, 3: 9, 4: 16, 5: 25}"
      ]
     },
     "execution_count": 5,
     "metadata": {},
     "output_type": "execute_result"
    }
   ],
   "source": [
    "dic"
   ]
  },
  {
   "cell_type": "markdown",
   "metadata": {},
   "source": [
    "## 딕셔너리 관련 함수\n",
    "\n",
    "key 리스트 받기: `딕셔너리.keys()`\n",
    "\n",
    "value 리스트 받기: `딕셔너리.values()`\n",
    "\n",
    "key와 value 쌍 얻기: `딕셔너리.items()`\n",
    "\n",
    "위 함수들은 줄 값을 효율적으로 순회하거나 변경할 때 주로 사용된다!"
   ]
  },
  {
   "cell_type": "code",
   "execution_count": 6,
   "metadata": {},
   "outputs": [
    {
     "name": "stdout",
     "output_type": "stream",
     "text": [
      "dict_keys([1, 2, 3, 4, 5])\n",
      "dict_values([1, 4, 9, 16, 25])\n",
      "dict_items([(1, 1), (2, 4), (3, 9), (4, 16), (5, 25)])\n"
     ]
    }
   ],
   "source": [
    "# 사전 관련 함수: 요소 확인하기\n",
    "\n",
    "print(dic.keys())\n",
    "print(dic.values())\n",
    "print(dic.items()) # 요소들이 튜플로 나온다."
   ]
  },
  {
   "cell_type": "code",
   "execution_count": 7,
   "metadata": {},
   "outputs": [
    {
     "name": "stdout",
     "output_type": "stream",
     "text": [
      "[1, 2, 3, 4, 5]\n",
      "[1, 4, 9, 16, 25]\n",
      "[(1, 1), (2, 4), (3, 9), (4, 16), (5, 25)]\n"
     ]
    }
   ],
   "source": [
    "# 출력물이 딕셔너리로 나오기 때문에 자료구조를 바꿔주는 것이 좋다.\n",
    "# 리스트로 받기 (방금도 다른 파일에서 사용하고왔다... 중요)\n",
    "\n",
    "print(list(dic.keys()))\n",
    "print(list(dic.values()))\n",
    "print(list(dic.items()))"
   ]
  },
  {
   "cell_type": "markdown",
   "metadata": {},
   "source": [
    "순서가 항상 그대로 기억되는 것은 아니기 때문에 순서를 제대로 순회하기 위해서는 items를 주로 사용한다.\n",
    "\n",
    "## 순회와 값 변경\n",
    "\n",
    "함수들을 이용해서 순회와 값변경을 해본다."
   ]
  },
  {
   "cell_type": "code",
   "execution_count": 7,
   "metadata": {},
   "outputs": [
    {
     "name": "stdout",
     "output_type": "stream",
     "text": [
      "1 1\n",
      "2 4\n",
      "3 9\n",
      "4 16\n",
      "5 25\n"
     ]
    }
   ],
   "source": [
    "# 순회 예시\n",
    "\n",
    "for key, val in dic.items():\n",
    "    print(key, val)"
   ]
  },
  {
   "cell_type": "code",
   "execution_count": 8,
   "metadata": {},
   "outputs": [
    {
     "name": "stdout",
     "output_type": "stream",
     "text": [
      "{1: 0.5, 2: 2.0, 3: 4.5, 4: 8.0, 5: 12.5}\n"
     ]
    }
   ],
   "source": [
    "# 값 변경 예시\n",
    "# key만 돌면서 바꾸면서 저장되도록 해본다.\n",
    "\n",
    "for key in dic.keys():\n",
    "    dic[key] = dic[key] * 0.5\n",
    "\n",
    "print(dic)"
   ]
  }
 ],
 "metadata": {
  "kernelspec": {
   "display_name": "Python 3 (ipykernel)",
   "language": "python",
   "name": "python3"
  },
  "language_info": {
   "codemirror_mode": {
    "name": "ipython",
    "version": 3
   },
   "file_extension": ".py",
   "mimetype": "text/x-python",
   "name": "python",
   "nbconvert_exporter": "python",
   "pygments_lexer": "ipython3",
   "version": "3.8.5"
  },
  "toc": {
   "base_numbering": 1,
   "nav_menu": {},
   "number_sections": true,
   "sideBar": true,
   "skip_h1_title": false,
   "title_cell": "Table of Contents",
   "title_sidebar": "Contents",
   "toc_cell": false,
   "toc_position": {},
   "toc_section_display": true,
   "toc_window_display": false
  }
 },
 "nbformat": 4,
 "nbformat_minor": 2
}

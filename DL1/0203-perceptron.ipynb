{
 "cells": [
  {
   "cell_type": "markdown",
   "id": "909e61e0",
   "metadata": {},
   "source": [
    "# 2.3 퍼셉트론 구현하기\n",
    "\n",
    "AND, NAND, OR 는 모두 같은 구조의 퍼셉트론이고, 차이는 가중치 매개변수의 값 뿐이다. \n",
    "\n",
    "### 2.3.1 간단한 AND 게이트 구현\n",
    "\n",
    "x1, x2에 대해 가중치 0.5, 0.5, 임계값이 0.7인 간단한 퍼셉트론 구현하기\n"
   ]
  },
  {
   "cell_type": "code",
   "execution_count": 1,
   "id": "12e4e58d",
   "metadata": {},
   "outputs": [],
   "source": [
    "def AND(x1, x2):\n",
    "    # weight1, 2, and Thresholds\n",
    "    w1, w2, theta = 0.5, 0.5, 0.7\n",
    "    tmp = x1*w1 + x2*w2\n",
    "    if tmp <= theta:\n",
    "        return 0\n",
    "    elif tmp > theta:\n",
    "        return 1"
   ]
  },
  {
   "cell_type": "code",
   "execution_count": 2,
   "id": "70a80379",
   "metadata": {},
   "outputs": [
    {
     "data": {
      "text/plain": [
       "0"
      ]
     },
     "execution_count": 2,
     "metadata": {},
     "output_type": "execute_result"
    }
   ],
   "source": [
    "AND(0, 0)"
   ]
  },
  {
   "cell_type": "code",
   "execution_count": 3,
   "id": "306ef48c",
   "metadata": {},
   "outputs": [
    {
     "data": {
      "text/plain": [
       "0"
      ]
     },
     "execution_count": 3,
     "metadata": {},
     "output_type": "execute_result"
    }
   ],
   "source": [
    "AND(0, 1)"
   ]
  },
  {
   "cell_type": "code",
   "execution_count": 4,
   "id": "bb850507",
   "metadata": {},
   "outputs": [
    {
     "data": {
      "text/plain": [
       "0"
      ]
     },
     "execution_count": 4,
     "metadata": {},
     "output_type": "execute_result"
    }
   ],
   "source": [
    "AND(1, 0)"
   ]
  },
  {
   "cell_type": "code",
   "execution_count": 5,
   "id": "acd6e1af",
   "metadata": {},
   "outputs": [
    {
     "data": {
      "text/plain": [
       "1"
      ]
     },
     "execution_count": 5,
     "metadata": {},
     "output_type": "execute_result"
    }
   ],
   "source": [
    "AND(1, 1)"
   ]
  },
  {
   "cell_type": "markdown",
   "id": "bb47e8c1",
   "metadata": {},
   "source": [
    "### 2.3.2 가중치와 편향 적용"
   ]
  },
  {
   "cell_type": "code",
   "execution_count": 6,
   "id": "aa4a20cb",
   "metadata": {},
   "outputs": [],
   "source": [
    "import numpy as np\n",
    "\n",
    "x = np.array([0, 1])\n",
    "w = np.array([0.5, 0.5])\n",
    "b = -0.7"
   ]
  },
  {
   "cell_type": "code",
   "execution_count": 7,
   "id": "0ec39fd2",
   "metadata": {},
   "outputs": [
    {
     "data": {
      "text/plain": [
       "array([0. , 0.5])"
      ]
     },
     "execution_count": 7,
     "metadata": {},
     "output_type": "execute_result"
    }
   ],
   "source": [
    "# weight * values\n",
    "w*x"
   ]
  },
  {
   "cell_type": "code",
   "execution_count": 8,
   "id": "ea50436a",
   "metadata": {},
   "outputs": [
    {
     "data": {
      "text/plain": [
       "0.5"
      ]
     },
     "execution_count": 8,
     "metadata": {},
     "output_type": "execute_result"
    }
   ],
   "source": [
    "# element-wise product\n",
    "np.sum(w*x)"
   ]
  },
  {
   "cell_type": "code",
   "execution_count": 9,
   "id": "2c8fad9b",
   "metadata": {},
   "outputs": [
    {
     "data": {
      "text/plain": [
       "-0.19999999999999996"
      ]
     },
     "execution_count": 9,
     "metadata": {},
     "output_type": "execute_result"
    }
   ],
   "source": [
    "# add the bias\n",
    "np.sum(w*x) + b"
   ]
  },
  {
   "cell_type": "markdown",
   "id": "0162775e",
   "metadata": {},
   "source": [
    "부동소수점에 의한 연산 오차가 있다고 함."
   ]
  },
  {
   "cell_type": "markdown",
   "id": "e8ff0d5a",
   "metadata": {},
   "source": [
    "### 2.3.3 가중치와 편향 구현\n",
    "\n",
    "가중치는 각 입력 신호가 결과에 주는 영향력(중요도)를 조절하는 매개변수고, 편향은 뉴런이 얼마나 쉽게 활성화(결과로 1을 출력)하느냐를 조정하는 매개변수이다.  \n",
    "이 책에서는 문맥에 따라 셋 모두를 가중치라고 할 때도 있다."
   ]
  },
  {
   "cell_type": "code",
   "execution_count": 10,
   "id": "b27a64cf",
   "metadata": {},
   "outputs": [],
   "source": [
    "# AND 게이트 구현\n",
    "def AND(x1, x2):\n",
    "    import numpy as np\n",
    "    x = np.array([x1, x2])\n",
    "    w = np.array([0.5, 0.5])\n",
    "    b = -0.7       # -theta가 치환됨: bias -b\n",
    "    tmp = np.sum(w*x) + b\n",
    "    if tmp <= 0:\n",
    "        return 0\n",
    "    elif tmp > 0:\n",
    "        return 1"
   ]
  },
  {
   "cell_type": "code",
   "execution_count": 11,
   "id": "e7ee28bb",
   "metadata": {},
   "outputs": [
    {
     "name": "stdout",
     "output_type": "stream",
     "text": [
      "0 , 0 , 0 , 1\n"
     ]
    }
   ],
   "source": [
    "print(AND(0, 0), ',', AND(0,1), ',', AND(1,0), ',', AND(1, 1))"
   ]
  },
  {
   "cell_type": "code",
   "execution_count": 12,
   "id": "4c4539bf",
   "metadata": {},
   "outputs": [],
   "source": [
    "# NAND 게이트 구현 (w와 b의 부호만 다름)\n",
    "def NAND(x1, x2):\n",
    "#     import numpy as np\n",
    "    x = np.array([x1, x2])\n",
    "    w = np.array([-0.5, -0.5])\n",
    "    b = 0.7\n",
    "    tmp = np.sum(w*x) + b\n",
    "    if tmp <= 0:\n",
    "        return 0\n",
    "    elif tmp > 0:\n",
    "        return 1"
   ]
  },
  {
   "cell_type": "code",
   "execution_count": 13,
   "id": "68931fb8",
   "metadata": {},
   "outputs": [
    {
     "name": "stdout",
     "output_type": "stream",
     "text": [
      "1 , 1 , 1 , 0\n"
     ]
    }
   ],
   "source": [
    "print(NAND(0, 0), ',', NAND(0,1), ',', NAND(1,0), ',', NAND(1, 1))"
   ]
  },
  {
   "cell_type": "code",
   "execution_count": 14,
   "id": "73f619ae",
   "metadata": {},
   "outputs": [],
   "source": [
    "# OR 게이트 구현 (w와 b만 다름)\n",
    "def OR(x1, x2):\n",
    "#     import numpy as np\n",
    "    x = np.array([x1, x2])\n",
    "    w = np.array([0.5, 0.5])\n",
    "    b = -0.2\n",
    "    tmp = np.sum(w*x) + b\n",
    "    if tmp <= 0:\n",
    "        return 0\n",
    "    elif tmp > 0:\n",
    "        return 1"
   ]
  },
  {
   "cell_type": "code",
   "execution_count": 15,
   "id": "3f5adfdd",
   "metadata": {},
   "outputs": [
    {
     "name": "stdout",
     "output_type": "stream",
     "text": [
      "0 , 1 , 1 , 1\n"
     ]
    }
   ],
   "source": [
    "print(OR(0, 0), ',', OR(0,1), ',', OR(1,0), ',', OR(1, 1))"
   ]
  },
  {
   "cell_type": "markdown",
   "id": "c8cd4ff9",
   "metadata": {},
   "source": [
    "## 2.4 퍼셉트론의 한게\n",
    "\n",
    "XOR 게이트를 생각해본다. 이는 배타적 논리합이라는 논리 회로이다. $x_1$과 $x_2$ 중 한 쪽이 1일 때만 1을 출력한다. 둘 다 1이면 1을 출력하지 않는다는 것이다.  \n",
    "지금까지 본 퍼셉트론으로는 XOR 게이트를 구현할 수 없다. (엄밀히 말하면 '단층 퍼셉트론'으로 XOR 게이트를 구현할 수 없다는 말.)\n",
    "\n",
    "OR 게이트는 $x_1$과 $x_2$ 두 축으로 이루어진 평면에서 직선으로 출력을 나눌 수 있지만, XOR 게이트는 직선으로 할 수 없다.  \n",
    "이때 곡선이라면 가능하다. 즉, 곡선의 영역을 비선형 영역이라고 하고, 직선의 영역을 선형이라고 한다.  "
   ]
  },
  {
   "attachments": {
    "image.png": {
     "image/png": "[encoded data removed]"
    }
   },
   "cell_type": "markdown",
   "id": "18f73a51",
   "metadata": {},
   "source": [
    "## 2.5  다층 퍼셉트론, XOR 게이트\n",
    "\n",
    "퍼셉트론의 아름다움은 '층을 쌓아' **다층 퍼셉트론(multi-layer perceptron)**을 만들 수 있다.  \n",
    "XOR 게이트를 만드는 방법은 다양하지만, 그 중 하나는 앞서 만튼 AND, NAND, OR을 조합하는 것이다.  \n",
    "\n",
    "NAND 와 OR 게이트에 입력이되고, 각각의 출력이 AND 게이트의 입력으로 이어지도록 한다. \n",
    "\n",
    "![image.png](attachment:image.png) _출처: https://byjus.com/neet/exclusive-or-gate/_\n",
    "\n",
    "0층의 두 뉴런이 입력 신호를 받아 1층의 뉴런으로 신호를 보내고, 1층의 뉴런이 2층의 뉴런으로 신호를 보내고, 2층의 뉴런은 이 입력 신호를 바탕으로 y를 출력한다.  "
   ]
  },
  {
   "cell_type": "code",
   "execution_count": 16,
   "id": "0eab69dd",
   "metadata": {},
   "outputs": [],
   "source": [
    "def AND(x1, x2):\n",
    "    import numpy as np\n",
    "    x = np.array([x1, x2])\n",
    "    w = np.array([0.5, 0.5])\n",
    "    b = -0.7       # -theta가 치환됨: bias -b\n",
    "    tmp = np.sum(w*x) + b\n",
    "    if tmp <= 0:\n",
    "        return 0\n",
    "    elif tmp > 0:\n",
    "        return 1\n",
    "\n",
    "def OR(x1, x2):\n",
    "#     import numpy as np\n",
    "    x = np.array([x1, x2])\n",
    "    w = np.array([0.5, 0.5])\n",
    "    b = -0.2\n",
    "    tmp = np.sum(w*x) + b\n",
    "    if tmp <= 0:\n",
    "        return 0\n",
    "    elif tmp > 0:\n",
    "        return 1\n",
    "\n",
    "def NAND(x1, x2):\n",
    "#     import numpy as np\n",
    "    x = np.array([x1, x2])\n",
    "    w = np.array([-0.5, -0.5])\n",
    "    b = 0.7\n",
    "    tmp = np.sum(w*x) + b\n",
    "    if tmp <= 0:\n",
    "        return 0\n",
    "    elif tmp > 0:\n",
    "        return 1"
   ]
  },
  {
   "cell_type": "code",
   "execution_count": 17,
   "id": "542b5d8d",
   "metadata": {},
   "outputs": [],
   "source": [
    "# 기존 게이트 활용해서 XOR 직접 만들어보기\n",
    "def MyXOR(x1, x2):\n",
    "    import numpy as np\n",
    "    s1 = OR(x1, x2)\n",
    "    s2 = NAND(x1, x2)\n",
    "    tmp = AND(s1, s2)\n",
    "    if tmp <= 0:\n",
    "        return 0\n",
    "    elif tmp > 0:\n",
    "        return 1"
   ]
  },
  {
   "cell_type": "code",
   "execution_count": 18,
   "id": "5913bd48",
   "metadata": {},
   "outputs": [
    {
     "data": {
      "text/plain": [
       "1"
      ]
     },
     "execution_count": 18,
     "metadata": {},
     "output_type": "execute_result"
    }
   ],
   "source": [
    "MyXOR(0, 1)"
   ]
  },
  {
   "cell_type": "code",
   "execution_count": 19,
   "id": "7c8280f0",
   "metadata": {},
   "outputs": [
    {
     "data": {
      "text/plain": [
       "1"
      ]
     },
     "execution_count": 19,
     "metadata": {},
     "output_type": "execute_result"
    }
   ],
   "source": [
    "MyXOR(1,0)"
   ]
  },
  {
   "cell_type": "code",
   "execution_count": 20,
   "id": "36a6562e",
   "metadata": {},
   "outputs": [
    {
     "data": {
      "text/plain": [
       "0"
      ]
     },
     "execution_count": 20,
     "metadata": {},
     "output_type": "execute_result"
    }
   ],
   "source": [
    "MyXOR(1, 1)"
   ]
  },
  {
   "cell_type": "code",
   "execution_count": 21,
   "id": "97adeeba",
   "metadata": {},
   "outputs": [],
   "source": [
    "# 교재의 XOR \n",
    "def XOR(x1, x2):\n",
    "    s1 = OR(x1, x2)\n",
    "    s2 = NAND(x1, x2)\n",
    "    y = AND(s1, s2)\n",
    "    return y"
   ]
  },
  {
   "cell_type": "markdown",
   "id": "3bb0253a",
   "metadata": {},
   "source": [
    "- XOR 게이트는 차례로 0층, 1층, 2층으로 다층 구조의 네트워크이다.  \n",
    "가중치를 갖는 층은 사실 2개뿐이니 2층 퍼셉트론으로 부르기로 한다. 문헌에 따라 구성 층의 수를 기준으로 3층 퍼셉트론이라고 하는 경우도 있다.  \n",
    "\n",
    "# 이번 2장에서 배운 것\n",
    "\n",
    "- 퍼셉트론은 입출력을 갖춘 알고리즘이다. 입력을 주면 정해진 규칙에 따른 값을 출력한다.  \n",
    "- 퍼셉트론에서는 '가중치'와 '편향'을 매개변수로 설정한다.  \n",
    "- 퍼셉트론으로 AND, OR, NAND 등의 논리 회로를 표현할 수 있다.  \n",
    "- XOR 게이트는 단층 퍼셉트론으로는 표현할 수 없다. \n",
    "- 2층 퍼셉트론을 이용하면 XOR 게이트를 표현할 수 있다. \n",
    "- 단층 퍼셉트론은 직선형 영역만 표현할 수 있고, 다층 퍼셉트론은 비선형 영역도 표현할 수 있다. \n",
    "- 다층 퍼셉트론은 (이론상) 컴퓨터를 표현할 수 있다. (정확히는 비선형인 시그모이드 함수를 활성화 함수로 이용하면 임의의 함수를 표현할 수 있다는 사실이 증명되었다고 함-3장)"
   ]
  }
 ],
 "metadata": {
  "kernelspec": {
   "display_name": "Python 3 (ipykernel)",
   "language": "python",
   "name": "python3"
  },
  "language_info": {
   "codemirror_mode": {
    "name": "ipython",
    "version": 3
   },
   "file_extension": ".py",
   "mimetype": "text/x-python",
   "name": "python",
   "nbconvert_exporter": "python",
   "pygments_lexer": "ipython3",
   "version": "3.8.5"
  },
  "toc": {
   "base_numbering": 1,
   "nav_menu": {},
   "number_sections": true,
   "sideBar": true,
   "skip_h1_title": false,
   "title_cell": "Table of Contents",
   "title_sidebar": "Contents",
   "toc_cell": false,
   "toc_position": {},
   "toc_section_display": true,
   "toc_window_display": false
  }
 },
 "nbformat": 4,
 "nbformat_minor": 5
}

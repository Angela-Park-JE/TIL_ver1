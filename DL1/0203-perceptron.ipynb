{
 "cells": [
  {
   "cell_type": "markdown",
   "id": "909e61e0",
   "metadata": {},
   "source": [
    "# 2.3 퍼셉트론 구현하기\n",
    "\n",
    "### 2.3.1 간단한 AND 게이트 구현\n",
    "\n",
    "x1, x2에 대해 가중치 0.5, 0.5, 임계값이 0.7인 간단한 퍼셉트론 구현하기\n"
   ]
  },
  {
   "cell_type": "code",
   "execution_count": 1,
   "id": "12e4e58d",
   "metadata": {},
   "outputs": [],
   "source": [
    "def AND(x1, x2):\n",
    "    w1, w2, theta = 0.5, 0.5, 0.7\n",
    "    tmp = x1*w1 + x2*w2\n",
    "    if tmp <= theta:\n",
    "        return 0\n",
    "    elif tmp > theta:\n",
    "        return 1"
   ]
  },
  {
   "cell_type": "code",
   "execution_count": 2,
   "id": "70a80379",
   "metadata": {},
   "outputs": [
    {
     "data": {
      "text/plain": [
       "0"
      ]
     },
     "execution_count": 2,
     "metadata": {},
     "output_type": "execute_result"
    }
   ],
   "source": [
    "AND(0, 0)"
   ]
  },
  {
   "cell_type": "code",
   "execution_count": 3,
   "id": "306ef48c",
   "metadata": {},
   "outputs": [
    {
     "data": {
      "text/plain": [
       "0"
      ]
     },
     "execution_count": 3,
     "metadata": {},
     "output_type": "execute_result"
    }
   ],
   "source": [
    "AND(0, 1)"
   ]
  },
  {
   "cell_type": "code",
   "execution_count": 4,
   "id": "bb850507",
   "metadata": {},
   "outputs": [
    {
     "data": {
      "text/plain": [
       "0"
      ]
     },
     "execution_count": 4,
     "metadata": {},
     "output_type": "execute_result"
    }
   ],
   "source": [
    "AND(1, 0)"
   ]
  },
  {
   "cell_type": "code",
   "execution_count": 5,
   "id": "acd6e1af",
   "metadata": {},
   "outputs": [
    {
     "data": {
      "text/plain": [
       "1"
      ]
     },
     "execution_count": 5,
     "metadata": {},
     "output_type": "execute_result"
    }
   ],
   "source": [
    "AND(1, 1)"
   ]
  },
  {
   "cell_type": "markdown",
   "id": "bb47e8c1",
   "metadata": {},
   "source": [
    "### 2.3.2 가중치와 편향 적용"
   ]
  },
  {
   "cell_type": "code",
   "execution_count": 6,
   "id": "aa4a20cb",
   "metadata": {},
   "outputs": [],
   "source": [
    "import numpy as np\n",
    "\n",
    "x = np.array([0, 1])\n",
    "w = np.array([0.5, 0.5])\n",
    "b = -0.7"
   ]
  },
  {
   "cell_type": "code",
   "execution_count": 7,
   "id": "0ec39fd2",
   "metadata": {},
   "outputs": [
    {
     "data": {
      "text/plain": [
       "array([0. , 0.5])"
      ]
     },
     "execution_count": 7,
     "metadata": {},
     "output_type": "execute_result"
    }
   ],
   "source": [
    "# weight * values\n",
    "w*x"
   ]
  },
  {
   "cell_type": "code",
   "execution_count": 8,
   "id": "ea50436a",
   "metadata": {},
   "outputs": [
    {
     "data": {
      "text/plain": [
       "0.5"
      ]
     },
     "execution_count": 8,
     "metadata": {},
     "output_type": "execute_result"
    }
   ],
   "source": [
    "# element-wise product\n",
    "np.sum(w*x)"
   ]
  },
  {
   "cell_type": "code",
   "execution_count": 9,
   "id": "2c8fad9b",
   "metadata": {},
   "outputs": [
    {
     "data": {
      "text/plain": [
       "-0.19999999999999996"
      ]
     },
     "execution_count": 9,
     "metadata": {},
     "output_type": "execute_result"
    }
   ],
   "source": [
    "# add the bias\n",
    "np.sum(w*x) + b"
   ]
  },
  {
   "cell_type": "markdown",
   "id": "e8ff0d5a",
   "metadata": {},
   "source": [
    "### 2.3.3 가중치와 편향 구현\n",
    "\n"
   ]
  },
  {
   "cell_type": "code",
   "execution_count": 10,
   "id": "b27a64cf",
   "metadata": {},
   "outputs": [],
   "source": [
    "# AND 게이트 구현\n",
    "def AND(x1, x2):\n",
    "    import numpy as np\n",
    "    x = np.array([x1, x2])\n",
    "    w = np.array([0.5, 0.5])\n",
    "    b = -0.7\n",
    "    tmp = np.sum(w*x) + b\n",
    "    if tmp <= 0:\n",
    "        return 0\n",
    "    elif tmp > 0:\n",
    "        return 1"
   ]
  },
  {
   "cell_type": "code",
   "execution_count": 11,
   "id": "e7ee28bb",
   "metadata": {},
   "outputs": [
    {
     "name": "stdout",
     "output_type": "stream",
     "text": [
      "0 , 0 , 0 , 1\n"
     ]
    }
   ],
   "source": [
    "print(AND(0, 0), ',', AND(0,1), ',', AND(1,0), ',', AND(1, 1))"
   ]
  },
  {
   "cell_type": "code",
   "execution_count": 12,
   "id": "4c4539bf",
   "metadata": {},
   "outputs": [],
   "source": [
    "# NAND 게이트 구현 (w와 b의 부호만 다름)\n",
    "def NAND(x1, x2):\n",
    "#     import numpy as np\n",
    "    x = np.array([x1, x2])\n",
    "    w = np.array([-0.5, -0.5])\n",
    "    b = 0.7\n",
    "    tmp = np.sum(w*x) + b\n",
    "    if tmp <= 0:\n",
    "        return 0\n",
    "    elif tmp > 0:\n",
    "        return 1"
   ]
  },
  {
   "cell_type": "code",
   "execution_count": 13,
   "id": "68931fb8",
   "metadata": {},
   "outputs": [
    {
     "name": "stdout",
     "output_type": "stream",
     "text": [
      "1 , 1 , 1 , 0\n"
     ]
    }
   ],
   "source": [
    "print(NAND(0, 0), ',', NAND(0,1), ',', NAND(1,0), ',', NAND(1, 1))"
   ]
  },
  {
   "cell_type": "code",
   "execution_count": 14,
   "id": "73f619ae",
   "metadata": {},
   "outputs": [],
   "source": [
    "# OR 게이트 구현 (w와 b만 다름)\n",
    "def OR(x1, x2):\n",
    "#     import numpy as np\n",
    "    x = np.array([x1, x2])\n",
    "    w = np.array([0.5, 0.5])\n",
    "    b = -0.2\n",
    "    tmp = np.sum(w*x) + b\n",
    "    if tmp <= 0:\n",
    "        return 0\n",
    "    elif tmp > 0:\n",
    "        return 1"
   ]
  },
  {
   "cell_type": "code",
   "execution_count": 15,
   "id": "3f5adfdd",
   "metadata": {},
   "outputs": [
    {
     "name": "stdout",
     "output_type": "stream",
     "text": [
      "0 , 1 , 1 , 1\n"
     ]
    }
   ],
   "source": [
    "print(OR(0, 0), ',', OR(0,1), ',', OR(1,0), ',', OR(1, 1))"
   ]
  }
 ],
 "metadata": {
  "kernelspec": {
   "display_name": "Python 3 (ipykernel)",
   "language": "python",
   "name": "python3"
  },
  "language_info": {
   "codemirror_mode": {
    "name": "ipython",
    "version": 3
   },
   "file_extension": ".py",
   "mimetype": "text/x-python",
   "name": "python",
   "nbconvert_exporter": "python",
   "pygments_lexer": "ipython3",
   "version": "3.8.8"
  }
 },
 "nbformat": 4,
 "nbformat_minor": 5
}

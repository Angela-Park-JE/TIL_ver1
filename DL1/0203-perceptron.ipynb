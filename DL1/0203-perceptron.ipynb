{
 "cells": [
  {
   "cell_type": "markdown",
   "id": "ce9ed219",
   "metadata": {},
   "source": [
    "# 2.3 퍼셉트론 구현하기\n",
    "\n",
    "### 2.3.1 간단한 AND 게이트 구현\n",
    "\n",
    "x1, x2에 대해 가중치 0.5, 0.5, 임계값이 0.7인 간단한 퍼셉트론 구현하기\n"
   ]
  },
  {
   "cell_type": "code",
   "execution_count": 1,
   "id": "840e17ef",
   "metadata": {},
   "outputs": [],
   "source": [
    "def AND(x1, x2):\n",
    "    w1, w2, theta = 0.5, 0.5, 0.7\n",
    "    tmp = x1*w1 + x2*w2\n",
    "    if tmp <= theta:\n",
    "        return 0\n",
    "    elif tmp > theta:\n",
    "        return 1"
   ]
  },
  {
   "cell_type": "code",
   "execution_count": 2,
   "id": "c5360f32",
   "metadata": {},
   "outputs": [
    {
     "data": {
      "text/plain": [
       "0"
      ]
     },
     "execution_count": 2,
     "metadata": {},
     "output_type": "execute_result"
    }
   ],
   "source": [
    "AND(0, 0)"
   ]
  },
  {
   "cell_type": "code",
   "execution_count": 3,
   "id": "1d36a2e0",
   "metadata": {},
   "outputs": [
    {
     "data": {
      "text/plain": [
       "0"
      ]
     },
     "execution_count": 3,
     "metadata": {},
     "output_type": "execute_result"
    }
   ],
   "source": [
    "AND(0, 1)"
   ]
  },
  {
   "cell_type": "code",
   "execution_count": 4,
   "id": "2938b72c",
   "metadata": {},
   "outputs": [
    {
     "data": {
      "text/plain": [
       "0"
      ]
     },
     "execution_count": 4,
     "metadata": {},
     "output_type": "execute_result"
    }
   ],
   "source": [
    "AND(1, 0)"
   ]
  },
  {
   "cell_type": "code",
   "execution_count": 5,
   "id": "9a9e7c35",
   "metadata": {},
   "outputs": [
    {
     "data": {
      "text/plain": [
       "1"
      ]
     },
     "execution_count": 5,
     "metadata": {},
     "output_type": "execute_result"
    }
   ],
   "source": [
    "AND(1, 1)"
   ]
  },
  {
   "cell_type": "markdown",
   "id": "2a6fafa0",
   "metadata": {},
   "source": [
    "### 2.3.2 가중치와 편향 적용"
   ]
  },
  {
   "cell_type": "code",
   "execution_count": 6,
   "id": "2f47b9d9",
   "metadata": {},
   "outputs": [],
   "source": [
    "import numpy as np\n",
    "\n",
    "x = np.array([0, 1])\n",
    "w = np.array([0.5, 0.5])\n",
    "b = -0.7"
   ]
  },
  {
   "cell_type": "code",
   "execution_count": 7,
   "id": "05ad963c",
   "metadata": {},
   "outputs": [
    {
     "data": {
      "text/plain": [
       "array([0. , 0.5])"
      ]
     },
     "execution_count": 7,
     "metadata": {},
     "output_type": "execute_result"
    }
   ],
   "source": [
    "# weight * values\n",
    "w*x"
   ]
  },
  {
   "cell_type": "code",
   "execution_count": 8,
   "id": "34d3951f",
   "metadata": {},
   "outputs": [
    {
     "data": {
      "text/plain": [
       "0.5"
      ]
     },
     "execution_count": 8,
     "metadata": {},
     "output_type": "execute_result"
    }
   ],
   "source": [
    "# element-wise product\n",
    "np.sum(w*x)"
   ]
  },
  {
   "cell_type": "code",
   "execution_count": 9,
   "id": "c3912289",
   "metadata": {},
   "outputs": [
    {
     "data": {
      "text/plain": [
       "-0.19999999999999996"
      ]
     },
     "execution_count": 9,
     "metadata": {},
     "output_type": "execute_result"
    }
   ],
   "source": [
    "# add the bias\n",
    "np.sum(w*x) + b"
   ]
  },
  {
   "cell_type": "markdown",
   "id": "1776ae9f",
   "metadata": {},
   "source": [
    "### 2.3.3 가중치와 편향 구현\n",
    "\n"
   ]
  },
  {
   "cell_type": "code",
   "execution_count": 10,
   "id": "7c9cc182",
   "metadata": {},
   "outputs": [],
   "source": [
    "# AND 게이트 구현\n",
    "def AND(x1, x2):\n",
    "    import numpy as np\n",
    "    x = np.array([x1, x2])\n",
    "    w = np.array([0.5, 0.5])\n",
    "    b = -0.7\n",
    "    tmp = np.sum(w*x) + b\n",
    "    if tmp <= 0:\n",
    "        return 0\n",
    "    elif tmp > 0:\n",
    "        return 1"
   ]
  },
  {
   "cell_type": "code",
   "execution_count": 11,
   "id": "d740560b",
   "metadata": {},
   "outputs": [
    {
     "name": "stdout",
     "output_type": "stream",
     "text": [
      "0 , 0 , 0 , 1\n"
     ]
    }
   ],
   "source": [
    "print(AND(0, 0), ',', AND(0,1), ',', AND(1,0), ',', AND(1, 1))"
   ]
  },
  {
   "cell_type": "code",
   "execution_count": 12,
   "id": "e547c598",
   "metadata": {},
   "outputs": [],
   "source": [
    "# NAND 게이트 구현 (w와 b의 부호만 다름)\n",
    "def NAND(x1, x2):\n",
    "#     import numpy as np\n",
    "    x = np.array([x1, x2])\n",
    "    w = np.array([-0.5, -0.5])\n",
    "    b = 0.7\n",
    "    tmp = np.sum(w*x) + b\n",
    "    if tmp <= 0:\n",
    "        return 0\n",
    "    elif tmp > 0:\n",
    "        return 1"
   ]
  },
  {
   "cell_type": "code",
   "execution_count": 13,
   "id": "f5b79e1f",
   "metadata": {},
   "outputs": [
    {
     "name": "stdout",
     "output_type": "stream",
     "text": [
      "1 , 1 , 1 , 0\n"
     ]
    }
   ],
   "source": [
    "print(NAND(0, 0), ',', NAND(0,1), ',', NAND(1,0), ',', NAND(1, 1))"
   ]
  }
 ],
 "metadata": {
  "kernelspec": {
   "display_name": "Python 3 (ipykernel)",
   "language": "python",
   "name": "python3"
  },
  "language_info": {
   "codemirror_mode": {
    "name": "ipython",
    "version": 3
   },
   "file_extension": ".py",
   "mimetype": "text/x-python",
   "name": "python",
   "nbconvert_exporter": "python",
   "pygments_lexer": "ipython3",
   "version": "3.8.8"
  }
 },
 "nbformat": 4,
 "nbformat_minor": 5
}

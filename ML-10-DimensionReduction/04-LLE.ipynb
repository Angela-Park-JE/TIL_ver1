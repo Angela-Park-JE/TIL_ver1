{
 "cells": [
  {
   "cell_type": "markdown",
   "id": "dee0e18b",
   "metadata": {},
   "source": [
    "# 지역 선형 임베딩 (LLE:Locally LInear Embedding) 실습\n",
    "\n",
    "---\n",
    "\n",
    "**Locally LInear Embedding**\n",
    "\n",
    "데이터 포인트의 이웃 데이터 중 이웃 데이터를 K개 정하여, 해당 포인트와 K개의 이웃 데이터를 하나의 덩어리라고 가정하고 데이터를 재구성하는 개념이다.\n",
    "\n",
    "특정 데이터 포인트보다 주변의 이웃 데이터들이 더 중요하다.\n",
    "\n",
    "K개 정하였을 때, 데이터를 재구성 할 때 재구성 에러를 최소화 해야한다. 재구성 에러 함수가 목적 함수에 해당한다고 볼 수 있다.\n",
    "\n",
    "전체 가중치 행렬 $\\boldsymbol{\\Sigma}_W$의 각 행 원소(row element)의 합은 1이 된다. ( $ \\Sigma_{j} w_{ij} = 1$ )\n",
    "\n",
    "> LLE에서는 데이터 주변의 이웃 관계를 유지하면서 새로운 공간에 투영하는 것이 중요하다. 새로운 공간에서의 데이터와 해당 데이터 포인트 주변의 이웃 K 개의 데이터 간의 거리를 최소화하는 문제와 동일하다.\n",
    "\n",
    "수식을 함께 참고하기 위해 다른 페이지를 참조하였다: \n",
    " \n",
    "---\n",
    "##### 핸즈온 머신러닝 차원 축소 - Locally Linear Embedding (LLE)\n",
    "_출처: https://excelsior-cjh.tistory.com/168 [EXCELSIOR:티스토리]_\n",
    "\n",
    "LLE는 비선형 차원 축소(NonLinear Dimensionality Reduction, NLDR) 기법으로 PCA와 달리 투영(projection)이 아닌 **매니폴드 학습(manifold learning)** 이다.\n",
    "\n",
    "$ ϵ(W)=∑_{i=1}^n∥x_{i} − ∑_{x_j∈x_i의이웃}w_{ij}x_{j}∥^2_2 $\n",
    "\n",
    "- 새로운 데이터에 대한 예측은 변형된 공간에서의 각 집단별 평균을 구해 가장 가까운 집단으로 구분한다. \n",
    "---\n",
    "##### 귀납적(inductive) 학습 모델과 transductive 학습 모델: [Manifold Learning] IsoMap, LLE, t-SNE 설명\n",
    "_출처: https://wordbe.tistory.com/entry/Manifold-Learning-IsoMap-LLE-t-SNE-%EC%84%A4%EB%AA%85_\n",
    "\n",
    "        IsoMap, LLE, t-SNE 출력을 생각해보면, '변환된 데이터' 임을 알 수 있습니다.\n",
    "\n",
    "        PCA나 autoencoder가 최적화된 매개변수를 출력하는 것과는 다르다는 것을 알 수 있습니다.\n",
    "\n",
    "        따라서 t-SNE 등과 같은 알고리즘은 새로운 샘플이 입력되면 처리할 수 없습니다.\n",
    "\n",
    "        기계학습에서는 이처럼 새로운 샘플을 처리할 능력이 없는 모델을 트랜스덕티브(transductive) 학습 모델이라고 합니다. (Vapnik, 1998) (IsoMap, LLe, t-SNE, semi-supervised 그래프 최소분할)\n",
    "\n",
    "        반면, 새로운 샘플을 처리할 수 있는 모델 학습은 귀납적(inductive) 모델 학습이라고 합니다.\n",
    "\n",
    "        주어진 과업이 데이터 가시화(data visulization)라면 트랜스덕티브한 모델의 결과가 더 우월합니다.\n",
    "\n",
    "        PCA는 선형 모델이므로 비선형 구조의 데이터를 제대로 처리할 수 없으며, 오토인코더는 비선형 처리가 가능하지만 데이터의 지역적 구조를 제대로 표현하지 못하기 때문입니다.\n",
    "\n",
    "        한편, t-SNE는 귀납적 모델로 확장이 가능합니다.(Maaten, 2009) 이러한 parametric t-SNE 기법은 RBM을 적층한 전방 신경망 구조를 채택하였고, 학습은 stacked autoencoer와 마찬가지로 층별 예비학습과 fine-tune 단계를 거칩니다. 또한 t-SNE가 사용한 목적함수를 개조해서 매니폴드의 비선형 구조를 제대로 표현합니다.\n",
    "\n",
    "##### 10.5.2 LLE 개념을 활용하여 와인의 종류를 분류하는 모형을 만들어보자.\n",
    "\n",
    "\n"
   ]
  },
  {
   "cell_type": "markdown",
   "id": "29cf1d3d",
   "metadata": {},
   "source": [
    "# Dataset import\n",
    "## 데이터 불러오기"
   ]
  },
  {
   "cell_type": "code",
   "execution_count": 1,
   "id": "393ce3e9",
   "metadata": {},
   "outputs": [],
   "source": [
    "import pandas as pd\n",
    "import numpy as np\n",
    "\n",
    "from sklearn import datasets\n",
    "raw_wine = datasets.load_wine()"
   ]
  },
  {
   "cell_type": "code",
   "execution_count": 2,
   "id": "1fee972a",
   "metadata": {},
   "outputs": [
    {
     "data": {
      "text/plain": [
       "['alcohol',\n",
       " 'malic_acid',\n",
       " 'ash',\n",
       " 'alcalinity_of_ash',\n",
       " 'magnesium',\n",
       " 'total_phenols',\n",
       " 'flavanoids',\n",
       " 'nonflavanoid_phenols',\n",
       " 'proanthocyanins',\n",
       " 'color_intensity',\n",
       " 'hue',\n",
       " 'od280/od315_of_diluted_wines',\n",
       " 'proline']"
      ]
     },
     "execution_count": 2,
     "metadata": {},
     "output_type": "execute_result"
    }
   ],
   "source": [
    "# 데이터 셋 내 피처 살펴보기\n",
    "raw_wine.feature_names"
   ]
  },
  {
   "cell_type": "markdown",
   "id": "53e0dae9",
   "metadata": {},
   "source": [
    "# 피처, 타깃 데이터 지정"
   ]
  },
  {
   "cell_type": "code",
   "execution_count": 3,
   "id": "e76b530f",
   "metadata": {},
   "outputs": [],
   "source": [
    "X = raw_wine.data\n",
    "y = raw_wine.target"
   ]
  },
  {
   "cell_type": "markdown",
   "id": "65d631e3",
   "metadata": {},
   "source": [
    "## 트레이닝, 테스트 데이터 분할"
   ]
  },
  {
   "cell_type": "code",
   "execution_count": 4,
   "id": "d674bf94",
   "metadata": {},
   "outputs": [],
   "source": [
    "from sklearn.model_selection import train_test_split\n",
    "\n",
    "X_tn, X_te, y_tn, y_te = train_test_split(X, y, random_state = 1)"
   ]
  },
  {
   "cell_type": "markdown",
   "id": "d080bc7a",
   "metadata": {},
   "source": [
    "## 데이터 표준화"
   ]
  },
  {
   "cell_type": "code",
   "execution_count": 5,
   "id": "f9edad99",
   "metadata": {},
   "outputs": [],
   "source": [
    "from sklearn.preprocessing import StandardScaler\n",
    "\n",
    "# X 트레이닝 데이터 기준으로 std scaler fitting, Xtn Xte모두.\n",
    "std_scale = StandardScaler()\n",
    "std_scale.fit(X_tn)\n",
    "X_tn_std = std_scale.transform(X_tn)\n",
    "X_te_std = std_scale.transform(X_te)"
   ]
  },
  {
   "cell_type": "markdown",
   "id": "b601f993",
   "metadata": {},
   "source": [
    "# LLE fitting\n",
    "\n",
    "LLE는 manifold 라이브러리 안에 있다.\n",
    "\n",
    "n_components 옵션으로 변환시킬 차원 수를 정할 수 있다.\n",
    "\n",
    "parameter를 뜯어보니 기본 k는 5로 설정되어있음을 볼 수 있었다."
   ]
  },
  {
   "cell_type": "code",
   "execution_count": 6,
   "id": "585bfbc2",
   "metadata": {},
   "outputs": [],
   "source": [
    "from sklearn.manifold import LocallyLinearEmbedding\n",
    "\n",
    "lle = LocallyLinearEmbedding(n_components = 2)      # LLE 모형 설정\n",
    "lle.fit(X_tn_std, y_tn)                             # 트레이닝 데이터를 넣고 적합\n",
    "\n",
    "X_tn_lle = lle.transform(X_tn_std)                  # 각각 차원축소 시킴\n",
    "X_te_lle = lle.transform(X_te_std)"
   ]
  },
  {
   "cell_type": "markdown",
   "id": "c784a589",
   "metadata": {},
   "source": [
    "##### Parameters\n",
    "----------\n",
    "    n_neighbors : int, default=5\n",
    "        Number of neighbors to consider for each point.\n",
    "\n",
    "    n_components : int, default=2\n",
    "        Number of coordinates for the manifold.\n",
    "\n",
    "    reg : float, default=1e-3\n",
    "        Regularization constant, multiplies the trace of the local covariance\n",
    "        matrix of the distances.\n",
    "\n",
    "    eigen_solver : {'auto', 'arpack', 'dense'}, default='auto'\n",
    "        The solver used to compute the eigenvectors. The available options are:\n",
    "\n",
    "        - `'auto'` : algorithm will attempt to choose the best method for input\n",
    "          data.\n",
    "        - `'arpack'` : use arnoldi iteration in shift-invert mode. For this\n",
    "          method, M may be a dense matrix, sparse matrix, or general linear\n",
    "          operator.\n",
    "        - `'dense'`  : use standard dense matrix operations for the eigenvalue\n",
    "          decomposition. For this method, M must be an array or matrix type.\n",
    "          This method should be avoided for large problems.\n",
    "\n",
    "        .. warning::\n",
    "           ARPACK can be unstable for some problems.  It is best to try several\n",
    "           random seeds in order to check results.\n",
    "\n",
    "    tol : float, default=1e-6\n",
    "        Tolerance for 'arpack' method\n",
    "        Not used if eigen_solver=='dense'.\n",
    "\n",
    "    max_iter : int, default=100\n",
    "        Maximum number of iterations for the arpack solver.\n",
    "        Not used if eigen_solver=='dense'.\n",
    "\n",
    "    method : {'standard', 'hessian', 'modified', 'ltsa'}, default='standard'\n",
    "\n",
    "        - `standard`: use the standard locally linear embedding algorithm. see\n",
    "          reference [1]_\n",
    "        - `hessian`: use the Hessian eigenmap method. This method requires\n",
    "          ``n_neighbors > n_components * (1 + (n_components + 1) / 2``. see\n",
    "          reference [2]_\n",
    "        - `modified`: use the modified locally linear embedding algorithm.\n",
    "          see reference [3]_\n",
    "        - `ltsa`: use local tangent space alignment algorithm. see\n",
    "          reference [4]_\n",
    "\n",
    "    hessian_tol : float, default=1e-4\n",
    "        Tolerance for Hessian eigenmapping method.\n",
    "        Only used if ``method == 'hessian'``.\n",
    "\n",
    "    modified_tol : float, default=1e-12\n",
    "        Tolerance for modified LLE method.\n",
    "        Only used if ``method == 'modified'``.\n",
    "\n",
    "    neighbors_algorithm : {'auto', 'brute', 'kd_tree', 'ball_tree'},                           default='auto'\n",
    "        Algorithm to use for nearest neighbors search, passed to\n",
    "        :class:`~sklearn.neighbors.NearestNeighbors` instance.\n",
    "\n",
    "    random_state : int, RandomState instance, default=None\n",
    "        Determines the random number generator when\n",
    "        ``eigen_solver`` == 'arpack'. Pass an int for reproducible results\n",
    "        across multiple function calls. See :term:`Glossary <random_state>`.\n",
    "\n",
    "    n_jobs : int or None, default=None\n",
    "        The number of parallel jobs to run.\n",
    "        ``None`` means 1 unless in a :obj:`joblib.parallel_backend` context.\n",
    "        ``-1`` means using all processors. See :term:`Glossary <n_jobs>`\n",
    "        for more details."
   ]
  },
  {
   "cell_type": "markdown",
   "id": "4b136621",
   "metadata": {},
   "source": [
    "## 데이터 차원 축소 전후 확인"
   ]
  },
  {
   "cell_type": "code",
   "execution_count": 7,
   "id": "5eb3ae48",
   "metadata": {},
   "outputs": [
    {
     "name": "stdout",
     "output_type": "stream",
     "text": [
      "(133, 13)\n"
     ]
    }
   ],
   "source": [
    "# 원래의 데이터 크기\n",
    "\n",
    "print(X_tn_std.shape)"
   ]
  },
  {
   "cell_type": "code",
   "execution_count": 8,
   "id": "51c724f0",
   "metadata": {},
   "outputs": [
    {
     "name": "stdout",
     "output_type": "stream",
     "text": [
      "(133, 2)\n"
     ]
    }
   ],
   "source": [
    "# 축소된 데이터 크기\n",
    "\n",
    "print(X_tn_lle.shape)"
   ]
  },
  {
   "cell_type": "markdown",
   "id": "c66047bb",
   "metadata": {},
   "source": [
    "2차원으로차원 축소되어 133개의 데이터가 존재한다."
   ]
  },
  {
   "cell_type": "markdown",
   "id": "fb47f151",
   "metadata": {},
   "source": [
    "## LLE 임베딩 벡터 확인\n"
   ]
  },
  {
   "cell_type": "code",
   "execution_count": 11,
   "id": "da4e20b5",
   "metadata": {},
   "outputs": [
    {
     "name": "stdout",
     "output_type": "stream",
     "text": [
      "[[ 0.10370077  0.03797149]\n",
      " [ 0.07222626  0.00764776]\n",
      " [ 0.11291288  0.05930921]\n",
      " [ 0.11560401  0.06205209]\n",
      " [ 0.11854756  0.06719633]\n",
      " [-0.02664269 -0.13181186]\n",
      " [-0.10501921  0.07537654]\n",
      " [-0.10326081  0.07047313]\n",
      " [ 0.10811266  0.04689056]\n",
      " [-0.04377827 -0.09418701]\n",
      " [ 0.0712414   0.01801874]\n",
      " [ 0.13033709  0.08810276]\n",
      " [ 0.02991311 -0.04069974]\n",
      " [-0.07898669  0.01497572]\n",
      " [ 0.03473125 -0.05744147]\n",
      " [ 0.01943026 -0.04529514]\n",
      " [ 0.11959649  0.07007802]\n",
      " [-0.10317351  0.07114343]\n",
      " [-0.02752016 -0.14962908]\n",
      " [-0.1164511   0.10200801]\n",
      " [ 0.10508563  0.04186687]\n",
      " [-0.01462819 -0.16313682]\n",
      " [ 0.06810266 -0.0169578 ]\n",
      " [-0.01732533 -0.16242923]\n",
      " [ 0.11454199  0.05901053]\n",
      " [-0.09625792  0.05485706]\n",
      " [-0.11013016  0.08772677]\n",
      " [-0.10843424  0.08356562]\n",
      " [-0.10619192  0.07755468]\n",
      " [-0.08729218  0.04167607]\n",
      " [-0.03682447 -0.05761368]\n",
      " [ 0.09367018  0.02624216]\n",
      " [-0.10295085  0.06762962]\n",
      " [ 0.11999055  0.07023365]\n",
      " [-0.06361883 -0.0199435 ]\n",
      " [-0.11550832  0.09903396]\n",
      " [ 0.11279934  0.05534145]\n",
      " [-0.01480272 -0.14963322]\n",
      " [ 0.09097877  0.0177418 ]\n",
      " [-0.11129768  0.08887578]\n",
      " [-0.06350492 -0.02242311]\n",
      " [ 0.06246531 -0.02636424]\n",
      " [ 0.11911483  0.06843243]\n",
      " [-0.00792097 -0.12221016]\n",
      " [-0.03631181 -0.12179878]\n",
      " [-0.02579461 -0.16485912]\n",
      " [ 0.09295664  0.02351943]\n",
      " [ 0.03188792 -0.07080559]\n",
      " [ 0.06818446 -0.01439848]\n",
      " [-0.05730272 -0.05525765]\n",
      " [-0.09883839  0.05929349]\n",
      " [-0.01586358 -0.17146571]\n",
      " [-0.01672269 -0.17041903]\n",
      " [-0.02204577 -0.1723805 ]\n",
      " [ 0.06678143  0.01426048]\n",
      " [ 0.11436298  0.0595111 ]\n",
      " [ 0.10260414  0.0373604 ]\n",
      " [ 0.0997909   0.03011605]\n",
      " [-0.11259142  0.09204803]\n",
      " [ 0.09885983  0.02607939]\n",
      " [-0.07858605  0.00082623]\n",
      " [-0.084302    0.0229665 ]\n",
      " [-0.10603904  0.07684319]\n",
      " [ 0.09496388  0.02139363]\n",
      " [-0.02757692 -0.09910238]\n",
      " [ 0.12166793  0.07041667]\n",
      " [-0.01814073 -0.17633886]\n",
      " [-0.01530843 -0.15877534]\n",
      " [ 0.11452847  0.05834804]\n",
      " [-0.10320436  0.07020295]\n",
      " [-0.01613968 -0.16929274]\n",
      " [-0.0193291  -0.10716739]\n",
      " [-0.12046407  0.11290301]\n",
      " [-0.10110371  0.06439205]\n",
      " [-0.02998362 -0.14469412]\n",
      " [ 0.04902972 -0.04338483]\n",
      " [-0.02154733 -0.17381898]\n",
      " [-0.09971112  0.0625639 ]\n",
      " [-0.10375299  0.0710789 ]\n",
      " [-0.0288432  -0.10242084]\n",
      " [ 0.11466711  0.06136667]\n",
      " [-0.03040775 -0.14349819]\n",
      " [ 0.06825681 -0.01840047]\n",
      " [-0.09935535  0.05653994]\n",
      " [ 0.04446691 -0.05338093]\n",
      " [-0.01740723 -0.14034382]\n",
      " [ 0.11790976  0.06591575]\n",
      " [ 0.12119223  0.07147328]\n",
      " [-0.00269915 -0.10647415]\n",
      " [ 0.0562949  -0.03606248]\n",
      " [ 0.12629369  0.07981134]\n",
      " [ 0.11811673  0.06662161]\n",
      " [-0.10602982  0.07713197]\n",
      " [ 0.11456055  0.05912476]\n",
      " [-0.12114437  0.11396084]\n",
      " [-0.10363782  0.0710784 ]\n",
      " [ 0.12048444  0.07130553]\n",
      " [ 0.09123947  0.02964363]\n",
      " [-0.01909976 -0.13209886]\n",
      " [-0.10249116  0.06678007]\n",
      " [ 0.10671965  0.04489305]\n",
      " [-0.03210618 -0.05510616]\n",
      " [-0.02568002 -0.16011489]\n",
      " [ 0.1074142   0.04210225]\n",
      " [ 0.12077344  0.07166584]\n",
      " [ 0.11909469  0.06587289]\n",
      " [-0.04519954 -0.03071079]\n",
      " [ 0.03121498 -0.0709812 ]\n",
      " [ 0.09360186  0.02404615]\n",
      " [-0.10553282  0.07566127]\n",
      " [-0.11051108  0.08804668]\n",
      " [-0.03505464 -0.1190506 ]\n",
      " [-0.03553034  0.03426303]\n",
      " [-0.01487209 -0.0527306 ]\n",
      " [ 0.11017831  0.05066087]\n",
      " [-0.11020285  0.08673048]\n",
      " [-0.10731603  0.07979049]\n",
      " [-0.10353821  0.07064577]\n",
      " [-0.10982747  0.0860409 ]\n",
      " [-0.10483871  0.07207522]\n",
      " [-0.0092534  -0.14381871]\n",
      " [ 0.0903019   0.01575679]\n",
      " [ 0.12420843  0.07796707]\n",
      " [-0.06826823 -0.01537622]\n",
      " [ 0.05841631 -0.02674777]\n",
      " [-0.04361163 -0.10066293]\n",
      " [-0.11196061  0.09136494]\n",
      " [-0.00382491 -0.1014684 ]\n",
      " [-0.12246751  0.11758882]\n",
      " [-0.10674483  0.07740897]\n",
      " [ 0.00163096 -0.11905171]\n",
      " [-0.11199196  0.09147604]\n",
      " [ 0.10587132  0.04226829]]\n"
     ]
    }
   ],
   "source": [
    "print(lle.embedding_)"
   ]
  },
  {
   "cell_type": "markdown",
   "id": "6a286e33",
   "metadata": {},
   "source": [
    "이들이 바로 차원축소 된 2차원 안에서의 이웃들로 구성된 데이터 포인트인 것으로 생각된다."
   ]
  },
  {
   "cell_type": "markdown",
   "id": "130ebdda",
   "metadata": {},
   "source": [
    "## LLE 적용 후 데이터 확인\n",
    "\n",
    "데이터 프레임으로 바꾸는 이유는 데이터 시각화에 유리하기 때문이다. 그렇다."
   ]
  },
  {
   "cell_type": "code",
   "execution_count": 12,
   "id": "01e579e4",
   "metadata": {},
   "outputs": [
    {
     "data": {
      "text/html": [
       "<div>\n",
       "<style scoped>\n",
       "    .dataframe tbody tr th:only-of-type {\n",
       "        vertical-align: middle;\n",
       "    }\n",
       "\n",
       "    .dataframe tbody tr th {\n",
       "        vertical-align: top;\n",
       "    }\n",
       "\n",
       "    .dataframe thead th {\n",
       "        text-align: right;\n",
       "    }\n",
       "</style>\n",
       "<table border=\"1\" class=\"dataframe\">\n",
       "  <thead>\n",
       "    <tr style=\"text-align: right;\">\n",
       "      <th></th>\n",
       "      <th>lle_comp1</th>\n",
       "      <th>lle_comp2</th>\n",
       "      <th>target</th>\n",
       "    </tr>\n",
       "  </thead>\n",
       "  <tbody>\n",
       "    <tr>\n",
       "      <th>0</th>\n",
       "      <td>0.103667</td>\n",
       "      <td>0.037909</td>\n",
       "      <td>0</td>\n",
       "    </tr>\n",
       "    <tr>\n",
       "      <th>1</th>\n",
       "      <td>0.072231</td>\n",
       "      <td>0.007653</td>\n",
       "      <td>1</td>\n",
       "    </tr>\n",
       "    <tr>\n",
       "      <th>2</th>\n",
       "      <td>0.112879</td>\n",
       "      <td>0.059241</td>\n",
       "      <td>0</td>\n",
       "    </tr>\n",
       "    <tr>\n",
       "      <th>3</th>\n",
       "      <td>0.115604</td>\n",
       "      <td>0.062051</td>\n",
       "      <td>0</td>\n",
       "    </tr>\n",
       "    <tr>\n",
       "      <th>4</th>\n",
       "      <td>0.118543</td>\n",
       "      <td>0.067187</td>\n",
       "      <td>0</td>\n",
       "    </tr>\n",
       "  </tbody>\n",
       "</table>\n",
       "</div>"
      ],
      "text/plain": [
       "   lle_comp1  lle_comp2  target\n",
       "0   0.103667   0.037909       0\n",
       "1   0.072231   0.007653       1\n",
       "2   0.112879   0.059241       0\n",
       "3   0.115604   0.062051       0\n",
       "4   0.118543   0.067187       0"
      ]
     },
     "execution_count": 12,
     "metadata": {},
     "output_type": "execute_result"
    }
   ],
   "source": [
    "# 해당 lle 데이터를 데이터 프레임으로 만들고 차원에 이름을 붙여준다. composition으로 이야기 하지만 사실 축소된 차원의 각 축일 뿐이다.\n",
    "\n",
    "lle_columns = ['lle_comp1', 'lle_comp2']\n",
    "X_tn_lle_df = pd.DataFrame(X_tn_lle, columns = lle_columns)\n",
    "\n",
    "# 그리고 타겟 데이터에 y_tn을 붙여준다.\n",
    "\n",
    "X_tn_lle_df['target'] = y_tn\n",
    "X_tn_lle_df.head(5)"
   ]
  },
  {
   "cell_type": "markdown",
   "id": "f560803d",
   "metadata": {},
   "source": [
    "## 라벨 미적용 LLE 데이터 시각화\n",
    "\n",
    "라벨이 적용되기 전 나누어진 데이터들을 시각적으로 확인한다."
   ]
  },
  {
   "cell_type": "code",
   "execution_count": 13,
   "id": "69390933",
   "metadata": {},
   "outputs": [
    {
     "data": {
      "image/png": "[encoded data removed]",
      "text/plain": [
       "<Figure size 432x288 with 1 Axes>"
      ]
     },
     "metadata": {
      "needs_background": "light"
     },
     "output_type": "display_data"
    }
   ],
   "source": [
    "import matplotlib.pyplot as plt\n",
    "\n",
    "plt.scatter(X_tn_lle_df['lle_comp1'], X_tn_lle_df['lle_comp2'], marker = 'o') # 각 피처를 요소에 넣고, 마커를 설정\n",
    "plt.xlabel('lle_component1')\n",
    "plt.ylabel('lle_component2')\n",
    "plt.show()"
   ]
  },
  {
   "cell_type": "markdown",
   "id": "414acff1",
   "metadata": {},
   "source": [
    "이전에 비해 모양이 상당히 간소화된 것을 볼 수 있다. 이전에는 좌 우 측의 인접한 데이터포인트들이 저렇게 선형에 가깝게 있을 정도는 아니었다..\n",
    "\n",
    "## 라벨 적용 LLE 데이터 시각화"
   ]
  },
  {
   "cell_type": "code",
   "execution_count": 15,
   "id": "a781bff1",
   "metadata": {},
   "outputs": [
    {
     "data": {
      "image/png": "[encoded data removed]",
      "text/plain": [
       "<Figure size 432x288 with 1 Axes>"
      ]
     },
     "metadata": {
      "needs_background": "light"
     },
     "output_type": "display_data"
    }
   ],
   "source": [
    "df = X_tn_lle_df\n",
    "markers = ['o', 'x', '^']                   # 데이터 포인트 마커 지정\n",
    "\n",
    "for i, mark in enumerate(markers):          # 클래스가 3개이기 때문에 3번 반복됨. 마커가 3개로 3번 반복된다.\n",
    "    df_i = df[df['target']== i]             # 해당 클래스가 있는 데이터프레임 지정\n",
    "    target_i = raw_wine.target_names[i]     # 클래스 저장\n",
    "    X1 = df_i['lle_comp1']\n",
    "    X2 = df_i['lle_comp2']\n",
    "    plt.scatter(X1, X2, marker = mark, label = target_i)\n",
    "\n",
    "plt.xlabel('lle_component1')\n",
    "plt.ylabel('lle_component2')\n",
    "plt.legend()                                # 범례 추가하기\n",
    "plt.show()"
   ]
  },
  {
   "cell_type": "markdown",
   "id": "5da8cb5c",
   "metadata": {},
   "source": [
    "확실히 잘 나누어져 있는 것처럼 보인다. 다음은 정확도를 보도록 한다."
   ]
  },
  {
   "cell_type": "markdown",
   "id": "5c1f4e5d",
   "metadata": {},
   "source": [
    "# LLE 적용 전후 데이터 예측 정확도 측정\n",
    "\n",
    "## LLE 적용 이전 데이터 학습\n",
    "\n",
    "비교를 위해 적용 전도 데이터 학습하여 예측하여 정확도를 보도록 해야겠다."
   ]
  },
  {
   "cell_type": "code",
   "execution_count": 16,
   "id": "250e6b83",
   "metadata": {},
   "outputs": [],
   "source": [
    "# 랜덤포레스트분류기 사용\n",
    "\n",
    "from sklearn.ensemble import RandomForestClassifier\n",
    "\n",
    "clf_rf_std = RandomForestClassifier(max_depth = 2, random_state = 1)\n",
    "clf_rf_std.fit(X_tn_std, y_tn)\n",
    "pred_rf_std = clf_rf_std.predict(X_te_std)"
   ]
  },
  {
   "cell_type": "markdown",
   "id": "bcf86547",
   "metadata": {},
   "source": [
    "### 적용 전 예측 정확도"
   ]
  },
  {
   "cell_type": "code",
   "execution_count": 17,
   "id": "295a80e2",
   "metadata": {},
   "outputs": [
    {
     "name": "stdout",
     "output_type": "stream",
     "text": [
      "0.9777777777777777\n"
     ]
    }
   ],
   "source": [
    "from sklearn.metrics import accuracy_score\n",
    "accuracy = accuracy_score(y_te, pred_rf_std)\n",
    "\n",
    "print(accuracy)"
   ]
  },
  {
   "cell_type": "markdown",
   "id": "24cd06cf",
   "metadata": {},
   "source": [
    "## LLE 적용 이후 데이터 학습"
   ]
  },
  {
   "cell_type": "code",
   "execution_count": 18,
   "id": "9388b7ff",
   "metadata": {},
   "outputs": [],
   "source": [
    "# from sklearn.ensemble import RandomForestClassifier\n",
    "\n",
    "clf_rf_lle = RandomForestClassifier(max_depth = 2, random_state = 1)\n",
    "clf_rf_lle.fit(X_tn_lle, y_tn)\n",
    "pred_rf_lle = clf_rf_lle.predict(X_te_lle)"
   ]
  },
  {
   "cell_type": "markdown",
   "id": "7609ac00",
   "metadata": {},
   "source": [
    "### 적용 후 예측 정확도"
   ]
  },
  {
   "cell_type": "code",
   "execution_count": 19,
   "id": "18f2a1b1",
   "metadata": {},
   "outputs": [
    {
     "name": "stdout",
     "output_type": "stream",
     "text": [
      "0.9555555555555556\n"
     ]
    }
   ],
   "source": [
    "from sklearn.metrics import accuracy_score\n",
    "accuracy = accuracy_score(y_te, pred_rf_lle)\n",
    "\n",
    "print(accuracy)"
   ]
  },
  {
   "cell_type": "markdown",
   "id": "605369c8",
   "metadata": {},
   "source": [
    "\n",
    "# confusion matrix 비교\n",
    "\n",
    "## LLE 전"
   ]
  },
  {
   "cell_type": "code",
   "execution_count": 20,
   "id": "ef505ff8",
   "metadata": {},
   "outputs": [
    {
     "name": "stdout",
     "output_type": "stream",
     "text": [
      "[[18  0  0]\n",
      " [ 1 16  0]\n",
      " [ 0  0 10]]\n"
     ]
    }
   ],
   "source": [
    "# LLE 적용 전\n",
    "\n",
    "from sklearn.metrics import confusion_matrix\n",
    "conf_matrix = confusion_matrix(y_te, pred_rf_std)\n",
    "print(conf_matrix)"
   ]
  },
  {
   "cell_type": "markdown",
   "id": "e44d8250",
   "metadata": {},
   "source": [
    "## LLE 후"
   ]
  },
  {
   "cell_type": "code",
   "execution_count": 21,
   "id": "88cab1bd",
   "metadata": {},
   "outputs": [
    {
     "name": "stdout",
     "output_type": "stream",
     "text": [
      "[[17  1  0]\n",
      " [ 1 16  0]\n",
      " [ 0  0 10]]\n"
     ]
    }
   ],
   "source": [
    "# LLE 적용 후\n",
    "\n",
    "from sklearn.metrics import confusion_matrix\n",
    "conf_matrix = confusion_matrix(y_te, pred_rf_lle)\n",
    "print(conf_matrix)"
   ]
  },
  {
   "cell_type": "markdown",
   "id": "ccc3a97c",
   "metadata": {},
   "source": [
    "클래스1을 0으로 오분류한 LLE전에 더해서 클래스 0을 1로 오분류했다.\n",
    "\n",
    "# report 비교\n",
    "\n",
    "## LLE 전"
   ]
  },
  {
   "cell_type": "code",
   "execution_count": 22,
   "id": "9aa8dc39",
   "metadata": {},
   "outputs": [
    {
     "name": "stdout",
     "output_type": "stream",
     "text": [
      "              precision    recall  f1-score   support\n",
      "\n",
      "           0       0.95      1.00      0.97        18\n",
      "           1       1.00      0.94      0.97        17\n",
      "           2       1.00      1.00      1.00        10\n",
      "\n",
      "    accuracy                           0.98        45\n",
      "   macro avg       0.98      0.98      0.98        45\n",
      "weighted avg       0.98      0.98      0.98        45\n",
      "\n"
     ]
    }
   ],
   "source": [
    "# LLE 적용 전\n",
    "\n",
    "from sklearn.metrics import classification_report\n",
    "class_report = classification_report(y_te, pred_rf_std)\n",
    "print(class_report)"
   ]
  },
  {
   "cell_type": "markdown",
   "id": "e7fb25c1",
   "metadata": {},
   "source": [
    "## LLE 후"
   ]
  },
  {
   "cell_type": "code",
   "execution_count": 23,
   "id": "c68f8fec",
   "metadata": {},
   "outputs": [
    {
     "name": "stdout",
     "output_type": "stream",
     "text": [
      "              precision    recall  f1-score   support\n",
      "\n",
      "           0       0.94      0.94      0.94        18\n",
      "           1       0.94      0.94      0.94        17\n",
      "           2       1.00      1.00      1.00        10\n",
      "\n",
      "    accuracy                           0.96        45\n",
      "   macro avg       0.96      0.96      0.96        45\n",
      "weighted avg       0.96      0.96      0.96        45\n",
      "\n"
     ]
    }
   ],
   "source": [
    "# LLE 적용 후\n",
    "\n",
    "from sklearn.metrics import classification_report\n",
    "class_report = classification_report(y_te, pred_rf_lle)\n",
    "print(class_report)"
   ]
  },
  {
   "cell_type": "markdown",
   "id": "b8288a72",
   "metadata": {},
   "source": [
    "## Commentary\n",
    "\n",
    "정확히 어떤 것을(어떤 벡터 위치?)에 있는 것을 틀렸는지 알 수 있으면 재밌을텐데!"
   ]
  },
  {
   "cell_type": "markdown",
   "id": "fd699901",
   "metadata": {},
   "source": [
    "# 실험1: n_composition = 3 으로 지정했을 때"
   ]
  },
  {
   "cell_type": "code",
   "execution_count": 26,
   "id": "825266ba",
   "metadata": {},
   "outputs": [
    {
     "name": "stdout",
     "output_type": "stream",
     "text": [
      "origin data volume: (133, 13)\n",
      "after LLE volume: (133, 3)\n",
      "Embedding Vectors : \n",
      " [[ 1.03700769e-01  3.79714889e-02 -2.37885519e-04]\n",
      " [ 7.22262585e-02  7.64775612e-03  2.37940733e-02]\n",
      " [ 1.12912882e-01  5.93092104e-02 -5.70167406e-03]\n",
      " [ 1.15604009e-01  6.20520904e-02 -4.48270436e-03]\n",
      " [ 1.18547556e-01  6.71963261e-02 -4.95199471e-03]\n",
      " [-2.66426865e-02 -1.31811858e-01 -1.70777974e-02]\n",
      " [-1.05019210e-01  7.53765403e-02 -1.51013767e-01]\n",
      " [-1.03260811e-01  7.04731342e-02 -1.17019284e-01]\n",
      " [ 1.08112662e-01  4.68905620e-02 -1.67065962e-03]\n",
      " [-4.37782740e-02 -9.41870050e-02 -2.81165279e-02]\n",
      " [ 7.12414031e-02  1.80187418e-02  2.99753140e-02]\n",
      " [ 1.30337090e-01  8.81027598e-02 -7.23323451e-03]\n",
      " [ 2.99131083e-02 -4.06997401e-02 -7.59480163e-03]\n",
      " [-7.89866947e-02  1.49757187e-02 -2.80507803e-02]\n",
      " [ 3.47312531e-02 -5.74414731e-02  1.96180378e-02]\n",
      " [ 1.94302574e-02 -4.52951354e-02 -9.99196322e-03]\n",
      " [ 1.19596491e-01  7.00780184e-02 -6.01658994e-03]\n",
      " [-1.03173509e-01  7.11434293e-02 -1.27412545e-01]\n",
      " [-2.75201619e-02 -1.49629083e-01 -9.64667974e-03]\n",
      " [-1.16451096e-01  1.02008013e-01  1.97307845e-01]\n",
      " [ 1.05085627e-01  4.18668653e-02 -1.42532807e-03]\n",
      " [-1.46281924e-02 -1.63136823e-01  2.58163524e-02]\n",
      " [ 6.81026634e-02 -1.69577968e-02  1.59364337e-04]\n",
      " [-1.73253338e-02 -1.62429226e-01  2.64736112e-02]\n",
      " [ 1.14541987e-01  5.90105328e-02 -3.21617938e-03]\n",
      " [-9.62579188e-02  5.48570602e-02 -4.94976207e-02]\n",
      " [-1.10130164e-01  8.77267734e-02 -1.60005284e-01]\n",
      " [-1.08434240e-01  8.35656178e-02 -1.78386488e-01]\n",
      " [-1.06191916e-01  7.75546756e-02 -1.03528721e-01]\n",
      " [-8.72921777e-02  4.16760696e-02  8.26956434e-02]\n",
      " [-3.68244727e-02 -5.76136840e-02  4.90239956e-02]\n",
      " [ 9.36701817e-02  2.62421562e-02 -2.87376634e-03]\n",
      " [-1.02950851e-01  6.76296203e-02 -9.67275234e-02]\n",
      " [ 1.19990550e-01  7.02336507e-02 -5.57943293e-03]\n",
      " [-6.36188281e-02 -1.99434998e-02  5.47641015e-02]\n",
      " [-1.15508320e-01  9.90339554e-02  1.56737576e-01]\n",
      " [ 1.12799339e-01  5.53414518e-02 -2.58092398e-03]\n",
      " [-1.48027238e-02 -1.49633219e-01  2.95133579e-02]\n",
      " [ 9.09787690e-02  1.77418016e-02  4.81939861e-04]\n",
      " [-1.11297680e-01  8.88757778e-02  1.03802508e-01]\n",
      " [-6.35049214e-02 -2.24231077e-02  6.07384471e-02]\n",
      " [ 6.24653077e-02 -2.63642421e-02  7.81663837e-03]\n",
      " [ 1.19114832e-01  6.84324252e-02 -5.19403007e-03]\n",
      " [-7.92097288e-03 -1.22210156e-01  4.41428733e-03]\n",
      " [-3.63118131e-02 -1.21798779e-01 -2.10888982e-02]\n",
      " [-2.57946129e-02 -1.64859118e-01  4.01468995e-03]\n",
      " [ 9.29566358e-02  2.35194286e-02 -1.60284293e-03]\n",
      " [ 3.18879228e-02 -7.08055871e-02  2.00302274e-02]\n",
      " [ 6.81844626e-02 -1.43984841e-02  8.32662428e-03]\n",
      " [-5.73027172e-02 -5.52576550e-02 -4.03423915e-02]\n",
      " [-9.88383930e-02  5.92934915e-02 -1.12523439e-01]\n",
      " [-1.58635789e-02 -1.71465711e-01  2.33373436e-02]\n",
      " [-1.67226871e-02 -1.70419032e-01  2.42842964e-02]\n",
      " [-2.20457659e-02 -1.72380499e-01  1.22099321e-02]\n",
      " [ 6.67814252e-02  1.42604772e-02 -1.74119247e-02]\n",
      " [ 1.14362976e-01  5.95110987e-02 -3.96270576e-03]\n",
      " [ 1.02604135e-01  3.73603955e-02 -4.68365444e-04]\n",
      " [ 9.97909042e-02  3.01160511e-02  1.17691569e-03]\n",
      " [-1.12591422e-01  9.20480272e-02  6.62213627e-02]\n",
      " [ 9.88598255e-02  2.60793864e-02  3.11817299e-03]\n",
      " [-7.85860488e-02  8.26225815e-04 -4.99558565e-02]\n",
      " [-8.43020016e-02  2.29665045e-02 -7.39987128e-02]\n",
      " [-1.06039040e-01  7.68431939e-02 -1.34698230e-01]\n",
      " [ 9.49638848e-02  2.13936314e-02  2.26619084e-03]\n",
      " [-2.75769231e-02 -9.91023829e-02  3.97808189e-02]\n",
      " [ 1.21667929e-01  7.04166696e-02 -3.53839129e-03]\n",
      " [-1.81407317e-02 -1.76338862e-01  2.05249004e-02]\n",
      " [-1.53084253e-02 -1.58775343e-01  2.85979733e-02]\n",
      " [ 1.14528470e-01  5.83480438e-02 -2.92057897e-03]\n",
      " [-1.03204363e-01  7.02029469e-02 -2.04403659e-01]\n",
      " [-1.61396782e-02 -1.69292742e-01  2.45631262e-02]\n",
      " [-1.93291031e-02 -1.07167394e-01 -1.58494151e-02]\n",
      " [-1.20464075e-01  1.12903011e-01  3.66465761e-01]\n",
      " [-1.01103714e-01  6.43920508e-02 -1.30267873e-01]\n",
      " [-2.99836211e-02 -1.44694123e-01 -2.76672700e-02]\n",
      " [ 4.90297190e-02 -4.33848278e-02  1.49604160e-02]\n",
      " [-2.15473258e-02 -1.73818978e-01  1.46342170e-02]\n",
      " [-9.97111165e-02  6.25638986e-02 -8.46796551e-02]\n",
      " [-1.03752993e-01  7.10788980e-02 -1.50629369e-01]\n",
      " [-2.88431961e-02 -1.02420840e-01  1.63885188e-03]\n",
      " [ 1.14667111e-01  6.13666688e-02 -5.05056099e-03]\n",
      " [-3.04077547e-02 -1.43498186e-01 -2.36613016e-02]\n",
      " [ 6.82568132e-02 -1.84004725e-02  1.48348090e-03]\n",
      " [-9.93553474e-02  5.65399421e-02  4.65672103e-02]\n",
      " [ 4.44669139e-02 -5.33809293e-02  7.68074585e-03]\n",
      " [-1.74072286e-02 -1.40343818e-01  3.30432831e-02]\n",
      " [ 1.17909759e-01  6.59157510e-02 -4.74310005e-03]\n",
      " [ 1.21192234e-01  7.14732805e-02 -5.10917787e-03]\n",
      " [-2.69914998e-03 -1.06474149e-01  3.07028490e-02]\n",
      " [ 5.62949039e-02 -3.60624807e-02  9.98427568e-04]\n",
      " [ 1.26293692e-01  7.98113413e-02 -5.47746930e-03]\n",
      " [ 1.18116728e-01  6.66216121e-02 -5.02932218e-03]\n",
      " [-1.06029822e-01  7.71319748e-02 -1.32880970e-01]\n",
      " [ 1.14560546e-01  5.91247619e-02 -3.47576805e-03]\n",
      " [-1.21144372e-01  1.13960836e-01  3.66223601e-01]\n",
      " [-1.03637816e-01  7.10783972e-02 -2.05861216e-01]\n",
      " [ 1.20484444e-01  7.13055282e-02 -5.85933619e-03]\n",
      " [ 9.12394730e-02  2.96436291e-02 -5.94829964e-03]\n",
      " [-1.90997586e-02 -1.32098862e-01 -1.63784501e-03]\n",
      " [-1.02491162e-01  6.67800665e-02 -1.15301551e-01]\n",
      " [ 1.06719655e-01  4.48930509e-02 -1.80127956e-03]\n",
      " [-3.21061814e-02 -5.51061556e-02 -4.18589357e-03]\n",
      " [-2.56800246e-02 -1.60114894e-01  1.54188271e-03]\n",
      " [ 1.07414199e-01  4.21022482e-02  9.82554794e-04]\n",
      " [ 1.20773439e-01  7.16658425e-02 -5.77955161e-03]\n",
      " [ 1.19094692e-01  6.58728916e-02 -3.14979736e-03]\n",
      " [-4.51995433e-02 -3.07107893e-02  3.56738217e-03]\n",
      " [ 3.12149839e-02 -7.09812043e-02  1.96018292e-02]\n",
      " [ 9.36018560e-02  2.40461484e-02 -1.05370473e-03]\n",
      " [-1.05532822e-01  7.56612695e-02 -1.44311027e-01]\n",
      " [-1.10511083e-01  8.80466835e-02  5.68937369e-02]\n",
      " [-3.50546361e-02 -1.19050599e-01 -2.57017276e-02]\n",
      " [-3.55303365e-02  3.42630311e-02  1.70917924e-01]\n",
      " [-1.48720936e-02 -5.27305965e-02 -1.54655020e-03]\n",
      " [ 1.10178315e-01  5.06608734e-02 -2.16775938e-03]\n",
      " [-1.10202847e-01  8.67304818e-02  1.10358229e-01]\n",
      " [-1.07316033e-01  7.97904940e-02  2.85586927e-03]\n",
      " [-1.03538206e-01  7.06457747e-02 -1.31356725e-01]\n",
      " [-1.09827475e-01  8.60409045e-02  7.89906266e-02]\n",
      " [-1.04838709e-01  7.20752228e-02 -8.66375356e-03]\n",
      " [-9.25339641e-03 -1.43818707e-01  2.66291304e-02]\n",
      " [ 9.03019023e-02  1.57567867e-02  1.01757931e-03]\n",
      " [ 1.24208425e-01  7.79670701e-02 -6.71496421e-03]\n",
      " [-6.82682279e-02 -1.53762183e-02 -3.95792099e-02]\n",
      " [ 5.84163141e-02 -2.67477707e-02  5.63920686e-03]\n",
      " [-4.36116320e-02 -1.00662933e-01 -1.35792008e-02]\n",
      " [-1.11960606e-01  9.13649417e-02  4.05643316e-02]\n",
      " [-3.82490939e-03 -1.01468400e-01 -9.27510695e-03]\n",
      " [-1.22467506e-01  1.17588822e-01  4.14772175e-01]\n",
      " [-1.06744827e-01  7.74089696e-02  2.44794674e-02]\n",
      " [ 1.63095821e-03 -1.19051713e-01  1.02301210e-02]\n",
      " [-1.11991959e-01  9.14760422e-02  1.25532048e-01]\n",
      " [ 1.05871320e-01  4.22682919e-02 -4.12671643e-04]]\n"
     ]
    },
    {
     "data": {
      "image/png": "[encoded data removed]",
      "text/plain": [
       "<Figure size 432x288 with 1 Axes>"
      ]
     },
     "metadata": {
      "needs_background": "light"
     },
     "output_type": "display_data"
    },
    {
     "name": "stdout",
     "output_type": "stream",
     "text": [
      "before LLE accuracy: 0.9777777777777777\n",
      "after LLE accuracy: 0.9555555555555556\n",
      "after LLE confusion matrix: \n",
      " [[17  1  0]\n",
      " [ 1 16  0]\n",
      " [ 0  0 10]]\n",
      "after LLE class report: \n",
      "               precision    recall  f1-score   support\n",
      "\n",
      "           0       0.94      0.94      0.94        18\n",
      "           1       0.94      0.94      0.94        17\n",
      "           2       1.00      1.00      1.00        10\n",
      "\n",
      "    accuracy                           0.96        45\n",
      "   macro avg       0.96      0.96      0.96        45\n",
      "weighted avg       0.96      0.96      0.96        45\n",
      "\n"
     ]
    }
   ],
   "source": [
    "import pandas as pd\n",
    "import numpy as np\n",
    "\n",
    "# data import\n",
    "from sklearn import datasets\n",
    "\n",
    "raw_wine = datasets.load_wine()\n",
    "X = raw_wine.data\n",
    "y = raw_wine.target\n",
    "\n",
    "\n",
    "# train/test data split\n",
    "from sklearn.model_selection import train_test_split\n",
    "X_tn, X_te, y_tn, y_te = train_test_split(X, y, random_state = 1)\n",
    "\n",
    "\n",
    "# data standardization\n",
    "from sklearn.preprocessing import StandardScaler\n",
    "\n",
    "std_scale = StandardScaler()\n",
    "std_scale.fit(X_tn)\n",
    "X_tn_std = std_scale.transform(X_tn)\n",
    "X_te_std = std_scale.transform(X_te)\n",
    "\n",
    "\n",
    "# lle modeling\n",
    "from sklearn.manifold import LocallyLinearEmbedding\n",
    "\n",
    "lle = LocallyLinearEmbedding(n_components = 3)      # LLE 모형 설정\n",
    "lle.fit(X_tn_std, y_tn)                             # 트레이닝 데이터를 넣고 적합\n",
    "\n",
    "X_tn_lle = lle.transform(X_tn_std)                  # 각각 차원축소 시킴\n",
    "X_te_lle = lle.transform(X_te_std)\n",
    "\n",
    "# data checking\n",
    "print('origin data volume:', X_tn_std.shape)\n",
    "print('after LLE volume:', X_tn_lle.shape)\n",
    "\n",
    "# embedding vectors\n",
    "print(\"Embedding Vectors : \\n {}\".format(lle.embedding_))\n",
    "\n",
    "# Visualization\n",
    "df = X_tn_lle_df\n",
    "markers = ['o', 'x', '^']                   # 데이터 포인트 마커 지정\n",
    "\n",
    "for i, mark in enumerate(markers):          # 클래스가 3개이기 때문에 3번 반복됨. 마커가 3개로 3번 반복된다.\n",
    "    df_i = df[df['target']== i]             # 해당 클래스가 있는 데이터프레임 지정\n",
    "    target_i = raw_wine.target_names[i]     # 클래스 저장\n",
    "    X1 = df_i['lle_comp1']\n",
    "    X2 = df_i['lle_comp2']\n",
    "    plt.scatter(X1, X2, marker = mark, label = target_i)\n",
    "\n",
    "plt.xlabel('LLE_component1')\n",
    "plt.ylabel('LLE_component2')\n",
    "plt.legend()                                # 범례 추가하기\n",
    "plt.show()\n",
    "\n",
    "# before lle\n",
    "from sklearn.ensemble import RandomForestClassifier\n",
    "clf_rf_std = RandomForestClassifier(max_depth = 2, random_state = 1)\n",
    "clf_rf_std.fit(X_tn_std, y_tn)\n",
    "pred_rf_std = clf_rf_std.predict(X_te_std)\n",
    "\n",
    "from sklearn.metrics import accuracy_score\n",
    "accuracy1 = accuracy_score(y_te, pred_rf_std)\n",
    "print(\"before LLE accuracy:\", accuracy1)\n",
    "\n",
    "# after lle\n",
    "clf_rf_lle = RandomForestClassifier(max_depth = 2, random_state = 1)\n",
    "clf_rf_lle.fit(X_tn_lle, y_tn)\n",
    "pred_rf_lle = clf_rf_lle.predict(X_te_lle)\n",
    "\n",
    "accuracy2 = accuracy_score(y_te, pred_rf_lle)\n",
    "print(\"after LLE accuracy:\", accuracy2)\n",
    "\n",
    "from sklearn.metrics import confusion_matrix\n",
    "conf_matrix = confusion_matrix(y_te, pred_rf_lle)\n",
    "print(\"after LLE confusion matrix: \\n\", conf_matrix)\n",
    "\n",
    "from sklearn.metrics import classification_report\n",
    "class_report = classification_report(y_te, pred_rf_lle)\n",
    "print(\"after LLE class report: \\n\", class_report)"
   ]
  },
  {
   "cell_type": "markdown",
   "id": "319260bc",
   "metadata": {},
   "source": [
    " 달라진게 없다. 2차원이나 3차원이나 핵심적인 정보가 다 들어가있는 것으로 생각된다. \n",
    " \n",
    " 데이터 포인트를 임베딩을 한다는 것 자체가 이미 해당 데이터의 원래 속성(? 정보?)를 다 담고있는 상태로, 다른 곳에- 다른 형태로 옮겨지는 것이라 그런가보다(아마도).\n",
    " \n",
    " # 실험2: k = 5 -> 4\n",
    " \n",
    " 이번에는 k를 5에서 4로 해본다. 즉 한 덩어리로 볼 데이터 포인트를 적게 잡아서 정밀도를 올릴 수 있지 않을까 하는 생각이다."
   ]
  },
  {
   "cell_type": "code",
   "execution_count": null,
   "id": "65be7eed",
   "metadata": {},
   "outputs": [],
   "source": []
  }
 ],
 "metadata": {
  "kernelspec": {
   "display_name": "Python 3 (ipykernel)",
   "language": "python",
   "name": "python3"
  },
  "language_info": {
   "codemirror_mode": {
    "name": "ipython",
    "version": 3
   },
   "file_extension": ".py",
   "mimetype": "text/x-python",
   "name": "python",
   "nbconvert_exporter": "python",
   "pygments_lexer": "ipython3",
   "version": "3.8.5"
  },
  "toc": {
   "base_numbering": 1,
   "nav_menu": {},
   "number_sections": true,
   "sideBar": true,
   "skip_h1_title": false,
   "title_cell": "Table of Contents",
   "title_sidebar": "Contents",
   "toc_cell": false,
   "toc_position": {
    "height": "calc(100% - 180px)",
    "left": "10px",
    "top": "150px",
    "width": "383.975px"
   },
   "toc_section_display": true,
   "toc_window_display": true
  }
 },
 "nbformat": 4,
 "nbformat_minor": 5
}

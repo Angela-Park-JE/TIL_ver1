{
 "cells": [
  {
   "cell_type": "markdown",
   "id": "dee0e18b",
   "metadata": {},
   "source": [
    "# 커널 주성분분석(PCA) 실습\n",
    "\n",
    "#####  커널 PCA\n",
    "---\n",
    "\n",
    "기존 데이터 행렬의 공간보다 큰 고차원 공간으로 매핑한다. 매핑 함수를 $\\boldsymbol{\\Phi}$ 라고 한다. \n",
    "\n",
    "이때 $\\boldsymbol{\\Phi}$를 어떻게 선택하느냐에 따라 다른 공간으로 이동하게 되는데, 새로운 공간으로 이동한 데이터에 대해 주성분 분석을 수행한다. \n",
    "\n",
    "새로운 공간의 데이터 포인트에 대해 공분산 행렬을 구한다. 구한 공분산 행렬에서 pca를 하면 새로운 좌표축 즉 주성분 벡터가 있게 된다.\n",
    "\n",
    "그리고 마지막으로 새로운 공간의 데이터를 다시 원래 공간으로 매핑시키면 곡선 형태의 주성분 축을 얻게 된다.\n",
    "\n",
    "\n",
    "##### 10.3.2 와인 데이터를 활용하여 커널PCA 를 시행해본다.\n"
   ]
  },
  {
   "cell_type": "markdown",
   "id": "29cf1d3d",
   "metadata": {},
   "source": [
    "# Dataset import\n",
    "## 데이터 불러오기"
   ]
  },
  {
   "cell_type": "code",
   "execution_count": 1,
   "id": "393ce3e9",
   "metadata": {},
   "outputs": [],
   "source": [
    "import pandas as pd\n",
    "import numpy as np\n",
    "\n",
    "from sklearn import datasets\n",
    "raw_wine = datasets.load_wine()"
   ]
  },
  {
   "cell_type": "code",
   "execution_count": 2,
   "id": "1fee972a",
   "metadata": {},
   "outputs": [
    {
     "data": {
      "text/plain": [
       "['alcohol',\n",
       " 'malic_acid',\n",
       " 'ash',\n",
       " 'alcalinity_of_ash',\n",
       " 'magnesium',\n",
       " 'total_phenols',\n",
       " 'flavanoids',\n",
       " 'nonflavanoid_phenols',\n",
       " 'proanthocyanins',\n",
       " 'color_intensity',\n",
       " 'hue',\n",
       " 'od280/od315_of_diluted_wines',\n",
       " 'proline']"
      ]
     },
     "execution_count": 2,
     "metadata": {},
     "output_type": "execute_result"
    }
   ],
   "source": [
    "# 데이터 셋 내 피처 살펴보기\n",
    "raw_wine.feature_names"
   ]
  },
  {
   "cell_type": "markdown",
   "id": "53e0dae9",
   "metadata": {},
   "source": [
    "# 피처, 타깃 데이터 지정"
   ]
  },
  {
   "cell_type": "code",
   "execution_count": 3,
   "id": "e76b530f",
   "metadata": {},
   "outputs": [],
   "source": [
    "X = raw_wine.data\n",
    "y = raw_wine.target"
   ]
  },
  {
   "cell_type": "markdown",
   "id": "65d631e3",
   "metadata": {},
   "source": [
    "## 트레이닝, 테스트 데이터 분할"
   ]
  },
  {
   "cell_type": "code",
   "execution_count": 4,
   "id": "d674bf94",
   "metadata": {},
   "outputs": [],
   "source": [
    "from sklearn.model_selection import train_test_split\n",
    "\n",
    "X_tn, X_te, y_tn, y_te = train_test_split(X, y, random_state = 1)"
   ]
  },
  {
   "cell_type": "markdown",
   "id": "d080bc7a",
   "metadata": {},
   "source": [
    "## 데이터 표준화"
   ]
  },
  {
   "cell_type": "code",
   "execution_count": 5,
   "id": "f9edad99",
   "metadata": {},
   "outputs": [],
   "source": [
    "from sklearn.preprocessing import StandardScaler\n",
    "\n",
    "# X 트레이닝 데이터 기준으로 std scaler fitting, Xtn Xte모두.\n",
    "std_scale = StandardScaler()\n",
    "std_scale.fit(X_tn)\n",
    "X_tn_std = std_scale.transform(X_tn)\n",
    "X_te_std = std_scale.transform(X_te)"
   ]
  },
  {
   "cell_type": "markdown",
   "id": "b601f993",
   "metadata": {},
   "source": [
    "# 커널 PCA를 통한 차원 축소\n",
    "\n",
    "n_components 옵션을 사용하여 줄이고 싶은 차원수를 설정한다.\n",
    "\n",
    "커널의 형태는 linear, poly, rbf, sigmoid, cosine, precomputed 등이 있다."
   ]
  },
  {
   "cell_type": "code",
   "execution_count": 7,
   "id": "585bfbc2",
   "metadata": {},
   "outputs": [],
   "source": [
    "from sklearn.decomposition import KernelPCA\n",
    "\n",
    "kpca = KernelPCA(n_components = 2, kernel = 'poly')  # 커널 PCA모형 설정. 축소할 차원을 설정\n",
    "kpca.fit(X_tn_std)    # 적합\n",
    "\n",
    "X_tn_kpca = kpca.transform(X_tn_std)  # 각각 차원축소 시킴\n",
    "X_te_kpca = kpca.transform(X_te_std)"
   ]
  },
  {
   "cell_type": "markdown",
   "id": "4b136621",
   "metadata": {},
   "source": [
    "## 데이터 차원 축소 확인"
   ]
  },
  {
   "cell_type": "code",
   "execution_count": 8,
   "id": "5eb3ae48",
   "metadata": {},
   "outputs": [
    {
     "name": "stdout",
     "output_type": "stream",
     "text": [
      "(133, 13)\n"
     ]
    }
   ],
   "source": [
    "# 원래의 데이터 크기\n",
    "\n",
    "print(X_tn_std.shape)"
   ]
  },
  {
   "cell_type": "code",
   "execution_count": 10,
   "id": "51c724f0",
   "metadata": {},
   "outputs": [
    {
     "name": "stdout",
     "output_type": "stream",
     "text": [
      "(133, 2)\n"
     ]
    }
   ],
   "source": [
    "# 축소된 데이터 크기\n",
    "\n",
    "print(X_tn_kpca.shape)"
   ]
  },
  {
   "cell_type": "markdown",
   "id": "c66047bb",
   "metadata": {},
   "source": [
    "2차원으로 차원축소가 잘 되었다."
   ]
  },
  {
   "cell_type": "markdown",
   "id": "fb47f151",
   "metadata": {},
   "source": [
    "## 고윳값, 고유 벡터 확인: .lambdas_ , .alphas_\n",
    "\n",
    "공분산 행렬을 얻을 수는 없지만, 데이터의 고윳값, 고유벡터를 확인할 수 있다.\n",
    "\n",
    "(lambdas 에서 아이겐밸류로 바뀐다고 한다. 고유값이 람다로 써지긴 하지만 아마 직관적이지 못했어서 그런가보다. 마찬가지로 alphas도 eigenvector로 바뀐다고)"
   ]
  },
  {
   "cell_type": "code",
   "execution_count": 12,
   "id": "ce7b22d5",
   "metadata": {},
   "outputs": [
    {
     "name": "stdout",
     "output_type": "stream",
     "text": [
      "[193.89824561 118.0368972 ]\n"
     ]
    },
    {
     "name": "stderr",
     "output_type": "stream",
     "text": [
      "/Users/Angela/opt/anaconda3/envs/py3_8_5/lib/python3.8/site-packages/sklearn/utils/deprecation.py:103: FutureWarning: Attribute `lambdas_` was deprecated in version 1.0 and will be removed in 1.2. Use `eigenvalues_` instead.\n",
      "  warnings.warn(msg, category=FutureWarning)\n"
     ]
    }
   ],
   "source": [
    "print(kpca.lambdas_)"
   ]
  },
  {
   "cell_type": "code",
   "execution_count": 13,
   "id": "ee5ee326",
   "metadata": {},
   "outputs": [
    {
     "name": "stdout",
     "output_type": "stream",
     "text": [
      "[193.89824561 118.0368972 ]\n"
     ]
    }
   ],
   "source": [
    "print(kpca.eigenvalues_)"
   ]
  },
  {
   "cell_type": "code",
   "execution_count": 15,
   "id": "91496f0b",
   "metadata": {},
   "outputs": [
    {
     "name": "stdout",
     "output_type": "stream",
     "text": [
      "[[ 0.07266242  0.00456251]\n",
      " [ 0.0469712  -0.04020348]\n",
      " [ 0.08698324  0.07012786]\n",
      " [ 0.19996777  0.218482  ]\n",
      " [ 0.14558241  0.12759024]\n",
      " [-0.0316937  -0.0955557 ]\n",
      " [-0.10921606  0.09183472]\n",
      " [-0.11306065  0.07491762]\n",
      " [ 0.08725253  0.05204947]\n",
      " [-0.02421116 -0.09637237]\n",
      " [ 0.10518354  0.00629214]\n",
      " [ 0.08056162  0.03107663]\n",
      " [ 0.03371273 -0.12190244]\n",
      " [-0.10603515  0.03252174]\n",
      " [ 0.07314539 -0.07636543]\n",
      " [-0.00830065 -0.06671645]\n",
      " [ 0.08166126  0.0683314 ]\n",
      " [-0.12106496  0.08116178]\n",
      " [-0.00440492 -0.13286099]\n",
      " [-0.098436    0.01206587]\n",
      " [ 0.16936111  0.14411655]\n",
      " [-0.00112801 -0.10236899]\n",
      " [ 0.05046673  0.05090575]\n",
      " [ 0.02312764 -0.11672988]\n",
      " [ 0.05288299  0.01634404]\n",
      " [-0.14390684  0.07755703]\n",
      " [-0.1116687   0.10213843]\n",
      " [-0.09004075  0.07111502]\n",
      " [-0.13169412  0.12006775]\n",
      " [-0.06341878 -0.03931811]\n",
      " [-0.01177083 -0.10981527]\n",
      " [ 0.03619517 -0.01828061]\n",
      " [-0.156624    0.11828334]\n",
      " [ 0.09838309  0.05224656]\n",
      " [-0.03607944 -0.04304917]\n",
      " [-0.08718829  0.03003902]\n",
      " [ 0.107761    0.08440051]\n",
      " [ 0.02229238 -0.09214541]\n",
      " [ 0.14598933  0.11737633]\n",
      " [-0.13726263  0.04433401]\n",
      " [-0.02909904 -0.06226158]\n",
      " [ 0.02879929 -0.04917687]\n",
      " [ 0.09714857  0.06450556]\n",
      " [ 0.04000178 -0.1192372 ]\n",
      " [-0.01859724 -0.09181325]\n",
      " [ 0.00251214 -0.07232383]\n",
      " [ 0.11625552  0.0812522 ]\n",
      " [ 0.00709013 -0.06305782]\n",
      " [ 0.05196883 -0.05957236]\n",
      " [-0.04336402 -0.06775749]\n",
      " [-0.10557423  0.09018568]\n",
      " [ 0.00284754 -0.13096497]\n",
      " [-0.00452854 -0.10536972]\n",
      " [ 0.00540651 -0.10814659]\n",
      " [ 0.05361027 -0.11464222]\n",
      " [ 0.15903704  0.13298658]\n",
      " [ 0.05278354  0.0185511 ]\n",
      " [ 0.05767792  0.00623569]\n",
      " [-0.08791754  0.02786623]\n",
      " [ 0.05012411 -0.02309564]\n",
      " [-0.07800725 -0.0008041 ]\n",
      " [-0.09451979  0.03076353]\n",
      " [-0.15926294  0.13889875]\n",
      " [ 0.04703695 -0.00072346]\n",
      " [ 0.02517162 -0.1074433 ]\n",
      " [ 0.0523388  -0.01980112]\n",
      " [-0.00521189 -0.12235619]\n",
      " [ 0.01151112 -0.1164174 ]\n",
      " [ 0.11197133  0.07026609]\n",
      " [-0.10478657  0.08647942]\n",
      " [ 0.01491144 -0.09929837]\n",
      " [-0.02464473 -0.07230424]\n",
      " [-0.09393307  0.02258847]\n",
      " [-0.13020435  0.10884047]\n",
      " [-0.0038558  -0.13747784]\n",
      " [ 0.06785059 -0.05913142]\n",
      " [ 0.00085246 -0.09671848]\n",
      " [-0.11482046  0.06874722]\n",
      " [-0.07600419  0.14444789]\n",
      " [-0.00686517 -0.10007114]\n",
      " [ 0.10366448  0.09017341]\n",
      " [-0.00364815 -0.12633395]\n",
      " [ 0.0271437  -0.01060392]\n",
      " [-0.07831699  0.01848051]\n",
      " [ 0.04412929 -0.08682403]\n",
      " [ 0.02188734 -0.16297035]\n",
      " [ 0.16966385  0.15219112]\n",
      " [ 0.07133477  0.03600883]\n",
      " [ 0.01669791 -0.10235969]\n",
      " [ 0.01870693 -0.01374662]\n",
      " [ 0.05507547 -0.0181637 ]\n",
      " [ 0.20873621  0.22363036]\n",
      " [-0.1272234   0.09590234]\n",
      " [ 0.12466478  0.11571988]\n",
      " [-0.0754834   0.01426684]\n",
      " [-0.10724634  0.08853718]\n",
      " [ 0.10048432  0.06583684]\n",
      " [ 0.05807732 -0.10520692]\n",
      " [ 0.01604432 -0.21958032]\n",
      " [-0.16410527  0.11694079]\n",
      " [ 0.10960069  0.07793703]\n",
      " [-0.0344665  -0.06967614]\n",
      " [-0.00335884 -0.10631255]\n",
      " [ 0.08197977  0.01628397]\n",
      " [ 0.09182267  0.06536358]\n",
      " [ 0.08861495  0.02462391]\n",
      " [-0.04690543 -0.03946835]\n",
      " [ 0.05678815 -0.09241071]\n",
      " [ 0.09139202  0.0774402 ]\n",
      " [-0.10450925  0.07078308]\n",
      " [-0.07003339  0.01075776]\n",
      " [-0.01031492 -0.11303415]\n",
      " [-0.00921992 -0.04251139]\n",
      " [-0.01647968 -0.02802329]\n",
      " [ 0.13494004  0.06028009]\n",
      " [-0.09566898  0.0225553 ]\n",
      " [-0.13171243  0.07016883]\n",
      " [-0.12892906  0.09819332]\n",
      " [-0.06988297  0.00125385]\n",
      " [-0.17657606  0.09408459]\n",
      " [-0.00546049 -0.10135525]\n",
      " [ 0.12293879  0.07335327]\n",
      " [ 0.04139737 -0.02016764]\n",
      " [-0.06927577 -0.01420696]\n",
      " [ 0.04548497 -0.06856504]\n",
      " [-0.04010431 -0.05997517]\n",
      " [-0.08094054  0.04076356]\n",
      " [ 0.0136731  -0.07847278]\n",
      " [-0.06717016  0.00871639]\n",
      " [-0.15022051  0.06304039]\n",
      " [-0.01272266 -0.06212804]\n",
      " [-0.08471991  0.01152327]\n",
      " [ 0.0411036  -0.00361584]]\n"
     ]
    },
    {
     "name": "stderr",
     "output_type": "stream",
     "text": [
      "/Users/Angela/opt/anaconda3/envs/py3_8_5/lib/python3.8/site-packages/sklearn/utils/deprecation.py:103: FutureWarning: Attribute `alphas_` was deprecated in version 1.0 and will be removed in 1.2. Use `eigenvectors_` instead.\n",
      "  warnings.warn(msg, category=FutureWarning)\n"
     ]
    }
   ],
   "source": [
    "print(kpca.alphas_)"
   ]
  },
  {
   "cell_type": "code",
   "execution_count": 16,
   "id": "a9684987",
   "metadata": {},
   "outputs": [
    {
     "name": "stdout",
     "output_type": "stream",
     "text": [
      "[[ 0.07266242  0.00456251]\n",
      " [ 0.0469712  -0.04020348]\n",
      " [ 0.08698324  0.07012786]\n",
      " [ 0.19996777  0.218482  ]\n",
      " [ 0.14558241  0.12759024]\n",
      " [-0.0316937  -0.0955557 ]\n",
      " [-0.10921606  0.09183472]\n",
      " [-0.11306065  0.07491762]\n",
      " [ 0.08725253  0.05204947]\n",
      " [-0.02421116 -0.09637237]\n",
      " [ 0.10518354  0.00629214]\n",
      " [ 0.08056162  0.03107663]\n",
      " [ 0.03371273 -0.12190244]\n",
      " [-0.10603515  0.03252174]\n",
      " [ 0.07314539 -0.07636543]\n",
      " [-0.00830065 -0.06671645]\n",
      " [ 0.08166126  0.0683314 ]\n",
      " [-0.12106496  0.08116178]\n",
      " [-0.00440492 -0.13286099]\n",
      " [-0.098436    0.01206587]\n",
      " [ 0.16936111  0.14411655]\n",
      " [-0.00112801 -0.10236899]\n",
      " [ 0.05046673  0.05090575]\n",
      " [ 0.02312764 -0.11672988]\n",
      " [ 0.05288299  0.01634404]\n",
      " [-0.14390684  0.07755703]\n",
      " [-0.1116687   0.10213843]\n",
      " [-0.09004075  0.07111502]\n",
      " [-0.13169412  0.12006775]\n",
      " [-0.06341878 -0.03931811]\n",
      " [-0.01177083 -0.10981527]\n",
      " [ 0.03619517 -0.01828061]\n",
      " [-0.156624    0.11828334]\n",
      " [ 0.09838309  0.05224656]\n",
      " [-0.03607944 -0.04304917]\n",
      " [-0.08718829  0.03003902]\n",
      " [ 0.107761    0.08440051]\n",
      " [ 0.02229238 -0.09214541]\n",
      " [ 0.14598933  0.11737633]\n",
      " [-0.13726263  0.04433401]\n",
      " [-0.02909904 -0.06226158]\n",
      " [ 0.02879929 -0.04917687]\n",
      " [ 0.09714857  0.06450556]\n",
      " [ 0.04000178 -0.1192372 ]\n",
      " [-0.01859724 -0.09181325]\n",
      " [ 0.00251214 -0.07232383]\n",
      " [ 0.11625552  0.0812522 ]\n",
      " [ 0.00709013 -0.06305782]\n",
      " [ 0.05196883 -0.05957236]\n",
      " [-0.04336402 -0.06775749]\n",
      " [-0.10557423  0.09018568]\n",
      " [ 0.00284754 -0.13096497]\n",
      " [-0.00452854 -0.10536972]\n",
      " [ 0.00540651 -0.10814659]\n",
      " [ 0.05361027 -0.11464222]\n",
      " [ 0.15903704  0.13298658]\n",
      " [ 0.05278354  0.0185511 ]\n",
      " [ 0.05767792  0.00623569]\n",
      " [-0.08791754  0.02786623]\n",
      " [ 0.05012411 -0.02309564]\n",
      " [-0.07800725 -0.0008041 ]\n",
      " [-0.09451979  0.03076353]\n",
      " [-0.15926294  0.13889875]\n",
      " [ 0.04703695 -0.00072346]\n",
      " [ 0.02517162 -0.1074433 ]\n",
      " [ 0.0523388  -0.01980112]\n",
      " [-0.00521189 -0.12235619]\n",
      " [ 0.01151112 -0.1164174 ]\n",
      " [ 0.11197133  0.07026609]\n",
      " [-0.10478657  0.08647942]\n",
      " [ 0.01491144 -0.09929837]\n",
      " [-0.02464473 -0.07230424]\n",
      " [-0.09393307  0.02258847]\n",
      " [-0.13020435  0.10884047]\n",
      " [-0.0038558  -0.13747784]\n",
      " [ 0.06785059 -0.05913142]\n",
      " [ 0.00085246 -0.09671848]\n",
      " [-0.11482046  0.06874722]\n",
      " [-0.07600419  0.14444789]\n",
      " [-0.00686517 -0.10007114]\n",
      " [ 0.10366448  0.09017341]\n",
      " [-0.00364815 -0.12633395]\n",
      " [ 0.0271437  -0.01060392]\n",
      " [-0.07831699  0.01848051]\n",
      " [ 0.04412929 -0.08682403]\n",
      " [ 0.02188734 -0.16297035]\n",
      " [ 0.16966385  0.15219112]\n",
      " [ 0.07133477  0.03600883]\n",
      " [ 0.01669791 -0.10235969]\n",
      " [ 0.01870693 -0.01374662]\n",
      " [ 0.05507547 -0.0181637 ]\n",
      " [ 0.20873621  0.22363036]\n",
      " [-0.1272234   0.09590234]\n",
      " [ 0.12466478  0.11571988]\n",
      " [-0.0754834   0.01426684]\n",
      " [-0.10724634  0.08853718]\n",
      " [ 0.10048432  0.06583684]\n",
      " [ 0.05807732 -0.10520692]\n",
      " [ 0.01604432 -0.21958032]\n",
      " [-0.16410527  0.11694079]\n",
      " [ 0.10960069  0.07793703]\n",
      " [-0.0344665  -0.06967614]\n",
      " [-0.00335884 -0.10631255]\n",
      " [ 0.08197977  0.01628397]\n",
      " [ 0.09182267  0.06536358]\n",
      " [ 0.08861495  0.02462391]\n",
      " [-0.04690543 -0.03946835]\n",
      " [ 0.05678815 -0.09241071]\n",
      " [ 0.09139202  0.0774402 ]\n",
      " [-0.10450925  0.07078308]\n",
      " [-0.07003339  0.01075776]\n",
      " [-0.01031492 -0.11303415]\n",
      " [-0.00921992 -0.04251139]\n",
      " [-0.01647968 -0.02802329]\n",
      " [ 0.13494004  0.06028009]\n",
      " [-0.09566898  0.0225553 ]\n",
      " [-0.13171243  0.07016883]\n",
      " [-0.12892906  0.09819332]\n",
      " [-0.06988297  0.00125385]\n",
      " [-0.17657606  0.09408459]\n",
      " [-0.00546049 -0.10135525]\n",
      " [ 0.12293879  0.07335327]\n",
      " [ 0.04139737 -0.02016764]\n",
      " [-0.06927577 -0.01420696]\n",
      " [ 0.04548497 -0.06856504]\n",
      " [-0.04010431 -0.05997517]\n",
      " [-0.08094054  0.04076356]\n",
      " [ 0.0136731  -0.07847278]\n",
      " [-0.06717016  0.00871639]\n",
      " [-0.15022051  0.06304039]\n",
      " [-0.01272266 -0.06212804]\n",
      " [-0.08471991  0.01152327]\n",
      " [ 0.0411036  -0.00361584]]\n"
     ]
    }
   ],
   "source": [
    "print(kpca.eigenvectors_)"
   ]
  },
  {
   "cell_type": "markdown",
   "id": "8a38fcbd",
   "metadata": {},
   "source": [
    "고유벡터가 바로 각 고윳값에 대응되는 고유 벡터로 이 고유 벡터가 바로 주성분 벡터이다.\n",
    "\n",
    "차원축소 후 해당 성분의 설명되는 분산을 볼 차례인데 kpca는 제공하지 않는다. "
   ]
  },
  {
   "cell_type": "markdown",
   "id": "130ebdda",
   "metadata": {},
   "source": [
    "## 차원 축소 데이터 확인\n",
    "\n",
    "데이터 프레임으로 바꾸는 이유는 데이터 시각화에 유리하기 때문이다."
   ]
  },
  {
   "cell_type": "code",
   "execution_count": 19,
   "id": "01e579e4",
   "metadata": {},
   "outputs": [
    {
     "data": {
      "text/html": [
       "<div>\n",
       "<style scoped>\n",
       "    .dataframe tbody tr th:only-of-type {\n",
       "        vertical-align: middle;\n",
       "    }\n",
       "\n",
       "    .dataframe tbody tr th {\n",
       "        vertical-align: top;\n",
       "    }\n",
       "\n",
       "    .dataframe thead th {\n",
       "        text-align: right;\n",
       "    }\n",
       "</style>\n",
       "<table border=\"1\" class=\"dataframe\">\n",
       "  <thead>\n",
       "    <tr style=\"text-align: right;\">\n",
       "      <th></th>\n",
       "      <th>kpca_comp1</th>\n",
       "      <th>kpca_comp2</th>\n",
       "      <th>target</th>\n",
       "    </tr>\n",
       "  </thead>\n",
       "  <tbody>\n",
       "    <tr>\n",
       "      <th>0</th>\n",
       "      <td>1.011805</td>\n",
       "      <td>0.049569</td>\n",
       "      <td>0</td>\n",
       "    </tr>\n",
       "    <tr>\n",
       "      <th>1</th>\n",
       "      <td>0.654061</td>\n",
       "      <td>-0.436790</td>\n",
       "      <td>1</td>\n",
       "    </tr>\n",
       "    <tr>\n",
       "      <th>2</th>\n",
       "      <td>1.211219</td>\n",
       "      <td>0.761903</td>\n",
       "      <td>0</td>\n",
       "    </tr>\n",
       "    <tr>\n",
       "      <th>3</th>\n",
       "      <td>2.784498</td>\n",
       "      <td>2.373693</td>\n",
       "      <td>0</td>\n",
       "    </tr>\n",
       "    <tr>\n",
       "      <th>4</th>\n",
       "      <td>2.027196</td>\n",
       "      <td>1.386201</td>\n",
       "      <td>0</td>\n",
       "    </tr>\n",
       "  </tbody>\n",
       "</table>\n",
       "</div>"
      ],
      "text/plain": [
       "   kpca_comp1  kpca_comp2  target\n",
       "0    1.011805    0.049569       0\n",
       "1    0.654061   -0.436790       1\n",
       "2    1.211219    0.761903       0\n",
       "3    2.784498    2.373693       0\n",
       "4    2.027196    1.386201       0"
      ]
     },
     "execution_count": 19,
     "metadata": {},
     "output_type": "execute_result"
    }
   ],
   "source": [
    "# 해당 pca 데이터를 데이터 프레임으로 만들고 성분에 이름을 붙여준다.\n",
    "\n",
    "kpca_columns = ['kpca_comp1', 'kpca_comp2']\n",
    "X_tn_kpca_df = pd.DataFrame(X_tn_kpca, columns = kpca_columns)\n",
    "\n",
    "# 그리고 타겟 데이터에 y_tn을 붙여준다.\n",
    "\n",
    "X_tn_kpca_df['target'] = y_tn\n",
    "X_tn_kpca_df.head(5)"
   ]
  },
  {
   "cell_type": "markdown",
   "id": "f560803d",
   "metadata": {},
   "source": [
    "## 라벨 미적용 PCA 데이터 시각화\n",
    "\n",
    "차원 축소된 데이터를 시각화 해본다.\n",
    "\n",
    "라벨이 적용되지 않았다는 말은 타깃 데이터가 없는 경우를 말하는 것이다. 각 데이터가 어떤 와인 클래스를 나타내는지 모른다."
   ]
  },
  {
   "cell_type": "code",
   "execution_count": 20,
   "id": "69390933",
   "metadata": {},
   "outputs": [
    {
     "data": {
      "image/png": "[encoded data removed]",
      "text/plain": [
       "<Figure size 432x288 with 1 Axes>"
      ]
     },
     "metadata": {
      "needs_background": "light"
     },
     "output_type": "display_data"
    }
   ],
   "source": [
    "import matplotlib.pyplot as plt\n",
    "\n",
    "plt.scatter(X_tn_kpca_df['kpca_comp1'], X_tn_kpca_df['kpca_comp2'], marker = 'o') # 각 피처를 요소에 넣고, 마커를 설정\n",
    "plt.xlabel('kpca_component1')\n",
    "plt.ylabel('kpca_component2')\n",
    "plt.show()"
   ]
  },
  {
   "cell_type": "markdown",
   "id": "414acff1",
   "metadata": {},
   "source": [
    "## 라벨 적용 PCA 데이터 시각화"
   ]
  },
  {
   "cell_type": "code",
   "execution_count": 21,
   "id": "a781bff1",
   "metadata": {},
   "outputs": [
    {
     "data": {
      "image/png": "[encoded data removed]",
      "text/plain": [
       "<Figure size 432x288 with 1 Axes>"
      ]
     },
     "metadata": {
      "needs_background": "light"
     },
     "output_type": "display_data"
    }
   ],
   "source": [
    "df = X_tn_kpca_df\n",
    "markers = ['o', 'x', '^']                   # 데이터 포인트 마커 지정\n",
    "\n",
    "for i, mark in enumerate(markers):          # 클래스가 3개이기 때문에 3번 반복됨. 마커가 3개로 3번 반복된다.\n",
    "    df_i = df[df['target']== i]             # 해당 클래스가 있는 데이터프레임 지정\n",
    "    target_i = raw_wine.target_names[i]     # 클래스 저장\n",
    "    X1 = df_i['kpca_comp1']\n",
    "    X2 = df_i['kpca_comp2']\n",
    "    plt.scatter(X1, X2, marker = mark, label = target_i)\n",
    "\n",
    "plt.xlabel('Kernel pca_component1')\n",
    "plt.ylabel('Kernel pca_component2')\n",
    "plt.legend()                                               # 범례 추가하기\n",
    "plt.show()"
   ]
  },
  {
   "cell_type": "markdown",
   "id": "5c1f4e5d",
   "metadata": {},
   "source": [
    "# kernel PCA 적용 전후 데이터 예측 정확도 측정\n",
    "\n",
    "## kernel PCA 적용 이전 데이터 학습"
   ]
  },
  {
   "cell_type": "code",
   "execution_count": 22,
   "id": "250e6b83",
   "metadata": {},
   "outputs": [],
   "source": [
    "# 랜덤포레스트분류기 사용\n",
    "from sklearn.ensemble import RandomForestClassifier\n",
    "\n",
    "clf_rf_std = RandomForestClassifier(max_depth = 2, random_state = 1)\n",
    "clf_rf_std.fit(X_tn_std, y_tn)\n",
    "pred_rf_std = clf_rf_std.predict(X_te_std)"
   ]
  },
  {
   "cell_type": "markdown",
   "id": "bcf86547",
   "metadata": {},
   "source": [
    "### 적용 전 예측 정확도"
   ]
  },
  {
   "cell_type": "code",
   "execution_count": 23,
   "id": "295a80e2",
   "metadata": {},
   "outputs": [
    {
     "name": "stdout",
     "output_type": "stream",
     "text": [
      "0.9777777777777777\n"
     ]
    }
   ],
   "source": [
    "from sklearn.metrics import accuracy_score\n",
    "accuracy = accuracy_score(y_te, pred_rf_std)\n",
    "\n",
    "print(accuracy)"
   ]
  },
  {
   "cell_type": "markdown",
   "id": "24cd06cf",
   "metadata": {},
   "source": [
    "## kernel PCA 적용 이후 데이터 학습"
   ]
  },
  {
   "cell_type": "code",
   "execution_count": 25,
   "id": "9388b7ff",
   "metadata": {},
   "outputs": [],
   "source": [
    "# from sklearn.ensemble import RandomForestClassifier\n",
    "\n",
    "clf_rf_kpca = RandomForestClassifier(max_depth = 2, random_state = 1)\n",
    "clf_rf_kpca.fit(X_tn_kpca, y_tn)\n",
    "pred_rf_kpca = clf_rf_kpca.predict(X_te_kpca)"
   ]
  },
  {
   "cell_type": "markdown",
   "id": "7609ac00",
   "metadata": {},
   "source": [
    "### 적용 후 예측 정확도"
   ]
  },
  {
   "cell_type": "code",
   "execution_count": 26,
   "id": "18f2a1b1",
   "metadata": {},
   "outputs": [
    {
     "name": "stdout",
     "output_type": "stream",
     "text": [
      "0.9555555555555556\n"
     ]
    }
   ],
   "source": [
    "from sklearn.metrics import accuracy_score\n",
    "accuracy = accuracy_score(y_te, pred_rf_kpca)\n",
    "\n",
    "print(accuracy)"
   ]
  },
  {
   "cell_type": "markdown",
   "id": "636e4a6a",
   "metadata": {},
   "source": [
    "일반 PCA를 했을 때와 같은 정확도가 나왔다. 궁금하니까, confusion matrix도 볼 수 있을까?\n",
    "\n",
    "# confusion matrix 비교\n",
    "\n",
    "## kernel PCA 전"
   ]
  },
  {
   "cell_type": "code",
   "execution_count": 27,
   "id": "4ca5b121",
   "metadata": {},
   "outputs": [
    {
     "name": "stdout",
     "output_type": "stream",
     "text": [
      "[[18  0  0]\n",
      " [ 1 16  0]\n",
      " [ 0  0 10]]\n"
     ]
    }
   ],
   "source": [
    "# kpca 전\n",
    "\n",
    "from sklearn.metrics import confusion_matrix\n",
    "conf_matrix = confusion_matrix(y_te, pred_rf_std)\n",
    "print(conf_matrix)"
   ]
  },
  {
   "cell_type": "markdown",
   "id": "8e4350de",
   "metadata": {},
   "source": [
    "## kernel PCA 후"
   ]
  },
  {
   "cell_type": "code",
   "execution_count": 28,
   "id": "f6635e07",
   "metadata": {},
   "outputs": [
    {
     "name": "stdout",
     "output_type": "stream",
     "text": [
      "[[18  0  0]\n",
      " [ 1 16  0]\n",
      " [ 1  0  9]]\n"
     ]
    }
   ],
   "source": [
    "# kpca 후\n",
    "\n",
    "from sklearn.metrics import confusion_matrix\n",
    "conf_matrix = confusion_matrix(y_te, pred_rf_kpca)\n",
    "print(conf_matrix)"
   ]
  },
  {
   "cell_type": "markdown",
   "id": "8bed33e9",
   "metadata": {},
   "source": [
    "# report 비교\n",
    "\n",
    "## kernel PCA 전"
   ]
  },
  {
   "cell_type": "code",
   "execution_count": 29,
   "id": "61289d58",
   "metadata": {},
   "outputs": [
    {
     "name": "stdout",
     "output_type": "stream",
     "text": [
      "              precision    recall  f1-score   support\n",
      "\n",
      "           0       0.95      1.00      0.97        18\n",
      "           1       1.00      0.94      0.97        17\n",
      "           2       1.00      1.00      1.00        10\n",
      "\n",
      "    accuracy                           0.98        45\n",
      "   macro avg       0.98      0.98      0.98        45\n",
      "weighted avg       0.98      0.98      0.98        45\n",
      "\n"
     ]
    }
   ],
   "source": [
    "# kpca 전\n",
    "\n",
    "from sklearn.metrics import classification_report\n",
    "class_report = classification_report(y_te, pred_rf_std)\n",
    "print(class_report)"
   ]
  },
  {
   "cell_type": "markdown",
   "id": "455dd4d5",
   "metadata": {},
   "source": [
    "## kernel PCA 후"
   ]
  },
  {
   "cell_type": "code",
   "execution_count": 30,
   "id": "d6a71028",
   "metadata": {},
   "outputs": [
    {
     "name": "stdout",
     "output_type": "stream",
     "text": [
      "              precision    recall  f1-score   support\n",
      "\n",
      "           0       0.90      1.00      0.95        18\n",
      "           1       1.00      0.94      0.97        17\n",
      "           2       1.00      0.90      0.95        10\n",
      "\n",
      "    accuracy                           0.96        45\n",
      "   macro avg       0.97      0.95      0.95        45\n",
      "weighted avg       0.96      0.96      0.96        45\n",
      "\n"
     ]
    }
   ],
   "source": [
    "# kpca 후\n",
    "\n",
    "from sklearn.metrics import classification_report\n",
    "class_report = classification_report(y_te, pred_rf_kpca)\n",
    "print(class_report)"
   ]
  },
  {
   "cell_type": "markdown",
   "id": "fd699901",
   "metadata": {},
   "source": [
    "# 실험: n_composition = 3 일때 kernel PCA"
   ]
  },
  {
   "cell_type": "code",
   "execution_count": 34,
   "id": "825266ba",
   "metadata": {},
   "outputs": [
    {
     "name": "stdout",
     "output_type": "stream",
     "text": [
      "origin data volume: (133, 13)\n",
      "after pca volume: (133, 3)\n",
      "eigenvalues: [615.93183073 335.53461284 196.54124048]\n",
      "eigenvectors: [[-8.99287127e-02 -8.11255534e-03 -4.85717684e-02]\n",
      " [-5.49780499e-02  2.30716140e-02 -8.10675916e-02]\n",
      " [-7.72856145e-02 -1.09986115e-01  8.35291511e-02]\n",
      " [-1.42609209e-01 -1.57138148e-01 -3.92783589e-02]\n",
      " [-1.28226427e-01 -1.10278675e-01 -2.25357618e-02]\n",
      " [ 5.59267299e-02  7.30861124e-02  2.39580744e-01]\n",
      " [ 9.81281545e-02 -1.09433043e-01 -6.36323955e-02]\n",
      " [ 1.09794784e-01 -7.24839601e-02 -2.98627446e-02]\n",
      " [-8.97611128e-02 -4.88981196e-02 -6.71460046e-02]\n",
      " [ 4.34953181e-02  1.17845428e-01 -7.79202008e-03]\n",
      " [-1.03066267e-01 -3.50126881e-02  6.55587285e-02]\n",
      " [-9.15771717e-02 -5.06494130e-02  9.70563123e-02]\n",
      " [-4.93379079e-02  8.74882413e-02  1.07187893e-01]\n",
      " [ 1.17471759e-01 -1.20403091e-02 -7.87970024e-02]\n",
      " [-9.99129180e-02  9.57446973e-02 -1.52945535e-01]\n",
      " [ 1.01067839e-02  4.63758175e-02  3.99964237e-02]\n",
      " [-7.76633946e-02 -1.02765666e-01  5.55671214e-02]\n",
      " [ 1.16141994e-01 -7.20266050e-02 -6.73704698e-02]\n",
      " [ 9.89173835e-03  1.46695071e-01  5.41188502e-02]\n",
      " [ 1.21579941e-01  2.36528045e-02 -5.74901449e-02]\n",
      " [-1.41528137e-01 -7.84827541e-02 -9.30735482e-02]\n",
      " [ 3.95406817e-03  1.18943504e-01 -3.95238193e-02]\n",
      " [-4.81494353e-02 -1.03394267e-01  5.38716320e-03]\n",
      " [-4.11175583e-02  1.25991016e-01  6.74641764e-03]\n",
      " [-6.01943238e-02 -4.85949985e-02  3.02729076e-02]\n",
      " [ 1.42784832e-01 -3.11604080e-02 -9.55979429e-02]\n",
      " [ 9.71313676e-02 -1.30393422e-01  3.80154612e-02]\n",
      " [ 8.72863875e-02 -1.05346135e-01  6.00687080e-02]\n",
      " [ 1.08132839e-01 -1.41635461e-01 -5.75100346e-02]\n",
      " [ 8.75569798e-02  7.80096580e-02 -1.36415689e-01]\n",
      " [ 2.35431859e-02  1.31133135e-01 -1.13512099e-01]\n",
      " [-4.93864020e-02 -1.53011596e-02  6.86300914e-02]\n",
      " [ 1.33081973e-01 -1.03586559e-01 -1.69511467e-02]\n",
      " [-1.04303770e-01 -6.59399240e-02  6.85684682e-02]\n",
      " [ 5.60472095e-02  4.53812194e-02 -4.31989749e-02]\n",
      " [ 9.95992880e-02 -3.23624211e-02 -5.77886374e-02]\n",
      " [-1.01427024e-01 -7.91439310e-02 -7.42867702e-02]\n",
      " [-4.10892866e-02  1.01101653e-01 -2.17205406e-02]\n",
      " [-1.33830607e-01 -1.00448620e-01 -1.19205969e-02]\n",
      " [ 1.49691028e-01  7.14432949e-03  2.09389297e-02]\n",
      " [ 4.94616706e-02  7.37574492e-02 -1.38424437e-02]\n",
      " [-4.32452570e-02  3.49695788e-02  3.75301582e-02]\n",
      " [-1.00701391e-01 -8.56471806e-02  3.86010318e-02]\n",
      " [-6.68137440e-02  1.16355237e-01  5.08534498e-02]\n",
      " [ 3.40224184e-02  1.00697882e-01  6.46939136e-02]\n",
      " [-2.45419993e-03  6.33736375e-02  7.13467085e-02]\n",
      " [-1.12774455e-01 -7.53972804e-02 -3.83165616e-02]\n",
      " [-9.40964691e-03  6.10452973e-02 -1.30477250e-01]\n",
      " [-8.27460630e-02  5.98097681e-02  3.15310395e-02]\n",
      " [ 6.88077126e-02  8.91536891e-02 -1.02987013e-02]\n",
      " [ 9.61728794e-02 -1.22269220e-01 -3.34885072e-02]\n",
      " [-1.90807672e-03  1.52358972e-01 -2.48629717e-02]\n",
      " [ 1.08278640e-02  1.23734734e-01 -2.53622506e-02]\n",
      " [-7.44201570e-03  1.16834171e-01  2.74338882e-02]\n",
      " [-6.52213743e-02  7.70890482e-02  1.58185563e-02]\n",
      " [-1.42066205e-01 -8.88335902e-02 -3.18383616e-02]\n",
      " [-6.05467759e-02 -5.09157054e-02  3.37885621e-02]\n",
      " [-7.01501815e-02 -1.62502415e-02 -1.46658366e-02]\n",
      " [ 1.00798343e-01 -2.46361348e-02 -5.46413052e-02]\n",
      " [-6.80884482e-02  2.86234144e-02 -1.05817098e-01]\n",
      " [ 9.57328001e-02  1.74069820e-02  3.53897512e-02]\n",
      " [ 1.05927000e-01 -1.81773848e-02 -8.37003121e-02]\n",
      " [ 1.29085222e-01 -1.33711890e-01  7.87812290e-02]\n",
      " [-5.62824495e-02 -6.96976443e-03 -1.02232219e-01]\n",
      " [-4.31141300e-02  1.21864479e-01 -1.14226414e-01]\n",
      " [-7.36038024e-02  1.71431572e-02  5.64592859e-03]\n",
      " [ 1.42921879e-02  1.46564756e-01 -5.70081123e-02]\n",
      " [-1.90236933e-02  1.30803204e-01 -8.31593207e-02]\n",
      " [-1.14513289e-01 -5.62964596e-02 -7.51525873e-02]\n",
      " [ 9.36632211e-02 -1.20094129e-01  4.23074750e-02]\n",
      " [-2.62693583e-02  1.10725796e-01 -3.78968149e-02]\n",
      " [ 3.98960902e-02  4.49699020e-02  2.20458771e-01]\n",
      " [ 1.12607362e-01 -4.78614607e-03 -6.85304956e-03]\n",
      " [ 1.09977881e-01 -1.04496274e-01 -6.58538649e-02]\n",
      " [ 1.13942630e-02  1.30070602e-01  1.61579980e-01]\n",
      " [-9.99855556e-02  7.05055016e-02 -2.20371569e-02]\n",
      " [ 3.97499783e-04  1.07442889e-01  5.23216363e-03]\n",
      " [ 1.13462325e-01 -5.50425377e-02 -8.46259655e-02]\n",
      " [ 4.60108830e-02 -1.81989391e-01  8.52106759e-02]\n",
      " [ 1.49881231e-02  9.89040061e-02  4.62432770e-02]\n",
      " [-9.48066714e-02 -1.06287603e-01  1.31805896e-02]\n",
      " [ 8.61336335e-03  1.29694915e-01  9.01660362e-02]\n",
      " [-3.35591289e-02 -1.05674080e-02 -5.55685295e-02]\n",
      " [ 8.95995884e-02 -1.50505266e-02 -1.28294646e-02]\n",
      " [-7.25768769e-02  7.36604595e-02  1.23378798e-01]\n",
      " [-4.35749066e-02  1.78542420e-01 -3.15989045e-02]\n",
      " [-1.43345845e-01 -1.06300450e-01 -4.12024131e-02]\n",
      " [-7.68268510e-02 -4.86524202e-02 -1.17260643e-02]\n",
      " [-2.47029200e-02  1.12539021e-01 -1.79447157e-01]\n",
      " [-2.43119760e-02 -1.87287722e-02 -1.18238978e-02]\n",
      " [-7.70511247e-02  7.57659384e-03  6.01296170e-02]\n",
      " [-1.50552712e-01 -1.68611321e-01 -1.39726342e-02]\n",
      " [ 1.15168913e-01 -9.87648325e-02 -2.65066330e-02]\n",
      " [-1.09919179e-01 -1.09618990e-01 -4.90356276e-02]\n",
      " [ 9.03419532e-02 -1.35281626e-02 -4.58038970e-02]\n",
      " [ 9.50343463e-02 -1.27512198e-01  1.12083683e-01]\n",
      " [-1.02746215e-01 -7.95836171e-02  9.72809774e-02]\n",
      " [-5.86332549e-02 -1.59831066e-02  3.80725649e-01]\n",
      " [-3.32992370e-02  2.07599892e-01  8.93743726e-02]\n",
      " [ 1.42101958e-01 -7.96046107e-02  1.24016665e-04]\n",
      " [-1.03930919e-01 -6.50388963e-02 -1.30158107e-01]\n",
      " [ 5.26839176e-02  6.80785514e-02 -6.69738263e-02]\n",
      " [ 9.79712566e-03  1.08170199e-01  9.10709132e-02]\n",
      " [-9.61819532e-02  1.97417043e-03 -1.50236843e-01]\n",
      " [-9.13036281e-02 -7.85571898e-02  1.52164212e-02]\n",
      " [-1.07615203e-01 -1.04247893e-02 -2.64432163e-02]\n",
      " [ 6.60612991e-02  4.44010812e-02 -1.16886319e-01]\n",
      " [-9.26864128e-02  9.94198362e-02 -5.30391329e-03]\n",
      " [-8.45570002e-02 -1.06077439e-01  1.04019137e-02]\n",
      " [ 1.02464169e-01 -8.46512547e-02  2.20451019e-02]\n",
      " [ 8.60215781e-02 -1.49222385e-02 -6.87815640e-02]\n",
      " [ 2.22949661e-02  1.21526395e-01  5.31308002e-02]\n",
      " [ 1.64761126e-02  1.29903589e-02  1.02413396e-01]\n",
      " [ 2.64321893e-02  9.54921378e-04 -5.25860535e-02]\n",
      " [-1.34394995e-01 -2.15240072e-02 -1.45731787e-01]\n",
      " [ 1.14882594e-01 -1.81866622e-02  7.11618873e-02]\n",
      " [ 1.32819632e-01 -5.89691943e-02  1.17951293e-01]\n",
      " [ 1.14078916e-01 -8.82342968e-02 -5.12616609e-02]\n",
      " [ 8.97793916e-02 -9.40523906e-03  9.18991705e-02]\n",
      " [ 1.66067245e-01 -1.47206708e-02 -9.75556078e-02]\n",
      " [ 1.16661447e-02  1.21550318e-01 -1.09757928e-01]\n",
      " [-1.27544817e-01 -6.22330496e-02 -2.57263429e-02]\n",
      " [-4.20800526e-02 -6.12518314e-02  2.75041106e-01]\n",
      " [ 8.78747699e-02  2.87734428e-02 -8.21096615e-02]\n",
      " [-7.36046305e-02  4.90725061e-02  1.37124788e-01]\n",
      " [ 6.16437798e-02  7.47311458e-02  5.71797570e-02]\n",
      " [ 8.48008670e-02 -5.65536654e-02 -8.19910741e-02]\n",
      " [-2.29710945e-02  5.70668600e-02  1.30482365e-01]\n",
      " [ 8.04068444e-02 -1.24329624e-02 -2.41175437e-02]\n",
      " [ 1.52523882e-01 -1.65436980e-02  1.29876874e-01]\n",
      " [ 2.13771764e-02  5.97041909e-02  4.94764657e-03]\n",
      " [ 1.05798377e-01 -8.95052892e-03  4.48766725e-02]\n",
      " [-5.11721612e-02 -1.62954130e-02 -5.45040404e-03]]\n",
      "after pca accuracy: 0.9333333333333333\n",
      "[[18  0  0]\n",
      " [ 1 16  0]\n",
      " [ 2  0  8]]\n",
      "              precision    recall  f1-score   support\n",
      "\n",
      "           0       0.86      1.00      0.92        18\n",
      "           1       1.00      0.94      0.97        17\n",
      "           2       1.00      0.80      0.89        10\n",
      "\n",
      "    accuracy                           0.93        45\n",
      "   macro avg       0.95      0.91      0.93        45\n",
      "weighted avg       0.94      0.93      0.93        45\n",
      "\n"
     ]
    }
   ],
   "source": [
    "import pandas as pd\n",
    "import numpy as np\n",
    "\n",
    "# data import\n",
    "from sklearn import datasets\n",
    "\n",
    "raw_wine = datasets.load_wine()\n",
    "X = raw_wine.data\n",
    "y = raw_wine.target\n",
    "\n",
    "\n",
    "# train/test data split\n",
    "from sklearn.model_selection import train_test_split\n",
    "X_tn, X_te, y_tn, y_te = train_test_split(X, y, random_state = 1)\n",
    "\n",
    "\n",
    "# data standardization\n",
    "from sklearn.preprocessing import StandardScaler\n",
    "\n",
    "std_scale = StandardScaler()\n",
    "std_scale.fit(X_tn)\n",
    "X_tn_std = std_scale.transform(X_tn)\n",
    "X_te_std = std_scale.transform(X_te)\n",
    "\n",
    "\n",
    "# pca modeling\n",
    "from sklearn.decomposition import KernelPCA\n",
    "\n",
    "kpca = KernelPCA(n_components = 3)           # 3차원으로 만드는 모델\n",
    "kpca.fit(X_tn_std)                           # 데이터 적합\n",
    "\n",
    "X_tn_kpca = kpca.transform(X_tn_std)\n",
    "X_te_kpca = kpca.transform(X_te_std)\n",
    "\n",
    "\n",
    "# checking\n",
    "print('origin data volume:', X_tn_std.shape)\n",
    "print('after pca volume:', X_tn_kpca.shape)\n",
    "\n",
    "# 고유값 고유벡터\n",
    "print(\"eigenvalues:\", kpca.eigenvalues_)\n",
    "print(\"eigenvectors:\", kpca.eigenvectors_)\n",
    "\n",
    "# # explained variance\n",
    "# print(\"explained variance:\", pca.explained_variance_)\n",
    "# print(\"explained variance ratio:\", pca.explained_variance_ratio_)\n",
    "\n",
    "\n",
    "# # pca data -> DataFrame for visualization\n",
    "# pca_columns = ['pca_comp1', 'pca_comp2']\n",
    "# X_tn_pca_df = pd.DataFrame(X_tn_pca, columns = pca_columns)\n",
    "# X_tn_pca_df['target'] = y_tn\n",
    "\n",
    "\n",
    "# # visualization\n",
    "# df = X_tn_pca_df\n",
    "# markers = ['o', 'x', '^']                   # 데이터 포인트 마커 지정\n",
    "\n",
    "# for i, mark in enumerate(markers):          # 클래스가 3개이기 때문에 3번 반복됨. 마커가 3개로 3번 반복된다.\n",
    "#     df_i = df[df['target']== i]             # 해당 클래스가 있는 데이터프레임 지정\n",
    "#     target_i = raw_wine.target_names[i]     # 클래스 저장\n",
    "#     X1 = df_i['pca_comp1']\n",
    "#     X2 = df_i['pca_comp2']\n",
    "#     plt.scatter(X1, X2, marker = mark, label = target_i)\n",
    "\n",
    "# plt.xlabel('pca_component1')\n",
    "# plt.ylabel('pca_component2')\n",
    "# plt.legend()                                               # 범례 추가하기\n",
    "# plt.show()\n",
    "\n",
    "\n",
    "# # before pca\n",
    "from sklearn.ensemble import RandomForestClassifier\n",
    "# clf_rf_std = RandomForestClassifier(max_depth = 2, random_state = 1)\n",
    "# clf_rf_std.fit(X_tn_std, y_tn)\n",
    "# pred_rf_std = clf_rf_std.predict(X_te_std)\n",
    "\n",
    "# from sklearn.metrics import accuracy_score\n",
    "# accuracy = accuracy_score(y_te, pred_rf_std)\n",
    "# print(\"before pca accuracy:\", accuracy)\n",
    "\n",
    "# after pca\n",
    "clf_rf_kpca = RandomForestClassifier(max_depth = 2, random_state = 1)\n",
    "clf_rf_kpca.fit(X_tn_kpca, y_tn)\n",
    "pred_rf_kpca = clf_rf_kpca.predict(X_te_kpca)\n",
    "\n",
    "accuracy = accuracy_score(y_te, pred_rf_kpca)\n",
    "print(\"after pca accuracy:\", accuracy)\n",
    "\n",
    "from sklearn.metrics import confusion_matrix\n",
    "conf_matrix = confusion_matrix(y_te, pred_rf_kpca)\n",
    "print(conf_matrix)\n",
    "\n",
    "from sklearn.metrics import classification_report\n",
    "class_report = classification_report(y_te, pred_rf_kpca)\n",
    "print(class_report)"
   ]
  },
  {
   "cell_type": "markdown",
   "id": "319260bc",
   "metadata": {},
   "source": [
    "오히려 정확도는 떨어졌다. 재밌는 건 kernel PCA를 진행했음에도 주성분분석을 했을 때와 같은 결과인 것이다. 주성분 3개만 사용하기로 한 것만 같은데 말이다."
   ]
  },
  {
   "cell_type": "code",
   "execution_count": null,
   "id": "ddd6ce1d",
   "metadata": {},
   "outputs": [],
   "source": []
  }
 ],
 "metadata": {
  "kernelspec": {
   "display_name": "Python 3 (ipykernel)",
   "language": "python",
   "name": "python3"
  },
  "language_info": {
   "codemirror_mode": {
    "name": "ipython",
    "version": 3
   },
   "file_extension": ".py",
   "mimetype": "text/x-python",
   "name": "python",
   "nbconvert_exporter": "python",
   "pygments_lexer": "ipython3",
   "version": "3.8.5"
  },
  "toc": {
   "base_numbering": 1,
   "nav_menu": {},
   "number_sections": true,
   "sideBar": true,
   "skip_h1_title": false,
   "title_cell": "Table of Contents",
   "title_sidebar": "Contents",
   "toc_cell": false,
   "toc_position": {
    "height": "calc(100% - 180px)",
    "left": "10px",
    "top": "150px",
    "width": "383.984px"
   },
   "toc_section_display": true,
   "toc_window_display": true
  }
 },
 "nbformat": 4,
 "nbformat_minor": 5
}

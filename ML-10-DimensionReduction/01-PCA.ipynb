{
 "cells": [
  {
   "cell_type": "markdown",
   "id": "dee0e18b",
   "metadata": {},
   "source": [
    "# 주성분분석(PCA) 실습\n",
    "\n",
    "#####  차원 축소 개념 정리\n",
    "---\n",
    "\n",
    "데이터에는 중요하지 않은 부분(noise)가 존재하며, 이를 제거하는 방법으로 사용되는 것이 차원 축소(dimension reduction)인 것이다.\n",
    "\n",
    "차원 축소는 주어진 데이터의 정보 손실을 최소화하면서 줄이는 것이 핵심이다.\n",
    "\n",
    "비지도학습적인 방법으로는 주성분 분석(Principal Component Analysis)같은 방법이 있고,\n",
    "\n",
    "지도학습적인 방법으로 선형 판별 분석(Linear Discriminant Analysis)과 같은 방법이 있다.\n",
    "\n",
    "> 차원의 저주(curse of dimensionality): 데이터의 차원이 커질수록 해당 차원을 표현하기 위해 필요한 데ㅔ이터가 기하급수적으로 많아짐을 의미한다. \n",
    "    \n",
    "    트레이닝 데이터 셋의 차원이 클수록 차원의 저주 떄문에 해당 공간을 적절히 표현하지 못하여 오버피팅될 확률이 높아진다.\n",
    "    예를 들어 1차원 공간에 데이터를 표현할 수 있는 공간이 0~10까지 있다면 해당 공간에는 10개의 데이터가 포함될 수 있다. \n",
    "    2차원 공간을 생각하면 각 축은 0~10으로 공간을 채우는데 필요한 데이터가 100개가 되고 3차원은 1000개가 된다.\n",
    "    차원 축소를 이용하면 이와 같은 차원의 저주 문제를 해결할 수 있다.\n",
    "\n",
    "\n",
    "##### 주성분 분석\n",
    "---\n",
    "여러 피처가 통계적으로 서로 상관관계가 없도록 **'변환시키는'** 방법이다. \n",
    "\n",
    "주성분 분석은 오직 공분산 행렬(covariance matrix) $\\Sigma$에만 영향을 받는다.\n",
    "\n",
    "피처 행렬 100x4이 있다면 그의 공분산 행렬은 4x4, 그들의 고윳값을 구하면 4개의 고유값 $\\lambda_1 , \\lambda_2, \\lambda_3, \\lambda_4$과 \n",
    "고유벡터 $e_1, e_2, e_3, e_4$를 구할 수 있다.\n",
    "\n",
    "고윳값은 고유벡터의 크기를 나타내며, 분산의 크기를 의미한다. 또한 고유 벡터는 분산의 방향을의미한다. 분산이 큰 고유 벡터에 기존 데이터를 투영해 새로운 데이터를 구할 수 있는데, 이렇게 구한 벡터를 주성분 벡터라고 부른다.\n",
    "\n",
    "주성분 벡터간의 공분산은 0으로 서로 상관관계가 없다는 것을 알 수 있는데, 주성분 벡터는 서로 직교하는데, 이 직교한다는 뜻은 벡터 끼리의 사잇각이 90도라는 뜻이다. 사잇각이 90도라는 뜻은 내적하면 0이 된다는 뜻. 서로 상관관계가 없다는 것.\n",
    "\n",
    "공분산 행렬이 $p$차원이라면 고윳값도 $p$ 개 를 구할 수 있다.\n",
    "\n",
    "(고윳값은 고유벡터의 크기를 나타내며, 분산의 크기를 의미한다고 했으므로)고윳값 $p$개를 다 더하면 데이터 셋의 전체 변동성이 된다.\n",
    "\n",
    "2차원으로 줄이기로 한다면, 가장 큰 고윳값 두 개를 $\\lambda_1 , \\lambda_2$라고 하겠다. 모든 람다의 합 분의 $\\lambda_1 , \\lambda_2$ 을 n% 라고 한다면\n",
    "\n",
    "$p$ 차원 데이터를 2차원으로 줄였을 때의 전체 변동성의 n%가 설명 가능하다는 뜻이 된다.\n",
    "\n",
    "##### 10.2.2 와인 데이터를 활용하여 주성분 분석을 통해 차원축소를 해본다.\n"
   ]
  },
  {
   "cell_type": "markdown",
   "id": "29cf1d3d",
   "metadata": {},
   "source": [
    "# Dataset import\n",
    "## 데이터 불러오기"
   ]
  },
  {
   "cell_type": "code",
   "execution_count": 1,
   "id": "393ce3e9",
   "metadata": {},
   "outputs": [],
   "source": [
    "import pandas as pd\n",
    "import numpy as np\n",
    "\n",
    "from sklearn import datasets\n",
    "raw_wine = datasets.load_wine()"
   ]
  },
  {
   "cell_type": "code",
   "execution_count": 2,
   "id": "1fee972a",
   "metadata": {},
   "outputs": [
    {
     "data": {
      "text/plain": [
       "['alcohol',\n",
       " 'malic_acid',\n",
       " 'ash',\n",
       " 'alcalinity_of_ash',\n",
       " 'magnesium',\n",
       " 'total_phenols',\n",
       " 'flavanoids',\n",
       " 'nonflavanoid_phenols',\n",
       " 'proanthocyanins',\n",
       " 'color_intensity',\n",
       " 'hue',\n",
       " 'od280/od315_of_diluted_wines',\n",
       " 'proline']"
      ]
     },
     "execution_count": 2,
     "metadata": {},
     "output_type": "execute_result"
    }
   ],
   "source": [
    "# 데이터 셋 내 피처 살펴보기\n",
    "raw_wine.feature_names"
   ]
  },
  {
   "cell_type": "markdown",
   "id": "53e0dae9",
   "metadata": {},
   "source": [
    "# 피처, 타깃 데이터 지정"
   ]
  },
  {
   "cell_type": "code",
   "execution_count": 3,
   "id": "e76b530f",
   "metadata": {},
   "outputs": [],
   "source": [
    "X = raw_wine.data\n",
    "y = raw_wine.target"
   ]
  },
  {
   "cell_type": "markdown",
   "id": "65d631e3",
   "metadata": {},
   "source": [
    "## 트레이닝, 테스트 데이터 분할"
   ]
  },
  {
   "cell_type": "code",
   "execution_count": 4,
   "id": "d674bf94",
   "metadata": {},
   "outputs": [],
   "source": [
    "from sklearn.model_selection import train_test_split\n",
    "X_tn, X_te, y_tn, y_te = train_test_split(X, y, random_state = 1)"
   ]
  },
  {
   "cell_type": "markdown",
   "id": "d080bc7a",
   "metadata": {},
   "source": [
    "## 데이터 표준화"
   ]
  },
  {
   "cell_type": "code",
   "execution_count": 5,
   "id": "f9edad99",
   "metadata": {},
   "outputs": [],
   "source": [
    "from sklearn.preprocessing import StandardScaler\n",
    "\n",
    "# X 트레이닝 데이터 기준으로 std scaler fitting, Xtn Xte모두.\n",
    "std_scale = StandardScaler()\n",
    "std_scale.fit(X_tn)\n",
    "X_tn_std = std_scale.transform(X_tn)\n",
    "X_te_std = std_scale.transform(X_te)"
   ]
  },
  {
   "cell_type": "markdown",
   "id": "b601f993",
   "metadata": {},
   "source": [
    "# PCA를 통한 차원 축소 (2차원)\n",
    "\n",
    "n_components 옵션을 사용하여 줄이고 싶은 차원수를 설정한다."
   ]
  },
  {
   "cell_type": "code",
   "execution_count": 10,
   "id": "dffd21b4",
   "metadata": {},
   "outputs": [],
   "source": [
    "from sklearn.decomposition import PCA\n",
    "pca = PCA(n_components = 2)\n",
    "pca.fit(X_tn_std)\n",
    "X_tn_pca = pca.transform(X_tn_std)\n",
    "X_te_pca = pca.transform(X_te_std)"
   ]
  },
  {
   "cell_type": "markdown",
   "id": "043b0b21",
   "metadata": {},
   "source": [
    "## 데이터 차원 축소 확인"
   ]
  },
  {
   "cell_type": "code",
   "execution_count": 11,
   "id": "021c6a5d",
   "metadata": {},
   "outputs": [
    {
     "name": "stdout",
     "output_type": "stream",
     "text": [
      "(133, 13)\n"
     ]
    }
   ],
   "source": [
    "print(X_tn_std.shape)"
   ]
  },
  {
   "cell_type": "code",
   "execution_count": 13,
   "id": "8bd6c80a",
   "metadata": {},
   "outputs": [
    {
     "name": "stdout",
     "output_type": "stream",
     "text": [
      "(133, 2)\n"
     ]
    }
   ],
   "source": [
    "print(X_tn_pca.shape)"
   ]
  },
  {
   "cell_type": "markdown",
   "id": "9b6c1a2a",
   "metadata": {},
   "source": [
    "2차원 데이터 133개로 구성되도록 잘되었음.\n",
    "\n",
    "## 공분산행렬"
   ]
  },
  {
   "cell_type": "code",
   "execution_count": 14,
   "id": "b7c50096",
   "metadata": {
    "scrolled": true
   },
   "outputs": [
    {
     "name": "stdout",
     "output_type": "stream",
     "text": [
      "[[ 1.06244198  0.05588975  0.29643474 -0.14674317  0.38769443  0.25079577\n",
      "   0.19779094 -0.10070718  0.17126277  0.44742545 -0.12013532  0.02879752\n",
      "   0.50505224]\n",
      " [ 0.05588975  0.86510155  0.11906446  0.23837434  0.00721146 -0.39785163\n",
      "  -0.4503856   0.31716671 -0.30728109  0.30100181 -0.42357315 -0.45825394\n",
      "  -0.14345856]\n",
      " [ 0.29643474  0.11906446  0.72597065 -0.01380654  0.20891722  0.02618151\n",
      "  -0.01633577  0.03209892  0.00824227  0.32033554 -0.17879769 -0.10868048\n",
      "   0.2307792 ]\n",
      " [-0.14674317  0.23837434 -0.01380654  0.77557799 -0.13456582 -0.4028355\n",
      "  -0.42487887  0.28525095 -0.30301432  0.07431753 -0.28885443 -0.36992936\n",
      "  -0.2952175 ]\n",
      " [ 0.38769443  0.00721146  0.20891722 -0.13456582  0.82428285  0.22898335\n",
      "   0.19490044 -0.10843832  0.16009666  0.30262412 -0.0453494   0.06951315\n",
      "   0.39222323]\n",
      " [ 0.25079577 -0.39785163  0.02618151 -0.4028355   0.22898335  1.21144743\n",
      "   0.7122459  -0.47784458  0.50827447 -0.11953458  0.48155509  0.61862946\n",
      "   0.49873766]\n",
      " [ 0.19779094 -0.4503856  -0.01633577 -0.42487887  0.19490044  0.7122459\n",
      "   1.29615797 -0.51523054  0.53821522 -0.20128733  0.55318211  0.68259141\n",
      "   0.476491  ]\n",
      " [-0.10070718  0.31716671  0.03209892  0.28525095 -0.10843832 -0.47784458\n",
      "  -0.51523054  0.88680515 -0.36236459  0.17130085 -0.39315908 -0.47274872\n",
      "  -0.29608349]\n",
      " [ 0.17126277 -0.30728109  0.00824227 -0.30301432  0.16009666  0.50827447\n",
      "   0.53821522 -0.36236459  0.91837171 -0.10951144  0.37402456  0.4731808\n",
      "   0.36224473]\n",
      " [ 0.44742545  0.30100181  0.32033554  0.07431753  0.30262412 -0.11953458\n",
      "  -0.20128733  0.17130085 -0.10951144  1.11400146 -0.42381722 -0.3369003\n",
      "   0.27449782]\n",
      " [-0.12013532 -0.42357315 -0.17879769 -0.28885443 -0.0453494   0.48155509\n",
      "   0.55318211 -0.39315908  0.37402456 -0.42381722  1.0843246   0.57894667\n",
      "   0.13493049]\n",
      " [ 0.02879752 -0.45825394 -0.10868048 -0.36992936  0.06951315  0.61862946\n",
      "   0.68259141 -0.47274872  0.4731808  -0.3369003   0.57894667  1.19451641\n",
      "   0.30839956]\n",
      " [ 0.50505224 -0.14345856  0.2307792  -0.2952175   0.39222323  0.49873766\n",
      "   0.476491   -0.29608349  0.36224473  0.27449782  0.13493049  0.30839956\n",
      "   1.13948511]]\n"
     ]
    }
   ],
   "source": [
    "print(pca.get_covariance())"
   ]
  },
  {
   "cell_type": "markdown",
   "id": "3addf948",
   "metadata": {},
   "source": [
    "## 고윳값, 고유 벡터 확인"
   ]
  },
  {
   "cell_type": "code",
   "execution_count": 15,
   "id": "04f1ed99",
   "metadata": {},
   "outputs": [
    {
     "name": "stdout",
     "output_type": "stream",
     "text": [
      "[24.81797394 18.31760391]\n"
     ]
    }
   ],
   "source": [
    "print(pca.singular_values_)"
   ]
  },
  {
   "cell_type": "code",
   "execution_count": 18,
   "id": "1d2c86c6",
   "metadata": {},
   "outputs": [
    {
     "name": "stdout",
     "output_type": "stream",
     "text": [
      "[[-0.10418545  0.25670612  0.01387486  0.23907587 -0.10470229 -0.4007005\n",
      "  -0.42902734  0.29111343 -0.30307602  0.12127653 -0.31609521 -0.38729685\n",
      "  -0.26283936]\n",
      " [-0.49018724 -0.1691503  -0.30746987  0.04459018 -0.34837302 -0.07966456\n",
      "  -0.0133774  -0.02498633 -0.0415164  -0.50798383  0.26045807  0.14018631\n",
      "  -0.39850143]]\n"
     ]
    }
   ],
   "source": [
    "print(pca.components_)"
   ]
  },
  {
   "cell_type": "code",
   "execution_count": null,
   "id": "cfa10b1b",
   "metadata": {},
   "outputs": [],
   "source": []
  },
  {
   "cell_type": "markdown",
   "id": "50fb88f3",
   "metadata": {},
   "source": [
    "고유벡터가 바로 각 고윳값에 대응되는 고유 벡터로 이 고유 벡터가 바로 주성분 벡터이다.\n",
    "\n",
    "## 설명되는 분산"
   ]
  },
  {
   "cell_type": "code",
   "execution_count": 19,
   "id": "d1f44423",
   "metadata": {},
   "outputs": [
    {
     "name": "stdout",
     "output_type": "stream",
     "text": [
      "[4.66615023 2.54192889]\n"
     ]
    }
   ],
   "source": [
    "print(pca.explained_variance_)"
   ]
  },
  {
   "cell_type": "code",
   "execution_count": 20,
   "id": "7d882df4",
   "metadata": {},
   "outputs": [
    {
     "name": "stdout",
     "output_type": "stream",
     "text": [
      "[0.35623588 0.19406282]\n"
     ]
    }
   ],
   "source": [
    "print(pca.explained_variance_ratio_)"
   ]
  },
  {
   "cell_type": "markdown",
   "id": "38241147",
   "metadata": {},
   "source": [
    "전체 분산의 약 35.9 퍼센트, 19.6 퍼센트를 설명 가능하다는 것을 볼 수 있다.\n",
    "\n",
    "## 차원 축소 데이터 확인\n",
    "\n",
    "데이터 프레임으로 바꾸는 이유는 데이터 시각화에 유리하기 때문이다."
   ]
  },
  {
   "cell_type": "code",
   "execution_count": 21,
   "id": "b23ec794",
   "metadata": {},
   "outputs": [
    {
     "data": {
      "text/html": [
       "<div>\n",
       "<style scoped>\n",
       "    .dataframe tbody tr th:only-of-type {\n",
       "        vertical-align: middle;\n",
       "    }\n",
       "\n",
       "    .dataframe tbody tr th {\n",
       "        vertical-align: top;\n",
       "    }\n",
       "\n",
       "    .dataframe thead th {\n",
       "        text-align: right;\n",
       "    }\n",
       "</style>\n",
       "<table border=\"1\" class=\"dataframe\">\n",
       "  <thead>\n",
       "    <tr style=\"text-align: right;\">\n",
       "      <th></th>\n",
       "      <th>pca_comp1</th>\n",
       "      <th>pca_comp2</th>\n",
       "      <th>target</th>\n",
       "    </tr>\n",
       "  </thead>\n",
       "  <tbody>\n",
       "    <tr>\n",
       "      <th>0</th>\n",
       "      <td>-2.231848</td>\n",
       "      <td>-0.148603</td>\n",
       "      <td>0</td>\n",
       "    </tr>\n",
       "    <tr>\n",
       "      <th>1</th>\n",
       "      <td>-1.364444</td>\n",
       "      <td>0.422617</td>\n",
       "      <td>1</td>\n",
       "    </tr>\n",
       "    <tr>\n",
       "      <th>2</th>\n",
       "      <td>-1.918072</td>\n",
       "      <td>-2.014682</td>\n",
       "      <td>0</td>\n",
       "    </tr>\n",
       "    <tr>\n",
       "      <th>3</th>\n",
       "      <td>-3.539272</td>\n",
       "      <td>-2.878394</td>\n",
       "      <td>0</td>\n",
       "    </tr>\n",
       "    <tr>\n",
       "      <th>4</th>\n",
       "      <td>-3.182320</td>\n",
       "      <td>-2.020041</td>\n",
       "      <td>0</td>\n",
       "    </tr>\n",
       "  </tbody>\n",
       "</table>\n",
       "</div>"
      ],
      "text/plain": [
       "   pca_comp1  pca_comp2  target\n",
       "0  -2.231848  -0.148603       0\n",
       "1  -1.364444   0.422617       1\n",
       "2  -1.918072  -2.014682       0\n",
       "3  -3.539272  -2.878394       0\n",
       "4  -3.182320  -2.020041       0"
      ]
     },
     "execution_count": 21,
     "metadata": {},
     "output_type": "execute_result"
    }
   ],
   "source": [
    "# 해당 pca 데이터를 데이터 프레임으로 만들고 성분에 이름을 붙여준다.\n",
    "\n",
    "pca_columns = ['pca_comp1', 'pca_comp2']\n",
    "X_tn_pca_df = pd.DataFrame(X_tn_pca, columns = pca_columns)\n",
    "\n",
    "# 그리고 타겟 데이터에 y_tn을 붙여준다.\n",
    "\n",
    "X_tn_pca_df['target'] = y_tn\n",
    "X_tn_pca_df.head(5)"
   ]
  },
  {
   "cell_type": "markdown",
   "id": "11e50239",
   "metadata": {},
   "source": [
    "## 라벨 미적용 PCA 데이터\n",
    "\n",
    "차원 축소된 데이터를 시각화 해본다.\n",
    "\n",
    "라벨이 적용되지 않았다는 말은 타깃 데이터가 없는 경우를 말하는 것이다. 각 데이터가 어떤 와인 클래스를 나타내는지 모른다."
   ]
  },
  {
   "cell_type": "code",
   "execution_count": 22,
   "id": "978f02d0",
   "metadata": {},
   "outputs": [
    {
     "data": {
      "image/png": "[encoded data removed]",
      "text/plain": [
       "<Figure size 432x288 with 1 Axes>"
      ]
     },
     "metadata": {
      "needs_background": "light"
     },
     "output_type": "display_data"
    }
   ],
   "source": [
    "import matplotlib.pyplot as plt\n",
    "\n",
    "plt.scatter(X_tn_pca_df['pca_comp1'], X_tn_pca_df['pca_comp2'], marker = 'o')\n",
    "plt.xlabel('pca_component1')\n",
    "plt.ylabel('pca_component2')\n",
    "plt.show()"
   ]
  },
  {
   "cell_type": "markdown",
   "id": "9f032700",
   "metadata": {},
   "source": [
    "## 라벨 적용 PCA 데이터"
   ]
  },
  {
   "cell_type": "code",
   "execution_count": 24,
   "id": "72bd6d31",
   "metadata": {},
   "outputs": [
    {
     "data": {
      "image/png": "[encoded data removed]",
      "text/plain": [
       "<Figure size 432x288 with 1 Axes>"
      ]
     },
     "metadata": {
      "needs_background": "light"
     },
     "output_type": "display_data"
    }
   ],
   "source": [
    "df = X_tn_pca_df   # 편의상\n",
    "\n",
    "df_0 = df[df['target']== 0]\n",
    "df_1 = df[df['target']== 1]\n",
    "df_2 = df[df['target']== 2]\n",
    "\n",
    "X_11 = df_0['pca_comp1']\n",
    "X_12 = df_1['pca_comp1']\n",
    "X_13 = df_2['pca_comp1']\n",
    "\n",
    "X_21 = df_0['pca_comp2']\n",
    "X_22 = df_1['pca_comp2']\n",
    "X_23 = df_2['pca_comp2']\n",
    "\n",
    "target_0 = raw_wine.target_names[0]\n",
    "target_1 = raw_wine.target_names[1]\n",
    "target_2 = raw_wine.target_names[2]\n",
    "\n",
    "plt.scatter(X_11, X_21, marker = 'o', label = target_0)\n",
    "plt.scatter(X_12, X_22, marker = 'x', label = target_1)\n",
    "plt.scatter(X_13, X_23, marker = '^', label = target_2)\n",
    "\n",
    "plt.xlabel('pca_component1')\n",
    "plt.ylabel('pca_component2')\n",
    "plt.legend()                                               # 범례 추가하기\n",
    "plt.show()"
   ]
  },
  {
   "cell_type": "code",
   "execution_count": null,
   "id": "3223adb1",
   "metadata": {},
   "outputs": [],
   "source": []
  }
 ],
 "metadata": {
  "kernelspec": {
   "display_name": "Python 3 (ipykernel)",
   "language": "python",
   "name": "python3"
  },
  "language_info": {
   "codemirror_mode": {
    "name": "ipython",
    "version": 3
   },
   "file_extension": ".py",
   "mimetype": "text/x-python",
   "name": "python",
   "nbconvert_exporter": "python",
   "pygments_lexer": "ipython3",
   "version": "3.8.5"
  },
  "toc": {
   "base_numbering": 1,
   "nav_menu": {},
   "number_sections": true,
   "sideBar": true,
   "skip_h1_title": false,
   "title_cell": "Table of Contents",
   "title_sidebar": "Contents",
   "toc_cell": false,
   "toc_position": {
    "height": "calc(100% - 180px)",
    "left": "10px",
    "top": "150px",
    "width": "383.984px"
   },
   "toc_section_display": true,
   "toc_window_display": true
  }
 },
 "nbformat": 4,
 "nbformat_minor": 5
}

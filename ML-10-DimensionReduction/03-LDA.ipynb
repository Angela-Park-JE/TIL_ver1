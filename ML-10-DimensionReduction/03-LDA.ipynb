{
 "cells": [
  {
   "cell_type": "markdown",
   "id": "dee0e18b",
   "metadata": {},
   "source": [
    "# 선형 판별 분석 실습\n",
    "\n",
    "---\n",
    "\n",
    "Linear Discriminant Analysis 는 데이터 포인트가 속하는 클래스를 구분하는 판별 함수가 선형 형태의 함수라는 뜻이다.\n",
    "\n",
    "지도 학습적 접근 방식의 Dimension Reduction이다.\n",
    "\n",
    "데이터 셋의 기존 공간으로 부터 **집단 간 분산과 집단 내 분산의 비율을 최대화** 하는 기존 공간보다 **더 작은 차원의 공간으로** 원래의 데이터를 투영시켜 차원 축소한다.\n",
    "\n",
    "크게 (1) 집단 간의 거리를 계산 (between-class variance), (2) 각 집단의 평균과 각 데이터 포인트의 거리 계산 (within-class variance), (3) 기존 데이터 셋의 공간보다 더 작은 차원의 공간을 만드는 세 단계를 거친다. \n",
    "\n",
    "이 공간은 집단 간 분산을 최대화하고, 집단 내 분산을 최소화하는 공간이어야 한다.\n",
    "\n",
    "- 새로운 데이터에 대한 예측은 변형된 공간에서의 각 집단별 평균을 구해 가장 가까운 집단으로 구분한다. \n",
    "\n",
    "- LDA에는 두 가지 방법이 존재한다.\n",
    "\n",
    "        Class-Dependent LDA: 하나의 부분 공간은 각 집단으로 계산되는 방식\n",
    "        (고윳갑 고유 벡터 또한 각 변환 행렬로 따로 구함. 따라서 각 집단 데이터 포인트는 각각에 대응하는 고유 벡터에 투영된다.)\n",
    "        Class-Independent LDA: 클래스 구분 없이 모든 클래스에 대해 변환 행렬을 구함\n",
    "\n",
    "- 기본 개념 자체는 PCA와 비슷하지만, PCA는 데이터 셋의 분산이 최대인 직교 성분 축을 찾으려고 하는 반면, LDA는 클래스를 최적으로 구분할 수 있는 특성 부분 공간을 찾는다.\n",
    "\n",
    "- LDA에서 판별 함수는 선형이지만, 데이터의 집단을 판별하는 선이 항상 직선인 것은 아니다. LDA를 이용해서 곡선의 형태로 판별식을 그릴 수 있다. 그 방법이 더 높은 차원 공간으로 선형 변환한 후 확장된 공간에서 LDA를 하는 것이다.\n",
    "\n",
    "- LDA에서는 집단별 공분한 행렬이 모두 동일하다는 가정을 하지만, QDA(Quadratic Discriminant Analysis)는 이 가정을 일반화시킨 방법으로 집단별 공분산 행렬이 같다는 가정이 존재하지 않는다. LDA, QDA는 파라미터 추정치의 분산이 작다는 장점이 존재하지만 bias가 존재한다는 단점이 있다.\n",
    "\n",
    "> Whitening Transformation: 공분산 행렬이 단위 행렬이 되도록 기존 데이터를 변형하는 방법\n",
    "\n",
    "> 단위 행렬의 대각 원소는 1이므로 이는 각 피처의 분산이 1이 된다는 말\n",
    "\n",
    "> 단위 행렬의 나머지 원소응 0이므로 이는 각 변수 간 상관관계가 존재하지 않는 것을 의미한다.\n",
    "    \n",
    "> 그래서 선형 판별 분석은 $\\mathbf a^T \\boldsymbol{\\Sigma}_W \\mathbf a = 1 $ 이라는 제약 조건 하에  $\\mathbf a^T \\boldsymbol{\\Sigma}_B \\mathbf a $ 을 최대화 하는 벡터 $\\mathbf a$를 찾는 것과 같다. ($\\boldsymbol{\\Sigma}_W$ 는 집단 내 분산 행렬)\n",
    "\n",
    "##### 10.4.3 LDA 알고리즘을 활용하여 와인의 종류를 분류하는 모형을 만들어보자.\n"
   ]
  },
  {
   "cell_type": "markdown",
   "id": "29cf1d3d",
   "metadata": {},
   "source": [
    "# Dataset import\n",
    "## 데이터 불러오기"
   ]
  },
  {
   "cell_type": "code",
   "execution_count": 1,
   "id": "393ce3e9",
   "metadata": {},
   "outputs": [],
   "source": [
    "import pandas as pd\n",
    "import numpy as np\n",
    "\n",
    "from sklearn import datasets\n",
    "raw_wine = datasets.load_wine()"
   ]
  },
  {
   "cell_type": "code",
   "execution_count": 2,
   "id": "1fee972a",
   "metadata": {},
   "outputs": [
    {
     "data": {
      "text/plain": [
       "['alcohol',\n",
       " 'malic_acid',\n",
       " 'ash',\n",
       " 'alcalinity_of_ash',\n",
       " 'magnesium',\n",
       " 'total_phenols',\n",
       " 'flavanoids',\n",
       " 'nonflavanoid_phenols',\n",
       " 'proanthocyanins',\n",
       " 'color_intensity',\n",
       " 'hue',\n",
       " 'od280/od315_of_diluted_wines',\n",
       " 'proline']"
      ]
     },
     "execution_count": 2,
     "metadata": {},
     "output_type": "execute_result"
    }
   ],
   "source": [
    "# 데이터 셋 내 피처 살펴보기\n",
    "raw_wine.feature_names"
   ]
  },
  {
   "cell_type": "markdown",
   "id": "53e0dae9",
   "metadata": {},
   "source": [
    "# 피처, 타깃 데이터 지정"
   ]
  },
  {
   "cell_type": "code",
   "execution_count": 3,
   "id": "e76b530f",
   "metadata": {},
   "outputs": [],
   "source": [
    "X = raw_wine.data\n",
    "y = raw_wine.target"
   ]
  },
  {
   "cell_type": "markdown",
   "id": "65d631e3",
   "metadata": {},
   "source": [
    "## 트레이닝, 테스트 데이터 분할"
   ]
  },
  {
   "cell_type": "code",
   "execution_count": 4,
   "id": "d674bf94",
   "metadata": {},
   "outputs": [],
   "source": [
    "from sklearn.model_selection import train_test_split\n",
    "\n",
    "X_tn, X_te, y_tn, y_te = train_test_split(X, y, random_state = 1)"
   ]
  },
  {
   "cell_type": "markdown",
   "id": "d080bc7a",
   "metadata": {},
   "source": [
    "## 데이터 표준화"
   ]
  },
  {
   "cell_type": "code",
   "execution_count": 5,
   "id": "f9edad99",
   "metadata": {},
   "outputs": [],
   "source": [
    "from sklearn.preprocessing import StandardScaler\n",
    "\n",
    "# X 트레이닝 데이터 기준으로 std scaler fitting, Xtn Xte모두.\n",
    "std_scale = StandardScaler()\n",
    "std_scale.fit(X_tn)\n",
    "X_tn_std = std_scale.transform(X_tn)\n",
    "X_te_std = std_scale.transform(X_te)"
   ]
  },
  {
   "cell_type": "markdown",
   "id": "b601f993",
   "metadata": {},
   "source": [
    "# LDA\n",
    "\n",
    "LDA를 통해 학습을 시킨다. \n",
    "\n",
    "LinearDiscriminantAnalysis 의 옵션으로 n_components 를 통해 원하는 차원 설정이 가능하다.\n",
    "\n",
    "default는 (클래스 개수-1, 피처 개수)의 최소값인데, 와인데이터의 클래스 수는 3, 피처는 13개로 min(3-1=2,13)=2로 자동으로 된다. 2차원으로 줄어드는데, n_components = 1하면 1차원 데이터로 줄어든다."
   ]
  },
  {
   "cell_type": "code",
   "execution_count": 6,
   "id": "585bfbc2",
   "metadata": {},
   "outputs": [],
   "source": [
    "from sklearn.discriminant_analysis import LinearDiscriminantAnalysis\n",
    "\n",
    "lda = LinearDiscriminantAnalysis()    # LDA 모형 설정\n",
    "lda.fit(X_tn_std, y_tn)               # 트레이닝 데이터를 넣고 적합\n",
    "\n",
    "X_tn_lda = lda.transform(X_tn_std)  # 각각 차원축소 시킴\n",
    "X_te_lda = lda.transform(X_te_std)"
   ]
  },
  {
   "cell_type": "markdown",
   "id": "4b136621",
   "metadata": {},
   "source": [
    "## 데이터 차원 축소 확인"
   ]
  },
  {
   "cell_type": "code",
   "execution_count": 7,
   "id": "5eb3ae48",
   "metadata": {},
   "outputs": [
    {
     "name": "stdout",
     "output_type": "stream",
     "text": [
      "(133, 13)\n"
     ]
    }
   ],
   "source": [
    "# 원래의 데이터 크기\n",
    "\n",
    "print(X_tn_std.shape)"
   ]
  },
  {
   "cell_type": "code",
   "execution_count": 8,
   "id": "51c724f0",
   "metadata": {},
   "outputs": [
    {
     "name": "stdout",
     "output_type": "stream",
     "text": [
      "(133, 2)\n"
     ]
    }
   ],
   "source": [
    "# 축소된 데이터 크기\n",
    "\n",
    "print(X_tn_lda.shape)"
   ]
  },
  {
   "cell_type": "markdown",
   "id": "c66047bb",
   "metadata": {},
   "source": [
    "2차원으로차원 축소되어 133개의 데이터가 존재한다."
   ]
  },
  {
   "cell_type": "markdown",
   "id": "fb47f151",
   "metadata": {},
   "source": [
    "## LDA 상수항, 가중 벡터 확인\n",
    "\n",
    "모형의 상수항과 가중 벡터를 확인해 볼 수 있다.\n",
    "\n",
    "상수항은 클래스의 개수만큼 나온다.\n",
    "\n",
    "가중벡터는 (클래스 개수* 피처 개수) 만큼 나오게 된다."
   ]
  },
  {
   "cell_type": "code",
   "execution_count": 9,
   "id": "27c46cc2",
   "metadata": {},
   "outputs": [
    {
     "name": "stdout",
     "output_type": "stream",
     "text": [
      "[ -9.49063922  -3.6792656  -10.65310672]\n"
     ]
    }
   ],
   "source": [
    "print(lda.intercept_)"
   ]
  },
  {
   "cell_type": "code",
   "execution_count": 10,
   "id": "f8765a82",
   "metadata": {},
   "outputs": [
    {
     "name": "stdout",
     "output_type": "stream",
     "text": [
      "[[ 2.11536841  0.34171834  1.60756274 -2.62777005 -0.02954383 -1.92461007\n",
      "   5.43612614  0.30142527 -0.66723405 -2.08948728  0.53569108  3.06011656\n",
      "   5.45318503]\n",
      " [-1.18707715 -0.97635273 -1.64104916  1.19614378  0.22114803  0.2969019\n",
      "   1.13721801  0.4338713   0.33425086 -1.57541361  0.56544507 -0.17730553\n",
      "  -2.34856045]\n",
      " [-0.59547207  1.01875252  0.59754164  1.13544231 -0.28238675  1.65463974\n",
      "  -7.48134065 -0.94177595  0.24492236  4.49319245 -1.38150969 -3.04974421\n",
      "  -2.54627163]]\n"
     ]
    }
   ],
   "source": [
    "print(lda.coef_)"
   ]
  },
  {
   "cell_type": "markdown",
   "id": "8a38fcbd",
   "metadata": {},
   "source": [
    "고유벡터가 바로 각 고윳값에 대응되는 고유 벡터로 이 고유 벡터가 바로 주성분 벡터이다.\n",
    "\n",
    "차원축소 후 해당 성분의 설명되는 분산을 볼 차례인데 kpca는 제공하지 않는다. "
   ]
  },
  {
   "cell_type": "markdown",
   "id": "130ebdda",
   "metadata": {},
   "source": [
    "## LDA 적용 후 데이터 확인\n",
    "\n",
    "데이터 프레임으로 바꾸는 이유는 데이터 시각화에 유리하기 때문이다. 그렇다."
   ]
  },
  {
   "cell_type": "code",
   "execution_count": 11,
   "id": "01e579e4",
   "metadata": {},
   "outputs": [
    {
     "data": {
      "text/html": [
       "<div>\n",
       "<style scoped>\n",
       "    .dataframe tbody tr th:only-of-type {\n",
       "        vertical-align: middle;\n",
       "    }\n",
       "\n",
       "    .dataframe tbody tr th {\n",
       "        vertical-align: top;\n",
       "    }\n",
       "\n",
       "    .dataframe thead th {\n",
       "        text-align: right;\n",
       "    }\n",
       "</style>\n",
       "<table border=\"1\" class=\"dataframe\">\n",
       "  <thead>\n",
       "    <tr style=\"text-align: right;\">\n",
       "      <th></th>\n",
       "      <th>lda_comp1</th>\n",
       "      <th>lda_comp2</th>\n",
       "      <th>target</th>\n",
       "    </tr>\n",
       "  </thead>\n",
       "  <tbody>\n",
       "    <tr>\n",
       "      <th>0</th>\n",
       "      <td>-2.563293</td>\n",
       "      <td>-0.503212</td>\n",
       "      <td>0</td>\n",
       "    </tr>\n",
       "    <tr>\n",
       "      <th>1</th>\n",
       "      <td>-0.646015</td>\n",
       "      <td>-2.169761</td>\n",
       "      <td>1</td>\n",
       "    </tr>\n",
       "    <tr>\n",
       "      <th>2</th>\n",
       "      <td>-3.981901</td>\n",
       "      <td>1.621584</td>\n",
       "      <td>0</td>\n",
       "    </tr>\n",
       "    <tr>\n",
       "      <th>3</th>\n",
       "      <td>-5.956216</td>\n",
       "      <td>3.878140</td>\n",
       "      <td>0</td>\n",
       "    </tr>\n",
       "    <tr>\n",
       "      <th>4</th>\n",
       "      <td>-4.047839</td>\n",
       "      <td>2.335699</td>\n",
       "      <td>0</td>\n",
       "    </tr>\n",
       "  </tbody>\n",
       "</table>\n",
       "</div>"
      ],
      "text/plain": [
       "   lda_comp1  lda_comp2  target\n",
       "0  -2.563293  -0.503212       0\n",
       "1  -0.646015  -2.169761       1\n",
       "2  -3.981901   1.621584       0\n",
       "3  -5.956216   3.878140       0\n",
       "4  -4.047839   2.335699       0"
      ]
     },
     "execution_count": 11,
     "metadata": {},
     "output_type": "execute_result"
    }
   ],
   "source": [
    "# 해당 lda 데이터를 데이터 프레임으로 만들고 차원에 이름을 붙여준다.\n",
    "\n",
    "lda_columns = ['lda_comp1', 'lda_comp2']\n",
    "X_tn_lda_df = pd.DataFrame(X_tn_lda, columns = lda_columns)\n",
    "\n",
    "# 그리고 타겟 데이터에 y_tn을 붙여준다.\n",
    "\n",
    "X_tn_lda_df['target'] = y_tn\n",
    "X_tn_lda_df.head(5)"
   ]
  },
  {
   "cell_type": "markdown",
   "id": "f560803d",
   "metadata": {},
   "source": [
    "## 라벨 미적용 LDA 데이터 시각화\n",
    "\n",
    "라벨이 적용되기 전 나누어진 데이터들을 시각적으로 확인한다."
   ]
  },
  {
   "cell_type": "code",
   "execution_count": 12,
   "id": "69390933",
   "metadata": {},
   "outputs": [
    {
     "data": {
      "image/png": "[encoded data removed]",
      "text/plain": [
       "<Figure size 432x288 with 1 Axes>"
      ]
     },
     "metadata": {
      "needs_background": "light"
     },
     "output_type": "display_data"
    }
   ],
   "source": [
    "import matplotlib.pyplot as plt\n",
    "\n",
    "plt.scatter(X_tn_lda_df['lda_comp1'], X_tn_lda_df['lda_comp2'], marker = 'o') # 각 피처를 요소에 넣고, 마커를 설정\n",
    "plt.xlabel('lda_component1')\n",
    "plt.ylabel('lda_component2')\n",
    "plt.show()"
   ]
  },
  {
   "cell_type": "markdown",
   "id": "414acff1",
   "metadata": {},
   "source": [
    "## 라벨 적용 LDA 데이터 시각화"
   ]
  },
  {
   "cell_type": "code",
   "execution_count": 13,
   "id": "a781bff1",
   "metadata": {},
   "outputs": [
    {
     "data": {
      "image/png": "[encoded data removed]",
      "text/plain": [
       "<Figure size 432x288 with 1 Axes>"
      ]
     },
     "metadata": {
      "needs_background": "light"
     },
     "output_type": "display_data"
    }
   ],
   "source": [
    "df = X_tn_lda_df\n",
    "markers = ['o', 'x', '^']                   # 데이터 포인트 마커 지정\n",
    "\n",
    "for i, mark in enumerate(markers):          # 클래스가 3개이기 때문에 3번 반복됨. 마커가 3개로 3번 반복된다.\n",
    "    df_i = df[df['target']== i]             # 해당 클래스가 있는 데이터프레임 지정\n",
    "    target_i = raw_wine.target_names[i]     # 클래스 저장\n",
    "    X1 = df_i['lda_comp1']\n",
    "    X2 = df_i['lda_comp2']\n",
    "    plt.scatter(X1, X2, marker = mark, label = target_i)\n",
    "\n",
    "plt.xlabel('lda_component1')\n",
    "plt.ylabel('lda_component2')\n",
    "plt.legend()                                               # 범례 추가하기\n",
    "plt.show()"
   ]
  },
  {
   "cell_type": "markdown",
   "id": "5da8cb5c",
   "metadata": {},
   "source": [
    "확실히 잘 나누어져 있는 것처럼 보인다. 다음은 정확도를 보도록 한다."
   ]
  },
  {
   "cell_type": "markdown",
   "id": "5c1f4e5d",
   "metadata": {},
   "source": [
    "# LDA 적용 전후 데이터 예측 정확도 측정\n",
    "\n",
    "## LDA 적용 이전 데이터 학습\n",
    "\n",
    "비교를 위해 적용 전도 데이터 학습하여 예측하여 정확도를 보도록 해야겠다."
   ]
  },
  {
   "cell_type": "code",
   "execution_count": 14,
   "id": "250e6b83",
   "metadata": {},
   "outputs": [],
   "source": [
    "# 랜덤포레스트분류기 사용\n",
    "from sklearn.ensemble import RandomForestClassifier\n",
    "\n",
    "clf_rf_std = RandomForestClassifier(max_depth = 2, random_state = 1)\n",
    "clf_rf_std.fit(X_tn_std, y_tn)\n",
    "pred_rf_std = clf_rf_std.predict(X_te_std)"
   ]
  },
  {
   "cell_type": "markdown",
   "id": "bcf86547",
   "metadata": {},
   "source": [
    "### 적용 전 예측 정확도"
   ]
  },
  {
   "cell_type": "code",
   "execution_count": 15,
   "id": "295a80e2",
   "metadata": {},
   "outputs": [
    {
     "name": "stdout",
     "output_type": "stream",
     "text": [
      "0.9777777777777777\n"
     ]
    }
   ],
   "source": [
    "from sklearn.metrics import accuracy_score\n",
    "accuracy = accuracy_score(y_te, pred_rf_std)\n",
    "\n",
    "print(accuracy)"
   ]
  },
  {
   "cell_type": "markdown",
   "id": "24cd06cf",
   "metadata": {},
   "source": [
    "## LDA 적용 이후 데이터 학습"
   ]
  },
  {
   "cell_type": "code",
   "execution_count": 16,
   "id": "9388b7ff",
   "metadata": {},
   "outputs": [],
   "source": [
    "# from sklearn.ensemble import RandomForestClassifier\n",
    "\n",
    "clf_rf_lda = RandomForestClassifier(max_depth = 2, random_state = 1)\n",
    "clf_rf_lda.fit(X_tn_lda, y_tn)\n",
    "pred_rf_lda = clf_rf_lda.predict(X_te_lda)"
   ]
  },
  {
   "cell_type": "markdown",
   "id": "7609ac00",
   "metadata": {},
   "source": [
    "### 적용 후 예측 정확도"
   ]
  },
  {
   "cell_type": "code",
   "execution_count": 17,
   "id": "18f2a1b1",
   "metadata": {},
   "outputs": [
    {
     "name": "stdout",
     "output_type": "stream",
     "text": [
      "1.0\n"
     ]
    }
   ],
   "source": [
    "from sklearn.metrics import accuracy_score\n",
    "accuracy = accuracy_score(y_te, pred_rf_lda)\n",
    "\n",
    "print(accuracy)"
   ]
  },
  {
   "cell_type": "markdown",
   "id": "605369c8",
   "metadata": {},
   "source": [
    "정확도가 상승하다못해 1이 되어버렸다. 좋지않아,,,,,,,,,\n",
    "\n",
    "# confusion matrix 비교\n",
    "\n",
    "## LDA 전"
   ]
  },
  {
   "cell_type": "code",
   "execution_count": 18,
   "id": "ef505ff8",
   "metadata": {},
   "outputs": [
    {
     "name": "stdout",
     "output_type": "stream",
     "text": [
      "[[18  0  0]\n",
      " [ 1 16  0]\n",
      " [ 0  0 10]]\n"
     ]
    }
   ],
   "source": [
    "# LDA 전\n",
    "\n",
    "from sklearn.metrics import confusion_matrix\n",
    "conf_matrix = confusion_matrix(y_te, pred_rf_std)\n",
    "print(conf_matrix)"
   ]
  },
  {
   "cell_type": "markdown",
   "id": "e44d8250",
   "metadata": {},
   "source": [
    "## LDA 후"
   ]
  },
  {
   "cell_type": "code",
   "execution_count": 19,
   "id": "88cab1bd",
   "metadata": {},
   "outputs": [
    {
     "name": "stdout",
     "output_type": "stream",
     "text": [
      "[[18  0  0]\n",
      " [ 0 17  0]\n",
      " [ 0  0 10]]\n"
     ]
    }
   ],
   "source": [
    "# LDA 후\n",
    "\n",
    "from sklearn.metrics import confusion_matrix\n",
    "conf_matrix = confusion_matrix(y_te, pred_rf_lda)\n",
    "print(conf_matrix)"
   ]
  },
  {
   "cell_type": "markdown",
   "id": "ccc3a97c",
   "metadata": {},
   "source": [
    "# report 비교\n",
    "\n",
    "## LDA 전"
   ]
  },
  {
   "cell_type": "code",
   "execution_count": 20,
   "id": "9aa8dc39",
   "metadata": {},
   "outputs": [
    {
     "name": "stdout",
     "output_type": "stream",
     "text": [
      "              precision    recall  f1-score   support\n",
      "\n",
      "           0       0.95      1.00      0.97        18\n",
      "           1       1.00      0.94      0.97        17\n",
      "           2       1.00      1.00      1.00        10\n",
      "\n",
      "    accuracy                           0.98        45\n",
      "   macro avg       0.98      0.98      0.98        45\n",
      "weighted avg       0.98      0.98      0.98        45\n",
      "\n"
     ]
    }
   ],
   "source": [
    "# lda 전\n",
    "\n",
    "from sklearn.metrics import classification_report\n",
    "class_report = classification_report(y_te, pred_rf_std)\n",
    "print(class_report)"
   ]
  },
  {
   "cell_type": "markdown",
   "id": "e7fb25c1",
   "metadata": {},
   "source": [
    "## LDA 후"
   ]
  },
  {
   "cell_type": "code",
   "execution_count": 21,
   "id": "c68f8fec",
   "metadata": {},
   "outputs": [
    {
     "name": "stdout",
     "output_type": "stream",
     "text": [
      "              precision    recall  f1-score   support\n",
      "\n",
      "           0       1.00      1.00      1.00        18\n",
      "           1       1.00      1.00      1.00        17\n",
      "           2       1.00      1.00      1.00        10\n",
      "\n",
      "    accuracy                           1.00        45\n",
      "   macro avg       1.00      1.00      1.00        45\n",
      "weighted avg       1.00      1.00      1.00        45\n",
      "\n"
     ]
    }
   ],
   "source": [
    "# lda 후\n",
    "\n",
    "from sklearn.metrics import classification_report\n",
    "class_report = classification_report(y_te, pred_rf_lda)\n",
    "print(class_report)"
   ]
  },
  {
   "cell_type": "markdown",
   "id": "b8288a72",
   "metadata": {},
   "source": [
    "## Commentary\n",
    "\n",
    "상당히 불편한 결과가 아닐 수는 없으나, 어찌되었든 데이터들을 정말 잘 분류할 수 있는 선형 분류 함수를 찾아 만들었다는 것은 정말 놀라울 따름이다.\n",
    "\n",
    "차원 축소면 PCA 아니야? 라고만 생각했던 것과 다르게 지도 학습적 방법이 있다는 것은 좋은 것이라고 생각한다.\n",
    "\n",
    "전체 데이터를 가지고 하는 것이기 때문에 (PCA처럼 고윳값 고유벡터 뽑고 선택적으로 이용하는게 아니어서?) 데이터를 얼마나 설명하는 지에 대한 것을 보지 않는게 맞는건가? 싶긴 한데, 문제는 차원이 출어들은 것이기 때문에 일부 피처는 무시된다는 것인데 그것에 대해서 **설명력을 설명할 수 있도록** 할 수 있는 방법이 있으면 좋겠다."
   ]
  },
  {
   "cell_type": "markdown",
   "id": "fd699901",
   "metadata": {},
   "source": [
    "# 실험: n_composition = 3 으로 지정했을 때"
   ]
  },
  {
   "cell_type": "markdown",
   "id": "9016f536",
   "metadata": {},
   "source": [
    "n_components = 3로 돌리니 바로 에러가 생겼다.  바보같은 시도를 한 것이었다.\n",
    "\n",
    "ValueError: n_components cannot be larger than min(n_features, n_classes - 1)\n",
    "\n",
    "클래스가 3개이기 때문에 2개 이상으로 클 수 없다는 것이다.\n",
    "```\n",
    "n_components : int, default=None\n",
    "    Number of components (<= min(n_classes - 1, n_features)) for\n",
    "    dimensionality reduction. If None, will be set to\n",
    "    min(n_classes - 1, n_features). This parameter only affects the\n",
    "    `transform` method.\n",
    "```\n",
    "\n",
    "---\n",
    "\n",
    "이번에는 solver를 아이겐으로 해볼까 한다. default = 'svd'이다. \n",
    "\n",
    "```\n",
    "solver : {'svd', 'lsqr', 'eigen'}, default='svd'\n",
    "    Solver to use, possible values:\n",
    "      - 'svd': Singular value decomposition (default).\n",
    "        Does not compute the covariance matrix, therefore this solver is\n",
    "        recommended for data with a large number of features.\n",
    "      - 'lsqr': Least squares solution.\n",
    "        Can be combined with shrinkage or custom covariance estimator.\n",
    "      - 'eigen': Eigenvalue decomposition.\n",
    "        Can be combined with shrinkage or custom covariance estimator.\n",
    "```\n"
   ]
  },
  {
   "cell_type": "code",
   "execution_count": 26,
   "id": "825266ba",
   "metadata": {},
   "outputs": [
    {
     "name": "stdout",
     "output_type": "stream",
     "text": [
      "origin data volume: (133, 13)\n",
      "after lda volume: (133, 2)\n",
      "Bias(?) : [ -9.68249758  -3.74337099 -10.87003773]\n",
      "Weight Vectors : [[ 2.1641846   0.34960415  1.64466034 -2.6884109  -0.03022561 -1.96902415\n",
      "   5.56157521  0.30838124 -0.68263176 -2.13770621  0.54805318  3.13073463\n",
      "   5.57902776]\n",
      " [-1.21447124 -0.99888395 -1.67891952  1.2237471   0.22625145  0.30375348\n",
      "   1.16346151  0.44388371  0.34196434 -1.6117693   0.5784938  -0.1813972\n",
      "  -2.402758  ]\n",
      " [-0.60921373  1.04226219  0.61133106  1.16164483 -0.28890336  1.69282374\n",
      "  -7.65398697 -0.96350924  0.25057442  4.59688151 -1.41339068 -3.12012292\n",
      "  -2.60503174]]\n"
     ]
    },
    {
     "data": {
      "image/png": "[encoded data removed]",
      "text/plain": [
       "<Figure size 432x288 with 1 Axes>"
      ]
     },
     "metadata": {
      "needs_background": "light"
     },
     "output_type": "display_data"
    },
    {
     "name": "stdout",
     "output_type": "stream",
     "text": [
      "before LDA accuracy: 0.9777777777777777\n",
      "after LDA accuracy: 1.0\n",
      "after LDA confusion matrix: \n",
      " [[18  0  0]\n",
      " [ 0 17  0]\n",
      " [ 0  0 10]]\n",
      "after LDA class report: \n",
      "               precision    recall  f1-score   support\n",
      "\n",
      "           0       1.00      1.00      1.00        18\n",
      "           1       1.00      1.00      1.00        17\n",
      "           2       1.00      1.00      1.00        10\n",
      "\n",
      "    accuracy                           1.00        45\n",
      "   macro avg       1.00      1.00      1.00        45\n",
      "weighted avg       1.00      1.00      1.00        45\n",
      "\n"
     ]
    }
   ],
   "source": [
    "import pandas as pd\n",
    "import numpy as np\n",
    "\n",
    "# data import\n",
    "from sklearn import datasets\n",
    "\n",
    "raw_wine = datasets.load_wine()\n",
    "X = raw_wine.data\n",
    "y = raw_wine.target\n",
    "\n",
    "\n",
    "# train/test data split\n",
    "from sklearn.model_selection import train_test_split\n",
    "X_tn, X_te, y_tn, y_te = train_test_split(X, y, random_state = 1)\n",
    "\n",
    "\n",
    "# data standardization\n",
    "from sklearn.preprocessing import StandardScaler\n",
    "\n",
    "std_scale = StandardScaler()\n",
    "std_scale.fit(X_tn)\n",
    "X_tn_std = std_scale.transform(X_tn)\n",
    "X_te_std = std_scale.transform(X_te)\n",
    "\n",
    "\n",
    "# lda modeling\n",
    "from sklearn.discriminant_analysis import LinearDiscriminantAnalysis\n",
    "\n",
    "lda = LinearDiscriminantAnalysis(solver = 'eigen')    # LDA 모형 설정\n",
    "lda.fit(X_tn_std, y_tn)                               # 트레이닝 데이터를 넣고 적합\n",
    "\n",
    "X_tn_lda = lda.transform(X_tn_std)                    # 각각 차원축소 시킴\n",
    "X_te_lda = lda.transform(X_te_std)\n",
    "\n",
    "# data checking\n",
    "print('origin data volume:', X_tn_std.shape)\n",
    "print('after lda volume:', X_tn_lda.shape)\n",
    "\n",
    "# 상수항과 가중 벡터\n",
    "print(\"Bias(?) : {}\".format(lda.intercept_))\n",
    "print(\"Weight Vectors : {}\".format(lda.coef_))\n",
    "\n",
    "# Visualization\n",
    "df = X_tn_lda_df\n",
    "markers = ['o', 'x', '^']                   # 데이터 포인트 마커 지정\n",
    "\n",
    "for i, mark in enumerate(markers):          # 클래스가 3개이기 때문에 3번 반복됨. 마커가 3개로 3번 반복된다.\n",
    "    df_i = df[df['target']== i]             # 해당 클래스가 있는 데이터프레임 지정\n",
    "    target_i = raw_wine.target_names[i]     # 클래스 저장\n",
    "    X1 = df_i['lda_comp1']\n",
    "    X2 = df_i['lda_comp2']\n",
    "    plt.scatter(X1, X2, marker = mark, label = target_i)\n",
    "\n",
    "plt.xlabel('LDA_component1')\n",
    "plt.ylabel('LDA_component2')\n",
    "plt.legend()                                # 범례 추가하기\n",
    "plt.show()\n",
    "\n",
    "# before lda\n",
    "from sklearn.ensemble import RandomForestClassifier\n",
    "clf_rf_std = RandomForestClassifier(max_depth = 2, random_state = 1)\n",
    "clf_rf_std.fit(X_tn_std, y_tn)\n",
    "pred_rf_std = clf_rf_std.predict(X_te_std)\n",
    "\n",
    "from sklearn.metrics import accuracy_score\n",
    "accuracy1 = accuracy_score(y_te, pred_rf_std)\n",
    "print(\"before LDA accuracy:\", accuracy1)\n",
    "\n",
    "# after lda\n",
    "clf_rf_lda = RandomForestClassifier(max_depth = 2, random_state = 1)\n",
    "clf_rf_lda.fit(X_tn_lda, y_tn)\n",
    "pred_rf_lda = clf_rf_lda.predict(X_te_lda)\n",
    "\n",
    "accuracy2 = accuracy_score(y_te, pred_rf_lda)\n",
    "print(\"after LDA accuracy:\", accuracy2)\n",
    "\n",
    "from sklearn.metrics import confusion_matrix\n",
    "conf_matrix = confusion_matrix(y_te, pred_rf_lda)\n",
    "print(\"after LDA confusion matrix: \\n\", conf_matrix)\n",
    "\n",
    "from sklearn.metrics import classification_report\n",
    "class_report = classification_report(y_te, pred_rf_lda)\n",
    "print(\"after LDA class report: \\n\", class_report)"
   ]
  },
  {
   "cell_type": "markdown",
   "id": "319260bc",
   "metadata": {},
   "source": [
    " 정확도나 다른 것이 크게 바뀌어보이지는 않는다.\n",
    " \n",
    " 상수항도\n",
    " [ -9.49063922  -3.6792656  -10.65310672]\n",
    "\n",
    " [ -9.68249758  -3.74337099 -10.87003773]\n",
    "  \n",
    "아주 근소한 차이를 보이고 있다. 결과적으로도 크게 차이가 나지 않는다.\n",
    "\n",
    "하지만... 왜 다른 차이를 보이는지 어떻게 차이가 날 수 있는지에 대해서는 더 공부하고 싶다.\n",
    "\n",
    "추가적으로 LLE(Locally Linear Embedding)도 있는데, 개념을 훑어보니 K-means 클러스터링이 생각났다. 물론 LLE는 이미 클래스가 분류되어있는 것을 토대로 모델링을 하는 것이기 때문에 지도 학습임에는 확실하지만, 뭔가 어떻게 다른지도 확실히 익히고 싶다."
   ]
  }
 ],
 "metadata": {
  "kernelspec": {
   "display_name": "Python 3 (ipykernel)",
   "language": "python",
   "name": "python3"
  },
  "language_info": {
   "codemirror_mode": {
    "name": "ipython",
    "version": 3
   },
   "file_extension": ".py",
   "mimetype": "text/x-python",
   "name": "python",
   "nbconvert_exporter": "python",
   "pygments_lexer": "ipython3",
   "version": "3.8.5"
  },
  "toc": {
   "base_numbering": 1,
   "nav_menu": {},
   "number_sections": true,
   "sideBar": true,
   "skip_h1_title": false,
   "title_cell": "Table of Contents",
   "title_sidebar": "Contents",
   "toc_cell": false,
   "toc_position": {
    "height": "calc(100% - 180px)",
    "left": "10px",
    "top": "150px",
    "width": "383.984px"
   },
   "toc_section_display": true,
   "toc_window_display": true
  }
 },
 "nbformat": 4,
 "nbformat_minor": 5
}

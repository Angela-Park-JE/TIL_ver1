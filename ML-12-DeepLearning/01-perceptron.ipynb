{
 "cells": [
  {
   "cell_type": "markdown",
   "id": "dee0e18b",
   "metadata": {},
   "source": [
    "# (단층) 퍼셉트론 실습\n",
    "\n",
    "퍼셉트론은 신경망의 최소 단위이다. 입력값과 출력값이 존재하는데, 가중합 노드(뉴런에 해당)와 활성화 함수 노드가 있다. 이 둘을 하나의 노드라고 생각할 수도 있다. 이를 거치면서 최종 출력값을 반환한다.\n",
    "\n",
    "출력값을 결정하는 활성화 함수에는 계단 함수, 시그모이드, 렐루, 리키 렐루 등이 있다.\n",
    "\n",
    "퍼셉트론으로 데이터를 분류를 한다면, 가장 먼저 해야할 일은 데이터를 기존 행렬의 형태에서 벡터로 바꾸는 것이다. \n",
    "\n",
    "다음은 입력 데이터와 가중치 벡터, 편향을 이용해 가중합을 구한 후 함수를 통해 해당 벡터의 점수를 출력한다.\n",
    "\n",
    "해당 점수에 따라서 활성화 함수에 따라 결과가 분류된다.\n",
    "\n",
    "---\n",
    "\n",
    "##### 12.2.3 넘파이를 활용하여 분류기를 구현해본다."
   ]
  },
  {
   "cell_type": "markdown",
   "id": "29cf1d3d",
   "metadata": {},
   "source": [
    "# 입력층"
   ]
  },
  {
   "cell_type": "code",
   "execution_count": 1,
   "id": "2c5392dd",
   "metadata": {},
   "outputs": [
    {
     "name": "stdout",
     "output_type": "stream",
     "text": [
      "[[2 3]\n",
      " [5 1]]\n"
     ]
    }
   ],
   "source": [
    "import numpy as np\n",
    "\n",
    "# 입력층 - 행렬 데이터 생성\n",
    "input_data = np.array([[2,3], [5, 1]])\n",
    "print(input_data)"
   ]
  },
  {
   "cell_type": "markdown",
   "id": "0ebb2305",
   "metadata": {},
   "source": [
    "## 벡터로 변환\n"
   ]
  },
  {
   "cell_type": "code",
   "execution_count": 2,
   "id": "030f5f2d",
   "metadata": {},
   "outputs": [
    {
     "name": "stdout",
     "output_type": "stream",
     "text": [
      "[2 3 5 1]\n"
     ]
    }
   ],
   "source": [
    "# matrix -> vector\n",
    "x = input_data.reshape(-1)\n",
    "print(x)"
   ]
  },
  {
   "cell_type": "markdown",
   "id": "a539338e",
   "metadata": {},
   "source": [
    "# 가중치 및 편향"
   ]
  },
  {
   "cell_type": "code",
   "execution_count": 3,
   "id": "6e0e2f29",
   "metadata": {},
   "outputs": [],
   "source": [
    "# 가중치 및 편향값 설정\n",
    "# 1로 분류하기 위한 가중치 벡터 w1, 2로 분류하기 위한 가중치 벡터 w2 설정\n",
    "# 각 점수의 편향 설정\n",
    "\n",
    "w1 = np.array([2,1,-3,3])\n",
    "w2 = np.array([1,-3,1,3])\n",
    "\n",
    "b1 = 3\n",
    "b2 = 3"
   ]
  },
  {
   "cell_type": "markdown",
   "id": "cb6e67ce",
   "metadata": {},
   "source": [
    "# 가중합 "
   ]
  },
  {
   "cell_type": "code",
   "execution_count": 4,
   "id": "7b62d32a",
   "metadata": {},
   "outputs": [
    {
     "name": "stdout",
     "output_type": "stream",
     "text": [
      "[[ 2  1 -3  3]\n",
      " [ 1 -3  1  3]]\n"
     ]
    }
   ],
   "source": [
    "# 가중합 구하기\n",
    "\n",
    "# 가중치 벡터를 합쳐 가중치 행렬 설정, 각 행은 분류되는 점수를 구하는 데 사용된다\n",
    "W = np.array([w1, w2])\n",
    "print(W)"
   ]
  },
  {
   "cell_type": "code",
   "execution_count": 5,
   "id": "79f1bf2c",
   "metadata": {},
   "outputs": [
    {
     "name": "stdout",
     "output_type": "stream",
     "text": [
      "[3 3]\n"
     ]
    }
   ],
   "source": [
    "# 각 편향 점수를 합쳐 편향 벡터를 구함\n",
    "\n",
    "b = np.array([b1, b2])\n",
    "print(b)"
   ]
  },
  {
   "cell_type": "code",
   "execution_count": 6,
   "id": "f6f6b344",
   "metadata": {},
   "outputs": [
    {
     "name": "stdout",
     "output_type": "stream",
     "text": [
      "[-2  4]\n"
     ]
    }
   ],
   "source": [
    "# 가중합 구하기\n",
    "# np.dot 으로 행렬 곱 수행\n",
    "\n",
    "weight_sum = np.dot(W, x) + b\n",
    "print(weight_sum)"
   ]
  },
  {
   "cell_type": "markdown",
   "id": "e7e0cdb2",
   "metadata": {},
   "source": [
    "# 출력층\n"
   ]
  },
  {
   "cell_type": "code",
   "execution_count": 8,
   "id": "c770d5dd",
   "metadata": {},
   "outputs": [
    {
     "name": "stdout",
     "output_type": "stream",
     "text": [
      "[0.11920292 0.98201379]\n"
     ]
    }
   ],
   "source": [
    "# 출력층\n",
    "\n",
    "res = 1/(1 + np.exp(-weight_sum))      # sigmoid 함수에 가중합을 넣는다\n",
    "print(res)"
   ]
  },
  {
   "cell_type": "markdown",
   "id": "3f1f8de9",
   "metadata": {},
   "source": [
    "행렬의 각 행(데이터)에 대한 최종 점수가 출력되었다. 예시로 레몬과 포도를 이야기 했는데, 레몬의 스코어는 0.11, 포도의 스코어는 0.98인 것으로 나왔다."
   ]
  },
  {
   "cell_type": "markdown",
   "id": "d9da3197",
   "metadata": {},
   "source": [
    "# 시그모이드 함수를 활성화 함수로 쓰는 퍼셉트론 전체 코드\n"
   ]
  },
  {
   "cell_type": "code",
   "execution_count": null,
   "id": "4063914a",
   "metadata": {},
   "outputs": [],
   "source": [
    "import numpy as np\n",
    "\n",
    "# input layer\n",
    "input_data = np.array([[2,3], [5,1]])\n",
    "x = input_data.reshape(-1)              # matrix to vector\n",
    "\n",
    "# weight and bias nod\n",
    "w1 = np.array([2,1,-3,3])\n",
    "w2 = np.array([1,-3,1,3])\n",
    "b1 = 3\n",
    "b2 = 3\n",
    "\n",
    "# weighted sum\n",
    "W = np.array([w1, w2])\n",
    "b = np.array([b1, b2])\n",
    "weight_sum = np.dot(W, x) + b\n",
    "\n",
    "# output(activation function: sigmoid)\n",
    "res = 1/(1 + np.exp(-weight_sum))"
   ]
  }
 ],
 "metadata": {
  "kernelspec": {
   "display_name": "Python 3 (ipykernel)",
   "language": "python",
   "name": "python3"
  },
  "language_info": {
   "codemirror_mode": {
    "name": "ipython",
    "version": 3
   },
   "file_extension": ".py",
   "mimetype": "text/x-python",
   "name": "python",
   "nbconvert_exporter": "python",
   "pygments_lexer": "ipython3",
   "version": "3.8.5"
  },
  "toc": {
   "base_numbering": 1,
   "nav_menu": {},
   "number_sections": true,
   "sideBar": true,
   "skip_h1_title": false,
   "title_cell": "Table of Contents",
   "title_sidebar": "Contents",
   "toc_cell": false,
   "toc_position": {
    "height": "calc(100% - 180px)",
    "left": "10px",
    "top": "150px",
    "width": "383.984px"
   },
   "toc_section_display": true,
   "toc_window_display": true
  }
 },
 "nbformat": 4,
 "nbformat_minor": 5
}

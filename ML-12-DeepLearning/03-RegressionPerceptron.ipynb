{
 "cells": [
  {
   "cell_type": "markdown",
   "id": "1ce1c567",
   "metadata": {},
   "source": [
    "# 회귀 신경망 빌딩 연습"
   ]
  },
  {
   "cell_type": "code",
   "execution_count": null,
   "id": "64e0797a",
   "metadata": {},
   "outputs": [],
   "source": [
    "# 모형 저장 및 불러오는 코드\n",
    "\n",
    "# model.save('cnn_model2.h5')\n",
    "\n",
    "# from tensorflow.keras.models import load_model\n",
    "# cnn_model2 = load_model('cnn_model2.h5')"
   ]
  },
  {
   "cell_type": "markdown",
   "id": "cbf419ee",
   "metadata": {},
   "source": [
    "# Data and libraries\n",
    "\n",
    "일관된 결과를 위해 random seed를 0으로 고정한다.\n"
   ]
  },
  {
   "cell_type": "code",
   "execution_count": 1,
   "id": "78351b34",
   "metadata": {},
   "outputs": [],
   "source": [
    "import numpy as np\n",
    "import tensorflow as tf\n",
    "\n",
    "np.random.seed(0)\n",
    "tf.random.set_seed(0)"
   ]
  },
  {
   "cell_type": "code",
   "execution_count": 2,
   "id": "ecc2c798",
   "metadata": {},
   "outputs": [
    {
     "name": "stdout",
     "output_type": "stream",
     "text": [
      "1.22.4\n",
      "2.9.1\n",
      "2.9.0\n"
     ]
    }
   ],
   "source": [
    "import keras\n",
    "\n",
    "# version check\n",
    "print(np.__version__)\n",
    "print(tf.__version__)\n",
    "print(keras.__version__)"
   ]
  },
  {
   "cell_type": "code",
   "execution_count": 6,
   "id": "cdab486d",
   "metadata": {
    "scrolled": true
   },
   "outputs": [
    {
     "name": "stderr",
     "output_type": "stream",
     "text": [
      "/Users/Angela/opt/anaconda3/envs/py3_8_5/lib/python3.8/site-packages/sklearn/utils/deprecation.py:87: FutureWarning: Function load_boston is deprecated; `load_boston` is deprecated in 1.0 and will be removed in 1.2.\n",
      "\n",
      "    The Boston housing prices dataset has an ethical problem. You can refer to\n",
      "    the documentation of this function for further details.\n",
      "\n",
      "    The scikit-learn maintainers therefore strongly discourage the use of this\n",
      "    dataset unless the purpose of the code is to study and educate about\n",
      "    ethical issues in data science and machine learning.\n",
      "\n",
      "    In this special case, you can fetch the dataset from the original\n",
      "    source::\n",
      "\n",
      "        import pandas as pd\n",
      "        import numpy as np\n",
      "\n",
      "\n",
      "        data_url = \"http://lib.stat.cmu.edu/datasets/boston\"\n",
      "        raw_df = pd.read_csv(data_url, sep=\"\\s+\", skiprows=22, header=None)\n",
      "        data = np.hstack([raw_df.values[::2, :], raw_df.values[1::2, :2]])\n",
      "        target = raw_df.values[1::2, 2]\n",
      "\n",
      "    Alternative datasets include the California housing dataset (i.e.\n",
      "    :func:`~sklearn.datasets.fetch_california_housing`) and the Ames housing\n",
      "    dataset. You can load the datasets as follows::\n",
      "\n",
      "        from sklearn.datasets import fetch_california_housing\n",
      "        housing = fetch_california_housing()\n",
      "\n",
      "    for the California housing dataset and::\n",
      "\n",
      "        from sklearn.datasets import fetch_openml\n",
      "        housing = fetch_openml(name=\"house_prices\", as_frame=True)\n",
      "\n",
      "    for the Ames housing dataset.\n",
      "    \n",
      "  warnings.warn(msg, category=FutureWarning)\n"
     ]
    }
   ],
   "source": [
    "# data load\n",
    "\n",
    "from sklearn import datasets\n",
    "raw_boston = datasets.load_boston()"
   ]
  },
  {
   "cell_type": "code",
   "execution_count": 4,
   "id": "52597f1c",
   "metadata": {},
   "outputs": [],
   "source": [
    "# # 오류때문에 때로 가져오기로 한다.\n",
    "\n",
    "# import pandas as pd\n",
    "# import numpy as np\n",
    "\n",
    "# data_url = \"http://lib.stat.cmu.edu/datasets/boston\"\n",
    "# raw_boston = pd.read_csv(data_url, sep=\"\\s+\", skiprows=22, header=None)\n",
    "# data = np.hstack([raw_boston.values[::2, :], raw_boston.values[1::2, :2]])\n",
    "# target = raw_boston.values[1::2, 2]"
   ]
  },
  {
   "cell_type": "markdown",
   "id": "b02f925e",
   "metadata": {},
   "source": [
    "# feature and target"
   ]
  },
  {
   "cell_type": "code",
   "execution_count": 7,
   "id": "ebc9fece",
   "metadata": {},
   "outputs": [],
   "source": [
    "X = raw_boston.data\n",
    "y = raw_boston.target"
   ]
  },
  {
   "cell_type": "markdown",
   "id": "47fb264d",
   "metadata": {},
   "source": [
    "## feature dimension "
   ]
  },
  {
   "cell_type": "code",
   "execution_count": 8,
   "id": "cc4cb130",
   "metadata": {},
   "outputs": [
    {
     "name": "stdout",
     "output_type": "stream",
     "text": [
      "(506, 13)\n"
     ]
    }
   ],
   "source": [
    "print(X.shape)"
   ]
  },
  {
   "cell_type": "markdown",
   "id": "d8119042",
   "metadata": {},
   "source": [
    "## target data classes\n",
    "\n",
    "타깃 데이터 종류를 확인하는 것으로 분류 문제인지 회귀 문제인지 구분할 수 있다. 연속형 숫자이기 때문에 회귀문제로 해결해야 함을 알 수 있다."
   ]
  },
  {
   "cell_type": "code",
   "execution_count": 9,
   "id": "e2598fdd",
   "metadata": {},
   "outputs": [
    {
     "name": "stdout",
     "output_type": "stream",
     "text": [
      "{5.0, 6.3, 7.2, 8.8, 7.4, 10.2, 11.8, 12.7, 13.6, 14.5, 15.0, 16.5, 17.5, 18.9, 18.2, 20.4, 21.6, 22.9, 21.7, 24.0, 19.9, 26.6, 26.5, 27.5, 23.1, 27.1, 28.7, 24.7, 30.8, 33.4, 34.7, 34.9, 36.2, 35.4, 31.6, 33.0, 38.7, 33.2, 43.8, 41.3, 37.2, 39.8, 42.3, 48.5, 44.8, 50.0, 46.7, 48.3, 44.0, 48.8, 46.0, 10.5, 11.5, 11.0, 12.5, 12.0, 13.5, 13.0, 14.0, 16.6, 16.0, 16.1, 16.4, 17.4, 17.1, 17.0, 17.6, 17.9, 18.4, 18.6, 18.5, 18.0, 18.1, 19.6, 19.4, 19.5, 19.1, 19.0, 20.0, 20.5, 20.9, 20.6, 20.1, 21.0, 21.4, 21.5, 21.9, 21.1, 22.0, 22.5, 22.6, 22.4, 22.1, 23.4, 23.5, 23.9, 23.6, 23.0, 24.1, 24.6, 24.4, 24.5, 25.0, 25.1, 26.4, 27.0, 27.9, 28.0, 28.4, 28.1, 28.5, 28.6, 29.4, 29.9, 29.6, 29.1, 29.0, 30.5, 30.1, 31.1, 31.5, 31.0, 32.5, 32.0, 32.9, 32.4, 32.2, 33.3, 33.8, 33.1, 32.7, 8.4, 34.6, 35.2, 35.1, 10.4, 10.9, 7.0, 36.4, 36.0, 36.5, 36.1, 11.9, 37.9, 37.0, 37.6, 37.3, 13.9, 13.4, 14.4, 14.9, 15.4, 8.5, 41.7, 42.8, 43.1, 43.5, 45.4, 9.5, 8.3, 8.7, 9.7, 10.8, 11.3, 11.7, 12.3, 12.8, 13.2, 13.3, 13.8, 14.8, 14.3, 14.2, 15.2, 15.7, 15.3, 16.2, 16.8, 16.3, 16.7, 17.3, 17.8, 17.2, 17.7, 18.7, 18.8, 18.3, 19.3, 19.7, 19.8, 19.2, 20.2, 20.8, 20.3, 20.7, 21.2, 21.8, 22.2, 22.8, 22.7, 22.3, 23.3, 23.8, 23.2, 23.7, 24.8, 24.2, 24.3, 25.3, 25.2, 26.7, 26.2, 7.5, 28.2, 29.8, 30.3, 30.7, 5.6, 31.7, 31.2, 8.1, 9.6, 12.1, 12.6, 13.1, 14.6, 14.1, 15.6, 15.1}\n"
     ]
    }
   ],
   "source": [
    "print(set(y))"
   ]
  },
  {
   "cell_type": "markdown",
   "id": "9caf5889",
   "metadata": {},
   "source": [
    "## Training/Test Data split"
   ]
  },
  {
   "cell_type": "code",
   "execution_count": 11,
   "id": "ed9bdfea",
   "metadata": {},
   "outputs": [],
   "source": [
    "from sklearn.model_selection import train_test_split\n",
    "\n",
    "X_tn, X_te, y_tn, y_te = train_test_split(X, y, random_state = 0)"
   ]
  },
  {
   "cell_type": "markdown",
   "id": "11faa74e",
   "metadata": {},
   "source": [
    "# Building Perceptron (오류 및 해결 포함)"
   ]
  },
  {
   "cell_type": "code",
   "execution_count": 12,
   "id": "5912bc88",
   "metadata": {},
   "outputs": [],
   "source": [
    "import os\n",
    "os.environ['TF_CPP_MIN_LOG_LEVEL'] = '2'"
   ]
  },
  {
   "cell_type": "code",
   "execution_count": 13,
   "id": "56b8545b",
   "metadata": {},
   "outputs": [],
   "source": [
    "from tensorflow.keras.models import Sequential         # 신경망 생성\n",
    "from tensorflow.keras.layers import Dense              # 신경망 층 추가\n",
    "\n",
    "n_feat = X_tn.shape[1]              # 신경망에 사용되는 피처 개수 (현재 데이터: 13개)\n",
    "epo = 30                            # 학습횟수 30. 30단계로 학습 진행\n",
    "\n",
    "model = Sequential()                # 초기 모형 생성.\n",
    "model.add(Dense(20, input_dim = n_feat, activation = 'relu')) # add로 입력층 추가, *input_dim = 피처 개수, 20은 output 차원, 활성화 함수를 한 줄에 넣음.\n",
    "model.add(Dense(1))                 # 최종 아웃풋 층. 회귀문제로 1개의 노드로 출력되도록 한다. \n",
    "                                    # 회귀때 최종 활성화 함수를 선형 함수를 사용해야 하는데, 코드에서 지정하지 않으면 선형 함수가 적용된다."
   ]
  },
  {
   "cell_type": "code",
   "execution_count": 14,
   "id": "4f73147f",
   "metadata": {},
   "outputs": [
    {
     "name": "stdout",
     "output_type": "stream",
     "text": [
      "Model: \"sequential\"\n",
      "_________________________________________________________________\n",
      " Layer (type)                Output Shape              Param #   \n",
      "=================================================================\n",
      " dense (Dense)               (None, 20)                280       \n",
      "                                                                 \n",
      " dense_1 (Dense)             (None, 1)                 21        \n",
      "                                                                 \n",
      "=================================================================\n",
      "Total params: 301\n",
      "Trainable params: 301\n",
      "Non-trainable params: 0\n",
      "_________________________________________________________________\n"
     ]
    }
   ],
   "source": [
    "model.summary()"
   ]
  },
  {
   "cell_type": "markdown",
   "id": "c5242d67",
   "metadata": {},
   "source": [
    "## model compile"
   ]
  },
  {
   "cell_type": "code",
   "execution_count": 15,
   "id": "2ec8aeb8",
   "metadata": {},
   "outputs": [],
   "source": [
    "model.compile(loss = 'mean_squared_error',         # 손실함수: 회귀 문제이기 때문에 MSE를 사용\n",
    "              optimizer = 'adam',                  # 옵티마이저와 평가 기준\n",
    "              metrics = ['mean_squared_error'])"
   ]
  },
  {
   "cell_type": "markdown",
   "id": "935b784a",
   "metadata": {},
   "source": [
    "## model learning"
   ]
  },
  {
   "cell_type": "code",
   "execution_count": 16,
   "id": "0b7ab783",
   "metadata": {},
   "outputs": [
    {
     "name": "stdout",
     "output_type": "stream",
     "text": [
      "Epoch 1/30\n",
      "76/76 [==============================] - 1s 3ms/step - loss: 474.8179 - mean_squared_error: 474.8179\n",
      "Epoch 2/30\n",
      "76/76 [==============================] - 0s 2ms/step - loss: 97.4737 - mean_squared_error: 97.4737\n",
      "Epoch 3/30\n",
      "76/76 [==============================] - 0s 3ms/step - loss: 81.1661 - mean_squared_error: 81.1661\n",
      "Epoch 4/30\n",
      "76/76 [==============================] - 0s 4ms/step - loss: 72.6059 - mean_squared_error: 72.6059\n",
      "Epoch 5/30\n",
      "76/76 [==============================] - 0s 2ms/step - loss: 63.1071 - mean_squared_error: 63.1071\n",
      "Epoch 6/30\n",
      "76/76 [==============================] - 0s 2ms/step - loss: 57.3056 - mean_squared_error: 57.3056\n",
      "Epoch 7/30\n",
      "76/76 [==============================] - 0s 2ms/step - loss: 53.3248 - mean_squared_error: 53.3248\n",
      "Epoch 8/30\n",
      "76/76 [==============================] - 0s 3ms/step - loss: 48.0305 - mean_squared_error: 48.0305\n",
      "Epoch 9/30\n",
      "76/76 [==============================] - 0s 2ms/step - loss: 44.4123 - mean_squared_error: 44.4123\n",
      "Epoch 10/30\n",
      "76/76 [==============================] - 0s 2ms/step - loss: 44.6246 - mean_squared_error: 44.6246\n",
      "Epoch 11/30\n",
      "76/76 [==============================] - 0s 2ms/step - loss: 39.8854 - mean_squared_error: 39.8854\n",
      "Epoch 12/30\n",
      "76/76 [==============================] - 0s 2ms/step - loss: 37.4677 - mean_squared_error: 37.4677\n",
      "Epoch 13/30\n",
      "76/76 [==============================] - 0s 2ms/step - loss: 37.2101 - mean_squared_error: 37.2101\n",
      "Epoch 14/30\n",
      "76/76 [==============================] - 0s 2ms/step - loss: 34.6580 - mean_squared_error: 34.6580\n",
      "Epoch 15/30\n",
      "76/76 [==============================] - 0s 2ms/step - loss: 35.2240 - mean_squared_error: 35.2240\n",
      "Epoch 16/30\n",
      "76/76 [==============================] - 0s 2ms/step - loss: 37.2570 - mean_squared_error: 37.2570\n",
      "Epoch 17/30\n",
      "76/76 [==============================] - 0s 2ms/step - loss: 36.6201 - mean_squared_error: 36.6201\n",
      "Epoch 18/30\n",
      "76/76 [==============================] - 0s 2ms/step - loss: 35.4106 - mean_squared_error: 35.4106\n",
      "Epoch 19/30\n",
      "76/76 [==============================] - 0s 2ms/step - loss: 33.9078 - mean_squared_error: 33.9078\n",
      "Epoch 20/30\n",
      "76/76 [==============================] - 0s 2ms/step - loss: 34.4739 - mean_squared_error: 34.4739\n",
      "Epoch 21/30\n",
      "76/76 [==============================] - 0s 2ms/step - loss: 36.5775 - mean_squared_error: 36.5775\n",
      "Epoch 22/30\n",
      "76/76 [==============================] - 0s 2ms/step - loss: 35.8795 - mean_squared_error: 35.8795\n",
      "Epoch 23/30\n",
      "76/76 [==============================] - 0s 2ms/step - loss: 34.4425 - mean_squared_error: 34.4425\n",
      "Epoch 24/30\n",
      "76/76 [==============================] - 0s 2ms/step - loss: 35.3789 - mean_squared_error: 35.3789\n",
      "Epoch 25/30\n",
      "76/76 [==============================] - 0s 2ms/step - loss: 33.2603 - mean_squared_error: 33.2603\n",
      "Epoch 26/30\n",
      "76/76 [==============================] - 0s 3ms/step - loss: 36.9732 - mean_squared_error: 36.9732\n",
      "Epoch 27/30\n",
      "76/76 [==============================] - 0s 2ms/step - loss: 31.0006 - mean_squared_error: 31.0006\n",
      "Epoch 28/30\n",
      "76/76 [==============================] - 0s 2ms/step - loss: 34.8582 - mean_squared_error: 34.8582\n",
      "Epoch 29/30\n",
      "76/76 [==============================] - 0s 2ms/step - loss: 32.4770 - mean_squared_error: 32.4770\n",
      "Epoch 30/30\n",
      "76/76 [==============================] - 0s 4ms/step - loss: 31.6907 - mean_squared_error: 31.6907\n"
     ]
    }
   ],
   "source": [
    "hist = model.fit(X_tn, y_tn, epochs = epo, batch_size = 5)  # batch_size: learning mini batch size at one ephoch"
   ]
  },
  {
   "cell_type": "markdown",
   "id": "cfe3cd5b",
   "metadata": {},
   "source": [
    "# evaluation\n",
    "\n",
    "MSE를 사용하기로 했기 때문에 MSE가 출력된다."
   ]
  },
  {
   "cell_type": "code",
   "execution_count": 17,
   "id": "0cf6b796",
   "metadata": {},
   "outputs": [
    {
     "name": "stdout",
     "output_type": "stream",
     "text": [
      "12/12 [==============================] - 0s 1ms/step - loss: 51.5557 - mean_squared_error: 51.5557\n",
      "51.55571365356445\n",
      "4/4 [==============================] - 0s 2ms/step - loss: 73.9725 - mean_squared_error: 73.9725\n",
      "73.97251892089844\n"
     ]
    }
   ],
   "source": [
    "print(model.evaluate(X_tn, y_tn)[1])\n",
    "print(model.evaluate(X_te, y_te)[1])"
   ]
  },
  {
   "cell_type": "markdown",
   "id": "40a600d6",
   "metadata": {},
   "source": [
    "~~나 뭐 잘못했냐 뭐가 이렇게 에러가 커...~~"
   ]
  },
  {
   "cell_type": "markdown",
   "id": "ecd9951f",
   "metadata": {},
   "source": [
    "## MSE and loss rate"
   ]
  },
  {
   "cell_type": "code",
   "execution_count": 18,
   "id": "82f84e08",
   "metadata": {},
   "outputs": [
    {
     "name": "stdout",
     "output_type": "stream",
     "text": [
      "[ 1  2  3  4  5  6  7  8  9 10 11 12 13 14 15 16 17 18 19 20 21 22 23 24\n",
      " 25 26 27 28 29 30]\n"
     ]
    }
   ],
   "source": [
    "import numpy as np\n",
    "epoch = np.arange(1, epo +1)               # x축 설정\n",
    "print(epoch)"
   ]
  },
  {
   "cell_type": "code",
   "execution_count": 19,
   "id": "84610fc9",
   "metadata": {},
   "outputs": [
    {
     "name": "stdout",
     "output_type": "stream",
     "text": [
      "[474.81793212890625, 97.47374725341797, 81.16606903076172, 72.60585021972656, 63.10710144042969, 57.30558776855469, 53.324832916259766, 48.03047561645508, 44.41233444213867, 44.62455749511719, 39.8853874206543, 37.46774673461914, 37.2100830078125, 34.65799331665039, 35.224021911621094, 37.256954193115234, 36.62009811401367, 35.41062545776367, 33.9078254699707, 34.47385025024414, 36.57753372192383, 35.87947082519531, 34.44246292114258, 35.378902435302734, 33.26034927368164, 36.97323989868164, 31.00062370300293, 34.85821533203125, 32.477012634277344, 31.690677642822266]\n"
     ]
    }
   ],
   "source": [
    "mse = hist.history['mean_squared_error']   # 학습시켰던 모형에서 history를 이용하여 데려올 수 있다. 에포크 별 정확도를 알 수 있다.\n",
    "print(mse)"
   ]
  },
  {
   "cell_type": "code",
   "execution_count": 20,
   "id": "dcf6fba1",
   "metadata": {},
   "outputs": [
    {
     "name": "stdout",
     "output_type": "stream",
     "text": [
      "[474.81793212890625, 97.47374725341797, 81.16606903076172, 72.60585021972656, 63.10710144042969, 57.30558776855469, 53.324832916259766, 48.03047561645508, 44.41233444213867, 44.62455749511719, 39.8853874206543, 37.46774673461914, 37.2100830078125, 34.65799331665039, 35.224021911621094, 37.256954193115234, 36.62009811401367, 35.41062545776367, 33.9078254699707, 34.47385025024414, 36.57753372192383, 35.87947082519531, 34.44246292114258, 35.378902435302734, 33.26034927368164, 36.97323989868164, 31.00062370300293, 34.85821533203125, 32.477012634277344, 31.690677642822266]\n"
     ]
    }
   ],
   "source": [
    "loss = hist.history['loss']               # 학습시켰던 모형에서 history를 이용하여 데려올 수 있다. 에포크 별 손실정도를 알 수 있다.\n",
    "print(loss)"
   ]
  },
  {
   "cell_type": "markdown",
   "id": "bf8717de",
   "metadata": {},
   "source": [
    "## MSE and loss rate visualization"
   ]
  },
  {
   "cell_type": "code",
   "execution_count": 21,
   "id": "3ea60a2f",
   "metadata": {},
   "outputs": [
    {
     "data": {
      "image/png": "[encoded data removed]",
      "text/plain": [
       "<Figure size 432x288 with 1 Axes>"
      ]
     },
     "metadata": {
      "needs_background": "light"
     },
     "output_type": "display_data"
    }
   ],
   "source": [
    "import matplotlib.pyplot as plt\n",
    "\n",
    "plt.plot(epoch, mse, label = 'mse')\n",
    "plt.xlabel('epoch')\n",
    "plt.ylabel('mean_squared_error')\n",
    "plt.legend()\n",
    "plt.show()"
   ]
  },
  {
   "cell_type": "code",
   "execution_count": 22,
   "id": "57c51c44",
   "metadata": {},
   "outputs": [
    {
     "data": {
      "image/png": "[encoded data removed]",
      "text/plain": [
       "<Figure size 432x288 with 1 Axes>"
      ]
     },
     "metadata": {
      "needs_background": "light"
     },
     "output_type": "display_data"
    }
   ],
   "source": [
    "plt.plot(epoch, loss, 'r', label = 'loss')    # plot color = r[ed]\n",
    "plt.xlabel('epoch')\n",
    "plt.ylabel('loss')\n",
    "plt.legend()\n",
    "plt.show()"
   ]
  },
  {
   "cell_type": "markdown",
   "id": "40d28eb9",
   "metadata": {},
   "source": [
    "# Predicted Data and Real Data\n",
    "\n",
    "## to DataFrame"
   ]
  },
  {
   "cell_type": "code",
   "execution_count": 23,
   "id": "3a91f8ee",
   "metadata": {},
   "outputs": [
    {
     "name": "stdout",
     "output_type": "stream",
     "text": [
      "4/4 [==============================] - 0s 2ms/step\n",
      "[14.926881  17.681875  26.267515   7.9176764 15.0052    20.334705\n",
      " 11.632047  22.128708  13.236688   7.8890967  5.115804   9.61794\n",
      " 10.792638   2.5619786 33.263218  22.72698   13.689977  29.558813\n",
      " 24.67592   21.299353  22.89377   17.086302  16.023752  26.365973\n",
      " 21.47994   10.689092  17.379763  11.004308  28.347002  15.011777\n",
      " 10.714314  12.8569765 17.735563  20.255533  24.823124  12.987615\n",
      "  4.1403937 16.951498   6.4117637  6.4220023 22.591543  18.943974\n",
      " 12.945657   9.773435  17.008005  23.849712  16.264502  14.620763\n",
      "  7.6369376 20.45455    7.750219  11.073197  18.99208   22.401697\n",
      "  7.7652946 15.407407  17.322506  10.068269  14.971913  18.07519\n",
      " 16.162962  18.721228  24.99948   24.195616   9.034818  24.184473\n",
      " 11.682683  13.969041   8.437718  20.768143  15.780793  17.593191\n",
      " 26.882402  23.865873  16.954931  -1.2630565 27.122025  20.394756\n",
      " 23.056814  16.387426  22.719778  17.16751   14.822972  28.526934\n",
      " 28.235544  21.928003  20.246122   4.7908072 24.334211   9.029691\n",
      "  9.72614    4.3013816 23.69547   25.389929  24.684244  17.659828\n",
      " -3.027377  24.955683   7.976171  17.916914  20.105268  19.003916\n",
      " 25.384813  17.426329  20.630257  20.279594  -1.138438  12.069371\n",
      " 23.598524  20.72272   26.477186   5.1499076 15.841184   9.9932375\n",
      "  5.0928054 17.211666  -3.8662975 18.965422   5.4444633 38.194546\n",
      " 23.669458   7.5923743 15.863946  17.590761  22.656456  18.330122\n",
      " 30.232418 ]\n"
     ]
    }
   ],
   "source": [
    "# predict 메소드로 테스트 데이터를 넣고 예측값을 구한다. flatten 메소드로 예측값을 펼친다.(DataFrame 만들것)\n",
    "\n",
    "pred_y = model.predict(X_te).flatten()\n",
    "print(pred_y)"
   ]
  },
  {
   "cell_type": "code",
   "execution_count": 24,
   "id": "96e9804c",
   "metadata": {},
   "outputs": [
    {
     "data": {
      "text/html": [
       "<div>\n",
       "<style scoped>\n",
       "    .dataframe tbody tr th:only-of-type {\n",
       "        vertical-align: middle;\n",
       "    }\n",
       "\n",
       "    .dataframe tbody tr th {\n",
       "        vertical-align: top;\n",
       "    }\n",
       "\n",
       "    .dataframe thead th {\n",
       "        text-align: right;\n",
       "    }\n",
       "</style>\n",
       "<table border=\"1\" class=\"dataframe\">\n",
       "  <thead>\n",
       "    <tr style=\"text-align: right;\">\n",
       "      <th></th>\n",
       "      <th>predict_val</th>\n",
       "      <th>real_val</th>\n",
       "    </tr>\n",
       "  </thead>\n",
       "  <tbody>\n",
       "    <tr>\n",
       "      <th>0</th>\n",
       "      <td>14.926881</td>\n",
       "      <td>22.6</td>\n",
       "    </tr>\n",
       "    <tr>\n",
       "      <th>1</th>\n",
       "      <td>17.681875</td>\n",
       "      <td>50.0</td>\n",
       "    </tr>\n",
       "    <tr>\n",
       "      <th>2</th>\n",
       "      <td>26.267515</td>\n",
       "      <td>23.0</td>\n",
       "    </tr>\n",
       "  </tbody>\n",
       "</table>\n",
       "</div>"
      ],
      "text/plain": [
       "   predict_val  real_val\n",
       "0    14.926881      22.6\n",
       "1    17.681875      50.0\n",
       "2    26.267515      23.0"
      ]
     },
     "execution_count": 24,
     "metadata": {},
     "output_type": "execute_result"
    }
   ],
   "source": [
    "import pandas as pd\n",
    "\n",
    "# pred_y와 real_val을 한 데이터 프레임에 넣기\n",
    "res_df = pd.DataFrame(pred_y, columns = ['predict_val'])\n",
    "res_df['real_val'] = y_te\n",
    "res_df.head(3)"
   ]
  },
  {
   "cell_type": "code",
   "execution_count": 26,
   "id": "5f346c71",
   "metadata": {},
   "outputs": [
    {
     "data": {
      "text/html": [
       "<div>\n",
       "<style scoped>\n",
       "    .dataframe tbody tr th:only-of-type {\n",
       "        vertical-align: middle;\n",
       "    }\n",
       "\n",
       "    .dataframe tbody tr th {\n",
       "        vertical-align: top;\n",
       "    }\n",
       "\n",
       "    .dataframe thead th {\n",
       "        text-align: right;\n",
       "    }\n",
       "</style>\n",
       "<table border=\"1\" class=\"dataframe\">\n",
       "  <thead>\n",
       "    <tr style=\"text-align: right;\">\n",
       "      <th></th>\n",
       "      <th>predict_val</th>\n",
       "      <th>real_val</th>\n",
       "    </tr>\n",
       "  </thead>\n",
       "  <tbody>\n",
       "    <tr>\n",
       "      <th>116</th>\n",
       "      <td>-3.866297</td>\n",
       "      <td>8.4</td>\n",
       "    </tr>\n",
       "    <tr>\n",
       "      <th>96</th>\n",
       "      <td>-3.027377</td>\n",
       "      <td>13.8</td>\n",
       "    </tr>\n",
       "    <tr>\n",
       "      <th>75</th>\n",
       "      <td>-1.263057</td>\n",
       "      <td>7.4</td>\n",
       "    </tr>\n",
       "  </tbody>\n",
       "</table>\n",
       "</div>"
      ],
      "text/plain": [
       "     predict_val  real_val\n",
       "116    -3.866297       8.4\n",
       "96     -3.027377      13.8\n",
       "75     -1.263057       7.4"
      ]
     },
     "execution_count": 26,
     "metadata": {},
     "output_type": "execute_result"
    }
   ],
   "source": [
    "# 예쁘게 시각화를 위해 오름차순 되도록 해둔다.\n",
    "\n",
    "df_sort = res_df.sort_values(['predict_val'], ascending = True)\n",
    "df_sort.head(3)"
   ]
  },
  {
   "cell_type": "markdown",
   "id": "f054ce3d",
   "metadata": {},
   "source": [
    "## Predicted Data and Real Data visualization\n"
   ]
  },
  {
   "cell_type": "code",
   "execution_count": 29,
   "id": "58325a35",
   "metadata": {},
   "outputs": [
    {
     "data": {
      "image/png": "[encoded data removed]",
      "text/plain": [
       "<Figure size 432x288 with 1 Axes>"
      ]
     },
     "metadata": {
      "needs_background": "light"
     },
     "output_type": "display_data"
    }
   ],
   "source": [
    "import matplotlib.pyplot as plt\n",
    "import numpy as np\n",
    "\n",
    "idx = np.arange(1, len(df_sort)+1)    # x축 생성\n",
    "plt.scatter(idx, df_sort['real_val'], marker = '.', label = 'real_val')\n",
    "plt.plot(idx, df_sort['predict_val'], color = 'r', label = 'predict_val')\n",
    "plt.xlabel('index')\n",
    "plt.ylabel('value')\n",
    "plt.legend()\n",
    "plt.show()"
   ]
  },
  {
   "cell_type": "markdown",
   "id": "389b6274",
   "metadata": {},
   "source": [
    "시각화를 하니 전체적으로 예측값이 더 아래쪽에 있는 것을 확인할 수 있다. 결과가 딱히 좋은 것 같지 않은데, 아무래도 보스턴 집값 데이터에 결측치가 많아서 그러지 않을까 생각이 든다.\n",
    "\n",
    "그래도 제대로 값이 있으면 그것이 예외적인 값이더라도 값이 있는 것 자체로서 역할을 할 텐데 말이다. 데이터 전처리도 열심히 공부해야지..."
   ]
  }
 ],
 "metadata": {
  "kernelspec": {
   "display_name": "Python 3 (ipykernel)",
   "language": "python",
   "name": "python3"
  },
  "language_info": {
   "codemirror_mode": {
    "name": "ipython",
    "version": 3
   },
   "file_extension": ".py",
   "mimetype": "text/x-python",
   "name": "python",
   "nbconvert_exporter": "python",
   "pygments_lexer": "ipython3",
   "version": "3.8.5"
  },
  "toc": {
   "base_numbering": 1,
   "nav_menu": {},
   "number_sections": true,
   "sideBar": true,
   "skip_h1_title": false,
   "title_cell": "Table of Contents",
   "title_sidebar": "Contents",
   "toc_cell": false,
   "toc_position": {},
   "toc_section_display": true,
   "toc_window_display": false
  }
 },
 "nbformat": 4,
 "nbformat_minor": 5
}

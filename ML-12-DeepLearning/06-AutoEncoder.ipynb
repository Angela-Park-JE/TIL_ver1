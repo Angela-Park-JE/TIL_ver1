{
 "cells": [
  {
   "cell_type": "markdown",
   "id": "1ce1c567",
   "metadata": {},
   "source": [
    "# Auto-Encoder 빌딩 연습\n",
    "\n",
    "_야호 오토인코더다ㅠㅠ_\n",
    "\n",
    "오토인코더는 신경망의 한 종류로서 입력 데이터를 코드(code)라고 부르는 은닉층으로 인코딩하는 인코더(Encoder)와 인코딩된 code를 다시 디코딩하는 디코더(Decoder)로 구성된 모형이다. 인코딩은 원래 데이터를 차원 축소하는 것을 의미하고, 디코딩은 차원 축소된 데이터를 다시 원래 데이터로 복원하는 것을 의미한다.\n",
    "\n",
    "오토 인코더는 입력층보다 적은 수의 노드로 구성된 은닉층을 넣어 차원을 줄인다. 해당 은닉층을 code라고 부른다. 디코더는 code를 다시 원래 입력층과 같은 크기의 결과물로 출력한다. \n",
    "\n",
    "피처 데이터 X를 넣고 Y를 예측하는 것이아니라 X를 최대한 닮은 X'를 만드는 것이다. 입력과 출력이 같다고 보면 된다.\n",
    "\n",
    "---\n",
    "##### 이전 시계열 강의 내용  + 일부 인터넷 검색 결과 참조\n",
    "\n",
    "시계열 데이터라면 인코더에 RNN이나 CNN을 넣을 수 있다.\n",
    "\n",
    "PCA와 비슷하지만, 데이터의 비선형적인 관계도 고려하여 탐지를 수행한다는 점에서 강점을 가진다. 초기에는 PCA처럼 쓰려고 사용되었지만, 지금은 데이터 생성 모형으로도 쓰인다.\n",
    "\n",
    "또한 GAN과 비슷한 점이 있는데, 다른 점이라하면 오토 인코더는 오리지널 데이터의 특징을 '잘' 살린 이미지를 만들어낸다. 하지만 적대적 생성 신경망(GAN)은 (오리지널 데이터처럼 생겼지만) 오리지널 데이터와 상관없는 새로운 형태의 데이터를 만들어낸다.\n",
    "\n",
    "참조1: http://dagyeom.net/32/?q=YToxOntzOjEyOiJrZXl3b3JkX3R5cGUiO3M6MzoiYWxsIjt9&bmode=view&idx=7071265&t=board\n",
    "\n",
    "참조2: https://a292run.tistory.com/entry/Anomaly-Detection-using-Autoencoders-1\n",
    "\n",
    "\n",
    "$$ 수식 $$\n",
    "\n",
    "---\n",
    "\n"
   ]
  },
  {
   "cell_type": "markdown",
   "id": "f54161f1",
   "metadata": {},
   "source": [
    "##### 12.6.2 오토인코더 실습\n",
    "오토인코더를 이용해 이미지 데이터의 노이즈를 없애본다."
   ]
  },
  {
   "cell_type": "markdown",
   "id": "cbf419ee",
   "metadata": {},
   "source": [
    "# Random seed setting and Load Data, Libraries\n",
    "\n",
    "일관된 결과를 위해 random seed를 0으로 고정한다.\n"
   ]
  },
  {
   "cell_type": "code",
   "execution_count": 1,
   "id": "78351b34",
   "metadata": {},
   "outputs": [
    {
     "name": "stdout",
     "output_type": "stream",
     "text": [
      "1.22.4\n",
      "2.9.1\n",
      "2.9.0\n"
     ]
    }
   ],
   "source": [
    "import numpy as np\n",
    "import tensorflow as tf\n",
    "import keras\n",
    "\n",
    "np.random.seed(0)\n",
    "tf.random.set_seed(0)\n",
    "\n",
    "# version check\n",
    "print(np.__version__)\n",
    "print(tf.__version__)\n",
    "print(keras.__version__)"
   ]
  },
  {
   "cell_type": "code",
   "execution_count": 2,
   "id": "cdab486d",
   "metadata": {
    "scrolled": true
   },
   "outputs": [],
   "source": [
    "# data load\n",
    "# 손글씨 데이터를 데려온다\n",
    "\n",
    "from tensorflow.keras import datasets\n",
    "(X_tn0, y_tn0), (X_te0, y_te0) = datasets.mnist.load_data()"
   ]
  },
  {
   "cell_type": "code",
   "execution_count": 3,
   "id": "c62a58b7",
   "metadata": {},
   "outputs": [
    {
     "name": "stdout",
     "output_type": "stream",
     "text": [
      "(60000, 28, 28)\n",
      "(60000,)\n",
      "(10000, 28, 28)\n",
      "(10000,)\n"
     ]
    }
   ],
   "source": [
    "# Origin data dimension check\n",
    "\n",
    "print(X_tn0.shape)\n",
    "print(y_tn0.shape)\n",
    "print(X_te0.shape)\n",
    "print(y_te0.shape)"
   ]
  },
  {
   "cell_type": "markdown",
   "id": "bc1717bd",
   "metadata": {},
   "source": [
    "6만 개와 1만개의 트레이닝, 테스트 데이터로 존재한다.\n",
    "\n",
    "# Origin data visualization\n",
    "\n",
    "오리지널 데이터 일부 10개를 가져와서 그린다. 서브플롯을 설정해서 그린다."
   ]
  },
  {
   "cell_type": "code",
   "execution_count": 4,
   "id": "fbb90929",
   "metadata": {},
   "outputs": [
    {
     "data": {
      "image/png": "[encoded data removed]",
      "text/plain": [
       "<Figure size 720x360 with 10 Axes>"
      ]
     },
     "metadata": {
      "needs_background": "light"
     },
     "output_type": "display_data"
    }
   ],
   "source": [
    "import matplotlib.pyplot as plt\n",
    "\n",
    "plt.figure(figsize = (10,5))\n",
    "for i in range(2*5):\n",
    "    plt.subplot(2, 5, i+1)\n",
    "    plt.imshow(X_tn0[i].reshape((28,28)), cmap = 'Greys')\n",
    "    plt.title(\"image {}\".format(i))\n",
    "\n",
    "plt.show()"
   ]
  },
  {
   "cell_type": "markdown",
   "id": "3062dcf6",
   "metadata": {},
   "source": [
    "타겟은 X자신이다. y를 따로 체크하지 않는다.\n",
    "\n",
    "# Rescaling feature and add noise\n",
    "\n",
    "## Rescaling feature data\n",
    "데이터는 (이미지 개수, 행, 열) 형태로, 3차원이다.\n",
    "합성곱 신경망에 넣기 위해서는 4차원 형태로 구성되어야 한다.\n",
    "\n",
    "합성곱 신경망 인풋 데이터의 차원은 (이미지 개수, 행, 열, 채널수) 의 형태로 구성되는데, 이때 채널은 보통 이미지의 RGB 값이 된다.\n",
    "\n",
    "mnist 데이터는 채널 1개의 흑백 데이터이다. 따라서 채널수는 1이 된다."
   ]
  },
  {
   "cell_type": "code",
   "execution_count": 5,
   "id": "9d85c8d7",
   "metadata": {},
   "outputs": [
    {
     "name": "stdout",
     "output_type": "stream",
     "text": [
      "(60000, 28, 28, 1)\n"
     ]
    }
   ],
   "source": [
    "# 트레이닝 피처 데이터의 차원 바꾸기 (이미지 개수, 행, 열, 채널수)\n",
    "X_tn_re = X_tn0.reshape(60000, 28, 28, 1)\n",
    "\n",
    "# 이미지 픽셀값이 0~255 사이에 분포해 있기 때문에 최댓값이 1이 되도록 조정하면 딥러닝 성능 향상에 도움이 된다\n",
    "X_tn = X_tn_re / 255\n",
    "\n",
    "# 바뀐 데이터 차원 확인\n",
    "print(X_tn.shape)"
   ]
  },
  {
   "cell_type": "code",
   "execution_count": 6,
   "id": "c1c13b8a",
   "metadata": {},
   "outputs": [
    {
     "name": "stdout",
     "output_type": "stream",
     "text": [
      "(10000, 28, 28, 1)\n"
     ]
    }
   ],
   "source": [
    "# 같은 방식으로 테스트 피처 데이터 차원 reshape\n",
    "X_te_re = X_te0.reshape(10000, 28, 28, 1)\n",
    "X_te = X_te_re / 255\n",
    "print(X_te.shape)"
   ]
  },
  {
   "cell_type": "markdown",
   "id": "57d01fb0",
   "metadata": {},
   "source": [
    "## Add noise feature data and scaling\n",
    "\n",
    "노이즈 데이터를 따로 제공하지 않기 때문에, 직접 노이즈 데이터를 생성해본다.\n",
    "\n",
    "오리지널 트레이닝 데이터에 랜덤값을 더하는 방식이다. 테스트 피처 데이터에 대해서도 같은 방법으로 랜덤값을 더할 것이다.\n",
    "\n",
    "랜덤값은 np.random.uniform 함수로 균일 분포에서 추출하며, 랜덤 값은 -1부터 1사이값을 가진다. 또한 배열 사이즈를 트레이닝 데이터의 차원과 일치시켜 생성시켜야 한다.\n",
    "\n",
    "노이즈 데이터는 생성되는 과정에서 픽셀값이 0이나 1이상이 되었을 가능성이 있기 때문에 이들의 스케일을 조정한다.\n",
    "\n",
    "np.clip은 값의 범위를 조정할 수 있다. a_min, a_max는 해당 값보다 작거나 큰 데이터를 해당 값으로 변환한다."
   ]
  },
  {
   "cell_type": "code",
   "execution_count": 7,
   "id": "2981bec0",
   "metadata": {},
   "outputs": [],
   "source": [
    "X_tn_noise = X_tn + np.random.uniform(-1, 1, size = X_tn.shape)\n",
    "X_te_noise = X_te + np.random.uniform(-1, 1, size = X_te.shape)"
   ]
  },
  {
   "cell_type": "code",
   "execution_count": 8,
   "id": "3533139d",
   "metadata": {},
   "outputs": [],
   "source": [
    "X_tn_ns = np.clip(X_tn_noise, a_min = 0, a_max = 1)\n",
    "X_te_ns = np.clip(X_te_noise, a_min = 0, a_max = 1)"
   ]
  },
  {
   "cell_type": "markdown",
   "id": "7c5dbdd6",
   "metadata": {},
   "source": [
    "## Noise data visualizing to check\n",
    "\n",
    "노이즈 데이터를 시각화하여본다. 오리지널 데이터를 그릴떄와 코드는 같지만 데이터만 X_train_ns로 바꾼다. "
   ]
  },
  {
   "cell_type": "code",
   "execution_count": 9,
   "id": "3ffdc896",
   "metadata": {},
   "outputs": [
    {
     "data": {
      "image/png": "[encoded data removed]",
      "text/plain": [
       "<Figure size 720x360 with 10 Axes>"
      ]
     },
     "metadata": {
      "needs_background": "light"
     },
     "output_type": "display_data"
    }
   ],
   "source": [
    "plt.figure(figsize = (10,5))\n",
    "for i in range(2*5):\n",
    "    plt.subplot(2, 5, i+1)\n",
    "    plt.imshow(X_tn_ns[i].reshape((28,28)), cmap = 'Greys')\n",
    "    plt.title(\"image {}\".format(i))\n",
    "\n",
    "plt.show()"
   ]
  }
 ],
 "metadata": {
  "kernelspec": {
   "display_name": "Python 3 (ipykernel)",
   "language": "python",
   "name": "python3"
  },
  "language_info": {
   "codemirror_mode": {
    "name": "ipython",
    "version": 3
   },
   "file_extension": ".py",
   "mimetype": "text/x-python",
   "name": "python",
   "nbconvert_exporter": "python",
   "pygments_lexer": "ipython3",
   "version": "3.8.5"
  },
  "toc": {
   "base_numbering": 1,
   "nav_menu": {},
   "number_sections": true,
   "sideBar": true,
   "skip_h1_title": false,
   "title_cell": "Table of Contents",
   "title_sidebar": "Contents",
   "toc_cell": false,
   "toc_position": {
    "height": "calc(100% - 180px)",
    "left": "10px",
    "top": "150px",
    "width": "360px"
   },
   "toc_section_display": true,
   "toc_window_display": true
  }
 },
 "nbformat": 4,
 "nbformat_minor": 5
}

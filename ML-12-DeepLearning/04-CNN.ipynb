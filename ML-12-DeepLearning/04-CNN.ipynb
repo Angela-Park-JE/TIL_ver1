{
 "cells": [
  {
   "attachments": {
    "image.png": {
     "image/png": "[encoded data removed]"
    }
   },
   "cell_type": "markdown",
   "id": "1ce1c567",
   "metadata": {
    "variables": {
     "k = -\\infty ": "<p><strong>SyntaxError</strong>: unexpected character after line continuation character (828909099.py, line 1)</p>\n",
     "k_{1} = -\\infty ": "<p><strong>SyntaxError</strong>: invalid syntax (682958370.py, line 1)</p>\n",
     "k_{2} = -\\infty ": "<p><strong>SyntaxError</strong>: invalid syntax (2337411148.py, line 1)</p>\n"
    }
   },
   "source": [
    "# CNN(합성곱 신경망: Convolution Neural Network) 과 빌딩 연습\n",
    "\n",
    "_아 많이왔다. 이제 진짜다. 시계열 복습을 위한 최종 단계에 이르렀다. CNN, RNN, Auto-Encoder, GAN 차례로 공부할 예정._\n",
    "\n",
    "CNN은 합성곱 신경망이다. 합성곱이라는 연산을 사용하는 신경망이다. 특히 이미지 분류 작업에서 좋은 성능을 보여준다.\n",
    "\n",
    "일부는 wiki를 참조하였다. : \n",
    "\n",
    "        https://ko.wikipedia.org/wiki/%ED%95%A9%EC%84%B1%EA%B3%B1_%EC%8B%A0%EA%B2%BD%EB%A7%9D\n",
    "        https://ko.wikipedia.org/wiki/%ED%95%A9%EC%84%B1%EA%B3%B1\n",
    "\n",
    "---\n",
    "\n",
    "### 합성곱(convolution)\n",
    "\n",
    "$$ y(i) = (x*w)(i)=\\Sigma _{{k = -\\infty }}^{\\infty }x(k)w(i-k)$$\n",
    "\n",
    "합성곱 연산은 i시점의 인풋 데이터 x값과 가중치 w값의 합성곱 연산의 결과는 y(i)와 같음을 나타낸다. k도 시점을 나타내는 상태인데, 가중치 w의 시점은 w(i)가 아니라, w(i-k)이다. \n",
    "\n",
    "이를 **플립(flip)**이라고 하며, 가중치의 시점을 뒤집는다는 뜻이다. 가중치는 **커널(kernel)**이라고도 부른다. 합성곱이라는 연산의 정의 자체가 가중치를 플립하는 연산이다.\n",
    "\n",
    "위 식은 시점의 순서에 상관없이 결과가 동일하기 때문에 아래처럼 쓸 수 있다. (wiki에서 합성곱에 대하여 이야기할 때는 '적분'한다고 표현하며, 시그마 대신 인테그랄이 그려져있다.)\n",
    "\n",
    "$$ y(i) = (x*w)(i)=\\Sigma _{{k = -\\infty }}^{\\infty }x(i-k)w(k)$$\n",
    "\n",
    "위의 두 식을 2차원 공간으로 넓힌다면 아래와 같은 식이 된다.\n",
    "\n",
    "$$ Y(i,j) = (X*W)(i, j) = \\Sigma _{{k_{1} = -\\infty }}^{\\infty } \\Sigma _{{k_{2} = -\\infty }}^{\\infty } X(k_{1}, k_{2}) W(i-k_{1}, j-k_{2})$$\n",
    "\n",
    "합성곱 연산은 시점의 순서에 상관없이 결과가 동일하므로 아래같은 표현도 성립한다. \n",
    "\n",
    "$$ Y(i,j) = (X*W)(i, j) = \\Sigma _{{k_{1} = -\\infty }}^{\\infty } \\Sigma _{{k_{2} = -\\infty }}^{\\infty } X(i-k_{1}, j-k_{2}) W(k_{1}, k_{2})$$\n",
    "\n",
    "현실적으로는 앞의 연산보다 가중치, 즉 커널을 플립하지 않은 연산을 더 많이 사용한다. 아래와 같은 연산을 **cross-correlation**이라고 부른다.\n",
    "\n",
    "$$ Y(i,j) = (X*W)(i, j) = \\Sigma _{{k_{1} = -\\infty }}^{\\infty } \\Sigma _{{k_{2} = -\\infty }}^{\\infty } X(i+k_{1}, j+k_{2}) W(k_{1}, k_{2})$$\n",
    "\n",
    "주의할 점은 좌표를 계산할 때 0부터 계산한다. 행렬에서 1행 1열은 (0, 0) 좌표인 것이다.\n",
    "\n",
    "입력 데이터와 합성곱 연산을 수행하게 되는 행렬을 커널이라고 부르는데, 이것이 가중치인 것이다.\n",
    "\n",
    "4x4행렬과 2x2커널의 합성곱을 연산한 결과 3x3크기의 출력 데이터가 나온다. 즉, **합성곱 연산 결과 데이터의 차원이 줄어든다.**\n",
    "\n",
    "**편향이 존재할 떄에는 입력 데이터와 커널을 합성곱 한 후 각 행렬 원소에 편향을 더하게 된다.**\n",
    "\n",
    "### 패딩(padding)\n",
    "\n",
    "신경망에 커널을 적용하면서, 층이 깊어질수록 데이터의 차원이 줄어들게 된다. 그렇게 차원이 줄어드는 현상을 방지하기 위해 패딩이라는 방법을 사용한다. \n",
    "\n",
    "말하자면 입력 데이터 행렬의 주변(첫 행, 열, 마지막 행, 열)에 0 같은 특정 값으로 채우는 것을 의미한다.\n",
    "\n",
    "### 스트라이드(stride)\n",
    "\n",
    "한 번 합성곱 연산한 후 다음 계산 영역을 선택할 때 얼마나 이동할지 간격을 정하는 값이다. 1이면 한 행(열)만 이동하고, 2면 두 행(열)을 이동하며 합성곱을 수행한다.\n",
    "\n",
    "이때 스트라이드 2가되면 스트라이드1일 때보다 출력 데이터 행렬의 차원이 더 작아진다.\n",
    "\n",
    "패딩과 스트라이드 관련하여 출력 데이터의 크기를 미리 계산해볼 수 있다. \n",
    "$$ 합성곱 결과 행(열) = \\frac { 입력 행렬 행(열) 크기 - 커널 차원 행(열) 크기 + 2 \\times 패딩 차원 행(열) 크기 } { 스트라이드 차원 행(열) 크기 } + 1$$\n",
    "\n",
    "\n",
    "### 풀링(pooling)\n",
    "데이터의 차원을 줄이는 방법이다. 풀링에는 여러 종류가 있는데, 맥스 풀링을 사용하면 이렇다. (행렬 인덱스를 가정하고 적어본다.)\n",
    "\n",
    "예시로 4x4 입력 행렬에서 스트라이드 2인 경우를 가정하고 맥스풀링을 적용하면, 2x2 크기의 [0,0]~[1,1] 에서 MAX 값이 출력값 [0,0] 이 된다.\n",
    "\n",
    "그리고 [0,2] ~ [1,3]에서 가장 큰 값이 출력값 [0,1], 그리고 [2,0] ~ [3,1]에서 가장 큰 값이 출력값 [1,0], 그리고 [2,2] ~ [3,3]에서 가장 큰 값이 출력값[1,1]이 된다.\n",
    "\n",
    "\n",
    "## 텐서(고차원)에서의 합성곱\n",
    "\n",
    "보통의 입력 데이터는 너비(width)와 높이(height) 뿐만 아니라 채널(channel)도 고려한다. 이미지 데이터의 경우 하나의 픽셀값에 대해 RGB 각 세가지 값이 있다. 다시 말해, 한 이미지가 행렬로 존재할 때 한 픽셀(한 원소)값은 (R, G, B)식으로 3차원으로 나타난다. \n",
    "\n",
    "입력 데이터가 고차원이므로 커널도 채널 수만큼 필요하다.\n",
    "\n",
    "![image.png](attachment:image.png) \n",
    "출처: https://keras.io/examples/vision/involution/\n",
    "\n",
    "위 이미지는 커널 수가 여러개인 경우를 나타낸다. 커널 수가 많아지는 경우 출력 데이터의 채널 수가 커널 수 만큼 많아진다.\n",
    "\n",
    "만약 편향이 존재한다면 편향은 초반의 예시처럼 한 scalar값이 아니라 (채널 수 길이의) vector가 될 것이다. \n",
    "\n",
    "차원이 커질 수록 for문을 많이 쓰면서 연산을 수행하는 장비에 무리가 갈 수 있다. 그렇기에 고차원 데이터를 합성곱 할 때는 2차원 평면으로 변형해서 표현하기도 한다.\n",
    "\n",
    "고차원 커널도 2차원 행렬로 표현이 가능하다. 즉 텐서x텐서가 행렬x벡터의 형태로 단순하게 바뀌는 것이다.\n",
    "\n",
    "만약 커널 수가 늘어나면, 연산해야할 벡터의 개수가 늘어나는 것이다. 행렬x벡터1, 행렬x벡터2 식이 된다.\n",
    "\n",
    "\n"
   ]
  },
  {
   "cell_type": "markdown",
   "id": "f8fae707",
   "metadata": {},
   "source": [
    "##### 12.4.6 합성곱 신경망 실습\n",
    "\n",
    "합성곱 신경망을 이용해 손글씨 인식 모형을 생성한다."
   ]
  },
  {
   "cell_type": "markdown",
   "id": "cbf419ee",
   "metadata": {},
   "source": [
    "# Random seed setting and Load Data, Libraries\n",
    "\n",
    "일관된 결과를 위해 random seed를 0으로 고정한다.\n"
   ]
  },
  {
   "cell_type": "code",
   "execution_count": 1,
   "id": "78351b34",
   "metadata": {},
   "outputs": [],
   "source": [
    "import numpy as np\n",
    "import tensorflow as tf\n",
    "\n",
    "np.random.seed(0)\n",
    "tf.random.set_seed(0)"
   ]
  },
  {
   "cell_type": "code",
   "execution_count": 2,
   "id": "ecc2c798",
   "metadata": {},
   "outputs": [
    {
     "name": "stdout",
     "output_type": "stream",
     "text": [
      "1.22.4\n",
      "2.9.1\n",
      "2.9.0\n"
     ]
    }
   ],
   "source": [
    "import keras\n",
    "\n",
    "# version check\n",
    "print(np.__version__)\n",
    "print(tf.__version__)\n",
    "print(keras.__version__)"
   ]
  },
  {
   "cell_type": "code",
   "execution_count": 3,
   "id": "cdab486d",
   "metadata": {
    "scrolled": true
   },
   "outputs": [
    {
     "name": "stdout",
     "output_type": "stream",
     "text": [
      "Downloading data from https://storage.googleapis.com/tensorflow/tf-keras-datasets/mnist.npz\n",
      "11490434/11490434 [==============================] - 0s 0us/step\n"
     ]
    }
   ],
   "source": [
    "# data load\n",
    "# mnist data는 텐서플로에서 제공하는 데이터 셋이다. 불러올 때 트레이닝/테스트를 나누어서 불러올 수 있다.\n",
    "\n",
    "from tensorflow.keras import datasets\n",
    "(X_tn0, y_tn0), (X_te0, y_te0) = datasets.mnist.load_data()"
   ]
  },
  {
   "cell_type": "code",
   "execution_count": 4,
   "id": "c62a58b7",
   "metadata": {},
   "outputs": [
    {
     "name": "stdout",
     "output_type": "stream",
     "text": [
      "(60000, 28, 28)\n",
      "(60000,)\n",
      "(10000, 28, 28)\n",
      "(10000,)\n"
     ]
    }
   ],
   "source": [
    "# dimension check\n",
    "\n",
    "print(X_tn0.shape)\n",
    "print(y_tn0.shape)\n",
    "print(X_te0.shape)\n",
    "print(y_te0.shape)"
   ]
  },
  {
   "cell_type": "markdown",
   "id": "b5f99a47",
   "metadata": {},
   "source": [
    "X는 (이미지 개수, 행, 열) 형태이다.\n",
    "\n",
    "타겟 트레이닝 데이터 y는 스칼라값 6만개로 이루어진 벡터이다."
   ]
  },
  {
   "cell_type": "markdown",
   "id": "b02f925e",
   "metadata": {},
   "source": [
    "# Origin data visualization\n",
    "\n",
    "오리지널 데이터 일부 10개를 가져와서 그린다. 서브플롯을 설정해서 그린다."
   ]
  },
  {
   "cell_type": "code",
   "execution_count": 7,
   "id": "ebc9fece",
   "metadata": {},
   "outputs": [
    {
     "data": {
      "image/png": "[encoded data removed]",
      "text/plain": [
       "<Figure size 720x360 with 10 Axes>"
      ]
     },
     "metadata": {
      "needs_background": "light"
     },
     "output_type": "display_data"
    }
   ],
   "source": [
    "import matplotlib.pyplot as plt\n",
    "\n",
    "plt.figure(figsize = (10,5))\n",
    "for i in range(2*5):\n",
    "    plt.subplot(2, 5, i+1)\n",
    "    plt.imshow(X_tn0[i].reshape((28,28)), cmap = 'Greys')\n",
    "    plt.title(\"image {}\".format(i))\n",
    "\n",
    "plt.show()"
   ]
  },
  {
   "cell_type": "markdown",
   "id": "47fb264d",
   "metadata": {},
   "source": [
    "# Checking Target Class \n",
    "0부터 9까지의 숫자이다. 구분(분류)하는 형태이다."
   ]
  },
  {
   "cell_type": "code",
   "execution_count": 8,
   "id": "cc4cb130",
   "metadata": {},
   "outputs": [
    {
     "data": {
      "text/plain": [
       "{0, 1, 2, 3, 4, 5, 6, 7, 8, 9}"
      ]
     },
     "execution_count": 8,
     "metadata": {},
     "output_type": "execute_result"
    }
   ],
   "source": [
    "set(y_tn0)"
   ]
  },
  {
   "cell_type": "markdown",
   "id": "d8119042",
   "metadata": {},
   "source": [
    "# Reshaping feature and target data\n",
    "\n",
    "## Rescaling feature data\n",
    "\n",
    "데이터는 (이미지 개수, 행, 열) 형태로, 3차원이다.  \n",
    "합성곱 신경망에 넣기 위해서는 4차원 형태로 구성되어야 한다. \n",
    "\n",
    "합성곱 신경망 인풋 데이터의 차원은 (이미지 개수, 행, 열, 채널수) 의 형태로 구성되는데, 이때 채널은 보통 이미지의 RGB 값이 된다.\n",
    "\n",
    "mnist 데이터는 채널 1개의 흑백 데이터이다. 따라서 채널수는 1이 된다."
   ]
  },
  {
   "cell_type": "code",
   "execution_count": 9,
   "id": "e2598fdd",
   "metadata": {},
   "outputs": [
    {
     "name": "stdout",
     "output_type": "stream",
     "text": [
      "(60000, 28, 28, 1)\n"
     ]
    }
   ],
   "source": [
    "# 트레이닝 피처 데이터의 차원 바꾸기 (이미지 개수, 행, 열, 채널수)\n",
    "X_tn_re = X_tn0.reshape(60000, 28, 28, 1)\n",
    "\n",
    "# 이미지 픽셀값이 0~255 사이에 분포해 있기 때문에 최댓값이 1이 되도록 조정하면 딥러닝 성능 향상에 도움이 된다\n",
    "X_tn = X_tn_re / 255\n",
    "\n",
    "# 바뀐 데이터 차원 확인\n",
    "print(X_tn.shape)"
   ]
  },
  {
   "cell_type": "code",
   "execution_count": 11,
   "id": "67f8821e",
   "metadata": {},
   "outputs": [
    {
     "name": "stdout",
     "output_type": "stream",
     "text": [
      "(10000, 28, 28, 1)\n"
     ]
    }
   ],
   "source": [
    "# 같은 방식으로 테스트 피처 데이터 차원 reshape\n",
    "X_te_re = X_te0.reshape(10000, 28, 28, 1)\n",
    "X_te = X_te_re / 255\n",
    "print(X_te.shape)"
   ]
  },
  {
   "cell_type": "markdown",
   "id": "9caf5889",
   "metadata": {},
   "source": [
    "## one-hot encoding Target Data"
   ]
  },
  {
   "cell_type": "code",
   "execution_count": 12,
   "id": "ed9bdfea",
   "metadata": {},
   "outputs": [],
   "source": [
    "from tensorflow.keras.utils import to_categorical\n",
    "y_tn = to_categorical(y_tn0)\n",
    "y_te = to_categorical(y_te0)"
   ]
  },
  {
   "cell_type": "markdown",
   "id": "11faa74e",
   "metadata": {},
   "source": [
    "# Building CNN model"
   ]
  },
  {
   "cell_type": "code",
   "execution_count": 13,
   "id": "5912bc88",
   "metadata": {},
   "outputs": [],
   "source": [
    "import os\n",
    "os.environ['TF_CPP_MIN_LOG_LEVEL'] = '2'"
   ]
  },
  {
   "cell_type": "code",
   "execution_count": 15,
   "id": "56b8545b",
   "metadata": {},
   "outputs": [
    {
     "name": "stdout",
     "output_type": "stream",
     "text": [
      "Model: \"sequential\"\n",
      "_________________________________________________________________\n",
      " Layer (type)                Output Shape              Param #   \n",
      "=================================================================\n",
      " conv2d (Conv2D)             (None, 24, 24, 32)        832       \n",
      "                                                                 \n",
      " max_pooling2d (MaxPooling2D  (None, 12, 12, 32)       0         \n",
      " )                                                               \n",
      "                                                                 \n",
      " dropout (Dropout)           (None, 12, 12, 32)        0         \n",
      "                                                                 \n",
      " flatten (Flatten)           (None, 4608)              0         \n",
      "                                                                 \n",
      " dense (Dense)               (None, 1024)              4719616   \n",
      "                                                                 \n",
      " dropout_1 (Dropout)         (None, 1024)              0         \n",
      "                                                                 \n",
      " dense_1 (Dense)             (None, 10)                10250     \n",
      "                                                                 \n",
      "=================================================================\n",
      "Total params: 4,730,698\n",
      "Trainable params: 4,730,698\n",
      "Non-trainable params: 0\n",
      "_________________________________________________________________\n"
     ]
    }
   ],
   "source": [
    "from tensorflow.keras.models import Sequential         # 신경망 생성\n",
    "from tensorflow.keras.layers import Dense, Conv2D      # 신경망 층 추가 및 합성곱 함수 임포트\n",
    "from tensorflow.keras.layers import MaxPool2D, Flatten # 맥스풀링 층\n",
    "from tensorflow.keras.layers import Dropout\n",
    "\n",
    "# 분류될 최종 클래스 개수\n",
    "n_class = len(set(y_tn0))\n",
    "\n",
    "# 모형 생성 및 신경망 층 빌딩\n",
    "model = Sequential()\n",
    "\n",
    "model.add(Conv2D(32, kernel_size = (5,5), input_shape = (28,28,1),\n",
    "                padding = 'valid', activation = 'relu'))\n",
    "model.add(MaxPool2D(pool_size = (2,2)))\n",
    "model.add(Dropout(0.25))  # 사용하지 않을 노드의 비율\n",
    "model.add(Flatten())      # 행렬 형태를 벡터 형태로 펼침\n",
    "\n",
    "model.add(Dense(1024, activation = 'relu'))\n",
    "model.add(Dropout(0.5))\n",
    "\n",
    "model.add(Dense(n_class, activation = 'softmax'))\n",
    "model.summary()"
   ]
  },
  {
   "cell_type": "markdown",
   "id": "75c4f8fd",
   "metadata": {},
   "source": [
    "##### Conv2D()\n",
    "    model.add(Conv2D(32, kernel_size = (5,5), input_shape(28,28,1),\n",
    "                    padding = 'valid', activation = 'relu'))\n",
    "\n",
    "\n",
    "32 는 아웃풋 데이터의 차원. 32개의 이미지 데이터가 출력된다는 뜻이다. 커널사이즈는 커널 사이즈.\n",
    "\n",
    "input_shape: 인풋 데이터의 차원을 의미한다. Mnist데이터의 각 이미지는 28행 28열 1채널이기 때문에 (28,28,1) 을 쓴다.\n",
    "\n",
    "padding : valid와 same 선택. valid는 패딩을 하지 않음, same은 입력 데이터와 크기가 동일하게 조정되는 것.\n",
    "\n",
    "##### MaxPool2D\n",
    "\n",
    "풀링 사이즈를 pool_size로 조정.\n",
    "\n",
    "##### Dropout \n",
    "\n",
    "사용하지 않을 노드의 비율을 의미한다. \n",
    "\n",
    "##### Flatten\n",
    "\n",
    "최종 아웃풋 형태를 고려해여 행렬 형태의 데이터를 벡터 형태로 펼친다.\n"
   ]
  },
  {
   "cell_type": "markdown",
   "id": "c5242d67",
   "metadata": {},
   "source": [
    "## model compile"
   ]
  },
  {
   "cell_type": "code",
   "execution_count": 16,
   "id": "2ec8aeb8",
   "metadata": {},
   "outputs": [],
   "source": [
    "model.compile(loss = 'categorical_crossentropy',   # 손실함수: 다중분류\n",
    "              optimizer = 'adam',                  # 옵티마이저와 평가기준\n",
    "              metrics = ['accuracy'])"
   ]
  },
  {
   "cell_type": "markdown",
   "id": "935b784a",
   "metadata": {},
   "source": [
    "## model learning"
   ]
  },
  {
   "cell_type": "code",
   "execution_count": 17,
   "id": "0b7ab783",
   "metadata": {
    "scrolled": true
   },
   "outputs": [
    {
     "name": "stdout",
     "output_type": "stream",
     "text": [
      "Epoch 1/3\n",
      "600/600 [==============================] - 57s 94ms/step - loss: 0.1621 - accuracy: 0.9506\n",
      "Epoch 2/3\n",
      "600/600 [==============================] - 50s 84ms/step - loss: 0.0586 - accuracy: 0.9823\n",
      "Epoch 3/3\n",
      "600/600 [==============================] - 51s 85ms/step - loss: 0.0417 - accuracy: 0.9867\n"
     ]
    }
   ],
   "source": [
    "hist = model.fit(X_tn, y_tn, epochs = 3, batch_size = 100)  # batch_size: learning mini batch size at one ephoch"
   ]
  },
  {
   "cell_type": "markdown",
   "id": "cfe3cd5b",
   "metadata": {},
   "source": [
    "# Evaluation\n",
    "\n",
    "accuracy를 따라 평가해본다. 트레이닝 데이터와 테스트 데이터로 정확도를 평가해본다."
   ]
  },
  {
   "cell_type": "code",
   "execution_count": 18,
   "id": "0cf6b796",
   "metadata": {},
   "outputs": [
    {
     "name": "stdout",
     "output_type": "stream",
     "text": [
      "1875/1875 [==============================] - 22s 12ms/step - loss: 0.0190 - accuracy: 0.9948\n",
      "0.9947666525840759\n",
      "313/313 [==============================] - 4s 12ms/step - loss: 0.0316 - accuracy: 0.9887\n",
      "0.9886999726295471\n"
     ]
    }
   ],
   "source": [
    "print(model.evaluate(X_tn, y_tn)[1])\n",
    "print(model.evaluate(X_te, y_te)[1])"
   ]
  },
  {
   "cell_type": "markdown",
   "id": "ecd9951f",
   "metadata": {},
   "source": [
    "상당히 좋은 결과이다. 와우...\n",
    "\n",
    "## Wrong answers\n",
    "\n",
    "테스트 피처 데이터를 통해 오답 데이터를 확인해본다.\n",
    "\n",
    "--- \n",
    "\n",
    "코드설명: \n",
    "\n",
    "    예측 데이터는 원핫인코딩 형태이다. 원핫 인코딩 형태가 아닌 원본 숫자 형태로 바꾸어 출력한다.\n",
    "\n",
    "    np.argmax를 통해 쉽게 원본 숫자로 바꿀 수 있다.\n",
    "\n",
    "    바꾼 뒤 실젯값과 예측값의 차이를 구하는데, 이를 diff로 설정한다. diff가 0인지 아닌지 따라 본다.\n",
    "\n",
    "    몇 번째 테스트 피처 데이터가 0이 아닌지를 저장하기 위해 인덱스 저장할 리스트를 생성하고, \n",
    "\n",
    "    반복문을 만들기 위해 테스트 타깃 데이터의 길이를 저장한다(그들을 다 훑는다).\n",
    "\n",
    "    0이 아닌 녀석의 인덱스를 리스트에 추가해둔다.\n"
   ]
  },
  {
   "cell_type": "code",
   "execution_count": 19,
   "id": "82f84e08",
   "metadata": {},
   "outputs": [
    {
     "name": "stdout",
     "output_type": "stream",
     "text": [
      "313/313 [==============================] - 4s 12ms/step\n",
      "[6.7081466e-08 2.6774404e-07 1.5925344e-06 8.5497586e-06 5.3426104e-09\n",
      " 2.1562940e-08 3.6584718e-11 9.9998152e-01 1.1951147e-06 6.8251788e-06]\n"
     ]
    }
   ],
   "source": [
    "y_pred_hot = model.predict(X_te)\n",
    "print(y_pred_hot[0])"
   ]
  },
  {
   "cell_type": "code",
   "execution_count": 20,
   "id": "17c22a16",
   "metadata": {},
   "outputs": [
    {
     "name": "stdout",
     "output_type": "stream",
     "text": [
      "[7 2 1 ... 4 5 6]\n"
     ]
    }
   ],
   "source": [
    "import numpy as np\n",
    "\n",
    "y_pred = np.argmax(y_pred_hot, axis = 1)\n",
    "print(y_pred)"
   ]
  },
  {
   "cell_type": "code",
   "execution_count": 21,
   "id": "88160a5e",
   "metadata": {},
   "outputs": [],
   "source": [
    "diff = y_te0 - y_pred\n",
    "diff_idx = []\n",
    "y_len = len(y_te0)\n",
    "\n",
    "for i in range(0, y_len):\n",
    "    if(diff[i] != 0):\n",
    "        diff_idx.append(i)"
   ]
  },
  {
   "cell_type": "markdown",
   "id": "bf8717de",
   "metadata": {},
   "source": [
    "## Wrong answers visualization"
   ]
  }
 ],
 "metadata": {
  "kernelspec": {
   "display_name": "Python 3 (ipykernel)",
   "language": "python",
   "name": "python3"
  },
  "language_info": {
   "codemirror_mode": {
    "name": "ipython",
    "version": 3
   },
   "file_extension": ".py",
   "mimetype": "text/x-python",
   "name": "python",
   "nbconvert_exporter": "python",
   "pygments_lexer": "ipython3",
   "version": "3.8.5"
  },
  "toc": {
   "base_numbering": 1,
   "nav_menu": {},
   "number_sections": true,
   "sideBar": true,
   "skip_h1_title": false,
   "title_cell": "Table of Contents",
   "title_sidebar": "Contents",
   "toc_cell": false,
   "toc_position": {},
   "toc_section_display": true,
   "toc_window_display": true
  }
 },
 "nbformat": 4,
 "nbformat_minor": 5
}

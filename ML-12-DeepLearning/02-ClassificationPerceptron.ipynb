{
 "cells": [
  {
   "cell_type": "markdown",
   "id": "1ce1c567",
   "metadata": {},
   "source": [
    "# 분류 신경망 빌딩 연습"
   ]
  },
  {
   "cell_type": "code",
   "execution_count": null,
   "id": "64e0797a",
   "metadata": {},
   "outputs": [],
   "source": [
    "# 모형 저장 및 불러오는 코드\n",
    "\n",
    "# model.save('cnn_model2.h5')\n",
    "\n",
    "# from tensorflow.keras.models import load_model\n",
    "# cnn_model2 = load_model('cnn_model2.h5')"
   ]
  },
  {
   "cell_type": "markdown",
   "id": "cbf419ee",
   "metadata": {},
   "source": [
    "# Data and libraries\n",
    "\n",
    "일관된 결과를 위해 random seed를 0으로 고정한다.\n"
   ]
  },
  {
   "cell_type": "code",
   "execution_count": 1,
   "id": "78351b34",
   "metadata": {},
   "outputs": [],
   "source": [
    "import numpy as np\n",
    "import tensorflow as tf\n",
    "\n",
    "np.random.seed(0)\n",
    "tf.random.set_seed(0)"
   ]
  },
  {
   "cell_type": "code",
   "execution_count": 2,
   "id": "724a6b9d",
   "metadata": {},
   "outputs": [
    {
     "name": "stdout",
     "output_type": "stream",
     "text": [
      "1.22.4\n",
      "2.9.1\n",
      "2.9.0\n"
     ]
    }
   ],
   "source": [
    "import keras\n",
    "\n",
    "# version check\n",
    "print(np.__version__)\n",
    "print(tf.__version__)\n",
    "print(keras.__version__)"
   ]
  },
  {
   "cell_type": "code",
   "execution_count": 3,
   "id": "cdab486d",
   "metadata": {},
   "outputs": [],
   "source": [
    "# data load\n",
    "\n",
    "from sklearn import datasets\n",
    "raw_wine = datasets.load_wine()"
   ]
  },
  {
   "cell_type": "markdown",
   "id": "b02f925e",
   "metadata": {},
   "source": [
    "# feature and target"
   ]
  },
  {
   "cell_type": "code",
   "execution_count": 4,
   "id": "ebc9fece",
   "metadata": {},
   "outputs": [],
   "source": [
    "X = raw_wine.data\n",
    "y = raw_wine.target"
   ]
  },
  {
   "cell_type": "markdown",
   "id": "47fb264d",
   "metadata": {},
   "source": [
    "## feature dimension "
   ]
  },
  {
   "cell_type": "code",
   "execution_count": 5,
   "id": "cc4cb130",
   "metadata": {},
   "outputs": [
    {
     "name": "stdout",
     "output_type": "stream",
     "text": [
      "(178, 13)\n"
     ]
    }
   ],
   "source": [
    "print(X.shape)"
   ]
  },
  {
   "cell_type": "markdown",
   "id": "d8119042",
   "metadata": {},
   "source": [
    "## target data classes"
   ]
  },
  {
   "cell_type": "code",
   "execution_count": 6,
   "id": "e2598fdd",
   "metadata": {},
   "outputs": [
    {
     "name": "stdout",
     "output_type": "stream",
     "text": [
      "{0, 1, 2}\n"
     ]
    }
   ],
   "source": [
    "print(set(y))"
   ]
  },
  {
   "cell_type": "markdown",
   "id": "15bb8368",
   "metadata": {},
   "source": [
    "## target data one-hot encoding (오류 및 해결 포함)\n",
    "\n",
    "타깃 데이터는 범주형 데이터이기 때문에(0, 1, 2로 표현됨) 원핫인코딩을 진행하도록 한다."
   ]
  },
  {
   "cell_type": "code",
   "execution_count": 7,
   "id": "38a3a057",
   "metadata": {},
   "outputs": [
    {
     "name": "stdout",
     "output_type": "stream",
     "text": [
      "[[1. 0. 0.]\n",
      " [1. 0. 0.]\n",
      " [1. 0. 0.]\n",
      " [1. 0. 0.]\n",
      " [1. 0. 0.]\n",
      " [1. 0. 0.]\n",
      " [1. 0. 0.]\n",
      " [1. 0. 0.]\n",
      " [1. 0. 0.]\n",
      " [1. 0. 0.]\n",
      " [1. 0. 0.]\n",
      " [1. 0. 0.]\n",
      " [1. 0. 0.]\n",
      " [1. 0. 0.]\n",
      " [1. 0. 0.]\n",
      " [1. 0. 0.]\n",
      " [1. 0. 0.]\n",
      " [1. 0. 0.]\n",
      " [1. 0. 0.]\n",
      " [1. 0. 0.]\n",
      " [1. 0. 0.]\n",
      " [1. 0. 0.]\n",
      " [1. 0. 0.]\n",
      " [1. 0. 0.]\n",
      " [1. 0. 0.]\n",
      " [1. 0. 0.]\n",
      " [1. 0. 0.]\n",
      " [1. 0. 0.]\n",
      " [1. 0. 0.]\n",
      " [1. 0. 0.]\n",
      " [1. 0. 0.]\n",
      " [1. 0. 0.]\n",
      " [1. 0. 0.]\n",
      " [1. 0. 0.]\n",
      " [1. 0. 0.]\n",
      " [1. 0. 0.]\n",
      " [1. 0. 0.]\n",
      " [1. 0. 0.]\n",
      " [1. 0. 0.]\n",
      " [1. 0. 0.]\n",
      " [1. 0. 0.]\n",
      " [1. 0. 0.]\n",
      " [1. 0. 0.]\n",
      " [1. 0. 0.]\n",
      " [1. 0. 0.]\n",
      " [1. 0. 0.]\n",
      " [1. 0. 0.]\n",
      " [1. 0. 0.]\n",
      " [1. 0. 0.]\n",
      " [1. 0. 0.]\n",
      " [1. 0. 0.]\n",
      " [1. 0. 0.]\n",
      " [1. 0. 0.]\n",
      " [1. 0. 0.]\n",
      " [1. 0. 0.]\n",
      " [1. 0. 0.]\n",
      " [1. 0. 0.]\n",
      " [1. 0. 0.]\n",
      " [1. 0. 0.]\n",
      " [0. 1. 0.]\n",
      " [0. 1. 0.]\n",
      " [0. 1. 0.]\n",
      " [0. 1. 0.]\n",
      " [0. 1. 0.]\n",
      " [0. 1. 0.]\n",
      " [0. 1. 0.]\n",
      " [0. 1. 0.]\n",
      " [0. 1. 0.]\n",
      " [0. 1. 0.]\n",
      " [0. 1. 0.]\n",
      " [0. 1. 0.]\n",
      " [0. 1. 0.]\n",
      " [0. 1. 0.]\n",
      " [0. 1. 0.]\n",
      " [0. 1. 0.]\n",
      " [0. 1. 0.]\n",
      " [0. 1. 0.]\n",
      " [0. 1. 0.]\n",
      " [0. 1. 0.]\n",
      " [0. 1. 0.]\n",
      " [0. 1. 0.]\n",
      " [0. 1. 0.]\n",
      " [0. 1. 0.]\n",
      " [0. 1. 0.]\n",
      " [0. 1. 0.]\n",
      " [0. 1. 0.]\n",
      " [0. 1. 0.]\n",
      " [0. 1. 0.]\n",
      " [0. 1. 0.]\n",
      " [0. 1. 0.]\n",
      " [0. 1. 0.]\n",
      " [0. 1. 0.]\n",
      " [0. 1. 0.]\n",
      " [0. 1. 0.]\n",
      " [0. 1. 0.]\n",
      " [0. 1. 0.]\n",
      " [0. 1. 0.]\n",
      " [0. 1. 0.]\n",
      " [0. 1. 0.]\n",
      " [0. 1. 0.]\n",
      " [0. 1. 0.]\n",
      " [0. 1. 0.]\n",
      " [0. 1. 0.]\n",
      " [0. 1. 0.]\n",
      " [0. 1. 0.]\n",
      " [0. 1. 0.]\n",
      " [0. 1. 0.]\n",
      " [0. 1. 0.]\n",
      " [0. 1. 0.]\n",
      " [0. 1. 0.]\n",
      " [0. 1. 0.]\n",
      " [0. 1. 0.]\n",
      " [0. 1. 0.]\n",
      " [0. 1. 0.]\n",
      " [0. 1. 0.]\n",
      " [0. 1. 0.]\n",
      " [0. 1. 0.]\n",
      " [0. 1. 0.]\n",
      " [0. 1. 0.]\n",
      " [0. 1. 0.]\n",
      " [0. 1. 0.]\n",
      " [0. 1. 0.]\n",
      " [0. 1. 0.]\n",
      " [0. 1. 0.]\n",
      " [0. 1. 0.]\n",
      " [0. 1. 0.]\n",
      " [0. 1. 0.]\n",
      " [0. 1. 0.]\n",
      " [0. 1. 0.]\n",
      " [0. 1. 0.]\n",
      " [0. 0. 1.]\n",
      " [0. 0. 1.]\n",
      " [0. 0. 1.]\n",
      " [0. 0. 1.]\n",
      " [0. 0. 1.]\n",
      " [0. 0. 1.]\n",
      " [0. 0. 1.]\n",
      " [0. 0. 1.]\n",
      " [0. 0. 1.]\n",
      " [0. 0. 1.]\n",
      " [0. 0. 1.]\n",
      " [0. 0. 1.]\n",
      " [0. 0. 1.]\n",
      " [0. 0. 1.]\n",
      " [0. 0. 1.]\n",
      " [0. 0. 1.]\n",
      " [0. 0. 1.]\n",
      " [0. 0. 1.]\n",
      " [0. 0. 1.]\n",
      " [0. 0. 1.]\n",
      " [0. 0. 1.]\n",
      " [0. 0. 1.]\n",
      " [0. 0. 1.]\n",
      " [0. 0. 1.]\n",
      " [0. 0. 1.]\n",
      " [0. 0. 1.]\n",
      " [0. 0. 1.]\n",
      " [0. 0. 1.]\n",
      " [0. 0. 1.]\n",
      " [0. 0. 1.]\n",
      " [0. 0. 1.]\n",
      " [0. 0. 1.]\n",
      " [0. 0. 1.]\n",
      " [0. 0. 1.]\n",
      " [0. 0. 1.]\n",
      " [0. 0. 1.]\n",
      " [0. 0. 1.]\n",
      " [0. 0. 1.]\n",
      " [0. 0. 1.]\n",
      " [0. 0. 1.]\n",
      " [0. 0. 1.]\n",
      " [0. 0. 1.]\n",
      " [0. 0. 1.]\n",
      " [0. 0. 1.]\n",
      " [0. 0. 1.]\n",
      " [0. 0. 1.]\n",
      " [0. 0. 1.]\n",
      " [0. 0. 1.]]\n"
     ]
    }
   ],
   "source": [
    "from tensorflow.keras.utils import to_categorical\n",
    "\n",
    "y_hot = to_categorical(y)\n",
    "print(y_hot)"
   ]
  },
  {
   "cell_type": "markdown",
   "id": "b425619e",
   "metadata": {},
   "source": [
    "```\n",
    "AlreadyExistsError: Another metric with the same name already exists.\n",
    "```\n",
    "\n",
    "해당 오류가 뜨면 keras를 하나만 설치하라는 의미라고 한다. (https://precommer.tistory.com/76\n",
    "\n",
    "나는 가상환경을 사용하고 있는 상황이라 혹시나 해서 base에 있는 keras도 지워보고 다시 깔았지만 다시 문제가 생겼다.\n",
    "\n",
    "\n",
    "```\n",
    "ImportError: cannot import name 'dtensor' from 'tensorflow.compat.v2.experimental' (/Users/Angela/opt/anaconda3/envs/py3_8_5/lib/python3.8/site-packages/tensorflow/_api/v2/compat/v2/experimental/__init__.py)\n",
    "```\n",
    "\n",
    "그 다음에는 텐서플로우와 케라스 버전이 안맞는다는 이야기를 받았다. ~~젠장.~~ (https://stackoverflow.com/questions/72255562/cannot-import-name-dtensor-from-tensorflow-compat-v2-experimental)\n",
    "\n",
    "둘다 지우고 다시 깔도록 한다. 이번 오류 덕분에 모싄뤄닝등을 할 때는 버전 체크가 더더욱이 중요하다는 것을, 까먹었었던 바보를 발견하였다."
   ]
  },
  {
   "cell_type": "markdown",
   "id": "dd344eca",
   "metadata": {},
   "source": [
    "## Training/Test Data split"
   ]
  },
  {
   "cell_type": "code",
   "execution_count": 8,
   "id": "ed9bdfea",
   "metadata": {},
   "outputs": [],
   "source": [
    "from sklearn.model_selection import train_test_split\n",
    "\n",
    "X_tn, X_te, y_tn, y_te = train_test_split(X, y_hot, random_state = 0)"
   ]
  },
  {
   "cell_type": "markdown",
   "id": "f27daaea",
   "metadata": {},
   "source": [
    "# Building Perceptron (오류 및 해결 포함)"
   ]
  },
  {
   "cell_type": "code",
   "execution_count": 9,
   "id": "9bc7fb9f",
   "metadata": {},
   "outputs": [
    {
     "name": "stderr",
     "output_type": "stream",
     "text": [
      "2022-06-22 19:17:52.161539: I tensorflow/core/platform/cpu_feature_guard.cc:193] This TensorFlow binary is optimized with oneAPI Deep Neural Network Library (oneDNN) to use the following CPU instructions in performance-critical operations:  AVX2 FMA\n",
      "To enable them in other operations, rebuild TensorFlow with the appropriate compiler flags.\n"
     ]
    }
   ],
   "source": [
    "from tensorflow.keras.models import Sequential         # 신경망 생성\n",
    "from tensorflow.keras.layers import Dense              # 신경망 층 추가\n",
    "from tensorflow.keras.layers import BatchNormalization # 배치 정규화\n",
    "from tensorflow.keras.layers import Activation         # 활성화 함수 사용\n",
    "\n",
    "n_feat = X_tn.shape[1]              # 신경망에 사용되는 피처 개수 (현재 데이터: 13개)\n",
    "n_class = len(set(y))               # 클래스 개수 (현재 데이터: 3개)\n",
    "epo = 30                            # 학습횟수 30. 30단계로 학습 진행\n",
    "\n",
    "model = Sequential()                # 초기 모형 생성.\n",
    "model.add(Dense(20, input_dim = n_feat)) # add로 입력층 추가, *input_dim = 피처개수, 20은 output 차원\n",
    "model.add(BatchNormalization())     # 배치 정규화\n",
    "model.add(Activation('relu'))       # 활성화 함수 reLU\n",
    "model.add(Dense(n_class))           # 최종 아웃풋 층. 클래스 개수인 3개로 구분되도록.\n",
    "model.add(Activation('softmax'))    # 활성화 함수 softmax"
   ]
  },
  {
   "cell_type": "markdown",
   "id": "921d73ac",
   "metadata": {},
   "source": [
    "## perceptron model structure checking"
   ]
  },
  {
   "cell_type": "code",
   "execution_count": 10,
   "id": "8741bd78",
   "metadata": {},
   "outputs": [
    {
     "name": "stdout",
     "output_type": "stream",
     "text": [
      "Model: \"sequential\"\n",
      "_________________________________________________________________\n",
      " Layer (type)                Output Shape              Param #   \n",
      "=================================================================\n",
      " dense (Dense)               (None, 20)                280       \n",
      "                                                                 \n",
      " batch_normalization (BatchN  (None, 20)               80        \n",
      " ormalization)                                                   \n",
      "                                                                 \n",
      " activation (Activation)     (None, 20)                0         \n",
      "                                                                 \n",
      " dense_1 (Dense)             (None, 3)                 63        \n",
      "                                                                 \n",
      " activation_1 (Activation)   (None, 3)                 0         \n",
      "                                                                 \n",
      "=================================================================\n",
      "Total params: 423\n",
      "Trainable params: 383\n",
      "Non-trainable params: 40\n",
      "_________________________________________________________________\n"
     ]
    }
   ],
   "source": [
    "model.summary()"
   ]
  },
  {
   "cell_type": "markdown",
   "id": "17163462",
   "metadata": {},
   "source": [
    "빌딩하고 났더니 무슨 오류가 떴는데 모델 요약은 적절하게 되었다. 이를 해결하기 위해서는 \n",
    "\n",
    "(https://stackoverflow.com/questions/66092421/how-to-rebuild-tensorflow-with-the-compiler-flags)\n",
    "```\n",
    " import os\n",
    "    os.environ['TF_CPP_MIN_LOG_LEVEL'] = '2'\n",
    "```\n",
    "\n",
    "하라고 해서 해보고 진행했더니 하단처럼, 오류가 뜨지 않았다.\n",
    "\n",
    "대신 모델 버전이 다르다. 알아서 새로 만들었나보다."
   ]
  },
  {
   "cell_type": "code",
   "execution_count": 11,
   "id": "cc19cc62",
   "metadata": {},
   "outputs": [],
   "source": [
    "import os\n",
    "os.environ['TF_CPP_MIN_LOG_LEVEL'] = '2'"
   ]
  },
  {
   "cell_type": "code",
   "execution_count": 13,
   "id": "02e3f6e0",
   "metadata": {},
   "outputs": [],
   "source": [
    "from tensorflow.keras.models import Sequential         # 신경망 생성\n",
    "from tensorflow.keras.layers import Dense              # 신경망 층 추가\n",
    "from tensorflow.keras.layers import BatchNormalization # 배치 정규화\n",
    "from tensorflow.keras.layers import Activation         # 활성화 함수 사용\n",
    "\n",
    "n_feat = X_tn.shape[1]              # 신경망에 사용되는 피처 개수 (현재 데이터: 13개)\n",
    "n_class = len(set(y))               # 클래스 개수 (현재 데이터: 3개)\n",
    "epo = 30                            # 학습횟수 30. 30단계로 학습 진행\n",
    "\n",
    "model = Sequential()                # 초기 모형 생성.\n",
    "model.add(Dense(20, input_dim = n_feat)) # add로 입력층 추가, *input_dim = 피처개수, 20은 output 차원\n",
    "model.add(BatchNormalization())     # 배치 정규화\n",
    "model.add(Activation('relu'))       # 활성화 함수 reLU\n",
    "model.add(Dense(n_class))           # 최종 아웃풋 층. 클래스 개수인 3개로 구분되도록.\n",
    "model.add(Activation('softmax'))    # 활성화 함수 softmax"
   ]
  },
  {
   "cell_type": "code",
   "execution_count": 14,
   "id": "a0746e5c",
   "metadata": {},
   "outputs": [
    {
     "name": "stdout",
     "output_type": "stream",
     "text": [
      "Model: \"sequential_2\"\n",
      "_________________________________________________________________\n",
      " Layer (type)                Output Shape              Param #   \n",
      "=================================================================\n",
      " dense_4 (Dense)             (None, 20)                280       \n",
      "                                                                 \n",
      " batch_normalization_2 (Batc  (None, 20)               80        \n",
      " hNormalization)                                                 \n",
      "                                                                 \n",
      " activation_4 (Activation)   (None, 20)                0         \n",
      "                                                                 \n",
      " dense_5 (Dense)             (None, 3)                 63        \n",
      "                                                                 \n",
      " activation_5 (Activation)   (None, 3)                 0         \n",
      "                                                                 \n",
      "=================================================================\n",
      "Total params: 423\n",
      "Trainable params: 383\n",
      "Non-trainable params: 40\n",
      "_________________________________________________________________\n"
     ]
    }
   ],
   "source": [
    "model.summary()"
   ]
  },
  {
   "cell_type": "markdown",
   "id": "e591f892",
   "metadata": {},
   "source": [
    "## model compile"
   ]
  },
  {
   "cell_type": "code",
   "execution_count": 15,
   "id": "fbab52af",
   "metadata": {},
   "outputs": [],
   "source": [
    "model.compile(loss = 'categorical_crossentropy',  # 손실함수: 이진은 binary, 이상은 categorical\n",
    "             optimizer = 'adam',                  # 옵티마이저와 평가 기준\n",
    "             metrics = ['accuracy'])"
   ]
  },
  {
   "cell_type": "markdown",
   "id": "f09a14d8",
   "metadata": {},
   "source": [
    "## model learning"
   ]
  },
  {
   "cell_type": "code",
   "execution_count": 16,
   "id": "4bc8c950",
   "metadata": {
    "scrolled": true
   },
   "outputs": [
    {
     "name": "stdout",
     "output_type": "stream",
     "text": [
      "Epoch 1/30\n",
      "27/27 [==============================] - 1s 6ms/step - loss: 1.0688 - accuracy: 0.3835\n",
      "Epoch 2/30\n",
      "27/27 [==============================] - 0s 3ms/step - loss: 0.8910 - accuracy: 0.6316\n",
      "Epoch 3/30\n",
      "27/27 [==============================] - 0s 4ms/step - loss: 0.8554 - accuracy: 0.6015\n",
      "Epoch 4/30\n",
      "27/27 [==============================] - 0s 3ms/step - loss: 0.7937 - accuracy: 0.6316\n",
      "Epoch 5/30\n",
      "27/27 [==============================] - 0s 3ms/step - loss: 0.7315 - accuracy: 0.7293\n",
      "Epoch 6/30\n",
      "27/27 [==============================] - 0s 3ms/step - loss: 0.7424 - accuracy: 0.6692\n",
      "Epoch 7/30\n",
      "27/27 [==============================] - 0s 4ms/step - loss: 0.7507 - accuracy: 0.7143\n",
      "Epoch 8/30\n",
      "27/27 [==============================] - 0s 5ms/step - loss: 0.6550 - accuracy: 0.8045\n",
      "Epoch 9/30\n",
      "27/27 [==============================] - 0s 5ms/step - loss: 0.6277 - accuracy: 0.7519\n",
      "Epoch 10/30\n",
      "27/27 [==============================] - 0s 2ms/step - loss: 0.5937 - accuracy: 0.8045\n",
      "Epoch 11/30\n",
      "27/27 [==============================] - 0s 2ms/step - loss: 0.5997 - accuracy: 0.8120\n",
      "Epoch 12/30\n",
      "27/27 [==============================] - 0s 2ms/step - loss: 0.5165 - accuracy: 0.8571\n",
      "Epoch 13/30\n",
      "27/27 [==============================] - 0s 2ms/step - loss: 0.5092 - accuracy: 0.8346\n",
      "Epoch 14/30\n",
      "27/27 [==============================] - 0s 2ms/step - loss: 0.5592 - accuracy: 0.8271\n",
      "Epoch 15/30\n",
      "27/27 [==============================] - 0s 2ms/step - loss: 0.4996 - accuracy: 0.8797\n",
      "Epoch 16/30\n",
      "27/27 [==============================] - 0s 2ms/step - loss: 0.4271 - accuracy: 0.8647\n",
      "Epoch 17/30\n",
      "27/27 [==============================] - 0s 2ms/step - loss: 0.4221 - accuracy: 0.8571\n",
      "Epoch 18/30\n",
      "27/27 [==============================] - 0s 3ms/step - loss: 0.4248 - accuracy: 0.8647\n",
      "Epoch 19/30\n",
      "27/27 [==============================] - 0s 4ms/step - loss: 0.5746 - accuracy: 0.7744\n",
      "Epoch 20/30\n",
      "27/27 [==============================] - 0s 3ms/step - loss: 0.4534 - accuracy: 0.8571\n",
      "Epoch 21/30\n",
      "27/27 [==============================] - 0s 2ms/step - loss: 0.4397 - accuracy: 0.8496\n",
      "Epoch 22/30\n",
      "27/27 [==============================] - 0s 3ms/step - loss: 0.4522 - accuracy: 0.8195\n",
      "Epoch 23/30\n",
      "27/27 [==============================] - 0s 4ms/step - loss: 0.3733 - accuracy: 0.8571\n",
      "Epoch 24/30\n",
      "27/27 [==============================] - 0s 4ms/step - loss: 0.4696 - accuracy: 0.8195\n",
      "Epoch 25/30\n",
      "27/27 [==============================] - 0s 5ms/step - loss: 0.4244 - accuracy: 0.8722\n",
      "Epoch 26/30\n",
      "27/27 [==============================] - 0s 4ms/step - loss: 0.4355 - accuracy: 0.8421\n",
      "Epoch 27/30\n",
      "27/27 [==============================] - 0s 3ms/step - loss: 0.4068 - accuracy: 0.8647\n",
      "Epoch 28/30\n",
      "27/27 [==============================] - 0s 3ms/step - loss: 0.4064 - accuracy: 0.8271\n",
      "Epoch 29/30\n",
      "27/27 [==============================] - 0s 3ms/step - loss: 0.3956 - accuracy: 0.8271\n",
      "Epoch 30/30\n",
      "27/27 [==============================] - 0s 2ms/step - loss: 0.3976 - accuracy: 0.8872\n"
     ]
    }
   ],
   "source": [
    "hist = model.fit(X_tn, y_tn, epochs = epo, batch_size = 5)  # batch_size: learning mini batch size at one ephoch"
   ]
  },
  {
   "cell_type": "markdown",
   "id": "455fddd7",
   "metadata": {},
   "source": [
    "# evaluation"
   ]
  },
  {
   "cell_type": "code",
   "execution_count": 17,
   "id": "80511c77",
   "metadata": {},
   "outputs": [
    {
     "name": "stdout",
     "output_type": "stream",
     "text": [
      "5/5 [==============================] - 0s 2ms/step - loss: 0.8212 - accuracy: 0.5714\n",
      "0.5714285969734192\n",
      "2/2 [==============================] - 0s 7ms/step - loss: 0.7784 - accuracy: 0.6444\n",
      "0.644444465637207\n"
     ]
    }
   ],
   "source": [
    "print(model.evaluate(X_tn, y_tn)[1])\n",
    "print(model.evaluate(X_te, y_te)[1])"
   ]
  },
  {
   "cell_type": "markdown",
   "id": "5e9f9526",
   "metadata": {},
   "source": [
    "좀... 끔찍한 결과이다."
   ]
  },
  {
   "cell_type": "markdown",
   "id": "04513d4e",
   "metadata": {},
   "source": [
    "## accuracy and loss rate"
   ]
  },
  {
   "cell_type": "code",
   "execution_count": 18,
   "id": "2ded3e64",
   "metadata": {},
   "outputs": [
    {
     "name": "stdout",
     "output_type": "stream",
     "text": [
      "[ 1  2  3  4  5  6  7  8  9 10 11 12 13 14 15 16 17 18 19 20 21 22 23 24\n",
      " 25 26 27 28 29 30]\n"
     ]
    }
   ],
   "source": [
    "import numpy as np\n",
    "epoch = np.arange(1, epo +1)            # x축 설정\n",
    "print(epoch)"
   ]
  },
  {
   "cell_type": "code",
   "execution_count": 19,
   "id": "0012af74",
   "metadata": {},
   "outputs": [
    {
     "name": "stdout",
     "output_type": "stream",
     "text": [
      "[0.3834586441516876, 0.6315789222717285, 0.6015037298202515, 0.6315789222717285, 0.7293233275413513, 0.6691729426383972, 0.7142857313156128, 0.8045112490653992, 0.7518796920776367, 0.8045112490653992, 0.8120300769805908, 0.8571428656578064, 0.8345864415168762, 0.8270676732063293, 0.8796992301940918, 0.8646616339683533, 0.8571428656578064, 0.8646616339683533, 0.7744361162185669, 0.8571428656578064, 0.8496240377426147, 0.8195488452911377, 0.8571428656578064, 0.8195488452911377, 0.8721804618835449, 0.8421052694320679, 0.8646616339683533, 0.8270676732063293, 0.8270676732063293, 0.8872180581092834]\n"
     ]
    }
   ],
   "source": [
    "accuracy = hist.history['accuracy']   # 학습시켰던 모형에서 history를 이용하여 데려올 수 있다. 에포크 별 정확도를 알 수 있다.\n",
    "print(accuracy)"
   ]
  },
  {
   "cell_type": "code",
   "execution_count": 20,
   "id": "3dd96b5b",
   "metadata": {},
   "outputs": [
    {
     "name": "stdout",
     "output_type": "stream",
     "text": [
      "[1.068764567375183, 0.8909791707992554, 0.855434238910675, 0.7936780452728271, 0.7315273880958557, 0.7424473762512207, 0.7506675720214844, 0.6550098657608032, 0.6277068257331848, 0.5936731696128845, 0.5996636152267456, 0.5164527893066406, 0.5092477202415466, 0.5592142939567566, 0.4995950758457184, 0.42710691690444946, 0.42207688093185425, 0.42477908730506897, 0.5746212005615234, 0.4534298777580261, 0.4397333264350891, 0.4522445499897003, 0.37329405546188354, 0.4696033000946045, 0.42441466450691223, 0.4354948103427887, 0.40682098269462585, 0.40640369057655334, 0.3955713212490082, 0.3976100981235504]\n"
     ]
    }
   ],
   "source": [
    "loss = hist.history['loss']           # 학습시켰던 모형에서 history를 이용하여 데려올 수 있다. 에포크 별 손실정도를 알 수 있다.\n",
    "print(loss)"
   ]
  },
  {
   "cell_type": "markdown",
   "id": "a2071962",
   "metadata": {},
   "source": [
    "## accuracy and loss rate visualization"
   ]
  },
  {
   "cell_type": "code",
   "execution_count": 21,
   "id": "180dc9ab",
   "metadata": {},
   "outputs": [
    {
     "data": {
      "image/png": "[encoded data removed]",
      "text/plain": [
       "<Figure size 432x288 with 1 Axes>"
      ]
     },
     "metadata": {
      "needs_background": "light"
     },
     "output_type": "display_data"
    }
   ],
   "source": [
    "import matplotlib.pyplot as plt\n",
    "\n",
    "plt.plot(epoch, accuracy, label = 'accuracy')\n",
    "plt.xlabel('epoch')\n",
    "plt.ylabel('accuracy')\n",
    "plt.legend()\n",
    "plt.show()"
   ]
  },
  {
   "cell_type": "code",
   "execution_count": 22,
   "id": "02c7d97c",
   "metadata": {},
   "outputs": [
    {
     "data": {
      "image/png": "[encoded data removed]",
      "text/plain": [
       "<Figure size 432x288 with 1 Axes>"
      ]
     },
     "metadata": {
      "needs_background": "light"
     },
     "output_type": "display_data"
    }
   ],
   "source": [
    "plt.plot(epoch, loss, 'r', label = 'loss')    # plot color = r[ed]\n",
    "plt.xlabel('epoch')\n",
    "plt.ylabel('loss')\n",
    "plt.legend()\n",
    "plt.show()"
   ]
  },
  {
   "cell_type": "markdown",
   "id": "a8afd11b",
   "metadata": {},
   "source": [
    "# Whole code\n",
    "\n",
    "활성화 함수를 하이퍼볼릭 탄젠트 함수로 사용하였다. 분류 문제이고 클래스가 세 가지이기 때문에 (느낌적으로...) 중간에 이 함수로 분류를 풀고 마지막에 소프트맥스 함수를 사용하는 것이 좋을 것이라 생각하여 해보았는데 실제로 정확도가 상당히 상승하였다. 테스트 데이터 대상으로 한 정확도가 0.644 에서 0.933으로 큰 폭 상승하였다고!"
   ]
  },
  {
   "cell_type": "code",
   "execution_count": 25,
   "id": "ba2dd6c9",
   "metadata": {},
   "outputs": [
    {
     "name": "stdout",
     "output_type": "stream",
     "text": [
      "numpy version: 1.22.4\n",
      "tensorflow version: 2.9.1\n",
      "keras version: 2.9.0\n",
      "-- X and target shape checking --\n",
      "(178, 13)\n",
      "{0, 1, 2}\n",
      "-- model summary --\n",
      "Model: \"sequential_5\"\n",
      "_________________________________________________________________\n",
      " Layer (type)                Output Shape              Param #   \n",
      "=================================================================\n",
      " dense_10 (Dense)            (None, 20)                280       \n",
      "                                                                 \n",
      " batch_normalization_5 (Batc  (None, 20)               80        \n",
      " hNormalization)                                                 \n",
      "                                                                 \n",
      " activation_10 (Activation)  (None, 20)                0         \n",
      "                                                                 \n",
      " dense_11 (Dense)            (None, 3)                 63        \n",
      "                                                                 \n",
      " activation_11 (Activation)  (None, 3)                 0         \n",
      "                                                                 \n",
      "=================================================================\n",
      "Total params: 423\n",
      "Trainable params: 383\n",
      "Non-trainable params: 40\n",
      "_________________________________________________________________\n",
      "Epoch 1/30\n",
      "27/27 [==============================] - 1s 2ms/step - loss: 1.7639 - accuracy: 0.2331\n",
      "Epoch 2/30\n",
      "27/27 [==============================] - 0s 3ms/step - loss: 1.4338 - accuracy: 0.3609\n",
      "Epoch 3/30\n",
      "27/27 [==============================] - 0s 3ms/step - loss: 1.2005 - accuracy: 0.3910\n",
      "Epoch 4/30\n",
      "27/27 [==============================] - 0s 3ms/step - loss: 0.9407 - accuracy: 0.4361\n",
      "Epoch 5/30\n",
      "27/27 [==============================] - 0s 4ms/step - loss: 0.8753 - accuracy: 0.6316\n",
      "Epoch 6/30\n",
      "27/27 [==============================] - 0s 4ms/step - loss: 0.8659 - accuracy: 0.6241\n",
      "Epoch 7/30\n",
      "27/27 [==============================] - 0s 4ms/step - loss: 0.8302 - accuracy: 0.6165\n",
      "Epoch 8/30\n",
      "27/27 [==============================] - 0s 5ms/step - loss: 0.7825 - accuracy: 0.6692\n",
      "Epoch 9/30\n",
      "27/27 [==============================] - 0s 6ms/step - loss: 0.7947 - accuracy: 0.6692\n",
      "Epoch 10/30\n",
      "27/27 [==============================] - 0s 4ms/step - loss: 0.7508 - accuracy: 0.6767\n",
      "Epoch 11/30\n",
      "27/27 [==============================] - 0s 5ms/step - loss: 0.6574 - accuracy: 0.7444\n",
      "Epoch 12/30\n",
      "27/27 [==============================] - 0s 3ms/step - loss: 0.6008 - accuracy: 0.7744\n",
      "Epoch 13/30\n",
      "27/27 [==============================] - 0s 3ms/step - loss: 0.5855 - accuracy: 0.7820\n",
      "Epoch 14/30\n",
      "27/27 [==============================] - 0s 5ms/step - loss: 0.5661 - accuracy: 0.7970\n",
      "Epoch 15/30\n",
      "27/27 [==============================] - 0s 6ms/step - loss: 0.4902 - accuracy: 0.8421\n",
      "Epoch 16/30\n",
      "27/27 [==============================] - 0s 4ms/step - loss: 0.4680 - accuracy: 0.8346\n",
      "Epoch 17/30\n",
      "27/27 [==============================] - 0s 4ms/step - loss: 0.4641 - accuracy: 0.8496\n",
      "Epoch 18/30\n",
      "27/27 [==============================] - 0s 3ms/step - loss: 0.4830 - accuracy: 0.8421\n",
      "Epoch 19/30\n",
      "27/27 [==============================] - 0s 4ms/step - loss: 0.6123 - accuracy: 0.7444\n",
      "Epoch 20/30\n",
      "27/27 [==============================] - 0s 5ms/step - loss: 0.4666 - accuracy: 0.8195\n",
      "Epoch 21/30\n",
      "27/27 [==============================] - 0s 3ms/step - loss: 0.4693 - accuracy: 0.8195\n",
      "Epoch 22/30\n",
      "27/27 [==============================] - 0s 3ms/step - loss: 0.4780 - accuracy: 0.7594\n",
      "Epoch 23/30\n",
      "27/27 [==============================] - 0s 3ms/step - loss: 0.3759 - accuracy: 0.8797\n",
      "Epoch 24/30\n",
      "27/27 [==============================] - 0s 6ms/step - loss: 0.4855 - accuracy: 0.8271\n",
      "Epoch 25/30\n",
      "27/27 [==============================] - 0s 6ms/step - loss: 0.4337 - accuracy: 0.8271\n",
      "Epoch 26/30\n",
      "27/27 [==============================] - 0s 4ms/step - loss: 0.4084 - accuracy: 0.8346\n",
      "Epoch 27/30\n",
      "27/27 [==============================] - 0s 4ms/step - loss: 0.3777 - accuracy: 0.8797\n",
      "Epoch 28/30\n",
      "27/27 [==============================] - 0s 5ms/step - loss: 0.3867 - accuracy: 0.8496\n",
      "Epoch 29/30\n",
      "27/27 [==============================] - 0s 6ms/step - loss: 0.3583 - accuracy: 0.8346\n",
      "Epoch 30/30\n",
      "27/27 [==============================] - 0s 3ms/step - loss: 0.3856 - accuracy: 0.8496\n",
      "-- model evaluate with train data --\n",
      "5/5 [==============================] - 0s 4ms/step - loss: 0.4500 - accuracy: 0.8195\n",
      "0.8195488452911377\n",
      "-- model evaluate with test data --\n",
      "2/2 [==============================] - 0s 2ms/step - loss: 0.3921 - accuracy: 0.9333\n",
      "0.9333333373069763\n"
     ]
    },
    {
     "data": {
      "image/png": "[encoded data removed]",
      "text/plain": [
       "<Figure size 432x288 with 1 Axes>"
      ]
     },
     "metadata": {
      "needs_background": "light"
     },
     "output_type": "display_data"
    },
    {
     "data": {
      "image/png": "[encoded data removed]",
      "text/plain": [
       "<Figure size 432x288 with 1 Axes>"
      ]
     },
     "metadata": {
      "needs_background": "light"
     },
     "output_type": "display_data"
    }
   ],
   "source": [
    "import numpy as np\n",
    "import tensorflow as tf\n",
    "import keras\n",
    "\n",
    "np.random.seed(0)\n",
    "tf.random.set_seed(0)\n",
    "\n",
    "# version check\n",
    "print(\"numpy version:\", np.__version__)\n",
    "print(\"tensorflow version:\", tf.__version__)\n",
    "print(\"keras version:\", keras.__version__)\n",
    "\n",
    "# data load\n",
    "from sklearn import datasets\n",
    "raw_wine = datasets.load_wine()\n",
    "\n",
    "X = raw_wine.data\n",
    "y = raw_wine.target\n",
    "\n",
    "# checking the feature dimension and target\n",
    "print(\"-- X and target shape checking --\")\n",
    "print(X.shape)\n",
    "print(set(y))\n",
    "\n",
    "# one-hot encoding\n",
    "from tensorflow.keras.utils import to_categorical\n",
    "y_hot = to_categorical(y)\n",
    "# print(y_hot)\n",
    "\n",
    "# split to training data and test data\n",
    "from sklearn.model_selection import train_test_split\n",
    "X_tn, X_te, y_tn, y_te = train_test_split(X, y_hot, random_state = 0)\n",
    "\n",
    "# model building\n",
    "import os\n",
    "os.environ['TF_CPP_MIN_LOG_LEVEL'] = '2'\n",
    "\n",
    "from tensorflow.keras.models import Sequential         # 신경망 생성\n",
    "from tensorflow.keras.layers import Dense              # 신경망 층 추가\n",
    "from tensorflow.keras.layers import BatchNormalization # 배치 정규화\n",
    "from tensorflow.keras.layers import Activation         # 활성화 함수 사용\n",
    "\n",
    "n_feat = X_tn.shape[1]              # 신경망에 사용되는 피처 개수 (현재 데이터: 13개)\n",
    "n_class = len(set(y))               # 클래스 개수 (현재 데이터: 3개)\n",
    "epo = 30                            # 학습횟수 30. 30단계로 학습 진행\n",
    "\n",
    "model = Sequential()                # 초기 모형 생성.\n",
    "model.add(Dense(20, input_dim = n_feat)) # add로 입력층 추가, *input_dim = 피처개수, 20은 output 차원\n",
    "model.add(BatchNormalization())     # 배치 정규화\n",
    "model.add(Activation('tanh'))       # 활성화 함수: 하이퍼볼릭 탄젠트\n",
    "model.add(Dense(n_class))           # 최종 아웃풋 층. 클래스 개수인 3개로 구분되도록.\n",
    "model.add(Activation('softmax'))    # 활성화 함수 softmax\n",
    "\n",
    "# model checking\n",
    "print(\"-- model summary --\")\n",
    "model.summary()\n",
    "\n",
    "# compile\n",
    "model.compile(loss = 'categorical_crossentropy',  # 손실함수: 이진은 binary, 이상은 categorical\n",
    "             optimizer = 'adam',                  # 옵티마이저와 평가 기준\n",
    "             metrics = ['accuracy'])\n",
    "\n",
    "# learning\n",
    "hist = model.fit(X_tn, y_tn, epochs = epo, batch_size = 5)  # batch_size: learning mini batch size at one ephoch\n",
    "\n",
    "# evaluation\n",
    "print(\"-- model evaluate with train data --\")\n",
    "print(model.evaluate(X_tn, y_tn)[1])\n",
    "print(\"-- model evaluate with test data --\")\n",
    "print(model.evaluate(X_te, y_te)[1])\n",
    "\n",
    "# accuracy\n",
    "import numpy as np\n",
    "epoch = np.arange(1, epo +1)          # aragne 함수로 x축 설정\n",
    "# print(epoch)\n",
    "accuracy = hist.history['accuracy']   # 학습시켰던 모형에서 history를 이용하여 데려올 수 있다. 에포크 별 정확도를 알 수 있다.\n",
    "# print(accuracy)\n",
    "loss = hist.history['loss']           # 학습시켰던 모형에서 history를 이용하여 데려올 수 있다. 에포크 별 손실정도를 알 수 있다.\n",
    "# print(loss)\n",
    "\n",
    "\n",
    "# visualization\n",
    "\n",
    "import matplotlib.pyplot as plt\n",
    "\n",
    "plt.plot(epoch, accuracy, label = 'accuracy')\n",
    "plt.xlabel('epoch')\n",
    "plt.ylabel('accuracy')\n",
    "plt.legend()\n",
    "plt.title(\"accuracy by epoch\")\n",
    "plt.show()\n",
    "\n",
    "plt.plot(epoch, loss, 'r', label = 'loss')    # plot color = r[ed]\n",
    "plt.xlabel('epoch')\n",
    "plt.ylabel('loss')\n",
    "plt.legend()\n",
    "plt.title(\"loss by epoch\")\n",
    "plt.show()"
   ]
  }
 ],
 "metadata": {
  "kernelspec": {
   "display_name": "Python 3 (ipykernel)",
   "language": "python",
   "name": "python3"
  },
  "language_info": {
   "codemirror_mode": {
    "name": "ipython",
    "version": 3
   },
   "file_extension": ".py",
   "mimetype": "text/x-python",
   "name": "python",
   "nbconvert_exporter": "python",
   "pygments_lexer": "ipython3",
   "version": "3.8.5"
  },
  "toc": {
   "base_numbering": 1,
   "nav_menu": {},
   "number_sections": true,
   "sideBar": true,
   "skip_h1_title": false,
   "title_cell": "Table of Contents",
   "title_sidebar": "Contents",
   "toc_cell": false,
   "toc_position": {},
   "toc_section_display": true,
   "toc_window_display": true
  }
 },
 "nbformat": 4,
 "nbformat_minor": 5
}

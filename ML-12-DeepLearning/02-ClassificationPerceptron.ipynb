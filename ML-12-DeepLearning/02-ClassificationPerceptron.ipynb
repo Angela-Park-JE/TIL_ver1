{
 "cells": [
  {
   "cell_type": "markdown",
   "id": "1ce1c567",
   "metadata": {},
   "source": [
    "# 분류 신경망 연습"
   ]
  },
  {
   "cell_type": "code",
   "execution_count": null,
   "id": "64e0797a",
   "metadata": {},
   "outputs": [],
   "source": [
    "# 모형 저장 및 불러오는 코드\n",
    "\n",
    "# model.save('cnn_model2.h5')\n",
    "\n",
    "# from tensorflow.keras.models import load_model\n",
    "# cnn_model2 = load_model('cnn_model2.h5')"
   ]
  },
  {
   "cell_type": "markdown",
   "id": "cbf419ee",
   "metadata": {},
   "source": [
    "# Data and libraries\n",
    "\n",
    "일관된 결과를 위해 random seed를 0으로 고정한다.\n"
   ]
  },
  {
   "cell_type": "code",
   "execution_count": 1,
   "id": "78351b34",
   "metadata": {},
   "outputs": [],
   "source": [
    "import numpy as np\n",
    "import tensorflow as tf\n",
    "\n",
    "np.random.seed(0)\n",
    "tf.random.set_seed(0)"
   ]
  },
  {
   "cell_type": "code",
   "execution_count": 4,
   "id": "382688f2",
   "metadata": {},
   "outputs": [
    {
     "name": "stdout",
     "output_type": "stream",
     "text": [
      "1.22.4\n",
      "2.9.1\n",
      "2.9.0\n"
     ]
    }
   ],
   "source": [
    "import keras\n",
    "\n",
    "# version check\n",
    "print(np.__version__)\n",
    "print(tf.__version__)\n",
    "print(keras.__version__)"
   ]
  },
  {
   "cell_type": "code",
   "execution_count": 5,
   "id": "cdab486d",
   "metadata": {},
   "outputs": [],
   "source": [
    "# data load\n",
    "\n",
    "from sklearn import datasets\n",
    "raw_wine = datasets.load_wine()"
   ]
  },
  {
   "cell_type": "markdown",
   "id": "b02f925e",
   "metadata": {},
   "source": [
    "# feature and target"
   ]
  },
  {
   "cell_type": "code",
   "execution_count": 6,
   "id": "ebc9fece",
   "metadata": {},
   "outputs": [],
   "source": [
    "X = raw_wine.data\n",
    "y = raw_wine.target"
   ]
  },
  {
   "cell_type": "markdown",
   "id": "47fb264d",
   "metadata": {},
   "source": [
    "## feature dimension "
   ]
  },
  {
   "cell_type": "code",
   "execution_count": 7,
   "id": "cc4cb130",
   "metadata": {},
   "outputs": [
    {
     "name": "stdout",
     "output_type": "stream",
     "text": [
      "(178, 13)\n"
     ]
    }
   ],
   "source": [
    "print(X.shape)"
   ]
  },
  {
   "cell_type": "markdown",
   "id": "d8119042",
   "metadata": {},
   "source": [
    "## target data classes"
   ]
  },
  {
   "cell_type": "code",
   "execution_count": 8,
   "id": "e2598fdd",
   "metadata": {},
   "outputs": [
    {
     "name": "stdout",
     "output_type": "stream",
     "text": [
      "{0, 1, 2}\n"
     ]
    }
   ],
   "source": [
    "print(set(y))"
   ]
  },
  {
   "cell_type": "markdown",
   "id": "15bb8368",
   "metadata": {},
   "source": [
    "## target data one-hot encoding (오류 및 해결 포함)\n",
    "\n",
    "타깃 데이터는 범주형 데이터이기 때문에(0, 1, 2로 표현됨) 원핫인코딩을 진행하도록 한다."
   ]
  },
  {
   "cell_type": "code",
   "execution_count": 9,
   "id": "38a3a057",
   "metadata": {},
   "outputs": [
    {
     "name": "stdout",
     "output_type": "stream",
     "text": [
      "[[1. 0. 0.]\n",
      " [1. 0. 0.]\n",
      " [1. 0. 0.]\n",
      " [1. 0. 0.]\n",
      " [1. 0. 0.]\n",
      " [1. 0. 0.]\n",
      " [1. 0. 0.]\n",
      " [1. 0. 0.]\n",
      " [1. 0. 0.]\n",
      " [1. 0. 0.]\n",
      " [1. 0. 0.]\n",
      " [1. 0. 0.]\n",
      " [1. 0. 0.]\n",
      " [1. 0. 0.]\n",
      " [1. 0. 0.]\n",
      " [1. 0. 0.]\n",
      " [1. 0. 0.]\n",
      " [1. 0. 0.]\n",
      " [1. 0. 0.]\n",
      " [1. 0. 0.]\n",
      " [1. 0. 0.]\n",
      " [1. 0. 0.]\n",
      " [1. 0. 0.]\n",
      " [1. 0. 0.]\n",
      " [1. 0. 0.]\n",
      " [1. 0. 0.]\n",
      " [1. 0. 0.]\n",
      " [1. 0. 0.]\n",
      " [1. 0. 0.]\n",
      " [1. 0. 0.]\n",
      " [1. 0. 0.]\n",
      " [1. 0. 0.]\n",
      " [1. 0. 0.]\n",
      " [1. 0. 0.]\n",
      " [1. 0. 0.]\n",
      " [1. 0. 0.]\n",
      " [1. 0. 0.]\n",
      " [1. 0. 0.]\n",
      " [1. 0. 0.]\n",
      " [1. 0. 0.]\n",
      " [1. 0. 0.]\n",
      " [1. 0. 0.]\n",
      " [1. 0. 0.]\n",
      " [1. 0. 0.]\n",
      " [1. 0. 0.]\n",
      " [1. 0. 0.]\n",
      " [1. 0. 0.]\n",
      " [1. 0. 0.]\n",
      " [1. 0. 0.]\n",
      " [1. 0. 0.]\n",
      " [1. 0. 0.]\n",
      " [1. 0. 0.]\n",
      " [1. 0. 0.]\n",
      " [1. 0. 0.]\n",
      " [1. 0. 0.]\n",
      " [1. 0. 0.]\n",
      " [1. 0. 0.]\n",
      " [1. 0. 0.]\n",
      " [1. 0. 0.]\n",
      " [0. 1. 0.]\n",
      " [0. 1. 0.]\n",
      " [0. 1. 0.]\n",
      " [0. 1. 0.]\n",
      " [0. 1. 0.]\n",
      " [0. 1. 0.]\n",
      " [0. 1. 0.]\n",
      " [0. 1. 0.]\n",
      " [0. 1. 0.]\n",
      " [0. 1. 0.]\n",
      " [0. 1. 0.]\n",
      " [0. 1. 0.]\n",
      " [0. 1. 0.]\n",
      " [0. 1. 0.]\n",
      " [0. 1. 0.]\n",
      " [0. 1. 0.]\n",
      " [0. 1. 0.]\n",
      " [0. 1. 0.]\n",
      " [0. 1. 0.]\n",
      " [0. 1. 0.]\n",
      " [0. 1. 0.]\n",
      " [0. 1. 0.]\n",
      " [0. 1. 0.]\n",
      " [0. 1. 0.]\n",
      " [0. 1. 0.]\n",
      " [0. 1. 0.]\n",
      " [0. 1. 0.]\n",
      " [0. 1. 0.]\n",
      " [0. 1. 0.]\n",
      " [0. 1. 0.]\n",
      " [0. 1. 0.]\n",
      " [0. 1. 0.]\n",
      " [0. 1. 0.]\n",
      " [0. 1. 0.]\n",
      " [0. 1. 0.]\n",
      " [0. 1. 0.]\n",
      " [0. 1. 0.]\n",
      " [0. 1. 0.]\n",
      " [0. 1. 0.]\n",
      " [0. 1. 0.]\n",
      " [0. 1. 0.]\n",
      " [0. 1. 0.]\n",
      " [0. 1. 0.]\n",
      " [0. 1. 0.]\n",
      " [0. 1. 0.]\n",
      " [0. 1. 0.]\n",
      " [0. 1. 0.]\n",
      " [0. 1. 0.]\n",
      " [0. 1. 0.]\n",
      " [0. 1. 0.]\n",
      " [0. 1. 0.]\n",
      " [0. 1. 0.]\n",
      " [0. 1. 0.]\n",
      " [0. 1. 0.]\n",
      " [0. 1. 0.]\n",
      " [0. 1. 0.]\n",
      " [0. 1. 0.]\n",
      " [0. 1. 0.]\n",
      " [0. 1. 0.]\n",
      " [0. 1. 0.]\n",
      " [0. 1. 0.]\n",
      " [0. 1. 0.]\n",
      " [0. 1. 0.]\n",
      " [0. 1. 0.]\n",
      " [0. 1. 0.]\n",
      " [0. 1. 0.]\n",
      " [0. 1. 0.]\n",
      " [0. 1. 0.]\n",
      " [0. 1. 0.]\n",
      " [0. 1. 0.]\n",
      " [0. 1. 0.]\n",
      " [0. 0. 1.]\n",
      " [0. 0. 1.]\n",
      " [0. 0. 1.]\n",
      " [0. 0. 1.]\n",
      " [0. 0. 1.]\n",
      " [0. 0. 1.]\n",
      " [0. 0. 1.]\n",
      " [0. 0. 1.]\n",
      " [0. 0. 1.]\n",
      " [0. 0. 1.]\n",
      " [0. 0. 1.]\n",
      " [0. 0. 1.]\n",
      " [0. 0. 1.]\n",
      " [0. 0. 1.]\n",
      " [0. 0. 1.]\n",
      " [0. 0. 1.]\n",
      " [0. 0. 1.]\n",
      " [0. 0. 1.]\n",
      " [0. 0. 1.]\n",
      " [0. 0. 1.]\n",
      " [0. 0. 1.]\n",
      " [0. 0. 1.]\n",
      " [0. 0. 1.]\n",
      " [0. 0. 1.]\n",
      " [0. 0. 1.]\n",
      " [0. 0. 1.]\n",
      " [0. 0. 1.]\n",
      " [0. 0. 1.]\n",
      " [0. 0. 1.]\n",
      " [0. 0. 1.]\n",
      " [0. 0. 1.]\n",
      " [0. 0. 1.]\n",
      " [0. 0. 1.]\n",
      " [0. 0. 1.]\n",
      " [0. 0. 1.]\n",
      " [0. 0. 1.]\n",
      " [0. 0. 1.]\n",
      " [0. 0. 1.]\n",
      " [0. 0. 1.]\n",
      " [0. 0. 1.]\n",
      " [0. 0. 1.]\n",
      " [0. 0. 1.]\n",
      " [0. 0. 1.]\n",
      " [0. 0. 1.]\n",
      " [0. 0. 1.]\n",
      " [0. 0. 1.]\n",
      " [0. 0. 1.]\n",
      " [0. 0. 1.]]\n"
     ]
    }
   ],
   "source": [
    "from tensorflow.keras.utils import to_categorical\n",
    "\n",
    "y_hot = to_categorical(y)\n",
    "print(y_hot)"
   ]
  },
  {
   "cell_type": "markdown",
   "id": "b425619e",
   "metadata": {},
   "source": [
    "```\n",
    "AlreadyExistsError: Another metric with the same name already exists.\n",
    "```\n",
    "\n",
    "해당 오류가 뜨면 keras를 하나만 설치하라는 의미라고 한다. (https://precommer.tistory.com/76\n",
    "\n",
    "나는 가상환경을 사용하고 있는 상황이라 혹시나 해서 base에 있는 keras도 지워보고 다시 깔았지만 다시 문제가 생겼다.\n",
    "\n",
    "\n",
    "```\n",
    "ImportError: cannot import name 'dtensor' from 'tensorflow.compat.v2.experimental' (/Users/Angela/opt/anaconda3/envs/py3_8_5/lib/python3.8/site-packages/tensorflow/_api/v2/compat/v2/experimental/__init__.py)\n",
    "```\n",
    "\n",
    "그 다음에는 텐서플로우와 케라스 버전이 안맞는다는 이야기를 받았다. ~~젠장.~~ (https://stackoverflow.com/questions/72255562/cannot-import-name-dtensor-from-tensorflow-compat-v2-experimental)\n",
    "\n",
    "둘다 지우고 다시 깔도록 한다. 이번 오류 덕분에 모싄뤄닝등을 할 때는 버전 체크가 더더욱이 중요하다는 것을, 까먹었었던 바보를 발견하였다."
   ]
  },
  {
   "cell_type": "markdown",
   "id": "25cef31e",
   "metadata": {},
   "source": [
    "## Training/Test Data split"
   ]
  },
  {
   "cell_type": "code",
   "execution_count": 10,
   "id": "ed9bdfea",
   "metadata": {},
   "outputs": [],
   "source": [
    "from sklearn.model_selection import train_test_split\n",
    "\n",
    "X_tn, X_te, y_tn, y_te = train_test_split(X, y_hot, random_state = 0)"
   ]
  },
  {
   "cell_type": "markdown",
   "id": "1837969e",
   "metadata": {},
   "source": [
    "# Building Perceptron (오류 및 해결 포함)"
   ]
  },
  {
   "cell_type": "code",
   "execution_count": 11,
   "id": "c2886355",
   "metadata": {},
   "outputs": [
    {
     "name": "stderr",
     "output_type": "stream",
     "text": [
      "2022-06-21 21:02:30.245160: I tensorflow/core/platform/cpu_feature_guard.cc:193] This TensorFlow binary is optimized with oneAPI Deep Neural Network Library (oneDNN) to use the following CPU instructions in performance-critical operations:  AVX2 FMA\n",
      "To enable them in other operations, rebuild TensorFlow with the appropriate compiler flags.\n"
     ]
    }
   ],
   "source": [
    "from tensorflow.keras.models import Sequential         # 신경망 생성\n",
    "from tensorflow.keras.layers import Dense              # 신경망 층 추가\n",
    "from tensorflow.keras.layers import BatchNormalization # 배치 정규화\n",
    "from tensorflow.keras.layers import Activation         # 활성화 함수 사용\n",
    "\n",
    "n_feat = X_tn.shape[1]              # 신경망에 사용되는 피처 개수 (현재 데이터: 13개)\n",
    "n_class = len(set(y))               # 클래스 개수 (현재 데이터: 3개)\n",
    "epo = 30                            # 학습횟수 30. 30단계로 학습 진행\n",
    "\n",
    "model = Sequential()                # 초기 모형 생성.\n",
    "model.add(Dense(20, input_dim = n_feat)) # add로 입력층 추가, *input_dim = 피처개수, 20은 output 차원\n",
    "model.add(BatchNormalization())     # 배치 정규화\n",
    "model.add(Activation('relu'))       # 활성화 함수 reLU\n",
    "model.add(Dense(n_class))           # 최종 아웃풋 층. 클래스 개수인 3개로 구분되도록.\n",
    "model.add(Activation('softmax'))    # 활성화 함수 softmax"
   ]
  },
  {
   "cell_type": "markdown",
   "id": "5169d147",
   "metadata": {},
   "source": [
    "## perceptron model structure checking"
   ]
  },
  {
   "cell_type": "code",
   "execution_count": 12,
   "id": "531b85db",
   "metadata": {},
   "outputs": [
    {
     "name": "stdout",
     "output_type": "stream",
     "text": [
      "Model: \"sequential\"\n",
      "_________________________________________________________________\n",
      " Layer (type)                Output Shape              Param #   \n",
      "=================================================================\n",
      " dense (Dense)               (None, 20)                280       \n",
      "                                                                 \n",
      " batch_normalization (BatchN  (None, 20)               80        \n",
      " ormalization)                                                   \n",
      "                                                                 \n",
      " activation (Activation)     (None, 20)                0         \n",
      "                                                                 \n",
      " dense_1 (Dense)             (None, 3)                 63        \n",
      "                                                                 \n",
      " activation_1 (Activation)   (None, 3)                 0         \n",
      "                                                                 \n",
      "=================================================================\n",
      "Total params: 423\n",
      "Trainable params: 383\n",
      "Non-trainable params: 40\n",
      "_________________________________________________________________\n"
     ]
    }
   ],
   "source": [
    "model.summary()"
   ]
  },
  {
   "cell_type": "markdown",
   "id": "49e05255",
   "metadata": {},
   "source": [
    "빌딩하고 났더니 무슨 오류가 떴는데 모델 요약은 적절하게 되었다. 이를 해결하기 위해서는 \n",
    "\n",
    "(https://stackoverflow.com/questions/66092421/how-to-rebuild-tensorflow-with-the-compiler-flags)\n",
    "```\n",
    " import os\n",
    "    os.environ['TF_CPP_MIN_LOG_LEVEL'] = '2'\n",
    "```\n",
    "\n",
    "하라고 해서 해보고 진행했더니 하단처럼, 오류가 뜨지 않았다.\n",
    "\n",
    "대신 모델 버전이 다르다. 알아서 새로 만들었나보다."
   ]
  },
  {
   "cell_type": "code",
   "execution_count": 13,
   "id": "d88edac3",
   "metadata": {},
   "outputs": [],
   "source": [
    "import os\n",
    "os.environ['TF_CPP_MIN_LOG_LEVEL'] = '2'"
   ]
  },
  {
   "cell_type": "code",
   "execution_count": 14,
   "id": "dc328bbf",
   "metadata": {},
   "outputs": [],
   "source": [
    "from tensorflow.keras.models import Sequential         # 신경망 생성\n",
    "from tensorflow.keras.layers import Dense              # 신경망 층 추가\n",
    "from tensorflow.keras.layers import BatchNormalization # 배치 정규화\n",
    "from tensorflow.keras.layers import Activation         # 활성화 함수 사용\n",
    "\n",
    "n_feat = X_tn.shape[1]              # 신경망에 사용되는 피처 개수 (현재 데이터: 13개)\n",
    "n_class = len(set(y))               # 클래스 개수 (현재 데이터: 3개)\n",
    "epo = 30                            # 학습횟수 30. 30단계로 학습 진행\n",
    "\n",
    "model = Sequential()                # 초기 모형 생성.\n",
    "model.add(Dense(20, input_dim = n_feat)) # add로 입력층 추가, *input_dim = 피처개수, 20은 output 차원\n",
    "model.add(BatchNormalization())     # 배치 정규화\n",
    "model.add(Activation('relu'))       # 활성화 함수 reLU\n",
    "model.add(Dense(n_class))           # 최종 아웃풋 층. 클래스 개수인 3개로 구분되도록.\n",
    "model.add(Activation('softmax'))    # 활성화 함수 softmax"
   ]
  },
  {
   "cell_type": "code",
   "execution_count": 15,
   "id": "f18153dd",
   "metadata": {},
   "outputs": [
    {
     "name": "stdout",
     "output_type": "stream",
     "text": [
      "Model: \"sequential_1\"\n",
      "_________________________________________________________________\n",
      " Layer (type)                Output Shape              Param #   \n",
      "=================================================================\n",
      " dense_2 (Dense)             (None, 20)                280       \n",
      "                                                                 \n",
      " batch_normalization_1 (Batc  (None, 20)               80        \n",
      " hNormalization)                                                 \n",
      "                                                                 \n",
      " activation_2 (Activation)   (None, 20)                0         \n",
      "                                                                 \n",
      " dense_3 (Dense)             (None, 3)                 63        \n",
      "                                                                 \n",
      " activation_3 (Activation)   (None, 3)                 0         \n",
      "                                                                 \n",
      "=================================================================\n",
      "Total params: 423\n",
      "Trainable params: 383\n",
      "Non-trainable params: 40\n",
      "_________________________________________________________________\n"
     ]
    }
   ],
   "source": [
    "model.summary()"
   ]
  },
  {
   "cell_type": "markdown",
   "id": "c6f73fb0",
   "metadata": {},
   "source": [
    "## model compile"
   ]
  },
  {
   "cell_type": "code",
   "execution_count": 16,
   "id": "1016d07d",
   "metadata": {},
   "outputs": [],
   "source": [
    "model.compile(loss = 'categorical_crossentropy',  # 손실함수: 이진은 binary, 이상은 categorical\n",
    "             optimizer = 'adam',                  # 옵티마이저와 평가 기준\n",
    "             metrics = ['accuracy'])"
   ]
  },
  {
   "cell_type": "markdown",
   "id": "f59f4f05",
   "metadata": {},
   "source": [
    "## model learning"
   ]
  },
  {
   "cell_type": "code",
   "execution_count": 17,
   "id": "0c85c9e1",
   "metadata": {},
   "outputs": [
    {
     "name": "stdout",
     "output_type": "stream",
     "text": [
      "Epoch 1/30\n",
      "27/27 [==============================] - 1s 2ms/step - loss: 1.1806 - accuracy: 0.3835\n",
      "Epoch 2/30\n",
      "27/27 [==============================] - 0s 3ms/step - loss: 0.9840 - accuracy: 0.4887\n",
      "Epoch 3/30\n",
      "27/27 [==============================] - 0s 2ms/step - loss: 0.8874 - accuracy: 0.5639\n",
      "Epoch 4/30\n",
      "27/27 [==============================] - 0s 4ms/step - loss: 0.8216 - accuracy: 0.6316\n",
      "Epoch 5/30\n",
      "27/27 [==============================] - 0s 5ms/step - loss: 0.7804 - accuracy: 0.6391\n",
      "Epoch 6/30\n",
      "27/27 [==============================] - 0s 7ms/step - loss: 0.7955 - accuracy: 0.6165\n",
      "Epoch 7/30\n",
      "27/27 [==============================] - 0s 3ms/step - loss: 0.8407 - accuracy: 0.6015\n",
      "Epoch 8/30\n",
      "27/27 [==============================] - 0s 3ms/step - loss: 0.7764 - accuracy: 0.6241\n",
      "Epoch 9/30\n",
      "27/27 [==============================] - 0s 3ms/step - loss: 0.7721 - accuracy: 0.5940\n",
      "Epoch 10/30\n",
      "27/27 [==============================] - 0s 3ms/step - loss: 0.7383 - accuracy: 0.5789\n",
      "Epoch 11/30\n",
      "27/27 [==============================] - 0s 5ms/step - loss: 0.7048 - accuracy: 0.6842\n",
      "Epoch 12/30\n",
      "27/27 [==============================] - 0s 4ms/step - loss: 0.6818 - accuracy: 0.6316\n",
      "Epoch 13/30\n",
      "27/27 [==============================] - 0s 3ms/step - loss: 0.6538 - accuracy: 0.7293\n",
      "Epoch 14/30\n",
      "27/27 [==============================] - 0s 4ms/step - loss: 0.6523 - accuracy: 0.7594\n",
      "Epoch 15/30\n",
      "27/27 [==============================] - 0s 7ms/step - loss: 0.6146 - accuracy: 0.8195\n",
      "Epoch 16/30\n",
      "27/27 [==============================] - 0s 3ms/step - loss: 0.5937 - accuracy: 0.7820\n",
      "Epoch 17/30\n",
      "27/27 [==============================] - 0s 3ms/step - loss: 0.5844 - accuracy: 0.7744\n",
      "Epoch 18/30\n",
      "27/27 [==============================] - 0s 3ms/step - loss: 0.6010 - accuracy: 0.7970\n",
      "Epoch 19/30\n",
      "27/27 [==============================] - 0s 3ms/step - loss: 0.6729 - accuracy: 0.7368\n",
      "Epoch 20/30\n",
      "27/27 [==============================] - 0s 3ms/step - loss: 0.5458 - accuracy: 0.8271\n",
      "Epoch 21/30\n",
      "27/27 [==============================] - 0s 3ms/step - loss: 0.5104 - accuracy: 0.8571\n",
      "Epoch 22/30\n",
      "27/27 [==============================] - 0s 3ms/step - loss: 0.4913 - accuracy: 0.8571\n",
      "Epoch 23/30\n",
      "27/27 [==============================] - 0s 4ms/step - loss: 0.4004 - accuracy: 0.8797\n",
      "Epoch 24/30\n",
      "27/27 [==============================] - 0s 4ms/step - loss: 0.4903 - accuracy: 0.8496\n",
      "Epoch 25/30\n",
      "27/27 [==============================] - 0s 4ms/step - loss: 0.4337 - accuracy: 0.9023\n",
      "Epoch 26/30\n",
      "27/27 [==============================] - 0s 3ms/step - loss: 0.4088 - accuracy: 0.8647\n",
      "Epoch 27/30\n",
      "27/27 [==============================] - 0s 3ms/step - loss: 0.3598 - accuracy: 0.9098\n",
      "Epoch 28/30\n",
      "27/27 [==============================] - 0s 3ms/step - loss: 0.3646 - accuracy: 0.8872\n",
      "Epoch 29/30\n",
      "27/27 [==============================] - 0s 3ms/step - loss: 0.3541 - accuracy: 0.8571\n",
      "Epoch 30/30\n",
      "27/27 [==============================] - 0s 3ms/step - loss: 0.3686 - accuracy: 0.8947\n"
     ]
    }
   ],
   "source": [
    "hist = model.fit(X_tn, y_tn, epochs = epo, batch_size = 5)  # batch_size: learning mini batch size at one ephoch"
   ]
  },
  {
   "cell_type": "markdown",
   "id": "54053261",
   "metadata": {},
   "source": [
    "# evaluation"
   ]
  },
  {
   "cell_type": "code",
   "execution_count": 18,
   "id": "cfe5e789",
   "metadata": {},
   "outputs": [
    {
     "name": "stdout",
     "output_type": "stream",
     "text": [
      "5/5 [==============================] - 0s 2ms/step - loss: 0.3578 - accuracy: 0.8947\n",
      "0.8947368264198303\n",
      "2/2 [==============================] - 0s 3ms/step - loss: 0.3790 - accuracy: 0.8444\n",
      "0.8444444537162781\n"
     ]
    }
   ],
   "source": [
    "print(model.evaluate(X_tn, y_tn)[1])\n",
    "print(model.evaluate(X_te, y_te)[1])"
   ]
  },
  {
   "cell_type": "markdown",
   "id": "644264f4",
   "metadata": {},
   "source": [
    "## accuracy and loss rate visualization"
   ]
  },
  {
   "cell_type": "code",
   "execution_count": 20,
   "id": "9d8a7f79",
   "metadata": {},
   "outputs": [
    {
     "name": "stdout",
     "output_type": "stream",
     "text": [
      "[ 1  2  3  4  5  6  7  8  9 10 11 12 13 14 15 16 17 18 19 20 21 22 23 24\n",
      " 25 26 27 28 29 30]\n"
     ]
    }
   ],
   "source": [
    "import numpy as np\n",
    "epoch = np.arange(1, epo +1)            # x축 설정\n",
    "print(epoch)"
   ]
  },
  {
   "cell_type": "code",
   "execution_count": 21,
   "id": "4d620c2f",
   "metadata": {},
   "outputs": [
    {
     "name": "stdout",
     "output_type": "stream",
     "text": [
      "[0.3834586441516876, 0.4887218177318573, 0.5639097690582275, 0.6315789222717285, 0.6390977501869202, 0.61654132604599, 0.6015037298202515, 0.6240601539611816, 0.5939849615097046, 0.5789473652839661, 0.6842105388641357, 0.6315789222717285, 0.7293233275413513, 0.7593985199928284, 0.8195488452911377, 0.7819548845291138, 0.7744361162185669, 0.7969924807548523, 0.7368420958518982, 0.8270676732063293, 0.8571428656578064, 0.8571428656578064, 0.8796992301940918, 0.8496240377426147, 0.902255654335022, 0.8646616339683533, 0.9097744226455688, 0.8872180581092834, 0.8571428656578064, 0.8947368264198303]\n"
     ]
    }
   ],
   "source": [
    "accuracy = hist.history['accuracy']   # 학습시켰던 모형에서 history를 이용하여 데려올 수 있다. 에포크 별 정확도를 알 수 있다.\n",
    "print(accuracy)"
   ]
  },
  {
   "cell_type": "code",
   "execution_count": 22,
   "id": "3fbe8562",
   "metadata": {},
   "outputs": [
    {
     "name": "stdout",
     "output_type": "stream",
     "text": [
      "[1.1806256771087646, 0.9840450286865234, 0.8874258995056152, 0.8215858340263367, 0.7804238200187683, 0.7955265641212463, 0.8407451510429382, 0.7764018774032593, 0.7720502018928528, 0.7383018732070923, 0.7047501802444458, 0.6818320751190186, 0.6537955403327942, 0.6523193120956421, 0.6145582795143127, 0.5937239527702332, 0.5843676924705505, 0.6010271310806274, 0.6729430556297302, 0.5458195805549622, 0.5104205012321472, 0.49134647846221924, 0.4004116654396057, 0.4903406798839569, 0.43365421891212463, 0.4087701737880707, 0.35980093479156494, 0.36456674337387085, 0.3540925979614258, 0.3685899078845978]\n"
     ]
    }
   ],
   "source": [
    "loss = hist.history['loss']           # 학습시켰던 모형에서 history를 이용하여 데려올 수 있다. 에포크 별 손실정도를 알 수 있다.\n",
    "print(loss)"
   ]
  },
  {
   "cell_type": "code",
   "execution_count": null,
   "id": "570436b2",
   "metadata": {},
   "outputs": [],
   "source": []
  }
 ],
 "metadata": {
  "kernelspec": {
   "display_name": "Python 3 (ipykernel)",
   "language": "python",
   "name": "python3"
  },
  "language_info": {
   "codemirror_mode": {
    "name": "ipython",
    "version": 3
   },
   "file_extension": ".py",
   "mimetype": "text/x-python",
   "name": "python",
   "nbconvert_exporter": "python",
   "pygments_lexer": "ipython3",
   "version": "3.8.5"
  },
  "toc": {
   "base_numbering": 1,
   "nav_menu": {},
   "number_sections": true,
   "sideBar": true,
   "skip_h1_title": false,
   "title_cell": "Table of Contents",
   "title_sidebar": "Contents",
   "toc_cell": false,
   "toc_position": {},
   "toc_section_display": true,
   "toc_window_display": false
  }
 },
 "nbformat": 4,
 "nbformat_minor": 5
}

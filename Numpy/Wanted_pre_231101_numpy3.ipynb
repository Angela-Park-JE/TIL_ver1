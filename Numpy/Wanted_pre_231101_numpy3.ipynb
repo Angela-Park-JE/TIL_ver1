{
  "nbformat": 4,
  "nbformat_minor": 0,
  "metadata": {
    "colab": {
      "provenance": [],
      "authorship_tag": "ABX9TyOBMmeR61kUwVT5gX8MdNSz",
      "include_colab_link": true
    },
    "kernelspec": {
      "name": "python3",
      "display_name": "Python 3"
    },
    "language_info": {
      "name": "python"
    }
  },
  "cells": [
    {
      "cell_type": "markdown",
      "metadata": {
        "id": "view-in-github",
        "colab_type": "text"
      },
      "source": [
        "<a href=\"https://colab.research.google.com/github/Angela-Park-JE/TIL_ver1/blob/main/Numpy/Wanted_pre_231101_numpy3.ipynb\" target=\"_parent\"><img src=\"https://colab.research.google.com/assets/colab-badge.svg\" alt=\"Open In Colab\"/></a>"
      ]
    },
    {
      "cell_type": "code",
      "execution_count": 1,
      "metadata": {
        "id": "_tZexyPjvWF7"
      },
      "outputs": [],
      "source": [
        "import numpy as np"
      ]
    },
    {
      "cell_type": "markdown",
      "source": [
        "# Numpy의 활용\n",
        "\n",
        "https://www.youtube.com/watch?v=Ohein9rZ4fk&list=PLRx0vPvlEmdBx9X5xSgcEk4CEbzEiws8C&index=6&pp=iAQB\n",
        "\n",
        "\n",
        "넘파이의 다양한 함수를 알아보도록 하자."
      ],
      "metadata": {
        "id": "ZHmg7AiQvfKG"
      }
    },
    {
      "cell_type": "markdown",
      "source": [
        "## Numpy 단일 객체 저장 및 불러오기\n",
        "\n",
        "실행하면 하나의 파일이 생성된다."
      ],
      "metadata": {
        "id": "Burd6JEZvjGW"
      }
    },
    {
      "cell_type": "code",
      "source": [
        "# 저장\n",
        "array = np.arange(0, 10)\n",
        "np.save('saved.npy', array)"
      ],
      "metadata": {
        "id": "vS1gFx7AvcVO"
      },
      "execution_count": 2,
      "outputs": []
    },
    {
      "cell_type": "code",
      "source": [
        "# 불러오기\n",
        "result = np.load('saved.npy')\n",
        "print(result)"
      ],
      "metadata": {
        "colab": {
          "base_uri": "https://localhost:8080/"
        },
        "id": "qaS6Op3wvzmN",
        "outputId": "832ef34b-4988-407c-dc57-2ea3f213a287"
      },
      "execution_count": 3,
      "outputs": [
        {
          "output_type": "stream",
          "name": "stdout",
          "text": [
            "[0 1 2 3 4 5 6 7 8 9]\n"
          ]
        }
      ]
    },
    {
      "cell_type": "markdown",
      "source": [
        "## Numpy 복수 객체 저장 및 불러오기\n",
        "\n",
        "save'z' 와 각 객체를 이름을 지정하여 저장한다.  \n",
        "확장자 명도 자신이 저장하고 싶은 형태로 저장할 수 있다."
      ],
      "metadata": {
        "id": "4Lw6HuF4wf9y"
      }
    },
    {
      "cell_type": "code",
      "source": [
        "# 저장\n",
        "array1 = np.arange(0, 10)\n",
        "array2 = np.arange(10, 20)\n",
        "np.savez('saved.npz', arr1 = array1, arr2 = array2)"
      ],
      "metadata": {
        "id": "WUsvBqLPwG9J"
      },
      "execution_count": 4,
      "outputs": []
    },
    {
      "cell_type": "code",
      "source": [
        "# 불러오기\n",
        "data = np.load('saved.npz')\n",
        "result1 = data['arr1']\n",
        "result2 = data['arr2']\n",
        "print(result1)\n",
        "print(result2)"
      ],
      "metadata": {
        "colab": {
          "base_uri": "https://localhost:8080/"
        },
        "id": "Sb7SGdJ7w4Nf",
        "outputId": "90163084-ac74-44c6-c5b2-0a2e876760a2"
      },
      "execution_count": 5,
      "outputs": [
        {
          "output_type": "stream",
          "name": "stdout",
          "text": [
            "[0 1 2 3 4 5 6 7 8 9]\n",
            "[10 11 12 13 14 15 16 17 18 19]\n"
          ]
        }
      ]
    },
    {
      "cell_type": "code",
      "source": [
        "# 불러온 것 자체는 객체로만 보이도록 되어있다.\n",
        "print(data)"
      ],
      "metadata": {
        "colab": {
          "base_uri": "https://localhost:8080/"
        },
        "id": "2TwUgbO5xeZq",
        "outputId": "ea5ac339-3c9d-4bfc-ba33-0445126c40e8"
      },
      "execution_count": 6,
      "outputs": [
        {
          "output_type": "stream",
          "name": "stdout",
          "text": [
            "<numpy.lib.npyio.NpzFile object at 0x78fe30304700>\n"
          ]
        }
      ]
    },
    {
      "cell_type": "markdown",
      "source": [
        "## Numpy 원소의 정렬\n",
        "\n",
        "기본은 오름차순이다."
      ],
      "metadata": {
        "id": "TfGw_55ZyI4a"
      }
    },
    {
      "cell_type": "code",
      "source": [
        "array = np.array([5, 9, 3, 10, 1])\n",
        "print(array)\n",
        "\n",
        "# 원소 오름차순 정렬\n",
        "array.sort()\n",
        "print(array)\n",
        "\n",
        "# 원소 내림차순 정렬\n",
        "# 정렬된 이후에 인덱싱 기법을 활용하여 거꾸로 출력하도록 한다.\n",
        "print(array[::-1])"
      ],
      "metadata": {
        "colab": {
          "base_uri": "https://localhost:8080/"
        },
        "id": "VJmc2ZP4xf72",
        "outputId": "130f5242-43a6-436b-c3b4-7574529694e9"
      },
      "execution_count": 7,
      "outputs": [
        {
          "output_type": "stream",
          "name": "stdout",
          "text": [
            "[ 5  9  3 10  1]\n",
            "[ 1  3  5  9 10]\n",
            "[10  9  5  3  1]\n"
          ]
        }
      ]
    },
    {
      "cell_type": "markdown",
      "source": [
        "### 열 기준 원소 정렬"
      ],
      "metadata": {
        "id": "cfxXwoCGzG3_"
      }
    },
    {
      "cell_type": "code",
      "source": [
        "# 각 열을 기준으로 정렬 (오름차순)\n",
        "array = np.array([[5, 9, 3, 10, 1], [8, 2, 6, 4, 7]])\n",
        "print(array)\n",
        "array.sort(axis = 0)\n",
        "print(array)"
      ],
      "metadata": {
        "colab": {
          "base_uri": "https://localhost:8080/"
        },
        "id": "VeOsSI8yySsb",
        "outputId": "4744a5ac-0280-4d8b-cb06-875a29903d09"
      },
      "execution_count": 8,
      "outputs": [
        {
          "output_type": "stream",
          "name": "stdout",
          "text": [
            "[[ 5  9  3 10  1]\n",
            " [ 8  2  6  4  7]]\n",
            "[[ 5  2  3  4  1]\n",
            " [ 8  9  6 10  7]]\n"
          ]
        }
      ]
    },
    {
      "cell_type": "markdown",
      "source": [
        "## 데이터 생성 함수\n",
        "\n",
        "- `np.linspace(start, end, num)` : num 개수 만큼 균일한 간격으로 데이터 생성하기"
      ],
      "metadata": {
        "id": "Lxtp5234zhB2"
      }
    },
    {
      "cell_type": "code",
      "source": [
        "# 균일한 간격으로 데이터 생성\n",
        "array = np.linspace(0, 10, 5)\n",
        "print(array)"
      ],
      "metadata": {
        "colab": {
          "base_uri": "https://localhost:8080/"
        },
        "id": "l_jGpmCYzTsC",
        "outputId": "81205858-c238-45f5-c7dc-4287257ee3d9"
      },
      "execution_count": 9,
      "outputs": [
        {
          "output_type": "stream",
          "name": "stdout",
          "text": [
            "[ 0.   2.5  5.   7.5 10. ]\n"
          ]
        }
      ]
    },
    {
      "cell_type": "markdown",
      "source": [
        "- `np.random.randint(start, end, (n, p))` : n행 p열의 구간 속 랜덤 정수로 데이터 생성한다. (난수의 재연)\n",
        "\n",
        "    이때 `np.random.seed()`를 정하고 시작하면 같은 값만 출력되게 된다."
      ],
      "metadata": {
        "id": "RB8xuDQp0SJl"
      }
    },
    {
      "cell_type": "code",
      "source": [
        "# 난수의 재연(실행 결과마다 동일)\n",
        "np.random.seed(9)\n",
        "print(np.random.randint(0, 10, (2, 3)))"
      ],
      "metadata": {
        "colab": {
          "base_uri": "https://localhost:8080/"
        },
        "id": "gf9E8gUKz9Ut",
        "outputId": "9240b839-9238-46f9-9d11-196b263e47e2"
      },
      "execution_count": 10,
      "outputs": [
        {
          "output_type": "stream",
          "name": "stdout",
          "text": [
            "[[5 6 8]\n",
            " [6 1 6]]\n"
          ]
        }
      ]
    },
    {
      "cell_type": "markdown",
      "source": [
        "## Numpy 배열 객체 복사\n",
        "\n",
        "Numpy에서는 array2 = array1 으로 array1을 담긴 했지만 동일한 주소를 가리키게 되기 때문에 array2의 값을 바꾸면 array1의 값도 바뀌게 된다. (변수명 담듯이 복사하면 deep copy가 됨.)"
      ],
      "metadata": {
        "id": "8j_z62Ir2Ffq"
      }
    },
    {
      "cell_type": "code",
      "source": [
        "# Numpy 배열 객체가 올바르게 복사되지 않았을 때\n",
        "arr1 = np.arange(0, 10)\n",
        "arr2 = arr1\n",
        "arr2[0] = 99\n",
        "print(arr1)"
      ],
      "metadata": {
        "colab": {
          "base_uri": "https://localhost:8080/"
        },
        "id": "uoOgN-gW1ist",
        "outputId": "b409de00-69fb-453c-dae5-1af7a5da1689"
      },
      "execution_count": 11,
      "outputs": [
        {
          "output_type": "stream",
          "name": "stdout",
          "text": [
            "[99  1  2  3  4  5  6  7  8  9]\n"
          ]
        }
      ]
    },
    {
      "cell_type": "markdown",
      "source": [
        "예방하기 위해서 복사(`arr.copy()`)하는 작업이 필요하다."
      ],
      "metadata": {
        "id": "hLZ6xY252SkQ"
      }
    },
    {
      "cell_type": "code",
      "source": [
        "# Numpy 배열 객체의 복사\n",
        "arr1 = np.arange(0, 10)\n",
        "arr2 = arr1.copy()\n",
        "arr2[0] = 99\n",
        "print(arr1)\n",
        "print(arr2)"
      ],
      "metadata": {
        "colab": {
          "base_uri": "https://localhost:8080/"
        },
        "id": "KDijvrpE2Q_E",
        "outputId": "c012eb83-202d-4f18-b004-81a5441c87db"
      },
      "execution_count": 12,
      "outputs": [
        {
          "output_type": "stream",
          "name": "stdout",
          "text": [
            "[0 1 2 3 4 5 6 7 8 9]\n",
            "[99  1  2  3  4  5  6  7  8  9]\n"
          ]
        }
      ]
    },
    {
      "cell_type": "markdown",
      "source": [
        "## 중복된 원소 제거\n",
        "\n",
        "np.unique(array)"
      ],
      "metadata": {
        "id": "Dym8u1Tk3J-T"
      }
    },
    {
      "cell_type": "code",
      "source": [
        "# 중복되는 원소 제거\n",
        "arr = np.array([1,1,2,2,2,3,3,4,4,5])\n",
        "print(np.unique(arr))"
      ],
      "metadata": {
        "colab": {
          "base_uri": "https://localhost:8080/"
        },
        "id": "Am6p7awt26gt",
        "outputId": "a88c0388-8e4e-411e-d19b-24fd745ff24d"
      },
      "execution_count": 13,
      "outputs": [
        {
          "output_type": "stream",
          "name": "stdout",
          "text": [
            "[1 2 3 4 5]\n"
          ]
        }
      ]
    },
    {
      "cell_type": "code",
      "source": [],
      "metadata": {
        "id": "UptGPDTu3eZq"
      },
      "execution_count": 13,
      "outputs": []
    }
  ]
}
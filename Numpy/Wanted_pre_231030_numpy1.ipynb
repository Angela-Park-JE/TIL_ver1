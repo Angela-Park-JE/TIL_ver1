{
  "nbformat": 4,
  "nbformat_minor": 0,
  "metadata": {
    "colab": {
      "provenance": [],
      "authorship_tag": "ABX9TyMNxrH0JFOA2QrtRi93OA2b",
      "include_colab_link": true
    },
    "kernelspec": {
      "name": "python3",
      "display_name": "Python 3"
    },
    "language_info": {
      "name": "python"
    }
  },
  "cells": [
    {
      "cell_type": "markdown",
      "metadata": {
        "id": "view-in-github",
        "colab_type": "text"
      },
      "source": [
        "<a href=\"https://colab.research.google.com/github/Angela-Park-JE/TIL_ver1/blob/main/Numpy/Wanted_pre_231030_numpy1.ipynb\" target=\"_parent\"><img src=\"https://colab.research.google.com/assets/colab-badge.svg\" alt=\"Open In Colab\"/></a>"
      ]
    },
    {
      "cell_type": "code",
      "execution_count": 1,
      "metadata": {
        "id": "iLPJK_t8-E4U"
      },
      "outputs": [],
      "source": [
        "import numpy as np"
      ]
    },
    {
      "cell_type": "markdown",
      "source": [
        "### list를 Numpy로 바꾸기\n",
        "\n",
        "- `np.array(list)`"
      ],
      "metadata": {
        "id": "2TnevPpP_h_m"
      }
    },
    {
      "cell_type": "code",
      "source": [
        "list_data = [1, 2, 3]\n",
        "print(list_data)"
      ],
      "metadata": {
        "colab": {
          "base_uri": "https://localhost:8080/"
        },
        "id": "oXoOi9k3-Ll-",
        "outputId": "42323dad-7ec2-46cb-9ace-422011f215c7"
      },
      "execution_count": 2,
      "outputs": [
        {
          "output_type": "stream",
          "name": "stdout",
          "text": [
            "[1, 2, 3]\n"
          ]
        }
      ]
    },
    {
      "cell_type": "code",
      "source": [
        "array = np.array(list_data)\n",
        "print(array)"
      ],
      "metadata": {
        "colab": {
          "base_uri": "https://localhost:8080/"
        },
        "id": "4IJvnVzx_UsU",
        "outputId": "a1870c9a-b73a-4e01-c1f7-aa3c4354d60d"
      },
      "execution_count": 3,
      "outputs": [
        {
          "output_type": "stream",
          "name": "stdout",
          "text": [
            "[1 2 3]\n"
          ]
        }
      ]
    },
    {
      "cell_type": "markdown",
      "source": [
        "### Numpy 데이터의 함수\n",
        "\n",
        "- `arr.size`\n",
        "- `arr.dtype`\n",
        "- `arr[index]`"
      ],
      "metadata": {
        "id": "nn5hzHAe_sXS"
      }
    },
    {
      "cell_type": "code",
      "source": [
        "# 배열의 크기\n",
        "array.size"
      ],
      "metadata": {
        "colab": {
          "base_uri": "https://localhost:8080/"
        },
        "id": "dN_n1r8d_bGg",
        "outputId": "f7acf9a2-0ce3-4032-fe5a-7cbe3ef2ff5d"
      },
      "execution_count": 4,
      "outputs": [
        {
          "output_type": "execute_result",
          "data": {
            "text/plain": [
              "3"
            ]
          },
          "metadata": {},
          "execution_count": 4
        }
      ]
    },
    {
      "cell_type": "code",
      "source": [
        "# 배열 원소의 타입\n",
        "array.dtype"
      ],
      "metadata": {
        "colab": {
          "base_uri": "https://localhost:8080/"
        },
        "id": "JDpZWGY0_vBP",
        "outputId": "44028de2-13bb-497e-9d3d-b6b1ebdbe50b"
      },
      "execution_count": 5,
      "outputs": [
        {
          "output_type": "execute_result",
          "data": {
            "text/plain": [
              "dtype('int64')"
            ]
          },
          "metadata": {},
          "execution_count": 5
        }
      ]
    },
    {
      "cell_type": "code",
      "source": [
        "# 특정 위치 원소 - 인덱스로 접근\n",
        "array[2]"
      ],
      "metadata": {
        "colab": {
          "base_uri": "https://localhost:8080/"
        },
        "id": "HR_DwiLy_2xS",
        "outputId": "d9f24897-a990-45a8-950e-43529439612f"
      },
      "execution_count": 6,
      "outputs": [
        {
          "output_type": "execute_result",
          "data": {
            "text/plain": [
              "3"
            ]
          },
          "metadata": {},
          "execution_count": 6
        }
      ]
    },
    {
      "cell_type": "markdown",
      "source": [
        "## Numpy 배열 초기화하기\n",
        "\n",
        "### 배열 만들기 : `np.arange(int)`"
      ],
      "metadata": {
        "id": "Xb-JJvnDAoVH"
      }
    },
    {
      "cell_type": "code",
      "source": [
        "# 0부터 3까지의 배열 만들기\n",
        "array1 = np.arange(4)\n",
        "print(array1)"
      ],
      "metadata": {
        "colab": {
          "base_uri": "https://localhost:8080/"
        },
        "id": "VQRkYtVVHeUm",
        "outputId": "e1675956-8112-45f7-d56e-5172da9bfe11"
      },
      "execution_count": 7,
      "outputs": [
        {
          "output_type": "stream",
          "name": "stdout",
          "text": [
            "[0 1 2 3]\n"
          ]
        }
      ]
    },
    {
      "cell_type": "markdown",
      "source": [
        "### 0으로 채운 배열 만들기: `np.zeros((p, q), dtype = )`"
      ],
      "metadata": {
        "id": "IrxN1FUaHgbV"
      }
    },
    {
      "cell_type": "code",
      "source": [
        "# 특정 데이터를 만들되, 0으로 초기화 되어있는 배열 만들기\n",
        "array2 = np.zeros((4, 4), dtype = float)\n",
        "print(array2)"
      ],
      "metadata": {
        "colab": {
          "base_uri": "https://localhost:8080/"
        },
        "id": "ky6m9yo1HeMg",
        "outputId": "f51c1e50-af24-40cf-a198-615444ae949b"
      },
      "execution_count": 8,
      "outputs": [
        {
          "output_type": "stream",
          "name": "stdout",
          "text": [
            "[[0. 0. 0. 0.]\n",
            " [0. 0. 0. 0.]\n",
            " [0. 0. 0. 0.]\n",
            " [0. 0. 0. 0.]]\n"
          ]
        }
      ]
    },
    {
      "cell_type": "markdown",
      "source": [
        "### 1으로 채운 배열 만들기: `np.ones((p, q), dtype = )`"
      ],
      "metadata": {
        "id": "O2fcVhHTIQhE"
      }
    },
    {
      "cell_type": "code",
      "source": [
        "# 특정 데이터를 만들되, 1로 초기화 되어있는 배열 만들기\n",
        "array3 = np.ones((3, 3), dtype = str)\n",
        "print(array3)"
      ],
      "metadata": {
        "colab": {
          "base_uri": "https://localhost:8080/"
        },
        "id": "RRSZkmILHeEc",
        "outputId": "2dd0f4dc-6538-4c7c-9cef-fdc4f57d0bc2"
      },
      "execution_count": 9,
      "outputs": [
        {
          "output_type": "stream",
          "name": "stdout",
          "text": [
            "[['1' '1' '1']\n",
            " ['1' '1' '1']\n",
            " ['1' '1' '1']]\n"
          ]
        }
      ]
    },
    {
      "cell_type": "markdown",
      "source": [
        "### 특정 범위 내의 수로 배열 만들기:"
      ],
      "metadata": {
        "id": "pYd5JRibIX0N"
      }
    },
    {
      "cell_type": "code",
      "source": [
        "# 0부터 9까지 랜덤하게 초기화 된 배열을 만들기\n",
        "array4 = np.random.randint(0, 10, (3, 3))\n",
        "print(array4)"
      ],
      "metadata": {
        "colab": {
          "base_uri": "https://localhost:8080/"
        },
        "id": "XM5JpbK8IbXA",
        "outputId": "1b81241c-66ca-4ff5-8af6-f544a2cf9b6f"
      },
      "execution_count": 10,
      "outputs": [
        {
          "output_type": "stream",
          "name": "stdout",
          "text": [
            "[[6 3 9]\n",
            " [5 7 9]\n",
            " [6 9 8]]\n"
          ]
        }
      ]
    },
    {
      "cell_type": "markdown",
      "source": [
        "### 특정 분포를 따르는 무작위 데이터 만들기"
      ],
      "metadata": {
        "id": "vB7EbMgnInDw"
      }
    },
    {
      "cell_type": "code",
      "source": [
        "# 평균이 0이고 표준편차가 1인 표준 정규를 띄는 배열\n",
        "array5 = np.random.normal(0, 1, (3, 3))\n",
        "print(array5)"
      ],
      "metadata": {
        "colab": {
          "base_uri": "https://localhost:8080/"
        },
        "id": "j8MkGhl0ImvH",
        "outputId": "1c75eb32-78f4-4a54-de90-84388192910e"
      },
      "execution_count": 11,
      "outputs": [
        {
          "output_type": "stream",
          "name": "stdout",
          "text": [
            "[[ 0.06823972 -1.55944318 -2.2776293 ]\n",
            " [ 1.3942815  -0.04252446  0.24484509]\n",
            " [ 0.4220193  -1.21712012 -1.07148227]]\n"
          ]
        }
      ]
    },
    {
      "cell_type": "markdown",
      "source": [
        "## 배열 형태 바꾸기\n",
        "\n",
        "`array.reshape((p, q))`\n",
        "\n",
        "_과정 순서상 마지막쪽에 있긴함._"
      ],
      "metadata": {
        "id": "voaNBVxWI3Ht"
      }
    },
    {
      "cell_type": "code",
      "source": [
        "array1 = np.array([1, 2, 3, 4])\n",
        "array2 = array1.reshape((2, 2))\n",
        "\n",
        "print(array2.shape)"
      ],
      "metadata": {
        "colab": {
          "base_uri": "https://localhost:8080/"
        },
        "id": "1SU0UYCC_6bl",
        "outputId": "1ff1d068-d450-4c14-9d72-bed405336aa5"
      },
      "execution_count": 12,
      "outputs": [
        {
          "output_type": "stream",
          "name": "stdout",
          "text": [
            "(2, 2)\n"
          ]
        }
      ]
    },
    {
      "cell_type": "markdown",
      "source": [
        "## 배열 합치기\n",
        "\n",
        " `np.concatenate([array1, array2...])`\n",
        "\n",
        " 기본적으로 열(가로)방향으로 합쳐지게 된다."
      ],
      "metadata": {
        "id": "JiqjAp6QIr5s"
      }
    },
    {
      "cell_type": "code",
      "source": [
        "# 가로축 합치기\n",
        "\n",
        "array1 = np.array([1, 2, 3])\n",
        "array2 = np.array([4, 5, 6])\n",
        "array3 = np.concatenate([array1, array2])\n",
        "\n",
        "print(array3.shape)\n",
        "print(array3)"
      ],
      "metadata": {
        "colab": {
          "base_uri": "https://localhost:8080/"
        },
        "id": "gmwT043kIx2a",
        "outputId": "7bf1f3da-0a18-44f3-f560-46581cca678c"
      },
      "execution_count": 13,
      "outputs": [
        {
          "output_type": "stream",
          "name": "stdout",
          "text": [
            "(6,)\n",
            "[1 2 3 4 5 6]\n"
          ]
        }
      ]
    },
    {
      "cell_type": "markdown",
      "source": [
        "배열 세로 축으로 합치기:\n",
        "`np.concatenate([array1, array2], axis = 0)`"
      ],
      "metadata": {
        "id": "OkpO7lXwJEmj"
      }
    },
    {
      "cell_type": "code",
      "source": [
        "array1 = np.arange(4).reshape(1, 4)\n",
        "array2 = np.arange(8).reshape(2, 4)\n",
        "\n",
        "print(array1)\n",
        "print(array2)\n",
        "\n",
        "array3 = np.concatenate([array1, array2], axis = 0)\n",
        "print(array3)"
      ],
      "metadata": {
        "colab": {
          "base_uri": "https://localhost:8080/"
        },
        "id": "DxZczPuRFJ6m",
        "outputId": "e288ffb7-a313-4a50-8e51-006d0f6cfe08"
      },
      "execution_count": 14,
      "outputs": [
        {
          "output_type": "stream",
          "name": "stdout",
          "text": [
            "[[0 1 2 3]]\n",
            "[[0 1 2 3]\n",
            " [4 5 6 7]]\n",
            "[[0 1 2 3]\n",
            " [0 1 2 3]\n",
            " [4 5 6 7]]\n"
          ]
        }
      ]
    },
    {
      "cell_type": "markdown",
      "source": [
        "자율 학습 : 기본값 알아두기위한 몸부림"
      ],
      "metadata": {
        "id": "FSgpqKD1KzdA"
      }
    },
    {
      "cell_type": "code",
      "source": [
        "# 만약 저 axis=0으로 했던 예제에서 array에 축 지정을 안했다면?\n",
        "# 벡터와 행렬의 concat\n",
        "\n",
        "# array1 = np.arange(4).reshape(1, 4)\n",
        "# array2 = np.arange(8).reshape(2, 4)\n",
        "\n",
        "# print(array1)\n",
        "# print(array2)\n",
        "\n",
        "array4 = np.concatenate([array1, array2])\n",
        "print(array4)"
      ],
      "metadata": {
        "colab": {
          "base_uri": "https://localhost:8080/"
        },
        "id": "C7WT6jfjJM-c",
        "outputId": "a9a1827c-9bc3-4b9e-8537-041370e4c51f"
      },
      "execution_count": 15,
      "outputs": [
        {
          "output_type": "stream",
          "name": "stdout",
          "text": [
            "[[0 1 2 3]\n",
            " [0 1 2 3]\n",
            " [4 5 6 7]]\n"
          ]
        }
      ]
    },
    {
      "cell_type": "markdown",
      "source": [
        "### 직접 예시 만들어보기\n",
        "\n",
        "1. `np.zeros`나 `np.ones`는 기본적으로 벡터를 만든다."
      ],
      "metadata": {
        "id": "wvJwFIm5POYw"
      }
    },
    {
      "cell_type": "code",
      "source": [
        "# reshape로 지정하는 것의 차이\n",
        "# shape가 ('1, 5'가 아니라 '5,'로 나옴)\n",
        "\n",
        "s = np.zeros(5)\n",
        "ss = np.zeros(5).reshape(1, 5)\n",
        "\n",
        "print(s.shape)\n",
        "print(ss.shape)"
      ],
      "metadata": {
        "colab": {
          "base_uri": "https://localhost:8080/"
        },
        "id": "3jd6apigQ4Dj",
        "outputId": "e086ca6d-d238-47c2-f864-ddec574d5cd7"
      },
      "execution_count": 16,
      "outputs": [
        {
          "output_type": "stream",
          "name": "stdout",
          "text": [
            "(5,)\n",
            "(1, 5)\n"
          ]
        }
      ]
    },
    {
      "cell_type": "markdown",
      "source": [
        "2. 벡터간에 concatenate는 해당 방향으로 붙게 되어있다."
      ],
      "metadata": {
        "id": "FSMhOqJJXWdz"
      }
    },
    {
      "cell_type": "code",
      "source": [
        "# 벡터\n",
        "v1 = np.zeros(5)\n",
        "v2 = np.ones(5)\n",
        "v3 = np.array([2, 2]).reshape(2, 1) # 열벡터"
      ],
      "metadata": {
        "id": "K5PKC7WTOBK1"
      },
      "execution_count": 17,
      "outputs": []
    },
    {
      "cell_type": "code",
      "source": [
        "# 기본적으로 벡터는 같은 방향으로 붙이게 되어있다.\n",
        "print(np.concatenate([v1, v1, v2, v2]))\n",
        "print(np.concatenate([v3, v3]))"
      ],
      "metadata": {
        "colab": {
          "base_uri": "https://localhost:8080/"
        },
        "id": "oP5aUNP6OGoY",
        "outputId": "d097335e-f629-4698-d33d-76436293992d"
      },
      "execution_count": 18,
      "outputs": [
        {
          "output_type": "stream",
          "name": "stdout",
          "text": [
            "[0. 0. 0. 0. 0. 0. 0. 0. 0. 0. 1. 1. 1. 1. 1. 1. 1. 1. 1. 1.]\n",
            "[[2]\n",
            " [2]\n",
            " [2]\n",
            " [2]]\n"
          ]
        }
      ]
    },
    {
      "cell_type": "markdown",
      "source": [
        "3. 벡터를 행렬의 형태(1XQ or PX1)로 만든 경우는 행 방향으로 붙는다."
      ],
      "metadata": {
        "id": "-aL-KPz1XbwK"
      }
    },
    {
      "cell_type": "code",
      "source": [
        "# 그러나 .reshape() 로 행을 지정하여 하나의 행렬로 주어졌을 때는 다르다\n",
        "\n",
        "v1 = np.zeros(5).reshape(1, 5)\n",
        "v2 = np.ones(5).reshape(1, 5)\n",
        "v3 = np.array([2, 2]).reshape(2, 1) # 열벡터\n",
        "\n",
        "print(np.concatenate([v1, v1, v2, v2])) # 행백터가 행방향으로 붙음\n",
        "print(np.concatenate([v3, v3])) # 열벡터도 행방향으로 붙는다."
      ],
      "metadata": {
        "colab": {
          "base_uri": "https://localhost:8080/"
        },
        "id": "iBffPdQbR1NK",
        "outputId": "a491f55e-68ec-4db1-9330-b36fe96ccf7b"
      },
      "execution_count": 19,
      "outputs": [
        {
          "output_type": "stream",
          "name": "stdout",
          "text": [
            "[[0. 0. 0. 0. 0.]\n",
            " [0. 0. 0. 0. 0.]\n",
            " [1. 1. 1. 1. 1.]\n",
            " [1. 1. 1. 1. 1.]]\n",
            "[[2]\n",
            " [2]\n",
            " [2]\n",
            " [2]]\n"
          ]
        }
      ]
    },
    {
      "cell_type": "markdown",
      "source": [
        "4. 벡터간의 concatenate는 열방향으로 붙기 때문에 `axis = 0`을 적는다 하더라도 기본적으로 열방향으로 이어붙여진다.  \n",
        "`axis = 1`은 먹지 않는다."
      ],
      "metadata": {
        "id": "78n-RBiTXrLm"
      }
    },
    {
      "cell_type": "code",
      "source": [
        "# 행렬을 만들 때, 이런식으로 만들면 벡터와 벡터를 합친 것으로, 열 기준으로 합쳐진다. (행렬이 안됨)\n",
        "m1 = np.concatenate([np.array(list([3]*5)), np.array(list([4]*5))], axis = 0)\n",
        "print(m1)"
      ],
      "metadata": {
        "colab": {
          "base_uri": "https://localhost:8080/"
        },
        "id": "Vr98Kc_jNMcJ",
        "outputId": "45b06fe3-a9a3-491b-cd2c-aac107ed9ade"
      },
      "execution_count": 20,
      "outputs": [
        {
          "output_type": "stream",
          "name": "stdout",
          "text": [
            "[3 3 3 3 3 4 4 4 4 4]\n"
          ]
        }
      ]
    },
    {
      "cell_type": "code",
      "source": [
        "# 행렬로 만들고자 axis = 1은 먹지 않는다.\n",
        "# m2 = np.concatenate([np.array(list([5]*5)), np.array(list([6]*5))], axis = 1)\n",
        "# print(m2)"
      ],
      "metadata": {
        "id": "T3p9XrIINXQ8"
      },
      "execution_count": 21,
      "outputs": []
    },
    {
      "cell_type": "markdown",
      "source": [
        "5. 벡터로 행렬을 만들고자 한다면 벡터를 행렬로 만들거나 (1번), `reshape()`로 행과 열을 지정해주어 재배열 해야한다."
      ],
      "metadata": {
        "id": "4h8cv6uRYH_t"
      }
    },
    {
      "cell_type": "code",
      "source": [
        "# 벡터들만으로 행렬로 만들고자한다면 reshape를 이용할 수 밖에 없다.\n",
        "m1 = np.concatenate([np.array(list([3]*5)), np.array(list([4]*5))]).reshape(2, 5)\n",
        "m2 = np.concatenate([np.array(list([5]*5)), np.array(list([6]*5))]).reshape(2, 5)\n",
        "print(m1, '\\n', m2)"
      ],
      "metadata": {
        "colab": {
          "base_uri": "https://localhost:8080/"
        },
        "id": "8Jks9QNjNjgx",
        "outputId": "207b82c8-8f81-4cff-d374-575c4aef94a9"
      },
      "execution_count": 22,
      "outputs": [
        {
          "output_type": "stream",
          "name": "stdout",
          "text": [
            "[[3 3 3 3 3]\n",
            " [4 4 4 4 4]] \n",
            " [[5 5 5 5 5]\n",
            " [6 6 6 6 6]]\n"
          ]
        }
      ]
    },
    {
      "cell_type": "markdown",
      "source": [
        "6. 행벡터 행렬끼리는 행 방향으로 붙는다."
      ],
      "metadata": {
        "id": "NXkRQMmdYX3f"
      }
    },
    {
      "cell_type": "code",
      "source": [
        "# 아마 벡터는 기본적으로 열방향으로 붙여주지만, 매트릭스는 행(세로)축으로 합치는 것 같다.\n",
        "\n",
        "# 벡터 - 이지만 reshape을 붙여주지 않으면 행으로 인식하지 않는다\n",
        "v1 = np.zeros(5).reshape(1, 5)\n",
        "v2 = np.ones(5).reshape(1, 5)\n",
        "v3 = np.array([2, 2]).reshape(2, 1) # v3 = np.random.randint(2, 3, (2, 1))\n",
        "\n",
        "m1 = np.concatenate([np.array(list([3]*5)), np.array(list([4]*5))]).reshape(2, 5)\n",
        "m2 = np.concatenate([np.array(list([5]*5)), np.array(list([6]*5))]).reshape(2, 5)"
      ],
      "metadata": {
        "id": "h9aqWMwsJdky"
      },
      "execution_count": 23,
      "outputs": []
    },
    {
      "cell_type": "code",
      "source": [
        "# 행벡터와 행벡터 간\n",
        "print(np.concatenate([v1, v2]))\n",
        "\n",
        "# 행벡터와 행벡터를 여러개로 넣었을 때\n",
        "print(np.concatenate([v1, v2, v1, v2]))"
      ],
      "metadata": {
        "colab": {
          "base_uri": "https://localhost:8080/"
        },
        "id": "UItNeAlzKyEb",
        "outputId": "bb247143-2a8d-4547-93c5-12da279920d7"
      },
      "execution_count": 24,
      "outputs": [
        {
          "output_type": "stream",
          "name": "stdout",
          "text": [
            "[[0. 0. 0. 0. 0.]\n",
            " [1. 1. 1. 1. 1.]]\n",
            "[[0. 0. 0. 0. 0.]\n",
            " [1. 1. 1. 1. 1.]\n",
            " [0. 0. 0. 0. 0.]\n",
            " [1. 1. 1. 1. 1.]]\n"
          ]
        }
      ]
    },
    {
      "cell_type": "markdown",
      "source": [
        "7. 행벡터 행렬도 방향을 열로 붙이도록 `axis=1`을 지정하면 열방향으로 붙는다."
      ],
      "metadata": {
        "id": "sYDeqRI6YfQG"
      }
    },
    {
      "cell_type": "code",
      "source": [
        "# 행벡터와 행벡터 간 방향을 지정했을 때\n",
        "print(np.concatenate([v1, v2], axis = 1))\n",
        "\n",
        "# 행벡터와 행벡터를 여러개로 방향을 지정했을 때\n",
        "print(np.concatenate([v1, v2, v1, v2], axis = 1))"
      ],
      "metadata": {
        "colab": {
          "base_uri": "https://localhost:8080/"
        },
        "id": "wMoUrqMlSQKG",
        "outputId": "92fd6192-51bb-41d4-dd2d-84596dc782b0"
      },
      "execution_count": 25,
      "outputs": [
        {
          "output_type": "stream",
          "name": "stdout",
          "text": [
            "[[0. 0. 0. 0. 0. 1. 1. 1. 1. 1.]]\n",
            "[[0. 0. 0. 0. 0. 1. 1. 1. 1. 1. 0. 0. 0. 0. 0. 1. 1. 1. 1. 1.]]\n"
          ]
        }
      ]
    },
    {
      "cell_type": "markdown",
      "source": [
        "8. 열벡터의 행 갯수와 행렬의 행의 개수가 같아도 붙여지지 않는다.  \n",
        "열의 개수가 같은 행벡터 행렬과 행렬은 행 방향으로 붙는다."
      ],
      "metadata": {
        "id": "cg0fbxsTYoqQ"
      }
    },
    {
      "cell_type": "code",
      "source": [
        "# 벡터와 행렬 간 (행 개수가 같을 때)\n",
        "# print(np.concatenate([v3, m1])) # 오류가 나며 실행 안됨\n",
        "\n",
        "# 벡터와 행렬 간 (열 개수가 같을 때)\n",
        "print(np.concatenate([v1, m1]))"
      ],
      "metadata": {
        "colab": {
          "base_uri": "https://localhost:8080/"
        },
        "id": "w2_PZY9bO-7D",
        "outputId": "a2201add-e68a-4465-a981-5bbf32988ce2"
      },
      "execution_count": 26,
      "outputs": [
        {
          "output_type": "stream",
          "name": "stdout",
          "text": [
            "[[0. 0. 0. 0. 0.]\n",
            " [3. 3. 3. 3. 3.]\n",
            " [4. 4. 4. 4. 4.]]\n"
          ]
        }
      ]
    },
    {
      "cell_type": "markdown",
      "source": [
        "9. 열의 개수가 같다면 행렬끼리는 자동적으로 행방향으로 붙는다. (가장 기본 형태)"
      ],
      "metadata": {
        "id": "c0VYZFiBY26n"
      }
    },
    {
      "cell_type": "code",
      "source": [
        "# 행, 열의 개수가 같을 때\n",
        "# 행렬과 행렬 간 # 자동적으로 행방향으로 붙는다.\n",
        "print(np.concatenate([m1, m2]))\n",
        "\n",
        "# 행렬과 행렬을 여러개로 넣었을 때\n",
        "print(np.concatenate([m1, m2, m1, m2]))"
      ],
      "metadata": {
        "colab": {
          "base_uri": "https://localhost:8080/"
        },
        "id": "ps3CDkstQaga",
        "outputId": "bacf48fe-d853-4f85-96e1-120159aecf7c"
      },
      "execution_count": 27,
      "outputs": [
        {
          "output_type": "stream",
          "name": "stdout",
          "text": [
            "[[3 3 3 3 3]\n",
            " [4 4 4 4 4]\n",
            " [5 5 5 5 5]\n",
            " [6 6 6 6 6]]\n",
            "[[3 3 3 3 3]\n",
            " [4 4 4 4 4]\n",
            " [5 5 5 5 5]\n",
            " [6 6 6 6 6]\n",
            " [3 3 3 3 3]\n",
            " [4 4 4 4 4]\n",
            " [5 5 5 5 5]\n",
            " [6 6 6 6 6]]\n"
          ]
        }
      ]
    },
    {
      "cell_type": "markdown",
      "source": [
        "10. 행의 개수가 같고 열의 개수가 다른 경우에는 열 방향으로 붙이라고 지정해주어야 오류 없이 concat이 가능하다."
      ],
      "metadata": {
        "id": "dfZpZrX9Y88B"
      }
    },
    {
      "cell_type": "code",
      "source": [
        "# 행의 개수가 같은 행렬은 어떻게 될까?\n",
        "m3 = np.random.randint(0, 10, (3, 3))\n",
        "m4 = np.random.randint(10, 20, (3, 5))\n",
        "\n",
        "# 그냥은 오류가 나고, 열방향으로 붙여달라고 해야 작동한다.\n",
        "# 행렬간 기본은 행 방향으로 붙는 것이 맞다.\n",
        "# print(np.concatenate([m3, m4]))\n",
        "print(np.concatenate([m3, m4], axis = 1))\n",
        "print(np.concatenate([m3, m4], axis = 1).shape)"
      ],
      "metadata": {
        "colab": {
          "base_uri": "https://localhost:8080/"
        },
        "id": "KUUQp2_kQjt1",
        "outputId": "73f5e692-0fcd-4aab-e61b-ff55a8d728a9"
      },
      "execution_count": 28,
      "outputs": [
        {
          "output_type": "stream",
          "name": "stdout",
          "text": [
            "[[ 3  6  5 16 14 17 10 19]\n",
            " [ 7  2  4 16 15 16 12 19]\n",
            " [ 4  8  8 17 13 11 12 13]]\n",
            "(3, 8)\n"
          ]
        }
      ]
    },
    {
      "cell_type": "markdown",
      "source": [
        "## 배열 나누기\n",
        "\n",
        "2차원 데이터를 나눌 때 split을 이용할 수 있다.\n",
        "`np.split(array, [기준], axis = 기준방향)`"
      ],
      "metadata": {
        "id": "QwQPSjsBZU9z"
      }
    },
    {
      "cell_type": "code",
      "source": [
        "# 8개의 값, 2행 4열\n",
        "array = np.arange(8).reshape(2, 4)\n",
        "\n",
        "# [2]'열'을 중심으로 값을 나눈다\n",
        "left, right = np.split(array, [2], axis = 1)\n",
        "\n",
        "print(left.shape)\n",
        "print(right.shape)\n",
        "\n",
        "print(array)\n",
        "print(left)"
      ],
      "metadata": {
        "colab": {
          "base_uri": "https://localhost:8080/"
        },
        "id": "ad5ofFERFKYc",
        "outputId": "d3658002-e711-4c4a-8bd4-9e88a933cfcb"
      },
      "execution_count": 29,
      "outputs": [
        {
          "output_type": "stream",
          "name": "stdout",
          "text": [
            "(2, 2)\n",
            "(2, 2)\n",
            "[[0 1 2 3]\n",
            " [4 5 6 7]]\n",
            "[[0 1]\n",
            " [4 5]]\n"
          ]
        }
      ]
    },
    {
      "cell_type": "code",
      "source": [
        "# 만약 행 중심으로 나눈다면?\n",
        "upper, lower = np.split(array, [1], axis = 0)\n",
        "\n",
        "print(upper.shape)\n",
        "print(lower.shape)\n",
        "\n",
        "print(array)\n",
        "print(upper)"
      ],
      "metadata": {
        "colab": {
          "base_uri": "https://localhost:8080/"
        },
        "id": "bOpAql9_ZpF2",
        "outputId": "31f80f6b-fad9-4eb5-9e46-ac739e9c190b"
      },
      "execution_count": 30,
      "outputs": [
        {
          "output_type": "stream",
          "name": "stdout",
          "text": [
            "(1, 4)\n",
            "(1, 4)\n",
            "[[0 1 2 3]\n",
            " [4 5 6 7]]\n",
            "[[0 1 2 3]]\n"
          ]
        }
      ]
    },
    {
      "cell_type": "code",
      "source": [],
      "metadata": {
        "id": "ezqwQVRlZzy6"
      },
      "execution_count": 30,
      "outputs": []
    }
  ]
}
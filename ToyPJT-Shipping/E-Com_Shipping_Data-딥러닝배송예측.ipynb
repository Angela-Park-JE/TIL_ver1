{
 "cells": [
  {
   "cell_type": "markdown",
   "id": "1ce1c567",
   "metadata": {},
   "source": [
    "# E-Commerce_Shipping_Data in Kaggle\n",
    "\n",
    "분류 신경망 빌딩 연습겸 배송이 예상된 시간 내에 도착을 했는지 안했는지 알아보는 \n",
    "\n",
    "https://www.kaggle.com/datasets/prachi13/customer-analytics\n",
    "\n",
    "해당 데이터로 딥러닝을 통한 예측을 연습해보기로 했다."
   ]
  },
  {
   "cell_type": "code",
   "execution_count": null,
   "id": "64e0797a",
   "metadata": {},
   "outputs": [],
   "source": [
    "# code for model save and load \n",
    "\n",
    "# model.save('cnn_model2.h5')\n",
    "\n",
    "# from tensorflow.keras.models import load_model\n",
    "# cnn_model2 = load_model('cnn_model2.h5')"
   ]
  },
  {
   "cell_type": "markdown",
   "id": "cbf419ee",
   "metadata": {},
   "source": [
    "# Data and libraries\n",
    "\n",
    "일관된 결과를 위해 random seed를 0으로 고정한다.\n"
   ]
  },
  {
   "cell_type": "code",
   "execution_count": 1,
   "id": "78351b34",
   "metadata": {},
   "outputs": [
    {
     "name": "stdout",
     "output_type": "stream",
     "text": [
      "numpy version: 1.22.4\n",
      "pandas version: 1.22.4\n",
      "tensorflow version: 2.9.1\n",
      "keras version: 2.9.0\n"
     ]
    }
   ],
   "source": [
    "import numpy as np\n",
    "import pandas as pd\n",
    "import tensorflow as tf\n",
    "import keras\n",
    "\n",
    "np.random.seed(0)\n",
    "tf.random.set_seed(0)\n",
    "\n",
    "# version check\n",
    "print(\"numpy version:\", np.__version__)\n",
    "print(\"pandas version:\", np.__version__)\n",
    "print(\"tensorflow version:\", tf.__version__)\n",
    "print(\"keras version:\", keras.__version__)"
   ]
  },
  {
   "cell_type": "code",
   "execution_count": 2,
   "id": "cdab486d",
   "metadata": {
    "scrolled": false
   },
   "outputs": [
    {
     "data": {
      "text/html": [
       "<div>\n",
       "<style scoped>\n",
       "    .dataframe tbody tr th:only-of-type {\n",
       "        vertical-align: middle;\n",
       "    }\n",
       "\n",
       "    .dataframe tbody tr th {\n",
       "        vertical-align: top;\n",
       "    }\n",
       "\n",
       "    .dataframe thead th {\n",
       "        text-align: right;\n",
       "    }\n",
       "</style>\n",
       "<table border=\"1\" class=\"dataframe\">\n",
       "  <thead>\n",
       "    <tr style=\"text-align: right;\">\n",
       "      <th></th>\n",
       "      <th>ID</th>\n",
       "      <th>Warehouse_block</th>\n",
       "      <th>Mode_of_Shipment</th>\n",
       "      <th>Customer_care_calls</th>\n",
       "      <th>Customer_rating</th>\n",
       "      <th>Cost_of_the_Product</th>\n",
       "      <th>Prior_purchases</th>\n",
       "      <th>Product_importance</th>\n",
       "      <th>Gender</th>\n",
       "      <th>Discount_offered</th>\n",
       "      <th>Weight_in_gms</th>\n",
       "      <th>Reached.on.Time_Y.N</th>\n",
       "    </tr>\n",
       "  </thead>\n",
       "  <tbody>\n",
       "    <tr>\n",
       "      <th>0</th>\n",
       "      <td>1</td>\n",
       "      <td>D</td>\n",
       "      <td>Flight</td>\n",
       "      <td>4</td>\n",
       "      <td>2</td>\n",
       "      <td>177</td>\n",
       "      <td>3</td>\n",
       "      <td>low</td>\n",
       "      <td>F</td>\n",
       "      <td>44</td>\n",
       "      <td>1233</td>\n",
       "      <td>1</td>\n",
       "    </tr>\n",
       "    <tr>\n",
       "      <th>1</th>\n",
       "      <td>2</td>\n",
       "      <td>F</td>\n",
       "      <td>Flight</td>\n",
       "      <td>4</td>\n",
       "      <td>5</td>\n",
       "      <td>216</td>\n",
       "      <td>2</td>\n",
       "      <td>low</td>\n",
       "      <td>M</td>\n",
       "      <td>59</td>\n",
       "      <td>3088</td>\n",
       "      <td>1</td>\n",
       "    </tr>\n",
       "    <tr>\n",
       "      <th>2</th>\n",
       "      <td>3</td>\n",
       "      <td>A</td>\n",
       "      <td>Flight</td>\n",
       "      <td>2</td>\n",
       "      <td>2</td>\n",
       "      <td>183</td>\n",
       "      <td>4</td>\n",
       "      <td>low</td>\n",
       "      <td>M</td>\n",
       "      <td>48</td>\n",
       "      <td>3374</td>\n",
       "      <td>1</td>\n",
       "    </tr>\n",
       "    <tr>\n",
       "      <th>3</th>\n",
       "      <td>4</td>\n",
       "      <td>B</td>\n",
       "      <td>Flight</td>\n",
       "      <td>3</td>\n",
       "      <td>3</td>\n",
       "      <td>176</td>\n",
       "      <td>4</td>\n",
       "      <td>medium</td>\n",
       "      <td>M</td>\n",
       "      <td>10</td>\n",
       "      <td>1177</td>\n",
       "      <td>1</td>\n",
       "    </tr>\n",
       "    <tr>\n",
       "      <th>4</th>\n",
       "      <td>5</td>\n",
       "      <td>C</td>\n",
       "      <td>Flight</td>\n",
       "      <td>2</td>\n",
       "      <td>2</td>\n",
       "      <td>184</td>\n",
       "      <td>3</td>\n",
       "      <td>medium</td>\n",
       "      <td>F</td>\n",
       "      <td>46</td>\n",
       "      <td>2484</td>\n",
       "      <td>1</td>\n",
       "    </tr>\n",
       "    <tr>\n",
       "      <th>5</th>\n",
       "      <td>6</td>\n",
       "      <td>F</td>\n",
       "      <td>Flight</td>\n",
       "      <td>3</td>\n",
       "      <td>1</td>\n",
       "      <td>162</td>\n",
       "      <td>3</td>\n",
       "      <td>medium</td>\n",
       "      <td>F</td>\n",
       "      <td>12</td>\n",
       "      <td>1417</td>\n",
       "      <td>1</td>\n",
       "    </tr>\n",
       "    <tr>\n",
       "      <th>6</th>\n",
       "      <td>7</td>\n",
       "      <td>D</td>\n",
       "      <td>Flight</td>\n",
       "      <td>3</td>\n",
       "      <td>4</td>\n",
       "      <td>250</td>\n",
       "      <td>3</td>\n",
       "      <td>low</td>\n",
       "      <td>F</td>\n",
       "      <td>3</td>\n",
       "      <td>2371</td>\n",
       "      <td>1</td>\n",
       "    </tr>\n",
       "    <tr>\n",
       "      <th>7</th>\n",
       "      <td>8</td>\n",
       "      <td>F</td>\n",
       "      <td>Flight</td>\n",
       "      <td>4</td>\n",
       "      <td>1</td>\n",
       "      <td>233</td>\n",
       "      <td>2</td>\n",
       "      <td>low</td>\n",
       "      <td>F</td>\n",
       "      <td>48</td>\n",
       "      <td>2804</td>\n",
       "      <td>1</td>\n",
       "    </tr>\n",
       "    <tr>\n",
       "      <th>8</th>\n",
       "      <td>9</td>\n",
       "      <td>A</td>\n",
       "      <td>Flight</td>\n",
       "      <td>3</td>\n",
       "      <td>4</td>\n",
       "      <td>150</td>\n",
       "      <td>3</td>\n",
       "      <td>low</td>\n",
       "      <td>F</td>\n",
       "      <td>11</td>\n",
       "      <td>1861</td>\n",
       "      <td>1</td>\n",
       "    </tr>\n",
       "    <tr>\n",
       "      <th>9</th>\n",
       "      <td>10</td>\n",
       "      <td>B</td>\n",
       "      <td>Flight</td>\n",
       "      <td>3</td>\n",
       "      <td>2</td>\n",
       "      <td>164</td>\n",
       "      <td>3</td>\n",
       "      <td>medium</td>\n",
       "      <td>F</td>\n",
       "      <td>29</td>\n",
       "      <td>1187</td>\n",
       "      <td>1</td>\n",
       "    </tr>\n",
       "  </tbody>\n",
       "</table>\n",
       "</div>"
      ],
      "text/plain": [
       "   ID Warehouse_block Mode_of_Shipment  Customer_care_calls  Customer_rating  \\\n",
       "0   1               D           Flight                    4                2   \n",
       "1   2               F           Flight                    4                5   \n",
       "2   3               A           Flight                    2                2   \n",
       "3   4               B           Flight                    3                3   \n",
       "4   5               C           Flight                    2                2   \n",
       "5   6               F           Flight                    3                1   \n",
       "6   7               D           Flight                    3                4   \n",
       "7   8               F           Flight                    4                1   \n",
       "8   9               A           Flight                    3                4   \n",
       "9  10               B           Flight                    3                2   \n",
       "\n",
       "   Cost_of_the_Product  Prior_purchases Product_importance Gender  \\\n",
       "0                  177                3                low      F   \n",
       "1                  216                2                low      M   \n",
       "2                  183                4                low      M   \n",
       "3                  176                4             medium      M   \n",
       "4                  184                3             medium      F   \n",
       "5                  162                3             medium      F   \n",
       "6                  250                3                low      F   \n",
       "7                  233                2                low      F   \n",
       "8                  150                3                low      F   \n",
       "9                  164                3             medium      F   \n",
       "\n",
       "   Discount_offered  Weight_in_gms  Reached.on.Time_Y.N  \n",
       "0                44           1233                    1  \n",
       "1                59           3088                    1  \n",
       "2                48           3374                    1  \n",
       "3                10           1177                    1  \n",
       "4                46           2484                    1  \n",
       "5                12           1417                    1  \n",
       "6                 3           2371                    1  \n",
       "7                48           2804                    1  \n",
       "8                11           1861                    1  \n",
       "9                29           1187                    1  "
      ]
     },
     "execution_count": 2,
     "metadata": {},
     "output_type": "execute_result"
    }
   ],
   "source": [
    "# data load\n",
    "\n",
    "raw_data = pd.read_csv('/Users/Angela/Desktop/Personal/toy1_물류/Train_E-Commerce_Shipping_Data.csv')\n",
    "raw_data.head(10)"
   ]
  },
  {
   "cell_type": "code",
   "execution_count": 3,
   "id": "fea32bfa",
   "metadata": {},
   "outputs": [
    {
     "data": {
      "text/plain": [
       "(10999, 12)"
      ]
     },
     "execution_count": 3,
     "metadata": {},
     "output_type": "execute_result"
    }
   ],
   "source": [
    "raw_data.shape"
   ]
  },
  {
   "cell_type": "code",
   "execution_count": 4,
   "id": "5ceb0251",
   "metadata": {},
   "outputs": [
    {
     "data": {
      "text/plain": [
       "Index(['ID', 'Warehouse_block', 'Mode_of_Shipment', 'Customer_care_calls',\n",
       "       'Customer_rating', 'Cost_of_the_Product', 'Prior_purchases',\n",
       "       'Product_importance', 'Gender', 'Discount_offered', 'Weight_in_gms',\n",
       "       'Reached.on.Time_Y.N'],\n",
       "      dtype='object')"
      ]
     },
     "execution_count": 4,
     "metadata": {},
     "output_type": "execute_result"
    }
   ],
   "source": [
    "raw_data.columns"
   ]
  },
  {
   "cell_type": "markdown",
   "id": "1d636676",
   "metadata": {},
   "source": [
    "# Reached.on.Time_Y.N\n",
    "\n",
    "##  crop columns\n",
    "cost prediction에 필요할 것으로 생각되는 컬럼만 남긴다. "
   ]
  },
  {
   "cell_type": "code",
   "execution_count": 6,
   "id": "c62a58b7",
   "metadata": {
    "scrolled": true
   },
   "outputs": [],
   "source": [
    "# dataframe crop\n",
    "\n",
    "df = raw_data[['Warehouse_block', 'Mode_of_Shipment', 'Customer_care_calls',\n",
    "              'Cost_of_the_Product', 'Prior_purchases',\n",
    "              'Product_importance' , 'Discount_offered', 'Weight_in_gms',\n",
    "              'Reached.on.Time_Y.N']]"
   ]
  },
  {
   "cell_type": "code",
   "execution_count": 7,
   "id": "7d4acb8e",
   "metadata": {},
   "outputs": [
    {
     "data": {
      "text/plain": [
       "Warehouse_block           5\n",
       "Mode_of_Shipment          3\n",
       "Customer_care_calls       6\n",
       "Cost_of_the_Product     215\n",
       "Prior_purchases           8\n",
       "Product_importance        3\n",
       "Discount_offered         65\n",
       "Weight_in_gms          4034\n",
       "Reached.on.Time_Y.N       2\n",
       "dtype: int64"
      ]
     },
     "execution_count": 7,
     "metadata": {},
     "output_type": "execute_result"
    }
   ],
   "source": [
    "df.nunique()"
   ]
  },
  {
   "cell_type": "markdown",
   "id": "a615f5dd",
   "metadata": {},
   "source": [
    "## categorial columns processing (one-hot encoding)\n",
    "\n",
    "Warehouse_block, Mode_of_Shipment, Product_importance"
   ]
  },
  {
   "cell_type": "code",
   "execution_count": 11,
   "id": "f1ffc8a1",
   "metadata": {},
   "outputs": [
    {
     "name": "stdout",
     "output_type": "stream",
     "text": [
      "<class 'pandas.core.frame.DataFrame'>\n",
      "RangeIndex: 10999 entries, 0 to 10998\n",
      "Data columns (total 9 columns):\n",
      " #   Column               Non-Null Count  Dtype \n",
      "---  ------               --------------  ----- \n",
      " 0   Warehouse_block      10999 non-null  object\n",
      " 1   Mode_of_Shipment     10999 non-null  object\n",
      " 2   Customer_care_calls  10999 non-null  int64 \n",
      " 3   Cost_of_the_Product  10999 non-null  int64 \n",
      " 4   Prior_purchases      10999 non-null  int64 \n",
      " 5   Product_importance   10999 non-null  object\n",
      " 6   Discount_offered     10999 non-null  int64 \n",
      " 7   Weight_in_gms        10999 non-null  int64 \n",
      " 8   Reached.on.Time_Y.N  10999 non-null  int64 \n",
      "dtypes: int64(6), object(3)\n",
      "memory usage: 773.5+ KB\n"
     ]
    }
   ],
   "source": [
    "df.info()"
   ]
  },
  {
   "cell_type": "markdown",
   "id": "b02f925e",
   "metadata": {},
   "source": [
    "# feature and target"
   ]
  },
  {
   "cell_type": "markdown",
   "id": "330a97c7",
   "metadata": {},
   "source": [
    "\n",
    "참조: https://velog.io/@hyesoup/문자-카테고리형-데이터-처리-Label-Encoding-One-Hot-Encoding\n",
    "\n",
    "시도하려고 했으나 훨씬 쉬운 방법을 알아냈다. \n",
    "\n",
    "\n",
    "```\n",
    "# from sklearn.preprocessing import LabelEncoder\n",
    "# from sklearn.preprocessing import OneHotEncoder\n",
    "\n",
    "# items1 = df['Warehouse_block'].unique().tolist()\n",
    "# # items2 = df['Mode_of_Shipment'].unique().tolist()\n",
    "# # items3 = df['Product_importance'].unique().tolist()\n",
    "\n",
    "# # 먼저 LabelEncoder로 변환 \n",
    "# encoder = LabelEncoder()\n",
    "# encoder.fit(items1)\n",
    "# labels1 = encoder.transform(items1)\n",
    "\n",
    "# # 2차원 데이터로 변환 \n",
    "# labels1 = labels1.reshape(-1,1)\n",
    "\n",
    "# # 원-핫 인코딩을 적용\n",
    "# oh_encoder = OneHotEncoder()\n",
    "# oh_encoder.fit(labels1)\n",
    "# oh_labels1 = oh_encoder.transform(labels1)\n",
    "```"
   ]
  },
  {
   "cell_type": "code",
   "execution_count": 33,
   "id": "7b46a375",
   "metadata": {
    "scrolled": true
   },
   "outputs": [
    {
     "data": {
      "text/html": [
       "<div>\n",
       "<style scoped>\n",
       "    .dataframe tbody tr th:only-of-type {\n",
       "        vertical-align: middle;\n",
       "    }\n",
       "\n",
       "    .dataframe tbody tr th {\n",
       "        vertical-align: top;\n",
       "    }\n",
       "\n",
       "    .dataframe thead th {\n",
       "        text-align: right;\n",
       "    }\n",
       "</style>\n",
       "<table border=\"1\" class=\"dataframe\">\n",
       "  <thead>\n",
       "    <tr style=\"text-align: right;\">\n",
       "      <th></th>\n",
       "      <th>Customer_care_calls</th>\n",
       "      <th>Cost_of_the_Product</th>\n",
       "      <th>Prior_purchases</th>\n",
       "      <th>Discount_offered</th>\n",
       "      <th>Weight_in_gms</th>\n",
       "      <th>Reached.on.Time_Y.N</th>\n",
       "      <th>Warehouse_block_A</th>\n",
       "      <th>Warehouse_block_B</th>\n",
       "      <th>Warehouse_block_C</th>\n",
       "      <th>Warehouse_block_D</th>\n",
       "      <th>Warehouse_block_F</th>\n",
       "      <th>Mode_of_Shipment_Flight</th>\n",
       "      <th>Mode_of_Shipment_Road</th>\n",
       "      <th>Mode_of_Shipment_Ship</th>\n",
       "      <th>Product_importance_high</th>\n",
       "      <th>Product_importance_low</th>\n",
       "      <th>Product_importance_medium</th>\n",
       "    </tr>\n",
       "  </thead>\n",
       "  <tbody>\n",
       "    <tr>\n",
       "      <th>0</th>\n",
       "      <td>4</td>\n",
       "      <td>177</td>\n",
       "      <td>3</td>\n",
       "      <td>44</td>\n",
       "      <td>1233</td>\n",
       "      <td>1</td>\n",
       "      <td>0</td>\n",
       "      <td>0</td>\n",
       "      <td>0</td>\n",
       "      <td>1</td>\n",
       "      <td>0</td>\n",
       "      <td>1</td>\n",
       "      <td>0</td>\n",
       "      <td>0</td>\n",
       "      <td>0</td>\n",
       "      <td>1</td>\n",
       "      <td>0</td>\n",
       "    </tr>\n",
       "    <tr>\n",
       "      <th>1</th>\n",
       "      <td>4</td>\n",
       "      <td>216</td>\n",
       "      <td>2</td>\n",
       "      <td>59</td>\n",
       "      <td>3088</td>\n",
       "      <td>1</td>\n",
       "      <td>0</td>\n",
       "      <td>0</td>\n",
       "      <td>0</td>\n",
       "      <td>0</td>\n",
       "      <td>1</td>\n",
       "      <td>1</td>\n",
       "      <td>0</td>\n",
       "      <td>0</td>\n",
       "      <td>0</td>\n",
       "      <td>1</td>\n",
       "      <td>0</td>\n",
       "    </tr>\n",
       "    <tr>\n",
       "      <th>2</th>\n",
       "      <td>2</td>\n",
       "      <td>183</td>\n",
       "      <td>4</td>\n",
       "      <td>48</td>\n",
       "      <td>3374</td>\n",
       "      <td>1</td>\n",
       "      <td>1</td>\n",
       "      <td>0</td>\n",
       "      <td>0</td>\n",
       "      <td>0</td>\n",
       "      <td>0</td>\n",
       "      <td>1</td>\n",
       "      <td>0</td>\n",
       "      <td>0</td>\n",
       "      <td>0</td>\n",
       "      <td>1</td>\n",
       "      <td>0</td>\n",
       "    </tr>\n",
       "    <tr>\n",
       "      <th>3</th>\n",
       "      <td>3</td>\n",
       "      <td>176</td>\n",
       "      <td>4</td>\n",
       "      <td>10</td>\n",
       "      <td>1177</td>\n",
       "      <td>1</td>\n",
       "      <td>0</td>\n",
       "      <td>1</td>\n",
       "      <td>0</td>\n",
       "      <td>0</td>\n",
       "      <td>0</td>\n",
       "      <td>1</td>\n",
       "      <td>0</td>\n",
       "      <td>0</td>\n",
       "      <td>0</td>\n",
       "      <td>0</td>\n",
       "      <td>1</td>\n",
       "    </tr>\n",
       "    <tr>\n",
       "      <th>4</th>\n",
       "      <td>2</td>\n",
       "      <td>184</td>\n",
       "      <td>3</td>\n",
       "      <td>46</td>\n",
       "      <td>2484</td>\n",
       "      <td>1</td>\n",
       "      <td>0</td>\n",
       "      <td>0</td>\n",
       "      <td>1</td>\n",
       "      <td>0</td>\n",
       "      <td>0</td>\n",
       "      <td>1</td>\n",
       "      <td>0</td>\n",
       "      <td>0</td>\n",
       "      <td>0</td>\n",
       "      <td>0</td>\n",
       "      <td>1</td>\n",
       "    </tr>\n",
       "    <tr>\n",
       "      <th>...</th>\n",
       "      <td>...</td>\n",
       "      <td>...</td>\n",
       "      <td>...</td>\n",
       "      <td>...</td>\n",
       "      <td>...</td>\n",
       "      <td>...</td>\n",
       "      <td>...</td>\n",
       "      <td>...</td>\n",
       "      <td>...</td>\n",
       "      <td>...</td>\n",
       "      <td>...</td>\n",
       "      <td>...</td>\n",
       "      <td>...</td>\n",
       "      <td>...</td>\n",
       "      <td>...</td>\n",
       "      <td>...</td>\n",
       "      <td>...</td>\n",
       "    </tr>\n",
       "    <tr>\n",
       "      <th>10994</th>\n",
       "      <td>4</td>\n",
       "      <td>252</td>\n",
       "      <td>5</td>\n",
       "      <td>1</td>\n",
       "      <td>1538</td>\n",
       "      <td>1</td>\n",
       "      <td>1</td>\n",
       "      <td>0</td>\n",
       "      <td>0</td>\n",
       "      <td>0</td>\n",
       "      <td>0</td>\n",
       "      <td>0</td>\n",
       "      <td>0</td>\n",
       "      <td>1</td>\n",
       "      <td>0</td>\n",
       "      <td>0</td>\n",
       "      <td>1</td>\n",
       "    </tr>\n",
       "    <tr>\n",
       "      <th>10995</th>\n",
       "      <td>4</td>\n",
       "      <td>232</td>\n",
       "      <td>5</td>\n",
       "      <td>6</td>\n",
       "      <td>1247</td>\n",
       "      <td>0</td>\n",
       "      <td>0</td>\n",
       "      <td>1</td>\n",
       "      <td>0</td>\n",
       "      <td>0</td>\n",
       "      <td>0</td>\n",
       "      <td>0</td>\n",
       "      <td>0</td>\n",
       "      <td>1</td>\n",
       "      <td>0</td>\n",
       "      <td>0</td>\n",
       "      <td>1</td>\n",
       "    </tr>\n",
       "    <tr>\n",
       "      <th>10996</th>\n",
       "      <td>5</td>\n",
       "      <td>242</td>\n",
       "      <td>5</td>\n",
       "      <td>4</td>\n",
       "      <td>1155</td>\n",
       "      <td>0</td>\n",
       "      <td>0</td>\n",
       "      <td>0</td>\n",
       "      <td>1</td>\n",
       "      <td>0</td>\n",
       "      <td>0</td>\n",
       "      <td>0</td>\n",
       "      <td>0</td>\n",
       "      <td>1</td>\n",
       "      <td>0</td>\n",
       "      <td>1</td>\n",
       "      <td>0</td>\n",
       "    </tr>\n",
       "    <tr>\n",
       "      <th>10997</th>\n",
       "      <td>5</td>\n",
       "      <td>223</td>\n",
       "      <td>6</td>\n",
       "      <td>2</td>\n",
       "      <td>1210</td>\n",
       "      <td>0</td>\n",
       "      <td>0</td>\n",
       "      <td>0</td>\n",
       "      <td>0</td>\n",
       "      <td>0</td>\n",
       "      <td>1</td>\n",
       "      <td>0</td>\n",
       "      <td>0</td>\n",
       "      <td>1</td>\n",
       "      <td>0</td>\n",
       "      <td>0</td>\n",
       "      <td>1</td>\n",
       "    </tr>\n",
       "    <tr>\n",
       "      <th>10998</th>\n",
       "      <td>2</td>\n",
       "      <td>155</td>\n",
       "      <td>5</td>\n",
       "      <td>6</td>\n",
       "      <td>1639</td>\n",
       "      <td>0</td>\n",
       "      <td>0</td>\n",
       "      <td>0</td>\n",
       "      <td>0</td>\n",
       "      <td>1</td>\n",
       "      <td>0</td>\n",
       "      <td>0</td>\n",
       "      <td>0</td>\n",
       "      <td>1</td>\n",
       "      <td>0</td>\n",
       "      <td>1</td>\n",
       "      <td>0</td>\n",
       "    </tr>\n",
       "  </tbody>\n",
       "</table>\n",
       "<p>10999 rows × 17 columns</p>\n",
       "</div>"
      ],
      "text/plain": [
       "       Customer_care_calls  Cost_of_the_Product  Prior_purchases  \\\n",
       "0                        4                  177                3   \n",
       "1                        4                  216                2   \n",
       "2                        2                  183                4   \n",
       "3                        3                  176                4   \n",
       "4                        2                  184                3   \n",
       "...                    ...                  ...              ...   \n",
       "10994                    4                  252                5   \n",
       "10995                    4                  232                5   \n",
       "10996                    5                  242                5   \n",
       "10997                    5                  223                6   \n",
       "10998                    2                  155                5   \n",
       "\n",
       "       Discount_offered  Weight_in_gms  Reached.on.Time_Y.N  \\\n",
       "0                    44           1233                    1   \n",
       "1                    59           3088                    1   \n",
       "2                    48           3374                    1   \n",
       "3                    10           1177                    1   \n",
       "4                    46           2484                    1   \n",
       "...                 ...            ...                  ...   \n",
       "10994                 1           1538                    1   \n",
       "10995                 6           1247                    0   \n",
       "10996                 4           1155                    0   \n",
       "10997                 2           1210                    0   \n",
       "10998                 6           1639                    0   \n",
       "\n",
       "       Warehouse_block_A  Warehouse_block_B  Warehouse_block_C  \\\n",
       "0                      0                  0                  0   \n",
       "1                      0                  0                  0   \n",
       "2                      1                  0                  0   \n",
       "3                      0                  1                  0   \n",
       "4                      0                  0                  1   \n",
       "...                  ...                ...                ...   \n",
       "10994                  1                  0                  0   \n",
       "10995                  0                  1                  0   \n",
       "10996                  0                  0                  1   \n",
       "10997                  0                  0                  0   \n",
       "10998                  0                  0                  0   \n",
       "\n",
       "       Warehouse_block_D  Warehouse_block_F  Mode_of_Shipment_Flight  \\\n",
       "0                      1                  0                        1   \n",
       "1                      0                  1                        1   \n",
       "2                      0                  0                        1   \n",
       "3                      0                  0                        1   \n",
       "4                      0                  0                        1   \n",
       "...                  ...                ...                      ...   \n",
       "10994                  0                  0                        0   \n",
       "10995                  0                  0                        0   \n",
       "10996                  0                  0                        0   \n",
       "10997                  0                  1                        0   \n",
       "10998                  1                  0                        0   \n",
       "\n",
       "       Mode_of_Shipment_Road  Mode_of_Shipment_Ship  Product_importance_high  \\\n",
       "0                          0                      0                        0   \n",
       "1                          0                      0                        0   \n",
       "2                          0                      0                        0   \n",
       "3                          0                      0                        0   \n",
       "4                          0                      0                        0   \n",
       "...                      ...                    ...                      ...   \n",
       "10994                      0                      1                        0   \n",
       "10995                      0                      1                        0   \n",
       "10996                      0                      1                        0   \n",
       "10997                      0                      1                        0   \n",
       "10998                      0                      1                        0   \n",
       "\n",
       "       Product_importance_low  Product_importance_medium  \n",
       "0                           1                          0  \n",
       "1                           1                          0  \n",
       "2                           1                          0  \n",
       "3                           0                          1  \n",
       "4                           0                          1  \n",
       "...                       ...                        ...  \n",
       "10994                       0                          1  \n",
       "10995                       0                          1  \n",
       "10996                       1                          0  \n",
       "10997                       0                          1  \n",
       "10998                       1                          0  \n",
       "\n",
       "[10999 rows x 17 columns]"
      ]
     },
     "execution_count": 33,
     "metadata": {},
     "output_type": "execute_result"
    }
   ],
   "source": [
    "df_onehot = pd.get_dummies(data = df, columns = ['Warehouse_block', 'Mode_of_Shipment', 'Product_importance'], \n",
    "                     prefix = ['Warehouse_block', 'Mode_of_Shipment', 'Product_importance'])\n",
    "df_onehot"
   ]
  },
  {
   "cell_type": "code",
   "execution_count": 34,
   "id": "c275fbc9",
   "metadata": {},
   "outputs": [
    {
     "data": {
      "text/plain": [
       "Index(['Customer_care_calls', 'Cost_of_the_Product', 'Prior_purchases',\n",
       "       'Discount_offered', 'Weight_in_gms', 'Reached.on.Time_Y.N',\n",
       "       'Warehouse_block_A', 'Warehouse_block_B', 'Warehouse_block_C',\n",
       "       'Warehouse_block_D', 'Warehouse_block_F', 'Mode_of_Shipment_Flight',\n",
       "       'Mode_of_Shipment_Road', 'Mode_of_Shipment_Ship',\n",
       "       'Product_importance_high', 'Product_importance_low',\n",
       "       'Product_importance_medium'],\n",
       "      dtype='object')"
      ]
     },
     "execution_count": 34,
     "metadata": {},
     "output_type": "execute_result"
    }
   ],
   "source": [
    "df_onehot.columns"
   ]
  },
  {
   "cell_type": "markdown",
   "id": "13ac9404",
   "metadata": {},
   "source": [
    "## target data one-hot encoding and then set the X and y\n",
    "\n",
    "카테고리로 되어있는 데이터들을 원핫인코딩을 진행하기로 했다."
   ]
  },
  {
   "cell_type": "code",
   "execution_count": 36,
   "id": "2cd9defe",
   "metadata": {},
   "outputs": [],
   "source": [
    "X = df_onehot[['Customer_care_calls', 'Cost_of_the_Product', 'Prior_purchases',\n",
    "       'Discount_offered', 'Weight_in_gms',\n",
    "       'Warehouse_block_A', 'Warehouse_block_B', 'Warehouse_block_C',\n",
    "       'Warehouse_block_D', 'Warehouse_block_F', 'Mode_of_Shipment_Flight',\n",
    "       'Mode_of_Shipment_Road', 'Mode_of_Shipment_Ship',\n",
    "       'Product_importance_high', 'Product_importance_low',\n",
    "       'Product_importance_medium']]\n",
    "y = df_onehot['Reached.on.Time_Y.N']"
   ]
  },
  {
   "cell_type": "code",
   "execution_count": 37,
   "id": "7ba4a63c",
   "metadata": {},
   "outputs": [
    {
     "name": "stdout",
     "output_type": "stream",
     "text": [
      "[[0. 1.]\n",
      " [0. 1.]\n",
      " [0. 1.]\n",
      " ...\n",
      " [1. 0.]\n",
      " [1. 0.]\n",
      " [1. 0.]]\n"
     ]
    }
   ],
   "source": [
    "from tensorflow.keras.utils import to_categorical\n",
    "\n",
    "y_hot = to_categorical(y)\n",
    "print(y_hot)"
   ]
  },
  {
   "cell_type": "markdown",
   "id": "47fb264d",
   "metadata": {},
   "source": [
    "## feature dimension "
   ]
  },
  {
   "cell_type": "code",
   "execution_count": 38,
   "id": "cc4cb130",
   "metadata": {},
   "outputs": [
    {
     "name": "stdout",
     "output_type": "stream",
     "text": [
      "(10999, 16)\n"
     ]
    }
   ],
   "source": [
    "print(X.shape)"
   ]
  },
  {
   "cell_type": "markdown",
   "id": "d8119042",
   "metadata": {},
   "source": [
    "## target data classes\n",
    "\n",
    "타깃 데이터 종류를 확인하는 것으로 분류 문제인지 회귀 문제인지 구분할 수 있다. 연속형 숫자이기 때문에 회귀문제로 해결해야 함을 알 수 있다."
   ]
  },
  {
   "cell_type": "code",
   "execution_count": 39,
   "id": "e2598fdd",
   "metadata": {},
   "outputs": [
    {
     "name": "stdout",
     "output_type": "stream",
     "text": [
      "{0, 1}\n"
     ]
    }
   ],
   "source": [
    "print(set(y))"
   ]
  },
  {
   "cell_type": "markdown",
   "id": "9caf5889",
   "metadata": {},
   "source": [
    "## Split Training and Test Data"
   ]
  },
  {
   "cell_type": "code",
   "execution_count": 56,
   "id": "ed9bdfea",
   "metadata": {},
   "outputs": [],
   "source": [
    "from sklearn.model_selection import train_test_split\n",
    "\n",
    "X_tn, X_te, y_tn, y_te = train_test_split(X, y_hot, random_state = 0)"
   ]
  },
  {
   "cell_type": "markdown",
   "id": "11faa74e",
   "metadata": {},
   "source": [
    "# Building Perceptron"
   ]
  },
  {
   "cell_type": "code",
   "execution_count": 57,
   "id": "5912bc88",
   "metadata": {},
   "outputs": [],
   "source": [
    "import os\n",
    "os.environ['TF_CPP_MIN_LOG_LEVEL'] = '2'"
   ]
  },
  {
   "cell_type": "code",
   "execution_count": 60,
   "id": "56b8545b",
   "metadata": {
    "scrolled": true
   },
   "outputs": [],
   "source": [
    "from tensorflow.keras.models import Sequential         # 신경망 생성\n",
    "from tensorflow.keras.layers import Dense              # 신경망 층 추가\n",
    "from tensorflow.keras.layers import BatchNormalization # 배치 정규화\n",
    "from tensorflow.keras.layers import Activation         # 활성화 함수 사용\n",
    "\n",
    "n_feat = X_tn.shape[1]              # 신경망에 사용되는 피처 개수 (현재 데이터: 16개)\n",
    "n_class = len(set(y))               # 클래스 개수 (현재 데이터: 2개)\n",
    "epo = 30                            # 학습횟수 30. 30단계로 학습 진행\n",
    "\n",
    "model = Sequential()                # 초기 모형 생성.\n",
    "model.add(Dense(20, input_dim = n_feat)) # add로 입력층 추가, *input_dim = 피처개수, 20은 output 차원\n",
    "model.add(BatchNormalization())     # 배치 정규화\n",
    "model.add(Activation('relu'))       # 활성화 함수 reLU\n",
    "model.add(Dense(n_class))           # 최종 아웃풋 층. 클래스 개수인 2개로 구분되도록.\n",
    "model.add(Activation('softmax'))    # 활성화 함수 softmax"
   ]
  },
  {
   "cell_type": "code",
   "execution_count": 61,
   "id": "4f73147f",
   "metadata": {},
   "outputs": [
    {
     "name": "stdout",
     "output_type": "stream",
     "text": [
      "Model: \"sequential_5\"\n",
      "_________________________________________________________________\n",
      " Layer (type)                Output Shape              Param #   \n",
      "=================================================================\n",
      " dense_8 (Dense)             (None, 20)                340       \n",
      "                                                                 \n",
      " batch_normalization_5 (Batc  (None, 20)               80        \n",
      " hNormalization)                                                 \n",
      "                                                                 \n",
      " activation_8 (Activation)   (None, 20)                0         \n",
      "                                                                 \n",
      " dense_9 (Dense)             (None, 2)                 42        \n",
      "                                                                 \n",
      " activation_9 (Activation)   (None, 2)                 0         \n",
      "                                                                 \n",
      "=================================================================\n",
      "Total params: 462\n",
      "Trainable params: 422\n",
      "Non-trainable params: 40\n",
      "_________________________________________________________________\n"
     ]
    }
   ],
   "source": [
    "model.summary()"
   ]
  },
  {
   "cell_type": "markdown",
   "id": "c5242d67",
   "metadata": {},
   "source": [
    "## model compile"
   ]
  },
  {
   "cell_type": "code",
   "execution_count": 62,
   "id": "2ec8aeb8",
   "metadata": {},
   "outputs": [],
   "source": [
    "model.compile(loss = 'binary_crossentropy',  # 손실함수: 이진은 binary, 이상은 categorical\n",
    "             optimizer = 'adam',                  # 옵티마이저와 평가 기준\n",
    "             metrics = ['accuracy'])"
   ]
  },
  {
   "cell_type": "markdown",
   "id": "935b784a",
   "metadata": {},
   "source": [
    "## model learning"
   ]
  },
  {
   "cell_type": "code",
   "execution_count": 63,
   "id": "efc1c290",
   "metadata": {},
   "outputs": [
    {
     "data": {
      "text/plain": [
       "Customer_care_calls          0\n",
       "Cost_of_the_Product          0\n",
       "Prior_purchases              0\n",
       "Discount_offered             0\n",
       "Weight_in_gms                0\n",
       "Warehouse_block_A            0\n",
       "Warehouse_block_B            0\n",
       "Warehouse_block_C            0\n",
       "Warehouse_block_D            0\n",
       "Warehouse_block_F            0\n",
       "Mode_of_Shipment_Flight      0\n",
       "Mode_of_Shipment_Road        0\n",
       "Mode_of_Shipment_Ship        0\n",
       "Product_importance_high      0\n",
       "Product_importance_low       0\n",
       "Product_importance_medium    0\n",
       "dtype: int64"
      ]
     },
     "execution_count": 63,
     "metadata": {},
     "output_type": "execute_result"
    }
   ],
   "source": [
    "X.isna().sum()"
   ]
  },
  {
   "cell_type": "markdown",
   "id": "9413d42d",
   "metadata": {},
   "source": [
    "중간에 트레이닝 데이터와 테스트 데이터 나누는데 원핫인코딩이 아니라 그냥 y를 넣는 바람에\n",
    "\n",
    "```ValueError: `logits` and `labels` must have the same shape, received ((None, 2) vs (None, 1)).```\n",
    "이런 오류가 떠서 잠시 헤맸다."
   ]
  },
  {
   "cell_type": "code",
   "execution_count": 65,
   "id": "0b7ab783",
   "metadata": {
    "scrolled": true
   },
   "outputs": [
    {
     "name": "stdout",
     "output_type": "stream",
     "text": [
      "Epoch 1/30\n",
      "825/825 [==============================] - 2s 3ms/step - loss: 0.5647 - accuracy: 0.6454\n",
      "Epoch 2/30\n",
      "825/825 [==============================] - 3s 4ms/step - loss: 0.5613 - accuracy: 0.6425\n",
      "Epoch 3/30\n",
      "825/825 [==============================] - 3s 4ms/step - loss: 0.5602 - accuracy: 0.6446\n",
      "Epoch 4/30\n",
      "825/825 [==============================] - 3s 4ms/step - loss: 0.5556 - accuracy: 0.6478\n",
      "Epoch 5/30\n",
      "825/825 [==============================] - 3s 3ms/step - loss: 0.5543 - accuracy: 0.6500\n",
      "Epoch 6/30\n",
      "825/825 [==============================] - 2s 3ms/step - loss: 0.5556 - accuracy: 0.6522\n",
      "Epoch 7/30\n",
      "825/825 [==============================] - 2s 3ms/step - loss: 0.5527 - accuracy: 0.6537\n",
      "Epoch 8/30\n",
      "825/825 [==============================] - 3s 3ms/step - loss: 0.5523 - accuracy: 0.6487\n",
      "Epoch 9/30\n",
      "825/825 [==============================] - 2s 3ms/step - loss: 0.5569 - accuracy: 0.6461\n",
      "Epoch 10/30\n",
      "825/825 [==============================] - 2s 3ms/step - loss: 0.5506 - accuracy: 0.6509\n",
      "Epoch 11/30\n",
      "825/825 [==============================] - 2s 3ms/step - loss: 0.5521 - accuracy: 0.6503\n",
      "Epoch 12/30\n",
      "825/825 [==============================] - 2s 3ms/step - loss: 0.5482 - accuracy: 0.6568\n",
      "Epoch 13/30\n",
      "825/825 [==============================] - 2s 3ms/step - loss: 0.5492 - accuracy: 0.6515\n",
      "Epoch 14/30\n",
      "825/825 [==============================] - 2s 3ms/step - loss: 0.5519 - accuracy: 0.6521\n",
      "Epoch 15/30\n",
      "825/825 [==============================] - 3s 3ms/step - loss: 0.5569 - accuracy: 0.6466\n",
      "Epoch 16/30\n",
      "825/825 [==============================] - 3s 3ms/step - loss: 0.5528 - accuracy: 0.6517\n",
      "Epoch 17/30\n",
      "825/825 [==============================] - 2s 3ms/step - loss: 0.5538 - accuracy: 0.6497\n",
      "Epoch 18/30\n",
      "825/825 [==============================] - 2s 3ms/step - loss: 0.5510 - accuracy: 0.6578\n",
      "Epoch 19/30\n",
      "825/825 [==============================] - 2s 2ms/step - loss: 0.5521 - accuracy: 0.6482\n",
      "Epoch 20/30\n",
      "825/825 [==============================] - 2s 3ms/step - loss: 0.5515 - accuracy: 0.6510\n",
      "Epoch 21/30\n",
      "825/825 [==============================] - 2s 3ms/step - loss: 0.5526 - accuracy: 0.6511\n",
      "Epoch 22/30\n",
      "825/825 [==============================] - 2s 2ms/step - loss: 0.5511 - accuracy: 0.6532\n",
      "Epoch 23/30\n",
      "825/825 [==============================] - 2s 2ms/step - loss: 0.5529 - accuracy: 0.6549\n",
      "Epoch 24/30\n",
      "825/825 [==============================] - 2s 2ms/step - loss: 0.5512 - accuracy: 0.6529\n",
      "Epoch 25/30\n",
      "825/825 [==============================] - 2s 2ms/step - loss: 0.5516 - accuracy: 0.6534\n",
      "Epoch 26/30\n",
      "825/825 [==============================] - 2s 2ms/step - loss: 0.5497 - accuracy: 0.6569\n",
      "Epoch 27/30\n",
      "825/825 [==============================] - 2s 2ms/step - loss: 0.5493 - accuracy: 0.6575\n",
      "Epoch 28/30\n",
      "825/825 [==============================] - 2s 2ms/step - loss: 0.5528 - accuracy: 0.6530\n",
      "Epoch 29/30\n",
      "825/825 [==============================] - 2s 2ms/step - loss: 0.5515 - accuracy: 0.6541\n",
      "Epoch 30/30\n",
      "825/825 [==============================] - 2s 2ms/step - loss: 0.5490 - accuracy: 0.6560\n"
     ]
    }
   ],
   "source": [
    "hist = model.fit(X_tn, y_tn, epochs = epo, batch_size = 10)  # batch_size: learning mini batch size at one ephoch"
   ]
  },
  {
   "cell_type": "markdown",
   "id": "cfe3cd5b",
   "metadata": {},
   "source": [
    "정확도가 일정 수준에서 더이상 상승하지 않아서 중단하고, 배치사이즈를 10으로 해본다.\n",
    "\n",
    "# evaluation\n",
    "\n",
    "정확도를 책정해본다."
   ]
  },
  {
   "cell_type": "code",
   "execution_count": 66,
   "id": "0cf6b796",
   "metadata": {},
   "outputs": [
    {
     "name": "stdout",
     "output_type": "stream",
     "text": [
      "258/258 [==============================] - 1s 2ms/step - loss: 0.5690 - accuracy: 0.6777\n",
      "0.6776579022407532\n",
      "86/86 [==============================] - 0s 3ms/step - loss: 0.5753 - accuracy: 0.6742\n",
      "0.6741818189620972\n"
     ]
    }
   ],
   "source": [
    "print(model.evaluate(X_tn, y_tn)[1])\n",
    "print(model.evaluate(X_te, y_te)[1])"
   ]
  },
  {
   "cell_type": "markdown",
   "id": "ecd9951f",
   "metadata": {},
   "source": [
    "좋은 결과는 아닌 것으로 보인다.\n",
    "\n",
    "## Accuracy and loss rate\n",
    "\n",
    "epoch 별로 그래프를 그리기 쉬워지도록 범위설정하는 arange 함수를 사용한다."
   ]
  },
  {
   "cell_type": "code",
   "execution_count": 67,
   "id": "82f84e08",
   "metadata": {},
   "outputs": [
    {
     "name": "stdout",
     "output_type": "stream",
     "text": [
      "[ 1  2  3  4  5  6  7  8  9 10 11 12 13 14 15 16 17 18 19 20 21 22 23 24\n",
      " 25 26 27 28 29 30]\n"
     ]
    }
   ],
   "source": [
    "import numpy as np\n",
    "epoch = np.arange(1, epo +1)               # x축 설정\n",
    "print(epoch)"
   ]
  },
  {
   "cell_type": "code",
   "execution_count": 68,
   "id": "84610fc9",
   "metadata": {},
   "outputs": [
    {
     "name": "stdout",
     "output_type": "stream",
     "text": [
      "[0.6454115509986877, 0.6425021290779114, 0.6445629596710205, 0.6478360891342163, 0.6500181555747986, 0.6522002816200256, 0.6536549925804138, 0.6486846804618835, 0.6461389064788818, 0.6508667469024658, 0.6502606272697449, 0.6568068861961365, 0.6514729261398315, 0.6520790457725525, 0.6466238498687744, 0.6517153382301331, 0.6496545076370239, 0.6577767133712769, 0.6481997966766357, 0.650987982749939, 0.6511092185974121, 0.653170108795166, 0.6548672318458557, 0.6529276371002197, 0.6534125208854675, 0.6569281220436096, 0.6575342416763306, 0.6530488729476929, 0.6541398763656616, 0.6559582948684692]\n"
     ]
    }
   ],
   "source": [
    "accuracy = hist.history['accuracy']        # 학습시켰던 모형에서 history를 이용하여 데려올 수 있다. 에포크 별 정확도를 알 수 있다.\n",
    "print(accuracy)"
   ]
  },
  {
   "cell_type": "code",
   "execution_count": 69,
   "id": "dcf6fba1",
   "metadata": {},
   "outputs": [
    {
     "name": "stdout",
     "output_type": "stream",
     "text": [
      "[0.564698338508606, 0.5612615346908569, 0.5602054595947266, 0.555557906627655, 0.5542870759963989, 0.5555774569511414, 0.5526782870292664, 0.5522850751876831, 0.5569313168525696, 0.5506097674369812, 0.5520685315132141, 0.5482234358787537, 0.5491713881492615, 0.5519165396690369, 0.5568854808807373, 0.5527695417404175, 0.5537850856781006, 0.551030158996582, 0.5521168112754822, 0.5515295267105103, 0.5525773167610168, 0.5510694980621338, 0.5528531670570374, 0.5512006878852844, 0.5516085028648376, 0.5497162342071533, 0.5493059158325195, 0.5527685284614563, 0.5514956712722778, 0.5490450263023376]\n"
     ]
    }
   ],
   "source": [
    "loss = hist.history['loss']                # 학습시켰던 모형에서 history를 이용하여 데려올 수 있다. 에포크 별 손실정도를 알 수 있다.\n",
    "print(loss)"
   ]
  },
  {
   "cell_type": "markdown",
   "id": "bf8717de",
   "metadata": {},
   "source": [
    "## Accuracy and loss rate visualization"
   ]
  },
  {
   "cell_type": "code",
   "execution_count": 70,
   "id": "3ea60a2f",
   "metadata": {},
   "outputs": [
    {
     "data": {
      "image/png": "[encoded data removed]",
      "text/plain": [
       "<Figure size 432x288 with 1 Axes>"
      ]
     },
     "metadata": {
      "needs_background": "light"
     },
     "output_type": "display_data"
    }
   ],
   "source": [
    "import matplotlib.pyplot as plt\n",
    "\n",
    "plt.plot(epoch, accuracy, label = 'accuracy')\n",
    "plt.xlabel('epoch')\n",
    "plt.ylabel('accuracy')\n",
    "plt.legend()\n",
    "plt.show()"
   ]
  },
  {
   "cell_type": "code",
   "execution_count": 71,
   "id": "57c51c44",
   "metadata": {},
   "outputs": [
    {
     "data": {
      "image/png": "[encoded data removed]",
      "text/plain": [
       "<Figure size 432x288 with 1 Axes>"
      ]
     },
     "metadata": {
      "needs_background": "light"
     },
     "output_type": "display_data"
    }
   ],
   "source": [
    "plt.plot(epoch, loss, 'r', label = 'loss')    # plot color = r[ed]\n",
    "plt.xlabel('epoch')\n",
    "plt.ylabel('loss')\n",
    "plt.legend()\n",
    "plt.show()"
   ]
  },
  {
   "cell_type": "markdown",
   "id": "4a60a2df",
   "metadata": {},
   "source": [
    "# Whole code\n",
    "\n",
    "활성화 함수를 reLu 에서 선형함수로 바꾸었다. 항등함수(identity function)가 linear function으로 불리우기도 한다.\n",
    "\n",
    "물론 최종 출력층에서 회귀문제는 자동으로 선형이 지정된다고는 하지만 어떤 결과가 나올지 궁금하기도 하니까 말이다.\n",
    "\n",
    "boston 집값 데이터가 사라질 것을 대비하여 데려오는 방식을 달리해두었다. "
   ]
  },
  {
   "cell_type": "code",
   "execution_count": null,
   "id": "1f09c396",
   "metadata": {
    "scrolled": true
   },
   "outputs": [],
   "source": [
    "import numpy as np\n",
    "import pandas as pd\n",
    "import tensorflow as tf\n",
    "import keras\n",
    "\n",
    "np.random.seed(0)\n",
    "tf.random.set_seed(0)\n",
    "\n",
    "# version check\n",
    "print(\"numpy version:\", np.__version__)\n",
    "print(\"pandas version:\", np.__version__)\n",
    "print(\"tensorflow version:\", tf.__version__)\n",
    "print(\"keras version:\", keras.__version__)\n",
    "\n",
    "# data load\n",
    "data_url = \"http://lib.stat.cmu.edu/datasets/boston\"\n",
    "raw_boston = pd.read_csv(data_url, sep=\"\\s+\", skiprows=22, header=None)\n",
    "# data = np.hstack([raw_boston.values[::2, :], raw_boston.values[1::2, :2]])\n",
    "# target = raw_boston.values[1::2, 2]\n",
    "X = np.hstack([raw_boston.values[::2, :], raw_boston.values[1::2, :2]])\n",
    "y = raw_boston.values[1::2, 2]\n",
    "\n",
    "# checking the feature dimension and target data\n",
    "print(\"-- X and target shape checking --\")\n",
    "print(X.shape)\n",
    "print(set(y))\n",
    "\n",
    "# split Training and Test Data\n",
    "from sklearn.model_selection import train_test_split\n",
    "X_tn, X_te, y_tn, y_te = train_test_split(X, y, random_state = 0)\n",
    "\n",
    "# building model\n",
    "import os\n",
    "os.environ['TF_CPP_MIN_LOG_LEVEL'] = '2'\n",
    "\n",
    "from tensorflow.keras.models import Sequential         # 신경망 생성\n",
    "from tensorflow.keras.layers import Dense              # 신경망 층 추가\n",
    "\n",
    "n_feat = X_tn.shape[1]              # 신경망에 사용되는 피처 개수 (현재 데이터: 13개)\n",
    "epo = 30                            # 학습횟수 30. 30단계로 학습 진행\n",
    "\n",
    "model = Sequential()                # 초기 모형 생성.\n",
    "model.add(Dense(20, input_dim = n_feat, activation = 'linear')) # add로 입력층 추가, *input_dim = 피처 개수, 20은 output 차원, 활성화 함수를 한 줄에 넣음.\n",
    "model.add(Dense(1))                 # 최종 아웃풋 층. 회귀문제로 1개의 노드로 출력되도록 한다. \n",
    "                                    # 회귀때 최종 활성화 함수를 선형 함수를 사용해야 하는데, 코드에서 지정하지 않으면 선형 함수가 적용된다.\n",
    "\n",
    "# model checking\n",
    "print(\"-- model summary --\")\n",
    "model.summary()\n",
    "\n",
    "# compile\n",
    "model.compile(loss = 'mean_squared_error',         # 손실함수: 회귀 문제이기 때문에 MSE를 사용\n",
    "              optimizer = 'adam',                  # 옵티마이저와 평가 기준\n",
    "              metrics = ['mean_squared_error'])\n",
    "\n",
    "# learning\n",
    "hist = model.fit(X_tn, y_tn, epochs = epo, batch_size = 5)  # batch_size: learning mini batch size at one ephoch\n",
    "\n",
    "# evaluation by MSE value\n",
    "print(\"-- model evaluate with train data by MSE value --\")\n",
    "print(model.evaluate(X_tn, y_tn)[1])\n",
    "print(\"-- model evaluate with test data by MSE value --\")\n",
    "print(model.evaluate(X_te, y_te)[1])\n",
    "\n",
    "# MSE and loss for dataframe\n",
    "epoch = np.arange(1, epo +1)                   # x축 설정\n",
    "# print(epoch)\n",
    "mse = hist.history['mean_squared_error']       # 학습시켰던 모형에서 history를 이용하여 데려올 수 있다. 에포크 별 정확도를 알 수 있다.\n",
    "# print(mse)\n",
    "loss = hist.history['loss']                    # 학습시켰던 모형에서 history를 이용하여 데려올 수 있다. 에포크 별 손실정도를 알 수 있다.\n",
    "# print(loss)\n",
    "\n",
    "# MSE and loss rate visualization\n",
    "import matplotlib.pyplot as plt\n",
    "\n",
    "plt.plot(epoch, mse, label = 'mse')\n",
    "plt.xlabel('epoch')\n",
    "plt.ylabel('mean_squared_error')\n",
    "plt.legend()\n",
    "plt.title(\"Mean Squared Error By Epoch\")\n",
    "plt.show()\n",
    "\n",
    "plt.plot(epoch, loss, 'r', label = 'loss')    # plot color = r[ed]\n",
    "plt.xlabel('epoch')\n",
    "plt.ylabel('loss')\n",
    "plt.legend()\n",
    "plt.title(\"Loss By Epoch\")\n",
    "plt.show()\n",
    "\n",
    "# Predicted Data and Real Data check\n",
    "# predict 메소드로 테스트 데이터를 넣고 예측값을 구한다. flatten 메소드로 예측값을 펼친다.(DataFrame 만들것)\n",
    "pred_y = model.predict(X_te).flatten()\n",
    "print(pred_y)\n",
    "# pred_y와 real_val을 한 데이터 프레임에 넣기\n",
    "res_df = pd.DataFrame(pred_y, columns = ['predict_val'])\n",
    "res_df['real_val'] = y_te\n",
    "# res_df.head(3)\n",
    "# sorting values for visualization\n",
    "df_sort = res_df.sort_values(['predict_val'], ascending = True)\n",
    "# df_sort.head(3)\n",
    "\n",
    "# Predicted Data and Real Data visualization\n",
    "idx = np.arange(1, len(df_sort)+1)             # x축 생성\n",
    "plt.scatter(idx, df_sort['real_val'], marker = '.', label = 'real_val')\n",
    "plt.plot(idx, df_sort['predict_val'], color = 'r', label = 'predict_val')\n",
    "plt.xlabel('index')\n",
    "plt.ylabel('value')\n",
    "plt.legend()\n",
    "plt.show()"
   ]
  },
  {
   "cell_type": "markdown",
   "id": "02c8193b",
   "metadata": {},
   "source": [
    "```\n",
    "previous MSE and loss\n",
    " \n",
    " 12/12 [==============================] - 0s 2ms/step - loss: 51.5557 - mean_squared_error: 51.5557\n",
    "51.55571365356445\n",
    "4/4 [==============================] - 0s 2ms/step - loss: 73.9725 - mean_squared_error: 73.9725\n",
    "73.97251892089844\n",
    "\n",
    " this(linear) MSE and loss\n",
    " \n",
    "12/12 [==============================] - 0s 3ms/step - loss: 44.8637 - mean_squared_error: 44.8637\n",
    "44.8636589050293\n",
    "4/4 [==============================] - 0s 2ms/step - loss: 60.2318 - mean_squared_error: 60.2318\n",
    "60.231815338134766\n",
    "\n",
    "```\n",
    "\n",
    "MSE도 줄어들고 loss도 많이 줄어들었다. 물론 그래프로 시각화한 결과는 그닥 마음에 드는 결과는 아니다. 그래프로만 보아도 분석하기에 어려운 outlier가 존재하는 것으로 예상된다.\n",
    "\n",
    "아래는, 중간에 활성화 함수 파라미터 적는 것좀 찾아보기 위해 검색하다 닿은 블로그 참조하였다.: https://muzukphysics.tistory.com/165\n",
    "\n",
    " 아무튼, ReLU를 선호하는 이유가 있을 것이라고 생각된다. 시그모이드는 그래디언트 소실문제, 그를 보완할 수 있는 하이퍼볼릭 탄젠트도 그래디언트 소실문제를 막을 수는 없다는 것, 렐루는 그래디언트 소실 문제가 발생하지 않고 학습속도가 빠르지만(하이퍼볼릭 탄젠트 대비 약 6배) 음수를 데이터로 받을 경우 항상 0이기 때문에 학습능력이 떨어진다는 점, 그 음수에 관련한 문제를 보완한 것이 리키렐루. 소프트맥스는 출력값들의 합이 항상 1이 되도록 한다는 점에서 출력 노드의 활성화 함수로 많이 사용된다.\n",
    " \n",
    " \n",
    " "
   ]
  }
 ],
 "metadata": {
  "kernelspec": {
   "display_name": "Python 3 (ipykernel)",
   "language": "python",
   "name": "python3"
  },
  "language_info": {
   "codemirror_mode": {
    "name": "ipython",
    "version": 3
   },
   "file_extension": ".py",
   "mimetype": "text/x-python",
   "name": "python",
   "nbconvert_exporter": "python",
   "pygments_lexer": "ipython3",
   "version": "3.8.5"
  },
  "toc": {
   "base_numbering": 1,
   "nav_menu": {},
   "number_sections": true,
   "sideBar": true,
   "skip_h1_title": false,
   "title_cell": "Table of Contents",
   "title_sidebar": "Contents",
   "toc_cell": false,
   "toc_position": {},
   "toc_section_display": true,
   "toc_window_display": true
  }
 },
 "nbformat": 4,
 "nbformat_minor": 5
}

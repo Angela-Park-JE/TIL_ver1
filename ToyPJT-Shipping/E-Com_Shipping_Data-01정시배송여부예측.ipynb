{
 "cells": [
  {
   "cell_type": "markdown",
   "id": "1ce1c567",
   "metadata": {},
   "source": [
    "# E-Commerce_Shipping_Data in Kaggle\n",
    "\n",
    "분류 신경망 빌딩 연습겸 배송이 예상된 시간 내에 도착을 했는지 안했는지 예측하는 모델을 만들어보았다.\n",
    "\n",
    "https://www.kaggle.com/datasets/prachi13/customer-analytics\n",
    "\n",
    "해당 데이터로 딥러닝을 통한 예측을 연습해보기로 했다."
   ]
  },
  {
   "cell_type": "code",
   "execution_count": 1,
   "id": "64e0797a",
   "metadata": {},
   "outputs": [],
   "source": [
    "# code for model save and load \n",
    "\n",
    "# model.save('cnn_model2.h5')\n",
    "\n",
    "# from tensorflow.keras.models import load_model\n",
    "# cnn_model2 = load_model('cnn_model2.h5')"
   ]
  },
  {
   "cell_type": "markdown",
   "id": "cbf419ee",
   "metadata": {},
   "source": [
    "# Data and libraries\n",
    "\n",
    "일관된 결과를 위해 random seed를 0으로 고정한다.\n"
   ]
  },
  {
   "cell_type": "code",
   "execution_count": 2,
   "id": "78351b34",
   "metadata": {},
   "outputs": [
    {
     "name": "stdout",
     "output_type": "stream",
     "text": [
      "numpy version: 1.22.4\n",
      "pandas version: 1.22.4\n",
      "tensorflow version: 2.9.1\n",
      "keras version: 2.9.0\n"
     ]
    }
   ],
   "source": [
    "import numpy as np\n",
    "import pandas as pd\n",
    "import tensorflow as tf\n",
    "import keras\n",
    "\n",
    "np.random.seed(0)\n",
    "tf.random.set_seed(0)\n",
    "\n",
    "# version check\n",
    "print(\"numpy version:\", np.__version__)\n",
    "print(\"pandas version:\", np.__version__)\n",
    "print(\"tensorflow version:\", tf.__version__)\n",
    "print(\"keras version:\", keras.__version__)"
   ]
  },
  {
   "cell_type": "code",
   "execution_count": 3,
   "id": "cdab486d",
   "metadata": {
    "scrolled": false
   },
   "outputs": [
    {
     "data": {
      "text/html": [
       "<div>\n",
       "<style scoped>\n",
       "    .dataframe tbody tr th:only-of-type {\n",
       "        vertical-align: middle;\n",
       "    }\n",
       "\n",
       "    .dataframe tbody tr th {\n",
       "        vertical-align: top;\n",
       "    }\n",
       "\n",
       "    .dataframe thead th {\n",
       "        text-align: right;\n",
       "    }\n",
       "</style>\n",
       "<table border=\"1\" class=\"dataframe\">\n",
       "  <thead>\n",
       "    <tr style=\"text-align: right;\">\n",
       "      <th></th>\n",
       "      <th>ID</th>\n",
       "      <th>Warehouse_block</th>\n",
       "      <th>Mode_of_Shipment</th>\n",
       "      <th>Customer_care_calls</th>\n",
       "      <th>Customer_rating</th>\n",
       "      <th>Cost_of_the_Product</th>\n",
       "      <th>Prior_purchases</th>\n",
       "      <th>Product_importance</th>\n",
       "      <th>Gender</th>\n",
       "      <th>Discount_offered</th>\n",
       "      <th>Weight_in_gms</th>\n",
       "      <th>Reached.on.Time_Y.N</th>\n",
       "    </tr>\n",
       "  </thead>\n",
       "  <tbody>\n",
       "    <tr>\n",
       "      <th>0</th>\n",
       "      <td>1</td>\n",
       "      <td>D</td>\n",
       "      <td>Flight</td>\n",
       "      <td>4</td>\n",
       "      <td>2</td>\n",
       "      <td>177</td>\n",
       "      <td>3</td>\n",
       "      <td>low</td>\n",
       "      <td>F</td>\n",
       "      <td>44</td>\n",
       "      <td>1233</td>\n",
       "      <td>1</td>\n",
       "    </tr>\n",
       "    <tr>\n",
       "      <th>1</th>\n",
       "      <td>2</td>\n",
       "      <td>F</td>\n",
       "      <td>Flight</td>\n",
       "      <td>4</td>\n",
       "      <td>5</td>\n",
       "      <td>216</td>\n",
       "      <td>2</td>\n",
       "      <td>low</td>\n",
       "      <td>M</td>\n",
       "      <td>59</td>\n",
       "      <td>3088</td>\n",
       "      <td>1</td>\n",
       "    </tr>\n",
       "    <tr>\n",
       "      <th>2</th>\n",
       "      <td>3</td>\n",
       "      <td>A</td>\n",
       "      <td>Flight</td>\n",
       "      <td>2</td>\n",
       "      <td>2</td>\n",
       "      <td>183</td>\n",
       "      <td>4</td>\n",
       "      <td>low</td>\n",
       "      <td>M</td>\n",
       "      <td>48</td>\n",
       "      <td>3374</td>\n",
       "      <td>1</td>\n",
       "    </tr>\n",
       "    <tr>\n",
       "      <th>3</th>\n",
       "      <td>4</td>\n",
       "      <td>B</td>\n",
       "      <td>Flight</td>\n",
       "      <td>3</td>\n",
       "      <td>3</td>\n",
       "      <td>176</td>\n",
       "      <td>4</td>\n",
       "      <td>medium</td>\n",
       "      <td>M</td>\n",
       "      <td>10</td>\n",
       "      <td>1177</td>\n",
       "      <td>1</td>\n",
       "    </tr>\n",
       "    <tr>\n",
       "      <th>4</th>\n",
       "      <td>5</td>\n",
       "      <td>C</td>\n",
       "      <td>Flight</td>\n",
       "      <td>2</td>\n",
       "      <td>2</td>\n",
       "      <td>184</td>\n",
       "      <td>3</td>\n",
       "      <td>medium</td>\n",
       "      <td>F</td>\n",
       "      <td>46</td>\n",
       "      <td>2484</td>\n",
       "      <td>1</td>\n",
       "    </tr>\n",
       "    <tr>\n",
       "      <th>5</th>\n",
       "      <td>6</td>\n",
       "      <td>F</td>\n",
       "      <td>Flight</td>\n",
       "      <td>3</td>\n",
       "      <td>1</td>\n",
       "      <td>162</td>\n",
       "      <td>3</td>\n",
       "      <td>medium</td>\n",
       "      <td>F</td>\n",
       "      <td>12</td>\n",
       "      <td>1417</td>\n",
       "      <td>1</td>\n",
       "    </tr>\n",
       "    <tr>\n",
       "      <th>6</th>\n",
       "      <td>7</td>\n",
       "      <td>D</td>\n",
       "      <td>Flight</td>\n",
       "      <td>3</td>\n",
       "      <td>4</td>\n",
       "      <td>250</td>\n",
       "      <td>3</td>\n",
       "      <td>low</td>\n",
       "      <td>F</td>\n",
       "      <td>3</td>\n",
       "      <td>2371</td>\n",
       "      <td>1</td>\n",
       "    </tr>\n",
       "    <tr>\n",
       "      <th>7</th>\n",
       "      <td>8</td>\n",
       "      <td>F</td>\n",
       "      <td>Flight</td>\n",
       "      <td>4</td>\n",
       "      <td>1</td>\n",
       "      <td>233</td>\n",
       "      <td>2</td>\n",
       "      <td>low</td>\n",
       "      <td>F</td>\n",
       "      <td>48</td>\n",
       "      <td>2804</td>\n",
       "      <td>1</td>\n",
       "    </tr>\n",
       "    <tr>\n",
       "      <th>8</th>\n",
       "      <td>9</td>\n",
       "      <td>A</td>\n",
       "      <td>Flight</td>\n",
       "      <td>3</td>\n",
       "      <td>4</td>\n",
       "      <td>150</td>\n",
       "      <td>3</td>\n",
       "      <td>low</td>\n",
       "      <td>F</td>\n",
       "      <td>11</td>\n",
       "      <td>1861</td>\n",
       "      <td>1</td>\n",
       "    </tr>\n",
       "    <tr>\n",
       "      <th>9</th>\n",
       "      <td>10</td>\n",
       "      <td>B</td>\n",
       "      <td>Flight</td>\n",
       "      <td>3</td>\n",
       "      <td>2</td>\n",
       "      <td>164</td>\n",
       "      <td>3</td>\n",
       "      <td>medium</td>\n",
       "      <td>F</td>\n",
       "      <td>29</td>\n",
       "      <td>1187</td>\n",
       "      <td>1</td>\n",
       "    </tr>\n",
       "  </tbody>\n",
       "</table>\n",
       "</div>"
      ],
      "text/plain": [
       "   ID Warehouse_block Mode_of_Shipment  Customer_care_calls  Customer_rating  \\\n",
       "0   1               D           Flight                    4                2   \n",
       "1   2               F           Flight                    4                5   \n",
       "2   3               A           Flight                    2                2   \n",
       "3   4               B           Flight                    3                3   \n",
       "4   5               C           Flight                    2                2   \n",
       "5   6               F           Flight                    3                1   \n",
       "6   7               D           Flight                    3                4   \n",
       "7   8               F           Flight                    4                1   \n",
       "8   9               A           Flight                    3                4   \n",
       "9  10               B           Flight                    3                2   \n",
       "\n",
       "   Cost_of_the_Product  Prior_purchases Product_importance Gender  \\\n",
       "0                  177                3                low      F   \n",
       "1                  216                2                low      M   \n",
       "2                  183                4                low      M   \n",
       "3                  176                4             medium      M   \n",
       "4                  184                3             medium      F   \n",
       "5                  162                3             medium      F   \n",
       "6                  250                3                low      F   \n",
       "7                  233                2                low      F   \n",
       "8                  150                3                low      F   \n",
       "9                  164                3             medium      F   \n",
       "\n",
       "   Discount_offered  Weight_in_gms  Reached.on.Time_Y.N  \n",
       "0                44           1233                    1  \n",
       "1                59           3088                    1  \n",
       "2                48           3374                    1  \n",
       "3                10           1177                    1  \n",
       "4                46           2484                    1  \n",
       "5                12           1417                    1  \n",
       "6                 3           2371                    1  \n",
       "7                48           2804                    1  \n",
       "8                11           1861                    1  \n",
       "9                29           1187                    1  "
      ]
     },
     "execution_count": 3,
     "metadata": {},
     "output_type": "execute_result"
    }
   ],
   "source": [
    "# data load\n",
    "\n",
    "raw_data = pd.read_csv('/Users/Angela/Desktop/Personal/toy1_물류/Train_E-Commerce_Shipping_Data.csv')\n",
    "raw_data.head(10)"
   ]
  },
  {
   "cell_type": "code",
   "execution_count": 4,
   "id": "6501d50c",
   "metadata": {},
   "outputs": [
    {
     "data": {
      "text/plain": [
       "(10999, 12)"
      ]
     },
     "execution_count": 4,
     "metadata": {},
     "output_type": "execute_result"
    }
   ],
   "source": [
    "raw_data.shape"
   ]
  },
  {
   "cell_type": "code",
   "execution_count": 5,
   "id": "d200a4f6",
   "metadata": {},
   "outputs": [
    {
     "data": {
      "text/plain": [
       "Index(['ID', 'Warehouse_block', 'Mode_of_Shipment', 'Customer_care_calls',\n",
       "       'Customer_rating', 'Cost_of_the_Product', 'Prior_purchases',\n",
       "       'Product_importance', 'Gender', 'Discount_offered', 'Weight_in_gms',\n",
       "       'Reached.on.Time_Y.N'],\n",
       "      dtype='object')"
      ]
     },
     "execution_count": 5,
     "metadata": {},
     "output_type": "execute_result"
    }
   ],
   "source": [
    "raw_data.columns"
   ]
  },
  {
   "cell_type": "markdown",
   "id": "cd51c246",
   "metadata": {},
   "source": [
    "# Reached.on.Time_Y.N\n",
    "\n",
    "##  crop columns\n",
    "cost prediction에 필요할 것으로 생각되는 컬럼만 남긴다. "
   ]
  },
  {
   "cell_type": "code",
   "execution_count": 6,
   "id": "c62a58b7",
   "metadata": {
    "scrolled": true
   },
   "outputs": [],
   "source": [
    "# dataframe crop\n",
    "\n",
    "df = raw_data[['Warehouse_block', 'Mode_of_Shipment', 'Customer_care_calls',\n",
    "              'Cost_of_the_Product', 'Prior_purchases',\n",
    "              'Product_importance' , 'Discount_offered', 'Weight_in_gms',\n",
    "              'Reached.on.Time_Y.N']]"
   ]
  },
  {
   "cell_type": "code",
   "execution_count": 7,
   "id": "7fdfef77",
   "metadata": {},
   "outputs": [
    {
     "data": {
      "text/plain": [
       "Warehouse_block           5\n",
       "Mode_of_Shipment          3\n",
       "Customer_care_calls       6\n",
       "Cost_of_the_Product     215\n",
       "Prior_purchases           8\n",
       "Product_importance        3\n",
       "Discount_offered         65\n",
       "Weight_in_gms          4034\n",
       "Reached.on.Time_Y.N       2\n",
       "dtype: int64"
      ]
     },
     "execution_count": 7,
     "metadata": {},
     "output_type": "execute_result"
    }
   ],
   "source": [
    "df.nunique()"
   ]
  },
  {
   "cell_type": "markdown",
   "id": "374a3591",
   "metadata": {},
   "source": [
    "## categorial columns processing (one-hot encoding)\n",
    "\n",
    "Warehouse_block, Mode_of_Shipment, Product_importance"
   ]
  },
  {
   "cell_type": "code",
   "execution_count": 8,
   "id": "e5731895",
   "metadata": {},
   "outputs": [
    {
     "name": "stdout",
     "output_type": "stream",
     "text": [
      "<class 'pandas.core.frame.DataFrame'>\n",
      "RangeIndex: 10999 entries, 0 to 10998\n",
      "Data columns (total 9 columns):\n",
      " #   Column               Non-Null Count  Dtype \n",
      "---  ------               --------------  ----- \n",
      " 0   Warehouse_block      10999 non-null  object\n",
      " 1   Mode_of_Shipment     10999 non-null  object\n",
      " 2   Customer_care_calls  10999 non-null  int64 \n",
      " 3   Cost_of_the_Product  10999 non-null  int64 \n",
      " 4   Prior_purchases      10999 non-null  int64 \n",
      " 5   Product_importance   10999 non-null  object\n",
      " 6   Discount_offered     10999 non-null  int64 \n",
      " 7   Weight_in_gms        10999 non-null  int64 \n",
      " 8   Reached.on.Time_Y.N  10999 non-null  int64 \n",
      "dtypes: int64(6), object(3)\n",
      "memory usage: 773.5+ KB\n"
     ]
    }
   ],
   "source": [
    "df.info()"
   ]
  },
  {
   "cell_type": "markdown",
   "id": "b02f925e",
   "metadata": {},
   "source": [
    "# feature and target"
   ]
  },
  {
   "cell_type": "markdown",
   "id": "57afbe9a",
   "metadata": {},
   "source": [
    "\n",
    "참조: https://velog.io/@hyesoup/문자-카테고리형-데이터-처리-Label-Encoding-One-Hot-Encoding\n",
    "\n",
    "시도하려고 했으나 훨씬 쉬운 방법을 알아냈다. \n",
    "\n",
    "\n",
    "```\n",
    "# from sklearn.preprocessing import LabelEncoder\n",
    "# from sklearn.preprocessing import OneHotEncoder\n",
    "\n",
    "# items1 = df['Warehouse_block'].unique().tolist()\n",
    "# # items2 = df['Mode_of_Shipment'].unique().tolist()\n",
    "# # items3 = df['Product_importance'].unique().tolist()\n",
    "\n",
    "# # 먼저 LabelEncoder로 변환 \n",
    "# encoder = LabelEncoder()\n",
    "# encoder.fit(items1)\n",
    "# labels1 = encoder.transform(items1)\n",
    "\n",
    "# # 2차원 데이터로 변환 \n",
    "# labels1 = labels1.reshape(-1,1)\n",
    "\n",
    "# # 원-핫 인코딩을 적용\n",
    "# oh_encoder = OneHotEncoder()\n",
    "# oh_encoder.fit(labels1)\n",
    "# oh_labels1 = oh_encoder.transform(labels1)\n",
    "```"
   ]
  },
  {
   "cell_type": "code",
   "execution_count": 9,
   "id": "2f22d252",
   "metadata": {
    "scrolled": true
   },
   "outputs": [
    {
     "data": {
      "text/html": [
       "<div>\n",
       "<style scoped>\n",
       "    .dataframe tbody tr th:only-of-type {\n",
       "        vertical-align: middle;\n",
       "    }\n",
       "\n",
       "    .dataframe tbody tr th {\n",
       "        vertical-align: top;\n",
       "    }\n",
       "\n",
       "    .dataframe thead th {\n",
       "        text-align: right;\n",
       "    }\n",
       "</style>\n",
       "<table border=\"1\" class=\"dataframe\">\n",
       "  <thead>\n",
       "    <tr style=\"text-align: right;\">\n",
       "      <th></th>\n",
       "      <th>Customer_care_calls</th>\n",
       "      <th>Cost_of_the_Product</th>\n",
       "      <th>Prior_purchases</th>\n",
       "      <th>Discount_offered</th>\n",
       "      <th>Weight_in_gms</th>\n",
       "      <th>Reached.on.Time_Y.N</th>\n",
       "      <th>Warehouse_block_A</th>\n",
       "      <th>Warehouse_block_B</th>\n",
       "      <th>Warehouse_block_C</th>\n",
       "      <th>Warehouse_block_D</th>\n",
       "      <th>Warehouse_block_F</th>\n",
       "      <th>Mode_of_Shipment_Flight</th>\n",
       "      <th>Mode_of_Shipment_Road</th>\n",
       "      <th>Mode_of_Shipment_Ship</th>\n",
       "      <th>Product_importance_high</th>\n",
       "      <th>Product_importance_low</th>\n",
       "      <th>Product_importance_medium</th>\n",
       "    </tr>\n",
       "  </thead>\n",
       "  <tbody>\n",
       "    <tr>\n",
       "      <th>0</th>\n",
       "      <td>4</td>\n",
       "      <td>177</td>\n",
       "      <td>3</td>\n",
       "      <td>44</td>\n",
       "      <td>1233</td>\n",
       "      <td>1</td>\n",
       "      <td>0</td>\n",
       "      <td>0</td>\n",
       "      <td>0</td>\n",
       "      <td>1</td>\n",
       "      <td>0</td>\n",
       "      <td>1</td>\n",
       "      <td>0</td>\n",
       "      <td>0</td>\n",
       "      <td>0</td>\n",
       "      <td>1</td>\n",
       "      <td>0</td>\n",
       "    </tr>\n",
       "    <tr>\n",
       "      <th>1</th>\n",
       "      <td>4</td>\n",
       "      <td>216</td>\n",
       "      <td>2</td>\n",
       "      <td>59</td>\n",
       "      <td>3088</td>\n",
       "      <td>1</td>\n",
       "      <td>0</td>\n",
       "      <td>0</td>\n",
       "      <td>0</td>\n",
       "      <td>0</td>\n",
       "      <td>1</td>\n",
       "      <td>1</td>\n",
       "      <td>0</td>\n",
       "      <td>0</td>\n",
       "      <td>0</td>\n",
       "      <td>1</td>\n",
       "      <td>0</td>\n",
       "    </tr>\n",
       "    <tr>\n",
       "      <th>2</th>\n",
       "      <td>2</td>\n",
       "      <td>183</td>\n",
       "      <td>4</td>\n",
       "      <td>48</td>\n",
       "      <td>3374</td>\n",
       "      <td>1</td>\n",
       "      <td>1</td>\n",
       "      <td>0</td>\n",
       "      <td>0</td>\n",
       "      <td>0</td>\n",
       "      <td>0</td>\n",
       "      <td>1</td>\n",
       "      <td>0</td>\n",
       "      <td>0</td>\n",
       "      <td>0</td>\n",
       "      <td>1</td>\n",
       "      <td>0</td>\n",
       "    </tr>\n",
       "    <tr>\n",
       "      <th>3</th>\n",
       "      <td>3</td>\n",
       "      <td>176</td>\n",
       "      <td>4</td>\n",
       "      <td>10</td>\n",
       "      <td>1177</td>\n",
       "      <td>1</td>\n",
       "      <td>0</td>\n",
       "      <td>1</td>\n",
       "      <td>0</td>\n",
       "      <td>0</td>\n",
       "      <td>0</td>\n",
       "      <td>1</td>\n",
       "      <td>0</td>\n",
       "      <td>0</td>\n",
       "      <td>0</td>\n",
       "      <td>0</td>\n",
       "      <td>1</td>\n",
       "    </tr>\n",
       "    <tr>\n",
       "      <th>4</th>\n",
       "      <td>2</td>\n",
       "      <td>184</td>\n",
       "      <td>3</td>\n",
       "      <td>46</td>\n",
       "      <td>2484</td>\n",
       "      <td>1</td>\n",
       "      <td>0</td>\n",
       "      <td>0</td>\n",
       "      <td>1</td>\n",
       "      <td>0</td>\n",
       "      <td>0</td>\n",
       "      <td>1</td>\n",
       "      <td>0</td>\n",
       "      <td>0</td>\n",
       "      <td>0</td>\n",
       "      <td>0</td>\n",
       "      <td>1</td>\n",
       "    </tr>\n",
       "    <tr>\n",
       "      <th>...</th>\n",
       "      <td>...</td>\n",
       "      <td>...</td>\n",
       "      <td>...</td>\n",
       "      <td>...</td>\n",
       "      <td>...</td>\n",
       "      <td>...</td>\n",
       "      <td>...</td>\n",
       "      <td>...</td>\n",
       "      <td>...</td>\n",
       "      <td>...</td>\n",
       "      <td>...</td>\n",
       "      <td>...</td>\n",
       "      <td>...</td>\n",
       "      <td>...</td>\n",
       "      <td>...</td>\n",
       "      <td>...</td>\n",
       "      <td>...</td>\n",
       "    </tr>\n",
       "    <tr>\n",
       "      <th>10994</th>\n",
       "      <td>4</td>\n",
       "      <td>252</td>\n",
       "      <td>5</td>\n",
       "      <td>1</td>\n",
       "      <td>1538</td>\n",
       "      <td>1</td>\n",
       "      <td>1</td>\n",
       "      <td>0</td>\n",
       "      <td>0</td>\n",
       "      <td>0</td>\n",
       "      <td>0</td>\n",
       "      <td>0</td>\n",
       "      <td>0</td>\n",
       "      <td>1</td>\n",
       "      <td>0</td>\n",
       "      <td>0</td>\n",
       "      <td>1</td>\n",
       "    </tr>\n",
       "    <tr>\n",
       "      <th>10995</th>\n",
       "      <td>4</td>\n",
       "      <td>232</td>\n",
       "      <td>5</td>\n",
       "      <td>6</td>\n",
       "      <td>1247</td>\n",
       "      <td>0</td>\n",
       "      <td>0</td>\n",
       "      <td>1</td>\n",
       "      <td>0</td>\n",
       "      <td>0</td>\n",
       "      <td>0</td>\n",
       "      <td>0</td>\n",
       "      <td>0</td>\n",
       "      <td>1</td>\n",
       "      <td>0</td>\n",
       "      <td>0</td>\n",
       "      <td>1</td>\n",
       "    </tr>\n",
       "    <tr>\n",
       "      <th>10996</th>\n",
       "      <td>5</td>\n",
       "      <td>242</td>\n",
       "      <td>5</td>\n",
       "      <td>4</td>\n",
       "      <td>1155</td>\n",
       "      <td>0</td>\n",
       "      <td>0</td>\n",
       "      <td>0</td>\n",
       "      <td>1</td>\n",
       "      <td>0</td>\n",
       "      <td>0</td>\n",
       "      <td>0</td>\n",
       "      <td>0</td>\n",
       "      <td>1</td>\n",
       "      <td>0</td>\n",
       "      <td>1</td>\n",
       "      <td>0</td>\n",
       "    </tr>\n",
       "    <tr>\n",
       "      <th>10997</th>\n",
       "      <td>5</td>\n",
       "      <td>223</td>\n",
       "      <td>6</td>\n",
       "      <td>2</td>\n",
       "      <td>1210</td>\n",
       "      <td>0</td>\n",
       "      <td>0</td>\n",
       "      <td>0</td>\n",
       "      <td>0</td>\n",
       "      <td>0</td>\n",
       "      <td>1</td>\n",
       "      <td>0</td>\n",
       "      <td>0</td>\n",
       "      <td>1</td>\n",
       "      <td>0</td>\n",
       "      <td>0</td>\n",
       "      <td>1</td>\n",
       "    </tr>\n",
       "    <tr>\n",
       "      <th>10998</th>\n",
       "      <td>2</td>\n",
       "      <td>155</td>\n",
       "      <td>5</td>\n",
       "      <td>6</td>\n",
       "      <td>1639</td>\n",
       "      <td>0</td>\n",
       "      <td>0</td>\n",
       "      <td>0</td>\n",
       "      <td>0</td>\n",
       "      <td>1</td>\n",
       "      <td>0</td>\n",
       "      <td>0</td>\n",
       "      <td>0</td>\n",
       "      <td>1</td>\n",
       "      <td>0</td>\n",
       "      <td>1</td>\n",
       "      <td>0</td>\n",
       "    </tr>\n",
       "  </tbody>\n",
       "</table>\n",
       "<p>10999 rows × 17 columns</p>\n",
       "</div>"
      ],
      "text/plain": [
       "       Customer_care_calls  Cost_of_the_Product  Prior_purchases  \\\n",
       "0                        4                  177                3   \n",
       "1                        4                  216                2   \n",
       "2                        2                  183                4   \n",
       "3                        3                  176                4   \n",
       "4                        2                  184                3   \n",
       "...                    ...                  ...              ...   \n",
       "10994                    4                  252                5   \n",
       "10995                    4                  232                5   \n",
       "10996                    5                  242                5   \n",
       "10997                    5                  223                6   \n",
       "10998                    2                  155                5   \n",
       "\n",
       "       Discount_offered  Weight_in_gms  Reached.on.Time_Y.N  \\\n",
       "0                    44           1233                    1   \n",
       "1                    59           3088                    1   \n",
       "2                    48           3374                    1   \n",
       "3                    10           1177                    1   \n",
       "4                    46           2484                    1   \n",
       "...                 ...            ...                  ...   \n",
       "10994                 1           1538                    1   \n",
       "10995                 6           1247                    0   \n",
       "10996                 4           1155                    0   \n",
       "10997                 2           1210                    0   \n",
       "10998                 6           1639                    0   \n",
       "\n",
       "       Warehouse_block_A  Warehouse_block_B  Warehouse_block_C  \\\n",
       "0                      0                  0                  0   \n",
       "1                      0                  0                  0   \n",
       "2                      1                  0                  0   \n",
       "3                      0                  1                  0   \n",
       "4                      0                  0                  1   \n",
       "...                  ...                ...                ...   \n",
       "10994                  1                  0                  0   \n",
       "10995                  0                  1                  0   \n",
       "10996                  0                  0                  1   \n",
       "10997                  0                  0                  0   \n",
       "10998                  0                  0                  0   \n",
       "\n",
       "       Warehouse_block_D  Warehouse_block_F  Mode_of_Shipment_Flight  \\\n",
       "0                      1                  0                        1   \n",
       "1                      0                  1                        1   \n",
       "2                      0                  0                        1   \n",
       "3                      0                  0                        1   \n",
       "4                      0                  0                        1   \n",
       "...                  ...                ...                      ...   \n",
       "10994                  0                  0                        0   \n",
       "10995                  0                  0                        0   \n",
       "10996                  0                  0                        0   \n",
       "10997                  0                  1                        0   \n",
       "10998                  1                  0                        0   \n",
       "\n",
       "       Mode_of_Shipment_Road  Mode_of_Shipment_Ship  Product_importance_high  \\\n",
       "0                          0                      0                        0   \n",
       "1                          0                      0                        0   \n",
       "2                          0                      0                        0   \n",
       "3                          0                      0                        0   \n",
       "4                          0                      0                        0   \n",
       "...                      ...                    ...                      ...   \n",
       "10994                      0                      1                        0   \n",
       "10995                      0                      1                        0   \n",
       "10996                      0                      1                        0   \n",
       "10997                      0                      1                        0   \n",
       "10998                      0                      1                        0   \n",
       "\n",
       "       Product_importance_low  Product_importance_medium  \n",
       "0                           1                          0  \n",
       "1                           1                          0  \n",
       "2                           1                          0  \n",
       "3                           0                          1  \n",
       "4                           0                          1  \n",
       "...                       ...                        ...  \n",
       "10994                       0                          1  \n",
       "10995                       0                          1  \n",
       "10996                       1                          0  \n",
       "10997                       0                          1  \n",
       "10998                       1                          0  \n",
       "\n",
       "[10999 rows x 17 columns]"
      ]
     },
     "execution_count": 9,
     "metadata": {},
     "output_type": "execute_result"
    }
   ],
   "source": [
    "df_onehot = pd.get_dummies(data = df, columns = ['Warehouse_block', 'Mode_of_Shipment', 'Product_importance'], \n",
    "                     prefix = ['Warehouse_block', 'Mode_of_Shipment', 'Product_importance'])\n",
    "df_onehot"
   ]
  },
  {
   "cell_type": "code",
   "execution_count": 10,
   "id": "2dae897c",
   "metadata": {},
   "outputs": [
    {
     "data": {
      "text/plain": [
       "Index(['Customer_care_calls', 'Cost_of_the_Product', 'Prior_purchases',\n",
       "       'Discount_offered', 'Weight_in_gms', 'Reached.on.Time_Y.N',\n",
       "       'Warehouse_block_A', 'Warehouse_block_B', 'Warehouse_block_C',\n",
       "       'Warehouse_block_D', 'Warehouse_block_F', 'Mode_of_Shipment_Flight',\n",
       "       'Mode_of_Shipment_Road', 'Mode_of_Shipment_Ship',\n",
       "       'Product_importance_high', 'Product_importance_low',\n",
       "       'Product_importance_medium'],\n",
       "      dtype='object')"
      ]
     },
     "execution_count": 10,
     "metadata": {},
     "output_type": "execute_result"
    }
   ],
   "source": [
    "df_onehot.columns"
   ]
  },
  {
   "cell_type": "markdown",
   "id": "0006455b",
   "metadata": {},
   "source": [
    "## target data one-hot encoding and then set the X and y\n",
    "\n",
    "카테고리로 되어있는 데이터들을 원핫인코딩을 진행하기로 했다."
   ]
  },
  {
   "cell_type": "code",
   "execution_count": 11,
   "id": "1cab6118",
   "metadata": {},
   "outputs": [],
   "source": [
    "X = df_onehot[['Customer_care_calls', 'Cost_of_the_Product', 'Prior_purchases',\n",
    "       'Discount_offered', 'Weight_in_gms',\n",
    "       'Warehouse_block_A', 'Warehouse_block_B', 'Warehouse_block_C',\n",
    "       'Warehouse_block_D', 'Warehouse_block_F', 'Mode_of_Shipment_Flight',\n",
    "       'Mode_of_Shipment_Road', 'Mode_of_Shipment_Ship',\n",
    "       'Product_importance_high', 'Product_importance_low',\n",
    "       'Product_importance_medium']]\n",
    "y = df_onehot['Reached.on.Time_Y.N']"
   ]
  },
  {
   "cell_type": "code",
   "execution_count": 12,
   "id": "e7ade165",
   "metadata": {},
   "outputs": [
    {
     "name": "stdout",
     "output_type": "stream",
     "text": [
      "[[0. 1.]\n",
      " [0. 1.]\n",
      " [0. 1.]\n",
      " ...\n",
      " [1. 0.]\n",
      " [1. 0.]\n",
      " [1. 0.]]\n"
     ]
    }
   ],
   "source": [
    "from tensorflow.keras.utils import to_categorical\n",
    "\n",
    "y_hot = to_categorical(y)\n",
    "print(y_hot)"
   ]
  },
  {
   "cell_type": "markdown",
   "id": "47fb264d",
   "metadata": {},
   "source": [
    "## feature dimension "
   ]
  },
  {
   "cell_type": "code",
   "execution_count": 13,
   "id": "cc4cb130",
   "metadata": {},
   "outputs": [
    {
     "name": "stdout",
     "output_type": "stream",
     "text": [
      "(10999, 16)\n"
     ]
    }
   ],
   "source": [
    "print(X.shape)"
   ]
  },
  {
   "cell_type": "markdown",
   "id": "d8119042",
   "metadata": {},
   "source": [
    "## target data classes\n",
    "\n",
    "타깃 데이터 종류를 확인하는 것으로 분류 문제인지 회귀 문제인지 구분할 수 있다. 연속형 숫자이기 때문에 회귀문제로 해결해야 함을 알 수 있다."
   ]
  },
  {
   "cell_type": "code",
   "execution_count": 14,
   "id": "e2598fdd",
   "metadata": {},
   "outputs": [
    {
     "name": "stdout",
     "output_type": "stream",
     "text": [
      "{0, 1}\n"
     ]
    }
   ],
   "source": [
    "print(set(y))"
   ]
  },
  {
   "cell_type": "markdown",
   "id": "9caf5889",
   "metadata": {},
   "source": [
    "## Split Training and Test Data"
   ]
  },
  {
   "cell_type": "code",
   "execution_count": 15,
   "id": "ed9bdfea",
   "metadata": {},
   "outputs": [],
   "source": [
    "from sklearn.model_selection import train_test_split\n",
    "\n",
    "X_tn, X_te, y_tn, y_te = train_test_split(X, y_hot, random_state = 0)"
   ]
  },
  {
   "cell_type": "markdown",
   "id": "11faa74e",
   "metadata": {},
   "source": [
    "# Building model"
   ]
  },
  {
   "cell_type": "code",
   "execution_count": 16,
   "id": "5912bc88",
   "metadata": {},
   "outputs": [],
   "source": [
    "import os\n",
    "os.environ['TF_CPP_MIN_LOG_LEVEL'] = '2'"
   ]
  },
  {
   "cell_type": "code",
   "execution_count": 17,
   "id": "56b8545b",
   "metadata": {
    "scrolled": true
   },
   "outputs": [],
   "source": [
    "from tensorflow.keras.models import Sequential         # 신경망 생성\n",
    "from tensorflow.keras.layers import Dense              # 신경망 층 추가\n",
    "from tensorflow.keras.layers import BatchNormalization # 배치 정규화\n",
    "from tensorflow.keras.layers import Activation         # 활성화 함수 사용\n",
    "\n",
    "n_feat = X_tn.shape[1]              # 신경망에 사용되는 피처 개수 (현재 데이터: 16개)\n",
    "n_class = len(set(y))               # 클래스 개수 (현재 데이터: 2개)\n",
    "epo = 30                            # 학습횟수 30. 30단계로 학습 진행\n",
    "\n",
    "model = Sequential()                # 초기 모형 생성.\n",
    "model.add(Dense(20, input_dim = n_feat)) # add로 입력층 추가, *input_dim = 피처개수, 20은 output 차원\n",
    "model.add(BatchNormalization())     # 배치 정규화\n",
    "model.add(Activation('relu'))       # 활성화 함수 reLU\n",
    "model.add(Dense(n_class))           # 최종 아웃풋 층. 클래스 개수인 2개로 구분되도록.\n",
    "model.add(Activation('softmax'))    # 활성화 함수 softmax"
   ]
  },
  {
   "cell_type": "code",
   "execution_count": 18,
   "id": "4f73147f",
   "metadata": {},
   "outputs": [
    {
     "name": "stdout",
     "output_type": "stream",
     "text": [
      "Model: \"sequential\"\n",
      "_________________________________________________________________\n",
      " Layer (type)                Output Shape              Param #   \n",
      "=================================================================\n",
      " dense (Dense)               (None, 20)                340       \n",
      "                                                                 \n",
      " batch_normalization (BatchN  (None, 20)               80        \n",
      " ormalization)                                                   \n",
      "                                                                 \n",
      " activation (Activation)     (None, 20)                0         \n",
      "                                                                 \n",
      " dense_1 (Dense)             (None, 2)                 42        \n",
      "                                                                 \n",
      " activation_1 (Activation)   (None, 2)                 0         \n",
      "                                                                 \n",
      "=================================================================\n",
      "Total params: 462\n",
      "Trainable params: 422\n",
      "Non-trainable params: 40\n",
      "_________________________________________________________________\n"
     ]
    }
   ],
   "source": [
    "model.summary()"
   ]
  },
  {
   "cell_type": "markdown",
   "id": "c5242d67",
   "metadata": {},
   "source": [
    "## model compile"
   ]
  },
  {
   "cell_type": "code",
   "execution_count": 19,
   "id": "2ec8aeb8",
   "metadata": {},
   "outputs": [],
   "source": [
    "model.compile(loss = 'binary_crossentropy',  # 손실함수: 이진은 binary, 이상은 categorical\n",
    "             optimizer = 'adam',                  # 옵티마이저와 평가 기준\n",
    "             metrics = ['accuracy'])"
   ]
  },
  {
   "cell_type": "markdown",
   "id": "935b784a",
   "metadata": {},
   "source": [
    "## model learning"
   ]
  },
  {
   "cell_type": "code",
   "execution_count": 20,
   "id": "33abb856",
   "metadata": {},
   "outputs": [
    {
     "data": {
      "text/plain": [
       "Customer_care_calls          0\n",
       "Cost_of_the_Product          0\n",
       "Prior_purchases              0\n",
       "Discount_offered             0\n",
       "Weight_in_gms                0\n",
       "Warehouse_block_A            0\n",
       "Warehouse_block_B            0\n",
       "Warehouse_block_C            0\n",
       "Warehouse_block_D            0\n",
       "Warehouse_block_F            0\n",
       "Mode_of_Shipment_Flight      0\n",
       "Mode_of_Shipment_Road        0\n",
       "Mode_of_Shipment_Ship        0\n",
       "Product_importance_high      0\n",
       "Product_importance_low       0\n",
       "Product_importance_medium    0\n",
       "dtype: int64"
      ]
     },
     "execution_count": 20,
     "metadata": {},
     "output_type": "execute_result"
    }
   ],
   "source": [
    "X.isna().sum()"
   ]
  },
  {
   "cell_type": "markdown",
   "id": "2a3c1d5e",
   "metadata": {},
   "source": [
    "중간에 트레이닝 데이터와 테스트 데이터 나누는데 원핫인코딩이 아니라 그냥 y를 넣는 바람에\n",
    "\n",
    "```ValueError: `logits` and `labels` must have the same shape, received ((None, 2) vs (None, 1)).```\n",
    "이런 오류가 떠서 잠시 헤맸다."
   ]
  },
  {
   "cell_type": "code",
   "execution_count": 21,
   "id": "0b7ab783",
   "metadata": {
    "scrolled": true
   },
   "outputs": [
    {
     "name": "stdout",
     "output_type": "stream",
     "text": [
      "Epoch 1/30\n",
      "825/825 [==============================] - 2s 2ms/step - loss: 0.6215 - accuracy: 0.6344\n",
      "Epoch 2/30\n",
      "825/825 [==============================] - 1s 2ms/step - loss: 0.5731 - accuracy: 0.6421\n",
      "Epoch 3/30\n",
      "825/825 [==============================] - 1s 2ms/step - loss: 0.5670 - accuracy: 0.6415\n",
      "Epoch 4/30\n",
      "825/825 [==============================] - 1s 2ms/step - loss: 0.5630 - accuracy: 0.6427\n",
      "Epoch 5/30\n",
      "825/825 [==============================] - 1s 2ms/step - loss: 0.5610 - accuracy: 0.6426\n",
      "Epoch 6/30\n",
      "825/825 [==============================] - 1s 2ms/step - loss: 0.5621 - accuracy: 0.6476\n",
      "Epoch 7/30\n",
      "825/825 [==============================] - 1s 2ms/step - loss: 0.5579 - accuracy: 0.6541\n",
      "Epoch 8/30\n",
      "825/825 [==============================] - 1s 2ms/step - loss: 0.5570 - accuracy: 0.6438\n",
      "Epoch 9/30\n",
      "825/825 [==============================] - 1s 2ms/step - loss: 0.5624 - accuracy: 0.6498\n",
      "Epoch 10/30\n",
      "825/825 [==============================] - 1s 2ms/step - loss: 0.5537 - accuracy: 0.6550\n",
      "Epoch 11/30\n",
      "825/825 [==============================] - 1s 2ms/step - loss: 0.5575 - accuracy: 0.6533\n",
      "Epoch 12/30\n",
      "825/825 [==============================] - 1s 2ms/step - loss: 0.5497 - accuracy: 0.6578\n",
      "Epoch 13/30\n",
      "825/825 [==============================] - 1s 2ms/step - loss: 0.5512 - accuracy: 0.6501\n",
      "Epoch 14/30\n",
      "825/825 [==============================] - 1s 2ms/step - loss: 0.5538 - accuracy: 0.6585\n",
      "Epoch 15/30\n",
      "825/825 [==============================] - 1s 2ms/step - loss: 0.5578 - accuracy: 0.6488\n",
      "Epoch 16/30\n",
      "825/825 [==============================] - 1s 2ms/step - loss: 0.5529 - accuracy: 0.6551\n",
      "Epoch 17/30\n",
      "825/825 [==============================] - 1s 2ms/step - loss: 0.5533 - accuracy: 0.6546\n",
      "Epoch 18/30\n",
      "825/825 [==============================] - 1s 2ms/step - loss: 0.5507 - accuracy: 0.6555\n",
      "Epoch 19/30\n",
      "825/825 [==============================] - 2s 2ms/step - loss: 0.5535 - accuracy: 0.6540\n",
      "Epoch 20/30\n",
      "825/825 [==============================] - 1s 2ms/step - loss: 0.5530 - accuracy: 0.6517\n",
      "Epoch 21/30\n",
      "825/825 [==============================] - 1s 2ms/step - loss: 0.5536 - accuracy: 0.6556\n",
      "Epoch 22/30\n",
      "825/825 [==============================] - 1s 2ms/step - loss: 0.5529 - accuracy: 0.6580\n",
      "Epoch 23/30\n",
      "825/825 [==============================] - 1s 2ms/step - loss: 0.5548 - accuracy: 0.6568\n",
      "Epoch 24/30\n",
      "825/825 [==============================] - 1s 2ms/step - loss: 0.5514 - accuracy: 0.6549\n",
      "Epoch 25/30\n",
      "825/825 [==============================] - 1s 2ms/step - loss: 0.5519 - accuracy: 0.6573\n",
      "Epoch 26/30\n",
      "825/825 [==============================] - 1s 2ms/step - loss: 0.5501 - accuracy: 0.6590\n",
      "Epoch 27/30\n",
      "825/825 [==============================] - 1s 2ms/step - loss: 0.5532 - accuracy: 0.6512\n",
      "Epoch 28/30\n",
      "825/825 [==============================] - 1s 2ms/step - loss: 0.5533 - accuracy: 0.6516\n",
      "Epoch 29/30\n",
      "825/825 [==============================] - 1s 2ms/step - loss: 0.5527 - accuracy: 0.6492\n",
      "Epoch 30/30\n",
      "825/825 [==============================] - 1s 2ms/step - loss: 0.5494 - accuracy: 0.6586\n"
     ]
    }
   ],
   "source": [
    "hist = model.fit(X_tn, y_tn, epochs = epo, batch_size = 10)  # batch_size: learning mini batch size at one ephoch"
   ]
  },
  {
   "cell_type": "markdown",
   "id": "cfe3cd5b",
   "metadata": {},
   "source": [
    "정확도가 일정 수준에서 더이상 상승하지 않아서 중단하고, 배치사이즈를 10으로 해본다.\n",
    "\n",
    "# evaluation\n",
    "\n",
    "정확도를 책정해본다."
   ]
  },
  {
   "cell_type": "code",
   "execution_count": 22,
   "id": "0cf6b796",
   "metadata": {},
   "outputs": [
    {
     "name": "stdout",
     "output_type": "stream",
     "text": [
      "258/258 [==============================] - 1s 2ms/step - loss: 0.5380 - accuracy: 0.6798\n",
      "0.6798399686813354\n",
      "86/86 [==============================] - 0s 2ms/step - loss: 0.5480 - accuracy: 0.6782\n",
      "0.6781818270683289\n"
     ]
    }
   ],
   "source": [
    "print(model.evaluate(X_tn, y_tn)[1])\n",
    "print(model.evaluate(X_te, y_te)[1])"
   ]
  },
  {
   "cell_type": "markdown",
   "id": "ecd9951f",
   "metadata": {},
   "source": [
    "좋은 결과는 아닌 것으로 보인다.\n",
    "\n",
    "## Accuracy and loss rate\n",
    "\n",
    "epoch 별로 그래프를 그리기 쉬워지도록 범위설정하는 arange 함수를 사용한다."
   ]
  },
  {
   "cell_type": "code",
   "execution_count": 23,
   "id": "82f84e08",
   "metadata": {},
   "outputs": [
    {
     "name": "stdout",
     "output_type": "stream",
     "text": [
      "[ 1  2  3  4  5  6  7  8  9 10 11 12 13 14 15 16 17 18 19 20 21 22 23 24\n",
      " 25 26 27 28 29 30]\n"
     ]
    }
   ],
   "source": [
    "import numpy as np\n",
    "epoch = np.arange(1, epo +1)               # x축 설정\n",
    "print(epoch)"
   ]
  },
  {
   "cell_type": "code",
   "execution_count": 24,
   "id": "84610fc9",
   "metadata": {},
   "outputs": [
    {
     "name": "stdout",
     "output_type": "stream",
     "text": [
      "[0.6343799233436584, 0.6421384215354919, 0.641532301902771, 0.6427446007728577, 0.6426233649253845, 0.6475936770439148, 0.6541398763656616, 0.6438356041908264, 0.6497757434844971, 0.6549884676933289, 0.6532912850379944, 0.6577767133712769, 0.6501393914222717, 0.658504068851471, 0.6488059163093567, 0.655109703540802, 0.6546248197555542, 0.6554734110832214, 0.6540186405181885, 0.6517153382301331, 0.6555946469306946, 0.6580191254615784, 0.6568068861961365, 0.6548672318458557, 0.6572917699813843, 0.6589889526367188, 0.6512304544448853, 0.6515941619873047, 0.6491696238517761, 0.6586253046989441]\n"
     ]
    }
   ],
   "source": [
    "accuracy = hist.history['accuracy']        # 학습시켰던 모형에서 history를 이용하여 데려올 수 있다. 에포크 별 정확도를 알 수 있다.\n",
    "print(accuracy)"
   ]
  },
  {
   "cell_type": "code",
   "execution_count": 25,
   "id": "dcf6fba1",
   "metadata": {},
   "outputs": [
    {
     "name": "stdout",
     "output_type": "stream",
     "text": [
      "[0.621482789516449, 0.5731014013290405, 0.5670304298400879, 0.5629804134368896, 0.560951292514801, 0.5621375441551208, 0.5578861832618713, 0.5569666624069214, 0.5624240636825562, 0.5536582469940186, 0.5574585199356079, 0.549697995185852, 0.5511630177497864, 0.553798496723175, 0.5578076839447021, 0.5528833270072937, 0.5532510280609131, 0.5506796836853027, 0.5535212159156799, 0.5530017614364624, 0.5536129474639893, 0.5528913140296936, 0.5548198819160461, 0.5514050722122192, 0.5518854260444641, 0.5501344799995422, 0.553162693977356, 0.5533228516578674, 0.5527451634407043, 0.5494308471679688]\n"
     ]
    }
   ],
   "source": [
    "loss = hist.history['loss']                # 학습시켰던 모형에서 history를 이용하여 데려올 수 있다. 에포크 별 손실정도를 알 수 있다.\n",
    "print(loss)"
   ]
  },
  {
   "cell_type": "markdown",
   "id": "bf8717de",
   "metadata": {},
   "source": [
    "## Accuracy and loss rate visualization"
   ]
  },
  {
   "cell_type": "code",
   "execution_count": 26,
   "id": "3ea60a2f",
   "metadata": {},
   "outputs": [
    {
     "data": {
      "image/png": "[encoded data removed]",
      "text/plain": [
       "<Figure size 432x288 with 1 Axes>"
      ]
     },
     "metadata": {
      "needs_background": "light"
     },
     "output_type": "display_data"
    }
   ],
   "source": [
    "import matplotlib.pyplot as plt\n",
    "\n",
    "plt.plot(epoch, accuracy, label = 'accuracy')\n",
    "plt.xlabel('epoch')\n",
    "plt.ylabel('accuracy')\n",
    "plt.legend()\n",
    "plt.show()"
   ]
  },
  {
   "cell_type": "code",
   "execution_count": 27,
   "id": "57c51c44",
   "metadata": {},
   "outputs": [
    {
     "data": {
      "image/png": "[encoded data removed]",
      "text/plain": [
       "<Figure size 432x288 with 1 Axes>"
      ]
     },
     "metadata": {
      "needs_background": "light"
     },
     "output_type": "display_data"
    }
   ],
   "source": [
    "plt.plot(epoch, loss, 'r', label = 'loss')    # plot color = r[ed]\n",
    "plt.xlabel('epoch')\n",
    "plt.ylabel('loss')\n",
    "plt.legend()\n",
    "plt.show()"
   ]
  },
  {
   "cell_type": "markdown",
   "id": "4a60a2df",
   "metadata": {},
   "source": [
    "# ver2. (Whole code)\n",
    "\n",
    "중간에 활성화 함수를 하이퍼볼릭 탄젠트로 바꾸었다."
   ]
  },
  {
   "cell_type": "code",
   "execution_count": 28,
   "id": "1f09c396",
   "metadata": {
    "scrolled": true
   },
   "outputs": [
    {
     "name": "stdout",
     "output_type": "stream",
     "text": [
      "Model: \"sequential_1\"\n",
      "_________________________________________________________________\n",
      " Layer (type)                Output Shape              Param #   \n",
      "=================================================================\n",
      " dense_2 (Dense)             (None, 20)                340       \n",
      "                                                                 \n",
      " batch_normalization_1 (Batc  (None, 20)               80        \n",
      " hNormalization)                                                 \n",
      "                                                                 \n",
      " activation_2 (Activation)   (None, 20)                0         \n",
      "                                                                 \n",
      " dense_3 (Dense)             (None, 2)                 42        \n",
      "                                                                 \n",
      " activation_3 (Activation)   (None, 2)                 0         \n",
      "                                                                 \n",
      "=================================================================\n",
      "Total params: 462\n",
      "Trainable params: 422\n",
      "Non-trainable params: 40\n",
      "_________________________________________________________________\n",
      "Epoch 1/30\n",
      "825/825 [==============================] - 2s 2ms/step - loss: 0.6200 - accuracy: 0.6423\n",
      "Epoch 2/30\n",
      "825/825 [==============================] - 1s 2ms/step - loss: 0.5795 - accuracy: 0.6356\n",
      "Epoch 3/30\n",
      "825/825 [==============================] - 1s 2ms/step - loss: 0.5702 - accuracy: 0.6370\n",
      "Epoch 4/30\n",
      "825/825 [==============================] - 1s 2ms/step - loss: 0.5659 - accuracy: 0.6383\n",
      "Epoch 5/30\n",
      "825/825 [==============================] - 2s 2ms/step - loss: 0.5616 - accuracy: 0.6389\n",
      "Epoch 6/30\n",
      "825/825 [==============================] - 2s 2ms/step - loss: 0.5596 - accuracy: 0.6444\n",
      "Epoch 7/30\n",
      "825/825 [==============================] - 2s 2ms/step - loss: 0.5561 - accuracy: 0.6521\n",
      "Epoch 8/30\n",
      "825/825 [==============================] - 1s 2ms/step - loss: 0.5561 - accuracy: 0.6417\n",
      "Epoch 9/30\n",
      "825/825 [==============================] - 1s 2ms/step - loss: 0.5583 - accuracy: 0.6467\n",
      "Epoch 10/30\n",
      "825/825 [==============================] - 2s 2ms/step - loss: 0.5559 - accuracy: 0.6488\n",
      "Epoch 11/30\n",
      "825/825 [==============================] - 1s 2ms/step - loss: 0.5554 - accuracy: 0.6475\n",
      "Epoch 12/30\n",
      "825/825 [==============================] - 1s 2ms/step - loss: 0.5521 - accuracy: 0.6545\n",
      "Epoch 13/30\n",
      "825/825 [==============================] - 1s 2ms/step - loss: 0.5550 - accuracy: 0.6524\n",
      "Epoch 14/30\n",
      "825/825 [==============================] - 2s 2ms/step - loss: 0.5553 - accuracy: 0.6506\n",
      "Epoch 15/30\n",
      "825/825 [==============================] - 1s 2ms/step - loss: 0.5560 - accuracy: 0.6518\n",
      "Epoch 16/30\n",
      "825/825 [==============================] - 1s 2ms/step - loss: 0.5520 - accuracy: 0.6545\n",
      "Epoch 17/30\n",
      "825/825 [==============================] - 1s 2ms/step - loss: 0.5520 - accuracy: 0.6534\n",
      "Epoch 18/30\n",
      "825/825 [==============================] - 2s 2ms/step - loss: 0.5518 - accuracy: 0.6547\n",
      "Epoch 19/30\n",
      "825/825 [==============================] - 1s 2ms/step - loss: 0.5521 - accuracy: 0.6570\n",
      "Epoch 20/30\n",
      "825/825 [==============================] - 2s 2ms/step - loss: 0.5505 - accuracy: 0.6533\n",
      "Epoch 21/30\n",
      "825/825 [==============================] - 2s 2ms/step - loss: 0.5517 - accuracy: 0.6509\n",
      "Epoch 22/30\n",
      "825/825 [==============================] - 2s 2ms/step - loss: 0.5500 - accuracy: 0.6524\n",
      "Epoch 23/30\n",
      "825/825 [==============================] - 2s 3ms/step - loss: 0.5505 - accuracy: 0.6528\n",
      "Epoch 24/30\n",
      "825/825 [==============================] - 2s 2ms/step - loss: 0.5514 - accuracy: 0.6492\n",
      "Epoch 25/30\n",
      "825/825 [==============================] - 3s 3ms/step - loss: 0.5499 - accuracy: 0.6538\n",
      "Epoch 26/30\n",
      "825/825 [==============================] - 3s 3ms/step - loss: 0.5503 - accuracy: 0.6557\n",
      "Epoch 27/30\n",
      "825/825 [==============================] - 2s 2ms/step - loss: 0.5474 - accuracy: 0.6624\n",
      "Epoch 28/30\n",
      "825/825 [==============================] - 2s 2ms/step - loss: 0.5507 - accuracy: 0.6561\n",
      "Epoch 29/30\n",
      "825/825 [==============================] - 2s 2ms/step - loss: 0.5501 - accuracy: 0.6495\n",
      "Epoch 30/30\n",
      "825/825 [==============================] - 2s 2ms/step - loss: 0.5491 - accuracy: 0.6528\n",
      "-- model evaluate with train data --\n",
      "258/258 [==============================] - 0s 2ms/step - loss: 0.5380 - accuracy: 0.6798\n",
      "0.6798399686813354\n",
      "-- model evaluate with test data --\n",
      "86/86 [==============================] - 0s 2ms/step - loss: 0.5480 - accuracy: 0.6782\n",
      "0.6781818270683289\n"
     ]
    },
    {
     "data": {
      "image/png": "[encoded data removed]",
      "text/plain": [
       "<Figure size 432x288 with 1 Axes>"
      ]
     },
     "metadata": {
      "needs_background": "light"
     },
     "output_type": "display_data"
    },
    {
     "data": {
      "image/png": "[encoded data removed]",
      "text/plain": [
       "<Figure size 432x288 with 1 Axes>"
      ]
     },
     "metadata": {
      "needs_background": "light"
     },
     "output_type": "display_data"
    }
   ],
   "source": [
    "from tensorflow.keras.models import Sequential         # 신경망 생성\n",
    "from tensorflow.keras.layers import Dense              # 신경망 층 추가\n",
    "from tensorflow.keras.layers import BatchNormalization # 배치 정규화\n",
    "from tensorflow.keras.layers import Activation         # 활성화 함수 사용\n",
    "\n",
    "n_feat = X_tn.shape[1]              # 신경망에 사용되는 피처 개수 (현재 데이터: 16개)\n",
    "n_class = len(set(y))               # 클래스 개수 (현재 데이터: 2개)\n",
    "epo = 30                            # 학습횟수 30. 30단계로 학습 진행\n",
    "\n",
    "model_tanh = Sequential()                # 초기 모형 생성.\n",
    "model_tanh.add(Dense(20, input_dim = n_feat)) # add로 입력층 추가, *input_dim = 피처개수, 20은 output 차원\n",
    "model_tanh.add(BatchNormalization())     # 배치 정규화\n",
    "model_tanh.add(Activation('tanh'))       # 활성화 함수: 하이퍼볼릭 탄젠트\n",
    "model_tanh.add(Dense(n_class))           # 최종 아웃풋 층. 클래스 개수인 2개로 구분되도록.\n",
    "model_tanh.add(Activation('softmax'))    # 활성화 함수 softmax\n",
    "\n",
    "model_tanh.summary()\n",
    "\n",
    "model_tanh.compile(loss = 'binary_crossentropy',  # 손실함수: 이진은 binary, 이상은 categorical\n",
    "             optimizer = 'adam',                  # 옵티마이저와 평가 기준\n",
    "             metrics = ['accuracy'])\n",
    "\n",
    "hist = model_tanh.fit(X_tn, y_tn, epochs = epo, batch_size = 10)  # batch_size: learning mini batch size at one ephoch\n",
    "\n",
    "# evaluation\n",
    "print(\"-- model evaluate with train data --\")\n",
    "print(model.evaluate(X_tn, y_tn)[1])\n",
    "print(\"-- model evaluate with test data --\")\n",
    "print(model.evaluate(X_te, y_te)[1])\n",
    "\n",
    "# accuracy\n",
    "import numpy as np\n",
    "epoch = np.arange(1, epo +1)          # aragne 함수로 x축 설정\n",
    "# print(epoch)\n",
    "accuracy = hist.history['accuracy']   # 학습시켰던 모형에서 history를 이용하여 데려올 수 있다. 에포크 별 정확도를 알 수 있다.\n",
    "# print(accuracy)\n",
    "loss = hist.history['loss']           # 학습시켰던 모형에서 history를 이용하여 데려올 수 있다. 에포크 별 손실정도를 알 수 있다.\n",
    "# print(loss)\n",
    "\n",
    "\n",
    "# visualization\n",
    "import matplotlib.pyplot as plt\n",
    "plt.plot(epoch, accuracy, label = 'accuracy')\n",
    "plt.xlabel('epoch')\n",
    "plt.ylabel('accuracy')\n",
    "plt.legend()\n",
    "plt.title(\"accuracy by epoch\")\n",
    "plt.show()\n",
    "\n",
    "plt.plot(epoch, loss, 'r', label = 'loss')    # plot color = r[ed]\n",
    "plt.xlabel('epoch')\n",
    "plt.ylabel('loss')\n",
    "plt.legend()\n",
    "plt.title(\"loss by epoch\")\n",
    "plt.show()"
   ]
  },
  {
   "cell_type": "markdown",
   "id": "c8631dde",
   "metadata": {},
   "source": [
    "### Commentary\n",
    "\n",
    "정확도에 거의 차이가 나지 않는다. 우선 문제는, 여러 컬럼들을 모두 원핫 인코딩이 된 것도 아니오, 원핫 인코딩된 갯수가 너무 많기도 하다. 각각이 비슷한 비중을 갖는다고 생각하면 정말 문제가 많은 모형이라고 생각할 수 있다. \n",
    "\n",
    "데이터를 바꾸어서 진행해본다. 고객 관련한 정보(콜, 이전 주문, 할인 액수)를 지우고 진행해본다."
   ]
  },
  {
   "cell_type": "markdown",
   "id": "18a86802",
   "metadata": {},
   "source": [
    "# ver3. modified X and relu"
   ]
  },
  {
   "cell_type": "code",
   "execution_count": 29,
   "id": "adc468a0",
   "metadata": {},
   "outputs": [],
   "source": [
    "X = df_onehot[['Cost_of_the_Product', 'Weight_in_gms',\n",
    "       'Warehouse_block_A', 'Warehouse_block_B', 'Warehouse_block_C',\n",
    "       'Warehouse_block_D', 'Warehouse_block_F', 'Mode_of_Shipment_Flight',\n",
    "       'Mode_of_Shipment_Road', 'Mode_of_Shipment_Ship',\n",
    "       'Product_importance_high', 'Product_importance_low',\n",
    "       'Product_importance_medium']]\n",
    "y = df_onehot['Reached.on.Time_Y.N']"
   ]
  },
  {
   "cell_type": "code",
   "execution_count": 30,
   "id": "c5fb91c4",
   "metadata": {},
   "outputs": [
    {
     "name": "stdout",
     "output_type": "stream",
     "text": [
      "[[0. 1.]\n",
      " [0. 1.]\n",
      " [0. 1.]\n",
      " ...\n",
      " [1. 0.]\n",
      " [1. 0.]\n",
      " [1. 0.]]\n"
     ]
    }
   ],
   "source": [
    "y_hot = to_categorical(y)\n",
    "print(y_hot)"
   ]
  },
  {
   "cell_type": "code",
   "execution_count": 31,
   "id": "0c37a5c4",
   "metadata": {},
   "outputs": [],
   "source": [
    "from sklearn.model_selection import train_test_split\n",
    "X_tn, X_te, y_tn, y_te = train_test_split(X, y_hot, random_state = 0)"
   ]
  },
  {
   "cell_type": "code",
   "execution_count": 32,
   "id": "6fba9a92",
   "metadata": {},
   "outputs": [
    {
     "name": "stdout",
     "output_type": "stream",
     "text": [
      "Model: \"sequential_2\"\n",
      "_________________________________________________________________\n",
      " Layer (type)                Output Shape              Param #   \n",
      "=================================================================\n",
      " dense_4 (Dense)             (None, 20)                280       \n",
      "                                                                 \n",
      " batch_normalization_2 (Batc  (None, 20)               80        \n",
      " hNormalization)                                                 \n",
      "                                                                 \n",
      " activation_4 (Activation)   (None, 20)                0         \n",
      "                                                                 \n",
      " dense_5 (Dense)             (None, 2)                 42        \n",
      "                                                                 \n",
      " activation_5 (Activation)   (None, 2)                 0         \n",
      "                                                                 \n",
      "=================================================================\n",
      "Total params: 402\n",
      "Trainable params: 362\n",
      "Non-trainable params: 40\n",
      "_________________________________________________________________\n",
      "Epoch 1/30\n",
      "825/825 [==============================] - 3s 2ms/step - loss: 0.6431 - accuracy: 0.6320\n",
      "Epoch 2/30\n",
      "825/825 [==============================] - 2s 2ms/step - loss: 0.6187 - accuracy: 0.6366\n",
      "Epoch 3/30\n",
      "825/825 [==============================] - 2s 2ms/step - loss: 0.6107 - accuracy: 0.6377\n",
      "Epoch 4/30\n",
      "825/825 [==============================] - 2s 2ms/step - loss: 0.6062 - accuracy: 0.6375\n",
      "Epoch 5/30\n",
      "825/825 [==============================] - 2s 3ms/step - loss: 0.5994 - accuracy: 0.6437\n",
      "Epoch 6/30\n",
      "825/825 [==============================] - 2s 2ms/step - loss: 0.5982 - accuracy: 0.6415\n",
      "Epoch 7/30\n",
      "825/825 [==============================] - 2s 2ms/step - loss: 0.5933 - accuracy: 0.6415\n",
      "Epoch 8/30\n",
      "825/825 [==============================] - 2s 2ms/step - loss: 0.5934 - accuracy: 0.6418\n",
      "Epoch 9/30\n",
      "825/825 [==============================] - 2s 2ms/step - loss: 0.5961 - accuracy: 0.6418\n",
      "Epoch 10/30\n",
      "825/825 [==============================] - 2s 2ms/step - loss: 0.5930 - accuracy: 0.6418\n",
      "Epoch 11/30\n",
      "825/825 [==============================] - 2s 2ms/step - loss: 0.5919 - accuracy: 0.6442\n",
      "Epoch 12/30\n",
      "825/825 [==============================] - 2s 2ms/step - loss: 0.5881 - accuracy: 0.6517\n",
      "Epoch 13/30\n",
      "825/825 [==============================] - 2s 2ms/step - loss: 0.5921 - accuracy: 0.6444\n",
      "Epoch 14/30\n",
      "825/825 [==============================] - 2s 2ms/step - loss: 0.5891 - accuracy: 0.6441\n",
      "Epoch 15/30\n",
      "825/825 [==============================] - 2s 2ms/step - loss: 0.5911 - accuracy: 0.6372\n",
      "Epoch 16/30\n",
      "825/825 [==============================] - 1s 2ms/step - loss: 0.5946 - accuracy: 0.6409\n",
      "Epoch 17/30\n",
      "825/825 [==============================] - 2s 2ms/step - loss: 0.5903 - accuracy: 0.6409\n",
      "Epoch 18/30\n",
      "825/825 [==============================] - 2s 2ms/step - loss: 0.5928 - accuracy: 0.6466\n",
      "Epoch 19/30\n",
      "825/825 [==============================] - 3s 3ms/step - loss: 0.5904 - accuracy: 0.6518\n",
      "Epoch 20/30\n",
      "825/825 [==============================] - 2s 2ms/step - loss: 0.5898 - accuracy: 0.6480\n",
      "Epoch 21/30\n",
      "825/825 [==============================] - 3s 4ms/step - loss: 0.5869 - accuracy: 0.6477\n",
      "Epoch 22/30\n",
      "825/825 [==============================] - 2s 3ms/step - loss: 0.5878 - accuracy: 0.6522\n",
      "Epoch 23/30\n",
      "825/825 [==============================] - 2s 2ms/step - loss: 0.5868 - accuracy: 0.6492\n",
      "Epoch 24/30\n",
      "825/825 [==============================] - 3s 3ms/step - loss: 0.5877 - accuracy: 0.6481\n",
      "Epoch 25/30\n",
      "825/825 [==============================] - 4s 4ms/step - loss: 0.5896 - accuracy: 0.6474\n",
      "Epoch 26/30\n",
      "825/825 [==============================] - 2s 3ms/step - loss: 0.5880 - accuracy: 0.6510\n",
      "Epoch 27/30\n",
      "825/825 [==============================] - 2s 3ms/step - loss: 0.5878 - accuracy: 0.6470\n",
      "Epoch 28/30\n",
      "825/825 [==============================] - 2s 2ms/step - loss: 0.5916 - accuracy: 0.6394\n",
      "Epoch 29/30\n",
      "825/825 [==============================] - 3s 3ms/step - loss: 0.5888 - accuracy: 0.6431\n",
      "Epoch 30/30\n",
      "825/825 [==============================] - 2s 3ms/step - loss: 0.5888 - accuracy: 0.6458\n",
      "-- model evaluate with train data --\n",
      "258/258 [==============================] - 1s 2ms/step - loss: 0.5549 - accuracy: 0.6659\n",
      "0.6658989191055298\n",
      "-- model evaluate with test data --\n",
      "86/86 [==============================] - 0s 1ms/step - loss: 0.5626 - accuracy: 0.6731\n",
      "0.673090934753418\n"
     ]
    },
    {
     "data": {
      "image/png": "[encoded data removed]",
      "text/plain": [
       "<Figure size 432x288 with 1 Axes>"
      ]
     },
     "metadata": {
      "needs_background": "light"
     },
     "output_type": "display_data"
    },
    {
     "data": {
      "image/png": "[encoded data removed]",
      "text/plain": [
       "<Figure size 432x288 with 1 Axes>"
      ]
     },
     "metadata": {
      "needs_background": "light"
     },
     "output_type": "display_data"
    }
   ],
   "source": [
    "from tensorflow.keras.models import Sequential         # 신경망 생성\n",
    "from tensorflow.keras.layers import Dense              # 신경망 층 추가\n",
    "from tensorflow.keras.layers import BatchNormalization # 배치 정규화\n",
    "from tensorflow.keras.layers import Activation         # 활성화 함수 사용\n",
    "\n",
    "n_feat = X_tn.shape[1]              # 신경망에 사용되는 피처 개수 (현재 데이터: 16개)\n",
    "n_class = len(set(y))               # 클래스 개수 (현재 데이터: 2개)\n",
    "epo = 30                            # 학습횟수 30. 30단계로 학습 진행\n",
    "\n",
    "model_tanh = Sequential()                # 초기 모형 생성.\n",
    "model_tanh.add(Dense(20, input_dim = n_feat)) # add로 입력층 추가, *input_dim = 피처개수, 20은 output 차원\n",
    "model_tanh.add(BatchNormalization())     # 배치 정규화\n",
    "model_tanh.add(Activation('relu'))       # 활성화 함수: 하이퍼볼릭 탄젠트\n",
    "model_tanh.add(Dense(n_class))           # 최종 아웃풋 층. 클래스 개수인 2개로 구분되도록.\n",
    "model_tanh.add(Activation('softmax'))    # 활성화 함수 softmax\n",
    "\n",
    "model_tanh.summary()\n",
    "\n",
    "model_tanh.compile(loss = 'binary_crossentropy',  # 손실함수: 이진은 binary, 이상은 categorical\n",
    "             optimizer = 'adam',                  # 옵티마이저와 평가 기준\n",
    "             metrics = ['accuracy'])\n",
    "\n",
    "hist_tanh = model_tanh.fit(X_tn, y_tn, epochs = epo, batch_size = 10)  # batch_size: learning mini batch size at one ephoch\n",
    "\n",
    "# evaluation\n",
    "print(\"-- model evaluate with train data --\")\n",
    "print(model_tanh.evaluate(X_tn, y_tn)[1])\n",
    "print(\"-- model evaluate with test data --\")\n",
    "print(model_tanh.evaluate(X_te, y_te)[1])\n",
    "\n",
    "# accuracy\n",
    "import numpy as np\n",
    "epoch = np.arange(1, epo +1)          # aragne 함수로 x축 설정\n",
    "# print(epoch)\n",
    "accuracy = hist_tanh.history['accuracy']   # 학습시켰던 모형에서 history를 이용하여 데려올 수 있다. 에포크 별 정확도를 알 수 있다.\n",
    "# print(accuracy)\n",
    "loss = hist_tanh.history['loss']           # 학습시켰던 모형에서 history를 이용하여 데려올 수 있다. 에포크 별 손실정도를 알 수 있다.\n",
    "# print(loss)\n",
    "\n",
    "\n",
    "# visualization\n",
    "import matplotlib.pyplot as plt\n",
    "plt.plot(epoch, accuracy, label = 'accuracy')\n",
    "plt.xlabel('epoch')\n",
    "plt.ylabel('accuracy')\n",
    "plt.legend()\n",
    "plt.title(\"accuracy by epoch\")\n",
    "plt.show()\n",
    "\n",
    "plt.plot(epoch, loss, 'r', label = 'loss')    # plot color = r[ed]\n",
    "plt.xlabel('epoch')\n",
    "plt.ylabel('loss')\n",
    "plt.legend()\n",
    "plt.title(\"loss by epoch\")\n",
    "plt.show()"
   ]
  },
  {
   "cell_type": "markdown",
   "id": "89d10048",
   "metadata": {},
   "source": [
    "### Commentary\n",
    "\n",
    "그래도 상승하지 않는 정확도...\n",
    "\n",
    "데이터가 적기도 하고, 원래 이 데이터로 묻는 질문이 아니기도 했다. (customer score도 아니고...)\n",
    "\n",
    "역시 더 상세한 정보(출발 시간, 도착예상 시간, 각각의 도시 등) 없이는 예상 시간내 도착 여부를 확인하기는 어려운것 같다.\n",
    "\n",
    "다음은 스코어를 예측하는 것을 해보아야 겠다."
   ]
  }
 ],
 "metadata": {
  "kernelspec": {
   "display_name": "Python 3 (ipykernel)",
   "language": "python",
   "name": "python3"
  },
  "language_info": {
   "codemirror_mode": {
    "name": "ipython",
    "version": 3
   },
   "file_extension": ".py",
   "mimetype": "text/x-python",
   "name": "python",
   "nbconvert_exporter": "python",
   "pygments_lexer": "ipython3",
   "version": "3.8.5"
  },
  "toc": {
   "base_numbering": 1,
   "nav_menu": {},
   "number_sections": true,
   "sideBar": true,
   "skip_h1_title": false,
   "title_cell": "Table of Contents",
   "title_sidebar": "Contents",
   "toc_cell": false,
   "toc_position": {},
   "toc_section_display": true,
   "toc_window_display": true
  }
 },
 "nbformat": 4,
 "nbformat_minor": 5
}

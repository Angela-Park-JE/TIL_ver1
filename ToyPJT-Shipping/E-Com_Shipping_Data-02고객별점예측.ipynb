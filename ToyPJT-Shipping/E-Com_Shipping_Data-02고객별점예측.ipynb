{
 "cells": [
  {
   "cell_type": "markdown",
   "id": "1ce1c567",
   "metadata": {},
   "source": [
    "# E-Commerce_Shipping_Data in Kaggle\n",
    "\n",
    "이전에, 분류 신경망 빌딩 연습겸 배송이 예상된 시간 내에 도착을 했는지 안했는지 예측하는 모델을 만들어보았다.\n",
    "\n",
    "이번에는 분류가 아닌 회귀를 이용하여 **고객의 별점**을 예측해보도록 하겠다. \n",
    "\n",
    "데이터 출처: https://www.kaggle.com/datasets/prachi13/customer-analytics\n"
   ]
  },
  {
   "cell_type": "code",
   "execution_count": null,
   "id": "64e0797a",
   "metadata": {},
   "outputs": [],
   "source": [
    "# code for model save and load \n",
    "\n",
    "# model.save('cnn_model2.h5')\n",
    "\n",
    "# from tensorflow.keras.models import load_model\n",
    "# cnn_model2 = load_model('cnn_model2.h5')"
   ]
  },
  {
   "cell_type": "markdown",
   "id": "cbf419ee",
   "metadata": {},
   "source": [
    "# Data and libraries\n",
    "\n",
    "일관된 결과를 위해 random seed를 0으로 고정한다.\n"
   ]
  },
  {
   "cell_type": "code",
   "execution_count": 1,
   "id": "78351b34",
   "metadata": {},
   "outputs": [
    {
     "name": "stdout",
     "output_type": "stream",
     "text": [
      "numpy version: 1.22.4\n",
      "pandas version: 1.22.4\n",
      "tensorflow version: 2.9.1\n",
      "keras version: 2.9.0\n"
     ]
    }
   ],
   "source": [
    "import numpy as np\n",
    "import pandas as pd\n",
    "import tensorflow as tf\n",
    "import keras\n",
    "\n",
    "np.random.seed(0)\n",
    "tf.random.set_seed(0)\n",
    "\n",
    "# version check\n",
    "print(\"numpy version:\", np.__version__)\n",
    "print(\"pandas version:\", np.__version__)\n",
    "print(\"tensorflow version:\", tf.__version__)\n",
    "print(\"keras version:\", keras.__version__)"
   ]
  },
  {
   "cell_type": "code",
   "execution_count": 2,
   "id": "cdab486d",
   "metadata": {
    "scrolled": false
   },
   "outputs": [
    {
     "data": {
      "text/html": [
       "<div>\n",
       "<style scoped>\n",
       "    .dataframe tbody tr th:only-of-type {\n",
       "        vertical-align: middle;\n",
       "    }\n",
       "\n",
       "    .dataframe tbody tr th {\n",
       "        vertical-align: top;\n",
       "    }\n",
       "\n",
       "    .dataframe thead th {\n",
       "        text-align: right;\n",
       "    }\n",
       "</style>\n",
       "<table border=\"1\" class=\"dataframe\">\n",
       "  <thead>\n",
       "    <tr style=\"text-align: right;\">\n",
       "      <th></th>\n",
       "      <th>ID</th>\n",
       "      <th>Warehouse_block</th>\n",
       "      <th>Mode_of_Shipment</th>\n",
       "      <th>Customer_care_calls</th>\n",
       "      <th>Customer_rating</th>\n",
       "      <th>Cost_of_the_Product</th>\n",
       "      <th>Prior_purchases</th>\n",
       "      <th>Product_importance</th>\n",
       "      <th>Gender</th>\n",
       "      <th>Discount_offered</th>\n",
       "      <th>Weight_in_gms</th>\n",
       "      <th>Reached.on.Time_Y.N</th>\n",
       "    </tr>\n",
       "  </thead>\n",
       "  <tbody>\n",
       "    <tr>\n",
       "      <th>0</th>\n",
       "      <td>1</td>\n",
       "      <td>D</td>\n",
       "      <td>Flight</td>\n",
       "      <td>4</td>\n",
       "      <td>2</td>\n",
       "      <td>177</td>\n",
       "      <td>3</td>\n",
       "      <td>low</td>\n",
       "      <td>F</td>\n",
       "      <td>44</td>\n",
       "      <td>1233</td>\n",
       "      <td>1</td>\n",
       "    </tr>\n",
       "    <tr>\n",
       "      <th>1</th>\n",
       "      <td>2</td>\n",
       "      <td>F</td>\n",
       "      <td>Flight</td>\n",
       "      <td>4</td>\n",
       "      <td>5</td>\n",
       "      <td>216</td>\n",
       "      <td>2</td>\n",
       "      <td>low</td>\n",
       "      <td>M</td>\n",
       "      <td>59</td>\n",
       "      <td>3088</td>\n",
       "      <td>1</td>\n",
       "    </tr>\n",
       "    <tr>\n",
       "      <th>2</th>\n",
       "      <td>3</td>\n",
       "      <td>A</td>\n",
       "      <td>Flight</td>\n",
       "      <td>2</td>\n",
       "      <td>2</td>\n",
       "      <td>183</td>\n",
       "      <td>4</td>\n",
       "      <td>low</td>\n",
       "      <td>M</td>\n",
       "      <td>48</td>\n",
       "      <td>3374</td>\n",
       "      <td>1</td>\n",
       "    </tr>\n",
       "    <tr>\n",
       "      <th>3</th>\n",
       "      <td>4</td>\n",
       "      <td>B</td>\n",
       "      <td>Flight</td>\n",
       "      <td>3</td>\n",
       "      <td>3</td>\n",
       "      <td>176</td>\n",
       "      <td>4</td>\n",
       "      <td>medium</td>\n",
       "      <td>M</td>\n",
       "      <td>10</td>\n",
       "      <td>1177</td>\n",
       "      <td>1</td>\n",
       "    </tr>\n",
       "    <tr>\n",
       "      <th>4</th>\n",
       "      <td>5</td>\n",
       "      <td>C</td>\n",
       "      <td>Flight</td>\n",
       "      <td>2</td>\n",
       "      <td>2</td>\n",
       "      <td>184</td>\n",
       "      <td>3</td>\n",
       "      <td>medium</td>\n",
       "      <td>F</td>\n",
       "      <td>46</td>\n",
       "      <td>2484</td>\n",
       "      <td>1</td>\n",
       "    </tr>\n",
       "    <tr>\n",
       "      <th>5</th>\n",
       "      <td>6</td>\n",
       "      <td>F</td>\n",
       "      <td>Flight</td>\n",
       "      <td>3</td>\n",
       "      <td>1</td>\n",
       "      <td>162</td>\n",
       "      <td>3</td>\n",
       "      <td>medium</td>\n",
       "      <td>F</td>\n",
       "      <td>12</td>\n",
       "      <td>1417</td>\n",
       "      <td>1</td>\n",
       "    </tr>\n",
       "    <tr>\n",
       "      <th>6</th>\n",
       "      <td>7</td>\n",
       "      <td>D</td>\n",
       "      <td>Flight</td>\n",
       "      <td>3</td>\n",
       "      <td>4</td>\n",
       "      <td>250</td>\n",
       "      <td>3</td>\n",
       "      <td>low</td>\n",
       "      <td>F</td>\n",
       "      <td>3</td>\n",
       "      <td>2371</td>\n",
       "      <td>1</td>\n",
       "    </tr>\n",
       "    <tr>\n",
       "      <th>7</th>\n",
       "      <td>8</td>\n",
       "      <td>F</td>\n",
       "      <td>Flight</td>\n",
       "      <td>4</td>\n",
       "      <td>1</td>\n",
       "      <td>233</td>\n",
       "      <td>2</td>\n",
       "      <td>low</td>\n",
       "      <td>F</td>\n",
       "      <td>48</td>\n",
       "      <td>2804</td>\n",
       "      <td>1</td>\n",
       "    </tr>\n",
       "    <tr>\n",
       "      <th>8</th>\n",
       "      <td>9</td>\n",
       "      <td>A</td>\n",
       "      <td>Flight</td>\n",
       "      <td>3</td>\n",
       "      <td>4</td>\n",
       "      <td>150</td>\n",
       "      <td>3</td>\n",
       "      <td>low</td>\n",
       "      <td>F</td>\n",
       "      <td>11</td>\n",
       "      <td>1861</td>\n",
       "      <td>1</td>\n",
       "    </tr>\n",
       "    <tr>\n",
       "      <th>9</th>\n",
       "      <td>10</td>\n",
       "      <td>B</td>\n",
       "      <td>Flight</td>\n",
       "      <td>3</td>\n",
       "      <td>2</td>\n",
       "      <td>164</td>\n",
       "      <td>3</td>\n",
       "      <td>medium</td>\n",
       "      <td>F</td>\n",
       "      <td>29</td>\n",
       "      <td>1187</td>\n",
       "      <td>1</td>\n",
       "    </tr>\n",
       "  </tbody>\n",
       "</table>\n",
       "</div>"
      ],
      "text/plain": [
       "   ID Warehouse_block Mode_of_Shipment  Customer_care_calls  Customer_rating  \\\n",
       "0   1               D           Flight                    4                2   \n",
       "1   2               F           Flight                    4                5   \n",
       "2   3               A           Flight                    2                2   \n",
       "3   4               B           Flight                    3                3   \n",
       "4   5               C           Flight                    2                2   \n",
       "5   6               F           Flight                    3                1   \n",
       "6   7               D           Flight                    3                4   \n",
       "7   8               F           Flight                    4                1   \n",
       "8   9               A           Flight                    3                4   \n",
       "9  10               B           Flight                    3                2   \n",
       "\n",
       "   Cost_of_the_Product  Prior_purchases Product_importance Gender  \\\n",
       "0                  177                3                low      F   \n",
       "1                  216                2                low      M   \n",
       "2                  183                4                low      M   \n",
       "3                  176                4             medium      M   \n",
       "4                  184                3             medium      F   \n",
       "5                  162                3             medium      F   \n",
       "6                  250                3                low      F   \n",
       "7                  233                2                low      F   \n",
       "8                  150                3                low      F   \n",
       "9                  164                3             medium      F   \n",
       "\n",
       "   Discount_offered  Weight_in_gms  Reached.on.Time_Y.N  \n",
       "0                44           1233                    1  \n",
       "1                59           3088                    1  \n",
       "2                48           3374                    1  \n",
       "3                10           1177                    1  \n",
       "4                46           2484                    1  \n",
       "5                12           1417                    1  \n",
       "6                 3           2371                    1  \n",
       "7                48           2804                    1  \n",
       "8                11           1861                    1  \n",
       "9                29           1187                    1  "
      ]
     },
     "execution_count": 2,
     "metadata": {},
     "output_type": "execute_result"
    }
   ],
   "source": [
    "# data load\n",
    "\n",
    "raw_data = pd.read_csv('/Users/Angela/Desktop/Personal/toy1_물류/Train_E-Commerce_Shipping_Data.csv')\n",
    "raw_data.head(10)"
   ]
  },
  {
   "cell_type": "code",
   "execution_count": 3,
   "id": "6501d50c",
   "metadata": {},
   "outputs": [
    {
     "data": {
      "text/plain": [
       "(10999, 12)"
      ]
     },
     "execution_count": 3,
     "metadata": {},
     "output_type": "execute_result"
    }
   ],
   "source": [
    "raw_data.shape"
   ]
  },
  {
   "cell_type": "code",
   "execution_count": 4,
   "id": "d200a4f6",
   "metadata": {},
   "outputs": [
    {
     "data": {
      "text/plain": [
       "Index(['ID', 'Warehouse_block', 'Mode_of_Shipment', 'Customer_care_calls',\n",
       "       'Customer_rating', 'Cost_of_the_Product', 'Prior_purchases',\n",
       "       'Product_importance', 'Gender', 'Discount_offered', 'Weight_in_gms',\n",
       "       'Reached.on.Time_Y.N'],\n",
       "      dtype='object')"
      ]
     },
     "execution_count": 4,
     "metadata": {},
     "output_type": "execute_result"
    }
   ],
   "source": [
    "raw_data.columns"
   ]
  },
  {
   "cell_type": "markdown",
   "id": "cd51c246",
   "metadata": {},
   "source": [
    "# predict 'Customer_rating'\n",
    "\n",
    "##  crop columns\n",
    "'Customer_rating' prediction에 필요할 것으로 생각되는 컬럼만 남긴다. \n",
    "\n",
    "'Warehouse_block', 'Mode_of_Shipment',  'Gender',  'Weight_in_gms' 는 제외하기로 했다."
   ]
  },
  {
   "cell_type": "code",
   "execution_count": 5,
   "id": "c62a58b7",
   "metadata": {
    "scrolled": true
   },
   "outputs": [],
   "source": [
    "# dataframe crop\n",
    "\n",
    "df = raw_data[[ 'Customer_care_calls', 'Cost_of_the_Product', 'Prior_purchases',\n",
    "               'Product_importance', 'Discount_offered', 'Reached.on.Time_Y.N', \n",
    "               'Customer_rating']]"
   ]
  },
  {
   "cell_type": "code",
   "execution_count": 6,
   "id": "7fdfef77",
   "metadata": {},
   "outputs": [
    {
     "data": {
      "text/plain": [
       "Customer_care_calls      6\n",
       "Cost_of_the_Product    215\n",
       "Prior_purchases          8\n",
       "Product_importance       3\n",
       "Discount_offered        65\n",
       "Reached.on.Time_Y.N      2\n",
       "Customer_rating          5\n",
       "dtype: int64"
      ]
     },
     "execution_count": 6,
     "metadata": {},
     "output_type": "execute_result"
    }
   ],
   "source": [
    "df.nunique()"
   ]
  },
  {
   "cell_type": "markdown",
   "id": "374a3591",
   "metadata": {},
   "source": [
    "## categorial columns processing (one-hot encoding)\n",
    "\n",
    "Warehouse_block, Mode_of_Shipment, Product_importance"
   ]
  },
  {
   "cell_type": "code",
   "execution_count": 7,
   "id": "e5731895",
   "metadata": {},
   "outputs": [
    {
     "name": "stdout",
     "output_type": "stream",
     "text": [
      "<class 'pandas.core.frame.DataFrame'>\n",
      "RangeIndex: 10999 entries, 0 to 10998\n",
      "Data columns (total 7 columns):\n",
      " #   Column               Non-Null Count  Dtype \n",
      "---  ------               --------------  ----- \n",
      " 0   Customer_care_calls  10999 non-null  int64 \n",
      " 1   Cost_of_the_Product  10999 non-null  int64 \n",
      " 2   Prior_purchases      10999 non-null  int64 \n",
      " 3   Product_importance   10999 non-null  object\n",
      " 4   Discount_offered     10999 non-null  int64 \n",
      " 5   Reached.on.Time_Y.N  10999 non-null  int64 \n",
      " 6   Customer_rating      10999 non-null  int64 \n",
      "dtypes: int64(6), object(1)\n",
      "memory usage: 601.6+ KB\n"
     ]
    }
   ],
   "source": [
    "df.info()"
   ]
  },
  {
   "cell_type": "markdown",
   "id": "b02f925e",
   "metadata": {},
   "source": [
    "# feature and target\n",
    "\n",
    "Product_importance 는 카테고리형이기 때문에 one-hot인코딩을 진행한다."
   ]
  },
  {
   "cell_type": "code",
   "execution_count": 10,
   "id": "2f22d252",
   "metadata": {
    "scrolled": true
   },
   "outputs": [
    {
     "data": {
      "text/html": [
       "<div>\n",
       "<style scoped>\n",
       "    .dataframe tbody tr th:only-of-type {\n",
       "        vertical-align: middle;\n",
       "    }\n",
       "\n",
       "    .dataframe tbody tr th {\n",
       "        vertical-align: top;\n",
       "    }\n",
       "\n",
       "    .dataframe thead th {\n",
       "        text-align: right;\n",
       "    }\n",
       "</style>\n",
       "<table border=\"1\" class=\"dataframe\">\n",
       "  <thead>\n",
       "    <tr style=\"text-align: right;\">\n",
       "      <th></th>\n",
       "      <th>Customer_care_calls</th>\n",
       "      <th>Cost_of_the_Product</th>\n",
       "      <th>Prior_purchases</th>\n",
       "      <th>Discount_offered</th>\n",
       "      <th>Reached.on.Time_Y.N</th>\n",
       "      <th>Customer_rating</th>\n",
       "      <th>Product_importance_high</th>\n",
       "      <th>Product_importance_low</th>\n",
       "      <th>Product_importance_medium</th>\n",
       "    </tr>\n",
       "  </thead>\n",
       "  <tbody>\n",
       "    <tr>\n",
       "      <th>0</th>\n",
       "      <td>4</td>\n",
       "      <td>177</td>\n",
       "      <td>3</td>\n",
       "      <td>44</td>\n",
       "      <td>1</td>\n",
       "      <td>2</td>\n",
       "      <td>0</td>\n",
       "      <td>1</td>\n",
       "      <td>0</td>\n",
       "    </tr>\n",
       "    <tr>\n",
       "      <th>1</th>\n",
       "      <td>4</td>\n",
       "      <td>216</td>\n",
       "      <td>2</td>\n",
       "      <td>59</td>\n",
       "      <td>1</td>\n",
       "      <td>5</td>\n",
       "      <td>0</td>\n",
       "      <td>1</td>\n",
       "      <td>0</td>\n",
       "    </tr>\n",
       "    <tr>\n",
       "      <th>2</th>\n",
       "      <td>2</td>\n",
       "      <td>183</td>\n",
       "      <td>4</td>\n",
       "      <td>48</td>\n",
       "      <td>1</td>\n",
       "      <td>2</td>\n",
       "      <td>0</td>\n",
       "      <td>1</td>\n",
       "      <td>0</td>\n",
       "    </tr>\n",
       "    <tr>\n",
       "      <th>3</th>\n",
       "      <td>3</td>\n",
       "      <td>176</td>\n",
       "      <td>4</td>\n",
       "      <td>10</td>\n",
       "      <td>1</td>\n",
       "      <td>3</td>\n",
       "      <td>0</td>\n",
       "      <td>0</td>\n",
       "      <td>1</td>\n",
       "    </tr>\n",
       "    <tr>\n",
       "      <th>4</th>\n",
       "      <td>2</td>\n",
       "      <td>184</td>\n",
       "      <td>3</td>\n",
       "      <td>46</td>\n",
       "      <td>1</td>\n",
       "      <td>2</td>\n",
       "      <td>0</td>\n",
       "      <td>0</td>\n",
       "      <td>1</td>\n",
       "    </tr>\n",
       "    <tr>\n",
       "      <th>5</th>\n",
       "      <td>3</td>\n",
       "      <td>162</td>\n",
       "      <td>3</td>\n",
       "      <td>12</td>\n",
       "      <td>1</td>\n",
       "      <td>1</td>\n",
       "      <td>0</td>\n",
       "      <td>0</td>\n",
       "      <td>1</td>\n",
       "    </tr>\n",
       "    <tr>\n",
       "      <th>6</th>\n",
       "      <td>3</td>\n",
       "      <td>250</td>\n",
       "      <td>3</td>\n",
       "      <td>3</td>\n",
       "      <td>1</td>\n",
       "      <td>4</td>\n",
       "      <td>0</td>\n",
       "      <td>1</td>\n",
       "      <td>0</td>\n",
       "    </tr>\n",
       "    <tr>\n",
       "      <th>7</th>\n",
       "      <td>4</td>\n",
       "      <td>233</td>\n",
       "      <td>2</td>\n",
       "      <td>48</td>\n",
       "      <td>1</td>\n",
       "      <td>1</td>\n",
       "      <td>0</td>\n",
       "      <td>1</td>\n",
       "      <td>0</td>\n",
       "    </tr>\n",
       "    <tr>\n",
       "      <th>8</th>\n",
       "      <td>3</td>\n",
       "      <td>150</td>\n",
       "      <td>3</td>\n",
       "      <td>11</td>\n",
       "      <td>1</td>\n",
       "      <td>4</td>\n",
       "      <td>0</td>\n",
       "      <td>1</td>\n",
       "      <td>0</td>\n",
       "    </tr>\n",
       "    <tr>\n",
       "      <th>9</th>\n",
       "      <td>3</td>\n",
       "      <td>164</td>\n",
       "      <td>3</td>\n",
       "      <td>29</td>\n",
       "      <td>1</td>\n",
       "      <td>2</td>\n",
       "      <td>0</td>\n",
       "      <td>0</td>\n",
       "      <td>1</td>\n",
       "    </tr>\n",
       "  </tbody>\n",
       "</table>\n",
       "</div>"
      ],
      "text/plain": [
       "   Customer_care_calls  Cost_of_the_Product  Prior_purchases  \\\n",
       "0                    4                  177                3   \n",
       "1                    4                  216                2   \n",
       "2                    2                  183                4   \n",
       "3                    3                  176                4   \n",
       "4                    2                  184                3   \n",
       "5                    3                  162                3   \n",
       "6                    3                  250                3   \n",
       "7                    4                  233                2   \n",
       "8                    3                  150                3   \n",
       "9                    3                  164                3   \n",
       "\n",
       "   Discount_offered  Reached.on.Time_Y.N  Customer_rating  \\\n",
       "0                44                    1                2   \n",
       "1                59                    1                5   \n",
       "2                48                    1                2   \n",
       "3                10                    1                3   \n",
       "4                46                    1                2   \n",
       "5                12                    1                1   \n",
       "6                 3                    1                4   \n",
       "7                48                    1                1   \n",
       "8                11                    1                4   \n",
       "9                29                    1                2   \n",
       "\n",
       "   Product_importance_high  Product_importance_low  Product_importance_medium  \n",
       "0                        0                       1                          0  \n",
       "1                        0                       1                          0  \n",
       "2                        0                       1                          0  \n",
       "3                        0                       0                          1  \n",
       "4                        0                       0                          1  \n",
       "5                        0                       0                          1  \n",
       "6                        0                       1                          0  \n",
       "7                        0                       1                          0  \n",
       "8                        0                       1                          0  \n",
       "9                        0                       0                          1  "
      ]
     },
     "execution_count": 10,
     "metadata": {},
     "output_type": "execute_result"
    }
   ],
   "source": [
    "df_onehot = pd.get_dummies(data = df, columns = ['Product_importance'], \n",
    "                     prefix = ['Product_importance'])\n",
    "df_onehot.head(10)"
   ]
  },
  {
   "cell_type": "code",
   "execution_count": 11,
   "id": "2dae897c",
   "metadata": {},
   "outputs": [
    {
     "data": {
      "text/plain": [
       "Index(['Customer_care_calls', 'Cost_of_the_Product', 'Prior_purchases',\n",
       "       'Discount_offered', 'Reached.on.Time_Y.N', 'Customer_rating',\n",
       "       'Product_importance_high', 'Product_importance_low',\n",
       "       'Product_importance_medium'],\n",
       "      dtype='object')"
      ]
     },
     "execution_count": 11,
     "metadata": {},
     "output_type": "execute_result"
    }
   ],
   "source": [
    "df_onehot.columns"
   ]
  },
  {
   "cell_type": "markdown",
   "id": "0006455b",
   "metadata": {},
   "source": [
    "## target data one-hot encoding and then set the X and y\n",
    "\n",
    "카테고리로 되어있는 데이터들을 원핫인코딩을 진행하기로 했다."
   ]
  },
  {
   "cell_type": "code",
   "execution_count": 12,
   "id": "1cab6118",
   "metadata": {},
   "outputs": [],
   "source": [
    "X = df_onehot[['Customer_care_calls', 'Cost_of_the_Product', 'Prior_purchases',\n",
    "       'Discount_offered', 'Reached.on.Time_Y.N', 'Customer_rating',\n",
    "       'Product_importance_high', 'Product_importance_low',\n",
    "       'Product_importance_medium']]\n",
    "y = df_onehot['Customer_rating']"
   ]
  },
  {
   "cell_type": "code",
   "execution_count": null,
   "id": "e7ade165",
   "metadata": {},
   "outputs": [],
   "source": [
    "# from tensorflow.keras.utils import to_categorical\n",
    "\n",
    "# y_hot = to_categorical(y)\n",
    "# print(y_hot)"
   ]
  },
  {
   "cell_type": "markdown",
   "id": "47fb264d",
   "metadata": {},
   "source": [
    "## feature dimension "
   ]
  },
  {
   "cell_type": "code",
   "execution_count": 13,
   "id": "cc4cb130",
   "metadata": {},
   "outputs": [
    {
     "name": "stdout",
     "output_type": "stream",
     "text": [
      "(10999, 9)\n"
     ]
    }
   ],
   "source": [
    "print(X.shape)"
   ]
  },
  {
   "cell_type": "markdown",
   "id": "d8119042",
   "metadata": {},
   "source": [
    "## target data classes\n",
    "\n",
    "분류 문제인 것은 맞지만, 가까운 것에 따라서 점수를 매겨야 하며 다섯가지 점수만 존재하며,\n",
    "\n",
    "4점 이상이라고 해서 5점을 줄 수 없으며, 3점이라고 해서 2점과 많은 차이가 날 것이라고 생각할 수 없는 것이 바로 score rating이다.\n",
    "\n",
    "두 가지로 진행을 해본다음, 확인을 해봐야 겠다. 먼저 회귀로 예측해본다."
   ]
  },
  {
   "cell_type": "code",
   "execution_count": 14,
   "id": "e2598fdd",
   "metadata": {},
   "outputs": [
    {
     "name": "stdout",
     "output_type": "stream",
     "text": [
      "{1, 2, 3, 4, 5}\n"
     ]
    }
   ],
   "source": [
    "print(set(y))"
   ]
  },
  {
   "cell_type": "markdown",
   "id": "e8773435",
   "metadata": {},
   "source": [
    "# by Regression"
   ]
  },
  {
   "cell_type": "markdown",
   "id": "9caf5889",
   "metadata": {},
   "source": [
    "## Split Training and Test Data"
   ]
  },
  {
   "cell_type": "code",
   "execution_count": 16,
   "id": "ed9bdfea",
   "metadata": {},
   "outputs": [],
   "source": [
    "from sklearn.model_selection import train_test_split\n",
    "\n",
    "X_tn, X_te, y_tn, y_te = train_test_split(X, y, random_state = 0)"
   ]
  },
  {
   "cell_type": "markdown",
   "id": "11faa74e",
   "metadata": {},
   "source": [
    "## Building model"
   ]
  },
  {
   "cell_type": "code",
   "execution_count": 17,
   "id": "5912bc88",
   "metadata": {},
   "outputs": [],
   "source": [
    "import os\n",
    "os.environ['TF_CPP_MIN_LOG_LEVEL'] = '2'"
   ]
  },
  {
   "cell_type": "code",
   "execution_count": 18,
   "id": "56b8545b",
   "metadata": {
    "scrolled": true
   },
   "outputs": [],
   "source": [
    "from tensorflow.keras.models import Sequential         # 신경망 생성\n",
    "from tensorflow.keras.layers import Dense              # 신경망 층 추가\n",
    "\n",
    "n_feat = X_tn.shape[1]              # 신경망에 사용되는 피처 개수 (현재 데이터: 13개)\n",
    "epo = 30                            # 학습횟수 30. 30단계로 학습 진행\n",
    "\n",
    "model = Sequential()                # 초기 모형 생성.\n",
    "model.add(Dense(20, input_dim = n_feat, activation = 'relu')) # add로 입력층 추가, *input_dim = 피처 개수, 20은 output 차원, 활성화 함수를 한 줄에 넣음.\n",
    "model.add(Dense(1))                 # 최종 아웃풋 층. 회귀문제로 1개의 노드로 출력되도록 한다. \n",
    "                                    # 회귀때 최종 활성화 함수를 선형 함수를 사용해야 하는데, 코드에서 지정하지 않으면 선형 함수가 적용된다."
   ]
  },
  {
   "cell_type": "code",
   "execution_count": 19,
   "id": "4f73147f",
   "metadata": {},
   "outputs": [
    {
     "name": "stdout",
     "output_type": "stream",
     "text": [
      "Model: \"sequential\"\n",
      "_________________________________________________________________\n",
      " Layer (type)                Output Shape              Param #   \n",
      "=================================================================\n",
      " dense (Dense)               (None, 20)                200       \n",
      "                                                                 \n",
      " dense_1 (Dense)             (None, 1)                 21        \n",
      "                                                                 \n",
      "=================================================================\n",
      "Total params: 221\n",
      "Trainable params: 221\n",
      "Non-trainable params: 0\n",
      "_________________________________________________________________\n"
     ]
    }
   ],
   "source": [
    "model.summary()"
   ]
  },
  {
   "cell_type": "markdown",
   "id": "c5242d67",
   "metadata": {},
   "source": [
    "## model compile"
   ]
  },
  {
   "cell_type": "code",
   "execution_count": 20,
   "id": "2ec8aeb8",
   "metadata": {},
   "outputs": [],
   "source": [
    "model.compile(loss = 'mean_squared_error',         # 손실함수: 회귀 문제이기 때문에 MSE를 사용\n",
    "              optimizer = 'adam',                  # 옵티마이저와 평가 기준\n",
    "              metrics = ['mean_squared_error'])"
   ]
  },
  {
   "cell_type": "markdown",
   "id": "935b784a",
   "metadata": {},
   "source": [
    "## model learning"
   ]
  },
  {
   "cell_type": "code",
   "execution_count": 21,
   "id": "0b7ab783",
   "metadata": {
    "scrolled": true
   },
   "outputs": [
    {
     "name": "stdout",
     "output_type": "stream",
     "text": [
      "Epoch 1/30\n",
      "825/825 [==============================] - 2s 2ms/step - loss: 7.6409 - mean_squared_error: 7.6409\n",
      "Epoch 2/30\n",
      "825/825 [==============================] - 1s 2ms/step - loss: 0.0890 - mean_squared_error: 0.0890\n",
      "Epoch 3/30\n",
      "825/825 [==============================] - 1s 2ms/step - loss: 0.0080 - mean_squared_error: 0.0080\n",
      "Epoch 4/30\n",
      "825/825 [==============================] - 1s 2ms/step - loss: 0.0033 - mean_squared_error: 0.0033\n",
      "Epoch 5/30\n",
      "825/825 [==============================] - 1s 2ms/step - loss: 0.0023 - mean_squared_error: 0.0023\n",
      "Epoch 6/30\n",
      "825/825 [==============================] - 1s 2ms/step - loss: 0.0019 - mean_squared_error: 0.0019\n",
      "Epoch 7/30\n",
      "825/825 [==============================] - 1s 2ms/step - loss: 0.0018 - mean_squared_error: 0.0018\n",
      "Epoch 8/30\n",
      "825/825 [==============================] - 1s 2ms/step - loss: 0.0023 - mean_squared_error: 0.0023\n",
      "Epoch 9/30\n",
      "825/825 [==============================] - 1s 2ms/step - loss: 0.0021 - mean_squared_error: 0.0021\n",
      "Epoch 10/30\n",
      "825/825 [==============================] - 1s 2ms/step - loss: 0.0033 - mean_squared_error: 0.0033\n",
      "Epoch 11/30\n",
      "825/825 [==============================] - 2s 2ms/step - loss: 0.0028 - mean_squared_error: 0.0028\n",
      "Epoch 12/30\n",
      "825/825 [==============================] - 2s 2ms/step - loss: 0.0052 - mean_squared_error: 0.0052\n",
      "Epoch 13/30\n",
      "825/825 [==============================] - 2s 2ms/step - loss: 0.0011 - mean_squared_error: 0.0011\n",
      "Epoch 14/30\n",
      "825/825 [==============================] - 2s 2ms/step - loss: 0.0046 - mean_squared_error: 0.0046\n",
      "Epoch 15/30\n",
      "825/825 [==============================] - 1s 1ms/step - loss: 0.0054 - mean_squared_error: 0.0054\n",
      "Epoch 16/30\n",
      "825/825 [==============================] - 1s 1ms/step - loss: 0.0027 - mean_squared_error: 0.0027\n",
      "Epoch 17/30\n",
      "825/825 [==============================] - 2s 2ms/step - loss: 0.0020 - mean_squared_error: 0.0020\n",
      "Epoch 18/30\n",
      "825/825 [==============================] - 3s 3ms/step - loss: 0.0037 - mean_squared_error: 0.0037\n",
      "Epoch 19/30\n",
      "825/825 [==============================] - 1s 2ms/step - loss: 0.0018 - mean_squared_error: 0.0018\n",
      "Epoch 20/30\n",
      "825/825 [==============================] - 1s 2ms/step - loss: 0.0026 - mean_squared_error: 0.0026\n",
      "Epoch 21/30\n",
      "825/825 [==============================] - 1s 1ms/step - loss: 0.0041 - mean_squared_error: 0.0041\n",
      "Epoch 22/30\n",
      "825/825 [==============================] - 2s 3ms/step - loss: 0.0046 - mean_squared_error: 0.0046\n",
      "Epoch 23/30\n",
      "825/825 [==============================] - 2s 3ms/step - loss: 0.0019 - mean_squared_error: 0.0019\n",
      "Epoch 24/30\n",
      "825/825 [==============================] - 1s 2ms/step - loss: 0.0014 - mean_squared_error: 0.0014\n",
      "Epoch 25/30\n",
      "825/825 [==============================] - 2s 2ms/step - loss: 0.0039 - mean_squared_error: 0.0039\n",
      "Epoch 26/30\n",
      "825/825 [==============================] - 2s 2ms/step - loss: 0.0020 - mean_squared_error: 0.0020\n",
      "Epoch 27/30\n",
      "825/825 [==============================] - 1s 2ms/step - loss: 0.0019 - mean_squared_error: 0.0019\n",
      "Epoch 28/30\n",
      "825/825 [==============================] - 2s 3ms/step - loss: 0.0042 - mean_squared_error: 0.0042\n",
      "Epoch 29/30\n",
      "825/825 [==============================] - 2s 2ms/step - loss: 0.0027 - mean_squared_error: 0.0027\n",
      "Epoch 30/30\n",
      "825/825 [==============================] - 2s 2ms/step - loss: 0.0042 - mean_squared_error: 0.0042\n"
     ]
    }
   ],
   "source": [
    "hist = model.fit(X_tn, y_tn, epochs = epo, batch_size = 10)  # batch_size: learning mini batch size at one ephoch"
   ]
  },
  {
   "cell_type": "markdown",
   "id": "cfe3cd5b",
   "metadata": {},
   "source": [
    "굉장히 적어보이는데,,, 어느정도가 될지 보겠다.\n",
    "\n",
    "## evaluation\n",
    "\n",
    "정확도를 책정해본다."
   ]
  },
  {
   "cell_type": "code",
   "execution_count": 22,
   "id": "0cf6b796",
   "metadata": {},
   "outputs": [
    {
     "name": "stdout",
     "output_type": "stream",
     "text": [
      "258/258 [==============================] - 1s 1ms/step - loss: 4.3112e-05 - mean_squared_error: 4.3112e-05\n",
      "4.311179873184301e-05\n",
      "86/86 [==============================] - 0s 2ms/step - loss: 3.2709e-05 - mean_squared_error: 3.2709e-05\n",
      "3.270877277827822e-05\n"
     ]
    }
   ],
   "source": [
    "print(model.evaluate(X_tn, y_tn)[1])\n",
    "print(model.evaluate(X_te, y_te)[1])"
   ]
  },
  {
   "cell_type": "markdown",
   "id": "ecd9951f",
   "metadata": {},
   "source": [
    "딱봐도 좋은 결과는 아닌 것으로 보인다. 물론 만여개 데이터를 합쳐서 에러 제곱의 합이 저정도라면 큰것은 아니지만, 최대값이 5인 상황이라면 ...?\n",
    "\n",
    "### MSE and loss rate\n",
    "\n",
    "epoch 별로 그래프를 그리기 쉬워지도록 범위설정하는 arange 함수를 사용한다."
   ]
  },
  {
   "cell_type": "code",
   "execution_count": 23,
   "id": "82f84e08",
   "metadata": {},
   "outputs": [
    {
     "name": "stdout",
     "output_type": "stream",
     "text": [
      "[ 1  2  3  4  5  6  7  8  9 10 11 12 13 14 15 16 17 18 19 20 21 22 23 24\n",
      " 25 26 27 28 29 30]\n"
     ]
    }
   ],
   "source": [
    "import numpy as np\n",
    "epoch = np.arange(1, epo +1)               # x축 설정\n",
    "print(epoch)"
   ]
  },
  {
   "cell_type": "code",
   "execution_count": 24,
   "id": "84610fc9",
   "metadata": {},
   "outputs": [
    {
     "name": "stdout",
     "output_type": "stream",
     "text": [
      "[7.640883445739746, 0.08903779834508896, 0.007954319939017296, 0.0033221570774912834, 0.0023232251405715942, 0.0019275416852906346, 0.001786840264685452, 0.0022678356617689133, 0.0020693778060376644, 0.003251945599913597, 0.0027678189799189568, 0.005194614641368389, 0.001065667369402945, 0.0045702895149588585, 0.005430626217275858, 0.002674319315701723, 0.0020290371030569077, 0.003718278370797634, 0.001812837435863912, 0.002574205631390214, 0.004065967630594969, 0.004598978441208601, 0.001937388675287366, 0.0014303300995379686, 0.0038659030105918646, 0.002003432484343648, 0.0019216774962842464, 0.0041885897517204285, 0.0027080231811851263, 0.004235510714352131]\n"
     ]
    }
   ],
   "source": [
    "mse = hist.history['mean_squared_error']   # 학습시켰던 모형에서 history를 이용하여 데려올 수 있다. 에포크 별 정확도를 알 수 있다.\n",
    "print(mse)"
   ]
  },
  {
   "cell_type": "code",
   "execution_count": 25,
   "id": "dcf6fba1",
   "metadata": {},
   "outputs": [
    {
     "name": "stdout",
     "output_type": "stream",
     "text": [
      "[7.640883445739746, 0.08903779834508896, 0.007954319939017296, 0.0033221570774912834, 0.0023232251405715942, 0.0019275416852906346, 0.001786840264685452, 0.0022678356617689133, 0.0020693778060376644, 0.003251945599913597, 0.0027678189799189568, 0.0051946151070296764, 0.001065667369402945, 0.0045702895149588585, 0.005430626217275858, 0.002674319315701723, 0.0020290371030569077, 0.003718278370797634, 0.001812837435863912, 0.002574205631390214, 0.004065967630594969, 0.004598978441208601, 0.001937388675287366, 0.0014303300995379686, 0.0038659030105918646, 0.002003432484343648, 0.0019216774962842464, 0.0041885897517204285, 0.0027080231811851263, 0.004235510714352131]\n"
     ]
    }
   ],
   "source": [
    "loss = hist.history['loss']                # 학습시켰던 모형에서 history를 이용하여 데려올 수 있다. 에포크 별 손실정도를 알 수 있다.\n",
    "print(loss)"
   ]
  },
  {
   "cell_type": "markdown",
   "id": "bf8717de",
   "metadata": {},
   "source": [
    "## Accuracy and loss rate visualization"
   ]
  },
  {
   "cell_type": "code",
   "execution_count": 26,
   "id": "3ea60a2f",
   "metadata": {},
   "outputs": [
    {
     "data": {
      "image/png": "[encoded data removed]",
      "text/plain": [
       "<Figure size 432x288 with 1 Axes>"
      ]
     },
     "metadata": {
      "needs_background": "light"
     },
     "output_type": "display_data"
    }
   ],
   "source": [
    "import matplotlib.pyplot as plt\n",
    "\n",
    "plt.plot(epoch, mse, label = 'mse')\n",
    "plt.xlabel('epoch')\n",
    "plt.ylabel('mean_squared_error')\n",
    "plt.legend()\n",
    "plt.show()"
   ]
  },
  {
   "cell_type": "code",
   "execution_count": 27,
   "id": "57c51c44",
   "metadata": {},
   "outputs": [
    {
     "data": {
      "image/png": "[encoded data removed]",
      "text/plain": [
       "<Figure size 432x288 with 1 Axes>"
      ]
     },
     "metadata": {
      "needs_background": "light"
     },
     "output_type": "display_data"
    }
   ],
   "source": [
    "plt.plot(epoch, loss, 'r', label = 'loss')    # plot color = r[ed]\n",
    "plt.xlabel('epoch')\n",
    "plt.ylabel('loss')\n",
    "plt.legend()\n",
    "plt.show()"
   ]
  },
  {
   "cell_type": "code",
   "execution_count": 28,
   "id": "eef375cd",
   "metadata": {},
   "outputs": [
    {
     "name": "stdout",
     "output_type": "stream",
     "text": [
      "86/86 [==============================] - 0s 1ms/step\n",
      "[1.999011  3.9967184 0.999938  ... 0.9986639 1.9992743 5.0024443]\n"
     ]
    }
   ],
   "source": [
    "# predict 메소드로 테스트 데이터를 넣고 예측값을 구한다. flatten 메소드로 예측값을 펼친다.(DataFrame 만들것)\n",
    "\n",
    "pred_y = model.predict(X_te).flatten()\n",
    "print(pred_y)"
   ]
  },
  {
   "cell_type": "code",
   "execution_count": 44,
   "id": "90956202",
   "metadata": {},
   "outputs": [
    {
     "data": {
      "text/html": [
       "<div>\n",
       "<style scoped>\n",
       "    .dataframe tbody tr th:only-of-type {\n",
       "        vertical-align: middle;\n",
       "    }\n",
       "\n",
       "    .dataframe tbody tr th {\n",
       "        vertical-align: top;\n",
       "    }\n",
       "\n",
       "    .dataframe thead th {\n",
       "        text-align: right;\n",
       "    }\n",
       "</style>\n",
       "<table border=\"1\" class=\"dataframe\">\n",
       "  <thead>\n",
       "    <tr style=\"text-align: right;\">\n",
       "      <th></th>\n",
       "      <th>predict_val</th>\n",
       "      <th>real_val</th>\n",
       "    </tr>\n",
       "  </thead>\n",
       "  <tbody>\n",
       "    <tr>\n",
       "      <th>0</th>\n",
       "      <td>1.999011</td>\n",
       "      <td>2</td>\n",
       "    </tr>\n",
       "    <tr>\n",
       "      <th>1</th>\n",
       "      <td>3.996718</td>\n",
       "      <td>4</td>\n",
       "    </tr>\n",
       "    <tr>\n",
       "      <th>2</th>\n",
       "      <td>0.999938</td>\n",
       "      <td>1</td>\n",
       "    </tr>\n",
       "    <tr>\n",
       "      <th>3</th>\n",
       "      <td>1.007453</td>\n",
       "      <td>1</td>\n",
       "    </tr>\n",
       "    <tr>\n",
       "      <th>4</th>\n",
       "      <td>1.999526</td>\n",
       "      <td>2</td>\n",
       "    </tr>\n",
       "    <tr>\n",
       "      <th>5</th>\n",
       "      <td>1.001639</td>\n",
       "      <td>1</td>\n",
       "    </tr>\n",
       "    <tr>\n",
       "      <th>6</th>\n",
       "      <td>4.995231</td>\n",
       "      <td>5</td>\n",
       "    </tr>\n",
       "    <tr>\n",
       "      <th>7</th>\n",
       "      <td>1.998260</td>\n",
       "      <td>2</td>\n",
       "    </tr>\n",
       "    <tr>\n",
       "      <th>8</th>\n",
       "      <td>5.000285</td>\n",
       "      <td>5</td>\n",
       "    </tr>\n",
       "    <tr>\n",
       "      <th>9</th>\n",
       "      <td>2.999560</td>\n",
       "      <td>3</td>\n",
       "    </tr>\n",
       "  </tbody>\n",
       "</table>\n",
       "</div>"
      ],
      "text/plain": [
       "   predict_val  real_val\n",
       "0     1.999011         2\n",
       "1     3.996718         4\n",
       "2     0.999938         1\n",
       "3     1.007453         1\n",
       "4     1.999526         2\n",
       "5     1.001639         1\n",
       "6     4.995231         5\n",
       "7     1.998260         2\n",
       "8     5.000285         5\n",
       "9     2.999560         3"
      ]
     },
     "execution_count": 44,
     "metadata": {},
     "output_type": "execute_result"
    }
   ],
   "source": [
    "import pandas as pd\n",
    "\n",
    "# pred_y와 real_val을 한 데이터 프레임에 넣기\n",
    "res_df = pd.DataFrame(pred_y, columns = ['predict_val'])\n",
    "res_df['real_val'] = y_te.tolist()             # 그냥 y_te 로 넣었더니 결측값들이 마구잡이로 생기길래 tolist로 해결했다\n",
    "res_df.head(10)"
   ]
  },
  {
   "cell_type": "code",
   "execution_count": 45,
   "id": "689c2d39",
   "metadata": {},
   "outputs": [
    {
     "data": {
      "text/html": [
       "<div>\n",
       "<style scoped>\n",
       "    .dataframe tbody tr th:only-of-type {\n",
       "        vertical-align: middle;\n",
       "    }\n",
       "\n",
       "    .dataframe tbody tr th {\n",
       "        vertical-align: top;\n",
       "    }\n",
       "\n",
       "    .dataframe thead th {\n",
       "        text-align: right;\n",
       "    }\n",
       "</style>\n",
       "<table border=\"1\" class=\"dataframe\">\n",
       "  <thead>\n",
       "    <tr style=\"text-align: right;\">\n",
       "      <th></th>\n",
       "      <th>predict_val</th>\n",
       "      <th>real_val</th>\n",
       "    </tr>\n",
       "  </thead>\n",
       "  <tbody>\n",
       "    <tr>\n",
       "      <th>894</th>\n",
       "      <td>0.885377</td>\n",
       "      <td>1</td>\n",
       "    </tr>\n",
       "    <tr>\n",
       "      <th>2330</th>\n",
       "      <td>0.898084</td>\n",
       "      <td>1</td>\n",
       "    </tr>\n",
       "    <tr>\n",
       "      <th>2404</th>\n",
       "      <td>0.900142</td>\n",
       "      <td>1</td>\n",
       "    </tr>\n",
       "  </tbody>\n",
       "</table>\n",
       "</div>"
      ],
      "text/plain": [
       "      predict_val  real_val\n",
       "894      0.885377         1\n",
       "2330     0.898084         1\n",
       "2404     0.900142         1"
      ]
     },
     "execution_count": 45,
     "metadata": {},
     "output_type": "execute_result"
    }
   ],
   "source": [
    "# 예쁘게 시각화를 위해 오름차순 되도록 해둔다.\n",
    "\n",
    "df_sort = res_df.sort_values(['predict_val'], ascending = True)\n",
    "df_sort.head(3)"
   ]
  },
  {
   "cell_type": "code",
   "execution_count": 46,
   "id": "da323fd8",
   "metadata": {},
   "outputs": [
    {
     "data": {
      "image/png": "[encoded data removed]",
      "text/plain": [
       "<Figure size 432x288 with 1 Axes>"
      ]
     },
     "metadata": {
      "needs_background": "light"
     },
     "output_type": "display_data"
    }
   ],
   "source": [
    "import matplotlib.pyplot as plt\n",
    "import numpy as np\n",
    "\n",
    "idx = np.arange(1, len(df_sort)+1)    # x축 생성\n",
    "plt.scatter(idx, df_sort['real_val'], marker = '.', label = 'real_val')\n",
    "plt.plot(idx, df_sort['predict_val'], color = 'r', label = 'predict_val')\n",
    "plt.xlabel('index')\n",
    "plt.ylabel('value')\n",
    "plt.legend()\n",
    "plt.show()"
   ]
  },
  {
   "cell_type": "markdown",
   "id": "d25ec1e1",
   "metadata": {},
   "source": [
    "상당히 괜찮은 점수가 나온 것으로 보이는데, 예상치를 반올림하여 보면 어떨까?\n",
    "\n",
    "## round the predicted values\n",
    "\n",
    "반올림을 하고자 하는데, 두번째 자리까지 표시를 한 후, 첫 번째 자리를 표시하도록 한다. 그리고 마지막 점수를 다시 한번 반올림하도록 했다.\n",
    "\n",
    "한번에 반올림을 하는 것보다 조금 더 가까운 점수에 도달하도록 하고자 했다."
   ]
  },
  {
   "cell_type": "code",
   "execution_count": 53,
   "id": "0e1cd266",
   "metadata": {},
   "outputs": [
    {
     "data": {
      "text/html": [
       "<div>\n",
       "<style scoped>\n",
       "    .dataframe tbody tr th:only-of-type {\n",
       "        vertical-align: middle;\n",
       "    }\n",
       "\n",
       "    .dataframe tbody tr th {\n",
       "        vertical-align: top;\n",
       "    }\n",
       "\n",
       "    .dataframe thead th {\n",
       "        text-align: right;\n",
       "    }\n",
       "</style>\n",
       "<table border=\"1\" class=\"dataframe\">\n",
       "  <thead>\n",
       "    <tr style=\"text-align: right;\">\n",
       "      <th></th>\n",
       "      <th>predict_val</th>\n",
       "      <th>real_val</th>\n",
       "      <th>rounded</th>\n",
       "    </tr>\n",
       "  </thead>\n",
       "  <tbody>\n",
       "    <tr>\n",
       "      <th>0</th>\n",
       "      <td>1.999011</td>\n",
       "      <td>2</td>\n",
       "      <td>2</td>\n",
       "    </tr>\n",
       "    <tr>\n",
       "      <th>1</th>\n",
       "      <td>3.996718</td>\n",
       "      <td>4</td>\n",
       "      <td>4</td>\n",
       "    </tr>\n",
       "    <tr>\n",
       "      <th>2</th>\n",
       "      <td>0.999938</td>\n",
       "      <td>1</td>\n",
       "      <td>1</td>\n",
       "    </tr>\n",
       "    <tr>\n",
       "      <th>3</th>\n",
       "      <td>1.007453</td>\n",
       "      <td>1</td>\n",
       "      <td>1</td>\n",
       "    </tr>\n",
       "    <tr>\n",
       "      <th>4</th>\n",
       "      <td>1.999526</td>\n",
       "      <td>2</td>\n",
       "      <td>2</td>\n",
       "    </tr>\n",
       "    <tr>\n",
       "      <th>...</th>\n",
       "      <td>...</td>\n",
       "      <td>...</td>\n",
       "      <td>...</td>\n",
       "    </tr>\n",
       "    <tr>\n",
       "      <th>2745</th>\n",
       "      <td>1.997333</td>\n",
       "      <td>2</td>\n",
       "      <td>2</td>\n",
       "    </tr>\n",
       "    <tr>\n",
       "      <th>2746</th>\n",
       "      <td>1.995666</td>\n",
       "      <td>2</td>\n",
       "      <td>2</td>\n",
       "    </tr>\n",
       "    <tr>\n",
       "      <th>2747</th>\n",
       "      <td>0.998664</td>\n",
       "      <td>1</td>\n",
       "      <td>1</td>\n",
       "    </tr>\n",
       "    <tr>\n",
       "      <th>2748</th>\n",
       "      <td>1.999274</td>\n",
       "      <td>2</td>\n",
       "      <td>2</td>\n",
       "    </tr>\n",
       "    <tr>\n",
       "      <th>2749</th>\n",
       "      <td>5.002444</td>\n",
       "      <td>5</td>\n",
       "      <td>5</td>\n",
       "    </tr>\n",
       "  </tbody>\n",
       "</table>\n",
       "<p>2750 rows × 3 columns</p>\n",
       "</div>"
      ],
      "text/plain": [
       "      predict_val  real_val  rounded\n",
       "0        1.999011         2        2\n",
       "1        3.996718         4        4\n",
       "2        0.999938         1        1\n",
       "3        1.007453         1        1\n",
       "4        1.999526         2        2\n",
       "...           ...       ...      ...\n",
       "2745     1.997333         2        2\n",
       "2746     1.995666         2        2\n",
       "2747     0.998664         1        1\n",
       "2748     1.999274         2        2\n",
       "2749     5.002444         5        5\n",
       "\n",
       "[2750 rows x 3 columns]"
      ]
     },
     "execution_count": 53,
     "metadata": {},
     "output_type": "execute_result"
    }
   ],
   "source": [
    "res_df['rounded'] = res_df['predict_val'].round(2).round(1).round(0).astype('int')\n",
    "res_df"
   ]
  },
  {
   "cell_type": "code",
   "execution_count": 54,
   "id": "ecab5bd0",
   "metadata": {},
   "outputs": [
    {
     "data": {
      "text/plain": [
       "5"
      ]
     },
     "execution_count": 54,
     "metadata": {},
     "output_type": "execute_result"
    }
   ],
   "source": [
    "res_df['rounded'].nunique()"
   ]
  },
  {
   "cell_type": "markdown",
   "id": "8623c76e",
   "metadata": {},
   "source": [
    "### results after rounding : 100..?"
   ]
  },
  {
   "cell_type": "code",
   "execution_count": 63,
   "id": "02919c0c",
   "metadata": {},
   "outputs": [
    {
     "data": {
      "text/plain": [
       "100.0"
      ]
     },
     "execution_count": 63,
     "metadata": {},
     "output_type": "execute_result"
    }
   ],
   "source": [
    "res_df[res_df['real_val'] == res_df['rounded']]['rounded'].count() / res_df.shape[0] * 100"
   ]
  },
  {
   "cell_type": "markdown",
   "id": "9942ced4",
   "metadata": {},
   "source": [
    "세상에나... 정확도 백퍼센트면 과적합아닐까요"
   ]
  },
  {
   "cell_type": "code",
   "execution_count": 64,
   "id": "1e3c8a08",
   "metadata": {},
   "outputs": [
    {
     "data": {
      "text/html": [
       "<div>\n",
       "<style scoped>\n",
       "    .dataframe tbody tr th:only-of-type {\n",
       "        vertical-align: middle;\n",
       "    }\n",
       "\n",
       "    .dataframe tbody tr th {\n",
       "        vertical-align: top;\n",
       "    }\n",
       "\n",
       "    .dataframe thead th {\n",
       "        text-align: right;\n",
       "    }\n",
       "</style>\n",
       "<table border=\"1\" class=\"dataframe\">\n",
       "  <thead>\n",
       "    <tr style=\"text-align: right;\">\n",
       "      <th></th>\n",
       "      <th>predict_val</th>\n",
       "      <th>real_val</th>\n",
       "      <th>rounded</th>\n",
       "    </tr>\n",
       "  </thead>\n",
       "  <tbody>\n",
       "    <tr>\n",
       "      <th>894</th>\n",
       "      <td>0.885377</td>\n",
       "      <td>1</td>\n",
       "      <td>1</td>\n",
       "    </tr>\n",
       "    <tr>\n",
       "      <th>2330</th>\n",
       "      <td>0.898084</td>\n",
       "      <td>1</td>\n",
       "      <td>1</td>\n",
       "    </tr>\n",
       "    <tr>\n",
       "      <th>2404</th>\n",
       "      <td>0.900142</td>\n",
       "      <td>1</td>\n",
       "      <td>1</td>\n",
       "    </tr>\n",
       "  </tbody>\n",
       "</table>\n",
       "</div>"
      ],
      "text/plain": [
       "      predict_val  real_val  rounded\n",
       "894      0.885377         1        1\n",
       "2330     0.898084         1        1\n",
       "2404     0.900142         1        1"
      ]
     },
     "execution_count": 64,
     "metadata": {},
     "output_type": "execute_result"
    }
   ],
   "source": [
    "df_sort = res_df.sort_values(['predict_val'], ascending = True)\n",
    "df_sort.head(3)"
   ]
  },
  {
   "cell_type": "code",
   "execution_count": 65,
   "id": "5a5708a9",
   "metadata": {},
   "outputs": [
    {
     "data": {
      "image/png": "[encoded data removed]",
      "text/plain": [
       "<Figure size 432x288 with 1 Axes>"
      ]
     },
     "metadata": {
      "needs_background": "light"
     },
     "output_type": "display_data"
    }
   ],
   "source": [
    "idx = np.arange(1, len(df_sort)+1)    # x축 생성\n",
    "plt.scatter(idx, df_sort['real_val'], marker = '.', label = 'real_val')\n",
    "plt.plot(idx, df_sort['rounded'], color = 'r', label = 'rounded_val')\n",
    "plt.xlabel('index')\n",
    "plt.ylabel('value')\n",
    "plt.legend()\n",
    "plt.show()"
   ]
  },
  {
   "cell_type": "markdown",
   "id": "4a60a2df",
   "metadata": {},
   "source": [
    "# ver2. (Whole code)\n",
    "\n",
    "one-hot 인코딩을 통해 이번엔 타겟을 카테고리얼하게 바꾸었다."
   ]
  },
  {
   "cell_type": "code",
   "execution_count": 76,
   "id": "f2a32e36",
   "metadata": {},
   "outputs": [
    {
     "data": {
      "text/plain": [
       "0        2\n",
       "1        5\n",
       "2        2\n",
       "3        3\n",
       "4        2\n",
       "        ..\n",
       "10994    1\n",
       "10995    1\n",
       "10996    4\n",
       "10997    2\n",
       "10998    5\n",
       "Name: Customer_rating, Length: 10999, dtype: int64"
      ]
     },
     "execution_count": 76,
     "metadata": {},
     "output_type": "execute_result"
    }
   ],
   "source": [
    "y"
   ]
  },
  {
   "cell_type": "code",
   "execution_count": 79,
   "id": "ae3ed4c7",
   "metadata": {},
   "outputs": [
    {
     "name": "stdout",
     "output_type": "stream",
     "text": [
      "[[0 0 1 0 0 0]\n",
      " [0 0 0 0 0 1]\n",
      " [0 0 1 0 0 0]\n",
      " ...\n",
      " [0 0 0 0 1 0]\n",
      " [0 0 1 0 0 0]\n",
      " [0 0 0 0 0 1]]\n"
     ]
    }
   ],
   "source": [
    "from tensorflow.keras.utils import to_categorical\n",
    "\n",
    "y_hot = to_categorical(y, num_classes = 6, dtype = 'int64')\n",
    "print(y_hot)"
   ]
  },
  {
   "cell_type": "markdown",
   "id": "4b25871f",
   "metadata": {},
   "source": [
    "### 에러 해결\n",
    "\n",
    "죽어도 num_classes = 5로 되지 않아서 현재 y_hot의 일부를 지우고 시작하려 한다."
   ]
  },
  {
   "cell_type": "code",
   "execution_count": 89,
   "id": "8beb1005",
   "metadata": {},
   "outputs": [
    {
     "data": {
      "text/plain": [
       "array([[0, 1, 0, 0, 0],\n",
       "       [0, 0, 0, 0, 1],\n",
       "       [0, 1, 0, 0, 0],\n",
       "       ...,\n",
       "       [0, 0, 0, 1, 0],\n",
       "       [0, 1, 0, 0, 0],\n",
       "       [0, 0, 0, 0, 1]])"
      ]
     },
     "execution_count": 89,
     "metadata": {},
     "output_type": "execute_result"
    }
   ],
   "source": [
    "y_hot_modi = np.delete(y_hot, 0, axis = 1)\n",
    "y_hot_modi"
   ]
  },
  {
   "cell_type": "code",
   "execution_count": 90,
   "id": "72e1f973",
   "metadata": {},
   "outputs": [
    {
     "name": "stdout",
     "output_type": "stream",
     "text": [
      "-- X and target shape checking --\n",
      "(10999, 9)\n",
      "{1, 2, 3, 4, 5}\n"
     ]
    }
   ],
   "source": [
    "# checking the feature dimension and target data\n",
    "print(\"-- X and target shape checking --\")\n",
    "print(X.shape)\n",
    "print(set(y))"
   ]
  },
  {
   "cell_type": "code",
   "execution_count": 91,
   "id": "1f63ae1c",
   "metadata": {},
   "outputs": [],
   "source": [
    "# split Training and Test Data\n",
    "from sklearn.model_selection import train_test_split\n",
    "X_tn, X_te, y_tn, y_te = train_test_split(X, y_hot_modi, random_state = 0)"
   ]
  },
  {
   "cell_type": "code",
   "execution_count": 92,
   "id": "1f09c396",
   "metadata": {
    "scrolled": true
   },
   "outputs": [
    {
     "name": "stdout",
     "output_type": "stream",
     "text": [
      "-- model summary --\n",
      "Model: \"sequential_3\"\n",
      "_________________________________________________________________\n",
      " Layer (type)                Output Shape              Param #   \n",
      "=================================================================\n",
      " dense_6 (Dense)             (None, 20)                200       \n",
      "                                                                 \n",
      " batch_normalization_2 (Batc  (None, 20)               80        \n",
      " hNormalization)                                                 \n",
      "                                                                 \n",
      " activation_4 (Activation)   (None, 20)                0         \n",
      "                                                                 \n",
      " dense_7 (Dense)             (None, 5)                 105       \n",
      "                                                                 \n",
      " activation_5 (Activation)   (None, 5)                 0         \n",
      "                                                                 \n",
      "=================================================================\n",
      "Total params: 385\n",
      "Trainable params: 345\n",
      "Non-trainable params: 40\n",
      "_________________________________________________________________\n",
      "Epoch 1/30\n",
      "825/825 [==============================] - 2s 2ms/step - loss: 1.5412 - accuracy: 0.3100\n",
      "Epoch 2/30\n",
      "825/825 [==============================] - 2s 2ms/step - loss: 0.9820 - accuracy: 0.5801\n",
      "Epoch 3/30\n",
      "825/825 [==============================] - 2s 2ms/step - loss: 0.8046 - accuracy: 0.6709\n",
      "Epoch 4/30\n",
      "825/825 [==============================] - 2s 2ms/step - loss: 0.7452 - accuracy: 0.6938\n",
      "Epoch 5/30\n",
      "825/825 [==============================] - 1s 2ms/step - loss: 0.7185 - accuracy: 0.7117\n",
      "Epoch 6/30\n",
      "825/825 [==============================] - 2s 2ms/step - loss: 0.6688 - accuracy: 0.7346\n",
      "Epoch 7/30\n",
      "825/825 [==============================] - 1s 2ms/step - loss: 0.6746 - accuracy: 0.7149\n",
      "Epoch 8/30\n",
      "825/825 [==============================] - 2s 2ms/step - loss: 0.6275 - accuracy: 0.7462\n",
      "Epoch 9/30\n",
      "825/825 [==============================] - 1s 2ms/step - loss: 0.6430 - accuracy: 0.7241\n",
      "Epoch 10/30\n",
      "825/825 [==============================] - 2s 2ms/step - loss: 0.6247 - accuracy: 0.7372\n",
      "Epoch 11/30\n",
      "825/825 [==============================] - 2s 2ms/step - loss: 0.6446 - accuracy: 0.7306\n",
      "Epoch 12/30\n",
      "825/825 [==============================] - 2s 2ms/step - loss: 0.6496 - accuracy: 0.7258\n",
      "Epoch 13/30\n",
      "825/825 [==============================] - 2s 2ms/step - loss: 0.6125 - accuracy: 0.7446\n",
      "Epoch 14/30\n",
      "825/825 [==============================] - 2s 2ms/step - loss: 0.5991 - accuracy: 0.7499\n",
      "Epoch 15/30\n",
      "825/825 [==============================] - 2s 2ms/step - loss: 0.6272 - accuracy: 0.7430\n",
      "Epoch 16/30\n",
      "825/825 [==============================] - 2s 2ms/step - loss: 0.6229 - accuracy: 0.7378\n",
      "Epoch 17/30\n",
      "825/825 [==============================] - 2s 2ms/step - loss: 0.6175 - accuracy: 0.7447\n",
      "Epoch 18/30\n",
      "825/825 [==============================] - 2s 2ms/step - loss: 0.5860 - accuracy: 0.7566\n",
      "Epoch 19/30\n",
      "825/825 [==============================] - 2s 2ms/step - loss: 0.5940 - accuracy: 0.7436\n",
      "Epoch 20/30\n",
      "825/825 [==============================] - 2s 2ms/step - loss: 0.6195 - accuracy: 0.7394\n",
      "Epoch 21/30\n",
      "825/825 [==============================] - 2s 2ms/step - loss: 0.6094 - accuracy: 0.7369\n",
      "Epoch 22/30\n",
      "825/825 [==============================] - 2s 2ms/step - loss: 0.6134 - accuracy: 0.7394\n",
      "Epoch 23/30\n",
      "825/825 [==============================] - 2s 2ms/step - loss: 0.6265 - accuracy: 0.7355\n",
      "Epoch 24/30\n",
      "825/825 [==============================] - 2s 2ms/step - loss: 0.5937 - accuracy: 0.7516\n",
      "Epoch 25/30\n",
      "825/825 [==============================] - 2s 2ms/step - loss: 0.5960 - accuracy: 0.7573\n",
      "Epoch 26/30\n",
      "825/825 [==============================] - 2s 2ms/step - loss: 0.6086 - accuracy: 0.7457\n",
      "Epoch 27/30\n",
      "825/825 [==============================] - 2s 2ms/step - loss: 0.5851 - accuracy: 0.7556\n",
      "Epoch 28/30\n",
      "825/825 [==============================] - 2s 2ms/step - loss: 0.6319 - accuracy: 0.7328\n",
      "Epoch 29/30\n",
      "825/825 [==============================] - 2s 2ms/step - loss: 0.6222 - accuracy: 0.7408\n",
      "Epoch 30/30\n",
      "825/825 [==============================] - 2s 2ms/step - loss: 0.5949 - accuracy: 0.7492\n",
      "-- model evaluate with train data --\n",
      "258/258 [==============================] - 1s 1ms/step - loss: 0.1904 - accuracy: 1.0000\n",
      "1.0\n",
      "-- model evaluate with test data --\n",
      "86/86 [==============================] - 0s 2ms/step - loss: 0.1960 - accuracy: 1.0000\n",
      "1.0\n",
      "Accuracy : [0.3099769651889801, 0.5800703167915344, 0.6708691716194153, 0.6937810778617859, 0.7117226123809814, 0.734634518623352, 0.7148745059967041, 0.7461510300636292, 0.7240877747535706, 0.7371802926063538, 0.7306340336799622, 0.725784957408905, 0.7445750832557678, 0.7499091029167175, 0.7429991364479065, 0.7377864122390747, 0.744696319103241, 0.7565765380859375, 0.7436052560806274, 0.739362359046936, 0.7369378209114075, 0.739362359046936, 0.7354831099510193, 0.7516062259674072, 0.7573038935661316, 0.7456661462783813, 0.7556067109107971, 0.7328161001205444, 0.7408170700073242, 0.7491817474365234]\n",
      "Loss : [1.5412155389785767, 0.9819701313972473, 0.8046076893806458, 0.7451694011688232, 0.7184659242630005, 0.6687501668930054, 0.6745885610580444, 0.6275362968444824, 0.6430314779281616, 0.624699592590332, 0.64458829164505, 0.6495726108551025, 0.6125398278236389, 0.5991013050079346, 0.6271647214889526, 0.6229050159454346, 0.6174513101577759, 0.5859717726707458, 0.5939569473266602, 0.6194695234298706, 0.6093830466270447, 0.6133676767349243, 0.6264528632164001, 0.5937319397926331, 0.5959919095039368, 0.6085715889930725, 0.5851343870162964, 0.6319489479064941, 0.6221933364868164, 0.5948604345321655]\n"
     ]
    },
    {
     "data": {
      "image/png": "[encoded data removed]",
      "text/plain": [
       "<Figure size 432x288 with 1 Axes>"
      ]
     },
     "metadata": {
      "needs_background": "light"
     },
     "output_type": "display_data"
    },
    {
     "data": {
      "image/png": "[encoded data removed]",
      "text/plain": [
       "<Figure size 432x288 with 1 Axes>"
      ]
     },
     "metadata": {
      "needs_background": "light"
     },
     "output_type": "display_data"
    }
   ],
   "source": [
    "# building model\n",
    "import os\n",
    "os.environ['TF_CPP_MIN_LOG_LEVEL'] = '2'\n",
    "\n",
    "from tensorflow.keras.models import Sequential         # 신경망 생성\n",
    "from tensorflow.keras.layers import Dense              # 신경망 층 추가\n",
    "from tensorflow.keras.layers import BatchNormalization # 배치 정규화\n",
    "from tensorflow.keras.layers import Activation         # 활성화 함수 사용\n",
    "\n",
    "n_feat = X_tn.shape[1]              # 신경망에 사용되는 피처 개수 (현재 데이터: 9개)\n",
    "n_class = len(set(y))               # 클래스 개수 (현재 데이터: 5개)\n",
    "epo = 30                            # 학습횟수 30. 30단계로 학습 진행\n",
    "\n",
    "model = Sequential()                # 초기 모형 생성.\n",
    "model.add(Dense(20, input_dim = n_feat)) # add로 입력층 추가, *input_dim = 피처개수, 20은 output 차원\n",
    "model.add(BatchNormalization())     # 배치 정규화\n",
    "model.add(Activation('relu'))       # 활성화 함수 reLU\n",
    "model.add(Dense(n_class))           # 최종 아웃풋 층. 클래스 개수인 5개로 구분되도록.\n",
    "model.add(Activation('softmax'))    # 활성화 함수 softmax\n",
    "\n",
    "# model checking\n",
    "print(\"-- model summary --\")\n",
    "model.summary()\n",
    "\n",
    "# compile\n",
    "model.compile(loss = 'categorical_crossentropy',  # 손실함수: 이진은 binary, 이상은 categorical\n",
    "             optimizer = 'adam',                  # 옵티마이저와 평가 기준\n",
    "             metrics = ['accuracy'])\n",
    "\n",
    "\n",
    "# learning\n",
    "hist = model.fit(X_tn, y_tn, epochs = epo, batch_size = 10)  # batch_size: learning mini batch size at one ephoch\n",
    "\n",
    "# evaluation\n",
    "print(\"-- model evaluate with train data --\")\n",
    "print(model.evaluate(X_tn, y_tn)[1])\n",
    "print(\"-- model evaluate with test data --\")\n",
    "print(model.evaluate(X_te, y_te)[1])\n",
    "\n",
    "# accuracy\n",
    "import numpy as np\n",
    "epoch = np.arange(1, epo +1)          # aragne 함수로 x축 설정\n",
    "# print(epoch)\n",
    "accuracy = hist.history['accuracy']   # 학습시켰던 모형에서 history를 이용하여 데려올 수 있다. 에포크 별 정확도를 알 수 있다.\n",
    "print(\"Accuracy :\", accuracy)\n",
    "loss = hist.history['loss']           # 학습시켰던 모형에서 history를 이용하여 데려올 수 있다. 에포크 별 손실정도를 알 수 있다.\n",
    "print(\"Loss :\", loss)\n",
    "\n",
    "# visualization\n",
    "\n",
    "import matplotlib.pyplot as plt\n",
    "\n",
    "plt.plot(epoch, accuracy, label = 'accuracy')\n",
    "plt.xlabel('epoch')\n",
    "plt.ylabel('accuracy')\n",
    "plt.legend()\n",
    "plt.title(\"accuracy by epoch\")\n",
    "plt.show()\n",
    "\n",
    "plt.plot(epoch, loss, 'r', label = 'loss')    # plot color = r[ed]\n",
    "plt.xlabel('epoch')\n",
    "plt.ylabel('loss')\n",
    "plt.legend()\n",
    "plt.title(\"loss by epoch\")\n",
    "plt.show()"
   ]
  },
  {
   "cell_type": "markdown",
   "id": "c8631dde",
   "metadata": {},
   "source": [
    "### Commentary\n",
    "\n",
    "결국 정확도를 1을 찍고 말았다. 이게 좋다고 할수만은 없지만... 또 나쁘다고만은 할 수 없으니까 말이다.\n",
    "\n",
    "다른 평점과 관련된 데이터인 Olist Ecommerce data로도 해보아야겠다는 생각이 들었다! (진부해서 하고싶지 않았는데 학습차 하긴 해야겠다.)"
   ]
  }
 ],
 "metadata": {
  "kernelspec": {
   "display_name": "Python 3 (ipykernel)",
   "language": "python",
   "name": "python3"
  },
  "language_info": {
   "codemirror_mode": {
    "name": "ipython",
    "version": 3
   },
   "file_extension": ".py",
   "mimetype": "text/x-python",
   "name": "python",
   "nbconvert_exporter": "python",
   "pygments_lexer": "ipython3",
   "version": "3.8.5"
  },
  "toc": {
   "base_numbering": 1,
   "nav_menu": {},
   "number_sections": true,
   "sideBar": true,
   "skip_h1_title": false,
   "title_cell": "Table of Contents",
   "title_sidebar": "Contents",
   "toc_cell": false,
   "toc_position": {},
   "toc_section_display": true,
   "toc_window_display": true
  }
 },
 "nbformat": 4,
 "nbformat_minor": 5
}

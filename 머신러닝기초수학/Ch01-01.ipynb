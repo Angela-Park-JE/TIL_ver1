{
 "cells": [
  {
   "cell_type": "markdown",
   "id": "791e3070",
   "metadata": {
    "toc": true
   },
   "source": [
    "<h1>Table of Contents<span class=\"tocSkip\"></span></h1>\n",
    "<div class=\"toc\"><ul class=\"toc-item\"><li><span><a href=\"#기본-데이터-포인트-플롯화\" data-toc-modified-id=\"기본-데이터-포인트-플롯화-1\"><span class=\"toc-item-num\">1&nbsp;&nbsp;</span>기본 데이터 포인트 플롯화</a></span></li><li><span><a href=\"#선형회귀-기본-함수-만들기\" data-toc-modified-id=\"선형회귀-기본-함수-만들기-2\"><span class=\"toc-item-num\">2&nbsp;&nbsp;</span>선형회귀 기본 함수 만들기</a></span></li><li><span><a href=\"#선형회귀-기본-함수-시각화-(그림-1-5)\" data-toc-modified-id=\"선형회귀-기본-함수-시각화-(그림-1-5)-3\"><span class=\"toc-item-num\">3&nbsp;&nbsp;</span>선형회귀 기본 함수 시각화 (그림 1-5)</a></span></li><li><span><a href=\"#경사도벡터(gradient)를-활용하여-최적의-선을-찾아가는-과정-(그림-1-8)\" data-toc-modified-id=\"경사도벡터(gradient)를-활용하여-최적의-선을-찾아가는-과정-(그림-1-8)-4\"><span class=\"toc-item-num\">4&nbsp;&nbsp;</span>경사도벡터(gradient)를 활용하여 최적의 선을 찾아가는 과정 (그림 1-8)</a></span></li><li><span><a href=\"#교재-코드\" data-toc-modified-id=\"교재-코드-5\"><span class=\"toc-item-num\">5&nbsp;&nbsp;</span>교재 코드</a></span><ul class=\"toc-item\"><li><span><a href=\"#그림-1-4\" data-toc-modified-id=\"그림-1-4-5.1\"><span class=\"toc-item-num\">5.1&nbsp;&nbsp;</span>그림 1-4</a></span></li><li><span><a href=\"#머신-러닝과-more_clever()-비교\" data-toc-modified-id=\"머신-러닝과-more_clever()-비교-5.2\"><span class=\"toc-item-num\">5.2&nbsp;&nbsp;</span>머신 러닝과 more_clever() 비교</a></span></li><li><span><a href=\"#그림-1-5\" data-toc-modified-id=\"그림-1-5-5.3\"><span class=\"toc-item-num\">5.3&nbsp;&nbsp;</span>그림 1-5</a></span></li><li><span><a href=\"#그림-1-7\" data-toc-modified-id=\"그림-1-7-5.4\"><span class=\"toc-item-num\">5.4&nbsp;&nbsp;</span>그림 1-7</a></span></li><li><span><a href=\"#그림-1-8\" data-toc-modified-id=\"그림-1-8-5.5\"><span class=\"toc-item-num\">5.5&nbsp;&nbsp;</span>그림 1-8</a></span></li></ul></li></ul></div>"
   ]
  },
  {
   "cell_type": "markdown",
   "id": "939baf9a",
   "metadata": {},
   "source": [
    "### 기본 데이터 포인트 플롯화\n",
    "p.4"
   ]
  },
  {
   "cell_type": "code",
   "execution_count": 1,
   "id": "a8180203",
   "metadata": {},
   "outputs": [],
   "source": [
    "\"\"\"교재\"\"\"\n",
    "# 기본적인 import들\n",
    "# 이후 그래프 그리는 코드에는 중복으로 적지 않음.\n",
    "# 다른 곳으로 그래프 그리는 코드를 복사-붙이기 할 때는 \n",
    "# 이 import 코드와 함께 복사-붙이기 해야함\n",
    "import numpy as np\n",
    "import matplotlib.pyplot as plt\n",
    "import matplotlib as mpl\n",
    "from mpl_toolkits import mplot3d\n",
    "import matplotlib.font_manager as mfm\n",
    "\n",
    "# numpy 출력 형식 지정\n",
    "np.set_printoptions(precision=4, linewidth=150)\n",
    "\n",
    "# matplotlib 스타일 지정\n",
    "mpl.style.use('bmh')\n",
    "mpl.style.use('seaborn-whitegrid')\n",
    "style = plt.style.library['bmh']\n",
    "# 스타일 컬러를 쉽게 쓸 수 있도록 리스트 저장\n",
    "style_colors = [ c['color'] for c in style['axes.prop_cycle'] ]\n",
    "\n",
    "# 그림을 컬러로 출력하고 싶으면 True로 수정\n",
    "g_color = False\n",
    "\n",
    "# 그림을 로컬 폴더에 저장하고 싶으면 True로 수정 \n",
    "file_print = False"
   ]
  },
  {
   "cell_type": "code",
   "execution_count": 2,
   "id": "b8d02499",
   "metadata": {},
   "outputs": [],
   "source": [
    "D1 = np.array([[1.0, 1.2, 3, 4, 5, 6], [1.7, 3, 2.3, 5.3, 3.8, 5.5]])\n",
    "D2 = np.array([[-0.6, 1.0, 1.2, 3, 4, 5, 6], [2.9, 1.7, 3, 2.3, 5.3, 3.8, 5.5]])"
   ]
  },
  {
   "cell_type": "code",
   "execution_count": 3,
   "id": "7e568844",
   "metadata": {},
   "outputs": [
    {
     "data": {
      "image/png": "[encoded data removed]",
      "text/plain": [
       "<Figure size 1080x288 with 2 Axes>"
      ]
     },
     "metadata": {
      "needs_background": "light"
     },
     "output_type": "display_data"
    }
   ],
   "source": [
    "fig, (ax1, ax2) = plt.subplots(1, 2, sharex = True, sharey = True)\n",
    "fig.set_size_inches((15, 4))\n",
    "\n",
    "ax1.plot(D1[0], D1[1], 'ko', markersize = 10)\n",
    "ax1.set_xlim([-1, 7])\n",
    "ax1.set_ylim([1, 6])\n",
    "ax1.set_title('D1', fontsize = 10)\n",
    "\n",
    "ax2.plot(D2[0], D2[1], 'ko', markersize = 10)\n",
    "ax2.set_xlim([-1, 7])\n",
    "ax2.set_ylim([1, 6])\n",
    "ax2.set_title('D2', fontsize = 10)\n",
    "\n",
    "plt.show()"
   ]
  },
  {
   "cell_type": "markdown",
   "id": "64decb32",
   "metadata": {},
   "source": [
    "### 선형회귀 기본 함수 만들기\n",
    "\n",
    "p.5\n",
    "\n",
    "$h = ax +b \\times 1$ 는 다음과 같다. $ h(x, \\mathbf{w}) = w_1 x + w_0$\n",
    "\n",
    "- `machin_learning`은 선형회귀 알고리즘을 사용하여 최적의 직선을 게산한다. 1열에는 모두 숫자 1을 가지고 2열에는 데이터의 x좌표를 가지는 array X를 만든다. array X는 2차원이고, array의 모양은 N행(데이터 개수) 2열이 된다.  \n",
    "y는 (N, )인 1차원 array이다.  \n",
    "앞으로 배울 normal equation을 풀어서 직선의 계수를 구한다. \n",
    "\n",
    "- `more_clever`는 첫점과 끝점을 잇는 방식으로 직선을 계산한다. 다음과 같은 공식을 이용한다.  \n",
    "$$ y-y_1 = \\frac {y_2 - y_1} {x_2 -x_1} (x - x_1)$$  \n",
    "\n",
    "- f()는 입력 x와 계수 $\\mathbf w$를 가지고 출력 y를 계산하는 함수이다. a가 w[1], b가 w[0]이 되는 식."
   ]
  },
  {
   "cell_type": "code",
   "execution_count": 4,
   "id": "7daf258f",
   "metadata": {},
   "outputs": [],
   "source": [
    "def machine_learning(D):\n",
    "    N = D.shape[1]\n",
    "    X = np.c_[np.ones(N), D[0]]\n",
    "    y = D[1]\n",
    "    \n",
    "    w = np.linalg.solve(np.dot(X.T, X), np.dot(X.T, y))\n",
    "    return w"
   ]
  },
  {
   "cell_type": "code",
   "execution_count": 5,
   "id": "5ce2fc43",
   "metadata": {},
   "outputs": [],
   "source": [
    "def more_clever(D):\n",
    "    first, last = D[:, 0], D[:, -1]\n",
    "    w1 =(last[1]-first[1] / last[0]-first[0])\n",
    "    w0 = -w1*first[0] + first[1]\n",
    "    return (w0, w1)"
   ]
  },
  {
   "cell_type": "code",
   "execution_count": 6,
   "id": "44c00546",
   "metadata": {},
   "outputs": [],
   "source": [
    "def f(x, w):\n",
    "    return w[1] * x + w[0]"
   ]
  },
  {
   "cell_type": "code",
   "execution_count": 7,
   "id": "7102ec9a",
   "metadata": {},
   "outputs": [
    {
     "name": "stdout",
     "output_type": "stream",
     "text": [
      "[1.5108 0.6206]\n"
     ]
    }
   ],
   "source": [
    "\"\"\"교재\"\"\"\n",
    "# D1에 대해서 w[1]*x + w[0]에서 w[0], w[1]을 구합니다. \n",
    "w_ml_d1 = machine_learning(D1)\n",
    "w_mc_d1 = more_clever(D1)\n",
    "\n",
    "# D2에 대해서 w[1]*x + w[0]에서 w[0], w[1]을 구합니다. \n",
    "w_ml_d2 = machine_learning(D2)\n",
    "w_mc_d2 = more_clever(D2)\n",
    "\n",
    "print(w_ml_d1)"
   ]
  },
  {
   "cell_type": "markdown",
   "id": "bc3a171e",
   "metadata": {},
   "source": [
    "### 선형회귀 기본 함수 시각화 (그림 1-5)\n",
    "p.6\n"
   ]
  },
  {
   "cell_type": "code",
   "execution_count": 8,
   "id": "d11c00e0",
   "metadata": {},
   "outputs": [
    {
     "data": {
      "image/png": "[encoded data removed]",
      "text/plain": [
       "<Figure size 1080x288 with 2 Axes>"
      ]
     },
     "metadata": {
      "needs_background": "light"
     },
     "output_type": "display_data"
    }
   ],
   "source": [
    "x = np.linspace(-1, 7, 100)\n",
    "\n",
    "fig, (ax1, ax2) = plt.subplots(1, 2, sharex = True, sharey = True)\n",
    "fig.set_size_inches((15, 4))\n",
    "\n",
    "ax1.xaxis.set_tick_params(labelsize = 10)\n",
    "ax1.yaxis.set_tick_params(labelsize = 10)\n",
    "ax1.set_xlabel('$x$', fontsize=12)\n",
    "ax1.set_ylabel('$y$', fontsize=12)\n",
    "ax1.grid(False)\n",
    "\n",
    "ax2.xaxis.set_tick_params(labelsize=10)\n",
    "ax2.yaxis.set_tick_params(labelsize=10)\n",
    "ax2.set_xlabel('$x$', fontsize=12)\n",
    "ax2.set_ylabel('$y$', fontsize=12)\n",
    "ax2.grid(False)\n",
    "\n",
    "ax1.plot(D1[0], D1[1], 'ko', markersize = 5, mfc = 'k')\n",
    "ax1.plot(x, f(x, w_ml_d1), c = 'b', lw= 1.5, label='machine learning')\n",
    "ax1.plot(x, f(x, w_mc_d1), '--', c = 'g', lw = 1.5, label='more clever')\n",
    "ax1.set_xlim([-1, 7])\n",
    "ax1.set_ylim([1, 6])\n",
    "ax1.set_title('D1')\n",
    "ax1.legend(fontsize = 10)\n",
    "\n",
    "ax2.plot(D2[0], D2[1], 'ko', markersize = 5, mfc = 'k')\n",
    "ax2.plot(x, f(x, w_ml_d2), c = 'b', lw = 1.5, label='machine learning')\n",
    "ax2.plot(x, f(x, w_mc_d2), '--', c = 'g', lw = 1.5, label='more clever')\n",
    "ax2.set_xlim([-1, 7])\n",
    "ax2.set_ylim([1, 6])\n",
    "ax2.set_title('D2')\n",
    "ax2.legend(fontsize = 10)\n",
    "\n",
    "plt.show()"
   ]
  },
  {
   "cell_type": "markdown",
   "id": "e9aba061",
   "metadata": {},
   "source": [
    "### 경사도벡터(gradient)를 활용하여 최적의 선을 찾아가는 과정 (그림 1-8)\n",
    "p.13"
   ]
  },
  {
   "cell_type": "code",
   "execution_count": 9,
   "id": "758abf4f",
   "metadata": {},
   "outputs": [],
   "source": [
    "D1 = np.array([[1.0, 1.2, 3, 4, 5, 6], [1.7, 3, 2.3, 5.3, 3.8, 5.5]])\n",
    "\n",
    "num_iters = 150\n",
    "eta = 0.02\n",
    "\n",
    "np.random.seed(2)\n",
    "w = np.random.randn(2)\n",
    "N = D1.shape[1]\n",
    "\n",
    "ws, L = [], []\n",
    "\n",
    "X = np.c_[np.ones(N), D1[0]]\n",
    "y = D1[1]\n",
    "\n",
    "for i in range(num_iters):\n",
    "    # grad L\n",
    "    c = np.dot(X.T, np.dot(X, w) - y)\n",
    "    # grad L을 이용하여 w를 수정\n",
    "    w -= eta *c\n",
    "    # w가 변화되는 과정 저장\n",
    "    ws.append(w)\n",
    "    # Loss 계산\n",
    "    L.append( ((np.dot(X, w)-y)**2).sum() / 2 )"
   ]
  },
  {
   "cell_type": "code",
   "execution_count": 10,
   "id": "1e2af8c6",
   "metadata": {},
   "outputs": [
    {
     "data": {
      "image/png": "[encoded data removed]",
      "text/plain": [
       "<Figure size 1080x288 with 2 Axes>"
      ]
     },
     "metadata": {
      "needs_background": "light"
     },
     "output_type": "display_data"
    }
   ],
   "source": [
    "# 시각화\n",
    "\n",
    "X = np.linspace(-1, 7, 100)\n",
    "\n",
    "fig, (ax1, ax2) = plt.subplots(1, 2)\n",
    "fig.set_size_inches((15, 4))\n",
    "\n",
    "ax1.plot(D1[0], D1[1], 'ko', markersize = 8)\n",
    "ax1.plot(x, f(x, w), c = 'b', lw = 1.5, label = 'machine_learning')\n",
    "ax1.set_xlim([-1, 7])\n",
    "ax1.set_ylim([1, 6])\n",
    "ax1.legend(fontsize = 10)\n",
    "\n",
    "ax2.plot(L[:150], '--', c = 'b', label = 'loss')\n",
    "ax2.legend(fontsize = 10)\n",
    "\n",
    "plt.show()"
   ]
  },
  {
   "cell_type": "markdown",
   "id": "299b01c8",
   "metadata": {},
   "source": [
    "### 교재 코드"
   ]
  },
  {
   "cell_type": "code",
   "execution_count": null,
   "id": "f00de52e",
   "metadata": {},
   "outputs": [],
   "source": [
    "# 기본적인 import들\n",
    "# 이후 그래프 그리는 코드에는 중복으로 적지 않음.\n",
    "# 다른 곳으로 그래프 그리는 코드를 복사-붙이기 할 때는 \n",
    "# 이 import 코드와 함께 복사-붙이기 해야함\n",
    "import numpy as np\n",
    "import matplotlib.pyplot as plt\n",
    "import matplotlib as mpl\n",
    "from mpl_toolkits import mplot3d\n",
    "import matplotlib.font_manager as mfm\n",
    "\n",
    "# numpy 출력 형식 지정\n",
    "np.set_printoptions(precision=4, linewidth=150)\n",
    "\n",
    "# matplotlib 스타일 지정\n",
    "mpl.style.use('bmh')\n",
    "mpl.style.use('seaborn-whitegrid')\n",
    "style = plt.style.library['bmh']\n",
    "# 스타일 컬러를 쉽게 쓸 수 있도록 리스트 저장\n",
    "style_colors = [ c['color'] for c in style['axes.prop_cycle'] ]\n",
    "\n",
    "# 그림을 컬러로 출력하고 싶으면 True로 수정\n",
    "g_color = False\n",
    "\n",
    "# 그림을 로컬 폴더에 저장하고 싶으면 True로 수정 \n",
    "file_print = False"
   ]
  },
  {
   "cell_type": "code",
   "execution_count": null,
   "id": "9019f28a",
   "metadata": {},
   "outputs": [],
   "source": [
    "# 데이터 파일 사용을 위한 github repo 복사\n",
    "# !주의! \n",
    "# 구글 colab 환경에서 실행하는 경우만 실행하세요.\n",
    "# 로컬환경에서는 실행하지 마세요.\n",
    "!git clone -l -s https://github.com/metamath1/noviceml.git noviceml"
   ]
  },
  {
   "cell_type": "code",
   "execution_count": null,
   "id": "f11294ab",
   "metadata": {},
   "outputs": [],
   "source": [
    "# 구글 colab 환경일 경우 그래프에 한글 폰트 사용을 위한 설정\n",
    "path = 'noviceml/font/NanumBarunGothic.ttf'\n",
    "fontprop = mfm.FontProperties(fname=path, size=18)\n",
    "\n",
    "# 로컬 환경일 경우 그래프에 한글 폰트 사용을 위한 설정\n",
    "# https://financedata.github.io/posts/matplotlib-hangul-for-ubuntu-linux.html\n",
    "# 아래 코드의 주석 제거 후 경로를 유저 컴퓨터의 폰트 파일 경로로 수정하세요.\n",
    "# path = '/usr/share/fonts/truetype/nanum/NanumBarunGothic.ttf'\n",
    "# fontprop = mfm.FontProperties(fname=path, size=18)"
   ]
  },
  {
   "cell_type": "code",
   "execution_count": null,
   "id": "e62901e2",
   "metadata": {},
   "outputs": [],
   "source": [
    "# 데이터를 두벌 마련합니다.\n",
    "# D1은 앞서 예제로 들었던 최초 점 6개짜리 데이터입니다.\n",
    "# D2는 D1에 제일 왼쪽점 하나가 더 추가된 데이터입니다.\n",
    "D1 = np.array([[1.0, 1.2, 3, 4, 5, 6], [1.7, 3, 2.3, 5.3, 3.8, 5.5]])\n",
    "D2 = np.array([[-0.6, 1.0, 1.2, 3, 4, 5, 6], [2.9, 1.7, 3, 2.3, 5.3, 3.8, 5.5]])"
   ]
  },
  {
   "cell_type": "markdown",
   "id": "d646a940",
   "metadata": {},
   "source": [
    "#### 그림 1-4\n"
   ]
  },
  {
   "cell_type": "code",
   "execution_count": null,
   "id": "a19a2d8a",
   "metadata": {},
   "outputs": [],
   "source": [
    "fig, (ax1, ax2) = plt.subplots(1, 2, sharex=True, sharey=True)\n",
    "fig.set_size_inches((15,6))\n",
    "\n",
    "ax1.xaxis.set_tick_params(labelsize=18)\n",
    "ax1.yaxis.set_tick_params(labelsize=18)\n",
    "ax1.set_xlabel('$x$', fontsize=25)\n",
    "ax1.set_ylabel('$y$', fontsize=25)\n",
    "ax1.grid(False)\n",
    "\n",
    "ax2.xaxis.set_tick_params(labelsize=18)\n",
    "ax2.yaxis.set_tick_params(labelsize=18)\n",
    "ax2.set_xlabel('$x$', fontsize=25)\n",
    "ax2.set_ylabel('$y$', fontsize=25)\n",
    "ax2.grid(False)\n",
    "\n",
    "ax1.plot(D1[0], D1[1], 'ko', markersize=10)\n",
    "ax1.set_xlim([-1,7])\n",
    "ax1.set_ylim([1,6])\n",
    "ax1.set_title('D1', fontsize=18)\n",
    "\n",
    "ax2.plot(D2[0], D2[1], 'ko', markersize=10)\n",
    "ax2.set_xlim([-1,7])\n",
    "ax2.set_ylim([1,6])\n",
    "ax2.set_title('D2', fontsize=18)\n",
    "\n",
    "if file_print == True :\n",
    "    fig.savefig(\"imgs/chap1/fig1-4.png\", dpi=300, bbox_inches='tight')\n",
    "    fig.savefig(\"imgs/chap1/fig1-4.pdf\", format='pdf', bbox_inches='tight')\n",
    "\n",
    "plt.show()"
   ]
  },
  {
   "cell_type": "markdown",
   "id": "1c431f5d",
   "metadata": {},
   "source": [
    "#### 머신 러닝과 more_clever() 비교"
   ]
  },
  {
   "cell_type": "code",
   "execution_count": null,
   "id": "1c478483",
   "metadata": {},
   "outputs": [],
   "source": [
    "def machine_learning(D):\n",
    "    \"\"\"\n",
    "    선형회귀 알고리즘을 사용하여 최적의 직선을 계산합니다.\n",
    "    D : (2,N)의 어레이로 1행에는 데이터의 x좌표\n",
    "        2행에는 데이터의 y좌표가 저장 되어 있습니다.\n",
    "    \"\"\"\n",
    "    # 데이터의 개수를 N에 할당합니다.\n",
    "    N = D.shape[1] \n",
    "    \n",
    "    # 1열에 1, 2열에 데이터의 x좌표를 가지는 행렬을 만듭니다.\n",
    "    # X: (N,2), y: (N,)\n",
    "    X = np.c_[np.ones(N), D[0]]\n",
    "    y = D[1]\n",
    "    \n",
    "    # 앞으로 배울 정규방정식을 풀어서 직선의 계수를 구합니다.\n",
    "    w = np.linalg.solve(np.dot(X.T, X), np.dot(X.T, y))\n",
    "    return w\n",
    "\n",
    "def more_clever(D):\n",
    "    \"\"\"\n",
    "    첫점과 끝점을 연결하는 직선을 계산합니다.\n",
    "    D : (2,N)의 어레이로 1행에는 데이터의 x좌표\n",
    "        2행에는 데이터의 y좌표가 저장 되어 있습니다.\n",
    "    \"\"\"\n",
    "    first, last = D[:,0], D[:,-1]\n",
    "    \n",
    "    w1 = (last[1]-first[1]) / (last[0]-first[0])\n",
    "    w0 = -w1*first[0] + first[1]\n",
    "    \n",
    "    return (w0, w1)\n",
    "    \n",
    "def f(x, w):\n",
    "    \"\"\"\n",
    "    주어진 w를 사용하여 직선 f(x) = w[1]*x + w[0]의 값을 계산합니다.\n",
    "    \"\"\"\n",
    "    return w[1]*x + w[0]"
   ]
  },
  {
   "cell_type": "code",
   "execution_count": null,
   "id": "35b9830c",
   "metadata": {},
   "outputs": [],
   "source": [
    "# D1에 대해서 w[1]*x + w[0]에서 w[0], w[1]을 구합니다. \n",
    "w_ml_d1 = machine_learning(D1)\n",
    "w_mc_d1 = more_clever(D1)\n",
    "\n",
    "# D2에 대해서 w[1]*x + w[0]에서 w[0], w[1]을 구합니다. \n",
    "w_ml_d2 = machine_learning(D2)\n",
    "w_mc_d2 = more_clever(D2)\n",
    "\n",
    "print(w_ml_d1)"
   ]
  },
  {
   "cell_type": "markdown",
   "id": "c3d03f41",
   "metadata": {},
   "source": [
    "#### 그림 1-5"
   ]
  },
  {
   "cell_type": "code",
   "execution_count": null,
   "id": "47745f80",
   "metadata": {},
   "outputs": [],
   "source": [
    "x = np.linspace(-1, 7, 100)\n",
    "\n",
    "fig, (ax1, ax2) = plt.subplots(1, 2, sharex=True, sharey=True)\n",
    "fig.set_size_inches((15,6))\n",
    "\n",
    "ax1.xaxis.set_tick_params(labelsize=18)\n",
    "ax1.yaxis.set_tick_params(labelsize=18)\n",
    "ax1.set_xlabel('$x$', fontsize=25)\n",
    "ax1.set_ylabel('$y$', fontsize=25)\n",
    "ax1.grid(False)\n",
    "\n",
    "ax2.xaxis.set_tick_params(labelsize=18)\n",
    "ax2.yaxis.set_tick_params(labelsize=18)\n",
    "ax2.set_xlabel('$x$', fontsize=25)\n",
    "ax2.set_ylabel('$y$', fontsize=25)\n",
    "ax2.grid(False)\n",
    "\n",
    "ax1.plot(D1[0], D1[1], 'ko', markersize=10)\n",
    "ax1.plot(x, f(x, w_ml_d1), c='k', lw=2, label='machine learning')\n",
    "ax1.plot(x, f(x, w_mc_d1), '--', c='k', lw=2, label='more clever')\n",
    "ax1.set_xlim([-1,7])\n",
    "ax1.set_ylim([1,6])\n",
    "ax1.legend(fontsize=18)\n",
    "\n",
    "ax2.plot(D2[0], D2[1], 'ko', markersize=10)\n",
    "ax2.plot(x, f(x, w_ml_d2), c='k', lw=2, label='machine learning')\n",
    "ax2.plot(x, f(x, w_mc_d2), '--', c='k', lw=2, label='more clever')\n",
    "ax2.set_xlim([-1,7])\n",
    "ax2.set_ylim([1,6])\n",
    "ax2.legend(fontsize=18)\n",
    "\n",
    "# 그림이 저장될 로컬 폴더를 적당히 설정후 실행하세요.\n",
    "if file_print == True :\n",
    "    fig.savefig(\"imgs/chap1/fig1-5.png\", dpi=300, bbox_inches='tight')\n",
    "    fig.savefig(\"imgs/chap1/fig1-5.pdf\", format='pdf', bbox_inches='tight')\n",
    "\n",
    "plt.show()"
   ]
  },
  {
   "cell_type": "markdown",
   "id": "cb5e3dd5",
   "metadata": {},
   "source": [
    "#### 그림 1-7"
   ]
  },
  {
   "cell_type": "code",
   "execution_count": null,
   "id": "11194492",
   "metadata": {},
   "outputs": [],
   "source": [
    "W = np.array([[1.0, 0.3],[3.3, 0.42],[3.0, 0.2],[1.5, 0.6]])\n",
    "\n",
    "fig, ax = plt.subplots(2, 2, sharex='all', sharey='all')\n",
    "fig.set_size_inches((16,13))\n",
    "\n",
    "for j in range(W.shape[0]):\n",
    "    w0, w1 = W[j,0], W[j,1]\n",
    "    y=f(D1[0], [w0, w1])\n",
    "    loss = 0.0\n",
    "    \n",
    "    ax[j // 2, j % 2].xaxis.set_tick_params(labelsize=18)\n",
    "    ax[j // 2, j % 2].yaxis.set_tick_params(labelsize=18)\n",
    "    ax[j // 2, j % 2].set_xlabel('$x$', fontsize=25)\n",
    "    ax[j // 2, j % 2].set_ylabel('$y$', fontsize=25)\n",
    "    ax[j // 2, j % 2].plot(x, f(x, [w0,w1]), c='k', lw=2, label='machine learning')\n",
    "    ax[j // 2, j % 2].grid(False)\n",
    "    \n",
    "    for i in range(len(y)):\n",
    "        loss+=np.abs(D1[1,i]-y[i])\n",
    "        ax[j // 2, j % 2].plot([D1[0,i], D1[0,i]],[D1[1,i], y[i]],'k--')\n",
    "        \n",
    "    ax[j // 2, j % 2].plot(D1[0], D1[1], 'ko', markersize=10)\n",
    "    ax[j // 2, j % 2].set_xlim([-1,7])\n",
    "    ax[j // 2, j % 2].set_ylim([1,6])\n",
    "    ax[j // 2, j % 2].set_title('D1, loss:{:f}'.format(loss), fontsize=18)\n",
    "\n",
    "\n",
    "# Hide x labels and tick labels for top plots and y ticks for right plots.\n",
    "for ax_ in ax.flat:\n",
    "    ax_.label_outer()\n",
    "    \n",
    "plt.subplots_adjust(hspace=0.1, wspace=0.05)\n",
    "\n",
    "# 그림이 저장될 로컬 폴더를 적당히 설정후 실행하세요.\n",
    "if file_print == True :\n",
    "    fig.savefig(\"imgs/chap1/fig1-7.png\", dpi=300, bbox_inches='tight')\n",
    "    fig.savefig(\"imgs/chap1/fig1-7.pdf\", format='pdf', bbox_inches='tight')\n",
    "    \n",
    "plt.show()"
   ]
  },
  {
   "cell_type": "markdown",
   "id": "2c008624",
   "metadata": {},
   "source": [
    "#### 그림 1-8"
   ]
  },
  {
   "cell_type": "code",
   "execution_count": null,
   "id": "717f5ad8",
   "metadata": {},
   "outputs": [],
   "source": [
    "num_iters = 150\n",
    "alpha = 0.02\n",
    "\n",
    "np.random.seed(2)\n",
    "w = np.random.randn(2)\n",
    "N = D1.shape[1] \n",
    "\n",
    "ws, L = [], []\n",
    "\n",
    "# 1열에 1, 2열에 데이터의 x좌표를 가지는 행렬을 만듭니다.\n",
    "# X: (N,2), y: (N,)\n",
    "X = np.c_[np.ones(N), D1[0]]\n",
    "y = D1[1]\n",
    "\n",
    "# 여기서 우리의 경험 E를 반복하면서 태스크 T를 개선해 나간다.\n",
    "for i in range(num_iters) :\n",
    "    # grad L\n",
    "    c = (1/N) * np.dot(X.T, np.dot(X, w) - y) \n",
    "    # 안전장치 grad L을 이용해서 w를 수정한다.\n",
    "    w -= alpha * c \n",
    "    # w가 변화되는 과정을 저장해둔다.\n",
    "    ws.append(w)\n",
    "    \n",
    "    # 손실을 계산한다.\n",
    "    L.append( ((np.dot(X, w) - y)**2).sum()/(2*N) )\n",
    "\n",
    "x = np.linspace(-1, 7, 100)\n",
    "\n",
    "fig, (ax1, ax2) = plt.subplots(1, 2)\n",
    "fig.set_size_inches((15,6))\n",
    "\n",
    "ax1.xaxis.set_tick_params(labelsize=18)\n",
    "ax1.yaxis.set_tick_params(labelsize=18)\n",
    "ax1.set_xlabel('$x$', fontsize=25)\n",
    "ax1.set_ylabel('$y$', fontsize=25)\n",
    "ax1.grid(False)\n",
    "    \n",
    "ax2.xaxis.set_tick_params(labelsize=18)\n",
    "ax2.yaxis.set_tick_params(labelsize=18)\n",
    "ax2.set_xlabel('$x$', fontsize=25)\n",
    "ax2.set_ylabel('$y$', fontsize=25)\n",
    "ax2.grid(False)\n",
    "    \n",
    "ax1.plot(D1[0], D1[1], 'ko', markersize=8)\n",
    "ax1.plot(x, f(x, w), c='k', lw=2, label='machine learning')\n",
    "ax1.set_xlim([-1,7])\n",
    "ax1.set_ylim([1,6])\n",
    "ax1.legend(fontsize=18)\n",
    "\n",
    "ax2.plot(L[:50], '--', c='k', label='loss')\n",
    "ax2.legend(fontsize=18)\n",
    "\n",
    "# 그림이 저장될 로컬 폴더를 적당히 설정후 실행하세요.\n",
    "if file_print == True :\n",
    "    fig.savefig(\"imgs/chap1/fig1-8.png\", dpi=300, bbox_inches='tight')\n",
    "    fig.savefig(\"imgs/chap1/fig1-8.pdf\", format='pdf', bbox_inches='tight')\n",
    "    \n",
    "plt.show()"
   ]
  }
 ],
 "metadata": {
  "kernelspec": {
   "display_name": "Python 3 (ipykernel)",
   "language": "python",
   "name": "python3"
  },
  "language_info": {
   "codemirror_mode": {
    "name": "ipython",
    "version": 3
   },
   "file_extension": ".py",
   "mimetype": "text/x-python",
   "name": "python",
   "nbconvert_exporter": "python",
   "pygments_lexer": "ipython3",
   "version": "3.8.5"
  },
  "toc": {
   "base_numbering": 1,
   "nav_menu": {},
   "number_sections": true,
   "sideBar": true,
   "skip_h1_title": false,
   "title_cell": "Table of Contents",
   "title_sidebar": "Contents",
   "toc_cell": true,
   "toc_position": {},
   "toc_section_display": true,
   "toc_window_display": false
  }
 },
 "nbformat": 4,
 "nbformat_minor": 5
}

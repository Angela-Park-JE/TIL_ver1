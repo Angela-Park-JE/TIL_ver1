{
 "cells": [
  {
   "cell_type": "markdown",
   "id": "661a382c",
   "metadata": {
    "toc": true
   },
   "source": [
    "<h1>Table of Contents<span class=\"tocSkip\"></span></h1>\n",
    "<div class=\"toc\"><ul class=\"toc-item\"><li><span><a href=\"#다항함수\" data-toc-modified-id=\"다항함수-1\"><span class=\"toc-item-num\">1&nbsp;&nbsp;</span>다항함수</a></span><ul class=\"toc-item\"><li><span><a href=\"#그래프-그리기\" data-toc-modified-id=\"그래프-그리기-1.1\"><span class=\"toc-item-num\">1.1&nbsp;&nbsp;</span>그래프 그리기</a></span></li></ul></li></ul></div>"
   ]
  },
  {
   "cell_type": "markdown",
   "id": "d8da048e",
   "metadata": {},
   "source": [
    "## 다항함수\n",
    "\n",
    "### 그래프 그리기"
   ]
  },
  {
   "cell_type": "code",
   "execution_count": 1,
   "id": "cb0fc337",
   "metadata": {},
   "outputs": [],
   "source": [
    "import numpy as np\n",
    "import matplotlib.pyplot as plt\n",
    "import matplotlib as mlp"
   ]
  },
  {
   "cell_type": "code",
   "execution_count": 5,
   "id": "3a4bc05f",
   "metadata": {},
   "outputs": [],
   "source": [
    "\"\"\"교재코드 참조\"\"\"\n",
    "\n",
    "def arrowed_spines(fig, ax, remove_ticks=False):\n",
    "    \"\"\"\n",
    "    좌표축 화살표를 그리기 위한 함수\n",
    "    https://stackoverflow.com/questions/33737736/matplotlib-axis-arrow-tip\n",
    "    \"\"\"\n",
    "    xmin, xmax = ax.get_xlim() \n",
    "    ymin, ymax = ax.get_ylim()\n",
    "\n",
    "    # removing the default axis on all sides:\n",
    "    for side in ['bottom','right','top','left']:\n",
    "        ax.spines[side].set_visible(False)\n",
    "\n",
    "    if remove_ticks == True: \n",
    "        # removing the axis ticks\n",
    "        plt.xticks([]) # labels \n",
    "        plt.yticks([])\n",
    "        ax.xaxis.set_ticks_position('none') # tick markers\n",
    "        ax.yaxis.set_ticks_position('none')\n",
    "\n",
    "    # get width and height of axes object to compute \n",
    "    # matching arrowhead length and width\n",
    "    dps = fig.dpi_scale_trans.inverted()\n",
    "    bbox = ax.get_window_extent().transformed(dps)\n",
    "    width, height = bbox.width, bbox.height\n",
    "\n",
    "    # manual arrowhead width and length\n",
    "    hw = 1./50.*(ymax-ymin) \n",
    "    hl = 1./25.*(xmax-xmin)\n",
    "    lw = 1. # axis line width\n",
    "    ohg = 0.4 # arrow overhang\n",
    "\n",
    "    # compute matching arrowhead length and width\n",
    "    yhw = hw/(ymax-ymin)*(xmax-xmin)* height/width \n",
    "    yhl = hl/(xmax-xmin)*(ymax-ymin)* width/height\n",
    "\n",
    "    # draw x and y axis\n",
    "    ax.arrow(xmin, 0, xmax-xmin, 0., fc='k', ec='k', lw = lw, \n",
    "             head_width=hw, head_length=hl, #overhang = ohg, \n",
    "             length_includes_head= True, clip_on = False) \n",
    "\n",
    "    ax.arrow(0, ymin, 0., ymax-ymin, fc='k', ec='k', lw = lw, \n",
    "             head_width=yhw, head_length=yhl, #overhang = ohg, \n",
    "             length_includes_head= True, clip_on = False)"
   ]
  },
  {
   "cell_type": "code",
   "execution_count": 7,
   "id": "a4a66d7f",
   "metadata": {},
   "outputs": [
    {
     "data": {
      "image/png": "[encoded data removed]",
      "text/plain": [
       "<Figure size 576x432 with 1 Axes>"
      ]
     },
     "metadata": {},
     "output_type": "display_data"
    }
   ],
   "source": [
    "mlp.style.use('bmh')\n",
    "mlp.style.use('seaborn-whitegrid')\n",
    "\n",
    "fig = plt.figure(figsize=(8, 6))\n",
    "ax = fig.add_subplot(1, 1, 1)  # 좌표축 생성\n",
    "\n",
    "ax.xaxis.set_tick_params(labelsize = 10)\n",
    "ax.yaxis.set_tick_params(labelsize = 10)\n",
    "plt.xlabel('$x$', fontsize = 12)\n",
    "plt.ylabel('$y$', fontsize = 12)\n",
    "\n",
    "# graph data set\n",
    "x = np.linspace(-3, 2, 10)\n",
    "y = 2*x + 4\n",
    "ax.plot(x, y, c = 'k')\n",
    "\n",
    "arrowed_spines(fig, ax)  # 좌표 화살표 그리는 함수\n",
    "\n",
    "plt.show()"
   ]
  },
  {
   "cell_type": "code",
   "execution_count": null,
   "id": "200ce9ad",
   "metadata": {},
   "outputs": [],
   "source": []
  }
 ],
 "metadata": {
  "kernelspec": {
   "display_name": "Python 3 (ipykernel)",
   "language": "python",
   "name": "python3"
  },
  "language_info": {
   "codemirror_mode": {
    "name": "ipython",
    "version": 3
   },
   "file_extension": ".py",
   "mimetype": "text/x-python",
   "name": "python",
   "nbconvert_exporter": "python",
   "pygments_lexer": "ipython3",
   "version": "3.8.5"
  },
  "toc": {
   "base_numbering": 1,
   "nav_menu": {},
   "number_sections": true,
   "sideBar": true,
   "skip_h1_title": false,
   "title_cell": "Table of Contents",
   "title_sidebar": "Contents",
   "toc_cell": true,
   "toc_position": {},
   "toc_section_display": true,
   "toc_window_display": false
  }
 },
 "nbformat": 4,
 "nbformat_minor": 5
}
